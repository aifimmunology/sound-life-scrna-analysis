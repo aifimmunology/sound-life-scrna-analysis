{
 "cells": [
  {
   "cell_type": "code",
   "execution_count": 22,
   "id": "45f10291-1a34-424e-b110-9b4ffc44e36d",
   "metadata": {
    "collapsed": true,
    "jupyter": {
     "outputs_hidden": true
    },
    "tags": []
   },
   "outputs": [
    {
     "name": "stderr",
     "output_type": "stream",
     "text": [
      "Loading required package: AnnotationDbi\n",
      "\n",
      "Loading required package: stats4\n",
      "\n",
      "Loading required package: BiocGenerics\n",
      "\n",
      "\n",
      "Attaching package: ‘BiocGenerics’\n",
      "\n",
      "\n",
      "The following objects are masked from ‘package:stats’:\n",
      "\n",
      "    IQR, mad, sd, var, xtabs\n",
      "\n",
      "\n",
      "The following objects are masked from ‘package:base’:\n",
      "\n",
      "    anyDuplicated, aperm, append, as.data.frame, basename, cbind,\n",
      "    colnames, dirname, do.call, duplicated, eval, evalq, Filter, Find,\n",
      "    get, grep, grepl, intersect, is.unsorted, lapply, Map, mapply,\n",
      "    match, mget, order, paste, pmax, pmax.int, pmin, pmin.int,\n",
      "    Position, rank, rbind, Reduce, rownames, sapply, setdiff, sort,\n",
      "    table, tapply, union, unique, unsplit, which.max, which.min\n",
      "\n",
      "\n",
      "Loading required package: Biobase\n",
      "\n",
      "Welcome to Bioconductor\n",
      "\n",
      "    Vignettes contain introductory material; view with\n",
      "    'browseVignettes()'. To cite Bioconductor, see\n",
      "    'citation(\"Biobase\")', and for packages 'citation(\"pkgname\")'.\n",
      "\n",
      "\n",
      "Loading required package: IRanges\n",
      "\n",
      "Loading required package: S4Vectors\n",
      "\n",
      "\n",
      "Attaching package: ‘S4Vectors’\n",
      "\n",
      "\n",
      "The following object is masked from ‘package:utils’:\n",
      "\n",
      "    findMatches\n",
      "\n",
      "\n",
      "The following objects are masked from ‘package:base’:\n",
      "\n",
      "    expand.grid, I, unname\n",
      "\n",
      "\n",
      "\n",
      "\n"
     ]
    }
   ],
   "source": [
    "library(gage)\n",
    "library(org.Hs.eg.db)"
   ]
  },
  {
   "cell_type": "code",
   "execution_count": 8,
   "id": "46f2871b-2fc9-4188-ab2e-06092f991f01",
   "metadata": {
    "tags": []
   },
   "outputs": [],
   "source": [
    "kg.hsa=kegg.gsets()"
   ]
  },
  {
   "cell_type": "code",
   "execution_count": 10,
   "id": "fe934ae3-ebee-4aa6-8502-a32ef32751a7",
   "metadata": {},
   "outputs": [],
   "source": [
    "kegg.sigmet=kg.hsa$kg.sets[kg.hsa$sigmet.idx]"
   ]
  },
  {
   "cell_type": "code",
   "execution_count": 21,
   "id": "78cb5309-d14b-4356-b5ef-68394d7eff97",
   "metadata": {
    "tags": []
   },
   "outputs": [
    {
     "data": {
      "text/html": [
       "'list'"
      ],
      "text/latex": [
       "'list'"
      ],
      "text/markdown": [
       "'list'"
      ],
      "text/plain": [
       "[1] \"list\""
      ]
     },
     "metadata": {},
     "output_type": "display_data"
    }
   ],
   "source": [
    "class(kegg.sigmet)"
   ]
  },
  {
   "cell_type": "code",
   "execution_count": 29,
   "id": "6b615377-0c4d-45af-aa6b-af267ad4da36",
   "metadata": {
    "tags": []
   },
   "outputs": [],
   "source": [
    "# Function to convert Entrez IDs to Gene Symbols\n",
    "convert_ids_to_symbols <- function(entrez_ids) {\n",
    "  gene_symbols <- unlist(mget(entrez_ids, org.Hs.egSYMBOL, ifnotfound = NA))\n",
    "  return(gene_symbols)\n",
    "}\n",
    "\n",
    "# Function to remove the first word from each pathway name\n",
    "remove_first_word <- function(name) {\n",
    "  sapply(strsplit(name, \" \"), function(x) paste(x[-1], collapse = \" \"))\n",
    "}\n",
    "\n",
    "# Removing the first word from each pathway name\n",
    "names(kegg.sigmet) <- remove_first_word(names(kegg.sigmet))"
   ]
  },
  {
   "cell_type": "code",
   "execution_count": 30,
   "id": "b70f11bb-d22c-42a5-882a-346dc610c985",
   "metadata": {
    "tags": []
   },
   "outputs": [],
   "source": [
    "# Applying the conversion to each pathway\n",
    "kegg.sigmet.symbols <- lapply(kegg.sigmet, convert_ids_to_symbols)"
   ]
  },
  {
   "cell_type": "code",
   "execution_count": 31,
   "id": "0e62073d-fa47-45f5-823e-df062721fd97",
   "metadata": {
    "tags": []
   },
   "outputs": [],
   "source": [
    "# Format and write to GMT file\n",
    "write_gmt <- function(pathways, filename) {\n",
    "  con <- file(filename, \"w\")\n",
    "  for (pathway in names(pathways)) {\n",
    "    gene_symbols <- pathways[[pathway]]\n",
    "    # Remove NA values\n",
    "    gene_symbols <- gene_symbols[!is.na(gene_symbols)]\n",
    "    line <- c(pathway, pathway, gene_symbols)\n",
    "    write(paste(line, collapse = \"\\t\"), con)\n",
    "  }\n",
    "  close(con)\n",
    "}\n",
    "\n",
    "# Write to GMT file\n",
    "write_gmt(kegg.sigmet.symbols, \"/home/jupyter/formal_BRIanalysis/kegg_pathways.gmt\")"
   ]
  }
 ],
 "metadata": {
  "kernelspec": {
   "display_name": "R 4",
   "language": "R",
   "name": "ir4"
  },
  "language_info": {
   "codemirror_mode": "r",
   "file_extension": ".r",
   "mimetype": "text/x-r-source",
   "name": "R",
   "pygments_lexer": "r",
   "version": "4.3.1"
  }
 },
 "nbformat": 4,
 "nbformat_minor": 5
}
