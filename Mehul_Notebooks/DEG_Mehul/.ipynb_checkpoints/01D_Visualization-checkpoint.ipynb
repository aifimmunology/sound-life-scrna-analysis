{
 "cells": [
  {
   "cell_type": "code",
   "execution_count": 1,
   "id": "f6ec4626-bb67-4a3a-883c-13ceb7eba08a",
   "metadata": {
    "collapsed": true,
    "jupyter": {
     "outputs_hidden": true
    },
    "tags": []
   },
   "outputs": [
    {
     "name": "stderr",
     "output_type": "stream",
     "text": [
      "Updating HTML index of packages in '.Library'\n",
      "\n",
      "Making 'packages.html' ...\n",
      " done\n",
      "\n",
      "Downloading GitHub repo YuLab-SMU/aplot@HEAD\n",
      "\n"
     ]
    },
    {
     "name": "stdout",
     "output_type": "stream",
     "text": [
      "yulab.utils  (NA    -> 0.1.4) [CRAN]\n",
      "gridGraphics (NA    -> 0.5-1) [CRAN]\n",
      "patchwork    (1.1.3 -> 1.2.0) [CRAN]\n",
      "ggplotify    (NA    -> 0.1.2) [CRAN]\n",
      "ggfun        (NA    -> 0.1.4) [CRAN]\n"
     ]
    },
    {
     "name": "stderr",
     "output_type": "stream",
     "text": [
      "Installing 5 packages: yulab.utils, gridGraphics, patchwork, ggplotify, ggfun\n",
      "\n",
      "Updating HTML index of packages in '.Library'\n",
      "\n",
      "Making 'packages.html' ...\n",
      " done\n",
      "\n"
     ]
    },
    {
     "name": "stdout",
     "output_type": "stream",
     "text": [
      "\u001b[36m──\u001b[39m \u001b[36mR CMD build\u001b[39m \u001b[36m─────────────────────────────────────────────────────────────────\u001b[39m\n",
      "\u001b[32m✔\u001b[39m  \u001b[90mchecking for file ‘/tmp/RtmpcE2ajX/remotes18d2536052bd2/YuLab-SMU-aplot-c66574a/DESCRIPTION’\u001b[39m\u001b[36m\u001b[39m\n",
      "\u001b[90m─\u001b[39m\u001b[90m  \u001b[39m\u001b[90mpreparing ‘aplot’:\u001b[39m\u001b[36m\u001b[39m\n",
      "\u001b[32m✔\u001b[39m  \u001b[90mchecking DESCRIPTION meta-information\u001b[39m\u001b[36m\u001b[39m\n",
      "\u001b[90m─\u001b[39m\u001b[90m  \u001b[39m\u001b[90mchecking for LF line-endings in source and make files and shell scripts\u001b[39m\u001b[36m\u001b[39m\n",
      "\u001b[90m─\u001b[39m\u001b[90m  \u001b[39m\u001b[90mchecking for empty or unneeded directories\u001b[39m\u001b[36m\u001b[39m\n",
      "\u001b[90m─\u001b[39m\u001b[90m  \u001b[39m\u001b[90mbuilding ‘aplot_0.2.2.tar.gz’\u001b[39m\u001b[36m\u001b[39m\n",
      "   \n",
      "\r"
     ]
    }
   ],
   "source": [
    "install.packages(\"remotes\")\n",
    "remotes::install_github(\"YuLab-SMU/aplot\")"
   ]
  },
  {
   "cell_type": "code",
   "execution_count": 191,
   "id": "e8531934-4fde-4568-bb55-b7bb36122397",
   "metadata": {
    "tags": []
   },
   "outputs": [],
   "source": [
    "suppressPackageStartupMessages(library(dplyr))\n",
    "suppressPackageStartupMessages(library(tidyr))\n",
    "suppressPackageStartupMessages(library(tibble))\n",
    "suppressPackageStartupMessages(library(ggplot2))\n",
    "suppressPackageStartupMessages(library(ggrepel))\n",
    "suppressPackageStartupMessages(library(patchwork))\n",
    "library(parallel)\n",
    "library(data.table)\n",
    "library(cowplot)\n",
    "library(ggsci)\n",
    "library(aplot)\n",
    "library(zip)\n",
    "\n",
    "options(warn=-1)"
   ]
  },
  {
   "cell_type": "code",
   "execution_count": 212,
   "id": "5d82b673-6b61-4f60-b8af-12d324888558",
   "metadata": {
    "tags": []
   },
   "outputs": [],
   "source": [
    "file_list<-list.files(path = paste0(\"/home/jupyter/formal_BRIanalysis/DEG_Mehul/DESeq1_Immvar\"), pattern = \".csv\", all.files = FALSE,\n",
    "           full.names = TRUE, recursive = FALSE,\n",
    "           ignore.case = FALSE, include.dirs = TRUE, no.. = FALSE)"
   ]
  },
  {
   "cell_type": "markdown",
   "id": "0b78fb06-267c-4f17-9944-c3f10ea806d2",
   "metadata": {
    "tags": []
   },
   "source": [
    "## file_list"
   ]
  },
  {
   "cell_type": "code",
   "execution_count": 213,
   "id": "e702103f-0d7b-413d-b18f-f313d14d47ce",
   "metadata": {
    "tags": []
   },
   "outputs": [],
   "source": [
    "DEG_list<-mclapply(file_list,read.csv,mc.cores=length(file_list))\n",
    "DEG<-do.call(rbind,DEG_list)"
   ]
  },
  {
   "cell_type": "code",
   "execution_count": 214,
   "id": "f6f85c9d-7e8e-4cfe-ab48-d76d272640c4",
   "metadata": {
    "tags": []
   },
   "outputs": [],
   "source": [
    "DEG<- DEG%>% mutate(Expression = case_when(log2FoldChange >=0.1 & padj <= 0.1 ~ \"Up-regulated\",\n",
    "                                                     log2FoldChange <= -0.1 & padj <= 0.1 ~ \"Down-regulated\",\n",
    "                                                     TRUE ~ \"Unchanged\"))"
   ]
  },
  {
   "cell_type": "code",
   "execution_count": 215,
   "id": "93e4bb21-0cd1-4b35-b726-68a4d8bf1e0c",
   "metadata": {
    "tags": []
   },
   "outputs": [],
   "source": [
    "DEG<-DEG %>% filter(Year=='Immvar')"
   ]
  },
  {
   "cell_type": "code",
   "execution_count": 217,
   "id": "c0390b79-420b-43c3-ac7e-93ab0b0da9a6",
   "metadata": {
    "tags": []
   },
   "outputs": [],
   "source": [
    "DEG1 <- DEG %>% \n",
    "  mutate(Expression = case_when(\n",
    "    log2FoldChange >= 0.1 & padj <= 0.1 ~ \"Up-regulated-Day0\",\n",
    "    log2FoldChange <= -0.1 & padj <= 0.1 ~ \"Down-regulated-Day0\",\n",
    "    TRUE ~ \"Unchanged\"\n",
    "  ))"
   ]
  },
  {
   "cell_type": "code",
   "execution_count": 218,
   "id": "e53e92c3-ac43-489b-ab9a-b93cf8f9e95a",
   "metadata": {
    "tags": []
   },
   "outputs": [],
   "source": [
    "DEG_filtered <- DEG1 %>% \n",
    "  filter(Expression != \"Unchanged\")"
   ]
  },
  {
   "cell_type": "code",
   "execution_count": 198,
   "id": "b2d6194d-9e9d-4889-9270-92da70ed044c",
   "metadata": {
    "tags": []
   },
   "outputs": [],
   "source": [
    "#df <- DEG\n",
    "# Split the data frame based on 'celltype'\n",
    "#list_dfs <- split(df, df$celltype)\n",
    "# Loop through each split data frame\n",
    "#for (celltype in names(list_dfs)) {\n",
    "  # Order the data frame by 'padj'\n",
    "#  ordered_df <- list_dfs[[celltype]] %>%\n",
    "#                arrange(padj)\n",
    "  # Create the file name\n",
    "#  file_name <- paste(\"/home/jupyter/formal_BRIanalysis/DEG_Mehul/Sex_yr1_day0_deg_list/\", \n",
    "#                     celltype, \".csv\", sep = \"\")\n",
    "  # Write to CSV\n",
    "#  write.csv(ordered_df, file_name, row.names = FALSE)\n",
    "#}"
   ]
  },
  {
   "cell_type": "code",
   "execution_count": 199,
   "id": "a50056f7-d501-45f0-ad3b-5138fce8a1de",
   "metadata": {
    "tags": []
   },
   "outputs": [],
   "source": [
    "#zipfile <- \"/home/jupyter/formal_BRIanalysis/DEG_Mehul/folder.zip\"\n",
    "#folder <- \"/home/jupyter/formal_BRIanalysis/DEG_Mehul/Sex_yr1_day0_deg_list\"\n",
    "#zip(zipfile, files = folder)"
   ]
  },
  {
   "cell_type": "code",
   "execution_count": 221,
   "id": "73257638-93ba-459a-b48f-626822805511",
   "metadata": {
    "tags": []
   },
   "outputs": [],
   "source": [
    "freq <- aggregate(cbind(count = celltype) ~ celltype + Expression, data = DEG_filtered, FUN = length)"
   ]
  },
  {
   "cell_type": "code",
   "execution_count": 222,
   "id": "d573d27d-b63b-434a-b4a2-2d38ee3e81cc",
   "metadata": {
    "tags": []
   },
   "outputs": [],
   "source": [
    "freq <- freq %>%\n",
    "  mutate(count = ifelse(Expression == \"Down-regulated-Day0\", -1 * count, count))"
   ]
  },
  {
   "cell_type": "code",
   "execution_count": 223,
   "id": "784b7370-aedb-4617-8476-1d59e6b240b5",
   "metadata": {
    "tags": []
   },
   "outputs": [],
   "source": [
    "#ERROR PRONE. Couldn't figure out why\n",
    "#freq <- DEG %>% mutate(Expression = case_when(log2FoldChange >=0.1 & padj <= 0.1 ~ \"Up-regulated-D0\",\n",
    "#                                                     log2FoldChange <= -0.1 & padj <= 0.1 ~ \"Down-regulated-D0\",\n",
    "#                                                     TRUE ~ \"Unchanged\")) %>% filter(!Expression=='Unchanged')%>%\n",
    "#  group_by(celltype, Expression) %>%\n",
    "#  summarise(count = n())\n",
    "#freq<-freq %>% mutate (count=case_when(Expression==\"Down-regulated-D0\"~-count,TRUE~count))"
   ]
  },
  {
   "cell_type": "code",
   "execution_count": 224,
   "id": "63b317cc-4612-429c-b53a-0033d3867412",
   "metadata": {
    "tags": []
   },
   "outputs": [],
   "source": [
    "orders<-freq\n",
    "orders$count<-abs(orders$count)\n",
    "orders<-orders%>%\n",
    "  group_by(celltype) %>%\n",
    "  summarize(value = sum(count))%>%arrange(desc(value)) %>% select (celltype) %>% pull()"
   ]
  },
  {
   "cell_type": "code",
   "execution_count": 225,
   "id": "ce1d5761-bcf0-42b6-b37a-c8b95bda3bf5",
   "metadata": {
    "tags": []
   },
   "outputs": [],
   "source": [
    "options(repr.plot.width = 10, repr.plot.height = 5)\n",
    "#orders<-unique(freq %>% arrange(desc(count)) %>% select (celltype) %>% pull())\n",
    "freq$celltype<-factor(freq$celltype,levels=orders)\n",
    "p1<-ggplot(freq, aes(x = celltype, y = count, fill = Expression)) +\n",
    "  geom_bar(stat = \"identity\", position = \"identity\") +theme_bw(base_size=12)+  scale_fill_aaas()+\n",
    "  labs(x = \"celltype\", y = \"DEG_Counts\") +  theme(axis.text.x = element_text(angle = 90, hjust = 1, vjust = 0.5, size = 15)) +\n",
    "  guides(fill = guide_legend(reverse = TRUE))"
   ]
  },
  {
   "cell_type": "code",
   "execution_count": 226,
   "id": "7ac3847d-9920-4bcf-92bf-2a7aec5bb433",
   "metadata": {
    "tags": []
   },
   "outputs": [
    {
     "data": {
      "image/png": "[encoded data removed]",
      "text/plain": [
       "plot without title"
      ]
     },
     "metadata": {
      "image/png": {
       "height": 300,
       "width": 600
      }
     },
     "output_type": "display_data"
    }
   ],
   "source": [
    "p1"
   ]
  },
  {
   "cell_type": "code",
   "execution_count": 227,
   "id": "9ef38955-df6b-41f3-951d-8098c7709419",
   "metadata": {
    "tags": []
   },
   "outputs": [],
   "source": [
    "total_gene <- DEG  %>%\n",
    "  group_by(celltype) %>%\n",
    "  summarise(count = n())\n",
    "total_gene$celltype<-factor(total_gene$celltype,levels=orders)"
   ]
  },
  {
   "cell_type": "code",
   "execution_count": 228,
   "id": "92001a90-ae64-4a59-b883-37a723253404",
   "metadata": {
    "tags": []
   },
   "outputs": [],
   "source": [
    "p2<-ggplot(total_gene, aes(x = celltype, y = count)) +\n",
    "  geom_bar(stat = \"identity\", position = \"identity\") +\n",
    "  labs(x = \"celltype\", y = \"Total_Genes_Expressed\")+theme_bw(base_size=12)+\n",
    "  theme(axis.title.x=element_blank(),\n",
    "        axis.text.x=element_blank(),\n",
    "        axis.ticks.x=element_blank())+ylab('N_Genes')"
   ]
  },
  {
   "cell_type": "code",
   "execution_count": 229,
   "id": "24ec2b91-9f69-44a1-9b37-6cc653e005c8",
   "metadata": {
    "tags": []
   },
   "outputs": [
    {
     "data": {
      "image/png": "[encoded data removed]",
      "text/plain": [
       "plot without title"
      ]
     },
     "metadata": {
      "image/png": {
       "height": 300,
       "width": 600
      }
     },
     "output_type": "display_data"
    }
   ],
   "source": [
    "p2"
   ]
  },
  {
   "cell_type": "code",
   "execution_count": 231,
   "id": "465c61f6-9630-4ed0-ba66-70339b1c936f",
   "metadata": {
    "tags": []
   },
   "outputs": [
    {
     "data": {
      "text/html": [
       "<strong>png:</strong> 2"
      ],
      "text/latex": [
       "\\textbf{png:} 2"
      ],
      "text/markdown": [
       "**png:** 2"
      ],
      "text/plain": [
       "png \n",
       "  2 "
      ]
     },
     "metadata": {},
     "output_type": "display_data"
    }
   ],
   "source": [
    "#PNG\n",
    "png(\"/home/jupyter/formal_BRIanalysis/DEG_Mehul/Immvar_Day0_Day7.png\", width = 1000, height = 500)\n",
    "\n",
    "options(repr.plot.width = 16, repr.plot.height = 8)\n",
    "\n",
    "p3<-p1 %>% insert_top(p2,height=0.7)\n",
    "\n",
    "p3\n",
    "\n",
    "dev.off()"
   ]
  },
  {
   "cell_type": "code",
   "execution_count": null,
   "id": "2cc08abe-f94b-477f-9a7a-7a81a6e5f92f",
   "metadata": {},
   "outputs": [],
   "source": []
  }
 ],
 "metadata": {
  "kernelspec": {
   "display_name": "R 4",
   "language": "R",
   "name": "ir4"
  },
  "language_info": {
   "codemirror_mode": "r",
   "file_extension": ".r",
   "mimetype": "text/x-r-source",
   "name": "R",
   "pygments_lexer": "r",
   "version": "4.3.1"
  }
 },
 "nbformat": 4,
 "nbformat_minor": 5
}
