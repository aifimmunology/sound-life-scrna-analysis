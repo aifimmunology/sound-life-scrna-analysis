{
 "cells": [
  {
   "cell_type": "code",
   "execution_count": 77,
   "id": "f6ec4626-bb67-4a3a-883c-13ceb7eba08a",
   "metadata": {
    "collapsed": true,
    "jupyter": {
     "outputs_hidden": true
    },
    "tags": []
   },
   "outputs": [
    {
     "name": "stderr",
     "output_type": "stream",
     "text": [
      "Updating HTML index of packages in '.Library'\n",
      "\n",
      "Making 'packages.html' ...\n",
      " done\n",
      "\n",
      "Skipping install of 'aplot' from a github remote, the SHA1 (c66574aa) has not changed since last install.\n",
      "  Use `force = TRUE` to force installation\n",
      "\n"
     ]
    }
   ],
   "source": [
    "install.packages(\"remotes\")\n",
    "remotes::install_github(\"YuLab-SMU/aplot\")"
   ]
  },
  {
   "cell_type": "code",
   "execution_count": 78,
   "id": "e8531934-4fde-4568-bb55-b7bb36122397",
   "metadata": {
    "collapsed": true,
    "jupyter": {
     "outputs_hidden": true
    },
    "tags": []
   },
   "outputs": [],
   "source": [
    "suppressPackageStartupMessages(library(dplyr))\n",
    "suppressPackageStartupMessages(library(tidyr))\n",
    "suppressPackageStartupMessages(library(tibble))\n",
    "suppressPackageStartupMessages(library(ggplot2))\n",
    "suppressPackageStartupMessages(library(ggrepel))\n",
    "suppressPackageStartupMessages(library(patchwork))\n",
    "library(parallel)\n",
    "library(data.table)\n",
    "library(cowplot)\n",
    "library(ggsci)\n",
    "library(aplot)\n",
    "library(zip)\n",
    "\n",
    "options(warn=-1)"
   ]
  },
  {
   "cell_type": "code",
   "execution_count": 62,
   "id": "5d82b673-6b61-4f60-b8af-12d324888558",
   "metadata": {
    "tags": []
   },
   "outputs": [],
   "source": [
    "file_list<-list.files(path = paste0(\"/home/jupyter/formal_BRIanalysis/DEG_Mehul/DESeq2_D0_VS_D7_L3_BR2\"), pattern = \".csv\", all.files = FALSE,\n",
    "           full.names = TRUE, recursive = FALSE,\n",
    "           ignore.case = FALSE, include.dirs = TRUE, no.. = FALSE)"
   ]
  },
  {
   "cell_type": "markdown",
   "id": "0b78fb06-267c-4f17-9944-c3f10ea806d2",
   "metadata": {
    "tags": []
   },
   "source": [
    "## file_list"
   ]
  },
  {
   "cell_type": "code",
   "execution_count": 63,
   "id": "e702103f-0d7b-413d-b18f-f313d14d47ce",
   "metadata": {
    "tags": []
   },
   "outputs": [],
   "source": [
    "DEG_list<-mclapply(file_list,read.csv,mc.cores=length(file_list))\n",
    "DEG<-do.call(rbind,DEG_list)"
   ]
  },
  {
   "cell_type": "code",
   "execution_count": 64,
   "id": "f6f85c9d-7e8e-4cfe-ab48-d76d272640c4",
   "metadata": {
    "tags": []
   },
   "outputs": [],
   "source": [
    "DEG<- DEG%>% mutate(Expression = case_when(log2FoldChange >=0.1 & padj <= 0.1 ~ \"Up-regulated\",\n",
    "                                                     log2FoldChange <= -0.1 & padj <= 0.1 ~ \"Down-regulated\",\n",
    "                                                     TRUE ~ \"Unchanged\"))"
   ]
  },
  {
   "cell_type": "code",
   "execution_count": 65,
   "id": "93e4bb21-0cd1-4b35-b726-68a4d8bf1e0c",
   "metadata": {
    "tags": []
   },
   "outputs": [],
   "source": [
    "DEG<-DEG %>% filter(Year=='Y1')"
   ]
  },
  {
   "cell_type": "code",
   "execution_count": 66,
   "id": "c0390b79-420b-43c3-ac7e-93ab0b0da9a6",
   "metadata": {
    "tags": []
   },
   "outputs": [],
   "source": [
    "DEG1 <- DEG %>% \n",
    "  mutate(Expression = case_when(\n",
    "    log2FoldChange >= 0.1 & padj <= 0.1 ~ \"Up-regulated-Day0\",\n",
    "    log2FoldChange <= -0.1 & padj <= 0.1 ~ \"Down-regulated-Day0\",\n",
    "    TRUE ~ \"Unchanged\"\n",
    "  ))"
   ]
  },
  {
   "cell_type": "code",
   "execution_count": 67,
   "id": "e53e92c3-ac43-489b-ab9a-b93cf8f9e95a",
   "metadata": {
    "tags": []
   },
   "outputs": [],
   "source": [
    "DEG_filtered <- DEG1 %>% \n",
    "  filter(Expression != \"Unchanged\")"
   ]
  },
  {
   "cell_type": "code",
   "execution_count": 68,
   "id": "b2d6194d-9e9d-4889-9270-92da70ed044c",
   "metadata": {
    "tags": []
   },
   "outputs": [],
   "source": [
    "#df <- DEG\n",
    "# Split the data frame based on 'celltype'\n",
    "#list_dfs <- split(df, df$celltype)\n",
    "# Loop through each split data frame\n",
    "#for (celltype in names(list_dfs)) {\n",
    "  # Order the data frame by 'padj'\n",
    "#  ordered_df <- list_dfs[[celltype]] %>%\n",
    "#                arrange(padj)\n",
    "  # Create the file name\n",
    "#  file_name <- paste(\"/home/jupyter/formal_BRIanalysis/DEG_Mehul/Sex_yr1_day0_deg_list/\", \n",
    "#                     celltype, \".csv\", sep = \"\")\n",
    "  # Write to CSV\n",
    "#  write.csv(ordered_df, file_name, row.names = FALSE)\n",
    "#}"
   ]
  },
  {
   "cell_type": "code",
   "execution_count": 69,
   "id": "a50056f7-d501-45f0-ad3b-5138fce8a1de",
   "metadata": {
    "tags": []
   },
   "outputs": [],
   "source": [
    "#zipfile <- \"/home/jupyter/formal_BRIanalysis/DEG_Mehul/folder.zip\"\n",
    "#folder <- \"/home/jupyter/formal_BRIanalysis/DEG_Mehul/Sex_yr1_day0_deg_list\"\n",
    "#zip(zipfile, files = folder)"
   ]
  },
  {
   "cell_type": "code",
   "execution_count": 70,
   "id": "73257638-93ba-459a-b48f-626822805511",
   "metadata": {
    "tags": []
   },
   "outputs": [],
   "source": [
    "freq <- aggregate(cbind(count = celltype) ~ celltype + Expression, data = DEG_filtered, FUN = length)"
   ]
  },
  {
   "cell_type": "code",
   "execution_count": 71,
   "id": "d573d27d-b63b-434a-b4a2-2d38ee3e81cc",
   "metadata": {
    "tags": []
   },
   "outputs": [],
   "source": [
    "freq <- freq %>%\n",
    "  mutate(count = ifelse(Expression == \"Down-regulated-Day0\", -1 * count, count))"
   ]
  },
  {
   "cell_type": "code",
   "execution_count": 72,
   "id": "784b7370-aedb-4617-8476-1d59e6b240b5",
   "metadata": {
    "tags": []
   },
   "outputs": [],
   "source": [
    "#ERROR PRONE. Couldn't figure out why\n",
    "#freq <- DEG %>% mutate(Expression = case_when(log2FoldChange >=0.1 & padj <= 0.1 ~ \"Up-regulated-D0\",\n",
    "#                                                     log2FoldChange <= -0.1 & padj <= 0.1 ~ \"Down-regulated-D0\",\n",
    "#                                                     TRUE ~ \"Unchanged\")) %>% filter(!Expression=='Unchanged')%>%\n",
    "#  group_by(celltype, Expression) %>%\n",
    "#  summarise(count = n())\n",
    "#freq<-freq %>% mutate (count=case_when(Expression==\"Down-regulated-D0\"~-count,TRUE~count))"
   ]
  },
  {
   "cell_type": "code",
   "execution_count": 73,
   "id": "63b317cc-4612-429c-b53a-0033d3867412",
   "metadata": {
    "tags": []
   },
   "outputs": [],
   "source": [
    "orders<-freq\n",
    "orders$count<-abs(orders$count)\n",
    "orders<-orders%>%\n",
    "  group_by(celltype) %>%\n",
    "  summarize(value = sum(count))%>%arrange(desc(value)) %>% select (celltype) %>% pull()"
   ]
  },
  {
   "cell_type": "code",
   "execution_count": 74,
   "id": "488a64e4-885d-4269-8381-c5a9ea669d91",
   "metadata": {
    "tags": []
   },
   "outputs": [
    {
     "data": {
      "text/html": [
       "<table class=\"dataframe\">\n",
       "<caption>A data.frame: 9 × 3</caption>\n",
       "<thead>\n",
       "\t<tr><th scope=col>celltype</th><th scope=col>Expression</th><th scope=col>count</th></tr>\n",
       "\t<tr><th scope=col>&lt;chr&gt;</th><th scope=col>&lt;chr&gt;</th><th scope=col>&lt;dbl&gt;</th></tr>\n",
       "</thead>\n",
       "<tbody>\n",
       "\t<tr><td>CD27- effector B cell    </td><td>Down-regulated-Day0</td><td>  -1</td></tr>\n",
       "\t<tr><td>CD27+ effector B cell    </td><td>Down-regulated-Day0</td><td>  -7</td></tr>\n",
       "\t<tr><td>CD95 memory B cell       </td><td>Down-regulated-Day0</td><td> -29</td></tr>\n",
       "\t<tr><td>Core naive B cell        </td><td>Down-regulated-Day0</td><td>  -1</td></tr>\n",
       "\t<tr><td>GZMK+ CD27+ EM CD8 T cell</td><td>Down-regulated-Day0</td><td>  -1</td></tr>\n",
       "\t<tr><td>Plasma cell              </td><td>Down-regulated-Day0</td><td>-162</td></tr>\n",
       "\t<tr><td>CD27+ effector B cell    </td><td>Up-regulated-Day0  </td><td>  31</td></tr>\n",
       "\t<tr><td>CD95 memory B cell       </td><td>Up-regulated-Day0  </td><td>   9</td></tr>\n",
       "\t<tr><td>Plasma cell              </td><td>Up-regulated-Day0  </td><td> 190</td></tr>\n",
       "</tbody>\n",
       "</table>\n"
      ],
      "text/latex": [
       "A data.frame: 9 × 3\n",
       "\\begin{tabular}{lll}\n",
       " celltype & Expression & count\\\\\n",
       " <chr> & <chr> & <dbl>\\\\\n",
       "\\hline\n",
       "\t CD27- effector B cell     & Down-regulated-Day0 &   -1\\\\\n",
       "\t CD27+ effector B cell     & Down-regulated-Day0 &   -7\\\\\n",
       "\t CD95 memory B cell        & Down-regulated-Day0 &  -29\\\\\n",
       "\t Core naive B cell         & Down-regulated-Day0 &   -1\\\\\n",
       "\t GZMK+ CD27+ EM CD8 T cell & Down-regulated-Day0 &   -1\\\\\n",
       "\t Plasma cell               & Down-regulated-Day0 & -162\\\\\n",
       "\t CD27+ effector B cell     & Up-regulated-Day0   &   31\\\\\n",
       "\t CD95 memory B cell        & Up-regulated-Day0   &    9\\\\\n",
       "\t Plasma cell               & Up-regulated-Day0   &  190\\\\\n",
       "\\end{tabular}\n"
      ],
      "text/markdown": [
       "\n",
       "A data.frame: 9 × 3\n",
       "\n",
       "| celltype &lt;chr&gt; | Expression &lt;chr&gt; | count &lt;dbl&gt; |\n",
       "|---|---|---|\n",
       "| CD27- effector B cell     | Down-regulated-Day0 |   -1 |\n",
       "| CD27+ effector B cell     | Down-regulated-Day0 |   -7 |\n",
       "| CD95 memory B cell        | Down-regulated-Day0 |  -29 |\n",
       "| Core naive B cell         | Down-regulated-Day0 |   -1 |\n",
       "| GZMK+ CD27+ EM CD8 T cell | Down-regulated-Day0 |   -1 |\n",
       "| Plasma cell               | Down-regulated-Day0 | -162 |\n",
       "| CD27+ effector B cell     | Up-regulated-Day0   |   31 |\n",
       "| CD95 memory B cell        | Up-regulated-Day0   |    9 |\n",
       "| Plasma cell               | Up-regulated-Day0   |  190 |\n",
       "\n"
      ],
      "text/plain": [
       "  celltype                  Expression          count\n",
       "1 CD27- effector B cell     Down-regulated-Day0   -1 \n",
       "2 CD27+ effector B cell     Down-regulated-Day0   -7 \n",
       "3 CD95 memory B cell        Down-regulated-Day0  -29 \n",
       "4 Core naive B cell         Down-regulated-Day0   -1 \n",
       "5 GZMK+ CD27+ EM CD8 T cell Down-regulated-Day0   -1 \n",
       "6 Plasma cell               Down-regulated-Day0 -162 \n",
       "7 CD27+ effector B cell     Up-regulated-Day0     31 \n",
       "8 CD95 memory B cell        Up-regulated-Day0      9 \n",
       "9 Plasma cell               Up-regulated-Day0    190 "
      ]
     },
     "metadata": {},
     "output_type": "display_data"
    }
   ],
   "source": [
    "freq"
   ]
  },
  {
   "cell_type": "code",
   "execution_count": 75,
   "id": "ce1d5761-bcf0-42b6-b37a-c8b95bda3bf5",
   "metadata": {
    "tags": []
   },
   "outputs": [],
   "source": [
    "options(repr.plot.width = 10, repr.plot.height = 5)\n",
    "#orders<-unique(freq %>% arrange(desc(count)) %>% select (celltype) %>% pull())\n",
    "freq$celltype<-factor(freq$celltype,levels=orders)\n",
    "p1<-ggplot(freq, aes(x = celltype, y = count, fill = Expression)) +\n",
    "  geom_bar(stat = \"identity\", position = \"identity\") +theme_bw(base_size=12)+  scale_fill_aaas()+\n",
    "  labs(x = \"celltype\", y = \"DEG_Counts\") +  theme(axis.text.x = element_text(angle = 90, hjust = 1, vjust = 0.5, size = 15)) +\n",
    "  guides(fill = guide_legend(reverse = TRUE))"
   ]
  },
  {
   "cell_type": "code",
   "execution_count": 76,
   "id": "7ac3847d-9920-4bcf-92bf-2a7aec5bb433",
   "metadata": {
    "tags": []
   },
   "outputs": [
    {
     "data": {
      "image/png": "[encoded data removed]",
      "text/plain": [
       "plot without title"
      ]
     },
     "metadata": {
      "image/png": {
       "height": 300,
       "width": 600
      }
     },
     "output_type": "display_data"
    }
   ],
   "source": [
    "p1"
   ]
  },
  {
   "cell_type": "code",
   "execution_count": 95,
   "id": "9ef38955-df6b-41f3-951d-8098c7709419",
   "metadata": {
    "tags": []
   },
   "outputs": [],
   "source": [
    "total_gene <- DEG  %>%\n",
    "  group_by(celltype) %>%\n",
    "  summarise(count = n())\n",
    "total_gene$celltype<-factor(total_gene$celltype,levels=orders)"
   ]
  },
  {
   "cell_type": "code",
   "execution_count": 96,
   "id": "92001a90-ae64-4a59-b883-37a723253404",
   "metadata": {
    "tags": []
   },
   "outputs": [],
   "source": [
    "p2<-ggplot(total_gene, aes(x = celltype, y = count)) +\n",
    "  geom_bar(stat = \"identity\", position = \"identity\") +\n",
    "  labs(x = \"celltype\", y = \"Total_Genes_Expressed\")+theme_bw(base_size=12)+\n",
    "  theme(axis.title.x=element_blank(),\n",
    "        axis.text.x=element_blank(),\n",
    "        axis.ticks.x=element_blank())+ylab('N_Genes')"
   ]
  },
  {
   "cell_type": "code",
   "execution_count": 97,
   "id": "24ec2b91-9f69-44a1-9b37-6cc653e005c8",
   "metadata": {
    "tags": []
   },
   "outputs": [
    {
     "data": {
      "image/png": "[encoded data removed]",
      "text/plain": [
       "plot without title"
      ]
     },
     "metadata": {
      "image/png": {
       "height": 300,
       "width": 600
      }
     },
     "output_type": "display_data"
    }
   ],
   "source": [
    "p2"
   ]
  },
  {
   "cell_type": "code",
   "execution_count": 61,
   "id": "465c61f6-9630-4ed0-ba66-70339b1c936f",
   "metadata": {
    "collapsed": true,
    "jupyter": {
     "outputs_hidden": true
    },
    "tags": []
   },
   "outputs": [
    {
     "name": "stderr",
     "output_type": "stream",
     "text": [
      "ERROR while rich displaying an object: Error in base::nchar(wide_chars$test, type = \"width\"): promise already under evaluation: recursive default argument reference or earlier problems?\n",
      "\n",
      "Traceback:\n",
      "1. tryCatch(withCallingHandlers({\n",
      " .     if (!mime %in% names(repr::mime2repr)) \n",
      " .         stop(\"No repr_* for mimetype \", mime, \" in repr::mime2repr\")\n",
      " .     rpr <- repr::mime2repr[[mime]](obj)\n",
      " .     if (is.null(rpr)) \n",
      " .         return(NULL)\n",
      " .     prepare_content(is.raw(rpr), rpr)\n",
      " . }, error = error_handler), error = outer_handler)\n",
      "2. tryCatchList(expr, classes, parentenv, handlers)\n",
      "3. tryCatchOne(expr, names, parentenv, handlers[[1L]])\n",
      "4. doTryCatch(return(expr), name, parentenv, handler)\n",
      "5. withCallingHandlers({\n",
      " .     if (!mime %in% names(repr::mime2repr)) \n",
      " .         stop(\"No repr_* for mimetype \", mime, \" in repr::mime2repr\")\n",
      " .     rpr <- repr::mime2repr[[mime]](obj)\n",
      " .     if (is.null(rpr)) \n",
      " .         return(NULL)\n",
      " .     prepare_content(is.raw(rpr), rpr)\n",
      " . }, error = error_handler)\n",
      "6. repr::mime2repr[[mime]](obj)\n",
      "7. repr_text.default(obj)\n",
      "8. paste(capture.output(print(obj)), collapse = \"\\n\")\n",
      "9. capture.output(print(obj))\n",
      "10. withVisible(...elt(i))\n",
      "11. print(obj)\n",
      "12. print.aplot(obj)\n",
      "13. grid.draw(x)\n",
      "14. grid.draw.aplot(x)\n",
      "15. grid::grid.draw(as.patchwork(x))\n",
      "16. grid.draw.ggplot(as.patchwork(x))\n",
      "17. print(x)\n",
      "18. print.patchwork(x)\n",
      "19. build_patchwork(plot, plot$layout$guides %||% \"auto\")\n",
      "20. lapply(x$plots, plot_table, guides = guides)\n",
      "21. FUN(X[[i]], ...)\n",
      "22. plot_table.ggplot(X[[i]], ...)\n",
      "23. ggplotGrob(x)\n",
      "24. ggplot_gtable(ggplot_build(x))\n",
      "25. ggplot_gtable.ggplot_built(ggplot_build(x))\n",
      "26. by_layer(function(l, d) l$draw_geom(d, layout), plot$layers, \n",
      "  .     data, \"converting geom to grob\")\n",
      "27. try_fetch(for (i in seq_along(data)) {\n",
      "  .     out[[i]] <- f(l = layers[[i]], d = data[[i]])\n",
      "  . }, error = function(cnd) {\n",
      "  .     cli::cli_abort(c(\"Problem while {step}.\", i = \"Error occurred in the {ordinal(i)} layer.\"), \n",
      "  .         call = layers[[i]]$constructor, parent = cnd)\n",
      "  . })\n",
      "28. tryCatch(withCallingHandlers(expr, condition = function(cnd) {\n",
      "  .     {\n",
      "  .         .__handler_frame__. <- TRUE\n",
      "  .         .__setup_frame__. <- frame\n",
      "  .         if (inherits(cnd, \"message\")) {\n",
      "  .             except <- c(\"warning\", \"error\")\n",
      "  .         }\n",
      "  .         else if (inherits(cnd, \"warning\")) {\n",
      "  .             except <- \"error\"\n",
      "  .         }\n",
      "  .         else {\n",
      "  .             except <- \"\"\n",
      "  .         }\n",
      "  .     }\n",
      "  .     while (!is_null(cnd)) {\n",
      "  .         if (inherits(cnd, \"error\")) {\n",
      "  .             out <- handlers[[1L]](cnd)\n",
      "  .             if (!inherits(out, \"rlang_zap\")) \n",
      "  .                 throw(out)\n",
      "  .         }\n",
      "  .         inherit <- .subset2(.subset2(cnd, \"rlang\"), \"inherit\")\n",
      "  .         if (is_false(inherit)) {\n",
      "  .             return()\n",
      "  .         }\n",
      "  .         cnd <- .subset2(cnd, \"parent\")\n",
      "  .     }\n",
      "  . }), stackOverflowError = handlers[[1L]])\n",
      "29. tryCatchList(expr, classes, parentenv, handlers)\n",
      "30. tryCatchOne(expr, names, parentenv, handlers[[1L]])\n",
      "31. doTryCatch(return(expr), name, parentenv, handler)\n",
      "32. withCallingHandlers(expr, condition = function(cnd) {\n",
      "  .     {\n",
      "  .         .__handler_frame__. <- TRUE\n",
      "  .         .__setup_frame__. <- frame\n",
      "  .         if (inherits(cnd, \"message\")) {\n",
      "  .             except <- c(\"warning\", \"error\")\n",
      "  .         }\n",
      "  .         else if (inherits(cnd, \"warning\")) {\n",
      "  .             except <- \"error\"\n",
      "  .         }\n",
      "  .         else {\n",
      "  .             except <- \"\"\n",
      "  .         }\n",
      "  .     }\n",
      "  .     while (!is_null(cnd)) {\n",
      "  .         if (inherits(cnd, \"error\")) {\n",
      "  .             out <- handlers[[1L]](cnd)\n",
      "  .             if (!inherits(out, \"rlang_zap\")) \n",
      "  .                 throw(out)\n",
      "  .         }\n",
      "  .         inherit <- .subset2(.subset2(cnd, \"rlang\"), \"inherit\")\n",
      "  .         if (is_false(inherit)) {\n",
      "  .             return()\n",
      "  .         }\n",
      "  .         cnd <- .subset2(cnd, \"parent\")\n",
      "  .     }\n",
      "  . })\n",
      "33. f(l = layers[[i]], d = data[[i]])\n",
      "34. l$draw_geom(d, layout)\n",
      "35. draw_geom(..., self = self)\n",
      "36. self$geom$handle_na(data, self$computed_geom_params)\n",
      "37. handle_na(..., self = self)\n",
      "38. remove_missing(data, params$na.rm, c(self$required_aes, self$non_missing_aes), \n",
      "  .     snake_class(self))\n",
      "39. cli::cli_warn(msg)\n",
      "40. rlang::warn(format_warning(message, .envir = .envir), ...)\n",
      "41. validate_signal_args(message, class, NULL, .subclass, \"warn\")\n",
      "42. format_warning(message, .envir = .envir)\n",
      "43. cli_fmt((function() {\n",
      "  .     cli_div(class = \"cli_rlang cli_warn\", theme = cnd_theme())\n",
      "  .     cli_bullets(message, .envir = .envir)\n",
      "  . })(), collapse = TRUE, strip_newline = TRUE)\n",
      "44. cli__fmt(rec, collapse, strip_newline)\n",
      "45. do.call(app[[msg$type]], msg$args)\n",
      "46. (function (text, id = NULL, class = NULL) \n",
      "  . clii_bullets(app, text, id, class))(text = list(`1` = structure(list(\n",
      "  .     str = \"Removed <FCkNXbE-16v5FCkNXbE-16> rows containing missing values (<FCkNXbE-16.fn geom_barFCkNXbE-16>).\", \n",
      "  .     values = <environment>), class = \"cli_glue_delay\")), id = \"cli-715-57\", \n",
      "  .     class = NULL)\n",
      "47. clii_bullets(app, text, id, class)\n",
      "48. lapply(seq_along(text), function(i) {\n",
      "  .     iid <- new_uuid()\n",
      "  .     clii__container_start(app, \"div\", id = iid, class = cls[i])\n",
      "  .     on.exit(clii__container_end(app, iid), add = TRUE)\n",
      "  .     app$text(text[[i]])\n",
      "  . })\n",
      "49. FUN(X[[i]], ...)\n",
      "50. app$text(text[[i]])\n",
      "51. clii_text(app, text)\n",
      "52. app$xtext(text)\n",
      "53. clii__xtext(app, text, .list = .list, indent = indent, padding = padding, \n",
      "  .     wrap = wrap)\n",
      "54. ansi_strwrap(text, exdent = exdent, width = app$get_width(extra = padding))\n",
      "55. unicode_pre(x)\n",
      "56. setup_unicode_width_fix()\n",
      "57. base::nchar(wide_chars$test, type = \"width\")\n",
      "58. .handleSimpleError(function (cnd) \n",
      "  . {\n",
      "  .     {\n",
      "  .         .__handler_frame__. <- TRUE\n",
      "  .         .__setup_frame__. <- frame\n",
      "  .         if (inherits(cnd, \"message\")) {\n",
      "  .             except <- c(\"warning\", \"error\")\n",
      "  .         }\n",
      "  .         else if (inherits(cnd, \"warning\")) {\n",
      "  .             except <- \"error\"\n",
      "  .         }\n",
      "  .         else {\n",
      "  .             except <- \"\"\n",
      "  .         }\n",
      "  .     }\n",
      "  .     while (!is_null(cnd)) {\n",
      "  .         if (inherits(cnd, \"error\")) {\n",
      "  .             out <- handlers[[1L]](cnd)\n",
      "  .             if (!inherits(out, \"rlang_zap\")) \n",
      "  .                 throw(out)\n",
      "  .         }\n",
      "  .         inherit <- .subset2(.subset2(cnd, \"rlang\"), \"inherit\")\n",
      "  .         if (is_false(inherit)) {\n",
      "  .             return()\n",
      "  .         }\n",
      "  .         cnd <- .subset2(cnd, \"parent\")\n",
      "  .     }\n",
      "  . }, \"lazy-load database '/opt/conda/lib/R/library/cli/R/sysdata.rdb' is corrupt\", \n",
      "  .     base::quote(base::nchar(wide_chars$test, type = \"width\")))\n",
      "59. h(simpleError(msg, call))\n",
      "60. handlers[[1L]](cnd)\n",
      "61. cli::cli_abort(c(\"Problem while {step}.\", i = \"Error occurred in the {ordinal(i)} layer.\"), \n",
      "  .     call = layers[[i]]$constructor, parent = cnd)\n",
      "62. rlang::abort(message, ..., call = call, use_cli_format = TRUE, \n",
      "  .     .frame = .frame)\n",
      "63. signal_abort(cnd, .file)\n",
      "64. signalCondition(cnd)\n",
      "65. conditionMessage(cond)\n",
      "66. conditionMessage.rlang_error(cond)\n",
      "67. cnd_message(c)\n",
      "68. cnd_message_format(cnd, ...)\n",
      "69. cli_format(glue_escape(lines))\n",
      "70. .rlang_cli_format(x, cli::format_error)\n",
      "71. cli_format(x, .envir = emptyenv())\n",
      "72. cli_fmt((function() {\n",
      "  .     cli_div(class = \"cli_rlang cli_abort\", theme = cnd_theme())\n",
      "  .     cli_bullets(message, .envir = .envir)\n",
      "  . })(), collapse = TRUE, strip_newline = TRUE)\n",
      "73. cli__fmt(rec, collapse, strip_newline)\n",
      "74. do.call(app[[msg$type]], msg$args)\n",
      "75. (function (text, id = NULL, class = NULL) \n",
      "  . clii_bullets(app, text, id, class))(text = list(`1` = structure(list(\n",
      "  .     str = \"Error: Problem while converting geom to grob.\", values = <environment>), class = \"cli_glue_delay\"), \n",
      "  .     i = structure(list(str = \"Error occurred in the 1st layer.\", \n",
      "  .         values = <environment>), class = \"cli_glue_delay\")), \n",
      "  .     id = \"cli-715-69\", class = NULL)\n",
      "76. clii_bullets(app, text, id, class)\n",
      "77. lapply(seq_along(text), function(i) {\n",
      "  .     iid <- new_uuid()\n",
      "  .     clii__container_start(app, \"div\", id = iid, class = cls[i])\n",
      "  .     on.exit(clii__container_end(app, iid), add = TRUE)\n",
      "  .     app$text(text[[i]])\n",
      "  . })\n",
      "78. FUN(X[[i]], ...)\n",
      "79. app$text(text[[i]])\n",
      "80. clii_text(app, text)\n",
      "81. app$xtext(text)\n",
      "82. clii__xtext(app, text, .list = .list, indent = indent, padding = padding, \n",
      "  .     wrap = wrap)\n",
      "83. ansi_strwrap(text, exdent = exdent, width = app$get_width(extra = padding))\n",
      "84. unicode_pre(x)\n",
      "85. setup_unicode_width_fix()\n",
      "86. base::nchar(wide_chars$test, type = \"width\")\n"
     ]
    }
   ],
   "source": [
    "#PNG\n",
    "#png(\"/home/jupyter/formal_BRIanalysis/DEG_Mehul/DEG_sex_yr1D0.png\", width = 1000, height = 500)\n",
    "\n",
    "options(repr.plot.width = 16, repr.plot.height = 8)\n",
    "\n",
    "p3<-p1 %>% insert_top(p2,height=0.7)\n",
    "\n",
    "p3\n",
    "\n",
    "#dev.off()"
   ]
  },
  {
   "cell_type": "code",
   "execution_count": null,
   "id": "2cc08abe-f94b-477f-9a7a-7a81a6e5f92f",
   "metadata": {},
   "outputs": [],
   "source": []
  }
 ],
 "metadata": {
  "kernelspec": {
   "display_name": "R 4",
   "language": "R",
   "name": "ir4"
  },
  "language_info": {
   "codemirror_mode": "r",
   "file_extension": ".r",
   "mimetype": "text/x-r-source",
   "name": "R",
   "pygments_lexer": "r",
   "version": "4.3.1"
  }
 },
 "nbformat": 4,
 "nbformat_minor": 5
}
