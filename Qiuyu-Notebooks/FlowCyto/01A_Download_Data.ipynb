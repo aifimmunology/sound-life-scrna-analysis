{
 "cells": [
  {
   "cell_type": "code",
   "execution_count": 16,
   "id": "be757a2d-9c1c-442f-8185-8ccede362b0c",
   "metadata": {
    "tags": []
   },
   "outputs": [
    {
     "name": "stderr",
     "output_type": "stream",
     "text": [
      "------------------------------------------------------------------------------\n",
      "\n",
      "You have loaded plyr after dplyr - this is likely to cause problems.\n",
      "If you need functions from both plyr and dplyr, please load plyr first, then dplyr:\n",
      "library(plyr); library(dplyr)\n",
      "\n",
      "------------------------------------------------------------------------------\n",
      "\n",
      "\n",
      "Attaching package: ‘plyr’\n",
      "\n",
      "\n",
      "The following objects are masked from ‘package:dplyr’:\n",
      "\n",
      "    arrange, count, desc, failwith, id, mutate, rename, summarise,\n",
      "    summarize\n",
      "\n",
      "\n"
     ]
    }
   ],
   "source": [
    "suppressPackageStartupMessages(library(dplyr))\n",
    "suppressPackageStartupMessages(library(tidyr))\n",
    "suppressPackageStartupMessages(library(tibble))\n",
    "library(hise)\n",
    "library(plyr)\n",
    "suppressPackageStartupMessages(library(readxl))\n",
    "suppressPackageStartupMessages(library(dplyr))\n",
    "suppressPackageStartupMessages(library(tidyr))\n",
    "suppressPackageStartupMessages(library(tibble))\n",
    "suppressPackageStartupMessages(library(ggplot2))\n",
    "suppressPackageStartupMessages(library(patchwork))\n",
    "suppressPackageStartupMessages(library(pheatmap))\n",
    "suppressPackageStartupMessages(library(stringr))\n"
   ]
  },
  {
   "cell_type": "code",
   "execution_count": 17,
   "id": "5beba13d-cae6-42ab-babe-e21b45555b97",
   "metadata": {
    "tags": []
   },
   "outputs": [],
   "source": [
    "fileDescToDataframe_beta<-function (descriptors, keep_labs = FALSE) \n",
    "{\n",
    "    descriptors <- descriptors[[1]]\n",
    "    do.call(rbind, lapply(descriptors, function(desc) {\n",
    "        desc <- unlist(desc)\n",
    "        desc <- desc[!grepl(\"scheme\", names(desc))]\n",
    "        names(desc) <- sub(\"^descriptors.\", \"\", names(desc))\n",
    "        desc <- desc[!grepl(\"^specimens\", names(desc))]\n",
    "        desc <- desc[!grepl(\"^lab\", names(desc))]\n",
    "        desc <- desc[!grepl(\"^emr\", names(desc))]\n",
    "        desc <- desc[!grepl(\"^survey\", names(desc))]\n",
    "        desc <- desc[!grepl(\"^revision\", names(desc))]\n",
    "        desc <- desc[!grepl(\"^file.userTags\", names(desc))]\n",
    "        desc <- as.list(desc)\n",
    "        df <- as.data.frame(desc)\n",
    "        df\n",
    "    }))\n",
    "}\n",
    "get_descripter<-function(fileType=NULL,cohorts=NULL,panels=NULL){\n",
    "df<-data.frame() \n",
    "    \n",
    "for (cohort in cohorts){\n",
    "for (panel in panels){\n",
    "    \n",
    "br1_filter_list <- list(\n",
    "    cohort.cohortGuid =cohort,file.panel=panel)\n",
    "br2_flow_desc <- getFileDescriptors(\n",
    "    fileType = fileType, \n",
    "    filter = br1_filter_list)\n",
    "br2_flow_desc <- fileDescToDataframe(br2_flow_desc)\n",
    "df<-rbind.fill(df,br2_flow_desc)\n",
    "    \n",
    "}}\n",
    "return (df)\n",
    "}"
   ]
  },
  {
   "cell_type": "code",
   "execution_count": 35,
   "id": "f9fc5282-cd6a-4ac9-9432-f014467512ae",
   "metadata": {
    "tags": []
   },
   "outputs": [],
   "source": [
    "df_PT1<-get_descripter(fileType='FlowCytometry-labeled-expr-csv',cohorts=c(\"BR1\",\"BR2\"),panels=c('PT1'))"
   ]
  },
  {
   "cell_type": "code",
   "execution_count": 36,
   "id": "e69fab2f-b0c3-445e-9b0d-aa019ef56893",
   "metadata": {
    "tags": []
   },
   "outputs": [],
   "source": [
    "write.csv(df_PT1,'flow_meta_data.csv')"
   ]
  },
  {
   "cell_type": "code",
   "execution_count": 22,
   "id": "619ec76a-567f-48a4-b8df-fdf464fe9f02",
   "metadata": {
    "tags": []
   },
   "outputs": [],
   "source": [
    "file_id<-list.files(path = \"cache\", pattern = NULL, all.files = FALSE,\n",
    "           full.names = FALSE, recursive = FALSE,\n",
    "           ignore.case = FALSE, include.dirs = FALSE, no.. = FALSE)"
   ]
  },
  {
   "cell_type": "code",
   "execution_count": 23,
   "id": "0cfc7417-e9df-4d22-9706-cc7d9860e979",
   "metadata": {
    "tags": []
   },
   "outputs": [],
   "source": [
    "df_PT1<-df_PT1 %>%filter(!file.id%in% file_id)"
   ]
  },
  {
   "cell_type": "code",
   "execution_count": 25,
   "id": "4686d2ea-9d8e-45c5-aae5-45c68fb6495e",
   "metadata": {
    "collapsed": true,
    "jupyter": {
     "outputs_hidden": true
    },
    "tags": []
   },
   "outputs": [
    {
     "name": "stdout",
     "output_type": "stream",
     "text": [
      "[1] \"Downloading file number:1\"\n"
     ]
    },
    {
     "name": "stderr",
     "output_type": "stream",
     "text": [
      "submitting request as query ID first...\n",
      "\n",
      "retrieving files using fileIDS...\n",
      "\n"
     ]
    },
    {
     "name": "stdout",
     "output_type": "stream",
     "text": [
      "[1] \"Initiating file download for B169_PT1_PB02356-002_live_logical_transform_labelled_expr.csv\"\n",
      "[1] \"Download successful.\"\n",
      "[1] \"Downloading file number:2\"\n"
     ]
    },
    {
     "name": "stderr",
     "output_type": "stream",
     "text": [
      "submitting request as query ID first...\n",
      "\n",
      "retrieving files using fileIDS...\n",
      "\n"
     ]
    },
    {
     "name": "stdout",
     "output_type": "stream",
     "text": [
      "[1] \"Initiating file download for B169_PT1_PB02341-002_live_logical_transform_labelled_expr.csv\"\n",
      "[1] \"Download successful.\"\n",
      "[1] \"Downloading file number:3\"\n"
     ]
    },
    {
     "name": "stderr",
     "output_type": "stream",
     "text": [
      "submitting request as query ID first...\n",
      "\n",
      "retrieving files using fileIDS...\n",
      "\n"
     ]
    },
    {
     "name": "stdout",
     "output_type": "stream",
     "text": [
      "[1] \"Initiating file download for B153_PT1_PB02575-001_live_logical_transform_labelled_expr.csv\"\n",
      "[1] \"Download successful.\"\n",
      "[1] \"Downloading file number:4\"\n"
     ]
    },
    {
     "name": "stderr",
     "output_type": "stream",
     "text": [
      "submitting request as query ID first...\n",
      "\n",
      "retrieving files using fileIDS...\n",
      "\n"
     ]
    },
    {
     "name": "stdout",
     "output_type": "stream",
     "text": [
      "[1] \"Initiating file download for B142_PT1_PB01998-03_live_logical_transform_labelled_expr.csv\"\n",
      "[1] \"Download successful.\"\n",
      "[1] \"Downloading file number:5\"\n"
     ]
    },
    {
     "name": "stderr",
     "output_type": "stream",
     "text": [
      "submitting request as query ID first...\n",
      "\n",
      "retrieving files using fileIDS...\n",
      "\n"
     ]
    },
    {
     "name": "stdout",
     "output_type": "stream",
     "text": [
      "[1] \"Initiating file download for B056_PT1_PB00339-01_live_logical_transform_labelled_expr.csv\"\n",
      "[1] \"Download successful.\"\n",
      "[1] \"Downloading file number:6\"\n"
     ]
    },
    {
     "name": "stderr",
     "output_type": "stream",
     "text": [
      "submitting request as query ID first...\n",
      "\n",
      "retrieving files using fileIDS...\n",
      "\n"
     ]
    },
    {
     "name": "stdout",
     "output_type": "stream",
     "text": [
      "[1] \"Initiating file download for B056_PT1_PB00360-01_live_logical_transform_labelled_expr.csv\"\n",
      "[1] \"Download successful.\"\n",
      "[1] \"Downloading file number:7\"\n"
     ]
    },
    {
     "name": "stderr",
     "output_type": "stream",
     "text": [
      "submitting request as query ID first...\n",
      "\n",
      "retrieving files using fileIDS...\n",
      "\n"
     ]
    },
    {
     "name": "stdout",
     "output_type": "stream",
     "text": [
      "[1] \"Initiating file download for B070_PT1_PB01533-01_live_logical_transform_labelled_expr.csv\"\n",
      "[1] \"Download successful.\"\n",
      "[1] \"Downloading file number:8\"\n"
     ]
    },
    {
     "name": "stderr",
     "output_type": "stream",
     "text": [
      "submitting request as query ID first...\n",
      "\n",
      "retrieving files using fileIDS...\n",
      "\n"
     ]
    },
    {
     "name": "stdout",
     "output_type": "stream",
     "text": [
      "[1] \"Initiating file download for B070_PT1_PB01521-01_live_logical_transform_labelled_expr.csv\"\n",
      "[1] \"Download successful.\"\n",
      "[1] \"Downloading file number:9\"\n"
     ]
    },
    {
     "name": "stderr",
     "output_type": "stream",
     "text": [
      "submitting request as query ID first...\n",
      "\n",
      "retrieving files using fileIDS...\n",
      "\n"
     ]
    },
    {
     "name": "stdout",
     "output_type": "stream",
     "text": [
      "[1] \"Initiating file download for B082_PT1_PB02008-02_live_logical_transform_labelled_expr.csv\"\n",
      "[1] \"Download successful.\"\n",
      "[1] \"Downloading file number:10\"\n"
     ]
    },
    {
     "name": "stderr",
     "output_type": "stream",
     "text": [
      "submitting request as query ID first...\n",
      "\n",
      "retrieving files using fileIDS...\n",
      "\n"
     ]
    },
    {
     "name": "stdout",
     "output_type": "stream",
     "text": [
      "[1] \"Initiating file download for B169_PT1_PB02339-002_live_logical_transform_labelled_expr.csv\"\n",
      "[1] \"Download successful.\"\n",
      "[1] \"Downloading file number:11\"\n"
     ]
    },
    {
     "name": "stderr",
     "output_type": "stream",
     "text": [
      "submitting request as query ID first...\n",
      "\n",
      "retrieving files using fileIDS...\n",
      "\n"
     ]
    },
    {
     "name": "stdout",
     "output_type": "stream",
     "text": [
      "[1] \"Initiating file download for B169_PT1_PB02569-002_live_logical_transform_labelled_expr.csv\"\n",
      "[1] \"Download successful.\"\n",
      "[1] \"Downloading file number:12\"\n"
     ]
    },
    {
     "name": "stderr",
     "output_type": "stream",
     "text": [
      "submitting request as query ID first...\n",
      "\n",
      "retrieving files using fileIDS...\n",
      "\n"
     ]
    },
    {
     "name": "stdout",
     "output_type": "stream",
     "text": [
      "[1] \"Initiating file download for B169_PT1_PB02358-002_live_logical_transform_labelled_expr.csv\"\n",
      "[1] \"Download successful.\"\n",
      "[1] \"Downloading file number:13\"\n"
     ]
    },
    {
     "name": "stderr",
     "output_type": "stream",
     "text": [
      "submitting request as query ID first...\n",
      "\n",
      "retrieving files using fileIDS...\n",
      "\n"
     ]
    },
    {
     "name": "stdout",
     "output_type": "stream",
     "text": [
      "[1] \"Initiating file download for B169_PT1_PB00603-02_live_logical_transform_labelled_expr.csv\"\n",
      "[1] \"Download successful.\"\n",
      "[1] \"Downloading file number:14\"\n"
     ]
    },
    {
     "name": "stderr",
     "output_type": "stream",
     "text": [
      "submitting request as query ID first...\n",
      "\n",
      "retrieving files using fileIDS...\n",
      "\n"
     ]
    },
    {
     "name": "stdout",
     "output_type": "stream",
     "text": [
      "[1] \"Initiating file download for B142_PT1_PB02008-03_live_logical_transform_labelled_expr.csv\"\n",
      "[1] \"Download successful.\"\n",
      "[1] \"Downloading file number:15\"\n"
     ]
    },
    {
     "name": "stderr",
     "output_type": "stream",
     "text": [
      "submitting request as query ID first...\n",
      "\n",
      "retrieving files using fileIDS...\n",
      "\n"
     ]
    },
    {
     "name": "stdout",
     "output_type": "stream",
     "text": [
      "[1] \"Initiating file download for B138_PT1_PB03099-001_live_logical_transform_labelled_expr.csv\"\n",
      "[1] \"Download successful.\"\n",
      "[1] \"Downloading file number:16\"\n"
     ]
    },
    {
     "name": "stderr",
     "output_type": "stream",
     "text": [
      "submitting request as query ID first...\n",
      "\n",
      "retrieving files using fileIDS...\n",
      "\n"
     ]
    },
    {
     "name": "stdout",
     "output_type": "stream",
     "text": [
      "[1] \"Initiating file download for B077_PT1_PB00503-01_live_logical_transform_labelled_expr.csv\"\n",
      "[1] \"Download successful.\"\n",
      "[1] \"Downloading file number:17\"\n"
     ]
    },
    {
     "name": "stderr",
     "output_type": "stream",
     "text": [
      "submitting request as query ID first...\n",
      "\n",
      "retrieving files using fileIDS...\n",
      "\n"
     ]
    },
    {
     "name": "stdout",
     "output_type": "stream",
     "text": [
      "[1] \"Initiating file download for B077_PT1_PB01546-01_live_logical_transform_labelled_expr.csv\"\n",
      "[1] \"Download successful.\"\n",
      "[1] \"Downloading file number:18\"\n"
     ]
    },
    {
     "name": "stderr",
     "output_type": "stream",
     "text": [
      "submitting request as query ID first...\n",
      "\n",
      "retrieving files using fileIDS...\n",
      "\n"
     ]
    },
    {
     "name": "stdout",
     "output_type": "stream",
     "text": [
      "[1] \"Initiating file download for B077_PT1_PB01421-01_live_logical_transform_labelled_expr.csv\"\n",
      "[1] \"Download successful.\"\n",
      "[1] \"Downloading file number:19\"\n"
     ]
    },
    {
     "name": "stderr",
     "output_type": "stream",
     "text": [
      "submitting request as query ID first...\n",
      "\n",
      "retrieving files using fileIDS...\n",
      "\n"
     ]
    },
    {
     "name": "stdout",
     "output_type": "stream",
     "text": [
      "[1] \"Initiating file download for B077_PT1_PB01528-01_live_logical_transform_labelled_expr.csv\"\n",
      "[1] \"Download successful.\"\n",
      "[1] \"Downloading file number:20\"\n"
     ]
    },
    {
     "name": "stderr",
     "output_type": "stream",
     "text": [
      "submitting request as query ID first...\n",
      "\n",
      "retrieving files using fileIDS...\n",
      "\n"
     ]
    },
    {
     "name": "stdout",
     "output_type": "stream",
     "text": [
      "[1] \"Initiating file download for B077_PT1_PB00383-01_live_logical_transform_labelled_expr.csv\"\n",
      "[1] \"Download successful.\"\n",
      "[1] \"Downloading file number:21\"\n"
     ]
    },
    {
     "name": "stderr",
     "output_type": "stream",
     "text": [
      "submitting request as query ID first...\n",
      "\n",
      "retrieving files using fileIDS...\n",
      "\n"
     ]
    },
    {
     "name": "stdout",
     "output_type": "stream",
     "text": [
      "[1] \"Initiating file download for B082_PT1_PB02228-02_live_logical_transform_labelled_expr.csv\"\n",
      "[1] \"Download successful.\"\n",
      "[1] \"Downloading file number:22\"\n"
     ]
    },
    {
     "name": "stderr",
     "output_type": "stream",
     "text": [
      "submitting request as query ID first...\n",
      "\n",
      "retrieving files using fileIDS...\n",
      "\n"
     ]
    },
    {
     "name": "stdout",
     "output_type": "stream",
     "text": [
      "[1] \"Initiating file download for B149_PT1_PB03919-001_live_logical_transform_labelled_expr.csv\"\n",
      "[1] \"Download successful.\"\n",
      "[1] \"Downloading file number:23\"\n"
     ]
    },
    {
     "name": "stderr",
     "output_type": "stream",
     "text": [
      "submitting request as query ID first...\n",
      "\n",
      "retrieving files using fileIDS...\n",
      "\n"
     ]
    },
    {
     "name": "stdout",
     "output_type": "stream",
     "text": [
      "[1] \"Initiating file download for B169_PT1_PB02511-002_live_logical_transform_labelled_expr.csv\"\n",
      "[1] \"Download successful.\"\n",
      "[1] \"Downloading file number:24\"\n"
     ]
    },
    {
     "name": "stderr",
     "output_type": "stream",
     "text": [
      "submitting request as query ID first...\n",
      "\n",
      "retrieving files using fileIDS...\n",
      "\n"
     ]
    },
    {
     "name": "stdout",
     "output_type": "stream",
     "text": [
      "[1] \"Initiating file download for B169_PT1_PB02528-002_live_logical_transform_labelled_expr.csv\"\n",
      "[1] \"Download successful.\"\n",
      "[1] \"Downloading file number:25\"\n"
     ]
    },
    {
     "name": "stderr",
     "output_type": "stream",
     "text": [
      "submitting request as query ID first...\n",
      "\n",
      "retrieving files using fileIDS...\n",
      "\n"
     ]
    },
    {
     "name": "stdout",
     "output_type": "stream",
     "text": [
      "[1] \"Initiating file download for B153_PT1_PB03092-001_live_logical_transform_labelled_expr.csv\"\n",
      "[1] \"Download successful.\"\n",
      "[1] \"Downloading file number:26\"\n"
     ]
    },
    {
     "name": "stderr",
     "output_type": "stream",
     "text": [
      "submitting request as query ID first...\n",
      "\n",
      "retrieving files using fileIDS...\n",
      "\n"
     ]
    },
    {
     "name": "stdout",
     "output_type": "stream",
     "text": [
      "[1] \"Initiating file download for B142_PT1_PB01528-02_live_logical_transform_labelled_expr.csv\"\n",
      "[1] \"Download successful.\"\n",
      "[1] \"Downloading file number:27\"\n"
     ]
    },
    {
     "name": "stderr",
     "output_type": "stream",
     "text": [
      "submitting request as query ID first...\n",
      "\n",
      "retrieving files using fileIDS...\n",
      "\n"
     ]
    },
    {
     "name": "stdout",
     "output_type": "stream",
     "text": [
      "[1] \"Initiating file download for B082_PT1_PB00649-02_live_logical_transform_labelled_expr.csv\"\n",
      "[1] \"Download successful.\"\n",
      "[1] \"Downloading file number:28\"\n"
     ]
    },
    {
     "name": "stderr",
     "output_type": "stream",
     "text": [
      "submitting request as query ID first...\n",
      "\n",
      "retrieving files using fileIDS...\n",
      "\n"
     ]
    },
    {
     "name": "stdout",
     "output_type": "stream",
     "text": [
      "[1] \"Initiating file download for B082_PT1_PB00394-02_live_logical_transform_labelled_expr.csv\"\n",
      "[1] \"Download successful.\"\n",
      "[1] \"Downloading file number:29\"\n"
     ]
    },
    {
     "name": "stderr",
     "output_type": "stream",
     "text": [
      "submitting request as query ID first...\n",
      "\n",
      "retrieving files using fileIDS...\n",
      "\n"
     ]
    },
    {
     "name": "stdout",
     "output_type": "stream",
     "text": [
      "[1] \"Initiating file download for B082_PT1_PB01516-02_live_logical_transform_labelled_expr.csv\"\n",
      "[1] \"Download successful.\"\n",
      "[1] \"Downloading file number:30\"\n"
     ]
    },
    {
     "name": "stderr",
     "output_type": "stream",
     "text": [
      "submitting request as query ID first...\n",
      "\n",
      "retrieving files using fileIDS...\n",
      "\n"
     ]
    },
    {
     "name": "stdout",
     "output_type": "stream",
     "text": [
      "[1] \"Initiating file download for B082_PT1_PB00513-02_live_logical_transform_labelled_expr.csv\"\n",
      "[1] \"Download successful.\"\n",
      "[1] \"Downloading file number:31\"\n"
     ]
    },
    {
     "name": "stderr",
     "output_type": "stream",
     "text": [
      "submitting request as query ID first...\n",
      "\n",
      "retrieving files using fileIDS...\n",
      "\n"
     ]
    },
    {
     "name": "stdout",
     "output_type": "stream",
     "text": [
      "[1] \"Initiating file download for B082_PT1_PB02007-02_live_logical_transform_labelled_expr.csv\"\n",
      "[1] \"Download successful.\"\n",
      "[1] \"Downloading file number:32\"\n"
     ]
    },
    {
     "name": "stderr",
     "output_type": "stream",
     "text": [
      "submitting request as query ID first...\n",
      "\n",
      "retrieving files using fileIDS...\n",
      "\n"
     ]
    },
    {
     "name": "stdout",
     "output_type": "stream",
     "text": [
      "[1] \"Initiating file download for B082_PT1_PB01529-02_live_logical_transform_labelled_expr.csv\"\n",
      "[1] \"Download successful.\"\n",
      "[1] \"Downloading file number:33\"\n"
     ]
    },
    {
     "name": "stderr",
     "output_type": "stream",
     "text": [
      "submitting request as query ID first...\n",
      "\n",
      "retrieving files using fileIDS...\n",
      "\n"
     ]
    },
    {
     "name": "stdout",
     "output_type": "stream",
     "text": [
      "[1] \"Initiating file download for B169_PT1_PB02469-002_live_logical_transform_labelled_expr.csv\"\n",
      "[1] \"Download successful.\"\n",
      "[1] \"Downloading file number:34\"\n"
     ]
    },
    {
     "name": "stderr",
     "output_type": "stream",
     "text": [
      "submitting request as query ID first...\n",
      "\n",
      "retrieving files using fileIDS...\n",
      "\n"
     ]
    },
    {
     "name": "stdout",
     "output_type": "stream",
     "text": [
      "[1] \"Initiating file download for B169_PT1_PB02489-002_live_logical_transform_labelled_expr.csv\"\n",
      "[1] \"Download successful.\"\n",
      "[1] \"Downloading file number:35\"\n"
     ]
    },
    {
     "name": "stderr",
     "output_type": "stream",
     "text": [
      "submitting request as query ID first...\n",
      "\n",
      "retrieving files using fileIDS...\n",
      "\n"
     ]
    },
    {
     "name": "stdout",
     "output_type": "stream",
     "text": [
      "[1] \"Initiating file download for B153_PT1_PB03067-001_live_logical_transform_labelled_expr.csv\"\n",
      "[1] \"Download successful.\"\n",
      "[1] \"Downloading file number:36\"\n"
     ]
    },
    {
     "name": "stderr",
     "output_type": "stream",
     "text": [
      "submitting request as query ID first...\n",
      "\n",
      "retrieving files using fileIDS...\n",
      "\n"
     ]
    },
    {
     "name": "stdout",
     "output_type": "stream",
     "text": [
      "[1] \"Initiating file download for B064_PT1_PB00516-01_live_logical_transform_labelled_expr.csv\"\n",
      "[1] \"Download successful.\"\n",
      "[1] \"Downloading file number:37\"\n"
     ]
    },
    {
     "name": "stderr",
     "output_type": "stream",
     "text": [
      "submitting request as query ID first...\n",
      "\n",
      "retrieving files using fileIDS...\n",
      "\n"
     ]
    },
    {
     "name": "stdout",
     "output_type": "stream",
     "text": [
      "[1] \"Initiating file download for B109_PT1_PB02521-001_live_logical_transform_labelled_expr.csv\"\n",
      "[1] \"Download successful.\"\n",
      "[1] \"Downloading file number:38\"\n"
     ]
    },
    {
     "name": "stderr",
     "output_type": "stream",
     "text": [
      "submitting request as query ID first...\n",
      "\n",
      "retrieving files using fileIDS...\n",
      "\n"
     ]
    },
    {
     "name": "stdout",
     "output_type": "stream",
     "text": [
      "[1] \"Initiating file download for B109_PT1_PB02503-001_live_logical_transform_labelled_expr.csv\"\n",
      "[1] \"Download successful.\"\n",
      "[1] \"Downloading file number:39\"\n"
     ]
    },
    {
     "name": "stderr",
     "output_type": "stream",
     "text": [
      "submitting request as query ID first...\n",
      "\n",
      "retrieving files using fileIDS...\n",
      "\n"
     ]
    },
    {
     "name": "stdout",
     "output_type": "stream",
     "text": [
      "[1] \"Initiating file download for B085_PT1_PB02251-01_live_logical_transform_labelled_expr.csv\"\n",
      "[1] \"Download successful.\"\n",
      "[1] \"Downloading file number:40\"\n"
     ]
    },
    {
     "name": "stderr",
     "output_type": "stream",
     "text": [
      "submitting request as query ID first...\n",
      "\n",
      "retrieving files using fileIDS...\n",
      "\n"
     ]
    },
    {
     "name": "stdout",
     "output_type": "stream",
     "text": [
      "[1] \"Initiating file download for B075_PT1_PB00534-01_live_logical_transform_labelled_expr.csv\"\n",
      "[1] \"Download successful.\"\n",
      "[1] \"Downloading file number:41\"\n"
     ]
    },
    {
     "name": "stderr",
     "output_type": "stream",
     "text": [
      "submitting request as query ID first...\n",
      "\n",
      "retrieving files using fileIDS...\n",
      "\n"
     ]
    },
    {
     "name": "stdout",
     "output_type": "stream",
     "text": [
      "[1] \"Initiating file download for B075_PT1_PB01427-01_live_logical_transform_labelled_expr.csv\"\n",
      "[1] \"Download successful.\"\n",
      "[1] \"Downloading file number:42\"\n"
     ]
    },
    {
     "name": "stderr",
     "output_type": "stream",
     "text": [
      "submitting request as query ID first...\n",
      "\n",
      "retrieving files using fileIDS...\n",
      "\n"
     ]
    },
    {
     "name": "stdout",
     "output_type": "stream",
     "text": [
      "[1] \"Initiating file download for B075_PT1_PB01564-01_live_logical_transform_labelled_expr.csv\"\n",
      "[1] \"Download successful.\"\n",
      "[1] \"Downloading file number:43\"\n"
     ]
    },
    {
     "name": "stderr",
     "output_type": "stream",
     "text": [
      "submitting request as query ID first...\n",
      "\n",
      "retrieving files using fileIDS...\n",
      "\n"
     ]
    },
    {
     "name": "stdout",
     "output_type": "stream",
     "text": [
      "[1] \"Initiating file download for B075_PT1_PB01551-01_live_logical_transform_labelled_expr.csv\"\n",
      "[1] \"Download successful.\"\n",
      "[1] \"Downloading file number:44\"\n"
     ]
    },
    {
     "name": "stderr",
     "output_type": "stream",
     "text": [
      "submitting request as query ID first...\n",
      "\n",
      "retrieving files using fileIDS...\n",
      "\n"
     ]
    },
    {
     "name": "stdout",
     "output_type": "stream",
     "text": [
      "[1] \"Initiating file download for B153_PT1_PB03090-001_live_logical_transform_labelled_expr.csv\"\n",
      "[1] \"Download successful.\"\n",
      "[1] \"Downloading file number:45\"\n"
     ]
    },
    {
     "name": "stderr",
     "output_type": "stream",
     "text": [
      "submitting request as query ID first...\n",
      "\n",
      "retrieving files using fileIDS...\n",
      "\n"
     ]
    },
    {
     "name": "stdout",
     "output_type": "stream",
     "text": [
      "[1] \"Initiating file download for B125_PT1_PB03894-001_live_logical_transform_labelled_expr.csv\"\n",
      "[1] \"Download successful.\"\n",
      "[1] \"Downloading file number:46\"\n"
     ]
    },
    {
     "name": "stderr",
     "output_type": "stream",
     "text": [
      "submitting request as query ID first...\n",
      "\n",
      "retrieving files using fileIDS...\n",
      "\n"
     ]
    },
    {
     "name": "stdout",
     "output_type": "stream",
     "text": [
      "[1] \"Initiating file download for B060_PT1_PB00559-01_live_logical_transform_labelled_expr.csv\"\n",
      "[1] \"Download successful.\"\n",
      "[1] \"Downloading file number:47\"\n"
     ]
    },
    {
     "name": "stderr",
     "output_type": "stream",
     "text": [
      "submitting request as query ID first...\n",
      "\n",
      "retrieving files using fileIDS...\n",
      "\n"
     ]
    },
    {
     "name": "stdout",
     "output_type": "stream",
     "text": [
      "[1] \"Initiating file download for B060_PT1_PB00545-01_live_logical_transform_labelled_expr.csv\"\n",
      "[1] \"Download successful.\"\n",
      "[1] \"Downloading file number:48\"\n"
     ]
    },
    {
     "name": "stderr",
     "output_type": "stream",
     "text": [
      "submitting request as query ID first...\n",
      "\n",
      "retrieving files using fileIDS...\n",
      "\n"
     ]
    },
    {
     "name": "stdout",
     "output_type": "stream",
     "text": [
      "[1] \"Initiating file download for B060_PT1_PB01418-01_live_logical_transform_labelled_expr.csv\"\n",
      "[1] \"Download successful.\"\n",
      "[1] \"Downloading file number:49\"\n"
     ]
    },
    {
     "name": "stderr",
     "output_type": "stream",
     "text": [
      "submitting request as query ID first...\n",
      "\n",
      "retrieving files using fileIDS...\n",
      "\n"
     ]
    },
    {
     "name": "stdout",
     "output_type": "stream",
     "text": [
      "[1] \"Initiating file download for B085_PT1_PB02246-01_live_logical_transform_labelled_expr.csv\"\n",
      "[1] \"Download successful.\"\n",
      "[1] \"Downloading file number:50\"\n"
     ]
    },
    {
     "name": "stderr",
     "output_type": "stream",
     "text": [
      "submitting request as query ID first...\n",
      "\n",
      "retrieving files using fileIDS...\n",
      "\n"
     ]
    },
    {
     "name": "stdout",
     "output_type": "stream",
     "text": [
      "[1] \"Initiating file download for B084_PT1_PB01566-01_live_logical_transform_labelled_expr.csv\"\n",
      "[1] \"Download successful.\"\n",
      "[1] \"Downloading file number:51\"\n"
     ]
    },
    {
     "name": "stderr",
     "output_type": "stream",
     "text": [
      "submitting request as query ID first...\n",
      "\n",
      "retrieving files using fileIDS...\n",
      "\n"
     ]
    },
    {
     "name": "stdout",
     "output_type": "stream",
     "text": [
      "[1] \"Initiating file download for B084_PT1_PB01580-01_live_logical_transform_labelled_expr.csv\"\n",
      "[1] \"Download successful.\"\n",
      "[1] \"Downloading file number:52\"\n"
     ]
    },
    {
     "name": "stderr",
     "output_type": "stream",
     "text": [
      "submitting request as query ID first...\n",
      "\n",
      "retrieving files using fileIDS...\n",
      "\n"
     ]
    },
    {
     "name": "stdout",
     "output_type": "stream",
     "text": [
      "[1] \"Initiating file download for B169_PT1_PB02474-003_live_logical_transform_labelled_expr.csv\"\n",
      "[1] \"Download successful.\"\n",
      "[1] \"Downloading file number:53\"\n"
     ]
    },
    {
     "name": "stderr",
     "output_type": "stream",
     "text": [
      "submitting request as query ID first...\n",
      "\n",
      "retrieving files using fileIDS...\n",
      "\n"
     ]
    },
    {
     "name": "stdout",
     "output_type": "stream",
     "text": [
      "[1] \"Initiating file download for B169_PT1_PB03066-003_live_logical_transform_labelled_expr.csv\"\n",
      "[1] \"Download successful.\"\n",
      "[1] \"Downloading file number:54\"\n"
     ]
    },
    {
     "name": "stderr",
     "output_type": "stream",
     "text": [
      "submitting request as query ID first...\n",
      "\n",
      "retrieving files using fileIDS...\n",
      "\n"
     ]
    },
    {
     "name": "stdout",
     "output_type": "stream",
     "text": [
      "[1] \"Initiating file download for B169_PT1_PB02501-003_live_logical_transform_labelled_expr.csv\"\n",
      "[1] \"Download successful.\"\n",
      "[1] \"Downloading file number:55\"\n"
     ]
    },
    {
     "name": "stderr",
     "output_type": "stream",
     "text": [
      "submitting request as query ID first...\n",
      "\n",
      "retrieving files using fileIDS...\n",
      "\n"
     ]
    },
    {
     "name": "stdout",
     "output_type": "stream",
     "text": [
      "[1] \"Initiating file download for B182_PT1_PB02246-02_live_logical_transform_labelled_expr.csv\"\n",
      "[1] \"Download successful.\"\n",
      "[1] \"Downloading file number:56\"\n"
     ]
    },
    {
     "name": "stderr",
     "output_type": "stream",
     "text": [
      "submitting request as query ID first...\n",
      "\n",
      "retrieving files using fileIDS...\n",
      "\n"
     ]
    },
    {
     "name": "stdout",
     "output_type": "stream",
     "text": [
      "[1] \"Initiating file download for B119_PT1_PB02515-001_live_logical_transform_labelled_expr.csv\"\n",
      "[1] \"Download successful.\"\n",
      "[1] \"Downloading file number:57\"\n"
     ]
    },
    {
     "name": "stderr",
     "output_type": "stream",
     "text": [
      "submitting request as query ID first...\n",
      "\n",
      "retrieving files using fileIDS...\n",
      "\n"
     ]
    },
    {
     "name": "stdout",
     "output_type": "stream",
     "text": [
      "[1] \"Initiating file download for B119_PT1_PB03088-001_live_logical_transform_labelled_expr.csv\"\n",
      "[1] \"Download successful.\"\n",
      "[1] \"Downloading file number:58\"\n"
     ]
    },
    {
     "name": "stderr",
     "output_type": "stream",
     "text": [
      "submitting request as query ID first...\n",
      "\n",
      "retrieving files using fileIDS...\n",
      "\n"
     ]
    },
    {
     "name": "stdout",
     "output_type": "stream",
     "text": [
      "[1] \"Initiating file download for B119_PT1_PB02531-001_live_logical_transform_labelled_expr.csv\"\n",
      "[1] \"Download successful.\"\n",
      "[1] \"Downloading file number:59\"\n"
     ]
    },
    {
     "name": "stderr",
     "output_type": "stream",
     "text": [
      "submitting request as query ID first...\n",
      "\n",
      "retrieving files using fileIDS...\n",
      "\n"
     ]
    },
    {
     "name": "stdout",
     "output_type": "stream",
     "text": [
      "[1] \"Initiating file download for B085_PT1_PB02240-01_live_logical_transform_labelled_expr.csv\"\n",
      "[1] \"Download successful.\"\n",
      "[1] \"Downloading file number:60\"\n"
     ]
    },
    {
     "name": "stderr",
     "output_type": "stream",
     "text": [
      "submitting request as query ID first...\n",
      "\n",
      "retrieving files using fileIDS...\n",
      "\n"
     ]
    },
    {
     "name": "stdout",
     "output_type": "stream",
     "text": [
      "[1] \"Initiating file download for B080_PT1_PB00560-01_live_logical_transform_labelled_expr.csv\"\n",
      "[1] \"Download successful.\"\n",
      "[1] \"Downloading file number:61\"\n"
     ]
    },
    {
     "name": "stderr",
     "output_type": "stream",
     "text": [
      "submitting request as query ID first...\n",
      "\n",
      "retrieving files using fileIDS...\n",
      "\n"
     ]
    },
    {
     "name": "stdout",
     "output_type": "stream",
     "text": [
      "[1] \"Initiating file download for B080_PT1_PB01558-01_live_logical_transform_labelled_expr.csv\"\n",
      "[1] \"Download successful.\"\n",
      "[1] \"Downloading file number:62\"\n"
     ]
    },
    {
     "name": "stderr",
     "output_type": "stream",
     "text": [
      "submitting request as query ID first...\n",
      "\n",
      "retrieving files using fileIDS...\n",
      "\n"
     ]
    },
    {
     "name": "stdout",
     "output_type": "stream",
     "text": [
      "[1] \"Initiating file download for B080_PT1_PB01423-01_live_logical_transform_labelled_expr.csv\"\n",
      "[1] \"Download successful.\"\n",
      "[1] \"Downloading file number:63\"\n"
     ]
    },
    {
     "name": "stderr",
     "output_type": "stream",
     "text": [
      "submitting request as query ID first...\n",
      "\n",
      "retrieving files using fileIDS...\n",
      "\n"
     ]
    },
    {
     "name": "stdout",
     "output_type": "stream",
     "text": [
      "[1] \"Initiating file download for B080_PT1_PB00541-01_live_logical_transform_labelled_expr.csv\"\n",
      "[1] \"Download successful.\"\n",
      "[1] \"Downloading file number:64\"\n"
     ]
    },
    {
     "name": "stderr",
     "output_type": "stream",
     "text": [
      "submitting request as query ID first...\n",
      "\n",
      "retrieving files using fileIDS...\n",
      "\n"
     ]
    },
    {
     "name": "stdout",
     "output_type": "stream",
     "text": [
      "[1] \"Initiating file download for B080_PT1_PB01572-01_live_logical_transform_labelled_expr.csv\"\n",
      "[1] \"Download successful.\"\n",
      "[1] \"Downloading file number:65\"\n"
     ]
    },
    {
     "name": "stderr",
     "output_type": "stream",
     "text": [
      "submitting request as query ID first...\n",
      "\n",
      "retrieving files using fileIDS...\n",
      "\n"
     ]
    },
    {
     "name": "stdout",
     "output_type": "stream",
     "text": [
      "[1] \"Initiating file download for B147_PT1_PB03912-001_live_logical_transform_labelled_expr.csv\"\n",
      "[1] \"Download successful.\"\n",
      "[1] \"Downloading file number:66\"\n"
     ]
    },
    {
     "name": "stderr",
     "output_type": "stream",
     "text": [
      "submitting request as query ID first...\n",
      "\n",
      "retrieving files using fileIDS...\n",
      "\n"
     ]
    },
    {
     "name": "stdout",
     "output_type": "stream",
     "text": [
      "[1] \"Initiating file download for B125_PT1_PB03909-001_live_logical_transform_labelled_expr.csv\"\n",
      "[1] \"Download successful.\"\n",
      "[1] \"Downloading file number:67\"\n"
     ]
    },
    {
     "name": "stderr",
     "output_type": "stream",
     "text": [
      "submitting request as query ID first...\n",
      "\n",
      "retrieving files using fileIDS...\n",
      "\n"
     ]
    },
    {
     "name": "stdout",
     "output_type": "stream",
     "text": [
      "[1] \"Initiating file download for B115_PT1_PB02516-001_live_logical_transform_labelled_expr.csv\"\n",
      "[1] \"Download successful.\"\n",
      "[1] \"Downloading file number:68\"\n"
     ]
    },
    {
     "name": "stderr",
     "output_type": "stream",
     "text": [
      "submitting request as query ID first...\n",
      "\n",
      "retrieving files using fileIDS...\n",
      "\n"
     ]
    },
    {
     "name": "stdout",
     "output_type": "stream",
     "text": [
      "[1] \"Initiating file download for B115_PT1_PB02533-001_live_logical_transform_labelled_expr.csv\"\n",
      "[1] \"Download successful.\"\n",
      "[1] \"Downloading file number:69\"\n"
     ]
    },
    {
     "name": "stderr",
     "output_type": "stream",
     "text": [
      "submitting request as query ID first...\n",
      "\n",
      "retrieving files using fileIDS...\n",
      "\n"
     ]
    },
    {
     "name": "stdout",
     "output_type": "stream",
     "text": [
      "[1] \"Initiating file download for B085_PT1_PB02249-01_live_logical_transform_labelled_expr.csv\"\n",
      "[1] \"Download successful.\"\n",
      "[1] \"Downloading file number:70\"\n"
     ]
    },
    {
     "name": "stderr",
     "output_type": "stream",
     "text": [
      "submitting request as query ID first...\n",
      "\n",
      "retrieving files using fileIDS...\n",
      "\n"
     ]
    },
    {
     "name": "stdout",
     "output_type": "stream",
     "text": [
      "[1] \"Initiating file download for B080_PT1_PB01556-01_live_logical_transform_labelled_expr.csv\"\n",
      "[1] \"Download successful.\"\n",
      "[1] \"Downloading file number:71\"\n"
     ]
    },
    {
     "name": "stderr",
     "output_type": "stream",
     "text": [
      "submitting request as query ID first...\n",
      "\n",
      "retrieving files using fileIDS...\n",
      "\n"
     ]
    },
    {
     "name": "stdout",
     "output_type": "stream",
     "text": [
      "[1] \"Initiating file download for B080_PT1_PB01431-01_live_logical_transform_labelled_expr.csv\"\n",
      "[1] \"Download successful.\"\n",
      "[1] \"Downloading file number:72\"\n"
     ]
    },
    {
     "name": "stderr",
     "output_type": "stream",
     "text": [
      "submitting request as query ID first...\n",
      "\n",
      "retrieving files using fileIDS...\n",
      "\n"
     ]
    },
    {
     "name": "stdout",
     "output_type": "stream",
     "text": [
      "[1] \"Initiating file download for B080_PT1_PB01570-01_live_logical_transform_labelled_expr.csv\"\n",
      "[1] \"Download successful.\"\n",
      "[1] \"Downloading file number:73\"\n"
     ]
    },
    {
     "name": "stderr",
     "output_type": "stream",
     "text": [
      "submitting request as query ID first...\n",
      "\n",
      "retrieving files using fileIDS...\n",
      "\n"
     ]
    },
    {
     "name": "stdout",
     "output_type": "stream",
     "text": [
      "[1] \"Initiating file download for B080_PT1_PB00550-01_live_logical_transform_labelled_expr.csv\"\n",
      "[1] \"Download successful.\"\n",
      "[1] \"Downloading file number:74\"\n"
     ]
    },
    {
     "name": "stderr",
     "output_type": "stream",
     "text": [
      "submitting request as query ID first...\n",
      "\n",
      "retrieving files using fileIDS...\n",
      "\n"
     ]
    },
    {
     "name": "stdout",
     "output_type": "stream",
     "text": [
      "[1] \"Initiating file download for B080_PT1_PB00533-01_live_logical_transform_labelled_expr.csv\"\n",
      "[1] \"Download successful.\"\n",
      "[1] \"Downloading file number:75\"\n"
     ]
    },
    {
     "name": "stderr",
     "output_type": "stream",
     "text": [
      "submitting request as query ID first...\n",
      "\n",
      "retrieving files using fileIDS...\n",
      "\n"
     ]
    },
    {
     "name": "stdout",
     "output_type": "stream",
     "text": [
      "[1] \"Initiating file download for B149_PT1_PB03076-001_live_logical_transform_labelled_expr.csv\"\n",
      "[1] \"Download successful.\"\n",
      "[1] \"Downloading file number:76\"\n"
     ]
    },
    {
     "name": "stderr",
     "output_type": "stream",
     "text": [
      "submitting request as query ID first...\n",
      "\n",
      "retrieving files using fileIDS...\n",
      "\n"
     ]
    },
    {
     "name": "stdout",
     "output_type": "stream",
     "text": [
      "[1] \"Initiating file download for B091_PT1_PB00571-02_live_logical_transform_labelled_expr.csv\"\n",
      "[1] \"Download successful.\"\n",
      "[1] \"Downloading file number:77\"\n"
     ]
    },
    {
     "name": "stderr",
     "output_type": "stream",
     "text": [
      "submitting request as query ID first...\n",
      "\n",
      "retrieving files using fileIDS...\n",
      "\n"
     ]
    },
    {
     "name": "stdout",
     "output_type": "stream",
     "text": [
      "[1] \"Initiating file download for B091_PT1_PB00557-02_live_logical_transform_labelled_expr.csv\"\n",
      "[1] \"Download successful.\"\n",
      "[1] \"Downloading file number:78\"\n"
     ]
    },
    {
     "name": "stderr",
     "output_type": "stream",
     "text": [
      "submitting request as query ID first...\n",
      "\n",
      "retrieving files using fileIDS...\n",
      "\n"
     ]
    },
    {
     "name": "stdout",
     "output_type": "stream",
     "text": [
      "[1] \"Initiating file download for B091_PT1_PB01451-02_live_logical_transform_labelled_expr.csv\"\n",
      "[1] \"Download successful.\"\n",
      "[1] \"Downloading file number:79\"\n"
     ]
    },
    {
     "name": "stderr",
     "output_type": "stream",
     "text": [
      "submitting request as query ID first...\n",
      "\n",
      "retrieving files using fileIDS...\n",
      "\n"
     ]
    },
    {
     "name": "stdout",
     "output_type": "stream",
     "text": [
      "[1] \"Initiating file download for B084_PT1_PB02001-01_live_logical_transform_labelled_expr.csv\"\n",
      "[1] \"Download successful.\"\n",
      "[1] \"Downloading file number:80\"\n"
     ]
    },
    {
     "name": "stderr",
     "output_type": "stream",
     "text": [
      "submitting request as query ID first...\n",
      "\n",
      "retrieving files using fileIDS...\n",
      "\n"
     ]
    },
    {
     "name": "stdout",
     "output_type": "stream",
     "text": [
      "[1] \"Initiating file download for B084_PT1_PB01992-01_live_logical_transform_labelled_expr.csv\"\n",
      "[1] \"Download successful.\"\n",
      "[1] \"Downloading file number:81\"\n"
     ]
    },
    {
     "name": "stderr",
     "output_type": "stream",
     "text": [
      "submitting request as query ID first...\n",
      "\n",
      "retrieving files using fileIDS...\n",
      "\n"
     ]
    },
    {
     "name": "stdout",
     "output_type": "stream",
     "text": [
      "[1] \"Initiating file download for B149_PT1_PB02329-001_live_logical_transform_labelled_expr.csv\"\n",
      "[1] \"Download successful.\"\n",
      "[1] \"Downloading file number:82\"\n"
     ]
    },
    {
     "name": "stderr",
     "output_type": "stream",
     "text": [
      "submitting request as query ID first...\n",
      "\n",
      "retrieving files using fileIDS...\n",
      "\n"
     ]
    },
    {
     "name": "stdout",
     "output_type": "stream",
     "text": [
      "[1] \"Initiating file download for B169_PT1_PB03064-003_live_logical_transform_labelled_expr.csv\"\n",
      "[1] \"Download successful.\"\n",
      "[1] \"Downloading file number:83\"\n"
     ]
    },
    {
     "name": "stderr",
     "output_type": "stream",
     "text": [
      "submitting request as query ID first...\n",
      "\n",
      "retrieving files using fileIDS...\n",
      "\n"
     ]
    },
    {
     "name": "stdout",
     "output_type": "stream",
     "text": [
      "[1] \"Initiating file download for B169_PT1_PB02488-003_live_logical_transform_labelled_expr.csv\"\n",
      "[1] \"Download successful.\"\n",
      "[1] \"Downloading file number:84\"\n"
     ]
    },
    {
     "name": "stderr",
     "output_type": "stream",
     "text": [
      "submitting request as query ID first...\n",
      "\n",
      "retrieving files using fileIDS...\n",
      "\n"
     ]
    },
    {
     "name": "stdout",
     "output_type": "stream",
     "text": [
      "[1] \"Initiating file download for B169_PT1_PB02505-003_live_logical_transform_labelled_expr.csv\"\n",
      "[1] \"Download successful.\"\n",
      "[1] \"Downloading file number:85\"\n"
     ]
    },
    {
     "name": "stderr",
     "output_type": "stream",
     "text": [
      "submitting request as query ID first...\n",
      "\n",
      "retrieving files using fileIDS...\n",
      "\n"
     ]
    },
    {
     "name": "stdout",
     "output_type": "stream",
     "text": [
      "[1] \"Initiating file download for B182_PT1_PB03110-003_live_logical_transform_labelled_expr.csv\"\n",
      "[1] \"Download successful.\"\n",
      "[1] \"Downloading file number:86\"\n"
     ]
    },
    {
     "name": "stderr",
     "output_type": "stream",
     "text": [
      "submitting request as query ID first...\n",
      "\n",
      "retrieving files using fileIDS...\n",
      "\n"
     ]
    },
    {
     "name": "stdout",
     "output_type": "stream",
     "text": [
      "[1] \"Initiating file download for B064_PT1_PB00564-01_live_logical_transform_labelled_expr.csv\"\n",
      "[1] \"Download successful.\"\n",
      "[1] \"Downloading file number:87\"\n"
     ]
    },
    {
     "name": "stderr",
     "output_type": "stream",
     "text": [
      "submitting request as query ID first...\n",
      "\n",
      "retrieving files using fileIDS...\n",
      "\n"
     ]
    },
    {
     "name": "stdout",
     "output_type": "stream",
     "text": [
      "[1] \"Initiating file download for B119_PT1_PB02554-001_live_logical_transform_labelled_expr.csv\"\n",
      "[1] \"Download successful.\"\n",
      "[1] \"Downloading file number:88\"\n"
     ]
    },
    {
     "name": "stderr",
     "output_type": "stream",
     "text": [
      "submitting request as query ID first...\n",
      "\n",
      "retrieving files using fileIDS...\n",
      "\n"
     ]
    },
    {
     "name": "stdout",
     "output_type": "stream",
     "text": [
      "[1] \"Initiating file download for B119_PT1_PB02546-001_live_logical_transform_labelled_expr.csv\"\n",
      "[1] \"Download successful.\"\n",
      "[1] \"Downloading file number:89\"\n"
     ]
    },
    {
     "name": "stderr",
     "output_type": "stream",
     "text": [
      "submitting request as query ID first...\n",
      "\n",
      "retrieving files using fileIDS...\n",
      "\n"
     ]
    },
    {
     "name": "stdout",
     "output_type": "stream",
     "text": [
      "[1] \"Initiating file download for B119_PT1_PB03104-001_live_logical_transform_labelled_expr.csv\"\n",
      "[1] \"Download successful.\"\n",
      "[1] \"Downloading file number:90\"\n"
     ]
    },
    {
     "name": "stderr",
     "output_type": "stream",
     "text": [
      "submitting request as query ID first...\n",
      "\n",
      "retrieving files using fileIDS...\n",
      "\n"
     ]
    },
    {
     "name": "stdout",
     "output_type": "stream",
     "text": [
      "[1] \"Initiating file download for B084_PT1_PB01447-01_live_logical_transform_labelled_expr.csv\"\n",
      "[1] \"Download successful.\"\n",
      "[1] \"Downloading file number:91\"\n"
     ]
    },
    {
     "name": "stderr",
     "output_type": "stream",
     "text": [
      "submitting request as query ID first...\n",
      "\n",
      "retrieving files using fileIDS...\n",
      "\n"
     ]
    },
    {
     "name": "stdout",
     "output_type": "stream",
     "text": [
      "[1] \"Initiating file download for B084_PT1_PB01996-01_live_logical_transform_labelled_expr.csv\"\n",
      "[1] \"Download successful.\"\n",
      "[1] \"Downloading file number:92\"\n"
     ]
    },
    {
     "name": "stderr",
     "output_type": "stream",
     "text": [
      "submitting request as query ID first...\n",
      "\n",
      "retrieving files using fileIDS...\n",
      "\n"
     ]
    },
    {
     "name": "stdout",
     "output_type": "stream",
     "text": [
      "[1] \"Initiating file download for B084_PT1_PB01986-01_live_logical_transform_labelled_expr.csv\"\n",
      "[1] \"Download successful.\"\n",
      "[1] \"Downloading file number:93\"\n"
     ]
    },
    {
     "name": "stderr",
     "output_type": "stream",
     "text": [
      "submitting request as query ID first...\n",
      "\n",
      "retrieving files using fileIDS...\n",
      "\n"
     ]
    },
    {
     "name": "stdout",
     "output_type": "stream",
     "text": [
      "[1] \"Initiating file download for B084_PT1_PB00577-01_live_logical_transform_labelled_expr.csv\"\n",
      "[1] \"Download successful.\"\n",
      "[1] \"Downloading file number:94\"\n"
     ]
    },
    {
     "name": "stderr",
     "output_type": "stream",
     "text": [
      "submitting request as query ID first...\n",
      "\n",
      "retrieving files using fileIDS...\n",
      "\n"
     ]
    },
    {
     "name": "stdout",
     "output_type": "stream",
     "text": [
      "[1] \"Initiating file download for B145_PT1_PB01447-02_live_logical_transform_labelled_expr.csv\"\n",
      "[1] \"Download successful.\"\n",
      "[1] \"Downloading file number:95\"\n"
     ]
    },
    {
     "name": "stderr",
     "output_type": "stream",
     "text": [
      "submitting request as query ID first...\n",
      "\n",
      "retrieving files using fileIDS...\n",
      "\n"
     ]
    },
    {
     "name": "stdout",
     "output_type": "stream",
     "text": [
      "[1] \"Initiating file download for B145_PT1_PB00564-04_live_logical_transform_labelled_expr.csv\"\n",
      "[1] \"Download successful.\"\n",
      "[1] \"Downloading file number:96\"\n"
     ]
    },
    {
     "name": "stderr",
     "output_type": "stream",
     "text": [
      "submitting request as query ID first...\n",
      "\n",
      "retrieving files using fileIDS...\n",
      "\n"
     ]
    },
    {
     "name": "stdout",
     "output_type": "stream",
     "text": [
      "[1] \"Initiating file download for B145_PT1_PB00577-02_live_logical_transform_labelled_expr.csv\"\n",
      "[1] \"Download successful.\"\n",
      "[1] \"Downloading file number:97\"\n"
     ]
    },
    {
     "name": "stderr",
     "output_type": "stream",
     "text": [
      "submitting request as query ID first...\n",
      "\n",
      "retrieving files using fileIDS...\n",
      "\n"
     ]
    },
    {
     "name": "stdout",
     "output_type": "stream",
     "text": [
      "[1] \"Initiating file download for B119_PT1_PB02538-001_live_logical_transform_labelled_expr.csv\"\n",
      "[1] \"Download successful.\"\n",
      "[1] \"Downloading file number:98\"\n"
     ]
    },
    {
     "name": "stderr",
     "output_type": "stream",
     "text": [
      "submitting request as query ID first...\n",
      "\n",
      "retrieving files using fileIDS...\n",
      "\n"
     ]
    },
    {
     "name": "stdout",
     "output_type": "stream",
     "text": [
      "[1] \"Initiating file download for B119_PT1_PB02522-001_live_logical_transform_labelled_expr.csv\"\n",
      "[1] \"Download successful.\"\n",
      "[1] \"Downloading file number:99\"\n"
     ]
    },
    {
     "name": "stderr",
     "output_type": "stream",
     "text": [
      "submitting request as query ID first...\n",
      "\n",
      "retrieving files using fileIDS...\n",
      "\n"
     ]
    },
    {
     "name": "stdout",
     "output_type": "stream",
     "text": [
      "[1] \"Initiating file download for B077_PT1_PB01416-01_live_logical_transform_labelled_expr.csv\"\n",
      "[1] \"Download successful.\"\n",
      "[1] \"Downloading file number:100\"\n"
     ]
    },
    {
     "name": "stderr",
     "output_type": "stream",
     "text": [
      "submitting request as query ID first...\n",
      "\n",
      "retrieving files using fileIDS...\n",
      "\n"
     ]
    },
    {
     "name": "stdout",
     "output_type": "stream",
     "text": [
      "[1] \"Initiating file download for B077_PT1_PB00538-01_live_logical_transform_labelled_expr.csv\"\n",
      "[1] \"Download successful.\"\n",
      "[1] \"Downloading file number:101\"\n"
     ]
    },
    {
     "name": "stderr",
     "output_type": "stream",
     "text": [
      "submitting request as query ID first...\n",
      "\n",
      "retrieving files using fileIDS...\n",
      "\n"
     ]
    },
    {
     "name": "stdout",
     "output_type": "stream",
     "text": [
      "[1] \"Initiating file download for B077_PT1_PB00520-01_live_logical_transform_labelled_expr.csv\"\n",
      "[1] \"Download successful.\"\n",
      "[1] \"Downloading file number:102\"\n"
     ]
    },
    {
     "name": "stderr",
     "output_type": "stream",
     "text": [
      "submitting request as query ID first...\n",
      "\n",
      "retrieving files using fileIDS...\n",
      "\n"
     ]
    },
    {
     "name": "stdout",
     "output_type": "stream",
     "text": [
      "[1] \"Initiating file download for B077_PT1_PB01582-01_live_logical_transform_labelled_expr.csv\"\n",
      "[1] \"Download successful.\"\n",
      "[1] \"Downloading file number:103\"\n"
     ]
    },
    {
     "name": "stderr",
     "output_type": "stream",
     "text": [
      "submitting request as query ID first...\n",
      "\n",
      "retrieving files using fileIDS...\n",
      "\n"
     ]
    },
    {
     "name": "stdout",
     "output_type": "stream",
     "text": [
      "[1] \"Initiating file download for B077_PT1_PB01568-01_live_logical_transform_labelled_expr.csv\"\n",
      "[1] \"Download successful.\"\n",
      "[1] \"Downloading file number:104\"\n"
     ]
    },
    {
     "name": "stderr",
     "output_type": "stream",
     "text": [
      "submitting request as query ID first...\n",
      "\n",
      "retrieving files using fileIDS...\n",
      "\n"
     ]
    },
    {
     "name": "stdout",
     "output_type": "stream",
     "text": [
      "[1] \"Initiating file download for B149_PT1_PB03911-001_live_logical_transform_labelled_expr.csv\"\n",
      "[1] \"Download successful.\"\n",
      "[1] \"Downloading file number:105\"\n"
     ]
    },
    {
     "name": "stderr",
     "output_type": "stream",
     "text": [
      "submitting request as query ID first...\n",
      "\n",
      "retrieving files using fileIDS...\n",
      "\n"
     ]
    },
    {
     "name": "stdout",
     "output_type": "stream",
     "text": [
      "[1] \"Initiating file download for B153_PT1_PB03084-001_live_logical_transform_labelled_expr.csv\"\n",
      "[1] \"Download successful.\"\n",
      "[1] \"Downloading file number:106\"\n"
     ]
    },
    {
     "name": "stderr",
     "output_type": "stream",
     "text": [
      "submitting request as query ID first...\n",
      "\n",
      "retrieving files using fileIDS...\n",
      "\n"
     ]
    },
    {
     "name": "stdout",
     "output_type": "stream",
     "text": [
      "[1] \"Initiating file download for B119_PT1_PB02588-001_live_logical_transform_labelled_expr.csv\"\n",
      "[1] \"Download successful.\"\n",
      "[1] \"Downloading file number:107\"\n"
     ]
    },
    {
     "name": "stderr",
     "output_type": "stream",
     "text": [
      "submitting request as query ID first...\n",
      "\n",
      "retrieving files using fileIDS...\n",
      "\n"
     ]
    },
    {
     "name": "stdout",
     "output_type": "stream",
     "text": [
      "[1] \"Initiating file download for B077_PT1_PB00540-01_live_logical_transform_labelled_expr.csv\"\n",
      "[1] \"Download successful.\"\n",
      "[1] \"Downloading file number:108\"\n"
     ]
    },
    {
     "name": "stderr",
     "output_type": "stream",
     "text": [
      "submitting request as query ID first...\n",
      "\n",
      "retrieving files using fileIDS...\n",
      "\n"
     ]
    },
    {
     "name": "stdout",
     "output_type": "stream",
     "text": [
      "[1] \"Initiating file download for B077_PT1_PB00523-01_live_logical_transform_labelled_expr.csv\"\n",
      "[1] \"Download successful.\"\n",
      "[1] \"Downloading file number:109\"\n"
     ]
    },
    {
     "name": "stderr",
     "output_type": "stream",
     "text": [
      "submitting request as query ID first...\n",
      "\n",
      "retrieving files using fileIDS...\n",
      "\n"
     ]
    },
    {
     "name": "stdout",
     "output_type": "stream",
     "text": [
      "[1] \"Initiating file download for B077_PT1_PB01541-01_live_logical_transform_labelled_expr.csv\"\n",
      "[1] \"Download successful.\"\n",
      "[1] \"Downloading file number:110\"\n"
     ]
    },
    {
     "name": "stderr",
     "output_type": "stream",
     "text": [
      "submitting request as query ID first...\n",
      "\n",
      "retrieving files using fileIDS...\n",
      "\n"
     ]
    },
    {
     "name": "stdout",
     "output_type": "stream",
     "text": [
      "[1] \"Initiating file download for B077_PT1_PB01527-01_live_logical_transform_labelled_expr.csv\"\n",
      "[1] \"Download successful.\"\n",
      "[1] \"Downloading file number:111\"\n"
     ]
    },
    {
     "name": "stderr",
     "output_type": "stream",
     "text": [
      "submitting request as query ID first...\n",
      "\n",
      "retrieving files using fileIDS...\n",
      "\n"
     ]
    },
    {
     "name": "stdout",
     "output_type": "stream",
     "text": [
      "[1] \"Initiating file download for B077_PT1_PB01415-01_live_logical_transform_labelled_expr.csv\"\n",
      "[1] \"Download successful.\"\n",
      "[1] \"Downloading file number:112\"\n"
     ]
    },
    {
     "name": "stderr",
     "output_type": "stream",
     "text": [
      "submitting request as query ID first...\n",
      "\n",
      "retrieving files using fileIDS...\n",
      "\n"
     ]
    },
    {
     "name": "stdout",
     "output_type": "stream",
     "text": [
      "[1] \"Initiating file download for B097_PT1_PB02447-001_live_logical_transform_labelled_expr.csv\"\n",
      "[1] \"Download successful.\"\n",
      "[1] \"Downloading file number:113\"\n"
     ]
    },
    {
     "name": "stderr",
     "output_type": "stream",
     "text": [
      "submitting request as query ID first...\n",
      "\n",
      "retrieving files using fileIDS...\n",
      "\n"
     ]
    },
    {
     "name": "stdout",
     "output_type": "stream",
     "text": [
      "[1] \"Initiating file download for B097_PT1_PB02344-001_live_logical_transform_labelled_expr.csv\"\n",
      "[1] \"Download successful.\"\n",
      "[1] \"Downloading file number:114\"\n"
     ]
    },
    {
     "name": "stderr",
     "output_type": "stream",
     "text": [
      "submitting request as query ID first...\n",
      "\n",
      "retrieving files using fileIDS...\n",
      "\n"
     ]
    },
    {
     "name": "stdout",
     "output_type": "stream",
     "text": [
      "[1] \"Initiating file download for B080_PT1_PB02234-01_live_logical_transform_labelled_expr.csv\"\n",
      "[1] \"Download successful.\"\n",
      "[1] \"Downloading file number:115\"\n"
     ]
    },
    {
     "name": "stderr",
     "output_type": "stream",
     "text": [
      "submitting request as query ID first...\n",
      "\n",
      "retrieving files using fileIDS...\n",
      "\n"
     ]
    },
    {
     "name": "stdout",
     "output_type": "stream",
     "text": [
      "[1] \"Initiating file download for B115_PT1_PB02539-001_live_logical_transform_labelled_expr.csv\"\n",
      "[1] \"Download successful.\"\n",
      "[1] \"Downloading file number:116\"\n"
     ]
    },
    {
     "name": "stderr",
     "output_type": "stream",
     "text": [
      "submitting request as query ID first...\n",
      "\n",
      "retrieving files using fileIDS...\n",
      "\n"
     ]
    },
    {
     "name": "stdout",
     "output_type": "stream",
     "text": [
      "[1] \"Initiating file download for B115_PT1_PB02549-001_live_logical_transform_labelled_expr.csv\"\n",
      "[1] \"Download successful.\"\n",
      "[1] \"Downloading file number:117\"\n"
     ]
    },
    {
     "name": "stderr",
     "output_type": "stream",
     "text": [
      "submitting request as query ID first...\n",
      "\n",
      "retrieving files using fileIDS...\n",
      "\n"
     ]
    },
    {
     "name": "stdout",
     "output_type": "stream",
     "text": [
      "[1] \"Initiating file download for B077_PT1_PB00573-01_live_logical_transform_labelled_expr.csv\"\n",
      "[1] \"Download successful.\"\n",
      "[1] \"Downloading file number:118\"\n"
     ]
    },
    {
     "name": "stderr",
     "output_type": "stream",
     "text": [
      "submitting request as query ID first...\n",
      "\n",
      "retrieving files using fileIDS...\n",
      "\n"
     ]
    },
    {
     "name": "stdout",
     "output_type": "stream",
     "text": [
      "[1] \"Initiating file download for B077_PT1_PB01432-01_live_logical_transform_labelled_expr.csv\"\n",
      "[1] \"Download successful.\"\n",
      "[1] \"Downloading file number:119\"\n"
     ]
    },
    {
     "name": "stderr",
     "output_type": "stream",
     "text": [
      "submitting request as query ID first...\n",
      "\n",
      "retrieving files using fileIDS...\n",
      "\n"
     ]
    },
    {
     "name": "stdout",
     "output_type": "stream",
     "text": [
      "[1] \"Initiating file download for B077_PT1_PB01539-01_live_logical_transform_labelled_expr.csv\"\n",
      "[1] \"Download successful.\"\n",
      "[1] \"Downloading file number:120\"\n"
     ]
    },
    {
     "name": "stderr",
     "output_type": "stream",
     "text": [
      "submitting request as query ID first...\n",
      "\n",
      "retrieving files using fileIDS...\n",
      "\n"
     ]
    },
    {
     "name": "stdout",
     "output_type": "stream",
     "text": [
      "[1] \"Initiating file download for B077_PT1_PB00558-01_live_logical_transform_labelled_expr.csv\"\n",
      "[1] \"Download successful.\"\n",
      "[1] \"Downloading file number:121\"\n"
     ]
    },
    {
     "name": "stderr",
     "output_type": "stream",
     "text": [
      "submitting request as query ID first...\n",
      "\n",
      "retrieving files using fileIDS...\n",
      "\n"
     ]
    },
    {
     "name": "stdout",
     "output_type": "stream",
     "text": [
      "[1] \"Initiating file download for B077_PT1_PB01584-01_live_logical_transform_labelled_expr.csv\"\n",
      "[1] \"Download successful.\"\n",
      "[1] \"Downloading file number:122\"\n"
     ]
    },
    {
     "name": "stderr",
     "output_type": "stream",
     "text": [
      "submitting request as query ID first...\n",
      "\n",
      "retrieving files using fileIDS...\n",
      "\n"
     ]
    },
    {
     "name": "stdout",
     "output_type": "stream",
     "text": [
      "[1] \"Initiating file download for B080_PT1_PB02232-01_live_logical_transform_labelled_expr.csv\"\n",
      "[1] \"Download successful.\"\n",
      "[1] \"Downloading file number:123\"\n"
     ]
    },
    {
     "name": "stderr",
     "output_type": "stream",
     "text": [
      "submitting request as query ID first...\n",
      "\n",
      "retrieving files using fileIDS...\n",
      "\n"
     ]
    },
    {
     "name": "stdout",
     "output_type": "stream",
     "text": [
      "[1] \"Initiating file download for B147_PT1_PB03910-001_live_logical_transform_labelled_expr.csv\"\n",
      "[1] \"Download successful.\"\n",
      "[1] \"Downloading file number:124\"\n"
     ]
    },
    {
     "name": "stderr",
     "output_type": "stream",
     "text": [
      "submitting request as query ID first...\n",
      "\n",
      "retrieving files using fileIDS...\n",
      "\n"
     ]
    },
    {
     "name": "stdout",
     "output_type": "stream",
     "text": [
      "[1] \"Initiating file download for B153_PT1_PB03087-001_live_logical_transform_labelled_expr.csv\"\n",
      "[1] \"Download successful.\"\n",
      "[1] \"Downloading file number:125\"\n"
     ]
    },
    {
     "name": "stderr",
     "output_type": "stream",
     "text": [
      "submitting request as query ID first...\n",
      "\n",
      "retrieving files using fileIDS...\n",
      "\n"
     ]
    },
    {
     "name": "stdout",
     "output_type": "stream",
     "text": [
      "[1] \"Initiating file download for B097_PT1_PB02323-001_live_logical_transform_labelled_expr.csv\"\n",
      "[1] \"Download successful.\"\n",
      "[1] \"Downloading file number:126\"\n"
     ]
    },
    {
     "name": "stderr",
     "output_type": "stream",
     "text": [
      "submitting request as query ID first...\n",
      "\n",
      "retrieving files using fileIDS...\n",
      "\n"
     ]
    },
    {
     "name": "stdout",
     "output_type": "stream",
     "text": [
      "[1] \"Initiating file download for B084_PT1_PB00637-01_live_logical_transform_labelled_expr.csv\"\n",
      "[1] \"Download successful.\"\n",
      "[1] \"Downloading file number:127\"\n"
     ]
    },
    {
     "name": "stderr",
     "output_type": "stream",
     "text": [
      "submitting request as query ID first...\n",
      "\n",
      "retrieving files using fileIDS...\n",
      "\n"
     ]
    },
    {
     "name": "stdout",
     "output_type": "stream",
     "text": [
      "[1] \"Initiating file download for B084_PT1_PB01545-01_live_logical_transform_labelled_expr.csv\"\n",
      "[1] \"Download successful.\"\n",
      "[1] \"Downloading file number:128\"\n"
     ]
    },
    {
     "name": "stderr",
     "output_type": "stream",
     "text": [
      "submitting request as query ID first...\n",
      "\n",
      "retrieving files using fileIDS...\n",
      "\n"
     ]
    },
    {
     "name": "stdout",
     "output_type": "stream",
     "text": [
      "[1] \"Initiating file download for B084_PT1_PB01993-01_live_logical_transform_labelled_expr.csv\"\n",
      "[1] \"Download successful.\"\n",
      "[1] \"Downloading file number:129\"\n"
     ]
    },
    {
     "name": "stderr",
     "output_type": "stream",
     "text": [
      "submitting request as query ID first...\n",
      "\n",
      "retrieving files using fileIDS...\n",
      "\n"
     ]
    },
    {
     "name": "stdout",
     "output_type": "stream",
     "text": [
      "[1] \"Initiating file download for B084_PT1_PB01999-01_live_logical_transform_labelled_expr.csv\"\n",
      "[1] \"Download successful.\"\n",
      "[1] \"Downloading file number:130\"\n"
     ]
    },
    {
     "name": "stderr",
     "output_type": "stream",
     "text": [
      "submitting request as query ID first...\n",
      "\n",
      "retrieving files using fileIDS...\n",
      "\n"
     ]
    },
    {
     "name": "stdout",
     "output_type": "stream",
     "text": [
      "[1] \"Initiating file download for B084_PT1_PB00623-01_live_logical_transform_labelled_expr.csv\"\n",
      "[1] \"Download successful.\"\n",
      "[1] \"Downloading file number:131\"\n"
     ]
    },
    {
     "name": "stderr",
     "output_type": "stream",
     "text": [
      "submitting request as query ID first...\n",
      "\n",
      "retrieving files using fileIDS...\n",
      "\n"
     ]
    },
    {
     "name": "stdout",
     "output_type": "stream",
     "text": [
      "[1] \"Initiating file download for B156_PT1_PB03102-002_live_logical_transform_labelled_expr.csv\"\n",
      "[1] \"Download successful.\"\n",
      "[1] \"Downloading file number:132\"\n"
     ]
    },
    {
     "name": "stderr",
     "output_type": "stream",
     "text": [
      "submitting request as query ID first...\n",
      "\n",
      "retrieving files using fileIDS...\n",
      "\n"
     ]
    },
    {
     "name": "stdout",
     "output_type": "stream",
     "text": [
      "[1] \"Initiating file download for B156_PT1_PB02477-002_live_logical_transform_labelled_expr.csv\"\n",
      "[1] \"Download successful.\"\n",
      "[1] \"Downloading file number:133\"\n"
     ]
    },
    {
     "name": "stderr",
     "output_type": "stream",
     "text": [
      "submitting request as query ID first...\n",
      "\n",
      "retrieving files using fileIDS...\n",
      "\n"
     ]
    },
    {
     "name": "stdout",
     "output_type": "stream",
     "text": [
      "[1] \"Initiating file download for B156_PT1_PB02497-002_live_logical_transform_labelled_expr.csv\"\n",
      "[1] \"Download successful.\"\n",
      "[1] \"Downloading file number:134\"\n"
     ]
    },
    {
     "name": "stderr",
     "output_type": "stream",
     "text": [
      "submitting request as query ID first...\n",
      "\n",
      "retrieving files using fileIDS...\n",
      "\n"
     ]
    },
    {
     "name": "stdout",
     "output_type": "stream",
     "text": [
      "[1] \"Initiating file download for B147_PT1_PB03924-001_live_logical_transform_labelled_expr.csv\"\n",
      "[1] \"Download successful.\"\n",
      "[1] \"Downloading file number:135\"\n"
     ]
    },
    {
     "name": "stderr",
     "output_type": "stream",
     "text": [
      "submitting request as query ID first...\n",
      "\n",
      "retrieving files using fileIDS...\n",
      "\n"
     ]
    },
    {
     "name": "stdout",
     "output_type": "stream",
     "text": [
      "[1] \"Initiating file download for B169_PT1_PB02497-003_live_logical_transform_labelled_expr.csv\"\n",
      "[1] \"Download successful.\"\n",
      "[1] \"Downloading file number:136\"\n"
     ]
    },
    {
     "name": "stderr",
     "output_type": "stream",
     "text": [
      "submitting request as query ID first...\n",
      "\n",
      "retrieving files using fileIDS...\n",
      "\n"
     ]
    },
    {
     "name": "stdout",
     "output_type": "stream",
     "text": [
      "[1] \"Initiating file download for B132_PT1_PB02530-001_live_logical_transform_labelled_expr.csv\"\n",
      "[1] \"Download successful.\"\n",
      "[1] \"Downloading file number:137\"\n"
     ]
    },
    {
     "name": "stderr",
     "output_type": "stream",
     "text": [
      "submitting request as query ID first...\n",
      "\n",
      "retrieving files using fileIDS...\n",
      "\n"
     ]
    },
    {
     "name": "stdout",
     "output_type": "stream",
     "text": [
      "[1] \"Initiating file download for B132_PT1_PB02542-001_live_logical_transform_labelled_expr.csv\"\n",
      "[1] \"Download successful.\"\n",
      "[1] \"Downloading file number:138\"\n"
     ]
    },
    {
     "name": "stderr",
     "output_type": "stream",
     "text": [
      "submitting request as query ID first...\n",
      "\n",
      "retrieving files using fileIDS...\n",
      "\n"
     ]
    },
    {
     "name": "stdout",
     "output_type": "stream",
     "text": [
      "[1] \"Initiating file download for B132_PT1_PB03093-001_live_logical_transform_labelled_expr.csv\"\n",
      "[1] \"Download successful.\"\n",
      "[1] \"Downloading file number:139\"\n"
     ]
    },
    {
     "name": "stderr",
     "output_type": "stream",
     "text": [
      "submitting request as query ID first...\n",
      "\n",
      "retrieving files using fileIDS...\n",
      "\n"
     ]
    },
    {
     "name": "stdout",
     "output_type": "stream",
     "text": [
      "[1] \"Initiating file download for B097_PT1_PB02327-001_live_logical_transform_labelled_expr.csv\"\n",
      "[1] \"Download successful.\"\n",
      "[1] \"Downloading file number:140\"\n"
     ]
    },
    {
     "name": "stderr",
     "output_type": "stream",
     "text": [
      "submitting request as query ID first...\n",
      "\n",
      "retrieving files using fileIDS...\n",
      "\n"
     ]
    },
    {
     "name": "stdout",
     "output_type": "stream",
     "text": [
      "[1] \"Initiating file download for B084_PT1_PB00602-01_live_logical_transform_labelled_expr.csv\"\n",
      "[1] \"Download successful.\"\n",
      "[1] \"Downloading file number:141\"\n"
     ]
    },
    {
     "name": "stderr",
     "output_type": "stream",
     "text": [
      "submitting request as query ID first...\n",
      "\n",
      "retrieving files using fileIDS...\n",
      "\n"
     ]
    },
    {
     "name": "stdout",
     "output_type": "stream",
     "text": [
      "[1] \"Initiating file download for B084_PT1_PB01990-01_live_logical_transform_labelled_expr.csv\"\n",
      "[1] \"Download successful.\"\n",
      "[1] \"Downloading file number:142\"\n"
     ]
    },
    {
     "name": "stderr",
     "output_type": "stream",
     "text": [
      "submitting request as query ID first...\n",
      "\n",
      "retrieving files using fileIDS...\n",
      "\n"
     ]
    },
    {
     "name": "stdout",
     "output_type": "stream",
     "text": [
      "[1] \"Initiating file download for B084_PT1_PB01997-01_live_logical_transform_labelled_expr.csv\"\n",
      "[1] \"Download successful.\"\n",
      "[1] \"Downloading file number:143\"\n"
     ]
    },
    {
     "name": "stderr",
     "output_type": "stream",
     "text": [
      "submitting request as query ID first...\n",
      "\n",
      "retrieving files using fileIDS...\n",
      "\n"
     ]
    },
    {
     "name": "stdout",
     "output_type": "stream",
     "text": [
      "[1] \"Initiating file download for B084_PT1_PB00614-01_live_logical_transform_labelled_expr.csv\"\n",
      "[1] \"Download successful.\"\n",
      "[1] \"Downloading file number:144\"\n"
     ]
    },
    {
     "name": "stderr",
     "output_type": "stream",
     "text": [
      "submitting request as query ID first...\n",
      "\n",
      "retrieving files using fileIDS...\n",
      "\n"
     ]
    },
    {
     "name": "stdout",
     "output_type": "stream",
     "text": [
      "[1] \"Initiating file download for B084_PT1_PB01509-01_live_logical_transform_labelled_expr.csv\"\n",
      "[1] \"Download successful.\"\n",
      "[1] \"Downloading file number:145\"\n"
     ]
    },
    {
     "name": "stderr",
     "output_type": "stream",
     "text": [
      "submitting request as query ID first...\n",
      "\n",
      "retrieving files using fileIDS...\n",
      "\n"
     ]
    },
    {
     "name": "stdout",
     "output_type": "stream",
     "text": [
      "[1] \"Initiating file download for B060_PT1_PB00599-01_live_logical_transform_labelled_expr.csv\"\n",
      "[1] \"Download successful.\"\n",
      "[1] \"Downloading file number:146\"\n"
     ]
    },
    {
     "name": "stderr",
     "output_type": "stream",
     "text": [
      "submitting request as query ID first...\n",
      "\n",
      "retrieving files using fileIDS...\n",
      "\n"
     ]
    },
    {
     "name": "stdout",
     "output_type": "stream",
     "text": [
      "[1] \"Initiating file download for B060_PT1_PB00604-01_live_logical_transform_labelled_expr.csv\"\n",
      "[1] \"Download successful.\"\n",
      "[1] \"Downloading file number:147\"\n"
     ]
    },
    {
     "name": "stderr",
     "output_type": "stream",
     "text": [
      "submitting request as query ID first...\n",
      "\n",
      "retrieving files using fileIDS...\n",
      "\n"
     ]
    },
    {
     "name": "stdout",
     "output_type": "stream",
     "text": [
      "[1] \"Initiating file download for B083_PT1_PB02239-01_live_logical_transform_labelled_expr.csv\"\n",
      "[1] \"Download successful.\"\n",
      "[1] \"Downloading file number:148\"\n"
     ]
    },
    {
     "name": "stderr",
     "output_type": "stream",
     "text": [
      "submitting request as query ID first...\n",
      "\n",
      "retrieving files using fileIDS...\n",
      "\n"
     ]
    },
    {
     "name": "stdout",
     "output_type": "stream",
     "text": [
      "[1] \"Initiating file download for B083_PT1_PB01585-01_live_logical_transform_labelled_expr.csv\"\n",
      "[1] \"Download successful.\"\n",
      "[1] \"Downloading file number:149\"\n"
     ]
    },
    {
     "name": "stderr",
     "output_type": "stream",
     "text": [
      "submitting request as query ID first...\n",
      "\n",
      "retrieving files using fileIDS...\n",
      "\n"
     ]
    },
    {
     "name": "stdout",
     "output_type": "stream",
     "text": [
      "[1] \"Initiating file download for B083_PT1_PB02229-01_live_logical_transform_labelled_expr.csv\"\n",
      "[1] \"Download successful.\"\n",
      "[1] \"Downloading file number:150\"\n"
     ]
    },
    {
     "name": "stderr",
     "output_type": "stream",
     "text": [
      "submitting request as query ID first...\n",
      "\n",
      "retrieving files using fileIDS...\n",
      "\n"
     ]
    },
    {
     "name": "stdout",
     "output_type": "stream",
     "text": [
      "[1] \"Initiating file download for B097_PT1_PB02335-001_live_logical_transform_labelled_expr.csv\"\n",
      "[1] \"Download successful.\"\n",
      "[1] \"Downloading file number:151\"\n"
     ]
    },
    {
     "name": "stderr",
     "output_type": "stream",
     "text": [
      "submitting request as query ID first...\n",
      "\n",
      "retrieving files using fileIDS...\n",
      "\n"
     ]
    },
    {
     "name": "stdout",
     "output_type": "stream",
     "text": [
      "[1] \"Initiating file download for B148_PT1_PB02551-001_live_logical_transform_labelled_expr.csv\"\n",
      "[1] \"Download successful.\"\n",
      "[1] \"Downloading file number:152\"\n"
     ]
    },
    {
     "name": "stderr",
     "output_type": "stream",
     "text": [
      "submitting request as query ID first...\n",
      "\n",
      "retrieving files using fileIDS...\n",
      "\n"
     ]
    },
    {
     "name": "stdout",
     "output_type": "stream",
     "text": [
      "[1] \"Initiating file download for B148_PT1_PB03094-001_live_logical_transform_labelled_expr.csv\"\n",
      "[1] \"Download successful.\"\n",
      "[1] \"Downloading file number:153\"\n"
     ]
    },
    {
     "name": "stderr",
     "output_type": "stream",
     "text": [
      "submitting request as query ID first...\n",
      "\n",
      "retrieving files using fileIDS...\n",
      "\n"
     ]
    },
    {
     "name": "stdout",
     "output_type": "stream",
     "text": [
      "[1] \"Initiating file download for B148_PT1_PB02540-001_live_logical_transform_labelled_expr.csv\"\n",
      "[1] \"Download successful.\"\n",
      "[1] \"Downloading file number:154\"\n"
     ]
    },
    {
     "name": "stderr",
     "output_type": "stream",
     "text": [
      "submitting request as query ID first...\n",
      "\n",
      "retrieving files using fileIDS...\n",
      "\n"
     ]
    },
    {
     "name": "stdout",
     "output_type": "stream",
     "text": [
      "[1] \"Initiating file download for B182_PT1_PB02335-002_live_logical_transform_labelled_expr.csv\"\n",
      "[1] \"Download successful.\"\n",
      "[1] \"Downloading file number:155\"\n"
     ]
    },
    {
     "name": "stderr",
     "output_type": "stream",
     "text": [
      "submitting request as query ID first...\n",
      "\n",
      "retrieving files using fileIDS...\n",
      "\n"
     ]
    },
    {
     "name": "stdout",
     "output_type": "stream",
     "text": [
      "[1] \"Initiating file download for B125_PT1_PB02331-001_live_logical_transform_labelled_expr.csv\"\n",
      "[1] \"Download successful.\"\n",
      "[1] \"Downloading file number:156\"\n"
     ]
    },
    {
     "name": "stderr",
     "output_type": "stream",
     "text": [
      "submitting request as query ID first...\n",
      "\n",
      "retrieving files using fileIDS...\n",
      "\n"
     ]
    },
    {
     "name": "stdout",
     "output_type": "stream",
     "text": [
      "[1] \"Initiating file download for B115_PT1_PB02525-001_live_logical_transform_labelled_expr.csv\"\n",
      "[1] \"Download successful.\"\n",
      "[1] \"Downloading file number:157\"\n"
     ]
    },
    {
     "name": "stderr",
     "output_type": "stream",
     "text": [
      "submitting request as query ID first...\n",
      "\n",
      "retrieving files using fileIDS...\n",
      "\n"
     ]
    },
    {
     "name": "stdout",
     "output_type": "stream",
     "text": [
      "[1] \"Initiating file download for B115_PT1_PB02508-001_live_logical_transform_labelled_expr.csv\"\n",
      "[1] \"Download successful.\"\n",
      "[1] \"Downloading file number:158\"\n"
     ]
    },
    {
     "name": "stderr",
     "output_type": "stream",
     "text": [
      "submitting request as query ID first...\n",
      "\n",
      "retrieving files using fileIDS...\n",
      "\n"
     ]
    },
    {
     "name": "stdout",
     "output_type": "stream",
     "text": [
      "[1] \"Initiating file download for B083_PT1_PB01543-01_live_logical_transform_labelled_expr.csv\"\n",
      "[1] \"Download successful.\"\n",
      "[1] \"Downloading file number:159\"\n"
     ]
    },
    {
     "name": "stderr",
     "output_type": "stream",
     "text": [
      "submitting request as query ID first...\n",
      "\n",
      "retrieving files using fileIDS...\n",
      "\n"
     ]
    },
    {
     "name": "stdout",
     "output_type": "stream",
     "text": [
      "[1] \"Initiating file download for B083_PT1_PB00625-01_live_logical_transform_labelled_expr.csv\"\n",
      "[1] \"Download successful.\"\n",
      "[1] \"Downloading file number:160\"\n"
     ]
    },
    {
     "name": "stderr",
     "output_type": "stream",
     "text": [
      "submitting request as query ID first...\n",
      "\n",
      "retrieving files using fileIDS...\n",
      "\n"
     ]
    },
    {
     "name": "stdout",
     "output_type": "stream",
     "text": [
      "[1] \"Initiating file download for B083_PT1_PB02004-01_live_logical_transform_labelled_expr.csv\"\n",
      "[1] \"Download successful.\"\n",
      "[1] \"Downloading file number:161\"\n"
     ]
    },
    {
     "name": "stderr",
     "output_type": "stream",
     "text": [
      "submitting request as query ID first...\n",
      "\n",
      "retrieving files using fileIDS...\n",
      "\n"
     ]
    },
    {
     "name": "stdout",
     "output_type": "stream",
     "text": [
      "[1] \"Initiating file download for B083_PT1_PB00639-01_live_logical_transform_labelled_expr.csv\"\n",
      "[1] \"Download successful.\"\n",
      "[1] \"Downloading file number:162\"\n"
     ]
    },
    {
     "name": "stderr",
     "output_type": "stream",
     "text": [
      "submitting request as query ID first...\n",
      "\n",
      "retrieving files using fileIDS...\n",
      "\n"
     ]
    },
    {
     "name": "stdout",
     "output_type": "stream",
     "text": [
      "[1] \"Initiating file download for B150_PT1_PB03079-001_live_logical_transform_labelled_expr.csv\"\n",
      "[1] \"Download successful.\"\n",
      "[1] \"Downloading file number:163\"\n"
     ]
    },
    {
     "name": "stderr",
     "output_type": "stream",
     "text": [
      "submitting request as query ID first...\n",
      "\n",
      "retrieving files using fileIDS...\n",
      "\n"
     ]
    },
    {
     "name": "stdout",
     "output_type": "stream",
     "text": [
      "[1] \"Initiating file download for B150_PT1_PB03900-001_live_logical_transform_labelled_expr.csv\"\n",
      "[1] \"Download successful.\"\n",
      "[1] \"Downloading file number:164\"\n"
     ]
    },
    {
     "name": "stderr",
     "output_type": "stream",
     "text": [
      "submitting request as query ID first...\n",
      "\n",
      "retrieving files using fileIDS...\n",
      "\n"
     ]
    },
    {
     "name": "stdout",
     "output_type": "stream",
     "text": [
      "[1] \"Initiating file download for B145_PT1_PB00625-02_live_logical_transform_labelled_expr.csv\"\n",
      "[1] \"Download successful.\"\n",
      "[1] \"Downloading file number:165\"\n"
     ]
    },
    {
     "name": "stderr",
     "output_type": "stream",
     "text": [
      "submitting request as query ID first...\n",
      "\n",
      "retrieving files using fileIDS...\n",
      "\n"
     ]
    },
    {
     "name": "stdout",
     "output_type": "stream",
     "text": [
      "[1] \"Initiating file download for B145_PT1_PB00639-02_live_logical_transform_labelled_expr.csv\"\n",
      "[1] \"Download successful.\"\n"
     ]
    }
   ],
   "source": [
    "file_num <- 0\n",
    "for (i in 1:nrow(df_PT1)) {\n",
    "  success <- FALSE\n",
    "  while (!success) {\n",
    "    tryCatch({\n",
    "      print(paste0(\"Downloading file number:\", i))\n",
    "      file_num <- file_num + 1\n",
    "      cacheFiles(list(df_PT1$file.id[i]))\n",
    "      success <- TRUE\n",
    "    }, error = function(e) {\n",
    "      cat(\"Error occurred:\", conditionMessage(e), \"\\n\")\n",
    "      cat(\"Retrying in 30 seconds...\\n\")\n",
    "      Sys.sleep(30)  \n",
    "    })\n",
    "  }\n",
    "}\n"
   ]
  },
  {
   "cell_type": "code",
   "execution_count": 43,
   "id": "bb14448a-0e2a-492a-820a-76dd451771e9",
   "metadata": {
    "tags": []
   },
   "outputs": [],
   "source": [
    "meta_data<-read.csv('flow_meta_data.csv')"
   ]
  },
  {
   "cell_type": "code",
   "execution_count": 44,
   "id": "0ef84d01-78c6-4bb6-93fa-d0e0a1430606",
   "metadata": {
    "tags": []
   },
   "outputs": [],
   "source": [
    "file_id<-list.files(path = \"cache\", pattern = NULL, all.files = FALSE,\n",
    "           full.names = FALSE, recursive = TRUE,\n",
    "           ignore.case = FALSE, include.dirs = FALSE, no.. = FALSE)"
   ]
  },
  {
   "cell_type": "code",
   "execution_count": 45,
   "id": "dd4d8b8d-de50-4792-b949-9750657fac1c",
   "metadata": {
    "tags": []
   },
   "outputs": [],
   "source": [
    "matrix_of_strings <- do.call(rbind, strsplit(file_id, \"/\"))\n",
    "\n",
    "file_id <- as.data.frame(matrix_of_strings, stringsAsFactors = FALSE)\n"
   ]
  },
  {
   "cell_type": "code",
   "execution_count": 46,
   "id": "6afc5953-fd9a-45c1-b811-07e73f0dea21",
   "metadata": {
    "tags": []
   },
   "outputs": [],
   "source": [
    "colnames(file_id)<-c('file.id','file.name.downloaded')"
   ]
  },
  {
   "cell_type": "code",
   "execution_count": 48,
   "id": "55b9c04d-3b80-40a8-86bd-21a2408056f1",
   "metadata": {
    "tags": []
   },
   "outputs": [
    {
     "name": "stderr",
     "output_type": "stream",
     "text": [
      "\u001b[1m\u001b[22mJoining with `by = join_by(file.id)`\n"
     ]
    }
   ],
   "source": [
    "meta_data<-left_join(meta_data,file_id)"
   ]
  },
  {
   "cell_type": "code",
   "execution_count": 51,
   "id": "92aa6077-9fb0-41f5-81cf-f288c53ae0c9",
   "metadata": {
    "tags": []
   },
   "outputs": [],
   "source": [
    "meta_data$file.path<-paste0('/home/jupyter/BRI_Analysis/FlowCyto/cache/',meta_data$file.id,'/',meta_data$file.name.downloaded)"
   ]
  },
  {
   "cell_type": "code",
   "execution_count": 59,
   "id": "3df660b5-fb40-4d9a-a13b-5bb9a9fe8da0",
   "metadata": {
    "tags": []
   },
   "outputs": [],
   "source": [
    "meta_data$pbmc_sample_id <- str_extract(meta_data$file.name, \"PB([^_]+)\")\n",
    "\n"
   ]
  },
  {
   "cell_type": "code",
   "execution_count": 60,
   "id": "7f738aa3-0473-41d7-8878-f27c5888b00a",
   "metadata": {
    "tags": []
   },
   "outputs": [],
   "source": [
    "write.csv(meta_data,'flow_meta_data.csv')"
   ]
  },
  {
   "cell_type": "code",
   "execution_count": null,
   "id": "34fc42cc-35d5-40b2-8105-240364c7eb2f",
   "metadata": {},
   "outputs": [],
   "source": []
  }
 ],
 "metadata": {
  "kernelspec": {
   "display_name": "R 4",
   "language": "R",
   "name": "ir4"
  },
  "language_info": {
   "codemirror_mode": "r",
   "file_extension": ".r",
   "mimetype": "text/x-r-source",
   "name": "R",
   "pygments_lexer": "r",
   "version": "4.3.1"
  }
 },
 "nbformat": 4,
 "nbformat_minor": 5
}
