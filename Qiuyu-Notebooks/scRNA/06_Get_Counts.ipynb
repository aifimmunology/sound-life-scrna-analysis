{
 "cells": [
  {
   "cell_type": "code",
   "execution_count": 1,
   "id": "c7832e98-ad3d-4b8b-9802-bacaa032d91d",
   "metadata": {
    "tags": []
   },
   "outputs": [],
   "source": [
    "import scanpy as sc\n",
    "import pandas as pd \n",
    "import numpy as np\n",
    "import anndata\n",
    "import re\n",
    "import h5py\n",
    "import scipy.sparse as scs\n",
    "import concurrent.futures\n",
    "import matplotlib.pyplot as plt\n",
    "import seaborn as sns\n",
    "from scipy.sparse import csc_matrix\n",
    "from concurrent.futures import ThreadPoolExecutor, as_completed\n",
    "import umap\n",
    "import random\n",
    "import multiprocessing\n",
    "random.seed(123)\n",
    "from joblib import Parallel, delayed\n",
    "import warnings\n",
    "import os\n",
    "from tqdm import tqdm\n",
    "import math\n",
    "import gc\n",
    "import re\n",
    "import multiprocessing\n",
    "warnings.filterwarnings('ignore')"
   ]
  },
  {
   "cell_type": "code",
   "execution_count": 4,
   "id": "a9b48e16-fa20-44c4-bcc4-6b1e28f69e89",
   "metadata": {
    "tags": []
   },
   "outputs": [],
   "source": [
    "meta_data=pd.read_csv('/home/jupyter/BRI_Analysis/scRNA/hise_meta_data_2024-01-23_fixed.csv')\n"
   ]
  },
  {
   "cell_type": "code",
   "execution_count": null,
   "id": "1c572673-b8e0-4e04-b53c-186ce4e6cf14",
   "metadata": {
    "tags": []
   },
   "outputs": [
    {
     "name": "stderr",
     "output_type": "stream",
     "text": [
      " 49% 427/868 [15:12<20:07,  2.74s/it] "
     ]
    }
   ],
   "source": [
    "sample_ids = meta_data[\"pbmc_sample_id\"].tolist()\n",
    "directory_path = \"/home/jupyter/BRI_Analysis/scRNA/h5_cleaned_by_sample/\"\n",
    "\n",
    "def read_h5ad_file(sample_id):\n",
    "    file_path = os.path.join(directory_path, f'{sample_id}.h5ad')\n",
    "    try:\n",
    "        return sc.read_h5ad(file_path)\n",
    "    except Exception as e:\n",
    "        print(f'Error reading {file_path}: {e}')\n",
    "        return None\n",
    "\n",
    "# read files in parallel? still slow :)\n",
    "with ThreadPoolExecutor(max_workers=60) as executor:\n",
    "    results = list(tqdm(executor.map(read_h5ad_file, sample_ids), total=len(sample_ids)))\n",
    "\n",
    "h5_list = [result for result in results if result is not None]"
   ]
  },
  {
   "cell_type": "code",
   "execution_count": 26,
   "id": "e6d44390-1278-41ba-932b-cd507b7acd58",
   "metadata": {
    "tags": []
   },
   "outputs": [],
   "source": [
    "count_df=list()\n",
    "for adata in h5_list:\n",
    "    df=pd.DataFrame(adata.obs['AIFI_L3'].value_counts())\n",
    "    df.columns=[adata.obs['pbmc_sample_id'][0]]\n",
    "    count_df.append(df)\n",
    "pd.concat(count_df,axis=1).to_csv('BRI_Counts_AIFI_L3.csv')"
   ]
  },
  {
   "cell_type": "code",
   "execution_count": 30,
   "id": "f23159af-856c-429d-89e8-6934cc7a8238",
   "metadata": {
    "tags": []
   },
   "outputs": [],
   "source": [
    "count_df=list()\n",
    "for adata in h5_list:\n",
    "    df=pd.DataFrame(adata.obs['AIFI_L2'].value_counts())\n",
    "    df.columns=[adata.obs['pbmc_sample_id'][0]]\n",
    "    count_df.append(df)\n",
    "pd.concat(count_df,axis=1).to_csv('BRI_Counts_AIFI_L2.csv')"
   ]
  },
  {
   "cell_type": "code",
   "execution_count": 31,
   "id": "844795d1-edf2-47fb-bc85-79facbe7c7d8",
   "metadata": {
    "tags": []
   },
   "outputs": [],
   "source": [
    "count_df=list()\n",
    "for adata in h5_list:\n",
    "    df=pd.DataFrame(adata.obs['AIFI_L1'].value_counts())\n",
    "    df.columns=[adata.obs['pbmc_sample_id'][0]]\n",
    "    count_df.append(df)\n",
    "pd.concat(count_df,axis=1).to_csv('BRI_Counts_AIFI_L1.csv')"
   ]
  },
  {
   "cell_type": "code",
   "execution_count": null,
   "id": "5dfa8ac0-99c4-4256-a535-bdd6a3d2ab62",
   "metadata": {},
   "outputs": [],
   "source": []
  }
 ],
 "metadata": {
  "kernelspec": {
   "display_name": "Python [conda env:root] *",
   "language": "python",
   "name": "conda-root-py"
  },
  "language_info": {
   "codemirror_mode": {
    "name": "ipython",
    "version": 3
   },
   "file_extension": ".py",
   "mimetype": "text/x-python",
   "name": "python",
   "nbconvert_exporter": "python",
   "pygments_lexer": "ipython3",
   "version": "3.10.12"
  }
 },
 "nbformat": 4,
 "nbformat_minor": 5
}
