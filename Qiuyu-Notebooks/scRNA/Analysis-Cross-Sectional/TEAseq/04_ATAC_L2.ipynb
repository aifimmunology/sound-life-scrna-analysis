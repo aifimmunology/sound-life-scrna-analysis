{
 "cells": [
  {
   "cell_type": "code",
   "execution_count": 5,
   "id": "322126ca-c648-4c13-94ff-83f945b67e07",
   "metadata": {
    "tags": []
   },
   "outputs": [
    {
     "name": "stderr",
     "output_type": "stream",
     "text": [
      "Setting default genome to Hg38.\n",
      "\n",
      "Setting default number of Parallel threads to 60.\n",
      "\n"
     ]
    }
   ],
   "source": [
    "quiet_library <- function(...) {\n",
    "    suppressPackageStartupMessages(library(...))\n",
    "}\n",
    "quiet_library('tidyverse')\n",
    "quiet_library(\"hise\")\n",
    "quiet_library('ArchR')\n",
    "quiet_library('data.table')\n",
    "quiet_library('jsonlite')\n",
    "quiet_library('parallel')\n",
    "quiet_library(\"Seurat\")\n",
    "quiet_library(H5weaver)\n",
    "addArchRGenome(\"hg38\")\n",
    "addArchRThreads(threads = 60)\n",
    "options(future.globals.maxSize = 1000 * 1024^5)"
   ]
  },
  {
   "cell_type": "code",
   "execution_count": 2,
   "id": "31bfbd0c-5be7-402b-80c2-ff0ab5d47ad6",
   "metadata": {
    "tags": []
   },
   "outputs": [],
   "source": [
    "T_cell_L3<-c('CD8aa',\n",
    " 'DN T cell',\n",
    " 'CD8 MAIT','CD4 MAIT','ISG+ MAIT',\n",
    " 'CM CD4 T cell',\n",
    " 'GZMB- CD27+ EM CD4 T cell','GZMB- CD27- EM CD4 T cell',\n",
    " 'ISG+ memory CD4 T cell','KLRF1- GZMB+ CD27- memory CD4 T cell','GZMK+ CD27+ EM CD8 T cell',\n",
    " 'CM CD8 T cell','KLRF1- GZMB+ CD27- EM CD8 T cell','GZMK- CD27+ EM CD8 T cell',\n",
    " 'KLRF1+ GZMB+ CD27- EM CD8 T cell',\n",
    " 'ISG+ memory CD8 T cell','Core naive CD4 T cell','SOX4+ naive CD4 T cell',\n",
    " 'ISG+ naive CD4 T cell','Core naive CD8 T cell','SOX4+ naive CD8 T cell',\n",
    " 'ISG+ naive CD8 T cell','Proliferating T cell',\n",
    " 'Naive CD4 Treg','Memory CD4 Treg',\n",
    " 'KLRB1+ memory CD4 Treg','Memory CD8 Treg','GZMK+ memory CD4 Treg',\n",
    " 'KLRB1+ memory CD8 Treg','GZMK+ Vd2 gdT',\n",
    " 'GZMB+ Vd2 gdT','Naive Vd1 gdT','KLRF1+ effector Vd1 gdT','SOX4+ Vd1 gdT','KLRF1- effector Vd1 gdT')"
   ]
  },
  {
   "cell_type": "code",
   "execution_count": 8,
   "id": "190d8094-b29b-4e09-8b10-2d93a36472b9",
   "metadata": {
    "tags": []
   },
   "outputs": [
    {
     "name": "stderr",
     "output_type": "stream",
     "text": [
      "Downloading package from url: https://cran.r-project.org/src/contrib/Archive/Matrix/Matrix_1.5-3.tar.gz\n",
      "\n",
      "Installing package into ‘/home/jupyter/libb’\n",
      "(as ‘lib’ is unspecified)\n",
      "\n"
     ]
    }
   ],
   "source": [
    "remotes::install_version(\"Matrix\", version = \"1.5.3\")"
   ]
  },
  {
   "cell_type": "code",
   "execution_count": 2,
   "id": "42c6a5fd-9892-4080-bde2-5b1da0948f49",
   "metadata": {
    "tags": []
   },
   "outputs": [],
   "source": [
    "meta<-read.csv('meta_data_GEO.csv')\n"
   ]
  },
  {
   "cell_type": "code",
   "execution_count": 10,
   "id": "99ffd782-2189-4eba-b9dd-a794a89a5e50",
   "metadata": {
    "tags": []
   },
   "outputs": [
    {
     "data": {
      "text/html": [
       "<ol>\n",
       "\t<li>'GSM6611363_B065-P1_PB00593-04.arrow'</li>\n",
       "\t<li>'GSM6611364_B069-P1_PB00323-02.arrow'</li>\n",
       "\t<li>'GSM6611365_B076-P1_PB00368-04.arrow'</li>\n",
       "\t<li>'GSM6611366_B076-P1_PB00353-03.arrow'</li>\n",
       "\t<li>'GSM6611367_B076-P1_PB00334-03.arrow'</li>\n",
       "\t<li>'GSM6611368_B076-P1_PB00377-03.arrow'</li>\n",
       "\t<li>'GSM6611369_B076-P1_PB00545-02.arrow'</li>\n",
       "\t<li>'GSM6611370_B076-P1_PB00599-02.arrow'</li>\n",
       "\t<li>'GSM6611371_B076-P1_PB00124-02.arrow'</li>\n",
       "\t<li>'GSM6611372_B069-P1_PB00172-02.arrow'</li>\n",
       "\t<li>'GSM6611373_B069-P1_PB00182-02.arrow'</li>\n",
       "\t<li>'GSM6611374_B076-P1_PB00127-02.arrow'</li>\n",
       "\t<li>'GSM6611375_B069-P1_PB00807-02.arrow'</li>\n",
       "\t<li>'GSM6611376_B065-P1_PB00173-02.arrow'</li>\n",
       "\t<li>'GSM6611377_B065-P1_PB00192-02.arrow'</li>\n",
       "\t<li>'GSM6611378_B065-P1_PB00197-02.arrow'</li>\n",
       "</ol>\n"
      ],
      "text/latex": [
       "\\begin{enumerate}\n",
       "\\item 'GSM6611363\\_B065-P1\\_PB00593-04.arrow'\n",
       "\\item 'GSM6611364\\_B069-P1\\_PB00323-02.arrow'\n",
       "\\item 'GSM6611365\\_B076-P1\\_PB00368-04.arrow'\n",
       "\\item 'GSM6611366\\_B076-P1\\_PB00353-03.arrow'\n",
       "\\item 'GSM6611367\\_B076-P1\\_PB00334-03.arrow'\n",
       "\\item 'GSM6611368\\_B076-P1\\_PB00377-03.arrow'\n",
       "\\item 'GSM6611369\\_B076-P1\\_PB00545-02.arrow'\n",
       "\\item 'GSM6611370\\_B076-P1\\_PB00599-02.arrow'\n",
       "\\item 'GSM6611371\\_B076-P1\\_PB00124-02.arrow'\n",
       "\\item 'GSM6611372\\_B069-P1\\_PB00172-02.arrow'\n",
       "\\item 'GSM6611373\\_B069-P1\\_PB00182-02.arrow'\n",
       "\\item 'GSM6611374\\_B076-P1\\_PB00127-02.arrow'\n",
       "\\item 'GSM6611375\\_B069-P1\\_PB00807-02.arrow'\n",
       "\\item 'GSM6611376\\_B065-P1\\_PB00173-02.arrow'\n",
       "\\item 'GSM6611377\\_B065-P1\\_PB00192-02.arrow'\n",
       "\\item 'GSM6611378\\_B065-P1\\_PB00197-02.arrow'\n",
       "\\end{enumerate}\n"
      ],
      "text/markdown": [
       "1. 'GSM6611363_B065-P1_PB00593-04.arrow'\n",
       "2. 'GSM6611364_B069-P1_PB00323-02.arrow'\n",
       "3. 'GSM6611365_B076-P1_PB00368-04.arrow'\n",
       "4. 'GSM6611366_B076-P1_PB00353-03.arrow'\n",
       "5. 'GSM6611367_B076-P1_PB00334-03.arrow'\n",
       "6. 'GSM6611368_B076-P1_PB00377-03.arrow'\n",
       "7. 'GSM6611369_B076-P1_PB00545-02.arrow'\n",
       "8. 'GSM6611370_B076-P1_PB00599-02.arrow'\n",
       "9. 'GSM6611371_B076-P1_PB00124-02.arrow'\n",
       "10. 'GSM6611372_B069-P1_PB00172-02.arrow'\n",
       "11. 'GSM6611373_B069-P1_PB00182-02.arrow'\n",
       "12. 'GSM6611374_B076-P1_PB00127-02.arrow'\n",
       "13. 'GSM6611375_B069-P1_PB00807-02.arrow'\n",
       "14. 'GSM6611376_B065-P1_PB00173-02.arrow'\n",
       "15. 'GSM6611377_B065-P1_PB00192-02.arrow'\n",
       "16. 'GSM6611378_B065-P1_PB00197-02.arrow'\n",
       "\n",
       "\n"
      ],
      "text/plain": [
       "[[1]]\n",
       "[1] \"GSM6611363_B065-P1_PB00593-04.arrow\"\n",
       "\n",
       "[[2]]\n",
       "[1] \"GSM6611364_B069-P1_PB00323-02.arrow\"\n",
       "\n",
       "[[3]]\n",
       "[1] \"GSM6611365_B076-P1_PB00368-04.arrow\"\n",
       "\n",
       "[[4]]\n",
       "[1] \"GSM6611366_B076-P1_PB00353-03.arrow\"\n",
       "\n",
       "[[5]]\n",
       "[1] \"GSM6611367_B076-P1_PB00334-03.arrow\"\n",
       "\n",
       "[[6]]\n",
       "[1] \"GSM6611368_B076-P1_PB00377-03.arrow\"\n",
       "\n",
       "[[7]]\n",
       "[1] \"GSM6611369_B076-P1_PB00545-02.arrow\"\n",
       "\n",
       "[[8]]\n",
       "[1] \"GSM6611370_B076-P1_PB00599-02.arrow\"\n",
       "\n",
       "[[9]]\n",
       "[1] \"GSM6611371_B076-P1_PB00124-02.arrow\"\n",
       "\n",
       "[[10]]\n",
       "[1] \"GSM6611372_B069-P1_PB00172-02.arrow\"\n",
       "\n",
       "[[11]]\n",
       "[1] \"GSM6611373_B069-P1_PB00182-02.arrow\"\n",
       "\n",
       "[[12]]\n",
       "[1] \"GSM6611374_B076-P1_PB00127-02.arrow\"\n",
       "\n",
       "[[13]]\n",
       "[1] \"GSM6611375_B069-P1_PB00807-02.arrow\"\n",
       "\n",
       "[[14]]\n",
       "[1] \"GSM6611376_B065-P1_PB00173-02.arrow\"\n",
       "\n",
       "[[15]]\n",
       "[1] \"GSM6611377_B065-P1_PB00192-02.arrow\"\n",
       "\n",
       "[[16]]\n",
       "[1] \"GSM6611378_B065-P1_PB00197-02.arrow\"\n"
      ]
     },
     "metadata": {},
     "output_type": "display_data"
    }
   ],
   "source": [
    "mclapply(meta$combined_sample_id,function(i){\n",
    "ArrowFiles <- createArrowFiles(\n",
    "  inputFiles = paste0(i,'_fragments.tsv.gz'),\n",
    "  sampleNames = i,\n",
    "  minTSS = 4, #Dont set this too high because you can always increase later\n",
    "  minFrags = 1000, \n",
    "  addTileMat = TRUE,\n",
    "  addGeneScoreMat = TRUE\n",
    ")\n",
    "\n",
    "},mc.cores=16)"
   ]
  },
  {
   "cell_type": "raw",
   "id": "4bcdddbe-1148-4895-be44-6900a04c48b8",
   "metadata": {
    "tags": []
   },
   "source": [
    "doubScores <- addDoubletScores(\n",
    "    input = paste0(meta$combined_sample_id,'.arrow'),\n",
    "    k = 10, #Refers to how many cells near a \"pseudo-doublet\" to count.\n",
    "    knnMethod = \"UMAP\", #Refers to the embedding to use for nearest neighbor search with doublet projection.\n",
    "    LSIMethod = 1\n",
    ")"
   ]
  },
  {
   "cell_type": "code",
   "execution_count": null,
   "id": "8bb283cd-9015-4041-8f43-96cf3aaab50e",
   "metadata": {},
   "outputs": [],
   "source": []
  },
  {
   "cell_type": "code",
   "execution_count": 11,
   "id": "4f71d578-d54e-40f9-a3f3-cad3f97bb369",
   "metadata": {
    "tags": []
   },
   "outputs": [
    {
     "name": "stderr",
     "output_type": "stream",
     "text": [
      "Using GeneAnnotation set by addArchRGenome(Hg38)!\n",
      "\n",
      "Using GeneAnnotation set by addArchRGenome(Hg38)!\n",
      "\n",
      "Validating Arrows...\n",
      "\n",
      "Getting SampleNames...\n",
      "\n",
      "\n",
      "\n",
      "Copying ArrowFiles to Ouptut Directory! If you want to save disk space set copyArrows = FALSE\n",
      "\n",
      "1 \n",
      "2 \n",
      "3 \n",
      "4 \n",
      "5 \n",
      "6 \n",
      "7 \n",
      "8 \n",
      "9 \n",
      "10 \n",
      "11 \n",
      "12 \n",
      "13 \n",
      "14 \n",
      "15 \n",
      "16 \n",
      "\n",
      "\n",
      "Getting Cell Metadata...\n",
      "\n",
      "\n",
      "\n",
      "Merging Cell Metadata...\n",
      "\n",
      "Initializing ArchRProject...\n",
      "\n",
      "\n",
      "                                                   / |\n",
      "                                                 /    \\\n",
      "            .                                  /      |.\n",
      "            \\\\\\                              /        |.\n",
      "              \\\\\\                          /           `|.\n",
      "                \\\\\\                      /              |.\n",
      "                  \\                    /                |\\\n",
      "                  \\\\#####\\           /                  ||\n",
      "                ==###########>      /                   ||\n",
      "                 \\\\##==......\\    /                     ||\n",
      "            ______ =       =|__ /__                     ||      \\\\\\\n",
      "        ,--' ,----`-,__ ___/'  --,-`-===================##========>\n",
      "       \\               '        ##_______ _____ ,--,__,=##,__   ///\n",
      "        ,    __==    ___,-,__,--'#'  ==='      `-'    | ##,-/\n",
      "        -,____,---'       \\\\####\\\\________________,--\\\\_##,/\n",
      "           ___      .______        ______  __    __  .______      \n",
      "          /   \\     |   _  \\      /      ||  |  |  | |   _  \\     \n",
      "         /  ^  \\    |  |_)  |    |  ,----'|  |__|  | |  |_)  |    \n",
      "        /  /_\\  \\   |      /     |  |     |   __   | |      /     \n",
      "       /  _____  \\  |  |\\  \\\\___ |  `----.|  |  |  | |  |\\  \\\\___.\n",
      "      /__/     \\__\\ | _| `._____| \\______||__|  |__| | _| `._____|\n",
      "    \n",
      "\n"
     ]
    }
   ],
   "source": [
    "projHeme1 <- ArchRProject(\n",
    "  ArrowFiles = paste0(meta$combined_sample_id,'.arrow'), \n",
    "  outputDirectory = \"PenSen_ATAC_L2\",\n",
    "  copyArrows = TRUE #This is recommened so that if you modify the Arrow files you have an original copy for later usage.\n",
    ")"
   ]
  },
  {
   "cell_type": "code",
   "execution_count": 12,
   "id": "ef1a6e86-777e-46f9-8c18-e5fcb50bd813",
   "metadata": {
    "tags": []
   },
   "outputs": [
    {
     "name": "stderr",
     "output_type": "stream",
     "text": [
      "Checking Inputs...\n",
      "\n",
      "ArchR logging to : ArchRLogs/ArchR-addIterativeLSI-2498991441-Date-2024-04-10_Time-16-09-08.758623.log\n",
      "If there is an issue, please report to github with logFile!\n",
      "\n",
      "2024-04-10 16:09:10.138291 : Computing Total Across All Features, 0.006 mins elapsed.\n",
      "\n",
      "2024-04-10 16:09:15.028767 : Computing Top Features, 0.088 mins elapsed.\n",
      "\n",
      "###########\n",
      "2024-04-10 16:09:16.629768 : Running LSI (1 of 2) on Top Features, 0.115 mins elapsed.\n",
      "###########\n",
      "\n",
      "2024-04-10 16:09:16.899037 : Sampling Cells (N = 10010) for Estimated LSI, 0.119 mins elapsed.\n",
      "\n",
      "2024-04-10 16:09:16.901294 : Creating Sampled Partial Matrix, 0.119 mins elapsed.\n",
      "\n",
      "2024-04-10 16:09:37.035537 : Computing Estimated LSI (projectAll = FALSE), 0.455 mins elapsed.\n",
      "\n",
      "2024-04-10 16:11:34.475518 : Identifying Clusters, 2.412 mins elapsed.\n",
      "\n",
      "2024-04-10 16:11:49.263693 : Identified 6 Clusters, 2.659 mins elapsed.\n",
      "\n",
      "2024-04-10 16:11:49.280901 : Saving LSI Iteration, 2.659 mins elapsed.\n",
      "\n",
      "2024-04-10 16:12:05.6715 : Creating Cluster Matrix on the total Group Features, 2.932 mins elapsed.\n",
      "\n",
      "2024-04-10 16:12:16.98581 : Computing Variable Features, 3.121 mins elapsed.\n",
      "\n",
      "###########\n",
      "2024-04-10 16:12:17.162817 : Running LSI (2 of 2) on Variable Features, 3.124 mins elapsed.\n",
      "###########\n",
      "\n",
      "2024-04-10 16:12:17.302058 : Creating Partial Matrix, 3.126 mins elapsed.\n",
      "\n",
      "2024-04-10 16:18:11.817639 : Computing LSI, 9.034 mins elapsed.\n",
      "\n",
      "2024-04-10 16:32:55.650196 : Finished Running IterativeLSI, 23.765 mins elapsed.\n",
      "\n"
     ]
    }
   ],
   "source": [
    "projHeme1 <- addIterativeLSI(projHeme1, name = 'IterativeLSI', force = TRUE, varFeatures = 75000)\n"
   ]
  },
  {
   "cell_type": "code",
   "execution_count": null,
   "id": "bfea3e51-ec27-4e29-b358-e39541d922c6",
   "metadata": {},
   "outputs": [],
   "source": []
  },
  {
   "cell_type": "code",
   "execution_count": 13,
   "id": "f40f93ed-83a4-4d22-9d0e-485a3c65e912",
   "metadata": {
    "tags": []
   },
   "outputs": [],
   "source": [
    "scRNA_labels<-read.csv('PedSenior_TEAseq_Labels_2024-03-26.csv')\n",
    "scRNA_labels$real_barcodes<-paste0(scRNA_labels$well_id,'-',scRNA_labels$original_barcodes,'-1')"
   ]
  },
  {
   "cell_type": "code",
   "execution_count": 14,
   "id": "c4705fa6-2132-4993-9573-4ec143a1283d",
   "metadata": {
    "tags": []
   },
   "outputs": [],
   "source": [
    "scATAC_labels<-as.data.frame(projHeme1@cellColData)\n",
    "scATAC_labels$barcodes <- str_extract(rownames(scATAC_labels), \"(?<=#).*$\")"
   ]
  },
  {
   "cell_type": "code",
   "execution_count": 15,
   "id": "9d2aa806-e845-40ae-a469-b4900a1f6d9a",
   "metadata": {
    "tags": []
   },
   "outputs": [],
   "source": [
    "scATAC_meta_data_files<-paste0(meta$combined_sample_id,'_filtered_metadata.csv.gz')"
   ]
  },
  {
   "cell_type": "code",
   "execution_count": 16,
   "id": "960fcbba-a859-46f0-8d54-d0bfaf2c4929",
   "metadata": {
    "tags": []
   },
   "outputs": [],
   "source": [
    "meta_data_list_ATAC<-mclapply(scATAC_meta_data_files,function(x){\n",
    "\n",
    "\n",
    "metadata <- read.csv(gzfile(x))\n",
    "return(metadata)\n",
    "\n",
    "},mc.cores=16)"
   ]
  },
  {
   "cell_type": "code",
   "execution_count": 17,
   "id": "a95f66b8-43ac-4556-909d-8831961f4f94",
   "metadata": {
    "tags": []
   },
   "outputs": [],
   "source": [
    "meta_data_ATAC<-do.call(rbind,meta_data_list_ATAC)"
   ]
  },
  {
   "cell_type": "code",
   "execution_count": 18,
   "id": "1b0260ba-289d-477d-a548-4a3bd2f069d7",
   "metadata": {
    "tags": []
   },
   "outputs": [],
   "source": [
    "scATAC_labels<-left_join(scATAC_labels,meta_data_ATAC,by=('barcodes'))"
   ]
  },
  {
   "cell_type": "code",
   "execution_count": 19,
   "id": "86889e54-ded6-48f9-a335-8c8143fb9477",
   "metadata": {
    "tags": []
   },
   "outputs": [],
   "source": [
    "scATAC_labels$real_barcodes<-paste0(gsub('-A','-',scATAC_labels$well_id),'-',scATAC_labels$original_barcodes)"
   ]
  },
  {
   "cell_type": "code",
   "execution_count": 20,
   "id": "4f381116-5853-451d-b067-4c69a6b89673",
   "metadata": {
    "tags": []
   },
   "outputs": [],
   "source": [
    "scATAC_labels<-left_join(scATAC_labels,scRNA_labels,by=c('real_barcodes'))"
   ]
  },
  {
   "cell_type": "code",
   "execution_count": 21,
   "id": "28caa4d0-e52e-4bb9-bdc7-5b1156a95117",
   "metadata": {
    "tags": []
   },
   "outputs": [],
   "source": [
    "scATAC_labels<-scATAC_labels %>% filter(predicted_doublet==\"False\",pct_counts_mito<15,n_genes>200,n_genes<2500)"
   ]
  },
  {
   "cell_type": "code",
   "execution_count": 22,
   "id": "dfa9a34a-77f6-4f51-9adf-84ae770ae4d8",
   "metadata": {
    "tags": []
   },
   "outputs": [],
   "source": [
    "projHeme1@cellColData$barcodes<-str_extract(rownames(as.data.frame(projHeme1@cellColData)), \"(?<=#).*$\")"
   ]
  },
  {
   "cell_type": "code",
   "execution_count": 23,
   "id": "41d9210e-ec6c-4c74-8fcd-377edfd97a64",
   "metadata": {
    "tags": []
   },
   "outputs": [],
   "source": [
    "scATAC_labels$ATAC_barcodes<-paste0(scATAC_labels$Sample,'#',scATAC_labels$barcodes.x)"
   ]
  },
  {
   "cell_type": "code",
   "execution_count": 24,
   "id": "5cd71904-2404-499d-b4a9-9f11c695b036",
   "metadata": {
    "tags": []
   },
   "outputs": [
    {
     "data": {
      "text/plain": [
       "\n",
       "        CD14 monocyte         CD16 monocyte    CD56bright NK cell \n",
       "                 1430                    11                    79 \n",
       "      CD56dim NK cell                 CD8aa             DN T cell \n",
       "                 1761                  1160                  1882 \n",
       "      Effector B cell           Erythrocyte                   gdT \n",
       "                   11                   682                  5614 \n",
       "                  ILC                  MAIT         Memory B cell \n",
       "                    1                 13036                   197 \n",
       "    Memory CD4 T cell     Memory CD8 T cell          Naive B cell \n",
       "                65762                 53170                  3111 \n",
       "     Naive CD4 T cell      Naive CD8 T cell                   pDC \n",
       "               100931                 41225                    35 \n",
       "          Plasma cell              Platelet Proliferating NK cell \n",
       "                    3                   436                    33 \n",
       " Proliferating T cell   Transitional B cell                  Treg \n",
       "                    3                    14                 10623 "
      ]
     },
     "metadata": {},
     "output_type": "display_data"
    }
   ],
   "source": [
    "table(scATAC_labels$AIFI_L2)"
   ]
  },
  {
   "cell_type": "code",
   "execution_count": 25,
   "id": "c21b1d3b-e174-4e68-b2bf-86f71aaa7fc1",
   "metadata": {
    "tags": []
   },
   "outputs": [],
   "source": [
    "scATAC_labels<-scATAC_labels %>% filter(AIFI_L1=='T cell')%>% filter(AIFI_L2%in% c('Treg','Proliferating T cell',\n",
    "                                                                    'Naive CD8 T cell','Naive CD4 T cell','CD8aa','MAIT',\n",
    "                                                                   'Memory CD8 T cell','Memory CD4 T cell','DN T cell'))%>% \n",
    "filter(AIFI_L3%in% T_cell_L3)"
   ]
  },
  {
   "cell_type": "code",
   "execution_count": 26,
   "id": "407e15b5-921c-4ac9-9014-5af3054ae1c3",
   "metadata": {
    "tags": []
   },
   "outputs": [],
   "source": [
    "write.csv(scATAC_labels,'scATAC_cell_meta_data_L2.csv')"
   ]
  },
  {
   "cell_type": "code",
   "execution_count": 27,
   "id": "9facf46d-d5dd-4f23-b058-75b214d4ad2b",
   "metadata": {
    "tags": []
   },
   "outputs": [],
   "source": [
    "projHeme1<-projHeme1[scATAC_labels$ATAC_barcodes,]"
   ]
  },
  {
   "cell_type": "code",
   "execution_count": 28,
   "id": "071fe431-a3be-4e58-bdc9-7972831b4310",
   "metadata": {
    "tags": []
   },
   "outputs": [],
   "source": [
    "projHeme1@cellColData$AIFI_L2<-scATAC_labels$AIFI_L2\n",
    "projHeme1@cellColData$AIFI_L3<-scATAC_labels$AIFI_L3"
   ]
  },
  {
   "cell_type": "code",
   "execution_count": 29,
   "id": "063c066a-94ef-4cd9-bd6f-58392d5e182e",
   "metadata": {
    "tags": []
   },
   "outputs": [
    {
     "name": "stderr",
     "output_type": "stream",
     "text": [
      "Saving ArchRProject...\n",
      "\n",
      "Loading ArchRProject...\n",
      "\n",
      "Successfully loaded ArchRProject!\n",
      "\n",
      "\n",
      "                                                   / |\n",
      "                                                 /    \\\n",
      "            .                                  /      |.\n",
      "            \\\\\\                              /        |.\n",
      "              \\\\\\                          /           `|.\n",
      "                \\\\\\                      /              |.\n",
      "                  \\                    /                |\\\n",
      "                  \\\\#####\\           /                  ||\n",
      "                ==###########>      /                   ||\n",
      "                 \\\\##==......\\    /                     ||\n",
      "            ______ =       =|__ /__                     ||      \\\\\\\n",
      "        ,--' ,----`-,__ ___/'  --,-`-===================##========>\n",
      "       \\               '        ##_______ _____ ,--,__,=##,__   ///\n",
      "        ,    __==    ___,-,__,--'#'  ==='      `-'    | ##,-/\n",
      "        -,____,---'       \\\\####\\\\________________,--\\\\_##,/\n",
      "           ___      .______        ______  __    __  .______      \n",
      "          /   \\     |   _  \\      /      ||  |  |  | |   _  \\     \n",
      "         /  ^  \\    |  |_)  |    |  ,----'|  |__|  | |  |_)  |    \n",
      "        /  /_\\  \\   |      /     |  |     |   __   | |      /     \n",
      "       /  _____  \\  |  |\\  \\\\___ |  `----.|  |  |  | |  |\\  \\\\___.\n",
      "      /__/     \\__\\ | _| `._____| \\______||__|  |__| | _| `._____|\n",
      "    \n",
      "\n",
      "\n",
      "           ___      .______        ______  __    __  .______      \n",
      "          /   \\     |   _  \\      /      ||  |  |  | |   _  \\     \n",
      "         /  ^  \\    |  |_)  |    |  ,----'|  |__|  | |  |_)  |    \n",
      "        /  /_\\  \\   |      /     |  |     |   __   | |      /     \n",
      "       /  _____  \\  |  |\\  \\\\___ |  `----.|  |  |  | |  |\\  \\\\___.\n",
      "      /__/     \\__\\ | _| `._____| \\______||__|  |__| | _| `._____|\n",
      "    \n",
      "\n"
     ]
    },
    {
     "data": {
      "text/plain": [
       "class: ArchRProject \n",
       "outputDirectory: /home/jupyter/BRI_Analysis/scRNA/Analysis-Cross-Sectional/TEAseq/PenSen_ATAC_L2 \n",
       "samples(16): GSM6611363_B065-P1_PB00593-04\n",
       "  GSM6611364_B069-P1_PB00323-02 ... GSM6611377_B065-P1_PB00192-02\n",
       "  GSM6611378_B065-P1_PB00197-02\n",
       "sampleColData names(1): ArrowFiles\n",
       "cellColData names(16): Sample TSSEnrichment ... AIFI_L2 AIFI_L3\n",
       "numberOfCells(1): 287761\n",
       "medianTSS(1): 25.364\n",
       "medianFrags(1): 6889"
      ]
     },
     "metadata": {},
     "output_type": "display_data"
    }
   ],
   "source": [
    "saveArchRProject(ArchRProj = projHeme1, outputDirectory = \"PenSen_ATAC_L2\", load = TRUE)"
   ]
  },
  {
   "cell_type": "markdown",
   "id": "ede36763-0c5a-4192-ac1b-db2541d01b19",
   "metadata": {},
   "source": [
    "# AIFI_L2"
   ]
  },
  {
   "cell_type": "code",
   "execution_count": 8,
   "id": "26a40ee2-2f18-4c1a-98b2-13f948122783",
   "metadata": {
    "tags": []
   },
   "outputs": [
    {
     "name": "stderr",
     "output_type": "stream",
     "text": [
      "Successfully loaded ArchRProject!\n",
      "\n",
      "\n",
      "                                                   / |\n",
      "                                                 /    \\\n",
      "            .                                  /      |.\n",
      "            \\\\\\                              /        |.\n",
      "              \\\\\\                          /           `|.\n",
      "                \\\\\\                      /              |.\n",
      "                  \\                    /                |\\\n",
      "                  \\\\#####\\           /                  ||\n",
      "                ==###########>      /                   ||\n",
      "                 \\\\##==......\\    /                     ||\n",
      "            ______ =       =|__ /__                     ||      \\\\\\\n",
      "        ,--' ,----`-,__ ___/'  --,-`-===================##========>\n",
      "       \\               '        ##_______ _____ ,--,__,=##,__   ///\n",
      "        ,    __==    ___,-,__,--'#'  ==='      `-'    | ##,-/\n",
      "        -,____,---'       \\\\####\\\\________________,--\\\\_##,/\n",
      "           ___      .______        ______  __    __  .______      \n",
      "          /   \\     |   _  \\      /      ||  |  |  | |   _  \\     \n",
      "         /  ^  \\    |  |_)  |    |  ,----'|  |__|  | |  |_)  |    \n",
      "        /  /_\\  \\   |      /     |  |     |   __   | |      /     \n",
      "       /  _____  \\  |  |\\  \\\\___ |  `----.|  |  |  | |  |\\  \\\\___.\n",
      "      /__/     \\__\\ | _| `._____| \\______||__|  |__| | _| `._____|\n",
      "    \n",
      "\n"
     ]
    }
   ],
   "source": [
    "projHeme1 <- loadArchRProject(path = 'PenSen_ATAC_L2/')"
   ]
  },
  {
   "cell_type": "code",
   "execution_count": 9,
   "id": "e77e5271-fefe-4563-827b-efdeb1f40365",
   "metadata": {
    "collapsed": true,
    "jupyter": {
     "outputs_hidden": true
    },
    "tags": []
   },
   "outputs": [
    {
     "name": "stderr",
     "output_type": "stream",
     "text": [
      "ArchR logging to : ArchRLogs/ArchR-addGroupCoverages-734d1d409c90-Date-2024-04-16_Time-04-44-27.612041.log\n",
      "If there is an issue, please report to github with logFile!\n",
      "\n",
      "CD8aa (1 of 9) : CellGroups N = 10\n",
      "\n",
      "DN T cell (2 of 9) : CellGroups N = 16\n",
      "\n",
      "MAIT (3 of 9) : CellGroups N = 16\n",
      "\n",
      "Memory CD4 T cell (4 of 9) : CellGroups N = 16\n",
      "\n",
      "Memory CD8 T cell (5 of 9) : CellGroups N = 16\n",
      "\n",
      "Naive CD4 T cell (6 of 9) : CellGroups N = 16\n",
      "\n",
      "Naive CD8 T cell (7 of 9) : CellGroups N = 16\n",
      "\n",
      "Proliferating T cell (8 of 9) : CellGroups N = 2\n",
      "\n",
      "Treg (9 of 9) : CellGroups N = 16\n",
      "\n",
      "2024-04-16 04:44:50.132104 : Creating Coverage Files!, 0.375 mins elapsed.\n",
      "\n",
      "2024-04-16 04:44:50.135882 : Batch Execution w/ safelapply!, 0.375 mins elapsed.\n",
      "\n",
      "2024-04-16 04:53:40.423563 : Adding Kmer Bias to Coverage Files!, 9.214 mins elapsed.\n",
      "\n",
      "Completed Kmer Bias Calculation\n",
      "\n",
      "Adding Kmer Bias (1 of 124)\n",
      "\n",
      "Adding Kmer Bias (2 of 124)\n",
      "\n",
      "Adding Kmer Bias (3 of 124)\n",
      "\n",
      "Adding Kmer Bias (4 of 124)\n",
      "\n",
      "Adding Kmer Bias (5 of 124)\n",
      "\n",
      "Adding Kmer Bias (6 of 124)\n",
      "\n",
      "Adding Kmer Bias (7 of 124)\n",
      "\n",
      "Adding Kmer Bias (8 of 124)\n",
      "\n",
      "Adding Kmer Bias (9 of 124)\n",
      "\n",
      "Adding Kmer Bias (10 of 124)\n",
      "\n",
      "Adding Kmer Bias (11 of 124)\n",
      "\n",
      "Adding Kmer Bias (12 of 124)\n",
      "\n",
      "Adding Kmer Bias (13 of 124)\n",
      "\n",
      "Adding Kmer Bias (14 of 124)\n",
      "\n",
      "Adding Kmer Bias (15 of 124)\n",
      "\n",
      "Adding Kmer Bias (16 of 124)\n",
      "\n",
      "Adding Kmer Bias (17 of 124)\n",
      "\n",
      "Adding Kmer Bias (18 of 124)\n",
      "\n",
      "Adding Kmer Bias (19 of 124)\n",
      "\n",
      "Adding Kmer Bias (20 of 124)\n",
      "\n",
      "Adding Kmer Bias (21 of 124)\n",
      "\n",
      "Adding Kmer Bias (22 of 124)\n",
      "\n",
      "Adding Kmer Bias (23 of 124)\n",
      "\n",
      "Adding Kmer Bias (24 of 124)\n",
      "\n",
      "Adding Kmer Bias (25 of 124)\n",
      "\n",
      "Adding Kmer Bias (26 of 124)\n",
      "\n",
      "Adding Kmer Bias (27 of 124)\n",
      "\n",
      "Adding Kmer Bias (28 of 124)\n",
      "\n",
      "Adding Kmer Bias (29 of 124)\n",
      "\n",
      "Adding Kmer Bias (30 of 124)\n",
      "\n",
      "Adding Kmer Bias (31 of 124)\n",
      "\n",
      "Adding Kmer Bias (32 of 124)\n",
      "\n",
      "Adding Kmer Bias (33 of 124)\n",
      "\n",
      "Adding Kmer Bias (34 of 124)\n",
      "\n",
      "Adding Kmer Bias (35 of 124)\n",
      "\n",
      "Adding Kmer Bias (36 of 124)\n",
      "\n",
      "Adding Kmer Bias (37 of 124)\n",
      "\n",
      "Adding Kmer Bias (38 of 124)\n",
      "\n",
      "Adding Kmer Bias (39 of 124)\n",
      "\n",
      "Adding Kmer Bias (40 of 124)\n",
      "\n",
      "Adding Kmer Bias (41 of 124)\n",
      "\n",
      "Adding Kmer Bias (42 of 124)\n",
      "\n",
      "Adding Kmer Bias (43 of 124)\n",
      "\n",
      "Adding Kmer Bias (44 of 124)\n",
      "\n",
      "Adding Kmer Bias (45 of 124)\n",
      "\n",
      "Adding Kmer Bias (46 of 124)\n",
      "\n",
      "Adding Kmer Bias (47 of 124)\n",
      "\n",
      "Adding Kmer Bias (48 of 124)\n",
      "\n",
      "Adding Kmer Bias (49 of 124)\n",
      "\n",
      "Adding Kmer Bias (50 of 124)\n",
      "\n",
      "Adding Kmer Bias (51 of 124)\n",
      "\n",
      "Adding Kmer Bias (52 of 124)\n",
      "\n",
      "Adding Kmer Bias (53 of 124)\n",
      "\n",
      "Adding Kmer Bias (54 of 124)\n",
      "\n",
      "Adding Kmer Bias (55 of 124)\n",
      "\n",
      "Adding Kmer Bias (56 of 124)\n",
      "\n",
      "Adding Kmer Bias (57 of 124)\n",
      "\n",
      "Adding Kmer Bias (58 of 124)\n",
      "\n",
      "Adding Kmer Bias (59 of 124)\n",
      "\n",
      "Adding Kmer Bias (60 of 124)\n",
      "\n",
      "Adding Kmer Bias (61 of 124)\n",
      "\n",
      "Adding Kmer Bias (62 of 124)\n",
      "\n",
      "Adding Kmer Bias (63 of 124)\n",
      "\n",
      "Adding Kmer Bias (64 of 124)\n",
      "\n",
      "Adding Kmer Bias (65 of 124)\n",
      "\n",
      "Adding Kmer Bias (66 of 124)\n",
      "\n",
      "Adding Kmer Bias (67 of 124)\n",
      "\n",
      "Adding Kmer Bias (68 of 124)\n",
      "\n",
      "Adding Kmer Bias (69 of 124)\n",
      "\n",
      "Adding Kmer Bias (70 of 124)\n",
      "\n",
      "Adding Kmer Bias (71 of 124)\n",
      "\n",
      "Adding Kmer Bias (72 of 124)\n",
      "\n",
      "Adding Kmer Bias (73 of 124)\n",
      "\n",
      "Adding Kmer Bias (74 of 124)\n",
      "\n",
      "Adding Kmer Bias (75 of 124)\n",
      "\n",
      "Adding Kmer Bias (76 of 124)\n",
      "\n",
      "Adding Kmer Bias (77 of 124)\n",
      "\n",
      "Adding Kmer Bias (78 of 124)\n",
      "\n",
      "Adding Kmer Bias (79 of 124)\n",
      "\n",
      "Adding Kmer Bias (80 of 124)\n",
      "\n",
      "Adding Kmer Bias (81 of 124)\n",
      "\n",
      "Adding Kmer Bias (82 of 124)\n",
      "\n",
      "Adding Kmer Bias (83 of 124)\n",
      "\n",
      "Adding Kmer Bias (84 of 124)\n",
      "\n",
      "Adding Kmer Bias (85 of 124)\n",
      "\n",
      "Adding Kmer Bias (86 of 124)\n",
      "\n",
      "Adding Kmer Bias (87 of 124)\n",
      "\n",
      "Adding Kmer Bias (88 of 124)\n",
      "\n",
      "Adding Kmer Bias (89 of 124)\n",
      "\n",
      "Adding Kmer Bias (90 of 124)\n",
      "\n",
      "Adding Kmer Bias (91 of 124)\n",
      "\n",
      "Adding Kmer Bias (92 of 124)\n",
      "\n",
      "Adding Kmer Bias (93 of 124)\n",
      "\n",
      "Adding Kmer Bias (94 of 124)\n",
      "\n",
      "Adding Kmer Bias (95 of 124)\n",
      "\n",
      "Adding Kmer Bias (96 of 124)\n",
      "\n",
      "Adding Kmer Bias (97 of 124)\n",
      "\n",
      "Adding Kmer Bias (98 of 124)\n",
      "\n",
      "Adding Kmer Bias (99 of 124)\n",
      "\n",
      "Adding Kmer Bias (100 of 124)\n",
      "\n",
      "Adding Kmer Bias (101 of 124)\n",
      "\n",
      "Adding Kmer Bias (102 of 124)\n",
      "\n",
      "Adding Kmer Bias (103 of 124)\n",
      "\n",
      "Adding Kmer Bias (104 of 124)\n",
      "\n",
      "Adding Kmer Bias (105 of 124)\n",
      "\n",
      "Adding Kmer Bias (106 of 124)\n",
      "\n",
      "Adding Kmer Bias (107 of 124)\n",
      "\n",
      "Adding Kmer Bias (108 of 124)\n",
      "\n",
      "Adding Kmer Bias (109 of 124)\n",
      "\n",
      "Adding Kmer Bias (110 of 124)\n",
      "\n",
      "Adding Kmer Bias (111 of 124)\n",
      "\n",
      "Adding Kmer Bias (112 of 124)\n",
      "\n",
      "Adding Kmer Bias (113 of 124)\n",
      "\n",
      "Adding Kmer Bias (114 of 124)\n",
      "\n",
      "Adding Kmer Bias (115 of 124)\n",
      "\n",
      "Adding Kmer Bias (116 of 124)\n",
      "\n",
      "Adding Kmer Bias (117 of 124)\n",
      "\n",
      "Adding Kmer Bias (118 of 124)\n",
      "\n",
      "Adding Kmer Bias (119 of 124)\n",
      "\n",
      "Adding Kmer Bias (120 of 124)\n",
      "\n",
      "Adding Kmer Bias (121 of 124)\n",
      "\n",
      "Adding Kmer Bias (122 of 124)\n",
      "\n",
      "Adding Kmer Bias (123 of 124)\n",
      "\n",
      "Adding Kmer Bias (124 of 124)\n",
      "\n",
      "2024-04-16 05:02:35.045331 : Finished Creation of Coverage Files!, 18.124 mins elapsed.\n",
      "\n",
      "ArchR logging successful to : ArchRLogs/ArchR-addGroupCoverages-734d1d409c90-Date-2024-04-16_Time-04-44-27.612041.log\n",
      "\n"
     ]
    }
   ],
   "source": [
    "projHeme1 <- addGroupCoverages(ArchRProj = projHeme1,\n",
    "                               groupBy = \"AIFI_L2\",\n",
    "                               maxReplicates = 16,\n",
    "                               maxCells = 2000,\n",
    "                               threads = 10,force = TRUE )"
   ]
  },
  {
   "cell_type": "code",
   "execution_count": 10,
   "id": "dedbdd01-c54e-479a-bae1-3cacb1611a87",
   "metadata": {
    "tags": []
   },
   "outputs": [],
   "source": [
    "pathToMacs2<-'/opt/conda/bin/macs3'"
   ]
  },
  {
   "cell_type": "code",
   "execution_count": 11,
   "id": "69e18f1e-6177-4198-8f65-2acfe2981627",
   "metadata": {
    "collapsed": true,
    "jupyter": {
     "outputs_hidden": true
    },
    "tags": []
   },
   "outputs": [
    {
     "name": "stderr",
     "output_type": "stream",
     "text": [
      "ArchR logging to : ArchRLogs/ArchR-addReproduciblePeakSet-734df0c7f32-Date-2024-04-16_Time-05-02-35.500954.log\n",
      "If there is an issue, please report to github with logFile!\n",
      "\n",
      "Calling Peaks with Macs2\n",
      "\n",
      "2024-04-16 05:02:35.785032 : Peak Calling Parameters!, 0.005 mins elapsed.\n",
      "\n"
     ]
    },
    {
     "name": "stdout",
     "output_type": "stream",
     "text": [
      "                                    Group nCells nCellsUsed nReplicates nMin\n",
      "CD8aa                               CD8aa   1157       1157          10   59\n",
      "DN T cell                       DN T cell   1879       1879          16   51\n",
      "MAIT                                 MAIT  13035      10607          16  164\n",
      "Memory CD4 T cell       Memory CD4 T cell  65762      29048          16 1420\n",
      "Memory CD8 T cell       Memory CD8 T cell  53146      27467          16  874\n",
      "Naive CD4 T cell         Naive CD4 T cell 100931      32000          16 2000\n",
      "Naive CD8 T cell         Naive CD8 T cell  41225      24189          16  416\n",
      "Proliferating T cell Proliferating T cell      3          3           2    3\n",
      "Treg                                 Treg  10623      10623          16  249\n",
      "                     nMax maxPeaks\n",
      "CD8aa                 240   150000\n",
      "DN T cell             266   150000\n",
      "MAIT                 2000   150000\n",
      "Memory CD4 T cell    2000   150000\n",
      "Memory CD8 T cell    2000   150000\n",
      "Naive CD4 T cell     2000   150000\n",
      "Naive CD8 T cell     2000   150000\n",
      "Proliferating T cell    3     1500\n",
      "Treg                 1456   150000\n"
     ]
    },
    {
     "name": "stderr",
     "output_type": "stream",
     "text": [
      "2024-04-16 05:02:35.793882 : Batching Peak Calls!, 0.005 mins elapsed.\n",
      "\n",
      "2024-04-16 05:02:35.800179 : Batch Execution w/ safelapply!, 0 mins elapsed.\n",
      "\n",
      "2024-04-16 05:06:27.907851 : Identifying Reproducible Peaks!, 3.873 mins elapsed.\n",
      "\n",
      "2024-04-16 05:06:51.209554 : Creating Union Peak Set!, 4.262 mins elapsed.\n",
      "\n",
      "Converged after 12 iterations!\n",
      "\n",
      "Plotting Ggplot!\n",
      "\n",
      "2024-04-16 05:07:00.91853 : Finished Creating Union Peak Set (167345)!, 4.424 mins elapsed.\n",
      "\n"
     ]
    }
   ],
   "source": [
    "projHeme1 <- addReproduciblePeakSet(\n",
    "                        ArchRProj = projHeme1, \n",
    "                        groupBy = \"AIFI_L2\", \n",
    "                        pathToMacs2 = pathToMacs2, force = TRUE\n",
    "                            )"
   ]
  },
  {
   "cell_type": "code",
   "execution_count": 12,
   "id": "4b6c467c-e583-48f5-91b6-b806ea2ff4c6",
   "metadata": {
    "tags": []
   },
   "outputs": [
    {
     "name": "stderr",
     "output_type": "stream",
     "text": [
      "ArchR logging to : ArchRLogs/ArchR-addPeakMatrix-734d1b189805-Date-2024-04-16_Time-05-07-00.938938.log\n",
      "If there is an issue, please report to github with logFile!\n",
      "\n",
      "2024-04-16 05:07:01.151648 : Batch Execution w/ safelapply!, 0 mins elapsed.\n",
      "\n",
      "Overriding previous entry for ReadsInPeaks\n",
      "\n",
      "Overriding previous entry for FRIP\n",
      "\n",
      "ArchR logging successful to : ArchRLogs/ArchR-addPeakMatrix-734d1b189805-Date-2024-04-16_Time-05-07-00.938938.log\n",
      "\n"
     ]
    }
   ],
   "source": [
    "projHeme1 <- addPeakMatrix(projHeme1, force = TRUE)"
   ]
  },
  {
   "cell_type": "code",
   "execution_count": 13,
   "id": "5bcb7987-d098-40c1-bd6b-1869baabd02f",
   "metadata": {
    "tags": []
   },
   "outputs": [],
   "source": [
    "library(BSgenome.Hsapiens.UCSC.hg38)\n",
    "library(TFBSTools)\n",
    "library(JASPAR2020)\n",
    "tair.motif=getMatrixSet(x=JASPAR2020,opts=list(collection=\"CORE\",species=\"9606\",matrixtype=\"PWM\"))"
   ]
  },
  {
   "cell_type": "code",
   "execution_count": 14,
   "id": "e08ad588-b894-49d0-8a54-ceaf0372e288",
   "metadata": {
    "tags": []
   },
   "outputs": [
    {
     "name": "stderr",
     "output_type": "stream",
     "text": [
      "ArchR logging to : ArchRLogs/ArchR-addMotifAnnotations-734d7d467993-Date-2024-04-16_Time-05-11-20.778506.log\n",
      "If there is an issue, please report to github with logFile!\n",
      "\n",
      "peakAnnotation name already exists! Overriding.\n",
      "\n",
      "2024-04-16 05:11:20.860524 : Gettting Motif Set, Species : , 0.001 mins elapsed.\n",
      "\n",
      "2024-04-16 05:11:21.47616 : Finding Motif Positions with motifmatchr!, 0.012 mins elapsed.\n",
      "\n",
      "2024-04-16 05:13:47.425046 : All Motifs Overlap at least 1 peak!, 2.444 mins elapsed.\n",
      "\n",
      "2024-04-16 05:13:47.427889 : Creating Motif Overlap Matrix, 2.444 mins elapsed.\n",
      "\n",
      "2024-04-16 05:13:49.573944 : Finished Getting Motif Info!, 2.48 mins elapsed.\n",
      "\n",
      "ArchR logging successful to : ArchRLogs/ArchR-addMotifAnnotations-734d7d467993-Date-2024-04-16_Time-05-11-20.778506.log\n",
      "\n"
     ]
    }
   ],
   "source": [
    "projHeme1=addMotifAnnotations(projHeme1,name=\"JASPARMotif\",motifPWMs=tair.motif,force=TRUE)"
   ]
  },
  {
   "cell_type": "code",
   "execution_count": 15,
   "id": "feee7844-d346-4fae-aaf6-9d267acb465d",
   "metadata": {
    "tags": []
   },
   "outputs": [
    {
     "name": "stderr",
     "output_type": "stream",
     "text": [
      "\n",
      "           ___      .______        ______  __    __  .______      \n",
      "          /   \\     |   _  \\      /      ||  |  |  | |   _  \\     \n",
      "         /  ^  \\    |  |_)  |    |  ,----'|  |__|  | |  |_)  |    \n",
      "        /  /_\\  \\   |      /     |  |     |   __   | |      /     \n",
      "       /  _____  \\  |  |\\  \\\\___ |  `----.|  |  |  | |  |\\  \\\\___.\n",
      "      /__/     \\__\\ | _| `._____| \\______||__|  |__| | _| `._____|\n",
      "    \n",
      "\n"
     ]
    },
    {
     "data": {
      "text/plain": [
       "class: ArchRProject \n",
       "outputDirectory: /home/jupyter/BRI_Analysis/scRNA/Analysis-Cross-Sectional/TEAseq/PenSen_ATAC_L2 \n",
       "samples(16): GSM6611363_B065-P1_PB00593-04\n",
       "  GSM6611364_B069-P1_PB00323-02 ... GSM6611377_B065-P1_PB00192-02\n",
       "  GSM6611378_B065-P1_PB00197-02\n",
       "sampleColData names(1): ArrowFiles\n",
       "cellColData names(18): Sample TSSEnrichment ... ReadsInPeaks FRIP\n",
       "numberOfCells(1): 287761\n",
       "medianTSS(1): 25.364\n",
       "medianFrags(1): 6889"
      ]
     },
     "metadata": {},
     "output_type": "display_data"
    }
   ],
   "source": [
    "projHeme1"
   ]
  },
  {
   "cell_type": "code",
   "execution_count": 16,
   "id": "c5452108-43a0-43a1-a4a2-46dbfad704eb",
   "metadata": {
    "tags": []
   },
   "outputs": [],
   "source": [
    "#remotes::install_version(\"Matrix\", version = \"1.6.3\")"
   ]
  },
  {
   "cell_type": "code",
   "execution_count": 17,
   "id": "109c5f08-7616-4657-aeea-81fdaf26a35b",
   "metadata": {
    "collapsed": true,
    "jupyter": {
     "outputs_hidden": true
    },
    "tags": []
   },
   "outputs": [
    {
     "name": "stderr",
     "output_type": "stream",
     "text": [
      "Saving ArchRProject...\n",
      "\n",
      "Loading ArchRProject...\n",
      "\n",
      "Successfully loaded ArchRProject!\n",
      "\n",
      "\n",
      "                                                   / |\n",
      "                                                 /    \\\n",
      "            .                                  /      |.\n",
      "            \\\\\\                              /        |.\n",
      "              \\\\\\                          /           `|.\n",
      "                \\\\\\                      /              |.\n",
      "                  \\                    /                |\\\n",
      "                  \\\\#####\\           /                  ||\n",
      "                ==###########>      /                   ||\n",
      "                 \\\\##==......\\    /                     ||\n",
      "            ______ =       =|__ /__                     ||      \\\\\\\n",
      "        ,--' ,----`-,__ ___/'  --,-`-===================##========>\n",
      "       \\               '        ##_______ _____ ,--,__,=##,__   ///\n",
      "        ,    __==    ___,-,__,--'#'  ==='      `-'    | ##,-/\n",
      "        -,____,---'       \\\\####\\\\________________,--\\\\_##,/\n",
      "           ___      .______        ______  __    __  .______      \n",
      "          /   \\     |   _  \\      /      ||  |  |  | |   _  \\     \n",
      "         /  ^  \\    |  |_)  |    |  ,----'|  |__|  | |  |_)  |    \n",
      "        /  /_\\  \\   |      /     |  |     |   __   | |      /     \n",
      "       /  _____  \\  |  |\\  \\\\___ |  `----.|  |  |  | |  |\\  \\\\___.\n",
      "      /__/     \\__\\ | _| `._____| \\______||__|  |__| | _| `._____|\n",
      "    \n",
      "\n",
      "\n",
      "           ___      .______        ______  __    __  .______      \n",
      "          /   \\     |   _  \\      /      ||  |  |  | |   _  \\     \n",
      "         /  ^  \\    |  |_)  |    |  ,----'|  |__|  | |  |_)  |    \n",
      "        /  /_\\  \\   |      /     |  |     |   __   | |      /     \n",
      "       /  _____  \\  |  |\\  \\\\___ |  `----.|  |  |  | |  |\\  \\\\___.\n",
      "      /__/     \\__\\ | _| `._____| \\______||__|  |__| | _| `._____|\n",
      "    \n",
      "\n"
     ]
    },
    {
     "data": {
      "text/plain": [
       "class: ArchRProject \n",
       "outputDirectory: /home/jupyter/BRI_Analysis/scRNA/Analysis-Cross-Sectional/TEAseq/PenSen_ATAC_L2 \n",
       "samples(16): GSM6611363_B065-P1_PB00593-04\n",
       "  GSM6611364_B069-P1_PB00323-02 ... GSM6611377_B065-P1_PB00192-02\n",
       "  GSM6611378_B065-P1_PB00197-02\n",
       "sampleColData names(1): ArrowFiles\n",
       "cellColData names(18): Sample TSSEnrichment ... ReadsInPeaks FRIP\n",
       "numberOfCells(1): 287761\n",
       "medianTSS(1): 25.364\n",
       "medianFrags(1): 6889"
      ]
     },
     "metadata": {},
     "output_type": "display_data"
    }
   ],
   "source": [
    "saveArchRProject(ArchRProj = projHeme1, outputDirectory = \"PenSen_ATAC_L2\", load = TRUE)"
   ]
  },
  {
   "cell_type": "code",
   "execution_count": 18,
   "id": "8d7759d3-cc16-4343-a56e-dfe554fc1467",
   "metadata": {
    "tags": []
   },
   "outputs": [
    {
     "name": "stderr",
     "output_type": "stream",
     "text": [
      "Identifying Background Peaks!\n",
      "\n"
     ]
    }
   ],
   "source": [
    "projHeme1 <- addBgdPeaks(projHeme1,force=TRUE)"
   ]
  },
  {
   "cell_type": "code",
   "execution_count": 19,
   "id": "c9941487-7ecd-4777-a764-96a62fb9c749",
   "metadata": {
    "tags": []
   },
   "outputs": [
    {
     "name": "stderr",
     "output_type": "stream",
     "text": [
      "Using Previous Background Peaks!\n",
      "\n",
      "ArchR logging to : ArchRLogs/ArchR-addDeviationsMatrix-734d57e93f06-Date-2024-04-16_Time-05-14-26.13394.log\n",
      "If there is an issue, please report to github with logFile!\n",
      "\n"
     ]
    },
    {
     "name": "stdout",
     "output_type": "stream",
     "text": [
      "NULL\n"
     ]
    },
    {
     "name": "stderr",
     "output_type": "stream",
     "text": [
      "2024-04-16 05:14:32.060723 : Batch Execution w/ safelapply!, 0 mins elapsed.\n",
      "\n",
      "###########\n",
      "2024-04-16 06:28:39.973058 : Completed Computing Deviations!, 74.231 mins elapsed.\n",
      "###########\n",
      "\n",
      "ArchR logging successful to : ArchRLogs/ArchR-addDeviationsMatrix-734d57e93f06-Date-2024-04-16_Time-05-14-26.13394.log\n",
      "\n"
     ]
    }
   ],
   "source": [
    "projHeme1 <- addDeviationsMatrix(\n",
    "  ArchRProj = projHeme1, \n",
    "  peakAnnotation = \"Motif\",\n",
    "  force = TRUE\n",
    ")\n"
   ]
  },
  {
   "cell_type": "code",
   "execution_count": null,
   "id": "ceb41d94-8db7-4ecb-8c57-c237e17c121e",
   "metadata": {
    "tags": []
   },
   "outputs": [],
   "source": []
  },
  {
   "cell_type": "code",
   "execution_count": 20,
   "id": "67ead9cc-db8c-4951-8a65-648ca3672e27",
   "metadata": {
    "tags": []
   },
   "outputs": [
    {
     "name": "stderr",
     "output_type": "stream",
     "text": [
      "Saving ArchRProject...\n",
      "\n",
      "Loading ArchRProject...\n",
      "\n",
      "Successfully loaded ArchRProject!\n",
      "\n",
      "\n",
      "                                                   / |\n",
      "                                                 /    \\\n",
      "            .                                  /      |.\n",
      "            \\\\\\                              /        |.\n",
      "              \\\\\\                          /           `|.\n",
      "                \\\\\\                      /              |.\n",
      "                  \\                    /                |\\\n",
      "                  \\\\#####\\           /                  ||\n",
      "                ==###########>      /                   ||\n",
      "                 \\\\##==......\\    /                     ||\n",
      "            ______ =       =|__ /__                     ||      \\\\\\\n",
      "        ,--' ,----`-,__ ___/'  --,-`-===================##========>\n",
      "       \\               '        ##_______ _____ ,--,__,=##,__   ///\n",
      "        ,    __==    ___,-,__,--'#'  ==='      `-'    | ##,-/\n",
      "        -,____,---'       \\\\####\\\\________________,--\\\\_##,/\n",
      "           ___      .______        ______  __    __  .______      \n",
      "          /   \\     |   _  \\      /      ||  |  |  | |   _  \\     \n",
      "         /  ^  \\    |  |_)  |    |  ,----'|  |__|  | |  |_)  |    \n",
      "        /  /_\\  \\   |      /     |  |     |   __   | |      /     \n",
      "       /  _____  \\  |  |\\  \\\\___ |  `----.|  |  |  | |  |\\  \\\\___.\n",
      "      /__/     \\__\\ | _| `._____| \\______||__|  |__| | _| `._____|\n",
      "    \n",
      "\n",
      "\n",
      "           ___      .______        ______  __    __  .______      \n",
      "          /   \\     |   _  \\      /      ||  |  |  | |   _  \\     \n",
      "         /  ^  \\    |  |_)  |    |  ,----'|  |__|  | |  |_)  |    \n",
      "        /  /_\\  \\   |      /     |  |     |   __   | |      /     \n",
      "       /  _____  \\  |  |\\  \\\\___ |  `----.|  |  |  | |  |\\  \\\\___.\n",
      "      /__/     \\__\\ | _| `._____| \\______||__|  |__| | _| `._____|\n",
      "    \n",
      "\n"
     ]
    },
    {
     "data": {
      "text/plain": [
       "class: ArchRProject \n",
       "outputDirectory: /home/jupyter/BRI_Analysis/scRNA/Analysis-Cross-Sectional/TEAseq/PenSen_ATAC_L2 \n",
       "samples(16): GSM6611363_B065-P1_PB00593-04\n",
       "  GSM6611364_B069-P1_PB00323-02 ... GSM6611377_B065-P1_PB00192-02\n",
       "  GSM6611378_B065-P1_PB00197-02\n",
       "sampleColData names(1): ArrowFiles\n",
       "cellColData names(18): Sample TSSEnrichment ... ReadsInPeaks FRIP\n",
       "numberOfCells(1): 287761\n",
       "medianTSS(1): 25.364\n",
       "medianFrags(1): 6889"
      ]
     },
     "metadata": {},
     "output_type": "display_data"
    }
   ],
   "source": [
    "saveArchRProject(ArchRProj = projHeme1, outputDirectory = \"PenSen_ATAC_L2\", load = TRUE)"
   ]
  },
  {
   "cell_type": "code",
   "execution_count": 3,
   "id": "91cc4d21-53ab-464f-a635-785dd8abc0bd",
   "metadata": {
    "collapsed": true,
    "jupyter": {
     "outputs_hidden": true
    },
    "tags": []
   },
   "outputs": [
    {
     "name": "stderr",
     "output_type": "stream",
     "text": [
      "Successfully loaded ArchRProject!\n",
      "\n",
      "\n",
      "                                                   / |\n",
      "                                                 /    \\\n",
      "            .                                  /      |.\n",
      "            \\\\\\                              /        |.\n",
      "              \\\\\\                          /           `|.\n",
      "                \\\\\\                      /              |.\n",
      "                  \\                    /                |\\\n",
      "                  \\\\#####\\           /                  ||\n",
      "                ==###########>      /                   ||\n",
      "                 \\\\##==......\\    /                     ||\n",
      "            ______ =       =|__ /__                     ||      \\\\\\\n",
      "        ,--' ,----`-,__ ___/'  --,-`-===================##========>\n",
      "       \\               '        ##_______ _____ ,--,__,=##,__   ///\n",
      "        ,    __==    ___,-,__,--'#'  ==='      `-'    | ##,-/\n",
      "        -,____,---'       \\\\####\\\\________________,--\\\\_##,/\n",
      "           ___      .______        ______  __    __  .______      \n",
      "          /   \\     |   _  \\      /      ||  |  |  | |   _  \\     \n",
      "         /  ^  \\    |  |_)  |    |  ,----'|  |__|  | |  |_)  |    \n",
      "        /  /_\\  \\   |      /     |  |     |   __   | |      /     \n",
      "       /  _____  \\  |  |\\  \\\\___ |  `----.|  |  |  | |  |\\  \\\\___.\n",
      "      /__/     \\__\\ | _| `._____| \\______||__|  |__| | _| `._____|\n",
      "    \n",
      "\n"
     ]
    }
   ],
   "source": [
    "projHeme1 <- loadArchRProject(path = 'PenSen_ATAC_L2_cisbp/')"
   ]
  },
  {
   "cell_type": "code",
   "execution_count": 7,
   "id": "cbdeafc5-5036-4a5d-af21-6dc6f143d8a9",
   "metadata": {
    "tags": []
   },
   "outputs": [
    {
     "name": "stderr",
     "output_type": "stream",
     "text": [
      "Loading required package: BSgenome\n",
      "\n",
      "Loading required package: Biostrings\n",
      "\n",
      "Loading required package: XVector\n",
      "\n",
      "\n",
      "Attaching package: ‘XVector’\n",
      "\n",
      "\n",
      "The following object is masked from ‘package:plyr’:\n",
      "\n",
      "    compact\n",
      "\n",
      "\n",
      "The following object is masked from ‘package:purrr’:\n",
      "\n",
      "    compact\n",
      "\n",
      "\n",
      "\n",
      "Attaching package: ‘Biostrings’\n",
      "\n",
      "\n",
      "The following object is masked from ‘package:grid’:\n",
      "\n",
      "    pattern\n",
      "\n",
      "\n",
      "The following object is masked from ‘package:base’:\n",
      "\n",
      "    strsplit\n",
      "\n",
      "\n",
      "Loading required package: BiocIO\n",
      "\n",
      "Loading required package: rtracklayer\n",
      "\n",
      "\n",
      "Attaching package: ‘rtracklayer’\n",
      "\n",
      "\n",
      "The following object is masked from ‘package:BiocIO’:\n",
      "\n",
      "    FileForFormat\n",
      "\n",
      "\n",
      "ArchR logging to : ArchRLogs/ArchR-addMotifAnnotations-a95151975971-Date-2024-04-16_Time-15-13-57.350329.log\n",
      "If there is an issue, please report to github with logFile!\n",
      "\n",
      "peakAnnotation name already exists! Overriding.\n",
      "\n",
      "2024-04-16 15:13:57.399649 : Gettting Motif Set, Species : Homo sapiens, 0.001 mins elapsed.\n",
      "\n",
      "Using version 2 motifs!\n",
      "\n",
      "2024-04-16 15:13:58.849237 : Finding Motif Positions with motifmatchr!, 0.025 mins elapsed.\n",
      "\n",
      "2024-04-16 15:18:18.893381 : All Motifs Overlap at least 1 peak!, 4.359 mins elapsed.\n",
      "\n",
      "2024-04-16 15:18:18.896032 : Creating Motif Overlap Matrix, 4.359 mins elapsed.\n",
      "\n",
      "2024-04-16 15:18:22.783385 : Finished Getting Motif Info!, 4.424 mins elapsed.\n",
      "\n",
      "ArchR logging successful to : ArchRLogs/ArchR-addMotifAnnotations-a95151975971-Date-2024-04-16_Time-15-13-57.350329.log\n",
      "\n",
      "Identifying Background Peaks!\n",
      "\n",
      "Using Previous Background Peaks!\n",
      "\n",
      "ArchR logging to : ArchRLogs/ArchR-addDeviationsMatrix-a9514b12213c-Date-2024-04-16_Time-15-18-49.329871.log\n",
      "If there is an issue, please report to github with logFile!\n",
      "\n"
     ]
    },
    {
     "name": "stdout",
     "output_type": "stream",
     "text": [
      "NULL\n"
     ]
    },
    {
     "name": "stderr",
     "output_type": "stream",
     "text": [
      "'as(<lgCMatrix>, \"dgCMatrix\")' is deprecated.\n",
      "Use 'as(., \"dMatrix\")' instead.\n",
      "See help(\"Deprecated\") and help(\"Matrix-deprecated\").\n",
      "\n",
      "2024-04-16 15:18:55.103107 : Batch Execution w/ safelapply!, 0 mins elapsed.\n",
      "\n",
      "###########\n",
      "2024-04-16 17:07:19.647215 : Completed Computing Deviations!, 108.505 mins elapsed.\n",
      "###########\n",
      "\n",
      "ArchR logging successful to : ArchRLogs/ArchR-addDeviationsMatrix-a9514b12213c-Date-2024-04-16_Time-15-18-49.329871.log\n",
      "\n",
      "Saving ArchRProject...\n",
      "\n",
      "Loading ArchRProject...\n",
      "\n",
      "Successfully loaded ArchRProject!\n",
      "\n",
      "\n",
      "                                                   / |\n",
      "                                                 /    \\\n",
      "            .                                  /      |.\n",
      "            \\\\\\                              /        |.\n",
      "              \\\\\\                          /           `|.\n",
      "                \\\\\\                      /              |.\n",
      "                  \\                    /                |\\\n",
      "                  \\\\#####\\           /                  ||\n",
      "                ==###########>      /                   ||\n",
      "                 \\\\##==......\\    /                     ||\n",
      "            ______ =       =|__ /__                     ||      \\\\\\\n",
      "        ,--' ,----`-,__ ___/'  --,-`-===================##========>\n",
      "       \\               '        ##_______ _____ ,--,__,=##,__   ///\n",
      "        ,    __==    ___,-,__,--'#'  ==='      `-'    | ##,-/\n",
      "        -,____,---'       \\\\####\\\\________________,--\\\\_##,/\n",
      "           ___      .______        ______  __    __  .______      \n",
      "          /   \\     |   _  \\      /      ||  |  |  | |   _  \\     \n",
      "         /  ^  \\    |  |_)  |    |  ,----'|  |__|  | |  |_)  |    \n",
      "        /  /_\\  \\   |      /     |  |     |   __   | |      /     \n",
      "       /  _____  \\  |  |\\  \\\\___ |  `----.|  |  |  | |  |\\  \\\\___.\n",
      "      /__/     \\__\\ | _| `._____| \\______||__|  |__| | _| `._____|\n",
      "    \n",
      "\n",
      "\n",
      "           ___      .______        ______  __    __  .______      \n",
      "          /   \\     |   _  \\      /      ||  |  |  | |   _  \\     \n",
      "         /  ^  \\    |  |_)  |    |  ,----'|  |__|  | |  |_)  |    \n",
      "        /  /_\\  \\   |      /     |  |     |   __   | |      /     \n",
      "       /  _____  \\  |  |\\  \\\\___ |  `----.|  |  |  | |  |\\  \\\\___.\n",
      "      /__/     \\__\\ | _| `._____| \\______||__|  |__| | _| `._____|\n",
      "    \n",
      "\n"
     ]
    },
    {
     "data": {
      "text/plain": [
       "class: ArchRProject \n",
       "outputDirectory: /home/jupyter/BRI_Analysis/scRNA/Analysis-Cross-Sectional/TEAseq/PenSen_ATAC_L2_cisbp \n",
       "samples(16): GSM6611374_B076-P1_PB00127-02\n",
       "  GSM6611366_B076-P1_PB00353-03 ... GSM6611363_B065-P1_PB00593-04\n",
       "  GSM6611372_B069-P1_PB00172-02\n",
       "sampleColData names(1): ArrowFiles\n",
       "cellColData names(18): Sample TSSEnrichment ... ReadsInPeaks FRIP\n",
       "numberOfCells(1): 287761\n",
       "medianTSS(1): 25.364\n",
       "medianFrags(1): 6889"
      ]
     },
     "metadata": {},
     "output_type": "display_data"
    }
   ],
   "source": [
    "library(BSgenome.Hsapiens.UCSC.hg38)\n",
    "projHeme1 <- addMotifAnnotations(ArchRProj = projHeme1, motifSet = \"cisbp\", name = \"cisbp\", force = TRUE)\n",
    "projHeme1 <- addBgdPeaks(projHeme1,force = TRUE)\n",
    "projHeme1 <- addDeviationsMatrix(\n",
    "  ArchRProj = projHeme1, \n",
    "  peakAnnotation = \"Motif\",\n",
    "  force = TRUE,threads=50\n",
    ")\n",
    "\n",
    "saveArchRProject(ArchRProj = projHeme1, outputDirectory = \"PenSen_ATAC_L2_cisbp\", load = TRUE)"
   ]
  },
  {
   "cell_type": "markdown",
   "id": "4e38cf34-7cbf-4302-ba7c-b0184677a956",
   "metadata": {},
   "source": [
    "# AIFI_L3"
   ]
  },
  {
   "cell_type": "code",
   "execution_count": 39,
   "id": "7e802516-fcf6-40bc-a107-4d3ba2e49165",
   "metadata": {
    "collapsed": true,
    "jupyter": {
     "outputs_hidden": true
    },
    "tags": []
   },
   "outputs": [
    {
     "name": "stderr",
     "output_type": "stream",
     "text": [
      "Successfully loaded ArchRProject!\n",
      "\n",
      "\n",
      "                                                   / |\n",
      "                                                 /    \\\n",
      "            .                                  /      |.\n",
      "            \\\\\\                              /        |.\n",
      "              \\\\\\                          /           `|.\n",
      "                \\\\\\                      /              |.\n",
      "                  \\                    /                |\\\n",
      "                  \\\\#####\\           /                  ||\n",
      "                ==###########>      /                   ||\n",
      "                 \\\\##==......\\    /                     ||\n",
      "            ______ =       =|__ /__                     ||      \\\\\\\n",
      "        ,--' ,----`-,__ ___/'  --,-`-===================##========>\n",
      "       \\               '        ##_______ _____ ,--,__,=##,__   ///\n",
      "        ,    __==    ___,-,__,--'#'  ==='      `-'    | ##,-/\n",
      "        -,____,---'       \\\\####\\\\________________,--\\\\_##,/\n",
      "           ___      .______        ______  __    __  .______      \n",
      "          /   \\     |   _  \\      /      ||  |  |  | |   _  \\     \n",
      "         /  ^  \\    |  |_)  |    |  ,----'|  |__|  | |  |_)  |    \n",
      "        /  /_\\  \\   |      /     |  |     |   __   | |      /     \n",
      "       /  _____  \\  |  |\\  \\\\___ |  `----.|  |  |  | |  |\\  \\\\___.\n",
      "      /__/     \\__\\ | _| `._____| \\______||__|  |__| | _| `._____|\n",
      "    \n",
      "\n"
     ]
    }
   ],
   "source": [
    "projHeme1 <- loadArchRProject(path = 'PenSen_ATAC_L2/')"
   ]
  },
  {
   "cell_type": "code",
   "execution_count": 40,
   "id": "7c747475-4235-4084-ae06-b54a3bb5b801",
   "metadata": {
    "tags": []
   },
   "outputs": [],
   "source": [
    "cell_meta_filtered<-as.data.frame(projHeme1@cellColData) %>% \n",
    "filter(AIFI_L3%in% T_cell_L3)"
   ]
  },
  {
   "cell_type": "code",
   "execution_count": 41,
   "id": "6c8e67df-a852-422d-aa39-9fe4c2e60036",
   "metadata": {
    "tags": []
   },
   "outputs": [
    {
     "name": "stderr",
     "output_type": "stream",
     "text": [
      "Dropping ImputeWeights Since You Are Subsetting Cells! ImputeWeights is a cell-x-cell Matrix!\n",
      "\n"
     ]
    }
   ],
   "source": [
    "projHeme1<-projHeme1[rownames(cell_meta_filtered),]"
   ]
  },
  {
   "cell_type": "code",
   "execution_count": 43,
   "id": "a2cedf83-8fc5-4881-a4d3-5ae578fbdec8",
   "metadata": {
    "collapsed": true,
    "jupyter": {
     "outputs_hidden": true
    },
    "tags": []
   },
   "outputs": [
    {
     "name": "stderr",
     "output_type": "stream",
     "text": [
      "ArchR logging to : ArchRLogs/ArchR-addGroupCoverages-81f145e2ae73-Date-2024-04-10_Time-20-26-25.468317.log\n",
      "If there is an issue, please report to github with logFile!\n",
      "\n",
      "CD4 MAIT (1 of 35) : CellGroups N = 2\n",
      "\n",
      "CD8 MAIT (2 of 35) : CellGroups N = 16\n",
      "\n",
      "CD8aa (3 of 35) : CellGroups N = 9\n",
      "\n",
      "CM CD4 T cell (4 of 35) : CellGroups N = 16\n",
      "\n",
      "CM CD8 T cell (5 of 35) : CellGroups N = 15\n",
      "\n",
      "Core naive CD4 T cell (6 of 35) : CellGroups N = 16\n",
      "\n",
      "Core naive CD8 T cell (7 of 35) : CellGroups N = 16\n",
      "\n",
      "DN T cell (8 of 35) : CellGroups N = 13\n",
      "\n",
      "GZMB- CD27- EM CD4 T cell (9 of 35) : CellGroups N = 2\n",
      "\n",
      "GZMB- CD27+ EM CD4 T cell (10 of 35) : CellGroups N = 16\n",
      "\n",
      "GZMB+ Vd2 gdT (11 of 35) : CellGroups N = 2\n",
      "\n",
      "GZMK- CD27+ EM CD8 T cell (12 of 35) : CellGroups N = 2\n",
      "\n",
      "GZMK+ CD27+ EM CD8 T cell (13 of 35) : CellGroups N = 16\n",
      "\n",
      "GZMK+ memory CD4 Treg (14 of 35) : CellGroups N = 2\n",
      "\n",
      "GZMK+ Vd2 gdT (15 of 35) : CellGroups N = 2\n",
      "\n",
      "ISG+ MAIT (16 of 35) : CellGroups N = 2\n",
      "\n",
      "ISG+ memory CD4 T cell (17 of 35) : CellGroups N = 2\n",
      "\n",
      "ISG+ memory CD8 T cell (18 of 35) : CellGroups N = 2\n",
      "\n",
      "ISG+ naive CD4 T cell (19 of 35) : CellGroups N = 2\n",
      "\n",
      "ISG+ naive CD8 T cell (20 of 35) : CellGroups N = 2\n",
      "\n",
      "KLRB1+ memory CD4 Treg (21 of 35) : CellGroups N = 2\n",
      "\n",
      "KLRB1+ memory CD8 Treg (22 of 35) : CellGroups N = 2\n",
      "\n",
      "KLRF1- effector Vd1 gdT (23 of 35) : CellGroups N = 2\n",
      "\n",
      "KLRF1- GZMB+ CD27- EM CD8 T cell (24 of 35) : CellGroups N = 14\n",
      "\n",
      "KLRF1- GZMB+ CD27- memory CD4 T cell (25 of 35) : CellGroups N = 3\n",
      "\n",
      "KLRF1+ effector Vd1 gdT (26 of 35) : CellGroups N = 2\n",
      "\n",
      "KLRF1+ GZMB+ CD27- EM CD8 T cell (27 of 35) : CellGroups N = 16\n",
      "\n",
      "Memory CD4 Treg (28 of 35) : CellGroups N = 16\n",
      "\n",
      "Memory CD8 Treg (29 of 35) : CellGroups N = 2\n",
      "\n",
      "Naive CD4 Treg (30 of 35) : CellGroups N = 3\n",
      "\n",
      "Naive Vd1 gdT (31 of 35) : CellGroups N = 2\n",
      "\n",
      "Proliferating T cell (32 of 35) : CellGroups N = 2\n",
      "\n",
      "SOX4+ naive CD4 T cell (33 of 35) : CellGroups N = 12\n",
      "\n",
      "SOX4+ naive CD8 T cell (34 of 35) : CellGroups N = 9\n",
      "\n",
      "SOX4+ Vd1 gdT (35 of 35) : CellGroups N = 4\n",
      "\n",
      "2024-04-10 20:27:10.39286 : Creating Coverage Files!, 0.749 mins elapsed.\n",
      "\n",
      "2024-04-10 20:27:10.396855 : Batch Execution w/ safelapply!, 0.749 mins elapsed.\n",
      "\n",
      "2024-04-10 20:47:54.3445 : Adding Kmer Bias to Coverage Files!, 21.481 mins elapsed.\n",
      "\n",
      "Completed Kmer Bias Calculation\n",
      "\n",
      "Adding Kmer Bias (1 of 246)\n",
      "\n",
      "Adding Kmer Bias (2 of 246)\n",
      "\n",
      "Adding Kmer Bias (3 of 246)\n",
      "\n",
      "Adding Kmer Bias (4 of 246)\n",
      "\n",
      "Adding Kmer Bias (5 of 246)\n",
      "\n",
      "Adding Kmer Bias (6 of 246)\n",
      "\n",
      "Adding Kmer Bias (7 of 246)\n",
      "\n",
      "Adding Kmer Bias (8 of 246)\n",
      "\n",
      "Adding Kmer Bias (9 of 246)\n",
      "\n",
      "Adding Kmer Bias (10 of 246)\n",
      "\n",
      "Adding Kmer Bias (11 of 246)\n",
      "\n",
      "Adding Kmer Bias (12 of 246)\n",
      "\n",
      "Adding Kmer Bias (13 of 246)\n",
      "\n",
      "Adding Kmer Bias (14 of 246)\n",
      "\n",
      "Adding Kmer Bias (15 of 246)\n",
      "\n",
      "Adding Kmer Bias (16 of 246)\n",
      "\n",
      "Adding Kmer Bias (17 of 246)\n",
      "\n",
      "Adding Kmer Bias (18 of 246)\n",
      "\n",
      "Adding Kmer Bias (19 of 246)\n",
      "\n",
      "Adding Kmer Bias (20 of 246)\n",
      "\n",
      "Adding Kmer Bias (21 of 246)\n",
      "\n",
      "Adding Kmer Bias (22 of 246)\n",
      "\n",
      "Adding Kmer Bias (23 of 246)\n",
      "\n",
      "Adding Kmer Bias (24 of 246)\n",
      "\n",
      "Adding Kmer Bias (25 of 246)\n",
      "\n",
      "Adding Kmer Bias (26 of 246)\n",
      "\n",
      "Adding Kmer Bias (27 of 246)\n",
      "\n",
      "Adding Kmer Bias (28 of 246)\n",
      "\n",
      "Adding Kmer Bias (29 of 246)\n",
      "\n",
      "Adding Kmer Bias (30 of 246)\n",
      "\n",
      "Adding Kmer Bias (31 of 246)\n",
      "\n",
      "Adding Kmer Bias (32 of 246)\n",
      "\n",
      "Adding Kmer Bias (33 of 246)\n",
      "\n",
      "Adding Kmer Bias (34 of 246)\n",
      "\n",
      "Adding Kmer Bias (35 of 246)\n",
      "\n",
      "Adding Kmer Bias (36 of 246)\n",
      "\n",
      "Adding Kmer Bias (37 of 246)\n",
      "\n",
      "Adding Kmer Bias (38 of 246)\n",
      "\n",
      "Adding Kmer Bias (39 of 246)\n",
      "\n",
      "Adding Kmer Bias (40 of 246)\n",
      "\n",
      "Adding Kmer Bias (41 of 246)\n",
      "\n",
      "Adding Kmer Bias (42 of 246)\n",
      "\n",
      "Adding Kmer Bias (43 of 246)\n",
      "\n",
      "Adding Kmer Bias (44 of 246)\n",
      "\n",
      "Adding Kmer Bias (45 of 246)\n",
      "\n",
      "Adding Kmer Bias (46 of 246)\n",
      "\n",
      "Adding Kmer Bias (47 of 246)\n",
      "\n",
      "Adding Kmer Bias (48 of 246)\n",
      "\n",
      "Adding Kmer Bias (49 of 246)\n",
      "\n",
      "Adding Kmer Bias (50 of 246)\n",
      "\n",
      "Adding Kmer Bias (51 of 246)\n",
      "\n",
      "Adding Kmer Bias (52 of 246)\n",
      "\n",
      "Adding Kmer Bias (53 of 246)\n",
      "\n",
      "Adding Kmer Bias (54 of 246)\n",
      "\n",
      "Adding Kmer Bias (55 of 246)\n",
      "\n",
      "Adding Kmer Bias (56 of 246)\n",
      "\n",
      "Adding Kmer Bias (57 of 246)\n",
      "\n",
      "Adding Kmer Bias (58 of 246)\n",
      "\n",
      "Adding Kmer Bias (59 of 246)\n",
      "\n",
      "Adding Kmer Bias (60 of 246)\n",
      "\n",
      "Adding Kmer Bias (61 of 246)\n",
      "\n",
      "Adding Kmer Bias (62 of 246)\n",
      "\n",
      "Adding Kmer Bias (63 of 246)\n",
      "\n",
      "Adding Kmer Bias (64 of 246)\n",
      "\n",
      "Adding Kmer Bias (65 of 246)\n",
      "\n",
      "Adding Kmer Bias (66 of 246)\n",
      "\n",
      "Adding Kmer Bias (67 of 246)\n",
      "\n",
      "Adding Kmer Bias (68 of 246)\n",
      "\n",
      "Adding Kmer Bias (69 of 246)\n",
      "\n",
      "Adding Kmer Bias (70 of 246)\n",
      "\n",
      "Adding Kmer Bias (71 of 246)\n",
      "\n",
      "Adding Kmer Bias (72 of 246)\n",
      "\n",
      "Adding Kmer Bias (73 of 246)\n",
      "\n",
      "Adding Kmer Bias (74 of 246)\n",
      "\n",
      "Adding Kmer Bias (75 of 246)\n",
      "\n",
      "Adding Kmer Bias (76 of 246)\n",
      "\n",
      "Adding Kmer Bias (77 of 246)\n",
      "\n",
      "Adding Kmer Bias (78 of 246)\n",
      "\n",
      "Adding Kmer Bias (79 of 246)\n",
      "\n",
      "Adding Kmer Bias (80 of 246)\n",
      "\n",
      "Adding Kmer Bias (81 of 246)\n",
      "\n",
      "Adding Kmer Bias (82 of 246)\n",
      "\n",
      "Adding Kmer Bias (83 of 246)\n",
      "\n",
      "Adding Kmer Bias (84 of 246)\n",
      "\n",
      "Adding Kmer Bias (85 of 246)\n",
      "\n",
      "Adding Kmer Bias (86 of 246)\n",
      "\n",
      "Adding Kmer Bias (87 of 246)\n",
      "\n",
      "Adding Kmer Bias (88 of 246)\n",
      "\n",
      "Adding Kmer Bias (89 of 246)\n",
      "\n",
      "Adding Kmer Bias (90 of 246)\n",
      "\n",
      "Adding Kmer Bias (91 of 246)\n",
      "\n",
      "Adding Kmer Bias (92 of 246)\n",
      "\n",
      "Adding Kmer Bias (93 of 246)\n",
      "\n",
      "Adding Kmer Bias (94 of 246)\n",
      "\n",
      "Adding Kmer Bias (95 of 246)\n",
      "\n",
      "Adding Kmer Bias (96 of 246)\n",
      "\n",
      "Adding Kmer Bias (97 of 246)\n",
      "\n",
      "Adding Kmer Bias (98 of 246)\n",
      "\n",
      "Adding Kmer Bias (99 of 246)\n",
      "\n",
      "Adding Kmer Bias (100 of 246)\n",
      "\n",
      "Adding Kmer Bias (101 of 246)\n",
      "\n",
      "Adding Kmer Bias (102 of 246)\n",
      "\n",
      "Adding Kmer Bias (103 of 246)\n",
      "\n",
      "Adding Kmer Bias (104 of 246)\n",
      "\n",
      "Adding Kmer Bias (105 of 246)\n",
      "\n",
      "Adding Kmer Bias (106 of 246)\n",
      "\n",
      "Adding Kmer Bias (107 of 246)\n",
      "\n",
      "Adding Kmer Bias (108 of 246)\n",
      "\n",
      "Adding Kmer Bias (109 of 246)\n",
      "\n",
      "Adding Kmer Bias (110 of 246)\n",
      "\n",
      "Adding Kmer Bias (111 of 246)\n",
      "\n",
      "Adding Kmer Bias (112 of 246)\n",
      "\n",
      "Adding Kmer Bias (113 of 246)\n",
      "\n",
      "Adding Kmer Bias (114 of 246)\n",
      "\n",
      "Adding Kmer Bias (115 of 246)\n",
      "\n",
      "Adding Kmer Bias (116 of 246)\n",
      "\n",
      "Adding Kmer Bias (117 of 246)\n",
      "\n",
      "Adding Kmer Bias (118 of 246)\n",
      "\n",
      "Adding Kmer Bias (119 of 246)\n",
      "\n",
      "Adding Kmer Bias (120 of 246)\n",
      "\n",
      "Adding Kmer Bias (121 of 246)\n",
      "\n",
      "Adding Kmer Bias (122 of 246)\n",
      "\n",
      "Adding Kmer Bias (123 of 246)\n",
      "\n",
      "Adding Kmer Bias (124 of 246)\n",
      "\n",
      "Adding Kmer Bias (125 of 246)\n",
      "\n",
      "Adding Kmer Bias (126 of 246)\n",
      "\n",
      "Adding Kmer Bias (127 of 246)\n",
      "\n",
      "Adding Kmer Bias (128 of 246)\n",
      "\n",
      "Adding Kmer Bias (129 of 246)\n",
      "\n",
      "Adding Kmer Bias (130 of 246)\n",
      "\n",
      "Adding Kmer Bias (131 of 246)\n",
      "\n",
      "Adding Kmer Bias (132 of 246)\n",
      "\n",
      "Adding Kmer Bias (133 of 246)\n",
      "\n",
      "Adding Kmer Bias (134 of 246)\n",
      "\n",
      "Adding Kmer Bias (135 of 246)\n",
      "\n",
      "Adding Kmer Bias (136 of 246)\n",
      "\n",
      "Adding Kmer Bias (137 of 246)\n",
      "\n",
      "Adding Kmer Bias (138 of 246)\n",
      "\n",
      "Adding Kmer Bias (139 of 246)\n",
      "\n",
      "Adding Kmer Bias (140 of 246)\n",
      "\n",
      "Adding Kmer Bias (141 of 246)\n",
      "\n",
      "Adding Kmer Bias (142 of 246)\n",
      "\n",
      "Adding Kmer Bias (143 of 246)\n",
      "\n",
      "Adding Kmer Bias (144 of 246)\n",
      "\n",
      "Adding Kmer Bias (145 of 246)\n",
      "\n",
      "Adding Kmer Bias (146 of 246)\n",
      "\n",
      "Adding Kmer Bias (147 of 246)\n",
      "\n",
      "Adding Kmer Bias (148 of 246)\n",
      "\n",
      "Adding Kmer Bias (149 of 246)\n",
      "\n",
      "Adding Kmer Bias (150 of 246)\n",
      "\n",
      "Adding Kmer Bias (151 of 246)\n",
      "\n",
      "Adding Kmer Bias (152 of 246)\n",
      "\n",
      "Adding Kmer Bias (153 of 246)\n",
      "\n",
      "Adding Kmer Bias (154 of 246)\n",
      "\n",
      "Adding Kmer Bias (155 of 246)\n",
      "\n",
      "Adding Kmer Bias (156 of 246)\n",
      "\n",
      "Adding Kmer Bias (157 of 246)\n",
      "\n",
      "Adding Kmer Bias (158 of 246)\n",
      "\n",
      "Adding Kmer Bias (159 of 246)\n",
      "\n",
      "Adding Kmer Bias (160 of 246)\n",
      "\n",
      "Adding Kmer Bias (161 of 246)\n",
      "\n",
      "Adding Kmer Bias (162 of 246)\n",
      "\n",
      "Adding Kmer Bias (163 of 246)\n",
      "\n",
      "Adding Kmer Bias (164 of 246)\n",
      "\n",
      "Adding Kmer Bias (165 of 246)\n",
      "\n",
      "Adding Kmer Bias (166 of 246)\n",
      "\n",
      "Adding Kmer Bias (167 of 246)\n",
      "\n",
      "Adding Kmer Bias (168 of 246)\n",
      "\n",
      "Adding Kmer Bias (169 of 246)\n",
      "\n",
      "Adding Kmer Bias (170 of 246)\n",
      "\n",
      "Adding Kmer Bias (171 of 246)\n",
      "\n",
      "Adding Kmer Bias (172 of 246)\n",
      "\n",
      "Adding Kmer Bias (173 of 246)\n",
      "\n",
      "Adding Kmer Bias (174 of 246)\n",
      "\n",
      "Adding Kmer Bias (175 of 246)\n",
      "\n",
      "Adding Kmer Bias (176 of 246)\n",
      "\n",
      "Adding Kmer Bias (177 of 246)\n",
      "\n",
      "Adding Kmer Bias (178 of 246)\n",
      "\n",
      "Adding Kmer Bias (179 of 246)\n",
      "\n",
      "Can not create group. Object with name 'KmerBias' already exists.\n",
      "\n",
      "Can not create group. Object with name 'KmerBias/Info' already exists.\n",
      "\n",
      "Adding Kmer Bias (180 of 246)\n",
      "\n",
      "Can not create group. Object with name 'KmerBias' already exists.\n",
      "\n",
      "Can not create group. Object with name 'KmerBias/Info' already exists.\n",
      "\n",
      "Adding Kmer Bias (181 of 246)\n",
      "\n",
      "Can not create group. Object with name 'KmerBias' already exists.\n",
      "\n",
      "Can not create group. Object with name 'KmerBias/Info' already exists.\n",
      "\n",
      "Adding Kmer Bias (182 of 246)\n",
      "\n",
      "Can not create group. Object with name 'KmerBias' already exists.\n",
      "\n",
      "Can not create group. Object with name 'KmerBias/Info' already exists.\n",
      "\n",
      "Adding Kmer Bias (183 of 246)\n",
      "\n",
      "Can not create group. Object with name 'KmerBias' already exists.\n",
      "\n",
      "Can not create group. Object with name 'KmerBias/Info' already exists.\n",
      "\n",
      "Adding Kmer Bias (184 of 246)\n",
      "\n",
      "Can not create group. Object with name 'KmerBias' already exists.\n",
      "\n",
      "Can not create group. Object with name 'KmerBias/Info' already exists.\n",
      "\n",
      "Adding Kmer Bias (185 of 246)\n",
      "\n",
      "Can not create group. Object with name 'KmerBias' already exists.\n",
      "\n",
      "Can not create group. Object with name 'KmerBias/Info' already exists.\n",
      "\n",
      "Adding Kmer Bias (186 of 246)\n",
      "\n",
      "Can not create group. Object with name 'KmerBias' already exists.\n",
      "\n",
      "Can not create group. Object with name 'KmerBias/Info' already exists.\n",
      "\n",
      "Adding Kmer Bias (187 of 246)\n",
      "\n",
      "Can not create group. Object with name 'KmerBias' already exists.\n",
      "\n",
      "Can not create group. Object with name 'KmerBias/Info' already exists.\n",
      "\n",
      "Adding Kmer Bias (188 of 246)\n",
      "\n",
      "Can not create group. Object with name 'KmerBias' already exists.\n",
      "\n",
      "Can not create group. Object with name 'KmerBias/Info' already exists.\n",
      "\n",
      "Adding Kmer Bias (189 of 246)\n",
      "\n",
      "Adding Kmer Bias (190 of 246)\n",
      "\n",
      "Can not create group. Object with name 'KmerBias' already exists.\n",
      "\n",
      "Can not create group. Object with name 'KmerBias/Info' already exists.\n",
      "\n",
      "Adding Kmer Bias (191 of 246)\n",
      "\n",
      "Can not create group. Object with name 'KmerBias' already exists.\n",
      "\n",
      "Can not create group. Object with name 'KmerBias/Info' already exists.\n",
      "\n",
      "Adding Kmer Bias (192 of 246)\n",
      "\n",
      "Adding Kmer Bias (193 of 246)\n",
      "\n",
      "Can not create group. Object with name 'KmerBias' already exists.\n",
      "\n",
      "Can not create group. Object with name 'KmerBias/Info' already exists.\n",
      "\n",
      "Adding Kmer Bias (194 of 246)\n",
      "\n",
      "Can not create group. Object with name 'KmerBias' already exists.\n",
      "\n",
      "Can not create group. Object with name 'KmerBias/Info' already exists.\n",
      "\n",
      "Adding Kmer Bias (195 of 246)\n",
      "\n",
      "Can not create group. Object with name 'KmerBias' already exists.\n",
      "\n",
      "Can not create group. Object with name 'KmerBias/Info' already exists.\n",
      "\n",
      "Adding Kmer Bias (196 of 246)\n",
      "\n",
      "Adding Kmer Bias (197 of 246)\n",
      "\n",
      "Adding Kmer Bias (198 of 246)\n",
      "\n",
      "Adding Kmer Bias (199 of 246)\n",
      "\n",
      "Adding Kmer Bias (200 of 246)\n",
      "\n",
      "Adding Kmer Bias (201 of 246)\n",
      "\n",
      "Adding Kmer Bias (202 of 246)\n",
      "\n",
      "Adding Kmer Bias (203 of 246)\n",
      "\n",
      "Adding Kmer Bias (204 of 246)\n",
      "\n",
      "Adding Kmer Bias (205 of 246)\n",
      "\n",
      "Adding Kmer Bias (206 of 246)\n",
      "\n",
      "Adding Kmer Bias (207 of 246)\n",
      "\n",
      "Adding Kmer Bias (208 of 246)\n",
      "\n",
      "Adding Kmer Bias (209 of 246)\n",
      "\n",
      "Adding Kmer Bias (210 of 246)\n",
      "\n",
      "Adding Kmer Bias (211 of 246)\n",
      "\n",
      "Adding Kmer Bias (212 of 246)\n",
      "\n",
      "Adding Kmer Bias (213 of 246)\n",
      "\n",
      "Adding Kmer Bias (214 of 246)\n",
      "\n",
      "Adding Kmer Bias (215 of 246)\n",
      "\n",
      "Adding Kmer Bias (216 of 246)\n",
      "\n",
      "Adding Kmer Bias (217 of 246)\n",
      "\n",
      "Adding Kmer Bias (218 of 246)\n",
      "\n",
      "Adding Kmer Bias (219 of 246)\n",
      "\n",
      "Adding Kmer Bias (220 of 246)\n",
      "\n",
      "Adding Kmer Bias (221 of 246)\n",
      "\n",
      "Adding Kmer Bias (222 of 246)\n",
      "\n",
      "Adding Kmer Bias (223 of 246)\n",
      "\n",
      "Adding Kmer Bias (224 of 246)\n",
      "\n",
      "Adding Kmer Bias (225 of 246)\n",
      "\n",
      "Adding Kmer Bias (226 of 246)\n",
      "\n",
      "Adding Kmer Bias (227 of 246)\n",
      "\n",
      "Adding Kmer Bias (228 of 246)\n",
      "\n",
      "Adding Kmer Bias (229 of 246)\n",
      "\n",
      "Adding Kmer Bias (230 of 246)\n",
      "\n",
      "Adding Kmer Bias (231 of 246)\n",
      "\n",
      "Adding Kmer Bias (232 of 246)\n",
      "\n",
      "Adding Kmer Bias (233 of 246)\n",
      "\n",
      "Adding Kmer Bias (234 of 246)\n",
      "\n",
      "Adding Kmer Bias (235 of 246)\n",
      "\n",
      "Adding Kmer Bias (236 of 246)\n",
      "\n",
      "Adding Kmer Bias (237 of 246)\n",
      "\n",
      "Adding Kmer Bias (238 of 246)\n",
      "\n",
      "Adding Kmer Bias (239 of 246)\n",
      "\n",
      "Adding Kmer Bias (240 of 246)\n",
      "\n",
      "Adding Kmer Bias (241 of 246)\n",
      "\n",
      "Adding Kmer Bias (242 of 246)\n",
      "\n",
      "Adding Kmer Bias (243 of 246)\n",
      "\n",
      "Adding Kmer Bias (244 of 246)\n",
      "\n",
      "Adding Kmer Bias (245 of 246)\n",
      "\n",
      "Adding Kmer Bias (246 of 246)\n",
      "\n",
      "2024-04-10 21:04:48.094398 : Finished Creation of Coverage Files!, 38.377 mins elapsed.\n",
      "\n",
      "ArchR logging successful to : ArchRLogs/ArchR-addGroupCoverages-81f145e2ae73-Date-2024-04-10_Time-20-26-25.468317.log\n",
      "\n"
     ]
    }
   ],
   "source": [
    "projHeme1 <- addGroupCoverages(ArchRProj = projHeme1, groupBy = \"AIFI_L3\", maxReplicates = 16, maxCells = 2000, threads = 10, force = TRUE )"
   ]
  },
  {
   "cell_type": "code",
   "execution_count": 44,
   "id": "e44336bd-381c-4122-b754-4fca2e8c360c",
   "metadata": {
    "tags": []
   },
   "outputs": [],
   "source": [
    "\n",
    "pathToMacs2<-'/opt/conda/bin/macs3'\n"
   ]
  },
  {
   "cell_type": "code",
   "execution_count": 45,
   "id": "74cb499c-12a0-4434-8231-3743da58c606",
   "metadata": {
    "tags": []
   },
   "outputs": [
    {
     "name": "stderr",
     "output_type": "stream",
     "text": [
      "ArchR logging to : ArchRLogs/ArchR-addReproduciblePeakSet-81f140a708bd-Date-2024-04-10_Time-21-04-48.441453.log\n",
      "If there is an issue, please report to github with logFile!\n",
      "\n",
      "Calling Peaks with Macs2\n",
      "\n",
      "2024-04-10 21:04:48.837942 : Peak Calling Parameters!, 0.007 mins elapsed.\n",
      "\n"
     ]
    },
    {
     "name": "stdout",
     "output_type": "stream",
     "text": [
      "                                                                    Group\n",
      "CD4 MAIT                                                         CD4 MAIT\n",
      "CD8 MAIT                                                         CD8 MAIT\n",
      "CD8aa                                                               CD8aa\n",
      "CM CD4 T cell                                               CM CD4 T cell\n",
      "CM CD8 T cell                                               CM CD8 T cell\n",
      "Core naive CD4 T cell                               Core naive CD4 T cell\n",
      "Core naive CD8 T cell                               Core naive CD8 T cell\n",
      "DN T cell                                                       DN T cell\n",
      "GZMB- CD27- EM CD4 T cell                       GZMB- CD27- EM CD4 T cell\n",
      "GZMB- CD27+ EM CD4 T cell                       GZMB- CD27+ EM CD4 T cell\n",
      "GZMB+ Vd2 gdT                                               GZMB+ Vd2 gdT\n",
      "GZMK- CD27+ EM CD8 T cell                       GZMK- CD27+ EM CD8 T cell\n",
      "GZMK+ CD27+ EM CD8 T cell                       GZMK+ CD27+ EM CD8 T cell\n",
      "GZMK+ memory CD4 Treg                               GZMK+ memory CD4 Treg\n",
      "GZMK+ Vd2 gdT                                               GZMK+ Vd2 gdT\n",
      "ISG+ MAIT                                                       ISG+ MAIT\n",
      "ISG+ memory CD4 T cell                             ISG+ memory CD4 T cell\n",
      "ISG+ memory CD8 T cell                             ISG+ memory CD8 T cell\n",
      "ISG+ naive CD4 T cell                               ISG+ naive CD4 T cell\n",
      "ISG+ naive CD8 T cell                               ISG+ naive CD8 T cell\n",
      "KLRB1+ memory CD4 Treg                             KLRB1+ memory CD4 Treg\n",
      "KLRB1+ memory CD8 Treg                             KLRB1+ memory CD8 Treg\n",
      "KLRF1- effector Vd1 gdT                           KLRF1- effector Vd1 gdT\n",
      "KLRF1- GZMB+ CD27- EM CD8 T cell         KLRF1- GZMB+ CD27- EM CD8 T cell\n",
      "KLRF1- GZMB+ CD27- memory CD4 T cell KLRF1- GZMB+ CD27- memory CD4 T cell\n",
      "KLRF1+ effector Vd1 gdT                           KLRF1+ effector Vd1 gdT\n",
      "KLRF1+ GZMB+ CD27- EM CD8 T cell         KLRF1+ GZMB+ CD27- EM CD8 T cell\n",
      "Memory CD4 Treg                                           Memory CD4 Treg\n",
      "Memory CD8 Treg                                           Memory CD8 Treg\n",
      "Naive CD4 Treg                                             Naive CD4 Treg\n",
      "Naive Vd1 gdT                                               Naive Vd1 gdT\n",
      "Proliferating T cell                                 Proliferating T cell\n",
      "SOX4+ naive CD4 T cell                             SOX4+ naive CD4 T cell\n",
      "SOX4+ naive CD8 T cell                             SOX4+ naive CD8 T cell\n",
      "SOX4+ Vd1 gdT                                               SOX4+ Vd1 gdT\n",
      "                                     nCells nCellsUsed nReplicates nMin nMax\n",
      "CD4 MAIT                                  5          5           2    4    5\n",
      "CD8 MAIT                              11510       9256          16  133 2000\n",
      "CD8aa                                   812        812           9   45  180\n",
      "CM CD4 T cell                         30839      23495          16  666 2000\n",
      "CM CD8 T cell                          2603       2584          15   59  404\n",
      "Core naive CD4 T cell                104550      32000          16 2000 2000\n",
      "Core naive CD8 T cell                 39082      23792          16  402 2000\n",
      "DN T cell                              1223       1223          13   53  220\n",
      "GZMB- CD27- EM CD4 T cell               139        139           2   69   70\n",
      "GZMB- CD27+ EM CD4 T cell             41544      22154          16  608 2000\n",
      "GZMB+ Vd2 gdT                            96         96           2   48   48\n",
      "GZMK- CD27+ EM CD8 T cell               106        106           2   53   53\n",
      "GZMK+ CD27+ EM CD8 T cell             20646      16705          16  311 2000\n",
      "GZMK+ memory CD4 Treg                     3          3           2    3    3\n",
      "GZMK+ Vd2 gdT                            71         62           2   40   40\n",
      "ISG+ MAIT                                18         18           2   14   15\n",
      "ISG+ memory CD4 T cell                   49         45           2   27   31\n",
      "ISG+ memory CD8 T cell                    6          6           2    6    6\n",
      "ISG+ naive CD4 T cell                   111        111           2   55   56\n",
      "ISG+ naive CD8 T cell                     8          8           2    7    8\n",
      "KLRB1+ memory CD4 Treg                  121        121           2   60   61\n",
      "KLRB1+ memory CD8 Treg                    1          1           2    1    1\n",
      "KLRF1- effector Vd1 gdT                   8          8           2    7    8\n",
      "KLRF1- GZMB+ CD27- EM CD8 T cell      11419       8377          14   79 2000\n",
      "KLRF1- GZMB+ CD27- memory CD4 T cell    801        801           3   59  401\n",
      "KLRF1+ effector Vd1 gdT                   9          9           2    7    9\n",
      "KLRF1+ GZMB+ CD27- EM CD8 T cell       8578       8578          16   85 1601\n",
      "Memory CD4 Treg                        7376       7376          16  150 1195\n",
      "Memory CD8 Treg                           5          5           2    4    5\n",
      "Naive CD4 Treg                          448        448           3   58  331\n",
      "Naive Vd1 gdT                            86         86           2   43   43\n",
      "Proliferating T cell                      9          9           2    7    9\n",
      "SOX4+ naive CD4 T cell                 3667       3667          12   84  608\n",
      "SOX4+ naive CD8 T cell                  956        956           9   44  204\n",
      "SOX4+ Vd1 gdT                           349        349           4   41  199\n",
      "                                     maxPeaks\n",
      "CD4 MAIT                                 2500\n",
      "CD8 MAIT                               150000\n",
      "CD8aa                                  150000\n",
      "CM CD4 T cell                          150000\n",
      "CM CD8 T cell                          150000\n",
      "Core naive CD4 T cell                  150000\n",
      "Core naive CD8 T cell                  150000\n",
      "DN T cell                              150000\n",
      "GZMB- CD27- EM CD4 T cell               69500\n",
      "GZMB- CD27+ EM CD4 T cell              150000\n",
      "GZMB+ Vd2 gdT                           48000\n",
      "GZMK- CD27+ EM CD8 T cell               53000\n",
      "GZMK+ CD27+ EM CD8 T cell              150000\n",
      "GZMK+ memory CD4 Treg                    1500\n",
      "GZMK+ Vd2 gdT                           31000\n",
      "ISG+ MAIT                                9000\n",
      "ISG+ memory CD4 T cell                  22500\n",
      "ISG+ memory CD8 T cell                   3000\n",
      "ISG+ naive CD4 T cell                   55500\n",
      "ISG+ naive CD8 T cell                    4000\n",
      "KLRB1+ memory CD4 Treg                  60500\n",
      "KLRB1+ memory CD8 Treg                    500\n",
      "KLRF1- effector Vd1 gdT                  4000\n",
      "KLRF1- GZMB+ CD27- EM CD8 T cell       150000\n",
      "KLRF1- GZMB+ CD27- memory CD4 T cell   150000\n",
      "KLRF1+ effector Vd1 gdT                  4500\n",
      "KLRF1+ GZMB+ CD27- EM CD8 T cell       150000\n",
      "Memory CD4 Treg                        150000\n",
      "Memory CD8 Treg                          2500\n",
      "Naive CD4 Treg                         150000\n",
      "Naive Vd1 gdT                           43000\n",
      "Proliferating T cell                     4500\n",
      "SOX4+ naive CD4 T cell                 150000\n",
      "SOX4+ naive CD8 T cell                 150000\n",
      "SOX4+ Vd1 gdT                          150000\n"
     ]
    },
    {
     "name": "stderr",
     "output_type": "stream",
     "text": [
      "2024-04-10 21:04:48.84752 : Batching Peak Calls!, 0.007 mins elapsed.\n",
      "\n",
      "2024-04-10 21:04:48.853907 : Batch Execution w/ safelapply!, 0 mins elapsed.\n",
      "\n",
      "2024-04-10 21:09:54.880916 : Identifying Reproducible Peaks!, 5.107 mins elapsed.\n",
      "\n",
      "2024-04-10 21:10:17.351342 : Creating Union Peak Set!, 5.482 mins elapsed.\n",
      "\n",
      "Converged after 12 iterations!\n",
      "\n",
      "Plotting Ggplot!\n",
      "\n",
      "2024-04-10 21:10:28.735155 : Finished Creating Union Peak Set (182757)!, 5.672 mins elapsed.\n",
      "\n"
     ]
    }
   ],
   "source": [
    "projHeme1 <- addReproduciblePeakSet(\n",
    "                        ArchRProj = projHeme1, \n",
    "                        groupBy = \"AIFI_L3\", \n",
    "                        pathToMacs2 = pathToMacs2, force = TRUE\n",
    "                            )"
   ]
  },
  {
   "cell_type": "code",
   "execution_count": 46,
   "id": "e458d967-588e-4674-80bd-ed1d6b2c86c9",
   "metadata": {
    "tags": []
   },
   "outputs": [
    {
     "name": "stderr",
     "output_type": "stream",
     "text": [
      "ArchR logging to : ArchRLogs/ArchR-addPeakMatrix-81f13be4f3f2-Date-2024-04-10_Time-21-10-28.752561.log\n",
      "If there is an issue, please report to github with logFile!\n",
      "\n",
      "2024-04-10 21:10:28.929324 : Batch Execution w/ safelapply!, 0 mins elapsed.\n",
      "\n",
      "Overriding previous entry for ReadsInPeaks\n",
      "\n",
      "Overriding previous entry for FRIP\n",
      "\n",
      "ArchR logging successful to : ArchRLogs/ArchR-addPeakMatrix-81f13be4f3f2-Date-2024-04-10_Time-21-10-28.752561.log\n",
      "\n"
     ]
    }
   ],
   "source": [
    "projHeme1 <- addPeakMatrix(projHeme1, force = TRUE)"
   ]
  },
  {
   "cell_type": "code",
   "execution_count": 47,
   "id": "6f631795-2c14-4f5e-92ca-8383789ff711",
   "metadata": {
    "tags": []
   },
   "outputs": [],
   "source": [
    "library(BSgenome.Hsapiens.UCSC.hg38)\n",
    "library(TFBSTools)\n",
    "library(JASPAR2020)\n",
    "tair.motif=getMatrixSet(x=JASPAR2020,opts=list(collection=\"CORE\",species=\"9606\",matrixtype=\"PWM\"))"
   ]
  },
  {
   "cell_type": "code",
   "execution_count": 48,
   "id": "fc3b5c82-c7f0-44c4-a8ee-378fcbe559be",
   "metadata": {
    "tags": []
   },
   "outputs": [
    {
     "name": "stderr",
     "output_type": "stream",
     "text": [
      "ArchR logging to : ArchRLogs/ArchR-addMotifAnnotations-81f1519c92b9-Date-2024-04-10_Time-21-14-25.020458.log\n",
      "If there is an issue, please report to github with logFile!\n",
      "\n",
      "peakAnnotation name already exists! Overriding.\n",
      "\n",
      "2024-04-10 21:14:25.100729 : Gettting Motif Set, Species : , 0.001 mins elapsed.\n",
      "\n",
      "2024-04-10 21:14:25.640346 : Finding Motif Positions with motifmatchr!, 0.01 mins elapsed.\n",
      "\n",
      "2024-04-10 21:16:40.810333 : All Motifs Overlap at least 1 peak!, 2.263 mins elapsed.\n",
      "\n",
      "2024-04-10 21:16:40.813341 : Creating Motif Overlap Matrix, 2.263 mins elapsed.\n",
      "\n",
      "2024-04-10 21:16:44.200172 : Finished Getting Motif Info!, 2.32 mins elapsed.\n",
      "\n",
      "ArchR logging successful to : ArchRLogs/ArchR-addMotifAnnotations-81f1519c92b9-Date-2024-04-10_Time-21-14-25.020458.log\n",
      "\n"
     ]
    }
   ],
   "source": [
    "projHeme1=addMotifAnnotations(projHeme1,name=\"JASPARMotif\",motifPWMs=tair.motif,force=TRUE)"
   ]
  },
  {
   "cell_type": "code",
   "execution_count": 49,
   "id": "ccdc26e4-ce4c-47d6-b30c-16eb4a59cb55",
   "metadata": {
    "tags": []
   },
   "outputs": [
    {
     "name": "stderr",
     "output_type": "stream",
     "text": [
      "Identifying Background Peaks!\n",
      "\n"
     ]
    }
   ],
   "source": [
    "projHeme1 <- addBgdPeaks(projHeme1,force=T)"
   ]
  },
  {
   "cell_type": "code",
   "execution_count": 50,
   "id": "cb4a68ed-3829-441c-8df7-385562689f01",
   "metadata": {
    "tags": []
   },
   "outputs": [
    {
     "name": "stderr",
     "output_type": "stream",
     "text": [
      "Using Previous Background Peaks!\n",
      "\n",
      "ArchR logging to : ArchRLogs/ArchR-addDeviationsMatrix-81f140965259-Date-2024-04-10_Time-21-17-02.747311.log\n",
      "If there is an issue, please report to github with logFile!\n",
      "\n"
     ]
    },
    {
     "name": "stdout",
     "output_type": "stream",
     "text": [
      "NULL\n"
     ]
    },
    {
     "name": "stderr",
     "output_type": "stream",
     "text": [
      "2024-04-10 21:17:08.812261 : Batch Execution w/ safelapply!, 0 mins elapsed.\n",
      "\n",
      "###########\n",
      "2024-04-10 22:34:47.905838 : Completed Computing Deviations!, 77.753 mins elapsed.\n",
      "###########\n",
      "\n",
      "ArchR logging successful to : ArchRLogs/ArchR-addDeviationsMatrix-81f140965259-Date-2024-04-10_Time-21-17-02.747311.log\n",
      "\n"
     ]
    }
   ],
   "source": [
    "projHeme1 <- addDeviationsMatrix(\n",
    "  ArchRProj = projHeme1, \n",
    "  peakAnnotation = \"Motif\",\n",
    "  force = TRUE\n",
    ")\n"
   ]
  },
  {
   "cell_type": "code",
   "execution_count": 51,
   "id": "e3b1826b-5cb3-4677-bc57-0ec877a25ac7",
   "metadata": {
    "tags": []
   },
   "outputs": [
    {
     "name": "stderr",
     "output_type": "stream",
     "text": [
      "\n",
      "           ___      .______        ______  __    __  .______      \n",
      "          /   \\     |   _  \\      /      ||  |  |  | |   _  \\     \n",
      "         /  ^  \\    |  |_)  |    |  ,----'|  |__|  | |  |_)  |    \n",
      "        /  /_\\  \\   |      /     |  |     |   __   | |      /     \n",
      "       /  _____  \\  |  |\\  \\\\___ |  `----.|  |  |  | |  |\\  \\\\___.\n",
      "      /__/     \\__\\ | _| `._____| \\______||__|  |__| | _| `._____|\n",
      "    \n",
      "\n"
     ]
    },
    {
     "data": {
      "text/plain": [
       "class: ArchRProject \n",
       "outputDirectory: /home/jupyter/BRI_Analysis/scRNA/Analysis-Cross-Sectional/TEAseq/PenSen_ATAC_L2 \n",
       "samples(16): GSM6611363_B065-P1_PB00593-04\n",
       "  GSM6611364_B069-P1_PB00323-02 ... GSM6611377_B065-P1_PB00192-02\n",
       "  GSM6611378_B065-P1_PB00197-02\n",
       "sampleColData names(1): ArrowFiles\n",
       "cellColData names(18): Sample TSSEnrichment ... ReadsInPeaks FRIP\n",
       "numberOfCells(1): 287254\n",
       "medianTSS(1): 25.363\n",
       "medianFrags(1): 6890"
      ]
     },
     "metadata": {},
     "output_type": "display_data"
    }
   ],
   "source": [
    "projHeme1"
   ]
  },
  {
   "cell_type": "code",
   "execution_count": 52,
   "id": "0c328d1a-e534-45a9-a953-33c7c497f9f7",
   "metadata": {
    "tags": []
   },
   "outputs": [
    {
     "name": "stderr",
     "output_type": "stream",
     "text": [
      "ArchR logging to : ArchRLogs/ArchR-addImputeWeights-81f1382c0265-Date-2024-04-10_Time-22-56-09.887072.log\n",
      "If there is an issue, please report to github with logFile!\n",
      "\n",
      "2024-04-10 22:56:09.927168 : Computing Impute Weights Using Magic (Cell 2018), 0 mins elapsed.\n",
      "\n",
      "Filtering 1 dims correlated > 0.75 to log10(depth + 1)\n",
      "\n"
     ]
    }
   ],
   "source": [
    "projHeme1 <- addImputeWeights(projHeme1)\n"
   ]
  },
  {
   "cell_type": "code",
   "execution_count": 53,
   "id": "e88aeff5-4df6-46f9-97a8-464be9491228",
   "metadata": {
    "collapsed": true,
    "jupyter": {
     "outputs_hidden": true
    },
    "tags": []
   },
   "outputs": [
    {
     "name": "stderr",
     "output_type": "stream",
     "text": [
      "Copying ArchRProject to new outputDirectory : /home/jupyter/BRI_Analysis/scRNA/Analysis-Cross-Sectional/TEAseq/PenSen_ATAC_L3\n",
      "\n",
      "Copying Arrow Files...\n",
      "\n",
      "Copying Arrow Files (1 of 16)\n",
      "\n",
      "Copying Arrow Files (2 of 16)\n",
      "\n",
      "Copying Arrow Files (3 of 16)\n",
      "\n",
      "Copying Arrow Files (4 of 16)\n",
      "\n",
      "Copying Arrow Files (5 of 16)\n",
      "\n",
      "Copying Arrow Files (6 of 16)\n",
      "\n",
      "Copying Arrow Files (7 of 16)\n",
      "\n",
      "Copying Arrow Files (8 of 16)\n",
      "\n",
      "Copying Arrow Files (9 of 16)\n",
      "\n",
      "Copying Arrow Files (10 of 16)\n",
      "\n",
      "Copying Arrow Files (11 of 16)\n",
      "\n",
      "Copying Arrow Files (12 of 16)\n",
      "\n",
      "Copying Arrow Files (13 of 16)\n",
      "\n",
      "Copying Arrow Files (14 of 16)\n",
      "\n",
      "Copying Arrow Files (15 of 16)\n",
      "\n",
      "Copying Arrow Files (16 of 16)\n",
      "\n",
      "Getting ImputeWeights\n",
      "\n",
      "Dropping ImputeWeights...\n",
      "\n",
      "Copying Other Files...\n",
      "\n",
      "Copying Other Files (1 of 6): Annotations\n",
      "\n",
      "Copying Other Files (2 of 6): Background-Peaks.rds\n",
      "\n",
      "Copying Other Files (3 of 6): GroupCoverages\n",
      "\n",
      "Copying Other Files (4 of 6): IterativeLSI\n",
      "\n",
      "Copying Other Files (5 of 6): PeakCalls\n",
      "\n",
      "Copying Other Files (6 of 6): Plots\n",
      "\n",
      "Saving ArchRProject...\n",
      "\n",
      "Loading ArchRProject...\n",
      "\n",
      "Successfully loaded ArchRProject!\n",
      "\n",
      "\n",
      "                                                   / |\n",
      "                                                 /    \\\n",
      "            .                                  /      |.\n",
      "            \\\\\\                              /        |.\n",
      "              \\\\\\                          /           `|.\n",
      "                \\\\\\                      /              |.\n",
      "                  \\                    /                |\\\n",
      "                  \\\\#####\\           /                  ||\n",
      "                ==###########>      /                   ||\n",
      "                 \\\\##==......\\    /                     ||\n",
      "            ______ =       =|__ /__                     ||      \\\\\\\n",
      "        ,--' ,----`-,__ ___/'  --,-`-===================##========>\n",
      "       \\               '        ##_______ _____ ,--,__,=##,__   ///\n",
      "        ,    __==    ___,-,__,--'#'  ==='      `-'    | ##,-/\n",
      "        -,____,---'       \\\\####\\\\________________,--\\\\_##,/\n",
      "           ___      .______        ______  __    __  .______      \n",
      "          /   \\     |   _  \\      /      ||  |  |  | |   _  \\     \n",
      "         /  ^  \\    |  |_)  |    |  ,----'|  |__|  | |  |_)  |    \n",
      "        /  /_\\  \\   |      /     |  |     |   __   | |      /     \n",
      "       /  _____  \\  |  |\\  \\\\___ |  `----.|  |  |  | |  |\\  \\\\___.\n",
      "      /__/     \\__\\ | _| `._____| \\______||__|  |__| | _| `._____|\n",
      "    \n",
      "\n",
      "\n",
      "           ___      .______        ______  __    __  .______      \n",
      "          /   \\     |   _  \\      /      ||  |  |  | |   _  \\     \n",
      "         /  ^  \\    |  |_)  |    |  ,----'|  |__|  | |  |_)  |    \n",
      "        /  /_\\  \\   |      /     |  |     |   __   | |      /     \n",
      "       /  _____  \\  |  |\\  \\\\___ |  `----.|  |  |  | |  |\\  \\\\___.\n",
      "      /__/     \\__\\ | _| `._____| \\______||__|  |__| | _| `._____|\n",
      "    \n",
      "\n"
     ]
    },
    {
     "data": {
      "text/plain": [
       "class: ArchRProject \n",
       "outputDirectory: /home/jupyter/BRI_Analysis/scRNA/Analysis-Cross-Sectional/TEAseq/PenSen_ATAC_L3 \n",
       "samples(16): GSM6611374_B076-P1_PB00127-02\n",
       "  GSM6611366_B076-P1_PB00353-03 ... GSM6611363_B065-P1_PB00593-04\n",
       "  GSM6611372_B069-P1_PB00172-02\n",
       "sampleColData names(1): ArrowFiles\n",
       "cellColData names(18): Sample TSSEnrichment ... ReadsInPeaks FRIP\n",
       "numberOfCells(1): 287254\n",
       "medianTSS(1): 25.363\n",
       "medianFrags(1): 6890"
      ]
     },
     "metadata": {},
     "output_type": "display_data"
    }
   ],
   "source": [
    "saveArchRProject(ArchRProj = projHeme1, outputDirectory = \"PenSen_ATAC_L3\", load = TRUE)"
   ]
  },
  {
   "cell_type": "code",
   "execution_count": null,
   "id": "2a3c4c5b-6f4b-4ebd-b7c1-0898cd7be8fc",
   "metadata": {
    "tags": []
   },
   "outputs": [
    {
     "name": "stderr",
     "output_type": "stream",
     "text": [
      "ArchR logging to : ArchRLogs/ArchR-addMotifAnnotations-81f15e32463c-Date-2024-04-10_Time-23-17-52.434011.log\n",
      "If there is an issue, please report to github with logFile!\n",
      "\n",
      "peakAnnotation name already exists! Overriding.\n",
      "\n",
      "2024-04-10 23:17:52.489305 : Gettting Motif Set, Species : Homo sapiens, 0.001 mins elapsed.\n",
      "\n",
      "Using version 2 motifs!\n",
      "\n",
      "2024-04-10 23:17:54.16636 : Finding Motif Positions with motifmatchr!, 0.029 mins elapsed.\n",
      "\n",
      "2024-04-10 23:21:45.984995 : All Motifs Overlap at least 1 peak!, 3.892 mins elapsed.\n",
      "\n",
      "2024-04-10 23:21:45.997494 : Creating Motif Overlap Matrix, 3.893 mins elapsed.\n",
      "\n",
      "2024-04-10 23:21:49.75955 : Finished Getting Motif Info!, 3.955 mins elapsed.\n",
      "\n",
      "ArchR logging successful to : ArchRLogs/ArchR-addMotifAnnotations-81f15e32463c-Date-2024-04-10_Time-23-17-52.434011.log\n",
      "\n",
      "Identifying Background Peaks!\n",
      "\n",
      "Using Previous Background Peaks!\n",
      "\n",
      "ArchR logging to : ArchRLogs/ArchR-addDeviationsMatrix-81f137615a70-Date-2024-04-10_Time-23-22-15.843755.log\n",
      "If there is an issue, please report to github with logFile!\n",
      "\n"
     ]
    },
    {
     "name": "stdout",
     "output_type": "stream",
     "text": [
      "NULL\n"
     ]
    },
    {
     "name": "stderr",
     "output_type": "stream",
     "text": [
      "2024-04-10 23:22:21.642919 : Batch Execution w/ safelapply!, 0 mins elapsed.\n",
      "\n"
     ]
    }
   ],
   "source": [
    "projHeme1 <- addMotifAnnotations(ArchRProj = projHeme1, motifSet = \"cisbp\", name = \"cisbp\", force = TRUE)\n",
    "projHeme1 <- addBgdPeaks(projHeme1,force = TRUE)\n",
    "projHeme1 <- addDeviationsMatrix(\n",
    "  ArchRProj = projHeme1, \n",
    "  peakAnnotation = \"Motif\",\n",
    "  force = TRUE,threads=50\n",
    ")\n",
    "\n",
    "saveArchRProject(ArchRProj = projHeme1, outputDirectory = \"PenSen_ATAC_L3_cisbp\", load = TRUE)"
   ]
  },
  {
   "cell_type": "code",
   "execution_count": null,
   "id": "b06f9715-4cb4-4169-9bab-4de85562d186",
   "metadata": {},
   "outputs": [],
   "source": []
  }
 ],
 "metadata": {
  "kernelspec": {
   "display_name": "R 4",
   "language": "R",
   "name": "ir4"
  },
  "language_info": {
   "codemirror_mode": "r",
   "file_extension": ".r",
   "mimetype": "text/x-r-source",
   "name": "R",
   "pygments_lexer": "r",
   "version": "4.3.1"
  }
 },
 "nbformat": 4,
 "nbformat_minor": 5
}
