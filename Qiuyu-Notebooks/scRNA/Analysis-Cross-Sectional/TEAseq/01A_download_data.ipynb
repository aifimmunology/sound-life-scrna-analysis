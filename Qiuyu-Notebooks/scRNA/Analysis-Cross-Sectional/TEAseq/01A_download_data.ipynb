{
 "cells": [
  {
   "cell_type": "code",
   "execution_count": 4,
   "id": "240b7998-bc01-4016-9f67-2d4ee3f4b11f",
   "metadata": {
    "tags": []
   },
   "outputs": [],
   "source": [
    "# load libraries\n",
    "quiet_library <- function(...) {\n",
    "    suppressPackageStartupMessages(library(...))\n",
    "}\n",
    "quiet_library(Seurat)\n",
    "quiet_library(ggplot2)\n",
    "quiet_library(Matrix)\n",
    "quiet_library(H5weaver)\n",
    "quiet_library(dplyr)\n",
    "quiet_library(viridis)\n",
    "quiet_library(harmony)\n",
    "quiet_library(Nebulosa)"
   ]
  },
  {
   "cell_type": "code",
   "execution_count": 3,
   "id": "cd5e3b40-f956-4a54-8739-5b3cd1a2d630",
   "metadata": {
    "tags": []
   },
   "outputs": [],
   "source": [
    "# Read in ADT information\n",
    "adt_info_func <- function(path){\n",
    "  h5_list <- h5dump(path)\n",
    "  h5_list <- h5_list_convert_to_dgCMatrix(h5_list, target = 'ADT')\n",
    "  adt_mtx <- h5_list$ADT_dgCMatrix\n",
    "  adt_mtx\n",
    "}\n",
    "\n",
    "# Seurat RNA Pipeline\n",
    "seurat_proc_func <- function(x){\n",
    "  DefaultAssay(x) <- 'RNA'\n",
    "    # x <- NormalizeData(x) %>% FindVariableFeatures() %>% ScaleData() %>% RunPCA()\n",
    "  x <- suppressWarnings(SCTransform(x, verbose = T))\n",
    "  x <- RunPCA(x, verbose = T)\n",
    "  x <- RunUMAP(x, dims = 1:30, verbose = T) %>% FindNeighbors(dims = 1:30, verbose = T) %>% FindClusters(resolution = 0.5, verbose = T)\n",
    "  x\n",
    "}\n",
    "\n",
    "# Seurat RNA Label transfer\n",
    "label_transfer_func <- function(reference, query){\n",
    "  anchors <- FindTransferAnchors(\n",
    "    reference = reference,\n",
    "    query = query,\n",
    "    normalization.method = \"SCT\",\n",
    "    reference.reduction = \"spca\",\n",
    "    dims = 1:50\n",
    "  )\n",
    "  query <- TransferData(anchorset = anchors, reference = reference, query = query,\n",
    "                    refdata = list(\n",
    "                      celltype.l1 = \"celltype.l1\",\n",
    "                      celltype.l2 = \"celltype.l2\",\n",
    "                      celltype.l3 = \"celltype.l3\",\n",
    "                      predicted_ADT = 'ADT'))\n",
    "  query\n",
    "}\n",
    "\n",
    "label_transfer_func_alt <- function(reference, query){\n",
    "  anchors <- FindTransferAnchors(\n",
    "    reference = reference,\n",
    "    query = query,\n",
    "    normalization.method = \"SCT\",\n",
    "    reference.reduction = \"spca\",\n",
    "    dims = 1:50, recompute.residuals = FALSE\n",
    "  )\n",
    "  query <- TransferData(anchorset = anchors, reference = reference, query = query,\n",
    "                    refdata = list(\n",
    "                      celltype.l1 = \"celltype.l1\",\n",
    "                      celltype.l2 = \"celltype.l2\",\n",
    "                      celltype.l3 = \"celltype.l3\",\n",
    "                      predicted_ADT = 'ADT'))\n",
    "  query\n",
    "}"
   ]
  },
  {
   "cell_type": "code",
   "execution_count": 24,
   "id": "a767c6d3-a618-4879-a206-5f302a04358f",
   "metadata": {
    "tags": []
   },
   "outputs": [],
   "source": [
    "all_h5 <- list.files(path = '.', pattern = '*frag*', full.names = TRUE)\n",
    "all_h5<-all_h5[1:16]\n",
    "extracted_pattern <- sub(\".*/(.*?)_[^_]*$\", \"\\\\1\", all_h5)"
   ]
  },
  {
   "cell_type": "code",
   "execution_count": 25,
   "id": "a315afec-52bd-4860-88a7-4cfd98335cbf",
   "metadata": {
    "tags": []
   },
   "outputs": [],
   "source": [
    "split_list <- strsplit(extracted_pattern, \"_\", fixed = TRUE)\n",
    "split_df <- do.call(rbind, sapply(split_list, function(x) as.data.frame(t(x)), simplify = FALSE))\n",
    "df <- as.data.frame(split_df, stringsAsFactors = FALSE)"
   ]
  },
  {
   "cell_type": "code",
   "execution_count": 26,
   "id": "89f3d065-9367-4046-86a5-88074f3479dc",
   "metadata": {
    "tags": []
   },
   "outputs": [],
   "source": [
    "colnames(df)<-c('GEO_Accession','Batch','pbmc_sample_id')"
   ]
  },
  {
   "cell_type": "code",
   "execution_count": 27,
   "id": "ce61601b-93a7-4036-b777-6c27ec76112f",
   "metadata": {
    "tags": []
   },
   "outputs": [],
   "source": [
    "df$combined_sample_id<-extracted_pattern"
   ]
  },
  {
   "cell_type": "code",
   "execution_count": 29,
   "id": "4949af84-1534-478d-b8a1-0282630052df",
   "metadata": {
    "tags": []
   },
   "outputs": [],
   "source": [
    "write.csv(df,'meta_data_GEO.csv')"
   ]
  },
  {
   "cell_type": "code",
   "execution_count": null,
   "id": "7e31df6c-3cd0-4215-b899-59e6af924283",
   "metadata": {},
   "outputs": [],
   "source": []
  }
 ],
 "metadata": {
  "kernelspec": {
   "display_name": "R 4",
   "language": "R",
   "name": "ir4"
  },
  "language_info": {
   "codemirror_mode": "r",
   "file_extension": ".r",
   "mimetype": "text/x-r-source",
   "name": "R",
   "pygments_lexer": "r",
   "version": "4.3.1"
  }
 },
 "nbformat": 4,
 "nbformat_minor": 5
}
