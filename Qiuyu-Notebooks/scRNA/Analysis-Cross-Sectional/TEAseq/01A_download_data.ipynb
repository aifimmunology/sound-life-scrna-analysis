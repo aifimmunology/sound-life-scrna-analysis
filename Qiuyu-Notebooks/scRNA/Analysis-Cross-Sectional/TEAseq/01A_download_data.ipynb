{
 "cells": [
  {
   "cell_type": "code",
   "execution_count": 29,
   "id": "240b7998-bc01-4016-9f67-2d4ee3f4b11f",
   "metadata": {
    "tags": []
   },
   "outputs": [],
   "source": [
    "# load libraries\n",
    "quiet_library <- function(...) {\n",
    "    suppressPackageStartupMessages(library(...))\n",
    "}\n",
    "quiet_library(Seurat)\n",
    "quiet_library(ggplot2)\n",
    "quiet_library(Matrix)\n",
    "quiet_library(H5weaver)\n",
    "quiet_library(dplyr)\n",
    "quiet_library(viridis)\n",
    "quiet_library(harmony)\n",
    "quiet_library(Nebulosa)\n",
    "library(GEOquery)"
   ]
  },
  {
   "cell_type": "code",
   "execution_count": 3,
   "id": "cd5e3b40-f956-4a54-8739-5b3cd1a2d630",
   "metadata": {
    "tags": []
   },
   "outputs": [],
   "source": [
    "# Read in ADT information\n",
    "adt_info_func <- function(path){\n",
    "  h5_list <- h5dump(path)\n",
    "  h5_list <- h5_list_convert_to_dgCMatrix(h5_list, target = 'ADT')\n",
    "  adt_mtx <- h5_list$ADT_dgCMatrix\n",
    "  adt_mtx\n",
    "}\n",
    "\n",
    "# Seurat RNA Pipeline\n",
    "seurat_proc_func <- function(x){\n",
    "  DefaultAssay(x) <- 'RNA'\n",
    "    # x <- NormalizeData(x) %>% FindVariableFeatures() %>% ScaleData() %>% RunPCA()\n",
    "  x <- suppressWarnings(SCTransform(x, verbose = T))\n",
    "  x <- RunPCA(x, verbose = T)\n",
    "  x <- RunUMAP(x, dims = 1:30, verbose = T) %>% FindNeighbors(dims = 1:30, verbose = T) %>% FindClusters(resolution = 0.5, verbose = T)\n",
    "  x\n",
    "}\n",
    "\n",
    "# Seurat RNA Label transfer\n",
    "label_transfer_func <- function(reference, query){\n",
    "  anchors <- FindTransferAnchors(\n",
    "    reference = reference,\n",
    "    query = query,\n",
    "    normalization.method = \"SCT\",\n",
    "    reference.reduction = \"spca\",\n",
    "    dims = 1:50\n",
    "  )\n",
    "  query <- TransferData(anchorset = anchors, reference = reference, query = query,\n",
    "                    refdata = list(\n",
    "                      celltype.l1 = \"celltype.l1\",\n",
    "                      celltype.l2 = \"celltype.l2\",\n",
    "                      celltype.l3 = \"celltype.l3\",\n",
    "                      predicted_ADT = 'ADT'))\n",
    "  query\n",
    "}\n",
    "\n",
    "label_transfer_func_alt <- function(reference, query){\n",
    "  anchors <- FindTransferAnchors(\n",
    "    reference = reference,\n",
    "    query = query,\n",
    "    normalization.method = \"SCT\",\n",
    "    reference.reduction = \"spca\",\n",
    "    dims = 1:50, recompute.residuals = FALSE\n",
    "  )\n",
    "  query <- TransferData(anchorset = anchors, reference = reference, query = query,\n",
    "                    refdata = list(\n",
    "                      celltype.l1 = \"celltype.l1\",\n",
    "                      celltype.l2 = \"celltype.l2\",\n",
    "                      celltype.l3 = \"celltype.l3\",\n",
    "                      predicted_ADT = 'ADT'))\n",
    "  query\n",
    "}"
   ]
  },
  {
   "cell_type": "code",
   "execution_count": 24,
   "id": "a767c6d3-a618-4879-a206-5f302a04358f",
   "metadata": {
    "tags": []
   },
   "outputs": [],
   "source": [
    "all_h5 <- list.files(path = '.', pattern = '*frag*', full.names = TRUE)\n",
    "all_h5<-all_h5[1:16]\n",
    "extracted_pattern <- sub(\".*/(.*?)_[^_]*$\", \"\\\\1\", all_h5)"
   ]
  },
  {
   "cell_type": "code",
   "execution_count": 25,
   "id": "a315afec-52bd-4860-88a7-4cfd98335cbf",
   "metadata": {
    "tags": []
   },
   "outputs": [],
   "source": [
    "split_list <- strsplit(extracted_pattern, \"_\", fixed = TRUE)\n",
    "split_df <- do.call(rbind, sapply(split_list, function(x) as.data.frame(t(x)), simplify = FALSE))\n",
    "df <- as.data.frame(split_df, stringsAsFactors = FALSE)"
   ]
  },
  {
   "cell_type": "code",
   "execution_count": 26,
   "id": "89f3d065-9367-4046-86a5-88074f3479dc",
   "metadata": {
    "tags": []
   },
   "outputs": [],
   "source": [
    "colnames(df)<-c('GEO_Accession','Batch','pbmc_sample_id')"
   ]
  },
  {
   "cell_type": "code",
   "execution_count": 27,
   "id": "ce61601b-93a7-4036-b777-6c27ec76112f",
   "metadata": {
    "tags": []
   },
   "outputs": [],
   "source": [
    "df$combined_sample_id<-extracted_pattern"
   ]
  },
  {
   "cell_type": "code",
   "execution_count": 29,
   "id": "4949af84-1534-478d-b8a1-0282630052df",
   "metadata": {
    "tags": []
   },
   "outputs": [],
   "source": [
    "write.csv(df,'meta_data_GEO.csv')"
   ]
  },
  {
   "cell_type": "code",
   "execution_count": 24,
   "id": "d1897850-b5ba-41df-b818-96a5626d51f7",
   "metadata": {
    "tags": []
   },
   "outputs": [],
   "source": [
    "df<-read.csv('meta_data_GEO.csv')"
   ]
  },
  {
   "cell_type": "code",
   "execution_count": 28,
   "id": "87e2a190-7315-4385-a521-c8cc4324eee5",
   "metadata": {
    "tags": []
   },
   "outputs": [
    {
     "data": {
      "text/html": [
       "<table class=\"dataframe\">\n",
       "<caption>A data.frame: 6 × 5</caption>\n",
       "<thead>\n",
       "\t<tr><th></th><th scope=col>X</th><th scope=col>GEO_Accession</th><th scope=col>Batch</th><th scope=col>pbmc_sample_id</th><th scope=col>combined_sample_id</th></tr>\n",
       "\t<tr><th></th><th scope=col>&lt;int&gt;</th><th scope=col>&lt;chr&gt;</th><th scope=col>&lt;chr&gt;</th><th scope=col>&lt;chr&gt;</th><th scope=col>&lt;chr&gt;</th></tr>\n",
       "</thead>\n",
       "<tbody>\n",
       "\t<tr><th scope=row>1</th><td>1</td><td>GSM6611363</td><td>B065-P1</td><td>PB00593-04</td><td>GSM6611363_B065-P1_PB00593-04</td></tr>\n",
       "\t<tr><th scope=row>2</th><td>2</td><td>GSM6611364</td><td>B069-P1</td><td>PB00323-02</td><td>GSM6611364_B069-P1_PB00323-02</td></tr>\n",
       "\t<tr><th scope=row>3</th><td>3</td><td>GSM6611365</td><td>B076-P1</td><td>PB00368-04</td><td>GSM6611365_B076-P1_PB00368-04</td></tr>\n",
       "\t<tr><th scope=row>4</th><td>4</td><td>GSM6611366</td><td>B076-P1</td><td>PB00353-03</td><td>GSM6611366_B076-P1_PB00353-03</td></tr>\n",
       "\t<tr><th scope=row>5</th><td>5</td><td>GSM6611367</td><td>B076-P1</td><td>PB00334-03</td><td>GSM6611367_B076-P1_PB00334-03</td></tr>\n",
       "\t<tr><th scope=row>6</th><td>6</td><td>GSM6611368</td><td>B076-P1</td><td>PB00377-03</td><td>GSM6611368_B076-P1_PB00377-03</td></tr>\n",
       "</tbody>\n",
       "</table>\n"
      ],
      "text/latex": [
       "A data.frame: 6 × 5\n",
       "\\begin{tabular}{r|lllll}\n",
       "  & X & GEO\\_Accession & Batch & pbmc\\_sample\\_id & combined\\_sample\\_id\\\\\n",
       "  & <int> & <chr> & <chr> & <chr> & <chr>\\\\\n",
       "\\hline\n",
       "\t1 & 1 & GSM6611363 & B065-P1 & PB00593-04 & GSM6611363\\_B065-P1\\_PB00593-04\\\\\n",
       "\t2 & 2 & GSM6611364 & B069-P1 & PB00323-02 & GSM6611364\\_B069-P1\\_PB00323-02\\\\\n",
       "\t3 & 3 & GSM6611365 & B076-P1 & PB00368-04 & GSM6611365\\_B076-P1\\_PB00368-04\\\\\n",
       "\t4 & 4 & GSM6611366 & B076-P1 & PB00353-03 & GSM6611366\\_B076-P1\\_PB00353-03\\\\\n",
       "\t5 & 5 & GSM6611367 & B076-P1 & PB00334-03 & GSM6611367\\_B076-P1\\_PB00334-03\\\\\n",
       "\t6 & 6 & GSM6611368 & B076-P1 & PB00377-03 & GSM6611368\\_B076-P1\\_PB00377-03\\\\\n",
       "\\end{tabular}\n"
      ],
      "text/markdown": [
       "\n",
       "A data.frame: 6 × 5\n",
       "\n",
       "| <!--/--> | X &lt;int&gt; | GEO_Accession &lt;chr&gt; | Batch &lt;chr&gt; | pbmc_sample_id &lt;chr&gt; | combined_sample_id &lt;chr&gt; |\n",
       "|---|---|---|---|---|---|\n",
       "| 1 | 1 | GSM6611363 | B065-P1 | PB00593-04 | GSM6611363_B065-P1_PB00593-04 |\n",
       "| 2 | 2 | GSM6611364 | B069-P1 | PB00323-02 | GSM6611364_B069-P1_PB00323-02 |\n",
       "| 3 | 3 | GSM6611365 | B076-P1 | PB00368-04 | GSM6611365_B076-P1_PB00368-04 |\n",
       "| 4 | 4 | GSM6611366 | B076-P1 | PB00353-03 | GSM6611366_B076-P1_PB00353-03 |\n",
       "| 5 | 5 | GSM6611367 | B076-P1 | PB00334-03 | GSM6611367_B076-P1_PB00334-03 |\n",
       "| 6 | 6 | GSM6611368 | B076-P1 | PB00377-03 | GSM6611368_B076-P1_PB00377-03 |\n",
       "\n"
      ],
      "text/plain": [
       "  X GEO_Accession Batch   pbmc_sample_id combined_sample_id           \n",
       "1 1 GSM6611363    B065-P1 PB00593-04     GSM6611363_B065-P1_PB00593-04\n",
       "2 2 GSM6611364    B069-P1 PB00323-02     GSM6611364_B069-P1_PB00323-02\n",
       "3 3 GSM6611365    B076-P1 PB00368-04     GSM6611365_B076-P1_PB00368-04\n",
       "4 4 GSM6611366    B076-P1 PB00353-03     GSM6611366_B076-P1_PB00353-03\n",
       "5 5 GSM6611367    B076-P1 PB00334-03     GSM6611367_B076-P1_PB00334-03\n",
       "6 6 GSM6611368    B076-P1 PB00377-03     GSM6611368_B076-P1_PB00377-03"
      ]
     },
     "metadata": {},
     "output_type": "display_data"
    }
   ],
   "source": [
    "head(df)"
   ]
  },
  {
   "cell_type": "code",
   "execution_count": 2,
   "id": "d7c81797-f92d-4647-b8e0-9e280768a46e",
   "metadata": {
    "tags": []
   },
   "outputs": [
    {
     "name": "stderr",
     "output_type": "stream",
     "text": [
      "Found 1 file(s)\n",
      "\n",
      "GSE214546_series_matrix.txt.gz\n",
      "\n"
     ]
    }
   ],
   "source": [
    "eList <- getGEO(\"GSE214546\")"
   ]
  },
  {
   "cell_type": "code",
   "execution_count": 27,
   "id": "37b00f27-535f-4a9b-96d0-853f8ddd559a",
   "metadata": {
    "tags": []
   },
   "outputs": [
    {
     "data": {
      "text/html": [
       "<style>\n",
       ".list-inline {list-style: none; margin:0; padding: 0}\n",
       ".list-inline>li {display: inline-block}\n",
       ".list-inline>li:not(:last-child)::after {content: \"\\00b7\"; padding: 0 .5ex}\n",
       "</style>\n",
       "<ol class=list-inline><li>'title'</li><li>'geo_accession'</li><li>'status'</li><li>'submission_date'</li><li>'last_update_date'</li><li>'type'</li><li>'channel_count'</li><li>'source_name_ch1'</li><li>'organism_ch1'</li><li>'characteristics_ch1'</li><li>'characteristics_ch1.1'</li><li>'characteristics_ch1.2'</li><li>'characteristics_ch1.3'</li><li>'characteristics_ch1.4'</li><li>'characteristics_ch1.5'</li><li>'characteristics_ch1.6'</li><li>'molecule_ch1'</li><li>'extract_protocol_ch1'</li><li>'extract_protocol_ch1.1'</li><li>'extract_protocol_ch1.2'</li><li>'extract_protocol_ch1.3'</li><li>'taxid_ch1'</li><li>'data_processing'</li><li>'data_processing.1'</li><li>'data_processing.2'</li><li>'data_processing.3'</li><li>'data_processing.4'</li><li>'data_processing.5'</li><li>'platform_id'</li><li>'contact_name'</li><li>'contact_email'</li><li>'contact_phone'</li><li>'contact_institute'</li><li>'contact_address'</li><li>'contact_city'</li><li>'contact_state'</li><li>'contact_zip.postal_code'</li><li>'contact_country'</li><li>'data_row_count'</li><li>'instrument_model'</li><li>'library_selection'</li><li>'library_source'</li><li>'library_strategy'</li><li>'supplementary_file_1'</li><li>'supplementary_file_2'</li><li>'supplementary_file_3'</li><li>'age.ch1'</li><li>'birth.year.ch1'</li><li>'cell.type.ch1'</li><li>'library.type.ch1'</li><li>'race.ch1'</li><li>'Sex.ch1'</li><li>'subject_id.ch1'</li></ol>\n"
      ],
      "text/latex": [
       "\\begin{enumerate*}\n",
       "\\item 'title'\n",
       "\\item 'geo\\_accession'\n",
       "\\item 'status'\n",
       "\\item 'submission\\_date'\n",
       "\\item 'last\\_update\\_date'\n",
       "\\item 'type'\n",
       "\\item 'channel\\_count'\n",
       "\\item 'source\\_name\\_ch1'\n",
       "\\item 'organism\\_ch1'\n",
       "\\item 'characteristics\\_ch1'\n",
       "\\item 'characteristics\\_ch1.1'\n",
       "\\item 'characteristics\\_ch1.2'\n",
       "\\item 'characteristics\\_ch1.3'\n",
       "\\item 'characteristics\\_ch1.4'\n",
       "\\item 'characteristics\\_ch1.5'\n",
       "\\item 'characteristics\\_ch1.6'\n",
       "\\item 'molecule\\_ch1'\n",
       "\\item 'extract\\_protocol\\_ch1'\n",
       "\\item 'extract\\_protocol\\_ch1.1'\n",
       "\\item 'extract\\_protocol\\_ch1.2'\n",
       "\\item 'extract\\_protocol\\_ch1.3'\n",
       "\\item 'taxid\\_ch1'\n",
       "\\item 'data\\_processing'\n",
       "\\item 'data\\_processing.1'\n",
       "\\item 'data\\_processing.2'\n",
       "\\item 'data\\_processing.3'\n",
       "\\item 'data\\_processing.4'\n",
       "\\item 'data\\_processing.5'\n",
       "\\item 'platform\\_id'\n",
       "\\item 'contact\\_name'\n",
       "\\item 'contact\\_email'\n",
       "\\item 'contact\\_phone'\n",
       "\\item 'contact\\_institute'\n",
       "\\item 'contact\\_address'\n",
       "\\item 'contact\\_city'\n",
       "\\item 'contact\\_state'\n",
       "\\item 'contact\\_zip.postal\\_code'\n",
       "\\item 'contact\\_country'\n",
       "\\item 'data\\_row\\_count'\n",
       "\\item 'instrument\\_model'\n",
       "\\item 'library\\_selection'\n",
       "\\item 'library\\_source'\n",
       "\\item 'library\\_strategy'\n",
       "\\item 'supplementary\\_file\\_1'\n",
       "\\item 'supplementary\\_file\\_2'\n",
       "\\item 'supplementary\\_file\\_3'\n",
       "\\item 'age.ch1'\n",
       "\\item 'birth.year.ch1'\n",
       "\\item 'cell.type.ch1'\n",
       "\\item 'library.type.ch1'\n",
       "\\item 'race.ch1'\n",
       "\\item 'Sex.ch1'\n",
       "\\item 'subject\\_id.ch1'\n",
       "\\end{enumerate*}\n"
      ],
      "text/markdown": [
       "1. 'title'\n",
       "2. 'geo_accession'\n",
       "3. 'status'\n",
       "4. 'submission_date'\n",
       "5. 'last_update_date'\n",
       "6. 'type'\n",
       "7. 'channel_count'\n",
       "8. 'source_name_ch1'\n",
       "9. 'organism_ch1'\n",
       "10. 'characteristics_ch1'\n",
       "11. 'characteristics_ch1.1'\n",
       "12. 'characteristics_ch1.2'\n",
       "13. 'characteristics_ch1.3'\n",
       "14. 'characteristics_ch1.4'\n",
       "15. 'characteristics_ch1.5'\n",
       "16. 'characteristics_ch1.6'\n",
       "17. 'molecule_ch1'\n",
       "18. 'extract_protocol_ch1'\n",
       "19. 'extract_protocol_ch1.1'\n",
       "20. 'extract_protocol_ch1.2'\n",
       "21. 'extract_protocol_ch1.3'\n",
       "22. 'taxid_ch1'\n",
       "23. 'data_processing'\n",
       "24. 'data_processing.1'\n",
       "25. 'data_processing.2'\n",
       "26. 'data_processing.3'\n",
       "27. 'data_processing.4'\n",
       "28. 'data_processing.5'\n",
       "29. 'platform_id'\n",
       "30. 'contact_name'\n",
       "31. 'contact_email'\n",
       "32. 'contact_phone'\n",
       "33. 'contact_institute'\n",
       "34. 'contact_address'\n",
       "35. 'contact_city'\n",
       "36. 'contact_state'\n",
       "37. 'contact_zip.postal_code'\n",
       "38. 'contact_country'\n",
       "39. 'data_row_count'\n",
       "40. 'instrument_model'\n",
       "41. 'library_selection'\n",
       "42. 'library_source'\n",
       "43. 'library_strategy'\n",
       "44. 'supplementary_file_1'\n",
       "45. 'supplementary_file_2'\n",
       "46. 'supplementary_file_3'\n",
       "47. 'age.ch1'\n",
       "48. 'birth.year.ch1'\n",
       "49. 'cell.type.ch1'\n",
       "50. 'library.type.ch1'\n",
       "51. 'race.ch1'\n",
       "52. 'Sex.ch1'\n",
       "53. 'subject_id.ch1'\n",
       "\n",
       "\n"
      ],
      "text/plain": [
       " [1] \"title\"                   \"geo_accession\"          \n",
       " [3] \"status\"                  \"submission_date\"        \n",
       " [5] \"last_update_date\"        \"type\"                   \n",
       " [7] \"channel_count\"           \"source_name_ch1\"        \n",
       " [9] \"organism_ch1\"            \"characteristics_ch1\"    \n",
       "[11] \"characteristics_ch1.1\"   \"characteristics_ch1.2\"  \n",
       "[13] \"characteristics_ch1.3\"   \"characteristics_ch1.4\"  \n",
       "[15] \"characteristics_ch1.5\"   \"characteristics_ch1.6\"  \n",
       "[17] \"molecule_ch1\"            \"extract_protocol_ch1\"   \n",
       "[19] \"extract_protocol_ch1.1\"  \"extract_protocol_ch1.2\" \n",
       "[21] \"extract_protocol_ch1.3\"  \"taxid_ch1\"              \n",
       "[23] \"data_processing\"         \"data_processing.1\"      \n",
       "[25] \"data_processing.2\"       \"data_processing.3\"      \n",
       "[27] \"data_processing.4\"       \"data_processing.5\"      \n",
       "[29] \"platform_id\"             \"contact_name\"           \n",
       "[31] \"contact_email\"           \"contact_phone\"          \n",
       "[33] \"contact_institute\"       \"contact_address\"        \n",
       "[35] \"contact_city\"            \"contact_state\"          \n",
       "[37] \"contact_zip.postal_code\" \"contact_country\"        \n",
       "[39] \"data_row_count\"          \"instrument_model\"       \n",
       "[41] \"library_selection\"       \"library_source\"         \n",
       "[43] \"library_strategy\"        \"supplementary_file_1\"   \n",
       "[45] \"supplementary_file_2\"    \"supplementary_file_3\"   \n",
       "[47] \"age.ch1\"                 \"birth.year.ch1\"         \n",
       "[49] \"cell.type.ch1\"           \"library.type.ch1\"       \n",
       "[51] \"race.ch1\"                \"Sex.ch1\"                \n",
       "[53] \"subject_id.ch1\"         "
      ]
     },
     "metadata": {},
     "output_type": "display_data"
    }
   ],
   "source": [
    "df_meta<-as.data.frame(eList$GSE214546_series_matrix.txt.gz) %>% arrange(geo_accession)\n",
    "colnames(df_meta)"
   ]
  },
  {
   "cell_type": "code",
   "execution_count": 31,
   "id": "f0364fd9-f69b-4d04-a2e8-d6d46c4fd2d2",
   "metadata": {
    "tags": []
   },
   "outputs": [],
   "source": [
    "df_meta<-df_meta[c('geo_accession','age.ch1','birth.year.ch1','cell.type.ch1','library.type.ch1','race.ch1','Sex.ch1','subject_id.ch1')]"
   ]
  },
  {
   "cell_type": "code",
   "execution_count": 32,
   "id": "e77f5c4b-0da4-4f83-96dc-cf167bc71bf1",
   "metadata": {
    "tags": []
   },
   "outputs": [],
   "source": [
    "colnames(df_meta)[1]<-'GEO_Accession'"
   ]
  },
  {
   "cell_type": "code",
   "execution_count": 34,
   "id": "ab299f71-7346-4117-9a92-25e7decad154",
   "metadata": {
    "tags": []
   },
   "outputs": [
    {
     "name": "stderr",
     "output_type": "stream",
     "text": [
      "\u001b[1m\u001b[22mJoining with `by = join_by(GEO_Accession)`\n"
     ]
    }
   ],
   "source": [
    "df<-left_join(df,df_meta)"
   ]
  },
  {
   "cell_type": "code",
   "execution_count": 35,
   "id": "dec3a453-e101-49b7-9136-7c4df87285c2",
   "metadata": {
    "tags": []
   },
   "outputs": [],
   "source": [
    "write.csv(df,'meta_data_GEO.csv')"
   ]
  },
  {
   "cell_type": "code",
   "execution_count": null,
   "id": "0aef9e99-c6d5-4791-af5c-ad7e4a564ae6",
   "metadata": {},
   "outputs": [],
   "source": []
  }
 ],
 "metadata": {
  "kernelspec": {
   "display_name": "R 4",
   "language": "R",
   "name": "ir4"
  },
  "language_info": {
   "codemirror_mode": "r",
   "file_extension": ".r",
   "mimetype": "text/x-r-source",
   "name": "R",
   "pygments_lexer": "r",
   "version": "4.3.1"
  }
 },
 "nbformat": 4,
 "nbformat_minor": 5
}
