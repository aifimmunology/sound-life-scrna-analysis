{
 "cells": [
  {
   "cell_type": "code",
   "execution_count": 19,
   "id": "39896cfd-b37e-49a1-99e2-c444abee533d",
   "metadata": {
    "tags": []
   },
   "outputs": [
    {
     "name": "stderr",
     "output_type": "stream",
     "text": [
      "📂 Storing models in /root/.celltypist/data/models\n",
      "⏩ Skipping [1/44]: Immune_All_Low.pkl (file exists)\n",
      "⏩ Skipping [2/44]: Immune_All_High.pkl (file exists)\n",
      "⏩ Skipping [3/44]: Adult_CynomolgusMacaque_Hippocampus.pkl (file exists)\n",
      "⏩ Skipping [4/44]: Adult_Human_PancreaticIslet.pkl (file exists)\n",
      "⏩ Skipping [5/44]: Adult_Human_Skin.pkl (file exists)\n",
      "⏩ Skipping [6/44]: Adult_Mouse_Gut.pkl (file exists)\n",
      "⏩ Skipping [7/44]: Adult_Mouse_OlfactoryBulb.pkl (file exists)\n",
      "⏩ Skipping [8/44]: Adult_Pig_Hippocampus.pkl (file exists)\n",
      "⏩ Skipping [9/44]: Adult_RhesusMacaque_Hippocampus.pkl (file exists)\n",
      "⏩ Skipping [10/44]: Autopsy_COVID19_Lung.pkl (file exists)\n",
      "⏩ Skipping [11/44]: COVID19_HumanChallenge_Blood.pkl (file exists)\n",
      "⏩ Skipping [12/44]: COVID19_Immune_Landscape.pkl (file exists)\n",
      "⏩ Skipping [13/44]: Cells_Fetal_Lung.pkl (file exists)\n",
      "⏩ Skipping [14/44]: Cells_Intestinal_Tract.pkl (file exists)\n",
      "⏩ Skipping [15/44]: Cells_Lung_Airway.pkl (file exists)\n",
      "⏩ Skipping [16/44]: Developing_Human_Brain.pkl (file exists)\n",
      "⏩ Skipping [17/44]: Developing_Human_Gonads.pkl (file exists)\n",
      "⏩ Skipping [18/44]: Developing_Human_Hippocampus.pkl (file exists)\n",
      "⏩ Skipping [19/44]: Developing_Human_Organs.pkl (file exists)\n",
      "⏩ Skipping [20/44]: Developing_Human_Thymus.pkl (file exists)\n",
      "⏩ Skipping [21/44]: Developing_Mouse_Brain.pkl (file exists)\n",
      "⏩ Skipping [22/44]: Developing_Mouse_Hippocampus.pkl (file exists)\n",
      "⏩ Skipping [23/44]: Fetal_Human_AdrenalGlands.pkl (file exists)\n",
      "⏩ Skipping [24/44]: Fetal_Human_Pancreas.pkl (file exists)\n",
      "⏩ Skipping [25/44]: Fetal_Human_Pituitary.pkl (file exists)\n",
      "⏩ Skipping [26/44]: Fetal_Human_Retina.pkl (file exists)\n",
      "⏩ Skipping [27/44]: Fetal_Human_Skin.pkl (file exists)\n",
      "⏩ Skipping [28/44]: Healthy_Adult_Heart.pkl (file exists)\n",
      "⏩ Skipping [29/44]: Healthy_COVID19_PBMC.pkl (file exists)\n",
      "⏩ Skipping [30/44]: Healthy_Human_Liver.pkl (file exists)\n",
      "⏩ Skipping [31/44]: Healthy_Mouse_Liver.pkl (file exists)\n",
      "⏩ Skipping [32/44]: Human_AdultAged_Hippocampus.pkl (file exists)\n",
      "⏩ Skipping [33/44]: Human_Developmental_Retina.pkl (file exists)\n",
      "⏩ Skipping [34/44]: Human_Embryonic_YolkSac.pkl (file exists)\n",
      "⏩ Skipping [35/44]: Human_IPF_Lung.pkl (file exists)\n",
      "⏩ Skipping [36/44]: Human_Longitudinal_Hippocampus.pkl (file exists)\n",
      "⏩ Skipping [37/44]: Human_Lung_Atlas.pkl (file exists)\n",
      "⏩ Skipping [38/44]: Human_PF_Lung.pkl (file exists)\n",
      "⏩ Skipping [39/44]: Lethal_COVID19_Lung.pkl (file exists)\n",
      "⏩ Skipping [40/44]: Mouse_Dentate_Gyrus.pkl (file exists)\n",
      "⏩ Skipping [41/44]: Mouse_Isocortex_Hippocampus.pkl (file exists)\n",
      "⏩ Skipping [42/44]: Mouse_Postnatal_DentateGyrus.pkl (file exists)\n",
      "⏩ Skipping [43/44]: Nuclei_Lung_Airway.pkl (file exists)\n",
      "⏩ Skipping [44/44]: Pan_Fetal_Human.pkl (file exists)\n"
     ]
    }
   ],
   "source": [
    "import sys\n",
    "import os\n",
    "import matplotlib.pyplot as plt\n",
    "import numpy as np\n",
    "import pandas as pd\n",
    "import scanpy as sc\n",
    "import celltypist\n",
    "import gc\n",
    "import anndata\n",
    "from celltypist import models\n",
    "import h5py\n",
    "import scipy.sparse as scs\n",
    "from multiprocessing import Pool\n",
    "import glob\n",
    "models.download_models()"
   ]
  },
  {
   "cell_type": "code",
   "execution_count": 6,
   "id": "0804610f-a044-4a1f-ae78-5fc8253bd7df",
   "metadata": {
    "tags": []
   },
   "outputs": [],
   "source": [
    "def read_mat(h5_con):\n",
    "    mat = scs.csc_matrix(\n",
    "        (h5_con['matrix']['data'][:], # Count values\n",
    "         h5_con['matrix']['indices'][:], # Row indices\n",
    "         h5_con['matrix']['indptr'][:]), # Pointers for column positions\n",
    "        shape = tuple(h5_con['matrix']['shape'][:]) # Matrix dimensions\n",
    "    )\n",
    "    return mat\n",
    "\n",
    "# define a function to obeservation (i.e. metadata)\n",
    "\n",
    "def read_obs(h5con):\n",
    "    bc = h5con['matrix']['barcodes'][:]\n",
    "    bc = [x.decode('UTF-8') for x in bc]\n",
    "\n",
    "    # Initialized the DataFrame with cell barcodes\n",
    "    obs_df = pd.DataFrame({ 'barcodes' : bc })\n",
    "\n",
    "    # Get the list of available metadata columns\n",
    "    obs_columns = h5con['matrix']['observations'].keys()\n",
    "\n",
    "    # For each column\n",
    "    for col in obs_columns:\n",
    "        # Read the values\n",
    "        values = h5con['matrix']['observations'][col][:]\n",
    "        # Check for byte storage\n",
    "        if(isinstance(values[0], (bytes, bytearray))):\n",
    "            # Decode byte strings\n",
    "            values = [x.decode('UTF-8') for x in values]\n",
    "        # Add column to the DataFrame\n",
    "        obs_df[col] = values\n",
    "    \n",
    "    return obs_df\n",
    "# define a function to construct anndata object from a h5 file\n",
    "def read_h5_anndata(h5_file):\n",
    "    h5_con = h5py.File(h5_file, mode = 'r')\n",
    "    # extract the expression matrix\n",
    "    mat = read_mat(h5_con)\n",
    "    # extract gene names\n",
    "    genes = h5_con['matrix']['features']['name'][:]\n",
    "    genes = [x.decode('UTF-8') for x in genes]\n",
    "    # extract metadata\n",
    "    obs_df = read_obs(h5_con)\n",
    "    # construct anndata\n",
    "    adata = anndata.AnnData(mat.T,\n",
    "                             obs = obs_df)\n",
    "    # make sure the gene names aligned\n",
    "    adata.var_names = genes\n",
    "\n",
    "    adata.var_names_make_unique()\n",
    "    return adata"
   ]
  },
  {
   "cell_type": "code",
   "execution_count": 7,
   "id": "bc28e542-f370-4c47-8fa0-ce39973704ac",
   "metadata": {
    "tags": []
   },
   "outputs": [],
   "source": [
    "def process_and_annotate_pbmc(args):\n",
    "    # Read data\n",
    "    data_file, model_base_path, output_base_path = args\n",
    "    pbmc = read_h5_anndata(data_file)\n",
    "    \n",
    "    # Processing testing data\n",
    "    pbmc_sample_id = pbmc.obs['pbmc_sample_id'].unique().tolist()[0]\n",
    "    pbmc.obs.index = pbmc.obs['barcodes']\n",
    "    \n",
    "    # Normalization and log transformation\n",
    "    sc.pp.normalize_total(pbmc, target_sum=1e4)\n",
    "    sc.pp.log1p(pbmc)\n",
    "    \n",
    "    # Annotations\n",
    "    levels = ['L1', 'L2', 'L3', 'L3.5']\n",
    "    models = {'L1': 'ovr', 'L2': 'ovr', 'L3': 'multinomial', 'L3.5': 'multinomial'}\n",
    "    predictions = {}\n",
    "\n",
    "    for level, model_type in models.items():\n",
    "        model_file = f'{model_base_path}/model_AIFI_{level}_{model_type}.pkl'\n",
    "        predictions[level] = celltypist.annotate(pbmc, model=model_file)\n",
    "\n",
    "        # Write out labels\n",
    "        predictions[level].predicted_labels.reset_index().to_csv(f'{output_base_path}/{pbmc_sample_id}_{level}_predicted_labels.csv')\n",
    "        # Write out probability matrix\n",
    "        predictions[level].probability_matrix.reset_index().to_parquet(f'{output_base_path}/{pbmc_sample_id}_{level}_probability_matrix.parquet')\n",
    "        # Write out decision matrix\n",
    "        predictions[level].decision_matrix.reset_index().to_parquet(f'{output_base_path}/{pbmc_sample_id}_{level}_decision_matrix.parquet')"
   ]
  },
  {
   "cell_type": "code",
   "execution_count": 24,
   "id": "6618ef12-3d88-41ad-a055-9128e435614b",
   "metadata": {
    "tags": []
   },
   "outputs": [],
   "source": [
    "def process_and_annotate_pbmc(args):\n",
    "    # Read data\n",
    "    data_file, model_base_path, output_base_path = args\n",
    "    pbmc = read_h5_anndata(data_file)\n",
    "    \n",
    "    # Processing testing data\n",
    "    pbmc_sample_id = pbmc.obs['pbmc_sample_id'].unique().tolist()[0]\n",
    "    pbmc.obs.index = pbmc.obs['barcodes']\n",
    "    \n",
    "    # Normalization and log transformation\n",
    "    sc.pp.normalize_total(pbmc, target_sum=1e4)\n",
    "    sc.pp.log1p(pbmc)\n",
    "    \n",
    "    # Annotations\n",
    "    levels = ['L1', 'L2', 'L3']\n",
    "    models = {'L1': 'ovr', 'L2': 'ovr', 'L3': 'multinomial'}\n",
    "    predictions = {}\n",
    "\n",
    "    for level, model_type in models.items():\n",
    "        model_file = f'{model_base_path}/ref_pbmc_clean_celltypist_model_{level}_{{}}.pkl'\n",
    "        model_file = model_file.format('*')\n",
    "        model_file = glob.glob(model_file)\n",
    "        print(model_file)\n",
    "\n",
    "        predictions[level] = celltypist.annotate(pbmc, model=model_file)\n",
    "\n",
    "        # Write out labels\n",
    "        predictions[level].predicted_labels.reset_index().to_csv(f'{output_base_path}/{pbmc_sample_id}_{level}_predicted_labels.csv')\n",
    "        # Write out probability matrix\n",
    "        predictions[level].probability_matrix.reset_index().to_parquet(f'{output_base_path}/{pbmc_sample_id}_{level}_probability_matrix.parquet')\n",
    "        # Write out decision matrix\n",
    "        predictions[level].decision_matrix.reset_index().to_parquet(f'{output_base_path}/{pbmc_sample_id}_{level}_decision_matrix.parquet')"
   ]
  },
  {
   "cell_type": "code",
   "execution_count": 9,
   "id": "cc6585e0-f141-4578-9180-d6d807b14109",
   "metadata": {
    "tags": []
   },
   "outputs": [],
   "source": [
    "def process_file(file_name):\n",
    "    result = read_h5_anndata(file_name)\n",
    "    output_file = 'Doublet_Scores/' + result.obs['pbmc_sample_id'][0] + '.csv'\n",
    "    if os.path.exists(output_file) and os.path.getsize(output_file) > 0:\n",
    "        print(f\"File {output_file} already exists and is not empty. Skipping processing.\")\n",
    "        return\n",
    "    sc.external.pp.scrublet(result)\n",
    "    result.obs[['barcodes', 'predicted_doublet', 'doublet_score']].to_csv(output_file)"
   ]
  },
  {
   "cell_type": "markdown",
   "id": "191ef3d4-96fc-4a49-85fa-f0db177364de",
   "metadata": {},
   "source": [
    "# Labels"
   ]
  },
  {
   "cell_type": "code",
   "execution_count": 17,
   "id": "d1baccd3-fa39-4a58-9b48-7075cb77706d",
   "metadata": {
    "tags": []
   },
   "outputs": [],
   "source": [
    "meta_data=pd.read_csv('meta_data_GEO.csv')"
   ]
  },
  {
   "cell_type": "code",
   "execution_count": null,
   "id": "a54fc4f7-69b8-4b11-b6d7-cf0ec8bdc91e",
   "metadata": {
    "tags": []
   },
   "outputs": [
    {
     "name": "stdout",
     "output_type": "stream",
     "text": [
      "['L1', 'L2', 'L3']\n",
      "['L1', 'L2', 'L3']\n"
     ]
    },
    {
     "name": "stderr",
     "output_type": "stream",
     "text": [
      "🔬 Input data has 11559 cells and 36601 genes\n",
      "🔗 Matching reference genes in the model\n"
     ]
    },
    {
     "name": "stdout",
     "output_type": "stream",
     "text": [
      "['L1', 'L2', 'L3']\n"
     ]
    },
    {
     "name": "stderr",
     "output_type": "stream",
     "text": [
      "🔬 Input data has 9885 cells and 36601 genes\n",
      "🔗 Matching reference genes in the model\n",
      "🔬 Input data has 12795 cells and 36601 genes\n",
      "🔗 Matching reference genes in the model\n"
     ]
    },
    {
     "name": "stdout",
     "output_type": "stream",
     "text": [
      "['L1', 'L2', 'L3']\n",
      "['L1', 'L2', 'L3']\n"
     ]
    },
    {
     "name": "stderr",
     "output_type": "stream",
     "text": [
      "🔬 Input data has 13723 cells and 36601 genes\n",
      "🔗 Matching reference genes in the model\n"
     ]
    },
    {
     "name": "stdout",
     "output_type": "stream",
     "text": [
      "['L1', 'L2', 'L3']\n"
     ]
    },
    {
     "name": "stderr",
     "output_type": "stream",
     "text": [
      "🔬 Input data has 13490 cells and 36601 genes\n",
      "🔗 Matching reference genes in the model\n"
     ]
    },
    {
     "name": "stdout",
     "output_type": "stream",
     "text": [
      "['L1', 'L2', 'L3']\n"
     ]
    },
    {
     "name": "stderr",
     "output_type": "stream",
     "text": [
      "🔬 Input data has 13236 cells and 36601 genes\n",
      "🔗 Matching reference genes in the model\n"
     ]
    },
    {
     "name": "stdout",
     "output_type": "stream",
     "text": [
      "['L1', 'L2', 'L3']\n"
     ]
    },
    {
     "name": "stderr",
     "output_type": "stream",
     "text": [
      "🔬 Input data has 13729 cells and 36601 genes\n",
      "🔗 Matching reference genes in the model\n",
      "🔬 Input data has 15516 cells and 36601 genes\n",
      "🔗 Matching reference genes in the model\n"
     ]
    },
    {
     "name": "stdout",
     "output_type": "stream",
     "text": [
      "['L1', 'L2', 'L3']\n"
     ]
    },
    {
     "name": "stderr",
     "output_type": "stream",
     "text": [
      "🔬 Input data has 27387 cells and 36601 genes\n",
      "🔗 Matching reference genes in the model\n"
     ]
    },
    {
     "name": "stdout",
     "output_type": "stream",
     "text": [
      "['L1', 'L2', 'L3']\n"
     ]
    },
    {
     "name": "stderr",
     "output_type": "stream",
     "text": [
      "🔬 Input data has 29859 cells and 36601 genes\n",
      "🔗 Matching reference genes in the model\n"
     ]
    },
    {
     "name": "stdout",
     "output_type": "stream",
     "text": [
      "['L1', 'L2', 'L3']\n",
      "['L1', 'L2', 'L3']\n"
     ]
    },
    {
     "name": "stderr",
     "output_type": "stream",
     "text": [
      "🔬 Input data has 30218 cells and 36601 genes\n",
      "🔗 Matching reference genes in the model\n"
     ]
    },
    {
     "name": "stdout",
     "output_type": "stream",
     "text": [
      "['L1', 'L2', 'L3']\n"
     ]
    },
    {
     "name": "stderr",
     "output_type": "stream",
     "text": [
      "🔬 Input data has 30597 cells and 36601 genes\n",
      "🔗 Matching reference genes in the model\n",
      "🔬 Input data has 30987 cells and 36601 genes\n",
      "🔗 Matching reference genes in the model\n"
     ]
    },
    {
     "name": "stdout",
     "output_type": "stream",
     "text": [
      "['L1', 'L2', 'L3']\n",
      "['L1', 'L2', 'L3']\n",
      "['L1', 'L2', 'L3']\n"
     ]
    },
    {
     "name": "stderr",
     "output_type": "stream",
     "text": [
      "🔬 Input data has 33629 cells and 36601 genes\n",
      "🔗 Matching reference genes in the model\n",
      "🔬 Input data has 32506 cells and 36601 genes\n",
      "🔗 Matching reference genes in the model\n",
      "🔬 Input data has 34052 cells and 36601 genes\n",
      "🔗 Matching reference genes in the model\n",
      "🧬 6147 features used for prediction\n",
      "⚖️ Scaling input data\n",
      "🧬 6147 features used for prediction\n",
      "⚖️ Scaling input data\n",
      "🧬 6147 features used for prediction\n",
      "⚖️ Scaling input data\n",
      "🧬 6147 features used for prediction\n",
      "⚖️ Scaling input data\n",
      "🧬 6147 features used for prediction\n",
      "⚖️ Scaling input data\n",
      "🧬 6147 features used for prediction\n",
      "🧬 6147 features used for prediction\n",
      "⚖️ Scaling input data\n",
      "⚖️ Scaling input data\n",
      "🧬 6147 features used for prediction\n",
      "⚖️ Scaling input data\n",
      "🖋️ Predicting labels\n",
      "🖋️ Predicting labels\n",
      "🧬 6147 features used for prediction\n",
      "⚖️ Scaling input data\n",
      "✅ Prediction done!\n",
      "🖋️ Predicting labels\n",
      "✅ Prediction done!\n",
      "🧬 6147 features used for prediction\n",
      "⚖️ Scaling input data\n",
      "🖋️ Predicting labels\n",
      "🧬 6147 features used for prediction\n",
      "⚖️ Scaling input data\n",
      "🧬 6147 features used for prediction\n",
      "🖋️ Predicting labels\n"
     ]
    },
    {
     "name": "stdout",
     "output_type": "stream",
     "text": [
      "['L1', 'L2', 'L3']"
     ]
    },
    {
     "name": "stderr",
     "output_type": "stream",
     "text": [
      "✅ Prediction done!\n",
      "🖋️ Predicting labels\n",
      "⚖️ Scaling input data\n"
     ]
    },
    {
     "name": "stdout",
     "output_type": "stream",
     "text": [
      "\n"
     ]
    },
    {
     "name": "stderr",
     "output_type": "stream",
     "text": [
      "🧬 6147 features used for prediction\n",
      "⚖️ Scaling input data\n",
      "🔬 Input data has 9885 cells and 36601 genes\n",
      "🔗 Matching reference genes in the model\n",
      "🧬 6147 features used for prediction\n",
      "⚖️ Scaling input data\n",
      "🖋️ Predicting labels\n",
      "✅ Prediction done!\n"
     ]
    },
    {
     "name": "stdout",
     "output_type": "stream",
     "text": [
      "['L1', 'L2', 'L3']\n"
     ]
    },
    {
     "name": "stderr",
     "output_type": "stream",
     "text": [
      "🔬 Input data has 11559 cells and 36601 genes\n",
      "🔗 Matching reference genes in the model\n",
      "🖋️ Predicting labels\n",
      "🧬 6147 features used for prediction\n",
      "⚖️ Scaling input data\n",
      "🧬 6147 features used for prediction\n",
      "✅ Prediction done!\n",
      "⚖️ Scaling input data\n",
      "✅ Prediction done!\n",
      "✅ Prediction done!\n"
     ]
    },
    {
     "name": "stdout",
     "output_type": "stream",
     "text": [
      "['L1', 'L2', 'L3']\n"
     ]
    },
    {
     "name": "stderr",
     "output_type": "stream",
     "text": [
      "🔬 Input data has 12795 cells and 36601 genes\n",
      "🔗 Matching reference genes in the model\n",
      "✅ Prediction done!\n"
     ]
    },
    {
     "name": "stdout",
     "output_type": "stream",
     "text": [
      "['L1', 'L2', 'L3']\n"
     ]
    },
    {
     "name": "stderr",
     "output_type": "stream",
     "text": [
      "🔬 Input data has 13490 cells and 36601 genes\n",
      "🔗 Matching reference genes in the model\n"
     ]
    },
    {
     "name": "stdout",
     "output_type": "stream",
     "text": [
      "['L1', 'L2', 'L3']\n"
     ]
    },
    {
     "name": "stderr",
     "output_type": "stream",
     "text": [
      "🔬 Input data has 13236 cells and 36601 genes\n",
      "🔗 Matching reference genes in the model\n"
     ]
    },
    {
     "name": "stdout",
     "output_type": "stream",
     "text": [
      "['L1', 'L2', 'L3']\n",
      "['L1', 'L2', 'L3']\n"
     ]
    },
    {
     "name": "stderr",
     "output_type": "stream",
     "text": [
      "🔬 Input data has 13723 cells and 36601 genes\n",
      "🔗 Matching reference genes in the model\n",
      "🔬 Input data has 13729 cells and 36601 genes\n",
      "🔗 Matching reference genes in the model\n"
     ]
    },
    {
     "name": "stdout",
     "output_type": "stream",
     "text": [
      "['L1', 'L2', 'L3']\n"
     ]
    },
    {
     "name": "stderr",
     "output_type": "stream",
     "text": [
      "🔬 Input data has 15516 cells and 36601 genes\n",
      "🔗 Matching reference genes in the model\n",
      "🖋️ Predicting labels\n"
     ]
    }
   ],
   "source": [
    "file_list=[x+'.h5' for x in meta_data['combined_sample_id']]\n",
    "model_base_path='/home/jupyter/BRI_Analysis/scRNA/AIFI_Model_Celltypist_CertPro'\n",
    "output_base_path='Labels_CertPro/'\n",
    "\n",
    "\n",
    "args_list = [(file, model_base_path, output_base_path) for file in file_list]\n",
    "\n",
    "with Pool(processes=60) as pool:\n",
    "    pool.map(process_and_annotate_pbmc, args_list)"
   ]
  },
  {
   "cell_type": "markdown",
   "id": "ff150f24-de66-4770-9cce-a6c4a15cab3c",
   "metadata": {},
   "source": [
    "# Doubelt Scores"
   ]
  },
  {
   "cell_type": "code",
   "execution_count": 2,
   "id": "3d3c24a6-e4e2-41b3-9440-fb10a98e3750",
   "metadata": {
    "tags": []
   },
   "outputs": [],
   "source": [
    "meta_data=pd.read_csv('meta_data_GEO.csv')\n",
    "file_list=[x+'.h5' for x in meta_data['combined_sample_id']]\n"
   ]
  },
  {
   "cell_type": "code",
   "execution_count": 12,
   "id": "ec7a6839-452b-4a29-9d24-3b500ed9bdcd",
   "metadata": {
    "collapsed": true,
    "jupyter": {
     "outputs_hidden": true
    },
    "tags": []
   },
   "outputs": [
    {
     "name": "stdout",
     "output_type": "stream",
     "text": [
      "Automatically set threshold at doublet score = 0.61\n",
      "Detected doublet rate = 0.2%\n",
      "Estimated detectable doublet fraction = 17.0%\n",
      "Overall doublet rate:\n",
      "\tExpected   = 5.0%\n",
      "\tEstimated  = 1.1%\n",
      "Automatically set threshold at doublet score = 0.63\n",
      "Detected doublet rate = 0.2%\n",
      "Estimated detectable doublet fraction = 14.2%\n",
      "Overall doublet rate:\n",
      "\tExpected   = 5.0%\n",
      "\tEstimated  = 1.5%\n",
      "Automatically set threshold at doublet score = 0.44\n",
      "Detected doublet rate = 0.7%\n",
      "Estimated detectable doublet fraction = 44.6%\n",
      "Overall doublet rate:\n",
      "\tExpected   = 5.0%\n",
      "\tEstimated  = 1.5%\n",
      "Automatically set threshold at doublet score = 0.65\n",
      "Detected doublet rate = 0.1%\n",
      "Estimated detectable doublet fraction = 10.7%\n",
      "Overall doublet rate:\n",
      "\tExpected   = 5.0%\n",
      "\tEstimated  = 1.0%\n",
      "Automatically set threshold at doublet score = 0.54\n",
      "Detected doublet rate = 0.2%\n",
      "Estimated detectable doublet fraction = 25.4%\n",
      "Overall doublet rate:\n",
      "\tExpected   = 5.0%\n",
      "\tEstimated  = 1.0%\n",
      "Automatically set threshold at doublet score = 0.64\n",
      "Detected doublet rate = 0.2%\n",
      "Estimated detectable doublet fraction = 14.1%\n",
      "Overall doublet rate:\n",
      "\tExpected   = 5.0%\n",
      "\tEstimated  = 1.2%\n",
      "Automatically set threshold at doublet score = 0.53\n",
      "Detected doublet rate = 0.5%\n",
      "Estimated detectable doublet fraction = 24.4%\n",
      "Overall doublet rate:\n",
      "\tExpected   = 5.0%\n",
      "\tEstimated  = 2.2%\n",
      "Automatically set threshold at doublet score = 0.45\n",
      "Detected doublet rate = 0.8%\n",
      "Estimated detectable doublet fraction = 36.4%\n",
      "Overall doublet rate:\n",
      "\tExpected   = 5.0%\n",
      "\tEstimated  = 2.1%\n",
      "Automatically set threshold at doublet score = 0.41\n",
      "Detected doublet rate = 1.2%\n",
      "Estimated detectable doublet fraction = 31.8%\n",
      "Overall doublet rate:\n",
      "\tExpected   = 5.0%\n",
      "\tEstimated  = 3.9%\n",
      "Automatically set threshold at doublet score = 0.74\n",
      "Detected doublet rate = 0.1%\n",
      "Estimated detectable doublet fraction = 2.8%\n",
      "Overall doublet rate:\n",
      "\tExpected   = 5.0%\n",
      "\tEstimated  = 1.8%\n",
      "Automatically set threshold at doublet score = 0.38\n",
      "Detected doublet rate = 1.2%\n",
      "Estimated detectable doublet fraction = 39.8%\n",
      "Overall doublet rate:\n",
      "\tExpected   = 5.0%\n",
      "\tEstimated  = 3.0%\n",
      "Automatically set threshold at doublet score = 0.39\n",
      "Detected doublet rate = 1.3%\n",
      "Estimated detectable doublet fraction = 40.6%\n",
      "Overall doublet rate:\n",
      "\tExpected   = 5.0%\n",
      "\tEstimated  = 3.2%\n",
      "Automatically set threshold at doublet score = 0.75\n",
      "Detected doublet rate = 0.0%\n",
      "Estimated detectable doublet fraction = 1.1%\n",
      "Overall doublet rate:\n",
      "\tExpected   = 5.0%\n",
      "\tEstimated  = 3.3%\n",
      "Automatically set threshold at doublet score = 0.31\n",
      "Detected doublet rate = 2.5%\n",
      "Estimated detectable doublet fraction = 48.9%\n",
      "Overall doublet rate:\n",
      "\tExpected   = 5.0%\n",
      "\tEstimated  = 5.1%\n",
      "Automatically set threshold at doublet score = 0.53\n",
      "Detected doublet rate = 0.6%\n",
      "Estimated detectable doublet fraction = 18.9%\n",
      "Overall doublet rate:\n",
      "\tExpected   = 5.0%\n",
      "\tEstimated  = 3.0%\n",
      "Automatically set threshold at doublet score = 0.37\n",
      "Detected doublet rate = 1.6%\n",
      "Estimated detectable doublet fraction = 41.2%\n",
      "Overall doublet rate:\n",
      "\tExpected   = 5.0%\n",
      "\tEstimated  = 3.8%\n"
     ]
    }
   ],
   "source": [
    "from concurrent.futures import ThreadPoolExecutor\n",
    "\n",
    "results = []\n",
    "\n",
    "with ThreadPoolExecutor(max_workers=16) as executor:  \n",
    "    for result in executor.map(process_file, file_list):\n",
    "        results.append(result)"
   ]
  },
  {
   "cell_type": "code",
   "execution_count": null,
   "id": "0f67c262-9af3-45cc-ab35-4542aa78fbfe",
   "metadata": {},
   "outputs": [],
   "source": []
  }
 ],
 "metadata": {
  "kernelspec": {
   "display_name": "Python [conda env:root] *",
   "language": "python",
   "name": "conda-root-py"
  },
  "language_info": {
   "codemirror_mode": {
    "name": "ipython",
    "version": 3
   },
   "file_extension": ".py",
   "mimetype": "text/x-python",
   "name": "python",
   "nbconvert_exporter": "python",
   "pygments_lexer": "ipython3",
   "version": "3.10.12"
  }
 },
 "nbformat": 4,
 "nbformat_minor": 5
}
