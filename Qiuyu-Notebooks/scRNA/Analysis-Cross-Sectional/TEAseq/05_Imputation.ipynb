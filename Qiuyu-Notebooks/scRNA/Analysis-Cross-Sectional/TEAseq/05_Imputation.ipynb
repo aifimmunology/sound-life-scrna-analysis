{
 "cells": [
  {
   "cell_type": "code",
   "execution_count": 2,
   "id": "f102a4b3-88c0-4895-9c57-76b290b99d84",
   "metadata": {
    "tags": []
   },
   "outputs": [
    {
     "name": "stderr",
     "output_type": "stream",
     "text": [
      "\n",
      "                                                   / |\n",
      "                                                 /    \\\n",
      "            .                                  /      |.\n",
      "            \\\\\\                              /        |.\n",
      "              \\\\\\                          /           `|.\n",
      "                \\\\\\                      /              |.\n",
      "                  \\                    /                |\\\n",
      "                  \\\\#####\\           /                  ||\n",
      "                ==###########>      /                   ||\n",
      "                 \\\\##==......\\    /                     ||\n",
      "            ______ =       =|__ /__                     ||      \\\\\\\n",
      "        ,--' ,----`-,__ ___/'  --,-`-===================##========>\n",
      "       \\               '        ##_______ _____ ,--,__,=##,__   ///\n",
      "        ,    __==    ___,-,__,--'#'  ==='      `-'    | ##,-/\n",
      "        -,____,---'       \\\\####\\\\________________,--\\\\_##,/\n",
      "           ___      .______        ______  __    __  .______      \n",
      "          /   \\     |   _  \\      /      ||  |  |  | |   _  \\     \n",
      "         /  ^  \\    |  |_)  |    |  ,----'|  |__|  | |  |_)  |    \n",
      "        /  /_\\  \\   |      /     |  |     |   __   | |      /     \n",
      "       /  _____  \\  |  |\\  \\\\___ |  `----.|  |  |  | |  |\\  \\\\___.\n",
      "      /__/     \\__\\ | _| `._____| \\______||__|  |__| | _| `._____|\n",
      "    \n",
      "\n",
      "Setting default genome to Hg38.\n",
      "\n",
      "Setting default number of Parallel threads to 60.\n",
      "\n",
      "Warning message:\n",
      "“package ‘arrow’ was built under R version 4.3.2”\n",
      "\n",
      "Attaching package: ‘arrow’\n",
      "\n",
      "\n",
      "The following object is masked from ‘package:BiocGenerics’:\n",
      "\n",
      "    type\n",
      "\n",
      "\n",
      "The following object is masked from ‘package:magrittr’:\n",
      "\n",
      "    is_in\n",
      "\n",
      "\n",
      "The following object is masked from ‘package:lubridate’:\n",
      "\n",
      "    duration\n",
      "\n",
      "\n",
      "The following object is masked from ‘package:utils’:\n",
      "\n",
      "    timestamp\n",
      "\n",
      "\n",
      "\n",
      "\n",
      "\n",
      "Attaching package: ‘TFBSTools’\n",
      "\n",
      "\n",
      "The following object is masked from ‘package:Matrix’:\n",
      "\n",
      "    Matrix\n",
      "\n",
      "\n"
     ]
    }
   ],
   "source": [
    "quiet_library <- function(...) {\n",
    "    suppressPackageStartupMessages(library(...))\n",
    "}\n",
    "quiet_library('tidyverse')\n",
    "quiet_library(\"hise\")\n",
    "quiet_library('ArchR')\n",
    "quiet_library('parallel')\n",
    "addArchRGenome(\"hg38\")\n",
    "addArchRThreads(threads = 60)\n",
    "options(future.globals.maxSize = 1000 * 1024^5)\n",
    "library(arrow)\n",
    "library(JASPAR2020)\n",
    "library(TFBSTools )"
   ]
  },
  {
   "cell_type": "code",
   "execution_count": 3,
   "id": "a0e82b51-cab7-471a-b07a-de7aba83b615",
   "metadata": {
    "tags": []
   },
   "outputs": [],
   "source": [
    "tair.motif=getMatrixSet(x=JASPAR2020,opts=list(species=\"9606\",matrixtype=\"PWM\"))\n",
    "jaspar2020_df <- data.frame(Motif_ID = character(), Motif_Name = character(), stringsAsFactors = FALSE)\n",
    "\n",
    "for (i in seq_along(tair.motif@listData)) {\n",
    "    Motif <- tair.motif@listData[[i]]\n",
    "    Motif_ID <- Motif@ID\n",
    "    Motif_Name <- Motif@name\n",
    "    jaspar2020_df <- rbind(jaspar2020_df, data.frame(Motif_ID = Motif_ID, Motif_Name = Motif_Name, stringsAsFactors = FALSE))\n",
    "}\n"
   ]
  },
  {
   "cell_type": "code",
   "execution_count": 70,
   "id": "52f60095-b813-480f-a762-974c41ce6d94",
   "metadata": {
    "tags": []
   },
   "outputs": [
    {
     "name": "stderr",
     "output_type": "stream",
     "text": [
      "Downloading package from url: https://cran.r-project.org/src/contrib/Matrix_1.6-5.tar.gz\n",
      "\n",
      "Installing package into ‘/home/jupyter/libb’\n",
      "(as ‘lib’ is unspecified)\n",
      "\n"
     ]
    }
   ],
   "source": [
    "remotes::install_version(\"Matrix\", version = \"1.6.5\")\n"
   ]
  },
  {
   "cell_type": "markdown",
   "id": "23bbdc21-6739-4ac5-9829-7ca5d1c09e8c",
   "metadata": {
    "jp-MarkdownHeadingCollapsed": true,
    "tags": []
   },
   "source": [
    "# L2-cisbp"
   ]
  },
  {
   "cell_type": "code",
   "execution_count": 36,
   "id": "b7beeaab-2a38-45de-bfe1-32403885cbf7",
   "metadata": {
    "tags": []
   },
   "outputs": [
    {
     "name": "stderr",
     "output_type": "stream",
     "text": [
      "Successfully loaded ArchRProject!\n",
      "\n",
      "\n",
      "                                                   / |\n",
      "                                                 /    \\\n",
      "            .                                  /      |.\n",
      "            \\\\\\                              /        |.\n",
      "              \\\\\\                          /           `|.\n",
      "                \\\\\\                      /              |.\n",
      "                  \\                    /                |\\\n",
      "                  \\\\#####\\           /                  ||\n",
      "                ==###########>      /                   ||\n",
      "                 \\\\##==......\\    /                     ||\n",
      "            ______ =       =|__ /__                     ||      \\\\\\\n",
      "        ,--' ,----`-,__ ___/'  --,-`-===================##========>\n",
      "       \\               '        ##_______ _____ ,--,__,=##,__   ///\n",
      "        ,    __==    ___,-,__,--'#'  ==='      `-'    | ##,-/\n",
      "        -,____,---'       \\\\####\\\\________________,--\\\\_##,/\n",
      "           ___      .______        ______  __    __  .______      \n",
      "          /   \\     |   _  \\      /      ||  |  |  | |   _  \\     \n",
      "         /  ^  \\    |  |_)  |    |  ,----'|  |__|  | |  |_)  |    \n",
      "        /  /_\\  \\   |      /     |  |     |   __   | |      /     \n",
      "       /  _____  \\  |  |\\  \\\\___ |  `----.|  |  |  | |  |\\  \\\\___.\n",
      "      /__/     \\__\\ | _| `._____| \\______||__|  |__| | _| `._____|\n",
      "    \n",
      "\n"
     ]
    }
   ],
   "source": [
    "proj <- loadArchRProject(path = 'PenSen_ATAC_L2_cisbp/')"
   ]
  },
  {
   "cell_type": "code",
   "execution_count": 37,
   "id": "759c154c-2c21-4088-836e-3d05ae3f3804",
   "metadata": {
    "tags": []
   },
   "outputs": [
    {
     "name": "stderr",
     "output_type": "stream",
     "text": [
      "ArchR logging to : ArchRLogs/ArchR-getMatrixFromProject-545d655fbdde-Date-2024-04-15_Time-22-41-11.92719.log\n",
      "If there is an issue, please report to github with logFile!\n",
      "\n",
      "2024-04-15 22:41:49.422207 : Organizing colData, 0.625 mins elapsed.\n",
      "\n",
      "2024-04-15 22:41:50.650551 : Organizing rowData, 0.645 mins elapsed.\n",
      "\n",
      "2024-04-15 22:41:50.659931 : Organizing rowRanges, 0.646 mins elapsed.\n",
      "\n",
      "2024-04-15 22:41:50.6703 : Organizing Assays (1 of 2), 0.646 mins elapsed.\n",
      "\n",
      "2024-04-15 22:42:27.49247 : Organizing Assays (2 of 2), 1.259 mins elapsed.\n",
      "\n",
      "2024-04-15 22:43:00.759216 : Constructing SummarizedExperiment, 1.814 mins elapsed.\n",
      "\n",
      "2024-04-15 22:43:03.035964 : Finished Matrix Creation, 1.852 mins elapsed.\n",
      "\n"
     ]
    }
   ],
   "source": [
    "MotifMatrix<-getMatrixFromProject(\n",
    "  ArchRProj = proj,\n",
    "  useMatrix = \"MotifMatrix\",\n",
    "  useSeqnames = NULL,\n",
    "  verbose = TRUE,\n",
    "  binarize = FALSE,\n",
    "  threads = getArchRThreads(),\n",
    "  logFile = createLogFile(\"getMatrixFromProject\")\n",
    ")"
   ]
  },
  {
   "cell_type": "code",
   "execution_count": 38,
   "id": "8da6a6ca-fc49-4445-8a19-9e433fd9460f",
   "metadata": {
    "tags": []
   },
   "outputs": [
    {
     "name": "stderr",
     "output_type": "stream",
     "text": [
      "ArchR logging to : ArchRLogs/ArchR-addImputeWeights-545d46febff6-Date-2024-04-15_Time-22-43-03.215787.log\n",
      "If there is an issue, please report to github with logFile!\n",
      "\n",
      "2024-04-15 22:43:06.565283 : Computing Impute Weights Using Magic (Cell 2018), 0 mins elapsed.\n",
      "\n",
      "Filtering 1 dims correlated > 0.75 to log10(depth + 1)\n",
      "\n"
     ]
    }
   ],
   "source": [
    "proj<- addImputeWeights(proj)\n"
   ]
  },
  {
   "cell_type": "code",
   "execution_count": 39,
   "id": "e824940e-3d06-4299-8ada-b61f313a25a1",
   "metadata": {
    "tags": []
   },
   "outputs": [
    {
     "name": "stderr",
     "output_type": "stream",
     "text": [
      "Getting ImputeWeights\n",
      "\n",
      "ArchR logging to : ArchRLogs/ArchR-imputeMatrix-545d110686d2-Date-2024-04-15_Time-22-46-41.970925.log\n",
      "If there is an issue, please report to github with logFile!\n",
      "\n",
      "2024-04-15 22:46:47.944725 : Imputing Matrix (1 of 2), 0 mins elapsed.\n",
      "\n",
      "Using weights on disk\n",
      "\n",
      "\n",
      "\n",
      "2024-04-15 22:48:33.791298 : Imputing Matrix (2 of 2), 1.764 mins elapsed.\n",
      "\n",
      "Using weights on disk\n",
      "\n",
      "\n",
      "\n",
      "2024-04-15 22:50:36.664639 : Finished Imputing Matrix, 3.812 mins elapsed.\n",
      "\n"
     ]
    }
   ],
   "source": [
    "ChromVar_Z_Imputed<-imputeMatrix(\n",
    "  mat = MotifMatrix@assays@data$z,\n",
    "  imputeWeights =  getImputeWeights(proj),\n",
    "  threads = 30,\n",
    "  verbose = TRUE\n",
    ")\n"
   ]
  },
  {
   "cell_type": "code",
   "execution_count": 40,
   "id": "ccf3dd2b-cb5f-4950-8aec-91519fc6007f",
   "metadata": {
    "tags": []
   },
   "outputs": [],
   "source": [
    "df<-as.data.frame(ChromVar_Z_Imputed)\n",
    "df$row_names <- rownames(df)  "
   ]
  },
  {
   "cell_type": "code",
   "execution_count": 41,
   "id": "cb3f45b1-694f-4717-84d6-5b0e1bbb86ad",
   "metadata": {
    "tags": []
   },
   "outputs": [],
   "source": [
    "write_parquet(df, \"chromVar_Z_L2_Imputed_cisbp.parquet\")"
   ]
  },
  {
   "cell_type": "markdown",
   "id": "df516b6a-e44e-43ea-a8c7-da0a22d1b92d",
   "metadata": {},
   "source": [
    "# L3-cisbp"
   ]
  },
  {
   "cell_type": "code",
   "execution_count": 44,
   "id": "43b4ad22-0436-4376-b483-ca52f6422688",
   "metadata": {
    "tags": []
   },
   "outputs": [
    {
     "name": "stderr",
     "output_type": "stream",
     "text": [
      "Successfully loaded ArchRProject!\n",
      "\n",
      "\n",
      "                                                   / |\n",
      "                                                 /    \\\n",
      "            .                                  /      |.\n",
      "            \\\\\\                              /        |.\n",
      "              \\\\\\                          /           `|.\n",
      "                \\\\\\                      /              |.\n",
      "                  \\                    /                |\\\n",
      "                  \\\\#####\\           /                  ||\n",
      "                ==###########>      /                   ||\n",
      "                 \\\\##==......\\    /                     ||\n",
      "            ______ =       =|__ /__                     ||      \\\\\\\n",
      "        ,--' ,----`-,__ ___/'  --,-`-===================##========>\n",
      "       \\               '        ##_______ _____ ,--,__,=##,__   ///\n",
      "        ,    __==    ___,-,__,--'#'  ==='      `-'    | ##,-/\n",
      "        -,____,---'       \\\\####\\\\________________,--\\\\_##,/\n",
      "           ___      .______        ______  __    __  .______      \n",
      "          /   \\     |   _  \\      /      ||  |  |  | |   _  \\     \n",
      "         /  ^  \\    |  |_)  |    |  ,----'|  |__|  | |  |_)  |    \n",
      "        /  /_\\  \\   |      /     |  |     |   __   | |      /     \n",
      "       /  _____  \\  |  |\\  \\\\___ |  `----.|  |  |  | |  |\\  \\\\___.\n",
      "      /__/     \\__\\ | _| `._____| \\______||__|  |__| | _| `._____|\n",
      "    \n",
      "\n"
     ]
    }
   ],
   "source": [
    "proj <- loadArchRProject(path = 'PenSen_ATAC_L3_cisbp/')"
   ]
  },
  {
   "cell_type": "code",
   "execution_count": 45,
   "id": "168fe08c-044b-488a-9151-262cad9a5718",
   "metadata": {
    "tags": []
   },
   "outputs": [
    {
     "name": "stderr",
     "output_type": "stream",
     "text": [
      "ArchR logging to : ArchRLogs/ArchR-getMatrixFromProject-545d7df610b8-Date-2024-04-16_Time-03-32-07.047392.log\n",
      "If there is an issue, please report to github with logFile!\n",
      "\n",
      "2024-04-16 03:33:01.216813 : Organizing colData, 0.904 mins elapsed.\n",
      "\n",
      "2024-04-16 03:33:02.34095 : Organizing rowData, 0.923 mins elapsed.\n",
      "\n",
      "2024-04-16 03:33:02.349033 : Organizing rowRanges, 0.923 mins elapsed.\n",
      "\n",
      "2024-04-16 03:33:02.356941 : Organizing Assays (1 of 2), 0.923 mins elapsed.\n",
      "\n",
      "2024-04-16 03:33:44.890356 : Organizing Assays (2 of 2), 1.632 mins elapsed.\n",
      "\n",
      "2024-04-16 03:34:18.727838 : Constructing SummarizedExperiment, 2.196 mins elapsed.\n",
      "\n",
      "2024-04-16 03:34:20.886064 : Finished Matrix Creation, 2.232 mins elapsed.\n",
      "\n"
     ]
    }
   ],
   "source": [
    "MotifMatrix<-getMatrixFromProject(\n",
    "  ArchRProj = proj,\n",
    "  useMatrix = \"MotifMatrix\",\n",
    "  useSeqnames = NULL,\n",
    "  verbose = TRUE,\n",
    "  binarize = FALSE,\n",
    "  threads = getArchRThreads(),\n",
    "  logFile = createLogFile(\"getMatrixFromProject\")\n",
    ")"
   ]
  },
  {
   "cell_type": "code",
   "execution_count": 46,
   "id": "091f8870-7c93-4940-b47a-a7a28d7d3a27",
   "metadata": {
    "tags": []
   },
   "outputs": [
    {
     "name": "stderr",
     "output_type": "stream",
     "text": [
      "ArchR logging to : ArchRLogs/ArchR-addImputeWeights-545d2b00bb82-Date-2024-04-16_Time-03-34-20.901433.log\n",
      "If there is an issue, please report to github with logFile!\n",
      "\n",
      "2024-04-16 03:34:20.956662 : Computing Impute Weights Using Magic (Cell 2018), 0 mins elapsed.\n",
      "\n",
      "Filtering 1 dims correlated > 0.75 to log10(depth + 1)\n",
      "\n"
     ]
    }
   ],
   "source": [
    "proj<- addImputeWeights(proj)\n"
   ]
  },
  {
   "cell_type": "code",
   "execution_count": 47,
   "id": "ed809ee1-069a-4497-87ed-fc42f1fe99d6",
   "metadata": {
    "tags": []
   },
   "outputs": [
    {
     "name": "stderr",
     "output_type": "stream",
     "text": [
      "Getting ImputeWeights\n",
      "\n",
      "ArchR logging to : ArchRLogs/ArchR-imputeMatrix-545d49e9f280-Date-2024-04-16_Time-03-37-59.03934.log\n",
      "If there is an issue, please report to github with logFile!\n",
      "\n",
      "2024-04-16 03:38:05.366022 : Imputing Matrix (1 of 2), 0 mins elapsed.\n",
      "\n",
      "Using weights on disk\n",
      "\n",
      "\n",
      "\n",
      "2024-04-16 03:39:49.89707 : Imputing Matrix (2 of 2), 1.742 mins elapsed.\n",
      "\n",
      "Using weights on disk\n",
      "\n",
      "\n",
      "\n",
      "2024-04-16 03:41:54.920765 : Finished Imputing Matrix, 3.826 mins elapsed.\n",
      "\n"
     ]
    }
   ],
   "source": [
    "ChromVar_Z_Imputed<-imputeMatrix(\n",
    "  mat = MotifMatrix@assays@data$z,\n",
    "  imputeWeights =  getImputeWeights(proj),\n",
    "  threads = 30,\n",
    "  verbose = TRUE\n",
    ")\n"
   ]
  },
  {
   "cell_type": "code",
   "execution_count": 48,
   "id": "8e09f0c0-8326-45e7-8f1b-a454dff9a24d",
   "metadata": {
    "tags": []
   },
   "outputs": [],
   "source": [
    "df<-as.data.frame(ChromVar_Z_Imputed)\n",
    "df$row_names <- rownames(df) "
   ]
  },
  {
   "cell_type": "code",
   "execution_count": 49,
   "id": "3fd3a62a-7b7b-44f3-9627-1e85e43706d8",
   "metadata": {
    "tags": []
   },
   "outputs": [],
   "source": [
    "write_parquet(df, \"chromVar_Z_L3_Imputed_cisbp.parquet\")"
   ]
  },
  {
   "cell_type": "code",
   "execution_count": null,
   "id": "a5987182-d087-4c41-9e4a-7cc051a847f3",
   "metadata": {},
   "outputs": [],
   "source": []
  },
  {
   "cell_type": "markdown",
   "id": "fbee91fe-8d2b-4f20-9c67-3cd68b8b5905",
   "metadata": {
    "tags": []
   },
   "source": [
    "# L2 -Jasper2020"
   ]
  },
  {
   "cell_type": "code",
   "execution_count": 27,
   "id": "0ac12d0c-55e6-44f6-a987-59f27f7d4729",
   "metadata": {
    "tags": []
   },
   "outputs": [
    {
     "name": "stderr",
     "output_type": "stream",
     "text": [
      "Successfully loaded ArchRProject!\n",
      "\n",
      "\n",
      "                                                   / |\n",
      "                                                 /    \\\n",
      "            .                                  /      |.\n",
      "            \\\\\\                              /        |.\n",
      "              \\\\\\                          /           `|.\n",
      "                \\\\\\                      /              |.\n",
      "                  \\                    /                |\\\n",
      "                  \\\\#####\\           /                  ||\n",
      "                ==###########>      /                   ||\n",
      "                 \\\\##==......\\    /                     ||\n",
      "            ______ =       =|__ /__                     ||      \\\\\\\n",
      "        ,--' ,----`-,__ ___/'  --,-`-===================##========>\n",
      "       \\               '        ##_______ _____ ,--,__,=##,__   ///\n",
      "        ,    __==    ___,-,__,--'#'  ==='      `-'    | ##,-/\n",
      "        -,____,---'       \\\\####\\\\________________,--\\\\_##,/\n",
      "           ___      .______        ______  __    __  .______      \n",
      "          /   \\     |   _  \\      /      ||  |  |  | |   _  \\     \n",
      "         /  ^  \\    |  |_)  |    |  ,----'|  |__|  | |  |_)  |    \n",
      "        /  /_\\  \\   |      /     |  |     |   __   | |      /     \n",
      "       /  _____  \\  |  |\\  \\\\___ |  `----.|  |  |  | |  |\\  \\\\___.\n",
      "      /__/     \\__\\ | _| `._____| \\______||__|  |__| | _| `._____|\n",
      "    \n",
      "\n"
     ]
    }
   ],
   "source": [
    "proj <- loadArchRProject(path = 'PenSen_ATAC_L2/')"
   ]
  },
  {
   "cell_type": "code",
   "execution_count": 28,
   "id": "491f451d-6d6f-46cf-a25d-96b5c08e28da",
   "metadata": {
    "tags": []
   },
   "outputs": [
    {
     "data": {
      "text/html": [
       "<style>\n",
       ".list-inline {list-style: none; margin:0; padding: 0}\n",
       ".list-inline>li {display: inline-block}\n",
       ".list-inline>li:not(:last-child)::after {content: \"\\00b7\"; padding: 0 .5ex}\n",
       "</style>\n",
       "<ol class=list-inline><li>'GeneScoreMatrix'</li><li>'MotifMatrix'</li><li>'PeakMatrix'</li><li>'TileMatrix'</li></ol>\n"
      ],
      "text/latex": [
       "\\begin{enumerate*}\n",
       "\\item 'GeneScoreMatrix'\n",
       "\\item 'MotifMatrix'\n",
       "\\item 'PeakMatrix'\n",
       "\\item 'TileMatrix'\n",
       "\\end{enumerate*}\n"
      ],
      "text/markdown": [
       "1. 'GeneScoreMatrix'\n",
       "2. 'MotifMatrix'\n",
       "3. 'PeakMatrix'\n",
       "4. 'TileMatrix'\n",
       "\n",
       "\n"
      ],
      "text/plain": [
       "[1] \"GeneScoreMatrix\" \"MotifMatrix\"     \"PeakMatrix\"      \"TileMatrix\"     "
      ]
     },
     "metadata": {},
     "output_type": "display_data"
    }
   ],
   "source": [
    "getAvailableMatrices(ArchRProj = proj)\n"
   ]
  },
  {
   "cell_type": "code",
   "execution_count": 29,
   "id": "66112a3e-58fe-4b57-aa89-9e7efb77073c",
   "metadata": {
    "tags": []
   },
   "outputs": [
    {
     "name": "stderr",
     "output_type": "stream",
     "text": [
      "ArchR logging to : ArchRLogs/ArchR-getMatrixFromProject-6d6719f7814d-Date-2024-04-16_Time-15-09-21.809103.log\n",
      "If there is an issue, please report to github with logFile!\n",
      "\n",
      "2024-04-16 15:10:04.748548 : Organizing colData, 0.716 mins elapsed.\n",
      "\n",
      "2024-04-16 15:10:05.83112 : Organizing rowData, 0.734 mins elapsed.\n",
      "\n",
      "2024-04-16 15:10:05.83961 : Organizing rowRanges, 0.734 mins elapsed.\n",
      "\n",
      "2024-04-16 15:10:05.847299 : Organizing Assays (1 of 2), 0.734 mins elapsed.\n",
      "\n",
      "2024-04-16 15:10:19.322411 : Organizing Assays (2 of 2), 0.959 mins elapsed.\n",
      "\n",
      "2024-04-16 15:10:34.456259 : Constructing SummarizedExperiment, 1.211 mins elapsed.\n",
      "\n",
      "2024-04-16 15:10:38.799389 : Finished Matrix Creation, 1.283 mins elapsed.\n",
      "\n"
     ]
    }
   ],
   "source": [
    "MotifMatrix<-getMatrixFromProject(\n",
    "  ArchRProj = proj,\n",
    "  useMatrix = \"MotifMatrix\",\n",
    "  useSeqnames = NULL,\n",
    "  verbose = TRUE,\n",
    "  binarize = FALSE,\n",
    "  threads = getArchRThreads(),\n",
    "  logFile = createLogFile(\"getMatrixFromProject\")\n",
    ")"
   ]
  },
  {
   "cell_type": "code",
   "execution_count": 30,
   "id": "3fbde6d2-ebfd-43cc-a634-d929998d197f",
   "metadata": {
    "tags": []
   },
   "outputs": [
    {
     "name": "stderr",
     "output_type": "stream",
     "text": [
      "ArchR logging to : ArchRLogs/ArchR-addImputeWeights-6d674d7ab6ad-Date-2024-04-16_Time-15-10-38.814492.log\n",
      "If there is an issue, please report to github with logFile!\n",
      "\n",
      "2024-04-16 15:10:38.844163 : Computing Impute Weights Using Magic (Cell 2018), 0 mins elapsed.\n",
      "\n",
      "Filtering 1 dims correlated > 0.75 to log10(depth + 1)\n",
      "\n"
     ]
    }
   ],
   "source": [
    "proj<- addImputeWeights(proj)\n"
   ]
  },
  {
   "cell_type": "code",
   "execution_count": 31,
   "id": "8194dd0f-acd3-4daf-a625-a077de7a8265",
   "metadata": {
    "tags": []
   },
   "outputs": [
    {
     "name": "stderr",
     "output_type": "stream",
     "text": [
      "Getting ImputeWeights\n",
      "\n",
      "ArchR logging to : ArchRLogs/ArchR-imputeMatrix-6d6717a06c98-Date-2024-04-16_Time-15-14-09.818267.log\n",
      "If there is an issue, please report to github with logFile!\n",
      "\n",
      "2024-04-16 15:14:14.231573 : Imputing Matrix (1 of 2), 0 mins elapsed.\n",
      "\n",
      "Using weights on disk\n",
      "\n",
      "\n",
      "\n",
      "2024-04-16 15:15:40.665597 : Imputing Matrix (2 of 2), 1.441 mins elapsed.\n",
      "\n",
      "Using weights on disk\n",
      "\n",
      "\n",
      "\n",
      "2024-04-16 15:17:21.529102 : Finished Imputing Matrix, 3.122 mins elapsed.\n",
      "\n"
     ]
    }
   ],
   "source": [
    "ChromVar_Z_Imputed<-imputeMatrix(\n",
    "  mat = MotifMatrix@assays@data$z,\n",
    "  imputeWeights =  getImputeWeights(proj),\n",
    "  threads = 30,\n",
    "  verbose = TRUE\n",
    ")\n"
   ]
  },
  {
   "cell_type": "code",
   "execution_count": 33,
   "id": "7289c05f-7984-4511-8230-3967e5e2e1cd",
   "metadata": {
    "tags": []
   },
   "outputs": [],
   "source": [
    "df<-as.data.frame(as.matrix(ChromVar_Z_Imputed))\n",
    "df$row_names <- rownames(df)  "
   ]
  },
  {
   "cell_type": "code",
   "execution_count": 34,
   "id": "7236c744-6b83-40d9-9b9e-81344a756934",
   "metadata": {},
   "outputs": [],
   "source": [
    "rownames(jaspar2020_df)<-jaspar2020_df$Motif_ID\n",
    "jaspar2020_df<-jaspar2020_df[rownames(df),]\n",
    "rownames(df)<-jaspar2020_df$Motif_Name\n",
    "df$row_names <- rownames(df)  \n"
   ]
  },
  {
   "cell_type": "code",
   "execution_count": 35,
   "id": "1e82d88d-633e-41c3-8f5c-04ed900e1e0a",
   "metadata": {
    "tags": []
   },
   "outputs": [],
   "source": [
    "write_parquet(df, \"chromVar_Z_L2_Imputed_Jasper2020.parquet\")"
   ]
  },
  {
   "cell_type": "markdown",
   "id": "f999d885-af41-4905-8391-3ae1ebe43499",
   "metadata": {},
   "source": [
    "# L3-Jasper2020"
   ]
  },
  {
   "cell_type": "code",
   "execution_count": 4,
   "id": "6e8bddf4-9880-4b9a-858f-87061555f691",
   "metadata": {
    "tags": []
   },
   "outputs": [
    {
     "name": "stderr",
     "output_type": "stream",
     "text": [
      "Successfully loaded ArchRProject!\n",
      "\n",
      "\n",
      "                                                   / |\n",
      "                                                 /    \\\n",
      "            .                                  /      |.\n",
      "            \\\\\\                              /        |.\n",
      "              \\\\\\                          /           `|.\n",
      "                \\\\\\                      /              |.\n",
      "                  \\                    /                |\\\n",
      "                  \\\\#####\\           /                  ||\n",
      "                ==###########>      /                   ||\n",
      "                 \\\\##==......\\    /                     ||\n",
      "            ______ =       =|__ /__                     ||      \\\\\\\n",
      "        ,--' ,----`-,__ ___/'  --,-`-===================##========>\n",
      "       \\               '        ##_______ _____ ,--,__,=##,__   ///\n",
      "        ,    __==    ___,-,__,--'#'  ==='      `-'    | ##,-/\n",
      "        -,____,---'       \\\\####\\\\________________,--\\\\_##,/\n",
      "           ___      .______        ______  __    __  .______      \n",
      "          /   \\     |   _  \\      /      ||  |  |  | |   _  \\     \n",
      "         /  ^  \\    |  |_)  |    |  ,----'|  |__|  | |  |_)  |    \n",
      "        /  /_\\  \\   |      /     |  |     |   __   | |      /     \n",
      "       /  _____  \\  |  |\\  \\\\___ |  `----.|  |  |  | |  |\\  \\\\___.\n",
      "      /__/     \\__\\ | _| `._____| \\______||__|  |__| | _| `._____|\n",
      "    \n",
      "\n"
     ]
    }
   ],
   "source": [
    "proj <- loadArchRProject(path = 'PenSen_ATAC_L3/')"
   ]
  },
  {
   "cell_type": "code",
   "execution_count": 5,
   "id": "11967170-4753-49e8-8ed3-e5fa5b21c561",
   "metadata": {
    "tags": []
   },
   "outputs": [
    {
     "name": "stderr",
     "output_type": "stream",
     "text": [
      "ArchR logging to : ArchRLogs/ArchR-getMatrixFromProject-6d675dfc0bb8-Date-2024-04-16_Time-04-05-45.314295.log\n",
      "If there is an issue, please report to github with logFile!\n",
      "\n",
      "2024-04-16 04:06:22.383507 : Organizing colData, 0.618 mins elapsed.\n",
      "\n",
      "2024-04-16 04:06:23.246806 : Organizing rowData, 0.632 mins elapsed.\n",
      "\n",
      "2024-04-16 04:06:23.253589 : Organizing rowRanges, 0.632 mins elapsed.\n",
      "\n",
      "2024-04-16 04:06:23.261598 : Organizing Assays (1 of 2), 0.632 mins elapsed.\n",
      "\n",
      "2024-04-16 04:06:42.706964 : Organizing Assays (2 of 2), 0.957 mins elapsed.\n",
      "\n",
      "2024-04-16 04:06:59.22638 : Constructing SummarizedExperiment, 1.232 mins elapsed.\n",
      "\n",
      "2024-04-16 04:07:00.860256 : Finished Matrix Creation, 1.259 mins elapsed.\n",
      "\n"
     ]
    }
   ],
   "source": [
    "MotifMatrix<-getMatrixFromProject(\n",
    "  ArchRProj = proj,\n",
    "  useMatrix = \"MotifMatrix\",\n",
    "  useSeqnames = NULL,\n",
    "  verbose = TRUE,\n",
    "  binarize = FALSE,\n",
    "  threads = getArchRThreads(),\n",
    "  logFile = createLogFile(\"getMatrixFromProject\")\n",
    ")"
   ]
  },
  {
   "cell_type": "code",
   "execution_count": 6,
   "id": "0ef54f89-38ee-46f9-a987-25dca13a6db7",
   "metadata": {
    "tags": []
   },
   "outputs": [
    {
     "name": "stderr",
     "output_type": "stream",
     "text": [
      "ArchR logging to : ArchRLogs/ArchR-addImputeWeights-6d6753fa05f2-Date-2024-04-16_Time-04-07-00.876405.log\n",
      "If there is an issue, please report to github with logFile!\n",
      "\n",
      "2024-04-16 04:07:00.906249 : Computing Impute Weights Using Magic (Cell 2018), 0 mins elapsed.\n",
      "\n",
      "Filtering 1 dims correlated > 0.75 to log10(depth + 1)\n",
      "\n"
     ]
    }
   ],
   "source": [
    "proj<- addImputeWeights(proj)\n"
   ]
  },
  {
   "cell_type": "code",
   "execution_count": 7,
   "id": "444a7b1a-71cc-4e98-86f1-90cdb76302b3",
   "metadata": {
    "tags": []
   },
   "outputs": [
    {
     "name": "stderr",
     "output_type": "stream",
     "text": [
      "Getting ImputeWeights\n",
      "\n",
      "ArchR logging to : ArchRLogs/ArchR-imputeMatrix-6d6711f1887a-Date-2024-04-16_Time-04-10-45.425955.log\n",
      "If there is an issue, please report to github with logFile!\n",
      "\n",
      "2024-04-16 04:10:49.98326 : Imputing Matrix (1 of 2), 0 mins elapsed.\n",
      "\n",
      "Using weights on disk\n",
      "\n",
      "\n",
      "\n",
      "2024-04-16 04:11:48.469287 : Imputing Matrix (2 of 2), 0.975 mins elapsed.\n",
      "\n",
      "Using weights on disk\n",
      "\n",
      "\n",
      "\n",
      "2024-04-16 04:12:57.295209 : Finished Imputing Matrix, 2.122 mins elapsed.\n",
      "\n"
     ]
    }
   ],
   "source": [
    "ChromVar_Z_Imputed<-imputeMatrix(\n",
    "  mat = MotifMatrix@assays@data$z,\n",
    "  imputeWeights =  getImputeWeights(proj),\n",
    "  threads = 30,\n",
    "  verbose = TRUE\n",
    ")\n"
   ]
  },
  {
   "cell_type": "code",
   "execution_count": 11,
   "id": "85b3942a-4234-4fa4-98ef-8d638556f95c",
   "metadata": {
    "tags": []
   },
   "outputs": [],
   "source": [
    "df<-as.data.frame(as.data.frame(as.matrix(ChromVar_Z_Imputed)))\n",
    "df$row_names <- rownames(df)  "
   ]
  },
  {
   "cell_type": "code",
   "execution_count": 13,
   "id": "5c890c09-e58c-41ce-a411-6e61966acdad",
   "metadata": {
    "tags": []
   },
   "outputs": [],
   "source": []
  },
  {
   "cell_type": "code",
   "execution_count": 16,
   "id": "7e4559b0-5577-48a6-93a4-aff49b116287",
   "metadata": {
    "tags": []
   },
   "outputs": [],
   "source": [
    "rownames(jaspar2020_df)<-jaspar2020_df$Motif_ID\n",
    "jaspar2020_df<-jaspar2020_df[rownames(df),]"
   ]
  },
  {
   "cell_type": "code",
   "execution_count": 17,
   "id": "85f04a89-9215-4d60-ab42-40e934d7cee6",
   "metadata": {
    "tags": []
   },
   "outputs": [],
   "source": [
    "rownames(df)<-jaspar2020_df$Motif_Name\n",
    "df$row_names <- rownames(df)  "
   ]
  },
  {
   "cell_type": "code",
   "execution_count": 18,
   "id": "3a0b305a-33ba-47ac-86d2-b5910670d401",
   "metadata": {
    "tags": []
   },
   "outputs": [],
   "source": [
    "write_parquet(df, \"chromVar_Z_L3_Imputed_Jasper2020.parquet\")"
   ]
  },
  {
   "cell_type": "code",
   "execution_count": null,
   "id": "0808c8c2-64ab-4325-827e-674574066bd8",
   "metadata": {},
   "outputs": [],
   "source": []
  }
 ],
 "metadata": {
  "kernelspec": {
   "display_name": "R 4",
   "language": "R",
   "name": "ir4"
  },
  "language_info": {
   "codemirror_mode": "r",
   "file_extension": ".r",
   "mimetype": "text/x-r-source",
   "name": "R",
   "pygments_lexer": "r",
   "version": "4.3.1"
  }
 },
 "nbformat": 4,
 "nbformat_minor": 5
}
