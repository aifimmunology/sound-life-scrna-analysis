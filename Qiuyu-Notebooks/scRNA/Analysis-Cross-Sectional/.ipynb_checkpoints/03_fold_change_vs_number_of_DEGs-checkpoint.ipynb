{
 "cells": [
  {
   "cell_type": "code",
   "execution_count": 1,
   "id": "954683a5-b1a9-443e-8a86-ab897bccd74c",
   "metadata": {
    "tags": []
   },
   "outputs": [
    {
     "name": "stderr",
     "output_type": "stream",
     "text": [
      "/tmp/ipykernel_98380/377559581.py:15: DeprecationWarning: Please use `pearsonr` from the `scipy.stats` namespace, the `scipy.stats.stats` namespace is deprecated.\n",
      "  from scipy.stats.stats import pearsonr\n"
     ]
    }
   ],
   "source": [
    "import scanpy as sc\n",
    "import pandas as pd \n",
    "import numpy as np\n",
    "import anndata\n",
    "import re\n",
    "import h5py\n",
    "import scipy.sparse as scs\n",
    "import concurrent.futures\n",
    "import matplotlib.pyplot as plt\n",
    "import seaborn as sns\n",
    "from scipy.sparse import csc_matrix\n",
    "import umap\n",
    "from sklearn.preprocessing import StandardScaler\n",
    "import random\n",
    "from scipy.stats.stats import pearsonr\n",
    "random.seed(123)\n",
    "from joblib import Parallel, delayed"
   ]
  },
  {
   "cell_type": "code",
   "execution_count": 2,
   "id": "dd860d08-eeb9-4e8c-aa8f-86230cf86dcf",
   "metadata": {
    "tags": []
   },
   "outputs": [],
   "source": [
    "adata=sc.read_h5ad('/home/jupyter/reference_generating_new/All_consturction/AIFI_Reference_raw.h5ad')"
   ]
  },
  {
   "cell_type": "code",
   "execution_count": 15,
   "id": "479eed2a-47f5-4686-8a5d-673eaf936351",
   "metadata": {
    "tags": []
   },
   "outputs": [],
   "source": [
    "selected_col=['barcodes','subject.biologicalSex', 'subject.ethnicity', 'subject.partnerCode', \n",
    "              'subject.race', 'subject.subjectGuid', 'cohort.cohortGuid', 'sample.visitName', \n",
    "              'sample.visitDetails', 'subject.birthYear', 'CMV.IgG.Serology.Result.Interpretation',\n",
    "              'BMI', 'predicted.celltype.l1.score', 'predicted.celltype.l1', 'predicted.celltype.l2.score', \n",
    "              'predicted.celltype.l2', 'predicted.celltype.l3.score', 'predicted.celltype.l3', \n",
    "              'predicted.celltype.l2.5.score', 'predicted.celltype.l2.5', 'predicted_labels_celltypist', \n",
    "              'majority_voting_celltypist', 'doublet_score', 'n_genes_by_counts', \n",
    "              'log1p_n_genes_by_counts', 'total_counts', 'log1p_total_counts', 'pct_counts_in_top_50_genes',\n",
    "              'pct_counts_in_top_100_genes', 'pct_counts_in_top_200_genes', 'pct_counts_in_top_500_genes',\n",
    "              'total_counts_mito', 'log1p_total_counts_mito', 'pct_counts_mito', 'leiden', 'leiden_resolution_1', \n",
    "              'leiden_resolution_1.5', 'leiden_resolution_2', 'AIFI_L1', 'AIFI_L2', 'AIFI_L3', 'AIFI_L3.5']"
   ]
  },
  {
   "cell_type": "code",
   "execution_count": 22,
   "id": "06da4655-fa2a-49f8-92b2-1fcc41edb99d",
   "metadata": {
    "tags": []
   },
   "outputs": [],
   "source": [
    "adata.obs[selected_col].to_csv(\"Reference_Label.csv\")"
   ]
  },
  {
   "cell_type": "code",
   "execution_count": null,
   "id": "d057a501-f772-4c77-ab94-3e7493096372",
   "metadata": {},
   "outputs": [],
   "source": []
  }
 ],
 "metadata": {
  "kernelspec": {
   "display_name": "Python [conda env:root] *",
   "language": "python",
   "name": "conda-root-py"
  },
  "language_info": {
   "codemirror_mode": {
    "name": "ipython",
    "version": 3
   },
   "file_extension": ".py",
   "mimetype": "text/x-python",
   "name": "python",
   "nbconvert_exporter": "python",
   "pygments_lexer": "ipython3",
   "version": "3.10.12"
  }
 },
 "nbformat": 4,
 "nbformat_minor": 5
}
