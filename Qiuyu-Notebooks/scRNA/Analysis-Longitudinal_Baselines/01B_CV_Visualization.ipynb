{
 "cells": [
  {
   "cell_type": "code",
   "execution_count": 25,
   "id": "3493c5de-a812-4c5d-893e-51395784cbea",
   "metadata": {
    "tags": []
   },
   "outputs": [],
   "source": [
    "suppressPackageStartupMessages(library(plyr))\n",
    "suppressPackageStartupMessages(library(dplyr))\n",
    "suppressPackageStartupMessages(library(tidyr))\n",
    "suppressPackageStartupMessages(library(tibble))\n",
    "suppressPackageStartupMessages(library(ggplot2))\n",
    "suppressPackageStartupMessages(library(patchwork))\n",
    "suppressPackageStartupMessages(library(stringr))\n",
    "library(hise)\n",
    "library(parallel)\n",
    "library(introdataviz)"
   ]
  },
  {
   "cell_type": "code",
   "execution_count": 26,
   "id": "37f128da-df47-496b-b93b-f8fc439c8406",
   "metadata": {
    "tags": []
   },
   "outputs": [],
   "source": [
    "meta_data<-read.csv('/home//jupyter/BRI_Analysis/scRNA/hise_meta_data_2024-01-23_fixed.csv')\n",
    "meta_data<-meta_data %>% filter(Covid_exlcusion=='no')\n",
    "meta_data<-meta_data %>% filter(sample.visitName %in% c('Flu Year 1 Day 0','Flu Year 1 Day 90','Flu Year 2 Day 0','Flu Year 2 Day 90'))\n",
    "donors<-names(table(meta_data$subject.subjectGuid)[table(meta_data$subject.subjectGuid)==4])\n",
    "meta_data<-meta_data %>% filter(subject.subjectGuid %in% donors)"
   ]
  },
  {
   "cell_type": "code",
   "execution_count": 27,
   "id": "0225d262-207e-4591-8f59-476d4e2c96ff",
   "metadata": {
    "tags": []
   },
   "outputs": [],
   "source": [
    "meta<-unique(meta_data[c('subject.subjectGuid','CMV.IgG.Serology.Result.Interpretation','subject.biologicalSex','cohort.cohortGuid')])"
   ]
  },
  {
   "cell_type": "code",
   "execution_count": 28,
   "id": "4b42fb93-db70-48c6-9f04-8b97f50f5bd9",
   "metadata": {
    "tags": []
   },
   "outputs": [],
   "source": [
    "colnames(meta)<-c('donor','CMV','Sex','cohorts')"
   ]
  },
  {
   "cell_type": "code",
   "execution_count": 29,
   "id": "8b70fe13-75ff-4d2d-8744-87ffe0136c80",
   "metadata": {
    "tags": []
   },
   "outputs": [],
   "source": [
    "CV_Res_FILES<-list.files(path = \"01A_CV_result/\", pattern = \"csv\", all.files = TRUE,\n",
    "           full.names = TRUE, recursive = FALSE,\n",
    "           ignore.case = TRUE, include.dirs = TRUE, no.. = FALSE)"
   ]
  },
  {
   "cell_type": "code",
   "execution_count": 30,
   "id": "006afaec-6033-43d7-9a50-a031146d9ddc",
   "metadata": {
    "tags": []
   },
   "outputs": [],
   "source": [
    "CV_Res_meta<-as.data.frame(CV_Res_FILES)"
   ]
  },
  {
   "cell_type": "code",
   "execution_count": 31,
   "id": "d4b14d2b-4b12-470e-bc31-010a577a7ee8",
   "metadata": {
    "tags": []
   },
   "outputs": [],
   "source": [
    "CV_Res_meta<-CV_Res_meta %>%\n",
    "  mutate(    after_slash = str_extract(CV_Res_FILES, \"(?<=//).+\"),\n",
    "    donor = str_extract(CV_Res_FILES, \"(?<=//)[^_]+\"),\n",
    "    celltype = str_extract(after_slash, \"(?<=_)[^.]+(?=\\\\.csv)\") )%>%\n",
    "  select(-after_slash)"
   ]
  },
  {
   "cell_type": "code",
   "execution_count": 32,
   "id": "43126f65-333b-4b3b-b43b-067d892ae175",
   "metadata": {
    "tags": []
   },
   "outputs": [
    {
     "name": "stderr",
     "output_type": "stream",
     "text": [
      "\u001b[1m\u001b[22mJoining with `by = join_by(donor)`\n"
     ]
    }
   ],
   "source": [
    "CV_Res_meta<-left_join(CV_Res_meta,meta)"
   ]
  },
  {
   "cell_type": "code",
   "execution_count": 33,
   "id": "413d64a0-edb3-4b09-84c4-306dc4f9c77d",
   "metadata": {
    "tags": []
   },
   "outputs": [],
   "source": [
    "gene=\"HBB\"\n",
    "celltype=\"Core_naive_CD4_T_cell\"\n",
    "mean_expression_list<-mclapply(donors,function(i){  \n",
    "\n",
    "print(i)\n",
    "meta_data_donor<-meta_data %>% filter(subject.subjectGuid == i)\n",
    "    \n",
    "df_list<-mclapply(seq(from = 1, to = 4, by = 1),function(x){\n",
    "df<-read.csv(paste0('01A_Mean_Expression_by_Celltype_and_Sample/',pull(meta_data_donor['pbmc_sample_id'])[x],'_AIFI_L3.csv'),row.names = 1,check.names = FALSE)\n",
    "df<-as.data.frame(df)\n",
    "colnames(df)<-paste0(pull(meta_data_donor['sample.visitName'])[x],':',colnames(df))   \n",
    "return(df[c(gene),])\n",
    "},mc.cores=4)\n",
    "\n",
    "df_all<-do.call(cbind,df_list)\n",
    "colnames(df_all)<-gsub(\" \",'_',colnames(df_all))\n",
    "df_all<-as.data.frame(t(df_all[, grepl(celltype, names(df_all), fixed = TRUE)]))\n",
    "df_all$donor<-i\n",
    "df_all$timepoint_celltype<-rownames(df_all)\n",
    "rownames(df_all)<-NULL\n",
    "return(df_all)\n",
    "},mc.cores=30)"
   ]
  },
  {
   "cell_type": "code",
   "execution_count": 34,
   "id": "e0ae5257-3d60-483e-ac78-98f16ad1dbed",
   "metadata": {
    "tags": []
   },
   "outputs": [
    {
     "name": "stderr",
     "output_type": "stream",
     "text": [
      "Warning message:\n",
      "“\u001b[1m\u001b[22mExpected 2 pieces. Missing pieces filled with `NA` in 71 rows [1, 2, 3, 4, 5,\n",
      "6, 7, 8, 9, 10, 11, 12, 13, 14, 15, 16, 17, 18, 19, 20, ...].”\n"
     ]
    }
   ],
   "source": [
    "mean_df<-do.call(rbind,mean_expression_list)%>% \n",
    "  separate(timepoint_celltype, into = c(\"Flu_Year_Day\", \"Cell_Type\"), sep = \":\")"
   ]
  },
  {
   "cell_type": "code",
   "execution_count": 35,
   "id": "24abe760-525c-4f10-bd2c-433d2e750ef7",
   "metadata": {
    "tags": []
   },
   "outputs": [],
   "source": [
    "colnames(mean_df)[1]<-\"mean_expression\""
   ]
  },
  {
   "cell_type": "code",
   "execution_count": 36,
   "id": "c533332d-a6a4-4ec8-ac35-a975e1d53060",
   "metadata": {
    "tags": []
   },
   "outputs": [
    {
     "ename": "ERROR",
     "evalue": "Error in `$<-.data.frame`(`*tmp*`, cohorts, value = character(0)): replacement has 0 rows, data has 71\n",
     "output_type": "error",
     "traceback": [
      "Error in `$<-.data.frame`(`*tmp*`, cohorts, value = character(0)): replacement has 0 rows, data has 71\nTraceback:\n",
      "1. `$<-`(`*tmp*`, cohorts, value = character(0))",
      "2. `$<-.data.frame`(`*tmp*`, cohorts, value = character(0))",
      "3. stop(sprintf(ngettext(N, \"replacement has %d row, data has %d\", \n .     \"replacement has %d rows, data has %d\"), N, nrows), domain = NA)"
     ]
    }
   ],
   "source": [
    "mean_df$cohorts<-substr(mean_df$donor,1,3)\n"
   ]
  },
  {
   "cell_type": "code",
   "execution_count": 37,
   "id": "12a05ac1-0cc1-4fc7-ab9a-ee3e68467670",
   "metadata": {
    "tags": []
   },
   "outputs": [
    {
     "name": "stderr",
     "output_type": "stream",
     "text": [
      "ERROR while rich displaying an object: \u001b[1m\u001b[33mError\u001b[39m in `combine_vars()`:\u001b[22m\n",
      "\u001b[1m\u001b[22m\u001b[33m!\u001b[39m At least one layer must contain all faceting variables: `cohorts`\n",
      "\u001b[31m✖\u001b[39m Plot is missing `cohorts`\n",
      "\u001b[31m✖\u001b[39m Layer 1 is missing `cohorts`\n",
      "\u001b[31m✖\u001b[39m Layer 2 is missing `cohorts`\n",
      "\u001b[31m✖\u001b[39m Layer 3 is missing `cohorts`\n",
      "\n",
      "Traceback:\n",
      "1. tryCatch(withCallingHandlers({\n",
      " .     if (!mime %in% names(repr::mime2repr)) \n",
      " .         stop(\"No repr_* for mimetype \", mime, \" in repr::mime2repr\")\n",
      " .     rpr <- repr::mime2repr[[mime]](obj)\n",
      " .     if (is.null(rpr)) \n",
      " .         return(NULL)\n",
      " .     prepare_content(is.raw(rpr), rpr)\n",
      " . }, error = error_handler), error = outer_handler)\n",
      "2. tryCatchList(expr, classes, parentenv, handlers)\n",
      "3. tryCatchOne(expr, names, parentenv, handlers[[1L]])\n",
      "4. doTryCatch(return(expr), name, parentenv, handler)\n",
      "5. withCallingHandlers({\n",
      " .     if (!mime %in% names(repr::mime2repr)) \n",
      " .         stop(\"No repr_* for mimetype \", mime, \" in repr::mime2repr\")\n",
      " .     rpr <- repr::mime2repr[[mime]](obj)\n",
      " .     if (is.null(rpr)) \n",
      " .         return(NULL)\n",
      " .     prepare_content(is.raw(rpr), rpr)\n",
      " . }, error = error_handler)\n",
      "6. repr::mime2repr[[mime]](obj)\n",
      "7. repr_text.default(obj)\n",
      "8. paste(capture.output(print(obj)), collapse = \"\\n\")\n",
      "9. capture.output(print(obj))\n",
      "10. withVisible(...elt(i))\n",
      "11. print(obj)\n",
      "12. print.ggplot(obj)\n",
      "13. ggplot_build(x)\n",
      "14. ggplot_build.ggplot(x)\n",
      "15. layout$setup(data, plot$data, plot$plot_env)\n",
      "16. setup(..., self = self)\n",
      "17. self$facet$compute_layout(data, self$facet_params)\n",
      "18. compute_layout(..., self = self)\n",
      "19. combine_vars(data, params$plot_env, vars, drop = params$drop)\n",
      "20. cli::cli_abort(c(\"At least one layer must contain all faceting variables: {.var {names(vars)}}\", \n",
      "  .     missing_vars))\n",
      "21. rlang::abort(message, ..., call = call, use_cli_format = TRUE, \n",
      "  .     .frame = .frame)\n",
      "22. signal_abort(cnd, .file)\n"
     ]
    }
   ],
   "source": [
    "options(repr.plot.width = 8, repr.plot.height = 5)\n",
    "\n",
    "ggplot(mean_df, aes(x=Flu_Year_Day, y=mean_expression, color=cohorts))  + \n",
    "  geom_boxplot() + geom_point()+\n",
    "      stat_smooth(aes(group = donor), method = \"lm\",alpha=0.05, se = TRUE) +facet_wrap(~cohorts)+theme_bw(base_size=15)+ \n",
    "theme(axis.text.x = element_text(angle = 90, vjust = 0.5, hjust=1))"
   ]
  },
  {
   "cell_type": "code",
   "execution_count": 38,
   "id": "ab3942c8-2b63-4bd2-915f-4772dec76e55",
   "metadata": {
    "tags": []
   },
   "outputs": [
    {
     "name": "stderr",
     "output_type": "stream",
     "text": [
      "ERROR while rich displaying an object: \u001b[1m\u001b[33mError\u001b[39m in `combine_vars()`:\u001b[22m\n",
      "\u001b[1m\u001b[22m\u001b[33m!\u001b[39m At least one layer must contain all faceting variables: `cohorts`\n",
      "\u001b[31m✖\u001b[39m Plot is missing `cohorts`\n",
      "\u001b[31m✖\u001b[39m Layer 1 is missing `cohorts`\n",
      "\u001b[31m✖\u001b[39m Layer 2 is missing `cohorts`\n",
      "\u001b[31m✖\u001b[39m Layer 3 is missing `cohorts`\n",
      "\n",
      "Traceback:\n",
      "1. tryCatch(withCallingHandlers({\n",
      " .     if (!mime %in% names(repr::mime2repr)) \n",
      " .         stop(\"No repr_* for mimetype \", mime, \" in repr::mime2repr\")\n",
      " .     rpr <- repr::mime2repr[[mime]](obj)\n",
      " .     if (is.null(rpr)) \n",
      " .         return(NULL)\n",
      " .     prepare_content(is.raw(rpr), rpr)\n",
      " . }, error = error_handler), error = outer_handler)\n",
      "2. tryCatchList(expr, classes, parentenv, handlers)\n",
      "3. tryCatchOne(expr, names, parentenv, handlers[[1L]])\n",
      "4. doTryCatch(return(expr), name, parentenv, handler)\n",
      "5. withCallingHandlers({\n",
      " .     if (!mime %in% names(repr::mime2repr)) \n",
      " .         stop(\"No repr_* for mimetype \", mime, \" in repr::mime2repr\")\n",
      " .     rpr <- repr::mime2repr[[mime]](obj)\n",
      " .     if (is.null(rpr)) \n",
      " .         return(NULL)\n",
      " .     prepare_content(is.raw(rpr), rpr)\n",
      " . }, error = error_handler)\n",
      "6. repr::mime2repr[[mime]](obj)\n",
      "7. repr_text.default(obj)\n",
      "8. paste(capture.output(print(obj)), collapse = \"\\n\")\n",
      "9. capture.output(print(obj))\n",
      "10. withVisible(...elt(i))\n",
      "11. print(obj)\n",
      "12. print.ggplot(obj)\n",
      "13. ggplot_build(x)\n",
      "14. ggplot_build.ggplot(x)\n",
      "15. layout$setup(data, plot$data, plot$plot_env)\n",
      "16. setup(..., self = self)\n",
      "17. self$facet$compute_layout(data, self$facet_params)\n",
      "18. compute_layout(..., self = self)\n",
      "19. combine_vars(data, params$plot_env, vars, drop = params$drop)\n",
      "20. cli::cli_abort(c(\"At least one layer must contain all faceting variables: {.var {names(vars)}}\", \n",
      "  .     missing_vars))\n",
      "21. rlang::abort(message, ..., call = call, use_cli_format = TRUE, \n",
      "  .     .frame = .frame)\n",
      "22. signal_abort(cnd, .file)\n"
     ]
    }
   ],
   "source": [
    "options(repr.plot.width = 8, repr.plot.height = 5)\n",
    "\n",
    "ggplot(mean_df, aes(x=Flu_Year_Day, y=mean_expression, color=cohorts))  + \n",
    "  geom_boxplot() + geom_point()+\n",
    "      stat_smooth(aes(group = cohorts), method = \"lm\",alpha=0.05, se = TRUE) +facet_wrap(~cohorts)+theme_bw(base_size=15)+ \n",
    "theme(axis.text.x = element_text(angle = 90, vjust = 0.5, hjust=1))\n"
   ]
  },
  {
   "cell_type": "code",
   "execution_count": null,
   "id": "cafda337-9258-4d49-9932-c87585922d8d",
   "metadata": {},
   "outputs": [],
   "source": []
  }
 ],
 "metadata": {
  "kernelspec": {
   "display_name": "R 4",
   "language": "R",
   "name": "ir4"
  },
  "language_info": {
   "codemirror_mode": "r",
   "file_extension": ".r",
   "mimetype": "text/x-r-source",
   "name": "R",
   "pygments_lexer": "r",
   "version": "4.3.1"
  }
 },
 "nbformat": 4,
 "nbformat_minor": 5
}
