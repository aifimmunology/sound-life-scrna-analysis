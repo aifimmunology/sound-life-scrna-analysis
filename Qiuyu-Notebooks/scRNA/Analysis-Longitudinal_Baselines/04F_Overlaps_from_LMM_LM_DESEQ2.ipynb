{
 "cells": [
  {
   "cell_type": "code",
   "execution_count": 1,
   "id": "394f0ba8-e792-4c92-bfcb-1339df01415e",
   "metadata": {
    "collapsed": true,
    "jupyter": {
     "outputs_hidden": true
    },
    "tags": []
   },
   "outputs": [
    {
     "name": "stderr",
     "output_type": "stream",
     "text": [
      "\n",
      "Attaching package: ‘ggpubr’\n",
      "\n",
      "\n",
      "The following object is masked from ‘package:plyr’:\n",
      "\n",
      "    mutate\n",
      "\n",
      "\n",
      "\n",
      "Attaching package: ‘rstatix’\n",
      "\n",
      "\n",
      "The following objects are masked from ‘package:plyr’:\n",
      "\n",
      "    desc, mutate\n",
      "\n",
      "\n",
      "The following object is masked from ‘package:stats’:\n",
      "\n",
      "    filter\n",
      "\n",
      "\n"
     ]
    }
   ],
   "source": [
    "suppressPackageStartupMessages(library(plyr))\n",
    "suppressPackageStartupMessages(library(dplyr))\n",
    "suppressPackageStartupMessages(library(tidyr))\n",
    "suppressPackageStartupMessages(library(tibble))\n",
    "suppressPackageStartupMessages(library(ggplot2))\n",
    "library(parallel)\n",
    "library(ggpubr)\n",
    "library(rstatix)\n",
    "library(parallel)\n",
    "library(ggpubr)\n",
    "library(anndata)\n",
    "library(ggsci)\n",
    "library(ggrepel)\n",
    "library(patchwork)"
   ]
  },
  {
   "cell_type": "markdown",
   "id": "2d25cc2c-f0aa-4bf5-a677-9b75c476a08c",
   "metadata": {},
   "source": []
  },
  {
   "cell_type": "markdown",
   "id": "3f2cc86d-f584-46c1-b010-11a626a1f450",
   "metadata": {
    "tags": []
   },
   "source": [
    "# get Aging related DEGs per cell type"
   ]
  },
  {
   "cell_type": "code",
   "execution_count": 15,
   "id": "e020cc95-7da9-4b41-bd6f-a1d24d13a802",
   "metadata": {
    "tags": []
   },
   "outputs": [],
   "source": [
    "file_list<-list.files(path ='/home//jupyter/BRI_Analysis/scRNA/Analysis-Cross-Sectional/02B_DESeq2_BR1_VS_BR2_L3', pattern = \".csv\", all.files = FALSE,\n",
    "           full.names = TRUE, recursive = FALSE,\n",
    "           ignore.case = FALSE, include.dirs = TRUE, no.. = FALSE)"
   ]
  },
  {
   "cell_type": "code",
   "execution_count": 16,
   "id": "84fc3e4e-09ab-4097-9f61-36508097037a",
   "metadata": {
    "tags": []
   },
   "outputs": [],
   "source": [
    "DEG_list<-mclapply(file_list,read.csv,mc.cores=length(file_list))\n",
    "DEG<-do.call(rbind,DEG_list)"
   ]
  },
  {
   "cell_type": "code",
   "execution_count": 17,
   "id": "a263a98a-b456-476d-bd80-431311d553d5",
   "metadata": {
    "tags": []
   },
   "outputs": [],
   "source": [
    "DEG<- DEG%>% mutate(Expression = case_when(log2FoldChange >=0.1 & padj <=  0.05 ~ \"Up-regulated-BR1\",\n",
    "                                                     log2FoldChange <= -0.1 & padj <= 0.05 ~ \"Down-regulated-BR1\",\n",
    "                                                     TRUE ~ \"Unchanged\"))"
   ]
  },
  {
   "cell_type": "code",
   "execution_count": 18,
   "id": "7c25e6d2-e516-4505-b16c-fa64a462da7c",
   "metadata": {
    "tags": []
   },
   "outputs": [],
   "source": [
    "DEG_filtered<-DEG %>% filter(!Expression=='Unchanged')"
   ]
  },
  {
   "cell_type": "markdown",
   "id": "c3c9c3a9-e84f-4bf6-8b62-5dc9bace15f9",
   "metadata": {},
   "source": [
    "# get LM res from chronological aging"
   ]
  },
  {
   "cell_type": "code",
   "execution_count": 19,
   "id": "51f4ac5d-341b-461a-8567-9ae4c9549080",
   "metadata": {
    "tags": []
   },
   "outputs": [],
   "source": [
    "file_list<-list.files(path ='/home//jupyter/BRI_Analysis/scRNA/Analysis-Longitudinal_Baselines/04B_LMM_Ages/', pattern = \".csv\", all.files = FALSE,\n",
    "           full.names = TRUE, recursive = FALSE,\n",
    "           ignore.case = FALSE, include.dirs = TRUE, no.. = FALSE)"
   ]
  },
  {
   "cell_type": "code",
   "execution_count": 20,
   "id": "9e2e8541-27ca-4f3d-87c7-6577bc4ff30b",
   "metadata": {
    "tags": []
   },
   "outputs": [],
   "source": [
    "LMM_list<-mclapply(file_list,read.csv,mc.cores=length(file_list))\n",
    "LMM_res<-do.call(rbind,LMM_list) %>%\n",
    "  filter(factor == 'Ages') %>%\n",
    "  group_by(celltype) %>%\n",
    "  mutate(padj = p.adjust(`Pr...t..`, method = 'BH')) \n",
    "LMM_res$p.normal<-LMM_res$`Pr...t..`"
   ]
  },
  {
   "cell_type": "code",
   "execution_count": 21,
   "id": "baced5ee-a48d-4651-a869-8dce7bfb70e3",
   "metadata": {
    "tags": []
   },
   "outputs": [],
   "source": [
    "LMM_res$Estimate<-as.numeric(LMM_res$Estimate)"
   ]
  },
  {
   "cell_type": "code",
   "execution_count": 22,
   "id": "12603fec-45fd-41ad-acb5-f2f7e1e3399e",
   "metadata": {
    "tags": []
   },
   "outputs": [],
   "source": [
    "LMM_res_aging<-LMM_res"
   ]
  },
  {
   "cell_type": "markdown",
   "id": "cfdc6e6e-ef31-4b68-9706-00a081f38135",
   "metadata": {
    "tags": []
   },
   "source": [
    "# get LMM from 2 years time "
   ]
  },
  {
   "cell_type": "code",
   "execution_count": 23,
   "id": "377094e0-4832-4934-a928-35aa21c7aa3e",
   "metadata": {
    "tags": []
   },
   "outputs": [],
   "source": [
    "file_list<-list.files(path ='/home//jupyter/BRI_Analysis/scRNA/Analysis-Longitudinal_Baselines/04C_LMM_Time', pattern = \".csv\", all.files = FALSE,\n",
    "           full.names = TRUE, recursive = FALSE,\n",
    "           ignore.case = FALSE, include.dirs = TRUE, no.. = FALSE)"
   ]
  },
  {
   "cell_type": "code",
   "execution_count": 24,
   "id": "e36a27c7-5e4e-4a1f-8b61-c2a24757e1e8",
   "metadata": {
    "tags": []
   },
   "outputs": [],
   "source": [
    "LMM_list<-mclapply(file_list,read.csv,mc.cores=length(file_list))\n",
    "LMM_res<-do.call(rbind,LMM_list) %>%\n",
    "  filter(factor == 'sample.daysSinceFirstVisit') %>%\n",
    "  group_by(celltype) %>%\n",
    "  mutate(padj = p.adjust(`Pr...t..`, method = 'BH')) \n",
    "LMM_res$p.normal<-LMM_res$`Pr...t..`\n"
   ]
  },
  {
   "cell_type": "code",
   "execution_count": 25,
   "id": "0851d69e-4c02-4d73-a48f-aa0ededa083d",
   "metadata": {
    "tags": []
   },
   "outputs": [],
   "source": [
    "LMM_res$Estimate<-as.numeric(LMM_res$Estimate)"
   ]
  },
  {
   "cell_type": "code",
   "execution_count": 26,
   "id": "b09e6803-dff3-48c6-948d-1f96aab63e07",
   "metadata": {
    "tags": []
   },
   "outputs": [],
   "source": [
    "LMM_res_time<-LMM_res"
   ]
  },
  {
   "cell_type": "markdown",
   "id": "954926e1-d5d8-4b62-be74-a11750447a38",
   "metadata": {},
   "source": [
    "# "
   ]
  }
 ],
 "metadata": {
  "kernelspec": {
   "display_name": "R 4",
   "language": "R",
   "name": "ir4"
  },
  "language_info": {
   "codemirror_mode": "r",
   "file_extension": ".r",
   "mimetype": "text/x-r-source",
   "name": "R",
   "pygments_lexer": "r",
   "version": "4.3.1"
  }
 },
 "nbformat": 4,
 "nbformat_minor": 5
}
