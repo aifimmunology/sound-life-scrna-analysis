{
 "cells": [
  {
   "cell_type": "code",
   "execution_count": 21,
   "id": "1b1fa87a-9cde-4372-a665-4ee6be1d7ef8",
   "metadata": {
    "tags": []
   },
   "outputs": [],
   "source": [
    "suppressPackageStartupMessages(library(plyr))\n",
    "suppressPackageStartupMessages(library(dplyr))\n",
    "suppressPackageStartupMessages(library(tidyr))\n",
    "suppressPackageStartupMessages(library(tibble))\n",
    "suppressPackageStartupMessages(library(ggplot2))\n",
    "suppressPackageStartupMessages(library(DESeq2))\n",
    "suppressPackageStartupMessages(library(stringr))\n",
    "library(parallel)\n",
    "library(ggpubr)\n",
    "library(rstatix)\n",
    "library(parallel)\n",
    "library(ggpubr)\n",
    "library(anndata)\n",
    "library(ggsci)\n",
    "library(ggrepel)"
   ]
  },
  {
   "cell_type": "code",
   "execution_count": 2,
   "id": "3fe532c7-45ad-4e59-93f1-eb37510cc951",
   "metadata": {
    "tags": []
   },
   "outputs": [],
   "source": [
    "\n",
    "meta_data<-read.csv('/home//jupyter/BRI_Analysis/scRNA/hise_meta_data_2024-01-23_fixed.csv')\n"
   ]
  },
  {
   "cell_type": "code",
   "execution_count": 9,
   "id": "49712e42-60a0-4810-9085-f5836c86c0e5",
   "metadata": {
    "tags": []
   },
   "outputs": [],
   "source": [
    "meta_data<-meta_data %>% filter(Covid_exlcusion=='no',sample.visitName %in% c('Flu Year 1 Day 0'))\n",
    "meta_data$Ages<-as.numeric(substr(meta_data$sample.drawDate,1,4))-meta_data$subject.birthYear"
   ]
  },
  {
   "cell_type": "code",
   "execution_count": 116,
   "id": "0bbd87fb-e342-4570-a461-a0a32e722cf4",
   "metadata": {
    "tags": []
   },
   "outputs": [],
   "source": [
    "meta_data_subset<-meta_data#%>% filter(cohort.cohortGuid %in% c('BR2'))\n",
    "meta_data_subset$Ages_scaled<-scale(meta_data_subset$Ages)\n",
    "bulk_list<-mclapply(meta_data_subset$pbmc_sample_id,function(x){\n",
    "\n",
    "pbmc <-sceasy::convertFormat(paste0('/home/jupyter/BRI_Analysis/scRNA/h5_cleaned_by_sample/',x,'.h5ad'), from=\"anndata\", to=\"seurat\")\n",
    "bulk <- Seurat:::PseudobulkExpression(object = pbmc, pb.method = 'aggregate',   group.by = \"AIFI_L3\",slot = 'counts')$RNA\n",
    "colnames(bulk)<-paste0(x,\":\",colnames(bulk))\n",
    "return(bulk)\n",
    "\n",
    "},mc.cores=60)\n",
    "\n"
   ]
  },
  {
   "cell_type": "code",
   "execution_count": 125,
   "id": "c41d8924-5397-4f26-932d-a45171327153",
   "metadata": {
    "tags": []
   },
   "outputs": [],
   "source": [
    "selected_gene_list<-read.csv('filtered_gene_list.csv')"
   ]
  },
  {
   "cell_type": "code",
   "execution_count": 118,
   "id": "ff3ba5b9-742e-4450-a3d5-b99cc6ab4030",
   "metadata": {
    "tags": []
   },
   "outputs": [],
   "source": [
    "celltype='Core naive CD4 T cell'"
   ]
  },
  {
   "cell_type": "code",
   "execution_count": 126,
   "id": "06cf1c1f-84a6-40d8-b9ed-35f795608ca4",
   "metadata": {
    "tags": []
   },
   "outputs": [
    {
     "name": "stderr",
     "output_type": "stream",
     "text": [
      "\u001b[1m\u001b[22mJoining with `by = join_by(pbmc_sample_id)`\n",
      "converting counts to integer mode\n",
      "\n",
      "Warning message in DESeqDataSet(se, design = design, ignoreRank):\n",
      "“some variables in design formula are characters, converting to factors”\n",
      "estimating size factors\n",
      "\n",
      "estimating dispersions\n",
      "\n",
      "gene-wise dispersion estimates\n",
      "\n",
      "mean-dispersion relationship\n",
      "\n",
      "-- note: fitType='parametric', but the dispersion trend was not well captured by the\n",
      "   function: y = a/x + b, and a local regression fit was automatically substituted.\n",
      "   specify fitType='local' or 'mean' to avoid this message next time.\n",
      "\n",
      "final dispersion estimates\n",
      "\n",
      "fitting model and testing\n",
      "\n"
     ]
    }
   ],
   "source": [
    "matirx_list<-mclapply(bulk_list,function(bulk_matrix){\n",
    "\n",
    "matching_columns <- grepl(celltype, colnames(bulk_matrix),, fixed = TRUE)\n",
    "matching_columns<-colnames(bulk_matrix)[matching_columns]\n",
    "bulk_matrix_single <- as.data.frame(bulk_matrix[, matching_columns, drop = FALSE])\n",
    "return(bulk_matrix_single)\n",
    "},mc.cores=60)\n",
    "\n",
    "df_all<-do.call(cbind,matirx_list)\n",
    "df_meta_data<-as.data.frame(colnames(df_all))\n",
    "colnames(df_meta_data)<-'sample_name'\n",
    "split_columns <- strsplit(df_meta_data$sample_name, \":\")\n",
    "df_meta_data$pbmc_sample_id <- sapply(split_columns, `[`, 1)\n",
    "df_meta_data$AIFI_L3 <- sapply(split_columns, `[`, 2)\n",
    "df_meta_data<-left_join(df_meta_data,meta_data_subset)\n",
    "rownames(df_meta_data)<-df_meta_data$sample_name\n",
    "selGenes<-selected_gene_list %>% filter(AIFI_L3==celltype) %>% select(gene) %>% pull()  \n",
    "\n",
    "dds <- DESeqDataSetFromMatrix(df_all[selGenes,], colData = df_meta_data, \n",
    "                              design = ~  Ages_scaled+subject.biologicalSex+Ages_scaled*cohort.cohortGuid+\n",
    "                                          CMV.IgG.Serology.Result.Interpretation)\n",
    "dds <- DESeq(dds,parallel=FALSE)"
   ]
  },
  {
   "cell_type": "code",
   "execution_count": 147,
   "id": "1d0590e6-411c-4c26-9b1f-c8034155fab9",
   "metadata": {
    "tags": []
   },
   "outputs": [
    {
     "data": {
      "text/html": [
       "<table class=\"dataframe\">\n",
       "<caption>A data.frame: 1 × 6</caption>\n",
       "<thead>\n",
       "\t<tr><th></th><th scope=col>Intercept</th><th scope=col>Ages_scaled</th><th scope=col>subject.biologicalSex_Male_vs_Female</th><th scope=col>cohort.cohortGuid_BR2_vs_BR1</th><th scope=col>CMV.IgG.Serology.Result.Interpretation_Positive_vs_Negative</th><th scope=col>Ages_scaled.cohort.cohortGuidBR2</th></tr>\n",
       "\t<tr><th></th><th scope=col>&lt;dbl&gt;</th><th scope=col>&lt;dbl&gt;</th><th scope=col>&lt;dbl&gt;</th><th scope=col>&lt;dbl&gt;</th><th scope=col>&lt;dbl&gt;</th><th scope=col>&lt;dbl&gt;</th></tr>\n",
       "</thead>\n",
       "<tbody>\n",
       "\t<tr><th scope=row>TSHZ2</th><td>10.38443</td><td>0.2753116</td><td>0.2202245</td><td>0.02251692</td><td>0.04835667</td><td>-0.0458585</td></tr>\n",
       "</tbody>\n",
       "</table>\n"
      ],
      "text/latex": [
       "A data.frame: 1 × 6\n",
       "\\begin{tabular}{r|llllll}\n",
       "  & Intercept & Ages\\_scaled & subject.biologicalSex\\_Male\\_vs\\_Female & cohort.cohortGuid\\_BR2\\_vs\\_BR1 & CMV.IgG.Serology.Result.Interpretation\\_Positive\\_vs\\_Negative & Ages\\_scaled.cohort.cohortGuidBR2\\\\\n",
       "  & <dbl> & <dbl> & <dbl> & <dbl> & <dbl> & <dbl>\\\\\n",
       "\\hline\n",
       "\tTSHZ2 & 10.38443 & 0.2753116 & 0.2202245 & 0.02251692 & 0.04835667 & -0.0458585\\\\\n",
       "\\end{tabular}\n"
      ],
      "text/markdown": [
       "\n",
       "A data.frame: 1 × 6\n",
       "\n",
       "| <!--/--> | Intercept &lt;dbl&gt; | Ages_scaled &lt;dbl&gt; | subject.biologicalSex_Male_vs_Female &lt;dbl&gt; | cohort.cohortGuid_BR2_vs_BR1 &lt;dbl&gt; | CMV.IgG.Serology.Result.Interpretation_Positive_vs_Negative &lt;dbl&gt; | Ages_scaled.cohort.cohortGuidBR2 &lt;dbl&gt; |\n",
       "|---|---|---|---|---|---|---|\n",
       "| TSHZ2 | 10.38443 | 0.2753116 | 0.2202245 | 0.02251692 | 0.04835667 | -0.0458585 |\n",
       "\n"
      ],
      "text/plain": [
       "      Intercept Ages_scaled subject.biologicalSex_Male_vs_Female\n",
       "TSHZ2 10.38443  0.2753116   0.2202245                           \n",
       "      cohort.cohortGuid_BR2_vs_BR1\n",
       "TSHZ2 0.02251692                  \n",
       "      CMV.IgG.Serology.Result.Interpretation_Positive_vs_Negative\n",
       "TSHZ2 0.04835667                                                 \n",
       "      Ages_scaled.cohort.cohortGuidBR2\n",
       "TSHZ2 -0.0458585                      "
      ]
     },
     "metadata": {},
     "output_type": "display_data"
    }
   ],
   "source": [
    "data.frame(coef(dds))['TSHZ2',]"
   ]
  },
  {
   "cell_type": "code",
   "execution_count": 148,
   "id": "0d72df80-72ea-437d-956e-761eec7ee8eb",
   "metadata": {
    "collapsed": true,
    "jupyter": {
     "outputs_hidden": true
    },
    "tags": []
   },
   "outputs": [
    {
     "ename": "ERROR",
     "evalue": "Error: subscript contains invalid names\n",
     "output_type": "error",
     "traceback": [
      "Error: subscript contains invalid names\nTraceback:\n",
      "1. results(dds, name = \"Ages_scaled.cohort.cohortGuid\")",
      "2. getCoef(object, name)",
      "3. mcols(object)[name]",
      "4. mcols(object)[name]",
      "5. extractCOLS(x, j)",
      "6. extractCOLS(x, j)",
      "7. normalizeSingleBracketSubscript(i, xstub)",
      "8. NSBS(i, x, exact = exact, strict.upper.bound = !allow.append, \n .     allow.NAs = allow.NAs)",
      "9. NSBS(i, x, exact = exact, strict.upper.bound = !allow.append, \n .     allow.NAs = allow.NAs)",
      "10. .subscript_error(\"subscript contains invalid \", what)",
      "11. stop(wmsg(...), call. = FALSE)"
     ]
    }
   ],
   "source": [
    "res <-  results(dds, name=\"Ages_scaled.cohort.cohortGuid\")\n"
   ]
  },
  {
   "cell_type": "code",
   "execution_count": null,
   "id": "c382f801-a4aa-42a6-afeb-618c35e3be3c",
   "metadata": {},
   "outputs": [],
   "source": [
    "for (celltype in unique(selected_gene_list$AIFI_L3)){\n",
    "print(celltype)\n",
    "\n",
    "    \n",
    "matirx_list<-mclapply(bulk_list,function(bulk_matrix){\n",
    "\n",
    "matching_columns <- grepl(celltype, colnames(bulk_matrix),, fixed = TRUE)\n",
    "matching_columns<-colnames(bulk_matrix)[matching_columns]\n",
    "bulk_matrix_single <- as.data.frame(bulk_matrix[, matching_columns, drop = FALSE])\n",
    "return(bulk_matrix_single)\n",
    "},mc.cores=60)\n",
    "\n",
    "df_all<-do.call(cbind,matirx_list)\n",
    "df_meta_data<-as.data.frame(colnames(df_all))\n",
    "colnames(df_meta_data)<-'sample_name'\n",
    "split_columns <- strsplit(df_meta_data$sample_name, \":\")\n",
    "df_meta_data$pbmc_sample_id <- sapply(split_columns, `[`, 1)\n",
    "df_meta_data$AIFI_L3 <- sapply(split_columns, `[`, 2)\n",
    "df_meta_data<-left_join(df_meta_data,meta_data_subset)\n",
    "rownames(df_meta_data)<-df_meta_data$sample_name\n",
    "selGenes<-selected_gene_list %>% filter(AIFI_L3==celltype) %>% select(gene) %>% pull()  \n",
    "\n",
    "dds <- DESeqDataSetFromMatrix(df_all[selGenes,], colData = df_meta_data, \n",
    "                              design = ~  Ages+subject.biologicalSex+\n",
    "                                          CMV.IgG.Serology.Result.Interpretation)\n",
    "dds <- DESeq(dds,parallel=FALSE)\n",
    "\n",
    "res <- data.frame(results(dds,contrast=c(\"sample.visitName\", \"Flu Year 1 Day 0\", \"Flu Year 2 Day 0\")))\n",
    "res$celltype<-celltype\n",
    "res=res %>% arrange(padj) %>% mutate(Direction=case_when(log2FoldChange<0~'HigherInY2D0',log2FoldChange>0~'HigherInY1D0'))\n",
    "res$Year<-\"Y1\"\n",
    "write.csv(res,paste0(\"01B_DESeq2_Y1D0_VS_Y2D0_L3/\",celltype,\"_\",Cohort,\".csv\"))\n",
    "\n",
    "}"
   ]
  }
 ],
 "metadata": {
  "kernelspec": {
   "display_name": "R 4",
   "language": "R",
   "name": "ir4"
  },
  "language_info": {
   "codemirror_mode": "r",
   "file_extension": ".r",
   "mimetype": "text/x-r-source",
   "name": "R",
   "pygments_lexer": "r",
   "version": "4.3.1"
  }
 },
 "nbformat": 4,
 "nbformat_minor": 5
}
