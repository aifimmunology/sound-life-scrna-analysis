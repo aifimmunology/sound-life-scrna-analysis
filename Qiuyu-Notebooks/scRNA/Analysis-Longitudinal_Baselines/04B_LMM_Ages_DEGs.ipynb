{
 "cells": [
  {
   "cell_type": "code",
   "execution_count": 1,
   "id": "294cff7a-58d3-4ed6-8f47-11d2cb396364",
   "metadata": {
    "collapsed": true,
    "jupyter": {
     "outputs_hidden": true
    },
    "tags": []
   },
   "outputs": [
    {
     "name": "stderr",
     "output_type": "stream",
     "text": [
      "Loading required package: lme4\n",
      "\n",
      "Loading required package: Matrix\n",
      "\n",
      "\n",
      "Attaching package: ‘Matrix’\n",
      "\n",
      "\n",
      "The following object is masked from ‘package:S4Vectors’:\n",
      "\n",
      "    expand\n",
      "\n",
      "\n",
      "The following objects are masked from ‘package:tidyr’:\n",
      "\n",
      "    expand, pack, unpack\n",
      "\n",
      "\n",
      "\n",
      "Attaching package: ‘lmerTest’\n",
      "\n",
      "\n",
      "The following object is masked from ‘package:lme4’:\n",
      "\n",
      "    lmer\n",
      "\n",
      "\n",
      "The following object is masked from ‘package:stats’:\n",
      "\n",
      "    step\n",
      "\n",
      "\n",
      "\n",
      "Attaching package: ‘ggpubr’\n",
      "\n",
      "\n",
      "The following object is masked from ‘package:plyr’:\n",
      "\n",
      "    mutate\n",
      "\n",
      "\n",
      "\n",
      "Attaching package: ‘rstatix’\n",
      "\n",
      "\n",
      "The following object is masked from ‘package:IRanges’:\n",
      "\n",
      "    desc\n",
      "\n",
      "\n",
      "The following objects are masked from ‘package:plyr’:\n",
      "\n",
      "    desc, mutate\n",
      "\n",
      "\n",
      "The following object is masked from ‘package:stats’:\n",
      "\n",
      "    filter\n",
      "\n",
      "\n"
     ]
    }
   ],
   "source": [
    "suppressPackageStartupMessages(library(plyr))\n",
    "suppressPackageStartupMessages(library(dplyr))\n",
    "suppressPackageStartupMessages(library(tidyr))\n",
    "suppressPackageStartupMessages(library(tibble))\n",
    "suppressPackageStartupMessages(library(ggplot2))\n",
    "suppressPackageStartupMessages(library(DESeq2))\n",
    "library(lmerTest)\n",
    "suppressPackageStartupMessages(library(lme4))\n",
    "library(parallel)\n",
    "library(ggpubr)\n",
    "library(rstatix)\n",
    "library(parallel)\n",
    "library(ggpubr)\n",
    "library(anndata)\n",
    "library(ggsci)\n",
    "library(ggrepel)\n",
    "library(performance)\n",
    "library(sjPlot)"
   ]
  },
  {
   "cell_type": "code",
   "execution_count": 2,
   "id": "6a66550e-033f-4df3-b63d-6904af2288f2",
   "metadata": {
    "tags": []
   },
   "outputs": [],
   "source": [
    "meta_data<-read.csv('/home//jupyter/BRI_Analysis/scRNA/hise_meta_data_2024-01-23_fixed.csv')\n",
    "meta_data<-meta_data %>% filter(Covid_exlcusion=='no')"
   ]
  },
  {
   "cell_type": "markdown",
   "id": "78f9acfd-dffa-48e6-8dfb-f02132d588a0",
   "metadata": {
    "tags": []
   },
   "source": [
    "# Get Aging related DEGs per cell type"
   ]
  },
  {
   "cell_type": "code",
   "execution_count": 3,
   "id": "2f7abe67-8202-4bf9-83be-1b3de70ea7a5",
   "metadata": {
    "tags": []
   },
   "outputs": [],
   "source": [
    "levels='L3'\n",
    "file_list<-list.files(path ='/home//jupyter/BRI_Analysis/scRNA/Analysis-Cross-Sectional/02B_DESeq2_BR1_VS_BR2_L3', pattern = \".csv\", all.files = FALSE,\n",
    "           full.names = TRUE, recursive = FALSE,\n",
    "           ignore.case = FALSE, include.dirs = TRUE, no.. = FALSE)"
   ]
  },
  {
   "cell_type": "code",
   "execution_count": 4,
   "id": "99a892f2-fd75-4774-8e77-b4bff3d28351",
   "metadata": {
    "tags": []
   },
   "outputs": [],
   "source": [
    "DEG_list<-mclapply(file_list,read.csv,mc.cores=length(file_list))\n",
    "DEG<-do.call(rbind,DEG_list)"
   ]
  },
  {
   "cell_type": "code",
   "execution_count": 5,
   "id": "ffc93f31-3f7b-4ad1-8306-6e285b3eed9f",
   "metadata": {
    "tags": []
   },
   "outputs": [],
   "source": [
    "DEG<- DEG%>% mutate(Expression = case_when(log2FoldChange >=0.1 & padj <=  0.05 ~ \"Up-regulated-BR1\",\n",
    "                                                     log2FoldChange <= -0.1 & padj <= 0.05 ~ \"Down-regulated-BR1\",\n",
    "                                                     TRUE ~ \"Unchanged\"))"
   ]
  },
  {
   "cell_type": "code",
   "execution_count": 6,
   "id": "896e757c-72d8-45cc-a550-2278469a154f",
   "metadata": {
    "tags": []
   },
   "outputs": [],
   "source": [
    "DEG_filtered<-DEG %>% filter(!Expression=='Unchanged')"
   ]
  },
  {
   "cell_type": "markdown",
   "id": "d1a3a4d1-60e1-4c11-9b6a-a257e4e1058e",
   "metadata": {},
   "source": [
    "# Using LMM to test chronological aging effect "
   ]
  },
  {
   "cell_type": "code",
   "execution_count": 13,
   "id": "808a23f9-3cc4-4f75-ae82-35f40cbe1973",
   "metadata": {
    "tags": []
   },
   "outputs": [],
   "source": [
    "meta_data_D0<-meta_data  %>% filter(sample.visitName %in% c('Flu Year 1 Day 0'))"
   ]
  },
  {
   "cell_type": "code",
   "execution_count": 14,
   "id": "99f90e78-f29f-41cc-a934-19b5f6a8b4fb",
   "metadata": {
    "tags": []
   },
   "outputs": [],
   "source": [
    "meta_data_D0$Ages<-as.numeric(substr(meta_data_D0$sample.drawDate,1,4))-meta_data_D0$subject.birthYear"
   ]
  },
  {
   "cell_type": "code",
   "execution_count": 8,
   "id": "3f9c3033-637f-4014-b23e-9c653c4cbe5b",
   "metadata": {
    "tags": []
   },
   "outputs": [],
   "source": [
    "selected_celltype<-unique(DEG_filtered$celltype)"
   ]
  },
  {
   "cell_type": "code",
   "execution_count": 17,
   "id": "f6037ee0-785f-417c-806f-d8174a510d22",
   "metadata": {
    "collapsed": true,
    "jupyter": {
     "outputs_hidden": true
    },
    "tags": []
   },
   "outputs": [
    {
     "name": "stdout",
     "output_type": "stream",
     "text": [
      "[1] \"CD27- effector B cell\"\n",
      "[1] 6\n"
     ]
    },
    {
     "name": "stderr",
     "output_type": "stream",
     "text": [
      "\u001b[1m\u001b[22mJoining with `by = join_by(pbmc_sample_id)`\n"
     ]
    },
    {
     "name": "stdout",
     "output_type": "stream",
     "text": [
      "[1] \"CD27+ effector B cell\"\n",
      "[1] 5\n"
     ]
    },
    {
     "name": "stderr",
     "output_type": "stream",
     "text": [
      "\u001b[1m\u001b[22mJoining with `by = join_by(pbmc_sample_id)`\n"
     ]
    },
    {
     "name": "stdout",
     "output_type": "stream",
     "text": [
      "[1] \"CD4 MAIT\"\n",
      "[1] 5\n"
     ]
    },
    {
     "name": "stderr",
     "output_type": "stream",
     "text": [
      "\u001b[1m\u001b[22mJoining with `by = join_by(pbmc_sample_id)`\n"
     ]
    },
    {
     "name": "stdout",
     "output_type": "stream",
     "text": [
      "[1] \"CD56bright NK cell\"\n",
      "[1] 1\n"
     ]
    },
    {
     "name": "stderr",
     "output_type": "stream",
     "text": [
      "\u001b[1m\u001b[22mJoining with `by = join_by(pbmc_sample_id)`\n"
     ]
    },
    {
     "name": "stdout",
     "output_type": "stream",
     "text": [
      "[1] \"CD8 MAIT\"\n",
      "[1] 9\n"
     ]
    },
    {
     "name": "stderr",
     "output_type": "stream",
     "text": [
      "\u001b[1m\u001b[22mJoining with `by = join_by(pbmc_sample_id)`\n"
     ]
    },
    {
     "name": "stdout",
     "output_type": "stream",
     "text": [
      "[1] \"CD8aa\"\n",
      "[1] 186\n"
     ]
    },
    {
     "name": "stderr",
     "output_type": "stream",
     "text": [
      "\u001b[1m\u001b[22mJoining with `by = join_by(pbmc_sample_id)`\n"
     ]
    },
    {
     "name": "stdout",
     "output_type": "stream",
     "text": [
      "[1] \"cDC1\"\n",
      "[1] 1\n"
     ]
    },
    {
     "name": "stderr",
     "output_type": "stream",
     "text": [
      "\u001b[1m\u001b[22mJoining with `by = join_by(pbmc_sample_id)`\n"
     ]
    },
    {
     "name": "stdout",
     "output_type": "stream",
     "text": [
      "[1] \"CM CD4 T cell\"\n",
      "[1] 142\n"
     ]
    },
    {
     "name": "stderr",
     "output_type": "stream",
     "text": [
      "\u001b[1m\u001b[22mJoining with `by = join_by(pbmc_sample_id)`\n"
     ]
    },
    {
     "name": "stdout",
     "output_type": "stream",
     "text": [
      "[1] \"CM CD8 T cell\"\n",
      "[1] 242\n"
     ]
    },
    {
     "name": "stderr",
     "output_type": "stream",
     "text": [
      "\u001b[1m\u001b[22mJoining with `by = join_by(pbmc_sample_id)`\n"
     ]
    },
    {
     "name": "stdout",
     "output_type": "stream",
     "text": [
      "[1] \"Core CD14 monocyte\"\n",
      "[1] 22\n"
     ]
    },
    {
     "name": "stderr",
     "output_type": "stream",
     "text": [
      "\u001b[1m\u001b[22mJoining with `by = join_by(pbmc_sample_id)`\n"
     ]
    },
    {
     "name": "stdout",
     "output_type": "stream",
     "text": [
      "[1] \"Core CD16 monocyte\"\n",
      "[1] 3\n"
     ]
    },
    {
     "name": "stderr",
     "output_type": "stream",
     "text": [
      "\u001b[1m\u001b[22mJoining with `by = join_by(pbmc_sample_id)`\n"
     ]
    },
    {
     "name": "stdout",
     "output_type": "stream",
     "text": [
      "[1] \"Core memory B cell\"\n",
      "[1] 23\n"
     ]
    },
    {
     "name": "stderr",
     "output_type": "stream",
     "text": [
      "\u001b[1m\u001b[22mJoining with `by = join_by(pbmc_sample_id)`\n"
     ]
    },
    {
     "name": "stdout",
     "output_type": "stream",
     "text": [
      "[1] \"Core naive B cell\"\n",
      "[1] 1\n"
     ]
    },
    {
     "name": "stderr",
     "output_type": "stream",
     "text": [
      "\u001b[1m\u001b[22mJoining with `by = join_by(pbmc_sample_id)`\n"
     ]
    },
    {
     "name": "stdout",
     "output_type": "stream",
     "text": [
      "[1] \"Core naive CD4 T cell\"\n",
      "[1] 358\n"
     ]
    },
    {
     "name": "stderr",
     "output_type": "stream",
     "text": [
      "\u001b[1m\u001b[22mJoining with `by = join_by(pbmc_sample_id)`\n"
     ]
    },
    {
     "name": "stdout",
     "output_type": "stream",
     "text": [
      "[1] \"Core naive CD8 T cell \"\n",
      "[1] 211\n"
     ]
    },
    {
     "name": "stderr",
     "output_type": "stream",
     "text": [
      "\u001b[1m\u001b[22mJoining with `by = join_by(pbmc_sample_id)`\n"
     ]
    },
    {
     "name": "stdout",
     "output_type": "stream",
     "text": [
      "[1] \"DN T cell\"\n",
      "[1] 57\n"
     ]
    },
    {
     "name": "stderr",
     "output_type": "stream",
     "text": [
      "\u001b[1m\u001b[22mJoining with `by = join_by(pbmc_sample_id)`\n"
     ]
    },
    {
     "name": "stdout",
     "output_type": "stream",
     "text": [
      "[1] \"Erythrocyte\"\n",
      "[1] 35\n"
     ]
    },
    {
     "name": "stderr",
     "output_type": "stream",
     "text": [
      "\u001b[1m\u001b[22mJoining with `by = join_by(pbmc_sample_id)`\n"
     ]
    },
    {
     "name": "stdout",
     "output_type": "stream",
     "text": [
      "[1] \"GZMB- CD27- EM CD4 T cell\"\n",
      "[1] 95\n"
     ]
    },
    {
     "name": "stderr",
     "output_type": "stream",
     "text": [
      "\u001b[1m\u001b[22mJoining with `by = join_by(pbmc_sample_id)`\n"
     ]
    },
    {
     "name": "stdout",
     "output_type": "stream",
     "text": [
      "[1] \"GZMB- CD27+ EM CD4 T cell\"\n",
      "[1] 63\n"
     ]
    },
    {
     "name": "stderr",
     "output_type": "stream",
     "text": [
      "\u001b[1m\u001b[22mJoining with `by = join_by(pbmc_sample_id)`\n"
     ]
    },
    {
     "name": "stdout",
     "output_type": "stream",
     "text": [
      "[1] \"GZMB+ Vd2 gdT\"\n",
      "[1] 1\n"
     ]
    },
    {
     "name": "stderr",
     "output_type": "stream",
     "text": [
      "\u001b[1m\u001b[22mJoining with `by = join_by(pbmc_sample_id)`\n"
     ]
    },
    {
     "name": "stdout",
     "output_type": "stream",
     "text": [
      "[1] \"GZMK- CD27+ EM CD8 T cell\"\n",
      "[1] 14\n"
     ]
    },
    {
     "name": "stderr",
     "output_type": "stream",
     "text": [
      "\u001b[1m\u001b[22mJoining with `by = join_by(pbmc_sample_id)`\n"
     ]
    },
    {
     "name": "stdout",
     "output_type": "stream",
     "text": [
      "[1] \"GZMK- CD56dim NK cell\"\n",
      "[1] 1\n"
     ]
    },
    {
     "name": "stderr",
     "output_type": "stream",
     "text": [
      "\u001b[1m\u001b[22mJoining with `by = join_by(pbmc_sample_id)`\n"
     ]
    },
    {
     "name": "stdout",
     "output_type": "stream",
     "text": [
      "[1] \"GZMK+ CD27+ EM CD8 T cell\"\n",
      "[1] 58\n"
     ]
    },
    {
     "name": "stderr",
     "output_type": "stream",
     "text": [
      "\u001b[1m\u001b[22mJoining with `by = join_by(pbmc_sample_id)`\n"
     ]
    },
    {
     "name": "stdout",
     "output_type": "stream",
     "text": [
      "[1] \"GZMK+ Vd2 gdT\"\n",
      "[1] 8\n"
     ]
    },
    {
     "name": "stderr",
     "output_type": "stream",
     "text": [
      "\u001b[1m\u001b[22mJoining with `by = join_by(pbmc_sample_id)`\n"
     ]
    },
    {
     "name": "stdout",
     "output_type": "stream",
     "text": [
      "[1] \"HLA-DRhi cDC2\"\n",
      "[1] 5\n"
     ]
    },
    {
     "name": "stderr",
     "output_type": "stream",
     "text": [
      "\u001b[1m\u001b[22mJoining with `by = join_by(pbmc_sample_id)`\n"
     ]
    },
    {
     "name": "stdout",
     "output_type": "stream",
     "text": [
      "[1] \"IL1B+ CD14 monocyte\"\n",
      "[1] 16\n"
     ]
    },
    {
     "name": "stderr",
     "output_type": "stream",
     "text": [
      "\u001b[1m\u001b[22mJoining with `by = join_by(pbmc_sample_id)`\n"
     ]
    },
    {
     "name": "stdout",
     "output_type": "stream",
     "text": [
      "[1] \"Intermediate monocyte\"\n",
      "[1] 6\n"
     ]
    },
    {
     "name": "stderr",
     "output_type": "stream",
     "text": [
      "\u001b[1m\u001b[22mJoining with `by = join_by(pbmc_sample_id)`\n"
     ]
    },
    {
     "name": "stdout",
     "output_type": "stream",
     "text": [
      "[1] \"ISG+ CD14 monocyte\"\n",
      "[1] 6\n"
     ]
    },
    {
     "name": "stderr",
     "output_type": "stream",
     "text": [
      "\u001b[1m\u001b[22mJoining with `by = join_by(pbmc_sample_id)`\n"
     ]
    },
    {
     "name": "stdout",
     "output_type": "stream",
     "text": [
      "[1] \"ISG+ memory CD4 T cell\"\n",
      "[1] 3\n"
     ]
    },
    {
     "name": "stderr",
     "output_type": "stream",
     "text": [
      "\u001b[1m\u001b[22mJoining with `by = join_by(pbmc_sample_id)`\n"
     ]
    },
    {
     "name": "stdout",
     "output_type": "stream",
     "text": [
      "[1] \"ISG+ naive CD4 T cell\"\n",
      "[1] 63\n"
     ]
    },
    {
     "name": "stderr",
     "output_type": "stream",
     "text": [
      "\u001b[1m\u001b[22mJoining with `by = join_by(pbmc_sample_id)`\n"
     ]
    },
    {
     "name": "stdout",
     "output_type": "stream",
     "text": [
      "[1] \"KLRB1+ memory CD4 Treg\"\n",
      "[1] 1\n"
     ]
    },
    {
     "name": "stderr",
     "output_type": "stream",
     "text": [
      "\u001b[1m\u001b[22mJoining with `by = join_by(pbmc_sample_id)`\n"
     ]
    },
    {
     "name": "stdout",
     "output_type": "stream",
     "text": [
      "[1] \"KLRF1- effector Vd1 gdT\"\n",
      "[1] 1\n"
     ]
    },
    {
     "name": "stderr",
     "output_type": "stream",
     "text": [
      "\u001b[1m\u001b[22mJoining with `by = join_by(pbmc_sample_id)`\n"
     ]
    },
    {
     "name": "stdout",
     "output_type": "stream",
     "text": [
      "[1] \"KLRF1- GZMB+ CD27- EM CD8 T cell\"\n",
      "[1] 9\n"
     ]
    },
    {
     "name": "stderr",
     "output_type": "stream",
     "text": [
      "\u001b[1m\u001b[22mJoining with `by = join_by(pbmc_sample_id)`\n"
     ]
    },
    {
     "name": "stdout",
     "output_type": "stream",
     "text": [
      "[1] \"KLRF1+ GZMB+ CD27- EM CD8 T cell\"\n",
      "[1] 14\n"
     ]
    },
    {
     "name": "stderr",
     "output_type": "stream",
     "text": [
      "\u001b[1m\u001b[22mJoining with `by = join_by(pbmc_sample_id)`\n"
     ]
    },
    {
     "name": "stdout",
     "output_type": "stream",
     "text": [
      "[1] \"Memory CD4 Treg\"\n",
      "[1] 2\n"
     ]
    },
    {
     "name": "stderr",
     "output_type": "stream",
     "text": [
      "\u001b[1m\u001b[22mJoining with `by = join_by(pbmc_sample_id)`\n"
     ]
    },
    {
     "name": "stdout",
     "output_type": "stream",
     "text": [
      "[1] \"Memory CD8 Treg\"\n",
      "[1] 1\n"
     ]
    },
    {
     "name": "stderr",
     "output_type": "stream",
     "text": [
      "\u001b[1m\u001b[22mJoining with `by = join_by(pbmc_sample_id)`\n"
     ]
    },
    {
     "name": "stdout",
     "output_type": "stream",
     "text": [
      "[1] \"Naive CD4 Treg\"\n",
      "[1] 255\n"
     ]
    },
    {
     "name": "stderr",
     "output_type": "stream",
     "text": [
      "\u001b[1m\u001b[22mJoining with `by = join_by(pbmc_sample_id)`\n"
     ]
    },
    {
     "name": "stdout",
     "output_type": "stream",
     "text": [
      "[1] \"Naive Vd1 gdT\"\n",
      "[1] 24\n"
     ]
    },
    {
     "name": "stderr",
     "output_type": "stream",
     "text": [
      "\u001b[1m\u001b[22mJoining with `by = join_by(pbmc_sample_id)`\n"
     ]
    },
    {
     "name": "stdout",
     "output_type": "stream",
     "text": [
      "[1] \"Plasma cell\"\n",
      "[1] 5\n"
     ]
    },
    {
     "name": "stderr",
     "output_type": "stream",
     "text": [
      "\u001b[1m\u001b[22mJoining with `by = join_by(pbmc_sample_id)`\n"
     ]
    },
    {
     "name": "stdout",
     "output_type": "stream",
     "text": [
      "[1] \"Platelet\"\n",
      "[1] 4\n"
     ]
    },
    {
     "name": "stderr",
     "output_type": "stream",
     "text": [
      "\u001b[1m\u001b[22mJoining with `by = join_by(pbmc_sample_id)`\n"
     ]
    },
    {
     "name": "stdout",
     "output_type": "stream",
     "text": [
      "[1] \"Proliferating T cell\"\n",
      "[1] 20\n"
     ]
    },
    {
     "name": "stderr",
     "output_type": "stream",
     "text": [
      "\u001b[1m\u001b[22mJoining with `by = join_by(pbmc_sample_id)`\n"
     ]
    },
    {
     "name": "stdout",
     "output_type": "stream",
     "text": [
      "[1] \"SOX4+ naive CD4 T cell\"\n",
      "[1] 430\n"
     ]
    },
    {
     "name": "stderr",
     "output_type": "stream",
     "text": [
      "\u001b[1m\u001b[22mJoining with `by = join_by(pbmc_sample_id)`\n"
     ]
    },
    {
     "name": "stdout",
     "output_type": "stream",
     "text": [
      "[1] \"SOX4+ naive CD8 T cell\"\n",
      "[1] 8\n"
     ]
    },
    {
     "name": "stderr",
     "output_type": "stream",
     "text": [
      "\u001b[1m\u001b[22mJoining with `by = join_by(pbmc_sample_id)`\n"
     ]
    },
    {
     "name": "stdout",
     "output_type": "stream",
     "text": [
      "[1] \"SOX4+ Vd1 gdT\"\n",
      "[1] 2\n"
     ]
    },
    {
     "name": "stderr",
     "output_type": "stream",
     "text": [
      "\u001b[1m\u001b[22mJoining with `by = join_by(pbmc_sample_id)`\n"
     ]
    }
   ],
   "source": [
    "for (celltype_single in selected_celltype){\n",
    "print(celltype_single)\n",
    "selected_genes<-DEG_filtered %>% filter(celltype==celltype_single) %>% select(X) %>% pull()\n",
    "print(length(selected_genes))\n",
    "df_list<-mclapply(meta_data_D0$pbmc_sample_id,function(i){\n",
    "df<-read.csv(paste0('/home//jupyter/BRI_Analysis/scRNA/Average_Expression_by_Celltype_and_Sample/',i,'_AIFI_L3.csv'),\n",
    "             check.names = FALSE, row.names=1) \n",
    "if (!(celltype_single %in% colnames(df))) {\n",
    "    return(NULL)\n",
    "  }\n",
    "  \n",
    "df_subset <- df[selected_genes, celltype_single, drop = FALSE]\n",
    "\n",
    "df_subset$pbmc_sample_id <- i\n",
    "df_subset$Gene <- selected_genes\n",
    "\n",
    "df_subset <- pivot_longer(df_subset, \n",
    "                        cols = -c(pbmc_sample_id, Gene), \n",
    "                        names_to = \"AIFI_L3\", \n",
    "                        values_to = \"Mean_Expression\")\n",
    "return(df_subset)\n",
    "},mc.cores=60)\n",
    "\n",
    "mean_df<-do.call(rbind,df_list)\n",
    "mean_df<-left_join(mean_df,meta_data_D0)\n",
    "\n",
    "res_list<-mclapply(unique(selected_genes),function(x){\n",
    "\n",
    "mean_df_sub<-mean_df  %>% filter(Gene==x)\n",
    "mean_df_sub$sample.daysSinceFirstVisit_scaled<-scale(mean_df_sub$sample.daysSinceFirstVisit)\n",
    "res<-lm(Mean_Expression ~ Ages+CMV.IgG.Serology.Result.Interpretation+subject.biologicalSex, data=mean_df_sub)\n",
    "res<-as.data.frame(summary(res)$coefficients)\n",
    "res$Gene=x\n",
    "res$celltype=celltype_single\n",
    "res$factor<-rownames(res)\n",
    "rownames(res)<-NULL\n",
    "return(res)\n",
    "\n",
    "},mc.cores=60)\n",
    "res_list_all<-do.call(rbind,res_list)\n",
    "    \n",
    "write.csv(res_list_all,paste0('04B_LMM_Ages/',celltype_single,\".csv\"))\n",
    "}"
   ]
  },
  {
   "cell_type": "code",
   "execution_count": null,
   "id": "24785276-6b11-402f-abf6-ddec3a68ebbe",
   "metadata": {},
   "outputs": [],
   "source": []
  },
  {
   "cell_type": "markdown",
   "id": "4a98fb97-743f-44d8-99fc-2ff029a0acb6",
   "metadata": {},
   "source": [
    "# Using LMM to test chronological aging effect "
   ]
  },
  {
   "cell_type": "code",
   "execution_count": 20,
   "id": "039e0056-9a68-4544-9c4d-40e14ab08377",
   "metadata": {
    "tags": []
   },
   "outputs": [],
   "source": [
    "meta_data_D0_BR1<-meta_data  %>% filter(sample.visitName %in% c('Flu Year 1 Day 0'),cohort.cohortGuid=='BR1')\n",
    "meta_data_D0_BR2<-meta_data  %>% filter(sample.visitName %in% c('Flu Year 1 Day 0'),cohort.cohortGuid=='BR2')"
   ]
  },
  {
   "cell_type": "code",
   "execution_count": 21,
   "id": "a5fa79cc-3b4a-493c-9334-55dfca1ca297",
   "metadata": {
    "tags": []
   },
   "outputs": [],
   "source": [
    "meta_data_D0_BR1$Ages<-as.numeric(substr(meta_data_D0_BR1$sample.drawDate,1,4))-meta_data_D0_BR1$subject.birthYear\n",
    "meta_data_D0_BR2$Ages<-as.numeric(substr(meta_data_D0_BR2$sample.drawDate,1,4))-meta_data_D0_BR2$subject.birthYear"
   ]
  },
  {
   "cell_type": "code",
   "execution_count": 8,
   "id": "4a453ef5-5f88-4922-aba5-ac62e676176e",
   "metadata": {
    "tags": []
   },
   "outputs": [],
   "source": [
    "selected_celltype<-unique(DEG_filtered$celltype)"
   ]
  },
  {
   "cell_type": "code",
   "execution_count": 22,
   "id": "70fe2d73-b6fb-4235-924a-1f8aae332c37",
   "metadata": {
    "collapsed": true,
    "jupyter": {
     "outputs_hidden": true
    },
    "tags": []
   },
   "outputs": [
    {
     "name": "stdout",
     "output_type": "stream",
     "text": [
      "[1] \"CD27- effector B cell\"\n",
      "[1] 6\n"
     ]
    },
    {
     "name": "stderr",
     "output_type": "stream",
     "text": [
      "\u001b[1m\u001b[22mJoining with `by = join_by(pbmc_sample_id)`\n"
     ]
    },
    {
     "name": "stdout",
     "output_type": "stream",
     "text": [
      "[1] \"CD27+ effector B cell\"\n",
      "[1] 5\n"
     ]
    },
    {
     "name": "stderr",
     "output_type": "stream",
     "text": [
      "\u001b[1m\u001b[22mJoining with `by = join_by(pbmc_sample_id)`\n"
     ]
    },
    {
     "name": "stdout",
     "output_type": "stream",
     "text": [
      "[1] \"CD4 MAIT\"\n",
      "[1] 5\n"
     ]
    },
    {
     "name": "stderr",
     "output_type": "stream",
     "text": [
      "\u001b[1m\u001b[22mJoining with `by = join_by(pbmc_sample_id)`\n"
     ]
    },
    {
     "name": "stdout",
     "output_type": "stream",
     "text": [
      "[1] \"CD56bright NK cell\"\n",
      "[1] 1\n"
     ]
    },
    {
     "name": "stderr",
     "output_type": "stream",
     "text": [
      "\u001b[1m\u001b[22mJoining with `by = join_by(pbmc_sample_id)`\n"
     ]
    },
    {
     "name": "stdout",
     "output_type": "stream",
     "text": [
      "[1] \"CD8 MAIT\"\n",
      "[1] 9\n"
     ]
    },
    {
     "name": "stderr",
     "output_type": "stream",
     "text": [
      "\u001b[1m\u001b[22mJoining with `by = join_by(pbmc_sample_id)`\n"
     ]
    },
    {
     "name": "stdout",
     "output_type": "stream",
     "text": [
      "[1] \"CD8aa\"\n",
      "[1] 186\n"
     ]
    },
    {
     "name": "stderr",
     "output_type": "stream",
     "text": [
      "\u001b[1m\u001b[22mJoining with `by = join_by(pbmc_sample_id)`\n"
     ]
    },
    {
     "name": "stdout",
     "output_type": "stream",
     "text": [
      "[1] \"cDC1\"\n",
      "[1] 1\n"
     ]
    },
    {
     "name": "stderr",
     "output_type": "stream",
     "text": [
      "\u001b[1m\u001b[22mJoining with `by = join_by(pbmc_sample_id)`\n"
     ]
    },
    {
     "name": "stdout",
     "output_type": "stream",
     "text": [
      "[1] \"CM CD4 T cell\"\n",
      "[1] 142\n"
     ]
    },
    {
     "name": "stderr",
     "output_type": "stream",
     "text": [
      "\u001b[1m\u001b[22mJoining with `by = join_by(pbmc_sample_id)`\n"
     ]
    },
    {
     "name": "stdout",
     "output_type": "stream",
     "text": [
      "[1] \"CM CD8 T cell\"\n",
      "[1] 242\n"
     ]
    },
    {
     "name": "stderr",
     "output_type": "stream",
     "text": [
      "\u001b[1m\u001b[22mJoining with `by = join_by(pbmc_sample_id)`\n"
     ]
    },
    {
     "name": "stdout",
     "output_type": "stream",
     "text": [
      "[1] \"Core CD14 monocyte\"\n",
      "[1] 22\n"
     ]
    },
    {
     "name": "stderr",
     "output_type": "stream",
     "text": [
      "\u001b[1m\u001b[22mJoining with `by = join_by(pbmc_sample_id)`\n"
     ]
    },
    {
     "name": "stdout",
     "output_type": "stream",
     "text": [
      "[1] \"Core CD16 monocyte\"\n",
      "[1] 3\n"
     ]
    },
    {
     "name": "stderr",
     "output_type": "stream",
     "text": [
      "\u001b[1m\u001b[22mJoining with `by = join_by(pbmc_sample_id)`\n"
     ]
    },
    {
     "name": "stdout",
     "output_type": "stream",
     "text": [
      "[1] \"Core memory B cell\"\n",
      "[1] 23\n"
     ]
    },
    {
     "name": "stderr",
     "output_type": "stream",
     "text": [
      "\u001b[1m\u001b[22mJoining with `by = join_by(pbmc_sample_id)`\n"
     ]
    },
    {
     "name": "stdout",
     "output_type": "stream",
     "text": [
      "[1] \"Core naive B cell\"\n",
      "[1] 1\n"
     ]
    },
    {
     "name": "stderr",
     "output_type": "stream",
     "text": [
      "\u001b[1m\u001b[22mJoining with `by = join_by(pbmc_sample_id)`\n"
     ]
    },
    {
     "name": "stdout",
     "output_type": "stream",
     "text": [
      "[1] \"Core naive CD4 T cell\"\n",
      "[1] 358\n"
     ]
    },
    {
     "name": "stderr",
     "output_type": "stream",
     "text": [
      "\u001b[1m\u001b[22mJoining with `by = join_by(pbmc_sample_id)`\n"
     ]
    },
    {
     "name": "stdout",
     "output_type": "stream",
     "text": [
      "[1] \"Core naive CD8 T cell \"\n",
      "[1] 211\n"
     ]
    },
    {
     "name": "stderr",
     "output_type": "stream",
     "text": [
      "\u001b[1m\u001b[22mJoining with `by = join_by(pbmc_sample_id)`\n"
     ]
    },
    {
     "name": "stdout",
     "output_type": "stream",
     "text": [
      "[1] \"DN T cell\"\n",
      "[1] 57\n"
     ]
    },
    {
     "name": "stderr",
     "output_type": "stream",
     "text": [
      "\u001b[1m\u001b[22mJoining with `by = join_by(pbmc_sample_id)`\n"
     ]
    },
    {
     "name": "stdout",
     "output_type": "stream",
     "text": [
      "[1] \"Erythrocyte\"\n",
      "[1] 35\n"
     ]
    },
    {
     "name": "stderr",
     "output_type": "stream",
     "text": [
      "\u001b[1m\u001b[22mJoining with `by = join_by(pbmc_sample_id)`\n"
     ]
    },
    {
     "name": "stdout",
     "output_type": "stream",
     "text": [
      "[1] \"GZMB- CD27- EM CD4 T cell\"\n",
      "[1] 95\n"
     ]
    },
    {
     "name": "stderr",
     "output_type": "stream",
     "text": [
      "\u001b[1m\u001b[22mJoining with `by = join_by(pbmc_sample_id)`\n"
     ]
    },
    {
     "name": "stdout",
     "output_type": "stream",
     "text": [
      "[1] \"GZMB- CD27+ EM CD4 T cell\"\n",
      "[1] 63\n"
     ]
    },
    {
     "name": "stderr",
     "output_type": "stream",
     "text": [
      "\u001b[1m\u001b[22mJoining with `by = join_by(pbmc_sample_id)`\n"
     ]
    },
    {
     "name": "stdout",
     "output_type": "stream",
     "text": [
      "[1] \"GZMB+ Vd2 gdT\"\n",
      "[1] 1\n"
     ]
    },
    {
     "name": "stderr",
     "output_type": "stream",
     "text": [
      "\u001b[1m\u001b[22mJoining with `by = join_by(pbmc_sample_id)`\n"
     ]
    },
    {
     "name": "stdout",
     "output_type": "stream",
     "text": [
      "[1] \"GZMK- CD27+ EM CD8 T cell\"\n",
      "[1] 14\n"
     ]
    },
    {
     "name": "stderr",
     "output_type": "stream",
     "text": [
      "\u001b[1m\u001b[22mJoining with `by = join_by(pbmc_sample_id)`\n"
     ]
    },
    {
     "name": "stdout",
     "output_type": "stream",
     "text": [
      "[1] \"GZMK- CD56dim NK cell\"\n",
      "[1] 1\n"
     ]
    },
    {
     "name": "stderr",
     "output_type": "stream",
     "text": [
      "\u001b[1m\u001b[22mJoining with `by = join_by(pbmc_sample_id)`\n"
     ]
    },
    {
     "name": "stdout",
     "output_type": "stream",
     "text": [
      "[1] \"GZMK+ CD27+ EM CD8 T cell\"\n",
      "[1] 58\n"
     ]
    },
    {
     "name": "stderr",
     "output_type": "stream",
     "text": [
      "\u001b[1m\u001b[22mJoining with `by = join_by(pbmc_sample_id)`\n"
     ]
    },
    {
     "name": "stdout",
     "output_type": "stream",
     "text": [
      "[1] \"GZMK+ Vd2 gdT\"\n",
      "[1] 8\n"
     ]
    },
    {
     "name": "stderr",
     "output_type": "stream",
     "text": [
      "\u001b[1m\u001b[22mJoining with `by = join_by(pbmc_sample_id)`\n"
     ]
    },
    {
     "name": "stdout",
     "output_type": "stream",
     "text": [
      "[1] \"HLA-DRhi cDC2\"\n",
      "[1] 5\n"
     ]
    },
    {
     "name": "stderr",
     "output_type": "stream",
     "text": [
      "\u001b[1m\u001b[22mJoining with `by = join_by(pbmc_sample_id)`\n"
     ]
    },
    {
     "name": "stdout",
     "output_type": "stream",
     "text": [
      "[1] \"IL1B+ CD14 monocyte\"\n",
      "[1] 16\n"
     ]
    },
    {
     "name": "stderr",
     "output_type": "stream",
     "text": [
      "\u001b[1m\u001b[22mJoining with `by = join_by(pbmc_sample_id)`\n"
     ]
    },
    {
     "name": "stdout",
     "output_type": "stream",
     "text": [
      "[1] \"Intermediate monocyte\"\n",
      "[1] 6\n"
     ]
    },
    {
     "name": "stderr",
     "output_type": "stream",
     "text": [
      "\u001b[1m\u001b[22mJoining with `by = join_by(pbmc_sample_id)`\n"
     ]
    },
    {
     "name": "stdout",
     "output_type": "stream",
     "text": [
      "[1] \"ISG+ CD14 monocyte\"\n",
      "[1] 6\n"
     ]
    },
    {
     "name": "stderr",
     "output_type": "stream",
     "text": [
      "\u001b[1m\u001b[22mJoining with `by = join_by(pbmc_sample_id)`\n"
     ]
    },
    {
     "name": "stdout",
     "output_type": "stream",
     "text": [
      "[1] \"ISG+ memory CD4 T cell\"\n",
      "[1] 3\n"
     ]
    },
    {
     "name": "stderr",
     "output_type": "stream",
     "text": [
      "\u001b[1m\u001b[22mJoining with `by = join_by(pbmc_sample_id)`\n"
     ]
    },
    {
     "name": "stdout",
     "output_type": "stream",
     "text": [
      "[1] \"ISG+ naive CD4 T cell\"\n",
      "[1] 63\n"
     ]
    },
    {
     "name": "stderr",
     "output_type": "stream",
     "text": [
      "\u001b[1m\u001b[22mJoining with `by = join_by(pbmc_sample_id)`\n"
     ]
    },
    {
     "name": "stdout",
     "output_type": "stream",
     "text": [
      "[1] \"KLRB1+ memory CD4 Treg\"\n",
      "[1] 1\n"
     ]
    },
    {
     "name": "stderr",
     "output_type": "stream",
     "text": [
      "\u001b[1m\u001b[22mJoining with `by = join_by(pbmc_sample_id)`\n"
     ]
    },
    {
     "name": "stdout",
     "output_type": "stream",
     "text": [
      "[1] \"KLRF1- effector Vd1 gdT\"\n",
      "[1] 1\n"
     ]
    },
    {
     "name": "stderr",
     "output_type": "stream",
     "text": [
      "\u001b[1m\u001b[22mJoining with `by = join_by(pbmc_sample_id)`\n"
     ]
    },
    {
     "name": "stdout",
     "output_type": "stream",
     "text": [
      "[1] \"KLRF1- GZMB+ CD27- EM CD8 T cell\"\n",
      "[1] 9\n"
     ]
    },
    {
     "name": "stderr",
     "output_type": "stream",
     "text": [
      "\u001b[1m\u001b[22mJoining with `by = join_by(pbmc_sample_id)`\n"
     ]
    },
    {
     "name": "stdout",
     "output_type": "stream",
     "text": [
      "[1] \"KLRF1+ GZMB+ CD27- EM CD8 T cell\"\n",
      "[1] 14\n"
     ]
    },
    {
     "name": "stderr",
     "output_type": "stream",
     "text": [
      "\u001b[1m\u001b[22mJoining with `by = join_by(pbmc_sample_id)`\n"
     ]
    },
    {
     "name": "stdout",
     "output_type": "stream",
     "text": [
      "[1] \"Memory CD4 Treg\"\n",
      "[1] 2\n"
     ]
    },
    {
     "name": "stderr",
     "output_type": "stream",
     "text": [
      "\u001b[1m\u001b[22mJoining with `by = join_by(pbmc_sample_id)`\n"
     ]
    },
    {
     "name": "stdout",
     "output_type": "stream",
     "text": [
      "[1] \"Memory CD8 Treg\"\n",
      "[1] 1\n"
     ]
    },
    {
     "name": "stderr",
     "output_type": "stream",
     "text": [
      "\u001b[1m\u001b[22mJoining with `by = join_by(pbmc_sample_id)`\n"
     ]
    },
    {
     "name": "stdout",
     "output_type": "stream",
     "text": [
      "[1] \"Naive CD4 Treg\"\n",
      "[1] 255\n"
     ]
    },
    {
     "name": "stderr",
     "output_type": "stream",
     "text": [
      "\u001b[1m\u001b[22mJoining with `by = join_by(pbmc_sample_id)`\n"
     ]
    },
    {
     "name": "stdout",
     "output_type": "stream",
     "text": [
      "[1] \"Naive Vd1 gdT\"\n",
      "[1] 24\n"
     ]
    },
    {
     "name": "stderr",
     "output_type": "stream",
     "text": [
      "\u001b[1m\u001b[22mJoining with `by = join_by(pbmc_sample_id)`\n"
     ]
    },
    {
     "name": "stdout",
     "output_type": "stream",
     "text": [
      "[1] \"Plasma cell\"\n",
      "[1] 5\n"
     ]
    },
    {
     "name": "stderr",
     "output_type": "stream",
     "text": [
      "\u001b[1m\u001b[22mJoining with `by = join_by(pbmc_sample_id)`\n"
     ]
    },
    {
     "name": "stdout",
     "output_type": "stream",
     "text": [
      "[1] \"Platelet\"\n",
      "[1] 4\n"
     ]
    },
    {
     "name": "stderr",
     "output_type": "stream",
     "text": [
      "\u001b[1m\u001b[22mJoining with `by = join_by(pbmc_sample_id)`\n"
     ]
    },
    {
     "name": "stdout",
     "output_type": "stream",
     "text": [
      "[1] \"Proliferating T cell\"\n",
      "[1] 20\n"
     ]
    },
    {
     "name": "stderr",
     "output_type": "stream",
     "text": [
      "\u001b[1m\u001b[22mJoining with `by = join_by(pbmc_sample_id)`\n"
     ]
    },
    {
     "name": "stdout",
     "output_type": "stream",
     "text": [
      "[1] \"SOX4+ naive CD4 T cell\"\n",
      "[1] 430\n"
     ]
    },
    {
     "name": "stderr",
     "output_type": "stream",
     "text": [
      "\u001b[1m\u001b[22mJoining with `by = join_by(pbmc_sample_id)`\n"
     ]
    },
    {
     "name": "stdout",
     "output_type": "stream",
     "text": [
      "[1] \"SOX4+ naive CD8 T cell\"\n",
      "[1] 8\n"
     ]
    },
    {
     "name": "stderr",
     "output_type": "stream",
     "text": [
      "\u001b[1m\u001b[22mJoining with `by = join_by(pbmc_sample_id)`\n"
     ]
    },
    {
     "name": "stdout",
     "output_type": "stream",
     "text": [
      "[1] \"SOX4+ Vd1 gdT\"\n",
      "[1] 2\n"
     ]
    },
    {
     "name": "stderr",
     "output_type": "stream",
     "text": [
      "\u001b[1m\u001b[22mJoining with `by = join_by(pbmc_sample_id)`\n"
     ]
    }
   ],
   "source": [
    "for (celltype_single in selected_celltype){\n",
    "print(celltype_single)\n",
    "selected_genes<-DEG_filtered %>% filter(celltype==celltype_single) %>% select(X) %>% pull()\n",
    "print(length(selected_genes))\n",
    "df_list<-mclapply(meta_data_D0_BR1$pbmc_sample_id,function(i){\n",
    "df<-read.csv(paste0('/home//jupyter/BRI_Analysis/scRNA/Average_Expression_by_Celltype_and_Sample/',i,'_AIFI_L3.csv'),\n",
    "             check.names = FALSE, row.names=1) \n",
    "if (!(celltype_single %in% colnames(df))) {\n",
    "    return(NULL)\n",
    "  }\n",
    "  \n",
    "df_subset <- df[selected_genes, celltype_single, drop = FALSE]\n",
    "\n",
    "df_subset$pbmc_sample_id <- i\n",
    "df_subset$Gene <- selected_genes\n",
    "\n",
    "df_subset <- pivot_longer(df_subset, \n",
    "                        cols = -c(pbmc_sample_id, Gene), \n",
    "                        names_to = \"AIFI_L3\", \n",
    "                        values_to = \"Mean_Expression\")\n",
    "return(df_subset)\n",
    "},mc.cores=60)\n",
    "\n",
    "mean_df<-do.call(rbind,df_list)\n",
    "mean_df<-left_join(mean_df,meta_data_D0_BR1)\n",
    "\n",
    "res_list<-mclapply(unique(selected_genes),function(x){\n",
    "\n",
    "mean_df_sub<-mean_df  %>% filter(Gene==x)\n",
    "mean_df_sub$sample.daysSinceFirstVisit_scaled<-scale(mean_df_sub$sample.daysSinceFirstVisit)\n",
    "res<-lm(Mean_Expression ~ Ages+CMV.IgG.Serology.Result.Interpretation+subject.biologicalSex, data=mean_df_sub)\n",
    "res<-as.data.frame(summary(res)$coefficients)\n",
    "res$Gene=x\n",
    "res$celltype=celltype_single\n",
    "res$factor<-rownames(res)\n",
    "rownames(res)<-NULL\n",
    "return(res)\n",
    "\n",
    "},mc.cores=60)\n",
    "res_list_all<-do.call(rbind,res_list)\n",
    "    \n",
    "write.csv(res_list_all,paste0('04B_LMM_Ages_BR1_OR_BR2/',celltype_single,\"_BR1.csv\"))\n",
    "}"
   ]
  },
  {
   "cell_type": "code",
   "execution_count": 42,
   "id": "f50f75ce-9442-4843-9980-b0ab5b693516",
   "metadata": {
    "collapsed": true,
    "jupyter": {
     "outputs_hidden": true
    },
    "tags": []
   },
   "outputs": [
    {
     "name": "stdout",
     "output_type": "stream",
     "text": [
      "[1] \"CD27- effector B cell\"\n",
      "[1] 6\n"
     ]
    },
    {
     "name": "stderr",
     "output_type": "stream",
     "text": [
      "\u001b[1m\u001b[22mJoining with `by = join_by(pbmc_sample_id)`\n"
     ]
    },
    {
     "name": "stdout",
     "output_type": "stream",
     "text": [
      "[1] \"CD27+ effector B cell\"\n",
      "[1] 5\n"
     ]
    },
    {
     "name": "stderr",
     "output_type": "stream",
     "text": [
      "\u001b[1m\u001b[22mJoining with `by = join_by(pbmc_sample_id)`\n"
     ]
    },
    {
     "name": "stdout",
     "output_type": "stream",
     "text": [
      "[1] \"CD4 MAIT\"\n",
      "[1] 5\n"
     ]
    },
    {
     "name": "stderr",
     "output_type": "stream",
     "text": [
      "\u001b[1m\u001b[22mJoining with `by = join_by(pbmc_sample_id)`\n"
     ]
    },
    {
     "name": "stdout",
     "output_type": "stream",
     "text": [
      "[1] \"CD56bright NK cell\"\n",
      "[1] 1\n"
     ]
    },
    {
     "name": "stderr",
     "output_type": "stream",
     "text": [
      "\u001b[1m\u001b[22mJoining with `by = join_by(pbmc_sample_id)`\n"
     ]
    },
    {
     "name": "stdout",
     "output_type": "stream",
     "text": [
      "[1] \"CD8 MAIT\"\n",
      "[1] 9\n"
     ]
    },
    {
     "name": "stderr",
     "output_type": "stream",
     "text": [
      "\u001b[1m\u001b[22mJoining with `by = join_by(pbmc_sample_id)`\n"
     ]
    },
    {
     "name": "stdout",
     "output_type": "stream",
     "text": [
      "[1] \"CD8aa\"\n",
      "[1] 186\n"
     ]
    },
    {
     "name": "stderr",
     "output_type": "stream",
     "text": [
      "\u001b[1m\u001b[22mJoining with `by = join_by(pbmc_sample_id)`\n"
     ]
    },
    {
     "name": "stdout",
     "output_type": "stream",
     "text": [
      "[1] \"cDC1\"\n",
      "[1] 1\n"
     ]
    },
    {
     "name": "stderr",
     "output_type": "stream",
     "text": [
      "\u001b[1m\u001b[22mJoining with `by = join_by(pbmc_sample_id)`\n"
     ]
    },
    {
     "name": "stdout",
     "output_type": "stream",
     "text": [
      "[1] \"CM CD4 T cell\"\n",
      "[1] 142\n"
     ]
    },
    {
     "name": "stderr",
     "output_type": "stream",
     "text": [
      "\u001b[1m\u001b[22mJoining with `by = join_by(pbmc_sample_id)`\n"
     ]
    },
    {
     "name": "stdout",
     "output_type": "stream",
     "text": [
      "[1] \"CM CD8 T cell\"\n",
      "[1] 242\n"
     ]
    },
    {
     "name": "stderr",
     "output_type": "stream",
     "text": [
      "\u001b[1m\u001b[22mJoining with `by = join_by(pbmc_sample_id)`\n"
     ]
    },
    {
     "name": "stdout",
     "output_type": "stream",
     "text": [
      "[1] \"Core CD14 monocyte\"\n",
      "[1] 22\n"
     ]
    },
    {
     "name": "stderr",
     "output_type": "stream",
     "text": [
      "\u001b[1m\u001b[22mJoining with `by = join_by(pbmc_sample_id)`\n"
     ]
    },
    {
     "name": "stdout",
     "output_type": "stream",
     "text": [
      "[1] \"Core CD16 monocyte\"\n",
      "[1] 3\n"
     ]
    },
    {
     "name": "stderr",
     "output_type": "stream",
     "text": [
      "\u001b[1m\u001b[22mJoining with `by = join_by(pbmc_sample_id)`\n"
     ]
    },
    {
     "name": "stdout",
     "output_type": "stream",
     "text": [
      "[1] \"Core memory B cell\"\n",
      "[1] 23\n"
     ]
    },
    {
     "name": "stderr",
     "output_type": "stream",
     "text": [
      "\u001b[1m\u001b[22mJoining with `by = join_by(pbmc_sample_id)`\n"
     ]
    },
    {
     "name": "stdout",
     "output_type": "stream",
     "text": [
      "[1] \"Core naive B cell\"\n",
      "[1] 1\n"
     ]
    },
    {
     "name": "stderr",
     "output_type": "stream",
     "text": [
      "\u001b[1m\u001b[22mJoining with `by = join_by(pbmc_sample_id)`\n"
     ]
    },
    {
     "name": "stdout",
     "output_type": "stream",
     "text": [
      "[1] \"Core naive CD4 T cell\"\n",
      "[1] 358\n"
     ]
    },
    {
     "name": "stderr",
     "output_type": "stream",
     "text": [
      "\u001b[1m\u001b[22mJoining with `by = join_by(pbmc_sample_id)`\n"
     ]
    },
    {
     "name": "stdout",
     "output_type": "stream",
     "text": [
      "[1] \"Core naive CD8 T cell \"\n",
      "[1] 211\n"
     ]
    },
    {
     "name": "stderr",
     "output_type": "stream",
     "text": [
      "\u001b[1m\u001b[22mJoining with `by = join_by(pbmc_sample_id)`\n"
     ]
    },
    {
     "name": "stdout",
     "output_type": "stream",
     "text": [
      "[1] \"DN T cell\"\n",
      "[1] 57\n"
     ]
    },
    {
     "name": "stderr",
     "output_type": "stream",
     "text": [
      "\u001b[1m\u001b[22mJoining with `by = join_by(pbmc_sample_id)`\n"
     ]
    },
    {
     "name": "stdout",
     "output_type": "stream",
     "text": [
      "[1] \"Erythrocyte\"\n",
      "[1] 35\n"
     ]
    },
    {
     "name": "stderr",
     "output_type": "stream",
     "text": [
      "\u001b[1m\u001b[22mJoining with `by = join_by(pbmc_sample_id)`\n"
     ]
    },
    {
     "name": "stdout",
     "output_type": "stream",
     "text": [
      "[1] \"GZMB- CD27- EM CD4 T cell\"\n",
      "[1] 95\n"
     ]
    },
    {
     "name": "stderr",
     "output_type": "stream",
     "text": [
      "\u001b[1m\u001b[22mJoining with `by = join_by(pbmc_sample_id)`\n"
     ]
    },
    {
     "name": "stdout",
     "output_type": "stream",
     "text": [
      "[1] \"GZMB- CD27+ EM CD4 T cell\"\n",
      "[1] 63\n"
     ]
    },
    {
     "name": "stderr",
     "output_type": "stream",
     "text": [
      "\u001b[1m\u001b[22mJoining with `by = join_by(pbmc_sample_id)`\n"
     ]
    },
    {
     "name": "stdout",
     "output_type": "stream",
     "text": [
      "[1] \"GZMB+ Vd2 gdT\"\n",
      "[1] 1\n"
     ]
    },
    {
     "name": "stderr",
     "output_type": "stream",
     "text": [
      "\u001b[1m\u001b[22mJoining with `by = join_by(pbmc_sample_id)`\n"
     ]
    },
    {
     "name": "stdout",
     "output_type": "stream",
     "text": [
      "[1] \"GZMK- CD27+ EM CD8 T cell\"\n",
      "[1] 14\n"
     ]
    },
    {
     "name": "stderr",
     "output_type": "stream",
     "text": [
      "\u001b[1m\u001b[22mJoining with `by = join_by(pbmc_sample_id)`\n"
     ]
    },
    {
     "name": "stdout",
     "output_type": "stream",
     "text": [
      "[1] \"GZMK- CD56dim NK cell\"\n",
      "[1] 1\n"
     ]
    },
    {
     "name": "stderr",
     "output_type": "stream",
     "text": [
      "\u001b[1m\u001b[22mJoining with `by = join_by(pbmc_sample_id)`\n"
     ]
    },
    {
     "name": "stdout",
     "output_type": "stream",
     "text": [
      "[1] \"GZMK+ CD27+ EM CD8 T cell\"\n",
      "[1] 58\n"
     ]
    },
    {
     "name": "stderr",
     "output_type": "stream",
     "text": [
      "\u001b[1m\u001b[22mJoining with `by = join_by(pbmc_sample_id)`\n"
     ]
    },
    {
     "name": "stdout",
     "output_type": "stream",
     "text": [
      "[1] \"GZMK+ Vd2 gdT\"\n",
      "[1] 8\n"
     ]
    },
    {
     "name": "stderr",
     "output_type": "stream",
     "text": [
      "\u001b[1m\u001b[22mJoining with `by = join_by(pbmc_sample_id)`\n"
     ]
    },
    {
     "name": "stdout",
     "output_type": "stream",
     "text": [
      "[1] \"HLA-DRhi cDC2\"\n",
      "[1] 5\n"
     ]
    },
    {
     "name": "stderr",
     "output_type": "stream",
     "text": [
      "\u001b[1m\u001b[22mJoining with `by = join_by(pbmc_sample_id)`\n"
     ]
    },
    {
     "name": "stdout",
     "output_type": "stream",
     "text": [
      "[1] \"IL1B+ CD14 monocyte\"\n",
      "[1] 16\n"
     ]
    },
    {
     "name": "stderr",
     "output_type": "stream",
     "text": [
      "\u001b[1m\u001b[22mJoining with `by = join_by(pbmc_sample_id)`\n"
     ]
    },
    {
     "name": "stdout",
     "output_type": "stream",
     "text": [
      "[1] \"Intermediate monocyte\"\n",
      "[1] 6\n"
     ]
    },
    {
     "name": "stderr",
     "output_type": "stream",
     "text": [
      "\u001b[1m\u001b[22mJoining with `by = join_by(pbmc_sample_id)`\n"
     ]
    },
    {
     "name": "stdout",
     "output_type": "stream",
     "text": [
      "[1] \"ISG+ CD14 monocyte\"\n",
      "[1] 6\n"
     ]
    },
    {
     "name": "stderr",
     "output_type": "stream",
     "text": [
      "\u001b[1m\u001b[22mJoining with `by = join_by(pbmc_sample_id)`\n"
     ]
    },
    {
     "name": "stdout",
     "output_type": "stream",
     "text": [
      "[1] \"ISG+ memory CD4 T cell\"\n",
      "[1] 3\n"
     ]
    },
    {
     "name": "stderr",
     "output_type": "stream",
     "text": [
      "\u001b[1m\u001b[22mJoining with `by = join_by(pbmc_sample_id)`\n"
     ]
    },
    {
     "name": "stdout",
     "output_type": "stream",
     "text": [
      "[1] \"ISG+ naive CD4 T cell\"\n",
      "[1] 63\n"
     ]
    },
    {
     "name": "stderr",
     "output_type": "stream",
     "text": [
      "\u001b[1m\u001b[22mJoining with `by = join_by(pbmc_sample_id)`\n"
     ]
    },
    {
     "name": "stdout",
     "output_type": "stream",
     "text": [
      "[1] \"KLRB1+ memory CD4 Treg\"\n",
      "[1] 1\n"
     ]
    },
    {
     "name": "stderr",
     "output_type": "stream",
     "text": [
      "\u001b[1m\u001b[22mJoining with `by = join_by(pbmc_sample_id)`\n"
     ]
    },
    {
     "name": "stdout",
     "output_type": "stream",
     "text": [
      "[1] \"KLRF1- effector Vd1 gdT\"\n",
      "[1] 1\n"
     ]
    },
    {
     "name": "stderr",
     "output_type": "stream",
     "text": [
      "\u001b[1m\u001b[22mJoining with `by = join_by(pbmc_sample_id)`\n"
     ]
    },
    {
     "name": "stdout",
     "output_type": "stream",
     "text": [
      "[1] \"KLRF1- GZMB+ CD27- EM CD8 T cell\"\n",
      "[1] 9\n"
     ]
    },
    {
     "name": "stderr",
     "output_type": "stream",
     "text": [
      "\u001b[1m\u001b[22mJoining with `by = join_by(pbmc_sample_id)`\n"
     ]
    },
    {
     "name": "stdout",
     "output_type": "stream",
     "text": [
      "[1] \"KLRF1+ GZMB+ CD27- EM CD8 T cell\"\n",
      "[1] 14\n"
     ]
    },
    {
     "name": "stderr",
     "output_type": "stream",
     "text": [
      "\u001b[1m\u001b[22mJoining with `by = join_by(pbmc_sample_id)`\n"
     ]
    },
    {
     "name": "stdout",
     "output_type": "stream",
     "text": [
      "[1] \"Memory CD4 Treg\"\n",
      "[1] 2\n"
     ]
    },
    {
     "name": "stderr",
     "output_type": "stream",
     "text": [
      "\u001b[1m\u001b[22mJoining with `by = join_by(pbmc_sample_id)`\n"
     ]
    },
    {
     "name": "stdout",
     "output_type": "stream",
     "text": [
      "[1] \"Memory CD8 Treg\"\n",
      "[1] 1\n"
     ]
    },
    {
     "name": "stderr",
     "output_type": "stream",
     "text": [
      "\u001b[1m\u001b[22mJoining with `by = join_by(pbmc_sample_id)`\n"
     ]
    },
    {
     "name": "stdout",
     "output_type": "stream",
     "text": [
      "[1] \"Naive CD4 Treg\"\n",
      "[1] 255\n"
     ]
    },
    {
     "name": "stderr",
     "output_type": "stream",
     "text": [
      "\u001b[1m\u001b[22mJoining with `by = join_by(pbmc_sample_id)`\n"
     ]
    },
    {
     "name": "stdout",
     "output_type": "stream",
     "text": [
      "[1] \"Naive Vd1 gdT\"\n",
      "[1] 24\n"
     ]
    },
    {
     "name": "stderr",
     "output_type": "stream",
     "text": [
      "\u001b[1m\u001b[22mJoining with `by = join_by(pbmc_sample_id)`\n"
     ]
    },
    {
     "name": "stdout",
     "output_type": "stream",
     "text": [
      "[1] \"Plasma cell\"\n",
      "[1] 5\n"
     ]
    },
    {
     "name": "stderr",
     "output_type": "stream",
     "text": [
      "\u001b[1m\u001b[22mJoining with `by = join_by(pbmc_sample_id)`\n"
     ]
    },
    {
     "name": "stdout",
     "output_type": "stream",
     "text": [
      "[1] \"Platelet\"\n",
      "[1] 4\n"
     ]
    },
    {
     "name": "stderr",
     "output_type": "stream",
     "text": [
      "\u001b[1m\u001b[22mJoining with `by = join_by(pbmc_sample_id)`\n"
     ]
    },
    {
     "name": "stdout",
     "output_type": "stream",
     "text": [
      "[1] \"Proliferating T cell\"\n",
      "[1] 20\n"
     ]
    },
    {
     "name": "stderr",
     "output_type": "stream",
     "text": [
      "\u001b[1m\u001b[22mJoining with `by = join_by(pbmc_sample_id)`\n"
     ]
    },
    {
     "name": "stdout",
     "output_type": "stream",
     "text": [
      "[1] \"SOX4+ naive CD4 T cell\"\n",
      "[1] 430\n"
     ]
    },
    {
     "name": "stderr",
     "output_type": "stream",
     "text": [
      "\u001b[1m\u001b[22mJoining with `by = join_by(pbmc_sample_id)`\n"
     ]
    },
    {
     "name": "stdout",
     "output_type": "stream",
     "text": [
      "[1] \"SOX4+ naive CD8 T cell\"\n",
      "[1] 8\n"
     ]
    },
    {
     "name": "stderr",
     "output_type": "stream",
     "text": [
      "\u001b[1m\u001b[22mJoining with `by = join_by(pbmc_sample_id)`\n"
     ]
    },
    {
     "name": "stdout",
     "output_type": "stream",
     "text": [
      "[1] \"SOX4+ Vd1 gdT\"\n",
      "[1] 2\n"
     ]
    },
    {
     "name": "stderr",
     "output_type": "stream",
     "text": [
      "\u001b[1m\u001b[22mJoining with `by = join_by(pbmc_sample_id)`\n"
     ]
    }
   ],
   "source": [
    "for (celltype_single in selected_celltype){\n",
    "print(celltype_single)\n",
    "selected_genes<-DEG_filtered %>% filter(celltype==celltype_single) %>% select(X) %>% pull()\n",
    "print(length(selected_genes))\n",
    "df_list<-mclapply(meta_data_D0_BR2$pbmc_sample_id,function(i){\n",
    "df<-read.csv(paste0('/home//jupyter/BRI_Analysis/scRNA/Average_Expression_by_Celltype_and_Sample/',i,'_AIFI_L3.csv'),\n",
    "             check.names = FALSE, row.names=1) \n",
    "if (!(celltype_single %in% colnames(df))) {\n",
    "    return(NULL)\n",
    "  }\n",
    "  \n",
    "df_subset <- df[selected_genes, celltype_single, drop = FALSE]\n",
    "\n",
    "df_subset$pbmc_sample_id <- i\n",
    "df_subset$Gene <- selected_genes\n",
    "\n",
    "df_subset <- pivot_longer(df_subset, \n",
    "                        cols = -c(pbmc_sample_id, Gene), \n",
    "                        names_to = \"AIFI_L3\", \n",
    "                        values_to = \"Mean_Expression\")\n",
    "return(df_subset)\n",
    "},mc.cores=60)\n",
    "\n",
    "mean_df<-do.call(rbind,df_list)\n",
    "mean_df<-left_join(mean_df,meta_data_D0_BR2)\n",
    "\n",
    "res_list<-mclapply(unique(selected_genes),function(x){\n",
    "\n",
    "mean_df_sub<-mean_df  %>% filter(Gene==x)\n",
    "mean_df_sub$sample.daysSinceFirstVisit_scaled<-scale(mean_df_sub$sample.daysSinceFirstVisit)\n",
    "res<-lm(Mean_Expression ~ Ages+CMV.IgG.Serology.Result.Interpretation+subject.biologicalSex, data=mean_df_sub)\n",
    "res<-as.data.frame(summary(res)$coefficients)\n",
    "res$Gene=x\n",
    "res$celltype=celltype_single\n",
    "res$factor<-rownames(res)\n",
    "rownames(res)<-NULL\n",
    "return(res)\n",
    "\n",
    "},mc.cores=60)\n",
    "res_list_all<-do.call(rbind,res_list)\n",
    "    \n",
    "write.csv(res_list_all,paste0('04B_LMM_Ages_BR1_OR_BR2/',celltype_single,\"_BR2.csv\"))\n",
    "}"
   ]
  },
  {
   "cell_type": "code",
   "execution_count": 26,
   "id": "5b35915f-69af-4408-8e6a-7ca9d4927b86",
   "metadata": {
    "tags": []
   },
   "outputs": [
    {
     "data": {
      "text/html": [
       "<style>\n",
       ".list-inline {list-style: none; margin:0; padding: 0}\n",
       ".list-inline>li {display: inline-block}\n",
       ".list-inline>li:not(:last-child)::after {content: \"\\00b7\"; padding: 0 .5ex}\n",
       "</style>\n",
       "<ol class=list-inline><li>'CD27- effector B cell'</li><li>'CD27+ effector B cell'</li><li>'CD4 MAIT'</li><li>'CD56bright NK cell'</li><li>'CD8 MAIT'</li><li>'CD8aa'</li><li>'cDC1'</li><li>'CM CD4 T cell'</li><li>'CM CD8 T cell'</li><li>'Core CD14 monocyte'</li><li>'Core CD16 monocyte'</li><li>'Core memory B cell'</li><li>'Core naive B cell'</li><li>'Core naive CD4 T cell'</li><li>'Core naive CD8 T cell '</li><li>'DN T cell'</li><li>'Erythrocyte'</li><li>'GZMB- CD27- EM CD4 T cell'</li><li>'GZMB- CD27+ EM CD4 T cell'</li><li>'GZMB+ Vd2 gdT'</li><li>'GZMK- CD27+ EM CD8 T cell'</li><li>'GZMK- CD56dim NK cell'</li><li>'GZMK+ CD27+ EM CD8 T cell'</li><li>'GZMK+ Vd2 gdT'</li><li>'HLA-DRhi cDC2'</li><li>'IL1B+ CD14 monocyte'</li><li>'Intermediate monocyte'</li><li>'ISG+ CD14 monocyte'</li><li>'ISG+ memory CD4 T cell'</li><li>'ISG+ naive CD4 T cell'</li><li>'KLRB1+ memory CD4 Treg'</li><li>'KLRF1- effector Vd1 gdT'</li><li>'KLRF1- GZMB+ CD27- EM CD8 T cell'</li><li>'KLRF1+ GZMB+ CD27- EM CD8 T cell'</li><li>'Memory CD4 Treg'</li><li>'Memory CD8 Treg'</li><li>'Naive CD4 Treg'</li><li>'Naive Vd1 gdT'</li><li>'Plasma cell'</li><li>'Platelet'</li><li>'Proliferating T cell'</li><li>'SOX4+ naive CD4 T cell'</li><li>'SOX4+ naive CD8 T cell'</li><li>'SOX4+ Vd1 gdT'</li></ol>\n"
      ],
      "text/latex": [
       "\\begin{enumerate*}\n",
       "\\item 'CD27- effector B cell'\n",
       "\\item 'CD27+ effector B cell'\n",
       "\\item 'CD4 MAIT'\n",
       "\\item 'CD56bright NK cell'\n",
       "\\item 'CD8 MAIT'\n",
       "\\item 'CD8aa'\n",
       "\\item 'cDC1'\n",
       "\\item 'CM CD4 T cell'\n",
       "\\item 'CM CD8 T cell'\n",
       "\\item 'Core CD14 monocyte'\n",
       "\\item 'Core CD16 monocyte'\n",
       "\\item 'Core memory B cell'\n",
       "\\item 'Core naive B cell'\n",
       "\\item 'Core naive CD4 T cell'\n",
       "\\item 'Core naive CD8 T cell '\n",
       "\\item 'DN T cell'\n",
       "\\item 'Erythrocyte'\n",
       "\\item 'GZMB- CD27- EM CD4 T cell'\n",
       "\\item 'GZMB- CD27+ EM CD4 T cell'\n",
       "\\item 'GZMB+ Vd2 gdT'\n",
       "\\item 'GZMK- CD27+ EM CD8 T cell'\n",
       "\\item 'GZMK- CD56dim NK cell'\n",
       "\\item 'GZMK+ CD27+ EM CD8 T cell'\n",
       "\\item 'GZMK+ Vd2 gdT'\n",
       "\\item 'HLA-DRhi cDC2'\n",
       "\\item 'IL1B+ CD14 monocyte'\n",
       "\\item 'Intermediate monocyte'\n",
       "\\item 'ISG+ CD14 monocyte'\n",
       "\\item 'ISG+ memory CD4 T cell'\n",
       "\\item 'ISG+ naive CD4 T cell'\n",
       "\\item 'KLRB1+ memory CD4 Treg'\n",
       "\\item 'KLRF1- effector Vd1 gdT'\n",
       "\\item 'KLRF1- GZMB+ CD27- EM CD8 T cell'\n",
       "\\item 'KLRF1+ GZMB+ CD27- EM CD8 T cell'\n",
       "\\item 'Memory CD4 Treg'\n",
       "\\item 'Memory CD8 Treg'\n",
       "\\item 'Naive CD4 Treg'\n",
       "\\item 'Naive Vd1 gdT'\n",
       "\\item 'Plasma cell'\n",
       "\\item 'Platelet'\n",
       "\\item 'Proliferating T cell'\n",
       "\\item 'SOX4+ naive CD4 T cell'\n",
       "\\item 'SOX4+ naive CD8 T cell'\n",
       "\\item 'SOX4+ Vd1 gdT'\n",
       "\\end{enumerate*}\n"
      ],
      "text/markdown": [
       "1. 'CD27- effector B cell'\n",
       "2. 'CD27+ effector B cell'\n",
       "3. 'CD4 MAIT'\n",
       "4. 'CD56bright NK cell'\n",
       "5. 'CD8 MAIT'\n",
       "6. 'CD8aa'\n",
       "7. 'cDC1'\n",
       "8. 'CM CD4 T cell'\n",
       "9. 'CM CD8 T cell'\n",
       "10. 'Core CD14 monocyte'\n",
       "11. 'Core CD16 monocyte'\n",
       "12. 'Core memory B cell'\n",
       "13. 'Core naive B cell'\n",
       "14. 'Core naive CD4 T cell'\n",
       "15. 'Core naive CD8 T cell '\n",
       "16. 'DN T cell'\n",
       "17. 'Erythrocyte'\n",
       "18. 'GZMB- CD27- EM CD4 T cell'\n",
       "19. 'GZMB- CD27+ EM CD4 T cell'\n",
       "20. 'GZMB+ Vd2 gdT'\n",
       "21. 'GZMK- CD27+ EM CD8 T cell'\n",
       "22. 'GZMK- CD56dim NK cell'\n",
       "23. 'GZMK+ CD27+ EM CD8 T cell'\n",
       "24. 'GZMK+ Vd2 gdT'\n",
       "25. 'HLA-DRhi cDC2'\n",
       "26. 'IL1B+ CD14 monocyte'\n",
       "27. 'Intermediate monocyte'\n",
       "28. 'ISG+ CD14 monocyte'\n",
       "29. 'ISG+ memory CD4 T cell'\n",
       "30. 'ISG+ naive CD4 T cell'\n",
       "31. 'KLRB1+ memory CD4 Treg'\n",
       "32. 'KLRF1- effector Vd1 gdT'\n",
       "33. 'KLRF1- GZMB+ CD27- EM CD8 T cell'\n",
       "34. 'KLRF1+ GZMB+ CD27- EM CD8 T cell'\n",
       "35. 'Memory CD4 Treg'\n",
       "36. 'Memory CD8 Treg'\n",
       "37. 'Naive CD4 Treg'\n",
       "38. 'Naive Vd1 gdT'\n",
       "39. 'Plasma cell'\n",
       "40. 'Platelet'\n",
       "41. 'Proliferating T cell'\n",
       "42. 'SOX4+ naive CD4 T cell'\n",
       "43. 'SOX4+ naive CD8 T cell'\n",
       "44. 'SOX4+ Vd1 gdT'\n",
       "\n",
       "\n"
      ],
      "text/plain": [
       " [1] \"CD27- effector B cell\"            \"CD27+ effector B cell\"           \n",
       " [3] \"CD4 MAIT\"                         \"CD56bright NK cell\"              \n",
       " [5] \"CD8 MAIT\"                         \"CD8aa\"                           \n",
       " [7] \"cDC1\"                             \"CM CD4 T cell\"                   \n",
       " [9] \"CM CD8 T cell\"                    \"Core CD14 monocyte\"              \n",
       "[11] \"Core CD16 monocyte\"               \"Core memory B cell\"              \n",
       "[13] \"Core naive B cell\"                \"Core naive CD4 T cell\"           \n",
       "[15] \"Core naive CD8 T cell \"           \"DN T cell\"                       \n",
       "[17] \"Erythrocyte\"                      \"GZMB- CD27- EM CD4 T cell\"       \n",
       "[19] \"GZMB- CD27+ EM CD4 T cell\"        \"GZMB+ Vd2 gdT\"                   \n",
       "[21] \"GZMK- CD27+ EM CD8 T cell\"        \"GZMK- CD56dim NK cell\"           \n",
       "[23] \"GZMK+ CD27+ EM CD8 T cell\"        \"GZMK+ Vd2 gdT\"                   \n",
       "[25] \"HLA-DRhi cDC2\"                    \"IL1B+ CD14 monocyte\"             \n",
       "[27] \"Intermediate monocyte\"            \"ISG+ CD14 monocyte\"              \n",
       "[29] \"ISG+ memory CD4 T cell\"           \"ISG+ naive CD4 T cell\"           \n",
       "[31] \"KLRB1+ memory CD4 Treg\"           \"KLRF1- effector Vd1 gdT\"         \n",
       "[33] \"KLRF1- GZMB+ CD27- EM CD8 T cell\" \"KLRF1+ GZMB+ CD27- EM CD8 T cell\"\n",
       "[35] \"Memory CD4 Treg\"                  \"Memory CD8 Treg\"                 \n",
       "[37] \"Naive CD4 Treg\"                   \"Naive Vd1 gdT\"                   \n",
       "[39] \"Plasma cell\"                      \"Platelet\"                        \n",
       "[41] \"Proliferating T cell\"             \"SOX4+ naive CD4 T cell\"          \n",
       "[43] \"SOX4+ naive CD8 T cell\"           \"SOX4+ Vd1 gdT\"                   "
      ]
     },
     "metadata": {},
     "output_type": "display_data"
    }
   ],
   "source": [
    "selected_celltype"
   ]
  },
  {
   "cell_type": "code",
   "execution_count": 27,
   "id": "7dbf1237-7cd5-4ab5-aa71-b1489d2ac7b4",
   "metadata": {
    "tags": []
   },
   "outputs": [
    {
     "name": "stdout",
     "output_type": "stream",
     "text": [
      "[1] 358\n"
     ]
    }
   ],
   "source": [
    "celltype_single='Core naive CD4 T cell'\n",
    "selected_genes<-DEG_filtered %>% filter(celltype==celltype_single) %>% select(X) %>% pull()\n",
    "print(length(selected_genes))\n",
    "df_list<-mclapply(meta_data_D0_BR2$pbmc_sample_id,function(i){\n",
    "df<-read.csv(paste0('/home//jupyter/BRI_Analysis/scRNA/Average_Expression_by_Celltype_and_Sample/',i,'_AIFI_L3.csv'),\n",
    "             check.names = FALSE, row.names=1) \n",
    "if (!(celltype_single %in% colnames(df))) {\n",
    "    return(NULL)\n",
    "  }\n",
    "  \n",
    "df_subset <- df[selected_genes, celltype_single, drop = FALSE]\n",
    "\n",
    "df_subset$pbmc_sample_id <- i\n",
    "df_subset$Gene <- selected_genes\n",
    "\n",
    "df_subset <- pivot_longer(df_subset, \n",
    "                        cols = -c(pbmc_sample_id, Gene), \n",
    "                        names_to = \"AIFI_L3\", \n",
    "                        values_to = \"Mean_Expression\")\n",
    "return(df_subset)\n",
    "},mc.cores=60)"
   ]
  },
  {
   "cell_type": "code",
   "execution_count": 29,
   "id": "f4d57272-02b1-4d98-8a56-2e85aaba4897",
   "metadata": {
    "tags": []
   },
   "outputs": [
    {
     "name": "stderr",
     "output_type": "stream",
     "text": [
      "\u001b[1m\u001b[22mJoining with `by = join_by(pbmc_sample_id)`\n"
     ]
    }
   ],
   "source": [
    "\n",
    "mean_df<-do.call(rbind,df_list)\n",
    "mean_df<-left_join(mean_df,meta_data_D0_BR2)"
   ]
  },
  {
   "cell_type": "code",
   "execution_count": 53,
   "id": "03d4e0cb-39c8-4c06-88f7-dc5ac0126d70",
   "metadata": {
    "tags": []
   },
   "outputs": [
    {
     "name": "stdout",
     "output_type": "stream",
     "text": [
      "[1] \"UGP2\"\n",
      "[1] \"MT2A\"\n"
     ]
    }
   ],
   "source": [
    "for (x in selected_genes){\n",
    "print(x)\n",
    "mean_df_sub<-mean_df  %>% filter(Gene=='UGP2')\n",
    "mean_df_sub$sample.daysSinceFirstVisit_scaled<-scale(mean_df_sub$sample.daysSinceFirstVisit)\n",
    "res<-lm(Mean_Expression ~ Ages+CMV.IgG.Serology.Result.Interpretation+subject.biologicalSex, data=mean_df_sub)\n",
    "}"
   ]
  },
  {
   "cell_type": "code",
   "execution_count": 54,
   "id": "095426b6-a3c7-409c-9377-303fb678e6b8",
   "metadata": {
    "tags": []
   },
   "outputs": [
    {
     "data": {
      "text/html": [
       "<style>\n",
       ".list-inline {list-style: none; margin:0; padding: 0}\n",
       ".list-inline>li {display: inline-block}\n",
       ".list-inline>li:not(:last-child)::after {content: \"\\00b7\"; padding: 0 .5ex}\n",
       "</style>\n",
       "<ol class=list-inline><li>'UGP2'</li><li>'MT2A'</li></ol>\n"
      ],
      "text/latex": [
       "\\begin{enumerate*}\n",
       "\\item 'UGP2'\n",
       "\\item 'MT2A'\n",
       "\\end{enumerate*}\n"
      ],
      "text/markdown": [
       "1. 'UGP2'\n",
       "2. 'MT2A'\n",
       "\n",
       "\n"
      ],
      "text/plain": [
       "[1] \"UGP2\" \"MT2A\""
      ]
     },
     "metadata": {},
     "output_type": "display_data"
    }
   ],
   "source": [
    "selected_genes"
   ]
  },
  {
   "cell_type": "code",
   "execution_count": 55,
   "id": "802de84f-a12c-4eaa-8738-987dac6962a0",
   "metadata": {
    "tags": []
   },
   "outputs": [],
   "source": [
    "res<-lm(Mean_Expression ~ Ages+CMV.IgG.Serology.Result.Interpretation+subject.biologicalSex, data=mean_df_sub)"
   ]
  },
  {
   "cell_type": "code",
   "execution_count": 56,
   "id": "f1a51e07-4e3e-4e22-9b51-c5b2ab4ca98f",
   "metadata": {
    "tags": []
   },
   "outputs": [
    {
     "data": {
      "text/html": [
       "<table class=\"dataframe\">\n",
       "<caption>A performance_model: 1 × 7</caption>\n",
       "<thead>\n",
       "\t<tr><th></th><th scope=col>AIC</th><th scope=col>AICc</th><th scope=col>BIC</th><th scope=col>R2</th><th scope=col>R2_adjusted</th><th scope=col>RMSE</th><th scope=col>Sigma</th></tr>\n",
       "\t<tr><th></th><th scope=col>&lt;dbl&gt;</th><th scope=col>&lt;dbl&gt;</th><th scope=col>&lt;dbl&gt;</th><th scope=col>&lt;dbl&gt;</th><th scope=col>&lt;dbl&gt;</th><th scope=col>&lt;dbl&gt;</th><th scope=col>&lt;dbl&gt;</th></tr>\n",
       "</thead>\n",
       "<tbody>\n",
       "\t<tr><th scope=row>1</th><td>65.86484</td><td>68.26484</td><td>73.03478</td><td>0.03248686</td><td>-0.07501459</td><td>0.5957747</td><td>0.6383826</td></tr>\n",
       "</tbody>\n",
       "</table>\n"
      ],
      "text/latex": [
       "A performance\\_model: 1 × 7\n",
       "\\begin{tabular}{r|lllllll}\n",
       "  & AIC & AICc & BIC & R2 & R2\\_adjusted & RMSE & Sigma\\\\\n",
       "  & <dbl> & <dbl> & <dbl> & <dbl> & <dbl> & <dbl> & <dbl>\\\\\n",
       "\\hline\n",
       "\t1 & 65.86484 & 68.26484 & 73.03478 & 0.03248686 & -0.07501459 & 0.5957747 & 0.6383826\\\\\n",
       "\\end{tabular}\n"
      ],
      "text/markdown": [
       "\n",
       "A performance_model: 1 × 7\n",
       "\n",
       "| <!--/--> | AIC &lt;dbl&gt; | AICc &lt;dbl&gt; | BIC &lt;dbl&gt; | R2 &lt;dbl&gt; | R2_adjusted &lt;dbl&gt; | RMSE &lt;dbl&gt; | Sigma &lt;dbl&gt; |\n",
       "|---|---|---|---|---|---|---|---|\n",
       "| 1 | 65.86484 | 68.26484 | 73.03478 | 0.03248686 | -0.07501459 | 0.5957747 | 0.6383826 |\n",
       "\n"
      ],
      "text/plain": [
       "  AIC      AICc     BIC      R2         R2_adjusted RMSE      Sigma    \n",
       "1 65.86484 68.26484 73.03478 0.03248686 -0.07501459 0.5957747 0.6383826"
      ]
     },
     "metadata": {},
     "output_type": "display_data"
    }
   ],
   "source": [
    "performance(res)"
   ]
  },
  {
   "cell_type": "code",
   "execution_count": 57,
   "id": "3f459f63-95b4-4bbc-8ab8-1cf9990d72a4",
   "metadata": {
    "tags": []
   },
   "outputs": [
    {
     "data": {
      "image/png": "[encoded data removed]",
      "text/plain": [
       "plot without title"
      ]
     },
     "metadata": {
      "image/png": {
       "height": 420,
       "width": 420
      }
     },
     "output_type": "display_data"
    }
   ],
   "source": [
    "performance::check_model(res) "
   ]
  },
  {
   "cell_type": "code",
   "execution_count": null,
   "id": "9de5529f-0181-4185-ad5b-76baed4f8d86",
   "metadata": {},
   "outputs": [],
   "source": []
  },
  {
   "cell_type": "code",
   "execution_count": null,
   "id": "d473eeb9-3c96-4b25-a619-f5b4ed14d6c0",
   "metadata": {},
   "outputs": [],
   "source": []
  }
 ],
 "metadata": {
  "kernelspec": {
   "display_name": "R 4",
   "language": "R",
   "name": "ir4"
  },
  "language_info": {
   "codemirror_mode": "r",
   "file_extension": ".r",
   "mimetype": "text/x-r-source",
   "name": "R",
   "pygments_lexer": "r",
   "version": "4.3.1"
  }
 },
 "nbformat": 4,
 "nbformat_minor": 5
}
