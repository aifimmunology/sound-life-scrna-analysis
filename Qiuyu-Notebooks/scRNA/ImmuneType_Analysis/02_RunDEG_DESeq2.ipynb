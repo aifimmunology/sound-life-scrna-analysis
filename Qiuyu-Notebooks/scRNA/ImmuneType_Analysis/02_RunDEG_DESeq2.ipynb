{
 "cells": [
  {
   "cell_type": "code",
   "execution_count": 1,
   "id": "77d66d0a-6634-4e7e-8ff1-43d976fa74a9",
   "metadata": {
    "tags": []
   },
   "outputs": [
    {
     "name": "stderr",
     "output_type": "stream",
     "text": [
      "Skipping install of 'sceasy' from a github remote, the SHA1 (c1c0bf97) has not changed since last install.\n",
      "  Use `force = TRUE` to force installation\n",
      "\n",
      "Installing package into ‘/home/jupyter/libb’\n",
      "(as ‘lib’ is unspecified)\n",
      "\n"
     ]
    }
   ],
   "source": [
    "devtools::install_github(\"cellgeni/sceasy\")\n",
    "install.packages('anndata')\n",
    "library(anndata)"
   ]
  },
  {
   "cell_type": "code",
   "execution_count": 2,
   "id": "091642de-f285-4fe7-afae-3a03563c743e",
   "metadata": {
    "tags": []
   },
   "outputs": [
    {
     "name": "stderr",
     "output_type": "stream",
     "text": [
      "Loading required package: reticulate\n",
      "\n",
      "Loading required package: grid\n",
      "\n",
      "========================================\n",
      "ComplexHeatmap version 2.18.0\n",
      "Bioconductor page: http://bioconductor.org/packages/ComplexHeatmap/\n",
      "Github page: https://github.com/jokergoo/ComplexHeatmap\n",
      "Documentation: http://jokergoo.github.io/ComplexHeatmap-reference\n",
      "\n",
      "If you use it in published research, please cite either one:\n",
      "- Gu, Z. Complex Heatmap Visualization. iMeta 2022.\n",
      "- Gu, Z. Complex heatmaps reveal patterns and correlations in multidimensional \n",
      "    genomic data. Bioinformatics 2016.\n",
      "\n",
      "\n",
      "The new InteractiveComplexHeatmap package can directly export static \n",
      "complex heatmaps into an interactive Shiny app with zero effort. Have a try!\n",
      "\n",
      "This message can be suppressed by:\n",
      "  suppressPackageStartupMessages(library(ComplexHeatmap))\n",
      "========================================\n",
      "! pheatmap() has been masked by ComplexHeatmap::pheatmap(). Most of the arguments\n",
      "   in the original pheatmap() are identically supported in the new function. You \n",
      "   can still use the original function by explicitly calling pheatmap::pheatmap().\n",
      "\n",
      "\n",
      "\n",
      "Attaching package: ‘ComplexHeatmap’\n",
      "\n",
      "\n",
      "The following object is masked from ‘package:pheatmap’:\n",
      "\n",
      "    pheatmap\n",
      "\n",
      "\n",
      "========================================\n",
      "circlize version 0.4.15\n",
      "CRAN page: https://cran.r-project.org/package=circlize\n",
      "Github page: https://github.com/jokergoo/circlize\n",
      "Documentation: https://jokergoo.github.io/circlize_book/book/\n",
      "\n",
      "If you use it in published research, please cite:\n",
      "Gu, Z. circlize implements and enhances circular visualization\n",
      "  in R. Bioinformatics 2014.\n",
      "\n",
      "This message can be suppressed by:\n",
      "  suppressPackageStartupMessages(library(circlize))\n",
      "========================================\n",
      "\n",
      "\n"
     ]
    }
   ],
   "source": [
    "library(sceasy)\n",
    "suppressPackageStartupMessages(library(readxl))\n",
    "suppressPackageStartupMessages(library(H5weaver))\n",
    "suppressPackageStartupMessages(library(dplyr))\n",
    "suppressPackageStartupMessages(library(tidyr))\n",
    "suppressPackageStartupMessages(library(tibble))\n",
    "suppressPackageStartupMessages(library(ggplot2))\n",
    "suppressPackageStartupMessages(library(Seurat))\n",
    "suppressPackageStartupMessages(library(patchwork))\n",
    "suppressPackageStartupMessages(library(pheatmap))\n",
    "suppressPackageStartupMessages(library(lme4))\n",
    "suppressPackageStartupMessages(library(MAST))\n",
    "suppressPackageStartupMessages(library(stringr))\n",
    "library(hise)\n",
    "library(parallel)\n",
    "library(DESeq2)\n",
    "options(\"mc.cores\"=50)\n",
    "library(ComplexHeatmap)\n",
    "library(circlize)\n"
   ]
  },
  {
   "cell_type": "code",
   "execution_count": 3,
   "id": "7610d1c3-4259-4762-b77d-e4fd8079e24e",
   "metadata": {
    "tags": []
   },
   "outputs": [],
   "source": [
    "ImmuneType<-read.csv('SLP_Immunotype_Assignments.csv')\n",
    "colnames(ImmuneType)<-c('ImmuneType','subject.subjectGuid')\n",
    "ImmuneType$ImmuneType<-as.character(ImmuneType$ImmuneType)"
   ]
  },
  {
   "cell_type": "code",
   "execution_count": 4,
   "id": "17375bfb-3de1-4408-82f1-665e2b6a0fbd",
   "metadata": {
    "tags": []
   },
   "outputs": [],
   "source": [
    "meta_data=read.csv('/home//jupyter/BRI_Analysis/scRNA/hise_meta_data_2024-01-23_fixed.csv')\n",
    "meta_data_subset<-meta_data%>% filter(sample.visitName %in% c('Flu Year 1 Day 0'))"
   ]
  },
  {
   "cell_type": "code",
   "execution_count": 5,
   "id": "fdca083c-873e-40ff-b871-4ef212f07abb",
   "metadata": {
    "tags": []
   },
   "outputs": [
    {
     "name": "stderr",
     "output_type": "stream",
     "text": [
      "\u001b[1m\u001b[22mJoining with `by = join_by(subject.subjectGuid)`\n"
     ]
    }
   ],
   "source": [
    "meta_data_subset<-left_join(meta_data_subset,ImmuneType,)"
   ]
  },
  {
   "cell_type": "code",
   "execution_count": 6,
   "id": "c7ff97db-2bb2-48fc-a9a4-c90e403de889",
   "metadata": {
    "tags": []
   },
   "outputs": [],
   "source": [
    "bulk_list<-mclapply(meta_data_subset$pbmc_sample_id,function(x){\n",
    "\n",
    "pbmc <-sceasy::convertFormat(paste0('/home/jupyter/BRI_Analysis/scRNA/h5_cleaned_by_sample/',x,'.h5ad'), from=\"anndata\", to=\"seurat\")\n",
    "bulk <- Seurat:::PseudobulkExpression(object = pbmc, pb.method = 'aggregate',   group.by = \"AIFI_L3\",slot = 'counts')$RNA\n",
    "colnames(bulk)<-paste0(x,\":\",colnames(bulk))\n",
    "return(bulk)\n",
    "},mc.cores=60)\n"
   ]
  },
  {
   "cell_type": "code",
   "execution_count": null,
   "id": "bc0e79bb-62f2-4a03-b64a-475ddc382dd3",
   "metadata": {},
   "outputs": [],
   "source": [
    "for (celltype in str_extract(colnames(bulk_list[[1]]), \"(?<=:).*\")){\n",
    "print(celltype)\n",
    "matirx_list<-mclapply(bulk_list,function(bulk_matrix){\n",
    "\n",
    "matching_columns <- grepl(celltype, colnames(bulk_matrix),, fixed = TRUE)\n",
    "matching_columns<-colnames(bulk_matrix)[matching_columns]\n",
    "bulk_matrix_single <- as.data.frame(bulk_matrix[, matching_columns, drop = FALSE])\n",
    "return(bulk_matrix_single)\n",
    "},mc.cores=60)\n",
    "\n",
    "df_all<-do.call(cbind,matirx_list)\n",
    "df_meta_data<-as.data.frame(colnames(df_all))\n",
    "colnames(df_meta_data)<-'sample_name'\n",
    "split_columns <- strsplit(df_meta_data$sample_name, \":\")\n",
    "df_meta_data$pbmc_sample_id <- sapply(split_columns, `[`, 1)\n",
    "df_meta_data$AIFI_L3 <- sapply(split_columns, `[`, 2)\n",
    "df_meta_data<-left_join(df_meta_data,meta_data_subset)\n",
    "rownames(df_meta_data)<-df_meta_data$sample_name\n",
    "selected_gene_list<-read.csv('filtered_gene_list.csv')\n",
    "selGenes<-selected_gene_list %>% filter(AIFI_L3==celltype) %>% select(gene) %>% pull()  \n",
    "\n",
    "\n",
    "dds <- DESeqDataSetFromMatrix(df_all[selGenes,], colData = df_meta_data, \n",
    "                              design = ~  0+ImmuneType)\n",
    "dds <- DESeq(dds,parallel=FALSE)\n",
    "\n",
    "res_ImmuneType1 <- data.frame(results(dds,contrast=list(c(\"ImmuneType1\"), \n",
    "                      c(\"ImmuneType2\",\"ImmuneType3\",\"ImmuneType4\")),\n",
    "        listValues=c(1, -1/3)))\n",
    "res_ImmuneType2 <- data.frame(results(dds,contrast=list(c(\"ImmuneType2\"), \n",
    "                      c(\"ImmuneType1\",\"ImmuneType3\",\"ImmuneType4\")),\n",
    "        listValues=c(1, -1/3)))    \n",
    "res_ImmuneType3 <- data.frame(results(dds,contrast=list(c(\"ImmuneType3\"), \n",
    "                      c(\"ImmuneType2\",\"ImmuneType1\",\"ImmuneType4\")),\n",
    "        listValues=c(1, -1/3)))\n",
    "res_ImmuneType4 <- data.frame(results(dds,contrast=list(c(\"ImmuneType4\"), \n",
    "                      c(\"ImmuneType2\",\"ImmuneType3\",\"ImmuneType1\")),\n",
    "        listValues=c(1, -1/3)))\n",
    "res_ImmuneType1$ImmuneType<-\"1\"\n",
    "res_ImmuneType2$ImmuneType<-\"2\"\n",
    "res_ImmuneType3$ImmuneType<-\"3\"\n",
    "res_ImmuneType4$ImmuneType<-\"4\"\n",
    "res_ImmuneType1$Gene<-rownames(res_ImmuneType1)\n",
    "res_ImmuneType2$Gene<-rownames(res_ImmuneType2)\n",
    "res_ImmuneType3$Gene<-rownames(res_ImmuneType3)\n",
    "res_ImmuneType4$Gene<-rownames(res_ImmuneType4)\n",
    "res<-do.call(rbind,list(res_ImmuneType1,res_ImmuneType2,res_ImmuneType3,res_ImmuneType4))\n",
    "res$celltype<-celltype\n",
    "res=res %>% arrange(padj) %>% mutate(Direction=case_when(log2FoldChange<0~'HigherInOtherImmueType',log2FoldChange>0~'HigherInThisImmuneType'))\n",
    "res$Year<-\"Y1D0\"\n",
    "\n",
    "write.csv(res,paste0(\"DESeq2_ImmuneType/\",celltype,\".csv\"))\n",
    "\n",
    "}\n",
    "\n"
   ]
  },
  {
   "cell_type": "code",
   "execution_count": 8,
   "id": "e6e9ec90-f981-49e6-a0bf-0e07d9d8b6d9",
   "metadata": {
    "collapsed": true,
    "jupyter": {
     "outputs_hidden": true
    },
    "tags": []
   },
   "outputs": [
    {
     "name": "stdout",
     "output_type": "stream",
     "text": [
      "[1] \"ASDC\"\n"
     ]
    },
    {
     "name": "stderr",
     "output_type": "stream",
     "text": [
      "\u001b[1m\u001b[22mJoining with `by = join_by(pbmc_sample_id)`\n",
      "converting counts to integer mode\n",
      "\n",
      "Warning message in DESeqDataSet(se, design = design, ignoreRank):\n",
      "“some variables in design formula are characters, converting to factors”\n",
      "estimating size factors\n",
      "\n",
      "estimating dispersions\n",
      "\n",
      "gene-wise dispersion estimates\n",
      "\n",
      "mean-dispersion relationship\n",
      "\n",
      "final dispersion estimates\n",
      "\n",
      "fitting model and testing\n",
      "\n",
      "-- replacing outliers and refitting for 1 genes\n",
      "-- DESeq argument 'minReplicatesForReplace' = 7 \n",
      "-- original counts are preserved in counts(dds)\n",
      "\n",
      "estimating dispersions\n",
      "\n",
      "fitting model and testing\n",
      "\n"
     ]
    },
    {
     "name": "stdout",
     "output_type": "stream",
     "text": [
      "[1] \"Activated memory B cell\"\n"
     ]
    },
    {
     "name": "stderr",
     "output_type": "stream",
     "text": [
      "\u001b[1m\u001b[22mJoining with `by = join_by(pbmc_sample_id)`\n",
      "converting counts to integer mode\n",
      "\n",
      "Warning message in DESeqDataSet(se, design = design, ignoreRank):\n",
      "“some variables in design formula are characters, converting to factors”\n",
      "estimating size factors\n",
      "\n",
      "estimating dispersions\n",
      "\n",
      "gene-wise dispersion estimates\n",
      "\n",
      "mean-dispersion relationship\n",
      "\n",
      "final dispersion estimates\n",
      "\n",
      "fitting model and testing\n",
      "\n"
     ]
    },
    {
     "name": "stdout",
     "output_type": "stream",
     "text": [
      "[1] \"Adaptive NK cell\"\n"
     ]
    },
    {
     "name": "stderr",
     "output_type": "stream",
     "text": [
      "\u001b[1m\u001b[22mJoining with `by = join_by(pbmc_sample_id)`\n",
      "converting counts to integer mode\n",
      "\n",
      "Warning message in DESeqDataSet(se, design = design, ignoreRank):\n",
      "“some variables in design formula are characters, converting to factors”\n",
      "estimating size factors\n",
      "\n",
      "estimating dispersions\n",
      "\n",
      "gene-wise dispersion estimates\n",
      "\n",
      "mean-dispersion relationship\n",
      "\n",
      "final dispersion estimates\n",
      "\n",
      "fitting model and testing\n",
      "\n"
     ]
    },
    {
     "name": "stdout",
     "output_type": "stream",
     "text": [
      "[1] \"BaEoMaP cell\"\n"
     ]
    },
    {
     "name": "stderr",
     "output_type": "stream",
     "text": [
      "\u001b[1m\u001b[22mJoining with `by = join_by(pbmc_sample_id)`\n",
      "converting counts to integer mode\n",
      "\n",
      "Warning message in DESeqDataSet(se, design = design, ignoreRank):\n",
      "“some variables in design formula are characters, converting to factors”\n",
      "estimating size factors\n",
      "\n",
      "estimating dispersions\n",
      "\n",
      "gene-wise dispersion estimates\n",
      "\n",
      "mean-dispersion relationship\n",
      "\n",
      "final dispersion estimates\n",
      "\n",
      "fitting model and testing\n",
      "\n",
      "-- replacing outliers and refitting for 1 genes\n",
      "-- DESeq argument 'minReplicatesForReplace' = 7 \n",
      "-- original counts are preserved in counts(dds)\n",
      "\n",
      "estimating dispersions\n",
      "\n",
      "fitting model and testing\n",
      "\n"
     ]
    },
    {
     "name": "stdout",
     "output_type": "stream",
     "text": [
      "[1] \"C1Q+ CD16 monocyte\"\n"
     ]
    },
    {
     "name": "stderr",
     "output_type": "stream",
     "text": [
      "\u001b[1m\u001b[22mJoining with `by = join_by(pbmc_sample_id)`\n",
      "converting counts to integer mode\n",
      "\n",
      "Warning message in DESeqDataSet(se, design = design, ignoreRank):\n",
      "“some variables in design formula are characters, converting to factors”\n",
      "estimating size factors\n",
      "\n",
      "estimating dispersions\n",
      "\n",
      "gene-wise dispersion estimates\n",
      "\n",
      "mean-dispersion relationship\n",
      "\n",
      "final dispersion estimates\n",
      "\n",
      "fitting model and testing\n",
      "\n",
      "-- replacing outliers and refitting for 2 genes\n",
      "-- DESeq argument 'minReplicatesForReplace' = 7 \n",
      "-- original counts are preserved in counts(dds)\n",
      "\n",
      "estimating dispersions\n",
      "\n",
      "fitting model and testing\n",
      "\n"
     ]
    },
    {
     "name": "stdout",
     "output_type": "stream",
     "text": [
      "[1] \"CD4 MAIT\"\n"
     ]
    },
    {
     "name": "stderr",
     "output_type": "stream",
     "text": [
      "\u001b[1m\u001b[22mJoining with `by = join_by(pbmc_sample_id)`\n",
      "converting counts to integer mode\n",
      "\n",
      "Warning message in DESeqDataSet(se, design = design, ignoreRank):\n",
      "“some variables in design formula are characters, converting to factors”\n",
      "estimating size factors\n",
      "\n",
      "estimating dispersions\n",
      "\n",
      "gene-wise dispersion estimates\n",
      "\n",
      "mean-dispersion relationship\n",
      "\n",
      "final dispersion estimates\n",
      "\n",
      "fitting model and testing\n",
      "\n",
      "-- replacing outliers and refitting for 1 genes\n",
      "-- DESeq argument 'minReplicatesForReplace' = 7 \n",
      "-- original counts are preserved in counts(dds)\n",
      "\n",
      "estimating dispersions\n",
      "\n",
      "fitting model and testing\n",
      "\n"
     ]
    },
    {
     "name": "stdout",
     "output_type": "stream",
     "text": [
      "[1] \"CD8 MAIT\"\n"
     ]
    },
    {
     "name": "stderr",
     "output_type": "stream",
     "text": [
      "\u001b[1m\u001b[22mJoining with `by = join_by(pbmc_sample_id)`\n",
      "converting counts to integer mode\n",
      "\n",
      "Warning message in DESeqDataSet(se, design = design, ignoreRank):\n",
      "“some variables in design formula are characters, converting to factors”\n",
      "estimating size factors\n",
      "\n",
      "estimating dispersions\n",
      "\n",
      "gene-wise dispersion estimates\n",
      "\n",
      "mean-dispersion relationship\n",
      "\n",
      "final dispersion estimates\n",
      "\n",
      "fitting model and testing\n",
      "\n",
      "-- replacing outliers and refitting for 1 genes\n",
      "-- DESeq argument 'minReplicatesForReplace' = 7 \n",
      "-- original counts are preserved in counts(dds)\n",
      "\n",
      "estimating dispersions\n",
      "\n",
      "fitting model and testing\n",
      "\n"
     ]
    },
    {
     "name": "stdout",
     "output_type": "stream",
     "text": [
      "[1] \"CD8aa\"\n"
     ]
    },
    {
     "name": "stderr",
     "output_type": "stream",
     "text": [
      "\u001b[1m\u001b[22mJoining with `by = join_by(pbmc_sample_id)`\n",
      "converting counts to integer mode\n",
      "\n",
      "Warning message in DESeqDataSet(se, design = design, ignoreRank):\n",
      "“some variables in design formula are characters, converting to factors”\n",
      "estimating size factors\n",
      "\n",
      "estimating dispersions\n",
      "\n",
      "gene-wise dispersion estimates\n",
      "\n",
      "mean-dispersion relationship\n",
      "\n",
      "final dispersion estimates\n",
      "\n",
      "fitting model and testing\n",
      "\n",
      "-- replacing outliers and refitting for 1 genes\n",
      "-- DESeq argument 'minReplicatesForReplace' = 7 \n",
      "-- original counts are preserved in counts(dds)\n",
      "\n",
      "estimating dispersions\n",
      "\n",
      "fitting model and testing\n",
      "\n"
     ]
    },
    {
     "name": "stdout",
     "output_type": "stream",
     "text": [
      "[1] \"CD14+ cDC2\"\n"
     ]
    },
    {
     "name": "stderr",
     "output_type": "stream",
     "text": [
      "\u001b[1m\u001b[22mJoining with `by = join_by(pbmc_sample_id)`\n",
      "converting counts to integer mode\n",
      "\n",
      "Warning message in DESeqDataSet(se, design = design, ignoreRank):\n",
      "“some variables in design formula are characters, converting to factors”\n",
      "estimating size factors\n",
      "\n",
      "estimating dispersions\n",
      "\n",
      "gene-wise dispersion estimates\n",
      "\n",
      "mean-dispersion relationship\n",
      "\n",
      "final dispersion estimates\n",
      "\n",
      "fitting model and testing\n",
      "\n",
      "-- replacing outliers and refitting for 1 genes\n",
      "-- DESeq argument 'minReplicatesForReplace' = 7 \n",
      "-- original counts are preserved in counts(dds)\n",
      "\n",
      "estimating dispersions\n",
      "\n",
      "fitting model and testing\n",
      "\n"
     ]
    },
    {
     "name": "stdout",
     "output_type": "stream",
     "text": [
      "[1] \"CD27+ effector B cell\"\n"
     ]
    },
    {
     "name": "stderr",
     "output_type": "stream",
     "text": [
      "\u001b[1m\u001b[22mJoining with `by = join_by(pbmc_sample_id)`\n",
      "converting counts to integer mode\n",
      "\n",
      "Warning message in DESeqDataSet(se, design = design, ignoreRank):\n",
      "“some variables in design formula are characters, converting to factors”\n",
      "estimating size factors\n",
      "\n",
      "estimating dispersions\n",
      "\n",
      "gene-wise dispersion estimates\n",
      "\n",
      "mean-dispersion relationship\n",
      "\n",
      "final dispersion estimates\n",
      "\n",
      "fitting model and testing\n",
      "\n",
      "-- replacing outliers and refitting for 1 genes\n",
      "-- DESeq argument 'minReplicatesForReplace' = 7 \n",
      "-- original counts are preserved in counts(dds)\n",
      "\n",
      "estimating dispersions\n",
      "\n",
      "fitting model and testing\n",
      "\n"
     ]
    },
    {
     "name": "stdout",
     "output_type": "stream",
     "text": [
      "[1] \"CD27- effector B cell\"\n"
     ]
    },
    {
     "name": "stderr",
     "output_type": "stream",
     "text": [
      "\u001b[1m\u001b[22mJoining with `by = join_by(pbmc_sample_id)`\n",
      "converting counts to integer mode\n",
      "\n",
      "Warning message in DESeqDataSet(se, design = design, ignoreRank):\n",
      "“some variables in design formula are characters, converting to factors”\n",
      "estimating size factors\n",
      "\n",
      "estimating dispersions\n",
      "\n",
      "gene-wise dispersion estimates\n",
      "\n",
      "mean-dispersion relationship\n",
      "\n",
      "final dispersion estimates\n",
      "\n",
      "fitting model and testing\n",
      "\n"
     ]
    },
    {
     "name": "stdout",
     "output_type": "stream",
     "text": [
      "[1] \"CD56bright NK cell\"\n"
     ]
    },
    {
     "name": "stderr",
     "output_type": "stream",
     "text": [
      "\u001b[1m\u001b[22mJoining with `by = join_by(pbmc_sample_id)`\n",
      "converting counts to integer mode\n",
      "\n",
      "Warning message in DESeqDataSet(se, design = design, ignoreRank):\n",
      "“some variables in design formula are characters, converting to factors”\n",
      "estimating size factors\n",
      "\n",
      "estimating dispersions\n",
      "\n",
      "gene-wise dispersion estimates\n",
      "\n",
      "mean-dispersion relationship\n",
      "\n",
      "final dispersion estimates\n",
      "\n",
      "fitting model and testing\n",
      "\n",
      "-- replacing outliers and refitting for 1 genes\n",
      "-- DESeq argument 'minReplicatesForReplace' = 7 \n",
      "-- original counts are preserved in counts(dds)\n",
      "\n",
      "estimating dispersions\n",
      "\n",
      "fitting model and testing\n",
      "\n"
     ]
    },
    {
     "name": "stdout",
     "output_type": "stream",
     "text": [
      "[1] \"CD95 memory B cell\"\n"
     ]
    },
    {
     "name": "stderr",
     "output_type": "stream",
     "text": [
      "\u001b[1m\u001b[22mJoining with `by = join_by(pbmc_sample_id)`\n",
      "converting counts to integer mode\n",
      "\n",
      "Warning message in DESeqDataSet(se, design = design, ignoreRank):\n",
      "“some variables in design formula are characters, converting to factors”\n",
      "estimating size factors\n",
      "\n",
      "estimating dispersions\n",
      "\n",
      "gene-wise dispersion estimates\n",
      "\n",
      "mean-dispersion relationship\n",
      "\n",
      "final dispersion estimates\n",
      "\n",
      "fitting model and testing\n",
      "\n",
      "-- replacing outliers and refitting for 2 genes\n",
      "-- DESeq argument 'minReplicatesForReplace' = 7 \n",
      "-- original counts are preserved in counts(dds)\n",
      "\n",
      "estimating dispersions\n",
      "\n",
      "fitting model and testing\n",
      "\n"
     ]
    },
    {
     "name": "stdout",
     "output_type": "stream",
     "text": [
      "[1] \"CLP cell\"\n"
     ]
    },
    {
     "name": "stderr",
     "output_type": "stream",
     "text": [
      "\u001b[1m\u001b[22mJoining with `by = join_by(pbmc_sample_id)`\n",
      "converting counts to integer mode\n",
      "\n",
      "Warning message in DESeqDataSet(se, design = design, ignoreRank):\n",
      "“some variables in design formula are characters, converting to factors”\n",
      "estimating size factors\n",
      "\n",
      "estimating dispersions\n",
      "\n",
      "gene-wise dispersion estimates\n",
      "\n",
      "mean-dispersion relationship\n",
      "\n",
      "final dispersion estimates\n",
      "\n",
      "fitting model and testing\n",
      "\n",
      "-- replacing outliers and refitting for 1 genes\n",
      "-- DESeq argument 'minReplicatesForReplace' = 7 \n",
      "-- original counts are preserved in counts(dds)\n",
      "\n",
      "estimating dispersions\n",
      "\n",
      "fitting model and testing\n",
      "\n"
     ]
    },
    {
     "name": "stdout",
     "output_type": "stream",
     "text": [
      "[1] \"CM CD4 T cell\"\n"
     ]
    },
    {
     "name": "stderr",
     "output_type": "stream",
     "text": [
      "\u001b[1m\u001b[22mJoining with `by = join_by(pbmc_sample_id)`\n",
      "converting counts to integer mode\n",
      "\n",
      "Warning message in DESeqDataSet(se, design = design, ignoreRank):\n",
      "“some variables in design formula are characters, converting to factors”\n",
      "estimating size factors\n",
      "\n",
      "estimating dispersions\n",
      "\n",
      "gene-wise dispersion estimates\n",
      "\n",
      "mean-dispersion relationship\n",
      "\n",
      "-- note: fitType='parametric', but the dispersion trend was not well captured by the\n",
      "   function: y = a/x + b, and a local regression fit was automatically substituted.\n",
      "   specify fitType='local' or 'mean' to avoid this message next time.\n",
      "\n",
      "final dispersion estimates\n",
      "\n",
      "fitting model and testing\n",
      "\n",
      "-- replacing outliers and refitting for 1 genes\n",
      "-- DESeq argument 'minReplicatesForReplace' = 7 \n",
      "-- original counts are preserved in counts(dds)\n",
      "\n",
      "estimating dispersions\n",
      "\n",
      "fitting model and testing\n",
      "\n"
     ]
    },
    {
     "name": "stdout",
     "output_type": "stream",
     "text": [
      "[1] \"CM CD8 T cell\"\n"
     ]
    },
    {
     "name": "stderr",
     "output_type": "stream",
     "text": [
      "\u001b[1m\u001b[22mJoining with `by = join_by(pbmc_sample_id)`\n",
      "converting counts to integer mode\n",
      "\n",
      "Warning message in DESeqDataSet(se, design = design, ignoreRank):\n",
      "“some variables in design formula are characters, converting to factors”\n",
      "estimating size factors\n",
      "\n",
      "estimating dispersions\n",
      "\n",
      "gene-wise dispersion estimates\n",
      "\n",
      "mean-dispersion relationship\n",
      "\n",
      "final dispersion estimates\n",
      "\n",
      "fitting model and testing\n",
      "\n",
      "-- replacing outliers and refitting for 1 genes\n",
      "-- DESeq argument 'minReplicatesForReplace' = 7 \n",
      "-- original counts are preserved in counts(dds)\n",
      "\n",
      "estimating dispersions\n",
      "\n",
      "fitting model and testing\n",
      "\n"
     ]
    },
    {
     "name": "stdout",
     "output_type": "stream",
     "text": [
      "[1] \"CMP cell\"\n"
     ]
    },
    {
     "name": "stderr",
     "output_type": "stream",
     "text": [
      "\u001b[1m\u001b[22mJoining with `by = join_by(pbmc_sample_id)`\n",
      "converting counts to integer mode\n",
      "\n",
      "Warning message in DESeqDataSet(se, design = design, ignoreRank):\n",
      "“some variables in design formula are characters, converting to factors”\n",
      "estimating size factors\n",
      "\n",
      "estimating dispersions\n",
      "\n",
      "gene-wise dispersion estimates\n",
      "\n",
      "mean-dispersion relationship\n",
      "\n",
      "final dispersion estimates\n",
      "\n",
      "fitting model and testing\n",
      "\n",
      "-- replacing outliers and refitting for 3 genes\n",
      "-- DESeq argument 'minReplicatesForReplace' = 7 \n",
      "-- original counts are preserved in counts(dds)\n",
      "\n",
      "estimating dispersions\n",
      "\n",
      "fitting model and testing\n",
      "\n"
     ]
    },
    {
     "name": "stdout",
     "output_type": "stream",
     "text": [
      "[1] \"Core CD14 monocyte\"\n"
     ]
    },
    {
     "name": "stderr",
     "output_type": "stream",
     "text": [
      "\u001b[1m\u001b[22mJoining with `by = join_by(pbmc_sample_id)`\n",
      "converting counts to integer mode\n",
      "\n",
      "Warning message in DESeqDataSet(se, design = design, ignoreRank):\n",
      "“some variables in design formula are characters, converting to factors”\n",
      "estimating size factors\n",
      "\n",
      "estimating dispersions\n",
      "\n",
      "gene-wise dispersion estimates\n",
      "\n",
      "mean-dispersion relationship\n",
      "\n",
      "-- note: fitType='parametric', but the dispersion trend was not well captured by the\n",
      "   function: y = a/x + b, and a local regression fit was automatically substituted.\n",
      "   specify fitType='local' or 'mean' to avoid this message next time.\n",
      "\n",
      "final dispersion estimates\n",
      "\n",
      "fitting model and testing\n",
      "\n",
      "-- replacing outliers and refitting for 2 genes\n",
      "-- DESeq argument 'minReplicatesForReplace' = 7 \n",
      "-- original counts are preserved in counts(dds)\n",
      "\n",
      "estimating dispersions\n",
      "\n",
      "fitting model and testing\n",
      "\n"
     ]
    },
    {
     "name": "stdout",
     "output_type": "stream",
     "text": [
      "[1] \"Core CD16 monocyte\"\n"
     ]
    },
    {
     "name": "stderr",
     "output_type": "stream",
     "text": [
      "\u001b[1m\u001b[22mJoining with `by = join_by(pbmc_sample_id)`\n",
      "converting counts to integer mode\n",
      "\n",
      "Warning message in DESeqDataSet(se, design = design, ignoreRank):\n",
      "“some variables in design formula are characters, converting to factors”\n",
      "estimating size factors\n",
      "\n",
      "estimating dispersions\n",
      "\n",
      "gene-wise dispersion estimates\n",
      "\n",
      "mean-dispersion relationship\n",
      "\n",
      "final dispersion estimates\n",
      "\n",
      "fitting model and testing\n",
      "\n",
      "-- replacing outliers and refitting for 2 genes\n",
      "-- DESeq argument 'minReplicatesForReplace' = 7 \n",
      "-- original counts are preserved in counts(dds)\n",
      "\n",
      "estimating dispersions\n",
      "\n",
      "fitting model and testing\n",
      "\n"
     ]
    },
    {
     "name": "stdout",
     "output_type": "stream",
     "text": [
      "[1] \"Core memory B cell\"\n"
     ]
    },
    {
     "name": "stderr",
     "output_type": "stream",
     "text": [
      "\u001b[1m\u001b[22mJoining with `by = join_by(pbmc_sample_id)`\n",
      "converting counts to integer mode\n",
      "\n",
      "Warning message in DESeqDataSet(se, design = design, ignoreRank):\n",
      "“some variables in design formula are characters, converting to factors”\n",
      "estimating size factors\n",
      "\n",
      "estimating dispersions\n",
      "\n",
      "gene-wise dispersion estimates\n",
      "\n",
      "mean-dispersion relationship\n",
      "\n",
      "-- note: fitType='parametric', but the dispersion trend was not well captured by the\n",
      "   function: y = a/x + b, and a local regression fit was automatically substituted.\n",
      "   specify fitType='local' or 'mean' to avoid this message next time.\n",
      "\n",
      "final dispersion estimates\n",
      "\n",
      "fitting model and testing\n",
      "\n",
      "-- replacing outliers and refitting for 1 genes\n",
      "-- DESeq argument 'minReplicatesForReplace' = 7 \n",
      "-- original counts are preserved in counts(dds)\n",
      "\n",
      "estimating dispersions\n",
      "\n",
      "fitting model and testing\n",
      "\n"
     ]
    },
    {
     "name": "stdout",
     "output_type": "stream",
     "text": [
      "[1] \"Core naive B cell\"\n"
     ]
    },
    {
     "name": "stderr",
     "output_type": "stream",
     "text": [
      "\u001b[1m\u001b[22mJoining with `by = join_by(pbmc_sample_id)`\n",
      "converting counts to integer mode\n",
      "\n",
      "Warning message in DESeqDataSet(se, design = design, ignoreRank):\n",
      "“some variables in design formula are characters, converting to factors”\n",
      "estimating size factors\n",
      "\n",
      "estimating dispersions\n",
      "\n",
      "gene-wise dispersion estimates\n",
      "\n",
      "mean-dispersion relationship\n",
      "\n",
      "-- note: fitType='parametric', but the dispersion trend was not well captured by the\n",
      "   function: y = a/x + b, and a local regression fit was automatically substituted.\n",
      "   specify fitType='local' or 'mean' to avoid this message next time.\n",
      "\n",
      "final dispersion estimates\n",
      "\n",
      "fitting model and testing\n",
      "\n",
      "-- replacing outliers and refitting for 1 genes\n",
      "-- DESeq argument 'minReplicatesForReplace' = 7 \n",
      "-- original counts are preserved in counts(dds)\n",
      "\n",
      "estimating dispersions\n",
      "\n",
      "fitting model and testing\n",
      "\n"
     ]
    },
    {
     "name": "stdout",
     "output_type": "stream",
     "text": [
      "[1] \"Core naive CD4 T cell\"\n"
     ]
    },
    {
     "name": "stderr",
     "output_type": "stream",
     "text": [
      "\u001b[1m\u001b[22mJoining with `by = join_by(pbmc_sample_id)`\n",
      "converting counts to integer mode\n",
      "\n",
      "Warning message in DESeqDataSet(se, design = design, ignoreRank):\n",
      "“some variables in design formula are characters, converting to factors”\n",
      "estimating size factors\n",
      "\n",
      "estimating dispersions\n",
      "\n",
      "gene-wise dispersion estimates\n",
      "\n",
      "mean-dispersion relationship\n",
      "\n",
      "-- note: fitType='parametric', but the dispersion trend was not well captured by the\n",
      "   function: y = a/x + b, and a local regression fit was automatically substituted.\n",
      "   specify fitType='local' or 'mean' to avoid this message next time.\n",
      "\n",
      "final dispersion estimates\n",
      "\n",
      "fitting model and testing\n",
      "\n"
     ]
    },
    {
     "name": "stdout",
     "output_type": "stream",
     "text": [
      "[1] \"Core naive CD8 T cell \"\n"
     ]
    },
    {
     "name": "stderr",
     "output_type": "stream",
     "text": [
      "\u001b[1m\u001b[22mJoining with `by = join_by(pbmc_sample_id)`\n",
      "converting counts to integer mode\n",
      "\n",
      "Warning message in DESeqDataSet(se, design = design, ignoreRank):\n",
      "“some variables in design formula are characters, converting to factors”\n",
      "estimating size factors\n",
      "\n",
      "estimating dispersions\n",
      "\n",
      "gene-wise dispersion estimates\n",
      "\n",
      "mean-dispersion relationship\n",
      "\n",
      "-- note: fitType='parametric', but the dispersion trend was not well captured by the\n",
      "   function: y = a/x + b, and a local regression fit was automatically substituted.\n",
      "   specify fitType='local' or 'mean' to avoid this message next time.\n",
      "\n",
      "final dispersion estimates\n",
      "\n",
      "fitting model and testing\n",
      "\n",
      "-- replacing outliers and refitting for 1 genes\n",
      "-- DESeq argument 'minReplicatesForReplace' = 7 \n",
      "-- original counts are preserved in counts(dds)\n",
      "\n",
      "estimating dispersions\n",
      "\n",
      "fitting model and testing\n",
      "\n"
     ]
    },
    {
     "name": "stdout",
     "output_type": "stream",
     "text": [
      "[1] \"DN T cell\"\n"
     ]
    },
    {
     "name": "stderr",
     "output_type": "stream",
     "text": [
      "\u001b[1m\u001b[22mJoining with `by = join_by(pbmc_sample_id)`\n",
      "converting counts to integer mode\n",
      "\n",
      "Warning message in DESeqDataSet(se, design = design, ignoreRank):\n",
      "“some variables in design formula are characters, converting to factors”\n",
      "estimating size factors\n",
      "\n",
      "estimating dispersions\n",
      "\n",
      "gene-wise dispersion estimates\n",
      "\n",
      "mean-dispersion relationship\n",
      "\n",
      "final dispersion estimates\n",
      "\n",
      "fitting model and testing\n",
      "\n",
      "-- replacing outliers and refitting for 2 genes\n",
      "-- DESeq argument 'minReplicatesForReplace' = 7 \n",
      "-- original counts are preserved in counts(dds)\n",
      "\n",
      "estimating dispersions\n",
      "\n",
      "fitting model and testing\n",
      "\n"
     ]
    },
    {
     "name": "stdout",
     "output_type": "stream",
     "text": [
      "[1] \"Early memory B cell\"\n"
     ]
    },
    {
     "name": "stderr",
     "output_type": "stream",
     "text": [
      "\u001b[1m\u001b[22mJoining with `by = join_by(pbmc_sample_id)`\n",
      "converting counts to integer mode\n",
      "\n",
      "Warning message in DESeqDataSet(se, design = design, ignoreRank):\n",
      "“some variables in design formula are characters, converting to factors”\n",
      "estimating size factors\n",
      "\n",
      "estimating dispersions\n",
      "\n",
      "gene-wise dispersion estimates\n",
      "\n",
      "mean-dispersion relationship\n",
      "\n",
      "final dispersion estimates\n",
      "\n",
      "fitting model and testing\n",
      "\n",
      "-- replacing outliers and refitting for 1 genes\n",
      "-- DESeq argument 'minReplicatesForReplace' = 7 \n",
      "-- original counts are preserved in counts(dds)\n",
      "\n",
      "estimating dispersions\n",
      "\n",
      "fitting model and testing\n",
      "\n"
     ]
    },
    {
     "name": "stdout",
     "output_type": "stream",
     "text": [
      "[1] \"Erythrocyte\"\n"
     ]
    },
    {
     "name": "stderr",
     "output_type": "stream",
     "text": [
      "\u001b[1m\u001b[22mJoining with `by = join_by(pbmc_sample_id)`\n",
      "converting counts to integer mode\n",
      "\n",
      "Warning message in DESeqDataSet(se, design = design, ignoreRank):\n",
      "“some variables in design formula are characters, converting to factors”\n",
      "estimating size factors\n",
      "\n",
      "estimating dispersions\n",
      "\n",
      "gene-wise dispersion estimates\n",
      "\n",
      "mean-dispersion relationship\n",
      "\n",
      "final dispersion estimates\n",
      "\n",
      "fitting model and testing\n",
      "\n",
      "-- replacing outliers and refitting for 1 genes\n",
      "-- DESeq argument 'minReplicatesForReplace' = 7 \n",
      "-- original counts are preserved in counts(dds)\n",
      "\n",
      "estimating dispersions\n",
      "\n",
      "fitting model and testing\n",
      "\n"
     ]
    },
    {
     "name": "stdout",
     "output_type": "stream",
     "text": [
      "[1] \"GZMB+ Vd2 gdT\"\n"
     ]
    },
    {
     "name": "stderr",
     "output_type": "stream",
     "text": [
      "\u001b[1m\u001b[22mJoining with `by = join_by(pbmc_sample_id)`\n",
      "converting counts to integer mode\n",
      "\n",
      "Warning message in DESeqDataSet(se, design = design, ignoreRank):\n",
      "“some variables in design formula are characters, converting to factors”\n",
      "estimating size factors\n",
      "\n",
      "estimating dispersions\n",
      "\n",
      "gene-wise dispersion estimates\n",
      "\n",
      "mean-dispersion relationship\n",
      "\n",
      "final dispersion estimates\n",
      "\n",
      "fitting model and testing\n",
      "\n",
      "-- replacing outliers and refitting for 1 genes\n",
      "-- DESeq argument 'minReplicatesForReplace' = 7 \n",
      "-- original counts are preserved in counts(dds)\n",
      "\n",
      "estimating dispersions\n",
      "\n",
      "fitting model and testing\n",
      "\n"
     ]
    },
    {
     "name": "stdout",
     "output_type": "stream",
     "text": [
      "[1] \"GZMB- CD27+ EM CD4 T cell\"\n"
     ]
    },
    {
     "name": "stderr",
     "output_type": "stream",
     "text": [
      "\u001b[1m\u001b[22mJoining with `by = join_by(pbmc_sample_id)`\n",
      "converting counts to integer mode\n",
      "\n",
      "Warning message in DESeqDataSet(se, design = design, ignoreRank):\n",
      "“some variables in design formula are characters, converting to factors”\n",
      "estimating size factors\n",
      "\n",
      "estimating dispersions\n",
      "\n",
      "gene-wise dispersion estimates\n",
      "\n",
      "mean-dispersion relationship\n",
      "\n",
      "-- note: fitType='parametric', but the dispersion trend was not well captured by the\n",
      "   function: y = a/x + b, and a local regression fit was automatically substituted.\n",
      "   specify fitType='local' or 'mean' to avoid this message next time.\n",
      "\n",
      "final dispersion estimates\n",
      "\n",
      "fitting model and testing\n",
      "\n",
      "-- replacing outliers and refitting for 1 genes\n",
      "-- DESeq argument 'minReplicatesForReplace' = 7 \n",
      "-- original counts are preserved in counts(dds)\n",
      "\n",
      "estimating dispersions\n",
      "\n",
      "fitting model and testing\n",
      "\n"
     ]
    },
    {
     "name": "stdout",
     "output_type": "stream",
     "text": [
      "[1] \"GZMB- CD27- EM CD4 T cell\"\n"
     ]
    },
    {
     "name": "stderr",
     "output_type": "stream",
     "text": [
      "\u001b[1m\u001b[22mJoining with `by = join_by(pbmc_sample_id)`\n",
      "converting counts to integer mode\n",
      "\n",
      "Warning message in DESeqDataSet(se, design = design, ignoreRank):\n",
      "“some variables in design formula are characters, converting to factors”\n",
      "estimating size factors\n",
      "\n",
      "estimating dispersions\n",
      "\n",
      "gene-wise dispersion estimates\n",
      "\n",
      "mean-dispersion relationship\n",
      "\n",
      "final dispersion estimates\n",
      "\n",
      "fitting model and testing\n",
      "\n",
      "-- replacing outliers and refitting for 1 genes\n",
      "-- DESeq argument 'minReplicatesForReplace' = 7 \n",
      "-- original counts are preserved in counts(dds)\n",
      "\n",
      "estimating dispersions\n",
      "\n",
      "fitting model and testing\n",
      "\n"
     ]
    },
    {
     "name": "stdout",
     "output_type": "stream",
     "text": [
      "[1] \"GZMK+ CD27+ EM CD8 T cell\"\n"
     ]
    },
    {
     "name": "stderr",
     "output_type": "stream",
     "text": [
      "\u001b[1m\u001b[22mJoining with `by = join_by(pbmc_sample_id)`\n",
      "converting counts to integer mode\n",
      "\n",
      "Warning message in DESeqDataSet(se, design = design, ignoreRank):\n",
      "“some variables in design formula are characters, converting to factors”\n",
      "estimating size factors\n",
      "\n",
      "estimating dispersions\n",
      "\n",
      "gene-wise dispersion estimates\n",
      "\n",
      "mean-dispersion relationship\n",
      "\n",
      "-- note: fitType='parametric', but the dispersion trend was not well captured by the\n",
      "   function: y = a/x + b, and a local regression fit was automatically substituted.\n",
      "   specify fitType='local' or 'mean' to avoid this message next time.\n",
      "\n",
      "final dispersion estimates\n",
      "\n",
      "fitting model and testing\n",
      "\n",
      "-- replacing outliers and refitting for 1 genes\n",
      "-- DESeq argument 'minReplicatesForReplace' = 7 \n",
      "-- original counts are preserved in counts(dds)\n",
      "\n",
      "estimating dispersions\n",
      "\n",
      "fitting model and testing\n",
      "\n"
     ]
    },
    {
     "name": "stdout",
     "output_type": "stream",
     "text": [
      "[1] \"GZMK+ CD56dim NK cell\"\n"
     ]
    },
    {
     "name": "stderr",
     "output_type": "stream",
     "text": [
      "\u001b[1m\u001b[22mJoining with `by = join_by(pbmc_sample_id)`\n",
      "converting counts to integer mode\n",
      "\n",
      "Warning message in DESeqDataSet(se, design = design, ignoreRank):\n",
      "“some variables in design formula are characters, converting to factors”\n",
      "estimating size factors\n",
      "\n",
      "estimating dispersions\n",
      "\n",
      "gene-wise dispersion estimates\n",
      "\n",
      "mean-dispersion relationship\n",
      "\n",
      "final dispersion estimates\n",
      "\n",
      "fitting model and testing\n",
      "\n",
      "-- replacing outliers and refitting for 1 genes\n",
      "-- DESeq argument 'minReplicatesForReplace' = 7 \n",
      "-- original counts are preserved in counts(dds)\n",
      "\n",
      "estimating dispersions\n",
      "\n",
      "fitting model and testing\n",
      "\n"
     ]
    },
    {
     "name": "stdout",
     "output_type": "stream",
     "text": [
      "[1] \"GZMK+ Vd2 gdT\"\n"
     ]
    },
    {
     "name": "stderr",
     "output_type": "stream",
     "text": [
      "\u001b[1m\u001b[22mJoining with `by = join_by(pbmc_sample_id)`\n",
      "converting counts to integer mode\n",
      "\n",
      "Warning message in DESeqDataSet(se, design = design, ignoreRank):\n",
      "“some variables in design formula are characters, converting to factors”\n",
      "estimating size factors\n",
      "\n",
      "estimating dispersions\n",
      "\n",
      "gene-wise dispersion estimates\n",
      "\n",
      "mean-dispersion relationship\n",
      "\n",
      "final dispersion estimates\n",
      "\n",
      "fitting model and testing\n",
      "\n",
      "-- replacing outliers and refitting for 1 genes\n",
      "-- DESeq argument 'minReplicatesForReplace' = 7 \n",
      "-- original counts are preserved in counts(dds)\n",
      "\n",
      "estimating dispersions\n",
      "\n",
      "fitting model and testing\n",
      "\n"
     ]
    },
    {
     "name": "stdout",
     "output_type": "stream",
     "text": [
      "[1] \"GZMK+ memory CD4 Treg\"\n"
     ]
    },
    {
     "name": "stderr",
     "output_type": "stream",
     "text": [
      "\u001b[1m\u001b[22mJoining with `by = join_by(pbmc_sample_id)`\n",
      "converting counts to integer mode\n",
      "\n",
      "Warning message in DESeqDataSet(se, design = design, ignoreRank):\n",
      "“some variables in design formula are characters, converting to factors”\n",
      "estimating size factors\n",
      "\n",
      "estimating dispersions\n",
      "\n",
      "gene-wise dispersion estimates\n",
      "\n",
      "mean-dispersion relationship\n",
      "\n",
      "final dispersion estimates\n",
      "\n",
      "fitting model and testing\n",
      "\n"
     ]
    },
    {
     "name": "stdout",
     "output_type": "stream",
     "text": [
      "[1] \"GZMK- CD27+ EM CD8 T cell\"\n"
     ]
    },
    {
     "name": "stderr",
     "output_type": "stream",
     "text": [
      "\u001b[1m\u001b[22mJoining with `by = join_by(pbmc_sample_id)`\n",
      "converting counts to integer mode\n",
      "\n",
      "Warning message in DESeqDataSet(se, design = design, ignoreRank):\n",
      "“some variables in design formula are characters, converting to factors”\n",
      "estimating size factors\n",
      "\n",
      "estimating dispersions\n",
      "\n",
      "gene-wise dispersion estimates\n",
      "\n",
      "mean-dispersion relationship\n",
      "\n",
      "final dispersion estimates\n",
      "\n",
      "fitting model and testing\n",
      "\n",
      "-- replacing outliers and refitting for 1 genes\n",
      "-- DESeq argument 'minReplicatesForReplace' = 7 \n",
      "-- original counts are preserved in counts(dds)\n",
      "\n",
      "estimating dispersions\n",
      "\n",
      "fitting model and testing\n",
      "\n"
     ]
    },
    {
     "name": "stdout",
     "output_type": "stream",
     "text": [
      "[1] \"GZMK- CD56dim NK cell\"\n"
     ]
    },
    {
     "name": "stderr",
     "output_type": "stream",
     "text": [
      "\u001b[1m\u001b[22mJoining with `by = join_by(pbmc_sample_id)`\n",
      "converting counts to integer mode\n",
      "\n",
      "Warning message in DESeqDataSet(se, design = design, ignoreRank):\n",
      "“some variables in design formula are characters, converting to factors”\n",
      "estimating size factors\n",
      "\n",
      "estimating dispersions\n",
      "\n",
      "gene-wise dispersion estimates\n",
      "\n",
      "mean-dispersion relationship\n",
      "\n",
      "-- note: fitType='parametric', but the dispersion trend was not well captured by the\n",
      "   function: y = a/x + b, and a local regression fit was automatically substituted.\n",
      "   specify fitType='local' or 'mean' to avoid this message next time.\n",
      "\n",
      "final dispersion estimates\n",
      "\n",
      "fitting model and testing\n",
      "\n",
      "-- replacing outliers and refitting for 1 genes\n",
      "-- DESeq argument 'minReplicatesForReplace' = 7 \n",
      "-- original counts are preserved in counts(dds)\n",
      "\n",
      "estimating dispersions\n",
      "\n",
      "fitting model and testing\n",
      "\n"
     ]
    },
    {
     "name": "stdout",
     "output_type": "stream",
     "text": [
      "[1] \"HLA-DRhi cDC2\"\n"
     ]
    },
    {
     "name": "stderr",
     "output_type": "stream",
     "text": [
      "\u001b[1m\u001b[22mJoining with `by = join_by(pbmc_sample_id)`\n",
      "converting counts to integer mode\n",
      "\n",
      "Warning message in DESeqDataSet(se, design = design, ignoreRank):\n",
      "“some variables in design formula are characters, converting to factors”\n",
      "estimating size factors\n",
      "\n",
      "estimating dispersions\n",
      "\n",
      "gene-wise dispersion estimates\n",
      "\n",
      "mean-dispersion relationship\n",
      "\n",
      "final dispersion estimates\n",
      "\n",
      "fitting model and testing\n",
      "\n",
      "-- replacing outliers and refitting for 2 genes\n",
      "-- DESeq argument 'minReplicatesForReplace' = 7 \n",
      "-- original counts are preserved in counts(dds)\n",
      "\n",
      "estimating dispersions\n",
      "\n",
      "fitting model and testing\n",
      "\n"
     ]
    },
    {
     "name": "stdout",
     "output_type": "stream",
     "text": [
      "[1] \"IL1B+ CD14 monocyte\"\n"
     ]
    },
    {
     "name": "stderr",
     "output_type": "stream",
     "text": [
      "\u001b[1m\u001b[22mJoining with `by = join_by(pbmc_sample_id)`\n",
      "converting counts to integer mode\n",
      "\n",
      "Warning message in DESeqDataSet(se, design = design, ignoreRank):\n",
      "“some variables in design formula are characters, converting to factors”\n",
      "estimating size factors\n",
      "\n",
      "estimating dispersions\n",
      "\n",
      "gene-wise dispersion estimates\n",
      "\n",
      "mean-dispersion relationship\n",
      "\n",
      "final dispersion estimates\n",
      "\n",
      "fitting model and testing\n",
      "\n"
     ]
    },
    {
     "name": "stdout",
     "output_type": "stream",
     "text": [
      "[1] \"ILC\"\n"
     ]
    },
    {
     "name": "stderr",
     "output_type": "stream",
     "text": [
      "\u001b[1m\u001b[22mJoining with `by = join_by(pbmc_sample_id)`\n",
      "converting counts to integer mode\n",
      "\n",
      "Warning message in DESeqDataSet(se, design = design, ignoreRank):\n",
      "“some variables in design formula are characters, converting to factors”\n",
      "estimating size factors\n",
      "\n",
      "estimating dispersions\n",
      "\n",
      "gene-wise dispersion estimates\n",
      "\n",
      "mean-dispersion relationship\n",
      "\n",
      "final dispersion estimates\n",
      "\n",
      "fitting model and testing\n",
      "\n"
     ]
    },
    {
     "name": "stdout",
     "output_type": "stream",
     "text": [
      "[1] \"ISG+ CD14 monocyte\"\n"
     ]
    },
    {
     "name": "stderr",
     "output_type": "stream",
     "text": [
      "\u001b[1m\u001b[22mJoining with `by = join_by(pbmc_sample_id)`\n",
      "converting counts to integer mode\n",
      "\n",
      "Warning message in DESeqDataSet(se, design = design, ignoreRank):\n",
      "“some variables in design formula are characters, converting to factors”\n",
      "estimating size factors\n",
      "\n",
      "estimating dispersions\n",
      "\n",
      "gene-wise dispersion estimates\n",
      "\n",
      "mean-dispersion relationship\n",
      "\n",
      "-- note: fitType='parametric', but the dispersion trend was not well captured by the\n",
      "   function: y = a/x + b, and a local regression fit was automatically substituted.\n",
      "   specify fitType='local' or 'mean' to avoid this message next time.\n",
      "\n",
      "final dispersion estimates\n",
      "\n",
      "fitting model and testing\n",
      "\n",
      "-- replacing outliers and refitting for 2 genes\n",
      "-- DESeq argument 'minReplicatesForReplace' = 7 \n",
      "-- original counts are preserved in counts(dds)\n",
      "\n",
      "estimating dispersions\n",
      "\n",
      "fitting model and testing\n",
      "\n"
     ]
    },
    {
     "name": "stdout",
     "output_type": "stream",
     "text": [
      "[1] \"ISG+ CD16 monocyte\"\n"
     ]
    },
    {
     "name": "stderr",
     "output_type": "stream",
     "text": [
      "\u001b[1m\u001b[22mJoining with `by = join_by(pbmc_sample_id)`\n",
      "converting counts to integer mode\n",
      "\n",
      "Warning message in DESeqDataSet(se, design = design, ignoreRank):\n",
      "“some variables in design formula are characters, converting to factors”\n",
      "estimating size factors\n",
      "\n",
      "estimating dispersions\n",
      "\n",
      "gene-wise dispersion estimates\n",
      "\n",
      "mean-dispersion relationship\n",
      "\n",
      "final dispersion estimates\n",
      "\n",
      "fitting model and testing\n",
      "\n",
      "-- replacing outliers and refitting for 1 genes\n",
      "-- DESeq argument 'minReplicatesForReplace' = 7 \n",
      "-- original counts are preserved in counts(dds)\n",
      "\n",
      "estimating dispersions\n",
      "\n",
      "fitting model and testing\n",
      "\n"
     ]
    },
    {
     "name": "stdout",
     "output_type": "stream",
     "text": [
      "[1] \"ISG+ CD56dim NK cell\"\n"
     ]
    },
    {
     "name": "stderr",
     "output_type": "stream",
     "text": [
      "\u001b[1m\u001b[22mJoining with `by = join_by(pbmc_sample_id)`\n",
      "converting counts to integer mode\n",
      "\n",
      "Warning message in DESeqDataSet(se, design = design, ignoreRank):\n",
      "“some variables in design formula are characters, converting to factors”\n",
      "estimating size factors\n",
      "\n",
      "estimating dispersions\n",
      "\n",
      "gene-wise dispersion estimates\n",
      "\n",
      "mean-dispersion relationship\n",
      "\n",
      "final dispersion estimates\n",
      "\n",
      "fitting model and testing\n",
      "\n"
     ]
    },
    {
     "name": "stdout",
     "output_type": "stream",
     "text": [
      "[1] \"ISG+ MAIT\"\n"
     ]
    },
    {
     "name": "stderr",
     "output_type": "stream",
     "text": [
      "\u001b[1m\u001b[22mJoining with `by = join_by(pbmc_sample_id)`\n",
      "converting counts to integer mode\n",
      "\n",
      "Warning message in DESeqDataSet(se, design = design, ignoreRank):\n",
      "“some variables in design formula are characters, converting to factors”\n",
      "estimating size factors\n",
      "\n",
      "estimating dispersions\n",
      "\n",
      "gene-wise dispersion estimates\n",
      "\n",
      "mean-dispersion relationship\n",
      "\n",
      "final dispersion estimates\n",
      "\n",
      "fitting model and testing\n",
      "\n",
      "-- replacing outliers and refitting for 1 genes\n",
      "-- DESeq argument 'minReplicatesForReplace' = 7 \n",
      "-- original counts are preserved in counts(dds)\n",
      "\n",
      "estimating dispersions\n",
      "\n",
      "fitting model and testing\n",
      "\n"
     ]
    },
    {
     "name": "stdout",
     "output_type": "stream",
     "text": [
      "[1] \"ISG+ cDC2\"\n"
     ]
    },
    {
     "name": "stderr",
     "output_type": "stream",
     "text": [
      "\u001b[1m\u001b[22mJoining with `by = join_by(pbmc_sample_id)`\n",
      "converting counts to integer mode\n",
      "\n",
      "Warning message in DESeqDataSet(se, design = design, ignoreRank):\n",
      "“some variables in design formula are characters, converting to factors”\n",
      "estimating size factors\n",
      "\n",
      "estimating dispersions\n",
      "\n",
      "gene-wise dispersion estimates\n",
      "\n",
      "mean-dispersion relationship\n",
      "\n",
      "final dispersion estimates\n",
      "\n",
      "fitting model and testing\n",
      "\n",
      "-- replacing outliers and refitting for 1 genes\n",
      "-- DESeq argument 'minReplicatesForReplace' = 7 \n",
      "-- original counts are preserved in counts(dds)\n",
      "\n",
      "estimating dispersions\n",
      "\n",
      "fitting model and testing\n",
      "\n"
     ]
    },
    {
     "name": "stdout",
     "output_type": "stream",
     "text": [
      "[1] \"ISG+ memory CD4 T cell\"\n"
     ]
    },
    {
     "name": "stderr",
     "output_type": "stream",
     "text": [
      "\u001b[1m\u001b[22mJoining with `by = join_by(pbmc_sample_id)`\n",
      "converting counts to integer mode\n",
      "\n",
      "Warning message in DESeqDataSet(se, design = design, ignoreRank):\n",
      "“some variables in design formula are characters, converting to factors”\n",
      "estimating size factors\n",
      "\n",
      "estimating dispersions\n",
      "\n",
      "gene-wise dispersion estimates\n",
      "\n",
      "mean-dispersion relationship\n",
      "\n",
      "final dispersion estimates\n",
      "\n",
      "fitting model and testing\n",
      "\n",
      "-- replacing outliers and refitting for 1 genes\n",
      "-- DESeq argument 'minReplicatesForReplace' = 7 \n",
      "-- original counts are preserved in counts(dds)\n",
      "\n",
      "estimating dispersions\n",
      "\n",
      "fitting model and testing\n",
      "\n"
     ]
    },
    {
     "name": "stdout",
     "output_type": "stream",
     "text": [
      "[1] \"ISG+ memory CD8 T cell\"\n"
     ]
    },
    {
     "name": "stderr",
     "output_type": "stream",
     "text": [
      "\u001b[1m\u001b[22mJoining with `by = join_by(pbmc_sample_id)`\n",
      "converting counts to integer mode\n",
      "\n",
      "Warning message in DESeqDataSet(se, design = design, ignoreRank):\n",
      "“some variables in design formula are characters, converting to factors”\n",
      "estimating size factors\n",
      "\n",
      "estimating dispersions\n",
      "\n",
      "gene-wise dispersion estimates\n",
      "\n",
      "mean-dispersion relationship\n",
      "\n",
      "final dispersion estimates\n",
      "\n",
      "fitting model and testing\n",
      "\n",
      "-- replacing outliers and refitting for 2 genes\n",
      "-- DESeq argument 'minReplicatesForReplace' = 7 \n",
      "-- original counts are preserved in counts(dds)\n",
      "\n",
      "estimating dispersions\n",
      "\n",
      "fitting model and testing\n",
      "\n"
     ]
    },
    {
     "name": "stdout",
     "output_type": "stream",
     "text": [
      "[1] \"ISG+ naive B cell\"\n"
     ]
    },
    {
     "name": "stderr",
     "output_type": "stream",
     "text": [
      "\u001b[1m\u001b[22mJoining with `by = join_by(pbmc_sample_id)`\n",
      "converting counts to integer mode\n",
      "\n",
      "Warning message in DESeqDataSet(se, design = design, ignoreRank):\n",
      "“some variables in design formula are characters, converting to factors”\n",
      "estimating size factors\n",
      "\n",
      "estimating dispersions\n",
      "\n",
      "gene-wise dispersion estimates\n",
      "\n",
      "mean-dispersion relationship\n",
      "\n",
      "final dispersion estimates\n",
      "\n",
      "fitting model and testing\n",
      "\n"
     ]
    },
    {
     "name": "stdout",
     "output_type": "stream",
     "text": [
      "[1] \"ISG+ naive CD4 T cell\"\n"
     ]
    },
    {
     "name": "stderr",
     "output_type": "stream",
     "text": [
      "\u001b[1m\u001b[22mJoining with `by = join_by(pbmc_sample_id)`\n",
      "converting counts to integer mode\n",
      "\n",
      "Warning message in DESeqDataSet(se, design = design, ignoreRank):\n",
      "“some variables in design formula are characters, converting to factors”\n",
      "estimating size factors\n",
      "\n",
      "estimating dispersions\n",
      "\n",
      "gene-wise dispersion estimates\n",
      "\n",
      "mean-dispersion relationship\n",
      "\n",
      "final dispersion estimates\n",
      "\n",
      "fitting model and testing\n",
      "\n"
     ]
    },
    {
     "name": "stdout",
     "output_type": "stream",
     "text": [
      "[1] \"ISG+ naive CD8 T cell\"\n"
     ]
    },
    {
     "name": "stderr",
     "output_type": "stream",
     "text": [
      "\u001b[1m\u001b[22mJoining with `by = join_by(pbmc_sample_id)`\n",
      "converting counts to integer mode\n",
      "\n",
      "Warning message in DESeqDataSet(se, design = design, ignoreRank):\n",
      "“some variables in design formula are characters, converting to factors”\n",
      "estimating size factors\n",
      "\n",
      "estimating dispersions\n",
      "\n",
      "gene-wise dispersion estimates\n",
      "\n",
      "mean-dispersion relationship\n",
      "\n",
      "final dispersion estimates\n",
      "\n",
      "fitting model and testing\n",
      "\n",
      "-- replacing outliers and refitting for 1 genes\n",
      "-- DESeq argument 'minReplicatesForReplace' = 7 \n",
      "-- original counts are preserved in counts(dds)\n",
      "\n",
      "estimating dispersions\n",
      "\n",
      "fitting model and testing\n",
      "\n"
     ]
    },
    {
     "name": "stdout",
     "output_type": "stream",
     "text": [
      "[1] \"Intermediate monocyte\"\n"
     ]
    },
    {
     "name": "stderr",
     "output_type": "stream",
     "text": [
      "\u001b[1m\u001b[22mJoining with `by = join_by(pbmc_sample_id)`\n",
      "converting counts to integer mode\n",
      "\n",
      "Warning message in DESeqDataSet(se, design = design, ignoreRank):\n",
      "“some variables in design formula are characters, converting to factors”\n",
      "estimating size factors\n",
      "\n",
      "estimating dispersions\n",
      "\n",
      "gene-wise dispersion estimates\n",
      "\n",
      "mean-dispersion relationship\n",
      "\n",
      "final dispersion estimates\n",
      "\n",
      "fitting model and testing\n",
      "\n",
      "-- replacing outliers and refitting for 1 genes\n",
      "-- DESeq argument 'minReplicatesForReplace' = 7 \n",
      "-- original counts are preserved in counts(dds)\n",
      "\n",
      "estimating dispersions\n",
      "\n",
      "fitting model and testing\n",
      "\n"
     ]
    },
    {
     "name": "stdout",
     "output_type": "stream",
     "text": [
      "[1] \"KLRB1+ memory CD4 Treg\"\n"
     ]
    },
    {
     "name": "stderr",
     "output_type": "stream",
     "text": [
      "\u001b[1m\u001b[22mJoining with `by = join_by(pbmc_sample_id)`\n",
      "converting counts to integer mode\n",
      "\n",
      "Warning message in DESeqDataSet(se, design = design, ignoreRank):\n",
      "“some variables in design formula are characters, converting to factors”\n",
      "estimating size factors\n",
      "\n",
      "estimating dispersions\n",
      "\n",
      "gene-wise dispersion estimates\n",
      "\n",
      "mean-dispersion relationship\n",
      "\n",
      "final dispersion estimates\n",
      "\n",
      "fitting model and testing\n",
      "\n",
      "-- replacing outliers and refitting for 1 genes\n",
      "-- DESeq argument 'minReplicatesForReplace' = 7 \n",
      "-- original counts are preserved in counts(dds)\n",
      "\n",
      "estimating dispersions\n",
      "\n",
      "fitting model and testing\n",
      "\n"
     ]
    },
    {
     "name": "stdout",
     "output_type": "stream",
     "text": [
      "[1] \"KLRB1+ memory CD8 Treg\"\n"
     ]
    },
    {
     "name": "stderr",
     "output_type": "stream",
     "text": [
      "\u001b[1m\u001b[22mJoining with `by = join_by(pbmc_sample_id)`\n",
      "converting counts to integer mode\n",
      "\n",
      "Warning message in DESeqDataSet(se, design = design, ignoreRank):\n",
      "“some variables in design formula are characters, converting to factors”\n",
      "estimating size factors\n",
      "\n",
      "estimating dispersions\n",
      "\n",
      "gene-wise dispersion estimates\n",
      "\n",
      "mean-dispersion relationship\n",
      "\n",
      "final dispersion estimates\n",
      "\n",
      "fitting model and testing\n",
      "\n"
     ]
    },
    {
     "name": "stdout",
     "output_type": "stream",
     "text": [
      "[1] \"KLRF1+ GZMB+ CD27- EM CD8 T cell\"\n"
     ]
    },
    {
     "name": "stderr",
     "output_type": "stream",
     "text": [
      "\u001b[1m\u001b[22mJoining with `by = join_by(pbmc_sample_id)`\n",
      "converting counts to integer mode\n",
      "\n",
      "Warning message in DESeqDataSet(se, design = design, ignoreRank):\n",
      "“some variables in design formula are characters, converting to factors”\n",
      "estimating size factors\n",
      "\n",
      "estimating dispersions\n",
      "\n",
      "gene-wise dispersion estimates\n",
      "\n",
      "mean-dispersion relationship\n",
      "\n",
      "final dispersion estimates\n",
      "\n",
      "fitting model and testing\n",
      "\n",
      "-- replacing outliers and refitting for 1 genes\n",
      "-- DESeq argument 'minReplicatesForReplace' = 7 \n",
      "-- original counts are preserved in counts(dds)\n",
      "\n",
      "estimating dispersions\n",
      "\n",
      "fitting model and testing\n",
      "\n"
     ]
    },
    {
     "name": "stdout",
     "output_type": "stream",
     "text": [
      "[1] \"KLRF1+ effector Vd1 gdT\"\n"
     ]
    },
    {
     "name": "stderr",
     "output_type": "stream",
     "text": [
      "\u001b[1m\u001b[22mJoining with `by = join_by(pbmc_sample_id)`\n",
      "converting counts to integer mode\n",
      "\n",
      "Warning message in DESeqDataSet(se, design = design, ignoreRank):\n",
      "“some variables in design formula are characters, converting to factors”\n",
      "estimating size factors\n",
      "\n",
      "estimating dispersions\n",
      "\n",
      "gene-wise dispersion estimates\n",
      "\n",
      "mean-dispersion relationship\n",
      "\n",
      "final dispersion estimates\n",
      "\n",
      "fitting model and testing\n",
      "\n"
     ]
    },
    {
     "name": "stdout",
     "output_type": "stream",
     "text": [
      "[1] \"KLRF1- GZMB+ CD27- EM CD8 T cell\"\n"
     ]
    },
    {
     "name": "stderr",
     "output_type": "stream",
     "text": [
      "\u001b[1m\u001b[22mJoining with `by = join_by(pbmc_sample_id)`\n",
      "converting counts to integer mode\n",
      "\n",
      "Warning message in DESeqDataSet(se, design = design, ignoreRank):\n",
      "“some variables in design formula are characters, converting to factors”\n",
      "estimating size factors\n",
      "\n",
      "estimating dispersions\n",
      "\n",
      "gene-wise dispersion estimates\n",
      "\n",
      "mean-dispersion relationship\n",
      "\n",
      "final dispersion estimates\n",
      "\n",
      "fitting model and testing\n",
      "\n"
     ]
    },
    {
     "name": "stdout",
     "output_type": "stream",
     "text": [
      "[1] \"KLRF1- GZMB+ CD27- memory CD4 T cell\"\n"
     ]
    },
    {
     "name": "stderr",
     "output_type": "stream",
     "text": [
      "\u001b[1m\u001b[22mJoining with `by = join_by(pbmc_sample_id)`\n",
      "converting counts to integer mode\n",
      "\n",
      "Warning message in DESeqDataSet(se, design = design, ignoreRank):\n",
      "“some variables in design formula are characters, converting to factors”\n",
      "estimating size factors\n",
      "\n",
      "estimating dispersions\n",
      "\n",
      "gene-wise dispersion estimates\n",
      "\n",
      "mean-dispersion relationship\n",
      "\n",
      "final dispersion estimates\n",
      "\n",
      "fitting model and testing\n",
      "\n"
     ]
    },
    {
     "name": "stdout",
     "output_type": "stream",
     "text": [
      "[1] \"KLRF1- effector Vd1 gdT\"\n"
     ]
    },
    {
     "name": "stderr",
     "output_type": "stream",
     "text": [
      "\u001b[1m\u001b[22mJoining with `by = join_by(pbmc_sample_id)`\n",
      "converting counts to integer mode\n",
      "\n",
      "Warning message in DESeqDataSet(se, design = design, ignoreRank):\n",
      "“some variables in design formula are characters, converting to factors”\n",
      "estimating size factors\n",
      "\n",
      "estimating dispersions\n",
      "\n",
      "gene-wise dispersion estimates\n",
      "\n",
      "mean-dispersion relationship\n",
      "\n",
      "final dispersion estimates\n",
      "\n",
      "fitting model and testing\n",
      "\n",
      "-- replacing outliers and refitting for 1 genes\n",
      "-- DESeq argument 'minReplicatesForReplace' = 7 \n",
      "-- original counts are preserved in counts(dds)\n",
      "\n",
      "estimating dispersions\n",
      "\n",
      "fitting model and testing\n",
      "\n"
     ]
    },
    {
     "name": "stdout",
     "output_type": "stream",
     "text": [
      "[1] \"Memory CD4 Treg\"\n"
     ]
    },
    {
     "name": "stderr",
     "output_type": "stream",
     "text": [
      "\u001b[1m\u001b[22mJoining with `by = join_by(pbmc_sample_id)`\n",
      "converting counts to integer mode\n",
      "\n",
      "Warning message in DESeqDataSet(se, design = design, ignoreRank):\n",
      "“some variables in design formula are characters, converting to factors”\n",
      "estimating size factors\n",
      "\n",
      "estimating dispersions\n",
      "\n",
      "gene-wise dispersion estimates\n",
      "\n",
      "mean-dispersion relationship\n",
      "\n",
      "final dispersion estimates\n",
      "\n",
      "fitting model and testing\n",
      "\n",
      "-- replacing outliers and refitting for 1 genes\n",
      "-- DESeq argument 'minReplicatesForReplace' = 7 \n",
      "-- original counts are preserved in counts(dds)\n",
      "\n",
      "estimating dispersions\n",
      "\n",
      "fitting model and testing\n",
      "\n"
     ]
    },
    {
     "name": "stdout",
     "output_type": "stream",
     "text": [
      "[1] \"Memory CD8 Treg\"\n"
     ]
    },
    {
     "name": "stderr",
     "output_type": "stream",
     "text": [
      "\u001b[1m\u001b[22mJoining with `by = join_by(pbmc_sample_id)`\n",
      "converting counts to integer mode\n",
      "\n",
      "Warning message in DESeqDataSet(se, design = design, ignoreRank):\n",
      "“some variables in design formula are characters, converting to factors”\n",
      "estimating size factors\n",
      "\n",
      "estimating dispersions\n",
      "\n",
      "gene-wise dispersion estimates\n",
      "\n",
      "mean-dispersion relationship\n",
      "\n",
      "final dispersion estimates\n",
      "\n",
      "fitting model and testing\n",
      "\n"
     ]
    },
    {
     "name": "stdout",
     "output_type": "stream",
     "text": [
      "[1] \"Naive CD4 Treg\"\n"
     ]
    },
    {
     "name": "stderr",
     "output_type": "stream",
     "text": [
      "\u001b[1m\u001b[22mJoining with `by = join_by(pbmc_sample_id)`\n",
      "converting counts to integer mode\n",
      "\n",
      "Warning message in DESeqDataSet(se, design = design, ignoreRank):\n",
      "“some variables in design formula are characters, converting to factors”\n",
      "estimating size factors\n",
      "\n",
      "estimating dispersions\n",
      "\n",
      "gene-wise dispersion estimates\n",
      "\n",
      "mean-dispersion relationship\n",
      "\n",
      "final dispersion estimates\n",
      "\n",
      "fitting model and testing\n",
      "\n"
     ]
    },
    {
     "name": "stdout",
     "output_type": "stream",
     "text": [
      "[1] \"Naive Vd1 gdT\"\n"
     ]
    },
    {
     "name": "stderr",
     "output_type": "stream",
     "text": [
      "\u001b[1m\u001b[22mJoining with `by = join_by(pbmc_sample_id)`\n",
      "converting counts to integer mode\n",
      "\n",
      "Warning message in DESeqDataSet(se, design = design, ignoreRank):\n",
      "“some variables in design formula are characters, converting to factors”\n",
      "estimating size factors\n",
      "\n",
      "estimating dispersions\n",
      "\n",
      "gene-wise dispersion estimates\n",
      "\n",
      "mean-dispersion relationship\n",
      "\n",
      "final dispersion estimates\n",
      "\n",
      "fitting model and testing\n",
      "\n",
      "-- replacing outliers and refitting for 1 genes\n",
      "-- DESeq argument 'minReplicatesForReplace' = 7 \n",
      "-- original counts are preserved in counts(dds)\n",
      "\n",
      "estimating dispersions\n",
      "\n",
      "fitting model and testing\n",
      "\n"
     ]
    },
    {
     "name": "stdout",
     "output_type": "stream",
     "text": [
      "[1] \"Plasma cell\"\n"
     ]
    },
    {
     "name": "stderr",
     "output_type": "stream",
     "text": [
      "\u001b[1m\u001b[22mJoining with `by = join_by(pbmc_sample_id)`\n",
      "converting counts to integer mode\n",
      "\n",
      "Warning message in DESeqDataSet(se, design = design, ignoreRank):\n",
      "“some variables in design formula are characters, converting to factors”\n",
      "estimating size factors\n",
      "\n",
      "estimating dispersions\n",
      "\n",
      "gene-wise dispersion estimates\n",
      "\n",
      "mean-dispersion relationship\n",
      "\n",
      "final dispersion estimates\n",
      "\n",
      "fitting model and testing\n",
      "\n",
      "-- replacing outliers and refitting for 6 genes\n",
      "-- DESeq argument 'minReplicatesForReplace' = 7 \n",
      "-- original counts are preserved in counts(dds)\n",
      "\n",
      "estimating dispersions\n",
      "\n",
      "fitting model and testing\n",
      "\n"
     ]
    },
    {
     "name": "stdout",
     "output_type": "stream",
     "text": [
      "[1] \"Platelet\"\n"
     ]
    },
    {
     "name": "stderr",
     "output_type": "stream",
     "text": [
      "\u001b[1m\u001b[22mJoining with `by = join_by(pbmc_sample_id)`\n",
      "converting counts to integer mode\n",
      "\n",
      "Warning message in DESeqDataSet(se, design = design, ignoreRank):\n",
      "“some variables in design formula are characters, converting to factors”\n",
      "estimating size factors\n",
      "\n",
      "estimating dispersions\n",
      "\n",
      "gene-wise dispersion estimates\n",
      "\n",
      "mean-dispersion relationship\n",
      "\n",
      "final dispersion estimates\n",
      "\n",
      "fitting model and testing\n",
      "\n",
      "-- replacing outliers and refitting for 3 genes\n",
      "-- DESeq argument 'minReplicatesForReplace' = 7 \n",
      "-- original counts are preserved in counts(dds)\n",
      "\n",
      "estimating dispersions\n",
      "\n",
      "fitting model and testing\n",
      "\n"
     ]
    },
    {
     "name": "stdout",
     "output_type": "stream",
     "text": [
      "[1] \"Proliferating NK cell\"\n"
     ]
    },
    {
     "name": "stderr",
     "output_type": "stream",
     "text": [
      "\u001b[1m\u001b[22mJoining with `by = join_by(pbmc_sample_id)`\n",
      "converting counts to integer mode\n",
      "\n",
      "Warning message in DESeqDataSet(se, design = design, ignoreRank):\n",
      "“some variables in design formula are characters, converting to factors”\n",
      "estimating size factors\n",
      "\n",
      "estimating dispersions\n",
      "\n",
      "gene-wise dispersion estimates\n",
      "\n",
      "mean-dispersion relationship\n",
      "\n",
      "final dispersion estimates\n",
      "\n",
      "fitting model and testing\n",
      "\n"
     ]
    },
    {
     "name": "stdout",
     "output_type": "stream",
     "text": [
      "[1] \"Proliferating T cell\"\n"
     ]
    },
    {
     "name": "stderr",
     "output_type": "stream",
     "text": [
      "\u001b[1m\u001b[22mJoining with `by = join_by(pbmc_sample_id)`\n",
      "converting counts to integer mode\n",
      "\n",
      "Warning message in DESeqDataSet(se, design = design, ignoreRank):\n",
      "“some variables in design formula are characters, converting to factors”\n",
      "estimating size factors\n",
      "\n",
      "estimating dispersions\n",
      "\n",
      "gene-wise dispersion estimates\n",
      "\n",
      "mean-dispersion relationship\n",
      "\n",
      "final dispersion estimates\n",
      "\n",
      "fitting model and testing\n",
      "\n",
      "-- replacing outliers and refitting for 1 genes\n",
      "-- DESeq argument 'minReplicatesForReplace' = 7 \n",
      "-- original counts are preserved in counts(dds)\n",
      "\n",
      "estimating dispersions\n",
      "\n",
      "fitting model and testing\n",
      "\n"
     ]
    },
    {
     "name": "stdout",
     "output_type": "stream",
     "text": [
      "[1] \"SOX4+ Vd1 gdT\"\n"
     ]
    },
    {
     "name": "stderr",
     "output_type": "stream",
     "text": [
      "\u001b[1m\u001b[22mJoining with `by = join_by(pbmc_sample_id)`\n",
      "converting counts to integer mode\n",
      "\n",
      "Warning message in DESeqDataSet(se, design = design, ignoreRank):\n",
      "“some variables in design formula are characters, converting to factors”\n",
      "estimating size factors\n",
      "\n",
      "estimating dispersions\n",
      "\n",
      "gene-wise dispersion estimates\n",
      "\n",
      "mean-dispersion relationship\n",
      "\n",
      "final dispersion estimates\n",
      "\n",
      "fitting model and testing\n",
      "\n",
      "-- replacing outliers and refitting for 1 genes\n",
      "-- DESeq argument 'minReplicatesForReplace' = 7 \n",
      "-- original counts are preserved in counts(dds)\n",
      "\n",
      "estimating dispersions\n",
      "\n",
      "fitting model and testing\n",
      "\n"
     ]
    },
    {
     "name": "stdout",
     "output_type": "stream",
     "text": [
      "[1] \"SOX4+ naive CD4 T cell\"\n"
     ]
    },
    {
     "name": "stderr",
     "output_type": "stream",
     "text": [
      "\u001b[1m\u001b[22mJoining with `by = join_by(pbmc_sample_id)`\n",
      "converting counts to integer mode\n",
      "\n",
      "Warning message in DESeqDataSet(se, design = design, ignoreRank):\n",
      "“some variables in design formula are characters, converting to factors”\n",
      "estimating size factors\n",
      "\n",
      "estimating dispersions\n",
      "\n",
      "gene-wise dispersion estimates\n",
      "\n",
      "mean-dispersion relationship\n",
      "\n",
      "final dispersion estimates\n",
      "\n",
      "fitting model and testing\n",
      "\n",
      "-- replacing outliers and refitting for 1 genes\n",
      "-- DESeq argument 'minReplicatesForReplace' = 7 \n",
      "-- original counts are preserved in counts(dds)\n",
      "\n",
      "estimating dispersions\n",
      "\n",
      "fitting model and testing\n",
      "\n"
     ]
    },
    {
     "name": "stdout",
     "output_type": "stream",
     "text": [
      "[1] \"SOX4+ naive CD8 T cell\"\n"
     ]
    },
    {
     "name": "stderr",
     "output_type": "stream",
     "text": [
      "\u001b[1m\u001b[22mJoining with `by = join_by(pbmc_sample_id)`\n",
      "converting counts to integer mode\n",
      "\n",
      "Warning message in DESeqDataSet(se, design = design, ignoreRank):\n",
      "“some variables in design formula are characters, converting to factors”\n",
      "estimating size factors\n",
      "\n",
      "estimating dispersions\n",
      "\n",
      "gene-wise dispersion estimates\n",
      "\n",
      "mean-dispersion relationship\n",
      "\n",
      "final dispersion estimates\n",
      "\n",
      "fitting model and testing\n",
      "\n",
      "-- replacing outliers and refitting for 1 genes\n",
      "-- DESeq argument 'minReplicatesForReplace' = 7 \n",
      "-- original counts are preserved in counts(dds)\n",
      "\n",
      "estimating dispersions\n",
      "\n",
      "fitting model and testing\n",
      "\n"
     ]
    },
    {
     "name": "stdout",
     "output_type": "stream",
     "text": [
      "[1] \"Transitional B cell\"\n"
     ]
    },
    {
     "name": "stderr",
     "output_type": "stream",
     "text": [
      "\u001b[1m\u001b[22mJoining with `by = join_by(pbmc_sample_id)`\n",
      "converting counts to integer mode\n",
      "\n",
      "Warning message in DESeqDataSet(se, design = design, ignoreRank):\n",
      "“some variables in design formula are characters, converting to factors”\n",
      "estimating size factors\n",
      "\n",
      "estimating dispersions\n",
      "\n",
      "gene-wise dispersion estimates\n",
      "\n",
      "mean-dispersion relationship\n",
      "\n",
      "final dispersion estimates\n",
      "\n",
      "fitting model and testing\n",
      "\n",
      "-- replacing outliers and refitting for 1 genes\n",
      "-- DESeq argument 'minReplicatesForReplace' = 7 \n",
      "-- original counts are preserved in counts(dds)\n",
      "\n",
      "estimating dispersions\n",
      "\n",
      "fitting model and testing\n",
      "\n"
     ]
    },
    {
     "name": "stdout",
     "output_type": "stream",
     "text": [
      "[1] \"Type 2 polarized memory B cell\"\n"
     ]
    },
    {
     "name": "stderr",
     "output_type": "stream",
     "text": [
      "\u001b[1m\u001b[22mJoining with `by = join_by(pbmc_sample_id)`\n",
      "converting counts to integer mode\n",
      "\n",
      "Warning message in DESeqDataSet(se, design = design, ignoreRank):\n",
      "“some variables in design formula are characters, converting to factors”\n",
      "estimating size factors\n",
      "\n",
      "estimating dispersions\n",
      "\n",
      "gene-wise dispersion estimates\n",
      "\n",
      "mean-dispersion relationship\n",
      "\n",
      "final dispersion estimates\n",
      "\n",
      "fitting model and testing\n",
      "\n",
      "-- replacing outliers and refitting for 1 genes\n",
      "-- DESeq argument 'minReplicatesForReplace' = 7 \n",
      "-- original counts are preserved in counts(dds)\n",
      "\n",
      "estimating dispersions\n",
      "\n",
      "fitting model and testing\n",
      "\n"
     ]
    },
    {
     "name": "stdout",
     "output_type": "stream",
     "text": [
      "[1] \"cDC1\"\n"
     ]
    },
    {
     "name": "stderr",
     "output_type": "stream",
     "text": [
      "\u001b[1m\u001b[22mJoining with `by = join_by(pbmc_sample_id)`\n",
      "converting counts to integer mode\n",
      "\n",
      "Warning message in DESeqDataSet(se, design = design, ignoreRank):\n",
      "“some variables in design formula are characters, converting to factors”\n",
      "estimating size factors\n",
      "\n",
      "estimating dispersions\n",
      "\n",
      "gene-wise dispersion estimates\n",
      "\n",
      "mean-dispersion relationship\n",
      "\n",
      "final dispersion estimates\n",
      "\n",
      "fitting model and testing\n",
      "\n",
      "-- replacing outliers and refitting for 1 genes\n",
      "-- DESeq argument 'minReplicatesForReplace' = 7 \n",
      "-- original counts are preserved in counts(dds)\n",
      "\n",
      "estimating dispersions\n",
      "\n",
      "fitting model and testing\n",
      "\n"
     ]
    },
    {
     "name": "stdout",
     "output_type": "stream",
     "text": [
      "[1] \"pDC\"\n"
     ]
    },
    {
     "name": "stderr",
     "output_type": "stream",
     "text": [
      "\u001b[1m\u001b[22mJoining with `by = join_by(pbmc_sample_id)`\n",
      "converting counts to integer mode\n",
      "\n",
      "Warning message in DESeqDataSet(se, design = design, ignoreRank):\n",
      "“some variables in design formula are characters, converting to factors”\n",
      "estimating size factors\n",
      "\n",
      "estimating dispersions\n",
      "\n",
      "gene-wise dispersion estimates\n",
      "\n",
      "mean-dispersion relationship\n",
      "\n",
      "final dispersion estimates\n",
      "\n",
      "fitting model and testing\n",
      "\n",
      "-- replacing outliers and refitting for 1 genes\n",
      "-- DESeq argument 'minReplicatesForReplace' = 7 \n",
      "-- original counts are preserved in counts(dds)\n",
      "\n",
      "estimating dispersions\n",
      "\n",
      "fitting model and testing\n",
      "\n"
     ]
    }
   ],
   "source": [
    "for (celltype in str_extract(colnames(bulk_list[[1]]), \"(?<=:).*\")){\n",
    "print(celltype)\n",
    "matirx_list<-mclapply(bulk_list,function(bulk_matrix){\n",
    "\n",
    "matching_columns <- grepl(celltype, colnames(bulk_matrix),, fixed = TRUE)\n",
    "matching_columns<-colnames(bulk_matrix)[matching_columns]\n",
    "bulk_matrix_single <- as.data.frame(bulk_matrix[, matching_columns, drop = FALSE])\n",
    "return(bulk_matrix_single)\n",
    "},mc.cores=60)\n",
    "\n",
    "df_all<-do.call(cbind,matirx_list)\n",
    "df_meta_data<-as.data.frame(colnames(df_all))\n",
    "colnames(df_meta_data)<-'sample_name'\n",
    "split_columns <- strsplit(df_meta_data$sample_name, \":\")\n",
    "df_meta_data$pbmc_sample_id <- sapply(split_columns, `[`, 1)\n",
    "df_meta_data$AIFI_L3 <- sapply(split_columns, `[`, 2)\n",
    "df_meta_data<-left_join(df_meta_data,meta_data_subset)\n",
    "rownames(df_meta_data)<-df_meta_data$sample_name\n",
    "selected_gene_list<-read.csv('filtered_gene_list.csv')\n",
    "selGenes<-selected_gene_list %>% filter(AIFI_L3==celltype) %>% select(gene) %>% pull()  \n",
    "\n",
    "\n",
    "dds <- DESeqDataSetFromMatrix(df_all[selGenes,], colData = df_meta_data, \n",
    "                              design = ~  0+ImmuneType)\n",
    "dds <- DESeq(dds,parallel=FALSE)\n",
    "\n",
    "res_ImmuneType1 <- data.frame(results(dds,contrast=list(c(\"ImmuneType1\"), \n",
    "                      c(\"ImmuneType2\",\"ImmuneType3\",\"ImmuneType4\")),\n",
    "        listValues=c(1, -1/3)))\n",
    "res_ImmuneType2 <- data.frame(results(dds,contrast=list(c(\"ImmuneType2\"), \n",
    "                      c(\"ImmuneType1\",\"ImmuneType3\",\"ImmuneType4\")),\n",
    "        listValues=c(1, -1/3)))    \n",
    "res_ImmuneType3 <- data.frame(results(dds,contrast=list(c(\"ImmuneType3\"), \n",
    "                      c(\"ImmuneType2\",\"ImmuneType1\",\"ImmuneType4\")),\n",
    "        listValues=c(1, -1/3)))\n",
    "res_ImmuneType4 <- data.frame(results(dds,contrast=list(c(\"ImmuneType4\"), \n",
    "                      c(\"ImmuneType2\",\"ImmuneType3\",\"ImmuneType1\")),\n",
    "        listValues=c(1, -1/3)))\n",
    "res_ImmuneType1$ImmuneType<-\"1\"\n",
    "res_ImmuneType2$ImmuneType<-\"2\"\n",
    "res_ImmuneType3$ImmuneType<-\"3\"\n",
    "res_ImmuneType4$ImmuneType<-\"4\"\n",
    "res_ImmuneType1$Gene<-rownames(res_ImmuneType1)\n",
    "res_ImmuneType2$Gene<-rownames(res_ImmuneType2)\n",
    "res_ImmuneType3$Gene<-rownames(res_ImmuneType3)\n",
    "res_ImmuneType4$Gene<-rownames(res_ImmuneType4)\n",
    "res<-do.call(rbind,list(res_ImmuneType1,res_ImmuneType2,res_ImmuneType3,res_ImmuneType4))\n",
    "res$celltype<-celltype\n",
    "res=res %>% arrange(padj) %>% mutate(Direction=case_when(log2FoldChange<0~'HigherInOtherImmueType',log2FoldChange>0~'HigherInThisImmuneType'))\n",
    "res$Year<-\"Y1D0\"\n",
    "\n",
    "write.csv(res,paste0(\"DESeq2_ImmuneType_only/\",celltype,\".csv\"))\n",
    "\n",
    "}\n",
    "\n"
   ]
  },
  {
   "cell_type": "code",
   "execution_count": null,
   "id": "54dcd5c1-4a34-4136-8498-d1354cbe12f9",
   "metadata": {},
   "outputs": [],
   "source": []
  }
 ],
 "metadata": {
  "kernelspec": {
   "display_name": "R 4",
   "language": "R",
   "name": "ir4"
  },
  "language_info": {
   "codemirror_mode": "r",
   "file_extension": ".r",
   "mimetype": "text/x-r-source",
   "name": "R",
   "pygments_lexer": "r",
   "version": "4.3.1"
  }
 },
 "nbformat": 4,
 "nbformat_minor": 5
}
