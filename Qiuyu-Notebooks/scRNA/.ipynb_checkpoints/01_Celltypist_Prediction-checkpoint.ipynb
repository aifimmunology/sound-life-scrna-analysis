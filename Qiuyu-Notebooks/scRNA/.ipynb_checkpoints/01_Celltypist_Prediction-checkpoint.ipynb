{
 "cells": [
  {
   "cell_type": "code",
   "execution_count": 34,
   "id": "96f58f1e-da8f-41d5-8a94-1e4736262493",
   "metadata": {
    "tags": []
   },
   "outputs": [
    {
     "name": "stderr",
     "output_type": "stream",
     "text": [
      "📂 Storing models in /root/.celltypist/data/models\n",
      "⏩ Skipping [1/44]: Immune_All_Low.pkl (file exists)\n",
      "⏩ Skipping [2/44]: Immune_All_High.pkl (file exists)\n",
      "⏩ Skipping [3/44]: Adult_CynomolgusMacaque_Hippocampus.pkl (file exists)\n",
      "⏩ Skipping [4/44]: Adult_Human_PancreaticIslet.pkl (file exists)\n",
      "⏩ Skipping [5/44]: Adult_Human_Skin.pkl (file exists)\n",
      "⏩ Skipping [6/44]: Adult_Mouse_Gut.pkl (file exists)\n",
      "⏩ Skipping [7/44]: Adult_Mouse_OlfactoryBulb.pkl (file exists)\n",
      "⏩ Skipping [8/44]: Adult_Pig_Hippocampus.pkl (file exists)\n",
      "⏩ Skipping [9/44]: Adult_RhesusMacaque_Hippocampus.pkl (file exists)\n",
      "⏩ Skipping [10/44]: Autopsy_COVID19_Lung.pkl (file exists)\n",
      "⏩ Skipping [11/44]: COVID19_HumanChallenge_Blood.pkl (file exists)\n",
      "⏩ Skipping [12/44]: COVID19_Immune_Landscape.pkl (file exists)\n",
      "⏩ Skipping [13/44]: Cells_Fetal_Lung.pkl (file exists)\n",
      "⏩ Skipping [14/44]: Cells_Intestinal_Tract.pkl (file exists)\n",
      "⏩ Skipping [15/44]: Cells_Lung_Airway.pkl (file exists)\n",
      "⏩ Skipping [16/44]: Developing_Human_Brain.pkl (file exists)\n",
      "⏩ Skipping [17/44]: Developing_Human_Gonads.pkl (file exists)\n",
      "⏩ Skipping [18/44]: Developing_Human_Hippocampus.pkl (file exists)\n",
      "⏩ Skipping [19/44]: Developing_Human_Organs.pkl (file exists)\n",
      "⏩ Skipping [20/44]: Developing_Human_Thymus.pkl (file exists)\n",
      "⏩ Skipping [21/44]: Developing_Mouse_Brain.pkl (file exists)\n",
      "⏩ Skipping [22/44]: Developing_Mouse_Hippocampus.pkl (file exists)\n",
      "⏩ Skipping [23/44]: Fetal_Human_AdrenalGlands.pkl (file exists)\n",
      "⏩ Skipping [24/44]: Fetal_Human_Pancreas.pkl (file exists)\n",
      "⏩ Skipping [25/44]: Fetal_Human_Pituitary.pkl (file exists)\n",
      "⏩ Skipping [26/44]: Fetal_Human_Retina.pkl (file exists)\n",
      "⏩ Skipping [27/44]: Fetal_Human_Skin.pkl (file exists)\n",
      "⏩ Skipping [28/44]: Healthy_Adult_Heart.pkl (file exists)\n",
      "⏩ Skipping [29/44]: Healthy_COVID19_PBMC.pkl (file exists)\n",
      "⏩ Skipping [30/44]: Healthy_Human_Liver.pkl (file exists)\n",
      "⏩ Skipping [31/44]: Healthy_Mouse_Liver.pkl (file exists)\n",
      "⏩ Skipping [32/44]: Human_AdultAged_Hippocampus.pkl (file exists)\n",
      "⏩ Skipping [33/44]: Human_Developmental_Retina.pkl (file exists)\n",
      "⏩ Skipping [34/44]: Human_Embryonic_YolkSac.pkl (file exists)\n",
      "⏩ Skipping [35/44]: Human_IPF_Lung.pkl (file exists)\n",
      "⏩ Skipping [36/44]: Human_Longitudinal_Hippocampus.pkl (file exists)\n",
      "⏩ Skipping [37/44]: Human_Lung_Atlas.pkl (file exists)\n",
      "⏩ Skipping [38/44]: Human_PF_Lung.pkl (file exists)\n",
      "⏩ Skipping [39/44]: Lethal_COVID19_Lung.pkl (file exists)\n",
      "⏩ Skipping [40/44]: Mouse_Dentate_Gyrus.pkl (file exists)\n",
      "⏩ Skipping [41/44]: Mouse_Isocortex_Hippocampus.pkl (file exists)\n",
      "⏩ Skipping [42/44]: Mouse_Postnatal_DentateGyrus.pkl (file exists)\n",
      "⏩ Skipping [43/44]: Nuclei_Lung_Airway.pkl (file exists)\n",
      "⏩ Skipping [44/44]: Pan_Fetal_Human.pkl (file exists)\n"
     ]
    }
   ],
   "source": [
    "import sys\n",
    "import matplotlib.pyplot as plt\n",
    "import numpy as np\n",
    "import pandas as pd\n",
    "import scanpy as sc\n",
    "import celltypist\n",
    "import gc\n",
    "import anndata\n",
    "from celltypist import models\n",
    "import h5py\n",
    "import scipy.sparse as scs\n",
    "from multiprocessing import Pool\n",
    "\n",
    "models.download_models()"
   ]
  },
  {
   "cell_type": "code",
   "execution_count": 3,
   "id": "5a9287a5-65b4-4967-8551-116c97d9e6ae",
   "metadata": {
    "tags": []
   },
   "outputs": [],
   "source": [
    "def read_mat(h5_con):\n",
    "    mat = scs.csc_matrix(\n",
    "        (h5_con['matrix']['data'][:], # Count values\n",
    "         h5_con['matrix']['indices'][:], # Row indices\n",
    "         h5_con['matrix']['indptr'][:]), # Pointers for column positions\n",
    "        shape = tuple(h5_con['matrix']['shape'][:]) # Matrix dimensions\n",
    "    )\n",
    "    return mat\n",
    "\n",
    "# define a function to obeservation (i.e. metadata)\n",
    "\n",
    "def read_obs(h5con):\n",
    "    bc = h5con['matrix']['barcodes'][:]\n",
    "    bc = [x.decode('UTF-8') for x in bc]\n",
    "\n",
    "    # Initialized the DataFrame with cell barcodes\n",
    "    obs_df = pd.DataFrame({ 'barcodes' : bc })\n",
    "\n",
    "    # Get the list of available metadata columns\n",
    "    obs_columns = h5con['matrix']['observations'].keys()\n",
    "\n",
    "    # For each column\n",
    "    for col in obs_columns:\n",
    "        # Read the values\n",
    "        values = h5con['matrix']['observations'][col][:]\n",
    "        # Check for byte storage\n",
    "        if(isinstance(values[0], (bytes, bytearray))):\n",
    "            # Decode byte strings\n",
    "            values = [x.decode('UTF-8') for x in values]\n",
    "        # Add column to the DataFrame\n",
    "        obs_df[col] = values\n",
    "    \n",
    "    return obs_df\n",
    "# define a function to construct anndata object from a h5 file\n",
    "def read_h5_anndata(h5_file):\n",
    "    h5_con = h5py.File(h5_file, mode = 'r')\n",
    "    # extract the expression matrix\n",
    "    mat = read_mat(h5_con)\n",
    "    # extract gene names\n",
    "    genes = h5_con['matrix']['features']['name'][:]\n",
    "    genes = [x.decode('UTF-8') for x in genes]\n",
    "    # extract metadata\n",
    "    obs_df = read_obs(h5_con)\n",
    "    # construct anndata\n",
    "    adata = anndata.AnnData(mat.T,\n",
    "                             obs = obs_df)\n",
    "    # make sure the gene names aligned\n",
    "    adata.var_names = genes\n",
    "\n",
    "    adata.var_names_make_unique()\n",
    "    return adata"
   ]
  },
  {
   "cell_type": "code",
   "execution_count": null,
   "id": "5c7336fd-02c8-4f4d-8a5d-fe6ea8a8bbde",
   "metadata": {},
   "outputs": [],
   "source": [
    "meta_data=pd.read_csv('meta_data.csv')"
   ]
  },
  {
   "cell_type": "code",
   "execution_count": 26,
   "id": "f83fe765-056f-416f-82ef-285db0428065",
   "metadata": {
    "collapsed": true,
    "jupyter": {
     "outputs_hidden": true
    },
    "tags": []
   },
   "outputs": [
    {
     "name": "stderr",
     "output_type": "stream",
     "text": [
      "🔬 Input data has 11372 cells and 33538 genes\n",
      "🔗 Matching reference genes in the model\n",
      "🧬 1077 features used for prediction\n",
      "⚖️ Scaling input data\n",
      "🖋️ Predicting labels\n",
      "✅ Prediction done!\n",
      "🔬 Input data has 11372 cells and 33538 genes\n",
      "🔗 Matching reference genes in the model\n",
      "🧬 1912 features used for prediction\n",
      "⚖️ Scaling input data\n",
      "🖋️ Predicting labels\n",
      "✅ Prediction done!\n",
      "🔬 Input data has 11372 cells and 33538 genes\n",
      "🔗 Matching reference genes in the model\n",
      "🧬 2511 features used for prediction\n",
      "⚖️ Scaling input data\n",
      "🖋️ Predicting labels\n",
      "✅ Prediction done!\n",
      "🔬 Input data has 11372 cells and 33538 genes\n",
      "🔗 Matching reference genes in the model\n",
      "🧬 2518 features used for prediction\n",
      "⚖️ Scaling input data\n",
      "🖋️ Predicting labels\n",
      "✅ Prediction done!\n"
     ]
    }
   ],
   "source": [
    "\n",
    "pbmc = read_h5_anndata('cache/db99298a-23b2-488b-ae6c-4da161e1fca6/B188-P2_PB00278-05_2023-12-06T00:53:51.440865054Z_labeled.h5')\n",
    "# Processing testing data\n",
    "pbmc_sample_id=pbmc.obs['pbmc_sample_id'].unique().tolist()[0]\n",
    "\n",
    "pbmc.obs.index=pbmc.obs['barcodes']\n",
    "sc.pp.normalize_total(pbmc, target_sum=1e4)\n",
    "sc.pp.log1p(pbmc)\n",
    "predictions_L1 = celltypist.annotate(pbmc, model=f'/home/jupyter/AIFI_Reference_Model_Celltypist/Models/model_AIFI_L1_ovr.pkl')\n",
    "predictions_L2 = celltypist.annotate(pbmc, model=f'/home/jupyter/AIFI_Reference_Model_Celltypist/Models/model_AIFI_L2_ovr.pkl')\n",
    "predictions_L3 = celltypist.annotate(pbmc, model=f'/home/jupyter/AIFI_Reference_Model_Celltypist/Models/model_AIFI_L3_multinomial.pkl')\n",
    "predictions_L3_5 = celltypist.annotate(pbmc, model=f'/home/jupyter/AIFI_Reference_Model_Celltypist/Models/model_AIFI_L3.5_multinomial.pkl')\n",
    "\n",
    "\n",
    "# write out labels\n",
    "predictions_L1.predicted_labels.reset_index().to_csv(f'Labels/{pbmc_sample_id}_L1_predicted_labels.csv')\n",
    "predictions_L2.predicted_labels.reset_index().to_csv(f'Labels/{pbmc_sample_id}_L2_predicted_labels.csv')\n",
    "predictions_L3.predicted_labels.reset_index().to_csv(f'Labels/{pbmc_sample_id}_L3_predicted_labels.csv')\n",
    "predictions_L3_5.predicted_labels.reset_index().to_csv(f'Labels/{pbmc_sample_id}_L3.5_predicted_labels.csv')\n",
    "# write out prob matrix\n",
    "predictions_L1.probability_matrix.reset_index().to_parquet(f'Labels/{pbmc_sample_id}_L1_probability_matrix.parquet')\n",
    "predictions_L2.probability_matrix.reset_index().to_parquet(f'Labels/{pbmc_sample_id}_L2_probability_matrix.parquet')\n",
    "predictions_L3.probability_matrix.reset_index().to_parquet(f'Labels/{pbmc_sample_id}_L3_probability_matrix.parquet')\n",
    "predictions_L3_5.probability_matrix.reset_index().to_parquet(f'Labels/{pbmc_sample_id}_L3.5_probability_matrix.parquet')\n",
    "# write out decision matrix\n",
    "predictions_L1.decision_matrix.reset_index().to_parquet(f'Labels/{pbmc_sample_id}_L1_decision_matrix.parquet')\n",
    "predictions_L2.decision_matrix.reset_index().to_parquet(f'Labels/{pbmc_sample_id}_L2_decision_matrix.parquet')\n",
    "predictions_L3.decision_matrix.reset_index().to_parquet(f'Labels/{pbmc_sample_id}_L3_decision_matrix.parquet')\n",
    "predictions_L3_5.decision_matrix.reset_index().to_parquet(f'Labels/{pbmc_sample_id}_L3.5_decision_matrix.parquet')\n"
   ]
  },
  {
   "cell_type": "code",
   "execution_count": 32,
   "id": "3c899e5b-3449-4ddb-9789-e0b6f091dcde",
   "metadata": {
    "tags": []
   },
   "outputs": [],
   "source": [
    "def process_and_annotate_pbmc(args):\n",
    "    # Read data\n",
    "    data_file, model_base_path, output_base_path = args\n",
    "    pbmc = read_h5_anndata(data_file)\n",
    "    \n",
    "    # Processing testing data\n",
    "    pbmc_sample_id = pbmc.obs['pbmc_sample_id'].unique().tolist()[0]\n",
    "    pbmc.obs.index = pbmc.obs['barcodes']\n",
    "    \n",
    "    # Normalization and log transformation\n",
    "    sc.pp.normalize_total(pbmc, target_sum=1e4)\n",
    "    sc.pp.log1p(pbmc)\n",
    "    \n",
    "    # Annotations\n",
    "    levels = ['L1', 'L2', 'L3', 'L3.5']\n",
    "    models = {'L1': 'ovr', 'L2': 'ovr', 'L3': 'multinomial', 'L3.5': 'multinomial'}\n",
    "    predictions = {}\n",
    "\n",
    "    for level, model_type in models.items():\n",
    "        model_file = f'{model_base_path}/model_AIFI_{level}_{model_type}.pkl'\n",
    "        predictions[level] = celltypist.annotate(pbmc, model=model_file)\n",
    "\n",
    "        # Write out labels\n",
    "        predictions[level].predicted_labels.reset_index().to_csv(f'{output_base_path}/{pbmc_sample_id}_{level}_predicted_labels.csv')\n",
    "        # Write out probability matrix\n",
    "        predictions[level].probability_matrix.reset_index().to_parquet(f'{output_base_path}/{pbmc_sample_id}_{level}_probability_matrix.parquet')\n",
    "        # Write out decision matrix\n",
    "        predictions[level].decision_matrix.reset_index().to_parquet(f'{output_base_path}/{pbmc_sample_id}_{level}_decision_matrix.parquet')"
   ]
  },
  {
   "cell_type": "code",
   "execution_count": 30,
   "id": "13604e07-b68d-43e3-bc5f-707ee2670f16",
   "metadata": {
    "tags": []
   },
   "outputs": [],
   "source": [
    "model_base_path='/home/jupyter/AIFI_Reference_Model_Celltypist/Models'\n",
    "output_base_path='Labels/'\n",
    "data_file='cache/db99298a-23b2-488b-ae6c-4da161e1fca6/B188-P2_PB00278-05_2023-12-06T00:53:51.440865054Z_labeled.h5'"
   ]
  },
  {
   "cell_type": "code",
   "execution_count": 38,
   "id": "967b33a5-6c65-487a-b5fd-b3efd00fa780",
   "metadata": {
    "tags": []
   },
   "outputs": [
    {
     "ename": "TypeError",
     "evalue": "process_and_annotate_pbmc() missing 2 required positional arguments: 'model_base_path' and 'output_base_path'",
     "output_type": "error",
     "traceback": [
      "\u001b[0;31m---------------------------------------------------------------------------\u001b[0m",
      "\u001b[0;31mRemoteTraceback\u001b[0m                           Traceback (most recent call last)",
      "\u001b[0;31mRemoteTraceback\u001b[0m: \n\"\"\"\nTraceback (most recent call last):\n  File \"/opt/conda/lib/python3.10/multiprocessing/pool.py\", line 125, in worker\n    result = (True, func(*args, **kwds))\n  File \"/opt/conda/lib/python3.10/multiprocessing/pool.py\", line 48, in mapstar\n    return list(map(*args))\nTypeError: process_and_annotate_pbmc() missing 2 required positional arguments: 'model_base_path' and 'output_base_path'\n\"\"\"",
      "\nThe above exception was the direct cause of the following exception:\n",
      "\u001b[0;31mTypeError\u001b[0m                                 Traceback (most recent call last)",
      "Cell \u001b[0;32mIn[38], line 7\u001b[0m\n\u001b[1;32m      4\u001b[0m args_list \u001b[38;5;241m=\u001b[39m [(file, model_base_path, output_base_path) \u001b[38;5;28;01mfor\u001b[39;00m file \u001b[38;5;129;01min\u001b[39;00m file_list]\n\u001b[1;32m      6\u001b[0m \u001b[38;5;28;01mwith\u001b[39;00m Pool(processes\u001b[38;5;241m=\u001b[39m\u001b[38;5;28mlen\u001b[39m(file_list)) \u001b[38;5;28;01mas\u001b[39;00m pool:\n\u001b[0;32m----> 7\u001b[0m     \u001b[43mpool\u001b[49m\u001b[38;5;241;43m.\u001b[39;49m\u001b[43mmap\u001b[49m\u001b[43m(\u001b[49m\u001b[43mprocess_and_annotate_pbmc\u001b[49m\u001b[43m,\u001b[49m\u001b[43m \u001b[49m\u001b[43margs_list\u001b[49m\u001b[43m)\u001b[49m\n",
      "File \u001b[0;32m/opt/conda/lib/python3.10/multiprocessing/pool.py:367\u001b[0m, in \u001b[0;36mPool.map\u001b[0;34m(self, func, iterable, chunksize)\u001b[0m\n\u001b[1;32m    362\u001b[0m \u001b[38;5;28;01mdef\u001b[39;00m \u001b[38;5;21mmap\u001b[39m(\u001b[38;5;28mself\u001b[39m, func, iterable, chunksize\u001b[38;5;241m=\u001b[39m\u001b[38;5;28;01mNone\u001b[39;00m):\n\u001b[1;32m    363\u001b[0m \u001b[38;5;250m    \u001b[39m\u001b[38;5;124;03m'''\u001b[39;00m\n\u001b[1;32m    364\u001b[0m \u001b[38;5;124;03m    Apply `func` to each element in `iterable`, collecting the results\u001b[39;00m\n\u001b[1;32m    365\u001b[0m \u001b[38;5;124;03m    in a list that is returned.\u001b[39;00m\n\u001b[1;32m    366\u001b[0m \u001b[38;5;124;03m    '''\u001b[39;00m\n\u001b[0;32m--> 367\u001b[0m     \u001b[38;5;28;01mreturn\u001b[39;00m \u001b[38;5;28;43mself\u001b[39;49m\u001b[38;5;241;43m.\u001b[39;49m\u001b[43m_map_async\u001b[49m\u001b[43m(\u001b[49m\u001b[43mfunc\u001b[49m\u001b[43m,\u001b[49m\u001b[43m \u001b[49m\u001b[43miterable\u001b[49m\u001b[43m,\u001b[49m\u001b[43m \u001b[49m\u001b[43mmapstar\u001b[49m\u001b[43m,\u001b[49m\u001b[43m \u001b[49m\u001b[43mchunksize\u001b[49m\u001b[43m)\u001b[49m\u001b[38;5;241;43m.\u001b[39;49m\u001b[43mget\u001b[49m\u001b[43m(\u001b[49m\u001b[43m)\u001b[49m\n",
      "File \u001b[0;32m/opt/conda/lib/python3.10/multiprocessing/pool.py:774\u001b[0m, in \u001b[0;36mApplyResult.get\u001b[0;34m(self, timeout)\u001b[0m\n\u001b[1;32m    772\u001b[0m     \u001b[38;5;28;01mreturn\u001b[39;00m \u001b[38;5;28mself\u001b[39m\u001b[38;5;241m.\u001b[39m_value\n\u001b[1;32m    773\u001b[0m \u001b[38;5;28;01melse\u001b[39;00m:\n\u001b[0;32m--> 774\u001b[0m     \u001b[38;5;28;01mraise\u001b[39;00m \u001b[38;5;28mself\u001b[39m\u001b[38;5;241m.\u001b[39m_value\n",
      "\u001b[0;31mTypeError\u001b[0m: process_and_annotate_pbmc() missing 2 required positional arguments: 'model_base_path' and 'output_base_path'"
     ]
    }
   ],
   "source": [
    "file_list=[data_file]\n",
    "model_base_path='/home/jupyter/AIFI_Reference_Model_Celltypist/Models'\n",
    "output_base_path='Labels/'\n",
    "args_list = [(file, model_base_path, output_base_path) for file in file_list]\n",
    "\n",
    "with Pool(processes=len(file_list)) as pool:\n",
    "    pool.map(process_and_annotate_pbmc, args_list)"
   ]
  },
  {
   "cell_type": "code",
   "execution_count": 33,
   "id": "8dd0baf4-ed6b-47bd-86ce-a53c467d2f90",
   "metadata": {
    "tags": []
   },
   "outputs": [
    {
     "name": "stderr",
     "output_type": "stream",
     "text": [
      "🔬 Input data has 11372 cells and 33538 genes\n",
      "🔗 Matching reference genes in the model\n",
      "🧬 1077 features used for prediction\n",
      "⚖️ Scaling input data\n",
      "🖋️ Predicting labels\n",
      "✅ Prediction done!\n",
      "🔬 Input data has 11372 cells and 33538 genes\n",
      "🔗 Matching reference genes in the model\n",
      "🧬 1912 features used for prediction\n",
      "⚖️ Scaling input data\n",
      "🖋️ Predicting labels\n",
      "✅ Prediction done!\n",
      "🔬 Input data has 11372 cells and 33538 genes\n",
      "🔗 Matching reference genes in the model\n",
      "🧬 2511 features used for prediction\n",
      "⚖️ Scaling input data\n",
      "🖋️ Predicting labels\n",
      "✅ Prediction done!\n",
      "🔬 Input data has 11372 cells and 33538 genes\n",
      "🔗 Matching reference genes in the model\n",
      "🧬 2518 features used for prediction\n",
      "⚖️ Scaling input data\n",
      "🖋️ Predicting labels\n",
      "✅ Prediction done!\n"
     ]
    }
   ],
   "source": [
    "process_and_annotate_pbmc(data_file,model_base_path,output_base_path)"
   ]
  },
  {
   "cell_type": "code",
   "execution_count": null,
   "id": "8caa745f-0a94-43aa-9569-f080b96ac17a",
   "metadata": {},
   "outputs": [],
   "source": []
  }
 ],
 "metadata": {
  "kernelspec": {
   "display_name": "Python [conda env:root] *",
   "language": "python",
   "name": "conda-root-py"
  },
  "language_info": {
   "codemirror_mode": {
    "name": "ipython",
    "version": 3
   },
   "file_extension": ".py",
   "mimetype": "text/x-python",
   "name": "python",
   "nbconvert_exporter": "python",
   "pygments_lexer": "ipython3",
   "version": "3.10.12"
  }
 },
 "nbformat": 4,
 "nbformat_minor": 5
}
