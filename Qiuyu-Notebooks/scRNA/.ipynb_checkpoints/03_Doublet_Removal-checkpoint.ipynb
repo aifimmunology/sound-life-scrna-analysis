{
 "cells": [
  {
   "cell_type": "code",
   "execution_count": 1,
   "id": "87af9d00-8a30-498a-a007-00a649d628e1",
   "metadata": {
    "tags": []
   },
   "outputs": [],
   "source": [
    "import scanpy as sc\n",
    "import pandas as pd \n",
    "import numpy as np\n",
    "import anndata\n",
    "import re\n",
    "import h5py\n",
    "import scipy.sparse as scs\n",
    "import concurrent.futures\n",
    "import matplotlib.pyplot as plt\n",
    "import seaborn as sns\n",
    "from scipy.sparse import csc_matrix\n",
    "from concurrent.futures import ThreadPoolExecutor, as_completed\n",
    "import umap\n",
    "import random\n",
    "import multiprocessing\n",
    "random.seed(123)\n",
    "from joblib import Parallel, delayed\n",
    "import warnings\n",
    "#warnings.filterwarnings('ignore')\n",
    "import os\n",
    "from tqdm import tqdm\n"
   ]
  },
  {
   "cell_type": "code",
   "execution_count": 2,
   "id": "08e97d80-52e1-4015-9bfd-6f243e28f7cd",
   "metadata": {
    "tags": []
   },
   "outputs": [],
   "source": [
    "def read_mat(h5_con):\n",
    "    mat = scs.csc_matrix(\n",
    "        (h5_con['matrix']['data'][:], # Count values\n",
    "         h5_con['matrix']['indices'][:], # Row indices\n",
    "         h5_con['matrix']['indptr'][:]), # Pointers for column positions\n",
    "        shape = tuple(h5_con['matrix']['shape'][:]) # Matrix dimensions\n",
    "    )\n",
    "    return mat\n",
    "\n",
    "\n",
    "def read_obs(h5con):\n",
    "    bc = h5con['matrix']['barcodes'][:]\n",
    "    bc = [x.decode('UTF-8') for x in bc]\n",
    "\n",
    "    # Initialized the DataFrame with cell barcodes\n",
    "    obs_df = pd.DataFrame({ 'barcodes' : bc })\n",
    "\n",
    "    # Get the list of available metadata columns\n",
    "    obs_columns = h5con['matrix']['observations'].keys()\n",
    "\n",
    "    # For each column\n",
    "    for col in obs_columns:\n",
    "        # Read the values\n",
    "        values = h5con['matrix']['observations'][col][:]\n",
    "        # Check for byte storage\n",
    "        if(isinstance(values[0], (bytes, bytearray))):\n",
    "            # Decode byte strings\n",
    "            values = [x.decode('UTF-8') for x in values]\n",
    "        # Add column to the DataFrame\n",
    "        obs_df[col] = values\n",
    "    \n",
    "    return obs_df\n",
    "# define a function to construct anndata object from a h5 file\n",
    "def read_h5_anndata(h5_file):\n",
    "    h5_con = h5py.File(h5_file, mode = 'r')\n",
    "    # extract the expression matrix\n",
    "    mat = read_mat(h5_con)\n",
    "    # extract gene names\n",
    "    genes = h5_con['matrix']['features']['name'][:]\n",
    "    genes = [x.decode('UTF-8') for x in genes]\n",
    "    # extract metadata\n",
    "    obs_df = read_obs(h5_con)\n",
    "    # construct anndata\n",
    "    adata = anndata.AnnData(mat.T,\n",
    "                             obs = obs_df)\n",
    "    # make sure the gene names aligned\n",
    "    adata.var_names = genes\n",
    "\n",
    "    adata.var_names_make_unique()\n",
    "    return adata\n",
    "def get_last_pattern(inputstr):\n",
    "    pattern = r\"[^/]+(?=$)\"\n",
    "    match = re.search(pattern, inputstr)\n",
    "    if match:\n",
    "        return match.group(0)\n",
    "    else:\n",
    "        return \"\"\n",
    "def process_file(file_name):\n",
    "    adata = read_h5_anndata(file_name)\n",
    "    output_file = 'h5ad_flu_after_qc/'+adata.obs['pbmc_sample_id'][0]+'.h5ad'\n",
    "    if os.path.exists(output_file) and os.path.getsize(output_file) > 0:\n",
    "        print(f\"File {output_file} already exists and is not empty. Skipping processing.\")\n",
    "        return\n",
    "    adata.obs=adata.obs.merge(meta_data[col_list], on='pbmc_sample_id', how='left')\n",
    "    doublet_scores=pd.read_csv('/home/jupyter/BRI_Analysis/scRNA/Doublet_Scores/'+adata.obs['pbmc_sample_id'][0]+'.csv', index_col=0)\n",
    "    L1_labels=pd.read_csv('/home/jupyter/BRI_Analysis/scRNA/Labels/'+adata.obs['pbmc_sample_id'][0]+'_L1_predicted_labels.csv', index_col=0)\n",
    "    L2_labels=pd.read_csv('/home/jupyter/BRI_Analysis/scRNA/Labels/'+adata.obs['pbmc_sample_id'][0]+'_L2_predicted_labels.csv', index_col=0)\n",
    "    L3_labels=pd.read_csv('/home/jupyter/BRI_Analysis/scRNA/Labels/'+adata.obs['pbmc_sample_id'][0]+'_L3_predicted_labels.csv', index_col=0)\n",
    "    L3_5_labels=pd.read_csv('/home/jupyter/BRI_Analysis/scRNA/Labels/'+adata.obs['pbmc_sample_id'][0]+'_L3.5_predicted_labels.csv', index_col=0)\n",
    "    L1_labels.columns=[ 'barcodes', 'AIFI_L1']\n",
    "    L2_labels.columns=[ 'barcodes', 'AIFI_L2']\n",
    "    L3_labels.columns=[ 'barcodes', 'AIFI_L3']\n",
    "    L3_5_labels.columns=[ 'barcodes', 'AIFI_L3.5']\n",
    "    print(doublet_scores['barcodes'].tolist()==adata.obs['barcodes'].tolist(),\n",
    "          L1_labels['barcodes'].tolist()==adata.obs['barcodes'].tolist(),\n",
    "          L2_labels['barcodes'].tolist()==adata.obs['barcodes'].tolist(),\n",
    "          L3_labels['barcodes'].tolist()==adata.obs['barcodes'].tolist(),\n",
    "          L3_5_labels['barcodes'].tolist()==adata.obs['barcodes'].tolist())\n",
    "    adata.obs= pd.merge(adata.obs, doublet_scores, on='barcodes', how='left')\n",
    "    adata.obs= pd.merge(adata.obs, L1_labels, on='barcodes', how='left')\n",
    "    adata.obs= pd.merge(adata.obs, L2_labels, on='barcodes', how='left')\n",
    "    adata.obs= pd.merge(adata.obs, L3_labels, on='barcodes', how='left')\n",
    "    adata.obs= pd.merge(adata.obs, L3_5_labels, on='barcodes', how='left')\n",
    "    adata.obs.index=adata.obs['barcodes']\n",
    "    adata.var[\"mito\"] = adata.var_names.str.startswith(\"MT-\")\n",
    "    adata=adata[adata.obs['predicted_doublet']==False]\n",
    "    sc.pp.calculate_qc_metrics(adata, qc_vars=[\"mito\"], inplace=True)\n",
    "    adata=adata[(adata.obs[\"pct_counts_mito\"] <10) & (adata.obs[\"n_genes\"] <5000) &(adata.obs[\"n_genes\"] >200) ]\n",
    "    adata.write_h5ad('h5ad_flu_after_qc/'+adata.obs['pbmc_sample_id'][0]+'.h5ad')"
   ]
  },
  {
   "cell_type": "code",
   "execution_count": 3,
   "id": "1f4f6c86-bf2d-4906-be90-00cbb79fc271",
   "metadata": {
    "tags": []
   },
   "outputs": [],
   "source": [
    "col_list=['subject.biologicalSex','subject.ethnicity', 'subject.partnerCode',\n",
    "          'subject.race', 'subject.subjectGuid', 'cohort.cohortGuid', 'sample.visitName', \n",
    "          'sample.visitDetails', 'subject.birthYear','CMV.IgG.Serology.Result.Interpretation', \n",
    "          'BMI','pbmc_sample_id']"
   ]
  },
  {
   "cell_type": "code",
   "execution_count": 4,
   "id": "175b48b8-5de8-44fe-94db-2ee8b9d31935",
   "metadata": {
    "tags": []
   },
   "outputs": [],
   "source": [
    "meta_data=pd.read_csv('/home//jupyter/BRI_Analysis/scRNA/hise_meta_data_2024-01-23_fixed.csv')"
   ]
  },
  {
   "cell_type": "markdown",
   "id": "00ac6652-151a-4348-b571-efdb316b6282",
   "metadata": {},
   "source": [
    "# Basic QC and doublet removal from scrublet"
   ]
  },
  {
   "cell_type": "code",
   "execution_count": 22,
   "id": "abc280a4-97e8-4e52-9acb-e9c6860a03c5",
   "metadata": {
    "collapsed": true,
    "jupyter": {
     "outputs_hidden": true
    },
    "tags": []
   },
   "outputs": [
    {
     "name": "stdout",
     "output_type": "stream",
     "text": [
      "File h5ad_flu_after_qc/PB00294-02.h5ad already exists and is not empty. Skipping processing.\n",
      "File h5ad_flu_after_qc/PB00295-02.h5ad already exists and is not empty. Skipping processing.\n",
      "File h5ad_flu_after_qc/PB00296-02.h5ad already exists and is not empty. Skipping processing.\n",
      "File h5ad_flu_after_qc/PB00297-02.h5ad already exists and is not empty. Skipping processing.\n",
      "File h5ad_flu_after_qc/PB00625-02.h5ad already exists and is not empty. Skipping processing.\n",
      "File h5ad_flu_after_qc/PB00165-03.h5ad already exists and is not empty. Skipping processing.\n",
      "File h5ad_flu_after_qc/PB00034-01.h5ad already exists and is not empty. Skipping processing.\n",
      "File h5ad_flu_after_qc/PB00360-01.h5ad already exists and is not empty. Skipping processing.\n",
      "File h5ad_flu_after_qc/PB00323-01.h5ad already exists and is not empty. Skipping processing.\n",
      "File h5ad_flu_after_qc/PB00007-01.h5ad already exists and is not empty. Skipping processing.\n",
      "File h5ad_flu_after_qc/PB00537-01.h5ad already exists and is not empty. Skipping processing.\n",
      "File h5ad_flu_after_qc/PB00530-01.h5ad already exists and is not empty. Skipping processing.\n",
      "File h5ad_flu_after_qc/PB00049-01.h5ad already exists and is not empty. Skipping processing.\n",
      "File h5ad_flu_after_qc/PB00397-01.h5ad already exists and is not empty. Skipping processing.\n",
      "File h5ad_flu_after_qc/PB00264-01.h5ad already exists and is not empty. Skipping processing.\n",
      "File h5ad_flu_after_qc/PB00045-01.h5ad already exists and is not empty. Skipping processing.\n",
      "File h5ad_flu_after_qc/PB00339-01.h5ad already exists and is not empty. Skipping processing.File h5ad_flu_after_qc/PB00025-04.h5ad already exists and is not empty. Skipping processing.\n",
      "\n",
      "File h5ad_flu_after_qc/PB00001-01.h5ad already exists and is not empty. Skipping processing.File h5ad_flu_after_qc/PB00269-01.h5ad already exists and is not empty. Skipping processing.\n",
      "\n",
      "File h5ad_flu_after_qc/PB00286-05.h5ad already exists and is not empty. Skipping processing.File h5ad_flu_after_qc/PB00157-01.h5ad already exists and is not empty. Skipping processing.File h5ad_flu_after_qc/PB00353-04.h5ad already exists and is not empty. Skipping processing.\n",
      "\n",
      "File h5ad_flu_after_qc/PB00340-01.h5ad already exists and is not empty. Skipping processing.\n",
      "File h5ad_flu_after_qc/PB00020-01.h5ad already exists and is not empty. Skipping processing.File h5ad_flu_after_qc/PB00273-05.h5ad already exists and is not empty. Skipping processing.\n",
      "\n",
      "File h5ad_flu_after_qc/PB00386-01.h5ad already exists and is not empty. Skipping processing.\n",
      "\n",
      "File h5ad_flu_after_qc/PB00028-05.h5ad already exists and is not empty. Skipping processing.\n",
      "File h5ad_flu_after_qc/PB00282-01.h5ad already exists and is not empty. Skipping processing.File h5ad_flu_after_qc/PB00328-01.h5ad already exists and is not empty. Skipping processing.\n",
      "File h5ad_flu_after_qc/PB00562-01.h5ad already exists and is not empty. Skipping processing.\n",
      "\n",
      "File h5ad_flu_after_qc/PB00006-01.h5ad already exists and is not empty. Skipping processing.File h5ad_flu_after_qc/PB00375-01.h5ad already exists and is not empty. Skipping processing.\n",
      "\n",
      "File h5ad_flu_after_qc/PB00152-01.h5ad already exists and is not empty. Skipping processing.\n",
      "File h5ad_flu_after_qc/PB00501-01.h5ad already exists and is not empty. Skipping processing.File h5ad_flu_after_qc/PB00391-01.h5ad already exists and is not empty. Skipping processing.\n",
      "\n",
      "File h5ad_flu_after_qc/PB00255-01.h5ad already exists and is not empty. Skipping processing.\n",
      "File h5ad_flu_after_qc/PB00013-01.h5ad already exists and is not empty. Skipping processing.File h5ad_flu_after_qc/PB00015-01.h5ad already exists and is not empty. Skipping processing.\n",
      "\n",
      "File h5ad_flu_after_qc/PB00566-01.h5ad already exists and is not empty. Skipping processing.\n",
      "File h5ad_flu_after_qc/PB00277-01.h5ad already exists and is not empty. Skipping processing.\n",
      "File h5ad_flu_after_qc/PB00332-01.h5ad already exists and is not empty. Skipping processing.\n",
      "File h5ad_flu_after_qc/PB00380-01.h5ad already exists and is not empty. Skipping processing.File h5ad_flu_after_qc/PB00514-01.h5ad already exists and is not empty. Skipping processing.File h5ad_flu_after_qc/PB00347-01.h5ad already exists and is not empty. Skipping processing.\n",
      "\n",
      "\n",
      "File h5ad_flu_after_qc/PB00170-01.h5ad already exists and is not empty. Skipping processing.\n",
      "File h5ad_flu_after_qc/PB00148-01.h5ad already exists and is not empty. Skipping processing.\n",
      "File h5ad_flu_after_qc/PB00290-01.h5ad already exists and is not empty. Skipping processing.File h5ad_flu_after_qc/PB00354-01.h5ad already exists and is not empty. Skipping processing.\n",
      "File h5ad_flu_after_qc/PB00041-01.h5ad already exists and is not empty. Skipping processing.\n",
      "\n",
      "File h5ad_flu_after_qc/PB00161-01.h5ad already exists and is not empty. Skipping processing.\n",
      "File h5ad_flu_after_qc/PB00143-01.h5ad already exists and is not empty. Skipping processing.\n",
      "File h5ad_flu_after_qc/PB00371-03.h5ad already exists and is not empty. Skipping processing.\n",
      "File h5ad_flu_after_qc/PB00259-01.h5ad already exists and is not empty. Skipping processing.\n",
      "File h5ad_flu_after_qc/PB00582-01.h5ad already exists and is not empty. Skipping processing.File h5ad_flu_after_qc/PB00600-01.h5ad already exists and is not empty. Skipping processing.\n",
      "\n",
      "File h5ad_flu_after_qc/PB00369-01.h5ad already exists and is not empty. Skipping processing.File h5ad_flu_after_qc/PB00389-01.h5ad already exists and is not empty. Skipping processing.\n",
      "\n",
      "File h5ad_flu_after_qc/PB00363-01.h5ad already exists and is not empty. Skipping processing.\n",
      "File h5ad_flu_after_qc/PB00523-01.h5ad already exists and is not empty. Skipping processing.\n",
      "File h5ad_flu_after_qc/PB00039-03.h5ad already exists and is not empty. Skipping processing.\n",
      "File h5ad_flu_after_qc/PB00298-02.h5ad already exists and is not empty. Skipping processing.\n",
      "File h5ad_flu_after_qc/PB00035-01.h5ad already exists and is not empty. Skipping processing.\n",
      "File h5ad_flu_after_qc/PB00549-01.h5ad already exists and is not empty. Skipping processing.\n",
      "File h5ad_flu_after_qc/PB00325-01.h5ad already exists and is not empty. Skipping processing.\n",
      "File h5ad_flu_after_qc/PB00645-01.h5ad already exists and is not empty. Skipping processing.\n",
      "File h5ad_flu_after_qc/PB00503-01.h5ad already exists and is not empty. Skipping processing.\n",
      "File h5ad_flu_after_qc/PB00278-05.h5ad already exists and is not empty. Skipping processing.\n",
      "File h5ad_flu_after_qc/PB00265-01.h5ad already exists and is not empty. Skipping processing.\n",
      "File h5ad_flu_after_qc/PB00274-03.h5ad already exists and is not empty. Skipping processing.\n",
      "File h5ad_flu_after_qc/PB00167-01.h5ad already exists and is not empty. Skipping processing.\n",
      "File h5ad_flu_after_qc/PB00387-01.h5ad already exists and is not empty. Skipping processing.\n",
      "File h5ad_flu_after_qc/PB00361-01.h5ad already exists and is not empty. Skipping processing.\n",
      "File h5ad_flu_after_qc/PB00008-01.h5ad already exists and is not empty. Skipping processing.\n",
      "File h5ad_flu_after_qc/PB00026-05.h5ad already exists and is not empty. Skipping processing.\n",
      "File h5ad_flu_after_qc/PB00329-01.h5ad already exists and is not empty. Skipping processing.\n",
      "File h5ad_flu_after_qc/PB00002-01.h5ad already exists and is not empty. Skipping processing.\n",
      "File h5ad_flu_after_qc/PB00393-01.h5ad already exists and is not empty. Skipping processing.\n",
      "File h5ad_flu_after_qc/PB00539-01.h5ad already exists and is not empty. Skipping processing.File h5ad_flu_after_qc/PB00270-01.h5ad already exists and is not empty. Skipping processing.\n",
      "\n",
      "File h5ad_flu_after_qc/PB00010-02.h5ad already exists and is not empty. Skipping processing.\n",
      "File h5ad_flu_after_qc/PB00050-01.h5ad already exists and is not empty. Skipping processing.\n",
      "File h5ad_flu_after_qc/PB00287-01.h5ad already exists and is not empty. Skipping processing.\n",
      "File h5ad_flu_after_qc/PB00377-01.h5ad already exists and is not empty. Skipping processing.\n",
      "File h5ad_flu_after_qc/PB00376-01.h5ad already exists and is not empty. Skipping processing.\n",
      "File h5ad_flu_after_qc/PB00399-01.h5ad already exists and is not empty. Skipping processing.File h5ad_flu_after_qc/PB00283-01.h5ad already exists and is not empty. Skipping processing.\n",
      "\n",
      "File h5ad_flu_after_qc/PB00532-01.h5ad already exists and is not empty. Skipping processing.File h5ad_flu_after_qc/PB00017-01.h5ad already exists and is not empty. Skipping processing.\n",
      "\n",
      "File h5ad_flu_after_qc/PB00356-01.h5ad already exists and is not empty. Skipping processing.\n",
      "File h5ad_flu_after_qc/PB00516-01.h5ad already exists and is not empty. Skipping processing.\n",
      "File h5ad_flu_after_qc/PB00046-01.h5ad already exists and is not empty. Skipping processing.\n",
      "File h5ad_flu_after_qc/PB00563-01.h5ad already exists and is not empty. Skipping processing.File h5ad_flu_after_qc/PB00040-01.h5ad already exists and is not empty. Skipping processing.\n",
      "File h5ad_flu_after_qc/PB00291-01.h5ad already exists and is not empty. Skipping processing.\n",
      "\n",
      "File h5ad_flu_after_qc/PB00016-01.h5ad already exists and is not empty. Skipping processing.\n",
      "File h5ad_flu_after_qc/PB00029-02.h5ad already exists and is not empty. Skipping processing.\n",
      "File h5ad_flu_after_qc/PB00162-01.h5ad already exists and is not empty. Skipping processing.File h5ad_flu_after_qc/PB00271-03.h5ad already exists and is not empty. Skipping processing.\n",
      "\n",
      "File h5ad_flu_after_qc/PB00343-01.h5ad already exists and is not empty. Skipping processing.File h5ad_flu_after_qc/PB00158-01.h5ad already exists and is not empty. Skipping processing.\n",
      "\n",
      "File h5ad_flu_after_qc/PB00144-01.h5ad already exists and is not empty. Skipping processing.\n",
      "File h5ad_flu_after_qc/PB00021-01.h5ad already exists and is not empty. Skipping processing.\n",
      "File h5ad_flu_after_qc/PB00341-01.h5ad already exists and is not empty. Skipping processing.File h5ad_flu_after_qc/PB00392-01.h5ad already exists and is not empty. Skipping processing.\n",
      "\n",
      "File h5ad_flu_after_qc/PB00256-01.h5ad already exists and is not empty. Skipping processing.File h5ad_flu_after_qc/PB00252-02.h5ad already exists and is not empty. Skipping processing.\n",
      "\n",
      "File h5ad_flu_after_qc/PB00355-01.h5ad already exists and is not empty. Skipping processing.\n",
      "File h5ad_flu_after_qc/PB00153-01.h5ad already exists and is not empty. Skipping processing.\n",
      "File h5ad_flu_after_qc/PB00149-01.h5ad already exists and is not empty. Skipping processing.File h5ad_flu_after_qc/PB00504-01.h5ad already exists and is not empty. Skipping processing.\n",
      "\n",
      "File h5ad_flu_after_qc/PB00568-01.h5ad already exists and is not empty. Skipping processing.\n",
      "File h5ad_flu_after_qc/PB00260-01.h5ad already exists and is not empty. Skipping processing.\n",
      "File h5ad_flu_after_qc/PB00166-01.h5ad already exists and is not empty. Skipping processing.\n",
      "File h5ad_flu_after_qc/PB00292-02.h5ad already exists and is not empty. Skipping processing.\n",
      "File h5ad_flu_after_qc/PB00333-01.h5ad already exists and is not empty. Skipping processing.\n",
      "File h5ad_flu_after_qc/PB00372-01.h5ad already exists and is not empty. Skipping processing.\n",
      "File h5ad_flu_after_qc/PB00602-01.h5ad already exists and is not empty. Skipping processing.File h5ad_flu_after_qc/PB00588-01.h5ad already exists and is not empty. Skipping processing.\n",
      "\n",
      "File h5ad_flu_after_qc/PB00381-01.h5ad already exists and is not empty. Skipping processing.File h5ad_flu_after_qc/PB00349-01.h5ad already exists and is not empty. Skipping processing.\n",
      "\n",
      "File h5ad_flu_after_qc/PB00293-02.h5ad already exists and is not empty. Skipping processing.\n",
      "File h5ad_flu_after_qc/PB00036-01.h5ad already exists and is not empty. Skipping processing.\n",
      "File h5ad_flu_after_qc/PB00552-01.h5ad already exists and is not empty. Skipping processing.\n",
      "File h5ad_flu_after_qc/PB00365-01.h5ad already exists and is not empty. Skipping processing.\n",
      "File h5ad_flu_after_qc/PB00525-01.h5ad already exists and is not empty. Skipping processing.\n",
      "File h5ad_flu_after_qc/PB00275-03.h5ad already exists and is not empty. Skipping processing.\n",
      "File h5ad_flu_after_qc/PB00280-01.h5ad already exists and is not empty. Skipping processing.\n",
      "File h5ad_flu_after_qc/PB00299-02.h5ad already exists and is not empty. Skipping processing.\n",
      "File h5ad_flu_after_qc/PB01425-01.h5ad already exists and is not empty. Skipping processing.\n",
      "File h5ad_flu_after_qc/PB00168-01.h5ad already exists and is not empty. Skipping processing.\n",
      "File h5ad_flu_after_qc/PB00326-01.h5ad already exists and is not empty. Skipping processing.File h5ad_flu_after_qc/PB00009-01.h5ad already exists and is not empty. Skipping processing.\n",
      "File h5ad_flu_after_qc/PB00267-01.h5ad already exists and is not empty. Skipping processing.\n",
      "\n",
      "File h5ad_flu_after_qc/PB00367-01.h5ad already exists and is not empty. Skipping processing.\n",
      "File h5ad_flu_after_qc/PB00505-01.h5ad already exists and is not empty. Skipping processing.\n",
      "File h5ad_flu_after_qc/PB00335-05.h5ad already exists and is not empty. Skipping processing.\n",
      "File h5ad_flu_after_qc/PB00003-01.h5ad already exists and is not empty. Skipping processing.\n",
      "File h5ad_flu_after_qc/PB00388-01.h5ad already exists and is not empty. Skipping processing.File h5ad_flu_after_qc/PB00358-01.h5ad already exists and is not empty. Skipping processing.\n",
      "\n",
      "File h5ad_flu_after_qc/PB00012-01.h5ad already exists and is not empty. Skipping processing.File h5ad_flu_after_qc/PB00141-01.h5ad already exists and is not empty. Skipping processing.\n",
      "\n",
      "File h5ad_flu_after_qc/PB00541-01.h5ad already exists and is not empty. Skipping processing.File h5ad_flu_after_qc/PB00394-02.h5ad already exists and is not empty. Skipping processing.\n",
      "\n",
      "File h5ad_flu_after_qc/PB00564-04.h5ad already exists and is not empty. Skipping processing.\n",
      "File h5ad_flu_after_qc/PB00383-01.h5ad already exists and is not empty. Skipping processing.File h5ad_flu_after_qc/PB00030-02.h5ad already exists and is not empty. Skipping processing.\n",
      "\n",
      "File h5ad_flu_after_qc/PB00334-01.h5ad already exists and is not empty. Skipping processing.\n",
      "File h5ad_flu_after_qc/PB00037-01.h5ad already exists and is not empty. Skipping processing.File h5ad_flu_after_qc/PB00047-01.h5ad already exists and is not empty. Skipping processing.\n",
      "File h5ad_flu_after_qc/PB00621-01.h5ad already exists and is not empty. Skipping processing.\n",
      "\n",
      "File h5ad_flu_after_qc/PB00284-01.h5ad already exists and is not empty. Skipping processing.\n",
      "File h5ad_flu_after_qc/PB00154-01.h5ad already exists and is not empty. Skipping processing.File h5ad_flu_after_qc/PB00024-01.h5ad already exists and is not empty. Skipping processing.\n",
      "File h5ad_flu_after_qc/PB00022-01.h5ad already exists and is not empty. Skipping processing.\n",
      "\n",
      "File h5ad_flu_after_qc/PB00272-01.h5ad already exists and is not empty. Skipping processing.File h5ad_flu_after_qc/PB00533-01.h5ad already exists and is not empty. Skipping processing.\n",
      "\n",
      "File h5ad_flu_after_qc/PB00344-01.h5ad already exists and is not empty. Skipping processing.\n",
      "File h5ad_flu_after_qc/PB00288-01.h5ad already exists and is not empty. Skipping processing.\n",
      "File h5ad_flu_after_qc/PB00378-01.h5ad already exists and is not empty. Skipping processing.\n",
      "File h5ad_flu_after_qc/PB00330-01.h5ad already exists and is not empty. Skipping processing.File h5ad_flu_after_qc/PB00042-01.h5ad already exists and is not empty. Skipping processing.\n",
      "\n",
      "File h5ad_flu_after_qc/PB00163-01.h5ad already exists and is not empty. Skipping processing.\n",
      "File h5ad_flu_after_qc/PB00276-03.h5ad already exists and is not empty. Skipping processing.\n",
      "File h5ad_flu_after_qc/PB00357-01.h5ad already exists and is not empty. Skipping processing.File h5ad_flu_after_qc/PB00018-01.h5ad already exists and is not empty. Skipping processing.\n",
      "\n",
      "File h5ad_flu_after_qc/PB00518-01.h5ad already exists and is not empty. Skipping processing.\n",
      "File h5ad_flu_after_qc/PB00557-01.h5ad already exists and is not empty. Skipping processing.\n",
      "File h5ad_flu_after_qc/PB00569-01.h5ad already exists and is not empty. Skipping processing.File h5ad_flu_after_qc/PB00257-01.h5ad already exists and is not empty. Skipping processing.\n",
      "\n",
      "File h5ad_flu_after_qc/PB00146-02.h5ad already exists and is not empty. Skipping processing.\n",
      "File h5ad_flu_after_qc/PB00150-01.h5ad already exists and is not empty. Skipping processing.\n",
      "File h5ad_flu_after_qc/PB00507-01.h5ad already exists and is not empty. Skipping processing.\n",
      "File h5ad_flu_after_qc/PB00159-01.h5ad already exists and is not empty. Skipping processing.\n",
      "File h5ad_flu_after_qc/PB00262-01.h5ad already exists and is not empty. Skipping processing.\n",
      "File h5ad_flu_after_qc/PB00526-01.h5ad already exists and is not empty. Skipping processing.\n",
      "File h5ad_flu_after_qc/PB00253-01.h5ad already exists and is not empty. Skipping processing.\n",
      "File h5ad_flu_after_qc/PB00336-05.h5ad already exists and is not empty. Skipping processing.\n",
      "File h5ad_flu_after_qc/PB00400-01.h5ad already exists and is not empty. Skipping processing.\n",
      "File h5ad_flu_after_qc/PB00032-05.h5ad already exists and is not empty. Skipping processing.\n",
      "File h5ad_flu_after_qc/PB00370-05.h5ad already exists and is not empty. Skipping processing.File h5ad_flu_after_qc/PB00382-01.h5ad already exists and is not empty. Skipping processing.File h5ad_flu_after_qc/PB00395-01.h5ad already exists and is not empty. Skipping processing.\n",
      "\n",
      "\n",
      "File h5ad_flu_after_qc/PB00373-01.h5ad already exists and is not empty. Skipping processing.\n",
      "File h5ad_flu_after_qc/PB00327-01.h5ad already exists and is not empty. Skipping processing.\n",
      "File h5ad_flu_after_qc/PB00592-01.h5ad already exists and is not empty. Skipping processing.\n",
      "File h5ad_flu_after_qc/PB00506-01.h5ad already exists and is not empty. Skipping processing.\n",
      "File h5ad_flu_after_qc/PB00300-01.h5ad already exists and is not empty. Skipping processing.\n",
      "File h5ad_flu_after_qc/PB00509-01.h5ad already exists and is not empty. Skipping processing.File h5ad_flu_after_qc/PB00342-01.h5ad already exists and is not empty. Skipping processing.\n",
      "\n",
      "File h5ad_flu_after_qc/PB00350-01.h5ad already exists and is not empty. Skipping processing.\n",
      "File h5ad_flu_after_qc/PB00281-01.h5ad already exists and is not empty. Skipping processing.\n",
      "File h5ad_flu_after_qc/PB00390-01.h5ad already exists and is not empty. Skipping processing.\n",
      "File h5ad_flu_after_qc/PB01446-01.h5ad already exists and is not empty. Skipping processing.\n",
      "File h5ad_flu_after_qc/PB00169-03.h5ad already exists and is not empty. Skipping processing.\n",
      "File h5ad_flu_after_qc/PB00366-01.h5ad already exists and is not empty. Skipping processing.\n",
      "File h5ad_flu_after_qc/PB00011-01.h5ad already exists and is not empty. Skipping processing.\n",
      "File h5ad_flu_after_qc/PB00268-01.h5ad already exists and is not empty. Skipping processing.\n",
      "File h5ad_flu_after_qc/PB00263-03.h5ad already exists and is not empty. Skipping processing.File h5ad_flu_after_qc/PB00004-01.h5ad already exists and is not empty. Skipping processing.\n",
      "\n",
      "File h5ad_flu_after_qc/PB00565-01.h5ad already exists and is not empty. Skipping processing.File h5ad_flu_after_qc/PB00338-01.h5ad already exists and is not empty. Skipping processing.\n",
      "\n",
      "File h5ad_flu_after_qc/PB00142-01.h5ad already exists and is not empty. Skipping processing.\n",
      "File h5ad_flu_after_qc/PB00014-01.h5ad already exists and is not empty. Skipping processing.\n",
      "File h5ad_flu_after_qc/PB00359-01.h5ad already exists and is not empty. Skipping processing.\n",
      "File h5ad_flu_after_qc/PB00545-01.h5ad already exists and is not empty. Skipping processing.\n",
      "File h5ad_flu_after_qc/PB00331-01.h5ad already exists and is not empty. Skipping processing.\n",
      "File h5ad_flu_after_qc/PB00031-05.h5ad already exists and is not empty. Skipping processing.\n",
      "File h5ad_flu_after_qc/PB00623-01.h5ad already exists and is not empty. Skipping processing.\n",
      "File h5ad_flu_after_qc/PB00155-01.h5ad already exists and is not empty. Skipping processing.\n",
      "File h5ad_flu_after_qc/PB00048-01.h5ad already exists and is not empty. Skipping processing.\n",
      "File h5ad_flu_after_qc/PB00384-01.h5ad already exists and is not empty. Skipping processing.\n",
      "File h5ad_flu_after_qc/PB00522-01.h5ad already exists and is not empty. Skipping processing.\n",
      "File h5ad_flu_after_qc/PB00561-04.h5ad already exists and is not empty. Skipping processing.\n",
      "File h5ad_flu_after_qc/PB00285-01.h5ad already exists and is not empty. Skipping processing.\n",
      "File h5ad_flu_after_qc/PB00258-04.h5ad already exists and is not empty. Skipping processing.\n",
      "File h5ad_flu_after_qc/PB00529-01.h5ad already exists and is not empty. Skipping processing.File h5ad_flu_after_qc/PB00374-01.h5ad already exists and is not empty. Skipping processing.\n",
      "\n",
      "File h5ad_flu_after_qc/PB00398-01.h5ad already exists and is not empty. Skipping processing.\n",
      "File h5ad_flu_after_qc/PB00023-05.h5ad already exists and is not empty. Skipping processing.\n",
      "File h5ad_flu_after_qc/PB00531-01.h5ad already exists and is not empty. Skipping processing.\n",
      "File h5ad_flu_after_qc/PB00520-01.h5ad already exists and is not empty. Skipping processing.\n",
      "File h5ad_flu_after_qc/PB00551-01.h5ad already exists and is not empty. Skipping processing.\n",
      "File h5ad_flu_after_qc/PB00546-01.h5ad already exists and is not empty. Skipping processing.\n",
      "File h5ad_flu_after_qc/PB00289-01.h5ad already exists and is not empty. Skipping processing.\n",
      "File h5ad_flu_after_qc/PB00164-01.h5ad already exists and is not empty. Skipping processing.\n",
      "File h5ad_flu_after_qc/PB00147-01.h5ad already exists and is not empty. Skipping processing.\n",
      "File h5ad_flu_after_qc/PB00044-01.h5ad already exists and is not empty. Skipping processing.File h5ad_flu_after_qc/PB00160-01.h5ad already exists and is not empty. Skipping processing.File h5ad_flu_after_qc/PB00027-05.h5ad already exists and is not empty. Skipping processing.\n",
      "\n",
      "\n",
      "File h5ad_flu_after_qc/PB00362-01.h5ad already exists and is not empty. Skipping processing.\n",
      "File h5ad_flu_after_qc/PB00502-01.h5ad already exists and is not empty. Skipping processing.\n",
      "File h5ad_flu_after_qc/PB00019-01.h5ad already exists and is not empty. Skipping processing.\n",
      "File h5ad_flu_after_qc/PB00254-01.h5ad already exists and is not empty. Skipping processing.\n",
      "File h5ad_flu_after_qc/PB00575-01.h5ad already exists and is not empty. Skipping processing.\n",
      "File h5ad_flu_after_qc/PB00348-01.h5ad already exists and is not empty. Skipping processing.File h5ad_flu_after_qc/PB00535-01.h5ad already exists and is not empty. Skipping processing.\n",
      "\n",
      "File h5ad_flu_after_qc/PB00511-01.h5ad already exists and is not empty. Skipping processing.\n",
      "File h5ad_flu_after_qc/PB00515-01.h5ad already exists and is not empty. Skipping processing.\n",
      "File h5ad_flu_after_qc/PB00510-01.h5ad already exists and is not empty. Skipping processing.\n",
      "File h5ad_flu_after_qc/PB00396-01.h5ad already exists and is not empty. Skipping processing.\n",
      "File h5ad_flu_after_qc/PB00385-01.h5ad already exists and is not empty. Skipping processing.\n",
      "File h5ad_flu_after_qc/PB00033-06.h5ad already exists and is not empty. Skipping processing.\n",
      "File h5ad_flu_after_qc/PB00599-01.h5ad already exists and is not empty. Skipping processing.File h5ad_flu_after_qc/PB00151-01.h5ad already exists and is not empty. Skipping processing.\n",
      "\n",
      "File h5ad_flu_after_qc/PB00379-04.h5ad already exists and is not empty. Skipping processing.\n",
      "File h5ad_flu_after_qc/PB00368-07.h5ad already exists and is not empty. Skipping processing.\n",
      "File h5ad_flu_after_qc/PB00540-01.h5ad already exists and is not empty. Skipping processing.\n",
      "File h5ad_flu_after_qc/PB00345-01.h5ad already exists and is not empty. Skipping processing.\n",
      "File h5ad_flu_after_qc/PB00580-01.h5ad already exists and is not empty. Skipping processing.\n",
      "File h5ad_flu_after_qc/PB00556-01.h5ad already exists and is not empty. Skipping processing.\n",
      "File h5ad_flu_after_qc/PB00576-01.h5ad already exists and is not empty. Skipping processing.\n",
      "File h5ad_flu_after_qc/PB00508-01.h5ad already exists and is not empty. Skipping processing.\n",
      "File h5ad_flu_after_qc/PB00610-02.h5ad already exists and is not empty. Skipping processing.\n",
      "File h5ad_flu_after_qc/PB01414-01.h5ad already exists and is not empty. Skipping processing.\n",
      "File h5ad_flu_after_qc/PB00585-01.h5ad already exists and is not empty. Skipping processing.File h5ad_flu_after_qc/PB00322-01.h5ad already exists and is not empty. Skipping processing.\n",
      "\n",
      "File h5ad_flu_after_qc/PB00647-01.h5ad already exists and is not empty. Skipping processing.\n",
      "File h5ad_flu_after_qc/PB00595-01.h5ad already exists and is not empty. Skipping processing.\n",
      "File h5ad_flu_after_qc/PB00352-04.h5ad already exists and is not empty. Skipping processing.\n",
      "File h5ad_flu_after_qc/PB00590-01.h5ad already exists and is not empty. Skipping processing.\n",
      "File h5ad_flu_after_qc/PB01423-01.h5ad already exists and is not empty. Skipping processing.\n",
      "File h5ad_flu_after_qc/PB00601-01.h5ad already exists and is not empty. Skipping processing.\n",
      "File h5ad_flu_after_qc/PB00570-01.h5ad already exists and is not empty. Skipping processing.\n",
      "File h5ad_flu_after_qc/PB01437-01.h5ad already exists and is not empty. Skipping processing.\n",
      "File h5ad_flu_after_qc/PB00619-03.h5ad already exists and is not empty. Skipping processing.\n",
      "File h5ad_flu_after_qc/PB00524-01.h5ad already exists and is not empty. Skipping processing.\n",
      "File h5ad_flu_after_qc/PB01533-01.h5ad already exists and is not empty. Skipping processing.\n",
      "File h5ad_flu_after_qc/PB00626-01.h5ad already exists and is not empty. Skipping processing.File h5ad_flu_after_qc/PB00615-01.h5ad already exists and is not empty. Skipping processing.\n",
      "\n",
      "File h5ad_flu_after_qc/PB01410-01.h5ad already exists and is not empty. Skipping processing.\n",
      "File h5ad_flu_after_qc/PB00534-01.h5ad already exists and is not empty. Skipping processing.\n",
      "File h5ad_flu_after_qc/PB00630-01.h5ad already exists and is not empty. Skipping processing.File h5ad_flu_after_qc/PB00606-01.h5ad already exists and is not empty. Skipping processing.\n",
      "\n",
      "File h5ad_flu_after_qc/PB00634-01.h5ad already exists and is not empty. Skipping processing.\n",
      "File h5ad_flu_after_qc/PB00512-01.h5ad already exists and is not empty. Skipping processing.\n",
      "File h5ad_flu_after_qc/PB01521-01.h5ad already exists and is not empty. Skipping processing.\n",
      "File h5ad_flu_after_qc/PB01433-01.h5ad already exists and is not empty. Skipping processing.File h5ad_flu_after_qc/PB00638-01.h5ad already exists and is not empty. Skipping processing.\n",
      "\n",
      "File h5ad_flu_after_qc/PB01529-03.h5ad already exists and is not empty. Skipping processing.\n",
      "File h5ad_flu_after_qc/PB00547-01.h5ad already exists and is not empty. Skipping processing.\n",
      "File h5ad_flu_after_qc/PB01537-01.h5ad already exists and is not empty. Skipping processing.\n",
      "File h5ad_flu_after_qc/PB01517-02.h5ad already exists and is not empty. Skipping processing.\n",
      "File h5ad_flu_after_qc/PB01454-01.h5ad already exists and is not empty. Skipping processing.File h5ad_flu_after_qc/PB01418-01.h5ad already exists and is not empty. Skipping processing.\n",
      "\n",
      "File h5ad_flu_after_qc/PB01550-01.h5ad already exists and is not empty. Skipping processing.\n",
      "File h5ad_flu_after_qc/PB01578-01.h5ad already exists and is not empty. Skipping processing.\n",
      "File h5ad_flu_after_qc/PB01445-01.h5ad already exists and is not empty. Skipping processing.\n",
      "File h5ad_flu_after_qc/PB01542-01.h5ad already exists and is not empty. Skipping processing.\n",
      "File h5ad_flu_after_qc/PB01441-01.h5ad already exists and is not empty. Skipping processing.\n",
      "File h5ad_flu_after_qc/PB01587-01.h5ad already exists and is not empty. Skipping processing.\n",
      "File h5ad_flu_after_qc/PB01554-01.h5ad already exists and is not empty. Skipping processing.\n",
      "File h5ad_flu_after_qc/PB01428-01.h5ad already exists and is not empty. Skipping processing.\n",
      "File h5ad_flu_after_qc/PB00553-01.h5ad already exists and is not empty. Skipping processing.\n",
      "File h5ad_flu_after_qc/PB01513-01.h5ad already exists and is not empty. Skipping processing.\n",
      "File h5ad_flu_after_qc/PB00542-01.h5ad already exists and is not empty. Skipping processing.\n",
      "File h5ad_flu_after_qc/PB01558-01.h5ad already exists and is not empty. Skipping processing.\n",
      "File h5ad_flu_after_qc/PB00517-01.h5ad already exists and is not empty. Skipping processing.\n",
      "File h5ad_flu_after_qc/PB01450-01.h5ad already exists and is not empty. Skipping processing.\n",
      "File h5ad_flu_after_qc/PB01574-01.h5ad already exists and is not empty. Skipping processing.\n",
      "File h5ad_flu_after_qc/PB01546-01.h5ad already exists and is not empty. Skipping processing.\n",
      "File h5ad_flu_after_qc/PB01566-02.h5ad already exists and is not empty. Skipping processing.\n",
      "File h5ad_flu_after_qc/PB01458-01.h5ad already exists and is not empty. Skipping processing.\n",
      "File h5ad_flu_after_qc/PB01525-01.h5ad already exists and is not empty. Skipping processing.\n",
      "File h5ad_flu_after_qc/PB01562-01.h5ad already exists and is not empty. Skipping processing.\n",
      "File h5ad_flu_after_qc/PB01591-01.h5ad already exists and is not empty. Skipping processing.File h5ad_flu_after_qc/PB00581-01.h5ad already exists and is not empty. Skipping processing.\n",
      "\n",
      "File h5ad_flu_after_qc/PB00642-01.h5ad already exists and is not empty. Skipping processing.File h5ad_flu_after_qc/PB01509-01.h5ad already exists and is not empty. Skipping processing.\n",
      "\n",
      "File h5ad_flu_after_qc/PB00559-01.h5ad already exists and is not empty. Skipping processing.\n",
      "File h5ad_flu_after_qc/PB01595-01.h5ad already exists and is not empty. Skipping processing.\n",
      "File h5ad_flu_after_qc/PB01570-01.h5ad already exists and is not empty. Skipping processing.\n",
      "File h5ad_flu_after_qc/PB00577-02.h5ad already exists and is not empty. Skipping processing.\n",
      "File h5ad_flu_after_qc/PB01588-02.h5ad already exists and is not empty. Skipping processing.\n",
      "File h5ad_flu_after_qc/PB00611-01.h5ad already exists and is not empty. Skipping processing.\n",
      "File h5ad_flu_after_qc/PB01438-01.h5ad already exists and is not empty. Skipping processing.\n",
      "File h5ad_flu_after_qc/PB00648-01.h5ad already exists and is not empty. Skipping processing.File h5ad_flu_after_qc/PB01582-01.h5ad already exists and is not empty. Skipping processing.\n",
      "\n",
      "File h5ad_flu_after_qc/PB00586-01.h5ad already exists and is not empty. Skipping processing.\n",
      "File h5ad_flu_after_qc/PB01447-02.h5ad already exists and is not empty. Skipping processing.\n",
      "File h5ad_flu_after_qc/PB00527-01.h5ad already exists and is not empty. Skipping processing.\n",
      "File h5ad_flu_after_qc/PB01411-01.h5ad already exists and is not empty. Skipping processing.\n",
      "File h5ad_flu_after_qc/PB00596-01.h5ad already exists and is not empty. Skipping processing.\n",
      "File h5ad_flu_after_qc/PB01530-01.h5ad already exists and is not empty. Skipping processing.\n",
      "File h5ad_flu_after_qc/PB00627-01.h5ad already exists and is not empty. Skipping processing.\n",
      "File h5ad_flu_after_qc/PB00603-01.h5ad already exists and is not empty. Skipping processing.\n",
      "File h5ad_flu_after_qc/PB00571-01.h5ad already exists and is not empty. Skipping processing.\n",
      "File h5ad_flu_after_qc/PB01599-01.h5ad already exists and is not empty. Skipping processing.\n",
      "File h5ad_flu_after_qc/PB01415-01.h5ad already exists and is not empty. Skipping processing.\n",
      "File h5ad_flu_after_qc/PB00639-02.h5ad already exists and is not empty. Skipping processing.\n",
      "File h5ad_flu_after_qc/PB01551-01.h5ad already exists and is not empty. Skipping processing.\n",
      "File h5ad_flu_after_qc/PB00591-01.h5ad already exists and is not empty. Skipping processing.\n",
      "File h5ad_flu_after_qc/PB01419-01.h5ad already exists and is not empty. Skipping processing.\n",
      "File h5ad_flu_after_qc/PB00616-01.h5ad already exists and is not empty. Skipping processing.\n",
      "File h5ad_flu_after_qc/PB00513-02.h5ad already exists and is not empty. Skipping processing.File h5ad_flu_after_qc/PB01534-01.h5ad already exists and is not empty. Skipping processing.\n",
      "\n",
      "File h5ad_flu_after_qc/PB01455-01.h5ad already exists and is not empty. Skipping processing.\n",
      "File h5ad_flu_after_qc/PB00536-01.h5ad already exists and is not empty. Skipping processing.\n",
      "File h5ad_flu_after_qc/PB01563-01.h5ad already exists and is not empty. Skipping processing.\n",
      "File h5ad_flu_after_qc/PB01518-02.h5ad already exists and is not empty. Skipping processing.\n",
      "File h5ad_flu_after_qc/PB00620-01.h5ad already exists and is not empty. Skipping processing.File h5ad_flu_after_qc/PB01579-01.h5ad already exists and is not empty. Skipping processing.\n",
      "\n",
      "File h5ad_flu_after_qc/PB00635-01.h5ad already exists and is not empty. Skipping processing.\n",
      "File h5ad_flu_after_qc/PB01543-01.h5ad already exists and is not empty. Skipping processing.\n",
      "File h5ad_flu_after_qc/PB00548-01.h5ad already exists and is not empty. Skipping processing.\n",
      "File h5ad_flu_after_qc/PB00631-01.h5ad already exists and is not empty. Skipping processing.\n",
      "File h5ad_flu_after_qc/PB00543-01.h5ad already exists and is not empty. Skipping processing.\n",
      "File h5ad_flu_after_qc/PB00607-02.h5ad already exists and is not empty. Skipping processing.\n",
      "File h5ad_flu_after_qc/PB01429-01.h5ad already exists and is not empty. Skipping processing.\n",
      "File h5ad_flu_after_qc/PB01522-01.h5ad already exists and is not empty. Skipping processing.\n",
      "File h5ad_flu_after_qc/PB01442-01.h5ad already exists and is not empty. Skipping processing.\n",
      "File h5ad_flu_after_qc/PB00519-01.h5ad already exists and is not empty. Skipping processing.\n",
      "File h5ad_flu_after_qc/PB01434-01.h5ad already exists and is not empty. Skipping processing.\n",
      "File h5ad_flu_after_qc/PB00649-04.h5ad already exists and is not empty. Skipping processing.\n",
      "File h5ad_flu_after_qc/PB01514-01.h5ad already exists and is not empty. Skipping processing.\n",
      "File h5ad_flu_after_qc/PB01424-01.h5ad already exists and is not empty. Skipping processing.\n",
      "File h5ad_flu_after_qc/PB01538-01.h5ad already exists and is not empty. Skipping processing.\n",
      "File h5ad_flu_after_qc/PB01596-01.h5ad already exists and is not empty. Skipping processing.\n",
      "File h5ad_flu_after_qc/PB00560-01.h5ad already exists and is not empty. Skipping processing.\n",
      "File h5ad_flu_after_qc/PB01555-01.h5ad already exists and is not empty. Skipping processing.\n",
      "File h5ad_flu_after_qc/PB00643-01.h5ad already exists and is not empty. Skipping processing.\n",
      "File h5ad_flu_after_qc/PB01559-01.h5ad already exists and is not empty. Skipping processing.\n",
      "File h5ad_flu_after_qc/PB01567-01.h5ad already exists and is not empty. Skipping processing.\n",
      "File h5ad_flu_after_qc/PB01575-01.h5ad already exists and is not empty. Skipping processing.\n",
      "File h5ad_flu_after_qc/PB00554-01.h5ad already exists and is not empty. Skipping processing.\n",
      "File h5ad_flu_after_qc/PB01451-01.h5ad already exists and is not empty. Skipping processing.\n",
      "File h5ad_flu_after_qc/PB00578-01.h5ad already exists and is not empty. Skipping processing.\n",
      "File h5ad_flu_after_qc/PB01459-01.h5ad already exists and is not empty. Skipping processing.\n",
      "File h5ad_flu_after_qc/PB01448-02.h5ad already exists and is not empty. Skipping processing.\n",
      "File h5ad_flu_after_qc/PB01589-01.h5ad already exists and is not empty. Skipping processing.\n",
      "File h5ad_flu_after_qc/PB01510-01.h5ad already exists and is not empty. Skipping processing.\n",
      "File h5ad_flu_after_qc/PB01547-01.h5ad already exists and is not empty. Skipping processing.\n",
      "File h5ad_flu_after_qc/PB00583-01.h5ad already exists and is not empty. Skipping processing.\n",
      "File h5ad_flu_after_qc/PB01592-01.h5ad already exists and is not empty. Skipping processing.File h5ad_flu_after_qc/PB00528-01.h5ad already exists and is not empty. Skipping processing.\n",
      "File h5ad_flu_after_qc/PB00640-01.h5ad already exists and is not empty. Skipping processing.\n",
      "\n",
      "File h5ad_flu_after_qc/PB00587-01.h5ad already exists and is not empty. Skipping processing.\n",
      "File h5ad_flu_after_qc/PB01439-01.h5ad already exists and is not empty. Skipping processing.\n",
      "File h5ad_flu_after_qc/PB00612-01.h5ad already exists and is not empty. Skipping processing.\n",
      "File h5ad_flu_after_qc/PB01571-01.h5ad already exists and is not empty. Skipping processing.\n",
      "File h5ad_flu_after_qc/PB01583-01.h5ad already exists and is not empty. Skipping processing.File h5ad_flu_after_qc/PB01526-01.h5ad already exists and is not empty. Skipping processing.\n",
      "\n",
      "File h5ad_flu_after_qc/PB01420-01.h5ad already exists and is not empty. Skipping processing.\n",
      "File h5ad_flu_after_qc/PB01412-01.h5ad already exists and is not empty. Skipping processing.\n",
      "File h5ad_flu_after_qc/PB00604-01.h5ad already exists and is not empty. Skipping processing.\n",
      "File h5ad_flu_after_qc/PB00628-01.h5ad already exists and is not empty. Skipping processing.\n",
      "File h5ad_flu_after_qc/PB00572-01.h5ad already exists and is not empty. Skipping processing.File h5ad_flu_after_qc/PB01564-01.h5ad already exists and is not empty. Skipping processing.\n",
      "\n",
      "File h5ad_flu_after_qc/PB00617-01.h5ad already exists and is not empty. Skipping processing.\n",
      "File h5ad_flu_after_qc/PB01600-01.h5ad already exists and is not empty. Skipping processing.\n",
      "File h5ad_flu_after_qc/PB01580-01.h5ad already exists and is not empty. Skipping processing.\n",
      "File h5ad_flu_after_qc/PB01531-01.h5ad already exists and is not empty. Skipping processing.File h5ad_flu_after_qc/PB01430-01.h5ad already exists and is not empty. Skipping processing.\n",
      "\n",
      "File h5ad_flu_after_qc/PB00622-01.h5ad already exists and is not empty. Skipping processing.\n",
      "File h5ad_flu_after_qc/PB01544-01.h5ad already exists and is not empty. Skipping processing.\n",
      "File h5ad_flu_after_qc/PB00544-01.h5ad already exists and is not empty. Skipping processing.\n",
      "File h5ad_flu_after_qc/PB01552-01.h5ad already exists and is not empty. Skipping processing.File h5ad_flu_after_qc/PB01456-01.h5ad already exists and is not empty. Skipping processing.\n",
      "\n",
      "File h5ad_flu_after_qc/PB01604-01.h5ad already exists and is not empty. Skipping processing.\n",
      "File h5ad_flu_after_qc/PB00593-01.h5ad already exists and is not empty. Skipping processing.\n",
      "File h5ad_flu_after_qc/PB01540-01.h5ad already exists and is not empty. Skipping processing.\n",
      "File h5ad_flu_after_qc/PB01435-01.h5ad already exists and is not empty. Skipping processing.\n",
      "File h5ad_flu_after_qc/PB00521-01.h5ad already exists and is not empty. Skipping processing.\n",
      "File h5ad_flu_after_qc/PB01535-01.h5ad already exists and is not empty. Skipping processing.\n",
      "File h5ad_flu_after_qc/PB01416-01.h5ad already exists and is not empty. Skipping processing.\n",
      "File h5ad_flu_after_qc/PB01452-01.h5ad already exists and is not empty. Skipping processing.\n",
      "File h5ad_flu_after_qc/PB00597-01.h5ad already exists and is not empty. Skipping processing.\n",
      "File h5ad_flu_after_qc/PB00632-03.h5ad already exists and is not empty. Skipping processing.\n",
      "File h5ad_flu_after_qc/PB00650-01.h5ad already exists and is not empty. Skipping processing.File h5ad_flu_after_qc/PB00538-01.h5ad already exists and is not empty. Skipping processing.\n",
      "\n",
      "File h5ad_flu_after_qc/PB01426-01.h5ad already exists and is not empty. Skipping processing.\n",
      "File h5ad_flu_after_qc/PB01443-01.h5ad already exists and is not empty. Skipping processing.\n",
      "File h5ad_flu_after_qc/PB00644-01.h5ad already exists and is not empty. Skipping processing.\n",
      "File h5ad_flu_after_qc/PB01449-01.h5ad already exists and is not empty. Skipping processing.\n",
      "File h5ad_flu_after_qc/PB00550-01.h5ad already exists and is not empty. Skipping processing.\n",
      "File h5ad_flu_after_qc/PB01597-01.h5ad already exists and is not empty. Skipping processing.\n",
      "File h5ad_flu_after_qc/PB00636-01.h5ad already exists and is not empty. Skipping processing.\n",
      "File h5ad_flu_after_qc/PB01507-01.h5ad already exists and is not empty. Skipping processing.\n",
      "File h5ad_flu_after_qc/PB00567-01.h5ad already exists and is not empty. Skipping processing.\n",
      "File h5ad_flu_after_qc/PB00608-01.h5ad already exists and is not empty. Skipping processing.\n",
      "File h5ad_flu_after_qc/PB00579-01.h5ad already exists and is not empty. Skipping processing.\n",
      "File h5ad_flu_after_qc/PB01593-01.h5ad already exists and is not empty. Skipping processing.\n",
      "File h5ad_flu_after_qc/PB01519-01.h5ad already exists and is not empty. Skipping processing.\n",
      "File h5ad_flu_after_qc/PB01585-01.h5ad already exists and is not empty. Skipping processing.\n",
      "File h5ad_flu_after_qc/PB00555-01.h5ad already exists and is not empty. Skipping processing.\n",
      "File h5ad_flu_after_qc/PB01560-01.h5ad already exists and is not empty. Skipping processing.File h5ad_flu_after_qc/PB01556-01.h5ad already exists and is not empty. Skipping processing.\n",
      "\n",
      "File h5ad_flu_after_qc/PB01511-02.h5ad already exists and is not empty. Skipping processing.File h5ad_flu_after_qc/PB01590-01.h5ad already exists and is not empty. Skipping processing.\n",
      "\n",
      "File h5ad_flu_after_qc/PB01532-02.h5ad already exists and is not empty. Skipping processing.\n",
      "File h5ad_flu_after_qc/PB01568-01.h5ad already exists and is not empty. Skipping processing.\n",
      "File h5ad_flu_after_qc/PB01576-01.h5ad already exists and is not empty. Skipping processing.\n",
      "File h5ad_flu_after_qc/PB01548-01.h5ad already exists and is not empty. Skipping processing.\n",
      "File h5ad_flu_after_qc/PB00641-01.h5ad already exists and is not empty. Skipping processing.File h5ad_flu_after_qc/PB00584-01.h5ad already exists and is not empty. Skipping processing.\n",
      "\n",
      "File h5ad_flu_after_qc/PB01515-01.h5ad already exists and is not empty. Skipping processing.\n",
      "File h5ad_flu_after_qc/PB01602-01.h5ad already exists and is not empty. Skipping processing.\n",
      "File h5ad_flu_after_qc/PB01413-01.h5ad already exists and is not empty. Skipping processing.\n",
      "File h5ad_flu_after_qc/PB00629-01.h5ad already exists and is not empty. Skipping processing.File h5ad_flu_after_qc/PB01421-01.h5ad already exists and is not empty. Skipping processing.\n",
      "\n",
      "File h5ad_flu_after_qc/PB00589-01.h5ad already exists and is not empty. Skipping processing.\n",
      "File h5ad_flu_after_qc/PB01965-01.h5ad already exists and is not empty. Skipping processing.\n",
      "File h5ad_flu_after_qc/PB00614-01.h5ad already exists and is not empty. Skipping processing.\n",
      "File h5ad_flu_after_qc/PB01572-01.h5ad already exists and is not empty. Skipping processing.\n",
      "File h5ad_flu_after_qc/PB01527-01.h5ad already exists and is not empty. Skipping processing.\n",
      "File h5ad_flu_after_qc/PB01581-01.h5ad already exists and is not empty. Skipping processing.\n",
      "File h5ad_flu_after_qc/PB01453-02.h5ad already exists and is not empty. Skipping processing.\n",
      "File h5ad_flu_after_qc/PB01440-01.h5ad already exists and is not empty. Skipping processing.\n",
      "File h5ad_flu_after_qc/PB01427-01.h5ad already exists and is not empty. Skipping processing.\n",
      "File h5ad_flu_after_qc/PB01545-01.h5ad already exists and is not empty. Skipping processing.\n",
      "File h5ad_flu_after_qc/PB00605-01.h5ad already exists and is not empty. Skipping processing.\n",
      "File h5ad_flu_after_qc/PB01431-01.h5ad already exists and is not empty. Skipping processing.\n",
      "File h5ad_flu_after_qc/PB01417-01.h5ad already exists and is not empty. Skipping processing.\n",
      "File h5ad_flu_after_qc/PB01605-01.h5ad already exists and is not empty. Skipping processing.\n",
      "File h5ad_flu_after_qc/PB01553-01.h5ad already exists and is not empty. Skipping processing.\n",
      "File h5ad_flu_after_qc/PB01516-03.h5ad already exists and is not empty. Skipping processing.\n",
      "File h5ad_flu_after_qc/PB01973-01.h5ad already exists and is not empty. Skipping processing.\n",
      "File h5ad_flu_after_qc/PB01985-01.h5ad already exists and is not empty. Skipping processing.\n",
      "File h5ad_flu_after_qc/PB00646-01.h5ad already exists and is not empty. Skipping processing.File h5ad_flu_after_qc/PB01969-01.h5ad already exists and is not empty. Skipping processing.\n",
      "\n",
      "File h5ad_flu_after_qc/PB01565-01.h5ad already exists and is not empty. Skipping processing.\n",
      "File h5ad_flu_after_qc/PB01536-01.h5ad already exists and is not empty. Skipping processing.\n",
      "File h5ad_flu_after_qc/PB01457-01.h5ad already exists and is not empty. Skipping processing.\n",
      "File h5ad_flu_after_qc/PB01993-01.h5ad already exists and is not empty. Skipping processing.\n",
      "File h5ad_flu_after_qc/PB00618-01.h5ad already exists and is not empty. Skipping processing.\n",
      "File h5ad_flu_after_qc/PB00594-01.h5ad already exists and is not empty. Skipping processing.\n",
      "File h5ad_flu_after_qc/PB01981-01.h5ad already exists and is not empty. Skipping processing.\n",
      "File h5ad_flu_after_qc/PB00574-01.h5ad already exists and is not empty. Skipping processing.\n",
      "File h5ad_flu_after_qc/PB01541-01.h5ad already exists and is not empty. Skipping processing.\n",
      "File h5ad_flu_after_qc/PB01523-01.h5ad already exists and is not empty. Skipping processing.\n",
      "File h5ad_flu_after_qc/PB01444-01.h5ad already exists and is not empty. Skipping processing.\n",
      "File h5ad_flu_after_qc/PB00598-01.h5ad already exists and is not empty. Skipping processing.\n",
      "File h5ad_flu_after_qc/PB00637-01.h5ad already exists and is not empty. Skipping processing.\n",
      "File h5ad_flu_after_qc/PB01436-01.h5ad already exists and is not empty. Skipping processing.\n",
      "File h5ad_flu_after_qc/PB01512-02.h5ad already exists and is not empty. Skipping processing.\n",
      "File h5ad_flu_after_qc/PB01977-01.h5ad already exists and is not empty. Skipping processing.\n",
      "File h5ad_flu_after_qc/PB00624-01.h5ad already exists and is not empty. Skipping processing.\n",
      "File h5ad_flu_after_qc/PB01508-01.h5ad already exists and is not empty. Skipping processing.\n",
      "File h5ad_flu_after_qc/PB01989-02.h5ad already exists and is not empty. Skipping processing.\n",
      "File h5ad_flu_after_qc/PB01598-01.h5ad already exists and is not empty. Skipping processing.\n",
      "File h5ad_flu_after_qc/PB00609-02.h5ad already exists and is not empty. Skipping processing.\n",
      "File h5ad_flu_after_qc/PB01577-01.h5ad already exists and is not empty. Skipping processing.\n",
      "File h5ad_flu_after_qc/PB01561-01.h5ad already exists and is not empty. Skipping processing.File h5ad_flu_after_qc/PB00633-01.h5ad already exists and is not empty. Skipping processing.\n",
      "\n",
      "File h5ad_flu_after_qc/PB02005-01.h5ad already exists and is not empty. Skipping processing.\n",
      "File h5ad_flu_after_qc/PB02252-01.h5ad already exists and is not empty. Skipping processing.\n",
      "File h5ad_flu_after_qc/PB02244-01.h5ad already exists and is not empty. Skipping processing.\n",
      "File h5ad_flu_after_qc/PB02240-02.h5ad already exists and is not empty. Skipping processing.\n",
      "File h5ad_flu_after_qc/PB02248-01.h5ad already exists and is not empty. Skipping processing.\n",
      "File h5ad_flu_after_qc/PB01528-02.h5ad already exists and is not empty. Skipping processing.File h5ad_flu_after_qc/PB02268-01.h5ad already exists and is not empty. Skipping processing.\n",
      "\n",
      "File h5ad_flu_after_qc/PB02001-01.h5ad already exists and is not empty. Skipping processing.\n",
      "File h5ad_flu_after_qc/PB01997-01.h5ad already exists and is not empty. Skipping processing.\n",
      "File h5ad_flu_after_qc/PB02311-001.h5ad already exists and is not empty. Skipping processing.File h5ad_flu_after_qc/PB01586-01.h5ad already exists and is not empty. Skipping processing.\n",
      "\n",
      "File h5ad_flu_after_qc/PB02276-02.h5ad already exists and is not empty. Skipping processing.\n",
      "File h5ad_flu_after_qc/PB01569-01.h5ad already exists and is not empty. Skipping processing.File h5ad_flu_after_qc/PB01594-01.h5ad already exists and is not empty. Skipping processing.\n",
      "\n",
      "File h5ad_flu_after_qc/PB02335-002.h5ad already exists and is not empty. Skipping processing.File h5ad_flu_after_qc/PB01520-01.h5ad already exists and is not empty. Skipping processing.\n",
      "File h5ad_flu_after_qc/PB01573-01.h5ad already exists and is not empty. Skipping processing.\n",
      "\n",
      "File h5ad_flu_after_qc/PB02245-02.h5ad already exists and is not empty. Skipping processing.\n",
      "File h5ad_flu_after_qc/PB02009-01.h5ad already exists and is not empty. Skipping processing.\n",
      "File h5ad_flu_after_qc/PB02343-001.h5ad already exists and is not empty. Skipping processing.\n",
      "File h5ad_flu_after_qc/PB02264-01.h5ad already exists and is not empty. Skipping processing.\n",
      "File h5ad_flu_after_qc/PB01603-01.h5ad already exists and is not empty. Skipping processing.\n",
      "File h5ad_flu_after_qc/PB02331-001.h5ad already exists and is not empty. Skipping processing.File h5ad_flu_after_qc/PB02323-002.h5ad already exists and is not empty. Skipping processing.\n",
      "\n",
      "File h5ad_flu_after_qc/PB02013-01.h5ad already exists and is not empty. Skipping processing.File h5ad_flu_after_qc/PB01549-01.h5ad already exists and is not empty. Skipping processing.\n",
      "\n",
      "File h5ad_flu_after_qc/PB02231-01.h5ad already exists and is not empty. Skipping processing.\n",
      "File h5ad_flu_after_qc/PB01966-01.h5ad already exists and is not empty. Skipping processing.\n",
      "File h5ad_flu_after_qc/PB02315-001.h5ad already exists and is not empty. Skipping processing.\n",
      "File h5ad_flu_after_qc/PB02256-01.h5ad already exists and is not empty. Skipping processing.\n",
      "File h5ad_flu_after_qc/PB02236-01.h5ad already exists and is not empty. Skipping processing.\n",
      "File h5ad_flu_after_qc/PB02260-01.h5ad already exists and is not empty. Skipping processing.\n",
      "File h5ad_flu_after_qc/PB02327-002.h5ad already exists and is not empty. Skipping processing.\n",
      "File h5ad_flu_after_qc/PB02272-01.h5ad already exists and is not empty. Skipping processing.\n",
      "File h5ad_flu_after_qc/PB01557-01.h5ad already exists and is not empty. Skipping processing.\n",
      "File h5ad_flu_after_qc/PB02450-001.h5ad already exists and is not empty. Skipping processing.\n",
      "File h5ad_flu_after_qc/PB01982-01.h5ad already exists and is not empty. Skipping processing.\n",
      "File h5ad_flu_after_qc/PB02339-001.h5ad already exists and is not empty. Skipping processing.\n",
      "File h5ad_flu_after_qc/PB02319-001.h5ad already exists and is not empty. Skipping processing.\n",
      "File h5ad_flu_after_qc/PB02478-001.h5ad already exists and is not empty. Skipping processing.\n",
      "File h5ad_flu_after_qc/PB01606-01.h5ad already exists and is not empty. Skipping processing.\n",
      "File h5ad_flu_after_qc/PB02352-001.h5ad already exists and is not empty. Skipping processing.\n",
      "File h5ad_flu_after_qc/PB01974-01.h5ad already exists and is not empty. Skipping processing.\n",
      "File h5ad_flu_after_qc/PB01986-01.h5ad already exists and is not empty. Skipping processing.\n",
      "File h5ad_flu_after_qc/PB02462-001.h5ad already exists and is not empty. Skipping processing.\n",
      "File h5ad_flu_after_qc/PB01970-01.h5ad already exists and is not empty. Skipping processing.\n",
      "File h5ad_flu_after_qc/PB02246-02.h5ad already exists and is not empty. Skipping processing.\n",
      "File h5ad_flu_after_qc/PB02454-001.h5ad already exists and is not empty. Skipping processing.\n",
      "File h5ad_flu_after_qc/PB01994-01.h5ad already exists and is not empty. Skipping processing.\n",
      "File h5ad_flu_after_qc/PB02445-001.h5ad already exists and is not empty. Skipping processing.\n",
      "File h5ad_flu_after_qc/PB02348-001.h5ad already exists and is not empty. Skipping processing.File h5ad_flu_after_qc/PB02474-002.h5ad already exists and is not empty. Skipping processing.\n",
      "\n",
      "File h5ad_flu_after_qc/PB02482-001.h5ad already exists and is not empty. Skipping processing.File h5ad_flu_after_qc/PB01998-04.h5ad already exists and is not empty. Skipping processing.\n",
      "\n",
      "File h5ad_flu_after_qc/PB02228-03.h5ad already exists and is not empty. Skipping processing.\n",
      "File h5ad_flu_after_qc/PB02458-001.h5ad already exists and is not empty. Skipping processing.File h5ad_flu_after_qc/PB02253-01.h5ad already exists and is not empty. Skipping processing.\n",
      "\n",
      "File h5ad_flu_after_qc/PB02356-001.h5ad already exists and is not empty. Skipping processing.\n",
      "File h5ad_flu_after_qc/PB01978-01.h5ad already exists and is not empty. Skipping processing.\n",
      "File h5ad_flu_after_qc/PB02269-01.h5ad already exists and is not empty. Skipping processing.\n",
      "File h5ad_flu_after_qc/PB02237-04.h5ad already exists and is not empty. Skipping processing.\n",
      "File h5ad_flu_after_qc/PB02277-01.h5ad already exists and is not empty. Skipping processing.\n",
      "File h5ad_flu_after_qc/PB02506-001.h5ad already exists and is not empty. Skipping processing.\n",
      "File h5ad_flu_after_qc/PB02241-01.h5ad already exists and is not empty. Skipping processing.File h5ad_flu_after_qc/PB02336-001.h5ad already exists and is not empty. Skipping processing.\n",
      "\n",
      "File h5ad_flu_after_qc/PB02006-01.h5ad already exists and is not empty. Skipping processing.\n",
      "File h5ad_flu_after_qc/PB02486-001.h5ad already exists and is not empty. Skipping processing.\n",
      "File h5ad_flu_after_qc/PB02470-001.h5ad already exists and is not empty. Skipping processing.File h5ad_flu_after_qc/PB02249-01.h5ad already exists and is not empty. Skipping processing.\n",
      "\n",
      "File h5ad_flu_after_qc/PB02466-001.h5ad already exists and is not empty. Skipping processing.\n",
      "File h5ad_flu_after_qc/PB02490-001.h5ad already exists and is not empty. Skipping processing.\n",
      "File h5ad_flu_after_qc/PB02324-001.h5ad already exists and is not empty. Skipping processing.\n",
      "File h5ad_flu_after_qc/PB02261-01.h5ad already exists and is not empty. Skipping processing.\n",
      "File h5ad_flu_after_qc/PB02002-01.h5ad already exists and is not empty. Skipping processing.\n",
      "File h5ad_flu_after_qc/PB01524-01.h5ad already exists and is not empty. Skipping processing.\n",
      "File h5ad_flu_after_qc/PB02265-02.h5ad already exists and is not empty. Skipping processing.\n",
      "File h5ad_flu_after_qc/PB02233-01.h5ad already exists and is not empty. Skipping processing.\n",
      "File h5ad_flu_after_qc/PB02312-001.h5ad already exists and is not empty. Skipping processing.\n",
      "File h5ad_flu_after_qc/PB01990-01.h5ad already exists and is not empty. Skipping processing.\n",
      "File h5ad_flu_after_qc/PB02332-001.h5ad already exists and is not empty. Skipping processing.\n",
      "File h5ad_flu_after_qc/PB02344-001.h5ad already exists and is not empty. Skipping processing.\n",
      "File h5ad_flu_after_qc/PB02522-002.h5ad already exists and is not empty. Skipping processing.\n",
      "File h5ad_flu_after_qc/PB02494-001.h5ad already exists and is not empty. Skipping processing.\n",
      "File h5ad_flu_after_qc/PB02257-01.h5ad already exists and is not empty. Skipping processing.\n",
      "File h5ad_flu_after_qc/PB02498-001.h5ad already exists and is not empty. Skipping processing.\n",
      "File h5ad_flu_after_qc/PB01967-01.h5ad already exists and is not empty. Skipping processing.\n",
      "File h5ad_flu_after_qc/PB02514-001.h5ad already exists and is not empty. Skipping processing.\n",
      "File h5ad_flu_after_qc/PB02328-001.h5ad already exists and is not empty. Skipping processing.File h5ad_flu_after_qc/PB02502-001.h5ad already exists and is not empty. Skipping processing.\n",
      "\n",
      "File h5ad_flu_after_qc/PB02316-001.h5ad already exists and is not empty. Skipping processing.\n",
      "File h5ad_flu_after_qc/PB02518-001.h5ad already exists and is not empty. Skipping processing.File h5ad_flu_after_qc/PB02309-002.h5ad already exists and is not empty. Skipping processing.\n",
      "File h5ad_flu_after_qc/PB02479-001.h5ad already exists and is not empty. Skipping processing.\n",
      "\n",
      "File h5ad_flu_after_qc/PB02250-02.h5ad already exists and is not empty. Skipping processing.\n",
      "File h5ad_flu_after_qc/PB02459-001.h5ad already exists and is not empty. Skipping processing.\n",
      "File h5ad_flu_after_qc/PB02320-001.h5ad already exists and is not empty. Skipping processing.\n",
      "File h5ad_flu_after_qc/PB02010-01.h5ad already exists and is not empty. Skipping processing.\n",
      "File h5ad_flu_after_qc/PB01971-02.h5ad already exists and is not empty. Skipping processing.\n",
      "File h5ad_flu_after_qc/PB02340-001.h5ad already exists and is not empty. Skipping processing.\n",
      "File h5ad_flu_after_qc/PB02510-001.h5ad already exists and is not empty. Skipping processing.\n",
      "File h5ad_flu_after_qc/PB02526-001.h5ad already exists and is not empty. Skipping processing.\n",
      "File h5ad_flu_after_qc/PB01983-02.h5ad already exists and is not empty. Skipping processing.\n",
      "File h5ad_flu_after_qc/PB02247-01.h5ad already exists and is not empty. Skipping processing.\n",
      "File h5ad_flu_after_qc/PB02455-001.h5ad already exists and is not empty. Skipping processing.\n",
      "File h5ad_flu_after_qc/PB02451-001.h5ad already exists and is not empty. Skipping processing.\n",
      "File h5ad_flu_after_qc/PB02273-01.h5ad already exists and is not empty. Skipping processing.File h5ad_flu_after_qc/PB02003-02.h5ad already exists and is not empty. Skipping processing.\n",
      "\n",
      "File h5ad_flu_after_qc/PB01995-01.h5ad already exists and is not empty. Skipping processing.\n",
      "File h5ad_flu_after_qc/PB01987-01.h5ad already exists and is not empty. Skipping processing.File h5ad_flu_after_qc/PB01964-01.h5ad already exists and is not empty. Skipping processing.\n",
      "\n",
      "File h5ad_flu_after_qc/PB01975-01.h5ad already exists and is not empty. Skipping processing.\n",
      "File h5ad_flu_after_qc/PB02353-001.h5ad already exists and is not empty. Skipping processing.File h5ad_flu_after_qc/PB02007-02.h5ad already exists and is not empty. Skipping processing.\n",
      "\n",
      "File h5ad_flu_after_qc/PB02254-02.h5ad already exists and is not empty. Skipping processing.\n",
      "File h5ad_flu_after_qc/PB02487-001.h5ad already exists and is not empty. Skipping processing.\n",
      "File h5ad_flu_after_qc/PB02349-001.h5ad already exists and is not empty. Skipping processing.\n",
      "File h5ad_flu_after_qc/PB02463-001.h5ad already exists and is not empty. Skipping processing.\n",
      "File h5ad_flu_after_qc/PB01999-01.h5ad already exists and is not empty. Skipping processing.\n",
      "File h5ad_flu_after_qc/PB02238-01.h5ad already exists and is not empty. Skipping processing.\n",
      "File h5ad_flu_after_qc/PB02329-001.h5ad already exists and is not empty. Skipping processing.\n",
      "File h5ad_flu_after_qc/PB02475-001.h5ad already exists and is not empty. Skipping processing.\n",
      "File h5ad_flu_after_qc/PB02229-01.h5ad already exists and is not empty. Skipping processing.\n",
      "File h5ad_flu_after_qc/PB02357-001.h5ad already exists and is not empty. Skipping processing.\n",
      "File h5ad_flu_after_qc/PB01979-01.h5ad already exists and is not empty. Skipping processing.\n",
      "File h5ad_flu_after_qc/PB02242-02.h5ad already exists and is not empty. Skipping processing.\n",
      "File h5ad_flu_after_qc/PB02446-001.h5ad already exists and is not empty. Skipping processing.File h5ad_flu_after_qc/PB02471-001.h5ad already exists and is not empty. Skipping processing.\n",
      "\n",
      "File h5ad_flu_after_qc/PB02483-001.h5ad already exists and is not empty. Skipping processing.\n",
      "File h5ad_flu_after_qc/PB02507-001.h5ad already exists and is not empty. Skipping processing.\n",
      "File h5ad_flu_after_qc/PB02333-001.h5ad already exists and is not empty. Skipping processing.\n",
      "File h5ad_flu_after_qc/PB02467-001.h5ad already exists and is not empty. Skipping processing.\n",
      "File h5ad_flu_after_qc/PB02460-001.h5ad already exists and is not empty. Skipping processing.\n",
      "File h5ad_flu_after_qc/PB02337-001.h5ad already exists and is not empty. Skipping processing.\n",
      "File h5ad_flu_after_qc/PB02262-01.h5ad already exists and is not empty. Skipping processing.\n",
      "File h5ad_flu_after_qc/PB02523-001.h5ad already exists and is not empty. Skipping processing.\n",
      "File h5ad_flu_after_qc/PB02515-002.h5ad already exists and is not empty. Skipping processing.File h5ad_flu_after_qc/PB02491-001.h5ad already exists and is not empty. Skipping processing.\n",
      "\n",
      "File h5ad_flu_after_qc/PB02270-01.h5ad already exists and is not empty. Skipping processing.\n",
      "File h5ad_flu_after_qc/PB02325-001.h5ad already exists and is not empty. Skipping processing.\n",
      "File h5ad_flu_after_qc/PB02234-01.h5ad already exists and is not empty. Skipping processing.\n",
      "File h5ad_flu_after_qc/PB02527-002.h5ad already exists and is not empty. Skipping processing.\n",
      "File h5ad_flu_after_qc/PB02313-001.h5ad already exists and is not empty. Skipping processing.\n",
      "File h5ad_flu_after_qc/PB02530-001.h5ad already exists and is not empty. Skipping processing.\n",
      "File h5ad_flu_after_qc/PB02008-04.h5ad already exists and is not empty. Skipping processing.\n",
      "File h5ad_flu_after_qc/PB02452-001.h5ad already exists and is not empty. Skipping processing.\n",
      "File h5ad_flu_after_qc/PB02456-001.h5ad already exists and is not empty. Skipping processing.File h5ad_flu_after_qc/PB01991-01.h5ad already exists and is not empty. Skipping processing.\n",
      "\n",
      "File h5ad_flu_after_qc/PB02011-01.h5ad already exists and is not empty. Skipping processing.\n",
      "File h5ad_flu_after_qc/PB02266-01.h5ad already exists and is not empty. Skipping processing.\n",
      "File h5ad_flu_after_qc/PB02480-001.h5ad already exists and is not empty. Skipping processing.\n",
      "File h5ad_flu_after_qc/PB02346-001.h5ad already exists and is not empty. Skipping processing.\n",
      "File h5ad_flu_after_qc/PB02251-01.h5ad already exists and is not empty. Skipping processing.\n",
      "File h5ad_flu_after_qc/PB01968-01.h5ad already exists and is not empty. Skipping processing.\n",
      "File h5ad_flu_after_qc/PB02495-001.h5ad already exists and is not empty. Skipping processing.\n",
      "File h5ad_flu_after_qc/PB02321-001.h5ad already exists and is not empty. Skipping processing.\n",
      "File h5ad_flu_after_qc/PB02519-001.h5ad already exists and is not empty. Skipping processing.\n",
      "File h5ad_flu_after_qc/PB01980-01.h5ad already exists and is not empty. Skipping processing.\n",
      "File h5ad_flu_after_qc/PB02258-01.h5ad already exists and is not empty. Skipping processing.File h5ad_flu_after_qc/PB02310-001.h5ad already exists and is not empty. Skipping processing.\n",
      "\n",
      "File h5ad_flu_after_qc/PB02341-001.h5ad already exists and is not empty. Skipping processing.File h5ad_flu_after_qc/PB02511-001.h5ad already exists and is not empty. Skipping processing.\n",
      "\n",
      "File h5ad_flu_after_qc/PB01984-01.h5ad already exists and is not empty. Skipping processing.\n",
      "File h5ad_flu_after_qc/PB02538-002.h5ad already exists and is not empty. Skipping processing.\n",
      "File h5ad_flu_after_qc/PB02274-01.h5ad already exists and is not empty. Skipping processing.\n",
      "File h5ad_flu_after_qc/PB02263-02.h5ad already exists and is not empty. Skipping processing.\n",
      "File h5ad_flu_after_qc/PB01972-01.h5ad already exists and is not empty. Skipping processing.\n",
      "File h5ad_flu_after_qc/PB02499-001.h5ad already exists and is not empty. Skipping processing.\n",
      "File h5ad_flu_after_qc/PB02317-001.h5ad already exists and is not empty. Skipping processing.\n",
      "File h5ad_flu_after_qc/PB02534-001.h5ad already exists and is not empty. Skipping processing.\n",
      "File h5ad_flu_after_qc/PB02503-001.h5ad already exists and is not empty. Skipping processing.\n",
      "File h5ad_flu_after_qc/PB02000-01.h5ad already exists and is not empty. Skipping processing.\n",
      "File h5ad_flu_after_qc/PB02239-01.h5ad already exists and is not empty. Skipping processing.\n",
      "File h5ad_flu_after_qc/PB02350-001.h5ad already exists and is not empty. Skipping processing.\n",
      "File h5ad_flu_after_qc/PB02004-01.h5ad already exists and is not empty. Skipping processing.\n",
      "File h5ad_flu_after_qc/PB02255-01.h5ad already exists and is not empty. Skipping processing.\n",
      "File h5ad_flu_after_qc/PB01976-01.h5ad already exists and is not empty. Skipping processing.\n",
      "File h5ad_flu_after_qc/PB02468-001.h5ad already exists and is not empty. Skipping processing.\n",
      "File h5ad_flu_after_qc/PB02488-002.h5ad already exists and is not empty. Skipping processing.\n",
      "File h5ad_flu_after_qc/PB02358-001.h5ad already exists and is not empty. Skipping processing.\n",
      "File h5ad_flu_after_qc/PB02484-001.h5ad already exists and is not empty. Skipping processing.\n",
      "File h5ad_flu_after_qc/PB02464-001.h5ad already exists and is not empty. Skipping processing.\n",
      "File h5ad_flu_after_qc/PB02447-001.h5ad already exists and is not empty. Skipping processing.\n",
      "File h5ad_flu_after_qc/PB02235-04.h5ad already exists and is not empty. Skipping processing.File h5ad_flu_after_qc/PB02243-01.h5ad already exists and is not empty. Skipping processing.File h5ad_flu_after_qc/PB02524-001.h5ad already exists and is not empty. Skipping processing.\n",
      "\n",
      "\n",
      "File h5ad_flu_after_qc/PB02476-001.h5ad already exists and is not empty. Skipping processing.\n",
      "File h5ad_flu_after_qc/PB02354-001.h5ad already exists and is not empty. Skipping processing.\n",
      "File h5ad_flu_after_qc/PB02230-01.h5ad already exists and is not empty. Skipping processing.File h5ad_flu_after_qc/PB01996-01.h5ad already exists and is not empty. Skipping processing.\n",
      "File h5ad_flu_after_qc/PB02516-001.h5ad already exists and is not empty. Skipping processing.\n",
      "\n",
      "File h5ad_flu_after_qc/PB02326-001.h5ad already exists and is not empty. Skipping processing.\n",
      "File h5ad_flu_after_qc/PB02314-001.h5ad already exists and is not empty. Skipping processing.\n",
      "File h5ad_flu_after_qc/PB02334-001.h5ad already exists and is not empty. Skipping processing.\n",
      "File h5ad_flu_after_qc/PB01988-01.h5ad already exists and is not empty. Skipping processing.\n",
      "File h5ad_flu_after_qc/PB02322-002.h5ad already exists and is not empty. Skipping processing.\n",
      "File h5ad_flu_after_qc/PB02461-001.h5ad already exists and is not empty. Skipping processing.\n",
      "File h5ad_flu_after_qc/PB02508-001.h5ad already exists and is not empty. Skipping processing.\n",
      "File h5ad_flu_after_qc/PB02338-001.h5ad already exists and is not empty. Skipping processing.\n",
      "File h5ad_flu_after_qc/PB02560-002.h5ad already exists and is not empty. Skipping processing.\n",
      "File h5ad_flu_after_qc/PB02520-001.h5ad already exists and is not empty. Skipping processing.\n",
      "File h5ad_flu_after_qc/PB02457-001.h5ad already exists and is not empty. Skipping processing.File h5ad_flu_after_qc/PB02012-01.h5ad already exists and is not empty. Skipping processing.\n",
      "\n",
      "File h5ad_flu_after_qc/PB02528-001.h5ad already exists and is not empty. Skipping processing.\n",
      "File h5ad_flu_after_qc/PB02531-002.h5ad already exists and is not empty. Skipping processing.\n",
      "File h5ad_flu_after_qc/PB02472-001.h5ad already exists and is not empty. Skipping processing.\n",
      "File h5ad_flu_after_qc/PB02540-001.h5ad already exists and is not empty. Skipping processing.\n",
      "File h5ad_flu_after_qc/PB02453-001.h5ad already exists and is not empty. Skipping processing.File h5ad_flu_after_qc/PB02492-001.h5ad already exists and is not empty. Skipping processing.\n",
      "\n",
      "File h5ad_flu_after_qc/PB02267-01.h5ad already exists and is not empty. Skipping processing.\n",
      "File h5ad_flu_after_qc/PB02543-001.h5ad already exists and is not empty. Skipping processing.\n",
      "File h5ad_flu_after_qc/PB02275-01.h5ad already exists and is not empty. Skipping processing.\n",
      "File h5ad_flu_after_qc/PB02342-001.h5ad already exists and is not empty. Skipping processing.\n",
      "File h5ad_flu_after_qc/PB02347-001.h5ad already exists and is not empty. Skipping processing.\n",
      "File h5ad_flu_after_qc/PB01992-01.h5ad already exists and is not empty. Skipping processing.\n",
      "File h5ad_flu_after_qc/PB02552-001.h5ad already exists and is not empty. Skipping processing.\n",
      "File h5ad_flu_after_qc/PB02556-002.h5ad already exists and is not empty. Skipping processing.File h5ad_flu_after_qc/PB02444-001.h5ad already exists and is not empty. Skipping processing.\n",
      "\n",
      "File h5ad_flu_after_qc/PB03076-001.h5ad already exists and is not empty. Skipping processing.\n",
      "File h5ad_flu_after_qc/PB02576-001.h5ad already exists and is not empty. Skipping processing.\n",
      "File h5ad_flu_after_qc/PB02481-001.h5ad already exists and is not empty. Skipping processing.\n",
      "File h5ad_flu_after_qc/PB02589-001.h5ad already exists and is not empty. Skipping processing.\n",
      "File h5ad_flu_after_qc/PB02449-001.h5ad already exists and is not empty. Skipping processing.\n",
      "File h5ad_flu_after_qc/PB02271-01.h5ad already exists and is not empty. Skipping processing.\n",
      "File h5ad_flu_after_qc/PB02496-001.h5ad already exists and is not empty. Skipping processing.File h5ad_flu_after_qc/PB02564-001.h5ad already exists and is not empty. Skipping processing.\n",
      "\n",
      "File h5ad_flu_after_qc/PB02351-001.h5ad already exists and is not empty. Skipping processing.\n",
      "File h5ad_flu_after_qc/PB02512-001.h5ad already exists and is not empty. Skipping processing.\n",
      "File h5ad_flu_after_qc/PB02568-001.h5ad already exists and is not empty. Skipping processing.\n",
      "File h5ad_flu_after_qc/PB03080-001.h5ad already exists and is not empty. Skipping processing.\n",
      "File h5ad_flu_after_qc/PB03072-001.h5ad already exists and is not empty. Skipping processing.File h5ad_flu_after_qc/PB02318-002.h5ad already exists and is not empty. Skipping processing.\n",
      "\n",
      "File h5ad_flu_after_qc/PB02259-01.h5ad already exists and is not empty. Skipping processing.\n",
      "File h5ad_flu_after_qc/PB02504-001.h5ad already exists and is not empty. Skipping processing.\n",
      "File h5ad_flu_after_qc/PB02330-001.h5ad already exists and is not empty. Skipping processing.\n",
      "File h5ad_flu_after_qc/PB02585-001.h5ad already exists and is not empty. Skipping processing.\n",
      "File h5ad_flu_after_qc/PB02581-001.h5ad already exists and is not empty. Skipping processing.\n",
      "File h5ad_flu_after_qc/PB02477-001.h5ad already exists and is not empty. Skipping processing.File h5ad_flu_after_qc/PB02572-001.h5ad already exists and is not empty. Skipping processing.\n",
      "\n",
      "File h5ad_flu_after_qc/PB03068-002.h5ad already exists and is not empty. Skipping processing.File h5ad_flu_after_qc/PB02525-001.h5ad already exists and is not empty. Skipping processing.\n",
      "\n",
      "File h5ad_flu_after_qc/PB02500-001.h5ad already exists and is not empty. Skipping processing.\n",
      "File h5ad_flu_after_qc/PB02535-001.h5ad already exists and is not empty. Skipping processing.\n",
      "File h5ad_flu_after_qc/PB02547-001.h5ad already exists and is not empty. Skipping processing.\n",
      "File h5ad_flu_after_qc/PB02593-001.h5ad already exists and is not empty. Skipping processing.\n",
      "File h5ad_flu_after_qc/PB03064-002.h5ad already exists and is not empty. Skipping processing.\n",
      "File h5ad_flu_after_qc/PB03896-001.h5ad already exists and is not empty. Skipping processing.\n",
      "File h5ad_flu_after_qc/PB02489-001.h5ad already exists and is not empty. Skipping processing.\n",
      "File h5ad_flu_after_qc/PB03101-001.h5ad already exists and is not empty. Skipping processing.\n",
      "File h5ad_flu_after_qc/PB02469-001.h5ad already exists and is not empty. Skipping processing.\n",
      "File h5ad_flu_after_qc/PB03089-001.h5ad already exists and is not empty. Skipping processing.\n",
      "File h5ad_flu_after_qc/PB02485-001.h5ad already exists and is not empty. Skipping processing.File h5ad_flu_after_qc/PB03908-002.h5ad already exists and is not empty. Skipping processing.\n",
      "\n",
      "File h5ad_flu_after_qc/PB02553-002.h5ad already exists and is not empty. Skipping processing.\n",
      "File h5ad_flu_after_qc/PB03105-001.h5ad already exists and is not empty. Skipping processing.\n",
      "File h5ad_flu_after_qc/PB02355-001.h5ad already exists and is not empty. Skipping processing.\n",
      "File h5ad_flu_after_qc/PB02577-001.h5ad already exists and is not empty. Skipping processing.File h5ad_flu_after_qc/PB02544-001.h5ad already exists and is not empty. Skipping processing.\n",
      "\n",
      "File h5ad_flu_after_qc/PB02465-001.h5ad already exists and is not empty. Skipping processing.\n",
      "File h5ad_flu_after_qc/PB03904-001.h5ad already exists and is not empty. Skipping processing.\n",
      "File h5ad_flu_after_qc/PB03084-001.h5ad already exists and is not empty. Skipping processing.\n",
      "File h5ad_flu_after_qc/PB03077-001.h5ad already exists and is not empty. Skipping processing.\n",
      "File h5ad_flu_after_qc/PB03109-001.h5ad already exists and is not empty. Skipping processing.\n",
      "File h5ad_flu_after_qc/PB02517-001.h5ad already exists and is not empty. Skipping processing.\n",
      "File h5ad_flu_after_qc/PB02561-001.h5ad already exists and is not empty. Skipping processing.\n",
      "File h5ad_flu_after_qc/PB03097-001.h5ad already exists and is not empty. Skipping processing.\n",
      "File h5ad_flu_after_qc/PB02573-001.h5ad already exists and is not empty. Skipping processing.\n",
      "File h5ad_flu_after_qc/PB02529-001.h5ad already exists and is not empty. Skipping processing.\n",
      "File h5ad_flu_after_qc/PB02493-001.h5ad already exists and is not empty. Skipping processing.\n",
      "File h5ad_flu_after_qc/PB02557-002.h5ad already exists and is not empty. Skipping processing.\n",
      "File h5ad_flu_after_qc/PB02586-001.h5ad already exists and is not empty. Skipping processing.\n",
      "File h5ad_flu_after_qc/PB02532-001.h5ad already exists and is not empty. Skipping processing.\n",
      "File h5ad_flu_after_qc/PB03900-001.h5ad already exists and is not empty. Skipping processing.\n",
      "File h5ad_flu_after_qc/PB02497-001.h5ad already exists and is not empty. Skipping processing.\n",
      "File h5ad_flu_after_qc/PB02509-001.h5ad already exists and is not empty. Skipping processing.\n",
      "File h5ad_flu_after_qc/PB03925-001.h5ad already exists and is not empty. Skipping processing.\n",
      "File h5ad_flu_after_qc/PB03913-001.h5ad already exists and is not empty. Skipping processing.\n",
      "File h5ad_flu_after_qc/PB02521-001.h5ad already exists and is not empty. Skipping processing.\n",
      "File h5ad_flu_after_qc/PB02569-001.h5ad already exists and is not empty. Skipping processing.File h5ad_flu_after_qc/PB02590-001.h5ad already exists and is not empty. Skipping processing.\n",
      "\n",
      "File h5ad_flu_after_qc/PB03073-001.h5ad already exists and is not empty. Skipping processing.\n",
      "File h5ad_flu_after_qc/PB03921-001.h5ad already exists and is not empty. Skipping processing.\n",
      "File h5ad_flu_after_qc/PB02473-001.h5ad already exists and is not empty. Skipping processing.\n",
      "File h5ad_flu_after_qc/PB03917-001.h5ad already exists and is not empty. Skipping processing.\n",
      "File h5ad_flu_after_qc/PB03065-001.h5ad already exists and is not empty. Skipping processing.\n",
      "File h5ad_flu_after_qc/PB02565-001.h5ad already exists and is not empty. Skipping processing.\n",
      "File h5ad_flu_after_qc/PB03081-001.h5ad already exists and is not empty. Skipping processing.\n",
      "File h5ad_flu_after_qc/PB03093-001.h5ad already exists and is not empty. Skipping processing.\n",
      "File h5ad_flu_after_qc/PB02582-001.h5ad already exists and is not empty. Skipping processing.\n",
      "File h5ad_flu_after_qc/PB02505-002.h5ad already exists and is not empty. Skipping processing.\n",
      "File h5ad_flu_after_qc/PB02541-001.h5ad already exists and is not empty. Skipping processing.File h5ad_flu_after_qc/PB03090-001.h5ad already exists and is not empty. Skipping processing.\n",
      "\n",
      "File h5ad_flu_after_qc/PB03909-001.h5ad already exists and is not empty. Skipping processing.\n",
      "File h5ad_flu_after_qc/PB03069-001.h5ad already exists and is not empty. Skipping processing.\n",
      "File h5ad_flu_after_qc/PB02536-001.h5ad already exists and is not empty. Skipping processing.\n",
      "File h5ad_flu_after_qc/PB02533-001.h5ad already exists and is not empty. Skipping processing.\n",
      "File h5ad_flu_after_qc/PB03061-001.h5ad already exists and is not empty. Skipping processing.\n",
      "File h5ad_flu_after_qc/PB03102-001.h5ad already exists and is not empty. Skipping processing.\n",
      "File h5ad_flu_after_qc/PB03905-002.h5ad already exists and is not empty. Skipping processing.\n",
      "File h5ad_flu_after_qc/PB02587-001.h5ad already exists and is not empty. Skipping processing.\n",
      "File h5ad_flu_after_qc/PB03892-001.h5ad already exists and is not empty. Skipping processing.\n",
      "File h5ad_flu_after_qc/PB03897-001.h5ad already exists and is not empty. Skipping processing.\n",
      "File h5ad_flu_after_qc/PB02578-001.h5ad already exists and is not empty. Skipping processing.\n",
      "File h5ad_flu_after_qc/PB03926-001.h5ad already exists and is not empty. Skipping processing.\n",
      "File h5ad_flu_after_qc/PB03106-001.h5ad already exists and is not empty. Skipping processing.\n",
      "File h5ad_flu_after_qc/PB02501-002.h5ad already exists and is not empty. Skipping processing.\n",
      "File h5ad_flu_after_qc/PB03110-003.h5ad already exists and is not empty. Skipping processing.\n",
      "File h5ad_flu_after_qc/PB02545-001.h5ad already exists and is not empty. Skipping processing.\n",
      "File h5ad_flu_after_qc/PB02548-001.h5ad already exists and is not empty. Skipping processing.\n",
      "File h5ad_flu_after_qc/PB03085-001.h5ad already exists and is not empty. Skipping processing.\n",
      "File h5ad_flu_after_qc/PB02513-001.h5ad already exists and is not empty. Skipping processing.\n",
      "File h5ad_flu_after_qc/PB03078-001.h5ad already exists and is not empty. Skipping processing.\n",
      "File h5ad_flu_after_qc/PB02574-001.h5ad already exists and is not empty. Skipping processing.\n",
      "File h5ad_flu_after_qc/PB03901-001.h5ad already exists and is not empty. Skipping processing.\n",
      "File h5ad_flu_after_qc/PB03922-001.h5ad already exists and is not empty. Skipping processing.\n",
      "File h5ad_flu_after_qc/PB02562-001.h5ad already exists and is not empty. Skipping processing.\n",
      "File h5ad_flu_after_qc/PB03911-001.h5ad already exists and is not empty. Skipping processing.\n",
      "File h5ad_flu_after_qc/PB03094-001.h5ad already exists and is not empty. Skipping processing.\n",
      "File h5ad_flu_after_qc/PB03906-002.h5ad already exists and is not empty. Skipping processing.\n",
      "File h5ad_flu_after_qc/PB03107-001.h5ad already exists and is not empty. Skipping processing.\n",
      "File h5ad_flu_after_qc/PB03898-001.h5ad already exists and is not empty. Skipping processing.\n",
      "File h5ad_flu_after_qc/PB02554-002.h5ad already exists and is not empty. Skipping processing.\n",
      "File h5ad_flu_after_qc/PB03890-001.h5ad already exists and is not empty. Skipping processing.\n",
      "File h5ad_flu_after_qc/PB03074-001.h5ad already exists and is not empty. Skipping processing.\n",
      "File h5ad_flu_after_qc/PB03098-001.h5ad already exists and is not empty. Skipping processing.\n",
      "File h5ad_flu_after_qc/PB03893-001.h5ad already exists and is not empty. Skipping processing.\n",
      "File h5ad_flu_after_qc/PB02558-001.h5ad already exists and is not empty. Skipping processing.\n",
      "File h5ad_flu_after_qc/PB03082-001.h5ad already exists and is not empty. Skipping processing.\n",
      "File h5ad_flu_after_qc/PB03918-001.h5ad already exists and is not empty. Skipping processing.\n",
      "File h5ad_flu_after_qc/PB02588-002.h5ad already exists and is not empty. Skipping processing.\n",
      "File h5ad_flu_after_qc/PB03902-001.h5ad already exists and is not empty. Skipping processing.\n",
      "File h5ad_flu_after_qc/PB02583-001.h5ad already exists and is not empty. Skipping processing.\n",
      "File h5ad_flu_after_qc/PB03066-002.h5ad already exists and is not empty. Skipping processing.\n",
      "File h5ad_flu_after_qc/PB03927-001.h5ad already exists and is not empty. Skipping processing.\n",
      "File h5ad_flu_after_qc/PB03091-001.h5ad already exists and is not empty. Skipping processing.\n",
      "File h5ad_flu_after_qc/PB02559-002.h5ad already exists and is not empty. Skipping processing.\n",
      "File h5ad_flu_after_qc/PB02542-001.h5ad already exists and is not empty. Skipping processing.\n",
      "File h5ad_flu_after_qc/PB03914-001.h5ad already exists and is not empty. Skipping processing.\n",
      "File h5ad_flu_after_qc/PB02566-001.h5ad already exists and is not empty. Skipping processing.\n",
      "File h5ad_flu_after_qc/PB02579-001.h5ad already exists and is not empty. Skipping processing.\n",
      "File h5ad_flu_after_qc/PB02546-002.h5ad already exists and is not empty. Skipping processing.\n",
      "File h5ad_flu_after_qc/PB02537-001.h5ad already exists and is not empty. Skipping processing.\n",
      "File h5ad_flu_after_qc/PB03079-001.h5ad already exists and is not empty. Skipping processing.\n",
      "File h5ad_flu_after_qc/PB03062-002.h5ad already exists and is not empty. Skipping processing.\n",
      "File h5ad_flu_after_qc/PB02570-002.h5ad already exists and is not empty. Skipping processing.File h5ad_flu_after_qc/PB02591-001.h5ad already exists and is not empty. Skipping processing.\n",
      "\n",
      "File h5ad_flu_after_qc/PB03912-002.h5ad already exists and is not empty. Skipping processing.\n",
      "File h5ad_flu_after_qc/PB02575-001.h5ad already exists and is not empty. Skipping processing.\n",
      "File h5ad_flu_after_qc/PB03070-001.h5ad already exists and is not empty. Skipping processing.\n",
      "File h5ad_flu_after_qc/PB02550-001.h5ad already exists and is not empty. Skipping processing.\n",
      "File h5ad_flu_after_qc/PB02563-001.h5ad already exists and is not empty. Skipping processing.\n",
      "File h5ad_flu_after_qc/PB03919-001.h5ad already exists and is not empty. Skipping processing.\n",
      "File h5ad_flu_after_qc/PB03095-001.h5ad already exists and is not empty. Skipping processing.\n",
      "File h5ad_flu_after_qc/PB03086-001.h5ad already exists and is not empty. Skipping processing.\n",
      "File h5ad_flu_after_qc/PB03075-001.h5ad already exists and is not empty. Skipping processing.\n",
      "File h5ad_flu_after_qc/PB03099-001.h5ad already exists and is not empty. Skipping processing.\n",
      "File h5ad_flu_after_qc/PB03907-001.h5ad already exists and is not empty. Skipping processing.\n",
      "File h5ad_flu_after_qc/PB03894-001.h5ad already exists and is not empty. Skipping processing.\n",
      "File h5ad_flu_after_qc/PB03083-001.h5ad already exists and is not empty. Skipping processing.\n",
      "File h5ad_flu_after_qc/PB03103-001.h5ad already exists and is not empty. Skipping processing.\n",
      "File h5ad_flu_after_qc/PB03923-001.h5ad already exists and is not empty. Skipping processing.\n",
      "File h5ad_flu_after_qc/PB02555-001.h5ad already exists and is not empty. Skipping processing.\n",
      "File h5ad_flu_after_qc/PB03899-001.h5ad already exists and is not empty. Skipping processing.\n",
      "File h5ad_flu_after_qc/PB02584-001.h5ad already exists and is not empty. Skipping processing.\n",
      "File h5ad_flu_after_qc/PB03903-001.h5ad already exists and is not empty. Skipping processing.\n",
      "File h5ad_flu_after_qc/PB03063-001.h5ad already exists and is not empty. Skipping processing.\n",
      "File h5ad_flu_after_qc/PB02571-001.h5ad already exists and is not empty. Skipping processing.\n",
      "File h5ad_flu_after_qc/PB03891-001.h5ad already exists and is not empty. Skipping processing.\n",
      "File h5ad_flu_after_qc/PB03092-001.h5ad already exists and is not empty. Skipping processing.\n",
      "File h5ad_flu_after_qc/PB03915-001.h5ad already exists and is not empty. Skipping processing.\n",
      "File h5ad_flu_after_qc/PB03067-001.h5ad already exists and is not empty. Skipping processing.\n",
      "File h5ad_flu_after_qc/PB02567-001.h5ad already exists and is not empty. Skipping processing.\n",
      "File h5ad_flu_after_qc/PB03071-001.h5ad already exists and is not empty. Skipping processing.\n",
      "File h5ad_flu_after_qc/PB03920-001.h5ad already exists and is not empty. Skipping processing.\n",
      "File h5ad_flu_after_qc/PB03928-001.h5ad already exists and is not empty. Skipping processing.\n",
      "File h5ad_flu_after_qc/PB02592-002.h5ad already exists and is not empty. Skipping processing.\n",
      "File h5ad_flu_after_qc/PB02551-001.h5ad already exists and is not empty. Skipping processing.\n",
      "File h5ad_flu_after_qc/PB03096-001.h5ad already exists and is not empty. Skipping processing.\n",
      "File h5ad_flu_after_qc/PB03108-002.h5ad already exists and is not empty. Skipping processing.\n",
      "File h5ad_flu_after_qc/PB03088-002.h5ad already exists and is not empty. Skipping processing.\n",
      "File h5ad_flu_after_qc/PB03104-002.h5ad already exists and is not empty. Skipping processing.\n",
      "File h5ad_flu_after_qc/PB03924-002.h5ad already exists and is not empty. Skipping processing.\n",
      "File h5ad_flu_after_qc/PB03100-001.h5ad already exists and is not empty. Skipping processing.\n",
      "File h5ad_flu_after_qc/PB03895-001.h5ad already exists and is not empty. Skipping processing.\n",
      "File h5ad_flu_after_qc/PB03916-001.h5ad already exists and is not empty. Skipping processing.\n",
      "CPU times: user 1.75 s, sys: 2.66 s, total: 4.41 s\n",
      "Wall time: 24 s\n"
     ]
    }
   ],
   "source": [
    "%%time\n",
    "file_names = meta_data['file.path'].tolist()\n",
    "\n",
    "with multiprocessing.Pool(processes=60) as pool:\n",
    "    pool.map(process_file, file_names)\n"
   ]
  },
  {
   "cell_type": "markdown",
   "id": "41ae82da-f38f-4a96-af30-6415ceb53eab",
   "metadata": {},
   "source": [
    "# Read all h5 and split into individual H5"
   ]
  },
  {
   "cell_type": "code",
   "execution_count": 5,
   "id": "7f555428-df71-4ba6-a8a9-b68bd3d6b8dd",
   "metadata": {
    "tags": []
   },
   "outputs": [],
   "source": [
    "def load_file(file_name):\n",
    "    try:\n",
    "        result = sc.read_h5ad(\"h5ad_flu_after_qc/\" + file_name + '.h5ad')\n",
    "        return result\n",
    "    except Exception as e:\n",
    "        print(f'Error reading {file_name}: {e}')\n",
    "        return None"
   ]
  },
  {
   "cell_type": "code",
   "execution_count": 7,
   "id": "fc17476b-6d6f-428d-8405-8f973442859d",
   "metadata": {
    "tags": []
   },
   "outputs": [
    {
     "name": "stderr",
     "output_type": "stream",
     "text": [
      "100% 868/868 [21:39<00:00,  1.50s/it]"
     ]
    },
    {
     "name": "stdout",
     "output_type": "stream",
     "text": [
      "CPU times: user 3min 28s, sys: 3min 48s, total: 7min 17s\n",
      "Wall time: 21min 39s\n"
     ]
    },
    {
     "name": "stderr",
     "output_type": "stream",
     "text": [
      "\n"
     ]
    }
   ],
   "source": [
    "%%time\n",
    "file_names= meta_data[\"pbmc_sample_id\"].tolist()\n",
    "h5_list = []\n",
    "with ThreadPoolExecutor(max_workers=60) as executor:\n",
    "    future_to_file = {executor.submit(load_file, file_name): file_name for file_name in file_names}\n",
    "    for future in tqdm(as_completed(future_to_file), total=len(file_names)):\n",
    "        result = future.result()\n",
    "        if result is not None:\n",
    "            h5_list.append(result)"
   ]
  },
  {
   "cell_type": "code",
   "execution_count": 14,
   "id": "1945000f-8fad-4fb6-b2c1-f472676928ed",
   "metadata": {
    "tags": []
   },
   "outputs": [],
   "source": [
    "def subset_adata(adata, celltype):\n",
    "    adata_subset = adata[adata.obs['AIFI_L3'] == celltype].copy()\n",
    "    return adata_subset"
   ]
  },
  {
   "cell_type": "code",
   "execution_count": 84,
   "id": "c5f9de02-8569-44b4-a418-9f8f94667d7a",
   "metadata": {
    "collapsed": true,
    "jupyter": {
     "outputs_hidden": true
    },
    "tags": []
   },
   "outputs": [
    {
     "name": "stdout",
     "output_type": "stream",
     "text": [
      "KLRF1- GZMB+ CD27- EM CD8 T cell\n"
     ]
    },
    {
     "name": "stderr",
     "output_type": "stream",
     "text": [
      "100% 868/868 [00:25<00:00, 34.18it/s]\n"
     ]
    },
    {
     "name": "stdout",
     "output_type": "stream",
     "text": [
      "KLRF1+ GZMB+ CD27- EM CD8 T cell\n"
     ]
    },
    {
     "name": "stderr",
     "output_type": "stream",
     "text": [
      "100% 868/868 [00:15<00:00, 54.72it/s] \n"
     ]
    },
    {
     "name": "stdout",
     "output_type": "stream",
     "text": [
      "GZMB- CD27- EM CD4 T cell\n"
     ]
    },
    {
     "name": "stderr",
     "output_type": "stream",
     "text": [
      "100% 868/868 [00:20<00:00, 42.62it/s]\n"
     ]
    },
    {
     "name": "stdout",
     "output_type": "stream",
     "text": [
      "Core naive B cell\n"
     ]
    },
    {
     "name": "stderr",
     "output_type": "stream",
     "text": [
      "100% 868/868 [00:23<00:00, 36.99it/s]\n"
     ]
    },
    {
     "name": "stdout",
     "output_type": "stream",
     "text": [
      "Core naive CD4 T cell\n"
     ]
    },
    {
     "name": "stderr",
     "output_type": "stream",
     "text": [
      "100% 868/868 [00:44<00:00, 19.38it/s]\n"
     ]
    },
    {
     "name": "stdout",
     "output_type": "stream",
     "text": [
      "CD27- effector B cell\n"
     ]
    },
    {
     "name": "stderr",
     "output_type": "stream",
     "text": [
      "100% 868/868 [00:15<00:00, 56.42it/s] \n"
     ]
    },
    {
     "name": "stdout",
     "output_type": "stream",
     "text": [
      "Core CD16 monocyte\n"
     ]
    },
    {
     "name": "stderr",
     "output_type": "stream",
     "text": [
      "100% 868/868 [00:19<00:00, 44.85it/s] \n"
     ]
    },
    {
     "name": "stdout",
     "output_type": "stream",
     "text": [
      "GZMK- CD56dim NK cell\n"
     ]
    },
    {
     "name": "stderr",
     "output_type": "stream",
     "text": [
      "100% 868/868 [00:19<00:00, 44.13it/s]\n"
     ]
    },
    {
     "name": "stdout",
     "output_type": "stream",
     "text": [
      "Core CD14 monocyte\n"
     ]
    },
    {
     "name": "stderr",
     "output_type": "stream",
     "text": [
      "100% 868/868 [00:26<00:00, 33.17it/s]\n"
     ]
    },
    {
     "name": "stdout",
     "output_type": "stream",
     "text": [
      "ISG+ CD16 monocyte\n"
     ]
    },
    {
     "name": "stderr",
     "output_type": "stream",
     "text": [
      "100% 868/868 [00:14<00:00, 59.58it/s] \n"
     ]
    },
    {
     "name": "stdout",
     "output_type": "stream",
     "text": [
      "Transitional B cell\n"
     ]
    },
    {
     "name": "stderr",
     "output_type": "stream",
     "text": [
      "100% 868/868 [00:12<00:00, 67.52it/s] \n"
     ]
    },
    {
     "name": "stdout",
     "output_type": "stream",
     "text": [
      "KLRF1- effector Vd1 gdT\n"
     ]
    },
    {
     "name": "stderr",
     "output_type": "stream",
     "text": [
      "100% 868/868 [00:12<00:00, 69.47it/s]  \n"
     ]
    },
    {
     "name": "stdout",
     "output_type": "stream",
     "text": [
      "Core naive CD8 T cell \n"
     ]
    },
    {
     "name": "stderr",
     "output_type": "stream",
     "text": [
      "100% 868/868 [00:20<00:00, 42.27it/s]\n"
     ]
    },
    {
     "name": "stdout",
     "output_type": "stream",
     "text": [
      "Memory CD4 Treg\n"
     ]
    },
    {
     "name": "stderr",
     "output_type": "stream",
     "text": [
      "100% 868/868 [00:14<00:00, 59.80it/s] \n"
     ]
    },
    {
     "name": "stdout",
     "output_type": "stream",
     "text": [
      "CM CD4 T cell\n"
     ]
    },
    {
     "name": "stderr",
     "output_type": "stream",
     "text": [
      "100% 868/868 [00:20<00:00, 41.92it/s]\n"
     ]
    },
    {
     "name": "stdout",
     "output_type": "stream",
     "text": [
      "Naive CD4 Treg\n"
     ]
    },
    {
     "name": "stderr",
     "output_type": "stream",
     "text": [
      "100% 868/868 [00:15<00:00, 54.77it/s] \n"
     ]
    },
    {
     "name": "stdout",
     "output_type": "stream",
     "text": [
      "KLRF1- GZMB+ CD27- memory CD4 T cell\n"
     ]
    },
    {
     "name": "stderr",
     "output_type": "stream",
     "text": [
      "100% 868/868 [00:14<00:00, 58.12it/s] \n"
     ]
    },
    {
     "name": "stdout",
     "output_type": "stream",
     "text": [
      "GZMK+ CD27+ EM CD8 T cell\n"
     ]
    },
    {
     "name": "stderr",
     "output_type": "stream",
     "text": [
      "100% 868/868 [00:17<00:00, 48.47it/s]\n"
     ]
    },
    {
     "name": "stdout",
     "output_type": "stream",
     "text": [
      "Core memory B cell\n"
     ]
    },
    {
     "name": "stderr",
     "output_type": "stream",
     "text": [
      "100% 868/868 [00:16<00:00, 54.19it/s] \n"
     ]
    },
    {
     "name": "stdout",
     "output_type": "stream",
     "text": [
      "HLA-DRhi cDC2\n"
     ]
    },
    {
     "name": "stderr",
     "output_type": "stream",
     "text": [
      "100% 868/868 [00:13<00:00, 65.11it/s] \n"
     ]
    },
    {
     "name": "stdout",
     "output_type": "stream",
     "text": [
      "CMP cell\n"
     ]
    },
    {
     "name": "stderr",
     "output_type": "stream",
     "text": [
      "100% 868/868 [00:09<00:00, 95.19it/s]  \n"
     ]
    },
    {
     "name": "stdout",
     "output_type": "stream",
     "text": [
      "Adaptive NK cell\n"
     ]
    },
    {
     "name": "stderr",
     "output_type": "stream",
     "text": [
      "100% 868/868 [00:14<00:00, 59.67it/s] \n"
     ]
    },
    {
     "name": "stdout",
     "output_type": "stream",
     "text": [
      "CD8aa\n"
     ]
    },
    {
     "name": "stderr",
     "output_type": "stream",
     "text": [
      "100% 868/868 [00:11<00:00, 73.59it/s] \n"
     ]
    },
    {
     "name": "stdout",
     "output_type": "stream",
     "text": [
      "ISG+ CD14 monocyte\n"
     ]
    },
    {
     "name": "stderr",
     "output_type": "stream",
     "text": [
      "100% 868/868 [00:18<00:00, 47.14it/s]\n"
     ]
    },
    {
     "name": "stdout",
     "output_type": "stream",
     "text": [
      "GZMB- CD27+ EM CD4 T cell\n"
     ]
    },
    {
     "name": "stderr",
     "output_type": "stream",
     "text": [
      "100% 868/868 [00:18<00:00, 45.91it/s] \n"
     ]
    },
    {
     "name": "stdout",
     "output_type": "stream",
     "text": [
      "GZMK+ CD56dim NK cell\n"
     ]
    },
    {
     "name": "stderr",
     "output_type": "stream",
     "text": [
      "100% 868/868 [00:16<00:00, 52.19it/s]\n"
     ]
    },
    {
     "name": "stdout",
     "output_type": "stream",
     "text": [
      "IL1B+ CD14 monocyte\n"
     ]
    },
    {
     "name": "stderr",
     "output_type": "stream",
     "text": [
      "100% 868/868 [00:12<00:00, 68.04it/s] \n"
     ]
    },
    {
     "name": "stdout",
     "output_type": "stream",
     "text": [
      "C1Q+ CD16 monocyte\n"
     ]
    },
    {
     "name": "stderr",
     "output_type": "stream",
     "text": [
      "100% 868/868 [00:12<00:00, 70.33it/s] \n"
     ]
    },
    {
     "name": "stdout",
     "output_type": "stream",
     "text": [
      "Platelet\n"
     ]
    },
    {
     "name": "stderr",
     "output_type": "stream",
     "text": [
      "100% 868/868 [00:13<00:00, 63.04it/s]  \n"
     ]
    },
    {
     "name": "stdout",
     "output_type": "stream",
     "text": [
      "CD8 MAIT\n"
     ]
    },
    {
     "name": "stderr",
     "output_type": "stream",
     "text": [
      "100% 868/868 [00:16<00:00, 52.74it/s] \n"
     ]
    },
    {
     "name": "stdout",
     "output_type": "stream",
     "text": [
      "DN T cell\n"
     ]
    },
    {
     "name": "stderr",
     "output_type": "stream",
     "text": [
      "100% 868/868 [00:11<00:00, 73.40it/s] \n"
     ]
    },
    {
     "name": "stdout",
     "output_type": "stream",
     "text": [
      "SOX4+ naive CD4 T cell\n"
     ]
    },
    {
     "name": "stderr",
     "output_type": "stream",
     "text": [
      "100% 868/868 [00:13<00:00, 62.50it/s] \n"
     ]
    },
    {
     "name": "stdout",
     "output_type": "stream",
     "text": [
      "CD27+ effector B cell\n"
     ]
    },
    {
     "name": "stderr",
     "output_type": "stream",
     "text": [
      "100% 868/868 [00:12<00:00, 68.31it/s]  \n"
     ]
    },
    {
     "name": "stdout",
     "output_type": "stream",
     "text": [
      "CD4 MAIT\n"
     ]
    },
    {
     "name": "stderr",
     "output_type": "stream",
     "text": [
      "100% 868/868 [00:12<00:00, 72.19it/s] \n"
     ]
    },
    {
     "name": "stdout",
     "output_type": "stream",
     "text": [
      "CD56bright NK cell\n"
     ]
    },
    {
     "name": "stderr",
     "output_type": "stream",
     "text": [
      "100% 868/868 [00:11<00:00, 75.74it/s] \n"
     ]
    },
    {
     "name": "stdout",
     "output_type": "stream",
     "text": [
      "CLP cell\n"
     ]
    },
    {
     "name": "stderr",
     "output_type": "stream",
     "text": [
      "100% 868/868 [00:11<00:00, 74.58it/s] \n"
     ]
    },
    {
     "name": "stdout",
     "output_type": "stream",
     "text": [
      "ISG+ naive B cell\n"
     ]
    },
    {
     "name": "stderr",
     "output_type": "stream",
     "text": [
      "100% 868/868 [00:12<00:00, 69.60it/s] \n"
     ]
    },
    {
     "name": "stdout",
     "output_type": "stream",
     "text": [
      "CM CD8 T cell\n"
     ]
    },
    {
     "name": "stderr",
     "output_type": "stream",
     "text": [
      "100% 868/868 [00:15<00:00, 56.82it/s] \n"
     ]
    },
    {
     "name": "stdout",
     "output_type": "stream",
     "text": [
      "GZMK- CD27+ EM CD8 T cell\n"
     ]
    },
    {
     "name": "stderr",
     "output_type": "stream",
     "text": [
      "100% 868/868 [00:14<00:00, 60.68it/s] \n"
     ]
    },
    {
     "name": "stdout",
     "output_type": "stream",
     "text": [
      "SOX4+ naive CD8 T cell\n"
     ]
    },
    {
     "name": "stderr",
     "output_type": "stream",
     "text": [
      "100% 868/868 [00:12<00:00, 71.81it/s]  \n"
     ]
    },
    {
     "name": "stdout",
     "output_type": "stream",
     "text": [
      "GZMK+ Vd2 gdT\n"
     ]
    },
    {
     "name": "stderr",
     "output_type": "stream",
     "text": [
      "100% 868/868 [00:14<00:00, 60.99it/s]\n"
     ]
    },
    {
     "name": "stdout",
     "output_type": "stream",
     "text": [
      "SOX4+ Vd1 gdT\n"
     ]
    },
    {
     "name": "stderr",
     "output_type": "stream",
     "text": [
      "100% 868/868 [00:08<00:00, 98.62it/s]  \n"
     ]
    },
    {
     "name": "stdout",
     "output_type": "stream",
     "text": [
      "CD95 memory B cell\n"
     ]
    },
    {
     "name": "stderr",
     "output_type": "stream",
     "text": [
      "100% 868/868 [00:10<00:00, 85.72it/s]  \n"
     ]
    },
    {
     "name": "stdout",
     "output_type": "stream",
     "text": [
      "ISG+ naive CD4 T cell\n"
     ]
    },
    {
     "name": "stderr",
     "output_type": "stream",
     "text": [
      "100% 868/868 [00:12<00:00, 68.35it/s] \n"
     ]
    },
    {
     "name": "stdout",
     "output_type": "stream",
     "text": [
      "pDC\n"
     ]
    },
    {
     "name": "stderr",
     "output_type": "stream",
     "text": [
      "100% 868/868 [00:13<00:00, 66.18it/s]  \n"
     ]
    },
    {
     "name": "stdout",
     "output_type": "stream",
     "text": [
      "CD14+ cDC2\n"
     ]
    },
    {
     "name": "stderr",
     "output_type": "stream",
     "text": [
      "100% 868/868 [00:13<00:00, 62.06it/s] \n"
     ]
    },
    {
     "name": "stdout",
     "output_type": "stream",
     "text": [
      "ISG+ memory CD4 T cell\n"
     ]
    },
    {
     "name": "stderr",
     "output_type": "stream",
     "text": [
      "100% 868/868 [00:10<00:00, 86.76it/s]  \n"
     ]
    },
    {
     "name": "stdout",
     "output_type": "stream",
     "text": [
      "ASDC\n"
     ]
    },
    {
     "name": "stderr",
     "output_type": "stream",
     "text": [
      "100% 868/868 [00:08<00:00, 96.54it/s]  \n"
     ]
    },
    {
     "name": "stdout",
     "output_type": "stream",
     "text": [
      "Plasma cell\n"
     ]
    },
    {
     "name": "stderr",
     "output_type": "stream",
     "text": [
      "100% 868/868 [00:12<00:00, 69.68it/s] \n"
     ]
    },
    {
     "name": "stdout",
     "output_type": "stream",
     "text": [
      "Erythrocyte\n"
     ]
    },
    {
     "name": "stderr",
     "output_type": "stream",
     "text": [
      "100% 868/868 [00:12<00:00, 69.25it/s]  \n"
     ]
    },
    {
     "name": "stdout",
     "output_type": "stream",
     "text": [
      "KLRF1+ effector Vd1 gdT\n"
     ]
    },
    {
     "name": "stderr",
     "output_type": "stream",
     "text": [
      "100% 868/868 [00:12<00:00, 71.91it/s] \n"
     ]
    },
    {
     "name": "stdout",
     "output_type": "stream",
     "text": [
      "ISG+ cDC2\n"
     ]
    },
    {
     "name": "stderr",
     "output_type": "stream",
     "text": [
      "100% 868/868 [00:12<00:00, 72.31it/s] \n"
     ]
    },
    {
     "name": "stdout",
     "output_type": "stream",
     "text": [
      "Type 2 polarized memory B cell\n"
     ]
    },
    {
     "name": "stderr",
     "output_type": "stream",
     "text": [
      "100% 868/868 [00:10<00:00, 85.42it/s]  \n"
     ]
    },
    {
     "name": "stdout",
     "output_type": "stream",
     "text": [
      "KLRB1+ memory CD8 Treg\n"
     ]
    },
    {
     "name": "stderr",
     "output_type": "stream",
     "text": [
      "100% 868/868 [00:08<00:00, 98.35it/s] \n"
     ]
    },
    {
     "name": "stdout",
     "output_type": "stream",
     "text": [
      "GZMB+ Vd2 gdT\n"
     ]
    },
    {
     "name": "stderr",
     "output_type": "stream",
     "text": [
      "100% 868/868 [00:13<00:00, 62.38it/s]  \n"
     ]
    },
    {
     "name": "stdout",
     "output_type": "stream",
     "text": [
      "Intermediate monocyte\n"
     ]
    },
    {
     "name": "stderr",
     "output_type": "stream",
     "text": [
      "100% 868/868 [00:15<00:00, 55.67it/s] \n"
     ]
    },
    {
     "name": "stdout",
     "output_type": "stream",
     "text": [
      "Proliferating T cell\n"
     ]
    },
    {
     "name": "stderr",
     "output_type": "stream",
     "text": [
      "100% 868/868 [00:12<00:00, 70.30it/s]  \n"
     ]
    },
    {
     "name": "stdout",
     "output_type": "stream",
     "text": [
      "KLRB1+ memory CD4 Treg\n"
     ]
    },
    {
     "name": "stderr",
     "output_type": "stream",
     "text": [
      "100% 868/868 [00:11<00:00, 73.02it/s]  \n"
     ]
    },
    {
     "name": "stdout",
     "output_type": "stream",
     "text": [
      "Early memory B cell\n"
     ]
    },
    {
     "name": "stderr",
     "output_type": "stream",
     "text": [
      "100% 868/868 [00:05<00:00, 164.51it/s] \n"
     ]
    },
    {
     "name": "stdout",
     "output_type": "stream",
     "text": [
      "Activated memory B cell\n"
     ]
    },
    {
     "name": "stderr",
     "output_type": "stream",
     "text": [
      "100% 868/868 [00:12<00:00, 69.66it/s] \n"
     ]
    },
    {
     "name": "stdout",
     "output_type": "stream",
     "text": [
      "ISG+ CD56dim NK cell\n"
     ]
    },
    {
     "name": "stderr",
     "output_type": "stream",
     "text": [
      "100% 868/868 [00:09<00:00, 90.63it/s] \n"
     ]
    },
    {
     "name": "stdout",
     "output_type": "stream",
     "text": [
      "ISG+ naive CD8 T cell\n"
     ]
    },
    {
     "name": "stderr",
     "output_type": "stream",
     "text": [
      "100% 868/868 [00:08<00:00, 101.78it/s] \n"
     ]
    },
    {
     "name": "stdout",
     "output_type": "stream",
     "text": [
      "Naive Vd1 gdT\n"
     ]
    },
    {
     "name": "stderr",
     "output_type": "stream",
     "text": [
      "100% 868/868 [00:00<00:00, 30720.50it/s]\n"
     ]
    },
    {
     "name": "stdout",
     "output_type": "stream",
     "text": [
      "cDC1\n"
     ]
    },
    {
     "name": "stderr",
     "output_type": "stream",
     "text": [
      "100% 868/868 [00:03<00:00, 238.46it/s] \n"
     ]
    },
    {
     "name": "stdout",
     "output_type": "stream",
     "text": [
      "Proliferating NK cell\n"
     ]
    },
    {
     "name": "stderr",
     "output_type": "stream",
     "text": [
      "100% 868/868 [00:09<00:00, 88.42it/s]  \n"
     ]
    },
    {
     "name": "stdout",
     "output_type": "stream",
     "text": [
      "ILC\n"
     ]
    },
    {
     "name": "stderr",
     "output_type": "stream",
     "text": [
      "100% 868/868 [00:05<00:00, 172.18it/s] \n"
     ]
    },
    {
     "name": "stdout",
     "output_type": "stream",
     "text": [
      "ISG+ memory CD8 T cell\n"
     ]
    },
    {
     "name": "stderr",
     "output_type": "stream",
     "text": [
      "100% 868/868 [00:09<00:00, 92.07it/s]  \n"
     ]
    },
    {
     "name": "stdout",
     "output_type": "stream",
     "text": [
      "BaEoMaP cell\n"
     ]
    },
    {
     "name": "stderr",
     "output_type": "stream",
     "text": [
      "100% 868/868 [00:07<00:00, 116.16it/s] \n"
     ]
    },
    {
     "name": "stdout",
     "output_type": "stream",
     "text": [
      "ISG+ MAIT\n"
     ]
    },
    {
     "name": "stderr",
     "output_type": "stream",
     "text": [
      "100% 868/868 [00:08<00:00, 103.53it/s]\n"
     ]
    },
    {
     "name": "stdout",
     "output_type": "stream",
     "text": [
      "Memory CD8 Treg\n"
     ]
    },
    {
     "name": "stderr",
     "output_type": "stream",
     "text": [
      "100% 868/868 [00:08<00:00, 101.09it/s] \n"
     ]
    },
    {
     "name": "stdout",
     "output_type": "stream",
     "text": [
      "GZMK+ memory CD4 Treg\n"
     ]
    },
    {
     "name": "stderr",
     "output_type": "stream",
     "text": [
      "100% 868/868 [00:09<00:00, 86.80it/s] \n"
     ]
    }
   ],
   "source": [
    "if h5_list[26].obs['AIFI_L3'].nunique() == 71:\n",
    "    for i in range(0,71):\n",
    "        celltypes_to_process = [h5_list[26].obs['AIFI_L3'].unique()[i]]\n",
    "        adata_list = []\n",
    "        print(celltypes_to_process[0])\n",
    "\n",
    "        with ThreadPoolExecutor(max_workers=60) as executor:\n",
    "            future_to_adata = {executor.submit(subset_adata, adata_file, celltype): adata_file for celltype in celltypes_to_process for adata_file in h5_list}\n",
    "            for future in tqdm(as_completed(future_to_adata), total=len(future_to_adata)):\n",
    "                result = future.result()\n",
    "                if result is not None:\n",
    "                    adata_list.append(result)\n",
    "        combined= anndata.concat(adata_list)\n",
    "        combined.write_h5ad('h5_by_celltype/'+celltypes_to_process[0]+'.h5ad')"
   ]
  },
  {
   "cell_type": "markdown",
   "id": "d8c98bef-dde0-4c7c-85c4-7e6ca439564a",
   "metadata": {},
   "source": [
    "# Clustering"
   ]
  },
  {
   "cell_type": "code",
   "execution_count": 5,
   "id": "3b324e1d-42b1-4a4e-b40b-b04825a9e179",
   "metadata": {
    "tags": []
   },
   "outputs": [
    {
     "name": "stdout",
     "output_type": "stream",
     "text": [
      "['cDC1.h5ad', 'KLRF1- effector Vd1 gdT.h5ad', 'ISG+ CD16 monocyte.h5ad', 'CD14+ cDC2.h5ad', 'HLA-DRhi cDC2.h5ad', 'GZMK+ Vd2 gdT.h5ad', 'CD8aa.h5ad', 'GZMK+ CD56dim NK cell.h5ad', 'C1Q+ CD16 monocyte.h5ad', 'CD95 memory B cell.h5ad', 'GZMK- CD27+ EM CD8 T cell.h5ad', 'KLRF1+ GZMB+ CD27- EM CD8 T cell.h5ad', 'GZMK- CD56dim NK cell.h5ad', 'Memory CD8 Treg.h5ad', 'Proliferating NK cell.h5ad', 'CD4 MAIT.h5ad', 'Intermediate monocyte.h5ad', 'CMP cell.h5ad', 'SOX4+ Vd1 gdT.h5ad', 'KLRB1+ memory CD8 Treg.h5ad', 'pDC.h5ad', 'Erythrocyte.h5ad', 'Core CD14 monocyte.h5ad', 'GZMB+ Vd2 gdT.h5ad', 'Platelet.h5ad', 'ILC.h5ad', 'GZMB- CD27+ EM CD4 T cell.h5ad', 'GZMK+ memory CD4 Treg.h5ad', 'Transitional B cell.h5ad', 'CD56bright NK cell.h5ad', 'Core memory B cell.h5ad', 'KLRB1+ memory CD4 Treg.h5ad', 'CM CD4 T cell.h5ad', 'GZMK+ CD27+ EM CD8 T cell.h5ad', 'Activated memory B cell.h5ad', 'IL1B+ CD14 monocyte.h5ad', 'SOX4+ naive CD4 T cell.h5ad', 'BaEoMaP cell.h5ad', 'KLRF1+ effector Vd1 gdT.h5ad', 'CD27- effector B cell.h5ad', 'ISG+ CD56dim NK cell.h5ad', 'ISG+ naive CD8 T cell.h5ad', 'ISG+ CD14 monocyte.h5ad', 'ISG+ naive B cell.h5ad', 'CD8 MAIT.h5ad', 'CM CD8 T cell.h5ad', 'Core CD16 monocyte.h5ad', 'Core naive CD8 T cell .h5ad', 'ISG+ naive CD4 T cell.h5ad', 'Proliferating T cell.h5ad', 'Plasma cell.h5ad', 'CD27+ effector B cell.h5ad', 'SOX4+ naive CD8 T cell.h5ad', 'Core naive CD4 T cell.h5ad', 'ISG+ memory CD8 T cell.h5ad', 'Naive Vd1 gdT.h5ad', 'Core naive B cell.h5ad', 'CLP cell.h5ad', 'KLRF1- GZMB+ CD27- EM CD8 T cell.h5ad', 'Naive CD4 Treg.h5ad', 'KLRF1- GZMB+ CD27- memory CD4 T cell.h5ad', 'Early memory B cell.h5ad', 'GZMB- CD27- EM CD4 T cell.h5ad', 'ISG+ memory CD4 T cell.h5ad', 'ISG+ MAIT.h5ad', 'Memory CD4 Treg.h5ad', 'Adaptive NK cell.h5ad', 'ISG+ cDC2.h5ad', 'Type 2 polarized memory B cell.h5ad', 'DN T cell.h5ad', 'ASDC.h5ad']\n"
     ]
    }
   ],
   "source": [
    "import os\n",
    "\n",
    "def list_files(directory):\n",
    "    try:\n",
    "        files = os.listdir(directory)\n",
    "        return files\n",
    "    except Exception as e:\n",
    "        return str(e)\n",
    "\n",
    "directory_path = 'h5_by_celltype/'\n",
    "files = list_files(directory_path)\n",
    "print(files)"
   ]
  },
  {
   "cell_type": "code",
   "execution_count": 23,
   "id": "991abf10-f4d8-4d46-acef-0f5f5be83b00",
   "metadata": {
    "tags": []
   },
   "outputs": [],
   "source": [
    "def clustering(input_h5ad_path):\n",
    "        adata = sc.read_h5ad('h5_by_celltype/'+input_h5ad_path)\n",
    "        output_file = 'h5_by_celltype_clustered/'+adata.obs['AIFI_L3'][0]+'.h5ad'\n",
    "        if os.path.exists(output_file) and os.path.getsize(output_file) > 0:\n",
    "            print(f\"File {output_file} already exists and is not empty. Skipping processing.\")\n",
    "            return \n",
    "        print(\"Start Processing: \" +adata.obs['AIFI_L3'][0] )\n",
    "        sc.pp.normalize_total(adata, target_sum=1e4)\n",
    "        sc.pp.log1p(adata)\n",
    "        sc.pp.highly_variable_genes(adata)\n",
    "        adata.raw = adata\n",
    "        adata = adata[:, adata.var.highly_variable]\n",
    "        sc.pp.scale(adata, max_value=10)\n",
    "        sc.tl.pca(adata, svd_solver='arpack')\n",
    "        sc.pp.neighbors(adata, n_neighbors=50, n_pcs=30)\n",
    "        sc.tl.umap(adata)\n",
    "        print(\"Start Clustering: \" +adata.obs['AIFI_L3'][0] )\n",
    "        sc.tl.leiden(adata)\n",
    "        adata.write_h5ad('h5_by_celltype_clustered/'+adata.obs['AIFI_L3'][0]+'.h5ad')\n",
    "        del adata\n",
    "        gc.collect()"
   ]
  },
  {
   "cell_type": "code",
   "execution_count": null,
   "id": "e50de8b0-5835-4573-bf4b-0a21dd4ca54b",
   "metadata": {
    "tags": []
   },
   "outputs": [
    {
     "name": "stderr",
     "output_type": "stream",
     "text": [
      "/tmp/ipykernel_709/887341889.py:3: FutureWarning: Series.__getitem__ treating keys as positions is deprecated. In a future version, integer keys will always be treated as labels (consistent with DataFrame behavior). To access a value by position, use `ser.iloc[pos]`\n",
      "  output_file = 'h5_by_celltype_clustered/'+adata.obs['AIFI_L3'][0]+'.h5ad'\n"
     ]
    },
    {
     "name": "stdout",
     "output_type": "stream",
     "text": [
      "File h5_by_celltype_clustered/cDC1.h5ad already exists and is not empty. Skipping processing.\n"
     ]
    },
    {
     "name": "stderr",
     "output_type": "stream",
     "text": [
      "/tmp/ipykernel_709/887341889.py:3: FutureWarning: Series.__getitem__ treating keys as positions is deprecated. In a future version, integer keys will always be treated as labels (consistent with DataFrame behavior). To access a value by position, use `ser.iloc[pos]`\n",
      "  output_file = 'h5_by_celltype_clustered/'+adata.obs['AIFI_L3'][0]+'.h5ad'\n"
     ]
    },
    {
     "name": "stdout",
     "output_type": "stream",
     "text": [
      "File h5_by_celltype_clustered/KLRF1- effector Vd1 gdT.h5ad already exists and is not empty. Skipping processing.\n"
     ]
    },
    {
     "name": "stderr",
     "output_type": "stream",
     "text": [
      "/tmp/ipykernel_709/887341889.py:3: FutureWarning: Series.__getitem__ treating keys as positions is deprecated. In a future version, integer keys will always be treated as labels (consistent with DataFrame behavior). To access a value by position, use `ser.iloc[pos]`\n",
      "  output_file = 'h5_by_celltype_clustered/'+adata.obs['AIFI_L3'][0]+'.h5ad'\n"
     ]
    },
    {
     "name": "stdout",
     "output_type": "stream",
     "text": [
      "File h5_by_celltype_clustered/CD8aa.h5ad already exists and is not empty. Skipping processing.\n"
     ]
    },
    {
     "name": "stderr",
     "output_type": "stream",
     "text": [
      "/tmp/ipykernel_709/887341889.py:3: FutureWarning: Series.__getitem__ treating keys as positions is deprecated. In a future version, integer keys will always be treated as labels (consistent with DataFrame behavior). To access a value by position, use `ser.iloc[pos]`\n",
      "  output_file = 'h5_by_celltype_clustered/'+adata.obs['AIFI_L3'][0]+'.h5ad'\n"
     ]
    },
    {
     "name": "stdout",
     "output_type": "stream",
     "text": [
      "File h5_by_celltype_clustered/ISG+ CD16 monocyte.h5ad already exists and is not empty. Skipping processing.\n"
     ]
    },
    {
     "name": "stderr",
     "output_type": "stream",
     "text": [
      "/tmp/ipykernel_709/887341889.py:3: FutureWarning: Series.__getitem__ treating keys as positions is deprecated. In a future version, integer keys will always be treated as labels (consistent with DataFrame behavior). To access a value by position, use `ser.iloc[pos]`\n",
      "  output_file = 'h5_by_celltype_clustered/'+adata.obs['AIFI_L3'][0]+'.h5ad'\n"
     ]
    },
    {
     "name": "stdout",
     "output_type": "stream",
     "text": [
      "File h5_by_celltype_clustered/CD14+ cDC2.h5ad already exists and is not empty. Skipping processing.\n"
     ]
    },
    {
     "name": "stderr",
     "output_type": "stream",
     "text": [
      "/tmp/ipykernel_709/887341889.py:3: FutureWarning: Series.__getitem__ treating keys as positions is deprecated. In a future version, integer keys will always be treated as labels (consistent with DataFrame behavior). To access a value by position, use `ser.iloc[pos]`\n",
      "  output_file = 'h5_by_celltype_clustered/'+adata.obs['AIFI_L3'][0]+'.h5ad'\n"
     ]
    },
    {
     "name": "stdout",
     "output_type": "stream",
     "text": [
      "File h5_by_celltype_clustered/GZMK+ Vd2 gdT.h5ad already exists and is not empty. Skipping processing.\n"
     ]
    },
    {
     "name": "stderr",
     "output_type": "stream",
     "text": [
      "/tmp/ipykernel_709/887341889.py:3: FutureWarning: Series.__getitem__ treating keys as positions is deprecated. In a future version, integer keys will always be treated as labels (consistent with DataFrame behavior). To access a value by position, use `ser.iloc[pos]`\n",
      "  output_file = 'h5_by_celltype_clustered/'+adata.obs['AIFI_L3'][0]+'.h5ad'\n"
     ]
    },
    {
     "name": "stdout",
     "output_type": "stream",
     "text": [
      "File h5_by_celltype_clustered/HLA-DRhi cDC2.h5ad already exists and is not empty. Skipping processing.\n"
     ]
    },
    {
     "name": "stderr",
     "output_type": "stream",
     "text": [
      "/tmp/ipykernel_709/887341889.py:3: FutureWarning: Series.__getitem__ treating keys as positions is deprecated. In a future version, integer keys will always be treated as labels (consistent with DataFrame behavior). To access a value by position, use `ser.iloc[pos]`\n",
      "  output_file = 'h5_by_celltype_clustered/'+adata.obs['AIFI_L3'][0]+'.h5ad'\n"
     ]
    },
    {
     "name": "stdout",
     "output_type": "stream",
     "text": [
      "File h5_by_celltype_clustered/GZMK+ CD56dim NK cell.h5ad already exists and is not empty. Skipping processing.\n"
     ]
    },
    {
     "name": "stderr",
     "output_type": "stream",
     "text": [
      "/tmp/ipykernel_709/887341889.py:3: FutureWarning: Series.__getitem__ treating keys as positions is deprecated. In a future version, integer keys will always be treated as labels (consistent with DataFrame behavior). To access a value by position, use `ser.iloc[pos]`\n",
      "  output_file = 'h5_by_celltype_clustered/'+adata.obs['AIFI_L3'][0]+'.h5ad'\n"
     ]
    },
    {
     "name": "stdout",
     "output_type": "stream",
     "text": [
      "File h5_by_celltype_clustered/CD95 memory B cell.h5ad already exists and is not empty. Skipping processing.\n"
     ]
    },
    {
     "name": "stderr",
     "output_type": "stream",
     "text": [
      "/tmp/ipykernel_709/887341889.py:3: FutureWarning: Series.__getitem__ treating keys as positions is deprecated. In a future version, integer keys will always be treated as labels (consistent with DataFrame behavior). To access a value by position, use `ser.iloc[pos]`\n",
      "  output_file = 'h5_by_celltype_clustered/'+adata.obs['AIFI_L3'][0]+'.h5ad'\n"
     ]
    },
    {
     "name": "stdout",
     "output_type": "stream",
     "text": [
      "File h5_by_celltype_clustered/Memory CD8 Treg.h5ad already exists and is not empty. Skipping processing.\n"
     ]
    },
    {
     "name": "stderr",
     "output_type": "stream",
     "text": [
      "/tmp/ipykernel_709/887341889.py:3: FutureWarning: Series.__getitem__ treating keys as positions is deprecated. In a future version, integer keys will always be treated as labels (consistent with DataFrame behavior). To access a value by position, use `ser.iloc[pos]`\n",
      "  output_file = 'h5_by_celltype_clustered/'+adata.obs['AIFI_L3'][0]+'.h5ad'\n"
     ]
    },
    {
     "name": "stdout",
     "output_type": "stream",
     "text": [
      "File h5_by_celltype_clustered/C1Q+ CD16 monocyte.h5ad already exists and is not empty. Skipping processing.\n"
     ]
    },
    {
     "name": "stderr",
     "output_type": "stream",
     "text": [
      "/tmp/ipykernel_709/887341889.py:3: FutureWarning: Series.__getitem__ treating keys as positions is deprecated. In a future version, integer keys will always be treated as labels (consistent with DataFrame behavior). To access a value by position, use `ser.iloc[pos]`\n",
      "  output_file = 'h5_by_celltype_clustered/'+adata.obs['AIFI_L3'][0]+'.h5ad'\n"
     ]
    },
    {
     "name": "stdout",
     "output_type": "stream",
     "text": [
      "File h5_by_celltype_clustered/Proliferating NK cell.h5ad already exists and is not empty. Skipping processing.\n"
     ]
    },
    {
     "name": "stderr",
     "output_type": "stream",
     "text": [
      "/tmp/ipykernel_709/887341889.py:3: FutureWarning: Series.__getitem__ treating keys as positions is deprecated. In a future version, integer keys will always be treated as labels (consistent with DataFrame behavior). To access a value by position, use `ser.iloc[pos]`\n",
      "  output_file = 'h5_by_celltype_clustered/'+adata.obs['AIFI_L3'][0]+'.h5ad'\n"
     ]
    },
    {
     "name": "stdout",
     "output_type": "stream",
     "text": [
      "File h5_by_celltype_clustered/GZMK- CD27+ EM CD8 T cell.h5ad already exists and is not empty. Skipping processing.\n"
     ]
    },
    {
     "name": "stderr",
     "output_type": "stream",
     "text": [
      "/tmp/ipykernel_709/887341889.py:3: FutureWarning: Series.__getitem__ treating keys as positions is deprecated. In a future version, integer keys will always be treated as labels (consistent with DataFrame behavior). To access a value by position, use `ser.iloc[pos]`\n",
      "  output_file = 'h5_by_celltype_clustered/'+adata.obs['AIFI_L3'][0]+'.h5ad'\n"
     ]
    },
    {
     "name": "stdout",
     "output_type": "stream",
     "text": [
      "File h5_by_celltype_clustered/CD4 MAIT.h5ad already exists and is not empty. Skipping processing.\n"
     ]
    },
    {
     "name": "stderr",
     "output_type": "stream",
     "text": [
      "/tmp/ipykernel_709/887341889.py:3: FutureWarning: Series.__getitem__ treating keys as positions is deprecated. In a future version, integer keys will always be treated as labels (consistent with DataFrame behavior). To access a value by position, use `ser.iloc[pos]`\n",
      "  output_file = 'h5_by_celltype_clustered/'+adata.obs['AIFI_L3'][0]+'.h5ad'\n"
     ]
    },
    {
     "name": "stdout",
     "output_type": "stream",
     "text": [
      "File h5_by_celltype_clustered/SOX4+ Vd1 gdT.h5ad already exists and is not empty. Skipping processing.\n"
     ]
    },
    {
     "name": "stderr",
     "output_type": "stream",
     "text": [
      "/tmp/ipykernel_709/887341889.py:3: FutureWarning: Series.__getitem__ treating keys as positions is deprecated. In a future version, integer keys will always be treated as labels (consistent with DataFrame behavior). To access a value by position, use `ser.iloc[pos]`\n",
      "  output_file = 'h5_by_celltype_clustered/'+adata.obs['AIFI_L3'][0]+'.h5ad'\n"
     ]
    },
    {
     "name": "stdout",
     "output_type": "stream",
     "text": [
      "File h5_by_celltype_clustered/CMP cell.h5ad already exists and is not empty. Skipping processing.\n"
     ]
    },
    {
     "name": "stderr",
     "output_type": "stream",
     "text": [
      "/tmp/ipykernel_709/887341889.py:3: FutureWarning: Series.__getitem__ treating keys as positions is deprecated. In a future version, integer keys will always be treated as labels (consistent with DataFrame behavior). To access a value by position, use `ser.iloc[pos]`\n",
      "  output_file = 'h5_by_celltype_clustered/'+adata.obs['AIFI_L3'][0]+'.h5ad'\n"
     ]
    },
    {
     "name": "stdout",
     "output_type": "stream",
     "text": [
      "File h5_by_celltype_clustered/KLRB1+ memory CD8 Treg.h5ad already exists and is not empty. Skipping processing.\n"
     ]
    },
    {
     "name": "stderr",
     "output_type": "stream",
     "text": [
      "/tmp/ipykernel_709/887341889.py:3: FutureWarning: Series.__getitem__ treating keys as positions is deprecated. In a future version, integer keys will always be treated as labels (consistent with DataFrame behavior). To access a value by position, use `ser.iloc[pos]`\n",
      "  output_file = 'h5_by_celltype_clustered/'+adata.obs['AIFI_L3'][0]+'.h5ad'\n"
     ]
    },
    {
     "name": "stdout",
     "output_type": "stream",
     "text": [
      "File h5_by_celltype_clustered/Erythrocyte.h5ad already exists and is not empty. Skipping processing.\n"
     ]
    }
   ],
   "source": [
    "input_h5ad_paths =files\n",
    "with concurrent.futures.ProcessPoolExecutor(max_workers=5) as executor:\n",
    "    executor.map(clustering, input_h5ad_paths)"
   ]
  },
  {
   "cell_type": "code",
   "execution_count": null,
   "id": "2c5814dc-370b-457f-b419-d42d016484e1",
   "metadata": {
    "tags": []
   },
   "outputs": [],
   "source": [
    "clustering"
   ]
  },
  {
   "cell_type": "code",
   "execution_count": null,
   "id": "c38705de-56e8-4235-b317-0b4c200085e7",
   "metadata": {},
   "outputs": [],
   "source": []
  }
 ],
 "metadata": {
  "kernelspec": {
   "display_name": "Python [conda env:root] *",
   "language": "python",
   "name": "conda-root-py"
  },
  "language_info": {
   "codemirror_mode": {
    "name": "ipython",
    "version": 3
   },
   "file_extension": ".py",
   "mimetype": "text/x-python",
   "name": "python",
   "nbconvert_exporter": "python",
   "pygments_lexer": "ipython3",
   "version": "3.10.12"
  }
 },
 "nbformat": 4,
 "nbformat_minor": 5
}
