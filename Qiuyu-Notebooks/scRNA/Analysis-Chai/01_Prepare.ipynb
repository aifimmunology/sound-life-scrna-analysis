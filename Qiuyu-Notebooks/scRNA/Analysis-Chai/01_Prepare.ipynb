{
 "cells": [
  {
   "cell_type": "code",
   "execution_count": 1,
   "id": "16979973-188d-428a-aa0d-f0b833f67b17",
   "metadata": {
    "tags": []
   },
   "outputs": [
    {
     "name": "stderr",
     "output_type": "stream",
     "text": [
      "\n",
      "Attaching package: ‘dplyr’\n",
      "\n",
      "\n",
      "The following objects are masked from ‘package:data.table’:\n",
      "\n",
      "    between, first, last\n",
      "\n",
      "\n",
      "The following objects are masked from ‘package:stats’:\n",
      "\n",
      "    filter, lag\n",
      "\n",
      "\n",
      "The following objects are masked from ‘package:base’:\n",
      "\n",
      "    intersect, setdiff, setequal, union\n",
      "\n",
      "\n"
     ]
    }
   ],
   "source": [
    "library(ChAI)\n",
    "library(tidyr)\n",
    "library(data.table)\n",
    "library(dplyr)\n",
    "library(parallel)"
   ]
  },
  {
   "cell_type": "markdown",
   "id": "e4f73ca3-ebb9-4516-8825-659526f3ac2a",
   "metadata": {},
   "source": [
    "# Olink"
   ]
  },
  {
   "cell_type": "code",
   "execution_count": 2,
   "id": "8e6ccf16-4dd2-4160-8de3-dfd968366cb9",
   "metadata": {
    "tags": []
   },
   "outputs": [],
   "source": [
    "meta_data<-read.csv('/home//jupyter/BRI_Analysis/scRNA/hise_meta_data_2024-01-23_fixed.csv')%>% filter(sample.visitName=='Flu Year 1 Day 0')"
   ]
  },
  {
   "cell_type": "code",
   "execution_count": 3,
   "id": "4818655e-671e-4d48-8074-2c010c9bac7d",
   "metadata": {
    "tags": []
   },
   "outputs": [],
   "source": [
    "sample_kit_id<-meta_data  %>% select(sample.sampleKitGuid) %>% pull()"
   ]
  },
  {
   "cell_type": "code",
   "execution_count": 4,
   "id": "733cb86d-6063-44c7-b00f-91886b41ed82",
   "metadata": {
    "tags": []
   },
   "outputs": [],
   "source": [
    "Olink<-read.csv('/home/jupyter/BRI_Analysis/Olink/Cross-Sectional/Olink.csv')\n",
    "Olink<-Olink[c('sample.sampleKitGuid','NPX_bridged','Assay')] %>% filter(sample.sampleKitGuid %in% sample_kit_id)"
   ]
  },
  {
   "cell_type": "code",
   "execution_count": 5,
   "id": "76400540-21dd-4528-8fac-2baed40b39d3",
   "metadata": {
    "tags": []
   },
   "outputs": [],
   "source": [
    "meta_data_olink<-meta_data %>% select (sample.sampleKitGuid,CMV.IgG.Serology.Result.Interpretation,\n",
    "                                                                                     cohort.cohortGuid,subject.subjectGuid,subject.biologicalSex)"
   ]
  },
  {
   "cell_type": "code",
   "execution_count": 6,
   "id": "53f7e019-3d03-4012-accf-9ac0893e59eb",
   "metadata": {
    "tags": []
   },
   "outputs": [],
   "source": [
    "colnames(meta_data_olink)[1]<-'Sample'"
   ]
  },
  {
   "cell_type": "code",
   "execution_count": 7,
   "id": "8cb2c9ea-ebe9-40f8-b480-6fe6384e05ef",
   "metadata": {
    "tags": []
   },
   "outputs": [],
   "source": [
    "Olink_wide<-as.data.frame(Olink%>%  pivot_wider(names_from = sample.sampleKitGuid, values_from = NPX_bridged))\n",
    "rownames(Olink_wide)<-Olink_wide$Assay"
   ]
  },
  {
   "cell_type": "code",
   "execution_count": 8,
   "id": "846be28a-89ec-4efd-bf9d-a464cac2764f",
   "metadata": {
    "tags": []
   },
   "outputs": [],
   "source": [
    "Olink_wide$Assay<-NULL"
   ]
  },
  {
   "cell_type": "code",
   "execution_count": 9,
   "id": "8ea606df-511d-4e46-92a0-359946aae59d",
   "metadata": {
    "tags": []
   },
   "outputs": [],
   "source": [
    "Olink<-importGeneralModality(Olink_wide, meta_data_olink, sampleColumn = \"Sample\")\n"
   ]
  },
  {
   "cell_type": "code",
   "execution_count": 10,
   "id": "7f6828b9-2e6b-4f47-8a90-a059eb054555",
   "metadata": {
    "tags": []
   },
   "outputs": [],
   "source": [
    "saveRDS(Olink,'Olink.RDS')"
   ]
  },
  {
   "cell_type": "markdown",
   "id": "5b3ae49f-2602-4313-92c0-1f84bb6d05eb",
   "metadata": {},
   "source": [
    "# RNA"
   ]
  },
  {
   "cell_type": "code",
   "execution_count": 11,
   "id": "dbc606fd-0bf0-4c9c-935d-7156fd96b6b9",
   "metadata": {
    "tags": []
   },
   "outputs": [],
   "source": [
    "pbmc_list<-mclapply(meta_data$pbmc_sample_id,function(x){\n",
    "\n",
    "pbmc <-sceasy::convertFormat(paste0('/home/jupyter/BRI_Analysis/scRNA/h5_cleaned_by_sample/',x,'.h5ad'), from=\"anndata\", to=\"seurat\")\n",
    "\n",
    "return(pbmc)\n",
    "},mc.cores=60)"
   ]
  },
  {
   "cell_type": "code",
   "execution_count": 12,
   "id": "e6d584e9-1623-4a59-9f25-654124bb80d7",
   "metadata": {
    "tags": []
   },
   "outputs": [
    {
     "name": "stderr",
     "output_type": "stream",
     "text": [
      "Loading required package: SeuratObject\n",
      "\n",
      "Loading required package: sp\n",
      "\n",
      "The legacy packages maptools, rgdal, and rgeos, underpinning the sp package,\n",
      "which was just loaded, will retire in October 2023.\n",
      "Please refer to R-spatial evolution reports for details, especially\n",
      "https://r-spatial.org/r/2023/05/15/evolution4.html.\n",
      "It may be desirable to make the sf package available;\n",
      "package maintainers should consider adding sf to Suggests:.\n",
      "The sp package is now running under evolution status 2\n",
      "     (status 2 uses the sf package in place of rgdal)\n",
      "\n"
     ]
    }
   ],
   "source": [
    "AIFI_L3<-pull(unique(pbmc_list[[1]][[]]['AIFI_L3']))"
   ]
  },
  {
   "cell_type": "code",
   "execution_count": 13,
   "id": "3514d1c1-6fef-4250-bfdf-ffcf98771640",
   "metadata": {
    "tags": []
   },
   "outputs": [
    {
     "data": {
      "text/html": [
       "71"
      ],
      "text/latex": [
       "71"
      ],
      "text/markdown": [
       "71"
      ],
      "text/plain": [
       "[1] 71"
      ]
     },
     "metadata": {},
     "output_type": "display_data"
    }
   ],
   "source": [
    "length(AIFI_L3)"
   ]
  },
  {
   "cell_type": "code",
   "execution_count": 23,
   "id": "4a2fdb65-4246-4ace-b55c-d152620cee4a",
   "metadata": {
    "collapsed": true,
    "jupyter": {
     "outputs_hidden": true
    },
    "tags": []
   },
   "outputs": [
    {
     "data": {
      "text/html": [
       "<style>\n",
       ".list-inline {list-style: none; margin:0; padding: 0}\n",
       ".list-inline>li {display: inline-block}\n",
       ".list-inline>li:not(:last-child)::after {content: \"\\00b7\"; padding: 0 .5ex}\n",
       "</style>\n",
       "<ol class=list-inline><li>cDC1</li><li>KLRF1- effector Vd1 gdT</li><li>ISG+ CD16 monocyte</li><li>CD14+ cDC2</li><li>HLA-DRhi cDC2</li><li>GZMK+ Vd2 gdT</li><li>CD8aa</li><li>GZMK+ CD56dim NK cell</li><li>C1Q+ CD16 monocyte</li><li>CD95 memory B cell</li><li>GZMK- CD27+ EM CD8 T cell</li><li>KLRF1+ GZMB+ CD27- EM CD8 T cell</li><li>GZMK- CD56dim NK cell</li><li>Memory CD8 Treg</li><li>Proliferating NK cell</li><li>CD4 MAIT</li><li>Intermediate monocyte</li><li>CMP cell</li><li>SOX4+ Vd1 gdT</li><li>KLRB1+ memory CD8 Treg</li><li>pDC</li><li>Erythrocyte</li><li>Core CD14 monocyte</li><li>GZMB+ Vd2 gdT</li><li>Platelet</li><li>ILC</li><li>GZMB- CD27+ EM CD4 T cell</li><li>GZMK+ memory CD4 Treg</li><li>Transitional B cell</li><li>CD56bright NK cell</li><li>Core memory B cell</li><li>KLRB1+ memory CD4 Treg</li><li>CM CD4 T cell</li><li>GZMK+ CD27+ EM CD8 T cell</li><li>Activated memory B cell</li><li>IL1B+ CD14 monocyte</li><li>SOX4+ naive CD4 T cell</li><li>BaEoMaP cell</li><li>KLRF1+ effector Vd1 gdT</li><li>CD27- effector B cell</li><li>ISG+ CD56dim NK cell</li><li>ISG+ naive CD8 T cell</li><li>ISG+ CD14 monocyte</li><li>ISG+ naive B cell</li><li>CD8 MAIT</li><li>CM CD8 T cell</li><li>Core CD16 monocyte</li><li>Core naive CD8 T cell </li><li>ISG+ naive CD4 T cell</li><li>Proliferating T cell</li><li>Plasma cell</li><li>CD27+ effector B cell</li><li>SOX4+ naive CD8 T cell</li><li>Core naive CD4 T cell</li><li>ISG+ memory CD8 T cell</li><li>Naive Vd1 gdT</li><li>Core naive B cell</li><li>CLP cell</li><li>KLRF1- GZMB+ CD27- EM CD8 T cell</li><li>Naive CD4 Treg</li><li>KLRF1- GZMB+ CD27- memory CD4 T cell</li><li>Early memory B cell</li><li>GZMB- CD27- EM CD4 T cell</li><li>ISG+ memory CD4 T cell</li><li>ISG+ MAIT</li><li>Memory CD4 Treg</li><li>Adaptive NK cell</li><li>ISG+ cDC2</li><li>Type 2 polarized memory B cell</li><li>DN T cell</li><li>ASDC</li></ol>\n",
       "\n",
       "<details>\n",
       "\t<summary style=display:list-item;cursor:pointer>\n",
       "\t\t<strong>Levels</strong>:\n",
       "\t</summary>\n",
       "\t<style>\n",
       "\t.list-inline {list-style: none; margin:0; padding: 0}\n",
       "\t.list-inline>li {display: inline-block}\n",
       "\t.list-inline>li:not(:last-child)::after {content: \"\\00b7\"; padding: 0 .5ex}\n",
       "\t</style>\n",
       "\t<ol class=list-inline><li>'ASDC'</li><li>'Activated memory B cell'</li><li>'Adaptive NK cell'</li><li>'BaEoMaP cell'</li><li>'C1Q+ CD16 monocyte'</li><li>'CD4 MAIT'</li><li>'CD8 MAIT'</li><li>'CD8aa'</li><li>'CD14+ cDC2'</li><li>'CD27+ effector B cell'</li><li>'CD27- effector B cell'</li><li>'CD56bright NK cell'</li><li>'CD95 memory B cell'</li><li>'CLP cell'</li><li>'CM CD4 T cell'</li><li>'CM CD8 T cell'</li><li>'CMP cell'</li><li>'Core CD14 monocyte'</li><li>'Core CD16 monocyte'</li><li>'Core memory B cell'</li><li>'Core naive B cell'</li><li>'Core naive CD4 T cell'</li><li>'Core naive CD8 T cell '</li><li>'DN T cell'</li><li>'Early memory B cell'</li><li>'Erythrocyte'</li><li>'GZMB+ Vd2 gdT'</li><li>'GZMB- CD27+ EM CD4 T cell'</li><li>'GZMB- CD27- EM CD4 T cell'</li><li>'GZMK+ CD27+ EM CD8 T cell'</li><li>'GZMK+ CD56dim NK cell'</li><li>'GZMK+ Vd2 gdT'</li><li>'GZMK+ memory CD4 Treg'</li><li>'GZMK- CD27+ EM CD8 T cell'</li><li>'GZMK- CD56dim NK cell'</li><li>'HLA-DRhi cDC2'</li><li>'IL1B+ CD14 monocyte'</li><li>'ILC'</li><li>'ISG+ CD14 monocyte'</li><li>'ISG+ CD16 monocyte'</li><li>'ISG+ CD56dim NK cell'</li><li>'ISG+ MAIT'</li><li>'ISG+ cDC2'</li><li>'ISG+ memory CD4 T cell'</li><li>'ISG+ memory CD8 T cell'</li><li>'ISG+ naive B cell'</li><li>'ISG+ naive CD4 T cell'</li><li>'ISG+ naive CD8 T cell'</li><li>'Intermediate monocyte'</li><li>'KLRB1+ memory CD4 Treg'</li><li>'KLRB1+ memory CD8 Treg'</li><li>'KLRF1+ GZMB+ CD27- EM CD8 T cell'</li><li>'KLRF1+ effector Vd1 gdT'</li><li>'KLRF1- GZMB+ CD27- EM CD8 T cell'</li><li>'KLRF1- GZMB+ CD27- memory CD4 T cell'</li><li>'KLRF1- effector Vd1 gdT'</li><li>'Memory CD4 Treg'</li><li>'Memory CD8 Treg'</li><li>'Naive CD4 Treg'</li><li>'Naive Vd1 gdT'</li><li>'Plasma cell'</li><li>'Platelet'</li><li>'Proliferating NK cell'</li><li>'Proliferating T cell'</li><li>'SOX4+ Vd1 gdT'</li><li>'SOX4+ naive CD4 T cell'</li><li>'SOX4+ naive CD8 T cell'</li><li>'Transitional B cell'</li><li>'Type 2 polarized memory B cell'</li><li>'cDC1'</li><li>'pDC'</li></ol>\n",
       "</details>"
      ],
      "text/latex": [
       "\\begin{enumerate*}\n",
       "\\item cDC1\n",
       "\\item KLRF1- effector Vd1 gdT\n",
       "\\item ISG+ CD16 monocyte\n",
       "\\item CD14+ cDC2\n",
       "\\item HLA-DRhi cDC2\n",
       "\\item GZMK+ Vd2 gdT\n",
       "\\item CD8aa\n",
       "\\item GZMK+ CD56dim NK cell\n",
       "\\item C1Q+ CD16 monocyte\n",
       "\\item CD95 memory B cell\n",
       "\\item GZMK- CD27+ EM CD8 T cell\n",
       "\\item KLRF1+ GZMB+ CD27- EM CD8 T cell\n",
       "\\item GZMK- CD56dim NK cell\n",
       "\\item Memory CD8 Treg\n",
       "\\item Proliferating NK cell\n",
       "\\item CD4 MAIT\n",
       "\\item Intermediate monocyte\n",
       "\\item CMP cell\n",
       "\\item SOX4+ Vd1 gdT\n",
       "\\item KLRB1+ memory CD8 Treg\n",
       "\\item pDC\n",
       "\\item Erythrocyte\n",
       "\\item Core CD14 monocyte\n",
       "\\item GZMB+ Vd2 gdT\n",
       "\\item Platelet\n",
       "\\item ILC\n",
       "\\item GZMB- CD27+ EM CD4 T cell\n",
       "\\item GZMK+ memory CD4 Treg\n",
       "\\item Transitional B cell\n",
       "\\item CD56bright NK cell\n",
       "\\item Core memory B cell\n",
       "\\item KLRB1+ memory CD4 Treg\n",
       "\\item CM CD4 T cell\n",
       "\\item GZMK+ CD27+ EM CD8 T cell\n",
       "\\item Activated memory B cell\n",
       "\\item IL1B+ CD14 monocyte\n",
       "\\item SOX4+ naive CD4 T cell\n",
       "\\item BaEoMaP cell\n",
       "\\item KLRF1+ effector Vd1 gdT\n",
       "\\item CD27- effector B cell\n",
       "\\item ISG+ CD56dim NK cell\n",
       "\\item ISG+ naive CD8 T cell\n",
       "\\item ISG+ CD14 monocyte\n",
       "\\item ISG+ naive B cell\n",
       "\\item CD8 MAIT\n",
       "\\item CM CD8 T cell\n",
       "\\item Core CD16 monocyte\n",
       "\\item Core naive CD8 T cell \n",
       "\\item ISG+ naive CD4 T cell\n",
       "\\item Proliferating T cell\n",
       "\\item Plasma cell\n",
       "\\item CD27+ effector B cell\n",
       "\\item SOX4+ naive CD8 T cell\n",
       "\\item Core naive CD4 T cell\n",
       "\\item ISG+ memory CD8 T cell\n",
       "\\item Naive Vd1 gdT\n",
       "\\item Core naive B cell\n",
       "\\item CLP cell\n",
       "\\item KLRF1- GZMB+ CD27- EM CD8 T cell\n",
       "\\item Naive CD4 Treg\n",
       "\\item KLRF1- GZMB+ CD27- memory CD4 T cell\n",
       "\\item Early memory B cell\n",
       "\\item GZMB- CD27- EM CD4 T cell\n",
       "\\item ISG+ memory CD4 T cell\n",
       "\\item ISG+ MAIT\n",
       "\\item Memory CD4 Treg\n",
       "\\item Adaptive NK cell\n",
       "\\item ISG+ cDC2\n",
       "\\item Type 2 polarized memory B cell\n",
       "\\item DN T cell\n",
       "\\item ASDC\n",
       "\\end{enumerate*}\n",
       "\n",
       "\\emph{Levels}: \\begin{enumerate*}\n",
       "\\item 'ASDC'\n",
       "\\item 'Activated memory B cell'\n",
       "\\item 'Adaptive NK cell'\n",
       "\\item 'BaEoMaP cell'\n",
       "\\item 'C1Q+ CD16 monocyte'\n",
       "\\item 'CD4 MAIT'\n",
       "\\item 'CD8 MAIT'\n",
       "\\item 'CD8aa'\n",
       "\\item 'CD14+ cDC2'\n",
       "\\item 'CD27+ effector B cell'\n",
       "\\item 'CD27- effector B cell'\n",
       "\\item 'CD56bright NK cell'\n",
       "\\item 'CD95 memory B cell'\n",
       "\\item 'CLP cell'\n",
       "\\item 'CM CD4 T cell'\n",
       "\\item 'CM CD8 T cell'\n",
       "\\item 'CMP cell'\n",
       "\\item 'Core CD14 monocyte'\n",
       "\\item 'Core CD16 monocyte'\n",
       "\\item 'Core memory B cell'\n",
       "\\item 'Core naive B cell'\n",
       "\\item 'Core naive CD4 T cell'\n",
       "\\item 'Core naive CD8 T cell '\n",
       "\\item 'DN T cell'\n",
       "\\item 'Early memory B cell'\n",
       "\\item 'Erythrocyte'\n",
       "\\item 'GZMB+ Vd2 gdT'\n",
       "\\item 'GZMB- CD27+ EM CD4 T cell'\n",
       "\\item 'GZMB- CD27- EM CD4 T cell'\n",
       "\\item 'GZMK+ CD27+ EM CD8 T cell'\n",
       "\\item 'GZMK+ CD56dim NK cell'\n",
       "\\item 'GZMK+ Vd2 gdT'\n",
       "\\item 'GZMK+ memory CD4 Treg'\n",
       "\\item 'GZMK- CD27+ EM CD8 T cell'\n",
       "\\item 'GZMK- CD56dim NK cell'\n",
       "\\item 'HLA-DRhi cDC2'\n",
       "\\item 'IL1B+ CD14 monocyte'\n",
       "\\item 'ILC'\n",
       "\\item 'ISG+ CD14 monocyte'\n",
       "\\item 'ISG+ CD16 monocyte'\n",
       "\\item 'ISG+ CD56dim NK cell'\n",
       "\\item 'ISG+ MAIT'\n",
       "\\item 'ISG+ cDC2'\n",
       "\\item 'ISG+ memory CD4 T cell'\n",
       "\\item 'ISG+ memory CD8 T cell'\n",
       "\\item 'ISG+ naive B cell'\n",
       "\\item 'ISG+ naive CD4 T cell'\n",
       "\\item 'ISG+ naive CD8 T cell'\n",
       "\\item 'Intermediate monocyte'\n",
       "\\item 'KLRB1+ memory CD4 Treg'\n",
       "\\item 'KLRB1+ memory CD8 Treg'\n",
       "\\item 'KLRF1+ GZMB+ CD27- EM CD8 T cell'\n",
       "\\item 'KLRF1+ effector Vd1 gdT'\n",
       "\\item 'KLRF1- GZMB+ CD27- EM CD8 T cell'\n",
       "\\item 'KLRF1- GZMB+ CD27- memory CD4 T cell'\n",
       "\\item 'KLRF1- effector Vd1 gdT'\n",
       "\\item 'Memory CD4 Treg'\n",
       "\\item 'Memory CD8 Treg'\n",
       "\\item 'Naive CD4 Treg'\n",
       "\\item 'Naive Vd1 gdT'\n",
       "\\item 'Plasma cell'\n",
       "\\item 'Platelet'\n",
       "\\item 'Proliferating NK cell'\n",
       "\\item 'Proliferating T cell'\n",
       "\\item 'SOX4+ Vd1 gdT'\n",
       "\\item 'SOX4+ naive CD4 T cell'\n",
       "\\item 'SOX4+ naive CD8 T cell'\n",
       "\\item 'Transitional B cell'\n",
       "\\item 'Type 2 polarized memory B cell'\n",
       "\\item 'cDC1'\n",
       "\\item 'pDC'\n",
       "\\end{enumerate*}\n"
      ],
      "text/markdown": [
       "1. cDC1\n",
       "2. KLRF1- effector Vd1 gdT\n",
       "3. ISG+ CD16 monocyte\n",
       "4. CD14+ cDC2\n",
       "5. HLA-DRhi cDC2\n",
       "6. GZMK+ Vd2 gdT\n",
       "7. CD8aa\n",
       "8. GZMK+ CD56dim NK cell\n",
       "9. C1Q+ CD16 monocyte\n",
       "10. CD95 memory B cell\n",
       "11. GZMK- CD27+ EM CD8 T cell\n",
       "12. KLRF1+ GZMB+ CD27- EM CD8 T cell\n",
       "13. GZMK- CD56dim NK cell\n",
       "14. Memory CD8 Treg\n",
       "15. Proliferating NK cell\n",
       "16. CD4 MAIT\n",
       "17. Intermediate monocyte\n",
       "18. CMP cell\n",
       "19. SOX4+ Vd1 gdT\n",
       "20. KLRB1+ memory CD8 Treg\n",
       "21. pDC\n",
       "22. Erythrocyte\n",
       "23. Core CD14 monocyte\n",
       "24. GZMB+ Vd2 gdT\n",
       "25. Platelet\n",
       "26. ILC\n",
       "27. GZMB- CD27+ EM CD4 T cell\n",
       "28. GZMK+ memory CD4 Treg\n",
       "29. Transitional B cell\n",
       "30. CD56bright NK cell\n",
       "31. Core memory B cell\n",
       "32. KLRB1+ memory CD4 Treg\n",
       "33. CM CD4 T cell\n",
       "34. GZMK+ CD27+ EM CD8 T cell\n",
       "35. Activated memory B cell\n",
       "36. IL1B+ CD14 monocyte\n",
       "37. SOX4+ naive CD4 T cell\n",
       "38. BaEoMaP cell\n",
       "39. KLRF1+ effector Vd1 gdT\n",
       "40. CD27- effector B cell\n",
       "41. ISG+ CD56dim NK cell\n",
       "42. ISG+ naive CD8 T cell\n",
       "43. ISG+ CD14 monocyte\n",
       "44. ISG+ naive B cell\n",
       "45. CD8 MAIT\n",
       "46. CM CD8 T cell\n",
       "47. Core CD16 monocyte\n",
       "48. Core naive CD8 T cell \n",
       "49. ISG+ naive CD4 T cell\n",
       "50. Proliferating T cell\n",
       "51. Plasma cell\n",
       "52. CD27+ effector B cell\n",
       "53. SOX4+ naive CD8 T cell\n",
       "54. Core naive CD4 T cell\n",
       "55. ISG+ memory CD8 T cell\n",
       "56. Naive Vd1 gdT\n",
       "57. Core naive B cell\n",
       "58. CLP cell\n",
       "59. KLRF1- GZMB+ CD27- EM CD8 T cell\n",
       "60. Naive CD4 Treg\n",
       "61. KLRF1- GZMB+ CD27- memory CD4 T cell\n",
       "62. Early memory B cell\n",
       "63. GZMB- CD27- EM CD4 T cell\n",
       "64. ISG+ memory CD4 T cell\n",
       "65. ISG+ MAIT\n",
       "66. Memory CD4 Treg\n",
       "67. Adaptive NK cell\n",
       "68. ISG+ cDC2\n",
       "69. Type 2 polarized memory B cell\n",
       "70. DN T cell\n",
       "71. ASDC\n",
       "\n",
       "\n",
       "\n",
       "**Levels**: 1. 'ASDC'\n",
       "2. 'Activated memory B cell'\n",
       "3. 'Adaptive NK cell'\n",
       "4. 'BaEoMaP cell'\n",
       "5. 'C1Q+ CD16 monocyte'\n",
       "6. 'CD4 MAIT'\n",
       "7. 'CD8 MAIT'\n",
       "8. 'CD8aa'\n",
       "9. 'CD14+ cDC2'\n",
       "10. 'CD27+ effector B cell'\n",
       "11. 'CD27- effector B cell'\n",
       "12. 'CD56bright NK cell'\n",
       "13. 'CD95 memory B cell'\n",
       "14. 'CLP cell'\n",
       "15. 'CM CD4 T cell'\n",
       "16. 'CM CD8 T cell'\n",
       "17. 'CMP cell'\n",
       "18. 'Core CD14 monocyte'\n",
       "19. 'Core CD16 monocyte'\n",
       "20. 'Core memory B cell'\n",
       "21. 'Core naive B cell'\n",
       "22. 'Core naive CD4 T cell'\n",
       "23. 'Core naive CD8 T cell '\n",
       "24. 'DN T cell'\n",
       "25. 'Early memory B cell'\n",
       "26. 'Erythrocyte'\n",
       "27. 'GZMB+ Vd2 gdT'\n",
       "28. 'GZMB- CD27+ EM CD4 T cell'\n",
       "29. 'GZMB- CD27- EM CD4 T cell'\n",
       "30. 'GZMK+ CD27+ EM CD8 T cell'\n",
       "31. 'GZMK+ CD56dim NK cell'\n",
       "32. 'GZMK+ Vd2 gdT'\n",
       "33. 'GZMK+ memory CD4 Treg'\n",
       "34. 'GZMK- CD27+ EM CD8 T cell'\n",
       "35. 'GZMK- CD56dim NK cell'\n",
       "36. 'HLA-DRhi cDC2'\n",
       "37. 'IL1B+ CD14 monocyte'\n",
       "38. 'ILC'\n",
       "39. 'ISG+ CD14 monocyte'\n",
       "40. 'ISG+ CD16 monocyte'\n",
       "41. 'ISG+ CD56dim NK cell'\n",
       "42. 'ISG+ MAIT'\n",
       "43. 'ISG+ cDC2'\n",
       "44. 'ISG+ memory CD4 T cell'\n",
       "45. 'ISG+ memory CD8 T cell'\n",
       "46. 'ISG+ naive B cell'\n",
       "47. 'ISG+ naive CD4 T cell'\n",
       "48. 'ISG+ naive CD8 T cell'\n",
       "49. 'Intermediate monocyte'\n",
       "50. 'KLRB1+ memory CD4 Treg'\n",
       "51. 'KLRB1+ memory CD8 Treg'\n",
       "52. 'KLRF1+ GZMB+ CD27- EM CD8 T cell'\n",
       "53. 'KLRF1+ effector Vd1 gdT'\n",
       "54. 'KLRF1- GZMB+ CD27- EM CD8 T cell'\n",
       "55. 'KLRF1- GZMB+ CD27- memory CD4 T cell'\n",
       "56. 'KLRF1- effector Vd1 gdT'\n",
       "57. 'Memory CD4 Treg'\n",
       "58. 'Memory CD8 Treg'\n",
       "59. 'Naive CD4 Treg'\n",
       "60. 'Naive Vd1 gdT'\n",
       "61. 'Plasma cell'\n",
       "62. 'Platelet'\n",
       "63. 'Proliferating NK cell'\n",
       "64. 'Proliferating T cell'\n",
       "65. 'SOX4+ Vd1 gdT'\n",
       "66. 'SOX4+ naive CD4 T cell'\n",
       "67. 'SOX4+ naive CD8 T cell'\n",
       "68. 'Transitional B cell'\n",
       "69. 'Type 2 polarized memory B cell'\n",
       "70. 'cDC1'\n",
       "71. 'pDC'\n",
       "\n",
       "\n"
      ],
      "text/plain": [
       " [1] cDC1                                 KLRF1- effector Vd1 gdT             \n",
       " [3] ISG+ CD16 monocyte                   CD14+ cDC2                          \n",
       " [5] HLA-DRhi cDC2                        GZMK+ Vd2 gdT                       \n",
       " [7] CD8aa                                GZMK+ CD56dim NK cell               \n",
       " [9] C1Q+ CD16 monocyte                   CD95 memory B cell                  \n",
       "[11] GZMK- CD27+ EM CD8 T cell            KLRF1+ GZMB+ CD27- EM CD8 T cell    \n",
       "[13] GZMK- CD56dim NK cell                Memory CD8 Treg                     \n",
       "[15] Proliferating NK cell                CD4 MAIT                            \n",
       "[17] Intermediate monocyte                CMP cell                            \n",
       "[19] SOX4+ Vd1 gdT                        KLRB1+ memory CD8 Treg              \n",
       "[21] pDC                                  Erythrocyte                         \n",
       "[23] Core CD14 monocyte                   GZMB+ Vd2 gdT                       \n",
       "[25] Platelet                             ILC                                 \n",
       "[27] GZMB- CD27+ EM CD4 T cell            GZMK+ memory CD4 Treg               \n",
       "[29] Transitional B cell                  CD56bright NK cell                  \n",
       "[31] Core memory B cell                   KLRB1+ memory CD4 Treg              \n",
       "[33] CM CD4 T cell                        GZMK+ CD27+ EM CD8 T cell           \n",
       "[35] Activated memory B cell              IL1B+ CD14 monocyte                 \n",
       "[37] SOX4+ naive CD4 T cell               BaEoMaP cell                        \n",
       "[39] KLRF1+ effector Vd1 gdT              CD27- effector B cell               \n",
       "[41] ISG+ CD56dim NK cell                 ISG+ naive CD8 T cell               \n",
       "[43] ISG+ CD14 monocyte                   ISG+ naive B cell                   \n",
       "[45] CD8 MAIT                             CM CD8 T cell                       \n",
       "[47] Core CD16 monocyte                   Core naive CD8 T cell               \n",
       "[49] ISG+ naive CD4 T cell                Proliferating T cell                \n",
       "[51] Plasma cell                          CD27+ effector B cell               \n",
       "[53] SOX4+ naive CD8 T cell               Core naive CD4 T cell               \n",
       "[55] ISG+ memory CD8 T cell               Naive Vd1 gdT                       \n",
       "[57] Core naive B cell                    CLP cell                            \n",
       "[59] KLRF1- GZMB+ CD27- EM CD8 T cell     Naive CD4 Treg                      \n",
       "[61] KLRF1- GZMB+ CD27- memory CD4 T cell Early memory B cell                 \n",
       "[63] GZMB- CD27- EM CD4 T cell            ISG+ memory CD4 T cell              \n",
       "[65] ISG+ MAIT                            Memory CD4 Treg                     \n",
       "[67] Adaptive NK cell                     ISG+ cDC2                           \n",
       "[69] Type 2 polarized memory B cell       DN T cell                           \n",
       "[71] ASDC                                \n",
       "71 Levels: ASDC Activated memory B cell Adaptive NK cell ... pDC"
      ]
     },
     "metadata": {},
     "output_type": "display_data"
    }
   ],
   "source": [
    "AIFI_L3"
   ]
  },
  {
   "cell_type": "code",
   "execution_count": null,
   "id": "d8068006-e4b8-4e32-97ec-70e5ea0fac68",
   "metadata": {
    "tags": []
   },
   "outputs": [
    {
     "name": "stderr",
     "output_type": "stream",
     "text": [
      "\u001b[1m\u001b[22mJoining with `by = join_by(pbmc_sample_id)`\n",
      "\u001b[1m\u001b[22mJoining with `by = join_by(pbmc_sample_id)`\n",
      "\u001b[1m\u001b[22mJoining with `by = join_by(pbmc_sample_id)`\n",
      "\u001b[1m\u001b[22mJoining with `by = join_by(pbmc_sample_id)`\n",
      "\u001b[1m\u001b[22mJoining with `by = join_by(pbmc_sample_id)`\n",
      "\u001b[1m\u001b[22mJoining with `by = join_by(pbmc_sample_id)`\n",
      "\u001b[1m\u001b[22mJoining with `by = join_by(pbmc_sample_id)`\n",
      "\u001b[1m\u001b[22mJoining with `by = join_by(pbmc_sample_id)`\n",
      "\u001b[1m\u001b[22mJoining with `by = join_by(pbmc_sample_id)`\n",
      "\u001b[1m\u001b[22mJoining with `by = join_by(pbmc_sample_id)`\n",
      "\u001b[1m\u001b[22mJoining with `by = join_by(pbmc_sample_id)`\n",
      "\u001b[1m\u001b[22mJoining with `by = join_by(pbmc_sample_id)`\n",
      "\u001b[1m\u001b[22mJoining with `by = join_by(pbmc_sample_id)`\n",
      "\u001b[1m\u001b[22mJoining with `by = join_by(pbmc_sample_id)`\n",
      "\u001b[1m\u001b[22mJoining with `by = join_by(pbmc_sample_id)`\n",
      "\u001b[1m\u001b[22mJoining with `by = join_by(pbmc_sample_id)`\n",
      "\u001b[1m\u001b[22mJoining with `by = join_by(pbmc_sample_id)`\n",
      "\u001b[1m\u001b[22mJoining with `by = join_by(pbmc_sample_id)`\n",
      "\u001b[1m\u001b[22mJoining with `by = join_by(pbmc_sample_id)`\n",
      "\u001b[1m\u001b[22mJoining with `by = join_by(pbmc_sample_id)`\n",
      "\u001b[1m\u001b[22mJoining with `by = join_by(pbmc_sample_id)`\n",
      "\u001b[1m\u001b[22mJoining with `by = join_by(pbmc_sample_id)`\n"
     ]
    }
   ],
   "source": [
    "for (celltype in AIFI_L3){\n",
    "pbmc_subset_list <- mclapply(pbmc_list, function(pbmc) {\n",
    "    pbmc_subset <- tryCatch({\n",
    "        subset(pbmc, subset = AIFI_L3 == celltype)\n",
    "    }, error = function(e) {\n",
    "        NULL\n",
    "    })\n",
    "\n",
    "    if (!is.null(pbmc_subset)) {\n",
    "        return(pbmc_subset)\n",
    "    }\n",
    "}, mc.cores = 60)\n",
    "pbmc_subset_list <- Filter(function(x) !is.null(x), pbmc_subset_list)\n",
    "so<-Reduce(\n",
    "    f = function(x, y) {merge(x, y, merge.data = FALSE)},\n",
    "    x = pbmc_subset_list \n",
    ")\n",
    "    \n",
    "so@meta.data<-left_join(so@meta.data,meta_data[c('pbmc_sample_id','sample.sampleKitGuid')])\n",
    "rownames(so@meta.data)<-so@meta.data$barcodes    \n",
    "df<-makePseudobulkRNA(\n",
    "  so,\n",
    "  'AIFI_L3',\n",
    "  sampleColumn = \"sample.sampleKitGuid\",\n",
    "  cellPopulations = \"All\",\n",
    "  numCores =60 ,\n",
    "  Seurat_format = \"SYMBOL\",\n",
    "  TxDb = NULL,\n",
    "  OrgDb = NULL,\n",
    "  normalize = FALSE\n",
    ")\n",
    "saveRDS(df,paste0(\"scRNA-object/\",pull(so[[]]['AIFI_L3'])[1],'.RDS'))\n",
    "}"
   ]
  },
  {
   "cell_type": "code",
   "execution_count": null,
   "id": "3383b85a-af61-4449-bf43-56463729cee5",
   "metadata": {},
   "outputs": [],
   "source": []
  }
 ],
 "metadata": {
  "kernelspec": {
   "display_name": "R 4",
   "language": "R",
   "name": "ir4"
  },
  "language_info": {
   "codemirror_mode": "r",
   "file_extension": ".r",
   "mimetype": "text/x-r-source",
   "name": "R",
   "pygments_lexer": "r",
   "version": "4.3.1"
  }
 },
 "nbformat": 4,
 "nbformat_minor": 5
}
