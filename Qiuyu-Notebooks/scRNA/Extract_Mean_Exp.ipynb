{
 "cells": [
  {
   "cell_type": "code",
   "execution_count": 1,
   "id": "a1e3e884-0382-4777-aec6-aaec3c2bdca3",
   "metadata": {
    "tags": []
   },
   "outputs": [
    {
     "name": "stderr",
     "output_type": "stream",
     "text": [
      "Loading required package: reticulate\n",
      "\n"
     ]
    }
   ],
   "source": [
    "library(Matrix)\n",
    "library(sceasy)\n",
    "library(anndata)\n",
    "suppressPackageStartupMessages(library(readxl))\n",
    "suppressPackageStartupMessages(library(plyr))\n",
    "suppressPackageStartupMessages(library(dplyr))\n",
    "suppressPackageStartupMessages(library(tidyr))\n",
    "suppressPackageStartupMessages(library(tibble))\n",
    "suppressPackageStartupMessages(library(ggplot2))\n",
    "suppressPackageStartupMessages(library(Seurat))\n",
    "suppressPackageStartupMessages(library(patchwork))\n",
    "suppressPackageStartupMessages(library(pheatmap))\n",
    "suppressPackageStartupMessages(library(lme4))\n",
    "suppressPackageStartupMessages(library(stringr))\n",
    "library(hise)\n",
    "library(parallel)"
   ]
  },
  {
   "cell_type": "code",
   "execution_count": 2,
   "id": "fa7af2bc-3660-47be-a10b-6a41baba7791",
   "metadata": {
    "tags": []
   },
   "outputs": [],
   "source": [
    "meta_data<-read.csv('/home//jupyter/BRI_Analysis/scRNA/hise_meta_data_2024-01-23_fixed.csv')\n",
    "meta_data_sub<-meta_data %>% filter(sample.visitName=='Flu Year 1 Day 0')"
   ]
  },
  {
   "cell_type": "code",
   "execution_count": 6,
   "id": "2fb52ede-a6ef-493b-b995-6091d14bc0d0",
   "metadata": {
    "tags": []
   },
   "outputs": [],
   "source": [
    "df_list<-mclapply(meta_data_sub$pbmc_sample_id,function(i){\n",
    "\n",
    "df<-read.csv(paste0('Sum_Raw_Expression_by_Celltype_and_Sample/',i,'_AIFI_L3.csv'),\n",
    "             check.names = FALSE, row.names=1)\n",
    "selected_celltype<-colnames(df)[grepl('T|aa',colnames(df))]\n",
    "selected_celltype<-selected_celltype[!grepl('B ',selected_celltype)]\n",
    "df_subset<-df['GZMK',selected_celltype]\n",
    "rownames(df_subset)<-i\n",
    "return(df_subset)\n",
    "},mc.cores=10)"
   ]
  },
  {
   "cell_type": "code",
   "execution_count": 7,
   "id": "2c1779a9-5b09-4c20-aa76-4399112a8e5c",
   "metadata": {
    "tags": []
   },
   "outputs": [],
   "source": [
    "df_list <- lapply(df_list, function(df) {\n",
    "  df$RowNames <- rownames(df)\n",
    "  return(df)\n",
    "})\n",
    "\n",
    "combined_df <- do.call(rbind.fill, df_list)\n",
    "\n",
    "rownames(combined_df) <- combined_df$RowNames\n",
    "combined_df$RowNames <- NULL\n"
   ]
  },
  {
   "cell_type": "code",
   "execution_count": 8,
   "id": "dd24a571-8628-4164-ad24-4ad118cb716e",
   "metadata": {
    "tags": []
   },
   "outputs": [],
   "source": [
    "write.csv(combined_df,'GZMK_Aggregrate_Expression.csv')"
   ]
  },
  {
   "cell_type": "code",
   "execution_count": 24,
   "id": "d06fb700-881a-4b54-ab07-5d8019536940",
   "metadata": {
    "tags": []
   },
   "outputs": [],
   "source": []
  },
  {
   "cell_type": "code",
   "execution_count": 25,
   "id": "ebc2c2dd-2c1b-4565-8329-116c1681043d",
   "metadata": {
    "tags": []
   },
   "outputs": [
    {
     "data": {
      "text/html": [
       "<table class=\"dataframe\">\n",
       "<caption>A data.frame: 1 × 35</caption>\n",
       "<thead>\n",
       "\t<tr><th></th><th scope=col>KLRF1- effector Vd1 gdT</th><th scope=col>GZMK+ Vd2 gdT</th><th scope=col>CD8aa</th><th scope=col>GZMK- CD27+ EM CD8 T cell</th><th scope=col>KLRF1+ GZMB+ CD27- EM CD8 T cell</th><th scope=col>Memory CD8 Treg</th><th scope=col>CD4 MAIT</th><th scope=col>SOX4+ Vd1 gdT</th><th scope=col>KLRB1+ memory CD8 Treg</th><th scope=col>GZMB+ Vd2 gdT</th><th scope=col>⋯</th><th scope=col>ISG+ memory CD8 T cell</th><th scope=col>Naive Vd1 gdT</th><th scope=col>KLRF1- GZMB+ CD27- EM CD8 T cell</th><th scope=col>Naive CD4 Treg</th><th scope=col>KLRF1- GZMB+ CD27- memory CD4 T cell</th><th scope=col>GZMB- CD27- EM CD4 T cell</th><th scope=col>ISG+ memory CD4 T cell</th><th scope=col>ISG+ MAIT</th><th scope=col>Memory CD4 Treg</th><th scope=col>DN T cell</th></tr>\n",
       "\t<tr><th></th><th scope=col>&lt;dbl&gt;</th><th scope=col>&lt;dbl&gt;</th><th scope=col>&lt;dbl&gt;</th><th scope=col>&lt;dbl&gt;</th><th scope=col>&lt;dbl&gt;</th><th scope=col>&lt;dbl&gt;</th><th scope=col>&lt;dbl&gt;</th><th scope=col>&lt;dbl&gt;</th><th scope=col>&lt;dbl&gt;</th><th scope=col>&lt;dbl&gt;</th><th scope=col>⋯</th><th scope=col>&lt;dbl&gt;</th><th scope=col>&lt;dbl&gt;</th><th scope=col>&lt;dbl&gt;</th><th scope=col>&lt;dbl&gt;</th><th scope=col>&lt;dbl&gt;</th><th scope=col>&lt;dbl&gt;</th><th scope=col>&lt;dbl&gt;</th><th scope=col>&lt;dbl&gt;</th><th scope=col>&lt;dbl&gt;</th><th scope=col>&lt;dbl&gt;</th></tr>\n",
       "</thead>\n",
       "<tbody>\n",
       "\t<tr><th scope=row>GZMK</th><td>0.550823</td><td>2.855115</td><td>1.721155</td><td>0.1115041</td><td>0.8936626</td><td>0</td><td>2.437696</td><td>0</td><td>1.246252</td><td>1.130045</td><td>⋯</td><td>1.630739</td><td>0.67678</td><td>0.3449223</td><td>0.1806776</td><td>0.2971502</td><td>0.09441578</td><td>0.1930609</td><td>2.790655</td><td>0.04609992</td><td>2.787747</td></tr>\n",
       "</tbody>\n",
       "</table>\n"
      ],
      "text/latex": [
       "A data.frame: 1 × 35\n",
       "\\begin{tabular}{r|lllllllllllllllllllll}\n",
       "  & KLRF1- effector Vd1 gdT & GZMK+ Vd2 gdT & CD8aa & GZMK- CD27+ EM CD8 T cell & KLRF1+ GZMB+ CD27- EM CD8 T cell & Memory CD8 Treg & CD4 MAIT & SOX4+ Vd1 gdT & KLRB1+ memory CD8 Treg & GZMB+ Vd2 gdT & ⋯ & ISG+ memory CD8 T cell & Naive Vd1 gdT & KLRF1- GZMB+ CD27- EM CD8 T cell & Naive CD4 Treg & KLRF1- GZMB+ CD27- memory CD4 T cell & GZMB- CD27- EM CD4 T cell & ISG+ memory CD4 T cell & ISG+ MAIT & Memory CD4 Treg & DN T cell\\\\\n",
       "  & <dbl> & <dbl> & <dbl> & <dbl> & <dbl> & <dbl> & <dbl> & <dbl> & <dbl> & <dbl> & ⋯ & <dbl> & <dbl> & <dbl> & <dbl> & <dbl> & <dbl> & <dbl> & <dbl> & <dbl> & <dbl>\\\\\n",
       "\\hline\n",
       "\tGZMK & 0.550823 & 2.855115 & 1.721155 & 0.1115041 & 0.8936626 & 0 & 2.437696 & 0 & 1.246252 & 1.130045 & ⋯ & 1.630739 & 0.67678 & 0.3449223 & 0.1806776 & 0.2971502 & 0.09441578 & 0.1930609 & 2.790655 & 0.04609992 & 2.787747\\\\\n",
       "\\end{tabular}\n"
      ],
      "text/markdown": [
       "\n",
       "A data.frame: 1 × 35\n",
       "\n",
       "| <!--/--> | KLRF1- effector Vd1 gdT &lt;dbl&gt; | GZMK+ Vd2 gdT &lt;dbl&gt; | CD8aa &lt;dbl&gt; | GZMK- CD27+ EM CD8 T cell &lt;dbl&gt; | KLRF1+ GZMB+ CD27- EM CD8 T cell &lt;dbl&gt; | Memory CD8 Treg &lt;dbl&gt; | CD4 MAIT &lt;dbl&gt; | SOX4+ Vd1 gdT &lt;dbl&gt; | KLRB1+ memory CD8 Treg &lt;dbl&gt; | GZMB+ Vd2 gdT &lt;dbl&gt; | ⋯ ⋯ | ISG+ memory CD8 T cell &lt;dbl&gt; | Naive Vd1 gdT &lt;dbl&gt; | KLRF1- GZMB+ CD27- EM CD8 T cell &lt;dbl&gt; | Naive CD4 Treg &lt;dbl&gt; | KLRF1- GZMB+ CD27- memory CD4 T cell &lt;dbl&gt; | GZMB- CD27- EM CD4 T cell &lt;dbl&gt; | ISG+ memory CD4 T cell &lt;dbl&gt; | ISG+ MAIT &lt;dbl&gt; | Memory CD4 Treg &lt;dbl&gt; | DN T cell &lt;dbl&gt; |\n",
       "|---|---|---|---|---|---|---|---|---|---|---|---|---|---|---|---|---|---|---|---|---|---|\n",
       "| GZMK | 0.550823 | 2.855115 | 1.721155 | 0.1115041 | 0.8936626 | 0 | 2.437696 | 0 | 1.246252 | 1.130045 | ⋯ | 1.630739 | 0.67678 | 0.3449223 | 0.1806776 | 0.2971502 | 0.09441578 | 0.1930609 | 2.790655 | 0.04609992 | 2.787747 |\n",
       "\n"
      ],
      "text/plain": [
       "     KLRF1- effector Vd1 gdT GZMK+ Vd2 gdT CD8aa    GZMK- CD27+ EM CD8 T cell\n",
       "GZMK 0.550823                2.855115      1.721155 0.1115041                \n",
       "     KLRF1+ GZMB+ CD27- EM CD8 T cell Memory CD8 Treg CD4 MAIT SOX4+ Vd1 gdT\n",
       "GZMK 0.8936626                        0               2.437696 0            \n",
       "     KLRB1+ memory CD8 Treg GZMB+ Vd2 gdT ⋯ ISG+ memory CD8 T cell\n",
       "GZMK 1.246252               1.130045      ⋯ 1.630739              \n",
       "     Naive Vd1 gdT KLRF1- GZMB+ CD27- EM CD8 T cell Naive CD4 Treg\n",
       "GZMK 0.67678       0.3449223                        0.1806776     \n",
       "     KLRF1- GZMB+ CD27- memory CD4 T cell GZMB- CD27- EM CD4 T cell\n",
       "GZMK 0.2971502                            0.09441578               \n",
       "     ISG+ memory CD4 T cell ISG+ MAIT Memory CD4 Treg DN T cell\n",
       "GZMK 0.1930609              2.790655  0.04609992      2.787747 "
      ]
     },
     "metadata": {},
     "output_type": "display_data"
    }
   ],
   "source": []
  },
  {
   "cell_type": "code",
   "execution_count": null,
   "id": "dc6cbbb2-cc29-4c1e-a2cd-66902995009c",
   "metadata": {},
   "outputs": [],
   "source": []
  }
 ],
 "metadata": {
  "kernelspec": {
   "display_name": "R 4",
   "language": "R",
   "name": "ir4"
  },
  "language_info": {
   "codemirror_mode": "r",
   "file_extension": ".r",
   "mimetype": "text/x-r-source",
   "name": "R",
   "pygments_lexer": "r",
   "version": "4.3.1"
  }
 },
 "nbformat": 4,
 "nbformat_minor": 5
}
