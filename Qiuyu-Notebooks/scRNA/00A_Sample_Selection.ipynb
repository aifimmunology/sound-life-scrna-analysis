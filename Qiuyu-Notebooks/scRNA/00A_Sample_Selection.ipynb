{
 "cells": [
  {
   "cell_type": "code",
   "execution_count": 2,
   "id": "5adb72ac-565d-4960-931c-3803a71e145c",
   "metadata": {
    "collapsed": true,
    "jupyter": {
     "outputs_hidden": true
    },
    "tags": []
   },
   "outputs": [
    {
     "name": "stderr",
     "output_type": "stream",
     "text": [
      "------------------------------------------------------------------------------\n",
      "\n",
      "You have loaded plyr after dplyr - this is likely to cause problems.\n",
      "If you need functions from both plyr and dplyr, please load plyr first, then dplyr:\n",
      "library(plyr); library(dplyr)\n",
      "\n",
      "------------------------------------------------------------------------------\n",
      "\n",
      "\n",
      "Attaching package: ‘plyr’\n",
      "\n",
      "\n",
      "The following objects are masked from ‘package:dplyr’:\n",
      "\n",
      "    arrange, count, desc, failwith, id, mutate, rename, summarise,\n",
      "    summarize\n",
      "\n",
      "\n",
      "\n",
      "Attaching package: ‘purrr’\n",
      "\n",
      "\n",
      "The following object is masked from ‘package:plyr’:\n",
      "\n",
      "    compact\n",
      "\n",
      "\n"
     ]
    }
   ],
   "source": [
    "suppressPackageStartupMessages(library(readxl))\n",
    "suppressPackageStartupMessages(library(dplyr))\n",
    "suppressPackageStartupMessages(library(tidyr))\n",
    "suppressPackageStartupMessages(library(tibble))\n",
    "suppressPackageStartupMessages(library(ggplot2))\n",
    "suppressPackageStartupMessages(library(patchwork))\n",
    "suppressPackageStartupMessages(library(pheatmap))\n",
    "suppressPackageStartupMessages(library(stringr))\n",
    "library(hise)\n",
    "library(plyr)\n",
    "library(purrr)"
   ]
  },
  {
   "cell_type": "code",
   "execution_count": 48,
   "id": "eb4d8715-8f5a-48a9-b17f-3c029e03e812",
   "metadata": {
    "tags": []
   },
   "outputs": [],
   "source": [
    "fileDescToDataframe_beta <- function(descriptors,keep_labs = FALSE) {\n",
    "  descriptors<-descriptors[[1]]\n",
    "  assertthat::assert_that(typeof(descriptors) == \"list\")\n",
    "  assertthat::assert_that(typeof(keep_labs) == \"logical\")\n",
    "  \n",
    "  do.call(\n",
    "    rbind.fill,\n",
    "    lapply(\n",
    "      descriptors,\n",
    "      function(desc) {\n",
    "        desc <- unlist(desc)\n",
    "        desc <- desc[!grepl(\"scheme\", names(desc))]\n",
    "        names(desc) <- sub(\"^descriptors.\",\"\",names(desc))\n",
    "        desc <- desc[!grepl(\"^specimens\", names(desc))]\n",
    "        desc <- desc[!grepl(\"^lab\", names(desc))]\n",
    "        desc <- desc[!grepl(\"^emr\", names(desc))]\n",
    "        desc <- desc[!grepl(\"^survey\", names(desc))]\n",
    "        desc <- desc[!grepl(\"^revision\", names(desc))]\n",
    "        desc <- desc[!grepl(\"^file.userTags\", names(desc))]\n",
    "        desc <- as.list(desc)\n",
    "        df <- as.data.frame(desc)\n",
    "        df\n",
    "      }\n",
    "    )\n",
    "  )\n",
    "}\n",
    "\n",
    "fileDescToDataframe <- function(descriptors,\n",
    "                                keep_labs = FALSE) {\n",
    "  \n",
    "  assertthat::assert_that(typeof(descriptors) == \"list\")\n",
    "  assertthat::assert_that(typeof(keep_labs) == \"logical\")\n",
    "  \n",
    "  do.call(\n",
    "    rbind,\n",
    "    lapply(\n",
    "      descriptors,\n",
    "      function(desc) {\n",
    "        desc <- unlist(desc)\n",
    "        desc <- desc[!grepl(\"scheme\", names(desc))]\n",
    "        names(desc) <- sub(\"^descriptors.\",\"\",names(desc))\n",
    "        desc <- desc[!grepl(\"^specimens\", names(desc))]\n",
    "        desc <- desc[!grepl(\"^lab\", names(desc))]\n",
    "        desc <- desc[!grepl(\"^emr\", names(desc))]\n",
    "        desc <- desc[!grepl(\"^survey\", names(desc))]\n",
    "        desc <- desc[!grepl(\"^revision\", names(desc))]\n",
    "        desc <- desc[!grepl(\"^file.userTags\", names(desc))]\n",
    "        desc <- as.list(desc)\n",
    "        df <- as.data.frame(desc)\n",
    "        df\n",
    "      }\n",
    "    )\n",
    "  )\n",
    "}"
   ]
  },
  {
   "cell_type": "code",
   "execution_count": 49,
   "id": "886829cd-06ef-4300-956b-75fbabca4378",
   "metadata": {
    "tags": []
   },
   "outputs": [
    {
     "name": "stdout",
     "output_type": "stream",
     "text": [
      "[1] \"Authorization token invalid or expired.\"\n",
      "[1] \"Retrying...\"\n"
     ]
    }
   ],
   "source": [
    "BR1_rna_desc <- getFileDescriptors(\n",
    "    fileType = \"scRNA-seq-labeled\", \n",
    "    filter = list(cohort.cohortGuid = \"BR1\"))\n",
    "BR2_rna_desc <- getFileDescriptors(\n",
    "    fileType = \"scRNA-seq-labeled\", \n",
    "    filter = list(cohort.cohortGuid = \"BR2\"))"
   ]
  },
  {
   "cell_type": "code",
   "execution_count": 50,
   "id": "7713d294-470e-4bce-b823-50db7bb28ea7",
   "metadata": {
    "tags": []
   },
   "outputs": [],
   "source": [
    "BR1_rna_desc <- fileDescToDataframe_beta(BR1_rna_desc)\n",
    "BR2_rna_desc <- fileDescToDataframe_beta(BR2_rna_desc)"
   ]
  },
  {
   "cell_type": "code",
   "execution_count": 51,
   "id": "fea5288b-59be-47ad-8e23-1ec57b1080a4",
   "metadata": {
    "tags": []
   },
   "outputs": [],
   "source": [
    "meta_data<-rbind.fill(BR1_rna_desc , BR2_rna_desc )"
   ]
  },
  {
   "cell_type": "code",
   "execution_count": 52,
   "id": "a337a609-68bb-4ea1-8f60-2ba3010a98ce",
   "metadata": {
    "tags": []
   },
   "outputs": [],
   "source": [
    "meta_data<-meta_data%>% filter(!file.batchID==\"B004\")%>% filter(!subject.subjectGuid%in% c(\"BR2007\",\"BR2049\",'BR1034'))"
   ]
  },
  {
   "cell_type": "code",
   "execution_count": 53,
   "id": "e599d045-47e3-48d1-8fe2-26db30b86a79",
   "metadata": {
    "tags": []
   },
   "outputs": [],
   "source": [
    "meta_data$pbmc_sample_id<-gsub(\"_\",\"\",paste0(\"PB0\",substr(sub(\".*PB0\", \"\", meta_data$file.name),1,8)))\n",
    "meta_data<-meta_data %>% filter(!grepl(\"EXP\",file.batchID))%>% arrange(pbmc_sample_id)\n",
    "meta_data<-meta_data[!duplicated(meta_data[, c(\"sample.sampleKitGuid\")], fromLast=T),]%>% arrange(sample.sampleKitGuid)\n",
    "meta_data<-meta_data%>%mutate(sample.visitName=ifelse(sample.visitName==\"Other - Non-Flu\",sample.visitDetails,sample.visitName) )\n",
    "write.csv(meta_data,paste0(\"hise_meta_data_\",Sys.Date(),\".csv\"))"
   ]
  },
  {
   "cell_type": "code",
   "execution_count": 8,
   "id": "54a7a172-ca11-42a7-95a4-eb1ab9098d9b",
   "metadata": {
    "tags": []
   },
   "outputs": [
    {
     "data": {
      "text/plain": [
       "\n",
       "BR1 BR2 \n",
       " 47  45 "
      ]
     },
     "metadata": {},
     "output_type": "display_data"
    }
   ],
   "source": [
    "meta_data_Y1D0<-meta_data %>% filter(sample.visitName=='Flu Year 1 Day 0')\n",
    "table(meta_data_Y1D0$cohort.cohortGuid)"
   ]
  },
  {
   "cell_type": "code",
   "execution_count": 9,
   "id": "5eb5922c-a134-4661-9338-e0494569eaa0",
   "metadata": {
    "tags": []
   },
   "outputs": [
    {
     "data": {
      "text/plain": [
       "\n",
       "BR1 BR2 \n",
       "371 405 "
      ]
     },
     "metadata": {},
     "output_type": "display_data"
    }
   ],
   "source": [
    "meta_data_non_Y1D0<-meta_data %>% filter(sample.visitName!='Flu Year 1 Day 0')\n",
    "table(meta_data_non_Y1D0$cohort.cohortGuid)"
   ]
  },
  {
   "cell_type": "code",
   "execution_count": 14,
   "id": "532d31c3-809f-45ec-97a7-c3baad87d6e9",
   "metadata": {
    "tags": []
   },
   "outputs": [
    {
     "data": {
      "text/plain": [
       "\n",
       "       Flu Year 1 Day 7       Flu Year 1 Day 90  Flu Year 1 Stand-Alone \n",
       "                     92                      89                      14 \n",
       "       Flu Year 2 Day 0        Flu Year 2 Day 7       Flu Year 2 Day 90 \n",
       "                     84                      84                      82 \n",
       " Flu Year 2 Stand-Alone  Flu Year 3 Stand-Alone  Immune Variation Day 0 \n",
       "                     22                      47                      89 \n",
       " Immune Variation Day 7 Immune Variation Day 90 \n",
       "                     89                      84 "
      ]
     },
     "metadata": {},
     "output_type": "display_data"
    }
   ],
   "source": [
    "table(meta_data_non_Y1D0$sample.visitName)"
   ]
  },
  {
   "cell_type": "code",
   "execution_count": 37,
   "id": "03fe287d-4a04-46d9-8bd3-eca00df2184e",
   "metadata": {
    "tags": []
   },
   "outputs": [
    {
     "name": "stderr",
     "output_type": "stream",
     "text": [
      "submitting request as query ID first...\n",
      "\n",
      "retrieving files using fileIDS...\n",
      "\n"
     ]
    },
    {
     "name": "stdout",
     "output_type": "stream",
     "text": [
      "[1] \"Initiating file download for B072-P1_PB01565-01_2021-07-12T17:24:36.579193615Z_labeled.h5\"\n",
      "[1] \"Download successful.\"\n",
      "[1] 356\n"
     ]
    }
   ],
   "source": [
    "folder_names <- list.dirs(path = 'cache', full.names = FALSE, recursive = TRUE)\n",
    "meta_data_scRNA_list<-list()\n",
    "for (i in 1:dim(meta_data_non_Y1D0)[1]){\n",
    "if (meta_data_non_Y1D0$file.id[i] %in% folder_names){\n",
    "next\n",
    "}\n",
    "meta_data_scRNA_single <- cacheFiles(list(meta_data_non_Y1D0$file.id[i]))\n",
    "print (i)\n",
    "}"
   ]
  },
  {
   "cell_type": "code",
   "execution_count": 58,
   "id": "1899832d-825b-41ce-99dc-d13a24966c05",
   "metadata": {
    "tags": []
   },
   "outputs": [],
   "source": []
  },
  {
   "cell_type": "code",
   "execution_count": null,
   "id": "e582811f-d8de-4072-a74c-dcfb0f313767",
   "metadata": {},
   "outputs": [],
   "source": []
  },
  {
   "cell_type": "code",
   "execution_count": 38,
   "id": "1bd27b93-a1a6-4c3f-8740-b9f43324ee1d",
   "metadata": {
    "tags": []
   },
   "outputs": [],
   "source": [
    "files<-data.frame(list.files(path = \"cache/\", pattern = 'h5', all.files = TRUE,\n",
    "           full.names = FALSE, recursive = TRUE,\n",
    "           ignore.case = FALSE, include.dirs = FALSE, no.. = FALSE))"
   ]
  },
  {
   "cell_type": "code",
   "execution_count": 40,
   "id": "d441e826-c527-4e45-8cf9-071f3682e733",
   "metadata": {
    "tags": []
   },
   "outputs": [],
   "source": [
    "colnames(files)<-'file.path'"
   ]
  },
  {
   "cell_type": "code",
   "execution_count": 41,
   "id": "90e8d053-76e4-481f-836a-c70372fdf7d9",
   "metadata": {
    "tags": []
   },
   "outputs": [],
   "source": [
    "colnames(files)<-'file.path'\n",
    "separated <- strsplit(files$file.path, split = '/')"
   ]
  },
  {
   "cell_type": "code",
   "execution_count": 42,
   "id": "322385cf-29e9-439c-af61-3cd561554f4c",
   "metadata": {
    "tags": []
   },
   "outputs": [],
   "source": [
    "\n",
    "separated_matrix <- do.call(rbind, lapply(files$file.path, function(x) unlist(strsplit(x, split = '/'))))\n",
    "df <- as.data.frame(separated_matrix, stringsAsFactors = FALSE)\n",
    "colnames(df) <- c(\"file.id\", \"file.name.downloaded\")\n"
   ]
  },
  {
   "cell_type": "code",
   "execution_count": 44,
   "id": "77aa9ee4-e655-4759-900a-2de17cf40f55",
   "metadata": {
    "tags": []
   },
   "outputs": [],
   "source": [
    "meta_data_non_Y1D0<-left_join(meta_data_non_Y1D0,cbind(df,files),by=('file.id'))"
   ]
  },
  {
   "cell_type": "code",
   "execution_count": 45,
   "id": "1700b9b1-2547-4987-8e8c-7a2699a7adea",
   "metadata": {
    "tags": []
   },
   "outputs": [],
   "source": [
    "meta_data_non_Y1D0$file.path<-paste0('/home/jupyter/BRI_Analysis/scRNA/cache/',meta_data_non_Y1D0$file.path)"
   ]
  },
  {
   "cell_type": "code",
   "execution_count": 46,
   "id": "38c653da-00a7-4d41-a148-012e8bae876c",
   "metadata": {
    "tags": []
   },
   "outputs": [],
   "source": [
    "write.csv(meta_data_non_Y1D0,paste0(\"hise_meta_data_\",Sys.Date(),\"_nonY1D0.csv\"))"
   ]
  },
  {
   "cell_type": "markdown",
   "id": "0e0d740c-608e-41fc-a947-d1414f5f89e7",
   "metadata": {},
   "source": [
    "# Assemble Correct Meta Data\n"
   ]
  },
  {
   "cell_type": "code",
   "execution_count": 19,
   "id": "bdae0e84-17fb-4cc2-9658-b67e63009d88",
   "metadata": {
    "tags": []
   },
   "outputs": [],
   "source": [
    "meta_data_noY1D0<-read.csv('/home/jupyter/BRI_Analysis/scRNA/hise_meta_data_2024-01-09_nonY1D0.csv')\n",
    "meta_data_Y1DO<-read.csv('/home/jupyter/BRI_Analysis/scRNA/hise_meta_data_2023-11-19.csv')\n",
    "meta_data<-rbind.fill(meta_data_Y1DO,meta_data_noY1D0)"
   ]
  },
  {
   "cell_type": "code",
   "execution_count": 20,
   "id": "850f8533-90f3-4368-a0e5-e83c60b2fce8",
   "metadata": {
    "tags": []
   },
   "outputs": [],
   "source": [
    "slims<-read.csv('Slims_20240116.csv') %>%\n",
    "  filter(str_starts(Subject, \"BR\"))\n",
    "slims$First.Visit.Date<-as.Date(unlist(map(strsplit(slims$First.Visit.Date, ' '),1)),\"%m/%d/%Y\")\n",
    "slims$Sample_Draw_date<-slims$First.Visit.Date+slims$Days.Since.First.Visit\n",
    "slims<-slims[c(\"AIFI.Barcode\",\"Sample_Draw_date\")]\n",
    "colnames(slims)[1]<-\"sample.sampleKitGuid\""
   ]
  },
  {
   "cell_type": "code",
   "execution_count": 21,
   "id": "0d3340b6-5f43-48ba-a68f-0a2f34a31b89",
   "metadata": {
    "tags": []
   },
   "outputs": [
    {
     "name": "stderr",
     "output_type": "stream",
     "text": [
      "\u001b[1m\u001b[22mJoining with `by = join_by(sample.sampleKitGuid)`\n"
     ]
    }
   ],
   "source": [
    "meta_data<-left_join(meta_data,slims)"
   ]
  },
  {
   "cell_type": "code",
   "execution_count": 22,
   "id": "e433370a-e61d-4ddc-8b63-2a4b05b849f0",
   "metadata": {
    "tags": []
   },
   "outputs": [],
   "source": [
    "covid<-read.csv('Covid.csv')\n",
    "covid$Covid_Dose_1<-as.Date(covid$Dose.1.Date,\"%m/%d/%y\")\n",
    "covid$Covid_Dose_2<-as.Date(covid$Dase.2.Date,\"%m/%d/%y\")\n",
    "covid<-covid %>% select (AllenID,Covid_Dose_1,Covid_Dose_2)\n",
    "colnames(covid)[1]<-'subject.subjectGuid'\n"
   ]
  },
  {
   "cell_type": "code",
   "execution_count": 23,
   "id": "31d1d1cf-9e9c-44d8-86b3-58ab5174bd46",
   "metadata": {
    "tags": []
   },
   "outputs": [
    {
     "name": "stderr",
     "output_type": "stream",
     "text": [
      "\u001b[1m\u001b[22mJoining with `by = join_by(subject.subjectGuid)`\n"
     ]
    }
   ],
   "source": [
    "meta_data<-left_join(meta_data,covid)"
   ]
  },
  {
   "cell_type": "code",
   "execution_count": 25,
   "id": "541ffd21-3cba-4e82-8910-f1df0c5ede50",
   "metadata": {
    "tags": []
   },
   "outputs": [],
   "source": [
    "meta_data<-meta_data %>% mutate(Covid_exlcusion=case_when(\n",
    "(Covid_Dose_1<Sample_Draw_date & (Covid_Dose_2+45)>Sample_Draw_date)~\"yes\",\n",
    "(Covid_Dose_1<Sample_Draw_date & (Covid_Dose_1+45)>Sample_Draw_date)~\"yes\",TRUE~\"no\"\n",
    "))\n"
   ]
  },
  {
   "cell_type": "code",
   "execution_count": 29,
   "id": "71c6af64-5597-49d7-bbf7-e34e53d2e0d8",
   "metadata": {
    "tags": []
   },
   "outputs": [],
   "source": [
    "CMV<-read.csv('CMV_20220718.csv')[2:3]\n",
    "BMI<-read.csv('BR-BR-Clinical-BMI.csv')[c(1,7)]"
   ]
  },
  {
   "cell_type": "code",
   "execution_count": 30,
   "id": "39b82f61-8a7b-42b1-8ab7-606cf6364931",
   "metadata": {
    "tags": []
   },
   "outputs": [
    {
     "name": "stderr",
     "output_type": "stream",
     "text": [
      "\u001b[1m\u001b[22mJoining with `by = join_by(subject.subjectGuid)`\n",
      "\u001b[1m\u001b[22mJoining with `by = join_by(subject.subjectGuid)`\n"
     ]
    }
   ],
   "source": [
    "meta_data<-left_join(meta_data,CMV)\n",
    "meta_data<-left_join(meta_data,BMI)"
   ]
  },
  {
   "cell_type": "code",
   "execution_count": 40,
   "id": "baa7bd4a-93d8-4785-8e57-c49348a3bd84",
   "metadata": {
    "tags": []
   },
   "outputs": [],
   "source": [
    "write.csv(meta_data, 'meta_data_2024-01-16_fixed.csv')"
   ]
  },
  {
   "cell_type": "code",
   "execution_count": null,
   "id": "4004d557-2779-461d-aa8f-19f2c9c50b1a",
   "metadata": {},
   "outputs": [],
   "source": []
  }
 ],
 "metadata": {
  "kernelspec": {
   "display_name": "R 4",
   "language": "R",
   "name": "ir4"
  },
  "language_info": {
   "codemirror_mode": "r",
   "file_extension": ".r",
   "mimetype": "text/x-r-source",
   "name": "R",
   "pygments_lexer": "r",
   "version": "4.3.1"
  }
 },
 "nbformat": 4,
 "nbformat_minor": 5
}
