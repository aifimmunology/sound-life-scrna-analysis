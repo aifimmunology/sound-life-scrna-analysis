{
 "cells": [
  {
   "cell_type": "code",
   "execution_count": 25,
   "id": "5adb72ac-565d-4960-931c-3803a71e145c",
   "metadata": {
    "collapsed": true,
    "jupyter": {
     "outputs_hidden": true
    },
    "tags": []
   },
   "outputs": [],
   "source": [
    "suppressPackageStartupMessages(library(readxl))\n",
    "suppressPackageStartupMessages(library(dplyr))\n",
    "suppressPackageStartupMessages(library(tidyr))\n",
    "suppressPackageStartupMessages(library(tibble))\n",
    "suppressPackageStartupMessages(library(ggplot2))\n",
    "suppressPackageStartupMessages(library(patchwork))\n",
    "suppressPackageStartupMessages(library(pheatmap))\n",
    "suppressPackageStartupMessages(library(stringr))\n",
    "library(hise)\n",
    "library(plyr)\n",
    "library(purrr)"
   ]
  },
  {
   "cell_type": "code",
   "execution_count": 26,
   "id": "eb4d8715-8f5a-48a9-b17f-3c029e03e812",
   "metadata": {
    "tags": []
   },
   "outputs": [],
   "source": [
    "fileDescToDataframe_beta <- function(descriptors,keep_labs = FALSE) {\n",
    "  descriptors<-descriptors[[1]]\n",
    "  assertthat::assert_that(typeof(descriptors) == \"list\")\n",
    "  assertthat::assert_that(typeof(keep_labs) == \"logical\")\n",
    "  \n",
    "  do.call(\n",
    "    rbind.fill,\n",
    "    lapply(\n",
    "      descriptors,\n",
    "      function(desc) {\n",
    "        desc <- unlist(desc)\n",
    "        desc <- desc[!grepl(\"scheme\", names(desc))]\n",
    "        names(desc) <- sub(\"^descriptors.\",\"\",names(desc))\n",
    "        desc <- desc[!grepl(\"^specimens\", names(desc))]\n",
    "        desc <- desc[!grepl(\"^lab\", names(desc))]\n",
    "        desc <- desc[!grepl(\"^emr\", names(desc))]\n",
    "        desc <- desc[!grepl(\"^survey\", names(desc))]\n",
    "        desc <- desc[!grepl(\"^revision\", names(desc))]\n",
    "        desc <- desc[!grepl(\"^file.userTags\", names(desc))]\n",
    "        desc <- as.list(desc)\n",
    "        df <- as.data.frame(desc)\n",
    "        df\n",
    "      }\n",
    "    )\n",
    "  )\n",
    "}\n",
    "\n",
    "fileDescToDataframe <- function(descriptors,\n",
    "                                keep_labs = FALSE) {\n",
    "  \n",
    "  assertthat::assert_that(typeof(descriptors) == \"list\")\n",
    "  assertthat::assert_that(typeof(keep_labs) == \"logical\")\n",
    "  \n",
    "  do.call(\n",
    "    rbind,\n",
    "    lapply(\n",
    "      descriptors,\n",
    "      function(desc) {\n",
    "        desc <- unlist(desc)\n",
    "        desc <- desc[!grepl(\"scheme\", names(desc))]\n",
    "        names(desc) <- sub(\"^descriptors.\",\"\",names(desc))\n",
    "        desc <- desc[!grepl(\"^specimens\", names(desc))]\n",
    "        desc <- desc[!grepl(\"^lab\", names(desc))]\n",
    "        desc <- desc[!grepl(\"^emr\", names(desc))]\n",
    "        desc <- desc[!grepl(\"^survey\", names(desc))]\n",
    "        desc <- desc[!grepl(\"^revision\", names(desc))]\n",
    "        desc <- desc[!grepl(\"^file.userTags\", names(desc))]\n",
    "        desc <- as.list(desc)\n",
    "        df <- as.data.frame(desc)\n",
    "        df\n",
    "      }\n",
    "    )\n",
    "  )\n",
    "}"
   ]
  },
  {
   "cell_type": "code",
   "execution_count": 27,
   "id": "886829cd-06ef-4300-956b-75fbabca4378",
   "metadata": {
    "tags": []
   },
   "outputs": [],
   "source": [
    "BR1_rna_desc <- getFileDescriptors(\n",
    "    fileType = \"scRNA-seq-labeled\", \n",
    "    filter = list(cohort.cohortGuid = \"BR1\"))\n",
    "BR2_rna_desc <- getFileDescriptors(\n",
    "    fileType = \"scRNA-seq-labeled\", \n",
    "    filter = list(cohort.cohortGuid = \"BR2\"))"
   ]
  },
  {
   "cell_type": "code",
   "execution_count": 28,
   "id": "7713d294-470e-4bce-b823-50db7bb28ea7",
   "metadata": {
    "tags": []
   },
   "outputs": [],
   "source": [
    "BR1_rna_desc <- fileDescToDataframe_beta(BR1_rna_desc)\n",
    "BR2_rna_desc <- fileDescToDataframe_beta(BR2_rna_desc)"
   ]
  },
  {
   "cell_type": "code",
   "execution_count": 29,
   "id": "fea5288b-59be-47ad-8e23-1ec57b1080a4",
   "metadata": {
    "tags": []
   },
   "outputs": [],
   "source": [
    "meta_data<-rbind.fill(BR1_rna_desc , BR2_rna_desc )"
   ]
  },
  {
   "cell_type": "code",
   "execution_count": 30,
   "id": "a337a609-68bb-4ea1-8f60-2ba3010a98ce",
   "metadata": {
    "tags": []
   },
   "outputs": [],
   "source": [
    "meta_data<-meta_data%>% filter(!file.batchID==\"B004\")%>% filter(!subject.subjectGuid%in% c(\"BR2007\",\"BR2049\",'BR1034'))"
   ]
  },
  {
   "cell_type": "code",
   "execution_count": 31,
   "id": "e599d045-47e3-48d1-8fe2-26db30b86a79",
   "metadata": {
    "tags": []
   },
   "outputs": [],
   "source": [
    "meta_data$pbmc_sample_id<-gsub(\"_\",\"\",paste0(\"PB0\",substr(sub(\".*PB0\", \"\", meta_data$file.name),1,8)))\n",
    "meta_data<-meta_data %>% filter(!grepl(\"EXP\",file.batchID))%>% arrange(pbmc_sample_id)\n",
    "meta_data<-meta_data[!duplicated(meta_data[, c(\"sample.sampleKitGuid\")], fromLast=T),]%>% arrange(sample.sampleKitGuid)\n",
    "meta_data<-meta_data%>%mutate(sample.visitName=ifelse(sample.visitName==\"Other - Non-Flu\",sample.visitDetails,sample.visitName) )"
   ]
  },
  {
   "cell_type": "code",
   "execution_count": 32,
   "id": "5eb5922c-a134-4661-9338-e0494569eaa0",
   "metadata": {
    "tags": []
   },
   "outputs": [
    {
     "data": {
      "text/plain": [
       "\n",
       "BR1 BR2 \n",
       "371 405 "
      ]
     },
     "metadata": {},
     "output_type": "display_data"
    }
   ],
   "source": [
    "meta_data_non_Y1D0<-meta_data %>% filter(sample.visitName!='Flu Year 1 Day 0')\n",
    "table(meta_data_non_Y1D0$cohort.cohortGuid)"
   ]
  },
  {
   "cell_type": "code",
   "execution_count": 33,
   "id": "5de468c8-18f0-42f8-b323-93df5315fe3c",
   "metadata": {
    "tags": []
   },
   "outputs": [],
   "source": [
    "write.csv(meta_data_non_Y1D0,paste0(\"hise_meta_data_\",Sys.Date(),\"_nonY1D0.csv\"))"
   ]
  },
  {
   "cell_type": "code",
   "execution_count": 83,
   "id": "4b2b579d-7188-49bc-aedf-3ee2b82a3a4b",
   "metadata": {
    "tags": []
   },
   "outputs": [],
   "source": [
    "meta_data_noY1D0<-read.csv('/home/jupyter/BRI_Analysis/scRNA/hise_meta_data_2024-01-22_nonY1D0.csv')\n",
    "meta_data_Y1DO<-read.csv('/home/jupyter/BRI_Analysis/scRNA/hise_meta_data_2023-11-19.csv')\n",
    "meta_data<-rbind.fill(meta_data_Y1DO,meta_data_noY1D0)\n",
    "slims<-read.csv('Slims_20240116.csv') %>%\n",
    "  filter(str_starts(Subject, \"BR\"))\n",
    "slims$First.Visit.Date<-as.Date(unlist(map(strsplit(slims$First.Visit.Date, ' '),1)),\"%m/%d/%Y\")\n",
    "slims$Sample_Draw_date<-slims$First.Visit.Date+slims$Days.Since.First.Visit\n",
    "slims<-slims[c(\"AIFI.Barcode\",\"Sample_Draw_date\")]\n",
    "colnames(slims)[1]<-\"sample.sampleKitGuid\""
   ]
  },
  {
   "cell_type": "code",
   "execution_count": 84,
   "id": "8401c198-d861-4a2b-ab0e-43d8d4fe4251",
   "metadata": {
    "tags": []
   },
   "outputs": [
    {
     "name": "stderr",
     "output_type": "stream",
     "text": [
      "\u001b[1m\u001b[22mJoining with `by = join_by(sample.sampleKitGuid)`\n"
     ]
    }
   ],
   "source": [
    "meta_data<-left_join(meta_data,slims)"
   ]
  },
  {
   "cell_type": "code",
   "execution_count": 85,
   "id": "a8c63e54-7622-46c3-8297-1f7e3b75d3c9",
   "metadata": {
    "tags": []
   },
   "outputs": [],
   "source": [
    "covid<-read.csv('Covid.csv')\n",
    "covid$Covid_Dose_1<-as.Date(covid$Dose.1.Date,\"%m/%d/%y\")\n",
    "covid$Covid_Dose_2<-as.Date(covid$Dase.2.Date,\"%m/%d/%y\")\n",
    "covid<-covid %>% select (AllenID,Covid_Dose_1,Covid_Dose_2)\n",
    "colnames(covid)[1]<-'subject.subjectGuid'\n"
   ]
  },
  {
   "cell_type": "code",
   "execution_count": 86,
   "id": "b2ee925a-e7d6-4f3c-a79e-18481314b32c",
   "metadata": {
    "tags": []
   },
   "outputs": [
    {
     "name": "stderr",
     "output_type": "stream",
     "text": [
      "\u001b[1m\u001b[22mJoining with `by = join_by(subject.subjectGuid)`\n"
     ]
    }
   ],
   "source": [
    "meta_data<-left_join(meta_data,covid)"
   ]
  },
  {
   "cell_type": "code",
   "execution_count": 87,
   "id": "575cf5d3-656e-4efd-9081-028f64eaa0b2",
   "metadata": {
    "tags": []
   },
   "outputs": [],
   "source": [
    "meta_data<-meta_data %>% mutate(Covid_exlcusion=case_when(\n",
    "(Covid_Dose_1<Sample_Draw_date & (Covid_Dose_2+45)>Sample_Draw_date)~\"yes\",\n",
    "(Covid_Dose_1<Sample_Draw_date & (Covid_Dose_1+45)>Sample_Draw_date)~\"yes\",TRUE~\"no\"\n",
    "))\n"
   ]
  },
  {
   "cell_type": "code",
   "execution_count": 88,
   "id": "48d796c9-477b-4c3a-a10b-010e33573bed",
   "metadata": {
    "tags": []
   },
   "outputs": [],
   "source": [
    "CMV<-read.csv('CMV_20220718.csv')[2:3]\n",
    "BMI<-read.csv('BR-BR-Clinical-BMI.csv')[c(1,7)]"
   ]
  },
  {
   "cell_type": "code",
   "execution_count": 89,
   "id": "9c1f7c4e-ac12-4fe7-bf72-b300b82d07af",
   "metadata": {
    "tags": []
   },
   "outputs": [
    {
     "name": "stderr",
     "output_type": "stream",
     "text": [
      "\u001b[1m\u001b[22mJoining with `by = join_by(subject.subjectGuid)`\n",
      "\u001b[1m\u001b[22mJoining with `by = join_by(subject.subjectGuid)`\n"
     ]
    }
   ],
   "source": [
    "meta_data<-left_join(meta_data,CMV)\n",
    "meta_data<-left_join(meta_data,BMI)"
   ]
  },
  {
   "cell_type": "code",
   "execution_count": 90,
   "id": "ee2874a2-49de-4028-9224-64595b38eab5",
   "metadata": {
    "tags": []
   },
   "outputs": [],
   "source": [
    "meta_data<-meta_data %>% filter(cohort.cohortGuid%in%c(\"BR1\",'BR2'))"
   ]
  },
  {
   "cell_type": "code",
   "execution_count": 91,
   "id": "532d31c3-809f-45ec-97a7-c3baad87d6e9",
   "metadata": {
    "tags": []
   },
   "outputs": [
    {
     "data": {
      "text/plain": [
       "\n",
       "       Flu Year 1 Day 0        Flu Year 1 Day 7       Flu Year 1 Day 90 \n",
       "                     92                      92                      89 \n",
       " Flu Year 1 Stand-Alone        Flu Year 2 Day 0        Flu Year 2 Day 7 \n",
       "                     14                      84                      84 \n",
       "      Flu Year 2 Day 90  Flu Year 2 Stand-Alone  Flu Year 3 Stand-Alone \n",
       "                     82                      22                      47 \n",
       " Immune Variation Day 0  Immune Variation Day 7 Immune Variation Day 90 \n",
       "                     89                      89                      84 "
      ]
     },
     "metadata": {},
     "output_type": "display_data"
    }
   ],
   "source": [
    "table(meta_data$sample.visitName)"
   ]
  },
  {
   "cell_type": "code",
   "execution_count": 92,
   "id": "03fe287d-4a04-46d9-8bd3-eca00df2184e",
   "metadata": {
    "tags": []
   },
   "outputs": [],
   "source": [
    "folder_names <- list.dirs(path = 'cache', full.names = FALSE, recursive = TRUE)\n",
    "meta_data_scRNA_list<-list()\n",
    "for (i in 1:dim(meta_data)[1]){\n",
    "if (meta_data$file.id[i] %in% folder_names){\n",
    "next\n",
    "} \n",
    "meta_data_scRNA_single <- cacheFiles(list(meta_data$file.id[i]))\n",
    "print (i)\n",
    "}"
   ]
  },
  {
   "cell_type": "code",
   "execution_count": 93,
   "id": "bbb24cfb-703f-4b79-8b03-ae46d320d298",
   "metadata": {
    "tags": []
   },
   "outputs": [],
   "source": [
    "meta_data$file.path<-NULL\n",
    "meta_data$file.name.downloaded<-NULL\n"
   ]
  },
  {
   "cell_type": "code",
   "execution_count": 94,
   "id": "1bd27b93-a1a6-4c3f-8740-b9f43324ee1d",
   "metadata": {
    "tags": []
   },
   "outputs": [],
   "source": [
    "files<-data.frame(list.files(path = \"cache/\", pattern = 'h5', all.files = TRUE,\n",
    "           full.names = FALSE, recursive = TRUE,\n",
    "           ignore.case = FALSE, include.dirs = FALSE, no.. = FALSE))"
   ]
  },
  {
   "cell_type": "code",
   "execution_count": 95,
   "id": "90e8d053-76e4-481f-836a-c70372fdf7d9",
   "metadata": {
    "tags": []
   },
   "outputs": [],
   "source": [
    "colnames(files)<-'file.path'\n",
    "separated <- strsplit(files$file.path, split = '/')"
   ]
  },
  {
   "cell_type": "code",
   "execution_count": 96,
   "id": "322385cf-29e9-439c-af61-3cd561554f4c",
   "metadata": {
    "tags": []
   },
   "outputs": [],
   "source": [
    "separated_matrix <- do.call(rbind, lapply(files$file.path, function(x) unlist(strsplit(x, split = '/'))))\n",
    "df <- as.data.frame(separated_matrix, stringsAsFactors = FALSE)\n",
    "colnames(df) <- c(\"file.id\", \"file.name.downloaded\")"
   ]
  },
  {
   "cell_type": "code",
   "execution_count": 97,
   "id": "77aa9ee4-e655-4759-900a-2de17cf40f55",
   "metadata": {
    "tags": []
   },
   "outputs": [],
   "source": [
    "meta_data<-left_join(meta_data,cbind(df,files),by=('file.id'))"
   ]
  },
  {
   "cell_type": "code",
   "execution_count": 99,
   "id": "1700b9b1-2547-4987-8e8c-7a2699a7adea",
   "metadata": {
    "tags": []
   },
   "outputs": [],
   "source": [
    "meta_data$file.path<-paste0('/home/jupyter/BRI_Analysis/scRNA/cache/',meta_data$file.path)"
   ]
  },
  {
   "cell_type": "code",
   "execution_count": 100,
   "id": "38c653da-00a7-4d41-a148-012e8bae876c",
   "metadata": {
    "tags": []
   },
   "outputs": [],
   "source": [
    "write.csv(meta_data,paste0(\"hise_meta_data_\",Sys.Date(),\"_fixed.csv\"))"
   ]
  },
  {
   "cell_type": "code",
   "execution_count": null,
   "id": "33403963-fc9f-415a-99b0-78174d9f015d",
   "metadata": {},
   "outputs": [],
   "source": []
  }
 ],
 "metadata": {
  "kernelspec": {
   "display_name": "R 4",
   "language": "R",
   "name": "ir4"
  },
  "language_info": {
   "codemirror_mode": "r",
   "file_extension": ".r",
   "mimetype": "text/x-r-source",
   "name": "R",
   "pygments_lexer": "r",
   "version": "4.3.1"
  }
 },
 "nbformat": 4,
 "nbformat_minor": 5
}
