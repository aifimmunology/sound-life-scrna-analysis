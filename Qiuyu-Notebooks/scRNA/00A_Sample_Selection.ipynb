{
 "cells": [
  {
   "cell_type": "code",
   "execution_count": 1,
   "id": "5adb72ac-565d-4960-931c-3803a71e145c",
   "metadata": {
    "tags": []
   },
   "outputs": [],
   "source": [
    "quiet_library <- function(...) { suppressPackageStartupMessages(library(...)) }\n",
    "quiet_library(dplyr)\n",
    "quiet_library(hise)\n",
    "quiet_library(purrr)"
   ]
  },
  {
   "cell_type": "code",
   "execution_count": 2,
   "id": "886829cd-06ef-4300-956b-75fbabca4378",
   "metadata": {
    "tags": []
   },
   "outputs": [],
   "source": [
    "BR1_rna_desc <- getFileDescriptors(\n",
    "    fileType = \"scRNA-seq-labeled\", \n",
    "    filter = list(cohort.cohortGuid = \"BR1\"))\n",
    "BR2_rna_desc <- getFileDescriptors(\n",
    "    fileType = \"scRNA-seq-labeled\", \n",
    "    filter = list(cohort.cohortGuid = \"BR2\"))"
   ]
  },
  {
   "cell_type": "code",
   "execution_count": 3,
   "id": "7713d294-470e-4bce-b823-50db7bb28ea7",
   "metadata": {
    "tags": []
   },
   "outputs": [],
   "source": [
    "BR1_rna_desc <- fileDescToDataframe(BR1_rna_desc)\n",
    "BR2_rna_desc <- fileDescToDataframe(BR2_rna_desc)"
   ]
  },
  {
   "cell_type": "code",
   "execution_count": 5,
   "id": "fea5288b-59be-47ad-8e23-1ec57b1080a4",
   "metadata": {
    "tags": []
   },
   "outputs": [],
   "source": [
    "meta_data <- rbind(BR1_rna_desc, BR2_rna_desc )"
   ]
  },
  {
   "cell_type": "markdown",
   "id": "4d3cb6fd-6aa3-4bc4-adc2-1fa8089dabab",
   "metadata": {},
   "source": [
    "## Filter batches and subjects\n",
    "\n",
    "Batches starting with \"EXP\" - these are non-pipeline, experimental method testing batches.  \n",
    "Batch B004 - this very early batch has technical problems, and samples have been re-run in later batches.  \n",
    "Subjects BR2007, BR2049, and BR1034 - these subjects have non-healthy characteristics that make them outliers from our healthy cohorts."
   ]
  },
  {
   "cell_type": "code",
   "execution_count": 6,
   "id": "a337a609-68bb-4ea1-8f60-2ba3010a98ce",
   "metadata": {
    "tags": []
   },
   "outputs": [],
   "source": [
    "meta_data <- meta_data %>%\n",
    "  filter(!grepl(\"^EXP\", file.batchID)) %>%\n",
    "  filter(!file.batchID==\"B004\") %>% \n",
    "  filter(!subject.subjectGuid%in% c(\"BR2007\",\"BR2049\",'BR1034'))"
   ]
  },
  {
   "cell_type": "markdown",
   "id": "52941350-3c81-431e-bcde-6671970c0c34",
   "metadata": {},
   "source": [
    "Remove duplicate samples and keep the latest batch used for each sample"
   ]
  },
  {
   "cell_type": "code",
   "execution_count": 7,
   "id": "46fd15ed-137c-48b8-a1d0-9b83b90774e3",
   "metadata": {},
   "outputs": [],
   "source": [
    "meta_data <- meta_data %>%\n",
    "  group_by(sample.sampleKitGuid) %>%\n",
    "  arrange(desc(file.batchID)) %>%\n",
    "  slice(1) %>%\n",
    "  ungroup()"
   ]
  },
  {
   "cell_type": "markdown",
   "id": "238cac54-011e-4ec4-9a0b-297b87aec867",
   "metadata": {},
   "source": [
    "Add a pbmc_sample_id column based on the file name, and align the visit names"
   ]
  },
  {
   "cell_type": "code",
   "execution_count": 8,
   "id": "40a5ce49-1fac-4bb8-ac0a-33ca1af3ad2b",
   "metadata": {},
   "outputs": [],
   "source": [
    "meta_data <- meta_data %>%\n",
    "  mutate(pbmc_sample_id = gsub(\"_\",\"\",paste0(\"PB0\",substr(sub(\".*PB0\", \"\", meta_data$file.name),1,8)))) %>%\n",
    "  mutate(smple.visitName = ifelse(sample.visitName == \"Other - Non-Flu\",\n",
    "                                  sample.visitDetails,\n",
    "                                  sample.visitName))"
   ]
  },
  {
   "cell_type": "markdown",
   "id": "0d7c216e-7478-4c15-bf31-82121e3a0620",
   "metadata": {},
   "source": [
    "Select samples after Flu Year 1 Day 0, which are what we need to label"
   ]
  },
  {
   "cell_type": "code",
   "execution_count": 9,
   "id": "6280504c-64d4-4e16-9981-c6c5af7cf903",
   "metadata": {},
   "outputs": [],
   "source": [
    "meta_data_non_Y1D0 <- meta_data %>% \n",
    "  filter(sample.visitName != 'Flu Year 1 Day 0')"
   ]
  },
  {
   "cell_type": "code",
   "execution_count": 10,
   "id": "5eb5922c-a134-4661-9338-e0494569eaa0",
   "metadata": {
    "tags": []
   },
   "outputs": [
    {
     "data": {
      "text/plain": [
       "\n",
       "BR1 BR2 \n",
       "371 405 "
      ]
     },
     "metadata": {},
     "output_type": "display_data"
    }
   ],
   "source": [
    "table(meta_data_non_Y1D0$cohort.cohortGuid)"
   ]
  },
  {
   "cell_type": "code",
   "execution_count": 15,
   "id": "61f493c3-1705-4bca-8efd-9cf7cdf08132",
   "metadata": {},
   "outputs": [
    {
     "data": {
      "text/html": [
       "<style>\n",
       ".list-inline {list-style: none; margin:0; padding: 0}\n",
       ".list-inline>li {display: inline-block}\n",
       ".list-inline>li:not(:last-child)::after {content: \"\\00b7\"; padding: 0 .5ex}\n",
       "</style>\n",
       "<ol class=list-inline><li>'2019-10-01T00:00:00Z'</li><li>'2019-10-01T00:00:00Z'</li><li>'2019-10-01T00:00:00Z'</li><li>'2019-10-01T00:00:00Z'</li><li>'2019-10-01T00:00:00Z'</li><li>'2019-10-01T00:00:00Z'</li></ol>\n"
      ],
      "text/latex": [
       "\\begin{enumerate*}\n",
       "\\item '2019-10-01T00:00:00Z'\n",
       "\\item '2019-10-01T00:00:00Z'\n",
       "\\item '2019-10-01T00:00:00Z'\n",
       "\\item '2019-10-01T00:00:00Z'\n",
       "\\item '2019-10-01T00:00:00Z'\n",
       "\\item '2019-10-01T00:00:00Z'\n",
       "\\end{enumerate*}\n"
      ],
      "text/markdown": [
       "1. '2019-10-01T00:00:00Z'\n",
       "2. '2019-10-01T00:00:00Z'\n",
       "3. '2019-10-01T00:00:00Z'\n",
       "4. '2019-10-01T00:00:00Z'\n",
       "5. '2019-10-01T00:00:00Z'\n",
       "6. '2019-10-01T00:00:00Z'\n",
       "\n",
       "\n"
      ],
      "text/plain": [
       "[1] \"2019-10-01T00:00:00Z\" \"2019-10-01T00:00:00Z\" \"2019-10-01T00:00:00Z\"\n",
       "[4] \"2019-10-01T00:00:00Z\" \"2019-10-01T00:00:00Z\" \"2019-10-01T00:00:00Z\""
      ]
     },
     "metadata": {},
     "output_type": "display_data"
    }
   ],
   "source": [
    "head(meta_data$sample.drawDate)"
   ]
  },
  {
   "cell_type": "code",
   "execution_count": 33,
   "id": "5de468c8-18f0-42f8-b323-93df5315fe3c",
   "metadata": {
    "tags": []
   },
   "outputs": [],
   "source": [
    "write.csv(meta_data_non_Y1D0,paste0(\"hise_meta_data_\",Sys.Date(),\"_nonY1D0.csv\"))"
   ]
  },
  {
   "cell_type": "markdown",
   "id": "9ff6b964-59a9-4569-9a42-df0c928870b1",
   "metadata": {},
   "source": [
    "## To Be Updated\n",
    "\n",
    "We need to replace the calculations below with HISE-native calculation of days relative to COVID-19 vaccine doses, CMV status, and BMI.\n",
    "\n",
    "BMI can be calculated using Height and Weight in labs.  \n",
    "CMV status is stored in HISE in labs.  \n",
    "COVID-19 vaccination in days relative to first visit need to be added to HISE."
   ]
  },
  {
   "cell_type": "raw",
   "id": "952c8a4a-90c2-4c2c-8df2-f584d1c22c28",
   "metadata": {
    "tags": []
   },
   "source": [
    "meta_data_noY1D0<-read.csv('/home/jupyter/BRI_Analysis/scRNA/hise_meta_data_2024-01-22_nonY1D0.csv')\n",
    "meta_data_Y1DO<-read.csv('/home/jupyter/BRI_Analysis/scRNA/hise_meta_data_2023-11-19.csv')\n",
    "meta_data<-rbind.fill(meta_data_Y1DO,meta_data_noY1D0)\n",
    "slims<-read.csv('Slims_20240116.csv') %>%\n",
    "  filter(str_starts(Subject, \"BR\"))\n",
    "slims$First.Visit.Date<-as.Date(unlist(map(strsplit(slims$First.Visit.Date, ' '),1)),\"%m/%d/%Y\")\n",
    "slims$Sample_Draw_date<-slims$First.Visit.Date+slims$Days.Since.First.Visit\n",
    "slims<-slims[c(\"AIFI.Barcode\",\"Sample_Draw_date\")]\n",
    "colnames(slims)[1]<-\"sample.sampleKitGuid\""
   ]
  },
  {
   "cell_type": "raw",
   "id": "75350315-4191-49d0-a9b5-86e299dd222a",
   "metadata": {
    "tags": []
   },
   "source": [
    "meta_data<-left_join(meta_data,slims)"
   ]
  },
  {
   "cell_type": "raw",
   "id": "b7d6f36e-d113-4cbd-8c09-24e83116408f",
   "metadata": {
    "tags": []
   },
   "source": [
    "covid<-read.csv('Covid.csv')\n",
    "covid$Covid_Dose_1<-as.Date(covid$Dose.1.Date,\"%m/%d/%y\")\n",
    "covid$Covid_Dose_2<-as.Date(covid$Dase.2.Date,\"%m/%d/%y\")\n",
    "covid<-covid %>% select (AllenID,Covid_Dose_1,Covid_Dose_2)\n",
    "colnames(covid)[1]<-'subject.subjectGuid'"
   ]
  },
  {
   "cell_type": "raw",
   "id": "181851eb-b076-48cf-83ae-5ee660cf213e",
   "metadata": {
    "tags": []
   },
   "source": [
    "meta_data<-left_join(meta_data,covid)"
   ]
  },
  {
   "cell_type": "raw",
   "id": "49b37ff7-1dcc-4735-a7f6-e6432f03086b",
   "metadata": {
    "tags": []
   },
   "source": [
    "meta_data<-meta_data %>% mutate(Covid_exlcusion=case_when(\n",
    "(Covid_Dose_1<Sample_Draw_date & (Covid_Dose_2+45)>Sample_Draw_date)~\"yes\",\n",
    "(Covid_Dose_1<Sample_Draw_date & (Covid_Dose_1+45)>Sample_Draw_date)~\"yes\",TRUE~\"no\"\n",
    "))\n"
   ]
  },
  {
   "cell_type": "raw",
   "id": "ed423feb-738b-4178-9e0c-c2f7d09b3458",
   "metadata": {
    "tags": []
   },
   "source": [
    "CMV<-read.csv('CMV_20220718.csv')[2:3]\n",
    "BMI<-read.csv('BR-BR-Clinical-BMI.csv')[c(1,7)]"
   ]
  },
  {
   "cell_type": "raw",
   "id": "6f73d611-54cb-4b97-9af1-824ab0869e09",
   "metadata": {
    "tags": []
   },
   "source": [
    "meta_data<-left_join(meta_data,CMV)\n",
    "meta_data<-left_join(meta_data,BMI)"
   ]
  },
  {
   "cell_type": "raw",
   "id": "e564640a-f79a-42df-b2c6-3b1d7b47f0bd",
   "metadata": {
    "tags": []
   },
   "source": [
    "meta_data<-meta_data %>% filter(cohort.cohortGuid%in%c(\"BR1\",'BR2'))"
   ]
  },
  {
   "cell_type": "raw",
   "id": "7534f7e9-709c-47b9-8210-11c002e10860",
   "metadata": {
    "scrolled": true,
    "tags": []
   },
   "source": [
    "table(meta_data$sample.visitName)"
   ]
  },
  {
   "cell_type": "raw",
   "id": "35be65ae-1da5-4885-9b01-86163c37266b",
   "metadata": {
    "tags": []
   },
   "source": [
    "folder_names <- list.dirs(path = 'cache', full.names = FALSE, recursive = TRUE)\n",
    "meta_data_scRNA_list<-list()\n",
    "for (i in 1:dim(meta_data)[1]){\n",
    "if (meta_data$file.id[i] %in% folder_names){\n",
    "next\n",
    "} \n",
    "meta_data_scRNA_single <- cacheFiles(list(meta_data$file.id[i]))\n",
    "print (i)\n",
    "}"
   ]
  },
  {
   "cell_type": "raw",
   "id": "59421a79-153a-4e97-a4ba-532e7457d14a",
   "metadata": {
    "tags": []
   },
   "source": [
    "meta_data$file.path<-NULL\n",
    "meta_data$file.name.downloaded<-NULL\n"
   ]
  },
  {
   "cell_type": "raw",
   "id": "91de58b9-08e7-48be-91d2-02ad3bdc3ac6",
   "metadata": {
    "tags": []
   },
   "source": [
    "files<-data.frame(list.files(path = \"cache/\", pattern = 'h5', all.files = TRUE,\n",
    "           full.names = FALSE, recursive = TRUE,\n",
    "           ignore.case = FALSE, include.dirs = FALSE, no.. = FALSE))"
   ]
  },
  {
   "cell_type": "raw",
   "id": "5baa570d-e8f5-47f7-97aa-96ff20698a71",
   "metadata": {
    "tags": []
   },
   "source": [
    "colnames(files)<-'file.path'\n",
    "separated <- strsplit(files$file.path, split = '/')"
   ]
  },
  {
   "cell_type": "raw",
   "id": "0cf2e3fc-163c-4ddb-9f55-66d2cd9de853",
   "metadata": {
    "tags": []
   },
   "source": [
    "separated_matrix <- do.call(rbind, lapply(files$file.path, function(x) unlist(strsplit(x, split = '/'))))\n",
    "df <- as.data.frame(separated_matrix, stringsAsFactors = FALSE)\n",
    "colnames(df) <- c(\"file.id\", \"file.name.downloaded\")"
   ]
  },
  {
   "cell_type": "raw",
   "id": "c4501d0b-5e10-4527-86d7-3744d50cb91c",
   "metadata": {
    "tags": []
   },
   "source": [
    "meta_data<-left_join(meta_data,cbind(df,files),by=('file.id'))"
   ]
  },
  {
   "cell_type": "raw",
   "id": "9492bbd7-2356-4a6b-919b-7b9dce0dd6d5",
   "metadata": {
    "tags": []
   },
   "source": [
    "meta_data$file.path<-paste0('/home/jupyter/BRI_Analysis/scRNA/cache/',meta_data$file.path)"
   ]
  },
  {
   "cell_type": "raw",
   "id": "b306328f-f31a-4b39-96c8-de494c429363",
   "metadata": {
    "tags": []
   },
   "source": [
    "write.csv(meta_data,paste0(\"hise_meta_data_\",Sys.Date(),\"_fixed.csv\"))"
   ]
  },
  {
   "cell_type": "code",
   "execution_count": 16,
   "id": "33403963-fc9f-415a-99b0-78174d9f015d",
   "metadata": {},
   "outputs": [
    {
     "data": {
      "text/plain": [
       "R version 4.3.2 (2023-10-31)\n",
       "Platform: x86_64-conda-linux-gnu (64-bit)\n",
       "Running under: Ubuntu 20.04.6 LTS\n",
       "\n",
       "Matrix products: default\n",
       "BLAS/LAPACK: /opt/conda/lib/libopenblasp-r0.3.25.so;  LAPACK version 3.11.0\n",
       "\n",
       "locale:\n",
       " [1] LC_CTYPE=C.UTF-8       LC_NUMERIC=C           LC_TIME=C.UTF-8       \n",
       " [4] LC_COLLATE=C.UTF-8     LC_MONETARY=C.UTF-8    LC_MESSAGES=C.UTF-8   \n",
       " [7] LC_PAPER=C.UTF-8       LC_NAME=C              LC_ADDRESS=C          \n",
       "[10] LC_TELEPHONE=C         LC_MEASUREMENT=C.UTF-8 LC_IDENTIFICATION=C   \n",
       "\n",
       "time zone: Etc/UTC\n",
       "tzcode source: system (glibc)\n",
       "\n",
       "attached base packages:\n",
       "[1] stats     graphics  grDevices utils     datasets  methods   base     \n",
       "\n",
       "other attached packages:\n",
       "[1] purrr_1.0.2 hise_2.16.0 dplyr_1.1.4\n",
       "\n",
       "loaded via a namespace (and not attached):\n",
       " [1] crayon_1.5.2     vctrs_0.6.5      httr_1.4.7       cli_3.6.2       \n",
       " [5] rlang_1.1.3      stringi_1.8.3    generics_0.1.3   assertthat_0.2.1\n",
       " [9] jsonlite_1.8.8   glue_1.7.0       RCurl_1.98-1.14  plyr_1.8.9      \n",
       "[13] htmltools_0.5.7  IRdisplay_1.1    IRkernel_1.3.2   fansi_1.0.6     \n",
       "[17] evaluate_0.23    tibble_3.2.1     bitops_1.0-7     fastmap_1.1.1   \n",
       "[21] base64enc_0.1-3  lifecycle_1.0.4  stringr_1.5.1    compiler_4.3.2  \n",
       "[25] Rcpp_1.0.12      pkgconfig_2.0.3  pbdZMQ_0.3-10    digest_0.6.34   \n",
       "[29] R6_2.5.1         repr_1.1.6.9000  tidyselect_1.2.0 utf8_1.2.4      \n",
       "[33] curl_5.1.0       pillar_1.9.0     magrittr_2.0.3   uuid_1.2-0      \n",
       "[37] tools_4.3.2     "
      ]
     },
     "metadata": {},
     "output_type": "display_data"
    }
   ],
   "source": [
    "sessionInfo()"
   ]
  },
  {
   "cell_type": "code",
   "execution_count": null,
   "id": "7cca42bd-6e0b-4c2c-b540-862d075a95c6",
   "metadata": {},
   "outputs": [],
   "source": []
  }
 ],
 "metadata": {
  "kernelspec": {
   "display_name": "R 4",
   "language": "R",
   "name": "ir4"
  },
  "language_info": {
   "codemirror_mode": "r",
   "file_extension": ".r",
   "mimetype": "text/x-r-source",
   "name": "R",
   "pygments_lexer": "r",
   "version": "4.3.2"
  }
 },
 "nbformat": 4,
 "nbformat_minor": 5
}
