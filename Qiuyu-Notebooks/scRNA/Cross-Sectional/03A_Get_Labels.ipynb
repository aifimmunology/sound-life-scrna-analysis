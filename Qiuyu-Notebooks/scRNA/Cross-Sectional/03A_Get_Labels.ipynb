{
 "cells": [
  {
   "cell_type": "code",
   "execution_count": 1,
   "id": "954683a5-b1a9-443e-8a86-ab897bccd74c",
   "metadata": {
    "tags": []
   },
   "outputs": [
    {
     "name": "stderr",
     "output_type": "stream",
     "text": [
      "/tmp/ipykernel_98380/377559581.py:15: DeprecationWarning: Please use `pearsonr` from the `scipy.stats` namespace, the `scipy.stats.stats` namespace is deprecated.\n",
      "  from scipy.stats.stats import pearsonr\n"
     ]
    }
   ],
   "source": [
    "import scanpy as sc\n",
    "import pandas as pd \n",
    "import numpy as np\n",
    "import anndata\n",
    "import re\n",
    "import h5py\n",
    "import scipy.sparse as scs\n",
    "import concurrent.futures\n",
    "import matplotlib.pyplot as plt\n",
    "import seaborn as sns\n",
    "from scipy.sparse import csc_matrix\n",
    "import umap\n",
    "from sklearn.preprocessing import StandardScaler\n",
    "import random\n",
    "from scipy.stats.stats import pearsonr\n",
    "random.seed(123)\n",
    "from joblib import Parallel, delayed"
   ]
  },
  {
   "cell_type": "code",
   "execution_count": 2,
   "id": "dd860d08-eeb9-4e8c-aa8f-86230cf86dcf",
   "metadata": {
    "tags": []
   },
   "outputs": [],
   "source": [
    "adata=sc.read_h5ad('/home/jupyter/reference_generating_new/All_consturction/AIFI_Reference_raw.h5ad')"
   ]
  },
  {
   "cell_type": "code",
   "execution_count": 15,
   "id": "479eed2a-47f5-4686-8a5d-673eaf936351",
   "metadata": {
    "tags": []
   },
   "outputs": [],
   "source": [
    "selected_col=['barcodes','subject.biologicalSex', 'subject.ethnicity', 'subject.partnerCode', \n",
    "              'subject.race', 'subject.subjectGuid', 'cohort.cohortGuid', 'sample.visitName', \n",
    "              'sample.visitDetails', 'subject.birthYear', 'CMV.IgG.Serology.Result.Interpretation',\n",
    "              'BMI', 'predicted.celltype.l1.score', 'predicted.celltype.l1', 'predicted.celltype.l2.score', \n",
    "              'predicted.celltype.l2', 'predicted.celltype.l3.score', 'predicted.celltype.l3', \n",
    "              'predicted.celltype.l2.5.score', 'predicted.celltype.l2.5', 'predicted_labels_celltypist', \n",
    "              'majority_voting_celltypist', 'doublet_score', 'n_genes_by_counts', \n",
    "              'log1p_n_genes_by_counts', 'total_counts', 'log1p_total_counts', 'pct_counts_in_top_50_genes',\n",
    "              'pct_counts_in_top_100_genes', 'pct_counts_in_top_200_genes', 'pct_counts_in_top_500_genes',\n",
    "              'total_counts_mito', 'log1p_total_counts_mito', 'pct_counts_mito', 'leiden', 'leiden_resolution_1', \n",
    "              'leiden_resolution_1.5', 'leiden_resolution_2', 'AIFI_L1', 'AIFI_L2', 'AIFI_L3', 'AIFI_L3.5']"
   ]
  },
  {
   "cell_type": "code",
   "execution_count": 22,
   "id": "06da4655-fa2a-49f8-92b2-1fcc41edb99d",
   "metadata": {
    "tags": []
   },
   "outputs": [],
   "source": [
    "adata.obs[selected_col].to_csv(\"Reference_Label.csv\")"
   ]
  },
  {
   "cell_type": "code",
   "execution_count": 3,
   "id": "d057a501-f772-4c77-ab94-3e7493096372",
   "metadata": {},
   "outputs": [],
   "source": [
    "import csv\n",
    "nested_dict={'B cell': {'Effector B cell': ['CD27+ effector B cell',\n",
    "   'CD27- effector B cell'],\n",
    "  'Memory B cell': ['Core memory B cell',\n",
    "   'Early memory B cell',\n",
    "   'Type 2 polarized memory B cell',\n",
    "   'CD95 memory B cell',\n",
    "   'Activated memory B cell'],\n",
    "  'Naive B cell': ['Core naive B cell', 'ISG+ naive B cell'],\n",
    "  'Plasma cell': ['Plasma cell'],\n",
    "  'Transitional B cell': ['Transitional B cell']},\n",
    "'DC': {'ASDC': ['ASDC'],\n",
    "  'cDC1': ['cDC1'],\n",
    "  'cDC2': ['CD14+ cDC2', 'HLA-DRhi cDC2', 'ISG+ cDC2'],\n",
    "  'pDC': ['pDC']},\n",
    "'Erythrocyte': {'Erythrocyte': ['Erythrocyte']},\n",
    "'ILC': {'ILC': ['ILC']},\n",
    "'Monocyte': {'CD14 monocyte': ['Core CD14 monocyte',\n",
    "   'ISG+ CD14 monocyte',\n",
    "   'IL1B+ CD14 monocyte'],\n",
    "  'CD16 monocyte': ['Core CD16 monocyte',\n",
    "   'ISG+ CD16 monocyte',\n",
    "   'C1Q+ CD16 monocyte'],\n",
    "  'Intermediate monocyte': ['Intermediate monocyte']},\n",
    "'NK cell': {'CD56bright NK cell': ['CD56bright NK cell'],\n",
    "  'CD56dim NK cell': ['Adaptive NK cell',\n",
    "   'GZMK+ CD56dim NK cell',\n",
    "   'GZMK- CD56dim NK cell',\n",
    "   'ISG+ CD56dim NK cell'],\n",
    "  'Proliferating NK cell': ['Proliferating NK cell']},\n",
    "'Platelet': {'Platelet': ['Platelet']},\n",
    "'Progenitor cell': {'Progenitor cell': ['CMP cell',\n",
    "   'CLP cell',\n",
    "   'BaEoMaP cell']},\n",
    "'T cell': {'CD8aa': ['CD8aa'],\n",
    "  'DN T cell': ['DN T cell'],\n",
    "  'MAIT': ['CD8 MAIT', 'CD4 MAIT', 'ISG+ MAIT'],\n",
    "  'Memory CD4 T cell': ['CM CD4 T cell',\n",
    "   'GZMB- CD27+ EM CD4 T cell',\n",
    "   'GZMB- CD27- EM CD4 T cell',\n",
    "   'ISG+ memory CD4 T cell',\n",
    "   'KLRF1- GZMB+ CD27- memory CD4 T cell'],\n",
    "  'Memory CD8 T cell': ['GZMK+ CD27+ EM CD8 T cell',\n",
    "   'CM CD8 T cell',\n",
    "   'KLRF1- GZMB+ CD27- EM CD8 T cell',\n",
    "   'GZMK- CD27+ EM CD8 T cell',\n",
    "   'KLRF1+ GZMB+ CD27- EM CD8 T cell',\n",
    "   'ISG+ memory CD8 T cell'],\n",
    "  'Naive CD4 T cell': ['Core naive CD4 T cell',\n",
    "   'SOX4+ naive CD4 T cell',\n",
    "   'ISG+ naive CD4 T cell'],\n",
    "  'Naive CD8 T cell': ['Core naive CD8 T cell ',\n",
    "   'SOX4+ naive CD8 T cell',\n",
    "   'ISG+ naive CD8 T cell'],\n",
    "  'Proliferating T cell': ['Proliferating T cell'],\n",
    "  'Treg': ['Naive CD4 Treg',\n",
    "   'Memory CD4 Treg',\n",
    "   'KLRB1+ memory CD4 Treg',\n",
    "   'Memory CD8 Treg',\n",
    "   'GZMK+ memory CD4 Treg',\n",
    "   'KLRB1+ memory CD8 Treg'],\n",
    "  'gdT': ['GZMK+ Vd2 gdT',\n",
    "   'GZMB+ Vd2 gdT',\n",
    "   'Naive Vd1 gdT',\n",
    "   'KLRF1+ effector Vd1 gdT',\n",
    "   'SOX4+ Vd1 gdT',\n",
    "   'KLRF1- effector Vd1 gdT']}}\n",
    "# Preparing data for CSV\n",
    "csv_data = []\n",
    "for parent_type, subtypes in nested_dict.items():\n",
    "    for subtype, cell_types in subtypes.items():\n",
    "        for cell_type in cell_types:\n",
    "            csv_data.append((parent_type, subtype, cell_type))\n",
    "\n",
    "# Path for the CSV file\n",
    "csv_file_path = 'cell_types.csv'\n",
    "\n",
    "# Writing data to CSV\n",
    "with open(csv_file_path, mode='w', newline='', encoding='utf-8') as file:\n",
    "    writer = csv.writer(file)\n",
    "    writer.writerow([\"Parent Type\", \"Subtype\", \"Cell Type\"])  # Header row\n",
    "    for row in csv_data:\n",
    "        writer.writerow(row)\n"
   ]
  },
  {
   "cell_type": "code",
   "execution_count": null,
   "id": "4a726a01-1860-49b5-ac42-4e1e0159f2fa",
   "metadata": {},
   "outputs": [],
   "source": []
  }
 ],
 "metadata": {
  "kernelspec": {
   "display_name": "Python 3 (ipykernel)",
   "language": "python",
   "name": "python3"
  },
  "language_info": {
   "codemirror_mode": {
    "name": "ipython",
    "version": 3
   },
   "file_extension": ".py",
   "mimetype": "text/x-python",
   "name": "python",
   "nbconvert_exporter": "python",
   "pygments_lexer": "ipython3",
   "version": "3.10.12"
  }
 },
 "nbformat": 4,
 "nbformat_minor": 5
}
