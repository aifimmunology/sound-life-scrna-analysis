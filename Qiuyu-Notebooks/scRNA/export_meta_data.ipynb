{
 "cells": [
  {
   "cell_type": "code",
   "execution_count": 1,
   "id": "2d1d6610-068a-4460-94da-3b54d36be24c",
   "metadata": {
    "tags": []
   },
   "outputs": [
    {
     "name": "stderr",
     "output_type": "stream",
     "text": [
      "Processing h5ad files: 100% 868/868 [01:39<00:00,  8.73it/s]\n"
     ]
    }
   ],
   "source": [
    "import os\n",
    "import pandas as pd\n",
    "import scanpy as sc\n",
    "from tqdm import tqdm \n",
    "import numpy as np\n",
    "h5ad_dir = '/home//jupyter/BRI_Analysis/scRNA/h5_cleaned_by_sample/'\n",
    "h5ad_files = os.listdir(h5ad_dir)\n",
    "obs_list = []\n",
    "for h5ad_file in tqdm(h5ad_files, desc=\"Processing h5ad files\"):\n",
    "    adata = sc.read_h5ad(os.path.join(h5ad_dir, h5ad_file), backed='r') \n",
    "    obs_list.append(adata.obs)\n",
    "\n",
    "all_obs = pd.concat(obs_list)"
   ]
  },
  {
   "cell_type": "raw",
   "id": "c07208d2-13ab-47be-8738-e4b08ed60fde",
   "metadata": {
    "tags": []
   },
   "source": [
    "original_columns = set(all_obs.columns)\n",
    "\n",
    "all_obs = all_obs.loc[:, all_obs.nunique() != 1]\n",
    "\n",
    "deleted_columns = original_columns - set(all_obs.columns)\n",
    "\n",
    "print(f\"Deleted column names: {deleted_columns}\")"
   ]
  },
  {
   "cell_type": "code",
   "execution_count": 2,
   "id": "68927f98-4a7a-4f68-8460-a81574b8f60f",
   "metadata": {
    "tags": []
   },
   "outputs": [],
   "source": [
    "del all_obs['barcodes']"
   ]
  },
  {
   "cell_type": "code",
   "execution_count": 4,
   "id": "a89a3ec6-0fa3-4798-985f-42103ba7ec08",
   "metadata": {
    "tags": []
   },
   "outputs": [],
   "source": []
  },
  {
   "cell_type": "code",
   "execution_count": 4,
   "id": "7307a462-20b0-4b14-adec-159f4e9265dc",
   "metadata": {
    "tags": []
   },
   "outputs": [],
   "source": [
    "df=pd.read_csv('all_imm_health_obs.csv')"
   ]
  },
  {
   "cell_type": "code",
   "execution_count": 5,
   "id": "9b04414d-35a0-4949-8c51-251fa8364c0b",
   "metadata": {
    "tags": []
   },
   "outputs": [],
   "source": [
    "df.to_parquet('all_imm_health_obs.parquet')"
   ]
  },
  {
   "cell_type": "code",
   "execution_count": 7,
   "id": "2fc61d13-027d-45a4-9893-45f5aeda27c8",
   "metadata": {
    "tags": []
   },
   "outputs": [],
   "source": [
    "test=pd.read_parquet('all_imm_health_obs.parquet')"
   ]
  },
  {
   "cell_type": "code",
   "execution_count": null,
   "id": "3e92ce1e-e3f0-43a2-8fab-c6b1af41bc71",
   "metadata": {},
   "outputs": [],
   "source": []
  }
 ],
 "metadata": {
  "kernelspec": {
   "display_name": "Python 3 (ipykernel)",
   "language": "python",
   "name": "python3"
  },
  "language_info": {
   "codemirror_mode": {
    "name": "ipython",
    "version": 3
   },
   "file_extension": ".py",
   "mimetype": "text/x-python",
   "name": "python",
   "nbconvert_exporter": "python",
   "pygments_lexer": "ipython3",
   "version": "3.10.12"
  }
 },
 "nbformat": 4,
 "nbformat_minor": 5
}
