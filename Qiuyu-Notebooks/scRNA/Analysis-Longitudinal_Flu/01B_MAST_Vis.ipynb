{
 "cells": [
  {
   "cell_type": "code",
   "execution_count": 6,
   "id": "c7e29e25-8b8a-4c21-a788-7d9f27e20eba",
   "metadata": {
    "tags": []
   },
   "outputs": [
    {
     "name": "stderr",
     "output_type": "stream",
     "text": [
      "\n",
      "Attaching package: ‘data.table’\n",
      "\n",
      "\n",
      "The following objects are masked from ‘package:dplyr’:\n",
      "\n",
      "    between, first, last\n",
      "\n",
      "\n"
     ]
    }
   ],
   "source": [
    "suppressPackageStartupMessages(library(dplyr))\n",
    "suppressPackageStartupMessages(library(tidyr))\n",
    "suppressPackageStartupMessages(library(tibble))\n",
    "suppressPackageStartupMessages(library(ggplot2))\n",
    "suppressPackageStartupMessages(library(patchwork))\n",
    "suppressPackageStartupMessages(library(stringr))\n",
    "library(parallel)\n",
    "library(stringr)\n",
    "library(data.table)"
   ]
  },
  {
   "cell_type": "code",
   "execution_count": 67,
   "id": "e74f66b0-878a-4701-83fd-c114ef89ca4b",
   "metadata": {
    "tags": []
   },
   "outputs": [
    {
     "name": "stdout",
     "output_type": "stream",
     "text": [
      "[1] 11708\n"
     ]
    }
   ],
   "source": [
    "file_list<-list.files(path = \"01B_MAST/\", pattern = NULL, all.files = FALSE,\n",
    "           full.names = FALSE, recursive = FALSE,\n",
    "           ignore.case = FALSE, include.dirs = FALSE, no.. = FALSE)\n",
    "print(length(file_list))"
   ]
  },
  {
   "cell_type": "code",
   "execution_count": 68,
   "id": "5dcc7813-18dd-43f8-b8c5-a5f2e89dc597",
   "metadata": {
    "tags": []
   },
   "outputs": [],
   "source": [
    "split_list <- strsplit(file_list, \"_\")\n",
    "df <- as.data.frame(do.call(rbind, split_list), stringsAsFactors = FALSE)"
   ]
  },
  {
   "cell_type": "code",
   "execution_count": 69,
   "id": "98c6306a-de6d-434d-9404-b04150f3647c",
   "metadata": {
    "tags": []
   },
   "outputs": [
    {
     "data": {
      "text/plain": [
       "    \n",
       "     BR1001 BR1002 BR1003 BR1004 BR1005 BR1006 BR1007 BR1008 BR1009 BR1010\n",
       "  Y1     71     67     68     68     66     70     69     68     69     65\n",
       "  Y2      0     69     67     66     69     68     69     64     68     68\n",
       "    \n",
       "     BR1011 BR1012 BR1013 BR1014 BR1015 BR1016 BR1017 BR1018 BR1019 BR1021\n",
       "  Y1     67     69     68     69     68     65     68     63     69     68\n",
       "  Y2     65     66     68     69      0     63     69     62     70     68\n",
       "    \n",
       "     BR1023 BR1024 BR1025 BR1026 BR1028 BR1030 BR1031 BR1032 BR1033 BR1037\n",
       "  Y1     66     68     68     67     66     68     66     67     66     68\n",
       "  Y2     65     63     68     66     67     69     67     62      0     69\n",
       "    \n",
       "     BR1040 BR1041 BR1042 BR1043 BR1044 BR1045 BR1047 BR1048 BR1049 BR1050\n",
       "  Y1     66     68     68     66     66     70     68     70     69     68\n",
       "  Y2     67     67      0     68      0      0     70     67     65     68\n",
       "    \n",
       "     BR1051 BR1052 BR1054 BR1056 BR1057 BR1058 BR1059 BR2002 BR2003 BR2005\n",
       "  Y1     67     65     68     67     67     67     68     68     63     66\n",
       "  Y2     67      0     68     66     66     67     69     68     65     66\n",
       "    \n",
       "     BR2008 BR2009 BR2010 BR2012 BR2013 BR2014 BR2015 BR2016 BR2018 BR2019\n",
       "  Y1     68     64     65     68     64     67     61     68     65     66\n",
       "  Y2     68     67     66     67     67     66     58     63     67     64\n",
       "    \n",
       "     BR2020 BR2021 BR2022 BR2023 BR2024 BR2025 BR2026 BR2028 BR2029 BR2030\n",
       "  Y1     66     64     68     65     70     65     68     65     67     67\n",
       "  Y2      0     61     69     69     67     63     68     64     66     67\n",
       "    \n",
       "     BR2031 BR2032 BR2033 BR2034 BR2035 BR2036 BR2037 BR2038 BR2039 BR2040\n",
       "  Y1     67     67     69     67     64     58     65     63     67     62\n",
       "  Y2     65     70     69     63     65     63     65     63     68     65\n",
       "    \n",
       "     BR2041 BR2042 BR2043 BR2044 BR2045 BR2046 BR2047 BR2048 BR2050 BR2051\n",
       "  Y1     67     68     68     67     65     60     68     70     66     64\n",
       "  Y2     67     67     67     67     66     63     70     67     65     65\n",
       "    \n",
       "     BR2052 BR2053\n",
       "  Y1     64     68\n",
       "  Y2     62     66"
      ]
     },
     "metadata": {},
     "output_type": "display_data"
    }
   ],
   "source": [
    "table(df$V2,df$V1)"
   ]
  },
  {
   "cell_type": "code",
   "execution_count": 70,
   "id": "8d9d887e-78f6-4992-9758-6116cd4e7f47",
   "metadata": {
    "collapsed": true,
    "jupyter": {
     "outputs_hidden": true
    },
    "tags": []
   },
   "outputs": [
    {
     "data": {
      "text/plain": [
       "                                          \n",
       "                                           Y1 Y2\n",
       "  Activated memory B cell.csv              61 69\n",
       "  Adaptive NK cell.csv                     92 84\n",
       "  ASDC.csv                                 81 71\n",
       "  BaEoMaP cell.csv                         21 16\n",
       "  C1Q+ CD16 monocyte.csv                   92 84\n",
       "  CD14+ cDC2.csv                           92 84\n",
       "  CD27- effector B cell.csv                92 84\n",
       "  CD27+ effector B cell.csv                92 84\n",
       "  CD4 MAIT.csv                             85 77\n",
       "  CD56bright NK cell.csv                   92 84\n",
       "  CD8 MAIT.csv                             92 84\n",
       "  CD8aa.csv                                83 73\n",
       "  CD95 memory B cell.csv                   92 84\n",
       "  cDC1.csv                                 92 81\n",
       "  CLP cell.csv                             58 54\n",
       "  CM CD4 T cell.csv                        92 84\n",
       "  CM CD8 T cell.csv                        92 84\n",
       "  CMP cell.csv                             89 82\n",
       "  Core CD14 monocyte.csv                   92 84\n",
       "  Core CD16 monocyte.csv                   92 84\n",
       "  Core memory B cell.csv                   92 84\n",
       "  Core naive B cell.csv                    92 84\n",
       "  Core naive CD4 T cell.csv                92 84\n",
       "  Core naive CD8 T cell .csv               92 84\n",
       "  DN T cell.csv                            92 84\n",
       "  Early memory B cell.csv                  90 84\n",
       "  Erythrocyte.csv                          85 80\n",
       "  GZMB- CD27- EM CD4 T cell.csv            92 84\n",
       "  GZMB- CD27+ EM CD4 T cell.csv            92 84\n",
       "  GZMB+ Vd2 gdT.csv                        92 84\n",
       "  GZMK- CD27+ EM CD8 T cell.csv            91 84\n",
       "  GZMK- CD56dim NK cell.csv                92 84\n",
       "  GZMK+ CD27+ EM CD8 T cell.csv            92 84\n",
       "  GZMK+ CD56dim NK cell.csv                92 84\n",
       "  GZMK+ memory CD4 Treg.csv                92 82\n",
       "  GZMK+ Vd2 gdT.csv                        92 84\n",
       "  HLA-DRhi cDC2.csv                        92 84\n",
       "  IL1B+ CD14 monocyte.csv                  92 83\n",
       "  ILC.csv                                  87 78\n",
       "  Intermediate monocyte.csv                92 84\n",
       "  ISG+ CD14 monocyte.csv                   92 84\n",
       "  ISG+ CD16 monocyte.csv                   92 83\n",
       "  ISG+ CD56dim NK cell.csv                 91 84\n",
       "  ISG+ cDC2.csv                            87 77\n",
       "  ISG+ MAIT.csv                            64 56\n",
       "  ISG+ memory CD4 T cell.csv               92 84\n",
       "  ISG+ memory CD8 T cell.csv               91 75\n",
       "  ISG+ naive B cell.csv                    92 84\n",
       "  ISG+ naive CD4 T cell.csv                92 84\n",
       "  ISG+ naive CD8 T cell.csv                62 58\n",
       "  KLRB1+ memory CD4 Treg.csv               92 84\n",
       "  KLRB1+ memory CD8 Treg.csv               88 72\n",
       "  KLRF1- effector Vd1 gdT.csv              54 49\n",
       "  KLRF1- GZMB+ CD27- EM CD8 T cell.csv     92 84\n",
       "  KLRF1- GZMB+ CD27- memory CD4 T cell.csv 83 78\n",
       "  KLRF1+ effector Vd1 gdT.csv              75 69\n",
       "  KLRF1+ GZMB+ CD27- EM CD8 T cell.csv     92 84\n",
       "  Memory CD4 Treg.csv                      92 84\n",
       "  Memory CD8 Treg.csv                      61 51\n",
       "  Naive CD4 Treg.csv                       92 84\n",
       "  Naive Vd1 gdT.csv                        84 71\n",
       "  pDC.csv                                  92 84\n",
       "  Plasma cell.csv                          89 84\n",
       "  Platelet.csv                             92 84\n",
       "  Proliferating NK cell.csv                92 84\n",
       "  Proliferating T cell.csv                 92 83\n",
       "  SOX4+ naive CD4 T cell.csv               88 79\n",
       "  SOX4+ naive CD8 T cell.csv               79 73\n",
       "  SOX4+ Vd1 gdT.csv                        69 58\n",
       "  Transitional B cell.csv                  92 83\n",
       "  Type 2 polarized memory B cell.csv       91 84"
      ]
     },
     "metadata": {},
     "output_type": "display_data"
    }
   ],
   "source": [
    "table(df$V3,df$V2)"
   ]
  },
  {
   "cell_type": "markdown",
   "id": "b29ff456-86b4-418b-9ab6-e4bd46e0dcb2",
   "metadata": {},
   "source": [
    "# MAST"
   ]
  },
  {
   "cell_type": "code",
   "execution_count": 79,
   "id": "54327acb-24b9-43de-a11c-501f9473ddcf",
   "metadata": {
    "tags": []
   },
   "outputs": [],
   "source": [
    "DEG_FILES<-list.files(path = \"01B_MAST/\", pattern = \".csv\", all.files = TRUE,\n",
    "           full.names = TRUE, recursive = FALSE,\n",
    "           ignore.case = TRUE, include.dirs = TRUE, no.. = FALSE)"
   ]
  },
  {
   "cell_type": "code",
   "execution_count": 88,
   "id": "7adbecf0-7945-470b-9d6e-c1159ca98f8b",
   "metadata": {
    "tags": []
   },
   "outputs": [],
   "source": [
    "de_list<-mclapply(DEG_FILES,function(i){\n",
    "DT<-read.csv(i,check.names=FALSE)\n",
    "DT$celltype<- str_extract(i, \"(?<=_)[^_]+(?=\\\\.csv)\")\n",
    "DT$timepoint<- str_match(i, \"^[^_]*_[^_]*_([^_]*)\")[,2]\n",
    " DT$Donor<-   str_extract(i, \"(?<=//)[^_]*\")\n",
    "DT<-DT[2:15]\n",
    "result <- merge(data.table(DT)[contrast=='VisitFlu_Year_1_Day_7' & component=='H',.(primerid, `Pr(>Chisq)`)], # p-values\n",
    "                     data.table(DT)[contrast=='VisitFlu_Year_1_Day_7' & component=='logFC', .(primerid,coef,Donor,celltype,timepoint,cell_counts_D0,cell_counts_D7)],\n",
    "                     by='primerid')\n",
    "result[,coef:=result[,coef]/log(2)]\n",
    "result[,FDR:=p.adjust(`Pr(>Chisq)`, 'fdr')]    \n",
    "},mc.cores=60)"
   ]
  },
  {
   "cell_type": "code",
   "execution_count": 90,
   "id": "14310478-3968-4f4c-bb90-c7b268768d56",
   "metadata": {
    "tags": []
   },
   "outputs": [],
   "source": [
    "df<-do.call(rbind,de_list)"
   ]
  },
  {
   "cell_type": "code",
   "execution_count": 92,
   "id": "7c7806e3-eefa-4395-8db4-b32e9cf6f5f3",
   "metadata": {
    "tags": []
   },
   "outputs": [],
   "source": [
    "write.csv(df,'MAST_res.csv')"
   ]
  },
  {
   "cell_type": "code",
   "execution_count": 93,
   "id": "15985984-a707-4d44-aab9-8925bc638553",
   "metadata": {
    "tags": []
   },
   "outputs": [],
   "source": [
    "df1<-read.csv('MAST_res.csv')"
   ]
  },
  {
   "cell_type": "code",
   "execution_count": null,
   "id": "7254b336-26ad-4745-a184-65d4ca74d3be",
   "metadata": {},
   "outputs": [],
   "source": [
    "uploadFiles(\n",
    "  list('/home/jupyter/BRI_Analysis/scRNA/Analysis-Longitudinal_Flu/MAST_res.csv'),\n",
    "  studySpaceId = '64097865-486d-43b3-8f94-74994e0a72e0',\n",
    "  title = 'Myeloidcells object uploads--20231107', fileTypes = list('h5#derived'),\n",
    "  inputFileIds = list('fec489f9-9a74-4635-aa91-d2bf09d1faec')\n",
    ")"
   ]
  }
 ],
 "metadata": {
  "kernelspec": {
   "display_name": "R 4",
   "language": "R",
   "name": "ir4"
  },
  "language_info": {
   "codemirror_mode": "r",
   "file_extension": ".r",
   "mimetype": "text/x-r-source",
   "name": "R",
   "pygments_lexer": "r",
   "version": "4.3.1"
  }
 },
 "nbformat": 4,
 "nbformat_minor": 5
}
