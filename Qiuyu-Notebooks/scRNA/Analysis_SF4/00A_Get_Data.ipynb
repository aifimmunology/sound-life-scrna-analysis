{
 "cells": [
  {
   "cell_type": "code",
   "execution_count": 1,
   "id": "bacfdfaa-46a8-469d-9e53-e8eb67314f31",
   "metadata": {
    "tags": []
   },
   "outputs": [],
   "source": [
    "import hisepy\n",
    "import pandas as pd "
   ]
  },
  {
   "cell_type": "code",
   "execution_count": 2,
   "id": "20c4b95b-9a84-4c53-8c9a-8d3b2fb5319f",
   "metadata": {
    "tags": []
   },
   "outputs": [],
   "source": [
    "file_df = hisepy.list_files_in_project_store('cohorts')"
   ]
  },
  {
   "cell_type": "code",
   "execution_count": 20,
   "id": "2898e7a3-f4d7-4eb4-829a-0b874e55cdc6",
   "metadata": {
    "tags": []
   },
   "outputs": [],
   "source": [
    "file_df = file_df[file_df['name'].str.contains('redo_sf4_l3_qc')]"
   ]
  },
  {
   "cell_type": "code",
   "execution_count": 20,
   "id": "204ff73e-562f-4961-b5ce-d8238b3b6851",
   "metadata": {
    "tags": []
   },
   "outputs": [],
   "source": [
    "file_df = file_df[file_df['name'].str.contains('redo_sf4_l3_qc')]"
   ]
  },
  {
   "cell_type": "code",
   "execution_count": 25,
   "id": "b0bc7368-f82b-4dae-bb73-52b3f314e4fc",
   "metadata": {
    "tags": []
   },
   "outputs": [
    {
     "data": {
      "text/html": [
       "<div>\n",
       "<style scoped>\n",
       "    .dataframe tbody tr th:only-of-type {\n",
       "        vertical-align: middle;\n",
       "    }\n",
       "\n",
       "    .dataframe tbody tr th {\n",
       "        vertical-align: top;\n",
       "    }\n",
       "\n",
       "    .dataframe thead th {\n",
       "        text-align: right;\n",
       "    }\n",
       "</style>\n",
       "<table border=\"1\" class=\"dataframe\">\n",
       "  <thead>\n",
       "    <tr style=\"text-align: right;\">\n",
       "      <th></th>\n",
       "      <th>id</th>\n",
       "      <th>name</th>\n",
       "      <th>availability</th>\n",
       "      <th>type</th>\n",
       "      <th>metadata</th>\n",
       "      <th>store_name</th>\n",
       "    </tr>\n",
       "  </thead>\n",
       "  <tbody>\n",
       "    <tr>\n",
       "      <th>12966</th>\n",
       "      <td>ad4764c9-946f-40dd-81ef-a0b917cbc600</td>\n",
       "      <td>redo_sf4_l3_qc/redone_sf4_l3_Core-CD14-monocyt...</td>\n",
       "      <td>available</td>\n",
       "      <td>h5ad</td>\n",
       "      <td>{'batchID': '', 'panelID': '', 'sampleReferenc...</td>\n",
       "      <td>cohorts</td>\n",
       "    </tr>\n",
       "    <tr>\n",
       "      <th>12972</th>\n",
       "      <td>de627da7-c7f7-46d2-8bd1-ea14410d8dbd</td>\n",
       "      <td>redo_sf4_l3_qc/redone_sf4_l3_ISG+-CD16-monocyt...</td>\n",
       "      <td>available</td>\n",
       "      <td>h5ad</td>\n",
       "      <td>{'batchID': '', 'panelID': '', 'sampleReferenc...</td>\n",
       "      <td>cohorts</td>\n",
       "    </tr>\n",
       "    <tr>\n",
       "      <th>12988</th>\n",
       "      <td>5c326cbe-712a-4a6f-90f5-eb78f56c073a</td>\n",
       "      <td>redo_sf4_l3_qc/redone_sf4_l3_IL1B+-CD14-monocy...</td>\n",
       "      <td>available</td>\n",
       "      <td>h5ad</td>\n",
       "      <td>{'batchID': '', 'panelID': '', 'sampleReferenc...</td>\n",
       "      <td>cohorts</td>\n",
       "    </tr>\n",
       "    <tr>\n",
       "      <th>12995</th>\n",
       "      <td>9fe3543f-5f30-45b7-a3c3-efe80fd248c2</td>\n",
       "      <td>redo_sf4_l3_qc/redone_sf4_l3_Core-CD16-monocyt...</td>\n",
       "      <td>available</td>\n",
       "      <td>h5ad</td>\n",
       "      <td>{'batchID': '', 'panelID': '', 'sampleReferenc...</td>\n",
       "      <td>cohorts</td>\n",
       "    </tr>\n",
       "    <tr>\n",
       "      <th>13020</th>\n",
       "      <td>d8a8fa20-af15-4fb5-8e34-a47e66f91bff</td>\n",
       "      <td>redo_sf4_l3_qc/redone_sf4_l3_ISG+-CD14-monocyt...</td>\n",
       "      <td>available</td>\n",
       "      <td>h5ad</td>\n",
       "      <td>{'batchID': '', 'panelID': '', 'sampleReferenc...</td>\n",
       "      <td>cohorts</td>\n",
       "    </tr>\n",
       "    <tr>\n",
       "      <th>13026</th>\n",
       "      <td>e479f979-3e93-4d23-ac4b-c3679afeae98</td>\n",
       "      <td>redo_sf4_l3_qc/redone_sf4_l3_C1Q+-CD16-monocyt...</td>\n",
       "      <td>available</td>\n",
       "      <td>h5ad</td>\n",
       "      <td>{'batchID': '', 'panelID': '', 'sampleReferenc...</td>\n",
       "      <td>cohorts</td>\n",
       "    </tr>\n",
       "  </tbody>\n",
       "</table>\n",
       "</div>"
      ],
      "text/plain": [
       "                                         id  \\\n",
       "12966  ad4764c9-946f-40dd-81ef-a0b917cbc600   \n",
       "12972  de627da7-c7f7-46d2-8bd1-ea14410d8dbd   \n",
       "12988  5c326cbe-712a-4a6f-90f5-eb78f56c073a   \n",
       "12995  9fe3543f-5f30-45b7-a3c3-efe80fd248c2   \n",
       "13020  d8a8fa20-af15-4fb5-8e34-a47e66f91bff   \n",
       "13026  e479f979-3e93-4d23-ac4b-c3679afeae98   \n",
       "\n",
       "                                                    name availability  type  \\\n",
       "12966  redo_sf4_l3_qc/redone_sf4_l3_Core-CD14-monocyt...    available  h5ad   \n",
       "12972  redo_sf4_l3_qc/redone_sf4_l3_ISG+-CD16-monocyt...    available  h5ad   \n",
       "12988  redo_sf4_l3_qc/redone_sf4_l3_IL1B+-CD14-monocy...    available  h5ad   \n",
       "12995  redo_sf4_l3_qc/redone_sf4_l3_Core-CD16-monocyt...    available  h5ad   \n",
       "13020  redo_sf4_l3_qc/redone_sf4_l3_ISG+-CD14-monocyt...    available  h5ad   \n",
       "13026  redo_sf4_l3_qc/redone_sf4_l3_C1Q+-CD16-monocyt...    available  h5ad   \n",
       "\n",
       "                                                metadata store_name  \n",
       "12966  {'batchID': '', 'panelID': '', 'sampleReferenc...    cohorts  \n",
       "12972  {'batchID': '', 'panelID': '', 'sampleReferenc...    cohorts  \n",
       "12988  {'batchID': '', 'panelID': '', 'sampleReferenc...    cohorts  \n",
       "12995  {'batchID': '', 'panelID': '', 'sampleReferenc...    cohorts  \n",
       "13020  {'batchID': '', 'panelID': '', 'sampleReferenc...    cohorts  \n",
       "13026  {'batchID': '', 'panelID': '', 'sampleReferenc...    cohorts  "
      ]
     },
     "execution_count": 25,
     "metadata": {},
     "output_type": "execute_result"
    }
   ],
   "source": [
    "file_df[file_df['name'].str.contains('mono')]"
   ]
  },
  {
   "cell_type": "code",
   "execution_count": 13,
   "id": "d147012d-5f05-471a-b7f8-bfee3bb0c7fa",
   "metadata": {
    "tags": []
   },
   "outputs": [],
   "source": [
    "meta_df = hisepy.read_files(file_list=file_df.id.tolist(), to_df=True)\n"
   ]
  },
  {
   "cell_type": "code",
   "execution_count": null,
   "id": "8961ce05-9c6b-4f22-b688-5198dae282bb",
   "metadata": {},
   "outputs": [],
   "source": []
  },
  {
   "cell_type": "code",
   "execution_count": null,
   "id": "e3d42d5c-ac8a-4b3a-8e79-7a719ea068ee",
   "metadata": {},
   "outputs": [],
   "source": []
  },
  {
   "cell_type": "code",
   "execution_count": null,
   "id": "e70bb95f-af57-4b24-93cc-675f22f56018",
   "metadata": {},
   "outputs": [],
   "source": []
  }
 ],
 "metadata": {
  "kernelspec": {
   "display_name": "Python [conda env:root] *",
   "language": "python",
   "name": "conda-root-py"
  },
  "language_info": {
   "codemirror_mode": {
    "name": "ipython",
    "version": 3
   },
   "file_extension": ".py",
   "mimetype": "text/x-python",
   "name": "python",
   "nbconvert_exporter": "python",
   "pygments_lexer": "ipython3",
   "version": "3.10.12"
  }
 },
 "nbformat": 4,
 "nbformat_minor": 5
}
