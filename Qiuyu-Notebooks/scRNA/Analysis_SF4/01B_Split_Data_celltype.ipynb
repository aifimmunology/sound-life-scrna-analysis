{
 "cells": [
  {
   "cell_type": "code",
   "execution_count": 1,
   "id": "1dc63c1b-cb76-4805-9592-13018ba26ae2",
   "metadata": {
    "tags": []
   },
   "outputs": [],
   "source": [
    "import scanpy as sc\n",
    "import pandas as pd \n",
    "import numpy as np\n",
    "import anndata\n",
    "import re\n",
    "import h5py\n",
    "import scipy.sparse as scs\n",
    "import concurrent.futures\n",
    "import matplotlib.pyplot as plt\n",
    "import seaborn as sns\n",
    "from scipy.sparse import csc_matrix\n",
    "from concurrent.futures import ThreadPoolExecutor, as_completed\n",
    "import umap\n",
    "import random\n",
    "import multiprocessing\n",
    "random.seed(123)\n",
    "from joblib import Parallel, delayed\n",
    "import warnings\n",
    "import os\n",
    "from tqdm import tqdm\n",
    "import math\n",
    "from PIL import Image, ImageDraw, ImageFont\n",
    "import gc\n",
    "import re\n",
    "import multiprocessing\n"
   ]
  },
  {
   "cell_type": "markdown",
   "id": "a0dbb312-6f16-4702-a5fd-7cf143dba5b7",
   "metadata": {},
   "source": [
    "# by cell types"
   ]
  },
  {
   "cell_type": "code",
   "execution_count": 5,
   "id": "fe85d88f-39cc-4ec6-b1dd-e8ad7cde9300",
   "metadata": {
    "tags": []
   },
   "outputs": [
    {
     "data": {
      "text/html": [
       "<div>\n",
       "<style scoped>\n",
       "    .dataframe tbody tr th:only-of-type {\n",
       "        vertical-align: middle;\n",
       "    }\n",
       "\n",
       "    .dataframe tbody tr th {\n",
       "        vertical-align: top;\n",
       "    }\n",
       "\n",
       "    .dataframe thead th {\n",
       "        text-align: right;\n",
       "    }\n",
       "</style>\n",
       "<table border=\"1\" class=\"dataframe\">\n",
       "  <thead>\n",
       "    <tr style=\"text-align: right;\">\n",
       "      <th></th>\n",
       "      <th>AIFI_L3</th>\n",
       "      <th>leiden</th>\n",
       "      <th>Notes</th>\n",
       "    </tr>\n",
       "  </thead>\n",
       "  <tbody>\n",
       "    <tr>\n",
       "      <th>0</th>\n",
       "      <td>ASDC</td>\n",
       "      <td>12</td>\n",
       "      <td>B doublets</td>\n",
       "    </tr>\n",
       "    <tr>\n",
       "      <th>1</th>\n",
       "      <td>ASDC</td>\n",
       "      <td>6</td>\n",
       "      <td>T doublets</td>\n",
       "    </tr>\n",
       "    <tr>\n",
       "      <th>2</th>\n",
       "      <td>Activated memory B cell</td>\n",
       "      <td>11</td>\n",
       "      <td>Monocytes doublets</td>\n",
       "    </tr>\n",
       "    <tr>\n",
       "      <th>3</th>\n",
       "      <td>Activated memory B cell</td>\n",
       "      <td>1</td>\n",
       "      <td>Transitional B cells</td>\n",
       "    </tr>\n",
       "    <tr>\n",
       "      <th>4</th>\n",
       "      <td>Activated memory B cell</td>\n",
       "      <td>7</td>\n",
       "      <td>Monocytes doublets</td>\n",
       "    </tr>\n",
       "  </tbody>\n",
       "</table>\n",
       "</div>"
      ],
      "text/plain": [
       "                   AIFI_L3  leiden                 Notes\n",
       "0                     ASDC      12            B doublets\n",
       "1                     ASDC       6            T doublets\n",
       "2  Activated memory B cell      11    Monocytes doublets\n",
       "3  Activated memory B cell       1  Transitional B cells\n",
       "4  Activated memory B cell       7    Monocytes doublets"
      ]
     },
     "execution_count": 5,
     "metadata": {},
     "output_type": "execute_result"
    }
   ],
   "source": [
    "files = os.listdir(\"h5ad_harmony/\")\n",
    "QC_table=pd.read_csv('QC-SF4 - HARMONY-V1.csv')\n",
    "QC_table.head()"
   ]
  },
  {
   "cell_type": "code",
   "execution_count": null,
   "id": "8c49641a-7359-44b7-96a3-dcade6421c97",
   "metadata": {
    "tags": []
   },
   "outputs": [],
   "source": [
    "%%time\n",
    "\n",
    "def process_file(file, QC_table):\n",
    "    print(\"Reading: \"+file)\n",
    "    adata_clustered = sc.read_h5ad('h5ad_harmony/' + file)\n",
    "    adata_clustered=adata_clustered.raw.to_adata() \n",
    "    adata_clustered.raw=adata_clustered\n",
    "    filtered_leiden = QC_table[QC_table['AIFI_L3'] == adata_clustered.obs['celltypist_l3'][0]]['leiden'].tolist()\n",
    "    adata_clustered = adata_clustered[~adata_clustered.obs['leiden'].isin([str(i) for i in filtered_leiden])]\n",
    "    adata_clustered.write_h5ad('h5_cleaned_by_celltype/' + adata_clustered.obs['celltypist_l3'][0] + '.h5ad')\n",
    "\n",
    "with multiprocessing.Pool(processes=30) as pool:\n",
    "    results = pool.starmap(process_file, [(f, QC_table) for f in files])\n"
   ]
  }
 ],
 "metadata": {
  "kernelspec": {
   "display_name": "Python [conda env:root] *",
   "language": "python",
   "name": "conda-root-py"
  },
  "language_info": {
   "codemirror_mode": {
    "name": "ipython",
    "version": 3
   },
   "file_extension": ".py",
   "mimetype": "text/x-python",
   "name": "python",
   "nbconvert_exporter": "python",
   "pygments_lexer": "ipython3",
   "version": "3.10.12"
  }
 },
 "nbformat": 4,
 "nbformat_minor": 5
}
