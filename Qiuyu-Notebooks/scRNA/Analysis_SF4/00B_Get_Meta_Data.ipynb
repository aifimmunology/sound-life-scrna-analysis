{
 "cells": [
  {
   "cell_type": "code",
   "execution_count": 4,
   "id": "b5953e9a-c833-44e9-b2d3-0bfa9274a2c6",
   "metadata": {
    "tags": []
   },
   "outputs": [],
   "source": [
    "from datetime import date\n",
    "import hisepy as hp\n",
    "import os\n",
    "import pandas\n",
    "import session_info\n",
    "import warnings\n",
    "import re"
   ]
  },
  {
   "cell_type": "code",
   "execution_count": null,
   "id": "f0c283b3-5555-4617-8130-a980510a3278",
   "metadata": {
    "tags": []
   },
   "outputs": [],
   "source": [
    "query_obj = {'fileType' : ['frna-labeled-h5'],\n",
    "\n",
    "             'cohortGuid':['SF4']}\n",
    "\n",
    "# now pass that on in \n",
    "output = hp.read_files(query_dict=query_obj) \n",
    "output['descriptors']"
   ]
  },
  {
   "cell_type": "code",
   "execution_count": null,
   "id": "23ecd466-2610-41e6-8ba2-9d1cedb0737a",
   "metadata": {},
   "outputs": [],
   "source": [
    "output"
   ]
  }
 ],
 "metadata": {
  "kernelspec": {
   "display_name": "Python [conda env:root] *",
   "language": "python",
   "name": "conda-root-py"
  },
  "language_info": {
   "codemirror_mode": {
    "name": "ipython",
    "version": 3
   },
   "file_extension": ".py",
   "mimetype": "text/x-python",
   "name": "python",
   "nbconvert_exporter": "python",
   "pygments_lexer": "ipython3",
   "version": "3.10.12"
  }
 },
 "nbformat": 4,
 "nbformat_minor": 5
}
