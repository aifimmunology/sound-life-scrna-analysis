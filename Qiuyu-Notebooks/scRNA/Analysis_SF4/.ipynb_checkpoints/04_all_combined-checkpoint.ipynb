{
 "cells": [
  {
   "cell_type": "code",
   "execution_count": 2,
   "id": "5647fe11-e1d6-414f-82b2-a7e9418b7e7f",
   "metadata": {
    "tags": []
   },
   "outputs": [],
   "source": [
    "import scanpy as sc\n",
    "import pandas as pd \n",
    "import numpy as np\n",
    "import anndata\n",
    "import re\n",
    "import h5py\n",
    "import scipy.sparse as scs\n",
    "import concurrent.futures\n",
    "import matplotlib.pyplot as plt\n",
    "import seaborn as sns\n",
    "from scipy.sparse import csc_matrix\n",
    "from concurrent.futures import ThreadPoolExecutor, as_completed\n",
    "import umap\n",
    "import random\n",
    "import multiprocessing\n",
    "random.seed(123)\n",
    "from joblib import Parallel, delayed\n",
    "import copy\n",
    "import os\n",
    "from tqdm import tqdm\n",
    "import math\n",
    "import scanpy.external as sce\n",
    "from concurrent.futures import ProcessPoolExecutor\n",
    "\n",
    "from PIL import Image, ImageDraw, ImageFont\n",
    "import gc\n",
    "import re\n",
    "import multiprocessing"
   ]
  },
  {
   "cell_type": "code",
   "execution_count": 3,
   "id": "a8eadb60-4973-404a-b422-79a80a1b0f13",
   "metadata": {
    "tags": []
   },
   "outputs": [],
   "source": [
    "def run_leiden(adata, resolution, key_added):\n",
    "    \n",
    "    adata_copy = copy.deepcopy(adata)\n",
    "    adata_clustering = sc.tl.leiden(adata_copy, resolution=resolution, key_added=key_added,n_iterations=3, copy=True)\n",
    "    return adata_clustering.obs\n",
    "\n",
    "def run_leiden_parallel(adata, tasks):\n",
    "    with ProcessPoolExecutor(max_workers=5) as executor:\n",
    "        futures = [executor.submit(run_leiden, copy.deepcopy(adata), resolution, key_added) for resolution, key_added in tasks]\n",
    "        \n",
    "        results = [future.result() for future in futures]\n",
    "\n",
    "    for result, (_, key_added) in zip(results, tasks):\n",
    "        adata.obs[key_added] = result[key_added]\n",
    "\n",
    "    return adata"
   ]
  },
  {
   "cell_type": "code",
   "execution_count": 4,
   "id": "73c66437-352d-448c-a83e-9b9f62b13f57",
   "metadata": {
    "tags": []
   },
   "outputs": [],
   "source": [
    "files = os.listdir(\"h5_cleaned_by_celltype/\")\n",
    "pattern = re.compile(r'mono')"
   ]
  },
  {
   "cell_type": "code",
   "execution_count": null,
   "id": "99fdd90e-cf7d-409f-86e0-b453ad899ffd",
   "metadata": {
    "tags": []
   },
   "outputs": [],
   "source": [
    "adata_list=[]\n",
    "for i in files:\n",
    "    adata_sinlge=sc.read_h5ad(\"h5_cleaned_by_celltype/\"+i)\n",
    "    adata_list.append(adata_sinlge)\n",
    "    "
   ]
  },
  {
   "cell_type": "code",
   "execution_count": null,
   "id": "a600b964-1784-4bdf-a9c5-f2252c59f1ed",
   "metadata": {
    "tags": []
   },
   "outputs": [],
   "source": [
    "adata=anndata.concat(adata_list)"
   ]
  },
  {
   "cell_type": "code",
   "execution_count": null,
   "id": "ee30cf37-0a4a-4fea-a58e-308cabe7e3ef",
   "metadata": {
    "tags": []
   },
   "outputs": [],
   "source": [
    "adata"
   ]
  },
  {
   "cell_type": "code",
   "execution_count": null,
   "id": "0bc41a2c-2a72-40aa-ad8d-4cded4561cb2",
   "metadata": {},
   "outputs": [],
   "source": [
    "del adata_list\n",
    "gc.collect()"
   ]
  },
  {
   "cell_type": "code",
   "execution_count": null,
   "id": "8c3d1009-2031-4be8-82ef-6c524c40d0d4",
   "metadata": {
    "tags": []
   },
   "outputs": [],
   "source": [
    "%%time\n",
    "\n",
    "sc.pp.normalize_total(adata, target_sum=1e4)\n",
    "sc.pp.log1p(adata)\n",
    "sc.pp.highly_variable_genes(adata)\n",
    "adata = adata[:, adata.var_names[adata.var['highly_variable']]]\n",
    "sc.pp.scale(adata)\n",
    "sc.tl.pca(adata, svd_solver='arpack')"
   ]
  },
  {
   "cell_type": "code",
   "execution_count": null,
   "id": "e830950f-3e6c-4013-8d7a-e2745be01838",
   "metadata": {
    "tags": []
   },
   "outputs": [],
   "source": [
    "%%time\n",
    "sce.pp.harmony_integrate(adata, 'pool_id',max_iter_harmony = 10)"
   ]
  },
  {
   "cell_type": "code",
   "execution_count": null,
   "id": "1359ebcd-5559-4e64-b076-019dd7cb5e99",
   "metadata": {
    "tags": []
   },
   "outputs": [],
   "source": [
    "%%time\n",
    "sc.pp.neighbors(adata, n_neighbors=50,use_rep='X_pca_harmony', n_pcs=30)\n",
    "sc.tl.umap(adata,min_dist=0.45)"
   ]
  },
  {
   "cell_type": "code",
   "execution_count": null,
   "id": "81b7998a-a9f1-4119-9b13-18a5acfdcd02",
   "metadata": {
    "tags": []
   },
   "outputs": [],
   "source": [
    "adata.write_h5ad('All_processed_pre_leiden.h5ad')"
   ]
  },
  {
   "cell_type": "code",
   "execution_count": null,
   "id": "5a50defb-c09a-4454-88e7-0403b2d5b39a",
   "metadata": {
    "tags": []
   },
   "outputs": [],
   "source": [
    "%%time\n",
    "tasks = [(1, \"leiden_resolution_1\"),(1.5, \"leiden_resolution_1.5\"),(2, \"leiden_resolution_2\")]\n",
    "adata = run_leiden_parallel(adata, tasks)"
   ]
  },
  {
   "cell_type": "code",
   "execution_count": null,
   "id": "55386271-5c9b-4c0b-af71-aaac840c00ee",
   "metadata": {
    "tags": []
   },
   "outputs": [],
   "source": [
    "adata=adata.raw.to_adata()"
   ]
  },
  {
   "cell_type": "code",
   "execution_count": null,
   "id": "9229f2ae-6bfa-4ec1-8f1c-4c6e099c6a12",
   "metadata": {
    "tags": []
   },
   "outputs": [],
   "source": [
    "adata.write_h5ad('All_leiden.h5ad')"
   ]
  },
  {
   "cell_type": "code",
   "execution_count": null,
   "id": "8e86fcdb-bd7b-4460-9335-b85783254cb3",
   "metadata": {},
   "outputs": [],
   "source": []
  }
 ],
 "metadata": {
  "kernelspec": {
   "display_name": "Python [conda env:root] *",
   "language": "python",
   "name": "conda-root-py"
  },
  "language_info": {
   "codemirror_mode": {
    "name": "ipython",
    "version": 3
   },
   "file_extension": ".py",
   "mimetype": "text/x-python",
   "name": "python",
   "nbconvert_exporter": "python",
   "pygments_lexer": "ipython3",
   "version": "3.10.12"
  }
 },
 "nbformat": 4,
 "nbformat_minor": 5
}
