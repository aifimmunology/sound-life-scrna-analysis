{
 "cells": [
  {
   "cell_type": "code",
   "execution_count": 1,
   "id": "231c04ea-98bc-4534-bb4c-53a312b37c06",
   "metadata": {
    "tags": []
   },
   "outputs": [],
   "source": [
    "library(hise)"
   ]
  },
  {
   "cell_type": "code",
   "execution_count": 3,
   "id": "e6097ad9-5a46-4c33-af85-78855e2e2b0f",
   "metadata": {
    "tags": []
   },
   "outputs": [
    {
     "name": "stdout",
     "output_type": "stream",
     "text": [
      "[1] \"Cannot determine the current notebook.\"\n",
      "[1] \"1) /home/jupyter/GCL_Tool_BIU/Python/Untitled.ipynb\"\n",
      "[1] \"2) /home/jupyter/BRI_Analysis/Upload_data.ipynb\"\n",
      "[1] \"3) /home/jupyter/reference_generating_new/All_consturction/03_Milo.ipynb\"\n"
     ]
    },
    {
     "name": "stdin",
     "output_type": "stream",
     "text": [
      "Please select (1-3)  1\n"
     ]
    },
    {
     "name": "stderr",
     "output_type": "stream",
     "text": [
      "You are trying to upload the following files:  /home/jupyter/BRI_Analysis/scRNA/BRI_Labels.tar.gz\n",
      "\n"
     ]
    },
    {
     "name": "stdin",
     "output_type": "stream",
     "text": [
      "(y/n) Y\n"
     ]
    },
    {
     "data": {
      "text/html": [
       "<dl>\n",
       "\t<dt>$files</dt>\n",
       "\t\t<dd><ol>\n",
       "\t<li>'/home/jupyter/BRI_Analysis/scRNA/BRI_Labels.tar.gz'</li>\n",
       "</ol>\n",
       "</dd>\n",
       "\t<dt>$traceId</dt>\n",
       "\t\t<dd>'ab7b6dc1-cf47-4153-9544-1b4c14160253'</dd>\n",
       "</dl>\n"
      ],
      "text/latex": [
       "\\begin{description}\n",
       "\\item[\\$files] \\begin{enumerate}\n",
       "\\item '/home/jupyter/BRI\\_Analysis/scRNA/BRI\\_Labels.tar.gz'\n",
       "\\end{enumerate}\n",
       "\n",
       "\\item[\\$traceId] 'ab7b6dc1-cf47-4153-9544-1b4c14160253'\n",
       "\\end{description}\n"
      ],
      "text/markdown": [
       "$files\n",
       ":   1. '/home/jupyter/BRI_Analysis/scRNA/BRI_Labels.tar.gz'\n",
       "\n",
       "\n",
       "\n",
       "$traceId\n",
       ":   'ab7b6dc1-cf47-4153-9544-1b4c14160253'\n",
       "\n",
       "\n"
      ],
      "text/plain": [
       "$files\n",
       "$files[[1]]\n",
       "[1] \"/home/jupyter/BRI_Analysis/scRNA/BRI_Labels.tar.gz\"\n",
       "\n",
       "\n",
       "$traceId\n",
       "[1] \"ab7b6dc1-cf47-4153-9544-1b4c14160253\"\n"
      ]
     },
     "metadata": {},
     "output_type": "display_data"
    }
   ],
   "source": [
    "uploadFiles(\n",
    "  list('/home/jupyter/BRI_Analysis/scRNA/BRI_Labels.tar.gz'),\n",
    "  studySpaceId = '64097865-486d-43b3-8f94-74994e0a72e0',\n",
    "  title = 'BRI Labels- V1 2024-01-12', fileTypes = list('h5#derived'),\n",
    "  inputFileIds = list('fec489f9-9a74-4635-aa91-d2bf09d1faec')\n",
    ")"
   ]
  },
  {
   "cell_type": "code",
   "execution_count": null,
   "id": "65a83b73-7c4d-49ed-a262-f8301c06ca15",
   "metadata": {},
   "outputs": [],
   "source": []
  }
 ],
 "metadata": {
  "kernelspec": {
   "display_name": "R 4",
   "language": "R",
   "name": "ir4"
  },
  "language_info": {
   "codemirror_mode": "r",
   "file_extension": ".r",
   "mimetype": "text/x-r-source",
   "name": "R",
   "pygments_lexer": "r",
   "version": "4.3.1"
  }
 },
 "nbformat": 4,
 "nbformat_minor": 5
}
