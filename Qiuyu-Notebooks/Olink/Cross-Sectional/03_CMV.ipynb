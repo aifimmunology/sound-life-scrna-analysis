{
 "cells": [
  {
   "cell_type": "code",
   "execution_count": 2,
   "id": "e6bc42c3-0d36-471e-8878-43734d1380d3",
   "metadata": {
    "tags": []
   },
   "outputs": [
    {
     "name": "stderr",
     "output_type": "stream",
     "text": [
      "Loading required package: ggplot2\n",
      "\n",
      "── \u001b[1mAttaching core tidyverse packages\u001b[22m ──────────────────────── tidyverse 2.0.0 ──\n",
      "\u001b[32m✔\u001b[39m \u001b[34mdplyr    \u001b[39m 1.1.3     \u001b[32m✔\u001b[39m \u001b[34mreadr    \u001b[39m 2.1.4\n",
      "\u001b[32m✔\u001b[39m \u001b[34mforcats  \u001b[39m 1.0.0     \u001b[32m✔\u001b[39m \u001b[34mstringr  \u001b[39m 1.5.0\n",
      "\u001b[32m✔\u001b[39m \u001b[34mlubridate\u001b[39m 1.9.2     \u001b[32m✔\u001b[39m \u001b[34mtibble   \u001b[39m 3.2.1\n",
      "\u001b[32m✔\u001b[39m \u001b[34mpurrr    \u001b[39m 1.0.2     \u001b[32m✔\u001b[39m \u001b[34mtidyr    \u001b[39m 1.3.0\n",
      "── \u001b[1mConflicts\u001b[22m ────────────────────────────────────────── tidyverse_conflicts() ──\n",
      "\u001b[31m✖\u001b[39m \u001b[34mdplyr\u001b[39m::\u001b[32mfilter()\u001b[39m masks \u001b[34mstats\u001b[39m::filter()\n",
      "\u001b[31m✖\u001b[39m \u001b[34mdplyr\u001b[39m::\u001b[32mlag()\u001b[39m    masks \u001b[34mstats\u001b[39m::lag()\n",
      "\u001b[36mℹ\u001b[39m Use the conflicted package (\u001b[3m\u001b[34m<http://conflicted.r-lib.org/>\u001b[39m\u001b[23m) to force all conflicts to become errors\n",
      "Loading required package: lme4\n",
      "\n",
      "Loading required package: Matrix\n",
      "\n",
      "\n",
      "Attaching package: ‘Matrix’\n",
      "\n",
      "\n",
      "The following objects are masked from ‘package:tidyr’:\n",
      "\n",
      "    expand, pack, unpack\n",
      "\n",
      "\n",
      "\n",
      "Attaching package: ‘lmerTest’\n",
      "\n",
      "\n",
      "The following object is masked from ‘package:lme4’:\n",
      "\n",
      "    lmer\n",
      "\n",
      "\n",
      "The following object is masked from ‘package:stats’:\n",
      "\n",
      "    step\n",
      "\n",
      "\n",
      "Loading required package: viridisLite\n",
      "\n"
     ]
    }
   ],
   "source": [
    "library(\"ggpubr\")\n",
    "library(\"see\")\n",
    "library(\"tidyverse\")\n",
    "library(parallel)\n",
    "library(lmerTest)\n",
    "library(lme4)\n",
    "suppressPackageStartupMessages(library(performance))\n",
    "suppressPackageStartupMessages(library(dplyr))\n",
    "suppressPackageStartupMessages(library(tidyr))\n",
    "suppressPackageStartupMessages(library(tibble))\n",
    "suppressPackageStartupMessages(library(ggplot2))\n",
    "suppressPackageStartupMessages(library(pheatmap))\n",
    "suppressPackageStartupMessages(library(patchwork))\n",
    "suppressPackageStartupMessages(library(plyr))\n",
    "suppressPackageStartupMessages(library(ggrepel))\n",
    "library(RColorBrewer)\n",
    "library(viridis)"
   ]
  },
  {
   "cell_type": "code",
   "execution_count": 3,
   "id": "4d918518-ce7b-44d1-826e-78c095ad5b7a",
   "metadata": {
    "tags": []
   },
   "outputs": [],
   "source": [
    "Olnik<-read.csv('Olink.csv')"
   ]
  },
  {
   "cell_type": "code",
   "execution_count": 4,
   "id": "33affa5e-7fc6-4db2-9020-51318c7fed15",
   "metadata": {
    "tags": []
   },
   "outputs": [],
   "source": [
    "meta<-read.csv('/home/jupyter/BRI_Analysis/scRNA/hise_meta_data_2024-01-09.csv')\n",
    "meta<-meta %>% filter(sample.visitName=='Flu Year 1 Day 0')"
   ]
  },
  {
   "cell_type": "code",
   "execution_count": 5,
   "id": "c8825872-eb13-4ddf-a886-7427c401978c",
   "metadata": {
    "tags": []
   },
   "outputs": [],
   "source": [
    "CMV=read.csv(\"/home//jupyter/BRI_Analysis/scRNA/CMV_20220718.csv\") \n",
    "meta<-left_join(meta,CMV,by = c(\"subject.subjectGuid\"))"
   ]
  },
  {
   "cell_type": "code",
   "execution_count": 6,
   "id": "0d15c924-b3cb-4324-97ab-0cc3c5b0ca54",
   "metadata": {
    "tags": []
   },
   "outputs": [],
   "source": [
    "rownames(meta)<-meta$sample.sampleKitGuid"
   ]
  },
  {
   "cell_type": "code",
   "execution_count": 7,
   "id": "b8b25021-72b0-4689-90fd-841685dd845e",
   "metadata": {
    "tags": []
   },
   "outputs": [],
   "source": [
    "Olnik<-Olnik %>% filter(sample.sampleKitGuid %in% unique(meta$sample.sampleKitGuid))"
   ]
  },
  {
   "cell_type": "code",
   "execution_count": 8,
   "id": "f261dff7-8a5f-4a7f-9e1f-1f2296262c97",
   "metadata": {
    "tags": []
   },
   "outputs": [],
   "source": [
    "Olnik<-left_join(Olnik,meta, by = c(\"sample.sampleKitGuid\"))"
   ]
  },
  {
   "cell_type": "code",
   "execution_count": 9,
   "id": "af7ce394-e715-40ce-88f1-70d81c5f0465",
   "metadata": {
    "tags": []
   },
   "outputs": [
    {
     "data": {
      "text/html": [
       "92"
      ],
      "text/latex": [
       "92"
      ],
      "text/markdown": [
       "92"
      ],
      "text/plain": [
       "[1] 92"
      ]
     },
     "metadata": {},
     "output_type": "display_data"
    }
   ],
   "source": [
    "n_distinct(Olnik$sample.sampleKitGuid)"
   ]
  },
  {
   "cell_type": "code",
   "execution_count": 10,
   "id": "14e950aa-a531-4656-82d1-7d68a415b7ca",
   "metadata": {
    "tags": []
   },
   "outputs": [],
   "source": [
    "Olnik_BR1<-Olnik %>% filter(cohort.cohortGuid=='BR1')\n",
    "Olnik_BR2<-Olnik %>% filter(cohort.cohortGuid=='BR2')"
   ]
  },
  {
   "cell_type": "code",
   "execution_count": 11,
   "id": "f937c3b3-d30d-46e6-ae9f-ae3731a90f8a",
   "metadata": {
    "tags": []
   },
   "outputs": [],
   "source": [
    "res_list_BR1<-mclapply(unique(Olnik_BR1$Assay),function(x){\n",
    "Olnik_sub<-Olnik_BR1  %>% filter(sample.visitName=='Flu Year 1 Day 0',Assay==x)\n",
    "res<-lm(NPX_bridged ~ CMV.IgG.Serology.Result.Interpretation, data=Olnik_sub)\n",
    "res<-as.data.frame(summary(res)$coefficients)[2,]\n",
    "res$factor<-c('CMV')  \n",
    "res$Assay<-x\n",
    "res$diff<-Olnik_sub %>%\n",
    "  dplyr::group_by(Assay, CMV.IgG.Serology.Result.Interpretation) %>%\n",
    "  dplyr::summarise(Mean_Expression = mean(NPX_bridged, na.rm = TRUE)) %>%\n",
    "  spread(CMV.IgG.Serology.Result.Interpretation, Mean_Expression) %>%\n",
    "  mutate(diff = Positive- Negative)%>% select(diff) %>% pull()\n",
    "return(res)\n",
    "},mc.cores=60)\n",
    "\n",
    "res_list_BR2<-mclapply(unique(Olnik_BR2$Assay),function(x){\n",
    "Olnik_sub<-Olnik_BR2  %>% filter(sample.visitName=='Flu Year 1 Day 0',Assay==x)\n",
    "res<-lm(NPX_bridged ~ CMV.IgG.Serology.Result.Interpretation, data=Olnik_sub)\n",
    "res<-as.data.frame(summary(res)$coefficients)[2,]\n",
    "res$factor<-c('CMV')  \n",
    "res$Assay<-x\n",
    "res$diff<-Olnik_sub %>%\n",
    "  dplyr::group_by(Assay, CMV.IgG.Serology.Result.Interpretation) %>%\n",
    "  dplyr::summarise(Mean_Expression = mean(NPX_bridged, na.rm = TRUE)) %>%\n",
    "  spread(CMV.IgG.Serology.Result.Interpretation, Mean_Expression) %>%\n",
    "  mutate(diff = Positive- Negative)%>% select(diff) %>% pull()\n",
    "return(res)\n",
    "},mc.cores=60)"
   ]
  },
  {
   "cell_type": "code",
   "execution_count": 12,
   "id": "b93e10c5-452a-4d52-8500-0d1e023e119e",
   "metadata": {
    "tags": []
   },
   "outputs": [],
   "source": [
    "res_all_BR1<-do.call(rbind,res_list_BR1 )\n",
    "res_all_BR1$padj<-p.adjust(res_all_BR1$`Pr(>|t|)`)\n",
    "res_all_BR2<-do.call(rbind,res_list_BR2)\n",
    "res_all_BR2$padj<-p.adjust(res_all_BR2$`Pr(>|t|)`)"
   ]
  },
  {
   "cell_type": "code",
   "execution_count": 13,
   "id": "e56be0b7-4689-4f5a-a42a-d3b4334ac643",
   "metadata": {
    "collapsed": true,
    "jupyter": {
     "outputs_hidden": true
    },
    "tags": []
   },
   "outputs": [
    {
     "data": {
      "text/html": [
       "<table class=\"dataframe\">\n",
       "<caption>A data.frame: 20 × 8</caption>\n",
       "<thead>\n",
       "\t<tr><th></th><th scope=col>Estimate</th><th scope=col>Std. Error</th><th scope=col>t value</th><th scope=col>Pr(&gt;|t|)</th><th scope=col>factor</th><th scope=col>Assay</th><th scope=col>diff</th><th scope=col>padj</th></tr>\n",
       "\t<tr><th></th><th scope=col>&lt;dbl&gt;</th><th scope=col>&lt;dbl&gt;</th><th scope=col>&lt;dbl&gt;</th><th scope=col>&lt;dbl&gt;</th><th scope=col>&lt;chr&gt;</th><th scope=col>&lt;chr&gt;</th><th scope=col>&lt;dbl&gt;</th><th scope=col>&lt;dbl&gt;</th></tr>\n",
       "</thead>\n",
       "<tbody>\n",
       "\t<tr><th scope=row>1</th><td>-0.4306915</td><td>0.12895773</td><td>-3.339788</td><td>0.001692157</td><td>CMV</td><td>PRSS27  </td><td>-0.4306915</td><td>1</td></tr>\n",
       "\t<tr><th scope=row>2</th><td>-1.1731312</td><td>0.37549376</td><td>-3.124236</td><td>0.003116312</td><td>CMV</td><td>TDGF1   </td><td>-1.1731312</td><td>1</td></tr>\n",
       "\t<tr><th scope=row>3</th><td>-0.3548906</td><td>0.11786948</td><td>-3.010878</td><td>0.004261058</td><td>CMV</td><td>NCR1    </td><td>-0.3548906</td><td>1</td></tr>\n",
       "\t<tr><th scope=row>4</th><td>-0.3572559</td><td>0.12072155</td><td>-2.959338</td><td>0.004902686</td><td>CMV</td><td>CA12    </td><td>-0.3572559</td><td>1</td></tr>\n",
       "\t<tr><th scope=row>5</th><td> 0.4988565</td><td>0.17590576</td><td> 2.835931</td><td>0.006823815</td><td>CMV</td><td>NOS3    </td><td> 0.4988565</td><td>1</td></tr>\n",
       "\t<tr><th scope=row>6</th><td>-0.2595283</td><td>0.09534257</td><td>-2.722061</td><td>0.009195679</td><td>CMV</td><td>FAM3B   </td><td>-0.2595283</td><td>1</td></tr>\n",
       "\t<tr><th scope=row>7</th><td>-0.2795435</td><td>0.10490475</td><td>-2.664736</td><td>0.010658617</td><td>CMV</td><td>CX3CL1  </td><td>-0.2795435</td><td>1</td></tr>\n",
       "\t<tr><th scope=row>8</th><td>-0.3197163</td><td>0.12034026</td><td>-2.656769</td><td>0.010878087</td><td>CMV</td><td>CA9     </td><td>-0.3197163</td><td>1</td></tr>\n",
       "\t<tr><th scope=row>9</th><td> 1.7559612</td><td>0.68364793</td><td> 2.568517</td><td>0.013602219</td><td>CMV</td><td>FOLR3   </td><td> 1.7559612</td><td>1</td></tr>\n",
       "\t<tr><th scope=row>10</th><td>-0.4722843</td><td>0.17847787</td><td>-2.646179</td><td>0.014142772</td><td>CMV</td><td>FGFR1OP </td><td>-0.4722843</td><td>1</td></tr>\n",
       "\t<tr><th scope=row>11</th><td>-0.4915479</td><td>0.19255332</td><td>-2.552788</td><td>0.014148625</td><td>CMV</td><td>XCL1    </td><td>-0.4915479</td><td>1</td></tr>\n",
       "\t<tr><th scope=row>12</th><td> 0.5835017</td><td>0.23101111</td><td> 2.525860</td><td>0.015130774</td><td>CMV</td><td>KIR2DL3 </td><td> 0.5835017</td><td>1</td></tr>\n",
       "\t<tr><th scope=row>13</th><td>-0.2969843</td><td>0.11793437</td><td>-2.518217</td><td>0.015420637</td><td>CMV</td><td>CALB1   </td><td>-0.2969843</td><td>1</td></tr>\n",
       "\t<tr><th scope=row>14</th><td>-0.3364913</td><td>0.13514507</td><td>-2.489852</td><td>0.016540999</td><td>CMV</td><td>LTA     </td><td>-0.3364913</td><td>1</td></tr>\n",
       "\t<tr><th scope=row>15</th><td>-0.2322501</td><td>0.09344096</td><td>-2.485528</td><td>0.016718164</td><td>CMV</td><td>TNFRSF21</td><td>-0.2322501</td><td>1</td></tr>\n",
       "\t<tr><th scope=row>16</th><td> 0.2453156</td><td>0.10062757</td><td> 2.437857</td><td>0.018788300</td><td>CMV</td><td>IL18R1  </td><td> 0.2453156</td><td>1</td></tr>\n",
       "\t<tr><th scope=row>17</th><td> 0.1972513</td><td>0.08135551</td><td> 2.424560</td><td>0.019405657</td><td>CMV</td><td>EIF5A   </td><td> 0.1972513</td><td>1</td></tr>\n",
       "\t<tr><th scope=row>18</th><td>-0.4149593</td><td>0.17121898</td><td>-2.423559</td><td>0.019452890</td><td>CMV</td><td>SIRPA   </td><td>-0.4149593</td><td>1</td></tr>\n",
       "\t<tr><th scope=row>19</th><td> 0.5482883</td><td>0.22695069</td><td> 2.415892</td><td>0.019817952</td><td>CMV</td><td>CALCA   </td><td> 0.5482883</td><td>1</td></tr>\n",
       "\t<tr><th scope=row>20</th><td>-0.3314744</td><td>0.13738397</td><td>-2.412759</td><td>0.019968884</td><td>CMV</td><td>ICAM5   </td><td>-0.3314744</td><td>1</td></tr>\n",
       "</tbody>\n",
       "</table>\n"
      ],
      "text/latex": [
       "A data.frame: 20 × 8\n",
       "\\begin{tabular}{r|llllllll}\n",
       "  & Estimate & Std. Error & t value & Pr(>\\textbar{}t\\textbar{}) & factor & Assay & diff & padj\\\\\n",
       "  & <dbl> & <dbl> & <dbl> & <dbl> & <chr> & <chr> & <dbl> & <dbl>\\\\\n",
       "\\hline\n",
       "\t1 & -0.4306915 & 0.12895773 & -3.339788 & 0.001692157 & CMV & PRSS27   & -0.4306915 & 1\\\\\n",
       "\t2 & -1.1731312 & 0.37549376 & -3.124236 & 0.003116312 & CMV & TDGF1    & -1.1731312 & 1\\\\\n",
       "\t3 & -0.3548906 & 0.11786948 & -3.010878 & 0.004261058 & CMV & NCR1     & -0.3548906 & 1\\\\\n",
       "\t4 & -0.3572559 & 0.12072155 & -2.959338 & 0.004902686 & CMV & CA12     & -0.3572559 & 1\\\\\n",
       "\t5 &  0.4988565 & 0.17590576 &  2.835931 & 0.006823815 & CMV & NOS3     &  0.4988565 & 1\\\\\n",
       "\t6 & -0.2595283 & 0.09534257 & -2.722061 & 0.009195679 & CMV & FAM3B    & -0.2595283 & 1\\\\\n",
       "\t7 & -0.2795435 & 0.10490475 & -2.664736 & 0.010658617 & CMV & CX3CL1   & -0.2795435 & 1\\\\\n",
       "\t8 & -0.3197163 & 0.12034026 & -2.656769 & 0.010878087 & CMV & CA9      & -0.3197163 & 1\\\\\n",
       "\t9 &  1.7559612 & 0.68364793 &  2.568517 & 0.013602219 & CMV & FOLR3    &  1.7559612 & 1\\\\\n",
       "\t10 & -0.4722843 & 0.17847787 & -2.646179 & 0.014142772 & CMV & FGFR1OP  & -0.4722843 & 1\\\\\n",
       "\t11 & -0.4915479 & 0.19255332 & -2.552788 & 0.014148625 & CMV & XCL1     & -0.4915479 & 1\\\\\n",
       "\t12 &  0.5835017 & 0.23101111 &  2.525860 & 0.015130774 & CMV & KIR2DL3  &  0.5835017 & 1\\\\\n",
       "\t13 & -0.2969843 & 0.11793437 & -2.518217 & 0.015420637 & CMV & CALB1    & -0.2969843 & 1\\\\\n",
       "\t14 & -0.3364913 & 0.13514507 & -2.489852 & 0.016540999 & CMV & LTA      & -0.3364913 & 1\\\\\n",
       "\t15 & -0.2322501 & 0.09344096 & -2.485528 & 0.016718164 & CMV & TNFRSF21 & -0.2322501 & 1\\\\\n",
       "\t16 &  0.2453156 & 0.10062757 &  2.437857 & 0.018788300 & CMV & IL18R1   &  0.2453156 & 1\\\\\n",
       "\t17 &  0.1972513 & 0.08135551 &  2.424560 & 0.019405657 & CMV & EIF5A    &  0.1972513 & 1\\\\\n",
       "\t18 & -0.4149593 & 0.17121898 & -2.423559 & 0.019452890 & CMV & SIRPA    & -0.4149593 & 1\\\\\n",
       "\t19 &  0.5482883 & 0.22695069 &  2.415892 & 0.019817952 & CMV & CALCA    &  0.5482883 & 1\\\\\n",
       "\t20 & -0.3314744 & 0.13738397 & -2.412759 & 0.019968884 & CMV & ICAM5    & -0.3314744 & 1\\\\\n",
       "\\end{tabular}\n"
      ],
      "text/markdown": [
       "\n",
       "A data.frame: 20 × 8\n",
       "\n",
       "| <!--/--> | Estimate &lt;dbl&gt; | Std. Error &lt;dbl&gt; | t value &lt;dbl&gt; | Pr(&gt;|t|) &lt;dbl&gt; | factor &lt;chr&gt; | Assay &lt;chr&gt; | diff &lt;dbl&gt; | padj &lt;dbl&gt; |\n",
       "|---|---|---|---|---|---|---|---|---|\n",
       "| 1 | -0.4306915 | 0.12895773 | -3.339788 | 0.001692157 | CMV | PRSS27   | -0.4306915 | 1 |\n",
       "| 2 | -1.1731312 | 0.37549376 | -3.124236 | 0.003116312 | CMV | TDGF1    | -1.1731312 | 1 |\n",
       "| 3 | -0.3548906 | 0.11786948 | -3.010878 | 0.004261058 | CMV | NCR1     | -0.3548906 | 1 |\n",
       "| 4 | -0.3572559 | 0.12072155 | -2.959338 | 0.004902686 | CMV | CA12     | -0.3572559 | 1 |\n",
       "| 5 |  0.4988565 | 0.17590576 |  2.835931 | 0.006823815 | CMV | NOS3     |  0.4988565 | 1 |\n",
       "| 6 | -0.2595283 | 0.09534257 | -2.722061 | 0.009195679 | CMV | FAM3B    | -0.2595283 | 1 |\n",
       "| 7 | -0.2795435 | 0.10490475 | -2.664736 | 0.010658617 | CMV | CX3CL1   | -0.2795435 | 1 |\n",
       "| 8 | -0.3197163 | 0.12034026 | -2.656769 | 0.010878087 | CMV | CA9      | -0.3197163 | 1 |\n",
       "| 9 |  1.7559612 | 0.68364793 |  2.568517 | 0.013602219 | CMV | FOLR3    |  1.7559612 | 1 |\n",
       "| 10 | -0.4722843 | 0.17847787 | -2.646179 | 0.014142772 | CMV | FGFR1OP  | -0.4722843 | 1 |\n",
       "| 11 | -0.4915479 | 0.19255332 | -2.552788 | 0.014148625 | CMV | XCL1     | -0.4915479 | 1 |\n",
       "| 12 |  0.5835017 | 0.23101111 |  2.525860 | 0.015130774 | CMV | KIR2DL3  |  0.5835017 | 1 |\n",
       "| 13 | -0.2969843 | 0.11793437 | -2.518217 | 0.015420637 | CMV | CALB1    | -0.2969843 | 1 |\n",
       "| 14 | -0.3364913 | 0.13514507 | -2.489852 | 0.016540999 | CMV | LTA      | -0.3364913 | 1 |\n",
       "| 15 | -0.2322501 | 0.09344096 | -2.485528 | 0.016718164 | CMV | TNFRSF21 | -0.2322501 | 1 |\n",
       "| 16 |  0.2453156 | 0.10062757 |  2.437857 | 0.018788300 | CMV | IL18R1   |  0.2453156 | 1 |\n",
       "| 17 |  0.1972513 | 0.08135551 |  2.424560 | 0.019405657 | CMV | EIF5A    |  0.1972513 | 1 |\n",
       "| 18 | -0.4149593 | 0.17121898 | -2.423559 | 0.019452890 | CMV | SIRPA    | -0.4149593 | 1 |\n",
       "| 19 |  0.5482883 | 0.22695069 |  2.415892 | 0.019817952 | CMV | CALCA    |  0.5482883 | 1 |\n",
       "| 20 | -0.3314744 | 0.13738397 | -2.412759 | 0.019968884 | CMV | ICAM5    | -0.3314744 | 1 |\n",
       "\n"
      ],
      "text/plain": [
       "   Estimate   Std. Error t value   Pr(>|t|)    factor Assay    diff       padj\n",
       "1  -0.4306915 0.12895773 -3.339788 0.001692157 CMV    PRSS27   -0.4306915 1   \n",
       "2  -1.1731312 0.37549376 -3.124236 0.003116312 CMV    TDGF1    -1.1731312 1   \n",
       "3  -0.3548906 0.11786948 -3.010878 0.004261058 CMV    NCR1     -0.3548906 1   \n",
       "4  -0.3572559 0.12072155 -2.959338 0.004902686 CMV    CA12     -0.3572559 1   \n",
       "5   0.4988565 0.17590576  2.835931 0.006823815 CMV    NOS3      0.4988565 1   \n",
       "6  -0.2595283 0.09534257 -2.722061 0.009195679 CMV    FAM3B    -0.2595283 1   \n",
       "7  -0.2795435 0.10490475 -2.664736 0.010658617 CMV    CX3CL1   -0.2795435 1   \n",
       "8  -0.3197163 0.12034026 -2.656769 0.010878087 CMV    CA9      -0.3197163 1   \n",
       "9   1.7559612 0.68364793  2.568517 0.013602219 CMV    FOLR3     1.7559612 1   \n",
       "10 -0.4722843 0.17847787 -2.646179 0.014142772 CMV    FGFR1OP  -0.4722843 1   \n",
       "11 -0.4915479 0.19255332 -2.552788 0.014148625 CMV    XCL1     -0.4915479 1   \n",
       "12  0.5835017 0.23101111  2.525860 0.015130774 CMV    KIR2DL3   0.5835017 1   \n",
       "13 -0.2969843 0.11793437 -2.518217 0.015420637 CMV    CALB1    -0.2969843 1   \n",
       "14 -0.3364913 0.13514507 -2.489852 0.016540999 CMV    LTA      -0.3364913 1   \n",
       "15 -0.2322501 0.09344096 -2.485528 0.016718164 CMV    TNFRSF21 -0.2322501 1   \n",
       "16  0.2453156 0.10062757  2.437857 0.018788300 CMV    IL18R1    0.2453156 1   \n",
       "17  0.1972513 0.08135551  2.424560 0.019405657 CMV    EIF5A     0.1972513 1   \n",
       "18 -0.4149593 0.17121898 -2.423559 0.019452890 CMV    SIRPA    -0.4149593 1   \n",
       "19  0.5482883 0.22695069  2.415892 0.019817952 CMV    CALCA     0.5482883 1   \n",
       "20 -0.3314744 0.13738397 -2.412759 0.019968884 CMV    ICAM5    -0.3314744 1   "
      ]
     },
     "metadata": {},
     "output_type": "display_data"
    }
   ],
   "source": [
    "res_all_BR1 %>%  arrange(`Pr(>|t|)`) %>% head(20)"
   ]
  },
  {
   "cell_type": "code",
   "execution_count": 14,
   "id": "6a24a33b-6621-4e17-97d5-796c4c2fb9a6",
   "metadata": {
    "tags": []
   },
   "outputs": [
    {
     "data": {
      "text/html": [
       "<table class=\"dataframe\">\n",
       "<caption>A data.frame: 50 × 8</caption>\n",
       "<thead>\n",
       "\t<tr><th></th><th scope=col>Estimate</th><th scope=col>Std. Error</th><th scope=col>t value</th><th scope=col>Pr(&gt;|t|)</th><th scope=col>factor</th><th scope=col>Assay</th><th scope=col>diff</th><th scope=col>padj</th></tr>\n",
       "\t<tr><th></th><th scope=col>&lt;dbl&gt;</th><th scope=col>&lt;dbl&gt;</th><th scope=col>&lt;dbl&gt;</th><th scope=col>&lt;dbl&gt;</th><th scope=col>&lt;chr&gt;</th><th scope=col>&lt;chr&gt;</th><th scope=col>&lt;dbl&gt;</th><th scope=col>&lt;dbl&gt;</th></tr>\n",
       "</thead>\n",
       "<tbody>\n",
       "\t<tr><th scope=row>1</th><td> 0.23543244</td><td>0.06686381</td><td> 3.521074</td><td>0.001031317</td><td>CMV</td><td>AMIGO2        </td><td> 0.23543244</td><td>1</td></tr>\n",
       "\t<tr><th scope=row>2</th><td> 0.74314702</td><td>0.22524444</td><td> 3.299291</td><td>0.001952940</td><td>CMV</td><td>FCRL6         </td><td> 0.74314702</td><td>1</td></tr>\n",
       "\t<tr><th scope=row>3</th><td>-0.76610804</td><td>0.23257629</td><td>-3.294007</td><td>0.001982413</td><td>CMV</td><td>OBP2B         </td><td>-0.76610804</td><td>1</td></tr>\n",
       "\t<tr><th scope=row>4</th><td> 0.16582500</td><td>0.05203496</td><td> 3.186800</td><td>0.002679839</td><td>CMV</td><td>ITGAV         </td><td> 0.16582500</td><td>1</td></tr>\n",
       "\t<tr><th scope=row>5</th><td>-0.47922500</td><td>0.11242489</td><td>-4.262624</td><td>0.003734484</td><td>CMV</td><td>WISP2         </td><td>-0.47922500</td><td>1</td></tr>\n",
       "\t<tr><th scope=row>6</th><td> 0.48419345</td><td>0.16147689</td><td> 2.998531</td><td>0.004496167</td><td>CMV</td><td>KLRD1         </td><td> 0.48419345</td><td>1</td></tr>\n",
       "\t<tr><th scope=row>7</th><td> 0.44393958</td><td>0.15020978</td><td> 2.955464</td><td>0.005049879</td><td>CMV</td><td>GNLY          </td><td> 0.44393958</td><td>1</td></tr>\n",
       "\t<tr><th scope=row>8</th><td>-0.44433720</td><td>0.15393909</td><td>-2.886448</td><td>0.006071914</td><td>CMV</td><td>KRT5          </td><td>-0.44433720</td><td>1</td></tr>\n",
       "\t<tr><th scope=row>9</th><td>-0.51018571</td><td>0.17821131</td><td>-2.862813</td><td>0.006464150</td><td>CMV</td><td>ARSA          </td><td>-0.51018571</td><td>1</td></tr>\n",
       "\t<tr><th scope=row>10</th><td> 0.33002827</td><td>0.11777864</td><td> 2.802106</td><td>0.007582296</td><td>CMV</td><td>PTEN          </td><td> 0.33002827</td><td>1</td></tr>\n",
       "\t<tr><th scope=row>11</th><td> 0.37400000</td><td>0.13385873</td><td> 2.793990</td><td>0.007744702</td><td>CMV</td><td>CD163         </td><td> 0.37400000</td><td>1</td></tr>\n",
       "\t<tr><th scope=row>12</th><td>-0.45696726</td><td>0.16625027</td><td>-2.748671</td><td>0.008712407</td><td>CMV</td><td>FUT3_FUT5     </td><td>-0.45696726</td><td>1</td></tr>\n",
       "\t<tr><th scope=row>13</th><td>-0.49592798</td><td>0.18372602</td><td>-2.699280</td><td>0.009893592</td><td>CMV</td><td>CRHR1         </td><td>-0.49592798</td><td>1</td></tr>\n",
       "\t<tr><th scope=row>14</th><td>-0.41269673</td><td>0.15590124</td><td>-2.647168</td><td>0.011298600</td><td>CMV</td><td>NOS1          </td><td>-0.41269673</td><td>1</td></tr>\n",
       "\t<tr><th scope=row>15</th><td> 0.46904375</td><td>0.17858888</td><td> 2.626388</td><td>0.011908296</td><td>CMV</td><td>FCRL3         </td><td> 0.46904375</td><td>1</td></tr>\n",
       "\t<tr><th scope=row>16</th><td> 0.26170375</td><td>0.09917183</td><td> 2.638892</td><td>0.012460801</td><td>CMV</td><td>ADGRE5        </td><td> 0.26170375</td><td>1</td></tr>\n",
       "\t<tr><th scope=row>17</th><td> 0.37209732</td><td>0.14347280</td><td> 2.593504</td><td>0.012935096</td><td>CMV</td><td>CD22          </td><td> 0.37209732</td><td>1</td></tr>\n",
       "\t<tr><th scope=row>18</th><td> 0.36983155</td><td>0.14354173</td><td> 2.576474</td><td>0.013498150</td><td>CMV</td><td>CEP164        </td><td> 0.36983155</td><td>1</td></tr>\n",
       "\t<tr><th scope=row>19</th><td>-0.27873720</td><td>0.10923447</td><td>-2.551733</td><td>0.014356144</td><td>CMV</td><td>LGALS7_LGALS7B</td><td>-0.27873720</td><td>1</td></tr>\n",
       "\t<tr><th scope=row>20</th><td> 0.63461726</td><td>0.25058987</td><td> 2.532494</td><td>0.015057433</td><td>CMV</td><td>TBC1D5        </td><td> 0.63461726</td><td>1</td></tr>\n",
       "\t<tr><th scope=row>21</th><td> 0.57494107</td><td>0.22760431</td><td> 2.526055</td><td>0.015299005</td><td>CMV</td><td>CEACAM3       </td><td> 0.57494107</td><td>1</td></tr>\n",
       "\t<tr><th scope=row>22</th><td>-0.33447083</td><td>0.13301207</td><td>-2.514590</td><td>0.015737943</td><td>CMV</td><td>ART3          </td><td>-0.33447083</td><td>1</td></tr>\n",
       "\t<tr><th scope=row>23</th><td> 0.47287530</td><td>0.18943350</td><td> 2.496260</td><td>0.016463554</td><td>CMV</td><td>LDLR          </td><td> 0.47287530</td><td>1</td></tr>\n",
       "\t<tr><th scope=row>24</th><td>-0.24176280</td><td>0.09733155</td><td>-2.483910</td><td>0.016969467</td><td>CMV</td><td>MCFD2         </td><td>-0.24176280</td><td>1</td></tr>\n",
       "\t<tr><th scope=row>25</th><td>-0.24534732</td><td>0.09936829</td><td>-2.469071</td><td>0.017595993</td><td>CMV</td><td>PRELP         </td><td>-0.24534732</td><td>1</td></tr>\n",
       "\t<tr><th scope=row>26</th><td> 0.46982024</td><td>0.19115672</td><td> 2.457775</td><td>0.018086884</td><td>CMV</td><td>TBCC          </td><td> 0.46982024</td><td>1</td></tr>\n",
       "\t<tr><th scope=row>27</th><td> 0.38040357</td><td>0.15687957</td><td> 2.424813</td><td>0.019591160</td><td>CMV</td><td>FCRL2         </td><td> 0.38040357</td><td>1</td></tr>\n",
       "\t<tr><th scope=row>28</th><td> 0.38003661</td><td>0.15704159</td><td> 2.419974</td><td>0.019821240</td><td>CMV</td><td>CD6           </td><td> 0.38003661</td><td>1</td></tr>\n",
       "\t<tr><th scope=row>29</th><td>-0.35412560</td><td>0.14691904</td><td>-2.410345</td><td>0.020286421</td><td>CMV</td><td>HSPB6         </td><td>-0.35412560</td><td>1</td></tr>\n",
       "\t<tr><th scope=row>30</th><td>-0.30402887</td><td>0.12646119</td><td>-2.404128</td><td>0.020591994</td><td>CMV</td><td>CD38          </td><td>-0.30402887</td><td>1</td></tr>\n",
       "\t<tr><th scope=row>31</th><td> 0.19781637</td><td>0.08230302</td><td> 2.403513</td><td>0.020622435</td><td>CMV</td><td>CD244         </td><td> 0.19781637</td><td>1</td></tr>\n",
       "\t<tr><th scope=row>32</th><td>-0.13275089</td><td>0.05543254</td><td>-2.394819</td><td>0.021057281</td><td>CMV</td><td>CD55          </td><td>-0.13275089</td><td>1</td></tr>\n",
       "\t<tr><th scope=row>33</th><td>-0.47080863</td><td>0.19719026</td><td>-2.387586</td><td>0.021425342</td><td>CMV</td><td>CTSB          </td><td>-0.47080863</td><td>1</td></tr>\n",
       "\t<tr><th scope=row>34</th><td> 0.65374881</td><td>0.27538088</td><td> 2.373980</td><td>0.022133384</td><td>CMV</td><td>MITD1         </td><td> 0.65374881</td><td>1</td></tr>\n",
       "\t<tr><th scope=row>35</th><td>-0.29910655</td><td>0.12609662</td><td>-2.372043</td><td>0.022235926</td><td>CMV</td><td>CLSTN2        </td><td>-0.29910655</td><td>1</td></tr>\n",
       "\t<tr><th scope=row>36</th><td> 0.09074911</td><td>0.03874036</td><td> 2.342495</td><td>0.023853313</td><td>CMV</td><td>NOTCH1        </td><td> 0.09074911</td><td>1</td></tr>\n",
       "\t<tr><th scope=row>37</th><td> 0.35540417</td><td>0.15321653</td><td> 2.319620</td><td>0.025177188</td><td>CMV</td><td>TNF           </td><td> 0.35540417</td><td>1</td></tr>\n",
       "\t<tr><th scope=row>38</th><td>-0.19008720</td><td>0.08199172</td><td>-2.318371</td><td>0.025251373</td><td>CMV</td><td>CD302         </td><td>-0.19008720</td><td>1</td></tr>\n",
       "\t<tr><th scope=row>39</th><td>-0.21999256</td><td>0.09540749</td><td>-2.305821</td><td>0.026007313</td><td>CMV</td><td>GDF15         </td><td>-0.21999256</td><td>1</td></tr>\n",
       "\t<tr><th scope=row>40</th><td>-0.34335119</td><td>0.14913230</td><td>-2.302326</td><td>0.026221366</td><td>CMV</td><td>ARTN          </td><td>-0.34335119</td><td>1</td></tr>\n",
       "\t<tr><th scope=row>41</th><td>-0.19525685</td><td>0.08516024</td><td>-2.292817</td><td>0.026811876</td><td>CMV</td><td>PLA2G15       </td><td>-0.19525685</td><td>1</td></tr>\n",
       "\t<tr><th scope=row>42</th><td> 0.41559524</td><td>0.18182911</td><td> 2.285636</td><td>0.027265616</td><td>CMV</td><td>JUN           </td><td> 0.41559524</td><td>1</td></tr>\n",
       "\t<tr><th scope=row>43</th><td> 0.55177113</td><td>0.24232124</td><td> 2.277023</td><td>0.027818914</td><td>CMV</td><td>MAP4K5        </td><td> 0.55177113</td><td>1</td></tr>\n",
       "\t<tr><th scope=row>44</th><td> 0.30543423</td><td>0.13425118</td><td> 2.275095</td><td>0.027944146</td><td>CMV</td><td>SERPINB9      </td><td> 0.30543423</td><td>1</td></tr>\n",
       "\t<tr><th scope=row>45</th><td>-0.24492589</td><td>0.10790833</td><td>-2.269759</td><td>0.028293347</td><td>CMV</td><td>CDH3          </td><td>-0.24492589</td><td>1</td></tr>\n",
       "\t<tr><th scope=row>46</th><td> 0.66313363</td><td>0.29296838</td><td> 2.263499</td><td>0.028707957</td><td>CMV</td><td>SKAP2         </td><td> 0.66313363</td><td>1</td></tr>\n",
       "\t<tr><th scope=row>47</th><td>-0.49094048</td><td>0.21757953</td><td>-2.256373</td><td>0.029186538</td><td>CMV</td><td>PRL           </td><td>-0.49094048</td><td>1</td></tr>\n",
       "\t<tr><th scope=row>48</th><td> 0.51049613</td><td>0.22686311</td><td> 2.250239</td><td>0.029604140</td><td>CMV</td><td>USP8          </td><td> 0.51049613</td><td>1</td></tr>\n",
       "\t<tr><th scope=row>49</th><td> 0.70239821</td><td>0.31256984</td><td> 2.247172</td><td>0.029814901</td><td>CMV</td><td>GZMH          </td><td> 0.70239821</td><td>1</td></tr>\n",
       "\t<tr><th scope=row>50</th><td> 0.62287946</td><td>0.27775341</td><td> 2.242563</td><td>0.030134203</td><td>CMV</td><td>ATP5IF1       </td><td> 0.62287946</td><td>1</td></tr>\n",
       "</tbody>\n",
       "</table>\n"
      ],
      "text/latex": [
       "A data.frame: 50 × 8\n",
       "\\begin{tabular}{r|llllllll}\n",
       "  & Estimate & Std. Error & t value & Pr(>\\textbar{}t\\textbar{}) & factor & Assay & diff & padj\\\\\n",
       "  & <dbl> & <dbl> & <dbl> & <dbl> & <chr> & <chr> & <dbl> & <dbl>\\\\\n",
       "\\hline\n",
       "\t1 &  0.23543244 & 0.06686381 &  3.521074 & 0.001031317 & CMV & AMIGO2         &  0.23543244 & 1\\\\\n",
       "\t2 &  0.74314702 & 0.22524444 &  3.299291 & 0.001952940 & CMV & FCRL6          &  0.74314702 & 1\\\\\n",
       "\t3 & -0.76610804 & 0.23257629 & -3.294007 & 0.001982413 & CMV & OBP2B          & -0.76610804 & 1\\\\\n",
       "\t4 &  0.16582500 & 0.05203496 &  3.186800 & 0.002679839 & CMV & ITGAV          &  0.16582500 & 1\\\\\n",
       "\t5 & -0.47922500 & 0.11242489 & -4.262624 & 0.003734484 & CMV & WISP2          & -0.47922500 & 1\\\\\n",
       "\t6 &  0.48419345 & 0.16147689 &  2.998531 & 0.004496167 & CMV & KLRD1          &  0.48419345 & 1\\\\\n",
       "\t7 &  0.44393958 & 0.15020978 &  2.955464 & 0.005049879 & CMV & GNLY           &  0.44393958 & 1\\\\\n",
       "\t8 & -0.44433720 & 0.15393909 & -2.886448 & 0.006071914 & CMV & KRT5           & -0.44433720 & 1\\\\\n",
       "\t9 & -0.51018571 & 0.17821131 & -2.862813 & 0.006464150 & CMV & ARSA           & -0.51018571 & 1\\\\\n",
       "\t10 &  0.33002827 & 0.11777864 &  2.802106 & 0.007582296 & CMV & PTEN           &  0.33002827 & 1\\\\\n",
       "\t11 &  0.37400000 & 0.13385873 &  2.793990 & 0.007744702 & CMV & CD163          &  0.37400000 & 1\\\\\n",
       "\t12 & -0.45696726 & 0.16625027 & -2.748671 & 0.008712407 & CMV & FUT3\\_FUT5      & -0.45696726 & 1\\\\\n",
       "\t13 & -0.49592798 & 0.18372602 & -2.699280 & 0.009893592 & CMV & CRHR1          & -0.49592798 & 1\\\\\n",
       "\t14 & -0.41269673 & 0.15590124 & -2.647168 & 0.011298600 & CMV & NOS1           & -0.41269673 & 1\\\\\n",
       "\t15 &  0.46904375 & 0.17858888 &  2.626388 & 0.011908296 & CMV & FCRL3          &  0.46904375 & 1\\\\\n",
       "\t16 &  0.26170375 & 0.09917183 &  2.638892 & 0.012460801 & CMV & ADGRE5         &  0.26170375 & 1\\\\\n",
       "\t17 &  0.37209732 & 0.14347280 &  2.593504 & 0.012935096 & CMV & CD22           &  0.37209732 & 1\\\\\n",
       "\t18 &  0.36983155 & 0.14354173 &  2.576474 & 0.013498150 & CMV & CEP164         &  0.36983155 & 1\\\\\n",
       "\t19 & -0.27873720 & 0.10923447 & -2.551733 & 0.014356144 & CMV & LGALS7\\_LGALS7B & -0.27873720 & 1\\\\\n",
       "\t20 &  0.63461726 & 0.25058987 &  2.532494 & 0.015057433 & CMV & TBC1D5         &  0.63461726 & 1\\\\\n",
       "\t21 &  0.57494107 & 0.22760431 &  2.526055 & 0.015299005 & CMV & CEACAM3        &  0.57494107 & 1\\\\\n",
       "\t22 & -0.33447083 & 0.13301207 & -2.514590 & 0.015737943 & CMV & ART3           & -0.33447083 & 1\\\\\n",
       "\t23 &  0.47287530 & 0.18943350 &  2.496260 & 0.016463554 & CMV & LDLR           &  0.47287530 & 1\\\\\n",
       "\t24 & -0.24176280 & 0.09733155 & -2.483910 & 0.016969467 & CMV & MCFD2          & -0.24176280 & 1\\\\\n",
       "\t25 & -0.24534732 & 0.09936829 & -2.469071 & 0.017595993 & CMV & PRELP          & -0.24534732 & 1\\\\\n",
       "\t26 &  0.46982024 & 0.19115672 &  2.457775 & 0.018086884 & CMV & TBCC           &  0.46982024 & 1\\\\\n",
       "\t27 &  0.38040357 & 0.15687957 &  2.424813 & 0.019591160 & CMV & FCRL2          &  0.38040357 & 1\\\\\n",
       "\t28 &  0.38003661 & 0.15704159 &  2.419974 & 0.019821240 & CMV & CD6            &  0.38003661 & 1\\\\\n",
       "\t29 & -0.35412560 & 0.14691904 & -2.410345 & 0.020286421 & CMV & HSPB6          & -0.35412560 & 1\\\\\n",
       "\t30 & -0.30402887 & 0.12646119 & -2.404128 & 0.020591994 & CMV & CD38           & -0.30402887 & 1\\\\\n",
       "\t31 &  0.19781637 & 0.08230302 &  2.403513 & 0.020622435 & CMV & CD244          &  0.19781637 & 1\\\\\n",
       "\t32 & -0.13275089 & 0.05543254 & -2.394819 & 0.021057281 & CMV & CD55           & -0.13275089 & 1\\\\\n",
       "\t33 & -0.47080863 & 0.19719026 & -2.387586 & 0.021425342 & CMV & CTSB           & -0.47080863 & 1\\\\\n",
       "\t34 &  0.65374881 & 0.27538088 &  2.373980 & 0.022133384 & CMV & MITD1          &  0.65374881 & 1\\\\\n",
       "\t35 & -0.29910655 & 0.12609662 & -2.372043 & 0.022235926 & CMV & CLSTN2         & -0.29910655 & 1\\\\\n",
       "\t36 &  0.09074911 & 0.03874036 &  2.342495 & 0.023853313 & CMV & NOTCH1         &  0.09074911 & 1\\\\\n",
       "\t37 &  0.35540417 & 0.15321653 &  2.319620 & 0.025177188 & CMV & TNF            &  0.35540417 & 1\\\\\n",
       "\t38 & -0.19008720 & 0.08199172 & -2.318371 & 0.025251373 & CMV & CD302          & -0.19008720 & 1\\\\\n",
       "\t39 & -0.21999256 & 0.09540749 & -2.305821 & 0.026007313 & CMV & GDF15          & -0.21999256 & 1\\\\\n",
       "\t40 & -0.34335119 & 0.14913230 & -2.302326 & 0.026221366 & CMV & ARTN           & -0.34335119 & 1\\\\\n",
       "\t41 & -0.19525685 & 0.08516024 & -2.292817 & 0.026811876 & CMV & PLA2G15        & -0.19525685 & 1\\\\\n",
       "\t42 &  0.41559524 & 0.18182911 &  2.285636 & 0.027265616 & CMV & JUN            &  0.41559524 & 1\\\\\n",
       "\t43 &  0.55177113 & 0.24232124 &  2.277023 & 0.027818914 & CMV & MAP4K5         &  0.55177113 & 1\\\\\n",
       "\t44 &  0.30543423 & 0.13425118 &  2.275095 & 0.027944146 & CMV & SERPINB9       &  0.30543423 & 1\\\\\n",
       "\t45 & -0.24492589 & 0.10790833 & -2.269759 & 0.028293347 & CMV & CDH3           & -0.24492589 & 1\\\\\n",
       "\t46 &  0.66313363 & 0.29296838 &  2.263499 & 0.028707957 & CMV & SKAP2          &  0.66313363 & 1\\\\\n",
       "\t47 & -0.49094048 & 0.21757953 & -2.256373 & 0.029186538 & CMV & PRL            & -0.49094048 & 1\\\\\n",
       "\t48 &  0.51049613 & 0.22686311 &  2.250239 & 0.029604140 & CMV & USP8           &  0.51049613 & 1\\\\\n",
       "\t49 &  0.70239821 & 0.31256984 &  2.247172 & 0.029814901 & CMV & GZMH           &  0.70239821 & 1\\\\\n",
       "\t50 &  0.62287946 & 0.27775341 &  2.242563 & 0.030134203 & CMV & ATP5IF1        &  0.62287946 & 1\\\\\n",
       "\\end{tabular}\n"
      ],
      "text/markdown": [
       "\n",
       "A data.frame: 50 × 8\n",
       "\n",
       "| <!--/--> | Estimate &lt;dbl&gt; | Std. Error &lt;dbl&gt; | t value &lt;dbl&gt; | Pr(&gt;|t|) &lt;dbl&gt; | factor &lt;chr&gt; | Assay &lt;chr&gt; | diff &lt;dbl&gt; | padj &lt;dbl&gt; |\n",
       "|---|---|---|---|---|---|---|---|---|\n",
       "| 1 |  0.23543244 | 0.06686381 |  3.521074 | 0.001031317 | CMV | AMIGO2         |  0.23543244 | 1 |\n",
       "| 2 |  0.74314702 | 0.22524444 |  3.299291 | 0.001952940 | CMV | FCRL6          |  0.74314702 | 1 |\n",
       "| 3 | -0.76610804 | 0.23257629 | -3.294007 | 0.001982413 | CMV | OBP2B          | -0.76610804 | 1 |\n",
       "| 4 |  0.16582500 | 0.05203496 |  3.186800 | 0.002679839 | CMV | ITGAV          |  0.16582500 | 1 |\n",
       "| 5 | -0.47922500 | 0.11242489 | -4.262624 | 0.003734484 | CMV | WISP2          | -0.47922500 | 1 |\n",
       "| 6 |  0.48419345 | 0.16147689 |  2.998531 | 0.004496167 | CMV | KLRD1          |  0.48419345 | 1 |\n",
       "| 7 |  0.44393958 | 0.15020978 |  2.955464 | 0.005049879 | CMV | GNLY           |  0.44393958 | 1 |\n",
       "| 8 | -0.44433720 | 0.15393909 | -2.886448 | 0.006071914 | CMV | KRT5           | -0.44433720 | 1 |\n",
       "| 9 | -0.51018571 | 0.17821131 | -2.862813 | 0.006464150 | CMV | ARSA           | -0.51018571 | 1 |\n",
       "| 10 |  0.33002827 | 0.11777864 |  2.802106 | 0.007582296 | CMV | PTEN           |  0.33002827 | 1 |\n",
       "| 11 |  0.37400000 | 0.13385873 |  2.793990 | 0.007744702 | CMV | CD163          |  0.37400000 | 1 |\n",
       "| 12 | -0.45696726 | 0.16625027 | -2.748671 | 0.008712407 | CMV | FUT3_FUT5      | -0.45696726 | 1 |\n",
       "| 13 | -0.49592798 | 0.18372602 | -2.699280 | 0.009893592 | CMV | CRHR1          | -0.49592798 | 1 |\n",
       "| 14 | -0.41269673 | 0.15590124 | -2.647168 | 0.011298600 | CMV | NOS1           | -0.41269673 | 1 |\n",
       "| 15 |  0.46904375 | 0.17858888 |  2.626388 | 0.011908296 | CMV | FCRL3          |  0.46904375 | 1 |\n",
       "| 16 |  0.26170375 | 0.09917183 |  2.638892 | 0.012460801 | CMV | ADGRE5         |  0.26170375 | 1 |\n",
       "| 17 |  0.37209732 | 0.14347280 |  2.593504 | 0.012935096 | CMV | CD22           |  0.37209732 | 1 |\n",
       "| 18 |  0.36983155 | 0.14354173 |  2.576474 | 0.013498150 | CMV | CEP164         |  0.36983155 | 1 |\n",
       "| 19 | -0.27873720 | 0.10923447 | -2.551733 | 0.014356144 | CMV | LGALS7_LGALS7B | -0.27873720 | 1 |\n",
       "| 20 |  0.63461726 | 0.25058987 |  2.532494 | 0.015057433 | CMV | TBC1D5         |  0.63461726 | 1 |\n",
       "| 21 |  0.57494107 | 0.22760431 |  2.526055 | 0.015299005 | CMV | CEACAM3        |  0.57494107 | 1 |\n",
       "| 22 | -0.33447083 | 0.13301207 | -2.514590 | 0.015737943 | CMV | ART3           | -0.33447083 | 1 |\n",
       "| 23 |  0.47287530 | 0.18943350 |  2.496260 | 0.016463554 | CMV | LDLR           |  0.47287530 | 1 |\n",
       "| 24 | -0.24176280 | 0.09733155 | -2.483910 | 0.016969467 | CMV | MCFD2          | -0.24176280 | 1 |\n",
       "| 25 | -0.24534732 | 0.09936829 | -2.469071 | 0.017595993 | CMV | PRELP          | -0.24534732 | 1 |\n",
       "| 26 |  0.46982024 | 0.19115672 |  2.457775 | 0.018086884 | CMV | TBCC           |  0.46982024 | 1 |\n",
       "| 27 |  0.38040357 | 0.15687957 |  2.424813 | 0.019591160 | CMV | FCRL2          |  0.38040357 | 1 |\n",
       "| 28 |  0.38003661 | 0.15704159 |  2.419974 | 0.019821240 | CMV | CD6            |  0.38003661 | 1 |\n",
       "| 29 | -0.35412560 | 0.14691904 | -2.410345 | 0.020286421 | CMV | HSPB6          | -0.35412560 | 1 |\n",
       "| 30 | -0.30402887 | 0.12646119 | -2.404128 | 0.020591994 | CMV | CD38           | -0.30402887 | 1 |\n",
       "| 31 |  0.19781637 | 0.08230302 |  2.403513 | 0.020622435 | CMV | CD244          |  0.19781637 | 1 |\n",
       "| 32 | -0.13275089 | 0.05543254 | -2.394819 | 0.021057281 | CMV | CD55           | -0.13275089 | 1 |\n",
       "| 33 | -0.47080863 | 0.19719026 | -2.387586 | 0.021425342 | CMV | CTSB           | -0.47080863 | 1 |\n",
       "| 34 |  0.65374881 | 0.27538088 |  2.373980 | 0.022133384 | CMV | MITD1          |  0.65374881 | 1 |\n",
       "| 35 | -0.29910655 | 0.12609662 | -2.372043 | 0.022235926 | CMV | CLSTN2         | -0.29910655 | 1 |\n",
       "| 36 |  0.09074911 | 0.03874036 |  2.342495 | 0.023853313 | CMV | NOTCH1         |  0.09074911 | 1 |\n",
       "| 37 |  0.35540417 | 0.15321653 |  2.319620 | 0.025177188 | CMV | TNF            |  0.35540417 | 1 |\n",
       "| 38 | -0.19008720 | 0.08199172 | -2.318371 | 0.025251373 | CMV | CD302          | -0.19008720 | 1 |\n",
       "| 39 | -0.21999256 | 0.09540749 | -2.305821 | 0.026007313 | CMV | GDF15          | -0.21999256 | 1 |\n",
       "| 40 | -0.34335119 | 0.14913230 | -2.302326 | 0.026221366 | CMV | ARTN           | -0.34335119 | 1 |\n",
       "| 41 | -0.19525685 | 0.08516024 | -2.292817 | 0.026811876 | CMV | PLA2G15        | -0.19525685 | 1 |\n",
       "| 42 |  0.41559524 | 0.18182911 |  2.285636 | 0.027265616 | CMV | JUN            |  0.41559524 | 1 |\n",
       "| 43 |  0.55177113 | 0.24232124 |  2.277023 | 0.027818914 | CMV | MAP4K5         |  0.55177113 | 1 |\n",
       "| 44 |  0.30543423 | 0.13425118 |  2.275095 | 0.027944146 | CMV | SERPINB9       |  0.30543423 | 1 |\n",
       "| 45 | -0.24492589 | 0.10790833 | -2.269759 | 0.028293347 | CMV | CDH3           | -0.24492589 | 1 |\n",
       "| 46 |  0.66313363 | 0.29296838 |  2.263499 | 0.028707957 | CMV | SKAP2          |  0.66313363 | 1 |\n",
       "| 47 | -0.49094048 | 0.21757953 | -2.256373 | 0.029186538 | CMV | PRL            | -0.49094048 | 1 |\n",
       "| 48 |  0.51049613 | 0.22686311 |  2.250239 | 0.029604140 | CMV | USP8           |  0.51049613 | 1 |\n",
       "| 49 |  0.70239821 | 0.31256984 |  2.247172 | 0.029814901 | CMV | GZMH           |  0.70239821 | 1 |\n",
       "| 50 |  0.62287946 | 0.27775341 |  2.242563 | 0.030134203 | CMV | ATP5IF1        |  0.62287946 | 1 |\n",
       "\n"
      ],
      "text/plain": [
       "   Estimate    Std. Error t value   Pr(>|t|)    factor Assay         \n",
       "1   0.23543244 0.06686381  3.521074 0.001031317 CMV    AMIGO2        \n",
       "2   0.74314702 0.22524444  3.299291 0.001952940 CMV    FCRL6         \n",
       "3  -0.76610804 0.23257629 -3.294007 0.001982413 CMV    OBP2B         \n",
       "4   0.16582500 0.05203496  3.186800 0.002679839 CMV    ITGAV         \n",
       "5  -0.47922500 0.11242489 -4.262624 0.003734484 CMV    WISP2         \n",
       "6   0.48419345 0.16147689  2.998531 0.004496167 CMV    KLRD1         \n",
       "7   0.44393958 0.15020978  2.955464 0.005049879 CMV    GNLY          \n",
       "8  -0.44433720 0.15393909 -2.886448 0.006071914 CMV    KRT5          \n",
       "9  -0.51018571 0.17821131 -2.862813 0.006464150 CMV    ARSA          \n",
       "10  0.33002827 0.11777864  2.802106 0.007582296 CMV    PTEN          \n",
       "11  0.37400000 0.13385873  2.793990 0.007744702 CMV    CD163         \n",
       "12 -0.45696726 0.16625027 -2.748671 0.008712407 CMV    FUT3_FUT5     \n",
       "13 -0.49592798 0.18372602 -2.699280 0.009893592 CMV    CRHR1         \n",
       "14 -0.41269673 0.15590124 -2.647168 0.011298600 CMV    NOS1          \n",
       "15  0.46904375 0.17858888  2.626388 0.011908296 CMV    FCRL3         \n",
       "16  0.26170375 0.09917183  2.638892 0.012460801 CMV    ADGRE5        \n",
       "17  0.37209732 0.14347280  2.593504 0.012935096 CMV    CD22          \n",
       "18  0.36983155 0.14354173  2.576474 0.013498150 CMV    CEP164        \n",
       "19 -0.27873720 0.10923447 -2.551733 0.014356144 CMV    LGALS7_LGALS7B\n",
       "20  0.63461726 0.25058987  2.532494 0.015057433 CMV    TBC1D5        \n",
       "21  0.57494107 0.22760431  2.526055 0.015299005 CMV    CEACAM3       \n",
       "22 -0.33447083 0.13301207 -2.514590 0.015737943 CMV    ART3          \n",
       "23  0.47287530 0.18943350  2.496260 0.016463554 CMV    LDLR          \n",
       "24 -0.24176280 0.09733155 -2.483910 0.016969467 CMV    MCFD2         \n",
       "25 -0.24534732 0.09936829 -2.469071 0.017595993 CMV    PRELP         \n",
       "26  0.46982024 0.19115672  2.457775 0.018086884 CMV    TBCC          \n",
       "27  0.38040357 0.15687957  2.424813 0.019591160 CMV    FCRL2         \n",
       "28  0.38003661 0.15704159  2.419974 0.019821240 CMV    CD6           \n",
       "29 -0.35412560 0.14691904 -2.410345 0.020286421 CMV    HSPB6         \n",
       "30 -0.30402887 0.12646119 -2.404128 0.020591994 CMV    CD38          \n",
       "31  0.19781637 0.08230302  2.403513 0.020622435 CMV    CD244         \n",
       "32 -0.13275089 0.05543254 -2.394819 0.021057281 CMV    CD55          \n",
       "33 -0.47080863 0.19719026 -2.387586 0.021425342 CMV    CTSB          \n",
       "34  0.65374881 0.27538088  2.373980 0.022133384 CMV    MITD1         \n",
       "35 -0.29910655 0.12609662 -2.372043 0.022235926 CMV    CLSTN2        \n",
       "36  0.09074911 0.03874036  2.342495 0.023853313 CMV    NOTCH1        \n",
       "37  0.35540417 0.15321653  2.319620 0.025177188 CMV    TNF           \n",
       "38 -0.19008720 0.08199172 -2.318371 0.025251373 CMV    CD302         \n",
       "39 -0.21999256 0.09540749 -2.305821 0.026007313 CMV    GDF15         \n",
       "40 -0.34335119 0.14913230 -2.302326 0.026221366 CMV    ARTN          \n",
       "41 -0.19525685 0.08516024 -2.292817 0.026811876 CMV    PLA2G15       \n",
       "42  0.41559524 0.18182911  2.285636 0.027265616 CMV    JUN           \n",
       "43  0.55177113 0.24232124  2.277023 0.027818914 CMV    MAP4K5        \n",
       "44  0.30543423 0.13425118  2.275095 0.027944146 CMV    SERPINB9      \n",
       "45 -0.24492589 0.10790833 -2.269759 0.028293347 CMV    CDH3          \n",
       "46  0.66313363 0.29296838  2.263499 0.028707957 CMV    SKAP2         \n",
       "47 -0.49094048 0.21757953 -2.256373 0.029186538 CMV    PRL           \n",
       "48  0.51049613 0.22686311  2.250239 0.029604140 CMV    USP8          \n",
       "49  0.70239821 0.31256984  2.247172 0.029814901 CMV    GZMH          \n",
       "50  0.62287946 0.27775341  2.242563 0.030134203 CMV    ATP5IF1       \n",
       "   diff        padj\n",
       "1   0.23543244 1   \n",
       "2   0.74314702 1   \n",
       "3  -0.76610804 1   \n",
       "4   0.16582500 1   \n",
       "5  -0.47922500 1   \n",
       "6   0.48419345 1   \n",
       "7   0.44393958 1   \n",
       "8  -0.44433720 1   \n",
       "9  -0.51018571 1   \n",
       "10  0.33002827 1   \n",
       "11  0.37400000 1   \n",
       "12 -0.45696726 1   \n",
       "13 -0.49592798 1   \n",
       "14 -0.41269673 1   \n",
       "15  0.46904375 1   \n",
       "16  0.26170375 1   \n",
       "17  0.37209732 1   \n",
       "18  0.36983155 1   \n",
       "19 -0.27873720 1   \n",
       "20  0.63461726 1   \n",
       "21  0.57494107 1   \n",
       "22 -0.33447083 1   \n",
       "23  0.47287530 1   \n",
       "24 -0.24176280 1   \n",
       "25 -0.24534732 1   \n",
       "26  0.46982024 1   \n",
       "27  0.38040357 1   \n",
       "28  0.38003661 1   \n",
       "29 -0.35412560 1   \n",
       "30 -0.30402887 1   \n",
       "31  0.19781637 1   \n",
       "32 -0.13275089 1   \n",
       "33 -0.47080863 1   \n",
       "34  0.65374881 1   \n",
       "35 -0.29910655 1   \n",
       "36  0.09074911 1   \n",
       "37  0.35540417 1   \n",
       "38 -0.19008720 1   \n",
       "39 -0.21999256 1   \n",
       "40 -0.34335119 1   \n",
       "41 -0.19525685 1   \n",
       "42  0.41559524 1   \n",
       "43  0.55177113 1   \n",
       "44  0.30543423 1   \n",
       "45 -0.24492589 1   \n",
       "46  0.66313363 1   \n",
       "47 -0.49094048 1   \n",
       "48  0.51049613 1   \n",
       "49  0.70239821 1   \n",
       "50  0.62287946 1   "
      ]
     },
     "metadata": {},
     "output_type": "display_data"
    }
   ],
   "source": [
    "res_all_BR2 %>% arrange(`Pr(>|t|)`) %>% head(50)"
   ]
  },
  {
   "cell_type": "code",
   "execution_count": null,
   "id": "214719ee-8967-4026-b21a-5bdccf513e86",
   "metadata": {},
   "outputs": [],
   "source": [
    "res_all_BR2"
   ]
  }
 ],
 "metadata": {
  "kernelspec": {
   "display_name": "R 4",
   "language": "R",
   "name": "ir4"
  },
  "language_info": {
   "codemirror_mode": "r",
   "file_extension": ".r",
   "mimetype": "text/x-r-source",
   "name": "R",
   "pygments_lexer": "r",
   "version": "4.3.1"
  }
 },
 "nbformat": 4,
 "nbformat_minor": 5
}
