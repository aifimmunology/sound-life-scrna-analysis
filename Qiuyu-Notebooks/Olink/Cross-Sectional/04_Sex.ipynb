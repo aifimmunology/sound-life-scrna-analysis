{
 "cells": [
  {
   "cell_type": "code",
   "execution_count": 1,
   "id": "71c16813-e6dc-466e-8117-5e3074c31b27",
   "metadata": {
    "tags": []
   },
   "outputs": [
    {
     "name": "stderr",
     "output_type": "stream",
     "text": [
      "Loading required package: ggplot2\n",
      "\n",
      "── \u001b[1mAttaching core tidyverse packages\u001b[22m ──────────────────────── tidyverse 2.0.0 ──\n",
      "\u001b[32m✔\u001b[39m \u001b[34mdplyr    \u001b[39m 1.1.4     \u001b[32m✔\u001b[39m \u001b[34mreadr    \u001b[39m 2.1.5\n",
      "\u001b[32m✔\u001b[39m \u001b[34mforcats  \u001b[39m 1.0.0     \u001b[32m✔\u001b[39m \u001b[34mstringr  \u001b[39m 1.5.1\n",
      "\u001b[32m✔\u001b[39m \u001b[34mlubridate\u001b[39m 1.9.2     \u001b[32m✔\u001b[39m \u001b[34mtibble   \u001b[39m 3.2.1\n",
      "\u001b[32m✔\u001b[39m \u001b[34mpurrr    \u001b[39m 1.0.2     \u001b[32m✔\u001b[39m \u001b[34mtidyr    \u001b[39m 1.3.1\n",
      "── \u001b[1mConflicts\u001b[22m ────────────────────────────────────────── tidyverse_conflicts() ──\n",
      "\u001b[31m✖\u001b[39m \u001b[34mdplyr\u001b[39m::\u001b[32mfilter()\u001b[39m masks \u001b[34mstats\u001b[39m::filter()\n",
      "\u001b[31m✖\u001b[39m \u001b[34mdplyr\u001b[39m::\u001b[32mlag()\u001b[39m    masks \u001b[34mstats\u001b[39m::lag()\n",
      "\u001b[36mℹ\u001b[39m Use the conflicted package (\u001b[3m\u001b[34m<http://conflicted.r-lib.org/>\u001b[39m\u001b[23m) to force all conflicts to become errors\n",
      "Loading required package: lme4\n",
      "\n",
      "Loading required package: Matrix\n",
      "\n",
      "\n",
      "Attaching package: ‘Matrix’\n",
      "\n",
      "\n",
      "The following objects are masked from ‘package:tidyr’:\n",
      "\n",
      "    expand, pack, unpack\n",
      "\n",
      "\n",
      "\n",
      "Attaching package: ‘lmerTest’\n",
      "\n",
      "\n",
      "The following object is masked from ‘package:lme4’:\n",
      "\n",
      "    lmer\n",
      "\n",
      "\n",
      "The following object is masked from ‘package:stats’:\n",
      "\n",
      "    step\n",
      "\n",
      "\n",
      "Loading required package: viridisLite\n",
      "\n"
     ]
    }
   ],
   "source": [
    "library(\"ggpubr\")\n",
    "library(\"see\")\n",
    "library(\"tidyverse\")\n",
    "library(parallel)\n",
    "library(lmerTest)\n",
    "library(lme4)\n",
    "suppressPackageStartupMessages(library(performance))\n",
    "suppressPackageStartupMessages(library(dplyr))\n",
    "suppressPackageStartupMessages(library(tidyr))\n",
    "suppressPackageStartupMessages(library(tibble))\n",
    "suppressPackageStartupMessages(library(ggplot2))\n",
    "suppressPackageStartupMessages(library(pheatmap))\n",
    "suppressPackageStartupMessages(library(patchwork))\n",
    "suppressPackageStartupMessages(library(plyr))\n",
    "suppressPackageStartupMessages(library(ggrepel))\n",
    "library(RColorBrewer)\n",
    "library(viridis)"
   ]
  },
  {
   "cell_type": "code",
   "execution_count": 2,
   "id": "70d2b914-09c4-49e4-9092-060c1bf57a2a",
   "metadata": {
    "tags": []
   },
   "outputs": [],
   "source": [
    "Olnik<-read.csv('Olink.csv')"
   ]
  },
  {
   "cell_type": "code",
   "execution_count": 3,
   "id": "ed5172c4-c654-487a-a3a7-5891b40112a7",
   "metadata": {
    "tags": []
   },
   "outputs": [],
   "source": [
    "meta<-read.csv('/home/jupyter/BRI_Analysis/scRNA/hise_meta_data_2024-01-23_fixed.csv')\n",
    "meta<-meta %>% filter(sample.visitName=='Flu Year 1 Day 0')"
   ]
  },
  {
   "cell_type": "code",
   "execution_count": 4,
   "id": "b73fc618-d71c-4b8d-9c99-fe1ee4bc7b3a",
   "metadata": {
    "tags": []
   },
   "outputs": [],
   "source": [
    "rownames(meta)<-meta$sample.sampleKitGuid"
   ]
  },
  {
   "cell_type": "code",
   "execution_count": 5,
   "id": "2f9298eb-36ab-463b-9442-33919d45e112",
   "metadata": {
    "tags": []
   },
   "outputs": [
    {
     "data": {
      "text/html": [
       "92"
      ],
      "text/latex": [
       "92"
      ],
      "text/markdown": [
       "92"
      ],
      "text/plain": [
       "[1] 92"
      ]
     },
     "metadata": {},
     "output_type": "display_data"
    }
   ],
   "source": [
    "n_distinct(meta$sample.sampleKitGuid)\n"
   ]
  },
  {
   "cell_type": "code",
   "execution_count": 6,
   "id": "a97d0e62-458e-42df-a0fa-a86a3bbb19d7",
   "metadata": {
    "tags": []
   },
   "outputs": [],
   "source": [
    "Olnik<-Olnik %>% filter(sample.sampleKitGuid %in% unique(meta$sample.sampleKitGuid))"
   ]
  },
  {
   "cell_type": "code",
   "execution_count": 7,
   "id": "7d6d5970-1b00-4fa7-953a-6ee7b95fca18",
   "metadata": {
    "tags": []
   },
   "outputs": [],
   "source": [
    "Olnik<-left_join(Olnik,meta, by = c(\"sample.sampleKitGuid\"))"
   ]
  },
  {
   "cell_type": "code",
   "execution_count": 26,
   "id": "4ed5bc62-cc08-40d8-82ea-a464c6a539ed",
   "metadata": {
    "tags": []
   },
   "outputs": [],
   "source": [
    "res_list<-mclapply(unique(Olnik$Assay),function(x){\n",
    "Olnik_sub<-Olnik  %>% filter(sample.visitName=='Flu Year 1 Day 0',Assay==x)\n",
    "res<-lm(NPX_bridged ~ cohort.cohortGuid+CMV.IgG.Serology.Result.Interpretation+subject.biologicalSex, data=Olnik_sub)\n",
    "res<-as.data.frame(summary(res)$coefficients)[2:4,]\n",
    "res$factor<-c('Age','CMV','Sex')  \n",
    "res$Assay<-x\n",
    "res$Log2FC_Sex<-Olnik_sub %>%\n",
    "  dplyr::group_by(Assay, subject.biologicalSex) %>%\n",
    "  dplyr::summarise(Mean_Expression = mean(NPX_bridged, na.rm = TRUE)) %>%\n",
    "  spread(subject.biologicalSex, Mean_Expression) %>%\n",
    "  mutate(Log2FC = log2(Male / Female))%>% ungroup() %>% select(Log2FC) %>% pull()\n",
    "res$diff<-Olnik_sub %>%\n",
    "  dplyr::group_by(Assay, subject.biologicalSex) %>%\n",
    "  dplyr::summarise(Mean_Expression = mean(NPX_bridged, na.rm = TRUE)) %>%\n",
    "  spread(subject.biologicalSex, Mean_Expression) %>%\n",
    "  mutate(diff = Male- Female)%>% select(diff) %>% pull()    \n",
    "return(res)\n",
    "},mc.cores=60)"
   ]
  },
  {
   "cell_type": "code",
   "execution_count": 27,
   "id": "97d93883-3207-42d7-88ee-d23dee22be6d",
   "metadata": {
    "tags": []
   },
   "outputs": [],
   "source": [
    "res_all<-do.call(rbind,res_list )"
   ]
  },
  {
   "cell_type": "code",
   "execution_count": 29,
   "id": "b38a9e5e-1419-4c05-8d62-973125ab3d1e",
   "metadata": {
    "tags": []
   },
   "outputs": [],
   "source": [
    "res_all_sex<-res_all %>% filter(factor=='Sex')\n"
   ]
  },
  {
   "cell_type": "code",
   "execution_count": 30,
   "id": "c06aa5f0-2b94-4ecd-acb4-82305c5ad328",
   "metadata": {
    "tags": []
   },
   "outputs": [],
   "source": [
    "res_all_sex$padj<-p.adjust(res_all_sex$`Pr(>|t|)`)\n"
   ]
  },
  {
   "cell_type": "code",
   "execution_count": 37,
   "id": "edca7771-dc56-4f4d-883f-112850574fcd",
   "metadata": {
    "tags": []
   },
   "outputs": [],
   "source": [
    "data <- res_all_sex%>% mutate(Expression = case_when(diff >=0.1 & padj <= 0.05 ~ \"Up-regulated-Male\",\n",
    "                                                     diff <= -0.1 & padj <= 0.05 ~ \"Down-regulated-Male\",\n",
    "                                                     TRUE ~ \"Unchanged\"))"
   ]
  },
  {
   "cell_type": "code",
   "execution_count": 38,
   "id": "c9e5d072-b980-4590-a619-ff851454b02b",
   "metadata": {
    "tags": []
   },
   "outputs": [],
   "source": [
    "top <- 30\n",
    "top_genes <- bind_rows(\n",
    "  data %>% \n",
    "    filter(Expression == 'Up-regulated-Male') %>% \n",
    "    arrange(padj, desc(abs(diff))) %>% \n",
    "    head(top),\n",
    "  data %>% \n",
    "    filter(Expression == 'Down-regulated-Male') %>% \n",
    "    arrange(padj, desc(abs(diff))) %>% \n",
    "    head(top))"
   ]
  },
  {
   "cell_type": "code",
   "execution_count": 39,
   "id": "781646b2-a167-4267-b52b-251234566ea1",
   "metadata": {
    "tags": []
   },
   "outputs": [
    {
     "data": {
      "image/png": "[encoded data removed]",
      "text/plain": [
       "plot without title"
      ]
     },
     "metadata": {
      "image/png": {
       "height": 360,
       "width": 600
      }
     },
     "output_type": "display_data"
    }
   ],
   "source": [
    "options(repr.plot.width = 10, repr.plot.height = 6)\n",
    "\n",
    "ggplot(data, aes(diff, -log(padj,10))) +\n",
    "  geom_point(aes(color = Expression), size = 1) +\n",
    "  xlab(expression(\"Baseline Difference\")) + \n",
    "  ylab(expression(\"-log\"[10]*\"FDR\")) +\n",
    "  scale_color_manual(values = c(\"Down-regulated-Male\"=\"dodgerblue3\", \"Unchanged\"=\"gray50\", \"Up-regulated-Male\"=\"firebrick3\")) +\n",
    "  guides(colour = guide_legend(override.aes = list(size=1.5))) +\n",
    "  geom_text_repel(data = top_genes,box.padding = 0.5,force= 0.5,max.overlaps=50,\n",
    "    nudge_x           = 0.15,\n",
    "    hjust             = 0.1,\n",
    "    segment.size      = 0.1,\n",
    "                   mapping = aes(diff, -log(padj,10), label = Assay),\n",
    "                   size = 4)+theme_classic()\n"
   ]
  },
  {
   "cell_type": "code",
   "execution_count": 40,
   "id": "6a23d437-fe1b-473b-8a1e-ed2a12319ba5",
   "metadata": {
    "tags": []
   },
   "outputs": [],
   "source": [
    "write.csv(data %>% arrange(padj),'Olink_Sex.csv')"
   ]
  },
  {
   "cell_type": "code",
   "execution_count": 41,
   "id": "cd136d80-f5d0-4d81-9064-c935f84a44bb",
   "metadata": {
    "tags": []
   },
   "outputs": [
    {
     "data": {
      "text/html": [
       "<table class=\"dataframe\">\n",
       "<caption>A data.frame: 1472 × 10</caption>\n",
       "<thead>\n",
       "\t<tr><th></th><th scope=col>Estimate</th><th scope=col>Std. Error</th><th scope=col>t value</th><th scope=col>Pr(&gt;|t|)</th><th scope=col>factor</th><th scope=col>Assay</th><th scope=col>Log2FC_Sex</th><th scope=col>diff</th><th scope=col>padj</th><th scope=col>Expression</th></tr>\n",
       "\t<tr><th></th><th scope=col>&lt;dbl&gt;</th><th scope=col>&lt;dbl&gt;</th><th scope=col>&lt;dbl&gt;</th><th scope=col>&lt;dbl&gt;</th><th scope=col>&lt;chr&gt;</th><th scope=col>&lt;chr&gt;</th><th scope=col>&lt;dbl&gt;</th><th scope=col>&lt;dbl&gt;</th><th scope=col>&lt;dbl&gt;</th><th scope=col>&lt;chr&gt;</th></tr>\n",
       "</thead>\n",
       "<tbody>\n",
       "\t<tr><th scope=row>subject.biologicalSexMale</th><td> 0.131465349</td><td>0.21955900</td><td> 0.59877004</td><td>5.508645e-01</td><td>Sex</td><td>GYS1    </td><td> 0.064440281</td><td> 0.125096844</td><td>1.000000e+00</td><td>Unchanged        </td></tr>\n",
       "\t<tr><th scope=row>subject.biologicalSexMale1</th><td> 0.061633284</td><td>0.06475192</td><td> 0.95183720</td><td>3.437866e-01</td><td>Sex</td><td>THPO    </td><td> 0.105844348</td><td> 0.056752319</td><td>1.000000e+00</td><td>Unchanged        </td></tr>\n",
       "\t<tr><th scope=row>subject.biologicalSexMale2</th><td> 0.152835269</td><td>0.07486188</td><td> 2.04156344</td><td>4.418957e-02</td><td>Sex</td><td>CLEC1A  </td><td> 0.261467541</td><td> 0.154977953</td><td>1.000000e+00</td><td>Unchanged        </td></tr>\n",
       "\t<tr><th scope=row>subject.biologicalSexMale3</th><td> 0.024948087</td><td>0.05247398</td><td> 0.47543733</td><td>6.356533e-01</td><td>Sex</td><td>ENTPD6  </td><td> 0.060461908</td><td> 0.023976997</td><td>1.000000e+00</td><td>Unchanged        </td></tr>\n",
       "\t<tr><th scope=row>subject.biologicalSexMale4</th><td> 0.064264842</td><td>0.13167614</td><td> 0.48805229</td><td>6.267267e-01</td><td>Sex</td><td>CEACAM8 </td><td> 0.238080927</td><td> 0.060966619</td><td>1.000000e+00</td><td>Unchanged        </td></tr>\n",
       "\t<tr><th scope=row>subject.biologicalSexMale5</th><td> 0.288529046</td><td>0.10524570</td><td> 2.74148062</td><td>7.407616e-03</td><td>Sex</td><td>S100P   </td><td> 1.452606037</td><td> 0.282606361</td><td>1.000000e+00</td><td>Unchanged        </td></tr>\n",
       "\t<tr><th scope=row>subject.biologicalSexMale6</th><td>-0.036659022</td><td>0.07337305</td><td>-0.49962513</td><td>6.185860e-01</td><td>Sex</td><td>ENTPD5  </td><td>-0.123270298</td><td>-0.038986848</td><td>1.000000e+00</td><td>Unchanged        </td></tr>\n",
       "\t<tr><th scope=row>subject.biologicalSexMale7</th><td> 0.496646005</td><td>0.08272930</td><td> 6.00326599</td><td>4.230687e-08</td><td>Sex</td><td>ACE2    </td><td>         NaN</td><td> 0.488970756</td><td>6.176803e-05</td><td>Up-regulated-Male</td></tr>\n",
       "\t<tr><th scope=row>subject.biologicalSexMale8</th><td> 0.185976901</td><td>0.06230482</td><td> 2.98495210</td><td>3.671599e-03</td><td>Sex</td><td>DCN     </td><td>         NaN</td><td> 0.189203754</td><td>1.000000e+00</td><td>Unchanged        </td></tr>\n",
       "\t<tr><th scope=row>subject.biologicalSexMale9</th><td> 0.101184846</td><td>0.14476125</td><td> 0.69897742</td><td>4.864094e-01</td><td>Sex</td><td>GLO1    </td><td>-0.273723646</td><td> 0.098584648</td><td>1.000000e+00</td><td>Unchanged        </td></tr>\n",
       "\t<tr><th scope=row>subject.biologicalSexMale10</th><td> 0.149452460</td><td>0.14917334</td><td> 1.00187109</td><td>3.191528e-01</td><td>Sex</td><td>USP8    </td><td>-0.141590862</td><td> 0.126106624</td><td>1.000000e+00</td><td>Unchanged        </td></tr>\n",
       "\t<tr><th scope=row>subject.biologicalSexMale11</th><td> 0.005647139</td><td>0.06848067</td><td> 0.08246325</td><td>9.344656e-01</td><td>Sex</td><td>BMP6    </td><td> 0.031672354</td><td> 0.009543998</td><td>1.000000e+00</td><td>Unchanged        </td></tr>\n",
       "\t<tr><th scope=row>subject.biologicalSexMale12</th><td> 0.043710723</td><td>0.22307185</td><td> 0.19594908</td><td>8.451018e-01</td><td>Sex</td><td>ITGB1BP2</td><td> 0.024908921</td><td> 0.036187566</td><td>1.000000e+00</td><td>Unchanged        </td></tr>\n",
       "\t<tr><th scope=row>subject.biologicalSexMale13</th><td> 0.600931283</td><td>0.17214394</td><td> 3.49086514</td><td>7.548753e-04</td><td>Sex</td><td>CTSH    </td><td>         NaN</td><td> 0.607110354</td><td>1.000000e+00</td><td>Unchanged        </td></tr>\n",
       "\t<tr><th scope=row>subject.biologicalSexMale14</th><td> 0.015690022</td><td>0.06391809</td><td> 0.24547076</td><td>8.066635e-01</td><td>Sex</td><td>BAG6    </td><td> 0.030587330</td><td> 0.015025538</td><td>1.000000e+00</td><td>Unchanged        </td></tr>\n",
       "\t<tr><th scope=row>subject.biologicalSexMale15</th><td> 0.821421280</td><td>0.12952350</td><td> 6.34187078</td><td>9.495405e-09</td><td>Sex</td><td>MSTN    </td><td> 2.111057375</td><td> 0.824473027</td><td>1.389178e-05</td><td>Up-regulated-Male</td></tr>\n",
       "\t<tr><th scope=row>subject.biologicalSexMale16</th><td> 0.263337809</td><td>0.06904211</td><td> 3.81416226</td><td>2.532337e-04</td><td>Sex</td><td>BOC     </td><td> 1.049934136</td><td> 0.268360234</td><td>3.621242e-01</td><td>Unchanged        </td></tr>\n",
       "\t<tr><th scope=row>subject.biologicalSexMale17</th><td> 0.606378323</td><td>0.22694122</td><td> 2.67196198</td><td>8.984504e-03</td><td>Sex</td><td>ADH4    </td><td>-1.790093149</td><td> 0.617285270</td><td>1.000000e+00</td><td>Unchanged        </td></tr>\n",
       "\t<tr><th scope=row>subject.biologicalSexMale18</th><td> 0.040223251</td><td>0.06556334</td><td> 0.61350220</td><td>5.411269e-01</td><td>Sex</td><td>CLTA    </td><td> 0.161856835</td><td> 0.043522071</td><td>1.000000e+00</td><td>Unchanged        </td></tr>\n",
       "\t<tr><th scope=row>subject.biologicalSexMale19</th><td> 0.201413047</td><td>0.11988346</td><td> 1.68007375</td><td>9.648981e-02</td><td>Sex</td><td>EPHX2   </td><td>         NaN</td><td> 0.205000048</td><td>1.000000e+00</td><td>Unchanged        </td></tr>\n",
       "\t<tr><th scope=row>subject.biologicalSexMale20</th><td> 0.061181662</td><td>0.06818835</td><td> 0.89724506</td><td>3.720363e-01</td><td>Sex</td><td>TP53INP1</td><td> 0.279817268</td><td> 0.054676590</td><td>1.000000e+00</td><td>Unchanged        </td></tr>\n",
       "\t<tr><th scope=row>subject.biologicalSexMale21</th><td> 0.084919894</td><td>0.07475003</td><td> 1.13605169</td><td>2.590194e-01</td><td>Sex</td><td>ZBTB17  </td><td> 0.424019657</td><td> 0.086261573</td><td>1.000000e+00</td><td>Unchanged        </td></tr>\n",
       "\t<tr><th scope=row>subject.biologicalSexMale22</th><td>-0.156241360</td><td>0.13493083</td><td>-1.15793673</td><td>2.500229e-01</td><td>Sex</td><td>PTN     </td><td>-0.195048914</td><td>-0.161205045</td><td>1.000000e+00</td><td>Unchanged        </td></tr>\n",
       "\t<tr><th scope=row>subject.biologicalSexMale23</th><td> 0.020284630</td><td>0.19484829</td><td> 0.10410474</td><td>9.174792e-01</td><td>Sex</td><td>CEP43   </td><td>-0.006005224</td><td>-0.002916071</td><td>1.000000e+00</td><td>Unchanged        </td></tr>\n",
       "\t<tr><th scope=row>subject.biologicalSexMale24</th><td>-0.035510148</td><td>0.24776100</td><td>-0.14332420</td><td>8.865777e-01</td><td>Sex</td><td>IRAG2   </td><td> 0.005541831</td><td> 0.004201108</td><td>1.000000e+00</td><td>Unchanged        </td></tr>\n",
       "\t<tr><th scope=row>subject.biologicalSexMale25</th><td> 0.063950207</td><td>0.16575606</td><td> 0.38580917</td><td>7.005691e-01</td><td>Sex</td><td>COMT    </td><td> 0.079712229</td><td> 0.051483716</td><td>1.000000e+00</td><td>Unchanged        </td></tr>\n",
       "\t<tr><th scope=row>subject.biologicalSexMale26</th><td>-0.126283823</td><td>0.08694394</td><td>-1.45247408</td><td>1.499262e-01</td><td>Sex</td><td>MMP7    </td><td> 0.126287657</td><td>-0.131016284</td><td>1.000000e+00</td><td>Unchanged        </td></tr>\n",
       "\t<tr><th scope=row>subject.biologicalSexMale27</th><td> 0.172493048</td><td>0.08597138</td><td> 2.00640073</td><td>4.788371e-02</td><td>Sex</td><td>PON2    </td><td>         NaN</td><td> 0.174641463</td><td>1.000000e+00</td><td>Unchanged        </td></tr>\n",
       "\t<tr><th scope=row>subject.biologicalSexMale28</th><td>-0.082622713</td><td>0.06128590</td><td>-1.34815208</td><td>1.810695e-01</td><td>Sex</td><td>ADAMTS16</td><td>-0.733167272</td><td>-0.079001650</td><td>1.000000e+00</td><td>Unchanged        </td></tr>\n",
       "\t<tr><th scope=row>subject.biologicalSexMale29</th><td> 0.856250522</td><td>0.17858351</td><td> 4.79467858</td><td>6.582868e-06</td><td>Sex</td><td>GP2     </td><td> 1.084295501</td><td> 0.856157102</td><td>9.551742e-03</td><td>Up-regulated-Male</td></tr>\n",
       "\t<tr><th scope=row>⋮</th><td>⋮</td><td>⋮</td><td>⋮</td><td>⋮</td><td>⋮</td><td>⋮</td><td>⋮</td><td>⋮</td><td>⋮</td><td>⋮</td></tr>\n",
       "\t<tr><th scope=row>subject.biologicalSexMale1442</th><td> 0.068794442</td><td>0.23354688</td><td> 0.29456374</td><td>0.769020917</td><td>Sex</td><td>FYB1    </td><td> 0.02233951</td><td> 0.04011272</td><td>1</td><td>Unchanged</td></tr>\n",
       "\t<tr><th scope=row>subject.biologicalSexMale1443</th><td>-0.022552363</td><td>0.10333251</td><td>-0.21825041</td><td>0.827739333</td><td>Sex</td><td>BLVRB   </td><td>-0.02200483</td><td>-0.01942800</td><td>1</td><td>Unchanged</td></tr>\n",
       "\t<tr><th scope=row>subject.biologicalSexMale1444</th><td> 0.190079924</td><td>0.06425877</td><td> 2.95803860</td><td>0.003975579</td><td>Sex</td><td>RELT    </td><td> 2.51040211</td><td> 0.18897085</td><td>1</td><td>Unchanged</td></tr>\n",
       "\t<tr><th scope=row>subject.biologicalSexMale1445</th><td>-0.258445537</td><td>0.12344488</td><td>-2.09361084</td><td>0.039171769</td><td>Sex</td><td>DBI     </td><td>-0.76575442</td><td>-0.26853989</td><td>1</td><td>Unchanged</td></tr>\n",
       "\t<tr><th scope=row>subject.biologicalSexMale1446</th><td>-0.074276519</td><td>0.09194315</td><td>-0.80785263</td><td>0.421353818</td><td>Sex</td><td>VSIG4   </td><td>-0.52713124</td><td>-0.06447987</td><td>1</td><td>Unchanged</td></tr>\n",
       "\t<tr><th scope=row>subject.biologicalSexMale1447</th><td>-0.062225730</td><td>0.07121670</td><td>-0.87375196</td><td>0.384631540</td><td>Sex</td><td>TNFRSF1B</td><td>-0.73518455</td><td>-0.05444051</td><td>1</td><td>Unchanged</td></tr>\n",
       "\t<tr><th scope=row>subject.biologicalSexMale1448</th><td>-0.048697550</td><td>0.05668815</td><td>-0.85904280</td><td>0.392650901</td><td>Sex</td><td>IGF2R   </td><td>-0.40120887</td><td>-0.04499505</td><td>1</td><td>Unchanged</td></tr>\n",
       "\t<tr><th scope=row>subject.biologicalSexMale1449</th><td>-0.274072185</td><td>0.08816714</td><td>-3.10855255</td><td>0.002532503</td><td>Sex</td><td>TIMP4   </td><td>-1.18993161</td><td>-0.27179684</td><td>1</td><td>Unchanged</td></tr>\n",
       "\t<tr><th scope=row>subject.biologicalSexMale1450</th><td> 0.090571729</td><td>0.07391086</td><td> 1.22541846</td><td>0.223687231</td><td>Sex</td><td>SPINK5  </td><td> 0.74062536</td><td> 0.09935371</td><td>1</td><td>Unchanged</td></tr>\n",
       "\t<tr><th scope=row>subject.biologicalSexMale1451</th><td> 0.024256753</td><td>0.12987845</td><td> 0.18676504</td><td>0.852274759</td><td>Sex</td><td>CA2     </td><td> 0.01610499</td><td> 0.02877212</td><td>1</td><td>Unchanged</td></tr>\n",
       "\t<tr><th scope=row>subject.biologicalSexMale1452</th><td>-0.197595220</td><td>0.10714886</td><td>-1.84411878</td><td>0.068530847</td><td>Sex</td><td>CTRB1   </td><td>-0.32206293</td><td>-0.20238661</td><td>1</td><td>Unchanged</td></tr>\n",
       "\t<tr><th scope=row>subject.biologicalSexMale1453</th><td>-0.034012999</td><td>0.10161489</td><td>-0.33472456</td><td>0.738629387</td><td>Sex</td><td>F11R    </td><td>-0.11714618</td><td>-0.03928678</td><td>1</td><td>Unchanged</td></tr>\n",
       "\t<tr><th scope=row>subject.biologicalSexMale1454</th><td>-0.138590620</td><td>0.12411834</td><td>-1.11660063</td><td>0.267204663</td><td>Sex</td><td>LILRA2  </td><td>        NaN</td><td>-0.15561239</td><td>1</td><td>Unchanged</td></tr>\n",
       "\t<tr><th scope=row>subject.biologicalSexMale1455</th><td> 0.098348158</td><td>0.07014599</td><td> 1.40204963</td><td>0.164418031</td><td>Sex</td><td>PAMR1   </td><td> 0.50141799</td><td> 0.09480096</td><td>1</td><td>Unchanged</td></tr>\n",
       "\t<tr><th scope=row>subject.biologicalSexMale1456</th><td>-0.170388813</td><td>0.09628304</td><td>-1.76966595</td><td>0.080246786</td><td>Sex</td><td>TFF1    </td><td> 0.91819997</td><td>-0.16485521</td><td>1</td><td>Unchanged</td></tr>\n",
       "\t<tr><th scope=row>subject.biologicalSexMale1457</th><td>-0.041650392</td><td>0.06459963</td><td>-0.64474665</td><td>0.520768641</td><td>Sex</td><td>TNFRSF1A</td><td>-0.32983358</td><td>-0.03562420</td><td>1</td><td>Unchanged</td></tr>\n",
       "\t<tr><th scope=row>subject.biologicalSexMale1458</th><td>-0.035213176</td><td>0.14227022</td><td>-0.24750912</td><td>0.805090806</td><td>Sex</td><td>CLPS    </td><td>-0.07129874</td><td>-0.03030179</td><td>1</td><td>Unchanged</td></tr>\n",
       "\t<tr><th scope=row>subject.biologicalSexMale1459</th><td>-0.065345256</td><td>0.06828149</td><td>-0.95699812</td><td>0.341189975</td><td>Sex</td><td>STC2    </td><td>-0.37733777</td><td>-0.05670906</td><td>1</td><td>Unchanged</td></tr>\n",
       "\t<tr><th scope=row>subject.biologicalSexMale1460</th><td>-0.170860181</td><td>0.08657912</td><td>-1.97345723</td><td>0.051581099</td><td>Sex</td><td>IGFBP4  </td><td>-0.78611918</td><td>-0.16083661</td><td>1</td><td>Unchanged</td></tr>\n",
       "\t<tr><th scope=row>subject.biologicalSexMale1461</th><td>-0.026453833</td><td>0.05714212</td><td>-0.46294803</td><td>0.644797858</td><td>Sex</td><td>GRN     </td><td>-0.19480945</td><td>-0.03190444</td><td>1</td><td>Unchanged</td></tr>\n",
       "\t<tr><th scope=row>subject.biologicalSexMale1462</th><td> 0.038666150</td><td>0.09905799</td><td> 0.39033851</td><td>0.697229518</td><td>Sex</td><td>PARK7   </td><td> 0.04025101</td><td> 0.03507274</td><td>1</td><td>Unchanged</td></tr>\n",
       "\t<tr><th scope=row>subject.biologicalSexMale1463</th><td>-0.019749898</td><td>0.09121004</td><td>-0.21653206</td><td>0.829991685</td><td>Sex</td><td>CASC4   </td><td>-0.14809075</td><td>-0.03058297</td><td>1</td><td>Unchanged</td></tr>\n",
       "\t<tr><th scope=row>subject.biologicalSexMale1464</th><td>-0.015848553</td><td>0.12116191</td><td>-0.13080475</td><td>0.896774946</td><td>Sex</td><td>WISP2   </td><td> 0.07643338</td><td> 0.02610217</td><td>1</td><td>Unchanged</td></tr>\n",
       "\t<tr><th scope=row>subject.biologicalSexMale1465</th><td>-0.004214346</td><td>0.17867370</td><td>-0.02358683</td><td>0.981333353</td><td>Sex</td><td>HARS    </td><td>-0.02823673</td><td>-0.02175435</td><td>1</td><td>Unchanged</td></tr>\n",
       "\t<tr><th scope=row>subject.biologicalSexMale1466</th><td>-0.065016476</td><td>0.26057103</td><td>-0.24951536</td><td>0.804608128</td><td>Sex</td><td>DARS    </td><td>-0.14825022</td><td>-0.12759493</td><td>1</td><td>Unchanged</td></tr>\n",
       "\t<tr><th scope=row>subject.biologicalSexMale1467</th><td>-0.130903044</td><td>0.13098647</td><td>-0.99936312</td><td>0.325356139</td><td>Sex</td><td>WISP1   </td><td>-0.35701213</td><td>-0.11561667</td><td>1</td><td>Unchanged</td></tr>\n",
       "\t<tr><th scope=row>subject.biologicalSexMale1468</th><td> 0.650853221</td><td>0.30262635</td><td> 2.15068262</td><td>0.039410352</td><td>Sex</td><td>FOPNL   </td><td>        NaN</td><td> 0.59667899</td><td>1</td><td>Unchanged</td></tr>\n",
       "\t<tr><th scope=row>subject.biologicalSexMale1469</th><td>-0.147761248</td><td>0.12829184</td><td>-1.15175877</td><td>0.258225784</td><td>Sex</td><td>CD97    </td><td>-0.57818632</td><td>-0.12205145</td><td>1</td><td>Unchanged</td></tr>\n",
       "\t<tr><th scope=row>subject.biologicalSexMale1470</th><td> 0.186951918</td><td>0.17513337</td><td> 1.06748314</td><td>0.293996633</td><td>Sex</td><td>LRMP    </td><td> 0.47887500</td><td> 0.15495688</td><td>1</td><td>Unchanged</td></tr>\n",
       "\t<tr><th scope=row>subject.biologicalSexMale1471</th><td> 0.263573847</td><td>0.14909379</td><td> 1.76783925</td><td>0.086930315</td><td>Sex</td><td>FGFR1OP </td><td> 0.74547425</td><td> 0.24246667</td><td>1</td><td>Unchanged</td></tr>\n",
       "</tbody>\n",
       "</table>\n"
      ],
      "text/latex": [
       "A data.frame: 1472 × 10\n",
       "\\begin{tabular}{r|llllllllll}\n",
       "  & Estimate & Std. Error & t value & Pr(>\\textbar{}t\\textbar{}) & factor & Assay & Log2FC\\_Sex & diff & padj & Expression\\\\\n",
       "  & <dbl> & <dbl> & <dbl> & <dbl> & <chr> & <chr> & <dbl> & <dbl> & <dbl> & <chr>\\\\\n",
       "\\hline\n",
       "\tsubject.biologicalSexMale &  0.131465349 & 0.21955900 &  0.59877004 & 5.508645e-01 & Sex & GYS1     &  0.064440281 &  0.125096844 & 1.000000e+00 & Unchanged        \\\\\n",
       "\tsubject.biologicalSexMale1 &  0.061633284 & 0.06475192 &  0.95183720 & 3.437866e-01 & Sex & THPO     &  0.105844348 &  0.056752319 & 1.000000e+00 & Unchanged        \\\\\n",
       "\tsubject.biologicalSexMale2 &  0.152835269 & 0.07486188 &  2.04156344 & 4.418957e-02 & Sex & CLEC1A   &  0.261467541 &  0.154977953 & 1.000000e+00 & Unchanged        \\\\\n",
       "\tsubject.biologicalSexMale3 &  0.024948087 & 0.05247398 &  0.47543733 & 6.356533e-01 & Sex & ENTPD6   &  0.060461908 &  0.023976997 & 1.000000e+00 & Unchanged        \\\\\n",
       "\tsubject.biologicalSexMale4 &  0.064264842 & 0.13167614 &  0.48805229 & 6.267267e-01 & Sex & CEACAM8  &  0.238080927 &  0.060966619 & 1.000000e+00 & Unchanged        \\\\\n",
       "\tsubject.biologicalSexMale5 &  0.288529046 & 0.10524570 &  2.74148062 & 7.407616e-03 & Sex & S100P    &  1.452606037 &  0.282606361 & 1.000000e+00 & Unchanged        \\\\\n",
       "\tsubject.biologicalSexMale6 & -0.036659022 & 0.07337305 & -0.49962513 & 6.185860e-01 & Sex & ENTPD5   & -0.123270298 & -0.038986848 & 1.000000e+00 & Unchanged        \\\\\n",
       "\tsubject.biologicalSexMale7 &  0.496646005 & 0.08272930 &  6.00326599 & 4.230687e-08 & Sex & ACE2     &          NaN &  0.488970756 & 6.176803e-05 & Up-regulated-Male\\\\\n",
       "\tsubject.biologicalSexMale8 &  0.185976901 & 0.06230482 &  2.98495210 & 3.671599e-03 & Sex & DCN      &          NaN &  0.189203754 & 1.000000e+00 & Unchanged        \\\\\n",
       "\tsubject.biologicalSexMale9 &  0.101184846 & 0.14476125 &  0.69897742 & 4.864094e-01 & Sex & GLO1     & -0.273723646 &  0.098584648 & 1.000000e+00 & Unchanged        \\\\\n",
       "\tsubject.biologicalSexMale10 &  0.149452460 & 0.14917334 &  1.00187109 & 3.191528e-01 & Sex & USP8     & -0.141590862 &  0.126106624 & 1.000000e+00 & Unchanged        \\\\\n",
       "\tsubject.biologicalSexMale11 &  0.005647139 & 0.06848067 &  0.08246325 & 9.344656e-01 & Sex & BMP6     &  0.031672354 &  0.009543998 & 1.000000e+00 & Unchanged        \\\\\n",
       "\tsubject.biologicalSexMale12 &  0.043710723 & 0.22307185 &  0.19594908 & 8.451018e-01 & Sex & ITGB1BP2 &  0.024908921 &  0.036187566 & 1.000000e+00 & Unchanged        \\\\\n",
       "\tsubject.biologicalSexMale13 &  0.600931283 & 0.17214394 &  3.49086514 & 7.548753e-04 & Sex & CTSH     &          NaN &  0.607110354 & 1.000000e+00 & Unchanged        \\\\\n",
       "\tsubject.biologicalSexMale14 &  0.015690022 & 0.06391809 &  0.24547076 & 8.066635e-01 & Sex & BAG6     &  0.030587330 &  0.015025538 & 1.000000e+00 & Unchanged        \\\\\n",
       "\tsubject.biologicalSexMale15 &  0.821421280 & 0.12952350 &  6.34187078 & 9.495405e-09 & Sex & MSTN     &  2.111057375 &  0.824473027 & 1.389178e-05 & Up-regulated-Male\\\\\n",
       "\tsubject.biologicalSexMale16 &  0.263337809 & 0.06904211 &  3.81416226 & 2.532337e-04 & Sex & BOC      &  1.049934136 &  0.268360234 & 3.621242e-01 & Unchanged        \\\\\n",
       "\tsubject.biologicalSexMale17 &  0.606378323 & 0.22694122 &  2.67196198 & 8.984504e-03 & Sex & ADH4     & -1.790093149 &  0.617285270 & 1.000000e+00 & Unchanged        \\\\\n",
       "\tsubject.biologicalSexMale18 &  0.040223251 & 0.06556334 &  0.61350220 & 5.411269e-01 & Sex & CLTA     &  0.161856835 &  0.043522071 & 1.000000e+00 & Unchanged        \\\\\n",
       "\tsubject.biologicalSexMale19 &  0.201413047 & 0.11988346 &  1.68007375 & 9.648981e-02 & Sex & EPHX2    &          NaN &  0.205000048 & 1.000000e+00 & Unchanged        \\\\\n",
       "\tsubject.biologicalSexMale20 &  0.061181662 & 0.06818835 &  0.89724506 & 3.720363e-01 & Sex & TP53INP1 &  0.279817268 &  0.054676590 & 1.000000e+00 & Unchanged        \\\\\n",
       "\tsubject.biologicalSexMale21 &  0.084919894 & 0.07475003 &  1.13605169 & 2.590194e-01 & Sex & ZBTB17   &  0.424019657 &  0.086261573 & 1.000000e+00 & Unchanged        \\\\\n",
       "\tsubject.biologicalSexMale22 & -0.156241360 & 0.13493083 & -1.15793673 & 2.500229e-01 & Sex & PTN      & -0.195048914 & -0.161205045 & 1.000000e+00 & Unchanged        \\\\\n",
       "\tsubject.biologicalSexMale23 &  0.020284630 & 0.19484829 &  0.10410474 & 9.174792e-01 & Sex & CEP43    & -0.006005224 & -0.002916071 & 1.000000e+00 & Unchanged        \\\\\n",
       "\tsubject.biologicalSexMale24 & -0.035510148 & 0.24776100 & -0.14332420 & 8.865777e-01 & Sex & IRAG2    &  0.005541831 &  0.004201108 & 1.000000e+00 & Unchanged        \\\\\n",
       "\tsubject.biologicalSexMale25 &  0.063950207 & 0.16575606 &  0.38580917 & 7.005691e-01 & Sex & COMT     &  0.079712229 &  0.051483716 & 1.000000e+00 & Unchanged        \\\\\n",
       "\tsubject.biologicalSexMale26 & -0.126283823 & 0.08694394 & -1.45247408 & 1.499262e-01 & Sex & MMP7     &  0.126287657 & -0.131016284 & 1.000000e+00 & Unchanged        \\\\\n",
       "\tsubject.biologicalSexMale27 &  0.172493048 & 0.08597138 &  2.00640073 & 4.788371e-02 & Sex & PON2     &          NaN &  0.174641463 & 1.000000e+00 & Unchanged        \\\\\n",
       "\tsubject.biologicalSexMale28 & -0.082622713 & 0.06128590 & -1.34815208 & 1.810695e-01 & Sex & ADAMTS16 & -0.733167272 & -0.079001650 & 1.000000e+00 & Unchanged        \\\\\n",
       "\tsubject.biologicalSexMale29 &  0.856250522 & 0.17858351 &  4.79467858 & 6.582868e-06 & Sex & GP2      &  1.084295501 &  0.856157102 & 9.551742e-03 & Up-regulated-Male\\\\\n",
       "\t⋮ & ⋮ & ⋮ & ⋮ & ⋮ & ⋮ & ⋮ & ⋮ & ⋮ & ⋮ & ⋮\\\\\n",
       "\tsubject.biologicalSexMale1442 &  0.068794442 & 0.23354688 &  0.29456374 & 0.769020917 & Sex & FYB1     &  0.02233951 &  0.04011272 & 1 & Unchanged\\\\\n",
       "\tsubject.biologicalSexMale1443 & -0.022552363 & 0.10333251 & -0.21825041 & 0.827739333 & Sex & BLVRB    & -0.02200483 & -0.01942800 & 1 & Unchanged\\\\\n",
       "\tsubject.biologicalSexMale1444 &  0.190079924 & 0.06425877 &  2.95803860 & 0.003975579 & Sex & RELT     &  2.51040211 &  0.18897085 & 1 & Unchanged\\\\\n",
       "\tsubject.biologicalSexMale1445 & -0.258445537 & 0.12344488 & -2.09361084 & 0.039171769 & Sex & DBI      & -0.76575442 & -0.26853989 & 1 & Unchanged\\\\\n",
       "\tsubject.biologicalSexMale1446 & -0.074276519 & 0.09194315 & -0.80785263 & 0.421353818 & Sex & VSIG4    & -0.52713124 & -0.06447987 & 1 & Unchanged\\\\\n",
       "\tsubject.biologicalSexMale1447 & -0.062225730 & 0.07121670 & -0.87375196 & 0.384631540 & Sex & TNFRSF1B & -0.73518455 & -0.05444051 & 1 & Unchanged\\\\\n",
       "\tsubject.biologicalSexMale1448 & -0.048697550 & 0.05668815 & -0.85904280 & 0.392650901 & Sex & IGF2R    & -0.40120887 & -0.04499505 & 1 & Unchanged\\\\\n",
       "\tsubject.biologicalSexMale1449 & -0.274072185 & 0.08816714 & -3.10855255 & 0.002532503 & Sex & TIMP4    & -1.18993161 & -0.27179684 & 1 & Unchanged\\\\\n",
       "\tsubject.biologicalSexMale1450 &  0.090571729 & 0.07391086 &  1.22541846 & 0.223687231 & Sex & SPINK5   &  0.74062536 &  0.09935371 & 1 & Unchanged\\\\\n",
       "\tsubject.biologicalSexMale1451 &  0.024256753 & 0.12987845 &  0.18676504 & 0.852274759 & Sex & CA2      &  0.01610499 &  0.02877212 & 1 & Unchanged\\\\\n",
       "\tsubject.biologicalSexMale1452 & -0.197595220 & 0.10714886 & -1.84411878 & 0.068530847 & Sex & CTRB1    & -0.32206293 & -0.20238661 & 1 & Unchanged\\\\\n",
       "\tsubject.biologicalSexMale1453 & -0.034012999 & 0.10161489 & -0.33472456 & 0.738629387 & Sex & F11R     & -0.11714618 & -0.03928678 & 1 & Unchanged\\\\\n",
       "\tsubject.biologicalSexMale1454 & -0.138590620 & 0.12411834 & -1.11660063 & 0.267204663 & Sex & LILRA2   &         NaN & -0.15561239 & 1 & Unchanged\\\\\n",
       "\tsubject.biologicalSexMale1455 &  0.098348158 & 0.07014599 &  1.40204963 & 0.164418031 & Sex & PAMR1    &  0.50141799 &  0.09480096 & 1 & Unchanged\\\\\n",
       "\tsubject.biologicalSexMale1456 & -0.170388813 & 0.09628304 & -1.76966595 & 0.080246786 & Sex & TFF1     &  0.91819997 & -0.16485521 & 1 & Unchanged\\\\\n",
       "\tsubject.biologicalSexMale1457 & -0.041650392 & 0.06459963 & -0.64474665 & 0.520768641 & Sex & TNFRSF1A & -0.32983358 & -0.03562420 & 1 & Unchanged\\\\\n",
       "\tsubject.biologicalSexMale1458 & -0.035213176 & 0.14227022 & -0.24750912 & 0.805090806 & Sex & CLPS     & -0.07129874 & -0.03030179 & 1 & Unchanged\\\\\n",
       "\tsubject.biologicalSexMale1459 & -0.065345256 & 0.06828149 & -0.95699812 & 0.341189975 & Sex & STC2     & -0.37733777 & -0.05670906 & 1 & Unchanged\\\\\n",
       "\tsubject.biologicalSexMale1460 & -0.170860181 & 0.08657912 & -1.97345723 & 0.051581099 & Sex & IGFBP4   & -0.78611918 & -0.16083661 & 1 & Unchanged\\\\\n",
       "\tsubject.biologicalSexMale1461 & -0.026453833 & 0.05714212 & -0.46294803 & 0.644797858 & Sex & GRN      & -0.19480945 & -0.03190444 & 1 & Unchanged\\\\\n",
       "\tsubject.biologicalSexMale1462 &  0.038666150 & 0.09905799 &  0.39033851 & 0.697229518 & Sex & PARK7    &  0.04025101 &  0.03507274 & 1 & Unchanged\\\\\n",
       "\tsubject.biologicalSexMale1463 & -0.019749898 & 0.09121004 & -0.21653206 & 0.829991685 & Sex & CASC4    & -0.14809075 & -0.03058297 & 1 & Unchanged\\\\\n",
       "\tsubject.biologicalSexMale1464 & -0.015848553 & 0.12116191 & -0.13080475 & 0.896774946 & Sex & WISP2    &  0.07643338 &  0.02610217 & 1 & Unchanged\\\\\n",
       "\tsubject.biologicalSexMale1465 & -0.004214346 & 0.17867370 & -0.02358683 & 0.981333353 & Sex & HARS     & -0.02823673 & -0.02175435 & 1 & Unchanged\\\\\n",
       "\tsubject.biologicalSexMale1466 & -0.065016476 & 0.26057103 & -0.24951536 & 0.804608128 & Sex & DARS     & -0.14825022 & -0.12759493 & 1 & Unchanged\\\\\n",
       "\tsubject.biologicalSexMale1467 & -0.130903044 & 0.13098647 & -0.99936312 & 0.325356139 & Sex & WISP1    & -0.35701213 & -0.11561667 & 1 & Unchanged\\\\\n",
       "\tsubject.biologicalSexMale1468 &  0.650853221 & 0.30262635 &  2.15068262 & 0.039410352 & Sex & FOPNL    &         NaN &  0.59667899 & 1 & Unchanged\\\\\n",
       "\tsubject.biologicalSexMale1469 & -0.147761248 & 0.12829184 & -1.15175877 & 0.258225784 & Sex & CD97     & -0.57818632 & -0.12205145 & 1 & Unchanged\\\\\n",
       "\tsubject.biologicalSexMale1470 &  0.186951918 & 0.17513337 &  1.06748314 & 0.293996633 & Sex & LRMP     &  0.47887500 &  0.15495688 & 1 & Unchanged\\\\\n",
       "\tsubject.biologicalSexMale1471 &  0.263573847 & 0.14909379 &  1.76783925 & 0.086930315 & Sex & FGFR1OP  &  0.74547425 &  0.24246667 & 1 & Unchanged\\\\\n",
       "\\end{tabular}\n"
      ],
      "text/markdown": [
       "\n",
       "A data.frame: 1472 × 10\n",
       "\n",
       "| <!--/--> | Estimate &lt;dbl&gt; | Std. Error &lt;dbl&gt; | t value &lt;dbl&gt; | Pr(&gt;|t|) &lt;dbl&gt; | factor &lt;chr&gt; | Assay &lt;chr&gt; | Log2FC_Sex &lt;dbl&gt; | diff &lt;dbl&gt; | padj &lt;dbl&gt; | Expression &lt;chr&gt; |\n",
       "|---|---|---|---|---|---|---|---|---|---|---|\n",
       "| subject.biologicalSexMale |  0.131465349 | 0.21955900 |  0.59877004 | 5.508645e-01 | Sex | GYS1     |  0.064440281 |  0.125096844 | 1.000000e+00 | Unchanged         |\n",
       "| subject.biologicalSexMale1 |  0.061633284 | 0.06475192 |  0.95183720 | 3.437866e-01 | Sex | THPO     |  0.105844348 |  0.056752319 | 1.000000e+00 | Unchanged         |\n",
       "| subject.biologicalSexMale2 |  0.152835269 | 0.07486188 |  2.04156344 | 4.418957e-02 | Sex | CLEC1A   |  0.261467541 |  0.154977953 | 1.000000e+00 | Unchanged         |\n",
       "| subject.biologicalSexMale3 |  0.024948087 | 0.05247398 |  0.47543733 | 6.356533e-01 | Sex | ENTPD6   |  0.060461908 |  0.023976997 | 1.000000e+00 | Unchanged         |\n",
       "| subject.biologicalSexMale4 |  0.064264842 | 0.13167614 |  0.48805229 | 6.267267e-01 | Sex | CEACAM8  |  0.238080927 |  0.060966619 | 1.000000e+00 | Unchanged         |\n",
       "| subject.biologicalSexMale5 |  0.288529046 | 0.10524570 |  2.74148062 | 7.407616e-03 | Sex | S100P    |  1.452606037 |  0.282606361 | 1.000000e+00 | Unchanged         |\n",
       "| subject.biologicalSexMale6 | -0.036659022 | 0.07337305 | -0.49962513 | 6.185860e-01 | Sex | ENTPD5   | -0.123270298 | -0.038986848 | 1.000000e+00 | Unchanged         |\n",
       "| subject.biologicalSexMale7 |  0.496646005 | 0.08272930 |  6.00326599 | 4.230687e-08 | Sex | ACE2     |          NaN |  0.488970756 | 6.176803e-05 | Up-regulated-Male |\n",
       "| subject.biologicalSexMale8 |  0.185976901 | 0.06230482 |  2.98495210 | 3.671599e-03 | Sex | DCN      |          NaN |  0.189203754 | 1.000000e+00 | Unchanged         |\n",
       "| subject.biologicalSexMale9 |  0.101184846 | 0.14476125 |  0.69897742 | 4.864094e-01 | Sex | GLO1     | -0.273723646 |  0.098584648 | 1.000000e+00 | Unchanged         |\n",
       "| subject.biologicalSexMale10 |  0.149452460 | 0.14917334 |  1.00187109 | 3.191528e-01 | Sex | USP8     | -0.141590862 |  0.126106624 | 1.000000e+00 | Unchanged         |\n",
       "| subject.biologicalSexMale11 |  0.005647139 | 0.06848067 |  0.08246325 | 9.344656e-01 | Sex | BMP6     |  0.031672354 |  0.009543998 | 1.000000e+00 | Unchanged         |\n",
       "| subject.biologicalSexMale12 |  0.043710723 | 0.22307185 |  0.19594908 | 8.451018e-01 | Sex | ITGB1BP2 |  0.024908921 |  0.036187566 | 1.000000e+00 | Unchanged         |\n",
       "| subject.biologicalSexMale13 |  0.600931283 | 0.17214394 |  3.49086514 | 7.548753e-04 | Sex | CTSH     |          NaN |  0.607110354 | 1.000000e+00 | Unchanged         |\n",
       "| subject.biologicalSexMale14 |  0.015690022 | 0.06391809 |  0.24547076 | 8.066635e-01 | Sex | BAG6     |  0.030587330 |  0.015025538 | 1.000000e+00 | Unchanged         |\n",
       "| subject.biologicalSexMale15 |  0.821421280 | 0.12952350 |  6.34187078 | 9.495405e-09 | Sex | MSTN     |  2.111057375 |  0.824473027 | 1.389178e-05 | Up-regulated-Male |\n",
       "| subject.biologicalSexMale16 |  0.263337809 | 0.06904211 |  3.81416226 | 2.532337e-04 | Sex | BOC      |  1.049934136 |  0.268360234 | 3.621242e-01 | Unchanged         |\n",
       "| subject.biologicalSexMale17 |  0.606378323 | 0.22694122 |  2.67196198 | 8.984504e-03 | Sex | ADH4     | -1.790093149 |  0.617285270 | 1.000000e+00 | Unchanged         |\n",
       "| subject.biologicalSexMale18 |  0.040223251 | 0.06556334 |  0.61350220 | 5.411269e-01 | Sex | CLTA     |  0.161856835 |  0.043522071 | 1.000000e+00 | Unchanged         |\n",
       "| subject.biologicalSexMale19 |  0.201413047 | 0.11988346 |  1.68007375 | 9.648981e-02 | Sex | EPHX2    |          NaN |  0.205000048 | 1.000000e+00 | Unchanged         |\n",
       "| subject.biologicalSexMale20 |  0.061181662 | 0.06818835 |  0.89724506 | 3.720363e-01 | Sex | TP53INP1 |  0.279817268 |  0.054676590 | 1.000000e+00 | Unchanged         |\n",
       "| subject.biologicalSexMale21 |  0.084919894 | 0.07475003 |  1.13605169 | 2.590194e-01 | Sex | ZBTB17   |  0.424019657 |  0.086261573 | 1.000000e+00 | Unchanged         |\n",
       "| subject.biologicalSexMale22 | -0.156241360 | 0.13493083 | -1.15793673 | 2.500229e-01 | Sex | PTN      | -0.195048914 | -0.161205045 | 1.000000e+00 | Unchanged         |\n",
       "| subject.biologicalSexMale23 |  0.020284630 | 0.19484829 |  0.10410474 | 9.174792e-01 | Sex | CEP43    | -0.006005224 | -0.002916071 | 1.000000e+00 | Unchanged         |\n",
       "| subject.biologicalSexMale24 | -0.035510148 | 0.24776100 | -0.14332420 | 8.865777e-01 | Sex | IRAG2    |  0.005541831 |  0.004201108 | 1.000000e+00 | Unchanged         |\n",
       "| subject.biologicalSexMale25 |  0.063950207 | 0.16575606 |  0.38580917 | 7.005691e-01 | Sex | COMT     |  0.079712229 |  0.051483716 | 1.000000e+00 | Unchanged         |\n",
       "| subject.biologicalSexMale26 | -0.126283823 | 0.08694394 | -1.45247408 | 1.499262e-01 | Sex | MMP7     |  0.126287657 | -0.131016284 | 1.000000e+00 | Unchanged         |\n",
       "| subject.biologicalSexMale27 |  0.172493048 | 0.08597138 |  2.00640073 | 4.788371e-02 | Sex | PON2     |          NaN |  0.174641463 | 1.000000e+00 | Unchanged         |\n",
       "| subject.biologicalSexMale28 | -0.082622713 | 0.06128590 | -1.34815208 | 1.810695e-01 | Sex | ADAMTS16 | -0.733167272 | -0.079001650 | 1.000000e+00 | Unchanged         |\n",
       "| subject.biologicalSexMale29 |  0.856250522 | 0.17858351 |  4.79467858 | 6.582868e-06 | Sex | GP2      |  1.084295501 |  0.856157102 | 9.551742e-03 | Up-regulated-Male |\n",
       "| ⋮ | ⋮ | ⋮ | ⋮ | ⋮ | ⋮ | ⋮ | ⋮ | ⋮ | ⋮ | ⋮ |\n",
       "| subject.biologicalSexMale1442 |  0.068794442 | 0.23354688 |  0.29456374 | 0.769020917 | Sex | FYB1     |  0.02233951 |  0.04011272 | 1 | Unchanged |\n",
       "| subject.biologicalSexMale1443 | -0.022552363 | 0.10333251 | -0.21825041 | 0.827739333 | Sex | BLVRB    | -0.02200483 | -0.01942800 | 1 | Unchanged |\n",
       "| subject.biologicalSexMale1444 |  0.190079924 | 0.06425877 |  2.95803860 | 0.003975579 | Sex | RELT     |  2.51040211 |  0.18897085 | 1 | Unchanged |\n",
       "| subject.biologicalSexMale1445 | -0.258445537 | 0.12344488 | -2.09361084 | 0.039171769 | Sex | DBI      | -0.76575442 | -0.26853989 | 1 | Unchanged |\n",
       "| subject.biologicalSexMale1446 | -0.074276519 | 0.09194315 | -0.80785263 | 0.421353818 | Sex | VSIG4    | -0.52713124 | -0.06447987 | 1 | Unchanged |\n",
       "| subject.biologicalSexMale1447 | -0.062225730 | 0.07121670 | -0.87375196 | 0.384631540 | Sex | TNFRSF1B | -0.73518455 | -0.05444051 | 1 | Unchanged |\n",
       "| subject.biologicalSexMale1448 | -0.048697550 | 0.05668815 | -0.85904280 | 0.392650901 | Sex | IGF2R    | -0.40120887 | -0.04499505 | 1 | Unchanged |\n",
       "| subject.biologicalSexMale1449 | -0.274072185 | 0.08816714 | -3.10855255 | 0.002532503 | Sex | TIMP4    | -1.18993161 | -0.27179684 | 1 | Unchanged |\n",
       "| subject.biologicalSexMale1450 |  0.090571729 | 0.07391086 |  1.22541846 | 0.223687231 | Sex | SPINK5   |  0.74062536 |  0.09935371 | 1 | Unchanged |\n",
       "| subject.biologicalSexMale1451 |  0.024256753 | 0.12987845 |  0.18676504 | 0.852274759 | Sex | CA2      |  0.01610499 |  0.02877212 | 1 | Unchanged |\n",
       "| subject.biologicalSexMale1452 | -0.197595220 | 0.10714886 | -1.84411878 | 0.068530847 | Sex | CTRB1    | -0.32206293 | -0.20238661 | 1 | Unchanged |\n",
       "| subject.biologicalSexMale1453 | -0.034012999 | 0.10161489 | -0.33472456 | 0.738629387 | Sex | F11R     | -0.11714618 | -0.03928678 | 1 | Unchanged |\n",
       "| subject.biologicalSexMale1454 | -0.138590620 | 0.12411834 | -1.11660063 | 0.267204663 | Sex | LILRA2   |         NaN | -0.15561239 | 1 | Unchanged |\n",
       "| subject.biologicalSexMale1455 |  0.098348158 | 0.07014599 |  1.40204963 | 0.164418031 | Sex | PAMR1    |  0.50141799 |  0.09480096 | 1 | Unchanged |\n",
       "| subject.biologicalSexMale1456 | -0.170388813 | 0.09628304 | -1.76966595 | 0.080246786 | Sex | TFF1     |  0.91819997 | -0.16485521 | 1 | Unchanged |\n",
       "| subject.biologicalSexMale1457 | -0.041650392 | 0.06459963 | -0.64474665 | 0.520768641 | Sex | TNFRSF1A | -0.32983358 | -0.03562420 | 1 | Unchanged |\n",
       "| subject.biologicalSexMale1458 | -0.035213176 | 0.14227022 | -0.24750912 | 0.805090806 | Sex | CLPS     | -0.07129874 | -0.03030179 | 1 | Unchanged |\n",
       "| subject.biologicalSexMale1459 | -0.065345256 | 0.06828149 | -0.95699812 | 0.341189975 | Sex | STC2     | -0.37733777 | -0.05670906 | 1 | Unchanged |\n",
       "| subject.biologicalSexMale1460 | -0.170860181 | 0.08657912 | -1.97345723 | 0.051581099 | Sex | IGFBP4   | -0.78611918 | -0.16083661 | 1 | Unchanged |\n",
       "| subject.biologicalSexMale1461 | -0.026453833 | 0.05714212 | -0.46294803 | 0.644797858 | Sex | GRN      | -0.19480945 | -0.03190444 | 1 | Unchanged |\n",
       "| subject.biologicalSexMale1462 |  0.038666150 | 0.09905799 |  0.39033851 | 0.697229518 | Sex | PARK7    |  0.04025101 |  0.03507274 | 1 | Unchanged |\n",
       "| subject.biologicalSexMale1463 | -0.019749898 | 0.09121004 | -0.21653206 | 0.829991685 | Sex | CASC4    | -0.14809075 | -0.03058297 | 1 | Unchanged |\n",
       "| subject.biologicalSexMale1464 | -0.015848553 | 0.12116191 | -0.13080475 | 0.896774946 | Sex | WISP2    |  0.07643338 |  0.02610217 | 1 | Unchanged |\n",
       "| subject.biologicalSexMale1465 | -0.004214346 | 0.17867370 | -0.02358683 | 0.981333353 | Sex | HARS     | -0.02823673 | -0.02175435 | 1 | Unchanged |\n",
       "| subject.biologicalSexMale1466 | -0.065016476 | 0.26057103 | -0.24951536 | 0.804608128 | Sex | DARS     | -0.14825022 | -0.12759493 | 1 | Unchanged |\n",
       "| subject.biologicalSexMale1467 | -0.130903044 | 0.13098647 | -0.99936312 | 0.325356139 | Sex | WISP1    | -0.35701213 | -0.11561667 | 1 | Unchanged |\n",
       "| subject.biologicalSexMale1468 |  0.650853221 | 0.30262635 |  2.15068262 | 0.039410352 | Sex | FOPNL    |         NaN |  0.59667899 | 1 | Unchanged |\n",
       "| subject.biologicalSexMale1469 | -0.147761248 | 0.12829184 | -1.15175877 | 0.258225784 | Sex | CD97     | -0.57818632 | -0.12205145 | 1 | Unchanged |\n",
       "| subject.biologicalSexMale1470 |  0.186951918 | 0.17513337 |  1.06748314 | 0.293996633 | Sex | LRMP     |  0.47887500 |  0.15495688 | 1 | Unchanged |\n",
       "| subject.biologicalSexMale1471 |  0.263573847 | 0.14909379 |  1.76783925 | 0.086930315 | Sex | FGFR1OP  |  0.74547425 |  0.24246667 | 1 | Unchanged |\n",
       "\n"
      ],
      "text/plain": [
       "                              Estimate     Std. Error t value     Pr(>|t|)    \n",
       "subject.biologicalSexMale      0.131465349 0.21955900  0.59877004 5.508645e-01\n",
       "subject.biologicalSexMale1     0.061633284 0.06475192  0.95183720 3.437866e-01\n",
       "subject.biologicalSexMale2     0.152835269 0.07486188  2.04156344 4.418957e-02\n",
       "subject.biologicalSexMale3     0.024948087 0.05247398  0.47543733 6.356533e-01\n",
       "subject.biologicalSexMale4     0.064264842 0.13167614  0.48805229 6.267267e-01\n",
       "subject.biologicalSexMale5     0.288529046 0.10524570  2.74148062 7.407616e-03\n",
       "subject.biologicalSexMale6    -0.036659022 0.07337305 -0.49962513 6.185860e-01\n",
       "subject.biologicalSexMale7     0.496646005 0.08272930  6.00326599 4.230687e-08\n",
       "subject.biologicalSexMale8     0.185976901 0.06230482  2.98495210 3.671599e-03\n",
       "subject.biologicalSexMale9     0.101184846 0.14476125  0.69897742 4.864094e-01\n",
       "subject.biologicalSexMale10    0.149452460 0.14917334  1.00187109 3.191528e-01\n",
       "subject.biologicalSexMale11    0.005647139 0.06848067  0.08246325 9.344656e-01\n",
       "subject.biologicalSexMale12    0.043710723 0.22307185  0.19594908 8.451018e-01\n",
       "subject.biologicalSexMale13    0.600931283 0.17214394  3.49086514 7.548753e-04\n",
       "subject.biologicalSexMale14    0.015690022 0.06391809  0.24547076 8.066635e-01\n",
       "subject.biologicalSexMale15    0.821421280 0.12952350  6.34187078 9.495405e-09\n",
       "subject.biologicalSexMale16    0.263337809 0.06904211  3.81416226 2.532337e-04\n",
       "subject.biologicalSexMale17    0.606378323 0.22694122  2.67196198 8.984504e-03\n",
       "subject.biologicalSexMale18    0.040223251 0.06556334  0.61350220 5.411269e-01\n",
       "subject.biologicalSexMale19    0.201413047 0.11988346  1.68007375 9.648981e-02\n",
       "subject.biologicalSexMale20    0.061181662 0.06818835  0.89724506 3.720363e-01\n",
       "subject.biologicalSexMale21    0.084919894 0.07475003  1.13605169 2.590194e-01\n",
       "subject.biologicalSexMale22   -0.156241360 0.13493083 -1.15793673 2.500229e-01\n",
       "subject.biologicalSexMale23    0.020284630 0.19484829  0.10410474 9.174792e-01\n",
       "subject.biologicalSexMale24   -0.035510148 0.24776100 -0.14332420 8.865777e-01\n",
       "subject.biologicalSexMale25    0.063950207 0.16575606  0.38580917 7.005691e-01\n",
       "subject.biologicalSexMale26   -0.126283823 0.08694394 -1.45247408 1.499262e-01\n",
       "subject.biologicalSexMale27    0.172493048 0.08597138  2.00640073 4.788371e-02\n",
       "subject.biologicalSexMale28   -0.082622713 0.06128590 -1.34815208 1.810695e-01\n",
       "subject.biologicalSexMale29    0.856250522 0.17858351  4.79467858 6.582868e-06\n",
       "⋮                             ⋮            ⋮          ⋮           ⋮           \n",
       "subject.biologicalSexMale1442  0.068794442 0.23354688  0.29456374 0.769020917 \n",
       "subject.biologicalSexMale1443 -0.022552363 0.10333251 -0.21825041 0.827739333 \n",
       "subject.biologicalSexMale1444  0.190079924 0.06425877  2.95803860 0.003975579 \n",
       "subject.biologicalSexMale1445 -0.258445537 0.12344488 -2.09361084 0.039171769 \n",
       "subject.biologicalSexMale1446 -0.074276519 0.09194315 -0.80785263 0.421353818 \n",
       "subject.biologicalSexMale1447 -0.062225730 0.07121670 -0.87375196 0.384631540 \n",
       "subject.biologicalSexMale1448 -0.048697550 0.05668815 -0.85904280 0.392650901 \n",
       "subject.biologicalSexMale1449 -0.274072185 0.08816714 -3.10855255 0.002532503 \n",
       "subject.biologicalSexMale1450  0.090571729 0.07391086  1.22541846 0.223687231 \n",
       "subject.biologicalSexMale1451  0.024256753 0.12987845  0.18676504 0.852274759 \n",
       "subject.biologicalSexMale1452 -0.197595220 0.10714886 -1.84411878 0.068530847 \n",
       "subject.biologicalSexMale1453 -0.034012999 0.10161489 -0.33472456 0.738629387 \n",
       "subject.biologicalSexMale1454 -0.138590620 0.12411834 -1.11660063 0.267204663 \n",
       "subject.biologicalSexMale1455  0.098348158 0.07014599  1.40204963 0.164418031 \n",
       "subject.biologicalSexMale1456 -0.170388813 0.09628304 -1.76966595 0.080246786 \n",
       "subject.biologicalSexMale1457 -0.041650392 0.06459963 -0.64474665 0.520768641 \n",
       "subject.biologicalSexMale1458 -0.035213176 0.14227022 -0.24750912 0.805090806 \n",
       "subject.biologicalSexMale1459 -0.065345256 0.06828149 -0.95699812 0.341189975 \n",
       "subject.biologicalSexMale1460 -0.170860181 0.08657912 -1.97345723 0.051581099 \n",
       "subject.biologicalSexMale1461 -0.026453833 0.05714212 -0.46294803 0.644797858 \n",
       "subject.biologicalSexMale1462  0.038666150 0.09905799  0.39033851 0.697229518 \n",
       "subject.biologicalSexMale1463 -0.019749898 0.09121004 -0.21653206 0.829991685 \n",
       "subject.biologicalSexMale1464 -0.015848553 0.12116191 -0.13080475 0.896774946 \n",
       "subject.biologicalSexMale1465 -0.004214346 0.17867370 -0.02358683 0.981333353 \n",
       "subject.biologicalSexMale1466 -0.065016476 0.26057103 -0.24951536 0.804608128 \n",
       "subject.biologicalSexMale1467 -0.130903044 0.13098647 -0.99936312 0.325356139 \n",
       "subject.biologicalSexMale1468  0.650853221 0.30262635  2.15068262 0.039410352 \n",
       "subject.biologicalSexMale1469 -0.147761248 0.12829184 -1.15175877 0.258225784 \n",
       "subject.biologicalSexMale1470  0.186951918 0.17513337  1.06748314 0.293996633 \n",
       "subject.biologicalSexMale1471  0.263573847 0.14909379  1.76783925 0.086930315 \n",
       "                              factor Assay    Log2FC_Sex   diff        \n",
       "subject.biologicalSexMale     Sex    GYS1      0.064440281  0.125096844\n",
       "subject.biologicalSexMale1    Sex    THPO      0.105844348  0.056752319\n",
       "subject.biologicalSexMale2    Sex    CLEC1A    0.261467541  0.154977953\n",
       "subject.biologicalSexMale3    Sex    ENTPD6    0.060461908  0.023976997\n",
       "subject.biologicalSexMale4    Sex    CEACAM8   0.238080927  0.060966619\n",
       "subject.biologicalSexMale5    Sex    S100P     1.452606037  0.282606361\n",
       "subject.biologicalSexMale6    Sex    ENTPD5   -0.123270298 -0.038986848\n",
       "subject.biologicalSexMale7    Sex    ACE2              NaN  0.488970756\n",
       "subject.biologicalSexMale8    Sex    DCN               NaN  0.189203754\n",
       "subject.biologicalSexMale9    Sex    GLO1     -0.273723646  0.098584648\n",
       "subject.biologicalSexMale10   Sex    USP8     -0.141590862  0.126106624\n",
       "subject.biologicalSexMale11   Sex    BMP6      0.031672354  0.009543998\n",
       "subject.biologicalSexMale12   Sex    ITGB1BP2  0.024908921  0.036187566\n",
       "subject.biologicalSexMale13   Sex    CTSH              NaN  0.607110354\n",
       "subject.biologicalSexMale14   Sex    BAG6      0.030587330  0.015025538\n",
       "subject.biologicalSexMale15   Sex    MSTN      2.111057375  0.824473027\n",
       "subject.biologicalSexMale16   Sex    BOC       1.049934136  0.268360234\n",
       "subject.biologicalSexMale17   Sex    ADH4     -1.790093149  0.617285270\n",
       "subject.biologicalSexMale18   Sex    CLTA      0.161856835  0.043522071\n",
       "subject.biologicalSexMale19   Sex    EPHX2             NaN  0.205000048\n",
       "subject.biologicalSexMale20   Sex    TP53INP1  0.279817268  0.054676590\n",
       "subject.biologicalSexMale21   Sex    ZBTB17    0.424019657  0.086261573\n",
       "subject.biologicalSexMale22   Sex    PTN      -0.195048914 -0.161205045\n",
       "subject.biologicalSexMale23   Sex    CEP43    -0.006005224 -0.002916071\n",
       "subject.biologicalSexMale24   Sex    IRAG2     0.005541831  0.004201108\n",
       "subject.biologicalSexMale25   Sex    COMT      0.079712229  0.051483716\n",
       "subject.biologicalSexMale26   Sex    MMP7      0.126287657 -0.131016284\n",
       "subject.biologicalSexMale27   Sex    PON2              NaN  0.174641463\n",
       "subject.biologicalSexMale28   Sex    ADAMTS16 -0.733167272 -0.079001650\n",
       "subject.biologicalSexMale29   Sex    GP2       1.084295501  0.856157102\n",
       "⋮                             ⋮      ⋮        ⋮            ⋮           \n",
       "subject.biologicalSexMale1442 Sex    FYB1      0.02233951   0.04011272 \n",
       "subject.biologicalSexMale1443 Sex    BLVRB    -0.02200483  -0.01942800 \n",
       "subject.biologicalSexMale1444 Sex    RELT      2.51040211   0.18897085 \n",
       "subject.biologicalSexMale1445 Sex    DBI      -0.76575442  -0.26853989 \n",
       "subject.biologicalSexMale1446 Sex    VSIG4    -0.52713124  -0.06447987 \n",
       "subject.biologicalSexMale1447 Sex    TNFRSF1B -0.73518455  -0.05444051 \n",
       "subject.biologicalSexMale1448 Sex    IGF2R    -0.40120887  -0.04499505 \n",
       "subject.biologicalSexMale1449 Sex    TIMP4    -1.18993161  -0.27179684 \n",
       "subject.biologicalSexMale1450 Sex    SPINK5    0.74062536   0.09935371 \n",
       "subject.biologicalSexMale1451 Sex    CA2       0.01610499   0.02877212 \n",
       "subject.biologicalSexMale1452 Sex    CTRB1    -0.32206293  -0.20238661 \n",
       "subject.biologicalSexMale1453 Sex    F11R     -0.11714618  -0.03928678 \n",
       "subject.biologicalSexMale1454 Sex    LILRA2           NaN  -0.15561239 \n",
       "subject.biologicalSexMale1455 Sex    PAMR1     0.50141799   0.09480096 \n",
       "subject.biologicalSexMale1456 Sex    TFF1      0.91819997  -0.16485521 \n",
       "subject.biologicalSexMale1457 Sex    TNFRSF1A -0.32983358  -0.03562420 \n",
       "subject.biologicalSexMale1458 Sex    CLPS     -0.07129874  -0.03030179 \n",
       "subject.biologicalSexMale1459 Sex    STC2     -0.37733777  -0.05670906 \n",
       "subject.biologicalSexMale1460 Sex    IGFBP4   -0.78611918  -0.16083661 \n",
       "subject.biologicalSexMale1461 Sex    GRN      -0.19480945  -0.03190444 \n",
       "subject.biologicalSexMale1462 Sex    PARK7     0.04025101   0.03507274 \n",
       "subject.biologicalSexMale1463 Sex    CASC4    -0.14809075  -0.03058297 \n",
       "subject.biologicalSexMale1464 Sex    WISP2     0.07643338   0.02610217 \n",
       "subject.biologicalSexMale1465 Sex    HARS     -0.02823673  -0.02175435 \n",
       "subject.biologicalSexMale1466 Sex    DARS     -0.14825022  -0.12759493 \n",
       "subject.biologicalSexMale1467 Sex    WISP1    -0.35701213  -0.11561667 \n",
       "subject.biologicalSexMale1468 Sex    FOPNL            NaN   0.59667899 \n",
       "subject.biologicalSexMale1469 Sex    CD97     -0.57818632  -0.12205145 \n",
       "subject.biologicalSexMale1470 Sex    LRMP      0.47887500   0.15495688 \n",
       "subject.biologicalSexMale1471 Sex    FGFR1OP   0.74547425   0.24246667 \n",
       "                              padj         Expression       \n",
       "subject.biologicalSexMale     1.000000e+00 Unchanged        \n",
       "subject.biologicalSexMale1    1.000000e+00 Unchanged        \n",
       "subject.biologicalSexMale2    1.000000e+00 Unchanged        \n",
       "subject.biologicalSexMale3    1.000000e+00 Unchanged        \n",
       "subject.biologicalSexMale4    1.000000e+00 Unchanged        \n",
       "subject.biologicalSexMale5    1.000000e+00 Unchanged        \n",
       "subject.biologicalSexMale6    1.000000e+00 Unchanged        \n",
       "subject.biologicalSexMale7    6.176803e-05 Up-regulated-Male\n",
       "subject.biologicalSexMale8    1.000000e+00 Unchanged        \n",
       "subject.biologicalSexMale9    1.000000e+00 Unchanged        \n",
       "subject.biologicalSexMale10   1.000000e+00 Unchanged        \n",
       "subject.biologicalSexMale11   1.000000e+00 Unchanged        \n",
       "subject.biologicalSexMale12   1.000000e+00 Unchanged        \n",
       "subject.biologicalSexMale13   1.000000e+00 Unchanged        \n",
       "subject.biologicalSexMale14   1.000000e+00 Unchanged        \n",
       "subject.biologicalSexMale15   1.389178e-05 Up-regulated-Male\n",
       "subject.biologicalSexMale16   3.621242e-01 Unchanged        \n",
       "subject.biologicalSexMale17   1.000000e+00 Unchanged        \n",
       "subject.biologicalSexMale18   1.000000e+00 Unchanged        \n",
       "subject.biologicalSexMale19   1.000000e+00 Unchanged        \n",
       "subject.biologicalSexMale20   1.000000e+00 Unchanged        \n",
       "subject.biologicalSexMale21   1.000000e+00 Unchanged        \n",
       "subject.biologicalSexMale22   1.000000e+00 Unchanged        \n",
       "subject.biologicalSexMale23   1.000000e+00 Unchanged        \n",
       "subject.biologicalSexMale24   1.000000e+00 Unchanged        \n",
       "subject.biologicalSexMale25   1.000000e+00 Unchanged        \n",
       "subject.biologicalSexMale26   1.000000e+00 Unchanged        \n",
       "subject.biologicalSexMale27   1.000000e+00 Unchanged        \n",
       "subject.biologicalSexMale28   1.000000e+00 Unchanged        \n",
       "subject.biologicalSexMale29   9.551742e-03 Up-regulated-Male\n",
       "⋮                             ⋮            ⋮                \n",
       "subject.biologicalSexMale1442 1            Unchanged        \n",
       "subject.biologicalSexMale1443 1            Unchanged        \n",
       "subject.biologicalSexMale1444 1            Unchanged        \n",
       "subject.biologicalSexMale1445 1            Unchanged        \n",
       "subject.biologicalSexMale1446 1            Unchanged        \n",
       "subject.biologicalSexMale1447 1            Unchanged        \n",
       "subject.biologicalSexMale1448 1            Unchanged        \n",
       "subject.biologicalSexMale1449 1            Unchanged        \n",
       "subject.biologicalSexMale1450 1            Unchanged        \n",
       "subject.biologicalSexMale1451 1            Unchanged        \n",
       "subject.biologicalSexMale1452 1            Unchanged        \n",
       "subject.biologicalSexMale1453 1            Unchanged        \n",
       "subject.biologicalSexMale1454 1            Unchanged        \n",
       "subject.biologicalSexMale1455 1            Unchanged        \n",
       "subject.biologicalSexMale1456 1            Unchanged        \n",
       "subject.biologicalSexMale1457 1            Unchanged        \n",
       "subject.biologicalSexMale1458 1            Unchanged        \n",
       "subject.biologicalSexMale1459 1            Unchanged        \n",
       "subject.biologicalSexMale1460 1            Unchanged        \n",
       "subject.biologicalSexMale1461 1            Unchanged        \n",
       "subject.biologicalSexMale1462 1            Unchanged        \n",
       "subject.biologicalSexMale1463 1            Unchanged        \n",
       "subject.biologicalSexMale1464 1            Unchanged        \n",
       "subject.biologicalSexMale1465 1            Unchanged        \n",
       "subject.biologicalSexMale1466 1            Unchanged        \n",
       "subject.biologicalSexMale1467 1            Unchanged        \n",
       "subject.biologicalSexMale1468 1            Unchanged        \n",
       "subject.biologicalSexMale1469 1            Unchanged        \n",
       "subject.biologicalSexMale1470 1            Unchanged        \n",
       "subject.biologicalSexMale1471 1            Unchanged        "
      ]
     },
     "metadata": {},
     "output_type": "display_data"
    }
   ],
   "source": [
    "data"
   ]
  },
  {
   "cell_type": "code",
   "execution_count": null,
   "id": "4a42152e-9d2f-4bcc-8ddc-2e86e3d40a99",
   "metadata": {},
   "outputs": [],
   "source": []
  }
 ],
 "metadata": {
  "kernelspec": {
   "display_name": "R 4",
   "language": "R",
   "name": "ir4"
  },
  "language_info": {
   "codemirror_mode": "r",
   "file_extension": ".r",
   "mimetype": "text/x-r-source",
   "name": "R",
   "pygments_lexer": "r",
   "version": "4.3.1"
  }
 },
 "nbformat": 4,
 "nbformat_minor": 5
}
