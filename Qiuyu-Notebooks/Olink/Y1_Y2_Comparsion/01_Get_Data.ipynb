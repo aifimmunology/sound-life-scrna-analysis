{
 "cells": [
  {
   "cell_type": "code",
   "execution_count": 1,
   "id": "94ad7192-9e45-4914-953a-795d3196f39d",
   "metadata": {
    "tags": []
   },
   "outputs": [
    {
     "name": "stderr",
     "output_type": "stream",
     "text": [
      "Loading required package: ggplot2\n",
      "\n",
      "\n",
      "Attaching package: ‘cowplot’\n",
      "\n",
      "\n",
      "The following object is masked from ‘package:ggpubr’:\n",
      "\n",
      "    get_legend\n",
      "\n",
      "\n",
      "── \u001b[1mAttaching core tidyverse packages\u001b[22m ──────────────────────── tidyverse 2.0.0 ──\n",
      "\u001b[32m✔\u001b[39m \u001b[34mdplyr    \u001b[39m 1.1.4     \u001b[32m✔\u001b[39m \u001b[34mreadr    \u001b[39m 2.1.5\n",
      "\u001b[32m✔\u001b[39m \u001b[34mforcats  \u001b[39m 1.0.0     \u001b[32m✔\u001b[39m \u001b[34mstringr  \u001b[39m 1.5.1\n",
      "\u001b[32m✔\u001b[39m \u001b[34mlubridate\u001b[39m 1.9.2     \u001b[32m✔\u001b[39m \u001b[34mtibble   \u001b[39m 3.2.1\n",
      "\u001b[32m✔\u001b[39m \u001b[34mpurrr    \u001b[39m 1.0.2     \u001b[32m✔\u001b[39m \u001b[34mtidyr    \u001b[39m 1.3.1\n",
      "── \u001b[1mConflicts\u001b[22m ────────────────────────────────────────── tidyverse_conflicts() ──\n",
      "\u001b[31m✖\u001b[39m \u001b[34mdplyr\u001b[39m::\u001b[32mfilter()\u001b[39m    masks \u001b[34mstats\u001b[39m::filter()\n",
      "\u001b[31m✖\u001b[39m \u001b[34mdplyr\u001b[39m::\u001b[32mlag()\u001b[39m       masks \u001b[34mstats\u001b[39m::lag()\n",
      "\u001b[31m✖\u001b[39m \u001b[34mlubridate\u001b[39m::\u001b[32mstamp()\u001b[39m masks \u001b[34mcowplot\u001b[39m::stamp()\n",
      "\u001b[36mℹ\u001b[39m Use the conflicted package (\u001b[3m\u001b[34m<http://conflicted.r-lib.org/>\u001b[39m\u001b[23m) to force all conflicts to become errors\n",
      "Loading required package: Matrix\n",
      "\n",
      "\n",
      "Attaching package: ‘Matrix’\n",
      "\n",
      "\n",
      "The following objects are masked from ‘package:tidyr’:\n",
      "\n",
      "    expand, pack, unpack\n",
      "\n",
      "\n"
     ]
    }
   ],
   "source": [
    "library(\"ggpubr\")\n",
    "library(\"cowplot\")\n",
    "library(\"tidyverse\")\n",
    "library(parallel)\n",
    "library(pheatmap)\n",
    "library(lme4)\n",
    "suppressPackageStartupMessages(library(readxl))\n",
    "suppressPackageStartupMessages(library(dplyr))\n",
    "suppressPackageStartupMessages(library(tidyr))\n",
    "suppressPackageStartupMessages(library(tibble))\n",
    "suppressPackageStartupMessages(library(ggplot2))\n",
    "suppressPackageStartupMessages(library(parallel))\n",
    "suppressPackageStartupMessages(library(patchwork))\n",
    "suppressPackageStartupMessages(library(plyr))\n",
    "suppressPackageStartupMessages(library(stringr))"
   ]
  },
  {
   "cell_type": "code",
   "execution_count": 2,
   "id": "f8162225-a33f-49b1-b0ec-887e4c29344a",
   "metadata": {
    "tags": []
   },
   "outputs": [],
   "source": [
    "fileDescToDataframe_beta <- function(descriptors,\n",
    "                                keep_labs = FALSE) {\n",
    "  descriptors<-descriptors[[1]]\n",
    "  assertthat::assert_that(typeof(descriptors) == \"list\")\n",
    "  assertthat::assert_that(typeof(keep_labs) == \"logical\")\n",
    "  \n",
    "  do.call(\n",
    "    rbind,\n",
    "    lapply(\n",
    "      descriptors,\n",
    "      function(desc) {\n",
    "        desc <- unlist(desc)\n",
    "        desc <- desc[!grepl(\"scheme\", names(desc))]\n",
    "        names(desc) <- sub(\"^descriptors.\",\"\",names(desc))\n",
    "        desc <- desc[!grepl(\"^specimens\", names(desc))]\n",
    "        desc <- desc[!grepl(\"^lab\", names(desc))]\n",
    "        desc <- desc[!grepl(\"^emr\", names(desc))]\n",
    "        desc <- desc[!grepl(\"^survey\", names(desc))]\n",
    "        desc <- desc[!grepl(\"^revision\", names(desc))]\n",
    "        desc <- desc[!grepl(\"^file.userTags\", names(desc))]\n",
    "        desc <- as.list(desc)\n",
    "        df <- as.data.frame(desc)\n",
    "        df\n",
    "      }\n",
    "    )\n",
    "  )\n",
    "}\n",
    "\n",
    "fileDescToDataframe <- function(descriptors,\n",
    "                                keep_labs = FALSE) {\n",
    "  assertthat::assert_that(typeof(descriptors) == \"list\")\n",
    "  assertthat::assert_that(typeof(keep_labs) == \"logical\")\n",
    "  do.call(\n",
    "    rbind,\n",
    "    lapply(\n",
    "      descriptors,\n",
    "      function(desc) {\n",
    "        desc <- unlist(desc)\n",
    "        desc <- desc[!grepl(\"scheme\", names(desc))]\n",
    "        names(desc) <- sub(\"^descriptors.\",\"\",names(desc))\n",
    "        desc <- desc[!grepl(\"^specimens\", names(desc))]\n",
    "        desc <- desc[!grepl(\"^lab\", names(desc))]\n",
    "        desc <- desc[!grepl(\"^emr\", names(desc))]\n",
    "        desc <- desc[!grepl(\"^survey\", names(desc))]\n",
    "        desc <- desc[!grepl(\"^revision\", names(desc))]\n",
    "        desc <- desc[!grepl(\"^file.userTags\", names(desc))]\n",
    "\n",
    "        desc <- as.list(desc)\n",
    "        df <- as.data.frame(desc)\n",
    "        df\n",
    "      }\n",
    "    )\n",
    "  )\n",
    "}"
   ]
  },
  {
   "cell_type": "code",
   "execution_count": 3,
   "id": "f32778e1-2332-42de-ad65-7392f629182b",
   "metadata": {
    "tags": []
   },
   "outputs": [
    {
     "name": "stderr",
     "output_type": "stream",
     "text": [
      "trying to submit request as query id...\n",
      "\n",
      "user did not submit a query ID..\n",
      "\n",
      "Retrying query on different end point...\n",
      "\n",
      "Querying and downloading data onto IDE...\n",
      "\n"
     ]
    },
    {
     "name": "stdout",
     "output_type": "stream",
     "text": [
      "[1] \"Initiating file download for 20201752_Skene_1820_NPX_2020-12-03.xlsx\"\n",
      "[1] \"Download successful.\"\n"
     ]
    },
    {
     "ename": "ERROR",
     "evalue": "Error in if (out[[fidx]]$descriptors$file$id != fileIds[[fidx]]) {: argument is of length zero\n",
     "output_type": "error",
     "traceback": [
      "Error in if (out[[fidx]]$descriptors$file$id != fileIds[[fidx]]) {: argument is of length zero\nTraceback:\n",
      "1. hise::readFiles(list(\"c142f67d-403b-457f-ae17-accc5089399f\"))",
      "2. readFilesWorker(fileIds, params = params)"
     ]
    }
   ],
   "source": [
    "fres_first_batch <- hise::readFiles(list('c142f67d-403b-457f-ae17-accc5089399f'))"
   ]
  },
  {
   "cell_type": "code",
   "execution_count": 4,
   "id": "408aa181-fb02-426a-bf78-d0622a454067",
   "metadata": {
    "tags": []
   },
   "outputs": [
    {
     "name": "stderr",
     "output_type": "stream",
     "text": [
      "Querying and downloading data onto IDE...\n",
      "\n"
     ]
    },
    {
     "name": "stdout",
     "output_type": "stream",
     "text": [
      "[1] \"Initiating file download for Q-04064_olink_bridged_results.csv\"\n",
      "[1] \"Download successful.\"\n",
      "[1] \"Initiating file download for 20211036_Skene_NPX_2021-08-17_Bridged20210903.csv\"\n",
      "[1] \"Download successful.\"\n",
      "[1] \"Initiating file download for 20212223_olink_bridged_results.csv\"\n",
      "[1] \"Download successful.\"\n",
      "[1] \"Initiating file download for 20211037_Skene_NPX_2021-06-18_Bridged20210823_v2.csv\"\n",
      "[1] \"Download successful.\"\n",
      "[1] \"Initiating file download for Q-02017_olink_bridged_results.csv\"\n",
      "[1] \"Download successful.\"\n"
     ]
    }
   ],
   "source": [
    "fres1 <- hise::readFiles(list(\"b494cce8-1314-4f6e-9666-42f0c6e1c702\",\n",
    "                              \"00753770-4803-4947-a290-e7469c410067\", \n",
    "                              \"59f5f656-085f-4d0b-a240-68a9eb15e68e\", \n",
    "                              \"1a528317-bbf3-45b7-82c9-529577cf0b15\", \n",
    "                              \"55d5d20a-506a-459e-8315-7d66276fb8f9\"))"
   ]
  },
  {
   "cell_type": "code",
   "execution_count": 5,
   "id": "685156fc-921b-497e-8736-b2f8d3917af9",
   "metadata": {
    "tags": []
   },
   "outputs": [],
   "source": [
    "fres1<-fileDescToDataframe(fres1)\n"
   ]
  },
  {
   "cell_type": "code",
   "execution_count": 6,
   "id": "01c444cf-6ea6-4d78-82c3-a06fdafbf754",
   "metadata": {
    "tags": []
   },
   "outputs": [],
   "source": [
    "first_batch<-read_excel('cache/c142f67d-403b-457f-ae17-accc5089399f/20201752_Skene_1820_NPX_2020-12-03.xlsx')"
   ]
  },
  {
   "cell_type": "code",
   "execution_count": 7,
   "id": "caed5a9c-8747-4952-ae02-0308196a191f",
   "metadata": {
    "tags": []
   },
   "outputs": [],
   "source": [
    "first_batch$batch<-'First_Batch'"
   ]
  },
  {
   "cell_type": "code",
   "execution_count": 8,
   "id": "933692d9-77b1-4802-82ce-d2247bcc1ab2",
   "metadata": {
    "tags": []
   },
   "outputs": [],
   "source": [
    "batch1<-read.csv(fres1$file[1])\n",
    "batch2<-read.csv(fres1$file[2])\n",
    "batch3<-read.csv(fres1$file[3])\n",
    "batch4<-read.csv(fres1$file[4])\n",
    "batch5<-read.csv(fres1$file[5])"
   ]
  },
  {
   "cell_type": "code",
   "execution_count": 9,
   "id": "c25d16ac-4536-4f07-9173-cfb976e9bc88",
   "metadata": {
    "tags": []
   },
   "outputs": [],
   "source": [
    "batch1$batch<-\"Batch1_Bridged\"\n",
    "batch2$batch<-\"Batch2_Bridged\"\n",
    "batch3$batch<-\"Batch3_Bridged\"\n",
    "batch4$batch<-\"Batch4_Bridged\"\n",
    "batch5$batch<-\"Batch5_Bridged\""
   ]
  },
  {
   "cell_type": "code",
   "execution_count": 10,
   "id": "d28c34d0-1041-4bd2-a1ef-f9ca7fd00dfd",
   "metadata": {
    "tags": []
   },
   "outputs": [],
   "source": [
    "batch3$sample.sampleKitGuid<-batch3$SampleKitGuid"
   ]
  },
  {
   "cell_type": "code",
   "execution_count": 11,
   "id": "8fd3c13e-564f-42b0-afdb-04b7a59e0b23",
   "metadata": {
    "tags": []
   },
   "outputs": [],
   "source": [
    "batch1$sample.sampleKitGuid<-batch1$SampleKitGuid"
   ]
  },
  {
   "cell_type": "code",
   "execution_count": 12,
   "id": "7170ef4d-1811-4178-bc68-9d8ccf4ec8cb",
   "metadata": {
    "tags": []
   },
   "outputs": [],
   "source": [
    "batch5$sample.sampleKitGuid<-batch5$SampleKitGuid"
   ]
  },
  {
   "cell_type": "code",
   "execution_count": 13,
   "id": "896863f3-3972-4b2c-9ef0-3234b0724633",
   "metadata": {
    "tags": []
   },
   "outputs": [],
   "source": [
    "first_batch$sample.sampleKitGuid<-paste0(\"KT\",str_sub(first_batch$SampleID,3,7))\n",
    "first_batch$NPX_bridged<-first_batch$NPX"
   ]
  },
  {
   "cell_type": "code",
   "execution_count": 14,
   "id": "49b85c5f-0afa-437f-8023-432d957db5b8",
   "metadata": {
    "tags": []
   },
   "outputs": [],
   "source": [
    "all<-rbind.fill(list(batch1,batch2,batch3,batch4,batch5,first_batch))"
   ]
  },
  {
   "cell_type": "code",
   "execution_count": 15,
   "id": "a9d79195-61f6-43e9-aa57-48d6c563bdc2",
   "metadata": {
    "tags": []
   },
   "outputs": [],
   "source": [
    "all<-all%>% filter(!(Panel%in% c('Cardiometabolic','Neurology','Oncology')&Assay %in% c('TNF',\"IL6\",\"CXCL8\")))"
   ]
  },
  {
   "cell_type": "code",
   "execution_count": 16,
   "id": "cf3a4dfc-4577-4e59-aadb-8ce8dd242b1a",
   "metadata": {
    "tags": []
   },
   "outputs": [],
   "source": [
    "Olink<-unique(all[c(\"sample.sampleKitGuid\",\"NPX_bridged\",\"Assay\",'batch')])"
   ]
  },
  {
   "cell_type": "code",
   "execution_count": 17,
   "id": "0601f3f8-621c-4129-ac07-ef4e3ddc1932",
   "metadata": {
    "tags": []
   },
   "outputs": [],
   "source": [
    "write.csv(Olink,'Olink.csv')"
   ]
  },
  {
   "cell_type": "code",
   "execution_count": null,
   "id": "10f47387-8252-435f-92c0-441eff093f83",
   "metadata": {},
   "outputs": [],
   "source": []
  }
 ],
 "metadata": {
  "kernelspec": {
   "display_name": "R 4",
   "language": "R",
   "name": "ir4"
  },
  "language_info": {
   "codemirror_mode": "r",
   "file_extension": ".r",
   "mimetype": "text/x-r-source",
   "name": "R",
   "pygments_lexer": "r",
   "version": "4.3.1"
  }
 },
 "nbformat": 4,
 "nbformat_minor": 5
}
