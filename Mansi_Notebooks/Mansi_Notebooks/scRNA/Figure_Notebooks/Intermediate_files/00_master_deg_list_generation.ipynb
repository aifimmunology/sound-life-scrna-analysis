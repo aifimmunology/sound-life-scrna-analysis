{
 "cells": [
  {
   "cell_type": "code",
   "execution_count": 1,
   "id": "0c31fbb6-2fc0-45d3-8c9f-0090a6170f37",
   "metadata": {
    "tags": []
   },
   "outputs": [
    {
     "name": "stderr",
     "output_type": "stream",
     "text": [
      "------------------------------------------------------------------------------\n",
      "\n",
      "You have loaded plyr after dplyr - this is likely to cause problems.\n",
      "If you need functions from both plyr and dplyr, please load plyr first, then dplyr:\n",
      "library(plyr); library(dplyr)\n",
      "\n",
      "------------------------------------------------------------------------------\n",
      "\n",
      "\n",
      "Attaching package: ‘plyr’\n",
      "\n",
      "\n",
      "The following objects are masked from ‘package:dplyr’:\n",
      "\n",
      "    arrange, count, desc, failwith, id, mutate, rename, summarise,\n",
      "    summarize\n",
      "\n",
      "\n",
      "\n",
      "Attaching package: ‘purrr’\n",
      "\n",
      "\n",
      "The following object is masked from ‘package:plyr’:\n",
      "\n",
      "    compact\n",
      "\n",
      "\n",
      "Loading required package: permute\n",
      "\n",
      "Loading required package: lattice\n",
      "\n",
      "This is vegan 2.6-4\n",
      "\n",
      "Loading required package: grid\n",
      "\n",
      "========================================\n",
      "ComplexHeatmap version 2.16.0\n",
      "Bioconductor page: http://bioconductor.org/packages/ComplexHeatmap/\n",
      "Github page: https://github.com/jokergoo/ComplexHeatmap\n",
      "Documentation: http://jokergoo.github.io/ComplexHeatmap-reference\n",
      "\n",
      "If you use it in published research, please cite either one:\n",
      "- Gu, Z. Complex Heatmap Visualization. iMeta 2022.\n",
      "- Gu, Z. Complex heatmaps reveal patterns and correlations in multidimensional \n",
      "    genomic data. Bioinformatics 2016.\n",
      "\n",
      "\n",
      "The new InteractiveComplexHeatmap package can directly export static \n",
      "complex heatmaps into an interactive Shiny app with zero effort. Have a try!\n",
      "\n",
      "This message can be suppressed by:\n",
      "  suppressPackageStartupMessages(library(ComplexHeatmap))\n",
      "========================================\n",
      "! pheatmap() has been masked by ComplexHeatmap::pheatmap(). Most of the arguments\n",
      "   in the original pheatmap() are identically supported in the new function. You \n",
      "   can still use the original function by explicitly calling pheatmap::pheatmap().\n",
      "\n",
      "\n",
      "\n",
      "Attaching package: ‘ComplexHeatmap’\n",
      "\n",
      "\n",
      "The following object is masked from ‘package:pheatmap’:\n",
      "\n",
      "    pheatmap\n",
      "\n",
      "\n",
      "── \u001b[1mAttaching core tidyverse packages\u001b[22m ──────────────────────── tidyverse 2.0.0 ──\n",
      "\u001b[32m✔\u001b[39m \u001b[34mforcats  \u001b[39m 1.0.0     \u001b[32m✔\u001b[39m \u001b[34mlubridate\u001b[39m 1.9.2\n",
      "\u001b[32m✔\u001b[39m \u001b[34mggplot2  \u001b[39m 3.4.3     \u001b[32m✔\u001b[39m \u001b[34mreadr    \u001b[39m 2.1.4\n",
      "── \u001b[1mConflicts\u001b[22m ────────────────────────────────────────── tidyverse_conflicts() ──\n",
      "\u001b[31m✖\u001b[39m \u001b[34mplyr\u001b[39m::\u001b[32marrange()\u001b[39m   masks \u001b[34mdplyr\u001b[39m::arrange()\n",
      "\u001b[31m✖\u001b[39m \u001b[34mpurrr\u001b[39m::\u001b[32mcompact()\u001b[39m  masks \u001b[34mplyr\u001b[39m::compact()\n",
      "\u001b[31m✖\u001b[39m \u001b[34mplyr\u001b[39m::\u001b[32mcount()\u001b[39m     masks \u001b[34mdplyr\u001b[39m::count()\n",
      "\u001b[31m✖\u001b[39m \u001b[34mplyr\u001b[39m::\u001b[32mdesc()\u001b[39m      masks \u001b[34mdplyr\u001b[39m::desc()\n",
      "\u001b[31m✖\u001b[39m \u001b[34mplyr\u001b[39m::\u001b[32mfailwith()\u001b[39m  masks \u001b[34mdplyr\u001b[39m::failwith()\n",
      "\u001b[31m✖\u001b[39m \u001b[34mdplyr\u001b[39m::\u001b[32mfilter()\u001b[39m   masks \u001b[34mstats\u001b[39m::filter()\n",
      "\u001b[31m✖\u001b[39m \u001b[34mplyr\u001b[39m::\u001b[32mid()\u001b[39m        masks \u001b[34mdplyr\u001b[39m::id()\n",
      "\u001b[31m✖\u001b[39m \u001b[34mdplyr\u001b[39m::\u001b[32mlag()\u001b[39m      masks \u001b[34mstats\u001b[39m::lag()\n",
      "\u001b[31m✖\u001b[39m \u001b[34mplyr\u001b[39m::\u001b[32mmutate()\u001b[39m    masks \u001b[34mdplyr\u001b[39m::mutate()\n",
      "\u001b[31m✖\u001b[39m \u001b[34mplyr\u001b[39m::\u001b[32mrename()\u001b[39m    masks \u001b[34mdplyr\u001b[39m::rename()\n",
      "\u001b[31m✖\u001b[39m \u001b[34mplyr\u001b[39m::\u001b[32msummarise()\u001b[39m masks \u001b[34mdplyr\u001b[39m::summarise()\n",
      "\u001b[31m✖\u001b[39m \u001b[34mplyr\u001b[39m::\u001b[32msummarize()\u001b[39m masks \u001b[34mdplyr\u001b[39m::summarize()\n",
      "\u001b[36mℹ\u001b[39m Use the conflicted package (\u001b[3m\u001b[34m<http://conflicted.r-lib.org/>\u001b[39m\u001b[23m) to force all conflicts to become errors\n"
     ]
    }
   ],
   "source": [
    "suppressPackageStartupMessages(library(readxl))\n",
    "suppressPackageStartupMessages(library(dplyr))\n",
    "suppressPackageStartupMessages(library(tidyr))\n",
    "suppressPackageStartupMessages(library(tibble))\n",
    "suppressPackageStartupMessages(library(patchwork))\n",
    "suppressPackageStartupMessages(library(pheatmap))\n",
    "suppressPackageStartupMessages(library(stringr))\n",
    "library(hise)\n",
    "library(plyr)\n",
    "library(purrr)\n",
    "library(vegan)\n",
    "#library(arrow)\n",
    "library(parallel)\n",
    "library(ComplexHeatmap)\n",
    "library(ggsci)\n",
    "library(tidyverse)"
   ]
  },
  {
   "cell_type": "markdown",
   "id": "fab51f53-ee7d-4e7b-9262-fb121e1a1215",
   "metadata": {
    "tags": []
   },
   "source": [
    "# Gather celltype files by DESEQ2 generated for Females only"
   ]
  },
  {
   "cell_type": "code",
   "execution_count": 2,
   "id": "b30de17b-d8bd-4281-91ca-28a73d311620",
   "metadata": {
    "tags": []
   },
   "outputs": [],
   "source": [
    "# gather all the DEG files in Males and Female seperately\n",
    "data_path = '/home/jupyter/IH-A-Aging-Analysis-Notebooks_old/Mansi_Notebooks/scRNA/DEG_Analysis/MS_Sex_DEG_analysis/DEG_cohort_splitby_sex_CSVfiles/Age_yr1_Day0_Female'\n",
    "\n",
    "#data_path = '/home/jupyter/IH-A-Aging-Analysis-Notebooks_old/Mansi_Notebooks/scRNA/DEG_Analysis/MS_Sex_DEG_analysis/DEG_cohort_splitby_sex_CSVfiles/Age_yr1_Day0_Male'\n"
   ]
  },
  {
   "cell_type": "code",
   "execution_count": 3,
   "id": "a2adb2fa-6227-4147-b3f5-09ec0fe8095c",
   "metadata": {
    "tags": []
   },
   "outputs": [],
   "source": [
    "# List all files ending with \".csv\" in the directory\n",
    "csv_files <- list.files(data_path, pattern = \"\\\\.csv$\", full.names = TRUE)\n",
    "\n",
    "# Display the list of CSV files\n",
    "#print(csv_files)"
   ]
  },
  {
   "cell_type": "code",
   "execution_count": 4,
   "id": "06b1e738-54d3-45e2-8518-8fdfcafb1aec",
   "metadata": {
    "tags": []
   },
   "outputs": [],
   "source": [
    "# Create an empty list to store data frames\n",
    "data_list <- list()\n",
    "\n",
    "# Loop through each CSV file, read it, and store it in the list\n",
    "for (file in csv_files) {\n",
    "  data <- read.csv(file)\n",
    "  data_list[[file]] <- data\n",
    "}"
   ]
  },
  {
   "cell_type": "code",
   "execution_count": 6,
   "id": "88024a5b-c19d-4381-aaec-d7075da982eb",
   "metadata": {
    "tags": []
   },
   "outputs": [
    {
     "data": {
      "text/html": [
       "<table class=\"dataframe\">\n",
       "<caption>A data.frame: 6 × 10</caption>\n",
       "<thead>\n",
       "\t<tr><th></th><th scope=col>X</th><th scope=col>baseMean</th><th scope=col>log2FoldChange</th><th scope=col>lfcSE</th><th scope=col>stat</th><th scope=col>pvalue</th><th scope=col>padj</th><th scope=col>celltype</th><th scope=col>Direction</th><th scope=col>Year</th></tr>\n",
       "\t<tr><th></th><th scope=col>&lt;chr&gt;</th><th scope=col>&lt;dbl&gt;</th><th scope=col>&lt;dbl&gt;</th><th scope=col>&lt;dbl&gt;</th><th scope=col>&lt;dbl&gt;</th><th scope=col>&lt;dbl&gt;</th><th scope=col>&lt;dbl&gt;</th><th scope=col>&lt;chr&gt;</th><th scope=col>&lt;chr&gt;</th><th scope=col>&lt;chr&gt;</th></tr>\n",
       "</thead>\n",
       "<tbody>\n",
       "\t<tr><th scope=row>/home/jupyter/IH-A-Aging-Analysis-Notebooks_old/Mansi_Notebooks/scRNA/DEG_Analysis/MS_Sex_DEG_analysis/DEG_cohort_splitby_sex_CSVfiles/Age_yr1_Day0_Female/Activated memory B cell_Y1D0.csv.1</th><td>NOC2L  </td><td>0.6755194</td><td>-0.63391584</td><td>0.6433089</td><td>-0.98539890</td><td>0.3244282</td><td>0.999827</td><td>Activated memory B cell</td><td>BR1</td><td>Y1</td></tr>\n",
       "\t<tr><th scope=row>/home/jupyter/IH-A-Aging-Analysis-Notebooks_old/Mansi_Notebooks/scRNA/DEG_Analysis/MS_Sex_DEG_analysis/DEG_cohort_splitby_sex_CSVfiles/Age_yr1_Day0_Female/Activated memory B cell_Y1D0.csv.2</th><td>ISG15  </td><td>1.0695630</td><td>-0.17236999</td><td>0.5515123</td><td>-0.31254059</td><td>0.7546297</td><td>0.999827</td><td>Activated memory B cell</td><td>BR1</td><td>Y1</td></tr>\n",
       "\t<tr><th scope=row>/home/jupyter/IH-A-Aging-Analysis-Notebooks_old/Mansi_Notebooks/scRNA/DEG_Analysis/MS_Sex_DEG_analysis/DEG_cohort_splitby_sex_CSVfiles/Age_yr1_Day0_Female/Activated memory B cell_Y1D0.csv.3</th><td>SDF4   </td><td>0.8391485</td><td>-0.10939778</td><td>0.5986429</td><td>-0.18274296</td><td>0.8549997</td><td>0.999827</td><td>Activated memory B cell</td><td>BR1</td><td>Y1</td></tr>\n",
       "\t<tr><th scope=row>/home/jupyter/IH-A-Aging-Analysis-Notebooks_old/Mansi_Notebooks/scRNA/DEG_Analysis/MS_Sex_DEG_analysis/DEG_cohort_splitby_sex_CSVfiles/Age_yr1_Day0_Female/Activated memory B cell_Y1D0.csv.4</th><td>B3GALT6</td><td>0.4226833</td><td>-0.05320132</td><td>0.7376413</td><td>-0.07212356</td><td>0.9425036</td><td>0.999827</td><td>Activated memory B cell</td><td>BR1</td><td>Y1</td></tr>\n",
       "\t<tr><th scope=row>/home/jupyter/IH-A-Aging-Analysis-Notebooks_old/Mansi_Notebooks/scRNA/DEG_Analysis/MS_Sex_DEG_analysis/DEG_cohort_splitby_sex_CSVfiles/Age_yr1_Day0_Female/Activated memory B cell_Y1D0.csv.5</th><td>UBE2J2 </td><td>1.1380289</td><td> 0.29006213</td><td>0.5256330</td><td> 0.55183395</td><td>0.5810621</td><td>0.999827</td><td>Activated memory B cell</td><td>BR2</td><td>Y1</td></tr>\n",
       "\t<tr><th scope=row>/home/jupyter/IH-A-Aging-Analysis-Notebooks_old/Mansi_Notebooks/scRNA/DEG_Analysis/MS_Sex_DEG_analysis/DEG_cohort_splitby_sex_CSVfiles/Age_yr1_Day0_Female/Activated memory B cell_Y1D0.csv.6</th><td>INTS11 </td><td>0.8266093</td><td>-0.34363920</td><td>0.5741588</td><td>-0.59850896</td><td>0.5495004</td><td>0.999827</td><td>Activated memory B cell</td><td>BR1</td><td>Y1</td></tr>\n",
       "</tbody>\n",
       "</table>\n"
      ],
      "text/latex": [
       "A data.frame: 6 × 10\n",
       "\\begin{tabular}{r|llllllllll}\n",
       "  & X & baseMean & log2FoldChange & lfcSE & stat & pvalue & padj & celltype & Direction & Year\\\\\n",
       "  & <chr> & <dbl> & <dbl> & <dbl> & <dbl> & <dbl> & <dbl> & <chr> & <chr> & <chr>\\\\\n",
       "\\hline\n",
       "\t/home/jupyter/IH-A-Aging-Analysis-Notebooks\\_old/Mansi\\_Notebooks/scRNA/DEG\\_Analysis/MS\\_Sex\\_DEG\\_analysis/DEG\\_cohort\\_splitby\\_sex\\_CSVfiles/Age\\_yr1\\_Day0\\_Female/Activated memory B cell\\_Y1D0.csv.1 & NOC2L   & 0.6755194 & -0.63391584 & 0.6433089 & -0.98539890 & 0.3244282 & 0.999827 & Activated memory B cell & BR1 & Y1\\\\\n",
       "\t/home/jupyter/IH-A-Aging-Analysis-Notebooks\\_old/Mansi\\_Notebooks/scRNA/DEG\\_Analysis/MS\\_Sex\\_DEG\\_analysis/DEG\\_cohort\\_splitby\\_sex\\_CSVfiles/Age\\_yr1\\_Day0\\_Female/Activated memory B cell\\_Y1D0.csv.2 & ISG15   & 1.0695630 & -0.17236999 & 0.5515123 & -0.31254059 & 0.7546297 & 0.999827 & Activated memory B cell & BR1 & Y1\\\\\n",
       "\t/home/jupyter/IH-A-Aging-Analysis-Notebooks\\_old/Mansi\\_Notebooks/scRNA/DEG\\_Analysis/MS\\_Sex\\_DEG\\_analysis/DEG\\_cohort\\_splitby\\_sex\\_CSVfiles/Age\\_yr1\\_Day0\\_Female/Activated memory B cell\\_Y1D0.csv.3 & SDF4    & 0.8391485 & -0.10939778 & 0.5986429 & -0.18274296 & 0.8549997 & 0.999827 & Activated memory B cell & BR1 & Y1\\\\\n",
       "\t/home/jupyter/IH-A-Aging-Analysis-Notebooks\\_old/Mansi\\_Notebooks/scRNA/DEG\\_Analysis/MS\\_Sex\\_DEG\\_analysis/DEG\\_cohort\\_splitby\\_sex\\_CSVfiles/Age\\_yr1\\_Day0\\_Female/Activated memory B cell\\_Y1D0.csv.4 & B3GALT6 & 0.4226833 & -0.05320132 & 0.7376413 & -0.07212356 & 0.9425036 & 0.999827 & Activated memory B cell & BR1 & Y1\\\\\n",
       "\t/home/jupyter/IH-A-Aging-Analysis-Notebooks\\_old/Mansi\\_Notebooks/scRNA/DEG\\_Analysis/MS\\_Sex\\_DEG\\_analysis/DEG\\_cohort\\_splitby\\_sex\\_CSVfiles/Age\\_yr1\\_Day0\\_Female/Activated memory B cell\\_Y1D0.csv.5 & UBE2J2  & 1.1380289 &  0.29006213 & 0.5256330 &  0.55183395 & 0.5810621 & 0.999827 & Activated memory B cell & BR2 & Y1\\\\\n",
       "\t/home/jupyter/IH-A-Aging-Analysis-Notebooks\\_old/Mansi\\_Notebooks/scRNA/DEG\\_Analysis/MS\\_Sex\\_DEG\\_analysis/DEG\\_cohort\\_splitby\\_sex\\_CSVfiles/Age\\_yr1\\_Day0\\_Female/Activated memory B cell\\_Y1D0.csv.6 & INTS11  & 0.8266093 & -0.34363920 & 0.5741588 & -0.59850896 & 0.5495004 & 0.999827 & Activated memory B cell & BR1 & Y1\\\\\n",
       "\\end{tabular}\n"
      ],
      "text/markdown": [
       "\n",
       "A data.frame: 6 × 10\n",
       "\n",
       "| <!--/--> | X &lt;chr&gt; | baseMean &lt;dbl&gt; | log2FoldChange &lt;dbl&gt; | lfcSE &lt;dbl&gt; | stat &lt;dbl&gt; | pvalue &lt;dbl&gt; | padj &lt;dbl&gt; | celltype &lt;chr&gt; | Direction &lt;chr&gt; | Year &lt;chr&gt; |\n",
       "|---|---|---|---|---|---|---|---|---|---|---|\n",
       "| /home/jupyter/IH-A-Aging-Analysis-Notebooks_old/Mansi_Notebooks/scRNA/DEG_Analysis/MS_Sex_DEG_analysis/DEG_cohort_splitby_sex_CSVfiles/Age_yr1_Day0_Female/Activated memory B cell_Y1D0.csv.1 | NOC2L   | 0.6755194 | -0.63391584 | 0.6433089 | -0.98539890 | 0.3244282 | 0.999827 | Activated memory B cell | BR1 | Y1 |\n",
       "| /home/jupyter/IH-A-Aging-Analysis-Notebooks_old/Mansi_Notebooks/scRNA/DEG_Analysis/MS_Sex_DEG_analysis/DEG_cohort_splitby_sex_CSVfiles/Age_yr1_Day0_Female/Activated memory B cell_Y1D0.csv.2 | ISG15   | 1.0695630 | -0.17236999 | 0.5515123 | -0.31254059 | 0.7546297 | 0.999827 | Activated memory B cell | BR1 | Y1 |\n",
       "| /home/jupyter/IH-A-Aging-Analysis-Notebooks_old/Mansi_Notebooks/scRNA/DEG_Analysis/MS_Sex_DEG_analysis/DEG_cohort_splitby_sex_CSVfiles/Age_yr1_Day0_Female/Activated memory B cell_Y1D0.csv.3 | SDF4    | 0.8391485 | -0.10939778 | 0.5986429 | -0.18274296 | 0.8549997 | 0.999827 | Activated memory B cell | BR1 | Y1 |\n",
       "| /home/jupyter/IH-A-Aging-Analysis-Notebooks_old/Mansi_Notebooks/scRNA/DEG_Analysis/MS_Sex_DEG_analysis/DEG_cohort_splitby_sex_CSVfiles/Age_yr1_Day0_Female/Activated memory B cell_Y1D0.csv.4 | B3GALT6 | 0.4226833 | -0.05320132 | 0.7376413 | -0.07212356 | 0.9425036 | 0.999827 | Activated memory B cell | BR1 | Y1 |\n",
       "| /home/jupyter/IH-A-Aging-Analysis-Notebooks_old/Mansi_Notebooks/scRNA/DEG_Analysis/MS_Sex_DEG_analysis/DEG_cohort_splitby_sex_CSVfiles/Age_yr1_Day0_Female/Activated memory B cell_Y1D0.csv.5 | UBE2J2  | 1.1380289 |  0.29006213 | 0.5256330 |  0.55183395 | 0.5810621 | 0.999827 | Activated memory B cell | BR2 | Y1 |\n",
       "| /home/jupyter/IH-A-Aging-Analysis-Notebooks_old/Mansi_Notebooks/scRNA/DEG_Analysis/MS_Sex_DEG_analysis/DEG_cohort_splitby_sex_CSVfiles/Age_yr1_Day0_Female/Activated memory B cell_Y1D0.csv.6 | INTS11  | 0.8266093 | -0.34363920 | 0.5741588 | -0.59850896 | 0.5495004 | 0.999827 | Activated memory B cell | BR1 | Y1 |\n",
       "\n"
      ],
      "text/plain": [
       "                                                                                                                                                                                              X      \n",
       "/home/jupyter/IH-A-Aging-Analysis-Notebooks_old/Mansi_Notebooks/scRNA/DEG_Analysis/MS_Sex_DEG_analysis/DEG_cohort_splitby_sex_CSVfiles/Age_yr1_Day0_Female/Activated memory B cell_Y1D0.csv.1 NOC2L  \n",
       "/home/jupyter/IH-A-Aging-Analysis-Notebooks_old/Mansi_Notebooks/scRNA/DEG_Analysis/MS_Sex_DEG_analysis/DEG_cohort_splitby_sex_CSVfiles/Age_yr1_Day0_Female/Activated memory B cell_Y1D0.csv.2 ISG15  \n",
       "/home/jupyter/IH-A-Aging-Analysis-Notebooks_old/Mansi_Notebooks/scRNA/DEG_Analysis/MS_Sex_DEG_analysis/DEG_cohort_splitby_sex_CSVfiles/Age_yr1_Day0_Female/Activated memory B cell_Y1D0.csv.3 SDF4   \n",
       "/home/jupyter/IH-A-Aging-Analysis-Notebooks_old/Mansi_Notebooks/scRNA/DEG_Analysis/MS_Sex_DEG_analysis/DEG_cohort_splitby_sex_CSVfiles/Age_yr1_Day0_Female/Activated memory B cell_Y1D0.csv.4 B3GALT6\n",
       "/home/jupyter/IH-A-Aging-Analysis-Notebooks_old/Mansi_Notebooks/scRNA/DEG_Analysis/MS_Sex_DEG_analysis/DEG_cohort_splitby_sex_CSVfiles/Age_yr1_Day0_Female/Activated memory B cell_Y1D0.csv.5 UBE2J2 \n",
       "/home/jupyter/IH-A-Aging-Analysis-Notebooks_old/Mansi_Notebooks/scRNA/DEG_Analysis/MS_Sex_DEG_analysis/DEG_cohort_splitby_sex_CSVfiles/Age_yr1_Day0_Female/Activated memory B cell_Y1D0.csv.6 INTS11 \n",
       "                                                                                                                                                                                              baseMean \n",
       "/home/jupyter/IH-A-Aging-Analysis-Notebooks_old/Mansi_Notebooks/scRNA/DEG_Analysis/MS_Sex_DEG_analysis/DEG_cohort_splitby_sex_CSVfiles/Age_yr1_Day0_Female/Activated memory B cell_Y1D0.csv.1 0.6755194\n",
       "/home/jupyter/IH-A-Aging-Analysis-Notebooks_old/Mansi_Notebooks/scRNA/DEG_Analysis/MS_Sex_DEG_analysis/DEG_cohort_splitby_sex_CSVfiles/Age_yr1_Day0_Female/Activated memory B cell_Y1D0.csv.2 1.0695630\n",
       "/home/jupyter/IH-A-Aging-Analysis-Notebooks_old/Mansi_Notebooks/scRNA/DEG_Analysis/MS_Sex_DEG_analysis/DEG_cohort_splitby_sex_CSVfiles/Age_yr1_Day0_Female/Activated memory B cell_Y1D0.csv.3 0.8391485\n",
       "/home/jupyter/IH-A-Aging-Analysis-Notebooks_old/Mansi_Notebooks/scRNA/DEG_Analysis/MS_Sex_DEG_analysis/DEG_cohort_splitby_sex_CSVfiles/Age_yr1_Day0_Female/Activated memory B cell_Y1D0.csv.4 0.4226833\n",
       "/home/jupyter/IH-A-Aging-Analysis-Notebooks_old/Mansi_Notebooks/scRNA/DEG_Analysis/MS_Sex_DEG_analysis/DEG_cohort_splitby_sex_CSVfiles/Age_yr1_Day0_Female/Activated memory B cell_Y1D0.csv.5 1.1380289\n",
       "/home/jupyter/IH-A-Aging-Analysis-Notebooks_old/Mansi_Notebooks/scRNA/DEG_Analysis/MS_Sex_DEG_analysis/DEG_cohort_splitby_sex_CSVfiles/Age_yr1_Day0_Female/Activated memory B cell_Y1D0.csv.6 0.8266093\n",
       "                                                                                                                                                                                              log2FoldChange\n",
       "/home/jupyter/IH-A-Aging-Analysis-Notebooks_old/Mansi_Notebooks/scRNA/DEG_Analysis/MS_Sex_DEG_analysis/DEG_cohort_splitby_sex_CSVfiles/Age_yr1_Day0_Female/Activated memory B cell_Y1D0.csv.1 -0.63391584   \n",
       "/home/jupyter/IH-A-Aging-Analysis-Notebooks_old/Mansi_Notebooks/scRNA/DEG_Analysis/MS_Sex_DEG_analysis/DEG_cohort_splitby_sex_CSVfiles/Age_yr1_Day0_Female/Activated memory B cell_Y1D0.csv.2 -0.17236999   \n",
       "/home/jupyter/IH-A-Aging-Analysis-Notebooks_old/Mansi_Notebooks/scRNA/DEG_Analysis/MS_Sex_DEG_analysis/DEG_cohort_splitby_sex_CSVfiles/Age_yr1_Day0_Female/Activated memory B cell_Y1D0.csv.3 -0.10939778   \n",
       "/home/jupyter/IH-A-Aging-Analysis-Notebooks_old/Mansi_Notebooks/scRNA/DEG_Analysis/MS_Sex_DEG_analysis/DEG_cohort_splitby_sex_CSVfiles/Age_yr1_Day0_Female/Activated memory B cell_Y1D0.csv.4 -0.05320132   \n",
       "/home/jupyter/IH-A-Aging-Analysis-Notebooks_old/Mansi_Notebooks/scRNA/DEG_Analysis/MS_Sex_DEG_analysis/DEG_cohort_splitby_sex_CSVfiles/Age_yr1_Day0_Female/Activated memory B cell_Y1D0.csv.5  0.29006213   \n",
       "/home/jupyter/IH-A-Aging-Analysis-Notebooks_old/Mansi_Notebooks/scRNA/DEG_Analysis/MS_Sex_DEG_analysis/DEG_cohort_splitby_sex_CSVfiles/Age_yr1_Day0_Female/Activated memory B cell_Y1D0.csv.6 -0.34363920   \n",
       "                                                                                                                                                                                              lfcSE    \n",
       "/home/jupyter/IH-A-Aging-Analysis-Notebooks_old/Mansi_Notebooks/scRNA/DEG_Analysis/MS_Sex_DEG_analysis/DEG_cohort_splitby_sex_CSVfiles/Age_yr1_Day0_Female/Activated memory B cell_Y1D0.csv.1 0.6433089\n",
       "/home/jupyter/IH-A-Aging-Analysis-Notebooks_old/Mansi_Notebooks/scRNA/DEG_Analysis/MS_Sex_DEG_analysis/DEG_cohort_splitby_sex_CSVfiles/Age_yr1_Day0_Female/Activated memory B cell_Y1D0.csv.2 0.5515123\n",
       "/home/jupyter/IH-A-Aging-Analysis-Notebooks_old/Mansi_Notebooks/scRNA/DEG_Analysis/MS_Sex_DEG_analysis/DEG_cohort_splitby_sex_CSVfiles/Age_yr1_Day0_Female/Activated memory B cell_Y1D0.csv.3 0.5986429\n",
       "/home/jupyter/IH-A-Aging-Analysis-Notebooks_old/Mansi_Notebooks/scRNA/DEG_Analysis/MS_Sex_DEG_analysis/DEG_cohort_splitby_sex_CSVfiles/Age_yr1_Day0_Female/Activated memory B cell_Y1D0.csv.4 0.7376413\n",
       "/home/jupyter/IH-A-Aging-Analysis-Notebooks_old/Mansi_Notebooks/scRNA/DEG_Analysis/MS_Sex_DEG_analysis/DEG_cohort_splitby_sex_CSVfiles/Age_yr1_Day0_Female/Activated memory B cell_Y1D0.csv.5 0.5256330\n",
       "/home/jupyter/IH-A-Aging-Analysis-Notebooks_old/Mansi_Notebooks/scRNA/DEG_Analysis/MS_Sex_DEG_analysis/DEG_cohort_splitby_sex_CSVfiles/Age_yr1_Day0_Female/Activated memory B cell_Y1D0.csv.6 0.5741588\n",
       "                                                                                                                                                                                              stat       \n",
       "/home/jupyter/IH-A-Aging-Analysis-Notebooks_old/Mansi_Notebooks/scRNA/DEG_Analysis/MS_Sex_DEG_analysis/DEG_cohort_splitby_sex_CSVfiles/Age_yr1_Day0_Female/Activated memory B cell_Y1D0.csv.1 -0.98539890\n",
       "/home/jupyter/IH-A-Aging-Analysis-Notebooks_old/Mansi_Notebooks/scRNA/DEG_Analysis/MS_Sex_DEG_analysis/DEG_cohort_splitby_sex_CSVfiles/Age_yr1_Day0_Female/Activated memory B cell_Y1D0.csv.2 -0.31254059\n",
       "/home/jupyter/IH-A-Aging-Analysis-Notebooks_old/Mansi_Notebooks/scRNA/DEG_Analysis/MS_Sex_DEG_analysis/DEG_cohort_splitby_sex_CSVfiles/Age_yr1_Day0_Female/Activated memory B cell_Y1D0.csv.3 -0.18274296\n",
       "/home/jupyter/IH-A-Aging-Analysis-Notebooks_old/Mansi_Notebooks/scRNA/DEG_Analysis/MS_Sex_DEG_analysis/DEG_cohort_splitby_sex_CSVfiles/Age_yr1_Day0_Female/Activated memory B cell_Y1D0.csv.4 -0.07212356\n",
       "/home/jupyter/IH-A-Aging-Analysis-Notebooks_old/Mansi_Notebooks/scRNA/DEG_Analysis/MS_Sex_DEG_analysis/DEG_cohort_splitby_sex_CSVfiles/Age_yr1_Day0_Female/Activated memory B cell_Y1D0.csv.5  0.55183395\n",
       "/home/jupyter/IH-A-Aging-Analysis-Notebooks_old/Mansi_Notebooks/scRNA/DEG_Analysis/MS_Sex_DEG_analysis/DEG_cohort_splitby_sex_CSVfiles/Age_yr1_Day0_Female/Activated memory B cell_Y1D0.csv.6 -0.59850896\n",
       "                                                                                                                                                                                              pvalue   \n",
       "/home/jupyter/IH-A-Aging-Analysis-Notebooks_old/Mansi_Notebooks/scRNA/DEG_Analysis/MS_Sex_DEG_analysis/DEG_cohort_splitby_sex_CSVfiles/Age_yr1_Day0_Female/Activated memory B cell_Y1D0.csv.1 0.3244282\n",
       "/home/jupyter/IH-A-Aging-Analysis-Notebooks_old/Mansi_Notebooks/scRNA/DEG_Analysis/MS_Sex_DEG_analysis/DEG_cohort_splitby_sex_CSVfiles/Age_yr1_Day0_Female/Activated memory B cell_Y1D0.csv.2 0.7546297\n",
       "/home/jupyter/IH-A-Aging-Analysis-Notebooks_old/Mansi_Notebooks/scRNA/DEG_Analysis/MS_Sex_DEG_analysis/DEG_cohort_splitby_sex_CSVfiles/Age_yr1_Day0_Female/Activated memory B cell_Y1D0.csv.3 0.8549997\n",
       "/home/jupyter/IH-A-Aging-Analysis-Notebooks_old/Mansi_Notebooks/scRNA/DEG_Analysis/MS_Sex_DEG_analysis/DEG_cohort_splitby_sex_CSVfiles/Age_yr1_Day0_Female/Activated memory B cell_Y1D0.csv.4 0.9425036\n",
       "/home/jupyter/IH-A-Aging-Analysis-Notebooks_old/Mansi_Notebooks/scRNA/DEG_Analysis/MS_Sex_DEG_analysis/DEG_cohort_splitby_sex_CSVfiles/Age_yr1_Day0_Female/Activated memory B cell_Y1D0.csv.5 0.5810621\n",
       "/home/jupyter/IH-A-Aging-Analysis-Notebooks_old/Mansi_Notebooks/scRNA/DEG_Analysis/MS_Sex_DEG_analysis/DEG_cohort_splitby_sex_CSVfiles/Age_yr1_Day0_Female/Activated memory B cell_Y1D0.csv.6 0.5495004\n",
       "                                                                                                                                                                                              padj    \n",
       "/home/jupyter/IH-A-Aging-Analysis-Notebooks_old/Mansi_Notebooks/scRNA/DEG_Analysis/MS_Sex_DEG_analysis/DEG_cohort_splitby_sex_CSVfiles/Age_yr1_Day0_Female/Activated memory B cell_Y1D0.csv.1 0.999827\n",
       "/home/jupyter/IH-A-Aging-Analysis-Notebooks_old/Mansi_Notebooks/scRNA/DEG_Analysis/MS_Sex_DEG_analysis/DEG_cohort_splitby_sex_CSVfiles/Age_yr1_Day0_Female/Activated memory B cell_Y1D0.csv.2 0.999827\n",
       "/home/jupyter/IH-A-Aging-Analysis-Notebooks_old/Mansi_Notebooks/scRNA/DEG_Analysis/MS_Sex_DEG_analysis/DEG_cohort_splitby_sex_CSVfiles/Age_yr1_Day0_Female/Activated memory B cell_Y1D0.csv.3 0.999827\n",
       "/home/jupyter/IH-A-Aging-Analysis-Notebooks_old/Mansi_Notebooks/scRNA/DEG_Analysis/MS_Sex_DEG_analysis/DEG_cohort_splitby_sex_CSVfiles/Age_yr1_Day0_Female/Activated memory B cell_Y1D0.csv.4 0.999827\n",
       "/home/jupyter/IH-A-Aging-Analysis-Notebooks_old/Mansi_Notebooks/scRNA/DEG_Analysis/MS_Sex_DEG_analysis/DEG_cohort_splitby_sex_CSVfiles/Age_yr1_Day0_Female/Activated memory B cell_Y1D0.csv.5 0.999827\n",
       "/home/jupyter/IH-A-Aging-Analysis-Notebooks_old/Mansi_Notebooks/scRNA/DEG_Analysis/MS_Sex_DEG_analysis/DEG_cohort_splitby_sex_CSVfiles/Age_yr1_Day0_Female/Activated memory B cell_Y1D0.csv.6 0.999827\n",
       "                                                                                                                                                                                              celltype               \n",
       "/home/jupyter/IH-A-Aging-Analysis-Notebooks_old/Mansi_Notebooks/scRNA/DEG_Analysis/MS_Sex_DEG_analysis/DEG_cohort_splitby_sex_CSVfiles/Age_yr1_Day0_Female/Activated memory B cell_Y1D0.csv.1 Activated memory B cell\n",
       "/home/jupyter/IH-A-Aging-Analysis-Notebooks_old/Mansi_Notebooks/scRNA/DEG_Analysis/MS_Sex_DEG_analysis/DEG_cohort_splitby_sex_CSVfiles/Age_yr1_Day0_Female/Activated memory B cell_Y1D0.csv.2 Activated memory B cell\n",
       "/home/jupyter/IH-A-Aging-Analysis-Notebooks_old/Mansi_Notebooks/scRNA/DEG_Analysis/MS_Sex_DEG_analysis/DEG_cohort_splitby_sex_CSVfiles/Age_yr1_Day0_Female/Activated memory B cell_Y1D0.csv.3 Activated memory B cell\n",
       "/home/jupyter/IH-A-Aging-Analysis-Notebooks_old/Mansi_Notebooks/scRNA/DEG_Analysis/MS_Sex_DEG_analysis/DEG_cohort_splitby_sex_CSVfiles/Age_yr1_Day0_Female/Activated memory B cell_Y1D0.csv.4 Activated memory B cell\n",
       "/home/jupyter/IH-A-Aging-Analysis-Notebooks_old/Mansi_Notebooks/scRNA/DEG_Analysis/MS_Sex_DEG_analysis/DEG_cohort_splitby_sex_CSVfiles/Age_yr1_Day0_Female/Activated memory B cell_Y1D0.csv.5 Activated memory B cell\n",
       "/home/jupyter/IH-A-Aging-Analysis-Notebooks_old/Mansi_Notebooks/scRNA/DEG_Analysis/MS_Sex_DEG_analysis/DEG_cohort_splitby_sex_CSVfiles/Age_yr1_Day0_Female/Activated memory B cell_Y1D0.csv.6 Activated memory B cell\n",
       "                                                                                                                                                                                              Direction\n",
       "/home/jupyter/IH-A-Aging-Analysis-Notebooks_old/Mansi_Notebooks/scRNA/DEG_Analysis/MS_Sex_DEG_analysis/DEG_cohort_splitby_sex_CSVfiles/Age_yr1_Day0_Female/Activated memory B cell_Y1D0.csv.1 BR1      \n",
       "/home/jupyter/IH-A-Aging-Analysis-Notebooks_old/Mansi_Notebooks/scRNA/DEG_Analysis/MS_Sex_DEG_analysis/DEG_cohort_splitby_sex_CSVfiles/Age_yr1_Day0_Female/Activated memory B cell_Y1D0.csv.2 BR1      \n",
       "/home/jupyter/IH-A-Aging-Analysis-Notebooks_old/Mansi_Notebooks/scRNA/DEG_Analysis/MS_Sex_DEG_analysis/DEG_cohort_splitby_sex_CSVfiles/Age_yr1_Day0_Female/Activated memory B cell_Y1D0.csv.3 BR1      \n",
       "/home/jupyter/IH-A-Aging-Analysis-Notebooks_old/Mansi_Notebooks/scRNA/DEG_Analysis/MS_Sex_DEG_analysis/DEG_cohort_splitby_sex_CSVfiles/Age_yr1_Day0_Female/Activated memory B cell_Y1D0.csv.4 BR1      \n",
       "/home/jupyter/IH-A-Aging-Analysis-Notebooks_old/Mansi_Notebooks/scRNA/DEG_Analysis/MS_Sex_DEG_analysis/DEG_cohort_splitby_sex_CSVfiles/Age_yr1_Day0_Female/Activated memory B cell_Y1D0.csv.5 BR2      \n",
       "/home/jupyter/IH-A-Aging-Analysis-Notebooks_old/Mansi_Notebooks/scRNA/DEG_Analysis/MS_Sex_DEG_analysis/DEG_cohort_splitby_sex_CSVfiles/Age_yr1_Day0_Female/Activated memory B cell_Y1D0.csv.6 BR1      \n",
       "                                                                                                                                                                                              Year\n",
       "/home/jupyter/IH-A-Aging-Analysis-Notebooks_old/Mansi_Notebooks/scRNA/DEG_Analysis/MS_Sex_DEG_analysis/DEG_cohort_splitby_sex_CSVfiles/Age_yr1_Day0_Female/Activated memory B cell_Y1D0.csv.1 Y1  \n",
       "/home/jupyter/IH-A-Aging-Analysis-Notebooks_old/Mansi_Notebooks/scRNA/DEG_Analysis/MS_Sex_DEG_analysis/DEG_cohort_splitby_sex_CSVfiles/Age_yr1_Day0_Female/Activated memory B cell_Y1D0.csv.2 Y1  \n",
       "/home/jupyter/IH-A-Aging-Analysis-Notebooks_old/Mansi_Notebooks/scRNA/DEG_Analysis/MS_Sex_DEG_analysis/DEG_cohort_splitby_sex_CSVfiles/Age_yr1_Day0_Female/Activated memory B cell_Y1D0.csv.3 Y1  \n",
       "/home/jupyter/IH-A-Aging-Analysis-Notebooks_old/Mansi_Notebooks/scRNA/DEG_Analysis/MS_Sex_DEG_analysis/DEG_cohort_splitby_sex_CSVfiles/Age_yr1_Day0_Female/Activated memory B cell_Y1D0.csv.4 Y1  \n",
       "/home/jupyter/IH-A-Aging-Analysis-Notebooks_old/Mansi_Notebooks/scRNA/DEG_Analysis/MS_Sex_DEG_analysis/DEG_cohort_splitby_sex_CSVfiles/Age_yr1_Day0_Female/Activated memory B cell_Y1D0.csv.5 Y1  \n",
       "/home/jupyter/IH-A-Aging-Analysis-Notebooks_old/Mansi_Notebooks/scRNA/DEG_Analysis/MS_Sex_DEG_analysis/DEG_cohort_splitby_sex_CSVfiles/Age_yr1_Day0_Female/Activated memory B cell_Y1D0.csv.6 Y1  "
      ]
     },
     "metadata": {},
     "output_type": "display_data"
    },
    {
     "data": {
      "text/html": [
       "<style>\n",
       ".list-inline {list-style: none; margin:0; padding: 0}\n",
       ".list-inline>li {display: inline-block}\n",
       ".list-inline>li:not(:last-child)::after {content: \"\\00b7\"; padding: 0 .5ex}\n",
       "</style>\n",
       "<ol class=list-inline><li>372411</li><li>10</li></ol>\n"
      ],
      "text/latex": [
       "\\begin{enumerate*}\n",
       "\\item 372411\n",
       "\\item 10\n",
       "\\end{enumerate*}\n"
      ],
      "text/markdown": [
       "1. 372411\n",
       "2. 10\n",
       "\n",
       "\n"
      ],
      "text/plain": [
       "[1] 372411     10"
      ]
     },
     "metadata": {},
     "output_type": "display_data"
    }
   ],
   "source": [
    "# Merge all data frames in the list vertically\n",
    "merged_data_female <- do.call(rbind, data_list)\n",
    "head(merged_data_female)\n",
    "dim(merged_data_female)"
   ]
  },
  {
   "cell_type": "code",
   "execution_count": 7,
   "id": "1f9732d5-0de7-4299-af55-ebc8583b1281",
   "metadata": {
    "tags": []
   },
   "outputs": [],
   "source": [
    "merged_data_female$type <- \"DEGs_Female\""
   ]
  },
  {
   "cell_type": "code",
   "execution_count": 8,
   "id": "1574fb82-8893-43c5-ae1a-1fbfb18fd0fa",
   "metadata": {
    "tags": []
   },
   "outputs": [
    {
     "data": {
      "text/html": [
       "71"
      ],
      "text/latex": [
       "71"
      ],
      "text/markdown": [
       "71"
      ],
      "text/plain": [
       "[1] 71"
      ]
     },
     "metadata": {},
     "output_type": "display_data"
    }
   ],
   "source": [
    "length(unique(merged_data_female$celltype))"
   ]
  },
  {
   "cell_type": "markdown",
   "id": "71a83512-25ac-458e-bb26-914af63725da",
   "metadata": {
    "tags": []
   },
   "source": [
    "# Gather celltype files by DESEQ2 generated for Males only"
   ]
  },
  {
   "cell_type": "code",
   "execution_count": 9,
   "id": "dfc2c338-7263-4739-861a-b280c5f517d4",
   "metadata": {
    "tags": []
   },
   "outputs": [],
   "source": [
    "data_path = '/home/jupyter/IH-A-Aging-Analysis-Notebooks_old/Mansi_Notebooks/scRNA/DEG_Analysis/MS_Sex_DEG_analysis/DEG_cohort_splitby_sex_CSVfiles/Age_yr1_Day0_Male_v2'"
   ]
  },
  {
   "cell_type": "code",
   "execution_count": 10,
   "id": "70422877-f8ac-4ae5-a8c5-66c0d81495a6",
   "metadata": {
    "tags": []
   },
   "outputs": [],
   "source": [
    "# List all files ending with \".csv\" in the directory\n",
    "csv_files <- list.files(data_path, pattern = \"\\\\.csv$\", full.names = TRUE)\n",
    "\n",
    "# Display the list of CSV files\n",
    "#print(csv_files)"
   ]
  },
  {
   "cell_type": "code",
   "execution_count": 11,
   "id": "3fd19f11-e5d0-4406-ac50-7f6a8ab1b8b6",
   "metadata": {
    "tags": []
   },
   "outputs": [],
   "source": [
    "# Create an empty list to store data frames\n",
    "data_list <- list()\n",
    "\n",
    "# Loop through each CSV file, read it, and store it in the list\n",
    "for (file in csv_files) {\n",
    "  data <- read.csv(file)\n",
    "  data_list[[file]] <- data\n",
    "}"
   ]
  },
  {
   "cell_type": "code",
   "execution_count": 12,
   "id": "1202b480-f35e-4d1b-9125-19c0162bfb36",
   "metadata": {
    "tags": []
   },
   "outputs": [
    {
     "data": {
      "text/html": [
       "<table class=\"dataframe\">\n",
       "<caption>A data.frame: 6 × 10</caption>\n",
       "<thead>\n",
       "\t<tr><th></th><th scope=col>X</th><th scope=col>baseMean</th><th scope=col>log2FoldChange</th><th scope=col>lfcSE</th><th scope=col>stat</th><th scope=col>pvalue</th><th scope=col>padj</th><th scope=col>celltype</th><th scope=col>Direction</th><th scope=col>Year</th></tr>\n",
       "\t<tr><th></th><th scope=col>&lt;chr&gt;</th><th scope=col>&lt;dbl&gt;</th><th scope=col>&lt;dbl&gt;</th><th scope=col>&lt;dbl&gt;</th><th scope=col>&lt;dbl&gt;</th><th scope=col>&lt;dbl&gt;</th><th scope=col>&lt;dbl&gt;</th><th scope=col>&lt;chr&gt;</th><th scope=col>&lt;chr&gt;</th><th scope=col>&lt;chr&gt;</th></tr>\n",
       "</thead>\n",
       "<tbody>\n",
       "\t<tr><th scope=row>/home/jupyter/IH-A-Aging-Analysis-Notebooks_old/Mansi_Notebooks/scRNA/DEG_Analysis/MS_Sex_DEG_analysis/DEG_cohort_splitby_sex_CSVfiles/Age_yr1_Day0_Male_v2/Activated memory B cell_Y1D0.csv.1</th><td>NOC2L  </td><td>0.4682601</td><td>-0.33564453</td><td>0.8327112</td><td>-0.40307434</td><td>0.6868935</td><td>0.9998266</td><td>Activated memory B cell</td><td>BR1</td><td>Y1</td></tr>\n",
       "\t<tr><th scope=row>/home/jupyter/IH-A-Aging-Analysis-Notebooks_old/Mansi_Notebooks/scRNA/DEG_Analysis/MS_Sex_DEG_analysis/DEG_cohort_splitby_sex_CSVfiles/Age_yr1_Day0_Male_v2/Activated memory B cell_Y1D0.csv.2</th><td>ISG15  </td><td>0.7716756</td><td> 0.03101969</td><td>0.5329482</td><td> 0.05820395</td><td>0.9535862</td><td>0.9998266</td><td>Activated memory B cell</td><td>BR2</td><td>Y1</td></tr>\n",
       "\t<tr><th scope=row>/home/jupyter/IH-A-Aging-Analysis-Notebooks_old/Mansi_Notebooks/scRNA/DEG_Analysis/MS_Sex_DEG_analysis/DEG_cohort_splitby_sex_CSVfiles/Age_yr1_Day0_Male_v2/Activated memory B cell_Y1D0.csv.3</th><td>SDF4   </td><td>0.5631814</td><td> 0.01246954</td><td>0.6510630</td><td> 0.01915259</td><td>0.9847194</td><td>0.9998266</td><td>Activated memory B cell</td><td>BR2</td><td>Y1</td></tr>\n",
       "\t<tr><th scope=row>/home/jupyter/IH-A-Aging-Analysis-Notebooks_old/Mansi_Notebooks/scRNA/DEG_Analysis/MS_Sex_DEG_analysis/DEG_cohort_splitby_sex_CSVfiles/Age_yr1_Day0_Male_v2/Activated memory B cell_Y1D0.csv.4</th><td>B3GALT6</td><td>0.3151741</td><td> 0.61845489</td><td>0.8779896</td><td> 0.70439886</td><td>0.4811844</td><td>0.9998266</td><td>Activated memory B cell</td><td>BR2</td><td>Y1</td></tr>\n",
       "\t<tr><th scope=row>/home/jupyter/IH-A-Aging-Analysis-Notebooks_old/Mansi_Notebooks/scRNA/DEG_Analysis/MS_Sex_DEG_analysis/DEG_cohort_splitby_sex_CSVfiles/Age_yr1_Day0_Male_v2/Activated memory B cell_Y1D0.csv.5</th><td>UBE2J2 </td><td>0.4517144</td><td> 0.17761642</td><td>0.6528145</td><td> 0.27207793</td><td>0.7855621</td><td>0.9998266</td><td>Activated memory B cell</td><td>BR2</td><td>Y1</td></tr>\n",
       "\t<tr><th scope=row>/home/jupyter/IH-A-Aging-Analysis-Notebooks_old/Mansi_Notebooks/scRNA/DEG_Analysis/MS_Sex_DEG_analysis/DEG_cohort_splitby_sex_CSVfiles/Age_yr1_Day0_Male_v2/Activated memory B cell_Y1D0.csv.6</th><td>INTS11 </td><td>0.3656259</td><td> 0.07206422</td><td>0.6856389</td><td> 0.10510521</td><td>0.9162923</td><td>0.9998266</td><td>Activated memory B cell</td><td>BR2</td><td>Y1</td></tr>\n",
       "</tbody>\n",
       "</table>\n"
      ],
      "text/latex": [
       "A data.frame: 6 × 10\n",
       "\\begin{tabular}{r|llllllllll}\n",
       "  & X & baseMean & log2FoldChange & lfcSE & stat & pvalue & padj & celltype & Direction & Year\\\\\n",
       "  & <chr> & <dbl> & <dbl> & <dbl> & <dbl> & <dbl> & <dbl> & <chr> & <chr> & <chr>\\\\\n",
       "\\hline\n",
       "\t/home/jupyter/IH-A-Aging-Analysis-Notebooks\\_old/Mansi\\_Notebooks/scRNA/DEG\\_Analysis/MS\\_Sex\\_DEG\\_analysis/DEG\\_cohort\\_splitby\\_sex\\_CSVfiles/Age\\_yr1\\_Day0\\_Male\\_v2/Activated memory B cell\\_Y1D0.csv.1 & NOC2L   & 0.4682601 & -0.33564453 & 0.8327112 & -0.40307434 & 0.6868935 & 0.9998266 & Activated memory B cell & BR1 & Y1\\\\\n",
       "\t/home/jupyter/IH-A-Aging-Analysis-Notebooks\\_old/Mansi\\_Notebooks/scRNA/DEG\\_Analysis/MS\\_Sex\\_DEG\\_analysis/DEG\\_cohort\\_splitby\\_sex\\_CSVfiles/Age\\_yr1\\_Day0\\_Male\\_v2/Activated memory B cell\\_Y1D0.csv.2 & ISG15   & 0.7716756 &  0.03101969 & 0.5329482 &  0.05820395 & 0.9535862 & 0.9998266 & Activated memory B cell & BR2 & Y1\\\\\n",
       "\t/home/jupyter/IH-A-Aging-Analysis-Notebooks\\_old/Mansi\\_Notebooks/scRNA/DEG\\_Analysis/MS\\_Sex\\_DEG\\_analysis/DEG\\_cohort\\_splitby\\_sex\\_CSVfiles/Age\\_yr1\\_Day0\\_Male\\_v2/Activated memory B cell\\_Y1D0.csv.3 & SDF4    & 0.5631814 &  0.01246954 & 0.6510630 &  0.01915259 & 0.9847194 & 0.9998266 & Activated memory B cell & BR2 & Y1\\\\\n",
       "\t/home/jupyter/IH-A-Aging-Analysis-Notebooks\\_old/Mansi\\_Notebooks/scRNA/DEG\\_Analysis/MS\\_Sex\\_DEG\\_analysis/DEG\\_cohort\\_splitby\\_sex\\_CSVfiles/Age\\_yr1\\_Day0\\_Male\\_v2/Activated memory B cell\\_Y1D0.csv.4 & B3GALT6 & 0.3151741 &  0.61845489 & 0.8779896 &  0.70439886 & 0.4811844 & 0.9998266 & Activated memory B cell & BR2 & Y1\\\\\n",
       "\t/home/jupyter/IH-A-Aging-Analysis-Notebooks\\_old/Mansi\\_Notebooks/scRNA/DEG\\_Analysis/MS\\_Sex\\_DEG\\_analysis/DEG\\_cohort\\_splitby\\_sex\\_CSVfiles/Age\\_yr1\\_Day0\\_Male\\_v2/Activated memory B cell\\_Y1D0.csv.5 & UBE2J2  & 0.4517144 &  0.17761642 & 0.6528145 &  0.27207793 & 0.7855621 & 0.9998266 & Activated memory B cell & BR2 & Y1\\\\\n",
       "\t/home/jupyter/IH-A-Aging-Analysis-Notebooks\\_old/Mansi\\_Notebooks/scRNA/DEG\\_Analysis/MS\\_Sex\\_DEG\\_analysis/DEG\\_cohort\\_splitby\\_sex\\_CSVfiles/Age\\_yr1\\_Day0\\_Male\\_v2/Activated memory B cell\\_Y1D0.csv.6 & INTS11  & 0.3656259 &  0.07206422 & 0.6856389 &  0.10510521 & 0.9162923 & 0.9998266 & Activated memory B cell & BR2 & Y1\\\\\n",
       "\\end{tabular}\n"
      ],
      "text/markdown": [
       "\n",
       "A data.frame: 6 × 10\n",
       "\n",
       "| <!--/--> | X &lt;chr&gt; | baseMean &lt;dbl&gt; | log2FoldChange &lt;dbl&gt; | lfcSE &lt;dbl&gt; | stat &lt;dbl&gt; | pvalue &lt;dbl&gt; | padj &lt;dbl&gt; | celltype &lt;chr&gt; | Direction &lt;chr&gt; | Year &lt;chr&gt; |\n",
       "|---|---|---|---|---|---|---|---|---|---|---|\n",
       "| /home/jupyter/IH-A-Aging-Analysis-Notebooks_old/Mansi_Notebooks/scRNA/DEG_Analysis/MS_Sex_DEG_analysis/DEG_cohort_splitby_sex_CSVfiles/Age_yr1_Day0_Male_v2/Activated memory B cell_Y1D0.csv.1 | NOC2L   | 0.4682601 | -0.33564453 | 0.8327112 | -0.40307434 | 0.6868935 | 0.9998266 | Activated memory B cell | BR1 | Y1 |\n",
       "| /home/jupyter/IH-A-Aging-Analysis-Notebooks_old/Mansi_Notebooks/scRNA/DEG_Analysis/MS_Sex_DEG_analysis/DEG_cohort_splitby_sex_CSVfiles/Age_yr1_Day0_Male_v2/Activated memory B cell_Y1D0.csv.2 | ISG15   | 0.7716756 |  0.03101969 | 0.5329482 |  0.05820395 | 0.9535862 | 0.9998266 | Activated memory B cell | BR2 | Y1 |\n",
       "| /home/jupyter/IH-A-Aging-Analysis-Notebooks_old/Mansi_Notebooks/scRNA/DEG_Analysis/MS_Sex_DEG_analysis/DEG_cohort_splitby_sex_CSVfiles/Age_yr1_Day0_Male_v2/Activated memory B cell_Y1D0.csv.3 | SDF4    | 0.5631814 |  0.01246954 | 0.6510630 |  0.01915259 | 0.9847194 | 0.9998266 | Activated memory B cell | BR2 | Y1 |\n",
       "| /home/jupyter/IH-A-Aging-Analysis-Notebooks_old/Mansi_Notebooks/scRNA/DEG_Analysis/MS_Sex_DEG_analysis/DEG_cohort_splitby_sex_CSVfiles/Age_yr1_Day0_Male_v2/Activated memory B cell_Y1D0.csv.4 | B3GALT6 | 0.3151741 |  0.61845489 | 0.8779896 |  0.70439886 | 0.4811844 | 0.9998266 | Activated memory B cell | BR2 | Y1 |\n",
       "| /home/jupyter/IH-A-Aging-Analysis-Notebooks_old/Mansi_Notebooks/scRNA/DEG_Analysis/MS_Sex_DEG_analysis/DEG_cohort_splitby_sex_CSVfiles/Age_yr1_Day0_Male_v2/Activated memory B cell_Y1D0.csv.5 | UBE2J2  | 0.4517144 |  0.17761642 | 0.6528145 |  0.27207793 | 0.7855621 | 0.9998266 | Activated memory B cell | BR2 | Y1 |\n",
       "| /home/jupyter/IH-A-Aging-Analysis-Notebooks_old/Mansi_Notebooks/scRNA/DEG_Analysis/MS_Sex_DEG_analysis/DEG_cohort_splitby_sex_CSVfiles/Age_yr1_Day0_Male_v2/Activated memory B cell_Y1D0.csv.6 | INTS11  | 0.3656259 |  0.07206422 | 0.6856389 |  0.10510521 | 0.9162923 | 0.9998266 | Activated memory B cell | BR2 | Y1 |\n",
       "\n"
      ],
      "text/plain": [
       "                                                                                                                                                                                               X      \n",
       "/home/jupyter/IH-A-Aging-Analysis-Notebooks_old/Mansi_Notebooks/scRNA/DEG_Analysis/MS_Sex_DEG_analysis/DEG_cohort_splitby_sex_CSVfiles/Age_yr1_Day0_Male_v2/Activated memory B cell_Y1D0.csv.1 NOC2L  \n",
       "/home/jupyter/IH-A-Aging-Analysis-Notebooks_old/Mansi_Notebooks/scRNA/DEG_Analysis/MS_Sex_DEG_analysis/DEG_cohort_splitby_sex_CSVfiles/Age_yr1_Day0_Male_v2/Activated memory B cell_Y1D0.csv.2 ISG15  \n",
       "/home/jupyter/IH-A-Aging-Analysis-Notebooks_old/Mansi_Notebooks/scRNA/DEG_Analysis/MS_Sex_DEG_analysis/DEG_cohort_splitby_sex_CSVfiles/Age_yr1_Day0_Male_v2/Activated memory B cell_Y1D0.csv.3 SDF4   \n",
       "/home/jupyter/IH-A-Aging-Analysis-Notebooks_old/Mansi_Notebooks/scRNA/DEG_Analysis/MS_Sex_DEG_analysis/DEG_cohort_splitby_sex_CSVfiles/Age_yr1_Day0_Male_v2/Activated memory B cell_Y1D0.csv.4 B3GALT6\n",
       "/home/jupyter/IH-A-Aging-Analysis-Notebooks_old/Mansi_Notebooks/scRNA/DEG_Analysis/MS_Sex_DEG_analysis/DEG_cohort_splitby_sex_CSVfiles/Age_yr1_Day0_Male_v2/Activated memory B cell_Y1D0.csv.5 UBE2J2 \n",
       "/home/jupyter/IH-A-Aging-Analysis-Notebooks_old/Mansi_Notebooks/scRNA/DEG_Analysis/MS_Sex_DEG_analysis/DEG_cohort_splitby_sex_CSVfiles/Age_yr1_Day0_Male_v2/Activated memory B cell_Y1D0.csv.6 INTS11 \n",
       "                                                                                                                                                                                               baseMean \n",
       "/home/jupyter/IH-A-Aging-Analysis-Notebooks_old/Mansi_Notebooks/scRNA/DEG_Analysis/MS_Sex_DEG_analysis/DEG_cohort_splitby_sex_CSVfiles/Age_yr1_Day0_Male_v2/Activated memory B cell_Y1D0.csv.1 0.4682601\n",
       "/home/jupyter/IH-A-Aging-Analysis-Notebooks_old/Mansi_Notebooks/scRNA/DEG_Analysis/MS_Sex_DEG_analysis/DEG_cohort_splitby_sex_CSVfiles/Age_yr1_Day0_Male_v2/Activated memory B cell_Y1D0.csv.2 0.7716756\n",
       "/home/jupyter/IH-A-Aging-Analysis-Notebooks_old/Mansi_Notebooks/scRNA/DEG_Analysis/MS_Sex_DEG_analysis/DEG_cohort_splitby_sex_CSVfiles/Age_yr1_Day0_Male_v2/Activated memory B cell_Y1D0.csv.3 0.5631814\n",
       "/home/jupyter/IH-A-Aging-Analysis-Notebooks_old/Mansi_Notebooks/scRNA/DEG_Analysis/MS_Sex_DEG_analysis/DEG_cohort_splitby_sex_CSVfiles/Age_yr1_Day0_Male_v2/Activated memory B cell_Y1D0.csv.4 0.3151741\n",
       "/home/jupyter/IH-A-Aging-Analysis-Notebooks_old/Mansi_Notebooks/scRNA/DEG_Analysis/MS_Sex_DEG_analysis/DEG_cohort_splitby_sex_CSVfiles/Age_yr1_Day0_Male_v2/Activated memory B cell_Y1D0.csv.5 0.4517144\n",
       "/home/jupyter/IH-A-Aging-Analysis-Notebooks_old/Mansi_Notebooks/scRNA/DEG_Analysis/MS_Sex_DEG_analysis/DEG_cohort_splitby_sex_CSVfiles/Age_yr1_Day0_Male_v2/Activated memory B cell_Y1D0.csv.6 0.3656259\n",
       "                                                                                                                                                                                               log2FoldChange\n",
       "/home/jupyter/IH-A-Aging-Analysis-Notebooks_old/Mansi_Notebooks/scRNA/DEG_Analysis/MS_Sex_DEG_analysis/DEG_cohort_splitby_sex_CSVfiles/Age_yr1_Day0_Male_v2/Activated memory B cell_Y1D0.csv.1 -0.33564453   \n",
       "/home/jupyter/IH-A-Aging-Analysis-Notebooks_old/Mansi_Notebooks/scRNA/DEG_Analysis/MS_Sex_DEG_analysis/DEG_cohort_splitby_sex_CSVfiles/Age_yr1_Day0_Male_v2/Activated memory B cell_Y1D0.csv.2  0.03101969   \n",
       "/home/jupyter/IH-A-Aging-Analysis-Notebooks_old/Mansi_Notebooks/scRNA/DEG_Analysis/MS_Sex_DEG_analysis/DEG_cohort_splitby_sex_CSVfiles/Age_yr1_Day0_Male_v2/Activated memory B cell_Y1D0.csv.3  0.01246954   \n",
       "/home/jupyter/IH-A-Aging-Analysis-Notebooks_old/Mansi_Notebooks/scRNA/DEG_Analysis/MS_Sex_DEG_analysis/DEG_cohort_splitby_sex_CSVfiles/Age_yr1_Day0_Male_v2/Activated memory B cell_Y1D0.csv.4  0.61845489   \n",
       "/home/jupyter/IH-A-Aging-Analysis-Notebooks_old/Mansi_Notebooks/scRNA/DEG_Analysis/MS_Sex_DEG_analysis/DEG_cohort_splitby_sex_CSVfiles/Age_yr1_Day0_Male_v2/Activated memory B cell_Y1D0.csv.5  0.17761642   \n",
       "/home/jupyter/IH-A-Aging-Analysis-Notebooks_old/Mansi_Notebooks/scRNA/DEG_Analysis/MS_Sex_DEG_analysis/DEG_cohort_splitby_sex_CSVfiles/Age_yr1_Day0_Male_v2/Activated memory B cell_Y1D0.csv.6  0.07206422   \n",
       "                                                                                                                                                                                               lfcSE    \n",
       "/home/jupyter/IH-A-Aging-Analysis-Notebooks_old/Mansi_Notebooks/scRNA/DEG_Analysis/MS_Sex_DEG_analysis/DEG_cohort_splitby_sex_CSVfiles/Age_yr1_Day0_Male_v2/Activated memory B cell_Y1D0.csv.1 0.8327112\n",
       "/home/jupyter/IH-A-Aging-Analysis-Notebooks_old/Mansi_Notebooks/scRNA/DEG_Analysis/MS_Sex_DEG_analysis/DEG_cohort_splitby_sex_CSVfiles/Age_yr1_Day0_Male_v2/Activated memory B cell_Y1D0.csv.2 0.5329482\n",
       "/home/jupyter/IH-A-Aging-Analysis-Notebooks_old/Mansi_Notebooks/scRNA/DEG_Analysis/MS_Sex_DEG_analysis/DEG_cohort_splitby_sex_CSVfiles/Age_yr1_Day0_Male_v2/Activated memory B cell_Y1D0.csv.3 0.6510630\n",
       "/home/jupyter/IH-A-Aging-Analysis-Notebooks_old/Mansi_Notebooks/scRNA/DEG_Analysis/MS_Sex_DEG_analysis/DEG_cohort_splitby_sex_CSVfiles/Age_yr1_Day0_Male_v2/Activated memory B cell_Y1D0.csv.4 0.8779896\n",
       "/home/jupyter/IH-A-Aging-Analysis-Notebooks_old/Mansi_Notebooks/scRNA/DEG_Analysis/MS_Sex_DEG_analysis/DEG_cohort_splitby_sex_CSVfiles/Age_yr1_Day0_Male_v2/Activated memory B cell_Y1D0.csv.5 0.6528145\n",
       "/home/jupyter/IH-A-Aging-Analysis-Notebooks_old/Mansi_Notebooks/scRNA/DEG_Analysis/MS_Sex_DEG_analysis/DEG_cohort_splitby_sex_CSVfiles/Age_yr1_Day0_Male_v2/Activated memory B cell_Y1D0.csv.6 0.6856389\n",
       "                                                                                                                                                                                               stat       \n",
       "/home/jupyter/IH-A-Aging-Analysis-Notebooks_old/Mansi_Notebooks/scRNA/DEG_Analysis/MS_Sex_DEG_analysis/DEG_cohort_splitby_sex_CSVfiles/Age_yr1_Day0_Male_v2/Activated memory B cell_Y1D0.csv.1 -0.40307434\n",
       "/home/jupyter/IH-A-Aging-Analysis-Notebooks_old/Mansi_Notebooks/scRNA/DEG_Analysis/MS_Sex_DEG_analysis/DEG_cohort_splitby_sex_CSVfiles/Age_yr1_Day0_Male_v2/Activated memory B cell_Y1D0.csv.2  0.05820395\n",
       "/home/jupyter/IH-A-Aging-Analysis-Notebooks_old/Mansi_Notebooks/scRNA/DEG_Analysis/MS_Sex_DEG_analysis/DEG_cohort_splitby_sex_CSVfiles/Age_yr1_Day0_Male_v2/Activated memory B cell_Y1D0.csv.3  0.01915259\n",
       "/home/jupyter/IH-A-Aging-Analysis-Notebooks_old/Mansi_Notebooks/scRNA/DEG_Analysis/MS_Sex_DEG_analysis/DEG_cohort_splitby_sex_CSVfiles/Age_yr1_Day0_Male_v2/Activated memory B cell_Y1D0.csv.4  0.70439886\n",
       "/home/jupyter/IH-A-Aging-Analysis-Notebooks_old/Mansi_Notebooks/scRNA/DEG_Analysis/MS_Sex_DEG_analysis/DEG_cohort_splitby_sex_CSVfiles/Age_yr1_Day0_Male_v2/Activated memory B cell_Y1D0.csv.5  0.27207793\n",
       "/home/jupyter/IH-A-Aging-Analysis-Notebooks_old/Mansi_Notebooks/scRNA/DEG_Analysis/MS_Sex_DEG_analysis/DEG_cohort_splitby_sex_CSVfiles/Age_yr1_Day0_Male_v2/Activated memory B cell_Y1D0.csv.6  0.10510521\n",
       "                                                                                                                                                                                               pvalue   \n",
       "/home/jupyter/IH-A-Aging-Analysis-Notebooks_old/Mansi_Notebooks/scRNA/DEG_Analysis/MS_Sex_DEG_analysis/DEG_cohort_splitby_sex_CSVfiles/Age_yr1_Day0_Male_v2/Activated memory B cell_Y1D0.csv.1 0.6868935\n",
       "/home/jupyter/IH-A-Aging-Analysis-Notebooks_old/Mansi_Notebooks/scRNA/DEG_Analysis/MS_Sex_DEG_analysis/DEG_cohort_splitby_sex_CSVfiles/Age_yr1_Day0_Male_v2/Activated memory B cell_Y1D0.csv.2 0.9535862\n",
       "/home/jupyter/IH-A-Aging-Analysis-Notebooks_old/Mansi_Notebooks/scRNA/DEG_Analysis/MS_Sex_DEG_analysis/DEG_cohort_splitby_sex_CSVfiles/Age_yr1_Day0_Male_v2/Activated memory B cell_Y1D0.csv.3 0.9847194\n",
       "/home/jupyter/IH-A-Aging-Analysis-Notebooks_old/Mansi_Notebooks/scRNA/DEG_Analysis/MS_Sex_DEG_analysis/DEG_cohort_splitby_sex_CSVfiles/Age_yr1_Day0_Male_v2/Activated memory B cell_Y1D0.csv.4 0.4811844\n",
       "/home/jupyter/IH-A-Aging-Analysis-Notebooks_old/Mansi_Notebooks/scRNA/DEG_Analysis/MS_Sex_DEG_analysis/DEG_cohort_splitby_sex_CSVfiles/Age_yr1_Day0_Male_v2/Activated memory B cell_Y1D0.csv.5 0.7855621\n",
       "/home/jupyter/IH-A-Aging-Analysis-Notebooks_old/Mansi_Notebooks/scRNA/DEG_Analysis/MS_Sex_DEG_analysis/DEG_cohort_splitby_sex_CSVfiles/Age_yr1_Day0_Male_v2/Activated memory B cell_Y1D0.csv.6 0.9162923\n",
       "                                                                                                                                                                                               padj     \n",
       "/home/jupyter/IH-A-Aging-Analysis-Notebooks_old/Mansi_Notebooks/scRNA/DEG_Analysis/MS_Sex_DEG_analysis/DEG_cohort_splitby_sex_CSVfiles/Age_yr1_Day0_Male_v2/Activated memory B cell_Y1D0.csv.1 0.9998266\n",
       "/home/jupyter/IH-A-Aging-Analysis-Notebooks_old/Mansi_Notebooks/scRNA/DEG_Analysis/MS_Sex_DEG_analysis/DEG_cohort_splitby_sex_CSVfiles/Age_yr1_Day0_Male_v2/Activated memory B cell_Y1D0.csv.2 0.9998266\n",
       "/home/jupyter/IH-A-Aging-Analysis-Notebooks_old/Mansi_Notebooks/scRNA/DEG_Analysis/MS_Sex_DEG_analysis/DEG_cohort_splitby_sex_CSVfiles/Age_yr1_Day0_Male_v2/Activated memory B cell_Y1D0.csv.3 0.9998266\n",
       "/home/jupyter/IH-A-Aging-Analysis-Notebooks_old/Mansi_Notebooks/scRNA/DEG_Analysis/MS_Sex_DEG_analysis/DEG_cohort_splitby_sex_CSVfiles/Age_yr1_Day0_Male_v2/Activated memory B cell_Y1D0.csv.4 0.9998266\n",
       "/home/jupyter/IH-A-Aging-Analysis-Notebooks_old/Mansi_Notebooks/scRNA/DEG_Analysis/MS_Sex_DEG_analysis/DEG_cohort_splitby_sex_CSVfiles/Age_yr1_Day0_Male_v2/Activated memory B cell_Y1D0.csv.5 0.9998266\n",
       "/home/jupyter/IH-A-Aging-Analysis-Notebooks_old/Mansi_Notebooks/scRNA/DEG_Analysis/MS_Sex_DEG_analysis/DEG_cohort_splitby_sex_CSVfiles/Age_yr1_Day0_Male_v2/Activated memory B cell_Y1D0.csv.6 0.9998266\n",
       "                                                                                                                                                                                               celltype               \n",
       "/home/jupyter/IH-A-Aging-Analysis-Notebooks_old/Mansi_Notebooks/scRNA/DEG_Analysis/MS_Sex_DEG_analysis/DEG_cohort_splitby_sex_CSVfiles/Age_yr1_Day0_Male_v2/Activated memory B cell_Y1D0.csv.1 Activated memory B cell\n",
       "/home/jupyter/IH-A-Aging-Analysis-Notebooks_old/Mansi_Notebooks/scRNA/DEG_Analysis/MS_Sex_DEG_analysis/DEG_cohort_splitby_sex_CSVfiles/Age_yr1_Day0_Male_v2/Activated memory B cell_Y1D0.csv.2 Activated memory B cell\n",
       "/home/jupyter/IH-A-Aging-Analysis-Notebooks_old/Mansi_Notebooks/scRNA/DEG_Analysis/MS_Sex_DEG_analysis/DEG_cohort_splitby_sex_CSVfiles/Age_yr1_Day0_Male_v2/Activated memory B cell_Y1D0.csv.3 Activated memory B cell\n",
       "/home/jupyter/IH-A-Aging-Analysis-Notebooks_old/Mansi_Notebooks/scRNA/DEG_Analysis/MS_Sex_DEG_analysis/DEG_cohort_splitby_sex_CSVfiles/Age_yr1_Day0_Male_v2/Activated memory B cell_Y1D0.csv.4 Activated memory B cell\n",
       "/home/jupyter/IH-A-Aging-Analysis-Notebooks_old/Mansi_Notebooks/scRNA/DEG_Analysis/MS_Sex_DEG_analysis/DEG_cohort_splitby_sex_CSVfiles/Age_yr1_Day0_Male_v2/Activated memory B cell_Y1D0.csv.5 Activated memory B cell\n",
       "/home/jupyter/IH-A-Aging-Analysis-Notebooks_old/Mansi_Notebooks/scRNA/DEG_Analysis/MS_Sex_DEG_analysis/DEG_cohort_splitby_sex_CSVfiles/Age_yr1_Day0_Male_v2/Activated memory B cell_Y1D0.csv.6 Activated memory B cell\n",
       "                                                                                                                                                                                               Direction\n",
       "/home/jupyter/IH-A-Aging-Analysis-Notebooks_old/Mansi_Notebooks/scRNA/DEG_Analysis/MS_Sex_DEG_analysis/DEG_cohort_splitby_sex_CSVfiles/Age_yr1_Day0_Male_v2/Activated memory B cell_Y1D0.csv.1 BR1      \n",
       "/home/jupyter/IH-A-Aging-Analysis-Notebooks_old/Mansi_Notebooks/scRNA/DEG_Analysis/MS_Sex_DEG_analysis/DEG_cohort_splitby_sex_CSVfiles/Age_yr1_Day0_Male_v2/Activated memory B cell_Y1D0.csv.2 BR2      \n",
       "/home/jupyter/IH-A-Aging-Analysis-Notebooks_old/Mansi_Notebooks/scRNA/DEG_Analysis/MS_Sex_DEG_analysis/DEG_cohort_splitby_sex_CSVfiles/Age_yr1_Day0_Male_v2/Activated memory B cell_Y1D0.csv.3 BR2      \n",
       "/home/jupyter/IH-A-Aging-Analysis-Notebooks_old/Mansi_Notebooks/scRNA/DEG_Analysis/MS_Sex_DEG_analysis/DEG_cohort_splitby_sex_CSVfiles/Age_yr1_Day0_Male_v2/Activated memory B cell_Y1D0.csv.4 BR2      \n",
       "/home/jupyter/IH-A-Aging-Analysis-Notebooks_old/Mansi_Notebooks/scRNA/DEG_Analysis/MS_Sex_DEG_analysis/DEG_cohort_splitby_sex_CSVfiles/Age_yr1_Day0_Male_v2/Activated memory B cell_Y1D0.csv.5 BR2      \n",
       "/home/jupyter/IH-A-Aging-Analysis-Notebooks_old/Mansi_Notebooks/scRNA/DEG_Analysis/MS_Sex_DEG_analysis/DEG_cohort_splitby_sex_CSVfiles/Age_yr1_Day0_Male_v2/Activated memory B cell_Y1D0.csv.6 BR2      \n",
       "                                                                                                                                                                                               Year\n",
       "/home/jupyter/IH-A-Aging-Analysis-Notebooks_old/Mansi_Notebooks/scRNA/DEG_Analysis/MS_Sex_DEG_analysis/DEG_cohort_splitby_sex_CSVfiles/Age_yr1_Day0_Male_v2/Activated memory B cell_Y1D0.csv.1 Y1  \n",
       "/home/jupyter/IH-A-Aging-Analysis-Notebooks_old/Mansi_Notebooks/scRNA/DEG_Analysis/MS_Sex_DEG_analysis/DEG_cohort_splitby_sex_CSVfiles/Age_yr1_Day0_Male_v2/Activated memory B cell_Y1D0.csv.2 Y1  \n",
       "/home/jupyter/IH-A-Aging-Analysis-Notebooks_old/Mansi_Notebooks/scRNA/DEG_Analysis/MS_Sex_DEG_analysis/DEG_cohort_splitby_sex_CSVfiles/Age_yr1_Day0_Male_v2/Activated memory B cell_Y1D0.csv.3 Y1  \n",
       "/home/jupyter/IH-A-Aging-Analysis-Notebooks_old/Mansi_Notebooks/scRNA/DEG_Analysis/MS_Sex_DEG_analysis/DEG_cohort_splitby_sex_CSVfiles/Age_yr1_Day0_Male_v2/Activated memory B cell_Y1D0.csv.4 Y1  \n",
       "/home/jupyter/IH-A-Aging-Analysis-Notebooks_old/Mansi_Notebooks/scRNA/DEG_Analysis/MS_Sex_DEG_analysis/DEG_cohort_splitby_sex_CSVfiles/Age_yr1_Day0_Male_v2/Activated memory B cell_Y1D0.csv.5 Y1  \n",
       "/home/jupyter/IH-A-Aging-Analysis-Notebooks_old/Mansi_Notebooks/scRNA/DEG_Analysis/MS_Sex_DEG_analysis/DEG_cohort_splitby_sex_CSVfiles/Age_yr1_Day0_Male_v2/Activated memory B cell_Y1D0.csv.6 Y1  "
      ]
     },
     "metadata": {},
     "output_type": "display_data"
    },
    {
     "data": {
      "text/html": [
       "<style>\n",
       ".list-inline {list-style: none; margin:0; padding: 0}\n",
       ".list-inline>li {display: inline-block}\n",
       ".list-inline>li:not(:last-child)::after {content: \"\\00b7\"; padding: 0 .5ex}\n",
       "</style>\n",
       "<ol class=list-inline><li>372411</li><li>10</li></ol>\n"
      ],
      "text/latex": [
       "\\begin{enumerate*}\n",
       "\\item 372411\n",
       "\\item 10\n",
       "\\end{enumerate*}\n"
      ],
      "text/markdown": [
       "1. 372411\n",
       "2. 10\n",
       "\n",
       "\n"
      ],
      "text/plain": [
       "[1] 372411     10"
      ]
     },
     "metadata": {},
     "output_type": "display_data"
    }
   ],
   "source": [
    "# Merge all data frames in the list vertically\n",
    "merged_data_male <- do.call(rbind, data_list)\n",
    "head(merged_data_male)\n",
    "dim(merged_data_male)"
   ]
  },
  {
   "cell_type": "code",
   "execution_count": 13,
   "id": "ef840a8a-9039-4aa2-ba55-f6413ea0163b",
   "metadata": {
    "tags": []
   },
   "outputs": [],
   "source": [
    "merged_data_male$type <- \"DEGs_Male\""
   ]
  },
  {
   "cell_type": "code",
   "execution_count": 14,
   "id": "df5c2093-83b6-4bee-893b-7530f415c095",
   "metadata": {
    "tags": []
   },
   "outputs": [
    {
     "data": {
      "text/html": [
       "71"
      ],
      "text/latex": [
       "71"
      ],
      "text/markdown": [
       "71"
      ],
      "text/plain": [
       "[1] 71"
      ]
     },
     "metadata": {},
     "output_type": "display_data"
    }
   ],
   "source": [
    "length(unique(merged_data_male$celltype))"
   ]
  },
  {
   "cell_type": "code",
   "execution_count": 15,
   "id": "551c9b91-4ff8-41d1-8677-078af7c74826",
   "metadata": {
    "tags": []
   },
   "outputs": [
    {
     "name": "stdout",
     "output_type": "stream",
     "text": [
      "Common celltypes: Activated memory B cell Adaptive NK cell ASDC BaEoMaP cell C1Q+ CD16 monocyte CD14+ cDC2 CD27- effector B cell CD27+ effector B cell CD4 MAIT CD56bright NK cell CD8 MAIT CD8aa CD95 memory B cell cDC1 CLP cell CM CD4 T cell CM CD8 T cell CMP cell Core CD14 monocyte Core CD16 monocyte Core memory B cell Core naive B cell Core naive CD4 T cell Core naive CD8 T cell  DN T cell Early memory B cell Erythrocyte GZMB- CD27- EM CD4 T cell GZMB- CD27+ EM CD4 T cell GZMB+ Vd2 gdT GZMK- CD27+ EM CD8 T cell GZMK- CD56dim NK cell GZMK+ CD27+ EM CD8 T cell GZMK+ CD56dim NK cell GZMK+ memory CD4 Treg GZMK+ Vd2 gdT HLA-DRhi cDC2 IL1B+ CD14 monocyte ILC Intermediate monocyte ISG+ CD14 monocyte ISG+ CD16 monocyte ISG+ CD56dim NK cell ISG+ cDC2 ISG+ MAIT ISG+ memory CD4 T cell ISG+ memory CD8 T cell ISG+ naive B cell ISG+ naive CD4 T cell ISG+ naive CD8 T cell KLRB1+ memory CD4 Treg KLRB1+ memory CD8 Treg KLRF1- effector Vd1 gdT KLRF1- GZMB+ CD27- EM CD8 T cell KLRF1- GZMB+ CD27- memory CD4 T cell KLRF1+ effector Vd1 gdT KLRF1+ GZMB+ CD27- EM CD8 T cell Memory CD4 Treg Memory CD8 Treg Naive CD4 Treg Naive Vd1 gdT pDC Plasma cell Platelet Proliferating NK cell Proliferating T cell SOX4+ naive CD4 T cell SOX4+ naive CD8 T cell SOX4+ Vd1 gdT Transitional B cell Type 2 polarized memory B cell \n",
      "Unique to df1:  \n",
      "Unique to df2:  \n"
     ]
    }
   ],
   "source": [
    "#quick check\n",
    "# Unique celltypes in each data frame\n",
    "unique_celltypes_df1 <- unique(merged_data_female$celltype)\n",
    "unique_celltypes_df2 <- unique(merged_data_male$celltype)\n",
    "\n",
    "# Celltypes common to both data frames\n",
    "common_celltypes <- intersect(unique_celltypes_df1, unique_celltypes_df2)\n",
    "\n",
    "# Celltypes unique to each data frame\n",
    "unique_celltypes_df1_only <- setdiff(unique_celltypes_df1, unique_celltypes_df2)\n",
    "unique_celltypes_df2_only <- setdiff(unique_celltypes_df2, unique_celltypes_df1)\n",
    "\n",
    "# Print results\n",
    "cat(\"Common celltypes:\", common_celltypes, \"\\n\")\n",
    "cat(\"Unique to df1:\", unique_celltypes_df1_only, \"\\n\")\n",
    "cat(\"Unique to df2:\", unique_celltypes_df2_only, \"\\n\")"
   ]
  },
  {
   "cell_type": "markdown",
   "id": "f9dbb98b-cce9-4b2a-b91e-9793b3841ed8",
   "metadata": {
    "tags": []
   },
   "source": [
    "# Create master DEG list with combined male and female DEG lists"
   ]
  },
  {
   "cell_type": "code",
   "execution_count": 16,
   "id": "d449005f-44da-4827-944f-db4bdddae802",
   "metadata": {
    "tags": []
   },
   "outputs": [],
   "source": [
    "# Merge both female and Male DEG files, # Merge the two data frames vertically\n",
    "master <-rbind(merged_data_male, merged_data_female)"
   ]
  },
  {
   "cell_type": "code",
   "execution_count": 17,
   "id": "ac59d870-b28c-4eb0-b2c1-d01a0063fd94",
   "metadata": {
    "tags": []
   },
   "outputs": [
    {
     "data": {
      "text/html": [
       "<table class=\"dataframe\">\n",
       "<caption>A data.frame: 6 × 11</caption>\n",
       "<thead>\n",
       "\t<tr><th></th><th scope=col>X</th><th scope=col>baseMean</th><th scope=col>log2FoldChange</th><th scope=col>lfcSE</th><th scope=col>stat</th><th scope=col>pvalue</th><th scope=col>padj</th><th scope=col>celltype</th><th scope=col>Direction</th><th scope=col>Year</th><th scope=col>type</th></tr>\n",
       "\t<tr><th></th><th scope=col>&lt;chr&gt;</th><th scope=col>&lt;dbl&gt;</th><th scope=col>&lt;dbl&gt;</th><th scope=col>&lt;dbl&gt;</th><th scope=col>&lt;dbl&gt;</th><th scope=col>&lt;dbl&gt;</th><th scope=col>&lt;dbl&gt;</th><th scope=col>&lt;chr&gt;</th><th scope=col>&lt;chr&gt;</th><th scope=col>&lt;chr&gt;</th><th scope=col>&lt;chr&gt;</th></tr>\n",
       "</thead>\n",
       "<tbody>\n",
       "\t<tr><th scope=row>/home/jupyter/IH-A-Aging-Analysis-Notebooks_old/Mansi_Notebooks/scRNA/DEG_Analysis/MS_Sex_DEG_analysis/DEG_cohort_splitby_sex_CSVfiles/Age_yr1_Day0_Male_v2/Activated memory B cell_Y1D0.csv.1</th><td>NOC2L  </td><td>0.4682601</td><td>-0.33564453</td><td>0.8327112</td><td>-0.40307434</td><td>0.6868935</td><td>0.9998266</td><td>Activated memory B cell</td><td>BR1</td><td>Y1</td><td>DEGs_Male</td></tr>\n",
       "\t<tr><th scope=row>/home/jupyter/IH-A-Aging-Analysis-Notebooks_old/Mansi_Notebooks/scRNA/DEG_Analysis/MS_Sex_DEG_analysis/DEG_cohort_splitby_sex_CSVfiles/Age_yr1_Day0_Male_v2/Activated memory B cell_Y1D0.csv.2</th><td>ISG15  </td><td>0.7716756</td><td> 0.03101969</td><td>0.5329482</td><td> 0.05820395</td><td>0.9535862</td><td>0.9998266</td><td>Activated memory B cell</td><td>BR2</td><td>Y1</td><td>DEGs_Male</td></tr>\n",
       "\t<tr><th scope=row>/home/jupyter/IH-A-Aging-Analysis-Notebooks_old/Mansi_Notebooks/scRNA/DEG_Analysis/MS_Sex_DEG_analysis/DEG_cohort_splitby_sex_CSVfiles/Age_yr1_Day0_Male_v2/Activated memory B cell_Y1D0.csv.3</th><td>SDF4   </td><td>0.5631814</td><td> 0.01246954</td><td>0.6510630</td><td> 0.01915259</td><td>0.9847194</td><td>0.9998266</td><td>Activated memory B cell</td><td>BR2</td><td>Y1</td><td>DEGs_Male</td></tr>\n",
       "\t<tr><th scope=row>/home/jupyter/IH-A-Aging-Analysis-Notebooks_old/Mansi_Notebooks/scRNA/DEG_Analysis/MS_Sex_DEG_analysis/DEG_cohort_splitby_sex_CSVfiles/Age_yr1_Day0_Male_v2/Activated memory B cell_Y1D0.csv.4</th><td>B3GALT6</td><td>0.3151741</td><td> 0.61845489</td><td>0.8779896</td><td> 0.70439886</td><td>0.4811844</td><td>0.9998266</td><td>Activated memory B cell</td><td>BR2</td><td>Y1</td><td>DEGs_Male</td></tr>\n",
       "\t<tr><th scope=row>/home/jupyter/IH-A-Aging-Analysis-Notebooks_old/Mansi_Notebooks/scRNA/DEG_Analysis/MS_Sex_DEG_analysis/DEG_cohort_splitby_sex_CSVfiles/Age_yr1_Day0_Male_v2/Activated memory B cell_Y1D0.csv.5</th><td>UBE2J2 </td><td>0.4517144</td><td> 0.17761642</td><td>0.6528145</td><td> 0.27207793</td><td>0.7855621</td><td>0.9998266</td><td>Activated memory B cell</td><td>BR2</td><td>Y1</td><td>DEGs_Male</td></tr>\n",
       "\t<tr><th scope=row>/home/jupyter/IH-A-Aging-Analysis-Notebooks_old/Mansi_Notebooks/scRNA/DEG_Analysis/MS_Sex_DEG_analysis/DEG_cohort_splitby_sex_CSVfiles/Age_yr1_Day0_Male_v2/Activated memory B cell_Y1D0.csv.6</th><td>INTS11 </td><td>0.3656259</td><td> 0.07206422</td><td>0.6856389</td><td> 0.10510521</td><td>0.9162923</td><td>0.9998266</td><td>Activated memory B cell</td><td>BR2</td><td>Y1</td><td>DEGs_Male</td></tr>\n",
       "</tbody>\n",
       "</table>\n"
      ],
      "text/latex": [
       "A data.frame: 6 × 11\n",
       "\\begin{tabular}{r|lllllllllll}\n",
       "  & X & baseMean & log2FoldChange & lfcSE & stat & pvalue & padj & celltype & Direction & Year & type\\\\\n",
       "  & <chr> & <dbl> & <dbl> & <dbl> & <dbl> & <dbl> & <dbl> & <chr> & <chr> & <chr> & <chr>\\\\\n",
       "\\hline\n",
       "\t/home/jupyter/IH-A-Aging-Analysis-Notebooks\\_old/Mansi\\_Notebooks/scRNA/DEG\\_Analysis/MS\\_Sex\\_DEG\\_analysis/DEG\\_cohort\\_splitby\\_sex\\_CSVfiles/Age\\_yr1\\_Day0\\_Male\\_v2/Activated memory B cell\\_Y1D0.csv.1 & NOC2L   & 0.4682601 & -0.33564453 & 0.8327112 & -0.40307434 & 0.6868935 & 0.9998266 & Activated memory B cell & BR1 & Y1 & DEGs\\_Male\\\\\n",
       "\t/home/jupyter/IH-A-Aging-Analysis-Notebooks\\_old/Mansi\\_Notebooks/scRNA/DEG\\_Analysis/MS\\_Sex\\_DEG\\_analysis/DEG\\_cohort\\_splitby\\_sex\\_CSVfiles/Age\\_yr1\\_Day0\\_Male\\_v2/Activated memory B cell\\_Y1D0.csv.2 & ISG15   & 0.7716756 &  0.03101969 & 0.5329482 &  0.05820395 & 0.9535862 & 0.9998266 & Activated memory B cell & BR2 & Y1 & DEGs\\_Male\\\\\n",
       "\t/home/jupyter/IH-A-Aging-Analysis-Notebooks\\_old/Mansi\\_Notebooks/scRNA/DEG\\_Analysis/MS\\_Sex\\_DEG\\_analysis/DEG\\_cohort\\_splitby\\_sex\\_CSVfiles/Age\\_yr1\\_Day0\\_Male\\_v2/Activated memory B cell\\_Y1D0.csv.3 & SDF4    & 0.5631814 &  0.01246954 & 0.6510630 &  0.01915259 & 0.9847194 & 0.9998266 & Activated memory B cell & BR2 & Y1 & DEGs\\_Male\\\\\n",
       "\t/home/jupyter/IH-A-Aging-Analysis-Notebooks\\_old/Mansi\\_Notebooks/scRNA/DEG\\_Analysis/MS\\_Sex\\_DEG\\_analysis/DEG\\_cohort\\_splitby\\_sex\\_CSVfiles/Age\\_yr1\\_Day0\\_Male\\_v2/Activated memory B cell\\_Y1D0.csv.4 & B3GALT6 & 0.3151741 &  0.61845489 & 0.8779896 &  0.70439886 & 0.4811844 & 0.9998266 & Activated memory B cell & BR2 & Y1 & DEGs\\_Male\\\\\n",
       "\t/home/jupyter/IH-A-Aging-Analysis-Notebooks\\_old/Mansi\\_Notebooks/scRNA/DEG\\_Analysis/MS\\_Sex\\_DEG\\_analysis/DEG\\_cohort\\_splitby\\_sex\\_CSVfiles/Age\\_yr1\\_Day0\\_Male\\_v2/Activated memory B cell\\_Y1D0.csv.5 & UBE2J2  & 0.4517144 &  0.17761642 & 0.6528145 &  0.27207793 & 0.7855621 & 0.9998266 & Activated memory B cell & BR2 & Y1 & DEGs\\_Male\\\\\n",
       "\t/home/jupyter/IH-A-Aging-Analysis-Notebooks\\_old/Mansi\\_Notebooks/scRNA/DEG\\_Analysis/MS\\_Sex\\_DEG\\_analysis/DEG\\_cohort\\_splitby\\_sex\\_CSVfiles/Age\\_yr1\\_Day0\\_Male\\_v2/Activated memory B cell\\_Y1D0.csv.6 & INTS11  & 0.3656259 &  0.07206422 & 0.6856389 &  0.10510521 & 0.9162923 & 0.9998266 & Activated memory B cell & BR2 & Y1 & DEGs\\_Male\\\\\n",
       "\\end{tabular}\n"
      ],
      "text/markdown": [
       "\n",
       "A data.frame: 6 × 11\n",
       "\n",
       "| <!--/--> | X &lt;chr&gt; | baseMean &lt;dbl&gt; | log2FoldChange &lt;dbl&gt; | lfcSE &lt;dbl&gt; | stat &lt;dbl&gt; | pvalue &lt;dbl&gt; | padj &lt;dbl&gt; | celltype &lt;chr&gt; | Direction &lt;chr&gt; | Year &lt;chr&gt; | type &lt;chr&gt; |\n",
       "|---|---|---|---|---|---|---|---|---|---|---|---|\n",
       "| /home/jupyter/IH-A-Aging-Analysis-Notebooks_old/Mansi_Notebooks/scRNA/DEG_Analysis/MS_Sex_DEG_analysis/DEG_cohort_splitby_sex_CSVfiles/Age_yr1_Day0_Male_v2/Activated memory B cell_Y1D0.csv.1 | NOC2L   | 0.4682601 | -0.33564453 | 0.8327112 | -0.40307434 | 0.6868935 | 0.9998266 | Activated memory B cell | BR1 | Y1 | DEGs_Male |\n",
       "| /home/jupyter/IH-A-Aging-Analysis-Notebooks_old/Mansi_Notebooks/scRNA/DEG_Analysis/MS_Sex_DEG_analysis/DEG_cohort_splitby_sex_CSVfiles/Age_yr1_Day0_Male_v2/Activated memory B cell_Y1D0.csv.2 | ISG15   | 0.7716756 |  0.03101969 | 0.5329482 |  0.05820395 | 0.9535862 | 0.9998266 | Activated memory B cell | BR2 | Y1 | DEGs_Male |\n",
       "| /home/jupyter/IH-A-Aging-Analysis-Notebooks_old/Mansi_Notebooks/scRNA/DEG_Analysis/MS_Sex_DEG_analysis/DEG_cohort_splitby_sex_CSVfiles/Age_yr1_Day0_Male_v2/Activated memory B cell_Y1D0.csv.3 | SDF4    | 0.5631814 |  0.01246954 | 0.6510630 |  0.01915259 | 0.9847194 | 0.9998266 | Activated memory B cell | BR2 | Y1 | DEGs_Male |\n",
       "| /home/jupyter/IH-A-Aging-Analysis-Notebooks_old/Mansi_Notebooks/scRNA/DEG_Analysis/MS_Sex_DEG_analysis/DEG_cohort_splitby_sex_CSVfiles/Age_yr1_Day0_Male_v2/Activated memory B cell_Y1D0.csv.4 | B3GALT6 | 0.3151741 |  0.61845489 | 0.8779896 |  0.70439886 | 0.4811844 | 0.9998266 | Activated memory B cell | BR2 | Y1 | DEGs_Male |\n",
       "| /home/jupyter/IH-A-Aging-Analysis-Notebooks_old/Mansi_Notebooks/scRNA/DEG_Analysis/MS_Sex_DEG_analysis/DEG_cohort_splitby_sex_CSVfiles/Age_yr1_Day0_Male_v2/Activated memory B cell_Y1D0.csv.5 | UBE2J2  | 0.4517144 |  0.17761642 | 0.6528145 |  0.27207793 | 0.7855621 | 0.9998266 | Activated memory B cell | BR2 | Y1 | DEGs_Male |\n",
       "| /home/jupyter/IH-A-Aging-Analysis-Notebooks_old/Mansi_Notebooks/scRNA/DEG_Analysis/MS_Sex_DEG_analysis/DEG_cohort_splitby_sex_CSVfiles/Age_yr1_Day0_Male_v2/Activated memory B cell_Y1D0.csv.6 | INTS11  | 0.3656259 |  0.07206422 | 0.6856389 |  0.10510521 | 0.9162923 | 0.9998266 | Activated memory B cell | BR2 | Y1 | DEGs_Male |\n",
       "\n"
      ],
      "text/plain": [
       "                                                                                                                                                                                               X      \n",
       "/home/jupyter/IH-A-Aging-Analysis-Notebooks_old/Mansi_Notebooks/scRNA/DEG_Analysis/MS_Sex_DEG_analysis/DEG_cohort_splitby_sex_CSVfiles/Age_yr1_Day0_Male_v2/Activated memory B cell_Y1D0.csv.1 NOC2L  \n",
       "/home/jupyter/IH-A-Aging-Analysis-Notebooks_old/Mansi_Notebooks/scRNA/DEG_Analysis/MS_Sex_DEG_analysis/DEG_cohort_splitby_sex_CSVfiles/Age_yr1_Day0_Male_v2/Activated memory B cell_Y1D0.csv.2 ISG15  \n",
       "/home/jupyter/IH-A-Aging-Analysis-Notebooks_old/Mansi_Notebooks/scRNA/DEG_Analysis/MS_Sex_DEG_analysis/DEG_cohort_splitby_sex_CSVfiles/Age_yr1_Day0_Male_v2/Activated memory B cell_Y1D0.csv.3 SDF4   \n",
       "/home/jupyter/IH-A-Aging-Analysis-Notebooks_old/Mansi_Notebooks/scRNA/DEG_Analysis/MS_Sex_DEG_analysis/DEG_cohort_splitby_sex_CSVfiles/Age_yr1_Day0_Male_v2/Activated memory B cell_Y1D0.csv.4 B3GALT6\n",
       "/home/jupyter/IH-A-Aging-Analysis-Notebooks_old/Mansi_Notebooks/scRNA/DEG_Analysis/MS_Sex_DEG_analysis/DEG_cohort_splitby_sex_CSVfiles/Age_yr1_Day0_Male_v2/Activated memory B cell_Y1D0.csv.5 UBE2J2 \n",
       "/home/jupyter/IH-A-Aging-Analysis-Notebooks_old/Mansi_Notebooks/scRNA/DEG_Analysis/MS_Sex_DEG_analysis/DEG_cohort_splitby_sex_CSVfiles/Age_yr1_Day0_Male_v2/Activated memory B cell_Y1D0.csv.6 INTS11 \n",
       "                                                                                                                                                                                               baseMean \n",
       "/home/jupyter/IH-A-Aging-Analysis-Notebooks_old/Mansi_Notebooks/scRNA/DEG_Analysis/MS_Sex_DEG_analysis/DEG_cohort_splitby_sex_CSVfiles/Age_yr1_Day0_Male_v2/Activated memory B cell_Y1D0.csv.1 0.4682601\n",
       "/home/jupyter/IH-A-Aging-Analysis-Notebooks_old/Mansi_Notebooks/scRNA/DEG_Analysis/MS_Sex_DEG_analysis/DEG_cohort_splitby_sex_CSVfiles/Age_yr1_Day0_Male_v2/Activated memory B cell_Y1D0.csv.2 0.7716756\n",
       "/home/jupyter/IH-A-Aging-Analysis-Notebooks_old/Mansi_Notebooks/scRNA/DEG_Analysis/MS_Sex_DEG_analysis/DEG_cohort_splitby_sex_CSVfiles/Age_yr1_Day0_Male_v2/Activated memory B cell_Y1D0.csv.3 0.5631814\n",
       "/home/jupyter/IH-A-Aging-Analysis-Notebooks_old/Mansi_Notebooks/scRNA/DEG_Analysis/MS_Sex_DEG_analysis/DEG_cohort_splitby_sex_CSVfiles/Age_yr1_Day0_Male_v2/Activated memory B cell_Y1D0.csv.4 0.3151741\n",
       "/home/jupyter/IH-A-Aging-Analysis-Notebooks_old/Mansi_Notebooks/scRNA/DEG_Analysis/MS_Sex_DEG_analysis/DEG_cohort_splitby_sex_CSVfiles/Age_yr1_Day0_Male_v2/Activated memory B cell_Y1D0.csv.5 0.4517144\n",
       "/home/jupyter/IH-A-Aging-Analysis-Notebooks_old/Mansi_Notebooks/scRNA/DEG_Analysis/MS_Sex_DEG_analysis/DEG_cohort_splitby_sex_CSVfiles/Age_yr1_Day0_Male_v2/Activated memory B cell_Y1D0.csv.6 0.3656259\n",
       "                                                                                                                                                                                               log2FoldChange\n",
       "/home/jupyter/IH-A-Aging-Analysis-Notebooks_old/Mansi_Notebooks/scRNA/DEG_Analysis/MS_Sex_DEG_analysis/DEG_cohort_splitby_sex_CSVfiles/Age_yr1_Day0_Male_v2/Activated memory B cell_Y1D0.csv.1 -0.33564453   \n",
       "/home/jupyter/IH-A-Aging-Analysis-Notebooks_old/Mansi_Notebooks/scRNA/DEG_Analysis/MS_Sex_DEG_analysis/DEG_cohort_splitby_sex_CSVfiles/Age_yr1_Day0_Male_v2/Activated memory B cell_Y1D0.csv.2  0.03101969   \n",
       "/home/jupyter/IH-A-Aging-Analysis-Notebooks_old/Mansi_Notebooks/scRNA/DEG_Analysis/MS_Sex_DEG_analysis/DEG_cohort_splitby_sex_CSVfiles/Age_yr1_Day0_Male_v2/Activated memory B cell_Y1D0.csv.3  0.01246954   \n",
       "/home/jupyter/IH-A-Aging-Analysis-Notebooks_old/Mansi_Notebooks/scRNA/DEG_Analysis/MS_Sex_DEG_analysis/DEG_cohort_splitby_sex_CSVfiles/Age_yr1_Day0_Male_v2/Activated memory B cell_Y1D0.csv.4  0.61845489   \n",
       "/home/jupyter/IH-A-Aging-Analysis-Notebooks_old/Mansi_Notebooks/scRNA/DEG_Analysis/MS_Sex_DEG_analysis/DEG_cohort_splitby_sex_CSVfiles/Age_yr1_Day0_Male_v2/Activated memory B cell_Y1D0.csv.5  0.17761642   \n",
       "/home/jupyter/IH-A-Aging-Analysis-Notebooks_old/Mansi_Notebooks/scRNA/DEG_Analysis/MS_Sex_DEG_analysis/DEG_cohort_splitby_sex_CSVfiles/Age_yr1_Day0_Male_v2/Activated memory B cell_Y1D0.csv.6  0.07206422   \n",
       "                                                                                                                                                                                               lfcSE    \n",
       "/home/jupyter/IH-A-Aging-Analysis-Notebooks_old/Mansi_Notebooks/scRNA/DEG_Analysis/MS_Sex_DEG_analysis/DEG_cohort_splitby_sex_CSVfiles/Age_yr1_Day0_Male_v2/Activated memory B cell_Y1D0.csv.1 0.8327112\n",
       "/home/jupyter/IH-A-Aging-Analysis-Notebooks_old/Mansi_Notebooks/scRNA/DEG_Analysis/MS_Sex_DEG_analysis/DEG_cohort_splitby_sex_CSVfiles/Age_yr1_Day0_Male_v2/Activated memory B cell_Y1D0.csv.2 0.5329482\n",
       "/home/jupyter/IH-A-Aging-Analysis-Notebooks_old/Mansi_Notebooks/scRNA/DEG_Analysis/MS_Sex_DEG_analysis/DEG_cohort_splitby_sex_CSVfiles/Age_yr1_Day0_Male_v2/Activated memory B cell_Y1D0.csv.3 0.6510630\n",
       "/home/jupyter/IH-A-Aging-Analysis-Notebooks_old/Mansi_Notebooks/scRNA/DEG_Analysis/MS_Sex_DEG_analysis/DEG_cohort_splitby_sex_CSVfiles/Age_yr1_Day0_Male_v2/Activated memory B cell_Y1D0.csv.4 0.8779896\n",
       "/home/jupyter/IH-A-Aging-Analysis-Notebooks_old/Mansi_Notebooks/scRNA/DEG_Analysis/MS_Sex_DEG_analysis/DEG_cohort_splitby_sex_CSVfiles/Age_yr1_Day0_Male_v2/Activated memory B cell_Y1D0.csv.5 0.6528145\n",
       "/home/jupyter/IH-A-Aging-Analysis-Notebooks_old/Mansi_Notebooks/scRNA/DEG_Analysis/MS_Sex_DEG_analysis/DEG_cohort_splitby_sex_CSVfiles/Age_yr1_Day0_Male_v2/Activated memory B cell_Y1D0.csv.6 0.6856389\n",
       "                                                                                                                                                                                               stat       \n",
       "/home/jupyter/IH-A-Aging-Analysis-Notebooks_old/Mansi_Notebooks/scRNA/DEG_Analysis/MS_Sex_DEG_analysis/DEG_cohort_splitby_sex_CSVfiles/Age_yr1_Day0_Male_v2/Activated memory B cell_Y1D0.csv.1 -0.40307434\n",
       "/home/jupyter/IH-A-Aging-Analysis-Notebooks_old/Mansi_Notebooks/scRNA/DEG_Analysis/MS_Sex_DEG_analysis/DEG_cohort_splitby_sex_CSVfiles/Age_yr1_Day0_Male_v2/Activated memory B cell_Y1D0.csv.2  0.05820395\n",
       "/home/jupyter/IH-A-Aging-Analysis-Notebooks_old/Mansi_Notebooks/scRNA/DEG_Analysis/MS_Sex_DEG_analysis/DEG_cohort_splitby_sex_CSVfiles/Age_yr1_Day0_Male_v2/Activated memory B cell_Y1D0.csv.3  0.01915259\n",
       "/home/jupyter/IH-A-Aging-Analysis-Notebooks_old/Mansi_Notebooks/scRNA/DEG_Analysis/MS_Sex_DEG_analysis/DEG_cohort_splitby_sex_CSVfiles/Age_yr1_Day0_Male_v2/Activated memory B cell_Y1D0.csv.4  0.70439886\n",
       "/home/jupyter/IH-A-Aging-Analysis-Notebooks_old/Mansi_Notebooks/scRNA/DEG_Analysis/MS_Sex_DEG_analysis/DEG_cohort_splitby_sex_CSVfiles/Age_yr1_Day0_Male_v2/Activated memory B cell_Y1D0.csv.5  0.27207793\n",
       "/home/jupyter/IH-A-Aging-Analysis-Notebooks_old/Mansi_Notebooks/scRNA/DEG_Analysis/MS_Sex_DEG_analysis/DEG_cohort_splitby_sex_CSVfiles/Age_yr1_Day0_Male_v2/Activated memory B cell_Y1D0.csv.6  0.10510521\n",
       "                                                                                                                                                                                               pvalue   \n",
       "/home/jupyter/IH-A-Aging-Analysis-Notebooks_old/Mansi_Notebooks/scRNA/DEG_Analysis/MS_Sex_DEG_analysis/DEG_cohort_splitby_sex_CSVfiles/Age_yr1_Day0_Male_v2/Activated memory B cell_Y1D0.csv.1 0.6868935\n",
       "/home/jupyter/IH-A-Aging-Analysis-Notebooks_old/Mansi_Notebooks/scRNA/DEG_Analysis/MS_Sex_DEG_analysis/DEG_cohort_splitby_sex_CSVfiles/Age_yr1_Day0_Male_v2/Activated memory B cell_Y1D0.csv.2 0.9535862\n",
       "/home/jupyter/IH-A-Aging-Analysis-Notebooks_old/Mansi_Notebooks/scRNA/DEG_Analysis/MS_Sex_DEG_analysis/DEG_cohort_splitby_sex_CSVfiles/Age_yr1_Day0_Male_v2/Activated memory B cell_Y1D0.csv.3 0.9847194\n",
       "/home/jupyter/IH-A-Aging-Analysis-Notebooks_old/Mansi_Notebooks/scRNA/DEG_Analysis/MS_Sex_DEG_analysis/DEG_cohort_splitby_sex_CSVfiles/Age_yr1_Day0_Male_v2/Activated memory B cell_Y1D0.csv.4 0.4811844\n",
       "/home/jupyter/IH-A-Aging-Analysis-Notebooks_old/Mansi_Notebooks/scRNA/DEG_Analysis/MS_Sex_DEG_analysis/DEG_cohort_splitby_sex_CSVfiles/Age_yr1_Day0_Male_v2/Activated memory B cell_Y1D0.csv.5 0.7855621\n",
       "/home/jupyter/IH-A-Aging-Analysis-Notebooks_old/Mansi_Notebooks/scRNA/DEG_Analysis/MS_Sex_DEG_analysis/DEG_cohort_splitby_sex_CSVfiles/Age_yr1_Day0_Male_v2/Activated memory B cell_Y1D0.csv.6 0.9162923\n",
       "                                                                                                                                                                                               padj     \n",
       "/home/jupyter/IH-A-Aging-Analysis-Notebooks_old/Mansi_Notebooks/scRNA/DEG_Analysis/MS_Sex_DEG_analysis/DEG_cohort_splitby_sex_CSVfiles/Age_yr1_Day0_Male_v2/Activated memory B cell_Y1D0.csv.1 0.9998266\n",
       "/home/jupyter/IH-A-Aging-Analysis-Notebooks_old/Mansi_Notebooks/scRNA/DEG_Analysis/MS_Sex_DEG_analysis/DEG_cohort_splitby_sex_CSVfiles/Age_yr1_Day0_Male_v2/Activated memory B cell_Y1D0.csv.2 0.9998266\n",
       "/home/jupyter/IH-A-Aging-Analysis-Notebooks_old/Mansi_Notebooks/scRNA/DEG_Analysis/MS_Sex_DEG_analysis/DEG_cohort_splitby_sex_CSVfiles/Age_yr1_Day0_Male_v2/Activated memory B cell_Y1D0.csv.3 0.9998266\n",
       "/home/jupyter/IH-A-Aging-Analysis-Notebooks_old/Mansi_Notebooks/scRNA/DEG_Analysis/MS_Sex_DEG_analysis/DEG_cohort_splitby_sex_CSVfiles/Age_yr1_Day0_Male_v2/Activated memory B cell_Y1D0.csv.4 0.9998266\n",
       "/home/jupyter/IH-A-Aging-Analysis-Notebooks_old/Mansi_Notebooks/scRNA/DEG_Analysis/MS_Sex_DEG_analysis/DEG_cohort_splitby_sex_CSVfiles/Age_yr1_Day0_Male_v2/Activated memory B cell_Y1D0.csv.5 0.9998266\n",
       "/home/jupyter/IH-A-Aging-Analysis-Notebooks_old/Mansi_Notebooks/scRNA/DEG_Analysis/MS_Sex_DEG_analysis/DEG_cohort_splitby_sex_CSVfiles/Age_yr1_Day0_Male_v2/Activated memory B cell_Y1D0.csv.6 0.9998266\n",
       "                                                                                                                                                                                               celltype               \n",
       "/home/jupyter/IH-A-Aging-Analysis-Notebooks_old/Mansi_Notebooks/scRNA/DEG_Analysis/MS_Sex_DEG_analysis/DEG_cohort_splitby_sex_CSVfiles/Age_yr1_Day0_Male_v2/Activated memory B cell_Y1D0.csv.1 Activated memory B cell\n",
       "/home/jupyter/IH-A-Aging-Analysis-Notebooks_old/Mansi_Notebooks/scRNA/DEG_Analysis/MS_Sex_DEG_analysis/DEG_cohort_splitby_sex_CSVfiles/Age_yr1_Day0_Male_v2/Activated memory B cell_Y1D0.csv.2 Activated memory B cell\n",
       "/home/jupyter/IH-A-Aging-Analysis-Notebooks_old/Mansi_Notebooks/scRNA/DEG_Analysis/MS_Sex_DEG_analysis/DEG_cohort_splitby_sex_CSVfiles/Age_yr1_Day0_Male_v2/Activated memory B cell_Y1D0.csv.3 Activated memory B cell\n",
       "/home/jupyter/IH-A-Aging-Analysis-Notebooks_old/Mansi_Notebooks/scRNA/DEG_Analysis/MS_Sex_DEG_analysis/DEG_cohort_splitby_sex_CSVfiles/Age_yr1_Day0_Male_v2/Activated memory B cell_Y1D0.csv.4 Activated memory B cell\n",
       "/home/jupyter/IH-A-Aging-Analysis-Notebooks_old/Mansi_Notebooks/scRNA/DEG_Analysis/MS_Sex_DEG_analysis/DEG_cohort_splitby_sex_CSVfiles/Age_yr1_Day0_Male_v2/Activated memory B cell_Y1D0.csv.5 Activated memory B cell\n",
       "/home/jupyter/IH-A-Aging-Analysis-Notebooks_old/Mansi_Notebooks/scRNA/DEG_Analysis/MS_Sex_DEG_analysis/DEG_cohort_splitby_sex_CSVfiles/Age_yr1_Day0_Male_v2/Activated memory B cell_Y1D0.csv.6 Activated memory B cell\n",
       "                                                                                                                                                                                               Direction\n",
       "/home/jupyter/IH-A-Aging-Analysis-Notebooks_old/Mansi_Notebooks/scRNA/DEG_Analysis/MS_Sex_DEG_analysis/DEG_cohort_splitby_sex_CSVfiles/Age_yr1_Day0_Male_v2/Activated memory B cell_Y1D0.csv.1 BR1      \n",
       "/home/jupyter/IH-A-Aging-Analysis-Notebooks_old/Mansi_Notebooks/scRNA/DEG_Analysis/MS_Sex_DEG_analysis/DEG_cohort_splitby_sex_CSVfiles/Age_yr1_Day0_Male_v2/Activated memory B cell_Y1D0.csv.2 BR2      \n",
       "/home/jupyter/IH-A-Aging-Analysis-Notebooks_old/Mansi_Notebooks/scRNA/DEG_Analysis/MS_Sex_DEG_analysis/DEG_cohort_splitby_sex_CSVfiles/Age_yr1_Day0_Male_v2/Activated memory B cell_Y1D0.csv.3 BR2      \n",
       "/home/jupyter/IH-A-Aging-Analysis-Notebooks_old/Mansi_Notebooks/scRNA/DEG_Analysis/MS_Sex_DEG_analysis/DEG_cohort_splitby_sex_CSVfiles/Age_yr1_Day0_Male_v2/Activated memory B cell_Y1D0.csv.4 BR2      \n",
       "/home/jupyter/IH-A-Aging-Analysis-Notebooks_old/Mansi_Notebooks/scRNA/DEG_Analysis/MS_Sex_DEG_analysis/DEG_cohort_splitby_sex_CSVfiles/Age_yr1_Day0_Male_v2/Activated memory B cell_Y1D0.csv.5 BR2      \n",
       "/home/jupyter/IH-A-Aging-Analysis-Notebooks_old/Mansi_Notebooks/scRNA/DEG_Analysis/MS_Sex_DEG_analysis/DEG_cohort_splitby_sex_CSVfiles/Age_yr1_Day0_Male_v2/Activated memory B cell_Y1D0.csv.6 BR2      \n",
       "                                                                                                                                                                                               Year\n",
       "/home/jupyter/IH-A-Aging-Analysis-Notebooks_old/Mansi_Notebooks/scRNA/DEG_Analysis/MS_Sex_DEG_analysis/DEG_cohort_splitby_sex_CSVfiles/Age_yr1_Day0_Male_v2/Activated memory B cell_Y1D0.csv.1 Y1  \n",
       "/home/jupyter/IH-A-Aging-Analysis-Notebooks_old/Mansi_Notebooks/scRNA/DEG_Analysis/MS_Sex_DEG_analysis/DEG_cohort_splitby_sex_CSVfiles/Age_yr1_Day0_Male_v2/Activated memory B cell_Y1D0.csv.2 Y1  \n",
       "/home/jupyter/IH-A-Aging-Analysis-Notebooks_old/Mansi_Notebooks/scRNA/DEG_Analysis/MS_Sex_DEG_analysis/DEG_cohort_splitby_sex_CSVfiles/Age_yr1_Day0_Male_v2/Activated memory B cell_Y1D0.csv.3 Y1  \n",
       "/home/jupyter/IH-A-Aging-Analysis-Notebooks_old/Mansi_Notebooks/scRNA/DEG_Analysis/MS_Sex_DEG_analysis/DEG_cohort_splitby_sex_CSVfiles/Age_yr1_Day0_Male_v2/Activated memory B cell_Y1D0.csv.4 Y1  \n",
       "/home/jupyter/IH-A-Aging-Analysis-Notebooks_old/Mansi_Notebooks/scRNA/DEG_Analysis/MS_Sex_DEG_analysis/DEG_cohort_splitby_sex_CSVfiles/Age_yr1_Day0_Male_v2/Activated memory B cell_Y1D0.csv.5 Y1  \n",
       "/home/jupyter/IH-A-Aging-Analysis-Notebooks_old/Mansi_Notebooks/scRNA/DEG_Analysis/MS_Sex_DEG_analysis/DEG_cohort_splitby_sex_CSVfiles/Age_yr1_Day0_Male_v2/Activated memory B cell_Y1D0.csv.6 Y1  \n",
       "                                                                                                                                                                                               type     \n",
       "/home/jupyter/IH-A-Aging-Analysis-Notebooks_old/Mansi_Notebooks/scRNA/DEG_Analysis/MS_Sex_DEG_analysis/DEG_cohort_splitby_sex_CSVfiles/Age_yr1_Day0_Male_v2/Activated memory B cell_Y1D0.csv.1 DEGs_Male\n",
       "/home/jupyter/IH-A-Aging-Analysis-Notebooks_old/Mansi_Notebooks/scRNA/DEG_Analysis/MS_Sex_DEG_analysis/DEG_cohort_splitby_sex_CSVfiles/Age_yr1_Day0_Male_v2/Activated memory B cell_Y1D0.csv.2 DEGs_Male\n",
       "/home/jupyter/IH-A-Aging-Analysis-Notebooks_old/Mansi_Notebooks/scRNA/DEG_Analysis/MS_Sex_DEG_analysis/DEG_cohort_splitby_sex_CSVfiles/Age_yr1_Day0_Male_v2/Activated memory B cell_Y1D0.csv.3 DEGs_Male\n",
       "/home/jupyter/IH-A-Aging-Analysis-Notebooks_old/Mansi_Notebooks/scRNA/DEG_Analysis/MS_Sex_DEG_analysis/DEG_cohort_splitby_sex_CSVfiles/Age_yr1_Day0_Male_v2/Activated memory B cell_Y1D0.csv.4 DEGs_Male\n",
       "/home/jupyter/IH-A-Aging-Analysis-Notebooks_old/Mansi_Notebooks/scRNA/DEG_Analysis/MS_Sex_DEG_analysis/DEG_cohort_splitby_sex_CSVfiles/Age_yr1_Day0_Male_v2/Activated memory B cell_Y1D0.csv.5 DEGs_Male\n",
       "/home/jupyter/IH-A-Aging-Analysis-Notebooks_old/Mansi_Notebooks/scRNA/DEG_Analysis/MS_Sex_DEG_analysis/DEG_cohort_splitby_sex_CSVfiles/Age_yr1_Day0_Male_v2/Activated memory B cell_Y1D0.csv.6 DEGs_Male"
      ]
     },
     "metadata": {},
     "output_type": "display_data"
    },
    {
     "data": {
      "text/html": [
       "<style>\n",
       ".list-inline {list-style: none; margin:0; padding: 0}\n",
       ".list-inline>li {display: inline-block}\n",
       ".list-inline>li:not(:last-child)::after {content: \"\\00b7\"; padding: 0 .5ex}\n",
       "</style>\n",
       "<ol class=list-inline><li>744822</li><li>11</li></ol>\n"
      ],
      "text/latex": [
       "\\begin{enumerate*}\n",
       "\\item 744822\n",
       "\\item 11\n",
       "\\end{enumerate*}\n"
      ],
      "text/markdown": [
       "1. 744822\n",
       "2. 11\n",
       "\n",
       "\n"
      ],
      "text/plain": [
       "[1] 744822     11"
      ]
     },
     "metadata": {},
     "output_type": "display_data"
    },
    {
     "data": {
      "text/html": [
       "71"
      ],
      "text/latex": [
       "71"
      ],
      "text/markdown": [
       "71"
      ],
      "text/plain": [
       "[1] 71"
      ]
     },
     "metadata": {},
     "output_type": "display_data"
    }
   ],
   "source": [
    "head(master)\n",
    "dim(master)\n",
    "length(unique(master$celltype))"
   ]
  },
  {
   "cell_type": "code",
   "execution_count": 18,
   "id": "642c4c92-6816-44a3-a45e-b74b29d353e6",
   "metadata": {
    "tags": []
   },
   "outputs": [],
   "source": [
    "# Write DataFrame to a CSV file\n",
    "write.csv(master, \"/home/jupyter/IH-A-Aging-Analysis-Notebooks_old/Mansi_Notebooks/scRNA/Figure_Notebooks/master_combined_DEG_list_all_celltypes_forfigs.csv\", row.names = FALSE)\n"
   ]
  },
  {
   "cell_type": "code",
   "execution_count": null,
   "id": "a7fa5227-4734-4adb-8c34-b2c627b99e58",
   "metadata": {},
   "outputs": [],
   "source": []
  }
 ],
 "metadata": {
  "kernelspec": {
   "display_name": "R 4",
   "language": "R",
   "name": "ir4"
  },
  "language_info": {
   "codemirror_mode": "r",
   "file_extension": ".r",
   "mimetype": "text/x-r-source",
   "name": "R",
   "pygments_lexer": "r",
   "version": "4.3.1"
  }
 },
 "nbformat": 4,
 "nbformat_minor": 5
}
