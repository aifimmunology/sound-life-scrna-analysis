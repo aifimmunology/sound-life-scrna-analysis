{
 "cells": [
  {
   "cell_type": "code",
   "execution_count": 1,
   "id": "680f76b7-ce48-484a-97e9-7bf8426d4704",
   "metadata": {
    "tags": []
   },
   "outputs": [],
   "source": [
    "import hisepy as hp\n",
    "import h5py\n",
    "import pandas as pd\n",
    "import scipy.sparse as scs\n",
    "import os\n",
    "import scanpy as sc\n",
    "import anndata"
   ]
  },
  {
   "cell_type": "code",
   "execution_count": 2,
   "id": "53f022d0-1ade-4d9f-b1ee-89fd3e929b14",
   "metadata": {
    "tags": []
   },
   "outputs": [
    {
     "name": "stderr",
     "output_type": "stream",
     "text": [
      "/opt/conda/lib/python3.10/site-packages/scvi/_settings.py:63: UserWarning: Since v1.0.0, scvi-tools no longer uses a random seed by default. Run `scvi.settings.seed = 0` to reproduce results from previous versions.\n",
      "  self.seed = seed\n",
      "/opt/conda/lib/python3.10/site-packages/scvi/_settings.py:70: UserWarning: Setting `dl_pin_memory_gpu_training` is deprecated in v1.0 and will be removed in v1.1. Please pass in `pin_memory` to the data loaders instead.\n",
      "  self.dl_pin_memory_gpu_training = (\n"
     ]
    }
   ],
   "source": [
    "import anndata\n",
    "import h5py\n",
    "import os\n",
    "import pandas\n",
    "import scanpy as sc\n",
    "import scvi\n",
    "import matplotlib.pyplot as plt\n",
    "\n",
    "\n",
    "import scipy.sparse as scs\n",
    "import numpy as np"
   ]
  },
  {
   "cell_type": "code",
   "execution_count": 3,
   "id": "ea5522df-6d9c-429b-bb7e-4526b84e624b",
   "metadata": {
    "tags": []
   },
   "outputs": [],
   "source": [
    "import anndata\n",
    "import h5py\n",
    "import os\n",
    "import pandas\n",
    "import scanpy as sc\n",
    "import scvi\n",
    "import matplotlib.pyplot as plt\n",
    "\n",
    "import scipy.sparse as scs\n",
    "import numpy as np\n",
    "import sklearn\n",
    "import seaborn as sns\n",
    "sns.set()"
   ]
  },
  {
   "cell_type": "markdown",
   "id": "0f1c3846-c801-46ca-bd33-ba5b3d968ab3",
   "metadata": {
    "tags": []
   },
   "source": [
    "# read raw anndata object"
   ]
  },
  {
   "cell_type": "code",
   "execution_count": 49,
   "id": "f430e401-c0ba-40d3-9c0e-8c1f5eecc77d",
   "metadata": {
    "tags": []
   },
   "outputs": [
    {
     "data": {
      "text/plain": [
       "AnnData object with n_obs × n_vars = 2679 × 33538\n",
       "    obs: 'barcodes', 'batch_id', 'cell_name', 'cell_uuid', 'chip_id', 'hto_barcode', 'hto_category', 'n_genes', 'n_mito_umis', 'n_reads', 'n_umis', 'original_barcodes', 'pbmc_sample_id', 'pool_id', 'seurat_pbmc_type', 'seurat_pbmc_type_score', 'umap_1', 'umap_2', 'well_id', 'subject.biologicalSex', 'subject.ethnicity', 'subject.partnerCode', 'subject.race', 'subject.subjectGuid', 'cohort.cohortGuid', 'sample.visitName', 'sample.visitDetails', 'subject.birthYear', 'CMV.IgG.Serology.Result.Interpretation', 'BMI', 'predicted_doublet', 'doublet_score', 'AIFI_L1', 'AIFI_L2', 'AIFI_L3', 'AIFI_L3.5', 'n_genes_by_counts', 'log1p_n_genes_by_counts', 'total_counts', 'log1p_total_counts', 'pct_counts_in_top_50_genes', 'pct_counts_in_top_100_genes', 'pct_counts_in_top_200_genes', 'pct_counts_in_top_500_genes', 'total_counts_mito', 'log1p_total_counts_mito', 'pct_counts_mito'\n",
       "    layers: 'counts'"
      ]
     },
     "execution_count": 49,
     "metadata": {},
     "output_type": "execute_result"
    }
   ],
   "source": [
    "adata = sc.read ('/home/jupyter/Myeloid_cells/files/IL1B_CD14_Mono_ONLY_FluYr1D0_raw_04172024.h5ad')\n",
    "adata"
   ]
  },
  {
   "cell_type": "code",
   "execution_count": 50,
   "id": "0633fe89-a1ce-47a8-9b11-7de9be41814f",
   "metadata": {
    "tags": []
   },
   "outputs": [
    {
     "data": {
      "text/plain": [
       "array([[0., 0., 0., ..., 0., 0., 0.],\n",
       "       [0., 0., 0., ..., 0., 0., 0.],\n",
       "       [0., 0., 0., ..., 0., 0., 0.],\n",
       "       ...,\n",
       "       [0., 0., 0., ..., 0., 0., 0.],\n",
       "       [0., 0., 0., ..., 0., 0., 0.],\n",
       "       [0., 0., 0., ..., 0., 0., 0.]], dtype=float32)"
      ]
     },
     "execution_count": 50,
     "metadata": {},
     "output_type": "execute_result"
    }
   ],
   "source": [
    "adata.X.toarray()"
   ]
  },
  {
   "cell_type": "code",
   "execution_count": 31,
   "id": "ea234752-49c1-4f88-b0b6-08f1cdba87ad",
   "metadata": {
    "tags": []
   },
   "outputs": [],
   "source": [
    "# Normalize the object"
   ]
  },
  {
   "cell_type": "code",
   "execution_count": 32,
   "id": "b70ede25-07e4-4e91-ad51-e00bcf35ceba",
   "metadata": {
    "tags": []
   },
   "outputs": [],
   "source": [
    "sc.pp.normalize_total(adata, target_sum=1e4)"
   ]
  },
  {
   "cell_type": "code",
   "execution_count": 33,
   "id": "501c0d8c-8a62-4877-9e8f-d35fcaf49337",
   "metadata": {
    "tags": []
   },
   "outputs": [
    {
     "data": {
      "text/plain": [
       "array([[0., 0., 0., ..., 0., 0., 0.],\n",
       "       [0., 0., 0., ..., 0., 0., 0.],\n",
       "       [0., 0., 0., ..., 0., 0., 0.],\n",
       "       ...,\n",
       "       [0., 0., 0., ..., 0., 0., 0.],\n",
       "       [0., 0., 0., ..., 0., 0., 0.],\n",
       "       [0., 0., 0., ..., 0., 0., 0.]], dtype=float32)"
      ]
     },
     "execution_count": 33,
     "metadata": {},
     "output_type": "execute_result"
    }
   ],
   "source": [
    "adata.X.toarray()"
   ]
  },
  {
   "cell_type": "code",
   "execution_count": 28,
   "id": "41893e02-5438-4b99-b16a-330baeb694c7",
   "metadata": {
    "tags": []
   },
   "outputs": [],
   "source": [
    "sc.pp.log1p(adata)"
   ]
  },
  {
   "cell_type": "code",
   "execution_count": 12,
   "id": "daff186e-9304-4edc-9b68-21986cac4353",
   "metadata": {
    "tags": []
   },
   "outputs": [
    {
     "data": {
      "text/plain": [
       "array([[0., 0., 0., ..., 0., 0., 0.],\n",
       "       [0., 0., 0., ..., 0., 0., 0.],\n",
       "       [0., 0., 0., ..., 0., 0., 0.],\n",
       "       ...,\n",
       "       [0., 0., 0., ..., 0., 0., 0.],\n",
       "       [0., 0., 0., ..., 0., 0., 0.],\n",
       "       [0., 0., 0., ..., 0., 0., 0.]], dtype=float32)"
      ]
     },
     "execution_count": 12,
     "metadata": {},
     "output_type": "execute_result"
    }
   ],
   "source": [
    "adata.X.toarray()"
   ]
  },
  {
   "cell_type": "markdown",
   "id": "94d8efdc-042b-42fa-9f4b-af01293bf28c",
   "metadata": {},
   "source": [
    "# Mean expression"
   ]
  },
  {
   "cell_type": "code",
   "execution_count": 34,
   "id": "059f2d20-0a44-459a-88c9-8d4baff83735",
   "metadata": {
    "tags": []
   },
   "outputs": [],
   "source": [
    "adata.obs['unique_ID'] = adata.obs['pbmc_sample_id'].str.cat (adata.obs['subject.biologicalSex'], sep = \"_\").str.cat (adata.obs['cohort.cohortGuid'], sep = \"_\")"
   ]
  },
  {
   "cell_type": "code",
   "execution_count": 35,
   "id": "924c593c-132d-4e4b-b866-9f5237a1b734",
   "metadata": {
    "tags": []
   },
   "outputs": [
    {
     "data": {
      "text/plain": [
       "AnnData object with n_obs × n_vars = 2679 × 33538\n",
       "    obs: 'barcodes', 'batch_id', 'cell_name', 'cell_uuid', 'chip_id', 'hto_barcode', 'hto_category', 'n_genes', 'n_mito_umis', 'n_reads', 'n_umis', 'original_barcodes', 'pbmc_sample_id', 'pool_id', 'seurat_pbmc_type', 'seurat_pbmc_type_score', 'umap_1', 'umap_2', 'well_id', 'subject.biologicalSex', 'subject.ethnicity', 'subject.partnerCode', 'subject.race', 'subject.subjectGuid', 'cohort.cohortGuid', 'sample.visitName', 'sample.visitDetails', 'subject.birthYear', 'CMV.IgG.Serology.Result.Interpretation', 'BMI', 'predicted_doublet', 'doublet_score', 'AIFI_L1', 'AIFI_L2', 'AIFI_L3', 'AIFI_L3.5', 'n_genes_by_counts', 'log1p_n_genes_by_counts', 'total_counts', 'log1p_total_counts', 'pct_counts_in_top_50_genes', 'pct_counts_in_top_100_genes', 'pct_counts_in_top_200_genes', 'pct_counts_in_top_500_genes', 'total_counts_mito', 'log1p_total_counts_mito', 'pct_counts_mito', 'unique_ID'\n",
       "    layers: 'counts'"
      ]
     },
     "execution_count": 35,
     "metadata": {},
     "output_type": "execute_result"
    }
   ],
   "source": [
    "adata"
   ]
  },
  {
   "cell_type": "code",
   "execution_count": 36,
   "id": "1c65a9b8-91f4-4998-bdae-383822401592",
   "metadata": {
    "tags": []
   },
   "outputs": [
    {
     "data": {
      "text/plain": [
       "array(['PB00001-01_Female_BR1', 'PB00002-01_Male_BR1',\n",
       "       'PB00003-01_Female_BR1', 'PB00004-01_Male_BR1',\n",
       "       'PB00006-01_Female_BR1', 'PB00010-02_Male_BR1',\n",
       "       'PB00012-01_Female_BR1', 'PB00014-01_Male_BR1',\n",
       "       'PB00015-01_Male_BR2', 'PB00016-01_Female_BR2',\n",
       "       'PB00022-01_Female_BR1', 'PB00023-05_Female_BR1',\n",
       "       'PB00025-04_Male_BR1', 'PB00026-05_Male_BR1',\n",
       "       'PB00030-02_Female_BR1', 'PB00031-05_Female_BR1',\n",
       "       'PB00041-01_Male_BR1', 'PB00166-01_Female_BR1',\n",
       "       'PB00334-01_Female_BR2', 'PB00338-01_Female_BR1',\n",
       "       'PB00339-01_Male_BR2', 'PB00341-01_Female_BR1',\n",
       "       'PB00342-01_Male_BR2', 'PB00345-01_Female_BR1',\n",
       "       'PB00347-01_Female_BR1', 'PB00349-01_Female_BR1',\n",
       "       'PB00350-01_Female_BR1', 'PB00352-04_Female_BR2',\n",
       "       'PB00353-04_Female_BR2', 'PB00356-01_Male_BR2',\n",
       "       'PB00357-01_Male_BR1', 'PB00362-01_Female_BR1',\n",
       "       'PB00363-01_Male_BR1', 'PB00365-01_Female_BR1',\n",
       "       'PB00366-01_Female_BR1', 'PB00368-07_Female_BR2',\n",
       "       'PB00369-01_Male_BR2', 'PB00377-01_Female_BR2',\n",
       "       'PB00383-01_Male_BR2', 'PB00384-01_Male_BR1',\n",
       "       'PB00386-01_Male_BR1', 'PB00387-01_Female_BR2',\n",
       "       'PB00388-01_Female_BR2', 'PB00390-01_Male_BR2',\n",
       "       'PB00391-01_Male_BR1', 'PB00393-01_Female_BR2',\n",
       "       'PB00394-02_Female_BR2', 'PB00398-01_Male_BR1',\n",
       "       'PB00501-01_Female_BR2', 'PB00504-01_Male_BR1',\n",
       "       'PB00507-01_Female_BR1', 'PB00510-01_Male_BR2',\n",
       "       'PB00514-01_Male_BR1', 'PB00516-01_Female_BR2',\n",
       "       'PB00518-01_Male_BR1', 'PB00520-01_Male_BR2',\n",
       "       'PB00523-01_Male_BR2', 'PB00525-01_Female_BR1',\n",
       "       'PB00526-01_Female_BR2', 'PB00529-01_Female_BR1',\n",
       "       'PB00530-01_Female_BR2', 'PB00532-01_Female_BR1',\n",
       "       'PB00533-01_Female_BR2', 'PB00535-01_Male_BR1',\n",
       "       'PB00537-01_Female_BR2', 'PB00539-01_Male_BR2',\n",
       "       'PB00541-01_Female_BR2', 'PB00545-01_Female_BR2',\n",
       "       'PB00549-01_Male_BR1', 'PB00552-01_Female_BR2',\n",
       "       'PB00557-01_Female_BR2', 'PB00561-04_Female_BR2',\n",
       "       'PB00562-01_Male_BR2', 'PB00563-01_Male_BR2',\n",
       "       'PB00564-04_Male_BR2', 'PB00565-01_Male_BR1',\n",
       "       'PB00566-01_Male_BR2', 'PB00568-01_Female_BR2',\n",
       "       'PB00569-01_Female_BR2', 'PB00575-01_Female_BR1',\n",
       "       'PB00582-01_Male_BR2', 'PB00588-01_Male_BR2',\n",
       "       'PB00592-01_Male_BR1', 'PB00599-01_Female_BR2',\n",
       "       'PB00600-01_Male_BR2', 'PB00602-01_Female_BR2',\n",
       "       'PB00621-01_Female_BR1', 'PB00623-01_Male_BR2',\n",
       "       'PB00625-02_Male_BR2', 'PB00645-01_Female_BR1',\n",
       "       'PB01425-01_Female_BR1', 'PB01446-01_Male_BR1'], dtype=object)"
      ]
     },
     "execution_count": 36,
     "metadata": {},
     "output_type": "execute_result"
    }
   ],
   "source": [
    "adata.obs['unique_ID'].unique()"
   ]
  },
  {
   "cell_type": "code",
   "execution_count": 37,
   "id": "a5aa3933-2acb-47f7-bf54-884a3693fc4e",
   "metadata": {
    "tags": []
   },
   "outputs": [
    {
     "data": {
      "text/plain": [
       "['IL1B+ CD14 monocyte']\n",
       "Categories (1, object): ['IL1B+ CD14 monocyte']"
      ]
     },
     "execution_count": 37,
     "metadata": {},
     "output_type": "execute_result"
    }
   ],
   "source": [
    "adata.obs['AIFI_L3'].unique()"
   ]
  },
  {
   "cell_type": "code",
   "execution_count": 38,
   "id": "002de25e-0ad3-45b3-aa9b-c9c9ac86e7a3",
   "metadata": {
    "tags": []
   },
   "outputs": [],
   "source": [
    "adata.raw = adata"
   ]
  },
  {
   "cell_type": "code",
   "execution_count": 39,
   "id": "8b978e96-d85a-4774-a698-4ddd222ea764",
   "metadata": {
    "tags": []
   },
   "outputs": [
    {
     "name": "stderr",
     "output_type": "stream",
     "text": [
      "/tmp/ipykernel_15644/3870134352.py:1: FutureWarning: The default of observed=False is deprecated and will be changed to True in a future version of pandas. Pass observed=False to retain current behavior or observed=True to adopt the future default and silence this warning.\n",
      "  grouped = adata.obs.groupby(['AIFI_L3','unique_ID'])\n"
     ]
    }
   ],
   "source": [
    "grouped = adata.obs.groupby(['AIFI_L3','unique_ID'])"
   ]
  },
  {
   "cell_type": "code",
   "execution_count": 40,
   "id": "df2fd46d-7d94-4f1e-ab5a-ff0228502ce2",
   "metadata": {
    "tags": []
   },
   "outputs": [],
   "source": [
    "def grouped_obs_mean(adata_filt, group_key, layer=None, gene_symbols=None):  #  calculates the mean expression of genes across different groups \n",
    "    if layer is not None:\n",
    "        getX = lambda x: x.layers[layer]\n",
    "    else:\n",
    "        getX = lambda x: x.X\n",
    "    if gene_symbols is not None:\n",
    "        new_idx = adata_filt.raw.var[idx]\n",
    "    else:\n",
    "        new_idx = adata_filt.raw.var_names\n",
    "    \n",
    "    grouped = adata_filt.obs.groupby(group_key)\n",
    "    out = pd.DataFrame(\n",
    "        np.zeros((adata_filt.raw.shape[1], len(grouped)), dtype=np.float64),\n",
    "        columns=[':'.join(i) for i in list(grouped.groups.keys()) ],\n",
    "        index=adata_filt.raw.var_names\n",
    "    )\n",
    "    \n",
    "    for group, idx in grouped.indices.items():\n",
    "        X = getX(adata_filt.raw[idx])\n",
    "        out[':'.join(group)] = np.ravel(X.mean(axis=0, dtype=np.float64))\n",
    "    return out"
   ]
  },
  {
   "cell_type": "code",
   "execution_count": 41,
   "id": "834ec977-402d-495c-b6b2-15c0164abaee",
   "metadata": {
    "tags": []
   },
   "outputs": [
    {
     "data": {
      "text/plain": [
       "array([[0., 0., 0., ..., 0., 0., 0.],\n",
       "       [0., 0., 0., ..., 0., 0., 0.],\n",
       "       [0., 0., 0., ..., 0., 0., 0.],\n",
       "       ...,\n",
       "       [0., 0., 0., ..., 0., 0., 0.],\n",
       "       [0., 0., 0., ..., 0., 0., 0.],\n",
       "       [0., 0., 0., ..., 0., 0., 0.]], dtype=float32)"
      ]
     },
     "execution_count": 41,
     "metadata": {},
     "output_type": "execute_result"
    }
   ],
   "source": [
    "adata.layers['counts'].toarray()"
   ]
  },
  {
   "cell_type": "code",
   "execution_count": 42,
   "id": "6076d532-7b07-4e85-884d-a21803c22ead",
   "metadata": {
    "tags": []
   },
   "outputs": [
    {
     "name": "stderr",
     "output_type": "stream",
     "text": [
      "/tmp/ipykernel_15644/2389933984.py:11: FutureWarning: The default of observed=False is deprecated and will be changed to True in a future version of pandas. Pass observed=False to retain current behavior or observed=True to adopt the future default and silence this warning.\n",
      "  grouped = adata_filt.obs.groupby(group_key)\n"
     ]
    }
   ],
   "source": [
    "Il1b_mean = grouped_obs_mean(adata, ['AIFI_L3','unique_ID'])"
   ]
  },
  {
   "cell_type": "code",
   "execution_count": 43,
   "id": "3dc7e786-6692-4ede-8d6e-9bc2f8c111d7",
   "metadata": {
    "tags": []
   },
   "outputs": [
    {
     "data": {
      "text/plain": [
       "(33538, 92)"
      ]
     },
     "execution_count": 43,
     "metadata": {},
     "output_type": "execute_result"
    }
   ],
   "source": [
    "Il1b_mean.shape"
   ]
  },
  {
   "cell_type": "code",
   "execution_count": 44,
   "id": "9d059b40-aec1-4f47-a377-adf8887f6b70",
   "metadata": {
    "tags": []
   },
   "outputs": [
    {
     "data": {
      "text/html": [
       "<div>\n",
       "<style scoped>\n",
       "    .dataframe tbody tr th:only-of-type {\n",
       "        vertical-align: middle;\n",
       "    }\n",
       "\n",
       "    .dataframe tbody tr th {\n",
       "        vertical-align: top;\n",
       "    }\n",
       "\n",
       "    .dataframe thead th {\n",
       "        text-align: right;\n",
       "    }\n",
       "</style>\n",
       "<table border=\"1\" class=\"dataframe\">\n",
       "  <thead>\n",
       "    <tr style=\"text-align: right;\">\n",
       "      <th></th>\n",
       "      <th>IL1B+ CD14 monocyte:PB00001-01_Female_BR1</th>\n",
       "      <th>IL1B+ CD14 monocyte:PB00002-01_Male_BR1</th>\n",
       "      <th>IL1B+ CD14 monocyte:PB00003-01_Female_BR1</th>\n",
       "      <th>IL1B+ CD14 monocyte:PB00004-01_Male_BR1</th>\n",
       "      <th>IL1B+ CD14 monocyte:PB00006-01_Female_BR1</th>\n",
       "      <th>IL1B+ CD14 monocyte:PB00010-02_Male_BR1</th>\n",
       "      <th>IL1B+ CD14 monocyte:PB00012-01_Female_BR1</th>\n",
       "      <th>IL1B+ CD14 monocyte:PB00014-01_Male_BR1</th>\n",
       "      <th>IL1B+ CD14 monocyte:PB00015-01_Male_BR2</th>\n",
       "      <th>IL1B+ CD14 monocyte:PB00016-01_Female_BR2</th>\n",
       "      <th>...</th>\n",
       "      <th>IL1B+ CD14 monocyte:PB00592-01_Male_BR1</th>\n",
       "      <th>IL1B+ CD14 monocyte:PB00599-01_Female_BR2</th>\n",
       "      <th>IL1B+ CD14 monocyte:PB00600-01_Male_BR2</th>\n",
       "      <th>IL1B+ CD14 monocyte:PB00602-01_Female_BR2</th>\n",
       "      <th>IL1B+ CD14 monocyte:PB00621-01_Female_BR1</th>\n",
       "      <th>IL1B+ CD14 monocyte:PB00623-01_Male_BR2</th>\n",
       "      <th>IL1B+ CD14 monocyte:PB00625-02_Male_BR2</th>\n",
       "      <th>IL1B+ CD14 monocyte:PB00645-01_Female_BR1</th>\n",
       "      <th>IL1B+ CD14 monocyte:PB01425-01_Female_BR1</th>\n",
       "      <th>IL1B+ CD14 monocyte:PB01446-01_Male_BR1</th>\n",
       "    </tr>\n",
       "  </thead>\n",
       "  <tbody>\n",
       "    <tr>\n",
       "      <th>MIR1302-2HG</th>\n",
       "      <td>0.0</td>\n",
       "      <td>0.0</td>\n",
       "      <td>0.0</td>\n",
       "      <td>0.0</td>\n",
       "      <td>0.0</td>\n",
       "      <td>0.0</td>\n",
       "      <td>0.0</td>\n",
       "      <td>0.0</td>\n",
       "      <td>0.0</td>\n",
       "      <td>0.0</td>\n",
       "      <td>...</td>\n",
       "      <td>0.0</td>\n",
       "      <td>0.0</td>\n",
       "      <td>0.0</td>\n",
       "      <td>0.0</td>\n",
       "      <td>0.0</td>\n",
       "      <td>0.0</td>\n",
       "      <td>0.0</td>\n",
       "      <td>0.0</td>\n",
       "      <td>0.0</td>\n",
       "      <td>0.0</td>\n",
       "    </tr>\n",
       "    <tr>\n",
       "      <th>FAM138A</th>\n",
       "      <td>0.0</td>\n",
       "      <td>0.0</td>\n",
       "      <td>0.0</td>\n",
       "      <td>0.0</td>\n",
       "      <td>0.0</td>\n",
       "      <td>0.0</td>\n",
       "      <td>0.0</td>\n",
       "      <td>0.0</td>\n",
       "      <td>0.0</td>\n",
       "      <td>0.0</td>\n",
       "      <td>...</td>\n",
       "      <td>0.0</td>\n",
       "      <td>0.0</td>\n",
       "      <td>0.0</td>\n",
       "      <td>0.0</td>\n",
       "      <td>0.0</td>\n",
       "      <td>0.0</td>\n",
       "      <td>0.0</td>\n",
       "      <td>0.0</td>\n",
       "      <td>0.0</td>\n",
       "      <td>0.0</td>\n",
       "    </tr>\n",
       "  </tbody>\n",
       "</table>\n",
       "<p>2 rows × 92 columns</p>\n",
       "</div>"
      ],
      "text/plain": [
       "             IL1B+ CD14 monocyte:PB00001-01_Female_BR1  \\\n",
       "MIR1302-2HG                                        0.0   \n",
       "FAM138A                                            0.0   \n",
       "\n",
       "             IL1B+ CD14 monocyte:PB00002-01_Male_BR1  \\\n",
       "MIR1302-2HG                                      0.0   \n",
       "FAM138A                                          0.0   \n",
       "\n",
       "             IL1B+ CD14 monocyte:PB00003-01_Female_BR1  \\\n",
       "MIR1302-2HG                                        0.0   \n",
       "FAM138A                                            0.0   \n",
       "\n",
       "             IL1B+ CD14 monocyte:PB00004-01_Male_BR1  \\\n",
       "MIR1302-2HG                                      0.0   \n",
       "FAM138A                                          0.0   \n",
       "\n",
       "             IL1B+ CD14 monocyte:PB00006-01_Female_BR1  \\\n",
       "MIR1302-2HG                                        0.0   \n",
       "FAM138A                                            0.0   \n",
       "\n",
       "             IL1B+ CD14 monocyte:PB00010-02_Male_BR1  \\\n",
       "MIR1302-2HG                                      0.0   \n",
       "FAM138A                                          0.0   \n",
       "\n",
       "             IL1B+ CD14 monocyte:PB00012-01_Female_BR1  \\\n",
       "MIR1302-2HG                                        0.0   \n",
       "FAM138A                                            0.0   \n",
       "\n",
       "             IL1B+ CD14 monocyte:PB00014-01_Male_BR1  \\\n",
       "MIR1302-2HG                                      0.0   \n",
       "FAM138A                                          0.0   \n",
       "\n",
       "             IL1B+ CD14 monocyte:PB00015-01_Male_BR2  \\\n",
       "MIR1302-2HG                                      0.0   \n",
       "FAM138A                                          0.0   \n",
       "\n",
       "             IL1B+ CD14 monocyte:PB00016-01_Female_BR2  ...  \\\n",
       "MIR1302-2HG                                        0.0  ...   \n",
       "FAM138A                                            0.0  ...   \n",
       "\n",
       "             IL1B+ CD14 monocyte:PB00592-01_Male_BR1  \\\n",
       "MIR1302-2HG                                      0.0   \n",
       "FAM138A                                          0.0   \n",
       "\n",
       "             IL1B+ CD14 monocyte:PB00599-01_Female_BR2  \\\n",
       "MIR1302-2HG                                        0.0   \n",
       "FAM138A                                            0.0   \n",
       "\n",
       "             IL1B+ CD14 monocyte:PB00600-01_Male_BR2  \\\n",
       "MIR1302-2HG                                      0.0   \n",
       "FAM138A                                          0.0   \n",
       "\n",
       "             IL1B+ CD14 monocyte:PB00602-01_Female_BR2  \\\n",
       "MIR1302-2HG                                        0.0   \n",
       "FAM138A                                            0.0   \n",
       "\n",
       "             IL1B+ CD14 monocyte:PB00621-01_Female_BR1  \\\n",
       "MIR1302-2HG                                        0.0   \n",
       "FAM138A                                            0.0   \n",
       "\n",
       "             IL1B+ CD14 monocyte:PB00623-01_Male_BR2  \\\n",
       "MIR1302-2HG                                      0.0   \n",
       "FAM138A                                          0.0   \n",
       "\n",
       "             IL1B+ CD14 monocyte:PB00625-02_Male_BR2  \\\n",
       "MIR1302-2HG                                      0.0   \n",
       "FAM138A                                          0.0   \n",
       "\n",
       "             IL1B+ CD14 monocyte:PB00645-01_Female_BR1  \\\n",
       "MIR1302-2HG                                        0.0   \n",
       "FAM138A                                            0.0   \n",
       "\n",
       "             IL1B+ CD14 monocyte:PB01425-01_Female_BR1  \\\n",
       "MIR1302-2HG                                        0.0   \n",
       "FAM138A                                            0.0   \n",
       "\n",
       "             IL1B+ CD14 monocyte:PB01446-01_Male_BR1  \n",
       "MIR1302-2HG                                      0.0  \n",
       "FAM138A                                          0.0  \n",
       "\n",
       "[2 rows x 92 columns]"
      ]
     },
     "execution_count": 44,
     "metadata": {},
     "output_type": "execute_result"
    }
   ],
   "source": [
    "Il1b_mean.head(n=2)"
   ]
  },
  {
   "cell_type": "code",
   "execution_count": 45,
   "id": "5fc1be55-7cb2-4d15-a568-b7c03c6df336",
   "metadata": {
    "tags": []
   },
   "outputs": [
    {
     "data": {
      "text/plain": [
       "Index(['MIR1302-2HG', 'FAM138A', 'OR4F5', 'AL627309.1', 'AL627309.3',\n",
       "       'AL627309.2', 'AL627309.4', 'AL732372.1', 'OR4F29', 'AC114498.1',\n",
       "       ...\n",
       "       'AC007325.2', 'BX072566.1', 'AL354822.1', 'AC023491.2', 'AC004556.1',\n",
       "       'AC233755.2', 'AC233755.1', 'AC240274.1', 'AC213203.1', 'FAM231C'],\n",
       "      dtype='object', length=33538)"
      ]
     },
     "execution_count": 45,
     "metadata": {},
     "output_type": "execute_result"
    }
   ],
   "source": [
    "Il1b_mean.index"
   ]
  },
  {
   "cell_type": "code",
   "execution_count": 46,
   "id": "001fd5db-e99a-433c-8daf-b9361b258b47",
   "metadata": {
    "tags": []
   },
   "outputs": [
    {
     "data": {
      "text/html": [
       "<div>\n",
       "<style scoped>\n",
       "    .dataframe tbody tr th:only-of-type {\n",
       "        vertical-align: middle;\n",
       "    }\n",
       "\n",
       "    .dataframe tbody tr th {\n",
       "        vertical-align: top;\n",
       "    }\n",
       "\n",
       "    .dataframe thead th {\n",
       "        text-align: right;\n",
       "    }\n",
       "</style>\n",
       "<table border=\"1\" class=\"dataframe\">\n",
       "  <thead>\n",
       "    <tr style=\"text-align: right;\">\n",
       "      <th></th>\n",
       "      <th>IL1B+ CD14 monocyte:PB00001-01_Female_BR1</th>\n",
       "      <th>IL1B+ CD14 monocyte:PB00002-01_Male_BR1</th>\n",
       "      <th>IL1B+ CD14 monocyte:PB00003-01_Female_BR1</th>\n",
       "      <th>IL1B+ CD14 monocyte:PB00004-01_Male_BR1</th>\n",
       "      <th>IL1B+ CD14 monocyte:PB00006-01_Female_BR1</th>\n",
       "      <th>IL1B+ CD14 monocyte:PB00010-02_Male_BR1</th>\n",
       "      <th>IL1B+ CD14 monocyte:PB00012-01_Female_BR1</th>\n",
       "      <th>IL1B+ CD14 monocyte:PB00014-01_Male_BR1</th>\n",
       "      <th>IL1B+ CD14 monocyte:PB00015-01_Male_BR2</th>\n",
       "      <th>IL1B+ CD14 monocyte:PB00016-01_Female_BR2</th>\n",
       "      <th>...</th>\n",
       "      <th>IL1B+ CD14 monocyte:PB00592-01_Male_BR1</th>\n",
       "      <th>IL1B+ CD14 monocyte:PB00599-01_Female_BR2</th>\n",
       "      <th>IL1B+ CD14 monocyte:PB00600-01_Male_BR2</th>\n",
       "      <th>IL1B+ CD14 monocyte:PB00602-01_Female_BR2</th>\n",
       "      <th>IL1B+ CD14 monocyte:PB00621-01_Female_BR1</th>\n",
       "      <th>IL1B+ CD14 monocyte:PB00623-01_Male_BR2</th>\n",
       "      <th>IL1B+ CD14 monocyte:PB00625-02_Male_BR2</th>\n",
       "      <th>IL1B+ CD14 monocyte:PB00645-01_Female_BR1</th>\n",
       "      <th>IL1B+ CD14 monocyte:PB01425-01_Female_BR1</th>\n",
       "      <th>IL1B+ CD14 monocyte:PB01446-01_Male_BR1</th>\n",
       "    </tr>\n",
       "  </thead>\n",
       "  <tbody>\n",
       "    <tr>\n",
       "      <th>MIR1302-2HG</th>\n",
       "      <td>0.0</td>\n",
       "      <td>0.0</td>\n",
       "      <td>0.0</td>\n",
       "      <td>0.0</td>\n",
       "      <td>0.0</td>\n",
       "      <td>0.0</td>\n",
       "      <td>0.0</td>\n",
       "      <td>0.0</td>\n",
       "      <td>0.0</td>\n",
       "      <td>0.0</td>\n",
       "      <td>...</td>\n",
       "      <td>0.0</td>\n",
       "      <td>0.0</td>\n",
       "      <td>0.0</td>\n",
       "      <td>0.0</td>\n",
       "      <td>0.0</td>\n",
       "      <td>0.0</td>\n",
       "      <td>0.0</td>\n",
       "      <td>0.0</td>\n",
       "      <td>0.0</td>\n",
       "      <td>0.0</td>\n",
       "    </tr>\n",
       "    <tr>\n",
       "      <th>FAM138A</th>\n",
       "      <td>0.0</td>\n",
       "      <td>0.0</td>\n",
       "      <td>0.0</td>\n",
       "      <td>0.0</td>\n",
       "      <td>0.0</td>\n",
       "      <td>0.0</td>\n",
       "      <td>0.0</td>\n",
       "      <td>0.0</td>\n",
       "      <td>0.0</td>\n",
       "      <td>0.0</td>\n",
       "      <td>...</td>\n",
       "      <td>0.0</td>\n",
       "      <td>0.0</td>\n",
       "      <td>0.0</td>\n",
       "      <td>0.0</td>\n",
       "      <td>0.0</td>\n",
       "      <td>0.0</td>\n",
       "      <td>0.0</td>\n",
       "      <td>0.0</td>\n",
       "      <td>0.0</td>\n",
       "      <td>0.0</td>\n",
       "    </tr>\n",
       "  </tbody>\n",
       "</table>\n",
       "<p>2 rows × 92 columns</p>\n",
       "</div>"
      ],
      "text/plain": [
       "             IL1B+ CD14 monocyte:PB00001-01_Female_BR1  \\\n",
       "MIR1302-2HG                                        0.0   \n",
       "FAM138A                                            0.0   \n",
       "\n",
       "             IL1B+ CD14 monocyte:PB00002-01_Male_BR1  \\\n",
       "MIR1302-2HG                                      0.0   \n",
       "FAM138A                                          0.0   \n",
       "\n",
       "             IL1B+ CD14 monocyte:PB00003-01_Female_BR1  \\\n",
       "MIR1302-2HG                                        0.0   \n",
       "FAM138A                                            0.0   \n",
       "\n",
       "             IL1B+ CD14 monocyte:PB00004-01_Male_BR1  \\\n",
       "MIR1302-2HG                                      0.0   \n",
       "FAM138A                                          0.0   \n",
       "\n",
       "             IL1B+ CD14 monocyte:PB00006-01_Female_BR1  \\\n",
       "MIR1302-2HG                                        0.0   \n",
       "FAM138A                                            0.0   \n",
       "\n",
       "             IL1B+ CD14 monocyte:PB00010-02_Male_BR1  \\\n",
       "MIR1302-2HG                                      0.0   \n",
       "FAM138A                                          0.0   \n",
       "\n",
       "             IL1B+ CD14 monocyte:PB00012-01_Female_BR1  \\\n",
       "MIR1302-2HG                                        0.0   \n",
       "FAM138A                                            0.0   \n",
       "\n",
       "             IL1B+ CD14 monocyte:PB00014-01_Male_BR1  \\\n",
       "MIR1302-2HG                                      0.0   \n",
       "FAM138A                                          0.0   \n",
       "\n",
       "             IL1B+ CD14 monocyte:PB00015-01_Male_BR2  \\\n",
       "MIR1302-2HG                                      0.0   \n",
       "FAM138A                                          0.0   \n",
       "\n",
       "             IL1B+ CD14 monocyte:PB00016-01_Female_BR2  ...  \\\n",
       "MIR1302-2HG                                        0.0  ...   \n",
       "FAM138A                                            0.0  ...   \n",
       "\n",
       "             IL1B+ CD14 monocyte:PB00592-01_Male_BR1  \\\n",
       "MIR1302-2HG                                      0.0   \n",
       "FAM138A                                          0.0   \n",
       "\n",
       "             IL1B+ CD14 monocyte:PB00599-01_Female_BR2  \\\n",
       "MIR1302-2HG                                        0.0   \n",
       "FAM138A                                            0.0   \n",
       "\n",
       "             IL1B+ CD14 monocyte:PB00600-01_Male_BR2  \\\n",
       "MIR1302-2HG                                      0.0   \n",
       "FAM138A                                          0.0   \n",
       "\n",
       "             IL1B+ CD14 monocyte:PB00602-01_Female_BR2  \\\n",
       "MIR1302-2HG                                        0.0   \n",
       "FAM138A                                            0.0   \n",
       "\n",
       "             IL1B+ CD14 monocyte:PB00621-01_Female_BR1  \\\n",
       "MIR1302-2HG                                        0.0   \n",
       "FAM138A                                            0.0   \n",
       "\n",
       "             IL1B+ CD14 monocyte:PB00623-01_Male_BR2  \\\n",
       "MIR1302-2HG                                      0.0   \n",
       "FAM138A                                          0.0   \n",
       "\n",
       "             IL1B+ CD14 monocyte:PB00625-02_Male_BR2  \\\n",
       "MIR1302-2HG                                      0.0   \n",
       "FAM138A                                          0.0   \n",
       "\n",
       "             IL1B+ CD14 monocyte:PB00645-01_Female_BR1  \\\n",
       "MIR1302-2HG                                        0.0   \n",
       "FAM138A                                            0.0   \n",
       "\n",
       "             IL1B+ CD14 monocyte:PB01425-01_Female_BR1  \\\n",
       "MIR1302-2HG                                        0.0   \n",
       "FAM138A                                            0.0   \n",
       "\n",
       "             IL1B+ CD14 monocyte:PB01446-01_Male_BR1  \n",
       "MIR1302-2HG                                      0.0  \n",
       "FAM138A                                          0.0  \n",
       "\n",
       "[2 rows x 92 columns]"
      ]
     },
     "execution_count": 46,
     "metadata": {},
     "output_type": "execute_result"
    }
   ],
   "source": [
    "Il1b_mean.head(n=2)"
   ]
  },
  {
   "cell_type": "code",
   "execution_count": 47,
   "id": "0a4a9a8d-a3bc-4a7b-a246-317e2bd9f55b",
   "metadata": {
    "tags": []
   },
   "outputs": [
    {
     "data": {
      "text/html": [
       "<div>\n",
       "<style scoped>\n",
       "    .dataframe tbody tr th:only-of-type {\n",
       "        vertical-align: middle;\n",
       "    }\n",
       "\n",
       "    .dataframe tbody tr th {\n",
       "        vertical-align: top;\n",
       "    }\n",
       "\n",
       "    .dataframe thead th {\n",
       "        text-align: right;\n",
       "    }\n",
       "</style>\n",
       "<table border=\"1\" class=\"dataframe\">\n",
       "  <thead>\n",
       "    <tr style=\"text-align: right;\">\n",
       "      <th></th>\n",
       "      <th>IL1B+ CD14 monocyte:PB00001-01_Female_BR1</th>\n",
       "      <th>IL1B+ CD14 monocyte:PB00002-01_Male_BR1</th>\n",
       "      <th>IL1B+ CD14 monocyte:PB00003-01_Female_BR1</th>\n",
       "      <th>IL1B+ CD14 monocyte:PB00004-01_Male_BR1</th>\n",
       "      <th>IL1B+ CD14 monocyte:PB00006-01_Female_BR1</th>\n",
       "      <th>IL1B+ CD14 monocyte:PB00010-02_Male_BR1</th>\n",
       "      <th>IL1B+ CD14 monocyte:PB00012-01_Female_BR1</th>\n",
       "      <th>IL1B+ CD14 monocyte:PB00014-01_Male_BR1</th>\n",
       "      <th>IL1B+ CD14 monocyte:PB00015-01_Male_BR2</th>\n",
       "      <th>IL1B+ CD14 monocyte:PB00016-01_Female_BR2</th>\n",
       "      <th>...</th>\n",
       "      <th>IL1B+ CD14 monocyte:PB00592-01_Male_BR1</th>\n",
       "      <th>IL1B+ CD14 monocyte:PB00599-01_Female_BR2</th>\n",
       "      <th>IL1B+ CD14 monocyte:PB00600-01_Male_BR2</th>\n",
       "      <th>IL1B+ CD14 monocyte:PB00602-01_Female_BR2</th>\n",
       "      <th>IL1B+ CD14 monocyte:PB00621-01_Female_BR1</th>\n",
       "      <th>IL1B+ CD14 monocyte:PB00623-01_Male_BR2</th>\n",
       "      <th>IL1B+ CD14 monocyte:PB00625-02_Male_BR2</th>\n",
       "      <th>IL1B+ CD14 monocyte:PB00645-01_Female_BR1</th>\n",
       "      <th>IL1B+ CD14 monocyte:PB01425-01_Female_BR1</th>\n",
       "      <th>IL1B+ CD14 monocyte:PB01446-01_Male_BR1</th>\n",
       "    </tr>\n",
       "  </thead>\n",
       "  <tbody>\n",
       "    <tr>\n",
       "      <th>XIST</th>\n",
       "      <td>4.2859</td>\n",
       "      <td>0.0</td>\n",
       "      <td>2.731225</td>\n",
       "      <td>0.264347</td>\n",
       "      <td>2.776677</td>\n",
       "      <td>0.0</td>\n",
       "      <td>5.04215</td>\n",
       "      <td>0.0</td>\n",
       "      <td>0.04114</td>\n",
       "      <td>3.246927</td>\n",
       "      <td>...</td>\n",
       "      <td>0.0</td>\n",
       "      <td>3.812525</td>\n",
       "      <td>0.056656</td>\n",
       "      <td>3.782067</td>\n",
       "      <td>5.38771</td>\n",
       "      <td>0.027801</td>\n",
       "      <td>0.0</td>\n",
       "      <td>3.955455</td>\n",
       "      <td>5.073965</td>\n",
       "      <td>0.0</td>\n",
       "    </tr>\n",
       "  </tbody>\n",
       "</table>\n",
       "<p>1 rows × 92 columns</p>\n",
       "</div>"
      ],
      "text/plain": [
       "      IL1B+ CD14 monocyte:PB00001-01_Female_BR1  \\\n",
       "XIST                                     4.2859   \n",
       "\n",
       "      IL1B+ CD14 monocyte:PB00002-01_Male_BR1  \\\n",
       "XIST                                      0.0   \n",
       "\n",
       "      IL1B+ CD14 monocyte:PB00003-01_Female_BR1  \\\n",
       "XIST                                   2.731225   \n",
       "\n",
       "      IL1B+ CD14 monocyte:PB00004-01_Male_BR1  \\\n",
       "XIST                                 0.264347   \n",
       "\n",
       "      IL1B+ CD14 monocyte:PB00006-01_Female_BR1  \\\n",
       "XIST                                   2.776677   \n",
       "\n",
       "      IL1B+ CD14 monocyte:PB00010-02_Male_BR1  \\\n",
       "XIST                                      0.0   \n",
       "\n",
       "      IL1B+ CD14 monocyte:PB00012-01_Female_BR1  \\\n",
       "XIST                                    5.04215   \n",
       "\n",
       "      IL1B+ CD14 monocyte:PB00014-01_Male_BR1  \\\n",
       "XIST                                      0.0   \n",
       "\n",
       "      IL1B+ CD14 monocyte:PB00015-01_Male_BR2  \\\n",
       "XIST                                  0.04114   \n",
       "\n",
       "      IL1B+ CD14 monocyte:PB00016-01_Female_BR2  ...  \\\n",
       "XIST                                   3.246927  ...   \n",
       "\n",
       "      IL1B+ CD14 monocyte:PB00592-01_Male_BR1  \\\n",
       "XIST                                      0.0   \n",
       "\n",
       "      IL1B+ CD14 monocyte:PB00599-01_Female_BR2  \\\n",
       "XIST                                   3.812525   \n",
       "\n",
       "      IL1B+ CD14 monocyte:PB00600-01_Male_BR2  \\\n",
       "XIST                                 0.056656   \n",
       "\n",
       "      IL1B+ CD14 monocyte:PB00602-01_Female_BR2  \\\n",
       "XIST                                   3.782067   \n",
       "\n",
       "      IL1B+ CD14 monocyte:PB00621-01_Female_BR1  \\\n",
       "XIST                                    5.38771   \n",
       "\n",
       "      IL1B+ CD14 monocyte:PB00623-01_Male_BR2  \\\n",
       "XIST                                 0.027801   \n",
       "\n",
       "      IL1B+ CD14 monocyte:PB00625-02_Male_BR2  \\\n",
       "XIST                                      0.0   \n",
       "\n",
       "      IL1B+ CD14 monocyte:PB00645-01_Female_BR1  \\\n",
       "XIST                                   3.955455   \n",
       "\n",
       "      IL1B+ CD14 monocyte:PB01425-01_Female_BR1  \\\n",
       "XIST                                   5.073965   \n",
       "\n",
       "      IL1B+ CD14 monocyte:PB01446-01_Male_BR1  \n",
       "XIST                                      0.0  \n",
       "\n",
       "[1 rows x 92 columns]"
      ]
     },
     "execution_count": 47,
     "metadata": {},
     "output_type": "execute_result"
    }
   ],
   "source": [
    "Il1b_mean[Il1b_mean.index=='XIST']"
   ]
  },
  {
   "cell_type": "code",
   "execution_count": 48,
   "id": "90588d18-d99e-4597-a674-a96a7868db3d",
   "metadata": {
    "tags": []
   },
   "outputs": [],
   "source": [
    "Il1b_mean.to_csv('/home/jupyter/Myeloid_cells/files/IHA_IL1B_CD14_mono_pb_mean_normalized_v5.csv')"
   ]
  },
  {
   "cell_type": "code",
   "execution_count": null,
   "id": "8145323e-824a-4e78-91d4-f3efa40923d2",
   "metadata": {},
   "outputs": [],
   "source": [
    "#"
   ]
  }
 ],
 "metadata": {
  "kernelspec": {
   "display_name": "Python 3 (ipykernel)",
   "language": "python",
   "name": "python3"
  },
  "language_info": {
   "codemirror_mode": {
    "name": "ipython",
    "version": 3
   },
   "file_extension": ".py",
   "mimetype": "text/x-python",
   "name": "python",
   "nbconvert_exporter": "python",
   "pygments_lexer": "ipython3",
   "version": "3.10.12"
  }
 },
 "nbformat": 4,
 "nbformat_minor": 5
}
