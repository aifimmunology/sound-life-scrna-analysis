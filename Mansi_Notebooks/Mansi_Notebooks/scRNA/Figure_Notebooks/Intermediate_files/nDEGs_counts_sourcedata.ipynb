{
 "cells": [
  {
   "cell_type": "code",
   "execution_count": null,
   "id": "7ec196ef-a667-4d38-b006-75b85761c434",
   "metadata": {
    "tags": []
   },
   "outputs": [],
   "source": []
  },
  {
   "cell_type": "code",
   "execution_count": 1,
   "id": "2bda09c5-dde3-4543-9cab-d5939324930a",
   "metadata": {
    "tags": []
   },
   "outputs": [
    {
     "name": "stderr",
     "output_type": "stream",
     "text": [
      "------------------------------------------------------------------------------\n",
      "\n",
      "You have loaded plyr after dplyr - this is likely to cause problems.\n",
      "If you need functions from both plyr and dplyr, please load plyr first, then dplyr:\n",
      "library(plyr); library(dplyr)\n",
      "\n",
      "------------------------------------------------------------------------------\n",
      "\n",
      "\n",
      "Attaching package: ‘plyr’\n",
      "\n",
      "\n",
      "The following objects are masked from ‘package:dplyr’:\n",
      "\n",
      "    arrange, count, desc, failwith, id, mutate, rename, summarise,\n",
      "    summarize\n",
      "\n",
      "\n",
      "\n",
      "Attaching package: ‘purrr’\n",
      "\n",
      "\n",
      "The following object is masked from ‘package:plyr’:\n",
      "\n",
      "    compact\n",
      "\n",
      "\n",
      "Loading required package: permute\n",
      "\n",
      "Loading required package: lattice\n",
      "\n",
      "This is vegan 2.6-4\n",
      "\n",
      "Loading required package: grid\n",
      "\n",
      "========================================\n",
      "ComplexHeatmap version 2.16.0\n",
      "Bioconductor page: http://bioconductor.org/packages/ComplexHeatmap/\n",
      "Github page: https://github.com/jokergoo/ComplexHeatmap\n",
      "Documentation: http://jokergoo.github.io/ComplexHeatmap-reference\n",
      "\n",
      "If you use it in published research, please cite either one:\n",
      "- Gu, Z. Complex Heatmap Visualization. iMeta 2022.\n",
      "- Gu, Z. Complex heatmaps reveal patterns and correlations in multidimensional \n",
      "    genomic data. Bioinformatics 2016.\n",
      "\n",
      "\n",
      "The new InteractiveComplexHeatmap package can directly export static \n",
      "complex heatmaps into an interactive Shiny app with zero effort. Have a try!\n",
      "\n",
      "This message can be suppressed by:\n",
      "  suppressPackageStartupMessages(library(ComplexHeatmap))\n",
      "========================================\n",
      "! pheatmap() has been masked by ComplexHeatmap::pheatmap(). Most of the arguments\n",
      "   in the original pheatmap() are identically supported in the new function. You \n",
      "   can still use the original function by explicitly calling pheatmap::pheatmap().\n",
      "\n",
      "\n",
      "\n",
      "Attaching package: ‘ComplexHeatmap’\n",
      "\n",
      "\n",
      "The following object is masked from ‘package:pheatmap’:\n",
      "\n",
      "    pheatmap\n",
      "\n",
      "\n",
      "── \u001b[1mAttaching core tidyverse packages\u001b[22m ──────────────────────── tidyverse 2.0.0 ──\n",
      "\u001b[32m✔\u001b[39m \u001b[34mforcats  \u001b[39m 1.0.0     \u001b[32m✔\u001b[39m \u001b[34mlubridate\u001b[39m 1.9.2\n",
      "\u001b[32m✔\u001b[39m \u001b[34mggplot2  \u001b[39m 3.4.3     \u001b[32m✔\u001b[39m \u001b[34mreadr    \u001b[39m 2.1.4\n",
      "── \u001b[1mConflicts\u001b[22m ────────────────────────────────────────── tidyverse_conflicts() ──\n",
      "\u001b[31m✖\u001b[39m \u001b[34mplyr\u001b[39m::\u001b[32marrange()\u001b[39m   masks \u001b[34mdplyr\u001b[39m::arrange()\n",
      "\u001b[31m✖\u001b[39m \u001b[34mpurrr\u001b[39m::\u001b[32mcompact()\u001b[39m  masks \u001b[34mplyr\u001b[39m::compact()\n",
      "\u001b[31m✖\u001b[39m \u001b[34mplyr\u001b[39m::\u001b[32mcount()\u001b[39m     masks \u001b[34mdplyr\u001b[39m::count()\n",
      "\u001b[31m✖\u001b[39m \u001b[34mplyr\u001b[39m::\u001b[32mdesc()\u001b[39m      masks \u001b[34mdplyr\u001b[39m::desc()\n",
      "\u001b[31m✖\u001b[39m \u001b[34mplyr\u001b[39m::\u001b[32mfailwith()\u001b[39m  masks \u001b[34mdplyr\u001b[39m::failwith()\n",
      "\u001b[31m✖\u001b[39m \u001b[34mdplyr\u001b[39m::\u001b[32mfilter()\u001b[39m   masks \u001b[34mstats\u001b[39m::filter()\n",
      "\u001b[31m✖\u001b[39m \u001b[34mplyr\u001b[39m::\u001b[32mid()\u001b[39m        masks \u001b[34mdplyr\u001b[39m::id()\n",
      "\u001b[31m✖\u001b[39m \u001b[34mdplyr\u001b[39m::\u001b[32mlag()\u001b[39m      masks \u001b[34mstats\u001b[39m::lag()\n",
      "\u001b[31m✖\u001b[39m \u001b[34mplyr\u001b[39m::\u001b[32mmutate()\u001b[39m    masks \u001b[34mdplyr\u001b[39m::mutate()\n",
      "\u001b[31m✖\u001b[39m \u001b[34mplyr\u001b[39m::\u001b[32mrename()\u001b[39m    masks \u001b[34mdplyr\u001b[39m::rename()\n",
      "\u001b[31m✖\u001b[39m \u001b[34mplyr\u001b[39m::\u001b[32msummarise()\u001b[39m masks \u001b[34mdplyr\u001b[39m::summarise()\n",
      "\u001b[31m✖\u001b[39m \u001b[34mplyr\u001b[39m::\u001b[32msummarize()\u001b[39m masks \u001b[34mdplyr\u001b[39m::summarize()\n",
      "\u001b[36mℹ\u001b[39m Use the conflicted package (\u001b[3m\u001b[34m<http://conflicted.r-lib.org/>\u001b[39m\u001b[23m) to force all conflicts to become errors\n"
     ]
    }
   ],
   "source": [
    "suppressPackageStartupMessages(library(readxl))\n",
    "suppressPackageStartupMessages(library(dplyr))\n",
    "suppressPackageStartupMessages(library(tidyr))\n",
    "suppressPackageStartupMessages(library(tibble))\n",
    "suppressPackageStartupMessages(library(patchwork))\n",
    "suppressPackageStartupMessages(library(pheatmap))\n",
    "suppressPackageStartupMessages(library(stringr))\n",
    "library(hise)\n",
    "library(plyr)\n",
    "library(purrr)\n",
    "library(vegan)\n",
    "#library(arrow)\n",
    "library(parallel)\n",
    "library(ComplexHeatmap)\n",
    "library(ggsci)\n",
    "library(tidyverse)"
   ]
  },
  {
   "cell_type": "markdown",
   "id": "f119d76a-753c-4ffa-acc9-a1439fcd6cfd",
   "metadata": {},
   "source": [
    "# Create nDEGs plot for each celltype (p <= 0.1)"
   ]
  },
  {
   "cell_type": "code",
   "execution_count": 2,
   "id": "148ac4aa-a37f-4a6c-bcc0-111ea90fa3ee",
   "metadata": {
    "tags": []
   },
   "outputs": [],
   "source": [
    "master <- read.csv(\"/home/jupyter/IH-A-Aging-Analysis-Notebooks_old/Mansi_Notebooks/scRNA/Figure_Notebooks/Intermediate_files/master_combined_DEG_list_all_celltypes_forfigs.csv\")"
   ]
  },
  {
   "cell_type": "code",
   "execution_count": 3,
   "id": "b02c9a85-0f4a-4185-9e81-0dbff448820b",
   "metadata": {
    "tags": []
   },
   "outputs": [
    {
     "data": {
      "text/html": [
       "71"
      ],
      "text/latex": [
       "71"
      ],
      "text/markdown": [
       "71"
      ],
      "text/plain": [
       "[1] 71"
      ]
     },
     "metadata": {},
     "output_type": "display_data"
    },
    {
     "data": {
      "text/html": [
       "<table class=\"dataframe\">\n",
       "<caption>A data.frame: 6 × 4</caption>\n",
       "<thead>\n",
       "\t<tr><th></th><th scope=col>celltype</th><th scope=col>Direction</th><th scope=col>type</th><th scope=col>count</th></tr>\n",
       "\t<tr><th></th><th scope=col>&lt;chr&gt;</th><th scope=col>&lt;chr&gt;</th><th scope=col>&lt;chr&gt;</th><th scope=col>&lt;int&gt;</th></tr>\n",
       "</thead>\n",
       "<tbody>\n",
       "\t<tr><th scope=row>1</th><td>Activated memory B cell</td><td>BR1</td><td>DEGs_Male</td><td>0</td></tr>\n",
       "\t<tr><th scope=row>2</th><td>Adaptive NK cell       </td><td>BR1</td><td>DEGs_Male</td><td>0</td></tr>\n",
       "\t<tr><th scope=row>3</th><td>ASDC                   </td><td>BR1</td><td>DEGs_Male</td><td>0</td></tr>\n",
       "\t<tr><th scope=row>4</th><td>BaEoMaP cell           </td><td>BR1</td><td>DEGs_Male</td><td>0</td></tr>\n",
       "\t<tr><th scope=row>5</th><td>C1Q+ CD16 monocyte     </td><td>BR1</td><td>DEGs_Male</td><td>1</td></tr>\n",
       "\t<tr><th scope=row>6</th><td>CD14+ cDC2             </td><td>BR1</td><td>DEGs_Male</td><td>0</td></tr>\n",
       "</tbody>\n",
       "</table>\n"
      ],
      "text/latex": [
       "A data.frame: 6 × 4\n",
       "\\begin{tabular}{r|llll}\n",
       "  & celltype & Direction & type & count\\\\\n",
       "  & <chr> & <chr> & <chr> & <int>\\\\\n",
       "\\hline\n",
       "\t1 & Activated memory B cell & BR1 & DEGs\\_Male & 0\\\\\n",
       "\t2 & Adaptive NK cell        & BR1 & DEGs\\_Male & 0\\\\\n",
       "\t3 & ASDC                    & BR1 & DEGs\\_Male & 0\\\\\n",
       "\t4 & BaEoMaP cell            & BR1 & DEGs\\_Male & 0\\\\\n",
       "\t5 & C1Q+ CD16 monocyte      & BR1 & DEGs\\_Male & 1\\\\\n",
       "\t6 & CD14+ cDC2              & BR1 & DEGs\\_Male & 0\\\\\n",
       "\\end{tabular}\n"
      ],
      "text/markdown": [
       "\n",
       "A data.frame: 6 × 4\n",
       "\n",
       "| <!--/--> | celltype &lt;chr&gt; | Direction &lt;chr&gt; | type &lt;chr&gt; | count &lt;int&gt; |\n",
       "|---|---|---|---|---|\n",
       "| 1 | Activated memory B cell | BR1 | DEGs_Male | 0 |\n",
       "| 2 | Adaptive NK cell        | BR1 | DEGs_Male | 0 |\n",
       "| 3 | ASDC                    | BR1 | DEGs_Male | 0 |\n",
       "| 4 | BaEoMaP cell            | BR1 | DEGs_Male | 0 |\n",
       "| 5 | C1Q+ CD16 monocyte      | BR1 | DEGs_Male | 1 |\n",
       "| 6 | CD14+ cDC2              | BR1 | DEGs_Male | 0 |\n",
       "\n"
      ],
      "text/plain": [
       "  celltype                Direction type      count\n",
       "1 Activated memory B cell BR1       DEGs_Male 0    \n",
       "2 Adaptive NK cell        BR1       DEGs_Male 0    \n",
       "3 ASDC                    BR1       DEGs_Male 0    \n",
       "4 BaEoMaP cell            BR1       DEGs_Male 0    \n",
       "5 C1Q+ CD16 monocyte      BR1       DEGs_Male 1    \n",
       "6 CD14+ cDC2              BR1       DEGs_Male 0    "
      ]
     },
     "metadata": {},
     "output_type": "display_data"
    }
   ],
   "source": [
    "library(dplyr)\n",
    "library(tidyr)\n",
    "\n",
    "# Create all possible combinations of celltype, Direction, and type\n",
    "all_combinations <- expand.grid(celltype = unique(master$celltype),\n",
    "                                Direction = unique(master$Direction),\n",
    "                                type = unique(master$type))\n",
    "\n",
    "# Summarize the data\n",
    "master_summary <- master %>%\n",
    "  dplyr::mutate(Expression = case_when(log2FoldChange >= 0.1 & padj <= 0.1 ~ \"BR2\",\n",
    "                                 log2FoldChange <= -0.1 & padj <= 0.1 ~ \"BR1\",\n",
    "                                 TRUE ~ \"Unchanged\")) %>%\n",
    "  dplyr::filter(!Expression == 'Unchanged') %>%\n",
    "  dplyr::group_by(celltype, Direction, type) %>%\n",
    "  dplyr::summarise(count = n(), .groups = 'drop')\n",
    "\n",
    "# Left join with all_combinations and fill missing counts with 0\n",
    "master_complete <- left_join(all_combinations, master_summary, by = c(\"celltype\", \"Direction\", \"type\")) %>%\n",
    "  dplyr::mutate(count = replace_na(count, 0)) %>% \n",
    "  filter(!is.na(Direction)) # Remove rows with NA in the Direction column\n",
    "\n",
    "\n",
    "\n",
    "# Check the number of unique celltypes\n",
    "length(unique(master_complete$celltype))\n",
    "\n",
    "\n",
    "head(master_complete)\n",
    "#all_combinations\n"
   ]
  },
  {
   "cell_type": "code",
   "execution_count": 4,
   "id": "a869648d-6919-42e6-b24b-de94415282cb",
   "metadata": {
    "tags": []
   },
   "outputs": [
    {
     "data": {
      "text/html": [
       "<style>\n",
       ".list-inline {list-style: none; margin:0; padding: 0}\n",
       ".list-inline>li {display: inline-block}\n",
       ".list-inline>li:not(:last-child)::after {content: \"\\00b7\"; padding: 0 .5ex}\n",
       "</style>\n",
       "<ol class=list-inline><li>284</li><li>4</li></ol>\n"
      ],
      "text/latex": [
       "\\begin{enumerate*}\n",
       "\\item 284\n",
       "\\item 4\n",
       "\\end{enumerate*}\n"
      ],
      "text/markdown": [
       "1. 284\n",
       "2. 4\n",
       "\n",
       "\n"
      ],
      "text/plain": [
       "[1] 284   4"
      ]
     },
     "metadata": {},
     "output_type": "display_data"
    }
   ],
   "source": [
    "dim(master_complete)"
   ]
  },
  {
   "cell_type": "code",
   "execution_count": 5,
   "id": "19426949-a372-472a-b240-1bebf9cbe542",
   "metadata": {
    "tags": []
   },
   "outputs": [],
   "source": [
    "write.csv(master_complete, \"/home/jupyter/IH-A-Aging-Analysis-Notebooks_old/Mansi_Notebooks/scRNA/Figure_Notebooks/Intermediate_files/nDEGs_counts_sourcedata.csv\")"
   ]
  },
  {
   "cell_type": "code",
   "execution_count": null,
   "id": "5c1e2f4a-3d66-4513-a175-8798532f5e36",
   "metadata": {},
   "outputs": [],
   "source": []
  }
 ],
 "metadata": {
  "kernelspec": {
   "display_name": "R 4",
   "language": "R",
   "name": "ir4"
  },
  "language_info": {
   "codemirror_mode": "r",
   "file_extension": ".r",
   "mimetype": "text/x-r-source",
   "name": "R",
   "pygments_lexer": "r",
   "version": "4.3.1"
  }
 },
 "nbformat": 4,
 "nbformat_minor": 5
}
