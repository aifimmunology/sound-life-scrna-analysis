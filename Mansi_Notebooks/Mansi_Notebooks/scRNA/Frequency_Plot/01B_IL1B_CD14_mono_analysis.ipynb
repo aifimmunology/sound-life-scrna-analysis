{
 "cells": [
  {
   "cell_type": "code",
   "execution_count": 64,
   "id": "13268c3e-763e-4d22-8c8c-f144f34e317e",
   "metadata": {
    "tags": []
   },
   "outputs": [
    {
     "ename": "ERROR",
     "evalue": "Error in library(compositions): there is no package called ‘compositions’\n",
     "output_type": "error",
     "traceback": [
      "Error in library(compositions): there is no package called ‘compositions’\nTraceback:\n",
      "1. library(compositions)"
     ]
    }
   ],
   "source": [
    "suppressPackageStartupMessages(library(readxl))\n",
    "suppressPackageStartupMessages(library(dplyr))\n",
    "suppressPackageStartupMessages(library(tidyr))\n",
    "suppressPackageStartupMessages(library(tibble))\n",
    "suppressPackageStartupMessages(library(patchwork))\n",
    "suppressPackageStartupMessages(library(pheatmap))\n",
    "suppressPackageStartupMessages(library(stringr))\n",
    "library(hise)\n",
    "library(plyr)\n",
    "library(purrr)\n",
    "library(vegan)\n",
    "#library(arrow)\n",
    "library(rstatix)\n",
    "library(parallel)\n",
    "library(ggpubr)\n",
    "library(ComplexHeatmap)\n",
    "library(compositions)\n",
    "library(ggsci)\n",
    "library(math)\n",
    "library(NatParksPalettes)"
   ]
  },
  {
   "cell_type": "markdown",
   "id": "d5162395-6869-487a-8942-05062243788b",
   "metadata": {},
   "source": [
    "# Read data"
   ]
  },
  {
   "cell_type": "code",
   "execution_count": 47,
   "id": "60884ab7-d1a9-45ce-8a00-64410dc295db",
   "metadata": {
    "tags": []
   },
   "outputs": [],
   "source": [
    "# Read the CSV file into a data frame\n",
    "read_df <- read.csv('/home/jupyter/IH-A-Aging-Analysis-Notebooks_old/Mansi_Notebooks/scRNA/Frequency_Plot/Il1B_Cd14_mono_obsdata.csv')\n"
   ]
  },
  {
   "cell_type": "code",
   "execution_count": 48,
   "id": "18e7215c-08d8-4368-9a88-73613136db11",
   "metadata": {
    "tags": []
   },
   "outputs": [],
   "source": [
    "read_df$facet <- paste(read_df$subject.biologicalSex, read_df$cohort.cohortGuid, sep = \"_\")"
   ]
  },
  {
   "cell_type": "code",
   "execution_count": 49,
   "id": "cafca1cb-2a83-4834-b7ce-003a90e879ab",
   "metadata": {
    "tags": []
   },
   "outputs": [
    {
     "data": {
      "text/html": [
       "<table class=\"dataframe\">\n",
       "<caption>A data.frame: 6 × 52</caption>\n",
       "<thead>\n",
       "\t<tr><th></th><th scope=col>barcodes</th><th scope=col>batch_id</th><th scope=col>cell_name</th><th scope=col>cell_uuid</th><th scope=col>chip_id</th><th scope=col>hto_barcode</th><th scope=col>hto_category</th><th scope=col>n_genes</th><th scope=col>n_mito_umis</th><th scope=col>n_reads</th><th scope=col>⋯</th><th scope=col>pct_counts_in_top_200_genes</th><th scope=col>pct_counts_in_top_500_genes</th><th scope=col>total_counts_mito</th><th scope=col>log1p_total_counts_mito</th><th scope=col>pct_counts_mito</th><th scope=col>leiden_resolution_0.5</th><th scope=col>leiden_resolution_1</th><th scope=col>leiden_resolution_1.5</th><th scope=col>leiden_resolution_2</th><th scope=col>facet</th></tr>\n",
       "\t<tr><th></th><th scope=col>&lt;chr&gt;</th><th scope=col>&lt;chr&gt;</th><th scope=col>&lt;chr&gt;</th><th scope=col>&lt;chr&gt;</th><th scope=col>&lt;chr&gt;</th><th scope=col>&lt;chr&gt;</th><th scope=col>&lt;chr&gt;</th><th scope=col>&lt;int&gt;</th><th scope=col>&lt;int&gt;</th><th scope=col>&lt;int&gt;</th><th scope=col>⋯</th><th scope=col>&lt;dbl&gt;</th><th scope=col>&lt;dbl&gt;</th><th scope=col>&lt;dbl&gt;</th><th scope=col>&lt;dbl&gt;</th><th scope=col>&lt;dbl&gt;</th><th scope=col>&lt;int&gt;</th><th scope=col>&lt;int&gt;</th><th scope=col>&lt;int&gt;</th><th scope=col>&lt;int&gt;</th><th scope=col>&lt;chr&gt;</th></tr>\n",
       "</thead>\n",
       "<tbody>\n",
       "\t<tr><th scope=row>1</th><td>cfb4162a48b611ea8957bafe6d70929e</td><td>B001</td><td>anaemic_human_emu            </td><td>cfb4162a48b611ea8957bafe6d70929e</td><td>B001-P1C1</td><td>TGATGGCCTATTGGG</td><td>singlet</td><td>2867</td><td>546</td><td>32119</td><td>⋯</td><td>55.89099</td><td>68.44291</td><td>546</td><td>6.304449</td><td>5.531354</td><td>1</td><td>0</td><td>1</td><td>7</td><td>Female_BR1</td></tr>\n",
       "\t<tr><th scope=row>2</th><td>70ab258848b611eaa65d9e7d578d66f2</td><td>B001</td><td>pine_enervated_caracal       </td><td>70ab258848b611eaa65d9e7d578d66f2</td><td>B001-P1C1</td><td>TGATGGCCTATTGGG</td><td>singlet</td><td>2354</td><td>220</td><td>27740</td><td>⋯</td><td>57.66811</td><td>71.84454</td><td>220</td><td>5.398163</td><td>2.714374</td><td>0</td><td>1</td><td>3</td><td>0</td><td>Female_BR1</td></tr>\n",
       "\t<tr><th scope=row>3</th><td>70acf29648b611eaa65d9e7d578d66f2</td><td>B001</td><td>bland_sandy_owl              </td><td>70acf29648b611eaa65d9e7d578d66f2</td><td>B001-P1C1</td><td>TGATGGCCTATTGGG</td><td>singlet</td><td>4302</td><td>776</td><td>73872</td><td>⋯</td><td>56.86120</td><td>68.77470</td><td>776</td><td>6.655440</td><td>3.608463</td><td>1</td><td>5</td><td>8</td><td>6</td><td>Female_BR1</td></tr>\n",
       "\t<tr><th scope=row>4</th><td>70d2b34648b611eaa65d9e7d578d66f2</td><td>B001</td><td>mellow_intact_gecko          </td><td>70d2b34648b611eaa65d9e7d578d66f2</td><td>B001-P1C1</td><td>TGATGGCCTATTGGG</td><td>singlet</td><td>2176</td><td>167</td><td>20037</td><td>⋯</td><td>52.73269</td><td>67.80391</td><td>167</td><td>5.123964</td><td>2.765817</td><td>1</td><td>0</td><td>7</td><td>8</td><td>Female_BR1</td></tr>\n",
       "\t<tr><th scope=row>5</th><td>70d844f048b611eaa65d9e7d578d66f2</td><td>B001</td><td>commonable_jadeite_wrenchbird</td><td>70d844f048b611eaa65d9e7d578d66f2</td><td>B001-P1C1</td><td>TGATGGCCTATTGGG</td><td>singlet</td><td>1977</td><td>124</td><td>20342</td><td>⋯</td><td>57.78995</td><td>72.12544</td><td>124</td><td>4.828314</td><td>2.057408</td><td>0</td><td>1</td><td>3</td><td>0</td><td>Female_BR1</td></tr>\n",
       "\t<tr><th scope=row>6</th><td>a711a6d8489811ea92388a6a0c683ffb</td><td>B001</td><td>villainous_preoceanic_jackal </td><td>a711a6d8489811ea92388a6a0c683ffb</td><td>B001-P1C1</td><td>TGATGGCCTATTGGG</td><td>singlet</td><td>1287</td><td>237</td><td> 9010</td><td>⋯</td><td>56.26290</td><td>72.91810</td><td>237</td><td>5.472270</td><td>8.155540</td><td>0</td><td>1</td><td>3</td><td>0</td><td>Female_BR1</td></tr>\n",
       "</tbody>\n",
       "</table>\n"
      ],
      "text/latex": [
       "A data.frame: 6 × 52\n",
       "\\begin{tabular}{r|lllllllllllllllllllll}\n",
       "  & barcodes & batch\\_id & cell\\_name & cell\\_uuid & chip\\_id & hto\\_barcode & hto\\_category & n\\_genes & n\\_mito\\_umis & n\\_reads & ⋯ & pct\\_counts\\_in\\_top\\_200\\_genes & pct\\_counts\\_in\\_top\\_500\\_genes & total\\_counts\\_mito & log1p\\_total\\_counts\\_mito & pct\\_counts\\_mito & leiden\\_resolution\\_0.5 & leiden\\_resolution\\_1 & leiden\\_resolution\\_1.5 & leiden\\_resolution\\_2 & facet\\\\\n",
       "  & <chr> & <chr> & <chr> & <chr> & <chr> & <chr> & <chr> & <int> & <int> & <int> & ⋯ & <dbl> & <dbl> & <dbl> & <dbl> & <dbl> & <int> & <int> & <int> & <int> & <chr>\\\\\n",
       "\\hline\n",
       "\t1 & cfb4162a48b611ea8957bafe6d70929e & B001 & anaemic\\_human\\_emu             & cfb4162a48b611ea8957bafe6d70929e & B001-P1C1 & TGATGGCCTATTGGG & singlet & 2867 & 546 & 32119 & ⋯ & 55.89099 & 68.44291 & 546 & 6.304449 & 5.531354 & 1 & 0 & 1 & 7 & Female\\_BR1\\\\\n",
       "\t2 & 70ab258848b611eaa65d9e7d578d66f2 & B001 & pine\\_enervated\\_caracal        & 70ab258848b611eaa65d9e7d578d66f2 & B001-P1C1 & TGATGGCCTATTGGG & singlet & 2354 & 220 & 27740 & ⋯ & 57.66811 & 71.84454 & 220 & 5.398163 & 2.714374 & 0 & 1 & 3 & 0 & Female\\_BR1\\\\\n",
       "\t3 & 70acf29648b611eaa65d9e7d578d66f2 & B001 & bland\\_sandy\\_owl               & 70acf29648b611eaa65d9e7d578d66f2 & B001-P1C1 & TGATGGCCTATTGGG & singlet & 4302 & 776 & 73872 & ⋯ & 56.86120 & 68.77470 & 776 & 6.655440 & 3.608463 & 1 & 5 & 8 & 6 & Female\\_BR1\\\\\n",
       "\t4 & 70d2b34648b611eaa65d9e7d578d66f2 & B001 & mellow\\_intact\\_gecko           & 70d2b34648b611eaa65d9e7d578d66f2 & B001-P1C1 & TGATGGCCTATTGGG & singlet & 2176 & 167 & 20037 & ⋯ & 52.73269 & 67.80391 & 167 & 5.123964 & 2.765817 & 1 & 0 & 7 & 8 & Female\\_BR1\\\\\n",
       "\t5 & 70d844f048b611eaa65d9e7d578d66f2 & B001 & commonable\\_jadeite\\_wrenchbird & 70d844f048b611eaa65d9e7d578d66f2 & B001-P1C1 & TGATGGCCTATTGGG & singlet & 1977 & 124 & 20342 & ⋯ & 57.78995 & 72.12544 & 124 & 4.828314 & 2.057408 & 0 & 1 & 3 & 0 & Female\\_BR1\\\\\n",
       "\t6 & a711a6d8489811ea92388a6a0c683ffb & B001 & villainous\\_preoceanic\\_jackal  & a711a6d8489811ea92388a6a0c683ffb & B001-P1C1 & TGATGGCCTATTGGG & singlet & 1287 & 237 &  9010 & ⋯ & 56.26290 & 72.91810 & 237 & 5.472270 & 8.155540 & 0 & 1 & 3 & 0 & Female\\_BR1\\\\\n",
       "\\end{tabular}\n"
      ],
      "text/markdown": [
       "\n",
       "A data.frame: 6 × 52\n",
       "\n",
       "| <!--/--> | barcodes &lt;chr&gt; | batch_id &lt;chr&gt; | cell_name &lt;chr&gt; | cell_uuid &lt;chr&gt; | chip_id &lt;chr&gt; | hto_barcode &lt;chr&gt; | hto_category &lt;chr&gt; | n_genes &lt;int&gt; | n_mito_umis &lt;int&gt; | n_reads &lt;int&gt; | ⋯ ⋯ | pct_counts_in_top_200_genes &lt;dbl&gt; | pct_counts_in_top_500_genes &lt;dbl&gt; | total_counts_mito &lt;dbl&gt; | log1p_total_counts_mito &lt;dbl&gt; | pct_counts_mito &lt;dbl&gt; | leiden_resolution_0.5 &lt;int&gt; | leiden_resolution_1 &lt;int&gt; | leiden_resolution_1.5 &lt;int&gt; | leiden_resolution_2 &lt;int&gt; | facet &lt;chr&gt; |\n",
       "|---|---|---|---|---|---|---|---|---|---|---|---|---|---|---|---|---|---|---|---|---|---|\n",
       "| 1 | cfb4162a48b611ea8957bafe6d70929e | B001 | anaemic_human_emu             | cfb4162a48b611ea8957bafe6d70929e | B001-P1C1 | TGATGGCCTATTGGG | singlet | 2867 | 546 | 32119 | ⋯ | 55.89099 | 68.44291 | 546 | 6.304449 | 5.531354 | 1 | 0 | 1 | 7 | Female_BR1 |\n",
       "| 2 | 70ab258848b611eaa65d9e7d578d66f2 | B001 | pine_enervated_caracal        | 70ab258848b611eaa65d9e7d578d66f2 | B001-P1C1 | TGATGGCCTATTGGG | singlet | 2354 | 220 | 27740 | ⋯ | 57.66811 | 71.84454 | 220 | 5.398163 | 2.714374 | 0 | 1 | 3 | 0 | Female_BR1 |\n",
       "| 3 | 70acf29648b611eaa65d9e7d578d66f2 | B001 | bland_sandy_owl               | 70acf29648b611eaa65d9e7d578d66f2 | B001-P1C1 | TGATGGCCTATTGGG | singlet | 4302 | 776 | 73872 | ⋯ | 56.86120 | 68.77470 | 776 | 6.655440 | 3.608463 | 1 | 5 | 8 | 6 | Female_BR1 |\n",
       "| 4 | 70d2b34648b611eaa65d9e7d578d66f2 | B001 | mellow_intact_gecko           | 70d2b34648b611eaa65d9e7d578d66f2 | B001-P1C1 | TGATGGCCTATTGGG | singlet | 2176 | 167 | 20037 | ⋯ | 52.73269 | 67.80391 | 167 | 5.123964 | 2.765817 | 1 | 0 | 7 | 8 | Female_BR1 |\n",
       "| 5 | 70d844f048b611eaa65d9e7d578d66f2 | B001 | commonable_jadeite_wrenchbird | 70d844f048b611eaa65d9e7d578d66f2 | B001-P1C1 | TGATGGCCTATTGGG | singlet | 1977 | 124 | 20342 | ⋯ | 57.78995 | 72.12544 | 124 | 4.828314 | 2.057408 | 0 | 1 | 3 | 0 | Female_BR1 |\n",
       "| 6 | a711a6d8489811ea92388a6a0c683ffb | B001 | villainous_preoceanic_jackal  | a711a6d8489811ea92388a6a0c683ffb | B001-P1C1 | TGATGGCCTATTGGG | singlet | 1287 | 237 |  9010 | ⋯ | 56.26290 | 72.91810 | 237 | 5.472270 | 8.155540 | 0 | 1 | 3 | 0 | Female_BR1 |\n",
       "\n"
      ],
      "text/plain": [
       "  barcodes                         batch_id cell_name                    \n",
       "1 cfb4162a48b611ea8957bafe6d70929e B001     anaemic_human_emu            \n",
       "2 70ab258848b611eaa65d9e7d578d66f2 B001     pine_enervated_caracal       \n",
       "3 70acf29648b611eaa65d9e7d578d66f2 B001     bland_sandy_owl              \n",
       "4 70d2b34648b611eaa65d9e7d578d66f2 B001     mellow_intact_gecko          \n",
       "5 70d844f048b611eaa65d9e7d578d66f2 B001     commonable_jadeite_wrenchbird\n",
       "6 a711a6d8489811ea92388a6a0c683ffb B001     villainous_preoceanic_jackal \n",
       "  cell_uuid                        chip_id   hto_barcode     hto_category\n",
       "1 cfb4162a48b611ea8957bafe6d70929e B001-P1C1 TGATGGCCTATTGGG singlet     \n",
       "2 70ab258848b611eaa65d9e7d578d66f2 B001-P1C1 TGATGGCCTATTGGG singlet     \n",
       "3 70acf29648b611eaa65d9e7d578d66f2 B001-P1C1 TGATGGCCTATTGGG singlet     \n",
       "4 70d2b34648b611eaa65d9e7d578d66f2 B001-P1C1 TGATGGCCTATTGGG singlet     \n",
       "5 70d844f048b611eaa65d9e7d578d66f2 B001-P1C1 TGATGGCCTATTGGG singlet     \n",
       "6 a711a6d8489811ea92388a6a0c683ffb B001-P1C1 TGATGGCCTATTGGG singlet     \n",
       "  n_genes n_mito_umis n_reads ⋯ pct_counts_in_top_200_genes\n",
       "1 2867    546         32119   ⋯ 55.89099                   \n",
       "2 2354    220         27740   ⋯ 57.66811                   \n",
       "3 4302    776         73872   ⋯ 56.86120                   \n",
       "4 2176    167         20037   ⋯ 52.73269                   \n",
       "5 1977    124         20342   ⋯ 57.78995                   \n",
       "6 1287    237          9010   ⋯ 56.26290                   \n",
       "  pct_counts_in_top_500_genes total_counts_mito log1p_total_counts_mito\n",
       "1 68.44291                    546               6.304449               \n",
       "2 71.84454                    220               5.398163               \n",
       "3 68.77470                    776               6.655440               \n",
       "4 67.80391                    167               5.123964               \n",
       "5 72.12544                    124               4.828314               \n",
       "6 72.91810                    237               5.472270               \n",
       "  pct_counts_mito leiden_resolution_0.5 leiden_resolution_1\n",
       "1 5.531354        1                     0                  \n",
       "2 2.714374        0                     1                  \n",
       "3 3.608463        1                     5                  \n",
       "4 2.765817        1                     0                  \n",
       "5 2.057408        0                     1                  \n",
       "6 8.155540        0                     1                  \n",
       "  leiden_resolution_1.5 leiden_resolution_2 facet     \n",
       "1 1                     7                   Female_BR1\n",
       "2 3                     0                   Female_BR1\n",
       "3 8                     6                   Female_BR1\n",
       "4 7                     8                   Female_BR1\n",
       "5 3                     0                   Female_BR1\n",
       "6 3                     0                   Female_BR1"
      ]
     },
     "metadata": {},
     "output_type": "display_data"
    },
    {
     "data": {
      "text/html": [
       "<style>\n",
       ".list-inline {list-style: none; margin:0; padding: 0}\n",
       ".list-inline>li {display: inline-block}\n",
       ".list-inline>li:not(:last-child)::after {content: \"\\00b7\"; padding: 0 .5ex}\n",
       "</style>\n",
       "<ol class=list-inline><li>'barcodes'</li><li>'batch_id'</li><li>'cell_name'</li><li>'cell_uuid'</li><li>'chip_id'</li><li>'hto_barcode'</li><li>'hto_category'</li><li>'n_genes'</li><li>'n_mito_umis'</li><li>'n_reads'</li><li>'n_umis'</li><li>'original_barcodes'</li><li>'pbmc_sample_id'</li><li>'pool_id'</li><li>'seurat_pbmc_type'</li><li>'seurat_pbmc_type_score'</li><li>'umap_1'</li><li>'umap_2'</li><li>'well_id'</li><li>'subject.biologicalSex'</li><li>'subject.ethnicity'</li><li>'subject.partnerCode'</li><li>'subject.race'</li><li>'subject.subjectGuid'</li><li>'cohort.cohortGuid'</li><li>'sample.visitName'</li><li>'sample.visitDetails'</li><li>'subject.birthYear'</li><li>'CMV.IgG.Serology.Result.Interpretation'</li><li>'BMI'</li><li>'predicted_doublet'</li><li>'doublet_score'</li><li>'AIFI_L1'</li><li>'AIFI_L2'</li><li>'AIFI_L3'</li><li>'AIFI_L3.5'</li><li>'n_genes_by_counts'</li><li>'log1p_n_genes_by_counts'</li><li>'total_counts'</li><li>'log1p_total_counts'</li><li>'pct_counts_in_top_50_genes'</li><li>'pct_counts_in_top_100_genes'</li><li>'pct_counts_in_top_200_genes'</li><li>'pct_counts_in_top_500_genes'</li><li>'total_counts_mito'</li><li>'log1p_total_counts_mito'</li><li>'pct_counts_mito'</li><li>'leiden_resolution_0.5'</li><li>'leiden_resolution_1'</li><li>'leiden_resolution_1.5'</li><li>'leiden_resolution_2'</li><li>'facet'</li></ol>\n"
      ],
      "text/latex": [
       "\\begin{enumerate*}\n",
       "\\item 'barcodes'\n",
       "\\item 'batch\\_id'\n",
       "\\item 'cell\\_name'\n",
       "\\item 'cell\\_uuid'\n",
       "\\item 'chip\\_id'\n",
       "\\item 'hto\\_barcode'\n",
       "\\item 'hto\\_category'\n",
       "\\item 'n\\_genes'\n",
       "\\item 'n\\_mito\\_umis'\n",
       "\\item 'n\\_reads'\n",
       "\\item 'n\\_umis'\n",
       "\\item 'original\\_barcodes'\n",
       "\\item 'pbmc\\_sample\\_id'\n",
       "\\item 'pool\\_id'\n",
       "\\item 'seurat\\_pbmc\\_type'\n",
       "\\item 'seurat\\_pbmc\\_type\\_score'\n",
       "\\item 'umap\\_1'\n",
       "\\item 'umap\\_2'\n",
       "\\item 'well\\_id'\n",
       "\\item 'subject.biologicalSex'\n",
       "\\item 'subject.ethnicity'\n",
       "\\item 'subject.partnerCode'\n",
       "\\item 'subject.race'\n",
       "\\item 'subject.subjectGuid'\n",
       "\\item 'cohort.cohortGuid'\n",
       "\\item 'sample.visitName'\n",
       "\\item 'sample.visitDetails'\n",
       "\\item 'subject.birthYear'\n",
       "\\item 'CMV.IgG.Serology.Result.Interpretation'\n",
       "\\item 'BMI'\n",
       "\\item 'predicted\\_doublet'\n",
       "\\item 'doublet\\_score'\n",
       "\\item 'AIFI\\_L1'\n",
       "\\item 'AIFI\\_L2'\n",
       "\\item 'AIFI\\_L3'\n",
       "\\item 'AIFI\\_L3.5'\n",
       "\\item 'n\\_genes\\_by\\_counts'\n",
       "\\item 'log1p\\_n\\_genes\\_by\\_counts'\n",
       "\\item 'total\\_counts'\n",
       "\\item 'log1p\\_total\\_counts'\n",
       "\\item 'pct\\_counts\\_in\\_top\\_50\\_genes'\n",
       "\\item 'pct\\_counts\\_in\\_top\\_100\\_genes'\n",
       "\\item 'pct\\_counts\\_in\\_top\\_200\\_genes'\n",
       "\\item 'pct\\_counts\\_in\\_top\\_500\\_genes'\n",
       "\\item 'total\\_counts\\_mito'\n",
       "\\item 'log1p\\_total\\_counts\\_mito'\n",
       "\\item 'pct\\_counts\\_mito'\n",
       "\\item 'leiden\\_resolution\\_0.5'\n",
       "\\item 'leiden\\_resolution\\_1'\n",
       "\\item 'leiden\\_resolution\\_1.5'\n",
       "\\item 'leiden\\_resolution\\_2'\n",
       "\\item 'facet'\n",
       "\\end{enumerate*}\n"
      ],
      "text/markdown": [
       "1. 'barcodes'\n",
       "2. 'batch_id'\n",
       "3. 'cell_name'\n",
       "4. 'cell_uuid'\n",
       "5. 'chip_id'\n",
       "6. 'hto_barcode'\n",
       "7. 'hto_category'\n",
       "8. 'n_genes'\n",
       "9. 'n_mito_umis'\n",
       "10. 'n_reads'\n",
       "11. 'n_umis'\n",
       "12. 'original_barcodes'\n",
       "13. 'pbmc_sample_id'\n",
       "14. 'pool_id'\n",
       "15. 'seurat_pbmc_type'\n",
       "16. 'seurat_pbmc_type_score'\n",
       "17. 'umap_1'\n",
       "18. 'umap_2'\n",
       "19. 'well_id'\n",
       "20. 'subject.biologicalSex'\n",
       "21. 'subject.ethnicity'\n",
       "22. 'subject.partnerCode'\n",
       "23. 'subject.race'\n",
       "24. 'subject.subjectGuid'\n",
       "25. 'cohort.cohortGuid'\n",
       "26. 'sample.visitName'\n",
       "27. 'sample.visitDetails'\n",
       "28. 'subject.birthYear'\n",
       "29. 'CMV.IgG.Serology.Result.Interpretation'\n",
       "30. 'BMI'\n",
       "31. 'predicted_doublet'\n",
       "32. 'doublet_score'\n",
       "33. 'AIFI_L1'\n",
       "34. 'AIFI_L2'\n",
       "35. 'AIFI_L3'\n",
       "36. 'AIFI_L3.5'\n",
       "37. 'n_genes_by_counts'\n",
       "38. 'log1p_n_genes_by_counts'\n",
       "39. 'total_counts'\n",
       "40. 'log1p_total_counts'\n",
       "41. 'pct_counts_in_top_50_genes'\n",
       "42. 'pct_counts_in_top_100_genes'\n",
       "43. 'pct_counts_in_top_200_genes'\n",
       "44. 'pct_counts_in_top_500_genes'\n",
       "45. 'total_counts_mito'\n",
       "46. 'log1p_total_counts_mito'\n",
       "47. 'pct_counts_mito'\n",
       "48. 'leiden_resolution_0.5'\n",
       "49. 'leiden_resolution_1'\n",
       "50. 'leiden_resolution_1.5'\n",
       "51. 'leiden_resolution_2'\n",
       "52. 'facet'\n",
       "\n",
       "\n"
      ],
      "text/plain": [
       " [1] \"barcodes\"                              \n",
       " [2] \"batch_id\"                              \n",
       " [3] \"cell_name\"                             \n",
       " [4] \"cell_uuid\"                             \n",
       " [5] \"chip_id\"                               \n",
       " [6] \"hto_barcode\"                           \n",
       " [7] \"hto_category\"                          \n",
       " [8] \"n_genes\"                               \n",
       " [9] \"n_mito_umis\"                           \n",
       "[10] \"n_reads\"                               \n",
       "[11] \"n_umis\"                                \n",
       "[12] \"original_barcodes\"                     \n",
       "[13] \"pbmc_sample_id\"                        \n",
       "[14] \"pool_id\"                               \n",
       "[15] \"seurat_pbmc_type\"                      \n",
       "[16] \"seurat_pbmc_type_score\"                \n",
       "[17] \"umap_1\"                                \n",
       "[18] \"umap_2\"                                \n",
       "[19] \"well_id\"                               \n",
       "[20] \"subject.biologicalSex\"                 \n",
       "[21] \"subject.ethnicity\"                     \n",
       "[22] \"subject.partnerCode\"                   \n",
       "[23] \"subject.race\"                          \n",
       "[24] \"subject.subjectGuid\"                   \n",
       "[25] \"cohort.cohortGuid\"                     \n",
       "[26] \"sample.visitName\"                      \n",
       "[27] \"sample.visitDetails\"                   \n",
       "[28] \"subject.birthYear\"                     \n",
       "[29] \"CMV.IgG.Serology.Result.Interpretation\"\n",
       "[30] \"BMI\"                                   \n",
       "[31] \"predicted_doublet\"                     \n",
       "[32] \"doublet_score\"                         \n",
       "[33] \"AIFI_L1\"                               \n",
       "[34] \"AIFI_L2\"                               \n",
       "[35] \"AIFI_L3\"                               \n",
       "[36] \"AIFI_L3.5\"                             \n",
       "[37] \"n_genes_by_counts\"                     \n",
       "[38] \"log1p_n_genes_by_counts\"               \n",
       "[39] \"total_counts\"                          \n",
       "[40] \"log1p_total_counts\"                    \n",
       "[41] \"pct_counts_in_top_50_genes\"            \n",
       "[42] \"pct_counts_in_top_100_genes\"           \n",
       "[43] \"pct_counts_in_top_200_genes\"           \n",
       "[44] \"pct_counts_in_top_500_genes\"           \n",
       "[45] \"total_counts_mito\"                     \n",
       "[46] \"log1p_total_counts_mito\"               \n",
       "[47] \"pct_counts_mito\"                       \n",
       "[48] \"leiden_resolution_0.5\"                 \n",
       "[49] \"leiden_resolution_1\"                   \n",
       "[50] \"leiden_resolution_1.5\"                 \n",
       "[51] \"leiden_resolution_2\"                   \n",
       "[52] \"facet\"                                 "
      ]
     },
     "metadata": {},
     "output_type": "display_data"
    },
    {
     "data": {
      "text/html": [
       "92"
      ],
      "text/latex": [
       "92"
      ],
      "text/markdown": [
       "92"
      ],
      "text/plain": [
       "[1] 92"
      ]
     },
     "metadata": {},
     "output_type": "display_data"
    },
    {
     "data": {
      "text/html": [
       "92"
      ],
      "text/latex": [
       "92"
      ],
      "text/markdown": [
       "92"
      ],
      "text/plain": [
       "[1] 92"
      ]
     },
     "metadata": {},
     "output_type": "display_data"
    },
    {
     "data": {
      "text/html": [
       "<style>\n",
       ".list-inline {list-style: none; margin:0; padding: 0}\n",
       ".list-inline>li {display: inline-block}\n",
       ".list-inline>li:not(:last-child)::after {content: \"\\00b7\"; padding: 0 .5ex}\n",
       "</style>\n",
       "<ol class=list-inline><li>2679</li><li>52</li></ol>\n"
      ],
      "text/latex": [
       "\\begin{enumerate*}\n",
       "\\item 2679\n",
       "\\item 52\n",
       "\\end{enumerate*}\n"
      ],
      "text/markdown": [
       "1. 2679\n",
       "2. 52\n",
       "\n",
       "\n"
      ],
      "text/plain": [
       "[1] 2679   52"
      ]
     },
     "metadata": {},
     "output_type": "display_data"
    }
   ],
   "source": [
    "head(read_df)\n",
    "colnames(read_df)\n",
    "length(unique(read_df$subject.subjectGuid))\n",
    "length(unique(read_df$pbmc_sample_id))\n",
    "dim(read_df)"
   ]
  },
  {
   "cell_type": "markdown",
   "id": "77b4e761-12e4-43df-ae53-39a112feafc1",
   "metadata": {},
   "source": [
    "# CLR Transform\n"
   ]
  },
  {
   "cell_type": "code",
   "execution_count": 7,
   "id": "9e52392f-7997-4874-a114-abcf4916a44f",
   "metadata": {
    "tags": []
   },
   "outputs": [],
   "source": [
    "clr_transform <- function(x) {\n",
    "  if (length(x) == 0) {\n",
    "    return(NA)  # return NA for empty vectors\n",
    "  }\n",
    "  geom_mean <- exp(mean(log(x)))\n",
    "  return(log(x / geom_mean))\n",
    "}"
   ]
  },
  {
   "cell_type": "markdown",
   "id": "aefe3d80-60c6-477c-a415-2efae05d7bfb",
   "metadata": {},
   "source": [
    "# Comparsion within total PBMCs (Percentage and Percentage CLR)"
   ]
  },
  {
   "cell_type": "code",
   "execution_count": null,
   "id": "768bd37a-b036-4cdd-a37f-6740906f37bb",
   "metadata": {},
   "outputs": [],
   "source": [
    "#filter data for specific cluster"
   ]
  },
  {
   "cell_type": "code",
   "execution_count": 21,
   "id": "4e56095a-73a6-47bd-b9bc-7140c4c0a551",
   "metadata": {
    "collapsed": true,
    "jupyter": {
     "outputs_hidden": true
    },
    "tags": []
   },
   "outputs": [
    {
     "name": "stderr",
     "output_type": "stream",
     "text": [
      "\u001b[1m\u001b[22m`summarise()` has grouped output by 'leiden_resolution_0.5', 'facet'. You can\n",
      "override using the `.groups` argument.\n"
     ]
    },
    {
     "data": {
      "text/html": [
       "<table class=\"dataframe\">\n",
       "<caption>A tibble: 305 × 6</caption>\n",
       "<thead>\n",
       "\t<tr><th scope=col>leiden_resolution_0.5</th><th scope=col>facet</th><th scope=col>subject.subjectGuid</th><th scope=col>count</th><th scope=col>percentage</th><th scope=col>percentage_clr</th></tr>\n",
       "\t<tr><th scope=col>&lt;int&gt;</th><th scope=col>&lt;chr&gt;</th><th scope=col>&lt;chr&gt;</th><th scope=col>&lt;int&gt;</th><th scope=col>&lt;dbl&gt;</th><th scope=col>&lt;dbl&gt;</th></tr>\n",
       "</thead>\n",
       "<tbody>\n",
       "\t<tr><td>0</td><td>Female_BR1</td><td>BR1001</td><td>25</td><td> 75.75758</td><td> 5.697171e-01</td></tr>\n",
       "\t<tr><td>0</td><td>Female_BR1</td><td>BR1003</td><td> 5</td><td> 83.33333</td><td> 8.047190e-01</td></tr>\n",
       "\t<tr><td>0</td><td>Female_BR1</td><td>BR1005</td><td> 7</td><td> 50.00000</td><td> 2.220446e-16</td></tr>\n",
       "\t<tr><td>0</td><td>Female_BR1</td><td>BR1008</td><td> 3</td><td> 50.00000</td><td> 2.220446e-16</td></tr>\n",
       "\t<tr><td>0</td><td>Female_BR1</td><td>BR1009</td><td> 2</td><td>100.00000</td><td>-4.440892e-16</td></tr>\n",
       "\t<tr><td>0</td><td>Female_BR1</td><td>BR1010</td><td> 8</td><td> 61.53846</td><td> 9.241962e-01</td></tr>\n",
       "\t<tr><td>0</td><td>Female_BR1</td><td>BR1013</td><td> 6</td><td> 85.71429</td><td> 8.958797e-01</td></tr>\n",
       "\t<tr><td>0</td><td>Female_BR1</td><td>BR1014</td><td> 2</td><td> 22.22222</td><td>-1.351550e-01</td></tr>\n",
       "\t<tr><td>0</td><td>Female_BR1</td><td>BR1017</td><td> 4</td><td> 33.33333</td><td> 2.755595e-01</td></tr>\n",
       "\t<tr><td>0</td><td>Female_BR1</td><td>BR1019</td><td> 6</td><td> 37.50000</td><td> 1.796655e-01</td></tr>\n",
       "\t<tr><td>0</td><td>Female_BR1</td><td>BR1021</td><td>20</td><td> 47.61905</td><td> 5.715995e-01</td></tr>\n",
       "\t<tr><td>0</td><td>Female_BR1</td><td>BR1023</td><td> 2</td><td> 50.00000</td><td> 2.220446e-16</td></tr>\n",
       "\t<tr><td>0</td><td>Female_BR1</td><td>BR1024</td><td> 7</td><td> 58.33333</td><td> 8.351753e-01</td></tr>\n",
       "\t<tr><td>0</td><td>Female_BR1</td><td>BR1025</td><td>12</td><td> 42.85714</td><td> 1.049156e+00</td></tr>\n",
       "\t<tr><td>0</td><td>Female_BR1</td><td>BR1026</td><td> 2</td><td> 66.66667</td><td> 3.465736e-01</td></tr>\n",
       "\t<tr><td>0</td><td>Female_BR1</td><td>BR1028</td><td>12</td><td> 29.26829</td><td> 1.215477e-01</td></tr>\n",
       "\t<tr><td>0</td><td>Female_BR1</td><td>BR1030</td><td>28</td><td> 80.00000</td><td> 1.624217e+00</td></tr>\n",
       "\t<tr><td>0</td><td>Female_BR1</td><td>BR1031</td><td> 9</td><td> 60.00000</td><td> 7.716692e-01</td></tr>\n",
       "\t<tr><td>0</td><td>Female_BR1</td><td>BR1037</td><td>43</td><td> 42.15686</td><td> 1.725614e+00</td></tr>\n",
       "\t<tr><td>0</td><td>Female_BR1</td><td>BR1041</td><td> 3</td><td> 33.33333</td><td> 3.760193e-01</td></tr>\n",
       "\t<tr><td>0</td><td>Female_BR1</td><td>BR1048</td><td> 9</td><td> 40.90909</td><td> 8.989854e-01</td></tr>\n",
       "\t<tr><td>0</td><td>Female_BR1</td><td>BR1050</td><td> 2</td><td> 16.66667</td><td>-2.703101e-01</td></tr>\n",
       "\t<tr><td>0</td><td>Female_BR1</td><td>BR1056</td><td> 1</td><td> 33.33333</td><td> 2.220446e-16</td></tr>\n",
       "\t<tr><td>0</td><td>Female_BR1</td><td>BR1057</td><td> 5</td><td> 55.55556</td><td> 6.108605e-01</td></tr>\n",
       "\t<tr><td>0</td><td>Female_BR1</td><td>BR1058</td><td> 7</td><td> 58.33333</td><td> 8.351753e-01</td></tr>\n",
       "\t<tr><td>0</td><td>Female_BR2</td><td>BR2002</td><td> 7</td><td> 33.33333</td><td> 6.091333e-01</td></tr>\n",
       "\t<tr><td>0</td><td>Female_BR2</td><td>BR2005</td><td> 3</td><td> 75.00000</td><td> 5.493061e-01</td></tr>\n",
       "\t<tr><td>0</td><td>Female_BR2</td><td>BR2009</td><td> 3</td><td> 23.07692</td><td> 4.897078e-01</td></tr>\n",
       "\t<tr><td>0</td><td>Female_BR2</td><td>BR2010</td><td>21</td><td> 65.62500</td><td> 1.262153e+00</td></tr>\n",
       "\t<tr><td>0</td><td>Female_BR2</td><td>BR2012</td><td>11</td><td> 31.42857</td><td> 8.640041e-01</td></tr>\n",
       "\t<tr><td>⋮</td><td>⋮</td><td>⋮</td><td>⋮</td><td>⋮</td><td>⋮</td></tr>\n",
       "\t<tr><td>4</td><td>Female_BR2</td><td>BR2041</td><td> 1</td><td> 7.6923077</td><td>-0.9972460</td></tr>\n",
       "\t<tr><td>4</td><td>Female_BR2</td><td>BR2043</td><td> 1</td><td> 7.1428571</td><td>-1.2296265</td></tr>\n",
       "\t<tr><td>4</td><td>Male_BR1  </td><td>BR1004</td><td> 1</td><td> 9.0909091</td><td>-1.0729586</td></tr>\n",
       "\t<tr><td>4</td><td>Male_BR2  </td><td>BR2003</td><td> 1</td><td> 3.8461538</td><td>-1.2982392</td></tr>\n",
       "\t<tr><td>4</td><td>Male_BR2  </td><td>BR2013</td><td> 1</td><td> 5.0000000</td><td>-1.0859514</td></tr>\n",
       "\t<tr><td>4</td><td>Male_BR2  </td><td>BR2025</td><td>17</td><td> 3.6324786</td><td> 0.4480829</td></tr>\n",
       "\t<tr><td>4</td><td>Male_BR2  </td><td>BR2046</td><td> 1</td><td> 4.1666667</td><td>-1.5958306</td></tr>\n",
       "\t<tr><td>4</td><td>Male_BR2  </td><td>BR2050</td><td> 1</td><td> 0.4926108</td><td>-2.2946206</td></tr>\n",
       "\t<tr><td>5</td><td>Female_BR1</td><td>BR1037</td><td> 1</td><td> 0.9803922</td><td>-2.0355865</td></tr>\n",
       "\t<tr><td>5</td><td>Female_BR2</td><td>BR2042</td><td> 1</td><td> 0.7633588</td><td>-2.4707424</td></tr>\n",
       "\t<tr><td>5</td><td>Male_BR1  </td><td>BR1006</td><td> 1</td><td>10.0000000</td><td>-0.5780744</td></tr>\n",
       "\t<tr><td>5</td><td>Male_BR1  </td><td>BR1007</td><td> 1</td><td> 2.0833333</td><td>-1.4970983</td></tr>\n",
       "\t<tr><td>5</td><td>Male_BR1  </td><td>BR1012</td><td> 1</td><td>10.0000000</td><td>-1.0986123</td></tr>\n",
       "\t<tr><td>5</td><td>Male_BR1  </td><td>BR1015</td><td> 1</td><td> 8.3333333</td><td>-0.5972532</td></tr>\n",
       "\t<tr><td>5</td><td>Male_BR1  </td><td>BR1016</td><td> 1</td><td> 5.5555556</td><td>-1.0357837</td></tr>\n",
       "\t<tr><td>5</td><td>Male_BR1  </td><td>BR1040</td><td> 1</td><td> 2.9411765</td><td>-1.5706433</td></tr>\n",
       "\t<tr><td>5</td><td>Male_BR1  </td><td>BR1042</td><td> 2</td><td> 1.8181818</td><td>-1.2796439</td></tr>\n",
       "\t<tr><td>5</td><td>Male_BR1  </td><td>BR1043</td><td> 1</td><td>11.1111111</td><td>-0.4479399</td></tr>\n",
       "\t<tr><td>5</td><td>Male_BR1  </td><td>BR1044</td><td> 1</td><td> 3.8461538</td><td>-1.2263187</td></tr>\n",
       "\t<tr><td>5</td><td>Male_BR1  </td><td>BR1045</td><td> 3</td><td> 1.4084507</td><td>-1.3741893</td></tr>\n",
       "\t<tr><td>5</td><td>Male_BR1  </td><td>BR1047</td><td> 1</td><td> 4.3478261</td><td>-1.0884835</td></tr>\n",
       "\t<tr><td>5</td><td>Male_BR2  </td><td>BR2025</td><td> 2</td><td> 0.4273504</td><td>-1.6919832</td></tr>\n",
       "\t<tr><td>5</td><td>Male_BR2  </td><td>BR2048</td><td> 1</td><td> 5.0000000</td><td>-1.1325921</td></tr>\n",
       "\t<tr><td>6</td><td>Female_BR1</td><td>BR1048</td><td> 1</td><td> 4.5454545</td><td>-1.2982392</td></tr>\n",
       "\t<tr><td>6</td><td>Male_BR1  </td><td>BR1015</td><td> 1</td><td> 8.3333333</td><td>-0.5972532</td></tr>\n",
       "\t<tr><td>6</td><td>Male_BR1  </td><td>BR1016</td><td> 1</td><td> 5.5555556</td><td>-1.0357837</td></tr>\n",
       "\t<tr><td>6</td><td>Male_BR1  </td><td>BR1042</td><td> 2</td><td> 1.8181818</td><td>-1.2796439</td></tr>\n",
       "\t<tr><td>6</td><td>Male_BR1  </td><td>BR1045</td><td>10</td><td> 4.6948357</td><td>-0.1702165</td></tr>\n",
       "\t<tr><td>6</td><td>Male_BR1  </td><td>BR1047</td><td> 1</td><td> 4.3478261</td><td>-1.0884835</td></tr>\n",
       "\t<tr><td>6</td><td>Male_BR2  </td><td>BR2025</td><td> 1</td><td> 0.2136752</td><td>-2.3851304</td></tr>\n",
       "</tbody>\n",
       "</table>\n"
      ],
      "text/latex": [
       "A tibble: 305 × 6\n",
       "\\begin{tabular}{llllll}\n",
       " leiden\\_resolution\\_0.5 & facet & subject.subjectGuid & count & percentage & percentage\\_clr\\\\\n",
       " <int> & <chr> & <chr> & <int> & <dbl> & <dbl>\\\\\n",
       "\\hline\n",
       "\t 0 & Female\\_BR1 & BR1001 & 25 &  75.75758 &  5.697171e-01\\\\\n",
       "\t 0 & Female\\_BR1 & BR1003 &  5 &  83.33333 &  8.047190e-01\\\\\n",
       "\t 0 & Female\\_BR1 & BR1005 &  7 &  50.00000 &  2.220446e-16\\\\\n",
       "\t 0 & Female\\_BR1 & BR1008 &  3 &  50.00000 &  2.220446e-16\\\\\n",
       "\t 0 & Female\\_BR1 & BR1009 &  2 & 100.00000 & -4.440892e-16\\\\\n",
       "\t 0 & Female\\_BR1 & BR1010 &  8 &  61.53846 &  9.241962e-01\\\\\n",
       "\t 0 & Female\\_BR1 & BR1013 &  6 &  85.71429 &  8.958797e-01\\\\\n",
       "\t 0 & Female\\_BR1 & BR1014 &  2 &  22.22222 & -1.351550e-01\\\\\n",
       "\t 0 & Female\\_BR1 & BR1017 &  4 &  33.33333 &  2.755595e-01\\\\\n",
       "\t 0 & Female\\_BR1 & BR1019 &  6 &  37.50000 &  1.796655e-01\\\\\n",
       "\t 0 & Female\\_BR1 & BR1021 & 20 &  47.61905 &  5.715995e-01\\\\\n",
       "\t 0 & Female\\_BR1 & BR1023 &  2 &  50.00000 &  2.220446e-16\\\\\n",
       "\t 0 & Female\\_BR1 & BR1024 &  7 &  58.33333 &  8.351753e-01\\\\\n",
       "\t 0 & Female\\_BR1 & BR1025 & 12 &  42.85714 &  1.049156e+00\\\\\n",
       "\t 0 & Female\\_BR1 & BR1026 &  2 &  66.66667 &  3.465736e-01\\\\\n",
       "\t 0 & Female\\_BR1 & BR1028 & 12 &  29.26829 &  1.215477e-01\\\\\n",
       "\t 0 & Female\\_BR1 & BR1030 & 28 &  80.00000 &  1.624217e+00\\\\\n",
       "\t 0 & Female\\_BR1 & BR1031 &  9 &  60.00000 &  7.716692e-01\\\\\n",
       "\t 0 & Female\\_BR1 & BR1037 & 43 &  42.15686 &  1.725614e+00\\\\\n",
       "\t 0 & Female\\_BR1 & BR1041 &  3 &  33.33333 &  3.760193e-01\\\\\n",
       "\t 0 & Female\\_BR1 & BR1048 &  9 &  40.90909 &  8.989854e-01\\\\\n",
       "\t 0 & Female\\_BR1 & BR1050 &  2 &  16.66667 & -2.703101e-01\\\\\n",
       "\t 0 & Female\\_BR1 & BR1056 &  1 &  33.33333 &  2.220446e-16\\\\\n",
       "\t 0 & Female\\_BR1 & BR1057 &  5 &  55.55556 &  6.108605e-01\\\\\n",
       "\t 0 & Female\\_BR1 & BR1058 &  7 &  58.33333 &  8.351753e-01\\\\\n",
       "\t 0 & Female\\_BR2 & BR2002 &  7 &  33.33333 &  6.091333e-01\\\\\n",
       "\t 0 & Female\\_BR2 & BR2005 &  3 &  75.00000 &  5.493061e-01\\\\\n",
       "\t 0 & Female\\_BR2 & BR2009 &  3 &  23.07692 &  4.897078e-01\\\\\n",
       "\t 0 & Female\\_BR2 & BR2010 & 21 &  65.62500 &  1.262153e+00\\\\\n",
       "\t 0 & Female\\_BR2 & BR2012 & 11 &  31.42857 &  8.640041e-01\\\\\n",
       "\t ⋮ & ⋮ & ⋮ & ⋮ & ⋮ & ⋮\\\\\n",
       "\t 4 & Female\\_BR2 & BR2041 &  1 &  7.6923077 & -0.9972460\\\\\n",
       "\t 4 & Female\\_BR2 & BR2043 &  1 &  7.1428571 & -1.2296265\\\\\n",
       "\t 4 & Male\\_BR1   & BR1004 &  1 &  9.0909091 & -1.0729586\\\\\n",
       "\t 4 & Male\\_BR2   & BR2003 &  1 &  3.8461538 & -1.2982392\\\\\n",
       "\t 4 & Male\\_BR2   & BR2013 &  1 &  5.0000000 & -1.0859514\\\\\n",
       "\t 4 & Male\\_BR2   & BR2025 & 17 &  3.6324786 &  0.4480829\\\\\n",
       "\t 4 & Male\\_BR2   & BR2046 &  1 &  4.1666667 & -1.5958306\\\\\n",
       "\t 4 & Male\\_BR2   & BR2050 &  1 &  0.4926108 & -2.2946206\\\\\n",
       "\t 5 & Female\\_BR1 & BR1037 &  1 &  0.9803922 & -2.0355865\\\\\n",
       "\t 5 & Female\\_BR2 & BR2042 &  1 &  0.7633588 & -2.4707424\\\\\n",
       "\t 5 & Male\\_BR1   & BR1006 &  1 & 10.0000000 & -0.5780744\\\\\n",
       "\t 5 & Male\\_BR1   & BR1007 &  1 &  2.0833333 & -1.4970983\\\\\n",
       "\t 5 & Male\\_BR1   & BR1012 &  1 & 10.0000000 & -1.0986123\\\\\n",
       "\t 5 & Male\\_BR1   & BR1015 &  1 &  8.3333333 & -0.5972532\\\\\n",
       "\t 5 & Male\\_BR1   & BR1016 &  1 &  5.5555556 & -1.0357837\\\\\n",
       "\t 5 & Male\\_BR1   & BR1040 &  1 &  2.9411765 & -1.5706433\\\\\n",
       "\t 5 & Male\\_BR1   & BR1042 &  2 &  1.8181818 & -1.2796439\\\\\n",
       "\t 5 & Male\\_BR1   & BR1043 &  1 & 11.1111111 & -0.4479399\\\\\n",
       "\t 5 & Male\\_BR1   & BR1044 &  1 &  3.8461538 & -1.2263187\\\\\n",
       "\t 5 & Male\\_BR1   & BR1045 &  3 &  1.4084507 & -1.3741893\\\\\n",
       "\t 5 & Male\\_BR1   & BR1047 &  1 &  4.3478261 & -1.0884835\\\\\n",
       "\t 5 & Male\\_BR2   & BR2025 &  2 &  0.4273504 & -1.6919832\\\\\n",
       "\t 5 & Male\\_BR2   & BR2048 &  1 &  5.0000000 & -1.1325921\\\\\n",
       "\t 6 & Female\\_BR1 & BR1048 &  1 &  4.5454545 & -1.2982392\\\\\n",
       "\t 6 & Male\\_BR1   & BR1015 &  1 &  8.3333333 & -0.5972532\\\\\n",
       "\t 6 & Male\\_BR1   & BR1016 &  1 &  5.5555556 & -1.0357837\\\\\n",
       "\t 6 & Male\\_BR1   & BR1042 &  2 &  1.8181818 & -1.2796439\\\\\n",
       "\t 6 & Male\\_BR1   & BR1045 & 10 &  4.6948357 & -0.1702165\\\\\n",
       "\t 6 & Male\\_BR1   & BR1047 &  1 &  4.3478261 & -1.0884835\\\\\n",
       "\t 6 & Male\\_BR2   & BR2025 &  1 &  0.2136752 & -2.3851304\\\\\n",
       "\\end{tabular}\n"
      ],
      "text/markdown": [
       "\n",
       "A tibble: 305 × 6\n",
       "\n",
       "| leiden_resolution_0.5 &lt;int&gt; | facet &lt;chr&gt; | subject.subjectGuid &lt;chr&gt; | count &lt;int&gt; | percentage &lt;dbl&gt; | percentage_clr &lt;dbl&gt; |\n",
       "|---|---|---|---|---|---|\n",
       "| 0 | Female_BR1 | BR1001 | 25 |  75.75758 |  5.697171e-01 |\n",
       "| 0 | Female_BR1 | BR1003 |  5 |  83.33333 |  8.047190e-01 |\n",
       "| 0 | Female_BR1 | BR1005 |  7 |  50.00000 |  2.220446e-16 |\n",
       "| 0 | Female_BR1 | BR1008 |  3 |  50.00000 |  2.220446e-16 |\n",
       "| 0 | Female_BR1 | BR1009 |  2 | 100.00000 | -4.440892e-16 |\n",
       "| 0 | Female_BR1 | BR1010 |  8 |  61.53846 |  9.241962e-01 |\n",
       "| 0 | Female_BR1 | BR1013 |  6 |  85.71429 |  8.958797e-01 |\n",
       "| 0 | Female_BR1 | BR1014 |  2 |  22.22222 | -1.351550e-01 |\n",
       "| 0 | Female_BR1 | BR1017 |  4 |  33.33333 |  2.755595e-01 |\n",
       "| 0 | Female_BR1 | BR1019 |  6 |  37.50000 |  1.796655e-01 |\n",
       "| 0 | Female_BR1 | BR1021 | 20 |  47.61905 |  5.715995e-01 |\n",
       "| 0 | Female_BR1 | BR1023 |  2 |  50.00000 |  2.220446e-16 |\n",
       "| 0 | Female_BR1 | BR1024 |  7 |  58.33333 |  8.351753e-01 |\n",
       "| 0 | Female_BR1 | BR1025 | 12 |  42.85714 |  1.049156e+00 |\n",
       "| 0 | Female_BR1 | BR1026 |  2 |  66.66667 |  3.465736e-01 |\n",
       "| 0 | Female_BR1 | BR1028 | 12 |  29.26829 |  1.215477e-01 |\n",
       "| 0 | Female_BR1 | BR1030 | 28 |  80.00000 |  1.624217e+00 |\n",
       "| 0 | Female_BR1 | BR1031 |  9 |  60.00000 |  7.716692e-01 |\n",
       "| 0 | Female_BR1 | BR1037 | 43 |  42.15686 |  1.725614e+00 |\n",
       "| 0 | Female_BR1 | BR1041 |  3 |  33.33333 |  3.760193e-01 |\n",
       "| 0 | Female_BR1 | BR1048 |  9 |  40.90909 |  8.989854e-01 |\n",
       "| 0 | Female_BR1 | BR1050 |  2 |  16.66667 | -2.703101e-01 |\n",
       "| 0 | Female_BR1 | BR1056 |  1 |  33.33333 |  2.220446e-16 |\n",
       "| 0 | Female_BR1 | BR1057 |  5 |  55.55556 |  6.108605e-01 |\n",
       "| 0 | Female_BR1 | BR1058 |  7 |  58.33333 |  8.351753e-01 |\n",
       "| 0 | Female_BR2 | BR2002 |  7 |  33.33333 |  6.091333e-01 |\n",
       "| 0 | Female_BR2 | BR2005 |  3 |  75.00000 |  5.493061e-01 |\n",
       "| 0 | Female_BR2 | BR2009 |  3 |  23.07692 |  4.897078e-01 |\n",
       "| 0 | Female_BR2 | BR2010 | 21 |  65.62500 |  1.262153e+00 |\n",
       "| 0 | Female_BR2 | BR2012 | 11 |  31.42857 |  8.640041e-01 |\n",
       "| ⋮ | ⋮ | ⋮ | ⋮ | ⋮ | ⋮ |\n",
       "| 4 | Female_BR2 | BR2041 |  1 |  7.6923077 | -0.9972460 |\n",
       "| 4 | Female_BR2 | BR2043 |  1 |  7.1428571 | -1.2296265 |\n",
       "| 4 | Male_BR1   | BR1004 |  1 |  9.0909091 | -1.0729586 |\n",
       "| 4 | Male_BR2   | BR2003 |  1 |  3.8461538 | -1.2982392 |\n",
       "| 4 | Male_BR2   | BR2013 |  1 |  5.0000000 | -1.0859514 |\n",
       "| 4 | Male_BR2   | BR2025 | 17 |  3.6324786 |  0.4480829 |\n",
       "| 4 | Male_BR2   | BR2046 |  1 |  4.1666667 | -1.5958306 |\n",
       "| 4 | Male_BR2   | BR2050 |  1 |  0.4926108 | -2.2946206 |\n",
       "| 5 | Female_BR1 | BR1037 |  1 |  0.9803922 | -2.0355865 |\n",
       "| 5 | Female_BR2 | BR2042 |  1 |  0.7633588 | -2.4707424 |\n",
       "| 5 | Male_BR1   | BR1006 |  1 | 10.0000000 | -0.5780744 |\n",
       "| 5 | Male_BR1   | BR1007 |  1 |  2.0833333 | -1.4970983 |\n",
       "| 5 | Male_BR1   | BR1012 |  1 | 10.0000000 | -1.0986123 |\n",
       "| 5 | Male_BR1   | BR1015 |  1 |  8.3333333 | -0.5972532 |\n",
       "| 5 | Male_BR1   | BR1016 |  1 |  5.5555556 | -1.0357837 |\n",
       "| 5 | Male_BR1   | BR1040 |  1 |  2.9411765 | -1.5706433 |\n",
       "| 5 | Male_BR1   | BR1042 |  2 |  1.8181818 | -1.2796439 |\n",
       "| 5 | Male_BR1   | BR1043 |  1 | 11.1111111 | -0.4479399 |\n",
       "| 5 | Male_BR1   | BR1044 |  1 |  3.8461538 | -1.2263187 |\n",
       "| 5 | Male_BR1   | BR1045 |  3 |  1.4084507 | -1.3741893 |\n",
       "| 5 | Male_BR1   | BR1047 |  1 |  4.3478261 | -1.0884835 |\n",
       "| 5 | Male_BR2   | BR2025 |  2 |  0.4273504 | -1.6919832 |\n",
       "| 5 | Male_BR2   | BR2048 |  1 |  5.0000000 | -1.1325921 |\n",
       "| 6 | Female_BR1 | BR1048 |  1 |  4.5454545 | -1.2982392 |\n",
       "| 6 | Male_BR1   | BR1015 |  1 |  8.3333333 | -0.5972532 |\n",
       "| 6 | Male_BR1   | BR1016 |  1 |  5.5555556 | -1.0357837 |\n",
       "| 6 | Male_BR1   | BR1042 |  2 |  1.8181818 | -1.2796439 |\n",
       "| 6 | Male_BR1   | BR1045 | 10 |  4.6948357 | -0.1702165 |\n",
       "| 6 | Male_BR1   | BR1047 |  1 |  4.3478261 | -1.0884835 |\n",
       "| 6 | Male_BR2   | BR2025 |  1 |  0.2136752 | -2.3851304 |\n",
       "\n"
      ],
      "text/plain": [
       "    leiden_resolution_0.5 facet      subject.subjectGuid count percentage\n",
       "1   0                     Female_BR1 BR1001              25     75.75758 \n",
       "2   0                     Female_BR1 BR1003               5     83.33333 \n",
       "3   0                     Female_BR1 BR1005               7     50.00000 \n",
       "4   0                     Female_BR1 BR1008               3     50.00000 \n",
       "5   0                     Female_BR1 BR1009               2    100.00000 \n",
       "6   0                     Female_BR1 BR1010               8     61.53846 \n",
       "7   0                     Female_BR1 BR1013               6     85.71429 \n",
       "8   0                     Female_BR1 BR1014               2     22.22222 \n",
       "9   0                     Female_BR1 BR1017               4     33.33333 \n",
       "10  0                     Female_BR1 BR1019               6     37.50000 \n",
       "11  0                     Female_BR1 BR1021              20     47.61905 \n",
       "12  0                     Female_BR1 BR1023               2     50.00000 \n",
       "13  0                     Female_BR1 BR1024               7     58.33333 \n",
       "14  0                     Female_BR1 BR1025              12     42.85714 \n",
       "15  0                     Female_BR1 BR1026               2     66.66667 \n",
       "16  0                     Female_BR1 BR1028              12     29.26829 \n",
       "17  0                     Female_BR1 BR1030              28     80.00000 \n",
       "18  0                     Female_BR1 BR1031               9     60.00000 \n",
       "19  0                     Female_BR1 BR1037              43     42.15686 \n",
       "20  0                     Female_BR1 BR1041               3     33.33333 \n",
       "21  0                     Female_BR1 BR1048               9     40.90909 \n",
       "22  0                     Female_BR1 BR1050               2     16.66667 \n",
       "23  0                     Female_BR1 BR1056               1     33.33333 \n",
       "24  0                     Female_BR1 BR1057               5     55.55556 \n",
       "25  0                     Female_BR1 BR1058               7     58.33333 \n",
       "26  0                     Female_BR2 BR2002               7     33.33333 \n",
       "27  0                     Female_BR2 BR2005               3     75.00000 \n",
       "28  0                     Female_BR2 BR2009               3     23.07692 \n",
       "29  0                     Female_BR2 BR2010              21     65.62500 \n",
       "30  0                     Female_BR2 BR2012              11     31.42857 \n",
       "⋮   ⋮                     ⋮          ⋮                   ⋮     ⋮         \n",
       "276 4                     Female_BR2 BR2041               1     7.6923077\n",
       "277 4                     Female_BR2 BR2043               1     7.1428571\n",
       "278 4                     Male_BR1   BR1004               1     9.0909091\n",
       "279 4                     Male_BR2   BR2003               1     3.8461538\n",
       "280 4                     Male_BR2   BR2013               1     5.0000000\n",
       "281 4                     Male_BR2   BR2025              17     3.6324786\n",
       "282 4                     Male_BR2   BR2046               1     4.1666667\n",
       "283 4                     Male_BR2   BR2050               1     0.4926108\n",
       "284 5                     Female_BR1 BR1037               1     0.9803922\n",
       "285 5                     Female_BR2 BR2042               1     0.7633588\n",
       "286 5                     Male_BR1   BR1006               1    10.0000000\n",
       "287 5                     Male_BR1   BR1007               1     2.0833333\n",
       "288 5                     Male_BR1   BR1012               1    10.0000000\n",
       "289 5                     Male_BR1   BR1015               1     8.3333333\n",
       "290 5                     Male_BR1   BR1016               1     5.5555556\n",
       "291 5                     Male_BR1   BR1040               1     2.9411765\n",
       "292 5                     Male_BR1   BR1042               2     1.8181818\n",
       "293 5                     Male_BR1   BR1043               1    11.1111111\n",
       "294 5                     Male_BR1   BR1044               1     3.8461538\n",
       "295 5                     Male_BR1   BR1045               3     1.4084507\n",
       "296 5                     Male_BR1   BR1047               1     4.3478261\n",
       "297 5                     Male_BR2   BR2025               2     0.4273504\n",
       "298 5                     Male_BR2   BR2048               1     5.0000000\n",
       "299 6                     Female_BR1 BR1048               1     4.5454545\n",
       "300 6                     Male_BR1   BR1015               1     8.3333333\n",
       "301 6                     Male_BR1   BR1016               1     5.5555556\n",
       "302 6                     Male_BR1   BR1042               2     1.8181818\n",
       "303 6                     Male_BR1   BR1045              10     4.6948357\n",
       "304 6                     Male_BR1   BR1047               1     4.3478261\n",
       "305 6                     Male_BR2   BR2025               1     0.2136752\n",
       "    percentage_clr\n",
       "1    5.697171e-01 \n",
       "2    8.047190e-01 \n",
       "3    2.220446e-16 \n",
       "4    2.220446e-16 \n",
       "5   -4.440892e-16 \n",
       "6    9.241962e-01 \n",
       "7    8.958797e-01 \n",
       "8   -1.351550e-01 \n",
       "9    2.755595e-01 \n",
       "10   1.796655e-01 \n",
       "11   5.715995e-01 \n",
       "12   2.220446e-16 \n",
       "13   8.351753e-01 \n",
       "14   1.049156e+00 \n",
       "15   3.465736e-01 \n",
       "16   1.215477e-01 \n",
       "17   1.624217e+00 \n",
       "18   7.716692e-01 \n",
       "19   1.725614e+00 \n",
       "20   3.760193e-01 \n",
       "21   8.989854e-01 \n",
       "22  -2.703101e-01 \n",
       "23   2.220446e-16 \n",
       "24   6.108605e-01 \n",
       "25   8.351753e-01 \n",
       "26   6.091333e-01 \n",
       "27   5.493061e-01 \n",
       "28   4.897078e-01 \n",
       "29   1.262153e+00 \n",
       "30   8.640041e-01 \n",
       "⋮   ⋮             \n",
       "276 -0.9972460    \n",
       "277 -1.2296265    \n",
       "278 -1.0729586    \n",
       "279 -1.2982392    \n",
       "280 -1.0859514    \n",
       "281  0.4480829    \n",
       "282 -1.5958306    \n",
       "283 -2.2946206    \n",
       "284 -2.0355865    \n",
       "285 -2.4707424    \n",
       "286 -0.5780744    \n",
       "287 -1.4970983    \n",
       "288 -1.0986123    \n",
       "289 -0.5972532    \n",
       "290 -1.0357837    \n",
       "291 -1.5706433    \n",
       "292 -1.2796439    \n",
       "293 -0.4479399    \n",
       "294 -1.2263187    \n",
       "295 -1.3741893    \n",
       "296 -1.0884835    \n",
       "297 -1.6919832    \n",
       "298 -1.1325921    \n",
       "299 -1.2982392    \n",
       "300 -0.5972532    \n",
       "301 -1.0357837    \n",
       "302 -1.2796439    \n",
       "303 -0.1702165    \n",
       "304 -1.0884835    \n",
       "305 -2.3851304    "
      ]
     },
     "metadata": {},
     "output_type": "display_data"
    }
   ],
   "source": [
    "result <- read_df %>%\n",
    "  dplyr::group_by(leiden_resolution_0.5, facet, subject.subjectGuid) %>%               \n",
    "  dplyr::summarise(count = n()) %>% \n",
    "  dplyr::group_by(subject.subjectGuid) %>%                       \n",
    "  dplyr::mutate(percentage = (count / sum(count)) * 100) %>%\n",
    "  dplyr::group_by(subject.subjectGuid) %>%     \n",
    "  dplyr::mutate(percentage_clr = clr_transform((percentage))) %>% # Group again by subjectGuid for CLR# Calculate percentage\n",
    "  dplyr::ungroup()\n",
    "\n",
    "result"
   ]
  },
  {
   "cell_type": "markdown",
   "id": "3cae9490-36dc-439f-9348-572f48715951",
   "metadata": {},
   "source": [
    "# Plotting boxplots per cluster"
   ]
  },
  {
   "cell_type": "code",
   "execution_count": 108,
   "id": "5492a675-2f07-4ad3-aef5-2c45a2866fb5",
   "metadata": {
    "tags": []
   },
   "outputs": [
    {
     "data": {
      "text/html": [
       "<style>\n",
       ".list-inline {list-style: none; margin:0; padding: 0}\n",
       ".list-inline>li {display: inline-block}\n",
       ".list-inline>li:not(:last-child)::after {content: \"\\00b7\"; padding: 0 .5ex}\n",
       "</style>\n",
       "<ol class=list-inline><li>1004</li><li>52</li></ol>\n"
      ],
      "text/latex": [
       "\\begin{enumerate*}\n",
       "\\item 1004\n",
       "\\item 52\n",
       "\\end{enumerate*}\n"
      ],
      "text/markdown": [
       "1. 1004\n",
       "2. 52\n",
       "\n",
       "\n"
      ],
      "text/plain": [
       "[1] 1004   52"
      ]
     },
     "metadata": {},
     "output_type": "display_data"
    }
   ],
   "source": [
    "#subset dataframe by cluster\n",
    "subset_df <- read_df %>% filter(read_df$leiden_resolution_0.5 == 1)\n",
    "dim(subset_df)"
   ]
  },
  {
   "cell_type": "code",
   "execution_count": 109,
   "id": "bd7bfd2e-0bc5-4da8-962b-72346ec8b931",
   "metadata": {
    "tags": []
   },
   "outputs": [
    {
     "data": {
      "text/html": [
       "<table class=\"dataframe\">\n",
       "<caption>A tibble: 4 × 4</caption>\n",
       "<thead>\n",
       "\t<tr><th scope=col>facet</th><th scope=col>count</th><th scope=col>percentage</th><th scope=col>percentage_clr</th></tr>\n",
       "\t<tr><th scope=col>&lt;chr&gt;</th><th scope=col>&lt;int&gt;</th><th scope=col>&lt;dbl&gt;</th><th scope=col>&lt;dbl&gt;</th></tr>\n",
       "</thead>\n",
       "<tbody>\n",
       "\t<tr><td>Female_BR1</td><td>196</td><td> 7.316163</td><td>-0.23102060</td></tr>\n",
       "\t<tr><td>Female_BR2</td><td>251</td><td> 9.369168</td><td> 0.01631768</td></tr>\n",
       "\t<tr><td>Male_BR1  </td><td>234</td><td> 8.734602</td><td>-0.05381414</td></tr>\n",
       "\t<tr><td>Male_BR2  </td><td>323</td><td>12.056738</td><td> 0.26851706</td></tr>\n",
       "</tbody>\n",
       "</table>\n"
      ],
      "text/latex": [
       "A tibble: 4 × 4\n",
       "\\begin{tabular}{llll}\n",
       " facet & count & percentage & percentage\\_clr\\\\\n",
       " <chr> & <int> & <dbl> & <dbl>\\\\\n",
       "\\hline\n",
       "\t Female\\_BR1 & 196 &  7.316163 & -0.23102060\\\\\n",
       "\t Female\\_BR2 & 251 &  9.369168 &  0.01631768\\\\\n",
       "\t Male\\_BR1   & 234 &  8.734602 & -0.05381414\\\\\n",
       "\t Male\\_BR2   & 323 & 12.056738 &  0.26851706\\\\\n",
       "\\end{tabular}\n"
      ],
      "text/markdown": [
       "\n",
       "A tibble: 4 × 4\n",
       "\n",
       "| facet &lt;chr&gt; | count &lt;int&gt; | percentage &lt;dbl&gt; | percentage_clr &lt;dbl&gt; |\n",
       "|---|---|---|---|\n",
       "| Female_BR1 | 196 |  7.316163 | -0.23102060 |\n",
       "| Female_BR2 | 251 |  9.369168 |  0.01631768 |\n",
       "| Male_BR1   | 234 |  8.734602 | -0.05381414 |\n",
       "| Male_BR2   | 323 | 12.056738 |  0.26851706 |\n",
       "\n"
      ],
      "text/plain": [
       "  facet      count percentage percentage_clr\n",
       "1 Female_BR1 196    7.316163  -0.23102060   \n",
       "2 Female_BR2 251    9.369168   0.01631768   \n",
       "3 Male_BR1   234    8.734602  -0.05381414   \n",
       "4 Male_BR2   323   12.056738   0.26851706   "
      ]
     },
     "metadata": {},
     "output_type": "display_data"
    }
   ],
   "source": [
    "facet_count <- subset_df %>%\n",
    "  dplyr::group_by(facet) %>%               \n",
    "  dplyr::summarise(count = n()) %>%\n",
    "  dplyr::mutate(percentage = (count / 2679) * 100) %>%   \n",
    "  dplyr::mutate(percentage_clr = clr_transform((percentage)))\n",
    "  \n",
    "\n",
    "facet_count"
   ]
  },
  {
   "cell_type": "code",
   "execution_count": 106,
   "id": "f3598a5f-11a6-4bcf-908a-a873313ac9cb",
   "metadata": {
    "tags": []
   },
   "outputs": [],
   "source": [
    "# install.packages(\"NatParksPalettes\")\n",
    "# library(NatParksPalettes)"
   ]
  },
  {
   "cell_type": "code",
   "execution_count": 110,
   "id": "4b39db47-df58-46b5-9b02-ad9207d0e962",
   "metadata": {
    "tags": []
   },
   "outputs": [
    {
     "data": {
      "image/png": "[encoded data removed]",
      "text/plain": [
       "plot without title"
      ]
     },
     "metadata": {
      "image/png": {
       "height": 600,
       "width": 600
      }
     },
     "output_type": "display_data"
    }
   ],
   "source": [
    "\n",
    "options(repr.plot.width = 10, repr.plot.height =10)\n",
    "ggplot(facet_count, aes(x = facet , y = percentage, fill= facet)) +\n",
    "  geom_col() +\n",
    "  #scale_fill_manual(values=natparks.pals(\"SouthDowns\", 4))+\n",
    "  labs(#title = \"Cluster 2\",\n",
    "       x = \"Groups\",\n",
    "       y = \"Percentage\") +\n",
    "  theme(axis.text.x = element_text(size = 14, angle = 45, vjust = 0.4, color= \"black\" ),     # Adjust font size of x-axis text\n",
    "        axis.text.y = element_text(size = 15, color= \"black\"),     # Adjust font size of y-axis text\n",
    "        axis.title = element_text(size = 14),\n",
    "        panel.background = element_rect(fill = \"white\"),\n",
    "        axis.line = element_line(color = \"black\"),  # Set axis line color to black,  # Set major grid line color to black\n",
    "        panel.grid.minor = element_blank(),\n",
    "        legend.position = \"top\",  # Set legend position to top\n",
    "        #legend.title = element_blank()\n",
    "       ) +\n",
    "       ggtitle(\"Cluster 1\") +\n",
    "  theme(plot.title = element_text(hjust = 0.5, size = 17, face = \"bold\"))\n",
    "   "
   ]
  },
  {
   "cell_type": "code",
   "execution_count": 39,
   "id": "054bfc20-0a8c-4f5f-963c-0099d81805e2",
   "metadata": {
    "tags": []
   },
   "outputs": [
    {
     "data": {
      "image/png": "[encoded data removed]",
      "text/plain": [
       "plot without title"
      ]
     },
     "metadata": {
      "image/png": {
       "height": 900,
       "width": 600
      }
     },
     "output_type": "display_data"
    }
   ],
   "source": [
    "\n",
    "# options(repr.plot.width = 10, repr.plot.height = 15)\n",
    "# p3 <- ggplot(subset_df, aes(x = facet, y = percentage, color = facet)) +\n",
    "#   geom_violin(width = 0.7) +  # Adjust width as needed\n",
    "#   geom_boxplot(width = 0.5, outlier.shape = NA) +  # Nudge boxplots slightly for better visualization\n",
    "#   geom_jitter(width = 0.1) +\n",
    "#   ylab('Percentage') + \n",
    "#   xlab('Groups') +\n",
    "#   scale_color_manual(values = c( \"red\",\"blue\", \"orange\", \"purple\")) +\n",
    "#   theme(axis.text.x = element_text(size = 14, angle = 90 ),     # Adjust font size of x-axis text\n",
    "#         axis.text.y = element_text(size = 14),     # Adjust font size of y-axis text\n",
    "#         axis.title = element_text(size = 14),\n",
    "#         panel.background = element_rect(fill = \"white\"),\n",
    "#         axis.line = element_line(color = \"black\"),  # Set axis line color to black,  # Set major grid line color to black\n",
    "#         panel.grid.minor = element_blank(),\n",
    "#         legend.position = \"top\",  # Set legend position to top\n",
    "#         #legend.title = element_blank()\n",
    "#        ) +\n",
    "#   #stat_pvalue_manual(stat_test, label = \"p\", tip.length = 0) +\n",
    "#   #scale_y_continuous(expand = expansion(mult = c(0, 0.1))) + \n",
    "#   ggtitle(\"Cluster 2\") +\n",
    "#   theme(plot.title = element_text(hjust = 0.5, size = 16, face = \"bold\"))\n",
    "\n",
    "# p3"
   ]
  },
  {
   "cell_type": "code",
   "execution_count": null,
   "id": "9176a0c6-cbb8-47ea-b643-160a50cfb549",
   "metadata": {},
   "outputs": [],
   "source": []
  },
  {
   "cell_type": "code",
   "execution_count": null,
   "id": "9150eb26-ed8a-4feb-a34e-f09fa99812b8",
   "metadata": {},
   "outputs": [],
   "source": []
  },
  {
   "cell_type": "code",
   "execution_count": null,
   "id": "ba9ee4ea-4e34-4b84-91ce-e4e40fe1feab",
   "metadata": {},
   "outputs": [],
   "source": []
  }
 ],
 "metadata": {
  "kernelspec": {
   "display_name": "R 4",
   "language": "R",
   "name": "ir4"
  },
  "language_info": {
   "codemirror_mode": "r",
   "file_extension": ".r",
   "mimetype": "text/x-r-source",
   "name": "R",
   "pygments_lexer": "r",
   "version": "4.3.1"
  }
 },
 "nbformat": 4,
 "nbformat_minor": 5
}
