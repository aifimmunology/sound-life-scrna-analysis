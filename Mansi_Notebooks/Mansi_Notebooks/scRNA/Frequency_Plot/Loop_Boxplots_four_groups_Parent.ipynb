{
 "cells": [
  {
   "cell_type": "code",
   "execution_count": 1,
   "id": "606e7c5d-7931-49dc-87cc-5b9f1056abe6",
   "metadata": {
    "tags": []
   },
   "outputs": [
    {
     "name": "stderr",
     "output_type": "stream",
     "text": [
      "------------------------------------------------------------------------------\n",
      "\n",
      "You have loaded plyr after dplyr - this is likely to cause problems.\n",
      "If you need functions from both plyr and dplyr, please load plyr first, then dplyr:\n",
      "library(plyr); library(dplyr)\n",
      "\n",
      "------------------------------------------------------------------------------\n",
      "\n",
      "\n",
      "Attaching package: ‘plyr’\n",
      "\n",
      "\n",
      "The following objects are masked from ‘package:dplyr’:\n",
      "\n",
      "    arrange, count, desc, failwith, id, mutate, rename, summarise,\n",
      "    summarize\n",
      "\n",
      "\n",
      "\n",
      "Attaching package: ‘purrr’\n",
      "\n",
      "\n",
      "The following object is masked from ‘package:plyr’:\n",
      "\n",
      "    compact\n",
      "\n",
      "\n",
      "Loading required package: permute\n",
      "\n",
      "Loading required package: lattice\n",
      "\n",
      "This is vegan 2.6-4\n",
      "\n",
      "\n",
      "Attaching package: ‘rstatix’\n",
      "\n",
      "\n",
      "The following objects are masked from ‘package:plyr’:\n",
      "\n",
      "    desc, mutate\n",
      "\n",
      "\n",
      "The following object is masked from ‘package:stats’:\n",
      "\n",
      "    filter\n",
      "\n",
      "\n",
      "Loading required package: ggplot2\n",
      "\n",
      "\n",
      "Attaching package: ‘ggpubr’\n",
      "\n",
      "\n",
      "The following object is masked from ‘package:plyr’:\n",
      "\n",
      "    mutate\n",
      "\n",
      "\n",
      "Loading required package: grid\n",
      "\n",
      "========================================\n",
      "ComplexHeatmap version 2.16.0\n",
      "Bioconductor page: http://bioconductor.org/packages/ComplexHeatmap/\n",
      "Github page: https://github.com/jokergoo/ComplexHeatmap\n",
      "Documentation: http://jokergoo.github.io/ComplexHeatmap-reference\n",
      "\n",
      "If you use it in published research, please cite either one:\n",
      "- Gu, Z. Complex Heatmap Visualization. iMeta 2022.\n",
      "- Gu, Z. Complex heatmaps reveal patterns and correlations in multidimensional \n",
      "    genomic data. Bioinformatics 2016.\n",
      "\n",
      "\n",
      "The new InteractiveComplexHeatmap package can directly export static \n",
      "complex heatmaps into an interactive Shiny app with zero effort. Have a try!\n",
      "\n",
      "This message can be suppressed by:\n",
      "  suppressPackageStartupMessages(library(ComplexHeatmap))\n",
      "========================================\n",
      "! pheatmap() has been masked by ComplexHeatmap::pheatmap(). Most of the arguments\n",
      "   in the original pheatmap() are identically supported in the new function. You \n",
      "   can still use the original function by explicitly calling pheatmap::pheatmap().\n",
      "\n",
      "\n",
      "\n",
      "Attaching package: ‘ComplexHeatmap’\n",
      "\n",
      "\n",
      "The following object is masked from ‘package:pheatmap’:\n",
      "\n",
      "    pheatmap\n",
      "\n",
      "\n"
     ]
    },
    {
     "ename": "ERROR",
     "evalue": "Error in library(compositions): there is no package called ‘compositions’\n",
     "output_type": "error",
     "traceback": [
      "Error in library(compositions): there is no package called ‘compositions’\nTraceback:\n",
      "1. library(compositions)"
     ]
    }
   ],
   "source": [
    "suppressPackageStartupMessages(library(readxl))\n",
    "suppressPackageStartupMessages(library(dplyr))\n",
    "suppressPackageStartupMessages(library(tidyr))\n",
    "suppressPackageStartupMessages(library(tibble))\n",
    "suppressPackageStartupMessages(library(patchwork))\n",
    "suppressPackageStartupMessages(library(pheatmap))\n",
    "suppressPackageStartupMessages(library(stringr))\n",
    "library(hise)\n",
    "library(plyr)\n",
    "library(purrr)\n",
    "library(vegan)\n",
    "#library(arrow)\n",
    "library(rstatix)\n",
    "library(parallel)\n",
    "library(ggpubr)\n",
    "library(ComplexHeatmap)\n",
    "library(compositions)\n",
    "library(ggsci)\n",
    "library(ggpubr)"
   ]
  },
  {
   "cell_type": "code",
   "execution_count": 3,
   "id": "a7a75c59-cefa-480e-8338-ea97362e27da",
   "metadata": {
    "tags": []
   },
   "outputs": [],
   "source": [
    "colors = c('#FDC086','#FFFF99','#F0027F','#BF5B17','#666666',\n",
    "          '#1B9E77','#D95F02','#7570B3','#E7298A','#66A61E','#E6AB02','#A6761D','#666666',\n",
    "          '#A6CEE3','#1F78B4','#B2DF8A','#33A02C','#FB9A99','#E31A1C','#FDBF6F','#FF7F00',\n",
    "          '#CAB2D6','#6A3D9A','#FFFF99','#B15928','#FBB4AE','#B3CDE3','#CCEBC5','#DECBE4',\n",
    "          '#FED9A6','#FFFFCC','#E5D8BD','#FDDAEC','#F2F2F2','#B3E2CD','#FDCDAC','#CBD5E8',\n",
    "          '#F4CAE4','#E6F5C9','#FFF2AE','#F1E2CC','#CCCCCC','#E41A1C','#377EB8','#4DAF4A',\n",
    "          '#984EA3','#FF7F00','#FFFF33','#A65628','#F781BF','#999999','#66C2A5','#FC8D62',\n",
    "          '#8DA0CB','#E78AC3','#A6D854','#FFD92F','#E5C494','#B3B3B3','#8DD3C7','#FFFFB3',\n",
    "          '#BEBADA','#FB8072','#80B1D3','#FDB462','#B3DE69','#FCCDE5','#D9D9D9','#BC80BD',\n",
    "          '#CCEBC5','#FFED6F')\n"
   ]
  },
  {
   "cell_type": "markdown",
   "id": "0ff759eb-ec5b-4e01-836e-b7945c883f9c",
   "metadata": {
    "tags": []
   },
   "source": [
    "# Reading the file"
   ]
  },
  {
   "cell_type": "code",
   "execution_count": 4,
   "id": "61ada284-435e-4273-9717-8e7e2a24bb30",
   "metadata": {
    "tags": []
   },
   "outputs": [],
   "source": [
    "# Read the CSV file into a data frame\n",
    "all_df <- read.csv('/home/jupyter/Myeloid_cells/files/Parquet_files/AIFI_Reference_processed.csv')\n"
   ]
  },
  {
   "cell_type": "code",
   "execution_count": 5,
   "id": "9bb8d273-561e-46b3-9960-aa9cc2c2cd03",
   "metadata": {
    "tags": []
   },
   "outputs": [],
   "source": [
    "#remove UPI from the cohort\n",
    "all_df <- all_df %>% filter(cohort.cohortGuid != 'UP1')"
   ]
  },
  {
   "cell_type": "code",
   "execution_count": 6,
   "id": "753e2e5a-0a26-4eec-82a5-688e9bf88493",
   "metadata": {
    "tags": []
   },
   "outputs": [],
   "source": [
    "all_df <- all_df %>%\n",
    "  filter(!(AIFI_L1 %in% c('ILC', 'Erythrocyte', 'Platelet')))"
   ]
  },
  {
   "cell_type": "code",
   "execution_count": 7,
   "id": "0a4fb9a9-8d5c-4bfc-bb5f-252d37d38817",
   "metadata": {
    "tags": []
   },
   "outputs": [],
   "source": [
    "#colnames(myeloid_df)"
   ]
  },
  {
   "cell_type": "code",
   "execution_count": 8,
   "id": "ccff6e77-d978-475b-9938-03dbc38fc4b4",
   "metadata": {
    "tags": []
   },
   "outputs": [],
   "source": [
    "rownames(all_df)<-all_df$cell_uuid"
   ]
  },
  {
   "cell_type": "code",
   "execution_count": 9,
   "id": "fbe1408c-64e5-4884-8253-64ebe821ddec",
   "metadata": {
    "tags": []
   },
   "outputs": [
    {
     "data": {
      "text/html": [
       "<style>\n",
       ".list-inline {list-style: none; margin:0; padding: 0}\n",
       ".list-inline>li {display: inline-block}\n",
       ".list-inline>li:not(:last-child)::after {content: \"\\00b7\"; padding: 0 .5ex}\n",
       "</style>\n",
       "<ol class=list-inline><li>'BR1'</li><li>'BR2'</li></ol>\n"
      ],
      "text/latex": [
       "\\begin{enumerate*}\n",
       "\\item 'BR1'\n",
       "\\item 'BR2'\n",
       "\\end{enumerate*}\n"
      ],
      "text/markdown": [
       "1. 'BR1'\n",
       "2. 'BR2'\n",
       "\n",
       "\n"
      ],
      "text/plain": [
       "[1] \"BR1\" \"BR2\""
      ]
     },
     "metadata": {},
     "output_type": "display_data"
    }
   ],
   "source": [
    "unique(all_df$cohort.cohortGuid)"
   ]
  },
  {
   "cell_type": "markdown",
   "id": "25c7b766-26d5-40ec-bae7-ccf1f06189ff",
   "metadata": {},
   "source": [
    "# CLR Transform\n"
   ]
  },
  {
   "cell_type": "code",
   "execution_count": 10,
   "id": "74d7fcf0-2100-4733-a4aa-aaa795a471ca",
   "metadata": {
    "tags": []
   },
   "outputs": [],
   "source": [
    "clr_transform <- function(x) {\n",
    "  if (length(x) == 0) {\n",
    "    return(NA)  # return NA for empty vectors\n",
    "  }\n",
    "  geom_mean <- exp(mean(log(x)))\n",
    "  return(log(x / geom_mean))\n",
    "}"
   ]
  },
  {
   "cell_type": "code",
   "execution_count": null,
   "id": "0afdf619-4597-4612-9762-bb7f0d767f7d",
   "metadata": {
    "tags": []
   },
   "outputs": [],
   "source": []
  },
  {
   "cell_type": "markdown",
   "id": "d33880ea-cfb5-49f3-af6f-5170d89a076f",
   "metadata": {},
   "source": [
    "# Comparsion within total PBMCs (Percentage and Percentage CLR)"
   ]
  },
  {
   "cell_type": "code",
   "execution_count": 11,
   "id": "4add7441-be7a-4849-9655-60346b88c428",
   "metadata": {
    "tags": []
   },
   "outputs": [
    {
     "name": "stderr",
     "output_type": "stream",
     "text": [
      "\u001b[1m\u001b[22m`summarise()` has grouped output by 'AIFI_L3'. You can override using the\n",
      "`.groups` argument.\n"
     ]
    },
    {
     "data": {
      "text/html": [
       "<table class=\"dataframe\">\n",
       "<caption>A tibble: 6 × 5</caption>\n",
       "<thead>\n",
       "\t<tr><th scope=col>AIFI_L3</th><th scope=col>subject.subjectGuid</th><th scope=col>count</th><th scope=col>percentage</th><th scope=col>percentage_clr</th></tr>\n",
       "\t<tr><th scope=col>&lt;chr&gt;</th><th scope=col>&lt;chr&gt;</th><th scope=col>&lt;int&gt;</th><th scope=col>&lt;dbl&gt;</th><th scope=col>&lt;dbl&gt;</th></tr>\n",
       "</thead>\n",
       "<tbody>\n",
       "\t<tr><td>ASDC</td><td>BR1001</td><td>6</td><td>0.03248863</td><td>-2.284753</td></tr>\n",
       "\t<tr><td>ASDC</td><td>BR1002</td><td>5</td><td>0.02645363</td><td>-2.298168</td></tr>\n",
       "\t<tr><td>ASDC</td><td>BR1003</td><td>4</td><td>0.02099958</td><td>-2.834614</td></tr>\n",
       "\t<tr><td>ASDC</td><td>BR1004</td><td>3</td><td>0.01721763</td><td>-2.657373</td></tr>\n",
       "\t<tr><td>ASDC</td><td>BR1005</td><td>5</td><td>0.02821352</td><td>-1.969456</td></tr>\n",
       "\t<tr><td>ASDC</td><td>BR1006</td><td>4</td><td>0.02308536</td><td>-2.394691</td></tr>\n",
       "</tbody>\n",
       "</table>\n"
      ],
      "text/latex": [
       "A tibble: 6 × 5\n",
       "\\begin{tabular}{lllll}\n",
       " AIFI\\_L3 & subject.subjectGuid & count & percentage & percentage\\_clr\\\\\n",
       " <chr> & <chr> & <int> & <dbl> & <dbl>\\\\\n",
       "\\hline\n",
       "\t ASDC & BR1001 & 6 & 0.03248863 & -2.284753\\\\\n",
       "\t ASDC & BR1002 & 5 & 0.02645363 & -2.298168\\\\\n",
       "\t ASDC & BR1003 & 4 & 0.02099958 & -2.834614\\\\\n",
       "\t ASDC & BR1004 & 3 & 0.01721763 & -2.657373\\\\\n",
       "\t ASDC & BR1005 & 5 & 0.02821352 & -1.969456\\\\\n",
       "\t ASDC & BR1006 & 4 & 0.02308536 & -2.394691\\\\\n",
       "\\end{tabular}\n"
      ],
      "text/markdown": [
       "\n",
       "A tibble: 6 × 5\n",
       "\n",
       "| AIFI_L3 &lt;chr&gt; | subject.subjectGuid &lt;chr&gt; | count &lt;int&gt; | percentage &lt;dbl&gt; | percentage_clr &lt;dbl&gt; |\n",
       "|---|---|---|---|---|\n",
       "| ASDC | BR1001 | 6 | 0.03248863 | -2.284753 |\n",
       "| ASDC | BR1002 | 5 | 0.02645363 | -2.298168 |\n",
       "| ASDC | BR1003 | 4 | 0.02099958 | -2.834614 |\n",
       "| ASDC | BR1004 | 3 | 0.01721763 | -2.657373 |\n",
       "| ASDC | BR1005 | 5 | 0.02821352 | -1.969456 |\n",
       "| ASDC | BR1006 | 4 | 0.02308536 | -2.394691 |\n",
       "\n"
      ],
      "text/plain": [
       "  AIFI_L3 subject.subjectGuid count percentage percentage_clr\n",
       "1 ASDC    BR1001              6     0.03248863 -2.284753     \n",
       "2 ASDC    BR1002              5     0.02645363 -2.298168     \n",
       "3 ASDC    BR1003              4     0.02099958 -2.834614     \n",
       "4 ASDC    BR1004              3     0.01721763 -2.657373     \n",
       "5 ASDC    BR1005              5     0.02821352 -1.969456     \n",
       "6 ASDC    BR1006              4     0.02308536 -2.394691     "
      ]
     },
     "metadata": {},
     "output_type": "display_data"
    }
   ],
   "source": [
    "## Percentage of total\n",
    "\n",
    "result <- all_df %>%\n",
    "  dplyr::group_by(AIFI_L3, subject.subjectGuid) %>%               \n",
    "  dplyr::summarise(count = n()) %>%                  # Count occurrences\n",
    "  dplyr::group_by(subject.subjectGuid) %>%                       \n",
    "  dplyr::mutate(percentage = (count / sum(count)) * 100) %>% \n",
    "  dplyr::group_by(subject.subjectGuid) %>%     \n",
    "  dplyr::mutate(percentage_clr = clr_transform((percentage))) %>% # Group again by subjectGuid for CLR# Calculate percentage\n",
    "  dplyr::ungroup()\n",
    "\n",
    "head(result)\n",
    "#sum(result$subject.subjectGuid)"
   ]
  },
  {
   "cell_type": "code",
   "execution_count": 12,
   "id": "4d3e538e-af38-4cd8-9f56-728942391476",
   "metadata": {
    "tags": []
   },
   "outputs": [
    {
     "data": {
      "text/html": [
       "100"
      ],
      "text/latex": [
       "100"
      ],
      "text/markdown": [
       "100"
      ],
      "text/plain": [
       "[1] 100"
      ]
     },
     "metadata": {},
     "output_type": "display_data"
    }
   ],
   "source": [
    "result %>% filter(subject.subjectGuid == \"BR1001\") %>% \n",
    "      select(percentage) %>%\n",
    "      pull() %>% \n",
    "      sum()"
   ]
  },
  {
   "cell_type": "code",
   "execution_count": 13,
   "id": "aff3c477-004d-470a-aac8-4901b3decd0a",
   "metadata": {
    "tags": []
   },
   "outputs": [],
   "source": [
    "result<-left_join(result,unique(all_df[c('cohort.cohortGuid','subject.subjectGuid','subject.biologicalSex','CMV.IgG.Serology.Result.Interpretation')]),by=c('subject.subjectGuid'))"
   ]
  },
  {
   "cell_type": "code",
   "execution_count": null,
   "id": "d31da6d6-e93a-4397-af76-d18147edd512",
   "metadata": {
    "tags": []
   },
   "outputs": [],
   "source": [
    "head(result)\n"
   ]
  },
  {
   "cell_type": "code",
   "execution_count": null,
   "id": "ff6135e7-38ac-4e10-8441-576e34825835",
   "metadata": {
    "tags": []
   },
   "outputs": [],
   "source": [
    "table(result$AIFI_L3)"
   ]
  },
  {
   "cell_type": "markdown",
   "id": "696d50e4-faf5-4530-b0bd-eb4e273efa25",
   "metadata": {},
   "source": [
    "# Specific cell types (Parent)"
   ]
  },
  {
   "cell_type": "code",
   "execution_count": null,
   "id": "6c5cfe51-ee7c-43b8-b567-5bb50646bbb5",
   "metadata": {
    "tags": []
   },
   "outputs": [],
   "source": [
    "cell = \"T cell\""
   ]
  },
  {
   "cell_type": "code",
   "execution_count": null,
   "id": "9e8d86c8-dfd1-43b9-9ff1-ece3bd40d8ac",
   "metadata": {
    "tags": []
   },
   "outputs": [],
   "source": [
    "cell_df <- all_df %>% dplyr::filter(AIFI_L1 == cell)\n"
   ]
  },
  {
   "cell_type": "code",
   "execution_count": null,
   "id": "9660e8d6-18d8-4ec1-b387-91b4692c9cc7",
   "metadata": {
    "tags": []
   },
   "outputs": [],
   "source": [
    "head(cell_df)"
   ]
  },
  {
   "cell_type": "code",
   "execution_count": null,
   "id": "65651a30-5e45-425a-84f0-61f29529fcfc",
   "metadata": {
    "tags": []
   },
   "outputs": [],
   "source": [
    "result_final <- cell_df %>%\n",
    "  dplyr::group_by(AIFI_L3, subject.subjectGuid) %>%               \n",
    "  dplyr::summarise(count = n()) %>%                  # Count occurrences\n",
    "  dplyr::group_by(subject.subjectGuid) %>%                       \n",
    "  dplyr::mutate(percentage = (count / sum(count)) * 100) %>% \n",
    "  dplyr::group_by(subject.subjectGuid) %>%     \n",
    "  dplyr::mutate(percentage_clr = clr_transform((percentage))) %>% # Group again by subjectGuid for CLR# Calculate percentage\n",
    "  dplyr::ungroup()\n",
    "\n",
    "\n"
   ]
  },
  {
   "cell_type": "code",
   "execution_count": null,
   "id": "8a842abe-61f4-4829-b722-711cc80bcb8c",
   "metadata": {
    "tags": []
   },
   "outputs": [],
   "source": [
    "head(result_final)"
   ]
  },
  {
   "cell_type": "code",
   "execution_count": null,
   "id": "856af8c4-96e4-437e-b3ad-ee327221fc41",
   "metadata": {
    "tags": []
   },
   "outputs": [],
   "source": [
    "result_final<-left_join(result_final,unique(all_df[c('cohort.cohortGuid','subject.subjectGuid','subject.biologicalSex','CMV.IgG.Serology.Result.Interpretation')]),by=c('subject.subjectGuid'))"
   ]
  },
  {
   "cell_type": "code",
   "execution_count": null,
   "id": "c724bee3-07ef-425f-85e6-125636a5ecf2",
   "metadata": {
    "tags": []
   },
   "outputs": [],
   "source": [
    "result_final$facet_combined <- paste(result_final$cohort.cohortGuid, result_final$CMV.IgG.Serology.Result.Interpretation, sep = \"_\")\n",
    "result_final$facet_combined<- factor(result_final$facet_combined)"
   ]
  },
  {
   "cell_type": "code",
   "execution_count": null,
   "id": "18bbc58a-873e-43da-a5fb-d406db3b9309",
   "metadata": {
    "tags": []
   },
   "outputs": [],
   "source": [
    "head(result_final)"
   ]
  },
  {
   "cell_type": "code",
   "execution_count": null,
   "id": "e2816708-ac93-4939-808a-33c416dea326",
   "metadata": {},
   "outputs": [],
   "source": [
    "#New loop"
   ]
  },
  {
   "cell_type": "code",
   "execution_count": null,
   "id": "d651da50-a4d0-43b8-ac00-e606e70d167e",
   "metadata": {
    "tags": []
   },
   "outputs": [],
   "source": [
    "cell_L3 = \"CD4 MAIT\""
   ]
  },
  {
   "cell_type": "code",
   "execution_count": null,
   "id": "240cc83a-9ab6-4398-85fb-256bdb1eeb3e",
   "metadata": {
    "tags": []
   },
   "outputs": [],
   "source": [
    "L3_df <- result_final %>% dplyr::filter(AIFI_L3 == \"CD4 MAIT\")"
   ]
  },
  {
   "cell_type": "code",
   "execution_count": null,
   "id": "f148c12e-4688-4cfd-9499-8825736b6991",
   "metadata": {
    "tags": []
   },
   "outputs": [],
   "source": [
    "head(L3_df)"
   ]
  },
  {
   "cell_type": "code",
   "execution_count": null,
   "id": "848e5cc6-c4dd-4061-bf25-6cb4ad5e8efb",
   "metadata": {
    "tags": []
   },
   "outputs": [],
   "source": [
    "stat_test <- wilcox_test(percentage ~ facet_combined, data = L3_df, comparisons = my_comparisons, paired= FALSE)%>% \n",
    "       adjust_pvalue(method = 'BH') %>% \n",
    "       add_xy_position(x = \"facet_combined\", dodge = 0.8)"
   ]
  },
  {
   "cell_type": "code",
   "execution_count": null,
   "id": "5702e2f1-9c99-49bb-9ea4-c04088bb82fd",
   "metadata": {
    "tags": []
   },
   "outputs": [],
   "source": [
    "head(stat_test)"
   ]
  },
  {
   "cell_type": "code",
   "execution_count": null,
   "id": "f16ccba6-b350-4887-8d14-dfe0b2e8fde3",
   "metadata": {
    "tags": []
   },
   "outputs": [],
   "source": [
    " outfile <- paste(\"/home/jupyter/Myeloid_cells/Plots/CLR_Comparisons_cohort_&_CMV_Parent/CLR_Comparisons_cohort_&_CMV_parent_TEST\", cell_L3, \".pdf\", sep=\"\")\n",
    "    options(repr.plot.width = 18, repr.plot.height = 10)\n",
    "    p3 <- ggplot(L3_df, aes(x = facet_combined, y = percentage_clr, color = CMV.IgG.Serology.Result.Interpretation)) +\n",
    "      geom_boxplot(width = 0.5, outlier.shape = NA) +\n",
    "      geom_jitter(width =0.1) +\n",
    "      ylab('percentage_clr') + \n",
    "      xlab(cell) +\n",
    "      scale_color_manual(values = c(\"green\", \"red\", \"orange\", \"blue\")) +\n",
    "      theme(axis.text.x = element_text(size = 12, angle = 90 ),     # Adjust font size of x-axis text\n",
    "            axis.text.y = element_text(size = 12),     # Adjust font size of y-axis text\n",
    "            axis.title = element_text(size = 14),\n",
    "            panel.background = element_rect(fill = \"white\"),\n",
    "            axis.line = element_line(color = \"black\"),  # Set axis line color to black,  # Set major grid line color to black\n",
    "            panel.grid.minor = element_blank(),\n",
    "            legend.position = \"top\",  # Set legend position to top\n",
    "            #legend.title = element_blank()\n",
    "           ) +\n",
    "      geom_boxplot(position = position_dodge(width = 1))+\n",
    "      stat_pvalue_manual(stat_test, label = \"p.adj.signif\", tip.length = 0) +\n",
    "      scale_y_continuous(expand = expansion(mult = c(0, 0.1)))\n",
    "      pdf(file = outfile, width = 7, height = 11)\n",
    "      print(p3)\n",
    "      dev.off()\n",
    "\n"
   ]
  },
  {
   "cell_type": "markdown",
   "id": "85200584-577f-4b24-8ad5-763af51b2215",
   "metadata": {},
   "source": [
    "# Final Loop code"
   ]
  },
  {
   "cell_type": "code",
   "execution_count": 14,
   "id": "9d27a1c6-d791-415c-ab59-7a27a009ee85",
   "metadata": {
    "tags": []
   },
   "outputs": [
    {
     "data": {
      "text/html": [
       "<style>\n",
       ".list-inline {list-style: none; margin:0; padding: 0}\n",
       ".list-inline>li {display: inline-block}\n",
       ".list-inline>li:not(:last-child)::after {content: \"\\00b7\"; padding: 0 .5ex}\n",
       "</style>\n",
       "<ol class=list-inline><li>'T cell'</li><li>'NK cell'</li><li>'Monocyte'</li><li>'DC'</li><li>'Progenitor cell'</li><li>'B cell'</li></ol>\n"
      ],
      "text/latex": [
       "\\begin{enumerate*}\n",
       "\\item 'T cell'\n",
       "\\item 'NK cell'\n",
       "\\item 'Monocyte'\n",
       "\\item 'DC'\n",
       "\\item 'Progenitor cell'\n",
       "\\item 'B cell'\n",
       "\\end{enumerate*}\n"
      ],
      "text/markdown": [
       "1. 'T cell'\n",
       "2. 'NK cell'\n",
       "3. 'Monocyte'\n",
       "4. 'DC'\n",
       "5. 'Progenitor cell'\n",
       "6. 'B cell'\n",
       "\n",
       "\n"
      ],
      "text/plain": [
       "[1] \"T cell\"          \"NK cell\"         \"Monocyte\"        \"DC\"             \n",
       "[5] \"Progenitor cell\" \"B cell\"         "
      ]
     },
     "metadata": {},
     "output_type": "display_data"
    }
   ],
   "source": [
    "unique_AIFI_L1 <- unique(all_df$AIFI_L1)\n",
    "unique_AIFI_L1\n",
    "#unique_AIFI_L3 <- unique(result_final$AIFI_L3)\n",
    "#unique_AIFI_L3"
   ]
  },
  {
   "cell_type": "markdown",
   "id": "cc857bb5-4ab7-49d9-a48d-852cbf9444a9",
   "metadata": {},
   "source": [
    "## CMV and Age grouping"
   ]
  },
  {
   "cell_type": "code",
   "execution_count": 15,
   "id": "4b54fd24-f1f6-44ea-b8af-6a01c6cf0972",
   "metadata": {
    "tags": []
   },
   "outputs": [
    {
     "name": "stdout",
     "output_type": "stream",
     "text": [
      "[1] \"T cell\"\n"
     ]
    },
    {
     "name": "stderr",
     "output_type": "stream",
     "text": [
      "\u001b[1m\u001b[22m`summarise()` has grouped output by 'AIFI_L3'. You can override using the\n",
      "`.groups` argument.\n"
     ]
    },
    {
     "name": "stdout",
     "output_type": "stream",
     "text": [
      "[1] \"NK cell\"\n"
     ]
    },
    {
     "name": "stderr",
     "output_type": "stream",
     "text": [
      "\u001b[1m\u001b[22m`summarise()` has grouped output by 'AIFI_L3'. You can override using the\n",
      "`.groups` argument.\n"
     ]
    },
    {
     "name": "stdout",
     "output_type": "stream",
     "text": [
      "[1] \"Monocyte\"\n"
     ]
    },
    {
     "name": "stderr",
     "output_type": "stream",
     "text": [
      "\u001b[1m\u001b[22m`summarise()` has grouped output by 'AIFI_L3'. You can override using the\n",
      "`.groups` argument.\n"
     ]
    },
    {
     "name": "stdout",
     "output_type": "stream",
     "text": [
      "[1] \"DC\"\n"
     ]
    },
    {
     "name": "stderr",
     "output_type": "stream",
     "text": [
      "\u001b[1m\u001b[22m`summarise()` has grouped output by 'AIFI_L3'. You can override using the\n",
      "`.groups` argument.\n"
     ]
    },
    {
     "name": "stdout",
     "output_type": "stream",
     "text": [
      "[1] \"Progenitor cell\"\n"
     ]
    },
    {
     "name": "stderr",
     "output_type": "stream",
     "text": [
      "\u001b[1m\u001b[22m`summarise()` has grouped output by 'AIFI_L3'. You can override using the\n",
      "`.groups` argument.\n"
     ]
    },
    {
     "name": "stdout",
     "output_type": "stream",
     "text": [
      "[1] \"B cell\"\n"
     ]
    },
    {
     "name": "stderr",
     "output_type": "stream",
     "text": [
      "\u001b[1m\u001b[22m`summarise()` has grouped output by 'AIFI_L3'. You can override using the\n",
      "`.groups` argument.\n"
     ]
    }
   ],
   "source": [
    "##For CLR - PARENT PLOT\n",
    "\n",
    "my_comparisons <- list(c(\"BR1_Negative\", \"BR2_Negative\"), c(\"BR1_Negative\", \"BR1_Positive\"), c(\"BR1_Positive\", \"BR2_Positive\"), c(\"BR2_Negative\", \"BR2_Positive\") )\n",
    "\n",
    "for(cell in unique_AIFI_L1){\n",
    "    \n",
    "    print(cell)\n",
    "    \n",
    "    #rm(cell_df, result_final)\n",
    "    \n",
    "    cell_df <- all_df %>% dplyr::filter(AIFI_L1 == cell)\n",
    "\n",
    "    \n",
    "    result_final <- cell_df %>%\n",
    "      dplyr::group_by(AIFI_L3, subject.subjectGuid) %>%               \n",
    "      dplyr::summarise(count = n()) %>%                  # Count occurrences\n",
    "      dplyr::group_by(subject.subjectGuid) %>%                       \n",
    "      dplyr::mutate(percentage = (count / sum(count)) * 100) %>% \n",
    "      dplyr::group_by(subject.subjectGuid) %>%     \n",
    "      dplyr::mutate(percentage_clr = clr_transform((percentage))) %>% # Group again by subjectGuid for CLR# Calculate percentage\n",
    "      dplyr::ungroup()\n",
    "\n",
    "    \n",
    "    result_final<-left_join(result_final,unique(all_df[c('cohort.cohortGuid','subject.subjectGuid','subject.biologicalSex','CMV.IgG.Serology.Result.Interpretation')]),by=c('subject.subjectGuid'))\n",
    "    \n",
    "    result_final$facet_combined <- paste(result_final$cohort.cohortGuid, result_final$CMV.IgG.Serology.Result.Interpretation, sep = \"_\")\n",
    "    result_final$facet_combined<- factor(result_final$facet_combined)\n",
    "    \n",
    "    for(cell_L3 in unique(result_final$AIFI_L3)){\n",
    "        \n",
    "        #rm(L3_df)\n",
    "        \n",
    "        L3_df <- result_final %>% dplyr::filter(AIFI_L3 == cell_L3)\n",
    "        \n",
    "        stat_test <- wilcox_test(percentage_clr ~ facet_combined, data = L3_df, comparisons = my_comparisons, paired= FALSE)%>% \n",
    "               adjust_pvalue(method = 'BH') %>% \n",
    "               add_xy_position(x = \"facet_combined\", dodge = 0.8)\n",
    "\n",
    "\n",
    "\n",
    "\n",
    "        outfile <- paste(\"/home/jupyter/Myeloid_cells/Plots/CLR_Comparisons_cohort_&_CMV_Parent/CLR_Comparisons_cohort_&_CMV_parent_\", cell_L3, \".pdf\", sep=\"\")\n",
    "        options(repr.plot.width = 18, repr.plot.height = 10)\n",
    "        p3 <- ggplot(L3_df, aes(x = facet_combined, y = percentage_clr, color = CMV.IgG.Serology.Result.Interpretation)) +\n",
    "          geom_boxplot(width = 0.5, outlier.shape = NA) +\n",
    "          geom_jitter(width =0.1) +\n",
    "          ylab('percentage_clr') + \n",
    "          xlab(cell_L3) +\n",
    "          scale_color_manual(values = c(\"green\", \"red\", \"orange\", \"blue\")) +\n",
    "          theme(axis.text.x = element_text(size = 12, angle = 90 ),     # Adjust font size of x-axis text\n",
    "                axis.text.y = element_text(size = 12),     # Adjust font size of y-axis text\n",
    "                axis.title = element_text(size = 14),\n",
    "                panel.background = element_rect(fill = \"white\"),\n",
    "                axis.line = element_line(color = \"black\"),  # Set axis line color to black,  # Set major grid line color to black\n",
    "                panel.grid.minor = element_blank(),\n",
    "                legend.position = \"top\",  # Set legend position to top\n",
    "                #legend.title = element_blank()\n",
    "               ) +\n",
    "          geom_boxplot(position = position_dodge(width = 1))+\n",
    "          stat_pvalue_manual(stat_test, label = \"p.adj.signif\", tip.length = 0) +\n",
    "          scale_y_continuous(expand = expansion(mult = c(0, 0.1)))\n",
    "          pdf(file = outfile, width = 7, height = 11)\n",
    "          print(p3)\n",
    "          dev.off()\n",
    "\n",
    "        \n",
    "        }\n",
    "    \n",
    "    \n",
    "    }\n",
    "\n",
    "\n",
    "\n"
   ]
  },
  {
   "cell_type": "code",
   "execution_count": null,
   "id": "8b665f2a-2941-4835-97f5-fb8cf9c918f5",
   "metadata": {},
   "outputs": [],
   "source": []
  },
  {
   "cell_type": "code",
   "execution_count": 16,
   "id": "83b68b17-2bf1-4057-b352-2c2a6ac706c8",
   "metadata": {
    "tags": []
   },
   "outputs": [
    {
     "name": "stdout",
     "output_type": "stream",
     "text": [
      "[1] \"T cell\"\n"
     ]
    },
    {
     "name": "stderr",
     "output_type": "stream",
     "text": [
      "\u001b[1m\u001b[22m`summarise()` has grouped output by 'AIFI_L3'. You can override using the\n",
      "`.groups` argument.\n"
     ]
    },
    {
     "name": "stdout",
     "output_type": "stream",
     "text": [
      "[1] \"NK cell\"\n"
     ]
    },
    {
     "name": "stderr",
     "output_type": "stream",
     "text": [
      "\u001b[1m\u001b[22m`summarise()` has grouped output by 'AIFI_L3'. You can override using the\n",
      "`.groups` argument.\n"
     ]
    },
    {
     "name": "stdout",
     "output_type": "stream",
     "text": [
      "[1] \"Monocyte\"\n"
     ]
    },
    {
     "name": "stderr",
     "output_type": "stream",
     "text": [
      "\u001b[1m\u001b[22m`summarise()` has grouped output by 'AIFI_L3'. You can override using the\n",
      "`.groups` argument.\n"
     ]
    },
    {
     "name": "stdout",
     "output_type": "stream",
     "text": [
      "[1] \"DC\"\n"
     ]
    },
    {
     "name": "stderr",
     "output_type": "stream",
     "text": [
      "\u001b[1m\u001b[22m`summarise()` has grouped output by 'AIFI_L3'. You can override using the\n",
      "`.groups` argument.\n"
     ]
    },
    {
     "name": "stdout",
     "output_type": "stream",
     "text": [
      "[1] \"Progenitor cell\"\n"
     ]
    },
    {
     "name": "stderr",
     "output_type": "stream",
     "text": [
      "\u001b[1m\u001b[22m`summarise()` has grouped output by 'AIFI_L3'. You can override using the\n",
      "`.groups` argument.\n"
     ]
    },
    {
     "name": "stdout",
     "output_type": "stream",
     "text": [
      "[1] \"B cell\"\n"
     ]
    },
    {
     "name": "stderr",
     "output_type": "stream",
     "text": [
      "\u001b[1m\u001b[22m`summarise()` has grouped output by 'AIFI_L3'. You can override using the\n",
      "`.groups` argument.\n"
     ]
    }
   ],
   "source": [
    "##For Percentage - PARENT PLOT\n",
    "\n",
    "my_comparisons <- list(c(\"BR1_Negative\", \"BR2_Negative\"), c(\"BR1_Negative\", \"BR1_Positive\"), c(\"BR1_Positive\", \"BR2_Positive\"), c(\"BR2_Negative\", \"BR2_Positive\") )\n",
    "\n",
    "for(cell in unique_AIFI_L1){\n",
    "    \n",
    "    print(cell)\n",
    "    \n",
    "    #rm(cell_df, result_final)\n",
    "    \n",
    "    cell_df <- all_df %>% dplyr::filter(AIFI_L1 == cell)\n",
    "\n",
    "    \n",
    "    result_final <- cell_df %>%\n",
    "      dplyr::group_by(AIFI_L3, subject.subjectGuid) %>%               \n",
    "      dplyr::summarise(count = n()) %>%                  # Count occurrences\n",
    "      dplyr::group_by(subject.subjectGuid) %>%                       \n",
    "      dplyr::mutate(percentage = (count / sum(count)) * 100) %>% \n",
    "      dplyr::group_by(subject.subjectGuid) %>%     \n",
    "      dplyr::mutate(percentage_clr = clr_transform((percentage))) %>% # Group again by subjectGuid for CLR# Calculate percentage\n",
    "      dplyr::ungroup()\n",
    "\n",
    "    \n",
    "    result_final<-left_join(result_final,unique(all_df[c('cohort.cohortGuid','subject.subjectGuid','subject.biologicalSex','CMV.IgG.Serology.Result.Interpretation')]),by=c('subject.subjectGuid'))\n",
    "    \n",
    "    result_final$facet_combined <- paste(result_final$cohort.cohortGuid, result_final$CMV.IgG.Serology.Result.Interpretation, sep = \"_\")\n",
    "    result_final$facet_combined<- factor(result_final$facet_combined)\n",
    "    \n",
    "    for(cell_L3 in unique(result_final$AIFI_L3)){\n",
    "        \n",
    "        #rm(L3_df)\n",
    "        \n",
    "        L3_df <- result_final %>% dplyr::filter(AIFI_L3 == cell_L3)\n",
    "        \n",
    "        stat_test <- wilcox_test(percentage ~ facet_combined, data = L3_df, comparisons = my_comparisons, paired= FALSE)%>% \n",
    "               adjust_pvalue(method = 'BH') %>% \n",
    "               add_xy_position(x = \"facet_combined\", dodge = 0.8)\n",
    "\n",
    "\n",
    "\n",
    "\n",
    "        outfile <- paste(\"/home/jupyter/Myeloid_cells/Plots/Percentage_Comparisons_cohort_&_CMV_Parent/Percentage_Comparisons_cohort_&_CMV_parent_\", cell_L3, \".pdf\", sep=\"\")\n",
    "        options(repr.plot.width = 18, repr.plot.height = 10)\n",
    "        p3 <- ggplot(L3_df, aes(x = facet_combined, y = percentage, color = CMV.IgG.Serology.Result.Interpretation)) +\n",
    "          geom_boxplot(width = 0.5, outlier.shape = NA) +\n",
    "          geom_jitter(width =0.1) +\n",
    "          ylab('percentage') + \n",
    "          xlab(cell_L3) +\n",
    "          scale_color_manual(values = c(\"green\", \"red\", \"orange\", \"blue\")) +\n",
    "          theme(axis.text.x = element_text(size = 12, angle = 90 ),     # Adjust font size of x-axis text\n",
    "                axis.text.y = element_text(size = 12),     # Adjust font size of y-axis text\n",
    "                axis.title = element_text(size = 14),\n",
    "                panel.background = element_rect(fill = \"white\"),\n",
    "                axis.line = element_line(color = \"black\"),  # Set axis line color to black,  # Set major grid line color to black\n",
    "                panel.grid.minor = element_blank(),\n",
    "                legend.position = \"top\",  # Set legend position to top\n",
    "                #legend.title = element_blank()\n",
    "               ) +\n",
    "          geom_boxplot(position = position_dodge(width = 1))+\n",
    "          stat_pvalue_manual(stat_test, label = \"p.adj.signif\", tip.length = 0) +\n",
    "          scale_y_continuous(expand = expansion(mult = c(0, 0.1)))\n",
    "          pdf(file = outfile, width = 7, height = 11)\n",
    "          print(p3)\n",
    "          dev.off()\n",
    "\n",
    "        \n",
    "        }\n",
    "    \n",
    "    \n",
    "    }\n",
    "\n",
    "\n",
    "\n"
   ]
  },
  {
   "cell_type": "markdown",
   "id": "41b85ca9-62da-4d80-b98a-4feac9fe79ca",
   "metadata": {},
   "source": [
    "## SEX and AGE grouping"
   ]
  },
  {
   "cell_type": "code",
   "execution_count": 15,
   "id": "d9712f6a-fb24-41c4-9be0-d0d6a4d60624",
   "metadata": {
    "tags": []
   },
   "outputs": [
    {
     "name": "stdout",
     "output_type": "stream",
     "text": [
      "[1] \"T cell\"\n"
     ]
    },
    {
     "name": "stderr",
     "output_type": "stream",
     "text": [
      "\u001b[1m\u001b[22m`summarise()` has grouped output by 'AIFI_L3'. You can override using the\n",
      "`.groups` argument.\n"
     ]
    },
    {
     "name": "stdout",
     "output_type": "stream",
     "text": [
      "[1] \"NK cell\"\n"
     ]
    },
    {
     "name": "stderr",
     "output_type": "stream",
     "text": [
      "\u001b[1m\u001b[22m`summarise()` has grouped output by 'AIFI_L3'. You can override using the\n",
      "`.groups` argument.\n"
     ]
    },
    {
     "name": "stdout",
     "output_type": "stream",
     "text": [
      "[1] \"Monocyte\"\n"
     ]
    },
    {
     "name": "stderr",
     "output_type": "stream",
     "text": [
      "\u001b[1m\u001b[22m`summarise()` has grouped output by 'AIFI_L3'. You can override using the\n",
      "`.groups` argument.\n"
     ]
    },
    {
     "name": "stdout",
     "output_type": "stream",
     "text": [
      "[1] \"DC\"\n"
     ]
    },
    {
     "name": "stderr",
     "output_type": "stream",
     "text": [
      "\u001b[1m\u001b[22m`summarise()` has grouped output by 'AIFI_L3'. You can override using the\n",
      "`.groups` argument.\n"
     ]
    },
    {
     "name": "stdout",
     "output_type": "stream",
     "text": [
      "[1] \"Progenitor cell\"\n"
     ]
    },
    {
     "name": "stderr",
     "output_type": "stream",
     "text": [
      "\u001b[1m\u001b[22m`summarise()` has grouped output by 'AIFI_L3'. You can override using the\n",
      "`.groups` argument.\n"
     ]
    },
    {
     "name": "stdout",
     "output_type": "stream",
     "text": [
      "[1] \"B cell\"\n"
     ]
    },
    {
     "name": "stderr",
     "output_type": "stream",
     "text": [
      "\u001b[1m\u001b[22m`summarise()` has grouped output by 'AIFI_L3'. You can override using the\n",
      "`.groups` argument.\n"
     ]
    }
   ],
   "source": [
    "##For CLR - PARENT PLOT\n",
    "\n",
    "my_comparisons <- list(c(\"BR1_Female\", \"BR2_Female\"), c(\"BR1_Female\", \"BR1_Male\"), c(\"BR1_Male\", \"BR2_Male\"), c(\"BR2_Female\", \"BR2_Male\") )\n",
    "\n",
    "for(cell in unique_AIFI_L1){\n",
    "    \n",
    "    print(cell)\n",
    "    \n",
    "    #rm(cell_df, result_final)\n",
    "    \n",
    "    cell_df <- all_df %>% dplyr::filter(AIFI_L1 == cell)\n",
    "\n",
    "    \n",
    "    result_final <- cell_df %>%\n",
    "      dplyr::group_by(AIFI_L3, subject.subjectGuid) %>%               \n",
    "      dplyr::summarise(count = n()) %>%                  # Count occurrences\n",
    "      dplyr::group_by(subject.subjectGuid) %>%                       \n",
    "      dplyr::mutate(percentage = (count / sum(count)) * 100) %>% \n",
    "      dplyr::group_by(subject.subjectGuid) %>%     \n",
    "      dplyr::mutate(percentage_clr = clr_transform((percentage))) %>% # Group again by subjectGuid for CLR# Calculate percentage\n",
    "      dplyr::ungroup()\n",
    "\n",
    "    \n",
    "    result_final<-left_join(result_final,unique(all_df[c('cohort.cohortGuid','subject.subjectGuid','subject.biologicalSex','CMV.IgG.Serology.Result.Interpretation')]),by=c('subject.subjectGuid'))\n",
    "    \n",
    "    result_final$facet_combined <- paste(result_final$cohort.cohortGuid, result_final$subject.biologicalSex, sep = \"_\")\n",
    "    result_final$facet_combined<- factor(result_final$facet_combined)\n",
    "    \n",
    "    for(cell_L3 in unique(result_final$AIFI_L3)){\n",
    "        \n",
    "        #rm(L3_df)\n",
    "        \n",
    "        L3_df <- result_final %>% dplyr::filter(AIFI_L3 == cell_L3)\n",
    "        \n",
    "        stat_test <- wilcox_test(percentage_clr ~ facet_combined, data = L3_df, comparisons = my_comparisons, paired= FALSE)%>% \n",
    "               adjust_pvalue(method = 'BH') %>% \n",
    "               add_xy_position(x = \"facet_combined\", dodge = 0.8)\n",
    "\n",
    "\n",
    "\n",
    "\n",
    "        outfile <- paste(\"/home/jupyter/Myeloid_cells/Plots/CLR_Comparisons_cohort_&_Sex_Parent/CLR_Comparisons_cohort_&_Sex_parent_\", cell_L3, \".pdf\", sep=\"\")\n",
    "        options(repr.plot.width = 18, repr.plot.height = 10)\n",
    "        p3 <- ggplot(L3_df, aes(x = facet_combined, y = percentage_clr, color = subject.biologicalSex)) +\n",
    "          geom_boxplot(width = 0.5, outlier.shape = NA) +\n",
    "          geom_jitter(width =0.1) +\n",
    "          ylab('percentage_clr') + \n",
    "          xlab(cell_L3) +\n",
    "          scale_color_manual(values = c(\"red\", \"blue\")) +\n",
    "          theme(axis.text.x = element_text(size = 12, angle = 90 ),     # Adjust font size of x-axis text\n",
    "                axis.text.y = element_text(size = 12),     # Adjust font size of y-axis text\n",
    "                axis.title = element_text(size = 14),\n",
    "                panel.background = element_rect(fill = \"white\"),\n",
    "                axis.line = element_line(color = \"black\"),  # Set axis line color to black,  # Set major grid line color to black\n",
    "                panel.grid.minor = element_blank(),\n",
    "                legend.position = \"top\",  # Set legend position to top\n",
    "                #legend.title = element_blank()\n",
    "               ) +\n",
    "          geom_boxplot(position = position_dodge(width = 1))+\n",
    "          stat_pvalue_manual(stat_test, label = \"p.adj.signif\", tip.length = 0) +\n",
    "          scale_y_continuous(expand = expansion(mult = c(0, 0.1)))\n",
    "          pdf(file = outfile, width = 7, height = 11)\n",
    "          print(p3)\n",
    "          dev.off()\n",
    "\n",
    "        \n",
    "        }\n",
    "    \n",
    "    \n",
    "    }\n",
    "\n",
    "\n",
    "\n"
   ]
  },
  {
   "cell_type": "code",
   "execution_count": null,
   "id": "9a7b41bf-235b-4f21-b50b-b1956ace17d3",
   "metadata": {},
   "outputs": [],
   "source": []
  },
  {
   "cell_type": "code",
   "execution_count": 16,
   "id": "8ae99e55-6391-455b-84ba-25892d19e8eb",
   "metadata": {
    "tags": []
   },
   "outputs": [
    {
     "name": "stdout",
     "output_type": "stream",
     "text": [
      "[1] \"T cell\"\n"
     ]
    },
    {
     "name": "stderr",
     "output_type": "stream",
     "text": [
      "\u001b[1m\u001b[22m`summarise()` has grouped output by 'AIFI_L3'. You can override using the\n",
      "`.groups` argument.\n"
     ]
    },
    {
     "name": "stdout",
     "output_type": "stream",
     "text": [
      "[1] \"NK cell\"\n"
     ]
    },
    {
     "name": "stderr",
     "output_type": "stream",
     "text": [
      "\u001b[1m\u001b[22m`summarise()` has grouped output by 'AIFI_L3'. You can override using the\n",
      "`.groups` argument.\n"
     ]
    },
    {
     "name": "stdout",
     "output_type": "stream",
     "text": [
      "[1] \"Monocyte\"\n"
     ]
    },
    {
     "name": "stderr",
     "output_type": "stream",
     "text": [
      "\u001b[1m\u001b[22m`summarise()` has grouped output by 'AIFI_L3'. You can override using the\n",
      "`.groups` argument.\n"
     ]
    },
    {
     "name": "stdout",
     "output_type": "stream",
     "text": [
      "[1] \"DC\"\n"
     ]
    },
    {
     "name": "stderr",
     "output_type": "stream",
     "text": [
      "\u001b[1m\u001b[22m`summarise()` has grouped output by 'AIFI_L3'. You can override using the\n",
      "`.groups` argument.\n"
     ]
    },
    {
     "name": "stdout",
     "output_type": "stream",
     "text": [
      "[1] \"Progenitor cell\"\n"
     ]
    },
    {
     "name": "stderr",
     "output_type": "stream",
     "text": [
      "\u001b[1m\u001b[22m`summarise()` has grouped output by 'AIFI_L3'. You can override using the\n",
      "`.groups` argument.\n"
     ]
    },
    {
     "name": "stdout",
     "output_type": "stream",
     "text": [
      "[1] \"B cell\"\n"
     ]
    },
    {
     "name": "stderr",
     "output_type": "stream",
     "text": [
      "\u001b[1m\u001b[22m`summarise()` has grouped output by 'AIFI_L3'. You can override using the\n",
      "`.groups` argument.\n"
     ]
    }
   ],
   "source": [
    "##For Percentage - PARENT PLOT\n",
    "\n",
    "my_comparisons <- list(c(\"BR1_Female\", \"BR2_Female\"), c(\"BR1_Female\", \"BR1_Male\"), c(\"BR1_Male\", \"BR2_Male\"), c(\"BR2_Female\", \"BR2_Male\") )\n",
    "\n",
    "for(cell in unique_AIFI_L1){\n",
    "    \n",
    "    print(cell)\n",
    "    \n",
    "    #rm(cell_df, result_final)\n",
    "    \n",
    "    cell_df <- all_df %>% dplyr::filter(AIFI_L1 == cell)\n",
    "\n",
    "    \n",
    "    result_final <- cell_df %>%\n",
    "      dplyr::group_by(AIFI_L3, subject.subjectGuid) %>%               \n",
    "      dplyr::summarise(count = n()) %>%                  # Count occurrences\n",
    "      dplyr::group_by(subject.subjectGuid) %>%                       \n",
    "      dplyr::mutate(percentage = (count / sum(count)) * 100) %>% \n",
    "      dplyr::group_by(subject.subjectGuid) %>%     \n",
    "      dplyr::mutate(percentage_clr = clr_transform((percentage))) %>% # Group again by subjectGuid for CLR# Calculate percentage\n",
    "      dplyr::ungroup()\n",
    "\n",
    "    \n",
    "    result_final<-left_join(result_final,unique(all_df[c('cohort.cohortGuid','subject.subjectGuid','subject.biologicalSex','CMV.IgG.Serology.Result.Interpretation')]),by=c('subject.subjectGuid'))\n",
    "    \n",
    "    result_final$facet_combined <- paste(result_final$cohort.cohortGuid, result_final$subject.biologicalSex, sep = \"_\")\n",
    "    result_final$facet_combined<- factor(result_final$facet_combined)\n",
    "    \n",
    "    for(cell_L3 in unique(result_final$AIFI_L3)){\n",
    "        \n",
    "        #rm(L3_df)\n",
    "        \n",
    "        L3_df <- result_final %>% dplyr::filter(AIFI_L3 == cell_L3)\n",
    "        \n",
    "        stat_test <- wilcox_test(percentage ~ facet_combined, data = L3_df, comparisons = my_comparisons, paired= FALSE)%>% \n",
    "               adjust_pvalue(method = 'BH') %>% \n",
    "               add_xy_position(x = \"facet_combined\", dodge = 0.8)\n",
    "\n",
    "\n",
    "\n",
    "\n",
    "        outfile <- paste(\"/home/jupyter/Myeloid_cells/Plots/Percentage_Comparisons_cohort_&_Sex_Parent/Percentage_Comparisons_cohort_&_Sex_parent_\", cell_L3, \".pdf\", sep=\"\")\n",
    "        options(repr.plot.width = 18, repr.plot.height = 10)\n",
    "        p3 <- ggplot(L3_df, aes(x = facet_combined, y = percentage, color = subject.biologicalSex)) +\n",
    "          geom_boxplot(width = 0.5, outlier.shape = NA) +\n",
    "          geom_jitter(width =0.1) +\n",
    "          ylab('percentage') + \n",
    "          xlab(cell_L3) +\n",
    "          scale_color_manual(values = c(\"red\", \"blue\")) +\n",
    "          theme(axis.text.x = element_text(size = 12, angle = 90 ),     # Adjust font size of x-axis text\n",
    "                axis.text.y = element_text(size = 12),     # Adjust font size of y-axis text\n",
    "                axis.title = element_text(size = 14),\n",
    "                panel.background = element_rect(fill = \"white\"),\n",
    "                axis.line = element_line(color = \"black\"),  # Set axis line color to black,  # Set major grid line color to black\n",
    "                panel.grid.minor = element_blank(),\n",
    "                legend.position = \"top\",  # Set legend position to top\n",
    "                #legend.title = element_blank()\n",
    "               ) +\n",
    "          geom_boxplot(position = position_dodge(width = 1))+\n",
    "          stat_pvalue_manual(stat_test, label = \"p.adj.signif\", tip.length = 0) +\n",
    "          scale_y_continuous(expand = expansion(mult = c(0, 0.1)))\n",
    "          pdf(file = outfile, width = 7, height = 11)\n",
    "          print(p3)\n",
    "          dev.off()\n",
    "\n",
    "        \n",
    "        }\n",
    "    \n",
    "    \n",
    "    }\n",
    "\n",
    "\n",
    "\n"
   ]
  },
  {
   "cell_type": "code",
   "execution_count": null,
   "id": "3a52f040-f9b1-419f-858c-d2ad671e6135",
   "metadata": {},
   "outputs": [],
   "source": []
  }
 ],
 "metadata": {
  "kernelspec": {
   "display_name": "R 4",
   "language": "R",
   "name": "ir4"
  },
  "language_info": {
   "codemirror_mode": "r",
   "file_extension": ".r",
   "mimetype": "text/x-r-source",
   "name": "R",
   "pygments_lexer": "r",
   "version": "4.3.1"
  }
 },
 "nbformat": 4,
 "nbformat_minor": 5
}
