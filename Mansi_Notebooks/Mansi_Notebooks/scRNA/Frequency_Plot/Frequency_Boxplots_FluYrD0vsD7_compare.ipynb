{
 "cells": [
  {
   "cell_type": "code",
   "execution_count": null,
   "id": "c3a395de-1e05-469b-bc1d-7272089eb5f0",
   "metadata": {
    "tags": []
   },
   "outputs": [],
   "source": [
    "suppressPackageStartupMessages(library(readxl))\n",
    "suppressPackageStartupMessages(library(dplyr))\n",
    "suppressPackageStartupMessages(library(tidyr))\n",
    "suppressPackageStartupMessages(library(tibble))\n",
    "suppressPackageStartupMessages(library(patchwork))\n",
    "suppressPackageStartupMessages(library(pheatmap))\n",
    "suppressPackageStartupMessages(library(stringr))\n",
    "library(hise)\n",
    "library(plyr)\n",
    "library(purrr)\n",
    "library(vegan)\n",
    "#library(arrow)\n",
    "library(rstatix)\n",
    "library(parallel)\n",
    "library(ggpubr)\n",
    "library(ComplexHeatmap)\n",
    "library(compositions)\n",
    "library(ggsci)"
   ]
  },
  {
   "cell_type": "code",
   "execution_count": null,
   "id": "6a20bdc1-9f3c-40b2-bbbd-89fd893dcbf3",
   "metadata": {
    "tags": []
   },
   "outputs": [],
   "source": [
    "colors = c('#FDC086','#FFFF99','#F0027F','#BF5B17','#666666',\n",
    "          '#1B9E77','#D95F02','#7570B3','#E7298A','#66A61E','#E6AB02','#A6761D','#666666',\n",
    "          '#A6CEE3','#1F78B4','#B2DF8A','#33A02C','#FB9A99','#E31A1C','#FDBF6F','#FF7F00',\n",
    "          '#CAB2D6','#6A3D9A','#FFFF99','#B15928','#FBB4AE','#B3CDE3','#CCEBC5','#DECBE4',\n",
    "          '#FED9A6','#FFFFCC','#E5D8BD','#FDDAEC','#F2F2F2','#B3E2CD','#FDCDAC','#CBD5E8',\n",
    "          '#F4CAE4','#E6F5C9','#FFF2AE','#F1E2CC','#CCCCCC','#E41A1C','#377EB8','#4DAF4A',\n",
    "          '#984EA3','#FF7F00','#FFFF33','#A65628','#F781BF','#999999','#66C2A5','#FC8D62',\n",
    "          '#8DA0CB','#E78AC3','#A6D854','#FFD92F','#E5C494','#B3B3B3','#8DD3C7','#FFFFB3',\n",
    "          '#BEBADA','#FB8072','#80B1D3','#FDB462','#B3DE69','#FCCDE5','#D9D9D9','#BC80BD',\n",
    "          '#CCEBC5','#FFED6F')"
   ]
  },
  {
   "cell_type": "markdown",
   "id": "8a1582b7-eebf-46a5-b73e-5d32ade17af4",
   "metadata": {
    "tags": []
   },
   "source": [
    "# Reading the file"
   ]
  },
  {
   "cell_type": "code",
   "execution_count": null,
   "id": "b1231bd2-7ec7-4fed-b1c3-09361c4c7c75",
   "metadata": {
    "tags": []
   },
   "outputs": [],
   "source": [
    "# Read the CSV file into a data frame (No UP1)\n",
    "flu_df <- read.csv('/home/jupyter/Myeloid_cells/files/AIFI_fluYr1Yr2_raw.csv')\n"
   ]
  },
  {
   "cell_type": "code",
   "execution_count": null,
   "id": "d485ad64-44ca-4190-8c7b-413fe93b7bd3",
   "metadata": {
    "tags": []
   },
   "outputs": [],
   "source": [
    "dict <- read.csv('/home/jupyter/Myeloid_cells/files/Dictionary_AIFI_Reference.csv')"
   ]
  },
  {
   "cell_type": "code",
   "execution_count": null,
   "id": "b69c4f1a-e6cd-4e4a-be73-f8a65e4d0df9",
   "metadata": {
    "tags": []
   },
   "outputs": [],
   "source": [
    "select_samples <- read.csv(\"/home/jupyter/Myeloid_cells/files/formansi_filtered_samples_fluspecific_bcells.csv\")"
   ]
  },
  {
   "cell_type": "code",
   "execution_count": null,
   "id": "ee28f224-6d1f-45d0-a2d7-094a66bed2a3",
   "metadata": {
    "tags": []
   },
   "outputs": [],
   "source": [
    "head(select_samples)\n",
    "colnames(select_samples)\n"
   ]
  },
  {
   "cell_type": "code",
   "execution_count": null,
   "id": "18f109a8-edc4-4892-bcc2-05bc865bfb6e",
   "metadata": {
    "tags": []
   },
   "outputs": [],
   "source": [
    "samps <- unique(select_samples$subject.subjectGuid)\n",
    "length(samps)"
   ]
  },
  {
   "cell_type": "code",
   "execution_count": null,
   "id": "c1bb4a12-cdb3-4202-bc77-e3ddab52ac5b",
   "metadata": {
    "tags": []
   },
   "outputs": [],
   "source": [
    "# Filter flu_df to include only samples that match the identified subjects\n",
    "filtered_flu_df <- flu_df[flu_df$subject.subjectGuid %in% samps, ]"
   ]
  },
  {
   "cell_type": "code",
   "execution_count": null,
   "id": "ae4112a0-48bf-4a1c-8e00-9b4b48c0ce1a",
   "metadata": {
    "tags": []
   },
   "outputs": [],
   "source": [
    "head(filtered_flu_df)\n",
    "length(unique(filtered_flu_df$subject.subjectGuid))"
   ]
  },
  {
   "cell_type": "code",
   "execution_count": null,
   "id": "648c3383-ad70-4e2b-8180-d2cdf9c3b4f5",
   "metadata": {
    "tags": []
   },
   "outputs": [],
   "source": [
    "unique(filtered_flu_df$cohort.cohortGuid)\n",
    "#unique(flu_df$AIFI_L3.5)\n",
    "#unique(flu_df$AIFI_L1)"
   ]
  },
  {
   "cell_type": "code",
   "execution_count": null,
   "id": "766f9369-6e1e-4790-9059-b9c0534c65ba",
   "metadata": {
    "tags": []
   },
   "outputs": [],
   "source": [
    "nrow(filtered_flu_df)"
   ]
  },
  {
   "cell_type": "code",
   "execution_count": null,
   "id": "e02440bd-b273-4245-8bd9-f2ac4453b4f0",
   "metadata": {
    "tags": []
   },
   "outputs": [],
   "source": [
    "rownames(filtered_flu_df)<-filtered_flu_df$cell_uuid"
   ]
  },
  {
   "cell_type": "code",
   "execution_count": null,
   "id": "6d625332-5f8d-4bbc-8012-847f83599a14",
   "metadata": {
    "tags": []
   },
   "outputs": [],
   "source": [
    "#length(unique(myeloid_df$subject.subjectGuid))"
   ]
  },
  {
   "cell_type": "code",
   "execution_count": null,
   "id": "1a7a7944-a662-42e8-9911-9da67c027e1c",
   "metadata": {
    "tags": []
   },
   "outputs": [],
   "source": [
    "#unique(myeloid_df$AIFI_L1)"
   ]
  },
  {
   "cell_type": "code",
   "execution_count": null,
   "id": "0d6800f5-71e8-448b-bb53-6563b5b3dd19",
   "metadata": {
    "tags": []
   },
   "outputs": [],
   "source": [
    "colnames(flu_df)"
   ]
  },
  {
   "cell_type": "markdown",
   "id": "c7535e70-541d-4ad8-8e88-b11dcba6a1f2",
   "metadata": {},
   "source": [
    "# CLR Transform\n"
   ]
  },
  {
   "cell_type": "code",
   "execution_count": null,
   "id": "bb23d650-3873-44c3-b607-c3d558cd16e7",
   "metadata": {
    "tags": []
   },
   "outputs": [],
   "source": [
    "clr_transform <- function(x) {\n",
    "  if (length(x) == 0) {\n",
    "    return(NA)  # return NA for empty vectors\n",
    "  }\n",
    "  geom_mean <- exp(mean(log(x)))\n",
    "  return(log(x / geom_mean))\n",
    "}"
   ]
  },
  {
   "cell_type": "code",
   "execution_count": null,
   "id": "2519c2f3-e3a9-4e1e-af37-3e7424f466c0",
   "metadata": {},
   "outputs": [],
   "source": []
  },
  {
   "cell_type": "markdown",
   "id": "31b5b05a-3f82-45c1-9007-447675301969",
   "metadata": {},
   "source": [
    "# Comparsion within total PBMCs (Percentage and  CLR)"
   ]
  },
  {
   "cell_type": "code",
   "execution_count": null,
   "id": "e2168770-9465-46e0-acf4-cc716ea8fb6d",
   "metadata": {
    "tags": []
   },
   "outputs": [],
   "source": [
    "## Percentage of total\n",
    "\n",
    "result <- flu_df %>%\n",
    "  dplyr::group_by(AIFI_L3, subject.subjectGuid, sample.visitName ) %>%               \n",
    "  dplyr::summarise(count = n()) %>%                  # Count occurrences\n",
    "  dplyr::group_by(subject.subjectGuid) %>%                       \n",
    "  dplyr::mutate(percentage = (count / sum(count)) * 100) %>% \n",
    "  dplyr::group_by(subject.subjectGuid) %>%     \n",
    "  dplyr::mutate(percentage_clr = clr_transform((percentage))) %>% # Group again by subjectGuid for CLR# Calculate percentage\n",
    "  dplyr::ungroup()\n",
    "\n",
    "head(result)\n",
    "#sum(result$subject.subjectGuid)"
   ]
  },
  {
   "cell_type": "code",
   "execution_count": null,
   "id": "09341b03-eeab-438a-840b-8599df5970f3",
   "metadata": {
    "tags": []
   },
   "outputs": [],
   "source": [
    "result %>% filter(subject.subjectGuid == \"BR1001\") %>% \n",
    "      select(percentage) %>%\n",
    "      pull() %>% \n",
    "      sum()"
   ]
  },
  {
   "cell_type": "code",
   "execution_count": null,
   "id": "74044a1e-e626-48ee-b5fd-1f20e432ee3d",
   "metadata": {
    "tags": []
   },
   "outputs": [],
   "source": [
    "result<-left_join(result,unique(flu_df[c('cohort.cohortGuid','subject.subjectGuid','subject.biologicalSex', 'CMV.IgG.Serology.Result.Interpretation')]),by=c('subject.subjectGuid'))"
   ]
  },
  {
   "cell_type": "code",
   "execution_count": null,
   "id": "637f07c9-2efb-4aa9-8b73-4438a5024858",
   "metadata": {
    "tags": []
   },
   "outputs": [],
   "source": [
    "head(result)\n"
   ]
  },
  {
   "cell_type": "markdown",
   "id": "9513a358-ed42-4512-a383-1332129dd1d5",
   "metadata": {},
   "source": [
    "# Global Plot"
   ]
  },
  {
   "cell_type": "code",
   "execution_count": null,
   "id": "bc98bdbf-66c6-4315-8a75-6db9ccf2cb3f",
   "metadata": {
    "tags": []
   },
   "outputs": [],
   "source": [
    "result_yr1 <- result %>% filter(sample.visitName == \"Flu Year 1 Day 0\" | sample.visitName == \"Flu Year 1 Day 7\")"
   ]
  },
  {
   "cell_type": "code",
   "execution_count": null,
   "id": "6d9fa05d-7b08-42c2-8ee6-b9e9188792b4",
   "metadata": {
    "tags": []
   },
   "outputs": [],
   "source": [
    "result_yr2 <- result %>% filter(sample.visitName == \"Flu Year 2 Day 0\" | sample.visitName == \"Flu Year 2 Day 7\")"
   ]
  },
  {
   "cell_type": "code",
   "execution_count": null,
   "id": "5ca124ee-6d15-4020-8e6d-e8c318c11ba9",
   "metadata": {
    "tags": []
   },
   "outputs": [],
   "source": [
    "dim(result_yr1)\n",
    "head(result_yr1)"
   ]
  },
  {
   "cell_type": "code",
   "execution_count": null,
   "id": "2a1199ed-61c6-41c4-aa29-bb47a9768e38",
   "metadata": {
    "tags": []
   },
   "outputs": [],
   "source": [
    "len(result_yr1$sample.visitName)"
   ]
  },
  {
   "cell_type": "code",
   "execution_count": null,
   "id": "110b5ff8-2876-4171-ac27-7bce73ff06d9",
   "metadata": {
    "tags": []
   },
   "outputs": [],
   "source": [
    "# Percentage comparing Age WITHOUT CMV seperation\n",
    "\n",
    "#result_cohort <- result[result$CMV.IgG.Serology.Result.Interpretation == 'Negative', ]\n",
    "#result_cohort <- result[result$CMV.IgG.Serology.Result.Interpretation == 'Positive', ]\n",
    "\n",
    "stat_test<- result_yr1 %>%\n",
    "  select(percentage,percentage_clr, AIFI_L3, cohort.cohortGuid, CMV.IgG.Serology.Result.Interpretation, subject.biologicalSex, sample.visitName) %>%\n",
    "  unique(.) %>%\n",
    "  group_by(AIFI_L3) %>%\n",
    "  wilcox_test(percentage_clr ~ sample.visitName) %>%\n",
    "  adjust_pvalue(method = \"BH\") %>%\n",
    "  add_significance()\n",
    "#stat_test\n",
    "\n",
    "significant_cell_types <- stat_test %>%\n",
    "  filter(p.adj < 0.05) %>%\n",
    "  select(AIFI_L3, .y., p.adj, p.adj.signif) %>%\n",
    "  unique()\n",
    "\n",
    "print(significant_cell_types)\n",
    "\n",
    "# Create the plot\n",
    "#options(repr.plot.width = 35, repr.plot.height = 12)\n",
    "p4 <- ggplot(result_yr1, aes(x = reorder(AIFI_L3, desc(percentage)) , y = percentage, fill = sample.visitName)) +\n",
    "  geom_boxplot(width = .5, outlier.shape = '.') +\n",
    "  scale_x_discrete(name =\"AIFI_L3\", guide = guide_axis(angle = 90)) +\n",
    "  theme_bw(base_size = 12) +\n",
    "  geom_pwc(\n",
    "    aes(group = sample.visitName),\n",
    "    tip.length = 0, p.adjust.method = \"BH\",\n",
    "    method = \"wilcox_test\", label =\"{p.adj.signif}\", angle = 0, hide.ns = FALSE, label.size =10  # or \"panel\"\n",
    "  ) +\n",
    "  #facet_grid(cohort.cohortGuid ~ ., scales = \"free_y\", space = \"free_y\") +\n",
    "   scale_y_continuous(expand = expansion(mult = c(0.05, 0.15))) +\n",
    "  theme(text = element_text(size=30),)\n",
    "     # axis.text.x = element_text(size = 18, color = \"black\", angle = 90, hjust = 0.5, vjust = 0.5),\n",
    "        #axis.text.y = element_text(size = 18, color = \"black\"),\n",
    "        #axis.title.x = element_text(size = 18, color = \"black\"),\n",
    "        #axis.title.y = element_text(size = 18, color = \"black\"),\n",
    "       #legend.text = element_text(size = 13, color = \"black\"),  # Adjust the font size of legend text\n",
    "        #legend.title = element_text(size = 15, color = \"black\"))\n",
    "\n",
    "# Display the plot\n",
    "#print(p4)\n",
    "\n",
    "\n",
    "#Percentage CLR comparing Age WITHOUT CMV seperation\n",
    "p5 <- ggplot(result_yr1, aes(x = reorder(AIFI_L3, desc(percentage_clr)) , y = percentage_clr, fill = sample.visitName)) +\n",
    "  geom_boxplot(width = .5, outlier.shape = '.') +\n",
    "  scale_x_discrete(name =\"AIFI_L3\", guide = guide_axis(angle = 90)) +\n",
    "  theme_bw(base_size = 12) +\n",
    "  geom_pwc(\n",
    "    aes(group = sample.visitName),\n",
    "    tip.length = 0, p.adjust.method = \"BH\",\n",
    "    method = \"wilcox_test\", label =\"{p.adj.signif}\", angle = 0, hide.ns = FALSE, label.size =10  # or \"panel\"\n",
    "  ) +\n",
    "  #facet_grid(cohort.cohortGuid ~ ., scales = \"free_y\", space = \"free_y\") +\n",
    "   scale_y_continuous(expand = expansion(mult = c(0.05, 0.15))) +\n",
    "  theme(text = element_text(size=30, color = \"black\"))\n",
    "     # axis.text.x = element_text(size = 18, color = \"black\", angle = 90, hjust = 0.5, vjust = 0.5),\n",
    "        #axis.text.y = element_text(size = 18, color = \"black\"),\n",
    "        #axis.title.x = element_text(size = 18, color = \"black\"),\n",
    "        #axis.title.y = element_text(size = 18, color = \"black\"),\n",
    "       #legend.text = element_text(size = 13, color = \"black\"),  # Adjust the font size of legend text\n",
    "        #legend.title = element_text(size = 15, color = \"black\"))\n",
    "\n",
    "\n",
    "#print(p5)\n",
    "\n",
    "#Combine Plot\n",
    "library(cowplot)\n",
    "\n",
    "options(repr.plot.width = 50, repr.plot.height = 30)\n",
    "# Combine two plots vertically\n",
    "combined_plot <- plot_grid(p4, p5, labels = c(\"Frequency_Percentage\", \"Frequency_Percentage_CLR\"), ncol =1)\n",
    "\n",
    "combined_plot\n"
   ]
  },
  {
   "cell_type": "code",
   "execution_count": null,
   "id": "9e29b2eb-74ae-4722-9091-3e4c945c0aa4",
   "metadata": {
    "tags": []
   },
   "outputs": [],
   "source": [
    "# Percentage comparing Age WITHOUT CMV seperation\n",
    "\n",
    "#result_cohort <- result[result$CMV.IgG.Serology.Result.Interpretation == 'Negative', ]\n",
    "#result_cohort <- result[result$CMV.IgG.Serology.Result.Interpretation == 'Positive', ]\n",
    "\n",
    "stat_test<- result_yr2 %>%\n",
    "  select(percentage,percentage_clr, AIFI_L3, cohort.cohortGuid, CMV.IgG.Serology.Result.Interpretation, subject.biologicalSex, sample.visitName) %>%\n",
    "  unique(.) %>%\n",
    "  group_by(AIFI_L3) %>%\n",
    "  wilcox_test(percentage_clr ~ sample.visitName) %>%\n",
    "  adjust_pvalue(method = \"BH\") %>%\n",
    "  add_significance()\n",
    "#stat_test\n",
    "\n",
    "significant_cell_types <- stat_test %>%\n",
    "  filter(p.adj < 0.05) %>%\n",
    "  select(AIFI_L3, .y., p.adj, p.adj.signif) %>%\n",
    "  unique()\n",
    "\n",
    "print(significant_cell_types)\n",
    "\n",
    "# Create the plot\n",
    "#options(repr.plot.width = 35, repr.plot.height = 12)\n",
    "p4 <- ggplot(result_yr2, aes(x = reorder(AIFI_L3, desc(percentage)) , y = percentage, fill = sample.visitName)) +\n",
    "  geom_boxplot(width = .5, outlier.shape = '.') +\n",
    "  scale_x_discrete(name =\"AIFI_L3\", guide = guide_axis(angle = 90)) +\n",
    "  theme_bw(base_size = 12) +\n",
    "  geom_pwc(\n",
    "    aes(group = sample.visitName),\n",
    "    tip.length = 0, p.adjust.method = \"BH\",\n",
    "    method = \"wilcox_test\", label =\"{p.adj.signif}\", angle = 0, hide.ns = FALSE, label.size =10  # or \"panel\"\n",
    "  ) +\n",
    "  #facet_grid(cohort.cohortGuid ~ ., scales = \"free_y\", space = \"free_y\") +\n",
    "   scale_y_continuous(expand = expansion(mult = c(0.05, 0.15))) +\n",
    "  theme(text = element_text(size=30),)\n",
    "     # axis.text.x = element_text(size = 18, color = \"black\", angle = 90, hjust = 0.5, vjust = 0.5),\n",
    "        #axis.text.y = element_text(size = 18, color = \"black\"),\n",
    "        #axis.title.x = element_text(size = 18, color = \"black\"),\n",
    "        #axis.title.y = element_text(size = 18, color = \"black\"),\n",
    "       #legend.text = element_text(size = 13, color = \"black\"),  # Adjust the font size of legend text\n",
    "        #legend.title = element_text(size = 15, color = \"black\"))\n",
    "\n",
    "# Display the plot\n",
    "#print(p4)\n",
    "\n",
    "\n",
    "#Percentage CLR comparing Age WITHOUT CMV seperation\n",
    "p5 <- ggplot(result_yr2, aes(x = reorder(AIFI_L3, desc(percentage_clr)) , y = percentage_clr, fill = sample.visitName)) +\n",
    "  geom_boxplot(width = .5, outlier.shape = '.') +\n",
    "  scale_x_discrete(name =\"AIFI_L3\", guide = guide_axis(angle = 90)) +\n",
    "  theme_bw(base_size = 12) +\n",
    "  geom_pwc(\n",
    "    aes(group = sample.visitName),\n",
    "    tip.length = 0, p.adjust.method = \"BH\",\n",
    "    method = \"wilcox_test\", label =\"{p.adj.signif}\", angle = 0, hide.ns = FALSE, label.size =10  # or \"panel\"\n",
    "  ) +\n",
    "  #facet_grid(cohort.cohortGuid ~ ., scales = \"free_y\", space = \"free_y\") +\n",
    "   scale_y_continuous(expand = expansion(mult = c(0.05, 0.15))) +\n",
    "  theme(text = element_text(size=30, color = \"black\"))\n",
    "     # axis.text.x = element_text(size = 18, color = \"black\", angle = 90, hjust = 0.5, vjust = 0.5),\n",
    "        #axis.text.y = element_text(size = 18, color = \"black\"),\n",
    "        #axis.title.x = element_text(size = 18, color = \"black\"),\n",
    "        #axis.title.y = element_text(size = 18, color = \"black\"),\n",
    "       #legend.text = element_text(size = 13, color = \"black\"),  # Adjust the font size of legend text\n",
    "        #legend.title = element_text(size = 15, color = \"black\"))\n",
    "\n",
    "\n",
    "#print(p5)\n",
    "\n",
    "#Combine Plot\n",
    "library(cowplot)\n",
    "\n",
    "options(repr.plot.width = 50, repr.plot.height = 30)\n",
    "# Combine two plots vertically\n",
    "combined_plot <- plot_grid(p4, p5, labels = c(\"Frequency_Percentage\", \"Frequency_Percentage_CLR\"), ncol =1)\n",
    "\n",
    "combined_plot\n"
   ]
  },
  {
   "cell_type": "code",
   "execution_count": null,
   "id": "ef79388e-0014-4d2c-a04b-22414245290f",
   "metadata": {},
   "outputs": [],
   "source": []
  },
  {
   "cell_type": "markdown",
   "id": "1752418e-ec96-4e48-bd1b-151a388ced2b",
   "metadata": {},
   "source": [
    "## Wilcoxon signed rank test - Fix for Flu and Null Vax comparisons"
   ]
  },
  {
   "cell_type": "code",
   "execution_count": null,
   "id": "512486f1-975b-4b0f-8cd6-c67dd0cb20db",
   "metadata": {
    "tags": []
   },
   "outputs": [],
   "source": [
    "\n",
    "result <- filtered_flu_df %>%\n",
    "  dplyr::group_by(AIFI_L3, subject.subjectGuid, sample.visitName ) %>%               \n",
    "  dplyr::summarise(count = n()) %>%                  # Count occurrences\n",
    "  dplyr::group_by(subject.subjectGuid, sample.visitName) %>%                       \n",
    "  dplyr::mutate(percentage = (count / sum(count)) * 100) %>% \n",
    "  dplyr::group_by(subject.subjectGuid, sample.visitName) %>%     \n",
    "  dplyr::mutate(percentage_clr = clr_transform((percentage))) %>% # Group again by subjectGuid for CLR# Calculate percentage\n",
    "  dplyr::ungroup()\n",
    "\n",
    "head(result)\n",
    "\n"
   ]
  },
  {
   "cell_type": "code",
   "execution_count": null,
   "id": "3d63274f-0ebc-45a7-aff0-c715ab68c5fc",
   "metadata": {
    "tags": []
   },
   "outputs": [],
   "source": [
    "length(result$AIFI_L3)"
   ]
  },
  {
   "cell_type": "code",
   "execution_count": null,
   "id": "58f035ac-621e-4bba-9e1e-db5e0749ab9e",
   "metadata": {
    "tags": []
   },
   "outputs": [],
   "source": [
    "result<-left_join(result,unique(filtered_flu_df[c('cohort.cohortGuid','subject.subjectGuid','subject.biologicalSex', 'CMV.IgG.Serology.Result.Interpretation')]),by=c('subject.subjectGuid'))"
   ]
  },
  {
   "cell_type": "code",
   "execution_count": null,
   "id": "a1844350-69f6-43aa-b1f8-ce30e10072f4",
   "metadata": {
    "tags": []
   },
   "outputs": [],
   "source": [
    "result"
   ]
  },
  {
   "cell_type": "code",
   "execution_count": null,
   "id": "c0df0f8d-ef6d-4011-9e04-1ea3be3544ca",
   "metadata": {
    "tags": []
   },
   "outputs": [],
   "source": [
    "result_yr1 <- result %>% filter(sample.visitName == \"Flu Year 1 Day 0\" | sample.visitName == \"Flu Year 1 Day 7\")"
   ]
  },
  {
   "cell_type": "code",
   "execution_count": null,
   "id": "e32099e6-662c-4493-8cb3-0e6aff7f16f5",
   "metadata": {
    "tags": []
   },
   "outputs": [],
   "source": [
    "result_yr1\n",
    "#length(unique(result_yr1$subject.subjectGuid))"
   ]
  },
  {
   "cell_type": "code",
   "execution_count": null,
   "id": "fa2f4399-01f2-4ba5-814a-dbf8ea5833a6",
   "metadata": {
    "tags": []
   },
   "outputs": [],
   "source": [
    "# Check the structure of your data frame\n",
    "str(result_yr1)\n",
    "\n",
    "# Check the lengths of percentage and visitName within each group of AIFI_L3\n",
    "result_yr1 %>%\n",
    "  group_by(AIFI_L3) %>%\n",
    "  summarize(\n",
    "    percentage_length = length(percentage),\n",
    "    visitName_length = length(sample.visitName)\n",
    "  )\n"
   ]
  },
  {
   "cell_type": "code",
   "execution_count": null,
   "id": "2b3077fb-0a9d-4077-b91d-31593d645b0d",
   "metadata": {
    "tags": []
   },
   "outputs": [],
   "source": [
    "filtered_data <- result_yr1 %>%\n",
    "  group_by(AIFI_L3,subject.subjectGuid) %>%\n",
    "  filter(all(c(\"Flu Year 1 Day 0\", \"Flu Year 1 Day 7\") %in% sample.visitName))\n",
    "filtered_data"
   ]
  },
  {
   "cell_type": "code",
   "execution_count": null,
   "id": "56574a23-3cf4-4978-b486-7a163f04a496",
   "metadata": {
    "tags": []
   },
   "outputs": [],
   "source": [
    "#Samir sanity check (code review)\n",
    "\n",
    "stat_test<- filtered_data %>%\n",
    "  select(percentage,percentage_clr, AIFI_L3, cohort.cohortGuid, CMV.IgG.Serology.Result.Interpretation, subject.biologicalSex, sample.visitName) %>%\n",
    "  unique(.) %>%\n",
    "  group_by(AIFI_L3) %>%\n",
    "  wilcox_test(percentage_clr ~ sample.visitName, paired= TRUE) %>%\n",
    "  adjust_pvalue(method = \"BH\") %>%\n",
    "  add_significance()\n",
    "\n",
    "significant_cell_types <- stat_test %>%\n",
    "  filter(p.adj < 0.05) %>%\n",
    "  select(AIFI_L3, .y., p, p.adj, p.adj.signif) %>%\n",
    "  unique()\n",
    "\n",
    "print(significant_cell_types)\n",
    "\n",
    "\n",
    "filtered_data = data.table::data.table(filtered_data)\n",
    "plasma = filtered_data[AIFI_L3=='Plasma cell']\n",
    "\n",
    "wilcox.test(plasma$percentage_clr ~ plasma$sample.visitName, paired=T)"
   ]
  },
  {
   "cell_type": "code",
   "execution_count": null,
   "id": "7c098aae-7ec8-4241-a4f4-a1a06f5a1cbe",
   "metadata": {
    "tags": []
   },
   "outputs": [],
   "source": [
    "stat_test"
   ]
  },
  {
   "cell_type": "code",
   "execution_count": null,
   "id": "5954786d-d42d-46ef-a910-692bf41e775d",
   "metadata": {
    "tags": []
   },
   "outputs": [],
   "source": [
    "# Check unique combinations of AIFI_L3 and sample.visitName\n",
    "filtered_data %>%\n",
    "  group_by(AIFI_L3, sample.visitName) %>%\n",
    "  dplyr::summarize(n = n())\n"
   ]
  },
  {
   "cell_type": "code",
   "execution_count": null,
   "id": "2765bca9-90ab-4aca-b281-c46bb99bbed0",
   "metadata": {
    "tags": []
   },
   "outputs": [],
   "source": [
    "stat_test"
   ]
  },
  {
   "cell_type": "markdown",
   "id": "9e7108b9-f430-471b-b119-80767460f9e2",
   "metadata": {},
   "source": [
    "### Global Plot for Wilcox signed rank test (paired)"
   ]
  },
  {
   "cell_type": "code",
   "execution_count": null,
   "id": "e986cdfa-847a-4fcf-a9fd-8307f0595ad5",
   "metadata": {
    "tags": []
   },
   "outputs": [],
   "source": [
    "head(filtered_data)"
   ]
  },
  {
   "cell_type": "code",
   "execution_count": null,
   "id": "3bacd94a-6854-4e3e-ac81-03a26c7c7221",
   "metadata": {
    "tags": []
   },
   "outputs": [],
   "source": [
    "#stat test - percentage\n",
    "stat_test_1<- filtered_data %>%\n",
    "  select(percentage,percentage_clr, AIFI_L3, cohort.cohortGuid, CMV.IgG.Serology.Result.Interpretation, subject.biologicalSex, sample.visitName, subject.subjectGuid) %>%\n",
    "  unique(.) %>%\n",
    "  group_by(AIFI_L3) %>%\n",
    "  wilcox_test(percentage ~ sample.visitName, paired= TRUE) %>%\n",
    "  adjust_pvalue(method = \"BH\") %>%\n",
    "  add_significance() %>%\n",
    "  add_xy_position(x = \"sample.visitName\", dodge = 0.8)"
   ]
  },
  {
   "cell_type": "code",
   "execution_count": null,
   "id": "bec9c51e-ac79-4a55-a70a-f0092ca1da4c",
   "metadata": {
    "tags": []
   },
   "outputs": [],
   "source": [
    "head(stat_test_1)"
   ]
  },
  {
   "cell_type": "code",
   "execution_count": null,
   "id": "0240ea0a-d57e-4686-8f52-b1c3845b81ae",
   "metadata": {
    "tags": []
   },
   "outputs": [],
   "source": [
    "stat_test_1_test <- stat_test_1 %>% add_xy_position(x = \"percentage\")\n",
    "head(stat_test_1_test)"
   ]
  },
  {
   "cell_type": "code",
   "execution_count": null,
   "id": "4836e12a-3bcb-48cd-935f-a4a9da2be246",
   "metadata": {
    "tags": []
   },
   "outputs": [],
   "source": [
    "filtered_data %>% head()\n"
   ]
  },
  {
   "cell_type": "code",
   "execution_count": null,
   "id": "97677bc2-8f5f-4339-ad71-cbf7ddf1de6e",
   "metadata": {
    "tags": []
   },
   "outputs": [],
   "source": [
    "# Convert sample.visitName to a factor with a specified order (optional)\n",
    "filtered_data$sample.visitName <- factor(filtered_data$sample.visitName, levels = unique(filtered_data$sample.visitName))\n"
   ]
  },
  {
   "cell_type": "code",
   "execution_count": null,
   "id": "1a6d6c04-38ee-45d9-a526-b47ae35486d7",
   "metadata": {
    "tags": []
   },
   "outputs": [],
   "source": [
    "#stat test - percentage\n",
    "stat_test_1<- filtered_data %>%\n",
    "  select(percentage,percentage_clr, AIFI_L3, cohort.cohortGuid, CMV.IgG.Serology.Result.Interpretation, subject.biologicalSex, sample.visitName, subject.subjectGuid) %>%\n",
    "  unique(.) %>%\n",
    "  group_by(AIFI_L3) %>%\n",
    "  wilcox_test(percentage ~ sample.visitName, paired= TRUE) %>%\n",
    "  adjust_pvalue(method = \"BH\") %>%\n",
    "  add_significance() %>% add_xy_position(x= \"AIFI_L3\", fun = \"max\", comparisons = list(c(\"Flu Year 1 Day 0\", \"Flu Year 1 Day 7\"))) \n",
    "\n",
    "# significant_cell_types_1 <- stat_test_1 %>%\n",
    "#   filter(p.adj < 0.05) %>%\n",
    "#   select(AIFI_L3, .y., p.adj, p.adj.signif) %>%\n",
    "#   unique()\n",
    "\n",
    "# print(significant_cell_types_1)\n",
    "\n",
    "# Find the maximum y-value for positioning\n",
    "max_y <- max(filtered_data$percentage, na.rm = TRUE)\n",
    "transformed_max_y <- log10(max_y)\n",
    "buffer <- 0.2  # Adjust the buffer as needed\n",
    "\n",
    "#stat_pvalue_manual(stat_test_1, label = \"p.adj.signif\", tip.length = 0, \n",
    "                    # y.position = (transformed_max_y + buffer), size = 5)\n",
    "\n",
    "# Create the plot\n",
    "#options(repr.plot.width = 35, repr.plot.height = 12)\n",
    "p4 <- ggplot(filtered_data, aes(x = AIFI_L3 , y = percentage, color = sample.visitName )) +\n",
    "  geom_boxplot(width = 0.5, outlier.shape = '.', position = position_dodge(width = 0.75), size=1) +\n",
    "  scale_x_discrete(name =\"AIFI_L3\", guide = guide_axis(angle = 90)) +\n",
    "  theme_bw(base_size = 12) +\n",
    "  stat_pvalue_manual(stat_test_1, label = \"p.adj.signif\", tip.length = 0, y.position = (transformed_max_y + buffer), label.size=12) +\n",
    "  #scale_y_continuous(trans = 'log10', labels = scales::math_format(10^.x)) +\n",
    "  scale_y_log10(breaks = c(0.00001,0.0001,0.001,0.01,0.1,1,10,100))+\n",
    "  scale_color_manual(values = c(\"Flu Year 1 Day 0\" = \"#1b9e77\", \"Flu Year 1 Day 7\" = \"#d95f02\")) + \n",
    "  #facet_grid(cohort.cohortGuid ~ ., scales = \"free_y\", space = \"free_y\") +\n",
    "# scale_y_continuous(expand = expansion(mult = c(0.05, 0.15))) +\n",
    "  theme(text = element_text(size=45, color=\"black\"), \n",
    "      axis.text.x = element_text(color = \"black\"), \n",
    "      axis.text.y = element_text(color = \"black\"), \n",
    "      axis.title.x = element_text(color = \"black\"), \n",
    "      axis.title.y = element_text(color = \"black\"), \n",
    "      legend.text = element_text(color = \"black\"), \n",
    "      legend.title = element_text(color = \"black\"))+\n",
    "    ggtitle(\"Percentage\") + theme(plot.title = element_text(size = 35, hjust = 0.5, face = \"bold\"))\n",
    "     \n",
    "\n",
    "# Display the plot\n",
    "#print(p4)\n",
    "\n",
    "\n",
    "#stat test - CLR\n",
    "stat_test_2<- filtered_data %>%\n",
    "  select(percentage,percentage_clr, AIFI_L3, cohort.cohortGuid, CMV.IgG.Serology.Result.Interpretation, subject.biologicalSex, sample.visitName, subject.subjectGuid) %>%\n",
    "  unique(.) %>%\n",
    "  group_by(AIFI_L3) %>%\n",
    "  wilcox_test(percentage_clr ~ sample.visitName, paired= TRUE) %>%\n",
    "  adjust_pvalue(method = \"BH\") %>%\n",
    "  add_significance() %>% add_xy_position(x= \"AIFI_L3\", fun = \"max\", comparisons = list(c(\"Flu Year 1 Day 0\", \"Flu Year 1 Day 7\"))) \n",
    "\n",
    "# significant_cell_types_2 <- stat_test_2 %>%\n",
    "#   filter(p.adj < 0.05) %>%\n",
    "#   select(AIFI_L3, .y., p.adj, p.adj.signif) %>%\n",
    "#   unique()\n",
    "\n",
    "#print(significant_cell_types_2)\n",
    "\n",
    "\n",
    "# Create the plot\n",
    "#options(repr.plot.width = 35, repr.plot.height = 12)\n",
    "p5 <- ggplot(filtered_data, aes(x = AIFI_L3 , y = percentage_clr, color = sample.visitName )) +\n",
    "  geom_boxplot(width = 0.5, outlier.shape = '.', position = position_dodge(width = 0.75), size=1) +\n",
    "  scale_x_discrete(name =\"AIFI_L3\", guide = guide_axis(angle = 90)) +\n",
    "  theme_bw(base_size = 12) +\n",
    "  stat_pvalue_manual(stat_test_2, label = \"p.adj.signif\", tip.length=0, y.position = 10, label.size = 12)+\n",
    "  scale_color_manual(values = c(\"Flu Year 1 Day 0\" = \"#1b9e77\", \"Flu Year 1 Day 7\" = \"#d95f02\")) + # Adjust colors as needed +\n",
    "  #facet_grid(cohort.cohortGuid ~ ., scales = \"free_y\", space = \"free_y\") +\n",
    "  scale_y_continuous(expand = expansion(mult = c(0.05, 0.15))) +\n",
    "  theme(text = element_text(size=45, color=\"black\"), \n",
    "      axis.text.x = element_text(color = \"black\"), \n",
    "      axis.text.y = element_text(color = \"black\"), \n",
    "      axis.title.x = element_text(color = \"black\"), \n",
    "      axis.title.y = element_text(color = \"black\"), \n",
    "      legend.text = element_text(color = \"black\"), \n",
    "      legend.title = element_text(color = \"black\"))+\n",
    "     ggtitle(\"CLR\") + theme(plot.title = element_text(size = 35, hjust = 0.5, face = \"bold\"))\n",
    "\n",
    "# Display the plot\n",
    "#print(p2)\n",
    "\n",
    "library(cowplot)\n",
    "options(repr.plot.width = 60, repr.plot.height = 40)\n",
    "# Combine two plots vertically\n",
    "#combined_plot <- plot_grid(p1, p2, labels = c(\"CMV_neg\", \"CMV_pos\"), ncol =1, label_size = 20, vjust = 0)\n",
    "#combined_plot <- plot_grid(p1, p2, ncol=1,  nrow = 2, rel_heights = c(1, 2))\n",
    "\n",
    "stacked_plots <- plot_grid(p4 + theme(plot.margin = margin(b = 20)), p5, nrow = 2, rel_heights = c(1, 1))\n",
    "\n",
    "# Print the stacked plots\n",
    "stacked_plots\n",
    "\n",
    "\n",
    "# # Display the plot\n",
    "# print(p4)\n",
    "\n",
    "\n",
    "# #Combine Plot\n",
    "# library(cowplot)\n",
    "\n",
    "# options(repr.plot.width = 50, repr.plot.height = 30)\n",
    "# # Combine two plots vertically\n",
    "# combined_plot <- plot_grid(p4, p5, labels = c(\"Frequency_Percentage\", \"Frequency_Percentage_CLR\"), ncol =1)\n",
    "\n",
    "# combined_plot\n"
   ]
  },
  {
   "cell_type": "code",
   "execution_count": null,
   "id": "9c2f91fd-ca7f-4054-bcf7-a1fb451ae96d",
   "metadata": {
    "tags": []
   },
   "outputs": [],
   "source": [
    "# Box plot facetted by \"AIFI_L3\"\n",
    "p <- ggpaired(filtered_data, x = \"sample.visitName\", y = \"percentage\",\n",
    "          color = \"sample.visitName\", palette = \"jco\", \n",
    "          line.color = \"gray\", line.size = 0.4,\n",
    "          facet.by = \"AIFI_L3\", short.panel.labs = FALSE) + geom_line(aes(group = subject.subjectGuid))\n",
    "# Use only p.format as label. Remove method name.\n",
    "p + stat_compare_means(label = \"p.signif\", paired = TRUE)"
   ]
  },
  {
   "cell_type": "code",
   "execution_count": null,
   "id": "8363cf99-5188-4620-933e-c15d6785040b",
   "metadata": {
    "tags": []
   },
   "outputs": [],
   "source": [
    "head(filtered_data)"
   ]
  },
  {
   "cell_type": "markdown",
   "id": "8183318d-e75d-40af-9f0d-2a6a24ad7fab",
   "metadata": {},
   "source": [
    "### Global facet plots"
   ]
  },
  {
   "cell_type": "code",
   "execution_count": null,
   "id": "bc5226cb-3151-450a-8e00-06eb99b40dd9",
   "metadata": {
    "tags": []
   },
   "outputs": [],
   "source": [
    "# WORKS WELL!!!!! Perform Wilcoxon signed-rank test - for percentage\n",
    "# Y-scale : log10(percentage)\n",
    "stat_test_1 <- filtered_data %>%\n",
    "  select(percentage, percentage_clr, AIFI_L3, cohort.cohortGuid, CMV.IgG.Serology.Result.Interpretation, subject.biologicalSex, sample.visitName, subject.subjectGuid) %>%\n",
    "  unique() %>%\n",
    "  group_by(AIFI_L3) %>%\n",
    "  wilcox_test(percentage ~ sample.visitName, paired = TRUE) %>%\n",
    "  adjust_pvalue(method = \"BH\") %>%\n",
    "  add_significance() %>%\n",
    "  add_xy_position(x = \"AIFI_L3\", fun = \"max\")\n",
    "\n",
    "# Create the base plot with modified theme settings\n",
    "p <- ggplot(filtered_data, aes(x = sample.visitName, y = percentage)) + \n",
    "  geom_boxplot(aes(fill = sample.visitName), alpha = .2, ) +  # Faint gray and dotted line color\n",
    "  geom_line(aes(group = subject.subjectGuid), color = \"black\", linetype = \"dotted\") + \n",
    "  geom_point(size = 2) + \n",
    "  facet_wrap(~ AIFI_L3, scales = \"free\", drop= FALSE) +\n",
    "  scale_y_log10(breaks = c(0.00001,0.0001,0.001,0.01,0.1,1,10,100)) +\n",
    "  theme(\n",
    "    text = element_text(size = 35),  # Increase font size for all text elements\n",
    "    axis.title = element_text(size = 20),\n",
    "    axis.text.x = element_text(size = 20),# Increase font size for axis titles\n",
    "    legend.title = element_text(size = 20),  # Increase font size for legend title\n",
    "    legend.text = element_text(size = 18)  # Increase font size for legend text\n",
    "  )+\n",
    "  labs(y = \"Frequency (%)\")\n",
    "\n",
    "# Add p-values to the plot\n",
    "options(repr.plot.width = 70, repr.plot.height = 60)\n",
    "p + geom_text(data = stat_test_1, aes(label = paste(\"Wilcoxon_signed_rank_test_p.adj =\", p.adj.signif)),  \n",
    "              x = 1, y = Inf, hjust = 0.29, vjust = 1, size = 7, color = \"black\")  # Centered and larger p-value text\n"
   ]
  },
  {
   "cell_type": "code",
   "execution_count": null,
   "id": "8afa8311-aef6-4874-b0b2-5b276d2c691c",
   "metadata": {
    "tags": []
   },
   "outputs": [],
   "source": [
    "# WORKS WELL!!!!! Perform Wilcoxon signed-rank test - for percentage\n",
    "# Y-scale : Percentage\n",
    "stat_test_1 <- filtered_data %>%\n",
    "  select(percentage, percentage_clr, AIFI_L3, cohort.cohortGuid, CMV.IgG.Serology.Result.Interpretation, subject.biologicalSex, sample.visitName, subject.subjectGuid) %>%\n",
    "  unique() %>%\n",
    "  group_by(AIFI_L3) %>%\n",
    "  wilcox_test(percentage ~ sample.visitName, paired = TRUE) %>%\n",
    "  adjust_pvalue(method = \"BH\") %>%\n",
    "  add_significance() %>%\n",
    "  add_xy_position(x = \"AIFI_L3\", fun = \"max\")\n",
    "\n",
    "# Create the base plot with modified theme settings\n",
    "p <- ggplot(filtered_data, aes(x = sample.visitName, y = percentage)) + \n",
    "  geom_boxplot(aes(fill = sample.visitName), alpha = .2, ) +  # Faint gray and dotted line color\n",
    "  geom_line(aes(group = subject.subjectGuid), color = \"black\", linetype = \"dotted\") + \n",
    "  geom_point(size = 2) + \n",
    "  facet_wrap(~ AIFI_L3, scales = \"free\",drop= FALSE) +\n",
    "  theme(\n",
    "    text = element_text(size = 35),  # Increase font size for all text elements\n",
    "    axis.title = element_text(size = 20),\n",
    "    axis.text.x = element_text(size = 20),# Increase font size for axis titles\n",
    "    legend.title = element_text(size = 20),  # Increase font size for legend title\n",
    "    legend.text = element_text(size = 18)  # Increase font size for legend text\n",
    "  )+\n",
    "  labs(y = \"Percentage\")\n",
    "\n",
    "# Add p-values to the plot\n",
    "options(repr.plot.width = 70, repr.plot.height = 60)\n",
    "p + geom_text(data = stat_test_1, aes(label = paste(\"Wilcoxon_signed_rank_test_p.adj =\", p.adj.signif)),  \n",
    "              x = 1, y = Inf, hjust = 0.29, vjust = 1, size = 7, color = \"black\")\n"
   ]
  },
  {
   "cell_type": "code",
   "execution_count": null,
   "id": "6e194206-9065-4bf9-8a6a-31502b8f6676",
   "metadata": {
    "tags": []
   },
   "outputs": [],
   "source": [
    "# WORKS WELL!!!!! Perform Wilcoxon signed-rank test - for percentage\n",
    "# Y-scale : CLR\n",
    "stat_test_1 <- filtered_data %>%\n",
    "  select(percentage, percentage_clr, AIFI_L3, cohort.cohortGuid, CMV.IgG.Serology.Result.Interpretation, subject.biologicalSex, sample.visitName, subject.subjectGuid) %>%\n",
    "  unique() %>%\n",
    "  group_by(AIFI_L3) %>%\n",
    "  wilcox_test(percentage_clr ~ sample.visitName, paired = TRUE) %>%\n",
    "  adjust_pvalue(method = \"BH\") %>%\n",
    "  add_significance() %>%\n",
    "  add_xy_position(x = \"AIFI_L3\", fun = \"max\")\n",
    "\n",
    "p <- ggplot(filtered_data, aes(x = sample.visitName, y = percentage_clr)) + \n",
    "  geom_boxplot(aes(fill = sample.visitName), alpha = .2, ) +  # Faint gray and dotted line color\n",
    "  geom_line(aes(group = subject.subjectGuid), color = \"black\", linetype = \"dotted\") + \n",
    "  geom_point(size = 2) + \n",
    "  facet_wrap(~ AIFI_L3, scales = \"free\",drop= FALSE) +\n",
    "  theme(\n",
    "    text = element_text(size = 35),  # Increase font size for all text elements\n",
    "    axis.title = element_text(size = 35),\n",
    "    axis.text.x = element_text(size = 20),# Increase font size for axis titles\n",
    "    legend.title = element_text(size = 25),  # Increase font size for legend title\n",
    "    legend.text = element_text(size = 25)  # Increase font size for legend text\n",
    "  )+\n",
    "  labs(y = \"CLR\")\n",
    "\n",
    "# Add p-values to the plot\n",
    "options(repr.plot.width = 70, repr.plot.height = 60)\n",
    "p + geom_text(data = stat_test_1, aes(label = paste(\"Wilcoxon_signed_rank_test_p.adj =\", p.adj.signif)),  \n",
    "              x = 1, y = Inf, hjust = 0.29, vjust = 1, size = 7, color = \"black\")"
   ]
  },
  {
   "cell_type": "markdown",
   "id": "36d89369-6f82-4701-9dc2-e4dbc88ba923",
   "metadata": {},
   "source": [
    "### Global facet plots - B cells and Monocytes"
   ]
  },
  {
   "cell_type": "code",
   "execution_count": null,
   "id": "3575e12f-5725-4d13-a717-53689f392bee",
   "metadata": {
    "tags": []
   },
   "outputs": [],
   "source": [
    "merged_df <- inner_join(filtered_data, dict, by = 'AIFI_L3')"
   ]
  },
  {
   "cell_type": "code",
   "execution_count": null,
   "id": "20e6902a-3142-4b4b-a48c-837e4d33e125",
   "metadata": {
    "tags": []
   },
   "outputs": [],
   "source": [
    "head(merged_df)"
   ]
  },
  {
   "cell_type": "code",
   "execution_count": null,
   "id": "db454647-edd1-44d4-9f0b-ea2a058b2e88",
   "metadata": {
    "tags": []
   },
   "outputs": [],
   "source": [
    "# subset fro B cell and monocytes,  Perform Wilcoxon signed-rank test\n",
    "# Y-scale : log10(percentage)\n",
    "\n",
    "subset_data <- merged_df %>%\n",
    "  filter(AIFI_L1 %in% c(\"B cell\"))\n",
    "\n",
    "stat_test_1 <- subset_data %>%\n",
    "  select(percentage, percentage_clr, AIFI_L3, cohort.cohortGuid, CMV.IgG.Serology.Result.Interpretation, subject.biologicalSex, sample.visitName, subject.subjectGuid) %>%\n",
    "  unique() %>%\n",
    "  group_by(AIFI_L3) %>%\n",
    "  wilcox_test(percentage ~ sample.visitName, paired = TRUE) %>%\n",
    "  adjust_pvalue(method = \"BH\") %>%\n",
    "  add_significance() %>%\n",
    "  add_xy_position(x = \"AIFI_L3\", fun = \"max\")\n",
    "\n",
    "# Create the base plot with modified theme settings\n",
    "p <- ggplot(subset_data, aes(x = sample.visitName, y = percentage)) + \n",
    "  geom_boxplot(aes(fill = sample.visitName), alpha = .2, ) +  # Faint gray and dotted line color\n",
    "  geom_line(aes(group = subject.subjectGuid), color = \"black\", linetype = \"dotted\") + \n",
    "  geom_point(size = 2) + \n",
    "  facet_wrap(~ AIFI_L3, scales = \"free\", drop= FALSE) +\n",
    "  scale_y_log10(\n",
    "      breaks = c(0.00001,0.0001,0.001,0.01,0.1,1,10,100))+\n",
    "#      breaks =scales::trans_breaks('log10',function(x) 10^x),\n",
    " #     labels=scales::trans_format('log10',scales::math_format(10^.x))) +\n",
    "   theme(\n",
    "    text = element_text(size = 40, color= \"black\"),  # Increase font size for all text elements\n",
    "    axis.title = element_text(size = 40),  # Increase font size for axis titles\n",
    "    legend.title = element_text(size = 50),  # Increase font size for legend title\n",
    "    legend.text = element_text(size = 50)  # Increase font size for legend text\n",
    "  )  + labs(y = 'Frequency(%)')\n",
    "\n",
    "# Add p-values to the plot\n",
    "p + geom_text(data = stat_test_1, aes(label = paste(\"Wilcoxon paired test p =\", p.adj.signif)),  \n",
    "              x = 1, y = Inf, hjust = 0.1, vjust = 1, size = 10, color = \"black\")\n",
    "# Centered and larger p-value text\n"
   ]
  },
  {
   "cell_type": "code",
   "execution_count": null,
   "id": "a66b239a-f6be-4d0a-b74f-bff2f4632fde",
   "metadata": {
    "tags": []
   },
   "outputs": [],
   "source": [
    "# subset fro B cell and monocytes,  Perform Wilcoxon signed-rank test\n",
    "# Y-scale : percentage\n",
    "\n",
    "subset_data <- merged_df %>%\n",
    "  filter(AIFI_L1 %in% c(\"B cell\"))\n",
    "\n",
    "stat_test_1 <- subset_data %>%\n",
    "  select(percentage, percentage_clr, AIFI_L3, cohort.cohortGuid, CMV.IgG.Serology.Result.Interpretation, subject.biologicalSex, sample.visitName, subject.subjectGuid) %>%\n",
    "  unique() %>%\n",
    "  group_by(AIFI_L3) %>%\n",
    "  wilcox_test(percentage ~ sample.visitName, paired = TRUE) %>%\n",
    "  adjust_pvalue(method = \"BH\") %>%\n",
    "  add_significance() %>%\n",
    "  add_xy_position(x = \"AIFI_L3\", fun = \"max\")\n",
    "\n",
    "# Create the base plot with modified theme settings\n",
    "p <- ggplot(subset_data, aes(x = sample.visitName, y = percentage)) + \n",
    "  geom_boxplot(aes(fill = sample.visitName), alpha = .2, ) +  # Faint gray and dotted line color\n",
    "  geom_line(aes(group = subject.subjectGuid), color = \"black\", linetype = \"dotted\") + \n",
    "  geom_point(size = 2) + \n",
    "  facet_wrap(~ AIFI_L3, scales = \"free\", drop= FALSE) +\n",
    "  theme(\n",
    "    text = element_text(size = 40, color= \"black\"),  # Increase font size for all text elements\n",
    "    axis.title = element_text(size = 40),  # Increase font size for axis titles\n",
    "    legend.title = element_text(size = 50),  # Increase font size for legend title\n",
    "    legend.text = element_text(size = 50)  # Increase font size for legend text\n",
    "  ) + labs(y = \"percentage\")\n",
    "\n",
    "# Add p-values to the plot\n",
    "p + geom_text(data = stat_test_1, aes(label = paste(\"Wilcoxon signed rank test p.adj =\", p.adj.signif)),  \n",
    "              x = 1, y = Inf, hjust = 0.1, vjust = 1, size = 8, color = \"black\")  # Centered and larger p-value text\n"
   ]
  },
  {
   "cell_type": "code",
   "execution_count": null,
   "id": "608f351b-c484-49ef-a18c-ebfed01df436",
   "metadata": {
    "tags": []
   },
   "outputs": [],
   "source": [
    "# subset fro B cell and monocytes,  Perform Wilcoxon signed-rank test\n",
    "# Y-scale : percentage _CLR\n",
    "\n",
    "subset_data <- merged_df %>%\n",
    "  filter(AIFI_L1 %in% c(\"B cell\", \"Monocyte\"))\n",
    "\n",
    "stat_test_1 <- subset_data %>%\n",
    "  select(percentage, percentage_clr, AIFI_L3, cohort.cohortGuid, CMV.IgG.Serology.Result.Interpretation, subject.biologicalSex, sample.visitName, subject.subjectGuid) %>%\n",
    "  unique() %>%\n",
    "  group_by(AIFI_L3) %>%\n",
    "  wilcox_test(percentage_clr ~ sample.visitName, paired = TRUE) %>%\n",
    "  adjust_pvalue(method = \"BH\") %>%\n",
    "  add_significance() %>%\n",
    "  add_xy_position(x = \"AIFI_L3\", fun = \"max\")\n",
    "\n",
    "# Create the base plot with modified theme settings\n",
    "p <- ggplot(subset_data, aes(x = sample.visitName, y = percentage_clr)) + \n",
    "  geom_boxplot(aes(fill = sample.visitName), alpha = .2, ) +  # Faint gray and dotted line color\n",
    "  geom_line(aes(group = subject.subjectGuid), color = \"black\", linetype = \"dotted\") + \n",
    "  geom_point(size = 2) + \n",
    "  facet_wrap(~ AIFI_L3, scales = \"free\", drop= FALSE) +\n",
    "  theme(\n",
    "    text = element_text(size = 40, color= \"black\"),  # Increase font size for all text elements\n",
    "    axis.title = element_text(size = 40),  # Increase font size for axis titles\n",
    "    legend.title = element_text(size = 50),  # Increase font size for legend title\n",
    "    legend.text = element_text(size = 50)  # Increase font size for legend text\n",
    "  ) + labs(y = \"CLR\")\n",
    "\n",
    "# Add p-values to the plot\n",
    "p + geom_text(data = stat_test_1, aes(label = paste(\"Wilcoxon signed rank test p.adj =\", p.adj.signif)),  \n",
    "              x = 1, y = Inf, hjust = 0.1, vjust = 1, size = 8, color = \"black\")  # Centered and larger p-value text\n"
   ]
  },
  {
   "cell_type": "code",
   "execution_count": null,
   "id": "89b3bdc8-b194-40cb-b3ba-4e4508c4a184",
   "metadata": {
    "tags": []
   },
   "outputs": [],
   "source": [
    "\n",
    "\n",
    "# Perform Wilcoxon signed-rank test\n",
    "stat_test_1<- filtered_data %>%\n",
    "  select(percentage,percentage_clr, AIFI_L3, cohort.cohortGuid, CMV.IgG.Serology.Result.Interpretation, subject.biologicalSex, sample.visitName, subject.subjectGuid) %>%\n",
    "  unique(.) %>%\n",
    "  group_by(AIFI_L3) %>%\n",
    "  wilcox_test(percentage ~ sample.visitName, paired= TRUE) %>%\n",
    "  adjust_pvalue(method = \"BH\") %>%\n",
    "  add_significance() %>% add_xy_position(x= \"AIFI_L3\", fun = \"max\",) \n",
    "                                         #comparisons = list(c(\"Flu Year 1 Day 0\", \"Flu Year 1 Day 7\")))\n",
    "#stat_test_1\n",
    "\n",
    "# Create the base plot\n",
    "p <- ggplot(filtered_data, aes(x = sample.visitName, y = percentage)) + \n",
    "  geom_boxplot(aes(fill = sample.visitName), alpha = .2) +\n",
    "  geom_line(aes(group = subject.subjectGuid)) + \n",
    "  geom_point(size = 2) + \n",
    "  facet_wrap(~ AIFI_L3) +\n",
    "  scale_y_log10()\n",
    "\n",
    "# Add p-values to the plot\n",
    "p + geom_text(data = stat_test_1, aes(label = p.adj.signif),  x = 1, y = Inf, hjust = 1, vjust = 1, size = 5, color = \"black\")\n",
    "\n"
   ]
  },
  {
   "cell_type": "code",
   "execution_count": null,
   "id": "8e01b23b-4239-4fc4-8a4e-77f6defe6951",
   "metadata": {
    "tags": []
   },
   "outputs": [],
   "source": [
    "stat_test_1 %>% head()"
   ]
  },
  {
   "cell_type": "code",
   "execution_count": null,
   "id": "c929ae24-fdfa-4d46-96a0-3dabcc751f8e",
   "metadata": {
    "tags": []
   },
   "outputs": [],
   "source": [
    "stat_test_1_test %>% head()"
   ]
  },
  {
   "cell_type": "code",
   "execution_count": null,
   "id": "8cb2d62f-707d-480c-88be-c92e0b2b13d8",
   "metadata": {
    "tags": []
   },
   "outputs": [],
   "source": [
    "filtered_data %>% head()"
   ]
  },
  {
   "cell_type": "markdown",
   "id": "b10b8ff0-0180-4470-b548-2090311e7f22",
   "metadata": {},
   "source": [
    "# Split by Cohort"
   ]
  },
  {
   "cell_type": "code",
   "execution_count": null,
   "id": "4a2cfc21-1c06-4beb-a8e0-1a4617f68efa",
   "metadata": {
    "tags": []
   },
   "outputs": [],
   "source": [
    "head(result_yr1)\n",
    "unique(result_yr1$cohort.cohortGuid)"
   ]
  },
  {
   "cell_type": "code",
   "execution_count": null,
   "id": "1d03c1a0-c5cb-4f79-8d38-bd8bc7bb6404",
   "metadata": {
    "tags": []
   },
   "outputs": [],
   "source": [
    "# Percentage comparing Sex across BRI\n",
    "\n",
    "####################. BR1 ####################\n",
    "result_cohort <- result_yr1[result_yr1$cohort.cohortGuid == \"BR1\", ]\n",
    "\n",
    "#result_cohort <- result[result$CMV.IgG.Serology.Result.Interpretation == 'Positive', ]\n",
    "\n",
    "stat_test<- result_cohort %>%\n",
    "  select(percentage, AIFI_L3, cohort.cohortGuid, CMV.IgG.Serology.Result.Interpretation, subject.biologicalSex, sample.visitName ) %>%\n",
    "  unique(.) %>%\n",
    "  group_by(AIFI_L3) %>%\n",
    "  wilcox_test(percentage ~ sample.visitName) %>%\n",
    "  adjust_pvalue(method = \"BH\") %>%\n",
    "  add_significance()\n",
    "\n",
    "\n",
    "# Create the plot\n",
    "#options(repr.plot.width = 35, repr.plot.height = 12)\n",
    "p1 <- ggplot(result_cohort, aes(x = reorder(AIFI_L3, desc(percentage)) , y = percentage, fill = sample.visitName)) +\n",
    "  geom_boxplot(width = .5, outlier.shape = '.') +\n",
    "  scale_x_discrete(name =\"AIFI_L3\", guide = guide_axis(angle = 90)) +\n",
    "  theme_bw(base_size = 12) +\n",
    "  geom_pwc(\n",
    "    aes(group = sample.visitName),\n",
    "    tip.length = 0, p.adjust.method = \"BH\",\n",
    "    method = \"wilcox_test\", label =\"{p.adj.signif}\", angle = 0, hide.ns = FALSE, label.size =7  # or \"panel\"\n",
    "  ) +\n",
    "  #facet_grid(cohort.cohortGuid ~ ., scales = \"free_y\", space = \"free_y\") +\n",
    "  scale_y_continuous(expand = expansion(mult = c(0.05, 0.15))) +\n",
    "   scale_y_continuous(expand = expansion(mult = c(0.05, 0.15))) +\n",
    "  theme(axis.text.x = element_text(size = 18, color = \"black\", angle = 90, hjust = 0.5, vjust = 0.5),\n",
    "        axis.text.y = element_text(size = 18, color = \"black\"),\n",
    "        axis.title.x = element_text(size = 18, color = \"black\"),\n",
    "        axis.title.y = element_text(size = 18, color = \"black\"),\n",
    "       legend.text = element_text(size = 13, color = \"black\"),  # Adjust the font size of legend text\n",
    "        legend.title = element_text(size = 15, color = \"black\")) +\n",
    "   ggtitle(\"BR1\") + theme(plot.title = element_text(size = 25, hjust = 0.5, face = \"bold\"))\n",
    "\n",
    "# Display the plot\n",
    "#print(p1)\n",
    "\n",
    "\n",
    "####################.BR2 ####################\n",
    "result_cohort <- result_yr1[result_yr1$cohort.cohortGuid == \"BR2\", ]\n",
    "\n",
    "\n",
    "stat_test<- result_cohort %>%\n",
    "  select(percentage, AIFI_L3, cohort.cohortGuid, CMV.IgG.Serology.Result.Interpretation, subject.biologicalSex, sample.visitName) %>%\n",
    "  unique(.) %>%\n",
    "  group_by(AIFI_L3) %>%\n",
    "  wilcox_test(percentage ~ sample.visitName) %>%\n",
    "  adjust_pvalue(method = \"BH\") %>%\n",
    "  add_significance()\n",
    "\n",
    "\n",
    "# Create the plot\n",
    "#options(repr.plot.width = 35, repr.plot.height = 12)\n",
    "p2 <- ggplot(result_cohort, aes(x = reorder(AIFI_L3, desc(percentage)) , y = percentage, fill = sample.visitName)) +\n",
    "  geom_boxplot(width = .5, outlier.shape = '.') +\n",
    "  scale_x_discrete(name =\"AIFI_L3\", guide = guide_axis(angle = 90)) +\n",
    "  theme_bw(base_size = 12) +\n",
    "  geom_pwc(\n",
    "    aes(group = sample.visitName),\n",
    "    tip.length = 0, p.adjust.method = \"BH\",\n",
    "    method = \"wilcox_test\", label =\"{p.adj.signif}\", angle = 0, hide.ns = FALSE, label.size =7  # or \"panel\"\n",
    "  ) +\n",
    "  #facet_grid(cohort.cohortGuid ~ ., scales = \"free_y\", space = \"free_y\") +\n",
    "   scale_y_continuous(expand = expansion(mult = c(0.05, 0.15))) +\n",
    "  theme(axis.text.x = element_text(size = 18, color = \"black\", angle = 90, hjust = 0.5, vjust = 0.5),\n",
    "        axis.text.y = element_text(size = 18, color = \"black\"),\n",
    "        axis.title.x = element_text(size = 18, color = \"black\"),\n",
    "        axis.title.y = element_text(size = 18, color = \"black\"),\n",
    "       legend.text = element_text(size = 13, color = \"black\"),  # Adjust the font size of legend text\n",
    "        legend.title = element_text(size = 15, color = \"black\"))+\n",
    "  ggtitle(\"BR2\") + theme(plot.title = element_text(size = 25, hjust = 0.5, face = \"bold\"))\n",
    "\n",
    "# Display the plot\n",
    "#print(p2)\n",
    "\n",
    "library(cowplot)\n",
    "options(repr.plot.width = 40, repr.plot.height = 25)\n",
    "# Combine two plots vertically\n",
    "#combined_plot <- plot_grid(p1, p2, labels = c(\"CMV_neg\", \"CMV_pos\"), ncol =1, label_size = 20, vjust = 0)\n",
    "#combined_plot <- plot_grid(p1, p2, ncol=1,  nrow = 2, rel_heights = c(1, 2))\n",
    "\n",
    "stacked_plots <- plot_grid(p1 + theme(plot.margin = margin(b = 20)), p2, nrow = 2, rel_heights = c(1, 1))\n",
    "\n",
    "# Print the stacked plots\n",
    "stacked_plots\n",
    "\n",
    "\n",
    "#combined_plot\n",
    "\n"
   ]
  },
  {
   "cell_type": "code",
   "execution_count": null,
   "id": "79eeb374-eee5-4211-838b-18f5c9c1b18a",
   "metadata": {
    "tags": []
   },
   "outputs": [],
   "source": [
    "#stat test - percentage\n",
    "\n",
    "####################. BR1 ####################\n",
    "result_cohort <- filtered_data[filtered_data$cohort.cohortGuid == \"BR1\", ]\n",
    "\n",
    "stat_test_1<- result_cohort %>%\n",
    "  select(percentage,percentage_clr, AIFI_L3, cohort.cohortGuid, CMV.IgG.Serology.Result.Interpretation, subject.biologicalSex, sample.visitName, subject.subjectGuid) %>%\n",
    "  unique(.) %>%\n",
    "  group_by(AIFI_L3) %>%\n",
    "  wilcox_test(percentage ~ sample.visitName, paired= TRUE) %>%\n",
    "  adjust_pvalue(method = \"BH\") %>%\n",
    "  add_significance() %>% add_xy_position(x= \"AIFI_L3\", fun = \"max\", comparisons = list(c(\"Flu Year 1 Day 0\", \"Flu Year 1 Day 7\"))) \n",
    "\n",
    "significant_cell_types_1 <- stat_test_1 %>%\n",
    "  filter(p.adj < 0.05) %>%\n",
    "  select(AIFI_L3, .y., p.adj, p.adj.signif) %>%\n",
    "  unique()\n",
    "\n",
    "print(significant_cell_types_1)\n",
    "\n",
    "# Find the maximum y-value for positioning\n",
    "max_y <- max(filtered_data$percentage, na.rm = TRUE)\n",
    "transformed_max_y <- log10(max_y)\n",
    "buffer <- 0.2  # Adjust the buffer as needed\n",
    "\n",
    "#stat_pvalue_manual(stat_test_1, label = \"p.adj.signif\", tip.length = 0, \n",
    "                    # y.position = (transformed_max_y + buffer), size = 5)\n",
    "\n",
    "# Create the plot\n",
    "#options(repr.plot.width = 35, repr.plot.height = 12)\n",
    "p4 <- ggplot(filtered_data, aes(x = AIFI_L3 , y = percentage, color = sample.visitName )) +\n",
    "  geom_boxplot(width = 0.5, outlier.shape = '.', position = position_dodge(width = 0.75), size=1) +\n",
    "  scale_x_discrete(name =\"AIFI_L3\", guide = guide_axis(angle = 90)) +\n",
    "  theme_bw(base_size = 12) +\n",
    "  stat_pvalue_manual(stat_test_1, label = \"p.adj.signif\", tip.length = 0, y.position = (transformed_max_y + buffer), label.size=12) +\n",
    "  #scale_y_continuous(trans = 'log10', labels = scales::math_format(10^.x)) +\n",
    "  scale_y_log10()+\n",
    "  scale_color_manual(values = c(\"Flu Year 1 Day 0\" = \"#1b9e77\", \"Flu Year 1 Day 7\" = \"#d95f02\")) + \n",
    "  #facet_grid(cohort.cohortGuid ~ ., scales = \"free_y\", space = \"free_y\") +\n",
    "# scale_y_continuous(expand = expansion(mult = c(0.05, 0.15))) +\n",
    "  theme(text = element_text(size=45, color=\"black\"), \n",
    "      axis.text.x = element_text(color = \"black\"), \n",
    "      axis.text.y = element_text(color = \"black\"), \n",
    "      axis.title.x = element_text(color = \"black\"), \n",
    "      axis.title.y = element_text(color = \"black\"), \n",
    "      legend.text = element_text(color = \"black\"), \n",
    "      legend.title = element_text(color = \"black\"))+\n",
    "    ggtitle(\"BR1\") + theme(plot.title = element_text(size = 35, hjust = 0.5, face = \"bold\"))\n",
    "     \n",
    "\n",
    "# Display the plot\n",
    "#print(p4)\n",
    "####################. BR1 ####################\n",
    "result_cohort <- filtered_data[filtered_data$cohort.cohortGuid == \"BR2\", ]\n",
    "\n",
    "stat_test_2<- result_cohort %>%\n",
    "  select(percentage,percentage_clr, AIFI_L3, cohort.cohortGuid, CMV.IgG.Serology.Result.Interpretation, subject.biologicalSex, sample.visitName, subject.subjectGuid) %>%\n",
    "  unique(.) %>%\n",
    "  group_by(AIFI_L3) %>%\n",
    "  wilcox_test(percentage~ sample.visitName, paired= TRUE) %>%\n",
    "  adjust_pvalue(method = \"BH\") %>%\n",
    "  add_significance() %>% add_xy_position(x= \"AIFI_L3\", fun = \"max\", comparisons = list(c(\"Flu Year 1 Day 0\", \"Flu Year 1 Day 7\"))) \n",
    "\n",
    "significant_cell_types_2 <- stat_test_2 %>%\n",
    "  filter(p.adj < 0.05) %>%\n",
    "  select(AIFI_L3, .y., p.adj, p.adj.signif) %>%\n",
    "  unique()\n",
    "\n",
    "print(significant_cell_types_2)\n",
    "\n",
    "\n",
    "# Find the maximum y-value for positioning\n",
    "max_y <- max(filtered_data$percentage, na.rm = TRUE)\n",
    "transformed_max_y <- log10(max_y)\n",
    "buffer <- 0.2  # Adjust the buffer as needed\n",
    "\n",
    "# Create the plot\n",
    "#options(repr.plot.width = 35, repr.plot.height = 12)\n",
    "p5 <- ggplot(filtered_data, aes(x = AIFI_L3 , y = percentage, color = sample.visitName )) +\n",
    "  geom_boxplot(width = 0.5, outlier.shape = '.', position = position_dodge(width = 0.75), size=1) +\n",
    "  scale_x_discrete(name =\"AIFI_L3\", guide = guide_axis(angle = 90)) +\n",
    "  theme_bw(base_size = 12) +\n",
    "  stat_pvalue_manual(stat_test_2, label = \"p.adj.signif\", tip.length=0, y.position = (transformed_max_y + buffer), label.size = 12)+\n",
    "  scale_color_manual(values = c(\"Flu Year 1 Day 0\" = \"#1b9e77\", \"Flu Year 1 Day 7\" = \"#d95f02\")) + \n",
    "  scale_y_log10()+\n",
    "  #facet_grid(cohort.cohortGuid ~ ., scales = \"free_y\", space = \"free_y\") +\n",
    "  #scale_y_continuous(expand = expansion(mult = c(0.05, 0.15))) +\n",
    "  theme(text = element_text(size=45, color=\"black\"), \n",
    "      axis.text.x = element_text(color = \"black\"), \n",
    "      axis.text.y = element_text(color = \"black\"), \n",
    "      axis.title.x = element_text(color = \"black\"), \n",
    "      axis.title.y = element_text(color = \"black\"), \n",
    "      legend.text = element_text(color = \"black\"), \n",
    "      legend.title = element_text(color = \"black\"))+\n",
    "     ggtitle(\"BR2\") + theme(plot.title = element_text(size = 35, hjust = 0.5, face = \"bold\"))\n",
    "\n",
    "# Display the plot\n",
    "#print(p2)\n",
    "\n",
    "library(cowplot)\n",
    "options(repr.plot.width = 60, repr.plot.height = 40)\n",
    "# Combine two plots vertically\n",
    "#combined_plot <- plot_grid(p1, p2, labels = c(\"CMV_neg\", \"CMV_pos\"), ncol =1, label_size = 20, vjust = 0)\n",
    "#combined_plot <- plot_grid(p1, p2, ncol=1,  nrow = 2, rel_heights = c(1, 2))\n",
    "\n",
    "stacked_plots <- plot_grid(p4 + theme(plot.margin = margin(b = 20)), p5, nrow = 2, rel_heights = c(1, 1))\n",
    "\n",
    "# Print the stacked plots\n",
    "stacked_plots\n",
    "\n",
    "\n",
    "# # Display the plot\n",
    "# print(p4)\n",
    "\n",
    "\n",
    "# #Combine Plot\n",
    "# library(cowplot)\n",
    "\n",
    "# options(repr.plot.width = 50, repr.plot.height = 30)\n",
    "# # Combine two plots vertically\n",
    "# combined_plot <- plot_grid(p4, p5, labels = c(\"Frequency_Percentage\", \"Frequency_Percentage_CLR\"), ncol =1)\n",
    "\n",
    "# combined_plot\n"
   ]
  },
  {
   "cell_type": "code",
   "execution_count": null,
   "id": "020dd69d-abe0-4be6-8087-bc3b7abc55a2",
   "metadata": {
    "tags": []
   },
   "outputs": [],
   "source": [
    "#stat test - CLR\n",
    "\n",
    "####################. BR1 ####################\n",
    "result_cohort <- filtered_data[filtered_data$cohort.cohortGuid == \"BR1\", ]\n",
    "\n",
    "stat_test_1<- result_cohort %>%\n",
    "  select(percentage,percentage_clr, AIFI_L3, cohort.cohortGuid, CMV.IgG.Serology.Result.Interpretation, subject.biologicalSex, sample.visitName, subject.subjectGuid) %>%\n",
    "  unique(.) %>%\n",
    "  group_by(AIFI_L3) %>%\n",
    "  wilcox_test(percentage_clr ~ sample.visitName, paired= TRUE) %>%\n",
    "  adjust_pvalue(method = \"BH\") %>%\n",
    "  add_significance() %>% add_xy_position(x= \"AIFI_L3\", fun = \"max\", comparisons = list(c(\"Flu Year 1 Day 0\", \"Flu Year 1 Day 7\"))) \n",
    "\n",
    "significant_cell_types_1 <- stat_test_1 %>%\n",
    "  filter(p.adj < 0.05) %>%\n",
    "  select(AIFI_L3, .y., p.adj, p.adj.signif) %>%\n",
    "  unique()\n",
    "\n",
    "print(significant_cell_types_1)\n",
    "\n",
    "# Find the maximum y-value for positioning\n",
    "max_y <- max(filtered_data$percentage_clr, na.rm = TRUE)\n",
    "transformed_max_y <- log10(max_y)\n",
    "buffer <- 0.2  # Adjust the buffer as needed\n",
    "\n",
    "#stat_pvalue_manual(stat_test_1, label = \"p.adj.signif\", tip.length = 0, \n",
    "                    # y.position = (transformed_max_y + buffer), size = 5)\n",
    "\n",
    "# Create the plot\n",
    "#options(repr.plot.width = 35, repr.plot.height = 12)\n",
    "p4 <- ggplot(filtered_data, aes(x = AIFI_L3 , y = percentage_clr, color = sample.visitName )) +\n",
    "  geom_boxplot(width = 0.5, outlier.shape = '.', position = position_dodge(width = 0.75), size=1) +\n",
    "  scale_x_discrete(name =\"AIFI_L3\", guide = guide_axis(angle = 90)) +\n",
    "  theme_bw(base_size = 12) +\n",
    "  stat_pvalue_manual(stat_test_1, label = \"p.adj.signif\", tip.length = 0, y.position = (max_y + buffer), label.size=12) +\n",
    "  #scale_y_continuous(trans = 'log10', labels = scales::math_format(10^.x)) +\n",
    "  scale_color_manual(values = c(\"Flu Year 1 Day 0\" = \"#1b9e77\", \"Flu Year 1 Day 7\" = \"#d95f02\")) + \n",
    "  #facet_grid(cohort.cohortGuid ~ ., scales = \"free_y\", space = \"free_y\") +\n",
    "# scale_y_continuous(expand = expansion(mult = c(0.05, 0.15))) +\n",
    "  theme(text = element_text(size=45, color=\"black\"), \n",
    "      axis.text.x = element_text(color = \"black\"), \n",
    "      axis.text.y = element_text(color = \"black\"), \n",
    "      axis.title.x = element_text(color = \"black\"), \n",
    "      axis.title.y = element_text(color = \"black\"), \n",
    "      legend.text = element_text(color = \"black\"), \n",
    "      legend.title = element_text(color = \"black\"))+\n",
    "    ggtitle(\"BR1\") + theme(plot.title = element_text(size = 35, hjust = 0.5, face = \"bold\"))\n",
    "     \n",
    "\n",
    "# Display the plot\n",
    "#print(p4)\n",
    "####################. BR1 ####################\n",
    "result_cohort <- filtered_data[filtered_data$cohort.cohortGuid == \"BR2\", ]\n",
    "\n",
    "stat_test_2<- result_cohort %>%\n",
    "  select(percentage,percentage_clr, AIFI_L3, cohort.cohortGuid, CMV.IgG.Serology.Result.Interpretation, subject.biologicalSex, sample.visitName, subject.subjectGuid) %>%\n",
    "  unique(.) %>%\n",
    "  group_by(AIFI_L3) %>%\n",
    "  wilcox_test(percentage_clr~ sample.visitName, paired= TRUE) %>%\n",
    "  adjust_pvalue(method = \"BH\") %>%\n",
    "  add_significance() %>% add_xy_position(x= \"AIFI_L3\", fun = \"max\", comparisons = list(c(\"Flu Year 1 Day 0\", \"Flu Year 1 Day 7\"))) \n",
    "\n",
    "significant_cell_types_2 <- stat_test_2 %>%\n",
    "  filter(p.adj < 0.05) %>%\n",
    "  select(AIFI_L3, .y., p.adj, p.adj.signif) %>%\n",
    "  unique()\n",
    "\n",
    "print(significant_cell_types_2)\n",
    "\n",
    "\n",
    "# Find the maximum y-value for positioning\n",
    "max_y <- max(filtered_data$percentage_clr, na.rm = TRUE)\n",
    "transformed_max_y <- log10(max_y)\n",
    "buffer <- 0.2  # Adjust the buffer as needed\n",
    "\n",
    "# Create the plot\n",
    "#options(repr.plot.width = 35, repr.plot.height = 12)\n",
    "p5 <- ggplot(filtered_data, aes(x = AIFI_L3 , y = percentage_clr, color = sample.visitName )) +\n",
    "  geom_boxplot(width = 0.5, outlier.shape = '.', position = position_dodge(width = 0.75), size=1) +\n",
    "  scale_x_discrete(name =\"AIFI_L3\", guide = guide_axis(angle = 90)) +\n",
    "  theme_bw(base_size = 12) +\n",
    "  stat_pvalue_manual(stat_test_2, label = \"p.adj.signif\", tip.length=0, y.position = (max_y + buffer), label.size = 12)+\n",
    "  scale_color_manual(values = c(\"Flu Year 1 Day 0\" = \"#1b9e77\", \"Flu Year 1 Day 7\" = \"#d95f02\")) + \n",
    "  #facet_grid(cohort.cohortGuid ~ ., scales = \"free_y\", space = \"free_y\") +\n",
    "  #scale_y_continuous(expand = expansion(mult = c(0.05, 0.15))) +\n",
    "  theme(text = element_text(size=45, color=\"black\"), \n",
    "      axis.text.x = element_text(color = \"black\"), \n",
    "      axis.text.y = element_text(color = \"black\"), \n",
    "      axis.title.x = element_text(color = \"black\"), \n",
    "      axis.title.y = element_text(color = \"black\"), \n",
    "      legend.text = element_text(color = \"black\"), \n",
    "      legend.title = element_text(color = \"black\"))+\n",
    "     ggtitle(\"BR2\") + theme(plot.title = element_text(size = 35, hjust = 0.5, face = \"bold\"))\n",
    "\n",
    "# Display the plot\n",
    "#print(p2)\n",
    "\n",
    "library(cowplot)\n",
    "options(repr.plot.width = 60, repr.plot.height = 40)\n",
    "# Combine two plots vertically\n",
    "#combined_plot <- plot_grid(p1, p2, labels = c(\"CMV_neg\", \"CMV_pos\"), ncol =1, label_size = 20, vjust = 0)\n",
    "#combined_plot <- plot_grid(p1, p2, ncol=1,  nrow = 2, rel_heights = c(1, 2))\n",
    "\n",
    "stacked_plots <- plot_grid(p4 + theme(plot.margin = margin(b = 20)), p5, nrow = 2, rel_heights = c(1, 1))\n",
    "\n",
    "# Print the stacked plots\n",
    "stacked_plots\n",
    "\n",
    "\n",
    "# # Display the plot\n",
    "# print(p4)\n",
    "\n",
    "\n",
    "# #Combine Plot\n",
    "# library(cowplot)\n",
    "\n",
    "# options(repr.plot.width = 50, repr.plot.height = 30)\n",
    "# # Combine two plots vertically\n",
    "# combined_plot <- plot_grid(p4, p5, labels = c(\"Frequency_Percentage\", \"Frequency_Percentage_CLR\"), ncol =1)\n",
    "\n",
    "# combined_plot\n"
   ]
  },
  {
   "cell_type": "code",
   "execution_count": null,
   "id": "7c1a9b0f-1ad4-4794-b4db-fed7ed1c4798",
   "metadata": {
    "tags": []
   },
   "outputs": [],
   "source": [
    "# WIlcoxon PAIRED TEST (GIving it a try)\n",
    "library(ggpubr)\n",
    "####################. BR1 ####################\n",
    "result_cohort <- result_yr1[result_yr1$cohort.cohortGuid == \"BR1\", ]\n",
    "\n",
    "#result_cohort <- result[result$CMV.IgG.Serology.Result.Interpretation == 'Positive', ]\n",
    "\n",
    "\n",
    "# Perform paired Wilcoxon signed-rank test\n",
    "# Convert sample.visitName to factor if it's not already\n",
    "result_cohort$sample.visitName <- as.factor(result_cohort$sample.visitName)\n",
    "\n",
    "# Ensure result_cohort$percentage is numeric\n",
    "result_cohort$percentage <- as.numeric(result_cohort$AIFI_L3)\n",
    "\n",
    "# Perform paired Wilcoxon signed-rank test\n",
    "paired_test_results <- pairwise.wilcox.test(result_cohort$percentage, result_cohort$sample.visitName, p.adjust.method = \"BH\")\n",
    "\n",
    "print(paired_test_results)\n",
    "# stat_test<- result_cohort %>%\n",
    "#   select(percentage, AIFI_L3, cohort.cohortGuid, CMV.IgG.Serology.Result.Interpretation, subject.biologicalSex, sample.visitName ) %>%\n",
    "#   unique(.) %>%\n",
    "#   group_by(AIFI_L3) %>%\n",
    "#   wilcox_test(percentage ~ sample.visitName) %>%\n",
    "#   adjust_pvalue(method = \"BH\") %>%\n",
    "#   add_significance()\n",
    "\n",
    "\n",
    "# Create the plot\n",
    "options(repr.plot.width = 35, repr.plot.height = 12)\n",
    "p1 <- ggplot(result_cohort, aes(x = reorder(AIFI_L3, desc(percentage)), y = percentage, fill = sample.visitName)) +\n",
    "  geom_boxplot(width = .5, outlier.shape = '.') +\n",
    "  scale_x_discrete(name = \"AIFI_L3\", guide = guide_axis(angle = 90)) +\n",
    "  theme_bw(base_size = 12) +\n",
    "  geom_signif(data = paired_test_results, aes(y_position = c(80, 85), \n",
    "                                              annotations = p.adj.signif), \n",
    "              textsize = 7, hide.ns = TRUE) +  # Perform paired comparison annotations\n",
    "  scale_y_continuous(expand = expansion(mult = c(0.05, 0.15))) +\n",
    "  theme(axis.text.x = element_text(size = 18, color = \"black\", angle = 90, hjust = 0.5, vjust = 0.5),\n",
    "        axis.text.y = element_text(size = 18, color = \"black\"),\n",
    "        axis.title.x = element_text(size = 18, color = \"black\"),\n",
    "        axis.title.y = element_text(size = 18, color = \"black\"),\n",
    "        legend.text = element_text(size = 13, color = \"black\"),\n",
    "        legend.title = element_text(size = 15, color = \"black\")) +\n",
    "  ggtitle(\"BR1\") + \n",
    "  theme(plot.title = element_text(size = 25, hjust = 0.5, face = \"bold\"))\n",
    "\n",
    "# Display the plot\n",
    "print(p1)\n",
    "\n",
    "\n",
    "\n",
    "\n",
    "\n",
    "\n",
    "\n",
    "# library(ggpubr)\n",
    "\n",
    "# p1 <- ggplot(result_cohort, aes(x = reorder(AIFI_L3, desc(percentage)), y = percentage, fill = sample.visitName)) +\n",
    "#   geom_boxplot(width = .5, outlier.shape = '.') +\n",
    "#   scale_x_discrete(name = \"AIFI_L3\", guide = guide_axis(angle = 90)) +\n",
    "#   theme_bw(base_size = 12) +\n",
    "#   geom_signif(test=\"wilcox.test\", comparisons = list(c(\"Flu Year 1 Day 0\", \"Flu Year 1 Day 7\")), \n",
    "#               textsize = 7, hide.ns = FALSE) +  # Perform paired comparison annotations\n",
    "#   scale_y_continuous(expand = expansion(mult = c(0.05, 0.15))) +\n",
    "#   theme(axis.text.x = element_text(size = 18, color = \"black\", angle = 90, hjust = 0.5, vjust = 0.5),\n",
    "#         axis.text.y = element_text(size = 18, color = \"black\"),\n",
    "#         axis.title.x = element_text(size = 18, color = \"black\"),\n",
    "#         axis.title.y = element_text(size = 18, color = \"black\"),\n",
    "#         legend.text = element_text(size = 13, color = \"black\"),\n",
    "#         legend.title = element_text(size = 15, color = \"black\")) +\n",
    "#   ggtitle(\"BR1\") + \n",
    "#   theme(plot.title = element_text(size = 25, hjust = 0.5, face = \"bold\"))\n",
    "# # Display the plot\n",
    "# print(p1)\n",
    "\n",
    "\n",
    "\n",
    "####################.BR2 ####################\n",
    "# result_cohort <- result_yr1[result_yr1$cohort.cohortGuid == \"BR2\", ]\n",
    "\n",
    "\n",
    "# stat_test<- result_cohort %>%\n",
    "#   select(percentage, AIFI_L3, cohort.cohortGuid, CMV.IgG.Serology.Result.Interpretation, subject.biologicalSex, sample.visitName) %>%\n",
    "#   unique(.) %>%\n",
    "#   group_by(AIFI_L3) %>%\n",
    "#   wilcox_test(percentage ~ sample.visitName) %>%\n",
    "#   adjust_pvalue(method = \"BH\") %>%\n",
    "#   add_significance()\n",
    "\n",
    "\n",
    "# # Create the plot\n",
    "# #options(repr.plot.width = 35, repr.plot.height = 12)\n",
    "# p2 <- ggplot(result_cohort, aes(x = reorder(AIFI_L3, desc(percentage)) , y = percentage, fill = sample.visitName)) +\n",
    "#   geom_boxplot(width = .5, outlier.shape = '.') +\n",
    "#   scale_x_discrete(name =\"AIFI_L3\", guide = guide_axis(angle = 90)) +\n",
    "#   theme_bw(base_size = 12) +\n",
    "#   geom_pwc(\n",
    "#     aes(group = sample.visitName),\n",
    "#     tip.length = 0, p.adjust.method = \"BH\",\n",
    "#     method = \"wilcox_test\", label =\"{p.adj.signif}\", angle = 0, hide.ns = FALSE, label.size =7  # or \"panel\"\n",
    "#   ) +\n",
    "#   #facet_grid(cohort.cohortGuid ~ ., scales = \"free_y\", space = \"free_y\") +\n",
    "#    scale_y_continuous(expand = expansion(mult = c(0.05, 0.15))) +\n",
    "#   theme(axis.text.x = element_text(size = 18, color = \"black\", angle = 90, hjust = 0.5, vjust = 0.5),\n",
    "#         axis.text.y = element_text(size = 18, color = \"black\"),\n",
    "#         axis.title.x = element_text(size = 18, color = \"black\"),\n",
    "#         axis.title.y = element_text(size = 18, color = \"black\"),\n",
    "#        legend.text = element_text(size = 13, color = \"black\"),  # Adjust the font size of legend text\n",
    "#         legend.title = element_text(size = 15, color = \"black\"))+\n",
    "#   ggtitle(\"BR2\") + theme(plot.title = element_text(size = 25, hjust = 0.5, face = \"bold\"))\n",
    "\n",
    "# # Display the plot\n",
    "# #print(p2)\n",
    "\n",
    "# library(cowplot)\n",
    "# options(repr.plot.width = 40, repr.plot.height = 25)\n",
    "# # Combine two plots vertically\n",
    "# #combined_plot <- plot_grid(p1, p2, labels = c(\"CMV_neg\", \"CMV_pos\"), ncol =1, label_size = 20, vjust = 0)\n",
    "# #combined_plot <- plot_grid(p1, p2, ncol=1,  nrow = 2, rel_heights = c(1, 2))\n",
    "\n",
    "# stacked_plots <- plot_grid(p1 + theme(plot.margin = margin(b = 20)), p2, nrow = 2, rel_heights = c(1, 1))\n",
    "\n",
    "# # Print the stacked plots\n",
    "# stacked_plots\n",
    "\n",
    "\n",
    "#combined_plot\n",
    "\n"
   ]
  },
  {
   "cell_type": "code",
   "execution_count": null,
   "id": "6aa7a81e-6377-4509-9cd4-6c3d1653ed03",
   "metadata": {
    "tags": []
   },
   "outputs": [],
   "source": [
    "# CLR comparing Sex across BRI\n",
    "\n",
    "####################. BR1 ####################\n",
    "result_cohort <- result_yr1[result_yr1$cohort.cohortGuid == \"BR1\", ]\n",
    "\n",
    "#result_cohort <- result[result$CMV.IgG.Serology.Result.Interpretation == 'Positive', ]\n",
    "\n",
    "stat_test<- result_cohort %>%\n",
    "  select(percentage_clr, AIFI_L3, cohort.cohortGuid, CMV.IgG.Serology.Result.Interpretation, subject.biologicalSex, sample.visitName ) %>%\n",
    "  unique(.) %>%\n",
    "  group_by(AIFI_L3) %>%\n",
    "  wilcox_test(percentage_clr ~ sample.visitName) %>%\n",
    "  adjust_pvalue(method = \"BH\") %>%\n",
    "  add_significance()\n",
    "\n",
    "\n",
    "# Create the plot\n",
    "#options(repr.plot.width = 35, repr.plot.height = 12)\n",
    "p1 <- ggplot(result_cohort, aes(x = reorder(AIFI_L3, desc(percentage_clr)) , y = percentage_clr, fill = sample.visitName)) +\n",
    "  geom_boxplot(width = .5, outlier.shape = '.') +\n",
    "  scale_x_discrete(name =\"AIFI_L3\", guide = guide_axis(angle = 90)) +\n",
    "  theme_bw(base_size = 12) +\n",
    "  geom_pwc(\n",
    "    aes(group = sample.visitName),\n",
    "    tip.length = 0, p.adjust.method = \"BH\",\n",
    "    method = \"wilcox_test\", label =\"{p.adj.signif}\", angle = 0, hide.ns = FALSE, label.size =7  # or \"panel\"\n",
    "  ) +\n",
    "  #facet_grid(cohort.cohortGuid ~ ., scales = \"free_y\", space = \"free_y\") +\n",
    "  scale_y_continuous(expand = expansion(mult = c(0.05, 0.15))) +\n",
    "   scale_y_continuous(expand = expansion(mult = c(0.05, 0.15))) +\n",
    "  theme(axis.text.x = element_text(size = 18, color = \"black\", angle = 90, hjust = 0.5, vjust = 0.5),\n",
    "        axis.text.y = element_text(size = 18, color = \"black\"),\n",
    "        axis.title.x = element_text(size = 18, color = \"black\"),\n",
    "        axis.title.y = element_text(size = 18, color = \"black\"),\n",
    "       legend.text = element_text(size = 13, color = \"black\"),  # Adjust the font size of legend text\n",
    "        legend.title = element_text(size = 15, color = \"black\")) +\n",
    "   ggtitle(\"BR1\") + theme(plot.title = element_text(size = 25, hjust = 0.5, face = \"bold\"))\n",
    "\n",
    "# Display the plot\n",
    "#print(p1)\n",
    "\n",
    "\n",
    "####################.BR2 ####################\n",
    "result_cohort <- result_yr1[result_yr1$cohort.cohortGuid == \"BR2\", ]\n",
    "\n",
    "\n",
    "stat_test<- result_cohort %>%\n",
    "  select(percentage_clr, AIFI_L3, cohort.cohortGuid, CMV.IgG.Serology.Result.Interpretation, subject.biologicalSex, sample.visitName) %>%\n",
    "  unique(.) %>%\n",
    "  group_by(AIFI_L3) %>%\n",
    "  wilcox_test(percentage_clr ~ sample.visitName) %>%\n",
    "  adjust_pvalue(method = \"BH\") %>%\n",
    "  add_significance()\n",
    "\n",
    "\n",
    "# Create the plot\n",
    "#options(repr.plot.width = 35, repr.plot.height = 12)\n",
    "p2 <- ggplot(result_cohort, aes(x = reorder(AIFI_L3, desc(percentage_clr)) , y = percentage_clr, fill = sample.visitName)) +\n",
    "  geom_boxplot(width = .5, outlier.shape = '.') +\n",
    "  scale_x_discrete(name =\"AIFI_L3\", guide = guide_axis(angle = 90)) +\n",
    "  theme_bw(base_size = 12) +\n",
    "  geom_pwc(\n",
    "    aes(group = sample.visitName),\n",
    "    tip.length = 0, p.adjust.method = \"BH\",\n",
    "    method = \"wilcox_test\", label =\"{p.adj.signif}\", angle = 0, hide.ns = FALSE, label.size =7  # or \"panel\"\n",
    "  ) +\n",
    "  #facet_grid(cohort.cohortGuid ~ ., scales = \"free_y\", space = \"free_y\") +\n",
    "   scale_y_continuous(expand = expansion(mult = c(0.05, 0.15))) +\n",
    "  theme(axis.text.x = element_text(size = 18, color = \"black\", angle = 90, hjust = 0.5, vjust = 0.5),\n",
    "        axis.text.y = element_text(size = 18, color = \"black\"),\n",
    "        axis.title.x = element_text(size = 18, color = \"black\"),\n",
    "        axis.title.y = element_text(size = 18, color = \"black\"),\n",
    "       legend.text = element_text(size = 13, color = \"black\"),  # Adjust the font size of legend text\n",
    "        legend.title = element_text(size = 15, color = \"black\"))+\n",
    "  ggtitle(\"BR2\") + theme(plot.title = element_text(size = 25, hjust = 0.5, face = \"bold\"))\n",
    "\n",
    "# Display the plot\n",
    "#print(p2)\n",
    "\n",
    "library(cowplot)\n",
    "options(repr.plot.width = 40, repr.plot.height = 25)\n",
    "# Combine two plots vertically\n",
    "#combined_plot <- plot_grid(p1, p2, labels = c(\"CMV_neg\", \"CMV_pos\"), ncol =1, label_size = 20, vjust = 0)\n",
    "#combined_plot <- plot_grid(p1, p2, ncol=1,  nrow = 2, rel_heights = c(1, 2))\n",
    "\n",
    "stacked_plots <- plot_grid(p1 + theme(plot.margin = margin(b = 20)), p2, nrow = 2, rel_heights = c(1, 1))\n",
    "\n",
    "# Print the stacked plots\n",
    "stacked_plots\n",
    "\n",
    "\n",
    "#combined_plot\n",
    "\n"
   ]
  },
  {
   "cell_type": "markdown",
   "id": "47c70001-26bb-4842-9ddf-3efd217ae38e",
   "metadata": {},
   "source": [
    "## Whole PBMC- split by cohort for B cells (Facet_plots)"
   ]
  },
  {
   "cell_type": "code",
   "execution_count": null,
   "id": "6fe1b3ed-00ee-4421-b8c2-4e269cc4422a",
   "metadata": {
    "tags": []
   },
   "outputs": [],
   "source": [
    "# this is filtered for the selects 92 samples for B cells\n",
    "filtered_data\n",
    "length(unique(filtered_data$subject.subjectGuid))"
   ]
  },
  {
   "cell_type": "code",
   "execution_count": null,
   "id": "708dd16d-013c-4ad5-9b87-98b0caffaa43",
   "metadata": {
    "tags": []
   },
   "outputs": [],
   "source": [
    "merged_df <- inner_join(filtered_data, dict, by = 'AIFI_L3')"
   ]
  },
  {
   "cell_type": "code",
   "execution_count": null,
   "id": "b9c6b8e2-3ed5-43a0-8244-ca6e9e859030",
   "metadata": {
    "tags": []
   },
   "outputs": [],
   "source": [
    "head(merged_df)\n",
    "length(unique(merged_df$subject.subjectGuid))"
   ]
  },
  {
   "cell_type": "code",
   "execution_count": null,
   "id": "bcf7bcc5-1f24-42f5-b681-22e9831a4046",
   "metadata": {
    "tags": []
   },
   "outputs": [],
   "source": [
    "subset_data1 <- merged_df %>% filter(AIFI_L1 == \"B cell\" & cohort.cohortGuid == \"BR1\")\n",
    "subset_data2 <- merged_df %>% filter(AIFI_L1 == \"B cell\" & cohort.cohortGuid == \"BR2\")\n",
    "\n",
    "write.csv(subset_data1, \"/home/jupyter/IH-A-Aging-Analysis-Notebooks_old/Mansi_Notebooks/scRNA/Frequency_Plot/subset_BR1_Bcells_wholepbmc.csv\")\n",
    "write.csv(subset_data2, \"/home/jupyter/IH-A-Aging-Analysis-Notebooks_old/Mansi_Notebooks/scRNA/Frequency_Plot/subset_BR2_Bcells_wholepbmc.csv\")"
   ]
  },
  {
   "cell_type": "code",
   "execution_count": null,
   "id": "33d447d3-5e66-4e65-bb9b-a87edaba24b0",
   "metadata": {
    "tags": []
   },
   "outputs": [],
   "source": [
    "# subset fro B cell and monocytes,  Perform Wilcoxon signed-rank test\n",
    "# Y-scale : percentage\n",
    "\n",
    "\n",
    "#subset BR1\n",
    "subset_data1 <- merged_df %>%\n",
    "  filter(AIFI_L1 == \"B cell\" & cohort.cohortGuid == \"BR1\")\n",
    "\n",
    "stat_test_1 <- subset_data1 %>%\n",
    "  select(percentage, percentage_clr, AIFI_L3, cohort.cohortGuid, CMV.IgG.Serology.Result.Interpretation, subject.biologicalSex, sample.visitName, subject.subjectGuid) %>%\n",
    "  unique() %>%\n",
    "  group_by(AIFI_L3) %>%\n",
    "  wilcox_test(percentage ~ sample.visitName, paired = TRUE) %>%\n",
    "  adjust_pvalue(method = \"BH\") %>%\n",
    "  add_significance() %>%\n",
    "  add_xy_position(x = \"AIFI_L3\", fun = \"max\")\n",
    "\n",
    "# Create the base plot with modified theme settings\n",
    "p1 <- ggplot(subset_data1, aes(x = sample.visitName, y = percentage)) + \n",
    "  geom_boxplot(aes(fill = sample.visitName), alpha = .2, ) +  # Faint gray and dotted line color\n",
    "  geom_line(aes(group = subject.subjectGuid), color = \"black\", linetype = \"dotted\") + \n",
    "  geom_point(size = 2) + \n",
    "  facet_wrap(~ AIFI_L3, scales = \"free\", drop= FALSE) +\n",
    "  theme(\n",
    "    text = element_text(size = 40, color= \"black\"),  # Increase font size for all text elements\n",
    "    axis.title = element_text(size = 40),  # Increase font size for axis titles\n",
    "    legend.title = element_text(size = 50),  # Increase font size for legend title\n",
    "    legend.text = element_text(size = 50)  # Increase font size for legend text\n",
    "  ) + labs(y = \"percentage\")\n",
    "\n",
    "# Add p-values to the plot\n",
    "options(repr.plot.width = 50, repr.plot.height = 50)\n",
    "p1 + geom_text(data = stat_test_1, aes(label = paste(\"Wilcoxon signed rank test p.adj =\", p.adj.signif)),  \n",
    "              x = 1, y = Inf, hjust = 0.1, vjust = 1, size = 8, color = \"black\") + ggtitle(\"BR1- Whole PBMC (Percentage)\") + theme(plot.title = element_text(size = 35, hjust = 0.5, face = \"bold\"))  # Centered and larger p-value text\n",
    "\n",
    "#subset BR2\n",
    "subset_data2 <- merged_df %>%\n",
    "  filter(AIFI_L1 == \"B cell\" & cohort.cohortGuid == \"BR2\")\n",
    "\n",
    "stat_test_2 <- subset_data2 %>%\n",
    "  select(percentage, percentage_clr, AIFI_L3, cohort.cohortGuid, CMV.IgG.Serology.Result.Interpretation, subject.biologicalSex, sample.visitName, subject.subjectGuid) %>%\n",
    "  unique() %>%\n",
    "  group_by(AIFI_L3) %>%\n",
    "  wilcox_test(percentage ~ sample.visitName, paired = TRUE) %>%\n",
    "  adjust_pvalue(method = \"BH\") %>%\n",
    "  add_significance() %>%\n",
    "  add_xy_position(x = \"AIFI_L3\", fun = \"max\")\n",
    "\n",
    "# Create the base plot with modified theme settings\n",
    "p1 <- ggplot(subset_data2, aes(x = sample.visitName, y = percentage)) + \n",
    "  geom_boxplot(aes(fill = sample.visitName), alpha = .2, ) +  # Faint gray and dotted line color\n",
    "  geom_line(aes(group = subject.subjectGuid), color = \"black\", linetype = \"dotted\") + \n",
    "  geom_point(size = 2) + \n",
    "  facet_wrap(~ AIFI_L3, scales = \"free\", drop= FALSE) +\n",
    "  theme(\n",
    "    text = element_text(size = 40, color= \"black\"),  # Increase font size for all text elements\n",
    "    axis.title = element_text(size = 40),  # Increase font size for axis titles\n",
    "    legend.title = element_text(size = 50),  # Increase font size for legend title\n",
    "    legend.text = element_text(size = 50)  # Increase font size for legend text\n",
    "  ) + labs(y = \"percentage\")\n",
    "\n",
    "# Add p-values to the plot\n",
    "options(repr.plot.width = 50, repr.plot.height = 50)\n",
    "p1 + geom_text(data = stat_test_2, aes(label = paste(\"Wilcoxon signed rank test p.adj =\", p.adj.signif)),  \n",
    "              x = 1, y = Inf, hjust = 0.1, vjust = 1, size = 8, color = \"black\") + ggtitle(\"BR2- Whole PBMC (Percentage)\") + theme(plot.title = element_text(size = 35, hjust = 0.5, face = \"bold\")) # Centered and larger p-value text\n"
   ]
  },
  {
   "cell_type": "code",
   "execution_count": null,
   "id": "fdd130ac-70e9-4bca-ab3e-5826338d8baf",
   "metadata": {
    "tags": []
   },
   "outputs": [],
   "source": [
    "# subset fro B cell and monocytes,  Perform Wilcoxon signed-rank test\n",
    "# Y-scale : percentage _CLR\n",
    "\n",
    "library(dplyr)\n",
    "\n",
    "#subset BR1\n",
    "subset_data1 <- merged_df %>%\n",
    "  filter(AIFI_L1 == \"B cell\" & cohort.cohortGuid == \"BR1\")\n",
    "\n",
    "\n",
    "stat_test_1 <- subset_data1 %>%\n",
    "  select(percentage, percentage_clr, AIFI_L3, cohort.cohortGuid, CMV.IgG.Serology.Result.Interpretation, subject.biologicalSex, sample.visitName, subject.subjectGuid) %>%\n",
    "  unique() %>%\n",
    "  group_by(AIFI_L3) %>%\n",
    "  wilcox_test(percentage_clr ~ sample.visitName, paired = TRUE) %>%\n",
    "  adjust_pvalue(method = \"BH\") %>%\n",
    "  add_significance() %>%\n",
    "  add_xy_position(x = \"AIFI_L3\", fun = \"max\")\n",
    "\n",
    "# Create the base plot with modified theme settings\n",
    "p1 <- ggplot(subset_data1, aes(x = sample.visitName, y = percentage_clr)) + \n",
    "  geom_boxplot(aes(fill = sample.visitName), alpha = .2, ) +  # Faint gray and dotted line color\n",
    "  geom_line(aes(group = subject.subjectGuid), color = \"black\", linetype = \"dotted\") + \n",
    "  geom_point(size = 2) + \n",
    "  facet_wrap(~ AIFI_L3, scales = \"free\", drop= FALSE) +\n",
    "  theme(\n",
    "    text = element_text(size = 40, color= \"black\"),  # Increase font size for all text elements\n",
    "    axis.title = element_text(size = 40),  # Increase font size for axis titles\n",
    "    legend.title = element_text(size = 50),  # Increase font size for legend title\n",
    "    legend.text = element_text(size = 50)  # Increase font size for legend text\n",
    "  ) + labs(y = \"CLR\")\n",
    "\n",
    "# Add p-values to the plot\n",
    "p1 + geom_text(data = stat_test_1, aes(label = paste(\"Wilcoxon signed rank test p.adj =\", p.adj.signif)),  \n",
    "              x = 1, y = Inf, hjust = 0.1, vjust = 1, size = 8, color = \"black\")+ ggtitle(\"BR1- Whole PBMC (CLR)\") + theme(plot.title = element_text(size = 35, hjust = 0.5, face = \"bold\"))  # Centered and larger p-value text\n",
    "\n",
    "\n",
    "#subset BR2\n",
    "subset_data2 <- merged_df %>%\n",
    "  filter(AIFI_L1 == \"B cell\" & cohort.cohortGuid == \"BR2\")\n",
    "\n",
    "\n",
    "stat_test_2 <- subset_data2 %>%\n",
    "  select(percentage, percentage_clr, AIFI_L3, cohort.cohortGuid, CMV.IgG.Serology.Result.Interpretation, subject.biologicalSex, sample.visitName, subject.subjectGuid) %>%\n",
    "  unique() %>%\n",
    "  group_by(AIFI_L3) %>%\n",
    "  wilcox_test(percentage_clr ~ sample.visitName, paired = TRUE) %>%\n",
    "  adjust_pvalue(method = \"BH\") %>%\n",
    "  add_significance() %>%\n",
    "  add_xy_position(x = \"AIFI_L3\", fun = \"max\")\n",
    "\n",
    "# Create the base plot with modified theme settings\n",
    "p2 <- ggplot(subset_data2, aes(x = sample.visitName, y = percentage_clr)) + \n",
    "  geom_boxplot(aes(fill = sample.visitName), alpha = .2, ) +  # Faint gray and dotted line color\n",
    "  geom_line(aes(group = subject.subjectGuid), color = \"black\", linetype = \"dotted\") + \n",
    "  geom_point(size = 2) + \n",
    "  facet_wrap(~ AIFI_L3, scales = \"free\", drop= FALSE) +\n",
    "  theme(\n",
    "    text = element_text(size = 40, color= \"black\"),  # Increase font size for all text elements\n",
    "    axis.title = element_text(size = 40),  # Increase font size for axis titles\n",
    "    legend.title = element_text(size = 50),  # Increase font size for legend title\n",
    "    legend.text = element_text(size = 50)  # Increase font size for legend text\n",
    "  ) + labs(y = \"CLR\")\n",
    "\n",
    "# Add p-values to the plot\n",
    "p2 + geom_text(data = stat_test_2, aes(label = paste(\"Wilcoxon signed rank test p.adj =\", p.adj.signif)),  \n",
    "              x = 1, y = Inf, hjust = 0.1, vjust = 1, size = 8, color = \"black\") + ggtitle(\"BR2- Whole PBMC (CLR)\") + theme(plot.title = element_text(size = 35, hjust = 0.5, face = \"bold\")) # Centered and larger p-value text\n"
   ]
  },
  {
   "cell_type": "code",
   "execution_count": null,
   "id": "20e570c4-3984-44b0-b394-2d6024cda103",
   "metadata": {},
   "outputs": [],
   "source": [
    "length(unique(subset_data1$subject.subjectGuid))"
   ]
  },
  {
   "cell_type": "code",
   "execution_count": null,
   "id": "d5a9749b-7713-4ed7-b2ed-12688282ef1e",
   "metadata": {
    "tags": []
   },
   "outputs": [],
   "source": [
    "length(unique(subset_data2$subject.subjectGuid))"
   ]
  },
  {
   "cell_type": "code",
   "execution_count": null,
   "id": "a38f3ad6-55db-4876-ae0e-2d47ec96f798",
   "metadata": {
    "tags": []
   },
   "outputs": [],
   "source": [
    "47+45"
   ]
  },
  {
   "cell_type": "markdown",
   "id": "d0b77a12-09cb-4e4c-97f1-7d4566667e31",
   "metadata": {},
   "source": [
    "## Split by cohort- Global"
   ]
  },
  {
   "cell_type": "code",
   "execution_count": null,
   "id": "8c0d1dd2-ef21-43fb-afe6-24ca3070dcb6",
   "metadata": {
    "tags": []
   },
   "outputs": [],
   "source": [
    "#stat test - percentage\n",
    "\n",
    "####################. BR1 ####################\n",
    "result_cohort <- filtered_data[filtered_data$cohort.cohortGuid == \"BR1\", ]\n",
    "\n",
    "stat_test_1<- result_cohort %>%\n",
    "  select(percentage,percentage_clr, AIFI_L3, cohort.cohortGuid, CMV.IgG.Serology.Result.Interpretation, subject.biologicalSex, sample.visitName, subject.subjectGuid) %>%\n",
    "  unique(.) %>%\n",
    "  group_by(AIFI_L3) %>%\n",
    "  wilcox_test(percentage ~ sample.visitName, paired= TRUE) %>%\n",
    "  adjust_pvalue(method = \"BH\") %>%\n",
    "  add_significance() %>% add_xy_position(x= \"AIFI_L3\", fun = \"max\", comparisons = list(c(\"Flu Year 1 Day 0\", \"Flu Year 1 Day 7\"))) \n",
    "\n",
    "significant_cell_types_1 <- stat_test_1 %>%\n",
    "  filter(p.adj < 0.05) %>%\n",
    "  select(AIFI_L3, .y., p.adj, p.adj.signif) %>%\n",
    "  unique()\n",
    "\n",
    "print(significant_cell_types_1)\n",
    "\n",
    "# Find the maximum y-value for positioning\n",
    "max_y <- max(filtered_data$percentage, na.rm = TRUE)\n",
    "transformed_max_y <- log10(max_y)\n",
    "buffer <- 0.2  # Adjust the buffer as needed\n",
    "\n",
    "#stat_pvalue_manual(stat_test_1, label = \"p.adj.signif\", tip.length = 0, \n",
    "                    # y.position = (transformed_max_y + buffer), size = 5)\n",
    "\n",
    "# Create the plot\n",
    "#options(repr.plot.width = 35, repr.plot.height = 12)\n",
    "p4 <- ggplot(filtered_data, aes(x = AIFI_L3 , y = percentage, color = sample.visitName )) +\n",
    "  geom_boxplot(width = 0.5, outlier.shape = '.', position = position_dodge(width = 0.75), size=1) +\n",
    "  scale_x_discrete(name =\"AIFI_L3\", guide = guide_axis(angle = 90)) +\n",
    "  theme_bw(base_size = 12) +\n",
    "  stat_pvalue_manual(stat_test_1, label = \"p.adj.signif\", tip.length = 0, y.position = (transformed_max_y + buffer), label.size=12) +\n",
    "  #scale_y_continuous(trans = 'log10', labels = scales::math_format(10^.x)) +\n",
    "  scale_y_log10()+\n",
    "  scale_color_manual(values = c(\"Flu Year 1 Day 0\" = \"#1b9e77\", \"Flu Year 1 Day 7\" = \"#d95f02\")) + \n",
    "  #facet_grid(cohort.cohortGuid ~ ., scales = \"free_y\", space = \"free_y\") +\n",
    "# scale_y_continuous(expand = expansion(mult = c(0.05, 0.15))) +\n",
    "  theme(text = element_text(size=45, color=\"black\"), \n",
    "      axis.text.x = element_text(color = \"black\"), \n",
    "      axis.text.y = element_text(color = \"black\"), \n",
    "      axis.title.x = element_text(color = \"black\"), \n",
    "      axis.title.y = element_text(color = \"black\"), \n",
    "      legend.text = element_text(color = \"black\"), \n",
    "      legend.title = element_text(color = \"black\"))+\n",
    "    ggtitle(\"BR1\") + theme(plot.title = element_text(size = 35, hjust = 0.5, face = \"bold\"))\n",
    "     \n",
    "\n",
    "# Display the plot\n",
    "#print(p4)\n",
    "####################. BR1 ####################\n",
    "result_cohort <- filtered_data[filtered_data$cohort.cohortGuid == \"BR2\", ]\n",
    "\n",
    "stat_test_2<- result_cohort %>%\n",
    "  select(percentage,percentage_clr, AIFI_L3, cohort.cohortGuid, CMV.IgG.Serology.Result.Interpretation, subject.biologicalSex, sample.visitName, subject.subjectGuid) %>%\n",
    "  unique(.) %>%\n",
    "  group_by(AIFI_L3) %>%\n",
    "  wilcox_test(percentage~ sample.visitName, paired= TRUE) %>%\n",
    "  adjust_pvalue(method = \"BH\") %>%\n",
    "  add_significance() %>% add_xy_position(x= \"AIFI_L3\", fun = \"max\", comparisons = list(c(\"Flu Year 1 Day 0\", \"Flu Year 1 Day 7\"))) \n",
    "\n",
    "significant_cell_types_2 <- stat_test_2 %>%\n",
    "  filter(p.adj < 0.05) %>%\n",
    "  select(AIFI_L3, .y., p.adj, p.adj.signif) %>%\n",
    "  unique()\n",
    "\n",
    "print(significant_cell_types_2)\n",
    "\n",
    "\n",
    "# Find the maximum y-value for positioning\n",
    "max_y <- max(filtered_data$percentage, na.rm = TRUE)\n",
    "transformed_max_y <- log10(max_y)\n",
    "buffer <- 0.2  # Adjust the buffer as needed\n",
    "\n",
    "# Create the plot\n",
    "#options(repr.plot.width = 35, repr.plot.height = 12)\n",
    "p5 <- ggplot(filtered_data, aes(x = AIFI_L3 , y = percentage, color = sample.visitName )) +\n",
    "  geom_boxplot(width = 0.5, outlier.shape = '.', position = position_dodge(width = 0.75), size=1) +\n",
    "  scale_x_discrete(name =\"AIFI_L3\", guide = guide_axis(angle = 90)) +\n",
    "  theme_bw(base_size = 12) +\n",
    "  stat_pvalue_manual(stat_test_2, label = \"p.adj.signif\", tip.length=0, y.position = (transformed_max_y + buffer), label.size = 12)+\n",
    "  scale_color_manual(values = c(\"Flu Year 1 Day 0\" = \"#1b9e77\", \"Flu Year 1 Day 7\" = \"#d95f02\")) + \n",
    "  scale_y_log10()+\n",
    "  #facet_grid(cohort.cohortGuid ~ ., scales = \"free_y\", space = \"free_y\") +\n",
    "  #scale_y_continuous(expand = expansion(mult = c(0.05, 0.15))) +\n",
    "  theme(text = element_text(size=45, color=\"black\"), \n",
    "      axis.text.x = element_text(color = \"black\"), \n",
    "      axis.text.y = element_text(color = \"black\"), \n",
    "      axis.title.x = element_text(color = \"black\"), \n",
    "      axis.title.y = element_text(color = \"black\"), \n",
    "      legend.text = element_text(color = \"black\"), \n",
    "      legend.title = element_text(color = \"black\"))+\n",
    "     ggtitle(\"BR2\") + theme(plot.title = element_text(size = 35, hjust = 0.5, face = \"bold\"))\n",
    "\n",
    "# Display the plot\n",
    "#print(p2)\n",
    "\n",
    "library(cowplot)\n",
    "options(repr.plot.width = 60, repr.plot.height = 40)\n",
    "# Combine two plots vertically\n",
    "#combined_plot <- plot_grid(p1, p2, labels = c(\"CMV_neg\", \"CMV_pos\"), ncol =1, label_size = 20, vjust = 0)\n",
    "#combined_plot <- plot_grid(p1, p2, ncol=1,  nrow = 2, rel_heights = c(1, 2))\n",
    "\n",
    "stacked_plots <- plot_grid(p4 + theme(plot.margin = margin(b = 20)), p5, nrow = 2, rel_heights = c(1, 1))\n",
    "\n",
    "# Print the stacked plots\n",
    "stacked_plots\n",
    "\n",
    "\n",
    "# # Display the plot\n",
    "# print(p4)\n",
    "\n",
    "\n",
    "# #Combine Plot\n",
    "# library(cowplot)\n",
    "\n",
    "# options(repr.plot.width = 50, repr.plot.height = 30)\n",
    "# # Combine two plots vertically\n",
    "# combined_plot <- plot_grid(p4, p5, labels = c(\"Frequency_Percentage\", \"Frequency_Percentage_CLR\"), ncol =1)\n",
    "\n",
    "# combined_plot\n"
   ]
  },
  {
   "cell_type": "code",
   "execution_count": null,
   "id": "2e7edce5-837e-4328-8adb-c2c4241fa133",
   "metadata": {},
   "outputs": [],
   "source": []
  },
  {
   "cell_type": "code",
   "execution_count": null,
   "id": "05de414f-24b8-4df0-8373-bb6c36e941ac",
   "metadata": {},
   "outputs": [],
   "source": []
  },
  {
   "cell_type": "code",
   "execution_count": null,
   "id": "a0fb6098-20aa-4588-b70a-d98f14153431",
   "metadata": {},
   "outputs": [],
   "source": []
  },
  {
   "cell_type": "markdown",
   "id": "24eda2e0-a538-4087-969c-26bb306ab51d",
   "metadata": {
    "tags": []
   },
   "source": [
    "# Comparsion within B cells(Percentage and Percentage CLR - AIFI Level 1 celltypes)\n",
    "¶"
   ]
  },
  {
   "cell_type": "code",
   "execution_count": null,
   "id": "9c2b96ba-27c0-4281-965b-f9a833575395",
   "metadata": {
    "tags": []
   },
   "outputs": [],
   "source": [
    "cell_df <- flu_df %>% filter(AIFI_L1 == \"B cell\" , sample.visitName == \"Flu Year 1 Day 0\" | sample.visitName == \"Flu Year 1 Day 7\" )"
   ]
  },
  {
   "cell_type": "code",
   "execution_count": null,
   "id": "e4a01580-0b77-433f-89c1-11d755d14331",
   "metadata": {
    "tags": []
   },
   "outputs": [],
   "source": [
    "unique(cell_df$sample.visitName)\n",
    "unique(cell_df$AIFI_L3)"
   ]
  },
  {
   "cell_type": "code",
   "execution_count": null,
   "id": "b173fe07-5d15-47ba-a0bc-ac7dcae01e7d",
   "metadata": {
    "tags": []
   },
   "outputs": [],
   "source": [
    "dict <- dict %>% filter(AIFI_L1 == \"B cell\")\n",
    "dict"
   ]
  },
  {
   "cell_type": "code",
   "execution_count": null,
   "id": "b352fec5-0945-4330-9d19-ce8294b7573e",
   "metadata": {
    "tags": []
   },
   "outputs": [],
   "source": [
    "# Perform inner join based on 'Cell_Type' column\n",
    "merged_df <- inner_join(cell_df, dict, by = 'AIFI_L3')"
   ]
  },
  {
   "cell_type": "code",
   "execution_count": null,
   "id": "651d8f4e-2985-4490-997a-314affee328e",
   "metadata": {
    "tags": []
   },
   "outputs": [],
   "source": [
    "unique(merged_df$AIFI_L3)"
   ]
  },
  {
   "cell_type": "code",
   "execution_count": null,
   "id": "d0de941f-c7c8-4d89-815f-7ad5c76fc641",
   "metadata": {
    "tags": []
   },
   "outputs": [],
   "source": [
    "unique(cell_df$AIFI_L3)\n",
    "unique(cell_df$AIFI_L1)\n",
    "unique(cell_df$sample.visitName)\n",
    "length(unique(cell_df$subject.subjectGuid))\n",
    "colnames(cell_df)"
   ]
  },
  {
   "cell_type": "code",
   "execution_count": null,
   "id": "b221ec2f-a0eb-41b1-b0e1-8e6e8224cf1a",
   "metadata": {
    "tags": []
   },
   "outputs": [],
   "source": [
    "## Percentage of total\n",
    "\n",
    "result_cell <- merged_df %>%\n",
    "  dplyr::group_by(AIFI_L3, subject.subjectGuid,sample.visitName ) %>%               \n",
    "  dplyr::summarise(count = n()) %>%                  # Count occurrences\n",
    "  dplyr::group_by(subject.subjectGuid, sample.visitName) %>%                       \n",
    "  dplyr::mutate(percentage = (count / sum(count)) * 100) %>% \n",
    "  dplyr::group_by(subject.subjectGuid, sample.visitName) %>%     \n",
    "  dplyr::mutate(percentage_clr = clr_transform((percentage))) %>% # Group again by subjectGuid for CLR# Calculate percentage\n",
    "  dplyr::ungroup()\n",
    "\n",
    "head(result_cell)\n",
    "\n",
    "#sum(result_Bcell$subject.subjectGuid)"
   ]
  },
  {
   "cell_type": "code",
   "execution_count": null,
   "id": "3a567664-d04c-417a-8ea1-ce8f6bf6bdd0",
   "metadata": {
    "tags": []
   },
   "outputs": [],
   "source": [
    "w <- result_cell %>% filter(subject.subjectGuid == \"BR1003\")\n",
    "head(w)\n",
    "unique(w$sample.visitName)"
   ]
  },
  {
   "cell_type": "code",
   "execution_count": null,
   "id": "4f9f22cb-15ef-43ce-ba44-307d039bf3ad",
   "metadata": {
    "tags": []
   },
   "outputs": [],
   "source": [
    "result_cell_final<-inner_join(result_cell,unique(cell_df[c('cohort.cohortGuid','subject.subjectGuid','subject.biologicalSex','CMV.IgG.Serology.Result.Interpretation')]),by=c('subject.subjectGuid'))"
   ]
  },
  {
   "cell_type": "code",
   "execution_count": null,
   "id": "6512b405-6b61-4533-9c39-6116e7217894",
   "metadata": {
    "tags": []
   },
   "outputs": [],
   "source": [
    "head(result_cell_final)\n",
    "length(unique(result_cell_final$subject.subjectGuid))"
   ]
  },
  {
   "cell_type": "code",
   "execution_count": null,
   "id": "1adb37c2-4cee-4a8f-b43d-3ed8fa029a65",
   "metadata": {
    "tags": []
   },
   "outputs": [],
   "source": [
    "dim(result_cell_final)\n",
    "dim(result_cell)\n",
    "dim(cell_df)\n",
    "dim(merged_df)"
   ]
  },
  {
   "cell_type": "code",
   "execution_count": null,
   "id": "2cd6c1bb-ea82-461f-94ea-b06b83da8596",
   "metadata": {
    "tags": []
   },
   "outputs": [],
   "source": [
    "result_cell_final %>% filter(subject.subjectGuid == \"BR1002\") %>% \n",
    "      select(percentage) %>%\n",
    "      pull() %>% \n",
    "      sum()"
   ]
  },
  {
   "cell_type": "code",
   "execution_count": null,
   "id": "9d4e5fc7-99e0-4198-baf3-ce50af0d77ce",
   "metadata": {
    "tags": []
   },
   "outputs": [],
   "source": [
    "x <- result_cell_final %>% filter(subject.subjectGuid == \"BR1003\")\n",
    "head(x)\n",
    "unique(x$sample.visitName)"
   ]
  },
  {
   "cell_type": "code",
   "execution_count": null,
   "id": "f2ee09d9-4102-4816-85c0-f1fd4021c996",
   "metadata": {
    "tags": []
   },
   "outputs": [],
   "source": [
    "# result_cell <- result_cell %>%\n",
    "#   filter( !(sample.visitName == \"Flu Year 2 Day 0\" | sample.visitName == \"Flu Year 2 Day 7\") )\n"
   ]
  },
  {
   "cell_type": "code",
   "execution_count": null,
   "id": "9f274c6e-207d-4a5a-99f2-e760e11eb0c1",
   "metadata": {
    "tags": []
   },
   "outputs": [],
   "source": [
    "result_cell %>% filter(subject.subjectGuid == \"BR1002\") %>% \n",
    "      select(percentage) %>%\n",
    "      pull() %>% \n",
    "      sum()"
   ]
  },
  {
   "cell_type": "code",
   "execution_count": null,
   "id": "568b27ef-8657-4422-aa11-d1e37a981ba7",
   "metadata": {},
   "outputs": [],
   "source": [
    "#############Individual Plots##################"
   ]
  },
  {
   "cell_type": "code",
   "execution_count": null,
   "id": "2369c3a9-fd98-4f1c-b04a-1e2e02dc8d38",
   "metadata": {
    "tags": []
   },
   "outputs": [],
   "source": [
    "stat_test<- result_cell_final %>%\n",
    "  select(percentage,percentage_clr, AIFI_L3, , subject.biologicalSex, sample.visitName,subject.subjectGuid ) %>%\n",
    "  unique(.) %>%\n",
    "  group_by(AIFI_L3 ) %>%\n",
    "  wilcox_test(percentage~ sample.visitName) %>%\n",
    "  adjust_pvalue(method = \"BH\") %>%\n",
    "  add_significance()\n",
    "#stat_test"
   ]
  },
  {
   "cell_type": "code",
   "execution_count": null,
   "id": "b45ab85a-6ea7-4007-a806-064d0229fc29",
   "metadata": {
    "tags": []
   },
   "outputs": [],
   "source": [
    "stat_test"
   ]
  },
  {
   "cell_type": "code",
   "execution_count": null,
   "id": "721b2a1b-cdd3-4fc8-8783-3475fa68750d",
   "metadata": {
    "tags": []
   },
   "outputs": [],
   "source": [
    "result_cell_final"
   ]
  },
  {
   "cell_type": "code",
   "execution_count": null,
   "id": "8e879a0f-eb5a-47eb-a8c6-b0624f6a0220",
   "metadata": {},
   "outputs": [],
   "source": []
  },
  {
   "cell_type": "code",
   "execution_count": null,
   "id": "4f54c051-c079-4afc-b6eb-b1e679870410",
   "metadata": {
    "tags": []
   },
   "outputs": [],
   "source": [
    "\n",
    "\n",
    "stat_test<- result_cell_final %>%\n",
    "  select(percentage,percentage_clr, AIFI_L3, cohort.cohortGuid, CMV.IgG.Serology.Result.Interpretation, subject.biologicalSex, sample.visitName ) %>%\n",
    "  unique(.) %>%\n",
    "  group_by(AIFI_L3) %>%\n",
    "  wilcox_test(percentage_clr ~ sample.visitName) %>%\n",
    "  adjust_pvalue(method = \"BH\") %>%\n",
    "  add_significance()\n",
    "\n",
    "\n",
    "# Create the plot\n",
    "#options(repr.plot.width = 35, repr.plot.height = 12)\n",
    "p1 <- ggplot(result_cell_final, aes(x = reorder(AIFI_L3, desc(percentage)) , y = percentage, fill = sample.visitName)) +\n",
    "  geom_boxplot(width = .5, outlier.shape = '.') +\n",
    "  scale_x_discrete(name =\"AIFI_L3\", guide = guide_axis(angle = 90)) +\n",
    "  theme_bw(base_size = 12) +\n",
    "  geom_pwc(\n",
    "    aes(group = sample.visitName),\n",
    "    tip.length = 0, p.adjust.method = \"BH\",\n",
    "    method = \"wilcox_test\", label =\"{p.adj.signif}\", angle = 0, hide.ns = FALSE, label.size =7  # or \"panel\"\n",
    "  ) +\n",
    "  #facet_grid(cohort.cohortGuid ~ ., scales = \"free_y\", space = \"free_y\") +\n",
    "  scale_y_continuous(expand = expansion(mult = c(0.05, 0.15))) +\n",
    "   scale_y_continuous(expand = expansion(mult = c(0.05, 0.15))) +\n",
    "  theme(axis.text.x = element_text(size = 18, color = \"black\", angle = 90, hjust = 0.5, vjust = 0.5),\n",
    "        axis.text.y = element_text(size = 18, color = \"black\"),\n",
    "        axis.title.x = element_text(size = 18, color = \"black\"),\n",
    "        axis.title.y = element_text(size = 18, color = \"black\"),\n",
    "       legend.text = element_text(size = 13, color = \"black\"),  # Adjust the font size of legend text\n",
    "        legend.title = element_text(size = 15, color = \"black\")) +\n",
    "   ggtitle(\"Percentage\") + theme(plot.title = element_text(size = 25, hjust = 0.5, face = \"bold\"))\n",
    "\n",
    "\n",
    "\n",
    "\n",
    "\n",
    "\n",
    "# Create the plot\n",
    "#options(repr.plot.width = 35, repr.plot.height = 12)\n",
    "p2 <- ggplot(result_cell_final, aes(x = reorder(AIFI_L3, desc(percentage_clr)) , y = percentage_clr, fill = sample.visitName)) +\n",
    "  geom_boxplot(width = .5, outlier.shape = '.') +\n",
    "  scale_x_discrete(name =\"AIFI_L3\", guide = guide_axis(angle = 90)) +\n",
    "  theme_bw(base_size = 12) +\n",
    "  geom_pwc(\n",
    "    aes(group = sample.visitName),\n",
    "    tip.length = 0, p.adjust.method = \"BH\",\n",
    "    method = \"wilcox_test\", label =\"{p.adj.signif}\", angle = 0, hide.ns = FALSE, label.size =7  # or \"panel\"\n",
    "  ) +\n",
    "  #facet_grid(cohort.cohortGuid ~ ., scales = \"free_y\", space = \"free_y\") +\n",
    "   scale_y_continuous(expand = expansion(mult = c(0.05, 0.15))) +\n",
    "  theme(axis.text.x = element_text(size = 18, color = \"black\", angle = 90, hjust = 0.5, vjust = 0.5),\n",
    "        axis.text.y = element_text(size = 18, color = \"black\"),\n",
    "        axis.title.x = element_text(size = 18, color = \"black\"),\n",
    "        axis.title.y = element_text(size = 18, color = \"black\"),\n",
    "       legend.text = element_text(size = 13, color = \"black\"),  # Adjust the font size of legend text\n",
    "        legend.title = element_text(size = 15, color = \"black\"))+\n",
    "  ggtitle(\"CLR\") + theme(plot.title = element_text(size = 25, hjust = 0.5, face = \"bold\"))\n",
    "\n",
    "# Display the plot\n",
    "#print(p2)\n",
    "\n",
    "library(cowplot)\n",
    "options(repr.plot.width = 40, repr.plot.height = 25)\n",
    "\n",
    "\n",
    "stacked_plots <- plot_grid(p1 + theme(plot.margin = margin(b = 20)), p2, nrow = 2, rel_heights = c(1, 1))\n",
    "\n",
    "# Print the stacked plots\n",
    "stacked_plots\n",
    "\n",
    "\n",
    "#combined_plot\n",
    "\n"
   ]
  },
  {
   "cell_type": "code",
   "execution_count": null,
   "id": "89605012-4c3b-43fc-a3a3-f9f69f85e764",
   "metadata": {},
   "outputs": [],
   "source": []
  },
  {
   "cell_type": "markdown",
   "id": "7fd67ea6-f46b-46d7-a240-5677aa385829",
   "metadata": {
    "tags": []
   },
   "source": [
    "# Comparsion within B cells- Lv1 (Facet plot)¶"
   ]
  },
  {
   "cell_type": "code",
   "execution_count": null,
   "id": "5d8be3fd-79d0-456d-a456-5f1406e1982e",
   "metadata": {},
   "outputs": [],
   "source": [
    "head(filtered_flu_df)"
   ]
  },
  {
   "cell_type": "code",
   "execution_count": null,
   "id": "9159c438-a17c-4ff9-9a3a-fec523c58469",
   "metadata": {
    "tags": []
   },
   "outputs": [],
   "source": [
    "cell_df <- filtered_flu_df %>% filter(AIFI_L1 == \"B cell\" , sample.visitName == \"Flu Year 1 Day 0\" | sample.visitName == \"Flu Year 1 Day 7\" )\n",
    "\n",
    "unique(cell_df$sample.visitName)\n",
    "unique(cell_df$AIFI_L3)"
   ]
  },
  {
   "cell_type": "code",
   "execution_count": null,
   "id": "f79b38b2-014e-4dc1-aa2d-a2e3d1dca455",
   "metadata": {
    "tags": []
   },
   "outputs": [],
   "source": [
    "dict_final <- dict %>% filter(AIFI_L1 == \"B cell\")\n",
    "dict_final"
   ]
  },
  {
   "cell_type": "code",
   "execution_count": null,
   "id": "6b7153f3-0a6a-4dc8-b288-aa9c595d04a9",
   "metadata": {
    "tags": []
   },
   "outputs": [],
   "source": [
    "# Perform inner join based on 'Cell_Type' column\n",
    "merged_df <- inner_join(cell_df, dict_final, by = 'AIFI_L3')\n",
    "unique(merged_df$AIFI_L3)"
   ]
  },
  {
   "cell_type": "code",
   "execution_count": null,
   "id": "471c8463-0b58-489c-9c76-b30f38eb7cd9",
   "metadata": {
    "tags": []
   },
   "outputs": [],
   "source": [
    "## Percentage of total\n",
    "\n",
    "result_cell <- merged_df %>%\n",
    "  dplyr::group_by(AIFI_L3, subject.subjectGuid,sample.visitName ) %>%               \n",
    "  dplyr::summarise(count = n()) %>%                  # Count occurrences\n",
    "  dplyr::group_by(subject.subjectGuid, sample.visitName) %>%                       \n",
    "  dplyr::mutate(percentage = (count / sum(count)) * 100) %>% \n",
    "  dplyr::group_by(subject.subjectGuid, sample.visitName) %>%     \n",
    "  dplyr::mutate(percentage_clr = clr_transform((percentage))) %>% # Group again by subjectGuid for CLR# Calculate percentage\n",
    "  dplyr::ungroup()\n",
    "\n",
    "#head(result_cell)\n",
    "\n",
    "#sum(result_Bcell$subject.subjectGuid)"
   ]
  },
  {
   "cell_type": "code",
   "execution_count": null,
   "id": "b1258934-af90-40a0-99de-ae9580b71d2c",
   "metadata": {
    "tags": []
   },
   "outputs": [],
   "source": [
    "result_cell_final<-inner_join(result_cell,unique(cell_df[c('cohort.cohortGuid','subject.subjectGuid','subject.biologicalSex','CMV.IgG.Serology.Result.Interpretation')]),by=c('subject.subjectGuid'))"
   ]
  },
  {
   "cell_type": "code",
   "execution_count": null,
   "id": "30430685-0263-4503-aca6-297f2c253480",
   "metadata": {
    "tags": []
   },
   "outputs": [],
   "source": [
    "head(result_cell_final)\n",
    "length(unique(result_cell_final$subject.subjectGuid))"
   ]
  },
  {
   "cell_type": "code",
   "execution_count": null,
   "id": "ad551b5b-7649-4a15-9e0d-de3a0baf2ebc",
   "metadata": {
    "tags": []
   },
   "outputs": [],
   "source": [
    "# Check unique combinations of AIFI_L3 and sample.visitName\n",
    "result_cell_final %>%\n",
    "  group_by(AIFI_L3, sample.visitName) %>%\n",
    "  dplyr::summarize(n = n())\n"
   ]
  },
  {
   "cell_type": "code",
   "execution_count": null,
   "id": "6fddcdf4-39ba-46c0-a81e-591fd27be4b1",
   "metadata": {
    "tags": []
   },
   "outputs": [],
   "source": [
    "filtered_data <- result_cell_final %>%\n",
    "  group_by(AIFI_L3,subject.subjectGuid) %>%\n",
    "  filter(all(c(\"Flu Year 1 Day 0\", \"Flu Year 1 Day 7\") %in% sample.visitName))\n",
    "filtered_data"
   ]
  },
  {
   "cell_type": "code",
   "execution_count": null,
   "id": "3d71edff-447a-4d78-8b23-7c6e369f50e4",
   "metadata": {
    "tags": []
   },
   "outputs": [],
   "source": [
    "filtered_data %>%\n",
    "  group_by(AIFI_L3, sample.visitName) %>%\n",
    "  dplyr::summarize(n = n())"
   ]
  },
  {
   "cell_type": "code",
   "execution_count": null,
   "id": "2d5384ab-37c0-441d-a0a2-de6d09a54094",
   "metadata": {
    "tags": []
   },
   "outputs": [],
   "source": [
    "# subset fro B cell and monocytes,  Perform Wilcoxon signed-rank test\n",
    "# Y-scale : percentage\n",
    "\n",
    "stat_test_1 <- filtered_data %>%\n",
    "  select(percentage, percentage_clr, AIFI_L3, cohort.cohortGuid, CMV.IgG.Serology.Result.Interpretation, subject.biologicalSex, sample.visitName, subject.subjectGuid) %>%\n",
    "  unique() %>%\n",
    "  group_by(AIFI_L3) %>%\n",
    "  wilcox_test(percentage ~ sample.visitName, paired = TRUE) %>%\n",
    "  adjust_pvalue(method = \"BH\") %>%\n",
    "  add_significance() %>%\n",
    "  add_xy_position(x = \"AIFI_L3\", fun = \"max\")\n",
    "\n",
    "# Create the base plot with modified theme settings\n",
    "p <- ggplot(filtered_data, aes(x = sample.visitName, y = percentage)) + \n",
    "  geom_boxplot(aes(fill = sample.visitName), alpha = .2, ) +  # Faint gray and dotted line color\n",
    "  geom_line(aes(group = subject.subjectGuid), color = \"black\", linetype = \"dotted\") + \n",
    "  geom_point(size = 2) + \n",
    "  facet_wrap(~ AIFI_L3, scales = \"free\", drop= FALSE) +\n",
    "  theme(\n",
    "    text = element_text(size = 40, color= \"black\"),  # Increase font size for all text elements\n",
    "    axis.title = element_text(size = 40),  # Increase font size for axis titles\n",
    "    legend.title = element_text(size = 50),  # Increase font size for legend title\n",
    "    legend.text = element_text(size = 50)  # Increase font size for legend text\n",
    "  ) + labs(y = \"percentage\")\n",
    "\n",
    "# Add p-values to the plot\n",
    "p + geom_text(data = stat_test_1, aes(label = paste(\"Wilcoxon signed rank test p.adj =\", p.adj.signif)),  \n",
    "              x = 1, y = Inf, hjust = 0.1, vjust = 1, size = 8, color = \"black\")  # Centered and larger p-value text\n"
   ]
  },
  {
   "cell_type": "markdown",
   "id": "fc82ca3b-472c-4312-a0ea-2bf078b3da45",
   "metadata": {},
   "source": [
    "### Split by Cohort- facet plot"
   ]
  },
  {
   "cell_type": "code",
   "execution_count": null,
   "id": "6091d1e6-31e3-4710-83cf-0a3dfd72942b",
   "metadata": {
    "tags": []
   },
   "outputs": [],
   "source": [
    "## \"filtered_data\" was created in the \"Comparison within B cells- Lv1 (Facet_plot)\""
   ]
  },
  {
   "cell_type": "code",
   "execution_count": null,
   "id": "ad323487-9ffe-4f1c-a49d-7b9d4f93c9d8",
   "metadata": {},
   "outputs": [],
   "source": []
  },
  {
   "cell_type": "code",
   "execution_count": null,
   "id": "c94346cf-3c96-45cc-ada2-bd27c4912e76",
   "metadata": {
    "tags": []
   },
   "outputs": [],
   "source": [
    "result_cohort1 <- filtered_data[filtered_data$cohort.cohortGuid == \"BR1\", ]\n",
    "result_cohort2 <- filtered_data[filtered_data$cohort.cohortGuid == \"BR2\", ]\n",
    "\n",
    "write.csv(result_cohort1, \"/home/jupyter/IH-A-Aging-Analysis-Notebooks_old/Mansi_Notebooks/scRNA/Frequency_Plot/subset_BR1_Bcells_parent_CLR_percentage.csv\")\n",
    "write.csv(result_cohort2, \"/home/jupyter/IH-A-Aging-Analysis-Notebooks_old/Mansi_Notebooks/scRNA/Frequency_Plot/subset_BR2_Bcells_parent_CLR_percentage.csv\")"
   ]
  },
  {
   "cell_type": "code",
   "execution_count": null,
   "id": "a29f9aa0-b797-494c-81a5-043ef72105d8",
   "metadata": {
    "tags": []
   },
   "outputs": [],
   "source": [
    "############## BR2 = percentage\n",
    "result_cohort <- filtered_data[filtered_data$cohort.cohortGuid == \"BR1\", ]\n",
    "\n",
    "stat_test_1 <- result_cohort %>%\n",
    "  select(percentage, percentage_clr, AIFI_L3, cohort.cohortGuid, CMV.IgG.Serology.Result.Interpretation, subject.biologicalSex, sample.visitName, subject.subjectGuid) %>%\n",
    "  unique() %>%\n",
    "  group_by(AIFI_L3) %>%\n",
    "  wilcox_test(percentage ~ sample.visitName, paired = TRUE) %>%\n",
    "  adjust_pvalue(method = \"BH\") %>%\n",
    "  add_significance() %>%\n",
    "  add_xy_position(x = \"AIFI_L3\", fun = \"max\")\n",
    "\n",
    "# Create the base plot with modified theme settings\n",
    "p <- ggplot(result_cohort, aes(x = sample.visitName, y = percentage)) + \n",
    "  geom_boxplot(aes(fill = sample.visitName), alpha = .2, ) +  # Faint gray and dotted line color\n",
    "  geom_line(aes(group = subject.subjectGuid), color = \"black\", linetype = \"dotted\") + \n",
    "  geom_point(size = 2) + \n",
    "  facet_wrap(~ AIFI_L3, scales = \"free\", drop= FALSE) +\n",
    "  theme(\n",
    "    text = element_text(size = 40, color= \"black\"),  # Increase font size for all text elements\n",
    "    axis.title = element_text(size = 40),  # Increase font size for axis titles\n",
    "    legend.title = element_text(size = 50),  # Increase font size for legend title\n",
    "    legend.text = element_text(size = 50)  # Increase font size for legend text\n",
    "  ) + labs(y = \"Percentage\") +  ggtitle(\"BR1- ParentLv1 (Percentage)\") + theme(plot.title = element_text(size = 60, hjust = 0.5, face = \"bold\"))\n",
    "\n",
    "# Add p-values to the plot\n",
    "p + geom_text(data = stat_test_1, aes(label = paste(\"Wilcoxon signed rank test p.adj =\", p.adj.signif)),  \n",
    "              x = 1, y = Inf, hjust = 0.1, vjust = 1, size = 8, color = \"black\")  # Centered and larger p-value text\n",
    "\n",
    "############## BR2 = percentage\n",
    "result_cohort <- filtered_data[filtered_data$cohort.cohortGuid == \"BR2\", ]\n",
    "\n",
    "stat_test_1 <- result_cohort %>%\n",
    "  select(percentage, percentage_clr, AIFI_L3, cohort.cohortGuid, CMV.IgG.Serology.Result.Interpretation, subject.biologicalSex, sample.visitName, subject.subjectGuid) %>%\n",
    "  unique() %>%\n",
    "  group_by(AIFI_L3) %>%\n",
    "  wilcox_test(percentage ~ sample.visitName, paired = TRUE) %>%\n",
    "  adjust_pvalue(method = \"BH\") %>%\n",
    "  add_significance() %>%\n",
    "  add_xy_position(x = \"AIFI_L3\", fun = \"max\")\n",
    "\n",
    "# Create the base plot with modified theme settings\n",
    "p <- ggplot(result_cohort, aes(x = sample.visitName, y = percentage)) + \n",
    "  geom_boxplot(aes(fill = sample.visitName), alpha = .2, ) +  # Faint gray and dotted line color\n",
    "  geom_line(aes(group = subject.subjectGuid), color = \"black\", linetype = \"dotted\") + \n",
    "  geom_point(size = 2) + \n",
    "  facet_wrap(~ AIFI_L3, scales = \"free\", drop= FALSE) +\n",
    "  theme(\n",
    "    text = element_text(size = 40, color= \"black\"),  # Increase font size for all text elements\n",
    "    axis.title = element_text(size = 40),  # Increase font size for axis titles\n",
    "    legend.title = element_text(size = 50),  # Increase font size for legend title\n",
    "    legend.text = element_text(size = 50)  # Increase font size for legend text\n",
    "  ) + labs(y = \"Percentage\") +  ggtitle(\"BR2- ParentLv1 (Percentage)\") + theme(plot.title = element_text(size = 60, hjust = 0.5, face = \"bold\"))\n",
    "\n",
    "# Add p-values to the plot\n",
    "p + geom_text(data = stat_test_1, aes(label = paste(\"Wilcoxon signed rank test p.adj =\", p.adj.signif)),  \n",
    "              x = 1, y = Inf, hjust = 0.1, vjust = 1, size = 8, color = \"black\")  # Centered and larger p-value text"
   ]
  },
  {
   "cell_type": "code",
   "execution_count": null,
   "id": "85e2e02c-f2d9-4bb6-91a3-38109bb07a12",
   "metadata": {
    "tags": []
   },
   "outputs": [],
   "source": [
    "############## BR1 = percentage (log 10 scale)\n",
    "result_cohort <- filtered_data[filtered_data$cohort.cohortGuid == \"BR1\", ]\n",
    "\n",
    "stat_test_1 <- result_cohort %>%\n",
    "  select(percentage, percentage_clr, AIFI_L3, cohort.cohortGuid, CMV.IgG.Serology.Result.Interpretation, subject.biologicalSex, sample.visitName, subject.subjectGuid) %>%\n",
    "  unique() %>%\n",
    "  group_by(AIFI_L3) %>%\n",
    "  wilcox_test(percentage ~ sample.visitName, paired = TRUE) %>%\n",
    "  adjust_pvalue(method = \"BH\") %>%\n",
    "  add_significance() %>%\n",
    "  add_xy_position(x = \"AIFI_L3\", fun = \"max\")\n",
    "\n",
    "# Create the base plot with modified theme settings\n",
    "p <- ggplot(result_cohort, aes(x = sample.visitName, y = percentage)) + \n",
    "  geom_boxplot(aes(fill = sample.visitName), alpha = .2, ) +  # Faint gray and dotted line color\n",
    "  geom_line(aes(group = subject.subjectGuid), color = \"black\", linetype = \"dotted\") + \n",
    "  geom_point(size = 2) +\n",
    "  scale_y_log10(breaks = c(0.00001,0.0001,0.001,0.01,0.1,1,10,100))+\n",
    "  facet_wrap(~ AIFI_L3, scales = \"free\", drop= FALSE) +\n",
    "  theme(\n",
    "    text = element_text(size = 40, color= \"black\"),  # Increase font size for all text elements\n",
    "    axis.title = element_text(size = 40),  # Increase font size for axis titles\n",
    "    legend.title = element_text(size = 50),  # Increase font size for legend title\n",
    "    legend.text = element_text(size = 50)  # Increase font size for legend text\n",
    "  ) + labs(y = \"Percentage (log10 scale)\") +  ggtitle(\"BR1\") + theme(plot.title = element_text(size = 60, hjust = 0.5, face = \"bold\"))\n",
    "\n",
    "# Add p-values to the plot\n",
    "p + geom_text(data = stat_test_1, aes(label = paste(\"Wilcoxon signed rank test p.adj =\", p.adj.signif)),  \n",
    "              x = 1, y = Inf, hjust = 0.1, vjust = 1, size = 8, color = \"black\")  # Centered and larger p-value text\n",
    "\n",
    "############## BR2 = percentage (log 10 scale)\n",
    "result_cohort <- filtered_data[filtered_data$cohort.cohortGuid == \"BR2\", ]\n",
    "\n",
    "stat_test_1 <- result_cohort %>%\n",
    "  select(percentage, percentage_clr, AIFI_L3, cohort.cohortGuid, CMV.IgG.Serology.Result.Interpretation, subject.biologicalSex, sample.visitName, subject.subjectGuid) %>%\n",
    "  unique() %>%\n",
    "  group_by(AIFI_L3) %>%\n",
    "  wilcox_test(percentage ~ sample.visitName, paired = TRUE) %>%\n",
    "  adjust_pvalue(method = \"BH\") %>%\n",
    "  add_significance() %>%\n",
    "  add_xy_position(x = \"AIFI_L3\", fun = \"max\")\n",
    "\n",
    "# Create the base plot with modified theme settings\n",
    "p <- ggplot(result_cohort, aes(x = sample.visitName, y = percentage)) + \n",
    "  geom_boxplot(aes(fill = sample.visitName), alpha = .2, ) +  # Faint gray and dotted line color\n",
    "  geom_line(aes(group = subject.subjectGuid), color = \"black\", linetype = \"dotted\") + \n",
    "  geom_point(size = 2) + \n",
    "  scale_y_log10(breaks = c(0.00001,0.0001,0.001,0.01,0.1,1,10,100))+\n",
    "  facet_wrap(~ AIFI_L3, scales = \"free\", drop= FALSE) +\n",
    "  theme(\n",
    "    text = element_text(size = 40, color= \"black\"),  # Increase font size for all text elements\n",
    "    axis.title = element_text(size = 40),  # Increase font size for axis titles\n",
    "    legend.title = element_text(size = 50),  # Increase font size for legend title\n",
    "    legend.text = element_text(size = 50)  # Increase font size for legend text\n",
    "  ) + labs(y = \"Percentage (log10 scale)\") +  ggtitle(\"BR2\") + theme(plot.title = element_text(size = 60, hjust = 0.5, face = \"bold\"))\n",
    "\n",
    "# Add p-values to the plot\n",
    "p + geom_text(data = stat_test_1, aes(label = paste(\"Wilcoxon signed rank test p.adj =\", p.adj.signif)),  \n",
    "              x = 1, y = Inf, hjust = 0.1, vjust = 1, size = 8, color = \"black\")  # Centered and larger p-value text"
   ]
  },
  {
   "cell_type": "code",
   "execution_count": null,
   "id": "27d6a6f4-474a-4257-9956-73fc6c5fdfa2",
   "metadata": {
    "tags": []
   },
   "outputs": [],
   "source": [
    "############## BR2 = CLR\n",
    "result_cohort <- filtered_data[filtered_data$cohort.cohortGuid == \"BR1\", ]\n",
    "\n",
    "stat_test_1 <- result_cohort %>%\n",
    "  select(percentage, percentage_clr, AIFI_L3, cohort.cohortGuid, CMV.IgG.Serology.Result.Interpretation, subject.biologicalSex, sample.visitName, subject.subjectGuid) %>%\n",
    "  unique() %>%\n",
    "  group_by(AIFI_L3) %>%\n",
    "  wilcox_test(percentage_clr ~ sample.visitName, paired = TRUE) %>%\n",
    "  adjust_pvalue(method = \"BH\") %>%\n",
    "  add_significance() %>%\n",
    "  add_xy_position(x = \"AIFI_L3\", fun = \"max\")\n",
    "\n",
    "# Create the base plot with modified theme settings\n",
    "p <- ggplot(result_cohort, aes(x = sample.visitName, y = percentage_clr)) + \n",
    "  geom_boxplot(aes(fill = sample.visitName), alpha = .2, ) +  # Faint gray and dotted line color\n",
    "  geom_line(aes(group = subject.subjectGuid), color = \"black\", linetype = \"dotted\") + \n",
    "  geom_point(size = 2) + \n",
    "  facet_wrap(~ AIFI_L3, scales = \"free\", drop= FALSE) +\n",
    "  theme(\n",
    "    text = element_text(size = 40, color= \"black\"),  # Increase font size for all text elements\n",
    "    axis.title = element_text(size = 40),  # Increase font size for axis titles\n",
    "    legend.title = element_text(size = 50),  # Increase font size for legend title\n",
    "    legend.text = element_text(size = 50)  # Increase font size for legend text\n",
    "  ) + labs(y = \"CLR\") +  ggtitle(\"BR1- ParentLv1 (CLR)\") + theme(plot.title = element_text(size = 60, hjust = 0.5, face = \"bold\"))\n",
    "\n",
    "# Add p-values to the plot\n",
    "p + geom_text(data = stat_test_1, aes(label = paste(\"Wilcoxon signed rank test p.adj =\", p.adj.signif)),  \n",
    "              x = 1, y = Inf, hjust = 0.1, vjust = 1, size = 8, color = \"black\")  # Centered and larger p-value text\n",
    "\n",
    "############## BR2 = CLR\n",
    "result_cohort <- filtered_data[filtered_data$cohort.cohortGuid == \"BR2\", ]\n",
    "\n",
    "stat_test_1 <- result_cohort %>%\n",
    "  select(percentage, percentage_clr, AIFI_L3, cohort.cohortGuid, CMV.IgG.Serology.Result.Interpretation, subject.biologicalSex, sample.visitName, subject.subjectGuid) %>%\n",
    "  unique() %>%\n",
    "  group_by(AIFI_L3) %>%\n",
    "  wilcox_test(percentage_clr ~ sample.visitName, paired = TRUE) %>%\n",
    "  adjust_pvalue(method = \"BH\") %>%\n",
    "  add_significance() %>%\n",
    "  add_xy_position(x = \"AIFI_L3\", fun = \"max\")\n",
    "\n",
    "# Create the base plot with modified theme settings\n",
    "p <- ggplot(result_cohort, aes(x = sample.visitName, y = percentage_clr)) + \n",
    "  geom_boxplot(aes(fill = sample.visitName), alpha = .2, ) +  # Faint gray and dotted line color\n",
    "  geom_line(aes(group = subject.subjectGuid), color = \"black\", linetype = \"dotted\") + \n",
    "  geom_point(size = 2) + \n",
    "  facet_wrap(~ AIFI_L3, scales = \"free\", drop= FALSE) +\n",
    "  theme(\n",
    "    text = element_text(size = 40, color= \"black\"),  # Increase font size for all text elements\n",
    "    axis.title = element_text(size = 40),  # Increase font size for axis titles\n",
    "    legend.title = element_text(size = 50),  # Increase font size for legend title\n",
    "    legend.text = element_text(size = 50)  # Increase font size for legend text\n",
    "  ) + labs(y = \"CLR\") +  ggtitle(\"BR2- ParentLv1 (CLR)\") + theme(plot.title = element_text(size = 60, hjust = 0.5, face = \"bold\"))\n",
    "\n",
    "# Add p-values to the plot\n",
    "p + geom_text(data = stat_test_1, aes(label = paste(\"Wilcoxon signed rank test p.adj =\", p.adj.signif)),  \n",
    "              x = 1, y = Inf, hjust = 0.1, vjust = 1, size = 8, color = \"black\")  # Centered and larger p-value text"
   ]
  },
  {
   "cell_type": "code",
   "execution_count": null,
   "id": "f058b5d0-f561-42c1-9d03-2e8db6c38dde",
   "metadata": {
    "tags": []
   },
   "outputs": [],
   "source": [
    "result_cohort <- filtered_data[filtered_data$cohort.cohortGuid == \"BR1\", ]\n",
    "\n",
    "stat_test_1 <- result_cohort %>%\n",
    "  select(percentage, percentage_clr, AIFI_L3, cohort.cohortGuid, CMV.IgG.Serology.Result.Interpretation, subject.biologicalSex, sample.visitName, subject.subjectGuid) %>%\n",
    "  unique() %>%\n",
    "  group_by(AIFI_L3) %>%\n",
    "  wilcox_test(percentage_clr ~ sample.visitName, paired = TRUE) %>%\n",
    "  adjust_pvalue(method = \"BH\") %>%\n",
    "  add_significance() %>%\n",
    "  add_xy_position(x = \"AIFI_L3\", fun = \"max\")\n",
    "\n",
    "\n",
    "print(stat_test_1)\n",
    "# significant_cell_types <- stat_test %>%\n",
    "#   filter(p.adj < 0.05) %>%\n",
    "#   select(AIFI_L3, .y., p, p.adj, p.adj.signif) %>%\n",
    "#   unique()\n",
    "\n",
    "# print(significant_cell_types)\n",
    "##\n",
    "result_cohort <- filtered_data[filtered_data$cohort.cohortGuid == \"BR2\", ]\n",
    "\n",
    "stat_test_2 <- result_cohort %>%\n",
    "  select(percentage, percentage_clr, AIFI_L3, cohort.cohortGuid, CMV.IgG.Serology.Result.Interpretation, subject.biologicalSex, sample.visitName, subject.subjectGuid) %>%\n",
    "  unique() %>%\n",
    "  group_by(AIFI_L3) %>%\n",
    "  wilcox_test(percentage_clr ~ sample.visitName, paired = TRUE) %>%\n",
    "  adjust_pvalue(method = \"BH\") %>%\n",
    "  add_significance() %>%\n",
    "  add_xy_position(x = \"AIFI_L3\", fun = \"max\")\n",
    "\n",
    "print(stat_test_2)\n",
    "\n",
    "\n",
    "# significant_cell_types_2 <- stat_test_2 %>%\n",
    "#   filter(p.adj < 0.05) %>%\n",
    "#   select(AIFI_L3, .y., p, p.adj, p.adj.signif) %>%\n",
    "#   unique()\n",
    "\n",
    "# print(significant_cell_types_2)"
   ]
  },
  {
   "cell_type": "markdown",
   "id": "f5308041-8135-405c-b0e3-4ddf2f301e8b",
   "metadata": {
    "tags": []
   },
   "source": [
    "# Comparsion within Monocyte cells(Percentage and Percentage CLR - AIFI Level 1 celltypes)¶"
   ]
  },
  {
   "cell_type": "code",
   "execution_count": null,
   "id": "e6adc1f9-67ac-4aa9-aadf-89cf6774bf22",
   "metadata": {
    "tags": []
   },
   "outputs": [],
   "source": [
    "cell_df <- flu_df %>% filter(AIFI_L1 == \"T cell\" , sample.visitName == \"Flu Year 1 Day 0\" | sample.visitName == \"Flu Year 1 Day 7\" )\n",
    "\n",
    "unique(cell_df$sample.visitName)\n",
    "unique(cell_df$AIFI_L3)"
   ]
  },
  {
   "cell_type": "code",
   "execution_count": null,
   "id": "fec96577-78dc-4344-8d16-d684b48dcffa",
   "metadata": {
    "tags": []
   },
   "outputs": [],
   "source": [
    "dict_final <- dict %>% filter(AIFI_L1 == \"T cell\")\n",
    "dict_final"
   ]
  },
  {
   "cell_type": "code",
   "execution_count": null,
   "id": "fef9a920-8f53-4bf4-94fd-9f8418dad4f7",
   "metadata": {
    "tags": []
   },
   "outputs": [],
   "source": [
    "# Perform inner join based on 'Cell_Type' column\n",
    "merged_df <- inner_join(cell_df, dict_final, by = 'AIFI_L3')\n",
    "unique(merged_df$AIFI_L3)"
   ]
  },
  {
   "cell_type": "code",
   "execution_count": null,
   "id": "e6b05b28-cd70-4b6f-8e7c-1c7047224fa7",
   "metadata": {
    "tags": []
   },
   "outputs": [],
   "source": [
    "## Percentage of total\n",
    "\n",
    "result_cell <- merged_df %>%\n",
    "  dplyr::group_by(AIFI_L3, subject.subjectGuid,sample.visitName ) %>%               \n",
    "  dplyr::summarise(count = n()) %>%                  # Count occurrences\n",
    "  dplyr::group_by(subject.subjectGuid, sample.visitName) %>%                       \n",
    "  dplyr::mutate(percentage = (count / sum(count)) * 100) %>% \n",
    "  dplyr::group_by(subject.subjectGuid, sample.visitName) %>%     \n",
    "  dplyr::mutate(percentage_clr = clr_transform((percentage))) %>% # Group again by subjectGuid for CLR# Calculate percentage\n",
    "  dplyr::ungroup()\n",
    "\n",
    "#head(result_cell)\n",
    "\n",
    "#sum(result_Bcell$subject.subjectGuid)"
   ]
  },
  {
   "cell_type": "code",
   "execution_count": null,
   "id": "9e801780-9239-4348-bf2a-7e52a457f7dd",
   "metadata": {
    "tags": []
   },
   "outputs": [],
   "source": [
    "result_cell_final<-inner_join(result_cell,unique(cell_df[c('cohort.cohortGuid','subject.subjectGuid','subject.biologicalSex','CMV.IgG.Serology.Result.Interpretation')]),by=c('subject.subjectGuid'))"
   ]
  },
  {
   "cell_type": "code",
   "execution_count": null,
   "id": "51f02e68-0764-4471-a583-7d0b71502548",
   "metadata": {
    "tags": []
   },
   "outputs": [],
   "source": [
    "\n",
    "\n",
    "stat_test<- result_cell_final %>%\n",
    "  select(percentage,percentage_clr, AIFI_L3, cohort.cohortGuid, CMV.IgG.Serology.Result.Interpretation, subject.biologicalSex, sample.visitName ) %>%\n",
    "  unique(.) %>%\n",
    "  group_by(AIFI_L3) %>%\n",
    "  wilcox_test(percentage_clr ~ sample.visitName) %>%\n",
    "  adjust_pvalue(method = \"BH\") %>%\n",
    "  add_significance()\n",
    "\n",
    "\n",
    "# Create the plot\n",
    "#options(repr.plot.width = 35, repr.plot.height = 12)\n",
    "p1 <- ggplot(result_cell_final, aes(x = reorder(AIFI_L3, desc(percentage)) , y = percentage, fill = sample.visitName)) +\n",
    "  geom_boxplot(width = .5, outlier.shape = '.') +\n",
    "  scale_x_discrete(name =\"AIFI_L3\", guide = guide_axis(angle = 90)) +\n",
    "  theme_bw(base_size = 12) +\n",
    "  geom_pwc(\n",
    "    aes(group = sample.visitName),\n",
    "    tip.length = 0, p.adjust.method = \"BH\",\n",
    "    method = \"wilcox_test\", label =\"{p.adj.signif}\", angle = 0, hide.ns = FALSE, label.size =7  # or \"panel\"\n",
    "  ) +\n",
    "  #facet_grid(cohort.cohortGuid ~ ., scales = \"free_y\", space = \"free_y\") +\n",
    "  scale_y_continuous(expand = expansion(mult = c(0.05, 0.15))) +\n",
    "   scale_y_continuous(expand = expansion(mult = c(0.05, 0.15))) +\n",
    "  theme(axis.text.x = element_text(size = 18, color = \"black\", angle = 90, hjust = 0.5, vjust = 0.5),\n",
    "        axis.text.y = element_text(size = 18, color = \"black\"),\n",
    "        axis.title.x = element_text(size = 18, color = \"black\"),\n",
    "        axis.title.y = element_text(size = 18, color = \"black\"),\n",
    "       legend.text = element_text(size = 13, color = \"black\"),  # Adjust the font size of legend text\n",
    "        legend.title = element_text(size = 15, color = \"black\")) +\n",
    "   ggtitle(\"Percentage\") + theme(plot.title = element_text(size = 25, hjust = 0.5, face = \"bold\"))\n",
    "\n",
    "\n",
    "\n",
    "\n",
    "\n",
    "\n",
    "# Create the plot\n",
    "#options(repr.plot.width = 35, repr.plot.height = 12)\n",
    "p2 <- ggplot(result_cell_final, aes(x = reorder(AIFI_L3, desc(percentage_clr)) , y = percentage_clr, fill = sample.visitName)) +\n",
    "  geom_boxplot(width = .5, outlier.shape = '.') +\n",
    "  scale_x_discrete(name =\"AIFI_L3\", guide = guide_axis(angle = 90)) +\n",
    "  theme_bw(base_size = 12) +\n",
    "  geom_pwc(\n",
    "    aes(group = sample.visitName),\n",
    "    tip.length = 0, p.adjust.method = \"BH\",\n",
    "    method = \"wilcox_test\", label =\"{p.adj.signif}\", angle = 0, hide.ns = FALSE, label.size =7  # or \"panel\"\n",
    "  ) +\n",
    "  #facet_grid(cohort.cohortGuid ~ ., scales = \"free_y\", space = \"free_y\") +\n",
    "   scale_y_continuous(expand = expansion(mult = c(0.05, 0.15))) +\n",
    "  theme(axis.text.x = element_text(size = 18, color = \"black\", angle = 90, hjust = 0.5, vjust = 0.5),\n",
    "        axis.text.y = element_text(size = 18, color = \"black\"),\n",
    "        axis.title.x = element_text(size = 18, color = \"black\"),\n",
    "        axis.title.y = element_text(size = 18, color = \"black\"),\n",
    "       legend.text = element_text(size = 13, color = \"black\"),  # Adjust the font size of legend text\n",
    "        legend.title = element_text(size = 15, color = \"black\"))+\n",
    "  ggtitle(\"CLR\") + theme(plot.title = element_text(size = 25, hjust = 0.5, face = \"bold\"))\n",
    "\n",
    "# Display the plot\n",
    "#print(p2)\n",
    "\n",
    "library(cowplot)\n",
    "options(repr.plot.width = 40, repr.plot.height = 25)\n",
    "\n",
    "\n",
    "stacked_plots <- plot_grid(p1 + theme(plot.margin = margin(b = 20)), p2, nrow = 2, rel_heights = c(1, 1))\n",
    "\n",
    "# Print the stacked plots\n",
    "stacked_plots\n",
    "\n",
    "\n",
    "#combined_plot\n",
    "\n"
   ]
  },
  {
   "cell_type": "code",
   "execution_count": null,
   "id": "4e0d0e50-8e80-463e-9523-b1ffd7c1cee1",
   "metadata": {
    "tags": []
   },
   "outputs": [],
   "source": [
    "dict"
   ]
  },
  {
   "cell_type": "markdown",
   "id": "49a75182-282b-4e66-8e93-674c10a9fe1d",
   "metadata": {
    "tags": []
   },
   "source": [
    "# Loop code for parent celltypes"
   ]
  },
  {
   "cell_type": "code",
   "execution_count": null,
   "id": "8fadd9a5-b15f-4ee4-b61e-c9fef03056bf",
   "metadata": {},
   "outputs": [],
   "source": [
    "#, sample.visitName == \"Flu Year 1 Day 0\" | sample.visitName == \"Flu Year 1 Day 7\""
   ]
  },
  {
   "cell_type": "code",
   "execution_count": null,
   "id": "e3e96940-d2e2-4dd7-9327-bb3a7895cbdc",
   "metadata": {
    "tags": []
   },
   "outputs": [],
   "source": [
    "#This works but has graph visual errors- code review with Samir\n",
    "\n",
    "\n",
    "unique_AIFI_L1 <- unique(flu_df$AIFI_L1)\n",
    "\n",
    "\n",
    "for(cell in unique_AIFI_L1){\n",
    "    \n",
    "    cell_df <- flu_df %>% filter(AIFI_L1 == cell , sample.visitName == \"Flu Year 1 Day 0\" | sample.visitName == \"Flu Year 1 Day 7\" )\n",
    "    \n",
    "    dict_final <- dict %>% filter(AIFI_L1 == cell)\n",
    "    \n",
    "    # Perform inner join based on 'AIFI_L3' column\n",
    "    merged_df <- inner_join(cell_df, dict_final, by = 'AIFI_L3')\n",
    "    \n",
    "    result_cell <- merged_df %>%\n",
    "          dplyr::group_by(AIFI_L3, subject.subjectGuid,sample.visitName ) %>%               \n",
    "          dplyr::summarise(count = n()) %>%                  # Count occurrences\n",
    "          dplyr::group_by(subject.subjectGuid, sample.visitName) %>%                       \n",
    "          dplyr::mutate(percentage = (count / sum(count)) * 100) %>% \n",
    "          dplyr::group_by(subject.subjectGuid, sample.visitName) %>%     \n",
    "          dplyr::mutate(percentage_clr = clr_transform((percentage))) %>% # Group again by subjectGuid for CLR# Calculate percentage\n",
    "          dplyr::ungroup()\n",
    "    \n",
    "    result_cell_final<-inner_join(result_cell,unique(cell_df[c('cohort.cohortGuid','subject.subjectGuid','subject.biologicalSex','CMV.IgG.Serology.Result.Interpretation')]),by=c('subject.subjectGuid'))\n",
    "    \n",
    "    \n",
    "    outfile <- paste(\"/home/jupyter/Myeloid_cells/Plots/FluYr1_D0vsD7_Percentage_&_CLR_Comparisons_Parent/FluYr1_D0vsD7_Percentage_&_CLR_Comparisons_\", cell, \".pdf\", sep=\"\")\n",
    "    options(repr.plot.width = 18, repr.plot.height = 10)\n",
    "    #Percentage\n",
    "    p1 <- ggplot(result_cell_final, aes(x = reorder(AIFI_L3, desc(percentage)) , y = percentage, fill = sample.visitName)) +\n",
    "              geom_boxplot(width = .5, outlier.shape = '.') +\n",
    "              scale_x_discrete(name =\"AIFI_L3\", guide = guide_axis(angle = 90)) +\n",
    "              theme_bw(base_size = 10) +\n",
    "              geom_pwc(\n",
    "                aes(group = sample.visitName),\n",
    "                tip.length = 0, p.adjust.method = \"BH\",\n",
    "                method = \"wilcox_test\", label =\"{p.adj.signif}\", angle = 0, hide.ns = FALSE, label.size =5  # or \"panel\"\n",
    "              ) +\n",
    "              #facet_grid(cohort.cohortGuid ~ ., scales = \"free_y\", space = \"free_y\") +\n",
    "               scale_y_continuous(expand = expansion(mult = c(0.05, 0.15))) +\n",
    "              theme(axis.text.x = element_text(size = 11, color = \"black\", angle = 90, hjust = 0.5, vjust = 0.5),\n",
    "                    axis.text.y = element_text(size = 11, color = \"black\"),\n",
    "                    axis.title.x = element_text(size = 11, color = \"black\"),\n",
    "                    axis.title.y = element_text(size = 11, color = \"black\"),\n",
    "                   legend.text = element_text(size = 11, color = \"black\"),  # Adjust the font size of legend text\n",
    "                    legend.title = element_text(size = 11, color = \"black\"))+\n",
    "              ggtitle(\"Percentage\") + theme(plot.title = element_text(size = 25, hjust = 0.5, face = \"bold\"))\n",
    "\n",
    "\n",
    "    #CLR\n",
    "    p2 <- ggplot(result_cell_final, aes(x = reorder(AIFI_L3, desc(percentage_clr)) , y = percentage_clr, fill = sample.visitName)) +\n",
    "              geom_boxplot(width = .5, outlier.shape = '.') +\n",
    "              scale_x_discrete(name =\"AIFI_L3\", guide = guide_axis(angle = 90)) +\n",
    "              theme_bw(base_size = 10) +\n",
    "              geom_pwc(\n",
    "                aes(group = sample.visitName),\n",
    "                tip.length = 0, p.adjust.method = \"BH\",\n",
    "                method = \"wilcox_test\", label =\"{p.adj.signif}\", angle = 0, hide.ns = FALSE, label.size =5  # or \"panel\"\n",
    "              ) +\n",
    "              #facet_grid(cohort.cohortGuid ~ ., scales = \"free_y\", space = \"free_y\") +\n",
    "               scale_y_continuous(expand = expansion(mult = c(0.05, 0.15))) +\n",
    "              theme(axis.text.x = element_text(size = 11, color = \"black\", angle = 90, hjust = 0.5, vjust = 0.5),v\n",
    "                    axis.text.y = element_text(size = 11, color = \"black\"),\n",
    "                    axis.title.x = element_text(size = 11, color = \"black\"),\n",
    "                    axis.title.y = element_text(size = 11, color = \"black\"),\n",
    "                   legend.text = element_text(size = 11, color = \"black\"),  # Adjust the font size of legend text\n",
    "                    legend.title = element_text(size = 11, color = \"black\"))+\n",
    "              ggtitle(\"CLR\") + theme(plot.title = element_text(size = 20, hjust = 0.5, face = \"bold\"))\n",
    "\n",
    "     stacked_plots <- plot_grid(p1 + theme(plot.margin = margin(b = 20)), p2, nrow = 2, rel_heights = c(1, 1))\n",
    "     pdf(file = outfile, width =16 , height = 20)\n",
    "     print(stacked_plots)\n",
    "     dev.off()\n",
    "    \n",
    "    \n",
    "    \n",
    "    \n",
    "    \n",
    "    }"
   ]
  },
  {
   "cell_type": "code",
   "execution_count": null,
   "id": "76ac53a7-5430-47f0-a45a-135ec9540a6e",
   "metadata": {
    "tags": []
   },
   "outputs": [],
   "source": []
  },
  {
   "cell_type": "code",
   "execution_count": null,
   "id": "4175410f-bfc5-4b8d-bb41-4c79f9089958",
   "metadata": {
    "tags": []
   },
   "outputs": [],
   "source": []
  },
  {
   "cell_type": "code",
   "execution_count": null,
   "id": "1a71dea8-83eb-4a57-af4a-fa3a2628d3bf",
   "metadata": {
    "tags": []
   },
   "outputs": [],
   "source": [
    "result_yr1 <- result %>% filter(sample.visitName == \"Flu Year 1 Day 0\" | sample.visitName == \"Flu Year 1 Day 7\")\n",
    "\n",
    "\n",
    "filtered_data <- result_yr1 %>%\n",
    "  group_by(AIFI_L3,subject.subjectGuid) %>%\n",
    "  filter(all(c(\"Flu Year 1 Day 0\", \"Flu Year 1 Day 7\") %in% sample.visitName))\n",
    "filtered_data\n",
    "\n",
    "\n",
    "#stat test - percentage\n",
    "stat_test_1<- filtered_data %>%\n",
    "  select(percentage,percentage_clr, AIFI_L3, cohort.cohortGuid, CMV.IgG.Serology.Result.Interpretation, subject.biologicalSex, sample.visitName, subject.subjectGuid) %>%\n",
    "  unique(.) %>%\n",
    "  group_by(AIFI_L3) %>%\n",
    "  wilcox_test(percentage ~ sample.visitName, paired= TRUE) %>%\n",
    "  adjust_pvalue(method = \"BH\") %>%\n",
    "  add_significance() %>% add_xy_position(x= \"AIFI_L3\", fun = \"max\", comparisons = list(c(\"Flu Year 1 Day 0\", \"Flu Year 1 Day 7\"))) \n",
    "\n",
    "# significant_cell_types_1 <- stat_test_1 %>%\n",
    "#   filter(p.adj < 0.05) %>%\n",
    "#   select(AIFI_L3, .y., p.adj, p.adj.signif) %>%\n",
    "#   unique()\n",
    "\n",
    "# print(significant_cell_types_1)\n",
    "\n",
    "\n",
    "# Create the plot\n",
    "#options(repr.plot.width = 35, repr.plot.height = 12)\n",
    "p4 <- ggplot(filtered_data, aes(x = AIFI_L3 , y = percentage, color = sample.visitName )) +\n",
    "  geom_boxplot(width = 0.5, outlier.shape = '.', position = position_dodge(width = 0.75), size=1) +\n",
    "  scale_x_discrete(name =\"AIFI_L3\", guide = guide_axis(angle = 90)) +\n",
    "  theme_bw(base_size = 12) +\n",
    "  stat_pvalue_manual(stat_test_1, label = \"p.adj.signif\", tip.length=0, y.position = 42, label.size = 12)+\n",
    "  scale_color_manual(values = c(\"Flu Year 1 Day 0\" = \"#1b9e77\", \"Flu Year 1 Day 7\" = \"#d95f02\")) + # Adjust colors as needed +\n",
    "  #facet_grid(cohort.cohortGuid ~ ., scales = \"free_y\", space = \"free_y\") +\n",
    "   scale_y_continuous(expand = expansion(mult = c(0.05, 0.15))) +\n",
    "  theme(text = element_text(size=45, color=\"black\"), \n",
    "      axis.text.x = element_text(color = \"black\"), \n",
    "      axis.text.y = element_text(color = \"black\"), \n",
    "      axis.title.x = element_text(color = \"black\"), \n",
    "      axis.title.y = element_text(color = \"black\"), \n",
    "      legend.text = element_text(color = \"black\"), \n",
    "      legend.title = element_text(color = \"black\"))+\n",
    "    ggtitle(\"Percentage\") + theme(plot.title = element_text(size = 35, hjust = 0.5, face = \"bold\"))\n",
    "     \n",
    "\n",
    "# Display the plot\n",
    "#print(p4)\n",
    "\n",
    "\n",
    "#stat test - CLR\n",
    "stat_test_2<- filtered_data %>%\n",
    "  select(percentage,percentage_clr, AIFI_L3, cohort.cohortGuid, CMV.IgG.Serology.Result.Interpretation, subject.biologicalSex, sample.visitName, subject.subjectGuid) %>%\n",
    "  unique(.) %>%\n",
    "  group_by(AIFI_L3) %>%\n",
    "  wilcox_test(percentage_clr ~ sample.visitName, paired= TRUE) %>%\n",
    "  adjust_pvalue(method = \"BH\") %>%\n",
    "  add_significance() %>% add_xy_position(x= \"AIFI_L3\", fun = \"max\", comparisons = list(c(\"Flu Year 1 Day 0\", \"Flu Year 1 Day 7\"))) \n",
    "\n",
    "# significant_cell_types_2 <- stat_test_2 %>%\n",
    "#   filter(p.adj < 0.05) %>%\n",
    "#   select(AIFI_L3, .y., p.adj, p.adj.signif) %>%\n",
    "#   unique()\n",
    "\n",
    "#print(significant_cell_types_2)\n",
    "\n",
    "\n",
    "# Create the plot\n",
    "#options(repr.plot.width = 35, repr.plot.height = 12)\n",
    "p5 <- ggplot(filtered_data, aes(x = AIFI_L3 , y = percentage_clr, color = sample.visitName )) +\n",
    "  geom_boxplot(width = 0.5, outlier.shape = '.', position = position_dodge(width = 0.75), size=1) +\n",
    "  scale_x_discrete(name =\"AIFI_L3\", guide = guide_axis(angle = 90)) +\n",
    "  theme_bw(base_size = 12) +\n",
    "  stat_pvalue_manual(stat_test_2, label = \"p.adj.signif\", tip.length=0, y.position = 10, label.size = 12)+\n",
    "  scale_color_manual(values = c(\"Flu Year 1 Day 0\" = \"#1b9e77\", \"Flu Year 1 Day 7\" = \"#d95f02\")) + # Adjust colors as needed +\n",
    "  #facet_grid(cohort.cohortGuid ~ ., scales = \"free_y\", space = \"free_y\") +\n",
    "   scale_y_continuous(expand = expansion(mult = c(0.05, 0.15))) +\n",
    "  theme(text = element_text(size=45, color=\"black\"), \n",
    "      axis.text.x = element_text(color = \"black\"), \n",
    "      axis.text.y = element_text(color = \"black\"), \n",
    "      axis.title.x = element_text(color = \"black\"), \n",
    "      axis.title.y = element_text(color = \"black\"), \n",
    "      legend.text = element_text(color = \"black\"), \n",
    "      legend.title = element_text(color = \"black\"))+\n",
    "     ggtitle(\"CLR\") + theme(plot.title = element_text(size = 35, hjust = 0.5, face = \"bold\"))\n",
    "\n",
    "# Display the plot\n",
    "#print(p2)\n",
    "\n",
    "library(cowplot)\n",
    "options(repr.plot.width = 60, repr.plot.height = 40)\n",
    "# Combine two plots vertically\n",
    "#combined_plot <- plot_grid(p1, p2, labels = c(\"CMV_neg\", \"CMV_pos\"), ncol =1, label_size = 20, vjust = 0)\n",
    "#combined_plot <- plot_grid(p1, p2, ncol=1,  nrow = 2, rel_heights = c(1, 2))\n",
    "\n",
    "stacked_plots <- plot_grid(p4 + theme(plot.margin = margin(b = 20)), p5, nrow = 2, rel_heights = c(1, 1))\n",
    "\n",
    "# Print the stacked plots\n",
    "stacked_plots\n",
    "\n",
    "\n"
   ]
  },
  {
   "cell_type": "code",
   "execution_count": null,
   "id": "b4dc2c7f-195c-4d98-a006-747208673069",
   "metadata": {
    "tags": []
   },
   "outputs": [],
   "source": [
    "#This works but has graph visual errors- code review with Samir\n",
    "\n",
    "\n",
    "unique_AIFI_L1 <- unique(flu_df$AIFI_L1)\n",
    "\n",
    "\n",
    "for(cell in unique_AIFI_L1){\n",
    "    \n",
    "    cell_df <- flu_df %>% filter(AIFI_L1 == cell , sample.visitName == \"Flu Year 1 Day 0\" | sample.visitName == \"Flu Year 1 Day 7\" )\n",
    "    \n",
    "    dict_final <- dict %>% filter(AIFI_L1 == cell)\n",
    "    \n",
    "    # Perform inner join based on 'AIFI_L3' column\n",
    "    merged_df <- inner_join(cell_df, dict_final, by = 'AIFI_L3')\n",
    "    \n",
    "    result_cell <- merged_df %>%\n",
    "          dplyr::group_by(AIFI_L3, subject.subjectGuid,sample.visitName ) %>%               \n",
    "          dplyr::summarise(count = n()) %>%                  # Count occurrences\n",
    "          dplyr::group_by(subject.subjectGuid, sample.visitName) %>%                       \n",
    "          dplyr::mutate(percentage = (count / sum(count)) * 100) %>% \n",
    "          dplyr::group_by(subject.subjectGuid, sample.visitName) %>%     \n",
    "          dplyr::mutate(percentage_clr = clr_transform((percentage))) %>% # Group again by subjectGuid for CLR# Calculate percentage\n",
    "          dplyr::ungroup()\n",
    "    \n",
    "    result_cell_final<-inner_join(result_cell,unique(cell_df[c('cohort.cohortGuid','subject.subjectGuid','subject.biologicalSex','CMV.IgG.Serology.Result.Interpretation')]),by=c('subject.subjectGuid'))\n",
    "    \n",
    "    result_yr1 <- result_cell_final %>% filter(sample.visitName == \"Flu Year 1 Day 0\" | sample.visitName == \"Flu Year 1 Day 7\")\n",
    "\n",
    "\n",
    "    filtered_data <- result_yr1 %>%\n",
    "      group_by(AIFI_L3,subject.subjectGuid) %>%\n",
    "      filter(all(c(\"Flu Year 1 Day 0\", \"Flu Year 1 Day 7\") %in% sample.visitName))\n",
    "    \n",
    "    \n",
    "    outfile <- paste(\"/home/jupyter/Myeloid_cells/Plots/FluYr1_D0vsD7_Percentage_&_CLR_Comparisons_Parent_paired/FluYr1_D0vsD7_Percentage_&_CLR_Comparisons_Parent_paired_\", cell, \".pdf\", sep=\"\")\n",
    "    options(repr.plot.width = 18, repr.plot.height = 10)\n",
    "    #Percentage\n",
    "    stat_test_1<- filtered_data %>%\n",
    "          select(percentage,percentage_clr, AIFI_L3, cohort.cohortGuid, CMV.IgG.Serology.Result.Interpretation, subject.biologicalSex, sample.visitName, subject.subjectGuid) %>%\n",
    "          unique(.) %>%\n",
    "          group_by(AIFI_L3) %>%\n",
    "          wilcox_test(percentage ~ sample.visitName, paired= TRUE) %>%\n",
    "          adjust_pvalue(method = \"BH\") %>%\n",
    "          add_significance() %>% add_xy_position(x= \"AIFI_L3\", fun = \"max\", comparisons = list(c(\"Flu Year 1 Day 0\", \"Flu Year 1 Day 7\"))) \n",
    " \n",
    "    p1 <- ggplot(filtered_data, aes(x = AIFI_L3 , y = percentage, color = sample.visitName )) +\n",
    "          geom_boxplot(width = 0.5, outlier.shape = '.', position = position_dodge(width = 0.75), size=1) +\n",
    "          scale_x_discrete(name =\"AIFI_L3\", guide = guide_axis(angle = 90)) +\n",
    "          theme_bw(base_size = 12) +\n",
    "          stat_pvalue_manual(stat_test_1, label = \"p.adj.signif\", tip.length=0, y.position = 42, label.size = 12)+\n",
    "          scale_color_manual(values = c(\"Flu Year 1 Day 0\" = \"#1b9e77\", \"Flu Year 1 Day 7\" = \"#d95f02\")) + # Adjust colors as needed +\n",
    "          #facet_grid(cohort.cohortGuid ~ ., scales = \"free_y\", space = \"free_y\") +\n",
    "           scale_y_continuous(expand = expansion(mult = c(0.05, 0.15))) +\n",
    "          theme(text = element_text(size=45, color=\"black\"), \n",
    "              axis.text.x = element_text(color = \"black\"), \n",
    "              axis.text.y = element_text(color = \"black\"), \n",
    "              axis.title.x = element_text(color = \"black\"), \n",
    "              axis.title.y = element_text(color = \"black\"), \n",
    "              legend.text = element_text(color = \"black\"), \n",
    "              legend.title = element_text(color = \"black\"))+\n",
    "            ggtitle(\"Percentage\") + theme(plot.title = element_text(size = 35, hjust = 0.5, face = \"bold\"))\n",
    "     \n",
    "    \n",
    "    \n",
    "    \n",
    "\n",
    "\n",
    "    #CLR\n",
    "    p2 <- ggplot(result_cell_final, aes(x = reorder(AIFI_L3, desc(percentage_clr)) , y = percentage_clr, fill = sample.visitName)) +\n",
    "              geom_boxplot(width = .5, outlier.shape = '.') +\n",
    "              scale_x_discrete(name =\"AIFI_L3\", guide = guide_axis(angle = 90)) +\n",
    "              theme_bw(base_size = 10) +\n",
    "              geom_pwc(\n",
    "                aes(group = sample.visitName),\n",
    "                tip.length = 0, p.adjust.method = \"BH\",\n",
    "                method = \"wilcox_test\", label =\"{p.adj.signif}\", angle = 0, hide.ns = FALSE, label.size =5  # or \"panel\"\n",
    "              ) +\n",
    "              #facet_grid(cohort.cohortGuid ~ ., scales = \"free_y\", space = \"free_y\") +\n",
    "               scale_y_continuous(expand = expansion(mult = c(0.05, 0.15))) +\n",
    "              theme(axis.text.x = element_text(size = 11, color = \"black\", angle = 90, hjust = 0.5, vjust = 0.5),\n",
    "                    axis.text.y = element_text(size = 11, color = \"black\"),\n",
    "                    axis.title.x = element_text(size = 11, color = \"black\"),\n",
    "                    axis.title.y = element_text(size = 11, color = \"black\"),\n",
    "                   legend.text = element_text(size = 11, color = \"black\"),  # Adjust the font size of legend text\n",
    "                    legend.title = element_text(size = 11, color = \"black\"))+\n",
    "              ggtitle(\"CLR\") + theme(plot.title = element_text(size = 20, hjust = 0.5, face = \"bold\"))\n",
    "\n",
    "     stacked_plots <- plot_grid(p1 + theme(plot.margin = margin(b = 20)), p2, nrow = 2, rel_heights = c(1, 1))\n",
    "     pdf(file = outfile, width =16 , height = 20)\n",
    "     print(stacked_plots)\n",
    "     dev.off()\n",
    "    \n",
    "    \n",
    "    \n",
    "    \n",
    "    \n",
    "    }"
   ]
  },
  {
   "cell_type": "markdown",
   "id": "6e80689e-7b04-496b-82bb-55f6a739bdcc",
   "metadata": {},
   "source": [
    "# Loop code for parent celltypes, split by cohort"
   ]
  },
  {
   "cell_type": "code",
   "execution_count": null,
   "id": "5e1c3256-d705-465f-8fdf-2e9e9bbd9882",
   "metadata": {
    "tags": []
   },
   "outputs": [],
   "source": [
    "#This works but has graph visual errors- code review with Samir\n",
    "\n",
    "#Percentage code (BR1 vs BR2)\n",
    "unique_AIFI_L1 <- unique(flu_df$AIFI_L1)\n",
    "\n",
    "\n",
    "for(cell in unique_AIFI_L1){\n",
    "    \n",
    "    cell_df <- flu_df %>% filter(AIFI_L1 == cell , sample.visitName == \"Flu Year 1 Day 0\" | sample.visitName == \"Flu Year 1 Day 7\" )\n",
    "    \n",
    "    dict_final <- dict %>% filter(AIFI_L1 == cell)\n",
    "    \n",
    "    # Perform inner join based on 'AIFI_L3' column\n",
    "    merged_df <- inner_join(cell_df, dict_final, by = 'AIFI_L3')\n",
    "    \n",
    "    result_cell <- merged_df %>%\n",
    "          dplyr::group_by(AIFI_L3, subject.subjectGuid,sample.visitName ) %>%               \n",
    "          dplyr::summarise(count = n()) %>%                  # Count occurrences\n",
    "          dplyr::group_by(subject.subjectGuid, sample.visitName) %>%                       \n",
    "          dplyr::mutate(percentage = (count / sum(count)) * 100) %>% \n",
    "          dplyr::group_by(subject.subjectGuid, sample.visitName) %>%     \n",
    "          dplyr::mutate(percentage_clr = clr_transform((percentage))) %>% # Group again by subjectGuid for CLR# Calculate percentage\n",
    "          dplyr::ungroup()\n",
    "    \n",
    "    result_cell_final<-inner_join(result_cell,unique(cell_df[c('cohort.cohortGuid','subject.subjectGuid','subject.biologicalSex','CMV.IgG.Serology.Result.Interpretation')]),by=c('subject.subjectGuid'))\n",
    "    \n",
    "    \n",
    "    outfile <- paste(\"/home/jupyter/Myeloid_cells/Plots/FluYr1_D0vsD7_Percentage_By_Cohort_Comparisons_Parent/FluYr1_D0vsD7_Percentage_By_Cohort_Comparisons_Parent_\", cell, \".pdf\", sep=\"\")\n",
    "    options(repr.plot.width = 18, repr.plot.height = 10)\n",
    "    #BR1\n",
    "    result_cohort <- result_cell_final[result_cell_final$cohort.cohortGuid == \"BR1\", ]\n",
    "    p1 <- ggplot(result_cohort, aes(x = reorder(AIFI_L3, desc(percentage)) , y = percentage, fill = sample.visitName)) +\n",
    "              geom_boxplot(width = .5, outlier.shape = '.') +\n",
    "              scale_x_discrete(name =\"AIFI_L3\", guide = guide_axis(angle = 90)) +\n",
    "              theme_bw(base_size = 12) +\n",
    "              geom_pwc(\n",
    "                aes(group = sample.visitName),\n",
    "                tip.length = 0, p.adjust.method = \"BH\",\n",
    "                method = \"wilcox_test\", label =\"{p.adj.signif}\", angle = 0, hide.ns = FALSE, label.size =7  # or \"panel\"\n",
    "              ) +\n",
    "              #facet_grid(cohort.cohortGuid ~ ., scales = \"free_y\", space = \"free_y\") +\n",
    "              scale_y_continuous(expand = expansion(mult = c(0.05, 0.15))) +\n",
    "              theme(axis.text.x = element_text(size = 11, color = \"black\", angle = 90, hjust = 0.5, vjust = 0.5),\n",
    "                    axis.text.y = element_text(size = 11, color = \"black\"),\n",
    "                    axis.title.x = element_text(size = 11, color = \"black\"),\n",
    "                    axis.title.y = element_text(size = 11, color = \"black\"),\n",
    "                   legend.text = element_text(size = 11, color = \"black\"),  # Adjust the font size of legend text\n",
    "                    legend.title = element_text(size = 11, color = \"black\"))+\n",
    "              ggtitle(\"BR1\") + theme(plot.title = element_text(size = 25, hjust = 0.5, face = \"bold\"))\n",
    "\n",
    "\n",
    "    #BR2\n",
    "    result_cohort <- result_cell_final[result_cell_final$cohort.cohortGuid == \"BR2\", ]\n",
    "    p2 <- ggplot(result_cohort, aes(x = reorder(AIFI_L3, desc(percentage)) , y = percentage, fill = sample.visitName)) +\n",
    "              geom_boxplot(width = .5, outlier.shape = '.') +\n",
    "              scale_x_discrete(name =\"AIFI_L3\", guide = guide_axis(angle = 90)) +\n",
    "              theme_bw(base_size = 12) +\n",
    "              geom_pwc(\n",
    "                aes(group = sample.visitName),\n",
    "                tip.length = 0, p.adjust.method = \"BH\",\n",
    "                method = \"wilcox_test\", label =\"{p.adj.signif}\", angle = 0, hide.ns = FALSE, label.size =7  # or \"panel\"\n",
    "              ) +\n",
    "              #facet_grid(cohort.cohortGuid ~ ., scales = \"free_y\", space = \"free_y\") +\n",
    "              scale_y_continuous(expand = expansion(mult = c(0.05, 0.15))) +\n",
    "              theme(axis.text.x = element_text(size = 11, color = \"black\", angle = 90, hjust = 0.5, vjust = 0.5),\n",
    "                    axis.text.y = element_text(size = 11, color = \"black\"),\n",
    "                    axis.title.x = element_text(size = 11, color = \"black\"),\n",
    "                    axis.title.y = element_text(size = 11, color = \"black\"),\n",
    "                   legend.text = element_text(size = 11, color = \"black\"),  # Adjust the font size of legend text\n",
    "                    legend.title = element_text(size = 11, color = \"black\"))+\n",
    "              ggtitle(\"BR2\") + theme(plot.title = element_text(size = 20, hjust = 0.5, face = \"bold\"))\n",
    "\n",
    "     stacked_plots <- plot_grid(p1 + theme(plot.margin = margin(b = 20)), p2, nrow = 2, rel_heights = c(1, 1))\n",
    "     pdf(file = outfile, width =16 , height = 20)\n",
    "     print(stacked_plots)\n",
    "     dev.off()\n",
    "    \n",
    "    \n",
    "    \n",
    "    \n",
    "    \n",
    "    }"
   ]
  },
  {
   "cell_type": "code",
   "execution_count": null,
   "id": "6b11314d-0968-4dfb-b501-c5f43e2f2092",
   "metadata": {
    "tags": []
   },
   "outputs": [],
   "source": [
    "#CLR code (BR1 vs BR2)\n",
    "\n",
    "\n",
    "unique_AIFI_L1 <- unique(flu_df$AIFI_L1)\n",
    "\n",
    "\n",
    "for(cell in unique_AIFI_L1){\n",
    "    \n",
    "    cell_df <- flu_df %>% filter(AIFI_L1 == cell , sample.visitName == \"Flu Year 1 Day 0\" | sample.visitName == \"Flu Year 1 Day 7\" )\n",
    "    \n",
    "    dict_final <- dict %>% filter(AIFI_L1 == cell)\n",
    "    \n",
    "    # Perform inner join based on 'AIFI_L3' column\n",
    "    merged_df <- inner_join(cell_df, dict_final, by = 'AIFI_L3')\n",
    "    \n",
    "    result_cell <- merged_df %>%\n",
    "          dplyr::group_by(AIFI_L3, subject.subjectGuid,sample.visitName ) %>%               \n",
    "          dplyr::summarise(count = n()) %>%                  # Count occurrences\n",
    "          dplyr::group_by(subject.subjectGuid, sample.visitName) %>%                       \n",
    "          dplyr::mutate(percentage = (count / sum(count)) * 100) %>% \n",
    "          dplyr::group_by(subject.subjectGuid, sample.visitName) %>%     \n",
    "          dplyr::mutate(percentage_clr = clr_transform((percentage))) %>% # Group again by subjectGuid for CLR# Calculate percentage\n",
    "          dplyr::ungroup()\n",
    "    \n",
    "    result_cell_final<-inner_join(result_cell,unique(cell_df[c('cohort.cohortGuid','subject.subjectGuid','subject.biologicalSex','CMV.IgG.Serology.Result.Interpretation')]),by=c('subject.subjectGuid'))\n",
    "    \n",
    "    \n",
    "    outfile <- paste(\"/home/jupyter/Myeloid_cells/Plots/FluYr1_D0vsD7_CLR_By_Cohort_Comparisons_Parent/FluYr1_D0vsD7_CLR_By_Cohort_Comparisons_Parent_\", cell, \".pdf\", sep=\"\")\n",
    "    options(repr.plot.width = 18, repr.plot.height = 10)\n",
    "    #BR1\n",
    "    result_cohort <- result_cell_final[result_cell_final$cohort.cohortGuid == \"BR1\", ]\n",
    "    p1 <- ggplot(result_cohort, aes(x = reorder(AIFI_L3, desc(percentage_clr)) , y = percentage_clr, fill = sample.visitName)) +\n",
    "              geom_boxplot(width = .5, outlier.shape = '.') +\n",
    "              scale_x_discrete(name =\"AIFI_L3\", guide = guide_axis(angle = 90)) +\n",
    "              theme_bw(base_size = 12) +\n",
    "              geom_pwc(\n",
    "                aes(group = sample.visitName),\n",
    "                tip.length = 0, p.adjust.method = \"BH\",\n",
    "                method = \"wilcox_test\", label =\"{p.adj.signif}\", angle = 0, hide.ns = FALSE, label.size =7  # or \"panel\"\n",
    "              ) +\n",
    "              #facet_grid(cohort.cohortGuid ~ ., scales = \"free_y\", space = \"free_y\") +\n",
    "              scale_y_continuous(expand = expansion(mult = c(0.05, 0.15))) +\n",
    "              theme(axis.text.x = element_text(size = 11, color = \"black\", angle = 90, hjust = 0.5, vjust = 0.5),\n",
    "                    axis.text.y = element_text(size = 11, color = \"black\"),\n",
    "                    axis.title.x = element_text(size = 11, color = \"black\"),\n",
    "                    axis.title.y = element_text(size = 11, color = \"black\"),\n",
    "                   legend.text = element_text(size = 11, color = \"black\"),  # Adjust the font size of legend text\n",
    "                    legend.title = element_text(size = 11, color = \"black\"))+\n",
    "              ggtitle(\"BR1\") + theme(plot.title = element_text(size = 25, hjust = 0.5, face = \"bold\"))\n",
    "\n",
    "\n",
    "    #BR2\n",
    "    result_cohort <- result_cell_final[result_cell_final$cohort.cohortGuid == \"BR2\", ]\n",
    "    p2 <- ggplot(result_cohort, aes(x = reorder(AIFI_L3, desc(percentage_clr)) , y = percentage_clr, fill = sample.visitName)) +\n",
    "              geom_boxplot(width = .5, outlier.shape = '.') +\n",
    "              scale_x_discrete(name =\"AIFI_L3\", guide = guide_axis(angle = 90)) +\n",
    "              theme_bw(base_size = 12) +\n",
    "              geom_pwc(\n",
    "                aes(group = sample.visitName),\n",
    "                tip.length = 0, p.adjust.method = \"BH\",\n",
    "                method = \"wilcox_test\", label =\"{p.adj.signif}\", angle = 0, hide.ns = FALSE, label.size =7  # or \"panel\"\n",
    "              ) +\n",
    "              #facet_grid(cohort.cohortGuid ~ ., scales = \"free_y\", space = \"free_y\") +\n",
    "              scale_y_continuous(expand = expansion(mult = c(0.05, 0.15))) +\n",
    "              theme(axis.text.x = element_text(size = 11, color = \"black\", angle = 90, hjust = 0.5, vjust = 0.5),\n",
    "                    axis.text.y = element_text(size = 11, color = \"black\"),\n",
    "                    axis.title.x = element_text(size = 11, color = \"black\"),\n",
    "                    axis.title.y = element_text(size = 11, color = \"black\"),\n",
    "                   legend.text = element_text(size = 11, color = \"black\"),  # Adjust the font size of legend text\n",
    "                    legend.title = element_text(size = 11, color = \"black\"))+\n",
    "              ggtitle(\"BR2\") + theme(plot.title = element_text(size = 20, hjust = 0.5, face = \"bold\"))\n",
    "\n",
    "     stacked_plots <- plot_grid(p1 + theme(plot.margin = margin(b = 20)), p2, nrow = 2, rel_heights = c(1, 1))\n",
    "     pdf(file = outfile, width =16 , height = 20)\n",
    "     print(stacked_plots)\n",
    "     dev.off()\n",
    "    \n",
    "    \n",
    "    \n",
    "    \n",
    "    \n",
    "    }"
   ]
  },
  {
   "cell_type": "code",
   "execution_count": null,
   "id": "fc89beb3-7a12-46af-8983-de41abc9894b",
   "metadata": {},
   "outputs": [],
   "source": []
  }
 ],
 "metadata": {
  "kernelspec": {
   "display_name": "R 4",
   "language": "R",
   "name": "ir4"
  },
  "language_info": {
   "codemirror_mode": "r",
   "file_extension": ".r",
   "mimetype": "text/x-r-source",
   "name": "R",
   "pygments_lexer": "r",
   "version": "4.3.1"
  }
 },
 "nbformat": 4,
 "nbformat_minor": 5
}
