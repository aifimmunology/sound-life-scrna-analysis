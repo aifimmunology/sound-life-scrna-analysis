{
 "cells": [
  {
   "cell_type": "code",
   "execution_count": 13,
   "id": "13268c3e-763e-4d22-8c8c-f144f34e317e",
   "metadata": {
    "tags": []
   },
   "outputs": [
    {
     "name": "stderr",
     "output_type": "stream",
     "text": [
      "------------------------------------------------------------------------------\n",
      "\n",
      "You have loaded plyr after dplyr - this is likely to cause problems.\n",
      "If you need functions from both plyr and dplyr, please load plyr first, then dplyr:\n",
      "library(plyr); library(dplyr)\n",
      "\n",
      "------------------------------------------------------------------------------\n",
      "\n",
      "\n",
      "Attaching package: ‘plyr’\n",
      "\n",
      "\n",
      "The following objects are masked from ‘package:dplyr’:\n",
      "\n",
      "    arrange, count, desc, failwith, id, mutate, rename, summarise,\n",
      "    summarize\n",
      "\n",
      "\n",
      "\n",
      "Attaching package: ‘purrr’\n",
      "\n",
      "\n",
      "The following object is masked from ‘package:plyr’:\n",
      "\n",
      "    compact\n",
      "\n",
      "\n",
      "Loading required package: permute\n",
      "\n",
      "Loading required package: lattice\n",
      "\n",
      "This is vegan 2.6-4\n",
      "\n",
      "\n",
      "Attaching package: ‘rstatix’\n",
      "\n",
      "\n",
      "The following objects are masked from ‘package:plyr’:\n",
      "\n",
      "    desc, mutate\n",
      "\n",
      "\n",
      "The following object is masked from ‘package:stats’:\n",
      "\n",
      "    filter\n",
      "\n",
      "\n",
      "Loading required package: ggplot2\n",
      "\n",
      "\n",
      "Attaching package: ‘ggpubr’\n",
      "\n",
      "\n",
      "The following object is masked from ‘package:plyr’:\n",
      "\n",
      "    mutate\n",
      "\n",
      "\n",
      "Loading required package: grid\n",
      "\n",
      "========================================\n",
      "ComplexHeatmap version 2.16.0\n",
      "Bioconductor page: http://bioconductor.org/packages/ComplexHeatmap/\n",
      "Github page: https://github.com/jokergoo/ComplexHeatmap\n",
      "Documentation: http://jokergoo.github.io/ComplexHeatmap-reference\n",
      "\n",
      "If you use it in published research, please cite either one:\n",
      "- Gu, Z. Complex Heatmap Visualization. iMeta 2022.\n",
      "- Gu, Z. Complex heatmaps reveal patterns and correlations in multidimensional \n",
      "    genomic data. Bioinformatics 2016.\n",
      "\n",
      "\n",
      "The new InteractiveComplexHeatmap package can directly export static \n",
      "complex heatmaps into an interactive Shiny app with zero effort. Have a try!\n",
      "\n",
      "This message can be suppressed by:\n",
      "  suppressPackageStartupMessages(library(ComplexHeatmap))\n",
      "========================================\n",
      "! pheatmap() has been masked by ComplexHeatmap::pheatmap(). Most of the arguments\n",
      "   in the original pheatmap() are identically supported in the new function. You \n",
      "   can still use the original function by explicitly calling pheatmap::pheatmap().\n",
      "\n",
      "\n",
      "\n",
      "Attaching package: ‘ComplexHeatmap’\n",
      "\n",
      "\n",
      "The following object is masked from ‘package:pheatmap’:\n",
      "\n",
      "    pheatmap\n",
      "\n",
      "\n"
     ]
    },
    {
     "ename": "ERROR",
     "evalue": "Error in library(compositions): there is no package called ‘compositions’\n",
     "output_type": "error",
     "traceback": [
      "Error in library(compositions): there is no package called ‘compositions’\nTraceback:\n",
      "1. library(compositions)"
     ]
    }
   ],
   "source": [
    "suppressPackageStartupMessages(library(readxl))\n",
    "suppressPackageStartupMessages(library(dplyr))\n",
    "suppressPackageStartupMessages(library(tidyr))\n",
    "suppressPackageStartupMessages(library(tibble))\n",
    "suppressPackageStartupMessages(library(patchwork))\n",
    "suppressPackageStartupMessages(library(pheatmap))\n",
    "suppressPackageStartupMessages(library(stringr))\n",
    "library(hise)\n",
    "library(plyr)\n",
    "library(purrr)\n",
    "library(vegan)\n",
    "#library(arrow)\n",
    "library(rstatix)\n",
    "library(parallel)\n",
    "library(ggpubr)\n",
    "library(ComplexHeatmap)\n",
    "library(compositions)\n",
    "library(ggsci)\n",
    "library(math)\n",
    "library(NatParksPalettes)"
   ]
  },
  {
   "cell_type": "markdown",
   "id": "d5162395-6869-487a-8942-05062243788b",
   "metadata": {},
   "source": [
    "# Read data"
   ]
  },
  {
   "cell_type": "code",
   "execution_count": 14,
   "id": "60884ab7-d1a9-45ce-8a00-64410dc295db",
   "metadata": {
    "tags": []
   },
   "outputs": [],
   "source": [
    "# Read the CSV file into a data frame\n",
    "read_df <- read.csv('/home/jupyter/IH-A-Aging-Analysis-Notebooks_old/Mansi_Notebooks/scRNA/Frequency_Plot/Il1B_Cd14_mono_obsdata_v2.csv')\n"
   ]
  },
  {
   "cell_type": "code",
   "execution_count": 15,
   "id": "5b4cdfe0-29c1-4f23-bb54-a8e64dbfe8a8",
   "metadata": {
    "tags": []
   },
   "outputs": [
    {
     "data": {
      "text/html": [
       "'/home/jupyter/IH-A-Aging-Analysis-Notebooks_old/Mansi_Notebooks/scRNA/DEG_Analysis/MS_Sex_DEG_analysis'"
      ],
      "text/latex": [
       "'/home/jupyter/IH-A-Aging-Analysis-Notebooks\\_old/Mansi\\_Notebooks/scRNA/DEG\\_Analysis/MS\\_Sex\\_DEG\\_analysis'"
      ],
      "text/markdown": [
       "'/home/jupyter/IH-A-Aging-Analysis-Notebooks_old/Mansi_Notebooks/scRNA/DEG_Analysis/MS_Sex_DEG_analysis'"
      ],
      "text/plain": [
       "[1] \"/home/jupyter/IH-A-Aging-Analysis-Notebooks_old/Mansi_Notebooks/scRNA/DEG_Analysis/MS_Sex_DEG_analysis\""
      ]
     },
     "metadata": {},
     "output_type": "display_data"
    }
   ],
   "source": [
    "getwd()"
   ]
  },
  {
   "cell_type": "code",
   "execution_count": 16,
   "id": "18e7215c-08d8-4368-9a88-73613136db11",
   "metadata": {
    "tags": []
   },
   "outputs": [],
   "source": [
    "read_df$facet <- paste(read_df$subject.biologicalSex, read_df$cohort.cohortGuid, sep = \"_\")"
   ]
  },
  {
   "cell_type": "code",
   "execution_count": 17,
   "id": "cafca1cb-2a83-4834-b7ce-003a90e879ab",
   "metadata": {
    "tags": []
   },
   "outputs": [
    {
     "data": {
      "text/html": [
       "<table class=\"dataframe\">\n",
       "<caption>A data.frame: 6 × 52</caption>\n",
       "<thead>\n",
       "\t<tr><th></th><th scope=col>barcodes</th><th scope=col>batch_id</th><th scope=col>cell_name</th><th scope=col>cell_uuid</th><th scope=col>chip_id</th><th scope=col>hto_barcode</th><th scope=col>hto_category</th><th scope=col>n_genes</th><th scope=col>n_mito_umis</th><th scope=col>n_reads</th><th scope=col>⋯</th><th scope=col>pct_counts_in_top_200_genes</th><th scope=col>pct_counts_in_top_500_genes</th><th scope=col>total_counts_mito</th><th scope=col>log1p_total_counts_mito</th><th scope=col>pct_counts_mito</th><th scope=col>leiden_resolution_0.5</th><th scope=col>leiden_resolution_1</th><th scope=col>leiden_resolution_1.5</th><th scope=col>leiden_resolution_2</th><th scope=col>facet</th></tr>\n",
       "\t<tr><th></th><th scope=col>&lt;chr&gt;</th><th scope=col>&lt;chr&gt;</th><th scope=col>&lt;chr&gt;</th><th scope=col>&lt;chr&gt;</th><th scope=col>&lt;chr&gt;</th><th scope=col>&lt;chr&gt;</th><th scope=col>&lt;chr&gt;</th><th scope=col>&lt;int&gt;</th><th scope=col>&lt;int&gt;</th><th scope=col>&lt;int&gt;</th><th scope=col>⋯</th><th scope=col>&lt;dbl&gt;</th><th scope=col>&lt;dbl&gt;</th><th scope=col>&lt;dbl&gt;</th><th scope=col>&lt;dbl&gt;</th><th scope=col>&lt;dbl&gt;</th><th scope=col>&lt;int&gt;</th><th scope=col>&lt;int&gt;</th><th scope=col>&lt;int&gt;</th><th scope=col>&lt;int&gt;</th><th scope=col>&lt;chr&gt;</th></tr>\n",
       "</thead>\n",
       "<tbody>\n",
       "\t<tr><th scope=row>1</th><td>cfb4162a48b611ea8957bafe6d70929e</td><td>B001</td><td>anaemic_human_emu            </td><td>cfb4162a48b611ea8957bafe6d70929e</td><td>B001-P1C1</td><td>TGATGGCCTATTGGG</td><td>singlet</td><td>2867</td><td>546</td><td>32119</td><td>⋯</td><td>55.89099</td><td>68.44291</td><td>546</td><td>6.304449</td><td>5.531354</td><td>0</td><td>3</td><td> 4</td><td>18</td><td>Female_BR1</td></tr>\n",
       "\t<tr><th scope=row>2</th><td>70ab258848b611eaa65d9e7d578d66f2</td><td>B001</td><td>pine_enervated_caracal       </td><td>70ab258848b611eaa65d9e7d578d66f2</td><td>B001-P1C1</td><td>TGATGGCCTATTGGG</td><td>singlet</td><td>2354</td><td>220</td><td>27740</td><td>⋯</td><td>57.66811</td><td>71.84454</td><td>220</td><td>5.398163</td><td>2.714374</td><td>2</td><td>2</td><td> 1</td><td> 6</td><td>Female_BR1</td></tr>\n",
       "\t<tr><th scope=row>3</th><td>70acf29648b611eaa65d9e7d578d66f2</td><td>B001</td><td>bland_sandy_owl              </td><td>70acf29648b611eaa65d9e7d578d66f2</td><td>B001-P1C1</td><td>TGATGGCCTATTGGG</td><td>singlet</td><td>4302</td><td>776</td><td>73872</td><td>⋯</td><td>56.86120</td><td>68.77470</td><td>776</td><td>6.655440</td><td>3.608463</td><td>2</td><td>1</td><td> 0</td><td>10</td><td>Female_BR1</td></tr>\n",
       "\t<tr><th scope=row>4</th><td>70d2b34648b611eaa65d9e7d578d66f2</td><td>B001</td><td>mellow_intact_gecko          </td><td>70d2b34648b611eaa65d9e7d578d66f2</td><td>B001-P1C1</td><td>TGATGGCCTATTGGG</td><td>singlet</td><td>2176</td><td>167</td><td>20037</td><td>⋯</td><td>52.73269</td><td>67.80391</td><td>167</td><td>5.123964</td><td>2.765817</td><td>0</td><td>7</td><td> 9</td><td> 9</td><td>Female_BR1</td></tr>\n",
       "\t<tr><th scope=row>5</th><td>70d844f048b611eaa65d9e7d578d66f2</td><td>B001</td><td>commonable_jadeite_wrenchbird</td><td>70d844f048b611eaa65d9e7d578d66f2</td><td>B001-P1C1</td><td>TGATGGCCTATTGGG</td><td>singlet</td><td>1977</td><td>124</td><td>20342</td><td>⋯</td><td>57.78995</td><td>72.12544</td><td>124</td><td>4.828314</td><td>2.057408</td><td>2</td><td>2</td><td> 1</td><td> 6</td><td>Female_BR1</td></tr>\n",
       "\t<tr><th scope=row>6</th><td>a711a6d8489811ea92388a6a0c683ffb</td><td>B001</td><td>villainous_preoceanic_jackal </td><td>a711a6d8489811ea92388a6a0c683ffb</td><td>B001-P1C1</td><td>TGATGGCCTATTGGG</td><td>singlet</td><td>1287</td><td>237</td><td> 9010</td><td>⋯</td><td>56.26290</td><td>72.91810</td><td>237</td><td>5.472270</td><td>8.155540</td><td>2</td><td>2</td><td>13</td><td>19</td><td>Female_BR1</td></tr>\n",
       "</tbody>\n",
       "</table>\n"
      ],
      "text/latex": [
       "A data.frame: 6 × 52\n",
       "\\begin{tabular}{r|lllllllllllllllllllll}\n",
       "  & barcodes & batch\\_id & cell\\_name & cell\\_uuid & chip\\_id & hto\\_barcode & hto\\_category & n\\_genes & n\\_mito\\_umis & n\\_reads & ⋯ & pct\\_counts\\_in\\_top\\_200\\_genes & pct\\_counts\\_in\\_top\\_500\\_genes & total\\_counts\\_mito & log1p\\_total\\_counts\\_mito & pct\\_counts\\_mito & leiden\\_resolution\\_0.5 & leiden\\_resolution\\_1 & leiden\\_resolution\\_1.5 & leiden\\_resolution\\_2 & facet\\\\\n",
       "  & <chr> & <chr> & <chr> & <chr> & <chr> & <chr> & <chr> & <int> & <int> & <int> & ⋯ & <dbl> & <dbl> & <dbl> & <dbl> & <dbl> & <int> & <int> & <int> & <int> & <chr>\\\\\n",
       "\\hline\n",
       "\t1 & cfb4162a48b611ea8957bafe6d70929e & B001 & anaemic\\_human\\_emu             & cfb4162a48b611ea8957bafe6d70929e & B001-P1C1 & TGATGGCCTATTGGG & singlet & 2867 & 546 & 32119 & ⋯ & 55.89099 & 68.44291 & 546 & 6.304449 & 5.531354 & 0 & 3 &  4 & 18 & Female\\_BR1\\\\\n",
       "\t2 & 70ab258848b611eaa65d9e7d578d66f2 & B001 & pine\\_enervated\\_caracal        & 70ab258848b611eaa65d9e7d578d66f2 & B001-P1C1 & TGATGGCCTATTGGG & singlet & 2354 & 220 & 27740 & ⋯ & 57.66811 & 71.84454 & 220 & 5.398163 & 2.714374 & 2 & 2 &  1 &  6 & Female\\_BR1\\\\\n",
       "\t3 & 70acf29648b611eaa65d9e7d578d66f2 & B001 & bland\\_sandy\\_owl               & 70acf29648b611eaa65d9e7d578d66f2 & B001-P1C1 & TGATGGCCTATTGGG & singlet & 4302 & 776 & 73872 & ⋯ & 56.86120 & 68.77470 & 776 & 6.655440 & 3.608463 & 2 & 1 &  0 & 10 & Female\\_BR1\\\\\n",
       "\t4 & 70d2b34648b611eaa65d9e7d578d66f2 & B001 & mellow\\_intact\\_gecko           & 70d2b34648b611eaa65d9e7d578d66f2 & B001-P1C1 & TGATGGCCTATTGGG & singlet & 2176 & 167 & 20037 & ⋯ & 52.73269 & 67.80391 & 167 & 5.123964 & 2.765817 & 0 & 7 &  9 &  9 & Female\\_BR1\\\\\n",
       "\t5 & 70d844f048b611eaa65d9e7d578d66f2 & B001 & commonable\\_jadeite\\_wrenchbird & 70d844f048b611eaa65d9e7d578d66f2 & B001-P1C1 & TGATGGCCTATTGGG & singlet & 1977 & 124 & 20342 & ⋯ & 57.78995 & 72.12544 & 124 & 4.828314 & 2.057408 & 2 & 2 &  1 &  6 & Female\\_BR1\\\\\n",
       "\t6 & a711a6d8489811ea92388a6a0c683ffb & B001 & villainous\\_preoceanic\\_jackal  & a711a6d8489811ea92388a6a0c683ffb & B001-P1C1 & TGATGGCCTATTGGG & singlet & 1287 & 237 &  9010 & ⋯ & 56.26290 & 72.91810 & 237 & 5.472270 & 8.155540 & 2 & 2 & 13 & 19 & Female\\_BR1\\\\\n",
       "\\end{tabular}\n"
      ],
      "text/markdown": [
       "\n",
       "A data.frame: 6 × 52\n",
       "\n",
       "| <!--/--> | barcodes &lt;chr&gt; | batch_id &lt;chr&gt; | cell_name &lt;chr&gt; | cell_uuid &lt;chr&gt; | chip_id &lt;chr&gt; | hto_barcode &lt;chr&gt; | hto_category &lt;chr&gt; | n_genes &lt;int&gt; | n_mito_umis &lt;int&gt; | n_reads &lt;int&gt; | ⋯ ⋯ | pct_counts_in_top_200_genes &lt;dbl&gt; | pct_counts_in_top_500_genes &lt;dbl&gt; | total_counts_mito &lt;dbl&gt; | log1p_total_counts_mito &lt;dbl&gt; | pct_counts_mito &lt;dbl&gt; | leiden_resolution_0.5 &lt;int&gt; | leiden_resolution_1 &lt;int&gt; | leiden_resolution_1.5 &lt;int&gt; | leiden_resolution_2 &lt;int&gt; | facet &lt;chr&gt; |\n",
       "|---|---|---|---|---|---|---|---|---|---|---|---|---|---|---|---|---|---|---|---|---|---|\n",
       "| 1 | cfb4162a48b611ea8957bafe6d70929e | B001 | anaemic_human_emu             | cfb4162a48b611ea8957bafe6d70929e | B001-P1C1 | TGATGGCCTATTGGG | singlet | 2867 | 546 | 32119 | ⋯ | 55.89099 | 68.44291 | 546 | 6.304449 | 5.531354 | 0 | 3 |  4 | 18 | Female_BR1 |\n",
       "| 2 | 70ab258848b611eaa65d9e7d578d66f2 | B001 | pine_enervated_caracal        | 70ab258848b611eaa65d9e7d578d66f2 | B001-P1C1 | TGATGGCCTATTGGG | singlet | 2354 | 220 | 27740 | ⋯ | 57.66811 | 71.84454 | 220 | 5.398163 | 2.714374 | 2 | 2 |  1 |  6 | Female_BR1 |\n",
       "| 3 | 70acf29648b611eaa65d9e7d578d66f2 | B001 | bland_sandy_owl               | 70acf29648b611eaa65d9e7d578d66f2 | B001-P1C1 | TGATGGCCTATTGGG | singlet | 4302 | 776 | 73872 | ⋯ | 56.86120 | 68.77470 | 776 | 6.655440 | 3.608463 | 2 | 1 |  0 | 10 | Female_BR1 |\n",
       "| 4 | 70d2b34648b611eaa65d9e7d578d66f2 | B001 | mellow_intact_gecko           | 70d2b34648b611eaa65d9e7d578d66f2 | B001-P1C1 | TGATGGCCTATTGGG | singlet | 2176 | 167 | 20037 | ⋯ | 52.73269 | 67.80391 | 167 | 5.123964 | 2.765817 | 0 | 7 |  9 |  9 | Female_BR1 |\n",
       "| 5 | 70d844f048b611eaa65d9e7d578d66f2 | B001 | commonable_jadeite_wrenchbird | 70d844f048b611eaa65d9e7d578d66f2 | B001-P1C1 | TGATGGCCTATTGGG | singlet | 1977 | 124 | 20342 | ⋯ | 57.78995 | 72.12544 | 124 | 4.828314 | 2.057408 | 2 | 2 |  1 |  6 | Female_BR1 |\n",
       "| 6 | a711a6d8489811ea92388a6a0c683ffb | B001 | villainous_preoceanic_jackal  | a711a6d8489811ea92388a6a0c683ffb | B001-P1C1 | TGATGGCCTATTGGG | singlet | 1287 | 237 |  9010 | ⋯ | 56.26290 | 72.91810 | 237 | 5.472270 | 8.155540 | 2 | 2 | 13 | 19 | Female_BR1 |\n",
       "\n"
      ],
      "text/plain": [
       "  barcodes                         batch_id cell_name                    \n",
       "1 cfb4162a48b611ea8957bafe6d70929e B001     anaemic_human_emu            \n",
       "2 70ab258848b611eaa65d9e7d578d66f2 B001     pine_enervated_caracal       \n",
       "3 70acf29648b611eaa65d9e7d578d66f2 B001     bland_sandy_owl              \n",
       "4 70d2b34648b611eaa65d9e7d578d66f2 B001     mellow_intact_gecko          \n",
       "5 70d844f048b611eaa65d9e7d578d66f2 B001     commonable_jadeite_wrenchbird\n",
       "6 a711a6d8489811ea92388a6a0c683ffb B001     villainous_preoceanic_jackal \n",
       "  cell_uuid                        chip_id   hto_barcode     hto_category\n",
       "1 cfb4162a48b611ea8957bafe6d70929e B001-P1C1 TGATGGCCTATTGGG singlet     \n",
       "2 70ab258848b611eaa65d9e7d578d66f2 B001-P1C1 TGATGGCCTATTGGG singlet     \n",
       "3 70acf29648b611eaa65d9e7d578d66f2 B001-P1C1 TGATGGCCTATTGGG singlet     \n",
       "4 70d2b34648b611eaa65d9e7d578d66f2 B001-P1C1 TGATGGCCTATTGGG singlet     \n",
       "5 70d844f048b611eaa65d9e7d578d66f2 B001-P1C1 TGATGGCCTATTGGG singlet     \n",
       "6 a711a6d8489811ea92388a6a0c683ffb B001-P1C1 TGATGGCCTATTGGG singlet     \n",
       "  n_genes n_mito_umis n_reads ⋯ pct_counts_in_top_200_genes\n",
       "1 2867    546         32119   ⋯ 55.89099                   \n",
       "2 2354    220         27740   ⋯ 57.66811                   \n",
       "3 4302    776         73872   ⋯ 56.86120                   \n",
       "4 2176    167         20037   ⋯ 52.73269                   \n",
       "5 1977    124         20342   ⋯ 57.78995                   \n",
       "6 1287    237          9010   ⋯ 56.26290                   \n",
       "  pct_counts_in_top_500_genes total_counts_mito log1p_total_counts_mito\n",
       "1 68.44291                    546               6.304449               \n",
       "2 71.84454                    220               5.398163               \n",
       "3 68.77470                    776               6.655440               \n",
       "4 67.80391                    167               5.123964               \n",
       "5 72.12544                    124               4.828314               \n",
       "6 72.91810                    237               5.472270               \n",
       "  pct_counts_mito leiden_resolution_0.5 leiden_resolution_1\n",
       "1 5.531354        0                     3                  \n",
       "2 2.714374        2                     2                  \n",
       "3 3.608463        2                     1                  \n",
       "4 2.765817        0                     7                  \n",
       "5 2.057408        2                     2                  \n",
       "6 8.155540        2                     2                  \n",
       "  leiden_resolution_1.5 leiden_resolution_2 facet     \n",
       "1  4                    18                  Female_BR1\n",
       "2  1                     6                  Female_BR1\n",
       "3  0                    10                  Female_BR1\n",
       "4  9                     9                  Female_BR1\n",
       "5  1                     6                  Female_BR1\n",
       "6 13                    19                  Female_BR1"
      ]
     },
     "metadata": {},
     "output_type": "display_data"
    },
    {
     "data": {
      "text/html": [
       "<style>\n",
       ".list-inline {list-style: none; margin:0; padding: 0}\n",
       ".list-inline>li {display: inline-block}\n",
       ".list-inline>li:not(:last-child)::after {content: \"\\00b7\"; padding: 0 .5ex}\n",
       "</style>\n",
       "<ol class=list-inline><li>'barcodes'</li><li>'batch_id'</li><li>'cell_name'</li><li>'cell_uuid'</li><li>'chip_id'</li><li>'hto_barcode'</li><li>'hto_category'</li><li>'n_genes'</li><li>'n_mito_umis'</li><li>'n_reads'</li><li>'n_umis'</li><li>'original_barcodes'</li><li>'pbmc_sample_id'</li><li>'pool_id'</li><li>'seurat_pbmc_type'</li><li>'seurat_pbmc_type_score'</li><li>'umap_1'</li><li>'umap_2'</li><li>'well_id'</li><li>'subject.biologicalSex'</li><li>'subject.ethnicity'</li><li>'subject.partnerCode'</li><li>'subject.race'</li><li>'subject.subjectGuid'</li><li>'cohort.cohortGuid'</li><li>'sample.visitName'</li><li>'sample.visitDetails'</li><li>'subject.birthYear'</li><li>'CMV.IgG.Serology.Result.Interpretation'</li><li>'BMI'</li><li>'predicted_doublet'</li><li>'doublet_score'</li><li>'AIFI_L1'</li><li>'AIFI_L2'</li><li>'AIFI_L3'</li><li>'AIFI_L3.5'</li><li>'n_genes_by_counts'</li><li>'log1p_n_genes_by_counts'</li><li>'total_counts'</li><li>'log1p_total_counts'</li><li>'pct_counts_in_top_50_genes'</li><li>'pct_counts_in_top_100_genes'</li><li>'pct_counts_in_top_200_genes'</li><li>'pct_counts_in_top_500_genes'</li><li>'total_counts_mito'</li><li>'log1p_total_counts_mito'</li><li>'pct_counts_mito'</li><li>'leiden_resolution_0.5'</li><li>'leiden_resolution_1'</li><li>'leiden_resolution_1.5'</li><li>'leiden_resolution_2'</li><li>'facet'</li></ol>\n"
      ],
      "text/latex": [
       "\\begin{enumerate*}\n",
       "\\item 'barcodes'\n",
       "\\item 'batch\\_id'\n",
       "\\item 'cell\\_name'\n",
       "\\item 'cell\\_uuid'\n",
       "\\item 'chip\\_id'\n",
       "\\item 'hto\\_barcode'\n",
       "\\item 'hto\\_category'\n",
       "\\item 'n\\_genes'\n",
       "\\item 'n\\_mito\\_umis'\n",
       "\\item 'n\\_reads'\n",
       "\\item 'n\\_umis'\n",
       "\\item 'original\\_barcodes'\n",
       "\\item 'pbmc\\_sample\\_id'\n",
       "\\item 'pool\\_id'\n",
       "\\item 'seurat\\_pbmc\\_type'\n",
       "\\item 'seurat\\_pbmc\\_type\\_score'\n",
       "\\item 'umap\\_1'\n",
       "\\item 'umap\\_2'\n",
       "\\item 'well\\_id'\n",
       "\\item 'subject.biologicalSex'\n",
       "\\item 'subject.ethnicity'\n",
       "\\item 'subject.partnerCode'\n",
       "\\item 'subject.race'\n",
       "\\item 'subject.subjectGuid'\n",
       "\\item 'cohort.cohortGuid'\n",
       "\\item 'sample.visitName'\n",
       "\\item 'sample.visitDetails'\n",
       "\\item 'subject.birthYear'\n",
       "\\item 'CMV.IgG.Serology.Result.Interpretation'\n",
       "\\item 'BMI'\n",
       "\\item 'predicted\\_doublet'\n",
       "\\item 'doublet\\_score'\n",
       "\\item 'AIFI\\_L1'\n",
       "\\item 'AIFI\\_L2'\n",
       "\\item 'AIFI\\_L3'\n",
       "\\item 'AIFI\\_L3.5'\n",
       "\\item 'n\\_genes\\_by\\_counts'\n",
       "\\item 'log1p\\_n\\_genes\\_by\\_counts'\n",
       "\\item 'total\\_counts'\n",
       "\\item 'log1p\\_total\\_counts'\n",
       "\\item 'pct\\_counts\\_in\\_top\\_50\\_genes'\n",
       "\\item 'pct\\_counts\\_in\\_top\\_100\\_genes'\n",
       "\\item 'pct\\_counts\\_in\\_top\\_200\\_genes'\n",
       "\\item 'pct\\_counts\\_in\\_top\\_500\\_genes'\n",
       "\\item 'total\\_counts\\_mito'\n",
       "\\item 'log1p\\_total\\_counts\\_mito'\n",
       "\\item 'pct\\_counts\\_mito'\n",
       "\\item 'leiden\\_resolution\\_0.5'\n",
       "\\item 'leiden\\_resolution\\_1'\n",
       "\\item 'leiden\\_resolution\\_1.5'\n",
       "\\item 'leiden\\_resolution\\_2'\n",
       "\\item 'facet'\n",
       "\\end{enumerate*}\n"
      ],
      "text/markdown": [
       "1. 'barcodes'\n",
       "2. 'batch_id'\n",
       "3. 'cell_name'\n",
       "4. 'cell_uuid'\n",
       "5. 'chip_id'\n",
       "6. 'hto_barcode'\n",
       "7. 'hto_category'\n",
       "8. 'n_genes'\n",
       "9. 'n_mito_umis'\n",
       "10. 'n_reads'\n",
       "11. 'n_umis'\n",
       "12. 'original_barcodes'\n",
       "13. 'pbmc_sample_id'\n",
       "14. 'pool_id'\n",
       "15. 'seurat_pbmc_type'\n",
       "16. 'seurat_pbmc_type_score'\n",
       "17. 'umap_1'\n",
       "18. 'umap_2'\n",
       "19. 'well_id'\n",
       "20. 'subject.biologicalSex'\n",
       "21. 'subject.ethnicity'\n",
       "22. 'subject.partnerCode'\n",
       "23. 'subject.race'\n",
       "24. 'subject.subjectGuid'\n",
       "25. 'cohort.cohortGuid'\n",
       "26. 'sample.visitName'\n",
       "27. 'sample.visitDetails'\n",
       "28. 'subject.birthYear'\n",
       "29. 'CMV.IgG.Serology.Result.Interpretation'\n",
       "30. 'BMI'\n",
       "31. 'predicted_doublet'\n",
       "32. 'doublet_score'\n",
       "33. 'AIFI_L1'\n",
       "34. 'AIFI_L2'\n",
       "35. 'AIFI_L3'\n",
       "36. 'AIFI_L3.5'\n",
       "37. 'n_genes_by_counts'\n",
       "38. 'log1p_n_genes_by_counts'\n",
       "39. 'total_counts'\n",
       "40. 'log1p_total_counts'\n",
       "41. 'pct_counts_in_top_50_genes'\n",
       "42. 'pct_counts_in_top_100_genes'\n",
       "43. 'pct_counts_in_top_200_genes'\n",
       "44. 'pct_counts_in_top_500_genes'\n",
       "45. 'total_counts_mito'\n",
       "46. 'log1p_total_counts_mito'\n",
       "47. 'pct_counts_mito'\n",
       "48. 'leiden_resolution_0.5'\n",
       "49. 'leiden_resolution_1'\n",
       "50. 'leiden_resolution_1.5'\n",
       "51. 'leiden_resolution_2'\n",
       "52. 'facet'\n",
       "\n",
       "\n"
      ],
      "text/plain": [
       " [1] \"barcodes\"                              \n",
       " [2] \"batch_id\"                              \n",
       " [3] \"cell_name\"                             \n",
       " [4] \"cell_uuid\"                             \n",
       " [5] \"chip_id\"                               \n",
       " [6] \"hto_barcode\"                           \n",
       " [7] \"hto_category\"                          \n",
       " [8] \"n_genes\"                               \n",
       " [9] \"n_mito_umis\"                           \n",
       "[10] \"n_reads\"                               \n",
       "[11] \"n_umis\"                                \n",
       "[12] \"original_barcodes\"                     \n",
       "[13] \"pbmc_sample_id\"                        \n",
       "[14] \"pool_id\"                               \n",
       "[15] \"seurat_pbmc_type\"                      \n",
       "[16] \"seurat_pbmc_type_score\"                \n",
       "[17] \"umap_1\"                                \n",
       "[18] \"umap_2\"                                \n",
       "[19] \"well_id\"                               \n",
       "[20] \"subject.biologicalSex\"                 \n",
       "[21] \"subject.ethnicity\"                     \n",
       "[22] \"subject.partnerCode\"                   \n",
       "[23] \"subject.race\"                          \n",
       "[24] \"subject.subjectGuid\"                   \n",
       "[25] \"cohort.cohortGuid\"                     \n",
       "[26] \"sample.visitName\"                      \n",
       "[27] \"sample.visitDetails\"                   \n",
       "[28] \"subject.birthYear\"                     \n",
       "[29] \"CMV.IgG.Serology.Result.Interpretation\"\n",
       "[30] \"BMI\"                                   \n",
       "[31] \"predicted_doublet\"                     \n",
       "[32] \"doublet_score\"                         \n",
       "[33] \"AIFI_L1\"                               \n",
       "[34] \"AIFI_L2\"                               \n",
       "[35] \"AIFI_L3\"                               \n",
       "[36] \"AIFI_L3.5\"                             \n",
       "[37] \"n_genes_by_counts\"                     \n",
       "[38] \"log1p_n_genes_by_counts\"               \n",
       "[39] \"total_counts\"                          \n",
       "[40] \"log1p_total_counts\"                    \n",
       "[41] \"pct_counts_in_top_50_genes\"            \n",
       "[42] \"pct_counts_in_top_100_genes\"           \n",
       "[43] \"pct_counts_in_top_200_genes\"           \n",
       "[44] \"pct_counts_in_top_500_genes\"           \n",
       "[45] \"total_counts_mito\"                     \n",
       "[46] \"log1p_total_counts_mito\"               \n",
       "[47] \"pct_counts_mito\"                       \n",
       "[48] \"leiden_resolution_0.5\"                 \n",
       "[49] \"leiden_resolution_1\"                   \n",
       "[50] \"leiden_resolution_1.5\"                 \n",
       "[51] \"leiden_resolution_2\"                   \n",
       "[52] \"facet\"                                 "
      ]
     },
     "metadata": {},
     "output_type": "display_data"
    },
    {
     "data": {
      "text/html": [
       "92"
      ],
      "text/latex": [
       "92"
      ],
      "text/markdown": [
       "92"
      ],
      "text/plain": [
       "[1] 92"
      ]
     },
     "metadata": {},
     "output_type": "display_data"
    },
    {
     "data": {
      "text/html": [
       "92"
      ],
      "text/latex": [
       "92"
      ],
      "text/markdown": [
       "92"
      ],
      "text/plain": [
       "[1] 92"
      ]
     },
     "metadata": {},
     "output_type": "display_data"
    },
    {
     "data": {
      "text/html": [
       "<style>\n",
       ".list-inline {list-style: none; margin:0; padding: 0}\n",
       ".list-inline>li {display: inline-block}\n",
       ".list-inline>li:not(:last-child)::after {content: \"\\00b7\"; padding: 0 .5ex}\n",
       "</style>\n",
       "<ol class=list-inline><li>2679</li><li>52</li></ol>\n"
      ],
      "text/latex": [
       "\\begin{enumerate*}\n",
       "\\item 2679\n",
       "\\item 52\n",
       "\\end{enumerate*}\n"
      ],
      "text/markdown": [
       "1. 2679\n",
       "2. 52\n",
       "\n",
       "\n"
      ],
      "text/plain": [
       "[1] 2679   52"
      ]
     },
     "metadata": {},
     "output_type": "display_data"
    }
   ],
   "source": [
    "head(read_df)\n",
    "colnames(read_df)\n",
    "length(unique(read_df$subject.subjectGuid))\n",
    "length(unique(read_df$pbmc_sample_id))\n",
    "dim(read_df)"
   ]
  },
  {
   "cell_type": "markdown",
   "id": "77b4e761-12e4-43df-ae53-39a112feafc1",
   "metadata": {},
   "source": [
    "# CLR Transform\n"
   ]
  },
  {
   "cell_type": "code",
   "execution_count": 18,
   "id": "9e52392f-7997-4874-a114-abcf4916a44f",
   "metadata": {
    "tags": []
   },
   "outputs": [],
   "source": [
    "clr_transform <- function(x) {\n",
    "  if (length(x) == 0) {\n",
    "    return(NA)  # return NA for empty vectors\n",
    "  }\n",
    "  geom_mean <- exp(mean(log(x)))\n",
    "  return(log(x / geom_mean))\n",
    "}"
   ]
  },
  {
   "cell_type": "markdown",
   "id": "aefe3d80-60c6-477c-a415-2efae05d7bfb",
   "metadata": {},
   "source": [
    "# Comparsion within total PBMCs (Percentage and Percentage CLR)"
   ]
  },
  {
   "cell_type": "code",
   "execution_count": 19,
   "id": "768bd37a-b036-4cdd-a37f-6740906f37bb",
   "metadata": {
    "tags": []
   },
   "outputs": [],
   "source": [
    "#filter data for specific cluster"
   ]
  },
  {
   "cell_type": "code",
   "execution_count": 20,
   "id": "4e56095a-73a6-47bd-b9bc-7140c4c0a551",
   "metadata": {
    "tags": []
   },
   "outputs": [
    {
     "name": "stderr",
     "output_type": "stream",
     "text": [
      "\u001b[1m\u001b[22m`summarise()` has grouped output by 'leiden_resolution_0.5', 'facet'. You can\n",
      "override using the `.groups` argument.\n"
     ]
    },
    {
     "data": {
      "text/html": [
       "<table class=\"dataframe\">\n",
       "<caption>A tibble: 344 × 6</caption>\n",
       "<thead>\n",
       "\t<tr><th scope=col>leiden_resolution_0.5</th><th scope=col>facet</th><th scope=col>subject.subjectGuid</th><th scope=col>count</th><th scope=col>percentage</th><th scope=col>percentage_clr</th></tr>\n",
       "\t<tr><th scope=col>&lt;int&gt;</th><th scope=col>&lt;chr&gt;</th><th scope=col>&lt;chr&gt;</th><th scope=col>&lt;int&gt;</th><th scope=col>&lt;dbl&gt;</th><th scope=col>&lt;dbl&gt;</th></tr>\n",
       "</thead>\n",
       "<tbody>\n",
       "\t<tr><td>0</td><td>Female_BR1</td><td>BR1001</td><td> 9</td><td>27.272727</td><td>-1.823978e-01</td></tr>\n",
       "\t<tr><td>0</td><td>Female_BR1</td><td>BR1003</td><td> 1</td><td>16.666667</td><td>-4.620981e-01</td></tr>\n",
       "\t<tr><td>0</td><td>Female_BR1</td><td>BR1005</td><td> 4</td><td>28.571429</td><td> 2.907877e-01</td></tr>\n",
       "\t<tr><td>0</td><td>Female_BR1</td><td>BR1008</td><td> 1</td><td>16.666667</td><td>-5.972532e-01</td></tr>\n",
       "\t<tr><td>0</td><td>Female_BR1</td><td>BR1014</td><td> 3</td><td>33.333333</td><td> 6.016310e-01</td></tr>\n",
       "\t<tr><td>0</td><td>Female_BR1</td><td>BR1017</td><td> 3</td><td>25.000000</td><td> 4.183728e-01</td></tr>\n",
       "\t<tr><td>0</td><td>Female_BR1</td><td>BR1019</td><td> 7</td><td>43.750000</td><td> 6.354734e-01</td></tr>\n",
       "\t<tr><td>0</td><td>Female_BR1</td><td>BR1021</td><td>26</td><td>61.904762</td><td> 1.230565e+00</td></tr>\n",
       "\t<tr><td>0</td><td>Female_BR1</td><td>BR1024</td><td> 3</td><td>25.000000</td><td> 1.469467e-01</td></tr>\n",
       "\t<tr><td>0</td><td>Female_BR1</td><td>BR1025</td><td>11</td><td>39.285714</td><td> 1.005447e+00</td></tr>\n",
       "\t<tr><td>0</td><td>Female_BR1</td><td>BR1026</td><td> 1</td><td>33.333333</td><td>-3.465736e-01</td></tr>\n",
       "\t<tr><td>0</td><td>Female_BR1</td><td>BR1028</td><td>25</td><td>60.975610</td><td> 1.171704e+00</td></tr>\n",
       "\t<tr><td>0</td><td>Female_BR1</td><td>BR1030</td><td> 5</td><td>14.285714</td><td>-1.224516e-01</td></tr>\n",
       "\t<tr><td>0</td><td>Female_BR1</td><td>BR1031</td><td> 1</td><td> 6.666667</td><td>-8.958797e-01</td></tr>\n",
       "\t<tr><td>0</td><td>Female_BR1</td><td>BR1033</td><td> 3</td><td>75.000000</td><td> 5.493061e-01</td></tr>\n",
       "\t<tr><td>0</td><td>Female_BR1</td><td>BR1037</td><td>57</td><td>55.882353</td><td> 1.598713e+00</td></tr>\n",
       "\t<tr><td>0</td><td>Female_BR1</td><td>BR1041</td><td> 1</td><td>11.111111</td><td>-4.394449e-01</td></tr>\n",
       "\t<tr><td>0</td><td>Female_BR1</td><td>BR1048</td><td>11</td><td>50.000000</td><td> 1.249115e+00</td></tr>\n",
       "\t<tr><td>0</td><td>Female_BR1</td><td>BR1050</td><td> 5</td><td>41.666667</td><td> 4.757055e-01</td></tr>\n",
       "\t<tr><td>0</td><td>Female_BR1</td><td>BR1056</td><td> 1</td><td>33.333333</td><td> 2.220446e-16</td></tr>\n",
       "\t<tr><td>0</td><td>Female_BR1</td><td>BR1057</td><td> 1</td><td>11.111111</td><td>-6.212267e-01</td></tr>\n",
       "\t<tr><td>0</td><td>Female_BR1</td><td>BR1058</td><td> 1</td><td> 8.333333</td><td>-9.678003e-01</td></tr>\n",
       "\t<tr><td>0</td><td>Female_BR2</td><td>BR2002</td><td> 7</td><td>33.333333</td><td> 7.013949e-01</td></tr>\n",
       "\t<tr><td>0</td><td>Female_BR2</td><td>BR2005</td><td> 1</td><td>25.000000</td><td>-5.493061e-01</td></tr>\n",
       "\t<tr><td>0</td><td>Female_BR2</td><td>BR2008</td><td> 1</td><td>25.000000</td><td>-2.310491e-01</td></tr>\n",
       "\t<tr><td>0</td><td>Female_BR2</td><td>BR2009</td><td> 7</td><td>53.846154</td><td> 1.337006e+00</td></tr>\n",
       "\t<tr><td>0</td><td>Female_BR2</td><td>BR2010</td><td> 9</td><td>28.125000</td><td> 3.135339e-01</td></tr>\n",
       "\t<tr><td>0</td><td>Female_BR2</td><td>BR2012</td><td>22</td><td>62.857143</td><td> 1.569349e+00</td></tr>\n",
       "\t<tr><td>0</td><td>Female_BR2</td><td>BR2014</td><td>13</td><td>52.000000</td><td> 1.233091e+00</td></tr>\n",
       "\t<tr><td>0</td><td>Female_BR2</td><td>BR2015</td><td>14</td><td>77.777778</td><td> 1.806006e+00</td></tr>\n",
       "\t<tr><td>⋮</td><td>⋮</td><td>⋮</td><td>⋮</td><td>⋮</td><td>⋮</td></tr>\n",
       "\t<tr><td>4</td><td>Female_BR2</td><td>BR2018</td><td>4</td><td> 6.3492063</td><td>-1.115397e+00</td></tr>\n",
       "\t<tr><td>4</td><td>Female_BR2</td><td>BR2021</td><td>2</td><td>40.0000000</td><td>-2.027326e-01</td></tr>\n",
       "\t<tr><td>4</td><td>Female_BR2</td><td>BR2024</td><td>7</td><td>24.1379310</td><td> 5.021282e-01</td></tr>\n",
       "\t<tr><td>4</td><td>Female_BR2</td><td>BR2034</td><td>1</td><td>12.5000000</td><td>-4.158883e-01</td></tr>\n",
       "\t<tr><td>4</td><td>Female_BR2</td><td>BR2035</td><td>2</td><td>33.3333333</td><td> 5.545177e-01</td></tr>\n",
       "\t<tr><td>4</td><td>Female_BR2</td><td>BR2036</td><td>5</td><td>55.5555556</td><td> 6.108605e-01</td></tr>\n",
       "\t<tr><td>4</td><td>Female_BR2</td><td>BR2040</td><td>1</td><td> 3.7037037</td><td>-1.108253e+00</td></tr>\n",
       "\t<tr><td>4</td><td>Female_BR2</td><td>BR2041</td><td>3</td><td>23.0769231</td><td>-2.634013e-02</td></tr>\n",
       "\t<tr><td>4</td><td>Female_BR2</td><td>BR2042</td><td>9</td><td> 6.8702290</td><td>-7.010370e-01</td></tr>\n",
       "\t<tr><td>4</td><td>Female_BR2</td><td>BR2044</td><td>1</td><td> 5.8823529</td><td>-9.574983e-01</td></tr>\n",
       "\t<tr><td>4</td><td>Female_BR2</td><td>BR2051</td><td>1</td><td> 2.0833333</td><td>-1.891440e+00</td></tr>\n",
       "\t<tr><td>4</td><td>Female_BR2</td><td>BR2052</td><td>4</td><td>10.8108108</td><td>-4.265372e-01</td></tr>\n",
       "\t<tr><td>4</td><td>Male_BR1  </td><td>BR1006</td><td>1</td><td>10.0000000</td><td>-5.780744e-01</td></tr>\n",
       "\t<tr><td>4</td><td>Male_BR1  </td><td>BR1007</td><td>3</td><td> 6.2500000</td><td>-1.163490e+00</td></tr>\n",
       "\t<tr><td>4</td><td>Male_BR1  </td><td>BR1015</td><td>3</td><td>25.0000000</td><td> 4.183728e-01</td></tr>\n",
       "\t<tr><td>4</td><td>Male_BR1  </td><td>BR1018</td><td>1</td><td> 7.6923077</td><td>-7.377759e-01</td></tr>\n",
       "\t<tr><td>4</td><td>Male_BR1  </td><td>BR1040</td><td>4</td><td>11.7647059</td><td>-4.573673e-01</td></tr>\n",
       "\t<tr><td>4</td><td>Male_BR1  </td><td>BR1042</td><td>3</td><td> 2.7272727</td><td>-1.517195e+00</td></tr>\n",
       "\t<tr><td>4</td><td>Male_BR1  </td><td>BR1043</td><td>1</td><td>11.1111111</td><td>-7.225929e-01</td></tr>\n",
       "\t<tr><td>4</td><td>Male_BR1  </td><td>BR1045</td><td>2</td><td> 0.9389671</td><td>-1.830706e+00</td></tr>\n",
       "\t<tr><td>4</td><td>Male_BR1  </td><td>BR1049</td><td>1</td><td> 5.8823529</td><td>-1.095507e+00</td></tr>\n",
       "\t<tr><td>4</td><td>Male_BR2  </td><td>BR2013</td><td>1</td><td> 5.0000000</td><td>-9.364262e-01</td></tr>\n",
       "\t<tr><td>4</td><td>Male_BR2  </td><td>BR2019</td><td>1</td><td> 4.0000000</td><td>-1.190649e+00</td></tr>\n",
       "\t<tr><td>4</td><td>Male_BR2  </td><td>BR2025</td><td>3</td><td> 0.6410256</td><td>-2.265587e+00</td></tr>\n",
       "\t<tr><td>4</td><td>Male_BR2  </td><td>BR2031</td><td>1</td><td>20.0000000</td><td>-3.662041e-01</td></tr>\n",
       "\t<tr><td>4</td><td>Male_BR2  </td><td>BR2033</td><td>1</td><td>33.3333333</td><td> 2.220446e-16</td></tr>\n",
       "\t<tr><td>4</td><td>Male_BR2  </td><td>BR2037</td><td>1</td><td>20.0000000</td><td>-3.662041e-01</td></tr>\n",
       "\t<tr><td>4</td><td>Male_BR2  </td><td>BR2038</td><td>1</td><td> 5.0000000</td><td>-1.196873e+00</td></tr>\n",
       "\t<tr><td>4</td><td>Male_BR2  </td><td>BR2047</td><td>2</td><td>10.0000000</td><td>-4.394449e-01</td></tr>\n",
       "\t<tr><td>4</td><td>Male_BR2  </td><td>BR2048</td><td>2</td><td>10.0000000</td><td>-4.840736e-01</td></tr>\n",
       "</tbody>\n",
       "</table>\n"
      ],
      "text/latex": [
       "A tibble: 344 × 6\n",
       "\\begin{tabular}{llllll}\n",
       " leiden\\_resolution\\_0.5 & facet & subject.subjectGuid & count & percentage & percentage\\_clr\\\\\n",
       " <int> & <chr> & <chr> & <int> & <dbl> & <dbl>\\\\\n",
       "\\hline\n",
       "\t 0 & Female\\_BR1 & BR1001 &  9 & 27.272727 & -1.823978e-01\\\\\n",
       "\t 0 & Female\\_BR1 & BR1003 &  1 & 16.666667 & -4.620981e-01\\\\\n",
       "\t 0 & Female\\_BR1 & BR1005 &  4 & 28.571429 &  2.907877e-01\\\\\n",
       "\t 0 & Female\\_BR1 & BR1008 &  1 & 16.666667 & -5.972532e-01\\\\\n",
       "\t 0 & Female\\_BR1 & BR1014 &  3 & 33.333333 &  6.016310e-01\\\\\n",
       "\t 0 & Female\\_BR1 & BR1017 &  3 & 25.000000 &  4.183728e-01\\\\\n",
       "\t 0 & Female\\_BR1 & BR1019 &  7 & 43.750000 &  6.354734e-01\\\\\n",
       "\t 0 & Female\\_BR1 & BR1021 & 26 & 61.904762 &  1.230565e+00\\\\\n",
       "\t 0 & Female\\_BR1 & BR1024 &  3 & 25.000000 &  1.469467e-01\\\\\n",
       "\t 0 & Female\\_BR1 & BR1025 & 11 & 39.285714 &  1.005447e+00\\\\\n",
       "\t 0 & Female\\_BR1 & BR1026 &  1 & 33.333333 & -3.465736e-01\\\\\n",
       "\t 0 & Female\\_BR1 & BR1028 & 25 & 60.975610 &  1.171704e+00\\\\\n",
       "\t 0 & Female\\_BR1 & BR1030 &  5 & 14.285714 & -1.224516e-01\\\\\n",
       "\t 0 & Female\\_BR1 & BR1031 &  1 &  6.666667 & -8.958797e-01\\\\\n",
       "\t 0 & Female\\_BR1 & BR1033 &  3 & 75.000000 &  5.493061e-01\\\\\n",
       "\t 0 & Female\\_BR1 & BR1037 & 57 & 55.882353 &  1.598713e+00\\\\\n",
       "\t 0 & Female\\_BR1 & BR1041 &  1 & 11.111111 & -4.394449e-01\\\\\n",
       "\t 0 & Female\\_BR1 & BR1048 & 11 & 50.000000 &  1.249115e+00\\\\\n",
       "\t 0 & Female\\_BR1 & BR1050 &  5 & 41.666667 &  4.757055e-01\\\\\n",
       "\t 0 & Female\\_BR1 & BR1056 &  1 & 33.333333 &  2.220446e-16\\\\\n",
       "\t 0 & Female\\_BR1 & BR1057 &  1 & 11.111111 & -6.212267e-01\\\\\n",
       "\t 0 & Female\\_BR1 & BR1058 &  1 &  8.333333 & -9.678003e-01\\\\\n",
       "\t 0 & Female\\_BR2 & BR2002 &  7 & 33.333333 &  7.013949e-01\\\\\n",
       "\t 0 & Female\\_BR2 & BR2005 &  1 & 25.000000 & -5.493061e-01\\\\\n",
       "\t 0 & Female\\_BR2 & BR2008 &  1 & 25.000000 & -2.310491e-01\\\\\n",
       "\t 0 & Female\\_BR2 & BR2009 &  7 & 53.846154 &  1.337006e+00\\\\\n",
       "\t 0 & Female\\_BR2 & BR2010 &  9 & 28.125000 &  3.135339e-01\\\\\n",
       "\t 0 & Female\\_BR2 & BR2012 & 22 & 62.857143 &  1.569349e+00\\\\\n",
       "\t 0 & Female\\_BR2 & BR2014 & 13 & 52.000000 &  1.233091e+00\\\\\n",
       "\t 0 & Female\\_BR2 & BR2015 & 14 & 77.777778 &  1.806006e+00\\\\\n",
       "\t ⋮ & ⋮ & ⋮ & ⋮ & ⋮ & ⋮\\\\\n",
       "\t 4 & Female\\_BR2 & BR2018 & 4 &  6.3492063 & -1.115397e+00\\\\\n",
       "\t 4 & Female\\_BR2 & BR2021 & 2 & 40.0000000 & -2.027326e-01\\\\\n",
       "\t 4 & Female\\_BR2 & BR2024 & 7 & 24.1379310 &  5.021282e-01\\\\\n",
       "\t 4 & Female\\_BR2 & BR2034 & 1 & 12.5000000 & -4.158883e-01\\\\\n",
       "\t 4 & Female\\_BR2 & BR2035 & 2 & 33.3333333 &  5.545177e-01\\\\\n",
       "\t 4 & Female\\_BR2 & BR2036 & 5 & 55.5555556 &  6.108605e-01\\\\\n",
       "\t 4 & Female\\_BR2 & BR2040 & 1 &  3.7037037 & -1.108253e+00\\\\\n",
       "\t 4 & Female\\_BR2 & BR2041 & 3 & 23.0769231 & -2.634013e-02\\\\\n",
       "\t 4 & Female\\_BR2 & BR2042 & 9 &  6.8702290 & -7.010370e-01\\\\\n",
       "\t 4 & Female\\_BR2 & BR2044 & 1 &  5.8823529 & -9.574983e-01\\\\\n",
       "\t 4 & Female\\_BR2 & BR2051 & 1 &  2.0833333 & -1.891440e+00\\\\\n",
       "\t 4 & Female\\_BR2 & BR2052 & 4 & 10.8108108 & -4.265372e-01\\\\\n",
       "\t 4 & Male\\_BR1   & BR1006 & 1 & 10.0000000 & -5.780744e-01\\\\\n",
       "\t 4 & Male\\_BR1   & BR1007 & 3 &  6.2500000 & -1.163490e+00\\\\\n",
       "\t 4 & Male\\_BR1   & BR1015 & 3 & 25.0000000 &  4.183728e-01\\\\\n",
       "\t 4 & Male\\_BR1   & BR1018 & 1 &  7.6923077 & -7.377759e-01\\\\\n",
       "\t 4 & Male\\_BR1   & BR1040 & 4 & 11.7647059 & -4.573673e-01\\\\\n",
       "\t 4 & Male\\_BR1   & BR1042 & 3 &  2.7272727 & -1.517195e+00\\\\\n",
       "\t 4 & Male\\_BR1   & BR1043 & 1 & 11.1111111 & -7.225929e-01\\\\\n",
       "\t 4 & Male\\_BR1   & BR1045 & 2 &  0.9389671 & -1.830706e+00\\\\\n",
       "\t 4 & Male\\_BR1   & BR1049 & 1 &  5.8823529 & -1.095507e+00\\\\\n",
       "\t 4 & Male\\_BR2   & BR2013 & 1 &  5.0000000 & -9.364262e-01\\\\\n",
       "\t 4 & Male\\_BR2   & BR2019 & 1 &  4.0000000 & -1.190649e+00\\\\\n",
       "\t 4 & Male\\_BR2   & BR2025 & 3 &  0.6410256 & -2.265587e+00\\\\\n",
       "\t 4 & Male\\_BR2   & BR2031 & 1 & 20.0000000 & -3.662041e-01\\\\\n",
       "\t 4 & Male\\_BR2   & BR2033 & 1 & 33.3333333 &  2.220446e-16\\\\\n",
       "\t 4 & Male\\_BR2   & BR2037 & 1 & 20.0000000 & -3.662041e-01\\\\\n",
       "\t 4 & Male\\_BR2   & BR2038 & 1 &  5.0000000 & -1.196873e+00\\\\\n",
       "\t 4 & Male\\_BR2   & BR2047 & 2 & 10.0000000 & -4.394449e-01\\\\\n",
       "\t 4 & Male\\_BR2   & BR2048 & 2 & 10.0000000 & -4.840736e-01\\\\\n",
       "\\end{tabular}\n"
      ],
      "text/markdown": [
       "\n",
       "A tibble: 344 × 6\n",
       "\n",
       "| leiden_resolution_0.5 &lt;int&gt; | facet &lt;chr&gt; | subject.subjectGuid &lt;chr&gt; | count &lt;int&gt; | percentage &lt;dbl&gt; | percentage_clr &lt;dbl&gt; |\n",
       "|---|---|---|---|---|---|\n",
       "| 0 | Female_BR1 | BR1001 |  9 | 27.272727 | -1.823978e-01 |\n",
       "| 0 | Female_BR1 | BR1003 |  1 | 16.666667 | -4.620981e-01 |\n",
       "| 0 | Female_BR1 | BR1005 |  4 | 28.571429 |  2.907877e-01 |\n",
       "| 0 | Female_BR1 | BR1008 |  1 | 16.666667 | -5.972532e-01 |\n",
       "| 0 | Female_BR1 | BR1014 |  3 | 33.333333 |  6.016310e-01 |\n",
       "| 0 | Female_BR1 | BR1017 |  3 | 25.000000 |  4.183728e-01 |\n",
       "| 0 | Female_BR1 | BR1019 |  7 | 43.750000 |  6.354734e-01 |\n",
       "| 0 | Female_BR1 | BR1021 | 26 | 61.904762 |  1.230565e+00 |\n",
       "| 0 | Female_BR1 | BR1024 |  3 | 25.000000 |  1.469467e-01 |\n",
       "| 0 | Female_BR1 | BR1025 | 11 | 39.285714 |  1.005447e+00 |\n",
       "| 0 | Female_BR1 | BR1026 |  1 | 33.333333 | -3.465736e-01 |\n",
       "| 0 | Female_BR1 | BR1028 | 25 | 60.975610 |  1.171704e+00 |\n",
       "| 0 | Female_BR1 | BR1030 |  5 | 14.285714 | -1.224516e-01 |\n",
       "| 0 | Female_BR1 | BR1031 |  1 |  6.666667 | -8.958797e-01 |\n",
       "| 0 | Female_BR1 | BR1033 |  3 | 75.000000 |  5.493061e-01 |\n",
       "| 0 | Female_BR1 | BR1037 | 57 | 55.882353 |  1.598713e+00 |\n",
       "| 0 | Female_BR1 | BR1041 |  1 | 11.111111 | -4.394449e-01 |\n",
       "| 0 | Female_BR1 | BR1048 | 11 | 50.000000 |  1.249115e+00 |\n",
       "| 0 | Female_BR1 | BR1050 |  5 | 41.666667 |  4.757055e-01 |\n",
       "| 0 | Female_BR1 | BR1056 |  1 | 33.333333 |  2.220446e-16 |\n",
       "| 0 | Female_BR1 | BR1057 |  1 | 11.111111 | -6.212267e-01 |\n",
       "| 0 | Female_BR1 | BR1058 |  1 |  8.333333 | -9.678003e-01 |\n",
       "| 0 | Female_BR2 | BR2002 |  7 | 33.333333 |  7.013949e-01 |\n",
       "| 0 | Female_BR2 | BR2005 |  1 | 25.000000 | -5.493061e-01 |\n",
       "| 0 | Female_BR2 | BR2008 |  1 | 25.000000 | -2.310491e-01 |\n",
       "| 0 | Female_BR2 | BR2009 |  7 | 53.846154 |  1.337006e+00 |\n",
       "| 0 | Female_BR2 | BR2010 |  9 | 28.125000 |  3.135339e-01 |\n",
       "| 0 | Female_BR2 | BR2012 | 22 | 62.857143 |  1.569349e+00 |\n",
       "| 0 | Female_BR2 | BR2014 | 13 | 52.000000 |  1.233091e+00 |\n",
       "| 0 | Female_BR2 | BR2015 | 14 | 77.777778 |  1.806006e+00 |\n",
       "| ⋮ | ⋮ | ⋮ | ⋮ | ⋮ | ⋮ |\n",
       "| 4 | Female_BR2 | BR2018 | 4 |  6.3492063 | -1.115397e+00 |\n",
       "| 4 | Female_BR2 | BR2021 | 2 | 40.0000000 | -2.027326e-01 |\n",
       "| 4 | Female_BR2 | BR2024 | 7 | 24.1379310 |  5.021282e-01 |\n",
       "| 4 | Female_BR2 | BR2034 | 1 | 12.5000000 | -4.158883e-01 |\n",
       "| 4 | Female_BR2 | BR2035 | 2 | 33.3333333 |  5.545177e-01 |\n",
       "| 4 | Female_BR2 | BR2036 | 5 | 55.5555556 |  6.108605e-01 |\n",
       "| 4 | Female_BR2 | BR2040 | 1 |  3.7037037 | -1.108253e+00 |\n",
       "| 4 | Female_BR2 | BR2041 | 3 | 23.0769231 | -2.634013e-02 |\n",
       "| 4 | Female_BR2 | BR2042 | 9 |  6.8702290 | -7.010370e-01 |\n",
       "| 4 | Female_BR2 | BR2044 | 1 |  5.8823529 | -9.574983e-01 |\n",
       "| 4 | Female_BR2 | BR2051 | 1 |  2.0833333 | -1.891440e+00 |\n",
       "| 4 | Female_BR2 | BR2052 | 4 | 10.8108108 | -4.265372e-01 |\n",
       "| 4 | Male_BR1   | BR1006 | 1 | 10.0000000 | -5.780744e-01 |\n",
       "| 4 | Male_BR1   | BR1007 | 3 |  6.2500000 | -1.163490e+00 |\n",
       "| 4 | Male_BR1   | BR1015 | 3 | 25.0000000 |  4.183728e-01 |\n",
       "| 4 | Male_BR1   | BR1018 | 1 |  7.6923077 | -7.377759e-01 |\n",
       "| 4 | Male_BR1   | BR1040 | 4 | 11.7647059 | -4.573673e-01 |\n",
       "| 4 | Male_BR1   | BR1042 | 3 |  2.7272727 | -1.517195e+00 |\n",
       "| 4 | Male_BR1   | BR1043 | 1 | 11.1111111 | -7.225929e-01 |\n",
       "| 4 | Male_BR1   | BR1045 | 2 |  0.9389671 | -1.830706e+00 |\n",
       "| 4 | Male_BR1   | BR1049 | 1 |  5.8823529 | -1.095507e+00 |\n",
       "| 4 | Male_BR2   | BR2013 | 1 |  5.0000000 | -9.364262e-01 |\n",
       "| 4 | Male_BR2   | BR2019 | 1 |  4.0000000 | -1.190649e+00 |\n",
       "| 4 | Male_BR2   | BR2025 | 3 |  0.6410256 | -2.265587e+00 |\n",
       "| 4 | Male_BR2   | BR2031 | 1 | 20.0000000 | -3.662041e-01 |\n",
       "| 4 | Male_BR2   | BR2033 | 1 | 33.3333333 |  2.220446e-16 |\n",
       "| 4 | Male_BR2   | BR2037 | 1 | 20.0000000 | -3.662041e-01 |\n",
       "| 4 | Male_BR2   | BR2038 | 1 |  5.0000000 | -1.196873e+00 |\n",
       "| 4 | Male_BR2   | BR2047 | 2 | 10.0000000 | -4.394449e-01 |\n",
       "| 4 | Male_BR2   | BR2048 | 2 | 10.0000000 | -4.840736e-01 |\n",
       "\n"
      ],
      "text/plain": [
       "    leiden_resolution_0.5 facet      subject.subjectGuid count percentage\n",
       "1   0                     Female_BR1 BR1001               9    27.272727 \n",
       "2   0                     Female_BR1 BR1003               1    16.666667 \n",
       "3   0                     Female_BR1 BR1005               4    28.571429 \n",
       "4   0                     Female_BR1 BR1008               1    16.666667 \n",
       "5   0                     Female_BR1 BR1014               3    33.333333 \n",
       "6   0                     Female_BR1 BR1017               3    25.000000 \n",
       "7   0                     Female_BR1 BR1019               7    43.750000 \n",
       "8   0                     Female_BR1 BR1021              26    61.904762 \n",
       "9   0                     Female_BR1 BR1024               3    25.000000 \n",
       "10  0                     Female_BR1 BR1025              11    39.285714 \n",
       "11  0                     Female_BR1 BR1026               1    33.333333 \n",
       "12  0                     Female_BR1 BR1028              25    60.975610 \n",
       "13  0                     Female_BR1 BR1030               5    14.285714 \n",
       "14  0                     Female_BR1 BR1031               1     6.666667 \n",
       "15  0                     Female_BR1 BR1033               3    75.000000 \n",
       "16  0                     Female_BR1 BR1037              57    55.882353 \n",
       "17  0                     Female_BR1 BR1041               1    11.111111 \n",
       "18  0                     Female_BR1 BR1048              11    50.000000 \n",
       "19  0                     Female_BR1 BR1050               5    41.666667 \n",
       "20  0                     Female_BR1 BR1056               1    33.333333 \n",
       "21  0                     Female_BR1 BR1057               1    11.111111 \n",
       "22  0                     Female_BR1 BR1058               1     8.333333 \n",
       "23  0                     Female_BR2 BR2002               7    33.333333 \n",
       "24  0                     Female_BR2 BR2005               1    25.000000 \n",
       "25  0                     Female_BR2 BR2008               1    25.000000 \n",
       "26  0                     Female_BR2 BR2009               7    53.846154 \n",
       "27  0                     Female_BR2 BR2010               9    28.125000 \n",
       "28  0                     Female_BR2 BR2012              22    62.857143 \n",
       "29  0                     Female_BR2 BR2014              13    52.000000 \n",
       "30  0                     Female_BR2 BR2015              14    77.777778 \n",
       "⋮   ⋮                     ⋮          ⋮                   ⋮     ⋮         \n",
       "315 4                     Female_BR2 BR2018              4      6.3492063\n",
       "316 4                     Female_BR2 BR2021              2     40.0000000\n",
       "317 4                     Female_BR2 BR2024              7     24.1379310\n",
       "318 4                     Female_BR2 BR2034              1     12.5000000\n",
       "319 4                     Female_BR2 BR2035              2     33.3333333\n",
       "320 4                     Female_BR2 BR2036              5     55.5555556\n",
       "321 4                     Female_BR2 BR2040              1      3.7037037\n",
       "322 4                     Female_BR2 BR2041              3     23.0769231\n",
       "323 4                     Female_BR2 BR2042              9      6.8702290\n",
       "324 4                     Female_BR2 BR2044              1      5.8823529\n",
       "325 4                     Female_BR2 BR2051              1      2.0833333\n",
       "326 4                     Female_BR2 BR2052              4     10.8108108\n",
       "327 4                     Male_BR1   BR1006              1     10.0000000\n",
       "328 4                     Male_BR1   BR1007              3      6.2500000\n",
       "329 4                     Male_BR1   BR1015              3     25.0000000\n",
       "330 4                     Male_BR1   BR1018              1      7.6923077\n",
       "331 4                     Male_BR1   BR1040              4     11.7647059\n",
       "332 4                     Male_BR1   BR1042              3      2.7272727\n",
       "333 4                     Male_BR1   BR1043              1     11.1111111\n",
       "334 4                     Male_BR1   BR1045              2      0.9389671\n",
       "335 4                     Male_BR1   BR1049              1      5.8823529\n",
       "336 4                     Male_BR2   BR2013              1      5.0000000\n",
       "337 4                     Male_BR2   BR2019              1      4.0000000\n",
       "338 4                     Male_BR2   BR2025              3      0.6410256\n",
       "339 4                     Male_BR2   BR2031              1     20.0000000\n",
       "340 4                     Male_BR2   BR2033              1     33.3333333\n",
       "341 4                     Male_BR2   BR2037              1     20.0000000\n",
       "342 4                     Male_BR2   BR2038              1      5.0000000\n",
       "343 4                     Male_BR2   BR2047              2     10.0000000\n",
       "344 4                     Male_BR2   BR2048              2     10.0000000\n",
       "    percentage_clr\n",
       "1   -1.823978e-01 \n",
       "2   -4.620981e-01 \n",
       "3    2.907877e-01 \n",
       "4   -5.972532e-01 \n",
       "5    6.016310e-01 \n",
       "6    4.183728e-01 \n",
       "7    6.354734e-01 \n",
       "8    1.230565e+00 \n",
       "9    1.469467e-01 \n",
       "10   1.005447e+00 \n",
       "11  -3.465736e-01 \n",
       "12   1.171704e+00 \n",
       "13  -1.224516e-01 \n",
       "14  -8.958797e-01 \n",
       "15   5.493061e-01 \n",
       "16   1.598713e+00 \n",
       "17  -4.394449e-01 \n",
       "18   1.249115e+00 \n",
       "19   4.757055e-01 \n",
       "20   2.220446e-16 \n",
       "21  -6.212267e-01 \n",
       "22  -9.678003e-01 \n",
       "23   7.013949e-01 \n",
       "24  -5.493061e-01 \n",
       "25  -2.310491e-01 \n",
       "26   1.337006e+00 \n",
       "27   3.135339e-01 \n",
       "28   1.569349e+00 \n",
       "29   1.233091e+00 \n",
       "30   1.806006e+00 \n",
       "⋮   ⋮             \n",
       "315 -1.115397e+00 \n",
       "316 -2.027326e-01 \n",
       "317  5.021282e-01 \n",
       "318 -4.158883e-01 \n",
       "319  5.545177e-01 \n",
       "320  6.108605e-01 \n",
       "321 -1.108253e+00 \n",
       "322 -2.634013e-02 \n",
       "323 -7.010370e-01 \n",
       "324 -9.574983e-01 \n",
       "325 -1.891440e+00 \n",
       "326 -4.265372e-01 \n",
       "327 -5.780744e-01 \n",
       "328 -1.163490e+00 \n",
       "329  4.183728e-01 \n",
       "330 -7.377759e-01 \n",
       "331 -4.573673e-01 \n",
       "332 -1.517195e+00 \n",
       "333 -7.225929e-01 \n",
       "334 -1.830706e+00 \n",
       "335 -1.095507e+00 \n",
       "336 -9.364262e-01 \n",
       "337 -1.190649e+00 \n",
       "338 -2.265587e+00 \n",
       "339 -3.662041e-01 \n",
       "340  2.220446e-16 \n",
       "341 -3.662041e-01 \n",
       "342 -1.196873e+00 \n",
       "343 -4.394449e-01 \n",
       "344 -4.840736e-01 "
      ]
     },
     "metadata": {},
     "output_type": "display_data"
    }
   ],
   "source": [
    "result <- read_df %>%\n",
    "  dplyr::group_by(leiden_resolution_0.5, facet, subject.subjectGuid) %>%               \n",
    "  dplyr::summarise(count = n()) %>% \n",
    "  dplyr::group_by(subject.subjectGuid) %>%                       \n",
    "  dplyr::mutate(percentage = (count / sum(count)) * 100) %>%\n",
    "  dplyr::group_by(subject.subjectGuid) %>%     \n",
    "  dplyr::mutate(percentage_clr = clr_transform((percentage))) %>% # Group again by subjectGuid for CLR# Calculate percentage\n",
    "  dplyr::ungroup()\n",
    "\n",
    "result"
   ]
  },
  {
   "cell_type": "markdown",
   "id": "3cae9490-36dc-439f-9348-572f48715951",
   "metadata": {},
   "source": [
    "# Plotting boxplots per cluster"
   ]
  },
  {
   "cell_type": "code",
   "execution_count": 44,
   "id": "5492a675-2f07-4ad3-aef5-2c45a2866fb5",
   "metadata": {
    "tags": []
   },
   "outputs": [
    {
     "data": {
      "text/html": [
       "<style>\n",
       ".list-inline {list-style: none; margin:0; padding: 0}\n",
       ".list-inline>li {display: inline-block}\n",
       ".list-inline>li:not(:last-child)::after {content: \"\\00b7\"; padding: 0 .5ex}\n",
       "</style>\n",
       "<ol class=list-inline><li>99</li><li>52</li></ol>\n"
      ],
      "text/latex": [
       "\\begin{enumerate*}\n",
       "\\item 99\n",
       "\\item 52\n",
       "\\end{enumerate*}\n"
      ],
      "text/markdown": [
       "1. 99\n",
       "2. 52\n",
       "\n",
       "\n"
      ],
      "text/plain": [
       "[1] 99 52"
      ]
     },
     "metadata": {},
     "output_type": "display_data"
    }
   ],
   "source": [
    "#subset dataframe by cluster\n",
    "subset_df <- read_df %>% filter(read_df$leiden_resolution_0.5 == 4)\n",
    "dim(subset_df)"
   ]
  },
  {
   "cell_type": "code",
   "execution_count": 45,
   "id": "bd7bfd2e-0bc5-4da8-962b-72346ec8b931",
   "metadata": {
    "tags": []
   },
   "outputs": [
    {
     "data": {
      "text/html": [
       "<table class=\"dataframe\">\n",
       "<caption>A tibble: 4 × 4</caption>\n",
       "<thead>\n",
       "\t<tr><th scope=col>facet</th><th scope=col>count</th><th scope=col>percentage</th><th scope=col>percentage_clr</th></tr>\n",
       "\t<tr><th scope=col>&lt;chr&gt;</th><th scope=col>&lt;int&gt;</th><th scope=col>&lt;dbl&gt;</th><th scope=col>&lt;dbl&gt;</th></tr>\n",
       "</thead>\n",
       "<tbody>\n",
       "\t<tr><td>Female_BR1</td><td>14</td><td>0.5225831</td><td>-0.39062707</td></tr>\n",
       "\t<tr><td>Female_BR2</td><td>53</td><td>1.9783501</td><td> 0.94060752</td></tr>\n",
       "\t<tr><td>Male_BR1  </td><td>19</td><td>0.7092199</td><td>-0.08524542</td></tr>\n",
       "\t<tr><td>Male_BR2  </td><td>13</td><td>0.4852557</td><td>-0.46473504</td></tr>\n",
       "</tbody>\n",
       "</table>\n"
      ],
      "text/latex": [
       "A tibble: 4 × 4\n",
       "\\begin{tabular}{llll}\n",
       " facet & count & percentage & percentage\\_clr\\\\\n",
       " <chr> & <int> & <dbl> & <dbl>\\\\\n",
       "\\hline\n",
       "\t Female\\_BR1 & 14 & 0.5225831 & -0.39062707\\\\\n",
       "\t Female\\_BR2 & 53 & 1.9783501 &  0.94060752\\\\\n",
       "\t Male\\_BR1   & 19 & 0.7092199 & -0.08524542\\\\\n",
       "\t Male\\_BR2   & 13 & 0.4852557 & -0.46473504\\\\\n",
       "\\end{tabular}\n"
      ],
      "text/markdown": [
       "\n",
       "A tibble: 4 × 4\n",
       "\n",
       "| facet &lt;chr&gt; | count &lt;int&gt; | percentage &lt;dbl&gt; | percentage_clr &lt;dbl&gt; |\n",
       "|---|---|---|---|\n",
       "| Female_BR1 | 14 | 0.5225831 | -0.39062707 |\n",
       "| Female_BR2 | 53 | 1.9783501 |  0.94060752 |\n",
       "| Male_BR1   | 19 | 0.7092199 | -0.08524542 |\n",
       "| Male_BR2   | 13 | 0.4852557 | -0.46473504 |\n",
       "\n"
      ],
      "text/plain": [
       "  facet      count percentage percentage_clr\n",
       "1 Female_BR1 14    0.5225831  -0.39062707   \n",
       "2 Female_BR2 53    1.9783501   0.94060752   \n",
       "3 Male_BR1   19    0.7092199  -0.08524542   \n",
       "4 Male_BR2   13    0.4852557  -0.46473504   "
      ]
     },
     "metadata": {},
     "output_type": "display_data"
    }
   ],
   "source": [
    "facet_count <- subset_df %>%\n",
    "  dplyr::group_by(facet) %>%               \n",
    "  dplyr::summarise(count = n()) %>%\n",
    "  dplyr::mutate(percentage = (count / 2679) * 100) %>%   #<- change total cellcount\n",
    "  dplyr::mutate(percentage_clr = clr_transform((percentage)))\n",
    "  \n",
    "\n",
    "facet_count"
   ]
  },
  {
   "cell_type": "code",
   "execution_count": 46,
   "id": "f3598a5f-11a6-4bcf-908a-a873313ac9cb",
   "metadata": {
    "tags": []
   },
   "outputs": [],
   "source": [
    "# install.packages(\"NatParksPalettes\")\n",
    "# library(NatParksPalettes)"
   ]
  },
  {
   "cell_type": "code",
   "execution_count": 47,
   "id": "4b39db47-df58-46b5-9b02-ad9207d0e962",
   "metadata": {
    "tags": []
   },
   "outputs": [
    {
     "data": {
      "image/png": "[encoded data removed]",
      "text/plain": [
       "plot without title"
      ]
     },
     "metadata": {
      "image/png": {
       "height": 600,
       "width": 600
      }
     },
     "output_type": "display_data"
    }
   ],
   "source": [
    "\n",
    "options(repr.plot.width = 10, repr.plot.height =10)\n",
    "ggplot(facet_count, aes(x = facet , y = percentage, fill= facet)) +\n",
    "  geom_col() +\n",
    "  #scale_fill_manual(values=natparks.pals(\"SouthDowns\", 4))+\n",
    "  labs(#title = \"Cluster 2\",\n",
    "       x = \"Groups\",\n",
    "       y = \"Percentage\") +\n",
    "  theme(axis.text.x = element_text(size = 20, angle = 45, vjust = 0.4, color= \"black\" ),     # Adjust font size of x-axis text\n",
    "        axis.text.y = element_text(size = 20, color= \"black\"),     # Adjust font size of y-axis text\n",
    "        axis.title = element_text(size = 20),\n",
    "        panel.background = element_rect(fill = \"white\"),\n",
    "        axis.line = element_line(color = \"black\"),  # Set axis line color to black,  # Set major grid line color to black\n",
    "        panel.grid.minor = element_blank(),\n",
    "        legend.position = \"top\",  # Set legend position to top\n",
    "        #legend.title = element_blank()\n",
    "       ) +\n",
    "       ggtitle(\"Cluster 4\") +\n",
    "  theme(plot.title = element_text(hjust = 0.5, size = 17, face = \"bold\"))\n",
    "   "
   ]
  },
  {
   "cell_type": "code",
   "execution_count": 25,
   "id": "054bfc20-0a8c-4f5f-963c-0099d81805e2",
   "metadata": {
    "tags": []
   },
   "outputs": [],
   "source": [
    "\n",
    "# options(repr.plot.width = 10, repr.plot.height = 15)\n",
    "# p3 <- ggplot(subset_df, aes(x = facet, y = percentage, color = facet)) +\n",
    "#   geom_violin(width = 0.7) +  # Adjust width as needed\n",
    "#   geom_boxplot(width = 0.5, outlier.shape = NA) +  # Nudge boxplots slightly for better visualization\n",
    "#   geom_jitter(width = 0.1) +\n",
    "#   ylab('Percentage') + \n",
    "#   xlab('Groups') +\n",
    "#   scale_color_manual(values = c( \"red\",\"blue\", \"orange\", \"purple\")) +\n",
    "#   theme(axis.text.x = element_text(size = 14, angle = 90 ),     # Adjust font size of x-axis text\n",
    "#         axis.text.y = element_text(size = 14),     # Adjust font size of y-axis text\n",
    "#         axis.title = element_text(size = 14),\n",
    "#         panel.background = element_rect(fill = \"white\"),\n",
    "#         axis.line = element_line(color = \"black\"),  # Set axis line color to black,  # Set major grid line color to black\n",
    "#         panel.grid.minor = element_blank(),\n",
    "#         legend.position = \"top\",  # Set legend position to top\n",
    "#         #legend.title = element_blank()\n",
    "#        ) +\n",
    "#   #stat_pvalue_manual(stat_test, label = \"p\", tip.length = 0) +\n",
    "#   #scale_y_continuous(expand = expansion(mult = c(0, 0.1))) + \n",
    "#   ggtitle(\"Cluster 2\") +\n",
    "#   theme(plot.title = element_text(hjust = 0.5, size = 16, face = \"bold\"))\n",
    "\n",
    "# p3"
   ]
  },
  {
   "cell_type": "code",
   "execution_count": null,
   "id": "9176a0c6-cbb8-47ea-b643-160a50cfb549",
   "metadata": {},
   "outputs": [],
   "source": []
  },
  {
   "cell_type": "code",
   "execution_count": null,
   "id": "9150eb26-ed8a-4feb-a34e-f09fa99812b8",
   "metadata": {},
   "outputs": [],
   "source": []
  },
  {
   "cell_type": "code",
   "execution_count": null,
   "id": "ba9ee4ea-4e34-4b84-91ce-e4e40fe1feab",
   "metadata": {},
   "outputs": [],
   "source": []
  }
 ],
 "metadata": {
  "kernelspec": {
   "display_name": "R 4",
   "language": "R",
   "name": "ir4"
  },
  "language_info": {
   "codemirror_mode": "r",
   "file_extension": ".r",
   "mimetype": "text/x-r-source",
   "name": "R",
   "pygments_lexer": "r",
   "version": "4.3.1"
  }
 },
 "nbformat": 4,
 "nbformat_minor": 5
}
