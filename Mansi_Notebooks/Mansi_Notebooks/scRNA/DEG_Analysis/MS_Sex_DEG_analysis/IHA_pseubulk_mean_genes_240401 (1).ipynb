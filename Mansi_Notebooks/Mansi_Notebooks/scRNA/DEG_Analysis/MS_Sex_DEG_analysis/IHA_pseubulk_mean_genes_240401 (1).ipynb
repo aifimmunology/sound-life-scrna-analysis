{
 "cells": [
  {
   "cell_type": "code",
   "execution_count": 1,
   "id": "4b290f3c-070d-4cf8-a1c4-4898078c3d8b",
   "metadata": {},
   "outputs": [],
   "source": [
    "import hisepy as hp\n",
    "import h5py\n",
    "import pandas as pd\n",
    "import scipy.sparse as scs\n",
    "import os\n",
    "import scanpy as sc\n",
    "import anndata"
   ]
  },
  {
   "cell_type": "code",
   "execution_count": 2,
   "id": "8cda8459-437f-46f5-b5e2-503ee30d0198",
   "metadata": {},
   "outputs": [
    {
     "name": "stderr",
     "output_type": "stream",
     "text": [
      "Global seed set to 0\n",
      "/opt/conda/lib/python3.7/site-packages/pytorch_lightning/utilities/warnings.py:54: LightningDeprecationWarning: pytorch_lightning.utilities.warnings.rank_zero_deprecation has been deprecated in v1.6 and will be removed in v1.8. Use the equivalent function from the pytorch_lightning.utilities.rank_zero module instead.\n",
      "  \"pytorch_lightning.utilities.warnings.rank_zero_deprecation has been deprecated in v1.6\"\n",
      "/opt/conda/lib/python3.7/site-packages/pytorch_lightning/utilities/warnings.py:58: LightningDeprecationWarning: The `pytorch_lightning.loggers.base.rank_zero_experiment` is deprecated in v1.7 and will be removed in v1.9. Please use `pytorch_lightning.loggers.logger.rank_zero_experiment` instead.\n",
      "  return new_rank_zero_deprecation(*args, **kwargs)\n"
     ]
    }
   ],
   "source": [
    "import anndata\n",
    "import h5py\n",
    "import os\n",
    "import pandas\n",
    "import scanpy as sc\n",
    "import scvi\n",
    "import matplotlib.pyplot as plt\n",
    "\n",
    "\n",
    "import scipy.sparse as scs\n",
    "import numpy as np"
   ]
  },
  {
   "cell_type": "code",
   "execution_count": 3,
   "id": "e8280247-cdd3-47fc-88bb-89a12cb85107",
   "metadata": {},
   "outputs": [],
   "source": [
    "import anndata\n",
    "import h5py\n",
    "import os\n",
    "import pandas\n",
    "import scanpy as sc\n",
    "import scvi\n",
    "import matplotlib.pyplot as plt\n",
    "\n",
    "import scipy.sparse as scs\n",
    "import numpy as np\n",
    "import sklearn\n",
    "import seaborn as sns\n",
    "sns.set()"
   ]
  },
  {
   "cell_type": "code",
   "execution_count": 5,
   "id": "efb4b279-973d-4c47-aa9b-54bd33b03791",
   "metadata": {},
   "outputs": [
    {
     "data": {
      "text/plain": [
       "'1.20.3'"
      ]
     },
     "execution_count": 5,
     "metadata": {},
     "output_type": "execute_result"
    }
   ],
   "source": [
    "np.version.version"
   ]
  },
  {
   "cell_type": "code",
   "execution_count": 6,
   "id": "98b409e8-6d96-440d-9d6c-a1c059c06f24",
   "metadata": {},
   "outputs": [
    {
     "data": {
      "text/plain": [
       "'1.9.3'"
      ]
     },
     "execution_count": 6,
     "metadata": {},
     "output_type": "execute_result"
    }
   ],
   "source": [
    "sc.__version__"
   ]
  },
  {
   "cell_type": "code",
   "execution_count": 7,
   "id": "1dfe16a6-aad7-4ce7-a525-3518dfb3704a",
   "metadata": {},
   "outputs": [
    {
     "data": {
      "text/plain": [
       "'0.8.0'"
      ]
     },
     "execution_count": 7,
     "metadata": {},
     "output_type": "execute_result"
    }
   ],
   "source": [
    "anndata.__version__"
   ]
  },
  {
   "cell_type": "code",
   "execution_count": 4,
   "id": "00ff2072-4633-4717-a01b-eea784b63ce0",
   "metadata": {},
   "outputs": [],
   "source": [
    "sc.settings.autosave = True  # save figures, do not show them\n",
    " # set sufficiently high resolution for saving\n",
    "sc.settings.set_figure_params(scanpy=True, dpi=80, dpi_save=300, frameon=True, vector_friendly=True, fontsize=18, color_map=None, format='png', transparent=False, ipython_format='png2x')"
   ]
  },
  {
   "cell_type": "code",
   "execution_count": 19,
   "id": "eea562a5-5462-4de3-9103-26163565a1d6",
   "metadata": {},
   "outputs": [],
   "source": [
    "adata = sc.read ('adata_files/IH_NK_Reference_processed_v2_adaptive_nk_240325.h5ad')"
   ]
  },
  {
   "cell_type": "code",
   "execution_count": 21,
   "id": "8f31696b-86f3-4907-8a32-6ce341aee890",
   "metadata": {},
   "outputs": [
    {
     "data": {
      "text/plain": [
       "AnnData object with n_obs × n_vars = 13739 × 1814\n",
       "    obs: 'barcodes', 'batch_id', 'cell_name', 'cell_uuid', 'chip_id', 'hto_barcode', 'hto_category', 'n_genes', 'n_mito_umis', 'n_reads', 'n_umis', 'original_barcodes', 'pbmc_sample_id', 'pool_id', 'seurat_pbmc_type', 'seurat_pbmc_type_score', 'umap_1', 'umap_2', 'well_id', 'subject.biologicalSex', 'subject.ethnicity', 'subject.partnerCode', 'subject.race', 'ptid', 'cohort.cohortGuid', 'sample.visitName', 'sample.visitDetails', 'subject.birthYear', 'CMV', 'BMI', 'predicted.celltype.l1.score', 'predicted.celltype.l1', 'predicted.celltype.l2.score', 'predicted.celltype.l2', 'predicted.celltype.l3.score', 'predicted.celltype.l3', 'predicted.celltype.l2.5.score', 'predicted.celltype.l2.5', 'predicted_labels_celltypist', 'majority_voting_celltypist', 'predicted_doublet', 'doublet_score', 'n_genes_by_counts', 'log1p_n_genes_by_counts', 'total_counts', 'log1p_total_counts', 'pct_counts_in_top_50_genes', 'pct_counts_in_top_100_genes', 'pct_counts_in_top_200_genes', 'pct_counts_in_top_500_genes', 'total_counts_mito', 'log1p_total_counts_mito', 'pct_counts_mito', 'leiden_resolution_1', 'leiden_resolution_1.5', 'leiden_resolution_2', 'AIFI_L1', 'AIFI_L2', 'AIFI_L3', 'AIFI_L3.5', 'cluster_dummy', 'nhood_ixs_random', 'nhood_ixs_refined', 'nhood_kth_distance', 'cohort_UP1', 'cohort_BR1', 'cohort_BR2', 'leiden', 'ptid2'\n",
       "    var: 'highly_variable', 'means', 'dispersions', 'dispersions_norm', 'mean', 'std'\n",
       "    uns: 'AIFI_L1_colors', 'AIFI_L2_colors', 'AIFI_L3_colors', 'CMV.IgG.Serology.Result.Interpretation_colors', 'cluster_dummy_colors', 'hvg', 'leiden', 'leiden_colors', 'log1p', 'neighbors', 'nhood_adata', 'pca', 'umap'\n",
       "    obsm: 'X_pca', 'X_pca_harmony', 'X_umap', 'nhoods'\n",
       "    varm: 'PCs'\n",
       "    obsp: 'connectivities', 'distances'"
      ]
     },
     "execution_count": 21,
     "metadata": {},
     "output_type": "execute_result"
    }
   ],
   "source": [
    "adata"
   ]
  },
  {
   "cell_type": "code",
   "execution_count": 22,
   "id": "33ba775e-ed28-4483-b275-6ca6cbc9dfd2",
   "metadata": {},
   "outputs": [
    {
     "data": {
      "text/plain": [
       "['Flu Year 1 Day 0']\n",
       "Categories (1, object): ['Flu Year 1 Day 0']"
      ]
     },
     "execution_count": 22,
     "metadata": {},
     "output_type": "execute_result"
    }
   ],
   "source": [
    "adata.obs['sample.visitName'].unique()"
   ]
  },
  {
   "cell_type": "markdown",
   "id": "06a952f1-9114-43e5-a9c6-df35f3b005a0",
   "metadata": {},
   "source": [
    "## generate PB count matrix on 240325start ##"
   ]
  },
  {
   "cell_type": "code",
   "execution_count": 24,
   "id": "5ea3eff9-0704-4a48-a950-9c390d0bf1f0",
   "metadata": {},
   "outputs": [],
   "source": [
    "import hisepy as hp\n",
    "import h5py\n",
    "import pandas as pd\n",
    "import scipy.sparse as scs\n",
    "import os\n",
    "import scanpy as sc\n",
    "import anndata\n",
    "import numpy as np"
   ]
  },
  {
   "cell_type": "code",
   "execution_count": 25,
   "id": "df767f36-f6e3-408a-9225-a60b5aa900e1",
   "metadata": {},
   "outputs": [],
   "source": [
    "adata.obs.rename(columns={\"subject.subjectGuid\": \"ptid\"}, inplace=True)"
   ]
  },
  {
   "cell_type": "code",
   "execution_count": 26,
   "id": "313f98eb-0b63-41a6-a0fe-b4058d7a5f44",
   "metadata": {},
   "outputs": [],
   "source": [
    "adata.obs.rename(columns={\"CMV.IgG.Serology.Result.Interpretation\": \"CMV\"}, inplace=True)"
   ]
  },
  {
   "cell_type": "code",
   "execution_count": 27,
   "id": "cbbd6fac-dc34-4718-9831-09104fa76d26",
   "metadata": {},
   "outputs": [
    {
     "data": {
      "text/plain": [
       "AnnData object with n_obs × n_vars = 13739 × 1814\n",
       "    obs: 'barcodes', 'batch_id', 'cell_name', 'cell_uuid', 'chip_id', 'hto_barcode', 'hto_category', 'n_genes', 'n_mito_umis', 'n_reads', 'n_umis', 'original_barcodes', 'pbmc_sample_id', 'pool_id', 'seurat_pbmc_type', 'seurat_pbmc_type_score', 'umap_1', 'umap_2', 'well_id', 'subject.biologicalSex', 'subject.ethnicity', 'subject.partnerCode', 'subject.race', 'ptid', 'cohort.cohortGuid', 'sample.visitName', 'sample.visitDetails', 'subject.birthYear', 'CMV', 'BMI', 'predicted.celltype.l1.score', 'predicted.celltype.l1', 'predicted.celltype.l2.score', 'predicted.celltype.l2', 'predicted.celltype.l3.score', 'predicted.celltype.l3', 'predicted.celltype.l2.5.score', 'predicted.celltype.l2.5', 'predicted_labels_celltypist', 'majority_voting_celltypist', 'predicted_doublet', 'doublet_score', 'n_genes_by_counts', 'log1p_n_genes_by_counts', 'total_counts', 'log1p_total_counts', 'pct_counts_in_top_50_genes', 'pct_counts_in_top_100_genes', 'pct_counts_in_top_200_genes', 'pct_counts_in_top_500_genes', 'total_counts_mito', 'log1p_total_counts_mito', 'pct_counts_mito', 'leiden_resolution_1', 'leiden_resolution_1.5', 'leiden_resolution_2', 'AIFI_L1', 'AIFI_L2', 'AIFI_L3', 'AIFI_L3.5', 'cluster_dummy', 'nhood_ixs_random', 'nhood_ixs_refined', 'nhood_kth_distance', 'cohort_UP1', 'cohort_BR1', 'cohort_BR2', 'leiden', 'ptid2'\n",
       "    var: 'highly_variable', 'means', 'dispersions', 'dispersions_norm', 'mean', 'std'\n",
       "    uns: 'AIFI_L1_colors', 'AIFI_L2_colors', 'AIFI_L3_colors', 'CMV.IgG.Serology.Result.Interpretation_colors', 'cluster_dummy_colors', 'hvg', 'leiden', 'leiden_colors', 'log1p', 'neighbors', 'nhood_adata', 'pca', 'umap'\n",
       "    obsm: 'X_pca', 'X_pca_harmony', 'X_umap', 'nhoods'\n",
       "    varm: 'PCs'\n",
       "    obsp: 'connectivities', 'distances'"
      ]
     },
     "execution_count": 27,
     "metadata": {},
     "output_type": "execute_result"
    }
   ],
   "source": [
    "adata"
   ]
  },
  {
   "cell_type": "code",
   "execution_count": 28,
   "id": "c6ebd378-f288-4f85-924f-55179563be5b",
   "metadata": {},
   "outputs": [],
   "source": [
    "adata.obs['ptid2'] = adata.obs['ptid'].str.cat (adata.obs['CMV'], sep = \"_\")"
   ]
  },
  {
   "cell_type": "code",
   "execution_count": 29,
   "id": "d41408e7-8f35-4696-af74-3c3b5c34c6f9",
   "metadata": {},
   "outputs": [
    {
     "data": {
      "text/plain": [
       "AnnData object with n_obs × n_vars = 13739 × 1814\n",
       "    obs: 'barcodes', 'batch_id', 'cell_name', 'cell_uuid', 'chip_id', 'hto_barcode', 'hto_category', 'n_genes', 'n_mito_umis', 'n_reads', 'n_umis', 'original_barcodes', 'pbmc_sample_id', 'pool_id', 'seurat_pbmc_type', 'seurat_pbmc_type_score', 'umap_1', 'umap_2', 'well_id', 'subject.biologicalSex', 'subject.ethnicity', 'subject.partnerCode', 'subject.race', 'ptid', 'cohort.cohortGuid', 'sample.visitName', 'sample.visitDetails', 'subject.birthYear', 'CMV', 'BMI', 'predicted.celltype.l1.score', 'predicted.celltype.l1', 'predicted.celltype.l2.score', 'predicted.celltype.l2', 'predicted.celltype.l3.score', 'predicted.celltype.l3', 'predicted.celltype.l2.5.score', 'predicted.celltype.l2.5', 'predicted_labels_celltypist', 'majority_voting_celltypist', 'predicted_doublet', 'doublet_score', 'n_genes_by_counts', 'log1p_n_genes_by_counts', 'total_counts', 'log1p_total_counts', 'pct_counts_in_top_50_genes', 'pct_counts_in_top_100_genes', 'pct_counts_in_top_200_genes', 'pct_counts_in_top_500_genes', 'total_counts_mito', 'log1p_total_counts_mito', 'pct_counts_mito', 'leiden_resolution_1', 'leiden_resolution_1.5', 'leiden_resolution_2', 'AIFI_L1', 'AIFI_L2', 'AIFI_L3', 'AIFI_L3.5', 'cluster_dummy', 'nhood_ixs_random', 'nhood_ixs_refined', 'nhood_kth_distance', 'cohort_UP1', 'cohort_BR1', 'cohort_BR2', 'leiden', 'ptid2'\n",
       "    var: 'highly_variable', 'means', 'dispersions', 'dispersions_norm', 'mean', 'std'\n",
       "    uns: 'AIFI_L1_colors', 'AIFI_L2_colors', 'AIFI_L3_colors', 'CMV.IgG.Serology.Result.Interpretation_colors', 'cluster_dummy_colors', 'hvg', 'leiden', 'leiden_colors', 'log1p', 'neighbors', 'nhood_adata', 'pca', 'umap'\n",
       "    obsm: 'X_pca', 'X_pca_harmony', 'X_umap', 'nhoods'\n",
       "    varm: 'PCs'\n",
       "    obsp: 'connectivities', 'distances'"
      ]
     },
     "execution_count": 29,
     "metadata": {},
     "output_type": "execute_result"
    }
   ],
   "source": [
    "adata"
   ]
  },
  {
   "cell_type": "code",
   "execution_count": 30,
   "id": "26e100be-4b53-4365-9fed-87c8004c670f",
   "metadata": {},
   "outputs": [
    {
     "data": {
      "text/plain": [
       "array(['BR1001_Negative', 'BR1002_Negative', 'BR1003_Negative',\n",
       "       'BR1004_Negative', 'BR1005_Negative', 'BR1006_Negative',\n",
       "       'BR1008_Positive', 'BR1007_Positive', 'BR2003_Negative',\n",
       "       'BR2002_Positive', 'BR1010_Positive', 'BR1009_Negative',\n",
       "       'BR1012_Positive', 'BR1013_Negative', 'BR1014_Positive',\n",
       "       'BR1018_Negative', 'BR1033_Positive', 'BR2009_Negative',\n",
       "       'BR1021_Negative', 'BR2038_Negative', 'BR1037_Positive',\n",
       "       'BR2025_Negative', 'BR1026_Negative', 'BR1025_Positive',\n",
       "       'BR1024_Negative', 'BR2010_Positive', 'BR2008_Negative',\n",
       "       'BR2013_Positive', 'BR1032_Positive', 'BR1040_Negative',\n",
       "       'BR1023_Negative', 'BR1019_Negative', 'BR2005_Positive',\n",
       "       'BR2037_Positive', 'BR2039_Negative', 'BR1016_Negative',\n",
       "       'BR1043_Positive', 'BR2035_Positive', 'BR2016_Positive',\n",
       "       'BR2033_Positive', 'BR1044_Positive', 'BR2036_Negative',\n",
       "       'BR2040_Negative', 'BR1042_Negative', 'BR2034_Negative',\n",
       "       'BR1045_Positive', 'BR1017_Negative', 'BR2022_Negative',\n",
       "       'BR1015_Positive', 'BR2041_Positive', 'BR1049_Negative',\n",
       "       'BR2047_Positive', 'BR2048_Positive', 'BR1030_Positive',\n",
       "       'BR2032_Negative', 'BR1050_Negative', 'BR2012_Positive',\n",
       "       'BR1048_Positive', 'BR2044_Positive', 'BR1047_Positive',\n",
       "       'BR2014_Positive', 'BR2020_Negative', 'BR2043_Positive',\n",
       "       'BR2042_Negative', 'BR1051_Positive', 'BR2024_Positive',\n",
       "       'BR2045_Positive', 'BR2029_Positive', 'BR2023_Negative',\n",
       "       'BR2031_Negative', 'BR2046_Negative', 'BR1054_Negative',\n",
       "       'BR2026_Negative', 'BR2021_Negative', 'BR2018_Positive',\n",
       "       'BR1041_Positive', 'BR2019_Positive', 'BR2028_Negative',\n",
       "       'BR1052_Negative', 'BR2052_Positive', 'BR2030_Positive',\n",
       "       'BR2051_Positive', 'BR2050_Negative', 'BR2053_Positive',\n",
       "       'BR1057_Negative', 'BR1058_Negative', 'BR1059_Negative',\n",
       "       'BR1011_Negative', 'BR1031_Negative', 'BR1028_Negative',\n",
       "       'BR2015_Negative', 'BR1056_Negative'], dtype=object)"
      ]
     },
     "execution_count": 30,
     "metadata": {},
     "output_type": "execute_result"
    }
   ],
   "source": [
    "adata.obs['ptid2'].unique()"
   ]
  },
  {
   "cell_type": "code",
   "execution_count": 31,
   "id": "886990d4-33d6-4313-9944-5ef6b9be0554",
   "metadata": {},
   "outputs": [
    {
     "data": {
      "text/plain": [
       "['Adaptive NK cell']\n",
       "Categories (1, object): ['Adaptive NK cell']"
      ]
     },
     "execution_count": 31,
     "metadata": {},
     "output_type": "execute_result"
    }
   ],
   "source": [
    "adata.obs['AIFI_L3'].unique()"
   ]
  },
  {
   "cell_type": "code",
   "execution_count": 36,
   "id": "9aa9baa5-dd77-4f5d-b35c-7d84247ceaaf",
   "metadata": {},
   "outputs": [],
   "source": [
    "adata.raw = adata"
   ]
  },
  {
   "cell_type": "code",
   "execution_count": 40,
   "id": "adb3443f-6cbb-451f-a2d9-bce11cb67ef1",
   "metadata": {},
   "outputs": [],
   "source": [
    "grouped = adata.obs.groupby(['AIFI_L3','ptid2'])"
   ]
  },
  {
   "cell_type": "code",
   "execution_count": 42,
   "id": "c6e81e75-7d12-48ae-b042-4a4ccddc5a7d",
   "metadata": {},
   "outputs": [],
   "source": [
    "def grouped_obs_mean(adata, group_key, layer=None, gene_symbols=None):\n",
    "    if layer is not None:\n",
    "        getX = lambda x: x.layers[layer]\n",
    "    else:\n",
    "        getX = lambda x: x.X\n",
    "    if gene_symbols is not None:\n",
    "        new_idx = adata.raw.var[idx]\n",
    "    else:\n",
    "        new_idx = adata.raw.var_names\n",
    "    \n",
    "    grouped = adata.obs.groupby(group_key)\n",
    "    out = pd.DataFrame(\n",
    "        np.zeros((adata.raw.shape[1], len(grouped)), dtype=np.float64),\n",
    "        columns=[':'.join(i) for i in list(grouped.groups.keys()) ],\n",
    "        index=adata.raw.var_names\n",
    "    )\n",
    "    \n",
    "    for group, idx in grouped.indices.items():\n",
    "        X = getX(adata.raw[idx])\n",
    "        out[':'.join(group)] = np.ravel(X.mean(axis=0, dtype=np.float64))\n",
    "    return out"
   ]
  },
  {
   "cell_type": "code",
   "execution_count": 51,
   "id": "fb6163d3-47cf-4447-be97-f3cd1ee29a76",
   "metadata": {},
   "outputs": [],
   "source": [
    "nk_mean = grouped_obs_mean(adata, ['AIFI_L3','ptid2'])"
   ]
  },
  {
   "cell_type": "code",
   "execution_count": 52,
   "id": "7aeca648-c504-490d-8e0b-e92210d7d0bb",
   "metadata": {},
   "outputs": [
    {
     "data": {
      "text/plain": [
       "(1814, 92)"
      ]
     },
     "execution_count": 52,
     "metadata": {},
     "output_type": "execute_result"
    }
   ],
   "source": [
    "nk_mean.shape"
   ]
  },
  {
   "cell_type": "code",
   "execution_count": 53,
   "id": "1dad23cf-27c5-497e-8a4f-a0899d3b3450",
   "metadata": {},
   "outputs": [
    {
     "data": {
      "text/html": [
       "<div>\n",
       "<style scoped>\n",
       "    .dataframe tbody tr th:only-of-type {\n",
       "        vertical-align: middle;\n",
       "    }\n",
       "\n",
       "    .dataframe tbody tr th {\n",
       "        vertical-align: top;\n",
       "    }\n",
       "\n",
       "    .dataframe thead th {\n",
       "        text-align: right;\n",
       "    }\n",
       "</style>\n",
       "<table border=\"1\" class=\"dataframe\">\n",
       "  <thead>\n",
       "    <tr style=\"text-align: right;\">\n",
       "      <th></th>\n",
       "      <th>Adaptive NK cell:BR1001_Negative</th>\n",
       "      <th>Adaptive NK cell:BR1002_Negative</th>\n",
       "      <th>Adaptive NK cell:BR1003_Negative</th>\n",
       "      <th>Adaptive NK cell:BR1004_Negative</th>\n",
       "      <th>Adaptive NK cell:BR1005_Negative</th>\n",
       "      <th>Adaptive NK cell:BR1006_Negative</th>\n",
       "      <th>Adaptive NK cell:BR1007_Positive</th>\n",
       "      <th>Adaptive NK cell:BR1008_Positive</th>\n",
       "      <th>Adaptive NK cell:BR1009_Negative</th>\n",
       "      <th>Adaptive NK cell:BR1010_Positive</th>\n",
       "      <th>...</th>\n",
       "      <th>Adaptive NK cell:BR2043_Positive</th>\n",
       "      <th>Adaptive NK cell:BR2044_Positive</th>\n",
       "      <th>Adaptive NK cell:BR2045_Positive</th>\n",
       "      <th>Adaptive NK cell:BR2046_Negative</th>\n",
       "      <th>Adaptive NK cell:BR2047_Positive</th>\n",
       "      <th>Adaptive NK cell:BR2048_Positive</th>\n",
       "      <th>Adaptive NK cell:BR2050_Negative</th>\n",
       "      <th>Adaptive NK cell:BR2051_Positive</th>\n",
       "      <th>Adaptive NK cell:BR2052_Positive</th>\n",
       "      <th>Adaptive NK cell:BR2053_Positive</th>\n",
       "    </tr>\n",
       "  </thead>\n",
       "  <tbody>\n",
       "    <tr>\n",
       "      <th>HES4</th>\n",
       "      <td>-0.098212</td>\n",
       "      <td>-0.098212</td>\n",
       "      <td>-0.098212</td>\n",
       "      <td>-0.098212</td>\n",
       "      <td>-0.098212</td>\n",
       "      <td>-0.098212</td>\n",
       "      <td>-0.036553</td>\n",
       "      <td>-0.098212</td>\n",
       "      <td>0.322547</td>\n",
       "      <td>-0.098212</td>\n",
       "      <td>...</td>\n",
       "      <td>-0.098212</td>\n",
       "      <td>-0.044253</td>\n",
       "      <td>-0.098212</td>\n",
       "      <td>-0.098212</td>\n",
       "      <td>-0.098212</td>\n",
       "      <td>-0.016775</td>\n",
       "      <td>0.217357</td>\n",
       "      <td>0.029613</td>\n",
       "      <td>-0.098212</td>\n",
       "      <td>-0.070584</td>\n",
       "    </tr>\n",
       "    <tr>\n",
       "      <th>ISG15</th>\n",
       "      <td>-0.037481</td>\n",
       "      <td>-0.245428</td>\n",
       "      <td>-0.168287</td>\n",
       "      <td>-0.442371</td>\n",
       "      <td>-0.687650</td>\n",
       "      <td>-0.117286</td>\n",
       "      <td>0.104054</td>\n",
       "      <td>0.098275</td>\n",
       "      <td>0.302976</td>\n",
       "      <td>-0.460598</td>\n",
       "      <td>...</td>\n",
       "      <td>-0.251836</td>\n",
       "      <td>-0.131352</td>\n",
       "      <td>0.129331</td>\n",
       "      <td>-0.114688</td>\n",
       "      <td>-0.010718</td>\n",
       "      <td>0.141713</td>\n",
       "      <td>0.494788</td>\n",
       "      <td>-0.239402</td>\n",
       "      <td>0.360469</td>\n",
       "      <td>-0.137414</td>\n",
       "    </tr>\n",
       "  </tbody>\n",
       "</table>\n",
       "<p>2 rows × 92 columns</p>\n",
       "</div>"
      ],
      "text/plain": [
       "       Adaptive NK cell:BR1001_Negative  Adaptive NK cell:BR1002_Negative  \\\n",
       "HES4                          -0.098212                         -0.098212   \n",
       "ISG15                         -0.037481                         -0.245428   \n",
       "\n",
       "       Adaptive NK cell:BR1003_Negative  Adaptive NK cell:BR1004_Negative  \\\n",
       "HES4                          -0.098212                         -0.098212   \n",
       "ISG15                         -0.168287                         -0.442371   \n",
       "\n",
       "       Adaptive NK cell:BR1005_Negative  Adaptive NK cell:BR1006_Negative  \\\n",
       "HES4                          -0.098212                         -0.098212   \n",
       "ISG15                         -0.687650                         -0.117286   \n",
       "\n",
       "       Adaptive NK cell:BR1007_Positive  Adaptive NK cell:BR1008_Positive  \\\n",
       "HES4                          -0.036553                         -0.098212   \n",
       "ISG15                          0.104054                          0.098275   \n",
       "\n",
       "       Adaptive NK cell:BR1009_Negative  Adaptive NK cell:BR1010_Positive  \\\n",
       "HES4                           0.322547                         -0.098212   \n",
       "ISG15                          0.302976                         -0.460598   \n",
       "\n",
       "       ...  Adaptive NK cell:BR2043_Positive  \\\n",
       "HES4   ...                         -0.098212   \n",
       "ISG15  ...                         -0.251836   \n",
       "\n",
       "       Adaptive NK cell:BR2044_Positive  Adaptive NK cell:BR2045_Positive  \\\n",
       "HES4                          -0.044253                         -0.098212   \n",
       "ISG15                         -0.131352                          0.129331   \n",
       "\n",
       "       Adaptive NK cell:BR2046_Negative  Adaptive NK cell:BR2047_Positive  \\\n",
       "HES4                          -0.098212                         -0.098212   \n",
       "ISG15                         -0.114688                         -0.010718   \n",
       "\n",
       "       Adaptive NK cell:BR2048_Positive  Adaptive NK cell:BR2050_Negative  \\\n",
       "HES4                          -0.016775                          0.217357   \n",
       "ISG15                          0.141713                          0.494788   \n",
       "\n",
       "       Adaptive NK cell:BR2051_Positive  Adaptive NK cell:BR2052_Positive  \\\n",
       "HES4                           0.029613                         -0.098212   \n",
       "ISG15                         -0.239402                          0.360469   \n",
       "\n",
       "       Adaptive NK cell:BR2053_Positive  \n",
       "HES4                          -0.070584  \n",
       "ISG15                         -0.137414  \n",
       "\n",
       "[2 rows x 92 columns]"
      ]
     },
     "execution_count": 53,
     "metadata": {},
     "output_type": "execute_result"
    }
   ],
   "source": [
    "nk_mean.head(n=2)"
   ]
  },
  {
   "cell_type": "code",
   "execution_count": 54,
   "id": "3988aeb5-153a-49f4-97f9-0b1fca814b46",
   "metadata": {},
   "outputs": [
    {
     "data": {
      "text/plain": [
       "Index(['HES4', 'ISG15', 'TNFRSF18', 'TNFRSF4', 'MIB2', 'MORN1', 'PANK4',\n",
       "       'TNFRSF14-AS1', 'TNFRSF25', 'PHF13',\n",
       "       ...\n",
       "       'C21orf58', 'PCNT', 'DIP2A', 'S100B', 'MT-ND1', 'MT-ND2', 'MT-ND4L',\n",
       "       'MT-ND5', 'MT-ND6', 'AC004556.1'],\n",
       "      dtype='object', length=1814)"
      ]
     },
     "execution_count": 54,
     "metadata": {},
     "output_type": "execute_result"
    }
   ],
   "source": [
    "nk_mean.index"
   ]
  },
  {
   "cell_type": "code",
   "execution_count": 55,
   "id": "1d8f3893-b5ae-4c7e-aba8-ac07fbf06dfc",
   "metadata": {},
   "outputs": [
    {
     "data": {
      "text/html": [
       "<div>\n",
       "<style scoped>\n",
       "    .dataframe tbody tr th:only-of-type {\n",
       "        vertical-align: middle;\n",
       "    }\n",
       "\n",
       "    .dataframe tbody tr th {\n",
       "        vertical-align: top;\n",
       "    }\n",
       "\n",
       "    .dataframe thead th {\n",
       "        text-align: right;\n",
       "    }\n",
       "</style>\n",
       "<table border=\"1\" class=\"dataframe\">\n",
       "  <thead>\n",
       "    <tr style=\"text-align: right;\">\n",
       "      <th></th>\n",
       "      <th>Adaptive NK cell:BR1001_Negative</th>\n",
       "      <th>Adaptive NK cell:BR1002_Negative</th>\n",
       "      <th>Adaptive NK cell:BR1003_Negative</th>\n",
       "      <th>Adaptive NK cell:BR1004_Negative</th>\n",
       "      <th>Adaptive NK cell:BR1005_Negative</th>\n",
       "      <th>Adaptive NK cell:BR1006_Negative</th>\n",
       "      <th>Adaptive NK cell:BR1007_Positive</th>\n",
       "      <th>Adaptive NK cell:BR1008_Positive</th>\n",
       "      <th>Adaptive NK cell:BR1009_Negative</th>\n",
       "      <th>Adaptive NK cell:BR1010_Positive</th>\n",
       "      <th>...</th>\n",
       "      <th>Adaptive NK cell:BR2043_Positive</th>\n",
       "      <th>Adaptive NK cell:BR2044_Positive</th>\n",
       "      <th>Adaptive NK cell:BR2045_Positive</th>\n",
       "      <th>Adaptive NK cell:BR2046_Negative</th>\n",
       "      <th>Adaptive NK cell:BR2047_Positive</th>\n",
       "      <th>Adaptive NK cell:BR2048_Positive</th>\n",
       "      <th>Adaptive NK cell:BR2050_Negative</th>\n",
       "      <th>Adaptive NK cell:BR2051_Positive</th>\n",
       "      <th>Adaptive NK cell:BR2052_Positive</th>\n",
       "      <th>Adaptive NK cell:BR2053_Positive</th>\n",
       "    </tr>\n",
       "  </thead>\n",
       "  <tbody>\n",
       "    <tr>\n",
       "      <th>HES4</th>\n",
       "      <td>-0.098212</td>\n",
       "      <td>-0.098212</td>\n",
       "      <td>-0.098212</td>\n",
       "      <td>-0.098212</td>\n",
       "      <td>-0.098212</td>\n",
       "      <td>-0.098212</td>\n",
       "      <td>-0.036553</td>\n",
       "      <td>-0.098212</td>\n",
       "      <td>0.322547</td>\n",
       "      <td>-0.098212</td>\n",
       "      <td>...</td>\n",
       "      <td>-0.098212</td>\n",
       "      <td>-0.044253</td>\n",
       "      <td>-0.098212</td>\n",
       "      <td>-0.098212</td>\n",
       "      <td>-0.098212</td>\n",
       "      <td>-0.016775</td>\n",
       "      <td>0.217357</td>\n",
       "      <td>0.029613</td>\n",
       "      <td>-0.098212</td>\n",
       "      <td>-0.070584</td>\n",
       "    </tr>\n",
       "    <tr>\n",
       "      <th>ISG15</th>\n",
       "      <td>-0.037481</td>\n",
       "      <td>-0.245428</td>\n",
       "      <td>-0.168287</td>\n",
       "      <td>-0.442371</td>\n",
       "      <td>-0.687650</td>\n",
       "      <td>-0.117286</td>\n",
       "      <td>0.104054</td>\n",
       "      <td>0.098275</td>\n",
       "      <td>0.302976</td>\n",
       "      <td>-0.460598</td>\n",
       "      <td>...</td>\n",
       "      <td>-0.251836</td>\n",
       "      <td>-0.131352</td>\n",
       "      <td>0.129331</td>\n",
       "      <td>-0.114688</td>\n",
       "      <td>-0.010718</td>\n",
       "      <td>0.141713</td>\n",
       "      <td>0.494788</td>\n",
       "      <td>-0.239402</td>\n",
       "      <td>0.360469</td>\n",
       "      <td>-0.137414</td>\n",
       "    </tr>\n",
       "  </tbody>\n",
       "</table>\n",
       "<p>2 rows × 92 columns</p>\n",
       "</div>"
      ],
      "text/plain": [
       "       Adaptive NK cell:BR1001_Negative  Adaptive NK cell:BR1002_Negative  \\\n",
       "HES4                          -0.098212                         -0.098212   \n",
       "ISG15                         -0.037481                         -0.245428   \n",
       "\n",
       "       Adaptive NK cell:BR1003_Negative  Adaptive NK cell:BR1004_Negative  \\\n",
       "HES4                          -0.098212                         -0.098212   \n",
       "ISG15                         -0.168287                         -0.442371   \n",
       "\n",
       "       Adaptive NK cell:BR1005_Negative  Adaptive NK cell:BR1006_Negative  \\\n",
       "HES4                          -0.098212                         -0.098212   \n",
       "ISG15                         -0.687650                         -0.117286   \n",
       "\n",
       "       Adaptive NK cell:BR1007_Positive  Adaptive NK cell:BR1008_Positive  \\\n",
       "HES4                          -0.036553                         -0.098212   \n",
       "ISG15                          0.104054                          0.098275   \n",
       "\n",
       "       Adaptive NK cell:BR1009_Negative  Adaptive NK cell:BR1010_Positive  \\\n",
       "HES4                           0.322547                         -0.098212   \n",
       "ISG15                          0.302976                         -0.460598   \n",
       "\n",
       "       ...  Adaptive NK cell:BR2043_Positive  \\\n",
       "HES4   ...                         -0.098212   \n",
       "ISG15  ...                         -0.251836   \n",
       "\n",
       "       Adaptive NK cell:BR2044_Positive  Adaptive NK cell:BR2045_Positive  \\\n",
       "HES4                          -0.044253                         -0.098212   \n",
       "ISG15                         -0.131352                          0.129331   \n",
       "\n",
       "       Adaptive NK cell:BR2046_Negative  Adaptive NK cell:BR2047_Positive  \\\n",
       "HES4                          -0.098212                         -0.098212   \n",
       "ISG15                         -0.114688                         -0.010718   \n",
       "\n",
       "       Adaptive NK cell:BR2048_Positive  Adaptive NK cell:BR2050_Negative  \\\n",
       "HES4                          -0.016775                          0.217357   \n",
       "ISG15                          0.141713                          0.494788   \n",
       "\n",
       "       Adaptive NK cell:BR2051_Positive  Adaptive NK cell:BR2052_Positive  \\\n",
       "HES4                           0.029613                         -0.098212   \n",
       "ISG15                         -0.239402                          0.360469   \n",
       "\n",
       "       Adaptive NK cell:BR2053_Positive  \n",
       "HES4                          -0.070584  \n",
       "ISG15                         -0.137414  \n",
       "\n",
       "[2 rows x 92 columns]"
      ]
     },
     "execution_count": 55,
     "metadata": {},
     "output_type": "execute_result"
    }
   ],
   "source": [
    "nk_mean.head(n=2)"
   ]
  },
  {
   "cell_type": "code",
   "execution_count": 56,
   "id": "51905db1-a1cf-478e-9715-ef4ee4e440df",
   "metadata": {},
   "outputs": [
    {
     "data": {
      "text/html": [
       "<div>\n",
       "<style scoped>\n",
       "    .dataframe tbody tr th:only-of-type {\n",
       "        vertical-align: middle;\n",
       "    }\n",
       "\n",
       "    .dataframe tbody tr th {\n",
       "        vertical-align: top;\n",
       "    }\n",
       "\n",
       "    .dataframe thead th {\n",
       "        text-align: right;\n",
       "    }\n",
       "</style>\n",
       "<table border=\"1\" class=\"dataframe\">\n",
       "  <thead>\n",
       "    <tr style=\"text-align: right;\">\n",
       "      <th></th>\n",
       "      <th>Adaptive NK cell:BR1001_Negative</th>\n",
       "      <th>Adaptive NK cell:BR1002_Negative</th>\n",
       "      <th>Adaptive NK cell:BR1003_Negative</th>\n",
       "      <th>Adaptive NK cell:BR1004_Negative</th>\n",
       "      <th>Adaptive NK cell:BR1005_Negative</th>\n",
       "      <th>Adaptive NK cell:BR1006_Negative</th>\n",
       "      <th>Adaptive NK cell:BR1007_Positive</th>\n",
       "      <th>Adaptive NK cell:BR1008_Positive</th>\n",
       "      <th>Adaptive NK cell:BR1009_Negative</th>\n",
       "      <th>Adaptive NK cell:BR1010_Positive</th>\n",
       "      <th>...</th>\n",
       "      <th>Adaptive NK cell:BR2043_Positive</th>\n",
       "      <th>Adaptive NK cell:BR2044_Positive</th>\n",
       "      <th>Adaptive NK cell:BR2045_Positive</th>\n",
       "      <th>Adaptive NK cell:BR2046_Negative</th>\n",
       "      <th>Adaptive NK cell:BR2047_Positive</th>\n",
       "      <th>Adaptive NK cell:BR2048_Positive</th>\n",
       "      <th>Adaptive NK cell:BR2050_Negative</th>\n",
       "      <th>Adaptive NK cell:BR2051_Positive</th>\n",
       "      <th>Adaptive NK cell:BR2052_Positive</th>\n",
       "      <th>Adaptive NK cell:BR2053_Positive</th>\n",
       "    </tr>\n",
       "  </thead>\n",
       "  <tbody>\n",
       "    <tr>\n",
       "      <th>KLRC1</th>\n",
       "      <td>1.083873</td>\n",
       "      <td>0.941715</td>\n",
       "      <td>-0.004788</td>\n",
       "      <td>0.03748</td>\n",
       "      <td>0.390425</td>\n",
       "      <td>0.17737</td>\n",
       "      <td>-0.338358</td>\n",
       "      <td>0.388425</td>\n",
       "      <td>0.482071</td>\n",
       "      <td>0.220101</td>\n",
       "      <td>...</td>\n",
       "      <td>-0.158161</td>\n",
       "      <td>-0.083158</td>\n",
       "      <td>0.117286</td>\n",
       "      <td>0.09761</td>\n",
       "      <td>-0.069102</td>\n",
       "      <td>0.230013</td>\n",
       "      <td>1.602674</td>\n",
       "      <td>0.365278</td>\n",
       "      <td>0.495356</td>\n",
       "      <td>0.076731</td>\n",
       "    </tr>\n",
       "  </tbody>\n",
       "</table>\n",
       "<p>1 rows × 92 columns</p>\n",
       "</div>"
      ],
      "text/plain": [
       "       Adaptive NK cell:BR1001_Negative  Adaptive NK cell:BR1002_Negative  \\\n",
       "KLRC1                          1.083873                          0.941715   \n",
       "\n",
       "       Adaptive NK cell:BR1003_Negative  Adaptive NK cell:BR1004_Negative  \\\n",
       "KLRC1                         -0.004788                           0.03748   \n",
       "\n",
       "       Adaptive NK cell:BR1005_Negative  Adaptive NK cell:BR1006_Negative  \\\n",
       "KLRC1                          0.390425                           0.17737   \n",
       "\n",
       "       Adaptive NK cell:BR1007_Positive  Adaptive NK cell:BR1008_Positive  \\\n",
       "KLRC1                         -0.338358                          0.388425   \n",
       "\n",
       "       Adaptive NK cell:BR1009_Negative  Adaptive NK cell:BR1010_Positive  \\\n",
       "KLRC1                          0.482071                          0.220101   \n",
       "\n",
       "       ...  Adaptive NK cell:BR2043_Positive  \\\n",
       "KLRC1  ...                         -0.158161   \n",
       "\n",
       "       Adaptive NK cell:BR2044_Positive  Adaptive NK cell:BR2045_Positive  \\\n",
       "KLRC1                         -0.083158                          0.117286   \n",
       "\n",
       "       Adaptive NK cell:BR2046_Negative  Adaptive NK cell:BR2047_Positive  \\\n",
       "KLRC1                           0.09761                         -0.069102   \n",
       "\n",
       "       Adaptive NK cell:BR2048_Positive  Adaptive NK cell:BR2050_Negative  \\\n",
       "KLRC1                          0.230013                          1.602674   \n",
       "\n",
       "       Adaptive NK cell:BR2051_Positive  Adaptive NK cell:BR2052_Positive  \\\n",
       "KLRC1                          0.365278                          0.495356   \n",
       "\n",
       "       Adaptive NK cell:BR2053_Positive  \n",
       "KLRC1                          0.076731  \n",
       "\n",
       "[1 rows x 92 columns]"
      ]
     },
     "execution_count": 56,
     "metadata": {},
     "output_type": "execute_result"
    }
   ],
   "source": [
    "nk_mean[nk_mean.index=='KLRC1']"
   ]
  },
  {
   "cell_type": "code",
   "execution_count": 58,
   "id": "dd1f80c5-b780-4e20-8753-9d8d9b00ad64",
   "metadata": {},
   "outputs": [],
   "source": [
    "nk_mean.to_csv('./csv_files/IHA_adaptive_nk_pb_mean_240325.csv')"
   ]
  }
 ],
 "metadata": {
  "kernelspec": {
   "display_name": "Python 3 (ipykernel)",
   "language": "python",
   "name": "python3"
  },
  "language_info": {
   "codemirror_mode": {
    "name": "ipython",
    "version": 3
   },
   "file_extension": ".py",
   "mimetype": "text/x-python",
   "name": "python",
   "nbconvert_exporter": "python",
   "pygments_lexer": "ipython3",
   "version": "3.10.12"
  }
 },
 "nbformat": 4,
 "nbformat_minor": 5
}
