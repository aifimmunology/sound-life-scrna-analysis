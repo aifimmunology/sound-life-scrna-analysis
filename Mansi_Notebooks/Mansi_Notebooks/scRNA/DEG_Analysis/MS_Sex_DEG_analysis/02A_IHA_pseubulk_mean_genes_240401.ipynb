{
 "cells": [
  {
   "cell_type": "code",
   "execution_count": 61,
   "id": "4b290f3c-070d-4cf8-a1c4-4898078c3d8b",
   "metadata": {
    "tags": []
   },
   "outputs": [],
   "source": [
    "import hisepy as hp\n",
    "import h5py\n",
    "import pandas as pd\n",
    "import scipy.sparse as scs\n",
    "import os\n",
    "import scanpy as sc\n",
    "import anndata"
   ]
  },
  {
   "cell_type": "code",
   "execution_count": null,
   "id": "8cda8459-437f-46f5-b5e2-503ee30d0198",
   "metadata": {
    "tags": []
   },
   "outputs": [],
   "source": [
    "import anndata\n",
    "import h5py\n",
    "import os\n",
    "import pandas\n",
    "import scanpy as sc\n",
    "import scvi\n",
    "import matplotlib.pyplot as plt\n",
    "\n",
    "\n",
    "import scipy.sparse as scs\n",
    "import numpy as np"
   ]
  },
  {
   "cell_type": "code",
   "execution_count": null,
   "id": "e8280247-cdd3-47fc-88bb-89a12cb85107",
   "metadata": {
    "tags": []
   },
   "outputs": [],
   "source": [
    "import anndata\n",
    "import h5py\n",
    "import os\n",
    "import pandas\n",
    "import scanpy as sc\n",
    "import scvi\n",
    "import matplotlib.pyplot as plt\n",
    "\n",
    "import scipy.sparse as scs\n",
    "import numpy as np\n",
    "import sklearn\n",
    "import seaborn as sns\n",
    "sns.set()"
   ]
  },
  {
   "cell_type": "code",
   "execution_count": null,
   "id": "efb4b279-973d-4c47-aa9b-54bd33b03791",
   "metadata": {
    "tags": []
   },
   "outputs": [],
   "source": [
    "np.version.version"
   ]
  },
  {
   "cell_type": "code",
   "execution_count": null,
   "id": "98b409e8-6d96-440d-9d6c-a1c059c06f24",
   "metadata": {
    "tags": []
   },
   "outputs": [],
   "source": [
    "sc.__version__"
   ]
  },
  {
   "cell_type": "code",
   "execution_count": null,
   "id": "1dfe16a6-aad7-4ce7-a525-3518dfb3704a",
   "metadata": {
    "tags": []
   },
   "outputs": [],
   "source": [
    "anndata.__version__"
   ]
  },
  {
   "cell_type": "code",
   "execution_count": 67,
   "id": "00ff2072-4633-4717-a01b-eea784b63ce0",
   "metadata": {
    "tags": []
   },
   "outputs": [],
   "source": [
    "sc.settings.autosave = True  # save figures, do not show them\n",
    " # set sufficiently high resolution for saving\n",
    "sc.settings.set_figure_params(scanpy=True, dpi=80, dpi_save=300, frameon=True, vector_friendly=True, fontsize=18, color_map=None, format='png', transparent=False, ipython_format='png2x')"
   ]
  },
  {
   "cell_type": "code",
   "execution_count": 75,
   "id": "eea562a5-5462-4de3-9103-26163565a1d6",
   "metadata": {
    "collapsed": true,
    "jupyter": {
     "outputs_hidden": true
    },
    "tags": []
   },
   "outputs": [
    {
     "data": {
      "text/plain": [
       "AnnData object with n_obs × n_vars = 300058 × 1351\n",
       "    obs: 'barcodes', 'batch_id', 'cell_name', 'cell_uuid', 'chip_id', 'hto_barcode', 'hto_category', 'n_genes', 'n_mito_umis', 'n_reads', 'n_umis', 'original_barcodes', 'pbmc_sample_id', 'pool_id', 'seurat_pbmc_type', 'seurat_pbmc_type_score', 'umap_1', 'umap_2', 'well_id', 'subject.biologicalSex', 'subject.ethnicity', 'subject.partnerCode', 'subject.race', 'subject.subjectGuid', 'cohort.cohortGuid', 'sample.visitName', 'sample.visitDetails', 'subject.birthYear', 'CMV.IgG.Serology.Result.Interpretation', 'BMI', 'predicted.celltype.l1.score', 'predicted.celltype.l1', 'predicted.celltype.l2.score', 'predicted.celltype.l2', 'predicted.celltype.l3.score', 'predicted.celltype.l3', 'predicted.celltype.l2.5.score', 'predicted.celltype.l2.5', 'predicted_labels_celltypist', 'majority_voting_celltypist', 'predicted_doublet', 'doublet_score', 'n_genes_by_counts', 'log1p_n_genes_by_counts', 'total_counts', 'log1p_total_counts', 'pct_counts_in_top_50_genes', 'pct_counts_in_top_100_genes', 'pct_counts_in_top_200_genes', 'pct_counts_in_top_500_genes', 'total_counts_mito', 'log1p_total_counts_mito', 'pct_counts_mito', 'leiden', 'leiden_resolution_1', 'leiden_resolution_1.5', 'leiden_resolution_2', 'AIFI_L1', 'AIFI_L2', 'AIFI_L3', 'AIFI_L3.5', 'cluster_dummy'\n",
       "    var: 'highly_variable', 'means', 'dispersions', 'dispersions_norm', 'mean', 'std'\n",
       "    uns: 'AIFI_L1_colors', 'AIFI_L2_colors', 'AIFI_L3_colors', 'cluster_dummy_colors', 'hvg', 'log1p', 'neighbors', 'pca', 'sample.visitName_colors', 'umap'\n",
       "    obsm: 'X_pca', 'X_pca_harmony', 'X_umap'\n",
       "    varm: 'PCs'\n",
       "    obsp: 'connectivities', 'distances'"
      ]
     },
     "execution_count": 75,
     "metadata": {},
     "output_type": "execute_result"
    }
   ],
   "source": [
    "adata = sc.read ('/home/jupyter/Myeloid_cells/files/Myeloidcells_processed_labeled_v5_2024-04-01.h5ad')\n",
    "adata"
   ]
  },
  {
   "cell_type": "code",
   "execution_count": 100,
   "id": "bcaf3ef1-54d1-434a-a5e2-90f2166070d9",
   "metadata": {
    "tags": []
   },
   "outputs": [
    {
     "data": {
      "text/plain": [
       "AnnData object with n_obs × n_vars = 2679 × 2686\n",
       "    obs: 'barcodes', 'batch_id', 'cell_name', 'cell_uuid', 'chip_id', 'hto_barcode', 'hto_category', 'n_genes', 'n_mito_umis', 'n_reads', 'n_umis', 'original_barcodes', 'pbmc_sample_id', 'pool_id', 'seurat_pbmc_type', 'seurat_pbmc_type_score', 'umap_1', 'umap_2', 'well_id', 'subject.biologicalSex', 'subject.ethnicity', 'subject.partnerCode', 'subject.race', 'subject.subjectGuid', 'cohort.cohortGuid', 'sample.visitName', 'sample.visitDetails', 'subject.birthYear', 'CMV.IgG.Serology.Result.Interpretation', 'BMI', 'predicted_doublet', 'doublet_score', 'AIFI_L1', 'AIFI_L2', 'AIFI_L3', 'AIFI_L3.5', 'n_genes_by_counts', 'log1p_n_genes_by_counts', 'total_counts', 'log1p_total_counts', 'pct_counts_in_top_50_genes', 'pct_counts_in_top_100_genes', 'pct_counts_in_top_200_genes', 'pct_counts_in_top_500_genes', 'total_counts_mito', 'log1p_total_counts_mito', 'pct_counts_mito', 'leiden_resolution_0.5', 'leiden_resolution_1', 'leiden_resolution_1.5', 'leiden_resolution_2'\n",
       "    var: 'highly_variable', 'means', 'dispersions', 'dispersions_norm', 'mean', 'std'\n",
       "    uns: 'hvg', 'log1p', 'neighbors', 'pca', 'umap'\n",
       "    obsm: 'X_pca', 'X_pca_harmony', 'X_umap'\n",
       "    varm: 'PCs'\n",
       "    obsp: 'connectivities', 'distances'"
      ]
     },
     "execution_count": 100,
     "metadata": {},
     "output_type": "execute_result"
    }
   ],
   "source": [
    "adata = sc.read ('/home/jupyter/Myeloid_cells/files/IL1B_CD14_Mono_ONLY_FluYr1D0_parallel.h5ad')\n",
    "adata"
   ]
  },
  {
   "cell_type": "code",
   "execution_count": 101,
   "id": "59e38b3b-16b4-4992-8e86-cbdc8db235fa",
   "metadata": {
    "tags": []
   },
   "outputs": [
    {
     "name": "stderr",
     "output_type": "stream",
     "text": [
      "/opt/conda/lib/python3.10/site-packages/anndata/_core/anndata.py:1113: FutureWarning: is_categorical_dtype is deprecated and will be removed in a future version. Use isinstance(dtype, CategoricalDtype) instead\n",
      "  if not is_categorical_dtype(df_full[k]):\n"
     ]
    }
   ],
   "source": [
    "selected_cell_types = ['IL1B+ CD14 monocyte']\n",
    "\n",
    "adata_filt = adata[adata.obs['AIFI_L3'].isin(selected_cell_types), :]"
   ]
  },
  {
   "cell_type": "code",
   "execution_count": 102,
   "id": "8f31696b-86f3-4907-8a32-6ce341aee890",
   "metadata": {
    "tags": []
   },
   "outputs": [
    {
     "data": {
      "text/plain": [
       "View of AnnData object with n_obs × n_vars = 2679 × 2686\n",
       "    obs: 'barcodes', 'batch_id', 'cell_name', 'cell_uuid', 'chip_id', 'hto_barcode', 'hto_category', 'n_genes', 'n_mito_umis', 'n_reads', 'n_umis', 'original_barcodes', 'pbmc_sample_id', 'pool_id', 'seurat_pbmc_type', 'seurat_pbmc_type_score', 'umap_1', 'umap_2', 'well_id', 'subject.biologicalSex', 'subject.ethnicity', 'subject.partnerCode', 'subject.race', 'subject.subjectGuid', 'cohort.cohortGuid', 'sample.visitName', 'sample.visitDetails', 'subject.birthYear', 'CMV.IgG.Serology.Result.Interpretation', 'BMI', 'predicted_doublet', 'doublet_score', 'AIFI_L1', 'AIFI_L2', 'AIFI_L3', 'AIFI_L3.5', 'n_genes_by_counts', 'log1p_n_genes_by_counts', 'total_counts', 'log1p_total_counts', 'pct_counts_in_top_50_genes', 'pct_counts_in_top_100_genes', 'pct_counts_in_top_200_genes', 'pct_counts_in_top_500_genes', 'total_counts_mito', 'log1p_total_counts_mito', 'pct_counts_mito', 'leiden_resolution_0.5', 'leiden_resolution_1', 'leiden_resolution_1.5', 'leiden_resolution_2'\n",
       "    var: 'highly_variable', 'means', 'dispersions', 'dispersions_norm', 'mean', 'std'\n",
       "    uns: 'hvg', 'log1p', 'neighbors', 'pca', 'umap'\n",
       "    obsm: 'X_pca', 'X_pca_harmony', 'X_umap'\n",
       "    varm: 'PCs'\n",
       "    obsp: 'connectivities', 'distances'"
      ]
     },
     "execution_count": 102,
     "metadata": {},
     "output_type": "execute_result"
    }
   ],
   "source": [
    "adata_filt"
   ]
  },
  {
   "cell_type": "code",
   "execution_count": 103,
   "id": "33ba775e-ed28-4483-b275-6ca6cbc9dfd2",
   "metadata": {
    "tags": []
   },
   "outputs": [
    {
     "data": {
      "text/plain": [
       "['Flu Year 1 Day 0']\n",
       "Categories (1, object): ['Flu Year 1 Day 0']"
      ]
     },
     "execution_count": 103,
     "metadata": {},
     "output_type": "execute_result"
    }
   ],
   "source": [
    "adata_filt.obs['sample.visitName'].unique()"
   ]
  },
  {
   "cell_type": "markdown",
   "id": "06a952f1-9114-43e5-a9c6-df35f3b005a0",
   "metadata": {},
   "source": [
    "## generate PB count matrix on 240325start ##"
   ]
  },
  {
   "cell_type": "code",
   "execution_count": 104,
   "id": "5ea3eff9-0704-4a48-a950-9c390d0bf1f0",
   "metadata": {
    "tags": []
   },
   "outputs": [],
   "source": [
    "import hisepy as hp\n",
    "import h5py\n",
    "import pandas as pd\n",
    "import scipy.sparse as scs\n",
    "import os\n",
    "import scanpy as sc\n",
    "import anndata\n",
    "import numpy as np"
   ]
  },
  {
   "cell_type": "code",
   "execution_count": 34,
   "id": "df767f36-f6e3-408a-9225-a60b5aa900e1",
   "metadata": {
    "tags": []
   },
   "outputs": [],
   "source": [
    "#adata_filt.obs.rename(columns={\"pbmc_sample_id\": \"pbmc_sample_id\"}, inplace=True)"
   ]
  },
  {
   "cell_type": "code",
   "execution_count": 35,
   "id": "313f98eb-0b63-41a6-a0fe-b4058d7a5f44",
   "metadata": {
    "tags": []
   },
   "outputs": [],
   "source": [
    "#adata_filt.obs.rename(columns={\"CMV.IgG.Serology.Result.Interpretation\": \"CMV\"}, inplace=True)"
   ]
  },
  {
   "cell_type": "code",
   "execution_count": 36,
   "id": "113570c2-2c7b-45aa-ab1b-41f38ec6b90b",
   "metadata": {
    "tags": []
   },
   "outputs": [],
   "source": [
    "#adata_filt.obs.rename(columns={\"cohort.cohortGuid\": \"Age\"}, inplace=True)"
   ]
  },
  {
   "cell_type": "code",
   "execution_count": 105,
   "id": "cbbd6fac-dc34-4718-9831-09104fa76d26",
   "metadata": {
    "tags": []
   },
   "outputs": [
    {
     "data": {
      "text/plain": [
       "View of AnnData object with n_obs × n_vars = 2679 × 2686\n",
       "    obs: 'barcodes', 'batch_id', 'cell_name', 'cell_uuid', 'chip_id', 'hto_barcode', 'hto_category', 'n_genes', 'n_mito_umis', 'n_reads', 'n_umis', 'original_barcodes', 'pbmc_sample_id', 'pool_id', 'seurat_pbmc_type', 'seurat_pbmc_type_score', 'umap_1', 'umap_2', 'well_id', 'subject.biologicalSex', 'subject.ethnicity', 'subject.partnerCode', 'subject.race', 'subject.subjectGuid', 'cohort.cohortGuid', 'sample.visitName', 'sample.visitDetails', 'subject.birthYear', 'CMV.IgG.Serology.Result.Interpretation', 'BMI', 'predicted_doublet', 'doublet_score', 'AIFI_L1', 'AIFI_L2', 'AIFI_L3', 'AIFI_L3.5', 'n_genes_by_counts', 'log1p_n_genes_by_counts', 'total_counts', 'log1p_total_counts', 'pct_counts_in_top_50_genes', 'pct_counts_in_top_100_genes', 'pct_counts_in_top_200_genes', 'pct_counts_in_top_500_genes', 'total_counts_mito', 'log1p_total_counts_mito', 'pct_counts_mito', 'leiden_resolution_0.5', 'leiden_resolution_1', 'leiden_resolution_1.5', 'leiden_resolution_2'\n",
       "    var: 'highly_variable', 'means', 'dispersions', 'dispersions_norm', 'mean', 'std'\n",
       "    uns: 'hvg', 'log1p', 'neighbors', 'pca', 'umap'\n",
       "    obsm: 'X_pca', 'X_pca_harmony', 'X_umap'\n",
       "    varm: 'PCs'\n",
       "    obsp: 'connectivities', 'distances'"
      ]
     },
     "execution_count": 105,
     "metadata": {},
     "output_type": "execute_result"
    }
   ],
   "source": [
    "adata_filt"
   ]
  },
  {
   "cell_type": "code",
   "execution_count": 106,
   "id": "c6ebd378-f288-4f85-924f-55179563be5b",
   "metadata": {
    "tags": []
   },
   "outputs": [
    {
     "name": "stderr",
     "output_type": "stream",
     "text": [
      "/tmp/ipykernel_378444/2582354767.py:1: ImplicitModificationWarning: Trying to modify attribute `.obs` of view, initializing view as actual.\n",
      "  adata_filt.obs['unique_ID'] = adata_filt.obs['pbmc_sample_id'].str.cat (adata_filt.obs['subject.biologicalSex'], sep = \"_\").str.cat (adata_filt.obs['cohort.cohortGuid'], sep = \"_\")\n"
     ]
    }
   ],
   "source": [
    "adata_filt.obs['unique_ID'] = adata_filt.obs['pbmc_sample_id'].str.cat (adata_filt.obs['subject.biologicalSex'], sep = \"_\").str.cat (adata_filt.obs['cohort.cohortGuid'], sep = \"_\")"
   ]
  },
  {
   "cell_type": "code",
   "execution_count": 107,
   "id": "d41408e7-8f35-4696-af74-3c3b5c34c6f9",
   "metadata": {
    "tags": []
   },
   "outputs": [
    {
     "data": {
      "text/plain": [
       "AnnData object with n_obs × n_vars = 2679 × 2686\n",
       "    obs: 'barcodes', 'batch_id', 'cell_name', 'cell_uuid', 'chip_id', 'hto_barcode', 'hto_category', 'n_genes', 'n_mito_umis', 'n_reads', 'n_umis', 'original_barcodes', 'pbmc_sample_id', 'pool_id', 'seurat_pbmc_type', 'seurat_pbmc_type_score', 'umap_1', 'umap_2', 'well_id', 'subject.biologicalSex', 'subject.ethnicity', 'subject.partnerCode', 'subject.race', 'subject.subjectGuid', 'cohort.cohortGuid', 'sample.visitName', 'sample.visitDetails', 'subject.birthYear', 'CMV.IgG.Serology.Result.Interpretation', 'BMI', 'predicted_doublet', 'doublet_score', 'AIFI_L1', 'AIFI_L2', 'AIFI_L3', 'AIFI_L3.5', 'n_genes_by_counts', 'log1p_n_genes_by_counts', 'total_counts', 'log1p_total_counts', 'pct_counts_in_top_50_genes', 'pct_counts_in_top_100_genes', 'pct_counts_in_top_200_genes', 'pct_counts_in_top_500_genes', 'total_counts_mito', 'log1p_total_counts_mito', 'pct_counts_mito', 'leiden_resolution_0.5', 'leiden_resolution_1', 'leiden_resolution_1.5', 'leiden_resolution_2', 'unique_ID'\n",
       "    var: 'highly_variable', 'means', 'dispersions', 'dispersions_norm', 'mean', 'std'\n",
       "    uns: 'hvg', 'log1p', 'neighbors', 'pca', 'umap'\n",
       "    obsm: 'X_pca', 'X_pca_harmony', 'X_umap'\n",
       "    varm: 'PCs'\n",
       "    obsp: 'connectivities', 'distances'"
      ]
     },
     "execution_count": 107,
     "metadata": {},
     "output_type": "execute_result"
    }
   ],
   "source": [
    "adata_filt"
   ]
  },
  {
   "cell_type": "code",
   "execution_count": 108,
   "id": "26e100be-4b53-4365-9fed-87c8004c670f",
   "metadata": {
    "tags": []
   },
   "outputs": [
    {
     "data": {
      "text/plain": [
       "array(['PB00001-01_Female_BR1', 'PB00002-01_Male_BR1',\n",
       "       'PB00003-01_Female_BR1', 'PB00004-01_Male_BR1',\n",
       "       'PB00006-01_Female_BR1', 'PB00010-02_Male_BR1',\n",
       "       'PB00012-01_Female_BR1', 'PB00014-01_Male_BR1',\n",
       "       'PB00015-01_Male_BR2', 'PB00016-01_Female_BR2',\n",
       "       'PB00022-01_Female_BR1', 'PB00023-05_Female_BR1',\n",
       "       'PB00025-04_Male_BR1', 'PB00026-05_Male_BR1',\n",
       "       'PB00030-02_Female_BR1', 'PB00031-05_Female_BR1',\n",
       "       'PB00041-01_Male_BR1', 'PB00166-01_Female_BR1',\n",
       "       'PB00334-01_Female_BR2', 'PB00338-01_Female_BR1',\n",
       "       'PB00339-01_Male_BR2', 'PB00341-01_Female_BR1',\n",
       "       'PB00342-01_Male_BR2', 'PB00345-01_Female_BR1',\n",
       "       'PB00347-01_Female_BR1', 'PB00349-01_Female_BR1',\n",
       "       'PB00350-01_Female_BR1', 'PB00352-04_Female_BR2',\n",
       "       'PB00353-04_Female_BR2', 'PB00356-01_Male_BR2',\n",
       "       'PB00357-01_Male_BR1', 'PB00362-01_Female_BR1',\n",
       "       'PB00363-01_Male_BR1', 'PB00365-01_Female_BR1',\n",
       "       'PB00366-01_Female_BR1', 'PB00368-07_Female_BR2',\n",
       "       'PB00369-01_Male_BR2', 'PB00377-01_Female_BR2',\n",
       "       'PB00383-01_Male_BR2', 'PB00384-01_Male_BR1',\n",
       "       'PB00386-01_Male_BR1', 'PB00387-01_Female_BR2',\n",
       "       'PB00388-01_Female_BR2', 'PB00390-01_Male_BR2',\n",
       "       'PB00391-01_Male_BR1', 'PB00393-01_Female_BR2',\n",
       "       'PB00394-02_Female_BR2', 'PB00398-01_Male_BR1',\n",
       "       'PB00501-01_Female_BR2', 'PB00504-01_Male_BR1',\n",
       "       'PB00507-01_Female_BR1', 'PB00510-01_Male_BR2',\n",
       "       'PB00514-01_Male_BR1', 'PB00516-01_Female_BR2',\n",
       "       'PB00518-01_Male_BR1', 'PB00520-01_Male_BR2',\n",
       "       'PB00523-01_Male_BR2', 'PB00525-01_Female_BR1',\n",
       "       'PB00526-01_Female_BR2', 'PB00529-01_Female_BR1',\n",
       "       'PB00530-01_Female_BR2', 'PB00532-01_Female_BR1',\n",
       "       'PB00533-01_Female_BR2', 'PB00535-01_Male_BR1',\n",
       "       'PB00537-01_Female_BR2', 'PB00539-01_Male_BR2',\n",
       "       'PB00541-01_Female_BR2', 'PB00545-01_Female_BR2',\n",
       "       'PB00549-01_Male_BR1', 'PB00552-01_Female_BR2',\n",
       "       'PB00557-01_Female_BR2', 'PB00561-04_Female_BR2',\n",
       "       'PB00562-01_Male_BR2', 'PB00563-01_Male_BR2',\n",
       "       'PB00564-04_Male_BR2', 'PB00565-01_Male_BR1',\n",
       "       'PB00566-01_Male_BR2', 'PB00568-01_Female_BR2',\n",
       "       'PB00569-01_Female_BR2', 'PB00575-01_Female_BR1',\n",
       "       'PB00582-01_Male_BR2', 'PB00588-01_Male_BR2',\n",
       "       'PB00592-01_Male_BR1', 'PB00599-01_Female_BR2',\n",
       "       'PB00600-01_Male_BR2', 'PB00602-01_Female_BR2',\n",
       "       'PB00621-01_Female_BR1', 'PB00623-01_Male_BR2',\n",
       "       'PB00625-02_Male_BR2', 'PB00645-01_Female_BR1',\n",
       "       'PB01425-01_Female_BR1', 'PB01446-01_Male_BR1'], dtype=object)"
      ]
     },
     "execution_count": 108,
     "metadata": {},
     "output_type": "execute_result"
    }
   ],
   "source": [
    "adata_filt.obs['unique_ID'].unique()"
   ]
  },
  {
   "cell_type": "code",
   "execution_count": 109,
   "id": "886990d4-33d6-4313-9944-5ef6b9be0554",
   "metadata": {
    "tags": []
   },
   "outputs": [
    {
     "data": {
      "text/plain": [
       "['IL1B+ CD14 monocyte']\n",
       "Categories (1, object): ['IL1B+ CD14 monocyte']"
      ]
     },
     "execution_count": 109,
     "metadata": {},
     "output_type": "execute_result"
    }
   ],
   "source": [
    "adata_filt.obs['AIFI_L3'].unique()"
   ]
  },
  {
   "cell_type": "code",
   "execution_count": 110,
   "id": "9aa9baa5-dd77-4f5d-b35c-7d84247ceaaf",
   "metadata": {
    "tags": []
   },
   "outputs": [],
   "source": [
    "adata_filt.raw = adata_filt"
   ]
  },
  {
   "cell_type": "code",
   "execution_count": 111,
   "id": "adb3443f-6cbb-451f-a2d9-bce11cb67ef1",
   "metadata": {
    "tags": []
   },
   "outputs": [
    {
     "name": "stderr",
     "output_type": "stream",
     "text": [
      "/tmp/ipykernel_378444/3838162870.py:1: FutureWarning: The default of observed=False is deprecated and will be changed to True in a future version of pandas. Pass observed=False to retain current behavior or observed=True to adopt the future default and silence this warning.\n",
      "  grouped = adata_filt.obs.groupby(['AIFI_L3','unique_ID'])\n"
     ]
    }
   ],
   "source": [
    "grouped = adata_filt.obs.groupby(['AIFI_L3','unique_ID'])"
   ]
  },
  {
   "cell_type": "code",
   "execution_count": 112,
   "id": "c6e81e75-7d12-48ae-b042-4a4ccddc5a7d",
   "metadata": {
    "tags": []
   },
   "outputs": [],
   "source": [
    "def grouped_obs_mean(adata_filt, group_key, layer=None, gene_symbols=None):  #  calculates the mean expression of genes across different groups \n",
    "    if layer is not None:\n",
    "        getX = lambda x: x.layers[layer]\n",
    "    else:\n",
    "        getX = lambda x: x.X\n",
    "    if gene_symbols is not None:\n",
    "        new_idx = adata_filt.raw.var[idx]\n",
    "    else:\n",
    "        new_idx = adata_filt.raw.var_names\n",
    "    \n",
    "    grouped = adata_filt.obs.groupby(group_key)\n",
    "    out = pd.DataFrame(\n",
    "        np.zeros((adata_filt.raw.shape[1], len(grouped)), dtype=np.float64),\n",
    "        columns=[':'.join(i) for i in list(grouped.groups.keys()) ],\n",
    "        index=adata_filt.raw.var_names\n",
    "    )\n",
    "    \n",
    "    for group, idx in grouped.indices.items():\n",
    "        X = getX(adata_filt.raw[idx])\n",
    "        out[':'.join(group)] = np.ravel(X.mean(axis=0, dtype=np.float64))\n",
    "    return out"
   ]
  },
  {
   "cell_type": "code",
   "execution_count": 113,
   "id": "fb6163d3-47cf-4447-be97-f3cd1ee29a76",
   "metadata": {
    "tags": []
   },
   "outputs": [
    {
     "name": "stderr",
     "output_type": "stream",
     "text": [
      "/tmp/ipykernel_378444/2389933984.py:11: FutureWarning: The default of observed=False is deprecated and will be changed to True in a future version of pandas. Pass observed=False to retain current behavior or observed=True to adopt the future default and silence this warning.\n",
      "  grouped = adata_filt.obs.groupby(group_key)\n"
     ]
    }
   ],
   "source": [
    "Il1b_mean = grouped_obs_mean(adata_filt, ['AIFI_L3','unique_ID'])"
   ]
  },
  {
   "cell_type": "code",
   "execution_count": 114,
   "id": "7aeca648-c504-490d-8e0b-e92210d7d0bb",
   "metadata": {
    "tags": []
   },
   "outputs": [
    {
     "data": {
      "text/plain": [
       "(2686, 92)"
      ]
     },
     "execution_count": 114,
     "metadata": {},
     "output_type": "execute_result"
    }
   ],
   "source": [
    "Il1b_mean.shape"
   ]
  },
  {
   "cell_type": "code",
   "execution_count": 115,
   "id": "1dad23cf-27c5-497e-8a4f-a0899d3b3450",
   "metadata": {
    "tags": []
   },
   "outputs": [
    {
     "data": {
      "text/html": [
       "<div>\n",
       "<style scoped>\n",
       "    .dataframe tbody tr th:only-of-type {\n",
       "        vertical-align: middle;\n",
       "    }\n",
       "\n",
       "    .dataframe tbody tr th {\n",
       "        vertical-align: top;\n",
       "    }\n",
       "\n",
       "    .dataframe thead th {\n",
       "        text-align: right;\n",
       "    }\n",
       "</style>\n",
       "<table border=\"1\" class=\"dataframe\">\n",
       "  <thead>\n",
       "    <tr style=\"text-align: right;\">\n",
       "      <th></th>\n",
       "      <th>IL1B+ CD14 monocyte:PB00001-01_Female_BR1</th>\n",
       "      <th>IL1B+ CD14 monocyte:PB00002-01_Male_BR1</th>\n",
       "      <th>IL1B+ CD14 monocyte:PB00003-01_Female_BR1</th>\n",
       "      <th>IL1B+ CD14 monocyte:PB00004-01_Male_BR1</th>\n",
       "      <th>IL1B+ CD14 monocyte:PB00006-01_Female_BR1</th>\n",
       "      <th>IL1B+ CD14 monocyte:PB00010-02_Male_BR1</th>\n",
       "      <th>IL1B+ CD14 monocyte:PB00012-01_Female_BR1</th>\n",
       "      <th>IL1B+ CD14 monocyte:PB00014-01_Male_BR1</th>\n",
       "      <th>IL1B+ CD14 monocyte:PB00015-01_Male_BR2</th>\n",
       "      <th>IL1B+ CD14 monocyte:PB00016-01_Female_BR2</th>\n",
       "      <th>...</th>\n",
       "      <th>IL1B+ CD14 monocyte:PB00592-01_Male_BR1</th>\n",
       "      <th>IL1B+ CD14 monocyte:PB00599-01_Female_BR2</th>\n",
       "      <th>IL1B+ CD14 monocyte:PB00600-01_Male_BR2</th>\n",
       "      <th>IL1B+ CD14 monocyte:PB00602-01_Female_BR2</th>\n",
       "      <th>IL1B+ CD14 monocyte:PB00621-01_Female_BR1</th>\n",
       "      <th>IL1B+ CD14 monocyte:PB00623-01_Male_BR2</th>\n",
       "      <th>IL1B+ CD14 monocyte:PB00625-02_Male_BR2</th>\n",
       "      <th>IL1B+ CD14 monocyte:PB00645-01_Female_BR1</th>\n",
       "      <th>IL1B+ CD14 monocyte:PB01425-01_Female_BR1</th>\n",
       "      <th>IL1B+ CD14 monocyte:PB01446-01_Male_BR1</th>\n",
       "    </tr>\n",
       "  </thead>\n",
       "  <tbody>\n",
       "    <tr>\n",
       "      <th>FAM41C</th>\n",
       "      <td>-0.132573</td>\n",
       "      <td>-0.132573</td>\n",
       "      <td>-0.132573</td>\n",
       "      <td>-0.132573</td>\n",
       "      <td>-0.132573</td>\n",
       "      <td>-0.132573</td>\n",
       "      <td>-0.132573</td>\n",
       "      <td>-0.132573</td>\n",
       "      <td>-0.132573</td>\n",
       "      <td>0.052049</td>\n",
       "      <td>...</td>\n",
       "      <td>-0.132573</td>\n",
       "      <td>0.060168</td>\n",
       "      <td>0.008158</td>\n",
       "      <td>0.017048</td>\n",
       "      <td>-0.132573</td>\n",
       "      <td>0.137070</td>\n",
       "      <td>-0.132573</td>\n",
       "      <td>-0.132573</td>\n",
       "      <td>-0.132573</td>\n",
       "      <td>-0.132573</td>\n",
       "    </tr>\n",
       "    <tr>\n",
       "      <th>KLHL17</th>\n",
       "      <td>-0.113268</td>\n",
       "      <td>-0.113268</td>\n",
       "      <td>-0.113268</td>\n",
       "      <td>-0.113268</td>\n",
       "      <td>-0.113268</td>\n",
       "      <td>0.561391</td>\n",
       "      <td>-0.113268</td>\n",
       "      <td>0.021641</td>\n",
       "      <td>-0.113268</td>\n",
       "      <td>-0.113268</td>\n",
       "      <td>...</td>\n",
       "      <td>-0.113268</td>\n",
       "      <td>0.275859</td>\n",
       "      <td>0.085578</td>\n",
       "      <td>0.054990</td>\n",
       "      <td>1.178048</td>\n",
       "      <td>-0.113268</td>\n",
       "      <td>-0.113268</td>\n",
       "      <td>-0.113268</td>\n",
       "      <td>-0.113268</td>\n",
       "      <td>-0.113268</td>\n",
       "    </tr>\n",
       "  </tbody>\n",
       "</table>\n",
       "<p>2 rows × 92 columns</p>\n",
       "</div>"
      ],
      "text/plain": [
       "        IL1B+ CD14 monocyte:PB00001-01_Female_BR1  \\\n",
       "FAM41C                                  -0.132573   \n",
       "KLHL17                                  -0.113268   \n",
       "\n",
       "        IL1B+ CD14 monocyte:PB00002-01_Male_BR1  \\\n",
       "FAM41C                                -0.132573   \n",
       "KLHL17                                -0.113268   \n",
       "\n",
       "        IL1B+ CD14 monocyte:PB00003-01_Female_BR1  \\\n",
       "FAM41C                                  -0.132573   \n",
       "KLHL17                                  -0.113268   \n",
       "\n",
       "        IL1B+ CD14 monocyte:PB00004-01_Male_BR1  \\\n",
       "FAM41C                                -0.132573   \n",
       "KLHL17                                -0.113268   \n",
       "\n",
       "        IL1B+ CD14 monocyte:PB00006-01_Female_BR1  \\\n",
       "FAM41C                                  -0.132573   \n",
       "KLHL17                                  -0.113268   \n",
       "\n",
       "        IL1B+ CD14 monocyte:PB00010-02_Male_BR1  \\\n",
       "FAM41C                                -0.132573   \n",
       "KLHL17                                 0.561391   \n",
       "\n",
       "        IL1B+ CD14 monocyte:PB00012-01_Female_BR1  \\\n",
       "FAM41C                                  -0.132573   \n",
       "KLHL17                                  -0.113268   \n",
       "\n",
       "        IL1B+ CD14 monocyte:PB00014-01_Male_BR1  \\\n",
       "FAM41C                                -0.132573   \n",
       "KLHL17                                 0.021641   \n",
       "\n",
       "        IL1B+ CD14 monocyte:PB00015-01_Male_BR2  \\\n",
       "FAM41C                                -0.132573   \n",
       "KLHL17                                -0.113268   \n",
       "\n",
       "        IL1B+ CD14 monocyte:PB00016-01_Female_BR2  ...  \\\n",
       "FAM41C                                   0.052049  ...   \n",
       "KLHL17                                  -0.113268  ...   \n",
       "\n",
       "        IL1B+ CD14 monocyte:PB00592-01_Male_BR1  \\\n",
       "FAM41C                                -0.132573   \n",
       "KLHL17                                -0.113268   \n",
       "\n",
       "        IL1B+ CD14 monocyte:PB00599-01_Female_BR2  \\\n",
       "FAM41C                                   0.060168   \n",
       "KLHL17                                   0.275859   \n",
       "\n",
       "        IL1B+ CD14 monocyte:PB00600-01_Male_BR2  \\\n",
       "FAM41C                                 0.008158   \n",
       "KLHL17                                 0.085578   \n",
       "\n",
       "        IL1B+ CD14 monocyte:PB00602-01_Female_BR2  \\\n",
       "FAM41C                                   0.017048   \n",
       "KLHL17                                   0.054990   \n",
       "\n",
       "        IL1B+ CD14 monocyte:PB00621-01_Female_BR1  \\\n",
       "FAM41C                                  -0.132573   \n",
       "KLHL17                                   1.178048   \n",
       "\n",
       "        IL1B+ CD14 monocyte:PB00623-01_Male_BR2  \\\n",
       "FAM41C                                 0.137070   \n",
       "KLHL17                                -0.113268   \n",
       "\n",
       "        IL1B+ CD14 monocyte:PB00625-02_Male_BR2  \\\n",
       "FAM41C                                -0.132573   \n",
       "KLHL17                                -0.113268   \n",
       "\n",
       "        IL1B+ CD14 monocyte:PB00645-01_Female_BR1  \\\n",
       "FAM41C                                  -0.132573   \n",
       "KLHL17                                  -0.113268   \n",
       "\n",
       "        IL1B+ CD14 monocyte:PB01425-01_Female_BR1  \\\n",
       "FAM41C                                  -0.132573   \n",
       "KLHL17                                  -0.113268   \n",
       "\n",
       "        IL1B+ CD14 monocyte:PB01446-01_Male_BR1  \n",
       "FAM41C                                -0.132573  \n",
       "KLHL17                                -0.113268  \n",
       "\n",
       "[2 rows x 92 columns]"
      ]
     },
     "execution_count": 115,
     "metadata": {},
     "output_type": "execute_result"
    }
   ],
   "source": [
    "Il1b_mean.head(n=2)"
   ]
  },
  {
   "cell_type": "code",
   "execution_count": 116,
   "id": "3988aeb5-153a-49f4-97f9-0b1fca814b46",
   "metadata": {
    "tags": []
   },
   "outputs": [
    {
     "data": {
      "text/plain": [
       "Index(['FAM41C', 'KLHL17', 'HES4', 'ISG15', 'C1orf159', 'ACAP3', 'PUSL1',\n",
       "       'AL645728.1', 'AL691432.2', 'PRKCZ',\n",
       "       ...\n",
       "       'ITGB2-AS1', 'AL844908.1', 'AP001505.1', 'ADARB1', 'COL18A1', 'MT-ND2',\n",
       "       'MT-ND4L', 'MT-ND6', 'AC004556.1', 'AC240274.1'],\n",
       "      dtype='object', length=2686)"
      ]
     },
     "execution_count": 116,
     "metadata": {},
     "output_type": "execute_result"
    }
   ],
   "source": [
    "Il1b_mean.index"
   ]
  },
  {
   "cell_type": "code",
   "execution_count": 117,
   "id": "1d8f3893-b5ae-4c7e-aba8-ac07fbf06dfc",
   "metadata": {
    "tags": []
   },
   "outputs": [
    {
     "data": {
      "text/html": [
       "<div>\n",
       "<style scoped>\n",
       "    .dataframe tbody tr th:only-of-type {\n",
       "        vertical-align: middle;\n",
       "    }\n",
       "\n",
       "    .dataframe tbody tr th {\n",
       "        vertical-align: top;\n",
       "    }\n",
       "\n",
       "    .dataframe thead th {\n",
       "        text-align: right;\n",
       "    }\n",
       "</style>\n",
       "<table border=\"1\" class=\"dataframe\">\n",
       "  <thead>\n",
       "    <tr style=\"text-align: right;\">\n",
       "      <th></th>\n",
       "      <th>IL1B+ CD14 monocyte:PB00001-01_Female_BR1</th>\n",
       "      <th>IL1B+ CD14 monocyte:PB00002-01_Male_BR1</th>\n",
       "      <th>IL1B+ CD14 monocyte:PB00003-01_Female_BR1</th>\n",
       "      <th>IL1B+ CD14 monocyte:PB00004-01_Male_BR1</th>\n",
       "      <th>IL1B+ CD14 monocyte:PB00006-01_Female_BR1</th>\n",
       "      <th>IL1B+ CD14 monocyte:PB00010-02_Male_BR1</th>\n",
       "      <th>IL1B+ CD14 monocyte:PB00012-01_Female_BR1</th>\n",
       "      <th>IL1B+ CD14 monocyte:PB00014-01_Male_BR1</th>\n",
       "      <th>IL1B+ CD14 monocyte:PB00015-01_Male_BR2</th>\n",
       "      <th>IL1B+ CD14 monocyte:PB00016-01_Female_BR2</th>\n",
       "      <th>...</th>\n",
       "      <th>IL1B+ CD14 monocyte:PB00592-01_Male_BR1</th>\n",
       "      <th>IL1B+ CD14 monocyte:PB00599-01_Female_BR2</th>\n",
       "      <th>IL1B+ CD14 monocyte:PB00600-01_Male_BR2</th>\n",
       "      <th>IL1B+ CD14 monocyte:PB00602-01_Female_BR2</th>\n",
       "      <th>IL1B+ CD14 monocyte:PB00621-01_Female_BR1</th>\n",
       "      <th>IL1B+ CD14 monocyte:PB00623-01_Male_BR2</th>\n",
       "      <th>IL1B+ CD14 monocyte:PB00625-02_Male_BR2</th>\n",
       "      <th>IL1B+ CD14 monocyte:PB00645-01_Female_BR1</th>\n",
       "      <th>IL1B+ CD14 monocyte:PB01425-01_Female_BR1</th>\n",
       "      <th>IL1B+ CD14 monocyte:PB01446-01_Male_BR1</th>\n",
       "    </tr>\n",
       "  </thead>\n",
       "  <tbody>\n",
       "    <tr>\n",
       "      <th>FAM41C</th>\n",
       "      <td>-0.132573</td>\n",
       "      <td>-0.132573</td>\n",
       "      <td>-0.132573</td>\n",
       "      <td>-0.132573</td>\n",
       "      <td>-0.132573</td>\n",
       "      <td>-0.132573</td>\n",
       "      <td>-0.132573</td>\n",
       "      <td>-0.132573</td>\n",
       "      <td>-0.132573</td>\n",
       "      <td>0.052049</td>\n",
       "      <td>...</td>\n",
       "      <td>-0.132573</td>\n",
       "      <td>0.060168</td>\n",
       "      <td>0.008158</td>\n",
       "      <td>0.017048</td>\n",
       "      <td>-0.132573</td>\n",
       "      <td>0.137070</td>\n",
       "      <td>-0.132573</td>\n",
       "      <td>-0.132573</td>\n",
       "      <td>-0.132573</td>\n",
       "      <td>-0.132573</td>\n",
       "    </tr>\n",
       "    <tr>\n",
       "      <th>KLHL17</th>\n",
       "      <td>-0.113268</td>\n",
       "      <td>-0.113268</td>\n",
       "      <td>-0.113268</td>\n",
       "      <td>-0.113268</td>\n",
       "      <td>-0.113268</td>\n",
       "      <td>0.561391</td>\n",
       "      <td>-0.113268</td>\n",
       "      <td>0.021641</td>\n",
       "      <td>-0.113268</td>\n",
       "      <td>-0.113268</td>\n",
       "      <td>...</td>\n",
       "      <td>-0.113268</td>\n",
       "      <td>0.275859</td>\n",
       "      <td>0.085578</td>\n",
       "      <td>0.054990</td>\n",
       "      <td>1.178048</td>\n",
       "      <td>-0.113268</td>\n",
       "      <td>-0.113268</td>\n",
       "      <td>-0.113268</td>\n",
       "      <td>-0.113268</td>\n",
       "      <td>-0.113268</td>\n",
       "    </tr>\n",
       "  </tbody>\n",
       "</table>\n",
       "<p>2 rows × 92 columns</p>\n",
       "</div>"
      ],
      "text/plain": [
       "        IL1B+ CD14 monocyte:PB00001-01_Female_BR1  \\\n",
       "FAM41C                                  -0.132573   \n",
       "KLHL17                                  -0.113268   \n",
       "\n",
       "        IL1B+ CD14 monocyte:PB00002-01_Male_BR1  \\\n",
       "FAM41C                                -0.132573   \n",
       "KLHL17                                -0.113268   \n",
       "\n",
       "        IL1B+ CD14 monocyte:PB00003-01_Female_BR1  \\\n",
       "FAM41C                                  -0.132573   \n",
       "KLHL17                                  -0.113268   \n",
       "\n",
       "        IL1B+ CD14 monocyte:PB00004-01_Male_BR1  \\\n",
       "FAM41C                                -0.132573   \n",
       "KLHL17                                -0.113268   \n",
       "\n",
       "        IL1B+ CD14 monocyte:PB00006-01_Female_BR1  \\\n",
       "FAM41C                                  -0.132573   \n",
       "KLHL17                                  -0.113268   \n",
       "\n",
       "        IL1B+ CD14 monocyte:PB00010-02_Male_BR1  \\\n",
       "FAM41C                                -0.132573   \n",
       "KLHL17                                 0.561391   \n",
       "\n",
       "        IL1B+ CD14 monocyte:PB00012-01_Female_BR1  \\\n",
       "FAM41C                                  -0.132573   \n",
       "KLHL17                                  -0.113268   \n",
       "\n",
       "        IL1B+ CD14 monocyte:PB00014-01_Male_BR1  \\\n",
       "FAM41C                                -0.132573   \n",
       "KLHL17                                 0.021641   \n",
       "\n",
       "        IL1B+ CD14 monocyte:PB00015-01_Male_BR2  \\\n",
       "FAM41C                                -0.132573   \n",
       "KLHL17                                -0.113268   \n",
       "\n",
       "        IL1B+ CD14 monocyte:PB00016-01_Female_BR2  ...  \\\n",
       "FAM41C                                   0.052049  ...   \n",
       "KLHL17                                  -0.113268  ...   \n",
       "\n",
       "        IL1B+ CD14 monocyte:PB00592-01_Male_BR1  \\\n",
       "FAM41C                                -0.132573   \n",
       "KLHL17                                -0.113268   \n",
       "\n",
       "        IL1B+ CD14 monocyte:PB00599-01_Female_BR2  \\\n",
       "FAM41C                                   0.060168   \n",
       "KLHL17                                   0.275859   \n",
       "\n",
       "        IL1B+ CD14 monocyte:PB00600-01_Male_BR2  \\\n",
       "FAM41C                                 0.008158   \n",
       "KLHL17                                 0.085578   \n",
       "\n",
       "        IL1B+ CD14 monocyte:PB00602-01_Female_BR2  \\\n",
       "FAM41C                                   0.017048   \n",
       "KLHL17                                   0.054990   \n",
       "\n",
       "        IL1B+ CD14 monocyte:PB00621-01_Female_BR1  \\\n",
       "FAM41C                                  -0.132573   \n",
       "KLHL17                                   1.178048   \n",
       "\n",
       "        IL1B+ CD14 monocyte:PB00623-01_Male_BR2  \\\n",
       "FAM41C                                 0.137070   \n",
       "KLHL17                                -0.113268   \n",
       "\n",
       "        IL1B+ CD14 monocyte:PB00625-02_Male_BR2  \\\n",
       "FAM41C                                -0.132573   \n",
       "KLHL17                                -0.113268   \n",
       "\n",
       "        IL1B+ CD14 monocyte:PB00645-01_Female_BR1  \\\n",
       "FAM41C                                  -0.132573   \n",
       "KLHL17                                  -0.113268   \n",
       "\n",
       "        IL1B+ CD14 monocyte:PB01425-01_Female_BR1  \\\n",
       "FAM41C                                  -0.132573   \n",
       "KLHL17                                  -0.113268   \n",
       "\n",
       "        IL1B+ CD14 monocyte:PB01446-01_Male_BR1  \n",
       "FAM41C                                -0.132573  \n",
       "KLHL17                                -0.113268  \n",
       "\n",
       "[2 rows x 92 columns]"
      ]
     },
     "execution_count": 117,
     "metadata": {},
     "output_type": "execute_result"
    }
   ],
   "source": [
    "Il1b_mean.head(n=2)"
   ]
  },
  {
   "cell_type": "code",
   "execution_count": 118,
   "id": "51905db1-a1cf-478e-9715-ef4ee4e440df",
   "metadata": {
    "tags": []
   },
   "outputs": [
    {
     "data": {
      "text/html": [
       "<div>\n",
       "<style scoped>\n",
       "    .dataframe tbody tr th:only-of-type {\n",
       "        vertical-align: middle;\n",
       "    }\n",
       "\n",
       "    .dataframe tbody tr th {\n",
       "        vertical-align: top;\n",
       "    }\n",
       "\n",
       "    .dataframe thead th {\n",
       "        text-align: right;\n",
       "    }\n",
       "</style>\n",
       "<table border=\"1\" class=\"dataframe\">\n",
       "  <thead>\n",
       "    <tr style=\"text-align: right;\">\n",
       "      <th></th>\n",
       "      <th>IL1B+ CD14 monocyte:PB00001-01_Female_BR1</th>\n",
       "      <th>IL1B+ CD14 monocyte:PB00002-01_Male_BR1</th>\n",
       "      <th>IL1B+ CD14 monocyte:PB00003-01_Female_BR1</th>\n",
       "      <th>IL1B+ CD14 monocyte:PB00004-01_Male_BR1</th>\n",
       "      <th>IL1B+ CD14 monocyte:PB00006-01_Female_BR1</th>\n",
       "      <th>IL1B+ CD14 monocyte:PB00010-02_Male_BR1</th>\n",
       "      <th>IL1B+ CD14 monocyte:PB00012-01_Female_BR1</th>\n",
       "      <th>IL1B+ CD14 monocyte:PB00014-01_Male_BR1</th>\n",
       "      <th>IL1B+ CD14 monocyte:PB00015-01_Male_BR2</th>\n",
       "      <th>IL1B+ CD14 monocyte:PB00016-01_Female_BR2</th>\n",
       "      <th>...</th>\n",
       "      <th>IL1B+ CD14 monocyte:PB00592-01_Male_BR1</th>\n",
       "      <th>IL1B+ CD14 monocyte:PB00599-01_Female_BR2</th>\n",
       "      <th>IL1B+ CD14 monocyte:PB00600-01_Male_BR2</th>\n",
       "      <th>IL1B+ CD14 monocyte:PB00602-01_Female_BR2</th>\n",
       "      <th>IL1B+ CD14 monocyte:PB00621-01_Female_BR1</th>\n",
       "      <th>IL1B+ CD14 monocyte:PB00623-01_Male_BR2</th>\n",
       "      <th>IL1B+ CD14 monocyte:PB00625-02_Male_BR2</th>\n",
       "      <th>IL1B+ CD14 monocyte:PB00645-01_Female_BR1</th>\n",
       "      <th>IL1B+ CD14 monocyte:PB01425-01_Female_BR1</th>\n",
       "      <th>IL1B+ CD14 monocyte:PB01446-01_Male_BR1</th>\n",
       "    </tr>\n",
       "  </thead>\n",
       "  <tbody>\n",
       "    <tr>\n",
       "      <th>XIST</th>\n",
       "      <td>1.013793</td>\n",
       "      <td>-0.635537</td>\n",
       "      <td>0.6386</td>\n",
       "      <td>-0.48045</td>\n",
       "      <td>0.756669</td>\n",
       "      <td>-0.635537</td>\n",
       "      <td>1.024021</td>\n",
       "      <td>-0.635537</td>\n",
       "      <td>-0.600521</td>\n",
       "      <td>0.843958</td>\n",
       "      <td>...</td>\n",
       "      <td>-0.635537</td>\n",
       "      <td>0.953696</td>\n",
       "      <td>-0.598878</td>\n",
       "      <td>0.951304</td>\n",
       "      <td>1.187695</td>\n",
       "      <td>-0.619562</td>\n",
       "      <td>-0.635537</td>\n",
       "      <td>1.191468</td>\n",
       "      <td>1.172742</td>\n",
       "      <td>-0.635537</td>\n",
       "    </tr>\n",
       "  </tbody>\n",
       "</table>\n",
       "<p>1 rows × 92 columns</p>\n",
       "</div>"
      ],
      "text/plain": [
       "      IL1B+ CD14 monocyte:PB00001-01_Female_BR1  \\\n",
       "XIST                                   1.013793   \n",
       "\n",
       "      IL1B+ CD14 monocyte:PB00002-01_Male_BR1  \\\n",
       "XIST                                -0.635537   \n",
       "\n",
       "      IL1B+ CD14 monocyte:PB00003-01_Female_BR1  \\\n",
       "XIST                                     0.6386   \n",
       "\n",
       "      IL1B+ CD14 monocyte:PB00004-01_Male_BR1  \\\n",
       "XIST                                 -0.48045   \n",
       "\n",
       "      IL1B+ CD14 monocyte:PB00006-01_Female_BR1  \\\n",
       "XIST                                   0.756669   \n",
       "\n",
       "      IL1B+ CD14 monocyte:PB00010-02_Male_BR1  \\\n",
       "XIST                                -0.635537   \n",
       "\n",
       "      IL1B+ CD14 monocyte:PB00012-01_Female_BR1  \\\n",
       "XIST                                   1.024021   \n",
       "\n",
       "      IL1B+ CD14 monocyte:PB00014-01_Male_BR1  \\\n",
       "XIST                                -0.635537   \n",
       "\n",
       "      IL1B+ CD14 monocyte:PB00015-01_Male_BR2  \\\n",
       "XIST                                -0.600521   \n",
       "\n",
       "      IL1B+ CD14 monocyte:PB00016-01_Female_BR2  ...  \\\n",
       "XIST                                   0.843958  ...   \n",
       "\n",
       "      IL1B+ CD14 monocyte:PB00592-01_Male_BR1  \\\n",
       "XIST                                -0.635537   \n",
       "\n",
       "      IL1B+ CD14 monocyte:PB00599-01_Female_BR2  \\\n",
       "XIST                                   0.953696   \n",
       "\n",
       "      IL1B+ CD14 monocyte:PB00600-01_Male_BR2  \\\n",
       "XIST                                -0.598878   \n",
       "\n",
       "      IL1B+ CD14 monocyte:PB00602-01_Female_BR2  \\\n",
       "XIST                                   0.951304   \n",
       "\n",
       "      IL1B+ CD14 monocyte:PB00621-01_Female_BR1  \\\n",
       "XIST                                   1.187695   \n",
       "\n",
       "      IL1B+ CD14 monocyte:PB00623-01_Male_BR2  \\\n",
       "XIST                                -0.619562   \n",
       "\n",
       "      IL1B+ CD14 monocyte:PB00625-02_Male_BR2  \\\n",
       "XIST                                -0.635537   \n",
       "\n",
       "      IL1B+ CD14 monocyte:PB00645-01_Female_BR1  \\\n",
       "XIST                                   1.191468   \n",
       "\n",
       "      IL1B+ CD14 monocyte:PB01425-01_Female_BR1  \\\n",
       "XIST                                   1.172742   \n",
       "\n",
       "      IL1B+ CD14 monocyte:PB01446-01_Male_BR1  \n",
       "XIST                                -0.635537  \n",
       "\n",
       "[1 rows x 92 columns]"
      ]
     },
     "execution_count": 118,
     "metadata": {},
     "output_type": "execute_result"
    }
   ],
   "source": [
    "Il1b_mean[Il1b_mean.index=='XIST']"
   ]
  },
  {
   "cell_type": "code",
   "execution_count": 119,
   "id": "dd1f80c5-b780-4e20-8753-9d8d9b00ad64",
   "metadata": {
    "tags": []
   },
   "outputs": [],
   "source": [
    "Il1b_mean.to_csv('/home/jupyter/Myeloid_cells/files/IHA_IL1B_CD14_mono_pb_mean_v2.csv')"
   ]
  },
  {
   "cell_type": "code",
   "execution_count": null,
   "id": "f1e92bb3-d0f7-411d-8b80-840335a28182",
   "metadata": {},
   "outputs": [],
   "source": []
  }
 ],
 "metadata": {
  "kernelspec": {
   "display_name": "Python 3 (ipykernel)",
   "language": "python",
   "name": "python3"
  },
  "language_info": {
   "codemirror_mode": {
    "name": "ipython",
    "version": 3
   },
   "file_extension": ".py",
   "mimetype": "text/x-python",
   "name": "python",
   "nbconvert_exporter": "python",
   "pygments_lexer": "ipython3",
   "version": "3.10.12"
  }
 },
 "nbformat": 4,
 "nbformat_minor": 5
}
