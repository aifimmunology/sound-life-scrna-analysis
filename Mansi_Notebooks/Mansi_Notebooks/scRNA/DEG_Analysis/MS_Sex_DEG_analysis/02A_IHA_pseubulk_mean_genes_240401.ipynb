{
 "cells": [
  {
   "cell_type": "code",
   "execution_count": 114,
   "id": "4b290f3c-070d-4cf8-a1c4-4898078c3d8b",
   "metadata": {
    "tags": []
   },
   "outputs": [],
   "source": [
    "import hisepy as hp\n",
    "import h5py\n",
    "import pandas as pd\n",
    "import scipy.sparse as scs\n",
    "import os\n",
    "import scanpy as sc\n",
    "import anndata"
   ]
  },
  {
   "cell_type": "code",
   "execution_count": 115,
   "id": "8cda8459-437f-46f5-b5e2-503ee30d0198",
   "metadata": {
    "tags": []
   },
   "outputs": [],
   "source": [
    "import anndata\n",
    "import h5py\n",
    "import os\n",
    "import pandas\n",
    "import scanpy as sc\n",
    "import scvi\n",
    "import matplotlib.pyplot as plt\n",
    "\n",
    "\n",
    "import scipy.sparse as scs\n",
    "import numpy as np"
   ]
  },
  {
   "cell_type": "code",
   "execution_count": 176,
   "id": "e8280247-cdd3-47fc-88bb-89a12cb85107",
   "metadata": {
    "tags": []
   },
   "outputs": [],
   "source": [
    "import anndata\n",
    "import h5py\n",
    "import os\n",
    "import pandas\n",
    "import scanpy as sc\n",
    "import scvi\n",
    "import matplotlib.pyplot as plt\n",
    "\n",
    "import scipy.sparse as scs\n",
    "import numpy as np\n",
    "import sklearn\n",
    "import seaborn as sns\n",
    "sns.set()"
   ]
  },
  {
   "cell_type": "code",
   "execution_count": 177,
   "id": "efb4b279-973d-4c47-aa9b-54bd33b03791",
   "metadata": {
    "tags": []
   },
   "outputs": [
    {
     "data": {
      "text/plain": [
       "'1.24.4'"
      ]
     },
     "execution_count": 177,
     "metadata": {},
     "output_type": "execute_result"
    }
   ],
   "source": [
    "np.version.version"
   ]
  },
  {
   "cell_type": "code",
   "execution_count": 178,
   "id": "98b409e8-6d96-440d-9d6c-a1c059c06f24",
   "metadata": {
    "tags": []
   },
   "outputs": [
    {
     "data": {
      "text/plain": [
       "'1.9.5'"
      ]
     },
     "execution_count": 178,
     "metadata": {},
     "output_type": "execute_result"
    }
   ],
   "source": [
    "sc.__version__"
   ]
  },
  {
   "cell_type": "code",
   "execution_count": 179,
   "id": "1dfe16a6-aad7-4ce7-a525-3518dfb3704a",
   "metadata": {
    "tags": []
   },
   "outputs": [
    {
     "data": {
      "text/plain": [
       "'0.9.2'"
      ]
     },
     "execution_count": 179,
     "metadata": {},
     "output_type": "execute_result"
    }
   ],
   "source": [
    "anndata.__version__"
   ]
  },
  {
   "cell_type": "code",
   "execution_count": 180,
   "id": "00ff2072-4633-4717-a01b-eea784b63ce0",
   "metadata": {
    "tags": []
   },
   "outputs": [],
   "source": [
    "sc.settings.autosave = True  # save figures, do not show them\n",
    " # set sufficiently high resolution for saving\n",
    "sc.settings.set_figure_params(scanpy=True, dpi=80, dpi_save=300, frameon=True, vector_friendly=True, fontsize=18, color_map=None, format='png', transparent=False, ipython_format='png2x')"
   ]
  },
  {
   "cell_type": "code",
   "execution_count": 181,
   "id": "eea562a5-5462-4de3-9103-26163565a1d6",
   "metadata": {
    "collapsed": true,
    "jupyter": {
     "outputs_hidden": true
    },
    "tags": []
   },
   "outputs": [],
   "source": [
    "# adata = sc.read ('/home/jupyter/Myeloid_cells/files/Myeloidcells_processed_labeled_v5_2024-04-01.h5ad')\n",
    "# adata"
   ]
  },
  {
   "cell_type": "code",
   "execution_count": 287,
   "id": "bcaf3ef1-54d1-434a-a5e2-90f2166070d9",
   "metadata": {
    "tags": []
   },
   "outputs": [
    {
     "data": {
      "text/plain": [
       "AnnData object with n_obs × n_vars = 2679 × 3000\n",
       "    obs: 'barcodes', 'batch_id', 'cell_name', 'cell_uuid', 'chip_id', 'hto_barcode', 'hto_category', 'n_genes', 'n_mito_umis', 'n_reads', 'n_umis', 'original_barcodes', 'pbmc_sample_id', 'pool_id', 'seurat_pbmc_type', 'seurat_pbmc_type_score', 'umap_1', 'umap_2', 'well_id', 'subject.biologicalSex', 'subject.ethnicity', 'subject.partnerCode', 'subject.race', 'subject.subjectGuid', 'cohort.cohortGuid', 'sample.visitName', 'sample.visitDetails', 'subject.birthYear', 'CMV.IgG.Serology.Result.Interpretation', 'BMI', 'predicted_doublet', 'doublet_score', 'AIFI_L1', 'AIFI_L2', 'AIFI_L3', 'AIFI_L3.5', 'n_genes_by_counts', 'log1p_n_genes_by_counts', 'total_counts', 'log1p_total_counts', 'pct_counts_in_top_50_genes', 'pct_counts_in_top_100_genes', 'pct_counts_in_top_200_genes', 'pct_counts_in_top_500_genes', 'total_counts_mito', 'log1p_total_counts_mito', 'pct_counts_mito', 'leiden_resolution_0.5', 'leiden_resolution_1', 'leiden_resolution_1.5', 'leiden_resolution_2'\n",
       "    var: 'highly_variable', 'means', 'dispersions', 'dispersions_norm', 'mean', 'std'\n",
       "    uns: 'hvg', 'log1p', 'neighbors', 'pca', 'umap'\n",
       "    obsm: 'X_pca', 'X_pca_harmony', 'X_umap'\n",
       "    varm: 'PCs'\n",
       "    layers: 'counts'\n",
       "    obsp: 'connectivities', 'distances'"
      ]
     },
     "execution_count": 287,
     "metadata": {},
     "output_type": "execute_result"
    }
   ],
   "source": [
    "adata = sc.read ('/home/jupyter/Myeloid_cells/files/IL1B_CD14_Mono_ONLY_FluYr1D0_processed_04172024.h5ad')\n",
    "adata"
   ]
  },
  {
   "cell_type": "code",
   "execution_count": 286,
   "id": "0a3570ad-7ab4-4b27-b758-5b0becab9b96",
   "metadata": {
    "tags": []
   },
   "outputs": [
    {
     "data": {
      "text/plain": [
       "AnnData object with n_obs × n_vars = 2679 × 2686\n",
       "    obs: 'barcodes', 'batch_id', 'cell_name', 'cell_uuid', 'chip_id', 'hto_barcode', 'hto_category', 'n_genes', 'n_mito_umis', 'n_reads', 'n_umis', 'original_barcodes', 'pbmc_sample_id', 'pool_id', 'seurat_pbmc_type', 'seurat_pbmc_type_score', 'umap_1', 'umap_2', 'well_id', 'subject.biologicalSex', 'subject.ethnicity', 'subject.partnerCode', 'subject.race', 'subject.subjectGuid', 'cohort.cohortGuid', 'sample.visitName', 'sample.visitDetails', 'subject.birthYear', 'CMV.IgG.Serology.Result.Interpretation', 'BMI', 'predicted_doublet', 'doublet_score', 'AIFI_L1', 'AIFI_L2', 'AIFI_L3', 'AIFI_L3.5', 'n_genes_by_counts', 'log1p_n_genes_by_counts', 'total_counts', 'log1p_total_counts', 'pct_counts_in_top_50_genes', 'pct_counts_in_top_100_genes', 'pct_counts_in_top_200_genes', 'pct_counts_in_top_500_genes', 'total_counts_mito', 'log1p_total_counts_mito', 'pct_counts_mito', 'leiden_resolution_0.5', 'leiden_resolution_1', 'leiden_resolution_1.5', 'leiden_resolution_2'\n",
       "    var: 'highly_variable', 'means', 'dispersions', 'dispersions_norm', 'mean', 'std'\n",
       "    uns: 'hvg', 'log1p', 'neighbors', 'pca', 'umap'\n",
       "    obsm: 'X_pca', 'X_pca_harmony', 'X_umap'\n",
       "    varm: 'PCs'\n",
       "    obsp: 'connectivities', 'distances'"
      ]
     },
     "execution_count": 286,
     "metadata": {},
     "output_type": "execute_result"
    }
   ],
   "source": [
    "adata = sc.read ('/home/jupyter/Myeloid_cells/files/IL1B_CD14_Mono_ONLY_FluYr1D0_parallel.h5ad')\n",
    "adata"
   ]
  },
  {
   "cell_type": "code",
   "execution_count": 145,
   "id": "59ab76d0-6b2e-4e93-b159-a60b419e1daa",
   "metadata": {
    "tags": []
   },
   "outputs": [
    {
     "name": "stdout",
     "output_type": "stream",
     "text": [
      "(2679, 2686)\n",
      "Raw counts are not available.\n",
      "Data has not been normalized.\n"
     ]
    }
   ],
   "source": [
    "# # Assuming 'adata' is your AnnData object\n",
    "\n",
    "# # 1. Check Count Matrix\n",
    "# count_matrix = adata.X\n",
    "\n",
    "# # Print dimensions of count matrix\n",
    "# print(count_matrix.shape)\n",
    "\n",
    "# # 2. Check Normalization Status\n",
    "# # Check if raw counts are stored in the AnnData object\n",
    "# if 'raw' in adata.layers:\n",
    "#     print(\"Raw counts are available.\")\n",
    "# else:\n",
    "#     print(\"Raw counts are not available.\")\n",
    "\n",
    "# # Check if any normalization has been applied\n",
    "# if 'norm' in adata.layers:\n",
    "#     print(\"Data has been normalized.\")\n",
    "# else:\n",
    "#     print(\"Data has not been normalized.\")\n"
   ]
  },
  {
   "cell_type": "markdown",
   "id": "a073d3ea-c20f-4087-a303-bf781502b815",
   "metadata": {},
   "source": [
    "# Pre-processing steps "
   ]
  },
  {
   "cell_type": "code",
   "execution_count": 288,
   "id": "7c8a4b30-235c-4f89-b392-732e06e3e402",
   "metadata": {
    "tags": []
   },
   "outputs": [
    {
     "data": {
      "text/plain": [
       "array([[-0.13257308, -0.11326809, -0.19229758, ...,  1.0864776 ,\n",
       "        -0.06738479, -0.1569277 ],\n",
       "       [-0.13257308, -0.11326809, -0.19229758, ..., -0.3272909 ,\n",
       "        -0.66804814, -0.1569277 ],\n",
       "       [-0.13257308, -0.11326809, -0.19229758, ...,  0.7517497 ,\n",
       "         0.16908544, -0.1569277 ],\n",
       "       ...,\n",
       "       [-0.13257308, -0.11326809, -0.19229758, ...,  0.843975  ,\n",
       "         0.12336355, -0.1569277 ],\n",
       "       [-0.13257308, -0.11326809, -0.19229758, ...,  0.3847766 ,\n",
       "         0.36979628, -0.1569277 ],\n",
       "       [-0.13257308, -0.11326809, -0.19229758, ...,  0.6732785 ,\n",
       "        -0.3448623 , -0.1569277 ]], dtype=float32)"
      ]
     },
     "execution_count": 288,
     "metadata": {},
     "output_type": "execute_result"
    }
   ],
   "source": [
    "adata.X"
   ]
  },
  {
   "cell_type": "code",
   "execution_count": 184,
   "id": "3c4bd7cd-b13c-47cb-9492-0db3c8d6f323",
   "metadata": {
    "tags": []
   },
   "outputs": [
    {
     "data": {
      "text/plain": [
       "array([[0.        , 0.        , 0.        , ..., 0.999649  , 0.        ,\n",
       "        0.        ],\n",
       "       [0.        , 0.        , 0.        , ..., 0.        , 0.        ,\n",
       "        0.        ],\n",
       "       [0.        , 0.        , 0.        , ..., 0.        , 0.        ,\n",
       "        0.        ],\n",
       "       ...,\n",
       "       [0.        , 0.        , 0.76692563, ..., 0.        , 0.        ,\n",
       "        0.        ],\n",
       "       [0.        , 0.        , 0.        , ..., 0.        , 0.        ,\n",
       "        0.        ],\n",
       "       [0.        , 0.        , 0.        , ..., 0.        , 0.        ,\n",
       "        0.        ]], dtype=float32)"
      ]
     },
     "execution_count": 184,
     "metadata": {},
     "output_type": "execute_result"
    }
   ],
   "source": [
    "adata.raw.X[10:50,10:50].toarray()"
   ]
  },
  {
   "cell_type": "code",
   "execution_count": 185,
   "id": "36e3a525-9dda-4772-b7e3-4b613807cf40",
   "metadata": {
    "tags": []
   },
   "outputs": [
    {
     "data": {
      "text/plain": [
       "array([[ 0.,  0.,  0., ..., 39., 26.,  0.],\n",
       "       [ 0.,  0.,  0., ..., 14., 15.,  0.],\n",
       "       [ 0.,  0.,  0., ..., 70., 65.,  0.],\n",
       "       ...,\n",
       "       [ 0.,  0.,  0., ..., 14., 12.,  0.],\n",
       "       [ 0.,  0.,  0., ..., 24., 31.,  0.],\n",
       "       [ 0.,  0.,  0., ..., 50., 36.,  0.]], dtype=float32)"
      ]
     },
     "execution_count": 185,
     "metadata": {},
     "output_type": "execute_result"
    }
   ],
   "source": [
    "adata.layers['counts'].toarray()"
   ]
  },
  {
   "cell_type": "code",
   "execution_count": 168,
   "id": "554bf292-4734-498b-a636-1f93b34a8308",
   "metadata": {
    "tags": []
   },
   "outputs": [
    {
     "name": "stdout",
     "output_type": "stream",
     "text": [
      "(2679, 2686)\n"
     ]
    }
   ],
   "source": [
    "# # Assuming 'adata' is your AnnData object\n",
    "\n",
    "# # Check the raw count matrix\n",
    "# raw_count_matrix = adata.raw.X\n",
    "\n",
    "# # Print dimensions of the raw count matrix\n",
    "# print(raw_count_matrix.shape)\n"
   ]
  },
  {
   "cell_type": "code",
   "execution_count": 186,
   "id": "8865c27f-1380-4aac-b3b8-ce2ef0e80713",
   "metadata": {
    "tags": []
   },
   "outputs": [
    {
     "data": {
      "text/plain": [
       "array([[-0.23626865, -0.1330224 , -0.04503579, ..., -0.10436885,\n",
       "         0.18439382, -0.19886287],\n",
       "       [-0.23626865, -0.1330224 , -0.04503579, ..., -0.10436885,\n",
       "         0.88348365, -0.19886287],\n",
       "       [-0.23626865, -0.1330224 , -0.04503579, ..., -0.10436885,\n",
       "        -1.2129416 , -0.19886287],\n",
       "       ...,\n",
       "       [-0.23626865, -0.1330224 , -0.04503579, ..., -0.10436885,\n",
       "        -1.2129416 , -0.19886287],\n",
       "       [-0.23626865, -0.1330224 , -0.04503579, ..., -0.10436885,\n",
       "        -1.2129416 , -0.19886287],\n",
       "       [-0.23626865, -0.1330224 , -0.04503579, ..., -0.10436885,\n",
       "        -1.2129416 , -0.19886287]], dtype=float32)"
      ]
     },
     "execution_count": 186,
     "metadata": {},
     "output_type": "execute_result"
    }
   ],
   "source": [
    "adata.X[10:50,10:50] ##to check if its a counts or normalized counts "
   ]
  },
  {
   "cell_type": "code",
   "execution_count": 44,
   "id": "0e782411-3b78-4914-9df5-5096f54bfec1",
   "metadata": {
    "tags": []
   },
   "outputs": [
    {
     "data": {
      "text/plain": [
       "array([[0.        , 0.        , 0.        , ..., 0.999649  , 0.        ,\n",
       "        0.        ],\n",
       "       [0.        , 0.        , 0.        , ..., 0.        , 0.        ,\n",
       "        0.        ],\n",
       "       [0.        , 0.        , 0.        , ..., 0.        , 0.        ,\n",
       "        0.        ],\n",
       "       ...,\n",
       "       [0.        , 0.        , 0.76692563, ..., 0.        , 0.        ,\n",
       "        0.        ],\n",
       "       [0.        , 0.        , 0.        , ..., 0.        , 0.        ,\n",
       "        0.        ],\n",
       "       [0.        , 0.        , 0.        , ..., 0.        , 0.        ,\n",
       "        0.        ]], dtype=float32)"
      ]
     },
     "execution_count": 44,
     "metadata": {},
     "output_type": "execute_result"
    }
   ],
   "source": [
    "adata.raw.X[10:50,10:50].toarray()"
   ]
  },
  {
   "cell_type": "code",
   "execution_count": 187,
   "id": "877800dc-9101-41a5-998b-3bd8ab11497e",
   "metadata": {
    "tags": []
   },
   "outputs": [],
   "source": [
    "## preserve counts \n",
    "adata.layers[\"counts\"] = adata.X.copy()"
   ]
  },
  {
   "cell_type": "code",
   "execution_count": 88,
   "id": "eb6123ac-550a-4449-8001-473551a07f22",
   "metadata": {
    "tags": []
   },
   "outputs": [
    {
     "name": "stderr",
     "output_type": "stream",
     "text": [
      "/opt/conda/lib/python3.10/site-packages/scanpy/preprocessing/_normalization.py:196: UserWarning: Some cells have zero counts\n",
      "  warn(UserWarning('Some cells have zero counts'))\n"
     ]
    }
   ],
   "source": [
    "# cpm normalization\n",
    "sc.pp.normalize_total(adata, target_sum=1e4, inplace=True)\n",
    "#sc.pp.log1p(adata)\n",
    "#sc.pp.highly_variable_genes(adata, min_mean=0.0125, max_mean=3, min_disp=0.5)"
   ]
  },
  {
   "cell_type": "code",
   "execution_count": 89,
   "id": "ab42a3e3-8a36-4b95-9063-4c67866b0bd3",
   "metadata": {
    "tags": []
   },
   "outputs": [],
   "source": [
    "adata.raw =adata\n",
    "adata.raw.X ##has the normalized counts \n",
    "sc.pp.scale(adata, max_value=10)"
   ]
  },
  {
   "cell_type": "code",
   "execution_count": 90,
   "id": "f466390c-00b3-4075-bb8f-8e398c0114ea",
   "metadata": {
    "tags": []
   },
   "outputs": [
    {
     "data": {
      "text/plain": [
       "array([[ 0.00889756,  0.01246578, -0.02926441, ..., -0.04956673,\n",
       "        -0.02598448, -0.01157081],\n",
       "       [ 0.03541471,  0.02920031, -0.01144819, ..., -0.08499964,\n",
       "        -0.01870862,  0.01862249],\n",
       "       [ 0.02121419,  0.0202386 , -0.02098916, ...,  0.05578455,\n",
       "        -0.022605  ,  0.00245332],\n",
       "       ...,\n",
       "       [ 0.21683754,  0.14369324,  0.11044537, ...,  0.34822613,\n",
       "         0.03107073,  0.22519648],\n",
       "       [ 0.00841689,  0.01216243, -0.02958736, ..., -0.05048626,\n",
       "        -0.02611637, -0.01211811],\n",
       "       [ 0.0229673 ,  0.02134496, -0.01981129, ..., -0.02265106,\n",
       "        -0.02212398,  0.00444947]], dtype=float32)"
      ]
     },
     "execution_count": 90,
     "metadata": {},
     "output_type": "execute_result"
    }
   ],
   "source": [
    "adata.X"
   ]
  },
  {
   "cell_type": "code",
   "execution_count": null,
   "id": "6514de0f-22e6-49ca-9e11-ade5d1ef56a4",
   "metadata": {},
   "outputs": [],
   "source": []
  },
  {
   "cell_type": "code",
   "execution_count": 108,
   "id": "59e38b3b-16b4-4992-8e86-cbdc8db235fa",
   "metadata": {
    "tags": []
   },
   "outputs": [
    {
     "name": "stderr",
     "output_type": "stream",
     "text": [
      "/opt/conda/lib/python3.10/site-packages/anndata/_core/anndata.py:1113: FutureWarning: is_categorical_dtype is deprecated and will be removed in a future version. Use isinstance(dtype, CategoricalDtype) instead\n",
      "  if not is_categorical_dtype(df_full[k]):\n"
     ]
    }
   ],
   "source": [
    "# selected_cell_types = ['IL1B+ CD14 monocyte']\n",
    "\n",
    "# adata_filt = adata[adata.obs['AIFI_L3'].isin(selected_cell_types), :]"
   ]
  },
  {
   "cell_type": "code",
   "execution_count": 109,
   "id": "8f31696b-86f3-4907-8a32-6ce341aee890",
   "metadata": {
    "tags": []
   },
   "outputs": [
    {
     "data": {
      "text/plain": [
       "View of AnnData object with n_obs × n_vars = 2679 × 2686\n",
       "    obs: 'barcodes', 'batch_id', 'cell_name', 'cell_uuid', 'chip_id', 'hto_barcode', 'hto_category', 'n_genes', 'n_mito_umis', 'n_reads', 'n_umis', 'original_barcodes', 'pbmc_sample_id', 'pool_id', 'seurat_pbmc_type', 'seurat_pbmc_type_score', 'umap_1', 'umap_2', 'well_id', 'subject.biologicalSex', 'subject.ethnicity', 'subject.partnerCode', 'subject.race', 'subject.subjectGuid', 'cohort.cohortGuid', 'sample.visitName', 'sample.visitDetails', 'subject.birthYear', 'CMV.IgG.Serology.Result.Interpretation', 'BMI', 'predicted_doublet', 'doublet_score', 'AIFI_L1', 'AIFI_L2', 'AIFI_L3', 'AIFI_L3.5', 'n_genes_by_counts', 'log1p_n_genes_by_counts', 'total_counts', 'log1p_total_counts', 'pct_counts_in_top_50_genes', 'pct_counts_in_top_100_genes', 'pct_counts_in_top_200_genes', 'pct_counts_in_top_500_genes', 'total_counts_mito', 'log1p_total_counts_mito', 'pct_counts_mito', 'leiden_resolution_0.5', 'leiden_resolution_1', 'leiden_resolution_1.5', 'leiden_resolution_2'\n",
       "    var: 'highly_variable', 'means', 'dispersions', 'dispersions_norm', 'mean', 'std'\n",
       "    uns: 'hvg', 'log1p', 'neighbors', 'pca', 'umap'\n",
       "    obsm: 'X_pca', 'X_pca_harmony', 'X_umap'\n",
       "    varm: 'PCs'\n",
       "    obsp: 'connectivities', 'distances'"
      ]
     },
     "execution_count": 109,
     "metadata": {},
     "output_type": "execute_result"
    }
   ],
   "source": [
    "# adata_filt"
   ]
  },
  {
   "cell_type": "code",
   "execution_count": null,
   "id": "6a0ea2d3-117b-4a7f-91e6-a7dfec02feba",
   "metadata": {},
   "outputs": [],
   "source": []
  },
  {
   "cell_type": "code",
   "execution_count": 186,
   "id": "33ba775e-ed28-4483-b275-6ca6cbc9dfd2",
   "metadata": {
    "tags": []
   },
   "outputs": [
    {
     "data": {
      "text/plain": [
       "['Flu Year 1 Day 0']\n",
       "Categories (1, object): ['Flu Year 1 Day 0']"
      ]
     },
     "execution_count": 186,
     "metadata": {},
     "output_type": "execute_result"
    }
   ],
   "source": [
    "adata.obs['sample.visitName'].unique()"
   ]
  },
  {
   "cell_type": "markdown",
   "id": "06a952f1-9114-43e5-a9c6-df35f3b005a0",
   "metadata": {},
   "source": [
    "## generate PB count matrix on 240325start ##"
   ]
  },
  {
   "cell_type": "code",
   "execution_count": 289,
   "id": "5ea3eff9-0704-4a48-a950-9c390d0bf1f0",
   "metadata": {
    "tags": []
   },
   "outputs": [],
   "source": [
    "import hisepy as hp\n",
    "import h5py\n",
    "import pandas as pd\n",
    "import scipy.sparse as scs\n",
    "import os\n",
    "import scanpy as sc\n",
    "import anndata\n",
    "import numpy as np"
   ]
  },
  {
   "cell_type": "code",
   "execution_count": 73,
   "id": "df767f36-f6e3-408a-9225-a60b5aa900e1",
   "metadata": {
    "tags": []
   },
   "outputs": [],
   "source": [
    "#adata_filt.obs.rename(columns={\"pbmc_sample_id\": \"pbmc_sample_id\"}, inplace=True)"
   ]
  },
  {
   "cell_type": "code",
   "execution_count": 74,
   "id": "313f98eb-0b63-41a6-a0fe-b4058d7a5f44",
   "metadata": {
    "tags": []
   },
   "outputs": [],
   "source": [
    "#adata_filt.obs.rename(columns={\"CMV.IgG.Serology.Result.Interpretation\": \"CMV\"}, inplace=True)"
   ]
  },
  {
   "cell_type": "code",
   "execution_count": 75,
   "id": "113570c2-2c7b-45aa-ab1b-41f38ec6b90b",
   "metadata": {
    "tags": []
   },
   "outputs": [],
   "source": [
    "#adata_filt.obs.rename(columns={\"cohort.cohortGuid\": \"Age\"}, inplace=True)"
   ]
  },
  {
   "cell_type": "code",
   "execution_count": 290,
   "id": "cbbd6fac-dc34-4718-9831-09104fa76d26",
   "metadata": {
    "tags": []
   },
   "outputs": [
    {
     "data": {
      "text/plain": [
       "AnnData object with n_obs × n_vars = 2679 × 3000\n",
       "    obs: 'barcodes', 'batch_id', 'cell_name', 'cell_uuid', 'chip_id', 'hto_barcode', 'hto_category', 'n_genes', 'n_mito_umis', 'n_reads', 'n_umis', 'original_barcodes', 'pbmc_sample_id', 'pool_id', 'seurat_pbmc_type', 'seurat_pbmc_type_score', 'umap_1', 'umap_2', 'well_id', 'subject.biologicalSex', 'subject.ethnicity', 'subject.partnerCode', 'subject.race', 'subject.subjectGuid', 'cohort.cohortGuid', 'sample.visitName', 'sample.visitDetails', 'subject.birthYear', 'CMV.IgG.Serology.Result.Interpretation', 'BMI', 'predicted_doublet', 'doublet_score', 'AIFI_L1', 'AIFI_L2', 'AIFI_L3', 'AIFI_L3.5', 'n_genes_by_counts', 'log1p_n_genes_by_counts', 'total_counts', 'log1p_total_counts', 'pct_counts_in_top_50_genes', 'pct_counts_in_top_100_genes', 'pct_counts_in_top_200_genes', 'pct_counts_in_top_500_genes', 'total_counts_mito', 'log1p_total_counts_mito', 'pct_counts_mito', 'leiden_resolution_0.5', 'leiden_resolution_1', 'leiden_resolution_1.5', 'leiden_resolution_2'\n",
       "    var: 'highly_variable', 'means', 'dispersions', 'dispersions_norm', 'mean', 'std'\n",
       "    uns: 'hvg', 'log1p', 'neighbors', 'pca', 'umap'\n",
       "    obsm: 'X_pca', 'X_pca_harmony', 'X_umap'\n",
       "    varm: 'PCs'\n",
       "    layers: 'counts'\n",
       "    obsp: 'connectivities', 'distances'"
      ]
     },
     "execution_count": 290,
     "metadata": {},
     "output_type": "execute_result"
    }
   ],
   "source": [
    "adata"
   ]
  },
  {
   "cell_type": "code",
   "execution_count": 127,
   "id": "c6ebd378-f288-4f85-924f-55179563be5b",
   "metadata": {
    "tags": []
   },
   "outputs": [],
   "source": [
    "adata.obs['unique_ID'] = adata.obs['pbmc_sample_id'].str.cat (adata.obs['subject.biologicalSex'], sep = \"_\").str.cat (adata.obs['cohort.cohortGuid'], sep = \"_\")"
   ]
  },
  {
   "cell_type": "code",
   "execution_count": 128,
   "id": "d41408e7-8f35-4696-af74-3c3b5c34c6f9",
   "metadata": {
    "tags": []
   },
   "outputs": [
    {
     "data": {
      "text/plain": [
       "AnnData object with n_obs × n_vars = 2679 × 2686\n",
       "    obs: 'barcodes', 'batch_id', 'cell_name', 'cell_uuid', 'chip_id', 'hto_barcode', 'hto_category', 'n_genes', 'n_mito_umis', 'n_reads', 'n_umis', 'original_barcodes', 'pbmc_sample_id', 'pool_id', 'seurat_pbmc_type', 'seurat_pbmc_type_score', 'umap_1', 'umap_2', 'well_id', 'subject.biologicalSex', 'subject.ethnicity', 'subject.partnerCode', 'subject.race', 'subject.subjectGuid', 'cohort.cohortGuid', 'sample.visitName', 'sample.visitDetails', 'subject.birthYear', 'CMV.IgG.Serology.Result.Interpretation', 'BMI', 'predicted_doublet', 'doublet_score', 'AIFI_L1', 'AIFI_L2', 'AIFI_L3', 'AIFI_L3.5', 'n_genes_by_counts', 'log1p_n_genes_by_counts', 'total_counts', 'log1p_total_counts', 'pct_counts_in_top_50_genes', 'pct_counts_in_top_100_genes', 'pct_counts_in_top_200_genes', 'pct_counts_in_top_500_genes', 'total_counts_mito', 'log1p_total_counts_mito', 'pct_counts_mito', 'leiden_resolution_0.5', 'leiden_resolution_1', 'leiden_resolution_1.5', 'leiden_resolution_2', 'unique_ID'\n",
       "    var: 'highly_variable', 'means', 'dispersions', 'dispersions_norm', 'mean', 'std'\n",
       "    uns: 'hvg', 'log1p', 'neighbors', 'pca', 'umap'\n",
       "    obsm: 'X_pca', 'X_pca_harmony', 'X_umap'\n",
       "    varm: 'PCs'\n",
       "    obsp: 'connectivities', 'distances'"
      ]
     },
     "execution_count": 128,
     "metadata": {},
     "output_type": "execute_result"
    }
   ],
   "source": [
    "adata"
   ]
  },
  {
   "cell_type": "code",
   "execution_count": 129,
   "id": "26e100be-4b53-4365-9fed-87c8004c670f",
   "metadata": {
    "tags": []
   },
   "outputs": [
    {
     "data": {
      "text/plain": [
       "array(['PB00001-01_Female_BR1', 'PB00002-01_Male_BR1',\n",
       "       'PB00003-01_Female_BR1', 'PB00004-01_Male_BR1',\n",
       "       'PB00006-01_Female_BR1', 'PB00010-02_Male_BR1',\n",
       "       'PB00012-01_Female_BR1', 'PB00014-01_Male_BR1',\n",
       "       'PB00015-01_Male_BR2', 'PB00016-01_Female_BR2',\n",
       "       'PB00022-01_Female_BR1', 'PB00023-05_Female_BR1',\n",
       "       'PB00025-04_Male_BR1', 'PB00026-05_Male_BR1',\n",
       "       'PB00030-02_Female_BR1', 'PB00031-05_Female_BR1',\n",
       "       'PB00041-01_Male_BR1', 'PB00166-01_Female_BR1',\n",
       "       'PB00334-01_Female_BR2', 'PB00338-01_Female_BR1',\n",
       "       'PB00339-01_Male_BR2', 'PB00341-01_Female_BR1',\n",
       "       'PB00342-01_Male_BR2', 'PB00345-01_Female_BR1',\n",
       "       'PB00347-01_Female_BR1', 'PB00349-01_Female_BR1',\n",
       "       'PB00350-01_Female_BR1', 'PB00352-04_Female_BR2',\n",
       "       'PB00353-04_Female_BR2', 'PB00356-01_Male_BR2',\n",
       "       'PB00357-01_Male_BR1', 'PB00362-01_Female_BR1',\n",
       "       'PB00363-01_Male_BR1', 'PB00365-01_Female_BR1',\n",
       "       'PB00366-01_Female_BR1', 'PB00368-07_Female_BR2',\n",
       "       'PB00369-01_Male_BR2', 'PB00377-01_Female_BR2',\n",
       "       'PB00383-01_Male_BR2', 'PB00384-01_Male_BR1',\n",
       "       'PB00386-01_Male_BR1', 'PB00387-01_Female_BR2',\n",
       "       'PB00388-01_Female_BR2', 'PB00390-01_Male_BR2',\n",
       "       'PB00391-01_Male_BR1', 'PB00393-01_Female_BR2',\n",
       "       'PB00394-02_Female_BR2', 'PB00398-01_Male_BR1',\n",
       "       'PB00501-01_Female_BR2', 'PB00504-01_Male_BR1',\n",
       "       'PB00507-01_Female_BR1', 'PB00510-01_Male_BR2',\n",
       "       'PB00514-01_Male_BR1', 'PB00516-01_Female_BR2',\n",
       "       'PB00518-01_Male_BR1', 'PB00520-01_Male_BR2',\n",
       "       'PB00523-01_Male_BR2', 'PB00525-01_Female_BR1',\n",
       "       'PB00526-01_Female_BR2', 'PB00529-01_Female_BR1',\n",
       "       'PB00530-01_Female_BR2', 'PB00532-01_Female_BR1',\n",
       "       'PB00533-01_Female_BR2', 'PB00535-01_Male_BR1',\n",
       "       'PB00537-01_Female_BR2', 'PB00539-01_Male_BR2',\n",
       "       'PB00541-01_Female_BR2', 'PB00545-01_Female_BR2',\n",
       "       'PB00549-01_Male_BR1', 'PB00552-01_Female_BR2',\n",
       "       'PB00557-01_Female_BR2', 'PB00561-04_Female_BR2',\n",
       "       'PB00562-01_Male_BR2', 'PB00563-01_Male_BR2',\n",
       "       'PB00564-04_Male_BR2', 'PB00565-01_Male_BR1',\n",
       "       'PB00566-01_Male_BR2', 'PB00568-01_Female_BR2',\n",
       "       'PB00569-01_Female_BR2', 'PB00575-01_Female_BR1',\n",
       "       'PB00582-01_Male_BR2', 'PB00588-01_Male_BR2',\n",
       "       'PB00592-01_Male_BR1', 'PB00599-01_Female_BR2',\n",
       "       'PB00600-01_Male_BR2', 'PB00602-01_Female_BR2',\n",
       "       'PB00621-01_Female_BR1', 'PB00623-01_Male_BR2',\n",
       "       'PB00625-02_Male_BR2', 'PB00645-01_Female_BR1',\n",
       "       'PB01425-01_Female_BR1', 'PB01446-01_Male_BR1'], dtype=object)"
      ]
     },
     "execution_count": 129,
     "metadata": {},
     "output_type": "execute_result"
    }
   ],
   "source": [
    "adata.obs['unique_ID'].unique()"
   ]
  },
  {
   "cell_type": "code",
   "execution_count": 291,
   "id": "886990d4-33d6-4313-9944-5ef6b9be0554",
   "metadata": {
    "tags": []
   },
   "outputs": [
    {
     "data": {
      "text/plain": [
       "['IL1B+ CD14 monocyte']\n",
       "Categories (1, object): ['IL1B+ CD14 monocyte']"
      ]
     },
     "execution_count": 291,
     "metadata": {},
     "output_type": "execute_result"
    }
   ],
   "source": [
    "adata.obs['AIFI_L3'].unique()"
   ]
  },
  {
   "cell_type": "code",
   "execution_count": 292,
   "id": "9aa9baa5-dd77-4f5d-b35c-7d84247ceaaf",
   "metadata": {
    "tags": []
   },
   "outputs": [],
   "source": [
    "adata.raw = adata"
   ]
  },
  {
   "cell_type": "code",
   "execution_count": 293,
   "id": "adb3443f-6cbb-451f-a2d9-bce11cb67ef1",
   "metadata": {
    "tags": []
   },
   "outputs": [
    {
     "ename": "KeyError",
     "evalue": "'unique_ID'",
     "output_type": "error",
     "traceback": [
      "\u001b[0;31m---------------------------------------------------------------------------\u001b[0m",
      "\u001b[0;31mKeyError\u001b[0m                                  Traceback (most recent call last)",
      "Cell \u001b[0;32mIn[293], line 1\u001b[0m\n\u001b[0;32m----> 1\u001b[0m grouped \u001b[38;5;241m=\u001b[39m \u001b[43madata\u001b[49m\u001b[38;5;241;43m.\u001b[39;49m\u001b[43mobs\u001b[49m\u001b[38;5;241;43m.\u001b[39;49m\u001b[43mgroupby\u001b[49m\u001b[43m(\u001b[49m\u001b[43m[\u001b[49m\u001b[38;5;124;43m'\u001b[39;49m\u001b[38;5;124;43mAIFI_L3\u001b[39;49m\u001b[38;5;124;43m'\u001b[39;49m\u001b[43m,\u001b[49m\u001b[38;5;124;43m'\u001b[39;49m\u001b[38;5;124;43munique_ID\u001b[39;49m\u001b[38;5;124;43m'\u001b[39;49m\u001b[43m]\u001b[49m\u001b[43m)\u001b[49m\n",
      "File \u001b[0;32m/opt/conda/lib/python3.10/site-packages/pandas/core/frame.py:8872\u001b[0m, in \u001b[0;36mDataFrame.groupby\u001b[0;34m(self, by, axis, level, as_index, sort, group_keys, observed, dropna)\u001b[0m\n\u001b[1;32m   8869\u001b[0m \u001b[38;5;28;01mif\u001b[39;00m level \u001b[38;5;129;01mis\u001b[39;00m \u001b[38;5;28;01mNone\u001b[39;00m \u001b[38;5;129;01mand\u001b[39;00m by \u001b[38;5;129;01mis\u001b[39;00m \u001b[38;5;28;01mNone\u001b[39;00m:\n\u001b[1;32m   8870\u001b[0m     \u001b[38;5;28;01mraise\u001b[39;00m \u001b[38;5;167;01mTypeError\u001b[39;00m(\u001b[38;5;124m\"\u001b[39m\u001b[38;5;124mYou have to supply one of \u001b[39m\u001b[38;5;124m'\u001b[39m\u001b[38;5;124mby\u001b[39m\u001b[38;5;124m'\u001b[39m\u001b[38;5;124m and \u001b[39m\u001b[38;5;124m'\u001b[39m\u001b[38;5;124mlevel\u001b[39m\u001b[38;5;124m'\u001b[39m\u001b[38;5;124m\"\u001b[39m)\n\u001b[0;32m-> 8872\u001b[0m \u001b[38;5;28;01mreturn\u001b[39;00m \u001b[43mDataFrameGroupBy\u001b[49m\u001b[43m(\u001b[49m\n\u001b[1;32m   8873\u001b[0m \u001b[43m    \u001b[49m\u001b[43mobj\u001b[49m\u001b[38;5;241;43m=\u001b[39;49m\u001b[38;5;28;43mself\u001b[39;49m\u001b[43m,\u001b[49m\n\u001b[1;32m   8874\u001b[0m \u001b[43m    \u001b[49m\u001b[43mkeys\u001b[49m\u001b[38;5;241;43m=\u001b[39;49m\u001b[43mby\u001b[49m\u001b[43m,\u001b[49m\n\u001b[1;32m   8875\u001b[0m \u001b[43m    \u001b[49m\u001b[43maxis\u001b[49m\u001b[38;5;241;43m=\u001b[39;49m\u001b[43maxis\u001b[49m\u001b[43m,\u001b[49m\n\u001b[1;32m   8876\u001b[0m \u001b[43m    \u001b[49m\u001b[43mlevel\u001b[49m\u001b[38;5;241;43m=\u001b[39;49m\u001b[43mlevel\u001b[49m\u001b[43m,\u001b[49m\n\u001b[1;32m   8877\u001b[0m \u001b[43m    \u001b[49m\u001b[43mas_index\u001b[49m\u001b[38;5;241;43m=\u001b[39;49m\u001b[43mas_index\u001b[49m\u001b[43m,\u001b[49m\n\u001b[1;32m   8878\u001b[0m \u001b[43m    \u001b[49m\u001b[43msort\u001b[49m\u001b[38;5;241;43m=\u001b[39;49m\u001b[43msort\u001b[49m\u001b[43m,\u001b[49m\n\u001b[1;32m   8879\u001b[0m \u001b[43m    \u001b[49m\u001b[43mgroup_keys\u001b[49m\u001b[38;5;241;43m=\u001b[39;49m\u001b[43mgroup_keys\u001b[49m\u001b[43m,\u001b[49m\n\u001b[1;32m   8880\u001b[0m \u001b[43m    \u001b[49m\u001b[43mobserved\u001b[49m\u001b[38;5;241;43m=\u001b[39;49m\u001b[43mobserved\u001b[49m\u001b[43m,\u001b[49m\n\u001b[1;32m   8881\u001b[0m \u001b[43m    \u001b[49m\u001b[43mdropna\u001b[49m\u001b[38;5;241;43m=\u001b[39;49m\u001b[43mdropna\u001b[49m\u001b[43m,\u001b[49m\n\u001b[1;32m   8882\u001b[0m \u001b[43m\u001b[49m\u001b[43m)\u001b[49m\n",
      "File \u001b[0;32m/opt/conda/lib/python3.10/site-packages/pandas/core/groupby/groupby.py:1273\u001b[0m, in \u001b[0;36mGroupBy.__init__\u001b[0;34m(self, obj, keys, axis, level, grouper, exclusions, selection, as_index, sort, group_keys, observed, dropna)\u001b[0m\n\u001b[1;32m   1270\u001b[0m \u001b[38;5;28mself\u001b[39m\u001b[38;5;241m.\u001b[39mdropna \u001b[38;5;241m=\u001b[39m dropna\n\u001b[1;32m   1272\u001b[0m \u001b[38;5;28;01mif\u001b[39;00m grouper \u001b[38;5;129;01mis\u001b[39;00m \u001b[38;5;28;01mNone\u001b[39;00m:\n\u001b[0;32m-> 1273\u001b[0m     grouper, exclusions, obj \u001b[38;5;241m=\u001b[39m \u001b[43mget_grouper\u001b[49m\u001b[43m(\u001b[49m\n\u001b[1;32m   1274\u001b[0m \u001b[43m        \u001b[49m\u001b[43mobj\u001b[49m\u001b[43m,\u001b[49m\n\u001b[1;32m   1275\u001b[0m \u001b[43m        \u001b[49m\u001b[43mkeys\u001b[49m\u001b[43m,\u001b[49m\n\u001b[1;32m   1276\u001b[0m \u001b[43m        \u001b[49m\u001b[43maxis\u001b[49m\u001b[38;5;241;43m=\u001b[39;49m\u001b[43maxis\u001b[49m\u001b[43m,\u001b[49m\n\u001b[1;32m   1277\u001b[0m \u001b[43m        \u001b[49m\u001b[43mlevel\u001b[49m\u001b[38;5;241;43m=\u001b[39;49m\u001b[43mlevel\u001b[49m\u001b[43m,\u001b[49m\n\u001b[1;32m   1278\u001b[0m \u001b[43m        \u001b[49m\u001b[43msort\u001b[49m\u001b[38;5;241;43m=\u001b[39;49m\u001b[43msort\u001b[49m\u001b[43m,\u001b[49m\n\u001b[1;32m   1279\u001b[0m \u001b[43m        \u001b[49m\u001b[43mobserved\u001b[49m\u001b[38;5;241;43m=\u001b[39;49m\u001b[38;5;28;43;01mFalse\u001b[39;49;00m\u001b[43m \u001b[49m\u001b[38;5;28;43;01mif\u001b[39;49;00m\u001b[43m \u001b[49m\u001b[43mobserved\u001b[49m\u001b[43m \u001b[49m\u001b[38;5;129;43;01mis\u001b[39;49;00m\u001b[43m \u001b[49m\u001b[43mlib\u001b[49m\u001b[38;5;241;43m.\u001b[39;49m\u001b[43mno_default\u001b[49m\u001b[43m \u001b[49m\u001b[38;5;28;43;01melse\u001b[39;49;00m\u001b[43m \u001b[49m\u001b[43mobserved\u001b[49m\u001b[43m,\u001b[49m\n\u001b[1;32m   1280\u001b[0m \u001b[43m        \u001b[49m\u001b[43mdropna\u001b[49m\u001b[38;5;241;43m=\u001b[39;49m\u001b[38;5;28;43mself\u001b[39;49m\u001b[38;5;241;43m.\u001b[39;49m\u001b[43mdropna\u001b[49m\u001b[43m,\u001b[49m\n\u001b[1;32m   1281\u001b[0m \u001b[43m    \u001b[49m\u001b[43m)\u001b[49m\n\u001b[1;32m   1283\u001b[0m \u001b[38;5;28;01mif\u001b[39;00m observed \u001b[38;5;129;01mis\u001b[39;00m lib\u001b[38;5;241m.\u001b[39mno_default:\n\u001b[1;32m   1284\u001b[0m     \u001b[38;5;28;01mif\u001b[39;00m \u001b[38;5;28many\u001b[39m(ping\u001b[38;5;241m.\u001b[39m_passed_categorical \u001b[38;5;28;01mfor\u001b[39;00m ping \u001b[38;5;129;01min\u001b[39;00m grouper\u001b[38;5;241m.\u001b[39mgroupings):\n",
      "File \u001b[0;32m/opt/conda/lib/python3.10/site-packages/pandas/core/groupby/grouper.py:1009\u001b[0m, in \u001b[0;36mget_grouper\u001b[0;34m(obj, key, axis, level, sort, observed, validate, dropna)\u001b[0m\n\u001b[1;32m   1007\u001b[0m         in_axis, level, gpr \u001b[38;5;241m=\u001b[39m \u001b[38;5;28;01mFalse\u001b[39;00m, gpr, \u001b[38;5;28;01mNone\u001b[39;00m\n\u001b[1;32m   1008\u001b[0m     \u001b[38;5;28;01melse\u001b[39;00m:\n\u001b[0;32m-> 1009\u001b[0m         \u001b[38;5;28;01mraise\u001b[39;00m \u001b[38;5;167;01mKeyError\u001b[39;00m(gpr)\n\u001b[1;32m   1010\u001b[0m \u001b[38;5;28;01melif\u001b[39;00m \u001b[38;5;28misinstance\u001b[39m(gpr, Grouper) \u001b[38;5;129;01mand\u001b[39;00m gpr\u001b[38;5;241m.\u001b[39mkey \u001b[38;5;129;01mis\u001b[39;00m \u001b[38;5;129;01mnot\u001b[39;00m \u001b[38;5;28;01mNone\u001b[39;00m:\n\u001b[1;32m   1011\u001b[0m     \u001b[38;5;66;03m# Add key to exclusions\u001b[39;00m\n\u001b[1;32m   1012\u001b[0m     exclusions\u001b[38;5;241m.\u001b[39madd(gpr\u001b[38;5;241m.\u001b[39mkey)\n",
      "\u001b[0;31mKeyError\u001b[0m: 'unique_ID'"
     ]
    }
   ],
   "source": [
    "grouped = adata.obs.groupby(['AIFI_L3','unique_ID'])"
   ]
  },
  {
   "cell_type": "code",
   "execution_count": 135,
   "id": "c6e81e75-7d12-48ae-b042-4a4ccddc5a7d",
   "metadata": {
    "tags": []
   },
   "outputs": [],
   "source": [
    "def grouped_obs_mean(adata_filt, group_key, layer=None, gene_symbols=None):  #  calculates the mean expression of genes across different groups \n",
    "    if layer is not None:\n",
    "        getX = lambda x: x.layers[layer]\n",
    "    else:\n",
    "        getX = lambda x: x.X\n",
    "    if gene_symbols is not None:\n",
    "        new_idx = adata_filt.raw.var[idx]\n",
    "    else:\n",
    "        new_idx = adata_filt.raw.var_names\n",
    "    \n",
    "    grouped = adata_filt.obs.groupby(group_key)\n",
    "    out = pd.DataFrame(\n",
    "        np.zeros((adata_filt.raw.shape[1], len(grouped)), dtype=np.float64),\n",
    "        columns=[':'.join(i) for i in list(grouped.groups.keys()) ],\n",
    "        index=adata_filt.raw.var_names\n",
    "    )\n",
    "    \n",
    "    for group, idx in grouped.indices.items():\n",
    "        X = getX(adata_filt.raw[idx])\n",
    "        out[':'.join(group)] = np.ravel(X.mean(axis=0, dtype=np.float64))\n",
    "    return out"
   ]
  },
  {
   "cell_type": "code",
   "execution_count": null,
   "id": "f2a8df01-f1f6-4b4b-a4e1-df4049a11197",
   "metadata": {},
   "outputs": [],
   "source": [
    "import pandas as pd\n",
    "import numpy as np\n",
    "\n",
    "def grouped_obs_mean(adata_filt, group_key, layer=None, gene_symbols=None):  \n",
    "    if layer is not None:\n",
    "        getX = lambda x: x.layers[layer]\n",
    "    else:\n",
    "        getX = lambda x: x.X\n",
    "    if gene_symbols is not None:\n",
    "        new_idx = adata_filt.raw.var[idx]\n",
    "    else:\n",
    "        new_idx = adata_filt.raw.var_names\n",
    "    \n",
    "    grouped = adata_filt.obs.groupby(group_key)\n",
    "    out = pd.DataFrame(\n",
    "        np.zeros((len(grouped), adata_filt.raw.shape[0]), dtype=np.float64),\n",
    "        index=[':'.join(i) for i in list(grouped.groups.keys())],\n",
    "        columns=adata_filt.raw.var_names\n",
    "    )\n",
    "    \n",
    "    for group, idx in grouped.indices.items():\n",
    "        X = getX(adata_filt.raw[idx])\n",
    "        out.loc[':'.join(group)] = np.ravel(X.mean(axis=0, dtype=np.float64))\n",
    "    return out.T  # Transpose the output DataFrame to have genes as rows\n"
   ]
  },
  {
   "cell_type": "code",
   "execution_count": 136,
   "id": "45c9caf8-9b41-4eff-a90d-fabf419ab998",
   "metadata": {
    "collapsed": true,
    "jupyter": {
     "outputs_hidden": true
    },
    "tags": []
   },
   "outputs": [
    {
     "ename": "KeyError",
     "evalue": "'counts'",
     "output_type": "error",
     "traceback": [
      "\u001b[0;31m---------------------------------------------------------------------------\u001b[0m",
      "\u001b[0;31mKeyError\u001b[0m                                  Traceback (most recent call last)",
      "Cell \u001b[0;32mIn[136], line 1\u001b[0m\n\u001b[0;32m----> 1\u001b[0m \u001b[43madata\u001b[49m\u001b[38;5;241;43m.\u001b[39;49m\u001b[43mlayers\u001b[49m\u001b[43m[\u001b[49m\u001b[38;5;124;43m'\u001b[39;49m\u001b[38;5;124;43mcounts\u001b[39;49m\u001b[38;5;124;43m'\u001b[39;49m\u001b[43m]\u001b[49m\u001b[38;5;241m.\u001b[39mtoarray()\n",
      "File \u001b[0;32m/opt/conda/lib/python3.10/site-packages/anndata/_core/aligned_mapping.py:178\u001b[0m, in \u001b[0;36mAlignedActualMixin.__getitem__\u001b[0;34m(self, key)\u001b[0m\n\u001b[1;32m    177\u001b[0m \u001b[38;5;28;01mdef\u001b[39;00m \u001b[38;5;21m__getitem__\u001b[39m(\u001b[38;5;28mself\u001b[39m, key: \u001b[38;5;28mstr\u001b[39m) \u001b[38;5;241m-\u001b[39m\u001b[38;5;241m>\u001b[39m V:\n\u001b[0;32m--> 178\u001b[0m     \u001b[38;5;28;01mreturn\u001b[39;00m \u001b[38;5;28;43mself\u001b[39;49m\u001b[38;5;241;43m.\u001b[39;49m\u001b[43m_data\u001b[49m\u001b[43m[\u001b[49m\u001b[43mkey\u001b[49m\u001b[43m]\u001b[49m\n",
      "\u001b[0;31mKeyError\u001b[0m: 'counts'"
     ]
    }
   ],
   "source": [
    "adata.layers['counts'].toarray()"
   ]
  },
  {
   "cell_type": "code",
   "execution_count": 137,
   "id": "fb6163d3-47cf-4447-be97-f3cd1ee29a76",
   "metadata": {
    "tags": []
   },
   "outputs": [
    {
     "name": "stderr",
     "output_type": "stream",
     "text": [
      "/tmp/ipykernel_501/2389933984.py:11: FutureWarning: The default of observed=False is deprecated and will be changed to True in a future version of pandas. Pass observed=False to retain current behavior or observed=True to adopt the future default and silence this warning.\n",
      "  grouped = adata_filt.obs.groupby(group_key)\n"
     ]
    }
   ],
   "source": [
    "Il1b_mean = grouped_obs_mean(adata, ['AIFI_L3','unique_ID'])"
   ]
  },
  {
   "cell_type": "code",
   "execution_count": 138,
   "id": "7aeca648-c504-490d-8e0b-e92210d7d0bb",
   "metadata": {
    "tags": []
   },
   "outputs": [
    {
     "data": {
      "text/plain": [
       "(2686, 92)"
      ]
     },
     "execution_count": 138,
     "metadata": {},
     "output_type": "execute_result"
    }
   ],
   "source": [
    "Il1b_mean.shape"
   ]
  },
  {
   "cell_type": "code",
   "execution_count": 139,
   "id": "1dad23cf-27c5-497e-8a4f-a0899d3b3450",
   "metadata": {
    "tags": []
   },
   "outputs": [
    {
     "data": {
      "text/html": [
       "<div>\n",
       "<style scoped>\n",
       "    .dataframe tbody tr th:only-of-type {\n",
       "        vertical-align: middle;\n",
       "    }\n",
       "\n",
       "    .dataframe tbody tr th {\n",
       "        vertical-align: top;\n",
       "    }\n",
       "\n",
       "    .dataframe thead th {\n",
       "        text-align: right;\n",
       "    }\n",
       "</style>\n",
       "<table border=\"1\" class=\"dataframe\">\n",
       "  <thead>\n",
       "    <tr style=\"text-align: right;\">\n",
       "      <th></th>\n",
       "      <th>IL1B+ CD14 monocyte:PB00001-01_Female_BR1</th>\n",
       "      <th>IL1B+ CD14 monocyte:PB00002-01_Male_BR1</th>\n",
       "      <th>IL1B+ CD14 monocyte:PB00003-01_Female_BR1</th>\n",
       "      <th>IL1B+ CD14 monocyte:PB00004-01_Male_BR1</th>\n",
       "      <th>IL1B+ CD14 monocyte:PB00006-01_Female_BR1</th>\n",
       "      <th>IL1B+ CD14 monocyte:PB00010-02_Male_BR1</th>\n",
       "      <th>IL1B+ CD14 monocyte:PB00012-01_Female_BR1</th>\n",
       "      <th>IL1B+ CD14 monocyte:PB00014-01_Male_BR1</th>\n",
       "      <th>IL1B+ CD14 monocyte:PB00015-01_Male_BR2</th>\n",
       "      <th>IL1B+ CD14 monocyte:PB00016-01_Female_BR2</th>\n",
       "      <th>...</th>\n",
       "      <th>IL1B+ CD14 monocyte:PB00592-01_Male_BR1</th>\n",
       "      <th>IL1B+ CD14 monocyte:PB00599-01_Female_BR2</th>\n",
       "      <th>IL1B+ CD14 monocyte:PB00600-01_Male_BR2</th>\n",
       "      <th>IL1B+ CD14 monocyte:PB00602-01_Female_BR2</th>\n",
       "      <th>IL1B+ CD14 monocyte:PB00621-01_Female_BR1</th>\n",
       "      <th>IL1B+ CD14 monocyte:PB00623-01_Male_BR2</th>\n",
       "      <th>IL1B+ CD14 monocyte:PB00625-02_Male_BR2</th>\n",
       "      <th>IL1B+ CD14 monocyte:PB00645-01_Female_BR1</th>\n",
       "      <th>IL1B+ CD14 monocyte:PB01425-01_Female_BR1</th>\n",
       "      <th>IL1B+ CD14 monocyte:PB01446-01_Male_BR1</th>\n",
       "    </tr>\n",
       "  </thead>\n",
       "  <tbody>\n",
       "    <tr>\n",
       "      <th>FAM41C</th>\n",
       "      <td>-0.132573</td>\n",
       "      <td>-0.132573</td>\n",
       "      <td>-0.132573</td>\n",
       "      <td>-0.132573</td>\n",
       "      <td>-0.132573</td>\n",
       "      <td>-0.132573</td>\n",
       "      <td>-0.132573</td>\n",
       "      <td>-0.132573</td>\n",
       "      <td>-0.132573</td>\n",
       "      <td>0.052049</td>\n",
       "      <td>...</td>\n",
       "      <td>-0.132573</td>\n",
       "      <td>0.060168</td>\n",
       "      <td>0.008158</td>\n",
       "      <td>0.017048</td>\n",
       "      <td>-0.132573</td>\n",
       "      <td>0.137070</td>\n",
       "      <td>-0.132573</td>\n",
       "      <td>-0.132573</td>\n",
       "      <td>-0.132573</td>\n",
       "      <td>-0.132573</td>\n",
       "    </tr>\n",
       "    <tr>\n",
       "      <th>KLHL17</th>\n",
       "      <td>-0.113268</td>\n",
       "      <td>-0.113268</td>\n",
       "      <td>-0.113268</td>\n",
       "      <td>-0.113268</td>\n",
       "      <td>-0.113268</td>\n",
       "      <td>0.561391</td>\n",
       "      <td>-0.113268</td>\n",
       "      <td>0.021641</td>\n",
       "      <td>-0.113268</td>\n",
       "      <td>-0.113268</td>\n",
       "      <td>...</td>\n",
       "      <td>-0.113268</td>\n",
       "      <td>0.275859</td>\n",
       "      <td>0.085578</td>\n",
       "      <td>0.054990</td>\n",
       "      <td>1.178048</td>\n",
       "      <td>-0.113268</td>\n",
       "      <td>-0.113268</td>\n",
       "      <td>-0.113268</td>\n",
       "      <td>-0.113268</td>\n",
       "      <td>-0.113268</td>\n",
       "    </tr>\n",
       "  </tbody>\n",
       "</table>\n",
       "<p>2 rows × 92 columns</p>\n",
       "</div>"
      ],
      "text/plain": [
       "        IL1B+ CD14 monocyte:PB00001-01_Female_BR1  \\\n",
       "FAM41C                                  -0.132573   \n",
       "KLHL17                                  -0.113268   \n",
       "\n",
       "        IL1B+ CD14 monocyte:PB00002-01_Male_BR1  \\\n",
       "FAM41C                                -0.132573   \n",
       "KLHL17                                -0.113268   \n",
       "\n",
       "        IL1B+ CD14 monocyte:PB00003-01_Female_BR1  \\\n",
       "FAM41C                                  -0.132573   \n",
       "KLHL17                                  -0.113268   \n",
       "\n",
       "        IL1B+ CD14 monocyte:PB00004-01_Male_BR1  \\\n",
       "FAM41C                                -0.132573   \n",
       "KLHL17                                -0.113268   \n",
       "\n",
       "        IL1B+ CD14 monocyte:PB00006-01_Female_BR1  \\\n",
       "FAM41C                                  -0.132573   \n",
       "KLHL17                                  -0.113268   \n",
       "\n",
       "        IL1B+ CD14 monocyte:PB00010-02_Male_BR1  \\\n",
       "FAM41C                                -0.132573   \n",
       "KLHL17                                 0.561391   \n",
       "\n",
       "        IL1B+ CD14 monocyte:PB00012-01_Female_BR1  \\\n",
       "FAM41C                                  -0.132573   \n",
       "KLHL17                                  -0.113268   \n",
       "\n",
       "        IL1B+ CD14 monocyte:PB00014-01_Male_BR1  \\\n",
       "FAM41C                                -0.132573   \n",
       "KLHL17                                 0.021641   \n",
       "\n",
       "        IL1B+ CD14 monocyte:PB00015-01_Male_BR2  \\\n",
       "FAM41C                                -0.132573   \n",
       "KLHL17                                -0.113268   \n",
       "\n",
       "        IL1B+ CD14 monocyte:PB00016-01_Female_BR2  ...  \\\n",
       "FAM41C                                   0.052049  ...   \n",
       "KLHL17                                  -0.113268  ...   \n",
       "\n",
       "        IL1B+ CD14 monocyte:PB00592-01_Male_BR1  \\\n",
       "FAM41C                                -0.132573   \n",
       "KLHL17                                -0.113268   \n",
       "\n",
       "        IL1B+ CD14 monocyte:PB00599-01_Female_BR2  \\\n",
       "FAM41C                                   0.060168   \n",
       "KLHL17                                   0.275859   \n",
       "\n",
       "        IL1B+ CD14 monocyte:PB00600-01_Male_BR2  \\\n",
       "FAM41C                                 0.008158   \n",
       "KLHL17                                 0.085578   \n",
       "\n",
       "        IL1B+ CD14 monocyte:PB00602-01_Female_BR2  \\\n",
       "FAM41C                                   0.017048   \n",
       "KLHL17                                   0.054990   \n",
       "\n",
       "        IL1B+ CD14 monocyte:PB00621-01_Female_BR1  \\\n",
       "FAM41C                                  -0.132573   \n",
       "KLHL17                                   1.178048   \n",
       "\n",
       "        IL1B+ CD14 monocyte:PB00623-01_Male_BR2  \\\n",
       "FAM41C                                 0.137070   \n",
       "KLHL17                                -0.113268   \n",
       "\n",
       "        IL1B+ CD14 monocyte:PB00625-02_Male_BR2  \\\n",
       "FAM41C                                -0.132573   \n",
       "KLHL17                                -0.113268   \n",
       "\n",
       "        IL1B+ CD14 monocyte:PB00645-01_Female_BR1  \\\n",
       "FAM41C                                  -0.132573   \n",
       "KLHL17                                  -0.113268   \n",
       "\n",
       "        IL1B+ CD14 monocyte:PB01425-01_Female_BR1  \\\n",
       "FAM41C                                  -0.132573   \n",
       "KLHL17                                  -0.113268   \n",
       "\n",
       "        IL1B+ CD14 monocyte:PB01446-01_Male_BR1  \n",
       "FAM41C                                -0.132573  \n",
       "KLHL17                                -0.113268  \n",
       "\n",
       "[2 rows x 92 columns]"
      ]
     },
     "execution_count": 139,
     "metadata": {},
     "output_type": "execute_result"
    }
   ],
   "source": [
    "Il1b_mean.head(n=2)"
   ]
  },
  {
   "cell_type": "code",
   "execution_count": 104,
   "id": "3988aeb5-153a-49f4-97f9-0b1fca814b46",
   "metadata": {
    "tags": []
   },
   "outputs": [
    {
     "data": {
      "text/plain": [
       "Index(['FAM41C', 'KLHL17', 'HES4', 'ISG15', 'C1orf159', 'ACAP3', 'PUSL1',\n",
       "       'AL645728.1', 'AL691432.2', 'PRKCZ',\n",
       "       ...\n",
       "       'ITGB2-AS1', 'AL844908.1', 'AP001505.1', 'ADARB1', 'COL18A1', 'MT-ND2',\n",
       "       'MT-ND4L', 'MT-ND6', 'AC004556.1', 'AC240274.1'],\n",
       "      dtype='object', length=2686)"
      ]
     },
     "execution_count": 104,
     "metadata": {},
     "output_type": "execute_result"
    }
   ],
   "source": [
    "Il1b_mean.index"
   ]
  },
  {
   "cell_type": "code",
   "execution_count": 105,
   "id": "1d8f3893-b5ae-4c7e-aba8-ac07fbf06dfc",
   "metadata": {
    "tags": []
   },
   "outputs": [
    {
     "data": {
      "text/html": [
       "<div>\n",
       "<style scoped>\n",
       "    .dataframe tbody tr th:only-of-type {\n",
       "        vertical-align: middle;\n",
       "    }\n",
       "\n",
       "    .dataframe tbody tr th {\n",
       "        vertical-align: top;\n",
       "    }\n",
       "\n",
       "    .dataframe thead th {\n",
       "        text-align: right;\n",
       "    }\n",
       "</style>\n",
       "<table border=\"1\" class=\"dataframe\">\n",
       "  <thead>\n",
       "    <tr style=\"text-align: right;\">\n",
       "      <th></th>\n",
       "      <th>IL1B+ CD14 monocyte:PB00001-01_Female_BR1</th>\n",
       "      <th>IL1B+ CD14 monocyte:PB00002-01_Male_BR1</th>\n",
       "      <th>IL1B+ CD14 monocyte:PB00003-01_Female_BR1</th>\n",
       "      <th>IL1B+ CD14 monocyte:PB00004-01_Male_BR1</th>\n",
       "      <th>IL1B+ CD14 monocyte:PB00006-01_Female_BR1</th>\n",
       "      <th>IL1B+ CD14 monocyte:PB00010-02_Male_BR1</th>\n",
       "      <th>IL1B+ CD14 monocyte:PB00012-01_Female_BR1</th>\n",
       "      <th>IL1B+ CD14 monocyte:PB00014-01_Male_BR1</th>\n",
       "      <th>IL1B+ CD14 monocyte:PB00015-01_Male_BR2</th>\n",
       "      <th>IL1B+ CD14 monocyte:PB00016-01_Female_BR2</th>\n",
       "      <th>...</th>\n",
       "      <th>IL1B+ CD14 monocyte:PB00592-01_Male_BR1</th>\n",
       "      <th>IL1B+ CD14 monocyte:PB00599-01_Female_BR2</th>\n",
       "      <th>IL1B+ CD14 monocyte:PB00600-01_Male_BR2</th>\n",
       "      <th>IL1B+ CD14 monocyte:PB00602-01_Female_BR2</th>\n",
       "      <th>IL1B+ CD14 monocyte:PB00621-01_Female_BR1</th>\n",
       "      <th>IL1B+ CD14 monocyte:PB00623-01_Male_BR2</th>\n",
       "      <th>IL1B+ CD14 monocyte:PB00625-02_Male_BR2</th>\n",
       "      <th>IL1B+ CD14 monocyte:PB00645-01_Female_BR1</th>\n",
       "      <th>IL1B+ CD14 monocyte:PB01425-01_Female_BR1</th>\n",
       "      <th>IL1B+ CD14 monocyte:PB01446-01_Male_BR1</th>\n",
       "    </tr>\n",
       "  </thead>\n",
       "  <tbody>\n",
       "    <tr>\n",
       "      <th>FAM41C</th>\n",
       "      <td>0.029766</td>\n",
       "      <td>0.036859</td>\n",
       "      <td>0.037337</td>\n",
       "      <td>0.034027</td>\n",
       "      <td>0.077604</td>\n",
       "      <td>0.004575</td>\n",
       "      <td>0.026647</td>\n",
       "      <td>-0.004092</td>\n",
       "      <td>0.068854</td>\n",
       "      <td>0.204963</td>\n",
       "      <td>...</td>\n",
       "      <td>0.051842</td>\n",
       "      <td>0.032842</td>\n",
       "      <td>0.023608</td>\n",
       "      <td>0.121293</td>\n",
       "      <td>0.159991</td>\n",
       "      <td>0.066635</td>\n",
       "      <td>-0.509914</td>\n",
       "      <td>0.060383</td>\n",
       "      <td>0.068821</td>\n",
       "      <td>0.020951</td>\n",
       "    </tr>\n",
       "    <tr>\n",
       "      <th>KLHL17</th>\n",
       "      <td>0.025635</td>\n",
       "      <td>0.030112</td>\n",
       "      <td>0.030413</td>\n",
       "      <td>0.028325</td>\n",
       "      <td>0.055825</td>\n",
       "      <td>0.119680</td>\n",
       "      <td>0.023667</td>\n",
       "      <td>0.038770</td>\n",
       "      <td>0.050303</td>\n",
       "      <td>0.025681</td>\n",
       "      <td>...</td>\n",
       "      <td>0.039568</td>\n",
       "      <td>-1.296740</td>\n",
       "      <td>0.024800</td>\n",
       "      <td>0.078471</td>\n",
       "      <td>0.238311</td>\n",
       "      <td>0.027591</td>\n",
       "      <td>-0.314947</td>\n",
       "      <td>0.044958</td>\n",
       "      <td>0.050283</td>\n",
       "      <td>0.020073</td>\n",
       "    </tr>\n",
       "  </tbody>\n",
       "</table>\n",
       "<p>2 rows × 92 columns</p>\n",
       "</div>"
      ],
      "text/plain": [
       "        IL1B+ CD14 monocyte:PB00001-01_Female_BR1  \\\n",
       "FAM41C                                   0.029766   \n",
       "KLHL17                                   0.025635   \n",
       "\n",
       "        IL1B+ CD14 monocyte:PB00002-01_Male_BR1  \\\n",
       "FAM41C                                 0.036859   \n",
       "KLHL17                                 0.030112   \n",
       "\n",
       "        IL1B+ CD14 monocyte:PB00003-01_Female_BR1  \\\n",
       "FAM41C                                   0.037337   \n",
       "KLHL17                                   0.030413   \n",
       "\n",
       "        IL1B+ CD14 monocyte:PB00004-01_Male_BR1  \\\n",
       "FAM41C                                 0.034027   \n",
       "KLHL17                                 0.028325   \n",
       "\n",
       "        IL1B+ CD14 monocyte:PB00006-01_Female_BR1  \\\n",
       "FAM41C                                   0.077604   \n",
       "KLHL17                                   0.055825   \n",
       "\n",
       "        IL1B+ CD14 monocyte:PB00010-02_Male_BR1  \\\n",
       "FAM41C                                 0.004575   \n",
       "KLHL17                                 0.119680   \n",
       "\n",
       "        IL1B+ CD14 monocyte:PB00012-01_Female_BR1  \\\n",
       "FAM41C                                   0.026647   \n",
       "KLHL17                                   0.023667   \n",
       "\n",
       "        IL1B+ CD14 monocyte:PB00014-01_Male_BR1  \\\n",
       "FAM41C                                -0.004092   \n",
       "KLHL17                                 0.038770   \n",
       "\n",
       "        IL1B+ CD14 monocyte:PB00015-01_Male_BR2  \\\n",
       "FAM41C                                 0.068854   \n",
       "KLHL17                                 0.050303   \n",
       "\n",
       "        IL1B+ CD14 monocyte:PB00016-01_Female_BR2  ...  \\\n",
       "FAM41C                                   0.204963  ...   \n",
       "KLHL17                                   0.025681  ...   \n",
       "\n",
       "        IL1B+ CD14 monocyte:PB00592-01_Male_BR1  \\\n",
       "FAM41C                                 0.051842   \n",
       "KLHL17                                 0.039568   \n",
       "\n",
       "        IL1B+ CD14 monocyte:PB00599-01_Female_BR2  \\\n",
       "FAM41C                                   0.032842   \n",
       "KLHL17                                  -1.296740   \n",
       "\n",
       "        IL1B+ CD14 monocyte:PB00600-01_Male_BR2  \\\n",
       "FAM41C                                 0.023608   \n",
       "KLHL17                                 0.024800   \n",
       "\n",
       "        IL1B+ CD14 monocyte:PB00602-01_Female_BR2  \\\n",
       "FAM41C                                   0.121293   \n",
       "KLHL17                                   0.078471   \n",
       "\n",
       "        IL1B+ CD14 monocyte:PB00621-01_Female_BR1  \\\n",
       "FAM41C                                   0.159991   \n",
       "KLHL17                                   0.238311   \n",
       "\n",
       "        IL1B+ CD14 monocyte:PB00623-01_Male_BR2  \\\n",
       "FAM41C                                 0.066635   \n",
       "KLHL17                                 0.027591   \n",
       "\n",
       "        IL1B+ CD14 monocyte:PB00625-02_Male_BR2  \\\n",
       "FAM41C                                -0.509914   \n",
       "KLHL17                                -0.314947   \n",
       "\n",
       "        IL1B+ CD14 monocyte:PB00645-01_Female_BR1  \\\n",
       "FAM41C                                   0.060383   \n",
       "KLHL17                                   0.044958   \n",
       "\n",
       "        IL1B+ CD14 monocyte:PB01425-01_Female_BR1  \\\n",
       "FAM41C                                   0.068821   \n",
       "KLHL17                                   0.050283   \n",
       "\n",
       "        IL1B+ CD14 monocyte:PB01446-01_Male_BR1  \n",
       "FAM41C                                 0.020951  \n",
       "KLHL17                                 0.020073  \n",
       "\n",
       "[2 rows x 92 columns]"
      ]
     },
     "execution_count": 105,
     "metadata": {},
     "output_type": "execute_result"
    }
   ],
   "source": [
    "Il1b_mean.head(n=2)"
   ]
  },
  {
   "cell_type": "code",
   "execution_count": 106,
   "id": "51905db1-a1cf-478e-9715-ef4ee4e440df",
   "metadata": {
    "tags": []
   },
   "outputs": [
    {
     "data": {
      "text/html": [
       "<div>\n",
       "<style scoped>\n",
       "    .dataframe tbody tr th:only-of-type {\n",
       "        vertical-align: middle;\n",
       "    }\n",
       "\n",
       "    .dataframe tbody tr th {\n",
       "        vertical-align: top;\n",
       "    }\n",
       "\n",
       "    .dataframe thead th {\n",
       "        text-align: right;\n",
       "    }\n",
       "</style>\n",
       "<table border=\"1\" class=\"dataframe\">\n",
       "  <thead>\n",
       "    <tr style=\"text-align: right;\">\n",
       "      <th></th>\n",
       "      <th>IL1B+ CD14 monocyte:PB00001-01_Female_BR1</th>\n",
       "      <th>IL1B+ CD14 monocyte:PB00002-01_Male_BR1</th>\n",
       "      <th>IL1B+ CD14 monocyte:PB00003-01_Female_BR1</th>\n",
       "      <th>IL1B+ CD14 monocyte:PB00004-01_Male_BR1</th>\n",
       "      <th>IL1B+ CD14 monocyte:PB00006-01_Female_BR1</th>\n",
       "      <th>IL1B+ CD14 monocyte:PB00010-02_Male_BR1</th>\n",
       "      <th>IL1B+ CD14 monocyte:PB00012-01_Female_BR1</th>\n",
       "      <th>IL1B+ CD14 monocyte:PB00014-01_Male_BR1</th>\n",
       "      <th>IL1B+ CD14 monocyte:PB00015-01_Male_BR2</th>\n",
       "      <th>IL1B+ CD14 monocyte:PB00016-01_Female_BR2</th>\n",
       "      <th>...</th>\n",
       "      <th>IL1B+ CD14 monocyte:PB00592-01_Male_BR1</th>\n",
       "      <th>IL1B+ CD14 monocyte:PB00599-01_Female_BR2</th>\n",
       "      <th>IL1B+ CD14 monocyte:PB00600-01_Male_BR2</th>\n",
       "      <th>IL1B+ CD14 monocyte:PB00602-01_Female_BR2</th>\n",
       "      <th>IL1B+ CD14 monocyte:PB00621-01_Female_BR1</th>\n",
       "      <th>IL1B+ CD14 monocyte:PB00623-01_Male_BR2</th>\n",
       "      <th>IL1B+ CD14 monocyte:PB00625-02_Male_BR2</th>\n",
       "      <th>IL1B+ CD14 monocyte:PB00645-01_Female_BR1</th>\n",
       "      <th>IL1B+ CD14 monocyte:PB01425-01_Female_BR1</th>\n",
       "      <th>IL1B+ CD14 monocyte:PB01446-01_Male_BR1</th>\n",
       "    </tr>\n",
       "  </thead>\n",
       "  <tbody>\n",
       "    <tr>\n",
       "      <th>XIST</th>\n",
       "      <td>0.015756</td>\n",
       "      <td>0.051401</td>\n",
       "      <td>0.020239</td>\n",
       "      <td>0.056914</td>\n",
       "      <td>-0.149537</td>\n",
       "      <td>-0.025242</td>\n",
       "      <td>0.039026</td>\n",
       "      <td>-0.045817</td>\n",
       "      <td>0.128527</td>\n",
       "      <td>0.044832</td>\n",
       "      <td>...</td>\n",
       "      <td>0.086971</td>\n",
       "      <td>-0.191989</td>\n",
       "      <td>-0.00487</td>\n",
       "      <td>0.015457</td>\n",
       "      <td>-0.681052</td>\n",
       "      <td>0.04203</td>\n",
       "      <td>-1.246641</td>\n",
       "      <td>0.018245</td>\n",
       "      <td>-0.008398</td>\n",
       "      <td>0.013635</td>\n",
       "    </tr>\n",
       "  </tbody>\n",
       "</table>\n",
       "<p>1 rows × 92 columns</p>\n",
       "</div>"
      ],
      "text/plain": [
       "      IL1B+ CD14 monocyte:PB00001-01_Female_BR1  \\\n",
       "XIST                                   0.015756   \n",
       "\n",
       "      IL1B+ CD14 monocyte:PB00002-01_Male_BR1  \\\n",
       "XIST                                 0.051401   \n",
       "\n",
       "      IL1B+ CD14 monocyte:PB00003-01_Female_BR1  \\\n",
       "XIST                                   0.020239   \n",
       "\n",
       "      IL1B+ CD14 monocyte:PB00004-01_Male_BR1  \\\n",
       "XIST                                 0.056914   \n",
       "\n",
       "      IL1B+ CD14 monocyte:PB00006-01_Female_BR1  \\\n",
       "XIST                                  -0.149537   \n",
       "\n",
       "      IL1B+ CD14 monocyte:PB00010-02_Male_BR1  \\\n",
       "XIST                                -0.025242   \n",
       "\n",
       "      IL1B+ CD14 monocyte:PB00012-01_Female_BR1  \\\n",
       "XIST                                   0.039026   \n",
       "\n",
       "      IL1B+ CD14 monocyte:PB00014-01_Male_BR1  \\\n",
       "XIST                                -0.045817   \n",
       "\n",
       "      IL1B+ CD14 monocyte:PB00015-01_Male_BR2  \\\n",
       "XIST                                 0.128527   \n",
       "\n",
       "      IL1B+ CD14 monocyte:PB00016-01_Female_BR2  ...  \\\n",
       "XIST                                   0.044832  ...   \n",
       "\n",
       "      IL1B+ CD14 monocyte:PB00592-01_Male_BR1  \\\n",
       "XIST                                 0.086971   \n",
       "\n",
       "      IL1B+ CD14 monocyte:PB00599-01_Female_BR2  \\\n",
       "XIST                                  -0.191989   \n",
       "\n",
       "      IL1B+ CD14 monocyte:PB00600-01_Male_BR2  \\\n",
       "XIST                                 -0.00487   \n",
       "\n",
       "      IL1B+ CD14 monocyte:PB00602-01_Female_BR2  \\\n",
       "XIST                                   0.015457   \n",
       "\n",
       "      IL1B+ CD14 monocyte:PB00621-01_Female_BR1  \\\n",
       "XIST                                  -0.681052   \n",
       "\n",
       "      IL1B+ CD14 monocyte:PB00623-01_Male_BR2  \\\n",
       "XIST                                  0.04203   \n",
       "\n",
       "      IL1B+ CD14 monocyte:PB00625-02_Male_BR2  \\\n",
       "XIST                                -1.246641   \n",
       "\n",
       "      IL1B+ CD14 monocyte:PB00645-01_Female_BR1  \\\n",
       "XIST                                   0.018245   \n",
       "\n",
       "      IL1B+ CD14 monocyte:PB01425-01_Female_BR1  \\\n",
       "XIST                                  -0.008398   \n",
       "\n",
       "      IL1B+ CD14 monocyte:PB01446-01_Male_BR1  \n",
       "XIST                                 0.013635  \n",
       "\n",
       "[1 rows x 92 columns]"
      ]
     },
     "execution_count": 106,
     "metadata": {},
     "output_type": "execute_result"
    }
   ],
   "source": [
    "Il1b_mean[Il1b_mean.index=='XIST']"
   ]
  },
  {
   "cell_type": "code",
   "execution_count": 107,
   "id": "dd1f80c5-b780-4e20-8753-9d8d9b00ad64",
   "metadata": {
    "tags": []
   },
   "outputs": [],
   "source": [
    "Il1b_mean.to_csv('/home/jupyter/Myeloid_cells/files/IHA_IL1B_CD14_mono_pb_mean_normalized_scaled_v4.csv')"
   ]
  },
  {
   "cell_type": "markdown",
   "id": "ee19ddc8-c96e-49bf-a842-efc0a3a984ce",
   "metadata": {
    "tags": []
   },
   "source": [
    "# Another count matrix - Heatmap expression matrix\n"
   ]
  },
  {
   "cell_type": "code",
   "execution_count": 231,
   "id": "0ffe18f7-6217-4249-953c-be13f61e6471",
   "metadata": {
    "tags": []
   },
   "outputs": [],
   "source": [
    "import hisepy as hp\n",
    "import h5py\n",
    "import pandas as pd\n",
    "import scipy.sparse as scs\n",
    "import os\n",
    "import scanpy as sc\n",
    "import anndata\n",
    "import numpy as np"
   ]
  },
  {
   "cell_type": "markdown",
   "id": "424e03cb-9182-46fe-a94a-4181c0647035",
   "metadata": {
    "tags": []
   },
   "source": [
    "## IL1B+ CD14 mono"
   ]
  },
  {
   "cell_type": "code",
   "execution_count": 327,
   "id": "93d24e08-3aa2-480e-9373-c9e5c4d951ec",
   "metadata": {
    "tags": []
   },
   "outputs": [
    {
     "data": {
      "text/plain": [
       "AnnData object with n_obs × n_vars = 2679 × 33538\n",
       "    obs: 'barcodes', 'batch_id', 'cell_name', 'cell_uuid', 'chip_id', 'hto_barcode', 'hto_category', 'n_genes', 'n_mito_umis', 'n_reads', 'n_umis', 'original_barcodes', 'pbmc_sample_id', 'pool_id', 'seurat_pbmc_type', 'seurat_pbmc_type_score', 'umap_1', 'umap_2', 'well_id', 'subject.biologicalSex', 'subject.ethnicity', 'subject.partnerCode', 'subject.race', 'subject.subjectGuid', 'cohort.cohortGuid', 'sample.visitName', 'sample.visitDetails', 'subject.birthYear', 'CMV.IgG.Serology.Result.Interpretation', 'BMI', 'predicted_doublet', 'doublet_score', 'AIFI_L1', 'AIFI_L2', 'AIFI_L3', 'AIFI_L3.5', 'n_genes_by_counts', 'log1p_n_genes_by_counts', 'total_counts', 'log1p_total_counts', 'pct_counts_in_top_50_genes', 'pct_counts_in_top_100_genes', 'pct_counts_in_top_200_genes', 'pct_counts_in_top_500_genes', 'total_counts_mito', 'log1p_total_counts_mito', 'pct_counts_mito'\n",
       "    layers: 'counts'"
      ]
     },
     "execution_count": 327,
     "metadata": {},
     "output_type": "execute_result"
    }
   ],
   "source": [
    "adata = sc.read ('/home/jupyter/Myeloid_cells/files/IL1B_CD14_Mono_ONLY_FluYr1D0_raw_04172024.h5ad')\n",
    "adata"
   ]
  },
  {
   "cell_type": "code",
   "execution_count": 328,
   "id": "27741209-1317-430a-a3aa-a353c186cc5e",
   "metadata": {
    "tags": []
   },
   "outputs": [
    {
     "data": {
      "text/plain": [
       "array([[0., 0., 0., ..., 0., 0., 0.],\n",
       "       [0., 0., 0., ..., 0., 0., 0.],\n",
       "       [0., 0., 0., ..., 0., 0., 0.],\n",
       "       ...,\n",
       "       [0., 0., 0., ..., 0., 0., 0.],\n",
       "       [0., 0., 0., ..., 0., 0., 0.],\n",
       "       [0., 0., 0., ..., 0., 0., 0.]], dtype=float32)"
      ]
     },
     "execution_count": 328,
     "metadata": {},
     "output_type": "execute_result"
    }
   ],
   "source": [
    "adata.X.toarray()"
   ]
  },
  {
   "cell_type": "code",
   "execution_count": 329,
   "id": "1cd480f7-2553-4198-ba25-e5c59ba8574f",
   "metadata": {
    "tags": []
   },
   "outputs": [
    {
     "data": {
      "text/plain": [
       "array([[0., 0., 0., ..., 0., 0., 0.],\n",
       "       [0., 0., 0., ..., 0., 0., 0.],\n",
       "       [0., 0., 0., ..., 0., 0., 0.],\n",
       "       ...,\n",
       "       [0., 0., 0., ..., 0., 0., 0.],\n",
       "       [0., 0., 0., ..., 0., 0., 0.],\n",
       "       [0., 0., 0., ..., 0., 0., 0.]], dtype=float32)"
      ]
     },
     "execution_count": 329,
     "metadata": {},
     "output_type": "execute_result"
    }
   ],
   "source": [
    "# Normalize and log1p if using raw object\n",
    "sc.pp.normalize_total(adata, target_sum=1e4)\n",
    "sc.pp.log1p(adata)\n",
    "adata.X.toarray()\n"
   ]
  },
  {
   "cell_type": "code",
   "execution_count": 210,
   "id": "e1d22342-2368-4fd3-8278-daca65914e78",
   "metadata": {
    "tags": []
   },
   "outputs": [],
   "source": [
    "#adata_filt.obs.rename(columns={\"pbmc_sample_id\": \"pbmc_sample_id\"}, inplace=True)"
   ]
  },
  {
   "cell_type": "code",
   "execution_count": 211,
   "id": "a8abbcf2-766d-4604-b6d2-899a6fc83393",
   "metadata": {
    "tags": []
   },
   "outputs": [],
   "source": [
    "#adata_filt.obs.rename(columns={\"CMV.IgG.Serology.Result.Interpretation\": \"CMV\"}, inplace=True)"
   ]
  },
  {
   "cell_type": "code",
   "execution_count": 212,
   "id": "c2ffc130-52b7-4858-9835-0f31df5b8b21",
   "metadata": {
    "tags": []
   },
   "outputs": [],
   "source": [
    "#adata_filt.obs.rename(columns={\"cohort.cohortGuid\": \"Age\"}, inplace=True)"
   ]
  },
  {
   "cell_type": "code",
   "execution_count": 223,
   "id": "17af2775-51d1-401a-a7eb-6cf4efb3123e",
   "metadata": {
    "tags": []
   },
   "outputs": [],
   "source": [
    "# import pandas as pd\n",
    "\n",
    "# # Assuming adata.X is your expression matrix\n",
    "# # Assuming adata has row names and column names\n",
    "\n",
    "# # Convert adata.X to a DataFrame\n",
    "# expression_df = pd.DataFrame(adata.X, index=adata.obs.index, columns=adata.var.index)\n",
    "\n",
    "# # Save DataFrame to CSV\n",
    "# expression_df.to_csv('Heatmap_expression_matrix_v1.csv')\n"
   ]
  },
  {
   "cell_type": "code",
   "execution_count": 225,
   "id": "9b2ce73e-db55-4a67-b5aa-01ec84d7d843",
   "metadata": {
    "tags": []
   },
   "outputs": [
    {
     "data": {
      "text/html": [
       "<div>\n",
       "<style scoped>\n",
       "    .dataframe tbody tr th:only-of-type {\n",
       "        vertical-align: middle;\n",
       "    }\n",
       "\n",
       "    .dataframe tbody tr th {\n",
       "        vertical-align: top;\n",
       "    }\n",
       "\n",
       "    .dataframe thead th {\n",
       "        text-align: right;\n",
       "    }\n",
       "</style>\n",
       "<table border=\"1\" class=\"dataframe\">\n",
       "  <thead>\n",
       "    <tr style=\"text-align: right;\">\n",
       "      <th></th>\n",
       "      <th>FAM41C</th>\n",
       "      <th>KLHL17</th>\n",
       "      <th>HES4</th>\n",
       "      <th>ISG15</th>\n",
       "      <th>C1orf159</th>\n",
       "      <th>C1QTNF12</th>\n",
       "      <th>AL162741.1</th>\n",
       "      <th>SCNN1D</th>\n",
       "      <th>ACAP3</th>\n",
       "      <th>MXRA8</th>\n",
       "      <th>...</th>\n",
       "      <th>MT-ND1</th>\n",
       "      <th>MT-ND2</th>\n",
       "      <th>MT-CO2</th>\n",
       "      <th>MT-ATP6</th>\n",
       "      <th>MT-CO3</th>\n",
       "      <th>MT-ND3</th>\n",
       "      <th>MT-ND4L</th>\n",
       "      <th>MT-ND4</th>\n",
       "      <th>MT-CYB</th>\n",
       "      <th>AC240274.1</th>\n",
       "    </tr>\n",
       "    <tr>\n",
       "      <th>barcodes</th>\n",
       "      <th></th>\n",
       "      <th></th>\n",
       "      <th></th>\n",
       "      <th></th>\n",
       "      <th></th>\n",
       "      <th></th>\n",
       "      <th></th>\n",
       "      <th></th>\n",
       "      <th></th>\n",
       "      <th></th>\n",
       "      <th></th>\n",
       "      <th></th>\n",
       "      <th></th>\n",
       "      <th></th>\n",
       "      <th></th>\n",
       "      <th></th>\n",
       "      <th></th>\n",
       "      <th></th>\n",
       "      <th></th>\n",
       "      <th></th>\n",
       "      <th></th>\n",
       "    </tr>\n",
       "  </thead>\n",
       "  <tbody>\n",
       "    <tr>\n",
       "      <th>cfb4162a48b611ea8957bafe6d70929e</th>\n",
       "      <td>-0.132573</td>\n",
       "      <td>-0.113268</td>\n",
       "      <td>-0.192298</td>\n",
       "      <td>-0.661028</td>\n",
       "      <td>-0.176591</td>\n",
       "      <td>-0.077332</td>\n",
       "      <td>-0.05456</td>\n",
       "      <td>-0.053848</td>\n",
       "      <td>-0.328429</td>\n",
       "      <td>-0.022134</td>\n",
       "      <td>...</td>\n",
       "      <td>1.325860</td>\n",
       "      <td>0.731614</td>\n",
       "      <td>0.836299</td>\n",
       "      <td>1.340946</td>\n",
       "      <td>0.742673</td>\n",
       "      <td>1.439619</td>\n",
       "      <td>0.713853</td>\n",
       "      <td>1.086478</td>\n",
       "      <td>-0.067385</td>\n",
       "      <td>-0.156928</td>\n",
       "    </tr>\n",
       "    <tr>\n",
       "      <th>70ab258848b611eaa65d9e7d578d66f2</th>\n",
       "      <td>-0.132573</td>\n",
       "      <td>-0.113268</td>\n",
       "      <td>-0.192298</td>\n",
       "      <td>-0.661028</td>\n",
       "      <td>4.546874</td>\n",
       "      <td>-0.077332</td>\n",
       "      <td>-0.05456</td>\n",
       "      <td>-0.053848</td>\n",
       "      <td>-0.328429</td>\n",
       "      <td>-0.022134</td>\n",
       "      <td>...</td>\n",
       "      <td>-1.189309</td>\n",
       "      <td>-0.481571</td>\n",
       "      <td>-0.535567</td>\n",
       "      <td>-0.834956</td>\n",
       "      <td>-0.465425</td>\n",
       "      <td>-1.024485</td>\n",
       "      <td>0.202755</td>\n",
       "      <td>-0.327291</td>\n",
       "      <td>-0.668048</td>\n",
       "      <td>-0.156928</td>\n",
       "    </tr>\n",
       "    <tr>\n",
       "      <th>70acf29648b611eaa65d9e7d578d66f2</th>\n",
       "      <td>-0.132573</td>\n",
       "      <td>-0.113268</td>\n",
       "      <td>-0.192298</td>\n",
       "      <td>1.294230</td>\n",
       "      <td>-0.176591</td>\n",
       "      <td>-0.077332</td>\n",
       "      <td>-0.05456</td>\n",
       "      <td>-0.053848</td>\n",
       "      <td>-0.328429</td>\n",
       "      <td>-0.022134</td>\n",
       "      <td>...</td>\n",
       "      <td>0.252301</td>\n",
       "      <td>-0.473989</td>\n",
       "      <td>0.144703</td>\n",
       "      <td>0.668496</td>\n",
       "      <td>-0.065128</td>\n",
       "      <td>-0.019105</td>\n",
       "      <td>-0.418068</td>\n",
       "      <td>0.751750</td>\n",
       "      <td>0.169085</td>\n",
       "      <td>-0.156928</td>\n",
       "    </tr>\n",
       "    <tr>\n",
       "      <th>70d2b34648b611eaa65d9e7d578d66f2</th>\n",
       "      <td>-0.132573</td>\n",
       "      <td>-0.113268</td>\n",
       "      <td>-0.192298</td>\n",
       "      <td>-0.661028</td>\n",
       "      <td>-0.176591</td>\n",
       "      <td>-0.077332</td>\n",
       "      <td>-0.05456</td>\n",
       "      <td>-0.053848</td>\n",
       "      <td>-0.328429</td>\n",
       "      <td>-0.022134</td>\n",
       "      <td>...</td>\n",
       "      <td>1.358938</td>\n",
       "      <td>-0.032474</td>\n",
       "      <td>-1.037922</td>\n",
       "      <td>0.739538</td>\n",
       "      <td>-0.204768</td>\n",
       "      <td>0.471638</td>\n",
       "      <td>0.094861</td>\n",
       "      <td>-0.397821</td>\n",
       "      <td>-1.446746</td>\n",
       "      <td>-0.156928</td>\n",
       "    </tr>\n",
       "    <tr>\n",
       "      <th>70d844f048b611eaa65d9e7d578d66f2</th>\n",
       "      <td>-0.132573</td>\n",
       "      <td>-0.113268</td>\n",
       "      <td>-0.192298</td>\n",
       "      <td>-0.661028</td>\n",
       "      <td>-0.176591</td>\n",
       "      <td>-0.077332</td>\n",
       "      <td>-0.05456</td>\n",
       "      <td>-0.053848</td>\n",
       "      <td>-0.328429</td>\n",
       "      <td>-0.022134</td>\n",
       "      <td>...</td>\n",
       "      <td>-0.771742</td>\n",
       "      <td>-2.176364</td>\n",
       "      <td>-0.749368</td>\n",
       "      <td>-0.869467</td>\n",
       "      <td>-1.302776</td>\n",
       "      <td>-0.020604</td>\n",
       "      <td>-1.730623</td>\n",
       "      <td>-0.394766</td>\n",
       "      <td>-1.223874</td>\n",
       "      <td>-0.156928</td>\n",
       "    </tr>\n",
       "    <tr>\n",
       "      <th>...</th>\n",
       "      <td>...</td>\n",
       "      <td>...</td>\n",
       "      <td>...</td>\n",
       "      <td>...</td>\n",
       "      <td>...</td>\n",
       "      <td>...</td>\n",
       "      <td>...</td>\n",
       "      <td>...</td>\n",
       "      <td>...</td>\n",
       "      <td>...</td>\n",
       "      <td>...</td>\n",
       "      <td>...</td>\n",
       "      <td>...</td>\n",
       "      <td>...</td>\n",
       "      <td>...</td>\n",
       "      <td>...</td>\n",
       "      <td>...</td>\n",
       "      <td>...</td>\n",
       "      <td>...</td>\n",
       "      <td>...</td>\n",
       "      <td>...</td>\n",
       "    </tr>\n",
       "    <tr>\n",
       "      <th>4fcaf786286511ec8c0d4aaa4b9002e8</th>\n",
       "      <td>-0.132573</td>\n",
       "      <td>-0.113268</td>\n",
       "      <td>-0.192298</td>\n",
       "      <td>1.622779</td>\n",
       "      <td>-0.176591</td>\n",
       "      <td>-0.077332</td>\n",
       "      <td>-0.05456</td>\n",
       "      <td>-0.053848</td>\n",
       "      <td>-0.328429</td>\n",
       "      <td>-0.022134</td>\n",
       "      <td>...</td>\n",
       "      <td>0.463961</td>\n",
       "      <td>0.536566</td>\n",
       "      <td>-1.310432</td>\n",
       "      <td>1.173958</td>\n",
       "      <td>0.229070</td>\n",
       "      <td>0.430827</td>\n",
       "      <td>0.022275</td>\n",
       "      <td>0.371624</td>\n",
       "      <td>0.106982</td>\n",
       "      <td>-0.156928</td>\n",
       "    </tr>\n",
       "    <tr>\n",
       "      <th>ce432b48286411eca744faae388e9f17</th>\n",
       "      <td>-0.132573</td>\n",
       "      <td>-0.113268</td>\n",
       "      <td>-0.192298</td>\n",
       "      <td>1.051977</td>\n",
       "      <td>-0.176591</td>\n",
       "      <td>-0.077332</td>\n",
       "      <td>-0.05456</td>\n",
       "      <td>-0.053848</td>\n",
       "      <td>-0.328429</td>\n",
       "      <td>-0.022134</td>\n",
       "      <td>...</td>\n",
       "      <td>1.198795</td>\n",
       "      <td>0.391518</td>\n",
       "      <td>0.622304</td>\n",
       "      <td>1.493538</td>\n",
       "      <td>0.150514</td>\n",
       "      <td>1.332110</td>\n",
       "      <td>-0.063872</td>\n",
       "      <td>0.706557</td>\n",
       "      <td>0.251596</td>\n",
       "      <td>-0.156928</td>\n",
       "    </tr>\n",
       "    <tr>\n",
       "      <th>fbe4aa18286411ecb1698ec288c6fba6</th>\n",
       "      <td>-0.132573</td>\n",
       "      <td>-0.113268</td>\n",
       "      <td>-0.192298</td>\n",
       "      <td>2.229014</td>\n",
       "      <td>-0.176591</td>\n",
       "      <td>-0.077332</td>\n",
       "      <td>-0.05456</td>\n",
       "      <td>-0.053848</td>\n",
       "      <td>-0.328429</td>\n",
       "      <td>-0.022134</td>\n",
       "      <td>...</td>\n",
       "      <td>0.958758</td>\n",
       "      <td>1.280242</td>\n",
       "      <td>0.750380</td>\n",
       "      <td>0.253745</td>\n",
       "      <td>0.563532</td>\n",
       "      <td>1.755917</td>\n",
       "      <td>0.487581</td>\n",
       "      <td>0.843975</td>\n",
       "      <td>0.123364</td>\n",
       "      <td>-0.156928</td>\n",
       "    </tr>\n",
       "    <tr>\n",
       "      <th>03c5255a286511ec8289ca5980196c9c</th>\n",
       "      <td>-0.132573</td>\n",
       "      <td>-0.113268</td>\n",
       "      <td>-0.192298</td>\n",
       "      <td>1.707325</td>\n",
       "      <td>-0.176591</td>\n",
       "      <td>-0.077332</td>\n",
       "      <td>-0.05456</td>\n",
       "      <td>-0.053848</td>\n",
       "      <td>-0.328429</td>\n",
       "      <td>-0.022134</td>\n",
       "      <td>...</td>\n",
       "      <td>0.786495</td>\n",
       "      <td>0.486685</td>\n",
       "      <td>0.126109</td>\n",
       "      <td>1.119277</td>\n",
       "      <td>-0.492053</td>\n",
       "      <td>1.279174</td>\n",
       "      <td>-0.806702</td>\n",
       "      <td>0.384777</td>\n",
       "      <td>0.369796</td>\n",
       "      <td>-0.156928</td>\n",
       "    </tr>\n",
       "    <tr>\n",
       "      <th>91f8844a286311ecabc39e0459bddc54</th>\n",
       "      <td>-0.132573</td>\n",
       "      <td>-0.113268</td>\n",
       "      <td>-0.192298</td>\n",
       "      <td>3.324033</td>\n",
       "      <td>-0.176591</td>\n",
       "      <td>-0.077332</td>\n",
       "      <td>-0.05456</td>\n",
       "      <td>-0.053848</td>\n",
       "      <td>-0.328429</td>\n",
       "      <td>-0.022134</td>\n",
       "      <td>...</td>\n",
       "      <td>-0.122227</td>\n",
       "      <td>0.093515</td>\n",
       "      <td>-0.260421</td>\n",
       "      <td>0.857848</td>\n",
       "      <td>-0.560291</td>\n",
       "      <td>0.419610</td>\n",
       "      <td>-0.415456</td>\n",
       "      <td>0.673279</td>\n",
       "      <td>-0.344862</td>\n",
       "      <td>-0.156928</td>\n",
       "    </tr>\n",
       "  </tbody>\n",
       "</table>\n",
       "<p>2679 rows × 3000 columns</p>\n",
       "</div>"
      ],
      "text/plain": [
       "                                    FAM41C    KLHL17      HES4     ISG15  \\\n",
       "barcodes                                                                   \n",
       "cfb4162a48b611ea8957bafe6d70929e -0.132573 -0.113268 -0.192298 -0.661028   \n",
       "70ab258848b611eaa65d9e7d578d66f2 -0.132573 -0.113268 -0.192298 -0.661028   \n",
       "70acf29648b611eaa65d9e7d578d66f2 -0.132573 -0.113268 -0.192298  1.294230   \n",
       "70d2b34648b611eaa65d9e7d578d66f2 -0.132573 -0.113268 -0.192298 -0.661028   \n",
       "70d844f048b611eaa65d9e7d578d66f2 -0.132573 -0.113268 -0.192298 -0.661028   \n",
       "...                                    ...       ...       ...       ...   \n",
       "4fcaf786286511ec8c0d4aaa4b9002e8 -0.132573 -0.113268 -0.192298  1.622779   \n",
       "ce432b48286411eca744faae388e9f17 -0.132573 -0.113268 -0.192298  1.051977   \n",
       "fbe4aa18286411ecb1698ec288c6fba6 -0.132573 -0.113268 -0.192298  2.229014   \n",
       "03c5255a286511ec8289ca5980196c9c -0.132573 -0.113268 -0.192298  1.707325   \n",
       "91f8844a286311ecabc39e0459bddc54 -0.132573 -0.113268 -0.192298  3.324033   \n",
       "\n",
       "                                  C1orf159  C1QTNF12  AL162741.1    SCNN1D  \\\n",
       "barcodes                                                                     \n",
       "cfb4162a48b611ea8957bafe6d70929e -0.176591 -0.077332    -0.05456 -0.053848   \n",
       "70ab258848b611eaa65d9e7d578d66f2  4.546874 -0.077332    -0.05456 -0.053848   \n",
       "70acf29648b611eaa65d9e7d578d66f2 -0.176591 -0.077332    -0.05456 -0.053848   \n",
       "70d2b34648b611eaa65d9e7d578d66f2 -0.176591 -0.077332    -0.05456 -0.053848   \n",
       "70d844f048b611eaa65d9e7d578d66f2 -0.176591 -0.077332    -0.05456 -0.053848   \n",
       "...                                    ...       ...         ...       ...   \n",
       "4fcaf786286511ec8c0d4aaa4b9002e8 -0.176591 -0.077332    -0.05456 -0.053848   \n",
       "ce432b48286411eca744faae388e9f17 -0.176591 -0.077332    -0.05456 -0.053848   \n",
       "fbe4aa18286411ecb1698ec288c6fba6 -0.176591 -0.077332    -0.05456 -0.053848   \n",
       "03c5255a286511ec8289ca5980196c9c -0.176591 -0.077332    -0.05456 -0.053848   \n",
       "91f8844a286311ecabc39e0459bddc54 -0.176591 -0.077332    -0.05456 -0.053848   \n",
       "\n",
       "                                     ACAP3     MXRA8  ...    MT-ND1    MT-ND2  \\\n",
       "barcodes                                              ...                       \n",
       "cfb4162a48b611ea8957bafe6d70929e -0.328429 -0.022134  ...  1.325860  0.731614   \n",
       "70ab258848b611eaa65d9e7d578d66f2 -0.328429 -0.022134  ... -1.189309 -0.481571   \n",
       "70acf29648b611eaa65d9e7d578d66f2 -0.328429 -0.022134  ...  0.252301 -0.473989   \n",
       "70d2b34648b611eaa65d9e7d578d66f2 -0.328429 -0.022134  ...  1.358938 -0.032474   \n",
       "70d844f048b611eaa65d9e7d578d66f2 -0.328429 -0.022134  ... -0.771742 -2.176364   \n",
       "...                                    ...       ...  ...       ...       ...   \n",
       "4fcaf786286511ec8c0d4aaa4b9002e8 -0.328429 -0.022134  ...  0.463961  0.536566   \n",
       "ce432b48286411eca744faae388e9f17 -0.328429 -0.022134  ...  1.198795  0.391518   \n",
       "fbe4aa18286411ecb1698ec288c6fba6 -0.328429 -0.022134  ...  0.958758  1.280242   \n",
       "03c5255a286511ec8289ca5980196c9c -0.328429 -0.022134  ...  0.786495  0.486685   \n",
       "91f8844a286311ecabc39e0459bddc54 -0.328429 -0.022134  ... -0.122227  0.093515   \n",
       "\n",
       "                                    MT-CO2   MT-ATP6    MT-CO3    MT-ND3  \\\n",
       "barcodes                                                                   \n",
       "cfb4162a48b611ea8957bafe6d70929e  0.836299  1.340946  0.742673  1.439619   \n",
       "70ab258848b611eaa65d9e7d578d66f2 -0.535567 -0.834956 -0.465425 -1.024485   \n",
       "70acf29648b611eaa65d9e7d578d66f2  0.144703  0.668496 -0.065128 -0.019105   \n",
       "70d2b34648b611eaa65d9e7d578d66f2 -1.037922  0.739538 -0.204768  0.471638   \n",
       "70d844f048b611eaa65d9e7d578d66f2 -0.749368 -0.869467 -1.302776 -0.020604   \n",
       "...                                    ...       ...       ...       ...   \n",
       "4fcaf786286511ec8c0d4aaa4b9002e8 -1.310432  1.173958  0.229070  0.430827   \n",
       "ce432b48286411eca744faae388e9f17  0.622304  1.493538  0.150514  1.332110   \n",
       "fbe4aa18286411ecb1698ec288c6fba6  0.750380  0.253745  0.563532  1.755917   \n",
       "03c5255a286511ec8289ca5980196c9c  0.126109  1.119277 -0.492053  1.279174   \n",
       "91f8844a286311ecabc39e0459bddc54 -0.260421  0.857848 -0.560291  0.419610   \n",
       "\n",
       "                                   MT-ND4L    MT-ND4    MT-CYB  AC240274.1  \n",
       "barcodes                                                                    \n",
       "cfb4162a48b611ea8957bafe6d70929e  0.713853  1.086478 -0.067385   -0.156928  \n",
       "70ab258848b611eaa65d9e7d578d66f2  0.202755 -0.327291 -0.668048   -0.156928  \n",
       "70acf29648b611eaa65d9e7d578d66f2 -0.418068  0.751750  0.169085   -0.156928  \n",
       "70d2b34648b611eaa65d9e7d578d66f2  0.094861 -0.397821 -1.446746   -0.156928  \n",
       "70d844f048b611eaa65d9e7d578d66f2 -1.730623 -0.394766 -1.223874   -0.156928  \n",
       "...                                    ...       ...       ...         ...  \n",
       "4fcaf786286511ec8c0d4aaa4b9002e8  0.022275  0.371624  0.106982   -0.156928  \n",
       "ce432b48286411eca744faae388e9f17 -0.063872  0.706557  0.251596   -0.156928  \n",
       "fbe4aa18286411ecb1698ec288c6fba6  0.487581  0.843975  0.123364   -0.156928  \n",
       "03c5255a286511ec8289ca5980196c9c -0.806702  0.384777  0.369796   -0.156928  \n",
       "91f8844a286311ecabc39e0459bddc54 -0.415456  0.673279 -0.344862   -0.156928  \n",
       "\n",
       "[2679 rows x 3000 columns]"
      ]
     },
     "execution_count": 225,
     "metadata": {},
     "output_type": "execute_result"
    }
   ],
   "source": [
    "# expression_df"
   ]
  },
  {
   "cell_type": "code",
   "execution_count": 214,
   "id": "82e4af7d-2c70-4255-9f0f-08bf4b766953",
   "metadata": {
    "tags": []
   },
   "outputs": [],
   "source": [
    "#adata.obs['unique_ID'] = adata.obs['pbmc_sample_id'].str.cat (adata.obs['subject.biologicalSex'], sep = \"_\").str.cat (adata.obs['cohort.cohortGuid'], sep = \"_\")"
   ]
  },
  {
   "cell_type": "code",
   "execution_count": 215,
   "id": "ad7a6c53-d640-4bfb-a2a8-6d1c3cb8e7ff",
   "metadata": {
    "tags": []
   },
   "outputs": [],
   "source": [
    "#adata.obs['unique_ID'] = adata.obs['pbmc_sample_id']"
   ]
  },
  {
   "cell_type": "code",
   "execution_count": null,
   "id": "c025c7b0-9cb5-4ebf-9811-1171f0fa1bd3",
   "metadata": {},
   "outputs": [],
   "source": []
  },
  {
   "cell_type": "code",
   "execution_count": 324,
   "id": "cda4b799-932a-45f4-8b58-457e44891a87",
   "metadata": {
    "tags": []
   },
   "outputs": [
    {
     "data": {
      "text/plain": [
       "AnnData object with n_obs × n_vars = 2679 × 33538\n",
       "    obs: 'barcodes', 'batch_id', 'cell_name', 'cell_uuid', 'chip_id', 'hto_barcode', 'hto_category', 'n_genes', 'n_mito_umis', 'n_reads', 'n_umis', 'original_barcodes', 'pbmc_sample_id', 'pool_id', 'seurat_pbmc_type', 'seurat_pbmc_type_score', 'umap_1', 'umap_2', 'well_id', 'subject.biologicalSex', 'subject.ethnicity', 'subject.partnerCode', 'subject.race', 'subject.subjectGuid', 'cohort.cohortGuid', 'sample.visitName', 'sample.visitDetails', 'subject.birthYear', 'CMV.IgG.Serology.Result.Interpretation', 'BMI', 'predicted_doublet', 'doublet_score', 'AIFI_L1', 'AIFI_L2', 'AIFI_L3', 'AIFI_L3.5', 'n_genes_by_counts', 'log1p_n_genes_by_counts', 'total_counts', 'log1p_total_counts', 'pct_counts_in_top_50_genes', 'pct_counts_in_top_100_genes', 'pct_counts_in_top_200_genes', 'pct_counts_in_top_500_genes', 'total_counts_mito', 'log1p_total_counts_mito', 'pct_counts_mito'\n",
       "    uns: 'log1p'\n",
       "    layers: 'counts'"
      ]
     },
     "execution_count": 324,
     "metadata": {},
     "output_type": "execute_result"
    }
   ],
   "source": [
    "adata"
   ]
  },
  {
   "cell_type": "code",
   "execution_count": 217,
   "id": "7780a964-44fb-47aa-901a-ca18bf0d6c5c",
   "metadata": {
    "tags": []
   },
   "outputs": [
    {
     "data": {
      "text/plain": [
       "['PB00001-01', 'PB00002-01', 'PB00003-01', 'PB00004-01', 'PB00006-01', ..., 'PB00623-01', 'PB00625-02', 'PB00645-01', 'PB01425-01', 'PB01446-01']\n",
       "Length: 92\n",
       "Categories (92, object): ['PB00001-01', 'PB00002-01', 'PB00003-01', 'PB00004-01', ..., 'PB00625-02', 'PB00645-01', 'PB01425-01', 'PB01446-01']"
      ]
     },
     "execution_count": 217,
     "metadata": {},
     "output_type": "execute_result"
    }
   ],
   "source": [
    "#adata.obs['unique_ID'].unique()"
   ]
  },
  {
   "cell_type": "code",
   "execution_count": 330,
   "id": "6fccc29a-a60d-438c-919a-17e9f5fccdb4",
   "metadata": {
    "tags": []
   },
   "outputs": [
    {
     "data": {
      "text/plain": [
       "['IL1B+ CD14 monocyte']\n",
       "Categories (1, object): ['IL1B+ CD14 monocyte']"
      ]
     },
     "execution_count": 330,
     "metadata": {},
     "output_type": "execute_result"
    }
   ],
   "source": [
    "adata.obs['AIFI_L3'].unique()"
   ]
  },
  {
   "cell_type": "code",
   "execution_count": 331,
   "id": "af1d730e-3e37-4e53-84b2-7e010ceea9ff",
   "metadata": {
    "tags": []
   },
   "outputs": [],
   "source": [
    "adata.raw = adata"
   ]
  },
  {
   "cell_type": "code",
   "execution_count": 332,
   "id": "ecf47f1c-b6cc-4e6f-a739-1bffff0b6219",
   "metadata": {
    "tags": []
   },
   "outputs": [
    {
     "name": "stderr",
     "output_type": "stream",
     "text": [
      "/tmp/ipykernel_501/2632454361.py:1: FutureWarning: The default of observed=False is deprecated and will be changed to True in a future version of pandas. Pass observed=False to retain current behavior or observed=True to adopt the future default and silence this warning.\n",
      "  grouped = adata.obs.groupby(['pbmc_sample_id'])\n"
     ]
    }
   ],
   "source": [
    "grouped = adata.obs.groupby(['pbmc_sample_id'])"
   ]
  },
  {
   "cell_type": "code",
   "execution_count": 333,
   "id": "6d4b8a2c-2d38-48c0-a3e4-444a2841c94f",
   "metadata": {
    "tags": []
   },
   "outputs": [],
   "source": [
    "#Not grouped\n",
    "\n",
    "def grouped_obs_mean(adata_filt, group_key, layer=None, gene_symbols=None):\n",
    "    if layer is not None:\n",
    "        getX = lambda x: x.layers[layer]\n",
    "    else:\n",
    "        getX = lambda x: x.X\n",
    "    if gene_symbols is not None:\n",
    "        new_idx = adata_filt.raw.var[idx]\n",
    "    else:\n",
    "        new_idx = adata_filt.raw.var_names\n",
    "    \n",
    "    grouped = adata_filt.obs.groupby(group_key)\n",
    "    \n",
    "    # Extract only pbmc_sample_id without additional alphabets\n",
    "    column_names = [group.split(':')[0] for group in grouped.groups.keys()]\n",
    "    \n",
    "    out = pd.DataFrame(\n",
    "        np.zeros((adata_filt.raw.shape[1], len(column_names)), dtype=np.float64),\n",
    "        columns=column_names,\n",
    "        index=adata_filt.raw.var_names\n",
    "    )\n",
    "    \n",
    "    for group, idx in grouped.indices.items():\n",
    "        X = getX(adata_filt.raw[idx])\n",
    "        out[group.split(':')[0]] = np.ravel(X.mean(axis=0, dtype=np.float64))\n",
    "    return out\n"
   ]
  },
  {
   "cell_type": "code",
   "execution_count": 301,
   "id": "093b1e1a-9865-4408-8125-ccd2aa0c985a",
   "metadata": {
    "tags": []
   },
   "outputs": [],
   "source": [
    "# import pandas as pd\n",
    "# import numpy as np\n",
    "\n",
    "# def grouped_obs_mean(adata_filt, group_key, layer=None, gene_symbols=None):\n",
    "#     if layer is not None:\n",
    "#         getX = lambda x: x.layers[layer]\n",
    "#     else:\n",
    "#         getX = lambda x: x.X\n",
    "#     if gene_symbols is not None:\n",
    "#         new_idx = adata_filt.raw.var[idx]\n",
    "#     else:\n",
    "#         new_idx = adata_filt.raw.var_names\n",
    "    \n",
    "#     grouped = adata_filt.obs.groupby(group_key)\n",
    "    \n",
    "#     # Extract only pbmc_sample_id without additional alphabets\n",
    "#     column_names = [group.split(':')[0] for group in grouped.groups.keys()]\n",
    "    \n",
    "#     out = pd.DataFrame(\n",
    "#         np.zeros((len(adata_filt.raw.var_names), len(column_names)), dtype=np.float64),\n",
    "#         columns=column_names,\n",
    "#         index=adata_filt.raw.var_names\n",
    "#     )\n",
    "    \n",
    "#     for gene in adata_filt.raw.var_names:\n",
    "#         gene_idx = adata_filt.raw.var_names.get_loc(gene)\n",
    "#         for group, idx in grouped.indices.items():\n",
    "#             X = getX(adata_filt.raw[idx])\n",
    "#             out.loc[gene, group.split(':')[0]] = np.mean(X[:, gene_idx], dtype=np.float64)\n",
    "#     return out\n",
    "\n"
   ]
  },
  {
   "cell_type": "code",
   "execution_count": 334,
   "id": "52892a5e-36f1-4236-a337-3518491e4a0e",
   "metadata": {
    "tags": []
   },
   "outputs": [
    {
     "name": "stderr",
     "output_type": "stream",
     "text": [
      "/tmp/ipykernel_501/3548609660.py:13: FutureWarning: The default of observed=False is deprecated and will be changed to True in a future version of pandas. Pass observed=False to retain current behavior or observed=True to adopt the future default and silence this warning.\n",
      "  grouped = adata_filt.obs.groupby(group_key)\n"
     ]
    }
   ],
   "source": [
    "Il1b_mean = grouped_obs_mean(adata, ['pbmc_sample_id'])"
   ]
  },
  {
   "cell_type": "code",
   "execution_count": 335,
   "id": "d971c438-c37c-4db8-aad4-cbf77b595647",
   "metadata": {
    "tags": []
   },
   "outputs": [
    {
     "data": {
      "text/plain": [
       "(33538, 92)"
      ]
     },
     "execution_count": 335,
     "metadata": {},
     "output_type": "execute_result"
    }
   ],
   "source": [
    "Il1b_mean.shape"
   ]
  },
  {
   "cell_type": "code",
   "execution_count": 337,
   "id": "3ebd0cb6-489c-4839-ad05-9cdbe981ac16",
   "metadata": {
    "tags": []
   },
   "outputs": [
    {
     "data": {
      "text/html": [
       "<div>\n",
       "<style scoped>\n",
       "    .dataframe tbody tr th:only-of-type {\n",
       "        vertical-align: middle;\n",
       "    }\n",
       "\n",
       "    .dataframe tbody tr th {\n",
       "        vertical-align: top;\n",
       "    }\n",
       "\n",
       "    .dataframe thead th {\n",
       "        text-align: right;\n",
       "    }\n",
       "</style>\n",
       "<table border=\"1\" class=\"dataframe\">\n",
       "  <thead>\n",
       "    <tr style=\"text-align: right;\">\n",
       "      <th></th>\n",
       "      <th>PB00001-01</th>\n",
       "      <th>PB00002-01</th>\n",
       "      <th>PB00003-01</th>\n",
       "      <th>PB00004-01</th>\n",
       "      <th>PB00006-01</th>\n",
       "      <th>PB00010-02</th>\n",
       "      <th>PB00012-01</th>\n",
       "      <th>PB00014-01</th>\n",
       "      <th>PB00015-01</th>\n",
       "      <th>PB00016-01</th>\n",
       "      <th>...</th>\n",
       "      <th>PB00592-01</th>\n",
       "      <th>PB00599-01</th>\n",
       "      <th>PB00600-01</th>\n",
       "      <th>PB00602-01</th>\n",
       "      <th>PB00621-01</th>\n",
       "      <th>PB00623-01</th>\n",
       "      <th>PB00625-02</th>\n",
       "      <th>PB00645-01</th>\n",
       "      <th>PB01425-01</th>\n",
       "      <th>PB01446-01</th>\n",
       "    </tr>\n",
       "  </thead>\n",
       "  <tbody>\n",
       "    <tr>\n",
       "      <th>MIR1302-2HG</th>\n",
       "      <td>0.0</td>\n",
       "      <td>0.0</td>\n",
       "      <td>0.0</td>\n",
       "      <td>0.0</td>\n",
       "      <td>0.0</td>\n",
       "      <td>0.0</td>\n",
       "      <td>0.0</td>\n",
       "      <td>0.0</td>\n",
       "      <td>0.0</td>\n",
       "      <td>0.0</td>\n",
       "      <td>...</td>\n",
       "      <td>0.0</td>\n",
       "      <td>0.0</td>\n",
       "      <td>0.0</td>\n",
       "      <td>0.0</td>\n",
       "      <td>0.0</td>\n",
       "      <td>0.0</td>\n",
       "      <td>0.0</td>\n",
       "      <td>0.0</td>\n",
       "      <td>0.0</td>\n",
       "      <td>0.0</td>\n",
       "    </tr>\n",
       "    <tr>\n",
       "      <th>FAM138A</th>\n",
       "      <td>0.0</td>\n",
       "      <td>0.0</td>\n",
       "      <td>0.0</td>\n",
       "      <td>0.0</td>\n",
       "      <td>0.0</td>\n",
       "      <td>0.0</td>\n",
       "      <td>0.0</td>\n",
       "      <td>0.0</td>\n",
       "      <td>0.0</td>\n",
       "      <td>0.0</td>\n",
       "      <td>...</td>\n",
       "      <td>0.0</td>\n",
       "      <td>0.0</td>\n",
       "      <td>0.0</td>\n",
       "      <td>0.0</td>\n",
       "      <td>0.0</td>\n",
       "      <td>0.0</td>\n",
       "      <td>0.0</td>\n",
       "      <td>0.0</td>\n",
       "      <td>0.0</td>\n",
       "      <td>0.0</td>\n",
       "    </tr>\n",
       "  </tbody>\n",
       "</table>\n",
       "<p>2 rows × 92 columns</p>\n",
       "</div>"
      ],
      "text/plain": [
       "             PB00001-01  PB00002-01  PB00003-01  PB00004-01  PB00006-01  \\\n",
       "MIR1302-2HG         0.0         0.0         0.0         0.0         0.0   \n",
       "FAM138A             0.0         0.0         0.0         0.0         0.0   \n",
       "\n",
       "             PB00010-02  PB00012-01  PB00014-01  PB00015-01  PB00016-01  ...  \\\n",
       "MIR1302-2HG         0.0         0.0         0.0         0.0         0.0  ...   \n",
       "FAM138A             0.0         0.0         0.0         0.0         0.0  ...   \n",
       "\n",
       "             PB00592-01  PB00599-01  PB00600-01  PB00602-01  PB00621-01  \\\n",
       "MIR1302-2HG         0.0         0.0         0.0         0.0         0.0   \n",
       "FAM138A             0.0         0.0         0.0         0.0         0.0   \n",
       "\n",
       "             PB00623-01  PB00625-02  PB00645-01  PB01425-01  PB01446-01  \n",
       "MIR1302-2HG         0.0         0.0         0.0         0.0         0.0  \n",
       "FAM138A             0.0         0.0         0.0         0.0         0.0  \n",
       "\n",
       "[2 rows x 92 columns]"
      ]
     },
     "execution_count": 337,
     "metadata": {},
     "output_type": "execute_result"
    }
   ],
   "source": [
    "Il1b_mean.head(n=2)"
   ]
  },
  {
   "cell_type": "code",
   "execution_count": 338,
   "id": "9421d619-c8a9-4a98-b32e-8ed8262c0fd7",
   "metadata": {
    "tags": []
   },
   "outputs": [
    {
     "data": {
      "text/plain": [
       "Index(['MIR1302-2HG', 'FAM138A', 'OR4F5', 'AL627309.1', 'AL627309.3',\n",
       "       'AL627309.2', 'AL627309.4', 'AL732372.1', 'OR4F29', 'AC114498.1',\n",
       "       ...\n",
       "       'AC007325.2', 'BX072566.1', 'AL354822.1', 'AC023491.2', 'AC004556.1',\n",
       "       'AC233755.2', 'AC233755.1', 'AC240274.1', 'AC213203.1', 'FAM231C'],\n",
       "      dtype='object', length=33538)"
      ]
     },
     "execution_count": 338,
     "metadata": {},
     "output_type": "execute_result"
    }
   ],
   "source": [
    "Il1b_mean.index"
   ]
  },
  {
   "cell_type": "code",
   "execution_count": 339,
   "id": "c96636bb-28ee-4fa0-8bf9-e24aceeaf88c",
   "metadata": {
    "tags": []
   },
   "outputs": [
    {
     "data": {
      "text/html": [
       "<div>\n",
       "<style scoped>\n",
       "    .dataframe tbody tr th:only-of-type {\n",
       "        vertical-align: middle;\n",
       "    }\n",
       "\n",
       "    .dataframe tbody tr th {\n",
       "        vertical-align: top;\n",
       "    }\n",
       "\n",
       "    .dataframe thead th {\n",
       "        text-align: right;\n",
       "    }\n",
       "</style>\n",
       "<table border=\"1\" class=\"dataframe\">\n",
       "  <thead>\n",
       "    <tr style=\"text-align: right;\">\n",
       "      <th></th>\n",
       "      <th>PB00001-01</th>\n",
       "      <th>PB00002-01</th>\n",
       "      <th>PB00003-01</th>\n",
       "      <th>PB00004-01</th>\n",
       "      <th>PB00006-01</th>\n",
       "      <th>PB00010-02</th>\n",
       "      <th>PB00012-01</th>\n",
       "      <th>PB00014-01</th>\n",
       "      <th>PB00015-01</th>\n",
       "      <th>PB00016-01</th>\n",
       "      <th>...</th>\n",
       "      <th>PB00592-01</th>\n",
       "      <th>PB00599-01</th>\n",
       "      <th>PB00600-01</th>\n",
       "      <th>PB00602-01</th>\n",
       "      <th>PB00621-01</th>\n",
       "      <th>PB00623-01</th>\n",
       "      <th>PB00625-02</th>\n",
       "      <th>PB00645-01</th>\n",
       "      <th>PB01425-01</th>\n",
       "      <th>PB01446-01</th>\n",
       "    </tr>\n",
       "  </thead>\n",
       "  <tbody>\n",
       "    <tr>\n",
       "      <th>MIR1302-2HG</th>\n",
       "      <td>0.0</td>\n",
       "      <td>0.0</td>\n",
       "      <td>0.0</td>\n",
       "      <td>0.0</td>\n",
       "      <td>0.0</td>\n",
       "      <td>0.0</td>\n",
       "      <td>0.0</td>\n",
       "      <td>0.0</td>\n",
       "      <td>0.0</td>\n",
       "      <td>0.0</td>\n",
       "      <td>...</td>\n",
       "      <td>0.0</td>\n",
       "      <td>0.0</td>\n",
       "      <td>0.0</td>\n",
       "      <td>0.0</td>\n",
       "      <td>0.0</td>\n",
       "      <td>0.0</td>\n",
       "      <td>0.0</td>\n",
       "      <td>0.0</td>\n",
       "      <td>0.0</td>\n",
       "      <td>0.0</td>\n",
       "    </tr>\n",
       "    <tr>\n",
       "      <th>FAM138A</th>\n",
       "      <td>0.0</td>\n",
       "      <td>0.0</td>\n",
       "      <td>0.0</td>\n",
       "      <td>0.0</td>\n",
       "      <td>0.0</td>\n",
       "      <td>0.0</td>\n",
       "      <td>0.0</td>\n",
       "      <td>0.0</td>\n",
       "      <td>0.0</td>\n",
       "      <td>0.0</td>\n",
       "      <td>...</td>\n",
       "      <td>0.0</td>\n",
       "      <td>0.0</td>\n",
       "      <td>0.0</td>\n",
       "      <td>0.0</td>\n",
       "      <td>0.0</td>\n",
       "      <td>0.0</td>\n",
       "      <td>0.0</td>\n",
       "      <td>0.0</td>\n",
       "      <td>0.0</td>\n",
       "      <td>0.0</td>\n",
       "    </tr>\n",
       "  </tbody>\n",
       "</table>\n",
       "<p>2 rows × 92 columns</p>\n",
       "</div>"
      ],
      "text/plain": [
       "             PB00001-01  PB00002-01  PB00003-01  PB00004-01  PB00006-01  \\\n",
       "MIR1302-2HG         0.0         0.0         0.0         0.0         0.0   \n",
       "FAM138A             0.0         0.0         0.0         0.0         0.0   \n",
       "\n",
       "             PB00010-02  PB00012-01  PB00014-01  PB00015-01  PB00016-01  ...  \\\n",
       "MIR1302-2HG         0.0         0.0         0.0         0.0         0.0  ...   \n",
       "FAM138A             0.0         0.0         0.0         0.0         0.0  ...   \n",
       "\n",
       "             PB00592-01  PB00599-01  PB00600-01  PB00602-01  PB00621-01  \\\n",
       "MIR1302-2HG         0.0         0.0         0.0         0.0         0.0   \n",
       "FAM138A             0.0         0.0         0.0         0.0         0.0   \n",
       "\n",
       "             PB00623-01  PB00625-02  PB00645-01  PB01425-01  PB01446-01  \n",
       "MIR1302-2HG         0.0         0.0         0.0         0.0         0.0  \n",
       "FAM138A             0.0         0.0         0.0         0.0         0.0  \n",
       "\n",
       "[2 rows x 92 columns]"
      ]
     },
     "execution_count": 339,
     "metadata": {},
     "output_type": "execute_result"
    }
   ],
   "source": [
    "Il1b_mean.head(n=2)"
   ]
  },
  {
   "cell_type": "code",
   "execution_count": 340,
   "id": "6072f863-3bff-41d8-ac4c-8008eb74cc38",
   "metadata": {
    "tags": []
   },
   "outputs": [
    {
     "data": {
      "text/html": [
       "<div>\n",
       "<style scoped>\n",
       "    .dataframe tbody tr th:only-of-type {\n",
       "        vertical-align: middle;\n",
       "    }\n",
       "\n",
       "    .dataframe tbody tr th {\n",
       "        vertical-align: top;\n",
       "    }\n",
       "\n",
       "    .dataframe thead th {\n",
       "        text-align: right;\n",
       "    }\n",
       "</style>\n",
       "<table border=\"1\" class=\"dataframe\">\n",
       "  <thead>\n",
       "    <tr style=\"text-align: right;\">\n",
       "      <th></th>\n",
       "      <th>PB00001-01</th>\n",
       "      <th>PB00002-01</th>\n",
       "      <th>PB00003-01</th>\n",
       "      <th>PB00004-01</th>\n",
       "      <th>PB00006-01</th>\n",
       "      <th>PB00010-02</th>\n",
       "      <th>PB00012-01</th>\n",
       "      <th>PB00014-01</th>\n",
       "      <th>PB00015-01</th>\n",
       "      <th>PB00016-01</th>\n",
       "      <th>...</th>\n",
       "      <th>PB00592-01</th>\n",
       "      <th>PB00599-01</th>\n",
       "      <th>PB00600-01</th>\n",
       "      <th>PB00602-01</th>\n",
       "      <th>PB00621-01</th>\n",
       "      <th>PB00623-01</th>\n",
       "      <th>PB00625-02</th>\n",
       "      <th>PB00645-01</th>\n",
       "      <th>PB01425-01</th>\n",
       "      <th>PB01446-01</th>\n",
       "    </tr>\n",
       "  </thead>\n",
       "  <tbody>\n",
       "    <tr>\n",
       "      <th>XIST</th>\n",
       "      <td>1.317741</td>\n",
       "      <td>0.0</td>\n",
       "      <td>1.017979</td>\n",
       "      <td>0.123907</td>\n",
       "      <td>1.112311</td>\n",
       "      <td>0.0</td>\n",
       "      <td>1.325914</td>\n",
       "      <td>0.0</td>\n",
       "      <td>0.027976</td>\n",
       "      <td>1.182051</td>\n",
       "      <td>...</td>\n",
       "      <td>0.0</td>\n",
       "      <td>1.269727</td>\n",
       "      <td>0.029289</td>\n",
       "      <td>1.267816</td>\n",
       "      <td>1.456682</td>\n",
       "      <td>0.012763</td>\n",
       "      <td>0.0</td>\n",
       "      <td>1.459696</td>\n",
       "      <td>1.444735</td>\n",
       "      <td>0.0</td>\n",
       "    </tr>\n",
       "  </tbody>\n",
       "</table>\n",
       "<p>1 rows × 92 columns</p>\n",
       "</div>"
      ],
      "text/plain": [
       "      PB00001-01  PB00002-01  PB00003-01  PB00004-01  PB00006-01  PB00010-02  \\\n",
       "XIST    1.317741         0.0    1.017979    0.123907    1.112311         0.0   \n",
       "\n",
       "      PB00012-01  PB00014-01  PB00015-01  PB00016-01  ...  PB00592-01  \\\n",
       "XIST    1.325914         0.0    0.027976    1.182051  ...         0.0   \n",
       "\n",
       "      PB00599-01  PB00600-01  PB00602-01  PB00621-01  PB00623-01  PB00625-02  \\\n",
       "XIST    1.269727    0.029289    1.267816    1.456682    0.012763         0.0   \n",
       "\n",
       "      PB00645-01  PB01425-01  PB01446-01  \n",
       "XIST    1.459696    1.444735         0.0  \n",
       "\n",
       "[1 rows x 92 columns]"
      ]
     },
     "execution_count": 340,
     "metadata": {},
     "output_type": "execute_result"
    }
   ],
   "source": [
    "Il1b_mean[Il1b_mean.index=='XIST']"
   ]
  },
  {
   "cell_type": "code",
   "execution_count": 341,
   "id": "be28bff0-70ef-4bde-80b4-8ea124e67fe4",
   "metadata": {
    "tags": []
   },
   "outputs": [],
   "source": [
    "# Save DataFrame to CSV\n",
    "Il1b_mean.to_csv('IL1B_CD14_mono_Heatmap_expression_matrix_unscaled_v2.csv')"
   ]
  },
  {
   "cell_type": "code",
   "execution_count": null,
   "id": "f625adb9-8440-43af-8314-fa927737975f",
   "metadata": {},
   "outputs": [],
   "source": []
  },
  {
   "cell_type": "markdown",
   "id": "4f268272-ad59-4d0b-a72a-b9a958f2fdfa",
   "metadata": {
    "jp-MarkdownHeadingCollapsed": true,
    "tags": []
   },
   "source": [
    "## ISG+ CD14 mono"
   ]
  },
  {
   "cell_type": "code",
   "execution_count": 275,
   "id": "ec64279c-c20c-4c4b-8b4b-0e284b476700",
   "metadata": {
    "tags": []
   },
   "outputs": [
    {
     "data": {
      "text/plain": [
       "AnnData object with n_obs × n_vars = 46674 × 1612\n",
       "    obs: 'barcodes', 'batch_id', 'cell_name', 'cell_uuid', 'chip_id', 'hto_barcode', 'hto_category', 'n_genes', 'n_mito_umis', 'n_reads', 'n_umis', 'original_barcodes', 'pbmc_sample_id', 'pool_id', 'seurat_pbmc_type', 'seurat_pbmc_type_score', 'umap_1', 'umap_2', 'well_id', 'subject.biologicalSex', 'subject.ethnicity', 'subject.partnerCode', 'subject.race', 'subject.subjectGuid', 'cohort.cohortGuid', 'sample.visitName', 'sample.visitDetails', 'subject.birthYear', 'CMV.IgG.Serology.Result.Interpretation', 'BMI', 'predicted_doublet', 'doublet_score', 'AIFI_L1', 'AIFI_L2', 'AIFI_L3', 'AIFI_L3.5', 'n_genes_by_counts', 'log1p_n_genes_by_counts', 'total_counts', 'log1p_total_counts', 'pct_counts_in_top_50_genes', 'pct_counts_in_top_100_genes', 'pct_counts_in_top_200_genes', 'pct_counts_in_top_500_genes', 'total_counts_mito', 'log1p_total_counts_mito', 'pct_counts_mito', 'leiden_resolution_0.5', 'leiden_resolution_1', 'leiden_resolution_1.5', 'leiden_resolution_2'\n",
       "    var: 'highly_variable', 'means', 'dispersions', 'dispersions_norm', 'mean', 'std'\n",
       "    uns: 'hvg', 'log1p', 'neighbors', 'pca', 'umap'\n",
       "    obsm: 'X_pca', 'X_pca_harmony', 'X_umap'\n",
       "    varm: 'PCs'\n",
       "    layers: 'counts'\n",
       "    obsp: 'connectivities', 'distances'"
      ]
     },
     "execution_count": 275,
     "metadata": {},
     "output_type": "execute_result"
    }
   ],
   "source": [
    "adata = sc.read ('/home/jupyter/Myeloid_cells/files/ISG_CD14_Mono_ONLY_FluYr1D0_processed_04232024.h5ad')\n",
    "adata"
   ]
  },
  {
   "cell_type": "code",
   "execution_count": 276,
   "id": "96815558-d8e1-4dc9-837f-f63c9dbaa3b7",
   "metadata": {
    "tags": []
   },
   "outputs": [
    {
     "data": {
      "text/plain": [
       "array([[-0.14978677, -1.4712468 , -0.16275787, ...,  1.2290059 ,\n",
       "        -0.4248307 , -0.18418956],\n",
       "       [-0.14978677,  0.25649658, -0.16275787, ..., -1.6664636 ,\n",
       "         2.6452103 , -0.18418956],\n",
       "       [-0.14978677,  2.0311534 , -0.16275787, ...,  0.76805377,\n",
       "        -0.4248307 , -0.18418956],\n",
       "       ...,\n",
       "       [-0.14978677,  0.00954417, -0.16275787, ...,  0.516612  ,\n",
       "         2.120113  , -0.18418956],\n",
       "       [-0.14978677,  0.45853797, -0.16275787, ..., -0.8786796 ,\n",
       "         1.2826743 , -0.18418956],\n",
       "       [-0.14978677,  1.2236404 , -0.16275787, ..., -0.04266801,\n",
       "        -0.4248307 , -0.18418956]], dtype=float32)"
      ]
     },
     "execution_count": 276,
     "metadata": {},
     "output_type": "execute_result"
    }
   ],
   "source": [
    "adata.X"
   ]
  },
  {
   "cell_type": "code",
   "execution_count": 210,
   "id": "7f7dd7d6-5056-4e8b-aca3-dc103385e6ad",
   "metadata": {
    "tags": []
   },
   "outputs": [],
   "source": [
    "#adata_filt.obs.rename(columns={\"pbmc_sample_id\": \"pbmc_sample_id\"}, inplace=True)"
   ]
  },
  {
   "cell_type": "code",
   "execution_count": 211,
   "id": "1cddaf1f-5f12-46f1-9c0a-e21e3ce7f461",
   "metadata": {
    "tags": []
   },
   "outputs": [],
   "source": [
    "#adata_filt.obs.rename(columns={\"CMV.IgG.Serology.Result.Interpretation\": \"CMV\"}, inplace=True)"
   ]
  },
  {
   "cell_type": "code",
   "execution_count": 212,
   "id": "1a36d968-9f9a-4024-a9ef-7ea04b38ca56",
   "metadata": {
    "tags": []
   },
   "outputs": [],
   "source": [
    "#adata_filt.obs.rename(columns={\"cohort.cohortGuid\": \"Age\"}, inplace=True)"
   ]
  },
  {
   "cell_type": "code",
   "execution_count": 223,
   "id": "80f2221e-5708-4b63-bbc8-c490ff624633",
   "metadata": {
    "tags": []
   },
   "outputs": [],
   "source": [
    "# import pandas as pd\n",
    "\n",
    "# # Assuming adata.X is your expression matrix\n",
    "# # Assuming adata has row names and column names\n",
    "\n",
    "# # Convert adata.X to a DataFrame\n",
    "# expression_df = pd.DataFrame(adata.X, index=adata.obs.index, columns=adata.var.index)\n",
    "\n",
    "# # Save DataFrame to CSV\n",
    "# expression_df.to_csv('Heatmap_expression_matrix_v1.csv')\n"
   ]
  },
  {
   "cell_type": "code",
   "execution_count": 225,
   "id": "d4a85c43-e6bf-4676-942c-4080e9cfc91a",
   "metadata": {
    "collapsed": true,
    "jupyter": {
     "outputs_hidden": true
    },
    "tags": []
   },
   "outputs": [
    {
     "data": {
      "text/html": [
       "<div>\n",
       "<style scoped>\n",
       "    .dataframe tbody tr th:only-of-type {\n",
       "        vertical-align: middle;\n",
       "    }\n",
       "\n",
       "    .dataframe tbody tr th {\n",
       "        vertical-align: top;\n",
       "    }\n",
       "\n",
       "    .dataframe thead th {\n",
       "        text-align: right;\n",
       "    }\n",
       "</style>\n",
       "<table border=\"1\" class=\"dataframe\">\n",
       "  <thead>\n",
       "    <tr style=\"text-align: right;\">\n",
       "      <th></th>\n",
       "      <th>FAM41C</th>\n",
       "      <th>KLHL17</th>\n",
       "      <th>HES4</th>\n",
       "      <th>ISG15</th>\n",
       "      <th>C1orf159</th>\n",
       "      <th>C1QTNF12</th>\n",
       "      <th>AL162741.1</th>\n",
       "      <th>SCNN1D</th>\n",
       "      <th>ACAP3</th>\n",
       "      <th>MXRA8</th>\n",
       "      <th>...</th>\n",
       "      <th>MT-ND1</th>\n",
       "      <th>MT-ND2</th>\n",
       "      <th>MT-CO2</th>\n",
       "      <th>MT-ATP6</th>\n",
       "      <th>MT-CO3</th>\n",
       "      <th>MT-ND3</th>\n",
       "      <th>MT-ND4L</th>\n",
       "      <th>MT-ND4</th>\n",
       "      <th>MT-CYB</th>\n",
       "      <th>AC240274.1</th>\n",
       "    </tr>\n",
       "    <tr>\n",
       "      <th>barcodes</th>\n",
       "      <th></th>\n",
       "      <th></th>\n",
       "      <th></th>\n",
       "      <th></th>\n",
       "      <th></th>\n",
       "      <th></th>\n",
       "      <th></th>\n",
       "      <th></th>\n",
       "      <th></th>\n",
       "      <th></th>\n",
       "      <th></th>\n",
       "      <th></th>\n",
       "      <th></th>\n",
       "      <th></th>\n",
       "      <th></th>\n",
       "      <th></th>\n",
       "      <th></th>\n",
       "      <th></th>\n",
       "      <th></th>\n",
       "      <th></th>\n",
       "      <th></th>\n",
       "    </tr>\n",
       "  </thead>\n",
       "  <tbody>\n",
       "    <tr>\n",
       "      <th>cfb4162a48b611ea8957bafe6d70929e</th>\n",
       "      <td>-0.132573</td>\n",
       "      <td>-0.113268</td>\n",
       "      <td>-0.192298</td>\n",
       "      <td>-0.661028</td>\n",
       "      <td>-0.176591</td>\n",
       "      <td>-0.077332</td>\n",
       "      <td>-0.05456</td>\n",
       "      <td>-0.053848</td>\n",
       "      <td>-0.328429</td>\n",
       "      <td>-0.022134</td>\n",
       "      <td>...</td>\n",
       "      <td>1.325860</td>\n",
       "      <td>0.731614</td>\n",
       "      <td>0.836299</td>\n",
       "      <td>1.340946</td>\n",
       "      <td>0.742673</td>\n",
       "      <td>1.439619</td>\n",
       "      <td>0.713853</td>\n",
       "      <td>1.086478</td>\n",
       "      <td>-0.067385</td>\n",
       "      <td>-0.156928</td>\n",
       "    </tr>\n",
       "    <tr>\n",
       "      <th>70ab258848b611eaa65d9e7d578d66f2</th>\n",
       "      <td>-0.132573</td>\n",
       "      <td>-0.113268</td>\n",
       "      <td>-0.192298</td>\n",
       "      <td>-0.661028</td>\n",
       "      <td>4.546874</td>\n",
       "      <td>-0.077332</td>\n",
       "      <td>-0.05456</td>\n",
       "      <td>-0.053848</td>\n",
       "      <td>-0.328429</td>\n",
       "      <td>-0.022134</td>\n",
       "      <td>...</td>\n",
       "      <td>-1.189309</td>\n",
       "      <td>-0.481571</td>\n",
       "      <td>-0.535567</td>\n",
       "      <td>-0.834956</td>\n",
       "      <td>-0.465425</td>\n",
       "      <td>-1.024485</td>\n",
       "      <td>0.202755</td>\n",
       "      <td>-0.327291</td>\n",
       "      <td>-0.668048</td>\n",
       "      <td>-0.156928</td>\n",
       "    </tr>\n",
       "    <tr>\n",
       "      <th>70acf29648b611eaa65d9e7d578d66f2</th>\n",
       "      <td>-0.132573</td>\n",
       "      <td>-0.113268</td>\n",
       "      <td>-0.192298</td>\n",
       "      <td>1.294230</td>\n",
       "      <td>-0.176591</td>\n",
       "      <td>-0.077332</td>\n",
       "      <td>-0.05456</td>\n",
       "      <td>-0.053848</td>\n",
       "      <td>-0.328429</td>\n",
       "      <td>-0.022134</td>\n",
       "      <td>...</td>\n",
       "      <td>0.252301</td>\n",
       "      <td>-0.473989</td>\n",
       "      <td>0.144703</td>\n",
       "      <td>0.668496</td>\n",
       "      <td>-0.065128</td>\n",
       "      <td>-0.019105</td>\n",
       "      <td>-0.418068</td>\n",
       "      <td>0.751750</td>\n",
       "      <td>0.169085</td>\n",
       "      <td>-0.156928</td>\n",
       "    </tr>\n",
       "    <tr>\n",
       "      <th>70d2b34648b611eaa65d9e7d578d66f2</th>\n",
       "      <td>-0.132573</td>\n",
       "      <td>-0.113268</td>\n",
       "      <td>-0.192298</td>\n",
       "      <td>-0.661028</td>\n",
       "      <td>-0.176591</td>\n",
       "      <td>-0.077332</td>\n",
       "      <td>-0.05456</td>\n",
       "      <td>-0.053848</td>\n",
       "      <td>-0.328429</td>\n",
       "      <td>-0.022134</td>\n",
       "      <td>...</td>\n",
       "      <td>1.358938</td>\n",
       "      <td>-0.032474</td>\n",
       "      <td>-1.037922</td>\n",
       "      <td>0.739538</td>\n",
       "      <td>-0.204768</td>\n",
       "      <td>0.471638</td>\n",
       "      <td>0.094861</td>\n",
       "      <td>-0.397821</td>\n",
       "      <td>-1.446746</td>\n",
       "      <td>-0.156928</td>\n",
       "    </tr>\n",
       "    <tr>\n",
       "      <th>70d844f048b611eaa65d9e7d578d66f2</th>\n",
       "      <td>-0.132573</td>\n",
       "      <td>-0.113268</td>\n",
       "      <td>-0.192298</td>\n",
       "      <td>-0.661028</td>\n",
       "      <td>-0.176591</td>\n",
       "      <td>-0.077332</td>\n",
       "      <td>-0.05456</td>\n",
       "      <td>-0.053848</td>\n",
       "      <td>-0.328429</td>\n",
       "      <td>-0.022134</td>\n",
       "      <td>...</td>\n",
       "      <td>-0.771742</td>\n",
       "      <td>-2.176364</td>\n",
       "      <td>-0.749368</td>\n",
       "      <td>-0.869467</td>\n",
       "      <td>-1.302776</td>\n",
       "      <td>-0.020604</td>\n",
       "      <td>-1.730623</td>\n",
       "      <td>-0.394766</td>\n",
       "      <td>-1.223874</td>\n",
       "      <td>-0.156928</td>\n",
       "    </tr>\n",
       "    <tr>\n",
       "      <th>...</th>\n",
       "      <td>...</td>\n",
       "      <td>...</td>\n",
       "      <td>...</td>\n",
       "      <td>...</td>\n",
       "      <td>...</td>\n",
       "      <td>...</td>\n",
       "      <td>...</td>\n",
       "      <td>...</td>\n",
       "      <td>...</td>\n",
       "      <td>...</td>\n",
       "      <td>...</td>\n",
       "      <td>...</td>\n",
       "      <td>...</td>\n",
       "      <td>...</td>\n",
       "      <td>...</td>\n",
       "      <td>...</td>\n",
       "      <td>...</td>\n",
       "      <td>...</td>\n",
       "      <td>...</td>\n",
       "      <td>...</td>\n",
       "      <td>...</td>\n",
       "    </tr>\n",
       "    <tr>\n",
       "      <th>4fcaf786286511ec8c0d4aaa4b9002e8</th>\n",
       "      <td>-0.132573</td>\n",
       "      <td>-0.113268</td>\n",
       "      <td>-0.192298</td>\n",
       "      <td>1.622779</td>\n",
       "      <td>-0.176591</td>\n",
       "      <td>-0.077332</td>\n",
       "      <td>-0.05456</td>\n",
       "      <td>-0.053848</td>\n",
       "      <td>-0.328429</td>\n",
       "      <td>-0.022134</td>\n",
       "      <td>...</td>\n",
       "      <td>0.463961</td>\n",
       "      <td>0.536566</td>\n",
       "      <td>-1.310432</td>\n",
       "      <td>1.173958</td>\n",
       "      <td>0.229070</td>\n",
       "      <td>0.430827</td>\n",
       "      <td>0.022275</td>\n",
       "      <td>0.371624</td>\n",
       "      <td>0.106982</td>\n",
       "      <td>-0.156928</td>\n",
       "    </tr>\n",
       "    <tr>\n",
       "      <th>ce432b48286411eca744faae388e9f17</th>\n",
       "      <td>-0.132573</td>\n",
       "      <td>-0.113268</td>\n",
       "      <td>-0.192298</td>\n",
       "      <td>1.051977</td>\n",
       "      <td>-0.176591</td>\n",
       "      <td>-0.077332</td>\n",
       "      <td>-0.05456</td>\n",
       "      <td>-0.053848</td>\n",
       "      <td>-0.328429</td>\n",
       "      <td>-0.022134</td>\n",
       "      <td>...</td>\n",
       "      <td>1.198795</td>\n",
       "      <td>0.391518</td>\n",
       "      <td>0.622304</td>\n",
       "      <td>1.493538</td>\n",
       "      <td>0.150514</td>\n",
       "      <td>1.332110</td>\n",
       "      <td>-0.063872</td>\n",
       "      <td>0.706557</td>\n",
       "      <td>0.251596</td>\n",
       "      <td>-0.156928</td>\n",
       "    </tr>\n",
       "    <tr>\n",
       "      <th>fbe4aa18286411ecb1698ec288c6fba6</th>\n",
       "      <td>-0.132573</td>\n",
       "      <td>-0.113268</td>\n",
       "      <td>-0.192298</td>\n",
       "      <td>2.229014</td>\n",
       "      <td>-0.176591</td>\n",
       "      <td>-0.077332</td>\n",
       "      <td>-0.05456</td>\n",
       "      <td>-0.053848</td>\n",
       "      <td>-0.328429</td>\n",
       "      <td>-0.022134</td>\n",
       "      <td>...</td>\n",
       "      <td>0.958758</td>\n",
       "      <td>1.280242</td>\n",
       "      <td>0.750380</td>\n",
       "      <td>0.253745</td>\n",
       "      <td>0.563532</td>\n",
       "      <td>1.755917</td>\n",
       "      <td>0.487581</td>\n",
       "      <td>0.843975</td>\n",
       "      <td>0.123364</td>\n",
       "      <td>-0.156928</td>\n",
       "    </tr>\n",
       "    <tr>\n",
       "      <th>03c5255a286511ec8289ca5980196c9c</th>\n",
       "      <td>-0.132573</td>\n",
       "      <td>-0.113268</td>\n",
       "      <td>-0.192298</td>\n",
       "      <td>1.707325</td>\n",
       "      <td>-0.176591</td>\n",
       "      <td>-0.077332</td>\n",
       "      <td>-0.05456</td>\n",
       "      <td>-0.053848</td>\n",
       "      <td>-0.328429</td>\n",
       "      <td>-0.022134</td>\n",
       "      <td>...</td>\n",
       "      <td>0.786495</td>\n",
       "      <td>0.486685</td>\n",
       "      <td>0.126109</td>\n",
       "      <td>1.119277</td>\n",
       "      <td>-0.492053</td>\n",
       "      <td>1.279174</td>\n",
       "      <td>-0.806702</td>\n",
       "      <td>0.384777</td>\n",
       "      <td>0.369796</td>\n",
       "      <td>-0.156928</td>\n",
       "    </tr>\n",
       "    <tr>\n",
       "      <th>91f8844a286311ecabc39e0459bddc54</th>\n",
       "      <td>-0.132573</td>\n",
       "      <td>-0.113268</td>\n",
       "      <td>-0.192298</td>\n",
       "      <td>3.324033</td>\n",
       "      <td>-0.176591</td>\n",
       "      <td>-0.077332</td>\n",
       "      <td>-0.05456</td>\n",
       "      <td>-0.053848</td>\n",
       "      <td>-0.328429</td>\n",
       "      <td>-0.022134</td>\n",
       "      <td>...</td>\n",
       "      <td>-0.122227</td>\n",
       "      <td>0.093515</td>\n",
       "      <td>-0.260421</td>\n",
       "      <td>0.857848</td>\n",
       "      <td>-0.560291</td>\n",
       "      <td>0.419610</td>\n",
       "      <td>-0.415456</td>\n",
       "      <td>0.673279</td>\n",
       "      <td>-0.344862</td>\n",
       "      <td>-0.156928</td>\n",
       "    </tr>\n",
       "  </tbody>\n",
       "</table>\n",
       "<p>2679 rows × 3000 columns</p>\n",
       "</div>"
      ],
      "text/plain": [
       "                                    FAM41C    KLHL17      HES4     ISG15  \\\n",
       "barcodes                                                                   \n",
       "cfb4162a48b611ea8957bafe6d70929e -0.132573 -0.113268 -0.192298 -0.661028   \n",
       "70ab258848b611eaa65d9e7d578d66f2 -0.132573 -0.113268 -0.192298 -0.661028   \n",
       "70acf29648b611eaa65d9e7d578d66f2 -0.132573 -0.113268 -0.192298  1.294230   \n",
       "70d2b34648b611eaa65d9e7d578d66f2 -0.132573 -0.113268 -0.192298 -0.661028   \n",
       "70d844f048b611eaa65d9e7d578d66f2 -0.132573 -0.113268 -0.192298 -0.661028   \n",
       "...                                    ...       ...       ...       ...   \n",
       "4fcaf786286511ec8c0d4aaa4b9002e8 -0.132573 -0.113268 -0.192298  1.622779   \n",
       "ce432b48286411eca744faae388e9f17 -0.132573 -0.113268 -0.192298  1.051977   \n",
       "fbe4aa18286411ecb1698ec288c6fba6 -0.132573 -0.113268 -0.192298  2.229014   \n",
       "03c5255a286511ec8289ca5980196c9c -0.132573 -0.113268 -0.192298  1.707325   \n",
       "91f8844a286311ecabc39e0459bddc54 -0.132573 -0.113268 -0.192298  3.324033   \n",
       "\n",
       "                                  C1orf159  C1QTNF12  AL162741.1    SCNN1D  \\\n",
       "barcodes                                                                     \n",
       "cfb4162a48b611ea8957bafe6d70929e -0.176591 -0.077332    -0.05456 -0.053848   \n",
       "70ab258848b611eaa65d9e7d578d66f2  4.546874 -0.077332    -0.05456 -0.053848   \n",
       "70acf29648b611eaa65d9e7d578d66f2 -0.176591 -0.077332    -0.05456 -0.053848   \n",
       "70d2b34648b611eaa65d9e7d578d66f2 -0.176591 -0.077332    -0.05456 -0.053848   \n",
       "70d844f048b611eaa65d9e7d578d66f2 -0.176591 -0.077332    -0.05456 -0.053848   \n",
       "...                                    ...       ...         ...       ...   \n",
       "4fcaf786286511ec8c0d4aaa4b9002e8 -0.176591 -0.077332    -0.05456 -0.053848   \n",
       "ce432b48286411eca744faae388e9f17 -0.176591 -0.077332    -0.05456 -0.053848   \n",
       "fbe4aa18286411ecb1698ec288c6fba6 -0.176591 -0.077332    -0.05456 -0.053848   \n",
       "03c5255a286511ec8289ca5980196c9c -0.176591 -0.077332    -0.05456 -0.053848   \n",
       "91f8844a286311ecabc39e0459bddc54 -0.176591 -0.077332    -0.05456 -0.053848   \n",
       "\n",
       "                                     ACAP3     MXRA8  ...    MT-ND1    MT-ND2  \\\n",
       "barcodes                                              ...                       \n",
       "cfb4162a48b611ea8957bafe6d70929e -0.328429 -0.022134  ...  1.325860  0.731614   \n",
       "70ab258848b611eaa65d9e7d578d66f2 -0.328429 -0.022134  ... -1.189309 -0.481571   \n",
       "70acf29648b611eaa65d9e7d578d66f2 -0.328429 -0.022134  ...  0.252301 -0.473989   \n",
       "70d2b34648b611eaa65d9e7d578d66f2 -0.328429 -0.022134  ...  1.358938 -0.032474   \n",
       "70d844f048b611eaa65d9e7d578d66f2 -0.328429 -0.022134  ... -0.771742 -2.176364   \n",
       "...                                    ...       ...  ...       ...       ...   \n",
       "4fcaf786286511ec8c0d4aaa4b9002e8 -0.328429 -0.022134  ...  0.463961  0.536566   \n",
       "ce432b48286411eca744faae388e9f17 -0.328429 -0.022134  ...  1.198795  0.391518   \n",
       "fbe4aa18286411ecb1698ec288c6fba6 -0.328429 -0.022134  ...  0.958758  1.280242   \n",
       "03c5255a286511ec8289ca5980196c9c -0.328429 -0.022134  ...  0.786495  0.486685   \n",
       "91f8844a286311ecabc39e0459bddc54 -0.328429 -0.022134  ... -0.122227  0.093515   \n",
       "\n",
       "                                    MT-CO2   MT-ATP6    MT-CO3    MT-ND3  \\\n",
       "barcodes                                                                   \n",
       "cfb4162a48b611ea8957bafe6d70929e  0.836299  1.340946  0.742673  1.439619   \n",
       "70ab258848b611eaa65d9e7d578d66f2 -0.535567 -0.834956 -0.465425 -1.024485   \n",
       "70acf29648b611eaa65d9e7d578d66f2  0.144703  0.668496 -0.065128 -0.019105   \n",
       "70d2b34648b611eaa65d9e7d578d66f2 -1.037922  0.739538 -0.204768  0.471638   \n",
       "70d844f048b611eaa65d9e7d578d66f2 -0.749368 -0.869467 -1.302776 -0.020604   \n",
       "...                                    ...       ...       ...       ...   \n",
       "4fcaf786286511ec8c0d4aaa4b9002e8 -1.310432  1.173958  0.229070  0.430827   \n",
       "ce432b48286411eca744faae388e9f17  0.622304  1.493538  0.150514  1.332110   \n",
       "fbe4aa18286411ecb1698ec288c6fba6  0.750380  0.253745  0.563532  1.755917   \n",
       "03c5255a286511ec8289ca5980196c9c  0.126109  1.119277 -0.492053  1.279174   \n",
       "91f8844a286311ecabc39e0459bddc54 -0.260421  0.857848 -0.560291  0.419610   \n",
       "\n",
       "                                   MT-ND4L    MT-ND4    MT-CYB  AC240274.1  \n",
       "barcodes                                                                    \n",
       "cfb4162a48b611ea8957bafe6d70929e  0.713853  1.086478 -0.067385   -0.156928  \n",
       "70ab258848b611eaa65d9e7d578d66f2  0.202755 -0.327291 -0.668048   -0.156928  \n",
       "70acf29648b611eaa65d9e7d578d66f2 -0.418068  0.751750  0.169085   -0.156928  \n",
       "70d2b34648b611eaa65d9e7d578d66f2  0.094861 -0.397821 -1.446746   -0.156928  \n",
       "70d844f048b611eaa65d9e7d578d66f2 -1.730623 -0.394766 -1.223874   -0.156928  \n",
       "...                                    ...       ...       ...         ...  \n",
       "4fcaf786286511ec8c0d4aaa4b9002e8  0.022275  0.371624  0.106982   -0.156928  \n",
       "ce432b48286411eca744faae388e9f17 -0.063872  0.706557  0.251596   -0.156928  \n",
       "fbe4aa18286411ecb1698ec288c6fba6  0.487581  0.843975  0.123364   -0.156928  \n",
       "03c5255a286511ec8289ca5980196c9c -0.806702  0.384777  0.369796   -0.156928  \n",
       "91f8844a286311ecabc39e0459bddc54 -0.415456  0.673279 -0.344862   -0.156928  \n",
       "\n",
       "[2679 rows x 3000 columns]"
      ]
     },
     "execution_count": 225,
     "metadata": {},
     "output_type": "execute_result"
    }
   ],
   "source": [
    "# expression_df"
   ]
  },
  {
   "cell_type": "code",
   "execution_count": 214,
   "id": "159d97c4-2e2b-4a32-b22b-b095f0b1f0e4",
   "metadata": {
    "tags": []
   },
   "outputs": [],
   "source": [
    "#adata.obs['unique_ID'] = adata.obs['pbmc_sample_id'].str.cat (adata.obs['subject.biologicalSex'], sep = \"_\").str.cat (adata.obs['cohort.cohortGuid'], sep = \"_\")"
   ]
  },
  {
   "cell_type": "code",
   "execution_count": 215,
   "id": "5f0d644f-9a97-4007-a1a0-e87551b785b3",
   "metadata": {
    "tags": []
   },
   "outputs": [],
   "source": [
    "#adata.obs['unique_ID'] = adata.obs['pbmc_sample_id']"
   ]
  },
  {
   "cell_type": "code",
   "execution_count": null,
   "id": "cb3151df-3b1c-4b74-87ae-0123204b2bac",
   "metadata": {},
   "outputs": [],
   "source": []
  },
  {
   "cell_type": "code",
   "execution_count": 217,
   "id": "b400e10a-5a77-40b2-ab19-2660506596be",
   "metadata": {
    "tags": []
   },
   "outputs": [
    {
     "data": {
      "text/plain": [
       "['PB00001-01', 'PB00002-01', 'PB00003-01', 'PB00004-01', 'PB00006-01', ..., 'PB00623-01', 'PB00625-02', 'PB00645-01', 'PB01425-01', 'PB01446-01']\n",
       "Length: 92\n",
       "Categories (92, object): ['PB00001-01', 'PB00002-01', 'PB00003-01', 'PB00004-01', ..., 'PB00625-02', 'PB00645-01', 'PB01425-01', 'PB01446-01']"
      ]
     },
     "execution_count": 217,
     "metadata": {},
     "output_type": "execute_result"
    }
   ],
   "source": [
    "#adata.obs['unique_ID'].unique()"
   ]
  },
  {
   "cell_type": "code",
   "execution_count": 277,
   "id": "001e41eb-93c9-42df-b947-802703060796",
   "metadata": {
    "tags": []
   },
   "outputs": [
    {
     "data": {
      "text/plain": [
       "['ISG+ CD14 monocyte']\n",
       "Categories (1, object): ['ISG+ CD14 monocyte']"
      ]
     },
     "execution_count": 277,
     "metadata": {},
     "output_type": "execute_result"
    }
   ],
   "source": [
    "adata.obs['AIFI_L3'].unique()"
   ]
  },
  {
   "cell_type": "code",
   "execution_count": 278,
   "id": "ae859428-1411-4d4e-a84e-0d1053831d26",
   "metadata": {
    "tags": []
   },
   "outputs": [],
   "source": [
    "adata.raw = adata"
   ]
  },
  {
   "cell_type": "code",
   "execution_count": 279,
   "id": "31c6bc9e-5b83-48f2-9f23-f8cbd5df9295",
   "metadata": {
    "tags": []
   },
   "outputs": [
    {
     "name": "stderr",
     "output_type": "stream",
     "text": [
      "/tmp/ipykernel_501/2632454361.py:1: FutureWarning: The default of observed=False is deprecated and will be changed to True in a future version of pandas. Pass observed=False to retain current behavior or observed=True to adopt the future default and silence this warning.\n",
      "  grouped = adata.obs.groupby(['pbmc_sample_id'])\n"
     ]
    }
   ],
   "source": [
    "grouped = adata.obs.groupby(['pbmc_sample_id'])"
   ]
  },
  {
   "cell_type": "code",
   "execution_count": 280,
   "id": "7200991e-abb5-4455-8974-a22cf25ac018",
   "metadata": {
    "tags": []
   },
   "outputs": [],
   "source": [
    "#Not grouped\n",
    "\n",
    "def grouped_obs_mean(adata_filt, group_key, layer=None, gene_symbols=None):\n",
    "    if layer is not None:\n",
    "        getX = lambda x: x.layers[layer]\n",
    "    else:\n",
    "        getX = lambda x: x.X\n",
    "    if gene_symbols is not None:\n",
    "        new_idx = adata_filt.raw.var[idx]\n",
    "    else:\n",
    "        new_idx = adata_filt.raw.var_names\n",
    "    \n",
    "    grouped = adata_filt.obs.groupby(group_key)\n",
    "    \n",
    "    # Extract only pbmc_sample_id without additional alphabets\n",
    "    column_names = [group.split(':')[0] for group in grouped.groups.keys()]\n",
    "    \n",
    "    out = pd.DataFrame(\n",
    "        np.zeros((adata_filt.raw.shape[1], len(column_names)), dtype=np.float64),\n",
    "        columns=column_names,\n",
    "        index=adata_filt.raw.var_names\n",
    "    )\n",
    "    \n",
    "    for group, idx in grouped.indices.items():\n",
    "        X = getX(adata_filt.raw[idx])\n",
    "        out[group.split(':')[0]] = np.ravel(X.mean(axis=0, dtype=np.float64))\n",
    "    return out\n"
   ]
  },
  {
   "cell_type": "code",
   "execution_count": 281,
   "id": "2c917861-1ee4-4907-aea8-a1f166243f88",
   "metadata": {
    "tags": []
   },
   "outputs": [
    {
     "name": "stderr",
     "output_type": "stream",
     "text": [
      "/tmp/ipykernel_501/3548609660.py:13: FutureWarning: The default of observed=False is deprecated and will be changed to True in a future version of pandas. Pass observed=False to retain current behavior or observed=True to adopt the future default and silence this warning.\n",
      "  grouped = adata_filt.obs.groupby(group_key)\n"
     ]
    }
   ],
   "source": [
    "Il1b_mean = grouped_obs_mean(adata, ['pbmc_sample_id'])"
   ]
  },
  {
   "cell_type": "code",
   "execution_count": 282,
   "id": "d81f05f5-867b-4fb9-a876-9416c14f6550",
   "metadata": {
    "tags": []
   },
   "outputs": [
    {
     "data": {
      "text/plain": [
       "(1612, 92)"
      ]
     },
     "execution_count": 282,
     "metadata": {},
     "output_type": "execute_result"
    }
   ],
   "source": [
    "Il1b_mean.shape"
   ]
  },
  {
   "cell_type": "code",
   "execution_count": 283,
   "id": "130df8a2-66c1-456f-af3c-7d8dabe1d7e7",
   "metadata": {
    "tags": []
   },
   "outputs": [
    {
     "data": {
      "text/html": [
       "<div>\n",
       "<style scoped>\n",
       "    .dataframe tbody tr th:only-of-type {\n",
       "        vertical-align: middle;\n",
       "    }\n",
       "\n",
       "    .dataframe tbody tr th {\n",
       "        vertical-align: top;\n",
       "    }\n",
       "\n",
       "    .dataframe thead th {\n",
       "        text-align: right;\n",
       "    }\n",
       "</style>\n",
       "<table border=\"1\" class=\"dataframe\">\n",
       "  <thead>\n",
       "    <tr style=\"text-align: right;\">\n",
       "      <th></th>\n",
       "      <th>PB00001-01</th>\n",
       "      <th>PB00002-01</th>\n",
       "      <th>PB00003-01</th>\n",
       "      <th>PB00004-01</th>\n",
       "      <th>PB00006-01</th>\n",
       "      <th>PB00010-02</th>\n",
       "      <th>PB00012-01</th>\n",
       "      <th>PB00014-01</th>\n",
       "      <th>PB00015-01</th>\n",
       "      <th>PB00016-01</th>\n",
       "      <th>...</th>\n",
       "      <th>PB00592-01</th>\n",
       "      <th>PB00599-01</th>\n",
       "      <th>PB00600-01</th>\n",
       "      <th>PB00602-01</th>\n",
       "      <th>PB00621-01</th>\n",
       "      <th>PB00623-01</th>\n",
       "      <th>PB00625-02</th>\n",
       "      <th>PB00645-01</th>\n",
       "      <th>PB01425-01</th>\n",
       "      <th>PB01446-01</th>\n",
       "    </tr>\n",
       "  </thead>\n",
       "  <tbody>\n",
       "    <tr>\n",
       "      <th>HES4</th>\n",
       "      <td>0.047857</td>\n",
       "      <td>-0.095355</td>\n",
       "      <td>0.120315</td>\n",
       "      <td>0.240782</td>\n",
       "      <td>-0.089685</td>\n",
       "      <td>-0.030261</td>\n",
       "      <td>-0.059296</td>\n",
       "      <td>-0.094901</td>\n",
       "      <td>-0.078299</td>\n",
       "      <td>-0.103496</td>\n",
       "      <td>...</td>\n",
       "      <td>-0.063296</td>\n",
       "      <td>-0.070026</td>\n",
       "      <td>-0.072048</td>\n",
       "      <td>0.226031</td>\n",
       "      <td>-0.102861</td>\n",
       "      <td>-0.004380</td>\n",
       "      <td>-0.043411</td>\n",
       "      <td>-0.098103</td>\n",
       "      <td>-0.082818</td>\n",
       "      <td>-0.021975</td>\n",
       "    </tr>\n",
       "    <tr>\n",
       "      <th>ISG15</th>\n",
       "      <td>-0.098197</td>\n",
       "      <td>0.094200</td>\n",
       "      <td>0.133114</td>\n",
       "      <td>-0.265167</td>\n",
       "      <td>-0.395003</td>\n",
       "      <td>-0.299317</td>\n",
       "      <td>-0.461973</td>\n",
       "      <td>-0.127980</td>\n",
       "      <td>-0.086404</td>\n",
       "      <td>-0.025362</td>\n",
       "      <td>...</td>\n",
       "      <td>0.037253</td>\n",
       "      <td>-0.046934</td>\n",
       "      <td>-0.000302</td>\n",
       "      <td>-0.224304</td>\n",
       "      <td>0.115984</td>\n",
       "      <td>0.124265</td>\n",
       "      <td>-0.148597</td>\n",
       "      <td>-0.006258</td>\n",
       "      <td>0.264588</td>\n",
       "      <td>0.268559</td>\n",
       "    </tr>\n",
       "  </tbody>\n",
       "</table>\n",
       "<p>2 rows × 92 columns</p>\n",
       "</div>"
      ],
      "text/plain": [
       "       PB00001-01  PB00002-01  PB00003-01  PB00004-01  PB00006-01  PB00010-02  \\\n",
       "HES4     0.047857   -0.095355    0.120315    0.240782   -0.089685   -0.030261   \n",
       "ISG15   -0.098197    0.094200    0.133114   -0.265167   -0.395003   -0.299317   \n",
       "\n",
       "       PB00012-01  PB00014-01  PB00015-01  PB00016-01  ...  PB00592-01  \\\n",
       "HES4    -0.059296   -0.094901   -0.078299   -0.103496  ...   -0.063296   \n",
       "ISG15   -0.461973   -0.127980   -0.086404   -0.025362  ...    0.037253   \n",
       "\n",
       "       PB00599-01  PB00600-01  PB00602-01  PB00621-01  PB00623-01  PB00625-02  \\\n",
       "HES4    -0.070026   -0.072048    0.226031   -0.102861   -0.004380   -0.043411   \n",
       "ISG15   -0.046934   -0.000302   -0.224304    0.115984    0.124265   -0.148597   \n",
       "\n",
       "       PB00645-01  PB01425-01  PB01446-01  \n",
       "HES4    -0.098103   -0.082818   -0.021975  \n",
       "ISG15   -0.006258    0.264588    0.268559  \n",
       "\n",
       "[2 rows x 92 columns]"
      ]
     },
     "execution_count": 283,
     "metadata": {},
     "output_type": "execute_result"
    }
   ],
   "source": [
    "Il1b_mean.head(n=2)"
   ]
  },
  {
   "cell_type": "code",
   "execution_count": 259,
   "id": "677606e6-8e84-4012-8204-a95f797b19fc",
   "metadata": {
    "tags": []
   },
   "outputs": [
    {
     "data": {
      "text/html": [
       "<div>\n",
       "<style scoped>\n",
       "    .dataframe tbody tr th:only-of-type {\n",
       "        vertical-align: middle;\n",
       "    }\n",
       "\n",
       "    .dataframe tbody tr th {\n",
       "        vertical-align: top;\n",
       "    }\n",
       "\n",
       "    .dataframe thead th {\n",
       "        text-align: right;\n",
       "    }\n",
       "</style>\n",
       "<table border=\"1\" class=\"dataframe\">\n",
       "  <thead>\n",
       "    <tr style=\"text-align: right;\">\n",
       "      <th></th>\n",
       "      <th>PB00001-01</th>\n",
       "      <th>PB00002-01</th>\n",
       "      <th>PB00003-01</th>\n",
       "      <th>PB00004-01</th>\n",
       "      <th>PB00006-01</th>\n",
       "      <th>PB00010-02</th>\n",
       "      <th>PB00012-01</th>\n",
       "      <th>PB00014-01</th>\n",
       "      <th>PB00015-01</th>\n",
       "      <th>PB00016-01</th>\n",
       "      <th>...</th>\n",
       "      <th>PB00592-01</th>\n",
       "      <th>PB00599-01</th>\n",
       "      <th>PB00600-01</th>\n",
       "      <th>PB00602-01</th>\n",
       "      <th>PB00621-01</th>\n",
       "      <th>PB00623-01</th>\n",
       "      <th>PB00625-02</th>\n",
       "      <th>PB00645-01</th>\n",
       "      <th>PB01425-01</th>\n",
       "      <th>PB01446-01</th>\n",
       "    </tr>\n",
       "  </thead>\n",
       "  <tbody>\n",
       "    <tr>\n",
       "      <th>HES4</th>\n",
       "      <td>0.047857</td>\n",
       "      <td>-0.095355</td>\n",
       "      <td>0.120315</td>\n",
       "      <td>0.240782</td>\n",
       "      <td>-0.089685</td>\n",
       "      <td>-0.030261</td>\n",
       "      <td>-0.059296</td>\n",
       "      <td>-0.094901</td>\n",
       "      <td>-0.078299</td>\n",
       "      <td>-0.103496</td>\n",
       "      <td>...</td>\n",
       "      <td>-0.063296</td>\n",
       "      <td>-0.070026</td>\n",
       "      <td>-0.072048</td>\n",
       "      <td>0.226031</td>\n",
       "      <td>-0.102861</td>\n",
       "      <td>-0.004380</td>\n",
       "      <td>-0.043411</td>\n",
       "      <td>-0.098103</td>\n",
       "      <td>-0.082818</td>\n",
       "      <td>-0.021975</td>\n",
       "    </tr>\n",
       "    <tr>\n",
       "      <th>ISG15</th>\n",
       "      <td>-0.098197</td>\n",
       "      <td>0.094200</td>\n",
       "      <td>0.133114</td>\n",
       "      <td>-0.265167</td>\n",
       "      <td>-0.395003</td>\n",
       "      <td>-0.299317</td>\n",
       "      <td>-0.461973</td>\n",
       "      <td>-0.127980</td>\n",
       "      <td>-0.086404</td>\n",
       "      <td>-0.025362</td>\n",
       "      <td>...</td>\n",
       "      <td>0.037253</td>\n",
       "      <td>-0.046934</td>\n",
       "      <td>-0.000302</td>\n",
       "      <td>-0.224304</td>\n",
       "      <td>0.115984</td>\n",
       "      <td>0.124265</td>\n",
       "      <td>-0.148597</td>\n",
       "      <td>-0.006258</td>\n",
       "      <td>0.264588</td>\n",
       "      <td>0.268559</td>\n",
       "    </tr>\n",
       "  </tbody>\n",
       "</table>\n",
       "<p>2 rows × 92 columns</p>\n",
       "</div>"
      ],
      "text/plain": [
       "       PB00001-01  PB00002-01  PB00003-01  PB00004-01  PB00006-01  PB00010-02  \\\n",
       "HES4     0.047857   -0.095355    0.120315    0.240782   -0.089685   -0.030261   \n",
       "ISG15   -0.098197    0.094200    0.133114   -0.265167   -0.395003   -0.299317   \n",
       "\n",
       "       PB00012-01  PB00014-01  PB00015-01  PB00016-01  ...  PB00592-01  \\\n",
       "HES4    -0.059296   -0.094901   -0.078299   -0.103496  ...   -0.063296   \n",
       "ISG15   -0.461973   -0.127980   -0.086404   -0.025362  ...    0.037253   \n",
       "\n",
       "       PB00599-01  PB00600-01  PB00602-01  PB00621-01  PB00623-01  PB00625-02  \\\n",
       "HES4    -0.070026   -0.072048    0.226031   -0.102861   -0.004380   -0.043411   \n",
       "ISG15   -0.046934   -0.000302   -0.224304    0.115984    0.124265   -0.148597   \n",
       "\n",
       "       PB00645-01  PB01425-01  PB01446-01  \n",
       "HES4    -0.098103   -0.082818   -0.021975  \n",
       "ISG15   -0.006258    0.264588    0.268559  \n",
       "\n",
       "[2 rows x 92 columns]"
      ]
     },
     "execution_count": 259,
     "metadata": {},
     "output_type": "execute_result"
    }
   ],
   "source": [
    "Il1b_mean.head(n=2)"
   ]
  },
  {
   "cell_type": "code",
   "execution_count": 284,
   "id": "1e0f2698-8a0d-4187-9b03-d109f8804d8d",
   "metadata": {
    "tags": []
   },
   "outputs": [
    {
     "data": {
      "text/plain": [
       "Index(['HES4', 'ISG15', 'AGRN', 'C1orf159', 'AL645728.1', 'MIB2', 'PRKCZ',\n",
       "       'MEGF6', 'SMIM1', 'TNFRSF9',\n",
       "       ...\n",
       "       'ABCG1', 'PKNOX1', 'AL844908.1', 'ADARB1', 'COL18A1', 'MT-ND2',\n",
       "       'MT-ATP8', 'MT-ND4L', 'MT-ND6', 'AC004556.1'],\n",
       "      dtype='object', length=1612)"
      ]
     },
     "execution_count": 284,
     "metadata": {},
     "output_type": "execute_result"
    }
   ],
   "source": [
    "Il1b_mean.index"
   ]
  },
  {
   "cell_type": "code",
   "execution_count": 285,
   "id": "304b9830-8b2a-4706-bcd3-fe5e2d65f4b7",
   "metadata": {
    "tags": []
   },
   "outputs": [
    {
     "data": {
      "text/html": [
       "<div>\n",
       "<style scoped>\n",
       "    .dataframe tbody tr th:only-of-type {\n",
       "        vertical-align: middle;\n",
       "    }\n",
       "\n",
       "    .dataframe tbody tr th {\n",
       "        vertical-align: top;\n",
       "    }\n",
       "\n",
       "    .dataframe thead th {\n",
       "        text-align: right;\n",
       "    }\n",
       "</style>\n",
       "<table border=\"1\" class=\"dataframe\">\n",
       "  <thead>\n",
       "    <tr style=\"text-align: right;\">\n",
       "      <th></th>\n",
       "      <th>PB00001-01</th>\n",
       "      <th>PB00002-01</th>\n",
       "      <th>PB00003-01</th>\n",
       "      <th>PB00004-01</th>\n",
       "      <th>PB00006-01</th>\n",
       "      <th>PB00010-02</th>\n",
       "      <th>PB00012-01</th>\n",
       "      <th>PB00014-01</th>\n",
       "      <th>PB00015-01</th>\n",
       "      <th>PB00016-01</th>\n",
       "      <th>...</th>\n",
       "      <th>PB00592-01</th>\n",
       "      <th>PB00599-01</th>\n",
       "      <th>PB00600-01</th>\n",
       "      <th>PB00602-01</th>\n",
       "      <th>PB00621-01</th>\n",
       "      <th>PB00623-01</th>\n",
       "      <th>PB00625-02</th>\n",
       "      <th>PB00645-01</th>\n",
       "      <th>PB01425-01</th>\n",
       "      <th>PB01446-01</th>\n",
       "    </tr>\n",
       "  </thead>\n",
       "  <tbody>\n",
       "    <tr>\n",
       "      <th>HES4</th>\n",
       "      <td>0.047857</td>\n",
       "      <td>-0.095355</td>\n",
       "      <td>0.120315</td>\n",
       "      <td>0.240782</td>\n",
       "      <td>-0.089685</td>\n",
       "      <td>-0.030261</td>\n",
       "      <td>-0.059296</td>\n",
       "      <td>-0.094901</td>\n",
       "      <td>-0.078299</td>\n",
       "      <td>-0.103496</td>\n",
       "      <td>...</td>\n",
       "      <td>-0.063296</td>\n",
       "      <td>-0.070026</td>\n",
       "      <td>-0.072048</td>\n",
       "      <td>0.226031</td>\n",
       "      <td>-0.102861</td>\n",
       "      <td>-0.004380</td>\n",
       "      <td>-0.043411</td>\n",
       "      <td>-0.098103</td>\n",
       "      <td>-0.082818</td>\n",
       "      <td>-0.021975</td>\n",
       "    </tr>\n",
       "    <tr>\n",
       "      <th>ISG15</th>\n",
       "      <td>-0.098197</td>\n",
       "      <td>0.094200</td>\n",
       "      <td>0.133114</td>\n",
       "      <td>-0.265167</td>\n",
       "      <td>-0.395003</td>\n",
       "      <td>-0.299317</td>\n",
       "      <td>-0.461973</td>\n",
       "      <td>-0.127980</td>\n",
       "      <td>-0.086404</td>\n",
       "      <td>-0.025362</td>\n",
       "      <td>...</td>\n",
       "      <td>0.037253</td>\n",
       "      <td>-0.046934</td>\n",
       "      <td>-0.000302</td>\n",
       "      <td>-0.224304</td>\n",
       "      <td>0.115984</td>\n",
       "      <td>0.124265</td>\n",
       "      <td>-0.148597</td>\n",
       "      <td>-0.006258</td>\n",
       "      <td>0.264588</td>\n",
       "      <td>0.268559</td>\n",
       "    </tr>\n",
       "  </tbody>\n",
       "</table>\n",
       "<p>2 rows × 92 columns</p>\n",
       "</div>"
      ],
      "text/plain": [
       "       PB00001-01  PB00002-01  PB00003-01  PB00004-01  PB00006-01  PB00010-02  \\\n",
       "HES4     0.047857   -0.095355    0.120315    0.240782   -0.089685   -0.030261   \n",
       "ISG15   -0.098197    0.094200    0.133114   -0.265167   -0.395003   -0.299317   \n",
       "\n",
       "       PB00012-01  PB00014-01  PB00015-01  PB00016-01  ...  PB00592-01  \\\n",
       "HES4    -0.059296   -0.094901   -0.078299   -0.103496  ...   -0.063296   \n",
       "ISG15   -0.461973   -0.127980   -0.086404   -0.025362  ...    0.037253   \n",
       "\n",
       "       PB00599-01  PB00600-01  PB00602-01  PB00621-01  PB00623-01  PB00625-02  \\\n",
       "HES4    -0.070026   -0.072048    0.226031   -0.102861   -0.004380   -0.043411   \n",
       "ISG15   -0.046934   -0.000302   -0.224304    0.115984    0.124265   -0.148597   \n",
       "\n",
       "       PB00645-01  PB01425-01  PB01446-01  \n",
       "HES4    -0.098103   -0.082818   -0.021975  \n",
       "ISG15   -0.006258    0.264588    0.268559  \n",
       "\n",
       "[2 rows x 92 columns]"
      ]
     },
     "execution_count": 285,
     "metadata": {},
     "output_type": "execute_result"
    }
   ],
   "source": [
    "Il1b_mean.head(n=2)"
   ]
  },
  {
   "cell_type": "code",
   "execution_count": 261,
   "id": "0d141513-cd50-4b9f-b94c-9dcf0b597095",
   "metadata": {
    "tags": []
   },
   "outputs": [
    {
     "data": {
      "text/html": [
       "<div>\n",
       "<style scoped>\n",
       "    .dataframe tbody tr th:only-of-type {\n",
       "        vertical-align: middle;\n",
       "    }\n",
       "\n",
       "    .dataframe tbody tr th {\n",
       "        vertical-align: top;\n",
       "    }\n",
       "\n",
       "    .dataframe thead th {\n",
       "        text-align: right;\n",
       "    }\n",
       "</style>\n",
       "<table border=\"1\" class=\"dataframe\">\n",
       "  <thead>\n",
       "    <tr style=\"text-align: right;\">\n",
       "      <th></th>\n",
       "      <th>PB00001-01</th>\n",
       "      <th>PB00002-01</th>\n",
       "      <th>PB00003-01</th>\n",
       "      <th>PB00004-01</th>\n",
       "      <th>PB00006-01</th>\n",
       "      <th>PB00010-02</th>\n",
       "      <th>PB00012-01</th>\n",
       "      <th>PB00014-01</th>\n",
       "      <th>PB00015-01</th>\n",
       "      <th>PB00016-01</th>\n",
       "      <th>...</th>\n",
       "      <th>PB00592-01</th>\n",
       "      <th>PB00599-01</th>\n",
       "      <th>PB00600-01</th>\n",
       "      <th>PB00602-01</th>\n",
       "      <th>PB00621-01</th>\n",
       "      <th>PB00623-01</th>\n",
       "      <th>PB00625-02</th>\n",
       "      <th>PB00645-01</th>\n",
       "      <th>PB01425-01</th>\n",
       "      <th>PB01446-01</th>\n",
       "    </tr>\n",
       "  </thead>\n",
       "  <tbody>\n",
       "    <tr>\n",
       "      <th>HES4</th>\n",
       "      <td>0.047857</td>\n",
       "      <td>-0.095355</td>\n",
       "      <td>0.120315</td>\n",
       "      <td>0.240782</td>\n",
       "      <td>-0.089685</td>\n",
       "      <td>-0.030261</td>\n",
       "      <td>-0.059296</td>\n",
       "      <td>-0.094901</td>\n",
       "      <td>-0.078299</td>\n",
       "      <td>-0.103496</td>\n",
       "      <td>...</td>\n",
       "      <td>-0.063296</td>\n",
       "      <td>-0.070026</td>\n",
       "      <td>-0.072048</td>\n",
       "      <td>0.226031</td>\n",
       "      <td>-0.102861</td>\n",
       "      <td>-0.004380</td>\n",
       "      <td>-0.043411</td>\n",
       "      <td>-0.098103</td>\n",
       "      <td>-0.082818</td>\n",
       "      <td>-0.021975</td>\n",
       "    </tr>\n",
       "    <tr>\n",
       "      <th>ISG15</th>\n",
       "      <td>-0.098197</td>\n",
       "      <td>0.094200</td>\n",
       "      <td>0.133114</td>\n",
       "      <td>-0.265167</td>\n",
       "      <td>-0.395003</td>\n",
       "      <td>-0.299317</td>\n",
       "      <td>-0.461973</td>\n",
       "      <td>-0.127980</td>\n",
       "      <td>-0.086404</td>\n",
       "      <td>-0.025362</td>\n",
       "      <td>...</td>\n",
       "      <td>0.037253</td>\n",
       "      <td>-0.046934</td>\n",
       "      <td>-0.000302</td>\n",
       "      <td>-0.224304</td>\n",
       "      <td>0.115984</td>\n",
       "      <td>0.124265</td>\n",
       "      <td>-0.148597</td>\n",
       "      <td>-0.006258</td>\n",
       "      <td>0.264588</td>\n",
       "      <td>0.268559</td>\n",
       "    </tr>\n",
       "  </tbody>\n",
       "</table>\n",
       "<p>2 rows × 92 columns</p>\n",
       "</div>"
      ],
      "text/plain": [
       "       PB00001-01  PB00002-01  PB00003-01  PB00004-01  PB00006-01  PB00010-02  \\\n",
       "HES4     0.047857   -0.095355    0.120315    0.240782   -0.089685   -0.030261   \n",
       "ISG15   -0.098197    0.094200    0.133114   -0.265167   -0.395003   -0.299317   \n",
       "\n",
       "       PB00012-01  PB00014-01  PB00015-01  PB00016-01  ...  PB00592-01  \\\n",
       "HES4    -0.059296   -0.094901   -0.078299   -0.103496  ...   -0.063296   \n",
       "ISG15   -0.461973   -0.127980   -0.086404   -0.025362  ...    0.037253   \n",
       "\n",
       "       PB00599-01  PB00600-01  PB00602-01  PB00621-01  PB00623-01  PB00625-02  \\\n",
       "HES4    -0.070026   -0.072048    0.226031   -0.102861   -0.004380   -0.043411   \n",
       "ISG15   -0.046934   -0.000302   -0.224304    0.115984    0.124265   -0.148597   \n",
       "\n",
       "       PB00645-01  PB01425-01  PB01446-01  \n",
       "HES4    -0.098103   -0.082818   -0.021975  \n",
       "ISG15   -0.006258    0.264588    0.268559  \n",
       "\n",
       "[2 rows x 92 columns]"
      ]
     },
     "execution_count": 261,
     "metadata": {},
     "output_type": "execute_result"
    }
   ],
   "source": [
    "Il1b_mean.head(n=2)"
   ]
  },
  {
   "cell_type": "code",
   "execution_count": 262,
   "id": "71e3cf85-e51e-4de0-932b-abbf146ec90a",
   "metadata": {
    "tags": []
   },
   "outputs": [],
   "source": [
    "# Save DataFrame to CSV\n",
    "Il1b_mean.to_csv('ISG_CD14_mono_Heatmap_expression_matrix_v1.csv')"
   ]
  },
  {
   "cell_type": "code",
   "execution_count": null,
   "id": "d4bf7419-44fa-4026-aafe-e499285da958",
   "metadata": {},
   "outputs": [],
   "source": []
  },
  {
   "cell_type": "markdown",
   "id": "e6eae7ad-804e-4800-a2b6-97e1b2ab5415",
   "metadata": {
    "tags": []
   },
   "source": [
    "## Core+ CD14 mono"
   ]
  },
  {
   "cell_type": "code",
   "execution_count": 263,
   "id": "1f2686c7-ebd1-4c17-b582-1adf6c082d3b",
   "metadata": {
    "tags": []
   },
   "outputs": [
    {
     "data": {
      "text/plain": [
       "AnnData object with n_obs × n_vars = 196113 × 1705\n",
       "    obs: 'barcodes', 'batch_id', 'cell_name', 'cell_uuid', 'chip_id', 'hto_barcode', 'hto_category', 'n_genes', 'n_mito_umis', 'n_reads', 'n_umis', 'original_barcodes', 'pbmc_sample_id', 'pool_id', 'seurat_pbmc_type', 'seurat_pbmc_type_score', 'umap_1', 'umap_2', 'well_id', 'subject.biologicalSex', 'subject.ethnicity', 'subject.partnerCode', 'subject.race', 'subject.subjectGuid', 'cohort.cohortGuid', 'sample.visitName', 'sample.visitDetails', 'subject.birthYear', 'CMV.IgG.Serology.Result.Interpretation', 'BMI', 'predicted_doublet', 'doublet_score', 'AIFI_L1', 'AIFI_L2', 'AIFI_L3', 'AIFI_L3.5', 'n_genes_by_counts', 'log1p_n_genes_by_counts', 'total_counts', 'log1p_total_counts', 'pct_counts_in_top_50_genes', 'pct_counts_in_top_100_genes', 'pct_counts_in_top_200_genes', 'pct_counts_in_top_500_genes', 'total_counts_mito', 'log1p_total_counts_mito', 'pct_counts_mito'\n",
       "    var: 'highly_variable', 'means', 'dispersions', 'dispersions_norm', 'mean', 'std'\n",
       "    uns: 'hvg', 'log1p', 'neighbors', 'pca', 'umap'\n",
       "    obsm: 'X_pca', 'X_pca_harmony', 'X_umap'\n",
       "    varm: 'PCs'\n",
       "    layers: 'counts'\n",
       "    obsp: 'connectivities', 'distances'"
      ]
     },
     "execution_count": 263,
     "metadata": {},
     "output_type": "execute_result"
    }
   ],
   "source": [
    "adata = sc.read ('/home/jupyter/Myeloid_cells/files/Core_CD14_Mono_ONLY_FluYr1D0_post_harmony_04232024.h5ad')\n",
    "adata"
   ]
  },
  {
   "cell_type": "code",
   "execution_count": 264,
   "id": "b4b2d5a1-a292-4f72-946c-2ab7da6c45ba",
   "metadata": {
    "tags": []
   },
   "outputs": [
    {
     "data": {
      "text/plain": [
       "array([[ 1.5480846 , -0.16025177, -0.32985887, ...,  0.5146747 ,\n",
       "        -0.3920743 , -0.22728865],\n",
       "       [-0.5691982 , -0.16025177, -0.32985887, ...,  0.0950091 ,\n",
       "        -0.3920743 , -0.22728865],\n",
       "       [-0.5691982 , -0.16025177, -0.32985887, ...,  0.62110573,\n",
       "        -0.3920743 , -0.22728865],\n",
       "       ...,\n",
       "       [-0.5691982 , -0.16025177, -0.32985887, ..., -1.7084811 ,\n",
       "        -0.3920743 , -0.22728865],\n",
       "       [-0.5691982 , -0.16025177, -0.32985887, ..., -1.576478  ,\n",
       "        -0.3920743 , -0.22728865],\n",
       "       [ 0.7711546 , -0.16025177, -0.32985887, ...,  0.33772275,\n",
       "        -0.3920743 , -0.22728865]], dtype=float32)"
      ]
     },
     "execution_count": 264,
     "metadata": {},
     "output_type": "execute_result"
    }
   ],
   "source": [
    "adata.X"
   ]
  },
  {
   "cell_type": "code",
   "execution_count": 210,
   "id": "3eb50cab-3354-4c7d-a7eb-5746c125e4b5",
   "metadata": {
    "tags": []
   },
   "outputs": [],
   "source": [
    "#adata_filt.obs.rename(columns={\"pbmc_sample_id\": \"pbmc_sample_id\"}, inplace=True)"
   ]
  },
  {
   "cell_type": "code",
   "execution_count": 211,
   "id": "13339dcc-c9c6-4027-afc6-88e209c2e736",
   "metadata": {
    "tags": []
   },
   "outputs": [],
   "source": [
    "#adata_filt.obs.rename(columns={\"CMV.IgG.Serology.Result.Interpretation\": \"CMV\"}, inplace=True)"
   ]
  },
  {
   "cell_type": "code",
   "execution_count": 212,
   "id": "a523bab2-1c84-40a2-8891-8f3b38b87fb2",
   "metadata": {
    "tags": []
   },
   "outputs": [],
   "source": [
    "#adata_filt.obs.rename(columns={\"cohort.cohortGuid\": \"Age\"}, inplace=True)"
   ]
  },
  {
   "cell_type": "code",
   "execution_count": 223,
   "id": "53a47558-ce21-4c28-9ff3-65904a2dfeeb",
   "metadata": {
    "tags": []
   },
   "outputs": [],
   "source": [
    "# import pandas as pd\n",
    "\n",
    "# # Assuming adata.X is your expression matrix\n",
    "# # Assuming adata has row names and column names\n",
    "\n",
    "# # Convert adata.X to a DataFrame\n",
    "# expression_df = pd.DataFrame(adata.X, index=adata.obs.index, columns=adata.var.index)\n",
    "\n",
    "# # Save DataFrame to CSV\n",
    "# expression_df.to_csv('Heatmap_expression_matrix_v1.csv')\n"
   ]
  },
  {
   "cell_type": "code",
   "execution_count": 225,
   "id": "bf2791e6-977e-4a41-bff8-91eb9dfe7189",
   "metadata": {
    "collapsed": true,
    "jupyter": {
     "outputs_hidden": true
    },
    "tags": []
   },
   "outputs": [
    {
     "data": {
      "text/html": [
       "<div>\n",
       "<style scoped>\n",
       "    .dataframe tbody tr th:only-of-type {\n",
       "        vertical-align: middle;\n",
       "    }\n",
       "\n",
       "    .dataframe tbody tr th {\n",
       "        vertical-align: top;\n",
       "    }\n",
       "\n",
       "    .dataframe thead th {\n",
       "        text-align: right;\n",
       "    }\n",
       "</style>\n",
       "<table border=\"1\" class=\"dataframe\">\n",
       "  <thead>\n",
       "    <tr style=\"text-align: right;\">\n",
       "      <th></th>\n",
       "      <th>FAM41C</th>\n",
       "      <th>KLHL17</th>\n",
       "      <th>HES4</th>\n",
       "      <th>ISG15</th>\n",
       "      <th>C1orf159</th>\n",
       "      <th>C1QTNF12</th>\n",
       "      <th>AL162741.1</th>\n",
       "      <th>SCNN1D</th>\n",
       "      <th>ACAP3</th>\n",
       "      <th>MXRA8</th>\n",
       "      <th>...</th>\n",
       "      <th>MT-ND1</th>\n",
       "      <th>MT-ND2</th>\n",
       "      <th>MT-CO2</th>\n",
       "      <th>MT-ATP6</th>\n",
       "      <th>MT-CO3</th>\n",
       "      <th>MT-ND3</th>\n",
       "      <th>MT-ND4L</th>\n",
       "      <th>MT-ND4</th>\n",
       "      <th>MT-CYB</th>\n",
       "      <th>AC240274.1</th>\n",
       "    </tr>\n",
       "    <tr>\n",
       "      <th>barcodes</th>\n",
       "      <th></th>\n",
       "      <th></th>\n",
       "      <th></th>\n",
       "      <th></th>\n",
       "      <th></th>\n",
       "      <th></th>\n",
       "      <th></th>\n",
       "      <th></th>\n",
       "      <th></th>\n",
       "      <th></th>\n",
       "      <th></th>\n",
       "      <th></th>\n",
       "      <th></th>\n",
       "      <th></th>\n",
       "      <th></th>\n",
       "      <th></th>\n",
       "      <th></th>\n",
       "      <th></th>\n",
       "      <th></th>\n",
       "      <th></th>\n",
       "      <th></th>\n",
       "    </tr>\n",
       "  </thead>\n",
       "  <tbody>\n",
       "    <tr>\n",
       "      <th>cfb4162a48b611ea8957bafe6d70929e</th>\n",
       "      <td>-0.132573</td>\n",
       "      <td>-0.113268</td>\n",
       "      <td>-0.192298</td>\n",
       "      <td>-0.661028</td>\n",
       "      <td>-0.176591</td>\n",
       "      <td>-0.077332</td>\n",
       "      <td>-0.05456</td>\n",
       "      <td>-0.053848</td>\n",
       "      <td>-0.328429</td>\n",
       "      <td>-0.022134</td>\n",
       "      <td>...</td>\n",
       "      <td>1.325860</td>\n",
       "      <td>0.731614</td>\n",
       "      <td>0.836299</td>\n",
       "      <td>1.340946</td>\n",
       "      <td>0.742673</td>\n",
       "      <td>1.439619</td>\n",
       "      <td>0.713853</td>\n",
       "      <td>1.086478</td>\n",
       "      <td>-0.067385</td>\n",
       "      <td>-0.156928</td>\n",
       "    </tr>\n",
       "    <tr>\n",
       "      <th>70ab258848b611eaa65d9e7d578d66f2</th>\n",
       "      <td>-0.132573</td>\n",
       "      <td>-0.113268</td>\n",
       "      <td>-0.192298</td>\n",
       "      <td>-0.661028</td>\n",
       "      <td>4.546874</td>\n",
       "      <td>-0.077332</td>\n",
       "      <td>-0.05456</td>\n",
       "      <td>-0.053848</td>\n",
       "      <td>-0.328429</td>\n",
       "      <td>-0.022134</td>\n",
       "      <td>...</td>\n",
       "      <td>-1.189309</td>\n",
       "      <td>-0.481571</td>\n",
       "      <td>-0.535567</td>\n",
       "      <td>-0.834956</td>\n",
       "      <td>-0.465425</td>\n",
       "      <td>-1.024485</td>\n",
       "      <td>0.202755</td>\n",
       "      <td>-0.327291</td>\n",
       "      <td>-0.668048</td>\n",
       "      <td>-0.156928</td>\n",
       "    </tr>\n",
       "    <tr>\n",
       "      <th>70acf29648b611eaa65d9e7d578d66f2</th>\n",
       "      <td>-0.132573</td>\n",
       "      <td>-0.113268</td>\n",
       "      <td>-0.192298</td>\n",
       "      <td>1.294230</td>\n",
       "      <td>-0.176591</td>\n",
       "      <td>-0.077332</td>\n",
       "      <td>-0.05456</td>\n",
       "      <td>-0.053848</td>\n",
       "      <td>-0.328429</td>\n",
       "      <td>-0.022134</td>\n",
       "      <td>...</td>\n",
       "      <td>0.252301</td>\n",
       "      <td>-0.473989</td>\n",
       "      <td>0.144703</td>\n",
       "      <td>0.668496</td>\n",
       "      <td>-0.065128</td>\n",
       "      <td>-0.019105</td>\n",
       "      <td>-0.418068</td>\n",
       "      <td>0.751750</td>\n",
       "      <td>0.169085</td>\n",
       "      <td>-0.156928</td>\n",
       "    </tr>\n",
       "    <tr>\n",
       "      <th>70d2b34648b611eaa65d9e7d578d66f2</th>\n",
       "      <td>-0.132573</td>\n",
       "      <td>-0.113268</td>\n",
       "      <td>-0.192298</td>\n",
       "      <td>-0.661028</td>\n",
       "      <td>-0.176591</td>\n",
       "      <td>-0.077332</td>\n",
       "      <td>-0.05456</td>\n",
       "      <td>-0.053848</td>\n",
       "      <td>-0.328429</td>\n",
       "      <td>-0.022134</td>\n",
       "      <td>...</td>\n",
       "      <td>1.358938</td>\n",
       "      <td>-0.032474</td>\n",
       "      <td>-1.037922</td>\n",
       "      <td>0.739538</td>\n",
       "      <td>-0.204768</td>\n",
       "      <td>0.471638</td>\n",
       "      <td>0.094861</td>\n",
       "      <td>-0.397821</td>\n",
       "      <td>-1.446746</td>\n",
       "      <td>-0.156928</td>\n",
       "    </tr>\n",
       "    <tr>\n",
       "      <th>70d844f048b611eaa65d9e7d578d66f2</th>\n",
       "      <td>-0.132573</td>\n",
       "      <td>-0.113268</td>\n",
       "      <td>-0.192298</td>\n",
       "      <td>-0.661028</td>\n",
       "      <td>-0.176591</td>\n",
       "      <td>-0.077332</td>\n",
       "      <td>-0.05456</td>\n",
       "      <td>-0.053848</td>\n",
       "      <td>-0.328429</td>\n",
       "      <td>-0.022134</td>\n",
       "      <td>...</td>\n",
       "      <td>-0.771742</td>\n",
       "      <td>-2.176364</td>\n",
       "      <td>-0.749368</td>\n",
       "      <td>-0.869467</td>\n",
       "      <td>-1.302776</td>\n",
       "      <td>-0.020604</td>\n",
       "      <td>-1.730623</td>\n",
       "      <td>-0.394766</td>\n",
       "      <td>-1.223874</td>\n",
       "      <td>-0.156928</td>\n",
       "    </tr>\n",
       "    <tr>\n",
       "      <th>...</th>\n",
       "      <td>...</td>\n",
       "      <td>...</td>\n",
       "      <td>...</td>\n",
       "      <td>...</td>\n",
       "      <td>...</td>\n",
       "      <td>...</td>\n",
       "      <td>...</td>\n",
       "      <td>...</td>\n",
       "      <td>...</td>\n",
       "      <td>...</td>\n",
       "      <td>...</td>\n",
       "      <td>...</td>\n",
       "      <td>...</td>\n",
       "      <td>...</td>\n",
       "      <td>...</td>\n",
       "      <td>...</td>\n",
       "      <td>...</td>\n",
       "      <td>...</td>\n",
       "      <td>...</td>\n",
       "      <td>...</td>\n",
       "      <td>...</td>\n",
       "    </tr>\n",
       "    <tr>\n",
       "      <th>4fcaf786286511ec8c0d4aaa4b9002e8</th>\n",
       "      <td>-0.132573</td>\n",
       "      <td>-0.113268</td>\n",
       "      <td>-0.192298</td>\n",
       "      <td>1.622779</td>\n",
       "      <td>-0.176591</td>\n",
       "      <td>-0.077332</td>\n",
       "      <td>-0.05456</td>\n",
       "      <td>-0.053848</td>\n",
       "      <td>-0.328429</td>\n",
       "      <td>-0.022134</td>\n",
       "      <td>...</td>\n",
       "      <td>0.463961</td>\n",
       "      <td>0.536566</td>\n",
       "      <td>-1.310432</td>\n",
       "      <td>1.173958</td>\n",
       "      <td>0.229070</td>\n",
       "      <td>0.430827</td>\n",
       "      <td>0.022275</td>\n",
       "      <td>0.371624</td>\n",
       "      <td>0.106982</td>\n",
       "      <td>-0.156928</td>\n",
       "    </tr>\n",
       "    <tr>\n",
       "      <th>ce432b48286411eca744faae388e9f17</th>\n",
       "      <td>-0.132573</td>\n",
       "      <td>-0.113268</td>\n",
       "      <td>-0.192298</td>\n",
       "      <td>1.051977</td>\n",
       "      <td>-0.176591</td>\n",
       "      <td>-0.077332</td>\n",
       "      <td>-0.05456</td>\n",
       "      <td>-0.053848</td>\n",
       "      <td>-0.328429</td>\n",
       "      <td>-0.022134</td>\n",
       "      <td>...</td>\n",
       "      <td>1.198795</td>\n",
       "      <td>0.391518</td>\n",
       "      <td>0.622304</td>\n",
       "      <td>1.493538</td>\n",
       "      <td>0.150514</td>\n",
       "      <td>1.332110</td>\n",
       "      <td>-0.063872</td>\n",
       "      <td>0.706557</td>\n",
       "      <td>0.251596</td>\n",
       "      <td>-0.156928</td>\n",
       "    </tr>\n",
       "    <tr>\n",
       "      <th>fbe4aa18286411ecb1698ec288c6fba6</th>\n",
       "      <td>-0.132573</td>\n",
       "      <td>-0.113268</td>\n",
       "      <td>-0.192298</td>\n",
       "      <td>2.229014</td>\n",
       "      <td>-0.176591</td>\n",
       "      <td>-0.077332</td>\n",
       "      <td>-0.05456</td>\n",
       "      <td>-0.053848</td>\n",
       "      <td>-0.328429</td>\n",
       "      <td>-0.022134</td>\n",
       "      <td>...</td>\n",
       "      <td>0.958758</td>\n",
       "      <td>1.280242</td>\n",
       "      <td>0.750380</td>\n",
       "      <td>0.253745</td>\n",
       "      <td>0.563532</td>\n",
       "      <td>1.755917</td>\n",
       "      <td>0.487581</td>\n",
       "      <td>0.843975</td>\n",
       "      <td>0.123364</td>\n",
       "      <td>-0.156928</td>\n",
       "    </tr>\n",
       "    <tr>\n",
       "      <th>03c5255a286511ec8289ca5980196c9c</th>\n",
       "      <td>-0.132573</td>\n",
       "      <td>-0.113268</td>\n",
       "      <td>-0.192298</td>\n",
       "      <td>1.707325</td>\n",
       "      <td>-0.176591</td>\n",
       "      <td>-0.077332</td>\n",
       "      <td>-0.05456</td>\n",
       "      <td>-0.053848</td>\n",
       "      <td>-0.328429</td>\n",
       "      <td>-0.022134</td>\n",
       "      <td>...</td>\n",
       "      <td>0.786495</td>\n",
       "      <td>0.486685</td>\n",
       "      <td>0.126109</td>\n",
       "      <td>1.119277</td>\n",
       "      <td>-0.492053</td>\n",
       "      <td>1.279174</td>\n",
       "      <td>-0.806702</td>\n",
       "      <td>0.384777</td>\n",
       "      <td>0.369796</td>\n",
       "      <td>-0.156928</td>\n",
       "    </tr>\n",
       "    <tr>\n",
       "      <th>91f8844a286311ecabc39e0459bddc54</th>\n",
       "      <td>-0.132573</td>\n",
       "      <td>-0.113268</td>\n",
       "      <td>-0.192298</td>\n",
       "      <td>3.324033</td>\n",
       "      <td>-0.176591</td>\n",
       "      <td>-0.077332</td>\n",
       "      <td>-0.05456</td>\n",
       "      <td>-0.053848</td>\n",
       "      <td>-0.328429</td>\n",
       "      <td>-0.022134</td>\n",
       "      <td>...</td>\n",
       "      <td>-0.122227</td>\n",
       "      <td>0.093515</td>\n",
       "      <td>-0.260421</td>\n",
       "      <td>0.857848</td>\n",
       "      <td>-0.560291</td>\n",
       "      <td>0.419610</td>\n",
       "      <td>-0.415456</td>\n",
       "      <td>0.673279</td>\n",
       "      <td>-0.344862</td>\n",
       "      <td>-0.156928</td>\n",
       "    </tr>\n",
       "  </tbody>\n",
       "</table>\n",
       "<p>2679 rows × 3000 columns</p>\n",
       "</div>"
      ],
      "text/plain": [
       "                                    FAM41C    KLHL17      HES4     ISG15  \\\n",
       "barcodes                                                                   \n",
       "cfb4162a48b611ea8957bafe6d70929e -0.132573 -0.113268 -0.192298 -0.661028   \n",
       "70ab258848b611eaa65d9e7d578d66f2 -0.132573 -0.113268 -0.192298 -0.661028   \n",
       "70acf29648b611eaa65d9e7d578d66f2 -0.132573 -0.113268 -0.192298  1.294230   \n",
       "70d2b34648b611eaa65d9e7d578d66f2 -0.132573 -0.113268 -0.192298 -0.661028   \n",
       "70d844f048b611eaa65d9e7d578d66f2 -0.132573 -0.113268 -0.192298 -0.661028   \n",
       "...                                    ...       ...       ...       ...   \n",
       "4fcaf786286511ec8c0d4aaa4b9002e8 -0.132573 -0.113268 -0.192298  1.622779   \n",
       "ce432b48286411eca744faae388e9f17 -0.132573 -0.113268 -0.192298  1.051977   \n",
       "fbe4aa18286411ecb1698ec288c6fba6 -0.132573 -0.113268 -0.192298  2.229014   \n",
       "03c5255a286511ec8289ca5980196c9c -0.132573 -0.113268 -0.192298  1.707325   \n",
       "91f8844a286311ecabc39e0459bddc54 -0.132573 -0.113268 -0.192298  3.324033   \n",
       "\n",
       "                                  C1orf159  C1QTNF12  AL162741.1    SCNN1D  \\\n",
       "barcodes                                                                     \n",
       "cfb4162a48b611ea8957bafe6d70929e -0.176591 -0.077332    -0.05456 -0.053848   \n",
       "70ab258848b611eaa65d9e7d578d66f2  4.546874 -0.077332    -0.05456 -0.053848   \n",
       "70acf29648b611eaa65d9e7d578d66f2 -0.176591 -0.077332    -0.05456 -0.053848   \n",
       "70d2b34648b611eaa65d9e7d578d66f2 -0.176591 -0.077332    -0.05456 -0.053848   \n",
       "70d844f048b611eaa65d9e7d578d66f2 -0.176591 -0.077332    -0.05456 -0.053848   \n",
       "...                                    ...       ...         ...       ...   \n",
       "4fcaf786286511ec8c0d4aaa4b9002e8 -0.176591 -0.077332    -0.05456 -0.053848   \n",
       "ce432b48286411eca744faae388e9f17 -0.176591 -0.077332    -0.05456 -0.053848   \n",
       "fbe4aa18286411ecb1698ec288c6fba6 -0.176591 -0.077332    -0.05456 -0.053848   \n",
       "03c5255a286511ec8289ca5980196c9c -0.176591 -0.077332    -0.05456 -0.053848   \n",
       "91f8844a286311ecabc39e0459bddc54 -0.176591 -0.077332    -0.05456 -0.053848   \n",
       "\n",
       "                                     ACAP3     MXRA8  ...    MT-ND1    MT-ND2  \\\n",
       "barcodes                                              ...                       \n",
       "cfb4162a48b611ea8957bafe6d70929e -0.328429 -0.022134  ...  1.325860  0.731614   \n",
       "70ab258848b611eaa65d9e7d578d66f2 -0.328429 -0.022134  ... -1.189309 -0.481571   \n",
       "70acf29648b611eaa65d9e7d578d66f2 -0.328429 -0.022134  ...  0.252301 -0.473989   \n",
       "70d2b34648b611eaa65d9e7d578d66f2 -0.328429 -0.022134  ...  1.358938 -0.032474   \n",
       "70d844f048b611eaa65d9e7d578d66f2 -0.328429 -0.022134  ... -0.771742 -2.176364   \n",
       "...                                    ...       ...  ...       ...       ...   \n",
       "4fcaf786286511ec8c0d4aaa4b9002e8 -0.328429 -0.022134  ...  0.463961  0.536566   \n",
       "ce432b48286411eca744faae388e9f17 -0.328429 -0.022134  ...  1.198795  0.391518   \n",
       "fbe4aa18286411ecb1698ec288c6fba6 -0.328429 -0.022134  ...  0.958758  1.280242   \n",
       "03c5255a286511ec8289ca5980196c9c -0.328429 -0.022134  ...  0.786495  0.486685   \n",
       "91f8844a286311ecabc39e0459bddc54 -0.328429 -0.022134  ... -0.122227  0.093515   \n",
       "\n",
       "                                    MT-CO2   MT-ATP6    MT-CO3    MT-ND3  \\\n",
       "barcodes                                                                   \n",
       "cfb4162a48b611ea8957bafe6d70929e  0.836299  1.340946  0.742673  1.439619   \n",
       "70ab258848b611eaa65d9e7d578d66f2 -0.535567 -0.834956 -0.465425 -1.024485   \n",
       "70acf29648b611eaa65d9e7d578d66f2  0.144703  0.668496 -0.065128 -0.019105   \n",
       "70d2b34648b611eaa65d9e7d578d66f2 -1.037922  0.739538 -0.204768  0.471638   \n",
       "70d844f048b611eaa65d9e7d578d66f2 -0.749368 -0.869467 -1.302776 -0.020604   \n",
       "...                                    ...       ...       ...       ...   \n",
       "4fcaf786286511ec8c0d4aaa4b9002e8 -1.310432  1.173958  0.229070  0.430827   \n",
       "ce432b48286411eca744faae388e9f17  0.622304  1.493538  0.150514  1.332110   \n",
       "fbe4aa18286411ecb1698ec288c6fba6  0.750380  0.253745  0.563532  1.755917   \n",
       "03c5255a286511ec8289ca5980196c9c  0.126109  1.119277 -0.492053  1.279174   \n",
       "91f8844a286311ecabc39e0459bddc54 -0.260421  0.857848 -0.560291  0.419610   \n",
       "\n",
       "                                   MT-ND4L    MT-ND4    MT-CYB  AC240274.1  \n",
       "barcodes                                                                    \n",
       "cfb4162a48b611ea8957bafe6d70929e  0.713853  1.086478 -0.067385   -0.156928  \n",
       "70ab258848b611eaa65d9e7d578d66f2  0.202755 -0.327291 -0.668048   -0.156928  \n",
       "70acf29648b611eaa65d9e7d578d66f2 -0.418068  0.751750  0.169085   -0.156928  \n",
       "70d2b34648b611eaa65d9e7d578d66f2  0.094861 -0.397821 -1.446746   -0.156928  \n",
       "70d844f048b611eaa65d9e7d578d66f2 -1.730623 -0.394766 -1.223874   -0.156928  \n",
       "...                                    ...       ...       ...         ...  \n",
       "4fcaf786286511ec8c0d4aaa4b9002e8  0.022275  0.371624  0.106982   -0.156928  \n",
       "ce432b48286411eca744faae388e9f17 -0.063872  0.706557  0.251596   -0.156928  \n",
       "fbe4aa18286411ecb1698ec288c6fba6  0.487581  0.843975  0.123364   -0.156928  \n",
       "03c5255a286511ec8289ca5980196c9c -0.806702  0.384777  0.369796   -0.156928  \n",
       "91f8844a286311ecabc39e0459bddc54 -0.415456  0.673279 -0.344862   -0.156928  \n",
       "\n",
       "[2679 rows x 3000 columns]"
      ]
     },
     "execution_count": 225,
     "metadata": {},
     "output_type": "execute_result"
    }
   ],
   "source": [
    "# expression_df"
   ]
  },
  {
   "cell_type": "code",
   "execution_count": 214,
   "id": "08128ec4-67c5-43e0-9c79-693eba4b4b66",
   "metadata": {
    "tags": []
   },
   "outputs": [],
   "source": [
    "#adata.obs['unique_ID'] = adata.obs['pbmc_sample_id'].str.cat (adata.obs['subject.biologicalSex'], sep = \"_\").str.cat (adata.obs['cohort.cohortGuid'], sep = \"_\")"
   ]
  },
  {
   "cell_type": "code",
   "execution_count": 215,
   "id": "c1e273b8-5aaf-4299-9a7d-b421fd9f0dbc",
   "metadata": {
    "tags": []
   },
   "outputs": [],
   "source": [
    "#adata.obs['unique_ID'] = adata.obs['pbmc_sample_id']"
   ]
  },
  {
   "cell_type": "code",
   "execution_count": null,
   "id": "d7505b84-0ba3-4141-989d-29e105194d91",
   "metadata": {},
   "outputs": [],
   "source": []
  },
  {
   "cell_type": "code",
   "execution_count": 217,
   "id": "9913bb65-25a3-4562-adde-adb8707d94d3",
   "metadata": {
    "tags": []
   },
   "outputs": [
    {
     "data": {
      "text/plain": [
       "['PB00001-01', 'PB00002-01', 'PB00003-01', 'PB00004-01', 'PB00006-01', ..., 'PB00623-01', 'PB00625-02', 'PB00645-01', 'PB01425-01', 'PB01446-01']\n",
       "Length: 92\n",
       "Categories (92, object): ['PB00001-01', 'PB00002-01', 'PB00003-01', 'PB00004-01', ..., 'PB00625-02', 'PB00645-01', 'PB01425-01', 'PB01446-01']"
      ]
     },
     "execution_count": 217,
     "metadata": {},
     "output_type": "execute_result"
    }
   ],
   "source": [
    "#adata.obs['unique_ID'].unique()"
   ]
  },
  {
   "cell_type": "code",
   "execution_count": 265,
   "id": "b492e259-2ca7-4e35-baf6-65e2c6dfa25d",
   "metadata": {
    "tags": []
   },
   "outputs": [
    {
     "data": {
      "text/plain": [
       "['Core CD14 monocyte']\n",
       "Categories (1, object): ['Core CD14 monocyte']"
      ]
     },
     "execution_count": 265,
     "metadata": {},
     "output_type": "execute_result"
    }
   ],
   "source": [
    "adata.obs['AIFI_L3'].unique()"
   ]
  },
  {
   "cell_type": "code",
   "execution_count": 266,
   "id": "c52090d4-dc41-40c1-8503-e9d17b508f65",
   "metadata": {
    "tags": []
   },
   "outputs": [],
   "source": [
    "adata.raw = adata"
   ]
  },
  {
   "cell_type": "code",
   "execution_count": 267,
   "id": "0503806a-a085-4946-9460-63067fd1222e",
   "metadata": {
    "tags": []
   },
   "outputs": [
    {
     "name": "stderr",
     "output_type": "stream",
     "text": [
      "/tmp/ipykernel_501/2632454361.py:1: FutureWarning: The default of observed=False is deprecated and will be changed to True in a future version of pandas. Pass observed=False to retain current behavior or observed=True to adopt the future default and silence this warning.\n",
      "  grouped = adata.obs.groupby(['pbmc_sample_id'])\n"
     ]
    }
   ],
   "source": [
    "grouped = adata.obs.groupby(['pbmc_sample_id'])"
   ]
  },
  {
   "cell_type": "code",
   "execution_count": 268,
   "id": "fcd93898-c50e-40b7-a4b3-8462e2f64b0d",
   "metadata": {
    "tags": []
   },
   "outputs": [],
   "source": [
    "#Not grouped\n",
    "\n",
    "def grouped_obs_mean(adata_filt, group_key, layer=None, gene_symbols=None):\n",
    "    if layer is not None:\n",
    "        getX = lambda x: x.layers[layer]\n",
    "    else:\n",
    "        getX = lambda x: x.X\n",
    "    if gene_symbols is not None:\n",
    "        new_idx = adata_filt.raw.var[idx]\n",
    "    else:\n",
    "        new_idx = adata_filt.raw.var_names\n",
    "    \n",
    "    grouped = adata_filt.obs.groupby(group_key)\n",
    "    \n",
    "    # Extract only pbmc_sample_id without additional alphabets\n",
    "    column_names = [group.split(':')[0] for group in grouped.groups.keys()]\n",
    "    \n",
    "    out = pd.DataFrame(\n",
    "        np.zeros((adata_filt.raw.shape[1], len(column_names)), dtype=np.float64),\n",
    "        columns=column_names,\n",
    "        index=adata_filt.raw.var_names\n",
    "    )\n",
    "    \n",
    "    for group, idx in grouped.indices.items():\n",
    "        X = getX(adata_filt.raw[idx])\n",
    "        out[group.split(':')[0]] = np.ravel(X.mean(axis=0, dtype=np.float64))\n",
    "    return out\n"
   ]
  },
  {
   "cell_type": "code",
   "execution_count": 269,
   "id": "4ce0a997-7197-44eb-84d3-829354d6a60b",
   "metadata": {
    "tags": []
   },
   "outputs": [
    {
     "name": "stderr",
     "output_type": "stream",
     "text": [
      "/tmp/ipykernel_501/3548609660.py:13: FutureWarning: The default of observed=False is deprecated and will be changed to True in a future version of pandas. Pass observed=False to retain current behavior or observed=True to adopt the future default and silence this warning.\n",
      "  grouped = adata_filt.obs.groupby(group_key)\n"
     ]
    }
   ],
   "source": [
    "Il1b_mean = grouped_obs_mean(adata, ['pbmc_sample_id'])"
   ]
  },
  {
   "cell_type": "code",
   "execution_count": 270,
   "id": "3eb93489-f411-435c-bc45-9b091866e042",
   "metadata": {
    "tags": []
   },
   "outputs": [
    {
     "data": {
      "text/plain": [
       "(1705, 92)"
      ]
     },
     "execution_count": 270,
     "metadata": {},
     "output_type": "execute_result"
    }
   ],
   "source": [
    "Il1b_mean.shape"
   ]
  },
  {
   "cell_type": "code",
   "execution_count": 271,
   "id": "54bf8483-2280-4c4d-893f-56f01cd9aff8",
   "metadata": {
    "tags": []
   },
   "outputs": [
    {
     "data": {
      "text/html": [
       "<div>\n",
       "<style scoped>\n",
       "    .dataframe tbody tr th:only-of-type {\n",
       "        vertical-align: middle;\n",
       "    }\n",
       "\n",
       "    .dataframe tbody tr th {\n",
       "        vertical-align: top;\n",
       "    }\n",
       "\n",
       "    .dataframe thead th {\n",
       "        text-align: right;\n",
       "    }\n",
       "</style>\n",
       "<table border=\"1\" class=\"dataframe\">\n",
       "  <thead>\n",
       "    <tr style=\"text-align: right;\">\n",
       "      <th></th>\n",
       "      <th>PB00001-01</th>\n",
       "      <th>PB00002-01</th>\n",
       "      <th>PB00003-01</th>\n",
       "      <th>PB00004-01</th>\n",
       "      <th>PB00006-01</th>\n",
       "      <th>PB00010-02</th>\n",
       "      <th>PB00012-01</th>\n",
       "      <th>PB00014-01</th>\n",
       "      <th>PB00015-01</th>\n",
       "      <th>PB00016-01</th>\n",
       "      <th>...</th>\n",
       "      <th>PB00592-01</th>\n",
       "      <th>PB00599-01</th>\n",
       "      <th>PB00600-01</th>\n",
       "      <th>PB00602-01</th>\n",
       "      <th>PB00621-01</th>\n",
       "      <th>PB00623-01</th>\n",
       "      <th>PB00625-02</th>\n",
       "      <th>PB00645-01</th>\n",
       "      <th>PB01425-01</th>\n",
       "      <th>PB01446-01</th>\n",
       "    </tr>\n",
       "  </thead>\n",
       "  <tbody>\n",
       "    <tr>\n",
       "      <th>ISG15</th>\n",
       "      <td>-0.035382</td>\n",
       "      <td>-0.120801</td>\n",
       "      <td>0.282110</td>\n",
       "      <td>-0.047321</td>\n",
       "      <td>-0.027795</td>\n",
       "      <td>-0.019217</td>\n",
       "      <td>-0.110614</td>\n",
       "      <td>0.007003</td>\n",
       "      <td>-0.102918</td>\n",
       "      <td>-0.032418</td>\n",
       "      <td>...</td>\n",
       "      <td>0.09233</td>\n",
       "      <td>0.179120</td>\n",
       "      <td>-0.006068</td>\n",
       "      <td>-0.204245</td>\n",
       "      <td>-0.013858</td>\n",
       "      <td>0.261630</td>\n",
       "      <td>-0.034899</td>\n",
       "      <td>0.038640</td>\n",
       "      <td>-0.064541</td>\n",
       "      <td>0.400525</td>\n",
       "    </tr>\n",
       "    <tr>\n",
       "      <th>C1orf159</th>\n",
       "      <td>-0.018376</td>\n",
       "      <td>-0.015714</td>\n",
       "      <td>-0.033987</td>\n",
       "      <td>0.013601</td>\n",
       "      <td>-0.009943</td>\n",
       "      <td>-0.003177</td>\n",
       "      <td>0.001537</td>\n",
       "      <td>-0.007691</td>\n",
       "      <td>-0.011151</td>\n",
       "      <td>0.024245</td>\n",
       "      <td>...</td>\n",
       "      <td>0.00546</td>\n",
       "      <td>0.028617</td>\n",
       "      <td>0.006711</td>\n",
       "      <td>-0.007484</td>\n",
       "      <td>0.023354</td>\n",
       "      <td>-0.008574</td>\n",
       "      <td>0.034783</td>\n",
       "      <td>0.028776</td>\n",
       "      <td>-0.003380</td>\n",
       "      <td>-0.051999</td>\n",
       "    </tr>\n",
       "  </tbody>\n",
       "</table>\n",
       "<p>2 rows × 92 columns</p>\n",
       "</div>"
      ],
      "text/plain": [
       "          PB00001-01  PB00002-01  PB00003-01  PB00004-01  PB00006-01  \\\n",
       "ISG15      -0.035382   -0.120801    0.282110   -0.047321   -0.027795   \n",
       "C1orf159   -0.018376   -0.015714   -0.033987    0.013601   -0.009943   \n",
       "\n",
       "          PB00010-02  PB00012-01  PB00014-01  PB00015-01  PB00016-01  ...  \\\n",
       "ISG15      -0.019217   -0.110614    0.007003   -0.102918   -0.032418  ...   \n",
       "C1orf159   -0.003177    0.001537   -0.007691   -0.011151    0.024245  ...   \n",
       "\n",
       "          PB00592-01  PB00599-01  PB00600-01  PB00602-01  PB00621-01  \\\n",
       "ISG15        0.09233    0.179120   -0.006068   -0.204245   -0.013858   \n",
       "C1orf159     0.00546    0.028617    0.006711   -0.007484    0.023354   \n",
       "\n",
       "          PB00623-01  PB00625-02  PB00645-01  PB01425-01  PB01446-01  \n",
       "ISG15       0.261630   -0.034899    0.038640   -0.064541    0.400525  \n",
       "C1orf159   -0.008574    0.034783    0.028776   -0.003380   -0.051999  \n",
       "\n",
       "[2 rows x 92 columns]"
      ]
     },
     "execution_count": 271,
     "metadata": {},
     "output_type": "execute_result"
    }
   ],
   "source": [
    "Il1b_mean.head(n=2)"
   ]
  },
  {
   "cell_type": "code",
   "execution_count": 272,
   "id": "b0444291-a6a2-4df2-abf4-c020dde39774",
   "metadata": {
    "tags": []
   },
   "outputs": [
    {
     "data": {
      "text/plain": [
       "Index(['ISG15', 'C1orf159', 'ACAP3', 'AL645728.1', 'MIB2', 'PRKCZ', 'MMEL1',\n",
       "       'MEGF6', 'SMIM1', 'TNFRSF25',\n",
       "       ...\n",
       "       'AL844908.1', 'ADARB1', 'COL18A1', 'DIP2A', 'MT-ND2', 'MT-ATP8',\n",
       "       'MT-ND4L', 'MT-ND5', 'MT-ND6', 'AC004556.1'],\n",
       "      dtype='object', length=1705)"
      ]
     },
     "execution_count": 272,
     "metadata": {},
     "output_type": "execute_result"
    }
   ],
   "source": [
    "Il1b_mean.index"
   ]
  },
  {
   "cell_type": "code",
   "execution_count": 273,
   "id": "ce5103ff-ce2d-4041-98ae-b054b1b5ef56",
   "metadata": {
    "tags": []
   },
   "outputs": [
    {
     "data": {
      "text/html": [
       "<div>\n",
       "<style scoped>\n",
       "    .dataframe tbody tr th:only-of-type {\n",
       "        vertical-align: middle;\n",
       "    }\n",
       "\n",
       "    .dataframe tbody tr th {\n",
       "        vertical-align: top;\n",
       "    }\n",
       "\n",
       "    .dataframe thead th {\n",
       "        text-align: right;\n",
       "    }\n",
       "</style>\n",
       "<table border=\"1\" class=\"dataframe\">\n",
       "  <thead>\n",
       "    <tr style=\"text-align: right;\">\n",
       "      <th></th>\n",
       "      <th>PB00001-01</th>\n",
       "      <th>PB00002-01</th>\n",
       "      <th>PB00003-01</th>\n",
       "      <th>PB00004-01</th>\n",
       "      <th>PB00006-01</th>\n",
       "      <th>PB00010-02</th>\n",
       "      <th>PB00012-01</th>\n",
       "      <th>PB00014-01</th>\n",
       "      <th>PB00015-01</th>\n",
       "      <th>PB00016-01</th>\n",
       "      <th>...</th>\n",
       "      <th>PB00592-01</th>\n",
       "      <th>PB00599-01</th>\n",
       "      <th>PB00600-01</th>\n",
       "      <th>PB00602-01</th>\n",
       "      <th>PB00621-01</th>\n",
       "      <th>PB00623-01</th>\n",
       "      <th>PB00625-02</th>\n",
       "      <th>PB00645-01</th>\n",
       "      <th>PB01425-01</th>\n",
       "      <th>PB01446-01</th>\n",
       "    </tr>\n",
       "  </thead>\n",
       "  <tbody>\n",
       "    <tr>\n",
       "      <th>ISG15</th>\n",
       "      <td>-0.035382</td>\n",
       "      <td>-0.120801</td>\n",
       "      <td>0.282110</td>\n",
       "      <td>-0.047321</td>\n",
       "      <td>-0.027795</td>\n",
       "      <td>-0.019217</td>\n",
       "      <td>-0.110614</td>\n",
       "      <td>0.007003</td>\n",
       "      <td>-0.102918</td>\n",
       "      <td>-0.032418</td>\n",
       "      <td>...</td>\n",
       "      <td>0.09233</td>\n",
       "      <td>0.179120</td>\n",
       "      <td>-0.006068</td>\n",
       "      <td>-0.204245</td>\n",
       "      <td>-0.013858</td>\n",
       "      <td>0.261630</td>\n",
       "      <td>-0.034899</td>\n",
       "      <td>0.038640</td>\n",
       "      <td>-0.064541</td>\n",
       "      <td>0.400525</td>\n",
       "    </tr>\n",
       "    <tr>\n",
       "      <th>C1orf159</th>\n",
       "      <td>-0.018376</td>\n",
       "      <td>-0.015714</td>\n",
       "      <td>-0.033987</td>\n",
       "      <td>0.013601</td>\n",
       "      <td>-0.009943</td>\n",
       "      <td>-0.003177</td>\n",
       "      <td>0.001537</td>\n",
       "      <td>-0.007691</td>\n",
       "      <td>-0.011151</td>\n",
       "      <td>0.024245</td>\n",
       "      <td>...</td>\n",
       "      <td>0.00546</td>\n",
       "      <td>0.028617</td>\n",
       "      <td>0.006711</td>\n",
       "      <td>-0.007484</td>\n",
       "      <td>0.023354</td>\n",
       "      <td>-0.008574</td>\n",
       "      <td>0.034783</td>\n",
       "      <td>0.028776</td>\n",
       "      <td>-0.003380</td>\n",
       "      <td>-0.051999</td>\n",
       "    </tr>\n",
       "  </tbody>\n",
       "</table>\n",
       "<p>2 rows × 92 columns</p>\n",
       "</div>"
      ],
      "text/plain": [
       "          PB00001-01  PB00002-01  PB00003-01  PB00004-01  PB00006-01  \\\n",
       "ISG15      -0.035382   -0.120801    0.282110   -0.047321   -0.027795   \n",
       "C1orf159   -0.018376   -0.015714   -0.033987    0.013601   -0.009943   \n",
       "\n",
       "          PB00010-02  PB00012-01  PB00014-01  PB00015-01  PB00016-01  ...  \\\n",
       "ISG15      -0.019217   -0.110614    0.007003   -0.102918   -0.032418  ...   \n",
       "C1orf159   -0.003177    0.001537   -0.007691   -0.011151    0.024245  ...   \n",
       "\n",
       "          PB00592-01  PB00599-01  PB00600-01  PB00602-01  PB00621-01  \\\n",
       "ISG15        0.09233    0.179120   -0.006068   -0.204245   -0.013858   \n",
       "C1orf159     0.00546    0.028617    0.006711   -0.007484    0.023354   \n",
       "\n",
       "          PB00623-01  PB00625-02  PB00645-01  PB01425-01  PB01446-01  \n",
       "ISG15       0.261630   -0.034899    0.038640   -0.064541    0.400525  \n",
       "C1orf159   -0.008574    0.034783    0.028776   -0.003380   -0.051999  \n",
       "\n",
       "[2 rows x 92 columns]"
      ]
     },
     "execution_count": 273,
     "metadata": {},
     "output_type": "execute_result"
    }
   ],
   "source": [
    "Il1b_mean.head(n=2)"
   ]
  },
  {
   "cell_type": "code",
   "execution_count": 274,
   "id": "6a808767-d24e-47e6-a189-01c96fbad305",
   "metadata": {
    "tags": []
   },
   "outputs": [],
   "source": [
    "# Save DataFrame to CSV\n",
    "Il1b_mean.to_csv('Core_CD14_mono_Heatmap_expression_matrix_v1.csv')"
   ]
  },
  {
   "cell_type": "code",
   "execution_count": null,
   "id": "b417016a-5947-4516-9158-f3fce4855600",
   "metadata": {},
   "outputs": [],
   "source": []
  },
  {
   "cell_type": "code",
   "execution_count": null,
   "id": "3111cca6-c2f2-47cb-8654-a5a1649b0941",
   "metadata": {},
   "outputs": [],
   "source": []
  },
  {
   "cell_type": "code",
   "execution_count": null,
   "id": "708eabac-1cb9-4f6f-b8c0-551542954edb",
   "metadata": {},
   "outputs": [],
   "source": []
  },
  {
   "cell_type": "code",
   "execution_count": null,
   "id": "9488b5ff-abc9-4960-9488-b33d44ef2341",
   "metadata": {},
   "outputs": [],
   "source": []
  }
 ],
 "metadata": {
  "kernelspec": {
   "display_name": "Python 3 (ipykernel)",
   "language": "python",
   "name": "python3"
  },
  "language_info": {
   "codemirror_mode": {
    "name": "ipython",
    "version": 3
   },
   "file_extension": ".py",
   "mimetype": "text/x-python",
   "name": "python",
   "nbconvert_exporter": "python",
   "pygments_lexer": "ipython3",
   "version": "3.10.12"
  }
 },
 "nbformat": 4,
 "nbformat_minor": 5
}
