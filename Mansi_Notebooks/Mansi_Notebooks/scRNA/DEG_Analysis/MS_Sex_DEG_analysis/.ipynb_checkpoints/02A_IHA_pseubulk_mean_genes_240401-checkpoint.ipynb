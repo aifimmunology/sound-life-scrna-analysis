{
 "cells": [
  {
   "cell_type": "code",
   "execution_count": 114,
   "id": "4b290f3c-070d-4cf8-a1c4-4898078c3d8b",
   "metadata": {
    "tags": []
   },
   "outputs": [],
   "source": [
    "import hisepy as hp\n",
    "import h5py\n",
    "import pandas as pd\n",
    "import scipy.sparse as scs\n",
    "import os\n",
    "import scanpy as sc\n",
    "import anndata"
   ]
  },
  {
   "cell_type": "code",
   "execution_count": 115,
   "id": "8cda8459-437f-46f5-b5e2-503ee30d0198",
   "metadata": {
    "tags": []
   },
   "outputs": [],
   "source": [
    "import anndata\n",
    "import h5py\n",
    "import os\n",
    "import pandas\n",
    "import scanpy as sc\n",
    "import scvi\n",
    "import matplotlib.pyplot as plt\n",
    "\n",
    "\n",
    "import scipy.sparse as scs\n",
    "import numpy as np"
   ]
  },
  {
   "cell_type": "code",
   "execution_count": 176,
   "id": "e8280247-cdd3-47fc-88bb-89a12cb85107",
   "metadata": {
    "tags": []
   },
   "outputs": [],
   "source": [
    "import anndata\n",
    "import h5py\n",
    "import os\n",
    "import pandas\n",
    "import scanpy as sc\n",
    "import scvi\n",
    "import matplotlib.pyplot as plt\n",
    "\n",
    "import scipy.sparse as scs\n",
    "import numpy as np\n",
    "import sklearn\n",
    "import seaborn as sns\n",
    "sns.set()"
   ]
  },
  {
   "cell_type": "code",
   "execution_count": 177,
   "id": "efb4b279-973d-4c47-aa9b-54bd33b03791",
   "metadata": {
    "tags": []
   },
   "outputs": [
    {
     "data": {
      "text/plain": [
       "'1.24.4'"
      ]
     },
     "execution_count": 177,
     "metadata": {},
     "output_type": "execute_result"
    }
   ],
   "source": [
    "np.version.version"
   ]
  },
  {
   "cell_type": "code",
   "execution_count": 178,
   "id": "98b409e8-6d96-440d-9d6c-a1c059c06f24",
   "metadata": {
    "tags": []
   },
   "outputs": [
    {
     "data": {
      "text/plain": [
       "'1.9.5'"
      ]
     },
     "execution_count": 178,
     "metadata": {},
     "output_type": "execute_result"
    }
   ],
   "source": [
    "sc.__version__"
   ]
  },
  {
   "cell_type": "code",
   "execution_count": 179,
   "id": "1dfe16a6-aad7-4ce7-a525-3518dfb3704a",
   "metadata": {
    "tags": []
   },
   "outputs": [
    {
     "data": {
      "text/plain": [
       "'0.9.2'"
      ]
     },
     "execution_count": 179,
     "metadata": {},
     "output_type": "execute_result"
    }
   ],
   "source": [
    "anndata.__version__"
   ]
  },
  {
   "cell_type": "code",
   "execution_count": 180,
   "id": "00ff2072-4633-4717-a01b-eea784b63ce0",
   "metadata": {
    "tags": []
   },
   "outputs": [],
   "source": [
    "sc.settings.autosave = True  # save figures, do not show them\n",
    " # set sufficiently high resolution for saving\n",
    "sc.settings.set_figure_params(scanpy=True, dpi=80, dpi_save=300, frameon=True, vector_friendly=True, fontsize=18, color_map=None, format='png', transparent=False, ipython_format='png2x')"
   ]
  },
  {
   "cell_type": "code",
   "execution_count": 181,
   "id": "eea562a5-5462-4de3-9103-26163565a1d6",
   "metadata": {
    "collapsed": true,
    "jupyter": {
     "outputs_hidden": true
    },
    "tags": []
   },
   "outputs": [],
   "source": [
    "# adata = sc.read ('/home/jupyter/Myeloid_cells/files/Myeloidcells_processed_labeled_v5_2024-04-01.h5ad')\n",
    "# adata"
   ]
  },
  {
   "cell_type": "code",
   "execution_count": 182,
   "id": "bcaf3ef1-54d1-434a-a5e2-90f2166070d9",
   "metadata": {
    "tags": []
   },
   "outputs": [
    {
     "data": {
      "text/plain": [
       "AnnData object with n_obs × n_vars = 2679 × 3000\n",
       "    obs: 'barcodes', 'batch_id', 'cell_name', 'cell_uuid', 'chip_id', 'hto_barcode', 'hto_category', 'n_genes', 'n_mito_umis', 'n_reads', 'n_umis', 'original_barcodes', 'pbmc_sample_id', 'pool_id', 'seurat_pbmc_type', 'seurat_pbmc_type_score', 'umap_1', 'umap_2', 'well_id', 'subject.biologicalSex', 'subject.ethnicity', 'subject.partnerCode', 'subject.race', 'subject.subjectGuid', 'cohort.cohortGuid', 'sample.visitName', 'sample.visitDetails', 'subject.birthYear', 'CMV.IgG.Serology.Result.Interpretation', 'BMI', 'predicted_doublet', 'doublet_score', 'AIFI_L1', 'AIFI_L2', 'AIFI_L3', 'AIFI_L3.5', 'n_genes_by_counts', 'log1p_n_genes_by_counts', 'total_counts', 'log1p_total_counts', 'pct_counts_in_top_50_genes', 'pct_counts_in_top_100_genes', 'pct_counts_in_top_200_genes', 'pct_counts_in_top_500_genes', 'total_counts_mito', 'log1p_total_counts_mito', 'pct_counts_mito', 'leiden_resolution_0.5', 'leiden_resolution_1', 'leiden_resolution_1.5', 'leiden_resolution_2'\n",
       "    var: 'highly_variable', 'means', 'dispersions', 'dispersions_norm', 'mean', 'std'\n",
       "    uns: 'hvg', 'log1p', 'neighbors', 'pca', 'umap'\n",
       "    obsm: 'X_pca', 'X_pca_harmony', 'X_umap'\n",
       "    varm: 'PCs'\n",
       "    layers: 'counts'\n",
       "    obsp: 'connectivities', 'distances'"
      ]
     },
     "execution_count": 182,
     "metadata": {},
     "output_type": "execute_result"
    }
   ],
   "source": [
    "adata = sc.read ('/home/jupyter/Myeloid_cells/files/IL1B_CD14_Mono_ONLY_FluYr1D0_processed_04172024.h5ad')\n",
    "adata"
   ]
  },
  {
   "cell_type": "code",
   "execution_count": 122,
   "id": "0a3570ad-7ab4-4b27-b758-5b0becab9b96",
   "metadata": {
    "tags": []
   },
   "outputs": [
    {
     "data": {
      "text/plain": [
       "AnnData object with n_obs × n_vars = 2679 × 2686\n",
       "    obs: 'barcodes', 'batch_id', 'cell_name', 'cell_uuid', 'chip_id', 'hto_barcode', 'hto_category', 'n_genes', 'n_mito_umis', 'n_reads', 'n_umis', 'original_barcodes', 'pbmc_sample_id', 'pool_id', 'seurat_pbmc_type', 'seurat_pbmc_type_score', 'umap_1', 'umap_2', 'well_id', 'subject.biologicalSex', 'subject.ethnicity', 'subject.partnerCode', 'subject.race', 'subject.subjectGuid', 'cohort.cohortGuid', 'sample.visitName', 'sample.visitDetails', 'subject.birthYear', 'CMV.IgG.Serology.Result.Interpretation', 'BMI', 'predicted_doublet', 'doublet_score', 'AIFI_L1', 'AIFI_L2', 'AIFI_L3', 'AIFI_L3.5', 'n_genes_by_counts', 'log1p_n_genes_by_counts', 'total_counts', 'log1p_total_counts', 'pct_counts_in_top_50_genes', 'pct_counts_in_top_100_genes', 'pct_counts_in_top_200_genes', 'pct_counts_in_top_500_genes', 'total_counts_mito', 'log1p_total_counts_mito', 'pct_counts_mito', 'leiden_resolution_0.5', 'leiden_resolution_1', 'leiden_resolution_1.5', 'leiden_resolution_2'\n",
       "    var: 'highly_variable', 'means', 'dispersions', 'dispersions_norm', 'mean', 'std'\n",
       "    uns: 'hvg', 'log1p', 'neighbors', 'pca', 'umap'\n",
       "    obsm: 'X_pca', 'X_pca_harmony', 'X_umap'\n",
       "    varm: 'PCs'\n",
       "    obsp: 'connectivities', 'distances'"
      ]
     },
     "execution_count": 122,
     "metadata": {},
     "output_type": "execute_result"
    }
   ],
   "source": [
    "adata = sc.read ('/home/jupyter/Myeloid_cells/files/IL1B_CD14_Mono_ONLY_FluYr1D0_parallel.h5ad')\n",
    "adata"
   ]
  },
  {
   "cell_type": "code",
   "execution_count": 145,
   "id": "59ab76d0-6b2e-4e93-b159-a60b419e1daa",
   "metadata": {
    "tags": []
   },
   "outputs": [
    {
     "name": "stdout",
     "output_type": "stream",
     "text": [
      "(2679, 2686)\n",
      "Raw counts are not available.\n",
      "Data has not been normalized.\n"
     ]
    }
   ],
   "source": [
    "# # Assuming 'adata' is your AnnData object\n",
    "\n",
    "# # 1. Check Count Matrix\n",
    "# count_matrix = adata.X\n",
    "\n",
    "# # Print dimensions of count matrix\n",
    "# print(count_matrix.shape)\n",
    "\n",
    "# # 2. Check Normalization Status\n",
    "# # Check if raw counts are stored in the AnnData object\n",
    "# if 'raw' in adata.layers:\n",
    "#     print(\"Raw counts are available.\")\n",
    "# else:\n",
    "#     print(\"Raw counts are not available.\")\n",
    "\n",
    "# # Check if any normalization has been applied\n",
    "# if 'norm' in adata.layers:\n",
    "#     print(\"Data has been normalized.\")\n",
    "# else:\n",
    "#     print(\"Data has not been normalized.\")\n"
   ]
  },
  {
   "cell_type": "markdown",
   "id": "a073d3ea-c20f-4087-a303-bf781502b815",
   "metadata": {},
   "source": [
    "# Pre-processing steps "
   ]
  },
  {
   "cell_type": "code",
   "execution_count": 183,
   "id": "7c8a4b30-235c-4f89-b392-732e06e3e402",
   "metadata": {
    "tags": []
   },
   "outputs": [
    {
     "data": {
      "text/plain": [
       "array([[-0.13257308, -0.11326809, -0.19229758, ...,  1.0864776 ,\n",
       "        -0.06738479, -0.1569277 ],\n",
       "       [-0.13257308, -0.11326809, -0.19229758, ..., -0.3272909 ,\n",
       "        -0.66804814, -0.1569277 ],\n",
       "       [-0.13257308, -0.11326809, -0.19229758, ...,  0.7517497 ,\n",
       "         0.16908544, -0.1569277 ],\n",
       "       ...,\n",
       "       [-0.13257308, -0.11326809, -0.19229758, ...,  0.843975  ,\n",
       "         0.12336355, -0.1569277 ],\n",
       "       [-0.13257308, -0.11326809, -0.19229758, ...,  0.3847766 ,\n",
       "         0.36979628, -0.1569277 ],\n",
       "       [-0.13257308, -0.11326809, -0.19229758, ...,  0.6732785 ,\n",
       "        -0.3448623 , -0.1569277 ]], dtype=float32)"
      ]
     },
     "execution_count": 183,
     "metadata": {},
     "output_type": "execute_result"
    }
   ],
   "source": [
    "adata.X"
   ]
  },
  {
   "cell_type": "code",
   "execution_count": 184,
   "id": "3c4bd7cd-b13c-47cb-9492-0db3c8d6f323",
   "metadata": {
    "tags": []
   },
   "outputs": [
    {
     "data": {
      "text/plain": [
       "array([[0.        , 0.        , 0.        , ..., 0.999649  , 0.        ,\n",
       "        0.        ],\n",
       "       [0.        , 0.        , 0.        , ..., 0.        , 0.        ,\n",
       "        0.        ],\n",
       "       [0.        , 0.        , 0.        , ..., 0.        , 0.        ,\n",
       "        0.        ],\n",
       "       ...,\n",
       "       [0.        , 0.        , 0.76692563, ..., 0.        , 0.        ,\n",
       "        0.        ],\n",
       "       [0.        , 0.        , 0.        , ..., 0.        , 0.        ,\n",
       "        0.        ],\n",
       "       [0.        , 0.        , 0.        , ..., 0.        , 0.        ,\n",
       "        0.        ]], dtype=float32)"
      ]
     },
     "execution_count": 184,
     "metadata": {},
     "output_type": "execute_result"
    }
   ],
   "source": [
    "adata.raw.X[10:50,10:50].toarray()"
   ]
  },
  {
   "cell_type": "code",
   "execution_count": 185,
   "id": "36e3a525-9dda-4772-b7e3-4b613807cf40",
   "metadata": {
    "tags": []
   },
   "outputs": [
    {
     "data": {
      "text/plain": [
       "array([[ 0.,  0.,  0., ..., 39., 26.,  0.],\n",
       "       [ 0.,  0.,  0., ..., 14., 15.,  0.],\n",
       "       [ 0.,  0.,  0., ..., 70., 65.,  0.],\n",
       "       ...,\n",
       "       [ 0.,  0.,  0., ..., 14., 12.,  0.],\n",
       "       [ 0.,  0.,  0., ..., 24., 31.,  0.],\n",
       "       [ 0.,  0.,  0., ..., 50., 36.,  0.]], dtype=float32)"
      ]
     },
     "execution_count": 185,
     "metadata": {},
     "output_type": "execute_result"
    }
   ],
   "source": [
    "adata.layers['counts'].toarray()"
   ]
  },
  {
   "cell_type": "code",
   "execution_count": 168,
   "id": "554bf292-4734-498b-a636-1f93b34a8308",
   "metadata": {
    "tags": []
   },
   "outputs": [
    {
     "name": "stdout",
     "output_type": "stream",
     "text": [
      "(2679, 2686)\n"
     ]
    }
   ],
   "source": [
    "# # Assuming 'adata' is your AnnData object\n",
    "\n",
    "# # Check the raw count matrix\n",
    "# raw_count_matrix = adata.raw.X\n",
    "\n",
    "# # Print dimensions of the raw count matrix\n",
    "# print(raw_count_matrix.shape)\n"
   ]
  },
  {
   "cell_type": "code",
   "execution_count": 186,
   "id": "8865c27f-1380-4aac-b3b8-ce2ef0e80713",
   "metadata": {
    "tags": []
   },
   "outputs": [
    {
     "data": {
      "text/plain": [
       "array([[-0.23626865, -0.1330224 , -0.04503579, ..., -0.10436885,\n",
       "         0.18439382, -0.19886287],\n",
       "       [-0.23626865, -0.1330224 , -0.04503579, ..., -0.10436885,\n",
       "         0.88348365, -0.19886287],\n",
       "       [-0.23626865, -0.1330224 , -0.04503579, ..., -0.10436885,\n",
       "        -1.2129416 , -0.19886287],\n",
       "       ...,\n",
       "       [-0.23626865, -0.1330224 , -0.04503579, ..., -0.10436885,\n",
       "        -1.2129416 , -0.19886287],\n",
       "       [-0.23626865, -0.1330224 , -0.04503579, ..., -0.10436885,\n",
       "        -1.2129416 , -0.19886287],\n",
       "       [-0.23626865, -0.1330224 , -0.04503579, ..., -0.10436885,\n",
       "        -1.2129416 , -0.19886287]], dtype=float32)"
      ]
     },
     "execution_count": 186,
     "metadata": {},
     "output_type": "execute_result"
    }
   ],
   "source": [
    "adata.X[10:50,10:50] ##to check if its a counts or normalized counts "
   ]
  },
  {
   "cell_type": "code",
   "execution_count": 44,
   "id": "0e782411-3b78-4914-9df5-5096f54bfec1",
   "metadata": {
    "tags": []
   },
   "outputs": [
    {
     "data": {
      "text/plain": [
       "array([[0.        , 0.        , 0.        , ..., 0.999649  , 0.        ,\n",
       "        0.        ],\n",
       "       [0.        , 0.        , 0.        , ..., 0.        , 0.        ,\n",
       "        0.        ],\n",
       "       [0.        , 0.        , 0.        , ..., 0.        , 0.        ,\n",
       "        0.        ],\n",
       "       ...,\n",
       "       [0.        , 0.        , 0.76692563, ..., 0.        , 0.        ,\n",
       "        0.        ],\n",
       "       [0.        , 0.        , 0.        , ..., 0.        , 0.        ,\n",
       "        0.        ],\n",
       "       [0.        , 0.        , 0.        , ..., 0.        , 0.        ,\n",
       "        0.        ]], dtype=float32)"
      ]
     },
     "execution_count": 44,
     "metadata": {},
     "output_type": "execute_result"
    }
   ],
   "source": [
    "adata.raw.X[10:50,10:50].toarray()"
   ]
  },
  {
   "cell_type": "code",
   "execution_count": 187,
   "id": "877800dc-9101-41a5-998b-3bd8ab11497e",
   "metadata": {
    "tags": []
   },
   "outputs": [],
   "source": [
    "## preserve counts \n",
    "adata.layers[\"counts\"] = adata.X.copy()"
   ]
  },
  {
   "cell_type": "code",
   "execution_count": 88,
   "id": "eb6123ac-550a-4449-8001-473551a07f22",
   "metadata": {
    "tags": []
   },
   "outputs": [
    {
     "name": "stderr",
     "output_type": "stream",
     "text": [
      "/opt/conda/lib/python3.10/site-packages/scanpy/preprocessing/_normalization.py:196: UserWarning: Some cells have zero counts\n",
      "  warn(UserWarning('Some cells have zero counts'))\n"
     ]
    }
   ],
   "source": [
    "# cpm normalization\n",
    "sc.pp.normalize_total(adata, target_sum=1e4, inplace=True)\n",
    "#sc.pp.log1p(adata)\n",
    "#sc.pp.highly_variable_genes(adata, min_mean=0.0125, max_mean=3, min_disp=0.5)"
   ]
  },
  {
   "cell_type": "code",
   "execution_count": 89,
   "id": "ab42a3e3-8a36-4b95-9063-4c67866b0bd3",
   "metadata": {
    "tags": []
   },
   "outputs": [],
   "source": [
    "adata.raw =adata\n",
    "adata.raw.X ##has the normalized counts \n",
    "sc.pp.scale(adata, max_value=10)"
   ]
  },
  {
   "cell_type": "code",
   "execution_count": 90,
   "id": "f466390c-00b3-4075-bb8f-8e398c0114ea",
   "metadata": {
    "tags": []
   },
   "outputs": [
    {
     "data": {
      "text/plain": [
       "array([[ 0.00889756,  0.01246578, -0.02926441, ..., -0.04956673,\n",
       "        -0.02598448, -0.01157081],\n",
       "       [ 0.03541471,  0.02920031, -0.01144819, ..., -0.08499964,\n",
       "        -0.01870862,  0.01862249],\n",
       "       [ 0.02121419,  0.0202386 , -0.02098916, ...,  0.05578455,\n",
       "        -0.022605  ,  0.00245332],\n",
       "       ...,\n",
       "       [ 0.21683754,  0.14369324,  0.11044537, ...,  0.34822613,\n",
       "         0.03107073,  0.22519648],\n",
       "       [ 0.00841689,  0.01216243, -0.02958736, ..., -0.05048626,\n",
       "        -0.02611637, -0.01211811],\n",
       "       [ 0.0229673 ,  0.02134496, -0.01981129, ..., -0.02265106,\n",
       "        -0.02212398,  0.00444947]], dtype=float32)"
      ]
     },
     "execution_count": 90,
     "metadata": {},
     "output_type": "execute_result"
    }
   ],
   "source": [
    "adata.X"
   ]
  },
  {
   "cell_type": "code",
   "execution_count": null,
   "id": "6514de0f-22e6-49ca-9e11-ade5d1ef56a4",
   "metadata": {},
   "outputs": [],
   "source": []
  },
  {
   "cell_type": "code",
   "execution_count": 108,
   "id": "59e38b3b-16b4-4992-8e86-cbdc8db235fa",
   "metadata": {
    "tags": []
   },
   "outputs": [
    {
     "name": "stderr",
     "output_type": "stream",
     "text": [
      "/opt/conda/lib/python3.10/site-packages/anndata/_core/anndata.py:1113: FutureWarning: is_categorical_dtype is deprecated and will be removed in a future version. Use isinstance(dtype, CategoricalDtype) instead\n",
      "  if not is_categorical_dtype(df_full[k]):\n"
     ]
    }
   ],
   "source": [
    "# selected_cell_types = ['IL1B+ CD14 monocyte']\n",
    "\n",
    "# adata_filt = adata[adata.obs['AIFI_L3'].isin(selected_cell_types), :]"
   ]
  },
  {
   "cell_type": "code",
   "execution_count": 109,
   "id": "8f31696b-86f3-4907-8a32-6ce341aee890",
   "metadata": {
    "tags": []
   },
   "outputs": [
    {
     "data": {
      "text/plain": [
       "View of AnnData object with n_obs × n_vars = 2679 × 2686\n",
       "    obs: 'barcodes', 'batch_id', 'cell_name', 'cell_uuid', 'chip_id', 'hto_barcode', 'hto_category', 'n_genes', 'n_mito_umis', 'n_reads', 'n_umis', 'original_barcodes', 'pbmc_sample_id', 'pool_id', 'seurat_pbmc_type', 'seurat_pbmc_type_score', 'umap_1', 'umap_2', 'well_id', 'subject.biologicalSex', 'subject.ethnicity', 'subject.partnerCode', 'subject.race', 'subject.subjectGuid', 'cohort.cohortGuid', 'sample.visitName', 'sample.visitDetails', 'subject.birthYear', 'CMV.IgG.Serology.Result.Interpretation', 'BMI', 'predicted_doublet', 'doublet_score', 'AIFI_L1', 'AIFI_L2', 'AIFI_L3', 'AIFI_L3.5', 'n_genes_by_counts', 'log1p_n_genes_by_counts', 'total_counts', 'log1p_total_counts', 'pct_counts_in_top_50_genes', 'pct_counts_in_top_100_genes', 'pct_counts_in_top_200_genes', 'pct_counts_in_top_500_genes', 'total_counts_mito', 'log1p_total_counts_mito', 'pct_counts_mito', 'leiden_resolution_0.5', 'leiden_resolution_1', 'leiden_resolution_1.5', 'leiden_resolution_2'\n",
       "    var: 'highly_variable', 'means', 'dispersions', 'dispersions_norm', 'mean', 'std'\n",
       "    uns: 'hvg', 'log1p', 'neighbors', 'pca', 'umap'\n",
       "    obsm: 'X_pca', 'X_pca_harmony', 'X_umap'\n",
       "    varm: 'PCs'\n",
       "    obsp: 'connectivities', 'distances'"
      ]
     },
     "execution_count": 109,
     "metadata": {},
     "output_type": "execute_result"
    }
   ],
   "source": [
    "# adata_filt"
   ]
  },
  {
   "cell_type": "code",
   "execution_count": null,
   "id": "6a0ea2d3-117b-4a7f-91e6-a7dfec02feba",
   "metadata": {},
   "outputs": [],
   "source": []
  },
  {
   "cell_type": "code",
   "execution_count": 186,
   "id": "33ba775e-ed28-4483-b275-6ca6cbc9dfd2",
   "metadata": {
    "tags": []
   },
   "outputs": [
    {
     "data": {
      "text/plain": [
       "['Flu Year 1 Day 0']\n",
       "Categories (1, object): ['Flu Year 1 Day 0']"
      ]
     },
     "execution_count": 186,
     "metadata": {},
     "output_type": "execute_result"
    }
   ],
   "source": [
    "adata.obs['sample.visitName'].unique()"
   ]
  },
  {
   "cell_type": "markdown",
   "id": "06a952f1-9114-43e5-a9c6-df35f3b005a0",
   "metadata": {},
   "source": [
    "## generate PB count matrix on 240325start ##"
   ]
  },
  {
   "cell_type": "code",
   "execution_count": 125,
   "id": "5ea3eff9-0704-4a48-a950-9c390d0bf1f0",
   "metadata": {
    "tags": []
   },
   "outputs": [],
   "source": [
    "import hisepy as hp\n",
    "import h5py\n",
    "import pandas as pd\n",
    "import scipy.sparse as scs\n",
    "import os\n",
    "import scanpy as sc\n",
    "import anndata\n",
    "import numpy as np"
   ]
  },
  {
   "cell_type": "code",
   "execution_count": 73,
   "id": "df767f36-f6e3-408a-9225-a60b5aa900e1",
   "metadata": {
    "tags": []
   },
   "outputs": [],
   "source": [
    "#adata_filt.obs.rename(columns={\"pbmc_sample_id\": \"pbmc_sample_id\"}, inplace=True)"
   ]
  },
  {
   "cell_type": "code",
   "execution_count": 74,
   "id": "313f98eb-0b63-41a6-a0fe-b4058d7a5f44",
   "metadata": {
    "tags": []
   },
   "outputs": [],
   "source": [
    "#adata_filt.obs.rename(columns={\"CMV.IgG.Serology.Result.Interpretation\": \"CMV\"}, inplace=True)"
   ]
  },
  {
   "cell_type": "code",
   "execution_count": 75,
   "id": "113570c2-2c7b-45aa-ab1b-41f38ec6b90b",
   "metadata": {
    "tags": []
   },
   "outputs": [],
   "source": [
    "#adata_filt.obs.rename(columns={\"cohort.cohortGuid\": \"Age\"}, inplace=True)"
   ]
  },
  {
   "cell_type": "code",
   "execution_count": 126,
   "id": "cbbd6fac-dc34-4718-9831-09104fa76d26",
   "metadata": {
    "tags": []
   },
   "outputs": [
    {
     "data": {
      "text/plain": [
       "AnnData object with n_obs × n_vars = 2679 × 2686\n",
       "    obs: 'barcodes', 'batch_id', 'cell_name', 'cell_uuid', 'chip_id', 'hto_barcode', 'hto_category', 'n_genes', 'n_mito_umis', 'n_reads', 'n_umis', 'original_barcodes', 'pbmc_sample_id', 'pool_id', 'seurat_pbmc_type', 'seurat_pbmc_type_score', 'umap_1', 'umap_2', 'well_id', 'subject.biologicalSex', 'subject.ethnicity', 'subject.partnerCode', 'subject.race', 'subject.subjectGuid', 'cohort.cohortGuid', 'sample.visitName', 'sample.visitDetails', 'subject.birthYear', 'CMV.IgG.Serology.Result.Interpretation', 'BMI', 'predicted_doublet', 'doublet_score', 'AIFI_L1', 'AIFI_L2', 'AIFI_L3', 'AIFI_L3.5', 'n_genes_by_counts', 'log1p_n_genes_by_counts', 'total_counts', 'log1p_total_counts', 'pct_counts_in_top_50_genes', 'pct_counts_in_top_100_genes', 'pct_counts_in_top_200_genes', 'pct_counts_in_top_500_genes', 'total_counts_mito', 'log1p_total_counts_mito', 'pct_counts_mito', 'leiden_resolution_0.5', 'leiden_resolution_1', 'leiden_resolution_1.5', 'leiden_resolution_2'\n",
       "    var: 'highly_variable', 'means', 'dispersions', 'dispersions_norm', 'mean', 'std'\n",
       "    uns: 'hvg', 'log1p', 'neighbors', 'pca', 'umap'\n",
       "    obsm: 'X_pca', 'X_pca_harmony', 'X_umap'\n",
       "    varm: 'PCs'\n",
       "    obsp: 'connectivities', 'distances'"
      ]
     },
     "execution_count": 126,
     "metadata": {},
     "output_type": "execute_result"
    }
   ],
   "source": [
    "adata"
   ]
  },
  {
   "cell_type": "code",
   "execution_count": 127,
   "id": "c6ebd378-f288-4f85-924f-55179563be5b",
   "metadata": {
    "tags": []
   },
   "outputs": [],
   "source": [
    "adata.obs['unique_ID'] = adata.obs['pbmc_sample_id'].str.cat (adata.obs['subject.biologicalSex'], sep = \"_\").str.cat (adata.obs['cohort.cohortGuid'], sep = \"_\")"
   ]
  },
  {
   "cell_type": "code",
   "execution_count": 128,
   "id": "d41408e7-8f35-4696-af74-3c3b5c34c6f9",
   "metadata": {
    "tags": []
   },
   "outputs": [
    {
     "data": {
      "text/plain": [
       "AnnData object with n_obs × n_vars = 2679 × 2686\n",
       "    obs: 'barcodes', 'batch_id', 'cell_name', 'cell_uuid', 'chip_id', 'hto_barcode', 'hto_category', 'n_genes', 'n_mito_umis', 'n_reads', 'n_umis', 'original_barcodes', 'pbmc_sample_id', 'pool_id', 'seurat_pbmc_type', 'seurat_pbmc_type_score', 'umap_1', 'umap_2', 'well_id', 'subject.biologicalSex', 'subject.ethnicity', 'subject.partnerCode', 'subject.race', 'subject.subjectGuid', 'cohort.cohortGuid', 'sample.visitName', 'sample.visitDetails', 'subject.birthYear', 'CMV.IgG.Serology.Result.Interpretation', 'BMI', 'predicted_doublet', 'doublet_score', 'AIFI_L1', 'AIFI_L2', 'AIFI_L3', 'AIFI_L3.5', 'n_genes_by_counts', 'log1p_n_genes_by_counts', 'total_counts', 'log1p_total_counts', 'pct_counts_in_top_50_genes', 'pct_counts_in_top_100_genes', 'pct_counts_in_top_200_genes', 'pct_counts_in_top_500_genes', 'total_counts_mito', 'log1p_total_counts_mito', 'pct_counts_mito', 'leiden_resolution_0.5', 'leiden_resolution_1', 'leiden_resolution_1.5', 'leiden_resolution_2', 'unique_ID'\n",
       "    var: 'highly_variable', 'means', 'dispersions', 'dispersions_norm', 'mean', 'std'\n",
       "    uns: 'hvg', 'log1p', 'neighbors', 'pca', 'umap'\n",
       "    obsm: 'X_pca', 'X_pca_harmony', 'X_umap'\n",
       "    varm: 'PCs'\n",
       "    obsp: 'connectivities', 'distances'"
      ]
     },
     "execution_count": 128,
     "metadata": {},
     "output_type": "execute_result"
    }
   ],
   "source": [
    "adata"
   ]
  },
  {
   "cell_type": "code",
   "execution_count": 129,
   "id": "26e100be-4b53-4365-9fed-87c8004c670f",
   "metadata": {
    "tags": []
   },
   "outputs": [
    {
     "data": {
      "text/plain": [
       "array(['PB00001-01_Female_BR1', 'PB00002-01_Male_BR1',\n",
       "       'PB00003-01_Female_BR1', 'PB00004-01_Male_BR1',\n",
       "       'PB00006-01_Female_BR1', 'PB00010-02_Male_BR1',\n",
       "       'PB00012-01_Female_BR1', 'PB00014-01_Male_BR1',\n",
       "       'PB00015-01_Male_BR2', 'PB00016-01_Female_BR2',\n",
       "       'PB00022-01_Female_BR1', 'PB00023-05_Female_BR1',\n",
       "       'PB00025-04_Male_BR1', 'PB00026-05_Male_BR1',\n",
       "       'PB00030-02_Female_BR1', 'PB00031-05_Female_BR1',\n",
       "       'PB00041-01_Male_BR1', 'PB00166-01_Female_BR1',\n",
       "       'PB00334-01_Female_BR2', 'PB00338-01_Female_BR1',\n",
       "       'PB00339-01_Male_BR2', 'PB00341-01_Female_BR1',\n",
       "       'PB00342-01_Male_BR2', 'PB00345-01_Female_BR1',\n",
       "       'PB00347-01_Female_BR1', 'PB00349-01_Female_BR1',\n",
       "       'PB00350-01_Female_BR1', 'PB00352-04_Female_BR2',\n",
       "       'PB00353-04_Female_BR2', 'PB00356-01_Male_BR2',\n",
       "       'PB00357-01_Male_BR1', 'PB00362-01_Female_BR1',\n",
       "       'PB00363-01_Male_BR1', 'PB00365-01_Female_BR1',\n",
       "       'PB00366-01_Female_BR1', 'PB00368-07_Female_BR2',\n",
       "       'PB00369-01_Male_BR2', 'PB00377-01_Female_BR2',\n",
       "       'PB00383-01_Male_BR2', 'PB00384-01_Male_BR1',\n",
       "       'PB00386-01_Male_BR1', 'PB00387-01_Female_BR2',\n",
       "       'PB00388-01_Female_BR2', 'PB00390-01_Male_BR2',\n",
       "       'PB00391-01_Male_BR1', 'PB00393-01_Female_BR2',\n",
       "       'PB00394-02_Female_BR2', 'PB00398-01_Male_BR1',\n",
       "       'PB00501-01_Female_BR2', 'PB00504-01_Male_BR1',\n",
       "       'PB00507-01_Female_BR1', 'PB00510-01_Male_BR2',\n",
       "       'PB00514-01_Male_BR1', 'PB00516-01_Female_BR2',\n",
       "       'PB00518-01_Male_BR1', 'PB00520-01_Male_BR2',\n",
       "       'PB00523-01_Male_BR2', 'PB00525-01_Female_BR1',\n",
       "       'PB00526-01_Female_BR2', 'PB00529-01_Female_BR1',\n",
       "       'PB00530-01_Female_BR2', 'PB00532-01_Female_BR1',\n",
       "       'PB00533-01_Female_BR2', 'PB00535-01_Male_BR1',\n",
       "       'PB00537-01_Female_BR2', 'PB00539-01_Male_BR2',\n",
       "       'PB00541-01_Female_BR2', 'PB00545-01_Female_BR2',\n",
       "       'PB00549-01_Male_BR1', 'PB00552-01_Female_BR2',\n",
       "       'PB00557-01_Female_BR2', 'PB00561-04_Female_BR2',\n",
       "       'PB00562-01_Male_BR2', 'PB00563-01_Male_BR2',\n",
       "       'PB00564-04_Male_BR2', 'PB00565-01_Male_BR1',\n",
       "       'PB00566-01_Male_BR2', 'PB00568-01_Female_BR2',\n",
       "       'PB00569-01_Female_BR2', 'PB00575-01_Female_BR1',\n",
       "       'PB00582-01_Male_BR2', 'PB00588-01_Male_BR2',\n",
       "       'PB00592-01_Male_BR1', 'PB00599-01_Female_BR2',\n",
       "       'PB00600-01_Male_BR2', 'PB00602-01_Female_BR2',\n",
       "       'PB00621-01_Female_BR1', 'PB00623-01_Male_BR2',\n",
       "       'PB00625-02_Male_BR2', 'PB00645-01_Female_BR1',\n",
       "       'PB01425-01_Female_BR1', 'PB01446-01_Male_BR1'], dtype=object)"
      ]
     },
     "execution_count": 129,
     "metadata": {},
     "output_type": "execute_result"
    }
   ],
   "source": [
    "adata.obs['unique_ID'].unique()"
   ]
  },
  {
   "cell_type": "code",
   "execution_count": 130,
   "id": "886990d4-33d6-4313-9944-5ef6b9be0554",
   "metadata": {
    "tags": []
   },
   "outputs": [
    {
     "data": {
      "text/plain": [
       "['IL1B+ CD14 monocyte']\n",
       "Categories (1, object): ['IL1B+ CD14 monocyte']"
      ]
     },
     "execution_count": 130,
     "metadata": {},
     "output_type": "execute_result"
    }
   ],
   "source": [
    "adata.obs['AIFI_L3'].unique()"
   ]
  },
  {
   "cell_type": "code",
   "execution_count": 131,
   "id": "9aa9baa5-dd77-4f5d-b35c-7d84247ceaaf",
   "metadata": {
    "tags": []
   },
   "outputs": [],
   "source": [
    "adata.raw = adata"
   ]
  },
  {
   "cell_type": "code",
   "execution_count": 132,
   "id": "adb3443f-6cbb-451f-a2d9-bce11cb67ef1",
   "metadata": {
    "tags": []
   },
   "outputs": [
    {
     "name": "stderr",
     "output_type": "stream",
     "text": [
      "/tmp/ipykernel_501/3870134352.py:1: FutureWarning: The default of observed=False is deprecated and will be changed to True in a future version of pandas. Pass observed=False to retain current behavior or observed=True to adopt the future default and silence this warning.\n",
      "  grouped = adata.obs.groupby(['AIFI_L3','unique_ID'])\n"
     ]
    }
   ],
   "source": [
    "grouped = adata.obs.groupby(['AIFI_L3','unique_ID'])"
   ]
  },
  {
   "cell_type": "code",
   "execution_count": 135,
   "id": "c6e81e75-7d12-48ae-b042-4a4ccddc5a7d",
   "metadata": {
    "tags": []
   },
   "outputs": [],
   "source": [
    "def grouped_obs_mean(adata_filt, group_key, layer=None, gene_symbols=None):  #  calculates the mean expression of genes across different groups \n",
    "    if layer is not None:\n",
    "        getX = lambda x: x.layers[layer]\n",
    "    else:\n",
    "        getX = lambda x: x.X\n",
    "    if gene_symbols is not None:\n",
    "        new_idx = adata_filt.raw.var[idx]\n",
    "    else:\n",
    "        new_idx = adata_filt.raw.var_names\n",
    "    \n",
    "    grouped = adata_filt.obs.groupby(group_key)\n",
    "    out = pd.DataFrame(\n",
    "        np.zeros((adata_filt.raw.shape[1], len(grouped)), dtype=np.float64),\n",
    "        columns=[':'.join(i) for i in list(grouped.groups.keys()) ],\n",
    "        index=adata_filt.raw.var_names\n",
    "    )\n",
    "    \n",
    "    for group, idx in grouped.indices.items():\n",
    "        X = getX(adata_filt.raw[idx])\n",
    "        out[':'.join(group)] = np.ravel(X.mean(axis=0, dtype=np.float64))\n",
    "    return out"
   ]
  },
  {
   "cell_type": "code",
   "execution_count": 136,
   "id": "45c9caf8-9b41-4eff-a90d-fabf419ab998",
   "metadata": {
    "collapsed": true,
    "jupyter": {
     "outputs_hidden": true
    },
    "tags": []
   },
   "outputs": [
    {
     "ename": "KeyError",
     "evalue": "'counts'",
     "output_type": "error",
     "traceback": [
      "\u001b[0;31m---------------------------------------------------------------------------\u001b[0m",
      "\u001b[0;31mKeyError\u001b[0m                                  Traceback (most recent call last)",
      "Cell \u001b[0;32mIn[136], line 1\u001b[0m\n\u001b[0;32m----> 1\u001b[0m \u001b[43madata\u001b[49m\u001b[38;5;241;43m.\u001b[39;49m\u001b[43mlayers\u001b[49m\u001b[43m[\u001b[49m\u001b[38;5;124;43m'\u001b[39;49m\u001b[38;5;124;43mcounts\u001b[39;49m\u001b[38;5;124;43m'\u001b[39;49m\u001b[43m]\u001b[49m\u001b[38;5;241m.\u001b[39mtoarray()\n",
      "File \u001b[0;32m/opt/conda/lib/python3.10/site-packages/anndata/_core/aligned_mapping.py:178\u001b[0m, in \u001b[0;36mAlignedActualMixin.__getitem__\u001b[0;34m(self, key)\u001b[0m\n\u001b[1;32m    177\u001b[0m \u001b[38;5;28;01mdef\u001b[39;00m \u001b[38;5;21m__getitem__\u001b[39m(\u001b[38;5;28mself\u001b[39m, key: \u001b[38;5;28mstr\u001b[39m) \u001b[38;5;241m-\u001b[39m\u001b[38;5;241m>\u001b[39m V:\n\u001b[0;32m--> 178\u001b[0m     \u001b[38;5;28;01mreturn\u001b[39;00m \u001b[38;5;28;43mself\u001b[39;49m\u001b[38;5;241;43m.\u001b[39;49m\u001b[43m_data\u001b[49m\u001b[43m[\u001b[49m\u001b[43mkey\u001b[49m\u001b[43m]\u001b[49m\n",
      "\u001b[0;31mKeyError\u001b[0m: 'counts'"
     ]
    }
   ],
   "source": [
    "adata.layers['counts'].toarray()"
   ]
  },
  {
   "cell_type": "code",
   "execution_count": 137,
   "id": "fb6163d3-47cf-4447-be97-f3cd1ee29a76",
   "metadata": {
    "tags": []
   },
   "outputs": [
    {
     "name": "stderr",
     "output_type": "stream",
     "text": [
      "/tmp/ipykernel_501/2389933984.py:11: FutureWarning: The default of observed=False is deprecated and will be changed to True in a future version of pandas. Pass observed=False to retain current behavior or observed=True to adopt the future default and silence this warning.\n",
      "  grouped = adata_filt.obs.groupby(group_key)\n"
     ]
    }
   ],
   "source": [
    "Il1b_mean = grouped_obs_mean(adata, ['AIFI_L3','unique_ID'])"
   ]
  },
  {
   "cell_type": "code",
   "execution_count": 138,
   "id": "7aeca648-c504-490d-8e0b-e92210d7d0bb",
   "metadata": {
    "tags": []
   },
   "outputs": [
    {
     "data": {
      "text/plain": [
       "(2686, 92)"
      ]
     },
     "execution_count": 138,
     "metadata": {},
     "output_type": "execute_result"
    }
   ],
   "source": [
    "Il1b_mean.shape"
   ]
  },
  {
   "cell_type": "code",
   "execution_count": 139,
   "id": "1dad23cf-27c5-497e-8a4f-a0899d3b3450",
   "metadata": {
    "tags": []
   },
   "outputs": [
    {
     "data": {
      "text/html": [
       "<div>\n",
       "<style scoped>\n",
       "    .dataframe tbody tr th:only-of-type {\n",
       "        vertical-align: middle;\n",
       "    }\n",
       "\n",
       "    .dataframe tbody tr th {\n",
       "        vertical-align: top;\n",
       "    }\n",
       "\n",
       "    .dataframe thead th {\n",
       "        text-align: right;\n",
       "    }\n",
       "</style>\n",
       "<table border=\"1\" class=\"dataframe\">\n",
       "  <thead>\n",
       "    <tr style=\"text-align: right;\">\n",
       "      <th></th>\n",
       "      <th>IL1B+ CD14 monocyte:PB00001-01_Female_BR1</th>\n",
       "      <th>IL1B+ CD14 monocyte:PB00002-01_Male_BR1</th>\n",
       "      <th>IL1B+ CD14 monocyte:PB00003-01_Female_BR1</th>\n",
       "      <th>IL1B+ CD14 monocyte:PB00004-01_Male_BR1</th>\n",
       "      <th>IL1B+ CD14 monocyte:PB00006-01_Female_BR1</th>\n",
       "      <th>IL1B+ CD14 monocyte:PB00010-02_Male_BR1</th>\n",
       "      <th>IL1B+ CD14 monocyte:PB00012-01_Female_BR1</th>\n",
       "      <th>IL1B+ CD14 monocyte:PB00014-01_Male_BR1</th>\n",
       "      <th>IL1B+ CD14 monocyte:PB00015-01_Male_BR2</th>\n",
       "      <th>IL1B+ CD14 monocyte:PB00016-01_Female_BR2</th>\n",
       "      <th>...</th>\n",
       "      <th>IL1B+ CD14 monocyte:PB00592-01_Male_BR1</th>\n",
       "      <th>IL1B+ CD14 monocyte:PB00599-01_Female_BR2</th>\n",
       "      <th>IL1B+ CD14 monocyte:PB00600-01_Male_BR2</th>\n",
       "      <th>IL1B+ CD14 monocyte:PB00602-01_Female_BR2</th>\n",
       "      <th>IL1B+ CD14 monocyte:PB00621-01_Female_BR1</th>\n",
       "      <th>IL1B+ CD14 monocyte:PB00623-01_Male_BR2</th>\n",
       "      <th>IL1B+ CD14 monocyte:PB00625-02_Male_BR2</th>\n",
       "      <th>IL1B+ CD14 monocyte:PB00645-01_Female_BR1</th>\n",
       "      <th>IL1B+ CD14 monocyte:PB01425-01_Female_BR1</th>\n",
       "      <th>IL1B+ CD14 monocyte:PB01446-01_Male_BR1</th>\n",
       "    </tr>\n",
       "  </thead>\n",
       "  <tbody>\n",
       "    <tr>\n",
       "      <th>FAM41C</th>\n",
       "      <td>-0.132573</td>\n",
       "      <td>-0.132573</td>\n",
       "      <td>-0.132573</td>\n",
       "      <td>-0.132573</td>\n",
       "      <td>-0.132573</td>\n",
       "      <td>-0.132573</td>\n",
       "      <td>-0.132573</td>\n",
       "      <td>-0.132573</td>\n",
       "      <td>-0.132573</td>\n",
       "      <td>0.052049</td>\n",
       "      <td>...</td>\n",
       "      <td>-0.132573</td>\n",
       "      <td>0.060168</td>\n",
       "      <td>0.008158</td>\n",
       "      <td>0.017048</td>\n",
       "      <td>-0.132573</td>\n",
       "      <td>0.137070</td>\n",
       "      <td>-0.132573</td>\n",
       "      <td>-0.132573</td>\n",
       "      <td>-0.132573</td>\n",
       "      <td>-0.132573</td>\n",
       "    </tr>\n",
       "    <tr>\n",
       "      <th>KLHL17</th>\n",
       "      <td>-0.113268</td>\n",
       "      <td>-0.113268</td>\n",
       "      <td>-0.113268</td>\n",
       "      <td>-0.113268</td>\n",
       "      <td>-0.113268</td>\n",
       "      <td>0.561391</td>\n",
       "      <td>-0.113268</td>\n",
       "      <td>0.021641</td>\n",
       "      <td>-0.113268</td>\n",
       "      <td>-0.113268</td>\n",
       "      <td>...</td>\n",
       "      <td>-0.113268</td>\n",
       "      <td>0.275859</td>\n",
       "      <td>0.085578</td>\n",
       "      <td>0.054990</td>\n",
       "      <td>1.178048</td>\n",
       "      <td>-0.113268</td>\n",
       "      <td>-0.113268</td>\n",
       "      <td>-0.113268</td>\n",
       "      <td>-0.113268</td>\n",
       "      <td>-0.113268</td>\n",
       "    </tr>\n",
       "  </tbody>\n",
       "</table>\n",
       "<p>2 rows × 92 columns</p>\n",
       "</div>"
      ],
      "text/plain": [
       "        IL1B+ CD14 monocyte:PB00001-01_Female_BR1  \\\n",
       "FAM41C                                  -0.132573   \n",
       "KLHL17                                  -0.113268   \n",
       "\n",
       "        IL1B+ CD14 monocyte:PB00002-01_Male_BR1  \\\n",
       "FAM41C                                -0.132573   \n",
       "KLHL17                                -0.113268   \n",
       "\n",
       "        IL1B+ CD14 monocyte:PB00003-01_Female_BR1  \\\n",
       "FAM41C                                  -0.132573   \n",
       "KLHL17                                  -0.113268   \n",
       "\n",
       "        IL1B+ CD14 monocyte:PB00004-01_Male_BR1  \\\n",
       "FAM41C                                -0.132573   \n",
       "KLHL17                                -0.113268   \n",
       "\n",
       "        IL1B+ CD14 monocyte:PB00006-01_Female_BR1  \\\n",
       "FAM41C                                  -0.132573   \n",
       "KLHL17                                  -0.113268   \n",
       "\n",
       "        IL1B+ CD14 monocyte:PB00010-02_Male_BR1  \\\n",
       "FAM41C                                -0.132573   \n",
       "KLHL17                                 0.561391   \n",
       "\n",
       "        IL1B+ CD14 monocyte:PB00012-01_Female_BR1  \\\n",
       "FAM41C                                  -0.132573   \n",
       "KLHL17                                  -0.113268   \n",
       "\n",
       "        IL1B+ CD14 monocyte:PB00014-01_Male_BR1  \\\n",
       "FAM41C                                -0.132573   \n",
       "KLHL17                                 0.021641   \n",
       "\n",
       "        IL1B+ CD14 monocyte:PB00015-01_Male_BR2  \\\n",
       "FAM41C                                -0.132573   \n",
       "KLHL17                                -0.113268   \n",
       "\n",
       "        IL1B+ CD14 monocyte:PB00016-01_Female_BR2  ...  \\\n",
       "FAM41C                                   0.052049  ...   \n",
       "KLHL17                                  -0.113268  ...   \n",
       "\n",
       "        IL1B+ CD14 monocyte:PB00592-01_Male_BR1  \\\n",
       "FAM41C                                -0.132573   \n",
       "KLHL17                                -0.113268   \n",
       "\n",
       "        IL1B+ CD14 monocyte:PB00599-01_Female_BR2  \\\n",
       "FAM41C                                   0.060168   \n",
       "KLHL17                                   0.275859   \n",
       "\n",
       "        IL1B+ CD14 monocyte:PB00600-01_Male_BR2  \\\n",
       "FAM41C                                 0.008158   \n",
       "KLHL17                                 0.085578   \n",
       "\n",
       "        IL1B+ CD14 monocyte:PB00602-01_Female_BR2  \\\n",
       "FAM41C                                   0.017048   \n",
       "KLHL17                                   0.054990   \n",
       "\n",
       "        IL1B+ CD14 monocyte:PB00621-01_Female_BR1  \\\n",
       "FAM41C                                  -0.132573   \n",
       "KLHL17                                   1.178048   \n",
       "\n",
       "        IL1B+ CD14 monocyte:PB00623-01_Male_BR2  \\\n",
       "FAM41C                                 0.137070   \n",
       "KLHL17                                -0.113268   \n",
       "\n",
       "        IL1B+ CD14 monocyte:PB00625-02_Male_BR2  \\\n",
       "FAM41C                                -0.132573   \n",
       "KLHL17                                -0.113268   \n",
       "\n",
       "        IL1B+ CD14 monocyte:PB00645-01_Female_BR1  \\\n",
       "FAM41C                                  -0.132573   \n",
       "KLHL17                                  -0.113268   \n",
       "\n",
       "        IL1B+ CD14 monocyte:PB01425-01_Female_BR1  \\\n",
       "FAM41C                                  -0.132573   \n",
       "KLHL17                                  -0.113268   \n",
       "\n",
       "        IL1B+ CD14 monocyte:PB01446-01_Male_BR1  \n",
       "FAM41C                                -0.132573  \n",
       "KLHL17                                -0.113268  \n",
       "\n",
       "[2 rows x 92 columns]"
      ]
     },
     "execution_count": 139,
     "metadata": {},
     "output_type": "execute_result"
    }
   ],
   "source": [
    "Il1b_mean.head(n=2)"
   ]
  },
  {
   "cell_type": "code",
   "execution_count": 104,
   "id": "3988aeb5-153a-49f4-97f9-0b1fca814b46",
   "metadata": {
    "tags": []
   },
   "outputs": [
    {
     "data": {
      "text/plain": [
       "Index(['FAM41C', 'KLHL17', 'HES4', 'ISG15', 'C1orf159', 'ACAP3', 'PUSL1',\n",
       "       'AL645728.1', 'AL691432.2', 'PRKCZ',\n",
       "       ...\n",
       "       'ITGB2-AS1', 'AL844908.1', 'AP001505.1', 'ADARB1', 'COL18A1', 'MT-ND2',\n",
       "       'MT-ND4L', 'MT-ND6', 'AC004556.1', 'AC240274.1'],\n",
       "      dtype='object', length=2686)"
      ]
     },
     "execution_count": 104,
     "metadata": {},
     "output_type": "execute_result"
    }
   ],
   "source": [
    "Il1b_mean.index"
   ]
  },
  {
   "cell_type": "code",
   "execution_count": 105,
   "id": "1d8f3893-b5ae-4c7e-aba8-ac07fbf06dfc",
   "metadata": {
    "tags": []
   },
   "outputs": [
    {
     "data": {
      "text/html": [
       "<div>\n",
       "<style scoped>\n",
       "    .dataframe tbody tr th:only-of-type {\n",
       "        vertical-align: middle;\n",
       "    }\n",
       "\n",
       "    .dataframe tbody tr th {\n",
       "        vertical-align: top;\n",
       "    }\n",
       "\n",
       "    .dataframe thead th {\n",
       "        text-align: right;\n",
       "    }\n",
       "</style>\n",
       "<table border=\"1\" class=\"dataframe\">\n",
       "  <thead>\n",
       "    <tr style=\"text-align: right;\">\n",
       "      <th></th>\n",
       "      <th>IL1B+ CD14 monocyte:PB00001-01_Female_BR1</th>\n",
       "      <th>IL1B+ CD14 monocyte:PB00002-01_Male_BR1</th>\n",
       "      <th>IL1B+ CD14 monocyte:PB00003-01_Female_BR1</th>\n",
       "      <th>IL1B+ CD14 monocyte:PB00004-01_Male_BR1</th>\n",
       "      <th>IL1B+ CD14 monocyte:PB00006-01_Female_BR1</th>\n",
       "      <th>IL1B+ CD14 monocyte:PB00010-02_Male_BR1</th>\n",
       "      <th>IL1B+ CD14 monocyte:PB00012-01_Female_BR1</th>\n",
       "      <th>IL1B+ CD14 monocyte:PB00014-01_Male_BR1</th>\n",
       "      <th>IL1B+ CD14 monocyte:PB00015-01_Male_BR2</th>\n",
       "      <th>IL1B+ CD14 monocyte:PB00016-01_Female_BR2</th>\n",
       "      <th>...</th>\n",
       "      <th>IL1B+ CD14 monocyte:PB00592-01_Male_BR1</th>\n",
       "      <th>IL1B+ CD14 monocyte:PB00599-01_Female_BR2</th>\n",
       "      <th>IL1B+ CD14 monocyte:PB00600-01_Male_BR2</th>\n",
       "      <th>IL1B+ CD14 monocyte:PB00602-01_Female_BR2</th>\n",
       "      <th>IL1B+ CD14 monocyte:PB00621-01_Female_BR1</th>\n",
       "      <th>IL1B+ CD14 monocyte:PB00623-01_Male_BR2</th>\n",
       "      <th>IL1B+ CD14 monocyte:PB00625-02_Male_BR2</th>\n",
       "      <th>IL1B+ CD14 monocyte:PB00645-01_Female_BR1</th>\n",
       "      <th>IL1B+ CD14 monocyte:PB01425-01_Female_BR1</th>\n",
       "      <th>IL1B+ CD14 monocyte:PB01446-01_Male_BR1</th>\n",
       "    </tr>\n",
       "  </thead>\n",
       "  <tbody>\n",
       "    <tr>\n",
       "      <th>FAM41C</th>\n",
       "      <td>0.029766</td>\n",
       "      <td>0.036859</td>\n",
       "      <td>0.037337</td>\n",
       "      <td>0.034027</td>\n",
       "      <td>0.077604</td>\n",
       "      <td>0.004575</td>\n",
       "      <td>0.026647</td>\n",
       "      <td>-0.004092</td>\n",
       "      <td>0.068854</td>\n",
       "      <td>0.204963</td>\n",
       "      <td>...</td>\n",
       "      <td>0.051842</td>\n",
       "      <td>0.032842</td>\n",
       "      <td>0.023608</td>\n",
       "      <td>0.121293</td>\n",
       "      <td>0.159991</td>\n",
       "      <td>0.066635</td>\n",
       "      <td>-0.509914</td>\n",
       "      <td>0.060383</td>\n",
       "      <td>0.068821</td>\n",
       "      <td>0.020951</td>\n",
       "    </tr>\n",
       "    <tr>\n",
       "      <th>KLHL17</th>\n",
       "      <td>0.025635</td>\n",
       "      <td>0.030112</td>\n",
       "      <td>0.030413</td>\n",
       "      <td>0.028325</td>\n",
       "      <td>0.055825</td>\n",
       "      <td>0.119680</td>\n",
       "      <td>0.023667</td>\n",
       "      <td>0.038770</td>\n",
       "      <td>0.050303</td>\n",
       "      <td>0.025681</td>\n",
       "      <td>...</td>\n",
       "      <td>0.039568</td>\n",
       "      <td>-1.296740</td>\n",
       "      <td>0.024800</td>\n",
       "      <td>0.078471</td>\n",
       "      <td>0.238311</td>\n",
       "      <td>0.027591</td>\n",
       "      <td>-0.314947</td>\n",
       "      <td>0.044958</td>\n",
       "      <td>0.050283</td>\n",
       "      <td>0.020073</td>\n",
       "    </tr>\n",
       "  </tbody>\n",
       "</table>\n",
       "<p>2 rows × 92 columns</p>\n",
       "</div>"
      ],
      "text/plain": [
       "        IL1B+ CD14 monocyte:PB00001-01_Female_BR1  \\\n",
       "FAM41C                                   0.029766   \n",
       "KLHL17                                   0.025635   \n",
       "\n",
       "        IL1B+ CD14 monocyte:PB00002-01_Male_BR1  \\\n",
       "FAM41C                                 0.036859   \n",
       "KLHL17                                 0.030112   \n",
       "\n",
       "        IL1B+ CD14 monocyte:PB00003-01_Female_BR1  \\\n",
       "FAM41C                                   0.037337   \n",
       "KLHL17                                   0.030413   \n",
       "\n",
       "        IL1B+ CD14 monocyte:PB00004-01_Male_BR1  \\\n",
       "FAM41C                                 0.034027   \n",
       "KLHL17                                 0.028325   \n",
       "\n",
       "        IL1B+ CD14 monocyte:PB00006-01_Female_BR1  \\\n",
       "FAM41C                                   0.077604   \n",
       "KLHL17                                   0.055825   \n",
       "\n",
       "        IL1B+ CD14 monocyte:PB00010-02_Male_BR1  \\\n",
       "FAM41C                                 0.004575   \n",
       "KLHL17                                 0.119680   \n",
       "\n",
       "        IL1B+ CD14 monocyte:PB00012-01_Female_BR1  \\\n",
       "FAM41C                                   0.026647   \n",
       "KLHL17                                   0.023667   \n",
       "\n",
       "        IL1B+ CD14 monocyte:PB00014-01_Male_BR1  \\\n",
       "FAM41C                                -0.004092   \n",
       "KLHL17                                 0.038770   \n",
       "\n",
       "        IL1B+ CD14 monocyte:PB00015-01_Male_BR2  \\\n",
       "FAM41C                                 0.068854   \n",
       "KLHL17                                 0.050303   \n",
       "\n",
       "        IL1B+ CD14 monocyte:PB00016-01_Female_BR2  ...  \\\n",
       "FAM41C                                   0.204963  ...   \n",
       "KLHL17                                   0.025681  ...   \n",
       "\n",
       "        IL1B+ CD14 monocyte:PB00592-01_Male_BR1  \\\n",
       "FAM41C                                 0.051842   \n",
       "KLHL17                                 0.039568   \n",
       "\n",
       "        IL1B+ CD14 monocyte:PB00599-01_Female_BR2  \\\n",
       "FAM41C                                   0.032842   \n",
       "KLHL17                                  -1.296740   \n",
       "\n",
       "        IL1B+ CD14 monocyte:PB00600-01_Male_BR2  \\\n",
       "FAM41C                                 0.023608   \n",
       "KLHL17                                 0.024800   \n",
       "\n",
       "        IL1B+ CD14 monocyte:PB00602-01_Female_BR2  \\\n",
       "FAM41C                                   0.121293   \n",
       "KLHL17                                   0.078471   \n",
       "\n",
       "        IL1B+ CD14 monocyte:PB00621-01_Female_BR1  \\\n",
       "FAM41C                                   0.159991   \n",
       "KLHL17                                   0.238311   \n",
       "\n",
       "        IL1B+ CD14 monocyte:PB00623-01_Male_BR2  \\\n",
       "FAM41C                                 0.066635   \n",
       "KLHL17                                 0.027591   \n",
       "\n",
       "        IL1B+ CD14 monocyte:PB00625-02_Male_BR2  \\\n",
       "FAM41C                                -0.509914   \n",
       "KLHL17                                -0.314947   \n",
       "\n",
       "        IL1B+ CD14 monocyte:PB00645-01_Female_BR1  \\\n",
       "FAM41C                                   0.060383   \n",
       "KLHL17                                   0.044958   \n",
       "\n",
       "        IL1B+ CD14 monocyte:PB01425-01_Female_BR1  \\\n",
       "FAM41C                                   0.068821   \n",
       "KLHL17                                   0.050283   \n",
       "\n",
       "        IL1B+ CD14 monocyte:PB01446-01_Male_BR1  \n",
       "FAM41C                                 0.020951  \n",
       "KLHL17                                 0.020073  \n",
       "\n",
       "[2 rows x 92 columns]"
      ]
     },
     "execution_count": 105,
     "metadata": {},
     "output_type": "execute_result"
    }
   ],
   "source": [
    "Il1b_mean.head(n=2)"
   ]
  },
  {
   "cell_type": "code",
   "execution_count": 106,
   "id": "51905db1-a1cf-478e-9715-ef4ee4e440df",
   "metadata": {
    "tags": []
   },
   "outputs": [
    {
     "data": {
      "text/html": [
       "<div>\n",
       "<style scoped>\n",
       "    .dataframe tbody tr th:only-of-type {\n",
       "        vertical-align: middle;\n",
       "    }\n",
       "\n",
       "    .dataframe tbody tr th {\n",
       "        vertical-align: top;\n",
       "    }\n",
       "\n",
       "    .dataframe thead th {\n",
       "        text-align: right;\n",
       "    }\n",
       "</style>\n",
       "<table border=\"1\" class=\"dataframe\">\n",
       "  <thead>\n",
       "    <tr style=\"text-align: right;\">\n",
       "      <th></th>\n",
       "      <th>IL1B+ CD14 monocyte:PB00001-01_Female_BR1</th>\n",
       "      <th>IL1B+ CD14 monocyte:PB00002-01_Male_BR1</th>\n",
       "      <th>IL1B+ CD14 monocyte:PB00003-01_Female_BR1</th>\n",
       "      <th>IL1B+ CD14 monocyte:PB00004-01_Male_BR1</th>\n",
       "      <th>IL1B+ CD14 monocyte:PB00006-01_Female_BR1</th>\n",
       "      <th>IL1B+ CD14 monocyte:PB00010-02_Male_BR1</th>\n",
       "      <th>IL1B+ CD14 monocyte:PB00012-01_Female_BR1</th>\n",
       "      <th>IL1B+ CD14 monocyte:PB00014-01_Male_BR1</th>\n",
       "      <th>IL1B+ CD14 monocyte:PB00015-01_Male_BR2</th>\n",
       "      <th>IL1B+ CD14 monocyte:PB00016-01_Female_BR2</th>\n",
       "      <th>...</th>\n",
       "      <th>IL1B+ CD14 monocyte:PB00592-01_Male_BR1</th>\n",
       "      <th>IL1B+ CD14 monocyte:PB00599-01_Female_BR2</th>\n",
       "      <th>IL1B+ CD14 monocyte:PB00600-01_Male_BR2</th>\n",
       "      <th>IL1B+ CD14 monocyte:PB00602-01_Female_BR2</th>\n",
       "      <th>IL1B+ CD14 monocyte:PB00621-01_Female_BR1</th>\n",
       "      <th>IL1B+ CD14 monocyte:PB00623-01_Male_BR2</th>\n",
       "      <th>IL1B+ CD14 monocyte:PB00625-02_Male_BR2</th>\n",
       "      <th>IL1B+ CD14 monocyte:PB00645-01_Female_BR1</th>\n",
       "      <th>IL1B+ CD14 monocyte:PB01425-01_Female_BR1</th>\n",
       "      <th>IL1B+ CD14 monocyte:PB01446-01_Male_BR1</th>\n",
       "    </tr>\n",
       "  </thead>\n",
       "  <tbody>\n",
       "    <tr>\n",
       "      <th>XIST</th>\n",
       "      <td>0.015756</td>\n",
       "      <td>0.051401</td>\n",
       "      <td>0.020239</td>\n",
       "      <td>0.056914</td>\n",
       "      <td>-0.149537</td>\n",
       "      <td>-0.025242</td>\n",
       "      <td>0.039026</td>\n",
       "      <td>-0.045817</td>\n",
       "      <td>0.128527</td>\n",
       "      <td>0.044832</td>\n",
       "      <td>...</td>\n",
       "      <td>0.086971</td>\n",
       "      <td>-0.191989</td>\n",
       "      <td>-0.00487</td>\n",
       "      <td>0.015457</td>\n",
       "      <td>-0.681052</td>\n",
       "      <td>0.04203</td>\n",
       "      <td>-1.246641</td>\n",
       "      <td>0.018245</td>\n",
       "      <td>-0.008398</td>\n",
       "      <td>0.013635</td>\n",
       "    </tr>\n",
       "  </tbody>\n",
       "</table>\n",
       "<p>1 rows × 92 columns</p>\n",
       "</div>"
      ],
      "text/plain": [
       "      IL1B+ CD14 monocyte:PB00001-01_Female_BR1  \\\n",
       "XIST                                   0.015756   \n",
       "\n",
       "      IL1B+ CD14 monocyte:PB00002-01_Male_BR1  \\\n",
       "XIST                                 0.051401   \n",
       "\n",
       "      IL1B+ CD14 monocyte:PB00003-01_Female_BR1  \\\n",
       "XIST                                   0.020239   \n",
       "\n",
       "      IL1B+ CD14 monocyte:PB00004-01_Male_BR1  \\\n",
       "XIST                                 0.056914   \n",
       "\n",
       "      IL1B+ CD14 monocyte:PB00006-01_Female_BR1  \\\n",
       "XIST                                  -0.149537   \n",
       "\n",
       "      IL1B+ CD14 monocyte:PB00010-02_Male_BR1  \\\n",
       "XIST                                -0.025242   \n",
       "\n",
       "      IL1B+ CD14 monocyte:PB00012-01_Female_BR1  \\\n",
       "XIST                                   0.039026   \n",
       "\n",
       "      IL1B+ CD14 monocyte:PB00014-01_Male_BR1  \\\n",
       "XIST                                -0.045817   \n",
       "\n",
       "      IL1B+ CD14 monocyte:PB00015-01_Male_BR2  \\\n",
       "XIST                                 0.128527   \n",
       "\n",
       "      IL1B+ CD14 monocyte:PB00016-01_Female_BR2  ...  \\\n",
       "XIST                                   0.044832  ...   \n",
       "\n",
       "      IL1B+ CD14 monocyte:PB00592-01_Male_BR1  \\\n",
       "XIST                                 0.086971   \n",
       "\n",
       "      IL1B+ CD14 monocyte:PB00599-01_Female_BR2  \\\n",
       "XIST                                  -0.191989   \n",
       "\n",
       "      IL1B+ CD14 monocyte:PB00600-01_Male_BR2  \\\n",
       "XIST                                 -0.00487   \n",
       "\n",
       "      IL1B+ CD14 monocyte:PB00602-01_Female_BR2  \\\n",
       "XIST                                   0.015457   \n",
       "\n",
       "      IL1B+ CD14 monocyte:PB00621-01_Female_BR1  \\\n",
       "XIST                                  -0.681052   \n",
       "\n",
       "      IL1B+ CD14 monocyte:PB00623-01_Male_BR2  \\\n",
       "XIST                                  0.04203   \n",
       "\n",
       "      IL1B+ CD14 monocyte:PB00625-02_Male_BR2  \\\n",
       "XIST                                -1.246641   \n",
       "\n",
       "      IL1B+ CD14 monocyte:PB00645-01_Female_BR1  \\\n",
       "XIST                                   0.018245   \n",
       "\n",
       "      IL1B+ CD14 monocyte:PB01425-01_Female_BR1  \\\n",
       "XIST                                  -0.008398   \n",
       "\n",
       "      IL1B+ CD14 monocyte:PB01446-01_Male_BR1  \n",
       "XIST                                 0.013635  \n",
       "\n",
       "[1 rows x 92 columns]"
      ]
     },
     "execution_count": 106,
     "metadata": {},
     "output_type": "execute_result"
    }
   ],
   "source": [
    "Il1b_mean[Il1b_mean.index=='XIST']"
   ]
  },
  {
   "cell_type": "code",
   "execution_count": 107,
   "id": "dd1f80c5-b780-4e20-8753-9d8d9b00ad64",
   "metadata": {
    "tags": []
   },
   "outputs": [],
   "source": [
    "Il1b_mean.to_csv('/home/jupyter/Myeloid_cells/files/IHA_IL1B_CD14_mono_pb_mean_normalized_scaled_v4.csv')"
   ]
  },
  {
   "cell_type": "markdown",
   "id": "ee19ddc8-c96e-49bf-a842-efc0a3a984ce",
   "metadata": {
    "tags": []
   },
   "source": [
    "# Another count matrix - Heatmap expression matrix\n"
   ]
  },
  {
   "cell_type": "code",
   "execution_count": 231,
   "id": "0ffe18f7-6217-4249-953c-be13f61e6471",
   "metadata": {
    "tags": []
   },
   "outputs": [],
   "source": [
    "import hisepy as hp\n",
    "import h5py\n",
    "import pandas as pd\n",
    "import scipy.sparse as scs\n",
    "import os\n",
    "import scanpy as sc\n",
    "import anndata\n",
    "import numpy as np"
   ]
  },
  {
   "cell_type": "code",
   "execution_count": null,
   "id": "348b61f2-f753-4a20-9f9f-cc2c80553334",
   "metadata": {},
   "outputs": [],
   "source": []
  },
  {
   "cell_type": "code",
   "execution_count": 238,
   "id": "93d24e08-3aa2-480e-9373-c9e5c4d951ec",
   "metadata": {
    "tags": []
   },
   "outputs": [
    {
     "data": {
      "text/plain": [
       "AnnData object with n_obs × n_vars = 2679 × 3000\n",
       "    obs: 'barcodes', 'batch_id', 'cell_name', 'cell_uuid', 'chip_id', 'hto_barcode', 'hto_category', 'n_genes', 'n_mito_umis', 'n_reads', 'n_umis', 'original_barcodes', 'pbmc_sample_id', 'pool_id', 'seurat_pbmc_type', 'seurat_pbmc_type_score', 'umap_1', 'umap_2', 'well_id', 'subject.biologicalSex', 'subject.ethnicity', 'subject.partnerCode', 'subject.race', 'subject.subjectGuid', 'cohort.cohortGuid', 'sample.visitName', 'sample.visitDetails', 'subject.birthYear', 'CMV.IgG.Serology.Result.Interpretation', 'BMI', 'predicted_doublet', 'doublet_score', 'AIFI_L1', 'AIFI_L2', 'AIFI_L3', 'AIFI_L3.5', 'n_genes_by_counts', 'log1p_n_genes_by_counts', 'total_counts', 'log1p_total_counts', 'pct_counts_in_top_50_genes', 'pct_counts_in_top_100_genes', 'pct_counts_in_top_200_genes', 'pct_counts_in_top_500_genes', 'total_counts_mito', 'log1p_total_counts_mito', 'pct_counts_mito', 'leiden_resolution_0.5', 'leiden_resolution_1', 'leiden_resolution_1.5', 'leiden_resolution_2'\n",
       "    var: 'highly_variable', 'means', 'dispersions', 'dispersions_norm', 'mean', 'std'\n",
       "    uns: 'hvg', 'log1p', 'neighbors', 'pca', 'umap'\n",
       "    obsm: 'X_pca', 'X_pca_harmony', 'X_umap'\n",
       "    varm: 'PCs'\n",
       "    layers: 'counts'\n",
       "    obsp: 'connectivities', 'distances'"
      ]
     },
     "execution_count": 238,
     "metadata": {},
     "output_type": "execute_result"
    }
   ],
   "source": [
    "adata = sc.read ('/home/jupyter/Myeloid_cells/files/IL1B_CD14_Mono_ONLY_FluYr1D0_processed_04172024.h5ad')\n",
    "adata"
   ]
  },
  {
   "cell_type": "code",
   "execution_count": 239,
   "id": "27741209-1317-430a-a3aa-a353c186cc5e",
   "metadata": {
    "tags": []
   },
   "outputs": [
    {
     "data": {
      "text/plain": [
       "array([[-0.13257308, -0.11326809, -0.19229758, ...,  1.0864776 ,\n",
       "        -0.06738479, -0.1569277 ],\n",
       "       [-0.13257308, -0.11326809, -0.19229758, ..., -0.3272909 ,\n",
       "        -0.66804814, -0.1569277 ],\n",
       "       [-0.13257308, -0.11326809, -0.19229758, ...,  0.7517497 ,\n",
       "         0.16908544, -0.1569277 ],\n",
       "       ...,\n",
       "       [-0.13257308, -0.11326809, -0.19229758, ...,  0.843975  ,\n",
       "         0.12336355, -0.1569277 ],\n",
       "       [-0.13257308, -0.11326809, -0.19229758, ...,  0.3847766 ,\n",
       "         0.36979628, -0.1569277 ],\n",
       "       [-0.13257308, -0.11326809, -0.19229758, ...,  0.6732785 ,\n",
       "        -0.3448623 , -0.1569277 ]], dtype=float32)"
      ]
     },
     "execution_count": 239,
     "metadata": {},
     "output_type": "execute_result"
    }
   ],
   "source": [
    "adata.X"
   ]
  },
  {
   "cell_type": "code",
   "execution_count": 210,
   "id": "e1d22342-2368-4fd3-8278-daca65914e78",
   "metadata": {
    "tags": []
   },
   "outputs": [],
   "source": [
    "#adata_filt.obs.rename(columns={\"pbmc_sample_id\": \"pbmc_sample_id\"}, inplace=True)"
   ]
  },
  {
   "cell_type": "code",
   "execution_count": 211,
   "id": "a8abbcf2-766d-4604-b6d2-899a6fc83393",
   "metadata": {
    "tags": []
   },
   "outputs": [],
   "source": [
    "#adata_filt.obs.rename(columns={\"CMV.IgG.Serology.Result.Interpretation\": \"CMV\"}, inplace=True)"
   ]
  },
  {
   "cell_type": "code",
   "execution_count": 212,
   "id": "c2ffc130-52b7-4858-9835-0f31df5b8b21",
   "metadata": {
    "tags": []
   },
   "outputs": [],
   "source": [
    "#adata_filt.obs.rename(columns={\"cohort.cohortGuid\": \"Age\"}, inplace=True)"
   ]
  },
  {
   "cell_type": "code",
   "execution_count": 223,
   "id": "17af2775-51d1-401a-a7eb-6cf4efb3123e",
   "metadata": {
    "tags": []
   },
   "outputs": [],
   "source": [
    "# import pandas as pd\n",
    "\n",
    "# # Assuming adata.X is your expression matrix\n",
    "# # Assuming adata has row names and column names\n",
    "\n",
    "# # Convert adata.X to a DataFrame\n",
    "# expression_df = pd.DataFrame(adata.X, index=adata.obs.index, columns=adata.var.index)\n",
    "\n",
    "# # Save DataFrame to CSV\n",
    "# expression_df.to_csv('Heatmap_expression_matrix_v1.csv')\n"
   ]
  },
  {
   "cell_type": "code",
   "execution_count": 225,
   "id": "9b2ce73e-db55-4a67-b5aa-01ec84d7d843",
   "metadata": {
    "tags": []
   },
   "outputs": [
    {
     "data": {
      "text/html": [
       "<div>\n",
       "<style scoped>\n",
       "    .dataframe tbody tr th:only-of-type {\n",
       "        vertical-align: middle;\n",
       "    }\n",
       "\n",
       "    .dataframe tbody tr th {\n",
       "        vertical-align: top;\n",
       "    }\n",
       "\n",
       "    .dataframe thead th {\n",
       "        text-align: right;\n",
       "    }\n",
       "</style>\n",
       "<table border=\"1\" class=\"dataframe\">\n",
       "  <thead>\n",
       "    <tr style=\"text-align: right;\">\n",
       "      <th></th>\n",
       "      <th>FAM41C</th>\n",
       "      <th>KLHL17</th>\n",
       "      <th>HES4</th>\n",
       "      <th>ISG15</th>\n",
       "      <th>C1orf159</th>\n",
       "      <th>C1QTNF12</th>\n",
       "      <th>AL162741.1</th>\n",
       "      <th>SCNN1D</th>\n",
       "      <th>ACAP3</th>\n",
       "      <th>MXRA8</th>\n",
       "      <th>...</th>\n",
       "      <th>MT-ND1</th>\n",
       "      <th>MT-ND2</th>\n",
       "      <th>MT-CO2</th>\n",
       "      <th>MT-ATP6</th>\n",
       "      <th>MT-CO3</th>\n",
       "      <th>MT-ND3</th>\n",
       "      <th>MT-ND4L</th>\n",
       "      <th>MT-ND4</th>\n",
       "      <th>MT-CYB</th>\n",
       "      <th>AC240274.1</th>\n",
       "    </tr>\n",
       "    <tr>\n",
       "      <th>barcodes</th>\n",
       "      <th></th>\n",
       "      <th></th>\n",
       "      <th></th>\n",
       "      <th></th>\n",
       "      <th></th>\n",
       "      <th></th>\n",
       "      <th></th>\n",
       "      <th></th>\n",
       "      <th></th>\n",
       "      <th></th>\n",
       "      <th></th>\n",
       "      <th></th>\n",
       "      <th></th>\n",
       "      <th></th>\n",
       "      <th></th>\n",
       "      <th></th>\n",
       "      <th></th>\n",
       "      <th></th>\n",
       "      <th></th>\n",
       "      <th></th>\n",
       "      <th></th>\n",
       "    </tr>\n",
       "  </thead>\n",
       "  <tbody>\n",
       "    <tr>\n",
       "      <th>cfb4162a48b611ea8957bafe6d70929e</th>\n",
       "      <td>-0.132573</td>\n",
       "      <td>-0.113268</td>\n",
       "      <td>-0.192298</td>\n",
       "      <td>-0.661028</td>\n",
       "      <td>-0.176591</td>\n",
       "      <td>-0.077332</td>\n",
       "      <td>-0.05456</td>\n",
       "      <td>-0.053848</td>\n",
       "      <td>-0.328429</td>\n",
       "      <td>-0.022134</td>\n",
       "      <td>...</td>\n",
       "      <td>1.325860</td>\n",
       "      <td>0.731614</td>\n",
       "      <td>0.836299</td>\n",
       "      <td>1.340946</td>\n",
       "      <td>0.742673</td>\n",
       "      <td>1.439619</td>\n",
       "      <td>0.713853</td>\n",
       "      <td>1.086478</td>\n",
       "      <td>-0.067385</td>\n",
       "      <td>-0.156928</td>\n",
       "    </tr>\n",
       "    <tr>\n",
       "      <th>70ab258848b611eaa65d9e7d578d66f2</th>\n",
       "      <td>-0.132573</td>\n",
       "      <td>-0.113268</td>\n",
       "      <td>-0.192298</td>\n",
       "      <td>-0.661028</td>\n",
       "      <td>4.546874</td>\n",
       "      <td>-0.077332</td>\n",
       "      <td>-0.05456</td>\n",
       "      <td>-0.053848</td>\n",
       "      <td>-0.328429</td>\n",
       "      <td>-0.022134</td>\n",
       "      <td>...</td>\n",
       "      <td>-1.189309</td>\n",
       "      <td>-0.481571</td>\n",
       "      <td>-0.535567</td>\n",
       "      <td>-0.834956</td>\n",
       "      <td>-0.465425</td>\n",
       "      <td>-1.024485</td>\n",
       "      <td>0.202755</td>\n",
       "      <td>-0.327291</td>\n",
       "      <td>-0.668048</td>\n",
       "      <td>-0.156928</td>\n",
       "    </tr>\n",
       "    <tr>\n",
       "      <th>70acf29648b611eaa65d9e7d578d66f2</th>\n",
       "      <td>-0.132573</td>\n",
       "      <td>-0.113268</td>\n",
       "      <td>-0.192298</td>\n",
       "      <td>1.294230</td>\n",
       "      <td>-0.176591</td>\n",
       "      <td>-0.077332</td>\n",
       "      <td>-0.05456</td>\n",
       "      <td>-0.053848</td>\n",
       "      <td>-0.328429</td>\n",
       "      <td>-0.022134</td>\n",
       "      <td>...</td>\n",
       "      <td>0.252301</td>\n",
       "      <td>-0.473989</td>\n",
       "      <td>0.144703</td>\n",
       "      <td>0.668496</td>\n",
       "      <td>-0.065128</td>\n",
       "      <td>-0.019105</td>\n",
       "      <td>-0.418068</td>\n",
       "      <td>0.751750</td>\n",
       "      <td>0.169085</td>\n",
       "      <td>-0.156928</td>\n",
       "    </tr>\n",
       "    <tr>\n",
       "      <th>70d2b34648b611eaa65d9e7d578d66f2</th>\n",
       "      <td>-0.132573</td>\n",
       "      <td>-0.113268</td>\n",
       "      <td>-0.192298</td>\n",
       "      <td>-0.661028</td>\n",
       "      <td>-0.176591</td>\n",
       "      <td>-0.077332</td>\n",
       "      <td>-0.05456</td>\n",
       "      <td>-0.053848</td>\n",
       "      <td>-0.328429</td>\n",
       "      <td>-0.022134</td>\n",
       "      <td>...</td>\n",
       "      <td>1.358938</td>\n",
       "      <td>-0.032474</td>\n",
       "      <td>-1.037922</td>\n",
       "      <td>0.739538</td>\n",
       "      <td>-0.204768</td>\n",
       "      <td>0.471638</td>\n",
       "      <td>0.094861</td>\n",
       "      <td>-0.397821</td>\n",
       "      <td>-1.446746</td>\n",
       "      <td>-0.156928</td>\n",
       "    </tr>\n",
       "    <tr>\n",
       "      <th>70d844f048b611eaa65d9e7d578d66f2</th>\n",
       "      <td>-0.132573</td>\n",
       "      <td>-0.113268</td>\n",
       "      <td>-0.192298</td>\n",
       "      <td>-0.661028</td>\n",
       "      <td>-0.176591</td>\n",
       "      <td>-0.077332</td>\n",
       "      <td>-0.05456</td>\n",
       "      <td>-0.053848</td>\n",
       "      <td>-0.328429</td>\n",
       "      <td>-0.022134</td>\n",
       "      <td>...</td>\n",
       "      <td>-0.771742</td>\n",
       "      <td>-2.176364</td>\n",
       "      <td>-0.749368</td>\n",
       "      <td>-0.869467</td>\n",
       "      <td>-1.302776</td>\n",
       "      <td>-0.020604</td>\n",
       "      <td>-1.730623</td>\n",
       "      <td>-0.394766</td>\n",
       "      <td>-1.223874</td>\n",
       "      <td>-0.156928</td>\n",
       "    </tr>\n",
       "    <tr>\n",
       "      <th>...</th>\n",
       "      <td>...</td>\n",
       "      <td>...</td>\n",
       "      <td>...</td>\n",
       "      <td>...</td>\n",
       "      <td>...</td>\n",
       "      <td>...</td>\n",
       "      <td>...</td>\n",
       "      <td>...</td>\n",
       "      <td>...</td>\n",
       "      <td>...</td>\n",
       "      <td>...</td>\n",
       "      <td>...</td>\n",
       "      <td>...</td>\n",
       "      <td>...</td>\n",
       "      <td>...</td>\n",
       "      <td>...</td>\n",
       "      <td>...</td>\n",
       "      <td>...</td>\n",
       "      <td>...</td>\n",
       "      <td>...</td>\n",
       "      <td>...</td>\n",
       "    </tr>\n",
       "    <tr>\n",
       "      <th>4fcaf786286511ec8c0d4aaa4b9002e8</th>\n",
       "      <td>-0.132573</td>\n",
       "      <td>-0.113268</td>\n",
       "      <td>-0.192298</td>\n",
       "      <td>1.622779</td>\n",
       "      <td>-0.176591</td>\n",
       "      <td>-0.077332</td>\n",
       "      <td>-0.05456</td>\n",
       "      <td>-0.053848</td>\n",
       "      <td>-0.328429</td>\n",
       "      <td>-0.022134</td>\n",
       "      <td>...</td>\n",
       "      <td>0.463961</td>\n",
       "      <td>0.536566</td>\n",
       "      <td>-1.310432</td>\n",
       "      <td>1.173958</td>\n",
       "      <td>0.229070</td>\n",
       "      <td>0.430827</td>\n",
       "      <td>0.022275</td>\n",
       "      <td>0.371624</td>\n",
       "      <td>0.106982</td>\n",
       "      <td>-0.156928</td>\n",
       "    </tr>\n",
       "    <tr>\n",
       "      <th>ce432b48286411eca744faae388e9f17</th>\n",
       "      <td>-0.132573</td>\n",
       "      <td>-0.113268</td>\n",
       "      <td>-0.192298</td>\n",
       "      <td>1.051977</td>\n",
       "      <td>-0.176591</td>\n",
       "      <td>-0.077332</td>\n",
       "      <td>-0.05456</td>\n",
       "      <td>-0.053848</td>\n",
       "      <td>-0.328429</td>\n",
       "      <td>-0.022134</td>\n",
       "      <td>...</td>\n",
       "      <td>1.198795</td>\n",
       "      <td>0.391518</td>\n",
       "      <td>0.622304</td>\n",
       "      <td>1.493538</td>\n",
       "      <td>0.150514</td>\n",
       "      <td>1.332110</td>\n",
       "      <td>-0.063872</td>\n",
       "      <td>0.706557</td>\n",
       "      <td>0.251596</td>\n",
       "      <td>-0.156928</td>\n",
       "    </tr>\n",
       "    <tr>\n",
       "      <th>fbe4aa18286411ecb1698ec288c6fba6</th>\n",
       "      <td>-0.132573</td>\n",
       "      <td>-0.113268</td>\n",
       "      <td>-0.192298</td>\n",
       "      <td>2.229014</td>\n",
       "      <td>-0.176591</td>\n",
       "      <td>-0.077332</td>\n",
       "      <td>-0.05456</td>\n",
       "      <td>-0.053848</td>\n",
       "      <td>-0.328429</td>\n",
       "      <td>-0.022134</td>\n",
       "      <td>...</td>\n",
       "      <td>0.958758</td>\n",
       "      <td>1.280242</td>\n",
       "      <td>0.750380</td>\n",
       "      <td>0.253745</td>\n",
       "      <td>0.563532</td>\n",
       "      <td>1.755917</td>\n",
       "      <td>0.487581</td>\n",
       "      <td>0.843975</td>\n",
       "      <td>0.123364</td>\n",
       "      <td>-0.156928</td>\n",
       "    </tr>\n",
       "    <tr>\n",
       "      <th>03c5255a286511ec8289ca5980196c9c</th>\n",
       "      <td>-0.132573</td>\n",
       "      <td>-0.113268</td>\n",
       "      <td>-0.192298</td>\n",
       "      <td>1.707325</td>\n",
       "      <td>-0.176591</td>\n",
       "      <td>-0.077332</td>\n",
       "      <td>-0.05456</td>\n",
       "      <td>-0.053848</td>\n",
       "      <td>-0.328429</td>\n",
       "      <td>-0.022134</td>\n",
       "      <td>...</td>\n",
       "      <td>0.786495</td>\n",
       "      <td>0.486685</td>\n",
       "      <td>0.126109</td>\n",
       "      <td>1.119277</td>\n",
       "      <td>-0.492053</td>\n",
       "      <td>1.279174</td>\n",
       "      <td>-0.806702</td>\n",
       "      <td>0.384777</td>\n",
       "      <td>0.369796</td>\n",
       "      <td>-0.156928</td>\n",
       "    </tr>\n",
       "    <tr>\n",
       "      <th>91f8844a286311ecabc39e0459bddc54</th>\n",
       "      <td>-0.132573</td>\n",
       "      <td>-0.113268</td>\n",
       "      <td>-0.192298</td>\n",
       "      <td>3.324033</td>\n",
       "      <td>-0.176591</td>\n",
       "      <td>-0.077332</td>\n",
       "      <td>-0.05456</td>\n",
       "      <td>-0.053848</td>\n",
       "      <td>-0.328429</td>\n",
       "      <td>-0.022134</td>\n",
       "      <td>...</td>\n",
       "      <td>-0.122227</td>\n",
       "      <td>0.093515</td>\n",
       "      <td>-0.260421</td>\n",
       "      <td>0.857848</td>\n",
       "      <td>-0.560291</td>\n",
       "      <td>0.419610</td>\n",
       "      <td>-0.415456</td>\n",
       "      <td>0.673279</td>\n",
       "      <td>-0.344862</td>\n",
       "      <td>-0.156928</td>\n",
       "    </tr>\n",
       "  </tbody>\n",
       "</table>\n",
       "<p>2679 rows × 3000 columns</p>\n",
       "</div>"
      ],
      "text/plain": [
       "                                    FAM41C    KLHL17      HES4     ISG15  \\\n",
       "barcodes                                                                   \n",
       "cfb4162a48b611ea8957bafe6d70929e -0.132573 -0.113268 -0.192298 -0.661028   \n",
       "70ab258848b611eaa65d9e7d578d66f2 -0.132573 -0.113268 -0.192298 -0.661028   \n",
       "70acf29648b611eaa65d9e7d578d66f2 -0.132573 -0.113268 -0.192298  1.294230   \n",
       "70d2b34648b611eaa65d9e7d578d66f2 -0.132573 -0.113268 -0.192298 -0.661028   \n",
       "70d844f048b611eaa65d9e7d578d66f2 -0.132573 -0.113268 -0.192298 -0.661028   \n",
       "...                                    ...       ...       ...       ...   \n",
       "4fcaf786286511ec8c0d4aaa4b9002e8 -0.132573 -0.113268 -0.192298  1.622779   \n",
       "ce432b48286411eca744faae388e9f17 -0.132573 -0.113268 -0.192298  1.051977   \n",
       "fbe4aa18286411ecb1698ec288c6fba6 -0.132573 -0.113268 -0.192298  2.229014   \n",
       "03c5255a286511ec8289ca5980196c9c -0.132573 -0.113268 -0.192298  1.707325   \n",
       "91f8844a286311ecabc39e0459bddc54 -0.132573 -0.113268 -0.192298  3.324033   \n",
       "\n",
       "                                  C1orf159  C1QTNF12  AL162741.1    SCNN1D  \\\n",
       "barcodes                                                                     \n",
       "cfb4162a48b611ea8957bafe6d70929e -0.176591 -0.077332    -0.05456 -0.053848   \n",
       "70ab258848b611eaa65d9e7d578d66f2  4.546874 -0.077332    -0.05456 -0.053848   \n",
       "70acf29648b611eaa65d9e7d578d66f2 -0.176591 -0.077332    -0.05456 -0.053848   \n",
       "70d2b34648b611eaa65d9e7d578d66f2 -0.176591 -0.077332    -0.05456 -0.053848   \n",
       "70d844f048b611eaa65d9e7d578d66f2 -0.176591 -0.077332    -0.05456 -0.053848   \n",
       "...                                    ...       ...         ...       ...   \n",
       "4fcaf786286511ec8c0d4aaa4b9002e8 -0.176591 -0.077332    -0.05456 -0.053848   \n",
       "ce432b48286411eca744faae388e9f17 -0.176591 -0.077332    -0.05456 -0.053848   \n",
       "fbe4aa18286411ecb1698ec288c6fba6 -0.176591 -0.077332    -0.05456 -0.053848   \n",
       "03c5255a286511ec8289ca5980196c9c -0.176591 -0.077332    -0.05456 -0.053848   \n",
       "91f8844a286311ecabc39e0459bddc54 -0.176591 -0.077332    -0.05456 -0.053848   \n",
       "\n",
       "                                     ACAP3     MXRA8  ...    MT-ND1    MT-ND2  \\\n",
       "barcodes                                              ...                       \n",
       "cfb4162a48b611ea8957bafe6d70929e -0.328429 -0.022134  ...  1.325860  0.731614   \n",
       "70ab258848b611eaa65d9e7d578d66f2 -0.328429 -0.022134  ... -1.189309 -0.481571   \n",
       "70acf29648b611eaa65d9e7d578d66f2 -0.328429 -0.022134  ...  0.252301 -0.473989   \n",
       "70d2b34648b611eaa65d9e7d578d66f2 -0.328429 -0.022134  ...  1.358938 -0.032474   \n",
       "70d844f048b611eaa65d9e7d578d66f2 -0.328429 -0.022134  ... -0.771742 -2.176364   \n",
       "...                                    ...       ...  ...       ...       ...   \n",
       "4fcaf786286511ec8c0d4aaa4b9002e8 -0.328429 -0.022134  ...  0.463961  0.536566   \n",
       "ce432b48286411eca744faae388e9f17 -0.328429 -0.022134  ...  1.198795  0.391518   \n",
       "fbe4aa18286411ecb1698ec288c6fba6 -0.328429 -0.022134  ...  0.958758  1.280242   \n",
       "03c5255a286511ec8289ca5980196c9c -0.328429 -0.022134  ...  0.786495  0.486685   \n",
       "91f8844a286311ecabc39e0459bddc54 -0.328429 -0.022134  ... -0.122227  0.093515   \n",
       "\n",
       "                                    MT-CO2   MT-ATP6    MT-CO3    MT-ND3  \\\n",
       "barcodes                                                                   \n",
       "cfb4162a48b611ea8957bafe6d70929e  0.836299  1.340946  0.742673  1.439619   \n",
       "70ab258848b611eaa65d9e7d578d66f2 -0.535567 -0.834956 -0.465425 -1.024485   \n",
       "70acf29648b611eaa65d9e7d578d66f2  0.144703  0.668496 -0.065128 -0.019105   \n",
       "70d2b34648b611eaa65d9e7d578d66f2 -1.037922  0.739538 -0.204768  0.471638   \n",
       "70d844f048b611eaa65d9e7d578d66f2 -0.749368 -0.869467 -1.302776 -0.020604   \n",
       "...                                    ...       ...       ...       ...   \n",
       "4fcaf786286511ec8c0d4aaa4b9002e8 -1.310432  1.173958  0.229070  0.430827   \n",
       "ce432b48286411eca744faae388e9f17  0.622304  1.493538  0.150514  1.332110   \n",
       "fbe4aa18286411ecb1698ec288c6fba6  0.750380  0.253745  0.563532  1.755917   \n",
       "03c5255a286511ec8289ca5980196c9c  0.126109  1.119277 -0.492053  1.279174   \n",
       "91f8844a286311ecabc39e0459bddc54 -0.260421  0.857848 -0.560291  0.419610   \n",
       "\n",
       "                                   MT-ND4L    MT-ND4    MT-CYB  AC240274.1  \n",
       "barcodes                                                                    \n",
       "cfb4162a48b611ea8957bafe6d70929e  0.713853  1.086478 -0.067385   -0.156928  \n",
       "70ab258848b611eaa65d9e7d578d66f2  0.202755 -0.327291 -0.668048   -0.156928  \n",
       "70acf29648b611eaa65d9e7d578d66f2 -0.418068  0.751750  0.169085   -0.156928  \n",
       "70d2b34648b611eaa65d9e7d578d66f2  0.094861 -0.397821 -1.446746   -0.156928  \n",
       "70d844f048b611eaa65d9e7d578d66f2 -1.730623 -0.394766 -1.223874   -0.156928  \n",
       "...                                    ...       ...       ...         ...  \n",
       "4fcaf786286511ec8c0d4aaa4b9002e8  0.022275  0.371624  0.106982   -0.156928  \n",
       "ce432b48286411eca744faae388e9f17 -0.063872  0.706557  0.251596   -0.156928  \n",
       "fbe4aa18286411ecb1698ec288c6fba6  0.487581  0.843975  0.123364   -0.156928  \n",
       "03c5255a286511ec8289ca5980196c9c -0.806702  0.384777  0.369796   -0.156928  \n",
       "91f8844a286311ecabc39e0459bddc54 -0.415456  0.673279 -0.344862   -0.156928  \n",
       "\n",
       "[2679 rows x 3000 columns]"
      ]
     },
     "execution_count": 225,
     "metadata": {},
     "output_type": "execute_result"
    }
   ],
   "source": [
    "# expression_df"
   ]
  },
  {
   "cell_type": "code",
   "execution_count": 214,
   "id": "82e4af7d-2c70-4255-9f0f-08bf4b766953",
   "metadata": {
    "tags": []
   },
   "outputs": [],
   "source": [
    "adata.obs['unique_ID'] = adata.obs['pbmc_sample_id'].str.cat (adata.obs['subject.biologicalSex'], sep = \"_\").str.cat (adata.obs['cohort.cohortGuid'], sep = \"_\")"
   ]
  },
  {
   "cell_type": "code",
   "execution_count": 215,
   "id": "ad7a6c53-d640-4bfb-a2a8-6d1c3cb8e7ff",
   "metadata": {
    "tags": []
   },
   "outputs": [],
   "source": [
    "adata.obs['unique_ID'] = adata.obs['pbmc_sample_id']"
   ]
  },
  {
   "cell_type": "code",
   "execution_count": null,
   "id": "c025c7b0-9cb5-4ebf-9811-1171f0fa1bd3",
   "metadata": {},
   "outputs": [],
   "source": []
  },
  {
   "cell_type": "code",
   "execution_count": 216,
   "id": "cda4b799-932a-45f4-8b58-457e44891a87",
   "metadata": {
    "tags": []
   },
   "outputs": [
    {
     "data": {
      "text/plain": [
       "AnnData object with n_obs × n_vars = 2679 × 3000\n",
       "    obs: 'barcodes', 'batch_id', 'cell_name', 'cell_uuid', 'chip_id', 'hto_barcode', 'hto_category', 'n_genes', 'n_mito_umis', 'n_reads', 'n_umis', 'original_barcodes', 'pbmc_sample_id', 'pool_id', 'seurat_pbmc_type', 'seurat_pbmc_type_score', 'umap_1', 'umap_2', 'well_id', 'subject.biologicalSex', 'subject.ethnicity', 'subject.partnerCode', 'subject.race', 'subject.subjectGuid', 'cohort.cohortGuid', 'sample.visitName', 'sample.visitDetails', 'subject.birthYear', 'CMV.IgG.Serology.Result.Interpretation', 'BMI', 'predicted_doublet', 'doublet_score', 'AIFI_L1', 'AIFI_L2', 'AIFI_L3', 'AIFI_L3.5', 'n_genes_by_counts', 'log1p_n_genes_by_counts', 'total_counts', 'log1p_total_counts', 'pct_counts_in_top_50_genes', 'pct_counts_in_top_100_genes', 'pct_counts_in_top_200_genes', 'pct_counts_in_top_500_genes', 'total_counts_mito', 'log1p_total_counts_mito', 'pct_counts_mito', 'leiden_resolution_0.5', 'leiden_resolution_1', 'leiden_resolution_1.5', 'leiden_resolution_2', 'unique_ID'\n",
       "    var: 'highly_variable', 'means', 'dispersions', 'dispersions_norm', 'mean', 'std'\n",
       "    uns: 'hvg', 'log1p', 'neighbors', 'pca', 'umap'\n",
       "    obsm: 'X_pca', 'X_pca_harmony', 'X_umap'\n",
       "    varm: 'PCs'\n",
       "    layers: 'counts'\n",
       "    obsp: 'connectivities', 'distances'"
      ]
     },
     "execution_count": 216,
     "metadata": {},
     "output_type": "execute_result"
    }
   ],
   "source": [
    "adata"
   ]
  },
  {
   "cell_type": "code",
   "execution_count": 217,
   "id": "7780a964-44fb-47aa-901a-ca18bf0d6c5c",
   "metadata": {
    "tags": []
   },
   "outputs": [
    {
     "data": {
      "text/plain": [
       "['PB00001-01', 'PB00002-01', 'PB00003-01', 'PB00004-01', 'PB00006-01', ..., 'PB00623-01', 'PB00625-02', 'PB00645-01', 'PB01425-01', 'PB01446-01']\n",
       "Length: 92\n",
       "Categories (92, object): ['PB00001-01', 'PB00002-01', 'PB00003-01', 'PB00004-01', ..., 'PB00625-02', 'PB00645-01', 'PB01425-01', 'PB01446-01']"
      ]
     },
     "execution_count": 217,
     "metadata": {},
     "output_type": "execute_result"
    }
   ],
   "source": [
    "adata.obs['unique_ID'].unique()"
   ]
  },
  {
   "cell_type": "code",
   "execution_count": 218,
   "id": "6fccc29a-a60d-438c-919a-17e9f5fccdb4",
   "metadata": {
    "tags": []
   },
   "outputs": [
    {
     "data": {
      "text/plain": [
       "['IL1B+ CD14 monocyte']\n",
       "Categories (1, object): ['IL1B+ CD14 monocyte']"
      ]
     },
     "execution_count": 218,
     "metadata": {},
     "output_type": "execute_result"
    }
   ],
   "source": [
    "adata.obs['AIFI_L3'].unique()"
   ]
  },
  {
   "cell_type": "code",
   "execution_count": 240,
   "id": "af1d730e-3e37-4e53-84b2-7e010ceea9ff",
   "metadata": {
    "tags": []
   },
   "outputs": [],
   "source": [
    "adata.raw = adata"
   ]
  },
  {
   "cell_type": "code",
   "execution_count": 241,
   "id": "ecf47f1c-b6cc-4e6f-a739-1bffff0b6219",
   "metadata": {
    "tags": []
   },
   "outputs": [
    {
     "name": "stderr",
     "output_type": "stream",
     "text": [
      "/tmp/ipykernel_501/2632454361.py:1: FutureWarning: The default of observed=False is deprecated and will be changed to True in a future version of pandas. Pass observed=False to retain current behavior or observed=True to adopt the future default and silence this warning.\n",
      "  grouped = adata.obs.groupby(['pbmc_sample_id'])\n"
     ]
    }
   ],
   "source": [
    "grouped = adata.obs.groupby(['pbmc_sample_id'])"
   ]
  },
  {
   "cell_type": "code",
   "execution_count": 242,
   "id": "6d4b8a2c-2d38-48c0-a3e4-444a2841c94f",
   "metadata": {
    "tags": []
   },
   "outputs": [],
   "source": [
    "#Not grouped\n",
    "\n",
    "def grouped_obs_mean(adata_filt, group_key, layer=None, gene_symbols=None):\n",
    "    if layer is not None:\n",
    "        getX = lambda x: x.layers[layer]\n",
    "    else:\n",
    "        getX = lambda x: x.X\n",
    "    if gene_symbols is not None:\n",
    "        new_idx = adata_filt.raw.var[idx]\n",
    "    else:\n",
    "        new_idx = adata_filt.raw.var_names\n",
    "    \n",
    "    grouped = adata_filt.obs.groupby(group_key)\n",
    "    \n",
    "    # Extract only pbmc_sample_id without additional alphabets\n",
    "    column_names = [group.split(':')[0] for group in grouped.groups.keys()]\n",
    "    \n",
    "    out = pd.DataFrame(\n",
    "        np.zeros((adata_filt.raw.shape[1], len(column_names)), dtype=np.float64),\n",
    "        columns=column_names,\n",
    "        index=adata_filt.raw.var_names\n",
    "    )\n",
    "    \n",
    "    for group, idx in grouped.indices.items():\n",
    "        X = getX(adata_filt.raw[idx])\n",
    "        out[group.split(':')[0]] = np.ravel(X.mean(axis=0, dtype=np.float64))\n",
    "    return out\n"
   ]
  },
  {
   "cell_type": "code",
   "execution_count": 243,
   "id": "52892a5e-36f1-4236-a337-3518491e4a0e",
   "metadata": {
    "tags": []
   },
   "outputs": [
    {
     "name": "stderr",
     "output_type": "stream",
     "text": [
      "/tmp/ipykernel_501/416105204.py:11: FutureWarning: The default of observed=False is deprecated and will be changed to True in a future version of pandas. Pass observed=False to retain current behavior or observed=True to adopt the future default and silence this warning.\n",
      "  grouped = adata_filt.obs.groupby(group_key)\n"
     ]
    }
   ],
   "source": [
    "Il1b_mean = grouped_obs_mean(adata, ['pbmc_sample_id'])"
   ]
  },
  {
   "cell_type": "code",
   "execution_count": 244,
   "id": "d971c438-c37c-4db8-aad4-cbf77b595647",
   "metadata": {
    "tags": []
   },
   "outputs": [
    {
     "data": {
      "text/plain": [
       "(3000, 92)"
      ]
     },
     "execution_count": 244,
     "metadata": {},
     "output_type": "execute_result"
    }
   ],
   "source": [
    "Il1b_mean.shape"
   ]
  },
  {
   "cell_type": "code",
   "execution_count": 245,
   "id": "0b7c8ee9-955b-4ad4-991a-db03f96da0c1",
   "metadata": {
    "tags": []
   },
   "outputs": [
    {
     "data": {
      "text/html": [
       "<div>\n",
       "<style scoped>\n",
       "    .dataframe tbody tr th:only-of-type {\n",
       "        vertical-align: middle;\n",
       "    }\n",
       "\n",
       "    .dataframe tbody tr th {\n",
       "        vertical-align: top;\n",
       "    }\n",
       "\n",
       "    .dataframe thead th {\n",
       "        text-align: right;\n",
       "    }\n",
       "</style>\n",
       "<table border=\"1\" class=\"dataframe\">\n",
       "  <thead>\n",
       "    <tr style=\"text-align: right;\">\n",
       "      <th></th>\n",
       "      <th>PB00001-01</th>\n",
       "      <th>PB00002-01</th>\n",
       "      <th>PB00003-01</th>\n",
       "      <th>PB00004-01</th>\n",
       "      <th>PB00006-01</th>\n",
       "      <th>PB00010-02</th>\n",
       "      <th>PB00012-01</th>\n",
       "      <th>PB00014-01</th>\n",
       "      <th>PB00015-01</th>\n",
       "      <th>PB00016-01</th>\n",
       "      <th>...</th>\n",
       "      <th>PB00592-01</th>\n",
       "      <th>PB00599-01</th>\n",
       "      <th>PB00600-01</th>\n",
       "      <th>PB00602-01</th>\n",
       "      <th>PB00621-01</th>\n",
       "      <th>PB00623-01</th>\n",
       "      <th>PB00625-02</th>\n",
       "      <th>PB00645-01</th>\n",
       "      <th>PB01425-01</th>\n",
       "      <th>PB01446-01</th>\n",
       "    </tr>\n",
       "  </thead>\n",
       "  <tbody>\n",
       "    <tr>\n",
       "      <th>FAM41C</th>\n",
       "      <td>-0.132573</td>\n",
       "      <td>-0.132573</td>\n",
       "      <td>-0.132573</td>\n",
       "      <td>-0.132573</td>\n",
       "      <td>-0.132573</td>\n",
       "      <td>-0.132573</td>\n",
       "      <td>-0.132573</td>\n",
       "      <td>-0.132573</td>\n",
       "      <td>-0.132573</td>\n",
       "      <td>0.052049</td>\n",
       "      <td>...</td>\n",
       "      <td>-0.132573</td>\n",
       "      <td>0.060168</td>\n",
       "      <td>0.008158</td>\n",
       "      <td>0.017048</td>\n",
       "      <td>-0.132573</td>\n",
       "      <td>0.098646</td>\n",
       "      <td>-0.132573</td>\n",
       "      <td>-0.132573</td>\n",
       "      <td>-0.132573</td>\n",
       "      <td>-0.132573</td>\n",
       "    </tr>\n",
       "    <tr>\n",
       "      <th>KLHL17</th>\n",
       "      <td>-0.113268</td>\n",
       "      <td>-0.113268</td>\n",
       "      <td>-0.113268</td>\n",
       "      <td>-0.113268</td>\n",
       "      <td>-0.113268</td>\n",
       "      <td>0.561391</td>\n",
       "      <td>-0.113268</td>\n",
       "      <td>0.021641</td>\n",
       "      <td>-0.113268</td>\n",
       "      <td>-0.113268</td>\n",
       "      <td>...</td>\n",
       "      <td>-0.113268</td>\n",
       "      <td>0.275859</td>\n",
       "      <td>0.085578</td>\n",
       "      <td>0.054990</td>\n",
       "      <td>1.178048</td>\n",
       "      <td>-0.113268</td>\n",
       "      <td>-0.113268</td>\n",
       "      <td>-0.113268</td>\n",
       "      <td>-0.113268</td>\n",
       "      <td>-0.113268</td>\n",
       "    </tr>\n",
       "  </tbody>\n",
       "</table>\n",
       "<p>2 rows × 92 columns</p>\n",
       "</div>"
      ],
      "text/plain": [
       "        PB00001-01  PB00002-01  PB00003-01  PB00004-01  PB00006-01  \\\n",
       "FAM41C   -0.132573   -0.132573   -0.132573   -0.132573   -0.132573   \n",
       "KLHL17   -0.113268   -0.113268   -0.113268   -0.113268   -0.113268   \n",
       "\n",
       "        PB00010-02  PB00012-01  PB00014-01  PB00015-01  PB00016-01  ...  \\\n",
       "FAM41C   -0.132573   -0.132573   -0.132573   -0.132573    0.052049  ...   \n",
       "KLHL17    0.561391   -0.113268    0.021641   -0.113268   -0.113268  ...   \n",
       "\n",
       "        PB00592-01  PB00599-01  PB00600-01  PB00602-01  PB00621-01  \\\n",
       "FAM41C   -0.132573    0.060168    0.008158    0.017048   -0.132573   \n",
       "KLHL17   -0.113268    0.275859    0.085578    0.054990    1.178048   \n",
       "\n",
       "        PB00623-01  PB00625-02  PB00645-01  PB01425-01  PB01446-01  \n",
       "FAM41C    0.098646   -0.132573   -0.132573   -0.132573   -0.132573  \n",
       "KLHL17   -0.113268   -0.113268   -0.113268   -0.113268   -0.113268  \n",
       "\n",
       "[2 rows x 92 columns]"
      ]
     },
     "execution_count": 245,
     "metadata": {},
     "output_type": "execute_result"
    }
   ],
   "source": [
    "Il1b_mean.head(n=2)"
   ]
  },
  {
   "cell_type": "code",
   "execution_count": 246,
   "id": "9421d619-c8a9-4a98-b32e-8ed8262c0fd7",
   "metadata": {
    "tags": []
   },
   "outputs": [
    {
     "data": {
      "text/plain": [
       "Index(['FAM41C', 'KLHL17', 'HES4', 'ISG15', 'C1orf159', 'C1QTNF12',\n",
       "       'AL162741.1', 'SCNN1D', 'ACAP3', 'MXRA8',\n",
       "       ...\n",
       "       'MT-ND1', 'MT-ND2', 'MT-CO2', 'MT-ATP6', 'MT-CO3', 'MT-ND3', 'MT-ND4L',\n",
       "       'MT-ND4', 'MT-CYB', 'AC240274.1'],\n",
       "      dtype='object', length=3000)"
      ]
     },
     "execution_count": 246,
     "metadata": {},
     "output_type": "execute_result"
    }
   ],
   "source": [
    "Il1b_mean.index"
   ]
  },
  {
   "cell_type": "code",
   "execution_count": 247,
   "id": "c96636bb-28ee-4fa0-8bf9-e24aceeaf88c",
   "metadata": {
    "tags": []
   },
   "outputs": [
    {
     "data": {
      "text/html": [
       "<div>\n",
       "<style scoped>\n",
       "    .dataframe tbody tr th:only-of-type {\n",
       "        vertical-align: middle;\n",
       "    }\n",
       "\n",
       "    .dataframe tbody tr th {\n",
       "        vertical-align: top;\n",
       "    }\n",
       "\n",
       "    .dataframe thead th {\n",
       "        text-align: right;\n",
       "    }\n",
       "</style>\n",
       "<table border=\"1\" class=\"dataframe\">\n",
       "  <thead>\n",
       "    <tr style=\"text-align: right;\">\n",
       "      <th></th>\n",
       "      <th>PB00001-01</th>\n",
       "      <th>PB00002-01</th>\n",
       "      <th>PB00003-01</th>\n",
       "      <th>PB00004-01</th>\n",
       "      <th>PB00006-01</th>\n",
       "      <th>PB00010-02</th>\n",
       "      <th>PB00012-01</th>\n",
       "      <th>PB00014-01</th>\n",
       "      <th>PB00015-01</th>\n",
       "      <th>PB00016-01</th>\n",
       "      <th>...</th>\n",
       "      <th>PB00592-01</th>\n",
       "      <th>PB00599-01</th>\n",
       "      <th>PB00600-01</th>\n",
       "      <th>PB00602-01</th>\n",
       "      <th>PB00621-01</th>\n",
       "      <th>PB00623-01</th>\n",
       "      <th>PB00625-02</th>\n",
       "      <th>PB00645-01</th>\n",
       "      <th>PB01425-01</th>\n",
       "      <th>PB01446-01</th>\n",
       "    </tr>\n",
       "  </thead>\n",
       "  <tbody>\n",
       "    <tr>\n",
       "      <th>FAM41C</th>\n",
       "      <td>-0.132573</td>\n",
       "      <td>-0.132573</td>\n",
       "      <td>-0.132573</td>\n",
       "      <td>-0.132573</td>\n",
       "      <td>-0.132573</td>\n",
       "      <td>-0.132573</td>\n",
       "      <td>-0.132573</td>\n",
       "      <td>-0.132573</td>\n",
       "      <td>-0.132573</td>\n",
       "      <td>0.052049</td>\n",
       "      <td>...</td>\n",
       "      <td>-0.132573</td>\n",
       "      <td>0.060168</td>\n",
       "      <td>0.008158</td>\n",
       "      <td>0.017048</td>\n",
       "      <td>-0.132573</td>\n",
       "      <td>0.098646</td>\n",
       "      <td>-0.132573</td>\n",
       "      <td>-0.132573</td>\n",
       "      <td>-0.132573</td>\n",
       "      <td>-0.132573</td>\n",
       "    </tr>\n",
       "    <tr>\n",
       "      <th>KLHL17</th>\n",
       "      <td>-0.113268</td>\n",
       "      <td>-0.113268</td>\n",
       "      <td>-0.113268</td>\n",
       "      <td>-0.113268</td>\n",
       "      <td>-0.113268</td>\n",
       "      <td>0.561391</td>\n",
       "      <td>-0.113268</td>\n",
       "      <td>0.021641</td>\n",
       "      <td>-0.113268</td>\n",
       "      <td>-0.113268</td>\n",
       "      <td>...</td>\n",
       "      <td>-0.113268</td>\n",
       "      <td>0.275859</td>\n",
       "      <td>0.085578</td>\n",
       "      <td>0.054990</td>\n",
       "      <td>1.178048</td>\n",
       "      <td>-0.113268</td>\n",
       "      <td>-0.113268</td>\n",
       "      <td>-0.113268</td>\n",
       "      <td>-0.113268</td>\n",
       "      <td>-0.113268</td>\n",
       "    </tr>\n",
       "  </tbody>\n",
       "</table>\n",
       "<p>2 rows × 92 columns</p>\n",
       "</div>"
      ],
      "text/plain": [
       "        PB00001-01  PB00002-01  PB00003-01  PB00004-01  PB00006-01  \\\n",
       "FAM41C   -0.132573   -0.132573   -0.132573   -0.132573   -0.132573   \n",
       "KLHL17   -0.113268   -0.113268   -0.113268   -0.113268   -0.113268   \n",
       "\n",
       "        PB00010-02  PB00012-01  PB00014-01  PB00015-01  PB00016-01  ...  \\\n",
       "FAM41C   -0.132573   -0.132573   -0.132573   -0.132573    0.052049  ...   \n",
       "KLHL17    0.561391   -0.113268    0.021641   -0.113268   -0.113268  ...   \n",
       "\n",
       "        PB00592-01  PB00599-01  PB00600-01  PB00602-01  PB00621-01  \\\n",
       "FAM41C   -0.132573    0.060168    0.008158    0.017048   -0.132573   \n",
       "KLHL17   -0.113268    0.275859    0.085578    0.054990    1.178048   \n",
       "\n",
       "        PB00623-01  PB00625-02  PB00645-01  PB01425-01  PB01446-01  \n",
       "FAM41C    0.098646   -0.132573   -0.132573   -0.132573   -0.132573  \n",
       "KLHL17   -0.113268   -0.113268   -0.113268   -0.113268   -0.113268  \n",
       "\n",
       "[2 rows x 92 columns]"
      ]
     },
     "execution_count": 247,
     "metadata": {},
     "output_type": "execute_result"
    }
   ],
   "source": [
    "Il1b_mean.head(n=2)"
   ]
  },
  {
   "cell_type": "code",
   "execution_count": 249,
   "id": "be28bff0-70ef-4bde-80b4-8ea124e67fe4",
   "metadata": {
    "tags": []
   },
   "outputs": [],
   "source": [
    "# Save DataFrame to CSV\n",
    "Il1b_mean.to_csv('IL1B_CD14_mono_Heatmap_expression_matrix_v2.csv')"
   ]
  },
  {
   "cell_type": "code",
   "execution_count": null,
   "id": "f625adb9-8440-43af-8314-fa927737975f",
   "metadata": {},
   "outputs": [],
   "source": []
  },
  {
   "cell_type": "code",
   "execution_count": null,
   "id": "d4bf7419-44fa-4026-aafe-e499285da958",
   "metadata": {},
   "outputs": [],
   "source": []
  },
  {
   "cell_type": "code",
   "execution_count": null,
   "id": "b417016a-5947-4516-9158-f3fce4855600",
   "metadata": {},
   "outputs": [],
   "source": []
  },
  {
   "cell_type": "code",
   "execution_count": null,
   "id": "3111cca6-c2f2-47cb-8654-a5a1649b0941",
   "metadata": {},
   "outputs": [],
   "source": []
  },
  {
   "cell_type": "code",
   "execution_count": null,
   "id": "708eabac-1cb9-4f6f-b8c0-551542954edb",
   "metadata": {},
   "outputs": [],
   "source": []
  },
  {
   "cell_type": "code",
   "execution_count": null,
   "id": "9488b5ff-abc9-4960-9488-b33d44ef2341",
   "metadata": {},
   "outputs": [],
   "source": []
  }
 ],
 "metadata": {
  "kernelspec": {
   "display_name": "Python 3 (ipykernel)",
   "language": "python",
   "name": "python3"
  },
  "language_info": {
   "codemirror_mode": {
    "name": "ipython",
    "version": 3
   },
   "file_extension": ".py",
   "mimetype": "text/x-python",
   "name": "python",
   "nbconvert_exporter": "python",
   "pygments_lexer": "ipython3",
   "version": "3.10.12"
  }
 },
 "nbformat": 4,
 "nbformat_minor": 5
}
