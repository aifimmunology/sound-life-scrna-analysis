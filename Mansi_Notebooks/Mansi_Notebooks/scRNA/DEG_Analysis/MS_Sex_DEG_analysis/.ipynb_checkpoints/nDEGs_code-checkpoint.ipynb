{
 "cells": [
  {
   "cell_type": "code",
   "execution_count": 296,
   "id": "4358a828-b431-4135-a4b4-660637d687af",
   "metadata": {
    "tags": []
   },
   "outputs": [],
   "source": [
    "suppressPackageStartupMessages(library(readxl))\n",
    "suppressPackageStartupMessages(library(dplyr))\n",
    "suppressPackageStartupMessages(library(tidyr))\n",
    "suppressPackageStartupMessages(library(tibble))\n",
    "suppressPackageStartupMessages(library(patchwork))\n",
    "suppressPackageStartupMessages(library(pheatmap))\n",
    "suppressPackageStartupMessages(library(stringr))\n",
    "library(hise)\n",
    "library(plyr)\n",
    "library(purrr)\n",
    "library(vegan)\n",
    "#library(arrow)\n",
    "library(parallel)\n",
    "library(ComplexHeatmap)\n",
    "library(ggsci)\n",
    "library(tidyverse)"
   ]
  },
  {
   "cell_type": "code",
   "execution_count": null,
   "id": "52ab0780-baa7-4351-b093-4f3a763b0735",
   "metadata": {},
   "outputs": [],
   "source": []
  },
  {
   "cell_type": "markdown",
   "id": "9d5feaea-e8fe-4793-8d9e-31de8b8f5cad",
   "metadata": {
    "tags": []
   },
   "source": [
    "## file_list - IL1B+ Cd14 mono"
   ]
  },
  {
   "cell_type": "code",
   "execution_count": 181,
   "id": "ee88c083-c840-40ff-aed0-1109cb5cae04",
   "metadata": {
    "tags": []
   },
   "outputs": [],
   "source": [
    "# file_list<-list.files(path = paste0(\"/home/jupyter/IH-A-Aging-Analysis-Notebooks_old/Mansi_Notebooks/scRNA/DEG_Analysis/MS_Sex_DEG_analysis/DEG_cohort_splitby_sex_CSVfiles/Age_yr1_Day0_Female_Test_3\"), pattern = \".csv\", all.files = FALSE,\n",
    "#            full.names = TRUE, recursive = FALSE,\n",
    "#            ignore.case = FALSE, include.dirs = TRUE, no.. = FALSE)"
   ]
  },
  {
   "cell_type": "code",
   "execution_count": 182,
   "id": "3669570b-121d-4f71-818b-dc8796126fb9",
   "metadata": {
    "tags": []
   },
   "outputs": [],
   "source": [
    "# DEG_list<-mclapply(file_list,read.csv,mc.cores=length(file_list))\n",
    "# DEG<-do.call(rbind,DEG_list)"
   ]
  },
  {
   "cell_type": "code",
   "execution_count": 414,
   "id": "ba522cbc-d756-4a50-a97f-840b351cc112",
   "metadata": {
    "tags": []
   },
   "outputs": [],
   "source": [
    "DEG_male <- read.csv(\"/home/jupyter/IH-A-Aging-Analysis-Notebooks_old/Mansi_Notebooks/scRNA/DEG_Analysis/MS_Sex_DEG_analysis/DEG_cohort_splitby_sex_CSVfiles/Age_yr1_Day0_Male/IL1B+ CD14 monocyte_Y1D0.csv\")\n",
    "DEG_male$test_num <- \"Unchanged_sample_size_Male\"\n",
    "#DEG_male"
   ]
  },
  {
   "cell_type": "code",
   "execution_count": 415,
   "id": "5b6eea0c-58ad-4c5c-82c6-d57c0ffddaea",
   "metadata": {
    "tags": []
   },
   "outputs": [],
   "source": [
    "DEG_female <-read.csv(\"/home/jupyter/IH-A-Aging-Analysis-Notebooks_old/Mansi_Notebooks/scRNA/DEG_Analysis/MS_Sex_DEG_analysis/DEG_cohort_splitby_sex_CSVfiles/Age_yr1_Day0_Female/IL1B+ CD14 monocyte_Y1D0.csv\")\n",
    "DEG_female$test_num <- \"Unchanged_sample_size_Female\""
   ]
  },
  {
   "cell_type": "code",
   "execution_count": 416,
   "id": "bb9d473f-0d76-4fd1-aaca-887744f005ce",
   "metadata": {
    "tags": []
   },
   "outputs": [],
   "source": [
    "# DEG1 <- read.csv(\"/home/jupyter/IH-A-Aging-Analysis-Notebooks_old/Mansi_Notebooks/scRNA/DEG_Analysis/MS_Sex_DEG_analysis/DEG_cohort_splitby_sex_CSVfiles/Age_yr1_Day0_Female_Test_1/IL1B+ CD14 monocyte_Y1D0.csv\")\n",
    "# DEG1$test_num <- \"Female_Test_1\""
   ]
  },
  {
   "cell_type": "code",
   "execution_count": 417,
   "id": "d6430fbe-684c-4b7d-93e4-36ee1d26f8a8",
   "metadata": {
    "tags": []
   },
   "outputs": [],
   "source": [
    "# DEG2 <- read.csv(\"/home/jupyter/IH-A-Aging-Analysis-Notebooks_old/Mansi_Notebooks/scRNA/DEG_Analysis/MS_Sex_DEG_analysis/DEG_cohort_splitby_sex_CSVfiles/Age_yr1_Day0_Female_Test_2/IL1B+ CD14 monocyte_Y1D0.csv\")\n",
    "# DEG2$test_num <- \"Female_Test_2\""
   ]
  },
  {
   "cell_type": "code",
   "execution_count": 418,
   "id": "436a25f6-ac17-4e06-aadd-f19207234666",
   "metadata": {
    "tags": []
   },
   "outputs": [],
   "source": [
    "# DEG3 <- read.csv(\"/home/jupyter/IH-A-Aging-Analysis-Notebooks_old/Mansi_Notebooks/scRNA/DEG_Analysis/MS_Sex_DEG_analysis/DEG_cohort_splitby_sex_CSVfiles/Age_yr1_Day0_Female_Test_3/IL1B+ CD14 monocyte_Y1D0.csv\")\n",
    "# DEG3$test_num <- \"Female_Test_3\""
   ]
  },
  {
   "cell_type": "code",
   "execution_count": 419,
   "id": "2cf072bf-6a47-4935-b16d-5ecbd657d3b3",
   "metadata": {
    "tags": []
   },
   "outputs": [],
   "source": [
    "DEG_CMV_1 <- read.csv(\"/home/jupyter/IH-A-Aging-Analysis-Notebooks_old/Mansi_Notebooks/scRNA/DEG_Analysis/MS_Sex_DEG_analysis/DEG_cohort_splitby_sex_CSVfiles/Age_yr1_Day0_Female_CMV_Test_1/IL1B+ CD14 monocyte_Y1D0.csv\")                                  \n",
    "DEG_CMV_1$test_num <- \"Female_downsample_CMV_samplesize_Test_1\""
   ]
  },
  {
   "cell_type": "code",
   "execution_count": 420,
   "id": "5656012b-97a0-4e43-a470-f74c222563d2",
   "metadata": {
    "tags": []
   },
   "outputs": [],
   "source": [
    "DEG_CMV_2 <- read.csv(\"/home/jupyter/IH-A-Aging-Analysis-Notebooks_old/Mansi_Notebooks/scRNA/DEG_Analysis/MS_Sex_DEG_analysis/DEG_cohort_splitby_sex_CSVfiles/Age_yr1_Day0_Female_CMV_Test_2/IL1B+ CD14 monocyte_Y1D0.csv\")                                  \n",
    "DEG_CMV_2$test_num <- \"Female_downsample_CMV_samplesize_Test_2\""
   ]
  },
  {
   "cell_type": "code",
   "execution_count": 421,
   "id": "39dd1294-b7d7-441d-a7ab-420b21f88da1",
   "metadata": {
    "tags": []
   },
   "outputs": [],
   "source": [
    "DEG_CMV_3 <- read.csv(\"/home/jupyter/IH-A-Aging-Analysis-Notebooks_old/Mansi_Notebooks/scRNA/DEG_Analysis/MS_Sex_DEG_analysis/DEG_cohort_splitby_sex_CSVfiles/Age_yr1_Day0_Female_CMV_Test_2/IL1B+ CD14 monocyte_Y1D0.csv\")                                  \n",
    "DEG_CMV_3$test_num <- \"Female_downsample_CMV_samplesize_Test_3\""
   ]
  },
  {
   "cell_type": "code",
   "execution_count": 422,
   "id": "15acf1c6-8c56-46f3-987f-30d2b8c976c3",
   "metadata": {
    "tags": []
   },
   "outputs": [],
   "source": [
    "# Create a list of data frames\n",
    "DEG_list <- list(DEG_male, DEG_female, DEG_CMV_1, DEG_CMV_2, DEG_CMV_3 )\n",
    "\n",
    "# Combine the data frames using do.call and rbind\n",
    "DEG <- do.call(rbind, DEG_list)\n"
   ]
  },
  {
   "cell_type": "code",
   "execution_count": 423,
   "id": "6524c3c7-2a52-45fb-a535-d68bc4e8b4d3",
   "metadata": {
    "tags": []
   },
   "outputs": [
    {
     "data": {
      "text/html": [
       "<style>\n",
       ".list-inline {list-style: none; margin:0; padding: 0}\n",
       ".list-inline>li {display: inline-block}\n",
       ".list-inline>li:not(:last-child)::after {content: \"\\00b7\"; padding: 0 .5ex}\n",
       "</style>\n",
       "<ol class=list-inline><li>'Unchanged_sample_size_Male'</li><li>'Unchanged_sample_size_Female'</li><li>'Female_downsample_CMV_samplesize_Test_1'</li><li>'Female_downsample_CMV_samplesize_Test_2'</li><li>'Female_downsample_CMV_samplesize_Test_3'</li></ol>\n"
      ],
      "text/latex": [
       "\\begin{enumerate*}\n",
       "\\item 'Unchanged\\_sample\\_size\\_Male'\n",
       "\\item 'Unchanged\\_sample\\_size\\_Female'\n",
       "\\item 'Female\\_downsample\\_CMV\\_samplesize\\_Test\\_1'\n",
       "\\item 'Female\\_downsample\\_CMV\\_samplesize\\_Test\\_2'\n",
       "\\item 'Female\\_downsample\\_CMV\\_samplesize\\_Test\\_3'\n",
       "\\end{enumerate*}\n"
      ],
      "text/markdown": [
       "1. 'Unchanged_sample_size_Male'\n",
       "2. 'Unchanged_sample_size_Female'\n",
       "3. 'Female_downsample_CMV_samplesize_Test_1'\n",
       "4. 'Female_downsample_CMV_samplesize_Test_2'\n",
       "5. 'Female_downsample_CMV_samplesize_Test_3'\n",
       "\n",
       "\n"
      ],
      "text/plain": [
       "[1] \"Unchanged_sample_size_Male\"             \n",
       "[2] \"Unchanged_sample_size_Female\"           \n",
       "[3] \"Female_downsample_CMV_samplesize_Test_1\"\n",
       "[4] \"Female_downsample_CMV_samplesize_Test_2\"\n",
       "[5] \"Female_downsample_CMV_samplesize_Test_3\""
      ]
     },
     "metadata": {},
     "output_type": "display_data"
    },
    {
     "data": {
      "text/html": [
       "'IL1B+ CD14 monocyte'"
      ],
      "text/latex": [
       "'IL1B+ CD14 monocyte'"
      ],
      "text/markdown": [
       "'IL1B+ CD14 monocyte'"
      ],
      "text/plain": [
       "[1] \"IL1B+ CD14 monocyte\""
      ]
     },
     "metadata": {},
     "output_type": "display_data"
    }
   ],
   "source": [
    "DEG$test_num %>% unique()\n",
    "DEG$celltype %>% unique()"
   ]
  },
  {
   "cell_type": "code",
   "execution_count": 424,
   "id": "8d904a8b-4f30-4169-8531-87361b51f215",
   "metadata": {
    "tags": []
   },
   "outputs": [
    {
     "data": {
      "text/html": [
       "<style>\n",
       ".list-inline {list-style: none; margin:0; padding: 0}\n",
       ".list-inline>li {display: inline-block}\n",
       ".list-inline>li:not(:last-child)::after {content: \"\\00b7\"; padding: 0 .5ex}\n",
       "</style>\n",
       "<ol class=list-inline><li>'BR1'</li><li>'BR2'</li></ol>\n"
      ],
      "text/latex": [
       "\\begin{enumerate*}\n",
       "\\item 'BR1'\n",
       "\\item 'BR2'\n",
       "\\end{enumerate*}\n"
      ],
      "text/markdown": [
       "1. 'BR1'\n",
       "2. 'BR2'\n",
       "\n",
       "\n"
      ],
      "text/plain": [
       "[1] \"BR1\" \"BR2\""
      ]
     },
     "metadata": {},
     "output_type": "display_data"
    }
   ],
   "source": [
    "unique(DEG$Direction)"
   ]
  },
  {
   "cell_type": "code",
   "execution_count": 425,
   "id": "09f58f69-28fa-4015-8088-2a7b94f48e6d",
   "metadata": {
    "tags": []
   },
   "outputs": [
    {
     "data": {
      "text/html": [
       "<table class=\"dataframe\">\n",
       "<caption>A data.frame: 6 × 11</caption>\n",
       "<thead>\n",
       "\t<tr><th></th><th scope=col>X</th><th scope=col>baseMean</th><th scope=col>log2FoldChange</th><th scope=col>lfcSE</th><th scope=col>stat</th><th scope=col>pvalue</th><th scope=col>padj</th><th scope=col>celltype</th><th scope=col>Direction</th><th scope=col>Year</th><th scope=col>test_num</th></tr>\n",
       "\t<tr><th></th><th scope=col>&lt;chr&gt;</th><th scope=col>&lt;dbl&gt;</th><th scope=col>&lt;dbl&gt;</th><th scope=col>&lt;dbl&gt;</th><th scope=col>&lt;dbl&gt;</th><th scope=col>&lt;dbl&gt;</th><th scope=col>&lt;dbl&gt;</th><th scope=col>&lt;chr&gt;</th><th scope=col>&lt;chr&gt;</th><th scope=col>&lt;chr&gt;</th><th scope=col>&lt;chr&gt;</th></tr>\n",
       "</thead>\n",
       "<tbody>\n",
       "\t<tr><th scope=row>1</th><td>CCDC115 </td><td> 3.555371</td><td>-0.6669224</td><td>0.2057432</td><td>-3.241529</td><td>0.0011889053</td><td>0.5164025</td><td>IL1B+ CD14 monocyte</td><td>BR1</td><td>Y1</td><td>Unchanged_sample_size_Male</td></tr>\n",
       "\t<tr><th scope=row>2</th><td>NABP1   </td><td>14.517155</td><td>-0.5610775</td><td>0.1695893</td><td>-3.308450</td><td>0.0009381404</td><td>0.5164025</td><td>IL1B+ CD14 monocyte</td><td>BR1</td><td>Y1</td><td>Unchanged_sample_size_Male</td></tr>\n",
       "\t<tr><th scope=row>3</th><td>TADA3   </td><td> 4.288629</td><td>-0.6258226</td><td>0.1925724</td><td>-3.249805</td><td>0.0011548429</td><td>0.5164025</td><td>IL1B+ CD14 monocyte</td><td>BR1</td><td>Y1</td><td>Unchanged_sample_size_Male</td></tr>\n",
       "\t<tr><th scope=row>4</th><td>CAMK2D  </td><td> 4.958832</td><td>-0.7456421</td><td>0.2300710</td><td>-3.240922</td><td>0.0011914363</td><td>0.5164025</td><td>IL1B+ CD14 monocyte</td><td>BR1</td><td>Y1</td><td>Unchanged_sample_size_Male</td></tr>\n",
       "\t<tr><th scope=row>5</th><td>UIMC1   </td><td> 3.458288</td><td>-0.6923697</td><td>0.2073623</td><td>-3.338938</td><td>0.0008409945</td><td>0.5164025</td><td>IL1B+ CD14 monocyte</td><td>BR1</td><td>Y1</td><td>Unchanged_sample_size_Male</td></tr>\n",
       "\t<tr><th scope=row>6</th><td>SERPINB9</td><td>10.943509</td><td>-0.6486679</td><td>0.1959577</td><td>-3.310244</td><td>0.0009321459</td><td>0.5164025</td><td>IL1B+ CD14 monocyte</td><td>BR1</td><td>Y1</td><td>Unchanged_sample_size_Male</td></tr>\n",
       "</tbody>\n",
       "</table>\n"
      ],
      "text/latex": [
       "A data.frame: 6 × 11\n",
       "\\begin{tabular}{r|lllllllllll}\n",
       "  & X & baseMean & log2FoldChange & lfcSE & stat & pvalue & padj & celltype & Direction & Year & test\\_num\\\\\n",
       "  & <chr> & <dbl> & <dbl> & <dbl> & <dbl> & <dbl> & <dbl> & <chr> & <chr> & <chr> & <chr>\\\\\n",
       "\\hline\n",
       "\t1 & CCDC115  &  3.555371 & -0.6669224 & 0.2057432 & -3.241529 & 0.0011889053 & 0.5164025 & IL1B+ CD14 monocyte & BR1 & Y1 & Unchanged\\_sample\\_size\\_Male\\\\\n",
       "\t2 & NABP1    & 14.517155 & -0.5610775 & 0.1695893 & -3.308450 & 0.0009381404 & 0.5164025 & IL1B+ CD14 monocyte & BR1 & Y1 & Unchanged\\_sample\\_size\\_Male\\\\\n",
       "\t3 & TADA3    &  4.288629 & -0.6258226 & 0.1925724 & -3.249805 & 0.0011548429 & 0.5164025 & IL1B+ CD14 monocyte & BR1 & Y1 & Unchanged\\_sample\\_size\\_Male\\\\\n",
       "\t4 & CAMK2D   &  4.958832 & -0.7456421 & 0.2300710 & -3.240922 & 0.0011914363 & 0.5164025 & IL1B+ CD14 monocyte & BR1 & Y1 & Unchanged\\_sample\\_size\\_Male\\\\\n",
       "\t5 & UIMC1    &  3.458288 & -0.6923697 & 0.2073623 & -3.338938 & 0.0008409945 & 0.5164025 & IL1B+ CD14 monocyte & BR1 & Y1 & Unchanged\\_sample\\_size\\_Male\\\\\n",
       "\t6 & SERPINB9 & 10.943509 & -0.6486679 & 0.1959577 & -3.310244 & 0.0009321459 & 0.5164025 & IL1B+ CD14 monocyte & BR1 & Y1 & Unchanged\\_sample\\_size\\_Male\\\\\n",
       "\\end{tabular}\n"
      ],
      "text/markdown": [
       "\n",
       "A data.frame: 6 × 11\n",
       "\n",
       "| <!--/--> | X &lt;chr&gt; | baseMean &lt;dbl&gt; | log2FoldChange &lt;dbl&gt; | lfcSE &lt;dbl&gt; | stat &lt;dbl&gt; | pvalue &lt;dbl&gt; | padj &lt;dbl&gt; | celltype &lt;chr&gt; | Direction &lt;chr&gt; | Year &lt;chr&gt; | test_num &lt;chr&gt; |\n",
       "|---|---|---|---|---|---|---|---|---|---|---|---|\n",
       "| 1 | CCDC115  |  3.555371 | -0.6669224 | 0.2057432 | -3.241529 | 0.0011889053 | 0.5164025 | IL1B+ CD14 monocyte | BR1 | Y1 | Unchanged_sample_size_Male |\n",
       "| 2 | NABP1    | 14.517155 | -0.5610775 | 0.1695893 | -3.308450 | 0.0009381404 | 0.5164025 | IL1B+ CD14 monocyte | BR1 | Y1 | Unchanged_sample_size_Male |\n",
       "| 3 | TADA3    |  4.288629 | -0.6258226 | 0.1925724 | -3.249805 | 0.0011548429 | 0.5164025 | IL1B+ CD14 monocyte | BR1 | Y1 | Unchanged_sample_size_Male |\n",
       "| 4 | CAMK2D   |  4.958832 | -0.7456421 | 0.2300710 | -3.240922 | 0.0011914363 | 0.5164025 | IL1B+ CD14 monocyte | BR1 | Y1 | Unchanged_sample_size_Male |\n",
       "| 5 | UIMC1    |  3.458288 | -0.6923697 | 0.2073623 | -3.338938 | 0.0008409945 | 0.5164025 | IL1B+ CD14 monocyte | BR1 | Y1 | Unchanged_sample_size_Male |\n",
       "| 6 | SERPINB9 | 10.943509 | -0.6486679 | 0.1959577 | -3.310244 | 0.0009321459 | 0.5164025 | IL1B+ CD14 monocyte | BR1 | Y1 | Unchanged_sample_size_Male |\n",
       "\n"
      ],
      "text/plain": [
       "  X        baseMean  log2FoldChange lfcSE     stat      pvalue       padj     \n",
       "1 CCDC115   3.555371 -0.6669224     0.2057432 -3.241529 0.0011889053 0.5164025\n",
       "2 NABP1    14.517155 -0.5610775     0.1695893 -3.308450 0.0009381404 0.5164025\n",
       "3 TADA3     4.288629 -0.6258226     0.1925724 -3.249805 0.0011548429 0.5164025\n",
       "4 CAMK2D    4.958832 -0.7456421     0.2300710 -3.240922 0.0011914363 0.5164025\n",
       "5 UIMC1     3.458288 -0.6923697     0.2073623 -3.338938 0.0008409945 0.5164025\n",
       "6 SERPINB9 10.943509 -0.6486679     0.1959577 -3.310244 0.0009321459 0.5164025\n",
       "  celltype            Direction Year test_num                  \n",
       "1 IL1B+ CD14 monocyte BR1       Y1   Unchanged_sample_size_Male\n",
       "2 IL1B+ CD14 monocyte BR1       Y1   Unchanged_sample_size_Male\n",
       "3 IL1B+ CD14 monocyte BR1       Y1   Unchanged_sample_size_Male\n",
       "4 IL1B+ CD14 monocyte BR1       Y1   Unchanged_sample_size_Male\n",
       "5 IL1B+ CD14 monocyte BR1       Y1   Unchanged_sample_size_Male\n",
       "6 IL1B+ CD14 monocyte BR1       Y1   Unchanged_sample_size_Male"
      ]
     },
     "metadata": {},
     "output_type": "display_data"
    }
   ],
   "source": [
    "#head(DEG)"
   ]
  },
  {
   "cell_type": "code",
   "execution_count": 426,
   "id": "5f14266f-a9c4-4371-ae14-ae4081edcb9f",
   "metadata": {
    "tags": []
   },
   "outputs": [],
   "source": [
    "DEG<- DEG%>% mutate(Expression = case_when(log2FoldChange >=0.1 & padj <= 0.1 ~ \"BR2\",\n",
    "                                                     log2FoldChange <= -0.1 & padj <= 0.1 ~ \"BR1\",\n",
    "                                                     TRUE ~ \"Unchanged\"))"
   ]
  },
  {
   "cell_type": "code",
   "execution_count": 427,
   "id": "902ea03c-cac4-4059-b290-e64e13666734",
   "metadata": {
    "tags": []
   },
   "outputs": [],
   "source": [
    "DEG<-DEG %>% filter(Year=='Y1')\n",
    "#DEG"
   ]
  },
  {
   "cell_type": "code",
   "execution_count": 428,
   "id": "fd63c2a5-b83c-4aa0-ac65-98569f608828",
   "metadata": {
    "tags": []
   },
   "outputs": [
    {
     "name": "stderr",
     "output_type": "stream",
     "text": [
      "\u001b[1m\u001b[22m`summarise()` has grouped output by 'test_num'. You can override using the\n",
      "`.groups` argument.\n"
     ]
    }
   ],
   "source": [
    "freq <- DEG %>% mutate(Expression = case_when(log2FoldChange >=0.1 & padj <= 0.1 ~ \"BR2\",\n",
    "                                                     log2FoldChange <= -0.1 & padj <= 0.1 ~ \"BR1\",\n",
    "                                                     TRUE ~ \"Unchanged\")) %>% filter(!Expression=='Unchanged')%>%\n",
    "  dplyr::group_by(test_num, Expression) %>%\n",
    "   dplyr::summarise(count = n())"
   ]
  },
  {
   "cell_type": "code",
   "execution_count": 430,
   "id": "f3978f15-a3a3-40ef-8500-9dfa943e9eba",
   "metadata": {
    "tags": []
   },
   "outputs": [
    {
     "data": {
      "text/html": [
       "<table class=\"dataframe\">\n",
       "<caption>A grouped_df: 8 × 3</caption>\n",
       "<thead>\n",
       "\t<tr><th scope=col>test_num</th><th scope=col>Expression</th><th scope=col>count</th></tr>\n",
       "\t<tr><th scope=col>&lt;fct&gt;</th><th scope=col>&lt;chr&gt;</th><th scope=col>&lt;int&gt;</th></tr>\n",
       "</thead>\n",
       "<tbody>\n",
       "\t<tr><td>Female_downsample_CMV_samplesize_Test_1</td><td>BR1</td><td> 4</td></tr>\n",
       "\t<tr><td>Female_downsample_CMV_samplesize_Test_1</td><td>BR2</td><td>13</td></tr>\n",
       "\t<tr><td>Female_downsample_CMV_samplesize_Test_2</td><td>BR1</td><td> 1</td></tr>\n",
       "\t<tr><td>Female_downsample_CMV_samplesize_Test_2</td><td>BR2</td><td>13</td></tr>\n",
       "\t<tr><td>Female_downsample_CMV_samplesize_Test_3</td><td>BR1</td><td> 1</td></tr>\n",
       "\t<tr><td>Female_downsample_CMV_samplesize_Test_3</td><td>BR2</td><td>13</td></tr>\n",
       "\t<tr><td>Unchanged_sample_size_Female           </td><td>BR1</td><td> 3</td></tr>\n",
       "\t<tr><td>Unchanged_sample_size_Female           </td><td>BR2</td><td>19</td></tr>\n",
       "</tbody>\n",
       "</table>\n"
      ],
      "text/latex": [
       "A grouped\\_df: 8 × 3\n",
       "\\begin{tabular}{lll}\n",
       " test\\_num & Expression & count\\\\\n",
       " <fct> & <chr> & <int>\\\\\n",
       "\\hline\n",
       "\t Female\\_downsample\\_CMV\\_samplesize\\_Test\\_1 & BR1 &  4\\\\\n",
       "\t Female\\_downsample\\_CMV\\_samplesize\\_Test\\_1 & BR2 & 13\\\\\n",
       "\t Female\\_downsample\\_CMV\\_samplesize\\_Test\\_2 & BR1 &  1\\\\\n",
       "\t Female\\_downsample\\_CMV\\_samplesize\\_Test\\_2 & BR2 & 13\\\\\n",
       "\t Female\\_downsample\\_CMV\\_samplesize\\_Test\\_3 & BR1 &  1\\\\\n",
       "\t Female\\_downsample\\_CMV\\_samplesize\\_Test\\_3 & BR2 & 13\\\\\n",
       "\t Unchanged\\_sample\\_size\\_Female            & BR1 &  3\\\\\n",
       "\t Unchanged\\_sample\\_size\\_Female            & BR2 & 19\\\\\n",
       "\\end{tabular}\n"
      ],
      "text/markdown": [
       "\n",
       "A grouped_df: 8 × 3\n",
       "\n",
       "| test_num &lt;fct&gt; | Expression &lt;chr&gt; | count &lt;int&gt; |\n",
       "|---|---|---|\n",
       "| Female_downsample_CMV_samplesize_Test_1 | BR1 |  4 |\n",
       "| Female_downsample_CMV_samplesize_Test_1 | BR2 | 13 |\n",
       "| Female_downsample_CMV_samplesize_Test_2 | BR1 |  1 |\n",
       "| Female_downsample_CMV_samplesize_Test_2 | BR2 | 13 |\n",
       "| Female_downsample_CMV_samplesize_Test_3 | BR1 |  1 |\n",
       "| Female_downsample_CMV_samplesize_Test_3 | BR2 | 13 |\n",
       "| Unchanged_sample_size_Female            | BR1 |  3 |\n",
       "| Unchanged_sample_size_Female            | BR2 | 19 |\n",
       "\n"
      ],
      "text/plain": [
       "  test_num                                Expression count\n",
       "1 Female_downsample_CMV_samplesize_Test_1 BR1         4   \n",
       "2 Female_downsample_CMV_samplesize_Test_1 BR2        13   \n",
       "3 Female_downsample_CMV_samplesize_Test_2 BR1         1   \n",
       "4 Female_downsample_CMV_samplesize_Test_2 BR2        13   \n",
       "5 Female_downsample_CMV_samplesize_Test_3 BR1         1   \n",
       "6 Female_downsample_CMV_samplesize_Test_3 BR2        13   \n",
       "7 Unchanged_sample_size_Female            BR1         3   \n",
       "8 Unchanged_sample_size_Female            BR2        19   "
      ]
     },
     "metadata": {},
     "output_type": "display_data"
    }
   ],
   "source": [
    "#desired_order <- c(\"Male_Test_0\", \"Female_Test_0\", \"Female_Test_1\", \"Female_Test_2\", \"Female_Test_3\", \"Female_CMV_Test_1\", \"Female_CMV_Test_2\", \"Female_CMV_Test_3\")\n",
    "desired_order <- c(\"Unchanged_sample_size_Male\", \"Unchanged_sample_size_Female\", \"Female_downsample_CMV_samplesize_Test_1\", \"Female_downsample_CMV_samplesize_Test_2\", \"Female_downsample_CMV_samplesize_Test_3\")\n",
    "\n",
    "    # Convert the 'category' variable to a factor with the desired order\n",
    "freq$test_num <- factor(freq$test_num, levels = desired_order)\n",
    "\n",
    "\n",
    "freq"
   ]
  },
  {
   "cell_type": "code",
   "execution_count": 431,
   "id": "52a29c4d-9cc5-47dd-824e-7ce5f43c5574",
   "metadata": {
    "tags": []
   },
   "outputs": [],
   "source": [
    "# Add a new row for Male_Test_0 with count 0\n",
    "new_row <- data.frame(test_num = \"Unchanged_sample_size_Male\", Expression = \"Unchanged\", count = 0)\n",
    "\n",
    "# Combine df with the new row\n",
    "freq <- bind_rows(freq, new_row)\n",
    "freq"
   ]
  },
  {
   "cell_type": "code",
   "execution_count": 445,
   "id": "6be0998c-d607-45b2-86fa-a5d4a706ed5a",
   "metadata": {
    "tags": []
   },
   "outputs": [
    {
     "data": {
      "image/png": "[encoded data removed]",
      "text/plain": [
       "plot without title"
      ]
     },
     "metadata": {
      "image/png": {
       "height": 600,
       "width": 600
      }
     },
     "output_type": "display_data"
    }
   ],
   "source": [
    "# Custom pastel colors\n",
    "#Define the desired order for the x-axis\n",
    "desired_order <- c(\"Unchanged_sample_size_Male\", \"Unchanged_sample_size_Female\", \"Female_downsample_CMV_samplesize_Test_1\", \"Female_downsample_CMV_samplesize_Test_2\", \"Female_downsample_CMV_samplesize_Test_3\")\n",
    "\n",
    "# Convert the 'category' variable to a factor with the desired order\n",
    "freq$test_num <- factor(freq$test_num, levels = desired_order)\n",
    "\n",
    "\n",
    "pastel_colors <- c(\"#8BADD3\", \"#FB9E25\", \"red\" )  # Example pastel colors\n",
    "\n",
    "options(repr.plot.width = 10, repr.plot.height = 10)\n",
    "ggplot(freq, aes(x = test_num, y = count, fill = Expression)) +\n",
    "  geom_bar(stat = \"identity\", width = 0.7) +\n",
    "  scale_fill_manual(values = pastel_colors) +  # Set pastel colors\n",
    "  labs(title = \"QC check for same sample size in F vs M\", x = \"\\n Tests\", y = \"DEG count\") +\n",
    "  theme_minimal() +\n",
    "  theme(\n",
    "    text = element_text(size = 16, color = \"black\"),  # Enlarge text\n",
    "    axis.text.x = element_text(angle = 90, hjust = 1),  # Rotate x-axis labels\n",
    "    axis.title = element_text(size = 16),  # Enlarge axis titles\n",
    "    legend.title = element_blank(),  # Remove legend title\n",
    "    legend.text = element_text(size = 16)  # Enlarge legend text\n",
    "  )"
   ]
  },
  {
   "cell_type": "markdown",
   "id": "d3717edd-9965-4529-bcb3-87fb7c5781a9",
   "metadata": {
    "tags": []
   },
   "source": [
    "## file_list - Core Cd14 mono"
   ]
  },
  {
   "cell_type": "code",
   "execution_count": 371,
   "id": "b0302bac-4cba-4ac6-b57b-10777aacb2db",
   "metadata": {
    "tags": []
   },
   "outputs": [],
   "source": [
    "# file_list<-list.files(path = paste0(\"/home/jupyter/IH-A-Aging-Analysis-Notebooks_old/Mansi_Notebooks/scRNA/DEG_Analysis/MS_Sex_DEG_analysis/DEG_cohort_splitby_sex_CSVfiles/Age_yr1_Day0_Female_Test_3\"), pattern = \".csv\", all.files = FALSE,\n",
    "#            full.names = TRUE, recursive = FALSE,\n",
    "#            ignore.case = FALSE, include.dirs = TRUE, no.. = FALSE)"
   ]
  },
  {
   "cell_type": "code",
   "execution_count": 372,
   "id": "b2f7b753-116d-4ef6-8545-0d8d04ae4d93",
   "metadata": {
    "tags": []
   },
   "outputs": [],
   "source": [
    "# DEG_list<-mclapply(file_list,read.csv,mc.cores=length(file_list))\n",
    "# DEG<-do.call(rbind,DEG_list)"
   ]
  },
  {
   "cell_type": "code",
   "execution_count": 462,
   "id": "665612d2-23ec-49c6-9425-039845ef7c78",
   "metadata": {
    "tags": []
   },
   "outputs": [],
   "source": [
    "DEG_male <- read.csv(\"/home/jupyter/IH-A-Aging-Analysis-Notebooks_old/Mansi_Notebooks/scRNA/DEG_Analysis/MS_Sex_DEG_analysis/DEG_cohort_splitby_sex_CSVfiles/Age_yr1_Day0_Male/Core CD14 monocyte_Y1D0.csv\")\n",
    "DEG_male$test_num <- \"Unchanged_sample_size_Male\"\n",
    "#DEG_male"
   ]
  },
  {
   "cell_type": "code",
   "execution_count": 480,
   "id": "854d17da-0d0f-479d-be4f-35d17bf1757e",
   "metadata": {
    "tags": []
   },
   "outputs": [],
   "source": [
    "DEG_female <-read.csv(\"/home/jupyter/IH-A-Aging-Analysis-Notebooks_old/Mansi_Notebooks/scRNA/DEG_Analysis/MS_Sex_DEG_analysis/DEG_cohort_splitby_sex_CSVfiles/Age_yr1_Day0_Female/Core CD14 monocyte_Y1D0.csv\")\n",
    "DEG_female$test_num <- \"Unchanged_sample_size_Female\""
   ]
  },
  {
   "cell_type": "code",
   "execution_count": 481,
   "id": "37eb0c46-e83d-407f-a590-468d4526cf0a",
   "metadata": {
    "tags": []
   },
   "outputs": [],
   "source": [
    "# DEG1 <- read.csv(\"/home/jupyter/IH-A-Aging-Analysis-Notebooks_old/Mansi_Notebooks/scRNA/DEG_Analysis/MS_Sex_DEG_analysis/DEG_cohort_splitby_sex_CSVfiles/Age_yr1_Day0_Female_Test_1/Core CD14 monocyte_Y1D0.csv\")\n",
    "# DEG1$test_num <- \"Female_Test_1\""
   ]
  },
  {
   "cell_type": "code",
   "execution_count": 482,
   "id": "1810adf5-08b4-495c-8420-9fc12596a910",
   "metadata": {
    "tags": []
   },
   "outputs": [],
   "source": [
    "# DEG2 <- read.csv(\"/home/jupyter/IH-A-Aging-Analysis-Notebooks_old/Mansi_Notebooks/scRNA/DEG_Analysis/MS_Sex_DEG_analysis/DEG_cohort_splitby_sex_CSVfiles/Age_yr1_Day0_Female_Test_2/Core CD14 monocyte_Y1D0.csv\")\n",
    "# DEG2$test_num <- \"Female_Test_2\""
   ]
  },
  {
   "cell_type": "code",
   "execution_count": 483,
   "id": "4e7445ed-fb21-4855-adda-ad1b94ee4b76",
   "metadata": {
    "tags": []
   },
   "outputs": [],
   "source": [
    "# DEG3 <- read.csv(\"/home/jupyter/IH-A-Aging-Analysis-Notebooks_old/Mansi_Notebooks/scRNA/DEG_Analysis/MS_Sex_DEG_analysis/DEG_cohort_splitby_sex_CSVfiles/Age_yr1_Day0_Female_Test_3/Core CD14 monocyte_Y1D0.csv\")\n",
    "# DEG3$test_num <- \"Female_Test_3\""
   ]
  },
  {
   "cell_type": "code",
   "execution_count": 484,
   "id": "ca3fbea1-fe38-49af-bd67-a916c6a0e32e",
   "metadata": {
    "tags": []
   },
   "outputs": [],
   "source": [
    "DEG_CMV_1 <- read.csv(\"/home/jupyter/IH-A-Aging-Analysis-Notebooks_old/Mansi_Notebooks/scRNA/DEG_Analysis/MS_Sex_DEG_analysis/DEG_cohort_splitby_sex_CSVfiles/Age_yr1_Day0_Female_CMV_Test_1/Core CD14 monocyte_Y1D0.csv\")                                  \n",
    "DEG_CMV_1$test_num <- \"Female_downsample_CMV_samplesize_Test_1\""
   ]
  },
  {
   "cell_type": "code",
   "execution_count": 485,
   "id": "af5f8ae8-9ee7-41f5-841d-48d7437083b9",
   "metadata": {
    "tags": []
   },
   "outputs": [],
   "source": [
    "DEG_CMV_2 <- read.csv(\"/home/jupyter/IH-A-Aging-Analysis-Notebooks_old/Mansi_Notebooks/scRNA/DEG_Analysis/MS_Sex_DEG_analysis/DEG_cohort_splitby_sex_CSVfiles/Age_yr1_Day0_Female_CMV_Test_2/Core CD14 monocyte_Y1D0.csv\")                                  \n",
    "DEG_CMV_2$test_num <- \"Female_downsample_CMV_samplesize_Test_2\""
   ]
  },
  {
   "cell_type": "code",
   "execution_count": 486,
   "id": "7e8cb705-12d1-4053-9bc7-01952b67cfab",
   "metadata": {
    "tags": []
   },
   "outputs": [],
   "source": [
    "DEG_CMV_3 <- read.csv(\"/home/jupyter/IH-A-Aging-Analysis-Notebooks_old/Mansi_Notebooks/scRNA/DEG_Analysis/MS_Sex_DEG_analysis/DEG_cohort_splitby_sex_CSVfiles/Age_yr1_Day0_Female_CMV_Test_2/Core CD14 monocyte_Y1D0.csv\")                                  \n",
    "DEG_CMV_3$test_num <- \"Female_downsample_CMV_samplesize_Test_3\""
   ]
  },
  {
   "cell_type": "code",
   "execution_count": 487,
   "id": "5f540dbe-58bc-4472-a56e-b395562141eb",
   "metadata": {
    "tags": []
   },
   "outputs": [],
   "source": [
    "# Create a list of data frames\n",
    "DEG_list <- list(DEG_male, DEG_female, DEG_CMV_1, DEG_CMV_2, DEG_CMV_3 )\n",
    "\n",
    "# Combine the data frames using do.call and rbind\n",
    "DEG <- do.call(rbind, DEG_list)\n"
   ]
  },
  {
   "cell_type": "code",
   "execution_count": 488,
   "id": "8ce91007-4568-451f-b2f7-d29f2125a4e4",
   "metadata": {
    "tags": []
   },
   "outputs": [
    {
     "data": {
      "text/html": [
       "<style>\n",
       ".list-inline {list-style: none; margin:0; padding: 0}\n",
       ".list-inline>li {display: inline-block}\n",
       ".list-inline>li:not(:last-child)::after {content: \"\\00b7\"; padding: 0 .5ex}\n",
       "</style>\n",
       "<ol class=list-inline><li>'Unchanged_sample_size_Male'</li><li>'Unchanged_sample_size_Female'</li><li>'Female_downsample_CMV_samplesize_Test_1'</li><li>'Female_downsample_CMV_samplesize_Test_2'</li><li>'Female_downsample_CMV_samplesize_Test_3'</li></ol>\n"
      ],
      "text/latex": [
       "\\begin{enumerate*}\n",
       "\\item 'Unchanged\\_sample\\_size\\_Male'\n",
       "\\item 'Unchanged\\_sample\\_size\\_Female'\n",
       "\\item 'Female\\_downsample\\_CMV\\_samplesize\\_Test\\_1'\n",
       "\\item 'Female\\_downsample\\_CMV\\_samplesize\\_Test\\_2'\n",
       "\\item 'Female\\_downsample\\_CMV\\_samplesize\\_Test\\_3'\n",
       "\\end{enumerate*}\n"
      ],
      "text/markdown": [
       "1. 'Unchanged_sample_size_Male'\n",
       "2. 'Unchanged_sample_size_Female'\n",
       "3. 'Female_downsample_CMV_samplesize_Test_1'\n",
       "4. 'Female_downsample_CMV_samplesize_Test_2'\n",
       "5. 'Female_downsample_CMV_samplesize_Test_3'\n",
       "\n",
       "\n"
      ],
      "text/plain": [
       "[1] \"Unchanged_sample_size_Male\"             \n",
       "[2] \"Unchanged_sample_size_Female\"           \n",
       "[3] \"Female_downsample_CMV_samplesize_Test_1\"\n",
       "[4] \"Female_downsample_CMV_samplesize_Test_2\"\n",
       "[5] \"Female_downsample_CMV_samplesize_Test_3\""
      ]
     },
     "metadata": {},
     "output_type": "display_data"
    },
    {
     "data": {
      "text/html": [
       "'Core CD14 monocyte'"
      ],
      "text/latex": [
       "'Core CD14 monocyte'"
      ],
      "text/markdown": [
       "'Core CD14 monocyte'"
      ],
      "text/plain": [
       "[1] \"Core CD14 monocyte\""
      ]
     },
     "metadata": {},
     "output_type": "display_data"
    }
   ],
   "source": [
    "DEG$test_num %>% unique()\n",
    "DEG$celltype %>% unique()"
   ]
  },
  {
   "cell_type": "code",
   "execution_count": 489,
   "id": "b49b9b31-c0ca-4854-ae67-d354971747e3",
   "metadata": {
    "tags": []
   },
   "outputs": [
    {
     "data": {
      "text/html": [
       "<style>\n",
       ".list-inline {list-style: none; margin:0; padding: 0}\n",
       ".list-inline>li {display: inline-block}\n",
       ".list-inline>li:not(:last-child)::after {content: \"\\00b7\"; padding: 0 .5ex}\n",
       "</style>\n",
       "<ol class=list-inline><li>'BR2'</li><li>'BR1'</li></ol>\n"
      ],
      "text/latex": [
       "\\begin{enumerate*}\n",
       "\\item 'BR2'\n",
       "\\item 'BR1'\n",
       "\\end{enumerate*}\n"
      ],
      "text/markdown": [
       "1. 'BR2'\n",
       "2. 'BR1'\n",
       "\n",
       "\n"
      ],
      "text/plain": [
       "[1] \"BR2\" \"BR1\""
      ]
     },
     "metadata": {},
     "output_type": "display_data"
    }
   ],
   "source": [
    "unique(DEG$Direction)"
   ]
  },
  {
   "cell_type": "code",
   "execution_count": 490,
   "id": "ef988296-bfeb-4cc7-9f92-1bbc8debc529",
   "metadata": {
    "tags": []
   },
   "outputs": [],
   "source": [
    "DEG<- DEG%>% mutate(Expression = case_when(log2FoldChange >=0.1 & padj <= 0.1 ~ \"BR2\",\n",
    "                                                     log2FoldChange <= -0.1 & padj <= 0.1 ~ \"BR1\",\n",
    "                                                     TRUE ~ \"Unchanged\"))"
   ]
  },
  {
   "cell_type": "code",
   "execution_count": 491,
   "id": "29d64f48-640f-4520-a424-51ca0abfd12f",
   "metadata": {
    "tags": []
   },
   "outputs": [],
   "source": [
    "DEG<-DEG %>% filter(Year=='Y1')\n",
    "#DEG"
   ]
  },
  {
   "cell_type": "code",
   "execution_count": 497,
   "id": "5bf85e90-6ad1-4069-b16b-a14af8d14244",
   "metadata": {
    "tags": []
   },
   "outputs": [
    {
     "name": "stderr",
     "output_type": "stream",
     "text": [
      "\u001b[1m\u001b[22m`summarise()` has grouped output by 'test_num'. You can override using the\n",
      "`.groups` argument.\n"
     ]
    },
    {
     "data": {
      "text/html": [
       "<table class=\"dataframe\">\n",
       "<caption>A grouped_df: 10 × 3</caption>\n",
       "<thead>\n",
       "\t<tr><th scope=col>test_num</th><th scope=col>Expression</th><th scope=col>count</th></tr>\n",
       "\t<tr><th scope=col>&lt;chr&gt;</th><th scope=col>&lt;chr&gt;</th><th scope=col>&lt;int&gt;</th></tr>\n",
       "</thead>\n",
       "<tbody>\n",
       "\t<tr><td>Female_downsample_CMV_samplesize_Test_1</td><td>BR1</td><td>31</td></tr>\n",
       "\t<tr><td>Female_downsample_CMV_samplesize_Test_1</td><td>BR2</td><td>46</td></tr>\n",
       "\t<tr><td>Female_downsample_CMV_samplesize_Test_2</td><td>BR1</td><td>14</td></tr>\n",
       "\t<tr><td>Female_downsample_CMV_samplesize_Test_2</td><td>BR2</td><td>35</td></tr>\n",
       "\t<tr><td>Female_downsample_CMV_samplesize_Test_3</td><td>BR1</td><td>14</td></tr>\n",
       "\t<tr><td>Female_downsample_CMV_samplesize_Test_3</td><td>BR2</td><td>35</td></tr>\n",
       "\t<tr><td>Unchanged_sample_size_Female           </td><td>BR1</td><td>38</td></tr>\n",
       "\t<tr><td>Unchanged_sample_size_Female           </td><td>BR2</td><td>52</td></tr>\n",
       "\t<tr><td>Unchanged_sample_size_Male             </td><td>BR1</td><td> 4</td></tr>\n",
       "\t<tr><td>Unchanged_sample_size_Male             </td><td>BR2</td><td> 5</td></tr>\n",
       "</tbody>\n",
       "</table>\n"
      ],
      "text/latex": [
       "A grouped\\_df: 10 × 3\n",
       "\\begin{tabular}{lll}\n",
       " test\\_num & Expression & count\\\\\n",
       " <chr> & <chr> & <int>\\\\\n",
       "\\hline\n",
       "\t Female\\_downsample\\_CMV\\_samplesize\\_Test\\_1 & BR1 & 31\\\\\n",
       "\t Female\\_downsample\\_CMV\\_samplesize\\_Test\\_1 & BR2 & 46\\\\\n",
       "\t Female\\_downsample\\_CMV\\_samplesize\\_Test\\_2 & BR1 & 14\\\\\n",
       "\t Female\\_downsample\\_CMV\\_samplesize\\_Test\\_2 & BR2 & 35\\\\\n",
       "\t Female\\_downsample\\_CMV\\_samplesize\\_Test\\_3 & BR1 & 14\\\\\n",
       "\t Female\\_downsample\\_CMV\\_samplesize\\_Test\\_3 & BR2 & 35\\\\\n",
       "\t Unchanged\\_sample\\_size\\_Female            & BR1 & 38\\\\\n",
       "\t Unchanged\\_sample\\_size\\_Female            & BR2 & 52\\\\\n",
       "\t Unchanged\\_sample\\_size\\_Male              & BR1 &  4\\\\\n",
       "\t Unchanged\\_sample\\_size\\_Male              & BR2 &  5\\\\\n",
       "\\end{tabular}\n"
      ],
      "text/markdown": [
       "\n",
       "A grouped_df: 10 × 3\n",
       "\n",
       "| test_num &lt;chr&gt; | Expression &lt;chr&gt; | count &lt;int&gt; |\n",
       "|---|---|---|\n",
       "| Female_downsample_CMV_samplesize_Test_1 | BR1 | 31 |\n",
       "| Female_downsample_CMV_samplesize_Test_1 | BR2 | 46 |\n",
       "| Female_downsample_CMV_samplesize_Test_2 | BR1 | 14 |\n",
       "| Female_downsample_CMV_samplesize_Test_2 | BR2 | 35 |\n",
       "| Female_downsample_CMV_samplesize_Test_3 | BR1 | 14 |\n",
       "| Female_downsample_CMV_samplesize_Test_3 | BR2 | 35 |\n",
       "| Unchanged_sample_size_Female            | BR1 | 38 |\n",
       "| Unchanged_sample_size_Female            | BR2 | 52 |\n",
       "| Unchanged_sample_size_Male              | BR1 |  4 |\n",
       "| Unchanged_sample_size_Male              | BR2 |  5 |\n",
       "\n"
      ],
      "text/plain": [
       "   test_num                                Expression count\n",
       "1  Female_downsample_CMV_samplesize_Test_1 BR1        31   \n",
       "2  Female_downsample_CMV_samplesize_Test_1 BR2        46   \n",
       "3  Female_downsample_CMV_samplesize_Test_2 BR1        14   \n",
       "4  Female_downsample_CMV_samplesize_Test_2 BR2        35   \n",
       "5  Female_downsample_CMV_samplesize_Test_3 BR1        14   \n",
       "6  Female_downsample_CMV_samplesize_Test_3 BR2        35   \n",
       "7  Unchanged_sample_size_Female            BR1        38   \n",
       "8  Unchanged_sample_size_Female            BR2        52   \n",
       "9  Unchanged_sample_size_Male              BR1         4   \n",
       "10 Unchanged_sample_size_Male              BR2         5   "
      ]
     },
     "metadata": {},
     "output_type": "display_data"
    }
   ],
   "source": [
    "freq <- DEG %>% mutate(Expression = case_when(log2FoldChange >=0.1 & padj <= 0.1 ~ \"BR2\",\n",
    "                                                     log2FoldChange <= -0.1 & padj <= 0.1 ~ \"BR1\",\n",
    "                                                     TRUE ~ \"Unchanged\")) %>% filter(!Expression=='Unchanged')%>%\n",
    "  dplyr::group_by(test_num, Expression) %>%\n",
    "   dplyr::summarise(count = n())\n",
    "\n",
    "freq"
   ]
  },
  {
   "cell_type": "code",
   "execution_count": 498,
   "id": "4b5204f3-0fce-4e0d-b33b-a949931555e2",
   "metadata": {
    "tags": []
   },
   "outputs": [
    {
     "data": {
      "text/html": [
       "<table class=\"dataframe\">\n",
       "<caption>A grouped_df: 10 × 3</caption>\n",
       "<thead>\n",
       "\t<tr><th scope=col>test_num</th><th scope=col>Expression</th><th scope=col>count</th></tr>\n",
       "\t<tr><th scope=col>&lt;fct&gt;</th><th scope=col>&lt;chr&gt;</th><th scope=col>&lt;int&gt;</th></tr>\n",
       "</thead>\n",
       "<tbody>\n",
       "\t<tr><td>Female_downsample_CMV_samplesize_Test_1</td><td>BR1</td><td>31</td></tr>\n",
       "\t<tr><td>Female_downsample_CMV_samplesize_Test_1</td><td>BR2</td><td>46</td></tr>\n",
       "\t<tr><td>Female_downsample_CMV_samplesize_Test_2</td><td>BR1</td><td>14</td></tr>\n",
       "\t<tr><td>Female_downsample_CMV_samplesize_Test_2</td><td>BR2</td><td>35</td></tr>\n",
       "\t<tr><td>Female_downsample_CMV_samplesize_Test_3</td><td>BR1</td><td>14</td></tr>\n",
       "\t<tr><td>Female_downsample_CMV_samplesize_Test_3</td><td>BR2</td><td>35</td></tr>\n",
       "\t<tr><td>Unchanged_sample_size_Female           </td><td>BR1</td><td>38</td></tr>\n",
       "\t<tr><td>Unchanged_sample_size_Female           </td><td>BR2</td><td>52</td></tr>\n",
       "\t<tr><td>Unchanged_sample_size_Male             </td><td>BR1</td><td> 4</td></tr>\n",
       "\t<tr><td>Unchanged_sample_size_Male             </td><td>BR2</td><td> 5</td></tr>\n",
       "</tbody>\n",
       "</table>\n"
      ],
      "text/latex": [
       "A grouped\\_df: 10 × 3\n",
       "\\begin{tabular}{lll}\n",
       " test\\_num & Expression & count\\\\\n",
       " <fct> & <chr> & <int>\\\\\n",
       "\\hline\n",
       "\t Female\\_downsample\\_CMV\\_samplesize\\_Test\\_1 & BR1 & 31\\\\\n",
       "\t Female\\_downsample\\_CMV\\_samplesize\\_Test\\_1 & BR2 & 46\\\\\n",
       "\t Female\\_downsample\\_CMV\\_samplesize\\_Test\\_2 & BR1 & 14\\\\\n",
       "\t Female\\_downsample\\_CMV\\_samplesize\\_Test\\_2 & BR2 & 35\\\\\n",
       "\t Female\\_downsample\\_CMV\\_samplesize\\_Test\\_3 & BR1 & 14\\\\\n",
       "\t Female\\_downsample\\_CMV\\_samplesize\\_Test\\_3 & BR2 & 35\\\\\n",
       "\t Unchanged\\_sample\\_size\\_Female            & BR1 & 38\\\\\n",
       "\t Unchanged\\_sample\\_size\\_Female            & BR2 & 52\\\\\n",
       "\t Unchanged\\_sample\\_size\\_Male              & BR1 &  4\\\\\n",
       "\t Unchanged\\_sample\\_size\\_Male              & BR2 &  5\\\\\n",
       "\\end{tabular}\n"
      ],
      "text/markdown": [
       "\n",
       "A grouped_df: 10 × 3\n",
       "\n",
       "| test_num &lt;fct&gt; | Expression &lt;chr&gt; | count &lt;int&gt; |\n",
       "|---|---|---|\n",
       "| Female_downsample_CMV_samplesize_Test_1 | BR1 | 31 |\n",
       "| Female_downsample_CMV_samplesize_Test_1 | BR2 | 46 |\n",
       "| Female_downsample_CMV_samplesize_Test_2 | BR1 | 14 |\n",
       "| Female_downsample_CMV_samplesize_Test_2 | BR2 | 35 |\n",
       "| Female_downsample_CMV_samplesize_Test_3 | BR1 | 14 |\n",
       "| Female_downsample_CMV_samplesize_Test_3 | BR2 | 35 |\n",
       "| Unchanged_sample_size_Female            | BR1 | 38 |\n",
       "| Unchanged_sample_size_Female            | BR2 | 52 |\n",
       "| Unchanged_sample_size_Male              | BR1 |  4 |\n",
       "| Unchanged_sample_size_Male              | BR2 |  5 |\n",
       "\n"
      ],
      "text/plain": [
       "   test_num                                Expression count\n",
       "1  Female_downsample_CMV_samplesize_Test_1 BR1        31   \n",
       "2  Female_downsample_CMV_samplesize_Test_1 BR2        46   \n",
       "3  Female_downsample_CMV_samplesize_Test_2 BR1        14   \n",
       "4  Female_downsample_CMV_samplesize_Test_2 BR2        35   \n",
       "5  Female_downsample_CMV_samplesize_Test_3 BR1        14   \n",
       "6  Female_downsample_CMV_samplesize_Test_3 BR2        35   \n",
       "7  Unchanged_sample_size_Female            BR1        38   \n",
       "8  Unchanged_sample_size_Female            BR2        52   \n",
       "9  Unchanged_sample_size_Male              BR1         4   \n",
       "10 Unchanged_sample_size_Male              BR2         5   "
      ]
     },
     "metadata": {},
     "output_type": "display_data"
    }
   ],
   "source": [
    "#desired_order <- c(\"Male_Test_0\", \"Female_Test_0\", \"Female_Test_1\", \"Female_Test_2\", \"Female_Test_3\", \"Female_CMV_Test_1\", \"Female_CMV_Test_2\", \"Female_CMV_Test_3\")\n",
    "desired_order <- c(\"Unchanged_sample_size_Male\", \"Unchanged_sample_size_Female\", \"Female_downsample_CMV_samplesize_Test_1\", \"Female_downsample_CMV_samplesize_Test_2\", \"Female_downsample_CMV_samplesize_Test_3\")\n",
    "\n",
    "    # Convert the 'category' variable to a factor with the desired order\n",
    "freq$test_num <- factor(freq$test_num, levels = desired_order)\n",
    "\n",
    "\n",
    "freq"
   ]
  },
  {
   "cell_type": "code",
   "execution_count": 499,
   "id": "72fcb822-c063-40ca-ad9d-84f4bb372df7",
   "metadata": {
    "tags": []
   },
   "outputs": [],
   "source": [
    "# # Add a new row for Male_Test_0 with count 0\n",
    "# new_row <- data.frame(test_num = \"Unchanged_sample_size_Male\", Expression = \"Unchanged\", count = 0)\n",
    "\n",
    "# # Combine df with the new row\n",
    "# freq <- bind_rows(freq, new_row)\n",
    "# freq"
   ]
  },
  {
   "cell_type": "code",
   "execution_count": 500,
   "id": "11e8e17f-3719-423e-9dad-4cc62dc57e5c",
   "metadata": {
    "tags": []
   },
   "outputs": [
    {
     "data": {
      "image/png": "[encoded data removed]",
      "text/plain": [
       "plot without title"
      ]
     },
     "metadata": {
      "image/png": {
       "height": 600,
       "width": 600
      }
     },
     "output_type": "display_data"
    }
   ],
   "source": [
    "# Custom pastel colors\n",
    "#Define the desired order for the x-axis\n",
    "desired_order <- c(\"Unchanged_sample_size_Male\", \"Unchanged_sample_size_Female\", \"Female_downsample_CMV_samplesize_Test_1\", \"Female_downsample_CMV_samplesize_Test_2\", \"Female_downsample_CMV_samplesize_Test_3\")\n",
    "\n",
    "# Convert the 'category' variable to a factor with the desired order\n",
    "freq$test_num <- factor(freq$test_num, levels = desired_order)\n",
    "\n",
    "\n",
    "pastel_colors <- c(\"#8BADD3\", \"#FB9E25\", \"red\" )  # Example pastel colors\n",
    "\n",
    "options(repr.plot.width = 10, repr.plot.height = 10)\n",
    "ggplot(freq, aes(x = test_num, y = count, fill = Expression)) +\n",
    "  geom_bar(stat = \"identity\", width = 0.7) +\n",
    "  scale_fill_manual(values = pastel_colors) +  # Set pastel colors\n",
    "  labs(title = \"QC check for same sample size in F vs M\", x = \"\\n Tests\", y = \"DEG count\") +\n",
    "  theme_minimal() +\n",
    "  theme(\n",
    "    text = element_text(size = 16, color = \"black\"),  # Enlarge text\n",
    "    axis.text.x = element_text(angle = 90, hjust = 1),  # Rotate x-axis labels\n",
    "    axis.title = element_text(size = 16),  # Enlarge axis titles\n",
    "    legend.title = element_blank(),  # Remove legend title\n",
    "    legend.text = element_text(size = 16)  # Enlarge legend text\n",
    "  )"
   ]
  },
  {
   "cell_type": "markdown",
   "id": "c8b789ba-23d1-4983-81a2-8aa96540453d",
   "metadata": {
    "tags": []
   },
   "source": [
    "## file_list - ISG+ Cd14 mono"
   ]
  },
  {
   "cell_type": "code",
   "execution_count": 371,
   "id": "78305d04-e6be-4161-aacb-7973081feb72",
   "metadata": {
    "tags": []
   },
   "outputs": [],
   "source": [
    "# file_list<-list.files(path = paste0(\"/home/jupyter/IH-A-Aging-Analysis-Notebooks_old/Mansi_Notebooks/scRNA/DEG_Analysis/MS_Sex_DEG_analysis/DEG_cohort_splitby_sex_CSVfiles/Age_yr1_Day0_Female_Test_3\"), pattern = \".csv\", all.files = FALSE,\n",
    "#            full.names = TRUE, recursive = FALSE,\n",
    "#            ignore.case = FALSE, include.dirs = TRUE, no.. = FALSE)"
   ]
  },
  {
   "cell_type": "code",
   "execution_count": 372,
   "id": "25b78192-331e-48f6-a35a-a555dffe9ecc",
   "metadata": {
    "tags": []
   },
   "outputs": [],
   "source": [
    "# DEG_list<-mclapply(file_list,read.csv,mc.cores=length(file_list))\n",
    "# DEG<-do.call(rbind,DEG_list)"
   ]
  },
  {
   "cell_type": "code",
   "execution_count": 501,
   "id": "84724489-89e1-4787-a78a-4bc98fbf5dfb",
   "metadata": {
    "tags": []
   },
   "outputs": [],
   "source": [
    "DEG_male <- read.csv(\"/home/jupyter/IH-A-Aging-Analysis-Notebooks_old/Mansi_Notebooks/scRNA/DEG_Analysis/MS_Sex_DEG_analysis/DEG_cohort_splitby_sex_CSVfiles/Age_yr1_Day0_Male/ISG+ CD14 monocyte_Y1D0.csv\")\n",
    "DEG_male$test_num <- \"Unchanged_sample_size_Male\"\n",
    "#DEG_male"
   ]
  },
  {
   "cell_type": "code",
   "execution_count": 502,
   "id": "e198d7fd-6349-4dba-a2c6-2be0f0a4d27f",
   "metadata": {
    "tags": []
   },
   "outputs": [],
   "source": [
    "DEG_female <-read.csv(\"/home/jupyter/IH-A-Aging-Analysis-Notebooks_old/Mansi_Notebooks/scRNA/DEG_Analysis/MS_Sex_DEG_analysis/DEG_cohort_splitby_sex_CSVfiles/Age_yr1_Day0_Female/ISG+ CD14 monocyte_Y1D0.csv\")\n",
    "DEG_female$test_num <- \"Unchanged_sample_size_Female\""
   ]
  },
  {
   "cell_type": "code",
   "execution_count": 503,
   "id": "aa9abc46-161d-44ac-a1d6-2b6d23dcdf53",
   "metadata": {
    "tags": []
   },
   "outputs": [],
   "source": [
    "# DEG1 <- read.csv(\"/home/jupyter/IH-A-Aging-Analysis-Notebooks_old/Mansi_Notebooks/scRNA/DEG_Analysis/MS_Sex_DEG_analysis/DEG_cohort_splitby_sex_CSVfiles/Age_yr1_Day0_Female_Test_1/ISG+ CD14 monocyte_Y1D0.csv\")\n",
    "# DEG1$test_num <- \"Female_Test_1\""
   ]
  },
  {
   "cell_type": "code",
   "execution_count": 504,
   "id": "736d39a6-fbc0-46b3-8363-219102132c6a",
   "metadata": {
    "tags": []
   },
   "outputs": [],
   "source": [
    "# DEG2 <- read.csv(\"/home/jupyter/IH-A-Aging-Analysis-Notebooks_old/Mansi_Notebooks/scRNA/DEG_Analysis/MS_Sex_DEG_analysis/DEG_cohort_splitby_sex_CSVfiles/Age_yr1_Day0_Female_Test_2/ISG+ CD14 monocyte_Y1D0.csv\")\n",
    "# DEG2$test_num <- \"Female_Test_2\""
   ]
  },
  {
   "cell_type": "code",
   "execution_count": 505,
   "id": "3249a7c0-5484-4a9f-b286-4800375b1910",
   "metadata": {
    "tags": []
   },
   "outputs": [],
   "source": [
    "# DEG3 <- read.csv(\"/home/jupyter/IH-A-Aging-Analysis-Notebooks_old/Mansi_Notebooks/scRNA/DEG_Analysis/MS_Sex_DEG_analysis/DEG_cohort_splitby_sex_CSVfiles/Age_yr1_Day0_Female_Test_3/ISG+ CD14 monocyte_Y1D0.csv\")\n",
    "# DEG3$test_num <- \"Female_Test_3\""
   ]
  },
  {
   "cell_type": "code",
   "execution_count": 506,
   "id": "a537aefd-5618-4f97-9976-fcc7b1bb5f9e",
   "metadata": {
    "tags": []
   },
   "outputs": [],
   "source": [
    "DEG_CMV_1 <- read.csv(\"/home/jupyter/IH-A-Aging-Analysis-Notebooks_old/Mansi_Notebooks/scRNA/DEG_Analysis/MS_Sex_DEG_analysis/DEG_cohort_splitby_sex_CSVfiles/Age_yr1_Day0_Female_CMV_Test_1/ISG+ CD14 monocyte_Y1D0.csv\")                                  \n",
    "DEG_CMV_1$test_num <- \"Female_downsample_CMV_samplesize_Test_1\""
   ]
  },
  {
   "cell_type": "code",
   "execution_count": 507,
   "id": "af7cd586-0190-49d3-9f5d-a350e7bb9d27",
   "metadata": {
    "tags": []
   },
   "outputs": [],
   "source": [
    "DEG_CMV_2 <- read.csv(\"/home/jupyter/IH-A-Aging-Analysis-Notebooks_old/Mansi_Notebooks/scRNA/DEG_Analysis/MS_Sex_DEG_analysis/DEG_cohort_splitby_sex_CSVfiles/Age_yr1_Day0_Female_CMV_Test_2/ISG+ CD14 monocyte_Y1D0.csv\")                                  \n",
    "DEG_CMV_2$test_num <- \"Female_downsample_CMV_samplesize_Test_2\""
   ]
  },
  {
   "cell_type": "code",
   "execution_count": 508,
   "id": "23e678c8-d3b3-440f-b9d9-fe9926ee13cb",
   "metadata": {
    "tags": []
   },
   "outputs": [],
   "source": [
    "DEG_CMV_3 <- read.csv(\"/home/jupyter/IH-A-Aging-Analysis-Notebooks_old/Mansi_Notebooks/scRNA/DEG_Analysis/MS_Sex_DEG_analysis/DEG_cohort_splitby_sex_CSVfiles/Age_yr1_Day0_Female_CMV_Test_2/ISG+ CD14 monocyte_Y1D0.csv\")                                  \n",
    "DEG_CMV_3$test_num <- \"Female_downsample_CMV_samplesize_Test_3\""
   ]
  },
  {
   "cell_type": "code",
   "execution_count": 509,
   "id": "263dcc44-6865-4635-be00-41d7549abc28",
   "metadata": {
    "tags": []
   },
   "outputs": [],
   "source": [
    "# Create a list of data frames\n",
    "DEG_list <- list(DEG_male, DEG_female, DEG_CMV_1, DEG_CMV_2, DEG_CMV_3 )\n",
    "\n",
    "# Combine the data frames using do.call and rbind\n",
    "DEG <- do.call(rbind, DEG_list)\n"
   ]
  },
  {
   "cell_type": "code",
   "execution_count": 510,
   "id": "9c9c7de1-231c-4a72-a2af-567924c57973",
   "metadata": {
    "tags": []
   },
   "outputs": [
    {
     "data": {
      "text/html": [
       "<style>\n",
       ".list-inline {list-style: none; margin:0; padding: 0}\n",
       ".list-inline>li {display: inline-block}\n",
       ".list-inline>li:not(:last-child)::after {content: \"\\00b7\"; padding: 0 .5ex}\n",
       "</style>\n",
       "<ol class=list-inline><li>'Unchanged_sample_size_Male'</li><li>'Unchanged_sample_size_Female'</li><li>'Female_downsample_CMV_samplesize_Test_1'</li><li>'Female_downsample_CMV_samplesize_Test_2'</li><li>'Female_downsample_CMV_samplesize_Test_3'</li></ol>\n"
      ],
      "text/latex": [
       "\\begin{enumerate*}\n",
       "\\item 'Unchanged\\_sample\\_size\\_Male'\n",
       "\\item 'Unchanged\\_sample\\_size\\_Female'\n",
       "\\item 'Female\\_downsample\\_CMV\\_samplesize\\_Test\\_1'\n",
       "\\item 'Female\\_downsample\\_CMV\\_samplesize\\_Test\\_2'\n",
       "\\item 'Female\\_downsample\\_CMV\\_samplesize\\_Test\\_3'\n",
       "\\end{enumerate*}\n"
      ],
      "text/markdown": [
       "1. 'Unchanged_sample_size_Male'\n",
       "2. 'Unchanged_sample_size_Female'\n",
       "3. 'Female_downsample_CMV_samplesize_Test_1'\n",
       "4. 'Female_downsample_CMV_samplesize_Test_2'\n",
       "5. 'Female_downsample_CMV_samplesize_Test_3'\n",
       "\n",
       "\n"
      ],
      "text/plain": [
       "[1] \"Unchanged_sample_size_Male\"             \n",
       "[2] \"Unchanged_sample_size_Female\"           \n",
       "[3] \"Female_downsample_CMV_samplesize_Test_1\"\n",
       "[4] \"Female_downsample_CMV_samplesize_Test_2\"\n",
       "[5] \"Female_downsample_CMV_samplesize_Test_3\""
      ]
     },
     "metadata": {},
     "output_type": "display_data"
    },
    {
     "data": {
      "text/html": [
       "'ISG+ CD14 monocyte'"
      ],
      "text/latex": [
       "'ISG+ CD14 monocyte'"
      ],
      "text/markdown": [
       "'ISG+ CD14 monocyte'"
      ],
      "text/plain": [
       "[1] \"ISG+ CD14 monocyte\""
      ]
     },
     "metadata": {},
     "output_type": "display_data"
    }
   ],
   "source": [
    "DEG$test_num %>% unique()\n",
    "DEG$celltype %>% unique()"
   ]
  },
  {
   "cell_type": "code",
   "execution_count": 511,
   "id": "39dbd49c-d7a1-41c1-8ca8-71a326b517c1",
   "metadata": {
    "tags": []
   },
   "outputs": [
    {
     "data": {
      "text/html": [
       "<style>\n",
       ".list-inline {list-style: none; margin:0; padding: 0}\n",
       ".list-inline>li {display: inline-block}\n",
       ".list-inline>li:not(:last-child)::after {content: \"\\00b7\"; padding: 0 .5ex}\n",
       "</style>\n",
       "<ol class=list-inline><li>'BR2'</li><li>'BR1'</li></ol>\n"
      ],
      "text/latex": [
       "\\begin{enumerate*}\n",
       "\\item 'BR2'\n",
       "\\item 'BR1'\n",
       "\\end{enumerate*}\n"
      ],
      "text/markdown": [
       "1. 'BR2'\n",
       "2. 'BR1'\n",
       "\n",
       "\n"
      ],
      "text/plain": [
       "[1] \"BR2\" \"BR1\""
      ]
     },
     "metadata": {},
     "output_type": "display_data"
    }
   ],
   "source": [
    "unique(DEG$Direction)"
   ]
  },
  {
   "cell_type": "code",
   "execution_count": 512,
   "id": "f9572da7-0920-4727-8691-37b2702fe773",
   "metadata": {
    "tags": []
   },
   "outputs": [],
   "source": [
    "DEG<- DEG%>% mutate(Expression = case_when(log2FoldChange >=0.1 & padj <= 0.1 ~ \"BR2\",\n",
    "                                                     log2FoldChange <= -0.1 & padj <= 0.1 ~ \"BR1\",\n",
    "                                                     TRUE ~ \"Unchanged\"))"
   ]
  },
  {
   "cell_type": "code",
   "execution_count": 513,
   "id": "4b25e846-f32c-48e2-9c67-d26c62657cc9",
   "metadata": {
    "tags": []
   },
   "outputs": [],
   "source": [
    "DEG<-DEG %>% filter(Year=='Y1')\n",
    "#DEG"
   ]
  },
  {
   "cell_type": "code",
   "execution_count": 514,
   "id": "c570ba29-655e-44b0-bb2e-95c8494fccd7",
   "metadata": {
    "tags": []
   },
   "outputs": [
    {
     "name": "stderr",
     "output_type": "stream",
     "text": [
      "\u001b[1m\u001b[22m`summarise()` has grouped output by 'test_num'. You can override using the\n",
      "`.groups` argument.\n"
     ]
    },
    {
     "data": {
      "text/html": [
       "<table class=\"dataframe\">\n",
       "<caption>A grouped_df: 10 × 3</caption>\n",
       "<thead>\n",
       "\t<tr><th scope=col>test_num</th><th scope=col>Expression</th><th scope=col>count</th></tr>\n",
       "\t<tr><th scope=col>&lt;chr&gt;</th><th scope=col>&lt;chr&gt;</th><th scope=col>&lt;int&gt;</th></tr>\n",
       "</thead>\n",
       "<tbody>\n",
       "\t<tr><td>Female_downsample_CMV_samplesize_Test_1</td><td>BR1</td><td> 4</td></tr>\n",
       "\t<tr><td>Female_downsample_CMV_samplesize_Test_1</td><td>BR2</td><td>10</td></tr>\n",
       "\t<tr><td>Female_downsample_CMV_samplesize_Test_2</td><td>BR1</td><td> 3</td></tr>\n",
       "\t<tr><td>Female_downsample_CMV_samplesize_Test_2</td><td>BR2</td><td> 8</td></tr>\n",
       "\t<tr><td>Female_downsample_CMV_samplesize_Test_3</td><td>BR1</td><td> 3</td></tr>\n",
       "\t<tr><td>Female_downsample_CMV_samplesize_Test_3</td><td>BR2</td><td> 8</td></tr>\n",
       "\t<tr><td>Unchanged_sample_size_Female           </td><td>BR1</td><td> 4</td></tr>\n",
       "\t<tr><td>Unchanged_sample_size_Female           </td><td>BR2</td><td>13</td></tr>\n",
       "\t<tr><td>Unchanged_sample_size_Male             </td><td>BR1</td><td> 8</td></tr>\n",
       "\t<tr><td>Unchanged_sample_size_Male             </td><td>BR2</td><td> 3</td></tr>\n",
       "</tbody>\n",
       "</table>\n"
      ],
      "text/latex": [
       "A grouped\\_df: 10 × 3\n",
       "\\begin{tabular}{lll}\n",
       " test\\_num & Expression & count\\\\\n",
       " <chr> & <chr> & <int>\\\\\n",
       "\\hline\n",
       "\t Female\\_downsample\\_CMV\\_samplesize\\_Test\\_1 & BR1 &  4\\\\\n",
       "\t Female\\_downsample\\_CMV\\_samplesize\\_Test\\_1 & BR2 & 10\\\\\n",
       "\t Female\\_downsample\\_CMV\\_samplesize\\_Test\\_2 & BR1 &  3\\\\\n",
       "\t Female\\_downsample\\_CMV\\_samplesize\\_Test\\_2 & BR2 &  8\\\\\n",
       "\t Female\\_downsample\\_CMV\\_samplesize\\_Test\\_3 & BR1 &  3\\\\\n",
       "\t Female\\_downsample\\_CMV\\_samplesize\\_Test\\_3 & BR2 &  8\\\\\n",
       "\t Unchanged\\_sample\\_size\\_Female            & BR1 &  4\\\\\n",
       "\t Unchanged\\_sample\\_size\\_Female            & BR2 & 13\\\\\n",
       "\t Unchanged\\_sample\\_size\\_Male              & BR1 &  8\\\\\n",
       "\t Unchanged\\_sample\\_size\\_Male              & BR2 &  3\\\\\n",
       "\\end{tabular}\n"
      ],
      "text/markdown": [
       "\n",
       "A grouped_df: 10 × 3\n",
       "\n",
       "| test_num &lt;chr&gt; | Expression &lt;chr&gt; | count &lt;int&gt; |\n",
       "|---|---|---|\n",
       "| Female_downsample_CMV_samplesize_Test_1 | BR1 |  4 |\n",
       "| Female_downsample_CMV_samplesize_Test_1 | BR2 | 10 |\n",
       "| Female_downsample_CMV_samplesize_Test_2 | BR1 |  3 |\n",
       "| Female_downsample_CMV_samplesize_Test_2 | BR2 |  8 |\n",
       "| Female_downsample_CMV_samplesize_Test_3 | BR1 |  3 |\n",
       "| Female_downsample_CMV_samplesize_Test_3 | BR2 |  8 |\n",
       "| Unchanged_sample_size_Female            | BR1 |  4 |\n",
       "| Unchanged_sample_size_Female            | BR2 | 13 |\n",
       "| Unchanged_sample_size_Male              | BR1 |  8 |\n",
       "| Unchanged_sample_size_Male              | BR2 |  3 |\n",
       "\n"
      ],
      "text/plain": [
       "   test_num                                Expression count\n",
       "1  Female_downsample_CMV_samplesize_Test_1 BR1         4   \n",
       "2  Female_downsample_CMV_samplesize_Test_1 BR2        10   \n",
       "3  Female_downsample_CMV_samplesize_Test_2 BR1         3   \n",
       "4  Female_downsample_CMV_samplesize_Test_2 BR2         8   \n",
       "5  Female_downsample_CMV_samplesize_Test_3 BR1         3   \n",
       "6  Female_downsample_CMV_samplesize_Test_3 BR2         8   \n",
       "7  Unchanged_sample_size_Female            BR1         4   \n",
       "8  Unchanged_sample_size_Female            BR2        13   \n",
       "9  Unchanged_sample_size_Male              BR1         8   \n",
       "10 Unchanged_sample_size_Male              BR2         3   "
      ]
     },
     "metadata": {},
     "output_type": "display_data"
    }
   ],
   "source": [
    "freq <- DEG %>% mutate(Expression = case_when(log2FoldChange >=0.1 & padj <= 0.1 ~ \"BR2\",\n",
    "                                                     log2FoldChange <= -0.1 & padj <= 0.1 ~ \"BR1\",\n",
    "                                                     TRUE ~ \"Unchanged\")) %>% filter(!Expression=='Unchanged')%>%\n",
    "  dplyr::group_by(test_num, Expression) %>%\n",
    "   dplyr::summarise(count = n())\n",
    "\n",
    "freq"
   ]
  },
  {
   "cell_type": "code",
   "execution_count": 515,
   "id": "c7ce7bb1-24af-46e7-88aa-63bce1802f45",
   "metadata": {
    "tags": []
   },
   "outputs": [
    {
     "data": {
      "text/html": [
       "<table class=\"dataframe\">\n",
       "<caption>A grouped_df: 10 × 3</caption>\n",
       "<thead>\n",
       "\t<tr><th scope=col>test_num</th><th scope=col>Expression</th><th scope=col>count</th></tr>\n",
       "\t<tr><th scope=col>&lt;fct&gt;</th><th scope=col>&lt;chr&gt;</th><th scope=col>&lt;int&gt;</th></tr>\n",
       "</thead>\n",
       "<tbody>\n",
       "\t<tr><td>Female_downsample_CMV_samplesize_Test_1</td><td>BR1</td><td> 4</td></tr>\n",
       "\t<tr><td>Female_downsample_CMV_samplesize_Test_1</td><td>BR2</td><td>10</td></tr>\n",
       "\t<tr><td>Female_downsample_CMV_samplesize_Test_2</td><td>BR1</td><td> 3</td></tr>\n",
       "\t<tr><td>Female_downsample_CMV_samplesize_Test_2</td><td>BR2</td><td> 8</td></tr>\n",
       "\t<tr><td>Female_downsample_CMV_samplesize_Test_3</td><td>BR1</td><td> 3</td></tr>\n",
       "\t<tr><td>Female_downsample_CMV_samplesize_Test_3</td><td>BR2</td><td> 8</td></tr>\n",
       "\t<tr><td>Unchanged_sample_size_Female           </td><td>BR1</td><td> 4</td></tr>\n",
       "\t<tr><td>Unchanged_sample_size_Female           </td><td>BR2</td><td>13</td></tr>\n",
       "\t<tr><td>Unchanged_sample_size_Male             </td><td>BR1</td><td> 8</td></tr>\n",
       "\t<tr><td>Unchanged_sample_size_Male             </td><td>BR2</td><td> 3</td></tr>\n",
       "</tbody>\n",
       "</table>\n"
      ],
      "text/latex": [
       "A grouped\\_df: 10 × 3\n",
       "\\begin{tabular}{lll}\n",
       " test\\_num & Expression & count\\\\\n",
       " <fct> & <chr> & <int>\\\\\n",
       "\\hline\n",
       "\t Female\\_downsample\\_CMV\\_samplesize\\_Test\\_1 & BR1 &  4\\\\\n",
       "\t Female\\_downsample\\_CMV\\_samplesize\\_Test\\_1 & BR2 & 10\\\\\n",
       "\t Female\\_downsample\\_CMV\\_samplesize\\_Test\\_2 & BR1 &  3\\\\\n",
       "\t Female\\_downsample\\_CMV\\_samplesize\\_Test\\_2 & BR2 &  8\\\\\n",
       "\t Female\\_downsample\\_CMV\\_samplesize\\_Test\\_3 & BR1 &  3\\\\\n",
       "\t Female\\_downsample\\_CMV\\_samplesize\\_Test\\_3 & BR2 &  8\\\\\n",
       "\t Unchanged\\_sample\\_size\\_Female            & BR1 &  4\\\\\n",
       "\t Unchanged\\_sample\\_size\\_Female            & BR2 & 13\\\\\n",
       "\t Unchanged\\_sample\\_size\\_Male              & BR1 &  8\\\\\n",
       "\t Unchanged\\_sample\\_size\\_Male              & BR2 &  3\\\\\n",
       "\\end{tabular}\n"
      ],
      "text/markdown": [
       "\n",
       "A grouped_df: 10 × 3\n",
       "\n",
       "| test_num &lt;fct&gt; | Expression &lt;chr&gt; | count &lt;int&gt; |\n",
       "|---|---|---|\n",
       "| Female_downsample_CMV_samplesize_Test_1 | BR1 |  4 |\n",
       "| Female_downsample_CMV_samplesize_Test_1 | BR2 | 10 |\n",
       "| Female_downsample_CMV_samplesize_Test_2 | BR1 |  3 |\n",
       "| Female_downsample_CMV_samplesize_Test_2 | BR2 |  8 |\n",
       "| Female_downsample_CMV_samplesize_Test_3 | BR1 |  3 |\n",
       "| Female_downsample_CMV_samplesize_Test_3 | BR2 |  8 |\n",
       "| Unchanged_sample_size_Female            | BR1 |  4 |\n",
       "| Unchanged_sample_size_Female            | BR2 | 13 |\n",
       "| Unchanged_sample_size_Male              | BR1 |  8 |\n",
       "| Unchanged_sample_size_Male              | BR2 |  3 |\n",
       "\n"
      ],
      "text/plain": [
       "   test_num                                Expression count\n",
       "1  Female_downsample_CMV_samplesize_Test_1 BR1         4   \n",
       "2  Female_downsample_CMV_samplesize_Test_1 BR2        10   \n",
       "3  Female_downsample_CMV_samplesize_Test_2 BR1         3   \n",
       "4  Female_downsample_CMV_samplesize_Test_2 BR2         8   \n",
       "5  Female_downsample_CMV_samplesize_Test_3 BR1         3   \n",
       "6  Female_downsample_CMV_samplesize_Test_3 BR2         8   \n",
       "7  Unchanged_sample_size_Female            BR1         4   \n",
       "8  Unchanged_sample_size_Female            BR2        13   \n",
       "9  Unchanged_sample_size_Male              BR1         8   \n",
       "10 Unchanged_sample_size_Male              BR2         3   "
      ]
     },
     "metadata": {},
     "output_type": "display_data"
    }
   ],
   "source": [
    "#desired_order <- c(\"Male_Test_0\", \"Female_Test_0\", \"Female_Test_1\", \"Female_Test_2\", \"Female_Test_3\", \"Female_CMV_Test_1\", \"Female_CMV_Test_2\", \"Female_CMV_Test_3\")\n",
    "desired_order <- c(\"Unchanged_sample_size_Male\", \"Unchanged_sample_size_Female\", \"Female_downsample_CMV_samplesize_Test_1\", \"Female_downsample_CMV_samplesize_Test_2\", \"Female_downsample_CMV_samplesize_Test_3\")\n",
    "\n",
    "    # Convert the 'category' variable to a factor with the desired order\n",
    "freq$test_num <- factor(freq$test_num, levels = desired_order)\n",
    "\n",
    "\n",
    "freq"
   ]
  },
  {
   "cell_type": "code",
   "execution_count": 516,
   "id": "fe4beeab-d5de-41b6-838a-729c858a1f92",
   "metadata": {
    "tags": []
   },
   "outputs": [],
   "source": [
    "# # Add a new row for Male_Test_0 with count 0\n",
    "# new_row <- data.frame(test_num = \"Unchanged_sample_size_Male\", Expression = \"Unchanged\", count = 0)\n",
    "\n",
    "# # Combine df with the new row\n",
    "# freq <- bind_rows(freq, new_row)\n",
    "# freq"
   ]
  },
  {
   "cell_type": "code",
   "execution_count": 517,
   "id": "8c6767a0-0fe8-45d7-b189-b4d16d117e1b",
   "metadata": {
    "tags": []
   },
   "outputs": [
    {
     "data": {
      "image/png": "[encoded data removed]",
      "text/plain": [
       "plot without title"
      ]
     },
     "metadata": {
      "image/png": {
       "height": 600,
       "width": 600
      }
     },
     "output_type": "display_data"
    }
   ],
   "source": [
    "# Custom pastel colors\n",
    "#Define the desired order for the x-axis\n",
    "desired_order <- c(\"Unchanged_sample_size_Male\", \"Unchanged_sample_size_Female\", \"Female_downsample_CMV_samplesize_Test_1\", \"Female_downsample_CMV_samplesize_Test_2\", \"Female_downsample_CMV_samplesize_Test_3\")\n",
    "\n",
    "# Convert the 'category' variable to a factor with the desired order\n",
    "freq$test_num <- factor(freq$test_num, levels = desired_order)\n",
    "\n",
    "\n",
    "pastel_colors <- c(\"#8BADD3\", \"#FB9E25\", \"red\" )  # Example pastel colors\n",
    "\n",
    "options(repr.plot.width = 10, repr.plot.height = 10)\n",
    "ggplot(freq, aes(x = test_num, y = count, fill = Expression)) +\n",
    "  geom_bar(stat = \"identity\", width = 0.7) +\n",
    "  scale_fill_manual(values = pastel_colors) +  # Set pastel colors\n",
    "  labs(title = \"QC check for same sample size in F vs M\", x = \"\\n Tests\", y = \"DEG count\") +\n",
    "  theme_minimal() +\n",
    "  theme(\n",
    "    text = element_text(size = 16, color = \"black\"),  # Enlarge text\n",
    "    axis.text.x = element_text(angle = 90, hjust = 1),  # Rotate x-axis labels\n",
    "    axis.title = element_text(size = 16),  # Enlarge axis titles\n",
    "    legend.title = element_blank(),  # Remove legend title\n",
    "    legend.text = element_text(size = 16)  # Enlarge legend text\n",
    "  )"
   ]
  },
  {
   "cell_type": "code",
   "execution_count": null,
   "id": "2952bbb0-28cd-48a7-9c26-c8b0cb928338",
   "metadata": {},
   "outputs": [],
   "source": []
  },
  {
   "cell_type": "code",
   "execution_count": null,
   "id": "ea3e7572-8ee1-4cb2-a89f-62716a38fa4b",
   "metadata": {},
   "outputs": [],
   "source": []
  },
  {
   "cell_type": "code",
   "execution_count": null,
   "id": "1e843e13-eb73-49a3-8f96-c325918d5661",
   "metadata": {},
   "outputs": [],
   "source": []
  },
  {
   "cell_type": "code",
   "execution_count": null,
   "id": "5a3eb7e7-6274-4a5a-bbc2-066a57c4299d",
   "metadata": {},
   "outputs": [],
   "source": []
  },
  {
   "cell_type": "code",
   "execution_count": null,
   "id": "b04e6366-f84c-4141-a84b-c2d995d69e27",
   "metadata": {},
   "outputs": [],
   "source": []
  },
  {
   "cell_type": "code",
   "execution_count": null,
   "id": "1c419508-b045-494a-8992-d7d5d239db01",
   "metadata": {},
   "outputs": [],
   "source": []
  },
  {
   "cell_type": "code",
   "execution_count": null,
   "id": "8e523315-8755-401f-b215-ea6a0810b1eb",
   "metadata": {},
   "outputs": [],
   "source": []
  },
  {
   "cell_type": "code",
   "execution_count": 56,
   "id": "9c477ec0-0053-4e99-ba79-248df3f70139",
   "metadata": {
    "tags": []
   },
   "outputs": [],
   "source": [
    "# #to change 'down-regulated' to negative values\n",
    "# freq<-freq %>% mutate (count=case_when(Expression==\"Down-regulated in BR2\"~-count,TRUE~count))"
   ]
  },
  {
   "cell_type": "code",
   "execution_count": 94,
   "id": "059076d1-6bba-4b96-9d07-fd0ab81920a2",
   "metadata": {
    "tags": []
   },
   "outputs": [
    {
     "data": {
      "text/html": [
       "<table class=\"dataframe\">\n",
       "<caption>A grouped_df: 7 × 3</caption>\n",
       "<thead>\n",
       "\t<tr><th scope=col>test_num</th><th scope=col>Expression</th><th scope=col>count</th></tr>\n",
       "\t<tr><th scope=col>&lt;chr&gt;</th><th scope=col>&lt;chr&gt;</th><th scope=col>&lt;int&gt;</th></tr>\n",
       "</thead>\n",
       "<tbody>\n",
       "\t<tr><td>Female_Test_0</td><td>BR1</td><td> 3</td></tr>\n",
       "\t<tr><td>Female_Test_0</td><td>BR2</td><td>19</td></tr>\n",
       "\t<tr><td>Female_Test_1</td><td>BR2</td><td> 4</td></tr>\n",
       "\t<tr><td>Female_Test_2</td><td>BR1</td><td> 1</td></tr>\n",
       "\t<tr><td>Female_Test_2</td><td>BR2</td><td>16</td></tr>\n",
       "\t<tr><td>Female_Test_3</td><td>BR1</td><td> 2</td></tr>\n",
       "\t<tr><td>Female_Test_3</td><td>BR2</td><td>27</td></tr>\n",
       "</tbody>\n",
       "</table>\n"
      ],
      "text/latex": [
       "A grouped\\_df: 7 × 3\n",
       "\\begin{tabular}{lll}\n",
       " test\\_num & Expression & count\\\\\n",
       " <chr> & <chr> & <int>\\\\\n",
       "\\hline\n",
       "\t Female\\_Test\\_0 & BR1 &  3\\\\\n",
       "\t Female\\_Test\\_0 & BR2 & 19\\\\\n",
       "\t Female\\_Test\\_1 & BR2 &  4\\\\\n",
       "\t Female\\_Test\\_2 & BR1 &  1\\\\\n",
       "\t Female\\_Test\\_2 & BR2 & 16\\\\\n",
       "\t Female\\_Test\\_3 & BR1 &  2\\\\\n",
       "\t Female\\_Test\\_3 & BR2 & 27\\\\\n",
       "\\end{tabular}\n"
      ],
      "text/markdown": [
       "\n",
       "A grouped_df: 7 × 3\n",
       "\n",
       "| test_num &lt;chr&gt; | Expression &lt;chr&gt; | count &lt;int&gt; |\n",
       "|---|---|---|\n",
       "| Female_Test_0 | BR1 |  3 |\n",
       "| Female_Test_0 | BR2 | 19 |\n",
       "| Female_Test_1 | BR2 |  4 |\n",
       "| Female_Test_2 | BR1 |  1 |\n",
       "| Female_Test_2 | BR2 | 16 |\n",
       "| Female_Test_3 | BR1 |  2 |\n",
       "| Female_Test_3 | BR2 | 27 |\n",
       "\n"
      ],
      "text/plain": [
       "  test_num      Expression count\n",
       "1 Female_Test_0 BR1         3   \n",
       "2 Female_Test_0 BR2        19   \n",
       "3 Female_Test_1 BR2         4   \n",
       "4 Female_Test_2 BR1         1   \n",
       "5 Female_Test_2 BR2        16   \n",
       "6 Female_Test_3 BR1         2   \n",
       "7 Female_Test_3 BR2        27   "
      ]
     },
     "metadata": {},
     "output_type": "display_data"
    }
   ],
   "source": [
    "freq"
   ]
  },
  {
   "cell_type": "code",
   "execution_count": 100,
   "id": "4d333c68-23c2-4f64-9ce5-52779d6b7751",
   "metadata": {
    "tags": []
   },
   "outputs": [],
   "source": [
    "orders<-freq\n",
    "orders$count<-abs(orders$count)\n",
    "orders<-orders%>%\n",
    "  dplyr::group_by(test_num) %>%\n",
    "  dplyr::summarize(value = sum(count))%>%dplyr::arrange(desc(value)) %>% dplyr::select (test_num) %>% dplyr::pull()"
   ]
  },
  {
   "cell_type": "code",
   "execution_count": 102,
   "id": "17bde118-3275-4598-aad4-faec547a1a17",
   "metadata": {
    "tags": []
   },
   "outputs": [
    {
     "data": {
      "text/html": [
       "<style>\n",
       ".list-inline {list-style: none; margin:0; padding: 0}\n",
       ".list-inline>li {display: inline-block}\n",
       ".list-inline>li:not(:last-child)::after {content: \"\\00b7\"; padding: 0 .5ex}\n",
       "</style>\n",
       "<ol class=list-inline><li>'Female_Test_3'</li><li>'Female_Test_0'</li><li>'Female_Test_2'</li><li>'Female_Test_1'</li></ol>\n"
      ],
      "text/latex": [
       "\\begin{enumerate*}\n",
       "\\item 'Female\\_Test\\_3'\n",
       "\\item 'Female\\_Test\\_0'\n",
       "\\item 'Female\\_Test\\_2'\n",
       "\\item 'Female\\_Test\\_1'\n",
       "\\end{enumerate*}\n"
      ],
      "text/markdown": [
       "1. 'Female_Test_3'\n",
       "2. 'Female_Test_0'\n",
       "3. 'Female_Test_2'\n",
       "4. 'Female_Test_1'\n",
       "\n",
       "\n"
      ],
      "text/plain": [
       "[1] \"Female_Test_3\" \"Female_Test_0\" \"Female_Test_2\" \"Female_Test_1\""
      ]
     },
     "metadata": {},
     "output_type": "display_data"
    }
   ],
   "source": [
    "orders"
   ]
  },
  {
   "cell_type": "code",
   "execution_count": null,
   "id": "46fdb240-acc0-473f-88d2-9e8cae43f8a6",
   "metadata": {},
   "outputs": [],
   "source": []
  },
  {
   "cell_type": "code",
   "execution_count": 377,
   "id": "4ee5cd5e-c169-45a0-9ffc-83a144dbfe0f",
   "metadata": {
    "tags": []
   },
   "outputs": [],
   "source": [
    "options(repr.plot.width = 10, repr.plot.height = 5)\n",
    "#orders<-unique(freq %>% arrange(desc(count)) %>% select (celltype) %>% pull())\n",
    "freq$celltype<-factor(freq$celltype,levels=orders)\n",
    "p1<-ggplot(freq, aes(x = celltype, y = count, fill = Expression)) +\n",
    "  geom_bar(stat = \"identity\", position = \"identity\") +theme_bw(base_size=12)+  scale_fill_aaas()+\n",
    "  labs(x = \"celltype\", y = \"DEG_Counts\") +  theme(axis.text.x = element_text(angle = 90, hjust = 1, vjust = 0.5, size = 15))+guides(fill = guide_legend(reverse = TRUE))+\n",
    "  ylim(-170,170)"
   ]
  },
  {
   "cell_type": "code",
   "execution_count": 109,
   "id": "e7f6df15-52a9-4517-b996-73a8b7bd3758",
   "metadata": {
    "tags": []
   },
   "outputs": [
    {
     "data": {
      "text/html": [
       "<table class=\"dataframe\">\n",
       "<caption>A tibble: 5 × 2</caption>\n",
       "<thead>\n",
       "\t<tr><th scope=col>test_num</th><th scope=col>count</th></tr>\n",
       "\t<tr><th scope=col>&lt;fct&gt;</th><th scope=col>&lt;int&gt;</th></tr>\n",
       "</thead>\n",
       "<tbody>\n",
       "\t<tr><td>Female_Test_0</td><td>6068</td></tr>\n",
       "\t<tr><td>Female_Test_1</td><td>6068</td></tr>\n",
       "\t<tr><td>Female_Test_2</td><td>6068</td></tr>\n",
       "\t<tr><td>Female_Test_3</td><td>6068</td></tr>\n",
       "\t<tr><td>NA           </td><td>6068</td></tr>\n",
       "</tbody>\n",
       "</table>\n"
      ],
      "text/latex": [
       "A tibble: 5 × 2\n",
       "\\begin{tabular}{ll}\n",
       " test\\_num & count\\\\\n",
       " <fct> & <int>\\\\\n",
       "\\hline\n",
       "\t Female\\_Test\\_0 & 6068\\\\\n",
       "\t Female\\_Test\\_1 & 6068\\\\\n",
       "\t Female\\_Test\\_2 & 6068\\\\\n",
       "\t Female\\_Test\\_3 & 6068\\\\\n",
       "\t NA            & 6068\\\\\n",
       "\\end{tabular}\n"
      ],
      "text/markdown": [
       "\n",
       "A tibble: 5 × 2\n",
       "\n",
       "| test_num &lt;fct&gt; | count &lt;int&gt; |\n",
       "|---|---|\n",
       "| Female_Test_0 | 6068 |\n",
       "| Female_Test_1 | 6068 |\n",
       "| Female_Test_2 | 6068 |\n",
       "| Female_Test_3 | 6068 |\n",
       "| NA            | 6068 |\n",
       "\n"
      ],
      "text/plain": [
       "  test_num      count\n",
       "1 Female_Test_0 6068 \n",
       "2 Female_Test_1 6068 \n",
       "3 Female_Test_2 6068 \n",
       "4 Female_Test_3 6068 \n",
       "5 NA            6068 "
      ]
     },
     "metadata": {},
     "output_type": "display_data"
    }
   ],
   "source": [
    "total_gene <- DEG  %>%\n",
    "  dplyr::group_by(test_num) %>%\n",
    "  dplyr::summarise(count = n())\n",
    "total_gene$test_num<-factor(total_gene$test_num,levels=orders)\n",
    "\n",
    "total_gene"
   ]
  },
  {
   "cell_type": "code",
   "execution_count": 110,
   "id": "e0253e2d-14b0-4723-90d1-55f7bd73b726",
   "metadata": {
    "tags": []
   },
   "outputs": [],
   "source": [
    "p2<-ggplot(total_gene, aes(x = celltype, y = count)) +\n",
    "  geom_bar(stat = \"identity\", position = \"identity\") +\n",
    "  labs(x = \"celltype\", y = \"Total_Genes_Expressed\")+theme_bw(base_size=12)+\n",
    "  theme(axis.title.x=element_blank(),\n",
    "        axis.text.x=element_blank(),\n",
    "        axis.ticks.x=element_blank())+ylab('N_Genes')"
   ]
  },
  {
   "cell_type": "code",
   "execution_count": 111,
   "id": "4e417d01-a579-4078-ac1f-e30185c76e16",
   "metadata": {
    "tags": []
   },
   "outputs": [
    {
     "ename": "ERROR",
     "evalue": "Error in insert_top(., p2, height = 0.7): could not find function \"insert_top\"\n",
     "output_type": "error",
     "traceback": [
      "Error in insert_top(., p2, height = 0.7): could not find function \"insert_top\"\nTraceback:\n",
      "1. p1 %>% insert_top(p2, height = 0.7)"
     ]
    }
   ],
   "source": [
    "options(repr.plot.width = 12, repr.plot.height = 8)\n",
    "\n",
    "p3<-p1 %>% insert_top(p2,height=0.7)\n",
    "\n",
    "p3\n",
    "\n"
   ]
  },
  {
   "cell_type": "markdown",
   "id": "1826668a-b3f9-40d8-8476-b3d9d3604a32",
   "metadata": {
    "jp-MarkdownHeadingCollapsed": true,
    "tags": []
   },
   "source": [
    "# Gather celltype files by DESEQ2 generated for Females only"
   ]
  },
  {
   "cell_type": "code",
   "execution_count": 16,
   "id": "1a55bfb6-d29b-43ed-9b7a-b1386f369ce8",
   "metadata": {
    "tags": []
   },
   "outputs": [],
   "source": [
    "# gather all the DEG files in Males and Female seperately\n",
    "data_path = '/home/jupyter/IH-A-Aging-Analysis-Notebooks_old/Mansi_Notebooks/scRNA/DEG_Analysis/MS_Sex_DEG_analysis/DEG_cohort_splitby_sex_CSVfiles/Age_yr1_Day0_Female'\n",
    "\n",
    "#data_path = '/home/jupyter/IH-A-Aging-Analysis-Notebooks_old/Mansi_Notebooks/scRNA/DEG_Analysis/MS_Sex_DEG_analysis/DEG_cohort_splitby_sex_CSVfiles/Age_yr1_Day0_Male'\n"
   ]
  },
  {
   "cell_type": "code",
   "execution_count": 17,
   "id": "11dad62a-8989-4c4e-87d2-715014448f56",
   "metadata": {
    "tags": []
   },
   "outputs": [],
   "source": [
    "# List all files ending with \".csv\" in the directory\n",
    "csv_files <- list.files(data_path, pattern = \"\\\\.csv$\", full.names = TRUE)\n",
    "\n",
    "# Display the list of CSV files\n",
    "#print(csv_files)"
   ]
  },
  {
   "cell_type": "code",
   "execution_count": 18,
   "id": "25bbaa75-fb75-4982-95d1-ddc4e65f58f8",
   "metadata": {
    "tags": []
   },
   "outputs": [],
   "source": [
    "# Create an empty list to store data frames\n",
    "data_list <- list()\n",
    "\n",
    "# Loop through each CSV file, read it, and store it in the list\n",
    "for (file in csv_files) {\n",
    "  data <- read.csv(file)\n",
    "  data_list[[file]] <- data\n",
    "}"
   ]
  },
  {
   "cell_type": "code",
   "execution_count": 19,
   "id": "c61ef09f-ea85-4cde-bbba-6498b64658e8",
   "metadata": {
    "tags": []
   },
   "outputs": [],
   "source": [
    "#head(data_list)"
   ]
  },
  {
   "cell_type": "code",
   "execution_count": 20,
   "id": "d8535f0c-dbe6-4404-945e-71c07187d3ae",
   "metadata": {
    "tags": []
   },
   "outputs": [
    {
     "data": {
      "text/html": [
       "<table class=\"dataframe\">\n",
       "<caption>A data.frame: 6 × 10</caption>\n",
       "<thead>\n",
       "\t<tr><th></th><th scope=col>X</th><th scope=col>baseMean</th><th scope=col>log2FoldChange</th><th scope=col>lfcSE</th><th scope=col>stat</th><th scope=col>pvalue</th><th scope=col>padj</th><th scope=col>celltype</th><th scope=col>Direction</th><th scope=col>Year</th></tr>\n",
       "\t<tr><th></th><th scope=col>&lt;chr&gt;</th><th scope=col>&lt;dbl&gt;</th><th scope=col>&lt;dbl&gt;</th><th scope=col>&lt;dbl&gt;</th><th scope=col>&lt;dbl&gt;</th><th scope=col>&lt;dbl&gt;</th><th scope=col>&lt;dbl&gt;</th><th scope=col>&lt;chr&gt;</th><th scope=col>&lt;chr&gt;</th><th scope=col>&lt;chr&gt;</th></tr>\n",
       "</thead>\n",
       "<tbody>\n",
       "\t<tr><th scope=row>/home/jupyter/IH-A-Aging-Analysis-Notebooks_old/Mansi_Notebooks/scRNA/DEG_Analysis/MS_Sex_DEG_analysis/DEG_cohort_splitby_sex_CSVfiles/Age_yr1_Day0_Female/Activated memory B cell_Y1D0.csv.1</th><td>NOC2L  </td><td>0.6755194</td><td>-0.63391584</td><td>0.6433089</td><td>-0.98539890</td><td>0.3244282</td><td>0.999827</td><td>Activated memory B cell</td><td>BR1</td><td>Y1</td></tr>\n",
       "\t<tr><th scope=row>/home/jupyter/IH-A-Aging-Analysis-Notebooks_old/Mansi_Notebooks/scRNA/DEG_Analysis/MS_Sex_DEG_analysis/DEG_cohort_splitby_sex_CSVfiles/Age_yr1_Day0_Female/Activated memory B cell_Y1D0.csv.2</th><td>ISG15  </td><td>1.0695630</td><td>-0.17236999</td><td>0.5515123</td><td>-0.31254059</td><td>0.7546297</td><td>0.999827</td><td>Activated memory B cell</td><td>BR1</td><td>Y1</td></tr>\n",
       "\t<tr><th scope=row>/home/jupyter/IH-A-Aging-Analysis-Notebooks_old/Mansi_Notebooks/scRNA/DEG_Analysis/MS_Sex_DEG_analysis/DEG_cohort_splitby_sex_CSVfiles/Age_yr1_Day0_Female/Activated memory B cell_Y1D0.csv.3</th><td>SDF4   </td><td>0.8391485</td><td>-0.10939778</td><td>0.5986429</td><td>-0.18274296</td><td>0.8549997</td><td>0.999827</td><td>Activated memory B cell</td><td>BR1</td><td>Y1</td></tr>\n",
       "\t<tr><th scope=row>/home/jupyter/IH-A-Aging-Analysis-Notebooks_old/Mansi_Notebooks/scRNA/DEG_Analysis/MS_Sex_DEG_analysis/DEG_cohort_splitby_sex_CSVfiles/Age_yr1_Day0_Female/Activated memory B cell_Y1D0.csv.4</th><td>B3GALT6</td><td>0.4226833</td><td>-0.05320132</td><td>0.7376413</td><td>-0.07212356</td><td>0.9425036</td><td>0.999827</td><td>Activated memory B cell</td><td>BR1</td><td>Y1</td></tr>\n",
       "\t<tr><th scope=row>/home/jupyter/IH-A-Aging-Analysis-Notebooks_old/Mansi_Notebooks/scRNA/DEG_Analysis/MS_Sex_DEG_analysis/DEG_cohort_splitby_sex_CSVfiles/Age_yr1_Day0_Female/Activated memory B cell_Y1D0.csv.5</th><td>UBE2J2 </td><td>1.1380289</td><td> 0.29006213</td><td>0.5256330</td><td> 0.55183395</td><td>0.5810621</td><td>0.999827</td><td>Activated memory B cell</td><td>BR2</td><td>Y1</td></tr>\n",
       "\t<tr><th scope=row>/home/jupyter/IH-A-Aging-Analysis-Notebooks_old/Mansi_Notebooks/scRNA/DEG_Analysis/MS_Sex_DEG_analysis/DEG_cohort_splitby_sex_CSVfiles/Age_yr1_Day0_Female/Activated memory B cell_Y1D0.csv.6</th><td>INTS11 </td><td>0.8266093</td><td>-0.34363920</td><td>0.5741588</td><td>-0.59850896</td><td>0.5495004</td><td>0.999827</td><td>Activated memory B cell</td><td>BR1</td><td>Y1</td></tr>\n",
       "</tbody>\n",
       "</table>\n"
      ],
      "text/latex": [
       "A data.frame: 6 × 10\n",
       "\\begin{tabular}{r|llllllllll}\n",
       "  & X & baseMean & log2FoldChange & lfcSE & stat & pvalue & padj & celltype & Direction & Year\\\\\n",
       "  & <chr> & <dbl> & <dbl> & <dbl> & <dbl> & <dbl> & <dbl> & <chr> & <chr> & <chr>\\\\\n",
       "\\hline\n",
       "\t/home/jupyter/IH-A-Aging-Analysis-Notebooks\\_old/Mansi\\_Notebooks/scRNA/DEG\\_Analysis/MS\\_Sex\\_DEG\\_analysis/DEG\\_cohort\\_splitby\\_sex\\_CSVfiles/Age\\_yr1\\_Day0\\_Female/Activated memory B cell\\_Y1D0.csv.1 & NOC2L   & 0.6755194 & -0.63391584 & 0.6433089 & -0.98539890 & 0.3244282 & 0.999827 & Activated memory B cell & BR1 & Y1\\\\\n",
       "\t/home/jupyter/IH-A-Aging-Analysis-Notebooks\\_old/Mansi\\_Notebooks/scRNA/DEG\\_Analysis/MS\\_Sex\\_DEG\\_analysis/DEG\\_cohort\\_splitby\\_sex\\_CSVfiles/Age\\_yr1\\_Day0\\_Female/Activated memory B cell\\_Y1D0.csv.2 & ISG15   & 1.0695630 & -0.17236999 & 0.5515123 & -0.31254059 & 0.7546297 & 0.999827 & Activated memory B cell & BR1 & Y1\\\\\n",
       "\t/home/jupyter/IH-A-Aging-Analysis-Notebooks\\_old/Mansi\\_Notebooks/scRNA/DEG\\_Analysis/MS\\_Sex\\_DEG\\_analysis/DEG\\_cohort\\_splitby\\_sex\\_CSVfiles/Age\\_yr1\\_Day0\\_Female/Activated memory B cell\\_Y1D0.csv.3 & SDF4    & 0.8391485 & -0.10939778 & 0.5986429 & -0.18274296 & 0.8549997 & 0.999827 & Activated memory B cell & BR1 & Y1\\\\\n",
       "\t/home/jupyter/IH-A-Aging-Analysis-Notebooks\\_old/Mansi\\_Notebooks/scRNA/DEG\\_Analysis/MS\\_Sex\\_DEG\\_analysis/DEG\\_cohort\\_splitby\\_sex\\_CSVfiles/Age\\_yr1\\_Day0\\_Female/Activated memory B cell\\_Y1D0.csv.4 & B3GALT6 & 0.4226833 & -0.05320132 & 0.7376413 & -0.07212356 & 0.9425036 & 0.999827 & Activated memory B cell & BR1 & Y1\\\\\n",
       "\t/home/jupyter/IH-A-Aging-Analysis-Notebooks\\_old/Mansi\\_Notebooks/scRNA/DEG\\_Analysis/MS\\_Sex\\_DEG\\_analysis/DEG\\_cohort\\_splitby\\_sex\\_CSVfiles/Age\\_yr1\\_Day0\\_Female/Activated memory B cell\\_Y1D0.csv.5 & UBE2J2  & 1.1380289 &  0.29006213 & 0.5256330 &  0.55183395 & 0.5810621 & 0.999827 & Activated memory B cell & BR2 & Y1\\\\\n",
       "\t/home/jupyter/IH-A-Aging-Analysis-Notebooks\\_old/Mansi\\_Notebooks/scRNA/DEG\\_Analysis/MS\\_Sex\\_DEG\\_analysis/DEG\\_cohort\\_splitby\\_sex\\_CSVfiles/Age\\_yr1\\_Day0\\_Female/Activated memory B cell\\_Y1D0.csv.6 & INTS11  & 0.8266093 & -0.34363920 & 0.5741588 & -0.59850896 & 0.5495004 & 0.999827 & Activated memory B cell & BR1 & Y1\\\\\n",
       "\\end{tabular}\n"
      ],
      "text/markdown": [
       "\n",
       "A data.frame: 6 × 10\n",
       "\n",
       "| <!--/--> | X &lt;chr&gt; | baseMean &lt;dbl&gt; | log2FoldChange &lt;dbl&gt; | lfcSE &lt;dbl&gt; | stat &lt;dbl&gt; | pvalue &lt;dbl&gt; | padj &lt;dbl&gt; | celltype &lt;chr&gt; | Direction &lt;chr&gt; | Year &lt;chr&gt; |\n",
       "|---|---|---|---|---|---|---|---|---|---|---|\n",
       "| /home/jupyter/IH-A-Aging-Analysis-Notebooks_old/Mansi_Notebooks/scRNA/DEG_Analysis/MS_Sex_DEG_analysis/DEG_cohort_splitby_sex_CSVfiles/Age_yr1_Day0_Female/Activated memory B cell_Y1D0.csv.1 | NOC2L   | 0.6755194 | -0.63391584 | 0.6433089 | -0.98539890 | 0.3244282 | 0.999827 | Activated memory B cell | BR1 | Y1 |\n",
       "| /home/jupyter/IH-A-Aging-Analysis-Notebooks_old/Mansi_Notebooks/scRNA/DEG_Analysis/MS_Sex_DEG_analysis/DEG_cohort_splitby_sex_CSVfiles/Age_yr1_Day0_Female/Activated memory B cell_Y1D0.csv.2 | ISG15   | 1.0695630 | -0.17236999 | 0.5515123 | -0.31254059 | 0.7546297 | 0.999827 | Activated memory B cell | BR1 | Y1 |\n",
       "| /home/jupyter/IH-A-Aging-Analysis-Notebooks_old/Mansi_Notebooks/scRNA/DEG_Analysis/MS_Sex_DEG_analysis/DEG_cohort_splitby_sex_CSVfiles/Age_yr1_Day0_Female/Activated memory B cell_Y1D0.csv.3 | SDF4    | 0.8391485 | -0.10939778 | 0.5986429 | -0.18274296 | 0.8549997 | 0.999827 | Activated memory B cell | BR1 | Y1 |\n",
       "| /home/jupyter/IH-A-Aging-Analysis-Notebooks_old/Mansi_Notebooks/scRNA/DEG_Analysis/MS_Sex_DEG_analysis/DEG_cohort_splitby_sex_CSVfiles/Age_yr1_Day0_Female/Activated memory B cell_Y1D0.csv.4 | B3GALT6 | 0.4226833 | -0.05320132 | 0.7376413 | -0.07212356 | 0.9425036 | 0.999827 | Activated memory B cell | BR1 | Y1 |\n",
       "| /home/jupyter/IH-A-Aging-Analysis-Notebooks_old/Mansi_Notebooks/scRNA/DEG_Analysis/MS_Sex_DEG_analysis/DEG_cohort_splitby_sex_CSVfiles/Age_yr1_Day0_Female/Activated memory B cell_Y1D0.csv.5 | UBE2J2  | 1.1380289 |  0.29006213 | 0.5256330 |  0.55183395 | 0.5810621 | 0.999827 | Activated memory B cell | BR2 | Y1 |\n",
       "| /home/jupyter/IH-A-Aging-Analysis-Notebooks_old/Mansi_Notebooks/scRNA/DEG_Analysis/MS_Sex_DEG_analysis/DEG_cohort_splitby_sex_CSVfiles/Age_yr1_Day0_Female/Activated memory B cell_Y1D0.csv.6 | INTS11  | 0.8266093 | -0.34363920 | 0.5741588 | -0.59850896 | 0.5495004 | 0.999827 | Activated memory B cell | BR1 | Y1 |\n",
       "\n"
      ],
      "text/plain": [
       "                                                                                                                                                                                              X      \n",
       "/home/jupyter/IH-A-Aging-Analysis-Notebooks_old/Mansi_Notebooks/scRNA/DEG_Analysis/MS_Sex_DEG_analysis/DEG_cohort_splitby_sex_CSVfiles/Age_yr1_Day0_Female/Activated memory B cell_Y1D0.csv.1 NOC2L  \n",
       "/home/jupyter/IH-A-Aging-Analysis-Notebooks_old/Mansi_Notebooks/scRNA/DEG_Analysis/MS_Sex_DEG_analysis/DEG_cohort_splitby_sex_CSVfiles/Age_yr1_Day0_Female/Activated memory B cell_Y1D0.csv.2 ISG15  \n",
       "/home/jupyter/IH-A-Aging-Analysis-Notebooks_old/Mansi_Notebooks/scRNA/DEG_Analysis/MS_Sex_DEG_analysis/DEG_cohort_splitby_sex_CSVfiles/Age_yr1_Day0_Female/Activated memory B cell_Y1D0.csv.3 SDF4   \n",
       "/home/jupyter/IH-A-Aging-Analysis-Notebooks_old/Mansi_Notebooks/scRNA/DEG_Analysis/MS_Sex_DEG_analysis/DEG_cohort_splitby_sex_CSVfiles/Age_yr1_Day0_Female/Activated memory B cell_Y1D0.csv.4 B3GALT6\n",
       "/home/jupyter/IH-A-Aging-Analysis-Notebooks_old/Mansi_Notebooks/scRNA/DEG_Analysis/MS_Sex_DEG_analysis/DEG_cohort_splitby_sex_CSVfiles/Age_yr1_Day0_Female/Activated memory B cell_Y1D0.csv.5 UBE2J2 \n",
       "/home/jupyter/IH-A-Aging-Analysis-Notebooks_old/Mansi_Notebooks/scRNA/DEG_Analysis/MS_Sex_DEG_analysis/DEG_cohort_splitby_sex_CSVfiles/Age_yr1_Day0_Female/Activated memory B cell_Y1D0.csv.6 INTS11 \n",
       "                                                                                                                                                                                              baseMean \n",
       "/home/jupyter/IH-A-Aging-Analysis-Notebooks_old/Mansi_Notebooks/scRNA/DEG_Analysis/MS_Sex_DEG_analysis/DEG_cohort_splitby_sex_CSVfiles/Age_yr1_Day0_Female/Activated memory B cell_Y1D0.csv.1 0.6755194\n",
       "/home/jupyter/IH-A-Aging-Analysis-Notebooks_old/Mansi_Notebooks/scRNA/DEG_Analysis/MS_Sex_DEG_analysis/DEG_cohort_splitby_sex_CSVfiles/Age_yr1_Day0_Female/Activated memory B cell_Y1D0.csv.2 1.0695630\n",
       "/home/jupyter/IH-A-Aging-Analysis-Notebooks_old/Mansi_Notebooks/scRNA/DEG_Analysis/MS_Sex_DEG_analysis/DEG_cohort_splitby_sex_CSVfiles/Age_yr1_Day0_Female/Activated memory B cell_Y1D0.csv.3 0.8391485\n",
       "/home/jupyter/IH-A-Aging-Analysis-Notebooks_old/Mansi_Notebooks/scRNA/DEG_Analysis/MS_Sex_DEG_analysis/DEG_cohort_splitby_sex_CSVfiles/Age_yr1_Day0_Female/Activated memory B cell_Y1D0.csv.4 0.4226833\n",
       "/home/jupyter/IH-A-Aging-Analysis-Notebooks_old/Mansi_Notebooks/scRNA/DEG_Analysis/MS_Sex_DEG_analysis/DEG_cohort_splitby_sex_CSVfiles/Age_yr1_Day0_Female/Activated memory B cell_Y1D0.csv.5 1.1380289\n",
       "/home/jupyter/IH-A-Aging-Analysis-Notebooks_old/Mansi_Notebooks/scRNA/DEG_Analysis/MS_Sex_DEG_analysis/DEG_cohort_splitby_sex_CSVfiles/Age_yr1_Day0_Female/Activated memory B cell_Y1D0.csv.6 0.8266093\n",
       "                                                                                                                                                                                              log2FoldChange\n",
       "/home/jupyter/IH-A-Aging-Analysis-Notebooks_old/Mansi_Notebooks/scRNA/DEG_Analysis/MS_Sex_DEG_analysis/DEG_cohort_splitby_sex_CSVfiles/Age_yr1_Day0_Female/Activated memory B cell_Y1D0.csv.1 -0.63391584   \n",
       "/home/jupyter/IH-A-Aging-Analysis-Notebooks_old/Mansi_Notebooks/scRNA/DEG_Analysis/MS_Sex_DEG_analysis/DEG_cohort_splitby_sex_CSVfiles/Age_yr1_Day0_Female/Activated memory B cell_Y1D0.csv.2 -0.17236999   \n",
       "/home/jupyter/IH-A-Aging-Analysis-Notebooks_old/Mansi_Notebooks/scRNA/DEG_Analysis/MS_Sex_DEG_analysis/DEG_cohort_splitby_sex_CSVfiles/Age_yr1_Day0_Female/Activated memory B cell_Y1D0.csv.3 -0.10939778   \n",
       "/home/jupyter/IH-A-Aging-Analysis-Notebooks_old/Mansi_Notebooks/scRNA/DEG_Analysis/MS_Sex_DEG_analysis/DEG_cohort_splitby_sex_CSVfiles/Age_yr1_Day0_Female/Activated memory B cell_Y1D0.csv.4 -0.05320132   \n",
       "/home/jupyter/IH-A-Aging-Analysis-Notebooks_old/Mansi_Notebooks/scRNA/DEG_Analysis/MS_Sex_DEG_analysis/DEG_cohort_splitby_sex_CSVfiles/Age_yr1_Day0_Female/Activated memory B cell_Y1D0.csv.5  0.29006213   \n",
       "/home/jupyter/IH-A-Aging-Analysis-Notebooks_old/Mansi_Notebooks/scRNA/DEG_Analysis/MS_Sex_DEG_analysis/DEG_cohort_splitby_sex_CSVfiles/Age_yr1_Day0_Female/Activated memory B cell_Y1D0.csv.6 -0.34363920   \n",
       "                                                                                                                                                                                              lfcSE    \n",
       "/home/jupyter/IH-A-Aging-Analysis-Notebooks_old/Mansi_Notebooks/scRNA/DEG_Analysis/MS_Sex_DEG_analysis/DEG_cohort_splitby_sex_CSVfiles/Age_yr1_Day0_Female/Activated memory B cell_Y1D0.csv.1 0.6433089\n",
       "/home/jupyter/IH-A-Aging-Analysis-Notebooks_old/Mansi_Notebooks/scRNA/DEG_Analysis/MS_Sex_DEG_analysis/DEG_cohort_splitby_sex_CSVfiles/Age_yr1_Day0_Female/Activated memory B cell_Y1D0.csv.2 0.5515123\n",
       "/home/jupyter/IH-A-Aging-Analysis-Notebooks_old/Mansi_Notebooks/scRNA/DEG_Analysis/MS_Sex_DEG_analysis/DEG_cohort_splitby_sex_CSVfiles/Age_yr1_Day0_Female/Activated memory B cell_Y1D0.csv.3 0.5986429\n",
       "/home/jupyter/IH-A-Aging-Analysis-Notebooks_old/Mansi_Notebooks/scRNA/DEG_Analysis/MS_Sex_DEG_analysis/DEG_cohort_splitby_sex_CSVfiles/Age_yr1_Day0_Female/Activated memory B cell_Y1D0.csv.4 0.7376413\n",
       "/home/jupyter/IH-A-Aging-Analysis-Notebooks_old/Mansi_Notebooks/scRNA/DEG_Analysis/MS_Sex_DEG_analysis/DEG_cohort_splitby_sex_CSVfiles/Age_yr1_Day0_Female/Activated memory B cell_Y1D0.csv.5 0.5256330\n",
       "/home/jupyter/IH-A-Aging-Analysis-Notebooks_old/Mansi_Notebooks/scRNA/DEG_Analysis/MS_Sex_DEG_analysis/DEG_cohort_splitby_sex_CSVfiles/Age_yr1_Day0_Female/Activated memory B cell_Y1D0.csv.6 0.5741588\n",
       "                                                                                                                                                                                              stat       \n",
       "/home/jupyter/IH-A-Aging-Analysis-Notebooks_old/Mansi_Notebooks/scRNA/DEG_Analysis/MS_Sex_DEG_analysis/DEG_cohort_splitby_sex_CSVfiles/Age_yr1_Day0_Female/Activated memory B cell_Y1D0.csv.1 -0.98539890\n",
       "/home/jupyter/IH-A-Aging-Analysis-Notebooks_old/Mansi_Notebooks/scRNA/DEG_Analysis/MS_Sex_DEG_analysis/DEG_cohort_splitby_sex_CSVfiles/Age_yr1_Day0_Female/Activated memory B cell_Y1D0.csv.2 -0.31254059\n",
       "/home/jupyter/IH-A-Aging-Analysis-Notebooks_old/Mansi_Notebooks/scRNA/DEG_Analysis/MS_Sex_DEG_analysis/DEG_cohort_splitby_sex_CSVfiles/Age_yr1_Day0_Female/Activated memory B cell_Y1D0.csv.3 -0.18274296\n",
       "/home/jupyter/IH-A-Aging-Analysis-Notebooks_old/Mansi_Notebooks/scRNA/DEG_Analysis/MS_Sex_DEG_analysis/DEG_cohort_splitby_sex_CSVfiles/Age_yr1_Day0_Female/Activated memory B cell_Y1D0.csv.4 -0.07212356\n",
       "/home/jupyter/IH-A-Aging-Analysis-Notebooks_old/Mansi_Notebooks/scRNA/DEG_Analysis/MS_Sex_DEG_analysis/DEG_cohort_splitby_sex_CSVfiles/Age_yr1_Day0_Female/Activated memory B cell_Y1D0.csv.5  0.55183395\n",
       "/home/jupyter/IH-A-Aging-Analysis-Notebooks_old/Mansi_Notebooks/scRNA/DEG_Analysis/MS_Sex_DEG_analysis/DEG_cohort_splitby_sex_CSVfiles/Age_yr1_Day0_Female/Activated memory B cell_Y1D0.csv.6 -0.59850896\n",
       "                                                                                                                                                                                              pvalue   \n",
       "/home/jupyter/IH-A-Aging-Analysis-Notebooks_old/Mansi_Notebooks/scRNA/DEG_Analysis/MS_Sex_DEG_analysis/DEG_cohort_splitby_sex_CSVfiles/Age_yr1_Day0_Female/Activated memory B cell_Y1D0.csv.1 0.3244282\n",
       "/home/jupyter/IH-A-Aging-Analysis-Notebooks_old/Mansi_Notebooks/scRNA/DEG_Analysis/MS_Sex_DEG_analysis/DEG_cohort_splitby_sex_CSVfiles/Age_yr1_Day0_Female/Activated memory B cell_Y1D0.csv.2 0.7546297\n",
       "/home/jupyter/IH-A-Aging-Analysis-Notebooks_old/Mansi_Notebooks/scRNA/DEG_Analysis/MS_Sex_DEG_analysis/DEG_cohort_splitby_sex_CSVfiles/Age_yr1_Day0_Female/Activated memory B cell_Y1D0.csv.3 0.8549997\n",
       "/home/jupyter/IH-A-Aging-Analysis-Notebooks_old/Mansi_Notebooks/scRNA/DEG_Analysis/MS_Sex_DEG_analysis/DEG_cohort_splitby_sex_CSVfiles/Age_yr1_Day0_Female/Activated memory B cell_Y1D0.csv.4 0.9425036\n",
       "/home/jupyter/IH-A-Aging-Analysis-Notebooks_old/Mansi_Notebooks/scRNA/DEG_Analysis/MS_Sex_DEG_analysis/DEG_cohort_splitby_sex_CSVfiles/Age_yr1_Day0_Female/Activated memory B cell_Y1D0.csv.5 0.5810621\n",
       "/home/jupyter/IH-A-Aging-Analysis-Notebooks_old/Mansi_Notebooks/scRNA/DEG_Analysis/MS_Sex_DEG_analysis/DEG_cohort_splitby_sex_CSVfiles/Age_yr1_Day0_Female/Activated memory B cell_Y1D0.csv.6 0.5495004\n",
       "                                                                                                                                                                                              padj    \n",
       "/home/jupyter/IH-A-Aging-Analysis-Notebooks_old/Mansi_Notebooks/scRNA/DEG_Analysis/MS_Sex_DEG_analysis/DEG_cohort_splitby_sex_CSVfiles/Age_yr1_Day0_Female/Activated memory B cell_Y1D0.csv.1 0.999827\n",
       "/home/jupyter/IH-A-Aging-Analysis-Notebooks_old/Mansi_Notebooks/scRNA/DEG_Analysis/MS_Sex_DEG_analysis/DEG_cohort_splitby_sex_CSVfiles/Age_yr1_Day0_Female/Activated memory B cell_Y1D0.csv.2 0.999827\n",
       "/home/jupyter/IH-A-Aging-Analysis-Notebooks_old/Mansi_Notebooks/scRNA/DEG_Analysis/MS_Sex_DEG_analysis/DEG_cohort_splitby_sex_CSVfiles/Age_yr1_Day0_Female/Activated memory B cell_Y1D0.csv.3 0.999827\n",
       "/home/jupyter/IH-A-Aging-Analysis-Notebooks_old/Mansi_Notebooks/scRNA/DEG_Analysis/MS_Sex_DEG_analysis/DEG_cohort_splitby_sex_CSVfiles/Age_yr1_Day0_Female/Activated memory B cell_Y1D0.csv.4 0.999827\n",
       "/home/jupyter/IH-A-Aging-Analysis-Notebooks_old/Mansi_Notebooks/scRNA/DEG_Analysis/MS_Sex_DEG_analysis/DEG_cohort_splitby_sex_CSVfiles/Age_yr1_Day0_Female/Activated memory B cell_Y1D0.csv.5 0.999827\n",
       "/home/jupyter/IH-A-Aging-Analysis-Notebooks_old/Mansi_Notebooks/scRNA/DEG_Analysis/MS_Sex_DEG_analysis/DEG_cohort_splitby_sex_CSVfiles/Age_yr1_Day0_Female/Activated memory B cell_Y1D0.csv.6 0.999827\n",
       "                                                                                                                                                                                              celltype               \n",
       "/home/jupyter/IH-A-Aging-Analysis-Notebooks_old/Mansi_Notebooks/scRNA/DEG_Analysis/MS_Sex_DEG_analysis/DEG_cohort_splitby_sex_CSVfiles/Age_yr1_Day0_Female/Activated memory B cell_Y1D0.csv.1 Activated memory B cell\n",
       "/home/jupyter/IH-A-Aging-Analysis-Notebooks_old/Mansi_Notebooks/scRNA/DEG_Analysis/MS_Sex_DEG_analysis/DEG_cohort_splitby_sex_CSVfiles/Age_yr1_Day0_Female/Activated memory B cell_Y1D0.csv.2 Activated memory B cell\n",
       "/home/jupyter/IH-A-Aging-Analysis-Notebooks_old/Mansi_Notebooks/scRNA/DEG_Analysis/MS_Sex_DEG_analysis/DEG_cohort_splitby_sex_CSVfiles/Age_yr1_Day0_Female/Activated memory B cell_Y1D0.csv.3 Activated memory B cell\n",
       "/home/jupyter/IH-A-Aging-Analysis-Notebooks_old/Mansi_Notebooks/scRNA/DEG_Analysis/MS_Sex_DEG_analysis/DEG_cohort_splitby_sex_CSVfiles/Age_yr1_Day0_Female/Activated memory B cell_Y1D0.csv.4 Activated memory B cell\n",
       "/home/jupyter/IH-A-Aging-Analysis-Notebooks_old/Mansi_Notebooks/scRNA/DEG_Analysis/MS_Sex_DEG_analysis/DEG_cohort_splitby_sex_CSVfiles/Age_yr1_Day0_Female/Activated memory B cell_Y1D0.csv.5 Activated memory B cell\n",
       "/home/jupyter/IH-A-Aging-Analysis-Notebooks_old/Mansi_Notebooks/scRNA/DEG_Analysis/MS_Sex_DEG_analysis/DEG_cohort_splitby_sex_CSVfiles/Age_yr1_Day0_Female/Activated memory B cell_Y1D0.csv.6 Activated memory B cell\n",
       "                                                                                                                                                                                              Direction\n",
       "/home/jupyter/IH-A-Aging-Analysis-Notebooks_old/Mansi_Notebooks/scRNA/DEG_Analysis/MS_Sex_DEG_analysis/DEG_cohort_splitby_sex_CSVfiles/Age_yr1_Day0_Female/Activated memory B cell_Y1D0.csv.1 BR1      \n",
       "/home/jupyter/IH-A-Aging-Analysis-Notebooks_old/Mansi_Notebooks/scRNA/DEG_Analysis/MS_Sex_DEG_analysis/DEG_cohort_splitby_sex_CSVfiles/Age_yr1_Day0_Female/Activated memory B cell_Y1D0.csv.2 BR1      \n",
       "/home/jupyter/IH-A-Aging-Analysis-Notebooks_old/Mansi_Notebooks/scRNA/DEG_Analysis/MS_Sex_DEG_analysis/DEG_cohort_splitby_sex_CSVfiles/Age_yr1_Day0_Female/Activated memory B cell_Y1D0.csv.3 BR1      \n",
       "/home/jupyter/IH-A-Aging-Analysis-Notebooks_old/Mansi_Notebooks/scRNA/DEG_Analysis/MS_Sex_DEG_analysis/DEG_cohort_splitby_sex_CSVfiles/Age_yr1_Day0_Female/Activated memory B cell_Y1D0.csv.4 BR1      \n",
       "/home/jupyter/IH-A-Aging-Analysis-Notebooks_old/Mansi_Notebooks/scRNA/DEG_Analysis/MS_Sex_DEG_analysis/DEG_cohort_splitby_sex_CSVfiles/Age_yr1_Day0_Female/Activated memory B cell_Y1D0.csv.5 BR2      \n",
       "/home/jupyter/IH-A-Aging-Analysis-Notebooks_old/Mansi_Notebooks/scRNA/DEG_Analysis/MS_Sex_DEG_analysis/DEG_cohort_splitby_sex_CSVfiles/Age_yr1_Day0_Female/Activated memory B cell_Y1D0.csv.6 BR1      \n",
       "                                                                                                                                                                                              Year\n",
       "/home/jupyter/IH-A-Aging-Analysis-Notebooks_old/Mansi_Notebooks/scRNA/DEG_Analysis/MS_Sex_DEG_analysis/DEG_cohort_splitby_sex_CSVfiles/Age_yr1_Day0_Female/Activated memory B cell_Y1D0.csv.1 Y1  \n",
       "/home/jupyter/IH-A-Aging-Analysis-Notebooks_old/Mansi_Notebooks/scRNA/DEG_Analysis/MS_Sex_DEG_analysis/DEG_cohort_splitby_sex_CSVfiles/Age_yr1_Day0_Female/Activated memory B cell_Y1D0.csv.2 Y1  \n",
       "/home/jupyter/IH-A-Aging-Analysis-Notebooks_old/Mansi_Notebooks/scRNA/DEG_Analysis/MS_Sex_DEG_analysis/DEG_cohort_splitby_sex_CSVfiles/Age_yr1_Day0_Female/Activated memory B cell_Y1D0.csv.3 Y1  \n",
       "/home/jupyter/IH-A-Aging-Analysis-Notebooks_old/Mansi_Notebooks/scRNA/DEG_Analysis/MS_Sex_DEG_analysis/DEG_cohort_splitby_sex_CSVfiles/Age_yr1_Day0_Female/Activated memory B cell_Y1D0.csv.4 Y1  \n",
       "/home/jupyter/IH-A-Aging-Analysis-Notebooks_old/Mansi_Notebooks/scRNA/DEG_Analysis/MS_Sex_DEG_analysis/DEG_cohort_splitby_sex_CSVfiles/Age_yr1_Day0_Female/Activated memory B cell_Y1D0.csv.5 Y1  \n",
       "/home/jupyter/IH-A-Aging-Analysis-Notebooks_old/Mansi_Notebooks/scRNA/DEG_Analysis/MS_Sex_DEG_analysis/DEG_cohort_splitby_sex_CSVfiles/Age_yr1_Day0_Female/Activated memory B cell_Y1D0.csv.6 Y1  "
      ]
     },
     "metadata": {},
     "output_type": "display_data"
    },
    {
     "data": {
      "text/html": [
       "<style>\n",
       ".list-inline {list-style: none; margin:0; padding: 0}\n",
       ".list-inline>li {display: inline-block}\n",
       ".list-inline>li:not(:last-child)::after {content: \"\\00b7\"; padding: 0 .5ex}\n",
       "</style>\n",
       "<ol class=list-inline><li>372411</li><li>10</li></ol>\n"
      ],
      "text/latex": [
       "\\begin{enumerate*}\n",
       "\\item 372411\n",
       "\\item 10\n",
       "\\end{enumerate*}\n"
      ],
      "text/markdown": [
       "1. 372411\n",
       "2. 10\n",
       "\n",
       "\n"
      ],
      "text/plain": [
       "[1] 372411     10"
      ]
     },
     "metadata": {},
     "output_type": "display_data"
    }
   ],
   "source": [
    "# Merge all data frames in the list vertically\n",
    "merged_data_female <- do.call(rbind, data_list)\n",
    "head(merged_data_female)\n",
    "dim(merged_data_female)"
   ]
  },
  {
   "cell_type": "code",
   "execution_count": 21,
   "id": "35a9daf5-7eae-4ba5-9503-23c8af6e6025",
   "metadata": {
    "tags": []
   },
   "outputs": [],
   "source": [
    "merged_data_female$Sex <- \"Female\""
   ]
  },
  {
   "cell_type": "code",
   "execution_count": 22,
   "id": "e41ae780-0369-4a68-8ace-9a2f5e95f699",
   "metadata": {
    "tags": []
   },
   "outputs": [
    {
     "data": {
      "text/html": [
       "<table class=\"dataframe\">\n",
       "<caption>A data.frame: 6 × 11</caption>\n",
       "<thead>\n",
       "\t<tr><th></th><th scope=col>X</th><th scope=col>baseMean</th><th scope=col>log2FoldChange</th><th scope=col>lfcSE</th><th scope=col>stat</th><th scope=col>pvalue</th><th scope=col>padj</th><th scope=col>celltype</th><th scope=col>Direction</th><th scope=col>Year</th><th scope=col>Sex</th></tr>\n",
       "\t<tr><th></th><th scope=col>&lt;chr&gt;</th><th scope=col>&lt;dbl&gt;</th><th scope=col>&lt;dbl&gt;</th><th scope=col>&lt;dbl&gt;</th><th scope=col>&lt;dbl&gt;</th><th scope=col>&lt;dbl&gt;</th><th scope=col>&lt;dbl&gt;</th><th scope=col>&lt;chr&gt;</th><th scope=col>&lt;chr&gt;</th><th scope=col>&lt;chr&gt;</th><th scope=col>&lt;chr&gt;</th></tr>\n",
       "</thead>\n",
       "<tbody>\n",
       "\t<tr><th scope=row>/home/jupyter/IH-A-Aging-Analysis-Notebooks_old/Mansi_Notebooks/scRNA/DEG_Analysis/MS_Sex_DEG_analysis/DEG_cohort_splitby_sex_CSVfiles/Age_yr1_Day0_Female/Activated memory B cell_Y1D0.csv.1</th><td>NOC2L  </td><td>0.6755194</td><td>-0.63391584</td><td>0.6433089</td><td>-0.98539890</td><td>0.3244282</td><td>0.999827</td><td>Activated memory B cell</td><td>BR1</td><td>Y1</td><td>Female</td></tr>\n",
       "\t<tr><th scope=row>/home/jupyter/IH-A-Aging-Analysis-Notebooks_old/Mansi_Notebooks/scRNA/DEG_Analysis/MS_Sex_DEG_analysis/DEG_cohort_splitby_sex_CSVfiles/Age_yr1_Day0_Female/Activated memory B cell_Y1D0.csv.2</th><td>ISG15  </td><td>1.0695630</td><td>-0.17236999</td><td>0.5515123</td><td>-0.31254059</td><td>0.7546297</td><td>0.999827</td><td>Activated memory B cell</td><td>BR1</td><td>Y1</td><td>Female</td></tr>\n",
       "\t<tr><th scope=row>/home/jupyter/IH-A-Aging-Analysis-Notebooks_old/Mansi_Notebooks/scRNA/DEG_Analysis/MS_Sex_DEG_analysis/DEG_cohort_splitby_sex_CSVfiles/Age_yr1_Day0_Female/Activated memory B cell_Y1D0.csv.3</th><td>SDF4   </td><td>0.8391485</td><td>-0.10939778</td><td>0.5986429</td><td>-0.18274296</td><td>0.8549997</td><td>0.999827</td><td>Activated memory B cell</td><td>BR1</td><td>Y1</td><td>Female</td></tr>\n",
       "\t<tr><th scope=row>/home/jupyter/IH-A-Aging-Analysis-Notebooks_old/Mansi_Notebooks/scRNA/DEG_Analysis/MS_Sex_DEG_analysis/DEG_cohort_splitby_sex_CSVfiles/Age_yr1_Day0_Female/Activated memory B cell_Y1D0.csv.4</th><td>B3GALT6</td><td>0.4226833</td><td>-0.05320132</td><td>0.7376413</td><td>-0.07212356</td><td>0.9425036</td><td>0.999827</td><td>Activated memory B cell</td><td>BR1</td><td>Y1</td><td>Female</td></tr>\n",
       "\t<tr><th scope=row>/home/jupyter/IH-A-Aging-Analysis-Notebooks_old/Mansi_Notebooks/scRNA/DEG_Analysis/MS_Sex_DEG_analysis/DEG_cohort_splitby_sex_CSVfiles/Age_yr1_Day0_Female/Activated memory B cell_Y1D0.csv.5</th><td>UBE2J2 </td><td>1.1380289</td><td> 0.29006213</td><td>0.5256330</td><td> 0.55183395</td><td>0.5810621</td><td>0.999827</td><td>Activated memory B cell</td><td>BR2</td><td>Y1</td><td>Female</td></tr>\n",
       "\t<tr><th scope=row>/home/jupyter/IH-A-Aging-Analysis-Notebooks_old/Mansi_Notebooks/scRNA/DEG_Analysis/MS_Sex_DEG_analysis/DEG_cohort_splitby_sex_CSVfiles/Age_yr1_Day0_Female/Activated memory B cell_Y1D0.csv.6</th><td>INTS11 </td><td>0.8266093</td><td>-0.34363920</td><td>0.5741588</td><td>-0.59850896</td><td>0.5495004</td><td>0.999827</td><td>Activated memory B cell</td><td>BR1</td><td>Y1</td><td>Female</td></tr>\n",
       "</tbody>\n",
       "</table>\n"
      ],
      "text/latex": [
       "A data.frame: 6 × 11\n",
       "\\begin{tabular}{r|lllllllllll}\n",
       "  & X & baseMean & log2FoldChange & lfcSE & stat & pvalue & padj & celltype & Direction & Year & Sex\\\\\n",
       "  & <chr> & <dbl> & <dbl> & <dbl> & <dbl> & <dbl> & <dbl> & <chr> & <chr> & <chr> & <chr>\\\\\n",
       "\\hline\n",
       "\t/home/jupyter/IH-A-Aging-Analysis-Notebooks\\_old/Mansi\\_Notebooks/scRNA/DEG\\_Analysis/MS\\_Sex\\_DEG\\_analysis/DEG\\_cohort\\_splitby\\_sex\\_CSVfiles/Age\\_yr1\\_Day0\\_Female/Activated memory B cell\\_Y1D0.csv.1 & NOC2L   & 0.6755194 & -0.63391584 & 0.6433089 & -0.98539890 & 0.3244282 & 0.999827 & Activated memory B cell & BR1 & Y1 & Female\\\\\n",
       "\t/home/jupyter/IH-A-Aging-Analysis-Notebooks\\_old/Mansi\\_Notebooks/scRNA/DEG\\_Analysis/MS\\_Sex\\_DEG\\_analysis/DEG\\_cohort\\_splitby\\_sex\\_CSVfiles/Age\\_yr1\\_Day0\\_Female/Activated memory B cell\\_Y1D0.csv.2 & ISG15   & 1.0695630 & -0.17236999 & 0.5515123 & -0.31254059 & 0.7546297 & 0.999827 & Activated memory B cell & BR1 & Y1 & Female\\\\\n",
       "\t/home/jupyter/IH-A-Aging-Analysis-Notebooks\\_old/Mansi\\_Notebooks/scRNA/DEG\\_Analysis/MS\\_Sex\\_DEG\\_analysis/DEG\\_cohort\\_splitby\\_sex\\_CSVfiles/Age\\_yr1\\_Day0\\_Female/Activated memory B cell\\_Y1D0.csv.3 & SDF4    & 0.8391485 & -0.10939778 & 0.5986429 & -0.18274296 & 0.8549997 & 0.999827 & Activated memory B cell & BR1 & Y1 & Female\\\\\n",
       "\t/home/jupyter/IH-A-Aging-Analysis-Notebooks\\_old/Mansi\\_Notebooks/scRNA/DEG\\_Analysis/MS\\_Sex\\_DEG\\_analysis/DEG\\_cohort\\_splitby\\_sex\\_CSVfiles/Age\\_yr1\\_Day0\\_Female/Activated memory B cell\\_Y1D0.csv.4 & B3GALT6 & 0.4226833 & -0.05320132 & 0.7376413 & -0.07212356 & 0.9425036 & 0.999827 & Activated memory B cell & BR1 & Y1 & Female\\\\\n",
       "\t/home/jupyter/IH-A-Aging-Analysis-Notebooks\\_old/Mansi\\_Notebooks/scRNA/DEG\\_Analysis/MS\\_Sex\\_DEG\\_analysis/DEG\\_cohort\\_splitby\\_sex\\_CSVfiles/Age\\_yr1\\_Day0\\_Female/Activated memory B cell\\_Y1D0.csv.5 & UBE2J2  & 1.1380289 &  0.29006213 & 0.5256330 &  0.55183395 & 0.5810621 & 0.999827 & Activated memory B cell & BR2 & Y1 & Female\\\\\n",
       "\t/home/jupyter/IH-A-Aging-Analysis-Notebooks\\_old/Mansi\\_Notebooks/scRNA/DEG\\_Analysis/MS\\_Sex\\_DEG\\_analysis/DEG\\_cohort\\_splitby\\_sex\\_CSVfiles/Age\\_yr1\\_Day0\\_Female/Activated memory B cell\\_Y1D0.csv.6 & INTS11  & 0.8266093 & -0.34363920 & 0.5741588 & -0.59850896 & 0.5495004 & 0.999827 & Activated memory B cell & BR1 & Y1 & Female\\\\\n",
       "\\end{tabular}\n"
      ],
      "text/markdown": [
       "\n",
       "A data.frame: 6 × 11\n",
       "\n",
       "| <!--/--> | X &lt;chr&gt; | baseMean &lt;dbl&gt; | log2FoldChange &lt;dbl&gt; | lfcSE &lt;dbl&gt; | stat &lt;dbl&gt; | pvalue &lt;dbl&gt; | padj &lt;dbl&gt; | celltype &lt;chr&gt; | Direction &lt;chr&gt; | Year &lt;chr&gt; | Sex &lt;chr&gt; |\n",
       "|---|---|---|---|---|---|---|---|---|---|---|---|\n",
       "| /home/jupyter/IH-A-Aging-Analysis-Notebooks_old/Mansi_Notebooks/scRNA/DEG_Analysis/MS_Sex_DEG_analysis/DEG_cohort_splitby_sex_CSVfiles/Age_yr1_Day0_Female/Activated memory B cell_Y1D0.csv.1 | NOC2L   | 0.6755194 | -0.63391584 | 0.6433089 | -0.98539890 | 0.3244282 | 0.999827 | Activated memory B cell | BR1 | Y1 | Female |\n",
       "| /home/jupyter/IH-A-Aging-Analysis-Notebooks_old/Mansi_Notebooks/scRNA/DEG_Analysis/MS_Sex_DEG_analysis/DEG_cohort_splitby_sex_CSVfiles/Age_yr1_Day0_Female/Activated memory B cell_Y1D0.csv.2 | ISG15   | 1.0695630 | -0.17236999 | 0.5515123 | -0.31254059 | 0.7546297 | 0.999827 | Activated memory B cell | BR1 | Y1 | Female |\n",
       "| /home/jupyter/IH-A-Aging-Analysis-Notebooks_old/Mansi_Notebooks/scRNA/DEG_Analysis/MS_Sex_DEG_analysis/DEG_cohort_splitby_sex_CSVfiles/Age_yr1_Day0_Female/Activated memory B cell_Y1D0.csv.3 | SDF4    | 0.8391485 | -0.10939778 | 0.5986429 | -0.18274296 | 0.8549997 | 0.999827 | Activated memory B cell | BR1 | Y1 | Female |\n",
       "| /home/jupyter/IH-A-Aging-Analysis-Notebooks_old/Mansi_Notebooks/scRNA/DEG_Analysis/MS_Sex_DEG_analysis/DEG_cohort_splitby_sex_CSVfiles/Age_yr1_Day0_Female/Activated memory B cell_Y1D0.csv.4 | B3GALT6 | 0.4226833 | -0.05320132 | 0.7376413 | -0.07212356 | 0.9425036 | 0.999827 | Activated memory B cell | BR1 | Y1 | Female |\n",
       "| /home/jupyter/IH-A-Aging-Analysis-Notebooks_old/Mansi_Notebooks/scRNA/DEG_Analysis/MS_Sex_DEG_analysis/DEG_cohort_splitby_sex_CSVfiles/Age_yr1_Day0_Female/Activated memory B cell_Y1D0.csv.5 | UBE2J2  | 1.1380289 |  0.29006213 | 0.5256330 |  0.55183395 | 0.5810621 | 0.999827 | Activated memory B cell | BR2 | Y1 | Female |\n",
       "| /home/jupyter/IH-A-Aging-Analysis-Notebooks_old/Mansi_Notebooks/scRNA/DEG_Analysis/MS_Sex_DEG_analysis/DEG_cohort_splitby_sex_CSVfiles/Age_yr1_Day0_Female/Activated memory B cell_Y1D0.csv.6 | INTS11  | 0.8266093 | -0.34363920 | 0.5741588 | -0.59850896 | 0.5495004 | 0.999827 | Activated memory B cell | BR1 | Y1 | Female |\n",
       "\n"
      ],
      "text/plain": [
       "                                                                                                                                                                                              X      \n",
       "/home/jupyter/IH-A-Aging-Analysis-Notebooks_old/Mansi_Notebooks/scRNA/DEG_Analysis/MS_Sex_DEG_analysis/DEG_cohort_splitby_sex_CSVfiles/Age_yr1_Day0_Female/Activated memory B cell_Y1D0.csv.1 NOC2L  \n",
       "/home/jupyter/IH-A-Aging-Analysis-Notebooks_old/Mansi_Notebooks/scRNA/DEG_Analysis/MS_Sex_DEG_analysis/DEG_cohort_splitby_sex_CSVfiles/Age_yr1_Day0_Female/Activated memory B cell_Y1D0.csv.2 ISG15  \n",
       "/home/jupyter/IH-A-Aging-Analysis-Notebooks_old/Mansi_Notebooks/scRNA/DEG_Analysis/MS_Sex_DEG_analysis/DEG_cohort_splitby_sex_CSVfiles/Age_yr1_Day0_Female/Activated memory B cell_Y1D0.csv.3 SDF4   \n",
       "/home/jupyter/IH-A-Aging-Analysis-Notebooks_old/Mansi_Notebooks/scRNA/DEG_Analysis/MS_Sex_DEG_analysis/DEG_cohort_splitby_sex_CSVfiles/Age_yr1_Day0_Female/Activated memory B cell_Y1D0.csv.4 B3GALT6\n",
       "/home/jupyter/IH-A-Aging-Analysis-Notebooks_old/Mansi_Notebooks/scRNA/DEG_Analysis/MS_Sex_DEG_analysis/DEG_cohort_splitby_sex_CSVfiles/Age_yr1_Day0_Female/Activated memory B cell_Y1D0.csv.5 UBE2J2 \n",
       "/home/jupyter/IH-A-Aging-Analysis-Notebooks_old/Mansi_Notebooks/scRNA/DEG_Analysis/MS_Sex_DEG_analysis/DEG_cohort_splitby_sex_CSVfiles/Age_yr1_Day0_Female/Activated memory B cell_Y1D0.csv.6 INTS11 \n",
       "                                                                                                                                                                                              baseMean \n",
       "/home/jupyter/IH-A-Aging-Analysis-Notebooks_old/Mansi_Notebooks/scRNA/DEG_Analysis/MS_Sex_DEG_analysis/DEG_cohort_splitby_sex_CSVfiles/Age_yr1_Day0_Female/Activated memory B cell_Y1D0.csv.1 0.6755194\n",
       "/home/jupyter/IH-A-Aging-Analysis-Notebooks_old/Mansi_Notebooks/scRNA/DEG_Analysis/MS_Sex_DEG_analysis/DEG_cohort_splitby_sex_CSVfiles/Age_yr1_Day0_Female/Activated memory B cell_Y1D0.csv.2 1.0695630\n",
       "/home/jupyter/IH-A-Aging-Analysis-Notebooks_old/Mansi_Notebooks/scRNA/DEG_Analysis/MS_Sex_DEG_analysis/DEG_cohort_splitby_sex_CSVfiles/Age_yr1_Day0_Female/Activated memory B cell_Y1D0.csv.3 0.8391485\n",
       "/home/jupyter/IH-A-Aging-Analysis-Notebooks_old/Mansi_Notebooks/scRNA/DEG_Analysis/MS_Sex_DEG_analysis/DEG_cohort_splitby_sex_CSVfiles/Age_yr1_Day0_Female/Activated memory B cell_Y1D0.csv.4 0.4226833\n",
       "/home/jupyter/IH-A-Aging-Analysis-Notebooks_old/Mansi_Notebooks/scRNA/DEG_Analysis/MS_Sex_DEG_analysis/DEG_cohort_splitby_sex_CSVfiles/Age_yr1_Day0_Female/Activated memory B cell_Y1D0.csv.5 1.1380289\n",
       "/home/jupyter/IH-A-Aging-Analysis-Notebooks_old/Mansi_Notebooks/scRNA/DEG_Analysis/MS_Sex_DEG_analysis/DEG_cohort_splitby_sex_CSVfiles/Age_yr1_Day0_Female/Activated memory B cell_Y1D0.csv.6 0.8266093\n",
       "                                                                                                                                                                                              log2FoldChange\n",
       "/home/jupyter/IH-A-Aging-Analysis-Notebooks_old/Mansi_Notebooks/scRNA/DEG_Analysis/MS_Sex_DEG_analysis/DEG_cohort_splitby_sex_CSVfiles/Age_yr1_Day0_Female/Activated memory B cell_Y1D0.csv.1 -0.63391584   \n",
       "/home/jupyter/IH-A-Aging-Analysis-Notebooks_old/Mansi_Notebooks/scRNA/DEG_Analysis/MS_Sex_DEG_analysis/DEG_cohort_splitby_sex_CSVfiles/Age_yr1_Day0_Female/Activated memory B cell_Y1D0.csv.2 -0.17236999   \n",
       "/home/jupyter/IH-A-Aging-Analysis-Notebooks_old/Mansi_Notebooks/scRNA/DEG_Analysis/MS_Sex_DEG_analysis/DEG_cohort_splitby_sex_CSVfiles/Age_yr1_Day0_Female/Activated memory B cell_Y1D0.csv.3 -0.10939778   \n",
       "/home/jupyter/IH-A-Aging-Analysis-Notebooks_old/Mansi_Notebooks/scRNA/DEG_Analysis/MS_Sex_DEG_analysis/DEG_cohort_splitby_sex_CSVfiles/Age_yr1_Day0_Female/Activated memory B cell_Y1D0.csv.4 -0.05320132   \n",
       "/home/jupyter/IH-A-Aging-Analysis-Notebooks_old/Mansi_Notebooks/scRNA/DEG_Analysis/MS_Sex_DEG_analysis/DEG_cohort_splitby_sex_CSVfiles/Age_yr1_Day0_Female/Activated memory B cell_Y1D0.csv.5  0.29006213   \n",
       "/home/jupyter/IH-A-Aging-Analysis-Notebooks_old/Mansi_Notebooks/scRNA/DEG_Analysis/MS_Sex_DEG_analysis/DEG_cohort_splitby_sex_CSVfiles/Age_yr1_Day0_Female/Activated memory B cell_Y1D0.csv.6 -0.34363920   \n",
       "                                                                                                                                                                                              lfcSE    \n",
       "/home/jupyter/IH-A-Aging-Analysis-Notebooks_old/Mansi_Notebooks/scRNA/DEG_Analysis/MS_Sex_DEG_analysis/DEG_cohort_splitby_sex_CSVfiles/Age_yr1_Day0_Female/Activated memory B cell_Y1D0.csv.1 0.6433089\n",
       "/home/jupyter/IH-A-Aging-Analysis-Notebooks_old/Mansi_Notebooks/scRNA/DEG_Analysis/MS_Sex_DEG_analysis/DEG_cohort_splitby_sex_CSVfiles/Age_yr1_Day0_Female/Activated memory B cell_Y1D0.csv.2 0.5515123\n",
       "/home/jupyter/IH-A-Aging-Analysis-Notebooks_old/Mansi_Notebooks/scRNA/DEG_Analysis/MS_Sex_DEG_analysis/DEG_cohort_splitby_sex_CSVfiles/Age_yr1_Day0_Female/Activated memory B cell_Y1D0.csv.3 0.5986429\n",
       "/home/jupyter/IH-A-Aging-Analysis-Notebooks_old/Mansi_Notebooks/scRNA/DEG_Analysis/MS_Sex_DEG_analysis/DEG_cohort_splitby_sex_CSVfiles/Age_yr1_Day0_Female/Activated memory B cell_Y1D0.csv.4 0.7376413\n",
       "/home/jupyter/IH-A-Aging-Analysis-Notebooks_old/Mansi_Notebooks/scRNA/DEG_Analysis/MS_Sex_DEG_analysis/DEG_cohort_splitby_sex_CSVfiles/Age_yr1_Day0_Female/Activated memory B cell_Y1D0.csv.5 0.5256330\n",
       "/home/jupyter/IH-A-Aging-Analysis-Notebooks_old/Mansi_Notebooks/scRNA/DEG_Analysis/MS_Sex_DEG_analysis/DEG_cohort_splitby_sex_CSVfiles/Age_yr1_Day0_Female/Activated memory B cell_Y1D0.csv.6 0.5741588\n",
       "                                                                                                                                                                                              stat       \n",
       "/home/jupyter/IH-A-Aging-Analysis-Notebooks_old/Mansi_Notebooks/scRNA/DEG_Analysis/MS_Sex_DEG_analysis/DEG_cohort_splitby_sex_CSVfiles/Age_yr1_Day0_Female/Activated memory B cell_Y1D0.csv.1 -0.98539890\n",
       "/home/jupyter/IH-A-Aging-Analysis-Notebooks_old/Mansi_Notebooks/scRNA/DEG_Analysis/MS_Sex_DEG_analysis/DEG_cohort_splitby_sex_CSVfiles/Age_yr1_Day0_Female/Activated memory B cell_Y1D0.csv.2 -0.31254059\n",
       "/home/jupyter/IH-A-Aging-Analysis-Notebooks_old/Mansi_Notebooks/scRNA/DEG_Analysis/MS_Sex_DEG_analysis/DEG_cohort_splitby_sex_CSVfiles/Age_yr1_Day0_Female/Activated memory B cell_Y1D0.csv.3 -0.18274296\n",
       "/home/jupyter/IH-A-Aging-Analysis-Notebooks_old/Mansi_Notebooks/scRNA/DEG_Analysis/MS_Sex_DEG_analysis/DEG_cohort_splitby_sex_CSVfiles/Age_yr1_Day0_Female/Activated memory B cell_Y1D0.csv.4 -0.07212356\n",
       "/home/jupyter/IH-A-Aging-Analysis-Notebooks_old/Mansi_Notebooks/scRNA/DEG_Analysis/MS_Sex_DEG_analysis/DEG_cohort_splitby_sex_CSVfiles/Age_yr1_Day0_Female/Activated memory B cell_Y1D0.csv.5  0.55183395\n",
       "/home/jupyter/IH-A-Aging-Analysis-Notebooks_old/Mansi_Notebooks/scRNA/DEG_Analysis/MS_Sex_DEG_analysis/DEG_cohort_splitby_sex_CSVfiles/Age_yr1_Day0_Female/Activated memory B cell_Y1D0.csv.6 -0.59850896\n",
       "                                                                                                                                                                                              pvalue   \n",
       "/home/jupyter/IH-A-Aging-Analysis-Notebooks_old/Mansi_Notebooks/scRNA/DEG_Analysis/MS_Sex_DEG_analysis/DEG_cohort_splitby_sex_CSVfiles/Age_yr1_Day0_Female/Activated memory B cell_Y1D0.csv.1 0.3244282\n",
       "/home/jupyter/IH-A-Aging-Analysis-Notebooks_old/Mansi_Notebooks/scRNA/DEG_Analysis/MS_Sex_DEG_analysis/DEG_cohort_splitby_sex_CSVfiles/Age_yr1_Day0_Female/Activated memory B cell_Y1D0.csv.2 0.7546297\n",
       "/home/jupyter/IH-A-Aging-Analysis-Notebooks_old/Mansi_Notebooks/scRNA/DEG_Analysis/MS_Sex_DEG_analysis/DEG_cohort_splitby_sex_CSVfiles/Age_yr1_Day0_Female/Activated memory B cell_Y1D0.csv.3 0.8549997\n",
       "/home/jupyter/IH-A-Aging-Analysis-Notebooks_old/Mansi_Notebooks/scRNA/DEG_Analysis/MS_Sex_DEG_analysis/DEG_cohort_splitby_sex_CSVfiles/Age_yr1_Day0_Female/Activated memory B cell_Y1D0.csv.4 0.9425036\n",
       "/home/jupyter/IH-A-Aging-Analysis-Notebooks_old/Mansi_Notebooks/scRNA/DEG_Analysis/MS_Sex_DEG_analysis/DEG_cohort_splitby_sex_CSVfiles/Age_yr1_Day0_Female/Activated memory B cell_Y1D0.csv.5 0.5810621\n",
       "/home/jupyter/IH-A-Aging-Analysis-Notebooks_old/Mansi_Notebooks/scRNA/DEG_Analysis/MS_Sex_DEG_analysis/DEG_cohort_splitby_sex_CSVfiles/Age_yr1_Day0_Female/Activated memory B cell_Y1D0.csv.6 0.5495004\n",
       "                                                                                                                                                                                              padj    \n",
       "/home/jupyter/IH-A-Aging-Analysis-Notebooks_old/Mansi_Notebooks/scRNA/DEG_Analysis/MS_Sex_DEG_analysis/DEG_cohort_splitby_sex_CSVfiles/Age_yr1_Day0_Female/Activated memory B cell_Y1D0.csv.1 0.999827\n",
       "/home/jupyter/IH-A-Aging-Analysis-Notebooks_old/Mansi_Notebooks/scRNA/DEG_Analysis/MS_Sex_DEG_analysis/DEG_cohort_splitby_sex_CSVfiles/Age_yr1_Day0_Female/Activated memory B cell_Y1D0.csv.2 0.999827\n",
       "/home/jupyter/IH-A-Aging-Analysis-Notebooks_old/Mansi_Notebooks/scRNA/DEG_Analysis/MS_Sex_DEG_analysis/DEG_cohort_splitby_sex_CSVfiles/Age_yr1_Day0_Female/Activated memory B cell_Y1D0.csv.3 0.999827\n",
       "/home/jupyter/IH-A-Aging-Analysis-Notebooks_old/Mansi_Notebooks/scRNA/DEG_Analysis/MS_Sex_DEG_analysis/DEG_cohort_splitby_sex_CSVfiles/Age_yr1_Day0_Female/Activated memory B cell_Y1D0.csv.4 0.999827\n",
       "/home/jupyter/IH-A-Aging-Analysis-Notebooks_old/Mansi_Notebooks/scRNA/DEG_Analysis/MS_Sex_DEG_analysis/DEG_cohort_splitby_sex_CSVfiles/Age_yr1_Day0_Female/Activated memory B cell_Y1D0.csv.5 0.999827\n",
       "/home/jupyter/IH-A-Aging-Analysis-Notebooks_old/Mansi_Notebooks/scRNA/DEG_Analysis/MS_Sex_DEG_analysis/DEG_cohort_splitby_sex_CSVfiles/Age_yr1_Day0_Female/Activated memory B cell_Y1D0.csv.6 0.999827\n",
       "                                                                                                                                                                                              celltype               \n",
       "/home/jupyter/IH-A-Aging-Analysis-Notebooks_old/Mansi_Notebooks/scRNA/DEG_Analysis/MS_Sex_DEG_analysis/DEG_cohort_splitby_sex_CSVfiles/Age_yr1_Day0_Female/Activated memory B cell_Y1D0.csv.1 Activated memory B cell\n",
       "/home/jupyter/IH-A-Aging-Analysis-Notebooks_old/Mansi_Notebooks/scRNA/DEG_Analysis/MS_Sex_DEG_analysis/DEG_cohort_splitby_sex_CSVfiles/Age_yr1_Day0_Female/Activated memory B cell_Y1D0.csv.2 Activated memory B cell\n",
       "/home/jupyter/IH-A-Aging-Analysis-Notebooks_old/Mansi_Notebooks/scRNA/DEG_Analysis/MS_Sex_DEG_analysis/DEG_cohort_splitby_sex_CSVfiles/Age_yr1_Day0_Female/Activated memory B cell_Y1D0.csv.3 Activated memory B cell\n",
       "/home/jupyter/IH-A-Aging-Analysis-Notebooks_old/Mansi_Notebooks/scRNA/DEG_Analysis/MS_Sex_DEG_analysis/DEG_cohort_splitby_sex_CSVfiles/Age_yr1_Day0_Female/Activated memory B cell_Y1D0.csv.4 Activated memory B cell\n",
       "/home/jupyter/IH-A-Aging-Analysis-Notebooks_old/Mansi_Notebooks/scRNA/DEG_Analysis/MS_Sex_DEG_analysis/DEG_cohort_splitby_sex_CSVfiles/Age_yr1_Day0_Female/Activated memory B cell_Y1D0.csv.5 Activated memory B cell\n",
       "/home/jupyter/IH-A-Aging-Analysis-Notebooks_old/Mansi_Notebooks/scRNA/DEG_Analysis/MS_Sex_DEG_analysis/DEG_cohort_splitby_sex_CSVfiles/Age_yr1_Day0_Female/Activated memory B cell_Y1D0.csv.6 Activated memory B cell\n",
       "                                                                                                                                                                                              Direction\n",
       "/home/jupyter/IH-A-Aging-Analysis-Notebooks_old/Mansi_Notebooks/scRNA/DEG_Analysis/MS_Sex_DEG_analysis/DEG_cohort_splitby_sex_CSVfiles/Age_yr1_Day0_Female/Activated memory B cell_Y1D0.csv.1 BR1      \n",
       "/home/jupyter/IH-A-Aging-Analysis-Notebooks_old/Mansi_Notebooks/scRNA/DEG_Analysis/MS_Sex_DEG_analysis/DEG_cohort_splitby_sex_CSVfiles/Age_yr1_Day0_Female/Activated memory B cell_Y1D0.csv.2 BR1      \n",
       "/home/jupyter/IH-A-Aging-Analysis-Notebooks_old/Mansi_Notebooks/scRNA/DEG_Analysis/MS_Sex_DEG_analysis/DEG_cohort_splitby_sex_CSVfiles/Age_yr1_Day0_Female/Activated memory B cell_Y1D0.csv.3 BR1      \n",
       "/home/jupyter/IH-A-Aging-Analysis-Notebooks_old/Mansi_Notebooks/scRNA/DEG_Analysis/MS_Sex_DEG_analysis/DEG_cohort_splitby_sex_CSVfiles/Age_yr1_Day0_Female/Activated memory B cell_Y1D0.csv.4 BR1      \n",
       "/home/jupyter/IH-A-Aging-Analysis-Notebooks_old/Mansi_Notebooks/scRNA/DEG_Analysis/MS_Sex_DEG_analysis/DEG_cohort_splitby_sex_CSVfiles/Age_yr1_Day0_Female/Activated memory B cell_Y1D0.csv.5 BR2      \n",
       "/home/jupyter/IH-A-Aging-Analysis-Notebooks_old/Mansi_Notebooks/scRNA/DEG_Analysis/MS_Sex_DEG_analysis/DEG_cohort_splitby_sex_CSVfiles/Age_yr1_Day0_Female/Activated memory B cell_Y1D0.csv.6 BR1      \n",
       "                                                                                                                                                                                              Year\n",
       "/home/jupyter/IH-A-Aging-Analysis-Notebooks_old/Mansi_Notebooks/scRNA/DEG_Analysis/MS_Sex_DEG_analysis/DEG_cohort_splitby_sex_CSVfiles/Age_yr1_Day0_Female/Activated memory B cell_Y1D0.csv.1 Y1  \n",
       "/home/jupyter/IH-A-Aging-Analysis-Notebooks_old/Mansi_Notebooks/scRNA/DEG_Analysis/MS_Sex_DEG_analysis/DEG_cohort_splitby_sex_CSVfiles/Age_yr1_Day0_Female/Activated memory B cell_Y1D0.csv.2 Y1  \n",
       "/home/jupyter/IH-A-Aging-Analysis-Notebooks_old/Mansi_Notebooks/scRNA/DEG_Analysis/MS_Sex_DEG_analysis/DEG_cohort_splitby_sex_CSVfiles/Age_yr1_Day0_Female/Activated memory B cell_Y1D0.csv.3 Y1  \n",
       "/home/jupyter/IH-A-Aging-Analysis-Notebooks_old/Mansi_Notebooks/scRNA/DEG_Analysis/MS_Sex_DEG_analysis/DEG_cohort_splitby_sex_CSVfiles/Age_yr1_Day0_Female/Activated memory B cell_Y1D0.csv.4 Y1  \n",
       "/home/jupyter/IH-A-Aging-Analysis-Notebooks_old/Mansi_Notebooks/scRNA/DEG_Analysis/MS_Sex_DEG_analysis/DEG_cohort_splitby_sex_CSVfiles/Age_yr1_Day0_Female/Activated memory B cell_Y1D0.csv.5 Y1  \n",
       "/home/jupyter/IH-A-Aging-Analysis-Notebooks_old/Mansi_Notebooks/scRNA/DEG_Analysis/MS_Sex_DEG_analysis/DEG_cohort_splitby_sex_CSVfiles/Age_yr1_Day0_Female/Activated memory B cell_Y1D0.csv.6 Y1  \n",
       "                                                                                                                                                                                              Sex   \n",
       "/home/jupyter/IH-A-Aging-Analysis-Notebooks_old/Mansi_Notebooks/scRNA/DEG_Analysis/MS_Sex_DEG_analysis/DEG_cohort_splitby_sex_CSVfiles/Age_yr1_Day0_Female/Activated memory B cell_Y1D0.csv.1 Female\n",
       "/home/jupyter/IH-A-Aging-Analysis-Notebooks_old/Mansi_Notebooks/scRNA/DEG_Analysis/MS_Sex_DEG_analysis/DEG_cohort_splitby_sex_CSVfiles/Age_yr1_Day0_Female/Activated memory B cell_Y1D0.csv.2 Female\n",
       "/home/jupyter/IH-A-Aging-Analysis-Notebooks_old/Mansi_Notebooks/scRNA/DEG_Analysis/MS_Sex_DEG_analysis/DEG_cohort_splitby_sex_CSVfiles/Age_yr1_Day0_Female/Activated memory B cell_Y1D0.csv.3 Female\n",
       "/home/jupyter/IH-A-Aging-Analysis-Notebooks_old/Mansi_Notebooks/scRNA/DEG_Analysis/MS_Sex_DEG_analysis/DEG_cohort_splitby_sex_CSVfiles/Age_yr1_Day0_Female/Activated memory B cell_Y1D0.csv.4 Female\n",
       "/home/jupyter/IH-A-Aging-Analysis-Notebooks_old/Mansi_Notebooks/scRNA/DEG_Analysis/MS_Sex_DEG_analysis/DEG_cohort_splitby_sex_CSVfiles/Age_yr1_Day0_Female/Activated memory B cell_Y1D0.csv.5 Female\n",
       "/home/jupyter/IH-A-Aging-Analysis-Notebooks_old/Mansi_Notebooks/scRNA/DEG_Analysis/MS_Sex_DEG_analysis/DEG_cohort_splitby_sex_CSVfiles/Age_yr1_Day0_Female/Activated memory B cell_Y1D0.csv.6 Female"
      ]
     },
     "metadata": {},
     "output_type": "display_data"
    }
   ],
   "source": [
    "head(merged_data_female)"
   ]
  },
  {
   "cell_type": "markdown",
   "id": "76084d96-37f9-485a-8731-a74e520a6585",
   "metadata": {
    "jp-MarkdownHeadingCollapsed": true,
    "tags": []
   },
   "source": [
    "# Gather celltype files by DESEQ2 generated for Males only"
   ]
  },
  {
   "cell_type": "code",
   "execution_count": 23,
   "id": "646a8ecc-70b2-49fe-9d77-f84c5859996b",
   "metadata": {
    "tags": []
   },
   "outputs": [],
   "source": [
    "data_path = '/home/jupyter/IH-A-Aging-Analysis-Notebooks_old/Mansi_Notebooks/scRNA/DEG_Analysis/MS_Sex_DEG_analysis/DEG_cohort_splitby_sex_CSVfiles/Age_yr1_Day0_Male'"
   ]
  },
  {
   "cell_type": "code",
   "execution_count": 24,
   "id": "59ce967a-1667-47d2-b880-0b316f29c1f9",
   "metadata": {
    "tags": []
   },
   "outputs": [],
   "source": [
    "# List all files ending with \".csv\" in the directory\n",
    "csv_files <- list.files(data_path, pattern = \"\\\\.csv$\", full.names = TRUE)\n",
    "\n",
    "# Display the list of CSV files\n",
    "#print(csv_files)"
   ]
  },
  {
   "cell_type": "code",
   "execution_count": 25,
   "id": "23e4856e-0695-4fca-9196-95ce2aac0d6b",
   "metadata": {
    "tags": []
   },
   "outputs": [],
   "source": [
    "# Create an empty list to store data frames\n",
    "data_list <- list()\n",
    "\n",
    "# Loop through each CSV file, read it, and store it in the list\n",
    "for (file in csv_files) {\n",
    "  data <- read.csv(file)\n",
    "  data_list[[file]] <- data\n",
    "}"
   ]
  },
  {
   "cell_type": "code",
   "execution_count": 26,
   "id": "92dd477b-35cd-4a88-9a28-dce4a1e67340",
   "metadata": {
    "tags": []
   },
   "outputs": [],
   "source": [
    "#head(data_list)"
   ]
  },
  {
   "cell_type": "code",
   "execution_count": 27,
   "id": "351b8512-2f66-4c4e-8aa1-ebf78ccd5bfe",
   "metadata": {
    "tags": []
   },
   "outputs": [
    {
     "data": {
      "text/html": [
       "<table class=\"dataframe\">\n",
       "<caption>A data.frame: 6 × 10</caption>\n",
       "<thead>\n",
       "\t<tr><th></th><th scope=col>X</th><th scope=col>baseMean</th><th scope=col>log2FoldChange</th><th scope=col>lfcSE</th><th scope=col>stat</th><th scope=col>pvalue</th><th scope=col>padj</th><th scope=col>celltype</th><th scope=col>Direction</th><th scope=col>Year</th></tr>\n",
       "\t<tr><th></th><th scope=col>&lt;chr&gt;</th><th scope=col>&lt;dbl&gt;</th><th scope=col>&lt;dbl&gt;</th><th scope=col>&lt;dbl&gt;</th><th scope=col>&lt;dbl&gt;</th><th scope=col>&lt;dbl&gt;</th><th scope=col>&lt;dbl&gt;</th><th scope=col>&lt;chr&gt;</th><th scope=col>&lt;chr&gt;</th><th scope=col>&lt;chr&gt;</th></tr>\n",
       "</thead>\n",
       "<tbody>\n",
       "\t<tr><th scope=row>/home/jupyter/IH-A-Aging-Analysis-Notebooks_old/Mansi_Notebooks/scRNA/DEG_Analysis/MS_Sex_DEG_analysis/DEG_cohort_splitby_sex_CSVfiles/Age_yr1_Day0_Male/Adaptive NK cell_Y1D0.csv.1</th><td>GTF2I    </td><td>  34.09356</td><td> 0.3461573</td><td>0.07947054</td><td> 4.355794</td><td>1.325853e-05</td><td>0.06085665</td><td>Adaptive NK cell</td><td>BR2</td><td>Y1</td></tr>\n",
       "\t<tr><th scope=row>/home/jupyter/IH-A-Aging-Analysis-Notebooks_old/Mansi_Notebooks/scRNA/DEG_Analysis/MS_Sex_DEG_analysis/DEG_cohort_splitby_sex_CSVfiles/Age_yr1_Day0_Male/Adaptive NK cell_Y1D0.csv.2</th><td>ACTB     </td><td>1615.61101</td><td>-0.3802586</td><td>0.09599307</td><td>-3.961313</td><td>7.453876e-05</td><td>0.14562625</td><td>Adaptive NK cell</td><td>BR1</td><td>Y1</td></tr>\n",
       "\t<tr><th scope=row>/home/jupyter/IH-A-Aging-Analysis-Notebooks_old/Mansi_Notebooks/scRNA/DEG_Analysis/MS_Sex_DEG_analysis/DEG_cohort_splitby_sex_CSVfiles/Age_yr1_Day0_Male/Adaptive NK cell_Y1D0.csv.3</th><td>GLRX5    </td><td>  23.57963</td><td> 0.3819697</td><td>0.09787669</td><td> 3.902560</td><td>9.518056e-05</td><td>0.14562625</td><td>Adaptive NK cell</td><td>BR2</td><td>Y1</td></tr>\n",
       "\t<tr><th scope=row>/home/jupyter/IH-A-Aging-Analysis-Notebooks_old/Mansi_Notebooks/scRNA/DEG_Analysis/MS_Sex_DEG_analysis/DEG_cohort_splitby_sex_CSVfiles/Age_yr1_Day0_Male/Adaptive NK cell_Y1D0.csv.4</th><td>PSMB4    </td><td>  27.25874</td><td> 0.4111988</td><td>0.10745217</td><td> 3.826808</td><td>1.298159e-04</td><td>0.14896378</td><td>Adaptive NK cell</td><td>BR2</td><td>Y1</td></tr>\n",
       "\t<tr><th scope=row>/home/jupyter/IH-A-Aging-Analysis-Notebooks_old/Mansi_Notebooks/scRNA/DEG_Analysis/MS_Sex_DEG_analysis/DEG_cohort_splitby_sex_CSVfiles/Age_yr1_Day0_Male/Adaptive NK cell_Y1D0.csv.5</th><td>HNRNPA1  </td><td> 156.28327</td><td>-0.2031387</td><td>0.05531558</td><td>-3.672360</td><td>2.403208e-04</td><td>0.22061447</td><td>Adaptive NK cell</td><td>BR1</td><td>Y1</td></tr>\n",
       "\t<tr><th scope=row>/home/jupyter/IH-A-Aging-Analysis-Notebooks_old/Mansi_Notebooks/scRNA/DEG_Analysis/MS_Sex_DEG_analysis/DEG_cohort_splitby_sex_CSVfiles/Age_yr1_Day0_Male/Adaptive NK cell_Y1D0.csv.6</th><td>LINC02084</td><td>  11.24425</td><td>-0.4558620</td><td>0.13004746</td><td>-3.505351</td><td>4.560054e-04</td><td>0.27579216</td><td>Adaptive NK cell</td><td>BR1</td><td>Y1</td></tr>\n",
       "</tbody>\n",
       "</table>\n"
      ],
      "text/latex": [
       "A data.frame: 6 × 10\n",
       "\\begin{tabular}{r|llllllllll}\n",
       "  & X & baseMean & log2FoldChange & lfcSE & stat & pvalue & padj & celltype & Direction & Year\\\\\n",
       "  & <chr> & <dbl> & <dbl> & <dbl> & <dbl> & <dbl> & <dbl> & <chr> & <chr> & <chr>\\\\\n",
       "\\hline\n",
       "\t/home/jupyter/IH-A-Aging-Analysis-Notebooks\\_old/Mansi\\_Notebooks/scRNA/DEG\\_Analysis/MS\\_Sex\\_DEG\\_analysis/DEG\\_cohort\\_splitby\\_sex\\_CSVfiles/Age\\_yr1\\_Day0\\_Male/Adaptive NK cell\\_Y1D0.csv.1 & GTF2I     &   34.09356 &  0.3461573 & 0.07947054 &  4.355794 & 1.325853e-05 & 0.06085665 & Adaptive NK cell & BR2 & Y1\\\\\n",
       "\t/home/jupyter/IH-A-Aging-Analysis-Notebooks\\_old/Mansi\\_Notebooks/scRNA/DEG\\_Analysis/MS\\_Sex\\_DEG\\_analysis/DEG\\_cohort\\_splitby\\_sex\\_CSVfiles/Age\\_yr1\\_Day0\\_Male/Adaptive NK cell\\_Y1D0.csv.2 & ACTB      & 1615.61101 & -0.3802586 & 0.09599307 & -3.961313 & 7.453876e-05 & 0.14562625 & Adaptive NK cell & BR1 & Y1\\\\\n",
       "\t/home/jupyter/IH-A-Aging-Analysis-Notebooks\\_old/Mansi\\_Notebooks/scRNA/DEG\\_Analysis/MS\\_Sex\\_DEG\\_analysis/DEG\\_cohort\\_splitby\\_sex\\_CSVfiles/Age\\_yr1\\_Day0\\_Male/Adaptive NK cell\\_Y1D0.csv.3 & GLRX5     &   23.57963 &  0.3819697 & 0.09787669 &  3.902560 & 9.518056e-05 & 0.14562625 & Adaptive NK cell & BR2 & Y1\\\\\n",
       "\t/home/jupyter/IH-A-Aging-Analysis-Notebooks\\_old/Mansi\\_Notebooks/scRNA/DEG\\_Analysis/MS\\_Sex\\_DEG\\_analysis/DEG\\_cohort\\_splitby\\_sex\\_CSVfiles/Age\\_yr1\\_Day0\\_Male/Adaptive NK cell\\_Y1D0.csv.4 & PSMB4     &   27.25874 &  0.4111988 & 0.10745217 &  3.826808 & 1.298159e-04 & 0.14896378 & Adaptive NK cell & BR2 & Y1\\\\\n",
       "\t/home/jupyter/IH-A-Aging-Analysis-Notebooks\\_old/Mansi\\_Notebooks/scRNA/DEG\\_Analysis/MS\\_Sex\\_DEG\\_analysis/DEG\\_cohort\\_splitby\\_sex\\_CSVfiles/Age\\_yr1\\_Day0\\_Male/Adaptive NK cell\\_Y1D0.csv.5 & HNRNPA1   &  156.28327 & -0.2031387 & 0.05531558 & -3.672360 & 2.403208e-04 & 0.22061447 & Adaptive NK cell & BR1 & Y1\\\\\n",
       "\t/home/jupyter/IH-A-Aging-Analysis-Notebooks\\_old/Mansi\\_Notebooks/scRNA/DEG\\_Analysis/MS\\_Sex\\_DEG\\_analysis/DEG\\_cohort\\_splitby\\_sex\\_CSVfiles/Age\\_yr1\\_Day0\\_Male/Adaptive NK cell\\_Y1D0.csv.6 & LINC02084 &   11.24425 & -0.4558620 & 0.13004746 & -3.505351 & 4.560054e-04 & 0.27579216 & Adaptive NK cell & BR1 & Y1\\\\\n",
       "\\end{tabular}\n"
      ],
      "text/markdown": [
       "\n",
       "A data.frame: 6 × 10\n",
       "\n",
       "| <!--/--> | X &lt;chr&gt; | baseMean &lt;dbl&gt; | log2FoldChange &lt;dbl&gt; | lfcSE &lt;dbl&gt; | stat &lt;dbl&gt; | pvalue &lt;dbl&gt; | padj &lt;dbl&gt; | celltype &lt;chr&gt; | Direction &lt;chr&gt; | Year &lt;chr&gt; |\n",
       "|---|---|---|---|---|---|---|---|---|---|---|\n",
       "| /home/jupyter/IH-A-Aging-Analysis-Notebooks_old/Mansi_Notebooks/scRNA/DEG_Analysis/MS_Sex_DEG_analysis/DEG_cohort_splitby_sex_CSVfiles/Age_yr1_Day0_Male/Adaptive NK cell_Y1D0.csv.1 | GTF2I     |   34.09356 |  0.3461573 | 0.07947054 |  4.355794 | 1.325853e-05 | 0.06085665 | Adaptive NK cell | BR2 | Y1 |\n",
       "| /home/jupyter/IH-A-Aging-Analysis-Notebooks_old/Mansi_Notebooks/scRNA/DEG_Analysis/MS_Sex_DEG_analysis/DEG_cohort_splitby_sex_CSVfiles/Age_yr1_Day0_Male/Adaptive NK cell_Y1D0.csv.2 | ACTB      | 1615.61101 | -0.3802586 | 0.09599307 | -3.961313 | 7.453876e-05 | 0.14562625 | Adaptive NK cell | BR1 | Y1 |\n",
       "| /home/jupyter/IH-A-Aging-Analysis-Notebooks_old/Mansi_Notebooks/scRNA/DEG_Analysis/MS_Sex_DEG_analysis/DEG_cohort_splitby_sex_CSVfiles/Age_yr1_Day0_Male/Adaptive NK cell_Y1D0.csv.3 | GLRX5     |   23.57963 |  0.3819697 | 0.09787669 |  3.902560 | 9.518056e-05 | 0.14562625 | Adaptive NK cell | BR2 | Y1 |\n",
       "| /home/jupyter/IH-A-Aging-Analysis-Notebooks_old/Mansi_Notebooks/scRNA/DEG_Analysis/MS_Sex_DEG_analysis/DEG_cohort_splitby_sex_CSVfiles/Age_yr1_Day0_Male/Adaptive NK cell_Y1D0.csv.4 | PSMB4     |   27.25874 |  0.4111988 | 0.10745217 |  3.826808 | 1.298159e-04 | 0.14896378 | Adaptive NK cell | BR2 | Y1 |\n",
       "| /home/jupyter/IH-A-Aging-Analysis-Notebooks_old/Mansi_Notebooks/scRNA/DEG_Analysis/MS_Sex_DEG_analysis/DEG_cohort_splitby_sex_CSVfiles/Age_yr1_Day0_Male/Adaptive NK cell_Y1D0.csv.5 | HNRNPA1   |  156.28327 | -0.2031387 | 0.05531558 | -3.672360 | 2.403208e-04 | 0.22061447 | Adaptive NK cell | BR1 | Y1 |\n",
       "| /home/jupyter/IH-A-Aging-Analysis-Notebooks_old/Mansi_Notebooks/scRNA/DEG_Analysis/MS_Sex_DEG_analysis/DEG_cohort_splitby_sex_CSVfiles/Age_yr1_Day0_Male/Adaptive NK cell_Y1D0.csv.6 | LINC02084 |   11.24425 | -0.4558620 | 0.13004746 | -3.505351 | 4.560054e-04 | 0.27579216 | Adaptive NK cell | BR1 | Y1 |\n",
       "\n"
      ],
      "text/plain": [
       "                                                                                                                                                                                     X        \n",
       "/home/jupyter/IH-A-Aging-Analysis-Notebooks_old/Mansi_Notebooks/scRNA/DEG_Analysis/MS_Sex_DEG_analysis/DEG_cohort_splitby_sex_CSVfiles/Age_yr1_Day0_Male/Adaptive NK cell_Y1D0.csv.1 GTF2I    \n",
       "/home/jupyter/IH-A-Aging-Analysis-Notebooks_old/Mansi_Notebooks/scRNA/DEG_Analysis/MS_Sex_DEG_analysis/DEG_cohort_splitby_sex_CSVfiles/Age_yr1_Day0_Male/Adaptive NK cell_Y1D0.csv.2 ACTB     \n",
       "/home/jupyter/IH-A-Aging-Analysis-Notebooks_old/Mansi_Notebooks/scRNA/DEG_Analysis/MS_Sex_DEG_analysis/DEG_cohort_splitby_sex_CSVfiles/Age_yr1_Day0_Male/Adaptive NK cell_Y1D0.csv.3 GLRX5    \n",
       "/home/jupyter/IH-A-Aging-Analysis-Notebooks_old/Mansi_Notebooks/scRNA/DEG_Analysis/MS_Sex_DEG_analysis/DEG_cohort_splitby_sex_CSVfiles/Age_yr1_Day0_Male/Adaptive NK cell_Y1D0.csv.4 PSMB4    \n",
       "/home/jupyter/IH-A-Aging-Analysis-Notebooks_old/Mansi_Notebooks/scRNA/DEG_Analysis/MS_Sex_DEG_analysis/DEG_cohort_splitby_sex_CSVfiles/Age_yr1_Day0_Male/Adaptive NK cell_Y1D0.csv.5 HNRNPA1  \n",
       "/home/jupyter/IH-A-Aging-Analysis-Notebooks_old/Mansi_Notebooks/scRNA/DEG_Analysis/MS_Sex_DEG_analysis/DEG_cohort_splitby_sex_CSVfiles/Age_yr1_Day0_Male/Adaptive NK cell_Y1D0.csv.6 LINC02084\n",
       "                                                                                                                                                                                     baseMean  \n",
       "/home/jupyter/IH-A-Aging-Analysis-Notebooks_old/Mansi_Notebooks/scRNA/DEG_Analysis/MS_Sex_DEG_analysis/DEG_cohort_splitby_sex_CSVfiles/Age_yr1_Day0_Male/Adaptive NK cell_Y1D0.csv.1   34.09356\n",
       "/home/jupyter/IH-A-Aging-Analysis-Notebooks_old/Mansi_Notebooks/scRNA/DEG_Analysis/MS_Sex_DEG_analysis/DEG_cohort_splitby_sex_CSVfiles/Age_yr1_Day0_Male/Adaptive NK cell_Y1D0.csv.2 1615.61101\n",
       "/home/jupyter/IH-A-Aging-Analysis-Notebooks_old/Mansi_Notebooks/scRNA/DEG_Analysis/MS_Sex_DEG_analysis/DEG_cohort_splitby_sex_CSVfiles/Age_yr1_Day0_Male/Adaptive NK cell_Y1D0.csv.3   23.57963\n",
       "/home/jupyter/IH-A-Aging-Analysis-Notebooks_old/Mansi_Notebooks/scRNA/DEG_Analysis/MS_Sex_DEG_analysis/DEG_cohort_splitby_sex_CSVfiles/Age_yr1_Day0_Male/Adaptive NK cell_Y1D0.csv.4   27.25874\n",
       "/home/jupyter/IH-A-Aging-Analysis-Notebooks_old/Mansi_Notebooks/scRNA/DEG_Analysis/MS_Sex_DEG_analysis/DEG_cohort_splitby_sex_CSVfiles/Age_yr1_Day0_Male/Adaptive NK cell_Y1D0.csv.5  156.28327\n",
       "/home/jupyter/IH-A-Aging-Analysis-Notebooks_old/Mansi_Notebooks/scRNA/DEG_Analysis/MS_Sex_DEG_analysis/DEG_cohort_splitby_sex_CSVfiles/Age_yr1_Day0_Male/Adaptive NK cell_Y1D0.csv.6   11.24425\n",
       "                                                                                                                                                                                     log2FoldChange\n",
       "/home/jupyter/IH-A-Aging-Analysis-Notebooks_old/Mansi_Notebooks/scRNA/DEG_Analysis/MS_Sex_DEG_analysis/DEG_cohort_splitby_sex_CSVfiles/Age_yr1_Day0_Male/Adaptive NK cell_Y1D0.csv.1  0.3461573    \n",
       "/home/jupyter/IH-A-Aging-Analysis-Notebooks_old/Mansi_Notebooks/scRNA/DEG_Analysis/MS_Sex_DEG_analysis/DEG_cohort_splitby_sex_CSVfiles/Age_yr1_Day0_Male/Adaptive NK cell_Y1D0.csv.2 -0.3802586    \n",
       "/home/jupyter/IH-A-Aging-Analysis-Notebooks_old/Mansi_Notebooks/scRNA/DEG_Analysis/MS_Sex_DEG_analysis/DEG_cohort_splitby_sex_CSVfiles/Age_yr1_Day0_Male/Adaptive NK cell_Y1D0.csv.3  0.3819697    \n",
       "/home/jupyter/IH-A-Aging-Analysis-Notebooks_old/Mansi_Notebooks/scRNA/DEG_Analysis/MS_Sex_DEG_analysis/DEG_cohort_splitby_sex_CSVfiles/Age_yr1_Day0_Male/Adaptive NK cell_Y1D0.csv.4  0.4111988    \n",
       "/home/jupyter/IH-A-Aging-Analysis-Notebooks_old/Mansi_Notebooks/scRNA/DEG_Analysis/MS_Sex_DEG_analysis/DEG_cohort_splitby_sex_CSVfiles/Age_yr1_Day0_Male/Adaptive NK cell_Y1D0.csv.5 -0.2031387    \n",
       "/home/jupyter/IH-A-Aging-Analysis-Notebooks_old/Mansi_Notebooks/scRNA/DEG_Analysis/MS_Sex_DEG_analysis/DEG_cohort_splitby_sex_CSVfiles/Age_yr1_Day0_Male/Adaptive NK cell_Y1D0.csv.6 -0.4558620    \n",
       "                                                                                                                                                                                     lfcSE     \n",
       "/home/jupyter/IH-A-Aging-Analysis-Notebooks_old/Mansi_Notebooks/scRNA/DEG_Analysis/MS_Sex_DEG_analysis/DEG_cohort_splitby_sex_CSVfiles/Age_yr1_Day0_Male/Adaptive NK cell_Y1D0.csv.1 0.07947054\n",
       "/home/jupyter/IH-A-Aging-Analysis-Notebooks_old/Mansi_Notebooks/scRNA/DEG_Analysis/MS_Sex_DEG_analysis/DEG_cohort_splitby_sex_CSVfiles/Age_yr1_Day0_Male/Adaptive NK cell_Y1D0.csv.2 0.09599307\n",
       "/home/jupyter/IH-A-Aging-Analysis-Notebooks_old/Mansi_Notebooks/scRNA/DEG_Analysis/MS_Sex_DEG_analysis/DEG_cohort_splitby_sex_CSVfiles/Age_yr1_Day0_Male/Adaptive NK cell_Y1D0.csv.3 0.09787669\n",
       "/home/jupyter/IH-A-Aging-Analysis-Notebooks_old/Mansi_Notebooks/scRNA/DEG_Analysis/MS_Sex_DEG_analysis/DEG_cohort_splitby_sex_CSVfiles/Age_yr1_Day0_Male/Adaptive NK cell_Y1D0.csv.4 0.10745217\n",
       "/home/jupyter/IH-A-Aging-Analysis-Notebooks_old/Mansi_Notebooks/scRNA/DEG_Analysis/MS_Sex_DEG_analysis/DEG_cohort_splitby_sex_CSVfiles/Age_yr1_Day0_Male/Adaptive NK cell_Y1D0.csv.5 0.05531558\n",
       "/home/jupyter/IH-A-Aging-Analysis-Notebooks_old/Mansi_Notebooks/scRNA/DEG_Analysis/MS_Sex_DEG_analysis/DEG_cohort_splitby_sex_CSVfiles/Age_yr1_Day0_Male/Adaptive NK cell_Y1D0.csv.6 0.13004746\n",
       "                                                                                                                                                                                     stat     \n",
       "/home/jupyter/IH-A-Aging-Analysis-Notebooks_old/Mansi_Notebooks/scRNA/DEG_Analysis/MS_Sex_DEG_analysis/DEG_cohort_splitby_sex_CSVfiles/Age_yr1_Day0_Male/Adaptive NK cell_Y1D0.csv.1  4.355794\n",
       "/home/jupyter/IH-A-Aging-Analysis-Notebooks_old/Mansi_Notebooks/scRNA/DEG_Analysis/MS_Sex_DEG_analysis/DEG_cohort_splitby_sex_CSVfiles/Age_yr1_Day0_Male/Adaptive NK cell_Y1D0.csv.2 -3.961313\n",
       "/home/jupyter/IH-A-Aging-Analysis-Notebooks_old/Mansi_Notebooks/scRNA/DEG_Analysis/MS_Sex_DEG_analysis/DEG_cohort_splitby_sex_CSVfiles/Age_yr1_Day0_Male/Adaptive NK cell_Y1D0.csv.3  3.902560\n",
       "/home/jupyter/IH-A-Aging-Analysis-Notebooks_old/Mansi_Notebooks/scRNA/DEG_Analysis/MS_Sex_DEG_analysis/DEG_cohort_splitby_sex_CSVfiles/Age_yr1_Day0_Male/Adaptive NK cell_Y1D0.csv.4  3.826808\n",
       "/home/jupyter/IH-A-Aging-Analysis-Notebooks_old/Mansi_Notebooks/scRNA/DEG_Analysis/MS_Sex_DEG_analysis/DEG_cohort_splitby_sex_CSVfiles/Age_yr1_Day0_Male/Adaptive NK cell_Y1D0.csv.5 -3.672360\n",
       "/home/jupyter/IH-A-Aging-Analysis-Notebooks_old/Mansi_Notebooks/scRNA/DEG_Analysis/MS_Sex_DEG_analysis/DEG_cohort_splitby_sex_CSVfiles/Age_yr1_Day0_Male/Adaptive NK cell_Y1D0.csv.6 -3.505351\n",
       "                                                                                                                                                                                     pvalue      \n",
       "/home/jupyter/IH-A-Aging-Analysis-Notebooks_old/Mansi_Notebooks/scRNA/DEG_Analysis/MS_Sex_DEG_analysis/DEG_cohort_splitby_sex_CSVfiles/Age_yr1_Day0_Male/Adaptive NK cell_Y1D0.csv.1 1.325853e-05\n",
       "/home/jupyter/IH-A-Aging-Analysis-Notebooks_old/Mansi_Notebooks/scRNA/DEG_Analysis/MS_Sex_DEG_analysis/DEG_cohort_splitby_sex_CSVfiles/Age_yr1_Day0_Male/Adaptive NK cell_Y1D0.csv.2 7.453876e-05\n",
       "/home/jupyter/IH-A-Aging-Analysis-Notebooks_old/Mansi_Notebooks/scRNA/DEG_Analysis/MS_Sex_DEG_analysis/DEG_cohort_splitby_sex_CSVfiles/Age_yr1_Day0_Male/Adaptive NK cell_Y1D0.csv.3 9.518056e-05\n",
       "/home/jupyter/IH-A-Aging-Analysis-Notebooks_old/Mansi_Notebooks/scRNA/DEG_Analysis/MS_Sex_DEG_analysis/DEG_cohort_splitby_sex_CSVfiles/Age_yr1_Day0_Male/Adaptive NK cell_Y1D0.csv.4 1.298159e-04\n",
       "/home/jupyter/IH-A-Aging-Analysis-Notebooks_old/Mansi_Notebooks/scRNA/DEG_Analysis/MS_Sex_DEG_analysis/DEG_cohort_splitby_sex_CSVfiles/Age_yr1_Day0_Male/Adaptive NK cell_Y1D0.csv.5 2.403208e-04\n",
       "/home/jupyter/IH-A-Aging-Analysis-Notebooks_old/Mansi_Notebooks/scRNA/DEG_Analysis/MS_Sex_DEG_analysis/DEG_cohort_splitby_sex_CSVfiles/Age_yr1_Day0_Male/Adaptive NK cell_Y1D0.csv.6 4.560054e-04\n",
       "                                                                                                                                                                                     padj      \n",
       "/home/jupyter/IH-A-Aging-Analysis-Notebooks_old/Mansi_Notebooks/scRNA/DEG_Analysis/MS_Sex_DEG_analysis/DEG_cohort_splitby_sex_CSVfiles/Age_yr1_Day0_Male/Adaptive NK cell_Y1D0.csv.1 0.06085665\n",
       "/home/jupyter/IH-A-Aging-Analysis-Notebooks_old/Mansi_Notebooks/scRNA/DEG_Analysis/MS_Sex_DEG_analysis/DEG_cohort_splitby_sex_CSVfiles/Age_yr1_Day0_Male/Adaptive NK cell_Y1D0.csv.2 0.14562625\n",
       "/home/jupyter/IH-A-Aging-Analysis-Notebooks_old/Mansi_Notebooks/scRNA/DEG_Analysis/MS_Sex_DEG_analysis/DEG_cohort_splitby_sex_CSVfiles/Age_yr1_Day0_Male/Adaptive NK cell_Y1D0.csv.3 0.14562625\n",
       "/home/jupyter/IH-A-Aging-Analysis-Notebooks_old/Mansi_Notebooks/scRNA/DEG_Analysis/MS_Sex_DEG_analysis/DEG_cohort_splitby_sex_CSVfiles/Age_yr1_Day0_Male/Adaptive NK cell_Y1D0.csv.4 0.14896378\n",
       "/home/jupyter/IH-A-Aging-Analysis-Notebooks_old/Mansi_Notebooks/scRNA/DEG_Analysis/MS_Sex_DEG_analysis/DEG_cohort_splitby_sex_CSVfiles/Age_yr1_Day0_Male/Adaptive NK cell_Y1D0.csv.5 0.22061447\n",
       "/home/jupyter/IH-A-Aging-Analysis-Notebooks_old/Mansi_Notebooks/scRNA/DEG_Analysis/MS_Sex_DEG_analysis/DEG_cohort_splitby_sex_CSVfiles/Age_yr1_Day0_Male/Adaptive NK cell_Y1D0.csv.6 0.27579216\n",
       "                                                                                                                                                                                     celltype        \n",
       "/home/jupyter/IH-A-Aging-Analysis-Notebooks_old/Mansi_Notebooks/scRNA/DEG_Analysis/MS_Sex_DEG_analysis/DEG_cohort_splitby_sex_CSVfiles/Age_yr1_Day0_Male/Adaptive NK cell_Y1D0.csv.1 Adaptive NK cell\n",
       "/home/jupyter/IH-A-Aging-Analysis-Notebooks_old/Mansi_Notebooks/scRNA/DEG_Analysis/MS_Sex_DEG_analysis/DEG_cohort_splitby_sex_CSVfiles/Age_yr1_Day0_Male/Adaptive NK cell_Y1D0.csv.2 Adaptive NK cell\n",
       "/home/jupyter/IH-A-Aging-Analysis-Notebooks_old/Mansi_Notebooks/scRNA/DEG_Analysis/MS_Sex_DEG_analysis/DEG_cohort_splitby_sex_CSVfiles/Age_yr1_Day0_Male/Adaptive NK cell_Y1D0.csv.3 Adaptive NK cell\n",
       "/home/jupyter/IH-A-Aging-Analysis-Notebooks_old/Mansi_Notebooks/scRNA/DEG_Analysis/MS_Sex_DEG_analysis/DEG_cohort_splitby_sex_CSVfiles/Age_yr1_Day0_Male/Adaptive NK cell_Y1D0.csv.4 Adaptive NK cell\n",
       "/home/jupyter/IH-A-Aging-Analysis-Notebooks_old/Mansi_Notebooks/scRNA/DEG_Analysis/MS_Sex_DEG_analysis/DEG_cohort_splitby_sex_CSVfiles/Age_yr1_Day0_Male/Adaptive NK cell_Y1D0.csv.5 Adaptive NK cell\n",
       "/home/jupyter/IH-A-Aging-Analysis-Notebooks_old/Mansi_Notebooks/scRNA/DEG_Analysis/MS_Sex_DEG_analysis/DEG_cohort_splitby_sex_CSVfiles/Age_yr1_Day0_Male/Adaptive NK cell_Y1D0.csv.6 Adaptive NK cell\n",
       "                                                                                                                                                                                     Direction\n",
       "/home/jupyter/IH-A-Aging-Analysis-Notebooks_old/Mansi_Notebooks/scRNA/DEG_Analysis/MS_Sex_DEG_analysis/DEG_cohort_splitby_sex_CSVfiles/Age_yr1_Day0_Male/Adaptive NK cell_Y1D0.csv.1 BR2      \n",
       "/home/jupyter/IH-A-Aging-Analysis-Notebooks_old/Mansi_Notebooks/scRNA/DEG_Analysis/MS_Sex_DEG_analysis/DEG_cohort_splitby_sex_CSVfiles/Age_yr1_Day0_Male/Adaptive NK cell_Y1D0.csv.2 BR1      \n",
       "/home/jupyter/IH-A-Aging-Analysis-Notebooks_old/Mansi_Notebooks/scRNA/DEG_Analysis/MS_Sex_DEG_analysis/DEG_cohort_splitby_sex_CSVfiles/Age_yr1_Day0_Male/Adaptive NK cell_Y1D0.csv.3 BR2      \n",
       "/home/jupyter/IH-A-Aging-Analysis-Notebooks_old/Mansi_Notebooks/scRNA/DEG_Analysis/MS_Sex_DEG_analysis/DEG_cohort_splitby_sex_CSVfiles/Age_yr1_Day0_Male/Adaptive NK cell_Y1D0.csv.4 BR2      \n",
       "/home/jupyter/IH-A-Aging-Analysis-Notebooks_old/Mansi_Notebooks/scRNA/DEG_Analysis/MS_Sex_DEG_analysis/DEG_cohort_splitby_sex_CSVfiles/Age_yr1_Day0_Male/Adaptive NK cell_Y1D0.csv.5 BR1      \n",
       "/home/jupyter/IH-A-Aging-Analysis-Notebooks_old/Mansi_Notebooks/scRNA/DEG_Analysis/MS_Sex_DEG_analysis/DEG_cohort_splitby_sex_CSVfiles/Age_yr1_Day0_Male/Adaptive NK cell_Y1D0.csv.6 BR1      \n",
       "                                                                                                                                                                                     Year\n",
       "/home/jupyter/IH-A-Aging-Analysis-Notebooks_old/Mansi_Notebooks/scRNA/DEG_Analysis/MS_Sex_DEG_analysis/DEG_cohort_splitby_sex_CSVfiles/Age_yr1_Day0_Male/Adaptive NK cell_Y1D0.csv.1 Y1  \n",
       "/home/jupyter/IH-A-Aging-Analysis-Notebooks_old/Mansi_Notebooks/scRNA/DEG_Analysis/MS_Sex_DEG_analysis/DEG_cohort_splitby_sex_CSVfiles/Age_yr1_Day0_Male/Adaptive NK cell_Y1D0.csv.2 Y1  \n",
       "/home/jupyter/IH-A-Aging-Analysis-Notebooks_old/Mansi_Notebooks/scRNA/DEG_Analysis/MS_Sex_DEG_analysis/DEG_cohort_splitby_sex_CSVfiles/Age_yr1_Day0_Male/Adaptive NK cell_Y1D0.csv.3 Y1  \n",
       "/home/jupyter/IH-A-Aging-Analysis-Notebooks_old/Mansi_Notebooks/scRNA/DEG_Analysis/MS_Sex_DEG_analysis/DEG_cohort_splitby_sex_CSVfiles/Age_yr1_Day0_Male/Adaptive NK cell_Y1D0.csv.4 Y1  \n",
       "/home/jupyter/IH-A-Aging-Analysis-Notebooks_old/Mansi_Notebooks/scRNA/DEG_Analysis/MS_Sex_DEG_analysis/DEG_cohort_splitby_sex_CSVfiles/Age_yr1_Day0_Male/Adaptive NK cell_Y1D0.csv.5 Y1  \n",
       "/home/jupyter/IH-A-Aging-Analysis-Notebooks_old/Mansi_Notebooks/scRNA/DEG_Analysis/MS_Sex_DEG_analysis/DEG_cohort_splitby_sex_CSVfiles/Age_yr1_Day0_Male/Adaptive NK cell_Y1D0.csv.6 Y1  "
      ]
     },
     "metadata": {},
     "output_type": "display_data"
    },
    {
     "data": {
      "text/html": [
       "<style>\n",
       ".list-inline {list-style: none; margin:0; padding: 0}\n",
       ".list-inline>li {display: inline-block}\n",
       ".list-inline>li:not(:last-child)::after {content: \"\\00b7\"; padding: 0 .5ex}\n",
       "</style>\n",
       "<ol class=list-inline><li>358342</li><li>10</li></ol>\n"
      ],
      "text/latex": [
       "\\begin{enumerate*}\n",
       "\\item 358342\n",
       "\\item 10\n",
       "\\end{enumerate*}\n"
      ],
      "text/markdown": [
       "1. 358342\n",
       "2. 10\n",
       "\n",
       "\n"
      ],
      "text/plain": [
       "[1] 358342     10"
      ]
     },
     "metadata": {},
     "output_type": "display_data"
    }
   ],
   "source": [
    "# Merge all data frames in the list vertically\n",
    "merged_data_male <- do.call(rbind, data_list)\n",
    "head(merged_data_male)\n",
    "dim(merged_data_male)"
   ]
  },
  {
   "cell_type": "code",
   "execution_count": 28,
   "id": "c774877f-39b7-4372-a1bf-5da0073e5f85",
   "metadata": {
    "tags": []
   },
   "outputs": [],
   "source": [
    "merged_data_male$Sex <- \"Male\""
   ]
  },
  {
   "cell_type": "code",
   "execution_count": 29,
   "id": "ae3ade7f-d8f7-47aa-b1c2-e2354edb2def",
   "metadata": {
    "tags": []
   },
   "outputs": [
    {
     "data": {
      "text/html": [
       "<table class=\"dataframe\">\n",
       "<caption>A data.frame: 6 × 11</caption>\n",
       "<thead>\n",
       "\t<tr><th></th><th scope=col>X</th><th scope=col>baseMean</th><th scope=col>log2FoldChange</th><th scope=col>lfcSE</th><th scope=col>stat</th><th scope=col>pvalue</th><th scope=col>padj</th><th scope=col>celltype</th><th scope=col>Direction</th><th scope=col>Year</th><th scope=col>Sex</th></tr>\n",
       "\t<tr><th></th><th scope=col>&lt;chr&gt;</th><th scope=col>&lt;dbl&gt;</th><th scope=col>&lt;dbl&gt;</th><th scope=col>&lt;dbl&gt;</th><th scope=col>&lt;dbl&gt;</th><th scope=col>&lt;dbl&gt;</th><th scope=col>&lt;dbl&gt;</th><th scope=col>&lt;chr&gt;</th><th scope=col>&lt;chr&gt;</th><th scope=col>&lt;chr&gt;</th><th scope=col>&lt;chr&gt;</th></tr>\n",
       "</thead>\n",
       "<tbody>\n",
       "\t<tr><th scope=row>/home/jupyter/IH-A-Aging-Analysis-Notebooks_old/Mansi_Notebooks/scRNA/DEG_Analysis/MS_Sex_DEG_analysis/DEG_cohort_splitby_sex_CSVfiles/Age_yr1_Day0_Male/Adaptive NK cell_Y1D0.csv.1</th><td>GTF2I    </td><td>  34.09356</td><td> 0.3461573</td><td>0.07947054</td><td> 4.355794</td><td>1.325853e-05</td><td>0.06085665</td><td>Adaptive NK cell</td><td>BR2</td><td>Y1</td><td>Male</td></tr>\n",
       "\t<tr><th scope=row>/home/jupyter/IH-A-Aging-Analysis-Notebooks_old/Mansi_Notebooks/scRNA/DEG_Analysis/MS_Sex_DEG_analysis/DEG_cohort_splitby_sex_CSVfiles/Age_yr1_Day0_Male/Adaptive NK cell_Y1D0.csv.2</th><td>ACTB     </td><td>1615.61101</td><td>-0.3802586</td><td>0.09599307</td><td>-3.961313</td><td>7.453876e-05</td><td>0.14562625</td><td>Adaptive NK cell</td><td>BR1</td><td>Y1</td><td>Male</td></tr>\n",
       "\t<tr><th scope=row>/home/jupyter/IH-A-Aging-Analysis-Notebooks_old/Mansi_Notebooks/scRNA/DEG_Analysis/MS_Sex_DEG_analysis/DEG_cohort_splitby_sex_CSVfiles/Age_yr1_Day0_Male/Adaptive NK cell_Y1D0.csv.3</th><td>GLRX5    </td><td>  23.57963</td><td> 0.3819697</td><td>0.09787669</td><td> 3.902560</td><td>9.518056e-05</td><td>0.14562625</td><td>Adaptive NK cell</td><td>BR2</td><td>Y1</td><td>Male</td></tr>\n",
       "\t<tr><th scope=row>/home/jupyter/IH-A-Aging-Analysis-Notebooks_old/Mansi_Notebooks/scRNA/DEG_Analysis/MS_Sex_DEG_analysis/DEG_cohort_splitby_sex_CSVfiles/Age_yr1_Day0_Male/Adaptive NK cell_Y1D0.csv.4</th><td>PSMB4    </td><td>  27.25874</td><td> 0.4111988</td><td>0.10745217</td><td> 3.826808</td><td>1.298159e-04</td><td>0.14896378</td><td>Adaptive NK cell</td><td>BR2</td><td>Y1</td><td>Male</td></tr>\n",
       "\t<tr><th scope=row>/home/jupyter/IH-A-Aging-Analysis-Notebooks_old/Mansi_Notebooks/scRNA/DEG_Analysis/MS_Sex_DEG_analysis/DEG_cohort_splitby_sex_CSVfiles/Age_yr1_Day0_Male/Adaptive NK cell_Y1D0.csv.5</th><td>HNRNPA1  </td><td> 156.28327</td><td>-0.2031387</td><td>0.05531558</td><td>-3.672360</td><td>2.403208e-04</td><td>0.22061447</td><td>Adaptive NK cell</td><td>BR1</td><td>Y1</td><td>Male</td></tr>\n",
       "\t<tr><th scope=row>/home/jupyter/IH-A-Aging-Analysis-Notebooks_old/Mansi_Notebooks/scRNA/DEG_Analysis/MS_Sex_DEG_analysis/DEG_cohort_splitby_sex_CSVfiles/Age_yr1_Day0_Male/Adaptive NK cell_Y1D0.csv.6</th><td>LINC02084</td><td>  11.24425</td><td>-0.4558620</td><td>0.13004746</td><td>-3.505351</td><td>4.560054e-04</td><td>0.27579216</td><td>Adaptive NK cell</td><td>BR1</td><td>Y1</td><td>Male</td></tr>\n",
       "</tbody>\n",
       "</table>\n"
      ],
      "text/latex": [
       "A data.frame: 6 × 11\n",
       "\\begin{tabular}{r|lllllllllll}\n",
       "  & X & baseMean & log2FoldChange & lfcSE & stat & pvalue & padj & celltype & Direction & Year & Sex\\\\\n",
       "  & <chr> & <dbl> & <dbl> & <dbl> & <dbl> & <dbl> & <dbl> & <chr> & <chr> & <chr> & <chr>\\\\\n",
       "\\hline\n",
       "\t/home/jupyter/IH-A-Aging-Analysis-Notebooks\\_old/Mansi\\_Notebooks/scRNA/DEG\\_Analysis/MS\\_Sex\\_DEG\\_analysis/DEG\\_cohort\\_splitby\\_sex\\_CSVfiles/Age\\_yr1\\_Day0\\_Male/Adaptive NK cell\\_Y1D0.csv.1 & GTF2I     &   34.09356 &  0.3461573 & 0.07947054 &  4.355794 & 1.325853e-05 & 0.06085665 & Adaptive NK cell & BR2 & Y1 & Male\\\\\n",
       "\t/home/jupyter/IH-A-Aging-Analysis-Notebooks\\_old/Mansi\\_Notebooks/scRNA/DEG\\_Analysis/MS\\_Sex\\_DEG\\_analysis/DEG\\_cohort\\_splitby\\_sex\\_CSVfiles/Age\\_yr1\\_Day0\\_Male/Adaptive NK cell\\_Y1D0.csv.2 & ACTB      & 1615.61101 & -0.3802586 & 0.09599307 & -3.961313 & 7.453876e-05 & 0.14562625 & Adaptive NK cell & BR1 & Y1 & Male\\\\\n",
       "\t/home/jupyter/IH-A-Aging-Analysis-Notebooks\\_old/Mansi\\_Notebooks/scRNA/DEG\\_Analysis/MS\\_Sex\\_DEG\\_analysis/DEG\\_cohort\\_splitby\\_sex\\_CSVfiles/Age\\_yr1\\_Day0\\_Male/Adaptive NK cell\\_Y1D0.csv.3 & GLRX5     &   23.57963 &  0.3819697 & 0.09787669 &  3.902560 & 9.518056e-05 & 0.14562625 & Adaptive NK cell & BR2 & Y1 & Male\\\\\n",
       "\t/home/jupyter/IH-A-Aging-Analysis-Notebooks\\_old/Mansi\\_Notebooks/scRNA/DEG\\_Analysis/MS\\_Sex\\_DEG\\_analysis/DEG\\_cohort\\_splitby\\_sex\\_CSVfiles/Age\\_yr1\\_Day0\\_Male/Adaptive NK cell\\_Y1D0.csv.4 & PSMB4     &   27.25874 &  0.4111988 & 0.10745217 &  3.826808 & 1.298159e-04 & 0.14896378 & Adaptive NK cell & BR2 & Y1 & Male\\\\\n",
       "\t/home/jupyter/IH-A-Aging-Analysis-Notebooks\\_old/Mansi\\_Notebooks/scRNA/DEG\\_Analysis/MS\\_Sex\\_DEG\\_analysis/DEG\\_cohort\\_splitby\\_sex\\_CSVfiles/Age\\_yr1\\_Day0\\_Male/Adaptive NK cell\\_Y1D0.csv.5 & HNRNPA1   &  156.28327 & -0.2031387 & 0.05531558 & -3.672360 & 2.403208e-04 & 0.22061447 & Adaptive NK cell & BR1 & Y1 & Male\\\\\n",
       "\t/home/jupyter/IH-A-Aging-Analysis-Notebooks\\_old/Mansi\\_Notebooks/scRNA/DEG\\_Analysis/MS\\_Sex\\_DEG\\_analysis/DEG\\_cohort\\_splitby\\_sex\\_CSVfiles/Age\\_yr1\\_Day0\\_Male/Adaptive NK cell\\_Y1D0.csv.6 & LINC02084 &   11.24425 & -0.4558620 & 0.13004746 & -3.505351 & 4.560054e-04 & 0.27579216 & Adaptive NK cell & BR1 & Y1 & Male\\\\\n",
       "\\end{tabular}\n"
      ],
      "text/markdown": [
       "\n",
       "A data.frame: 6 × 11\n",
       "\n",
       "| <!--/--> | X &lt;chr&gt; | baseMean &lt;dbl&gt; | log2FoldChange &lt;dbl&gt; | lfcSE &lt;dbl&gt; | stat &lt;dbl&gt; | pvalue &lt;dbl&gt; | padj &lt;dbl&gt; | celltype &lt;chr&gt; | Direction &lt;chr&gt; | Year &lt;chr&gt; | Sex &lt;chr&gt; |\n",
       "|---|---|---|---|---|---|---|---|---|---|---|---|\n",
       "| /home/jupyter/IH-A-Aging-Analysis-Notebooks_old/Mansi_Notebooks/scRNA/DEG_Analysis/MS_Sex_DEG_analysis/DEG_cohort_splitby_sex_CSVfiles/Age_yr1_Day0_Male/Adaptive NK cell_Y1D0.csv.1 | GTF2I     |   34.09356 |  0.3461573 | 0.07947054 |  4.355794 | 1.325853e-05 | 0.06085665 | Adaptive NK cell | BR2 | Y1 | Male |\n",
       "| /home/jupyter/IH-A-Aging-Analysis-Notebooks_old/Mansi_Notebooks/scRNA/DEG_Analysis/MS_Sex_DEG_analysis/DEG_cohort_splitby_sex_CSVfiles/Age_yr1_Day0_Male/Adaptive NK cell_Y1D0.csv.2 | ACTB      | 1615.61101 | -0.3802586 | 0.09599307 | -3.961313 | 7.453876e-05 | 0.14562625 | Adaptive NK cell | BR1 | Y1 | Male |\n",
       "| /home/jupyter/IH-A-Aging-Analysis-Notebooks_old/Mansi_Notebooks/scRNA/DEG_Analysis/MS_Sex_DEG_analysis/DEG_cohort_splitby_sex_CSVfiles/Age_yr1_Day0_Male/Adaptive NK cell_Y1D0.csv.3 | GLRX5     |   23.57963 |  0.3819697 | 0.09787669 |  3.902560 | 9.518056e-05 | 0.14562625 | Adaptive NK cell | BR2 | Y1 | Male |\n",
       "| /home/jupyter/IH-A-Aging-Analysis-Notebooks_old/Mansi_Notebooks/scRNA/DEG_Analysis/MS_Sex_DEG_analysis/DEG_cohort_splitby_sex_CSVfiles/Age_yr1_Day0_Male/Adaptive NK cell_Y1D0.csv.4 | PSMB4     |   27.25874 |  0.4111988 | 0.10745217 |  3.826808 | 1.298159e-04 | 0.14896378 | Adaptive NK cell | BR2 | Y1 | Male |\n",
       "| /home/jupyter/IH-A-Aging-Analysis-Notebooks_old/Mansi_Notebooks/scRNA/DEG_Analysis/MS_Sex_DEG_analysis/DEG_cohort_splitby_sex_CSVfiles/Age_yr1_Day0_Male/Adaptive NK cell_Y1D0.csv.5 | HNRNPA1   |  156.28327 | -0.2031387 | 0.05531558 | -3.672360 | 2.403208e-04 | 0.22061447 | Adaptive NK cell | BR1 | Y1 | Male |\n",
       "| /home/jupyter/IH-A-Aging-Analysis-Notebooks_old/Mansi_Notebooks/scRNA/DEG_Analysis/MS_Sex_DEG_analysis/DEG_cohort_splitby_sex_CSVfiles/Age_yr1_Day0_Male/Adaptive NK cell_Y1D0.csv.6 | LINC02084 |   11.24425 | -0.4558620 | 0.13004746 | -3.505351 | 4.560054e-04 | 0.27579216 | Adaptive NK cell | BR1 | Y1 | Male |\n",
       "\n"
      ],
      "text/plain": [
       "                                                                                                                                                                                     X        \n",
       "/home/jupyter/IH-A-Aging-Analysis-Notebooks_old/Mansi_Notebooks/scRNA/DEG_Analysis/MS_Sex_DEG_analysis/DEG_cohort_splitby_sex_CSVfiles/Age_yr1_Day0_Male/Adaptive NK cell_Y1D0.csv.1 GTF2I    \n",
       "/home/jupyter/IH-A-Aging-Analysis-Notebooks_old/Mansi_Notebooks/scRNA/DEG_Analysis/MS_Sex_DEG_analysis/DEG_cohort_splitby_sex_CSVfiles/Age_yr1_Day0_Male/Adaptive NK cell_Y1D0.csv.2 ACTB     \n",
       "/home/jupyter/IH-A-Aging-Analysis-Notebooks_old/Mansi_Notebooks/scRNA/DEG_Analysis/MS_Sex_DEG_analysis/DEG_cohort_splitby_sex_CSVfiles/Age_yr1_Day0_Male/Adaptive NK cell_Y1D0.csv.3 GLRX5    \n",
       "/home/jupyter/IH-A-Aging-Analysis-Notebooks_old/Mansi_Notebooks/scRNA/DEG_Analysis/MS_Sex_DEG_analysis/DEG_cohort_splitby_sex_CSVfiles/Age_yr1_Day0_Male/Adaptive NK cell_Y1D0.csv.4 PSMB4    \n",
       "/home/jupyter/IH-A-Aging-Analysis-Notebooks_old/Mansi_Notebooks/scRNA/DEG_Analysis/MS_Sex_DEG_analysis/DEG_cohort_splitby_sex_CSVfiles/Age_yr1_Day0_Male/Adaptive NK cell_Y1D0.csv.5 HNRNPA1  \n",
       "/home/jupyter/IH-A-Aging-Analysis-Notebooks_old/Mansi_Notebooks/scRNA/DEG_Analysis/MS_Sex_DEG_analysis/DEG_cohort_splitby_sex_CSVfiles/Age_yr1_Day0_Male/Adaptive NK cell_Y1D0.csv.6 LINC02084\n",
       "                                                                                                                                                                                     baseMean  \n",
       "/home/jupyter/IH-A-Aging-Analysis-Notebooks_old/Mansi_Notebooks/scRNA/DEG_Analysis/MS_Sex_DEG_analysis/DEG_cohort_splitby_sex_CSVfiles/Age_yr1_Day0_Male/Adaptive NK cell_Y1D0.csv.1   34.09356\n",
       "/home/jupyter/IH-A-Aging-Analysis-Notebooks_old/Mansi_Notebooks/scRNA/DEG_Analysis/MS_Sex_DEG_analysis/DEG_cohort_splitby_sex_CSVfiles/Age_yr1_Day0_Male/Adaptive NK cell_Y1D0.csv.2 1615.61101\n",
       "/home/jupyter/IH-A-Aging-Analysis-Notebooks_old/Mansi_Notebooks/scRNA/DEG_Analysis/MS_Sex_DEG_analysis/DEG_cohort_splitby_sex_CSVfiles/Age_yr1_Day0_Male/Adaptive NK cell_Y1D0.csv.3   23.57963\n",
       "/home/jupyter/IH-A-Aging-Analysis-Notebooks_old/Mansi_Notebooks/scRNA/DEG_Analysis/MS_Sex_DEG_analysis/DEG_cohort_splitby_sex_CSVfiles/Age_yr1_Day0_Male/Adaptive NK cell_Y1D0.csv.4   27.25874\n",
       "/home/jupyter/IH-A-Aging-Analysis-Notebooks_old/Mansi_Notebooks/scRNA/DEG_Analysis/MS_Sex_DEG_analysis/DEG_cohort_splitby_sex_CSVfiles/Age_yr1_Day0_Male/Adaptive NK cell_Y1D0.csv.5  156.28327\n",
       "/home/jupyter/IH-A-Aging-Analysis-Notebooks_old/Mansi_Notebooks/scRNA/DEG_Analysis/MS_Sex_DEG_analysis/DEG_cohort_splitby_sex_CSVfiles/Age_yr1_Day0_Male/Adaptive NK cell_Y1D0.csv.6   11.24425\n",
       "                                                                                                                                                                                     log2FoldChange\n",
       "/home/jupyter/IH-A-Aging-Analysis-Notebooks_old/Mansi_Notebooks/scRNA/DEG_Analysis/MS_Sex_DEG_analysis/DEG_cohort_splitby_sex_CSVfiles/Age_yr1_Day0_Male/Adaptive NK cell_Y1D0.csv.1  0.3461573    \n",
       "/home/jupyter/IH-A-Aging-Analysis-Notebooks_old/Mansi_Notebooks/scRNA/DEG_Analysis/MS_Sex_DEG_analysis/DEG_cohort_splitby_sex_CSVfiles/Age_yr1_Day0_Male/Adaptive NK cell_Y1D0.csv.2 -0.3802586    \n",
       "/home/jupyter/IH-A-Aging-Analysis-Notebooks_old/Mansi_Notebooks/scRNA/DEG_Analysis/MS_Sex_DEG_analysis/DEG_cohort_splitby_sex_CSVfiles/Age_yr1_Day0_Male/Adaptive NK cell_Y1D0.csv.3  0.3819697    \n",
       "/home/jupyter/IH-A-Aging-Analysis-Notebooks_old/Mansi_Notebooks/scRNA/DEG_Analysis/MS_Sex_DEG_analysis/DEG_cohort_splitby_sex_CSVfiles/Age_yr1_Day0_Male/Adaptive NK cell_Y1D0.csv.4  0.4111988    \n",
       "/home/jupyter/IH-A-Aging-Analysis-Notebooks_old/Mansi_Notebooks/scRNA/DEG_Analysis/MS_Sex_DEG_analysis/DEG_cohort_splitby_sex_CSVfiles/Age_yr1_Day0_Male/Adaptive NK cell_Y1D0.csv.5 -0.2031387    \n",
       "/home/jupyter/IH-A-Aging-Analysis-Notebooks_old/Mansi_Notebooks/scRNA/DEG_Analysis/MS_Sex_DEG_analysis/DEG_cohort_splitby_sex_CSVfiles/Age_yr1_Day0_Male/Adaptive NK cell_Y1D0.csv.6 -0.4558620    \n",
       "                                                                                                                                                                                     lfcSE     \n",
       "/home/jupyter/IH-A-Aging-Analysis-Notebooks_old/Mansi_Notebooks/scRNA/DEG_Analysis/MS_Sex_DEG_analysis/DEG_cohort_splitby_sex_CSVfiles/Age_yr1_Day0_Male/Adaptive NK cell_Y1D0.csv.1 0.07947054\n",
       "/home/jupyter/IH-A-Aging-Analysis-Notebooks_old/Mansi_Notebooks/scRNA/DEG_Analysis/MS_Sex_DEG_analysis/DEG_cohort_splitby_sex_CSVfiles/Age_yr1_Day0_Male/Adaptive NK cell_Y1D0.csv.2 0.09599307\n",
       "/home/jupyter/IH-A-Aging-Analysis-Notebooks_old/Mansi_Notebooks/scRNA/DEG_Analysis/MS_Sex_DEG_analysis/DEG_cohort_splitby_sex_CSVfiles/Age_yr1_Day0_Male/Adaptive NK cell_Y1D0.csv.3 0.09787669\n",
       "/home/jupyter/IH-A-Aging-Analysis-Notebooks_old/Mansi_Notebooks/scRNA/DEG_Analysis/MS_Sex_DEG_analysis/DEG_cohort_splitby_sex_CSVfiles/Age_yr1_Day0_Male/Adaptive NK cell_Y1D0.csv.4 0.10745217\n",
       "/home/jupyter/IH-A-Aging-Analysis-Notebooks_old/Mansi_Notebooks/scRNA/DEG_Analysis/MS_Sex_DEG_analysis/DEG_cohort_splitby_sex_CSVfiles/Age_yr1_Day0_Male/Adaptive NK cell_Y1D0.csv.5 0.05531558\n",
       "/home/jupyter/IH-A-Aging-Analysis-Notebooks_old/Mansi_Notebooks/scRNA/DEG_Analysis/MS_Sex_DEG_analysis/DEG_cohort_splitby_sex_CSVfiles/Age_yr1_Day0_Male/Adaptive NK cell_Y1D0.csv.6 0.13004746\n",
       "                                                                                                                                                                                     stat     \n",
       "/home/jupyter/IH-A-Aging-Analysis-Notebooks_old/Mansi_Notebooks/scRNA/DEG_Analysis/MS_Sex_DEG_analysis/DEG_cohort_splitby_sex_CSVfiles/Age_yr1_Day0_Male/Adaptive NK cell_Y1D0.csv.1  4.355794\n",
       "/home/jupyter/IH-A-Aging-Analysis-Notebooks_old/Mansi_Notebooks/scRNA/DEG_Analysis/MS_Sex_DEG_analysis/DEG_cohort_splitby_sex_CSVfiles/Age_yr1_Day0_Male/Adaptive NK cell_Y1D0.csv.2 -3.961313\n",
       "/home/jupyter/IH-A-Aging-Analysis-Notebooks_old/Mansi_Notebooks/scRNA/DEG_Analysis/MS_Sex_DEG_analysis/DEG_cohort_splitby_sex_CSVfiles/Age_yr1_Day0_Male/Adaptive NK cell_Y1D0.csv.3  3.902560\n",
       "/home/jupyter/IH-A-Aging-Analysis-Notebooks_old/Mansi_Notebooks/scRNA/DEG_Analysis/MS_Sex_DEG_analysis/DEG_cohort_splitby_sex_CSVfiles/Age_yr1_Day0_Male/Adaptive NK cell_Y1D0.csv.4  3.826808\n",
       "/home/jupyter/IH-A-Aging-Analysis-Notebooks_old/Mansi_Notebooks/scRNA/DEG_Analysis/MS_Sex_DEG_analysis/DEG_cohort_splitby_sex_CSVfiles/Age_yr1_Day0_Male/Adaptive NK cell_Y1D0.csv.5 -3.672360\n",
       "/home/jupyter/IH-A-Aging-Analysis-Notebooks_old/Mansi_Notebooks/scRNA/DEG_Analysis/MS_Sex_DEG_analysis/DEG_cohort_splitby_sex_CSVfiles/Age_yr1_Day0_Male/Adaptive NK cell_Y1D0.csv.6 -3.505351\n",
       "                                                                                                                                                                                     pvalue      \n",
       "/home/jupyter/IH-A-Aging-Analysis-Notebooks_old/Mansi_Notebooks/scRNA/DEG_Analysis/MS_Sex_DEG_analysis/DEG_cohort_splitby_sex_CSVfiles/Age_yr1_Day0_Male/Adaptive NK cell_Y1D0.csv.1 1.325853e-05\n",
       "/home/jupyter/IH-A-Aging-Analysis-Notebooks_old/Mansi_Notebooks/scRNA/DEG_Analysis/MS_Sex_DEG_analysis/DEG_cohort_splitby_sex_CSVfiles/Age_yr1_Day0_Male/Adaptive NK cell_Y1D0.csv.2 7.453876e-05\n",
       "/home/jupyter/IH-A-Aging-Analysis-Notebooks_old/Mansi_Notebooks/scRNA/DEG_Analysis/MS_Sex_DEG_analysis/DEG_cohort_splitby_sex_CSVfiles/Age_yr1_Day0_Male/Adaptive NK cell_Y1D0.csv.3 9.518056e-05\n",
       "/home/jupyter/IH-A-Aging-Analysis-Notebooks_old/Mansi_Notebooks/scRNA/DEG_Analysis/MS_Sex_DEG_analysis/DEG_cohort_splitby_sex_CSVfiles/Age_yr1_Day0_Male/Adaptive NK cell_Y1D0.csv.4 1.298159e-04\n",
       "/home/jupyter/IH-A-Aging-Analysis-Notebooks_old/Mansi_Notebooks/scRNA/DEG_Analysis/MS_Sex_DEG_analysis/DEG_cohort_splitby_sex_CSVfiles/Age_yr1_Day0_Male/Adaptive NK cell_Y1D0.csv.5 2.403208e-04\n",
       "/home/jupyter/IH-A-Aging-Analysis-Notebooks_old/Mansi_Notebooks/scRNA/DEG_Analysis/MS_Sex_DEG_analysis/DEG_cohort_splitby_sex_CSVfiles/Age_yr1_Day0_Male/Adaptive NK cell_Y1D0.csv.6 4.560054e-04\n",
       "                                                                                                                                                                                     padj      \n",
       "/home/jupyter/IH-A-Aging-Analysis-Notebooks_old/Mansi_Notebooks/scRNA/DEG_Analysis/MS_Sex_DEG_analysis/DEG_cohort_splitby_sex_CSVfiles/Age_yr1_Day0_Male/Adaptive NK cell_Y1D0.csv.1 0.06085665\n",
       "/home/jupyter/IH-A-Aging-Analysis-Notebooks_old/Mansi_Notebooks/scRNA/DEG_Analysis/MS_Sex_DEG_analysis/DEG_cohort_splitby_sex_CSVfiles/Age_yr1_Day0_Male/Adaptive NK cell_Y1D0.csv.2 0.14562625\n",
       "/home/jupyter/IH-A-Aging-Analysis-Notebooks_old/Mansi_Notebooks/scRNA/DEG_Analysis/MS_Sex_DEG_analysis/DEG_cohort_splitby_sex_CSVfiles/Age_yr1_Day0_Male/Adaptive NK cell_Y1D0.csv.3 0.14562625\n",
       "/home/jupyter/IH-A-Aging-Analysis-Notebooks_old/Mansi_Notebooks/scRNA/DEG_Analysis/MS_Sex_DEG_analysis/DEG_cohort_splitby_sex_CSVfiles/Age_yr1_Day0_Male/Adaptive NK cell_Y1D0.csv.4 0.14896378\n",
       "/home/jupyter/IH-A-Aging-Analysis-Notebooks_old/Mansi_Notebooks/scRNA/DEG_Analysis/MS_Sex_DEG_analysis/DEG_cohort_splitby_sex_CSVfiles/Age_yr1_Day0_Male/Adaptive NK cell_Y1D0.csv.5 0.22061447\n",
       "/home/jupyter/IH-A-Aging-Analysis-Notebooks_old/Mansi_Notebooks/scRNA/DEG_Analysis/MS_Sex_DEG_analysis/DEG_cohort_splitby_sex_CSVfiles/Age_yr1_Day0_Male/Adaptive NK cell_Y1D0.csv.6 0.27579216\n",
       "                                                                                                                                                                                     celltype        \n",
       "/home/jupyter/IH-A-Aging-Analysis-Notebooks_old/Mansi_Notebooks/scRNA/DEG_Analysis/MS_Sex_DEG_analysis/DEG_cohort_splitby_sex_CSVfiles/Age_yr1_Day0_Male/Adaptive NK cell_Y1D0.csv.1 Adaptive NK cell\n",
       "/home/jupyter/IH-A-Aging-Analysis-Notebooks_old/Mansi_Notebooks/scRNA/DEG_Analysis/MS_Sex_DEG_analysis/DEG_cohort_splitby_sex_CSVfiles/Age_yr1_Day0_Male/Adaptive NK cell_Y1D0.csv.2 Adaptive NK cell\n",
       "/home/jupyter/IH-A-Aging-Analysis-Notebooks_old/Mansi_Notebooks/scRNA/DEG_Analysis/MS_Sex_DEG_analysis/DEG_cohort_splitby_sex_CSVfiles/Age_yr1_Day0_Male/Adaptive NK cell_Y1D0.csv.3 Adaptive NK cell\n",
       "/home/jupyter/IH-A-Aging-Analysis-Notebooks_old/Mansi_Notebooks/scRNA/DEG_Analysis/MS_Sex_DEG_analysis/DEG_cohort_splitby_sex_CSVfiles/Age_yr1_Day0_Male/Adaptive NK cell_Y1D0.csv.4 Adaptive NK cell\n",
       "/home/jupyter/IH-A-Aging-Analysis-Notebooks_old/Mansi_Notebooks/scRNA/DEG_Analysis/MS_Sex_DEG_analysis/DEG_cohort_splitby_sex_CSVfiles/Age_yr1_Day0_Male/Adaptive NK cell_Y1D0.csv.5 Adaptive NK cell\n",
       "/home/jupyter/IH-A-Aging-Analysis-Notebooks_old/Mansi_Notebooks/scRNA/DEG_Analysis/MS_Sex_DEG_analysis/DEG_cohort_splitby_sex_CSVfiles/Age_yr1_Day0_Male/Adaptive NK cell_Y1D0.csv.6 Adaptive NK cell\n",
       "                                                                                                                                                                                     Direction\n",
       "/home/jupyter/IH-A-Aging-Analysis-Notebooks_old/Mansi_Notebooks/scRNA/DEG_Analysis/MS_Sex_DEG_analysis/DEG_cohort_splitby_sex_CSVfiles/Age_yr1_Day0_Male/Adaptive NK cell_Y1D0.csv.1 BR2      \n",
       "/home/jupyter/IH-A-Aging-Analysis-Notebooks_old/Mansi_Notebooks/scRNA/DEG_Analysis/MS_Sex_DEG_analysis/DEG_cohort_splitby_sex_CSVfiles/Age_yr1_Day0_Male/Adaptive NK cell_Y1D0.csv.2 BR1      \n",
       "/home/jupyter/IH-A-Aging-Analysis-Notebooks_old/Mansi_Notebooks/scRNA/DEG_Analysis/MS_Sex_DEG_analysis/DEG_cohort_splitby_sex_CSVfiles/Age_yr1_Day0_Male/Adaptive NK cell_Y1D0.csv.3 BR2      \n",
       "/home/jupyter/IH-A-Aging-Analysis-Notebooks_old/Mansi_Notebooks/scRNA/DEG_Analysis/MS_Sex_DEG_analysis/DEG_cohort_splitby_sex_CSVfiles/Age_yr1_Day0_Male/Adaptive NK cell_Y1D0.csv.4 BR2      \n",
       "/home/jupyter/IH-A-Aging-Analysis-Notebooks_old/Mansi_Notebooks/scRNA/DEG_Analysis/MS_Sex_DEG_analysis/DEG_cohort_splitby_sex_CSVfiles/Age_yr1_Day0_Male/Adaptive NK cell_Y1D0.csv.5 BR1      \n",
       "/home/jupyter/IH-A-Aging-Analysis-Notebooks_old/Mansi_Notebooks/scRNA/DEG_Analysis/MS_Sex_DEG_analysis/DEG_cohort_splitby_sex_CSVfiles/Age_yr1_Day0_Male/Adaptive NK cell_Y1D0.csv.6 BR1      \n",
       "                                                                                                                                                                                     Year\n",
       "/home/jupyter/IH-A-Aging-Analysis-Notebooks_old/Mansi_Notebooks/scRNA/DEG_Analysis/MS_Sex_DEG_analysis/DEG_cohort_splitby_sex_CSVfiles/Age_yr1_Day0_Male/Adaptive NK cell_Y1D0.csv.1 Y1  \n",
       "/home/jupyter/IH-A-Aging-Analysis-Notebooks_old/Mansi_Notebooks/scRNA/DEG_Analysis/MS_Sex_DEG_analysis/DEG_cohort_splitby_sex_CSVfiles/Age_yr1_Day0_Male/Adaptive NK cell_Y1D0.csv.2 Y1  \n",
       "/home/jupyter/IH-A-Aging-Analysis-Notebooks_old/Mansi_Notebooks/scRNA/DEG_Analysis/MS_Sex_DEG_analysis/DEG_cohort_splitby_sex_CSVfiles/Age_yr1_Day0_Male/Adaptive NK cell_Y1D0.csv.3 Y1  \n",
       "/home/jupyter/IH-A-Aging-Analysis-Notebooks_old/Mansi_Notebooks/scRNA/DEG_Analysis/MS_Sex_DEG_analysis/DEG_cohort_splitby_sex_CSVfiles/Age_yr1_Day0_Male/Adaptive NK cell_Y1D0.csv.4 Y1  \n",
       "/home/jupyter/IH-A-Aging-Analysis-Notebooks_old/Mansi_Notebooks/scRNA/DEG_Analysis/MS_Sex_DEG_analysis/DEG_cohort_splitby_sex_CSVfiles/Age_yr1_Day0_Male/Adaptive NK cell_Y1D0.csv.5 Y1  \n",
       "/home/jupyter/IH-A-Aging-Analysis-Notebooks_old/Mansi_Notebooks/scRNA/DEG_Analysis/MS_Sex_DEG_analysis/DEG_cohort_splitby_sex_CSVfiles/Age_yr1_Day0_Male/Adaptive NK cell_Y1D0.csv.6 Y1  \n",
       "                                                                                                                                                                                     Sex \n",
       "/home/jupyter/IH-A-Aging-Analysis-Notebooks_old/Mansi_Notebooks/scRNA/DEG_Analysis/MS_Sex_DEG_analysis/DEG_cohort_splitby_sex_CSVfiles/Age_yr1_Day0_Male/Adaptive NK cell_Y1D0.csv.1 Male\n",
       "/home/jupyter/IH-A-Aging-Analysis-Notebooks_old/Mansi_Notebooks/scRNA/DEG_Analysis/MS_Sex_DEG_analysis/DEG_cohort_splitby_sex_CSVfiles/Age_yr1_Day0_Male/Adaptive NK cell_Y1D0.csv.2 Male\n",
       "/home/jupyter/IH-A-Aging-Analysis-Notebooks_old/Mansi_Notebooks/scRNA/DEG_Analysis/MS_Sex_DEG_analysis/DEG_cohort_splitby_sex_CSVfiles/Age_yr1_Day0_Male/Adaptive NK cell_Y1D0.csv.3 Male\n",
       "/home/jupyter/IH-A-Aging-Analysis-Notebooks_old/Mansi_Notebooks/scRNA/DEG_Analysis/MS_Sex_DEG_analysis/DEG_cohort_splitby_sex_CSVfiles/Age_yr1_Day0_Male/Adaptive NK cell_Y1D0.csv.4 Male\n",
       "/home/jupyter/IH-A-Aging-Analysis-Notebooks_old/Mansi_Notebooks/scRNA/DEG_Analysis/MS_Sex_DEG_analysis/DEG_cohort_splitby_sex_CSVfiles/Age_yr1_Day0_Male/Adaptive NK cell_Y1D0.csv.5 Male\n",
       "/home/jupyter/IH-A-Aging-Analysis-Notebooks_old/Mansi_Notebooks/scRNA/DEG_Analysis/MS_Sex_DEG_analysis/DEG_cohort_splitby_sex_CSVfiles/Age_yr1_Day0_Male/Adaptive NK cell_Y1D0.csv.6 Male"
      ]
     },
     "metadata": {},
     "output_type": "display_data"
    }
   ],
   "source": [
    "head(merged_data_male)"
   ]
  },
  {
   "cell_type": "code",
   "execution_count": null,
   "id": "51c4bd80-49ff-4306-b718-55b36d1d8a72",
   "metadata": {},
   "outputs": [],
   "source": [
    "# Merge both female and Male DEG files, # Merge the two data frames vertically\n",
    "master <-  <- rbind(merged_data_male, merged_data_female)"
   ]
  }
 ],
 "metadata": {
  "kernelspec": {
   "display_name": "R 4",
   "language": "R",
   "name": "ir4"
  },
  "language_info": {
   "codemirror_mode": "r",
   "file_extension": ".r",
   "mimetype": "text/x-r-source",
   "name": "R",
   "pygments_lexer": "r",
   "version": "4.3.1"
  }
 },
 "nbformat": 4,
 "nbformat_minor": 5
}
