{
 "cells": [
  {
   "cell_type": "code",
   "execution_count": 25,
   "id": "09ccfdb9-0080-43a5-a072-0dae1ffbcfb3",
   "metadata": {
    "tags": []
   },
   "outputs": [
    {
     "name": "stderr",
     "output_type": "stream",
     "text": [
      "Loading required package: reticulate\n",
      "\n"
     ]
    }
   ],
   "source": [
    "library(sceasy)\n",
    "suppressPackageStartupMessages(library(DESeq2))\n",
    "suppressPackageStartupMessages(library(H5weaver))\n",
    "suppressPackageStartupMessages(library(dplyr))\n",
    "suppressPackageStartupMessages(library(tidyr))\n",
    "suppressPackageStartupMessages(library(tibble))\n",
    "suppressPackageStartupMessages(library(ggplot2))\n",
    "suppressPackageStartupMessages(library(Seurat))\n",
    "suppressPackageStartupMessages(library(stringr))\n",
    "library(parallel)"
   ]
  },
  {
   "cell_type": "code",
   "execution_count": 24,
   "id": "389599f5-5bea-48a3-aa78-6696f860442e",
   "metadata": {
    "tags": []
   },
   "outputs": [
    {
     "name": "stderr",
     "output_type": "stream",
     "text": [
      "Warning message:\n",
      "“package ‘sceasy’ is not available for this version of R\n",
      "\n",
      "A version of this package for your version of R might be available elsewhere,\n",
      "see the ideas at\n",
      "https://cran.r-project.org/doc/manuals/r-patched/R-admin.html#Installing-packages”\n"
     ]
    }
   ],
   "source": [
    "install.packages('sceasy')"
   ]
  },
  {
   "cell_type": "code",
   "execution_count": 16,
   "id": "115ac360-0cf1-4aad-b38f-f5c6bacb8bb9",
   "metadata": {
    "tags": []
   },
   "outputs": [
    {
     "data": {
      "text/html": [
       "<table class=\"dataframe\">\n",
       "<caption>A data.frame: 6 × 36</caption>\n",
       "<thead>\n",
       "\t<tr><th></th><th scope=col>X.1</th><th scope=col>X</th><th scope=col>lastUpdated</th><th scope=col>sample.id</th><th scope=col>sample.bridgingControl</th><th scope=col>sample.sampleKitGuid</th><th scope=col>sample.visitName</th><th scope=col>sample.visitDetails</th><th scope=col>sample.drawDate</th><th scope=col>sample.daysSinceFirstVisit</th><th scope=col>⋯</th><th scope=col>pbmc_sample_id</th><th scope=col>Sample_ID</th><th scope=col>Sample_Draw_date</th><th scope=col>Covid_Dose_1</th><th scope=col>Covid_Dose_2</th><th scope=col>Covid_exlcusion</th><th scope=col>CMV.IgG.Serology.Result.Interpretation</th><th scope=col>BMI</th><th scope=col>file.name.downloaded</th><th scope=col>file.path</th></tr>\n",
       "\t<tr><th></th><th scope=col>&lt;int&gt;</th><th scope=col>&lt;int&gt;</th><th scope=col>&lt;chr&gt;</th><th scope=col>&lt;chr&gt;</th><th scope=col>&lt;chr&gt;</th><th scope=col>&lt;chr&gt;</th><th scope=col>&lt;chr&gt;</th><th scope=col>&lt;chr&gt;</th><th scope=col>&lt;chr&gt;</th><th scope=col>&lt;int&gt;</th><th scope=col>⋯</th><th scope=col>&lt;chr&gt;</th><th scope=col>&lt;lgl&gt;</th><th scope=col>&lt;chr&gt;</th><th scope=col>&lt;chr&gt;</th><th scope=col>&lt;chr&gt;</th><th scope=col>&lt;chr&gt;</th><th scope=col>&lt;chr&gt;</th><th scope=col>&lt;chr&gt;</th><th scope=col>&lt;chr&gt;</th><th scope=col>&lt;chr&gt;</th></tr>\n",
       "</thead>\n",
       "<tbody>\n",
       "\t<tr><th scope=row>1</th><td>1</td><td>1</td><td>2023-11-18T02:03:08.347Z</td><td>f499ff83-e513-4d24-a10f-151348269fff</td><td>false</td><td>KT00001</td><td>Flu Year 1 Day 0</td><td>N/A - Flu-Series Timepoint Only</td><td>2019-10-01T00:00:00Z</td><td>0</td><td>⋯</td><td>PB00001-01</td><td>NA</td><td>2019-10-15</td><td><span style=white-space:pre-wrap>NA        </span></td><td><span style=white-space:pre-wrap>NA        </span></td><td>no</td><td>Negative</td><td><span style=white-space:pre-wrap>&lt;25-BMI  </span></td><td><span style=white-space:pre-wrap>B001-P1_PB00001-01_labeled.h5                               </span></td><td><span style=white-space:pre-wrap>/home/jupyter/BRI_Analysis/scRNA/cache/fec489f9-9a74-4635-aa91-d2bf09d1faec/B001-P1_PB00001-01_labeled.h5                               </span></td></tr>\n",
       "\t<tr><th scope=row>2</th><td>2</td><td>2</td><td>2023-11-18T02:03:08.347Z</td><td>750e90a9-a296-4f0f-969f-60225c2bca17</td><td>false</td><td>KT00002</td><td>Flu Year 1 Day 0</td><td>N/A - Flu-Series Timepoint Only</td><td>2019-10-01T00:00:00Z</td><td>0</td><td>⋯</td><td>PB00002-01</td><td>NA</td><td>2019-10-15</td><td>2020-12-28</td><td>2021-01-18</td><td>no</td><td>Negative</td><td><span style=white-space:pre-wrap>&lt;25-BMI  </span></td><td><span style=white-space:pre-wrap>B001-P1_PB00002-01_labeled.h5                               </span></td><td><span style=white-space:pre-wrap>/home/jupyter/BRI_Analysis/scRNA/cache/7c0c7979-eebd-4aba-b5b2-6e76b4643623/B001-P1_PB00002-01_labeled.h5                               </span></td></tr>\n",
       "\t<tr><th scope=row>3</th><td>3</td><td>3</td><td>2023-11-18T02:03:08.347Z</td><td>2db6fb3f-e3f4-454b-891b-9b068541b51d</td><td>false</td><td>KT00003</td><td>Flu Year 1 Day 0</td><td>N/A - Flu-Series Timepoint Only</td><td>2019-10-01T00:00:00Z</td><td>0</td><td>⋯</td><td>PB00003-01</td><td>NA</td><td>2019-10-15</td><td>2020-12-28</td><td>2021-01-16</td><td>no</td><td>Negative</td><td><span style=white-space:pre-wrap>&lt;25-BMI  </span></td><td><span style=white-space:pre-wrap>B001-P1_PB00003-01_labeled.h5                               </span></td><td><span style=white-space:pre-wrap>/home/jupyter/BRI_Analysis/scRNA/cache/40efd03a-cb2f-4677-af42-a056cbfe5a17/B001-P1_PB00003-01_labeled.h5                               </span></td></tr>\n",
       "\t<tr><th scope=row>4</th><td>4</td><td>4</td><td>2023-11-19T10:34:34.12Z </td><td>f04693c5-563c-4b5b-ae58-877d0d9ae2fe</td><td>false</td><td>KT00004</td><td>Flu Year 1 Day 0</td><td>N/A - Flu-Series Timepoint Only</td><td>2019-10-01T00:00:00Z</td><td>0</td><td>⋯</td><td>PB00004-01</td><td>NA</td><td>2019-10-21</td><td>2021-04-16</td><td>2021-05-06</td><td>no</td><td>Negative</td><td><span style=white-space:pre-wrap>&lt;25-BMI  </span></td><td>B002-P1_PB00004-01_2023-11-17T21:36:51.794326181Z_labeled.h5</td><td>/home/jupyter/BRI_Analysis/scRNA/cache/68fbcd34-1d63-461d-8195-df5b8dc61b31/B002-P1_PB00004-01_2023-11-17T21:36:51.794326181Z_labeled.h5</td></tr>\n",
       "\t<tr><th scope=row>5</th><td>5</td><td>5</td><td>2023-11-19T05:07:36.805Z</td><td>eb5b3a3d-002e-40a6-aa19-aa0e6a7fff8f</td><td>false</td><td>KT00006</td><td>Flu Year 1 Day 0</td><td>N/A - Flu-Series Timepoint Only</td><td>2019-10-01T00:00:00Z</td><td>0</td><td>⋯</td><td>PB00006-01</td><td>NA</td><td>2019-10-23</td><td>2021-01-16</td><td>2021-02-26</td><td>no</td><td>Negative</td><td><span style=white-space:pre-wrap>&lt;25-BMI  </span></td><td>B002-P1_PB00006-01_2023-11-17T21:36:51.794326181Z_labeled.h5</td><td>/home/jupyter/BRI_Analysis/scRNA/cache/ea8d98e9-e99e-4dc6-9e78-9866e0deac68/B002-P1_PB00006-01_2023-11-17T21:36:51.794326181Z_labeled.h5</td></tr>\n",
       "\t<tr><th scope=row>6</th><td>6</td><td>6</td><td>2023-11-18T02:03:08.347Z</td><td>f32ac061-0ede-4040-8d8c-35229ea5229c</td><td>false</td><td>KT00010</td><td>Flu Year 1 Day 0</td><td>N/A - Flu-Series Timepoint Only</td><td>2019-10-01T00:00:00Z</td><td>0</td><td>⋯</td><td>PB00010-02</td><td>NA</td><td>2019-10-28</td><td>2021-03-21</td><td>2021-04-18</td><td>no</td><td>Negative</td><td>&gt;25-30BMI</td><td>B078-P2_PB00010-02_2021-08-19T17:09:29.934849811Z_labeled.h5</td><td>/home/jupyter/BRI_Analysis/scRNA/cache/237e41df-5616-4852-8a8f-b32835c9efcb/B078-P2_PB00010-02_2021-08-19T17:09:29.934849811Z_labeled.h5</td></tr>\n",
       "</tbody>\n",
       "</table>\n"
      ],
      "text/latex": [
       "A data.frame: 6 × 36\n",
       "\\begin{tabular}{r|lllllllllllllllllllll}\n",
       "  & X.1 & X & lastUpdated & sample.id & sample.bridgingControl & sample.sampleKitGuid & sample.visitName & sample.visitDetails & sample.drawDate & sample.daysSinceFirstVisit & ⋯ & pbmc\\_sample\\_id & Sample\\_ID & Sample\\_Draw\\_date & Covid\\_Dose\\_1 & Covid\\_Dose\\_2 & Covid\\_exlcusion & CMV.IgG.Serology.Result.Interpretation & BMI & file.name.downloaded & file.path\\\\\n",
       "  & <int> & <int> & <chr> & <chr> & <chr> & <chr> & <chr> & <chr> & <chr> & <int> & ⋯ & <chr> & <lgl> & <chr> & <chr> & <chr> & <chr> & <chr> & <chr> & <chr> & <chr>\\\\\n",
       "\\hline\n",
       "\t1 & 1 & 1 & 2023-11-18T02:03:08.347Z & f499ff83-e513-4d24-a10f-151348269fff & false & KT00001 & Flu Year 1 Day 0 & N/A - Flu-Series Timepoint Only & 2019-10-01T00:00:00Z & 0 & ⋯ & PB00001-01 & NA & 2019-10-15 & NA         & NA         & no & Negative & <25-BMI   & B001-P1\\_PB00001-01\\_labeled.h5                                & /home/jupyter/BRI\\_Analysis/scRNA/cache/fec489f9-9a74-4635-aa91-d2bf09d1faec/B001-P1\\_PB00001-01\\_labeled.h5                               \\\\\n",
       "\t2 & 2 & 2 & 2023-11-18T02:03:08.347Z & 750e90a9-a296-4f0f-969f-60225c2bca17 & false & KT00002 & Flu Year 1 Day 0 & N/A - Flu-Series Timepoint Only & 2019-10-01T00:00:00Z & 0 & ⋯ & PB00002-01 & NA & 2019-10-15 & 2020-12-28 & 2021-01-18 & no & Negative & <25-BMI   & B001-P1\\_PB00002-01\\_labeled.h5                                & /home/jupyter/BRI\\_Analysis/scRNA/cache/7c0c7979-eebd-4aba-b5b2-6e76b4643623/B001-P1\\_PB00002-01\\_labeled.h5                               \\\\\n",
       "\t3 & 3 & 3 & 2023-11-18T02:03:08.347Z & 2db6fb3f-e3f4-454b-891b-9b068541b51d & false & KT00003 & Flu Year 1 Day 0 & N/A - Flu-Series Timepoint Only & 2019-10-01T00:00:00Z & 0 & ⋯ & PB00003-01 & NA & 2019-10-15 & 2020-12-28 & 2021-01-16 & no & Negative & <25-BMI   & B001-P1\\_PB00003-01\\_labeled.h5                                & /home/jupyter/BRI\\_Analysis/scRNA/cache/40efd03a-cb2f-4677-af42-a056cbfe5a17/B001-P1\\_PB00003-01\\_labeled.h5                               \\\\\n",
       "\t4 & 4 & 4 & 2023-11-19T10:34:34.12Z  & f04693c5-563c-4b5b-ae58-877d0d9ae2fe & false & KT00004 & Flu Year 1 Day 0 & N/A - Flu-Series Timepoint Only & 2019-10-01T00:00:00Z & 0 & ⋯ & PB00004-01 & NA & 2019-10-21 & 2021-04-16 & 2021-05-06 & no & Negative & <25-BMI   & B002-P1\\_PB00004-01\\_2023-11-17T21:36:51.794326181Z\\_labeled.h5 & /home/jupyter/BRI\\_Analysis/scRNA/cache/68fbcd34-1d63-461d-8195-df5b8dc61b31/B002-P1\\_PB00004-01\\_2023-11-17T21:36:51.794326181Z\\_labeled.h5\\\\\n",
       "\t5 & 5 & 5 & 2023-11-19T05:07:36.805Z & eb5b3a3d-002e-40a6-aa19-aa0e6a7fff8f & false & KT00006 & Flu Year 1 Day 0 & N/A - Flu-Series Timepoint Only & 2019-10-01T00:00:00Z & 0 & ⋯ & PB00006-01 & NA & 2019-10-23 & 2021-01-16 & 2021-02-26 & no & Negative & <25-BMI   & B002-P1\\_PB00006-01\\_2023-11-17T21:36:51.794326181Z\\_labeled.h5 & /home/jupyter/BRI\\_Analysis/scRNA/cache/ea8d98e9-e99e-4dc6-9e78-9866e0deac68/B002-P1\\_PB00006-01\\_2023-11-17T21:36:51.794326181Z\\_labeled.h5\\\\\n",
       "\t6 & 6 & 6 & 2023-11-18T02:03:08.347Z & f32ac061-0ede-4040-8d8c-35229ea5229c & false & KT00010 & Flu Year 1 Day 0 & N/A - Flu-Series Timepoint Only & 2019-10-01T00:00:00Z & 0 & ⋯ & PB00010-02 & NA & 2019-10-28 & 2021-03-21 & 2021-04-18 & no & Negative & >25-30BMI & B078-P2\\_PB00010-02\\_2021-08-19T17:09:29.934849811Z\\_labeled.h5 & /home/jupyter/BRI\\_Analysis/scRNA/cache/237e41df-5616-4852-8a8f-b32835c9efcb/B078-P2\\_PB00010-02\\_2021-08-19T17:09:29.934849811Z\\_labeled.h5\\\\\n",
       "\\end{tabular}\n"
      ],
      "text/markdown": [
       "\n",
       "A data.frame: 6 × 36\n",
       "\n",
       "| <!--/--> | X.1 &lt;int&gt; | X &lt;int&gt; | lastUpdated &lt;chr&gt; | sample.id &lt;chr&gt; | sample.bridgingControl &lt;chr&gt; | sample.sampleKitGuid &lt;chr&gt; | sample.visitName &lt;chr&gt; | sample.visitDetails &lt;chr&gt; | sample.drawDate &lt;chr&gt; | sample.daysSinceFirstVisit &lt;int&gt; | ⋯ ⋯ | pbmc_sample_id &lt;chr&gt; | Sample_ID &lt;lgl&gt; | Sample_Draw_date &lt;chr&gt; | Covid_Dose_1 &lt;chr&gt; | Covid_Dose_2 &lt;chr&gt; | Covid_exlcusion &lt;chr&gt; | CMV.IgG.Serology.Result.Interpretation &lt;chr&gt; | BMI &lt;chr&gt; | file.name.downloaded &lt;chr&gt; | file.path &lt;chr&gt; |\n",
       "|---|---|---|---|---|---|---|---|---|---|---|---|---|---|---|---|---|---|---|---|---|---|\n",
       "| 1 | 1 | 1 | 2023-11-18T02:03:08.347Z | f499ff83-e513-4d24-a10f-151348269fff | false | KT00001 | Flu Year 1 Day 0 | N/A - Flu-Series Timepoint Only | 2019-10-01T00:00:00Z | 0 | ⋯ | PB00001-01 | NA | 2019-10-15 | NA         | NA         | no | Negative | &lt;25-BMI   | B001-P1_PB00001-01_labeled.h5                                | /home/jupyter/BRI_Analysis/scRNA/cache/fec489f9-9a74-4635-aa91-d2bf09d1faec/B001-P1_PB00001-01_labeled.h5                                |\n",
       "| 2 | 2 | 2 | 2023-11-18T02:03:08.347Z | 750e90a9-a296-4f0f-969f-60225c2bca17 | false | KT00002 | Flu Year 1 Day 0 | N/A - Flu-Series Timepoint Only | 2019-10-01T00:00:00Z | 0 | ⋯ | PB00002-01 | NA | 2019-10-15 | 2020-12-28 | 2021-01-18 | no | Negative | &lt;25-BMI   | B001-P1_PB00002-01_labeled.h5                                | /home/jupyter/BRI_Analysis/scRNA/cache/7c0c7979-eebd-4aba-b5b2-6e76b4643623/B001-P1_PB00002-01_labeled.h5                                |\n",
       "| 3 | 3 | 3 | 2023-11-18T02:03:08.347Z | 2db6fb3f-e3f4-454b-891b-9b068541b51d | false | KT00003 | Flu Year 1 Day 0 | N/A - Flu-Series Timepoint Only | 2019-10-01T00:00:00Z | 0 | ⋯ | PB00003-01 | NA | 2019-10-15 | 2020-12-28 | 2021-01-16 | no | Negative | &lt;25-BMI   | B001-P1_PB00003-01_labeled.h5                                | /home/jupyter/BRI_Analysis/scRNA/cache/40efd03a-cb2f-4677-af42-a056cbfe5a17/B001-P1_PB00003-01_labeled.h5                                |\n",
       "| 4 | 4 | 4 | 2023-11-19T10:34:34.12Z  | f04693c5-563c-4b5b-ae58-877d0d9ae2fe | false | KT00004 | Flu Year 1 Day 0 | N/A - Flu-Series Timepoint Only | 2019-10-01T00:00:00Z | 0 | ⋯ | PB00004-01 | NA | 2019-10-21 | 2021-04-16 | 2021-05-06 | no | Negative | &lt;25-BMI   | B002-P1_PB00004-01_2023-11-17T21:36:51.794326181Z_labeled.h5 | /home/jupyter/BRI_Analysis/scRNA/cache/68fbcd34-1d63-461d-8195-df5b8dc61b31/B002-P1_PB00004-01_2023-11-17T21:36:51.794326181Z_labeled.h5 |\n",
       "| 5 | 5 | 5 | 2023-11-19T05:07:36.805Z | eb5b3a3d-002e-40a6-aa19-aa0e6a7fff8f | false | KT00006 | Flu Year 1 Day 0 | N/A - Flu-Series Timepoint Only | 2019-10-01T00:00:00Z | 0 | ⋯ | PB00006-01 | NA | 2019-10-23 | 2021-01-16 | 2021-02-26 | no | Negative | &lt;25-BMI   | B002-P1_PB00006-01_2023-11-17T21:36:51.794326181Z_labeled.h5 | /home/jupyter/BRI_Analysis/scRNA/cache/ea8d98e9-e99e-4dc6-9e78-9866e0deac68/B002-P1_PB00006-01_2023-11-17T21:36:51.794326181Z_labeled.h5 |\n",
       "| 6 | 6 | 6 | 2023-11-18T02:03:08.347Z | f32ac061-0ede-4040-8d8c-35229ea5229c | false | KT00010 | Flu Year 1 Day 0 | N/A - Flu-Series Timepoint Only | 2019-10-01T00:00:00Z | 0 | ⋯ | PB00010-02 | NA | 2019-10-28 | 2021-03-21 | 2021-04-18 | no | Negative | &gt;25-30BMI | B078-P2_PB00010-02_2021-08-19T17:09:29.934849811Z_labeled.h5 | /home/jupyter/BRI_Analysis/scRNA/cache/237e41df-5616-4852-8a8f-b32835c9efcb/B078-P2_PB00010-02_2021-08-19T17:09:29.934849811Z_labeled.h5 |\n",
       "\n"
      ],
      "text/plain": [
       "  X.1 X lastUpdated              sample.id                           \n",
       "1 1   1 2023-11-18T02:03:08.347Z f499ff83-e513-4d24-a10f-151348269fff\n",
       "2 2   2 2023-11-18T02:03:08.347Z 750e90a9-a296-4f0f-969f-60225c2bca17\n",
       "3 3   3 2023-11-18T02:03:08.347Z 2db6fb3f-e3f4-454b-891b-9b068541b51d\n",
       "4 4   4 2023-11-19T10:34:34.12Z  f04693c5-563c-4b5b-ae58-877d0d9ae2fe\n",
       "5 5   5 2023-11-19T05:07:36.805Z eb5b3a3d-002e-40a6-aa19-aa0e6a7fff8f\n",
       "6 6   6 2023-11-18T02:03:08.347Z f32ac061-0ede-4040-8d8c-35229ea5229c\n",
       "  sample.bridgingControl sample.sampleKitGuid sample.visitName\n",
       "1 false                  KT00001              Flu Year 1 Day 0\n",
       "2 false                  KT00002              Flu Year 1 Day 0\n",
       "3 false                  KT00003              Flu Year 1 Day 0\n",
       "4 false                  KT00004              Flu Year 1 Day 0\n",
       "5 false                  KT00006              Flu Year 1 Day 0\n",
       "6 false                  KT00010              Flu Year 1 Day 0\n",
       "  sample.visitDetails             sample.drawDate     \n",
       "1 N/A - Flu-Series Timepoint Only 2019-10-01T00:00:00Z\n",
       "2 N/A - Flu-Series Timepoint Only 2019-10-01T00:00:00Z\n",
       "3 N/A - Flu-Series Timepoint Only 2019-10-01T00:00:00Z\n",
       "4 N/A - Flu-Series Timepoint Only 2019-10-01T00:00:00Z\n",
       "5 N/A - Flu-Series Timepoint Only 2019-10-01T00:00:00Z\n",
       "6 N/A - Flu-Series Timepoint Only 2019-10-01T00:00:00Z\n",
       "  sample.daysSinceFirstVisit ⋯ pbmc_sample_id Sample_ID Sample_Draw_date\n",
       "1 0                          ⋯ PB00001-01     NA        2019-10-15      \n",
       "2 0                          ⋯ PB00002-01     NA        2019-10-15      \n",
       "3 0                          ⋯ PB00003-01     NA        2019-10-15      \n",
       "4 0                          ⋯ PB00004-01     NA        2019-10-21      \n",
       "5 0                          ⋯ PB00006-01     NA        2019-10-23      \n",
       "6 0                          ⋯ PB00010-02     NA        2019-10-28      \n",
       "  Covid_Dose_1 Covid_Dose_2 Covid_exlcusion\n",
       "1 NA           NA           no             \n",
       "2 2020-12-28   2021-01-18   no             \n",
       "3 2020-12-28   2021-01-16   no             \n",
       "4 2021-04-16   2021-05-06   no             \n",
       "5 2021-01-16   2021-02-26   no             \n",
       "6 2021-03-21   2021-04-18   no             \n",
       "  CMV.IgG.Serology.Result.Interpretation BMI      \n",
       "1 Negative                               <25-BMI  \n",
       "2 Negative                               <25-BMI  \n",
       "3 Negative                               <25-BMI  \n",
       "4 Negative                               <25-BMI  \n",
       "5 Negative                               <25-BMI  \n",
       "6 Negative                               >25-30BMI\n",
       "  file.name.downloaded                                        \n",
       "1 B001-P1_PB00001-01_labeled.h5                               \n",
       "2 B001-P1_PB00002-01_labeled.h5                               \n",
       "3 B001-P1_PB00003-01_labeled.h5                               \n",
       "4 B002-P1_PB00004-01_2023-11-17T21:36:51.794326181Z_labeled.h5\n",
       "5 B002-P1_PB00006-01_2023-11-17T21:36:51.794326181Z_labeled.h5\n",
       "6 B078-P2_PB00010-02_2021-08-19T17:09:29.934849811Z_labeled.h5\n",
       "  file.path                                                                                                                               \n",
       "1 /home/jupyter/BRI_Analysis/scRNA/cache/fec489f9-9a74-4635-aa91-d2bf09d1faec/B001-P1_PB00001-01_labeled.h5                               \n",
       "2 /home/jupyter/BRI_Analysis/scRNA/cache/7c0c7979-eebd-4aba-b5b2-6e76b4643623/B001-P1_PB00002-01_labeled.h5                               \n",
       "3 /home/jupyter/BRI_Analysis/scRNA/cache/40efd03a-cb2f-4677-af42-a056cbfe5a17/B001-P1_PB00003-01_labeled.h5                               \n",
       "4 /home/jupyter/BRI_Analysis/scRNA/cache/68fbcd34-1d63-461d-8195-df5b8dc61b31/B002-P1_PB00004-01_2023-11-17T21:36:51.794326181Z_labeled.h5\n",
       "5 /home/jupyter/BRI_Analysis/scRNA/cache/ea8d98e9-e99e-4dc6-9e78-9866e0deac68/B002-P1_PB00006-01_2023-11-17T21:36:51.794326181Z_labeled.h5\n",
       "6 /home/jupyter/BRI_Analysis/scRNA/cache/237e41df-5616-4852-8a8f-b32835c9efcb/B078-P2_PB00010-02_2021-08-19T17:09:29.934849811Z_labeled.h5"
      ]
     },
     "metadata": {},
     "output_type": "display_data"
    },
    {
     "data": {
      "text/html": [
       "<style>\n",
       ".list-inline {list-style: none; margin:0; padding: 0}\n",
       ".list-inline>li {display: inline-block}\n",
       ".list-inline>li:not(:last-child)::after {content: \"\\00b7\"; padding: 0 .5ex}\n",
       "</style>\n",
       "<ol class=list-inline><li>'Flu Year 1 Day 0'</li><li>'Flu Year 1 Day 7'</li><li>'Flu Year 1 Day 90'</li><li>'Immune Variation Day 0'</li><li>'Immune Variation Day 7'</li><li>'Immune Variation Day 90'</li><li>'Flu Year 2 Stand-Alone'</li><li>'Flu Year 1 Stand-Alone'</li><li>'Flu Year 2 Day 0'</li><li>'Flu Year 2 Day 7'</li><li>'Flu Year 2 Day 90'</li><li>'Flu Year 3 Stand-Alone'</li></ol>\n"
      ],
      "text/latex": [
       "\\begin{enumerate*}\n",
       "\\item 'Flu Year 1 Day 0'\n",
       "\\item 'Flu Year 1 Day 7'\n",
       "\\item 'Flu Year 1 Day 90'\n",
       "\\item 'Immune Variation Day 0'\n",
       "\\item 'Immune Variation Day 7'\n",
       "\\item 'Immune Variation Day 90'\n",
       "\\item 'Flu Year 2 Stand-Alone'\n",
       "\\item 'Flu Year 1 Stand-Alone'\n",
       "\\item 'Flu Year 2 Day 0'\n",
       "\\item 'Flu Year 2 Day 7'\n",
       "\\item 'Flu Year 2 Day 90'\n",
       "\\item 'Flu Year 3 Stand-Alone'\n",
       "\\end{enumerate*}\n"
      ],
      "text/markdown": [
       "1. 'Flu Year 1 Day 0'\n",
       "2. 'Flu Year 1 Day 7'\n",
       "3. 'Flu Year 1 Day 90'\n",
       "4. 'Immune Variation Day 0'\n",
       "5. 'Immune Variation Day 7'\n",
       "6. 'Immune Variation Day 90'\n",
       "7. 'Flu Year 2 Stand-Alone'\n",
       "8. 'Flu Year 1 Stand-Alone'\n",
       "9. 'Flu Year 2 Day 0'\n",
       "10. 'Flu Year 2 Day 7'\n",
       "11. 'Flu Year 2 Day 90'\n",
       "12. 'Flu Year 3 Stand-Alone'\n",
       "\n",
       "\n"
      ],
      "text/plain": [
       " [1] \"Flu Year 1 Day 0\"        \"Flu Year 1 Day 7\"       \n",
       " [3] \"Flu Year 1 Day 90\"       \"Immune Variation Day 0\" \n",
       " [5] \"Immune Variation Day 7\"  \"Immune Variation Day 90\"\n",
       " [7] \"Flu Year 2 Stand-Alone\"  \"Flu Year 1 Stand-Alone\" \n",
       " [9] \"Flu Year 2 Day 0\"        \"Flu Year 2 Day 7\"       \n",
       "[11] \"Flu Year 2 Day 90\"       \"Flu Year 3 Stand-Alone\" "
      ]
     },
     "metadata": {},
     "output_type": "display_data"
    }
   ],
   "source": [
    "meta_data=read.csv('/home/jupyter/IH-A-Aging-Analysis-Notebooks/Qiuyu-Notebooks/scRNA/hise_meta_data_2024-01-23_fixed.csv')\n",
    "head(meta_data)\n",
    "unique(meta_data$sample.visitName)"
   ]
  },
  {
   "cell_type": "code",
   "execution_count": 19,
   "id": "85b1e572-9c82-4f07-8b14-e0a514e30cda",
   "metadata": {
    "tags": []
   },
   "outputs": [
    {
     "data": {
      "text/html": [
       "<table class=\"dataframe\">\n",
       "<caption>A data.frame: 6 × 36</caption>\n",
       "<thead>\n",
       "\t<tr><th></th><th scope=col>X.1</th><th scope=col>X</th><th scope=col>lastUpdated</th><th scope=col>sample.id</th><th scope=col>sample.bridgingControl</th><th scope=col>sample.sampleKitGuid</th><th scope=col>sample.visitName</th><th scope=col>sample.visitDetails</th><th scope=col>sample.drawDate</th><th scope=col>sample.daysSinceFirstVisit</th><th scope=col>⋯</th><th scope=col>pbmc_sample_id</th><th scope=col>Sample_ID</th><th scope=col>Sample_Draw_date</th><th scope=col>Covid_Dose_1</th><th scope=col>Covid_Dose_2</th><th scope=col>Covid_exlcusion</th><th scope=col>CMV.IgG.Serology.Result.Interpretation</th><th scope=col>BMI</th><th scope=col>file.name.downloaded</th><th scope=col>file.path</th></tr>\n",
       "\t<tr><th></th><th scope=col>&lt;int&gt;</th><th scope=col>&lt;int&gt;</th><th scope=col>&lt;chr&gt;</th><th scope=col>&lt;chr&gt;</th><th scope=col>&lt;chr&gt;</th><th scope=col>&lt;chr&gt;</th><th scope=col>&lt;chr&gt;</th><th scope=col>&lt;chr&gt;</th><th scope=col>&lt;chr&gt;</th><th scope=col>&lt;int&gt;</th><th scope=col>⋯</th><th scope=col>&lt;chr&gt;</th><th scope=col>&lt;lgl&gt;</th><th scope=col>&lt;chr&gt;</th><th scope=col>&lt;chr&gt;</th><th scope=col>&lt;chr&gt;</th><th scope=col>&lt;chr&gt;</th><th scope=col>&lt;chr&gt;</th><th scope=col>&lt;chr&gt;</th><th scope=col>&lt;chr&gt;</th><th scope=col>&lt;chr&gt;</th></tr>\n",
       "</thead>\n",
       "<tbody>\n",
       "\t<tr><th scope=row>1</th><td>1</td><td>1</td><td>2023-11-18T02:03:08.347Z</td><td>f499ff83-e513-4d24-a10f-151348269fff</td><td>false</td><td>KT00001</td><td>Flu Year 1 Day 0</td><td>N/A - Flu-Series Timepoint Only</td><td>2019-10-01T00:00:00Z</td><td>0</td><td>⋯</td><td>PB00001-01</td><td>NA</td><td>2019-10-15</td><td><span style=white-space:pre-wrap>NA        </span></td><td><span style=white-space:pre-wrap>NA        </span></td><td>no</td><td>Negative</td><td><span style=white-space:pre-wrap>&lt;25-BMI  </span></td><td><span style=white-space:pre-wrap>B001-P1_PB00001-01_labeled.h5                               </span></td><td><span style=white-space:pre-wrap>/home/jupyter/BRI_Analysis/scRNA/cache/fec489f9-9a74-4635-aa91-d2bf09d1faec/B001-P1_PB00001-01_labeled.h5                               </span></td></tr>\n",
       "\t<tr><th scope=row>2</th><td>2</td><td>2</td><td>2023-11-18T02:03:08.347Z</td><td>750e90a9-a296-4f0f-969f-60225c2bca17</td><td>false</td><td>KT00002</td><td>Flu Year 1 Day 0</td><td>N/A - Flu-Series Timepoint Only</td><td>2019-10-01T00:00:00Z</td><td>0</td><td>⋯</td><td>PB00002-01</td><td>NA</td><td>2019-10-15</td><td>2020-12-28</td><td>2021-01-18</td><td>no</td><td>Negative</td><td><span style=white-space:pre-wrap>&lt;25-BMI  </span></td><td><span style=white-space:pre-wrap>B001-P1_PB00002-01_labeled.h5                               </span></td><td><span style=white-space:pre-wrap>/home/jupyter/BRI_Analysis/scRNA/cache/7c0c7979-eebd-4aba-b5b2-6e76b4643623/B001-P1_PB00002-01_labeled.h5                               </span></td></tr>\n",
       "\t<tr><th scope=row>3</th><td>3</td><td>3</td><td>2023-11-18T02:03:08.347Z</td><td>2db6fb3f-e3f4-454b-891b-9b068541b51d</td><td>false</td><td>KT00003</td><td>Flu Year 1 Day 0</td><td>N/A - Flu-Series Timepoint Only</td><td>2019-10-01T00:00:00Z</td><td>0</td><td>⋯</td><td>PB00003-01</td><td>NA</td><td>2019-10-15</td><td>2020-12-28</td><td>2021-01-16</td><td>no</td><td>Negative</td><td><span style=white-space:pre-wrap>&lt;25-BMI  </span></td><td><span style=white-space:pre-wrap>B001-P1_PB00003-01_labeled.h5                               </span></td><td><span style=white-space:pre-wrap>/home/jupyter/BRI_Analysis/scRNA/cache/40efd03a-cb2f-4677-af42-a056cbfe5a17/B001-P1_PB00003-01_labeled.h5                               </span></td></tr>\n",
       "\t<tr><th scope=row>4</th><td>4</td><td>4</td><td>2023-11-19T10:34:34.12Z </td><td>f04693c5-563c-4b5b-ae58-877d0d9ae2fe</td><td>false</td><td>KT00004</td><td>Flu Year 1 Day 0</td><td>N/A - Flu-Series Timepoint Only</td><td>2019-10-01T00:00:00Z</td><td>0</td><td>⋯</td><td>PB00004-01</td><td>NA</td><td>2019-10-21</td><td>2021-04-16</td><td>2021-05-06</td><td>no</td><td>Negative</td><td><span style=white-space:pre-wrap>&lt;25-BMI  </span></td><td>B002-P1_PB00004-01_2023-11-17T21:36:51.794326181Z_labeled.h5</td><td>/home/jupyter/BRI_Analysis/scRNA/cache/68fbcd34-1d63-461d-8195-df5b8dc61b31/B002-P1_PB00004-01_2023-11-17T21:36:51.794326181Z_labeled.h5</td></tr>\n",
       "\t<tr><th scope=row>5</th><td>5</td><td>5</td><td>2023-11-19T05:07:36.805Z</td><td>eb5b3a3d-002e-40a6-aa19-aa0e6a7fff8f</td><td>false</td><td>KT00006</td><td>Flu Year 1 Day 0</td><td>N/A - Flu-Series Timepoint Only</td><td>2019-10-01T00:00:00Z</td><td>0</td><td>⋯</td><td>PB00006-01</td><td>NA</td><td>2019-10-23</td><td>2021-01-16</td><td>2021-02-26</td><td>no</td><td>Negative</td><td><span style=white-space:pre-wrap>&lt;25-BMI  </span></td><td>B002-P1_PB00006-01_2023-11-17T21:36:51.794326181Z_labeled.h5</td><td>/home/jupyter/BRI_Analysis/scRNA/cache/ea8d98e9-e99e-4dc6-9e78-9866e0deac68/B002-P1_PB00006-01_2023-11-17T21:36:51.794326181Z_labeled.h5</td></tr>\n",
       "\t<tr><th scope=row>6</th><td>6</td><td>6</td><td>2023-11-18T02:03:08.347Z</td><td>f32ac061-0ede-4040-8d8c-35229ea5229c</td><td>false</td><td>KT00010</td><td>Flu Year 1 Day 0</td><td>N/A - Flu-Series Timepoint Only</td><td>2019-10-01T00:00:00Z</td><td>0</td><td>⋯</td><td>PB00010-02</td><td>NA</td><td>2019-10-28</td><td>2021-03-21</td><td>2021-04-18</td><td>no</td><td>Negative</td><td>&gt;25-30BMI</td><td>B078-P2_PB00010-02_2021-08-19T17:09:29.934849811Z_labeled.h5</td><td>/home/jupyter/BRI_Analysis/scRNA/cache/237e41df-5616-4852-8a8f-b32835c9efcb/B078-P2_PB00010-02_2021-08-19T17:09:29.934849811Z_labeled.h5</td></tr>\n",
       "</tbody>\n",
       "</table>\n"
      ],
      "text/latex": [
       "A data.frame: 6 × 36\n",
       "\\begin{tabular}{r|lllllllllllllllllllll}\n",
       "  & X.1 & X & lastUpdated & sample.id & sample.bridgingControl & sample.sampleKitGuid & sample.visitName & sample.visitDetails & sample.drawDate & sample.daysSinceFirstVisit & ⋯ & pbmc\\_sample\\_id & Sample\\_ID & Sample\\_Draw\\_date & Covid\\_Dose\\_1 & Covid\\_Dose\\_2 & Covid\\_exlcusion & CMV.IgG.Serology.Result.Interpretation & BMI & file.name.downloaded & file.path\\\\\n",
       "  & <int> & <int> & <chr> & <chr> & <chr> & <chr> & <chr> & <chr> & <chr> & <int> & ⋯ & <chr> & <lgl> & <chr> & <chr> & <chr> & <chr> & <chr> & <chr> & <chr> & <chr>\\\\\n",
       "\\hline\n",
       "\t1 & 1 & 1 & 2023-11-18T02:03:08.347Z & f499ff83-e513-4d24-a10f-151348269fff & false & KT00001 & Flu Year 1 Day 0 & N/A - Flu-Series Timepoint Only & 2019-10-01T00:00:00Z & 0 & ⋯ & PB00001-01 & NA & 2019-10-15 & NA         & NA         & no & Negative & <25-BMI   & B001-P1\\_PB00001-01\\_labeled.h5                                & /home/jupyter/BRI\\_Analysis/scRNA/cache/fec489f9-9a74-4635-aa91-d2bf09d1faec/B001-P1\\_PB00001-01\\_labeled.h5                               \\\\\n",
       "\t2 & 2 & 2 & 2023-11-18T02:03:08.347Z & 750e90a9-a296-4f0f-969f-60225c2bca17 & false & KT00002 & Flu Year 1 Day 0 & N/A - Flu-Series Timepoint Only & 2019-10-01T00:00:00Z & 0 & ⋯ & PB00002-01 & NA & 2019-10-15 & 2020-12-28 & 2021-01-18 & no & Negative & <25-BMI   & B001-P1\\_PB00002-01\\_labeled.h5                                & /home/jupyter/BRI\\_Analysis/scRNA/cache/7c0c7979-eebd-4aba-b5b2-6e76b4643623/B001-P1\\_PB00002-01\\_labeled.h5                               \\\\\n",
       "\t3 & 3 & 3 & 2023-11-18T02:03:08.347Z & 2db6fb3f-e3f4-454b-891b-9b068541b51d & false & KT00003 & Flu Year 1 Day 0 & N/A - Flu-Series Timepoint Only & 2019-10-01T00:00:00Z & 0 & ⋯ & PB00003-01 & NA & 2019-10-15 & 2020-12-28 & 2021-01-16 & no & Negative & <25-BMI   & B001-P1\\_PB00003-01\\_labeled.h5                                & /home/jupyter/BRI\\_Analysis/scRNA/cache/40efd03a-cb2f-4677-af42-a056cbfe5a17/B001-P1\\_PB00003-01\\_labeled.h5                               \\\\\n",
       "\t4 & 4 & 4 & 2023-11-19T10:34:34.12Z  & f04693c5-563c-4b5b-ae58-877d0d9ae2fe & false & KT00004 & Flu Year 1 Day 0 & N/A - Flu-Series Timepoint Only & 2019-10-01T00:00:00Z & 0 & ⋯ & PB00004-01 & NA & 2019-10-21 & 2021-04-16 & 2021-05-06 & no & Negative & <25-BMI   & B002-P1\\_PB00004-01\\_2023-11-17T21:36:51.794326181Z\\_labeled.h5 & /home/jupyter/BRI\\_Analysis/scRNA/cache/68fbcd34-1d63-461d-8195-df5b8dc61b31/B002-P1\\_PB00004-01\\_2023-11-17T21:36:51.794326181Z\\_labeled.h5\\\\\n",
       "\t5 & 5 & 5 & 2023-11-19T05:07:36.805Z & eb5b3a3d-002e-40a6-aa19-aa0e6a7fff8f & false & KT00006 & Flu Year 1 Day 0 & N/A - Flu-Series Timepoint Only & 2019-10-01T00:00:00Z & 0 & ⋯ & PB00006-01 & NA & 2019-10-23 & 2021-01-16 & 2021-02-26 & no & Negative & <25-BMI   & B002-P1\\_PB00006-01\\_2023-11-17T21:36:51.794326181Z\\_labeled.h5 & /home/jupyter/BRI\\_Analysis/scRNA/cache/ea8d98e9-e99e-4dc6-9e78-9866e0deac68/B002-P1\\_PB00006-01\\_2023-11-17T21:36:51.794326181Z\\_labeled.h5\\\\\n",
       "\t6 & 6 & 6 & 2023-11-18T02:03:08.347Z & f32ac061-0ede-4040-8d8c-35229ea5229c & false & KT00010 & Flu Year 1 Day 0 & N/A - Flu-Series Timepoint Only & 2019-10-01T00:00:00Z & 0 & ⋯ & PB00010-02 & NA & 2019-10-28 & 2021-03-21 & 2021-04-18 & no & Negative & >25-30BMI & B078-P2\\_PB00010-02\\_2021-08-19T17:09:29.934849811Z\\_labeled.h5 & /home/jupyter/BRI\\_Analysis/scRNA/cache/237e41df-5616-4852-8a8f-b32835c9efcb/B078-P2\\_PB00010-02\\_2021-08-19T17:09:29.934849811Z\\_labeled.h5\\\\\n",
       "\\end{tabular}\n"
      ],
      "text/markdown": [
       "\n",
       "A data.frame: 6 × 36\n",
       "\n",
       "| <!--/--> | X.1 &lt;int&gt; | X &lt;int&gt; | lastUpdated &lt;chr&gt; | sample.id &lt;chr&gt; | sample.bridgingControl &lt;chr&gt; | sample.sampleKitGuid &lt;chr&gt; | sample.visitName &lt;chr&gt; | sample.visitDetails &lt;chr&gt; | sample.drawDate &lt;chr&gt; | sample.daysSinceFirstVisit &lt;int&gt; | ⋯ ⋯ | pbmc_sample_id &lt;chr&gt; | Sample_ID &lt;lgl&gt; | Sample_Draw_date &lt;chr&gt; | Covid_Dose_1 &lt;chr&gt; | Covid_Dose_2 &lt;chr&gt; | Covid_exlcusion &lt;chr&gt; | CMV.IgG.Serology.Result.Interpretation &lt;chr&gt; | BMI &lt;chr&gt; | file.name.downloaded &lt;chr&gt; | file.path &lt;chr&gt; |\n",
       "|---|---|---|---|---|---|---|---|---|---|---|---|---|---|---|---|---|---|---|---|---|---|\n",
       "| 1 | 1 | 1 | 2023-11-18T02:03:08.347Z | f499ff83-e513-4d24-a10f-151348269fff | false | KT00001 | Flu Year 1 Day 0 | N/A - Flu-Series Timepoint Only | 2019-10-01T00:00:00Z | 0 | ⋯ | PB00001-01 | NA | 2019-10-15 | NA         | NA         | no | Negative | &lt;25-BMI   | B001-P1_PB00001-01_labeled.h5                                | /home/jupyter/BRI_Analysis/scRNA/cache/fec489f9-9a74-4635-aa91-d2bf09d1faec/B001-P1_PB00001-01_labeled.h5                                |\n",
       "| 2 | 2 | 2 | 2023-11-18T02:03:08.347Z | 750e90a9-a296-4f0f-969f-60225c2bca17 | false | KT00002 | Flu Year 1 Day 0 | N/A - Flu-Series Timepoint Only | 2019-10-01T00:00:00Z | 0 | ⋯ | PB00002-01 | NA | 2019-10-15 | 2020-12-28 | 2021-01-18 | no | Negative | &lt;25-BMI   | B001-P1_PB00002-01_labeled.h5                                | /home/jupyter/BRI_Analysis/scRNA/cache/7c0c7979-eebd-4aba-b5b2-6e76b4643623/B001-P1_PB00002-01_labeled.h5                                |\n",
       "| 3 | 3 | 3 | 2023-11-18T02:03:08.347Z | 2db6fb3f-e3f4-454b-891b-9b068541b51d | false | KT00003 | Flu Year 1 Day 0 | N/A - Flu-Series Timepoint Only | 2019-10-01T00:00:00Z | 0 | ⋯ | PB00003-01 | NA | 2019-10-15 | 2020-12-28 | 2021-01-16 | no | Negative | &lt;25-BMI   | B001-P1_PB00003-01_labeled.h5                                | /home/jupyter/BRI_Analysis/scRNA/cache/40efd03a-cb2f-4677-af42-a056cbfe5a17/B001-P1_PB00003-01_labeled.h5                                |\n",
       "| 4 | 4 | 4 | 2023-11-19T10:34:34.12Z  | f04693c5-563c-4b5b-ae58-877d0d9ae2fe | false | KT00004 | Flu Year 1 Day 0 | N/A - Flu-Series Timepoint Only | 2019-10-01T00:00:00Z | 0 | ⋯ | PB00004-01 | NA | 2019-10-21 | 2021-04-16 | 2021-05-06 | no | Negative | &lt;25-BMI   | B002-P1_PB00004-01_2023-11-17T21:36:51.794326181Z_labeled.h5 | /home/jupyter/BRI_Analysis/scRNA/cache/68fbcd34-1d63-461d-8195-df5b8dc61b31/B002-P1_PB00004-01_2023-11-17T21:36:51.794326181Z_labeled.h5 |\n",
       "| 5 | 5 | 5 | 2023-11-19T05:07:36.805Z | eb5b3a3d-002e-40a6-aa19-aa0e6a7fff8f | false | KT00006 | Flu Year 1 Day 0 | N/A - Flu-Series Timepoint Only | 2019-10-01T00:00:00Z | 0 | ⋯ | PB00006-01 | NA | 2019-10-23 | 2021-01-16 | 2021-02-26 | no | Negative | &lt;25-BMI   | B002-P1_PB00006-01_2023-11-17T21:36:51.794326181Z_labeled.h5 | /home/jupyter/BRI_Analysis/scRNA/cache/ea8d98e9-e99e-4dc6-9e78-9866e0deac68/B002-P1_PB00006-01_2023-11-17T21:36:51.794326181Z_labeled.h5 |\n",
       "| 6 | 6 | 6 | 2023-11-18T02:03:08.347Z | f32ac061-0ede-4040-8d8c-35229ea5229c | false | KT00010 | Flu Year 1 Day 0 | N/A - Flu-Series Timepoint Only | 2019-10-01T00:00:00Z | 0 | ⋯ | PB00010-02 | NA | 2019-10-28 | 2021-03-21 | 2021-04-18 | no | Negative | &gt;25-30BMI | B078-P2_PB00010-02_2021-08-19T17:09:29.934849811Z_labeled.h5 | /home/jupyter/BRI_Analysis/scRNA/cache/237e41df-5616-4852-8a8f-b32835c9efcb/B078-P2_PB00010-02_2021-08-19T17:09:29.934849811Z_labeled.h5 |\n",
       "\n"
      ],
      "text/plain": [
       "  X.1 X lastUpdated              sample.id                           \n",
       "1 1   1 2023-11-18T02:03:08.347Z f499ff83-e513-4d24-a10f-151348269fff\n",
       "2 2   2 2023-11-18T02:03:08.347Z 750e90a9-a296-4f0f-969f-60225c2bca17\n",
       "3 3   3 2023-11-18T02:03:08.347Z 2db6fb3f-e3f4-454b-891b-9b068541b51d\n",
       "4 4   4 2023-11-19T10:34:34.12Z  f04693c5-563c-4b5b-ae58-877d0d9ae2fe\n",
       "5 5   5 2023-11-19T05:07:36.805Z eb5b3a3d-002e-40a6-aa19-aa0e6a7fff8f\n",
       "6 6   6 2023-11-18T02:03:08.347Z f32ac061-0ede-4040-8d8c-35229ea5229c\n",
       "  sample.bridgingControl sample.sampleKitGuid sample.visitName\n",
       "1 false                  KT00001              Flu Year 1 Day 0\n",
       "2 false                  KT00002              Flu Year 1 Day 0\n",
       "3 false                  KT00003              Flu Year 1 Day 0\n",
       "4 false                  KT00004              Flu Year 1 Day 0\n",
       "5 false                  KT00006              Flu Year 1 Day 0\n",
       "6 false                  KT00010              Flu Year 1 Day 0\n",
       "  sample.visitDetails             sample.drawDate     \n",
       "1 N/A - Flu-Series Timepoint Only 2019-10-01T00:00:00Z\n",
       "2 N/A - Flu-Series Timepoint Only 2019-10-01T00:00:00Z\n",
       "3 N/A - Flu-Series Timepoint Only 2019-10-01T00:00:00Z\n",
       "4 N/A - Flu-Series Timepoint Only 2019-10-01T00:00:00Z\n",
       "5 N/A - Flu-Series Timepoint Only 2019-10-01T00:00:00Z\n",
       "6 N/A - Flu-Series Timepoint Only 2019-10-01T00:00:00Z\n",
       "  sample.daysSinceFirstVisit ⋯ pbmc_sample_id Sample_ID Sample_Draw_date\n",
       "1 0                          ⋯ PB00001-01     NA        2019-10-15      \n",
       "2 0                          ⋯ PB00002-01     NA        2019-10-15      \n",
       "3 0                          ⋯ PB00003-01     NA        2019-10-15      \n",
       "4 0                          ⋯ PB00004-01     NA        2019-10-21      \n",
       "5 0                          ⋯ PB00006-01     NA        2019-10-23      \n",
       "6 0                          ⋯ PB00010-02     NA        2019-10-28      \n",
       "  Covid_Dose_1 Covid_Dose_2 Covid_exlcusion\n",
       "1 NA           NA           no             \n",
       "2 2020-12-28   2021-01-18   no             \n",
       "3 2020-12-28   2021-01-16   no             \n",
       "4 2021-04-16   2021-05-06   no             \n",
       "5 2021-01-16   2021-02-26   no             \n",
       "6 2021-03-21   2021-04-18   no             \n",
       "  CMV.IgG.Serology.Result.Interpretation BMI      \n",
       "1 Negative                               <25-BMI  \n",
       "2 Negative                               <25-BMI  \n",
       "3 Negative                               <25-BMI  \n",
       "4 Negative                               <25-BMI  \n",
       "5 Negative                               <25-BMI  \n",
       "6 Negative                               >25-30BMI\n",
       "  file.name.downloaded                                        \n",
       "1 B001-P1_PB00001-01_labeled.h5                               \n",
       "2 B001-P1_PB00002-01_labeled.h5                               \n",
       "3 B001-P1_PB00003-01_labeled.h5                               \n",
       "4 B002-P1_PB00004-01_2023-11-17T21:36:51.794326181Z_labeled.h5\n",
       "5 B002-P1_PB00006-01_2023-11-17T21:36:51.794326181Z_labeled.h5\n",
       "6 B078-P2_PB00010-02_2021-08-19T17:09:29.934849811Z_labeled.h5\n",
       "  file.path                                                                                                                               \n",
       "1 /home/jupyter/BRI_Analysis/scRNA/cache/fec489f9-9a74-4635-aa91-d2bf09d1faec/B001-P1_PB00001-01_labeled.h5                               \n",
       "2 /home/jupyter/BRI_Analysis/scRNA/cache/7c0c7979-eebd-4aba-b5b2-6e76b4643623/B001-P1_PB00002-01_labeled.h5                               \n",
       "3 /home/jupyter/BRI_Analysis/scRNA/cache/40efd03a-cb2f-4677-af42-a056cbfe5a17/B001-P1_PB00003-01_labeled.h5                               \n",
       "4 /home/jupyter/BRI_Analysis/scRNA/cache/68fbcd34-1d63-461d-8195-df5b8dc61b31/B002-P1_PB00004-01_2023-11-17T21:36:51.794326181Z_labeled.h5\n",
       "5 /home/jupyter/BRI_Analysis/scRNA/cache/ea8d98e9-e99e-4dc6-9e78-9866e0deac68/B002-P1_PB00006-01_2023-11-17T21:36:51.794326181Z_labeled.h5\n",
       "6 /home/jupyter/BRI_Analysis/scRNA/cache/237e41df-5616-4852-8a8f-b32835c9efcb/B078-P2_PB00010-02_2021-08-19T17:09:29.934849811Z_labeled.h5"
      ]
     },
     "metadata": {},
     "output_type": "display_data"
    },
    {
     "data": {
      "text/html": [
       "92"
      ],
      "text/latex": [
       "92"
      ],
      "text/markdown": [
       "92"
      ],
      "text/plain": [
       "[1] 92"
      ]
     },
     "metadata": {},
     "output_type": "display_data"
    }
   ],
   "source": [
    "meta_data_subset <- meta_data %>%\n",
    "  dplyr::filter(sample.visitName %in% c('Flu Year 1 Day 0') &\n",
    "         Covid_exlcusion %in% c('no'))\n",
    "#head(meta_data_subset)\n",
    "#length(meta_data_subset$sample.visitDetails)\n"
   ]
  },
  {
   "cell_type": "markdown",
   "id": "f4c2abe7-fe2b-40e9-8d43-2f30d815d3ab",
   "metadata": {},
   "source": [
    "# Creating a psuedobulk object"
   ]
  },
  {
   "cell_type": "code",
   "execution_count": 26,
   "id": "b5018ab3-ced6-498d-afaa-12566f3c31d9",
   "metadata": {
    "tags": []
   },
   "outputs": [],
   "source": [
    "library(parallel)\n",
    "\n",
    "bulk_list<-mclapply(meta_data_subset$pbmc_sample_id,function(x){\n",
    "\n",
    "pbmc <-sceasy::convertFormat(paste0('/home/jupyter/BRI_Analysis/h5_cleaned_by_sample/',x,'.h5ad'), from=\"anndata\", to=\"seurat\")\n",
    "bulk <- Seurat:::PseudobulkExpression(object = pbmc, pb.method = 'aggregate',   group.by = \"AIFI_L3\",slot = 'counts')$RNA\n",
    "colnames(bulk)<-paste0(x,\":\",colnames(bulk))\n",
    "return(bulk)\n",
    "},mc.cores=60)\n"
   ]
  },
  {
   "cell_type": "code",
   "execution_count": 29,
   "id": "231ca880-fdf2-4a00-8de9-9cd98ba1e280",
   "metadata": {
    "tags": []
   },
   "outputs": [
    {
     "data": {
      "text/html": [
       "92"
      ],
      "text/latex": [
       "92"
      ],
      "text/markdown": [
       "92"
      ],
      "text/plain": [
       "[1] 92"
      ]
     },
     "metadata": {},
     "output_type": "display_data"
    }
   ],
   "source": [
    "length(bulk_list)"
   ]
  },
  {
   "cell_type": "code",
   "execution_count": 33,
   "id": "2ff3b08b-44fa-475a-b923-f190cb6d60a3",
   "metadata": {
    "tags": []
   },
   "outputs": [],
   "source": [
    "head(bulk_list)"
   ]
  },
  {
   "cell_type": "code",
   "execution_count": 34,
   "id": "5c3214a8-0725-4974-aadc-556c5f483f2f",
   "metadata": {
    "tags": []
   },
   "outputs": [],
   "source": [
    "write.csv(bulk_list, file = \"Flu_Yr1_D0vsD7_Pseudobulk.csv\", row.names = TRUE)"
   ]
  },
  {
   "cell_type": "code",
   "execution_count": null,
   "id": "8086f370-bad6-4724-b70f-b1db5ada0420",
   "metadata": {},
   "outputs": [],
   "source": []
  }
 ],
 "metadata": {
  "kernelspec": {
   "display_name": "R 4",
   "language": "R",
   "name": "ir4"
  },
  "language_info": {
   "codemirror_mode": "r",
   "file_extension": ".r",
   "mimetype": "text/x-r-source",
   "name": "R",
   "pygments_lexer": "r",
   "version": "4.3.1"
  }
 },
 "nbformat": 4,
 "nbformat_minor": 5
}
