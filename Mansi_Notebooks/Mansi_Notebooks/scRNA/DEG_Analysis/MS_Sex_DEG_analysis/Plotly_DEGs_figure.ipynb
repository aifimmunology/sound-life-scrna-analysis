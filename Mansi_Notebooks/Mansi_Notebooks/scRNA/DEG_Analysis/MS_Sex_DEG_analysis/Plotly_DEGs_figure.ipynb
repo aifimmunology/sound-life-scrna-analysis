{
 "cells": [
  {
   "cell_type": "code",
   "execution_count": null,
   "id": "2fc9260d-5ddc-4063-a625-48d25735de25",
   "metadata": {},
   "outputs": [],
   "source": []
  },
  {
   "cell_type": "code",
   "execution_count": 1,
   "id": "1ac1d199-9b99-49fb-8ecb-8a51a4fa860d",
   "metadata": {
    "tags": []
   },
   "outputs": [],
   "source": [
    "import hisepy as hp\n",
    "import h5py\n",
    "import pandas as pd\n",
    "import scipy.sparse as scs\n",
    "import os\n",
    "import scanpy as sc\n",
    "import anndata\n",
    "import plotly"
   ]
  },
  {
   "cell_type": "code",
   "execution_count": 2,
   "id": "1cb2f948-3034-4252-8ba6-cc1cfd9cfc8e",
   "metadata": {
    "tags": []
   },
   "outputs": [
    {
     "data": {
      "text/html": [
       "<div>\n",
       "<style scoped>\n",
       "    .dataframe tbody tr th:only-of-type {\n",
       "        vertical-align: middle;\n",
       "    }\n",
       "\n",
       "    .dataframe tbody tr th {\n",
       "        vertical-align: top;\n",
       "    }\n",
       "\n",
       "    .dataframe thead th {\n",
       "        text-align: right;\n",
       "    }\n",
       "</style>\n",
       "<table border=\"1\" class=\"dataframe\">\n",
       "  <thead>\n",
       "    <tr style=\"text-align: right;\">\n",
       "      <th></th>\n",
       "      <th>X</th>\n",
       "      <th>baseMean</th>\n",
       "      <th>log2FoldChange</th>\n",
       "      <th>lfcSE</th>\n",
       "      <th>stat</th>\n",
       "      <th>pvalue</th>\n",
       "      <th>padj</th>\n",
       "      <th>celltype</th>\n",
       "      <th>Direction</th>\n",
       "      <th>Year</th>\n",
       "      <th>type</th>\n",
       "    </tr>\n",
       "  </thead>\n",
       "  <tbody>\n",
       "    <tr>\n",
       "      <th>0</th>\n",
       "      <td>NOC2L</td>\n",
       "      <td>0.468260</td>\n",
       "      <td>-0.335645</td>\n",
       "      <td>0.832711</td>\n",
       "      <td>-0.403074</td>\n",
       "      <td>0.686894</td>\n",
       "      <td>0.999827</td>\n",
       "      <td>Activated memory B cell</td>\n",
       "      <td>BR1</td>\n",
       "      <td>Y1</td>\n",
       "      <td>DEGs_Male</td>\n",
       "    </tr>\n",
       "    <tr>\n",
       "      <th>1</th>\n",
       "      <td>ISG15</td>\n",
       "      <td>0.771676</td>\n",
       "      <td>0.031020</td>\n",
       "      <td>0.532948</td>\n",
       "      <td>0.058204</td>\n",
       "      <td>0.953586</td>\n",
       "      <td>0.999827</td>\n",
       "      <td>Activated memory B cell</td>\n",
       "      <td>BR2</td>\n",
       "      <td>Y1</td>\n",
       "      <td>DEGs_Male</td>\n",
       "    </tr>\n",
       "    <tr>\n",
       "      <th>2</th>\n",
       "      <td>SDF4</td>\n",
       "      <td>0.563181</td>\n",
       "      <td>0.012470</td>\n",
       "      <td>0.651063</td>\n",
       "      <td>0.019153</td>\n",
       "      <td>0.984719</td>\n",
       "      <td>0.999827</td>\n",
       "      <td>Activated memory B cell</td>\n",
       "      <td>BR2</td>\n",
       "      <td>Y1</td>\n",
       "      <td>DEGs_Male</td>\n",
       "    </tr>\n",
       "    <tr>\n",
       "      <th>3</th>\n",
       "      <td>B3GALT6</td>\n",
       "      <td>0.315174</td>\n",
       "      <td>0.618455</td>\n",
       "      <td>0.877990</td>\n",
       "      <td>0.704399</td>\n",
       "      <td>0.481184</td>\n",
       "      <td>0.999827</td>\n",
       "      <td>Activated memory B cell</td>\n",
       "      <td>BR2</td>\n",
       "      <td>Y1</td>\n",
       "      <td>DEGs_Male</td>\n",
       "    </tr>\n",
       "    <tr>\n",
       "      <th>4</th>\n",
       "      <td>UBE2J2</td>\n",
       "      <td>0.451714</td>\n",
       "      <td>0.177616</td>\n",
       "      <td>0.652815</td>\n",
       "      <td>0.272078</td>\n",
       "      <td>0.785562</td>\n",
       "      <td>0.999827</td>\n",
       "      <td>Activated memory B cell</td>\n",
       "      <td>BR2</td>\n",
       "      <td>Y1</td>\n",
       "      <td>DEGs_Male</td>\n",
       "    </tr>\n",
       "  </tbody>\n",
       "</table>\n",
       "</div>"
      ],
      "text/plain": [
       "         X  baseMean  log2FoldChange     lfcSE      stat    pvalue      padj  \\\n",
       "0    NOC2L  0.468260       -0.335645  0.832711 -0.403074  0.686894  0.999827   \n",
       "1    ISG15  0.771676        0.031020  0.532948  0.058204  0.953586  0.999827   \n",
       "2     SDF4  0.563181        0.012470  0.651063  0.019153  0.984719  0.999827   \n",
       "3  B3GALT6  0.315174        0.618455  0.877990  0.704399  0.481184  0.999827   \n",
       "4   UBE2J2  0.451714        0.177616  0.652815  0.272078  0.785562  0.999827   \n",
       "\n",
       "                  celltype Direction Year       type  \n",
       "0  Activated memory B cell       BR1   Y1  DEGs_Male  \n",
       "1  Activated memory B cell       BR2   Y1  DEGs_Male  \n",
       "2  Activated memory B cell       BR2   Y1  DEGs_Male  \n",
       "3  Activated memory B cell       BR2   Y1  DEGs_Male  \n",
       "4  Activated memory B cell       BR2   Y1  DEGs_Male  "
      ]
     },
     "execution_count": 2,
     "metadata": {},
     "output_type": "execute_result"
    }
   ],
   "source": [
    "# Read CSV file\n",
    "master = pd.read_csv(\"/home/jupyter/IH-A-Aging-Analysis-Notebooks_old/Mansi_Notebooks/scRNA/DEG_Analysis/MS_Sex_DEG_analysis/master_combined_DEG_list_all_celltypes.csv\")\n",
    "master.head()"
   ]
  },
  {
   "cell_type": "code",
   "execution_count": 3,
   "id": "74fbc481-43ca-40bb-aeb4-8de53c5b38a5",
   "metadata": {
    "tags": []
   },
   "outputs": [
    {
     "name": "stdout",
     "output_type": "stream",
     "text": [
      "Original DataFrame dimensions: (744822, 11)\n",
      "Filtered DataFrame dimensions: (1559, 11)\n",
      "             X     baseMean  log2FoldChange     lfcSE      stat    pvalue  \\\n",
      "5105     GTF2I    34.093557        0.346157  0.079471  4.355794  0.000013   \n",
      "25481     ACTB  2853.100453       -0.201412  0.045960 -4.382339  0.000012   \n",
      "40041   LGALS1    33.202331        0.878714  0.201613  4.358420  0.000013   \n",
      "40042    APLP2     4.443854        0.926691  0.221221  4.188980  0.000028   \n",
      "50505  PLEKHO1     3.451516       -1.048152  0.236010 -4.441142  0.000009   \n",
      "\n",
      "           padj               celltype Direction Year       type  \n",
      "5105   0.060857       Adaptive NK cell       BR2   Y1  DEGs_Male  \n",
      "25481  0.080674     C1Q+ CD16 monocyte       BR1   Y1  DEGs_Male  \n",
      "40041  0.060170  CD27- effector B cell       BR2   Y1  DEGs_Male  \n",
      "40042  0.064350  CD27- effector B cell       BR2   Y1  DEGs_Male  \n",
      "50505  0.047918               CD4 MAIT       BR1   Y1  DEGs_Male  \n",
      "                celltype Direction         type  count\n",
      "0       Adaptive NK cell       BR2    DEGs_Male      1\n",
      "1     C1Q+ CD16 monocyte       BR1    DEGs_Male      1\n",
      "2     C1Q+ CD16 monocyte       BR2  DEGs_Female      1\n",
      "3  CD27+ effector B cell       BR2  DEGs_Female      1\n",
      "4  CD27- effector B cell       BR1  DEGs_Female      2\n"
     ]
    },
    {
     "data": {
      "text/plain": [
       "(101, 4)"
      ]
     },
     "execution_count": 3,
     "metadata": {},
     "output_type": "execute_result"
    }
   ],
   "source": [
    "import pandas as pd\n",
    "\n",
    "# Assuming 'master' is your DataFrame\n",
    "# Filtered DataFrame where padj <= 0.1\n",
    "filtered = master[master['padj'] <= 0.1]\n",
    "\n",
    "print(\"Original DataFrame dimensions:\", master.shape)\n",
    "print(\"Filtered DataFrame dimensions:\", filtered.shape)\n",
    "print(filtered.head())\n",
    "\n",
    "# Grouping and summarizing\n",
    "filtered_df = filtered.groupby(['celltype', 'Direction', 'type']).size().reset_index(name='count')\n",
    "\n",
    "print(filtered_df.head())\n",
    "filtered_df.shape\n"
   ]
  },
  {
   "cell_type": "code",
   "execution_count": 4,
   "id": "0ee975d2-c33d-4371-9461-e1381345b640",
   "metadata": {
    "tags": []
   },
   "outputs": [
    {
     "name": "stdout",
     "output_type": "stream",
     "text": [
      "Original DataFrame dimensions: (744822, 11)\n",
      "Filtered DataFrame dimensions: (1559, 11)\n",
      "             X     baseMean  log2FoldChange     lfcSE      stat    pvalue  \\\n",
      "5105     GTF2I    34.093557        0.346157  0.079471  4.355794  0.000013   \n",
      "25481     ACTB  2853.100453       -0.201412  0.045960 -4.382339  0.000012   \n",
      "40041   LGALS1    33.202331        0.878714  0.201613  4.358420  0.000013   \n",
      "40042    APLP2     4.443854        0.926691  0.221221  4.188980  0.000028   \n",
      "50505  PLEKHO1     3.451516       -1.048152  0.236010 -4.441142  0.000009   \n",
      "\n",
      "           padj               celltype Direction Year       type  \n",
      "5105   0.060857       Adaptive NK cell       BR2   Y1  DEGs_Male  \n",
      "25481  0.080674     C1Q+ CD16 monocyte       BR1   Y1  DEGs_Male  \n",
      "40041  0.060170  CD27- effector B cell       BR2   Y1  DEGs_Male  \n",
      "40042  0.064350  CD27- effector B cell       BR2   Y1  DEGs_Male  \n",
      "50505  0.047918               CD4 MAIT       BR1   Y1  DEGs_Male  \n",
      "             celltype Direction         type  count\n",
      "0    Adaptive NK cell       BR2    DEGs_Male      1\n",
      "1    Adaptive NK cell       BR2  DEGs_Female      0\n",
      "2    Adaptive NK cell       BR1    DEGs_Male      0\n",
      "3    Adaptive NK cell       BR1  DEGs_Female      0\n",
      "4  C1Q+ CD16 monocyte       BR2    DEGs_Male      0\n"
     ]
    },
    {
     "data": {
      "text/plain": [
       "(152, 4)"
      ]
     },
     "execution_count": 4,
     "metadata": {},
     "output_type": "execute_result"
    }
   ],
   "source": [
    "import pandas as pd\n",
    "\n",
    "# Assuming 'master' is your DataFrame\n",
    "# Filtered DataFrame where padj <= 0.1\n",
    "filtered = master[master['padj'] <= 0.1]\n",
    "\n",
    "print(\"Original DataFrame dimensions:\", master.shape)\n",
    "print(\"Filtered DataFrame dimensions:\", filtered.shape)\n",
    "print(filtered.head())\n",
    "\n",
    "# Grouping and summarizing\n",
    "filtered_df = filtered.groupby(['celltype', 'Direction', 'type']).size().reset_index(name='count')\n",
    "\n",
    "# Add missing combinations and fill with 0\n",
    "all_combinations = pd.MultiIndex.from_product([filtered['celltype'].unique(), \n",
    "                                               filtered['Direction'].unique(), \n",
    "                                               filtered['type'].unique()],\n",
    "                                              names=['celltype', 'Direction', 'type'])\n",
    "\n",
    "filtered_df = (filtered_df.set_index(['celltype', 'Direction', 'type'])\n",
    "                          .reindex(all_combinations, fill_value=0)\n",
    "                          .reset_index())\n",
    "\n",
    "print(filtered_df.head())\n",
    "filtered_df.shape"
   ]
  },
  {
   "cell_type": "code",
   "execution_count": 5,
   "id": "6e8d7f20-1581-469c-86d7-2271ea995b38",
   "metadata": {
    "tags": []
   },
   "outputs": [
    {
     "data": {
      "text/plain": [
       "38"
      ]
     },
     "execution_count": 5,
     "metadata": {},
     "output_type": "execute_result"
    }
   ],
   "source": [
    "filtered_df['celltype'].nunique()"
   ]
  },
  {
   "cell_type": "code",
   "execution_count": 7,
   "id": "2b7f30d8-eb5e-4db3-897e-cc07d7072f80",
   "metadata": {
    "tags": []
   },
   "outputs": [],
   "source": [
    "#save the dataframe\n",
    "filtered_df.to_csv(\"/home/jupyter/IH-A-Aging-Analysis-Notebooks_old/Mansi_Notebooks/scRNA/DEG_Analysis/MS_Sex_DEG_analysis/nDEGs_sourcedata.csv\", index=False)\n"
   ]
  },
  {
   "cell_type": "code",
   "execution_count": 14,
   "id": "e77384d3-e5ab-4c8c-a2a0-11903d6931ae",
   "metadata": {
    "tags": []
   },
   "outputs": [],
   "source": [
    "import numpy as np\n",
    "import pandas as pd\n",
    "import plotly.graph_objects as go"
   ]
  },
  {
   "cell_type": "code",
   "execution_count": 15,
   "id": "55ecf78c-31a0-4a1a-ac11-554cd3aeaea8",
   "metadata": {
    "tags": []
   },
   "outputs": [
    {
     "name": "stderr",
     "output_type": "stream",
     "text": [
      "/tmp/ipykernel_104142/1981512994.py:28: FutureWarning: DataFrame.groupby with axis=1 is deprecated. Do `frame.T.groupby(...)` without axis instead.\n",
      "  yaxis_range=[0, filtered_df.groupby(axis=1, level=0).sum().max().max() * 1.5],\n"
     ]
    },
    {
     "ename": "TypeError",
     "evalue": "'<=' not supported between instances of 'numpy.ndarray' and 'str'",
     "output_type": "error",
     "traceback": [
      "\u001b[0;31m---------------------------------------------------------------------------\u001b[0m",
      "\u001b[0;31mTypeError\u001b[0m                                 Traceback (most recent call last)",
      "Cell \u001b[0;32mIn[15], line 28\u001b[0m\n\u001b[1;32m      1\u001b[0m \u001b[38;5;66;03m# # Create dummy data indexed by month and with multi-columns [product, revenue]\u001b[39;00m\n\u001b[1;32m      2\u001b[0m \u001b[38;5;66;03m# index = pd.date_range(\"2020\", \"2021\", freq=\"MS\", closed=\"left\")\u001b[39;00m\n\u001b[1;32m      3\u001b[0m \u001b[38;5;66;03m# df = pd.concat(\u001b[39;00m\n\u001b[0;32m   (...)\u001b[0m\n\u001b[1;32m     19\u001b[0m \n\u001b[1;32m     20\u001b[0m \u001b[38;5;66;03m# Create a figure with the right layout\u001b[39;00m\n\u001b[1;32m     21\u001b[0m fig \u001b[38;5;241m=\u001b[39m go\u001b[38;5;241m.\u001b[39mFigure(\n\u001b[1;32m     22\u001b[0m     layout\u001b[38;5;241m=\u001b[39mgo\u001b[38;5;241m.\u001b[39mLayout(\n\u001b[1;32m     23\u001b[0m         height\u001b[38;5;241m=\u001b[39m\u001b[38;5;241m600\u001b[39m,\n\u001b[1;32m     24\u001b[0m         width\u001b[38;5;241m=\u001b[39m\u001b[38;5;241m1000\u001b[39m,\n\u001b[1;32m     25\u001b[0m         barmode\u001b[38;5;241m=\u001b[39m\u001b[38;5;124m\"\u001b[39m\u001b[38;5;124mrelative\u001b[39m\u001b[38;5;124m\"\u001b[39m,\n\u001b[1;32m     26\u001b[0m         yaxis_showticklabels\u001b[38;5;241m=\u001b[39m\u001b[38;5;28;01mFalse\u001b[39;00m,\n\u001b[1;32m     27\u001b[0m         yaxis_showgrid\u001b[38;5;241m=\u001b[39m\u001b[38;5;28;01mFalse\u001b[39;00m,\n\u001b[0;32m---> 28\u001b[0m         yaxis_range\u001b[38;5;241m=\u001b[39m[\u001b[38;5;241m0\u001b[39m, \u001b[43mfiltered_df\u001b[49m\u001b[38;5;241;43m.\u001b[39;49m\u001b[43mgroupby\u001b[49m\u001b[43m(\u001b[49m\u001b[43maxis\u001b[49m\u001b[38;5;241;43m=\u001b[39;49m\u001b[38;5;241;43m1\u001b[39;49m\u001b[43m,\u001b[49m\u001b[43m \u001b[49m\u001b[43mlevel\u001b[49m\u001b[38;5;241;43m=\u001b[39;49m\u001b[38;5;241;43m0\u001b[39;49m\u001b[43m)\u001b[49m\u001b[38;5;241;43m.\u001b[39;49m\u001b[43msum\u001b[49m\u001b[43m(\u001b[49m\u001b[43m)\u001b[49m\u001b[38;5;241;43m.\u001b[39;49m\u001b[43mmax\u001b[49m\u001b[43m(\u001b[49m\u001b[43m)\u001b[49m\u001b[38;5;241;43m.\u001b[39;49m\u001b[43mmax\u001b[49m\u001b[43m(\u001b[49m\u001b[43m)\u001b[49m \u001b[38;5;241m*\u001b[39m \u001b[38;5;241m1.5\u001b[39m],\n\u001b[1;32m     29\u001b[0m        \u001b[38;5;66;03m# Secondary y-axis overlayed on the primary one and not visible\u001b[39;00m\n\u001b[1;32m     30\u001b[0m         yaxis2\u001b[38;5;241m=\u001b[39mgo\u001b[38;5;241m.\u001b[39mlayout\u001b[38;5;241m.\u001b[39mYAxis(\n\u001b[1;32m     31\u001b[0m             visible\u001b[38;5;241m=\u001b[39m\u001b[38;5;28;01mFalse\u001b[39;00m,\n\u001b[1;32m     32\u001b[0m             matches\u001b[38;5;241m=\u001b[39m\u001b[38;5;124m\"\u001b[39m\u001b[38;5;124my\u001b[39m\u001b[38;5;124m\"\u001b[39m,\n\u001b[1;32m     33\u001b[0m             overlaying\u001b[38;5;241m=\u001b[39m\u001b[38;5;124m\"\u001b[39m\u001b[38;5;124my\u001b[39m\u001b[38;5;124m\"\u001b[39m,\n\u001b[1;32m     34\u001b[0m             anchor\u001b[38;5;241m=\u001b[39m\u001b[38;5;124m\"\u001b[39m\u001b[38;5;124mx\u001b[39m\u001b[38;5;124m\"\u001b[39m,\n\u001b[1;32m     35\u001b[0m         ),\n\u001b[1;32m     36\u001b[0m         font\u001b[38;5;241m=\u001b[39m\u001b[38;5;28mdict\u001b[39m(size\u001b[38;5;241m=\u001b[39m\u001b[38;5;241m24\u001b[39m),\n\u001b[1;32m     37\u001b[0m         legend_x\u001b[38;5;241m=\u001b[39m\u001b[38;5;241m0\u001b[39m,\n\u001b[1;32m     38\u001b[0m         legend_y\u001b[38;5;241m=\u001b[39m\u001b[38;5;241m1\u001b[39m,\n\u001b[1;32m     39\u001b[0m         legend_orientation\u001b[38;5;241m=\u001b[39m\u001b[38;5;124m\"\u001b[39m\u001b[38;5;124mh\u001b[39m\u001b[38;5;124m\"\u001b[39m,\n\u001b[1;32m     40\u001b[0m         hovermode\u001b[38;5;241m=\u001b[39m\u001b[38;5;124m\"\u001b[39m\u001b[38;5;124mx\u001b[39m\u001b[38;5;124m\"\u001b[39m,\n\u001b[1;32m     41\u001b[0m         margin\u001b[38;5;241m=\u001b[39m\u001b[38;5;28mdict\u001b[39m(b\u001b[38;5;241m=\u001b[39m\u001b[38;5;241m0\u001b[39m,t\u001b[38;5;241m=\u001b[39m\u001b[38;5;241m10\u001b[39m,l\u001b[38;5;241m=\u001b[39m\u001b[38;5;241m0\u001b[39m,r\u001b[38;5;241m=\u001b[39m\u001b[38;5;241m10\u001b[39m)\n\u001b[1;32m     42\u001b[0m     )\n\u001b[1;32m     43\u001b[0m )\n\u001b[1;32m     45\u001b[0m \u001b[38;5;66;03m# Define some colors for the product, revenue pairs\u001b[39;00m\n\u001b[1;32m     46\u001b[0m colors \u001b[38;5;241m=\u001b[39m {\n\u001b[1;32m     47\u001b[0m     \u001b[38;5;124m\"\u001b[39m\u001b[38;5;124mDEGs_Male\u001b[39m\u001b[38;5;124m\"\u001b[39m: {\n\u001b[1;32m     48\u001b[0m         \u001b[38;5;124m\"\u001b[39m\u001b[38;5;124mBR1\u001b[39m\u001b[38;5;124m\"\u001b[39m: \u001b[38;5;124m\"\u001b[39m\u001b[38;5;124m#F28F1D\u001b[39m\u001b[38;5;124m\"\u001b[39m,\n\u001b[0;32m   (...)\u001b[0m\n\u001b[1;32m     54\u001b[0m     }\n\u001b[1;32m     55\u001b[0m }\n",
      "File \u001b[0;32m/opt/conda/lib/python3.10/site-packages/pandas/core/series.py:6194\u001b[0m, in \u001b[0;36mSeries.max\u001b[0;34m(self, axis, skipna, numeric_only, **kwargs)\u001b[0m\n\u001b[1;32m   6186\u001b[0m \u001b[38;5;129m@doc\u001b[39m(make_doc(\u001b[38;5;124m\"\u001b[39m\u001b[38;5;124mmax\u001b[39m\u001b[38;5;124m\"\u001b[39m, ndim\u001b[38;5;241m=\u001b[39m\u001b[38;5;241m1\u001b[39m))\n\u001b[1;32m   6187\u001b[0m \u001b[38;5;28;01mdef\u001b[39;00m \u001b[38;5;21mmax\u001b[39m(\n\u001b[1;32m   6188\u001b[0m     \u001b[38;5;28mself\u001b[39m,\n\u001b[0;32m   (...)\u001b[0m\n\u001b[1;32m   6192\u001b[0m     \u001b[38;5;241m*\u001b[39m\u001b[38;5;241m*\u001b[39mkwargs,\n\u001b[1;32m   6193\u001b[0m ):\n\u001b[0;32m-> 6194\u001b[0m     \u001b[38;5;28;01mreturn\u001b[39;00m \u001b[43mNDFrame\u001b[49m\u001b[38;5;241;43m.\u001b[39;49m\u001b[43mmax\u001b[49m\u001b[43m(\u001b[49m\u001b[38;5;28;43mself\u001b[39;49m\u001b[43m,\u001b[49m\u001b[43m \u001b[49m\u001b[43maxis\u001b[49m\u001b[43m,\u001b[49m\u001b[43m \u001b[49m\u001b[43mskipna\u001b[49m\u001b[43m,\u001b[49m\u001b[43m \u001b[49m\u001b[43mnumeric_only\u001b[49m\u001b[43m,\u001b[49m\u001b[43m \u001b[49m\u001b[38;5;241;43m*\u001b[39;49m\u001b[38;5;241;43m*\u001b[39;49m\u001b[43mkwargs\u001b[49m\u001b[43m)\u001b[49m\n",
      "File \u001b[0;32m/opt/conda/lib/python3.10/site-packages/pandas/core/generic.py:11953\u001b[0m, in \u001b[0;36mNDFrame.max\u001b[0;34m(self, axis, skipna, numeric_only, **kwargs)\u001b[0m\n\u001b[1;32m  11946\u001b[0m \u001b[38;5;28;01mdef\u001b[39;00m \u001b[38;5;21mmax\u001b[39m(\n\u001b[1;32m  11947\u001b[0m     \u001b[38;5;28mself\u001b[39m,\n\u001b[1;32m  11948\u001b[0m     axis: Axis \u001b[38;5;241m|\u001b[39m \u001b[38;5;28;01mNone\u001b[39;00m \u001b[38;5;241m=\u001b[39m \u001b[38;5;241m0\u001b[39m,\n\u001b[0;32m   (...)\u001b[0m\n\u001b[1;32m  11951\u001b[0m     \u001b[38;5;241m*\u001b[39m\u001b[38;5;241m*\u001b[39mkwargs,\n\u001b[1;32m  11952\u001b[0m ):\n\u001b[0;32m> 11953\u001b[0m     \u001b[38;5;28;01mreturn\u001b[39;00m \u001b[38;5;28;43mself\u001b[39;49m\u001b[38;5;241;43m.\u001b[39;49m\u001b[43m_stat_function\u001b[49m\u001b[43m(\u001b[49m\n\u001b[1;32m  11954\u001b[0m \u001b[43m        \u001b[49m\u001b[38;5;124;43m\"\u001b[39;49m\u001b[38;5;124;43mmax\u001b[39;49m\u001b[38;5;124;43m\"\u001b[39;49m\u001b[43m,\u001b[49m\n\u001b[1;32m  11955\u001b[0m \u001b[43m        \u001b[49m\u001b[43mnanops\u001b[49m\u001b[38;5;241;43m.\u001b[39;49m\u001b[43mnanmax\u001b[49m\u001b[43m,\u001b[49m\n\u001b[1;32m  11956\u001b[0m \u001b[43m        \u001b[49m\u001b[43maxis\u001b[49m\u001b[43m,\u001b[49m\n\u001b[1;32m  11957\u001b[0m \u001b[43m        \u001b[49m\u001b[43mskipna\u001b[49m\u001b[43m,\u001b[49m\n\u001b[1;32m  11958\u001b[0m \u001b[43m        \u001b[49m\u001b[43mnumeric_only\u001b[49m\u001b[43m,\u001b[49m\n\u001b[1;32m  11959\u001b[0m \u001b[43m        \u001b[49m\u001b[38;5;241;43m*\u001b[39;49m\u001b[38;5;241;43m*\u001b[39;49m\u001b[43mkwargs\u001b[49m\u001b[43m,\u001b[49m\n\u001b[1;32m  11960\u001b[0m \u001b[43m    \u001b[49m\u001b[43m)\u001b[49m\n",
      "File \u001b[0;32m/opt/conda/lib/python3.10/site-packages/pandas/core/generic.py:11926\u001b[0m, in \u001b[0;36mNDFrame._stat_function\u001b[0;34m(self, name, func, axis, skipna, numeric_only, **kwargs)\u001b[0m\n\u001b[1;32m  11922\u001b[0m nv\u001b[38;5;241m.\u001b[39mvalidate_func(name, (), kwargs)\n\u001b[1;32m  11924\u001b[0m validate_bool_kwarg(skipna, \u001b[38;5;124m\"\u001b[39m\u001b[38;5;124mskipna\u001b[39m\u001b[38;5;124m\"\u001b[39m, none_allowed\u001b[38;5;241m=\u001b[39m\u001b[38;5;28;01mFalse\u001b[39;00m)\n\u001b[0;32m> 11926\u001b[0m \u001b[38;5;28;01mreturn\u001b[39;00m \u001b[38;5;28;43mself\u001b[39;49m\u001b[38;5;241;43m.\u001b[39;49m\u001b[43m_reduce\u001b[49m\u001b[43m(\u001b[49m\n\u001b[1;32m  11927\u001b[0m \u001b[43m    \u001b[49m\u001b[43mfunc\u001b[49m\u001b[43m,\u001b[49m\u001b[43m \u001b[49m\u001b[43mname\u001b[49m\u001b[38;5;241;43m=\u001b[39;49m\u001b[43mname\u001b[49m\u001b[43m,\u001b[49m\u001b[43m \u001b[49m\u001b[43maxis\u001b[49m\u001b[38;5;241;43m=\u001b[39;49m\u001b[43maxis\u001b[49m\u001b[43m,\u001b[49m\u001b[43m \u001b[49m\u001b[43mskipna\u001b[49m\u001b[38;5;241;43m=\u001b[39;49m\u001b[43mskipna\u001b[49m\u001b[43m,\u001b[49m\u001b[43m \u001b[49m\u001b[43mnumeric_only\u001b[49m\u001b[38;5;241;43m=\u001b[39;49m\u001b[43mnumeric_only\u001b[49m\n\u001b[1;32m  11928\u001b[0m \u001b[43m\u001b[49m\u001b[43m)\u001b[49m\n",
      "File \u001b[0;32m/opt/conda/lib/python3.10/site-packages/pandas/core/series.py:6134\u001b[0m, in \u001b[0;36mSeries._reduce\u001b[0;34m(self, op, name, axis, skipna, numeric_only, filter_type, **kwds)\u001b[0m\n\u001b[1;32m   6129\u001b[0m     \u001b[38;5;66;03m# GH#47500 - change to TypeError to match other methods\u001b[39;00m\n\u001b[1;32m   6130\u001b[0m     \u001b[38;5;28;01mraise\u001b[39;00m \u001b[38;5;167;01mTypeError\u001b[39;00m(\n\u001b[1;32m   6131\u001b[0m         \u001b[38;5;124mf\u001b[39m\u001b[38;5;124m\"\u001b[39m\u001b[38;5;124mSeries.\u001b[39m\u001b[38;5;132;01m{\u001b[39;00mname\u001b[38;5;132;01m}\u001b[39;00m\u001b[38;5;124m does not allow \u001b[39m\u001b[38;5;132;01m{\u001b[39;00mkwd_name\u001b[38;5;132;01m}\u001b[39;00m\u001b[38;5;124m=\u001b[39m\u001b[38;5;132;01m{\u001b[39;00mnumeric_only\u001b[38;5;132;01m}\u001b[39;00m\u001b[38;5;124m \u001b[39m\u001b[38;5;124m\"\u001b[39m\n\u001b[1;32m   6132\u001b[0m         \u001b[38;5;124m\"\u001b[39m\u001b[38;5;124mwith non-numeric dtypes.\u001b[39m\u001b[38;5;124m\"\u001b[39m\n\u001b[1;32m   6133\u001b[0m     )\n\u001b[0;32m-> 6134\u001b[0m \u001b[38;5;28;01mreturn\u001b[39;00m \u001b[43mop\u001b[49m\u001b[43m(\u001b[49m\u001b[43mdelegate\u001b[49m\u001b[43m,\u001b[49m\u001b[43m \u001b[49m\u001b[43mskipna\u001b[49m\u001b[38;5;241;43m=\u001b[39;49m\u001b[43mskipna\u001b[49m\u001b[43m,\u001b[49m\u001b[43m \u001b[49m\u001b[38;5;241;43m*\u001b[39;49m\u001b[38;5;241;43m*\u001b[39;49m\u001b[43mkwds\u001b[49m\u001b[43m)\u001b[49m\n",
      "File \u001b[0;32m/opt/conda/lib/python3.10/site-packages/pandas/core/nanops.py:147\u001b[0m, in \u001b[0;36mbottleneck_switch.__call__.<locals>.f\u001b[0;34m(values, axis, skipna, **kwds)\u001b[0m\n\u001b[1;32m    145\u001b[0m         result \u001b[38;5;241m=\u001b[39m alt(values, axis\u001b[38;5;241m=\u001b[39maxis, skipna\u001b[38;5;241m=\u001b[39mskipna, \u001b[38;5;241m*\u001b[39m\u001b[38;5;241m*\u001b[39mkwds)\n\u001b[1;32m    146\u001b[0m \u001b[38;5;28;01melse\u001b[39;00m:\n\u001b[0;32m--> 147\u001b[0m     result \u001b[38;5;241m=\u001b[39m \u001b[43malt\u001b[49m\u001b[43m(\u001b[49m\u001b[43mvalues\u001b[49m\u001b[43m,\u001b[49m\u001b[43m \u001b[49m\u001b[43maxis\u001b[49m\u001b[38;5;241;43m=\u001b[39;49m\u001b[43maxis\u001b[49m\u001b[43m,\u001b[49m\u001b[43m \u001b[49m\u001b[43mskipna\u001b[49m\u001b[38;5;241;43m=\u001b[39;49m\u001b[43mskipna\u001b[49m\u001b[43m,\u001b[49m\u001b[43m \u001b[49m\u001b[38;5;241;43m*\u001b[39;49m\u001b[38;5;241;43m*\u001b[39;49m\u001b[43mkwds\u001b[49m\u001b[43m)\u001b[49m\n\u001b[1;32m    149\u001b[0m \u001b[38;5;28;01mreturn\u001b[39;00m result\n",
      "File \u001b[0;32m/opt/conda/lib/python3.10/site-packages/pandas/core/nanops.py:404\u001b[0m, in \u001b[0;36m_datetimelike_compat.<locals>.new_func\u001b[0;34m(values, axis, skipna, mask, **kwargs)\u001b[0m\n\u001b[1;32m    401\u001b[0m \u001b[38;5;28;01mif\u001b[39;00m datetimelike \u001b[38;5;129;01mand\u001b[39;00m mask \u001b[38;5;129;01mis\u001b[39;00m \u001b[38;5;28;01mNone\u001b[39;00m:\n\u001b[1;32m    402\u001b[0m     mask \u001b[38;5;241m=\u001b[39m isna(values)\n\u001b[0;32m--> 404\u001b[0m result \u001b[38;5;241m=\u001b[39m \u001b[43mfunc\u001b[49m\u001b[43m(\u001b[49m\u001b[43mvalues\u001b[49m\u001b[43m,\u001b[49m\u001b[43m \u001b[49m\u001b[43maxis\u001b[49m\u001b[38;5;241;43m=\u001b[39;49m\u001b[43maxis\u001b[49m\u001b[43m,\u001b[49m\u001b[43m \u001b[49m\u001b[43mskipna\u001b[49m\u001b[38;5;241;43m=\u001b[39;49m\u001b[43mskipna\u001b[49m\u001b[43m,\u001b[49m\u001b[43m \u001b[49m\u001b[43mmask\u001b[49m\u001b[38;5;241;43m=\u001b[39;49m\u001b[43mmask\u001b[49m\u001b[43m,\u001b[49m\u001b[43m \u001b[49m\u001b[38;5;241;43m*\u001b[39;49m\u001b[38;5;241;43m*\u001b[39;49m\u001b[43mkwargs\u001b[49m\u001b[43m)\u001b[49m\n\u001b[1;32m    406\u001b[0m \u001b[38;5;28;01mif\u001b[39;00m datetimelike:\n\u001b[1;32m    407\u001b[0m     result \u001b[38;5;241m=\u001b[39m _wrap_results(result, orig_values\u001b[38;5;241m.\u001b[39mdtype, fill_value\u001b[38;5;241m=\u001b[39miNaT)\n",
      "File \u001b[0;32m/opt/conda/lib/python3.10/site-packages/pandas/core/nanops.py:1092\u001b[0m, in \u001b[0;36m_nanminmax.<locals>.reduction\u001b[0;34m(values, axis, skipna, mask)\u001b[0m\n\u001b[1;32m   1087\u001b[0m     \u001b[38;5;28;01mreturn\u001b[39;00m _na_for_min_count(values, axis)\n\u001b[1;32m   1089\u001b[0m values, mask \u001b[38;5;241m=\u001b[39m _get_values(\n\u001b[1;32m   1090\u001b[0m     values, skipna, fill_value_typ\u001b[38;5;241m=\u001b[39mfill_value_typ, mask\u001b[38;5;241m=\u001b[39mmask\n\u001b[1;32m   1091\u001b[0m )\n\u001b[0;32m-> 1092\u001b[0m result \u001b[38;5;241m=\u001b[39m \u001b[38;5;28;43mgetattr\u001b[39;49m\u001b[43m(\u001b[49m\u001b[43mvalues\u001b[49m\u001b[43m,\u001b[49m\u001b[43m \u001b[49m\u001b[43mmeth\u001b[49m\u001b[43m)\u001b[49m\u001b[43m(\u001b[49m\u001b[43maxis\u001b[49m\u001b[43m)\u001b[49m\n\u001b[1;32m   1093\u001b[0m result \u001b[38;5;241m=\u001b[39m _maybe_null_out(result, axis, mask, values\u001b[38;5;241m.\u001b[39mshape)\n\u001b[1;32m   1094\u001b[0m \u001b[38;5;28;01mreturn\u001b[39;00m result\n",
      "File \u001b[0;32m/opt/conda/lib/python3.10/site-packages/numpy/core/_methods.py:41\u001b[0m, in \u001b[0;36m_amax\u001b[0;34m(a, axis, out, keepdims, initial, where)\u001b[0m\n\u001b[1;32m     39\u001b[0m \u001b[38;5;28;01mdef\u001b[39;00m \u001b[38;5;21m_amax\u001b[39m(a, axis\u001b[38;5;241m=\u001b[39m\u001b[38;5;28;01mNone\u001b[39;00m, out\u001b[38;5;241m=\u001b[39m\u001b[38;5;28;01mNone\u001b[39;00m, keepdims\u001b[38;5;241m=\u001b[39m\u001b[38;5;28;01mFalse\u001b[39;00m,\n\u001b[1;32m     40\u001b[0m           initial\u001b[38;5;241m=\u001b[39m_NoValue, where\u001b[38;5;241m=\u001b[39m\u001b[38;5;28;01mTrue\u001b[39;00m):\n\u001b[0;32m---> 41\u001b[0m     \u001b[38;5;28;01mreturn\u001b[39;00m \u001b[43mumr_maximum\u001b[49m\u001b[43m(\u001b[49m\u001b[43ma\u001b[49m\u001b[43m,\u001b[49m\u001b[43m \u001b[49m\u001b[43maxis\u001b[49m\u001b[43m,\u001b[49m\u001b[43m \u001b[49m\u001b[38;5;28;43;01mNone\u001b[39;49;00m\u001b[43m,\u001b[49m\u001b[43m \u001b[49m\u001b[43mout\u001b[49m\u001b[43m,\u001b[49m\u001b[43m \u001b[49m\u001b[43mkeepdims\u001b[49m\u001b[43m,\u001b[49m\u001b[43m \u001b[49m\u001b[43minitial\u001b[49m\u001b[43m,\u001b[49m\u001b[43m \u001b[49m\u001b[43mwhere\u001b[49m\u001b[43m)\u001b[49m\n",
      "\u001b[0;31mTypeError\u001b[0m: '<=' not supported between instances of 'numpy.ndarray' and 'str'"
     ]
    }
   ],
   "source": [
    "\n",
    "\n",
    "\n",
    "# # Create dummy data indexed by month and with multi-columns [product, revenue]\n",
    "# index = pd.date_range(\"2020\", \"2021\", freq=\"MS\", closed=\"left\")\n",
    "# df = pd.concat(\n",
    "#     [\n",
    "#         pd.DataFrame(\n",
    "#             np.random.rand(12, 3) * 1.25 + 0.25,\n",
    "#             index=index,\n",
    "#             columns=[\"Revenue1\", \"Revenue2\", \"Revenue3\"]\n",
    "#         ),\n",
    "#         pd.DataFrame(\n",
    "#             np.random.rand(12, 3) + 0.5,\n",
    "#             index=index,\n",
    "#             columns=[\"Revenue1\", \"Revenue2\", \"Revenue3\"]\n",
    "#         ),\n",
    "#     ],\n",
    "#     axis=1,\n",
    "#     keys=[\"Product1\", \"Product2\"]\n",
    "# )\n",
    "\n",
    "# Create a figure with the right layout\n",
    "fig = go.Figure(\n",
    "    layout=go.Layout(\n",
    "        height=600,\n",
    "        width=1000,\n",
    "        barmode=\"relative\",\n",
    "        yaxis_showticklabels=False,\n",
    "        yaxis_showgrid=False,\n",
    "        yaxis_range=[0, filtered_df.groupby(axis=1, level=0).sum().max().max() * 1.5],\n",
    "       # Secondary y-axis overlayed on the primary one and not visible\n",
    "        yaxis2=go.layout.YAxis(\n",
    "            visible=False,\n",
    "            matches=\"y\",\n",
    "            overlaying=\"y\",\n",
    "            anchor=\"x\",\n",
    "        ),\n",
    "        font=dict(size=24),\n",
    "        legend_x=0,\n",
    "        legend_y=1,\n",
    "        legend_orientation=\"h\",\n",
    "        hovermode=\"x\",\n",
    "        margin=dict(b=0,t=10,l=0,r=10)\n",
    "    )\n",
    ")\n",
    "\n",
    "# Define some colors for the product, revenue pairs\n",
    "colors = {\n",
    "    \"DEGs_Male\": {\n",
    "        \"BR1\": \"#F28F1D\",\n",
    "        \"BR2\": \"#F6C619\",\n",
    "    },\n",
    "    \"DEGs_Female\": {\n",
    "        \"BR1\": \"#2B6045\",\n",
    "        \"BR2\": \"#5EB88A\",\n",
    "    }\n",
    "}\n",
    "\n",
    "# Add the traces\n",
    "for i, t in enumerate(colors):\n",
    "    for j, col in enumerate(filtered_df[t].columns):\n",
    "        if (filtered_df[t][col] == 0).all():\n",
    "            continue\n",
    "        fig.add_bar(\n",
    "            x=filtered_df.celltype,\n",
    "            y=filtered_df[t][col],\n",
    "            # Set the right yaxis depending on the selected product (from enumerate)\n",
    "            yaxis=f\"y{i + 1}\",\n",
    "            # Offset the bar trace, offset needs to match the width\n",
    "            # The values here are in milliseconds, 1billion ms is ~1/3 month\n",
    "            offsetgroup=str(i),\n",
    "            offset=(i - 1) * 1000000000,\n",
    "            width=1000000000,\n",
    "            legendgroup=t,\n",
    "            legendgrouptitle_text=t,\n",
    "            name=col,\n",
    "            marker_color=colors[t][col],\n",
    "            marker_line=dict(width=2, color=\"#333\"),\n",
    "            hovertemplate=\"%{y}<extra></extra>\"\n",
    "        )\n",
    "\n",
    "fig.show()"
   ]
  },
  {
   "cell_type": "code",
   "execution_count": null,
   "id": "8cef7b33-4c33-46c5-a691-dc73e001250a",
   "metadata": {},
   "outputs": [],
   "source": []
  },
  {
   "cell_type": "code",
   "execution_count": null,
   "id": "d569bfc6-e756-4d6b-876a-d88a8dbe3c8c",
   "metadata": {},
   "outputs": [],
   "source": []
  }
 ],
 "metadata": {
  "kernelspec": {
   "display_name": "Python 3 (ipykernel)",
   "language": "python",
   "name": "python3"
  },
  "language_info": {
   "codemirror_mode": {
    "name": "ipython",
    "version": 3
   },
   "file_extension": ".py",
   "mimetype": "text/x-python",
   "name": "python",
   "nbconvert_exporter": "python",
   "pygments_lexer": "ipython3",
   "version": "3.10.12"
  }
 },
 "nbformat": 4,
 "nbformat_minor": 5
}
