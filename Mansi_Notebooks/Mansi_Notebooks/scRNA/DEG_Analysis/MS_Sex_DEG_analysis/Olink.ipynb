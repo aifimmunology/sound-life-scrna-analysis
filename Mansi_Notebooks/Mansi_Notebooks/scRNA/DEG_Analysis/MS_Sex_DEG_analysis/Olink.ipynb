{
 "cells": [
  {
   "cell_type": "code",
   "execution_count": 26,
   "id": "09ccfdb9-0080-43a5-a072-0dae1ffbcfb3",
   "metadata": {
    "tags": []
   },
   "outputs": [],
   "source": [
    "library(sceasy)\n",
    "suppressPackageStartupMessages(library(DESeq2))\n",
    "suppressPackageStartupMessages(library(H5weaver))\n",
    "suppressPackageStartupMessages(library(dplyr))\n",
    "suppressPackageStartupMessages(library(tidyr))\n",
    "suppressPackageStartupMessages(library(tibble))\n",
    "suppressPackageStartupMessages(library(ggplot2))\n",
    "suppressPackageStartupMessages(library(Seurat))\n",
    "suppressPackageStartupMessages(library(stringr))\n",
    "library(parallel)\n",
    "library(SingleCellExperiment)\n",
    "library(knitr)"
   ]
  },
  {
   "cell_type": "code",
   "execution_count": 24,
   "id": "389599f5-5bea-48a3-aa78-6696f860442e",
   "metadata": {
    "tags": []
   },
   "outputs": [
    {
     "name": "stderr",
     "output_type": "stream",
     "text": [
      "Warning message:\n",
      "“package ‘sceasy’ is not available for this version of R\n",
      "\n",
      "A version of this package for your version of R might be available elsewhere,\n",
      "see the ideas at\n",
      "https://cran.r-project.org/doc/manuals/r-patched/R-admin.html#Installing-packages”\n"
     ]
    }
   ],
   "source": [
    "install.packages('sceasy')"
   ]
  },
  {
   "cell_type": "code",
   "execution_count": 25,
   "id": "115ac360-0cf1-4aad-b38f-f5c6bacb8bb9",
   "metadata": {
    "tags": []
   },
   "outputs": [
    {
     "data": {
      "text/html": [
       "<table class=\"dataframe\">\n",
       "<caption>A data.frame: 6 × 36</caption>\n",
       "<thead>\n",
       "\t<tr><th></th><th scope=col>X.1</th><th scope=col>X</th><th scope=col>lastUpdated</th><th scope=col>sample.id</th><th scope=col>sample.bridgingControl</th><th scope=col>sample.sampleKitGuid</th><th scope=col>sample.visitName</th><th scope=col>sample.visitDetails</th><th scope=col>sample.drawDate</th><th scope=col>sample.daysSinceFirstVisit</th><th scope=col>⋯</th><th scope=col>pbmc_sample_id</th><th scope=col>Sample_ID</th><th scope=col>Sample_Draw_date</th><th scope=col>Covid_Dose_1</th><th scope=col>Covid_Dose_2</th><th scope=col>Covid_exlcusion</th><th scope=col>CMV.IgG.Serology.Result.Interpretation</th><th scope=col>BMI</th><th scope=col>file.name.downloaded</th><th scope=col>file.path</th></tr>\n",
       "\t<tr><th></th><th scope=col>&lt;int&gt;</th><th scope=col>&lt;int&gt;</th><th scope=col>&lt;chr&gt;</th><th scope=col>&lt;chr&gt;</th><th scope=col>&lt;chr&gt;</th><th scope=col>&lt;chr&gt;</th><th scope=col>&lt;chr&gt;</th><th scope=col>&lt;chr&gt;</th><th scope=col>&lt;chr&gt;</th><th scope=col>&lt;int&gt;</th><th scope=col>⋯</th><th scope=col>&lt;chr&gt;</th><th scope=col>&lt;lgl&gt;</th><th scope=col>&lt;chr&gt;</th><th scope=col>&lt;chr&gt;</th><th scope=col>&lt;chr&gt;</th><th scope=col>&lt;chr&gt;</th><th scope=col>&lt;chr&gt;</th><th scope=col>&lt;chr&gt;</th><th scope=col>&lt;chr&gt;</th><th scope=col>&lt;chr&gt;</th></tr>\n",
       "</thead>\n",
       "<tbody>\n",
       "\t<tr><th scope=row>1</th><td>1</td><td>1</td><td>2023-11-18T02:03:08.347Z</td><td>f499ff83-e513-4d24-a10f-151348269fff</td><td>false</td><td>KT00001</td><td>Flu Year 1 Day 0</td><td>N/A - Flu-Series Timepoint Only</td><td>2019-10-01T00:00:00Z</td><td>0</td><td>⋯</td><td>PB00001-01</td><td>NA</td><td>2019-10-15</td><td><span style=white-space:pre-wrap>NA        </span></td><td><span style=white-space:pre-wrap>NA        </span></td><td>no</td><td>Negative</td><td><span style=white-space:pre-wrap>&lt;25-BMI  </span></td><td><span style=white-space:pre-wrap>B001-P1_PB00001-01_labeled.h5                               </span></td><td><span style=white-space:pre-wrap>/home/jupyter/BRI_Analysis/scRNA/cache/fec489f9-9a74-4635-aa91-d2bf09d1faec/B001-P1_PB00001-01_labeled.h5                               </span></td></tr>\n",
       "\t<tr><th scope=row>2</th><td>2</td><td>2</td><td>2023-11-18T02:03:08.347Z</td><td>750e90a9-a296-4f0f-969f-60225c2bca17</td><td>false</td><td>KT00002</td><td>Flu Year 1 Day 0</td><td>N/A - Flu-Series Timepoint Only</td><td>2019-10-01T00:00:00Z</td><td>0</td><td>⋯</td><td>PB00002-01</td><td>NA</td><td>2019-10-15</td><td>2020-12-28</td><td>2021-01-18</td><td>no</td><td>Negative</td><td><span style=white-space:pre-wrap>&lt;25-BMI  </span></td><td><span style=white-space:pre-wrap>B001-P1_PB00002-01_labeled.h5                               </span></td><td><span style=white-space:pre-wrap>/home/jupyter/BRI_Analysis/scRNA/cache/7c0c7979-eebd-4aba-b5b2-6e76b4643623/B001-P1_PB00002-01_labeled.h5                               </span></td></tr>\n",
       "\t<tr><th scope=row>3</th><td>3</td><td>3</td><td>2023-11-18T02:03:08.347Z</td><td>2db6fb3f-e3f4-454b-891b-9b068541b51d</td><td>false</td><td>KT00003</td><td>Flu Year 1 Day 0</td><td>N/A - Flu-Series Timepoint Only</td><td>2019-10-01T00:00:00Z</td><td>0</td><td>⋯</td><td>PB00003-01</td><td>NA</td><td>2019-10-15</td><td>2020-12-28</td><td>2021-01-16</td><td>no</td><td>Negative</td><td><span style=white-space:pre-wrap>&lt;25-BMI  </span></td><td><span style=white-space:pre-wrap>B001-P1_PB00003-01_labeled.h5                               </span></td><td><span style=white-space:pre-wrap>/home/jupyter/BRI_Analysis/scRNA/cache/40efd03a-cb2f-4677-af42-a056cbfe5a17/B001-P1_PB00003-01_labeled.h5                               </span></td></tr>\n",
       "\t<tr><th scope=row>4</th><td>4</td><td>4</td><td>2023-11-19T10:34:34.12Z </td><td>f04693c5-563c-4b5b-ae58-877d0d9ae2fe</td><td>false</td><td>KT00004</td><td>Flu Year 1 Day 0</td><td>N/A - Flu-Series Timepoint Only</td><td>2019-10-01T00:00:00Z</td><td>0</td><td>⋯</td><td>PB00004-01</td><td>NA</td><td>2019-10-21</td><td>2021-04-16</td><td>2021-05-06</td><td>no</td><td>Negative</td><td><span style=white-space:pre-wrap>&lt;25-BMI  </span></td><td>B002-P1_PB00004-01_2023-11-17T21:36:51.794326181Z_labeled.h5</td><td>/home/jupyter/BRI_Analysis/scRNA/cache/68fbcd34-1d63-461d-8195-df5b8dc61b31/B002-P1_PB00004-01_2023-11-17T21:36:51.794326181Z_labeled.h5</td></tr>\n",
       "\t<tr><th scope=row>5</th><td>5</td><td>5</td><td>2023-11-19T05:07:36.805Z</td><td>eb5b3a3d-002e-40a6-aa19-aa0e6a7fff8f</td><td>false</td><td>KT00006</td><td>Flu Year 1 Day 0</td><td>N/A - Flu-Series Timepoint Only</td><td>2019-10-01T00:00:00Z</td><td>0</td><td>⋯</td><td>PB00006-01</td><td>NA</td><td>2019-10-23</td><td>2021-01-16</td><td>2021-02-26</td><td>no</td><td>Negative</td><td><span style=white-space:pre-wrap>&lt;25-BMI  </span></td><td>B002-P1_PB00006-01_2023-11-17T21:36:51.794326181Z_labeled.h5</td><td>/home/jupyter/BRI_Analysis/scRNA/cache/ea8d98e9-e99e-4dc6-9e78-9866e0deac68/B002-P1_PB00006-01_2023-11-17T21:36:51.794326181Z_labeled.h5</td></tr>\n",
       "\t<tr><th scope=row>6</th><td>6</td><td>6</td><td>2023-11-18T02:03:08.347Z</td><td>f32ac061-0ede-4040-8d8c-35229ea5229c</td><td>false</td><td>KT00010</td><td>Flu Year 1 Day 0</td><td>N/A - Flu-Series Timepoint Only</td><td>2019-10-01T00:00:00Z</td><td>0</td><td>⋯</td><td>PB00010-02</td><td>NA</td><td>2019-10-28</td><td>2021-03-21</td><td>2021-04-18</td><td>no</td><td>Negative</td><td>&gt;25-30BMI</td><td>B078-P2_PB00010-02_2021-08-19T17:09:29.934849811Z_labeled.h5</td><td>/home/jupyter/BRI_Analysis/scRNA/cache/237e41df-5616-4852-8a8f-b32835c9efcb/B078-P2_PB00010-02_2021-08-19T17:09:29.934849811Z_labeled.h5</td></tr>\n",
       "</tbody>\n",
       "</table>\n"
      ],
      "text/latex": [
       "A data.frame: 6 × 36\n",
       "\\begin{tabular}{r|lllllllllllllllllllll}\n",
       "  & X.1 & X & lastUpdated & sample.id & sample.bridgingControl & sample.sampleKitGuid & sample.visitName & sample.visitDetails & sample.drawDate & sample.daysSinceFirstVisit & ⋯ & pbmc\\_sample\\_id & Sample\\_ID & Sample\\_Draw\\_date & Covid\\_Dose\\_1 & Covid\\_Dose\\_2 & Covid\\_exlcusion & CMV.IgG.Serology.Result.Interpretation & BMI & file.name.downloaded & file.path\\\\\n",
       "  & <int> & <int> & <chr> & <chr> & <chr> & <chr> & <chr> & <chr> & <chr> & <int> & ⋯ & <chr> & <lgl> & <chr> & <chr> & <chr> & <chr> & <chr> & <chr> & <chr> & <chr>\\\\\n",
       "\\hline\n",
       "\t1 & 1 & 1 & 2023-11-18T02:03:08.347Z & f499ff83-e513-4d24-a10f-151348269fff & false & KT00001 & Flu Year 1 Day 0 & N/A - Flu-Series Timepoint Only & 2019-10-01T00:00:00Z & 0 & ⋯ & PB00001-01 & NA & 2019-10-15 & NA         & NA         & no & Negative & <25-BMI   & B001-P1\\_PB00001-01\\_labeled.h5                                & /home/jupyter/BRI\\_Analysis/scRNA/cache/fec489f9-9a74-4635-aa91-d2bf09d1faec/B001-P1\\_PB00001-01\\_labeled.h5                               \\\\\n",
       "\t2 & 2 & 2 & 2023-11-18T02:03:08.347Z & 750e90a9-a296-4f0f-969f-60225c2bca17 & false & KT00002 & Flu Year 1 Day 0 & N/A - Flu-Series Timepoint Only & 2019-10-01T00:00:00Z & 0 & ⋯ & PB00002-01 & NA & 2019-10-15 & 2020-12-28 & 2021-01-18 & no & Negative & <25-BMI   & B001-P1\\_PB00002-01\\_labeled.h5                                & /home/jupyter/BRI\\_Analysis/scRNA/cache/7c0c7979-eebd-4aba-b5b2-6e76b4643623/B001-P1\\_PB00002-01\\_labeled.h5                               \\\\\n",
       "\t3 & 3 & 3 & 2023-11-18T02:03:08.347Z & 2db6fb3f-e3f4-454b-891b-9b068541b51d & false & KT00003 & Flu Year 1 Day 0 & N/A - Flu-Series Timepoint Only & 2019-10-01T00:00:00Z & 0 & ⋯ & PB00003-01 & NA & 2019-10-15 & 2020-12-28 & 2021-01-16 & no & Negative & <25-BMI   & B001-P1\\_PB00003-01\\_labeled.h5                                & /home/jupyter/BRI\\_Analysis/scRNA/cache/40efd03a-cb2f-4677-af42-a056cbfe5a17/B001-P1\\_PB00003-01\\_labeled.h5                               \\\\\n",
       "\t4 & 4 & 4 & 2023-11-19T10:34:34.12Z  & f04693c5-563c-4b5b-ae58-877d0d9ae2fe & false & KT00004 & Flu Year 1 Day 0 & N/A - Flu-Series Timepoint Only & 2019-10-01T00:00:00Z & 0 & ⋯ & PB00004-01 & NA & 2019-10-21 & 2021-04-16 & 2021-05-06 & no & Negative & <25-BMI   & B002-P1\\_PB00004-01\\_2023-11-17T21:36:51.794326181Z\\_labeled.h5 & /home/jupyter/BRI\\_Analysis/scRNA/cache/68fbcd34-1d63-461d-8195-df5b8dc61b31/B002-P1\\_PB00004-01\\_2023-11-17T21:36:51.794326181Z\\_labeled.h5\\\\\n",
       "\t5 & 5 & 5 & 2023-11-19T05:07:36.805Z & eb5b3a3d-002e-40a6-aa19-aa0e6a7fff8f & false & KT00006 & Flu Year 1 Day 0 & N/A - Flu-Series Timepoint Only & 2019-10-01T00:00:00Z & 0 & ⋯ & PB00006-01 & NA & 2019-10-23 & 2021-01-16 & 2021-02-26 & no & Negative & <25-BMI   & B002-P1\\_PB00006-01\\_2023-11-17T21:36:51.794326181Z\\_labeled.h5 & /home/jupyter/BRI\\_Analysis/scRNA/cache/ea8d98e9-e99e-4dc6-9e78-9866e0deac68/B002-P1\\_PB00006-01\\_2023-11-17T21:36:51.794326181Z\\_labeled.h5\\\\\n",
       "\t6 & 6 & 6 & 2023-11-18T02:03:08.347Z & f32ac061-0ede-4040-8d8c-35229ea5229c & false & KT00010 & Flu Year 1 Day 0 & N/A - Flu-Series Timepoint Only & 2019-10-01T00:00:00Z & 0 & ⋯ & PB00010-02 & NA & 2019-10-28 & 2021-03-21 & 2021-04-18 & no & Negative & >25-30BMI & B078-P2\\_PB00010-02\\_2021-08-19T17:09:29.934849811Z\\_labeled.h5 & /home/jupyter/BRI\\_Analysis/scRNA/cache/237e41df-5616-4852-8a8f-b32835c9efcb/B078-P2\\_PB00010-02\\_2021-08-19T17:09:29.934849811Z\\_labeled.h5\\\\\n",
       "\\end{tabular}\n"
      ],
      "text/markdown": [
       "\n",
       "A data.frame: 6 × 36\n",
       "\n",
       "| <!--/--> | X.1 &lt;int&gt; | X &lt;int&gt; | lastUpdated &lt;chr&gt; | sample.id &lt;chr&gt; | sample.bridgingControl &lt;chr&gt; | sample.sampleKitGuid &lt;chr&gt; | sample.visitName &lt;chr&gt; | sample.visitDetails &lt;chr&gt; | sample.drawDate &lt;chr&gt; | sample.daysSinceFirstVisit &lt;int&gt; | ⋯ ⋯ | pbmc_sample_id &lt;chr&gt; | Sample_ID &lt;lgl&gt; | Sample_Draw_date &lt;chr&gt; | Covid_Dose_1 &lt;chr&gt; | Covid_Dose_2 &lt;chr&gt; | Covid_exlcusion &lt;chr&gt; | CMV.IgG.Serology.Result.Interpretation &lt;chr&gt; | BMI &lt;chr&gt; | file.name.downloaded &lt;chr&gt; | file.path &lt;chr&gt; |\n",
       "|---|---|---|---|---|---|---|---|---|---|---|---|---|---|---|---|---|---|---|---|---|---|\n",
       "| 1 | 1 | 1 | 2023-11-18T02:03:08.347Z | f499ff83-e513-4d24-a10f-151348269fff | false | KT00001 | Flu Year 1 Day 0 | N/A - Flu-Series Timepoint Only | 2019-10-01T00:00:00Z | 0 | ⋯ | PB00001-01 | NA | 2019-10-15 | NA         | NA         | no | Negative | &lt;25-BMI   | B001-P1_PB00001-01_labeled.h5                                | /home/jupyter/BRI_Analysis/scRNA/cache/fec489f9-9a74-4635-aa91-d2bf09d1faec/B001-P1_PB00001-01_labeled.h5                                |\n",
       "| 2 | 2 | 2 | 2023-11-18T02:03:08.347Z | 750e90a9-a296-4f0f-969f-60225c2bca17 | false | KT00002 | Flu Year 1 Day 0 | N/A - Flu-Series Timepoint Only | 2019-10-01T00:00:00Z | 0 | ⋯ | PB00002-01 | NA | 2019-10-15 | 2020-12-28 | 2021-01-18 | no | Negative | &lt;25-BMI   | B001-P1_PB00002-01_labeled.h5                                | /home/jupyter/BRI_Analysis/scRNA/cache/7c0c7979-eebd-4aba-b5b2-6e76b4643623/B001-P1_PB00002-01_labeled.h5                                |\n",
       "| 3 | 3 | 3 | 2023-11-18T02:03:08.347Z | 2db6fb3f-e3f4-454b-891b-9b068541b51d | false | KT00003 | Flu Year 1 Day 0 | N/A - Flu-Series Timepoint Only | 2019-10-01T00:00:00Z | 0 | ⋯ | PB00003-01 | NA | 2019-10-15 | 2020-12-28 | 2021-01-16 | no | Negative | &lt;25-BMI   | B001-P1_PB00003-01_labeled.h5                                | /home/jupyter/BRI_Analysis/scRNA/cache/40efd03a-cb2f-4677-af42-a056cbfe5a17/B001-P1_PB00003-01_labeled.h5                                |\n",
       "| 4 | 4 | 4 | 2023-11-19T10:34:34.12Z  | f04693c5-563c-4b5b-ae58-877d0d9ae2fe | false | KT00004 | Flu Year 1 Day 0 | N/A - Flu-Series Timepoint Only | 2019-10-01T00:00:00Z | 0 | ⋯ | PB00004-01 | NA | 2019-10-21 | 2021-04-16 | 2021-05-06 | no | Negative | &lt;25-BMI   | B002-P1_PB00004-01_2023-11-17T21:36:51.794326181Z_labeled.h5 | /home/jupyter/BRI_Analysis/scRNA/cache/68fbcd34-1d63-461d-8195-df5b8dc61b31/B002-P1_PB00004-01_2023-11-17T21:36:51.794326181Z_labeled.h5 |\n",
       "| 5 | 5 | 5 | 2023-11-19T05:07:36.805Z | eb5b3a3d-002e-40a6-aa19-aa0e6a7fff8f | false | KT00006 | Flu Year 1 Day 0 | N/A - Flu-Series Timepoint Only | 2019-10-01T00:00:00Z | 0 | ⋯ | PB00006-01 | NA | 2019-10-23 | 2021-01-16 | 2021-02-26 | no | Negative | &lt;25-BMI   | B002-P1_PB00006-01_2023-11-17T21:36:51.794326181Z_labeled.h5 | /home/jupyter/BRI_Analysis/scRNA/cache/ea8d98e9-e99e-4dc6-9e78-9866e0deac68/B002-P1_PB00006-01_2023-11-17T21:36:51.794326181Z_labeled.h5 |\n",
       "| 6 | 6 | 6 | 2023-11-18T02:03:08.347Z | f32ac061-0ede-4040-8d8c-35229ea5229c | false | KT00010 | Flu Year 1 Day 0 | N/A - Flu-Series Timepoint Only | 2019-10-01T00:00:00Z | 0 | ⋯ | PB00010-02 | NA | 2019-10-28 | 2021-03-21 | 2021-04-18 | no | Negative | &gt;25-30BMI | B078-P2_PB00010-02_2021-08-19T17:09:29.934849811Z_labeled.h5 | /home/jupyter/BRI_Analysis/scRNA/cache/237e41df-5616-4852-8a8f-b32835c9efcb/B078-P2_PB00010-02_2021-08-19T17:09:29.934849811Z_labeled.h5 |\n",
       "\n"
      ],
      "text/plain": [
       "  X.1 X lastUpdated              sample.id                           \n",
       "1 1   1 2023-11-18T02:03:08.347Z f499ff83-e513-4d24-a10f-151348269fff\n",
       "2 2   2 2023-11-18T02:03:08.347Z 750e90a9-a296-4f0f-969f-60225c2bca17\n",
       "3 3   3 2023-11-18T02:03:08.347Z 2db6fb3f-e3f4-454b-891b-9b068541b51d\n",
       "4 4   4 2023-11-19T10:34:34.12Z  f04693c5-563c-4b5b-ae58-877d0d9ae2fe\n",
       "5 5   5 2023-11-19T05:07:36.805Z eb5b3a3d-002e-40a6-aa19-aa0e6a7fff8f\n",
       "6 6   6 2023-11-18T02:03:08.347Z f32ac061-0ede-4040-8d8c-35229ea5229c\n",
       "  sample.bridgingControl sample.sampleKitGuid sample.visitName\n",
       "1 false                  KT00001              Flu Year 1 Day 0\n",
       "2 false                  KT00002              Flu Year 1 Day 0\n",
       "3 false                  KT00003              Flu Year 1 Day 0\n",
       "4 false                  KT00004              Flu Year 1 Day 0\n",
       "5 false                  KT00006              Flu Year 1 Day 0\n",
       "6 false                  KT00010              Flu Year 1 Day 0\n",
       "  sample.visitDetails             sample.drawDate     \n",
       "1 N/A - Flu-Series Timepoint Only 2019-10-01T00:00:00Z\n",
       "2 N/A - Flu-Series Timepoint Only 2019-10-01T00:00:00Z\n",
       "3 N/A - Flu-Series Timepoint Only 2019-10-01T00:00:00Z\n",
       "4 N/A - Flu-Series Timepoint Only 2019-10-01T00:00:00Z\n",
       "5 N/A - Flu-Series Timepoint Only 2019-10-01T00:00:00Z\n",
       "6 N/A - Flu-Series Timepoint Only 2019-10-01T00:00:00Z\n",
       "  sample.daysSinceFirstVisit ⋯ pbmc_sample_id Sample_ID Sample_Draw_date\n",
       "1 0                          ⋯ PB00001-01     NA        2019-10-15      \n",
       "2 0                          ⋯ PB00002-01     NA        2019-10-15      \n",
       "3 0                          ⋯ PB00003-01     NA        2019-10-15      \n",
       "4 0                          ⋯ PB00004-01     NA        2019-10-21      \n",
       "5 0                          ⋯ PB00006-01     NA        2019-10-23      \n",
       "6 0                          ⋯ PB00010-02     NA        2019-10-28      \n",
       "  Covid_Dose_1 Covid_Dose_2 Covid_exlcusion\n",
       "1 NA           NA           no             \n",
       "2 2020-12-28   2021-01-18   no             \n",
       "3 2020-12-28   2021-01-16   no             \n",
       "4 2021-04-16   2021-05-06   no             \n",
       "5 2021-01-16   2021-02-26   no             \n",
       "6 2021-03-21   2021-04-18   no             \n",
       "  CMV.IgG.Serology.Result.Interpretation BMI      \n",
       "1 Negative                               <25-BMI  \n",
       "2 Negative                               <25-BMI  \n",
       "3 Negative                               <25-BMI  \n",
       "4 Negative                               <25-BMI  \n",
       "5 Negative                               <25-BMI  \n",
       "6 Negative                               >25-30BMI\n",
       "  file.name.downloaded                                        \n",
       "1 B001-P1_PB00001-01_labeled.h5                               \n",
       "2 B001-P1_PB00002-01_labeled.h5                               \n",
       "3 B001-P1_PB00003-01_labeled.h5                               \n",
       "4 B002-P1_PB00004-01_2023-11-17T21:36:51.794326181Z_labeled.h5\n",
       "5 B002-P1_PB00006-01_2023-11-17T21:36:51.794326181Z_labeled.h5\n",
       "6 B078-P2_PB00010-02_2021-08-19T17:09:29.934849811Z_labeled.h5\n",
       "  file.path                                                                                                                               \n",
       "1 /home/jupyter/BRI_Analysis/scRNA/cache/fec489f9-9a74-4635-aa91-d2bf09d1faec/B001-P1_PB00001-01_labeled.h5                               \n",
       "2 /home/jupyter/BRI_Analysis/scRNA/cache/7c0c7979-eebd-4aba-b5b2-6e76b4643623/B001-P1_PB00002-01_labeled.h5                               \n",
       "3 /home/jupyter/BRI_Analysis/scRNA/cache/40efd03a-cb2f-4677-af42-a056cbfe5a17/B001-P1_PB00003-01_labeled.h5                               \n",
       "4 /home/jupyter/BRI_Analysis/scRNA/cache/68fbcd34-1d63-461d-8195-df5b8dc61b31/B002-P1_PB00004-01_2023-11-17T21:36:51.794326181Z_labeled.h5\n",
       "5 /home/jupyter/BRI_Analysis/scRNA/cache/ea8d98e9-e99e-4dc6-9e78-9866e0deac68/B002-P1_PB00006-01_2023-11-17T21:36:51.794326181Z_labeled.h5\n",
       "6 /home/jupyter/BRI_Analysis/scRNA/cache/237e41df-5616-4852-8a8f-b32835c9efcb/B078-P2_PB00010-02_2021-08-19T17:09:29.934849811Z_labeled.h5"
      ]
     },
     "metadata": {},
     "output_type": "display_data"
    },
    {
     "data": {
      "text/html": [
       "<style>\n",
       ".list-inline {list-style: none; margin:0; padding: 0}\n",
       ".list-inline>li {display: inline-block}\n",
       ".list-inline>li:not(:last-child)::after {content: \"\\00b7\"; padding: 0 .5ex}\n",
       "</style>\n",
       "<ol class=list-inline><li>'Flu Year 1 Day 0'</li><li>'Flu Year 1 Day 7'</li><li>'Flu Year 1 Day 90'</li><li>'Immune Variation Day 0'</li><li>'Immune Variation Day 7'</li><li>'Immune Variation Day 90'</li><li>'Flu Year 2 Stand-Alone'</li><li>'Flu Year 1 Stand-Alone'</li><li>'Flu Year 2 Day 0'</li><li>'Flu Year 2 Day 7'</li><li>'Flu Year 2 Day 90'</li><li>'Flu Year 3 Stand-Alone'</li></ol>\n"
      ],
      "text/latex": [
       "\\begin{enumerate*}\n",
       "\\item 'Flu Year 1 Day 0'\n",
       "\\item 'Flu Year 1 Day 7'\n",
       "\\item 'Flu Year 1 Day 90'\n",
       "\\item 'Immune Variation Day 0'\n",
       "\\item 'Immune Variation Day 7'\n",
       "\\item 'Immune Variation Day 90'\n",
       "\\item 'Flu Year 2 Stand-Alone'\n",
       "\\item 'Flu Year 1 Stand-Alone'\n",
       "\\item 'Flu Year 2 Day 0'\n",
       "\\item 'Flu Year 2 Day 7'\n",
       "\\item 'Flu Year 2 Day 90'\n",
       "\\item 'Flu Year 3 Stand-Alone'\n",
       "\\end{enumerate*}\n"
      ],
      "text/markdown": [
       "1. 'Flu Year 1 Day 0'\n",
       "2. 'Flu Year 1 Day 7'\n",
       "3. 'Flu Year 1 Day 90'\n",
       "4. 'Immune Variation Day 0'\n",
       "5. 'Immune Variation Day 7'\n",
       "6. 'Immune Variation Day 90'\n",
       "7. 'Flu Year 2 Stand-Alone'\n",
       "8. 'Flu Year 1 Stand-Alone'\n",
       "9. 'Flu Year 2 Day 0'\n",
       "10. 'Flu Year 2 Day 7'\n",
       "11. 'Flu Year 2 Day 90'\n",
       "12. 'Flu Year 3 Stand-Alone'\n",
       "\n",
       "\n"
      ],
      "text/plain": [
       " [1] \"Flu Year 1 Day 0\"        \"Flu Year 1 Day 7\"       \n",
       " [3] \"Flu Year 1 Day 90\"       \"Immune Variation Day 0\" \n",
       " [5] \"Immune Variation Day 7\"  \"Immune Variation Day 90\"\n",
       " [7] \"Flu Year 2 Stand-Alone\"  \"Flu Year 1 Stand-Alone\" \n",
       " [9] \"Flu Year 2 Day 0\"        \"Flu Year 2 Day 7\"       \n",
       "[11] \"Flu Year 2 Day 90\"       \"Flu Year 3 Stand-Alone\" "
      ]
     },
     "metadata": {},
     "output_type": "display_data"
    },
    {
     "data": {
      "text/html": [
       "868"
      ],
      "text/latex": [
       "868"
      ],
      "text/markdown": [
       "868"
      ],
      "text/plain": [
       "[1] 868"
      ]
     },
     "metadata": {},
     "output_type": "display_data"
    }
   ],
   "source": [
    "meta_data=read.csv('/home/jupyter/IH-A-Aging-Analysis-Notebooks/Qiuyu-Notebooks/scRNA/hise_meta_data_2024-01-23_fixed.csv')\n",
    "head(meta_data)\n",
    "unique(meta_data$sample.visitName)\n",
    "length(meta_data$pbmc_sample_id)"
   ]
  },
  {
   "cell_type": "code",
   "execution_count": 12,
   "id": "85b1e572-9c82-4f07-8b14-e0a514e30cda",
   "metadata": {
    "tags": []
   },
   "outputs": [
    {
     "data": {
      "text/html": [
       "<style>\n",
       ".list-inline {list-style: none; margin:0; padding: 0}\n",
       ".list-inline>li {display: inline-block}\n",
       ".list-inline>li:not(:last-child)::after {content: \"\\00b7\"; padding: 0 .5ex}\n",
       "</style>\n",
       "<ol class=list-inline><li>'X.1'</li><li>'X'</li><li>'lastUpdated'</li><li>'sample.id'</li><li>'sample.bridgingControl'</li><li>'sample.sampleKitGuid'</li><li>'sample.visitName'</li><li>'sample.visitDetails'</li><li>'sample.drawDate'</li><li>'sample.daysSinceFirstVisit'</li><li>'file.id'</li><li>'file.name'</li><li>'file.batchID'</li><li>'file.panel'</li><li>'file.pool'</li><li>'file.fileType'</li><li>'file.majorVersion'</li><li>'subject.id'</li><li>'subject.biologicalSex'</li><li>'subject.birthYear'</li><li>'subject.ethnicity'</li><li>'subject.partnerCode'</li><li>'subject.race'</li><li>'subject.subjectGuid'</li><li>'cohort.cohortGuid'</li><li>'sample.diseaseStatesRecordedAtVisit'</li><li>'pbmc_sample_id'</li><li>'Sample_ID'</li><li>'Sample_Draw_date'</li><li>'Covid_Dose_1'</li><li>'Covid_Dose_2'</li><li>'Covid_exlcusion'</li><li>'CMV.IgG.Serology.Result.Interpretation'</li><li>'BMI'</li><li>'file.name.downloaded'</li><li>'file.path'</li></ol>\n"
      ],
      "text/latex": [
       "\\begin{enumerate*}\n",
       "\\item 'X.1'\n",
       "\\item 'X'\n",
       "\\item 'lastUpdated'\n",
       "\\item 'sample.id'\n",
       "\\item 'sample.bridgingControl'\n",
       "\\item 'sample.sampleKitGuid'\n",
       "\\item 'sample.visitName'\n",
       "\\item 'sample.visitDetails'\n",
       "\\item 'sample.drawDate'\n",
       "\\item 'sample.daysSinceFirstVisit'\n",
       "\\item 'file.id'\n",
       "\\item 'file.name'\n",
       "\\item 'file.batchID'\n",
       "\\item 'file.panel'\n",
       "\\item 'file.pool'\n",
       "\\item 'file.fileType'\n",
       "\\item 'file.majorVersion'\n",
       "\\item 'subject.id'\n",
       "\\item 'subject.biologicalSex'\n",
       "\\item 'subject.birthYear'\n",
       "\\item 'subject.ethnicity'\n",
       "\\item 'subject.partnerCode'\n",
       "\\item 'subject.race'\n",
       "\\item 'subject.subjectGuid'\n",
       "\\item 'cohort.cohortGuid'\n",
       "\\item 'sample.diseaseStatesRecordedAtVisit'\n",
       "\\item 'pbmc\\_sample\\_id'\n",
       "\\item 'Sample\\_ID'\n",
       "\\item 'Sample\\_Draw\\_date'\n",
       "\\item 'Covid\\_Dose\\_1'\n",
       "\\item 'Covid\\_Dose\\_2'\n",
       "\\item 'Covid\\_exlcusion'\n",
       "\\item 'CMV.IgG.Serology.Result.Interpretation'\n",
       "\\item 'BMI'\n",
       "\\item 'file.name.downloaded'\n",
       "\\item 'file.path'\n",
       "\\end{enumerate*}\n"
      ],
      "text/markdown": [
       "1. 'X.1'\n",
       "2. 'X'\n",
       "3. 'lastUpdated'\n",
       "4. 'sample.id'\n",
       "5. 'sample.bridgingControl'\n",
       "6. 'sample.sampleKitGuid'\n",
       "7. 'sample.visitName'\n",
       "8. 'sample.visitDetails'\n",
       "9. 'sample.drawDate'\n",
       "10. 'sample.daysSinceFirstVisit'\n",
       "11. 'file.id'\n",
       "12. 'file.name'\n",
       "13. 'file.batchID'\n",
       "14. 'file.panel'\n",
       "15. 'file.pool'\n",
       "16. 'file.fileType'\n",
       "17. 'file.majorVersion'\n",
       "18. 'subject.id'\n",
       "19. 'subject.biologicalSex'\n",
       "20. 'subject.birthYear'\n",
       "21. 'subject.ethnicity'\n",
       "22. 'subject.partnerCode'\n",
       "23. 'subject.race'\n",
       "24. 'subject.subjectGuid'\n",
       "25. 'cohort.cohortGuid'\n",
       "26. 'sample.diseaseStatesRecordedAtVisit'\n",
       "27. 'pbmc_sample_id'\n",
       "28. 'Sample_ID'\n",
       "29. 'Sample_Draw_date'\n",
       "30. 'Covid_Dose_1'\n",
       "31. 'Covid_Dose_2'\n",
       "32. 'Covid_exlcusion'\n",
       "33. 'CMV.IgG.Serology.Result.Interpretation'\n",
       "34. 'BMI'\n",
       "35. 'file.name.downloaded'\n",
       "36. 'file.path'\n",
       "\n",
       "\n"
      ],
      "text/plain": [
       " [1] \"X.1\"                                   \n",
       " [2] \"X\"                                     \n",
       " [3] \"lastUpdated\"                           \n",
       " [4] \"sample.id\"                             \n",
       " [5] \"sample.bridgingControl\"                \n",
       " [6] \"sample.sampleKitGuid\"                  \n",
       " [7] \"sample.visitName\"                      \n",
       " [8] \"sample.visitDetails\"                   \n",
       " [9] \"sample.drawDate\"                       \n",
       "[10] \"sample.daysSinceFirstVisit\"            \n",
       "[11] \"file.id\"                               \n",
       "[12] \"file.name\"                             \n",
       "[13] \"file.batchID\"                          \n",
       "[14] \"file.panel\"                            \n",
       "[15] \"file.pool\"                             \n",
       "[16] \"file.fileType\"                         \n",
       "[17] \"file.majorVersion\"                     \n",
       "[18] \"subject.id\"                            \n",
       "[19] \"subject.biologicalSex\"                 \n",
       "[20] \"subject.birthYear\"                     \n",
       "[21] \"subject.ethnicity\"                     \n",
       "[22] \"subject.partnerCode\"                   \n",
       "[23] \"subject.race\"                          \n",
       "[24] \"subject.subjectGuid\"                   \n",
       "[25] \"cohort.cohortGuid\"                     \n",
       "[26] \"sample.diseaseStatesRecordedAtVisit\"   \n",
       "[27] \"pbmc_sample_id\"                        \n",
       "[28] \"Sample_ID\"                             \n",
       "[29] \"Sample_Draw_date\"                      \n",
       "[30] \"Covid_Dose_1\"                          \n",
       "[31] \"Covid_Dose_2\"                          \n",
       "[32] \"Covid_exlcusion\"                       \n",
       "[33] \"CMV.IgG.Serology.Result.Interpretation\"\n",
       "[34] \"BMI\"                                   \n",
       "[35] \"file.name.downloaded\"                  \n",
       "[36] \"file.path\"                             "
      ]
     },
     "metadata": {},
     "output_type": "display_data"
    }
   ],
   "source": [
    "meta_data_subset <- meta_data %>%\n",
    "  dplyr::filter(sample.visitName %in% c('Flu Year 1 Day 0') &\n",
    "         Covid_exlcusion %in% c('no'))\n",
    "#head(meta_data_subset)\n",
    "#length(meta_data_subset$sample.visitDetails)\n",
    "colnames(meta_data_subset)"
   ]
  },
  {
   "cell_type": "code",
   "execution_count": 14,
   "id": "e8119d18-64f9-4583-af90-544cdfbc044e",
   "metadata": {
    "tags": []
   },
   "outputs": [
    {
     "data": {
      "text/plain": [
       "                  \n",
       "                   BR1001 BR1002 BR1003 BR1004 BR1005 BR1006 BR1007 BR1008\n",
       "  Flu Year 1 Day 0      1      1      1      1      1      1      1      1\n",
       "                  \n",
       "                   BR1009 BR1010 BR1011 BR1012 BR1013 BR1014 BR1015 BR1016\n",
       "  Flu Year 1 Day 0      1      1      1      1      1      1      1      1\n",
       "                  \n",
       "                   BR1017 BR1018 BR1019 BR1021 BR1023 BR1024 BR1025 BR1026\n",
       "  Flu Year 1 Day 0      1      1      1      1      1      1      1      1\n",
       "                  \n",
       "                   BR1028 BR1030 BR1031 BR1032 BR1033 BR1037 BR1040 BR1041\n",
       "  Flu Year 1 Day 0      1      1      1      1      1      1      1      1\n",
       "                  \n",
       "                   BR1042 BR1043 BR1044 BR1045 BR1047 BR1048 BR1049 BR1050\n",
       "  Flu Year 1 Day 0      1      1      1      1      1      1      1      1\n",
       "                  \n",
       "                   BR1051 BR1052 BR1054 BR1056 BR1057 BR1058 BR1059 BR2002\n",
       "  Flu Year 1 Day 0      1      1      1      1      1      1      1      1\n",
       "                  \n",
       "                   BR2003 BR2005 BR2008 BR2009 BR2010 BR2012 BR2013 BR2014\n",
       "  Flu Year 1 Day 0      1      1      1      1      1      1      1      1\n",
       "                  \n",
       "                   BR2015 BR2016 BR2018 BR2019 BR2020 BR2021 BR2022 BR2023\n",
       "  Flu Year 1 Day 0      1      1      1      1      1      1      1      1\n",
       "                  \n",
       "                   BR2024 BR2025 BR2026 BR2028 BR2029 BR2030 BR2031 BR2032\n",
       "  Flu Year 1 Day 0      1      1      1      1      1      1      1      1\n",
       "                  \n",
       "                   BR2033 BR2034 BR2035 BR2036 BR2037 BR2038 BR2039 BR2040\n",
       "  Flu Year 1 Day 0      1      1      1      1      1      1      1      1\n",
       "                  \n",
       "                   BR2041 BR2042 BR2043 BR2044 BR2045 BR2046 BR2047 BR2048\n",
       "  Flu Year 1 Day 0      1      1      1      1      1      1      1      1\n",
       "                  \n",
       "                   BR2050 BR2051 BR2052 BR2053\n",
       "  Flu Year 1 Day 0      1      1      1      1"
      ]
     },
     "metadata": {},
     "output_type": "display_data"
    }
   ],
   "source": [
    "t(table(meta_data_subset$subject.subjectGuid,meta_data_subset$sample.visitName))"
   ]
  },
  {
   "cell_type": "markdown",
   "id": "f4c2abe7-fe2b-40e9-8d43-2f30d815d3ab",
   "metadata": {},
   "source": [
    "# Creating a psuedobulk object"
   ]
  },
  {
   "cell_type": "code",
   "execution_count": 20,
   "id": "b5018ab3-ced6-498d-afaa-12566f3c31d9",
   "metadata": {
    "tags": []
   },
   "outputs": [],
   "source": [
    "library(parallel)\n",
    "\n",
    "bulk_list<-mclapply(meta_data_subset$pbmc_sample_id,function(x){\n",
    "\n",
    "pbmc <-sceasy::convertFormat(paste0('/home/jupyter/BRI_Analysis/h5_cleaned_by_sample/',x,'.h5ad'), from=\"anndata\", to=\"seurat\")\n",
    "bulk <- Seurat:::PseudobulkExpression(object = pbmc, pb.method = 'aggregate',   group.by = \"AIFI_L3\",slot = 'counts')$RNA\n",
    "colnames(bulk)<-paste0(x,\":\",colnames(bulk))\n",
    "return(bulk)\n",
    "},mc.cores=60)\n"
   ]
  },
  {
   "cell_type": "code",
   "execution_count": 29,
   "id": "231ca880-fdf2-4a00-8de9-9cd98ba1e280",
   "metadata": {
    "tags": []
   },
   "outputs": [
    {
     "data": {
      "text/html": [
       "92"
      ],
      "text/latex": [
       "92"
      ],
      "text/markdown": [
       "92"
      ],
      "text/plain": [
       "[1] 92"
      ]
     },
     "metadata": {},
     "output_type": "display_data"
    }
   ],
   "source": [
    "length(bulk_list)"
   ]
  },
  {
   "cell_type": "code",
   "execution_count": 21,
   "id": "2ff3b08b-44fa-475a-b923-f190cb6d60a3",
   "metadata": {
    "tags": []
   },
   "outputs": [
    {
     "data": {
      "text/plain": [
       "NULL"
      ]
     },
     "metadata": {},
     "output_type": "display_data"
    }
   ],
   "source": [
    "dim(bulk_list)"
   ]
  },
  {
   "cell_type": "code",
   "execution_count": 34,
   "id": "5c3214a8-0725-4974-aadc-556c5f483f2f",
   "metadata": {
    "tags": []
   },
   "outputs": [],
   "source": [
    "write.csv(bulk_list, file = \"Flu_Yr1_D0vsD7_Pseudobulk.csv\", row.names = TRUE)"
   ]
  },
  {
   "cell_type": "code",
   "execution_count": 22,
   "id": "8086f370-bad6-4724-b70f-b1db5ada0420",
   "metadata": {},
   "outputs": [],
   "source": [
    "bulk_list=read.csv('Flu_Yr1_D0vsD7_Pseudobulk.csv')"
   ]
  },
  {
   "cell_type": "code",
   "execution_count": 23,
   "id": "35030021-3bea-4547-8aba-ef6a7f48cbcd",
   "metadata": {
    "tags": []
   },
   "outputs": [
    {
     "data": {
      "text/html": [
       "<style>\n",
       ".list-inline {list-style: none; margin:0; padding: 0}\n",
       ".list-inline>li {display: inline-block}\n",
       ".list-inline>li:not(:last-child)::after {content: \"\\00b7\"; padding: 0 .5ex}\n",
       "</style>\n",
       "<ol class=list-inline><li>33538</li><li>6288</li></ol>\n"
      ],
      "text/latex": [
       "\\begin{enumerate*}\n",
       "\\item 33538\n",
       "\\item 6288\n",
       "\\end{enumerate*}\n"
      ],
      "text/markdown": [
       "1. 33538\n",
       "2. 6288\n",
       "\n",
       "\n"
      ],
      "text/plain": [
       "[1] 33538  6288"
      ]
     },
     "metadata": {},
     "output_type": "display_data"
    }
   ],
   "source": [
    "dim(bulk_list)"
   ]
  },
  {
   "cell_type": "code",
   "execution_count": 15,
   "id": "f320ccc8-31cd-4ae7-bcb9-74a6c876a022",
   "metadata": {
    "tags": []
   },
   "outputs": [
    {
     "data": {
      "text/html": [
       "<table class=\"dataframe\">\n",
       "<caption>A data.frame: 6 × 6288</caption>\n",
       "<thead>\n",
       "\t<tr><th></th><th scope=col>X</th><th scope=col>PB00001.01.ASDC</th><th scope=col>PB00001.01.Activated.memory.B.cell</th><th scope=col>PB00001.01.Adaptive.NK.cell</th><th scope=col>PB00001.01.BaEoMaP.cell</th><th scope=col>PB00001.01.C1Q..CD16.monocyte</th><th scope=col>PB00001.01.CD4.MAIT</th><th scope=col>PB00001.01.CD8.MAIT</th><th scope=col>PB00001.01.CD8aa</th><th scope=col>PB00001.01.CD14..cDC2</th><th scope=col>⋯</th><th scope=col>PB01446.01.Platelet</th><th scope=col>PB01446.01.Proliferating.NK.cell</th><th scope=col>PB01446.01.Proliferating.T.cell</th><th scope=col>PB01446.01.SOX4..Vd1.gdT</th><th scope=col>PB01446.01.SOX4..naive.CD4.T.cell</th><th scope=col>PB01446.01.SOX4..naive.CD8.T.cell</th><th scope=col>PB01446.01.Transitional.B.cell</th><th scope=col>PB01446.01.Type.2.polarized.memory.B.cell</th><th scope=col>PB01446.01.cDC1</th><th scope=col>PB01446.01.pDC</th></tr>\n",
       "\t<tr><th></th><th scope=col>&lt;chr&gt;</th><th scope=col>&lt;int&gt;</th><th scope=col>&lt;int&gt;</th><th scope=col>&lt;int&gt;</th><th scope=col>&lt;int&gt;</th><th scope=col>&lt;int&gt;</th><th scope=col>&lt;int&gt;</th><th scope=col>&lt;int&gt;</th><th scope=col>&lt;int&gt;</th><th scope=col>&lt;int&gt;</th><th scope=col>⋯</th><th scope=col>&lt;int&gt;</th><th scope=col>&lt;int&gt;</th><th scope=col>&lt;int&gt;</th><th scope=col>&lt;int&gt;</th><th scope=col>&lt;int&gt;</th><th scope=col>&lt;int&gt;</th><th scope=col>&lt;int&gt;</th><th scope=col>&lt;int&gt;</th><th scope=col>&lt;int&gt;</th><th scope=col>&lt;int&gt;</th></tr>\n",
       "</thead>\n",
       "<tbody>\n",
       "\t<tr><th scope=row>1</th><td>MIR1302-2HG</td><td>0</td><td>0</td><td>0</td><td>0</td><td>0</td><td>0</td><td>0</td><td>0</td><td>0</td><td>⋯</td><td>0</td><td>0</td><td>0</td><td>0</td><td>0</td><td>0</td><td>0</td><td>0</td><td>0</td><td>0</td></tr>\n",
       "\t<tr><th scope=row>2</th><td>FAM138A    </td><td>0</td><td>0</td><td>0</td><td>0</td><td>0</td><td>0</td><td>0</td><td>0</td><td>0</td><td>⋯</td><td>0</td><td>0</td><td>0</td><td>0</td><td>0</td><td>0</td><td>0</td><td>0</td><td>0</td><td>0</td></tr>\n",
       "\t<tr><th scope=row>3</th><td>OR4F5      </td><td>0</td><td>0</td><td>0</td><td>0</td><td>0</td><td>0</td><td>0</td><td>0</td><td>0</td><td>⋯</td><td>0</td><td>0</td><td>0</td><td>0</td><td>0</td><td>0</td><td>0</td><td>0</td><td>0</td><td>0</td></tr>\n",
       "\t<tr><th scope=row>4</th><td>AL627309.1 </td><td>0</td><td>0</td><td>0</td><td>0</td><td>0</td><td>0</td><td>4</td><td>0</td><td>0</td><td>⋯</td><td>0</td><td>0</td><td>0</td><td>0</td><td>0</td><td>0</td><td>1</td><td>0</td><td>0</td><td>1</td></tr>\n",
       "\t<tr><th scope=row>5</th><td>AL627309.3 </td><td>0</td><td>0</td><td>0</td><td>0</td><td>0</td><td>0</td><td>0</td><td>0</td><td>0</td><td>⋯</td><td>0</td><td>0</td><td>0</td><td>0</td><td>0</td><td>0</td><td>0</td><td>0</td><td>0</td><td>0</td></tr>\n",
       "\t<tr><th scope=row>6</th><td>AL627309.2 </td><td>0</td><td>0</td><td>0</td><td>0</td><td>0</td><td>0</td><td>0</td><td>0</td><td>0</td><td>⋯</td><td>0</td><td>0</td><td>0</td><td>0</td><td>0</td><td>0</td><td>0</td><td>0</td><td>0</td><td>0</td></tr>\n",
       "</tbody>\n",
       "</table>\n"
      ],
      "text/latex": [
       "A data.frame: 6 × 6288\n",
       "\\begin{tabular}{r|lllllllllllllllllllll}\n",
       "  & X & PB00001.01.ASDC & PB00001.01.Activated.memory.B.cell & PB00001.01.Adaptive.NK.cell & PB00001.01.BaEoMaP.cell & PB00001.01.C1Q..CD16.monocyte & PB00001.01.CD4.MAIT & PB00001.01.CD8.MAIT & PB00001.01.CD8aa & PB00001.01.CD14..cDC2 & ⋯ & PB01446.01.Platelet & PB01446.01.Proliferating.NK.cell & PB01446.01.Proliferating.T.cell & PB01446.01.SOX4..Vd1.gdT & PB01446.01.SOX4..naive.CD4.T.cell & PB01446.01.SOX4..naive.CD8.T.cell & PB01446.01.Transitional.B.cell & PB01446.01.Type.2.polarized.memory.B.cell & PB01446.01.cDC1 & PB01446.01.pDC\\\\\n",
       "  & <chr> & <int> & <int> & <int> & <int> & <int> & <int> & <int> & <int> & <int> & ⋯ & <int> & <int> & <int> & <int> & <int> & <int> & <int> & <int> & <int> & <int>\\\\\n",
       "\\hline\n",
       "\t1 & MIR1302-2HG & 0 & 0 & 0 & 0 & 0 & 0 & 0 & 0 & 0 & ⋯ & 0 & 0 & 0 & 0 & 0 & 0 & 0 & 0 & 0 & 0\\\\\n",
       "\t2 & FAM138A     & 0 & 0 & 0 & 0 & 0 & 0 & 0 & 0 & 0 & ⋯ & 0 & 0 & 0 & 0 & 0 & 0 & 0 & 0 & 0 & 0\\\\\n",
       "\t3 & OR4F5       & 0 & 0 & 0 & 0 & 0 & 0 & 0 & 0 & 0 & ⋯ & 0 & 0 & 0 & 0 & 0 & 0 & 0 & 0 & 0 & 0\\\\\n",
       "\t4 & AL627309.1  & 0 & 0 & 0 & 0 & 0 & 0 & 4 & 0 & 0 & ⋯ & 0 & 0 & 0 & 0 & 0 & 0 & 1 & 0 & 0 & 1\\\\\n",
       "\t5 & AL627309.3  & 0 & 0 & 0 & 0 & 0 & 0 & 0 & 0 & 0 & ⋯ & 0 & 0 & 0 & 0 & 0 & 0 & 0 & 0 & 0 & 0\\\\\n",
       "\t6 & AL627309.2  & 0 & 0 & 0 & 0 & 0 & 0 & 0 & 0 & 0 & ⋯ & 0 & 0 & 0 & 0 & 0 & 0 & 0 & 0 & 0 & 0\\\\\n",
       "\\end{tabular}\n"
      ],
      "text/markdown": [
       "\n",
       "A data.frame: 6 × 6288\n",
       "\n",
       "| <!--/--> | X &lt;chr&gt; | PB00001.01.ASDC &lt;int&gt; | PB00001.01.Activated.memory.B.cell &lt;int&gt; | PB00001.01.Adaptive.NK.cell &lt;int&gt; | PB00001.01.BaEoMaP.cell &lt;int&gt; | PB00001.01.C1Q..CD16.monocyte &lt;int&gt; | PB00001.01.CD4.MAIT &lt;int&gt; | PB00001.01.CD8.MAIT &lt;int&gt; | PB00001.01.CD8aa &lt;int&gt; | PB00001.01.CD14..cDC2 &lt;int&gt; | ⋯ ⋯ | PB01446.01.Platelet &lt;int&gt; | PB01446.01.Proliferating.NK.cell &lt;int&gt; | PB01446.01.Proliferating.T.cell &lt;int&gt; | PB01446.01.SOX4..Vd1.gdT &lt;int&gt; | PB01446.01.SOX4..naive.CD4.T.cell &lt;int&gt; | PB01446.01.SOX4..naive.CD8.T.cell &lt;int&gt; | PB01446.01.Transitional.B.cell &lt;int&gt; | PB01446.01.Type.2.polarized.memory.B.cell &lt;int&gt; | PB01446.01.cDC1 &lt;int&gt; | PB01446.01.pDC &lt;int&gt; |\n",
       "|---|---|---|---|---|---|---|---|---|---|---|---|---|---|---|---|---|---|---|---|---|---|\n",
       "| 1 | MIR1302-2HG | 0 | 0 | 0 | 0 | 0 | 0 | 0 | 0 | 0 | ⋯ | 0 | 0 | 0 | 0 | 0 | 0 | 0 | 0 | 0 | 0 |\n",
       "| 2 | FAM138A     | 0 | 0 | 0 | 0 | 0 | 0 | 0 | 0 | 0 | ⋯ | 0 | 0 | 0 | 0 | 0 | 0 | 0 | 0 | 0 | 0 |\n",
       "| 3 | OR4F5       | 0 | 0 | 0 | 0 | 0 | 0 | 0 | 0 | 0 | ⋯ | 0 | 0 | 0 | 0 | 0 | 0 | 0 | 0 | 0 | 0 |\n",
       "| 4 | AL627309.1  | 0 | 0 | 0 | 0 | 0 | 0 | 4 | 0 | 0 | ⋯ | 0 | 0 | 0 | 0 | 0 | 0 | 1 | 0 | 0 | 1 |\n",
       "| 5 | AL627309.3  | 0 | 0 | 0 | 0 | 0 | 0 | 0 | 0 | 0 | ⋯ | 0 | 0 | 0 | 0 | 0 | 0 | 0 | 0 | 0 | 0 |\n",
       "| 6 | AL627309.2  | 0 | 0 | 0 | 0 | 0 | 0 | 0 | 0 | 0 | ⋯ | 0 | 0 | 0 | 0 | 0 | 0 | 0 | 0 | 0 | 0 |\n",
       "\n"
      ],
      "text/plain": [
       "  X           PB00001.01.ASDC PB00001.01.Activated.memory.B.cell\n",
       "1 MIR1302-2HG 0               0                                 \n",
       "2 FAM138A     0               0                                 \n",
       "3 OR4F5       0               0                                 \n",
       "4 AL627309.1  0               0                                 \n",
       "5 AL627309.3  0               0                                 \n",
       "6 AL627309.2  0               0                                 \n",
       "  PB00001.01.Adaptive.NK.cell PB00001.01.BaEoMaP.cell\n",
       "1 0                           0                      \n",
       "2 0                           0                      \n",
       "3 0                           0                      \n",
       "4 0                           0                      \n",
       "5 0                           0                      \n",
       "6 0                           0                      \n",
       "  PB00001.01.C1Q..CD16.monocyte PB00001.01.CD4.MAIT PB00001.01.CD8.MAIT\n",
       "1 0                             0                   0                  \n",
       "2 0                             0                   0                  \n",
       "3 0                             0                   0                  \n",
       "4 0                             0                   4                  \n",
       "5 0                             0                   0                  \n",
       "6 0                             0                   0                  \n",
       "  PB00001.01.CD8aa PB00001.01.CD14..cDC2 ⋯ PB01446.01.Platelet\n",
       "1 0                0                     ⋯ 0                  \n",
       "2 0                0                     ⋯ 0                  \n",
       "3 0                0                     ⋯ 0                  \n",
       "4 0                0                     ⋯ 0                  \n",
       "5 0                0                     ⋯ 0                  \n",
       "6 0                0                     ⋯ 0                  \n",
       "  PB01446.01.Proliferating.NK.cell PB01446.01.Proliferating.T.cell\n",
       "1 0                                0                              \n",
       "2 0                                0                              \n",
       "3 0                                0                              \n",
       "4 0                                0                              \n",
       "5 0                                0                              \n",
       "6 0                                0                              \n",
       "  PB01446.01.SOX4..Vd1.gdT PB01446.01.SOX4..naive.CD4.T.cell\n",
       "1 0                        0                                \n",
       "2 0                        0                                \n",
       "3 0                        0                                \n",
       "4 0                        0                                \n",
       "5 0                        0                                \n",
       "6 0                        0                                \n",
       "  PB01446.01.SOX4..naive.CD8.T.cell PB01446.01.Transitional.B.cell\n",
       "1 0                                 0                             \n",
       "2 0                                 0                             \n",
       "3 0                                 0                             \n",
       "4 0                                 1                             \n",
       "5 0                                 0                             \n",
       "6 0                                 0                             \n",
       "  PB01446.01.Type.2.polarized.memory.B.cell PB01446.01.cDC1 PB01446.01.pDC\n",
       "1 0                                         0               0             \n",
       "2 0                                         0               0             \n",
       "3 0                                         0               0             \n",
       "4 0                                         0               1             \n",
       "5 0                                         0               0             \n",
       "6 0                                         0               0             "
      ]
     },
     "metadata": {},
     "output_type": "display_data"
    }
   ],
   "source": [
    "head(bulk_csv)"
   ]
  },
  {
   "cell_type": "code",
   "execution_count": 8,
   "id": "f8f7ad4c-ec0a-41b9-9950-2aece84b4adc",
   "metadata": {},
   "outputs": [],
   "source": [
    "for (celltype in str_extract(colnames(bulk_list[[1]]), \"(?<=:).*\")){\n",
    "print(celltype)\n",
    "if (celltype=='Erythrocyte'){next}\n",
    "matirx_list<-mclapply(bulk_list,function(bulk_matrix){\n",
    "\n",
    "matching_columns <- grepl(celltype, colnames(bulk_matrix),, fixed = TRUE)\n",
    "matching_columns<-colnames(bulk_matrix)[matching_columns]\n",
    "bulk_matrix_single <- as.data.frame(bulk_matrix[, matching_columns, drop = FALSE])\n",
    "return(bulk_matrix_single)\n",
    "},mc.cores=60)\n",
    "\n",
    "df_all<-do.call(cbind,matirx_list)\n",
    "df_meta_data<-as.data.frame(colnames(df_all))\n",
    "colnames(df_meta_data)<-'sample_name'\n",
    "split_columns <- strsplit(df_meta_data$sample_name, \":\")\n",
    "df_meta_data$pbmc_sample_id <- sapply(split_columns, `[`, 1)\n",
    "df_meta_data$AIFI_L3 <- sapply(split_columns, `[`, 2)\n",
    "df_meta_data<-left_join(df_meta_data,meta_data_subset)\n",
    "rownames(df_meta_data)<-df_meta_data$sample_name\n",
    "selected_gene_list<-read.csv('filtered_gene_list.csv')\n",
    "selGenes<-selected_gene_list %>% filter(AIFI_L3==celltype) %>% select(gene) %>% pull()  \n",
    "\n",
    "dds <- DESeqDataSetFromMatrix(df_all[selGenes,], colData = df_meta_data, \n",
    "                              design = ~  sample.visitName+\n",
    "                                          subject.biologicalSex+\n",
    "                                          CMV.IgG.Serology.Result.Interpretation)\n",
    "dds <- DESeq(dds,parallel=FALSE)\n",
    "\n",
    "res <- data.frame(results(dds,contrast=c(\"sample.visitName\", \"Flu Year 1 Day 0\", \"Flu Year 1 Day 7\")))\n",
    "res$celltype<-celltype\n",
    "res=res %>% arrange(padj) %>% mutate(Direction=case_when(log2FoldChange<0~'HigherInD7',log2FoldChange>0~'HigherInD0'))\n",
    "res$Year<-\"Y1\"\n",
    "write.csv(res,paste0(\"01C_DESeq2_D0_VS_D7_L3/\",celltype,\"_Y1.csv\"))\n",
    "\n",
    "}\n"
   ]
  },
  {
   "cell_type": "code",
   "execution_count": 19,
   "id": "3362662d-372b-40c3-b6c9-8aefb08898d9",
   "metadata": {
    "tags": []
   },
   "outputs": [],
   "source": [
    "for (celltype in str_extract(colnames(bulk_list[[1]]), \"(?<=:).*\")) {\n",
    "  print(celltype)\n",
    "  if (celltype == 'Erythrocyte') {\n",
    "    next\n",
    "  }\n",
    "  matirx_list <- mclapply(bulk_list, function(bulk_matrix) {\n",
    "    matching_columns <- grepl(celltype, colnames(bulk_matrix), fixed = TRUE)\n",
    "    matching_columns <- colnames(bulk_matrix)[matching_columns]\n",
    "    bulk_matrix_single <- as.data.frame(bulk_matrix[, matching_columns, drop = FALSE])\n",
    "    # Write data frame to CSV file\n",
    "    filename <- paste0(celltype, \".csv\")\n",
    "    write.csv(bulk_matrix_single, file = filename, row.names = FALSE)\n",
    "    return(bulk_matrix_single)\n",
    "  }, mc.cores = 60)\n",
    "}"
   ]
  },
  {
   "cell_type": "markdown",
   "id": "ecc25bfb-b6e1-4508-8621-019f1342d95a",
   "metadata": {},
   "source": [
    "## Trying Singlecell experiment"
   ]
  },
  {
   "cell_type": "code",
   "execution_count": 18,
   "id": "6b20f7b5-8047-4ad3-9257-b0c5bd07077f",
   "metadata": {
    "tags": []
   },
   "outputs": [
    {
     "ename": "ERROR",
     "evalue": "Error in validObject(assays): invalid class “SimpleAssays” object: \n    'dim(x)' must return a numeric vector\n",
     "output_type": "error",
     "traceback": [
      "Error in validObject(assays): invalid class “SimpleAssays” object: \n    'dim(x)' must return a numeric vector\nTraceback:\n",
      "1. SingleCellExperiment(assays = list(counts = counts), colData = bulk_list)",
      "2. SummarizedExperiment(...)",
      "3. new_SummarizedExperiment(assays, ans_rownames, rowData, colData, \n .     metadata)",
      "4. Assays(assays, as.null.if.no.assay = TRUE)",
      "5. validObject(assays)",
      "6. stop(msg, \": \", errors, domain = NA)"
     ]
    }
   ],
   "source": [
    "sce <- SingleCellExperiment(assays = list(counts = counts), \n",
    "                           colData = bulk_list)"
   ]
  },
  {
   "cell_type": "code",
   "execution_count": null,
   "id": "57f0bc3a-33df-4022-b1ef-251b9d2f439d",
   "metadata": {},
   "outputs": [],
   "source": []
  }
 ],
 "metadata": {
  "kernelspec": {
   "display_name": "R 4",
   "language": "R",
   "name": "ir4"
  },
  "language_info": {
   "codemirror_mode": "r",
   "file_extension": ".r",
   "mimetype": "text/x-r-source",
   "name": "R",
   "pygments_lexer": "r",
   "version": "4.3.1"
  }
 },
 "nbformat": 4,
 "nbformat_minor": 5
}
