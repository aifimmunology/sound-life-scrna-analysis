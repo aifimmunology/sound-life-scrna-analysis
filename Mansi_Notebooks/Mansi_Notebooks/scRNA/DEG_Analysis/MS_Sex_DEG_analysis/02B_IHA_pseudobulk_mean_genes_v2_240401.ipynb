{
 "cells": [
  {
   "cell_type": "code",
   "execution_count": 20,
   "id": "c5a9f6c0-734a-4a9a-902c-9ed8d9bd97f7",
   "metadata": {
    "tags": []
   },
   "outputs": [],
   "source": [
    "suppressPackageStartupMessages(library(readxl))\n",
    "suppressPackageStartupMessages(library(dplyr))\n",
    "suppressPackageStartupMessages(library(tidyr))\n",
    "suppressPackageStartupMessages(library(tibble))\n",
    "suppressPackageStartupMessages(library(patchwork))\n",
    "suppressPackageStartupMessages(library(pheatmap))\n",
    "suppressPackageStartupMessages(library(stringr))\n",
    "library(hise)\n",
    "library(plyr)\n",
    "library(purrr)\n",
    "library(vegan)\n",
    "#library(arrow)\n",
    "library(parallel)\n",
    "library(ComplexHeatmap)\n",
    "library(ggsci)\n",
    "library(tidyverse)"
   ]
  },
  {
   "cell_type": "code",
   "execution_count": 21,
   "id": "204a19ea-8399-4db8-8ebd-148844c420dc",
   "metadata": {
    "tags": []
   },
   "outputs": [],
   "source": [
    "mean_df<-read.csv(\"/home/jupyter/Myeloid_cells/files/IHA_IL1B_CD14_mono_pb_mean_normalized_v5.csv\", row.names=1)"
   ]
  },
  {
   "cell_type": "code",
   "execution_count": 22,
   "id": "28787e65-b303-44b7-abb8-edbb0c5850d4",
   "metadata": {
    "tags": []
   },
   "outputs": [
    {
     "data": {
      "text/html": [
       "<style>\n",
       ".list-inline {list-style: none; margin:0; padding: 0}\n",
       ".list-inline>li {display: inline-block}\n",
       ".list-inline>li:not(:last-child)::after {content: \"\\00b7\"; padding: 0 .5ex}\n",
       "</style>\n",
       "<ol class=list-inline><li>'X.1'</li><li>'X'</li><li>'lastUpdated'</li><li>'sample.id'</li><li>'sample.bridgingControl'</li><li>'sample.sampleKitGuid'</li><li>'sample.visitName'</li><li>'sample.visitDetails'</li><li>'sample.drawDate'</li><li>'sample.daysSinceFirstVisit'</li><li>'file.id'</li><li>'file.name'</li><li>'file.batchID'</li><li>'file.panel'</li><li>'file.pool'</li><li>'file.fileType'</li><li>'file.majorVersion'</li><li>'subject.id'</li><li>'subject.biologicalSex'</li><li>'subject.birthYear'</li><li>'CMV.IgG.Serology.Result.Interpretation'</li><li>'subject.ethnicity'</li><li>'subject.partnerCode'</li><li>'subject.race'</li><li>'subject.subjectGuid'</li><li>'cohort.cohortGuid'</li><li>'sample.diseaseStatesRecordedAtVisit'</li><li>'pbmc_sample_id'</li><li>'Sample_ID'</li><li>'Sample_Draw_date'</li><li>'Covid_Dose_1'</li><li>'Covid_Dose_2'</li><li>'Covid_exlcusion'</li><li>'BMI'</li><li>'file.name.downloaded'</li><li>'file.path'</li></ol>\n"
      ],
      "text/latex": [
       "\\begin{enumerate*}\n",
       "\\item 'X.1'\n",
       "\\item 'X'\n",
       "\\item 'lastUpdated'\n",
       "\\item 'sample.id'\n",
       "\\item 'sample.bridgingControl'\n",
       "\\item 'sample.sampleKitGuid'\n",
       "\\item 'sample.visitName'\n",
       "\\item 'sample.visitDetails'\n",
       "\\item 'sample.drawDate'\n",
       "\\item 'sample.daysSinceFirstVisit'\n",
       "\\item 'file.id'\n",
       "\\item 'file.name'\n",
       "\\item 'file.batchID'\n",
       "\\item 'file.panel'\n",
       "\\item 'file.pool'\n",
       "\\item 'file.fileType'\n",
       "\\item 'file.majorVersion'\n",
       "\\item 'subject.id'\n",
       "\\item 'subject.biologicalSex'\n",
       "\\item 'subject.birthYear'\n",
       "\\item 'CMV.IgG.Serology.Result.Interpretation'\n",
       "\\item 'subject.ethnicity'\n",
       "\\item 'subject.partnerCode'\n",
       "\\item 'subject.race'\n",
       "\\item 'subject.subjectGuid'\n",
       "\\item 'cohort.cohortGuid'\n",
       "\\item 'sample.diseaseStatesRecordedAtVisit'\n",
       "\\item 'pbmc\\_sample\\_id'\n",
       "\\item 'Sample\\_ID'\n",
       "\\item 'Sample\\_Draw\\_date'\n",
       "\\item 'Covid\\_Dose\\_1'\n",
       "\\item 'Covid\\_Dose\\_2'\n",
       "\\item 'Covid\\_exlcusion'\n",
       "\\item 'BMI'\n",
       "\\item 'file.name.downloaded'\n",
       "\\item 'file.path'\n",
       "\\end{enumerate*}\n"
      ],
      "text/markdown": [
       "1. 'X.1'\n",
       "2. 'X'\n",
       "3. 'lastUpdated'\n",
       "4. 'sample.id'\n",
       "5. 'sample.bridgingControl'\n",
       "6. 'sample.sampleKitGuid'\n",
       "7. 'sample.visitName'\n",
       "8. 'sample.visitDetails'\n",
       "9. 'sample.drawDate'\n",
       "10. 'sample.daysSinceFirstVisit'\n",
       "11. 'file.id'\n",
       "12. 'file.name'\n",
       "13. 'file.batchID'\n",
       "14. 'file.panel'\n",
       "15. 'file.pool'\n",
       "16. 'file.fileType'\n",
       "17. 'file.majorVersion'\n",
       "18. 'subject.id'\n",
       "19. 'subject.biologicalSex'\n",
       "20. 'subject.birthYear'\n",
       "21. 'CMV.IgG.Serology.Result.Interpretation'\n",
       "22. 'subject.ethnicity'\n",
       "23. 'subject.partnerCode'\n",
       "24. 'subject.race'\n",
       "25. 'subject.subjectGuid'\n",
       "26. 'cohort.cohortGuid'\n",
       "27. 'sample.diseaseStatesRecordedAtVisit'\n",
       "28. 'pbmc_sample_id'\n",
       "29. 'Sample_ID'\n",
       "30. 'Sample_Draw_date'\n",
       "31. 'Covid_Dose_1'\n",
       "32. 'Covid_Dose_2'\n",
       "33. 'Covid_exlcusion'\n",
       "34. 'BMI'\n",
       "35. 'file.name.downloaded'\n",
       "36. 'file.path'\n",
       "\n",
       "\n"
      ],
      "text/plain": [
       " [1] \"X.1\"                                   \n",
       " [2] \"X\"                                     \n",
       " [3] \"lastUpdated\"                           \n",
       " [4] \"sample.id\"                             \n",
       " [5] \"sample.bridgingControl\"                \n",
       " [6] \"sample.sampleKitGuid\"                  \n",
       " [7] \"sample.visitName\"                      \n",
       " [8] \"sample.visitDetails\"                   \n",
       " [9] \"sample.drawDate\"                       \n",
       "[10] \"sample.daysSinceFirstVisit\"            \n",
       "[11] \"file.id\"                               \n",
       "[12] \"file.name\"                             \n",
       "[13] \"file.batchID\"                          \n",
       "[14] \"file.panel\"                            \n",
       "[15] \"file.pool\"                             \n",
       "[16] \"file.fileType\"                         \n",
       "[17] \"file.majorVersion\"                     \n",
       "[18] \"subject.id\"                            \n",
       "[19] \"subject.biologicalSex\"                 \n",
       "[20] \"subject.birthYear\"                     \n",
       "[21] \"CMV.IgG.Serology.Result.Interpretation\"\n",
       "[22] \"subject.ethnicity\"                     \n",
       "[23] \"subject.partnerCode\"                   \n",
       "[24] \"subject.race\"                          \n",
       "[25] \"subject.subjectGuid\"                   \n",
       "[26] \"cohort.cohortGuid\"                     \n",
       "[27] \"sample.diseaseStatesRecordedAtVisit\"   \n",
       "[28] \"pbmc_sample_id\"                        \n",
       "[29] \"Sample_ID\"                             \n",
       "[30] \"Sample_Draw_date\"                      \n",
       "[31] \"Covid_Dose_1\"                          \n",
       "[32] \"Covid_Dose_2\"                          \n",
       "[33] \"Covid_exlcusion\"                       \n",
       "[34] \"BMI\"                                   \n",
       "[35] \"file.name.downloaded\"                  \n",
       "[36] \"file.path\"                             "
      ]
     },
     "metadata": {},
     "output_type": "display_data"
    }
   ],
   "source": [
    "meta_data=read.csv('/home/jupyter/IH-A-Aging-Analysis-Notebooks/Qiuyu-Notebooks/scRNA/hise_meta_data_2024-01-23_fixed.csv')\n",
    "colnames(meta_data)\n",
    "#unique(meta_data$pbmc_sample_id)\n",
    "#length(unique(meta_data$pbmc_sample_id))"
   ]
  },
  {
   "cell_type": "code",
   "execution_count": 23,
   "id": "ca7de2d8-b4d0-4ca9-ab9a-ad24cfdeed9a",
   "metadata": {
    "tags": []
   },
   "outputs": [
    {
     "data": {
      "text/html": [
       "<style>\n",
       ".list-inline {list-style: none; margin:0; padding: 0}\n",
       ".list-inline>li {display: inline-block}\n",
       ".list-inline>li:not(:last-child)::after {content: \"\\00b7\"; padding: 0 .5ex}\n",
       "</style>\n",
       "<ol class=list-inline><li>33538</li><li>92</li></ol>\n"
      ],
      "text/latex": [
       "\\begin{enumerate*}\n",
       "\\item 33538\n",
       "\\item 92\n",
       "\\end{enumerate*}\n"
      ],
      "text/markdown": [
       "1. 33538\n",
       "2. 92\n",
       "\n",
       "\n"
      ],
      "text/plain": [
       "[1] 33538    92"
      ]
     },
     "metadata": {},
     "output_type": "display_data"
    }
   ],
   "source": [
    "dim(mean_df)"
   ]
  },
  {
   "cell_type": "code",
   "execution_count": 24,
   "id": "3dedf592-9a40-42a3-baf5-4ff2c3133eec",
   "metadata": {
    "tags": []
   },
   "outputs": [
    {
     "data": {
      "text/html": [
       "<table class=\"dataframe\">\n",
       "<caption>A data.frame: 2 × 92</caption>\n",
       "<thead>\n",
       "\t<tr><th></th><th scope=col>IL1B..CD14.monocyte.PB00001.01_Female_BR1</th><th scope=col>IL1B..CD14.monocyte.PB00002.01_Male_BR1</th><th scope=col>IL1B..CD14.monocyte.PB00003.01_Female_BR1</th><th scope=col>IL1B..CD14.monocyte.PB00004.01_Male_BR1</th><th scope=col>IL1B..CD14.monocyte.PB00006.01_Female_BR1</th><th scope=col>IL1B..CD14.monocyte.PB00010.02_Male_BR1</th><th scope=col>IL1B..CD14.monocyte.PB00012.01_Female_BR1</th><th scope=col>IL1B..CD14.monocyte.PB00014.01_Male_BR1</th><th scope=col>IL1B..CD14.monocyte.PB00015.01_Male_BR2</th><th scope=col>IL1B..CD14.monocyte.PB00016.01_Female_BR2</th><th scope=col>⋯</th><th scope=col>IL1B..CD14.monocyte.PB00592.01_Male_BR1</th><th scope=col>IL1B..CD14.monocyte.PB00599.01_Female_BR2</th><th scope=col>IL1B..CD14.monocyte.PB00600.01_Male_BR2</th><th scope=col>IL1B..CD14.monocyte.PB00602.01_Female_BR2</th><th scope=col>IL1B..CD14.monocyte.PB00621.01_Female_BR1</th><th scope=col>IL1B..CD14.monocyte.PB00623.01_Male_BR2</th><th scope=col>IL1B..CD14.monocyte.PB00625.02_Male_BR2</th><th scope=col>IL1B..CD14.monocyte.PB00645.01_Female_BR1</th><th scope=col>IL1B..CD14.monocyte.PB01425.01_Female_BR1</th><th scope=col>IL1B..CD14.monocyte.PB01446.01_Male_BR1</th></tr>\n",
       "\t<tr><th></th><th scope=col>&lt;dbl&gt;</th><th scope=col>&lt;dbl&gt;</th><th scope=col>&lt;dbl&gt;</th><th scope=col>&lt;dbl&gt;</th><th scope=col>&lt;dbl&gt;</th><th scope=col>&lt;dbl&gt;</th><th scope=col>&lt;dbl&gt;</th><th scope=col>&lt;dbl&gt;</th><th scope=col>&lt;dbl&gt;</th><th scope=col>&lt;dbl&gt;</th><th scope=col>⋯</th><th scope=col>&lt;dbl&gt;</th><th scope=col>&lt;dbl&gt;</th><th scope=col>&lt;dbl&gt;</th><th scope=col>&lt;dbl&gt;</th><th scope=col>&lt;dbl&gt;</th><th scope=col>&lt;dbl&gt;</th><th scope=col>&lt;dbl&gt;</th><th scope=col>&lt;dbl&gt;</th><th scope=col>&lt;dbl&gt;</th><th scope=col>&lt;dbl&gt;</th></tr>\n",
       "</thead>\n",
       "<tbody>\n",
       "\t<tr><th scope=row>MIR1302-2HG</th><td>0</td><td>0</td><td>0</td><td>0</td><td>0</td><td>0</td><td>0</td><td>0</td><td>0</td><td>0</td><td>⋯</td><td>0</td><td>0</td><td>0</td><td>0</td><td>0</td><td>0</td><td>0</td><td>0</td><td>0</td><td>0</td></tr>\n",
       "\t<tr><th scope=row>FAM138A</th><td>0</td><td>0</td><td>0</td><td>0</td><td>0</td><td>0</td><td>0</td><td>0</td><td>0</td><td>0</td><td>⋯</td><td>0</td><td>0</td><td>0</td><td>0</td><td>0</td><td>0</td><td>0</td><td>0</td><td>0</td><td>0</td></tr>\n",
       "</tbody>\n",
       "</table>\n"
      ],
      "text/latex": [
       "A data.frame: 2 × 92\n",
       "\\begin{tabular}{r|lllllllllllllllllllll}\n",
       "  & IL1B..CD14.monocyte.PB00001.01\\_Female\\_BR1 & IL1B..CD14.monocyte.PB00002.01\\_Male\\_BR1 & IL1B..CD14.monocyte.PB00003.01\\_Female\\_BR1 & IL1B..CD14.monocyte.PB00004.01\\_Male\\_BR1 & IL1B..CD14.monocyte.PB00006.01\\_Female\\_BR1 & IL1B..CD14.monocyte.PB00010.02\\_Male\\_BR1 & IL1B..CD14.monocyte.PB00012.01\\_Female\\_BR1 & IL1B..CD14.monocyte.PB00014.01\\_Male\\_BR1 & IL1B..CD14.monocyte.PB00015.01\\_Male\\_BR2 & IL1B..CD14.monocyte.PB00016.01\\_Female\\_BR2 & ⋯ & IL1B..CD14.monocyte.PB00592.01\\_Male\\_BR1 & IL1B..CD14.monocyte.PB00599.01\\_Female\\_BR2 & IL1B..CD14.monocyte.PB00600.01\\_Male\\_BR2 & IL1B..CD14.monocyte.PB00602.01\\_Female\\_BR2 & IL1B..CD14.monocyte.PB00621.01\\_Female\\_BR1 & IL1B..CD14.monocyte.PB00623.01\\_Male\\_BR2 & IL1B..CD14.monocyte.PB00625.02\\_Male\\_BR2 & IL1B..CD14.monocyte.PB00645.01\\_Female\\_BR1 & IL1B..CD14.monocyte.PB01425.01\\_Female\\_BR1 & IL1B..CD14.monocyte.PB01446.01\\_Male\\_BR1\\\\\n",
       "  & <dbl> & <dbl> & <dbl> & <dbl> & <dbl> & <dbl> & <dbl> & <dbl> & <dbl> & <dbl> & ⋯ & <dbl> & <dbl> & <dbl> & <dbl> & <dbl> & <dbl> & <dbl> & <dbl> & <dbl> & <dbl>\\\\\n",
       "\\hline\n",
       "\tMIR1302-2HG & 0 & 0 & 0 & 0 & 0 & 0 & 0 & 0 & 0 & 0 & ⋯ & 0 & 0 & 0 & 0 & 0 & 0 & 0 & 0 & 0 & 0\\\\\n",
       "\tFAM138A & 0 & 0 & 0 & 0 & 0 & 0 & 0 & 0 & 0 & 0 & ⋯ & 0 & 0 & 0 & 0 & 0 & 0 & 0 & 0 & 0 & 0\\\\\n",
       "\\end{tabular}\n"
      ],
      "text/markdown": [
       "\n",
       "A data.frame: 2 × 92\n",
       "\n",
       "| <!--/--> | IL1B..CD14.monocyte.PB00001.01_Female_BR1 &lt;dbl&gt; | IL1B..CD14.monocyte.PB00002.01_Male_BR1 &lt;dbl&gt; | IL1B..CD14.monocyte.PB00003.01_Female_BR1 &lt;dbl&gt; | IL1B..CD14.monocyte.PB00004.01_Male_BR1 &lt;dbl&gt; | IL1B..CD14.monocyte.PB00006.01_Female_BR1 &lt;dbl&gt; | IL1B..CD14.monocyte.PB00010.02_Male_BR1 &lt;dbl&gt; | IL1B..CD14.monocyte.PB00012.01_Female_BR1 &lt;dbl&gt; | IL1B..CD14.monocyte.PB00014.01_Male_BR1 &lt;dbl&gt; | IL1B..CD14.monocyte.PB00015.01_Male_BR2 &lt;dbl&gt; | IL1B..CD14.monocyte.PB00016.01_Female_BR2 &lt;dbl&gt; | ⋯ ⋯ | IL1B..CD14.monocyte.PB00592.01_Male_BR1 &lt;dbl&gt; | IL1B..CD14.monocyte.PB00599.01_Female_BR2 &lt;dbl&gt; | IL1B..CD14.monocyte.PB00600.01_Male_BR2 &lt;dbl&gt; | IL1B..CD14.monocyte.PB00602.01_Female_BR2 &lt;dbl&gt; | IL1B..CD14.monocyte.PB00621.01_Female_BR1 &lt;dbl&gt; | IL1B..CD14.monocyte.PB00623.01_Male_BR2 &lt;dbl&gt; | IL1B..CD14.monocyte.PB00625.02_Male_BR2 &lt;dbl&gt; | IL1B..CD14.monocyte.PB00645.01_Female_BR1 &lt;dbl&gt; | IL1B..CD14.monocyte.PB01425.01_Female_BR1 &lt;dbl&gt; | IL1B..CD14.monocyte.PB01446.01_Male_BR1 &lt;dbl&gt; |\n",
       "|---|---|---|---|---|---|---|---|---|---|---|---|---|---|---|---|---|---|---|---|---|---|\n",
       "| MIR1302-2HG | 0 | 0 | 0 | 0 | 0 | 0 | 0 | 0 | 0 | 0 | ⋯ | 0 | 0 | 0 | 0 | 0 | 0 | 0 | 0 | 0 | 0 |\n",
       "| FAM138A | 0 | 0 | 0 | 0 | 0 | 0 | 0 | 0 | 0 | 0 | ⋯ | 0 | 0 | 0 | 0 | 0 | 0 | 0 | 0 | 0 | 0 |\n",
       "\n"
      ],
      "text/plain": [
       "            IL1B..CD14.monocyte.PB00001.01_Female_BR1\n",
       "MIR1302-2HG 0                                        \n",
       "FAM138A     0                                        \n",
       "            IL1B..CD14.monocyte.PB00002.01_Male_BR1\n",
       "MIR1302-2HG 0                                      \n",
       "FAM138A     0                                      \n",
       "            IL1B..CD14.monocyte.PB00003.01_Female_BR1\n",
       "MIR1302-2HG 0                                        \n",
       "FAM138A     0                                        \n",
       "            IL1B..CD14.monocyte.PB00004.01_Male_BR1\n",
       "MIR1302-2HG 0                                      \n",
       "FAM138A     0                                      \n",
       "            IL1B..CD14.monocyte.PB00006.01_Female_BR1\n",
       "MIR1302-2HG 0                                        \n",
       "FAM138A     0                                        \n",
       "            IL1B..CD14.monocyte.PB00010.02_Male_BR1\n",
       "MIR1302-2HG 0                                      \n",
       "FAM138A     0                                      \n",
       "            IL1B..CD14.monocyte.PB00012.01_Female_BR1\n",
       "MIR1302-2HG 0                                        \n",
       "FAM138A     0                                        \n",
       "            IL1B..CD14.monocyte.PB00014.01_Male_BR1\n",
       "MIR1302-2HG 0                                      \n",
       "FAM138A     0                                      \n",
       "            IL1B..CD14.monocyte.PB00015.01_Male_BR2\n",
       "MIR1302-2HG 0                                      \n",
       "FAM138A     0                                      \n",
       "            IL1B..CD14.monocyte.PB00016.01_Female_BR2 ⋯\n",
       "MIR1302-2HG 0                                         ⋯\n",
       "FAM138A     0                                         ⋯\n",
       "            IL1B..CD14.monocyte.PB00592.01_Male_BR1\n",
       "MIR1302-2HG 0                                      \n",
       "FAM138A     0                                      \n",
       "            IL1B..CD14.monocyte.PB00599.01_Female_BR2\n",
       "MIR1302-2HG 0                                        \n",
       "FAM138A     0                                        \n",
       "            IL1B..CD14.monocyte.PB00600.01_Male_BR2\n",
       "MIR1302-2HG 0                                      \n",
       "FAM138A     0                                      \n",
       "            IL1B..CD14.monocyte.PB00602.01_Female_BR2\n",
       "MIR1302-2HG 0                                        \n",
       "FAM138A     0                                        \n",
       "            IL1B..CD14.monocyte.PB00621.01_Female_BR1\n",
       "MIR1302-2HG 0                                        \n",
       "FAM138A     0                                        \n",
       "            IL1B..CD14.monocyte.PB00623.01_Male_BR2\n",
       "MIR1302-2HG 0                                      \n",
       "FAM138A     0                                      \n",
       "            IL1B..CD14.monocyte.PB00625.02_Male_BR2\n",
       "MIR1302-2HG 0                                      \n",
       "FAM138A     0                                      \n",
       "            IL1B..CD14.monocyte.PB00645.01_Female_BR1\n",
       "MIR1302-2HG 0                                        \n",
       "FAM138A     0                                        \n",
       "            IL1B..CD14.monocyte.PB01425.01_Female_BR1\n",
       "MIR1302-2HG 0                                        \n",
       "FAM138A     0                                        \n",
       "            IL1B..CD14.monocyte.PB01446.01_Male_BR1\n",
       "MIR1302-2HG 0                                      \n",
       "FAM138A     0                                      "
      ]
     },
     "metadata": {},
     "output_type": "display_data"
    }
   ],
   "source": [
    "head(mean_df, n=2)"
   ]
  },
  {
   "cell_type": "code",
   "execution_count": 25,
   "id": "6cbfbb86-2dcc-4cfc-a0be-f1c90ee92176",
   "metadata": {
    "tags": []
   },
   "outputs": [
    {
     "data": {
      "text/html": [
       "<table class=\"dataframe\">\n",
       "<caption>A data.frame: 3 × 1</caption>\n",
       "<thead>\n",
       "\t<tr><th></th><th scope=col>colnames.mean_df.</th></tr>\n",
       "\t<tr><th></th><th scope=col>&lt;chr&gt;</th></tr>\n",
       "</thead>\n",
       "<tbody>\n",
       "\t<tr><th scope=row>1</th><td>IL1B..CD14.monocyte.PB00001.01_Female_BR1</td></tr>\n",
       "\t<tr><th scope=row>2</th><td>IL1B..CD14.monocyte.PB00002.01_Male_BR1  </td></tr>\n",
       "\t<tr><th scope=row>3</th><td>IL1B..CD14.monocyte.PB00003.01_Female_BR1</td></tr>\n",
       "</tbody>\n",
       "</table>\n"
      ],
      "text/latex": [
       "A data.frame: 3 × 1\n",
       "\\begin{tabular}{r|l}\n",
       "  & colnames.mean\\_df.\\\\\n",
       "  & <chr>\\\\\n",
       "\\hline\n",
       "\t1 & IL1B..CD14.monocyte.PB00001.01\\_Female\\_BR1\\\\\n",
       "\t2 & IL1B..CD14.monocyte.PB00002.01\\_Male\\_BR1  \\\\\n",
       "\t3 & IL1B..CD14.monocyte.PB00003.01\\_Female\\_BR1\\\\\n",
       "\\end{tabular}\n"
      ],
      "text/markdown": [
       "\n",
       "A data.frame: 3 × 1\n",
       "\n",
       "| <!--/--> | colnames.mean_df. &lt;chr&gt; |\n",
       "|---|---|\n",
       "| 1 | IL1B..CD14.monocyte.PB00001.01_Female_BR1 |\n",
       "| 2 | IL1B..CD14.monocyte.PB00002.01_Male_BR1   |\n",
       "| 3 | IL1B..CD14.monocyte.PB00003.01_Female_BR1 |\n",
       "\n"
      ],
      "text/plain": [
       "  colnames.mean_df.                        \n",
       "1 IL1B..CD14.monocyte.PB00001.01_Female_BR1\n",
       "2 IL1B..CD14.monocyte.PB00002.01_Male_BR1  \n",
       "3 IL1B..CD14.monocyte.PB00003.01_Female_BR1"
      ]
     },
     "metadata": {},
     "output_type": "display_data"
    }
   ],
   "source": [
    "meta<-data.frame(colnames(mean_df))\n",
    "head(meta, n = 3)"
   ]
  },
  {
   "cell_type": "code",
   "execution_count": 26,
   "id": "7dce8ff6-a590-4d7a-b12c-09a9f924bd99",
   "metadata": {
    "tags": []
   },
   "outputs": [
    {
     "data": {
      "text/html": [
       "<table class=\"dataframe\">\n",
       "<caption>A data.frame: 6 × 1</caption>\n",
       "<thead>\n",
       "\t<tr><th></th><th scope=col>ID</th></tr>\n",
       "\t<tr><th></th><th scope=col>&lt;chr&gt;</th></tr>\n",
       "</thead>\n",
       "<tbody>\n",
       "\t<tr><th scope=row>1</th><td>IL1B..CD14.monocyte.PB00001.01_Female_BR1</td></tr>\n",
       "\t<tr><th scope=row>2</th><td>IL1B..CD14.monocyte.PB00002.01_Male_BR1  </td></tr>\n",
       "\t<tr><th scope=row>3</th><td>IL1B..CD14.monocyte.PB00003.01_Female_BR1</td></tr>\n",
       "\t<tr><th scope=row>4</th><td>IL1B..CD14.monocyte.PB00004.01_Male_BR1  </td></tr>\n",
       "\t<tr><th scope=row>5</th><td>IL1B..CD14.monocyte.PB00006.01_Female_BR1</td></tr>\n",
       "\t<tr><th scope=row>6</th><td>IL1B..CD14.monocyte.PB00010.02_Male_BR1  </td></tr>\n",
       "</tbody>\n",
       "</table>\n"
      ],
      "text/latex": [
       "A data.frame: 6 × 1\n",
       "\\begin{tabular}{r|l}\n",
       "  & ID\\\\\n",
       "  & <chr>\\\\\n",
       "\\hline\n",
       "\t1 & IL1B..CD14.monocyte.PB00001.01\\_Female\\_BR1\\\\\n",
       "\t2 & IL1B..CD14.monocyte.PB00002.01\\_Male\\_BR1  \\\\\n",
       "\t3 & IL1B..CD14.monocyte.PB00003.01\\_Female\\_BR1\\\\\n",
       "\t4 & IL1B..CD14.monocyte.PB00004.01\\_Male\\_BR1  \\\\\n",
       "\t5 & IL1B..CD14.monocyte.PB00006.01\\_Female\\_BR1\\\\\n",
       "\t6 & IL1B..CD14.monocyte.PB00010.02\\_Male\\_BR1  \\\\\n",
       "\\end{tabular}\n"
      ],
      "text/markdown": [
       "\n",
       "A data.frame: 6 × 1\n",
       "\n",
       "| <!--/--> | ID &lt;chr&gt; |\n",
       "|---|---|\n",
       "| 1 | IL1B..CD14.monocyte.PB00001.01_Female_BR1 |\n",
       "| 2 | IL1B..CD14.monocyte.PB00002.01_Male_BR1   |\n",
       "| 3 | IL1B..CD14.monocyte.PB00003.01_Female_BR1 |\n",
       "| 4 | IL1B..CD14.monocyte.PB00004.01_Male_BR1   |\n",
       "| 5 | IL1B..CD14.monocyte.PB00006.01_Female_BR1 |\n",
       "| 6 | IL1B..CD14.monocyte.PB00010.02_Male_BR1   |\n",
       "\n"
      ],
      "text/plain": [
       "  ID                                       \n",
       "1 IL1B..CD14.monocyte.PB00001.01_Female_BR1\n",
       "2 IL1B..CD14.monocyte.PB00002.01_Male_BR1  \n",
       "3 IL1B..CD14.monocyte.PB00003.01_Female_BR1\n",
       "4 IL1B..CD14.monocyte.PB00004.01_Male_BR1  \n",
       "5 IL1B..CD14.monocyte.PB00006.01_Female_BR1\n",
       "6 IL1B..CD14.monocyte.PB00010.02_Male_BR1  "
      ]
     },
     "metadata": {},
     "output_type": "display_data"
    },
    {
     "data": {
      "text/html": [
       "0"
      ],
      "text/latex": [
       "0"
      ],
      "text/markdown": [
       "0"
      ],
      "text/plain": [
       "[1] 0"
      ]
     },
     "metadata": {},
     "output_type": "display_data"
    }
   ],
   "source": [
    "names(meta)[names(meta) == \"colnames.mean_df.\"] <- \"ID\"\n",
    "head(meta)\n",
    "\n",
    "length(unique(meta$colnames.mean_df.))"
   ]
  },
  {
   "cell_type": "code",
   "execution_count": 27,
   "id": "c4e5665d-f8fb-49d5-bf2d-1d008f4b5403",
   "metadata": {
    "tags": []
   },
   "outputs": [],
   "source": [
    "# # Sample string\n",
    "# input_string <- \"IL1B..CD14.monocyte.PB03924.002_Female_BR1\"\n",
    "\n",
    "# # Extract the desired string using regex\n",
    "# extracted_string <- sub(\".*\\\\.([^.]+)\\\\.([^.]+)_.*\", \"\\\\1-\\\\2\", input_string)\n",
    "\n",
    "# print(extracted_string)\n"
   ]
  },
  {
   "cell_type": "code",
   "execution_count": 28,
   "id": "771b91e8-e447-4afa-b866-fb95c31cb5e4",
   "metadata": {
    "tags": []
   },
   "outputs": [],
   "source": [
    "\n",
    "# # Extract PB.... ids from the 'ID' column\n",
    "# meta$pbmc_sample_id <- gsub(\"IL1B..CD14.monocyte.(PB[0-9]+\\\\.\\\\d+)_.*\", \"\\\\1\", meta$ID)\n",
    "# meta$pbmc_sample_id  = df['PB_ID'].str.replace('.', '-')\n",
    "# # Display the extracted ids\n",
    "# head(meta)\n",
    "\n",
    "# unique(meta$pbmc_sample_id)"
   ]
  },
  {
   "cell_type": "code",
   "execution_count": 29,
   "id": "7e7191d1-bfb0-4401-82fe-452f3c48650d",
   "metadata": {
    "tags": []
   },
   "outputs": [
    {
     "data": {
      "text/html": [
       "<table class=\"dataframe\">\n",
       "<caption>A data.frame: 6 × 2</caption>\n",
       "<thead>\n",
       "\t<tr><th></th><th scope=col>ID</th><th scope=col>pbmc_sample_id</th></tr>\n",
       "\t<tr><th></th><th scope=col>&lt;chr&gt;</th><th scope=col>&lt;chr&gt;</th></tr>\n",
       "</thead>\n",
       "<tbody>\n",
       "\t<tr><th scope=row>1</th><td>IL1B..CD14.monocyte.PB00001.01_Female_BR1</td><td>PB00001-01</td></tr>\n",
       "\t<tr><th scope=row>2</th><td>IL1B..CD14.monocyte.PB00002.01_Male_BR1  </td><td>PB00002-01</td></tr>\n",
       "\t<tr><th scope=row>3</th><td>IL1B..CD14.monocyte.PB00003.01_Female_BR1</td><td>PB00003-01</td></tr>\n",
       "\t<tr><th scope=row>4</th><td>IL1B..CD14.monocyte.PB00004.01_Male_BR1  </td><td>PB00004-01</td></tr>\n",
       "\t<tr><th scope=row>5</th><td>IL1B..CD14.monocyte.PB00006.01_Female_BR1</td><td>PB00006-01</td></tr>\n",
       "\t<tr><th scope=row>6</th><td>IL1B..CD14.monocyte.PB00010.02_Male_BR1  </td><td>PB00010-02</td></tr>\n",
       "</tbody>\n",
       "</table>\n"
      ],
      "text/latex": [
       "A data.frame: 6 × 2\n",
       "\\begin{tabular}{r|ll}\n",
       "  & ID & pbmc\\_sample\\_id\\\\\n",
       "  & <chr> & <chr>\\\\\n",
       "\\hline\n",
       "\t1 & IL1B..CD14.monocyte.PB00001.01\\_Female\\_BR1 & PB00001-01\\\\\n",
       "\t2 & IL1B..CD14.monocyte.PB00002.01\\_Male\\_BR1   & PB00002-01\\\\\n",
       "\t3 & IL1B..CD14.monocyte.PB00003.01\\_Female\\_BR1 & PB00003-01\\\\\n",
       "\t4 & IL1B..CD14.monocyte.PB00004.01\\_Male\\_BR1   & PB00004-01\\\\\n",
       "\t5 & IL1B..CD14.monocyte.PB00006.01\\_Female\\_BR1 & PB00006-01\\\\\n",
       "\t6 & IL1B..CD14.monocyte.PB00010.02\\_Male\\_BR1   & PB00010-02\\\\\n",
       "\\end{tabular}\n"
      ],
      "text/markdown": [
       "\n",
       "A data.frame: 6 × 2\n",
       "\n",
       "| <!--/--> | ID &lt;chr&gt; | pbmc_sample_id &lt;chr&gt; |\n",
       "|---|---|---|\n",
       "| 1 | IL1B..CD14.monocyte.PB00001.01_Female_BR1 | PB00001-01 |\n",
       "| 2 | IL1B..CD14.monocyte.PB00002.01_Male_BR1   | PB00002-01 |\n",
       "| 3 | IL1B..CD14.monocyte.PB00003.01_Female_BR1 | PB00003-01 |\n",
       "| 4 | IL1B..CD14.monocyte.PB00004.01_Male_BR1   | PB00004-01 |\n",
       "| 5 | IL1B..CD14.monocyte.PB00006.01_Female_BR1 | PB00006-01 |\n",
       "| 6 | IL1B..CD14.monocyte.PB00010.02_Male_BR1   | PB00010-02 |\n",
       "\n"
      ],
      "text/plain": [
       "  ID                                        pbmc_sample_id\n",
       "1 IL1B..CD14.monocyte.PB00001.01_Female_BR1 PB00001-01    \n",
       "2 IL1B..CD14.monocyte.PB00002.01_Male_BR1   PB00002-01    \n",
       "3 IL1B..CD14.monocyte.PB00003.01_Female_BR1 PB00003-01    \n",
       "4 IL1B..CD14.monocyte.PB00004.01_Male_BR1   PB00004-01    \n",
       "5 IL1B..CD14.monocyte.PB00006.01_Female_BR1 PB00006-01    \n",
       "6 IL1B..CD14.monocyte.PB00010.02_Male_BR1   PB00010-02    "
      ]
     },
     "metadata": {},
     "output_type": "display_data"
    },
    {
     "data": {
      "text/html": [
       "92"
      ],
      "text/latex": [
       "92"
      ],
      "text/markdown": [
       "92"
      ],
      "text/plain": [
       "[1] 92"
      ]
     },
     "metadata": {},
     "output_type": "display_data"
    }
   ],
   "source": [
    "# Sample strings\n",
    "#input_strings <- c(\"IL1B..CD14.monocyte.PB02554.002_Female_BR1\", \"IL1B..CD14.monocyte.PB02554.02_Male_BR1\")\n",
    "\n",
    "# Extract the desired strings using regex\n",
    "meta$pbmc_sample_id  <- sub(\".*\\\\.([^.]+)\\\\.([^.]+(?:\\\\.\\\\d+)?)_.*\", \"\\\\1-\\\\2\", meta$ID)\n",
    "meta$pbmc_sample_id  <- gsub('_.*','',meta$pbmc_sample_id )\n",
    "\n",
    "head(meta)\n",
    "length(unique(meta$pbmc_sample_id))"
   ]
  },
  {
   "cell_type": "code",
   "execution_count": 30,
   "id": "56c98b75-d1c9-4a5d-af9a-f01aae249e73",
   "metadata": {
    "tags": []
   },
   "outputs": [],
   "source": [
    "# ext_strings <- gsub('_.*','',extracted_strings)\n",
    "# ext_strings"
   ]
  },
  {
   "cell_type": "code",
   "execution_count": 31,
   "id": "f8920a4a-e6d6-4831-ba9e-03e8760d6d18",
   "metadata": {
    "tags": []
   },
   "outputs": [],
   "source": [
    "# meta$pbmc_sample_id <- gsub(\"\\\\.\", \"-\", regmatches(meta$ID, regexpr(\"PB\\\\d+\\\\.\\\\d+\", meta$ID)))\n",
    "# head(meta)"
   ]
  },
  {
   "cell_type": "code",
   "execution_count": 52,
   "id": "36b1672a-9f84-433f-95f7-4fc487764cc3",
   "metadata": {
    "tags": []
   },
   "outputs": [
    {
     "data": {
      "text/html": [
       "<table class=\"dataframe\">\n",
       "<caption>A data.frame: 6 × 37</caption>\n",
       "<thead>\n",
       "\t<tr><th></th><th scope=col>ID</th><th scope=col>pbmc_sample_id</th><th scope=col>X.1</th><th scope=col>X</th><th scope=col>lastUpdated</th><th scope=col>sample.id</th><th scope=col>sample.bridgingControl</th><th scope=col>sample.sampleKitGuid</th><th scope=col>sample.visitName</th><th scope=col>sample.visitDetails</th><th scope=col>⋯</th><th scope=col>cohort.cohortGuid</th><th scope=col>sample.diseaseStatesRecordedAtVisit</th><th scope=col>Sample_ID</th><th scope=col>Sample_Draw_date</th><th scope=col>Covid_Dose_1</th><th scope=col>Covid_Dose_2</th><th scope=col>Covid_exlcusion</th><th scope=col>BMI</th><th scope=col>file.name.downloaded</th><th scope=col>file.path</th></tr>\n",
       "\t<tr><th></th><th scope=col>&lt;chr&gt;</th><th scope=col>&lt;chr&gt;</th><th scope=col>&lt;int&gt;</th><th scope=col>&lt;int&gt;</th><th scope=col>&lt;chr&gt;</th><th scope=col>&lt;chr&gt;</th><th scope=col>&lt;chr&gt;</th><th scope=col>&lt;chr&gt;</th><th scope=col>&lt;chr&gt;</th><th scope=col>&lt;chr&gt;</th><th scope=col>⋯</th><th scope=col>&lt;chr&gt;</th><th scope=col>&lt;lgl&gt;</th><th scope=col>&lt;lgl&gt;</th><th scope=col>&lt;chr&gt;</th><th scope=col>&lt;chr&gt;</th><th scope=col>&lt;chr&gt;</th><th scope=col>&lt;chr&gt;</th><th scope=col>&lt;chr&gt;</th><th scope=col>&lt;chr&gt;</th><th scope=col>&lt;chr&gt;</th></tr>\n",
       "</thead>\n",
       "<tbody>\n",
       "\t<tr><th scope=row>1</th><td>IL1B..CD14.monocyte.PB00001.01_Female_BR1</td><td>PB00001-01</td><td>1</td><td>1</td><td>2023-11-18T02:03:08.347Z</td><td>f499ff83-e513-4d24-a10f-151348269fff</td><td>false</td><td>KT00001</td><td>Flu Year 1 Day 0</td><td>N/A - Flu-Series Timepoint Only</td><td>⋯</td><td>BR1</td><td>NA</td><td>NA</td><td>2019-10-15</td><td><span style=white-space:pre-wrap>NA        </span></td><td><span style=white-space:pre-wrap>NA        </span></td><td>no</td><td><span style=white-space:pre-wrap>&lt;25-BMI  </span></td><td><span style=white-space:pre-wrap>B001-P1_PB00001-01_labeled.h5                               </span></td><td><span style=white-space:pre-wrap>/home/jupyter/BRI_Analysis/scRNA/cache/fec489f9-9a74-4635-aa91-d2bf09d1faec/B001-P1_PB00001-01_labeled.h5                               </span></td></tr>\n",
       "\t<tr><th scope=row>2</th><td><span style=white-space:pre-wrap>IL1B..CD14.monocyte.PB00002.01_Male_BR1  </span></td><td>PB00002-01</td><td>2</td><td>2</td><td>2023-11-18T02:03:08.347Z</td><td>750e90a9-a296-4f0f-969f-60225c2bca17</td><td>false</td><td>KT00002</td><td>Flu Year 1 Day 0</td><td>N/A - Flu-Series Timepoint Only</td><td>⋯</td><td>BR1</td><td>NA</td><td>NA</td><td>2019-10-15</td><td>2020-12-28</td><td>2021-01-18</td><td>no</td><td><span style=white-space:pre-wrap>&lt;25-BMI  </span></td><td><span style=white-space:pre-wrap>B001-P1_PB00002-01_labeled.h5                               </span></td><td><span style=white-space:pre-wrap>/home/jupyter/BRI_Analysis/scRNA/cache/7c0c7979-eebd-4aba-b5b2-6e76b4643623/B001-P1_PB00002-01_labeled.h5                               </span></td></tr>\n",
       "\t<tr><th scope=row>3</th><td>IL1B..CD14.monocyte.PB00003.01_Female_BR1</td><td>PB00003-01</td><td>3</td><td>3</td><td>2023-11-18T02:03:08.347Z</td><td>2db6fb3f-e3f4-454b-891b-9b068541b51d</td><td>false</td><td>KT00003</td><td>Flu Year 1 Day 0</td><td>N/A - Flu-Series Timepoint Only</td><td>⋯</td><td>BR1</td><td>NA</td><td>NA</td><td>2019-10-15</td><td>2020-12-28</td><td>2021-01-16</td><td>no</td><td><span style=white-space:pre-wrap>&lt;25-BMI  </span></td><td><span style=white-space:pre-wrap>B001-P1_PB00003-01_labeled.h5                               </span></td><td><span style=white-space:pre-wrap>/home/jupyter/BRI_Analysis/scRNA/cache/40efd03a-cb2f-4677-af42-a056cbfe5a17/B001-P1_PB00003-01_labeled.h5                               </span></td></tr>\n",
       "\t<tr><th scope=row>4</th><td><span style=white-space:pre-wrap>IL1B..CD14.monocyte.PB00004.01_Male_BR1  </span></td><td>PB00004-01</td><td>4</td><td>4</td><td>2023-11-19T10:34:34.12Z </td><td>f04693c5-563c-4b5b-ae58-877d0d9ae2fe</td><td>false</td><td>KT00004</td><td>Flu Year 1 Day 0</td><td>N/A - Flu-Series Timepoint Only</td><td>⋯</td><td>BR1</td><td>NA</td><td>NA</td><td>2019-10-21</td><td>2021-04-16</td><td>2021-05-06</td><td>no</td><td><span style=white-space:pre-wrap>&lt;25-BMI  </span></td><td>B002-P1_PB00004-01_2023-11-17T21:36:51.794326181Z_labeled.h5</td><td>/home/jupyter/BRI_Analysis/scRNA/cache/68fbcd34-1d63-461d-8195-df5b8dc61b31/B002-P1_PB00004-01_2023-11-17T21:36:51.794326181Z_labeled.h5</td></tr>\n",
       "\t<tr><th scope=row>5</th><td>IL1B..CD14.monocyte.PB00006.01_Female_BR1</td><td>PB00006-01</td><td>5</td><td>5</td><td>2023-11-19T05:07:36.805Z</td><td>eb5b3a3d-002e-40a6-aa19-aa0e6a7fff8f</td><td>false</td><td>KT00006</td><td>Flu Year 1 Day 0</td><td>N/A - Flu-Series Timepoint Only</td><td>⋯</td><td>BR1</td><td>NA</td><td>NA</td><td>2019-10-23</td><td>2021-01-16</td><td>2021-02-26</td><td>no</td><td><span style=white-space:pre-wrap>&lt;25-BMI  </span></td><td>B002-P1_PB00006-01_2023-11-17T21:36:51.794326181Z_labeled.h5</td><td>/home/jupyter/BRI_Analysis/scRNA/cache/ea8d98e9-e99e-4dc6-9e78-9866e0deac68/B002-P1_PB00006-01_2023-11-17T21:36:51.794326181Z_labeled.h5</td></tr>\n",
       "\t<tr><th scope=row>6</th><td><span style=white-space:pre-wrap>IL1B..CD14.monocyte.PB00010.02_Male_BR1  </span></td><td>PB00010-02</td><td>6</td><td>6</td><td>2023-11-18T02:03:08.347Z</td><td>f32ac061-0ede-4040-8d8c-35229ea5229c</td><td>false</td><td>KT00010</td><td>Flu Year 1 Day 0</td><td>N/A - Flu-Series Timepoint Only</td><td>⋯</td><td>BR1</td><td>NA</td><td>NA</td><td>2019-10-28</td><td>2021-03-21</td><td>2021-04-18</td><td>no</td><td>&gt;25-30BMI</td><td>B078-P2_PB00010-02_2021-08-19T17:09:29.934849811Z_labeled.h5</td><td>/home/jupyter/BRI_Analysis/scRNA/cache/237e41df-5616-4852-8a8f-b32835c9efcb/B078-P2_PB00010-02_2021-08-19T17:09:29.934849811Z_labeled.h5</td></tr>\n",
       "</tbody>\n",
       "</table>\n"
      ],
      "text/latex": [
       "A data.frame: 6 × 37\n",
       "\\begin{tabular}{r|lllllllllllllllllllll}\n",
       "  & ID & pbmc\\_sample\\_id & X.1 & X & lastUpdated & sample.id & sample.bridgingControl & sample.sampleKitGuid & sample.visitName & sample.visitDetails & ⋯ & cohort.cohortGuid & sample.diseaseStatesRecordedAtVisit & Sample\\_ID & Sample\\_Draw\\_date & Covid\\_Dose\\_1 & Covid\\_Dose\\_2 & Covid\\_exlcusion & BMI & file.name.downloaded & file.path\\\\\n",
       "  & <chr> & <chr> & <int> & <int> & <chr> & <chr> & <chr> & <chr> & <chr> & <chr> & ⋯ & <chr> & <lgl> & <lgl> & <chr> & <chr> & <chr> & <chr> & <chr> & <chr> & <chr>\\\\\n",
       "\\hline\n",
       "\t1 & IL1B..CD14.monocyte.PB00001.01\\_Female\\_BR1 & PB00001-01 & 1 & 1 & 2023-11-18T02:03:08.347Z & f499ff83-e513-4d24-a10f-151348269fff & false & KT00001 & Flu Year 1 Day 0 & N/A - Flu-Series Timepoint Only & ⋯ & BR1 & NA & NA & 2019-10-15 & NA         & NA         & no & <25-BMI   & B001-P1\\_PB00001-01\\_labeled.h5                                & /home/jupyter/BRI\\_Analysis/scRNA/cache/fec489f9-9a74-4635-aa91-d2bf09d1faec/B001-P1\\_PB00001-01\\_labeled.h5                               \\\\\n",
       "\t2 & IL1B..CD14.monocyte.PB00002.01\\_Male\\_BR1   & PB00002-01 & 2 & 2 & 2023-11-18T02:03:08.347Z & 750e90a9-a296-4f0f-969f-60225c2bca17 & false & KT00002 & Flu Year 1 Day 0 & N/A - Flu-Series Timepoint Only & ⋯ & BR1 & NA & NA & 2019-10-15 & 2020-12-28 & 2021-01-18 & no & <25-BMI   & B001-P1\\_PB00002-01\\_labeled.h5                                & /home/jupyter/BRI\\_Analysis/scRNA/cache/7c0c7979-eebd-4aba-b5b2-6e76b4643623/B001-P1\\_PB00002-01\\_labeled.h5                               \\\\\n",
       "\t3 & IL1B..CD14.monocyte.PB00003.01\\_Female\\_BR1 & PB00003-01 & 3 & 3 & 2023-11-18T02:03:08.347Z & 2db6fb3f-e3f4-454b-891b-9b068541b51d & false & KT00003 & Flu Year 1 Day 0 & N/A - Flu-Series Timepoint Only & ⋯ & BR1 & NA & NA & 2019-10-15 & 2020-12-28 & 2021-01-16 & no & <25-BMI   & B001-P1\\_PB00003-01\\_labeled.h5                                & /home/jupyter/BRI\\_Analysis/scRNA/cache/40efd03a-cb2f-4677-af42-a056cbfe5a17/B001-P1\\_PB00003-01\\_labeled.h5                               \\\\\n",
       "\t4 & IL1B..CD14.monocyte.PB00004.01\\_Male\\_BR1   & PB00004-01 & 4 & 4 & 2023-11-19T10:34:34.12Z  & f04693c5-563c-4b5b-ae58-877d0d9ae2fe & false & KT00004 & Flu Year 1 Day 0 & N/A - Flu-Series Timepoint Only & ⋯ & BR1 & NA & NA & 2019-10-21 & 2021-04-16 & 2021-05-06 & no & <25-BMI   & B002-P1\\_PB00004-01\\_2023-11-17T21:36:51.794326181Z\\_labeled.h5 & /home/jupyter/BRI\\_Analysis/scRNA/cache/68fbcd34-1d63-461d-8195-df5b8dc61b31/B002-P1\\_PB00004-01\\_2023-11-17T21:36:51.794326181Z\\_labeled.h5\\\\\n",
       "\t5 & IL1B..CD14.monocyte.PB00006.01\\_Female\\_BR1 & PB00006-01 & 5 & 5 & 2023-11-19T05:07:36.805Z & eb5b3a3d-002e-40a6-aa19-aa0e6a7fff8f & false & KT00006 & Flu Year 1 Day 0 & N/A - Flu-Series Timepoint Only & ⋯ & BR1 & NA & NA & 2019-10-23 & 2021-01-16 & 2021-02-26 & no & <25-BMI   & B002-P1\\_PB00006-01\\_2023-11-17T21:36:51.794326181Z\\_labeled.h5 & /home/jupyter/BRI\\_Analysis/scRNA/cache/ea8d98e9-e99e-4dc6-9e78-9866e0deac68/B002-P1\\_PB00006-01\\_2023-11-17T21:36:51.794326181Z\\_labeled.h5\\\\\n",
       "\t6 & IL1B..CD14.monocyte.PB00010.02\\_Male\\_BR1   & PB00010-02 & 6 & 6 & 2023-11-18T02:03:08.347Z & f32ac061-0ede-4040-8d8c-35229ea5229c & false & KT00010 & Flu Year 1 Day 0 & N/A - Flu-Series Timepoint Only & ⋯ & BR1 & NA & NA & 2019-10-28 & 2021-03-21 & 2021-04-18 & no & >25-30BMI & B078-P2\\_PB00010-02\\_2021-08-19T17:09:29.934849811Z\\_labeled.h5 & /home/jupyter/BRI\\_Analysis/scRNA/cache/237e41df-5616-4852-8a8f-b32835c9efcb/B078-P2\\_PB00010-02\\_2021-08-19T17:09:29.934849811Z\\_labeled.h5\\\\\n",
       "\\end{tabular}\n"
      ],
      "text/markdown": [
       "\n",
       "A data.frame: 6 × 37\n",
       "\n",
       "| <!--/--> | ID &lt;chr&gt; | pbmc_sample_id &lt;chr&gt; | X.1 &lt;int&gt; | X &lt;int&gt; | lastUpdated &lt;chr&gt; | sample.id &lt;chr&gt; | sample.bridgingControl &lt;chr&gt; | sample.sampleKitGuid &lt;chr&gt; | sample.visitName &lt;chr&gt; | sample.visitDetails &lt;chr&gt; | ⋯ ⋯ | cohort.cohortGuid &lt;chr&gt; | sample.diseaseStatesRecordedAtVisit &lt;lgl&gt; | Sample_ID &lt;lgl&gt; | Sample_Draw_date &lt;chr&gt; | Covid_Dose_1 &lt;chr&gt; | Covid_Dose_2 &lt;chr&gt; | Covid_exlcusion &lt;chr&gt; | BMI &lt;chr&gt; | file.name.downloaded &lt;chr&gt; | file.path &lt;chr&gt; |\n",
       "|---|---|---|---|---|---|---|---|---|---|---|---|---|---|---|---|---|---|---|---|---|---|\n",
       "| 1 | IL1B..CD14.monocyte.PB00001.01_Female_BR1 | PB00001-01 | 1 | 1 | 2023-11-18T02:03:08.347Z | f499ff83-e513-4d24-a10f-151348269fff | false | KT00001 | Flu Year 1 Day 0 | N/A - Flu-Series Timepoint Only | ⋯ | BR1 | NA | NA | 2019-10-15 | NA         | NA         | no | &lt;25-BMI   | B001-P1_PB00001-01_labeled.h5                                | /home/jupyter/BRI_Analysis/scRNA/cache/fec489f9-9a74-4635-aa91-d2bf09d1faec/B001-P1_PB00001-01_labeled.h5                                |\n",
       "| 2 | IL1B..CD14.monocyte.PB00002.01_Male_BR1   | PB00002-01 | 2 | 2 | 2023-11-18T02:03:08.347Z | 750e90a9-a296-4f0f-969f-60225c2bca17 | false | KT00002 | Flu Year 1 Day 0 | N/A - Flu-Series Timepoint Only | ⋯ | BR1 | NA | NA | 2019-10-15 | 2020-12-28 | 2021-01-18 | no | &lt;25-BMI   | B001-P1_PB00002-01_labeled.h5                                | /home/jupyter/BRI_Analysis/scRNA/cache/7c0c7979-eebd-4aba-b5b2-6e76b4643623/B001-P1_PB00002-01_labeled.h5                                |\n",
       "| 3 | IL1B..CD14.monocyte.PB00003.01_Female_BR1 | PB00003-01 | 3 | 3 | 2023-11-18T02:03:08.347Z | 2db6fb3f-e3f4-454b-891b-9b068541b51d | false | KT00003 | Flu Year 1 Day 0 | N/A - Flu-Series Timepoint Only | ⋯ | BR1 | NA | NA | 2019-10-15 | 2020-12-28 | 2021-01-16 | no | &lt;25-BMI   | B001-P1_PB00003-01_labeled.h5                                | /home/jupyter/BRI_Analysis/scRNA/cache/40efd03a-cb2f-4677-af42-a056cbfe5a17/B001-P1_PB00003-01_labeled.h5                                |\n",
       "| 4 | IL1B..CD14.monocyte.PB00004.01_Male_BR1   | PB00004-01 | 4 | 4 | 2023-11-19T10:34:34.12Z  | f04693c5-563c-4b5b-ae58-877d0d9ae2fe | false | KT00004 | Flu Year 1 Day 0 | N/A - Flu-Series Timepoint Only | ⋯ | BR1 | NA | NA | 2019-10-21 | 2021-04-16 | 2021-05-06 | no | &lt;25-BMI   | B002-P1_PB00004-01_2023-11-17T21:36:51.794326181Z_labeled.h5 | /home/jupyter/BRI_Analysis/scRNA/cache/68fbcd34-1d63-461d-8195-df5b8dc61b31/B002-P1_PB00004-01_2023-11-17T21:36:51.794326181Z_labeled.h5 |\n",
       "| 5 | IL1B..CD14.monocyte.PB00006.01_Female_BR1 | PB00006-01 | 5 | 5 | 2023-11-19T05:07:36.805Z | eb5b3a3d-002e-40a6-aa19-aa0e6a7fff8f | false | KT00006 | Flu Year 1 Day 0 | N/A - Flu-Series Timepoint Only | ⋯ | BR1 | NA | NA | 2019-10-23 | 2021-01-16 | 2021-02-26 | no | &lt;25-BMI   | B002-P1_PB00006-01_2023-11-17T21:36:51.794326181Z_labeled.h5 | /home/jupyter/BRI_Analysis/scRNA/cache/ea8d98e9-e99e-4dc6-9e78-9866e0deac68/B002-P1_PB00006-01_2023-11-17T21:36:51.794326181Z_labeled.h5 |\n",
       "| 6 | IL1B..CD14.monocyte.PB00010.02_Male_BR1   | PB00010-02 | 6 | 6 | 2023-11-18T02:03:08.347Z | f32ac061-0ede-4040-8d8c-35229ea5229c | false | KT00010 | Flu Year 1 Day 0 | N/A - Flu-Series Timepoint Only | ⋯ | BR1 | NA | NA | 2019-10-28 | 2021-03-21 | 2021-04-18 | no | &gt;25-30BMI | B078-P2_PB00010-02_2021-08-19T17:09:29.934849811Z_labeled.h5 | /home/jupyter/BRI_Analysis/scRNA/cache/237e41df-5616-4852-8a8f-b32835c9efcb/B078-P2_PB00010-02_2021-08-19T17:09:29.934849811Z_labeled.h5 |\n",
       "\n"
      ],
      "text/plain": [
       "  ID                                        pbmc_sample_id X.1 X\n",
       "1 IL1B..CD14.monocyte.PB00001.01_Female_BR1 PB00001-01     1   1\n",
       "2 IL1B..CD14.monocyte.PB00002.01_Male_BR1   PB00002-01     2   2\n",
       "3 IL1B..CD14.monocyte.PB00003.01_Female_BR1 PB00003-01     3   3\n",
       "4 IL1B..CD14.monocyte.PB00004.01_Male_BR1   PB00004-01     4   4\n",
       "5 IL1B..CD14.monocyte.PB00006.01_Female_BR1 PB00006-01     5   5\n",
       "6 IL1B..CD14.monocyte.PB00010.02_Male_BR1   PB00010-02     6   6\n",
       "  lastUpdated              sample.id                           \n",
       "1 2023-11-18T02:03:08.347Z f499ff83-e513-4d24-a10f-151348269fff\n",
       "2 2023-11-18T02:03:08.347Z 750e90a9-a296-4f0f-969f-60225c2bca17\n",
       "3 2023-11-18T02:03:08.347Z 2db6fb3f-e3f4-454b-891b-9b068541b51d\n",
       "4 2023-11-19T10:34:34.12Z  f04693c5-563c-4b5b-ae58-877d0d9ae2fe\n",
       "5 2023-11-19T05:07:36.805Z eb5b3a3d-002e-40a6-aa19-aa0e6a7fff8f\n",
       "6 2023-11-18T02:03:08.347Z f32ac061-0ede-4040-8d8c-35229ea5229c\n",
       "  sample.bridgingControl sample.sampleKitGuid sample.visitName\n",
       "1 false                  KT00001              Flu Year 1 Day 0\n",
       "2 false                  KT00002              Flu Year 1 Day 0\n",
       "3 false                  KT00003              Flu Year 1 Day 0\n",
       "4 false                  KT00004              Flu Year 1 Day 0\n",
       "5 false                  KT00006              Flu Year 1 Day 0\n",
       "6 false                  KT00010              Flu Year 1 Day 0\n",
       "  sample.visitDetails             ⋯ cohort.cohortGuid\n",
       "1 N/A - Flu-Series Timepoint Only ⋯ BR1              \n",
       "2 N/A - Flu-Series Timepoint Only ⋯ BR1              \n",
       "3 N/A - Flu-Series Timepoint Only ⋯ BR1              \n",
       "4 N/A - Flu-Series Timepoint Only ⋯ BR1              \n",
       "5 N/A - Flu-Series Timepoint Only ⋯ BR1              \n",
       "6 N/A - Flu-Series Timepoint Only ⋯ BR1              \n",
       "  sample.diseaseStatesRecordedAtVisit Sample_ID Sample_Draw_date Covid_Dose_1\n",
       "1 NA                                  NA        2019-10-15       NA          \n",
       "2 NA                                  NA        2019-10-15       2020-12-28  \n",
       "3 NA                                  NA        2019-10-15       2020-12-28  \n",
       "4 NA                                  NA        2019-10-21       2021-04-16  \n",
       "5 NA                                  NA        2019-10-23       2021-01-16  \n",
       "6 NA                                  NA        2019-10-28       2021-03-21  \n",
       "  Covid_Dose_2 Covid_exlcusion BMI      \n",
       "1 NA           no              <25-BMI  \n",
       "2 2021-01-18   no              <25-BMI  \n",
       "3 2021-01-16   no              <25-BMI  \n",
       "4 2021-05-06   no              <25-BMI  \n",
       "5 2021-02-26   no              <25-BMI  \n",
       "6 2021-04-18   no              >25-30BMI\n",
       "  file.name.downloaded                                        \n",
       "1 B001-P1_PB00001-01_labeled.h5                               \n",
       "2 B001-P1_PB00002-01_labeled.h5                               \n",
       "3 B001-P1_PB00003-01_labeled.h5                               \n",
       "4 B002-P1_PB00004-01_2023-11-17T21:36:51.794326181Z_labeled.h5\n",
       "5 B002-P1_PB00006-01_2023-11-17T21:36:51.794326181Z_labeled.h5\n",
       "6 B078-P2_PB00010-02_2021-08-19T17:09:29.934849811Z_labeled.h5\n",
       "  file.path                                                                                                                               \n",
       "1 /home/jupyter/BRI_Analysis/scRNA/cache/fec489f9-9a74-4635-aa91-d2bf09d1faec/B001-P1_PB00001-01_labeled.h5                               \n",
       "2 /home/jupyter/BRI_Analysis/scRNA/cache/7c0c7979-eebd-4aba-b5b2-6e76b4643623/B001-P1_PB00002-01_labeled.h5                               \n",
       "3 /home/jupyter/BRI_Analysis/scRNA/cache/40efd03a-cb2f-4677-af42-a056cbfe5a17/B001-P1_PB00003-01_labeled.h5                               \n",
       "4 /home/jupyter/BRI_Analysis/scRNA/cache/68fbcd34-1d63-461d-8195-df5b8dc61b31/B002-P1_PB00004-01_2023-11-17T21:36:51.794326181Z_labeled.h5\n",
       "5 /home/jupyter/BRI_Analysis/scRNA/cache/ea8d98e9-e99e-4dc6-9e78-9866e0deac68/B002-P1_PB00006-01_2023-11-17T21:36:51.794326181Z_labeled.h5\n",
       "6 /home/jupyter/BRI_Analysis/scRNA/cache/237e41df-5616-4852-8a8f-b32835c9efcb/B078-P2_PB00010-02_2021-08-19T17:09:29.934849811Z_labeled.h5"
      ]
     },
     "metadata": {},
     "output_type": "display_data"
    }
   ],
   "source": [
    "# Left join the dataframes by the common column\n",
    "merged_df <- left_join(meta, meta_data, by = \"pbmc_sample_id\")\n",
    "head(merged_df)"
   ]
  },
  {
   "cell_type": "code",
   "execution_count": 53,
   "id": "08e0c709-6325-48b5-9cf7-ab0140a20a49",
   "metadata": {
    "tags": []
   },
   "outputs": [
    {
     "data": {
      "text/html": [
       "<table class=\"dataframe\">\n",
       "<caption>A data.frame: 6 × 37</caption>\n",
       "<thead>\n",
       "\t<tr><th></th><th scope=col>ID</th><th scope=col>pbmc_sample_id</th><th scope=col>X.1</th><th scope=col>X</th><th scope=col>lastUpdated</th><th scope=col>sample.id</th><th scope=col>sample.bridgingControl</th><th scope=col>sample.sampleKitGuid</th><th scope=col>sample.visitName</th><th scope=col>sample.visitDetails</th><th scope=col>⋯</th><th scope=col>cohort.cohortGuid</th><th scope=col>sample.diseaseStatesRecordedAtVisit</th><th scope=col>Sample_ID</th><th scope=col>Sample_Draw_date</th><th scope=col>Covid_Dose_1</th><th scope=col>Covid_Dose_2</th><th scope=col>Covid_exlcusion</th><th scope=col>BMI</th><th scope=col>file.name.downloaded</th><th scope=col>file.path</th></tr>\n",
       "\t<tr><th></th><th scope=col>&lt;chr&gt;</th><th scope=col>&lt;chr&gt;</th><th scope=col>&lt;int&gt;</th><th scope=col>&lt;int&gt;</th><th scope=col>&lt;chr&gt;</th><th scope=col>&lt;chr&gt;</th><th scope=col>&lt;chr&gt;</th><th scope=col>&lt;chr&gt;</th><th scope=col>&lt;chr&gt;</th><th scope=col>&lt;chr&gt;</th><th scope=col>⋯</th><th scope=col>&lt;chr&gt;</th><th scope=col>&lt;lgl&gt;</th><th scope=col>&lt;lgl&gt;</th><th scope=col>&lt;chr&gt;</th><th scope=col>&lt;chr&gt;</th><th scope=col>&lt;chr&gt;</th><th scope=col>&lt;chr&gt;</th><th scope=col>&lt;chr&gt;</th><th scope=col>&lt;chr&gt;</th><th scope=col>&lt;chr&gt;</th></tr>\n",
       "</thead>\n",
       "<tbody>\n",
       "\t<tr><th scope=row>IL1B..CD14.monocyte.PB00001.01_Female_BR1</th><td>IL1B..CD14.monocyte.PB00001.01_Female_BR1</td><td>PB00001-01</td><td>1</td><td>1</td><td>2023-11-18T02:03:08.347Z</td><td>f499ff83-e513-4d24-a10f-151348269fff</td><td>false</td><td>KT00001</td><td>Flu Year 1 Day 0</td><td>N/A - Flu-Series Timepoint Only</td><td>⋯</td><td>BR1</td><td>NA</td><td>NA</td><td>2019-10-15</td><td><span style=white-space:pre-wrap>NA        </span></td><td><span style=white-space:pre-wrap>NA        </span></td><td>no</td><td><span style=white-space:pre-wrap>&lt;25-BMI  </span></td><td><span style=white-space:pre-wrap>B001-P1_PB00001-01_labeled.h5                               </span></td><td><span style=white-space:pre-wrap>/home/jupyter/BRI_Analysis/scRNA/cache/fec489f9-9a74-4635-aa91-d2bf09d1faec/B001-P1_PB00001-01_labeled.h5                               </span></td></tr>\n",
       "\t<tr><th scope=row>IL1B..CD14.monocyte.PB00002.01_Male_BR1</th><td><span style=white-space:pre-wrap>IL1B..CD14.monocyte.PB00002.01_Male_BR1  </span></td><td>PB00002-01</td><td>2</td><td>2</td><td>2023-11-18T02:03:08.347Z</td><td>750e90a9-a296-4f0f-969f-60225c2bca17</td><td>false</td><td>KT00002</td><td>Flu Year 1 Day 0</td><td>N/A - Flu-Series Timepoint Only</td><td>⋯</td><td>BR1</td><td>NA</td><td>NA</td><td>2019-10-15</td><td>2020-12-28</td><td>2021-01-18</td><td>no</td><td><span style=white-space:pre-wrap>&lt;25-BMI  </span></td><td><span style=white-space:pre-wrap>B001-P1_PB00002-01_labeled.h5                               </span></td><td><span style=white-space:pre-wrap>/home/jupyter/BRI_Analysis/scRNA/cache/7c0c7979-eebd-4aba-b5b2-6e76b4643623/B001-P1_PB00002-01_labeled.h5                               </span></td></tr>\n",
       "\t<tr><th scope=row>IL1B..CD14.monocyte.PB00003.01_Female_BR1</th><td>IL1B..CD14.monocyte.PB00003.01_Female_BR1</td><td>PB00003-01</td><td>3</td><td>3</td><td>2023-11-18T02:03:08.347Z</td><td>2db6fb3f-e3f4-454b-891b-9b068541b51d</td><td>false</td><td>KT00003</td><td>Flu Year 1 Day 0</td><td>N/A - Flu-Series Timepoint Only</td><td>⋯</td><td>BR1</td><td>NA</td><td>NA</td><td>2019-10-15</td><td>2020-12-28</td><td>2021-01-16</td><td>no</td><td><span style=white-space:pre-wrap>&lt;25-BMI  </span></td><td><span style=white-space:pre-wrap>B001-P1_PB00003-01_labeled.h5                               </span></td><td><span style=white-space:pre-wrap>/home/jupyter/BRI_Analysis/scRNA/cache/40efd03a-cb2f-4677-af42-a056cbfe5a17/B001-P1_PB00003-01_labeled.h5                               </span></td></tr>\n",
       "\t<tr><th scope=row>IL1B..CD14.monocyte.PB00004.01_Male_BR1</th><td><span style=white-space:pre-wrap>IL1B..CD14.monocyte.PB00004.01_Male_BR1  </span></td><td>PB00004-01</td><td>4</td><td>4</td><td>2023-11-19T10:34:34.12Z </td><td>f04693c5-563c-4b5b-ae58-877d0d9ae2fe</td><td>false</td><td>KT00004</td><td>Flu Year 1 Day 0</td><td>N/A - Flu-Series Timepoint Only</td><td>⋯</td><td>BR1</td><td>NA</td><td>NA</td><td>2019-10-21</td><td>2021-04-16</td><td>2021-05-06</td><td>no</td><td><span style=white-space:pre-wrap>&lt;25-BMI  </span></td><td>B002-P1_PB00004-01_2023-11-17T21:36:51.794326181Z_labeled.h5</td><td>/home/jupyter/BRI_Analysis/scRNA/cache/68fbcd34-1d63-461d-8195-df5b8dc61b31/B002-P1_PB00004-01_2023-11-17T21:36:51.794326181Z_labeled.h5</td></tr>\n",
       "\t<tr><th scope=row>IL1B..CD14.monocyte.PB00006.01_Female_BR1</th><td>IL1B..CD14.monocyte.PB00006.01_Female_BR1</td><td>PB00006-01</td><td>5</td><td>5</td><td>2023-11-19T05:07:36.805Z</td><td>eb5b3a3d-002e-40a6-aa19-aa0e6a7fff8f</td><td>false</td><td>KT00006</td><td>Flu Year 1 Day 0</td><td>N/A - Flu-Series Timepoint Only</td><td>⋯</td><td>BR1</td><td>NA</td><td>NA</td><td>2019-10-23</td><td>2021-01-16</td><td>2021-02-26</td><td>no</td><td><span style=white-space:pre-wrap>&lt;25-BMI  </span></td><td>B002-P1_PB00006-01_2023-11-17T21:36:51.794326181Z_labeled.h5</td><td>/home/jupyter/BRI_Analysis/scRNA/cache/ea8d98e9-e99e-4dc6-9e78-9866e0deac68/B002-P1_PB00006-01_2023-11-17T21:36:51.794326181Z_labeled.h5</td></tr>\n",
       "\t<tr><th scope=row>IL1B..CD14.monocyte.PB00010.02_Male_BR1</th><td><span style=white-space:pre-wrap>IL1B..CD14.monocyte.PB00010.02_Male_BR1  </span></td><td>PB00010-02</td><td>6</td><td>6</td><td>2023-11-18T02:03:08.347Z</td><td>f32ac061-0ede-4040-8d8c-35229ea5229c</td><td>false</td><td>KT00010</td><td>Flu Year 1 Day 0</td><td>N/A - Flu-Series Timepoint Only</td><td>⋯</td><td>BR1</td><td>NA</td><td>NA</td><td>2019-10-28</td><td>2021-03-21</td><td>2021-04-18</td><td>no</td><td>&gt;25-30BMI</td><td>B078-P2_PB00010-02_2021-08-19T17:09:29.934849811Z_labeled.h5</td><td>/home/jupyter/BRI_Analysis/scRNA/cache/237e41df-5616-4852-8a8f-b32835c9efcb/B078-P2_PB00010-02_2021-08-19T17:09:29.934849811Z_labeled.h5</td></tr>\n",
       "</tbody>\n",
       "</table>\n"
      ],
      "text/latex": [
       "A data.frame: 6 × 37\n",
       "\\begin{tabular}{r|lllllllllllllllllllll}\n",
       "  & ID & pbmc\\_sample\\_id & X.1 & X & lastUpdated & sample.id & sample.bridgingControl & sample.sampleKitGuid & sample.visitName & sample.visitDetails & ⋯ & cohort.cohortGuid & sample.diseaseStatesRecordedAtVisit & Sample\\_ID & Sample\\_Draw\\_date & Covid\\_Dose\\_1 & Covid\\_Dose\\_2 & Covid\\_exlcusion & BMI & file.name.downloaded & file.path\\\\\n",
       "  & <chr> & <chr> & <int> & <int> & <chr> & <chr> & <chr> & <chr> & <chr> & <chr> & ⋯ & <chr> & <lgl> & <lgl> & <chr> & <chr> & <chr> & <chr> & <chr> & <chr> & <chr>\\\\\n",
       "\\hline\n",
       "\tIL1B..CD14.monocyte.PB00001.01\\_Female\\_BR1 & IL1B..CD14.monocyte.PB00001.01\\_Female\\_BR1 & PB00001-01 & 1 & 1 & 2023-11-18T02:03:08.347Z & f499ff83-e513-4d24-a10f-151348269fff & false & KT00001 & Flu Year 1 Day 0 & N/A - Flu-Series Timepoint Only & ⋯ & BR1 & NA & NA & 2019-10-15 & NA         & NA         & no & <25-BMI   & B001-P1\\_PB00001-01\\_labeled.h5                                & /home/jupyter/BRI\\_Analysis/scRNA/cache/fec489f9-9a74-4635-aa91-d2bf09d1faec/B001-P1\\_PB00001-01\\_labeled.h5                               \\\\\n",
       "\tIL1B..CD14.monocyte.PB00002.01\\_Male\\_BR1 & IL1B..CD14.monocyte.PB00002.01\\_Male\\_BR1   & PB00002-01 & 2 & 2 & 2023-11-18T02:03:08.347Z & 750e90a9-a296-4f0f-969f-60225c2bca17 & false & KT00002 & Flu Year 1 Day 0 & N/A - Flu-Series Timepoint Only & ⋯ & BR1 & NA & NA & 2019-10-15 & 2020-12-28 & 2021-01-18 & no & <25-BMI   & B001-P1\\_PB00002-01\\_labeled.h5                                & /home/jupyter/BRI\\_Analysis/scRNA/cache/7c0c7979-eebd-4aba-b5b2-6e76b4643623/B001-P1\\_PB00002-01\\_labeled.h5                               \\\\\n",
       "\tIL1B..CD14.monocyte.PB00003.01\\_Female\\_BR1 & IL1B..CD14.monocyte.PB00003.01\\_Female\\_BR1 & PB00003-01 & 3 & 3 & 2023-11-18T02:03:08.347Z & 2db6fb3f-e3f4-454b-891b-9b068541b51d & false & KT00003 & Flu Year 1 Day 0 & N/A - Flu-Series Timepoint Only & ⋯ & BR1 & NA & NA & 2019-10-15 & 2020-12-28 & 2021-01-16 & no & <25-BMI   & B001-P1\\_PB00003-01\\_labeled.h5                                & /home/jupyter/BRI\\_Analysis/scRNA/cache/40efd03a-cb2f-4677-af42-a056cbfe5a17/B001-P1\\_PB00003-01\\_labeled.h5                               \\\\\n",
       "\tIL1B..CD14.monocyte.PB00004.01\\_Male\\_BR1 & IL1B..CD14.monocyte.PB00004.01\\_Male\\_BR1   & PB00004-01 & 4 & 4 & 2023-11-19T10:34:34.12Z  & f04693c5-563c-4b5b-ae58-877d0d9ae2fe & false & KT00004 & Flu Year 1 Day 0 & N/A - Flu-Series Timepoint Only & ⋯ & BR1 & NA & NA & 2019-10-21 & 2021-04-16 & 2021-05-06 & no & <25-BMI   & B002-P1\\_PB00004-01\\_2023-11-17T21:36:51.794326181Z\\_labeled.h5 & /home/jupyter/BRI\\_Analysis/scRNA/cache/68fbcd34-1d63-461d-8195-df5b8dc61b31/B002-P1\\_PB00004-01\\_2023-11-17T21:36:51.794326181Z\\_labeled.h5\\\\\n",
       "\tIL1B..CD14.monocyte.PB00006.01\\_Female\\_BR1 & IL1B..CD14.monocyte.PB00006.01\\_Female\\_BR1 & PB00006-01 & 5 & 5 & 2023-11-19T05:07:36.805Z & eb5b3a3d-002e-40a6-aa19-aa0e6a7fff8f & false & KT00006 & Flu Year 1 Day 0 & N/A - Flu-Series Timepoint Only & ⋯ & BR1 & NA & NA & 2019-10-23 & 2021-01-16 & 2021-02-26 & no & <25-BMI   & B002-P1\\_PB00006-01\\_2023-11-17T21:36:51.794326181Z\\_labeled.h5 & /home/jupyter/BRI\\_Analysis/scRNA/cache/ea8d98e9-e99e-4dc6-9e78-9866e0deac68/B002-P1\\_PB00006-01\\_2023-11-17T21:36:51.794326181Z\\_labeled.h5\\\\\n",
       "\tIL1B..CD14.monocyte.PB00010.02\\_Male\\_BR1 & IL1B..CD14.monocyte.PB00010.02\\_Male\\_BR1   & PB00010-02 & 6 & 6 & 2023-11-18T02:03:08.347Z & f32ac061-0ede-4040-8d8c-35229ea5229c & false & KT00010 & Flu Year 1 Day 0 & N/A - Flu-Series Timepoint Only & ⋯ & BR1 & NA & NA & 2019-10-28 & 2021-03-21 & 2021-04-18 & no & >25-30BMI & B078-P2\\_PB00010-02\\_2021-08-19T17:09:29.934849811Z\\_labeled.h5 & /home/jupyter/BRI\\_Analysis/scRNA/cache/237e41df-5616-4852-8a8f-b32835c9efcb/B078-P2\\_PB00010-02\\_2021-08-19T17:09:29.934849811Z\\_labeled.h5\\\\\n",
       "\\end{tabular}\n"
      ],
      "text/markdown": [
       "\n",
       "A data.frame: 6 × 37\n",
       "\n",
       "| <!--/--> | ID &lt;chr&gt; | pbmc_sample_id &lt;chr&gt; | X.1 &lt;int&gt; | X &lt;int&gt; | lastUpdated &lt;chr&gt; | sample.id &lt;chr&gt; | sample.bridgingControl &lt;chr&gt; | sample.sampleKitGuid &lt;chr&gt; | sample.visitName &lt;chr&gt; | sample.visitDetails &lt;chr&gt; | ⋯ ⋯ | cohort.cohortGuid &lt;chr&gt; | sample.diseaseStatesRecordedAtVisit &lt;lgl&gt; | Sample_ID &lt;lgl&gt; | Sample_Draw_date &lt;chr&gt; | Covid_Dose_1 &lt;chr&gt; | Covid_Dose_2 &lt;chr&gt; | Covid_exlcusion &lt;chr&gt; | BMI &lt;chr&gt; | file.name.downloaded &lt;chr&gt; | file.path &lt;chr&gt; |\n",
       "|---|---|---|---|---|---|---|---|---|---|---|---|---|---|---|---|---|---|---|---|---|---|\n",
       "| IL1B..CD14.monocyte.PB00001.01_Female_BR1 | IL1B..CD14.monocyte.PB00001.01_Female_BR1 | PB00001-01 | 1 | 1 | 2023-11-18T02:03:08.347Z | f499ff83-e513-4d24-a10f-151348269fff | false | KT00001 | Flu Year 1 Day 0 | N/A - Flu-Series Timepoint Only | ⋯ | BR1 | NA | NA | 2019-10-15 | NA         | NA         | no | &lt;25-BMI   | B001-P1_PB00001-01_labeled.h5                                | /home/jupyter/BRI_Analysis/scRNA/cache/fec489f9-9a74-4635-aa91-d2bf09d1faec/B001-P1_PB00001-01_labeled.h5                                |\n",
       "| IL1B..CD14.monocyte.PB00002.01_Male_BR1 | IL1B..CD14.monocyte.PB00002.01_Male_BR1   | PB00002-01 | 2 | 2 | 2023-11-18T02:03:08.347Z | 750e90a9-a296-4f0f-969f-60225c2bca17 | false | KT00002 | Flu Year 1 Day 0 | N/A - Flu-Series Timepoint Only | ⋯ | BR1 | NA | NA | 2019-10-15 | 2020-12-28 | 2021-01-18 | no | &lt;25-BMI   | B001-P1_PB00002-01_labeled.h5                                | /home/jupyter/BRI_Analysis/scRNA/cache/7c0c7979-eebd-4aba-b5b2-6e76b4643623/B001-P1_PB00002-01_labeled.h5                                |\n",
       "| IL1B..CD14.monocyte.PB00003.01_Female_BR1 | IL1B..CD14.monocyte.PB00003.01_Female_BR1 | PB00003-01 | 3 | 3 | 2023-11-18T02:03:08.347Z | 2db6fb3f-e3f4-454b-891b-9b068541b51d | false | KT00003 | Flu Year 1 Day 0 | N/A - Flu-Series Timepoint Only | ⋯ | BR1 | NA | NA | 2019-10-15 | 2020-12-28 | 2021-01-16 | no | &lt;25-BMI   | B001-P1_PB00003-01_labeled.h5                                | /home/jupyter/BRI_Analysis/scRNA/cache/40efd03a-cb2f-4677-af42-a056cbfe5a17/B001-P1_PB00003-01_labeled.h5                                |\n",
       "| IL1B..CD14.monocyte.PB00004.01_Male_BR1 | IL1B..CD14.monocyte.PB00004.01_Male_BR1   | PB00004-01 | 4 | 4 | 2023-11-19T10:34:34.12Z  | f04693c5-563c-4b5b-ae58-877d0d9ae2fe | false | KT00004 | Flu Year 1 Day 0 | N/A - Flu-Series Timepoint Only | ⋯ | BR1 | NA | NA | 2019-10-21 | 2021-04-16 | 2021-05-06 | no | &lt;25-BMI   | B002-P1_PB00004-01_2023-11-17T21:36:51.794326181Z_labeled.h5 | /home/jupyter/BRI_Analysis/scRNA/cache/68fbcd34-1d63-461d-8195-df5b8dc61b31/B002-P1_PB00004-01_2023-11-17T21:36:51.794326181Z_labeled.h5 |\n",
       "| IL1B..CD14.monocyte.PB00006.01_Female_BR1 | IL1B..CD14.monocyte.PB00006.01_Female_BR1 | PB00006-01 | 5 | 5 | 2023-11-19T05:07:36.805Z | eb5b3a3d-002e-40a6-aa19-aa0e6a7fff8f | false | KT00006 | Flu Year 1 Day 0 | N/A - Flu-Series Timepoint Only | ⋯ | BR1 | NA | NA | 2019-10-23 | 2021-01-16 | 2021-02-26 | no | &lt;25-BMI   | B002-P1_PB00006-01_2023-11-17T21:36:51.794326181Z_labeled.h5 | /home/jupyter/BRI_Analysis/scRNA/cache/ea8d98e9-e99e-4dc6-9e78-9866e0deac68/B002-P1_PB00006-01_2023-11-17T21:36:51.794326181Z_labeled.h5 |\n",
       "| IL1B..CD14.monocyte.PB00010.02_Male_BR1 | IL1B..CD14.monocyte.PB00010.02_Male_BR1   | PB00010-02 | 6 | 6 | 2023-11-18T02:03:08.347Z | f32ac061-0ede-4040-8d8c-35229ea5229c | false | KT00010 | Flu Year 1 Day 0 | N/A - Flu-Series Timepoint Only | ⋯ | BR1 | NA | NA | 2019-10-28 | 2021-03-21 | 2021-04-18 | no | &gt;25-30BMI | B078-P2_PB00010-02_2021-08-19T17:09:29.934849811Z_labeled.h5 | /home/jupyter/BRI_Analysis/scRNA/cache/237e41df-5616-4852-8a8f-b32835c9efcb/B078-P2_PB00010-02_2021-08-19T17:09:29.934849811Z_labeled.h5 |\n",
       "\n"
      ],
      "text/plain": [
       "                                          ID                                       \n",
       "IL1B..CD14.monocyte.PB00001.01_Female_BR1 IL1B..CD14.monocyte.PB00001.01_Female_BR1\n",
       "IL1B..CD14.monocyte.PB00002.01_Male_BR1   IL1B..CD14.monocyte.PB00002.01_Male_BR1  \n",
       "IL1B..CD14.monocyte.PB00003.01_Female_BR1 IL1B..CD14.monocyte.PB00003.01_Female_BR1\n",
       "IL1B..CD14.monocyte.PB00004.01_Male_BR1   IL1B..CD14.monocyte.PB00004.01_Male_BR1  \n",
       "IL1B..CD14.monocyte.PB00006.01_Female_BR1 IL1B..CD14.monocyte.PB00006.01_Female_BR1\n",
       "IL1B..CD14.monocyte.PB00010.02_Male_BR1   IL1B..CD14.monocyte.PB00010.02_Male_BR1  \n",
       "                                          pbmc_sample_id X.1 X\n",
       "IL1B..CD14.monocyte.PB00001.01_Female_BR1 PB00001-01     1   1\n",
       "IL1B..CD14.monocyte.PB00002.01_Male_BR1   PB00002-01     2   2\n",
       "IL1B..CD14.monocyte.PB00003.01_Female_BR1 PB00003-01     3   3\n",
       "IL1B..CD14.monocyte.PB00004.01_Male_BR1   PB00004-01     4   4\n",
       "IL1B..CD14.monocyte.PB00006.01_Female_BR1 PB00006-01     5   5\n",
       "IL1B..CD14.monocyte.PB00010.02_Male_BR1   PB00010-02     6   6\n",
       "                                          lastUpdated             \n",
       "IL1B..CD14.monocyte.PB00001.01_Female_BR1 2023-11-18T02:03:08.347Z\n",
       "IL1B..CD14.monocyte.PB00002.01_Male_BR1   2023-11-18T02:03:08.347Z\n",
       "IL1B..CD14.monocyte.PB00003.01_Female_BR1 2023-11-18T02:03:08.347Z\n",
       "IL1B..CD14.monocyte.PB00004.01_Male_BR1   2023-11-19T10:34:34.12Z \n",
       "IL1B..CD14.monocyte.PB00006.01_Female_BR1 2023-11-19T05:07:36.805Z\n",
       "IL1B..CD14.monocyte.PB00010.02_Male_BR1   2023-11-18T02:03:08.347Z\n",
       "                                          sample.id                           \n",
       "IL1B..CD14.monocyte.PB00001.01_Female_BR1 f499ff83-e513-4d24-a10f-151348269fff\n",
       "IL1B..CD14.monocyte.PB00002.01_Male_BR1   750e90a9-a296-4f0f-969f-60225c2bca17\n",
       "IL1B..CD14.monocyte.PB00003.01_Female_BR1 2db6fb3f-e3f4-454b-891b-9b068541b51d\n",
       "IL1B..CD14.monocyte.PB00004.01_Male_BR1   f04693c5-563c-4b5b-ae58-877d0d9ae2fe\n",
       "IL1B..CD14.monocyte.PB00006.01_Female_BR1 eb5b3a3d-002e-40a6-aa19-aa0e6a7fff8f\n",
       "IL1B..CD14.monocyte.PB00010.02_Male_BR1   f32ac061-0ede-4040-8d8c-35229ea5229c\n",
       "                                          sample.bridgingControl\n",
       "IL1B..CD14.monocyte.PB00001.01_Female_BR1 false                 \n",
       "IL1B..CD14.monocyte.PB00002.01_Male_BR1   false                 \n",
       "IL1B..CD14.monocyte.PB00003.01_Female_BR1 false                 \n",
       "IL1B..CD14.monocyte.PB00004.01_Male_BR1   false                 \n",
       "IL1B..CD14.monocyte.PB00006.01_Female_BR1 false                 \n",
       "IL1B..CD14.monocyte.PB00010.02_Male_BR1   false                 \n",
       "                                          sample.sampleKitGuid sample.visitName\n",
       "IL1B..CD14.monocyte.PB00001.01_Female_BR1 KT00001              Flu Year 1 Day 0\n",
       "IL1B..CD14.monocyte.PB00002.01_Male_BR1   KT00002              Flu Year 1 Day 0\n",
       "IL1B..CD14.monocyte.PB00003.01_Female_BR1 KT00003              Flu Year 1 Day 0\n",
       "IL1B..CD14.monocyte.PB00004.01_Male_BR1   KT00004              Flu Year 1 Day 0\n",
       "IL1B..CD14.monocyte.PB00006.01_Female_BR1 KT00006              Flu Year 1 Day 0\n",
       "IL1B..CD14.monocyte.PB00010.02_Male_BR1   KT00010              Flu Year 1 Day 0\n",
       "                                          sample.visitDetails             ⋯\n",
       "IL1B..CD14.monocyte.PB00001.01_Female_BR1 N/A - Flu-Series Timepoint Only ⋯\n",
       "IL1B..CD14.monocyte.PB00002.01_Male_BR1   N/A - Flu-Series Timepoint Only ⋯\n",
       "IL1B..CD14.monocyte.PB00003.01_Female_BR1 N/A - Flu-Series Timepoint Only ⋯\n",
       "IL1B..CD14.monocyte.PB00004.01_Male_BR1   N/A - Flu-Series Timepoint Only ⋯\n",
       "IL1B..CD14.monocyte.PB00006.01_Female_BR1 N/A - Flu-Series Timepoint Only ⋯\n",
       "IL1B..CD14.monocyte.PB00010.02_Male_BR1   N/A - Flu-Series Timepoint Only ⋯\n",
       "                                          cohort.cohortGuid\n",
       "IL1B..CD14.monocyte.PB00001.01_Female_BR1 BR1              \n",
       "IL1B..CD14.monocyte.PB00002.01_Male_BR1   BR1              \n",
       "IL1B..CD14.monocyte.PB00003.01_Female_BR1 BR1              \n",
       "IL1B..CD14.monocyte.PB00004.01_Male_BR1   BR1              \n",
       "IL1B..CD14.monocyte.PB00006.01_Female_BR1 BR1              \n",
       "IL1B..CD14.monocyte.PB00010.02_Male_BR1   BR1              \n",
       "                                          sample.diseaseStatesRecordedAtVisit\n",
       "IL1B..CD14.monocyte.PB00001.01_Female_BR1 NA                                 \n",
       "IL1B..CD14.monocyte.PB00002.01_Male_BR1   NA                                 \n",
       "IL1B..CD14.monocyte.PB00003.01_Female_BR1 NA                                 \n",
       "IL1B..CD14.monocyte.PB00004.01_Male_BR1   NA                                 \n",
       "IL1B..CD14.monocyte.PB00006.01_Female_BR1 NA                                 \n",
       "IL1B..CD14.monocyte.PB00010.02_Male_BR1   NA                                 \n",
       "                                          Sample_ID Sample_Draw_date\n",
       "IL1B..CD14.monocyte.PB00001.01_Female_BR1 NA        2019-10-15      \n",
       "IL1B..CD14.monocyte.PB00002.01_Male_BR1   NA        2019-10-15      \n",
       "IL1B..CD14.monocyte.PB00003.01_Female_BR1 NA        2019-10-15      \n",
       "IL1B..CD14.monocyte.PB00004.01_Male_BR1   NA        2019-10-21      \n",
       "IL1B..CD14.monocyte.PB00006.01_Female_BR1 NA        2019-10-23      \n",
       "IL1B..CD14.monocyte.PB00010.02_Male_BR1   NA        2019-10-28      \n",
       "                                          Covid_Dose_1 Covid_Dose_2\n",
       "IL1B..CD14.monocyte.PB00001.01_Female_BR1 NA           NA          \n",
       "IL1B..CD14.monocyte.PB00002.01_Male_BR1   2020-12-28   2021-01-18  \n",
       "IL1B..CD14.monocyte.PB00003.01_Female_BR1 2020-12-28   2021-01-16  \n",
       "IL1B..CD14.monocyte.PB00004.01_Male_BR1   2021-04-16   2021-05-06  \n",
       "IL1B..CD14.monocyte.PB00006.01_Female_BR1 2021-01-16   2021-02-26  \n",
       "IL1B..CD14.monocyte.PB00010.02_Male_BR1   2021-03-21   2021-04-18  \n",
       "                                          Covid_exlcusion BMI      \n",
       "IL1B..CD14.monocyte.PB00001.01_Female_BR1 no              <25-BMI  \n",
       "IL1B..CD14.monocyte.PB00002.01_Male_BR1   no              <25-BMI  \n",
       "IL1B..CD14.monocyte.PB00003.01_Female_BR1 no              <25-BMI  \n",
       "IL1B..CD14.monocyte.PB00004.01_Male_BR1   no              <25-BMI  \n",
       "IL1B..CD14.monocyte.PB00006.01_Female_BR1 no              <25-BMI  \n",
       "IL1B..CD14.monocyte.PB00010.02_Male_BR1   no              >25-30BMI\n",
       "                                          file.name.downloaded                                        \n",
       "IL1B..CD14.monocyte.PB00001.01_Female_BR1 B001-P1_PB00001-01_labeled.h5                               \n",
       "IL1B..CD14.monocyte.PB00002.01_Male_BR1   B001-P1_PB00002-01_labeled.h5                               \n",
       "IL1B..CD14.monocyte.PB00003.01_Female_BR1 B001-P1_PB00003-01_labeled.h5                               \n",
       "IL1B..CD14.monocyte.PB00004.01_Male_BR1   B002-P1_PB00004-01_2023-11-17T21:36:51.794326181Z_labeled.h5\n",
       "IL1B..CD14.monocyte.PB00006.01_Female_BR1 B002-P1_PB00006-01_2023-11-17T21:36:51.794326181Z_labeled.h5\n",
       "IL1B..CD14.monocyte.PB00010.02_Male_BR1   B078-P2_PB00010-02_2021-08-19T17:09:29.934849811Z_labeled.h5\n",
       "                                          file.path                                                                                                                               \n",
       "IL1B..CD14.monocyte.PB00001.01_Female_BR1 /home/jupyter/BRI_Analysis/scRNA/cache/fec489f9-9a74-4635-aa91-d2bf09d1faec/B001-P1_PB00001-01_labeled.h5                               \n",
       "IL1B..CD14.monocyte.PB00002.01_Male_BR1   /home/jupyter/BRI_Analysis/scRNA/cache/7c0c7979-eebd-4aba-b5b2-6e76b4643623/B001-P1_PB00002-01_labeled.h5                               \n",
       "IL1B..CD14.monocyte.PB00003.01_Female_BR1 /home/jupyter/BRI_Analysis/scRNA/cache/40efd03a-cb2f-4677-af42-a056cbfe5a17/B001-P1_PB00003-01_labeled.h5                               \n",
       "IL1B..CD14.monocyte.PB00004.01_Male_BR1   /home/jupyter/BRI_Analysis/scRNA/cache/68fbcd34-1d63-461d-8195-df5b8dc61b31/B002-P1_PB00004-01_2023-11-17T21:36:51.794326181Z_labeled.h5\n",
       "IL1B..CD14.monocyte.PB00006.01_Female_BR1 /home/jupyter/BRI_Analysis/scRNA/cache/ea8d98e9-e99e-4dc6-9e78-9866e0deac68/B002-P1_PB00006-01_2023-11-17T21:36:51.794326181Z_labeled.h5\n",
       "IL1B..CD14.monocyte.PB00010.02_Male_BR1   /home/jupyter/BRI_Analysis/scRNA/cache/237e41df-5616-4852-8a8f-b32835c9efcb/B078-P2_PB00010-02_2021-08-19T17:09:29.934849811Z_labeled.h5"
      ]
     },
     "metadata": {},
     "output_type": "display_data"
    },
    {
     "data": {
      "text/html": [
       "<style>\n",
       ".list-inline {list-style: none; margin:0; padding: 0}\n",
       ".list-inline>li {display: inline-block}\n",
       ".list-inline>li:not(:last-child)::after {content: \"\\00b7\"; padding: 0 .5ex}\n",
       "</style>\n",
       "<ol class=list-inline><li>'ID'</li><li>'pbmc_sample_id'</li><li>'X.1'</li><li>'X'</li><li>'lastUpdated'</li><li>'sample.id'</li><li>'sample.bridgingControl'</li><li>'sample.sampleKitGuid'</li><li>'sample.visitName'</li><li>'sample.visitDetails'</li><li>'sample.drawDate'</li><li>'sample.daysSinceFirstVisit'</li><li>'file.id'</li><li>'file.name'</li><li>'file.batchID'</li><li>'file.panel'</li><li>'file.pool'</li><li>'file.fileType'</li><li>'file.majorVersion'</li><li>'subject.id'</li><li>'subject.biologicalSex'</li><li>'subject.birthYear'</li><li>'CMV.IgG.Serology.Result.Interpretation'</li><li>'subject.ethnicity'</li><li>'subject.partnerCode'</li><li>'subject.race'</li><li>'subject.subjectGuid'</li><li>'cohort.cohortGuid'</li><li>'sample.diseaseStatesRecordedAtVisit'</li><li>'Sample_ID'</li><li>'Sample_Draw_date'</li><li>'Covid_Dose_1'</li><li>'Covid_Dose_2'</li><li>'Covid_exlcusion'</li><li>'BMI'</li><li>'file.name.downloaded'</li><li>'file.path'</li></ol>\n"
      ],
      "text/latex": [
       "\\begin{enumerate*}\n",
       "\\item 'ID'\n",
       "\\item 'pbmc\\_sample\\_id'\n",
       "\\item 'X.1'\n",
       "\\item 'X'\n",
       "\\item 'lastUpdated'\n",
       "\\item 'sample.id'\n",
       "\\item 'sample.bridgingControl'\n",
       "\\item 'sample.sampleKitGuid'\n",
       "\\item 'sample.visitName'\n",
       "\\item 'sample.visitDetails'\n",
       "\\item 'sample.drawDate'\n",
       "\\item 'sample.daysSinceFirstVisit'\n",
       "\\item 'file.id'\n",
       "\\item 'file.name'\n",
       "\\item 'file.batchID'\n",
       "\\item 'file.panel'\n",
       "\\item 'file.pool'\n",
       "\\item 'file.fileType'\n",
       "\\item 'file.majorVersion'\n",
       "\\item 'subject.id'\n",
       "\\item 'subject.biologicalSex'\n",
       "\\item 'subject.birthYear'\n",
       "\\item 'CMV.IgG.Serology.Result.Interpretation'\n",
       "\\item 'subject.ethnicity'\n",
       "\\item 'subject.partnerCode'\n",
       "\\item 'subject.race'\n",
       "\\item 'subject.subjectGuid'\n",
       "\\item 'cohort.cohortGuid'\n",
       "\\item 'sample.diseaseStatesRecordedAtVisit'\n",
       "\\item 'Sample\\_ID'\n",
       "\\item 'Sample\\_Draw\\_date'\n",
       "\\item 'Covid\\_Dose\\_1'\n",
       "\\item 'Covid\\_Dose\\_2'\n",
       "\\item 'Covid\\_exlcusion'\n",
       "\\item 'BMI'\n",
       "\\item 'file.name.downloaded'\n",
       "\\item 'file.path'\n",
       "\\end{enumerate*}\n"
      ],
      "text/markdown": [
       "1. 'ID'\n",
       "2. 'pbmc_sample_id'\n",
       "3. 'X.1'\n",
       "4. 'X'\n",
       "5. 'lastUpdated'\n",
       "6. 'sample.id'\n",
       "7. 'sample.bridgingControl'\n",
       "8. 'sample.sampleKitGuid'\n",
       "9. 'sample.visitName'\n",
       "10. 'sample.visitDetails'\n",
       "11. 'sample.drawDate'\n",
       "12. 'sample.daysSinceFirstVisit'\n",
       "13. 'file.id'\n",
       "14. 'file.name'\n",
       "15. 'file.batchID'\n",
       "16. 'file.panel'\n",
       "17. 'file.pool'\n",
       "18. 'file.fileType'\n",
       "19. 'file.majorVersion'\n",
       "20. 'subject.id'\n",
       "21. 'subject.biologicalSex'\n",
       "22. 'subject.birthYear'\n",
       "23. 'CMV.IgG.Serology.Result.Interpretation'\n",
       "24. 'subject.ethnicity'\n",
       "25. 'subject.partnerCode'\n",
       "26. 'subject.race'\n",
       "27. 'subject.subjectGuid'\n",
       "28. 'cohort.cohortGuid'\n",
       "29. 'sample.diseaseStatesRecordedAtVisit'\n",
       "30. 'Sample_ID'\n",
       "31. 'Sample_Draw_date'\n",
       "32. 'Covid_Dose_1'\n",
       "33. 'Covid_Dose_2'\n",
       "34. 'Covid_exlcusion'\n",
       "35. 'BMI'\n",
       "36. 'file.name.downloaded'\n",
       "37. 'file.path'\n",
       "\n",
       "\n"
      ],
      "text/plain": [
       " [1] \"ID\"                                    \n",
       " [2] \"pbmc_sample_id\"                        \n",
       " [3] \"X.1\"                                   \n",
       " [4] \"X\"                                     \n",
       " [5] \"lastUpdated\"                           \n",
       " [6] \"sample.id\"                             \n",
       " [7] \"sample.bridgingControl\"                \n",
       " [8] \"sample.sampleKitGuid\"                  \n",
       " [9] \"sample.visitName\"                      \n",
       "[10] \"sample.visitDetails\"                   \n",
       "[11] \"sample.drawDate\"                       \n",
       "[12] \"sample.daysSinceFirstVisit\"            \n",
       "[13] \"file.id\"                               \n",
       "[14] \"file.name\"                             \n",
       "[15] \"file.batchID\"                          \n",
       "[16] \"file.panel\"                            \n",
       "[17] \"file.pool\"                             \n",
       "[18] \"file.fileType\"                         \n",
       "[19] \"file.majorVersion\"                     \n",
       "[20] \"subject.id\"                            \n",
       "[21] \"subject.biologicalSex\"                 \n",
       "[22] \"subject.birthYear\"                     \n",
       "[23] \"CMV.IgG.Serology.Result.Interpretation\"\n",
       "[24] \"subject.ethnicity\"                     \n",
       "[25] \"subject.partnerCode\"                   \n",
       "[26] \"subject.race\"                          \n",
       "[27] \"subject.subjectGuid\"                   \n",
       "[28] \"cohort.cohortGuid\"                     \n",
       "[29] \"sample.diseaseStatesRecordedAtVisit\"   \n",
       "[30] \"Sample_ID\"                             \n",
       "[31] \"Sample_Draw_date\"                      \n",
       "[32] \"Covid_Dose_1\"                          \n",
       "[33] \"Covid_Dose_2\"                          \n",
       "[34] \"Covid_exlcusion\"                       \n",
       "[35] \"BMI\"                                   \n",
       "[36] \"file.name.downloaded\"                  \n",
       "[37] \"file.path\"                             "
      ]
     },
     "metadata": {},
     "output_type": "display_data"
    },
    {
     "data": {
      "text/html": [
       "92"
      ],
      "text/latex": [
       "92"
      ],
      "text/markdown": [
       "92"
      ],
      "text/plain": [
       "[1] 92"
      ]
     },
     "metadata": {},
     "output_type": "display_data"
    }
   ],
   "source": [
    "rownames(merged_df)<-merged_df$ID\n",
    "head(merged_df)\n",
    "\n",
    "colnames(merged_df)\n",
    "length(merged_df$pbmc_sample_id)"
   ]
  },
  {
   "cell_type": "code",
   "execution_count": 109,
   "id": "494ebd2a-a672-43d4-ba50-fea1e67520aa",
   "metadata": {
    "tags": []
   },
   "outputs": [],
   "source": [
    "merged_df_v2 <- merged_df[merged_df$subject.biologicalSex == \"Female\" & merged_df$cohort.cohortGuid == \"BR2\", ]"
   ]
  },
  {
   "cell_type": "code",
   "execution_count": 110,
   "id": "771e349b-0c7b-40f5-b8f0-3bc90b2962ad",
   "metadata": {
    "tags": []
   },
   "outputs": [
    {
     "data": {
      "text/html": [
       "'Female'"
      ],
      "text/latex": [
       "'Female'"
      ],
      "text/markdown": [
       "'Female'"
      ],
      "text/plain": [
       "[1] \"Female\""
      ]
     },
     "metadata": {},
     "output_type": "display_data"
    },
    {
     "data": {
      "text/html": [
       "'BR2'"
      ],
      "text/latex": [
       "'BR2'"
      ],
      "text/markdown": [
       "'BR2'"
      ],
      "text/plain": [
       "[1] \"BR2\""
      ]
     },
     "metadata": {},
     "output_type": "display_data"
    }
   ],
   "source": [
    "unique(merged_df_v2$subject.biologicalSex)\n",
    "unique(merged_df_v2$cohort.cohortGuid)"
   ]
  },
  {
   "cell_type": "code",
   "execution_count": 111,
   "id": "dca9fada-f8f7-4f3b-b1a0-75bb91c223fd",
   "metadata": {
    "tags": []
   },
   "outputs": [
    {
     "data": {
      "text/html": [
       "<table class=\"dataframe\">\n",
       "<caption>A data.frame: 6 × 93</caption>\n",
       "<thead>\n",
       "\t<tr><th></th><th scope=col>IL1B..CD14.monocyte.PB00001.01_Female_BR1</th><th scope=col>IL1B..CD14.monocyte.PB00002.01_Male_BR1</th><th scope=col>IL1B..CD14.monocyte.PB00003.01_Female_BR1</th><th scope=col>IL1B..CD14.monocyte.PB00004.01_Male_BR1</th><th scope=col>IL1B..CD14.monocyte.PB00006.01_Female_BR1</th><th scope=col>IL1B..CD14.monocyte.PB00010.02_Male_BR1</th><th scope=col>IL1B..CD14.monocyte.PB00012.01_Female_BR1</th><th scope=col>IL1B..CD14.monocyte.PB00014.01_Male_BR1</th><th scope=col>IL1B..CD14.monocyte.PB00015.01_Male_BR2</th><th scope=col>IL1B..CD14.monocyte.PB00016.01_Female_BR2</th><th scope=col>⋯</th><th scope=col>IL1B..CD14.monocyte.PB00599.01_Female_BR2</th><th scope=col>IL1B..CD14.monocyte.PB00600.01_Male_BR2</th><th scope=col>IL1B..CD14.monocyte.PB00602.01_Female_BR2</th><th scope=col>IL1B..CD14.monocyte.PB00621.01_Female_BR1</th><th scope=col>IL1B..CD14.monocyte.PB00623.01_Male_BR2</th><th scope=col>IL1B..CD14.monocyte.PB00625.02_Male_BR2</th><th scope=col>IL1B..CD14.monocyte.PB00645.01_Female_BR1</th><th scope=col>IL1B..CD14.monocyte.PB01425.01_Female_BR1</th><th scope=col>IL1B..CD14.monocyte.PB01446.01_Male_BR1</th><th scope=col>Gene</th></tr>\n",
       "\t<tr><th></th><th scope=col>&lt;dbl&gt;</th><th scope=col>&lt;dbl&gt;</th><th scope=col>&lt;dbl&gt;</th><th scope=col>&lt;dbl&gt;</th><th scope=col>&lt;dbl&gt;</th><th scope=col>&lt;dbl&gt;</th><th scope=col>&lt;dbl&gt;</th><th scope=col>&lt;dbl&gt;</th><th scope=col>&lt;dbl&gt;</th><th scope=col>&lt;dbl&gt;</th><th scope=col>⋯</th><th scope=col>&lt;dbl&gt;</th><th scope=col>&lt;dbl&gt;</th><th scope=col>&lt;dbl&gt;</th><th scope=col>&lt;dbl&gt;</th><th scope=col>&lt;dbl&gt;</th><th scope=col>&lt;dbl&gt;</th><th scope=col>&lt;dbl&gt;</th><th scope=col>&lt;dbl&gt;</th><th scope=col>&lt;dbl&gt;</th><th scope=col>&lt;chr&gt;</th></tr>\n",
       "</thead>\n",
       "<tbody>\n",
       "\t<tr><th scope=row>MIR1302-2HG</th><td>0</td><td>0</td><td>0</td><td>0</td><td>0</td><td>0</td><td>0</td><td>0</td><td>0</td><td>0</td><td>⋯</td><td>0</td><td>0.00000000</td><td>0</td><td>0</td><td>0.00000000</td><td>0</td><td>0</td><td>0</td><td>0</td><td>MIR1302-2HG</td></tr>\n",
       "\t<tr><th scope=row>FAM138A</th><td>0</td><td>0</td><td>0</td><td>0</td><td>0</td><td>0</td><td>0</td><td>0</td><td>0</td><td>0</td><td>⋯</td><td>0</td><td>0.00000000</td><td>0</td><td>0</td><td>0.00000000</td><td>0</td><td>0</td><td>0</td><td>0</td><td>FAM138A    </td></tr>\n",
       "\t<tr><th scope=row>OR4F5</th><td>0</td><td>0</td><td>0</td><td>0</td><td>0</td><td>0</td><td>0</td><td>0</td><td>0</td><td>0</td><td>⋯</td><td>0</td><td>0.00000000</td><td>0</td><td>0</td><td>0.00000000</td><td>0</td><td>0</td><td>0</td><td>0</td><td>OR4F5      </td></tr>\n",
       "\t<tr><th scope=row>AL627309.1</th><td>0</td><td>0</td><td>0</td><td>0</td><td>0</td><td>0</td><td>0</td><td>0</td><td>0</td><td>0</td><td>⋯</td><td>0</td><td>0.04584632</td><td>0</td><td>0</td><td>0.01078631</td><td>0</td><td>0</td><td>0</td><td>0</td><td>AL627309.1 </td></tr>\n",
       "\t<tr><th scope=row>AL627309.3</th><td>0</td><td>0</td><td>0</td><td>0</td><td>0</td><td>0</td><td>0</td><td>0</td><td>0</td><td>0</td><td>⋯</td><td>0</td><td>0.00000000</td><td>0</td><td>0</td><td>0.00000000</td><td>0</td><td>0</td><td>0</td><td>0</td><td>AL627309.3 </td></tr>\n",
       "\t<tr><th scope=row>AL627309.2</th><td>0</td><td>0</td><td>0</td><td>0</td><td>0</td><td>0</td><td>0</td><td>0</td><td>0</td><td>0</td><td>⋯</td><td>0</td><td>0.00000000</td><td>0</td><td>0</td><td>0.00000000</td><td>0</td><td>0</td><td>0</td><td>0</td><td>AL627309.2 </td></tr>\n",
       "</tbody>\n",
       "</table>\n"
      ],
      "text/latex": [
       "A data.frame: 6 × 93\n",
       "\\begin{tabular}{r|lllllllllllllllllllll}\n",
       "  & IL1B..CD14.monocyte.PB00001.01\\_Female\\_BR1 & IL1B..CD14.monocyte.PB00002.01\\_Male\\_BR1 & IL1B..CD14.monocyte.PB00003.01\\_Female\\_BR1 & IL1B..CD14.monocyte.PB00004.01\\_Male\\_BR1 & IL1B..CD14.monocyte.PB00006.01\\_Female\\_BR1 & IL1B..CD14.monocyte.PB00010.02\\_Male\\_BR1 & IL1B..CD14.monocyte.PB00012.01\\_Female\\_BR1 & IL1B..CD14.monocyte.PB00014.01\\_Male\\_BR1 & IL1B..CD14.monocyte.PB00015.01\\_Male\\_BR2 & IL1B..CD14.monocyte.PB00016.01\\_Female\\_BR2 & ⋯ & IL1B..CD14.monocyte.PB00599.01\\_Female\\_BR2 & IL1B..CD14.monocyte.PB00600.01\\_Male\\_BR2 & IL1B..CD14.monocyte.PB00602.01\\_Female\\_BR2 & IL1B..CD14.monocyte.PB00621.01\\_Female\\_BR1 & IL1B..CD14.monocyte.PB00623.01\\_Male\\_BR2 & IL1B..CD14.monocyte.PB00625.02\\_Male\\_BR2 & IL1B..CD14.monocyte.PB00645.01\\_Female\\_BR1 & IL1B..CD14.monocyte.PB01425.01\\_Female\\_BR1 & IL1B..CD14.monocyte.PB01446.01\\_Male\\_BR1 & Gene\\\\\n",
       "  & <dbl> & <dbl> & <dbl> & <dbl> & <dbl> & <dbl> & <dbl> & <dbl> & <dbl> & <dbl> & ⋯ & <dbl> & <dbl> & <dbl> & <dbl> & <dbl> & <dbl> & <dbl> & <dbl> & <dbl> & <chr>\\\\\n",
       "\\hline\n",
       "\tMIR1302-2HG & 0 & 0 & 0 & 0 & 0 & 0 & 0 & 0 & 0 & 0 & ⋯ & 0 & 0.00000000 & 0 & 0 & 0.00000000 & 0 & 0 & 0 & 0 & MIR1302-2HG\\\\\n",
       "\tFAM138A & 0 & 0 & 0 & 0 & 0 & 0 & 0 & 0 & 0 & 0 & ⋯ & 0 & 0.00000000 & 0 & 0 & 0.00000000 & 0 & 0 & 0 & 0 & FAM138A    \\\\\n",
       "\tOR4F5 & 0 & 0 & 0 & 0 & 0 & 0 & 0 & 0 & 0 & 0 & ⋯ & 0 & 0.00000000 & 0 & 0 & 0.00000000 & 0 & 0 & 0 & 0 & OR4F5      \\\\\n",
       "\tAL627309.1 & 0 & 0 & 0 & 0 & 0 & 0 & 0 & 0 & 0 & 0 & ⋯ & 0 & 0.04584632 & 0 & 0 & 0.01078631 & 0 & 0 & 0 & 0 & AL627309.1 \\\\\n",
       "\tAL627309.3 & 0 & 0 & 0 & 0 & 0 & 0 & 0 & 0 & 0 & 0 & ⋯ & 0 & 0.00000000 & 0 & 0 & 0.00000000 & 0 & 0 & 0 & 0 & AL627309.3 \\\\\n",
       "\tAL627309.2 & 0 & 0 & 0 & 0 & 0 & 0 & 0 & 0 & 0 & 0 & ⋯ & 0 & 0.00000000 & 0 & 0 & 0.00000000 & 0 & 0 & 0 & 0 & AL627309.2 \\\\\n",
       "\\end{tabular}\n"
      ],
      "text/markdown": [
       "\n",
       "A data.frame: 6 × 93\n",
       "\n",
       "| <!--/--> | IL1B..CD14.monocyte.PB00001.01_Female_BR1 &lt;dbl&gt; | IL1B..CD14.monocyte.PB00002.01_Male_BR1 &lt;dbl&gt; | IL1B..CD14.monocyte.PB00003.01_Female_BR1 &lt;dbl&gt; | IL1B..CD14.monocyte.PB00004.01_Male_BR1 &lt;dbl&gt; | IL1B..CD14.monocyte.PB00006.01_Female_BR1 &lt;dbl&gt; | IL1B..CD14.monocyte.PB00010.02_Male_BR1 &lt;dbl&gt; | IL1B..CD14.monocyte.PB00012.01_Female_BR1 &lt;dbl&gt; | IL1B..CD14.monocyte.PB00014.01_Male_BR1 &lt;dbl&gt; | IL1B..CD14.monocyte.PB00015.01_Male_BR2 &lt;dbl&gt; | IL1B..CD14.monocyte.PB00016.01_Female_BR2 &lt;dbl&gt; | ⋯ ⋯ | IL1B..CD14.monocyte.PB00599.01_Female_BR2 &lt;dbl&gt; | IL1B..CD14.monocyte.PB00600.01_Male_BR2 &lt;dbl&gt; | IL1B..CD14.monocyte.PB00602.01_Female_BR2 &lt;dbl&gt; | IL1B..CD14.monocyte.PB00621.01_Female_BR1 &lt;dbl&gt; | IL1B..CD14.monocyte.PB00623.01_Male_BR2 &lt;dbl&gt; | IL1B..CD14.monocyte.PB00625.02_Male_BR2 &lt;dbl&gt; | IL1B..CD14.monocyte.PB00645.01_Female_BR1 &lt;dbl&gt; | IL1B..CD14.monocyte.PB01425.01_Female_BR1 &lt;dbl&gt; | IL1B..CD14.monocyte.PB01446.01_Male_BR1 &lt;dbl&gt; | Gene &lt;chr&gt; |\n",
       "|---|---|---|---|---|---|---|---|---|---|---|---|---|---|---|---|---|---|---|---|---|---|\n",
       "| MIR1302-2HG | 0 | 0 | 0 | 0 | 0 | 0 | 0 | 0 | 0 | 0 | ⋯ | 0 | 0.00000000 | 0 | 0 | 0.00000000 | 0 | 0 | 0 | 0 | MIR1302-2HG |\n",
       "| FAM138A | 0 | 0 | 0 | 0 | 0 | 0 | 0 | 0 | 0 | 0 | ⋯ | 0 | 0.00000000 | 0 | 0 | 0.00000000 | 0 | 0 | 0 | 0 | FAM138A     |\n",
       "| OR4F5 | 0 | 0 | 0 | 0 | 0 | 0 | 0 | 0 | 0 | 0 | ⋯ | 0 | 0.00000000 | 0 | 0 | 0.00000000 | 0 | 0 | 0 | 0 | OR4F5       |\n",
       "| AL627309.1 | 0 | 0 | 0 | 0 | 0 | 0 | 0 | 0 | 0 | 0 | ⋯ | 0 | 0.04584632 | 0 | 0 | 0.01078631 | 0 | 0 | 0 | 0 | AL627309.1  |\n",
       "| AL627309.3 | 0 | 0 | 0 | 0 | 0 | 0 | 0 | 0 | 0 | 0 | ⋯ | 0 | 0.00000000 | 0 | 0 | 0.00000000 | 0 | 0 | 0 | 0 | AL627309.3  |\n",
       "| AL627309.2 | 0 | 0 | 0 | 0 | 0 | 0 | 0 | 0 | 0 | 0 | ⋯ | 0 | 0.00000000 | 0 | 0 | 0.00000000 | 0 | 0 | 0 | 0 | AL627309.2  |\n",
       "\n"
      ],
      "text/plain": [
       "            IL1B..CD14.monocyte.PB00001.01_Female_BR1\n",
       "MIR1302-2HG 0                                        \n",
       "FAM138A     0                                        \n",
       "OR4F5       0                                        \n",
       "AL627309.1  0                                        \n",
       "AL627309.3  0                                        \n",
       "AL627309.2  0                                        \n",
       "            IL1B..CD14.monocyte.PB00002.01_Male_BR1\n",
       "MIR1302-2HG 0                                      \n",
       "FAM138A     0                                      \n",
       "OR4F5       0                                      \n",
       "AL627309.1  0                                      \n",
       "AL627309.3  0                                      \n",
       "AL627309.2  0                                      \n",
       "            IL1B..CD14.monocyte.PB00003.01_Female_BR1\n",
       "MIR1302-2HG 0                                        \n",
       "FAM138A     0                                        \n",
       "OR4F5       0                                        \n",
       "AL627309.1  0                                        \n",
       "AL627309.3  0                                        \n",
       "AL627309.2  0                                        \n",
       "            IL1B..CD14.monocyte.PB00004.01_Male_BR1\n",
       "MIR1302-2HG 0                                      \n",
       "FAM138A     0                                      \n",
       "OR4F5       0                                      \n",
       "AL627309.1  0                                      \n",
       "AL627309.3  0                                      \n",
       "AL627309.2  0                                      \n",
       "            IL1B..CD14.monocyte.PB00006.01_Female_BR1\n",
       "MIR1302-2HG 0                                        \n",
       "FAM138A     0                                        \n",
       "OR4F5       0                                        \n",
       "AL627309.1  0                                        \n",
       "AL627309.3  0                                        \n",
       "AL627309.2  0                                        \n",
       "            IL1B..CD14.monocyte.PB00010.02_Male_BR1\n",
       "MIR1302-2HG 0                                      \n",
       "FAM138A     0                                      \n",
       "OR4F5       0                                      \n",
       "AL627309.1  0                                      \n",
       "AL627309.3  0                                      \n",
       "AL627309.2  0                                      \n",
       "            IL1B..CD14.monocyte.PB00012.01_Female_BR1\n",
       "MIR1302-2HG 0                                        \n",
       "FAM138A     0                                        \n",
       "OR4F5       0                                        \n",
       "AL627309.1  0                                        \n",
       "AL627309.3  0                                        \n",
       "AL627309.2  0                                        \n",
       "            IL1B..CD14.monocyte.PB00014.01_Male_BR1\n",
       "MIR1302-2HG 0                                      \n",
       "FAM138A     0                                      \n",
       "OR4F5       0                                      \n",
       "AL627309.1  0                                      \n",
       "AL627309.3  0                                      \n",
       "AL627309.2  0                                      \n",
       "            IL1B..CD14.monocyte.PB00015.01_Male_BR2\n",
       "MIR1302-2HG 0                                      \n",
       "FAM138A     0                                      \n",
       "OR4F5       0                                      \n",
       "AL627309.1  0                                      \n",
       "AL627309.3  0                                      \n",
       "AL627309.2  0                                      \n",
       "            IL1B..CD14.monocyte.PB00016.01_Female_BR2 ⋯\n",
       "MIR1302-2HG 0                                         ⋯\n",
       "FAM138A     0                                         ⋯\n",
       "OR4F5       0                                         ⋯\n",
       "AL627309.1  0                                         ⋯\n",
       "AL627309.3  0                                         ⋯\n",
       "AL627309.2  0                                         ⋯\n",
       "            IL1B..CD14.monocyte.PB00599.01_Female_BR2\n",
       "MIR1302-2HG 0                                        \n",
       "FAM138A     0                                        \n",
       "OR4F5       0                                        \n",
       "AL627309.1  0                                        \n",
       "AL627309.3  0                                        \n",
       "AL627309.2  0                                        \n",
       "            IL1B..CD14.monocyte.PB00600.01_Male_BR2\n",
       "MIR1302-2HG 0.00000000                             \n",
       "FAM138A     0.00000000                             \n",
       "OR4F5       0.00000000                             \n",
       "AL627309.1  0.04584632                             \n",
       "AL627309.3  0.00000000                             \n",
       "AL627309.2  0.00000000                             \n",
       "            IL1B..CD14.monocyte.PB00602.01_Female_BR2\n",
       "MIR1302-2HG 0                                        \n",
       "FAM138A     0                                        \n",
       "OR4F5       0                                        \n",
       "AL627309.1  0                                        \n",
       "AL627309.3  0                                        \n",
       "AL627309.2  0                                        \n",
       "            IL1B..CD14.monocyte.PB00621.01_Female_BR1\n",
       "MIR1302-2HG 0                                        \n",
       "FAM138A     0                                        \n",
       "OR4F5       0                                        \n",
       "AL627309.1  0                                        \n",
       "AL627309.3  0                                        \n",
       "AL627309.2  0                                        \n",
       "            IL1B..CD14.monocyte.PB00623.01_Male_BR2\n",
       "MIR1302-2HG 0.00000000                             \n",
       "FAM138A     0.00000000                             \n",
       "OR4F5       0.00000000                             \n",
       "AL627309.1  0.01078631                             \n",
       "AL627309.3  0.00000000                             \n",
       "AL627309.2  0.00000000                             \n",
       "            IL1B..CD14.monocyte.PB00625.02_Male_BR2\n",
       "MIR1302-2HG 0                                      \n",
       "FAM138A     0                                      \n",
       "OR4F5       0                                      \n",
       "AL627309.1  0                                      \n",
       "AL627309.3  0                                      \n",
       "AL627309.2  0                                      \n",
       "            IL1B..CD14.monocyte.PB00645.01_Female_BR1\n",
       "MIR1302-2HG 0                                        \n",
       "FAM138A     0                                        \n",
       "OR4F5       0                                        \n",
       "AL627309.1  0                                        \n",
       "AL627309.3  0                                        \n",
       "AL627309.2  0                                        \n",
       "            IL1B..CD14.monocyte.PB01425.01_Female_BR1\n",
       "MIR1302-2HG 0                                        \n",
       "FAM138A     0                                        \n",
       "OR4F5       0                                        \n",
       "AL627309.1  0                                        \n",
       "AL627309.3  0                                        \n",
       "AL627309.2  0                                        \n",
       "            IL1B..CD14.monocyte.PB01446.01_Male_BR1 Gene       \n",
       "MIR1302-2HG 0                                       MIR1302-2HG\n",
       "FAM138A     0                                       FAM138A    \n",
       "OR4F5       0                                       OR4F5      \n",
       "AL627309.1  0                                       AL627309.1 \n",
       "AL627309.3  0                                       AL627309.3 \n",
       "AL627309.2  0                                       AL627309.2 "
      ]
     },
     "metadata": {},
     "output_type": "display_data"
    },
    {
     "data": {
      "text/html": [
       "93"
      ],
      "text/latex": [
       "93"
      ],
      "text/markdown": [
       "93"
      ],
      "text/plain": [
       "[1] 93"
      ]
     },
     "metadata": {},
     "output_type": "display_data"
    }
   ],
   "source": [
    "head(mean_df)\n",
    "length(colnames(mean_df))\n",
    "#rownames(mean_df)"
   ]
  },
  {
   "cell_type": "code",
   "execution_count": 112,
   "id": "3766cbf6-e44c-45b2-8831-74a90410215c",
   "metadata": {
    "tags": []
   },
   "outputs": [
    {
     "data": {
      "text/html": [
       "<table class=\"dataframe\">\n",
       "<caption>A data.frame: 6 × 93</caption>\n",
       "<thead>\n",
       "\t<tr><th></th><th scope=col>IL1B..CD14.monocyte.PB00001.01_Female_BR1</th><th scope=col>IL1B..CD14.monocyte.PB00002.01_Male_BR1</th><th scope=col>IL1B..CD14.monocyte.PB00003.01_Female_BR1</th><th scope=col>IL1B..CD14.monocyte.PB00004.01_Male_BR1</th><th scope=col>IL1B..CD14.monocyte.PB00006.01_Female_BR1</th><th scope=col>IL1B..CD14.monocyte.PB00010.02_Male_BR1</th><th scope=col>IL1B..CD14.monocyte.PB00012.01_Female_BR1</th><th scope=col>IL1B..CD14.monocyte.PB00014.01_Male_BR1</th><th scope=col>IL1B..CD14.monocyte.PB00015.01_Male_BR2</th><th scope=col>IL1B..CD14.monocyte.PB00016.01_Female_BR2</th><th scope=col>⋯</th><th scope=col>IL1B..CD14.monocyte.PB00599.01_Female_BR2</th><th scope=col>IL1B..CD14.monocyte.PB00600.01_Male_BR2</th><th scope=col>IL1B..CD14.monocyte.PB00602.01_Female_BR2</th><th scope=col>IL1B..CD14.monocyte.PB00621.01_Female_BR1</th><th scope=col>IL1B..CD14.monocyte.PB00623.01_Male_BR2</th><th scope=col>IL1B..CD14.monocyte.PB00625.02_Male_BR2</th><th scope=col>IL1B..CD14.monocyte.PB00645.01_Female_BR1</th><th scope=col>IL1B..CD14.monocyte.PB01425.01_Female_BR1</th><th scope=col>IL1B..CD14.monocyte.PB01446.01_Male_BR1</th><th scope=col>Gene</th></tr>\n",
       "\t<tr><th></th><th scope=col>&lt;dbl&gt;</th><th scope=col>&lt;dbl&gt;</th><th scope=col>&lt;dbl&gt;</th><th scope=col>&lt;dbl&gt;</th><th scope=col>&lt;dbl&gt;</th><th scope=col>&lt;dbl&gt;</th><th scope=col>&lt;dbl&gt;</th><th scope=col>&lt;dbl&gt;</th><th scope=col>&lt;dbl&gt;</th><th scope=col>&lt;dbl&gt;</th><th scope=col>⋯</th><th scope=col>&lt;dbl&gt;</th><th scope=col>&lt;dbl&gt;</th><th scope=col>&lt;dbl&gt;</th><th scope=col>&lt;dbl&gt;</th><th scope=col>&lt;dbl&gt;</th><th scope=col>&lt;dbl&gt;</th><th scope=col>&lt;dbl&gt;</th><th scope=col>&lt;dbl&gt;</th><th scope=col>&lt;dbl&gt;</th><th scope=col>&lt;chr&gt;</th></tr>\n",
       "</thead>\n",
       "<tbody>\n",
       "\t<tr><th scope=row>MIR1302-2HG</th><td>0</td><td>0</td><td>0</td><td>0</td><td>0</td><td>0</td><td>0</td><td>0</td><td>0</td><td>0</td><td>⋯</td><td>0</td><td>0.00000000</td><td>0</td><td>0</td><td>0.00000000</td><td>0</td><td>0</td><td>0</td><td>0</td><td>MIR1302-2HG</td></tr>\n",
       "\t<tr><th scope=row>FAM138A</th><td>0</td><td>0</td><td>0</td><td>0</td><td>0</td><td>0</td><td>0</td><td>0</td><td>0</td><td>0</td><td>⋯</td><td>0</td><td>0.00000000</td><td>0</td><td>0</td><td>0.00000000</td><td>0</td><td>0</td><td>0</td><td>0</td><td>FAM138A    </td></tr>\n",
       "\t<tr><th scope=row>OR4F5</th><td>0</td><td>0</td><td>0</td><td>0</td><td>0</td><td>0</td><td>0</td><td>0</td><td>0</td><td>0</td><td>⋯</td><td>0</td><td>0.00000000</td><td>0</td><td>0</td><td>0.00000000</td><td>0</td><td>0</td><td>0</td><td>0</td><td>OR4F5      </td></tr>\n",
       "\t<tr><th scope=row>AL627309.1</th><td>0</td><td>0</td><td>0</td><td>0</td><td>0</td><td>0</td><td>0</td><td>0</td><td>0</td><td>0</td><td>⋯</td><td>0</td><td>0.04584632</td><td>0</td><td>0</td><td>0.01078631</td><td>0</td><td>0</td><td>0</td><td>0</td><td>AL627309.1 </td></tr>\n",
       "\t<tr><th scope=row>AL627309.3</th><td>0</td><td>0</td><td>0</td><td>0</td><td>0</td><td>0</td><td>0</td><td>0</td><td>0</td><td>0</td><td>⋯</td><td>0</td><td>0.00000000</td><td>0</td><td>0</td><td>0.00000000</td><td>0</td><td>0</td><td>0</td><td>0</td><td>AL627309.3 </td></tr>\n",
       "\t<tr><th scope=row>AL627309.2</th><td>0</td><td>0</td><td>0</td><td>0</td><td>0</td><td>0</td><td>0</td><td>0</td><td>0</td><td>0</td><td>⋯</td><td>0</td><td>0.00000000</td><td>0</td><td>0</td><td>0.00000000</td><td>0</td><td>0</td><td>0</td><td>0</td><td>AL627309.2 </td></tr>\n",
       "</tbody>\n",
       "</table>\n"
      ],
      "text/latex": [
       "A data.frame: 6 × 93\n",
       "\\begin{tabular}{r|lllllllllllllllllllll}\n",
       "  & IL1B..CD14.monocyte.PB00001.01\\_Female\\_BR1 & IL1B..CD14.monocyte.PB00002.01\\_Male\\_BR1 & IL1B..CD14.monocyte.PB00003.01\\_Female\\_BR1 & IL1B..CD14.monocyte.PB00004.01\\_Male\\_BR1 & IL1B..CD14.monocyte.PB00006.01\\_Female\\_BR1 & IL1B..CD14.monocyte.PB00010.02\\_Male\\_BR1 & IL1B..CD14.monocyte.PB00012.01\\_Female\\_BR1 & IL1B..CD14.monocyte.PB00014.01\\_Male\\_BR1 & IL1B..CD14.monocyte.PB00015.01\\_Male\\_BR2 & IL1B..CD14.monocyte.PB00016.01\\_Female\\_BR2 & ⋯ & IL1B..CD14.monocyte.PB00599.01\\_Female\\_BR2 & IL1B..CD14.monocyte.PB00600.01\\_Male\\_BR2 & IL1B..CD14.monocyte.PB00602.01\\_Female\\_BR2 & IL1B..CD14.monocyte.PB00621.01\\_Female\\_BR1 & IL1B..CD14.monocyte.PB00623.01\\_Male\\_BR2 & IL1B..CD14.monocyte.PB00625.02\\_Male\\_BR2 & IL1B..CD14.monocyte.PB00645.01\\_Female\\_BR1 & IL1B..CD14.monocyte.PB01425.01\\_Female\\_BR1 & IL1B..CD14.monocyte.PB01446.01\\_Male\\_BR1 & Gene\\\\\n",
       "  & <dbl> & <dbl> & <dbl> & <dbl> & <dbl> & <dbl> & <dbl> & <dbl> & <dbl> & <dbl> & ⋯ & <dbl> & <dbl> & <dbl> & <dbl> & <dbl> & <dbl> & <dbl> & <dbl> & <dbl> & <chr>\\\\\n",
       "\\hline\n",
       "\tMIR1302-2HG & 0 & 0 & 0 & 0 & 0 & 0 & 0 & 0 & 0 & 0 & ⋯ & 0 & 0.00000000 & 0 & 0 & 0.00000000 & 0 & 0 & 0 & 0 & MIR1302-2HG\\\\\n",
       "\tFAM138A & 0 & 0 & 0 & 0 & 0 & 0 & 0 & 0 & 0 & 0 & ⋯ & 0 & 0.00000000 & 0 & 0 & 0.00000000 & 0 & 0 & 0 & 0 & FAM138A    \\\\\n",
       "\tOR4F5 & 0 & 0 & 0 & 0 & 0 & 0 & 0 & 0 & 0 & 0 & ⋯ & 0 & 0.00000000 & 0 & 0 & 0.00000000 & 0 & 0 & 0 & 0 & OR4F5      \\\\\n",
       "\tAL627309.1 & 0 & 0 & 0 & 0 & 0 & 0 & 0 & 0 & 0 & 0 & ⋯ & 0 & 0.04584632 & 0 & 0 & 0.01078631 & 0 & 0 & 0 & 0 & AL627309.1 \\\\\n",
       "\tAL627309.3 & 0 & 0 & 0 & 0 & 0 & 0 & 0 & 0 & 0 & 0 & ⋯ & 0 & 0.00000000 & 0 & 0 & 0.00000000 & 0 & 0 & 0 & 0 & AL627309.3 \\\\\n",
       "\tAL627309.2 & 0 & 0 & 0 & 0 & 0 & 0 & 0 & 0 & 0 & 0 & ⋯ & 0 & 0.00000000 & 0 & 0 & 0.00000000 & 0 & 0 & 0 & 0 & AL627309.2 \\\\\n",
       "\\end{tabular}\n"
      ],
      "text/markdown": [
       "\n",
       "A data.frame: 6 × 93\n",
       "\n",
       "| <!--/--> | IL1B..CD14.monocyte.PB00001.01_Female_BR1 &lt;dbl&gt; | IL1B..CD14.monocyte.PB00002.01_Male_BR1 &lt;dbl&gt; | IL1B..CD14.monocyte.PB00003.01_Female_BR1 &lt;dbl&gt; | IL1B..CD14.monocyte.PB00004.01_Male_BR1 &lt;dbl&gt; | IL1B..CD14.monocyte.PB00006.01_Female_BR1 &lt;dbl&gt; | IL1B..CD14.monocyte.PB00010.02_Male_BR1 &lt;dbl&gt; | IL1B..CD14.monocyte.PB00012.01_Female_BR1 &lt;dbl&gt; | IL1B..CD14.monocyte.PB00014.01_Male_BR1 &lt;dbl&gt; | IL1B..CD14.monocyte.PB00015.01_Male_BR2 &lt;dbl&gt; | IL1B..CD14.monocyte.PB00016.01_Female_BR2 &lt;dbl&gt; | ⋯ ⋯ | IL1B..CD14.monocyte.PB00599.01_Female_BR2 &lt;dbl&gt; | IL1B..CD14.monocyte.PB00600.01_Male_BR2 &lt;dbl&gt; | IL1B..CD14.monocyte.PB00602.01_Female_BR2 &lt;dbl&gt; | IL1B..CD14.monocyte.PB00621.01_Female_BR1 &lt;dbl&gt; | IL1B..CD14.monocyte.PB00623.01_Male_BR2 &lt;dbl&gt; | IL1B..CD14.monocyte.PB00625.02_Male_BR2 &lt;dbl&gt; | IL1B..CD14.monocyte.PB00645.01_Female_BR1 &lt;dbl&gt; | IL1B..CD14.monocyte.PB01425.01_Female_BR1 &lt;dbl&gt; | IL1B..CD14.monocyte.PB01446.01_Male_BR1 &lt;dbl&gt; | Gene &lt;chr&gt; |\n",
       "|---|---|---|---|---|---|---|---|---|---|---|---|---|---|---|---|---|---|---|---|---|---|\n",
       "| MIR1302-2HG | 0 | 0 | 0 | 0 | 0 | 0 | 0 | 0 | 0 | 0 | ⋯ | 0 | 0.00000000 | 0 | 0 | 0.00000000 | 0 | 0 | 0 | 0 | MIR1302-2HG |\n",
       "| FAM138A | 0 | 0 | 0 | 0 | 0 | 0 | 0 | 0 | 0 | 0 | ⋯ | 0 | 0.00000000 | 0 | 0 | 0.00000000 | 0 | 0 | 0 | 0 | FAM138A     |\n",
       "| OR4F5 | 0 | 0 | 0 | 0 | 0 | 0 | 0 | 0 | 0 | 0 | ⋯ | 0 | 0.00000000 | 0 | 0 | 0.00000000 | 0 | 0 | 0 | 0 | OR4F5       |\n",
       "| AL627309.1 | 0 | 0 | 0 | 0 | 0 | 0 | 0 | 0 | 0 | 0 | ⋯ | 0 | 0.04584632 | 0 | 0 | 0.01078631 | 0 | 0 | 0 | 0 | AL627309.1  |\n",
       "| AL627309.3 | 0 | 0 | 0 | 0 | 0 | 0 | 0 | 0 | 0 | 0 | ⋯ | 0 | 0.00000000 | 0 | 0 | 0.00000000 | 0 | 0 | 0 | 0 | AL627309.3  |\n",
       "| AL627309.2 | 0 | 0 | 0 | 0 | 0 | 0 | 0 | 0 | 0 | 0 | ⋯ | 0 | 0.00000000 | 0 | 0 | 0.00000000 | 0 | 0 | 0 | 0 | AL627309.2  |\n",
       "\n"
      ],
      "text/plain": [
       "            IL1B..CD14.monocyte.PB00001.01_Female_BR1\n",
       "MIR1302-2HG 0                                        \n",
       "FAM138A     0                                        \n",
       "OR4F5       0                                        \n",
       "AL627309.1  0                                        \n",
       "AL627309.3  0                                        \n",
       "AL627309.2  0                                        \n",
       "            IL1B..CD14.monocyte.PB00002.01_Male_BR1\n",
       "MIR1302-2HG 0                                      \n",
       "FAM138A     0                                      \n",
       "OR4F5       0                                      \n",
       "AL627309.1  0                                      \n",
       "AL627309.3  0                                      \n",
       "AL627309.2  0                                      \n",
       "            IL1B..CD14.monocyte.PB00003.01_Female_BR1\n",
       "MIR1302-2HG 0                                        \n",
       "FAM138A     0                                        \n",
       "OR4F5       0                                        \n",
       "AL627309.1  0                                        \n",
       "AL627309.3  0                                        \n",
       "AL627309.2  0                                        \n",
       "            IL1B..CD14.monocyte.PB00004.01_Male_BR1\n",
       "MIR1302-2HG 0                                      \n",
       "FAM138A     0                                      \n",
       "OR4F5       0                                      \n",
       "AL627309.1  0                                      \n",
       "AL627309.3  0                                      \n",
       "AL627309.2  0                                      \n",
       "            IL1B..CD14.monocyte.PB00006.01_Female_BR1\n",
       "MIR1302-2HG 0                                        \n",
       "FAM138A     0                                        \n",
       "OR4F5       0                                        \n",
       "AL627309.1  0                                        \n",
       "AL627309.3  0                                        \n",
       "AL627309.2  0                                        \n",
       "            IL1B..CD14.monocyte.PB00010.02_Male_BR1\n",
       "MIR1302-2HG 0                                      \n",
       "FAM138A     0                                      \n",
       "OR4F5       0                                      \n",
       "AL627309.1  0                                      \n",
       "AL627309.3  0                                      \n",
       "AL627309.2  0                                      \n",
       "            IL1B..CD14.monocyte.PB00012.01_Female_BR1\n",
       "MIR1302-2HG 0                                        \n",
       "FAM138A     0                                        \n",
       "OR4F5       0                                        \n",
       "AL627309.1  0                                        \n",
       "AL627309.3  0                                        \n",
       "AL627309.2  0                                        \n",
       "            IL1B..CD14.monocyte.PB00014.01_Male_BR1\n",
       "MIR1302-2HG 0                                      \n",
       "FAM138A     0                                      \n",
       "OR4F5       0                                      \n",
       "AL627309.1  0                                      \n",
       "AL627309.3  0                                      \n",
       "AL627309.2  0                                      \n",
       "            IL1B..CD14.monocyte.PB00015.01_Male_BR2\n",
       "MIR1302-2HG 0                                      \n",
       "FAM138A     0                                      \n",
       "OR4F5       0                                      \n",
       "AL627309.1  0                                      \n",
       "AL627309.3  0                                      \n",
       "AL627309.2  0                                      \n",
       "            IL1B..CD14.monocyte.PB00016.01_Female_BR2 ⋯\n",
       "MIR1302-2HG 0                                         ⋯\n",
       "FAM138A     0                                         ⋯\n",
       "OR4F5       0                                         ⋯\n",
       "AL627309.1  0                                         ⋯\n",
       "AL627309.3  0                                         ⋯\n",
       "AL627309.2  0                                         ⋯\n",
       "            IL1B..CD14.monocyte.PB00599.01_Female_BR2\n",
       "MIR1302-2HG 0                                        \n",
       "FAM138A     0                                        \n",
       "OR4F5       0                                        \n",
       "AL627309.1  0                                        \n",
       "AL627309.3  0                                        \n",
       "AL627309.2  0                                        \n",
       "            IL1B..CD14.monocyte.PB00600.01_Male_BR2\n",
       "MIR1302-2HG 0.00000000                             \n",
       "FAM138A     0.00000000                             \n",
       "OR4F5       0.00000000                             \n",
       "AL627309.1  0.04584632                             \n",
       "AL627309.3  0.00000000                             \n",
       "AL627309.2  0.00000000                             \n",
       "            IL1B..CD14.monocyte.PB00602.01_Female_BR2\n",
       "MIR1302-2HG 0                                        \n",
       "FAM138A     0                                        \n",
       "OR4F5       0                                        \n",
       "AL627309.1  0                                        \n",
       "AL627309.3  0                                        \n",
       "AL627309.2  0                                        \n",
       "            IL1B..CD14.monocyte.PB00621.01_Female_BR1\n",
       "MIR1302-2HG 0                                        \n",
       "FAM138A     0                                        \n",
       "OR4F5       0                                        \n",
       "AL627309.1  0                                        \n",
       "AL627309.3  0                                        \n",
       "AL627309.2  0                                        \n",
       "            IL1B..CD14.monocyte.PB00623.01_Male_BR2\n",
       "MIR1302-2HG 0.00000000                             \n",
       "FAM138A     0.00000000                             \n",
       "OR4F5       0.00000000                             \n",
       "AL627309.1  0.01078631                             \n",
       "AL627309.3  0.00000000                             \n",
       "AL627309.2  0.00000000                             \n",
       "            IL1B..CD14.monocyte.PB00625.02_Male_BR2\n",
       "MIR1302-2HG 0                                      \n",
       "FAM138A     0                                      \n",
       "OR4F5       0                                      \n",
       "AL627309.1  0                                      \n",
       "AL627309.3  0                                      \n",
       "AL627309.2  0                                      \n",
       "            IL1B..CD14.monocyte.PB00645.01_Female_BR1\n",
       "MIR1302-2HG 0                                        \n",
       "FAM138A     0                                        \n",
       "OR4F5       0                                        \n",
       "AL627309.1  0                                        \n",
       "AL627309.3  0                                        \n",
       "AL627309.2  0                                        \n",
       "            IL1B..CD14.monocyte.PB01425.01_Female_BR1\n",
       "MIR1302-2HG 0                                        \n",
       "FAM138A     0                                        \n",
       "OR4F5       0                                        \n",
       "AL627309.1  0                                        \n",
       "AL627309.3  0                                        \n",
       "AL627309.2  0                                        \n",
       "            IL1B..CD14.monocyte.PB01446.01_Male_BR1 Gene       \n",
       "MIR1302-2HG 0                                       MIR1302-2HG\n",
       "FAM138A     0                                       FAM138A    \n",
       "OR4F5       0                                       OR4F5      \n",
       "AL627309.1  0                                       AL627309.1 \n",
       "AL627309.3  0                                       AL627309.3 \n",
       "AL627309.2  0                                       AL627309.2 "
      ]
     },
     "metadata": {},
     "output_type": "display_data"
    }
   ],
   "source": [
    "mean_df['Gene']= rownames(mean_df)\n",
    "head(mean_df)\n",
    "\n",
    "#write.csv(mean_df, \"/home/jupyter/Myeloid_cells/files/count_matrix_IL1B_CD14_mono.csv\")"
   ]
  },
  {
   "cell_type": "code",
   "execution_count": 113,
   "id": "0f634f52-bf51-4118-8c17-acb85ec745a3",
   "metadata": {
    "tags": []
   },
   "outputs": [],
   "source": [
    "#filter the gene in count matrix\n",
    "\n",
    "df <- mean_df %>% filter (Gene %in% c('G0S2','TNF', 'IL1B', 'NR4A1', 'PTGS2', 'BCL2A1', 'BCL6', 'NR4A1', 'METRNL', 'TNFRSF1B',\n",
    "                                      'FKBP5', 'RBP7', 'UBE2D1', 'FCGR3A', 'CCL4', 'CCL4L2','NFKBID', 'LGALS2', 'CCR1','RASGEF1B', \n",
    "                                      'CXCL8', 'NLRP3', 'KLF6', 'EIF1AX', 'JUND'))"
   ]
  },
  {
   "cell_type": "code",
   "execution_count": 114,
   "id": "770ff3f2-e028-4d63-9063-4261a6d0734a",
   "metadata": {
    "tags": []
   },
   "outputs": [],
   "source": [
    "#NFKBID, RASGEF1B, BCL6, FKBP5, UBE2D1, 'NLRP3', 'KLF6', 'EIF1AX', 'JUND' <- not found\n",
    "#FKBP5 <- corticoid inflammation gene\n",
    "#"
   ]
  },
  {
   "cell_type": "code",
   "execution_count": 115,
   "id": "0705af61-5d78-4de4-80ef-ce0e27d6d621",
   "metadata": {
    "tags": []
   },
   "outputs": [
    {
     "data": {
      "text/html": [
       "<table class=\"dataframe\">\n",
       "<caption>A data.frame: 24 × 93</caption>\n",
       "<thead>\n",
       "\t<tr><th></th><th scope=col>IL1B..CD14.monocyte.PB00001.01_Female_BR1</th><th scope=col>IL1B..CD14.monocyte.PB00002.01_Male_BR1</th><th scope=col>IL1B..CD14.monocyte.PB00003.01_Female_BR1</th><th scope=col>IL1B..CD14.monocyte.PB00004.01_Male_BR1</th><th scope=col>IL1B..CD14.monocyte.PB00006.01_Female_BR1</th><th scope=col>IL1B..CD14.monocyte.PB00010.02_Male_BR1</th><th scope=col>IL1B..CD14.monocyte.PB00012.01_Female_BR1</th><th scope=col>IL1B..CD14.monocyte.PB00014.01_Male_BR1</th><th scope=col>IL1B..CD14.monocyte.PB00015.01_Male_BR2</th><th scope=col>IL1B..CD14.monocyte.PB00016.01_Female_BR2</th><th scope=col>⋯</th><th scope=col>IL1B..CD14.monocyte.PB00599.01_Female_BR2</th><th scope=col>IL1B..CD14.monocyte.PB00600.01_Male_BR2</th><th scope=col>IL1B..CD14.monocyte.PB00602.01_Female_BR2</th><th scope=col>IL1B..CD14.monocyte.PB00621.01_Female_BR1</th><th scope=col>IL1B..CD14.monocyte.PB00623.01_Male_BR2</th><th scope=col>IL1B..CD14.monocyte.PB00625.02_Male_BR2</th><th scope=col>IL1B..CD14.monocyte.PB00645.01_Female_BR1</th><th scope=col>IL1B..CD14.monocyte.PB01425.01_Female_BR1</th><th scope=col>IL1B..CD14.monocyte.PB01446.01_Male_BR1</th><th scope=col>Gene</th></tr>\n",
       "\t<tr><th></th><th scope=col>&lt;dbl&gt;</th><th scope=col>&lt;dbl&gt;</th><th scope=col>&lt;dbl&gt;</th><th scope=col>&lt;dbl&gt;</th><th scope=col>&lt;dbl&gt;</th><th scope=col>&lt;dbl&gt;</th><th scope=col>&lt;dbl&gt;</th><th scope=col>&lt;dbl&gt;</th><th scope=col>&lt;dbl&gt;</th><th scope=col>&lt;dbl&gt;</th><th scope=col>⋯</th><th scope=col>&lt;dbl&gt;</th><th scope=col>&lt;dbl&gt;</th><th scope=col>&lt;dbl&gt;</th><th scope=col>&lt;dbl&gt;</th><th scope=col>&lt;dbl&gt;</th><th scope=col>&lt;dbl&gt;</th><th scope=col>&lt;dbl&gt;</th><th scope=col>&lt;dbl&gt;</th><th scope=col>&lt;dbl&gt;</th><th scope=col>&lt;chr&gt;</th></tr>\n",
       "</thead>\n",
       "<tbody>\n",
       "\t<tr><th scope=row>RBP7</th><td>1.5446736</td><td> 2.9172496</td><td>4.2875680</td><td> 2.9012661</td><td>2.10553407</td><td>2.9616959</td><td> 3.7656026</td><td>2.7936544</td><td> 1.2888000</td><td> 2.3766452</td><td>⋯</td><td> 2.3769310</td><td>3.4787175</td><td> 2.5983585</td><td> 1.3941257</td><td>3.1143687</td><td> 0.0000000</td><td>3.3656297</td><td> 4.1860342</td><td>2.3669016</td><td>RBP7    </td></tr>\n",
       "\t<tr><th scope=row>TNFRSF1B</th><td>3.5581048</td><td> 4.3250580</td><td>1.6972927</td><td> 4.3503733</td><td>4.10418923</td><td>2.9866571</td><td> 3.2720926</td><td>3.7267957</td><td> 3.4923769</td><td> 4.6034351</td><td>⋯</td><td> 3.2446461</td><td>4.3443244</td><td> 3.3352350</td><td> 2.8149872</td><td>3.6357247</td><td> 2.9993544</td><td>5.8895173</td><td> 2.5148588</td><td>3.8718769</td><td>TNFRSF1B</td></tr>\n",
       "\t<tr><th scope=row>FCGR3A</th><td>0.3997040</td><td> 0.4449190</td><td>0.0000000</td><td> 0.4725195</td><td>1.33631606</td><td>1.0683761</td><td> 1.2325390</td><td>1.4968072</td><td> 0.2542209</td><td> 1.1559974</td><td>⋯</td><td> 2.7341491</td><td>1.1922600</td><td> 0.8876481</td><td> 0.9439662</td><td>0.5151250</td><td> 0.0000000</td><td>0.0000000</td><td> 0.0000000</td><td>0.5168040</td><td>FCGR3A  </td></tr>\n",
       "\t<tr><th scope=row>PTGS2</th><td>1.2641226</td><td> 0.8260360</td><td>0.1684523</td><td>17.7486958</td><td>0.71640718</td><td>6.1033714</td><td> 1.2396983</td><td>0.6347087</td><td> 2.0915515</td><td> 1.2892980</td><td>⋯</td><td> 2.3148263</td><td>1.8791051</td><td> 1.5635446</td><td> 4.1387300</td><td>1.5336997</td><td> 7.6963177</td><td>2.1407779</td><td> 1.6804833</td><td>2.1091681</td><td>PTGS2   </td></tr>\n",
       "\t<tr><th scope=row>G0S2</th><td>1.6543463</td><td> 7.0246180</td><td>0.0000000</td><td> 4.0917969</td><td>0.09878104</td><td>2.9292676</td><td> 2.0773564</td><td>1.7533978</td><td> 1.6997632</td><td> 4.7628413</td><td>⋯</td><td> 4.0065594</td><td>1.3130387</td><td> 1.0000023</td><td> 0.0000000</td><td>3.7699703</td><td> 5.5081248</td><td>1.6341161</td><td> 0.9331800</td><td>0.2992033</td><td>G0S2    </td></tr>\n",
       "\t<tr><th scope=row>NLRP3</th><td>0.4410208</td><td> 0.4881343</td><td>1.0322375</td><td> 1.9034278</td><td>0.70673769</td><td>0.8324689</td><td> 1.5214494</td><td>0.5950748</td><td> 1.1059410</td><td> 0.9447646</td><td>⋯</td><td> 1.3006180</td><td>0.9768612</td><td> 1.0256238</td><td> 1.0165392</td><td>1.7819473</td><td> 2.7540624</td><td>0.6936038</td><td> 0.5914129</td><td>0.8936969</td><td>NLRP3   </td></tr>\n",
       "\t<tr><th scope=row>IL1B</th><td>2.3259647</td><td> 2.4924543</td><td>2.6934041</td><td> 7.5129118</td><td>7.80581979</td><td>7.8267070</td><td> 4.2216938</td><td>2.3039864</td><td>11.5476502</td><td> 9.7672100</td><td>⋯</td><td> 5.3644734</td><td>6.9183871</td><td> 6.3453824</td><td> 1.6554920</td><td>8.2776935</td><td>24.9565678</td><td>3.5972903</td><td>10.8837843</td><td>3.5718620</td><td>IL1B    </td></tr>\n",
       "\t<tr><th scope=row>CCR1</th><td>1.4908643</td><td> 1.3307467</td><td>1.6827605</td><td> 1.8057859</td><td>1.49824753</td><td>2.3064939</td><td> 0.2810568</td><td>0.8265299</td><td> 1.3094397</td><td> 1.2591484</td><td>⋯</td><td> 1.4545363</td><td>0.8777852</td><td> 1.0259663</td><td> 0.8544818</td><td>1.1050082</td><td> 0.0000000</td><td>0.4392040</td><td> 0.9627576</td><td>1.8185976</td><td>CCR1    </td></tr>\n",
       "\t<tr><th scope=row>BCL6</th><td>0.7072238</td><td> 0.0000000</td><td>0.1684523</td><td> 0.3601532</td><td>0.69401118</td><td>0.5562466</td><td> 0.0000000</td><td>0.4279693</td><td> 0.4882470</td><td> 0.5660078</td><td>⋯</td><td> 1.1016584</td><td>0.8961238</td><td> 0.9704355</td><td> 0.8277460</td><td>0.6572687</td><td> 0.8111616</td><td>0.7828344</td><td> 1.2108651</td><td>0.8923085</td><td>BCL6    </td></tr>\n",
       "\t<tr><th scope=row>CXCL8</th><td>3.3832231</td><td> 1.5527951</td><td>4.0607507</td><td>12.3984326</td><td>3.54619591</td><td>3.0280454</td><td>11.8568901</td><td>3.0709957</td><td> 4.4696993</td><td> 9.5429535</td><td>⋯</td><td>12.6860659</td><td>6.5250654</td><td> 3.0113520</td><td> 6.6754394</td><td>5.8059633</td><td> 3.2446463</td><td>4.0710897</td><td> 3.2090916</td><td>3.2332911</td><td>CXCL8   </td></tr>\n",
       "\t<tr><th scope=row>RASGEF1B</th><td>1.0767464</td><td> 0.2656748</td><td>0.8422613</td><td> 1.0298540</td><td>0.56586805</td><td>1.7994897</td><td> 2.0420734</td><td>0.2322528</td><td> 1.8606188</td><td> 1.1970643</td><td>⋯</td><td> 1.0420749</td><td>0.5656100</td><td> 0.7120563</td><td> 0.7551730</td><td>0.4666394</td><td> 0.0000000</td><td>0.2037216</td><td> 0.1818711</td><td>0.7423119</td><td>RASGEF1B</td></tr>\n",
       "\t<tr><th scope=row>TNF</th><td>0.8716795</td><td> 0.2656748</td><td>1.5975483</td><td> 0.3775409</td><td>0.65585104</td><td>0.1409642</td><td> 0.6847439</td><td>0.9756273</td><td> 0.8073253</td><td> 0.3824740</td><td>⋯</td><td> 1.4685510</td><td>0.5973021</td><td> 2.5986190</td><td> 0.3775865</td><td>2.6820681</td><td> 0.0000000</td><td>2.0407084</td><td> 1.1945735</td><td>0.9073837</td><td>TNF     </td></tr>\n",
       "\t<tr><th scope=row>FKBP5</th><td>1.1227406</td><td> 1.4742042</td><td>1.0454144</td><td> 1.7046544</td><td>1.49776540</td><td>1.0061467</td><td> 2.0545399</td><td>0.8637446</td><td> 1.2359595</td><td> 1.0073254</td><td>⋯</td><td> 0.6186863</td><td>0.8322140</td><td> 0.7093436</td><td> 0.3775865</td><td>0.7107019</td><td> 0.0000000</td><td>0.8504999</td><td> 0.4385835</td><td>1.4681053</td><td>FKBP5   </td></tr>\n",
       "\t<tr><th scope=row>EIF1AX</th><td>1.5871231</td><td> 0.2656748</td><td>1.6360512</td><td> 1.2800992</td><td>0.74952445</td><td>0.9437916</td><td> 1.2208260</td><td>1.1740729</td><td> 0.8736180</td><td> 1.2691250</td><td>⋯</td><td> 1.3816188</td><td>0.6931777</td><td> 1.5828586</td><td> 0.6160341</td><td>0.8681500</td><td> 0.8111616</td><td>2.8713748</td><td> 1.4544338</td><td>1.0977381</td><td>EIF1AX  </td></tr>\n",
       "\t<tr><th scope=row>KLF6</th><td>4.5415277</td><td> 4.3039824</td><td>1.6747592</td><td> 2.0604410</td><td>4.39855928</td><td>4.4760246</td><td> 3.3113617</td><td>2.7722050</td><td> 6.2006195</td><td> 3.9817168</td><td>⋯</td><td> 8.7037309</td><td>5.4999919</td><td> 5.5121639</td><td>12.4200069</td><td>4.3518744</td><td> 2.1881928</td><td>6.5789430</td><td> 6.2377832</td><td>3.8181650</td><td>KLF6    </td></tr>\n",
       "\t<tr><th scope=row>UBE2D1</th><td>1.9099306</td><td> 2.5525988</td><td>3.5026187</td><td> 5.3881464</td><td>2.31124347</td><td>1.7528950</td><td> 0.5649718</td><td>2.1529646</td><td> 1.5695556</td><td> 2.1014651</td><td>⋯</td><td> 1.1933317</td><td>1.3100773</td><td> 1.5002110</td><td> 1.8213666</td><td>1.4669972</td><td> 0.0000000</td><td>2.9723600</td><td> 0.8728092</td><td>1.8526014</td><td>UBE2D1  </td></tr>\n",
       "\t<tr><th scope=row>NR4A1</th><td>0.4424390</td><td> 0.0000000</td><td>0.6738091</td><td> 0.5369952</td><td>0.82287879</td><td>4.6505188</td><td> 2.2542103</td><td>1.1646108</td><td> 2.4463602</td><td> 1.9824739</td><td>⋯</td><td> 1.8019413</td><td>0.1753639</td><td> 0.9308513</td><td> 1.2817227</td><td>0.3069792</td><td> 0.0000000</td><td>0.8276128</td><td> 0.5012531</td><td>0.6079038</td><td>NR4A1   </td></tr>\n",
       "\t<tr><th scope=row>BCL2A1</th><td>2.8262151</td><td> 4.7381055</td><td>2.9513723</td><td> 0.8768818</td><td>2.16847636</td><td>5.7272497</td><td> 3.1313487</td><td>2.3360649</td><td> 2.7347175</td><td> 3.6619912</td><td>⋯</td><td> 5.4354148</td><td>2.4024630</td><td> 3.2069086</td><td> 3.6885705</td><td>4.1019404</td><td> 3.5652240</td><td>0.5182421</td><td> 2.1160787</td><td>3.1028752</td><td>BCL2A1  </td></tr>\n",
       "\t<tr><th scope=row>CCL4</th><td>1.1018390</td><td> 1.5527951</td><td>0.0000000</td><td> 0.6242899</td><td>6.57960691</td><td>4.1346111</td><td> 2.5873091</td><td>3.6516237</td><td> 4.2955458</td><td>10.2004090</td><td>⋯</td><td> 5.6665759</td><td>7.2875659</td><td>15.0563687</td><td> 0.0000000</td><td>9.1341565</td><td> 6.3192864</td><td>7.6549170</td><td> 9.2862199</td><td>5.7308846</td><td>CCL4    </td></tr>\n",
       "\t<tr><th scope=row>CCL4L2</th><td>0.9370591</td><td> 0.0000000</td><td>0.0000000</td><td> 0.2497160</td><td>0.47615685</td><td>1.4388446</td><td> 0.0000000</td><td>1.9379729</td><td> 3.3399175</td><td>16.7384573</td><td>⋯</td><td> 0.0000000</td><td>1.1821867</td><td> 9.0030176</td><td> 0.0000000</td><td>2.7877787</td><td>15.1473436</td><td>1.0616542</td><td> 2.1809557</td><td>1.9458263</td><td>CCL4L2  </td></tr>\n",
       "\t<tr><th scope=row>METRNL</th><td>0.7280341</td><td> 0.8812049</td><td>0.3369045</td><td> 1.4251967</td><td>0.90240557</td><td>1.4324157</td><td> 0.8424224</td><td>1.0150882</td><td> 1.2720625</td><td> 1.5296463</td><td>⋯</td><td> 1.5707145</td><td>0.8392974</td><td> 1.1715472</td><td> 1.2053325</td><td>0.9074162</td><td> 0.8111616</td><td>0.4661560</td><td> 0.5783781</td><td>0.3494126</td><td>METRNL  </td></tr>\n",
       "\t<tr><th scope=row>JUND</th><td>6.5025936</td><td>10.6063046</td><td>9.5932323</td><td> 5.5970975</td><td>5.93179573</td><td>5.4613274</td><td> 5.4470990</td><td>6.1476095</td><td> 7.7431713</td><td> 7.0927095</td><td>⋯</td><td> 8.4375315</td><td>4.9833660</td><td> 7.1259237</td><td> 6.1794427</td><td>6.7384775</td><td> 3.8105160</td><td>3.6563280</td><td> 5.0558323</td><td>5.3487975</td><td>JUND    </td></tr>\n",
       "\t<tr><th scope=row>NFKBID</th><td>0.9093488</td><td> 0.3905030</td><td>0.0000000</td><td> 1.3495042</td><td>0.25398497</td><td>0.6615723</td><td> 0.4108464</td><td>0.4755424</td><td> 1.1393729</td><td> 0.9950950</td><td>⋯</td><td> 1.2414475</td><td>0.9576927</td><td> 1.6449569</td><td> 0.8544818</td><td>0.7410834</td><td> 0.8111616</td><td>1.2250745</td><td> 0.7153490</td><td>0.6072916</td><td>NFKBID  </td></tr>\n",
       "\t<tr><th scope=row>LGALS2</th><td>2.6197926</td><td> 5.5983699</td><td>1.7042144</td><td> 7.8796420</td><td>0.95795722</td><td>5.2551874</td><td>12.7346935</td><td>2.8404477</td><td>10.6624430</td><td> 7.5132026</td><td>⋯</td><td> 9.2332143</td><td>8.7137288</td><td> 7.1690306</td><td> 3.1794793</td><td>8.3922583</td><td> 7.6963177</td><td>7.8195725</td><td> 3.5852783</td><td>1.8361723</td><td>LGALS2  </td></tr>\n",
       "</tbody>\n",
       "</table>\n"
      ],
      "text/latex": [
       "A data.frame: 24 × 93\n",
       "\\begin{tabular}{r|lllllllllllllllllllll}\n",
       "  & IL1B..CD14.monocyte.PB00001.01\\_Female\\_BR1 & IL1B..CD14.monocyte.PB00002.01\\_Male\\_BR1 & IL1B..CD14.monocyte.PB00003.01\\_Female\\_BR1 & IL1B..CD14.monocyte.PB00004.01\\_Male\\_BR1 & IL1B..CD14.monocyte.PB00006.01\\_Female\\_BR1 & IL1B..CD14.monocyte.PB00010.02\\_Male\\_BR1 & IL1B..CD14.monocyte.PB00012.01\\_Female\\_BR1 & IL1B..CD14.monocyte.PB00014.01\\_Male\\_BR1 & IL1B..CD14.monocyte.PB00015.01\\_Male\\_BR2 & IL1B..CD14.monocyte.PB00016.01\\_Female\\_BR2 & ⋯ & IL1B..CD14.monocyte.PB00599.01\\_Female\\_BR2 & IL1B..CD14.monocyte.PB00600.01\\_Male\\_BR2 & IL1B..CD14.monocyte.PB00602.01\\_Female\\_BR2 & IL1B..CD14.monocyte.PB00621.01\\_Female\\_BR1 & IL1B..CD14.monocyte.PB00623.01\\_Male\\_BR2 & IL1B..CD14.monocyte.PB00625.02\\_Male\\_BR2 & IL1B..CD14.monocyte.PB00645.01\\_Female\\_BR1 & IL1B..CD14.monocyte.PB01425.01\\_Female\\_BR1 & IL1B..CD14.monocyte.PB01446.01\\_Male\\_BR1 & Gene\\\\\n",
       "  & <dbl> & <dbl> & <dbl> & <dbl> & <dbl> & <dbl> & <dbl> & <dbl> & <dbl> & <dbl> & ⋯ & <dbl> & <dbl> & <dbl> & <dbl> & <dbl> & <dbl> & <dbl> & <dbl> & <dbl> & <chr>\\\\\n",
       "\\hline\n",
       "\tRBP7 & 1.5446736 &  2.9172496 & 4.2875680 &  2.9012661 & 2.10553407 & 2.9616959 &  3.7656026 & 2.7936544 &  1.2888000 &  2.3766452 & ⋯ &  2.3769310 & 3.4787175 &  2.5983585 &  1.3941257 & 3.1143687 &  0.0000000 & 3.3656297 &  4.1860342 & 2.3669016 & RBP7    \\\\\n",
       "\tTNFRSF1B & 3.5581048 &  4.3250580 & 1.6972927 &  4.3503733 & 4.10418923 & 2.9866571 &  3.2720926 & 3.7267957 &  3.4923769 &  4.6034351 & ⋯ &  3.2446461 & 4.3443244 &  3.3352350 &  2.8149872 & 3.6357247 &  2.9993544 & 5.8895173 &  2.5148588 & 3.8718769 & TNFRSF1B\\\\\n",
       "\tFCGR3A & 0.3997040 &  0.4449190 & 0.0000000 &  0.4725195 & 1.33631606 & 1.0683761 &  1.2325390 & 1.4968072 &  0.2542209 &  1.1559974 & ⋯ &  2.7341491 & 1.1922600 &  0.8876481 &  0.9439662 & 0.5151250 &  0.0000000 & 0.0000000 &  0.0000000 & 0.5168040 & FCGR3A  \\\\\n",
       "\tPTGS2 & 1.2641226 &  0.8260360 & 0.1684523 & 17.7486958 & 0.71640718 & 6.1033714 &  1.2396983 & 0.6347087 &  2.0915515 &  1.2892980 & ⋯ &  2.3148263 & 1.8791051 &  1.5635446 &  4.1387300 & 1.5336997 &  7.6963177 & 2.1407779 &  1.6804833 & 2.1091681 & PTGS2   \\\\\n",
       "\tG0S2 & 1.6543463 &  7.0246180 & 0.0000000 &  4.0917969 & 0.09878104 & 2.9292676 &  2.0773564 & 1.7533978 &  1.6997632 &  4.7628413 & ⋯ &  4.0065594 & 1.3130387 &  1.0000023 &  0.0000000 & 3.7699703 &  5.5081248 & 1.6341161 &  0.9331800 & 0.2992033 & G0S2    \\\\\n",
       "\tNLRP3 & 0.4410208 &  0.4881343 & 1.0322375 &  1.9034278 & 0.70673769 & 0.8324689 &  1.5214494 & 0.5950748 &  1.1059410 &  0.9447646 & ⋯ &  1.3006180 & 0.9768612 &  1.0256238 &  1.0165392 & 1.7819473 &  2.7540624 & 0.6936038 &  0.5914129 & 0.8936969 & NLRP3   \\\\\n",
       "\tIL1B & 2.3259647 &  2.4924543 & 2.6934041 &  7.5129118 & 7.80581979 & 7.8267070 &  4.2216938 & 2.3039864 & 11.5476502 &  9.7672100 & ⋯ &  5.3644734 & 6.9183871 &  6.3453824 &  1.6554920 & 8.2776935 & 24.9565678 & 3.5972903 & 10.8837843 & 3.5718620 & IL1B    \\\\\n",
       "\tCCR1 & 1.4908643 &  1.3307467 & 1.6827605 &  1.8057859 & 1.49824753 & 2.3064939 &  0.2810568 & 0.8265299 &  1.3094397 &  1.2591484 & ⋯ &  1.4545363 & 0.8777852 &  1.0259663 &  0.8544818 & 1.1050082 &  0.0000000 & 0.4392040 &  0.9627576 & 1.8185976 & CCR1    \\\\\n",
       "\tBCL6 & 0.7072238 &  0.0000000 & 0.1684523 &  0.3601532 & 0.69401118 & 0.5562466 &  0.0000000 & 0.4279693 &  0.4882470 &  0.5660078 & ⋯ &  1.1016584 & 0.8961238 &  0.9704355 &  0.8277460 & 0.6572687 &  0.8111616 & 0.7828344 &  1.2108651 & 0.8923085 & BCL6    \\\\\n",
       "\tCXCL8 & 3.3832231 &  1.5527951 & 4.0607507 & 12.3984326 & 3.54619591 & 3.0280454 & 11.8568901 & 3.0709957 &  4.4696993 &  9.5429535 & ⋯ & 12.6860659 & 6.5250654 &  3.0113520 &  6.6754394 & 5.8059633 &  3.2446463 & 4.0710897 &  3.2090916 & 3.2332911 & CXCL8   \\\\\n",
       "\tRASGEF1B & 1.0767464 &  0.2656748 & 0.8422613 &  1.0298540 & 0.56586805 & 1.7994897 &  2.0420734 & 0.2322528 &  1.8606188 &  1.1970643 & ⋯ &  1.0420749 & 0.5656100 &  0.7120563 &  0.7551730 & 0.4666394 &  0.0000000 & 0.2037216 &  0.1818711 & 0.7423119 & RASGEF1B\\\\\n",
       "\tTNF & 0.8716795 &  0.2656748 & 1.5975483 &  0.3775409 & 0.65585104 & 0.1409642 &  0.6847439 & 0.9756273 &  0.8073253 &  0.3824740 & ⋯ &  1.4685510 & 0.5973021 &  2.5986190 &  0.3775865 & 2.6820681 &  0.0000000 & 2.0407084 &  1.1945735 & 0.9073837 & TNF     \\\\\n",
       "\tFKBP5 & 1.1227406 &  1.4742042 & 1.0454144 &  1.7046544 & 1.49776540 & 1.0061467 &  2.0545399 & 0.8637446 &  1.2359595 &  1.0073254 & ⋯ &  0.6186863 & 0.8322140 &  0.7093436 &  0.3775865 & 0.7107019 &  0.0000000 & 0.8504999 &  0.4385835 & 1.4681053 & FKBP5   \\\\\n",
       "\tEIF1AX & 1.5871231 &  0.2656748 & 1.6360512 &  1.2800992 & 0.74952445 & 0.9437916 &  1.2208260 & 1.1740729 &  0.8736180 &  1.2691250 & ⋯ &  1.3816188 & 0.6931777 &  1.5828586 &  0.6160341 & 0.8681500 &  0.8111616 & 2.8713748 &  1.4544338 & 1.0977381 & EIF1AX  \\\\\n",
       "\tKLF6 & 4.5415277 &  4.3039824 & 1.6747592 &  2.0604410 & 4.39855928 & 4.4760246 &  3.3113617 & 2.7722050 &  6.2006195 &  3.9817168 & ⋯ &  8.7037309 & 5.4999919 &  5.5121639 & 12.4200069 & 4.3518744 &  2.1881928 & 6.5789430 &  6.2377832 & 3.8181650 & KLF6    \\\\\n",
       "\tUBE2D1 & 1.9099306 &  2.5525988 & 3.5026187 &  5.3881464 & 2.31124347 & 1.7528950 &  0.5649718 & 2.1529646 &  1.5695556 &  2.1014651 & ⋯ &  1.1933317 & 1.3100773 &  1.5002110 &  1.8213666 & 1.4669972 &  0.0000000 & 2.9723600 &  0.8728092 & 1.8526014 & UBE2D1  \\\\\n",
       "\tNR4A1 & 0.4424390 &  0.0000000 & 0.6738091 &  0.5369952 & 0.82287879 & 4.6505188 &  2.2542103 & 1.1646108 &  2.4463602 &  1.9824739 & ⋯ &  1.8019413 & 0.1753639 &  0.9308513 &  1.2817227 & 0.3069792 &  0.0000000 & 0.8276128 &  0.5012531 & 0.6079038 & NR4A1   \\\\\n",
       "\tBCL2A1 & 2.8262151 &  4.7381055 & 2.9513723 &  0.8768818 & 2.16847636 & 5.7272497 &  3.1313487 & 2.3360649 &  2.7347175 &  3.6619912 & ⋯ &  5.4354148 & 2.4024630 &  3.2069086 &  3.6885705 & 4.1019404 &  3.5652240 & 0.5182421 &  2.1160787 & 3.1028752 & BCL2A1  \\\\\n",
       "\tCCL4 & 1.1018390 &  1.5527951 & 0.0000000 &  0.6242899 & 6.57960691 & 4.1346111 &  2.5873091 & 3.6516237 &  4.2955458 & 10.2004090 & ⋯ &  5.6665759 & 7.2875659 & 15.0563687 &  0.0000000 & 9.1341565 &  6.3192864 & 7.6549170 &  9.2862199 & 5.7308846 & CCL4    \\\\\n",
       "\tCCL4L2 & 0.9370591 &  0.0000000 & 0.0000000 &  0.2497160 & 0.47615685 & 1.4388446 &  0.0000000 & 1.9379729 &  3.3399175 & 16.7384573 & ⋯ &  0.0000000 & 1.1821867 &  9.0030176 &  0.0000000 & 2.7877787 & 15.1473436 & 1.0616542 &  2.1809557 & 1.9458263 & CCL4L2  \\\\\n",
       "\tMETRNL & 0.7280341 &  0.8812049 & 0.3369045 &  1.4251967 & 0.90240557 & 1.4324157 &  0.8424224 & 1.0150882 &  1.2720625 &  1.5296463 & ⋯ &  1.5707145 & 0.8392974 &  1.1715472 &  1.2053325 & 0.9074162 &  0.8111616 & 0.4661560 &  0.5783781 & 0.3494126 & METRNL  \\\\\n",
       "\tJUND & 6.5025936 & 10.6063046 & 9.5932323 &  5.5970975 & 5.93179573 & 5.4613274 &  5.4470990 & 6.1476095 &  7.7431713 &  7.0927095 & ⋯ &  8.4375315 & 4.9833660 &  7.1259237 &  6.1794427 & 6.7384775 &  3.8105160 & 3.6563280 &  5.0558323 & 5.3487975 & JUND    \\\\\n",
       "\tNFKBID & 0.9093488 &  0.3905030 & 0.0000000 &  1.3495042 & 0.25398497 & 0.6615723 &  0.4108464 & 0.4755424 &  1.1393729 &  0.9950950 & ⋯ &  1.2414475 & 0.9576927 &  1.6449569 &  0.8544818 & 0.7410834 &  0.8111616 & 1.2250745 &  0.7153490 & 0.6072916 & NFKBID  \\\\\n",
       "\tLGALS2 & 2.6197926 &  5.5983699 & 1.7042144 &  7.8796420 & 0.95795722 & 5.2551874 & 12.7346935 & 2.8404477 & 10.6624430 &  7.5132026 & ⋯ &  9.2332143 & 8.7137288 &  7.1690306 &  3.1794793 & 8.3922583 &  7.6963177 & 7.8195725 &  3.5852783 & 1.8361723 & LGALS2  \\\\\n",
       "\\end{tabular}\n"
      ],
      "text/markdown": [
       "\n",
       "A data.frame: 24 × 93\n",
       "\n",
       "| <!--/--> | IL1B..CD14.monocyte.PB00001.01_Female_BR1 &lt;dbl&gt; | IL1B..CD14.monocyte.PB00002.01_Male_BR1 &lt;dbl&gt; | IL1B..CD14.monocyte.PB00003.01_Female_BR1 &lt;dbl&gt; | IL1B..CD14.monocyte.PB00004.01_Male_BR1 &lt;dbl&gt; | IL1B..CD14.monocyte.PB00006.01_Female_BR1 &lt;dbl&gt; | IL1B..CD14.monocyte.PB00010.02_Male_BR1 &lt;dbl&gt; | IL1B..CD14.monocyte.PB00012.01_Female_BR1 &lt;dbl&gt; | IL1B..CD14.monocyte.PB00014.01_Male_BR1 &lt;dbl&gt; | IL1B..CD14.monocyte.PB00015.01_Male_BR2 &lt;dbl&gt; | IL1B..CD14.monocyte.PB00016.01_Female_BR2 &lt;dbl&gt; | ⋯ ⋯ | IL1B..CD14.monocyte.PB00599.01_Female_BR2 &lt;dbl&gt; | IL1B..CD14.monocyte.PB00600.01_Male_BR2 &lt;dbl&gt; | IL1B..CD14.monocyte.PB00602.01_Female_BR2 &lt;dbl&gt; | IL1B..CD14.monocyte.PB00621.01_Female_BR1 &lt;dbl&gt; | IL1B..CD14.monocyte.PB00623.01_Male_BR2 &lt;dbl&gt; | IL1B..CD14.monocyte.PB00625.02_Male_BR2 &lt;dbl&gt; | IL1B..CD14.monocyte.PB00645.01_Female_BR1 &lt;dbl&gt; | IL1B..CD14.monocyte.PB01425.01_Female_BR1 &lt;dbl&gt; | IL1B..CD14.monocyte.PB01446.01_Male_BR1 &lt;dbl&gt; | Gene &lt;chr&gt; |\n",
       "|---|---|---|---|---|---|---|---|---|---|---|---|---|---|---|---|---|---|---|---|---|---|\n",
       "| RBP7 | 1.5446736 |  2.9172496 | 4.2875680 |  2.9012661 | 2.10553407 | 2.9616959 |  3.7656026 | 2.7936544 |  1.2888000 |  2.3766452 | ⋯ |  2.3769310 | 3.4787175 |  2.5983585 |  1.3941257 | 3.1143687 |  0.0000000 | 3.3656297 |  4.1860342 | 2.3669016 | RBP7     |\n",
       "| TNFRSF1B | 3.5581048 |  4.3250580 | 1.6972927 |  4.3503733 | 4.10418923 | 2.9866571 |  3.2720926 | 3.7267957 |  3.4923769 |  4.6034351 | ⋯ |  3.2446461 | 4.3443244 |  3.3352350 |  2.8149872 | 3.6357247 |  2.9993544 | 5.8895173 |  2.5148588 | 3.8718769 | TNFRSF1B |\n",
       "| FCGR3A | 0.3997040 |  0.4449190 | 0.0000000 |  0.4725195 | 1.33631606 | 1.0683761 |  1.2325390 | 1.4968072 |  0.2542209 |  1.1559974 | ⋯ |  2.7341491 | 1.1922600 |  0.8876481 |  0.9439662 | 0.5151250 |  0.0000000 | 0.0000000 |  0.0000000 | 0.5168040 | FCGR3A   |\n",
       "| PTGS2 | 1.2641226 |  0.8260360 | 0.1684523 | 17.7486958 | 0.71640718 | 6.1033714 |  1.2396983 | 0.6347087 |  2.0915515 |  1.2892980 | ⋯ |  2.3148263 | 1.8791051 |  1.5635446 |  4.1387300 | 1.5336997 |  7.6963177 | 2.1407779 |  1.6804833 | 2.1091681 | PTGS2    |\n",
       "| G0S2 | 1.6543463 |  7.0246180 | 0.0000000 |  4.0917969 | 0.09878104 | 2.9292676 |  2.0773564 | 1.7533978 |  1.6997632 |  4.7628413 | ⋯ |  4.0065594 | 1.3130387 |  1.0000023 |  0.0000000 | 3.7699703 |  5.5081248 | 1.6341161 |  0.9331800 | 0.2992033 | G0S2     |\n",
       "| NLRP3 | 0.4410208 |  0.4881343 | 1.0322375 |  1.9034278 | 0.70673769 | 0.8324689 |  1.5214494 | 0.5950748 |  1.1059410 |  0.9447646 | ⋯ |  1.3006180 | 0.9768612 |  1.0256238 |  1.0165392 | 1.7819473 |  2.7540624 | 0.6936038 |  0.5914129 | 0.8936969 | NLRP3    |\n",
       "| IL1B | 2.3259647 |  2.4924543 | 2.6934041 |  7.5129118 | 7.80581979 | 7.8267070 |  4.2216938 | 2.3039864 | 11.5476502 |  9.7672100 | ⋯ |  5.3644734 | 6.9183871 |  6.3453824 |  1.6554920 | 8.2776935 | 24.9565678 | 3.5972903 | 10.8837843 | 3.5718620 | IL1B     |\n",
       "| CCR1 | 1.4908643 |  1.3307467 | 1.6827605 |  1.8057859 | 1.49824753 | 2.3064939 |  0.2810568 | 0.8265299 |  1.3094397 |  1.2591484 | ⋯ |  1.4545363 | 0.8777852 |  1.0259663 |  0.8544818 | 1.1050082 |  0.0000000 | 0.4392040 |  0.9627576 | 1.8185976 | CCR1     |\n",
       "| BCL6 | 0.7072238 |  0.0000000 | 0.1684523 |  0.3601532 | 0.69401118 | 0.5562466 |  0.0000000 | 0.4279693 |  0.4882470 |  0.5660078 | ⋯ |  1.1016584 | 0.8961238 |  0.9704355 |  0.8277460 | 0.6572687 |  0.8111616 | 0.7828344 |  1.2108651 | 0.8923085 | BCL6     |\n",
       "| CXCL8 | 3.3832231 |  1.5527951 | 4.0607507 | 12.3984326 | 3.54619591 | 3.0280454 | 11.8568901 | 3.0709957 |  4.4696993 |  9.5429535 | ⋯ | 12.6860659 | 6.5250654 |  3.0113520 |  6.6754394 | 5.8059633 |  3.2446463 | 4.0710897 |  3.2090916 | 3.2332911 | CXCL8    |\n",
       "| RASGEF1B | 1.0767464 |  0.2656748 | 0.8422613 |  1.0298540 | 0.56586805 | 1.7994897 |  2.0420734 | 0.2322528 |  1.8606188 |  1.1970643 | ⋯ |  1.0420749 | 0.5656100 |  0.7120563 |  0.7551730 | 0.4666394 |  0.0000000 | 0.2037216 |  0.1818711 | 0.7423119 | RASGEF1B |\n",
       "| TNF | 0.8716795 |  0.2656748 | 1.5975483 |  0.3775409 | 0.65585104 | 0.1409642 |  0.6847439 | 0.9756273 |  0.8073253 |  0.3824740 | ⋯ |  1.4685510 | 0.5973021 |  2.5986190 |  0.3775865 | 2.6820681 |  0.0000000 | 2.0407084 |  1.1945735 | 0.9073837 | TNF      |\n",
       "| FKBP5 | 1.1227406 |  1.4742042 | 1.0454144 |  1.7046544 | 1.49776540 | 1.0061467 |  2.0545399 | 0.8637446 |  1.2359595 |  1.0073254 | ⋯ |  0.6186863 | 0.8322140 |  0.7093436 |  0.3775865 | 0.7107019 |  0.0000000 | 0.8504999 |  0.4385835 | 1.4681053 | FKBP5    |\n",
       "| EIF1AX | 1.5871231 |  0.2656748 | 1.6360512 |  1.2800992 | 0.74952445 | 0.9437916 |  1.2208260 | 1.1740729 |  0.8736180 |  1.2691250 | ⋯ |  1.3816188 | 0.6931777 |  1.5828586 |  0.6160341 | 0.8681500 |  0.8111616 | 2.8713748 |  1.4544338 | 1.0977381 | EIF1AX   |\n",
       "| KLF6 | 4.5415277 |  4.3039824 | 1.6747592 |  2.0604410 | 4.39855928 | 4.4760246 |  3.3113617 | 2.7722050 |  6.2006195 |  3.9817168 | ⋯ |  8.7037309 | 5.4999919 |  5.5121639 | 12.4200069 | 4.3518744 |  2.1881928 | 6.5789430 |  6.2377832 | 3.8181650 | KLF6     |\n",
       "| UBE2D1 | 1.9099306 |  2.5525988 | 3.5026187 |  5.3881464 | 2.31124347 | 1.7528950 |  0.5649718 | 2.1529646 |  1.5695556 |  2.1014651 | ⋯ |  1.1933317 | 1.3100773 |  1.5002110 |  1.8213666 | 1.4669972 |  0.0000000 | 2.9723600 |  0.8728092 | 1.8526014 | UBE2D1   |\n",
       "| NR4A1 | 0.4424390 |  0.0000000 | 0.6738091 |  0.5369952 | 0.82287879 | 4.6505188 |  2.2542103 | 1.1646108 |  2.4463602 |  1.9824739 | ⋯ |  1.8019413 | 0.1753639 |  0.9308513 |  1.2817227 | 0.3069792 |  0.0000000 | 0.8276128 |  0.5012531 | 0.6079038 | NR4A1    |\n",
       "| BCL2A1 | 2.8262151 |  4.7381055 | 2.9513723 |  0.8768818 | 2.16847636 | 5.7272497 |  3.1313487 | 2.3360649 |  2.7347175 |  3.6619912 | ⋯ |  5.4354148 | 2.4024630 |  3.2069086 |  3.6885705 | 4.1019404 |  3.5652240 | 0.5182421 |  2.1160787 | 3.1028752 | BCL2A1   |\n",
       "| CCL4 | 1.1018390 |  1.5527951 | 0.0000000 |  0.6242899 | 6.57960691 | 4.1346111 |  2.5873091 | 3.6516237 |  4.2955458 | 10.2004090 | ⋯ |  5.6665759 | 7.2875659 | 15.0563687 |  0.0000000 | 9.1341565 |  6.3192864 | 7.6549170 |  9.2862199 | 5.7308846 | CCL4     |\n",
       "| CCL4L2 | 0.9370591 |  0.0000000 | 0.0000000 |  0.2497160 | 0.47615685 | 1.4388446 |  0.0000000 | 1.9379729 |  3.3399175 | 16.7384573 | ⋯ |  0.0000000 | 1.1821867 |  9.0030176 |  0.0000000 | 2.7877787 | 15.1473436 | 1.0616542 |  2.1809557 | 1.9458263 | CCL4L2   |\n",
       "| METRNL | 0.7280341 |  0.8812049 | 0.3369045 |  1.4251967 | 0.90240557 | 1.4324157 |  0.8424224 | 1.0150882 |  1.2720625 |  1.5296463 | ⋯ |  1.5707145 | 0.8392974 |  1.1715472 |  1.2053325 | 0.9074162 |  0.8111616 | 0.4661560 |  0.5783781 | 0.3494126 | METRNL   |\n",
       "| JUND | 6.5025936 | 10.6063046 | 9.5932323 |  5.5970975 | 5.93179573 | 5.4613274 |  5.4470990 | 6.1476095 |  7.7431713 |  7.0927095 | ⋯ |  8.4375315 | 4.9833660 |  7.1259237 |  6.1794427 | 6.7384775 |  3.8105160 | 3.6563280 |  5.0558323 | 5.3487975 | JUND     |\n",
       "| NFKBID | 0.9093488 |  0.3905030 | 0.0000000 |  1.3495042 | 0.25398497 | 0.6615723 |  0.4108464 | 0.4755424 |  1.1393729 |  0.9950950 | ⋯ |  1.2414475 | 0.9576927 |  1.6449569 |  0.8544818 | 0.7410834 |  0.8111616 | 1.2250745 |  0.7153490 | 0.6072916 | NFKBID   |\n",
       "| LGALS2 | 2.6197926 |  5.5983699 | 1.7042144 |  7.8796420 | 0.95795722 | 5.2551874 | 12.7346935 | 2.8404477 | 10.6624430 |  7.5132026 | ⋯ |  9.2332143 | 8.7137288 |  7.1690306 |  3.1794793 | 8.3922583 |  7.6963177 | 7.8195725 |  3.5852783 | 1.8361723 | LGALS2   |\n",
       "\n"
      ],
      "text/plain": [
       "         IL1B..CD14.monocyte.PB00001.01_Female_BR1\n",
       "RBP7     1.5446736                                \n",
       "TNFRSF1B 3.5581048                                \n",
       "FCGR3A   0.3997040                                \n",
       "PTGS2    1.2641226                                \n",
       "G0S2     1.6543463                                \n",
       "NLRP3    0.4410208                                \n",
       "IL1B     2.3259647                                \n",
       "CCR1     1.4908643                                \n",
       "BCL6     0.7072238                                \n",
       "CXCL8    3.3832231                                \n",
       "RASGEF1B 1.0767464                                \n",
       "TNF      0.8716795                                \n",
       "FKBP5    1.1227406                                \n",
       "EIF1AX   1.5871231                                \n",
       "KLF6     4.5415277                                \n",
       "UBE2D1   1.9099306                                \n",
       "NR4A1    0.4424390                                \n",
       "BCL2A1   2.8262151                                \n",
       "CCL4     1.1018390                                \n",
       "CCL4L2   0.9370591                                \n",
       "METRNL   0.7280341                                \n",
       "JUND     6.5025936                                \n",
       "NFKBID   0.9093488                                \n",
       "LGALS2   2.6197926                                \n",
       "         IL1B..CD14.monocyte.PB00002.01_Male_BR1\n",
       "RBP7      2.9172496                             \n",
       "TNFRSF1B  4.3250580                             \n",
       "FCGR3A    0.4449190                             \n",
       "PTGS2     0.8260360                             \n",
       "G0S2      7.0246180                             \n",
       "NLRP3     0.4881343                             \n",
       "IL1B      2.4924543                             \n",
       "CCR1      1.3307467                             \n",
       "BCL6      0.0000000                             \n",
       "CXCL8     1.5527951                             \n",
       "RASGEF1B  0.2656748                             \n",
       "TNF       0.2656748                             \n",
       "FKBP5     1.4742042                             \n",
       "EIF1AX    0.2656748                             \n",
       "KLF6      4.3039824                             \n",
       "UBE2D1    2.5525988                             \n",
       "NR4A1     0.0000000                             \n",
       "BCL2A1    4.7381055                             \n",
       "CCL4      1.5527951                             \n",
       "CCL4L2    0.0000000                             \n",
       "METRNL    0.8812049                             \n",
       "JUND     10.6063046                             \n",
       "NFKBID    0.3905030                             \n",
       "LGALS2    5.5983699                             \n",
       "         IL1B..CD14.monocyte.PB00003.01_Female_BR1\n",
       "RBP7     4.2875680                                \n",
       "TNFRSF1B 1.6972927                                \n",
       "FCGR3A   0.0000000                                \n",
       "PTGS2    0.1684523                                \n",
       "G0S2     0.0000000                                \n",
       "NLRP3    1.0322375                                \n",
       "IL1B     2.6934041                                \n",
       "CCR1     1.6827605                                \n",
       "BCL6     0.1684523                                \n",
       "CXCL8    4.0607507                                \n",
       "RASGEF1B 0.8422613                                \n",
       "TNF      1.5975483                                \n",
       "FKBP5    1.0454144                                \n",
       "EIF1AX   1.6360512                                \n",
       "KLF6     1.6747592                                \n",
       "UBE2D1   3.5026187                                \n",
       "NR4A1    0.6738091                                \n",
       "BCL2A1   2.9513723                                \n",
       "CCL4     0.0000000                                \n",
       "CCL4L2   0.0000000                                \n",
       "METRNL   0.3369045                                \n",
       "JUND     9.5932323                                \n",
       "NFKBID   0.0000000                                \n",
       "LGALS2   1.7042144                                \n",
       "         IL1B..CD14.monocyte.PB00004.01_Male_BR1\n",
       "RBP7      2.9012661                             \n",
       "TNFRSF1B  4.3503733                             \n",
       "FCGR3A    0.4725195                             \n",
       "PTGS2    17.7486958                             \n",
       "G0S2      4.0917969                             \n",
       "NLRP3     1.9034278                             \n",
       "IL1B      7.5129118                             \n",
       "CCR1      1.8057859                             \n",
       "BCL6      0.3601532                             \n",
       "CXCL8    12.3984326                             \n",
       "RASGEF1B  1.0298540                             \n",
       "TNF       0.3775409                             \n",
       "FKBP5     1.7046544                             \n",
       "EIF1AX    1.2800992                             \n",
       "KLF6      2.0604410                             \n",
       "UBE2D1    5.3881464                             \n",
       "NR4A1     0.5369952                             \n",
       "BCL2A1    0.8768818                             \n",
       "CCL4      0.6242899                             \n",
       "CCL4L2    0.2497160                             \n",
       "METRNL    1.4251967                             \n",
       "JUND      5.5970975                             \n",
       "NFKBID    1.3495042                             \n",
       "LGALS2    7.8796420                             \n",
       "         IL1B..CD14.monocyte.PB00006.01_Female_BR1\n",
       "RBP7     2.10553407                               \n",
       "TNFRSF1B 4.10418923                               \n",
       "FCGR3A   1.33631606                               \n",
       "PTGS2    0.71640718                               \n",
       "G0S2     0.09878104                               \n",
       "NLRP3    0.70673769                               \n",
       "IL1B     7.80581979                               \n",
       "CCR1     1.49824753                               \n",
       "BCL6     0.69401118                               \n",
       "CXCL8    3.54619591                               \n",
       "RASGEF1B 0.56586805                               \n",
       "TNF      0.65585104                               \n",
       "FKBP5    1.49776540                               \n",
       "EIF1AX   0.74952445                               \n",
       "KLF6     4.39855928                               \n",
       "UBE2D1   2.31124347                               \n",
       "NR4A1    0.82287879                               \n",
       "BCL2A1   2.16847636                               \n",
       "CCL4     6.57960691                               \n",
       "CCL4L2   0.47615685                               \n",
       "METRNL   0.90240557                               \n",
       "JUND     5.93179573                               \n",
       "NFKBID   0.25398497                               \n",
       "LGALS2   0.95795722                               \n",
       "         IL1B..CD14.monocyte.PB00010.02_Male_BR1\n",
       "RBP7     2.9616959                              \n",
       "TNFRSF1B 2.9866571                              \n",
       "FCGR3A   1.0683761                              \n",
       "PTGS2    6.1033714                              \n",
       "G0S2     2.9292676                              \n",
       "NLRP3    0.8324689                              \n",
       "IL1B     7.8267070                              \n",
       "CCR1     2.3064939                              \n",
       "BCL6     0.5562466                              \n",
       "CXCL8    3.0280454                              \n",
       "RASGEF1B 1.7994897                              \n",
       "TNF      0.1409642                              \n",
       "FKBP5    1.0061467                              \n",
       "EIF1AX   0.9437916                              \n",
       "KLF6     4.4760246                              \n",
       "UBE2D1   1.7528950                              \n",
       "NR4A1    4.6505188                              \n",
       "BCL2A1   5.7272497                              \n",
       "CCL4     4.1346111                              \n",
       "CCL4L2   1.4388446                              \n",
       "METRNL   1.4324157                              \n",
       "JUND     5.4613274                              \n",
       "NFKBID   0.6615723                              \n",
       "LGALS2   5.2551874                              \n",
       "         IL1B..CD14.monocyte.PB00012.01_Female_BR1\n",
       "RBP7      3.7656026                               \n",
       "TNFRSF1B  3.2720926                               \n",
       "FCGR3A    1.2325390                               \n",
       "PTGS2     1.2396983                               \n",
       "G0S2      2.0773564                               \n",
       "NLRP3     1.5214494                               \n",
       "IL1B      4.2216938                               \n",
       "CCR1      0.2810568                               \n",
       "BCL6      0.0000000                               \n",
       "CXCL8    11.8568901                               \n",
       "RASGEF1B  2.0420734                               \n",
       "TNF       0.6847439                               \n",
       "FKBP5     2.0545399                               \n",
       "EIF1AX    1.2208260                               \n",
       "KLF6      3.3113617                               \n",
       "UBE2D1    0.5649718                               \n",
       "NR4A1     2.2542103                               \n",
       "BCL2A1    3.1313487                               \n",
       "CCL4      2.5873091                               \n",
       "CCL4L2    0.0000000                               \n",
       "METRNL    0.8424224                               \n",
       "JUND      5.4470990                               \n",
       "NFKBID    0.4108464                               \n",
       "LGALS2   12.7346935                               \n",
       "         IL1B..CD14.monocyte.PB00014.01_Male_BR1\n",
       "RBP7     2.7936544                              \n",
       "TNFRSF1B 3.7267957                              \n",
       "FCGR3A   1.4968072                              \n",
       "PTGS2    0.6347087                              \n",
       "G0S2     1.7533978                              \n",
       "NLRP3    0.5950748                              \n",
       "IL1B     2.3039864                              \n",
       "CCR1     0.8265299                              \n",
       "BCL6     0.4279693                              \n",
       "CXCL8    3.0709957                              \n",
       "RASGEF1B 0.2322528                              \n",
       "TNF      0.9756273                              \n",
       "FKBP5    0.8637446                              \n",
       "EIF1AX   1.1740729                              \n",
       "KLF6     2.7722050                              \n",
       "UBE2D1   2.1529646                              \n",
       "NR4A1    1.1646108                              \n",
       "BCL2A1   2.3360649                              \n",
       "CCL4     3.6516237                              \n",
       "CCL4L2   1.9379729                              \n",
       "METRNL   1.0150882                              \n",
       "JUND     6.1476095                              \n",
       "NFKBID   0.4755424                              \n",
       "LGALS2   2.8404477                              \n",
       "         IL1B..CD14.monocyte.PB00015.01_Male_BR2\n",
       "RBP7      1.2888000                             \n",
       "TNFRSF1B  3.4923769                             \n",
       "FCGR3A    0.2542209                             \n",
       "PTGS2     2.0915515                             \n",
       "G0S2      1.6997632                             \n",
       "NLRP3     1.1059410                             \n",
       "IL1B     11.5476502                             \n",
       "CCR1      1.3094397                             \n",
       "BCL6      0.4882470                             \n",
       "CXCL8     4.4696993                             \n",
       "RASGEF1B  1.8606188                             \n",
       "TNF       0.8073253                             \n",
       "FKBP5     1.2359595                             \n",
       "EIF1AX    0.8736180                             \n",
       "KLF6      6.2006195                             \n",
       "UBE2D1    1.5695556                             \n",
       "NR4A1     2.4463602                             \n",
       "BCL2A1    2.7347175                             \n",
       "CCL4      4.2955458                             \n",
       "CCL4L2    3.3399175                             \n",
       "METRNL    1.2720625                             \n",
       "JUND      7.7431713                             \n",
       "NFKBID    1.1393729                             \n",
       "LGALS2   10.6624430                             \n",
       "         IL1B..CD14.monocyte.PB00016.01_Female_BR2 ⋯\n",
       "RBP7      2.3766452                                ⋯\n",
       "TNFRSF1B  4.6034351                                ⋯\n",
       "FCGR3A    1.1559974                                ⋯\n",
       "PTGS2     1.2892980                                ⋯\n",
       "G0S2      4.7628413                                ⋯\n",
       "NLRP3     0.9447646                                ⋯\n",
       "IL1B      9.7672100                                ⋯\n",
       "CCR1      1.2591484                                ⋯\n",
       "BCL6      0.5660078                                ⋯\n",
       "CXCL8     9.5429535                                ⋯\n",
       "RASGEF1B  1.1970643                                ⋯\n",
       "TNF       0.3824740                                ⋯\n",
       "FKBP5     1.0073254                                ⋯\n",
       "EIF1AX    1.2691250                                ⋯\n",
       "KLF6      3.9817168                                ⋯\n",
       "UBE2D1    2.1014651                                ⋯\n",
       "NR4A1     1.9824739                                ⋯\n",
       "BCL2A1    3.6619912                                ⋯\n",
       "CCL4     10.2004090                                ⋯\n",
       "CCL4L2   16.7384573                                ⋯\n",
       "METRNL    1.5296463                                ⋯\n",
       "JUND      7.0927095                                ⋯\n",
       "NFKBID    0.9950950                                ⋯\n",
       "LGALS2    7.5132026                                ⋯\n",
       "         IL1B..CD14.monocyte.PB00599.01_Female_BR2\n",
       "RBP7      2.3769310                               \n",
       "TNFRSF1B  3.2446461                               \n",
       "FCGR3A    2.7341491                               \n",
       "PTGS2     2.3148263                               \n",
       "G0S2      4.0065594                               \n",
       "NLRP3     1.3006180                               \n",
       "IL1B      5.3644734                               \n",
       "CCR1      1.4545363                               \n",
       "BCL6      1.1016584                               \n",
       "CXCL8    12.6860659                               \n",
       "RASGEF1B  1.0420749                               \n",
       "TNF       1.4685510                               \n",
       "FKBP5     0.6186863                               \n",
       "EIF1AX    1.3816188                               \n",
       "KLF6      8.7037309                               \n",
       "UBE2D1    1.1933317                               \n",
       "NR4A1     1.8019413                               \n",
       "BCL2A1    5.4354148                               \n",
       "CCL4      5.6665759                               \n",
       "CCL4L2    0.0000000                               \n",
       "METRNL    1.5707145                               \n",
       "JUND      8.4375315                               \n",
       "NFKBID    1.2414475                               \n",
       "LGALS2    9.2332143                               \n",
       "         IL1B..CD14.monocyte.PB00600.01_Male_BR2\n",
       "RBP7     3.4787175                              \n",
       "TNFRSF1B 4.3443244                              \n",
       "FCGR3A   1.1922600                              \n",
       "PTGS2    1.8791051                              \n",
       "G0S2     1.3130387                              \n",
       "NLRP3    0.9768612                              \n",
       "IL1B     6.9183871                              \n",
       "CCR1     0.8777852                              \n",
       "BCL6     0.8961238                              \n",
       "CXCL8    6.5250654                              \n",
       "RASGEF1B 0.5656100                              \n",
       "TNF      0.5973021                              \n",
       "FKBP5    0.8322140                              \n",
       "EIF1AX   0.6931777                              \n",
       "KLF6     5.4999919                              \n",
       "UBE2D1   1.3100773                              \n",
       "NR4A1    0.1753639                              \n",
       "BCL2A1   2.4024630                              \n",
       "CCL4     7.2875659                              \n",
       "CCL4L2   1.1821867                              \n",
       "METRNL   0.8392974                              \n",
       "JUND     4.9833660                              \n",
       "NFKBID   0.9576927                              \n",
       "LGALS2   8.7137288                              \n",
       "         IL1B..CD14.monocyte.PB00602.01_Female_BR2\n",
       "RBP7      2.5983585                               \n",
       "TNFRSF1B  3.3352350                               \n",
       "FCGR3A    0.8876481                               \n",
       "PTGS2     1.5635446                               \n",
       "G0S2      1.0000023                               \n",
       "NLRP3     1.0256238                               \n",
       "IL1B      6.3453824                               \n",
       "CCR1      1.0259663                               \n",
       "BCL6      0.9704355                               \n",
       "CXCL8     3.0113520                               \n",
       "RASGEF1B  0.7120563                               \n",
       "TNF       2.5986190                               \n",
       "FKBP5     0.7093436                               \n",
       "EIF1AX    1.5828586                               \n",
       "KLF6      5.5121639                               \n",
       "UBE2D1    1.5002110                               \n",
       "NR4A1     0.9308513                               \n",
       "BCL2A1    3.2069086                               \n",
       "CCL4     15.0563687                               \n",
       "CCL4L2    9.0030176                               \n",
       "METRNL    1.1715472                               \n",
       "JUND      7.1259237                               \n",
       "NFKBID    1.6449569                               \n",
       "LGALS2    7.1690306                               \n",
       "         IL1B..CD14.monocyte.PB00621.01_Female_BR1\n",
       "RBP7      1.3941257                               \n",
       "TNFRSF1B  2.8149872                               \n",
       "FCGR3A    0.9439662                               \n",
       "PTGS2     4.1387300                               \n",
       "G0S2      0.0000000                               \n",
       "NLRP3     1.0165392                               \n",
       "IL1B      1.6554920                               \n",
       "CCR1      0.8544818                               \n",
       "BCL6      0.8277460                               \n",
       "CXCL8     6.6754394                               \n",
       "RASGEF1B  0.7551730                               \n",
       "TNF       0.3775865                               \n",
       "FKBP5     0.3775865                               \n",
       "EIF1AX    0.6160341                               \n",
       "KLF6     12.4200069                               \n",
       "UBE2D1    1.8213666                               \n",
       "NR4A1     1.2817227                               \n",
       "BCL2A1    3.6885705                               \n",
       "CCL4      0.0000000                               \n",
       "CCL4L2    0.0000000                               \n",
       "METRNL    1.2053325                               \n",
       "JUND      6.1794427                               \n",
       "NFKBID    0.8544818                               \n",
       "LGALS2    3.1794793                               \n",
       "         IL1B..CD14.monocyte.PB00623.01_Male_BR2\n",
       "RBP7     3.1143687                              \n",
       "TNFRSF1B 3.6357247                              \n",
       "FCGR3A   0.5151250                              \n",
       "PTGS2    1.5336997                              \n",
       "G0S2     3.7699703                              \n",
       "NLRP3    1.7819473                              \n",
       "IL1B     8.2776935                              \n",
       "CCR1     1.1050082                              \n",
       "BCL6     0.6572687                              \n",
       "CXCL8    5.8059633                              \n",
       "RASGEF1B 0.4666394                              \n",
       "TNF      2.6820681                              \n",
       "FKBP5    0.7107019                              \n",
       "EIF1AX   0.8681500                              \n",
       "KLF6     4.3518744                              \n",
       "UBE2D1   1.4669972                              \n",
       "NR4A1    0.3069792                              \n",
       "BCL2A1   4.1019404                              \n",
       "CCL4     9.1341565                              \n",
       "CCL4L2   2.7877787                              \n",
       "METRNL   0.9074162                              \n",
       "JUND     6.7384775                              \n",
       "NFKBID   0.7410834                              \n",
       "LGALS2   8.3922583                              \n",
       "         IL1B..CD14.monocyte.PB00625.02_Male_BR2\n",
       "RBP7      0.0000000                             \n",
       "TNFRSF1B  2.9993544                             \n",
       "FCGR3A    0.0000000                             \n",
       "PTGS2     7.6963177                             \n",
       "G0S2      5.5081248                             \n",
       "NLRP3     2.7540624                             \n",
       "IL1B     24.9565678                             \n",
       "CCR1      0.0000000                             \n",
       "BCL6      0.8111616                             \n",
       "CXCL8     3.2446463                             \n",
       "RASGEF1B  0.0000000                             \n",
       "TNF       0.0000000                             \n",
       "FKBP5     0.0000000                             \n",
       "EIF1AX    0.8111616                             \n",
       "KLF6      2.1881928                             \n",
       "UBE2D1    0.0000000                             \n",
       "NR4A1     0.0000000                             \n",
       "BCL2A1    3.5652240                             \n",
       "CCL4      6.3192864                             \n",
       "CCL4L2   15.1473436                             \n",
       "METRNL    0.8111616                             \n",
       "JUND      3.8105160                             \n",
       "NFKBID    0.8111616                             \n",
       "LGALS2    7.6963177                             \n",
       "         IL1B..CD14.monocyte.PB00645.01_Female_BR1\n",
       "RBP7     3.3656297                                \n",
       "TNFRSF1B 5.8895173                                \n",
       "FCGR3A   0.0000000                                \n",
       "PTGS2    2.1407779                                \n",
       "G0S2     1.6341161                                \n",
       "NLRP3    0.6936038                                \n",
       "IL1B     3.5972903                                \n",
       "CCR1     0.4392040                                \n",
       "BCL6     0.7828344                                \n",
       "CXCL8    4.0710897                                \n",
       "RASGEF1B 0.2037216                                \n",
       "TNF      2.0407084                                \n",
       "FKBP5    0.8504999                                \n",
       "EIF1AX   2.8713748                                \n",
       "KLF6     6.5789430                                \n",
       "UBE2D1   2.9723600                                \n",
       "NR4A1    0.8276128                                \n",
       "BCL2A1   0.5182421                                \n",
       "CCL4     7.6549170                                \n",
       "CCL4L2   1.0616542                                \n",
       "METRNL   0.4661560                                \n",
       "JUND     3.6563280                                \n",
       "NFKBID   1.2250745                                \n",
       "LGALS2   7.8195725                                \n",
       "         IL1B..CD14.monocyte.PB01425.01_Female_BR1\n",
       "RBP7      4.1860342                               \n",
       "TNFRSF1B  2.5148588                               \n",
       "FCGR3A    0.0000000                               \n",
       "PTGS2     1.6804833                               \n",
       "G0S2      0.9331800                               \n",
       "NLRP3     0.5914129                               \n",
       "IL1B     10.8837843                               \n",
       "CCR1      0.9627576                               \n",
       "BCL6      1.2108651                               \n",
       "CXCL8     3.2090916                               \n",
       "RASGEF1B  0.1818711                               \n",
       "TNF       1.1945735                               \n",
       "FKBP5     0.4385835                               \n",
       "EIF1AX    1.4544338                               \n",
       "KLF6      6.2377832                               \n",
       "UBE2D1    0.8728092                               \n",
       "NR4A1     0.5012531                               \n",
       "BCL2A1    2.1160787                               \n",
       "CCL4      9.2862199                               \n",
       "CCL4L2    2.1809557                               \n",
       "METRNL    0.5783781                               \n",
       "JUND      5.0558323                               \n",
       "NFKBID    0.7153490                               \n",
       "LGALS2    3.5852783                               \n",
       "         IL1B..CD14.monocyte.PB01446.01_Male_BR1 Gene    \n",
       "RBP7     2.3669016                               RBP7    \n",
       "TNFRSF1B 3.8718769                               TNFRSF1B\n",
       "FCGR3A   0.5168040                               FCGR3A  \n",
       "PTGS2    2.1091681                               PTGS2   \n",
       "G0S2     0.2992033                               G0S2    \n",
       "NLRP3    0.8936969                               NLRP3   \n",
       "IL1B     3.5718620                               IL1B    \n",
       "CCR1     1.8185976                               CCR1    \n",
       "BCL6     0.8923085                               BCL6    \n",
       "CXCL8    3.2332911                               CXCL8   \n",
       "RASGEF1B 0.7423119                               RASGEF1B\n",
       "TNF      0.9073837                               TNF     \n",
       "FKBP5    1.4681053                               FKBP5   \n",
       "EIF1AX   1.0977381                               EIF1AX  \n",
       "KLF6     3.8181650                               KLF6    \n",
       "UBE2D1   1.8526014                               UBE2D1  \n",
       "NR4A1    0.6079038                               NR4A1   \n",
       "BCL2A1   3.1028752                               BCL2A1  \n",
       "CCL4     5.7308846                               CCL4    \n",
       "CCL4L2   1.9458263                               CCL4L2  \n",
       "METRNL   0.3494126                               METRNL  \n",
       "JUND     5.3487975                               JUND    \n",
       "NFKBID   0.6072916                               NFKBID  \n",
       "LGALS2   1.8361723                               LGALS2  "
      ]
     },
     "metadata": {},
     "output_type": "display_data"
    },
    {
     "data": {
      "text/html": [
       "<style>\n",
       ".list-inline {list-style: none; margin:0; padding: 0}\n",
       ".list-inline>li {display: inline-block}\n",
       ".list-inline>li:not(:last-child)::after {content: \"\\00b7\"; padding: 0 .5ex}\n",
       "</style>\n",
       "<ol class=list-inline><li>'RBP7'</li><li>'TNFRSF1B'</li><li>'FCGR3A'</li><li>'PTGS2'</li><li>'G0S2'</li><li>'NLRP3'</li><li>'IL1B'</li><li>'CCR1'</li><li>'BCL6'</li><li>'CXCL8'</li><li>'RASGEF1B'</li><li>'TNF'</li><li>'FKBP5'</li><li>'EIF1AX'</li><li>'KLF6'</li><li>'UBE2D1'</li><li>'NR4A1'</li><li>'BCL2A1'</li><li>'CCL4'</li><li>'CCL4L2'</li><li>'METRNL'</li><li>'JUND'</li><li>'NFKBID'</li><li>'LGALS2'</li></ol>\n"
      ],
      "text/latex": [
       "\\begin{enumerate*}\n",
       "\\item 'RBP7'\n",
       "\\item 'TNFRSF1B'\n",
       "\\item 'FCGR3A'\n",
       "\\item 'PTGS2'\n",
       "\\item 'G0S2'\n",
       "\\item 'NLRP3'\n",
       "\\item 'IL1B'\n",
       "\\item 'CCR1'\n",
       "\\item 'BCL6'\n",
       "\\item 'CXCL8'\n",
       "\\item 'RASGEF1B'\n",
       "\\item 'TNF'\n",
       "\\item 'FKBP5'\n",
       "\\item 'EIF1AX'\n",
       "\\item 'KLF6'\n",
       "\\item 'UBE2D1'\n",
       "\\item 'NR4A1'\n",
       "\\item 'BCL2A1'\n",
       "\\item 'CCL4'\n",
       "\\item 'CCL4L2'\n",
       "\\item 'METRNL'\n",
       "\\item 'JUND'\n",
       "\\item 'NFKBID'\n",
       "\\item 'LGALS2'\n",
       "\\end{enumerate*}\n"
      ],
      "text/markdown": [
       "1. 'RBP7'\n",
       "2. 'TNFRSF1B'\n",
       "3. 'FCGR3A'\n",
       "4. 'PTGS2'\n",
       "5. 'G0S2'\n",
       "6. 'NLRP3'\n",
       "7. 'IL1B'\n",
       "8. 'CCR1'\n",
       "9. 'BCL6'\n",
       "10. 'CXCL8'\n",
       "11. 'RASGEF1B'\n",
       "12. 'TNF'\n",
       "13. 'FKBP5'\n",
       "14. 'EIF1AX'\n",
       "15. 'KLF6'\n",
       "16. 'UBE2D1'\n",
       "17. 'NR4A1'\n",
       "18. 'BCL2A1'\n",
       "19. 'CCL4'\n",
       "20. 'CCL4L2'\n",
       "21. 'METRNL'\n",
       "22. 'JUND'\n",
       "23. 'NFKBID'\n",
       "24. 'LGALS2'\n",
       "\n",
       "\n"
      ],
      "text/plain": [
       " [1] \"RBP7\"     \"TNFRSF1B\" \"FCGR3A\"   \"PTGS2\"    \"G0S2\"     \"NLRP3\"   \n",
       " [7] \"IL1B\"     \"CCR1\"     \"BCL6\"     \"CXCL8\"    \"RASGEF1B\" \"TNF\"     \n",
       "[13] \"FKBP5\"    \"EIF1AX\"   \"KLF6\"     \"UBE2D1\"   \"NR4A1\"    \"BCL2A1\"  \n",
       "[19] \"CCL4\"     \"CCL4L2\"   \"METRNL\"   \"JUND\"     \"NFKBID\"   \"LGALS2\"  "
      ]
     },
     "metadata": {},
     "output_type": "display_data"
    }
   ],
   "source": [
    "df\n",
    "#length(df$IL1B..CD14.monocyte.PB00001.01_Female_BR1)\n",
    "unique(df$Gene)"
   ]
  },
  {
   "cell_type": "code",
   "execution_count": 116,
   "id": "24a9e8b1-02e5-457b-8e99-9202311143ed",
   "metadata": {
    "tags": []
   },
   "outputs": [],
   "source": [
    "df <- df[,!(names(df) %in% c('Gene'))]"
   ]
  },
  {
   "cell_type": "code",
   "execution_count": 117,
   "id": "e26400a3-4027-40a8-b230-c0eaa26533d0",
   "metadata": {
    "tags": []
   },
   "outputs": [],
   "source": [
    "df <- df %>% t() %>% as.data.frame()"
   ]
  },
  {
   "cell_type": "code",
   "execution_count": 118,
   "id": "abd8fadb-9b96-419f-b9fa-cf9f888dba91",
   "metadata": {
    "tags": []
   },
   "outputs": [
    {
     "data": {
      "text/html": [
       "<table class=\"dataframe\">\n",
       "<caption>A data.frame: 6 × 24</caption>\n",
       "<thead>\n",
       "\t<tr><th></th><th scope=col>RBP7</th><th scope=col>TNFRSF1B</th><th scope=col>FCGR3A</th><th scope=col>PTGS2</th><th scope=col>G0S2</th><th scope=col>NLRP3</th><th scope=col>IL1B</th><th scope=col>CCR1</th><th scope=col>BCL6</th><th scope=col>CXCL8</th><th scope=col>⋯</th><th scope=col>KLF6</th><th scope=col>UBE2D1</th><th scope=col>NR4A1</th><th scope=col>BCL2A1</th><th scope=col>CCL4</th><th scope=col>CCL4L2</th><th scope=col>METRNL</th><th scope=col>JUND</th><th scope=col>NFKBID</th><th scope=col>LGALS2</th></tr>\n",
       "\t<tr><th></th><th scope=col>&lt;dbl&gt;</th><th scope=col>&lt;dbl&gt;</th><th scope=col>&lt;dbl&gt;</th><th scope=col>&lt;dbl&gt;</th><th scope=col>&lt;dbl&gt;</th><th scope=col>&lt;dbl&gt;</th><th scope=col>&lt;dbl&gt;</th><th scope=col>&lt;dbl&gt;</th><th scope=col>&lt;dbl&gt;</th><th scope=col>&lt;dbl&gt;</th><th scope=col>⋯</th><th scope=col>&lt;dbl&gt;</th><th scope=col>&lt;dbl&gt;</th><th scope=col>&lt;dbl&gt;</th><th scope=col>&lt;dbl&gt;</th><th scope=col>&lt;dbl&gt;</th><th scope=col>&lt;dbl&gt;</th><th scope=col>&lt;dbl&gt;</th><th scope=col>&lt;dbl&gt;</th><th scope=col>&lt;dbl&gt;</th><th scope=col>&lt;dbl&gt;</th></tr>\n",
       "</thead>\n",
       "<tbody>\n",
       "\t<tr><th scope=row>IL1B..CD14.monocyte.PB00001.01_Female_BR1</th><td>1.544674</td><td>3.558105</td><td>0.3997040</td><td> 1.2641226</td><td>1.65434632</td><td>0.4410208</td><td>2.325965</td><td>1.490864</td><td>0.7072238</td><td> 3.383223</td><td>⋯</td><td>4.541528</td><td>1.909931</td><td>0.4424390</td><td>2.8262151</td><td>1.1018390</td><td>0.9370591</td><td>0.7280341</td><td> 6.502594</td><td>0.9093488</td><td>2.6197926</td></tr>\n",
       "\t<tr><th scope=row>IL1B..CD14.monocyte.PB00002.01_Male_BR1</th><td>2.917250</td><td>4.325058</td><td>0.4449190</td><td> 0.8260360</td><td>7.02461803</td><td>0.4881343</td><td>2.492454</td><td>1.330747</td><td>0.0000000</td><td> 1.552795</td><td>⋯</td><td>4.303982</td><td>2.552599</td><td>0.0000000</td><td>4.7381055</td><td>1.5527951</td><td>0.0000000</td><td>0.8812049</td><td>10.606305</td><td>0.3905030</td><td>5.5983699</td></tr>\n",
       "\t<tr><th scope=row>IL1B..CD14.monocyte.PB00003.01_Female_BR1</th><td>4.287568</td><td>1.697293</td><td>0.0000000</td><td> 0.1684523</td><td>0.00000000</td><td>1.0322375</td><td>2.693404</td><td>1.682760</td><td>0.1684523</td><td> 4.060751</td><td>⋯</td><td>1.674759</td><td>3.502619</td><td>0.6738091</td><td>2.9513723</td><td>0.0000000</td><td>0.0000000</td><td>0.3369045</td><td> 9.593232</td><td>0.0000000</td><td>1.7042144</td></tr>\n",
       "\t<tr><th scope=row>IL1B..CD14.monocyte.PB00004.01_Male_BR1</th><td>2.901266</td><td>4.350373</td><td>0.4725195</td><td>17.7486958</td><td>4.09179690</td><td>1.9034278</td><td>7.512912</td><td>1.805786</td><td>0.3601532</td><td>12.398433</td><td>⋯</td><td>2.060441</td><td>5.388146</td><td>0.5369952</td><td>0.8768818</td><td>0.6242899</td><td>0.2497160</td><td>1.4251967</td><td> 5.597097</td><td>1.3495042</td><td>7.8796420</td></tr>\n",
       "\t<tr><th scope=row>IL1B..CD14.monocyte.PB00006.01_Female_BR1</th><td>2.105534</td><td>4.104189</td><td>1.3363161</td><td> 0.7164072</td><td>0.09878104</td><td>0.7067377</td><td>7.805820</td><td>1.498248</td><td>0.6940112</td><td> 3.546196</td><td>⋯</td><td>4.398559</td><td>2.311243</td><td>0.8228788</td><td>2.1684764</td><td>6.5796069</td><td>0.4761568</td><td>0.9024056</td><td> 5.931796</td><td>0.2539850</td><td>0.9579572</td></tr>\n",
       "\t<tr><th scope=row>IL1B..CD14.monocyte.PB00010.02_Male_BR1</th><td>2.961696</td><td>2.986657</td><td>1.0683761</td><td> 6.1033714</td><td>2.92926760</td><td>0.8324689</td><td>7.826707</td><td>2.306494</td><td>0.5562466</td><td> 3.028045</td><td>⋯</td><td>4.476025</td><td>1.752895</td><td>4.6505188</td><td>5.7272497</td><td>4.1346111</td><td>1.4388446</td><td>1.4324157</td><td> 5.461327</td><td>0.6615723</td><td>5.2551874</td></tr>\n",
       "</tbody>\n",
       "</table>\n"
      ],
      "text/latex": [
       "A data.frame: 6 × 24\n",
       "\\begin{tabular}{r|lllllllllllllllllllll}\n",
       "  & RBP7 & TNFRSF1B & FCGR3A & PTGS2 & G0S2 & NLRP3 & IL1B & CCR1 & BCL6 & CXCL8 & ⋯ & KLF6 & UBE2D1 & NR4A1 & BCL2A1 & CCL4 & CCL4L2 & METRNL & JUND & NFKBID & LGALS2\\\\\n",
       "  & <dbl> & <dbl> & <dbl> & <dbl> & <dbl> & <dbl> & <dbl> & <dbl> & <dbl> & <dbl> & ⋯ & <dbl> & <dbl> & <dbl> & <dbl> & <dbl> & <dbl> & <dbl> & <dbl> & <dbl> & <dbl>\\\\\n",
       "\\hline\n",
       "\tIL1B..CD14.monocyte.PB00001.01\\_Female\\_BR1 & 1.544674 & 3.558105 & 0.3997040 &  1.2641226 & 1.65434632 & 0.4410208 & 2.325965 & 1.490864 & 0.7072238 &  3.383223 & ⋯ & 4.541528 & 1.909931 & 0.4424390 & 2.8262151 & 1.1018390 & 0.9370591 & 0.7280341 &  6.502594 & 0.9093488 & 2.6197926\\\\\n",
       "\tIL1B..CD14.monocyte.PB00002.01\\_Male\\_BR1 & 2.917250 & 4.325058 & 0.4449190 &  0.8260360 & 7.02461803 & 0.4881343 & 2.492454 & 1.330747 & 0.0000000 &  1.552795 & ⋯ & 4.303982 & 2.552599 & 0.0000000 & 4.7381055 & 1.5527951 & 0.0000000 & 0.8812049 & 10.606305 & 0.3905030 & 5.5983699\\\\\n",
       "\tIL1B..CD14.monocyte.PB00003.01\\_Female\\_BR1 & 4.287568 & 1.697293 & 0.0000000 &  0.1684523 & 0.00000000 & 1.0322375 & 2.693404 & 1.682760 & 0.1684523 &  4.060751 & ⋯ & 1.674759 & 3.502619 & 0.6738091 & 2.9513723 & 0.0000000 & 0.0000000 & 0.3369045 &  9.593232 & 0.0000000 & 1.7042144\\\\\n",
       "\tIL1B..CD14.monocyte.PB00004.01\\_Male\\_BR1 & 2.901266 & 4.350373 & 0.4725195 & 17.7486958 & 4.09179690 & 1.9034278 & 7.512912 & 1.805786 & 0.3601532 & 12.398433 & ⋯ & 2.060441 & 5.388146 & 0.5369952 & 0.8768818 & 0.6242899 & 0.2497160 & 1.4251967 &  5.597097 & 1.3495042 & 7.8796420\\\\\n",
       "\tIL1B..CD14.monocyte.PB00006.01\\_Female\\_BR1 & 2.105534 & 4.104189 & 1.3363161 &  0.7164072 & 0.09878104 & 0.7067377 & 7.805820 & 1.498248 & 0.6940112 &  3.546196 & ⋯ & 4.398559 & 2.311243 & 0.8228788 & 2.1684764 & 6.5796069 & 0.4761568 & 0.9024056 &  5.931796 & 0.2539850 & 0.9579572\\\\\n",
       "\tIL1B..CD14.monocyte.PB00010.02\\_Male\\_BR1 & 2.961696 & 2.986657 & 1.0683761 &  6.1033714 & 2.92926760 & 0.8324689 & 7.826707 & 2.306494 & 0.5562466 &  3.028045 & ⋯ & 4.476025 & 1.752895 & 4.6505188 & 5.7272497 & 4.1346111 & 1.4388446 & 1.4324157 &  5.461327 & 0.6615723 & 5.2551874\\\\\n",
       "\\end{tabular}\n"
      ],
      "text/markdown": [
       "\n",
       "A data.frame: 6 × 24\n",
       "\n",
       "| <!--/--> | RBP7 &lt;dbl&gt; | TNFRSF1B &lt;dbl&gt; | FCGR3A &lt;dbl&gt; | PTGS2 &lt;dbl&gt; | G0S2 &lt;dbl&gt; | NLRP3 &lt;dbl&gt; | IL1B &lt;dbl&gt; | CCR1 &lt;dbl&gt; | BCL6 &lt;dbl&gt; | CXCL8 &lt;dbl&gt; | ⋯ ⋯ | KLF6 &lt;dbl&gt; | UBE2D1 &lt;dbl&gt; | NR4A1 &lt;dbl&gt; | BCL2A1 &lt;dbl&gt; | CCL4 &lt;dbl&gt; | CCL4L2 &lt;dbl&gt; | METRNL &lt;dbl&gt; | JUND &lt;dbl&gt; | NFKBID &lt;dbl&gt; | LGALS2 &lt;dbl&gt; |\n",
       "|---|---|---|---|---|---|---|---|---|---|---|---|---|---|---|---|---|---|---|---|---|---|\n",
       "| IL1B..CD14.monocyte.PB00001.01_Female_BR1 | 1.544674 | 3.558105 | 0.3997040 |  1.2641226 | 1.65434632 | 0.4410208 | 2.325965 | 1.490864 | 0.7072238 |  3.383223 | ⋯ | 4.541528 | 1.909931 | 0.4424390 | 2.8262151 | 1.1018390 | 0.9370591 | 0.7280341 |  6.502594 | 0.9093488 | 2.6197926 |\n",
       "| IL1B..CD14.monocyte.PB00002.01_Male_BR1 | 2.917250 | 4.325058 | 0.4449190 |  0.8260360 | 7.02461803 | 0.4881343 | 2.492454 | 1.330747 | 0.0000000 |  1.552795 | ⋯ | 4.303982 | 2.552599 | 0.0000000 | 4.7381055 | 1.5527951 | 0.0000000 | 0.8812049 | 10.606305 | 0.3905030 | 5.5983699 |\n",
       "| IL1B..CD14.monocyte.PB00003.01_Female_BR1 | 4.287568 | 1.697293 | 0.0000000 |  0.1684523 | 0.00000000 | 1.0322375 | 2.693404 | 1.682760 | 0.1684523 |  4.060751 | ⋯ | 1.674759 | 3.502619 | 0.6738091 | 2.9513723 | 0.0000000 | 0.0000000 | 0.3369045 |  9.593232 | 0.0000000 | 1.7042144 |\n",
       "| IL1B..CD14.monocyte.PB00004.01_Male_BR1 | 2.901266 | 4.350373 | 0.4725195 | 17.7486958 | 4.09179690 | 1.9034278 | 7.512912 | 1.805786 | 0.3601532 | 12.398433 | ⋯ | 2.060441 | 5.388146 | 0.5369952 | 0.8768818 | 0.6242899 | 0.2497160 | 1.4251967 |  5.597097 | 1.3495042 | 7.8796420 |\n",
       "| IL1B..CD14.monocyte.PB00006.01_Female_BR1 | 2.105534 | 4.104189 | 1.3363161 |  0.7164072 | 0.09878104 | 0.7067377 | 7.805820 | 1.498248 | 0.6940112 |  3.546196 | ⋯ | 4.398559 | 2.311243 | 0.8228788 | 2.1684764 | 6.5796069 | 0.4761568 | 0.9024056 |  5.931796 | 0.2539850 | 0.9579572 |\n",
       "| IL1B..CD14.monocyte.PB00010.02_Male_BR1 | 2.961696 | 2.986657 | 1.0683761 |  6.1033714 | 2.92926760 | 0.8324689 | 7.826707 | 2.306494 | 0.5562466 |  3.028045 | ⋯ | 4.476025 | 1.752895 | 4.6505188 | 5.7272497 | 4.1346111 | 1.4388446 | 1.4324157 |  5.461327 | 0.6615723 | 5.2551874 |\n",
       "\n"
      ],
      "text/plain": [
       "                                          RBP7     TNFRSF1B FCGR3A   \n",
       "IL1B..CD14.monocyte.PB00001.01_Female_BR1 1.544674 3.558105 0.3997040\n",
       "IL1B..CD14.monocyte.PB00002.01_Male_BR1   2.917250 4.325058 0.4449190\n",
       "IL1B..CD14.monocyte.PB00003.01_Female_BR1 4.287568 1.697293 0.0000000\n",
       "IL1B..CD14.monocyte.PB00004.01_Male_BR1   2.901266 4.350373 0.4725195\n",
       "IL1B..CD14.monocyte.PB00006.01_Female_BR1 2.105534 4.104189 1.3363161\n",
       "IL1B..CD14.monocyte.PB00010.02_Male_BR1   2.961696 2.986657 1.0683761\n",
       "                                          PTGS2      G0S2       NLRP3    \n",
       "IL1B..CD14.monocyte.PB00001.01_Female_BR1  1.2641226 1.65434632 0.4410208\n",
       "IL1B..CD14.monocyte.PB00002.01_Male_BR1    0.8260360 7.02461803 0.4881343\n",
       "IL1B..CD14.monocyte.PB00003.01_Female_BR1  0.1684523 0.00000000 1.0322375\n",
       "IL1B..CD14.monocyte.PB00004.01_Male_BR1   17.7486958 4.09179690 1.9034278\n",
       "IL1B..CD14.monocyte.PB00006.01_Female_BR1  0.7164072 0.09878104 0.7067377\n",
       "IL1B..CD14.monocyte.PB00010.02_Male_BR1    6.1033714 2.92926760 0.8324689\n",
       "                                          IL1B     CCR1     BCL6      CXCL8    \n",
       "IL1B..CD14.monocyte.PB00001.01_Female_BR1 2.325965 1.490864 0.7072238  3.383223\n",
       "IL1B..CD14.monocyte.PB00002.01_Male_BR1   2.492454 1.330747 0.0000000  1.552795\n",
       "IL1B..CD14.monocyte.PB00003.01_Female_BR1 2.693404 1.682760 0.1684523  4.060751\n",
       "IL1B..CD14.monocyte.PB00004.01_Male_BR1   7.512912 1.805786 0.3601532 12.398433\n",
       "IL1B..CD14.monocyte.PB00006.01_Female_BR1 7.805820 1.498248 0.6940112  3.546196\n",
       "IL1B..CD14.monocyte.PB00010.02_Male_BR1   7.826707 2.306494 0.5562466  3.028045\n",
       "                                          ⋯ KLF6     UBE2D1   NR4A1    \n",
       "IL1B..CD14.monocyte.PB00001.01_Female_BR1 ⋯ 4.541528 1.909931 0.4424390\n",
       "IL1B..CD14.monocyte.PB00002.01_Male_BR1   ⋯ 4.303982 2.552599 0.0000000\n",
       "IL1B..CD14.monocyte.PB00003.01_Female_BR1 ⋯ 1.674759 3.502619 0.6738091\n",
       "IL1B..CD14.monocyte.PB00004.01_Male_BR1   ⋯ 2.060441 5.388146 0.5369952\n",
       "IL1B..CD14.monocyte.PB00006.01_Female_BR1 ⋯ 4.398559 2.311243 0.8228788\n",
       "IL1B..CD14.monocyte.PB00010.02_Male_BR1   ⋯ 4.476025 1.752895 4.6505188\n",
       "                                          BCL2A1    CCL4      CCL4L2   \n",
       "IL1B..CD14.monocyte.PB00001.01_Female_BR1 2.8262151 1.1018390 0.9370591\n",
       "IL1B..CD14.monocyte.PB00002.01_Male_BR1   4.7381055 1.5527951 0.0000000\n",
       "IL1B..CD14.monocyte.PB00003.01_Female_BR1 2.9513723 0.0000000 0.0000000\n",
       "IL1B..CD14.monocyte.PB00004.01_Male_BR1   0.8768818 0.6242899 0.2497160\n",
       "IL1B..CD14.monocyte.PB00006.01_Female_BR1 2.1684764 6.5796069 0.4761568\n",
       "IL1B..CD14.monocyte.PB00010.02_Male_BR1   5.7272497 4.1346111 1.4388446\n",
       "                                          METRNL    JUND      NFKBID   \n",
       "IL1B..CD14.monocyte.PB00001.01_Female_BR1 0.7280341  6.502594 0.9093488\n",
       "IL1B..CD14.monocyte.PB00002.01_Male_BR1   0.8812049 10.606305 0.3905030\n",
       "IL1B..CD14.monocyte.PB00003.01_Female_BR1 0.3369045  9.593232 0.0000000\n",
       "IL1B..CD14.monocyte.PB00004.01_Male_BR1   1.4251967  5.597097 1.3495042\n",
       "IL1B..CD14.monocyte.PB00006.01_Female_BR1 0.9024056  5.931796 0.2539850\n",
       "IL1B..CD14.monocyte.PB00010.02_Male_BR1   1.4324157  5.461327 0.6615723\n",
       "                                          LGALS2   \n",
       "IL1B..CD14.monocyte.PB00001.01_Female_BR1 2.6197926\n",
       "IL1B..CD14.monocyte.PB00002.01_Male_BR1   5.5983699\n",
       "IL1B..CD14.monocyte.PB00003.01_Female_BR1 1.7042144\n",
       "IL1B..CD14.monocyte.PB00004.01_Male_BR1   7.8796420\n",
       "IL1B..CD14.monocyte.PB00006.01_Female_BR1 0.9579572\n",
       "IL1B..CD14.monocyte.PB00010.02_Male_BR1   5.2551874"
      ]
     },
     "metadata": {},
     "output_type": "display_data"
    }
   ],
   "source": [
    "df %>% head()"
   ]
  },
  {
   "cell_type": "code",
   "execution_count": 119,
   "id": "3d47ae69-33dc-42a2-bd1d-859f85f54d6e",
   "metadata": {
    "tags": []
   },
   "outputs": [],
   "source": [
    "df['ID']= rownames(df)"
   ]
  },
  {
   "cell_type": "code",
   "execution_count": 120,
   "id": "78d0097a-c8c6-431d-8300-350b2b7e2715",
   "metadata": {
    "tags": []
   },
   "outputs": [
    {
     "data": {
      "text/html": [
       "<style>\n",
       ".list-inline {list-style: none; margin:0; padding: 0}\n",
       ".list-inline>li {display: inline-block}\n",
       ".list-inline>li:not(:last-child)::after {content: \"\\00b7\"; padding: 0 .5ex}\n",
       "</style>\n",
       "<ol class=list-inline><li>25</li><li>37</li></ol>\n"
      ],
      "text/latex": [
       "\\begin{enumerate*}\n",
       "\\item 25\n",
       "\\item 37\n",
       "\\end{enumerate*}\n"
      ],
      "text/markdown": [
       "1. 25\n",
       "2. 37\n",
       "\n",
       "\n"
      ],
      "text/plain": [
       "[1] 25 37"
      ]
     },
     "metadata": {},
     "output_type": "display_data"
    },
    {
     "data": {
      "text/html": [
       "<style>\n",
       ".list-inline {list-style: none; margin:0; padding: 0}\n",
       ".list-inline>li {display: inline-block}\n",
       ".list-inline>li:not(:last-child)::after {content: \"\\00b7\"; padding: 0 .5ex}\n",
       "</style>\n",
       "<ol class=list-inline><li>92</li><li>25</li></ol>\n"
      ],
      "text/latex": [
       "\\begin{enumerate*}\n",
       "\\item 92\n",
       "\\item 25\n",
       "\\end{enumerate*}\n"
      ],
      "text/markdown": [
       "1. 92\n",
       "2. 25\n",
       "\n",
       "\n"
      ],
      "text/plain": [
       "[1] 92 25"
      ]
     },
     "metadata": {},
     "output_type": "display_data"
    }
   ],
   "source": [
    "dim(merged_df_v2)\n",
    "dim(df)"
   ]
  },
  {
   "cell_type": "code",
   "execution_count": 121,
   "id": "39de49f2-58d8-4499-8c36-63519642342a",
   "metadata": {
    "tags": []
   },
   "outputs": [],
   "source": [
    "data <- inner_join(df,merged_df_v2,by=c('ID'))"
   ]
  },
  {
   "cell_type": "code",
   "execution_count": 122,
   "id": "147472ca-0310-4426-95d4-8f9bc0e5d218",
   "metadata": {
    "tags": []
   },
   "outputs": [
    {
     "data": {
      "text/html": [
       "'BR2'"
      ],
      "text/latex": [
       "'BR2'"
      ],
      "text/markdown": [
       "'BR2'"
      ],
      "text/plain": [
       "[1] \"BR2\""
      ]
     },
     "metadata": {},
     "output_type": "display_data"
    }
   ],
   "source": [
    "unique(data$cohort.cohortGuid)"
   ]
  },
  {
   "cell_type": "code",
   "execution_count": 123,
   "id": "71d079f6-c72a-4a6f-a645-ca96e3d78643",
   "metadata": {
    "tags": []
   },
   "outputs": [],
   "source": [
    "#write_csv(data, file = \"/home/jupyter/IH-A-Aging-Analysis-Notebooks_old/Mansi_Notebooks/scRNA/DEG_Analysis/MS_Sex_DEG_analysis/Mean_gene_expression_IL1B+_CD14_mono/Unscaled_IL1B_CD14mon_Male_BR1_mean_gene_X/IL1B_CD14mon_Male_BR1_mean_gene_X_v3.csv\")"
   ]
  },
  {
   "cell_type": "code",
   "execution_count": 124,
   "id": "70c7ae3b-9916-4a21-bb2f-a4ed10c281d7",
   "metadata": {
    "tags": []
   },
   "outputs": [],
   "source": [
    "#write_csv(data, file = \"/home/jupyter/IH-A-Aging-Analysis-Notebooks_old/Mansi_Notebooks/scRNA/DEG_Analysis/MS_Sex_DEG_analysis/Mean_gene_expression_IL1B+_CD14_mono/Unscaled_IL1B_CD14mon_Male_BR1_mean_gene_X/IL1B_CD14mon_Male_BR2_mean_gene_X_v3.csv\")"
   ]
  },
  {
   "cell_type": "code",
   "execution_count": 125,
   "id": "26302bc1-bbfc-4799-b848-6ea6ef1d71cb",
   "metadata": {
    "tags": []
   },
   "outputs": [],
   "source": [
    "#write_csv(data, file = \"/home/jupyter/IH-A-Aging-Analysis-Notebooks_old/Mansi_Notebooks/scRNA/DEG_Analysis/MS_Sex_DEG_analysis/Mean_gene_expression_IL1B+_CD14_mono/Unscaled_IL1B_CD14mon_Male_BR1_mean_gene_X/IL1B_CD14mon_Female_BR1_mean_gene_X_v3.csv\")"
   ]
  },
  {
   "cell_type": "code",
   "execution_count": 126,
   "id": "392cb9a9-5b1f-4571-9844-3eb9bc6303df",
   "metadata": {
    "tags": []
   },
   "outputs": [],
   "source": [
    "#write_csv(data, file = \"/home/jupyter/IH-A-Aging-Analysis-Notebooks_old/Mansi_Notebooks/scRNA/DEG_Analysis/MS_Sex_DEG_analysis/Mean_gene_expression_IL1B+_CD14_mono/Unscaled_IL1B_CD14mon_Male_BR1_mean_gene_X/IL1B_CD14mon_Female_BR2_mean_gene_X_v3.csv\")"
   ]
  },
  {
   "cell_type": "code",
   "execution_count": null,
   "id": "3e015b38-b351-414f-9f7f-c1c3a7247739",
   "metadata": {},
   "outputs": [],
   "source": []
  },
  {
   "cell_type": "code",
   "execution_count": 82,
   "id": "45575b3b-5d2f-488a-bc8d-ac505e9da110",
   "metadata": {
    "tags": []
   },
   "outputs": [],
   "source": [
    "#write_csv(data, file = \"/home/jupyter/IH-A-Aging-Analysis-Notebooks_old/Mansi_Notebooks/scRNA/DEG_Analysis/MS_Sex_DEG_analysis/IL1B_CD14mon_Male_BR1_mean_gene_X_v2.csv\")"
   ]
  },
  {
   "cell_type": "code",
   "execution_count": 83,
   "id": "6d9c2812-cdbf-4eb5-8d5b-7dabc99312c1",
   "metadata": {
    "tags": []
   },
   "outputs": [],
   "source": [
    "#write_csv(data, file = \"/home/jupyter/IH-A-Aging-Analysis-Notebooks_old/Mansi_Notebooks/scRNA/DEG_Analysis/MS_Sex_DEG_analysis/IL1B_CD14mon_Male_BR2_mean_gene_X_v2.csv\")"
   ]
  },
  {
   "cell_type": "code",
   "execution_count": 84,
   "id": "29e47aa5-5314-48f1-bd82-16b7f564bb99",
   "metadata": {
    "tags": []
   },
   "outputs": [],
   "source": [
    "#write_csv(data, file = \"/home/jupyter/IH-A-Aging-Analysis-Notebooks_old/Mansi_Notebooks/scRNA/DEG_Analysis/MS_Sex_DEG_analysis/IL1B_CD14mon_Female_BR1_mean_gene_X_v2.csv\")"
   ]
  },
  {
   "cell_type": "code",
   "execution_count": 85,
   "id": "cf1eb021-0eab-476f-82d6-193d40eb63fb",
   "metadata": {
    "tags": []
   },
   "outputs": [],
   "source": [
    "#write_csv(data, file = \"/home/jupyter/IH-A-Aging-Analysis-Notebooks_old/Mansi_Notebooks/scRNA/DEG_Analysis/MS_Sex_DEG_analysis/IL1B_CD14mon_Female_BR2_mean_gene_X_v2.csv\")"
   ]
  },
  {
   "cell_type": "code",
   "execution_count": 86,
   "id": "5d6d399e-2c31-4332-bbe2-f87a3872df66",
   "metadata": {
    "tags": []
   },
   "outputs": [
    {
     "data": {
      "text/html": [
       "91"
      ],
      "text/latex": [
       "91"
      ],
      "text/markdown": [
       "91"
      ],
      "text/plain": [
       "[1] 91"
      ]
     },
     "metadata": {},
     "output_type": "display_data"
    }
   ],
   "source": [
    "20+21+26+24"
   ]
  },
  {
   "cell_type": "code",
   "execution_count": null,
   "id": "1b5f7874-2fac-45cc-a91f-1a875d19abc7",
   "metadata": {},
   "outputs": [],
   "source": []
  },
  {
   "cell_type": "code",
   "execution_count": null,
   "id": "c9ecd603-815e-42db-9cbb-edeab1e3c07a",
   "metadata": {},
   "outputs": [],
   "source": []
  },
  {
   "cell_type": "code",
   "execution_count": null,
   "id": "0af4f66f-b626-4cf4-bccf-548adc560e10",
   "metadata": {},
   "outputs": [],
   "source": []
  },
  {
   "cell_type": "code",
   "execution_count": null,
   "id": "3e412ba8-ae99-4dae-8782-f62f6a322412",
   "metadata": {},
   "outputs": [],
   "source": []
  },
  {
   "cell_type": "code",
   "execution_count": null,
   "id": "aefe8bdc-de33-4b7e-9d56-440b8dc59a02",
   "metadata": {},
   "outputs": [],
   "source": []
  },
  {
   "cell_type": "code",
   "execution_count": 221,
   "id": "7d545d14-0df5-45fa-b99f-b18633f3d8c8",
   "metadata": {
    "tags": []
   },
   "outputs": [],
   "source": [
    "## Tao code"
   ]
  },
  {
   "cell_type": "code",
   "execution_count": 217,
   "id": "a28566ab-154e-4d58-a491-367bbd8e8af8",
   "metadata": {
    "tags": []
   },
   "outputs": [
    {
     "data": {
      "text/html": [
       "<style>\n",
       ".list-inline {list-style: none; margin:0; padding: 0}\n",
       ".list-inline>li {display: inline-block}\n",
       ".list-inline>li:not(:last-child)::after {content: \"\\00b7\"; padding: 0 .5ex}\n",
       "</style>\n",
       "<ol class=list-inline><li>21</li><li>50</li></ol>\n"
      ],
      "text/latex": [
       "\\begin{enumerate*}\n",
       "\\item 21\n",
       "\\item 50\n",
       "\\end{enumerate*}\n"
      ],
      "text/markdown": [
       "1. 21\n",
       "2. 50\n",
       "\n",
       "\n"
      ],
      "text/plain": [
       "[1] 21 50"
      ]
     },
     "metadata": {},
     "output_type": "display_data"
    }
   ],
   "source": [
    "dim(data)"
   ]
  },
  {
   "cell_type": "code",
   "execution_count": 216,
   "id": "60dbb1ea-c28e-4003-ba87-f99944c8c2d4",
   "metadata": {
    "tags": []
   },
   "outputs": [
    {
     "data": {
      "text/html": [
       "<style>\n",
       ".list-inline {list-style: none; margin:0; padding: 0}\n",
       ".list-inline>li {display: inline-block}\n",
       ".list-inline>li:not(:last-child)::after {content: \"\\00b7\"; padding: 0 .5ex}\n",
       "</style>\n",
       "<ol class=list-inline><li>21</li><li>37</li></ol>\n"
      ],
      "text/latex": [
       "\\begin{enumerate*}\n",
       "\\item 21\n",
       "\\item 37\n",
       "\\end{enumerate*}\n"
      ],
      "text/markdown": [
       "1. 21\n",
       "2. 37\n",
       "\n",
       "\n"
      ],
      "text/plain": [
       "[1] 21 37"
      ]
     },
     "metadata": {},
     "output_type": "display_data"
    }
   ],
   "source": [
    "dim(merged_df)"
   ]
  },
  {
   "cell_type": "code",
   "execution_count": 220,
   "id": "1ff74a36-6e19-4174-b3bb-6d165052920a",
   "metadata": {
    "tags": []
   },
   "outputs": [
    {
     "data": {
      "text/html": [
       "21"
      ],
      "text/latex": [
       "21"
      ],
      "text/markdown": [
       "21"
      ],
      "text/plain": [
       "[1] 21"
      ]
     },
     "metadata": {},
     "output_type": "display_data"
    }
   ],
   "source": [
    "length(rownames(data))"
   ]
  },
  {
   "cell_type": "code",
   "execution_count": 218,
   "id": "e0d0a8c3-34fb-49c2-aa63-e32059ecbc4d",
   "metadata": {
    "tags": []
   },
   "outputs": [
    {
     "data": {
      "text/html": [
       "<table class=\"dataframe\">\n",
       "<caption>A data.frame: 6 × 38</caption>\n",
       "<thead>\n",
       "\t<tr><th></th><th scope=col>ID</th><th scope=col>pbmc_sample_id</th><th scope=col>X.1</th><th scope=col>X</th><th scope=col>lastUpdated</th><th scope=col>sample.id</th><th scope=col>sample.bridgingControl</th><th scope=col>sample.sampleKitGuid</th><th scope=col>sample.visitName</th><th scope=col>sample.visitDetails</th><th scope=col>⋯</th><th scope=col>Sample_ID</th><th scope=col>Sample_Draw_date</th><th scope=col>Covid_Dose_1</th><th scope=col>Covid_Dose_2</th><th scope=col>Covid_exlcusion</th><th scope=col>CMV.IgG.Serology.Result.Interpretation</th><th scope=col>BMI</th><th scope=col>file.name.downloaded</th><th scope=col>file.path</th><th scope=col>Gene</th></tr>\n",
       "\t<tr><th></th><th scope=col>&lt;chr&gt;</th><th scope=col>&lt;chr&gt;</th><th scope=col>&lt;int&gt;</th><th scope=col>&lt;int&gt;</th><th scope=col>&lt;chr&gt;</th><th scope=col>&lt;chr&gt;</th><th scope=col>&lt;chr&gt;</th><th scope=col>&lt;chr&gt;</th><th scope=col>&lt;chr&gt;</th><th scope=col>&lt;chr&gt;</th><th scope=col>⋯</th><th scope=col>&lt;lgl&gt;</th><th scope=col>&lt;chr&gt;</th><th scope=col>&lt;chr&gt;</th><th scope=col>&lt;chr&gt;</th><th scope=col>&lt;chr&gt;</th><th scope=col>&lt;chr&gt;</th><th scope=col>&lt;chr&gt;</th><th scope=col>&lt;chr&gt;</th><th scope=col>&lt;chr&gt;</th><th scope=col>&lt;chr&gt;</th></tr>\n",
       "</thead>\n",
       "<tbody>\n",
       "\t<tr><th scope=row>IL1B..CD14.monocyte.PB00002.01_Male_BR1</th><td>IL1B..CD14.monocyte.PB00002.01_Male_BR1</td><td>PB00002-01</td><td> 2</td><td> 2</td><td>2023-11-18T02:03:08.347Z</td><td>750e90a9-a296-4f0f-969f-60225c2bca17</td><td>false</td><td>KT00002</td><td>Flu Year 1 Day 0</td><td>N/A - Flu-Series Timepoint Only</td><td>⋯</td><td>NA</td><td>2019-10-15</td><td>2020-12-28</td><td>2021-01-18</td><td>no</td><td>Negative</td><td><span style=white-space:pre-wrap>&lt;25-BMI  </span></td><td><span style=white-space:pre-wrap>B001-P1_PB00002-01_labeled.h5                               </span></td><td><span style=white-space:pre-wrap>/home/jupyter/BRI_Analysis/scRNA/cache/7c0c7979-eebd-4aba-b5b2-6e76b4643623/B001-P1_PB00002-01_labeled.h5                               </span></td><td>IL1B..CD14.monocyte.PB00002.01_Male_BR1</td></tr>\n",
       "\t<tr><th scope=row>IL1B..CD14.monocyte.PB00004.01_Male_BR1</th><td>IL1B..CD14.monocyte.PB00004.01_Male_BR1</td><td>PB00004-01</td><td> 4</td><td> 4</td><td>2023-11-19T10:34:34.12Z </td><td>f04693c5-563c-4b5b-ae58-877d0d9ae2fe</td><td>false</td><td>KT00004</td><td>Flu Year 1 Day 0</td><td>N/A - Flu-Series Timepoint Only</td><td>⋯</td><td>NA</td><td>2019-10-21</td><td>2021-04-16</td><td>2021-05-06</td><td>no</td><td>Negative</td><td><span style=white-space:pre-wrap>&lt;25-BMI  </span></td><td>B002-P1_PB00004-01_2023-11-17T21:36:51.794326181Z_labeled.h5</td><td>/home/jupyter/BRI_Analysis/scRNA/cache/68fbcd34-1d63-461d-8195-df5b8dc61b31/B002-P1_PB00004-01_2023-11-17T21:36:51.794326181Z_labeled.h5</td><td>IL1B..CD14.monocyte.PB00004.01_Male_BR1</td></tr>\n",
       "\t<tr><th scope=row>IL1B..CD14.monocyte.PB00010.02_Male_BR1</th><td>IL1B..CD14.monocyte.PB00010.02_Male_BR1</td><td>PB00010-02</td><td> 6</td><td> 6</td><td>2023-11-18T02:03:08.347Z</td><td>f32ac061-0ede-4040-8d8c-35229ea5229c</td><td>false</td><td>KT00010</td><td>Flu Year 1 Day 0</td><td>N/A - Flu-Series Timepoint Only</td><td>⋯</td><td>NA</td><td>2019-10-28</td><td>2021-03-21</td><td>2021-04-18</td><td>no</td><td>Negative</td><td>&gt;25-30BMI</td><td>B078-P2_PB00010-02_2021-08-19T17:09:29.934849811Z_labeled.h5</td><td>/home/jupyter/BRI_Analysis/scRNA/cache/237e41df-5616-4852-8a8f-b32835c9efcb/B078-P2_PB00010-02_2021-08-19T17:09:29.934849811Z_labeled.h5</td><td>IL1B..CD14.monocyte.PB00010.02_Male_BR1</td></tr>\n",
       "\t<tr><th scope=row>IL1B..CD14.monocyte.PB00014.01_Male_BR1</th><td>IL1B..CD14.monocyte.PB00014.01_Male_BR1</td><td>PB00014-01</td><td> 8</td><td> 8</td><td>2023-11-19T08:45:57.633Z</td><td>77c1dad3-605d-4f94-b163-8be9c62d3bc5</td><td>false</td><td>KT00014</td><td>Flu Year 1 Day 0</td><td>N/A - Flu-Series Timepoint Only</td><td>⋯</td><td>NA</td><td>2019-10-30</td><td>2021-02-09</td><td>2021-03-06</td><td>no</td><td>Positive</td><td><span style=white-space:pre-wrap>&lt;25-BMI  </span></td><td>B002-P1_PB00014-01_2023-11-17T21:36:51.794326181Z_labeled.h5</td><td>/home/jupyter/BRI_Analysis/scRNA/cache/fbcbf51d-90f8-46ff-bd21-2f56d65306ad/B002-P1_PB00014-01_2023-11-17T21:36:51.794326181Z_labeled.h5</td><td>IL1B..CD14.monocyte.PB00014.01_Male_BR1</td></tr>\n",
       "\t<tr><th scope=row>IL1B..CD14.monocyte.PB00025.04_Male_BR1</th><td>IL1B..CD14.monocyte.PB00025.04_Male_BR1</td><td>PB00025-04</td><td>13</td><td>13</td><td>2023-11-18T02:03:08.347Z</td><td>fc01c04c-7213-471f-8510-1785f9dee039</td><td>false</td><td>KT00025</td><td>Flu Year 1 Day 0</td><td>N/A - Flu-Series Timepoint Only</td><td>⋯</td><td>NA</td><td>2019-11-25</td><td>2021-01-29</td><td>2021-02-19</td><td>no</td><td>Negative</td><td><span style=white-space:pre-wrap>&lt;25-BMI  </span></td><td>B078-P2_PB00025-04_2021-08-19T17:09:29.934849811Z_labeled.h5</td><td>/home/jupyter/BRI_Analysis/scRNA/cache/247d580e-7b47-4f59-bc37-6e29188b7aff/B078-P2_PB00025-04_2021-08-19T17:09:29.934849811Z_labeled.h5</td><td>IL1B..CD14.monocyte.PB00025.04_Male_BR1</td></tr>\n",
       "\t<tr><th scope=row>IL1B..CD14.monocyte.PB00026.05_Male_BR1</th><td>IL1B..CD14.monocyte.PB00026.05_Male_BR1</td><td>PB00026-05</td><td>14</td><td>14</td><td>2023-11-18T02:03:08.347Z</td><td>731b2c57-1bf5-4764-8a00-07f785727140</td><td>false</td><td>KT00026</td><td>Flu Year 1 Day 0</td><td>N/A - Flu-Series Timepoint Only</td><td>⋯</td><td>NA</td><td>2019-11-25</td><td>2021-03-03</td><td>2021-03-31</td><td>no</td><td>Positive</td><td><span style=white-space:pre-wrap>&lt;25-BMI  </span></td><td>B078-P2_PB00026-05_2021-08-19T17:09:29.934849811Z_labeled.h5</td><td>/home/jupyter/BRI_Analysis/scRNA/cache/139d1b1f-75d8-40ab-bcb5-70bd2cde9800/B078-P2_PB00026-05_2021-08-19T17:09:29.934849811Z_labeled.h5</td><td>IL1B..CD14.monocyte.PB00026.05_Male_BR1</td></tr>\n",
       "</tbody>\n",
       "</table>\n"
      ],
      "text/latex": [
       "A data.frame: 6 × 38\n",
       "\\begin{tabular}{r|lllllllllllllllllllll}\n",
       "  & ID & pbmc\\_sample\\_id & X.1 & X & lastUpdated & sample.id & sample.bridgingControl & sample.sampleKitGuid & sample.visitName & sample.visitDetails & ⋯ & Sample\\_ID & Sample\\_Draw\\_date & Covid\\_Dose\\_1 & Covid\\_Dose\\_2 & Covid\\_exlcusion & CMV.IgG.Serology.Result.Interpretation & BMI & file.name.downloaded & file.path & Gene\\\\\n",
       "  & <chr> & <chr> & <int> & <int> & <chr> & <chr> & <chr> & <chr> & <chr> & <chr> & ⋯ & <lgl> & <chr> & <chr> & <chr> & <chr> & <chr> & <chr> & <chr> & <chr> & <chr>\\\\\n",
       "\\hline\n",
       "\tIL1B..CD14.monocyte.PB00002.01\\_Male\\_BR1 & IL1B..CD14.monocyte.PB00002.01\\_Male\\_BR1 & PB00002-01 &  2 &  2 & 2023-11-18T02:03:08.347Z & 750e90a9-a296-4f0f-969f-60225c2bca17 & false & KT00002 & Flu Year 1 Day 0 & N/A - Flu-Series Timepoint Only & ⋯ & NA & 2019-10-15 & 2020-12-28 & 2021-01-18 & no & Negative & <25-BMI   & B001-P1\\_PB00002-01\\_labeled.h5                                & /home/jupyter/BRI\\_Analysis/scRNA/cache/7c0c7979-eebd-4aba-b5b2-6e76b4643623/B001-P1\\_PB00002-01\\_labeled.h5                                & IL1B..CD14.monocyte.PB00002.01\\_Male\\_BR1\\\\\n",
       "\tIL1B..CD14.monocyte.PB00004.01\\_Male\\_BR1 & IL1B..CD14.monocyte.PB00004.01\\_Male\\_BR1 & PB00004-01 &  4 &  4 & 2023-11-19T10:34:34.12Z  & f04693c5-563c-4b5b-ae58-877d0d9ae2fe & false & KT00004 & Flu Year 1 Day 0 & N/A - Flu-Series Timepoint Only & ⋯ & NA & 2019-10-21 & 2021-04-16 & 2021-05-06 & no & Negative & <25-BMI   & B002-P1\\_PB00004-01\\_2023-11-17T21:36:51.794326181Z\\_labeled.h5 & /home/jupyter/BRI\\_Analysis/scRNA/cache/68fbcd34-1d63-461d-8195-df5b8dc61b31/B002-P1\\_PB00004-01\\_2023-11-17T21:36:51.794326181Z\\_labeled.h5 & IL1B..CD14.monocyte.PB00004.01\\_Male\\_BR1\\\\\n",
       "\tIL1B..CD14.monocyte.PB00010.02\\_Male\\_BR1 & IL1B..CD14.monocyte.PB00010.02\\_Male\\_BR1 & PB00010-02 &  6 &  6 & 2023-11-18T02:03:08.347Z & f32ac061-0ede-4040-8d8c-35229ea5229c & false & KT00010 & Flu Year 1 Day 0 & N/A - Flu-Series Timepoint Only & ⋯ & NA & 2019-10-28 & 2021-03-21 & 2021-04-18 & no & Negative & >25-30BMI & B078-P2\\_PB00010-02\\_2021-08-19T17:09:29.934849811Z\\_labeled.h5 & /home/jupyter/BRI\\_Analysis/scRNA/cache/237e41df-5616-4852-8a8f-b32835c9efcb/B078-P2\\_PB00010-02\\_2021-08-19T17:09:29.934849811Z\\_labeled.h5 & IL1B..CD14.monocyte.PB00010.02\\_Male\\_BR1\\\\\n",
       "\tIL1B..CD14.monocyte.PB00014.01\\_Male\\_BR1 & IL1B..CD14.monocyte.PB00014.01\\_Male\\_BR1 & PB00014-01 &  8 &  8 & 2023-11-19T08:45:57.633Z & 77c1dad3-605d-4f94-b163-8be9c62d3bc5 & false & KT00014 & Flu Year 1 Day 0 & N/A - Flu-Series Timepoint Only & ⋯ & NA & 2019-10-30 & 2021-02-09 & 2021-03-06 & no & Positive & <25-BMI   & B002-P1\\_PB00014-01\\_2023-11-17T21:36:51.794326181Z\\_labeled.h5 & /home/jupyter/BRI\\_Analysis/scRNA/cache/fbcbf51d-90f8-46ff-bd21-2f56d65306ad/B002-P1\\_PB00014-01\\_2023-11-17T21:36:51.794326181Z\\_labeled.h5 & IL1B..CD14.monocyte.PB00014.01\\_Male\\_BR1\\\\\n",
       "\tIL1B..CD14.monocyte.PB00025.04\\_Male\\_BR1 & IL1B..CD14.monocyte.PB00025.04\\_Male\\_BR1 & PB00025-04 & 13 & 13 & 2023-11-18T02:03:08.347Z & fc01c04c-7213-471f-8510-1785f9dee039 & false & KT00025 & Flu Year 1 Day 0 & N/A - Flu-Series Timepoint Only & ⋯ & NA & 2019-11-25 & 2021-01-29 & 2021-02-19 & no & Negative & <25-BMI   & B078-P2\\_PB00025-04\\_2021-08-19T17:09:29.934849811Z\\_labeled.h5 & /home/jupyter/BRI\\_Analysis/scRNA/cache/247d580e-7b47-4f59-bc37-6e29188b7aff/B078-P2\\_PB00025-04\\_2021-08-19T17:09:29.934849811Z\\_labeled.h5 & IL1B..CD14.monocyte.PB00025.04\\_Male\\_BR1\\\\\n",
       "\tIL1B..CD14.monocyte.PB00026.05\\_Male\\_BR1 & IL1B..CD14.monocyte.PB00026.05\\_Male\\_BR1 & PB00026-05 & 14 & 14 & 2023-11-18T02:03:08.347Z & 731b2c57-1bf5-4764-8a00-07f785727140 & false & KT00026 & Flu Year 1 Day 0 & N/A - Flu-Series Timepoint Only & ⋯ & NA & 2019-11-25 & 2021-03-03 & 2021-03-31 & no & Positive & <25-BMI   & B078-P2\\_PB00026-05\\_2021-08-19T17:09:29.934849811Z\\_labeled.h5 & /home/jupyter/BRI\\_Analysis/scRNA/cache/139d1b1f-75d8-40ab-bcb5-70bd2cde9800/B078-P2\\_PB00026-05\\_2021-08-19T17:09:29.934849811Z\\_labeled.h5 & IL1B..CD14.monocyte.PB00026.05\\_Male\\_BR1\\\\\n",
       "\\end{tabular}\n"
      ],
      "text/markdown": [
       "\n",
       "A data.frame: 6 × 38\n",
       "\n",
       "| <!--/--> | ID &lt;chr&gt; | pbmc_sample_id &lt;chr&gt; | X.1 &lt;int&gt; | X &lt;int&gt; | lastUpdated &lt;chr&gt; | sample.id &lt;chr&gt; | sample.bridgingControl &lt;chr&gt; | sample.sampleKitGuid &lt;chr&gt; | sample.visitName &lt;chr&gt; | sample.visitDetails &lt;chr&gt; | ⋯ ⋯ | Sample_ID &lt;lgl&gt; | Sample_Draw_date &lt;chr&gt; | Covid_Dose_1 &lt;chr&gt; | Covid_Dose_2 &lt;chr&gt; | Covid_exlcusion &lt;chr&gt; | CMV.IgG.Serology.Result.Interpretation &lt;chr&gt; | BMI &lt;chr&gt; | file.name.downloaded &lt;chr&gt; | file.path &lt;chr&gt; | Gene &lt;chr&gt; |\n",
       "|---|---|---|---|---|---|---|---|---|---|---|---|---|---|---|---|---|---|---|---|---|---|\n",
       "| IL1B..CD14.monocyte.PB00002.01_Male_BR1 | IL1B..CD14.monocyte.PB00002.01_Male_BR1 | PB00002-01 |  2 |  2 | 2023-11-18T02:03:08.347Z | 750e90a9-a296-4f0f-969f-60225c2bca17 | false | KT00002 | Flu Year 1 Day 0 | N/A - Flu-Series Timepoint Only | ⋯ | NA | 2019-10-15 | 2020-12-28 | 2021-01-18 | no | Negative | &lt;25-BMI   | B001-P1_PB00002-01_labeled.h5                                | /home/jupyter/BRI_Analysis/scRNA/cache/7c0c7979-eebd-4aba-b5b2-6e76b4643623/B001-P1_PB00002-01_labeled.h5                                | IL1B..CD14.monocyte.PB00002.01_Male_BR1 |\n",
       "| IL1B..CD14.monocyte.PB00004.01_Male_BR1 | IL1B..CD14.monocyte.PB00004.01_Male_BR1 | PB00004-01 |  4 |  4 | 2023-11-19T10:34:34.12Z  | f04693c5-563c-4b5b-ae58-877d0d9ae2fe | false | KT00004 | Flu Year 1 Day 0 | N/A - Flu-Series Timepoint Only | ⋯ | NA | 2019-10-21 | 2021-04-16 | 2021-05-06 | no | Negative | &lt;25-BMI   | B002-P1_PB00004-01_2023-11-17T21:36:51.794326181Z_labeled.h5 | /home/jupyter/BRI_Analysis/scRNA/cache/68fbcd34-1d63-461d-8195-df5b8dc61b31/B002-P1_PB00004-01_2023-11-17T21:36:51.794326181Z_labeled.h5 | IL1B..CD14.monocyte.PB00004.01_Male_BR1 |\n",
       "| IL1B..CD14.monocyte.PB00010.02_Male_BR1 | IL1B..CD14.monocyte.PB00010.02_Male_BR1 | PB00010-02 |  6 |  6 | 2023-11-18T02:03:08.347Z | f32ac061-0ede-4040-8d8c-35229ea5229c | false | KT00010 | Flu Year 1 Day 0 | N/A - Flu-Series Timepoint Only | ⋯ | NA | 2019-10-28 | 2021-03-21 | 2021-04-18 | no | Negative | &gt;25-30BMI | B078-P2_PB00010-02_2021-08-19T17:09:29.934849811Z_labeled.h5 | /home/jupyter/BRI_Analysis/scRNA/cache/237e41df-5616-4852-8a8f-b32835c9efcb/B078-P2_PB00010-02_2021-08-19T17:09:29.934849811Z_labeled.h5 | IL1B..CD14.monocyte.PB00010.02_Male_BR1 |\n",
       "| IL1B..CD14.monocyte.PB00014.01_Male_BR1 | IL1B..CD14.monocyte.PB00014.01_Male_BR1 | PB00014-01 |  8 |  8 | 2023-11-19T08:45:57.633Z | 77c1dad3-605d-4f94-b163-8be9c62d3bc5 | false | KT00014 | Flu Year 1 Day 0 | N/A - Flu-Series Timepoint Only | ⋯ | NA | 2019-10-30 | 2021-02-09 | 2021-03-06 | no | Positive | &lt;25-BMI   | B002-P1_PB00014-01_2023-11-17T21:36:51.794326181Z_labeled.h5 | /home/jupyter/BRI_Analysis/scRNA/cache/fbcbf51d-90f8-46ff-bd21-2f56d65306ad/B002-P1_PB00014-01_2023-11-17T21:36:51.794326181Z_labeled.h5 | IL1B..CD14.monocyte.PB00014.01_Male_BR1 |\n",
       "| IL1B..CD14.monocyte.PB00025.04_Male_BR1 | IL1B..CD14.monocyte.PB00025.04_Male_BR1 | PB00025-04 | 13 | 13 | 2023-11-18T02:03:08.347Z | fc01c04c-7213-471f-8510-1785f9dee039 | false | KT00025 | Flu Year 1 Day 0 | N/A - Flu-Series Timepoint Only | ⋯ | NA | 2019-11-25 | 2021-01-29 | 2021-02-19 | no | Negative | &lt;25-BMI   | B078-P2_PB00025-04_2021-08-19T17:09:29.934849811Z_labeled.h5 | /home/jupyter/BRI_Analysis/scRNA/cache/247d580e-7b47-4f59-bc37-6e29188b7aff/B078-P2_PB00025-04_2021-08-19T17:09:29.934849811Z_labeled.h5 | IL1B..CD14.monocyte.PB00025.04_Male_BR1 |\n",
       "| IL1B..CD14.monocyte.PB00026.05_Male_BR1 | IL1B..CD14.monocyte.PB00026.05_Male_BR1 | PB00026-05 | 14 | 14 | 2023-11-18T02:03:08.347Z | 731b2c57-1bf5-4764-8a00-07f785727140 | false | KT00026 | Flu Year 1 Day 0 | N/A - Flu-Series Timepoint Only | ⋯ | NA | 2019-11-25 | 2021-03-03 | 2021-03-31 | no | Positive | &lt;25-BMI   | B078-P2_PB00026-05_2021-08-19T17:09:29.934849811Z_labeled.h5 | /home/jupyter/BRI_Analysis/scRNA/cache/139d1b1f-75d8-40ab-bcb5-70bd2cde9800/B078-P2_PB00026-05_2021-08-19T17:09:29.934849811Z_labeled.h5 | IL1B..CD14.monocyte.PB00026.05_Male_BR1 |\n",
       "\n"
      ],
      "text/plain": [
       "                                        ID                                     \n",
       "IL1B..CD14.monocyte.PB00002.01_Male_BR1 IL1B..CD14.monocyte.PB00002.01_Male_BR1\n",
       "IL1B..CD14.monocyte.PB00004.01_Male_BR1 IL1B..CD14.monocyte.PB00004.01_Male_BR1\n",
       "IL1B..CD14.monocyte.PB00010.02_Male_BR1 IL1B..CD14.monocyte.PB00010.02_Male_BR1\n",
       "IL1B..CD14.monocyte.PB00014.01_Male_BR1 IL1B..CD14.monocyte.PB00014.01_Male_BR1\n",
       "IL1B..CD14.monocyte.PB00025.04_Male_BR1 IL1B..CD14.monocyte.PB00025.04_Male_BR1\n",
       "IL1B..CD14.monocyte.PB00026.05_Male_BR1 IL1B..CD14.monocyte.PB00026.05_Male_BR1\n",
       "                                        pbmc_sample_id X.1 X \n",
       "IL1B..CD14.monocyte.PB00002.01_Male_BR1 PB00002-01      2   2\n",
       "IL1B..CD14.monocyte.PB00004.01_Male_BR1 PB00004-01      4   4\n",
       "IL1B..CD14.monocyte.PB00010.02_Male_BR1 PB00010-02      6   6\n",
       "IL1B..CD14.monocyte.PB00014.01_Male_BR1 PB00014-01      8   8\n",
       "IL1B..CD14.monocyte.PB00025.04_Male_BR1 PB00025-04     13  13\n",
       "IL1B..CD14.monocyte.PB00026.05_Male_BR1 PB00026-05     14  14\n",
       "                                        lastUpdated             \n",
       "IL1B..CD14.monocyte.PB00002.01_Male_BR1 2023-11-18T02:03:08.347Z\n",
       "IL1B..CD14.monocyte.PB00004.01_Male_BR1 2023-11-19T10:34:34.12Z \n",
       "IL1B..CD14.monocyte.PB00010.02_Male_BR1 2023-11-18T02:03:08.347Z\n",
       "IL1B..CD14.monocyte.PB00014.01_Male_BR1 2023-11-19T08:45:57.633Z\n",
       "IL1B..CD14.monocyte.PB00025.04_Male_BR1 2023-11-18T02:03:08.347Z\n",
       "IL1B..CD14.monocyte.PB00026.05_Male_BR1 2023-11-18T02:03:08.347Z\n",
       "                                        sample.id                           \n",
       "IL1B..CD14.monocyte.PB00002.01_Male_BR1 750e90a9-a296-4f0f-969f-60225c2bca17\n",
       "IL1B..CD14.monocyte.PB00004.01_Male_BR1 f04693c5-563c-4b5b-ae58-877d0d9ae2fe\n",
       "IL1B..CD14.monocyte.PB00010.02_Male_BR1 f32ac061-0ede-4040-8d8c-35229ea5229c\n",
       "IL1B..CD14.monocyte.PB00014.01_Male_BR1 77c1dad3-605d-4f94-b163-8be9c62d3bc5\n",
       "IL1B..CD14.monocyte.PB00025.04_Male_BR1 fc01c04c-7213-471f-8510-1785f9dee039\n",
       "IL1B..CD14.monocyte.PB00026.05_Male_BR1 731b2c57-1bf5-4764-8a00-07f785727140\n",
       "                                        sample.bridgingControl\n",
       "IL1B..CD14.monocyte.PB00002.01_Male_BR1 false                 \n",
       "IL1B..CD14.monocyte.PB00004.01_Male_BR1 false                 \n",
       "IL1B..CD14.monocyte.PB00010.02_Male_BR1 false                 \n",
       "IL1B..CD14.monocyte.PB00014.01_Male_BR1 false                 \n",
       "IL1B..CD14.monocyte.PB00025.04_Male_BR1 false                 \n",
       "IL1B..CD14.monocyte.PB00026.05_Male_BR1 false                 \n",
       "                                        sample.sampleKitGuid sample.visitName\n",
       "IL1B..CD14.monocyte.PB00002.01_Male_BR1 KT00002              Flu Year 1 Day 0\n",
       "IL1B..CD14.monocyte.PB00004.01_Male_BR1 KT00004              Flu Year 1 Day 0\n",
       "IL1B..CD14.monocyte.PB00010.02_Male_BR1 KT00010              Flu Year 1 Day 0\n",
       "IL1B..CD14.monocyte.PB00014.01_Male_BR1 KT00014              Flu Year 1 Day 0\n",
       "IL1B..CD14.monocyte.PB00025.04_Male_BR1 KT00025              Flu Year 1 Day 0\n",
       "IL1B..CD14.monocyte.PB00026.05_Male_BR1 KT00026              Flu Year 1 Day 0\n",
       "                                        sample.visitDetails             ⋯\n",
       "IL1B..CD14.monocyte.PB00002.01_Male_BR1 N/A - Flu-Series Timepoint Only ⋯\n",
       "IL1B..CD14.monocyte.PB00004.01_Male_BR1 N/A - Flu-Series Timepoint Only ⋯\n",
       "IL1B..CD14.monocyte.PB00010.02_Male_BR1 N/A - Flu-Series Timepoint Only ⋯\n",
       "IL1B..CD14.monocyte.PB00014.01_Male_BR1 N/A - Flu-Series Timepoint Only ⋯\n",
       "IL1B..CD14.monocyte.PB00025.04_Male_BR1 N/A - Flu-Series Timepoint Only ⋯\n",
       "IL1B..CD14.monocyte.PB00026.05_Male_BR1 N/A - Flu-Series Timepoint Only ⋯\n",
       "                                        Sample_ID Sample_Draw_date Covid_Dose_1\n",
       "IL1B..CD14.monocyte.PB00002.01_Male_BR1 NA        2019-10-15       2020-12-28  \n",
       "IL1B..CD14.monocyte.PB00004.01_Male_BR1 NA        2019-10-21       2021-04-16  \n",
       "IL1B..CD14.monocyte.PB00010.02_Male_BR1 NA        2019-10-28       2021-03-21  \n",
       "IL1B..CD14.monocyte.PB00014.01_Male_BR1 NA        2019-10-30       2021-02-09  \n",
       "IL1B..CD14.monocyte.PB00025.04_Male_BR1 NA        2019-11-25       2021-01-29  \n",
       "IL1B..CD14.monocyte.PB00026.05_Male_BR1 NA        2019-11-25       2021-03-03  \n",
       "                                        Covid_Dose_2 Covid_exlcusion\n",
       "IL1B..CD14.monocyte.PB00002.01_Male_BR1 2021-01-18   no             \n",
       "IL1B..CD14.monocyte.PB00004.01_Male_BR1 2021-05-06   no             \n",
       "IL1B..CD14.monocyte.PB00010.02_Male_BR1 2021-04-18   no             \n",
       "IL1B..CD14.monocyte.PB00014.01_Male_BR1 2021-03-06   no             \n",
       "IL1B..CD14.monocyte.PB00025.04_Male_BR1 2021-02-19   no             \n",
       "IL1B..CD14.monocyte.PB00026.05_Male_BR1 2021-03-31   no             \n",
       "                                        CMV.IgG.Serology.Result.Interpretation\n",
       "IL1B..CD14.monocyte.PB00002.01_Male_BR1 Negative                              \n",
       "IL1B..CD14.monocyte.PB00004.01_Male_BR1 Negative                              \n",
       "IL1B..CD14.monocyte.PB00010.02_Male_BR1 Negative                              \n",
       "IL1B..CD14.monocyte.PB00014.01_Male_BR1 Positive                              \n",
       "IL1B..CD14.monocyte.PB00025.04_Male_BR1 Negative                              \n",
       "IL1B..CD14.monocyte.PB00026.05_Male_BR1 Positive                              \n",
       "                                        BMI      \n",
       "IL1B..CD14.monocyte.PB00002.01_Male_BR1 <25-BMI  \n",
       "IL1B..CD14.monocyte.PB00004.01_Male_BR1 <25-BMI  \n",
       "IL1B..CD14.monocyte.PB00010.02_Male_BR1 >25-30BMI\n",
       "IL1B..CD14.monocyte.PB00014.01_Male_BR1 <25-BMI  \n",
       "IL1B..CD14.monocyte.PB00025.04_Male_BR1 <25-BMI  \n",
       "IL1B..CD14.monocyte.PB00026.05_Male_BR1 <25-BMI  \n",
       "                                        file.name.downloaded                                        \n",
       "IL1B..CD14.monocyte.PB00002.01_Male_BR1 B001-P1_PB00002-01_labeled.h5                               \n",
       "IL1B..CD14.monocyte.PB00004.01_Male_BR1 B002-P1_PB00004-01_2023-11-17T21:36:51.794326181Z_labeled.h5\n",
       "IL1B..CD14.monocyte.PB00010.02_Male_BR1 B078-P2_PB00010-02_2021-08-19T17:09:29.934849811Z_labeled.h5\n",
       "IL1B..CD14.monocyte.PB00014.01_Male_BR1 B002-P1_PB00014-01_2023-11-17T21:36:51.794326181Z_labeled.h5\n",
       "IL1B..CD14.monocyte.PB00025.04_Male_BR1 B078-P2_PB00025-04_2021-08-19T17:09:29.934849811Z_labeled.h5\n",
       "IL1B..CD14.monocyte.PB00026.05_Male_BR1 B078-P2_PB00026-05_2021-08-19T17:09:29.934849811Z_labeled.h5\n",
       "                                        file.path                                                                                                                               \n",
       "IL1B..CD14.monocyte.PB00002.01_Male_BR1 /home/jupyter/BRI_Analysis/scRNA/cache/7c0c7979-eebd-4aba-b5b2-6e76b4643623/B001-P1_PB00002-01_labeled.h5                               \n",
       "IL1B..CD14.monocyte.PB00004.01_Male_BR1 /home/jupyter/BRI_Analysis/scRNA/cache/68fbcd34-1d63-461d-8195-df5b8dc61b31/B002-P1_PB00004-01_2023-11-17T21:36:51.794326181Z_labeled.h5\n",
       "IL1B..CD14.monocyte.PB00010.02_Male_BR1 /home/jupyter/BRI_Analysis/scRNA/cache/237e41df-5616-4852-8a8f-b32835c9efcb/B078-P2_PB00010-02_2021-08-19T17:09:29.934849811Z_labeled.h5\n",
       "IL1B..CD14.monocyte.PB00014.01_Male_BR1 /home/jupyter/BRI_Analysis/scRNA/cache/fbcbf51d-90f8-46ff-bd21-2f56d65306ad/B002-P1_PB00014-01_2023-11-17T21:36:51.794326181Z_labeled.h5\n",
       "IL1B..CD14.monocyte.PB00025.04_Male_BR1 /home/jupyter/BRI_Analysis/scRNA/cache/247d580e-7b47-4f59-bc37-6e29188b7aff/B078-P2_PB00025-04_2021-08-19T17:09:29.934849811Z_labeled.h5\n",
       "IL1B..CD14.monocyte.PB00026.05_Male_BR1 /home/jupyter/BRI_Analysis/scRNA/cache/139d1b1f-75d8-40ab-bcb5-70bd2cde9800/B078-P2_PB00026-05_2021-08-19T17:09:29.934849811Z_labeled.h5\n",
       "                                        Gene                                   \n",
       "IL1B..CD14.monocyte.PB00002.01_Male_BR1 IL1B..CD14.monocyte.PB00002.01_Male_BR1\n",
       "IL1B..CD14.monocyte.PB00004.01_Male_BR1 IL1B..CD14.monocyte.PB00004.01_Male_BR1\n",
       "IL1B..CD14.monocyte.PB00010.02_Male_BR1 IL1B..CD14.monocyte.PB00010.02_Male_BR1\n",
       "IL1B..CD14.monocyte.PB00014.01_Male_BR1 IL1B..CD14.monocyte.PB00014.01_Male_BR1\n",
       "IL1B..CD14.monocyte.PB00025.04_Male_BR1 IL1B..CD14.monocyte.PB00025.04_Male_BR1\n",
       "IL1B..CD14.monocyte.PB00026.05_Male_BR1 IL1B..CD14.monocyte.PB00026.05_Male_BR1"
      ]
     },
     "metadata": {},
     "output_type": "display_data"
    }
   ],
   "source": [
    "merged_df['Gene']= rownames(merged_df)\n",
    "head(merged_df)"
   ]
  },
  {
   "cell_type": "code",
   "execution_count": 87,
   "id": "b056909b-7752-48ab-82e5-d2cc222be5ab",
   "metadata": {},
   "outputs": [],
   "source": [
    "df <- mean_df %>% filter (Gene %in% c('KLRC2','GZMH'))"
   ]
  },
  {
   "cell_type": "code",
   "execution_count": 89,
   "id": "6ee169ac-d10e-4c15-8f2d-5e9e90ebf947",
   "metadata": {},
   "outputs": [
    {
     "data": {
      "text/html": [
       "<table class=\"dataframe\">\n",
       "<caption>A data.frame: 2 × 93</caption>\n",
       "<thead>\n",
       "\t<tr><th></th><th scope=col>Adaptive.NK.cell.BR1001_Negative</th><th scope=col>Adaptive.NK.cell.BR1002_Negative</th><th scope=col>Adaptive.NK.cell.BR1003_Negative</th><th scope=col>Adaptive.NK.cell.BR1004_Negative</th><th scope=col>Adaptive.NK.cell.BR1005_Negative</th><th scope=col>Adaptive.NK.cell.BR1006_Negative</th><th scope=col>Adaptive.NK.cell.BR1007_Positive</th><th scope=col>Adaptive.NK.cell.BR1008_Positive</th><th scope=col>Adaptive.NK.cell.BR1009_Negative</th><th scope=col>Adaptive.NK.cell.BR1010_Positive</th><th scope=col>⋯</th><th scope=col>Adaptive.NK.cell.BR2044_Positive</th><th scope=col>Adaptive.NK.cell.BR2045_Positive</th><th scope=col>Adaptive.NK.cell.BR2046_Negative</th><th scope=col>Adaptive.NK.cell.BR2047_Positive</th><th scope=col>Adaptive.NK.cell.BR2048_Positive</th><th scope=col>Adaptive.NK.cell.BR2050_Negative</th><th scope=col>Adaptive.NK.cell.BR2051_Positive</th><th scope=col>Adaptive.NK.cell.BR2052_Positive</th><th scope=col>Adaptive.NK.cell.BR2053_Positive</th><th scope=col>Gene</th></tr>\n",
       "\t<tr><th></th><th scope=col>&lt;dbl&gt;</th><th scope=col>&lt;dbl&gt;</th><th scope=col>&lt;dbl&gt;</th><th scope=col>&lt;dbl&gt;</th><th scope=col>&lt;dbl&gt;</th><th scope=col>&lt;dbl&gt;</th><th scope=col>&lt;dbl&gt;</th><th scope=col>&lt;dbl&gt;</th><th scope=col>&lt;dbl&gt;</th><th scope=col>&lt;dbl&gt;</th><th scope=col>⋯</th><th scope=col>&lt;dbl&gt;</th><th scope=col>&lt;dbl&gt;</th><th scope=col>&lt;dbl&gt;</th><th scope=col>&lt;dbl&gt;</th><th scope=col>&lt;dbl&gt;</th><th scope=col>&lt;dbl&gt;</th><th scope=col>&lt;dbl&gt;</th><th scope=col>&lt;dbl&gt;</th><th scope=col>&lt;dbl&gt;</th><th scope=col>&lt;chr&gt;</th></tr>\n",
       "</thead>\n",
       "<tbody>\n",
       "\t<tr><th scope=row>KLRC2</th><td>-0.4206476</td><td>-0.3138081</td><td>-0.5280408</td><td>-0.1684187</td><td>-1.0480218</td><td>-0.5387029</td><td>0.49156614</td><td>-0.16967898</td><td>-0.8947326</td><td>-0.1007049</td><td>⋯</td><td>-0.8445850</td><td>-0.43405411</td><td>-0.6423869</td><td>-0.18741646</td><td>-0.529724</td><td>-0.5368482</td><td>-0.6541208</td><td>-0.4101491</td><td>-0.37263238</td><td>KLRC2</td></tr>\n",
       "\t<tr><th scope=row>GZMH</th><td>-0.5318473</td><td>-0.9315045</td><td>-0.7492531</td><td>-0.7541114</td><td> 0.2259409</td><td>-0.2669601</td><td>0.07601297</td><td>-0.01230949</td><td>-0.2244112</td><td>-0.1416556</td><td>⋯</td><td> 0.1190748</td><td> 0.02443884</td><td>-0.5037663</td><td>-0.02660622</td><td>-0.146640</td><td>-0.2420380</td><td>-0.4915373</td><td>-0.4213825</td><td>-0.07151783</td><td>GZMH </td></tr>\n",
       "</tbody>\n",
       "</table>\n"
      ],
      "text/latex": [
       "A data.frame: 2 × 93\n",
       "\\begin{tabular}{r|lllllllllllllllllllll}\n",
       "  & Adaptive.NK.cell.BR1001\\_Negative & Adaptive.NK.cell.BR1002\\_Negative & Adaptive.NK.cell.BR1003\\_Negative & Adaptive.NK.cell.BR1004\\_Negative & Adaptive.NK.cell.BR1005\\_Negative & Adaptive.NK.cell.BR1006\\_Negative & Adaptive.NK.cell.BR1007\\_Positive & Adaptive.NK.cell.BR1008\\_Positive & Adaptive.NK.cell.BR1009\\_Negative & Adaptive.NK.cell.BR1010\\_Positive & ⋯ & Adaptive.NK.cell.BR2044\\_Positive & Adaptive.NK.cell.BR2045\\_Positive & Adaptive.NK.cell.BR2046\\_Negative & Adaptive.NK.cell.BR2047\\_Positive & Adaptive.NK.cell.BR2048\\_Positive & Adaptive.NK.cell.BR2050\\_Negative & Adaptive.NK.cell.BR2051\\_Positive & Adaptive.NK.cell.BR2052\\_Positive & Adaptive.NK.cell.BR2053\\_Positive & Gene\\\\\n",
       "  & <dbl> & <dbl> & <dbl> & <dbl> & <dbl> & <dbl> & <dbl> & <dbl> & <dbl> & <dbl> & ⋯ & <dbl> & <dbl> & <dbl> & <dbl> & <dbl> & <dbl> & <dbl> & <dbl> & <dbl> & <chr>\\\\\n",
       "\\hline\n",
       "\tKLRC2 & -0.4206476 & -0.3138081 & -0.5280408 & -0.1684187 & -1.0480218 & -0.5387029 & 0.49156614 & -0.16967898 & -0.8947326 & -0.1007049 & ⋯ & -0.8445850 & -0.43405411 & -0.6423869 & -0.18741646 & -0.529724 & -0.5368482 & -0.6541208 & -0.4101491 & -0.37263238 & KLRC2\\\\\n",
       "\tGZMH & -0.5318473 & -0.9315045 & -0.7492531 & -0.7541114 &  0.2259409 & -0.2669601 & 0.07601297 & -0.01230949 & -0.2244112 & -0.1416556 & ⋯ &  0.1190748 &  0.02443884 & -0.5037663 & -0.02660622 & -0.146640 & -0.2420380 & -0.4915373 & -0.4213825 & -0.07151783 & GZMH \\\\\n",
       "\\end{tabular}\n"
      ],
      "text/markdown": [
       "\n",
       "A data.frame: 2 × 93\n",
       "\n",
       "| <!--/--> | Adaptive.NK.cell.BR1001_Negative &lt;dbl&gt; | Adaptive.NK.cell.BR1002_Negative &lt;dbl&gt; | Adaptive.NK.cell.BR1003_Negative &lt;dbl&gt; | Adaptive.NK.cell.BR1004_Negative &lt;dbl&gt; | Adaptive.NK.cell.BR1005_Negative &lt;dbl&gt; | Adaptive.NK.cell.BR1006_Negative &lt;dbl&gt; | Adaptive.NK.cell.BR1007_Positive &lt;dbl&gt; | Adaptive.NK.cell.BR1008_Positive &lt;dbl&gt; | Adaptive.NK.cell.BR1009_Negative &lt;dbl&gt; | Adaptive.NK.cell.BR1010_Positive &lt;dbl&gt; | ⋯ ⋯ | Adaptive.NK.cell.BR2044_Positive &lt;dbl&gt; | Adaptive.NK.cell.BR2045_Positive &lt;dbl&gt; | Adaptive.NK.cell.BR2046_Negative &lt;dbl&gt; | Adaptive.NK.cell.BR2047_Positive &lt;dbl&gt; | Adaptive.NK.cell.BR2048_Positive &lt;dbl&gt; | Adaptive.NK.cell.BR2050_Negative &lt;dbl&gt; | Adaptive.NK.cell.BR2051_Positive &lt;dbl&gt; | Adaptive.NK.cell.BR2052_Positive &lt;dbl&gt; | Adaptive.NK.cell.BR2053_Positive &lt;dbl&gt; | Gene &lt;chr&gt; |\n",
       "|---|---|---|---|---|---|---|---|---|---|---|---|---|---|---|---|---|---|---|---|---|---|\n",
       "| KLRC2 | -0.4206476 | -0.3138081 | -0.5280408 | -0.1684187 | -1.0480218 | -0.5387029 | 0.49156614 | -0.16967898 | -0.8947326 | -0.1007049 | ⋯ | -0.8445850 | -0.43405411 | -0.6423869 | -0.18741646 | -0.529724 | -0.5368482 | -0.6541208 | -0.4101491 | -0.37263238 | KLRC2 |\n",
       "| GZMH | -0.5318473 | -0.9315045 | -0.7492531 | -0.7541114 |  0.2259409 | -0.2669601 | 0.07601297 | -0.01230949 | -0.2244112 | -0.1416556 | ⋯ |  0.1190748 |  0.02443884 | -0.5037663 | -0.02660622 | -0.146640 | -0.2420380 | -0.4915373 | -0.4213825 | -0.07151783 | GZMH  |\n",
       "\n"
      ],
      "text/plain": [
       "      Adaptive.NK.cell.BR1001_Negative Adaptive.NK.cell.BR1002_Negative\n",
       "KLRC2 -0.4206476                       -0.3138081                      \n",
       "GZMH  -0.5318473                       -0.9315045                      \n",
       "      Adaptive.NK.cell.BR1003_Negative Adaptive.NK.cell.BR1004_Negative\n",
       "KLRC2 -0.5280408                       -0.1684187                      \n",
       "GZMH  -0.7492531                       -0.7541114                      \n",
       "      Adaptive.NK.cell.BR1005_Negative Adaptive.NK.cell.BR1006_Negative\n",
       "KLRC2 -1.0480218                       -0.5387029                      \n",
       "GZMH   0.2259409                       -0.2669601                      \n",
       "      Adaptive.NK.cell.BR1007_Positive Adaptive.NK.cell.BR1008_Positive\n",
       "KLRC2 0.49156614                       -0.16967898                     \n",
       "GZMH  0.07601297                       -0.01230949                     \n",
       "      Adaptive.NK.cell.BR1009_Negative Adaptive.NK.cell.BR1010_Positive ⋯\n",
       "KLRC2 -0.8947326                       -0.1007049                       ⋯\n",
       "GZMH  -0.2244112                       -0.1416556                       ⋯\n",
       "      Adaptive.NK.cell.BR2044_Positive Adaptive.NK.cell.BR2045_Positive\n",
       "KLRC2 -0.8445850                       -0.43405411                     \n",
       "GZMH   0.1190748                        0.02443884                     \n",
       "      Adaptive.NK.cell.BR2046_Negative Adaptive.NK.cell.BR2047_Positive\n",
       "KLRC2 -0.6423869                       -0.18741646                     \n",
       "GZMH  -0.5037663                       -0.02660622                     \n",
       "      Adaptive.NK.cell.BR2048_Positive Adaptive.NK.cell.BR2050_Negative\n",
       "KLRC2 -0.529724                        -0.5368482                      \n",
       "GZMH  -0.146640                        -0.2420380                      \n",
       "      Adaptive.NK.cell.BR2051_Positive Adaptive.NK.cell.BR2052_Positive\n",
       "KLRC2 -0.6541208                       -0.4101491                      \n",
       "GZMH  -0.4915373                       -0.4213825                      \n",
       "      Adaptive.NK.cell.BR2053_Positive Gene \n",
       "KLRC2 -0.37263238                      KLRC2\n",
       "GZMH  -0.07151783                      GZMH "
      ]
     },
     "metadata": {},
     "output_type": "display_data"
    }
   ],
   "source": [
    "df"
   ]
  },
  {
   "cell_type": "code",
   "execution_count": 90,
   "id": "251d9a3c-e800-4a4b-b0ad-d10655f82363",
   "metadata": {},
   "outputs": [],
   "source": [
    "df <- df[,!(names(df) %in% c('Gene'))]"
   ]
  },
  {
   "cell_type": "code",
   "execution_count": 91,
   "id": "78e57fea-3691-4f9a-865f-e845e2675f27",
   "metadata": {},
   "outputs": [
    {
     "data": {
      "text/html": [
       "<table class=\"dataframe\">\n",
       "<caption>A data.frame: 2 × 92</caption>\n",
       "<thead>\n",
       "\t<tr><th></th><th scope=col>Adaptive.NK.cell.BR1001_Negative</th><th scope=col>Adaptive.NK.cell.BR1002_Negative</th><th scope=col>Adaptive.NK.cell.BR1003_Negative</th><th scope=col>Adaptive.NK.cell.BR1004_Negative</th><th scope=col>Adaptive.NK.cell.BR1005_Negative</th><th scope=col>Adaptive.NK.cell.BR1006_Negative</th><th scope=col>Adaptive.NK.cell.BR1007_Positive</th><th scope=col>Adaptive.NK.cell.BR1008_Positive</th><th scope=col>Adaptive.NK.cell.BR1009_Negative</th><th scope=col>Adaptive.NK.cell.BR1010_Positive</th><th scope=col>⋯</th><th scope=col>Adaptive.NK.cell.BR2043_Positive</th><th scope=col>Adaptive.NK.cell.BR2044_Positive</th><th scope=col>Adaptive.NK.cell.BR2045_Positive</th><th scope=col>Adaptive.NK.cell.BR2046_Negative</th><th scope=col>Adaptive.NK.cell.BR2047_Positive</th><th scope=col>Adaptive.NK.cell.BR2048_Positive</th><th scope=col>Adaptive.NK.cell.BR2050_Negative</th><th scope=col>Adaptive.NK.cell.BR2051_Positive</th><th scope=col>Adaptive.NK.cell.BR2052_Positive</th><th scope=col>Adaptive.NK.cell.BR2053_Positive</th></tr>\n",
       "\t<tr><th></th><th scope=col>&lt;dbl&gt;</th><th scope=col>&lt;dbl&gt;</th><th scope=col>&lt;dbl&gt;</th><th scope=col>&lt;dbl&gt;</th><th scope=col>&lt;dbl&gt;</th><th scope=col>&lt;dbl&gt;</th><th scope=col>&lt;dbl&gt;</th><th scope=col>&lt;dbl&gt;</th><th scope=col>&lt;dbl&gt;</th><th scope=col>&lt;dbl&gt;</th><th scope=col>⋯</th><th scope=col>&lt;dbl&gt;</th><th scope=col>&lt;dbl&gt;</th><th scope=col>&lt;dbl&gt;</th><th scope=col>&lt;dbl&gt;</th><th scope=col>&lt;dbl&gt;</th><th scope=col>&lt;dbl&gt;</th><th scope=col>&lt;dbl&gt;</th><th scope=col>&lt;dbl&gt;</th><th scope=col>&lt;dbl&gt;</th><th scope=col>&lt;dbl&gt;</th></tr>\n",
       "</thead>\n",
       "<tbody>\n",
       "\t<tr><th scope=row>KLRC2</th><td>-0.4206476</td><td>-0.3138081</td><td>-0.5280408</td><td>-0.1684187</td><td>-1.0480218</td><td>-0.5387029</td><td>0.49156614</td><td>-0.16967898</td><td>-0.8947326</td><td>-0.1007049</td><td>⋯</td><td>-0.9318925</td><td>-0.8445850</td><td>-0.43405411</td><td>-0.6423869</td><td>-0.18741646</td><td>-0.529724</td><td>-0.5368482</td><td>-0.6541208</td><td>-0.4101491</td><td>-0.37263238</td></tr>\n",
       "\t<tr><th scope=row>GZMH</th><td>-0.5318473</td><td>-0.9315045</td><td>-0.7492531</td><td>-0.7541114</td><td> 0.2259409</td><td>-0.2669601</td><td>0.07601297</td><td>-0.01230949</td><td>-0.2244112</td><td>-0.1416556</td><td>⋯</td><td>-1.1824784</td><td> 0.1190748</td><td> 0.02443884</td><td>-0.5037663</td><td>-0.02660622</td><td>-0.146640</td><td>-0.2420380</td><td>-0.4915373</td><td>-0.4213825</td><td>-0.07151783</td></tr>\n",
       "</tbody>\n",
       "</table>\n"
      ],
      "text/latex": [
       "A data.frame: 2 × 92\n",
       "\\begin{tabular}{r|lllllllllllllllllllll}\n",
       "  & Adaptive.NK.cell.BR1001\\_Negative & Adaptive.NK.cell.BR1002\\_Negative & Adaptive.NK.cell.BR1003\\_Negative & Adaptive.NK.cell.BR1004\\_Negative & Adaptive.NK.cell.BR1005\\_Negative & Adaptive.NK.cell.BR1006\\_Negative & Adaptive.NK.cell.BR1007\\_Positive & Adaptive.NK.cell.BR1008\\_Positive & Adaptive.NK.cell.BR1009\\_Negative & Adaptive.NK.cell.BR1010\\_Positive & ⋯ & Adaptive.NK.cell.BR2043\\_Positive & Adaptive.NK.cell.BR2044\\_Positive & Adaptive.NK.cell.BR2045\\_Positive & Adaptive.NK.cell.BR2046\\_Negative & Adaptive.NK.cell.BR2047\\_Positive & Adaptive.NK.cell.BR2048\\_Positive & Adaptive.NK.cell.BR2050\\_Negative & Adaptive.NK.cell.BR2051\\_Positive & Adaptive.NK.cell.BR2052\\_Positive & Adaptive.NK.cell.BR2053\\_Positive\\\\\n",
       "  & <dbl> & <dbl> & <dbl> & <dbl> & <dbl> & <dbl> & <dbl> & <dbl> & <dbl> & <dbl> & ⋯ & <dbl> & <dbl> & <dbl> & <dbl> & <dbl> & <dbl> & <dbl> & <dbl> & <dbl> & <dbl>\\\\\n",
       "\\hline\n",
       "\tKLRC2 & -0.4206476 & -0.3138081 & -0.5280408 & -0.1684187 & -1.0480218 & -0.5387029 & 0.49156614 & -0.16967898 & -0.8947326 & -0.1007049 & ⋯ & -0.9318925 & -0.8445850 & -0.43405411 & -0.6423869 & -0.18741646 & -0.529724 & -0.5368482 & -0.6541208 & -0.4101491 & -0.37263238\\\\\n",
       "\tGZMH & -0.5318473 & -0.9315045 & -0.7492531 & -0.7541114 &  0.2259409 & -0.2669601 & 0.07601297 & -0.01230949 & -0.2244112 & -0.1416556 & ⋯ & -1.1824784 &  0.1190748 &  0.02443884 & -0.5037663 & -0.02660622 & -0.146640 & -0.2420380 & -0.4915373 & -0.4213825 & -0.07151783\\\\\n",
       "\\end{tabular}\n"
      ],
      "text/markdown": [
       "\n",
       "A data.frame: 2 × 92\n",
       "\n",
       "| <!--/--> | Adaptive.NK.cell.BR1001_Negative &lt;dbl&gt; | Adaptive.NK.cell.BR1002_Negative &lt;dbl&gt; | Adaptive.NK.cell.BR1003_Negative &lt;dbl&gt; | Adaptive.NK.cell.BR1004_Negative &lt;dbl&gt; | Adaptive.NK.cell.BR1005_Negative &lt;dbl&gt; | Adaptive.NK.cell.BR1006_Negative &lt;dbl&gt; | Adaptive.NK.cell.BR1007_Positive &lt;dbl&gt; | Adaptive.NK.cell.BR1008_Positive &lt;dbl&gt; | Adaptive.NK.cell.BR1009_Negative &lt;dbl&gt; | Adaptive.NK.cell.BR1010_Positive &lt;dbl&gt; | ⋯ ⋯ | Adaptive.NK.cell.BR2043_Positive &lt;dbl&gt; | Adaptive.NK.cell.BR2044_Positive &lt;dbl&gt; | Adaptive.NK.cell.BR2045_Positive &lt;dbl&gt; | Adaptive.NK.cell.BR2046_Negative &lt;dbl&gt; | Adaptive.NK.cell.BR2047_Positive &lt;dbl&gt; | Adaptive.NK.cell.BR2048_Positive &lt;dbl&gt; | Adaptive.NK.cell.BR2050_Negative &lt;dbl&gt; | Adaptive.NK.cell.BR2051_Positive &lt;dbl&gt; | Adaptive.NK.cell.BR2052_Positive &lt;dbl&gt; | Adaptive.NK.cell.BR2053_Positive &lt;dbl&gt; |\n",
       "|---|---|---|---|---|---|---|---|---|---|---|---|---|---|---|---|---|---|---|---|---|---|\n",
       "| KLRC2 | -0.4206476 | -0.3138081 | -0.5280408 | -0.1684187 | -1.0480218 | -0.5387029 | 0.49156614 | -0.16967898 | -0.8947326 | -0.1007049 | ⋯ | -0.9318925 | -0.8445850 | -0.43405411 | -0.6423869 | -0.18741646 | -0.529724 | -0.5368482 | -0.6541208 | -0.4101491 | -0.37263238 |\n",
       "| GZMH | -0.5318473 | -0.9315045 | -0.7492531 | -0.7541114 |  0.2259409 | -0.2669601 | 0.07601297 | -0.01230949 | -0.2244112 | -0.1416556 | ⋯ | -1.1824784 |  0.1190748 |  0.02443884 | -0.5037663 | -0.02660622 | -0.146640 | -0.2420380 | -0.4915373 | -0.4213825 | -0.07151783 |\n",
       "\n"
      ],
      "text/plain": [
       "      Adaptive.NK.cell.BR1001_Negative Adaptive.NK.cell.BR1002_Negative\n",
       "KLRC2 -0.4206476                       -0.3138081                      \n",
       "GZMH  -0.5318473                       -0.9315045                      \n",
       "      Adaptive.NK.cell.BR1003_Negative Adaptive.NK.cell.BR1004_Negative\n",
       "KLRC2 -0.5280408                       -0.1684187                      \n",
       "GZMH  -0.7492531                       -0.7541114                      \n",
       "      Adaptive.NK.cell.BR1005_Negative Adaptive.NK.cell.BR1006_Negative\n",
       "KLRC2 -1.0480218                       -0.5387029                      \n",
       "GZMH   0.2259409                       -0.2669601                      \n",
       "      Adaptive.NK.cell.BR1007_Positive Adaptive.NK.cell.BR1008_Positive\n",
       "KLRC2 0.49156614                       -0.16967898                     \n",
       "GZMH  0.07601297                       -0.01230949                     \n",
       "      Adaptive.NK.cell.BR1009_Negative Adaptive.NK.cell.BR1010_Positive ⋯\n",
       "KLRC2 -0.8947326                       -0.1007049                       ⋯\n",
       "GZMH  -0.2244112                       -0.1416556                       ⋯\n",
       "      Adaptive.NK.cell.BR2043_Positive Adaptive.NK.cell.BR2044_Positive\n",
       "KLRC2 -0.9318925                       -0.8445850                      \n",
       "GZMH  -1.1824784                        0.1190748                      \n",
       "      Adaptive.NK.cell.BR2045_Positive Adaptive.NK.cell.BR2046_Negative\n",
       "KLRC2 -0.43405411                      -0.6423869                      \n",
       "GZMH   0.02443884                      -0.5037663                      \n",
       "      Adaptive.NK.cell.BR2047_Positive Adaptive.NK.cell.BR2048_Positive\n",
       "KLRC2 -0.18741646                      -0.529724                       \n",
       "GZMH  -0.02660622                      -0.146640                       \n",
       "      Adaptive.NK.cell.BR2050_Negative Adaptive.NK.cell.BR2051_Positive\n",
       "KLRC2 -0.5368482                       -0.6541208                      \n",
       "GZMH  -0.2420380                       -0.4915373                      \n",
       "      Adaptive.NK.cell.BR2052_Positive Adaptive.NK.cell.BR2053_Positive\n",
       "KLRC2 -0.4101491                       -0.37263238                     \n",
       "GZMH  -0.4213825                       -0.07151783                     "
      ]
     },
     "metadata": {},
     "output_type": "display_data"
    }
   ],
   "source": [
    "df"
   ]
  },
  {
   "cell_type": "code",
   "execution_count": 92,
   "id": "913dbfa8-0e90-43cf-897e-8d7c4936cdd4",
   "metadata": {},
   "outputs": [],
   "source": [
    "df <- df %>% t() %>% as.data.frame()"
   ]
  },
  {
   "cell_type": "code",
   "execution_count": 94,
   "id": "8ca62da9-41ef-4be3-8601-2bcdc84ba10b",
   "metadata": {},
   "outputs": [
    {
     "data": {
      "text/html": [
       "<style>\n",
       ".list-inline {list-style: none; margin:0; padding: 0}\n",
       ".list-inline>li {display: inline-block}\n",
       ".list-inline>li:not(:last-child)::after {content: \"\\00b7\"; padding: 0 .5ex}\n",
       "</style>\n",
       "<ol class=list-inline><li>92</li><li>2</li></ol>\n"
      ],
      "text/latex": [
       "\\begin{enumerate*}\n",
       "\\item 92\n",
       "\\item 2\n",
       "\\end{enumerate*}\n"
      ],
      "text/markdown": [
       "1. 92\n",
       "2. 2\n",
       "\n",
       "\n"
      ],
      "text/plain": [
       "[1] 92  2"
      ]
     },
     "metadata": {},
     "output_type": "display_data"
    }
   ],
   "source": [
    "dim(df)"
   ]
  },
  {
   "cell_type": "code",
   "execution_count": 95,
   "id": "18c476d8-7c9e-47fc-ad2a-f6711ea5d407",
   "metadata": {},
   "outputs": [
    {
     "data": {
      "text/html": [
       "<table class=\"dataframe\">\n",
       "<caption>A data.frame: 3 × 2</caption>\n",
       "<thead>\n",
       "\t<tr><th></th><th scope=col>KLRC2</th><th scope=col>GZMH</th></tr>\n",
       "\t<tr><th></th><th scope=col>&lt;dbl&gt;</th><th scope=col>&lt;dbl&gt;</th></tr>\n",
       "</thead>\n",
       "<tbody>\n",
       "\t<tr><th scope=row>Adaptive.NK.cell.BR1001_Negative</th><td>-0.4206476</td><td>-0.5318473</td></tr>\n",
       "\t<tr><th scope=row>Adaptive.NK.cell.BR1002_Negative</th><td>-0.3138081</td><td>-0.9315045</td></tr>\n",
       "\t<tr><th scope=row>Adaptive.NK.cell.BR1003_Negative</th><td>-0.5280408</td><td>-0.7492531</td></tr>\n",
       "</tbody>\n",
       "</table>\n"
      ],
      "text/latex": [
       "A data.frame: 3 × 2\n",
       "\\begin{tabular}{r|ll}\n",
       "  & KLRC2 & GZMH\\\\\n",
       "  & <dbl> & <dbl>\\\\\n",
       "\\hline\n",
       "\tAdaptive.NK.cell.BR1001\\_Negative & -0.4206476 & -0.5318473\\\\\n",
       "\tAdaptive.NK.cell.BR1002\\_Negative & -0.3138081 & -0.9315045\\\\\n",
       "\tAdaptive.NK.cell.BR1003\\_Negative & -0.5280408 & -0.7492531\\\\\n",
       "\\end{tabular}\n"
      ],
      "text/markdown": [
       "\n",
       "A data.frame: 3 × 2\n",
       "\n",
       "| <!--/--> | KLRC2 &lt;dbl&gt; | GZMH &lt;dbl&gt; |\n",
       "|---|---|---|\n",
       "| Adaptive.NK.cell.BR1001_Negative | -0.4206476 | -0.5318473 |\n",
       "| Adaptive.NK.cell.BR1002_Negative | -0.3138081 | -0.9315045 |\n",
       "| Adaptive.NK.cell.BR1003_Negative | -0.5280408 | -0.7492531 |\n",
       "\n"
      ],
      "text/plain": [
       "                                 KLRC2      GZMH      \n",
       "Adaptive.NK.cell.BR1001_Negative -0.4206476 -0.5318473\n",
       "Adaptive.NK.cell.BR1002_Negative -0.3138081 -0.9315045\n",
       "Adaptive.NK.cell.BR1003_Negative -0.5280408 -0.7492531"
      ]
     },
     "metadata": {},
     "output_type": "display_data"
    }
   ],
   "source": [
    "head(df, n=3)"
   ]
  },
  {
   "cell_type": "code",
   "execution_count": 96,
   "id": "2e87bde4-bca3-4bbb-b610-4484f964d169",
   "metadata": {},
   "outputs": [
    {
     "data": {
      "text/html": [
       "<style>\n",
       ".list-inline {list-style: none; margin:0; padding: 0}\n",
       ".list-inline>li {display: inline-block}\n",
       ".list-inline>li:not(:last-child)::after {content: \"\\00b7\"; padding: 0 .5ex}\n",
       "</style>\n",
       "<ol class=list-inline><li>92</li><li>6</li></ol>\n"
      ],
      "text/latex": [
       "\\begin{enumerate*}\n",
       "\\item 92\n",
       "\\item 6\n",
       "\\end{enumerate*}\n"
      ],
      "text/markdown": [
       "1. 92\n",
       "2. 6\n",
       "\n",
       "\n"
      ],
      "text/plain": [
       "[1] 92  6"
      ]
     },
     "metadata": {},
     "output_type": "display_data"
    }
   ],
   "source": [
    "dim(meta)"
   ]
  },
  {
   "cell_type": "code",
   "execution_count": 97,
   "id": "5a95abe3-f530-4e28-8a1b-0ef65c1d71a6",
   "metadata": {},
   "outputs": [
    {
     "data": {
      "text/html": [
       "<table class=\"dataframe\">\n",
       "<caption>A data.frame: 3 × 6</caption>\n",
       "<thead>\n",
       "\t<tr><th></th><th scope=col>colnames.mean_df.</th><th scope=col>Cell_Type</th><th scope=col>Sample</th><th scope=col>ptid</th><th scope=col>CMV</th><th scope=col>cohort</th></tr>\n",
       "\t<tr><th></th><th scope=col>&lt;chr&gt;</th><th scope=col>&lt;chr&gt;</th><th scope=col>&lt;chr&gt;</th><th scope=col>&lt;chr&gt;</th><th scope=col>&lt;chr&gt;</th><th scope=col>&lt;chr&gt;</th></tr>\n",
       "</thead>\n",
       "<tbody>\n",
       "\t<tr><th scope=row>Adaptive.NK.cell.BR1001_Negative</th><td>Adaptive.NK.cell.BR1001_Negative</td><td>Adaptive</td><td>BR1001_Negative</td><td>BR1001</td><td>Negative</td><td>BR1</td></tr>\n",
       "\t<tr><th scope=row>Adaptive.NK.cell.BR1002_Negative</th><td>Adaptive.NK.cell.BR1002_Negative</td><td>Adaptive</td><td>BR1002_Negative</td><td>BR1002</td><td>Negative</td><td>BR1</td></tr>\n",
       "\t<tr><th scope=row>Adaptive.NK.cell.BR1003_Negative</th><td>Adaptive.NK.cell.BR1003_Negative</td><td>Adaptive</td><td>BR1003_Negative</td><td>BR1003</td><td>Negative</td><td>BR1</td></tr>\n",
       "</tbody>\n",
       "</table>\n"
      ],
      "text/latex": [
       "A data.frame: 3 × 6\n",
       "\\begin{tabular}{r|llllll}\n",
       "  & colnames.mean\\_df. & Cell\\_Type & Sample & ptid & CMV & cohort\\\\\n",
       "  & <chr> & <chr> & <chr> & <chr> & <chr> & <chr>\\\\\n",
       "\\hline\n",
       "\tAdaptive.NK.cell.BR1001\\_Negative & Adaptive.NK.cell.BR1001\\_Negative & Adaptive & BR1001\\_Negative & BR1001 & Negative & BR1\\\\\n",
       "\tAdaptive.NK.cell.BR1002\\_Negative & Adaptive.NK.cell.BR1002\\_Negative & Adaptive & BR1002\\_Negative & BR1002 & Negative & BR1\\\\\n",
       "\tAdaptive.NK.cell.BR1003\\_Negative & Adaptive.NK.cell.BR1003\\_Negative & Adaptive & BR1003\\_Negative & BR1003 & Negative & BR1\\\\\n",
       "\\end{tabular}\n"
      ],
      "text/markdown": [
       "\n",
       "A data.frame: 3 × 6\n",
       "\n",
       "| <!--/--> | colnames.mean_df. &lt;chr&gt; | Cell_Type &lt;chr&gt; | Sample &lt;chr&gt; | ptid &lt;chr&gt; | CMV &lt;chr&gt; | cohort &lt;chr&gt; |\n",
       "|---|---|---|---|---|---|---|\n",
       "| Adaptive.NK.cell.BR1001_Negative | Adaptive.NK.cell.BR1001_Negative | Adaptive | BR1001_Negative | BR1001 | Negative | BR1 |\n",
       "| Adaptive.NK.cell.BR1002_Negative | Adaptive.NK.cell.BR1002_Negative | Adaptive | BR1002_Negative | BR1002 | Negative | BR1 |\n",
       "| Adaptive.NK.cell.BR1003_Negative | Adaptive.NK.cell.BR1003_Negative | Adaptive | BR1003_Negative | BR1003 | Negative | BR1 |\n",
       "\n"
      ],
      "text/plain": [
       "                                 colnames.mean_df.                Cell_Type\n",
       "Adaptive.NK.cell.BR1001_Negative Adaptive.NK.cell.BR1001_Negative Adaptive \n",
       "Adaptive.NK.cell.BR1002_Negative Adaptive.NK.cell.BR1002_Negative Adaptive \n",
       "Adaptive.NK.cell.BR1003_Negative Adaptive.NK.cell.BR1003_Negative Adaptive \n",
       "                                 Sample          ptid   CMV      cohort\n",
       "Adaptive.NK.cell.BR1001_Negative BR1001_Negative BR1001 Negative BR1   \n",
       "Adaptive.NK.cell.BR1002_Negative BR1002_Negative BR1002 Negative BR1   \n",
       "Adaptive.NK.cell.BR1003_Negative BR1003_Negative BR1003 Negative BR1   "
      ]
     },
     "metadata": {},
     "output_type": "display_data"
    }
   ],
   "source": [
    "head(meta, n=3)"
   ]
  },
  {
   "cell_type": "code",
   "execution_count": 105,
   "id": "bdf9c617-0a2d-4cdc-91c9-f78ee2023300",
   "metadata": {},
   "outputs": [
    {
     "data": {
      "text/html": [
       "<style>\n",
       ".list-inline {list-style: none; margin:0; padding: 0}\n",
       ".list-inline>li {display: inline-block}\n",
       ".list-inline>li:not(:last-child)::after {content: \"\\00b7\"; padding: 0 .5ex}\n",
       "</style>\n",
       "<ol class=list-inline><li>92</li><li>2</li></ol>\n"
      ],
      "text/latex": [
       "\\begin{enumerate*}\n",
       "\\item 92\n",
       "\\item 2\n",
       "\\end{enumerate*}\n"
      ],
      "text/markdown": [
       "1. 92\n",
       "2. 2\n",
       "\n",
       "\n"
      ],
      "text/plain": [
       "[1] 92  2"
      ]
     },
     "metadata": {},
     "output_type": "display_data"
    }
   ],
   "source": [
    "dim(df)"
   ]
  },
  {
   "cell_type": "code",
   "execution_count": 107,
   "id": "fbbc89ee-9111-48d1-a9ca-d71417777589",
   "metadata": {},
   "outputs": [],
   "source": [
    "df['name']= rownames(df)"
   ]
  },
  {
   "cell_type": "code",
   "execution_count": 108,
   "id": "99d641da-732a-4ace-8a02-072ad0ada116",
   "metadata": {},
   "outputs": [
    {
     "data": {
      "text/html": [
       "<table class=\"dataframe\">\n",
       "<caption>A data.frame: 3 × 3</caption>\n",
       "<thead>\n",
       "\t<tr><th></th><th scope=col>KLRC2</th><th scope=col>GZMH</th><th scope=col>name</th></tr>\n",
       "\t<tr><th></th><th scope=col>&lt;dbl&gt;</th><th scope=col>&lt;dbl&gt;</th><th scope=col>&lt;chr&gt;</th></tr>\n",
       "</thead>\n",
       "<tbody>\n",
       "\t<tr><th scope=row>Adaptive.NK.cell.BR1001_Negative</th><td>-0.4206476</td><td>-0.5318473</td><td>Adaptive.NK.cell.BR1001_Negative</td></tr>\n",
       "\t<tr><th scope=row>Adaptive.NK.cell.BR1002_Negative</th><td>-0.3138081</td><td>-0.9315045</td><td>Adaptive.NK.cell.BR1002_Negative</td></tr>\n",
       "\t<tr><th scope=row>Adaptive.NK.cell.BR1003_Negative</th><td>-0.5280408</td><td>-0.7492531</td><td>Adaptive.NK.cell.BR1003_Negative</td></tr>\n",
       "</tbody>\n",
       "</table>\n"
      ],
      "text/latex": [
       "A data.frame: 3 × 3\n",
       "\\begin{tabular}{r|lll}\n",
       "  & KLRC2 & GZMH & name\\\\\n",
       "  & <dbl> & <dbl> & <chr>\\\\\n",
       "\\hline\n",
       "\tAdaptive.NK.cell.BR1001\\_Negative & -0.4206476 & -0.5318473 & Adaptive.NK.cell.BR1001\\_Negative\\\\\n",
       "\tAdaptive.NK.cell.BR1002\\_Negative & -0.3138081 & -0.9315045 & Adaptive.NK.cell.BR1002\\_Negative\\\\\n",
       "\tAdaptive.NK.cell.BR1003\\_Negative & -0.5280408 & -0.7492531 & Adaptive.NK.cell.BR1003\\_Negative\\\\\n",
       "\\end{tabular}\n"
      ],
      "text/markdown": [
       "\n",
       "A data.frame: 3 × 3\n",
       "\n",
       "| <!--/--> | KLRC2 &lt;dbl&gt; | GZMH &lt;dbl&gt; | name &lt;chr&gt; |\n",
       "|---|---|---|---|\n",
       "| Adaptive.NK.cell.BR1001_Negative | -0.4206476 | -0.5318473 | Adaptive.NK.cell.BR1001_Negative |\n",
       "| Adaptive.NK.cell.BR1002_Negative | -0.3138081 | -0.9315045 | Adaptive.NK.cell.BR1002_Negative |\n",
       "| Adaptive.NK.cell.BR1003_Negative | -0.5280408 | -0.7492531 | Adaptive.NK.cell.BR1003_Negative |\n",
       "\n"
      ],
      "text/plain": [
       "                                 KLRC2      GZMH      \n",
       "Adaptive.NK.cell.BR1001_Negative -0.4206476 -0.5318473\n",
       "Adaptive.NK.cell.BR1002_Negative -0.3138081 -0.9315045\n",
       "Adaptive.NK.cell.BR1003_Negative -0.5280408 -0.7492531\n",
       "                                 name                            \n",
       "Adaptive.NK.cell.BR1001_Negative Adaptive.NK.cell.BR1001_Negative\n",
       "Adaptive.NK.cell.BR1002_Negative Adaptive.NK.cell.BR1002_Negative\n",
       "Adaptive.NK.cell.BR1003_Negative Adaptive.NK.cell.BR1003_Negative"
      ]
     },
     "metadata": {},
     "output_type": "display_data"
    }
   ],
   "source": [
    "head(df, n=3)"
   ]
  },
  {
   "cell_type": "code",
   "execution_count": 109,
   "id": "618ef514-7d77-445f-90b9-d26922d0264d",
   "metadata": {},
   "outputs": [
    {
     "data": {
      "text/html": [
       "<style>\n",
       ".list-inline {list-style: none; margin:0; padding: 0}\n",
       ".list-inline>li {display: inline-block}\n",
       ".list-inline>li:not(:last-child)::after {content: \"\\00b7\"; padding: 0 .5ex}\n",
       "</style>\n",
       "<ol class=list-inline><li>'KLRC2'</li><li>'GZMH'</li><li>'name'</li></ol>\n"
      ],
      "text/latex": [
       "\\begin{enumerate*}\n",
       "\\item 'KLRC2'\n",
       "\\item 'GZMH'\n",
       "\\item 'name'\n",
       "\\end{enumerate*}\n"
      ],
      "text/markdown": [
       "1. 'KLRC2'\n",
       "2. 'GZMH'\n",
       "3. 'name'\n",
       "\n",
       "\n"
      ],
      "text/plain": [
       "[1] \"KLRC2\" \"GZMH\"  \"name\" "
      ]
     },
     "metadata": {},
     "output_type": "display_data"
    }
   ],
   "source": [
    "colnames(df)"
   ]
  },
  {
   "cell_type": "code",
   "execution_count": 99,
   "id": "9a247676-89a3-4a7d-984d-92f8844b2165",
   "metadata": {},
   "outputs": [
    {
     "data": {
      "text/html": [
       "<style>\n",
       ".list-inline {list-style: none; margin:0; padding: 0}\n",
       ".list-inline>li {display: inline-block}\n",
       ".list-inline>li:not(:last-child)::after {content: \"\\00b7\"; padding: 0 .5ex}\n",
       "</style>\n",
       "<ol class=list-inline><li>'colnames.mean_df.'</li><li>'Cell_Type'</li><li>'Sample'</li><li>'ptid'</li><li>'CMV'</li><li>'cohort'</li></ol>\n"
      ],
      "text/latex": [
       "\\begin{enumerate*}\n",
       "\\item 'colnames.mean\\_df.'\n",
       "\\item 'Cell\\_Type'\n",
       "\\item 'Sample'\n",
       "\\item 'ptid'\n",
       "\\item 'CMV'\n",
       "\\item 'cohort'\n",
       "\\end{enumerate*}\n"
      ],
      "text/markdown": [
       "1. 'colnames.mean_df.'\n",
       "2. 'Cell_Type'\n",
       "3. 'Sample'\n",
       "4. 'ptid'\n",
       "5. 'CMV'\n",
       "6. 'cohort'\n",
       "\n",
       "\n"
      ],
      "text/plain": [
       "[1] \"colnames.mean_df.\" \"Cell_Type\"         \"Sample\"           \n",
       "[4] \"ptid\"              \"CMV\"               \"cohort\"           "
      ]
     },
     "metadata": {},
     "output_type": "display_data"
    }
   ],
   "source": [
    "colnames(meta)"
   ]
  },
  {
   "cell_type": "code",
   "execution_count": 112,
   "id": "7b0e200f-768f-4153-8c41-12255b0decfa",
   "metadata": {},
   "outputs": [],
   "source": [
    "meta['name']= meta['colnames.mean_df.']"
   ]
  },
  {
   "cell_type": "code",
   "execution_count": 113,
   "id": "57521d4a-3dee-420f-9633-607de79c2546",
   "metadata": {},
   "outputs": [
    {
     "data": {
      "text/html": [
       "<table class=\"dataframe\">\n",
       "<caption>A data.frame: 3 × 7</caption>\n",
       "<thead>\n",
       "\t<tr><th></th><th scope=col>colnames.mean_df.</th><th scope=col>Cell_Type</th><th scope=col>Sample</th><th scope=col>ptid</th><th scope=col>CMV</th><th scope=col>cohort</th><th scope=col>name</th></tr>\n",
       "\t<tr><th></th><th scope=col>&lt;chr&gt;</th><th scope=col>&lt;chr&gt;</th><th scope=col>&lt;chr&gt;</th><th scope=col>&lt;chr&gt;</th><th scope=col>&lt;chr&gt;</th><th scope=col>&lt;chr&gt;</th><th scope=col>&lt;chr&gt;</th></tr>\n",
       "</thead>\n",
       "<tbody>\n",
       "\t<tr><th scope=row>Adaptive.NK.cell.BR1001_Negative</th><td>Adaptive.NK.cell.BR1001_Negative</td><td>Adaptive</td><td>BR1001_Negative</td><td>BR1001</td><td>Negative</td><td>BR1</td><td>Adaptive.NK.cell.BR1001_Negative</td></tr>\n",
       "\t<tr><th scope=row>Adaptive.NK.cell.BR1002_Negative</th><td>Adaptive.NK.cell.BR1002_Negative</td><td>Adaptive</td><td>BR1002_Negative</td><td>BR1002</td><td>Negative</td><td>BR1</td><td>Adaptive.NK.cell.BR1002_Negative</td></tr>\n",
       "\t<tr><th scope=row>Adaptive.NK.cell.BR1003_Negative</th><td>Adaptive.NK.cell.BR1003_Negative</td><td>Adaptive</td><td>BR1003_Negative</td><td>BR1003</td><td>Negative</td><td>BR1</td><td>Adaptive.NK.cell.BR1003_Negative</td></tr>\n",
       "</tbody>\n",
       "</table>\n"
      ],
      "text/latex": [
       "A data.frame: 3 × 7\n",
       "\\begin{tabular}{r|lllllll}\n",
       "  & colnames.mean\\_df. & Cell\\_Type & Sample & ptid & CMV & cohort & name\\\\\n",
       "  & <chr> & <chr> & <chr> & <chr> & <chr> & <chr> & <chr>\\\\\n",
       "\\hline\n",
       "\tAdaptive.NK.cell.BR1001\\_Negative & Adaptive.NK.cell.BR1001\\_Negative & Adaptive & BR1001\\_Negative & BR1001 & Negative & BR1 & Adaptive.NK.cell.BR1001\\_Negative\\\\\n",
       "\tAdaptive.NK.cell.BR1002\\_Negative & Adaptive.NK.cell.BR1002\\_Negative & Adaptive & BR1002\\_Negative & BR1002 & Negative & BR1 & Adaptive.NK.cell.BR1002\\_Negative\\\\\n",
       "\tAdaptive.NK.cell.BR1003\\_Negative & Adaptive.NK.cell.BR1003\\_Negative & Adaptive & BR1003\\_Negative & BR1003 & Negative & BR1 & Adaptive.NK.cell.BR1003\\_Negative\\\\\n",
       "\\end{tabular}\n"
      ],
      "text/markdown": [
       "\n",
       "A data.frame: 3 × 7\n",
       "\n",
       "| <!--/--> | colnames.mean_df. &lt;chr&gt; | Cell_Type &lt;chr&gt; | Sample &lt;chr&gt; | ptid &lt;chr&gt; | CMV &lt;chr&gt; | cohort &lt;chr&gt; | name &lt;chr&gt; |\n",
       "|---|---|---|---|---|---|---|---|\n",
       "| Adaptive.NK.cell.BR1001_Negative | Adaptive.NK.cell.BR1001_Negative | Adaptive | BR1001_Negative | BR1001 | Negative | BR1 | Adaptive.NK.cell.BR1001_Negative |\n",
       "| Adaptive.NK.cell.BR1002_Negative | Adaptive.NK.cell.BR1002_Negative | Adaptive | BR1002_Negative | BR1002 | Negative | BR1 | Adaptive.NK.cell.BR1002_Negative |\n",
       "| Adaptive.NK.cell.BR1003_Negative | Adaptive.NK.cell.BR1003_Negative | Adaptive | BR1003_Negative | BR1003 | Negative | BR1 | Adaptive.NK.cell.BR1003_Negative |\n",
       "\n"
      ],
      "text/plain": [
       "                                 colnames.mean_df.                Cell_Type\n",
       "Adaptive.NK.cell.BR1001_Negative Adaptive.NK.cell.BR1001_Negative Adaptive \n",
       "Adaptive.NK.cell.BR1002_Negative Adaptive.NK.cell.BR1002_Negative Adaptive \n",
       "Adaptive.NK.cell.BR1003_Negative Adaptive.NK.cell.BR1003_Negative Adaptive \n",
       "                                 Sample          ptid   CMV      cohort\n",
       "Adaptive.NK.cell.BR1001_Negative BR1001_Negative BR1001 Negative BR1   \n",
       "Adaptive.NK.cell.BR1002_Negative BR1002_Negative BR1002 Negative BR1   \n",
       "Adaptive.NK.cell.BR1003_Negative BR1003_Negative BR1003 Negative BR1   \n",
       "                                 name                            \n",
       "Adaptive.NK.cell.BR1001_Negative Adaptive.NK.cell.BR1001_Negative\n",
       "Adaptive.NK.cell.BR1002_Negative Adaptive.NK.cell.BR1002_Negative\n",
       "Adaptive.NK.cell.BR1003_Negative Adaptive.NK.cell.BR1003_Negative"
      ]
     },
     "metadata": {},
     "output_type": "display_data"
    }
   ],
   "source": [
    "head(meta, n=3)"
   ]
  },
  {
   "cell_type": "code",
   "execution_count": 115,
   "id": "97ab940c-4351-4a74-b4fe-ed4c7d546919",
   "metadata": {},
   "outputs": [],
   "source": [
    "data <- left_join(df,unique(meta[c('name','Cell_Type','ptid','CMV','cohort')]),by=c('name'))"
   ]
  },
  {
   "cell_type": "code",
   "execution_count": 116,
   "id": "d08805fa-767c-4787-8918-f52cd0293aa6",
   "metadata": {},
   "outputs": [
    {
     "data": {
      "text/html": [
       "<style>\n",
       ".list-inline {list-style: none; margin:0; padding: 0}\n",
       ".list-inline>li {display: inline-block}\n",
       ".list-inline>li:not(:last-child)::after {content: \"\\00b7\"; padding: 0 .5ex}\n",
       "</style>\n",
       "<ol class=list-inline><li>92</li><li>7</li></ol>\n"
      ],
      "text/latex": [
       "\\begin{enumerate*}\n",
       "\\item 92\n",
       "\\item 7\n",
       "\\end{enumerate*}\n"
      ],
      "text/markdown": [
       "1. 92\n",
       "2. 7\n",
       "\n",
       "\n"
      ],
      "text/plain": [
       "[1] 92  7"
      ]
     },
     "metadata": {},
     "output_type": "display_data"
    }
   ],
   "source": [
    "dim(data)"
   ]
  },
  {
   "cell_type": "code",
   "execution_count": 117,
   "id": "779be459-89b7-4b75-8166-1318db81e662",
   "metadata": {},
   "outputs": [
    {
     "data": {
      "text/html": [
       "<table class=\"dataframe\">\n",
       "<caption>A data.frame: 3 × 7</caption>\n",
       "<thead>\n",
       "\t<tr><th></th><th scope=col>KLRC2</th><th scope=col>GZMH</th><th scope=col>name</th><th scope=col>Cell_Type</th><th scope=col>ptid</th><th scope=col>CMV</th><th scope=col>cohort</th></tr>\n",
       "\t<tr><th></th><th scope=col>&lt;dbl&gt;</th><th scope=col>&lt;dbl&gt;</th><th scope=col>&lt;chr&gt;</th><th scope=col>&lt;chr&gt;</th><th scope=col>&lt;chr&gt;</th><th scope=col>&lt;chr&gt;</th><th scope=col>&lt;chr&gt;</th></tr>\n",
       "</thead>\n",
       "<tbody>\n",
       "\t<tr><th scope=row>1</th><td>-0.4206476</td><td>-0.5318473</td><td>Adaptive.NK.cell.BR1001_Negative</td><td>Adaptive</td><td>BR1001</td><td>Negative</td><td>BR1</td></tr>\n",
       "\t<tr><th scope=row>2</th><td>-0.3138081</td><td>-0.9315045</td><td>Adaptive.NK.cell.BR1002_Negative</td><td>Adaptive</td><td>BR1002</td><td>Negative</td><td>BR1</td></tr>\n",
       "\t<tr><th scope=row>3</th><td>-0.5280408</td><td>-0.7492531</td><td>Adaptive.NK.cell.BR1003_Negative</td><td>Adaptive</td><td>BR1003</td><td>Negative</td><td>BR1</td></tr>\n",
       "</tbody>\n",
       "</table>\n"
      ],
      "text/latex": [
       "A data.frame: 3 × 7\n",
       "\\begin{tabular}{r|lllllll}\n",
       "  & KLRC2 & GZMH & name & Cell\\_Type & ptid & CMV & cohort\\\\\n",
       "  & <dbl> & <dbl> & <chr> & <chr> & <chr> & <chr> & <chr>\\\\\n",
       "\\hline\n",
       "\t1 & -0.4206476 & -0.5318473 & Adaptive.NK.cell.BR1001\\_Negative & Adaptive & BR1001 & Negative & BR1\\\\\n",
       "\t2 & -0.3138081 & -0.9315045 & Adaptive.NK.cell.BR1002\\_Negative & Adaptive & BR1002 & Negative & BR1\\\\\n",
       "\t3 & -0.5280408 & -0.7492531 & Adaptive.NK.cell.BR1003\\_Negative & Adaptive & BR1003 & Negative & BR1\\\\\n",
       "\\end{tabular}\n"
      ],
      "text/markdown": [
       "\n",
       "A data.frame: 3 × 7\n",
       "\n",
       "| <!--/--> | KLRC2 &lt;dbl&gt; | GZMH &lt;dbl&gt; | name &lt;chr&gt; | Cell_Type &lt;chr&gt; | ptid &lt;chr&gt; | CMV &lt;chr&gt; | cohort &lt;chr&gt; |\n",
       "|---|---|---|---|---|---|---|---|\n",
       "| 1 | -0.4206476 | -0.5318473 | Adaptive.NK.cell.BR1001_Negative | Adaptive | BR1001 | Negative | BR1 |\n",
       "| 2 | -0.3138081 | -0.9315045 | Adaptive.NK.cell.BR1002_Negative | Adaptive | BR1002 | Negative | BR1 |\n",
       "| 3 | -0.5280408 | -0.7492531 | Adaptive.NK.cell.BR1003_Negative | Adaptive | BR1003 | Negative | BR1 |\n",
       "\n"
      ],
      "text/plain": [
       "  KLRC2      GZMH       name                             Cell_Type ptid  \n",
       "1 -0.4206476 -0.5318473 Adaptive.NK.cell.BR1001_Negative Adaptive  BR1001\n",
       "2 -0.3138081 -0.9315045 Adaptive.NK.cell.BR1002_Negative Adaptive  BR1002\n",
       "3 -0.5280408 -0.7492531 Adaptive.NK.cell.BR1003_Negative Adaptive  BR1003\n",
       "  CMV      cohort\n",
       "1 Negative BR1   \n",
       "2 Negative BR1   \n",
       "3 Negative BR1   "
      ]
     },
     "metadata": {},
     "output_type": "display_data"
    }
   ],
   "source": [
    "head(data, n=3)"
   ]
  },
  {
   "cell_type": "code",
   "execution_count": 118,
   "id": "b71b3fe2-185c-438a-8a4e-451906c4a161",
   "metadata": {},
   "outputs": [
    {
     "data": {
      "text/html": [
       "<style>\n",
       ".list-inline {list-style: none; margin:0; padding: 0}\n",
       ".list-inline>li {display: inline-block}\n",
       ".list-inline>li:not(:last-child)::after {content: \"\\00b7\"; padding: 0 .5ex}\n",
       "</style>\n",
       "<ol class=list-inline><li>-1.04802179336548</li><li>0.796588713087534</li></ol>\n"
      ],
      "text/latex": [
       "\\begin{enumerate*}\n",
       "\\item -1.04802179336548\n",
       "\\item 0.796588713087534\n",
       "\\end{enumerate*}\n"
      ],
      "text/markdown": [
       "1. -1.04802179336548\n",
       "2. 0.796588713087534\n",
       "\n",
       "\n"
      ],
      "text/plain": [
       "[1] -1.0480218  0.7965887"
      ]
     },
     "metadata": {},
     "output_type": "display_data"
    }
   ],
   "source": [
    "range(data$KLRC2)"
   ]
  },
  {
   "cell_type": "code",
   "execution_count": 119,
   "id": "f10850fc-42a5-4a70-ac6e-a7bd698bbdfd",
   "metadata": {},
   "outputs": [
    {
     "data": {
      "text/html": [
       "<style>\n",
       ".list-inline {list-style: none; margin:0; padding: 0}\n",
       ".list-inline>li {display: inline-block}\n",
       ".list-inline>li:not(:last-child)::after {content: \"\\00b7\"; padding: 0 .5ex}\n",
       "</style>\n",
       "<ol class=list-inline><li>-2.0616784515706</li><li>0.572396516799927</li></ol>\n"
      ],
      "text/latex": [
       "\\begin{enumerate*}\n",
       "\\item -2.0616784515706\n",
       "\\item 0.572396516799927\n",
       "\\end{enumerate*}\n"
      ],
      "text/markdown": [
       "1. -2.0616784515706\n",
       "2. 0.572396516799927\n",
       "\n",
       "\n"
      ],
      "text/plain": [
       "[1] -2.0616785  0.5723965"
      ]
     },
     "metadata": {},
     "output_type": "display_data"
    }
   ],
   "source": [
    "range(data$GZMH)"
   ]
  },
  {
   "cell_type": "code",
   "execution_count": 120,
   "id": "42b5886d-be05-4eb2-a8e5-114ce1207377",
   "metadata": {},
   "outputs": [
    {
     "data": {
      "text/html": [
       "<style>\n",
       ".list-inline {list-style: none; margin:0; padding: 0}\n",
       ".list-inline>li {display: inline-block}\n",
       ".list-inline>li:not(:last-child)::after {content: \"\\00b7\"; padding: 0 .5ex}\n",
       "</style>\n",
       "<ol class=list-inline><li>92</li><li>7</li></ol>\n"
      ],
      "text/latex": [
       "\\begin{enumerate*}\n",
       "\\item 92\n",
       "\\item 7\n",
       "\\end{enumerate*}\n"
      ],
      "text/markdown": [
       "1. 92\n",
       "2. 7\n",
       "\n",
       "\n"
      ],
      "text/plain": [
       "[1] 92  7"
      ]
     },
     "metadata": {},
     "output_type": "display_data"
    }
   ],
   "source": [
    "dim(meta)"
   ]
  },
  {
   "cell_type": "code",
   "execution_count": 121,
   "id": "1c0cc7ba-5987-4b65-84c5-dd3126c37d9b",
   "metadata": {},
   "outputs": [
    {
     "data": {
      "text/html": [
       "<style>\n",
       ".list-inline {list-style: none; margin:0; padding: 0}\n",
       ".list-inline>li {display: inline-block}\n",
       ".list-inline>li:not(:last-child)::after {content: \"\\00b7\"; padding: 0 .5ex}\n",
       "</style>\n",
       "<ol class=list-inline><li>1814</li><li>93</li></ol>\n"
      ],
      "text/latex": [
       "\\begin{enumerate*}\n",
       "\\item 1814\n",
       "\\item 93\n",
       "\\end{enumerate*}\n"
      ],
      "text/markdown": [
       "1. 1814\n",
       "2. 93\n",
       "\n",
       "\n"
      ],
      "text/plain": [
       "[1] 1814   93"
      ]
     },
     "metadata": {},
     "output_type": "display_data"
    }
   ],
   "source": [
    "dim(mean_df)"
   ]
  },
  {
   "cell_type": "code",
   "execution_count": 122,
   "id": "bf8ef52e-30b0-4449-be88-74d74483292e",
   "metadata": {},
   "outputs": [
    {
     "data": {
      "text/html": [
       "<table class=\"dataframe\">\n",
       "<caption>A data.frame: 3 × 7</caption>\n",
       "<thead>\n",
       "\t<tr><th></th><th scope=col>colnames.mean_df.</th><th scope=col>Cell_Type</th><th scope=col>Sample</th><th scope=col>ptid</th><th scope=col>CMV</th><th scope=col>cohort</th><th scope=col>name</th></tr>\n",
       "\t<tr><th></th><th scope=col>&lt;chr&gt;</th><th scope=col>&lt;chr&gt;</th><th scope=col>&lt;chr&gt;</th><th scope=col>&lt;chr&gt;</th><th scope=col>&lt;chr&gt;</th><th scope=col>&lt;chr&gt;</th><th scope=col>&lt;chr&gt;</th></tr>\n",
       "</thead>\n",
       "<tbody>\n",
       "\t<tr><th scope=row>Adaptive.NK.cell.BR1001_Negative</th><td>Adaptive.NK.cell.BR1001_Negative</td><td>Adaptive</td><td>BR1001_Negative</td><td>BR1001</td><td>Negative</td><td>BR1</td><td>Adaptive.NK.cell.BR1001_Negative</td></tr>\n",
       "\t<tr><th scope=row>Adaptive.NK.cell.BR1002_Negative</th><td>Adaptive.NK.cell.BR1002_Negative</td><td>Adaptive</td><td>BR1002_Negative</td><td>BR1002</td><td>Negative</td><td>BR1</td><td>Adaptive.NK.cell.BR1002_Negative</td></tr>\n",
       "\t<tr><th scope=row>Adaptive.NK.cell.BR1003_Negative</th><td>Adaptive.NK.cell.BR1003_Negative</td><td>Adaptive</td><td>BR1003_Negative</td><td>BR1003</td><td>Negative</td><td>BR1</td><td>Adaptive.NK.cell.BR1003_Negative</td></tr>\n",
       "</tbody>\n",
       "</table>\n"
      ],
      "text/latex": [
       "A data.frame: 3 × 7\n",
       "\\begin{tabular}{r|lllllll}\n",
       "  & colnames.mean\\_df. & Cell\\_Type & Sample & ptid & CMV & cohort & name\\\\\n",
       "  & <chr> & <chr> & <chr> & <chr> & <chr> & <chr> & <chr>\\\\\n",
       "\\hline\n",
       "\tAdaptive.NK.cell.BR1001\\_Negative & Adaptive.NK.cell.BR1001\\_Negative & Adaptive & BR1001\\_Negative & BR1001 & Negative & BR1 & Adaptive.NK.cell.BR1001\\_Negative\\\\\n",
       "\tAdaptive.NK.cell.BR1002\\_Negative & Adaptive.NK.cell.BR1002\\_Negative & Adaptive & BR1002\\_Negative & BR1002 & Negative & BR1 & Adaptive.NK.cell.BR1002\\_Negative\\\\\n",
       "\tAdaptive.NK.cell.BR1003\\_Negative & Adaptive.NK.cell.BR1003\\_Negative & Adaptive & BR1003\\_Negative & BR1003 & Negative & BR1 & Adaptive.NK.cell.BR1003\\_Negative\\\\\n",
       "\\end{tabular}\n"
      ],
      "text/markdown": [
       "\n",
       "A data.frame: 3 × 7\n",
       "\n",
       "| <!--/--> | colnames.mean_df. &lt;chr&gt; | Cell_Type &lt;chr&gt; | Sample &lt;chr&gt; | ptid &lt;chr&gt; | CMV &lt;chr&gt; | cohort &lt;chr&gt; | name &lt;chr&gt; |\n",
       "|---|---|---|---|---|---|---|---|\n",
       "| Adaptive.NK.cell.BR1001_Negative | Adaptive.NK.cell.BR1001_Negative | Adaptive | BR1001_Negative | BR1001 | Negative | BR1 | Adaptive.NK.cell.BR1001_Negative |\n",
       "| Adaptive.NK.cell.BR1002_Negative | Adaptive.NK.cell.BR1002_Negative | Adaptive | BR1002_Negative | BR1002 | Negative | BR1 | Adaptive.NK.cell.BR1002_Negative |\n",
       "| Adaptive.NK.cell.BR1003_Negative | Adaptive.NK.cell.BR1003_Negative | Adaptive | BR1003_Negative | BR1003 | Negative | BR1 | Adaptive.NK.cell.BR1003_Negative |\n",
       "\n"
      ],
      "text/plain": [
       "                                 colnames.mean_df.                Cell_Type\n",
       "Adaptive.NK.cell.BR1001_Negative Adaptive.NK.cell.BR1001_Negative Adaptive \n",
       "Adaptive.NK.cell.BR1002_Negative Adaptive.NK.cell.BR1002_Negative Adaptive \n",
       "Adaptive.NK.cell.BR1003_Negative Adaptive.NK.cell.BR1003_Negative Adaptive \n",
       "                                 Sample          ptid   CMV      cohort\n",
       "Adaptive.NK.cell.BR1001_Negative BR1001_Negative BR1001 Negative BR1   \n",
       "Adaptive.NK.cell.BR1002_Negative BR1002_Negative BR1002 Negative BR1   \n",
       "Adaptive.NK.cell.BR1003_Negative BR1003_Negative BR1003 Negative BR1   \n",
       "                                 name                            \n",
       "Adaptive.NK.cell.BR1001_Negative Adaptive.NK.cell.BR1001_Negative\n",
       "Adaptive.NK.cell.BR1002_Negative Adaptive.NK.cell.BR1002_Negative\n",
       "Adaptive.NK.cell.BR1003_Negative Adaptive.NK.cell.BR1003_Negative"
      ]
     },
     "metadata": {},
     "output_type": "display_data"
    }
   ],
   "source": [
    "head(meta, n=3)"
   ]
  },
  {
   "cell_type": "code",
   "execution_count": 123,
   "id": "830db7dc-3173-4dec-be9f-12923f10c6f8",
   "metadata": {},
   "outputs": [
    {
     "data": {
      "text/html": [
       "<table class=\"dataframe\">\n",
       "<caption>A data.frame: 3 × 93</caption>\n",
       "<thead>\n",
       "\t<tr><th></th><th scope=col>Adaptive.NK.cell.BR1001_Negative</th><th scope=col>Adaptive.NK.cell.BR1002_Negative</th><th scope=col>Adaptive.NK.cell.BR1003_Negative</th><th scope=col>Adaptive.NK.cell.BR1004_Negative</th><th scope=col>Adaptive.NK.cell.BR1005_Negative</th><th scope=col>Adaptive.NK.cell.BR1006_Negative</th><th scope=col>Adaptive.NK.cell.BR1007_Positive</th><th scope=col>Adaptive.NK.cell.BR1008_Positive</th><th scope=col>Adaptive.NK.cell.BR1009_Negative</th><th scope=col>Adaptive.NK.cell.BR1010_Positive</th><th scope=col>⋯</th><th scope=col>Adaptive.NK.cell.BR2044_Positive</th><th scope=col>Adaptive.NK.cell.BR2045_Positive</th><th scope=col>Adaptive.NK.cell.BR2046_Negative</th><th scope=col>Adaptive.NK.cell.BR2047_Positive</th><th scope=col>Adaptive.NK.cell.BR2048_Positive</th><th scope=col>Adaptive.NK.cell.BR2050_Negative</th><th scope=col>Adaptive.NK.cell.BR2051_Positive</th><th scope=col>Adaptive.NK.cell.BR2052_Positive</th><th scope=col>Adaptive.NK.cell.BR2053_Positive</th><th scope=col>Gene</th></tr>\n",
       "\t<tr><th></th><th scope=col>&lt;dbl&gt;</th><th scope=col>&lt;dbl&gt;</th><th scope=col>&lt;dbl&gt;</th><th scope=col>&lt;dbl&gt;</th><th scope=col>&lt;dbl&gt;</th><th scope=col>&lt;dbl&gt;</th><th scope=col>&lt;dbl&gt;</th><th scope=col>&lt;dbl&gt;</th><th scope=col>&lt;dbl&gt;</th><th scope=col>&lt;dbl&gt;</th><th scope=col>⋯</th><th scope=col>&lt;dbl&gt;</th><th scope=col>&lt;dbl&gt;</th><th scope=col>&lt;dbl&gt;</th><th scope=col>&lt;dbl&gt;</th><th scope=col>&lt;dbl&gt;</th><th scope=col>&lt;dbl&gt;</th><th scope=col>&lt;dbl&gt;</th><th scope=col>&lt;dbl&gt;</th><th scope=col>&lt;dbl&gt;</th><th scope=col>&lt;chr&gt;</th></tr>\n",
       "</thead>\n",
       "<tbody>\n",
       "\t<tr><th scope=row>HES4</th><td>-0.09821204</td><td>-0.09821204</td><td>-0.09821204</td><td>-0.09821204</td><td>-0.09821204</td><td>-0.09821204</td><td>-0.03655325</td><td>-0.09821204</td><td>0.3225468</td><td>-0.09821204</td><td>⋯</td><td>-0.04425299</td><td>-0.09821204</td><td>-0.09821204</td><td>-0.09821204</td><td>-0.01677485</td><td>0.2173571</td><td> 0.02961343</td><td>-0.09821204</td><td>-0.07058355</td><td>HES4    </td></tr>\n",
       "\t<tr><th scope=row>ISG15</th><td>-0.03748095</td><td>-0.24542828</td><td>-0.16828669</td><td>-0.44237109</td><td>-0.68764979</td><td>-0.11728557</td><td> 0.10405377</td><td> 0.09827534</td><td>0.3029756</td><td>-0.46059816</td><td>⋯</td><td>-0.13135168</td><td> 0.12933134</td><td>-0.11468818</td><td>-0.01071849</td><td> 0.14171284</td><td>0.4947881</td><td>-0.23940184</td><td> 0.36046936</td><td>-0.13741391</td><td>ISG15   </td></tr>\n",
       "\t<tr><th scope=row>TNFRSF18</th><td> 0.27294826</td><td>-0.37884525</td><td>-0.02764054</td><td> 0.36448416</td><td> 0.04596338</td><td>-0.17698465</td><td>-0.17292981</td><td>-0.36390329</td><td>0.0102835</td><td>-0.15402882</td><td>⋯</td><td>-0.28438538</td><td>-0.01984331</td><td>-0.24704778</td><td>-0.15462463</td><td>-0.39617987</td><td>0.5586687</td><td>-0.02462418</td><td>-0.27499289</td><td>-0.15421970</td><td>TNFRSF18</td></tr>\n",
       "</tbody>\n",
       "</table>\n"
      ],
      "text/latex": [
       "A data.frame: 3 × 93\n",
       "\\begin{tabular}{r|lllllllllllllllllllll}\n",
       "  & Adaptive.NK.cell.BR1001\\_Negative & Adaptive.NK.cell.BR1002\\_Negative & Adaptive.NK.cell.BR1003\\_Negative & Adaptive.NK.cell.BR1004\\_Negative & Adaptive.NK.cell.BR1005\\_Negative & Adaptive.NK.cell.BR1006\\_Negative & Adaptive.NK.cell.BR1007\\_Positive & Adaptive.NK.cell.BR1008\\_Positive & Adaptive.NK.cell.BR1009\\_Negative & Adaptive.NK.cell.BR1010\\_Positive & ⋯ & Adaptive.NK.cell.BR2044\\_Positive & Adaptive.NK.cell.BR2045\\_Positive & Adaptive.NK.cell.BR2046\\_Negative & Adaptive.NK.cell.BR2047\\_Positive & Adaptive.NK.cell.BR2048\\_Positive & Adaptive.NK.cell.BR2050\\_Negative & Adaptive.NK.cell.BR2051\\_Positive & Adaptive.NK.cell.BR2052\\_Positive & Adaptive.NK.cell.BR2053\\_Positive & Gene\\\\\n",
       "  & <dbl> & <dbl> & <dbl> & <dbl> & <dbl> & <dbl> & <dbl> & <dbl> & <dbl> & <dbl> & ⋯ & <dbl> & <dbl> & <dbl> & <dbl> & <dbl> & <dbl> & <dbl> & <dbl> & <dbl> & <chr>\\\\\n",
       "\\hline\n",
       "\tHES4 & -0.09821204 & -0.09821204 & -0.09821204 & -0.09821204 & -0.09821204 & -0.09821204 & -0.03655325 & -0.09821204 & 0.3225468 & -0.09821204 & ⋯ & -0.04425299 & -0.09821204 & -0.09821204 & -0.09821204 & -0.01677485 & 0.2173571 &  0.02961343 & -0.09821204 & -0.07058355 & HES4    \\\\\n",
       "\tISG15 & -0.03748095 & -0.24542828 & -0.16828669 & -0.44237109 & -0.68764979 & -0.11728557 &  0.10405377 &  0.09827534 & 0.3029756 & -0.46059816 & ⋯ & -0.13135168 &  0.12933134 & -0.11468818 & -0.01071849 &  0.14171284 & 0.4947881 & -0.23940184 &  0.36046936 & -0.13741391 & ISG15   \\\\\n",
       "\tTNFRSF18 &  0.27294826 & -0.37884525 & -0.02764054 &  0.36448416 &  0.04596338 & -0.17698465 & -0.17292981 & -0.36390329 & 0.0102835 & -0.15402882 & ⋯ & -0.28438538 & -0.01984331 & -0.24704778 & -0.15462463 & -0.39617987 & 0.5586687 & -0.02462418 & -0.27499289 & -0.15421970 & TNFRSF18\\\\\n",
       "\\end{tabular}\n"
      ],
      "text/markdown": [
       "\n",
       "A data.frame: 3 × 93\n",
       "\n",
       "| <!--/--> | Adaptive.NK.cell.BR1001_Negative &lt;dbl&gt; | Adaptive.NK.cell.BR1002_Negative &lt;dbl&gt; | Adaptive.NK.cell.BR1003_Negative &lt;dbl&gt; | Adaptive.NK.cell.BR1004_Negative &lt;dbl&gt; | Adaptive.NK.cell.BR1005_Negative &lt;dbl&gt; | Adaptive.NK.cell.BR1006_Negative &lt;dbl&gt; | Adaptive.NK.cell.BR1007_Positive &lt;dbl&gt; | Adaptive.NK.cell.BR1008_Positive &lt;dbl&gt; | Adaptive.NK.cell.BR1009_Negative &lt;dbl&gt; | Adaptive.NK.cell.BR1010_Positive &lt;dbl&gt; | ⋯ ⋯ | Adaptive.NK.cell.BR2044_Positive &lt;dbl&gt; | Adaptive.NK.cell.BR2045_Positive &lt;dbl&gt; | Adaptive.NK.cell.BR2046_Negative &lt;dbl&gt; | Adaptive.NK.cell.BR2047_Positive &lt;dbl&gt; | Adaptive.NK.cell.BR2048_Positive &lt;dbl&gt; | Adaptive.NK.cell.BR2050_Negative &lt;dbl&gt; | Adaptive.NK.cell.BR2051_Positive &lt;dbl&gt; | Adaptive.NK.cell.BR2052_Positive &lt;dbl&gt; | Adaptive.NK.cell.BR2053_Positive &lt;dbl&gt; | Gene &lt;chr&gt; |\n",
       "|---|---|---|---|---|---|---|---|---|---|---|---|---|---|---|---|---|---|---|---|---|---|\n",
       "| HES4 | -0.09821204 | -0.09821204 | -0.09821204 | -0.09821204 | -0.09821204 | -0.09821204 | -0.03655325 | -0.09821204 | 0.3225468 | -0.09821204 | ⋯ | -0.04425299 | -0.09821204 | -0.09821204 | -0.09821204 | -0.01677485 | 0.2173571 |  0.02961343 | -0.09821204 | -0.07058355 | HES4     |\n",
       "| ISG15 | -0.03748095 | -0.24542828 | -0.16828669 | -0.44237109 | -0.68764979 | -0.11728557 |  0.10405377 |  0.09827534 | 0.3029756 | -0.46059816 | ⋯ | -0.13135168 |  0.12933134 | -0.11468818 | -0.01071849 |  0.14171284 | 0.4947881 | -0.23940184 |  0.36046936 | -0.13741391 | ISG15    |\n",
       "| TNFRSF18 |  0.27294826 | -0.37884525 | -0.02764054 |  0.36448416 |  0.04596338 | -0.17698465 | -0.17292981 | -0.36390329 | 0.0102835 | -0.15402882 | ⋯ | -0.28438538 | -0.01984331 | -0.24704778 | -0.15462463 | -0.39617987 | 0.5586687 | -0.02462418 | -0.27499289 | -0.15421970 | TNFRSF18 |\n",
       "\n"
      ],
      "text/plain": [
       "         Adaptive.NK.cell.BR1001_Negative Adaptive.NK.cell.BR1002_Negative\n",
       "HES4     -0.09821204                      -0.09821204                     \n",
       "ISG15    -0.03748095                      -0.24542828                     \n",
       "TNFRSF18  0.27294826                      -0.37884525                     \n",
       "         Adaptive.NK.cell.BR1003_Negative Adaptive.NK.cell.BR1004_Negative\n",
       "HES4     -0.09821204                      -0.09821204                     \n",
       "ISG15    -0.16828669                      -0.44237109                     \n",
       "TNFRSF18 -0.02764054                       0.36448416                     \n",
       "         Adaptive.NK.cell.BR1005_Negative Adaptive.NK.cell.BR1006_Negative\n",
       "HES4     -0.09821204                      -0.09821204                     \n",
       "ISG15    -0.68764979                      -0.11728557                     \n",
       "TNFRSF18  0.04596338                      -0.17698465                     \n",
       "         Adaptive.NK.cell.BR1007_Positive Adaptive.NK.cell.BR1008_Positive\n",
       "HES4     -0.03655325                      -0.09821204                     \n",
       "ISG15     0.10405377                       0.09827534                     \n",
       "TNFRSF18 -0.17292981                      -0.36390329                     \n",
       "         Adaptive.NK.cell.BR1009_Negative Adaptive.NK.cell.BR1010_Positive ⋯\n",
       "HES4     0.3225468                        -0.09821204                      ⋯\n",
       "ISG15    0.3029756                        -0.46059816                      ⋯\n",
       "TNFRSF18 0.0102835                        -0.15402882                      ⋯\n",
       "         Adaptive.NK.cell.BR2044_Positive Adaptive.NK.cell.BR2045_Positive\n",
       "HES4     -0.04425299                      -0.09821204                     \n",
       "ISG15    -0.13135168                       0.12933134                     \n",
       "TNFRSF18 -0.28438538                      -0.01984331                     \n",
       "         Adaptive.NK.cell.BR2046_Negative Adaptive.NK.cell.BR2047_Positive\n",
       "HES4     -0.09821204                      -0.09821204                     \n",
       "ISG15    -0.11468818                      -0.01071849                     \n",
       "TNFRSF18 -0.24704778                      -0.15462463                     \n",
       "         Adaptive.NK.cell.BR2048_Positive Adaptive.NK.cell.BR2050_Negative\n",
       "HES4     -0.01677485                      0.2173571                       \n",
       "ISG15     0.14171284                      0.4947881                       \n",
       "TNFRSF18 -0.39617987                      0.5586687                       \n",
       "         Adaptive.NK.cell.BR2051_Positive Adaptive.NK.cell.BR2052_Positive\n",
       "HES4      0.02961343                      -0.09821204                     \n",
       "ISG15    -0.23940184                       0.36046936                     \n",
       "TNFRSF18 -0.02462418                      -0.27499289                     \n",
       "         Adaptive.NK.cell.BR2053_Positive Gene    \n",
       "HES4     -0.07058355                      HES4    \n",
       "ISG15    -0.13741391                      ISG15   \n",
       "TNFRSF18 -0.15421970                      TNFRSF18"
      ]
     },
     "metadata": {},
     "output_type": "display_data"
    }
   ],
   "source": [
    "head(mean_df, n=3)"
   ]
  },
  {
   "cell_type": "code",
   "execution_count": 125,
   "id": "c8cbf4c3-c67b-444b-ba36-f95160f9ebaf",
   "metadata": {},
   "outputs": [],
   "source": [
    "write_csv(mean_df, file = \"./csv_files/IHA_adaptive_pb_mean_240325.csv\")"
   ]
  },
  {
   "cell_type": "code",
   "execution_count": 126,
   "id": "2d19a699-c402-4d7d-9f22-3fcfbcc48e8f",
   "metadata": {},
   "outputs": [],
   "source": [
    "write_csv(meta, file = \"./csv_files/IHA_adaptive_pb_mean_META_240325.csv\")"
   ]
  },
  {
   "cell_type": "code",
   "execution_count": 128,
   "id": "0138d200-3d05-42dc-a92e-94655e6efc5d",
   "metadata": {},
   "outputs": [],
   "source": [
    "write_csv(data, file = \"./csv_files/IHA_adaptive_pb_mean_KLRC2+GZMH_240325.csv\")"
   ]
  },
  {
   "cell_type": "code",
   "execution_count": null,
   "id": "b2cb981e-9dd8-4ad6-ba71-eff9828b6f39",
   "metadata": {},
   "outputs": [],
   "source": []
  }
 ],
 "metadata": {
  "kernelspec": {
   "display_name": "R 4",
   "language": "R",
   "name": "ir4"
  },
  "language_info": {
   "codemirror_mode": "r",
   "file_extension": ".r",
   "mimetype": "text/x-r-source",
   "name": "R",
   "pygments_lexer": "r",
   "version": "4.3.1"
  }
 },
 "nbformat": 4,
 "nbformat_minor": 5
}
