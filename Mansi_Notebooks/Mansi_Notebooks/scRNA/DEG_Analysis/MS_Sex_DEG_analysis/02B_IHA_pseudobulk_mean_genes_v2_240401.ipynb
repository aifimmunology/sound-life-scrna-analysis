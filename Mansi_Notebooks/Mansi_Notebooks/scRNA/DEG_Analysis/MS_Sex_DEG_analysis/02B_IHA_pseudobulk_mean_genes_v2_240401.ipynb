{
 "cells": [
  {
   "cell_type": "code",
   "execution_count": 1,
   "id": "c5a9f6c0-734a-4a9a-902c-9ed8d9bd97f7",
   "metadata": {
    "tags": []
   },
   "outputs": [
    {
     "name": "stderr",
     "output_type": "stream",
     "text": [
      "------------------------------------------------------------------------------\n",
      "\n",
      "You have loaded plyr after dplyr - this is likely to cause problems.\n",
      "If you need functions from both plyr and dplyr, please load plyr first, then dplyr:\n",
      "library(plyr); library(dplyr)\n",
      "\n",
      "------------------------------------------------------------------------------\n",
      "\n",
      "\n",
      "Attaching package: ‘plyr’\n",
      "\n",
      "\n",
      "The following objects are masked from ‘package:dplyr’:\n",
      "\n",
      "    arrange, count, desc, failwith, id, mutate, rename, summarise,\n",
      "    summarize\n",
      "\n",
      "\n",
      "\n",
      "Attaching package: ‘purrr’\n",
      "\n",
      "\n",
      "The following object is masked from ‘package:plyr’:\n",
      "\n",
      "    compact\n",
      "\n",
      "\n",
      "Loading required package: permute\n",
      "\n",
      "Loading required package: lattice\n",
      "\n",
      "This is vegan 2.6-4\n",
      "\n",
      "Loading required package: grid\n",
      "\n",
      "========================================\n",
      "ComplexHeatmap version 2.16.0\n",
      "Bioconductor page: http://bioconductor.org/packages/ComplexHeatmap/\n",
      "Github page: https://github.com/jokergoo/ComplexHeatmap\n",
      "Documentation: http://jokergoo.github.io/ComplexHeatmap-reference\n",
      "\n",
      "If you use it in published research, please cite either one:\n",
      "- Gu, Z. Complex Heatmap Visualization. iMeta 2022.\n",
      "- Gu, Z. Complex heatmaps reveal patterns and correlations in multidimensional \n",
      "    genomic data. Bioinformatics 2016.\n",
      "\n",
      "\n",
      "The new InteractiveComplexHeatmap package can directly export static \n",
      "complex heatmaps into an interactive Shiny app with zero effort. Have a try!\n",
      "\n",
      "This message can be suppressed by:\n",
      "  suppressPackageStartupMessages(library(ComplexHeatmap))\n",
      "========================================\n",
      "! pheatmap() has been masked by ComplexHeatmap::pheatmap(). Most of the arguments\n",
      "   in the original pheatmap() are identically supported in the new function. You \n",
      "   can still use the original function by explicitly calling pheatmap::pheatmap().\n",
      "\n",
      "\n",
      "\n",
      "Attaching package: ‘ComplexHeatmap’\n",
      "\n",
      "\n",
      "The following object is masked from ‘package:pheatmap’:\n",
      "\n",
      "    pheatmap\n",
      "\n",
      "\n",
      "── \u001b[1mAttaching core tidyverse packages\u001b[22m ──────────────────────── tidyverse 2.0.0 ──\n",
      "\u001b[32m✔\u001b[39m \u001b[34mforcats  \u001b[39m 1.0.0     \u001b[32m✔\u001b[39m \u001b[34mlubridate\u001b[39m 1.9.2\n",
      "\u001b[32m✔\u001b[39m \u001b[34mggplot2  \u001b[39m 3.4.3     \u001b[32m✔\u001b[39m \u001b[34mreadr    \u001b[39m 2.1.4\n",
      "── \u001b[1mConflicts\u001b[22m ────────────────────────────────────────── tidyverse_conflicts() ──\n",
      "\u001b[31m✖\u001b[39m \u001b[34mplyr\u001b[39m::\u001b[32marrange()\u001b[39m   masks \u001b[34mdplyr\u001b[39m::arrange()\n",
      "\u001b[31m✖\u001b[39m \u001b[34mpurrr\u001b[39m::\u001b[32mcompact()\u001b[39m  masks \u001b[34mplyr\u001b[39m::compact()\n",
      "\u001b[31m✖\u001b[39m \u001b[34mplyr\u001b[39m::\u001b[32mcount()\u001b[39m     masks \u001b[34mdplyr\u001b[39m::count()\n",
      "\u001b[31m✖\u001b[39m \u001b[34mplyr\u001b[39m::\u001b[32mdesc()\u001b[39m      masks \u001b[34mdplyr\u001b[39m::desc()\n",
      "\u001b[31m✖\u001b[39m \u001b[34mplyr\u001b[39m::\u001b[32mfailwith()\u001b[39m  masks \u001b[34mdplyr\u001b[39m::failwith()\n",
      "\u001b[31m✖\u001b[39m \u001b[34mdplyr\u001b[39m::\u001b[32mfilter()\u001b[39m   masks \u001b[34mstats\u001b[39m::filter()\n",
      "\u001b[31m✖\u001b[39m \u001b[34mplyr\u001b[39m::\u001b[32mid()\u001b[39m        masks \u001b[34mdplyr\u001b[39m::id()\n",
      "\u001b[31m✖\u001b[39m \u001b[34mdplyr\u001b[39m::\u001b[32mlag()\u001b[39m      masks \u001b[34mstats\u001b[39m::lag()\n",
      "\u001b[31m✖\u001b[39m \u001b[34mplyr\u001b[39m::\u001b[32mmutate()\u001b[39m    masks \u001b[34mdplyr\u001b[39m::mutate()\n",
      "\u001b[31m✖\u001b[39m \u001b[34mplyr\u001b[39m::\u001b[32mrename()\u001b[39m    masks \u001b[34mdplyr\u001b[39m::rename()\n",
      "\u001b[31m✖\u001b[39m \u001b[34mplyr\u001b[39m::\u001b[32msummarise()\u001b[39m masks \u001b[34mdplyr\u001b[39m::summarise()\n",
      "\u001b[31m✖\u001b[39m \u001b[34mplyr\u001b[39m::\u001b[32msummarize()\u001b[39m masks \u001b[34mdplyr\u001b[39m::summarize()\n",
      "\u001b[36mℹ\u001b[39m Use the conflicted package (\u001b[3m\u001b[34m<http://conflicted.r-lib.org/>\u001b[39m\u001b[23m) to force all conflicts to become errors\n"
     ]
    }
   ],
   "source": [
    "suppressPackageStartupMessages(library(readxl))\n",
    "suppressPackageStartupMessages(library(dplyr))\n",
    "suppressPackageStartupMessages(library(tidyr))\n",
    "suppressPackageStartupMessages(library(tibble))\n",
    "suppressPackageStartupMessages(library(patchwork))\n",
    "suppressPackageStartupMessages(library(pheatmap))\n",
    "suppressPackageStartupMessages(library(stringr))\n",
    "library(hise)\n",
    "library(plyr)\n",
    "library(purrr)\n",
    "library(vegan)\n",
    "#library(arrow)\n",
    "library(parallel)\n",
    "library(ComplexHeatmap)\n",
    "library(ggsci)\n",
    "library(tidyverse)"
   ]
  },
  {
   "cell_type": "code",
   "execution_count": 2,
   "id": "204a19ea-8399-4db8-8ebd-148844c420dc",
   "metadata": {
    "tags": []
   },
   "outputs": [],
   "source": [
    "mean_df<-read.csv(\"/home/jupyter/Myeloid_cells/files/IHA_IL1B_CD14_mono_pb_mean_v2.csv\", row.names=1)"
   ]
  },
  {
   "cell_type": "code",
   "execution_count": 3,
   "id": "28787e65-b303-44b7-abb8-edbb0c5850d4",
   "metadata": {
    "tags": []
   },
   "outputs": [
    {
     "data": {
      "text/html": [
       "<style>\n",
       ".list-inline {list-style: none; margin:0; padding: 0}\n",
       ".list-inline>li {display: inline-block}\n",
       ".list-inline>li:not(:last-child)::after {content: \"\\00b7\"; padding: 0 .5ex}\n",
       "</style>\n",
       "<ol class=list-inline><li>'X.1'</li><li>'X'</li><li>'lastUpdated'</li><li>'sample.id'</li><li>'sample.bridgingControl'</li><li>'sample.sampleKitGuid'</li><li>'sample.visitName'</li><li>'sample.visitDetails'</li><li>'sample.drawDate'</li><li>'sample.daysSinceFirstVisit'</li><li>'file.id'</li><li>'file.name'</li><li>'file.batchID'</li><li>'file.panel'</li><li>'file.pool'</li><li>'file.fileType'</li><li>'file.majorVersion'</li><li>'subject.id'</li><li>'subject.biologicalSex'</li><li>'subject.birthYear'</li><li>'subject.ethnicity'</li><li>'subject.partnerCode'</li><li>'subject.race'</li><li>'subject.subjectGuid'</li><li>'cohort.cohortGuid'</li><li>'sample.diseaseStatesRecordedAtVisit'</li><li>'pbmc_sample_id'</li><li>'Sample_ID'</li><li>'Sample_Draw_date'</li><li>'Covid_Dose_1'</li><li>'Covid_Dose_2'</li><li>'Covid_exlcusion'</li><li>'CMV.IgG.Serology.Result.Interpretation'</li><li>'BMI'</li><li>'file.name.downloaded'</li><li>'file.path'</li></ol>\n"
      ],
      "text/latex": [
       "\\begin{enumerate*}\n",
       "\\item 'X.1'\n",
       "\\item 'X'\n",
       "\\item 'lastUpdated'\n",
       "\\item 'sample.id'\n",
       "\\item 'sample.bridgingControl'\n",
       "\\item 'sample.sampleKitGuid'\n",
       "\\item 'sample.visitName'\n",
       "\\item 'sample.visitDetails'\n",
       "\\item 'sample.drawDate'\n",
       "\\item 'sample.daysSinceFirstVisit'\n",
       "\\item 'file.id'\n",
       "\\item 'file.name'\n",
       "\\item 'file.batchID'\n",
       "\\item 'file.panel'\n",
       "\\item 'file.pool'\n",
       "\\item 'file.fileType'\n",
       "\\item 'file.majorVersion'\n",
       "\\item 'subject.id'\n",
       "\\item 'subject.biologicalSex'\n",
       "\\item 'subject.birthYear'\n",
       "\\item 'subject.ethnicity'\n",
       "\\item 'subject.partnerCode'\n",
       "\\item 'subject.race'\n",
       "\\item 'subject.subjectGuid'\n",
       "\\item 'cohort.cohortGuid'\n",
       "\\item 'sample.diseaseStatesRecordedAtVisit'\n",
       "\\item 'pbmc\\_sample\\_id'\n",
       "\\item 'Sample\\_ID'\n",
       "\\item 'Sample\\_Draw\\_date'\n",
       "\\item 'Covid\\_Dose\\_1'\n",
       "\\item 'Covid\\_Dose\\_2'\n",
       "\\item 'Covid\\_exlcusion'\n",
       "\\item 'CMV.IgG.Serology.Result.Interpretation'\n",
       "\\item 'BMI'\n",
       "\\item 'file.name.downloaded'\n",
       "\\item 'file.path'\n",
       "\\end{enumerate*}\n"
      ],
      "text/markdown": [
       "1. 'X.1'\n",
       "2. 'X'\n",
       "3. 'lastUpdated'\n",
       "4. 'sample.id'\n",
       "5. 'sample.bridgingControl'\n",
       "6. 'sample.sampleKitGuid'\n",
       "7. 'sample.visitName'\n",
       "8. 'sample.visitDetails'\n",
       "9. 'sample.drawDate'\n",
       "10. 'sample.daysSinceFirstVisit'\n",
       "11. 'file.id'\n",
       "12. 'file.name'\n",
       "13. 'file.batchID'\n",
       "14. 'file.panel'\n",
       "15. 'file.pool'\n",
       "16. 'file.fileType'\n",
       "17. 'file.majorVersion'\n",
       "18. 'subject.id'\n",
       "19. 'subject.biologicalSex'\n",
       "20. 'subject.birthYear'\n",
       "21. 'subject.ethnicity'\n",
       "22. 'subject.partnerCode'\n",
       "23. 'subject.race'\n",
       "24. 'subject.subjectGuid'\n",
       "25. 'cohort.cohortGuid'\n",
       "26. 'sample.diseaseStatesRecordedAtVisit'\n",
       "27. 'pbmc_sample_id'\n",
       "28. 'Sample_ID'\n",
       "29. 'Sample_Draw_date'\n",
       "30. 'Covid_Dose_1'\n",
       "31. 'Covid_Dose_2'\n",
       "32. 'Covid_exlcusion'\n",
       "33. 'CMV.IgG.Serology.Result.Interpretation'\n",
       "34. 'BMI'\n",
       "35. 'file.name.downloaded'\n",
       "36. 'file.path'\n",
       "\n",
       "\n"
      ],
      "text/plain": [
       " [1] \"X.1\"                                   \n",
       " [2] \"X\"                                     \n",
       " [3] \"lastUpdated\"                           \n",
       " [4] \"sample.id\"                             \n",
       " [5] \"sample.bridgingControl\"                \n",
       " [6] \"sample.sampleKitGuid\"                  \n",
       " [7] \"sample.visitName\"                      \n",
       " [8] \"sample.visitDetails\"                   \n",
       " [9] \"sample.drawDate\"                       \n",
       "[10] \"sample.daysSinceFirstVisit\"            \n",
       "[11] \"file.id\"                               \n",
       "[12] \"file.name\"                             \n",
       "[13] \"file.batchID\"                          \n",
       "[14] \"file.panel\"                            \n",
       "[15] \"file.pool\"                             \n",
       "[16] \"file.fileType\"                         \n",
       "[17] \"file.majorVersion\"                     \n",
       "[18] \"subject.id\"                            \n",
       "[19] \"subject.biologicalSex\"                 \n",
       "[20] \"subject.birthYear\"                     \n",
       "[21] \"subject.ethnicity\"                     \n",
       "[22] \"subject.partnerCode\"                   \n",
       "[23] \"subject.race\"                          \n",
       "[24] \"subject.subjectGuid\"                   \n",
       "[25] \"cohort.cohortGuid\"                     \n",
       "[26] \"sample.diseaseStatesRecordedAtVisit\"   \n",
       "[27] \"pbmc_sample_id\"                        \n",
       "[28] \"Sample_ID\"                             \n",
       "[29] \"Sample_Draw_date\"                      \n",
       "[30] \"Covid_Dose_1\"                          \n",
       "[31] \"Covid_Dose_2\"                          \n",
       "[32] \"Covid_exlcusion\"                       \n",
       "[33] \"CMV.IgG.Serology.Result.Interpretation\"\n",
       "[34] \"BMI\"                                   \n",
       "[35] \"file.name.downloaded\"                  \n",
       "[36] \"file.path\"                             "
      ]
     },
     "metadata": {},
     "output_type": "display_data"
    }
   ],
   "source": [
    "meta_data=read.csv('/home/jupyter/IH-A-Aging-Analysis-Notebooks/Qiuyu-Notebooks/scRNA/hise_meta_data_2024-01-23_fixed.csv')\n",
    "colnames(meta_data)\n",
    "#unique(meta_data$pbmc_sample_id)\n",
    "#length(unique(meta_data$pbmc_sample_id))"
   ]
  },
  {
   "cell_type": "code",
   "execution_count": 4,
   "id": "ca7de2d8-b4d0-4ca9-ab9a-ad24cfdeed9a",
   "metadata": {
    "tags": []
   },
   "outputs": [
    {
     "data": {
      "text/html": [
       "<style>\n",
       ".list-inline {list-style: none; margin:0; padding: 0}\n",
       ".list-inline>li {display: inline-block}\n",
       ".list-inline>li:not(:last-child)::after {content: \"\\00b7\"; padding: 0 .5ex}\n",
       "</style>\n",
       "<ol class=list-inline><li>2686</li><li>92</li></ol>\n"
      ],
      "text/latex": [
       "\\begin{enumerate*}\n",
       "\\item 2686\n",
       "\\item 92\n",
       "\\end{enumerate*}\n"
      ],
      "text/markdown": [
       "1. 2686\n",
       "2. 92\n",
       "\n",
       "\n"
      ],
      "text/plain": [
       "[1] 2686   92"
      ]
     },
     "metadata": {},
     "output_type": "display_data"
    }
   ],
   "source": [
    "dim(mean_df)"
   ]
  },
  {
   "cell_type": "code",
   "execution_count": 5,
   "id": "3dedf592-9a40-42a3-baf5-4ff2c3133eec",
   "metadata": {
    "tags": []
   },
   "outputs": [
    {
     "data": {
      "text/html": [
       "<table class=\"dataframe\">\n",
       "<caption>A data.frame: 2 × 92</caption>\n",
       "<thead>\n",
       "\t<tr><th></th><th scope=col>IL1B..CD14.monocyte.PB00001.01_Female_BR1</th><th scope=col>IL1B..CD14.monocyte.PB00002.01_Male_BR1</th><th scope=col>IL1B..CD14.monocyte.PB00003.01_Female_BR1</th><th scope=col>IL1B..CD14.monocyte.PB00004.01_Male_BR1</th><th scope=col>IL1B..CD14.monocyte.PB00006.01_Female_BR1</th><th scope=col>IL1B..CD14.monocyte.PB00010.02_Male_BR1</th><th scope=col>IL1B..CD14.monocyte.PB00012.01_Female_BR1</th><th scope=col>IL1B..CD14.monocyte.PB00014.01_Male_BR1</th><th scope=col>IL1B..CD14.monocyte.PB00015.01_Male_BR2</th><th scope=col>IL1B..CD14.monocyte.PB00016.01_Female_BR2</th><th scope=col>⋯</th><th scope=col>IL1B..CD14.monocyte.PB00592.01_Male_BR1</th><th scope=col>IL1B..CD14.monocyte.PB00599.01_Female_BR2</th><th scope=col>IL1B..CD14.monocyte.PB00600.01_Male_BR2</th><th scope=col>IL1B..CD14.monocyte.PB00602.01_Female_BR2</th><th scope=col>IL1B..CD14.monocyte.PB00621.01_Female_BR1</th><th scope=col>IL1B..CD14.monocyte.PB00623.01_Male_BR2</th><th scope=col>IL1B..CD14.monocyte.PB00625.02_Male_BR2</th><th scope=col>IL1B..CD14.monocyte.PB00645.01_Female_BR1</th><th scope=col>IL1B..CD14.monocyte.PB01425.01_Female_BR1</th><th scope=col>IL1B..CD14.monocyte.PB01446.01_Male_BR1</th></tr>\n",
       "\t<tr><th></th><th scope=col>&lt;dbl&gt;</th><th scope=col>&lt;dbl&gt;</th><th scope=col>&lt;dbl&gt;</th><th scope=col>&lt;dbl&gt;</th><th scope=col>&lt;dbl&gt;</th><th scope=col>&lt;dbl&gt;</th><th scope=col>&lt;dbl&gt;</th><th scope=col>&lt;dbl&gt;</th><th scope=col>&lt;dbl&gt;</th><th scope=col>&lt;dbl&gt;</th><th scope=col>⋯</th><th scope=col>&lt;dbl&gt;</th><th scope=col>&lt;dbl&gt;</th><th scope=col>&lt;dbl&gt;</th><th scope=col>&lt;dbl&gt;</th><th scope=col>&lt;dbl&gt;</th><th scope=col>&lt;dbl&gt;</th><th scope=col>&lt;dbl&gt;</th><th scope=col>&lt;dbl&gt;</th><th scope=col>&lt;dbl&gt;</th><th scope=col>&lt;dbl&gt;</th></tr>\n",
       "</thead>\n",
       "<tbody>\n",
       "\t<tr><th scope=row>FAM41C</th><td>-0.1325731</td><td>-0.1325731</td><td>-0.1325731</td><td>-0.1325731</td><td>-0.1325731</td><td>-0.1325731</td><td>-0.1325731</td><td>-0.13257308</td><td>-0.1325731</td><td> 0.05204857</td><td>⋯</td><td>-0.1325731</td><td>0.06016823</td><td>0.008158344</td><td>0.01704779</td><td>-0.1325731</td><td> 0.1370695</td><td>-0.1325731</td><td>-0.1325731</td><td>-0.1325731</td><td>-0.1325731</td></tr>\n",
       "\t<tr><th scope=row>KLHL17</th><td>-0.1132681</td><td>-0.1132681</td><td>-0.1132681</td><td>-0.1132681</td><td>-0.1132681</td><td> 0.5613906</td><td>-0.1132681</td><td> 0.02164065</td><td>-0.1132681</td><td>-0.11326809</td><td>⋯</td><td>-0.1132681</td><td>0.27585898</td><td>0.085578125</td><td>0.05498980</td><td> 1.1780484</td><td>-0.1132681</td><td>-0.1132681</td><td>-0.1132681</td><td>-0.1132681</td><td>-0.1132681</td></tr>\n",
       "</tbody>\n",
       "</table>\n"
      ],
      "text/latex": [
       "A data.frame: 2 × 92\n",
       "\\begin{tabular}{r|lllllllllllllllllllll}\n",
       "  & IL1B..CD14.monocyte.PB00001.01\\_Female\\_BR1 & IL1B..CD14.monocyte.PB00002.01\\_Male\\_BR1 & IL1B..CD14.monocyte.PB00003.01\\_Female\\_BR1 & IL1B..CD14.monocyte.PB00004.01\\_Male\\_BR1 & IL1B..CD14.monocyte.PB00006.01\\_Female\\_BR1 & IL1B..CD14.monocyte.PB00010.02\\_Male\\_BR1 & IL1B..CD14.monocyte.PB00012.01\\_Female\\_BR1 & IL1B..CD14.monocyte.PB00014.01\\_Male\\_BR1 & IL1B..CD14.monocyte.PB00015.01\\_Male\\_BR2 & IL1B..CD14.monocyte.PB00016.01\\_Female\\_BR2 & ⋯ & IL1B..CD14.monocyte.PB00592.01\\_Male\\_BR1 & IL1B..CD14.monocyte.PB00599.01\\_Female\\_BR2 & IL1B..CD14.monocyte.PB00600.01\\_Male\\_BR2 & IL1B..CD14.monocyte.PB00602.01\\_Female\\_BR2 & IL1B..CD14.monocyte.PB00621.01\\_Female\\_BR1 & IL1B..CD14.monocyte.PB00623.01\\_Male\\_BR2 & IL1B..CD14.monocyte.PB00625.02\\_Male\\_BR2 & IL1B..CD14.monocyte.PB00645.01\\_Female\\_BR1 & IL1B..CD14.monocyte.PB01425.01\\_Female\\_BR1 & IL1B..CD14.monocyte.PB01446.01\\_Male\\_BR1\\\\\n",
       "  & <dbl> & <dbl> & <dbl> & <dbl> & <dbl> & <dbl> & <dbl> & <dbl> & <dbl> & <dbl> & ⋯ & <dbl> & <dbl> & <dbl> & <dbl> & <dbl> & <dbl> & <dbl> & <dbl> & <dbl> & <dbl>\\\\\n",
       "\\hline\n",
       "\tFAM41C & -0.1325731 & -0.1325731 & -0.1325731 & -0.1325731 & -0.1325731 & -0.1325731 & -0.1325731 & -0.13257308 & -0.1325731 &  0.05204857 & ⋯ & -0.1325731 & 0.06016823 & 0.008158344 & 0.01704779 & -0.1325731 &  0.1370695 & -0.1325731 & -0.1325731 & -0.1325731 & -0.1325731\\\\\n",
       "\tKLHL17 & -0.1132681 & -0.1132681 & -0.1132681 & -0.1132681 & -0.1132681 &  0.5613906 & -0.1132681 &  0.02164065 & -0.1132681 & -0.11326809 & ⋯ & -0.1132681 & 0.27585898 & 0.085578125 & 0.05498980 &  1.1780484 & -0.1132681 & -0.1132681 & -0.1132681 & -0.1132681 & -0.1132681\\\\\n",
       "\\end{tabular}\n"
      ],
      "text/markdown": [
       "\n",
       "A data.frame: 2 × 92\n",
       "\n",
       "| <!--/--> | IL1B..CD14.monocyte.PB00001.01_Female_BR1 &lt;dbl&gt; | IL1B..CD14.monocyte.PB00002.01_Male_BR1 &lt;dbl&gt; | IL1B..CD14.monocyte.PB00003.01_Female_BR1 &lt;dbl&gt; | IL1B..CD14.monocyte.PB00004.01_Male_BR1 &lt;dbl&gt; | IL1B..CD14.monocyte.PB00006.01_Female_BR1 &lt;dbl&gt; | IL1B..CD14.monocyte.PB00010.02_Male_BR1 &lt;dbl&gt; | IL1B..CD14.monocyte.PB00012.01_Female_BR1 &lt;dbl&gt; | IL1B..CD14.monocyte.PB00014.01_Male_BR1 &lt;dbl&gt; | IL1B..CD14.monocyte.PB00015.01_Male_BR2 &lt;dbl&gt; | IL1B..CD14.monocyte.PB00016.01_Female_BR2 &lt;dbl&gt; | ⋯ ⋯ | IL1B..CD14.monocyte.PB00592.01_Male_BR1 &lt;dbl&gt; | IL1B..CD14.monocyte.PB00599.01_Female_BR2 &lt;dbl&gt; | IL1B..CD14.monocyte.PB00600.01_Male_BR2 &lt;dbl&gt; | IL1B..CD14.monocyte.PB00602.01_Female_BR2 &lt;dbl&gt; | IL1B..CD14.monocyte.PB00621.01_Female_BR1 &lt;dbl&gt; | IL1B..CD14.monocyte.PB00623.01_Male_BR2 &lt;dbl&gt; | IL1B..CD14.monocyte.PB00625.02_Male_BR2 &lt;dbl&gt; | IL1B..CD14.monocyte.PB00645.01_Female_BR1 &lt;dbl&gt; | IL1B..CD14.monocyte.PB01425.01_Female_BR1 &lt;dbl&gt; | IL1B..CD14.monocyte.PB01446.01_Male_BR1 &lt;dbl&gt; |\n",
       "|---|---|---|---|---|---|---|---|---|---|---|---|---|---|---|---|---|---|---|---|---|---|\n",
       "| FAM41C | -0.1325731 | -0.1325731 | -0.1325731 | -0.1325731 | -0.1325731 | -0.1325731 | -0.1325731 | -0.13257308 | -0.1325731 |  0.05204857 | ⋯ | -0.1325731 | 0.06016823 | 0.008158344 | 0.01704779 | -0.1325731 |  0.1370695 | -0.1325731 | -0.1325731 | -0.1325731 | -0.1325731 |\n",
       "| KLHL17 | -0.1132681 | -0.1132681 | -0.1132681 | -0.1132681 | -0.1132681 |  0.5613906 | -0.1132681 |  0.02164065 | -0.1132681 | -0.11326809 | ⋯ | -0.1132681 | 0.27585898 | 0.085578125 | 0.05498980 |  1.1780484 | -0.1132681 | -0.1132681 | -0.1132681 | -0.1132681 | -0.1132681 |\n",
       "\n"
      ],
      "text/plain": [
       "       IL1B..CD14.monocyte.PB00001.01_Female_BR1\n",
       "FAM41C -0.1325731                               \n",
       "KLHL17 -0.1132681                               \n",
       "       IL1B..CD14.monocyte.PB00002.01_Male_BR1\n",
       "FAM41C -0.1325731                             \n",
       "KLHL17 -0.1132681                             \n",
       "       IL1B..CD14.monocyte.PB00003.01_Female_BR1\n",
       "FAM41C -0.1325731                               \n",
       "KLHL17 -0.1132681                               \n",
       "       IL1B..CD14.monocyte.PB00004.01_Male_BR1\n",
       "FAM41C -0.1325731                             \n",
       "KLHL17 -0.1132681                             \n",
       "       IL1B..CD14.monocyte.PB00006.01_Female_BR1\n",
       "FAM41C -0.1325731                               \n",
       "KLHL17 -0.1132681                               \n",
       "       IL1B..CD14.monocyte.PB00010.02_Male_BR1\n",
       "FAM41C -0.1325731                             \n",
       "KLHL17  0.5613906                             \n",
       "       IL1B..CD14.monocyte.PB00012.01_Female_BR1\n",
       "FAM41C -0.1325731                               \n",
       "KLHL17 -0.1132681                               \n",
       "       IL1B..CD14.monocyte.PB00014.01_Male_BR1\n",
       "FAM41C -0.13257308                            \n",
       "KLHL17  0.02164065                            \n",
       "       IL1B..CD14.monocyte.PB00015.01_Male_BR2\n",
       "FAM41C -0.1325731                             \n",
       "KLHL17 -0.1132681                             \n",
       "       IL1B..CD14.monocyte.PB00016.01_Female_BR2 ⋯\n",
       "FAM41C  0.05204857                               ⋯\n",
       "KLHL17 -0.11326809                               ⋯\n",
       "       IL1B..CD14.monocyte.PB00592.01_Male_BR1\n",
       "FAM41C -0.1325731                             \n",
       "KLHL17 -0.1132681                             \n",
       "       IL1B..CD14.monocyte.PB00599.01_Female_BR2\n",
       "FAM41C 0.06016823                               \n",
       "KLHL17 0.27585898                               \n",
       "       IL1B..CD14.monocyte.PB00600.01_Male_BR2\n",
       "FAM41C 0.008158344                            \n",
       "KLHL17 0.085578125                            \n",
       "       IL1B..CD14.monocyte.PB00602.01_Female_BR2\n",
       "FAM41C 0.01704779                               \n",
       "KLHL17 0.05498980                               \n",
       "       IL1B..CD14.monocyte.PB00621.01_Female_BR1\n",
       "FAM41C -0.1325731                               \n",
       "KLHL17  1.1780484                               \n",
       "       IL1B..CD14.monocyte.PB00623.01_Male_BR2\n",
       "FAM41C  0.1370695                             \n",
       "KLHL17 -0.1132681                             \n",
       "       IL1B..CD14.monocyte.PB00625.02_Male_BR2\n",
       "FAM41C -0.1325731                             \n",
       "KLHL17 -0.1132681                             \n",
       "       IL1B..CD14.monocyte.PB00645.01_Female_BR1\n",
       "FAM41C -0.1325731                               \n",
       "KLHL17 -0.1132681                               \n",
       "       IL1B..CD14.monocyte.PB01425.01_Female_BR1\n",
       "FAM41C -0.1325731                               \n",
       "KLHL17 -0.1132681                               \n",
       "       IL1B..CD14.monocyte.PB01446.01_Male_BR1\n",
       "FAM41C -0.1325731                             \n",
       "KLHL17 -0.1132681                             "
      ]
     },
     "metadata": {},
     "output_type": "display_data"
    }
   ],
   "source": [
    "head(mean_df, n=2)"
   ]
  },
  {
   "cell_type": "code",
   "execution_count": 6,
   "id": "6cbfbb86-2dcc-4cfc-a0be-f1c90ee92176",
   "metadata": {
    "tags": []
   },
   "outputs": [
    {
     "data": {
      "text/html": [
       "<table class=\"dataframe\">\n",
       "<caption>A data.frame: 3 × 1</caption>\n",
       "<thead>\n",
       "\t<tr><th></th><th scope=col>colnames.mean_df.</th></tr>\n",
       "\t<tr><th></th><th scope=col>&lt;chr&gt;</th></tr>\n",
       "</thead>\n",
       "<tbody>\n",
       "\t<tr><th scope=row>1</th><td>IL1B..CD14.monocyte.PB00001.01_Female_BR1</td></tr>\n",
       "\t<tr><th scope=row>2</th><td>IL1B..CD14.monocyte.PB00002.01_Male_BR1  </td></tr>\n",
       "\t<tr><th scope=row>3</th><td>IL1B..CD14.monocyte.PB00003.01_Female_BR1</td></tr>\n",
       "</tbody>\n",
       "</table>\n"
      ],
      "text/latex": [
       "A data.frame: 3 × 1\n",
       "\\begin{tabular}{r|l}\n",
       "  & colnames.mean\\_df.\\\\\n",
       "  & <chr>\\\\\n",
       "\\hline\n",
       "\t1 & IL1B..CD14.monocyte.PB00001.01\\_Female\\_BR1\\\\\n",
       "\t2 & IL1B..CD14.monocyte.PB00002.01\\_Male\\_BR1  \\\\\n",
       "\t3 & IL1B..CD14.monocyte.PB00003.01\\_Female\\_BR1\\\\\n",
       "\\end{tabular}\n"
      ],
      "text/markdown": [
       "\n",
       "A data.frame: 3 × 1\n",
       "\n",
       "| <!--/--> | colnames.mean_df. &lt;chr&gt; |\n",
       "|---|---|\n",
       "| 1 | IL1B..CD14.monocyte.PB00001.01_Female_BR1 |\n",
       "| 2 | IL1B..CD14.monocyte.PB00002.01_Male_BR1   |\n",
       "| 3 | IL1B..CD14.monocyte.PB00003.01_Female_BR1 |\n",
       "\n"
      ],
      "text/plain": [
       "  colnames.mean_df.                        \n",
       "1 IL1B..CD14.monocyte.PB00001.01_Female_BR1\n",
       "2 IL1B..CD14.monocyte.PB00002.01_Male_BR1  \n",
       "3 IL1B..CD14.monocyte.PB00003.01_Female_BR1"
      ]
     },
     "metadata": {},
     "output_type": "display_data"
    }
   ],
   "source": [
    "meta<-data.frame(colnames(mean_df))\n",
    "head(meta, n = 3)"
   ]
  },
  {
   "cell_type": "code",
   "execution_count": 7,
   "id": "7dce8ff6-a590-4d7a-b12c-09a9f924bd99",
   "metadata": {
    "tags": []
   },
   "outputs": [
    {
     "data": {
      "text/html": [
       "<table class=\"dataframe\">\n",
       "<caption>A data.frame: 6 × 1</caption>\n",
       "<thead>\n",
       "\t<tr><th></th><th scope=col>ID</th></tr>\n",
       "\t<tr><th></th><th scope=col>&lt;chr&gt;</th></tr>\n",
       "</thead>\n",
       "<tbody>\n",
       "\t<tr><th scope=row>1</th><td>IL1B..CD14.monocyte.PB00001.01_Female_BR1</td></tr>\n",
       "\t<tr><th scope=row>2</th><td>IL1B..CD14.monocyte.PB00002.01_Male_BR1  </td></tr>\n",
       "\t<tr><th scope=row>3</th><td>IL1B..CD14.monocyte.PB00003.01_Female_BR1</td></tr>\n",
       "\t<tr><th scope=row>4</th><td>IL1B..CD14.monocyte.PB00004.01_Male_BR1  </td></tr>\n",
       "\t<tr><th scope=row>5</th><td>IL1B..CD14.monocyte.PB00006.01_Female_BR1</td></tr>\n",
       "\t<tr><th scope=row>6</th><td>IL1B..CD14.monocyte.PB00010.02_Male_BR1  </td></tr>\n",
       "</tbody>\n",
       "</table>\n"
      ],
      "text/latex": [
       "A data.frame: 6 × 1\n",
       "\\begin{tabular}{r|l}\n",
       "  & ID\\\\\n",
       "  & <chr>\\\\\n",
       "\\hline\n",
       "\t1 & IL1B..CD14.monocyte.PB00001.01\\_Female\\_BR1\\\\\n",
       "\t2 & IL1B..CD14.monocyte.PB00002.01\\_Male\\_BR1  \\\\\n",
       "\t3 & IL1B..CD14.monocyte.PB00003.01\\_Female\\_BR1\\\\\n",
       "\t4 & IL1B..CD14.monocyte.PB00004.01\\_Male\\_BR1  \\\\\n",
       "\t5 & IL1B..CD14.monocyte.PB00006.01\\_Female\\_BR1\\\\\n",
       "\t6 & IL1B..CD14.monocyte.PB00010.02\\_Male\\_BR1  \\\\\n",
       "\\end{tabular}\n"
      ],
      "text/markdown": [
       "\n",
       "A data.frame: 6 × 1\n",
       "\n",
       "| <!--/--> | ID &lt;chr&gt; |\n",
       "|---|---|\n",
       "| 1 | IL1B..CD14.monocyte.PB00001.01_Female_BR1 |\n",
       "| 2 | IL1B..CD14.monocyte.PB00002.01_Male_BR1   |\n",
       "| 3 | IL1B..CD14.monocyte.PB00003.01_Female_BR1 |\n",
       "| 4 | IL1B..CD14.monocyte.PB00004.01_Male_BR1   |\n",
       "| 5 | IL1B..CD14.monocyte.PB00006.01_Female_BR1 |\n",
       "| 6 | IL1B..CD14.monocyte.PB00010.02_Male_BR1   |\n",
       "\n"
      ],
      "text/plain": [
       "  ID                                       \n",
       "1 IL1B..CD14.monocyte.PB00001.01_Female_BR1\n",
       "2 IL1B..CD14.monocyte.PB00002.01_Male_BR1  \n",
       "3 IL1B..CD14.monocyte.PB00003.01_Female_BR1\n",
       "4 IL1B..CD14.monocyte.PB00004.01_Male_BR1  \n",
       "5 IL1B..CD14.monocyte.PB00006.01_Female_BR1\n",
       "6 IL1B..CD14.monocyte.PB00010.02_Male_BR1  "
      ]
     },
     "metadata": {},
     "output_type": "display_data"
    },
    {
     "data": {
      "text/html": [
       "0"
      ],
      "text/latex": [
       "0"
      ],
      "text/markdown": [
       "0"
      ],
      "text/plain": [
       "[1] 0"
      ]
     },
     "metadata": {},
     "output_type": "display_data"
    }
   ],
   "source": [
    "names(meta)[names(meta) == \"colnames.mean_df.\"] <- \"ID\"\n",
    "head(meta)\n",
    "\n",
    "length(unique(meta$colnames.mean_df.))"
   ]
  },
  {
   "cell_type": "code",
   "execution_count": 270,
   "id": "c4e5665d-f8fb-49d5-bf2d-1d008f4b5403",
   "metadata": {
    "tags": []
   },
   "outputs": [],
   "source": [
    "# # Sample string\n",
    "# input_string <- \"IL1B..CD14.monocyte.PB03924.002_Female_BR1\"\n",
    "\n",
    "# # Extract the desired string using regex\n",
    "# extracted_string <- sub(\".*\\\\.([^.]+)\\\\.([^.]+)_.*\", \"\\\\1-\\\\2\", input_string)\n",
    "\n",
    "# print(extracted_string)\n"
   ]
  },
  {
   "cell_type": "code",
   "execution_count": 271,
   "id": "771b91e8-e447-4afa-b866-fb95c31cb5e4",
   "metadata": {
    "tags": []
   },
   "outputs": [],
   "source": [
    "\n",
    "# # Extract PB.... ids from the 'ID' column\n",
    "# meta$pbmc_sample_id <- gsub(\"IL1B..CD14.monocyte.(PB[0-9]+\\\\.\\\\d+)_.*\", \"\\\\1\", meta$ID)\n",
    "# meta$pbmc_sample_id  = df['PB_ID'].str.replace('.', '-')\n",
    "# # Display the extracted ids\n",
    "# head(meta)\n",
    "\n",
    "# unique(meta$pbmc_sample_id)"
   ]
  },
  {
   "cell_type": "code",
   "execution_count": 8,
   "id": "7e7191d1-bfb0-4401-82fe-452f3c48650d",
   "metadata": {
    "tags": []
   },
   "outputs": [
    {
     "data": {
      "text/html": [
       "<table class=\"dataframe\">\n",
       "<caption>A data.frame: 6 × 2</caption>\n",
       "<thead>\n",
       "\t<tr><th></th><th scope=col>ID</th><th scope=col>pbmc_sample_id</th></tr>\n",
       "\t<tr><th></th><th scope=col>&lt;chr&gt;</th><th scope=col>&lt;chr&gt;</th></tr>\n",
       "</thead>\n",
       "<tbody>\n",
       "\t<tr><th scope=row>1</th><td>IL1B..CD14.monocyte.PB00001.01_Female_BR1</td><td>PB00001-01</td></tr>\n",
       "\t<tr><th scope=row>2</th><td>IL1B..CD14.monocyte.PB00002.01_Male_BR1  </td><td>PB00002-01</td></tr>\n",
       "\t<tr><th scope=row>3</th><td>IL1B..CD14.monocyte.PB00003.01_Female_BR1</td><td>PB00003-01</td></tr>\n",
       "\t<tr><th scope=row>4</th><td>IL1B..CD14.monocyte.PB00004.01_Male_BR1  </td><td>PB00004-01</td></tr>\n",
       "\t<tr><th scope=row>5</th><td>IL1B..CD14.monocyte.PB00006.01_Female_BR1</td><td>PB00006-01</td></tr>\n",
       "\t<tr><th scope=row>6</th><td>IL1B..CD14.monocyte.PB00010.02_Male_BR1  </td><td>PB00010-02</td></tr>\n",
       "</tbody>\n",
       "</table>\n"
      ],
      "text/latex": [
       "A data.frame: 6 × 2\n",
       "\\begin{tabular}{r|ll}\n",
       "  & ID & pbmc\\_sample\\_id\\\\\n",
       "  & <chr> & <chr>\\\\\n",
       "\\hline\n",
       "\t1 & IL1B..CD14.monocyte.PB00001.01\\_Female\\_BR1 & PB00001-01\\\\\n",
       "\t2 & IL1B..CD14.monocyte.PB00002.01\\_Male\\_BR1   & PB00002-01\\\\\n",
       "\t3 & IL1B..CD14.monocyte.PB00003.01\\_Female\\_BR1 & PB00003-01\\\\\n",
       "\t4 & IL1B..CD14.monocyte.PB00004.01\\_Male\\_BR1   & PB00004-01\\\\\n",
       "\t5 & IL1B..CD14.monocyte.PB00006.01\\_Female\\_BR1 & PB00006-01\\\\\n",
       "\t6 & IL1B..CD14.monocyte.PB00010.02\\_Male\\_BR1   & PB00010-02\\\\\n",
       "\\end{tabular}\n"
      ],
      "text/markdown": [
       "\n",
       "A data.frame: 6 × 2\n",
       "\n",
       "| <!--/--> | ID &lt;chr&gt; | pbmc_sample_id &lt;chr&gt; |\n",
       "|---|---|---|\n",
       "| 1 | IL1B..CD14.monocyte.PB00001.01_Female_BR1 | PB00001-01 |\n",
       "| 2 | IL1B..CD14.monocyte.PB00002.01_Male_BR1   | PB00002-01 |\n",
       "| 3 | IL1B..CD14.monocyte.PB00003.01_Female_BR1 | PB00003-01 |\n",
       "| 4 | IL1B..CD14.monocyte.PB00004.01_Male_BR1   | PB00004-01 |\n",
       "| 5 | IL1B..CD14.monocyte.PB00006.01_Female_BR1 | PB00006-01 |\n",
       "| 6 | IL1B..CD14.monocyte.PB00010.02_Male_BR1   | PB00010-02 |\n",
       "\n"
      ],
      "text/plain": [
       "  ID                                        pbmc_sample_id\n",
       "1 IL1B..CD14.monocyte.PB00001.01_Female_BR1 PB00001-01    \n",
       "2 IL1B..CD14.monocyte.PB00002.01_Male_BR1   PB00002-01    \n",
       "3 IL1B..CD14.monocyte.PB00003.01_Female_BR1 PB00003-01    \n",
       "4 IL1B..CD14.monocyte.PB00004.01_Male_BR1   PB00004-01    \n",
       "5 IL1B..CD14.monocyte.PB00006.01_Female_BR1 PB00006-01    \n",
       "6 IL1B..CD14.monocyte.PB00010.02_Male_BR1   PB00010-02    "
      ]
     },
     "metadata": {},
     "output_type": "display_data"
    },
    {
     "data": {
      "text/html": [
       "92"
      ],
      "text/latex": [
       "92"
      ],
      "text/markdown": [
       "92"
      ],
      "text/plain": [
       "[1] 92"
      ]
     },
     "metadata": {},
     "output_type": "display_data"
    }
   ],
   "source": [
    "# Sample strings\n",
    "#input_strings <- c(\"IL1B..CD14.monocyte.PB02554.002_Female_BR1\", \"IL1B..CD14.monocyte.PB02554.02_Male_BR1\")\n",
    "\n",
    "# Extract the desired strings using regex\n",
    "meta$pbmc_sample_id  <- sub(\".*\\\\.([^.]+)\\\\.([^.]+(?:\\\\.\\\\d+)?)_.*\", \"\\\\1-\\\\2\", meta$ID)\n",
    "meta$pbmc_sample_id  <- gsub('_.*','',meta$pbmc_sample_id )\n",
    "\n",
    "head(meta)\n",
    "length(unique(meta$pbmc_sample_id))"
   ]
  },
  {
   "cell_type": "code",
   "execution_count": 273,
   "id": "56c98b75-d1c9-4a5d-af9a-f01aae249e73",
   "metadata": {
    "tags": []
   },
   "outputs": [],
   "source": [
    "# ext_strings <- gsub('_.*','',extracted_strings)\n",
    "# ext_strings"
   ]
  },
  {
   "cell_type": "code",
   "execution_count": 274,
   "id": "f8920a4a-e6d6-4831-ba9e-03e8760d6d18",
   "metadata": {
    "tags": []
   },
   "outputs": [],
   "source": [
    "# meta$pbmc_sample_id <- gsub(\"\\\\.\", \"-\", regmatches(meta$ID, regexpr(\"PB\\\\d+\\\\.\\\\d+\", meta$ID)))\n",
    "# head(meta)"
   ]
  },
  {
   "cell_type": "code",
   "execution_count": 65,
   "id": "36b1672a-9f84-433f-95f7-4fc487764cc3",
   "metadata": {
    "tags": []
   },
   "outputs": [
    {
     "data": {
      "text/html": [
       "<table class=\"dataframe\">\n",
       "<caption>A data.frame: 6 × 37</caption>\n",
       "<thead>\n",
       "\t<tr><th></th><th scope=col>ID</th><th scope=col>pbmc_sample_id</th><th scope=col>X.1</th><th scope=col>X</th><th scope=col>lastUpdated</th><th scope=col>sample.id</th><th scope=col>sample.bridgingControl</th><th scope=col>sample.sampleKitGuid</th><th scope=col>sample.visitName</th><th scope=col>sample.visitDetails</th><th scope=col>⋯</th><th scope=col>sample.diseaseStatesRecordedAtVisit</th><th scope=col>Sample_ID</th><th scope=col>Sample_Draw_date</th><th scope=col>Covid_Dose_1</th><th scope=col>Covid_Dose_2</th><th scope=col>Covid_exlcusion</th><th scope=col>CMV.IgG.Serology.Result.Interpretation</th><th scope=col>BMI</th><th scope=col>file.name.downloaded</th><th scope=col>file.path</th></tr>\n",
       "\t<tr><th></th><th scope=col>&lt;chr&gt;</th><th scope=col>&lt;chr&gt;</th><th scope=col>&lt;int&gt;</th><th scope=col>&lt;int&gt;</th><th scope=col>&lt;chr&gt;</th><th scope=col>&lt;chr&gt;</th><th scope=col>&lt;chr&gt;</th><th scope=col>&lt;chr&gt;</th><th scope=col>&lt;chr&gt;</th><th scope=col>&lt;chr&gt;</th><th scope=col>⋯</th><th scope=col>&lt;lgl&gt;</th><th scope=col>&lt;lgl&gt;</th><th scope=col>&lt;chr&gt;</th><th scope=col>&lt;chr&gt;</th><th scope=col>&lt;chr&gt;</th><th scope=col>&lt;chr&gt;</th><th scope=col>&lt;chr&gt;</th><th scope=col>&lt;chr&gt;</th><th scope=col>&lt;chr&gt;</th><th scope=col>&lt;chr&gt;</th></tr>\n",
       "</thead>\n",
       "<tbody>\n",
       "\t<tr><th scope=row>1</th><td>IL1B..CD14.monocyte.PB00001.01_Female_BR1</td><td>PB00001-01</td><td>1</td><td>1</td><td>2023-11-18T02:03:08.347Z</td><td>f499ff83-e513-4d24-a10f-151348269fff</td><td>false</td><td>KT00001</td><td>Flu Year 1 Day 0</td><td>N/A - Flu-Series Timepoint Only</td><td>⋯</td><td>NA</td><td>NA</td><td>2019-10-15</td><td><span style=white-space:pre-wrap>NA        </span></td><td><span style=white-space:pre-wrap>NA        </span></td><td>no</td><td>Negative</td><td><span style=white-space:pre-wrap>&lt;25-BMI  </span></td><td><span style=white-space:pre-wrap>B001-P1_PB00001-01_labeled.h5                               </span></td><td><span style=white-space:pre-wrap>/home/jupyter/BRI_Analysis/scRNA/cache/fec489f9-9a74-4635-aa91-d2bf09d1faec/B001-P1_PB00001-01_labeled.h5                               </span></td></tr>\n",
       "\t<tr><th scope=row>2</th><td><span style=white-space:pre-wrap>IL1B..CD14.monocyte.PB00002.01_Male_BR1  </span></td><td>PB00002-01</td><td>2</td><td>2</td><td>2023-11-18T02:03:08.347Z</td><td>750e90a9-a296-4f0f-969f-60225c2bca17</td><td>false</td><td>KT00002</td><td>Flu Year 1 Day 0</td><td>N/A - Flu-Series Timepoint Only</td><td>⋯</td><td>NA</td><td>NA</td><td>2019-10-15</td><td>2020-12-28</td><td>2021-01-18</td><td>no</td><td>Negative</td><td><span style=white-space:pre-wrap>&lt;25-BMI  </span></td><td><span style=white-space:pre-wrap>B001-P1_PB00002-01_labeled.h5                               </span></td><td><span style=white-space:pre-wrap>/home/jupyter/BRI_Analysis/scRNA/cache/7c0c7979-eebd-4aba-b5b2-6e76b4643623/B001-P1_PB00002-01_labeled.h5                               </span></td></tr>\n",
       "\t<tr><th scope=row>3</th><td>IL1B..CD14.monocyte.PB00003.01_Female_BR1</td><td>PB00003-01</td><td>3</td><td>3</td><td>2023-11-18T02:03:08.347Z</td><td>2db6fb3f-e3f4-454b-891b-9b068541b51d</td><td>false</td><td>KT00003</td><td>Flu Year 1 Day 0</td><td>N/A - Flu-Series Timepoint Only</td><td>⋯</td><td>NA</td><td>NA</td><td>2019-10-15</td><td>2020-12-28</td><td>2021-01-16</td><td>no</td><td>Negative</td><td><span style=white-space:pre-wrap>&lt;25-BMI  </span></td><td><span style=white-space:pre-wrap>B001-P1_PB00003-01_labeled.h5                               </span></td><td><span style=white-space:pre-wrap>/home/jupyter/BRI_Analysis/scRNA/cache/40efd03a-cb2f-4677-af42-a056cbfe5a17/B001-P1_PB00003-01_labeled.h5                               </span></td></tr>\n",
       "\t<tr><th scope=row>4</th><td><span style=white-space:pre-wrap>IL1B..CD14.monocyte.PB00004.01_Male_BR1  </span></td><td>PB00004-01</td><td>4</td><td>4</td><td>2023-11-19T10:34:34.12Z </td><td>f04693c5-563c-4b5b-ae58-877d0d9ae2fe</td><td>false</td><td>KT00004</td><td>Flu Year 1 Day 0</td><td>N/A - Flu-Series Timepoint Only</td><td>⋯</td><td>NA</td><td>NA</td><td>2019-10-21</td><td>2021-04-16</td><td>2021-05-06</td><td>no</td><td>Negative</td><td><span style=white-space:pre-wrap>&lt;25-BMI  </span></td><td>B002-P1_PB00004-01_2023-11-17T21:36:51.794326181Z_labeled.h5</td><td>/home/jupyter/BRI_Analysis/scRNA/cache/68fbcd34-1d63-461d-8195-df5b8dc61b31/B002-P1_PB00004-01_2023-11-17T21:36:51.794326181Z_labeled.h5</td></tr>\n",
       "\t<tr><th scope=row>5</th><td>IL1B..CD14.monocyte.PB00006.01_Female_BR1</td><td>PB00006-01</td><td>5</td><td>5</td><td>2023-11-19T05:07:36.805Z</td><td>eb5b3a3d-002e-40a6-aa19-aa0e6a7fff8f</td><td>false</td><td>KT00006</td><td>Flu Year 1 Day 0</td><td>N/A - Flu-Series Timepoint Only</td><td>⋯</td><td>NA</td><td>NA</td><td>2019-10-23</td><td>2021-01-16</td><td>2021-02-26</td><td>no</td><td>Negative</td><td><span style=white-space:pre-wrap>&lt;25-BMI  </span></td><td>B002-P1_PB00006-01_2023-11-17T21:36:51.794326181Z_labeled.h5</td><td>/home/jupyter/BRI_Analysis/scRNA/cache/ea8d98e9-e99e-4dc6-9e78-9866e0deac68/B002-P1_PB00006-01_2023-11-17T21:36:51.794326181Z_labeled.h5</td></tr>\n",
       "\t<tr><th scope=row>6</th><td><span style=white-space:pre-wrap>IL1B..CD14.monocyte.PB00010.02_Male_BR1  </span></td><td>PB00010-02</td><td>6</td><td>6</td><td>2023-11-18T02:03:08.347Z</td><td>f32ac061-0ede-4040-8d8c-35229ea5229c</td><td>false</td><td>KT00010</td><td>Flu Year 1 Day 0</td><td>N/A - Flu-Series Timepoint Only</td><td>⋯</td><td>NA</td><td>NA</td><td>2019-10-28</td><td>2021-03-21</td><td>2021-04-18</td><td>no</td><td>Negative</td><td>&gt;25-30BMI</td><td>B078-P2_PB00010-02_2021-08-19T17:09:29.934849811Z_labeled.h5</td><td>/home/jupyter/BRI_Analysis/scRNA/cache/237e41df-5616-4852-8a8f-b32835c9efcb/B078-P2_PB00010-02_2021-08-19T17:09:29.934849811Z_labeled.h5</td></tr>\n",
       "</tbody>\n",
       "</table>\n"
      ],
      "text/latex": [
       "A data.frame: 6 × 37\n",
       "\\begin{tabular}{r|lllllllllllllllllllll}\n",
       "  & ID & pbmc\\_sample\\_id & X.1 & X & lastUpdated & sample.id & sample.bridgingControl & sample.sampleKitGuid & sample.visitName & sample.visitDetails & ⋯ & sample.diseaseStatesRecordedAtVisit & Sample\\_ID & Sample\\_Draw\\_date & Covid\\_Dose\\_1 & Covid\\_Dose\\_2 & Covid\\_exlcusion & CMV.IgG.Serology.Result.Interpretation & BMI & file.name.downloaded & file.path\\\\\n",
       "  & <chr> & <chr> & <int> & <int> & <chr> & <chr> & <chr> & <chr> & <chr> & <chr> & ⋯ & <lgl> & <lgl> & <chr> & <chr> & <chr> & <chr> & <chr> & <chr> & <chr> & <chr>\\\\\n",
       "\\hline\n",
       "\t1 & IL1B..CD14.monocyte.PB00001.01\\_Female\\_BR1 & PB00001-01 & 1 & 1 & 2023-11-18T02:03:08.347Z & f499ff83-e513-4d24-a10f-151348269fff & false & KT00001 & Flu Year 1 Day 0 & N/A - Flu-Series Timepoint Only & ⋯ & NA & NA & 2019-10-15 & NA         & NA         & no & Negative & <25-BMI   & B001-P1\\_PB00001-01\\_labeled.h5                                & /home/jupyter/BRI\\_Analysis/scRNA/cache/fec489f9-9a74-4635-aa91-d2bf09d1faec/B001-P1\\_PB00001-01\\_labeled.h5                               \\\\\n",
       "\t2 & IL1B..CD14.monocyte.PB00002.01\\_Male\\_BR1   & PB00002-01 & 2 & 2 & 2023-11-18T02:03:08.347Z & 750e90a9-a296-4f0f-969f-60225c2bca17 & false & KT00002 & Flu Year 1 Day 0 & N/A - Flu-Series Timepoint Only & ⋯ & NA & NA & 2019-10-15 & 2020-12-28 & 2021-01-18 & no & Negative & <25-BMI   & B001-P1\\_PB00002-01\\_labeled.h5                                & /home/jupyter/BRI\\_Analysis/scRNA/cache/7c0c7979-eebd-4aba-b5b2-6e76b4643623/B001-P1\\_PB00002-01\\_labeled.h5                               \\\\\n",
       "\t3 & IL1B..CD14.monocyte.PB00003.01\\_Female\\_BR1 & PB00003-01 & 3 & 3 & 2023-11-18T02:03:08.347Z & 2db6fb3f-e3f4-454b-891b-9b068541b51d & false & KT00003 & Flu Year 1 Day 0 & N/A - Flu-Series Timepoint Only & ⋯ & NA & NA & 2019-10-15 & 2020-12-28 & 2021-01-16 & no & Negative & <25-BMI   & B001-P1\\_PB00003-01\\_labeled.h5                                & /home/jupyter/BRI\\_Analysis/scRNA/cache/40efd03a-cb2f-4677-af42-a056cbfe5a17/B001-P1\\_PB00003-01\\_labeled.h5                               \\\\\n",
       "\t4 & IL1B..CD14.monocyte.PB00004.01\\_Male\\_BR1   & PB00004-01 & 4 & 4 & 2023-11-19T10:34:34.12Z  & f04693c5-563c-4b5b-ae58-877d0d9ae2fe & false & KT00004 & Flu Year 1 Day 0 & N/A - Flu-Series Timepoint Only & ⋯ & NA & NA & 2019-10-21 & 2021-04-16 & 2021-05-06 & no & Negative & <25-BMI   & B002-P1\\_PB00004-01\\_2023-11-17T21:36:51.794326181Z\\_labeled.h5 & /home/jupyter/BRI\\_Analysis/scRNA/cache/68fbcd34-1d63-461d-8195-df5b8dc61b31/B002-P1\\_PB00004-01\\_2023-11-17T21:36:51.794326181Z\\_labeled.h5\\\\\n",
       "\t5 & IL1B..CD14.monocyte.PB00006.01\\_Female\\_BR1 & PB00006-01 & 5 & 5 & 2023-11-19T05:07:36.805Z & eb5b3a3d-002e-40a6-aa19-aa0e6a7fff8f & false & KT00006 & Flu Year 1 Day 0 & N/A - Flu-Series Timepoint Only & ⋯ & NA & NA & 2019-10-23 & 2021-01-16 & 2021-02-26 & no & Negative & <25-BMI   & B002-P1\\_PB00006-01\\_2023-11-17T21:36:51.794326181Z\\_labeled.h5 & /home/jupyter/BRI\\_Analysis/scRNA/cache/ea8d98e9-e99e-4dc6-9e78-9866e0deac68/B002-P1\\_PB00006-01\\_2023-11-17T21:36:51.794326181Z\\_labeled.h5\\\\\n",
       "\t6 & IL1B..CD14.monocyte.PB00010.02\\_Male\\_BR1   & PB00010-02 & 6 & 6 & 2023-11-18T02:03:08.347Z & f32ac061-0ede-4040-8d8c-35229ea5229c & false & KT00010 & Flu Year 1 Day 0 & N/A - Flu-Series Timepoint Only & ⋯ & NA & NA & 2019-10-28 & 2021-03-21 & 2021-04-18 & no & Negative & >25-30BMI & B078-P2\\_PB00010-02\\_2021-08-19T17:09:29.934849811Z\\_labeled.h5 & /home/jupyter/BRI\\_Analysis/scRNA/cache/237e41df-5616-4852-8a8f-b32835c9efcb/B078-P2\\_PB00010-02\\_2021-08-19T17:09:29.934849811Z\\_labeled.h5\\\\\n",
       "\\end{tabular}\n"
      ],
      "text/markdown": [
       "\n",
       "A data.frame: 6 × 37\n",
       "\n",
       "| <!--/--> | ID &lt;chr&gt; | pbmc_sample_id &lt;chr&gt; | X.1 &lt;int&gt; | X &lt;int&gt; | lastUpdated &lt;chr&gt; | sample.id &lt;chr&gt; | sample.bridgingControl &lt;chr&gt; | sample.sampleKitGuid &lt;chr&gt; | sample.visitName &lt;chr&gt; | sample.visitDetails &lt;chr&gt; | ⋯ ⋯ | sample.diseaseStatesRecordedAtVisit &lt;lgl&gt; | Sample_ID &lt;lgl&gt; | Sample_Draw_date &lt;chr&gt; | Covid_Dose_1 &lt;chr&gt; | Covid_Dose_2 &lt;chr&gt; | Covid_exlcusion &lt;chr&gt; | CMV.IgG.Serology.Result.Interpretation &lt;chr&gt; | BMI &lt;chr&gt; | file.name.downloaded &lt;chr&gt; | file.path &lt;chr&gt; |\n",
       "|---|---|---|---|---|---|---|---|---|---|---|---|---|---|---|---|---|---|---|---|---|---|\n",
       "| 1 | IL1B..CD14.monocyte.PB00001.01_Female_BR1 | PB00001-01 | 1 | 1 | 2023-11-18T02:03:08.347Z | f499ff83-e513-4d24-a10f-151348269fff | false | KT00001 | Flu Year 1 Day 0 | N/A - Flu-Series Timepoint Only | ⋯ | NA | NA | 2019-10-15 | NA         | NA         | no | Negative | &lt;25-BMI   | B001-P1_PB00001-01_labeled.h5                                | /home/jupyter/BRI_Analysis/scRNA/cache/fec489f9-9a74-4635-aa91-d2bf09d1faec/B001-P1_PB00001-01_labeled.h5                                |\n",
       "| 2 | IL1B..CD14.monocyte.PB00002.01_Male_BR1   | PB00002-01 | 2 | 2 | 2023-11-18T02:03:08.347Z | 750e90a9-a296-4f0f-969f-60225c2bca17 | false | KT00002 | Flu Year 1 Day 0 | N/A - Flu-Series Timepoint Only | ⋯ | NA | NA | 2019-10-15 | 2020-12-28 | 2021-01-18 | no | Negative | &lt;25-BMI   | B001-P1_PB00002-01_labeled.h5                                | /home/jupyter/BRI_Analysis/scRNA/cache/7c0c7979-eebd-4aba-b5b2-6e76b4643623/B001-P1_PB00002-01_labeled.h5                                |\n",
       "| 3 | IL1B..CD14.monocyte.PB00003.01_Female_BR1 | PB00003-01 | 3 | 3 | 2023-11-18T02:03:08.347Z | 2db6fb3f-e3f4-454b-891b-9b068541b51d | false | KT00003 | Flu Year 1 Day 0 | N/A - Flu-Series Timepoint Only | ⋯ | NA | NA | 2019-10-15 | 2020-12-28 | 2021-01-16 | no | Negative | &lt;25-BMI   | B001-P1_PB00003-01_labeled.h5                                | /home/jupyter/BRI_Analysis/scRNA/cache/40efd03a-cb2f-4677-af42-a056cbfe5a17/B001-P1_PB00003-01_labeled.h5                                |\n",
       "| 4 | IL1B..CD14.monocyte.PB00004.01_Male_BR1   | PB00004-01 | 4 | 4 | 2023-11-19T10:34:34.12Z  | f04693c5-563c-4b5b-ae58-877d0d9ae2fe | false | KT00004 | Flu Year 1 Day 0 | N/A - Flu-Series Timepoint Only | ⋯ | NA | NA | 2019-10-21 | 2021-04-16 | 2021-05-06 | no | Negative | &lt;25-BMI   | B002-P1_PB00004-01_2023-11-17T21:36:51.794326181Z_labeled.h5 | /home/jupyter/BRI_Analysis/scRNA/cache/68fbcd34-1d63-461d-8195-df5b8dc61b31/B002-P1_PB00004-01_2023-11-17T21:36:51.794326181Z_labeled.h5 |\n",
       "| 5 | IL1B..CD14.monocyte.PB00006.01_Female_BR1 | PB00006-01 | 5 | 5 | 2023-11-19T05:07:36.805Z | eb5b3a3d-002e-40a6-aa19-aa0e6a7fff8f | false | KT00006 | Flu Year 1 Day 0 | N/A - Flu-Series Timepoint Only | ⋯ | NA | NA | 2019-10-23 | 2021-01-16 | 2021-02-26 | no | Negative | &lt;25-BMI   | B002-P1_PB00006-01_2023-11-17T21:36:51.794326181Z_labeled.h5 | /home/jupyter/BRI_Analysis/scRNA/cache/ea8d98e9-e99e-4dc6-9e78-9866e0deac68/B002-P1_PB00006-01_2023-11-17T21:36:51.794326181Z_labeled.h5 |\n",
       "| 6 | IL1B..CD14.monocyte.PB00010.02_Male_BR1   | PB00010-02 | 6 | 6 | 2023-11-18T02:03:08.347Z | f32ac061-0ede-4040-8d8c-35229ea5229c | false | KT00010 | Flu Year 1 Day 0 | N/A - Flu-Series Timepoint Only | ⋯ | NA | NA | 2019-10-28 | 2021-03-21 | 2021-04-18 | no | Negative | &gt;25-30BMI | B078-P2_PB00010-02_2021-08-19T17:09:29.934849811Z_labeled.h5 | /home/jupyter/BRI_Analysis/scRNA/cache/237e41df-5616-4852-8a8f-b32835c9efcb/B078-P2_PB00010-02_2021-08-19T17:09:29.934849811Z_labeled.h5 |\n",
       "\n"
      ],
      "text/plain": [
       "  ID                                        pbmc_sample_id X.1 X\n",
       "1 IL1B..CD14.monocyte.PB00001.01_Female_BR1 PB00001-01     1   1\n",
       "2 IL1B..CD14.monocyte.PB00002.01_Male_BR1   PB00002-01     2   2\n",
       "3 IL1B..CD14.monocyte.PB00003.01_Female_BR1 PB00003-01     3   3\n",
       "4 IL1B..CD14.monocyte.PB00004.01_Male_BR1   PB00004-01     4   4\n",
       "5 IL1B..CD14.monocyte.PB00006.01_Female_BR1 PB00006-01     5   5\n",
       "6 IL1B..CD14.monocyte.PB00010.02_Male_BR1   PB00010-02     6   6\n",
       "  lastUpdated              sample.id                           \n",
       "1 2023-11-18T02:03:08.347Z f499ff83-e513-4d24-a10f-151348269fff\n",
       "2 2023-11-18T02:03:08.347Z 750e90a9-a296-4f0f-969f-60225c2bca17\n",
       "3 2023-11-18T02:03:08.347Z 2db6fb3f-e3f4-454b-891b-9b068541b51d\n",
       "4 2023-11-19T10:34:34.12Z  f04693c5-563c-4b5b-ae58-877d0d9ae2fe\n",
       "5 2023-11-19T05:07:36.805Z eb5b3a3d-002e-40a6-aa19-aa0e6a7fff8f\n",
       "6 2023-11-18T02:03:08.347Z f32ac061-0ede-4040-8d8c-35229ea5229c\n",
       "  sample.bridgingControl sample.sampleKitGuid sample.visitName\n",
       "1 false                  KT00001              Flu Year 1 Day 0\n",
       "2 false                  KT00002              Flu Year 1 Day 0\n",
       "3 false                  KT00003              Flu Year 1 Day 0\n",
       "4 false                  KT00004              Flu Year 1 Day 0\n",
       "5 false                  KT00006              Flu Year 1 Day 0\n",
       "6 false                  KT00010              Flu Year 1 Day 0\n",
       "  sample.visitDetails             ⋯ sample.diseaseStatesRecordedAtVisit\n",
       "1 N/A - Flu-Series Timepoint Only ⋯ NA                                 \n",
       "2 N/A - Flu-Series Timepoint Only ⋯ NA                                 \n",
       "3 N/A - Flu-Series Timepoint Only ⋯ NA                                 \n",
       "4 N/A - Flu-Series Timepoint Only ⋯ NA                                 \n",
       "5 N/A - Flu-Series Timepoint Only ⋯ NA                                 \n",
       "6 N/A - Flu-Series Timepoint Only ⋯ NA                                 \n",
       "  Sample_ID Sample_Draw_date Covid_Dose_1 Covid_Dose_2 Covid_exlcusion\n",
       "1 NA        2019-10-15       NA           NA           no             \n",
       "2 NA        2019-10-15       2020-12-28   2021-01-18   no             \n",
       "3 NA        2019-10-15       2020-12-28   2021-01-16   no             \n",
       "4 NA        2019-10-21       2021-04-16   2021-05-06   no             \n",
       "5 NA        2019-10-23       2021-01-16   2021-02-26   no             \n",
       "6 NA        2019-10-28       2021-03-21   2021-04-18   no             \n",
       "  CMV.IgG.Serology.Result.Interpretation BMI      \n",
       "1 Negative                               <25-BMI  \n",
       "2 Negative                               <25-BMI  \n",
       "3 Negative                               <25-BMI  \n",
       "4 Negative                               <25-BMI  \n",
       "5 Negative                               <25-BMI  \n",
       "6 Negative                               >25-30BMI\n",
       "  file.name.downloaded                                        \n",
       "1 B001-P1_PB00001-01_labeled.h5                               \n",
       "2 B001-P1_PB00002-01_labeled.h5                               \n",
       "3 B001-P1_PB00003-01_labeled.h5                               \n",
       "4 B002-P1_PB00004-01_2023-11-17T21:36:51.794326181Z_labeled.h5\n",
       "5 B002-P1_PB00006-01_2023-11-17T21:36:51.794326181Z_labeled.h5\n",
       "6 B078-P2_PB00010-02_2021-08-19T17:09:29.934849811Z_labeled.h5\n",
       "  file.path                                                                                                                               \n",
       "1 /home/jupyter/BRI_Analysis/scRNA/cache/fec489f9-9a74-4635-aa91-d2bf09d1faec/B001-P1_PB00001-01_labeled.h5                               \n",
       "2 /home/jupyter/BRI_Analysis/scRNA/cache/7c0c7979-eebd-4aba-b5b2-6e76b4643623/B001-P1_PB00002-01_labeled.h5                               \n",
       "3 /home/jupyter/BRI_Analysis/scRNA/cache/40efd03a-cb2f-4677-af42-a056cbfe5a17/B001-P1_PB00003-01_labeled.h5                               \n",
       "4 /home/jupyter/BRI_Analysis/scRNA/cache/68fbcd34-1d63-461d-8195-df5b8dc61b31/B002-P1_PB00004-01_2023-11-17T21:36:51.794326181Z_labeled.h5\n",
       "5 /home/jupyter/BRI_Analysis/scRNA/cache/ea8d98e9-e99e-4dc6-9e78-9866e0deac68/B002-P1_PB00006-01_2023-11-17T21:36:51.794326181Z_labeled.h5\n",
       "6 /home/jupyter/BRI_Analysis/scRNA/cache/237e41df-5616-4852-8a8f-b32835c9efcb/B078-P2_PB00010-02_2021-08-19T17:09:29.934849811Z_labeled.h5"
      ]
     },
     "metadata": {},
     "output_type": "display_data"
    }
   ],
   "source": [
    "# Left join the dataframes by the common column\n",
    "merged_df <- left_join(meta, meta_data, by = \"pbmc_sample_id\")\n",
    "head(merged_df)"
   ]
  },
  {
   "cell_type": "code",
   "execution_count": 66,
   "id": "08e0c709-6325-48b5-9cf7-ab0140a20a49",
   "metadata": {
    "tags": []
   },
   "outputs": [
    {
     "data": {
      "text/html": [
       "<table class=\"dataframe\">\n",
       "<caption>A data.frame: 6 × 37</caption>\n",
       "<thead>\n",
       "\t<tr><th></th><th scope=col>ID</th><th scope=col>pbmc_sample_id</th><th scope=col>X.1</th><th scope=col>X</th><th scope=col>lastUpdated</th><th scope=col>sample.id</th><th scope=col>sample.bridgingControl</th><th scope=col>sample.sampleKitGuid</th><th scope=col>sample.visitName</th><th scope=col>sample.visitDetails</th><th scope=col>⋯</th><th scope=col>sample.diseaseStatesRecordedAtVisit</th><th scope=col>Sample_ID</th><th scope=col>Sample_Draw_date</th><th scope=col>Covid_Dose_1</th><th scope=col>Covid_Dose_2</th><th scope=col>Covid_exlcusion</th><th scope=col>CMV.IgG.Serology.Result.Interpretation</th><th scope=col>BMI</th><th scope=col>file.name.downloaded</th><th scope=col>file.path</th></tr>\n",
       "\t<tr><th></th><th scope=col>&lt;chr&gt;</th><th scope=col>&lt;chr&gt;</th><th scope=col>&lt;int&gt;</th><th scope=col>&lt;int&gt;</th><th scope=col>&lt;chr&gt;</th><th scope=col>&lt;chr&gt;</th><th scope=col>&lt;chr&gt;</th><th scope=col>&lt;chr&gt;</th><th scope=col>&lt;chr&gt;</th><th scope=col>&lt;chr&gt;</th><th scope=col>⋯</th><th scope=col>&lt;lgl&gt;</th><th scope=col>&lt;lgl&gt;</th><th scope=col>&lt;chr&gt;</th><th scope=col>&lt;chr&gt;</th><th scope=col>&lt;chr&gt;</th><th scope=col>&lt;chr&gt;</th><th scope=col>&lt;chr&gt;</th><th scope=col>&lt;chr&gt;</th><th scope=col>&lt;chr&gt;</th><th scope=col>&lt;chr&gt;</th></tr>\n",
       "</thead>\n",
       "<tbody>\n",
       "\t<tr><th scope=row>IL1B..CD14.monocyte.PB00001.01_Female_BR1</th><td>IL1B..CD14.monocyte.PB00001.01_Female_BR1</td><td>PB00001-01</td><td>1</td><td>1</td><td>2023-11-18T02:03:08.347Z</td><td>f499ff83-e513-4d24-a10f-151348269fff</td><td>false</td><td>KT00001</td><td>Flu Year 1 Day 0</td><td>N/A - Flu-Series Timepoint Only</td><td>⋯</td><td>NA</td><td>NA</td><td>2019-10-15</td><td><span style=white-space:pre-wrap>NA        </span></td><td><span style=white-space:pre-wrap>NA        </span></td><td>no</td><td>Negative</td><td><span style=white-space:pre-wrap>&lt;25-BMI  </span></td><td><span style=white-space:pre-wrap>B001-P1_PB00001-01_labeled.h5                               </span></td><td><span style=white-space:pre-wrap>/home/jupyter/BRI_Analysis/scRNA/cache/fec489f9-9a74-4635-aa91-d2bf09d1faec/B001-P1_PB00001-01_labeled.h5                               </span></td></tr>\n",
       "\t<tr><th scope=row>IL1B..CD14.monocyte.PB00002.01_Male_BR1</th><td><span style=white-space:pre-wrap>IL1B..CD14.monocyte.PB00002.01_Male_BR1  </span></td><td>PB00002-01</td><td>2</td><td>2</td><td>2023-11-18T02:03:08.347Z</td><td>750e90a9-a296-4f0f-969f-60225c2bca17</td><td>false</td><td>KT00002</td><td>Flu Year 1 Day 0</td><td>N/A - Flu-Series Timepoint Only</td><td>⋯</td><td>NA</td><td>NA</td><td>2019-10-15</td><td>2020-12-28</td><td>2021-01-18</td><td>no</td><td>Negative</td><td><span style=white-space:pre-wrap>&lt;25-BMI  </span></td><td><span style=white-space:pre-wrap>B001-P1_PB00002-01_labeled.h5                               </span></td><td><span style=white-space:pre-wrap>/home/jupyter/BRI_Analysis/scRNA/cache/7c0c7979-eebd-4aba-b5b2-6e76b4643623/B001-P1_PB00002-01_labeled.h5                               </span></td></tr>\n",
       "\t<tr><th scope=row>IL1B..CD14.monocyte.PB00003.01_Female_BR1</th><td>IL1B..CD14.monocyte.PB00003.01_Female_BR1</td><td>PB00003-01</td><td>3</td><td>3</td><td>2023-11-18T02:03:08.347Z</td><td>2db6fb3f-e3f4-454b-891b-9b068541b51d</td><td>false</td><td>KT00003</td><td>Flu Year 1 Day 0</td><td>N/A - Flu-Series Timepoint Only</td><td>⋯</td><td>NA</td><td>NA</td><td>2019-10-15</td><td>2020-12-28</td><td>2021-01-16</td><td>no</td><td>Negative</td><td><span style=white-space:pre-wrap>&lt;25-BMI  </span></td><td><span style=white-space:pre-wrap>B001-P1_PB00003-01_labeled.h5                               </span></td><td><span style=white-space:pre-wrap>/home/jupyter/BRI_Analysis/scRNA/cache/40efd03a-cb2f-4677-af42-a056cbfe5a17/B001-P1_PB00003-01_labeled.h5                               </span></td></tr>\n",
       "\t<tr><th scope=row>IL1B..CD14.monocyte.PB00004.01_Male_BR1</th><td><span style=white-space:pre-wrap>IL1B..CD14.monocyte.PB00004.01_Male_BR1  </span></td><td>PB00004-01</td><td>4</td><td>4</td><td>2023-11-19T10:34:34.12Z </td><td>f04693c5-563c-4b5b-ae58-877d0d9ae2fe</td><td>false</td><td>KT00004</td><td>Flu Year 1 Day 0</td><td>N/A - Flu-Series Timepoint Only</td><td>⋯</td><td>NA</td><td>NA</td><td>2019-10-21</td><td>2021-04-16</td><td>2021-05-06</td><td>no</td><td>Negative</td><td><span style=white-space:pre-wrap>&lt;25-BMI  </span></td><td>B002-P1_PB00004-01_2023-11-17T21:36:51.794326181Z_labeled.h5</td><td>/home/jupyter/BRI_Analysis/scRNA/cache/68fbcd34-1d63-461d-8195-df5b8dc61b31/B002-P1_PB00004-01_2023-11-17T21:36:51.794326181Z_labeled.h5</td></tr>\n",
       "\t<tr><th scope=row>IL1B..CD14.monocyte.PB00006.01_Female_BR1</th><td>IL1B..CD14.monocyte.PB00006.01_Female_BR1</td><td>PB00006-01</td><td>5</td><td>5</td><td>2023-11-19T05:07:36.805Z</td><td>eb5b3a3d-002e-40a6-aa19-aa0e6a7fff8f</td><td>false</td><td>KT00006</td><td>Flu Year 1 Day 0</td><td>N/A - Flu-Series Timepoint Only</td><td>⋯</td><td>NA</td><td>NA</td><td>2019-10-23</td><td>2021-01-16</td><td>2021-02-26</td><td>no</td><td>Negative</td><td><span style=white-space:pre-wrap>&lt;25-BMI  </span></td><td>B002-P1_PB00006-01_2023-11-17T21:36:51.794326181Z_labeled.h5</td><td>/home/jupyter/BRI_Analysis/scRNA/cache/ea8d98e9-e99e-4dc6-9e78-9866e0deac68/B002-P1_PB00006-01_2023-11-17T21:36:51.794326181Z_labeled.h5</td></tr>\n",
       "\t<tr><th scope=row>IL1B..CD14.monocyte.PB00010.02_Male_BR1</th><td><span style=white-space:pre-wrap>IL1B..CD14.monocyte.PB00010.02_Male_BR1  </span></td><td>PB00010-02</td><td>6</td><td>6</td><td>2023-11-18T02:03:08.347Z</td><td>f32ac061-0ede-4040-8d8c-35229ea5229c</td><td>false</td><td>KT00010</td><td>Flu Year 1 Day 0</td><td>N/A - Flu-Series Timepoint Only</td><td>⋯</td><td>NA</td><td>NA</td><td>2019-10-28</td><td>2021-03-21</td><td>2021-04-18</td><td>no</td><td>Negative</td><td>&gt;25-30BMI</td><td>B078-P2_PB00010-02_2021-08-19T17:09:29.934849811Z_labeled.h5</td><td>/home/jupyter/BRI_Analysis/scRNA/cache/237e41df-5616-4852-8a8f-b32835c9efcb/B078-P2_PB00010-02_2021-08-19T17:09:29.934849811Z_labeled.h5</td></tr>\n",
       "</tbody>\n",
       "</table>\n"
      ],
      "text/latex": [
       "A data.frame: 6 × 37\n",
       "\\begin{tabular}{r|lllllllllllllllllllll}\n",
       "  & ID & pbmc\\_sample\\_id & X.1 & X & lastUpdated & sample.id & sample.bridgingControl & sample.sampleKitGuid & sample.visitName & sample.visitDetails & ⋯ & sample.diseaseStatesRecordedAtVisit & Sample\\_ID & Sample\\_Draw\\_date & Covid\\_Dose\\_1 & Covid\\_Dose\\_2 & Covid\\_exlcusion & CMV.IgG.Serology.Result.Interpretation & BMI & file.name.downloaded & file.path\\\\\n",
       "  & <chr> & <chr> & <int> & <int> & <chr> & <chr> & <chr> & <chr> & <chr> & <chr> & ⋯ & <lgl> & <lgl> & <chr> & <chr> & <chr> & <chr> & <chr> & <chr> & <chr> & <chr>\\\\\n",
       "\\hline\n",
       "\tIL1B..CD14.monocyte.PB00001.01\\_Female\\_BR1 & IL1B..CD14.monocyte.PB00001.01\\_Female\\_BR1 & PB00001-01 & 1 & 1 & 2023-11-18T02:03:08.347Z & f499ff83-e513-4d24-a10f-151348269fff & false & KT00001 & Flu Year 1 Day 0 & N/A - Flu-Series Timepoint Only & ⋯ & NA & NA & 2019-10-15 & NA         & NA         & no & Negative & <25-BMI   & B001-P1\\_PB00001-01\\_labeled.h5                                & /home/jupyter/BRI\\_Analysis/scRNA/cache/fec489f9-9a74-4635-aa91-d2bf09d1faec/B001-P1\\_PB00001-01\\_labeled.h5                               \\\\\n",
       "\tIL1B..CD14.monocyte.PB00002.01\\_Male\\_BR1 & IL1B..CD14.monocyte.PB00002.01\\_Male\\_BR1   & PB00002-01 & 2 & 2 & 2023-11-18T02:03:08.347Z & 750e90a9-a296-4f0f-969f-60225c2bca17 & false & KT00002 & Flu Year 1 Day 0 & N/A - Flu-Series Timepoint Only & ⋯ & NA & NA & 2019-10-15 & 2020-12-28 & 2021-01-18 & no & Negative & <25-BMI   & B001-P1\\_PB00002-01\\_labeled.h5                                & /home/jupyter/BRI\\_Analysis/scRNA/cache/7c0c7979-eebd-4aba-b5b2-6e76b4643623/B001-P1\\_PB00002-01\\_labeled.h5                               \\\\\n",
       "\tIL1B..CD14.monocyte.PB00003.01\\_Female\\_BR1 & IL1B..CD14.monocyte.PB00003.01\\_Female\\_BR1 & PB00003-01 & 3 & 3 & 2023-11-18T02:03:08.347Z & 2db6fb3f-e3f4-454b-891b-9b068541b51d & false & KT00003 & Flu Year 1 Day 0 & N/A - Flu-Series Timepoint Only & ⋯ & NA & NA & 2019-10-15 & 2020-12-28 & 2021-01-16 & no & Negative & <25-BMI   & B001-P1\\_PB00003-01\\_labeled.h5                                & /home/jupyter/BRI\\_Analysis/scRNA/cache/40efd03a-cb2f-4677-af42-a056cbfe5a17/B001-P1\\_PB00003-01\\_labeled.h5                               \\\\\n",
       "\tIL1B..CD14.monocyte.PB00004.01\\_Male\\_BR1 & IL1B..CD14.monocyte.PB00004.01\\_Male\\_BR1   & PB00004-01 & 4 & 4 & 2023-11-19T10:34:34.12Z  & f04693c5-563c-4b5b-ae58-877d0d9ae2fe & false & KT00004 & Flu Year 1 Day 0 & N/A - Flu-Series Timepoint Only & ⋯ & NA & NA & 2019-10-21 & 2021-04-16 & 2021-05-06 & no & Negative & <25-BMI   & B002-P1\\_PB00004-01\\_2023-11-17T21:36:51.794326181Z\\_labeled.h5 & /home/jupyter/BRI\\_Analysis/scRNA/cache/68fbcd34-1d63-461d-8195-df5b8dc61b31/B002-P1\\_PB00004-01\\_2023-11-17T21:36:51.794326181Z\\_labeled.h5\\\\\n",
       "\tIL1B..CD14.monocyte.PB00006.01\\_Female\\_BR1 & IL1B..CD14.monocyte.PB00006.01\\_Female\\_BR1 & PB00006-01 & 5 & 5 & 2023-11-19T05:07:36.805Z & eb5b3a3d-002e-40a6-aa19-aa0e6a7fff8f & false & KT00006 & Flu Year 1 Day 0 & N/A - Flu-Series Timepoint Only & ⋯ & NA & NA & 2019-10-23 & 2021-01-16 & 2021-02-26 & no & Negative & <25-BMI   & B002-P1\\_PB00006-01\\_2023-11-17T21:36:51.794326181Z\\_labeled.h5 & /home/jupyter/BRI\\_Analysis/scRNA/cache/ea8d98e9-e99e-4dc6-9e78-9866e0deac68/B002-P1\\_PB00006-01\\_2023-11-17T21:36:51.794326181Z\\_labeled.h5\\\\\n",
       "\tIL1B..CD14.monocyte.PB00010.02\\_Male\\_BR1 & IL1B..CD14.monocyte.PB00010.02\\_Male\\_BR1   & PB00010-02 & 6 & 6 & 2023-11-18T02:03:08.347Z & f32ac061-0ede-4040-8d8c-35229ea5229c & false & KT00010 & Flu Year 1 Day 0 & N/A - Flu-Series Timepoint Only & ⋯ & NA & NA & 2019-10-28 & 2021-03-21 & 2021-04-18 & no & Negative & >25-30BMI & B078-P2\\_PB00010-02\\_2021-08-19T17:09:29.934849811Z\\_labeled.h5 & /home/jupyter/BRI\\_Analysis/scRNA/cache/237e41df-5616-4852-8a8f-b32835c9efcb/B078-P2\\_PB00010-02\\_2021-08-19T17:09:29.934849811Z\\_labeled.h5\\\\\n",
       "\\end{tabular}\n"
      ],
      "text/markdown": [
       "\n",
       "A data.frame: 6 × 37\n",
       "\n",
       "| <!--/--> | ID &lt;chr&gt; | pbmc_sample_id &lt;chr&gt; | X.1 &lt;int&gt; | X &lt;int&gt; | lastUpdated &lt;chr&gt; | sample.id &lt;chr&gt; | sample.bridgingControl &lt;chr&gt; | sample.sampleKitGuid &lt;chr&gt; | sample.visitName &lt;chr&gt; | sample.visitDetails &lt;chr&gt; | ⋯ ⋯ | sample.diseaseStatesRecordedAtVisit &lt;lgl&gt; | Sample_ID &lt;lgl&gt; | Sample_Draw_date &lt;chr&gt; | Covid_Dose_1 &lt;chr&gt; | Covid_Dose_2 &lt;chr&gt; | Covid_exlcusion &lt;chr&gt; | CMV.IgG.Serology.Result.Interpretation &lt;chr&gt; | BMI &lt;chr&gt; | file.name.downloaded &lt;chr&gt; | file.path &lt;chr&gt; |\n",
       "|---|---|---|---|---|---|---|---|---|---|---|---|---|---|---|---|---|---|---|---|---|---|\n",
       "| IL1B..CD14.monocyte.PB00001.01_Female_BR1 | IL1B..CD14.monocyte.PB00001.01_Female_BR1 | PB00001-01 | 1 | 1 | 2023-11-18T02:03:08.347Z | f499ff83-e513-4d24-a10f-151348269fff | false | KT00001 | Flu Year 1 Day 0 | N/A - Flu-Series Timepoint Only | ⋯ | NA | NA | 2019-10-15 | NA         | NA         | no | Negative | &lt;25-BMI   | B001-P1_PB00001-01_labeled.h5                                | /home/jupyter/BRI_Analysis/scRNA/cache/fec489f9-9a74-4635-aa91-d2bf09d1faec/B001-P1_PB00001-01_labeled.h5                                |\n",
       "| IL1B..CD14.monocyte.PB00002.01_Male_BR1 | IL1B..CD14.monocyte.PB00002.01_Male_BR1   | PB00002-01 | 2 | 2 | 2023-11-18T02:03:08.347Z | 750e90a9-a296-4f0f-969f-60225c2bca17 | false | KT00002 | Flu Year 1 Day 0 | N/A - Flu-Series Timepoint Only | ⋯ | NA | NA | 2019-10-15 | 2020-12-28 | 2021-01-18 | no | Negative | &lt;25-BMI   | B001-P1_PB00002-01_labeled.h5                                | /home/jupyter/BRI_Analysis/scRNA/cache/7c0c7979-eebd-4aba-b5b2-6e76b4643623/B001-P1_PB00002-01_labeled.h5                                |\n",
       "| IL1B..CD14.monocyte.PB00003.01_Female_BR1 | IL1B..CD14.monocyte.PB00003.01_Female_BR1 | PB00003-01 | 3 | 3 | 2023-11-18T02:03:08.347Z | 2db6fb3f-e3f4-454b-891b-9b068541b51d | false | KT00003 | Flu Year 1 Day 0 | N/A - Flu-Series Timepoint Only | ⋯ | NA | NA | 2019-10-15 | 2020-12-28 | 2021-01-16 | no | Negative | &lt;25-BMI   | B001-P1_PB00003-01_labeled.h5                                | /home/jupyter/BRI_Analysis/scRNA/cache/40efd03a-cb2f-4677-af42-a056cbfe5a17/B001-P1_PB00003-01_labeled.h5                                |\n",
       "| IL1B..CD14.monocyte.PB00004.01_Male_BR1 | IL1B..CD14.monocyte.PB00004.01_Male_BR1   | PB00004-01 | 4 | 4 | 2023-11-19T10:34:34.12Z  | f04693c5-563c-4b5b-ae58-877d0d9ae2fe | false | KT00004 | Flu Year 1 Day 0 | N/A - Flu-Series Timepoint Only | ⋯ | NA | NA | 2019-10-21 | 2021-04-16 | 2021-05-06 | no | Negative | &lt;25-BMI   | B002-P1_PB00004-01_2023-11-17T21:36:51.794326181Z_labeled.h5 | /home/jupyter/BRI_Analysis/scRNA/cache/68fbcd34-1d63-461d-8195-df5b8dc61b31/B002-P1_PB00004-01_2023-11-17T21:36:51.794326181Z_labeled.h5 |\n",
       "| IL1B..CD14.monocyte.PB00006.01_Female_BR1 | IL1B..CD14.monocyte.PB00006.01_Female_BR1 | PB00006-01 | 5 | 5 | 2023-11-19T05:07:36.805Z | eb5b3a3d-002e-40a6-aa19-aa0e6a7fff8f | false | KT00006 | Flu Year 1 Day 0 | N/A - Flu-Series Timepoint Only | ⋯ | NA | NA | 2019-10-23 | 2021-01-16 | 2021-02-26 | no | Negative | &lt;25-BMI   | B002-P1_PB00006-01_2023-11-17T21:36:51.794326181Z_labeled.h5 | /home/jupyter/BRI_Analysis/scRNA/cache/ea8d98e9-e99e-4dc6-9e78-9866e0deac68/B002-P1_PB00006-01_2023-11-17T21:36:51.794326181Z_labeled.h5 |\n",
       "| IL1B..CD14.monocyte.PB00010.02_Male_BR1 | IL1B..CD14.monocyte.PB00010.02_Male_BR1   | PB00010-02 | 6 | 6 | 2023-11-18T02:03:08.347Z | f32ac061-0ede-4040-8d8c-35229ea5229c | false | KT00010 | Flu Year 1 Day 0 | N/A - Flu-Series Timepoint Only | ⋯ | NA | NA | 2019-10-28 | 2021-03-21 | 2021-04-18 | no | Negative | &gt;25-30BMI | B078-P2_PB00010-02_2021-08-19T17:09:29.934849811Z_labeled.h5 | /home/jupyter/BRI_Analysis/scRNA/cache/237e41df-5616-4852-8a8f-b32835c9efcb/B078-P2_PB00010-02_2021-08-19T17:09:29.934849811Z_labeled.h5 |\n",
       "\n"
      ],
      "text/plain": [
       "                                          ID                                       \n",
       "IL1B..CD14.monocyte.PB00001.01_Female_BR1 IL1B..CD14.monocyte.PB00001.01_Female_BR1\n",
       "IL1B..CD14.monocyte.PB00002.01_Male_BR1   IL1B..CD14.monocyte.PB00002.01_Male_BR1  \n",
       "IL1B..CD14.monocyte.PB00003.01_Female_BR1 IL1B..CD14.monocyte.PB00003.01_Female_BR1\n",
       "IL1B..CD14.monocyte.PB00004.01_Male_BR1   IL1B..CD14.monocyte.PB00004.01_Male_BR1  \n",
       "IL1B..CD14.monocyte.PB00006.01_Female_BR1 IL1B..CD14.monocyte.PB00006.01_Female_BR1\n",
       "IL1B..CD14.monocyte.PB00010.02_Male_BR1   IL1B..CD14.monocyte.PB00010.02_Male_BR1  \n",
       "                                          pbmc_sample_id X.1 X\n",
       "IL1B..CD14.monocyte.PB00001.01_Female_BR1 PB00001-01     1   1\n",
       "IL1B..CD14.monocyte.PB00002.01_Male_BR1   PB00002-01     2   2\n",
       "IL1B..CD14.monocyte.PB00003.01_Female_BR1 PB00003-01     3   3\n",
       "IL1B..CD14.monocyte.PB00004.01_Male_BR1   PB00004-01     4   4\n",
       "IL1B..CD14.monocyte.PB00006.01_Female_BR1 PB00006-01     5   5\n",
       "IL1B..CD14.monocyte.PB00010.02_Male_BR1   PB00010-02     6   6\n",
       "                                          lastUpdated             \n",
       "IL1B..CD14.monocyte.PB00001.01_Female_BR1 2023-11-18T02:03:08.347Z\n",
       "IL1B..CD14.monocyte.PB00002.01_Male_BR1   2023-11-18T02:03:08.347Z\n",
       "IL1B..CD14.monocyte.PB00003.01_Female_BR1 2023-11-18T02:03:08.347Z\n",
       "IL1B..CD14.monocyte.PB00004.01_Male_BR1   2023-11-19T10:34:34.12Z \n",
       "IL1B..CD14.monocyte.PB00006.01_Female_BR1 2023-11-19T05:07:36.805Z\n",
       "IL1B..CD14.monocyte.PB00010.02_Male_BR1   2023-11-18T02:03:08.347Z\n",
       "                                          sample.id                           \n",
       "IL1B..CD14.monocyte.PB00001.01_Female_BR1 f499ff83-e513-4d24-a10f-151348269fff\n",
       "IL1B..CD14.monocyte.PB00002.01_Male_BR1   750e90a9-a296-4f0f-969f-60225c2bca17\n",
       "IL1B..CD14.monocyte.PB00003.01_Female_BR1 2db6fb3f-e3f4-454b-891b-9b068541b51d\n",
       "IL1B..CD14.monocyte.PB00004.01_Male_BR1   f04693c5-563c-4b5b-ae58-877d0d9ae2fe\n",
       "IL1B..CD14.monocyte.PB00006.01_Female_BR1 eb5b3a3d-002e-40a6-aa19-aa0e6a7fff8f\n",
       "IL1B..CD14.monocyte.PB00010.02_Male_BR1   f32ac061-0ede-4040-8d8c-35229ea5229c\n",
       "                                          sample.bridgingControl\n",
       "IL1B..CD14.monocyte.PB00001.01_Female_BR1 false                 \n",
       "IL1B..CD14.monocyte.PB00002.01_Male_BR1   false                 \n",
       "IL1B..CD14.monocyte.PB00003.01_Female_BR1 false                 \n",
       "IL1B..CD14.monocyte.PB00004.01_Male_BR1   false                 \n",
       "IL1B..CD14.monocyte.PB00006.01_Female_BR1 false                 \n",
       "IL1B..CD14.monocyte.PB00010.02_Male_BR1   false                 \n",
       "                                          sample.sampleKitGuid sample.visitName\n",
       "IL1B..CD14.monocyte.PB00001.01_Female_BR1 KT00001              Flu Year 1 Day 0\n",
       "IL1B..CD14.monocyte.PB00002.01_Male_BR1   KT00002              Flu Year 1 Day 0\n",
       "IL1B..CD14.monocyte.PB00003.01_Female_BR1 KT00003              Flu Year 1 Day 0\n",
       "IL1B..CD14.monocyte.PB00004.01_Male_BR1   KT00004              Flu Year 1 Day 0\n",
       "IL1B..CD14.monocyte.PB00006.01_Female_BR1 KT00006              Flu Year 1 Day 0\n",
       "IL1B..CD14.monocyte.PB00010.02_Male_BR1   KT00010              Flu Year 1 Day 0\n",
       "                                          sample.visitDetails             ⋯\n",
       "IL1B..CD14.monocyte.PB00001.01_Female_BR1 N/A - Flu-Series Timepoint Only ⋯\n",
       "IL1B..CD14.monocyte.PB00002.01_Male_BR1   N/A - Flu-Series Timepoint Only ⋯\n",
       "IL1B..CD14.monocyte.PB00003.01_Female_BR1 N/A - Flu-Series Timepoint Only ⋯\n",
       "IL1B..CD14.monocyte.PB00004.01_Male_BR1   N/A - Flu-Series Timepoint Only ⋯\n",
       "IL1B..CD14.monocyte.PB00006.01_Female_BR1 N/A - Flu-Series Timepoint Only ⋯\n",
       "IL1B..CD14.monocyte.PB00010.02_Male_BR1   N/A - Flu-Series Timepoint Only ⋯\n",
       "                                          sample.diseaseStatesRecordedAtVisit\n",
       "IL1B..CD14.monocyte.PB00001.01_Female_BR1 NA                                 \n",
       "IL1B..CD14.monocyte.PB00002.01_Male_BR1   NA                                 \n",
       "IL1B..CD14.monocyte.PB00003.01_Female_BR1 NA                                 \n",
       "IL1B..CD14.monocyte.PB00004.01_Male_BR1   NA                                 \n",
       "IL1B..CD14.monocyte.PB00006.01_Female_BR1 NA                                 \n",
       "IL1B..CD14.monocyte.PB00010.02_Male_BR1   NA                                 \n",
       "                                          Sample_ID Sample_Draw_date\n",
       "IL1B..CD14.monocyte.PB00001.01_Female_BR1 NA        2019-10-15      \n",
       "IL1B..CD14.monocyte.PB00002.01_Male_BR1   NA        2019-10-15      \n",
       "IL1B..CD14.monocyte.PB00003.01_Female_BR1 NA        2019-10-15      \n",
       "IL1B..CD14.monocyte.PB00004.01_Male_BR1   NA        2019-10-21      \n",
       "IL1B..CD14.monocyte.PB00006.01_Female_BR1 NA        2019-10-23      \n",
       "IL1B..CD14.monocyte.PB00010.02_Male_BR1   NA        2019-10-28      \n",
       "                                          Covid_Dose_1 Covid_Dose_2\n",
       "IL1B..CD14.monocyte.PB00001.01_Female_BR1 NA           NA          \n",
       "IL1B..CD14.monocyte.PB00002.01_Male_BR1   2020-12-28   2021-01-18  \n",
       "IL1B..CD14.monocyte.PB00003.01_Female_BR1 2020-12-28   2021-01-16  \n",
       "IL1B..CD14.monocyte.PB00004.01_Male_BR1   2021-04-16   2021-05-06  \n",
       "IL1B..CD14.monocyte.PB00006.01_Female_BR1 2021-01-16   2021-02-26  \n",
       "IL1B..CD14.monocyte.PB00010.02_Male_BR1   2021-03-21   2021-04-18  \n",
       "                                          Covid_exlcusion\n",
       "IL1B..CD14.monocyte.PB00001.01_Female_BR1 no             \n",
       "IL1B..CD14.monocyte.PB00002.01_Male_BR1   no             \n",
       "IL1B..CD14.monocyte.PB00003.01_Female_BR1 no             \n",
       "IL1B..CD14.monocyte.PB00004.01_Male_BR1   no             \n",
       "IL1B..CD14.monocyte.PB00006.01_Female_BR1 no             \n",
       "IL1B..CD14.monocyte.PB00010.02_Male_BR1   no             \n",
       "                                          CMV.IgG.Serology.Result.Interpretation\n",
       "IL1B..CD14.monocyte.PB00001.01_Female_BR1 Negative                              \n",
       "IL1B..CD14.monocyte.PB00002.01_Male_BR1   Negative                              \n",
       "IL1B..CD14.monocyte.PB00003.01_Female_BR1 Negative                              \n",
       "IL1B..CD14.monocyte.PB00004.01_Male_BR1   Negative                              \n",
       "IL1B..CD14.monocyte.PB00006.01_Female_BR1 Negative                              \n",
       "IL1B..CD14.monocyte.PB00010.02_Male_BR1   Negative                              \n",
       "                                          BMI      \n",
       "IL1B..CD14.monocyte.PB00001.01_Female_BR1 <25-BMI  \n",
       "IL1B..CD14.monocyte.PB00002.01_Male_BR1   <25-BMI  \n",
       "IL1B..CD14.monocyte.PB00003.01_Female_BR1 <25-BMI  \n",
       "IL1B..CD14.monocyte.PB00004.01_Male_BR1   <25-BMI  \n",
       "IL1B..CD14.monocyte.PB00006.01_Female_BR1 <25-BMI  \n",
       "IL1B..CD14.monocyte.PB00010.02_Male_BR1   >25-30BMI\n",
       "                                          file.name.downloaded                                        \n",
       "IL1B..CD14.monocyte.PB00001.01_Female_BR1 B001-P1_PB00001-01_labeled.h5                               \n",
       "IL1B..CD14.monocyte.PB00002.01_Male_BR1   B001-P1_PB00002-01_labeled.h5                               \n",
       "IL1B..CD14.monocyte.PB00003.01_Female_BR1 B001-P1_PB00003-01_labeled.h5                               \n",
       "IL1B..CD14.monocyte.PB00004.01_Male_BR1   B002-P1_PB00004-01_2023-11-17T21:36:51.794326181Z_labeled.h5\n",
       "IL1B..CD14.monocyte.PB00006.01_Female_BR1 B002-P1_PB00006-01_2023-11-17T21:36:51.794326181Z_labeled.h5\n",
       "IL1B..CD14.monocyte.PB00010.02_Male_BR1   B078-P2_PB00010-02_2021-08-19T17:09:29.934849811Z_labeled.h5\n",
       "                                          file.path                                                                                                                               \n",
       "IL1B..CD14.monocyte.PB00001.01_Female_BR1 /home/jupyter/BRI_Analysis/scRNA/cache/fec489f9-9a74-4635-aa91-d2bf09d1faec/B001-P1_PB00001-01_labeled.h5                               \n",
       "IL1B..CD14.monocyte.PB00002.01_Male_BR1   /home/jupyter/BRI_Analysis/scRNA/cache/7c0c7979-eebd-4aba-b5b2-6e76b4643623/B001-P1_PB00002-01_labeled.h5                               \n",
       "IL1B..CD14.monocyte.PB00003.01_Female_BR1 /home/jupyter/BRI_Analysis/scRNA/cache/40efd03a-cb2f-4677-af42-a056cbfe5a17/B001-P1_PB00003-01_labeled.h5                               \n",
       "IL1B..CD14.monocyte.PB00004.01_Male_BR1   /home/jupyter/BRI_Analysis/scRNA/cache/68fbcd34-1d63-461d-8195-df5b8dc61b31/B002-P1_PB00004-01_2023-11-17T21:36:51.794326181Z_labeled.h5\n",
       "IL1B..CD14.monocyte.PB00006.01_Female_BR1 /home/jupyter/BRI_Analysis/scRNA/cache/ea8d98e9-e99e-4dc6-9e78-9866e0deac68/B002-P1_PB00006-01_2023-11-17T21:36:51.794326181Z_labeled.h5\n",
       "IL1B..CD14.monocyte.PB00010.02_Male_BR1   /home/jupyter/BRI_Analysis/scRNA/cache/237e41df-5616-4852-8a8f-b32835c9efcb/B078-P2_PB00010-02_2021-08-19T17:09:29.934849811Z_labeled.h5"
      ]
     },
     "metadata": {},
     "output_type": "display_data"
    },
    {
     "data": {
      "text/html": [
       "<style>\n",
       ".list-inline {list-style: none; margin:0; padding: 0}\n",
       ".list-inline>li {display: inline-block}\n",
       ".list-inline>li:not(:last-child)::after {content: \"\\00b7\"; padding: 0 .5ex}\n",
       "</style>\n",
       "<ol class=list-inline><li>'ID'</li><li>'pbmc_sample_id'</li><li>'X.1'</li><li>'X'</li><li>'lastUpdated'</li><li>'sample.id'</li><li>'sample.bridgingControl'</li><li>'sample.sampleKitGuid'</li><li>'sample.visitName'</li><li>'sample.visitDetails'</li><li>'sample.drawDate'</li><li>'sample.daysSinceFirstVisit'</li><li>'file.id'</li><li>'file.name'</li><li>'file.batchID'</li><li>'file.panel'</li><li>'file.pool'</li><li>'file.fileType'</li><li>'file.majorVersion'</li><li>'subject.id'</li><li>'subject.biologicalSex'</li><li>'subject.birthYear'</li><li>'subject.ethnicity'</li><li>'subject.partnerCode'</li><li>'subject.race'</li><li>'subject.subjectGuid'</li><li>'cohort.cohortGuid'</li><li>'sample.diseaseStatesRecordedAtVisit'</li><li>'Sample_ID'</li><li>'Sample_Draw_date'</li><li>'Covid_Dose_1'</li><li>'Covid_Dose_2'</li><li>'Covid_exlcusion'</li><li>'CMV.IgG.Serology.Result.Interpretation'</li><li>'BMI'</li><li>'file.name.downloaded'</li><li>'file.path'</li></ol>\n"
      ],
      "text/latex": [
       "\\begin{enumerate*}\n",
       "\\item 'ID'\n",
       "\\item 'pbmc\\_sample\\_id'\n",
       "\\item 'X.1'\n",
       "\\item 'X'\n",
       "\\item 'lastUpdated'\n",
       "\\item 'sample.id'\n",
       "\\item 'sample.bridgingControl'\n",
       "\\item 'sample.sampleKitGuid'\n",
       "\\item 'sample.visitName'\n",
       "\\item 'sample.visitDetails'\n",
       "\\item 'sample.drawDate'\n",
       "\\item 'sample.daysSinceFirstVisit'\n",
       "\\item 'file.id'\n",
       "\\item 'file.name'\n",
       "\\item 'file.batchID'\n",
       "\\item 'file.panel'\n",
       "\\item 'file.pool'\n",
       "\\item 'file.fileType'\n",
       "\\item 'file.majorVersion'\n",
       "\\item 'subject.id'\n",
       "\\item 'subject.biologicalSex'\n",
       "\\item 'subject.birthYear'\n",
       "\\item 'subject.ethnicity'\n",
       "\\item 'subject.partnerCode'\n",
       "\\item 'subject.race'\n",
       "\\item 'subject.subjectGuid'\n",
       "\\item 'cohort.cohortGuid'\n",
       "\\item 'sample.diseaseStatesRecordedAtVisit'\n",
       "\\item 'Sample\\_ID'\n",
       "\\item 'Sample\\_Draw\\_date'\n",
       "\\item 'Covid\\_Dose\\_1'\n",
       "\\item 'Covid\\_Dose\\_2'\n",
       "\\item 'Covid\\_exlcusion'\n",
       "\\item 'CMV.IgG.Serology.Result.Interpretation'\n",
       "\\item 'BMI'\n",
       "\\item 'file.name.downloaded'\n",
       "\\item 'file.path'\n",
       "\\end{enumerate*}\n"
      ],
      "text/markdown": [
       "1. 'ID'\n",
       "2. 'pbmc_sample_id'\n",
       "3. 'X.1'\n",
       "4. 'X'\n",
       "5. 'lastUpdated'\n",
       "6. 'sample.id'\n",
       "7. 'sample.bridgingControl'\n",
       "8. 'sample.sampleKitGuid'\n",
       "9. 'sample.visitName'\n",
       "10. 'sample.visitDetails'\n",
       "11. 'sample.drawDate'\n",
       "12. 'sample.daysSinceFirstVisit'\n",
       "13. 'file.id'\n",
       "14. 'file.name'\n",
       "15. 'file.batchID'\n",
       "16. 'file.panel'\n",
       "17. 'file.pool'\n",
       "18. 'file.fileType'\n",
       "19. 'file.majorVersion'\n",
       "20. 'subject.id'\n",
       "21. 'subject.biologicalSex'\n",
       "22. 'subject.birthYear'\n",
       "23. 'subject.ethnicity'\n",
       "24. 'subject.partnerCode'\n",
       "25. 'subject.race'\n",
       "26. 'subject.subjectGuid'\n",
       "27. 'cohort.cohortGuid'\n",
       "28. 'sample.diseaseStatesRecordedAtVisit'\n",
       "29. 'Sample_ID'\n",
       "30. 'Sample_Draw_date'\n",
       "31. 'Covid_Dose_1'\n",
       "32. 'Covid_Dose_2'\n",
       "33. 'Covid_exlcusion'\n",
       "34. 'CMV.IgG.Serology.Result.Interpretation'\n",
       "35. 'BMI'\n",
       "36. 'file.name.downloaded'\n",
       "37. 'file.path'\n",
       "\n",
       "\n"
      ],
      "text/plain": [
       " [1] \"ID\"                                    \n",
       " [2] \"pbmc_sample_id\"                        \n",
       " [3] \"X.1\"                                   \n",
       " [4] \"X\"                                     \n",
       " [5] \"lastUpdated\"                           \n",
       " [6] \"sample.id\"                             \n",
       " [7] \"sample.bridgingControl\"                \n",
       " [8] \"sample.sampleKitGuid\"                  \n",
       " [9] \"sample.visitName\"                      \n",
       "[10] \"sample.visitDetails\"                   \n",
       "[11] \"sample.drawDate\"                       \n",
       "[12] \"sample.daysSinceFirstVisit\"            \n",
       "[13] \"file.id\"                               \n",
       "[14] \"file.name\"                             \n",
       "[15] \"file.batchID\"                          \n",
       "[16] \"file.panel\"                            \n",
       "[17] \"file.pool\"                             \n",
       "[18] \"file.fileType\"                         \n",
       "[19] \"file.majorVersion\"                     \n",
       "[20] \"subject.id\"                            \n",
       "[21] \"subject.biologicalSex\"                 \n",
       "[22] \"subject.birthYear\"                     \n",
       "[23] \"subject.ethnicity\"                     \n",
       "[24] \"subject.partnerCode\"                   \n",
       "[25] \"subject.race\"                          \n",
       "[26] \"subject.subjectGuid\"                   \n",
       "[27] \"cohort.cohortGuid\"                     \n",
       "[28] \"sample.diseaseStatesRecordedAtVisit\"   \n",
       "[29] \"Sample_ID\"                             \n",
       "[30] \"Sample_Draw_date\"                      \n",
       "[31] \"Covid_Dose_1\"                          \n",
       "[32] \"Covid_Dose_2\"                          \n",
       "[33] \"Covid_exlcusion\"                       \n",
       "[34] \"CMV.IgG.Serology.Result.Interpretation\"\n",
       "[35] \"BMI\"                                   \n",
       "[36] \"file.name.downloaded\"                  \n",
       "[37] \"file.path\"                             "
      ]
     },
     "metadata": {},
     "output_type": "display_data"
    },
    {
     "data": {
      "text/html": [
       "92"
      ],
      "text/latex": [
       "92"
      ],
      "text/markdown": [
       "92"
      ],
      "text/plain": [
       "[1] 92"
      ]
     },
     "metadata": {},
     "output_type": "display_data"
    }
   ],
   "source": [
    "rownames(merged_df)<-merged_df$ID\n",
    "head(merged_df)\n",
    "\n",
    "colnames(merged_df)\n",
    "length(merged_df$pbmc_sample_id)"
   ]
  },
  {
   "cell_type": "code",
   "execution_count": 67,
   "id": "494ebd2a-a672-43d4-ba50-fea1e67520aa",
   "metadata": {
    "tags": []
   },
   "outputs": [],
   "source": [
    "merged_df <- merged_df[merged_df$subject.biologicalSex == \"Female\" & merged_df$cohort.cohortGuid == \"BR2\", ]"
   ]
  },
  {
   "cell_type": "code",
   "execution_count": 68,
   "id": "771e349b-0c7b-40f5-b8f0-3bc90b2962ad",
   "metadata": {
    "tags": []
   },
   "outputs": [
    {
     "data": {
      "text/html": [
       "'Female'"
      ],
      "text/latex": [
       "'Female'"
      ],
      "text/markdown": [
       "'Female'"
      ],
      "text/plain": [
       "[1] \"Female\""
      ]
     },
     "metadata": {},
     "output_type": "display_data"
    },
    {
     "data": {
      "text/html": [
       "'BR2'"
      ],
      "text/latex": [
       "'BR2'"
      ],
      "text/markdown": [
       "'BR2'"
      ],
      "text/plain": [
       "[1] \"BR2\""
      ]
     },
     "metadata": {},
     "output_type": "display_data"
    }
   ],
   "source": [
    "unique(merged_df$subject.biologicalSex)\n",
    "unique(merged_df$cohort.cohortGuid)"
   ]
  },
  {
   "cell_type": "code",
   "execution_count": 69,
   "id": "23a17f93-a4f8-4eda-8acd-fcc67b4f14e2",
   "metadata": {
    "tags": []
   },
   "outputs": [
    {
     "data": {
      "text/html": [
       "'BR2'"
      ],
      "text/latex": [
       "'BR2'"
      ],
      "text/markdown": [
       "'BR2'"
      ],
      "text/plain": [
       "[1] \"BR2\""
      ]
     },
     "metadata": {},
     "output_type": "display_data"
    }
   ],
   "source": [
    "unique(merged_df$cohort.cohortGuid)"
   ]
  },
  {
   "cell_type": "code",
   "execution_count": 70,
   "id": "dca9fada-f8f7-4f3b-b1a0-75bb91c223fd",
   "metadata": {
    "tags": []
   },
   "outputs": [
    {
     "data": {
      "text/html": [
       "<table class=\"dataframe\">\n",
       "<caption>A data.frame: 6 × 93</caption>\n",
       "<thead>\n",
       "\t<tr><th></th><th scope=col>IL1B..CD14.monocyte.PB00001.01_Female_BR1</th><th scope=col>IL1B..CD14.monocyte.PB00002.01_Male_BR1</th><th scope=col>IL1B..CD14.monocyte.PB00003.01_Female_BR1</th><th scope=col>IL1B..CD14.monocyte.PB00004.01_Male_BR1</th><th scope=col>IL1B..CD14.monocyte.PB00006.01_Female_BR1</th><th scope=col>IL1B..CD14.monocyte.PB00010.02_Male_BR1</th><th scope=col>IL1B..CD14.monocyte.PB00012.01_Female_BR1</th><th scope=col>IL1B..CD14.monocyte.PB00014.01_Male_BR1</th><th scope=col>IL1B..CD14.monocyte.PB00015.01_Male_BR2</th><th scope=col>IL1B..CD14.monocyte.PB00016.01_Female_BR2</th><th scope=col>⋯</th><th scope=col>IL1B..CD14.monocyte.PB00599.01_Female_BR2</th><th scope=col>IL1B..CD14.monocyte.PB00600.01_Male_BR2</th><th scope=col>IL1B..CD14.monocyte.PB00602.01_Female_BR2</th><th scope=col>IL1B..CD14.monocyte.PB00621.01_Female_BR1</th><th scope=col>IL1B..CD14.monocyte.PB00623.01_Male_BR2</th><th scope=col>IL1B..CD14.monocyte.PB00625.02_Male_BR2</th><th scope=col>IL1B..CD14.monocyte.PB00645.01_Female_BR1</th><th scope=col>IL1B..CD14.monocyte.PB01425.01_Female_BR1</th><th scope=col>IL1B..CD14.monocyte.PB01446.01_Male_BR1</th><th scope=col>Gene</th></tr>\n",
       "\t<tr><th></th><th scope=col>&lt;dbl&gt;</th><th scope=col>&lt;dbl&gt;</th><th scope=col>&lt;dbl&gt;</th><th scope=col>&lt;dbl&gt;</th><th scope=col>&lt;dbl&gt;</th><th scope=col>&lt;dbl&gt;</th><th scope=col>&lt;dbl&gt;</th><th scope=col>&lt;dbl&gt;</th><th scope=col>&lt;dbl&gt;</th><th scope=col>&lt;dbl&gt;</th><th scope=col>⋯</th><th scope=col>&lt;dbl&gt;</th><th scope=col>&lt;dbl&gt;</th><th scope=col>&lt;dbl&gt;</th><th scope=col>&lt;dbl&gt;</th><th scope=col>&lt;dbl&gt;</th><th scope=col>&lt;dbl&gt;</th><th scope=col>&lt;dbl&gt;</th><th scope=col>&lt;dbl&gt;</th><th scope=col>&lt;dbl&gt;</th><th scope=col>&lt;chr&gt;</th></tr>\n",
       "</thead>\n",
       "<tbody>\n",
       "\t<tr><th scope=row>FAM41C</th><td>-0.1325731</td><td>-0.13257308</td><td>-0.13257308</td><td>-0.1325731</td><td>-0.13257308</td><td>-0.1325731</td><td>-0.13257308</td><td>-0.13257308</td><td>-0.1325731</td><td> 0.05204857</td><td>⋯</td><td> 0.06016823</td><td> 0.008158344</td><td> 0.01704779</td><td>-0.1325731</td><td> 0.13706950</td><td>-0.1325731</td><td>-0.13257308</td><td>-0.13257308</td><td>-0.1325731</td><td>FAM41C  </td></tr>\n",
       "\t<tr><th scope=row>KLHL17</th><td>-0.1132681</td><td>-0.11326809</td><td>-0.11326809</td><td>-0.1132681</td><td>-0.11326809</td><td> 0.5613906</td><td>-0.11326809</td><td> 0.02164065</td><td>-0.1132681</td><td>-0.11326809</td><td>⋯</td><td> 0.27585898</td><td> 0.085578125</td><td> 0.05498980</td><td> 1.1780484</td><td>-0.11326809</td><td>-0.1132681</td><td>-0.11326809</td><td>-0.11326809</td><td>-0.1132681</td><td>KLHL17  </td></tr>\n",
       "\t<tr><th scope=row>HES4</th><td>-0.1922976</td><td>-0.19229758</td><td>-0.19229758</td><td>-0.1922976</td><td>-0.19229758</td><td> 0.6279942</td><td>-0.19229758</td><td> 0.04808518</td><td>-0.1922976</td><td>-0.04477007</td><td>⋯</td><td> 0.34508833</td><td> 0.048424270</td><td> 0.22911027</td><td>-0.1922976</td><td>-0.10742377</td><td>-0.1922976</td><td>-0.19229758</td><td>-0.19229758</td><td>-0.1922976</td><td>HES4    </td></tr>\n",
       "\t<tr><th scope=row>ISG15</th><td>-0.1002863</td><td>-0.02938398</td><td>-0.06073463</td><td>-0.1792230</td><td> 0.06957747</td><td> 0.3406911</td><td> 0.01884526</td><td> 0.17477232</td><td>-0.3750639</td><td> 0.03463516</td><td>⋯</td><td>-0.23226132</td><td>-0.029529620</td><td>-0.05282887</td><td> 0.9992434</td><td> 0.44789089</td><td>-0.6610282</td><td>-0.27641488</td><td>-0.53656229</td><td> 1.2794150</td><td>ISG15   </td></tr>\n",
       "\t<tr><th scope=row>C1orf159</th><td> 0.1885469</td><td>-0.17659099</td><td> 1.08965621</td><td> 0.2852098</td><td>-0.17659099</td><td>-0.1765910</td><td>-0.17659099</td><td> 0.12472694</td><td> 0.3550985</td><td> 0.32683114</td><td>⋯</td><td> 0.17422959</td><td> 0.275304737</td><td>-0.04341758</td><td>-0.1765910</td><td>-0.03321262</td><td>-0.1765910</td><td>-0.17659099</td><td>-0.17659099</td><td>-0.1765910</td><td>C1orf159</td></tr>\n",
       "\t<tr><th scope=row>ACAP3</th><td> 0.2657701</td><td>-0.32842886</td><td>-0.32842886</td><td>-0.1445139</td><td>-0.16153294</td><td>-0.3284289</td><td>-0.32842886</td><td>-0.02554432</td><td>-0.1506650</td><td> 0.07174579</td><td>⋯</td><td> 0.13105045</td><td> 0.284706026</td><td>-0.09753742</td><td>-0.3284289</td><td> 0.02747473</td><td>-0.3284289</td><td> 0.06196083</td><td>-0.09577196</td><td>-0.3284289</td><td>ACAP3   </td></tr>\n",
       "</tbody>\n",
       "</table>\n"
      ],
      "text/latex": [
       "A data.frame: 6 × 93\n",
       "\\begin{tabular}{r|lllllllllllllllllllll}\n",
       "  & IL1B..CD14.monocyte.PB00001.01\\_Female\\_BR1 & IL1B..CD14.monocyte.PB00002.01\\_Male\\_BR1 & IL1B..CD14.monocyte.PB00003.01\\_Female\\_BR1 & IL1B..CD14.monocyte.PB00004.01\\_Male\\_BR1 & IL1B..CD14.monocyte.PB00006.01\\_Female\\_BR1 & IL1B..CD14.monocyte.PB00010.02\\_Male\\_BR1 & IL1B..CD14.monocyte.PB00012.01\\_Female\\_BR1 & IL1B..CD14.monocyte.PB00014.01\\_Male\\_BR1 & IL1B..CD14.monocyte.PB00015.01\\_Male\\_BR2 & IL1B..CD14.monocyte.PB00016.01\\_Female\\_BR2 & ⋯ & IL1B..CD14.monocyte.PB00599.01\\_Female\\_BR2 & IL1B..CD14.monocyte.PB00600.01\\_Male\\_BR2 & IL1B..CD14.monocyte.PB00602.01\\_Female\\_BR2 & IL1B..CD14.monocyte.PB00621.01\\_Female\\_BR1 & IL1B..CD14.monocyte.PB00623.01\\_Male\\_BR2 & IL1B..CD14.monocyte.PB00625.02\\_Male\\_BR2 & IL1B..CD14.monocyte.PB00645.01\\_Female\\_BR1 & IL1B..CD14.monocyte.PB01425.01\\_Female\\_BR1 & IL1B..CD14.monocyte.PB01446.01\\_Male\\_BR1 & Gene\\\\\n",
       "  & <dbl> & <dbl> & <dbl> & <dbl> & <dbl> & <dbl> & <dbl> & <dbl> & <dbl> & <dbl> & ⋯ & <dbl> & <dbl> & <dbl> & <dbl> & <dbl> & <dbl> & <dbl> & <dbl> & <dbl> & <chr>\\\\\n",
       "\\hline\n",
       "\tFAM41C & -0.1325731 & -0.13257308 & -0.13257308 & -0.1325731 & -0.13257308 & -0.1325731 & -0.13257308 & -0.13257308 & -0.1325731 &  0.05204857 & ⋯ &  0.06016823 &  0.008158344 &  0.01704779 & -0.1325731 &  0.13706950 & -0.1325731 & -0.13257308 & -0.13257308 & -0.1325731 & FAM41C  \\\\\n",
       "\tKLHL17 & -0.1132681 & -0.11326809 & -0.11326809 & -0.1132681 & -0.11326809 &  0.5613906 & -0.11326809 &  0.02164065 & -0.1132681 & -0.11326809 & ⋯ &  0.27585898 &  0.085578125 &  0.05498980 &  1.1780484 & -0.11326809 & -0.1132681 & -0.11326809 & -0.11326809 & -0.1132681 & KLHL17  \\\\\n",
       "\tHES4 & -0.1922976 & -0.19229758 & -0.19229758 & -0.1922976 & -0.19229758 &  0.6279942 & -0.19229758 &  0.04808518 & -0.1922976 & -0.04477007 & ⋯ &  0.34508833 &  0.048424270 &  0.22911027 & -0.1922976 & -0.10742377 & -0.1922976 & -0.19229758 & -0.19229758 & -0.1922976 & HES4    \\\\\n",
       "\tISG15 & -0.1002863 & -0.02938398 & -0.06073463 & -0.1792230 &  0.06957747 &  0.3406911 &  0.01884526 &  0.17477232 & -0.3750639 &  0.03463516 & ⋯ & -0.23226132 & -0.029529620 & -0.05282887 &  0.9992434 &  0.44789089 & -0.6610282 & -0.27641488 & -0.53656229 &  1.2794150 & ISG15   \\\\\n",
       "\tC1orf159 &  0.1885469 & -0.17659099 &  1.08965621 &  0.2852098 & -0.17659099 & -0.1765910 & -0.17659099 &  0.12472694 &  0.3550985 &  0.32683114 & ⋯ &  0.17422959 &  0.275304737 & -0.04341758 & -0.1765910 & -0.03321262 & -0.1765910 & -0.17659099 & -0.17659099 & -0.1765910 & C1orf159\\\\\n",
       "\tACAP3 &  0.2657701 & -0.32842886 & -0.32842886 & -0.1445139 & -0.16153294 & -0.3284289 & -0.32842886 & -0.02554432 & -0.1506650 &  0.07174579 & ⋯ &  0.13105045 &  0.284706026 & -0.09753742 & -0.3284289 &  0.02747473 & -0.3284289 &  0.06196083 & -0.09577196 & -0.3284289 & ACAP3   \\\\\n",
       "\\end{tabular}\n"
      ],
      "text/markdown": [
       "\n",
       "A data.frame: 6 × 93\n",
       "\n",
       "| <!--/--> | IL1B..CD14.monocyte.PB00001.01_Female_BR1 &lt;dbl&gt; | IL1B..CD14.monocyte.PB00002.01_Male_BR1 &lt;dbl&gt; | IL1B..CD14.monocyte.PB00003.01_Female_BR1 &lt;dbl&gt; | IL1B..CD14.monocyte.PB00004.01_Male_BR1 &lt;dbl&gt; | IL1B..CD14.monocyte.PB00006.01_Female_BR1 &lt;dbl&gt; | IL1B..CD14.monocyte.PB00010.02_Male_BR1 &lt;dbl&gt; | IL1B..CD14.monocyte.PB00012.01_Female_BR1 &lt;dbl&gt; | IL1B..CD14.monocyte.PB00014.01_Male_BR1 &lt;dbl&gt; | IL1B..CD14.monocyte.PB00015.01_Male_BR2 &lt;dbl&gt; | IL1B..CD14.monocyte.PB00016.01_Female_BR2 &lt;dbl&gt; | ⋯ ⋯ | IL1B..CD14.monocyte.PB00599.01_Female_BR2 &lt;dbl&gt; | IL1B..CD14.monocyte.PB00600.01_Male_BR2 &lt;dbl&gt; | IL1B..CD14.monocyte.PB00602.01_Female_BR2 &lt;dbl&gt; | IL1B..CD14.monocyte.PB00621.01_Female_BR1 &lt;dbl&gt; | IL1B..CD14.monocyte.PB00623.01_Male_BR2 &lt;dbl&gt; | IL1B..CD14.monocyte.PB00625.02_Male_BR2 &lt;dbl&gt; | IL1B..CD14.monocyte.PB00645.01_Female_BR1 &lt;dbl&gt; | IL1B..CD14.monocyte.PB01425.01_Female_BR1 &lt;dbl&gt; | IL1B..CD14.monocyte.PB01446.01_Male_BR1 &lt;dbl&gt; | Gene &lt;chr&gt; |\n",
       "|---|---|---|---|---|---|---|---|---|---|---|---|---|---|---|---|---|---|---|---|---|---|\n",
       "| FAM41C | -0.1325731 | -0.13257308 | -0.13257308 | -0.1325731 | -0.13257308 | -0.1325731 | -0.13257308 | -0.13257308 | -0.1325731 |  0.05204857 | ⋯ |  0.06016823 |  0.008158344 |  0.01704779 | -0.1325731 |  0.13706950 | -0.1325731 | -0.13257308 | -0.13257308 | -0.1325731 | FAM41C   |\n",
       "| KLHL17 | -0.1132681 | -0.11326809 | -0.11326809 | -0.1132681 | -0.11326809 |  0.5613906 | -0.11326809 |  0.02164065 | -0.1132681 | -0.11326809 | ⋯ |  0.27585898 |  0.085578125 |  0.05498980 |  1.1780484 | -0.11326809 | -0.1132681 | -0.11326809 | -0.11326809 | -0.1132681 | KLHL17   |\n",
       "| HES4 | -0.1922976 | -0.19229758 | -0.19229758 | -0.1922976 | -0.19229758 |  0.6279942 | -0.19229758 |  0.04808518 | -0.1922976 | -0.04477007 | ⋯ |  0.34508833 |  0.048424270 |  0.22911027 | -0.1922976 | -0.10742377 | -0.1922976 | -0.19229758 | -0.19229758 | -0.1922976 | HES4     |\n",
       "| ISG15 | -0.1002863 | -0.02938398 | -0.06073463 | -0.1792230 |  0.06957747 |  0.3406911 |  0.01884526 |  0.17477232 | -0.3750639 |  0.03463516 | ⋯ | -0.23226132 | -0.029529620 | -0.05282887 |  0.9992434 |  0.44789089 | -0.6610282 | -0.27641488 | -0.53656229 |  1.2794150 | ISG15    |\n",
       "| C1orf159 |  0.1885469 | -0.17659099 |  1.08965621 |  0.2852098 | -0.17659099 | -0.1765910 | -0.17659099 |  0.12472694 |  0.3550985 |  0.32683114 | ⋯ |  0.17422959 |  0.275304737 | -0.04341758 | -0.1765910 | -0.03321262 | -0.1765910 | -0.17659099 | -0.17659099 | -0.1765910 | C1orf159 |\n",
       "| ACAP3 |  0.2657701 | -0.32842886 | -0.32842886 | -0.1445139 | -0.16153294 | -0.3284289 | -0.32842886 | -0.02554432 | -0.1506650 |  0.07174579 | ⋯ |  0.13105045 |  0.284706026 | -0.09753742 | -0.3284289 |  0.02747473 | -0.3284289 |  0.06196083 | -0.09577196 | -0.3284289 | ACAP3    |\n",
       "\n"
      ],
      "text/plain": [
       "         IL1B..CD14.monocyte.PB00001.01_Female_BR1\n",
       "FAM41C   -0.1325731                               \n",
       "KLHL17   -0.1132681                               \n",
       "HES4     -0.1922976                               \n",
       "ISG15    -0.1002863                               \n",
       "C1orf159  0.1885469                               \n",
       "ACAP3     0.2657701                               \n",
       "         IL1B..CD14.monocyte.PB00002.01_Male_BR1\n",
       "FAM41C   -0.13257308                            \n",
       "KLHL17   -0.11326809                            \n",
       "HES4     -0.19229758                            \n",
       "ISG15    -0.02938398                            \n",
       "C1orf159 -0.17659099                            \n",
       "ACAP3    -0.32842886                            \n",
       "         IL1B..CD14.monocyte.PB00003.01_Female_BR1\n",
       "FAM41C   -0.13257308                              \n",
       "KLHL17   -0.11326809                              \n",
       "HES4     -0.19229758                              \n",
       "ISG15    -0.06073463                              \n",
       "C1orf159  1.08965621                              \n",
       "ACAP3    -0.32842886                              \n",
       "         IL1B..CD14.monocyte.PB00004.01_Male_BR1\n",
       "FAM41C   -0.1325731                             \n",
       "KLHL17   -0.1132681                             \n",
       "HES4     -0.1922976                             \n",
       "ISG15    -0.1792230                             \n",
       "C1orf159  0.2852098                             \n",
       "ACAP3    -0.1445139                             \n",
       "         IL1B..CD14.monocyte.PB00006.01_Female_BR1\n",
       "FAM41C   -0.13257308                              \n",
       "KLHL17   -0.11326809                              \n",
       "HES4     -0.19229758                              \n",
       "ISG15     0.06957747                              \n",
       "C1orf159 -0.17659099                              \n",
       "ACAP3    -0.16153294                              \n",
       "         IL1B..CD14.monocyte.PB00010.02_Male_BR1\n",
       "FAM41C   -0.1325731                             \n",
       "KLHL17    0.5613906                             \n",
       "HES4      0.6279942                             \n",
       "ISG15     0.3406911                             \n",
       "C1orf159 -0.1765910                             \n",
       "ACAP3    -0.3284289                             \n",
       "         IL1B..CD14.monocyte.PB00012.01_Female_BR1\n",
       "FAM41C   -0.13257308                              \n",
       "KLHL17   -0.11326809                              \n",
       "HES4     -0.19229758                              \n",
       "ISG15     0.01884526                              \n",
       "C1orf159 -0.17659099                              \n",
       "ACAP3    -0.32842886                              \n",
       "         IL1B..CD14.monocyte.PB00014.01_Male_BR1\n",
       "FAM41C   -0.13257308                            \n",
       "KLHL17    0.02164065                            \n",
       "HES4      0.04808518                            \n",
       "ISG15     0.17477232                            \n",
       "C1orf159  0.12472694                            \n",
       "ACAP3    -0.02554432                            \n",
       "         IL1B..CD14.monocyte.PB00015.01_Male_BR2\n",
       "FAM41C   -0.1325731                             \n",
       "KLHL17   -0.1132681                             \n",
       "HES4     -0.1922976                             \n",
       "ISG15    -0.3750639                             \n",
       "C1orf159  0.3550985                             \n",
       "ACAP3    -0.1506650                             \n",
       "         IL1B..CD14.monocyte.PB00016.01_Female_BR2 ⋯\n",
       "FAM41C    0.05204857                               ⋯\n",
       "KLHL17   -0.11326809                               ⋯\n",
       "HES4     -0.04477007                               ⋯\n",
       "ISG15     0.03463516                               ⋯\n",
       "C1orf159  0.32683114                               ⋯\n",
       "ACAP3     0.07174579                               ⋯\n",
       "         IL1B..CD14.monocyte.PB00599.01_Female_BR2\n",
       "FAM41C    0.06016823                              \n",
       "KLHL17    0.27585898                              \n",
       "HES4      0.34508833                              \n",
       "ISG15    -0.23226132                              \n",
       "C1orf159  0.17422959                              \n",
       "ACAP3     0.13105045                              \n",
       "         IL1B..CD14.monocyte.PB00600.01_Male_BR2\n",
       "FAM41C    0.008158344                           \n",
       "KLHL17    0.085578125                           \n",
       "HES4      0.048424270                           \n",
       "ISG15    -0.029529620                           \n",
       "C1orf159  0.275304737                           \n",
       "ACAP3     0.284706026                           \n",
       "         IL1B..CD14.monocyte.PB00602.01_Female_BR2\n",
       "FAM41C    0.01704779                              \n",
       "KLHL17    0.05498980                              \n",
       "HES4      0.22911027                              \n",
       "ISG15    -0.05282887                              \n",
       "C1orf159 -0.04341758                              \n",
       "ACAP3    -0.09753742                              \n",
       "         IL1B..CD14.monocyte.PB00621.01_Female_BR1\n",
       "FAM41C   -0.1325731                               \n",
       "KLHL17    1.1780484                               \n",
       "HES4     -0.1922976                               \n",
       "ISG15     0.9992434                               \n",
       "C1orf159 -0.1765910                               \n",
       "ACAP3    -0.3284289                               \n",
       "         IL1B..CD14.monocyte.PB00623.01_Male_BR2\n",
       "FAM41C    0.13706950                            \n",
       "KLHL17   -0.11326809                            \n",
       "HES4     -0.10742377                            \n",
       "ISG15     0.44789089                            \n",
       "C1orf159 -0.03321262                            \n",
       "ACAP3     0.02747473                            \n",
       "         IL1B..CD14.monocyte.PB00625.02_Male_BR2\n",
       "FAM41C   -0.1325731                             \n",
       "KLHL17   -0.1132681                             \n",
       "HES4     -0.1922976                             \n",
       "ISG15    -0.6610282                             \n",
       "C1orf159 -0.1765910                             \n",
       "ACAP3    -0.3284289                             \n",
       "         IL1B..CD14.monocyte.PB00645.01_Female_BR1\n",
       "FAM41C   -0.13257308                              \n",
       "KLHL17   -0.11326809                              \n",
       "HES4     -0.19229758                              \n",
       "ISG15    -0.27641488                              \n",
       "C1orf159 -0.17659099                              \n",
       "ACAP3     0.06196083                              \n",
       "         IL1B..CD14.monocyte.PB01425.01_Female_BR1\n",
       "FAM41C   -0.13257308                              \n",
       "KLHL17   -0.11326809                              \n",
       "HES4     -0.19229758                              \n",
       "ISG15    -0.53656229                              \n",
       "C1orf159 -0.17659099                              \n",
       "ACAP3    -0.09577196                              \n",
       "         IL1B..CD14.monocyte.PB01446.01_Male_BR1 Gene    \n",
       "FAM41C   -0.1325731                              FAM41C  \n",
       "KLHL17   -0.1132681                              KLHL17  \n",
       "HES4     -0.1922976                              HES4    \n",
       "ISG15     1.2794150                              ISG15   \n",
       "C1orf159 -0.1765910                              C1orf159\n",
       "ACAP3    -0.3284289                              ACAP3   "
      ]
     },
     "metadata": {},
     "output_type": "display_data"
    },
    {
     "data": {
      "text/html": [
       "93"
      ],
      "text/latex": [
       "93"
      ],
      "text/markdown": [
       "93"
      ],
      "text/plain": [
       "[1] 93"
      ]
     },
     "metadata": {},
     "output_type": "display_data"
    }
   ],
   "source": [
    "head(mean_df)\n",
    "length(colnames(mean_df))\n",
    "#rownames(mean_df)"
   ]
  },
  {
   "cell_type": "code",
   "execution_count": 71,
   "id": "3766cbf6-e44c-45b2-8831-74a90410215c",
   "metadata": {
    "tags": []
   },
   "outputs": [
    {
     "data": {
      "text/html": [
       "<table class=\"dataframe\">\n",
       "<caption>A data.frame: 6 × 93</caption>\n",
       "<thead>\n",
       "\t<tr><th></th><th scope=col>IL1B..CD14.monocyte.PB00001.01_Female_BR1</th><th scope=col>IL1B..CD14.monocyte.PB00002.01_Male_BR1</th><th scope=col>IL1B..CD14.monocyte.PB00003.01_Female_BR1</th><th scope=col>IL1B..CD14.monocyte.PB00004.01_Male_BR1</th><th scope=col>IL1B..CD14.monocyte.PB00006.01_Female_BR1</th><th scope=col>IL1B..CD14.monocyte.PB00010.02_Male_BR1</th><th scope=col>IL1B..CD14.monocyte.PB00012.01_Female_BR1</th><th scope=col>IL1B..CD14.monocyte.PB00014.01_Male_BR1</th><th scope=col>IL1B..CD14.monocyte.PB00015.01_Male_BR2</th><th scope=col>IL1B..CD14.monocyte.PB00016.01_Female_BR2</th><th scope=col>⋯</th><th scope=col>IL1B..CD14.monocyte.PB00599.01_Female_BR2</th><th scope=col>IL1B..CD14.monocyte.PB00600.01_Male_BR2</th><th scope=col>IL1B..CD14.monocyte.PB00602.01_Female_BR2</th><th scope=col>IL1B..CD14.monocyte.PB00621.01_Female_BR1</th><th scope=col>IL1B..CD14.monocyte.PB00623.01_Male_BR2</th><th scope=col>IL1B..CD14.monocyte.PB00625.02_Male_BR2</th><th scope=col>IL1B..CD14.monocyte.PB00645.01_Female_BR1</th><th scope=col>IL1B..CD14.monocyte.PB01425.01_Female_BR1</th><th scope=col>IL1B..CD14.monocyte.PB01446.01_Male_BR1</th><th scope=col>Gene</th></tr>\n",
       "\t<tr><th></th><th scope=col>&lt;dbl&gt;</th><th scope=col>&lt;dbl&gt;</th><th scope=col>&lt;dbl&gt;</th><th scope=col>&lt;dbl&gt;</th><th scope=col>&lt;dbl&gt;</th><th scope=col>&lt;dbl&gt;</th><th scope=col>&lt;dbl&gt;</th><th scope=col>&lt;dbl&gt;</th><th scope=col>&lt;dbl&gt;</th><th scope=col>&lt;dbl&gt;</th><th scope=col>⋯</th><th scope=col>&lt;dbl&gt;</th><th scope=col>&lt;dbl&gt;</th><th scope=col>&lt;dbl&gt;</th><th scope=col>&lt;dbl&gt;</th><th scope=col>&lt;dbl&gt;</th><th scope=col>&lt;dbl&gt;</th><th scope=col>&lt;dbl&gt;</th><th scope=col>&lt;dbl&gt;</th><th scope=col>&lt;dbl&gt;</th><th scope=col>&lt;chr&gt;</th></tr>\n",
       "</thead>\n",
       "<tbody>\n",
       "\t<tr><th scope=row>FAM41C</th><td>-0.1325731</td><td>-0.13257308</td><td>-0.13257308</td><td>-0.1325731</td><td>-0.13257308</td><td>-0.1325731</td><td>-0.13257308</td><td>-0.13257308</td><td>-0.1325731</td><td> 0.05204857</td><td>⋯</td><td> 0.06016823</td><td> 0.008158344</td><td> 0.01704779</td><td>-0.1325731</td><td> 0.13706950</td><td>-0.1325731</td><td>-0.13257308</td><td>-0.13257308</td><td>-0.1325731</td><td>FAM41C  </td></tr>\n",
       "\t<tr><th scope=row>KLHL17</th><td>-0.1132681</td><td>-0.11326809</td><td>-0.11326809</td><td>-0.1132681</td><td>-0.11326809</td><td> 0.5613906</td><td>-0.11326809</td><td> 0.02164065</td><td>-0.1132681</td><td>-0.11326809</td><td>⋯</td><td> 0.27585898</td><td> 0.085578125</td><td> 0.05498980</td><td> 1.1780484</td><td>-0.11326809</td><td>-0.1132681</td><td>-0.11326809</td><td>-0.11326809</td><td>-0.1132681</td><td>KLHL17  </td></tr>\n",
       "\t<tr><th scope=row>HES4</th><td>-0.1922976</td><td>-0.19229758</td><td>-0.19229758</td><td>-0.1922976</td><td>-0.19229758</td><td> 0.6279942</td><td>-0.19229758</td><td> 0.04808518</td><td>-0.1922976</td><td>-0.04477007</td><td>⋯</td><td> 0.34508833</td><td> 0.048424270</td><td> 0.22911027</td><td>-0.1922976</td><td>-0.10742377</td><td>-0.1922976</td><td>-0.19229758</td><td>-0.19229758</td><td>-0.1922976</td><td>HES4    </td></tr>\n",
       "\t<tr><th scope=row>ISG15</th><td>-0.1002863</td><td>-0.02938398</td><td>-0.06073463</td><td>-0.1792230</td><td> 0.06957747</td><td> 0.3406911</td><td> 0.01884526</td><td> 0.17477232</td><td>-0.3750639</td><td> 0.03463516</td><td>⋯</td><td>-0.23226132</td><td>-0.029529620</td><td>-0.05282887</td><td> 0.9992434</td><td> 0.44789089</td><td>-0.6610282</td><td>-0.27641488</td><td>-0.53656229</td><td> 1.2794150</td><td>ISG15   </td></tr>\n",
       "\t<tr><th scope=row>C1orf159</th><td> 0.1885469</td><td>-0.17659099</td><td> 1.08965621</td><td> 0.2852098</td><td>-0.17659099</td><td>-0.1765910</td><td>-0.17659099</td><td> 0.12472694</td><td> 0.3550985</td><td> 0.32683114</td><td>⋯</td><td> 0.17422959</td><td> 0.275304737</td><td>-0.04341758</td><td>-0.1765910</td><td>-0.03321262</td><td>-0.1765910</td><td>-0.17659099</td><td>-0.17659099</td><td>-0.1765910</td><td>C1orf159</td></tr>\n",
       "\t<tr><th scope=row>ACAP3</th><td> 0.2657701</td><td>-0.32842886</td><td>-0.32842886</td><td>-0.1445139</td><td>-0.16153294</td><td>-0.3284289</td><td>-0.32842886</td><td>-0.02554432</td><td>-0.1506650</td><td> 0.07174579</td><td>⋯</td><td> 0.13105045</td><td> 0.284706026</td><td>-0.09753742</td><td>-0.3284289</td><td> 0.02747473</td><td>-0.3284289</td><td> 0.06196083</td><td>-0.09577196</td><td>-0.3284289</td><td>ACAP3   </td></tr>\n",
       "</tbody>\n",
       "</table>\n"
      ],
      "text/latex": [
       "A data.frame: 6 × 93\n",
       "\\begin{tabular}{r|lllllllllllllllllllll}\n",
       "  & IL1B..CD14.monocyte.PB00001.01\\_Female\\_BR1 & IL1B..CD14.monocyte.PB00002.01\\_Male\\_BR1 & IL1B..CD14.monocyte.PB00003.01\\_Female\\_BR1 & IL1B..CD14.monocyte.PB00004.01\\_Male\\_BR1 & IL1B..CD14.monocyte.PB00006.01\\_Female\\_BR1 & IL1B..CD14.monocyte.PB00010.02\\_Male\\_BR1 & IL1B..CD14.monocyte.PB00012.01\\_Female\\_BR1 & IL1B..CD14.monocyte.PB00014.01\\_Male\\_BR1 & IL1B..CD14.monocyte.PB00015.01\\_Male\\_BR2 & IL1B..CD14.monocyte.PB00016.01\\_Female\\_BR2 & ⋯ & IL1B..CD14.monocyte.PB00599.01\\_Female\\_BR2 & IL1B..CD14.monocyte.PB00600.01\\_Male\\_BR2 & IL1B..CD14.monocyte.PB00602.01\\_Female\\_BR2 & IL1B..CD14.monocyte.PB00621.01\\_Female\\_BR1 & IL1B..CD14.monocyte.PB00623.01\\_Male\\_BR2 & IL1B..CD14.monocyte.PB00625.02\\_Male\\_BR2 & IL1B..CD14.monocyte.PB00645.01\\_Female\\_BR1 & IL1B..CD14.monocyte.PB01425.01\\_Female\\_BR1 & IL1B..CD14.monocyte.PB01446.01\\_Male\\_BR1 & Gene\\\\\n",
       "  & <dbl> & <dbl> & <dbl> & <dbl> & <dbl> & <dbl> & <dbl> & <dbl> & <dbl> & <dbl> & ⋯ & <dbl> & <dbl> & <dbl> & <dbl> & <dbl> & <dbl> & <dbl> & <dbl> & <dbl> & <chr>\\\\\n",
       "\\hline\n",
       "\tFAM41C & -0.1325731 & -0.13257308 & -0.13257308 & -0.1325731 & -0.13257308 & -0.1325731 & -0.13257308 & -0.13257308 & -0.1325731 &  0.05204857 & ⋯ &  0.06016823 &  0.008158344 &  0.01704779 & -0.1325731 &  0.13706950 & -0.1325731 & -0.13257308 & -0.13257308 & -0.1325731 & FAM41C  \\\\\n",
       "\tKLHL17 & -0.1132681 & -0.11326809 & -0.11326809 & -0.1132681 & -0.11326809 &  0.5613906 & -0.11326809 &  0.02164065 & -0.1132681 & -0.11326809 & ⋯ &  0.27585898 &  0.085578125 &  0.05498980 &  1.1780484 & -0.11326809 & -0.1132681 & -0.11326809 & -0.11326809 & -0.1132681 & KLHL17  \\\\\n",
       "\tHES4 & -0.1922976 & -0.19229758 & -0.19229758 & -0.1922976 & -0.19229758 &  0.6279942 & -0.19229758 &  0.04808518 & -0.1922976 & -0.04477007 & ⋯ &  0.34508833 &  0.048424270 &  0.22911027 & -0.1922976 & -0.10742377 & -0.1922976 & -0.19229758 & -0.19229758 & -0.1922976 & HES4    \\\\\n",
       "\tISG15 & -0.1002863 & -0.02938398 & -0.06073463 & -0.1792230 &  0.06957747 &  0.3406911 &  0.01884526 &  0.17477232 & -0.3750639 &  0.03463516 & ⋯ & -0.23226132 & -0.029529620 & -0.05282887 &  0.9992434 &  0.44789089 & -0.6610282 & -0.27641488 & -0.53656229 &  1.2794150 & ISG15   \\\\\n",
       "\tC1orf159 &  0.1885469 & -0.17659099 &  1.08965621 &  0.2852098 & -0.17659099 & -0.1765910 & -0.17659099 &  0.12472694 &  0.3550985 &  0.32683114 & ⋯ &  0.17422959 &  0.275304737 & -0.04341758 & -0.1765910 & -0.03321262 & -0.1765910 & -0.17659099 & -0.17659099 & -0.1765910 & C1orf159\\\\\n",
       "\tACAP3 &  0.2657701 & -0.32842886 & -0.32842886 & -0.1445139 & -0.16153294 & -0.3284289 & -0.32842886 & -0.02554432 & -0.1506650 &  0.07174579 & ⋯ &  0.13105045 &  0.284706026 & -0.09753742 & -0.3284289 &  0.02747473 & -0.3284289 &  0.06196083 & -0.09577196 & -0.3284289 & ACAP3   \\\\\n",
       "\\end{tabular}\n"
      ],
      "text/markdown": [
       "\n",
       "A data.frame: 6 × 93\n",
       "\n",
       "| <!--/--> | IL1B..CD14.monocyte.PB00001.01_Female_BR1 &lt;dbl&gt; | IL1B..CD14.monocyte.PB00002.01_Male_BR1 &lt;dbl&gt; | IL1B..CD14.monocyte.PB00003.01_Female_BR1 &lt;dbl&gt; | IL1B..CD14.monocyte.PB00004.01_Male_BR1 &lt;dbl&gt; | IL1B..CD14.monocyte.PB00006.01_Female_BR1 &lt;dbl&gt; | IL1B..CD14.monocyte.PB00010.02_Male_BR1 &lt;dbl&gt; | IL1B..CD14.monocyte.PB00012.01_Female_BR1 &lt;dbl&gt; | IL1B..CD14.monocyte.PB00014.01_Male_BR1 &lt;dbl&gt; | IL1B..CD14.monocyte.PB00015.01_Male_BR2 &lt;dbl&gt; | IL1B..CD14.monocyte.PB00016.01_Female_BR2 &lt;dbl&gt; | ⋯ ⋯ | IL1B..CD14.monocyte.PB00599.01_Female_BR2 &lt;dbl&gt; | IL1B..CD14.monocyte.PB00600.01_Male_BR2 &lt;dbl&gt; | IL1B..CD14.monocyte.PB00602.01_Female_BR2 &lt;dbl&gt; | IL1B..CD14.monocyte.PB00621.01_Female_BR1 &lt;dbl&gt; | IL1B..CD14.monocyte.PB00623.01_Male_BR2 &lt;dbl&gt; | IL1B..CD14.monocyte.PB00625.02_Male_BR2 &lt;dbl&gt; | IL1B..CD14.monocyte.PB00645.01_Female_BR1 &lt;dbl&gt; | IL1B..CD14.monocyte.PB01425.01_Female_BR1 &lt;dbl&gt; | IL1B..CD14.monocyte.PB01446.01_Male_BR1 &lt;dbl&gt; | Gene &lt;chr&gt; |\n",
       "|---|---|---|---|---|---|---|---|---|---|---|---|---|---|---|---|---|---|---|---|---|---|\n",
       "| FAM41C | -0.1325731 | -0.13257308 | -0.13257308 | -0.1325731 | -0.13257308 | -0.1325731 | -0.13257308 | -0.13257308 | -0.1325731 |  0.05204857 | ⋯ |  0.06016823 |  0.008158344 |  0.01704779 | -0.1325731 |  0.13706950 | -0.1325731 | -0.13257308 | -0.13257308 | -0.1325731 | FAM41C   |\n",
       "| KLHL17 | -0.1132681 | -0.11326809 | -0.11326809 | -0.1132681 | -0.11326809 |  0.5613906 | -0.11326809 |  0.02164065 | -0.1132681 | -0.11326809 | ⋯ |  0.27585898 |  0.085578125 |  0.05498980 |  1.1780484 | -0.11326809 | -0.1132681 | -0.11326809 | -0.11326809 | -0.1132681 | KLHL17   |\n",
       "| HES4 | -0.1922976 | -0.19229758 | -0.19229758 | -0.1922976 | -0.19229758 |  0.6279942 | -0.19229758 |  0.04808518 | -0.1922976 | -0.04477007 | ⋯ |  0.34508833 |  0.048424270 |  0.22911027 | -0.1922976 | -0.10742377 | -0.1922976 | -0.19229758 | -0.19229758 | -0.1922976 | HES4     |\n",
       "| ISG15 | -0.1002863 | -0.02938398 | -0.06073463 | -0.1792230 |  0.06957747 |  0.3406911 |  0.01884526 |  0.17477232 | -0.3750639 |  0.03463516 | ⋯ | -0.23226132 | -0.029529620 | -0.05282887 |  0.9992434 |  0.44789089 | -0.6610282 | -0.27641488 | -0.53656229 |  1.2794150 | ISG15    |\n",
       "| C1orf159 |  0.1885469 | -0.17659099 |  1.08965621 |  0.2852098 | -0.17659099 | -0.1765910 | -0.17659099 |  0.12472694 |  0.3550985 |  0.32683114 | ⋯ |  0.17422959 |  0.275304737 | -0.04341758 | -0.1765910 | -0.03321262 | -0.1765910 | -0.17659099 | -0.17659099 | -0.1765910 | C1orf159 |\n",
       "| ACAP3 |  0.2657701 | -0.32842886 | -0.32842886 | -0.1445139 | -0.16153294 | -0.3284289 | -0.32842886 | -0.02554432 | -0.1506650 |  0.07174579 | ⋯ |  0.13105045 |  0.284706026 | -0.09753742 | -0.3284289 |  0.02747473 | -0.3284289 |  0.06196083 | -0.09577196 | -0.3284289 | ACAP3    |\n",
       "\n"
      ],
      "text/plain": [
       "         IL1B..CD14.monocyte.PB00001.01_Female_BR1\n",
       "FAM41C   -0.1325731                               \n",
       "KLHL17   -0.1132681                               \n",
       "HES4     -0.1922976                               \n",
       "ISG15    -0.1002863                               \n",
       "C1orf159  0.1885469                               \n",
       "ACAP3     0.2657701                               \n",
       "         IL1B..CD14.monocyte.PB00002.01_Male_BR1\n",
       "FAM41C   -0.13257308                            \n",
       "KLHL17   -0.11326809                            \n",
       "HES4     -0.19229758                            \n",
       "ISG15    -0.02938398                            \n",
       "C1orf159 -0.17659099                            \n",
       "ACAP3    -0.32842886                            \n",
       "         IL1B..CD14.monocyte.PB00003.01_Female_BR1\n",
       "FAM41C   -0.13257308                              \n",
       "KLHL17   -0.11326809                              \n",
       "HES4     -0.19229758                              \n",
       "ISG15    -0.06073463                              \n",
       "C1orf159  1.08965621                              \n",
       "ACAP3    -0.32842886                              \n",
       "         IL1B..CD14.monocyte.PB00004.01_Male_BR1\n",
       "FAM41C   -0.1325731                             \n",
       "KLHL17   -0.1132681                             \n",
       "HES4     -0.1922976                             \n",
       "ISG15    -0.1792230                             \n",
       "C1orf159  0.2852098                             \n",
       "ACAP3    -0.1445139                             \n",
       "         IL1B..CD14.monocyte.PB00006.01_Female_BR1\n",
       "FAM41C   -0.13257308                              \n",
       "KLHL17   -0.11326809                              \n",
       "HES4     -0.19229758                              \n",
       "ISG15     0.06957747                              \n",
       "C1orf159 -0.17659099                              \n",
       "ACAP3    -0.16153294                              \n",
       "         IL1B..CD14.monocyte.PB00010.02_Male_BR1\n",
       "FAM41C   -0.1325731                             \n",
       "KLHL17    0.5613906                             \n",
       "HES4      0.6279942                             \n",
       "ISG15     0.3406911                             \n",
       "C1orf159 -0.1765910                             \n",
       "ACAP3    -0.3284289                             \n",
       "         IL1B..CD14.monocyte.PB00012.01_Female_BR1\n",
       "FAM41C   -0.13257308                              \n",
       "KLHL17   -0.11326809                              \n",
       "HES4     -0.19229758                              \n",
       "ISG15     0.01884526                              \n",
       "C1orf159 -0.17659099                              \n",
       "ACAP3    -0.32842886                              \n",
       "         IL1B..CD14.monocyte.PB00014.01_Male_BR1\n",
       "FAM41C   -0.13257308                            \n",
       "KLHL17    0.02164065                            \n",
       "HES4      0.04808518                            \n",
       "ISG15     0.17477232                            \n",
       "C1orf159  0.12472694                            \n",
       "ACAP3    -0.02554432                            \n",
       "         IL1B..CD14.monocyte.PB00015.01_Male_BR2\n",
       "FAM41C   -0.1325731                             \n",
       "KLHL17   -0.1132681                             \n",
       "HES4     -0.1922976                             \n",
       "ISG15    -0.3750639                             \n",
       "C1orf159  0.3550985                             \n",
       "ACAP3    -0.1506650                             \n",
       "         IL1B..CD14.monocyte.PB00016.01_Female_BR2 ⋯\n",
       "FAM41C    0.05204857                               ⋯\n",
       "KLHL17   -0.11326809                               ⋯\n",
       "HES4     -0.04477007                               ⋯\n",
       "ISG15     0.03463516                               ⋯\n",
       "C1orf159  0.32683114                               ⋯\n",
       "ACAP3     0.07174579                               ⋯\n",
       "         IL1B..CD14.monocyte.PB00599.01_Female_BR2\n",
       "FAM41C    0.06016823                              \n",
       "KLHL17    0.27585898                              \n",
       "HES4      0.34508833                              \n",
       "ISG15    -0.23226132                              \n",
       "C1orf159  0.17422959                              \n",
       "ACAP3     0.13105045                              \n",
       "         IL1B..CD14.monocyte.PB00600.01_Male_BR2\n",
       "FAM41C    0.008158344                           \n",
       "KLHL17    0.085578125                           \n",
       "HES4      0.048424270                           \n",
       "ISG15    -0.029529620                           \n",
       "C1orf159  0.275304737                           \n",
       "ACAP3     0.284706026                           \n",
       "         IL1B..CD14.monocyte.PB00602.01_Female_BR2\n",
       "FAM41C    0.01704779                              \n",
       "KLHL17    0.05498980                              \n",
       "HES4      0.22911027                              \n",
       "ISG15    -0.05282887                              \n",
       "C1orf159 -0.04341758                              \n",
       "ACAP3    -0.09753742                              \n",
       "         IL1B..CD14.monocyte.PB00621.01_Female_BR1\n",
       "FAM41C   -0.1325731                               \n",
       "KLHL17    1.1780484                               \n",
       "HES4     -0.1922976                               \n",
       "ISG15     0.9992434                               \n",
       "C1orf159 -0.1765910                               \n",
       "ACAP3    -0.3284289                               \n",
       "         IL1B..CD14.monocyte.PB00623.01_Male_BR2\n",
       "FAM41C    0.13706950                            \n",
       "KLHL17   -0.11326809                            \n",
       "HES4     -0.10742377                            \n",
       "ISG15     0.44789089                            \n",
       "C1orf159 -0.03321262                            \n",
       "ACAP3     0.02747473                            \n",
       "         IL1B..CD14.monocyte.PB00625.02_Male_BR2\n",
       "FAM41C   -0.1325731                             \n",
       "KLHL17   -0.1132681                             \n",
       "HES4     -0.1922976                             \n",
       "ISG15    -0.6610282                             \n",
       "C1orf159 -0.1765910                             \n",
       "ACAP3    -0.3284289                             \n",
       "         IL1B..CD14.monocyte.PB00645.01_Female_BR1\n",
       "FAM41C   -0.13257308                              \n",
       "KLHL17   -0.11326809                              \n",
       "HES4     -0.19229758                              \n",
       "ISG15    -0.27641488                              \n",
       "C1orf159 -0.17659099                              \n",
       "ACAP3     0.06196083                              \n",
       "         IL1B..CD14.monocyte.PB01425.01_Female_BR1\n",
       "FAM41C   -0.13257308                              \n",
       "KLHL17   -0.11326809                              \n",
       "HES4     -0.19229758                              \n",
       "ISG15    -0.53656229                              \n",
       "C1orf159 -0.17659099                              \n",
       "ACAP3    -0.09577196                              \n",
       "         IL1B..CD14.monocyte.PB01446.01_Male_BR1 Gene    \n",
       "FAM41C   -0.1325731                              FAM41C  \n",
       "KLHL17   -0.1132681                              KLHL17  \n",
       "HES4     -0.1922976                              HES4    \n",
       "ISG15     1.2794150                              ISG15   \n",
       "C1orf159 -0.1765910                              C1orf159\n",
       "ACAP3    -0.3284289                              ACAP3   "
      ]
     },
     "metadata": {},
     "output_type": "display_data"
    }
   ],
   "source": [
    "mean_df['Gene']= rownames(mean_df)\n",
    "head(mean_df)\n",
    "\n",
    "#write.csv(mean_df, \"/home/jupyter/Myeloid_cells/files/count_matrix_IL1B_CD14_mono.csv\")"
   ]
  },
  {
   "cell_type": "code",
   "execution_count": 89,
   "id": "0f634f52-bf51-4118-8c17-acb85ec745a3",
   "metadata": {
    "tags": []
   },
   "outputs": [],
   "source": [
    "#filter the gene in count matrix\n",
    "\n",
    "df <- mean_df %>% filter (Gene %in% c('G0S2','TNF', 'IL1B', 'NR4A1', 'PTGS2', 'BCL2A1', 'BCL6', 'NR4A1', 'METRNL', 'TNFRSF1B',\n",
    "                                      'FKBP5', 'RBP7', 'UBE2D1', 'FCGR3A', 'CCL4', 'CCL4L2','NFKBID', 'LGALS2', 'CCR1','RASGEF1B', \n",
    "                                      'CXCL8', 'NLRP3', 'KLF6', 'EIF1AX', 'JUND'))"
   ]
  },
  {
   "cell_type": "code",
   "execution_count": 90,
   "id": "770ff3f2-e028-4d63-9063-4261a6d0734a",
   "metadata": {
    "tags": []
   },
   "outputs": [],
   "source": [
    "#NFKBID, RASGEF1B, BCL6, FKBP5, UBE2D1, 'NLRP3', 'KLF6', 'EIF1AX', 'JUND' <- not found\n",
    "#FKBP5 <- corticoid inflammation gene\n",
    "#"
   ]
  },
  {
   "cell_type": "code",
   "execution_count": 91,
   "id": "0705af61-5d78-4de4-80ef-ce0e27d6d621",
   "metadata": {
    "tags": []
   },
   "outputs": [
    {
     "data": {
      "text/html": [
       "<table class=\"dataframe\">\n",
       "<caption>A data.frame: 19 × 93</caption>\n",
       "<thead>\n",
       "\t<tr><th></th><th scope=col>IL1B..CD14.monocyte.PB00001.01_Female_BR1</th><th scope=col>IL1B..CD14.monocyte.PB00002.01_Male_BR1</th><th scope=col>IL1B..CD14.monocyte.PB00003.01_Female_BR1</th><th scope=col>IL1B..CD14.monocyte.PB00004.01_Male_BR1</th><th scope=col>IL1B..CD14.monocyte.PB00006.01_Female_BR1</th><th scope=col>IL1B..CD14.monocyte.PB00010.02_Male_BR1</th><th scope=col>IL1B..CD14.monocyte.PB00012.01_Female_BR1</th><th scope=col>IL1B..CD14.monocyte.PB00014.01_Male_BR1</th><th scope=col>IL1B..CD14.monocyte.PB00015.01_Male_BR2</th><th scope=col>IL1B..CD14.monocyte.PB00016.01_Female_BR2</th><th scope=col>⋯</th><th scope=col>IL1B..CD14.monocyte.PB00599.01_Female_BR2</th><th scope=col>IL1B..CD14.monocyte.PB00600.01_Male_BR2</th><th scope=col>IL1B..CD14.monocyte.PB00602.01_Female_BR2</th><th scope=col>IL1B..CD14.monocyte.PB00621.01_Female_BR1</th><th scope=col>IL1B..CD14.monocyte.PB00623.01_Male_BR2</th><th scope=col>IL1B..CD14.monocyte.PB00625.02_Male_BR2</th><th scope=col>IL1B..CD14.monocyte.PB00645.01_Female_BR1</th><th scope=col>IL1B..CD14.monocyte.PB01425.01_Female_BR1</th><th scope=col>IL1B..CD14.monocyte.PB01446.01_Male_BR1</th><th scope=col>Gene</th></tr>\n",
       "\t<tr><th></th><th scope=col>&lt;dbl&gt;</th><th scope=col>&lt;dbl&gt;</th><th scope=col>&lt;dbl&gt;</th><th scope=col>&lt;dbl&gt;</th><th scope=col>&lt;dbl&gt;</th><th scope=col>&lt;dbl&gt;</th><th scope=col>&lt;dbl&gt;</th><th scope=col>&lt;dbl&gt;</th><th scope=col>&lt;dbl&gt;</th><th scope=col>&lt;dbl&gt;</th><th scope=col>⋯</th><th scope=col>&lt;dbl&gt;</th><th scope=col>&lt;dbl&gt;</th><th scope=col>&lt;dbl&gt;</th><th scope=col>&lt;dbl&gt;</th><th scope=col>&lt;dbl&gt;</th><th scope=col>&lt;dbl&gt;</th><th scope=col>&lt;dbl&gt;</th><th scope=col>&lt;dbl&gt;</th><th scope=col>&lt;dbl&gt;</th><th scope=col>&lt;chr&gt;</th></tr>\n",
       "</thead>\n",
       "<tbody>\n",
       "\t<tr><th scope=row>RBP7</th><td>-0.37650294</td><td>-0.16632557</td><td> 0.05863396</td><td> 0.21165865</td><td>-0.22565323</td><td> 0.05744836</td><td> 0.46330244</td><td> 0.093069147</td><td>-0.46170582</td><td> 0.022781547</td><td>⋯</td><td>-0.208615018</td><td> 0.12878528</td><td>-0.106797876</td><td>-0.26574677</td><td> 0.11234054</td><td>-1.19603014</td><td> 0.05093172</td><td> 0.51036457</td><td>-0.205161610</td><td>RBP7    </td></tr>\n",
       "\t<tr><th scope=row>FCGR3A</th><td>-0.04166035</td><td>-0.06745052</td><td>-0.36055708</td><td>-0.02345009</td><td> 0.43133490</td><td> 0.01936584</td><td> 0.18750536</td><td>-0.005232442</td><td>-0.17176497</td><td> 0.265380601</td><td>⋯</td><td> 0.360779194</td><td> 0.02588390</td><td>-0.028397168</td><td> 0.33151213</td><td>-0.08333759</td><td>-0.36055708</td><td>-0.36055708</td><td>-0.36055708</td><td>-0.020653301</td><td>FCGR3A  </td></tr>\n",
       "\t<tr><th scope=row>PTGS2</th><td>-0.17267644</td><td>-0.24257230</td><td>-0.51247644</td><td> 0.76748088</td><td>-0.24004810</td><td> 0.81851555</td><td>-0.07894074</td><td>-0.322370600</td><td> 0.03590892</td><td> 0.034846906</td><td>⋯</td><td> 0.084610725</td><td>-0.04920852</td><td> 0.004288360</td><td> 0.37340319</td><td>-0.12993733</td><td> 1.51210667</td><td> 0.17046726</td><td>-0.19800797</td><td> 0.078231492</td><td>PTGS2   </td></tr>\n",
       "\t<tr><th scope=row>G0S2</th><td>-0.16980010</td><td> 0.70047617</td><td>-0.55464202</td><td> 0.02420755</td><td>-0.48980641</td><td> 0.15922273</td><td> 0.04719155</td><td>-0.043672214</td><td>-0.25054455</td><td> 0.335645356</td><td>⋯</td><td> 0.185444879</td><td>-0.26264442</td><td>-0.174332006</td><td>-0.55464202</td><td> 0.29265441</td><td> 0.74484524</td><td>-0.06475431</td><td>-0.17466939</td><td>-0.388440679</td><td>G0S2    </td></tr>\n",
       "\t<tr><th scope=row>NLRP3</th><td>-0.40284741</td><td>-0.32262430</td><td> 0.10780568</td><td> 0.58898289</td><td>-0.10229854</td><td>-0.05298300</td><td> 0.44486633</td><td>-0.238357445</td><td> 0.19790099</td><td> 0.096202253</td><td>⋯</td><td> 0.078086195</td><td>-0.04623662</td><td> 0.034440257</td><td> 0.14418961</td><td> 0.32575324</td><td> 0.73051229</td><td>-0.09747010</td><td>-0.28103820</td><td> 0.011367221</td><td>NLRP3   </td></tr>\n",
       "\t<tr><th scope=row>IL1B</th><td>-0.31459817</td><td>-0.14287338</td><td>-0.31105860</td><td>-0.02950760</td><td> 0.45525462</td><td> 0.38140078</td><td>-0.18129745</td><td>-0.333724701</td><td> 0.34627781</td><td> 0.008854571</td><td>⋯</td><td> 0.253816796</td><td> 0.40669651</td><td> 0.227659045</td><td>-0.37905363</td><td> 0.53473480</td><td> 1.79978424</td><td> 0.08191321</td><td> 0.62584791</td><td>-0.015923984</td><td>IL1B    </td></tr>\n",
       "\t<tr><th scope=row>CCR1</th><td> 0.13134994</td><td> 0.05311702</td><td> 0.20368055</td><td> 0.19267578</td><td> 0.09143701</td><td> 0.65454039</td><td>-0.64486871</td><td>-0.275787740</td><td>-0.02618546</td><td>-0.096616048</td><td>⋯</td><td> 0.007146846</td><td>-0.24366372</td><td>-0.210180704</td><td>-0.25733089</td><td>-0.12696272</td><td>-0.89141673</td><td>-0.55715512</td><td>-0.24806017</td><td> 0.167309727</td><td>CCR1    </td></tr>\n",
       "\t<tr><th scope=row>BCL6</th><td>-0.09538612</td><td>-0.61931956</td><td>-0.40638971</td><td>-0.19985689</td><td>-0.05397158</td><td>-0.15857528</td><td>-0.61931956</td><td>-0.196779251</td><td>-0.11215030</td><td> 0.002868215</td><td>⋯</td><td> 0.309846143</td><td> 0.08425269</td><td> 0.246293299</td><td> 0.14154617</td><td>-0.04868661</td><td> 0.26234251</td><td>-0.01930046</td><td> 0.38217673</td><td> 0.333029415</td><td>BCL6    </td></tr>\n",
       "\t<tr><th scope=row>CXCL8</th><td>-0.05435196</td><td>-0.59394205</td><td>-0.08215689</td><td>-0.01979527</td><td>-0.26689697</td><td>-0.43809110</td><td> 0.55121021</td><td>-0.121298206</td><td>-0.04317314</td><td> 0.310311234</td><td>⋯</td><td> 0.493548751</td><td> 0.09562207</td><td>-0.178537898</td><td> 0.39469288</td><td> 0.17295869</td><td>-0.03276619</td><td> 0.17113409</td><td>-0.03699661</td><td>-0.184626689</td><td>CXCL8   </td></tr>\n",
       "\t<tr><th scope=row>RASGEF1B</th><td> 0.11673815</td><td>-0.38489053</td><td>-0.12517112</td><td> 0.11491208</td><td>-0.11939621</td><td> 0.66575523</td><td> 0.23704256</td><td>-0.430670435</td><td> 0.56129336</td><td> 0.348617937</td><td>⋯</td><td> 0.181573173</td><td>-0.23765071</td><td>-0.046421515</td><td> 0.03027717</td><td>-0.29178361</td><td>-0.61954200</td><td>-0.38212169</td><td>-0.46062430</td><td>-0.003141041</td><td>RASGEF1B</td></tr>\n",
       "\t<tr><th scope=row>TNF</th><td>-0.02447807</td><td>-0.31680280</td><td> 0.31699262</td><td>-0.23455325</td><td>-0.00661853</td><td>-0.39481642</td><td>-0.13160658</td><td>-0.208644189</td><td>-0.04343518</td><td>-0.227634512</td><td>⋯</td><td> 0.183309267</td><td>-0.16136633</td><td> 0.613466013</td><td>-0.15929800</td><td> 0.60688526</td><td>-0.52071464</td><td> 0.55835781</td><td> 0.33394541</td><td> 0.076531893</td><td>TNF     </td></tr>\n",
       "\t<tr><th scope=row>KLF6</th><td>-0.06296037</td><td>-0.07349392</td><td>-0.92571423</td><td>-0.55668426</td><td> 0.01490506</td><td>-0.07000499</td><td>-0.29051644</td><td>-0.576637797</td><td> 0.26909471</td><td>-0.089954006</td><td>⋯</td><td> 0.533810163</td><td> 0.05611574</td><td> 0.046213070</td><td> 0.52886161</td><td>-0.13064977</td><td>-0.32550216</td><td> 0.05761711</td><td> 0.06496392</td><td>-0.133284582</td><td>KLF6    </td></tr>\n",
       "\t<tr><th scope=row>NR4A1</th><td>-0.42323236</td><td>-0.66409248</td><td>-0.29573686</td><td>-0.28247789</td><td>-0.25454863</td><td> 0.86312935</td><td> 0.43173609</td><td>-0.006221473</td><td> 0.53606611</td><td> 0.213852977</td><td>⋯</td><td> 0.194859885</td><td>-0.53049529</td><td>-0.212800006</td><td> 0.05440998</td><td>-0.46227166</td><td>-0.66409248</td><td>-0.09853590</td><td>-0.44234041</td><td>-0.186023427</td><td>NR4A1   </td></tr>\n",
       "\t<tr><th scope=row>BCL2A1</th><td> 0.03059392</td><td>-0.01501705</td><td>-0.31879758</td><td>-0.67302816</td><td>-0.16655611</td><td> 0.62762022</td><td> 0.19120213</td><td>-0.250067071</td><td>-0.10946203</td><td> 0.128781374</td><td>⋯</td><td> 0.395559988</td><td>-0.18725080</td><td> 0.060510060</td><td>-0.01081000</td><td> 0.26354317</td><td> 0.41637019</td><td>-1.00346376</td><td>-0.24157383</td><td> 0.050495697</td><td>BCL2A1  </td></tr>\n",
       "\t<tr><th scope=row>CCL4</th><td>-0.32895127</td><td>-0.28051215</td><td>-0.54306674</td><td>-0.39139865</td><td> 0.24786259</td><td> 0.02591286</td><td> 0.11651175</td><td>-0.228740505</td><td>-0.04815814</td><td> 0.184576659</td><td>⋯</td><td> 0.080332596</td><td> 0.38888349</td><td> 0.733887391</td><td>-0.54306674</td><td> 0.46132737</td><td> 0.85227361</td><td> 0.29387360</td><td> 0.21618186</td><td> 0.222270863</td><td>CCL4    </td></tr>\n",
       "\t<tr><th scope=row>CCL4L2</th><td>-0.11475258</td><td>-0.38195223</td><td>-0.38195223</td><td>-0.25468120</td><td>-0.17926213</td><td> 0.28963249</td><td>-0.38195223</td><td>-0.158891886</td><td> 0.04407792</td><td> 0.512761451</td><td>⋯</td><td>-0.381952226</td><td> 0.06240682</td><td> 0.861300088</td><td>-0.38195223</td><td> 0.15364927</td><td> 1.44281963</td><td>-0.01167530</td><td> 0.15550533</td><td> 0.192558842</td><td>CCL4L2  </td></tr>\n",
       "\t<tr><th scope=row>METRNL</th><td>-0.41946663</td><td>-0.33385041</td><td>-0.62273704</td><td>-0.14492353</td><td>-0.08032673</td><td>-0.03076594</td><td>-0.14427440</td><td>-0.104047179</td><td> 0.08045956</td><td> 0.175976341</td><td>⋯</td><td> 0.284937717</td><td>-0.24200701</td><td> 0.002537395</td><td> 0.12797536</td><td>-0.21583777</td><td>-0.16108510</td><td>-0.46023079</td><td>-0.44572135</td><td>-0.567737022</td><td>METRNL  </td></tr>\n",
       "\t<tr><th scope=row>NFKBID</th><td> 0.11317333</td><td>-0.33895742</td><td>-0.64827234</td><td> 0.18546542</td><td>-0.35649625</td><td> 0.02036556</td><td>-0.28652892</td><td>-0.242154339</td><td> 0.28866354</td><td> 0.142680298</td><td>⋯</td><td> 0.316243226</td><td> 0.12668873</td><td> 0.372085284</td><td> 0.09151113</td><td>-0.03968326</td><td> 0.19360283</td><td> 0.39445355</td><td>-0.06067434</td><td> 0.013617237</td><td>NFKBID  </td></tr>\n",
       "\t<tr><th scope=row>LGALS2</th><td>-0.27759833</td><td> 0.44059521</td><td>-0.33160917</td><td> 0.59286922</td><td>-0.84640939</td><td> 0.26706243</td><td> 1.33816483</td><td>-0.109573834</td><td> 1.04128698</td><td> 0.785906180</td><td>⋯</td><td> 0.771538668</td><td> 0.79043146</td><td> 0.594645694</td><td>-0.25804565</td><td> 0.73427334</td><td> 0.65086567</td><td> 0.76444983</td><td>-0.11616848</td><td>-0.380722402</td><td>LGALS2  </td></tr>\n",
       "</tbody>\n",
       "</table>\n"
      ],
      "text/latex": [
       "A data.frame: 19 × 93\n",
       "\\begin{tabular}{r|lllllllllllllllllllll}\n",
       "  & IL1B..CD14.monocyte.PB00001.01\\_Female\\_BR1 & IL1B..CD14.monocyte.PB00002.01\\_Male\\_BR1 & IL1B..CD14.monocyte.PB00003.01\\_Female\\_BR1 & IL1B..CD14.monocyte.PB00004.01\\_Male\\_BR1 & IL1B..CD14.monocyte.PB00006.01\\_Female\\_BR1 & IL1B..CD14.monocyte.PB00010.02\\_Male\\_BR1 & IL1B..CD14.monocyte.PB00012.01\\_Female\\_BR1 & IL1B..CD14.monocyte.PB00014.01\\_Male\\_BR1 & IL1B..CD14.monocyte.PB00015.01\\_Male\\_BR2 & IL1B..CD14.monocyte.PB00016.01\\_Female\\_BR2 & ⋯ & IL1B..CD14.monocyte.PB00599.01\\_Female\\_BR2 & IL1B..CD14.monocyte.PB00600.01\\_Male\\_BR2 & IL1B..CD14.monocyte.PB00602.01\\_Female\\_BR2 & IL1B..CD14.monocyte.PB00621.01\\_Female\\_BR1 & IL1B..CD14.monocyte.PB00623.01\\_Male\\_BR2 & IL1B..CD14.monocyte.PB00625.02\\_Male\\_BR2 & IL1B..CD14.monocyte.PB00645.01\\_Female\\_BR1 & IL1B..CD14.monocyte.PB01425.01\\_Female\\_BR1 & IL1B..CD14.monocyte.PB01446.01\\_Male\\_BR1 & Gene\\\\\n",
       "  & <dbl> & <dbl> & <dbl> & <dbl> & <dbl> & <dbl> & <dbl> & <dbl> & <dbl> & <dbl> & ⋯ & <dbl> & <dbl> & <dbl> & <dbl> & <dbl> & <dbl> & <dbl> & <dbl> & <dbl> & <chr>\\\\\n",
       "\\hline\n",
       "\tRBP7 & -0.37650294 & -0.16632557 &  0.05863396 &  0.21165865 & -0.22565323 &  0.05744836 &  0.46330244 &  0.093069147 & -0.46170582 &  0.022781547 & ⋯ & -0.208615018 &  0.12878528 & -0.106797876 & -0.26574677 &  0.11234054 & -1.19603014 &  0.05093172 &  0.51036457 & -0.205161610 & RBP7    \\\\\n",
       "\tFCGR3A & -0.04166035 & -0.06745052 & -0.36055708 & -0.02345009 &  0.43133490 &  0.01936584 &  0.18750536 & -0.005232442 & -0.17176497 &  0.265380601 & ⋯ &  0.360779194 &  0.02588390 & -0.028397168 &  0.33151213 & -0.08333759 & -0.36055708 & -0.36055708 & -0.36055708 & -0.020653301 & FCGR3A  \\\\\n",
       "\tPTGS2 & -0.17267644 & -0.24257230 & -0.51247644 &  0.76748088 & -0.24004810 &  0.81851555 & -0.07894074 & -0.322370600 &  0.03590892 &  0.034846906 & ⋯ &  0.084610725 & -0.04920852 &  0.004288360 &  0.37340319 & -0.12993733 &  1.51210667 &  0.17046726 & -0.19800797 &  0.078231492 & PTGS2   \\\\\n",
       "\tG0S2 & -0.16980010 &  0.70047617 & -0.55464202 &  0.02420755 & -0.48980641 &  0.15922273 &  0.04719155 & -0.043672214 & -0.25054455 &  0.335645356 & ⋯ &  0.185444879 & -0.26264442 & -0.174332006 & -0.55464202 &  0.29265441 &  0.74484524 & -0.06475431 & -0.17466939 & -0.388440679 & G0S2    \\\\\n",
       "\tNLRP3 & -0.40284741 & -0.32262430 &  0.10780568 &  0.58898289 & -0.10229854 & -0.05298300 &  0.44486633 & -0.238357445 &  0.19790099 &  0.096202253 & ⋯ &  0.078086195 & -0.04623662 &  0.034440257 &  0.14418961 &  0.32575324 &  0.73051229 & -0.09747010 & -0.28103820 &  0.011367221 & NLRP3   \\\\\n",
       "\tIL1B & -0.31459817 & -0.14287338 & -0.31105860 & -0.02950760 &  0.45525462 &  0.38140078 & -0.18129745 & -0.333724701 &  0.34627781 &  0.008854571 & ⋯ &  0.253816796 &  0.40669651 &  0.227659045 & -0.37905363 &  0.53473480 &  1.79978424 &  0.08191321 &  0.62584791 & -0.015923984 & IL1B    \\\\\n",
       "\tCCR1 &  0.13134994 &  0.05311702 &  0.20368055 &  0.19267578 &  0.09143701 &  0.65454039 & -0.64486871 & -0.275787740 & -0.02618546 & -0.096616048 & ⋯ &  0.007146846 & -0.24366372 & -0.210180704 & -0.25733089 & -0.12696272 & -0.89141673 & -0.55715512 & -0.24806017 &  0.167309727 & CCR1    \\\\\n",
       "\tBCL6 & -0.09538612 & -0.61931956 & -0.40638971 & -0.19985689 & -0.05397158 & -0.15857528 & -0.61931956 & -0.196779251 & -0.11215030 &  0.002868215 & ⋯ &  0.309846143 &  0.08425269 &  0.246293299 &  0.14154617 & -0.04868661 &  0.26234251 & -0.01930046 &  0.38217673 &  0.333029415 & BCL6    \\\\\n",
       "\tCXCL8 & -0.05435196 & -0.59394205 & -0.08215689 & -0.01979527 & -0.26689697 & -0.43809110 &  0.55121021 & -0.121298206 & -0.04317314 &  0.310311234 & ⋯ &  0.493548751 &  0.09562207 & -0.178537898 &  0.39469288 &  0.17295869 & -0.03276619 &  0.17113409 & -0.03699661 & -0.184626689 & CXCL8   \\\\\n",
       "\tRASGEF1B &  0.11673815 & -0.38489053 & -0.12517112 &  0.11491208 & -0.11939621 &  0.66575523 &  0.23704256 & -0.430670435 &  0.56129336 &  0.348617937 & ⋯ &  0.181573173 & -0.23765071 & -0.046421515 &  0.03027717 & -0.29178361 & -0.61954200 & -0.38212169 & -0.46062430 & -0.003141041 & RASGEF1B\\\\\n",
       "\tTNF & -0.02447807 & -0.31680280 &  0.31699262 & -0.23455325 & -0.00661853 & -0.39481642 & -0.13160658 & -0.208644189 & -0.04343518 & -0.227634512 & ⋯ &  0.183309267 & -0.16136633 &  0.613466013 & -0.15929800 &  0.60688526 & -0.52071464 &  0.55835781 &  0.33394541 &  0.076531893 & TNF     \\\\\n",
       "\tKLF6 & -0.06296037 & -0.07349392 & -0.92571423 & -0.55668426 &  0.01490506 & -0.07000499 & -0.29051644 & -0.576637797 &  0.26909471 & -0.089954006 & ⋯ &  0.533810163 &  0.05611574 &  0.046213070 &  0.52886161 & -0.13064977 & -0.32550216 &  0.05761711 &  0.06496392 & -0.133284582 & KLF6    \\\\\n",
       "\tNR4A1 & -0.42323236 & -0.66409248 & -0.29573686 & -0.28247789 & -0.25454863 &  0.86312935 &  0.43173609 & -0.006221473 &  0.53606611 &  0.213852977 & ⋯ &  0.194859885 & -0.53049529 & -0.212800006 &  0.05440998 & -0.46227166 & -0.66409248 & -0.09853590 & -0.44234041 & -0.186023427 & NR4A1   \\\\\n",
       "\tBCL2A1 &  0.03059392 & -0.01501705 & -0.31879758 & -0.67302816 & -0.16655611 &  0.62762022 &  0.19120213 & -0.250067071 & -0.10946203 &  0.128781374 & ⋯ &  0.395559988 & -0.18725080 &  0.060510060 & -0.01081000 &  0.26354317 &  0.41637019 & -1.00346376 & -0.24157383 &  0.050495697 & BCL2A1  \\\\\n",
       "\tCCL4 & -0.32895127 & -0.28051215 & -0.54306674 & -0.39139865 &  0.24786259 &  0.02591286 &  0.11651175 & -0.228740505 & -0.04815814 &  0.184576659 & ⋯ &  0.080332596 &  0.38888349 &  0.733887391 & -0.54306674 &  0.46132737 &  0.85227361 &  0.29387360 &  0.21618186 &  0.222270863 & CCL4    \\\\\n",
       "\tCCL4L2 & -0.11475258 & -0.38195223 & -0.38195223 & -0.25468120 & -0.17926213 &  0.28963249 & -0.38195223 & -0.158891886 &  0.04407792 &  0.512761451 & ⋯ & -0.381952226 &  0.06240682 &  0.861300088 & -0.38195223 &  0.15364927 &  1.44281963 & -0.01167530 &  0.15550533 &  0.192558842 & CCL4L2  \\\\\n",
       "\tMETRNL & -0.41946663 & -0.33385041 & -0.62273704 & -0.14492353 & -0.08032673 & -0.03076594 & -0.14427440 & -0.104047179 &  0.08045956 &  0.175976341 & ⋯ &  0.284937717 & -0.24200701 &  0.002537395 &  0.12797536 & -0.21583777 & -0.16108510 & -0.46023079 & -0.44572135 & -0.567737022 & METRNL  \\\\\n",
       "\tNFKBID &  0.11317333 & -0.33895742 & -0.64827234 &  0.18546542 & -0.35649625 &  0.02036556 & -0.28652892 & -0.242154339 &  0.28866354 &  0.142680298 & ⋯ &  0.316243226 &  0.12668873 &  0.372085284 &  0.09151113 & -0.03968326 &  0.19360283 &  0.39445355 & -0.06067434 &  0.013617237 & NFKBID  \\\\\n",
       "\tLGALS2 & -0.27759833 &  0.44059521 & -0.33160917 &  0.59286922 & -0.84640939 &  0.26706243 &  1.33816483 & -0.109573834 &  1.04128698 &  0.785906180 & ⋯ &  0.771538668 &  0.79043146 &  0.594645694 & -0.25804565 &  0.73427334 &  0.65086567 &  0.76444983 & -0.11616848 & -0.380722402 & LGALS2  \\\\\n",
       "\\end{tabular}\n"
      ],
      "text/markdown": [
       "\n",
       "A data.frame: 19 × 93\n",
       "\n",
       "| <!--/--> | IL1B..CD14.monocyte.PB00001.01_Female_BR1 &lt;dbl&gt; | IL1B..CD14.monocyte.PB00002.01_Male_BR1 &lt;dbl&gt; | IL1B..CD14.monocyte.PB00003.01_Female_BR1 &lt;dbl&gt; | IL1B..CD14.monocyte.PB00004.01_Male_BR1 &lt;dbl&gt; | IL1B..CD14.monocyte.PB00006.01_Female_BR1 &lt;dbl&gt; | IL1B..CD14.monocyte.PB00010.02_Male_BR1 &lt;dbl&gt; | IL1B..CD14.monocyte.PB00012.01_Female_BR1 &lt;dbl&gt; | IL1B..CD14.monocyte.PB00014.01_Male_BR1 &lt;dbl&gt; | IL1B..CD14.monocyte.PB00015.01_Male_BR2 &lt;dbl&gt; | IL1B..CD14.monocyte.PB00016.01_Female_BR2 &lt;dbl&gt; | ⋯ ⋯ | IL1B..CD14.monocyte.PB00599.01_Female_BR2 &lt;dbl&gt; | IL1B..CD14.monocyte.PB00600.01_Male_BR2 &lt;dbl&gt; | IL1B..CD14.monocyte.PB00602.01_Female_BR2 &lt;dbl&gt; | IL1B..CD14.monocyte.PB00621.01_Female_BR1 &lt;dbl&gt; | IL1B..CD14.monocyte.PB00623.01_Male_BR2 &lt;dbl&gt; | IL1B..CD14.monocyte.PB00625.02_Male_BR2 &lt;dbl&gt; | IL1B..CD14.monocyte.PB00645.01_Female_BR1 &lt;dbl&gt; | IL1B..CD14.monocyte.PB01425.01_Female_BR1 &lt;dbl&gt; | IL1B..CD14.monocyte.PB01446.01_Male_BR1 &lt;dbl&gt; | Gene &lt;chr&gt; |\n",
       "|---|---|---|---|---|---|---|---|---|---|---|---|---|---|---|---|---|---|---|---|---|---|\n",
       "| RBP7 | -0.37650294 | -0.16632557 |  0.05863396 |  0.21165865 | -0.22565323 |  0.05744836 |  0.46330244 |  0.093069147 | -0.46170582 |  0.022781547 | ⋯ | -0.208615018 |  0.12878528 | -0.106797876 | -0.26574677 |  0.11234054 | -1.19603014 |  0.05093172 |  0.51036457 | -0.205161610 | RBP7     |\n",
       "| FCGR3A | -0.04166035 | -0.06745052 | -0.36055708 | -0.02345009 |  0.43133490 |  0.01936584 |  0.18750536 | -0.005232442 | -0.17176497 |  0.265380601 | ⋯ |  0.360779194 |  0.02588390 | -0.028397168 |  0.33151213 | -0.08333759 | -0.36055708 | -0.36055708 | -0.36055708 | -0.020653301 | FCGR3A   |\n",
       "| PTGS2 | -0.17267644 | -0.24257230 | -0.51247644 |  0.76748088 | -0.24004810 |  0.81851555 | -0.07894074 | -0.322370600 |  0.03590892 |  0.034846906 | ⋯ |  0.084610725 | -0.04920852 |  0.004288360 |  0.37340319 | -0.12993733 |  1.51210667 |  0.17046726 | -0.19800797 |  0.078231492 | PTGS2    |\n",
       "| G0S2 | -0.16980010 |  0.70047617 | -0.55464202 |  0.02420755 | -0.48980641 |  0.15922273 |  0.04719155 | -0.043672214 | -0.25054455 |  0.335645356 | ⋯ |  0.185444879 | -0.26264442 | -0.174332006 | -0.55464202 |  0.29265441 |  0.74484524 | -0.06475431 | -0.17466939 | -0.388440679 | G0S2     |\n",
       "| NLRP3 | -0.40284741 | -0.32262430 |  0.10780568 |  0.58898289 | -0.10229854 | -0.05298300 |  0.44486633 | -0.238357445 |  0.19790099 |  0.096202253 | ⋯ |  0.078086195 | -0.04623662 |  0.034440257 |  0.14418961 |  0.32575324 |  0.73051229 | -0.09747010 | -0.28103820 |  0.011367221 | NLRP3    |\n",
       "| IL1B | -0.31459817 | -0.14287338 | -0.31105860 | -0.02950760 |  0.45525462 |  0.38140078 | -0.18129745 | -0.333724701 |  0.34627781 |  0.008854571 | ⋯ |  0.253816796 |  0.40669651 |  0.227659045 | -0.37905363 |  0.53473480 |  1.79978424 |  0.08191321 |  0.62584791 | -0.015923984 | IL1B     |\n",
       "| CCR1 |  0.13134994 |  0.05311702 |  0.20368055 |  0.19267578 |  0.09143701 |  0.65454039 | -0.64486871 | -0.275787740 | -0.02618546 | -0.096616048 | ⋯ |  0.007146846 | -0.24366372 | -0.210180704 | -0.25733089 | -0.12696272 | -0.89141673 | -0.55715512 | -0.24806017 |  0.167309727 | CCR1     |\n",
       "| BCL6 | -0.09538612 | -0.61931956 | -0.40638971 | -0.19985689 | -0.05397158 | -0.15857528 | -0.61931956 | -0.196779251 | -0.11215030 |  0.002868215 | ⋯ |  0.309846143 |  0.08425269 |  0.246293299 |  0.14154617 | -0.04868661 |  0.26234251 | -0.01930046 |  0.38217673 |  0.333029415 | BCL6     |\n",
       "| CXCL8 | -0.05435196 | -0.59394205 | -0.08215689 | -0.01979527 | -0.26689697 | -0.43809110 |  0.55121021 | -0.121298206 | -0.04317314 |  0.310311234 | ⋯ |  0.493548751 |  0.09562207 | -0.178537898 |  0.39469288 |  0.17295869 | -0.03276619 |  0.17113409 | -0.03699661 | -0.184626689 | CXCL8    |\n",
       "| RASGEF1B |  0.11673815 | -0.38489053 | -0.12517112 |  0.11491208 | -0.11939621 |  0.66575523 |  0.23704256 | -0.430670435 |  0.56129336 |  0.348617937 | ⋯ |  0.181573173 | -0.23765071 | -0.046421515 |  0.03027717 | -0.29178361 | -0.61954200 | -0.38212169 | -0.46062430 | -0.003141041 | RASGEF1B |\n",
       "| TNF | -0.02447807 | -0.31680280 |  0.31699262 | -0.23455325 | -0.00661853 | -0.39481642 | -0.13160658 | -0.208644189 | -0.04343518 | -0.227634512 | ⋯ |  0.183309267 | -0.16136633 |  0.613466013 | -0.15929800 |  0.60688526 | -0.52071464 |  0.55835781 |  0.33394541 |  0.076531893 | TNF      |\n",
       "| KLF6 | -0.06296037 | -0.07349392 | -0.92571423 | -0.55668426 |  0.01490506 | -0.07000499 | -0.29051644 | -0.576637797 |  0.26909471 | -0.089954006 | ⋯ |  0.533810163 |  0.05611574 |  0.046213070 |  0.52886161 | -0.13064977 | -0.32550216 |  0.05761711 |  0.06496392 | -0.133284582 | KLF6     |\n",
       "| NR4A1 | -0.42323236 | -0.66409248 | -0.29573686 | -0.28247789 | -0.25454863 |  0.86312935 |  0.43173609 | -0.006221473 |  0.53606611 |  0.213852977 | ⋯ |  0.194859885 | -0.53049529 | -0.212800006 |  0.05440998 | -0.46227166 | -0.66409248 | -0.09853590 | -0.44234041 | -0.186023427 | NR4A1    |\n",
       "| BCL2A1 |  0.03059392 | -0.01501705 | -0.31879758 | -0.67302816 | -0.16655611 |  0.62762022 |  0.19120213 | -0.250067071 | -0.10946203 |  0.128781374 | ⋯ |  0.395559988 | -0.18725080 |  0.060510060 | -0.01081000 |  0.26354317 |  0.41637019 | -1.00346376 | -0.24157383 |  0.050495697 | BCL2A1   |\n",
       "| CCL4 | -0.32895127 | -0.28051215 | -0.54306674 | -0.39139865 |  0.24786259 |  0.02591286 |  0.11651175 | -0.228740505 | -0.04815814 |  0.184576659 | ⋯ |  0.080332596 |  0.38888349 |  0.733887391 | -0.54306674 |  0.46132737 |  0.85227361 |  0.29387360 |  0.21618186 |  0.222270863 | CCL4     |\n",
       "| CCL4L2 | -0.11475258 | -0.38195223 | -0.38195223 | -0.25468120 | -0.17926213 |  0.28963249 | -0.38195223 | -0.158891886 |  0.04407792 |  0.512761451 | ⋯ | -0.381952226 |  0.06240682 |  0.861300088 | -0.38195223 |  0.15364927 |  1.44281963 | -0.01167530 |  0.15550533 |  0.192558842 | CCL4L2   |\n",
       "| METRNL | -0.41946663 | -0.33385041 | -0.62273704 | -0.14492353 | -0.08032673 | -0.03076594 | -0.14427440 | -0.104047179 |  0.08045956 |  0.175976341 | ⋯ |  0.284937717 | -0.24200701 |  0.002537395 |  0.12797536 | -0.21583777 | -0.16108510 | -0.46023079 | -0.44572135 | -0.567737022 | METRNL   |\n",
       "| NFKBID |  0.11317333 | -0.33895742 | -0.64827234 |  0.18546542 | -0.35649625 |  0.02036556 | -0.28652892 | -0.242154339 |  0.28866354 |  0.142680298 | ⋯ |  0.316243226 |  0.12668873 |  0.372085284 |  0.09151113 | -0.03968326 |  0.19360283 |  0.39445355 | -0.06067434 |  0.013617237 | NFKBID   |\n",
       "| LGALS2 | -0.27759833 |  0.44059521 | -0.33160917 |  0.59286922 | -0.84640939 |  0.26706243 |  1.33816483 | -0.109573834 |  1.04128698 |  0.785906180 | ⋯ |  0.771538668 |  0.79043146 |  0.594645694 | -0.25804565 |  0.73427334 |  0.65086567 |  0.76444983 | -0.11616848 | -0.380722402 | LGALS2   |\n",
       "\n"
      ],
      "text/plain": [
       "         IL1B..CD14.monocyte.PB00001.01_Female_BR1\n",
       "RBP7     -0.37650294                              \n",
       "FCGR3A   -0.04166035                              \n",
       "PTGS2    -0.17267644                              \n",
       "G0S2     -0.16980010                              \n",
       "NLRP3    -0.40284741                              \n",
       "IL1B     -0.31459817                              \n",
       "CCR1      0.13134994                              \n",
       "BCL6     -0.09538612                              \n",
       "CXCL8    -0.05435196                              \n",
       "RASGEF1B  0.11673815                              \n",
       "TNF      -0.02447807                              \n",
       "KLF6     -0.06296037                              \n",
       "NR4A1    -0.42323236                              \n",
       "BCL2A1    0.03059392                              \n",
       "CCL4     -0.32895127                              \n",
       "CCL4L2   -0.11475258                              \n",
       "METRNL   -0.41946663                              \n",
       "NFKBID    0.11317333                              \n",
       "LGALS2   -0.27759833                              \n",
       "         IL1B..CD14.monocyte.PB00002.01_Male_BR1\n",
       "RBP7     -0.16632557                            \n",
       "FCGR3A   -0.06745052                            \n",
       "PTGS2    -0.24257230                            \n",
       "G0S2      0.70047617                            \n",
       "NLRP3    -0.32262430                            \n",
       "IL1B     -0.14287338                            \n",
       "CCR1      0.05311702                            \n",
       "BCL6     -0.61931956                            \n",
       "CXCL8    -0.59394205                            \n",
       "RASGEF1B -0.38489053                            \n",
       "TNF      -0.31680280                            \n",
       "KLF6     -0.07349392                            \n",
       "NR4A1    -0.66409248                            \n",
       "BCL2A1   -0.01501705                            \n",
       "CCL4     -0.28051215                            \n",
       "CCL4L2   -0.38195223                            \n",
       "METRNL   -0.33385041                            \n",
       "NFKBID   -0.33895742                            \n",
       "LGALS2    0.44059521                            \n",
       "         IL1B..CD14.monocyte.PB00003.01_Female_BR1\n",
       "RBP7      0.05863396                              \n",
       "FCGR3A   -0.36055708                              \n",
       "PTGS2    -0.51247644                              \n",
       "G0S2     -0.55464202                              \n",
       "NLRP3     0.10780568                              \n",
       "IL1B     -0.31105860                              \n",
       "CCR1      0.20368055                              \n",
       "BCL6     -0.40638971                              \n",
       "CXCL8    -0.08215689                              \n",
       "RASGEF1B -0.12517112                              \n",
       "TNF       0.31699262                              \n",
       "KLF6     -0.92571423                              \n",
       "NR4A1    -0.29573686                              \n",
       "BCL2A1   -0.31879758                              \n",
       "CCL4     -0.54306674                              \n",
       "CCL4L2   -0.38195223                              \n",
       "METRNL   -0.62273704                              \n",
       "NFKBID   -0.64827234                              \n",
       "LGALS2   -0.33160917                              \n",
       "         IL1B..CD14.monocyte.PB00004.01_Male_BR1\n",
       "RBP7      0.21165865                            \n",
       "FCGR3A   -0.02345009                            \n",
       "PTGS2     0.76748088                            \n",
       "G0S2      0.02420755                            \n",
       "NLRP3     0.58898289                            \n",
       "IL1B     -0.02950760                            \n",
       "CCR1      0.19267578                            \n",
       "BCL6     -0.19985689                            \n",
       "CXCL8    -0.01979527                            \n",
       "RASGEF1B  0.11491208                            \n",
       "TNF      -0.23455325                            \n",
       "KLF6     -0.55668426                            \n",
       "NR4A1    -0.28247789                            \n",
       "BCL2A1   -0.67302816                            \n",
       "CCL4     -0.39139865                            \n",
       "CCL4L2   -0.25468120                            \n",
       "METRNL   -0.14492353                            \n",
       "NFKBID    0.18546542                            \n",
       "LGALS2    0.59286922                            \n",
       "         IL1B..CD14.monocyte.PB00006.01_Female_BR1\n",
       "RBP7     -0.22565323                              \n",
       "FCGR3A    0.43133490                              \n",
       "PTGS2    -0.24004810                              \n",
       "G0S2     -0.48980641                              \n",
       "NLRP3    -0.10229854                              \n",
       "IL1B      0.45525462                              \n",
       "CCR1      0.09143701                              \n",
       "BCL6     -0.05397158                              \n",
       "CXCL8    -0.26689697                              \n",
       "RASGEF1B -0.11939621                              \n",
       "TNF      -0.00661853                              \n",
       "KLF6      0.01490506                              \n",
       "NR4A1    -0.25454863                              \n",
       "BCL2A1   -0.16655611                              \n",
       "CCL4      0.24786259                              \n",
       "CCL4L2   -0.17926213                              \n",
       "METRNL   -0.08032673                              \n",
       "NFKBID   -0.35649625                              \n",
       "LGALS2   -0.84640939                              \n",
       "         IL1B..CD14.monocyte.PB00010.02_Male_BR1\n",
       "RBP7      0.05744836                            \n",
       "FCGR3A    0.01936584                            \n",
       "PTGS2     0.81851555                            \n",
       "G0S2      0.15922273                            \n",
       "NLRP3    -0.05298300                            \n",
       "IL1B      0.38140078                            \n",
       "CCR1      0.65454039                            \n",
       "BCL6     -0.15857528                            \n",
       "CXCL8    -0.43809110                            \n",
       "RASGEF1B  0.66575523                            \n",
       "TNF      -0.39481642                            \n",
       "KLF6     -0.07000499                            \n",
       "NR4A1     0.86312935                            \n",
       "BCL2A1    0.62762022                            \n",
       "CCL4      0.02591286                            \n",
       "CCL4L2    0.28963249                            \n",
       "METRNL   -0.03076594                            \n",
       "NFKBID    0.02036556                            \n",
       "LGALS2    0.26706243                            \n",
       "         IL1B..CD14.monocyte.PB00012.01_Female_BR1\n",
       "RBP7      0.46330244                              \n",
       "FCGR3A    0.18750536                              \n",
       "PTGS2    -0.07894074                              \n",
       "G0S2      0.04719155                              \n",
       "NLRP3     0.44486633                              \n",
       "IL1B     -0.18129745                              \n",
       "CCR1     -0.64486871                              \n",
       "BCL6     -0.61931956                              \n",
       "CXCL8     0.55121021                              \n",
       "RASGEF1B  0.23704256                              \n",
       "TNF      -0.13160658                              \n",
       "KLF6     -0.29051644                              \n",
       "NR4A1     0.43173609                              \n",
       "BCL2A1    0.19120213                              \n",
       "CCL4      0.11651175                              \n",
       "CCL4L2   -0.38195223                              \n",
       "METRNL   -0.14427440                              \n",
       "NFKBID   -0.28652892                              \n",
       "LGALS2    1.33816483                              \n",
       "         IL1B..CD14.monocyte.PB00014.01_Male_BR1\n",
       "RBP7      0.093069147                           \n",
       "FCGR3A   -0.005232442                           \n",
       "PTGS2    -0.322370600                           \n",
       "G0S2     -0.043672214                           \n",
       "NLRP3    -0.238357445                           \n",
       "IL1B     -0.333724701                           \n",
       "CCR1     -0.275787740                           \n",
       "BCL6     -0.196779251                           \n",
       "CXCL8    -0.121298206                           \n",
       "RASGEF1B -0.430670435                           \n",
       "TNF      -0.208644189                           \n",
       "KLF6     -0.576637797                           \n",
       "NR4A1    -0.006221473                           \n",
       "BCL2A1   -0.250067071                           \n",
       "CCL4     -0.228740505                           \n",
       "CCL4L2   -0.158891886                           \n",
       "METRNL   -0.104047179                           \n",
       "NFKBID   -0.242154339                           \n",
       "LGALS2   -0.109573834                           \n",
       "         IL1B..CD14.monocyte.PB00015.01_Male_BR2\n",
       "RBP7     -0.46170582                            \n",
       "FCGR3A   -0.17176497                            \n",
       "PTGS2     0.03590892                            \n",
       "G0S2     -0.25054455                            \n",
       "NLRP3     0.19790099                            \n",
       "IL1B      0.34627781                            \n",
       "CCR1     -0.02618546                            \n",
       "BCL6     -0.11215030                            \n",
       "CXCL8    -0.04317314                            \n",
       "RASGEF1B  0.56129336                            \n",
       "TNF      -0.04343518                            \n",
       "KLF6      0.26909471                            \n",
       "NR4A1     0.53606611                            \n",
       "BCL2A1   -0.10946203                            \n",
       "CCL4     -0.04815814                            \n",
       "CCL4L2    0.04407792                            \n",
       "METRNL    0.08045956                            \n",
       "NFKBID    0.28866354                            \n",
       "LGALS2    1.04128698                            \n",
       "         IL1B..CD14.monocyte.PB00016.01_Female_BR2 ⋯\n",
       "RBP7      0.022781547                              ⋯\n",
       "FCGR3A    0.265380601                              ⋯\n",
       "PTGS2     0.034846906                              ⋯\n",
       "G0S2      0.335645356                              ⋯\n",
       "NLRP3     0.096202253                              ⋯\n",
       "IL1B      0.008854571                              ⋯\n",
       "CCR1     -0.096616048                              ⋯\n",
       "BCL6      0.002868215                              ⋯\n",
       "CXCL8     0.310311234                              ⋯\n",
       "RASGEF1B  0.348617937                              ⋯\n",
       "TNF      -0.227634512                              ⋯\n",
       "KLF6     -0.089954006                              ⋯\n",
       "NR4A1     0.213852977                              ⋯\n",
       "BCL2A1    0.128781374                              ⋯\n",
       "CCL4      0.184576659                              ⋯\n",
       "CCL4L2    0.512761451                              ⋯\n",
       "METRNL    0.175976341                              ⋯\n",
       "NFKBID    0.142680298                              ⋯\n",
       "LGALS2    0.785906180                              ⋯\n",
       "         IL1B..CD14.monocyte.PB00599.01_Female_BR2\n",
       "RBP7     -0.208615018                             \n",
       "FCGR3A    0.360779194                             \n",
       "PTGS2     0.084610725                             \n",
       "G0S2      0.185444879                             \n",
       "NLRP3     0.078086195                             \n",
       "IL1B      0.253816796                             \n",
       "CCR1      0.007146846                             \n",
       "BCL6      0.309846143                             \n",
       "CXCL8     0.493548751                             \n",
       "RASGEF1B  0.181573173                             \n",
       "TNF       0.183309267                             \n",
       "KLF6      0.533810163                             \n",
       "NR4A1     0.194859885                             \n",
       "BCL2A1    0.395559988                             \n",
       "CCL4      0.080332596                             \n",
       "CCL4L2   -0.381952226                             \n",
       "METRNL    0.284937717                             \n",
       "NFKBID    0.316243226                             \n",
       "LGALS2    0.771538668                             \n",
       "         IL1B..CD14.monocyte.PB00600.01_Male_BR2\n",
       "RBP7      0.12878528                            \n",
       "FCGR3A    0.02588390                            \n",
       "PTGS2    -0.04920852                            \n",
       "G0S2     -0.26264442                            \n",
       "NLRP3    -0.04623662                            \n",
       "IL1B      0.40669651                            \n",
       "CCR1     -0.24366372                            \n",
       "BCL6      0.08425269                            \n",
       "CXCL8     0.09562207                            \n",
       "RASGEF1B -0.23765071                            \n",
       "TNF      -0.16136633                            \n",
       "KLF6      0.05611574                            \n",
       "NR4A1    -0.53049529                            \n",
       "BCL2A1   -0.18725080                            \n",
       "CCL4      0.38888349                            \n",
       "CCL4L2    0.06240682                            \n",
       "METRNL   -0.24200701                            \n",
       "NFKBID    0.12668873                            \n",
       "LGALS2    0.79043146                            \n",
       "         IL1B..CD14.monocyte.PB00602.01_Female_BR2\n",
       "RBP7     -0.106797876                             \n",
       "FCGR3A   -0.028397168                             \n",
       "PTGS2     0.004288360                             \n",
       "G0S2     -0.174332006                             \n",
       "NLRP3     0.034440257                             \n",
       "IL1B      0.227659045                             \n",
       "CCR1     -0.210180704                             \n",
       "BCL6      0.246293299                             \n",
       "CXCL8    -0.178537898                             \n",
       "RASGEF1B -0.046421515                             \n",
       "TNF       0.613466013                             \n",
       "KLF6      0.046213070                             \n",
       "NR4A1    -0.212800006                             \n",
       "BCL2A1    0.060510060                             \n",
       "CCL4      0.733887391                             \n",
       "CCL4L2    0.861300088                             \n",
       "METRNL    0.002537395                             \n",
       "NFKBID    0.372085284                             \n",
       "LGALS2    0.594645694                             \n",
       "         IL1B..CD14.monocyte.PB00621.01_Female_BR1\n",
       "RBP7     -0.26574677                              \n",
       "FCGR3A    0.33151213                              \n",
       "PTGS2     0.37340319                              \n",
       "G0S2     -0.55464202                              \n",
       "NLRP3     0.14418961                              \n",
       "IL1B     -0.37905363                              \n",
       "CCR1     -0.25733089                              \n",
       "BCL6      0.14154617                              \n",
       "CXCL8     0.39469288                              \n",
       "RASGEF1B  0.03027717                              \n",
       "TNF      -0.15929800                              \n",
       "KLF6      0.52886161                              \n",
       "NR4A1     0.05440998                              \n",
       "BCL2A1   -0.01081000                              \n",
       "CCL4     -0.54306674                              \n",
       "CCL4L2   -0.38195223                              \n",
       "METRNL    0.12797536                              \n",
       "NFKBID    0.09151113                              \n",
       "LGALS2   -0.25804565                              \n",
       "         IL1B..CD14.monocyte.PB00623.01_Male_BR2\n",
       "RBP7      0.11234054                            \n",
       "FCGR3A   -0.08333759                            \n",
       "PTGS2    -0.12993733                            \n",
       "G0S2      0.29265441                            \n",
       "NLRP3     0.32575324                            \n",
       "IL1B      0.53473480                            \n",
       "CCR1     -0.12696272                            \n",
       "BCL6     -0.04868661                            \n",
       "CXCL8     0.17295869                            \n",
       "RASGEF1B -0.29178361                            \n",
       "TNF       0.60688526                            \n",
       "KLF6     -0.13064977                            \n",
       "NR4A1    -0.46227166                            \n",
       "BCL2A1    0.26354317                            \n",
       "CCL4      0.46132737                            \n",
       "CCL4L2    0.15364927                            \n",
       "METRNL   -0.21583777                            \n",
       "NFKBID   -0.03968326                            \n",
       "LGALS2    0.73427334                            \n",
       "         IL1B..CD14.monocyte.PB00625.02_Male_BR2\n",
       "RBP7     -1.19603014                            \n",
       "FCGR3A   -0.36055708                            \n",
       "PTGS2     1.51210667                            \n",
       "G0S2      0.74484524                            \n",
       "NLRP3     0.73051229                            \n",
       "IL1B      1.79978424                            \n",
       "CCR1     -0.89141673                            \n",
       "BCL6      0.26234251                            \n",
       "CXCL8    -0.03276619                            \n",
       "RASGEF1B -0.61954200                            \n",
       "TNF      -0.52071464                            \n",
       "KLF6     -0.32550216                            \n",
       "NR4A1    -0.66409248                            \n",
       "BCL2A1    0.41637019                            \n",
       "CCL4      0.85227361                            \n",
       "CCL4L2    1.44281963                            \n",
       "METRNL   -0.16108510                            \n",
       "NFKBID    0.19360283                            \n",
       "LGALS2    0.65086567                            \n",
       "         IL1B..CD14.monocyte.PB00645.01_Female_BR1\n",
       "RBP7      0.05093172                              \n",
       "FCGR3A   -0.36055708                              \n",
       "PTGS2     0.17046726                              \n",
       "G0S2     -0.06475431                              \n",
       "NLRP3    -0.09747010                              \n",
       "IL1B      0.08191321                              \n",
       "CCR1     -0.55715512                              \n",
       "BCL6     -0.01930046                              \n",
       "CXCL8     0.17113409                              \n",
       "RASGEF1B -0.38212169                              \n",
       "TNF       0.55835781                              \n",
       "KLF6      0.05761711                              \n",
       "NR4A1    -0.09853590                              \n",
       "BCL2A1   -1.00346376                              \n",
       "CCL4      0.29387360                              \n",
       "CCL4L2   -0.01167530                              \n",
       "METRNL   -0.46023079                              \n",
       "NFKBID    0.39445355                              \n",
       "LGALS2    0.76444983                              \n",
       "         IL1B..CD14.monocyte.PB01425.01_Female_BR1\n",
       "RBP7      0.51036457                              \n",
       "FCGR3A   -0.36055708                              \n",
       "PTGS2    -0.19800797                              \n",
       "G0S2     -0.17466939                              \n",
       "NLRP3    -0.28103820                              \n",
       "IL1B      0.62584791                              \n",
       "CCR1     -0.24806017                              \n",
       "BCL6      0.38217673                              \n",
       "CXCL8    -0.03699661                              \n",
       "RASGEF1B -0.46062430                              \n",
       "TNF       0.33394541                              \n",
       "KLF6      0.06496392                              \n",
       "NR4A1    -0.44234041                              \n",
       "BCL2A1   -0.24157383                              \n",
       "CCL4      0.21618186                              \n",
       "CCL4L2    0.15550533                              \n",
       "METRNL   -0.44572135                              \n",
       "NFKBID   -0.06067434                              \n",
       "LGALS2   -0.11616848                              \n",
       "         IL1B..CD14.monocyte.PB01446.01_Male_BR1 Gene    \n",
       "RBP7     -0.205161610                            RBP7    \n",
       "FCGR3A   -0.020653301                            FCGR3A  \n",
       "PTGS2     0.078231492                            PTGS2   \n",
       "G0S2     -0.388440679                            G0S2    \n",
       "NLRP3     0.011367221                            NLRP3   \n",
       "IL1B     -0.015923984                            IL1B    \n",
       "CCR1      0.167309727                            CCR1    \n",
       "BCL6      0.333029415                            BCL6    \n",
       "CXCL8    -0.184626689                            CXCL8   \n",
       "RASGEF1B -0.003141041                            RASGEF1B\n",
       "TNF       0.076531893                            TNF     \n",
       "KLF6     -0.133284582                            KLF6    \n",
       "NR4A1    -0.186023427                            NR4A1   \n",
       "BCL2A1    0.050495697                            BCL2A1  \n",
       "CCL4      0.222270863                            CCL4    \n",
       "CCL4L2    0.192558842                            CCL4L2  \n",
       "METRNL   -0.567737022                            METRNL  \n",
       "NFKBID    0.013617237                            NFKBID  \n",
       "LGALS2   -0.380722402                            LGALS2  "
      ]
     },
     "metadata": {},
     "output_type": "display_data"
    },
    {
     "data": {
      "text/html": [
       "<style>\n",
       ".list-inline {list-style: none; margin:0; padding: 0}\n",
       ".list-inline>li {display: inline-block}\n",
       ".list-inline>li:not(:last-child)::after {content: \"\\00b7\"; padding: 0 .5ex}\n",
       "</style>\n",
       "<ol class=list-inline><li>'RBP7'</li><li>'FCGR3A'</li><li>'PTGS2'</li><li>'G0S2'</li><li>'NLRP3'</li><li>'IL1B'</li><li>'CCR1'</li><li>'BCL6'</li><li>'CXCL8'</li><li>'RASGEF1B'</li><li>'TNF'</li><li>'KLF6'</li><li>'NR4A1'</li><li>'BCL2A1'</li><li>'CCL4'</li><li>'CCL4L2'</li><li>'METRNL'</li><li>'NFKBID'</li><li>'LGALS2'</li></ol>\n"
      ],
      "text/latex": [
       "\\begin{enumerate*}\n",
       "\\item 'RBP7'\n",
       "\\item 'FCGR3A'\n",
       "\\item 'PTGS2'\n",
       "\\item 'G0S2'\n",
       "\\item 'NLRP3'\n",
       "\\item 'IL1B'\n",
       "\\item 'CCR1'\n",
       "\\item 'BCL6'\n",
       "\\item 'CXCL8'\n",
       "\\item 'RASGEF1B'\n",
       "\\item 'TNF'\n",
       "\\item 'KLF6'\n",
       "\\item 'NR4A1'\n",
       "\\item 'BCL2A1'\n",
       "\\item 'CCL4'\n",
       "\\item 'CCL4L2'\n",
       "\\item 'METRNL'\n",
       "\\item 'NFKBID'\n",
       "\\item 'LGALS2'\n",
       "\\end{enumerate*}\n"
      ],
      "text/markdown": [
       "1. 'RBP7'\n",
       "2. 'FCGR3A'\n",
       "3. 'PTGS2'\n",
       "4. 'G0S2'\n",
       "5. 'NLRP3'\n",
       "6. 'IL1B'\n",
       "7. 'CCR1'\n",
       "8. 'BCL6'\n",
       "9. 'CXCL8'\n",
       "10. 'RASGEF1B'\n",
       "11. 'TNF'\n",
       "12. 'KLF6'\n",
       "13. 'NR4A1'\n",
       "14. 'BCL2A1'\n",
       "15. 'CCL4'\n",
       "16. 'CCL4L2'\n",
       "17. 'METRNL'\n",
       "18. 'NFKBID'\n",
       "19. 'LGALS2'\n",
       "\n",
       "\n"
      ],
      "text/plain": [
       " [1] \"RBP7\"     \"FCGR3A\"   \"PTGS2\"    \"G0S2\"     \"NLRP3\"    \"IL1B\"    \n",
       " [7] \"CCR1\"     \"BCL6\"     \"CXCL8\"    \"RASGEF1B\" \"TNF\"      \"KLF6\"    \n",
       "[13] \"NR4A1\"    \"BCL2A1\"   \"CCL4\"     \"CCL4L2\"   \"METRNL\"   \"NFKBID\"  \n",
       "[19] \"LGALS2\"  "
      ]
     },
     "metadata": {},
     "output_type": "display_data"
    }
   ],
   "source": [
    "df\n",
    "#length(df$IL1B..CD14.monocyte.PB00001.01_Female_BR1)\n",
    "unique(df$Gene)"
   ]
  },
  {
   "cell_type": "code",
   "execution_count": 75,
   "id": "24a9e8b1-02e5-457b-8e99-9202311143ed",
   "metadata": {
    "tags": []
   },
   "outputs": [],
   "source": [
    "df <- df[,!(names(df) %in% c('Gene'))]"
   ]
  },
  {
   "cell_type": "code",
   "execution_count": 76,
   "id": "e26400a3-4027-40a8-b230-c0eaa26533d0",
   "metadata": {
    "tags": []
   },
   "outputs": [],
   "source": [
    "df <- df %>% t() %>% as.data.frame()"
   ]
  },
  {
   "cell_type": "code",
   "execution_count": 77,
   "id": "abd8fadb-9b96-419f-b9fa-cf9f888dba91",
   "metadata": {
    "tags": []
   },
   "outputs": [
    {
     "data": {
      "text/html": [
       "<table class=\"dataframe\">\n",
       "<caption>A data.frame: 6 × 19</caption>\n",
       "<thead>\n",
       "\t<tr><th></th><th scope=col>RBP7</th><th scope=col>FCGR3A</th><th scope=col>PTGS2</th><th scope=col>G0S2</th><th scope=col>NLRP3</th><th scope=col>IL1B</th><th scope=col>CCR1</th><th scope=col>BCL6</th><th scope=col>CXCL8</th><th scope=col>RASGEF1B</th><th scope=col>TNF</th><th scope=col>KLF6</th><th scope=col>NR4A1</th><th scope=col>BCL2A1</th><th scope=col>CCL4</th><th scope=col>CCL4L2</th><th scope=col>METRNL</th><th scope=col>NFKBID</th><th scope=col>LGALS2</th></tr>\n",
       "\t<tr><th></th><th scope=col>&lt;dbl&gt;</th><th scope=col>&lt;dbl&gt;</th><th scope=col>&lt;dbl&gt;</th><th scope=col>&lt;dbl&gt;</th><th scope=col>&lt;dbl&gt;</th><th scope=col>&lt;dbl&gt;</th><th scope=col>&lt;dbl&gt;</th><th scope=col>&lt;dbl&gt;</th><th scope=col>&lt;dbl&gt;</th><th scope=col>&lt;dbl&gt;</th><th scope=col>&lt;dbl&gt;</th><th scope=col>&lt;dbl&gt;</th><th scope=col>&lt;dbl&gt;</th><th scope=col>&lt;dbl&gt;</th><th scope=col>&lt;dbl&gt;</th><th scope=col>&lt;dbl&gt;</th><th scope=col>&lt;dbl&gt;</th><th scope=col>&lt;dbl&gt;</th><th scope=col>&lt;dbl&gt;</th></tr>\n",
       "</thead>\n",
       "<tbody>\n",
       "\t<tr><th scope=row>IL1B..CD14.monocyte.PB00001.01_Female_BR1</th><td>-0.37650294</td><td>-0.04166035</td><td>-0.1726764</td><td>-0.16980010</td><td>-0.4028474</td><td>-0.3145982</td><td>0.13134994</td><td>-0.09538612</td><td>-0.05435196</td><td> 0.1167381</td><td>-0.02447807</td><td>-0.06296037</td><td>-0.4232324</td><td> 0.03059392</td><td>-0.32895127</td><td>-0.1147526</td><td>-0.41946663</td><td> 0.11317333</td><td>-0.2775983</td></tr>\n",
       "\t<tr><th scope=row>IL1B..CD14.monocyte.PB00002.01_Male_BR1</th><td>-0.16632557</td><td>-0.06745052</td><td>-0.2425723</td><td> 0.70047617</td><td>-0.3226243</td><td>-0.1428734</td><td>0.05311702</td><td>-0.61931956</td><td>-0.59394205</td><td>-0.3848905</td><td>-0.31680280</td><td>-0.07349392</td><td>-0.6640925</td><td>-0.01501705</td><td>-0.28051215</td><td>-0.3819522</td><td>-0.33385041</td><td>-0.33895742</td><td> 0.4405952</td></tr>\n",
       "\t<tr><th scope=row>IL1B..CD14.monocyte.PB00003.01_Female_BR1</th><td> 0.05863396</td><td>-0.36055708</td><td>-0.5124764</td><td>-0.55464202</td><td> 0.1078057</td><td>-0.3110586</td><td>0.20368055</td><td>-0.40638971</td><td>-0.08215689</td><td>-0.1251711</td><td> 0.31699262</td><td>-0.92571423</td><td>-0.2957369</td><td>-0.31879758</td><td>-0.54306674</td><td>-0.3819522</td><td>-0.62273704</td><td>-0.64827234</td><td>-0.3316092</td></tr>\n",
       "\t<tr><th scope=row>IL1B..CD14.monocyte.PB00004.01_Male_BR1</th><td> 0.21165865</td><td>-0.02345009</td><td> 0.7674809</td><td> 0.02420755</td><td> 0.5889829</td><td>-0.0295076</td><td>0.19267578</td><td>-0.19985689</td><td>-0.01979527</td><td> 0.1149121</td><td>-0.23455325</td><td>-0.55668426</td><td>-0.2824779</td><td>-0.67302816</td><td>-0.39139865</td><td>-0.2546812</td><td>-0.14492353</td><td> 0.18546542</td><td> 0.5928692</td></tr>\n",
       "\t<tr><th scope=row>IL1B..CD14.monocyte.PB00006.01_Female_BR1</th><td>-0.22565323</td><td> 0.43133490</td><td>-0.2400481</td><td>-0.48980641</td><td>-0.1022985</td><td> 0.4552546</td><td>0.09143701</td><td>-0.05397158</td><td>-0.26689697</td><td>-0.1193962</td><td>-0.00661853</td><td> 0.01490506</td><td>-0.2545486</td><td>-0.16655611</td><td> 0.24786259</td><td>-0.1792621</td><td>-0.08032673</td><td>-0.35649625</td><td>-0.8464094</td></tr>\n",
       "\t<tr><th scope=row>IL1B..CD14.monocyte.PB00010.02_Male_BR1</th><td> 0.05744836</td><td> 0.01936584</td><td> 0.8185155</td><td> 0.15922273</td><td>-0.0529830</td><td> 0.3814008</td><td>0.65454039</td><td>-0.15857528</td><td>-0.43809110</td><td> 0.6657552</td><td>-0.39481642</td><td>-0.07000499</td><td> 0.8631293</td><td> 0.62762022</td><td> 0.02591286</td><td> 0.2896325</td><td>-0.03076594</td><td> 0.02036556</td><td> 0.2670624</td></tr>\n",
       "</tbody>\n",
       "</table>\n"
      ],
      "text/latex": [
       "A data.frame: 6 × 19\n",
       "\\begin{tabular}{r|lllllllllllllllllll}\n",
       "  & RBP7 & FCGR3A & PTGS2 & G0S2 & NLRP3 & IL1B & CCR1 & BCL6 & CXCL8 & RASGEF1B & TNF & KLF6 & NR4A1 & BCL2A1 & CCL4 & CCL4L2 & METRNL & NFKBID & LGALS2\\\\\n",
       "  & <dbl> & <dbl> & <dbl> & <dbl> & <dbl> & <dbl> & <dbl> & <dbl> & <dbl> & <dbl> & <dbl> & <dbl> & <dbl> & <dbl> & <dbl> & <dbl> & <dbl> & <dbl> & <dbl>\\\\\n",
       "\\hline\n",
       "\tIL1B..CD14.monocyte.PB00001.01\\_Female\\_BR1 & -0.37650294 & -0.04166035 & -0.1726764 & -0.16980010 & -0.4028474 & -0.3145982 & 0.13134994 & -0.09538612 & -0.05435196 &  0.1167381 & -0.02447807 & -0.06296037 & -0.4232324 &  0.03059392 & -0.32895127 & -0.1147526 & -0.41946663 &  0.11317333 & -0.2775983\\\\\n",
       "\tIL1B..CD14.monocyte.PB00002.01\\_Male\\_BR1 & -0.16632557 & -0.06745052 & -0.2425723 &  0.70047617 & -0.3226243 & -0.1428734 & 0.05311702 & -0.61931956 & -0.59394205 & -0.3848905 & -0.31680280 & -0.07349392 & -0.6640925 & -0.01501705 & -0.28051215 & -0.3819522 & -0.33385041 & -0.33895742 &  0.4405952\\\\\n",
       "\tIL1B..CD14.monocyte.PB00003.01\\_Female\\_BR1 &  0.05863396 & -0.36055708 & -0.5124764 & -0.55464202 &  0.1078057 & -0.3110586 & 0.20368055 & -0.40638971 & -0.08215689 & -0.1251711 &  0.31699262 & -0.92571423 & -0.2957369 & -0.31879758 & -0.54306674 & -0.3819522 & -0.62273704 & -0.64827234 & -0.3316092\\\\\n",
       "\tIL1B..CD14.monocyte.PB00004.01\\_Male\\_BR1 &  0.21165865 & -0.02345009 &  0.7674809 &  0.02420755 &  0.5889829 & -0.0295076 & 0.19267578 & -0.19985689 & -0.01979527 &  0.1149121 & -0.23455325 & -0.55668426 & -0.2824779 & -0.67302816 & -0.39139865 & -0.2546812 & -0.14492353 &  0.18546542 &  0.5928692\\\\\n",
       "\tIL1B..CD14.monocyte.PB00006.01\\_Female\\_BR1 & -0.22565323 &  0.43133490 & -0.2400481 & -0.48980641 & -0.1022985 &  0.4552546 & 0.09143701 & -0.05397158 & -0.26689697 & -0.1193962 & -0.00661853 &  0.01490506 & -0.2545486 & -0.16655611 &  0.24786259 & -0.1792621 & -0.08032673 & -0.35649625 & -0.8464094\\\\\n",
       "\tIL1B..CD14.monocyte.PB00010.02\\_Male\\_BR1 &  0.05744836 &  0.01936584 &  0.8185155 &  0.15922273 & -0.0529830 &  0.3814008 & 0.65454039 & -0.15857528 & -0.43809110 &  0.6657552 & -0.39481642 & -0.07000499 &  0.8631293 &  0.62762022 &  0.02591286 &  0.2896325 & -0.03076594 &  0.02036556 &  0.2670624\\\\\n",
       "\\end{tabular}\n"
      ],
      "text/markdown": [
       "\n",
       "A data.frame: 6 × 19\n",
       "\n",
       "| <!--/--> | RBP7 &lt;dbl&gt; | FCGR3A &lt;dbl&gt; | PTGS2 &lt;dbl&gt; | G0S2 &lt;dbl&gt; | NLRP3 &lt;dbl&gt; | IL1B &lt;dbl&gt; | CCR1 &lt;dbl&gt; | BCL6 &lt;dbl&gt; | CXCL8 &lt;dbl&gt; | RASGEF1B &lt;dbl&gt; | TNF &lt;dbl&gt; | KLF6 &lt;dbl&gt; | NR4A1 &lt;dbl&gt; | BCL2A1 &lt;dbl&gt; | CCL4 &lt;dbl&gt; | CCL4L2 &lt;dbl&gt; | METRNL &lt;dbl&gt; | NFKBID &lt;dbl&gt; | LGALS2 &lt;dbl&gt; |\n",
       "|---|---|---|---|---|---|---|---|---|---|---|---|---|---|---|---|---|---|---|---|\n",
       "| IL1B..CD14.monocyte.PB00001.01_Female_BR1 | -0.37650294 | -0.04166035 | -0.1726764 | -0.16980010 | -0.4028474 | -0.3145982 | 0.13134994 | -0.09538612 | -0.05435196 |  0.1167381 | -0.02447807 | -0.06296037 | -0.4232324 |  0.03059392 | -0.32895127 | -0.1147526 | -0.41946663 |  0.11317333 | -0.2775983 |\n",
       "| IL1B..CD14.monocyte.PB00002.01_Male_BR1 | -0.16632557 | -0.06745052 | -0.2425723 |  0.70047617 | -0.3226243 | -0.1428734 | 0.05311702 | -0.61931956 | -0.59394205 | -0.3848905 | -0.31680280 | -0.07349392 | -0.6640925 | -0.01501705 | -0.28051215 | -0.3819522 | -0.33385041 | -0.33895742 |  0.4405952 |\n",
       "| IL1B..CD14.monocyte.PB00003.01_Female_BR1 |  0.05863396 | -0.36055708 | -0.5124764 | -0.55464202 |  0.1078057 | -0.3110586 | 0.20368055 | -0.40638971 | -0.08215689 | -0.1251711 |  0.31699262 | -0.92571423 | -0.2957369 | -0.31879758 | -0.54306674 | -0.3819522 | -0.62273704 | -0.64827234 | -0.3316092 |\n",
       "| IL1B..CD14.monocyte.PB00004.01_Male_BR1 |  0.21165865 | -0.02345009 |  0.7674809 |  0.02420755 |  0.5889829 | -0.0295076 | 0.19267578 | -0.19985689 | -0.01979527 |  0.1149121 | -0.23455325 | -0.55668426 | -0.2824779 | -0.67302816 | -0.39139865 | -0.2546812 | -0.14492353 |  0.18546542 |  0.5928692 |\n",
       "| IL1B..CD14.monocyte.PB00006.01_Female_BR1 | -0.22565323 |  0.43133490 | -0.2400481 | -0.48980641 | -0.1022985 |  0.4552546 | 0.09143701 | -0.05397158 | -0.26689697 | -0.1193962 | -0.00661853 |  0.01490506 | -0.2545486 | -0.16655611 |  0.24786259 | -0.1792621 | -0.08032673 | -0.35649625 | -0.8464094 |\n",
       "| IL1B..CD14.monocyte.PB00010.02_Male_BR1 |  0.05744836 |  0.01936584 |  0.8185155 |  0.15922273 | -0.0529830 |  0.3814008 | 0.65454039 | -0.15857528 | -0.43809110 |  0.6657552 | -0.39481642 | -0.07000499 |  0.8631293 |  0.62762022 |  0.02591286 |  0.2896325 | -0.03076594 |  0.02036556 |  0.2670624 |\n",
       "\n"
      ],
      "text/plain": [
       "                                          RBP7        FCGR3A      PTGS2     \n",
       "IL1B..CD14.monocyte.PB00001.01_Female_BR1 -0.37650294 -0.04166035 -0.1726764\n",
       "IL1B..CD14.monocyte.PB00002.01_Male_BR1   -0.16632557 -0.06745052 -0.2425723\n",
       "IL1B..CD14.monocyte.PB00003.01_Female_BR1  0.05863396 -0.36055708 -0.5124764\n",
       "IL1B..CD14.monocyte.PB00004.01_Male_BR1    0.21165865 -0.02345009  0.7674809\n",
       "IL1B..CD14.monocyte.PB00006.01_Female_BR1 -0.22565323  0.43133490 -0.2400481\n",
       "IL1B..CD14.monocyte.PB00010.02_Male_BR1    0.05744836  0.01936584  0.8185155\n",
       "                                          G0S2        NLRP3      IL1B      \n",
       "IL1B..CD14.monocyte.PB00001.01_Female_BR1 -0.16980010 -0.4028474 -0.3145982\n",
       "IL1B..CD14.monocyte.PB00002.01_Male_BR1    0.70047617 -0.3226243 -0.1428734\n",
       "IL1B..CD14.monocyte.PB00003.01_Female_BR1 -0.55464202  0.1078057 -0.3110586\n",
       "IL1B..CD14.monocyte.PB00004.01_Male_BR1    0.02420755  0.5889829 -0.0295076\n",
       "IL1B..CD14.monocyte.PB00006.01_Female_BR1 -0.48980641 -0.1022985  0.4552546\n",
       "IL1B..CD14.monocyte.PB00010.02_Male_BR1    0.15922273 -0.0529830  0.3814008\n",
       "                                          CCR1       BCL6        CXCL8      \n",
       "IL1B..CD14.monocyte.PB00001.01_Female_BR1 0.13134994 -0.09538612 -0.05435196\n",
       "IL1B..CD14.monocyte.PB00002.01_Male_BR1   0.05311702 -0.61931956 -0.59394205\n",
       "IL1B..CD14.monocyte.PB00003.01_Female_BR1 0.20368055 -0.40638971 -0.08215689\n",
       "IL1B..CD14.monocyte.PB00004.01_Male_BR1   0.19267578 -0.19985689 -0.01979527\n",
       "IL1B..CD14.monocyte.PB00006.01_Female_BR1 0.09143701 -0.05397158 -0.26689697\n",
       "IL1B..CD14.monocyte.PB00010.02_Male_BR1   0.65454039 -0.15857528 -0.43809110\n",
       "                                          RASGEF1B   TNF         KLF6       \n",
       "IL1B..CD14.monocyte.PB00001.01_Female_BR1  0.1167381 -0.02447807 -0.06296037\n",
       "IL1B..CD14.monocyte.PB00002.01_Male_BR1   -0.3848905 -0.31680280 -0.07349392\n",
       "IL1B..CD14.monocyte.PB00003.01_Female_BR1 -0.1251711  0.31699262 -0.92571423\n",
       "IL1B..CD14.monocyte.PB00004.01_Male_BR1    0.1149121 -0.23455325 -0.55668426\n",
       "IL1B..CD14.monocyte.PB00006.01_Female_BR1 -0.1193962 -0.00661853  0.01490506\n",
       "IL1B..CD14.monocyte.PB00010.02_Male_BR1    0.6657552 -0.39481642 -0.07000499\n",
       "                                          NR4A1      BCL2A1      CCL4       \n",
       "IL1B..CD14.monocyte.PB00001.01_Female_BR1 -0.4232324  0.03059392 -0.32895127\n",
       "IL1B..CD14.monocyte.PB00002.01_Male_BR1   -0.6640925 -0.01501705 -0.28051215\n",
       "IL1B..CD14.monocyte.PB00003.01_Female_BR1 -0.2957369 -0.31879758 -0.54306674\n",
       "IL1B..CD14.monocyte.PB00004.01_Male_BR1   -0.2824779 -0.67302816 -0.39139865\n",
       "IL1B..CD14.monocyte.PB00006.01_Female_BR1 -0.2545486 -0.16655611  0.24786259\n",
       "IL1B..CD14.monocyte.PB00010.02_Male_BR1    0.8631293  0.62762022  0.02591286\n",
       "                                          CCL4L2     METRNL      NFKBID     \n",
       "IL1B..CD14.monocyte.PB00001.01_Female_BR1 -0.1147526 -0.41946663  0.11317333\n",
       "IL1B..CD14.monocyte.PB00002.01_Male_BR1   -0.3819522 -0.33385041 -0.33895742\n",
       "IL1B..CD14.monocyte.PB00003.01_Female_BR1 -0.3819522 -0.62273704 -0.64827234\n",
       "IL1B..CD14.monocyte.PB00004.01_Male_BR1   -0.2546812 -0.14492353  0.18546542\n",
       "IL1B..CD14.monocyte.PB00006.01_Female_BR1 -0.1792621 -0.08032673 -0.35649625\n",
       "IL1B..CD14.monocyte.PB00010.02_Male_BR1    0.2896325 -0.03076594  0.02036556\n",
       "                                          LGALS2    \n",
       "IL1B..CD14.monocyte.PB00001.01_Female_BR1 -0.2775983\n",
       "IL1B..CD14.monocyte.PB00002.01_Male_BR1    0.4405952\n",
       "IL1B..CD14.monocyte.PB00003.01_Female_BR1 -0.3316092\n",
       "IL1B..CD14.monocyte.PB00004.01_Male_BR1    0.5928692\n",
       "IL1B..CD14.monocyte.PB00006.01_Female_BR1 -0.8464094\n",
       "IL1B..CD14.monocyte.PB00010.02_Male_BR1    0.2670624"
      ]
     },
     "metadata": {},
     "output_type": "display_data"
    }
   ],
   "source": [
    "df %>% head()"
   ]
  },
  {
   "cell_type": "code",
   "execution_count": 78,
   "id": "3d47ae69-33dc-42a2-bd1d-859f85f54d6e",
   "metadata": {
    "tags": []
   },
   "outputs": [],
   "source": [
    "df['ID']= rownames(df)"
   ]
  },
  {
   "cell_type": "code",
   "execution_count": 79,
   "id": "78d0097a-c8c6-431d-8300-350b2b7e2715",
   "metadata": {
    "tags": []
   },
   "outputs": [
    {
     "data": {
      "text/html": [
       "<style>\n",
       ".list-inline {list-style: none; margin:0; padding: 0}\n",
       ".list-inline>li {display: inline-block}\n",
       ".list-inline>li:not(:last-child)::after {content: \"\\00b7\"; padding: 0 .5ex}\n",
       "</style>\n",
       "<ol class=list-inline><li>25</li><li>37</li></ol>\n"
      ],
      "text/latex": [
       "\\begin{enumerate*}\n",
       "\\item 25\n",
       "\\item 37\n",
       "\\end{enumerate*}\n"
      ],
      "text/markdown": [
       "1. 25\n",
       "2. 37\n",
       "\n",
       "\n"
      ],
      "text/plain": [
       "[1] 25 37"
      ]
     },
     "metadata": {},
     "output_type": "display_data"
    },
    {
     "data": {
      "text/html": [
       "<style>\n",
       ".list-inline {list-style: none; margin:0; padding: 0}\n",
       ".list-inline>li {display: inline-block}\n",
       ".list-inline>li:not(:last-child)::after {content: \"\\00b7\"; padding: 0 .5ex}\n",
       "</style>\n",
       "<ol class=list-inline><li>92</li><li>20</li></ol>\n"
      ],
      "text/latex": [
       "\\begin{enumerate*}\n",
       "\\item 92\n",
       "\\item 20\n",
       "\\end{enumerate*}\n"
      ],
      "text/markdown": [
       "1. 92\n",
       "2. 20\n",
       "\n",
       "\n"
      ],
      "text/plain": [
       "[1] 92 20"
      ]
     },
     "metadata": {},
     "output_type": "display_data"
    }
   ],
   "source": [
    "dim(merged_df)\n",
    "dim(df)"
   ]
  },
  {
   "cell_type": "code",
   "execution_count": 80,
   "id": "39de49f2-58d8-4499-8c36-63519642342a",
   "metadata": {
    "tags": []
   },
   "outputs": [],
   "source": [
    "data <- inner_join(df,merged_df,by=c('ID'))"
   ]
  },
  {
   "cell_type": "code",
   "execution_count": 81,
   "id": "147472ca-0310-4426-95d4-8f9bc0e5d218",
   "metadata": {
    "tags": []
   },
   "outputs": [
    {
     "data": {
      "text/html": [
       "'BR2'"
      ],
      "text/latex": [
       "'BR2'"
      ],
      "text/markdown": [
       "'BR2'"
      ],
      "text/plain": [
       "[1] \"BR2\""
      ]
     },
     "metadata": {},
     "output_type": "display_data"
    }
   ],
   "source": [
    "unique(data$cohort.cohortGuid)"
   ]
  },
  {
   "cell_type": "code",
   "execution_count": 82,
   "id": "45575b3b-5d2f-488a-bc8d-ac505e9da110",
   "metadata": {
    "tags": []
   },
   "outputs": [],
   "source": [
    "#write_csv(data, file = \"/home/jupyter/IH-A-Aging-Analysis-Notebooks_old/Mansi_Notebooks/scRNA/DEG_Analysis/MS_Sex_DEG_analysis/IL1B_CD14mon_Male_BR1_mean_gene_X_v2.csv\")"
   ]
  },
  {
   "cell_type": "code",
   "execution_count": 83,
   "id": "6d9c2812-cdbf-4eb5-8d5b-7dabc99312c1",
   "metadata": {
    "tags": []
   },
   "outputs": [],
   "source": [
    "#write_csv(data, file = \"/home/jupyter/IH-A-Aging-Analysis-Notebooks_old/Mansi_Notebooks/scRNA/DEG_Analysis/MS_Sex_DEG_analysis/IL1B_CD14mon_Male_BR2_mean_gene_X_v2.csv\")"
   ]
  },
  {
   "cell_type": "code",
   "execution_count": 84,
   "id": "29e47aa5-5314-48f1-bd82-16b7f564bb99",
   "metadata": {
    "tags": []
   },
   "outputs": [],
   "source": [
    "#write_csv(data, file = \"/home/jupyter/IH-A-Aging-Analysis-Notebooks_old/Mansi_Notebooks/scRNA/DEG_Analysis/MS_Sex_DEG_analysis/IL1B_CD14mon_Female_BR1_mean_gene_X_v2.csv\")"
   ]
  },
  {
   "cell_type": "code",
   "execution_count": 85,
   "id": "cf1eb021-0eab-476f-82d6-193d40eb63fb",
   "metadata": {
    "tags": []
   },
   "outputs": [],
   "source": [
    "#write_csv(data, file = \"/home/jupyter/IH-A-Aging-Analysis-Notebooks_old/Mansi_Notebooks/scRNA/DEG_Analysis/MS_Sex_DEG_analysis/IL1B_CD14mon_Female_BR2_mean_gene_X_v2.csv\")"
   ]
  },
  {
   "cell_type": "code",
   "execution_count": 86,
   "id": "5d6d399e-2c31-4332-bbe2-f87a3872df66",
   "metadata": {
    "tags": []
   },
   "outputs": [
    {
     "data": {
      "text/html": [
       "91"
      ],
      "text/latex": [
       "91"
      ],
      "text/markdown": [
       "91"
      ],
      "text/plain": [
       "[1] 91"
      ]
     },
     "metadata": {},
     "output_type": "display_data"
    }
   ],
   "source": [
    "20+21+26+24"
   ]
  },
  {
   "cell_type": "code",
   "execution_count": null,
   "id": "1b5f7874-2fac-45cc-a91f-1a875d19abc7",
   "metadata": {},
   "outputs": [],
   "source": []
  },
  {
   "cell_type": "code",
   "execution_count": null,
   "id": "c9ecd603-815e-42db-9cbb-edeab1e3c07a",
   "metadata": {},
   "outputs": [],
   "source": []
  },
  {
   "cell_type": "code",
   "execution_count": null,
   "id": "0af4f66f-b626-4cf4-bccf-548adc560e10",
   "metadata": {},
   "outputs": [],
   "source": []
  },
  {
   "cell_type": "code",
   "execution_count": null,
   "id": "3e412ba8-ae99-4dae-8782-f62f6a322412",
   "metadata": {},
   "outputs": [],
   "source": []
  },
  {
   "cell_type": "code",
   "execution_count": null,
   "id": "aefe8bdc-de33-4b7e-9d56-440b8dc59a02",
   "metadata": {},
   "outputs": [],
   "source": []
  },
  {
   "cell_type": "code",
   "execution_count": 221,
   "id": "7d545d14-0df5-45fa-b99f-b18633f3d8c8",
   "metadata": {
    "tags": []
   },
   "outputs": [],
   "source": [
    "## Tao code"
   ]
  },
  {
   "cell_type": "code",
   "execution_count": 217,
   "id": "a28566ab-154e-4d58-a491-367bbd8e8af8",
   "metadata": {
    "tags": []
   },
   "outputs": [
    {
     "data": {
      "text/html": [
       "<style>\n",
       ".list-inline {list-style: none; margin:0; padding: 0}\n",
       ".list-inline>li {display: inline-block}\n",
       ".list-inline>li:not(:last-child)::after {content: \"\\00b7\"; padding: 0 .5ex}\n",
       "</style>\n",
       "<ol class=list-inline><li>21</li><li>50</li></ol>\n"
      ],
      "text/latex": [
       "\\begin{enumerate*}\n",
       "\\item 21\n",
       "\\item 50\n",
       "\\end{enumerate*}\n"
      ],
      "text/markdown": [
       "1. 21\n",
       "2. 50\n",
       "\n",
       "\n"
      ],
      "text/plain": [
       "[1] 21 50"
      ]
     },
     "metadata": {},
     "output_type": "display_data"
    }
   ],
   "source": [
    "dim(data)"
   ]
  },
  {
   "cell_type": "code",
   "execution_count": 216,
   "id": "60dbb1ea-c28e-4003-ba87-f99944c8c2d4",
   "metadata": {
    "tags": []
   },
   "outputs": [
    {
     "data": {
      "text/html": [
       "<style>\n",
       ".list-inline {list-style: none; margin:0; padding: 0}\n",
       ".list-inline>li {display: inline-block}\n",
       ".list-inline>li:not(:last-child)::after {content: \"\\00b7\"; padding: 0 .5ex}\n",
       "</style>\n",
       "<ol class=list-inline><li>21</li><li>37</li></ol>\n"
      ],
      "text/latex": [
       "\\begin{enumerate*}\n",
       "\\item 21\n",
       "\\item 37\n",
       "\\end{enumerate*}\n"
      ],
      "text/markdown": [
       "1. 21\n",
       "2. 37\n",
       "\n",
       "\n"
      ],
      "text/plain": [
       "[1] 21 37"
      ]
     },
     "metadata": {},
     "output_type": "display_data"
    }
   ],
   "source": [
    "dim(merged_df)"
   ]
  },
  {
   "cell_type": "code",
   "execution_count": 220,
   "id": "1ff74a36-6e19-4174-b3bb-6d165052920a",
   "metadata": {
    "tags": []
   },
   "outputs": [
    {
     "data": {
      "text/html": [
       "21"
      ],
      "text/latex": [
       "21"
      ],
      "text/markdown": [
       "21"
      ],
      "text/plain": [
       "[1] 21"
      ]
     },
     "metadata": {},
     "output_type": "display_data"
    }
   ],
   "source": [
    "length(rownames(data))"
   ]
  },
  {
   "cell_type": "code",
   "execution_count": 218,
   "id": "e0d0a8c3-34fb-49c2-aa63-e32059ecbc4d",
   "metadata": {
    "tags": []
   },
   "outputs": [
    {
     "data": {
      "text/html": [
       "<table class=\"dataframe\">\n",
       "<caption>A data.frame: 6 × 38</caption>\n",
       "<thead>\n",
       "\t<tr><th></th><th scope=col>ID</th><th scope=col>pbmc_sample_id</th><th scope=col>X.1</th><th scope=col>X</th><th scope=col>lastUpdated</th><th scope=col>sample.id</th><th scope=col>sample.bridgingControl</th><th scope=col>sample.sampleKitGuid</th><th scope=col>sample.visitName</th><th scope=col>sample.visitDetails</th><th scope=col>⋯</th><th scope=col>Sample_ID</th><th scope=col>Sample_Draw_date</th><th scope=col>Covid_Dose_1</th><th scope=col>Covid_Dose_2</th><th scope=col>Covid_exlcusion</th><th scope=col>CMV.IgG.Serology.Result.Interpretation</th><th scope=col>BMI</th><th scope=col>file.name.downloaded</th><th scope=col>file.path</th><th scope=col>Gene</th></tr>\n",
       "\t<tr><th></th><th scope=col>&lt;chr&gt;</th><th scope=col>&lt;chr&gt;</th><th scope=col>&lt;int&gt;</th><th scope=col>&lt;int&gt;</th><th scope=col>&lt;chr&gt;</th><th scope=col>&lt;chr&gt;</th><th scope=col>&lt;chr&gt;</th><th scope=col>&lt;chr&gt;</th><th scope=col>&lt;chr&gt;</th><th scope=col>&lt;chr&gt;</th><th scope=col>⋯</th><th scope=col>&lt;lgl&gt;</th><th scope=col>&lt;chr&gt;</th><th scope=col>&lt;chr&gt;</th><th scope=col>&lt;chr&gt;</th><th scope=col>&lt;chr&gt;</th><th scope=col>&lt;chr&gt;</th><th scope=col>&lt;chr&gt;</th><th scope=col>&lt;chr&gt;</th><th scope=col>&lt;chr&gt;</th><th scope=col>&lt;chr&gt;</th></tr>\n",
       "</thead>\n",
       "<tbody>\n",
       "\t<tr><th scope=row>IL1B..CD14.monocyte.PB00002.01_Male_BR1</th><td>IL1B..CD14.monocyte.PB00002.01_Male_BR1</td><td>PB00002-01</td><td> 2</td><td> 2</td><td>2023-11-18T02:03:08.347Z</td><td>750e90a9-a296-4f0f-969f-60225c2bca17</td><td>false</td><td>KT00002</td><td>Flu Year 1 Day 0</td><td>N/A - Flu-Series Timepoint Only</td><td>⋯</td><td>NA</td><td>2019-10-15</td><td>2020-12-28</td><td>2021-01-18</td><td>no</td><td>Negative</td><td><span style=white-space:pre-wrap>&lt;25-BMI  </span></td><td><span style=white-space:pre-wrap>B001-P1_PB00002-01_labeled.h5                               </span></td><td><span style=white-space:pre-wrap>/home/jupyter/BRI_Analysis/scRNA/cache/7c0c7979-eebd-4aba-b5b2-6e76b4643623/B001-P1_PB00002-01_labeled.h5                               </span></td><td>IL1B..CD14.monocyte.PB00002.01_Male_BR1</td></tr>\n",
       "\t<tr><th scope=row>IL1B..CD14.monocyte.PB00004.01_Male_BR1</th><td>IL1B..CD14.monocyte.PB00004.01_Male_BR1</td><td>PB00004-01</td><td> 4</td><td> 4</td><td>2023-11-19T10:34:34.12Z </td><td>f04693c5-563c-4b5b-ae58-877d0d9ae2fe</td><td>false</td><td>KT00004</td><td>Flu Year 1 Day 0</td><td>N/A - Flu-Series Timepoint Only</td><td>⋯</td><td>NA</td><td>2019-10-21</td><td>2021-04-16</td><td>2021-05-06</td><td>no</td><td>Negative</td><td><span style=white-space:pre-wrap>&lt;25-BMI  </span></td><td>B002-P1_PB00004-01_2023-11-17T21:36:51.794326181Z_labeled.h5</td><td>/home/jupyter/BRI_Analysis/scRNA/cache/68fbcd34-1d63-461d-8195-df5b8dc61b31/B002-P1_PB00004-01_2023-11-17T21:36:51.794326181Z_labeled.h5</td><td>IL1B..CD14.monocyte.PB00004.01_Male_BR1</td></tr>\n",
       "\t<tr><th scope=row>IL1B..CD14.monocyte.PB00010.02_Male_BR1</th><td>IL1B..CD14.monocyte.PB00010.02_Male_BR1</td><td>PB00010-02</td><td> 6</td><td> 6</td><td>2023-11-18T02:03:08.347Z</td><td>f32ac061-0ede-4040-8d8c-35229ea5229c</td><td>false</td><td>KT00010</td><td>Flu Year 1 Day 0</td><td>N/A - Flu-Series Timepoint Only</td><td>⋯</td><td>NA</td><td>2019-10-28</td><td>2021-03-21</td><td>2021-04-18</td><td>no</td><td>Negative</td><td>&gt;25-30BMI</td><td>B078-P2_PB00010-02_2021-08-19T17:09:29.934849811Z_labeled.h5</td><td>/home/jupyter/BRI_Analysis/scRNA/cache/237e41df-5616-4852-8a8f-b32835c9efcb/B078-P2_PB00010-02_2021-08-19T17:09:29.934849811Z_labeled.h5</td><td>IL1B..CD14.monocyte.PB00010.02_Male_BR1</td></tr>\n",
       "\t<tr><th scope=row>IL1B..CD14.monocyte.PB00014.01_Male_BR1</th><td>IL1B..CD14.monocyte.PB00014.01_Male_BR1</td><td>PB00014-01</td><td> 8</td><td> 8</td><td>2023-11-19T08:45:57.633Z</td><td>77c1dad3-605d-4f94-b163-8be9c62d3bc5</td><td>false</td><td>KT00014</td><td>Flu Year 1 Day 0</td><td>N/A - Flu-Series Timepoint Only</td><td>⋯</td><td>NA</td><td>2019-10-30</td><td>2021-02-09</td><td>2021-03-06</td><td>no</td><td>Positive</td><td><span style=white-space:pre-wrap>&lt;25-BMI  </span></td><td>B002-P1_PB00014-01_2023-11-17T21:36:51.794326181Z_labeled.h5</td><td>/home/jupyter/BRI_Analysis/scRNA/cache/fbcbf51d-90f8-46ff-bd21-2f56d65306ad/B002-P1_PB00014-01_2023-11-17T21:36:51.794326181Z_labeled.h5</td><td>IL1B..CD14.monocyte.PB00014.01_Male_BR1</td></tr>\n",
       "\t<tr><th scope=row>IL1B..CD14.monocyte.PB00025.04_Male_BR1</th><td>IL1B..CD14.monocyte.PB00025.04_Male_BR1</td><td>PB00025-04</td><td>13</td><td>13</td><td>2023-11-18T02:03:08.347Z</td><td>fc01c04c-7213-471f-8510-1785f9dee039</td><td>false</td><td>KT00025</td><td>Flu Year 1 Day 0</td><td>N/A - Flu-Series Timepoint Only</td><td>⋯</td><td>NA</td><td>2019-11-25</td><td>2021-01-29</td><td>2021-02-19</td><td>no</td><td>Negative</td><td><span style=white-space:pre-wrap>&lt;25-BMI  </span></td><td>B078-P2_PB00025-04_2021-08-19T17:09:29.934849811Z_labeled.h5</td><td>/home/jupyter/BRI_Analysis/scRNA/cache/247d580e-7b47-4f59-bc37-6e29188b7aff/B078-P2_PB00025-04_2021-08-19T17:09:29.934849811Z_labeled.h5</td><td>IL1B..CD14.monocyte.PB00025.04_Male_BR1</td></tr>\n",
       "\t<tr><th scope=row>IL1B..CD14.monocyte.PB00026.05_Male_BR1</th><td>IL1B..CD14.monocyte.PB00026.05_Male_BR1</td><td>PB00026-05</td><td>14</td><td>14</td><td>2023-11-18T02:03:08.347Z</td><td>731b2c57-1bf5-4764-8a00-07f785727140</td><td>false</td><td>KT00026</td><td>Flu Year 1 Day 0</td><td>N/A - Flu-Series Timepoint Only</td><td>⋯</td><td>NA</td><td>2019-11-25</td><td>2021-03-03</td><td>2021-03-31</td><td>no</td><td>Positive</td><td><span style=white-space:pre-wrap>&lt;25-BMI  </span></td><td>B078-P2_PB00026-05_2021-08-19T17:09:29.934849811Z_labeled.h5</td><td>/home/jupyter/BRI_Analysis/scRNA/cache/139d1b1f-75d8-40ab-bcb5-70bd2cde9800/B078-P2_PB00026-05_2021-08-19T17:09:29.934849811Z_labeled.h5</td><td>IL1B..CD14.monocyte.PB00026.05_Male_BR1</td></tr>\n",
       "</tbody>\n",
       "</table>\n"
      ],
      "text/latex": [
       "A data.frame: 6 × 38\n",
       "\\begin{tabular}{r|lllllllllllllllllllll}\n",
       "  & ID & pbmc\\_sample\\_id & X.1 & X & lastUpdated & sample.id & sample.bridgingControl & sample.sampleKitGuid & sample.visitName & sample.visitDetails & ⋯ & Sample\\_ID & Sample\\_Draw\\_date & Covid\\_Dose\\_1 & Covid\\_Dose\\_2 & Covid\\_exlcusion & CMV.IgG.Serology.Result.Interpretation & BMI & file.name.downloaded & file.path & Gene\\\\\n",
       "  & <chr> & <chr> & <int> & <int> & <chr> & <chr> & <chr> & <chr> & <chr> & <chr> & ⋯ & <lgl> & <chr> & <chr> & <chr> & <chr> & <chr> & <chr> & <chr> & <chr> & <chr>\\\\\n",
       "\\hline\n",
       "\tIL1B..CD14.monocyte.PB00002.01\\_Male\\_BR1 & IL1B..CD14.monocyte.PB00002.01\\_Male\\_BR1 & PB00002-01 &  2 &  2 & 2023-11-18T02:03:08.347Z & 750e90a9-a296-4f0f-969f-60225c2bca17 & false & KT00002 & Flu Year 1 Day 0 & N/A - Flu-Series Timepoint Only & ⋯ & NA & 2019-10-15 & 2020-12-28 & 2021-01-18 & no & Negative & <25-BMI   & B001-P1\\_PB00002-01\\_labeled.h5                                & /home/jupyter/BRI\\_Analysis/scRNA/cache/7c0c7979-eebd-4aba-b5b2-6e76b4643623/B001-P1\\_PB00002-01\\_labeled.h5                                & IL1B..CD14.monocyte.PB00002.01\\_Male\\_BR1\\\\\n",
       "\tIL1B..CD14.monocyte.PB00004.01\\_Male\\_BR1 & IL1B..CD14.monocyte.PB00004.01\\_Male\\_BR1 & PB00004-01 &  4 &  4 & 2023-11-19T10:34:34.12Z  & f04693c5-563c-4b5b-ae58-877d0d9ae2fe & false & KT00004 & Flu Year 1 Day 0 & N/A - Flu-Series Timepoint Only & ⋯ & NA & 2019-10-21 & 2021-04-16 & 2021-05-06 & no & Negative & <25-BMI   & B002-P1\\_PB00004-01\\_2023-11-17T21:36:51.794326181Z\\_labeled.h5 & /home/jupyter/BRI\\_Analysis/scRNA/cache/68fbcd34-1d63-461d-8195-df5b8dc61b31/B002-P1\\_PB00004-01\\_2023-11-17T21:36:51.794326181Z\\_labeled.h5 & IL1B..CD14.monocyte.PB00004.01\\_Male\\_BR1\\\\\n",
       "\tIL1B..CD14.monocyte.PB00010.02\\_Male\\_BR1 & IL1B..CD14.monocyte.PB00010.02\\_Male\\_BR1 & PB00010-02 &  6 &  6 & 2023-11-18T02:03:08.347Z & f32ac061-0ede-4040-8d8c-35229ea5229c & false & KT00010 & Flu Year 1 Day 0 & N/A - Flu-Series Timepoint Only & ⋯ & NA & 2019-10-28 & 2021-03-21 & 2021-04-18 & no & Negative & >25-30BMI & B078-P2\\_PB00010-02\\_2021-08-19T17:09:29.934849811Z\\_labeled.h5 & /home/jupyter/BRI\\_Analysis/scRNA/cache/237e41df-5616-4852-8a8f-b32835c9efcb/B078-P2\\_PB00010-02\\_2021-08-19T17:09:29.934849811Z\\_labeled.h5 & IL1B..CD14.monocyte.PB00010.02\\_Male\\_BR1\\\\\n",
       "\tIL1B..CD14.monocyte.PB00014.01\\_Male\\_BR1 & IL1B..CD14.monocyte.PB00014.01\\_Male\\_BR1 & PB00014-01 &  8 &  8 & 2023-11-19T08:45:57.633Z & 77c1dad3-605d-4f94-b163-8be9c62d3bc5 & false & KT00014 & Flu Year 1 Day 0 & N/A - Flu-Series Timepoint Only & ⋯ & NA & 2019-10-30 & 2021-02-09 & 2021-03-06 & no & Positive & <25-BMI   & B002-P1\\_PB00014-01\\_2023-11-17T21:36:51.794326181Z\\_labeled.h5 & /home/jupyter/BRI\\_Analysis/scRNA/cache/fbcbf51d-90f8-46ff-bd21-2f56d65306ad/B002-P1\\_PB00014-01\\_2023-11-17T21:36:51.794326181Z\\_labeled.h5 & IL1B..CD14.monocyte.PB00014.01\\_Male\\_BR1\\\\\n",
       "\tIL1B..CD14.monocyte.PB00025.04\\_Male\\_BR1 & IL1B..CD14.monocyte.PB00025.04\\_Male\\_BR1 & PB00025-04 & 13 & 13 & 2023-11-18T02:03:08.347Z & fc01c04c-7213-471f-8510-1785f9dee039 & false & KT00025 & Flu Year 1 Day 0 & N/A - Flu-Series Timepoint Only & ⋯ & NA & 2019-11-25 & 2021-01-29 & 2021-02-19 & no & Negative & <25-BMI   & B078-P2\\_PB00025-04\\_2021-08-19T17:09:29.934849811Z\\_labeled.h5 & /home/jupyter/BRI\\_Analysis/scRNA/cache/247d580e-7b47-4f59-bc37-6e29188b7aff/B078-P2\\_PB00025-04\\_2021-08-19T17:09:29.934849811Z\\_labeled.h5 & IL1B..CD14.monocyte.PB00025.04\\_Male\\_BR1\\\\\n",
       "\tIL1B..CD14.monocyte.PB00026.05\\_Male\\_BR1 & IL1B..CD14.monocyte.PB00026.05\\_Male\\_BR1 & PB00026-05 & 14 & 14 & 2023-11-18T02:03:08.347Z & 731b2c57-1bf5-4764-8a00-07f785727140 & false & KT00026 & Flu Year 1 Day 0 & N/A - Flu-Series Timepoint Only & ⋯ & NA & 2019-11-25 & 2021-03-03 & 2021-03-31 & no & Positive & <25-BMI   & B078-P2\\_PB00026-05\\_2021-08-19T17:09:29.934849811Z\\_labeled.h5 & /home/jupyter/BRI\\_Analysis/scRNA/cache/139d1b1f-75d8-40ab-bcb5-70bd2cde9800/B078-P2\\_PB00026-05\\_2021-08-19T17:09:29.934849811Z\\_labeled.h5 & IL1B..CD14.monocyte.PB00026.05\\_Male\\_BR1\\\\\n",
       "\\end{tabular}\n"
      ],
      "text/markdown": [
       "\n",
       "A data.frame: 6 × 38\n",
       "\n",
       "| <!--/--> | ID &lt;chr&gt; | pbmc_sample_id &lt;chr&gt; | X.1 &lt;int&gt; | X &lt;int&gt; | lastUpdated &lt;chr&gt; | sample.id &lt;chr&gt; | sample.bridgingControl &lt;chr&gt; | sample.sampleKitGuid &lt;chr&gt; | sample.visitName &lt;chr&gt; | sample.visitDetails &lt;chr&gt; | ⋯ ⋯ | Sample_ID &lt;lgl&gt; | Sample_Draw_date &lt;chr&gt; | Covid_Dose_1 &lt;chr&gt; | Covid_Dose_2 &lt;chr&gt; | Covid_exlcusion &lt;chr&gt; | CMV.IgG.Serology.Result.Interpretation &lt;chr&gt; | BMI &lt;chr&gt; | file.name.downloaded &lt;chr&gt; | file.path &lt;chr&gt; | Gene &lt;chr&gt; |\n",
       "|---|---|---|---|---|---|---|---|---|---|---|---|---|---|---|---|---|---|---|---|---|---|\n",
       "| IL1B..CD14.monocyte.PB00002.01_Male_BR1 | IL1B..CD14.monocyte.PB00002.01_Male_BR1 | PB00002-01 |  2 |  2 | 2023-11-18T02:03:08.347Z | 750e90a9-a296-4f0f-969f-60225c2bca17 | false | KT00002 | Flu Year 1 Day 0 | N/A - Flu-Series Timepoint Only | ⋯ | NA | 2019-10-15 | 2020-12-28 | 2021-01-18 | no | Negative | &lt;25-BMI   | B001-P1_PB00002-01_labeled.h5                                | /home/jupyter/BRI_Analysis/scRNA/cache/7c0c7979-eebd-4aba-b5b2-6e76b4643623/B001-P1_PB00002-01_labeled.h5                                | IL1B..CD14.monocyte.PB00002.01_Male_BR1 |\n",
       "| IL1B..CD14.monocyte.PB00004.01_Male_BR1 | IL1B..CD14.monocyte.PB00004.01_Male_BR1 | PB00004-01 |  4 |  4 | 2023-11-19T10:34:34.12Z  | f04693c5-563c-4b5b-ae58-877d0d9ae2fe | false | KT00004 | Flu Year 1 Day 0 | N/A - Flu-Series Timepoint Only | ⋯ | NA | 2019-10-21 | 2021-04-16 | 2021-05-06 | no | Negative | &lt;25-BMI   | B002-P1_PB00004-01_2023-11-17T21:36:51.794326181Z_labeled.h5 | /home/jupyter/BRI_Analysis/scRNA/cache/68fbcd34-1d63-461d-8195-df5b8dc61b31/B002-P1_PB00004-01_2023-11-17T21:36:51.794326181Z_labeled.h5 | IL1B..CD14.monocyte.PB00004.01_Male_BR1 |\n",
       "| IL1B..CD14.monocyte.PB00010.02_Male_BR1 | IL1B..CD14.monocyte.PB00010.02_Male_BR1 | PB00010-02 |  6 |  6 | 2023-11-18T02:03:08.347Z | f32ac061-0ede-4040-8d8c-35229ea5229c | false | KT00010 | Flu Year 1 Day 0 | N/A - Flu-Series Timepoint Only | ⋯ | NA | 2019-10-28 | 2021-03-21 | 2021-04-18 | no | Negative | &gt;25-30BMI | B078-P2_PB00010-02_2021-08-19T17:09:29.934849811Z_labeled.h5 | /home/jupyter/BRI_Analysis/scRNA/cache/237e41df-5616-4852-8a8f-b32835c9efcb/B078-P2_PB00010-02_2021-08-19T17:09:29.934849811Z_labeled.h5 | IL1B..CD14.monocyte.PB00010.02_Male_BR1 |\n",
       "| IL1B..CD14.monocyte.PB00014.01_Male_BR1 | IL1B..CD14.monocyte.PB00014.01_Male_BR1 | PB00014-01 |  8 |  8 | 2023-11-19T08:45:57.633Z | 77c1dad3-605d-4f94-b163-8be9c62d3bc5 | false | KT00014 | Flu Year 1 Day 0 | N/A - Flu-Series Timepoint Only | ⋯ | NA | 2019-10-30 | 2021-02-09 | 2021-03-06 | no | Positive | &lt;25-BMI   | B002-P1_PB00014-01_2023-11-17T21:36:51.794326181Z_labeled.h5 | /home/jupyter/BRI_Analysis/scRNA/cache/fbcbf51d-90f8-46ff-bd21-2f56d65306ad/B002-P1_PB00014-01_2023-11-17T21:36:51.794326181Z_labeled.h5 | IL1B..CD14.monocyte.PB00014.01_Male_BR1 |\n",
       "| IL1B..CD14.monocyte.PB00025.04_Male_BR1 | IL1B..CD14.monocyte.PB00025.04_Male_BR1 | PB00025-04 | 13 | 13 | 2023-11-18T02:03:08.347Z | fc01c04c-7213-471f-8510-1785f9dee039 | false | KT00025 | Flu Year 1 Day 0 | N/A - Flu-Series Timepoint Only | ⋯ | NA | 2019-11-25 | 2021-01-29 | 2021-02-19 | no | Negative | &lt;25-BMI   | B078-P2_PB00025-04_2021-08-19T17:09:29.934849811Z_labeled.h5 | /home/jupyter/BRI_Analysis/scRNA/cache/247d580e-7b47-4f59-bc37-6e29188b7aff/B078-P2_PB00025-04_2021-08-19T17:09:29.934849811Z_labeled.h5 | IL1B..CD14.monocyte.PB00025.04_Male_BR1 |\n",
       "| IL1B..CD14.monocyte.PB00026.05_Male_BR1 | IL1B..CD14.monocyte.PB00026.05_Male_BR1 | PB00026-05 | 14 | 14 | 2023-11-18T02:03:08.347Z | 731b2c57-1bf5-4764-8a00-07f785727140 | false | KT00026 | Flu Year 1 Day 0 | N/A - Flu-Series Timepoint Only | ⋯ | NA | 2019-11-25 | 2021-03-03 | 2021-03-31 | no | Positive | &lt;25-BMI   | B078-P2_PB00026-05_2021-08-19T17:09:29.934849811Z_labeled.h5 | /home/jupyter/BRI_Analysis/scRNA/cache/139d1b1f-75d8-40ab-bcb5-70bd2cde9800/B078-P2_PB00026-05_2021-08-19T17:09:29.934849811Z_labeled.h5 | IL1B..CD14.monocyte.PB00026.05_Male_BR1 |\n",
       "\n"
      ],
      "text/plain": [
       "                                        ID                                     \n",
       "IL1B..CD14.monocyte.PB00002.01_Male_BR1 IL1B..CD14.monocyte.PB00002.01_Male_BR1\n",
       "IL1B..CD14.monocyte.PB00004.01_Male_BR1 IL1B..CD14.monocyte.PB00004.01_Male_BR1\n",
       "IL1B..CD14.monocyte.PB00010.02_Male_BR1 IL1B..CD14.monocyte.PB00010.02_Male_BR1\n",
       "IL1B..CD14.monocyte.PB00014.01_Male_BR1 IL1B..CD14.monocyte.PB00014.01_Male_BR1\n",
       "IL1B..CD14.monocyte.PB00025.04_Male_BR1 IL1B..CD14.monocyte.PB00025.04_Male_BR1\n",
       "IL1B..CD14.monocyte.PB00026.05_Male_BR1 IL1B..CD14.monocyte.PB00026.05_Male_BR1\n",
       "                                        pbmc_sample_id X.1 X \n",
       "IL1B..CD14.monocyte.PB00002.01_Male_BR1 PB00002-01      2   2\n",
       "IL1B..CD14.monocyte.PB00004.01_Male_BR1 PB00004-01      4   4\n",
       "IL1B..CD14.monocyte.PB00010.02_Male_BR1 PB00010-02      6   6\n",
       "IL1B..CD14.monocyte.PB00014.01_Male_BR1 PB00014-01      8   8\n",
       "IL1B..CD14.monocyte.PB00025.04_Male_BR1 PB00025-04     13  13\n",
       "IL1B..CD14.monocyte.PB00026.05_Male_BR1 PB00026-05     14  14\n",
       "                                        lastUpdated             \n",
       "IL1B..CD14.monocyte.PB00002.01_Male_BR1 2023-11-18T02:03:08.347Z\n",
       "IL1B..CD14.monocyte.PB00004.01_Male_BR1 2023-11-19T10:34:34.12Z \n",
       "IL1B..CD14.monocyte.PB00010.02_Male_BR1 2023-11-18T02:03:08.347Z\n",
       "IL1B..CD14.monocyte.PB00014.01_Male_BR1 2023-11-19T08:45:57.633Z\n",
       "IL1B..CD14.monocyte.PB00025.04_Male_BR1 2023-11-18T02:03:08.347Z\n",
       "IL1B..CD14.monocyte.PB00026.05_Male_BR1 2023-11-18T02:03:08.347Z\n",
       "                                        sample.id                           \n",
       "IL1B..CD14.monocyte.PB00002.01_Male_BR1 750e90a9-a296-4f0f-969f-60225c2bca17\n",
       "IL1B..CD14.monocyte.PB00004.01_Male_BR1 f04693c5-563c-4b5b-ae58-877d0d9ae2fe\n",
       "IL1B..CD14.monocyte.PB00010.02_Male_BR1 f32ac061-0ede-4040-8d8c-35229ea5229c\n",
       "IL1B..CD14.monocyte.PB00014.01_Male_BR1 77c1dad3-605d-4f94-b163-8be9c62d3bc5\n",
       "IL1B..CD14.monocyte.PB00025.04_Male_BR1 fc01c04c-7213-471f-8510-1785f9dee039\n",
       "IL1B..CD14.monocyte.PB00026.05_Male_BR1 731b2c57-1bf5-4764-8a00-07f785727140\n",
       "                                        sample.bridgingControl\n",
       "IL1B..CD14.monocyte.PB00002.01_Male_BR1 false                 \n",
       "IL1B..CD14.monocyte.PB00004.01_Male_BR1 false                 \n",
       "IL1B..CD14.monocyte.PB00010.02_Male_BR1 false                 \n",
       "IL1B..CD14.monocyte.PB00014.01_Male_BR1 false                 \n",
       "IL1B..CD14.monocyte.PB00025.04_Male_BR1 false                 \n",
       "IL1B..CD14.monocyte.PB00026.05_Male_BR1 false                 \n",
       "                                        sample.sampleKitGuid sample.visitName\n",
       "IL1B..CD14.monocyte.PB00002.01_Male_BR1 KT00002              Flu Year 1 Day 0\n",
       "IL1B..CD14.monocyte.PB00004.01_Male_BR1 KT00004              Flu Year 1 Day 0\n",
       "IL1B..CD14.monocyte.PB00010.02_Male_BR1 KT00010              Flu Year 1 Day 0\n",
       "IL1B..CD14.monocyte.PB00014.01_Male_BR1 KT00014              Flu Year 1 Day 0\n",
       "IL1B..CD14.monocyte.PB00025.04_Male_BR1 KT00025              Flu Year 1 Day 0\n",
       "IL1B..CD14.monocyte.PB00026.05_Male_BR1 KT00026              Flu Year 1 Day 0\n",
       "                                        sample.visitDetails             ⋯\n",
       "IL1B..CD14.monocyte.PB00002.01_Male_BR1 N/A - Flu-Series Timepoint Only ⋯\n",
       "IL1B..CD14.monocyte.PB00004.01_Male_BR1 N/A - Flu-Series Timepoint Only ⋯\n",
       "IL1B..CD14.monocyte.PB00010.02_Male_BR1 N/A - Flu-Series Timepoint Only ⋯\n",
       "IL1B..CD14.monocyte.PB00014.01_Male_BR1 N/A - Flu-Series Timepoint Only ⋯\n",
       "IL1B..CD14.monocyte.PB00025.04_Male_BR1 N/A - Flu-Series Timepoint Only ⋯\n",
       "IL1B..CD14.monocyte.PB00026.05_Male_BR1 N/A - Flu-Series Timepoint Only ⋯\n",
       "                                        Sample_ID Sample_Draw_date Covid_Dose_1\n",
       "IL1B..CD14.monocyte.PB00002.01_Male_BR1 NA        2019-10-15       2020-12-28  \n",
       "IL1B..CD14.monocyte.PB00004.01_Male_BR1 NA        2019-10-21       2021-04-16  \n",
       "IL1B..CD14.monocyte.PB00010.02_Male_BR1 NA        2019-10-28       2021-03-21  \n",
       "IL1B..CD14.monocyte.PB00014.01_Male_BR1 NA        2019-10-30       2021-02-09  \n",
       "IL1B..CD14.monocyte.PB00025.04_Male_BR1 NA        2019-11-25       2021-01-29  \n",
       "IL1B..CD14.monocyte.PB00026.05_Male_BR1 NA        2019-11-25       2021-03-03  \n",
       "                                        Covid_Dose_2 Covid_exlcusion\n",
       "IL1B..CD14.monocyte.PB00002.01_Male_BR1 2021-01-18   no             \n",
       "IL1B..CD14.monocyte.PB00004.01_Male_BR1 2021-05-06   no             \n",
       "IL1B..CD14.monocyte.PB00010.02_Male_BR1 2021-04-18   no             \n",
       "IL1B..CD14.monocyte.PB00014.01_Male_BR1 2021-03-06   no             \n",
       "IL1B..CD14.monocyte.PB00025.04_Male_BR1 2021-02-19   no             \n",
       "IL1B..CD14.monocyte.PB00026.05_Male_BR1 2021-03-31   no             \n",
       "                                        CMV.IgG.Serology.Result.Interpretation\n",
       "IL1B..CD14.monocyte.PB00002.01_Male_BR1 Negative                              \n",
       "IL1B..CD14.monocyte.PB00004.01_Male_BR1 Negative                              \n",
       "IL1B..CD14.monocyte.PB00010.02_Male_BR1 Negative                              \n",
       "IL1B..CD14.monocyte.PB00014.01_Male_BR1 Positive                              \n",
       "IL1B..CD14.monocyte.PB00025.04_Male_BR1 Negative                              \n",
       "IL1B..CD14.monocyte.PB00026.05_Male_BR1 Positive                              \n",
       "                                        BMI      \n",
       "IL1B..CD14.monocyte.PB00002.01_Male_BR1 <25-BMI  \n",
       "IL1B..CD14.monocyte.PB00004.01_Male_BR1 <25-BMI  \n",
       "IL1B..CD14.monocyte.PB00010.02_Male_BR1 >25-30BMI\n",
       "IL1B..CD14.monocyte.PB00014.01_Male_BR1 <25-BMI  \n",
       "IL1B..CD14.monocyte.PB00025.04_Male_BR1 <25-BMI  \n",
       "IL1B..CD14.monocyte.PB00026.05_Male_BR1 <25-BMI  \n",
       "                                        file.name.downloaded                                        \n",
       "IL1B..CD14.monocyte.PB00002.01_Male_BR1 B001-P1_PB00002-01_labeled.h5                               \n",
       "IL1B..CD14.monocyte.PB00004.01_Male_BR1 B002-P1_PB00004-01_2023-11-17T21:36:51.794326181Z_labeled.h5\n",
       "IL1B..CD14.monocyte.PB00010.02_Male_BR1 B078-P2_PB00010-02_2021-08-19T17:09:29.934849811Z_labeled.h5\n",
       "IL1B..CD14.monocyte.PB00014.01_Male_BR1 B002-P1_PB00014-01_2023-11-17T21:36:51.794326181Z_labeled.h5\n",
       "IL1B..CD14.monocyte.PB00025.04_Male_BR1 B078-P2_PB00025-04_2021-08-19T17:09:29.934849811Z_labeled.h5\n",
       "IL1B..CD14.monocyte.PB00026.05_Male_BR1 B078-P2_PB00026-05_2021-08-19T17:09:29.934849811Z_labeled.h5\n",
       "                                        file.path                                                                                                                               \n",
       "IL1B..CD14.monocyte.PB00002.01_Male_BR1 /home/jupyter/BRI_Analysis/scRNA/cache/7c0c7979-eebd-4aba-b5b2-6e76b4643623/B001-P1_PB00002-01_labeled.h5                               \n",
       "IL1B..CD14.monocyte.PB00004.01_Male_BR1 /home/jupyter/BRI_Analysis/scRNA/cache/68fbcd34-1d63-461d-8195-df5b8dc61b31/B002-P1_PB00004-01_2023-11-17T21:36:51.794326181Z_labeled.h5\n",
       "IL1B..CD14.monocyte.PB00010.02_Male_BR1 /home/jupyter/BRI_Analysis/scRNA/cache/237e41df-5616-4852-8a8f-b32835c9efcb/B078-P2_PB00010-02_2021-08-19T17:09:29.934849811Z_labeled.h5\n",
       "IL1B..CD14.monocyte.PB00014.01_Male_BR1 /home/jupyter/BRI_Analysis/scRNA/cache/fbcbf51d-90f8-46ff-bd21-2f56d65306ad/B002-P1_PB00014-01_2023-11-17T21:36:51.794326181Z_labeled.h5\n",
       "IL1B..CD14.monocyte.PB00025.04_Male_BR1 /home/jupyter/BRI_Analysis/scRNA/cache/247d580e-7b47-4f59-bc37-6e29188b7aff/B078-P2_PB00025-04_2021-08-19T17:09:29.934849811Z_labeled.h5\n",
       "IL1B..CD14.monocyte.PB00026.05_Male_BR1 /home/jupyter/BRI_Analysis/scRNA/cache/139d1b1f-75d8-40ab-bcb5-70bd2cde9800/B078-P2_PB00026-05_2021-08-19T17:09:29.934849811Z_labeled.h5\n",
       "                                        Gene                                   \n",
       "IL1B..CD14.monocyte.PB00002.01_Male_BR1 IL1B..CD14.monocyte.PB00002.01_Male_BR1\n",
       "IL1B..CD14.monocyte.PB00004.01_Male_BR1 IL1B..CD14.monocyte.PB00004.01_Male_BR1\n",
       "IL1B..CD14.monocyte.PB00010.02_Male_BR1 IL1B..CD14.monocyte.PB00010.02_Male_BR1\n",
       "IL1B..CD14.monocyte.PB00014.01_Male_BR1 IL1B..CD14.monocyte.PB00014.01_Male_BR1\n",
       "IL1B..CD14.monocyte.PB00025.04_Male_BR1 IL1B..CD14.monocyte.PB00025.04_Male_BR1\n",
       "IL1B..CD14.monocyte.PB00026.05_Male_BR1 IL1B..CD14.monocyte.PB00026.05_Male_BR1"
      ]
     },
     "metadata": {},
     "output_type": "display_data"
    }
   ],
   "source": [
    "merged_df['Gene']= rownames(merged_df)\n",
    "head(merged_df)"
   ]
  },
  {
   "cell_type": "code",
   "execution_count": 87,
   "id": "b056909b-7752-48ab-82e5-d2cc222be5ab",
   "metadata": {},
   "outputs": [],
   "source": [
    "df <- mean_df %>% filter (Gene %in% c('KLRC2','GZMH'))"
   ]
  },
  {
   "cell_type": "code",
   "execution_count": 89,
   "id": "6ee169ac-d10e-4c15-8f2d-5e9e90ebf947",
   "metadata": {},
   "outputs": [
    {
     "data": {
      "text/html": [
       "<table class=\"dataframe\">\n",
       "<caption>A data.frame: 2 × 93</caption>\n",
       "<thead>\n",
       "\t<tr><th></th><th scope=col>Adaptive.NK.cell.BR1001_Negative</th><th scope=col>Adaptive.NK.cell.BR1002_Negative</th><th scope=col>Adaptive.NK.cell.BR1003_Negative</th><th scope=col>Adaptive.NK.cell.BR1004_Negative</th><th scope=col>Adaptive.NK.cell.BR1005_Negative</th><th scope=col>Adaptive.NK.cell.BR1006_Negative</th><th scope=col>Adaptive.NK.cell.BR1007_Positive</th><th scope=col>Adaptive.NK.cell.BR1008_Positive</th><th scope=col>Adaptive.NK.cell.BR1009_Negative</th><th scope=col>Adaptive.NK.cell.BR1010_Positive</th><th scope=col>⋯</th><th scope=col>Adaptive.NK.cell.BR2044_Positive</th><th scope=col>Adaptive.NK.cell.BR2045_Positive</th><th scope=col>Adaptive.NK.cell.BR2046_Negative</th><th scope=col>Adaptive.NK.cell.BR2047_Positive</th><th scope=col>Adaptive.NK.cell.BR2048_Positive</th><th scope=col>Adaptive.NK.cell.BR2050_Negative</th><th scope=col>Adaptive.NK.cell.BR2051_Positive</th><th scope=col>Adaptive.NK.cell.BR2052_Positive</th><th scope=col>Adaptive.NK.cell.BR2053_Positive</th><th scope=col>Gene</th></tr>\n",
       "\t<tr><th></th><th scope=col>&lt;dbl&gt;</th><th scope=col>&lt;dbl&gt;</th><th scope=col>&lt;dbl&gt;</th><th scope=col>&lt;dbl&gt;</th><th scope=col>&lt;dbl&gt;</th><th scope=col>&lt;dbl&gt;</th><th scope=col>&lt;dbl&gt;</th><th scope=col>&lt;dbl&gt;</th><th scope=col>&lt;dbl&gt;</th><th scope=col>&lt;dbl&gt;</th><th scope=col>⋯</th><th scope=col>&lt;dbl&gt;</th><th scope=col>&lt;dbl&gt;</th><th scope=col>&lt;dbl&gt;</th><th scope=col>&lt;dbl&gt;</th><th scope=col>&lt;dbl&gt;</th><th scope=col>&lt;dbl&gt;</th><th scope=col>&lt;dbl&gt;</th><th scope=col>&lt;dbl&gt;</th><th scope=col>&lt;dbl&gt;</th><th scope=col>&lt;chr&gt;</th></tr>\n",
       "</thead>\n",
       "<tbody>\n",
       "\t<tr><th scope=row>KLRC2</th><td>-0.4206476</td><td>-0.3138081</td><td>-0.5280408</td><td>-0.1684187</td><td>-1.0480218</td><td>-0.5387029</td><td>0.49156614</td><td>-0.16967898</td><td>-0.8947326</td><td>-0.1007049</td><td>⋯</td><td>-0.8445850</td><td>-0.43405411</td><td>-0.6423869</td><td>-0.18741646</td><td>-0.529724</td><td>-0.5368482</td><td>-0.6541208</td><td>-0.4101491</td><td>-0.37263238</td><td>KLRC2</td></tr>\n",
       "\t<tr><th scope=row>GZMH</th><td>-0.5318473</td><td>-0.9315045</td><td>-0.7492531</td><td>-0.7541114</td><td> 0.2259409</td><td>-0.2669601</td><td>0.07601297</td><td>-0.01230949</td><td>-0.2244112</td><td>-0.1416556</td><td>⋯</td><td> 0.1190748</td><td> 0.02443884</td><td>-0.5037663</td><td>-0.02660622</td><td>-0.146640</td><td>-0.2420380</td><td>-0.4915373</td><td>-0.4213825</td><td>-0.07151783</td><td>GZMH </td></tr>\n",
       "</tbody>\n",
       "</table>\n"
      ],
      "text/latex": [
       "A data.frame: 2 × 93\n",
       "\\begin{tabular}{r|lllllllllllllllllllll}\n",
       "  & Adaptive.NK.cell.BR1001\\_Negative & Adaptive.NK.cell.BR1002\\_Negative & Adaptive.NK.cell.BR1003\\_Negative & Adaptive.NK.cell.BR1004\\_Negative & Adaptive.NK.cell.BR1005\\_Negative & Adaptive.NK.cell.BR1006\\_Negative & Adaptive.NK.cell.BR1007\\_Positive & Adaptive.NK.cell.BR1008\\_Positive & Adaptive.NK.cell.BR1009\\_Negative & Adaptive.NK.cell.BR1010\\_Positive & ⋯ & Adaptive.NK.cell.BR2044\\_Positive & Adaptive.NK.cell.BR2045\\_Positive & Adaptive.NK.cell.BR2046\\_Negative & Adaptive.NK.cell.BR2047\\_Positive & Adaptive.NK.cell.BR2048\\_Positive & Adaptive.NK.cell.BR2050\\_Negative & Adaptive.NK.cell.BR2051\\_Positive & Adaptive.NK.cell.BR2052\\_Positive & Adaptive.NK.cell.BR2053\\_Positive & Gene\\\\\n",
       "  & <dbl> & <dbl> & <dbl> & <dbl> & <dbl> & <dbl> & <dbl> & <dbl> & <dbl> & <dbl> & ⋯ & <dbl> & <dbl> & <dbl> & <dbl> & <dbl> & <dbl> & <dbl> & <dbl> & <dbl> & <chr>\\\\\n",
       "\\hline\n",
       "\tKLRC2 & -0.4206476 & -0.3138081 & -0.5280408 & -0.1684187 & -1.0480218 & -0.5387029 & 0.49156614 & -0.16967898 & -0.8947326 & -0.1007049 & ⋯ & -0.8445850 & -0.43405411 & -0.6423869 & -0.18741646 & -0.529724 & -0.5368482 & -0.6541208 & -0.4101491 & -0.37263238 & KLRC2\\\\\n",
       "\tGZMH & -0.5318473 & -0.9315045 & -0.7492531 & -0.7541114 &  0.2259409 & -0.2669601 & 0.07601297 & -0.01230949 & -0.2244112 & -0.1416556 & ⋯ &  0.1190748 &  0.02443884 & -0.5037663 & -0.02660622 & -0.146640 & -0.2420380 & -0.4915373 & -0.4213825 & -0.07151783 & GZMH \\\\\n",
       "\\end{tabular}\n"
      ],
      "text/markdown": [
       "\n",
       "A data.frame: 2 × 93\n",
       "\n",
       "| <!--/--> | Adaptive.NK.cell.BR1001_Negative &lt;dbl&gt; | Adaptive.NK.cell.BR1002_Negative &lt;dbl&gt; | Adaptive.NK.cell.BR1003_Negative &lt;dbl&gt; | Adaptive.NK.cell.BR1004_Negative &lt;dbl&gt; | Adaptive.NK.cell.BR1005_Negative &lt;dbl&gt; | Adaptive.NK.cell.BR1006_Negative &lt;dbl&gt; | Adaptive.NK.cell.BR1007_Positive &lt;dbl&gt; | Adaptive.NK.cell.BR1008_Positive &lt;dbl&gt; | Adaptive.NK.cell.BR1009_Negative &lt;dbl&gt; | Adaptive.NK.cell.BR1010_Positive &lt;dbl&gt; | ⋯ ⋯ | Adaptive.NK.cell.BR2044_Positive &lt;dbl&gt; | Adaptive.NK.cell.BR2045_Positive &lt;dbl&gt; | Adaptive.NK.cell.BR2046_Negative &lt;dbl&gt; | Adaptive.NK.cell.BR2047_Positive &lt;dbl&gt; | Adaptive.NK.cell.BR2048_Positive &lt;dbl&gt; | Adaptive.NK.cell.BR2050_Negative &lt;dbl&gt; | Adaptive.NK.cell.BR2051_Positive &lt;dbl&gt; | Adaptive.NK.cell.BR2052_Positive &lt;dbl&gt; | Adaptive.NK.cell.BR2053_Positive &lt;dbl&gt; | Gene &lt;chr&gt; |\n",
       "|---|---|---|---|---|---|---|---|---|---|---|---|---|---|---|---|---|---|---|---|---|---|\n",
       "| KLRC2 | -0.4206476 | -0.3138081 | -0.5280408 | -0.1684187 | -1.0480218 | -0.5387029 | 0.49156614 | -0.16967898 | -0.8947326 | -0.1007049 | ⋯ | -0.8445850 | -0.43405411 | -0.6423869 | -0.18741646 | -0.529724 | -0.5368482 | -0.6541208 | -0.4101491 | -0.37263238 | KLRC2 |\n",
       "| GZMH | -0.5318473 | -0.9315045 | -0.7492531 | -0.7541114 |  0.2259409 | -0.2669601 | 0.07601297 | -0.01230949 | -0.2244112 | -0.1416556 | ⋯ |  0.1190748 |  0.02443884 | -0.5037663 | -0.02660622 | -0.146640 | -0.2420380 | -0.4915373 | -0.4213825 | -0.07151783 | GZMH  |\n",
       "\n"
      ],
      "text/plain": [
       "      Adaptive.NK.cell.BR1001_Negative Adaptive.NK.cell.BR1002_Negative\n",
       "KLRC2 -0.4206476                       -0.3138081                      \n",
       "GZMH  -0.5318473                       -0.9315045                      \n",
       "      Adaptive.NK.cell.BR1003_Negative Adaptive.NK.cell.BR1004_Negative\n",
       "KLRC2 -0.5280408                       -0.1684187                      \n",
       "GZMH  -0.7492531                       -0.7541114                      \n",
       "      Adaptive.NK.cell.BR1005_Negative Adaptive.NK.cell.BR1006_Negative\n",
       "KLRC2 -1.0480218                       -0.5387029                      \n",
       "GZMH   0.2259409                       -0.2669601                      \n",
       "      Adaptive.NK.cell.BR1007_Positive Adaptive.NK.cell.BR1008_Positive\n",
       "KLRC2 0.49156614                       -0.16967898                     \n",
       "GZMH  0.07601297                       -0.01230949                     \n",
       "      Adaptive.NK.cell.BR1009_Negative Adaptive.NK.cell.BR1010_Positive ⋯\n",
       "KLRC2 -0.8947326                       -0.1007049                       ⋯\n",
       "GZMH  -0.2244112                       -0.1416556                       ⋯\n",
       "      Adaptive.NK.cell.BR2044_Positive Adaptive.NK.cell.BR2045_Positive\n",
       "KLRC2 -0.8445850                       -0.43405411                     \n",
       "GZMH   0.1190748                        0.02443884                     \n",
       "      Adaptive.NK.cell.BR2046_Negative Adaptive.NK.cell.BR2047_Positive\n",
       "KLRC2 -0.6423869                       -0.18741646                     \n",
       "GZMH  -0.5037663                       -0.02660622                     \n",
       "      Adaptive.NK.cell.BR2048_Positive Adaptive.NK.cell.BR2050_Negative\n",
       "KLRC2 -0.529724                        -0.5368482                      \n",
       "GZMH  -0.146640                        -0.2420380                      \n",
       "      Adaptive.NK.cell.BR2051_Positive Adaptive.NK.cell.BR2052_Positive\n",
       "KLRC2 -0.6541208                       -0.4101491                      \n",
       "GZMH  -0.4915373                       -0.4213825                      \n",
       "      Adaptive.NK.cell.BR2053_Positive Gene \n",
       "KLRC2 -0.37263238                      KLRC2\n",
       "GZMH  -0.07151783                      GZMH "
      ]
     },
     "metadata": {},
     "output_type": "display_data"
    }
   ],
   "source": [
    "df"
   ]
  },
  {
   "cell_type": "code",
   "execution_count": 90,
   "id": "251d9a3c-e800-4a4b-b0ad-d10655f82363",
   "metadata": {},
   "outputs": [],
   "source": [
    "df <- df[,!(names(df) %in% c('Gene'))]"
   ]
  },
  {
   "cell_type": "code",
   "execution_count": 91,
   "id": "78e57fea-3691-4f9a-865f-e845e2675f27",
   "metadata": {},
   "outputs": [
    {
     "data": {
      "text/html": [
       "<table class=\"dataframe\">\n",
       "<caption>A data.frame: 2 × 92</caption>\n",
       "<thead>\n",
       "\t<tr><th></th><th scope=col>Adaptive.NK.cell.BR1001_Negative</th><th scope=col>Adaptive.NK.cell.BR1002_Negative</th><th scope=col>Adaptive.NK.cell.BR1003_Negative</th><th scope=col>Adaptive.NK.cell.BR1004_Negative</th><th scope=col>Adaptive.NK.cell.BR1005_Negative</th><th scope=col>Adaptive.NK.cell.BR1006_Negative</th><th scope=col>Adaptive.NK.cell.BR1007_Positive</th><th scope=col>Adaptive.NK.cell.BR1008_Positive</th><th scope=col>Adaptive.NK.cell.BR1009_Negative</th><th scope=col>Adaptive.NK.cell.BR1010_Positive</th><th scope=col>⋯</th><th scope=col>Adaptive.NK.cell.BR2043_Positive</th><th scope=col>Adaptive.NK.cell.BR2044_Positive</th><th scope=col>Adaptive.NK.cell.BR2045_Positive</th><th scope=col>Adaptive.NK.cell.BR2046_Negative</th><th scope=col>Adaptive.NK.cell.BR2047_Positive</th><th scope=col>Adaptive.NK.cell.BR2048_Positive</th><th scope=col>Adaptive.NK.cell.BR2050_Negative</th><th scope=col>Adaptive.NK.cell.BR2051_Positive</th><th scope=col>Adaptive.NK.cell.BR2052_Positive</th><th scope=col>Adaptive.NK.cell.BR2053_Positive</th></tr>\n",
       "\t<tr><th></th><th scope=col>&lt;dbl&gt;</th><th scope=col>&lt;dbl&gt;</th><th scope=col>&lt;dbl&gt;</th><th scope=col>&lt;dbl&gt;</th><th scope=col>&lt;dbl&gt;</th><th scope=col>&lt;dbl&gt;</th><th scope=col>&lt;dbl&gt;</th><th scope=col>&lt;dbl&gt;</th><th scope=col>&lt;dbl&gt;</th><th scope=col>&lt;dbl&gt;</th><th scope=col>⋯</th><th scope=col>&lt;dbl&gt;</th><th scope=col>&lt;dbl&gt;</th><th scope=col>&lt;dbl&gt;</th><th scope=col>&lt;dbl&gt;</th><th scope=col>&lt;dbl&gt;</th><th scope=col>&lt;dbl&gt;</th><th scope=col>&lt;dbl&gt;</th><th scope=col>&lt;dbl&gt;</th><th scope=col>&lt;dbl&gt;</th><th scope=col>&lt;dbl&gt;</th></tr>\n",
       "</thead>\n",
       "<tbody>\n",
       "\t<tr><th scope=row>KLRC2</th><td>-0.4206476</td><td>-0.3138081</td><td>-0.5280408</td><td>-0.1684187</td><td>-1.0480218</td><td>-0.5387029</td><td>0.49156614</td><td>-0.16967898</td><td>-0.8947326</td><td>-0.1007049</td><td>⋯</td><td>-0.9318925</td><td>-0.8445850</td><td>-0.43405411</td><td>-0.6423869</td><td>-0.18741646</td><td>-0.529724</td><td>-0.5368482</td><td>-0.6541208</td><td>-0.4101491</td><td>-0.37263238</td></tr>\n",
       "\t<tr><th scope=row>GZMH</th><td>-0.5318473</td><td>-0.9315045</td><td>-0.7492531</td><td>-0.7541114</td><td> 0.2259409</td><td>-0.2669601</td><td>0.07601297</td><td>-0.01230949</td><td>-0.2244112</td><td>-0.1416556</td><td>⋯</td><td>-1.1824784</td><td> 0.1190748</td><td> 0.02443884</td><td>-0.5037663</td><td>-0.02660622</td><td>-0.146640</td><td>-0.2420380</td><td>-0.4915373</td><td>-0.4213825</td><td>-0.07151783</td></tr>\n",
       "</tbody>\n",
       "</table>\n"
      ],
      "text/latex": [
       "A data.frame: 2 × 92\n",
       "\\begin{tabular}{r|lllllllllllllllllllll}\n",
       "  & Adaptive.NK.cell.BR1001\\_Negative & Adaptive.NK.cell.BR1002\\_Negative & Adaptive.NK.cell.BR1003\\_Negative & Adaptive.NK.cell.BR1004\\_Negative & Adaptive.NK.cell.BR1005\\_Negative & Adaptive.NK.cell.BR1006\\_Negative & Adaptive.NK.cell.BR1007\\_Positive & Adaptive.NK.cell.BR1008\\_Positive & Adaptive.NK.cell.BR1009\\_Negative & Adaptive.NK.cell.BR1010\\_Positive & ⋯ & Adaptive.NK.cell.BR2043\\_Positive & Adaptive.NK.cell.BR2044\\_Positive & Adaptive.NK.cell.BR2045\\_Positive & Adaptive.NK.cell.BR2046\\_Negative & Adaptive.NK.cell.BR2047\\_Positive & Adaptive.NK.cell.BR2048\\_Positive & Adaptive.NK.cell.BR2050\\_Negative & Adaptive.NK.cell.BR2051\\_Positive & Adaptive.NK.cell.BR2052\\_Positive & Adaptive.NK.cell.BR2053\\_Positive\\\\\n",
       "  & <dbl> & <dbl> & <dbl> & <dbl> & <dbl> & <dbl> & <dbl> & <dbl> & <dbl> & <dbl> & ⋯ & <dbl> & <dbl> & <dbl> & <dbl> & <dbl> & <dbl> & <dbl> & <dbl> & <dbl> & <dbl>\\\\\n",
       "\\hline\n",
       "\tKLRC2 & -0.4206476 & -0.3138081 & -0.5280408 & -0.1684187 & -1.0480218 & -0.5387029 & 0.49156614 & -0.16967898 & -0.8947326 & -0.1007049 & ⋯ & -0.9318925 & -0.8445850 & -0.43405411 & -0.6423869 & -0.18741646 & -0.529724 & -0.5368482 & -0.6541208 & -0.4101491 & -0.37263238\\\\\n",
       "\tGZMH & -0.5318473 & -0.9315045 & -0.7492531 & -0.7541114 &  0.2259409 & -0.2669601 & 0.07601297 & -0.01230949 & -0.2244112 & -0.1416556 & ⋯ & -1.1824784 &  0.1190748 &  0.02443884 & -0.5037663 & -0.02660622 & -0.146640 & -0.2420380 & -0.4915373 & -0.4213825 & -0.07151783\\\\\n",
       "\\end{tabular}\n"
      ],
      "text/markdown": [
       "\n",
       "A data.frame: 2 × 92\n",
       "\n",
       "| <!--/--> | Adaptive.NK.cell.BR1001_Negative &lt;dbl&gt; | Adaptive.NK.cell.BR1002_Negative &lt;dbl&gt; | Adaptive.NK.cell.BR1003_Negative &lt;dbl&gt; | Adaptive.NK.cell.BR1004_Negative &lt;dbl&gt; | Adaptive.NK.cell.BR1005_Negative &lt;dbl&gt; | Adaptive.NK.cell.BR1006_Negative &lt;dbl&gt; | Adaptive.NK.cell.BR1007_Positive &lt;dbl&gt; | Adaptive.NK.cell.BR1008_Positive &lt;dbl&gt; | Adaptive.NK.cell.BR1009_Negative &lt;dbl&gt; | Adaptive.NK.cell.BR1010_Positive &lt;dbl&gt; | ⋯ ⋯ | Adaptive.NK.cell.BR2043_Positive &lt;dbl&gt; | Adaptive.NK.cell.BR2044_Positive &lt;dbl&gt; | Adaptive.NK.cell.BR2045_Positive &lt;dbl&gt; | Adaptive.NK.cell.BR2046_Negative &lt;dbl&gt; | Adaptive.NK.cell.BR2047_Positive &lt;dbl&gt; | Adaptive.NK.cell.BR2048_Positive &lt;dbl&gt; | Adaptive.NK.cell.BR2050_Negative &lt;dbl&gt; | Adaptive.NK.cell.BR2051_Positive &lt;dbl&gt; | Adaptive.NK.cell.BR2052_Positive &lt;dbl&gt; | Adaptive.NK.cell.BR2053_Positive &lt;dbl&gt; |\n",
       "|---|---|---|---|---|---|---|---|---|---|---|---|---|---|---|---|---|---|---|---|---|---|\n",
       "| KLRC2 | -0.4206476 | -0.3138081 | -0.5280408 | -0.1684187 | -1.0480218 | -0.5387029 | 0.49156614 | -0.16967898 | -0.8947326 | -0.1007049 | ⋯ | -0.9318925 | -0.8445850 | -0.43405411 | -0.6423869 | -0.18741646 | -0.529724 | -0.5368482 | -0.6541208 | -0.4101491 | -0.37263238 |\n",
       "| GZMH | -0.5318473 | -0.9315045 | -0.7492531 | -0.7541114 |  0.2259409 | -0.2669601 | 0.07601297 | -0.01230949 | -0.2244112 | -0.1416556 | ⋯ | -1.1824784 |  0.1190748 |  0.02443884 | -0.5037663 | -0.02660622 | -0.146640 | -0.2420380 | -0.4915373 | -0.4213825 | -0.07151783 |\n",
       "\n"
      ],
      "text/plain": [
       "      Adaptive.NK.cell.BR1001_Negative Adaptive.NK.cell.BR1002_Negative\n",
       "KLRC2 -0.4206476                       -0.3138081                      \n",
       "GZMH  -0.5318473                       -0.9315045                      \n",
       "      Adaptive.NK.cell.BR1003_Negative Adaptive.NK.cell.BR1004_Negative\n",
       "KLRC2 -0.5280408                       -0.1684187                      \n",
       "GZMH  -0.7492531                       -0.7541114                      \n",
       "      Adaptive.NK.cell.BR1005_Negative Adaptive.NK.cell.BR1006_Negative\n",
       "KLRC2 -1.0480218                       -0.5387029                      \n",
       "GZMH   0.2259409                       -0.2669601                      \n",
       "      Adaptive.NK.cell.BR1007_Positive Adaptive.NK.cell.BR1008_Positive\n",
       "KLRC2 0.49156614                       -0.16967898                     \n",
       "GZMH  0.07601297                       -0.01230949                     \n",
       "      Adaptive.NK.cell.BR1009_Negative Adaptive.NK.cell.BR1010_Positive ⋯\n",
       "KLRC2 -0.8947326                       -0.1007049                       ⋯\n",
       "GZMH  -0.2244112                       -0.1416556                       ⋯\n",
       "      Adaptive.NK.cell.BR2043_Positive Adaptive.NK.cell.BR2044_Positive\n",
       "KLRC2 -0.9318925                       -0.8445850                      \n",
       "GZMH  -1.1824784                        0.1190748                      \n",
       "      Adaptive.NK.cell.BR2045_Positive Adaptive.NK.cell.BR2046_Negative\n",
       "KLRC2 -0.43405411                      -0.6423869                      \n",
       "GZMH   0.02443884                      -0.5037663                      \n",
       "      Adaptive.NK.cell.BR2047_Positive Adaptive.NK.cell.BR2048_Positive\n",
       "KLRC2 -0.18741646                      -0.529724                       \n",
       "GZMH  -0.02660622                      -0.146640                       \n",
       "      Adaptive.NK.cell.BR2050_Negative Adaptive.NK.cell.BR2051_Positive\n",
       "KLRC2 -0.5368482                       -0.6541208                      \n",
       "GZMH  -0.2420380                       -0.4915373                      \n",
       "      Adaptive.NK.cell.BR2052_Positive Adaptive.NK.cell.BR2053_Positive\n",
       "KLRC2 -0.4101491                       -0.37263238                     \n",
       "GZMH  -0.4213825                       -0.07151783                     "
      ]
     },
     "metadata": {},
     "output_type": "display_data"
    }
   ],
   "source": [
    "df"
   ]
  },
  {
   "cell_type": "code",
   "execution_count": 92,
   "id": "913dbfa8-0e90-43cf-897e-8d7c4936cdd4",
   "metadata": {},
   "outputs": [],
   "source": [
    "df <- df %>% t() %>% as.data.frame()"
   ]
  },
  {
   "cell_type": "code",
   "execution_count": 94,
   "id": "8ca62da9-41ef-4be3-8601-2bcdc84ba10b",
   "metadata": {},
   "outputs": [
    {
     "data": {
      "text/html": [
       "<style>\n",
       ".list-inline {list-style: none; margin:0; padding: 0}\n",
       ".list-inline>li {display: inline-block}\n",
       ".list-inline>li:not(:last-child)::after {content: \"\\00b7\"; padding: 0 .5ex}\n",
       "</style>\n",
       "<ol class=list-inline><li>92</li><li>2</li></ol>\n"
      ],
      "text/latex": [
       "\\begin{enumerate*}\n",
       "\\item 92\n",
       "\\item 2\n",
       "\\end{enumerate*}\n"
      ],
      "text/markdown": [
       "1. 92\n",
       "2. 2\n",
       "\n",
       "\n"
      ],
      "text/plain": [
       "[1] 92  2"
      ]
     },
     "metadata": {},
     "output_type": "display_data"
    }
   ],
   "source": [
    "dim(df)"
   ]
  },
  {
   "cell_type": "code",
   "execution_count": 95,
   "id": "18c476d8-7c9e-47fc-ad2a-f6711ea5d407",
   "metadata": {},
   "outputs": [
    {
     "data": {
      "text/html": [
       "<table class=\"dataframe\">\n",
       "<caption>A data.frame: 3 × 2</caption>\n",
       "<thead>\n",
       "\t<tr><th></th><th scope=col>KLRC2</th><th scope=col>GZMH</th></tr>\n",
       "\t<tr><th></th><th scope=col>&lt;dbl&gt;</th><th scope=col>&lt;dbl&gt;</th></tr>\n",
       "</thead>\n",
       "<tbody>\n",
       "\t<tr><th scope=row>Adaptive.NK.cell.BR1001_Negative</th><td>-0.4206476</td><td>-0.5318473</td></tr>\n",
       "\t<tr><th scope=row>Adaptive.NK.cell.BR1002_Negative</th><td>-0.3138081</td><td>-0.9315045</td></tr>\n",
       "\t<tr><th scope=row>Adaptive.NK.cell.BR1003_Negative</th><td>-0.5280408</td><td>-0.7492531</td></tr>\n",
       "</tbody>\n",
       "</table>\n"
      ],
      "text/latex": [
       "A data.frame: 3 × 2\n",
       "\\begin{tabular}{r|ll}\n",
       "  & KLRC2 & GZMH\\\\\n",
       "  & <dbl> & <dbl>\\\\\n",
       "\\hline\n",
       "\tAdaptive.NK.cell.BR1001\\_Negative & -0.4206476 & -0.5318473\\\\\n",
       "\tAdaptive.NK.cell.BR1002\\_Negative & -0.3138081 & -0.9315045\\\\\n",
       "\tAdaptive.NK.cell.BR1003\\_Negative & -0.5280408 & -0.7492531\\\\\n",
       "\\end{tabular}\n"
      ],
      "text/markdown": [
       "\n",
       "A data.frame: 3 × 2\n",
       "\n",
       "| <!--/--> | KLRC2 &lt;dbl&gt; | GZMH &lt;dbl&gt; |\n",
       "|---|---|---|\n",
       "| Adaptive.NK.cell.BR1001_Negative | -0.4206476 | -0.5318473 |\n",
       "| Adaptive.NK.cell.BR1002_Negative | -0.3138081 | -0.9315045 |\n",
       "| Adaptive.NK.cell.BR1003_Negative | -0.5280408 | -0.7492531 |\n",
       "\n"
      ],
      "text/plain": [
       "                                 KLRC2      GZMH      \n",
       "Adaptive.NK.cell.BR1001_Negative -0.4206476 -0.5318473\n",
       "Adaptive.NK.cell.BR1002_Negative -0.3138081 -0.9315045\n",
       "Adaptive.NK.cell.BR1003_Negative -0.5280408 -0.7492531"
      ]
     },
     "metadata": {},
     "output_type": "display_data"
    }
   ],
   "source": [
    "head(df, n=3)"
   ]
  },
  {
   "cell_type": "code",
   "execution_count": 96,
   "id": "2e87bde4-bca3-4bbb-b610-4484f964d169",
   "metadata": {},
   "outputs": [
    {
     "data": {
      "text/html": [
       "<style>\n",
       ".list-inline {list-style: none; margin:0; padding: 0}\n",
       ".list-inline>li {display: inline-block}\n",
       ".list-inline>li:not(:last-child)::after {content: \"\\00b7\"; padding: 0 .5ex}\n",
       "</style>\n",
       "<ol class=list-inline><li>92</li><li>6</li></ol>\n"
      ],
      "text/latex": [
       "\\begin{enumerate*}\n",
       "\\item 92\n",
       "\\item 6\n",
       "\\end{enumerate*}\n"
      ],
      "text/markdown": [
       "1. 92\n",
       "2. 6\n",
       "\n",
       "\n"
      ],
      "text/plain": [
       "[1] 92  6"
      ]
     },
     "metadata": {},
     "output_type": "display_data"
    }
   ],
   "source": [
    "dim(meta)"
   ]
  },
  {
   "cell_type": "code",
   "execution_count": 97,
   "id": "5a95abe3-f530-4e28-8a1b-0ef65c1d71a6",
   "metadata": {},
   "outputs": [
    {
     "data": {
      "text/html": [
       "<table class=\"dataframe\">\n",
       "<caption>A data.frame: 3 × 6</caption>\n",
       "<thead>\n",
       "\t<tr><th></th><th scope=col>colnames.mean_df.</th><th scope=col>Cell_Type</th><th scope=col>Sample</th><th scope=col>ptid</th><th scope=col>CMV</th><th scope=col>cohort</th></tr>\n",
       "\t<tr><th></th><th scope=col>&lt;chr&gt;</th><th scope=col>&lt;chr&gt;</th><th scope=col>&lt;chr&gt;</th><th scope=col>&lt;chr&gt;</th><th scope=col>&lt;chr&gt;</th><th scope=col>&lt;chr&gt;</th></tr>\n",
       "</thead>\n",
       "<tbody>\n",
       "\t<tr><th scope=row>Adaptive.NK.cell.BR1001_Negative</th><td>Adaptive.NK.cell.BR1001_Negative</td><td>Adaptive</td><td>BR1001_Negative</td><td>BR1001</td><td>Negative</td><td>BR1</td></tr>\n",
       "\t<tr><th scope=row>Adaptive.NK.cell.BR1002_Negative</th><td>Adaptive.NK.cell.BR1002_Negative</td><td>Adaptive</td><td>BR1002_Negative</td><td>BR1002</td><td>Negative</td><td>BR1</td></tr>\n",
       "\t<tr><th scope=row>Adaptive.NK.cell.BR1003_Negative</th><td>Adaptive.NK.cell.BR1003_Negative</td><td>Adaptive</td><td>BR1003_Negative</td><td>BR1003</td><td>Negative</td><td>BR1</td></tr>\n",
       "</tbody>\n",
       "</table>\n"
      ],
      "text/latex": [
       "A data.frame: 3 × 6\n",
       "\\begin{tabular}{r|llllll}\n",
       "  & colnames.mean\\_df. & Cell\\_Type & Sample & ptid & CMV & cohort\\\\\n",
       "  & <chr> & <chr> & <chr> & <chr> & <chr> & <chr>\\\\\n",
       "\\hline\n",
       "\tAdaptive.NK.cell.BR1001\\_Negative & Adaptive.NK.cell.BR1001\\_Negative & Adaptive & BR1001\\_Negative & BR1001 & Negative & BR1\\\\\n",
       "\tAdaptive.NK.cell.BR1002\\_Negative & Adaptive.NK.cell.BR1002\\_Negative & Adaptive & BR1002\\_Negative & BR1002 & Negative & BR1\\\\\n",
       "\tAdaptive.NK.cell.BR1003\\_Negative & Adaptive.NK.cell.BR1003\\_Negative & Adaptive & BR1003\\_Negative & BR1003 & Negative & BR1\\\\\n",
       "\\end{tabular}\n"
      ],
      "text/markdown": [
       "\n",
       "A data.frame: 3 × 6\n",
       "\n",
       "| <!--/--> | colnames.mean_df. &lt;chr&gt; | Cell_Type &lt;chr&gt; | Sample &lt;chr&gt; | ptid &lt;chr&gt; | CMV &lt;chr&gt; | cohort &lt;chr&gt; |\n",
       "|---|---|---|---|---|---|---|\n",
       "| Adaptive.NK.cell.BR1001_Negative | Adaptive.NK.cell.BR1001_Negative | Adaptive | BR1001_Negative | BR1001 | Negative | BR1 |\n",
       "| Adaptive.NK.cell.BR1002_Negative | Adaptive.NK.cell.BR1002_Negative | Adaptive | BR1002_Negative | BR1002 | Negative | BR1 |\n",
       "| Adaptive.NK.cell.BR1003_Negative | Adaptive.NK.cell.BR1003_Negative | Adaptive | BR1003_Negative | BR1003 | Negative | BR1 |\n",
       "\n"
      ],
      "text/plain": [
       "                                 colnames.mean_df.                Cell_Type\n",
       "Adaptive.NK.cell.BR1001_Negative Adaptive.NK.cell.BR1001_Negative Adaptive \n",
       "Adaptive.NK.cell.BR1002_Negative Adaptive.NK.cell.BR1002_Negative Adaptive \n",
       "Adaptive.NK.cell.BR1003_Negative Adaptive.NK.cell.BR1003_Negative Adaptive \n",
       "                                 Sample          ptid   CMV      cohort\n",
       "Adaptive.NK.cell.BR1001_Negative BR1001_Negative BR1001 Negative BR1   \n",
       "Adaptive.NK.cell.BR1002_Negative BR1002_Negative BR1002 Negative BR1   \n",
       "Adaptive.NK.cell.BR1003_Negative BR1003_Negative BR1003 Negative BR1   "
      ]
     },
     "metadata": {},
     "output_type": "display_data"
    }
   ],
   "source": [
    "head(meta, n=3)"
   ]
  },
  {
   "cell_type": "code",
   "execution_count": 105,
   "id": "bdf9c617-0a2d-4cdc-91c9-f78ee2023300",
   "metadata": {},
   "outputs": [
    {
     "data": {
      "text/html": [
       "<style>\n",
       ".list-inline {list-style: none; margin:0; padding: 0}\n",
       ".list-inline>li {display: inline-block}\n",
       ".list-inline>li:not(:last-child)::after {content: \"\\00b7\"; padding: 0 .5ex}\n",
       "</style>\n",
       "<ol class=list-inline><li>92</li><li>2</li></ol>\n"
      ],
      "text/latex": [
       "\\begin{enumerate*}\n",
       "\\item 92\n",
       "\\item 2\n",
       "\\end{enumerate*}\n"
      ],
      "text/markdown": [
       "1. 92\n",
       "2. 2\n",
       "\n",
       "\n"
      ],
      "text/plain": [
       "[1] 92  2"
      ]
     },
     "metadata": {},
     "output_type": "display_data"
    }
   ],
   "source": [
    "dim(df)"
   ]
  },
  {
   "cell_type": "code",
   "execution_count": 107,
   "id": "fbbc89ee-9111-48d1-a9ca-d71417777589",
   "metadata": {},
   "outputs": [],
   "source": [
    "df['name']= rownames(df)"
   ]
  },
  {
   "cell_type": "code",
   "execution_count": 108,
   "id": "99d641da-732a-4ace-8a02-072ad0ada116",
   "metadata": {},
   "outputs": [
    {
     "data": {
      "text/html": [
       "<table class=\"dataframe\">\n",
       "<caption>A data.frame: 3 × 3</caption>\n",
       "<thead>\n",
       "\t<tr><th></th><th scope=col>KLRC2</th><th scope=col>GZMH</th><th scope=col>name</th></tr>\n",
       "\t<tr><th></th><th scope=col>&lt;dbl&gt;</th><th scope=col>&lt;dbl&gt;</th><th scope=col>&lt;chr&gt;</th></tr>\n",
       "</thead>\n",
       "<tbody>\n",
       "\t<tr><th scope=row>Adaptive.NK.cell.BR1001_Negative</th><td>-0.4206476</td><td>-0.5318473</td><td>Adaptive.NK.cell.BR1001_Negative</td></tr>\n",
       "\t<tr><th scope=row>Adaptive.NK.cell.BR1002_Negative</th><td>-0.3138081</td><td>-0.9315045</td><td>Adaptive.NK.cell.BR1002_Negative</td></tr>\n",
       "\t<tr><th scope=row>Adaptive.NK.cell.BR1003_Negative</th><td>-0.5280408</td><td>-0.7492531</td><td>Adaptive.NK.cell.BR1003_Negative</td></tr>\n",
       "</tbody>\n",
       "</table>\n"
      ],
      "text/latex": [
       "A data.frame: 3 × 3\n",
       "\\begin{tabular}{r|lll}\n",
       "  & KLRC2 & GZMH & name\\\\\n",
       "  & <dbl> & <dbl> & <chr>\\\\\n",
       "\\hline\n",
       "\tAdaptive.NK.cell.BR1001\\_Negative & -0.4206476 & -0.5318473 & Adaptive.NK.cell.BR1001\\_Negative\\\\\n",
       "\tAdaptive.NK.cell.BR1002\\_Negative & -0.3138081 & -0.9315045 & Adaptive.NK.cell.BR1002\\_Negative\\\\\n",
       "\tAdaptive.NK.cell.BR1003\\_Negative & -0.5280408 & -0.7492531 & Adaptive.NK.cell.BR1003\\_Negative\\\\\n",
       "\\end{tabular}\n"
      ],
      "text/markdown": [
       "\n",
       "A data.frame: 3 × 3\n",
       "\n",
       "| <!--/--> | KLRC2 &lt;dbl&gt; | GZMH &lt;dbl&gt; | name &lt;chr&gt; |\n",
       "|---|---|---|---|\n",
       "| Adaptive.NK.cell.BR1001_Negative | -0.4206476 | -0.5318473 | Adaptive.NK.cell.BR1001_Negative |\n",
       "| Adaptive.NK.cell.BR1002_Negative | -0.3138081 | -0.9315045 | Adaptive.NK.cell.BR1002_Negative |\n",
       "| Adaptive.NK.cell.BR1003_Negative | -0.5280408 | -0.7492531 | Adaptive.NK.cell.BR1003_Negative |\n",
       "\n"
      ],
      "text/plain": [
       "                                 KLRC2      GZMH      \n",
       "Adaptive.NK.cell.BR1001_Negative -0.4206476 -0.5318473\n",
       "Adaptive.NK.cell.BR1002_Negative -0.3138081 -0.9315045\n",
       "Adaptive.NK.cell.BR1003_Negative -0.5280408 -0.7492531\n",
       "                                 name                            \n",
       "Adaptive.NK.cell.BR1001_Negative Adaptive.NK.cell.BR1001_Negative\n",
       "Adaptive.NK.cell.BR1002_Negative Adaptive.NK.cell.BR1002_Negative\n",
       "Adaptive.NK.cell.BR1003_Negative Adaptive.NK.cell.BR1003_Negative"
      ]
     },
     "metadata": {},
     "output_type": "display_data"
    }
   ],
   "source": [
    "head(df, n=3)"
   ]
  },
  {
   "cell_type": "code",
   "execution_count": 109,
   "id": "618ef514-7d77-445f-90b9-d26922d0264d",
   "metadata": {},
   "outputs": [
    {
     "data": {
      "text/html": [
       "<style>\n",
       ".list-inline {list-style: none; margin:0; padding: 0}\n",
       ".list-inline>li {display: inline-block}\n",
       ".list-inline>li:not(:last-child)::after {content: \"\\00b7\"; padding: 0 .5ex}\n",
       "</style>\n",
       "<ol class=list-inline><li>'KLRC2'</li><li>'GZMH'</li><li>'name'</li></ol>\n"
      ],
      "text/latex": [
       "\\begin{enumerate*}\n",
       "\\item 'KLRC2'\n",
       "\\item 'GZMH'\n",
       "\\item 'name'\n",
       "\\end{enumerate*}\n"
      ],
      "text/markdown": [
       "1. 'KLRC2'\n",
       "2. 'GZMH'\n",
       "3. 'name'\n",
       "\n",
       "\n"
      ],
      "text/plain": [
       "[1] \"KLRC2\" \"GZMH\"  \"name\" "
      ]
     },
     "metadata": {},
     "output_type": "display_data"
    }
   ],
   "source": [
    "colnames(df)"
   ]
  },
  {
   "cell_type": "code",
   "execution_count": 99,
   "id": "9a247676-89a3-4a7d-984d-92f8844b2165",
   "metadata": {},
   "outputs": [
    {
     "data": {
      "text/html": [
       "<style>\n",
       ".list-inline {list-style: none; margin:0; padding: 0}\n",
       ".list-inline>li {display: inline-block}\n",
       ".list-inline>li:not(:last-child)::after {content: \"\\00b7\"; padding: 0 .5ex}\n",
       "</style>\n",
       "<ol class=list-inline><li>'colnames.mean_df.'</li><li>'Cell_Type'</li><li>'Sample'</li><li>'ptid'</li><li>'CMV'</li><li>'cohort'</li></ol>\n"
      ],
      "text/latex": [
       "\\begin{enumerate*}\n",
       "\\item 'colnames.mean\\_df.'\n",
       "\\item 'Cell\\_Type'\n",
       "\\item 'Sample'\n",
       "\\item 'ptid'\n",
       "\\item 'CMV'\n",
       "\\item 'cohort'\n",
       "\\end{enumerate*}\n"
      ],
      "text/markdown": [
       "1. 'colnames.mean_df.'\n",
       "2. 'Cell_Type'\n",
       "3. 'Sample'\n",
       "4. 'ptid'\n",
       "5. 'CMV'\n",
       "6. 'cohort'\n",
       "\n",
       "\n"
      ],
      "text/plain": [
       "[1] \"colnames.mean_df.\" \"Cell_Type\"         \"Sample\"           \n",
       "[4] \"ptid\"              \"CMV\"               \"cohort\"           "
      ]
     },
     "metadata": {},
     "output_type": "display_data"
    }
   ],
   "source": [
    "colnames(meta)"
   ]
  },
  {
   "cell_type": "code",
   "execution_count": 112,
   "id": "7b0e200f-768f-4153-8c41-12255b0decfa",
   "metadata": {},
   "outputs": [],
   "source": [
    "meta['name']= meta['colnames.mean_df.']"
   ]
  },
  {
   "cell_type": "code",
   "execution_count": 113,
   "id": "57521d4a-3dee-420f-9633-607de79c2546",
   "metadata": {},
   "outputs": [
    {
     "data": {
      "text/html": [
       "<table class=\"dataframe\">\n",
       "<caption>A data.frame: 3 × 7</caption>\n",
       "<thead>\n",
       "\t<tr><th></th><th scope=col>colnames.mean_df.</th><th scope=col>Cell_Type</th><th scope=col>Sample</th><th scope=col>ptid</th><th scope=col>CMV</th><th scope=col>cohort</th><th scope=col>name</th></tr>\n",
       "\t<tr><th></th><th scope=col>&lt;chr&gt;</th><th scope=col>&lt;chr&gt;</th><th scope=col>&lt;chr&gt;</th><th scope=col>&lt;chr&gt;</th><th scope=col>&lt;chr&gt;</th><th scope=col>&lt;chr&gt;</th><th scope=col>&lt;chr&gt;</th></tr>\n",
       "</thead>\n",
       "<tbody>\n",
       "\t<tr><th scope=row>Adaptive.NK.cell.BR1001_Negative</th><td>Adaptive.NK.cell.BR1001_Negative</td><td>Adaptive</td><td>BR1001_Negative</td><td>BR1001</td><td>Negative</td><td>BR1</td><td>Adaptive.NK.cell.BR1001_Negative</td></tr>\n",
       "\t<tr><th scope=row>Adaptive.NK.cell.BR1002_Negative</th><td>Adaptive.NK.cell.BR1002_Negative</td><td>Adaptive</td><td>BR1002_Negative</td><td>BR1002</td><td>Negative</td><td>BR1</td><td>Adaptive.NK.cell.BR1002_Negative</td></tr>\n",
       "\t<tr><th scope=row>Adaptive.NK.cell.BR1003_Negative</th><td>Adaptive.NK.cell.BR1003_Negative</td><td>Adaptive</td><td>BR1003_Negative</td><td>BR1003</td><td>Negative</td><td>BR1</td><td>Adaptive.NK.cell.BR1003_Negative</td></tr>\n",
       "</tbody>\n",
       "</table>\n"
      ],
      "text/latex": [
       "A data.frame: 3 × 7\n",
       "\\begin{tabular}{r|lllllll}\n",
       "  & colnames.mean\\_df. & Cell\\_Type & Sample & ptid & CMV & cohort & name\\\\\n",
       "  & <chr> & <chr> & <chr> & <chr> & <chr> & <chr> & <chr>\\\\\n",
       "\\hline\n",
       "\tAdaptive.NK.cell.BR1001\\_Negative & Adaptive.NK.cell.BR1001\\_Negative & Adaptive & BR1001\\_Negative & BR1001 & Negative & BR1 & Adaptive.NK.cell.BR1001\\_Negative\\\\\n",
       "\tAdaptive.NK.cell.BR1002\\_Negative & Adaptive.NK.cell.BR1002\\_Negative & Adaptive & BR1002\\_Negative & BR1002 & Negative & BR1 & Adaptive.NK.cell.BR1002\\_Negative\\\\\n",
       "\tAdaptive.NK.cell.BR1003\\_Negative & Adaptive.NK.cell.BR1003\\_Negative & Adaptive & BR1003\\_Negative & BR1003 & Negative & BR1 & Adaptive.NK.cell.BR1003\\_Negative\\\\\n",
       "\\end{tabular}\n"
      ],
      "text/markdown": [
       "\n",
       "A data.frame: 3 × 7\n",
       "\n",
       "| <!--/--> | colnames.mean_df. &lt;chr&gt; | Cell_Type &lt;chr&gt; | Sample &lt;chr&gt; | ptid &lt;chr&gt; | CMV &lt;chr&gt; | cohort &lt;chr&gt; | name &lt;chr&gt; |\n",
       "|---|---|---|---|---|---|---|---|\n",
       "| Adaptive.NK.cell.BR1001_Negative | Adaptive.NK.cell.BR1001_Negative | Adaptive | BR1001_Negative | BR1001 | Negative | BR1 | Adaptive.NK.cell.BR1001_Negative |\n",
       "| Adaptive.NK.cell.BR1002_Negative | Adaptive.NK.cell.BR1002_Negative | Adaptive | BR1002_Negative | BR1002 | Negative | BR1 | Adaptive.NK.cell.BR1002_Negative |\n",
       "| Adaptive.NK.cell.BR1003_Negative | Adaptive.NK.cell.BR1003_Negative | Adaptive | BR1003_Negative | BR1003 | Negative | BR1 | Adaptive.NK.cell.BR1003_Negative |\n",
       "\n"
      ],
      "text/plain": [
       "                                 colnames.mean_df.                Cell_Type\n",
       "Adaptive.NK.cell.BR1001_Negative Adaptive.NK.cell.BR1001_Negative Adaptive \n",
       "Adaptive.NK.cell.BR1002_Negative Adaptive.NK.cell.BR1002_Negative Adaptive \n",
       "Adaptive.NK.cell.BR1003_Negative Adaptive.NK.cell.BR1003_Negative Adaptive \n",
       "                                 Sample          ptid   CMV      cohort\n",
       "Adaptive.NK.cell.BR1001_Negative BR1001_Negative BR1001 Negative BR1   \n",
       "Adaptive.NK.cell.BR1002_Negative BR1002_Negative BR1002 Negative BR1   \n",
       "Adaptive.NK.cell.BR1003_Negative BR1003_Negative BR1003 Negative BR1   \n",
       "                                 name                            \n",
       "Adaptive.NK.cell.BR1001_Negative Adaptive.NK.cell.BR1001_Negative\n",
       "Adaptive.NK.cell.BR1002_Negative Adaptive.NK.cell.BR1002_Negative\n",
       "Adaptive.NK.cell.BR1003_Negative Adaptive.NK.cell.BR1003_Negative"
      ]
     },
     "metadata": {},
     "output_type": "display_data"
    }
   ],
   "source": [
    "head(meta, n=3)"
   ]
  },
  {
   "cell_type": "code",
   "execution_count": 115,
   "id": "97ab940c-4351-4a74-b4fe-ed4c7d546919",
   "metadata": {},
   "outputs": [],
   "source": [
    "data <- left_join(df,unique(meta[c('name','Cell_Type','ptid','CMV','cohort')]),by=c('name'))"
   ]
  },
  {
   "cell_type": "code",
   "execution_count": 116,
   "id": "d08805fa-767c-4787-8918-f52cd0293aa6",
   "metadata": {},
   "outputs": [
    {
     "data": {
      "text/html": [
       "<style>\n",
       ".list-inline {list-style: none; margin:0; padding: 0}\n",
       ".list-inline>li {display: inline-block}\n",
       ".list-inline>li:not(:last-child)::after {content: \"\\00b7\"; padding: 0 .5ex}\n",
       "</style>\n",
       "<ol class=list-inline><li>92</li><li>7</li></ol>\n"
      ],
      "text/latex": [
       "\\begin{enumerate*}\n",
       "\\item 92\n",
       "\\item 7\n",
       "\\end{enumerate*}\n"
      ],
      "text/markdown": [
       "1. 92\n",
       "2. 7\n",
       "\n",
       "\n"
      ],
      "text/plain": [
       "[1] 92  7"
      ]
     },
     "metadata": {},
     "output_type": "display_data"
    }
   ],
   "source": [
    "dim(data)"
   ]
  },
  {
   "cell_type": "code",
   "execution_count": 117,
   "id": "779be459-89b7-4b75-8166-1318db81e662",
   "metadata": {},
   "outputs": [
    {
     "data": {
      "text/html": [
       "<table class=\"dataframe\">\n",
       "<caption>A data.frame: 3 × 7</caption>\n",
       "<thead>\n",
       "\t<tr><th></th><th scope=col>KLRC2</th><th scope=col>GZMH</th><th scope=col>name</th><th scope=col>Cell_Type</th><th scope=col>ptid</th><th scope=col>CMV</th><th scope=col>cohort</th></tr>\n",
       "\t<tr><th></th><th scope=col>&lt;dbl&gt;</th><th scope=col>&lt;dbl&gt;</th><th scope=col>&lt;chr&gt;</th><th scope=col>&lt;chr&gt;</th><th scope=col>&lt;chr&gt;</th><th scope=col>&lt;chr&gt;</th><th scope=col>&lt;chr&gt;</th></tr>\n",
       "</thead>\n",
       "<tbody>\n",
       "\t<tr><th scope=row>1</th><td>-0.4206476</td><td>-0.5318473</td><td>Adaptive.NK.cell.BR1001_Negative</td><td>Adaptive</td><td>BR1001</td><td>Negative</td><td>BR1</td></tr>\n",
       "\t<tr><th scope=row>2</th><td>-0.3138081</td><td>-0.9315045</td><td>Adaptive.NK.cell.BR1002_Negative</td><td>Adaptive</td><td>BR1002</td><td>Negative</td><td>BR1</td></tr>\n",
       "\t<tr><th scope=row>3</th><td>-0.5280408</td><td>-0.7492531</td><td>Adaptive.NK.cell.BR1003_Negative</td><td>Adaptive</td><td>BR1003</td><td>Negative</td><td>BR1</td></tr>\n",
       "</tbody>\n",
       "</table>\n"
      ],
      "text/latex": [
       "A data.frame: 3 × 7\n",
       "\\begin{tabular}{r|lllllll}\n",
       "  & KLRC2 & GZMH & name & Cell\\_Type & ptid & CMV & cohort\\\\\n",
       "  & <dbl> & <dbl> & <chr> & <chr> & <chr> & <chr> & <chr>\\\\\n",
       "\\hline\n",
       "\t1 & -0.4206476 & -0.5318473 & Adaptive.NK.cell.BR1001\\_Negative & Adaptive & BR1001 & Negative & BR1\\\\\n",
       "\t2 & -0.3138081 & -0.9315045 & Adaptive.NK.cell.BR1002\\_Negative & Adaptive & BR1002 & Negative & BR1\\\\\n",
       "\t3 & -0.5280408 & -0.7492531 & Adaptive.NK.cell.BR1003\\_Negative & Adaptive & BR1003 & Negative & BR1\\\\\n",
       "\\end{tabular}\n"
      ],
      "text/markdown": [
       "\n",
       "A data.frame: 3 × 7\n",
       "\n",
       "| <!--/--> | KLRC2 &lt;dbl&gt; | GZMH &lt;dbl&gt; | name &lt;chr&gt; | Cell_Type &lt;chr&gt; | ptid &lt;chr&gt; | CMV &lt;chr&gt; | cohort &lt;chr&gt; |\n",
       "|---|---|---|---|---|---|---|---|\n",
       "| 1 | -0.4206476 | -0.5318473 | Adaptive.NK.cell.BR1001_Negative | Adaptive | BR1001 | Negative | BR1 |\n",
       "| 2 | -0.3138081 | -0.9315045 | Adaptive.NK.cell.BR1002_Negative | Adaptive | BR1002 | Negative | BR1 |\n",
       "| 3 | -0.5280408 | -0.7492531 | Adaptive.NK.cell.BR1003_Negative | Adaptive | BR1003 | Negative | BR1 |\n",
       "\n"
      ],
      "text/plain": [
       "  KLRC2      GZMH       name                             Cell_Type ptid  \n",
       "1 -0.4206476 -0.5318473 Adaptive.NK.cell.BR1001_Negative Adaptive  BR1001\n",
       "2 -0.3138081 -0.9315045 Adaptive.NK.cell.BR1002_Negative Adaptive  BR1002\n",
       "3 -0.5280408 -0.7492531 Adaptive.NK.cell.BR1003_Negative Adaptive  BR1003\n",
       "  CMV      cohort\n",
       "1 Negative BR1   \n",
       "2 Negative BR1   \n",
       "3 Negative BR1   "
      ]
     },
     "metadata": {},
     "output_type": "display_data"
    }
   ],
   "source": [
    "head(data, n=3)"
   ]
  },
  {
   "cell_type": "code",
   "execution_count": 118,
   "id": "b71b3fe2-185c-438a-8a4e-451906c4a161",
   "metadata": {},
   "outputs": [
    {
     "data": {
      "text/html": [
       "<style>\n",
       ".list-inline {list-style: none; margin:0; padding: 0}\n",
       ".list-inline>li {display: inline-block}\n",
       ".list-inline>li:not(:last-child)::after {content: \"\\00b7\"; padding: 0 .5ex}\n",
       "</style>\n",
       "<ol class=list-inline><li>-1.04802179336548</li><li>0.796588713087534</li></ol>\n"
      ],
      "text/latex": [
       "\\begin{enumerate*}\n",
       "\\item -1.04802179336548\n",
       "\\item 0.796588713087534\n",
       "\\end{enumerate*}\n"
      ],
      "text/markdown": [
       "1. -1.04802179336548\n",
       "2. 0.796588713087534\n",
       "\n",
       "\n"
      ],
      "text/plain": [
       "[1] -1.0480218  0.7965887"
      ]
     },
     "metadata": {},
     "output_type": "display_data"
    }
   ],
   "source": [
    "range(data$KLRC2)"
   ]
  },
  {
   "cell_type": "code",
   "execution_count": 119,
   "id": "f10850fc-42a5-4a70-ac6e-a7bd698bbdfd",
   "metadata": {},
   "outputs": [
    {
     "data": {
      "text/html": [
       "<style>\n",
       ".list-inline {list-style: none; margin:0; padding: 0}\n",
       ".list-inline>li {display: inline-block}\n",
       ".list-inline>li:not(:last-child)::after {content: \"\\00b7\"; padding: 0 .5ex}\n",
       "</style>\n",
       "<ol class=list-inline><li>-2.0616784515706</li><li>0.572396516799927</li></ol>\n"
      ],
      "text/latex": [
       "\\begin{enumerate*}\n",
       "\\item -2.0616784515706\n",
       "\\item 0.572396516799927\n",
       "\\end{enumerate*}\n"
      ],
      "text/markdown": [
       "1. -2.0616784515706\n",
       "2. 0.572396516799927\n",
       "\n",
       "\n"
      ],
      "text/plain": [
       "[1] -2.0616785  0.5723965"
      ]
     },
     "metadata": {},
     "output_type": "display_data"
    }
   ],
   "source": [
    "range(data$GZMH)"
   ]
  },
  {
   "cell_type": "code",
   "execution_count": 120,
   "id": "42b5886d-be05-4eb2-a8e5-114ce1207377",
   "metadata": {},
   "outputs": [
    {
     "data": {
      "text/html": [
       "<style>\n",
       ".list-inline {list-style: none; margin:0; padding: 0}\n",
       ".list-inline>li {display: inline-block}\n",
       ".list-inline>li:not(:last-child)::after {content: \"\\00b7\"; padding: 0 .5ex}\n",
       "</style>\n",
       "<ol class=list-inline><li>92</li><li>7</li></ol>\n"
      ],
      "text/latex": [
       "\\begin{enumerate*}\n",
       "\\item 92\n",
       "\\item 7\n",
       "\\end{enumerate*}\n"
      ],
      "text/markdown": [
       "1. 92\n",
       "2. 7\n",
       "\n",
       "\n"
      ],
      "text/plain": [
       "[1] 92  7"
      ]
     },
     "metadata": {},
     "output_type": "display_data"
    }
   ],
   "source": [
    "dim(meta)"
   ]
  },
  {
   "cell_type": "code",
   "execution_count": 121,
   "id": "1c0cc7ba-5987-4b65-84c5-dd3126c37d9b",
   "metadata": {},
   "outputs": [
    {
     "data": {
      "text/html": [
       "<style>\n",
       ".list-inline {list-style: none; margin:0; padding: 0}\n",
       ".list-inline>li {display: inline-block}\n",
       ".list-inline>li:not(:last-child)::after {content: \"\\00b7\"; padding: 0 .5ex}\n",
       "</style>\n",
       "<ol class=list-inline><li>1814</li><li>93</li></ol>\n"
      ],
      "text/latex": [
       "\\begin{enumerate*}\n",
       "\\item 1814\n",
       "\\item 93\n",
       "\\end{enumerate*}\n"
      ],
      "text/markdown": [
       "1. 1814\n",
       "2. 93\n",
       "\n",
       "\n"
      ],
      "text/plain": [
       "[1] 1814   93"
      ]
     },
     "metadata": {},
     "output_type": "display_data"
    }
   ],
   "source": [
    "dim(mean_df)"
   ]
  },
  {
   "cell_type": "code",
   "execution_count": 122,
   "id": "bf8ef52e-30b0-4449-be88-74d74483292e",
   "metadata": {},
   "outputs": [
    {
     "data": {
      "text/html": [
       "<table class=\"dataframe\">\n",
       "<caption>A data.frame: 3 × 7</caption>\n",
       "<thead>\n",
       "\t<tr><th></th><th scope=col>colnames.mean_df.</th><th scope=col>Cell_Type</th><th scope=col>Sample</th><th scope=col>ptid</th><th scope=col>CMV</th><th scope=col>cohort</th><th scope=col>name</th></tr>\n",
       "\t<tr><th></th><th scope=col>&lt;chr&gt;</th><th scope=col>&lt;chr&gt;</th><th scope=col>&lt;chr&gt;</th><th scope=col>&lt;chr&gt;</th><th scope=col>&lt;chr&gt;</th><th scope=col>&lt;chr&gt;</th><th scope=col>&lt;chr&gt;</th></tr>\n",
       "</thead>\n",
       "<tbody>\n",
       "\t<tr><th scope=row>Adaptive.NK.cell.BR1001_Negative</th><td>Adaptive.NK.cell.BR1001_Negative</td><td>Adaptive</td><td>BR1001_Negative</td><td>BR1001</td><td>Negative</td><td>BR1</td><td>Adaptive.NK.cell.BR1001_Negative</td></tr>\n",
       "\t<tr><th scope=row>Adaptive.NK.cell.BR1002_Negative</th><td>Adaptive.NK.cell.BR1002_Negative</td><td>Adaptive</td><td>BR1002_Negative</td><td>BR1002</td><td>Negative</td><td>BR1</td><td>Adaptive.NK.cell.BR1002_Negative</td></tr>\n",
       "\t<tr><th scope=row>Adaptive.NK.cell.BR1003_Negative</th><td>Adaptive.NK.cell.BR1003_Negative</td><td>Adaptive</td><td>BR1003_Negative</td><td>BR1003</td><td>Negative</td><td>BR1</td><td>Adaptive.NK.cell.BR1003_Negative</td></tr>\n",
       "</tbody>\n",
       "</table>\n"
      ],
      "text/latex": [
       "A data.frame: 3 × 7\n",
       "\\begin{tabular}{r|lllllll}\n",
       "  & colnames.mean\\_df. & Cell\\_Type & Sample & ptid & CMV & cohort & name\\\\\n",
       "  & <chr> & <chr> & <chr> & <chr> & <chr> & <chr> & <chr>\\\\\n",
       "\\hline\n",
       "\tAdaptive.NK.cell.BR1001\\_Negative & Adaptive.NK.cell.BR1001\\_Negative & Adaptive & BR1001\\_Negative & BR1001 & Negative & BR1 & Adaptive.NK.cell.BR1001\\_Negative\\\\\n",
       "\tAdaptive.NK.cell.BR1002\\_Negative & Adaptive.NK.cell.BR1002\\_Negative & Adaptive & BR1002\\_Negative & BR1002 & Negative & BR1 & Adaptive.NK.cell.BR1002\\_Negative\\\\\n",
       "\tAdaptive.NK.cell.BR1003\\_Negative & Adaptive.NK.cell.BR1003\\_Negative & Adaptive & BR1003\\_Negative & BR1003 & Negative & BR1 & Adaptive.NK.cell.BR1003\\_Negative\\\\\n",
       "\\end{tabular}\n"
      ],
      "text/markdown": [
       "\n",
       "A data.frame: 3 × 7\n",
       "\n",
       "| <!--/--> | colnames.mean_df. &lt;chr&gt; | Cell_Type &lt;chr&gt; | Sample &lt;chr&gt; | ptid &lt;chr&gt; | CMV &lt;chr&gt; | cohort &lt;chr&gt; | name &lt;chr&gt; |\n",
       "|---|---|---|---|---|---|---|---|\n",
       "| Adaptive.NK.cell.BR1001_Negative | Adaptive.NK.cell.BR1001_Negative | Adaptive | BR1001_Negative | BR1001 | Negative | BR1 | Adaptive.NK.cell.BR1001_Negative |\n",
       "| Adaptive.NK.cell.BR1002_Negative | Adaptive.NK.cell.BR1002_Negative | Adaptive | BR1002_Negative | BR1002 | Negative | BR1 | Adaptive.NK.cell.BR1002_Negative |\n",
       "| Adaptive.NK.cell.BR1003_Negative | Adaptive.NK.cell.BR1003_Negative | Adaptive | BR1003_Negative | BR1003 | Negative | BR1 | Adaptive.NK.cell.BR1003_Negative |\n",
       "\n"
      ],
      "text/plain": [
       "                                 colnames.mean_df.                Cell_Type\n",
       "Adaptive.NK.cell.BR1001_Negative Adaptive.NK.cell.BR1001_Negative Adaptive \n",
       "Adaptive.NK.cell.BR1002_Negative Adaptive.NK.cell.BR1002_Negative Adaptive \n",
       "Adaptive.NK.cell.BR1003_Negative Adaptive.NK.cell.BR1003_Negative Adaptive \n",
       "                                 Sample          ptid   CMV      cohort\n",
       "Adaptive.NK.cell.BR1001_Negative BR1001_Negative BR1001 Negative BR1   \n",
       "Adaptive.NK.cell.BR1002_Negative BR1002_Negative BR1002 Negative BR1   \n",
       "Adaptive.NK.cell.BR1003_Negative BR1003_Negative BR1003 Negative BR1   \n",
       "                                 name                            \n",
       "Adaptive.NK.cell.BR1001_Negative Adaptive.NK.cell.BR1001_Negative\n",
       "Adaptive.NK.cell.BR1002_Negative Adaptive.NK.cell.BR1002_Negative\n",
       "Adaptive.NK.cell.BR1003_Negative Adaptive.NK.cell.BR1003_Negative"
      ]
     },
     "metadata": {},
     "output_type": "display_data"
    }
   ],
   "source": [
    "head(meta, n=3)"
   ]
  },
  {
   "cell_type": "code",
   "execution_count": 123,
   "id": "830db7dc-3173-4dec-be9f-12923f10c6f8",
   "metadata": {},
   "outputs": [
    {
     "data": {
      "text/html": [
       "<table class=\"dataframe\">\n",
       "<caption>A data.frame: 3 × 93</caption>\n",
       "<thead>\n",
       "\t<tr><th></th><th scope=col>Adaptive.NK.cell.BR1001_Negative</th><th scope=col>Adaptive.NK.cell.BR1002_Negative</th><th scope=col>Adaptive.NK.cell.BR1003_Negative</th><th scope=col>Adaptive.NK.cell.BR1004_Negative</th><th scope=col>Adaptive.NK.cell.BR1005_Negative</th><th scope=col>Adaptive.NK.cell.BR1006_Negative</th><th scope=col>Adaptive.NK.cell.BR1007_Positive</th><th scope=col>Adaptive.NK.cell.BR1008_Positive</th><th scope=col>Adaptive.NK.cell.BR1009_Negative</th><th scope=col>Adaptive.NK.cell.BR1010_Positive</th><th scope=col>⋯</th><th scope=col>Adaptive.NK.cell.BR2044_Positive</th><th scope=col>Adaptive.NK.cell.BR2045_Positive</th><th scope=col>Adaptive.NK.cell.BR2046_Negative</th><th scope=col>Adaptive.NK.cell.BR2047_Positive</th><th scope=col>Adaptive.NK.cell.BR2048_Positive</th><th scope=col>Adaptive.NK.cell.BR2050_Negative</th><th scope=col>Adaptive.NK.cell.BR2051_Positive</th><th scope=col>Adaptive.NK.cell.BR2052_Positive</th><th scope=col>Adaptive.NK.cell.BR2053_Positive</th><th scope=col>Gene</th></tr>\n",
       "\t<tr><th></th><th scope=col>&lt;dbl&gt;</th><th scope=col>&lt;dbl&gt;</th><th scope=col>&lt;dbl&gt;</th><th scope=col>&lt;dbl&gt;</th><th scope=col>&lt;dbl&gt;</th><th scope=col>&lt;dbl&gt;</th><th scope=col>&lt;dbl&gt;</th><th scope=col>&lt;dbl&gt;</th><th scope=col>&lt;dbl&gt;</th><th scope=col>&lt;dbl&gt;</th><th scope=col>⋯</th><th scope=col>&lt;dbl&gt;</th><th scope=col>&lt;dbl&gt;</th><th scope=col>&lt;dbl&gt;</th><th scope=col>&lt;dbl&gt;</th><th scope=col>&lt;dbl&gt;</th><th scope=col>&lt;dbl&gt;</th><th scope=col>&lt;dbl&gt;</th><th scope=col>&lt;dbl&gt;</th><th scope=col>&lt;dbl&gt;</th><th scope=col>&lt;chr&gt;</th></tr>\n",
       "</thead>\n",
       "<tbody>\n",
       "\t<tr><th scope=row>HES4</th><td>-0.09821204</td><td>-0.09821204</td><td>-0.09821204</td><td>-0.09821204</td><td>-0.09821204</td><td>-0.09821204</td><td>-0.03655325</td><td>-0.09821204</td><td>0.3225468</td><td>-0.09821204</td><td>⋯</td><td>-0.04425299</td><td>-0.09821204</td><td>-0.09821204</td><td>-0.09821204</td><td>-0.01677485</td><td>0.2173571</td><td> 0.02961343</td><td>-0.09821204</td><td>-0.07058355</td><td>HES4    </td></tr>\n",
       "\t<tr><th scope=row>ISG15</th><td>-0.03748095</td><td>-0.24542828</td><td>-0.16828669</td><td>-0.44237109</td><td>-0.68764979</td><td>-0.11728557</td><td> 0.10405377</td><td> 0.09827534</td><td>0.3029756</td><td>-0.46059816</td><td>⋯</td><td>-0.13135168</td><td> 0.12933134</td><td>-0.11468818</td><td>-0.01071849</td><td> 0.14171284</td><td>0.4947881</td><td>-0.23940184</td><td> 0.36046936</td><td>-0.13741391</td><td>ISG15   </td></tr>\n",
       "\t<tr><th scope=row>TNFRSF18</th><td> 0.27294826</td><td>-0.37884525</td><td>-0.02764054</td><td> 0.36448416</td><td> 0.04596338</td><td>-0.17698465</td><td>-0.17292981</td><td>-0.36390329</td><td>0.0102835</td><td>-0.15402882</td><td>⋯</td><td>-0.28438538</td><td>-0.01984331</td><td>-0.24704778</td><td>-0.15462463</td><td>-0.39617987</td><td>0.5586687</td><td>-0.02462418</td><td>-0.27499289</td><td>-0.15421970</td><td>TNFRSF18</td></tr>\n",
       "</tbody>\n",
       "</table>\n"
      ],
      "text/latex": [
       "A data.frame: 3 × 93\n",
       "\\begin{tabular}{r|lllllllllllllllllllll}\n",
       "  & Adaptive.NK.cell.BR1001\\_Negative & Adaptive.NK.cell.BR1002\\_Negative & Adaptive.NK.cell.BR1003\\_Negative & Adaptive.NK.cell.BR1004\\_Negative & Adaptive.NK.cell.BR1005\\_Negative & Adaptive.NK.cell.BR1006\\_Negative & Adaptive.NK.cell.BR1007\\_Positive & Adaptive.NK.cell.BR1008\\_Positive & Adaptive.NK.cell.BR1009\\_Negative & Adaptive.NK.cell.BR1010\\_Positive & ⋯ & Adaptive.NK.cell.BR2044\\_Positive & Adaptive.NK.cell.BR2045\\_Positive & Adaptive.NK.cell.BR2046\\_Negative & Adaptive.NK.cell.BR2047\\_Positive & Adaptive.NK.cell.BR2048\\_Positive & Adaptive.NK.cell.BR2050\\_Negative & Adaptive.NK.cell.BR2051\\_Positive & Adaptive.NK.cell.BR2052\\_Positive & Adaptive.NK.cell.BR2053\\_Positive & Gene\\\\\n",
       "  & <dbl> & <dbl> & <dbl> & <dbl> & <dbl> & <dbl> & <dbl> & <dbl> & <dbl> & <dbl> & ⋯ & <dbl> & <dbl> & <dbl> & <dbl> & <dbl> & <dbl> & <dbl> & <dbl> & <dbl> & <chr>\\\\\n",
       "\\hline\n",
       "\tHES4 & -0.09821204 & -0.09821204 & -0.09821204 & -0.09821204 & -0.09821204 & -0.09821204 & -0.03655325 & -0.09821204 & 0.3225468 & -0.09821204 & ⋯ & -0.04425299 & -0.09821204 & -0.09821204 & -0.09821204 & -0.01677485 & 0.2173571 &  0.02961343 & -0.09821204 & -0.07058355 & HES4    \\\\\n",
       "\tISG15 & -0.03748095 & -0.24542828 & -0.16828669 & -0.44237109 & -0.68764979 & -0.11728557 &  0.10405377 &  0.09827534 & 0.3029756 & -0.46059816 & ⋯ & -0.13135168 &  0.12933134 & -0.11468818 & -0.01071849 &  0.14171284 & 0.4947881 & -0.23940184 &  0.36046936 & -0.13741391 & ISG15   \\\\\n",
       "\tTNFRSF18 &  0.27294826 & -0.37884525 & -0.02764054 &  0.36448416 &  0.04596338 & -0.17698465 & -0.17292981 & -0.36390329 & 0.0102835 & -0.15402882 & ⋯ & -0.28438538 & -0.01984331 & -0.24704778 & -0.15462463 & -0.39617987 & 0.5586687 & -0.02462418 & -0.27499289 & -0.15421970 & TNFRSF18\\\\\n",
       "\\end{tabular}\n"
      ],
      "text/markdown": [
       "\n",
       "A data.frame: 3 × 93\n",
       "\n",
       "| <!--/--> | Adaptive.NK.cell.BR1001_Negative &lt;dbl&gt; | Adaptive.NK.cell.BR1002_Negative &lt;dbl&gt; | Adaptive.NK.cell.BR1003_Negative &lt;dbl&gt; | Adaptive.NK.cell.BR1004_Negative &lt;dbl&gt; | Adaptive.NK.cell.BR1005_Negative &lt;dbl&gt; | Adaptive.NK.cell.BR1006_Negative &lt;dbl&gt; | Adaptive.NK.cell.BR1007_Positive &lt;dbl&gt; | Adaptive.NK.cell.BR1008_Positive &lt;dbl&gt; | Adaptive.NK.cell.BR1009_Negative &lt;dbl&gt; | Adaptive.NK.cell.BR1010_Positive &lt;dbl&gt; | ⋯ ⋯ | Adaptive.NK.cell.BR2044_Positive &lt;dbl&gt; | Adaptive.NK.cell.BR2045_Positive &lt;dbl&gt; | Adaptive.NK.cell.BR2046_Negative &lt;dbl&gt; | Adaptive.NK.cell.BR2047_Positive &lt;dbl&gt; | Adaptive.NK.cell.BR2048_Positive &lt;dbl&gt; | Adaptive.NK.cell.BR2050_Negative &lt;dbl&gt; | Adaptive.NK.cell.BR2051_Positive &lt;dbl&gt; | Adaptive.NK.cell.BR2052_Positive &lt;dbl&gt; | Adaptive.NK.cell.BR2053_Positive &lt;dbl&gt; | Gene &lt;chr&gt; |\n",
       "|---|---|---|---|---|---|---|---|---|---|---|---|---|---|---|---|---|---|---|---|---|---|\n",
       "| HES4 | -0.09821204 | -0.09821204 | -0.09821204 | -0.09821204 | -0.09821204 | -0.09821204 | -0.03655325 | -0.09821204 | 0.3225468 | -0.09821204 | ⋯ | -0.04425299 | -0.09821204 | -0.09821204 | -0.09821204 | -0.01677485 | 0.2173571 |  0.02961343 | -0.09821204 | -0.07058355 | HES4     |\n",
       "| ISG15 | -0.03748095 | -0.24542828 | -0.16828669 | -0.44237109 | -0.68764979 | -0.11728557 |  0.10405377 |  0.09827534 | 0.3029756 | -0.46059816 | ⋯ | -0.13135168 |  0.12933134 | -0.11468818 | -0.01071849 |  0.14171284 | 0.4947881 | -0.23940184 |  0.36046936 | -0.13741391 | ISG15    |\n",
       "| TNFRSF18 |  0.27294826 | -0.37884525 | -0.02764054 |  0.36448416 |  0.04596338 | -0.17698465 | -0.17292981 | -0.36390329 | 0.0102835 | -0.15402882 | ⋯ | -0.28438538 | -0.01984331 | -0.24704778 | -0.15462463 | -0.39617987 | 0.5586687 | -0.02462418 | -0.27499289 | -0.15421970 | TNFRSF18 |\n",
       "\n"
      ],
      "text/plain": [
       "         Adaptive.NK.cell.BR1001_Negative Adaptive.NK.cell.BR1002_Negative\n",
       "HES4     -0.09821204                      -0.09821204                     \n",
       "ISG15    -0.03748095                      -0.24542828                     \n",
       "TNFRSF18  0.27294826                      -0.37884525                     \n",
       "         Adaptive.NK.cell.BR1003_Negative Adaptive.NK.cell.BR1004_Negative\n",
       "HES4     -0.09821204                      -0.09821204                     \n",
       "ISG15    -0.16828669                      -0.44237109                     \n",
       "TNFRSF18 -0.02764054                       0.36448416                     \n",
       "         Adaptive.NK.cell.BR1005_Negative Adaptive.NK.cell.BR1006_Negative\n",
       "HES4     -0.09821204                      -0.09821204                     \n",
       "ISG15    -0.68764979                      -0.11728557                     \n",
       "TNFRSF18  0.04596338                      -0.17698465                     \n",
       "         Adaptive.NK.cell.BR1007_Positive Adaptive.NK.cell.BR1008_Positive\n",
       "HES4     -0.03655325                      -0.09821204                     \n",
       "ISG15     0.10405377                       0.09827534                     \n",
       "TNFRSF18 -0.17292981                      -0.36390329                     \n",
       "         Adaptive.NK.cell.BR1009_Negative Adaptive.NK.cell.BR1010_Positive ⋯\n",
       "HES4     0.3225468                        -0.09821204                      ⋯\n",
       "ISG15    0.3029756                        -0.46059816                      ⋯\n",
       "TNFRSF18 0.0102835                        -0.15402882                      ⋯\n",
       "         Adaptive.NK.cell.BR2044_Positive Adaptive.NK.cell.BR2045_Positive\n",
       "HES4     -0.04425299                      -0.09821204                     \n",
       "ISG15    -0.13135168                       0.12933134                     \n",
       "TNFRSF18 -0.28438538                      -0.01984331                     \n",
       "         Adaptive.NK.cell.BR2046_Negative Adaptive.NK.cell.BR2047_Positive\n",
       "HES4     -0.09821204                      -0.09821204                     \n",
       "ISG15    -0.11468818                      -0.01071849                     \n",
       "TNFRSF18 -0.24704778                      -0.15462463                     \n",
       "         Adaptive.NK.cell.BR2048_Positive Adaptive.NK.cell.BR2050_Negative\n",
       "HES4     -0.01677485                      0.2173571                       \n",
       "ISG15     0.14171284                      0.4947881                       \n",
       "TNFRSF18 -0.39617987                      0.5586687                       \n",
       "         Adaptive.NK.cell.BR2051_Positive Adaptive.NK.cell.BR2052_Positive\n",
       "HES4      0.02961343                      -0.09821204                     \n",
       "ISG15    -0.23940184                       0.36046936                     \n",
       "TNFRSF18 -0.02462418                      -0.27499289                     \n",
       "         Adaptive.NK.cell.BR2053_Positive Gene    \n",
       "HES4     -0.07058355                      HES4    \n",
       "ISG15    -0.13741391                      ISG15   \n",
       "TNFRSF18 -0.15421970                      TNFRSF18"
      ]
     },
     "metadata": {},
     "output_type": "display_data"
    }
   ],
   "source": [
    "head(mean_df, n=3)"
   ]
  },
  {
   "cell_type": "code",
   "execution_count": 125,
   "id": "c8cbf4c3-c67b-444b-ba36-f95160f9ebaf",
   "metadata": {},
   "outputs": [],
   "source": [
    "write_csv(mean_df, file = \"./csv_files/IHA_adaptive_pb_mean_240325.csv\")"
   ]
  },
  {
   "cell_type": "code",
   "execution_count": 126,
   "id": "2d19a699-c402-4d7d-9f22-3fcfbcc48e8f",
   "metadata": {},
   "outputs": [],
   "source": [
    "write_csv(meta, file = \"./csv_files/IHA_adaptive_pb_mean_META_240325.csv\")"
   ]
  },
  {
   "cell_type": "code",
   "execution_count": 128,
   "id": "0138d200-3d05-42dc-a92e-94655e6efc5d",
   "metadata": {},
   "outputs": [],
   "source": [
    "write_csv(data, file = \"./csv_files/IHA_adaptive_pb_mean_KLRC2+GZMH_240325.csv\")"
   ]
  },
  {
   "cell_type": "code",
   "execution_count": null,
   "id": "b2cb981e-9dd8-4ad6-ba71-eff9828b6f39",
   "metadata": {},
   "outputs": [],
   "source": []
  }
 ],
 "metadata": {
  "kernelspec": {
   "display_name": "R 4",
   "language": "R",
   "name": "ir4"
  },
  "language_info": {
   "codemirror_mode": "r",
   "file_extension": ".r",
   "mimetype": "text/x-r-source",
   "name": "R",
   "pygments_lexer": "r",
   "version": "4.3.1"
  }
 },
 "nbformat": 4,
 "nbformat_minor": 5
}
