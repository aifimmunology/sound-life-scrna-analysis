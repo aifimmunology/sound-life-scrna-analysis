{
 "cells": [
  {
   "cell_type": "code",
   "execution_count": 36,
   "id": "fa02a8f9-ae75-4f13-b4b8-275c1956e41e",
   "metadata": {},
   "outputs": [
    {
     "name": "stdout",
     "output_type": "stream",
     "text": [
      "Current working directory: /home/jupyter/IH-A-Aging-Analysis-Notebooks_old/Mansi_Notebooks/scRNA/CertPro_analysis/scripts\n"
     ]
    }
   ],
   "source": [
    "import pandas as pd \n",
    "import numpy as np \n",
    "import scanpy as sc\n",
    "import concurrent.futures\n",
    "from concurrent.futures import ThreadPoolExecutor\n",
    "import warnings\n",
    "from datetime import date\n",
    "import hisepy\n",
    "import os\n",
    "import shutil\n",
    "import tarfile\n",
    "from tqdm import tqdm\n",
    "warnings.filterwarnings(\"ignore\")\n",
    "sc.settings.n_jobs = 60\n",
    "print(\"Current working directory:\", os.getcwd())"
   ]
  },
  {
   "cell_type": "code",
   "execution_count": 37,
   "id": "8219903f-aca6-48dc-a9e0-281099a9691e",
   "metadata": {},
   "outputs": [],
   "source": [
    "def extract_tar(tar_path, extract_path):\n",
    "    with tarfile.open(tar_path, 'r') as tar:\n",
    "        tar.extractall(path=extract_path)\n",
    "    print(f'Extracted {tar_path} to {extract_path}')\n",
    "\n",
    "def untar_all_files_in_folder_parallel(folder_path, extract_path):\n",
    "    if not os.path.exists(extract_path):\n",
    "        os.makedirs(extract_path)\n",
    "\n",
    "    tar_files = [os.path.join(folder_path, file) for file in os.listdir(folder_path) if file.endswith('.tar')]\n",
    "\n",
    "    with ThreadPoolExecutor(max_workers=10) as executor:\n",
    "        futures = [executor.submit(extract_tar, tar_path, extract_path) for tar_path in tar_files]\n",
    "        for future in futures:\n",
    "            future.result()"
   ]
  },
  {
   "cell_type": "markdown",
   "id": "9c91860e-bb17-4145-a53b-21ac61550019",
   "metadata": {},
   "source": [
    "# Download MetaData"
   ]
  },
  {
   "cell_type": "code",
   "execution_count": 3,
   "id": "f395a8ad-fcbb-4620-bf78-7fbe8cbe2cc2",
   "metadata": {},
   "outputs": [],
   "source": [
    "df=hisepy.list_files_in_project_store('cohorts')"
   ]
  },
  {
   "cell_type": "markdown",
   "id": "c80d7dff-89ed-4a3b-84fb-2831968365bc",
   "metadata": {},
   "source": [
    "#### BRI"
   ]
  },
  {
   "cell_type": "code",
   "execution_count": 4,
   "id": "a9f78111-b2ba-451a-9c35-c46dfe0315e5",
   "metadata": {},
   "outputs": [],
   "source": [
    "pattern1=\"scRNA_meta_data-2024-05-09\"\n",
    "pattern2=\"csv\"\n",
    "filtered_df = df[df['name'].str.contains(pattern1) & df['name'].str.contains(pattern2)]"
   ]
  },
  {
   "cell_type": "code",
   "execution_count": 5,
   "id": "03ed33d2-a6e1-4123-9833-2167b4f4090e",
   "metadata": {},
   "outputs": [
    {
     "name": "stdout",
     "output_type": "stream",
     "text": [
      "downloading fileID: 9c417a2e-ee43-43b8-9f05-7940b7a42920\n",
      "Files have been successfully downloaded!\n"
     ]
    }
   ],
   "source": [
    "hise_res = hisepy.reader.cache_files(filtered_df['id'].tolist())"
   ]
  },
  {
   "cell_type": "code",
   "execution_count": 6,
   "id": "d3a08af5-9428-47de-bb61-c7386f4cdc94",
   "metadata": {},
   "outputs": [],
   "source": [
    "destination_dir=os.getcwd()\n",
    "os.makedirs(destination_dir, exist_ok=True)"
   ]
  },
  {
   "cell_type": "code",
   "execution_count": 7,
   "id": "af983ae6-c520-4081-adc8-fd1238164858",
   "metadata": {},
   "outputs": [],
   "source": [
    "for i in filtered_df['id'].tolist():\n",
    "    source_dir = f'/home/jupyter/cache/{i}'\n",
    "    if os.path.exists(source_dir):\n",
    "        files = os.listdir(source_dir)\n",
    "        for file in files:\n",
    "            file_path = os.path.join(source_dir, file)\n",
    "            if os.path.isfile(file_path):\n",
    "                shutil.move(file_path, destination_dir)"
   ]
  },
  {
   "cell_type": "code",
   "execution_count": 8,
   "id": "02a86750-170c-40a1-b0d7-8d11ae3214dd",
   "metadata": {},
   "outputs": [],
   "source": [
    "filtered_df.to_csv(\"scRNA_BRI_meta_data_uuid.csv\")"
   ]
  },
  {
   "cell_type": "markdown",
   "id": "259d7751-9d0c-40bf-962e-8aa82588b1aa",
   "metadata": {},
   "source": [
    "#### SF4"
   ]
  },
  {
   "cell_type": "markdown",
   "id": "63f66f73-d128-4117-a26e-d46e711169a9",
   "metadata": {},
   "source": [
    "# Download scRNA data"
   ]
  },
  {
   "cell_type": "code",
   "execution_count": 9,
   "id": "5bf6682e-2584-4be4-922a-9e59688815a0",
   "metadata": {},
   "outputs": [],
   "source": [
    "df=hisepy.list_files_in_project_store('cohorts')"
   ]
  },
  {
   "cell_type": "markdown",
   "id": "88381962-04a7-44fc-97a8-3f544693e1ad",
   "metadata": {},
   "source": [
    "## h5-BRI"
   ]
  },
  {
   "cell_type": "code",
   "execution_count": 10,
   "id": "97dfeaac-1eca-4989-a27c-575fd6092e87",
   "metadata": {},
   "outputs": [],
   "source": [
    "pattern1=\"tar\"\n",
    "pattern2=\"polonium-tin-curium\"\n",
    "filtered_df = df[df['name'].str.contains(pattern1) & df['name'].str.contains(pattern2)]"
   ]
  },
  {
   "cell_type": "code",
   "execution_count": 11,
   "id": "8aed6228-0db9-439c-b36c-465e314e10be",
   "metadata": {},
   "outputs": [
    {
     "name": "stdout",
     "output_type": "stream",
     "text": [
      "downloading fileID: 04666e28-8443-4a51-8670-f409a7b5afe5\n",
      "downloading fileID: ae2996c3-eab5-4d61-a997-084351727413\n",
      "downloading fileID: b8f48340-ec96-4ed9-bad1-23fcb1a64e70\n",
      "downloading fileID: 11d754d9-0323-400b-8c47-8b9193d254d6\n",
      "downloading fileID: 6c6c9bbb-ac49-42f1-9e4f-f6a00766f331\n",
      "downloading fileID: 712082ed-2fe2-4121-9f89-7f732b4a58a7\n",
      "downloading fileID: e1fe73c4-44d1-4092-ba72-72c5efe657d1\n",
      "downloading fileID: dd3c4973-439f-4987-ac52-12cd86b31021\n",
      "Files have been successfully downloaded!\n"
     ]
    }
   ],
   "source": [
    "hise_res = hisepy.reader.cache_files(filtered_df['id'].tolist())"
   ]
  },
  {
   "cell_type": "code",
   "execution_count": 53,
   "id": "25c89959-307f-4959-b5e4-0bea4fd4e271",
   "metadata": {},
   "outputs": [],
   "source": [
    "destination_dir=os.getcwd()+\"/scRNA/BRI/h5ad/\"\n",
    "os.makedirs(destination_dir, exist_ok=True)"
   ]
  },
  {
   "cell_type": "code",
   "execution_count": 54,
   "id": "6498a7f5-cc82-4adc-b3ca-161c91eef78b",
   "metadata": {
    "tags": []
   },
   "outputs": [
    {
     "data": {
      "text/plain": [
       "'/home/jupyter/IH-A-Aging-Analysis-Notebooks_old/Mansi_Notebooks/scRNA/CertPro_analysis/scripts/scRNA/BRI/h5ad/'"
      ]
     },
     "execution_count": 54,
     "metadata": {},
     "output_type": "execute_result"
    }
   ],
   "source": [
    "destination_dir"
   ]
  },
  {
   "cell_type": "code",
   "execution_count": 55,
   "id": "8d1e063f-5d8b-4d10-b787-c0c2c6c83390",
   "metadata": {
    "scrolled": true,
    "tags": []
   },
   "outputs": [],
   "source": [
    "for i in filtered_df['id'].tolist():\n",
    "    source_dir = f'/home/jupyter/cache/{i}'\n",
    "    if os.path.exists(source_dir):\n",
    "        files = os.listdir(source_dir)\n",
    "        for file in files:\n",
    "            file_path = os.path.join(source_dir, file)\n",
    "            if os.path.isfile(file_path):\n",
    "                shutil.move(file_path, destination_dir)"
   ]
  },
  {
   "cell_type": "code",
   "execution_count": 56,
   "id": "30e453e7-6347-4b5e-bedc-d0faf5ef430d",
   "metadata": {
    "scrolled": true
   },
   "outputs": [
    {
     "name": "stdout",
     "output_type": "stream",
     "text": [
      "Extracted /home/jupyter/IH-A-Aging-Analysis-Notebooks_old/Mansi_Notebooks/scRNA/CertPro_analysis/scripts/scRNA/BRI/h5ad/diha_BR1_Male_Positive_h5ads_2024-05-05.tar to /home/jupyter/IH-A-Aging-Analysis-Notebooks_old/Mansi_Notebooks/scRNA/CertPro_analysis/scripts/scRNA/BRI/h5ad/\n",
      "Extracted /home/jupyter/IH-A-Aging-Analysis-Notebooks_old/Mansi_Notebooks/scRNA/CertPro_analysis/scripts/scRNA/BRI/h5ad/diha_BR1_Female_Positive_h5ads_2024-05-05.tar to /home/jupyter/IH-A-Aging-Analysis-Notebooks_old/Mansi_Notebooks/scRNA/CertPro_analysis/scripts/scRNA/BRI/h5ad/\n",
      "Extracted /home/jupyter/IH-A-Aging-Analysis-Notebooks_old/Mansi_Notebooks/scRNA/CertPro_analysis/scripts/scRNA/BRI/h5ad/diha_BR2_Female_Negative_h5ads_2024-05-05.tar to /home/jupyter/IH-A-Aging-Analysis-Notebooks_old/Mansi_Notebooks/scRNA/CertPro_analysis/scripts/scRNA/BRI/h5ad/\n",
      "Extracted /home/jupyter/IH-A-Aging-Analysis-Notebooks_old/Mansi_Notebooks/scRNA/CertPro_analysis/scripts/scRNA/BRI/h5ad/diha_BR1_Female_Negative_h5ads_2024-05-05.tar to /home/jupyter/IH-A-Aging-Analysis-Notebooks_old/Mansi_Notebooks/scRNA/CertPro_analysis/scripts/scRNA/BRI/h5ad/\n",
      "Extracted /home/jupyter/IH-A-Aging-Analysis-Notebooks_old/Mansi_Notebooks/scRNA/CertPro_analysis/scripts/scRNA/BRI/h5ad/diha_BR2_Male_Negative_h5ads_2024-05-05.tar to /home/jupyter/IH-A-Aging-Analysis-Notebooks_old/Mansi_Notebooks/scRNA/CertPro_analysis/scripts/scRNA/BRI/h5ad/\n",
      "Extracted /home/jupyter/IH-A-Aging-Analysis-Notebooks_old/Mansi_Notebooks/scRNA/CertPro_analysis/scripts/scRNA/BRI/h5ad/diha_BR2_Female_Positive_h5ads_2024-05-05.tar to /home/jupyter/IH-A-Aging-Analysis-Notebooks_old/Mansi_Notebooks/scRNA/CertPro_analysis/scripts/scRNA/BRI/h5ad/\n",
      "Extracted /home/jupyter/IH-A-Aging-Analysis-Notebooks_old/Mansi_Notebooks/scRNA/CertPro_analysis/scripts/scRNA/BRI/h5ad/diha_BR1_Male_Negative_h5ads_2024-05-05.tar to /home/jupyter/IH-A-Aging-Analysis-Notebooks_old/Mansi_Notebooks/scRNA/CertPro_analysis/scripts/scRNA/BRI/h5ad/\n",
      "Extracted /home/jupyter/IH-A-Aging-Analysis-Notebooks_old/Mansi_Notebooks/scRNA/CertPro_analysis/scripts/scRNA/BRI/h5ad/diha_BR2_Male_Positive_h5ads_2024-05-05.tar to /home/jupyter/IH-A-Aging-Analysis-Notebooks_old/Mansi_Notebooks/scRNA/CertPro_analysis/scripts/scRNA/BRI/h5ad/\n"
     ]
    }
   ],
   "source": [
    "folder_with_tars = destination_dir\n",
    "directory_to_extract = destination_dir\n",
    "untar_all_files_in_folder_parallel(folder_with_tars, directory_to_extract)"
   ]
  },
  {
   "cell_type": "code",
   "execution_count": 57,
   "id": "ee3e05a0-abc2-4624-84cf-616c288248ab",
   "metadata": {},
   "outputs": [
    {
     "name": "stderr",
     "output_type": "stream",
     "text": [
      "100% 868/868 [00:00<00:00, 12005.42it/s]"
     ]
    },
    {
     "name": "stdout",
     "output_type": "stream",
     "text": [
      "Renaming complete.\n"
     ]
    },
    {
     "name": "stderr",
     "output_type": "stream",
     "text": [
      "\n"
     ]
    }
   ],
   "source": [
    "# rename h5ad\n",
    "directory = 'scRNA/BRI/h5ad/sample_h5ad/'\n",
    "\n",
    "for filename in tqdm(os.listdir(directory)):\n",
    "    parts = filename.split('_')\n",
    "    if len(parts) > 1:  \n",
    "        prefix = parts[0]\n",
    "        extension = filename.split('.')[-1]\n",
    "        newname = f'{prefix}.{extension}'\n",
    "        old_filepath = os.path.join(directory, filename)\n",
    "        new_filepath = os.path.join(directory, newname)\n",
    "        os.rename(old_filepath, new_filepath)\n",
    "\n",
    "print('Renaming complete.')"
   ]
  },
  {
   "cell_type": "code",
   "execution_count": 58,
   "id": "5800f44e-40a6-4cd4-94c5-339b2c8e217d",
   "metadata": {},
   "outputs": [],
   "source": [
    "filtered_df.to_csv(\"scRNA_BRI_h5ad_uuid.csv\")"
   ]
  },
  {
   "cell_type": "markdown",
   "id": "55e0f37f-20aa-46df-9279-44dfe494a688",
   "metadata": {},
   "source": [
    "## Pesudobulk-BRI"
   ]
  },
  {
   "cell_type": "markdown",
   "id": "6c33fe5b-bc8c-410d-ab6d-c7772d15c7d4",
   "metadata": {},
   "source": [
    "#### Aggregated_Counts"
   ]
  },
  {
   "cell_type": "code",
   "execution_count": 59,
   "id": "5d6b9ee2-c823-4cc5-b74c-96f78c57553d",
   "metadata": {},
   "outputs": [],
   "source": [
    "pattern1=\"tar\"\n",
    "pattern2=\"Aggregated_Counts_Tar_BRI-QG-2024-05-09\"\n",
    "filtered_df = df[df['name'].str.contains(pattern1) & df['name'].str.contains(pattern2)]"
   ]
  },
  {
   "cell_type": "code",
   "execution_count": 60,
   "id": "33790699-d52f-4a20-a770-39eb0c778db2",
   "metadata": {},
   "outputs": [
    {
     "name": "stdout",
     "output_type": "stream",
     "text": [
      "downloading fileID: d6be049e-4ed5-4abc-a172-f48aefb7825d\n",
      "Files have been successfully downloaded!\n"
     ]
    }
   ],
   "source": [
    "hise_res = hisepy.reader.cache_files(filtered_df['id'].tolist())"
   ]
  },
  {
   "cell_type": "code",
   "execution_count": 61,
   "id": "d751bf9b-37cf-4c0c-a241-7e2f26fd0220",
   "metadata": {},
   "outputs": [],
   "source": [
    "destination_dir=os.getcwd()+\"/scRNA/BRI/Aggregated_Count/\"\n",
    "os.makedirs(destination_dir, exist_ok=True)"
   ]
  },
  {
   "cell_type": "code",
   "execution_count": 62,
   "id": "03b32551-e9e8-4cad-9259-b45c11d49642",
   "metadata": {},
   "outputs": [],
   "source": [
    "for i in filtered_df['id'].tolist():\n",
    "    source_dir = f'/home/jupyter/cache/{i}'\n",
    "    if os.path.exists(source_dir):\n",
    "        files = os.listdir(source_dir)\n",
    "        for file in files:\n",
    "            file_path = os.path.join(source_dir, file)\n",
    "            if os.path.isfile(file_path):\n",
    "                shutil.move(file_path, destination_dir)"
   ]
  },
  {
   "cell_type": "code",
   "execution_count": 63,
   "id": "cc1cacbc-81bd-4e01-9ec4-de9923fa801b",
   "metadata": {},
   "outputs": [
    {
     "name": "stdout",
     "output_type": "stream",
     "text": [
      "Extracted /home/jupyter/IH-A-Aging-Analysis-Notebooks_old/Mansi_Notebooks/scRNA/CertPro_analysis/scripts/scRNA/BRI/Aggregated_Count/Aggregated_Raw.tar to /home/jupyter/IH-A-Aging-Analysis-Notebooks_old/Mansi_Notebooks/scRNA/CertPro_analysis/scripts/scRNA/BRI/Aggregated_Count/\n"
     ]
    }
   ],
   "source": [
    "folder_with_tars = destination_dir\n",
    "directory_to_extract = destination_dir\n",
    "untar_all_files_in_folder_parallel(folder_with_tars, directory_to_extract)"
   ]
  },
  {
   "cell_type": "code",
   "execution_count": 64,
   "id": "f0b0b3d3-801a-4b77-8ab3-7e02dba4e977",
   "metadata": {},
   "outputs": [],
   "source": [
    "filtered_df.to_csv(\"scRNA_BRI_Aggregated_Count_uuid.csv\")"
   ]
  },
  {
   "cell_type": "markdown",
   "id": "a364496c-d8f8-43b2-abac-a6707974d472",
   "metadata": {},
   "source": [
    "#### Mean_Expression of log normalized"
   ]
  },
  {
   "cell_type": "code",
   "execution_count": 65,
   "id": "7e3cf496-3ad3-476c-8be7-1cb208ed1e8f",
   "metadata": {},
   "outputs": [],
   "source": [
    "pattern1=\"tar\"\n",
    "pattern2=\"Average_LogNormalized_Expression_Tar_BRI\"\n",
    "filtered_df = df[df['name'].str.contains(pattern1) & df['name'].str.contains(pattern2)]"
   ]
  },
  {
   "cell_type": "code",
   "execution_count": 66,
   "id": "a55d949a-f375-4d05-942f-d0d568d4f51f",
   "metadata": {},
   "outputs": [
    {
     "name": "stdout",
     "output_type": "stream",
     "text": [
      "downloading fileID: 00478a17-3721-4cf3-b6fe-a3473a67e575\n",
      "Files have been successfully downloaded!\n"
     ]
    }
   ],
   "source": [
    "hise_res = hisepy.reader.cache_files(filtered_df['id'].tolist())"
   ]
  },
  {
   "cell_type": "code",
   "execution_count": 67,
   "id": "7c28c8ec-6fe5-468c-8c10-cc73582aecd4",
   "metadata": {},
   "outputs": [],
   "source": [
    "destination_dir=os.getcwd()+\"/scRNA/BRI/Average_LogNormalized_Expression/\"\n",
    "os.makedirs(destination_dir, exist_ok=True)"
   ]
  },
  {
   "cell_type": "code",
   "execution_count": 68,
   "id": "8d4388dc-4285-4e7a-9c56-bc1ff7904667",
   "metadata": {},
   "outputs": [],
   "source": [
    "for i in filtered_df['id'].tolist():\n",
    "    source_dir = f'/home/jupyter/cache/{i}'\n",
    "    if os.path.exists(source_dir):\n",
    "        files = os.listdir(source_dir)\n",
    "        for file in files:\n",
    "            file_path = os.path.join(source_dir, file)\n",
    "            if os.path.isfile(file_path):\n",
    "                shutil.move(file_path, destination_dir)"
   ]
  },
  {
   "cell_type": "code",
   "execution_count": 69,
   "id": "5283e161-e310-4dcc-a8de-32e4dfba6d93",
   "metadata": {},
   "outputs": [
    {
     "name": "stdout",
     "output_type": "stream",
     "text": [
      "Extracted /home/jupyter/IH-A-Aging-Analysis-Notebooks_old/Mansi_Notebooks/scRNA/CertPro_analysis/scripts/scRNA/BRI/Average_LogNormalized_Expression/Average_LogNormalized_Expression.tar to /home/jupyter/IH-A-Aging-Analysis-Notebooks_old/Mansi_Notebooks/scRNA/CertPro_analysis/scripts/scRNA/BRI/Average_LogNormalized_Expression/\n"
     ]
    }
   ],
   "source": [
    "folder_with_tars = destination_dir\n",
    "directory_to_extract = destination_dir\n",
    "untar_all_files_in_folder_parallel(folder_with_tars, directory_to_extract)"
   ]
  },
  {
   "cell_type": "code",
   "execution_count": 70,
   "id": "bf6853d8-f54e-4f28-a82a-1e96ca57a4cb",
   "metadata": {},
   "outputs": [],
   "source": [
    "filtered_df.to_csv(\"scRNA_BRI_Average_LogNormalized_Expression_uuid.csv\")"
   ]
  },
  {
   "cell_type": "markdown",
   "id": "9ae70ef2-d4db-43ab-abbc-8d70a772d549",
   "metadata": {},
   "source": [
    "## h5-SF4"
   ]
  },
  {
   "cell_type": "code",
   "execution_count": 73,
   "id": "ee099b9f-280b-411e-8642-67abad5b5948",
   "metadata": {},
   "outputs": [],
   "source": [
    "pattern1=\"h5ad\"\n",
    "pattern2=\"SF4_cleaned-QG-2024-05-07\"\n",
    "filtered_df = df[df['name'].str.contains(pattern1) & df['name'].str.contains(pattern2)]"
   ]
  },
  {
   "cell_type": "code",
   "execution_count": 74,
   "id": "9d41b2d9-42ea-4a85-b003-55aa41183672",
   "metadata": {
    "tags": []
   },
   "outputs": [
    {
     "name": "stdout",
     "output_type": "stream",
     "text": [
      "downloading fileID: a2ab3850-d13d-4212-b552-993ff1b86983\n",
      "downloading fileID: d9ee49ae-8b43-465b-ad97-776b348c682e\n",
      "downloading fileID: b5b523f6-cb17-4498-9265-ac80d77da037\n",
      "downloading fileID: ee138c07-09e5-438b-9461-e0401010c263\n",
      "downloading fileID: 10c6be2b-ebaf-492e-8391-c7541b68364b\n",
      "downloading fileID: 9ebb6e38-54ab-44ed-bfec-e3d2c5947b41\n",
      "downloading fileID: f860e0f7-f9e3-4b98-bcf0-8882454d52d4\n",
      "downloading fileID: 161802cf-30cb-4a7d-ac19-67732b646433\n",
      "downloading fileID: 16f9d200-ff64-4aea-b306-f01ca9fa4856\n",
      "downloading fileID: 8859ddc8-c366-4797-bf7a-5a30318d22c8\n",
      "downloading fileID: b34498a4-bdcd-4c08-b1a0-78de74046a7a\n",
      "downloading fileID: e0332824-6053-48d8-a8f0-04eb6ade6ffa\n",
      "downloading fileID: 6e3bd73f-36f0-4ce6-af02-16449c9d59e9\n",
      "downloading fileID: 522a8548-eba1-467b-9d5f-b3f849dc17e8\n",
      "downloading fileID: 5274330d-886b-48de-a2d4-9164de074f2f\n",
      "downloading fileID: 51e76a62-05e5-40dc-8486-d29d326ded2f\n",
      "downloading fileID: 2d0dcd35-be00-4161-83ca-019573320fc9\n",
      "downloading fileID: e6f52388-f252-4b0a-9a5b-68d6601106f2\n",
      "downloading fileID: 756a40a3-0b28-4dd4-9bb5-463d3277fdda\n",
      "downloading fileID: 25bf8f52-f5cc-4fb9-99a6-b2c544fba829\n",
      "downloading fileID: d764e00e-abf5-4359-82f7-5973e1d684b4\n",
      "downloading fileID: 661ce036-4e2e-439a-95cd-614ffd63fae3\n",
      "downloading fileID: 64bd8de6-79e1-4f68-ba93-b496a122a914\n",
      "downloading fileID: 75e45a3c-992e-4f8f-9181-0f5ee8a9b978\n",
      "downloading fileID: e333d5cb-c0c2-43b5-a3ce-6fc3ae7076c6\n",
      "downloading fileID: c330298e-6c76-4de0-9255-58e4fee109fe\n",
      "downloading fileID: ad9e3dc2-2f70-4a70-b4cc-8927a240960f\n",
      "downloading fileID: 61a1cbc8-5ef7-46f2-b12f-844811aa8957\n",
      "downloading fileID: 74d27931-7058-44b5-8dff-72c5ea256c57\n",
      "downloading fileID: 91aab344-e8ed-4894-9433-1a7929ea3296\n",
      "downloading fileID: 09653f43-765b-4c04-9190-45bd69400ecf\n",
      "downloading fileID: c880c42a-ff67-469c-b8d8-cf07a3ccfbab\n",
      "downloading fileID: 71cee78d-dbc6-4423-bc57-d7a986e67f5c\n",
      "downloading fileID: 71cb6d3c-3966-47ea-bba1-dbbf09708d09\n",
      "downloading fileID: 92be584f-758a-45b7-ab77-c0cd5992d62e\n",
      "downloading fileID: 0b0bc311-5092-4e70-b31e-0c7d5b4833da\n",
      "downloading fileID: bc951a53-16b7-4b1b-a1f4-3b049c4ebe9e\n",
      "downloading fileID: df545110-3f63-4604-bbdd-b6dd741d138f\n",
      "downloading fileID: c4394f30-d15e-4aef-ae1e-e5be786ad3e9\n",
      "downloading fileID: 650d928c-7835-46eb-924a-95f702b27f55\n",
      "downloading fileID: e59d0b98-af17-487b-b0a1-9faef197d9a0\n",
      "downloading fileID: af077f38-5f97-4592-9af8-cc169b425eb4\n",
      "downloading fileID: 190add7e-2fe2-4003-8a7e-99953e8a4b01\n",
      "downloading fileID: 688f54fa-a140-4c4a-8dfb-e79b1ee1b3f5\n",
      "downloading fileID: ae4d6e87-82b7-4877-b10d-ed90ec66641c\n",
      "downloading fileID: 3291c64b-9baf-4635-82f8-672bf0d1194c\n",
      "downloading fileID: 720090a2-dc69-4834-8886-1df0266d8d8b\n",
      "downloading fileID: f5f16f31-076d-4ee8-8e28-644942e14cec\n",
      "downloading fileID: 81a00720-116e-480e-b0f8-fc2a0c38e306\n",
      "downloading fileID: c0a2df1f-caba-4138-a569-04e74d516f15\n",
      "downloading fileID: 7507c01c-5fee-4085-99fb-bf90ca6c0837\n",
      "downloading fileID: e51c479f-6e61-41db-8cd5-092311f4b1f7\n",
      "downloading fileID: 42bab275-d85d-4ec4-ba24-360d54da3d51\n",
      "downloading fileID: 08baf502-51dc-4ac8-ac3f-3af5d3fc1b12\n",
      "downloading fileID: d8dd6049-d422-464a-b927-17a0905514b1\n",
      "downloading fileID: 2cee52f9-1751-46f3-a6c1-6c2014b67a9d\n",
      "downloading fileID: a6daef66-c856-445b-ae06-5c2ddfd93b89\n",
      "downloading fileID: 340e048f-172b-46da-ac50-4635279630c0\n",
      "downloading fileID: b1178658-85c0-4f61-a4af-bd824ddd0dbc\n",
      "downloading fileID: ef4938e3-ac81-4b5c-b848-6fae4be5e241\n",
      "downloading fileID: 56965c20-710d-4c3d-8662-d55e190438dd\n",
      "downloading fileID: a01c72db-f937-4c71-9ddd-ba5d9ff1dcda\n",
      "downloading fileID: 6654db34-accd-405c-a58e-8edfe042b85f\n",
      "downloading fileID: dfb266e9-0cff-4176-ad06-be6e9f036573\n",
      "downloading fileID: e8565b92-4a85-4d43-abbf-7a52c73fdfeb\n",
      "downloading fileID: 2a551ab0-19e6-491e-8105-6fc30e973e65\n",
      "downloading fileID: 1757a425-138a-42f6-b1f4-7d84bf580e48\n",
      "downloading fileID: c29ac07b-4c9b-4963-beb6-55701fc532d6\n",
      "downloading fileID: 3041cad3-1ba5-414b-9b3c-f2dabca550dd\n",
      "downloading fileID: 3d3e3540-0d4e-4659-b952-941815798e4f\n",
      "downloading fileID: bf27e6b2-95bb-4e99-90b8-d9ef8f6c8f08\n",
      "downloading fileID: bb127958-020c-423c-9fe1-d803ac8ef3f0\n",
      "downloading fileID: 0f292b28-4da8-4a15-b07e-d165b3d72bbe\n",
      "downloading fileID: c713d477-90a8-4064-b080-e2a59395d34d\n",
      "downloading fileID: ad93a7df-3ef0-4b0e-a7fc-0bf0d8a0f1fc\n",
      "downloading fileID: c1b86e88-3bdd-42a8-87c1-67a67ae03f9e\n",
      "downloading fileID: eb0e812a-3abb-4969-87a7-ca433dff4cbd\n",
      "downloading fileID: 1ea2e4a4-8c4b-4ba2-a538-82ffc74850c8\n",
      "downloading fileID: 2dc2cb2c-5474-47f8-af31-2ff334fb0224\n",
      "downloading fileID: 64015b74-98b6-4a86-a7fe-b710a68dec9d\n",
      "downloading fileID: 4daccaa1-2d26-4512-80e7-6931f397a153\n",
      "downloading fileID: 0ff9f493-13cf-4337-81ad-04dc38b514b3\n",
      "downloading fileID: a3aa2793-c325-4a6b-9660-6c58020fac69\n",
      "downloading fileID: 1cf3d6cf-76f1-45d9-9329-bbd4d3dcd3c5\n",
      "downloading fileID: 70d41e92-52f6-40c4-9a8b-a6eeaeac9012\n",
      "downloading fileID: c9326889-b03d-44fd-a7c3-14295997f1ea\n",
      "downloading fileID: c58c482d-84b5-4de0-903a-7cfd7c0f3261\n",
      "downloading fileID: 55158a68-dab2-45c7-bf4c-79a335036927\n",
      "downloading fileID: fc8391ba-ff88-4087-b94e-242d203f5a74\n",
      "downloading fileID: 3bf55640-0653-4e30-8bc8-cb5ba801386d\n",
      "downloading fileID: 7f838bc5-effc-4fdd-a8df-2e2cc8eb3d60\n",
      "downloading fileID: ab1f55dc-fd36-4205-83df-f6e6a925ba65\n",
      "downloading fileID: 771390cb-c7da-4be9-866f-0904ab123fb3\n",
      "downloading fileID: cd77a580-716c-4890-87e0-fb120bbdd2b1\n",
      "downloading fileID: 93a6c66e-3886-4e3d-97f5-e04ed52cdb6e\n",
      "downloading fileID: 14de6ab7-d06d-4920-a7c9-32da10121643\n",
      "downloading fileID: 6eca7776-49c4-4955-b151-a1e2422f2a62\n",
      "downloading fileID: 268f57ce-eb9a-4098-afd2-6ba239a95765\n",
      "downloading fileID: 0305bdda-23d7-4464-ad80-c6f0fbf6527f\n",
      "downloading fileID: 0d87cfdf-bb1e-4a48-b21d-ae8fc762fc31\n",
      "downloading fileID: d5cfc4a4-34f2-4f78-8ae1-23abd4a52d73\n",
      "downloading fileID: 4021790a-5cb2-43f9-8448-c37ce019af6f\n",
      "downloading fileID: 41bd8d63-de38-4a0a-b407-6c2cfafaa0d5\n",
      "downloading fileID: e886afa5-0eb1-4b72-9442-e960d2d6f71e\n",
      "downloading fileID: b71d9d52-82fa-40bc-a6d7-fa62acc1dd60\n",
      "downloading fileID: 0f87d105-f788-4419-8e1e-0b115fb3ae13\n",
      "downloading fileID: c5869463-b7d5-4342-99ad-d38e4e50c238\n",
      "downloading fileID: fdcb6323-5a1a-4777-af06-902360e113dd\n",
      "downloading fileID: 86161a65-2a19-4652-8c49-9032c0628263\n",
      "downloading fileID: 5e4f03a0-0165-4949-bd40-0deb4edf4810\n",
      "downloading fileID: c2e9652a-ccd7-48c4-ab84-9019c5d61d0e\n",
      "downloading fileID: c718169f-d4f5-4f23-98f2-b2cdffc3c478\n",
      "downloading fileID: 496bd64f-9e8e-4627-a27a-25ce6d120fef\n",
      "downloading fileID: 62a8c21d-8399-423d-a5f8-f61f7b609bc2\n",
      "downloading fileID: 4fe38ca9-c5a5-498c-9844-7bc8dc17a4d2\n",
      "downloading fileID: fe9856f4-9578-45d4-8a14-b6c889d7475d\n",
      "downloading fileID: 91737070-1ef4-446e-a8aa-73a99abce116\n",
      "downloading fileID: cb39dc0a-e47c-4b6f-914c-ebce385f2d2f\n",
      "downloading fileID: e7a32842-12a4-463c-985a-558679ad5942\n",
      "downloading fileID: ba057021-8c43-46df-ba44-945fb87806b3\n",
      "downloading fileID: da143fb0-33f7-493e-a81a-a7a4f7c490a0\n",
      "downloading fileID: a387ff20-653b-44d3-ac7e-43e746cb352e\n",
      "downloading fileID: 0a2ff316-1493-4634-bee5-50183a496661\n",
      "downloading fileID: 54e6d25d-8631-48f8-892d-e5a08e462404\n",
      "downloading fileID: 6581bf84-6c2a-4c03-9837-80489d2f94e1\n",
      "downloading fileID: 04d617f1-978e-4fc1-8c67-bd239b571b73\n",
      "downloading fileID: c0a02908-94e5-4f25-8838-92fec85a57aa\n",
      "downloading fileID: 4269a393-82cd-48af-9e5d-b739addd9892\n",
      "downloading fileID: 42fef8c0-1160-41b3-9fd1-365201627ca3\n",
      "downloading fileID: 9b7573c8-a9bd-4f24-be71-c64a8e8a0946\n",
      "downloading fileID: 7225f2e8-8aff-4304-b02f-60bf5459a633\n",
      "downloading fileID: 8ade2ee0-b8da-419c-9ba6-ec1b6f089f56\n",
      "downloading fileID: ee6e245b-1a7a-43db-b59f-3fa96a3dd5bf\n",
      "downloading fileID: df4ca1f2-a26d-448b-be45-3737c1cb2c19\n",
      "downloading fileID: 1b034b7c-dcf1-4dd2-b561-a47c0b280e65\n",
      "downloading fileID: ac64f291-6a18-4e49-935f-d3b37ae8974a\n",
      "downloading fileID: 0d18c4fe-d5bc-485e-9393-391ba3e47e04\n",
      "downloading fileID: 86f86c93-82a7-43b5-8412-343d5f68ba59\n",
      "downloading fileID: d22be9fe-f907-4f93-80ef-b33c891958c1\n",
      "downloading fileID: 0c75f8bc-e235-40f3-aaa0-b924f97f9c50\n",
      "downloading fileID: 51d0d70b-bf10-460e-8033-8815e169a1e7\n",
      "downloading fileID: f1407950-58a1-4c12-81fa-3f4546bfcd37\n",
      "downloading fileID: 29056e47-f79e-4e3a-9702-06916e632de3\n",
      "downloading fileID: 1762f95e-7317-4183-b94f-cf9625cdd9e6\n",
      "downloading fileID: 309be11e-bb58-4955-b888-d19c4e3ca2d1\n",
      "downloading fileID: 6f59afae-06b7-4d0a-86a2-e89645d35109\n",
      "downloading fileID: ee36768d-9997-4754-8a88-654542b4f056\n",
      "downloading fileID: 78861f53-49b3-4d02-bdd8-1396fbd32318\n",
      "downloading fileID: aa097e0d-5201-4d39-96a5-333e571147e6\n",
      "downloading fileID: e1691fd8-5e98-4bb3-af9f-e7641875019a\n",
      "downloading fileID: e4862303-0c24-4ca1-970e-d9110b79d74c\n",
      "downloading fileID: 69ef7f43-3ad6-4294-903b-621481db9305\n",
      "downloading fileID: abaf6280-a695-4ba8-9cb9-abb279e9622a\n",
      "downloading fileID: 049e1466-4fc7-4788-8243-435e4a29e96a\n",
      "downloading fileID: 0a3ce4c3-beae-4ce8-9dbe-7c0c09a1ffe2\n",
      "downloading fileID: 33da7c81-1f3e-443a-a4c9-27e558e5f4cc\n",
      "downloading fileID: bb3992b1-3a4d-41dc-a49a-618a0ad0e770\n",
      "downloading fileID: db787f0b-ec07-4188-aba7-6510975a290f\n",
      "downloading fileID: ae88fd96-7125-4052-8f3c-3320d796b4c1\n",
      "downloading fileID: 41d9c470-b4d7-49e5-b243-469ae4464874\n",
      "downloading fileID: 658ee4f9-a06b-4387-9f98-0bbafb3b4077\n",
      "downloading fileID: 89d73c5d-fd8d-4444-bc3c-f5c5e92c4201\n",
      "downloading fileID: 7d5c6293-c1ea-4b0b-9905-0ebadf8bc68c\n",
      "downloading fileID: a79b52cc-8adf-4364-9f3b-24275d8334b5\n",
      "downloading fileID: 56610983-50db-42b8-9256-7f431d629fae\n",
      "downloading fileID: 1708ea89-98eb-4bb2-ac01-b9a026f82901\n",
      "downloading fileID: 9cc22e7b-965e-4616-a565-3ac90316a2cc\n",
      "downloading fileID: a825cc62-2511-4374-aa79-fe05919c493e\n",
      "downloading fileID: ca55e4bd-c577-4f65-9000-3461d7830a95\n",
      "downloading fileID: c1c23f8c-4590-401d-b6e6-314a9065e9bf\n",
      "downloading fileID: cc5e0e8b-7df5-494a-a318-f6d28938215f\n",
      "downloading fileID: 8be0d96a-ddd4-459e-a485-ec6054c5ac79\n",
      "downloading fileID: 70b9386c-f7cb-4d45-b3a0-a1c45adde3e9\n",
      "downloading fileID: 00bf7a35-0466-41f4-bb93-3c05071202d6\n",
      "downloading fileID: d2d103e4-ac7c-4419-8acb-6ef656615e5f\n",
      "downloading fileID: 0f04c39a-e4fc-436b-ae2b-672f6a8852bb\n",
      "downloading fileID: 653563fb-71b8-4d27-83c4-98d38420dd85\n",
      "downloading fileID: 3ec5182e-eeae-4bb8-8749-75346fa4cb73\n",
      "downloading fileID: 5e6aba3b-fd68-453c-a464-a27ccb10af7e\n",
      "downloading fileID: be78c855-360c-4df4-b551-f1af5f4b89a1\n",
      "downloading fileID: 539968b0-05e1-4e77-ac71-c784e2694aa5\n",
      "downloading fileID: 9e253d4e-bff7-44d0-938c-7bca1249a3dd\n",
      "downloading fileID: 320b29cf-89ac-4b08-af5f-582a5855430d\n",
      "downloading fileID: db81ea13-eccc-41cf-b4e1-c468aff6fa8c\n",
      "downloading fileID: 96e9868f-12e1-4858-9218-f70bfc6a50fd\n",
      "downloading fileID: 6b72bb8e-6bbb-4cde-ac21-09b29a6b01bd\n",
      "downloading fileID: cdab61b9-ae1b-4d58-8f0e-a36eb7243be4\n",
      "downloading fileID: b14ba676-ed89-497f-8e98-208212a5447c\n",
      "downloading fileID: 64b2bd65-0f30-459c-b577-89f49eef8f92\n",
      "downloading fileID: df05afcc-bc29-4ffc-a3bc-efe182115e9a\n",
      "downloading fileID: 3eb03d77-c555-413d-b66d-d0f964986957\n",
      "downloading fileID: 1c42beb5-a06a-44e3-b44a-fadb98b1d2df\n",
      "downloading fileID: 6a1e9718-0406-4061-8b52-abb6b3df06ba\n",
      "downloading fileID: f7c5f3a0-a046-4935-bdb7-47f4217c5860\n",
      "downloading fileID: efe82e0c-ad0d-4b18-bebe-eb1b500f0d0a\n",
      "downloading fileID: 628dff24-f0bc-45ba-bc9e-493b352c521a\n",
      "downloading fileID: f38307e4-17c5-4f9c-918b-b29da54e14ab\n",
      "downloading fileID: a9742649-673c-467e-94ac-98a5865bbf8e\n",
      "downloading fileID: fcb3c9e7-8d4c-451a-8653-0c60b637627d\n",
      "downloading fileID: 40c014f3-0c3a-4408-87f4-a7590af51746\n",
      "downloading fileID: 937391cc-02b4-4e09-92a4-ce8be18e8876\n",
      "downloading fileID: 74950c6e-176d-465e-8518-cff7c6106148\n",
      "downloading fileID: eed194ec-6bae-49eb-bffe-0d3edef95272\n",
      "downloading fileID: 7387ff68-2587-498a-ad59-acc5aaa0e458\n",
      "downloading fileID: 1a88f370-88e0-4d39-8228-9690e4cc8239\n",
      "downloading fileID: a2b45d8d-abff-4a92-b5f3-3f3aa209c45a\n",
      "downloading fileID: 4669ddc6-56ba-4be8-8bc9-8a6204f925e6\n",
      "downloading fileID: 3c18b17a-22a5-41bc-8754-d9ef06c22f23\n",
      "downloading fileID: 337fd1aa-042b-416a-b274-054538b9d19d\n",
      "downloading fileID: 5631092f-be63-4ce1-8f13-22f2539b0250\n",
      "downloading fileID: b2364c56-5795-4fe5-9971-edc9dfdd09b2\n",
      "downloading fileID: 6879416a-3aff-4c3a-902b-1a26c71448a0\n",
      "downloading fileID: 6dab50db-2149-4113-81d0-404c66e854c0\n",
      "downloading fileID: 18ae6792-21d9-41c9-94a3-2f9b7d6e303c\n",
      "downloading fileID: 9f95e66b-61ab-45da-9ff4-afc502d67d38\n",
      "downloading fileID: 4ff902ae-fba4-4656-9bbc-39fbe12dd29d\n",
      "downloading fileID: 9574e0a2-2696-478c-8366-010e98d8b470\n",
      "downloading fileID: bf5b7691-ed75-41b4-9444-21d1db9dccc9\n",
      "downloading fileID: 0dd33161-8802-497e-8206-a97cb342958f\n",
      "downloading fileID: 93ad4de8-fc36-41eb-bbc9-5af0ab34534e\n",
      "downloading fileID: d2a0d2ed-9b4e-4af2-abe4-037fd04325f9\n",
      "downloading fileID: 15528a71-cc68-4f2a-9bbf-894c27d9a87e\n",
      "downloading fileID: 9c408de6-0b19-421f-a309-ecf870dc9f3c\n",
      "downloading fileID: 21cbebdc-54cf-42e0-9b96-a6ce01998c07\n",
      "downloading fileID: 6d644aa5-c737-4671-b0a0-faec0336a441\n",
      "downloading fileID: 11c1619a-4bc0-4b19-aeb2-a3308ad0a83e\n",
      "downloading fileID: b2865d50-310d-46ac-a331-8908e69f6507\n",
      "downloading fileID: 65cc1232-ade1-488e-9914-f393708d4b77\n",
      "downloading fileID: 36712cd8-ff68-4e67-8dda-f39aa407c7f3\n",
      "downloading fileID: f5265056-98a4-4059-90ca-56bc34b4ba38\n",
      "downloading fileID: 8eb11ada-69d9-4b57-a269-8ab0b7e16c3f\n",
      "downloading fileID: 049a03e6-aacf-405b-8145-350150da7811\n",
      "downloading fileID: 165b1f9c-96c9-4572-89bb-4632dc2c013f\n",
      "downloading fileID: 2d725ed0-ac7f-452f-b6cf-dc1ad7e9a061\n",
      "downloading fileID: b5d64041-07b0-402d-8d5d-14c234b728d6\n",
      "Files have been successfully downloaded!\n"
     ]
    }
   ],
   "source": [
    "hise_res = hisepy.reader.cache_files(filtered_df['id'].tolist())"
   ]
  },
  {
   "cell_type": "code",
   "execution_count": 75,
   "id": "ee6248e2-0035-41c2-bf1d-5087f887c992",
   "metadata": {},
   "outputs": [],
   "source": [
    "destination_dir=os.getcwd()+\"/scRNA/SF4/h5ad/\"\n",
    "os.makedirs(destination_dir, exist_ok=True)"
   ]
  },
  {
   "cell_type": "code",
   "execution_count": 76,
   "id": "a9d4468b-65dd-4a16-a7a6-8384a0e84c64",
   "metadata": {},
   "outputs": [],
   "source": [
    "for i in filtered_df['id'].tolist():\n",
    "    source_dir = f'/home/jupyter/cache/{i}'\n",
    "    if os.path.exists(source_dir):\n",
    "        files = os.listdir(source_dir)\n",
    "        for file in files:\n",
    "            file_path = os.path.join(source_dir, file)\n",
    "            if os.path.isfile(file_path):\n",
    "                shutil.move(file_path, destination_dir)"
   ]
  },
  {
   "cell_type": "code",
   "execution_count": 77,
   "id": "4f900116-94c2-418f-b892-38e4102bb514",
   "metadata": {},
   "outputs": [],
   "source": [
    "filtered_df.to_csv(\"scRNA_SF4_h5ad_uuid.csv\")"
   ]
  },
  {
   "cell_type": "markdown",
   "id": "7ef1a769-e8f3-47fd-93b9-53efd812d61a",
   "metadata": {},
   "source": [
    "# Download Olink"
   ]
  },
  {
   "cell_type": "code",
   "execution_count": 78,
   "id": "e86fabd7-5a10-4816-9f69-8c8df9e06998",
   "metadata": {},
   "outputs": [],
   "source": [
    "file_uuid=['c142f67d-403b-457f-ae17-accc5089399f',\n",
    "           \"b494cce8-1314-4f6e-9666-42f0c6e1c702\",\n",
    "           \"00753770-4803-4947-a290-e7469c410067\", \n",
    "           \"59f5f656-085f-4d0b-a240-68a9eb15e68e\", \n",
    "           \"1a528317-bbf3-45b7-82c9-529577cf0b15\", \n",
    "           \"55d5d20a-506a-459e-8315-7d66276fb8f9\"]"
   ]
  },
  {
   "cell_type": "code",
   "execution_count": 79,
   "id": "61477b9d-d9be-48e3-bc2b-bfa683f13116",
   "metadata": {},
   "outputs": [
    {
     "name": "stdout",
     "output_type": "stream",
     "text": [
      "downloading fileID: c142f67d-403b-457f-ae17-accc5089399f\n",
      "downloading fileID: b494cce8-1314-4f6e-9666-42f0c6e1c702\n",
      "downloading fileID: 00753770-4803-4947-a290-e7469c410067\n",
      "downloading fileID: 59f5f656-085f-4d0b-a240-68a9eb15e68e\n",
      "downloading fileID: 1a528317-bbf3-45b7-82c9-529577cf0b15\n",
      "downloading fileID: 55d5d20a-506a-459e-8315-7d66276fb8f9\n",
      "Files have been successfully downloaded!\n"
     ]
    }
   ],
   "source": [
    "hise_res = hisepy.reader.cache_files(file_uuid)"
   ]
  },
  {
   "cell_type": "code",
   "execution_count": 80,
   "id": "ece5169c-51e4-46a3-b465-8ed866a2d541",
   "metadata": {},
   "outputs": [],
   "source": [
    "destination_dir=os.getcwd()+\"/Olink/\"\n",
    "os.makedirs(destination_dir, exist_ok=True)"
   ]
  },
  {
   "cell_type": "code",
   "execution_count": 81,
   "id": "bef379e9-cf93-49f2-ac89-ce00f1aa8fd7",
   "metadata": {},
   "outputs": [],
   "source": [
    "for i in file_uuid:\n",
    "    source_dir = f'/home/jupyter/cache/{i}'\n",
    "    if os.path.exists(source_dir):\n",
    "        files = os.listdir(source_dir)\n",
    "        for file in files:\n",
    "            file_path = os.path.join(source_dir, file)\n",
    "            if os.path.isfile(file_path):\n",
    "                shutil.move(file_path, destination_dir)"
   ]
  },
  {
   "cell_type": "code",
   "execution_count": 82,
   "id": "eb8979b1-c6e1-49f9-8a7c-5aa58df220be",
   "metadata": {},
   "outputs": [],
   "source": [
    "pd.DataFrame(file_uuid).to_csv(\"Olink_BRI_uuid.csv\")"
   ]
  },
  {
   "cell_type": "markdown",
   "id": "10b1008b-7eb6-4531-afcb-cfd350bd6be1",
   "metadata": {},
   "source": [
    "# Download FlowCyto"
   ]
  },
  {
   "cell_type": "code",
   "execution_count": 83,
   "id": "85fd7f9c-8897-40ba-b4fa-d439a93f86c2",
   "metadata": {},
   "outputs": [],
   "source": [
    "query_dict={'fileType':[\"FlowCytometry-labeled-expr-csv\"],\n",
    "            \"panel\":[\"PT1\"],\n",
    "            \"cohortGuid\":[\"BR1\",\"BR2\"],\n",
    "           \"visitName\":[\"Flu Year 1 Day 0\",\"Flu Year 1 Day 7\"]}"
   ]
  },
  {
   "cell_type": "code",
   "execution_count": 84,
   "id": "804b443e-a102-4593-8faa-6951979dd580",
   "metadata": {},
   "outputs": [],
   "source": [
    "df=hisepy.get_file_descriptors(query_dict=query_dict)"
   ]
  },
  {
   "cell_type": "code",
   "execution_count": 85,
   "id": "1a478756-56b8-4d40-a3bd-a4a586dfe735",
   "metadata": {},
   "outputs": [],
   "source": [
    "df=df['descriptors']"
   ]
  },
  {
   "cell_type": "code",
   "execution_count": 86,
   "id": "b0610e71-a4e9-433b-b614-ebe42dec3019",
   "metadata": {
    "tags": []
   },
   "outputs": [
    {
     "name": "stdout",
     "output_type": "stream",
     "text": [
      "downloading fileID: 89431dd4-b67f-4bd0-ac7b-9a903a9d552d\n",
      "downloading fileID: 8a21fe5c-1e11-4698-b12f-5f8f266e08f2\n",
      "downloading fileID: 295d4a7c-3eae-40fe-8877-58880aa14db1\n",
      "downloading fileID: b0a4cbdf-937a-4366-b18b-efe3c9dd3c69\n",
      "downloading fileID: e3ce727a-60ed-468d-abe5-380925fe1cfe\n",
      "downloading fileID: 4f7307f2-7474-4222-9287-78bb4cdb394d\n",
      "downloading fileID: d2fec743-03e3-4a04-96f3-aac213ecef76\n",
      "downloading fileID: 19adbe98-6db8-4560-bb20-63476d85ee75\n",
      "downloading fileID: 374b776c-5a89-4e30-bcb6-8e173a1ea575\n",
      "downloading fileID: 569489c9-b35f-4bf6-ab9d-a7d54e1dbce2\n",
      "downloading fileID: f889ec20-82c9-448a-a6b6-5462d51dd1b1\n",
      "downloading fileID: f5d95252-75c1-4d8c-b0b1-cbff829b41b0\n",
      "downloading fileID: f2b86af0-ba6f-4430-b26b-37776f0fbada\n",
      "downloading fileID: 35296f85-40b5-42a5-b276-8795bc024235\n",
      "downloading fileID: a2688351-a787-4bdd-9d59-7f224bb818c2\n",
      "downloading fileID: e84c6693-821f-4581-80e3-1d050ccad1df\n",
      "downloading fileID: 8b9f737b-981c-46ba-a8fc-97a88dbad757\n",
      "downloading fileID: fd764d02-d32b-435a-9532-c92621266705\n",
      "downloading fileID: 35751de6-9e0b-4ef8-81c5-ec7e736e3d1e\n",
      "downloading fileID: 2da33a77-8cbd-4729-84f7-11d7704dcb76\n",
      "downloading fileID: 44af7122-1103-49af-8995-a34fb574b8c0\n",
      "downloading fileID: 067baeb9-af9d-40a3-aab5-abfca097d361\n",
      "downloading fileID: b6ed9d21-9a24-4e8f-86e1-67723e5da397\n",
      "downloading fileID: fc488d88-bb7c-428c-89b4-469af399f95a\n",
      "downloading fileID: 7c0f3b31-bb92-4d62-95d4-b2210911eb45\n",
      "downloading fileID: e66e1112-0aae-40cd-b87b-9be6bac1b258\n",
      "downloading fileID: 013a0c5d-938f-4a7d-9009-9cf6b7e3eb0f\n",
      "downloading fileID: 70dccf63-2096-4915-bd5a-32682a978e02\n",
      "downloading fileID: bc471efe-15e4-4a97-a9d4-5aa9a92ae04a\n",
      "downloading fileID: c4b678d8-efa1-456d-b130-e99afd1ca084\n",
      "downloading fileID: 2333b9d1-cfba-4522-b936-b1c24b27cd2b\n",
      "downloading fileID: 7962276a-8d7b-425b-980d-aa51b8a8ea98\n",
      "downloading fileID: d18c9673-969c-47a6-85a4-8eff90db425c\n",
      "downloading fileID: bc894837-b5b8-40d0-84c9-8f078febdb43\n",
      "downloading fileID: cdef6145-537e-4604-a179-ac6dc6a5a617\n",
      "downloading fileID: 2abf7b0e-386b-4914-8956-cc869bac85b5\n",
      "downloading fileID: 4e654aae-b5ee-449b-91ff-bf1fac029b44\n",
      "downloading fileID: 1627db49-b042-46a0-9a48-30393fb003f6\n",
      "downloading fileID: 884a3af4-69ee-45c0-9291-9042ab881d25\n",
      "downloading fileID: 8636ab6f-1a55-4734-8d0f-2ee145877b93\n",
      "downloading fileID: 7d8b617c-caae-427f-9174-28513190a1e8\n",
      "downloading fileID: 621f902d-50e9-4daa-a6e0-8f8473643cb7\n",
      "downloading fileID: a293ea68-4386-42e1-9400-f88537a5f160\n",
      "downloading fileID: 5c500366-7b72-47b2-99bd-884daa22fb69\n",
      "downloading fileID: 8ae43d64-36fd-49e0-93b3-07053ecfaef2\n",
      "downloading fileID: ef2d3f73-463e-4810-92c0-1a547ee49a09\n",
      "downloading fileID: 70d34336-7c5f-4e04-aeed-89016becac9b\n",
      "downloading fileID: 38d18400-a149-49b5-905c-73ba7a87e66b\n",
      "downloading fileID: bc55979b-bfcc-4825-8ec3-5007a4726dbc\n",
      "downloading fileID: 898d1c14-fd35-4c2b-aafb-f88b41bc5c61\n",
      "downloading fileID: e9bc153c-8165-4e1b-92d6-190b71decf49\n",
      "downloading fileID: f7453ffd-28f2-4735-aa92-a1100fb5211a\n",
      "downloading fileID: dfb60024-23a2-47f0-989d-caaa63d26648\n",
      "downloading fileID: 3830ac45-5ab0-4dad-ae7d-09b98fde9b8e\n",
      "downloading fileID: 7406f62f-9725-49da-a3b7-37e04598dec8\n",
      "downloading fileID: 8d99308f-5f20-48ce-b6e9-7ad986940c59\n",
      "downloading fileID: f5240150-bc98-4783-8f30-5995e70bd046\n",
      "downloading fileID: 35d29bfd-c429-4a00-bd6d-0c3ca7b626b7\n",
      "downloading fileID: 0578bd43-6fac-4e2e-a8f7-115f2c5435b7\n",
      "downloading fileID: 1bedbca3-6702-4cd6-b2ff-de4425891b3e\n",
      "downloading fileID: d58f6c1f-8358-41bb-8e33-200a76756639\n",
      "downloading fileID: 37bada9e-8c51-4372-a815-84b7edc4d956\n",
      "downloading fileID: 2ac77c1d-8e3b-4639-b1e7-35495df737a9\n",
      "downloading fileID: f619f6e1-e445-45a6-a4dd-517e175339b6\n",
      "downloading fileID: 5661dfe9-894b-4fa2-b311-faad02fdfe7f\n",
      "downloading fileID: 13e914e5-7bdb-44a3-8c23-7594e25f91a7\n",
      "downloading fileID: 48db7282-bd09-4ac5-bcbe-0a6b6be88810\n",
      "downloading fileID: 55aa3f56-87c0-400a-9ef0-3a9914e56784\n",
      "downloading fileID: f03038d0-6b28-4ba6-bd86-b71f1fad8098\n",
      "downloading fileID: 208163d2-298c-47b0-8acf-c15b431b5a05\n",
      "downloading fileID: e53db834-24b1-4caf-aa05-7641238b8788\n",
      "downloading fileID: c85fc430-3731-4aec-830e-1a0dbcf2fbe4\n",
      "downloading fileID: b73ae857-a517-4acc-8e0d-f1a96e11b8ff\n",
      "downloading fileID: e389b61e-cf89-460f-b7b0-127c45133ecd\n",
      "downloading fileID: 39ef8040-33f5-44b7-8904-933c14b86ab3\n",
      "downloading fileID: 871b2c53-6b5a-4c8d-9f50-c8edaa996de4\n",
      "downloading fileID: 9f8ef10c-617b-4b40-b667-5dc7c3681102\n",
      "downloading fileID: a3b483f5-7b6c-46bd-bf13-96f4de5c50a4\n",
      "downloading fileID: 9825e655-e511-4d78-91a8-f298a25339f6\n",
      "downloading fileID: 1f020fad-bb17-4a78-aa7b-da24de18c44c\n",
      "downloading fileID: 23999553-b554-4488-8ae2-6739a7bb4725\n",
      "downloading fileID: f56d4f72-5728-4020-8c0b-78c40fdf242f\n",
      "downloading fileID: 220697fe-01dc-41c3-b6ff-e237d86d6672\n",
      "downloading fileID: 573f253a-3676-4240-9a28-5d7ce4b3ec4e\n",
      "downloading fileID: 6870e4e9-10de-4629-8c44-efedffcd4886\n",
      "downloading fileID: fd009429-4801-4cf7-bb70-024836ebb164\n",
      "downloading fileID: 2c027544-7d29-4c8f-a86a-62f0fec1b90e\n",
      "downloading fileID: 96427adf-5de4-4267-93dc-eeeb1a6ae352\n",
      "downloading fileID: 0073a25c-06eb-4867-9718-1bcd92667e51\n",
      "downloading fileID: 6b71d1b8-e44a-4e18-8eed-3374c2ba4a84\n",
      "downloading fileID: 396488f1-8606-40f6-858c-e950d3b8ceee\n",
      "downloading fileID: 8635e8f7-9f51-483b-a5f7-9c44d67cf845\n",
      "downloading fileID: 5e65c9f1-ed32-4cda-bb2f-9df901d8365b\n",
      "downloading fileID: 2cc2ec70-b49b-411f-99b2-8a09a2e9a0fb\n",
      "downloading fileID: 0010299e-e5ce-4ec9-8dd0-68578436037d\n",
      "downloading fileID: c35575bb-8bc1-40c7-b650-cc969da7af94\n",
      "downloading fileID: aaee07b4-b397-4f64-ab0a-e5539588e6b0\n",
      "downloading fileID: 8c42ce82-665f-4c81-a6d5-f06de1095e54\n",
      "downloading fileID: 1d595423-0fc6-419c-aba3-d3cc2bd0096a\n",
      "downloading fileID: b7d6d3c0-23c1-4ec4-bb57-671c437f634b\n",
      "downloading fileID: c547b5c7-7999-48be-8e50-f245a510056a\n",
      "downloading fileID: 87cb4156-1413-4533-aa4b-c037f9dcbecf\n",
      "downloading fileID: 7994e372-8615-485d-98d8-d6423fc93c9d\n",
      "downloading fileID: 40fd7173-412e-4f97-b574-0b95161a7c1f\n",
      "downloading fileID: f5ab3d42-47c8-4ae4-ae87-e52fff6535f1\n",
      "downloading fileID: f422fff1-f5f3-434a-ae3d-b645eca4c8c4\n",
      "downloading fileID: d4151a70-89de-40e9-b999-db4ab245475d\n",
      "downloading fileID: 92df7000-5bae-4f63-9f6a-e00335591d5b\n",
      "downloading fileID: 91af9530-0446-458c-bb25-2ca44d8fab06\n",
      "downloading fileID: 58fff53e-3874-4b45-aada-7cedfa51d6e8\n",
      "downloading fileID: 059f52c7-f8d3-4704-b6a5-2d808090e4ce\n",
      "downloading fileID: f6b16fed-68ba-41b6-baf0-914a0cc2d392\n",
      "downloading fileID: 4170267b-3cde-4616-8456-1762e62ff26c\n",
      "downloading fileID: 2c84ea57-eb25-49ad-9acc-b0b93c129b42\n",
      "downloading fileID: 7789821c-ae21-4996-a1e6-a11475b22368\n",
      "downloading fileID: db210e84-7960-4643-afe6-3fc67ef8a6c2\n",
      "downloading fileID: c56f1146-b2f0-43df-9e05-f71f3d4159ca\n",
      "downloading fileID: 0b5ba269-ee1b-42f7-a2fd-ef3bc9b2ebe5\n",
      "downloading fileID: ceca611a-dbde-4521-898a-80e031eebfbd\n",
      "downloading fileID: a98f5d07-8bbc-4ce5-a289-1795bc8ca0ce\n",
      "downloading fileID: 51a0f407-5d5b-4a3c-aa50-3d58b14a882b\n",
      "downloading fileID: 32643e75-1446-4208-916b-f940b5eaa9fa\n",
      "downloading fileID: 6f9c733d-bd22-4b19-adc8-c0a2022411d2\n",
      "downloading fileID: e6ff394d-e3db-4c93-9dbe-89c23f915527\n",
      "downloading fileID: 91f3700a-0188-4a56-8261-31543f85f68f\n",
      "downloading fileID: 39be16f8-721e-4b1d-bcac-923583902bb9\n",
      "downloading fileID: d9dea82a-9e9e-42d1-bddd-740e6976275e\n",
      "downloading fileID: 061383bf-3efc-4ad6-aa79-40e426409d50\n",
      "downloading fileID: 373ebd57-012d-44ee-a7e8-cc0728e32f50\n",
      "downloading fileID: 4ef8b69b-d88a-4fc6-86e8-7d70e223f215\n",
      "downloading fileID: 7e543cf8-8309-4e47-8751-9dc769819a79\n",
      "downloading fileID: 3beb279b-b0d2-4367-9f84-1aecffbfa10c\n",
      "downloading fileID: 8bb44bd3-958e-49c9-a2ac-45c8843c45cd\n",
      "downloading fileID: ff3fcfa6-e8cf-43d7-95cd-b4620114acd0\n",
      "downloading fileID: 95b6c90f-219f-4850-92ea-e76b33643b3d\n",
      "downloading fileID: ceba226a-f943-486e-b82f-76cd52fb7eb0\n",
      "downloading fileID: f37b983c-f0a1-43de-8443-a58d2c30b60e\n",
      "downloading fileID: 6a14a572-bcf5-4eae-9872-f1a091797832\n",
      "downloading fileID: 059693d8-61b6-4e54-8bb5-9b187d1a21bb\n",
      "downloading fileID: cbb1ad23-5440-4ca9-92a2-abd562930783\n",
      "downloading fileID: 2241d94e-1173-4c86-af33-f1d0d2b67477\n",
      "downloading fileID: e5e0ff14-15c1-4bd2-a82a-cccfdf4899e4\n",
      "downloading fileID: f339e1c6-2085-4462-b433-5d0af707e85e\n",
      "downloading fileID: f3ea34d2-3150-4171-9d7c-7c5804415b17\n",
      "downloading fileID: f4cde76b-5ee2-4a78-babf-4cf6d54440ec\n",
      "downloading fileID: 257ab74c-703e-47d8-a146-be26beb6f388\n",
      "downloading fileID: 89adc735-7e1c-4be7-b668-cb2bb8bd1314\n",
      "downloading fileID: 69940e74-686c-4c57-a297-d23d5acf845c\n",
      "downloading fileID: 6aa8087b-c6dc-417a-9c79-08373f10f758\n",
      "downloading fileID: f6417617-fb2a-4912-a39a-ab10d15898e8\n",
      "downloading fileID: 7c9d90b6-1a04-4d2c-bdbc-2fd34a7e1e6d\n",
      "downloading fileID: ea0c837a-b060-4db4-9c41-b8a799c5cf42\n",
      "downloading fileID: 6bb3b2cd-1860-4f0e-89e6-f7c1c95adfb2\n",
      "downloading fileID: 07b93a29-aa7a-413e-b4cd-f62901e8b424\n",
      "downloading fileID: e5e9dc83-fe45-4a9b-9dcb-11e3050a3438\n",
      "downloading fileID: 50e72552-1976-42e1-b643-c781fc6b107d\n",
      "downloading fileID: 98fa050b-85d3-41fb-9556-edd5d9aa87e5\n",
      "downloading fileID: bfe133e0-c344-4a16-967a-35d0ec501dad\n",
      "downloading fileID: cf3ba1d7-7d35-4146-bc33-6f543306f888\n",
      "downloading fileID: e7a4722e-b9ae-4329-9b3b-770b8ccdeca3\n",
      "downloading fileID: 252c380e-5d7a-4f2d-b599-ccf5073efae7\n",
      "downloading fileID: a27a48aa-0a0d-4556-b8d2-f676e52c41b3\n",
      "downloading fileID: ac610511-e49e-4c26-acd1-440f11cf67c2\n",
      "downloading fileID: 0fa468ba-6dcb-4a70-b6ad-875e78e6bdc4\n",
      "downloading fileID: fb2997a5-025f-412f-a6a9-37075ffe7fc6\n",
      "downloading fileID: 46ebeb10-3f61-464e-8323-26212eea1f23\n",
      "downloading fileID: 523fae75-b2e3-4ae0-819c-c127173291ec\n",
      "downloading fileID: 8cf47d79-86da-4413-8af0-f9b179ded693\n",
      "downloading fileID: a8330c54-d3f1-4cba-b563-e85e216329f6\n",
      "downloading fileID: 007a78a3-ed54-442b-9907-ed9d6a934479\n",
      "downloading fileID: e34f8206-0118-466f-b587-02063f7cdcc6\n",
      "downloading fileID: 261d1774-4865-42f4-b45b-f51ab06ddf91\n",
      "downloading fileID: b4bbd23d-90b3-43d6-8f22-32db8e0a97a7\n",
      "downloading fileID: 6c6c1d87-8328-4e24-af5d-cdec69b71ae0\n",
      "downloading fileID: 983e7f4b-3c5f-403c-a6cb-a50d1040fb28\n",
      "downloading fileID: ac6ea47f-bf64-4469-bd9d-6412ea3c2755\n",
      "downloading fileID: bd938587-cae1-4edb-ab89-12b27623b7c9\n",
      "downloading fileID: 2d81482c-cfed-4b70-9051-c3a9795c4b19\n",
      "downloading fileID: 1b9c043d-a134-4829-b790-09bc7979301d\n",
      "downloading fileID: 1b8cc378-880b-4eb3-8c42-8894d7c5ad74\n",
      "downloading fileID: 5f39d7bb-37a5-47f5-8d8e-1c14d3bf3c8c\n",
      "downloading fileID: 23535d55-594f-4ddb-b7e3-bd16046ba2df\n",
      "downloading fileID: 09ed5160-9487-475d-bde5-f21b5ab403b9\n",
      "downloading fileID: bcde8e84-5006-40fe-a26c-7b850b0ac00d\n",
      "downloading fileID: 1b57cabd-5b54-4644-b12e-807bb5633bcf\n",
      "downloading fileID: 79e7b655-c0f8-4431-b7c6-3612f14750a3\n",
      "downloading fileID: 08378860-308d-4e6c-ba4a-195be5f136a9\n",
      "downloading fileID: 0f0923ff-31be-4a87-afb9-5529f074877c\n",
      "downloading fileID: 50feeaeb-970a-4069-982a-a55da6630634\n",
      "downloading fileID: f40cf69f-7705-4ed3-b3cf-5ae593c68970\n",
      "downloading fileID: 55a21bcf-66f1-47d6-8f70-8aded3229ebd\n",
      "downloading fileID: 10e5b466-78d8-44d0-b466-6849532a775f\n",
      "downloading fileID: efb685b3-c52b-4374-be43-3ec16465f24c\n",
      "downloading fileID: 6abd47c6-1587-4b8c-b084-a0ab49640b69\n",
      "downloading fileID: e9120fb7-9b54-4e94-a584-893c34c90d1d\n",
      "downloading fileID: 8fe406f7-4e6a-4600-bdb2-06ef2c076d3a\n",
      "downloading fileID: 62ecb516-a47e-4e3c-b7d7-c8685ba353f9\n",
      "downloading fileID: 05eb0c57-ad58-4696-a75e-15f2f00bdbd2\n",
      "downloading fileID: 287969ae-aeab-4640-a6da-a393bcd74d60\n",
      "downloading fileID: cf7b972e-b988-4e2b-8f25-2a6c7afb82ef\n",
      "downloading fileID: ad6d679e-365c-4a81-aac5-af636bf84698\n",
      "downloading fileID: 7554fbe9-93d4-4190-81c1-7b883efc5821\n",
      "downloading fileID: 94454937-d5d3-4f6c-abe0-25d1ff4689e3\n",
      "downloading fileID: 6abd8b28-6fa2-4820-a878-c23a8609bd7d\n",
      "downloading fileID: 50f1f4f7-6805-4061-a442-df0d2328e8ff\n",
      "downloading fileID: 76abb945-4eaa-4fbc-a2ed-e09b22e14c0f\n",
      "downloading fileID: 0cd5bd52-d249-4303-a5f2-e24d87627c2d\n",
      "downloading fileID: 54361554-f38d-4c4b-a996-76a4bdca24d9\n",
      "downloading fileID: ffd25e22-884d-4029-bf3b-ea824c340ea3\n",
      "downloading fileID: 8b5195f3-dfd4-488e-aecc-a08a669afeb9\n",
      "downloading fileID: a721bf54-a317-4c22-b955-72c206090a55\n",
      "downloading fileID: 69aaacc6-6133-4721-b3fe-3f3bb034e93e\n",
      "downloading fileID: 29d5df39-a472-47fc-a27e-4194723908d6\n",
      "downloading fileID: 148cecbb-8f36-440e-a685-00f2801292e6\n",
      "downloading fileID: 25e91aec-7405-41f4-b040-ab63340b77b4\n",
      "downloading fileID: e8b19ebc-a8d7-495b-ab7b-95067e18a709\n",
      "downloading fileID: 5b09ffa4-ee43-4e06-9af2-93915b408e76\n",
      "downloading fileID: 65492df0-587f-4cd6-881a-afc5ea5713b7\n",
      "downloading fileID: a2c22fe1-5cbe-481c-a753-fa346cafa429\n",
      "Files have been successfully downloaded!\n"
     ]
    }
   ],
   "source": [
    "hise_res = hisepy.reader.cache_files(df['file.id'].tolist())"
   ]
  },
  {
   "cell_type": "code",
   "execution_count": 87,
   "id": "2786633c-02b5-435a-9dfa-e227f113509e",
   "metadata": {},
   "outputs": [],
   "source": [
    "destination_dir=os.getcwd()+\"/FlowCyto/\"\n",
    "os.makedirs(destination_dir, exist_ok=True)"
   ]
  },
  {
   "cell_type": "code",
   "execution_count": 88,
   "id": "004ad3d1-4369-46a1-9d47-8c06c51f48a7",
   "metadata": {},
   "outputs": [],
   "source": [
    "for i in file_uuid:\n",
    "    source_dir = f'/home/jupyter/cache/{i}'\n",
    "    if os.path.exists(source_dir):\n",
    "        files = os.listdir(source_dir)\n",
    "        for file in files:\n",
    "            file_path = os.path.join(source_dir, file)\n",
    "            if os.path.isfile(file_path):\n",
    "                shutil.move(file_path, destination_dir)"
   ]
  },
  {
   "cell_type": "code",
   "execution_count": 89,
   "id": "12bfe385-fcd3-4008-8f63-bcd5eea5a4d9",
   "metadata": {},
   "outputs": [],
   "source": [
    "df.to_csv(\"FlowCyto_BRI_uuid.csv\")"
   ]
  },
  {
   "cell_type": "code",
   "execution_count": null,
   "id": "950fa783-b1aa-4165-a728-78dc033de3d7",
   "metadata": {},
   "outputs": [],
   "source": []
  }
 ],
 "metadata": {
  "kernelspec": {
   "display_name": "Python [conda env:root] *",
   "language": "python",
   "name": "conda-root-py"
  },
  "language_info": {
   "codemirror_mode": {
    "name": "ipython",
    "version": 3
   },
   "file_extension": ".py",
   "mimetype": "text/x-python",
   "name": "python",
   "nbconvert_exporter": "python",
   "pygments_lexer": "ipython3",
   "version": "3.10.12"
  }
 },
 "nbformat": 4,
 "nbformat_minor": 5
}
