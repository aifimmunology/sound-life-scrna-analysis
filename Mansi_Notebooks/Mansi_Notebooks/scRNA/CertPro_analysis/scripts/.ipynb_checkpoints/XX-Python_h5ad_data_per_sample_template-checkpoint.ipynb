{
 "cells": [
  {
   "cell_type": "markdown",
   "id": "7a1615ef-56a0-4d17-96b3-d9a5dc19dbec",
   "metadata": {},
   "source": [
    "# Title\n",
    "\n",
    "Description of your analysis"
   ]
  },
  {
   "cell_type": "markdown",
   "id": "cd87b5ac-2971-4d77-a6c7-67d0a4254a34",
   "metadata": {},
   "source": [
    "## Load packages\n",
    "\n",
    "`datetime`: Day and time functions for adding the current date to our outputs  \n",
    "`hisepy`: The HISE SDK package for Python  \n",
    "`os`: Operating System calls in Python  \n",
    "`pandas`: DataFrames for Python  \n",
    "`tarfile`: .tar format handling in Python"
   ]
  },
  {
   "cell_type": "code",
   "execution_count": null,
   "id": "02b7c6f9-ca28-4eda-bc52-a8388fc441c9",
   "metadata": {},
   "outputs": [],
   "source": [
    "from datetime import date\n",
    "import hisepy\n",
    "import os\n",
    "import pandas\n",
    "import tarfile"
   ]
  },
  {
   "cell_type": "markdown",
   "id": "7f9b7928-feb2-4664-a5f3-f9684053a250",
   "metadata": {},
   "source": [
    "### Helper functions"
   ]
  },
  {
   "cell_type": "code",
   "execution_count": null,
   "id": "7d338b42-8fec-4519-b11f-eb57bb1b045b",
   "metadata": {},
   "outputs": [],
   "source": [
    "def cache_uuid_path(uuid):\n",
    "    cache_path = '/home/jupyter/cache/{u}'.format(u = uuid)\n",
    "    if not os.path.isdir(cache_path):\n",
    "        hise_res = hisepy.reader.cache_files([uuid])\n",
    "    filename = os.listdir(cache_path)[0]\n",
    "    cache_file = '{p}/{f}'.format(p = cache_path, f = filename)\n",
    "    return cache_file"
   ]
  },
  {
   "cell_type": "code",
   "execution_count": null,
   "id": "fec8ac8d-2a04-49dc-a3fa-b9158929ffdd",
   "metadata": {},
   "outputs": [],
   "source": [
    "def element_id(n = 3):\n",
    "    import periodictable\n",
    "    from random import randrange\n",
    "    rand_el = []\n",
    "    for i in range(n):\n",
    "        el = randrange(0,118)\n",
    "        rand_el.append(periodictable.elements[el].name)\n",
    "    rand_str = '-'.join(rand_el)\n",
    "    return rand_str"
   ]
  },
  {
   "cell_type": "markdown",
   "id": "e70c2b37-ed4e-4142-acb9-0894e0c9e51b",
   "metadata": {},
   "source": [
    "## Identify files for use in HISE"
   ]
  },
  {
   "cell_type": "code",
   "execution_count": null,
   "id": "882db029-b6ad-4be6-a617-7634267dc9c5",
   "metadata": {},
   "outputs": [],
   "source": [
    "search_id = 'polonium-tin-curium'"
   ]
  },
  {
   "cell_type": "markdown",
   "id": "ca16a2d4-afdd-4664-8d27-af353556e1cf",
   "metadata": {},
   "source": [
    "Retrieve the list of files stored in our HISE project store"
   ]
  },
  {
   "cell_type": "code",
   "execution_count": null,
   "id": "7f862a98-2f26-4fad-8aae-efb6366073b9",
   "metadata": {},
   "outputs": [],
   "source": [
    "ps_df = hisepy.list_files_in_project_store('cohorts')\n",
    "ps_df = ps_df[['id', 'name']]"
   ]
  },
  {
   "cell_type": "markdown",
   "id": "4763ea27-063e-4cb5-a413-8870f7c1c318",
   "metadata": {},
   "source": [
    "Filter for files from the previous notebook using our search_id and the .tar extension"
   ]
  },
  {
   "cell_type": "code",
   "execution_count": null,
   "id": "95b7e1ee-1819-48f1-963e-f3717ebfe881",
   "metadata": {},
   "outputs": [],
   "source": [
    "search_df = ps_df[ps_df['name'].str.contains(search_id)]\n",
    "search_df = search_df[search_df['name'].str.contains('.tar')]\n",
    "search_df = search_df.sort_values('name')"
   ]
  },
  {
   "cell_type": "code",
   "execution_count": null,
   "id": "413055a9-a2de-47d9-84d3-322993caa4f0",
   "metadata": {},
   "outputs": [],
   "source": [
    "search_df['name'].tolist()"
   ]
  },
  {
   "cell_type": "markdown",
   "id": "0d023181-33fa-4093-a1e1-27d347f83c29",
   "metadata": {},
   "source": [
    "## Cache and unpack files"
   ]
  },
  {
   "cell_type": "code",
   "execution_count": null,
   "id": "b795e9e4-6b6b-4c53-856a-13d82c068364",
   "metadata": {},
   "outputs": [],
   "source": [
    "for uuid in search_df['id']:\n",
    "    tar_path = cache_uuid_path(uuid)\n",
    "    \n",
    "    print('extracting file: ' + tar_path)\n",
    "    with tarfile.open(tar_path, 'r') as tar:\n",
    "        tar.extractall()"
   ]
  },
  {
   "cell_type": "markdown",
   "id": "3af9f26f-385b-4a4e-abc1-0b0b6d3285d0",
   "metadata": {},
   "source": [
    "## Perform analysis"
   ]
  },
  {
   "cell_type": "code",
   "execution_count": null,
   "id": "f570295a-cb06-4b2f-ab72-41941774a178",
   "metadata": {},
   "outputs": [],
   "source": []
  },
  {
   "cell_type": "code",
   "execution_count": null,
   "id": "2834c34f-fbd4-4682-875a-19fa747d1318",
   "metadata": {},
   "outputs": [],
   "source": []
  },
  {
   "cell_type": "code",
   "execution_count": null,
   "id": "30407534-107f-4d11-a44b-4008dbf8c533",
   "metadata": {},
   "outputs": [],
   "source": []
  },
  {
   "cell_type": "markdown",
   "id": "b8d013da-eac0-4c59-88b1-2327c69c1f90",
   "metadata": {},
   "source": [
    "## Write analysis outputs"
   ]
  },
  {
   "cell_type": "code",
   "execution_count": null,
   "id": "de8d50e1-aefd-4eb7-9198-bef533f97c49",
   "metadata": {
    "tags": []
   },
   "outputs": [],
   "source": [
    "out_path = 'output'\n",
    "if not os.path.isdir(out_path):\n",
    "    os.makedirs(out_path)"
   ]
  },
  {
   "cell_type": "code",
   "execution_count": null,
   "id": "f3ea48c1-0de4-41c4-8018-cbefba097341",
   "metadata": {},
   "outputs": [],
   "source": [
    "out_file = '{p}/analysis_result_{d}.csv'.format(p = out_path, d = date.today())\n",
    "result.to_csv(out_file)"
   ]
  },
  {
   "cell_type": "markdown",
   "id": "8a8c3543-3c09-4b00-9d9e-5b851818550a",
   "metadata": {},
   "source": [
    "## Upload results to HISE"
   ]
  },
  {
   "cell_type": "code",
   "execution_count": null,
   "id": "d69c245c-6eb0-4863-8abe-30878be82843",
   "metadata": {},
   "outputs": [],
   "source": [
    "study_space_uuid = ''\n",
    "title = 'CertPro Analysis Result {d}'.format(d = date.today())"
   ]
  },
  {
   "cell_type": "code",
   "execution_count": null,
   "id": "b74e2300-7195-4e27-bb51-ddeeb6af7e1e",
   "metadata": {},
   "outputs": [],
   "source": [
    "search_id = element_id()\n",
    "search_id"
   ]
  },
  {
   "cell_type": "code",
   "execution_count": null,
   "id": "72193763-3435-4d1e-ac1e-8a06339ee474",
   "metadata": {},
   "outputs": [],
   "source": [
    "in_files = [file_uuid]\n",
    "in_files"
   ]
  },
  {
   "cell_type": "code",
   "execution_count": null,
   "id": "f71e9e12-ea14-4692-b126-77f5e2c1e4f7",
   "metadata": {},
   "outputs": [],
   "source": [
    "out_files = [out_file]\n",
    "out_files"
   ]
  },
  {
   "cell_type": "code",
   "execution_count": null,
   "id": "8e4e9aeb-4be4-4b9c-8b3f-a53d479f8431",
   "metadata": {},
   "outputs": [],
   "source": [
    "hisepy.upload.upload_files(\n",
    "    study_space_id = study_space_uuid,\n",
    "    title = title,\n",
    "    input_file_ids = in_files,\n",
    "    files = out_files,\n",
    "    destination = search_id\n",
    ")"
   ]
  },
  {
   "cell_type": "markdown",
   "id": "8251802f-e0fd-4d82-81e8-59f43ba69ff8",
   "metadata": {},
   "source": [
    "## Session Info"
   ]
  },
  {
   "cell_type": "code",
   "execution_count": null,
   "id": "96e285ae-4d09-46ae-9b83-1965ba3ccf7a",
   "metadata": {},
   "outputs": [],
   "source": [
    "import session_info\n",
    "session_info.show()"
   ]
  }
 ],
 "metadata": {
  "kernelspec": {
   "display_name": "Python 3 (ipykernel)",
   "language": "python",
   "name": "python3"
  },
  "language_info": {
   "codemirror_mode": {
    "name": "ipython",
    "version": 3
   },
   "file_extension": ".py",
   "mimetype": "text/x-python",
   "name": "python",
   "nbconvert_exporter": "python",
   "pygments_lexer": "ipython3",
   "version": "3.10.13"
  }
 },
 "nbformat": 4,
 "nbformat_minor": 5
}
