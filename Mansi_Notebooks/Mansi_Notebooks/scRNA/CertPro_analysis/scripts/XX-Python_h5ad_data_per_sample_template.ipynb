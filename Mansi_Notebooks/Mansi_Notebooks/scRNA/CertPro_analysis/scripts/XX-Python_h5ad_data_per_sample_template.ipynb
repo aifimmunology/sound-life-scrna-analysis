{
 "cells": [
  {
   "cell_type": "markdown",
   "id": "7a1615ef-56a0-4d17-96b3-d9a5dc19dbec",
   "metadata": {},
   "source": [
    "# Title\n",
    "\n",
    "Description of your analysis"
   ]
  },
  {
   "cell_type": "markdown",
   "id": "cd87b5ac-2971-4d77-a6c7-67d0a4254a34",
   "metadata": {},
   "source": [
    "## Load packages\n",
    "\n",
    "`datetime`: Day and time functions for adding the current date to our outputs  \n",
    "`hisepy`: The HISE SDK package for Python  \n",
    "`os`: Operating System calls in Python  \n",
    "`pandas`: DataFrames for Python  \n",
    "`tarfile`: .tar format handling in Python"
   ]
  },
  {
   "cell_type": "code",
   "execution_count": 1,
   "id": "02b7c6f9-ca28-4eda-bc52-a8388fc441c9",
   "metadata": {
    "tags": []
   },
   "outputs": [],
   "source": [
    "from datetime import date\n",
    "import hisepy\n",
    "import os\n",
    "import pandas\n",
    "import tarfile"
   ]
  },
  {
   "cell_type": "code",
   "execution_count": 2,
   "id": "fb4bc3d5-f881-4052-ba53-75612ad02176",
   "metadata": {
    "tags": []
   },
   "outputs": [
    {
     "data": {
      "text/html": [
       "<details>\n",
       "<summary>Click to view session information</summary>\n",
       "<pre>\n",
       "-----\n",
       "hisepy              0.3.0\n",
       "pandas              2.1.0\n",
       "session_info        1.0.0\n",
       "-----\n",
       "</pre>\n",
       "<details>\n",
       "<summary>Click to view modules imported as dependencies</summary>\n",
       "<pre>\n",
       "PIL                         10.0.0\n",
       "anyio                       NA\n",
       "asttokens                   NA\n",
       "attr                        23.1.0\n",
       "attrs                       23.1.0\n",
       "babel                       2.12.1\n",
       "backcall                    0.2.0\n",
       "beatrix_jupyterlab          NA\n",
       "brotli                      1.1.0\n",
       "cachetools                  5.3.1\n",
       "certifi                     2023.07.22\n",
       "cffi                        1.15.1\n",
       "charset_normalizer          3.2.0\n",
       "cloudpickle                 2.2.1\n",
       "colorama                    0.4.6\n",
       "comm                        0.1.4\n",
       "cryptography                41.0.3\n",
       "cycler                      0.10.0\n",
       "cython_runtime              NA\n",
       "dateutil                    2.8.2\n",
       "db_dtypes                   1.1.1\n",
       "debugpy                     1.8.0\n",
       "decorator                   5.1.1\n",
       "defusedxml                  0.7.1\n",
       "deprecated                  1.2.14\n",
       "entrypoints                 0.4\n",
       "exceptiongroup              1.1.3\n",
       "executing                   1.2.0\n",
       "fastjsonschema              NA\n",
       "google                      NA\n",
       "greenlet                    2.0.2\n",
       "grpc                        1.56.2\n",
       "grpc_status                 NA\n",
       "h5py                        3.9.0\n",
       "idna                        3.4\n",
       "importlib_metadata          NA\n",
       "ipykernel                   6.25.2\n",
       "ipython_genutils            0.2.0\n",
       "ipywidgets                  8.1.1\n",
       "jedi                        0.19.0\n",
       "jinja2                      3.1.2\n",
       "json5                       NA\n",
       "jsonpointer                 2.4\n",
       "jsonschema                  4.19.0\n",
       "jsonschema_specifications   NA\n",
       "jupyter_events              0.6.3\n",
       "jupyter_server              2.7.3\n",
       "jupyterlab_server           2.25.0\n",
       "jwt                         2.8.0\n",
       "kiwisolver                  1.4.4\n",
       "markupsafe                  2.1.3\n",
       "matplotlib                  3.7.2\n",
       "matplotlib_inline           0.1.6\n",
       "mpl_toolkits                NA\n",
       "nbformat                    5.9.2\n",
       "numpy                       1.24.4\n",
       "opentelemetry               NA\n",
       "overrides                   NA\n",
       "packaging                   23.1\n",
       "parso                       0.8.3\n",
       "pexpect                     4.8.0\n",
       "pickleshare                 0.7.5\n",
       "pkg_resources               NA\n",
       "platformdirs                3.10.0\n",
       "plotly                      5.17.0\n",
       "prettytable                 3.8.0\n",
       "prometheus_client           NA\n",
       "prompt_toolkit              3.0.39\n",
       "proto                       NA\n",
       "psutil                      5.9.5\n",
       "ptyprocess                  0.7.0\n",
       "pure_eval                   0.2.2\n",
       "pyarrow                     12.0.1\n",
       "pydev_ipython               NA\n",
       "pydevconsole                NA\n",
       "pydevd                      2.9.5\n",
       "pydevd_file_utils           NA\n",
       "pydevd_plugins              NA\n",
       "pydevd_tracing              NA\n",
       "pygments                    2.16.1\n",
       "pyparsing                   3.1.1\n",
       "pyreadr                     0.4.9\n",
       "pythonjsonlogger            NA\n",
       "pytz                        2023.3.post1\n",
       "referencing                 NA\n",
       "requests                    2.31.0\n",
       "rfc3339_validator           0.1.4\n",
       "rfc3986_validator           0.1.1\n",
       "rpds                        NA\n",
       "send2trash                  NA\n",
       "shapely                     1.8.5.post1\n",
       "six                         1.16.0\n",
       "sniffio                     1.3.0\n",
       "socks                       1.7.1\n",
       "sql                         NA\n",
       "sqlalchemy                  2.0.19\n",
       "sqlparse                    0.4.4\n",
       "stack_data                  0.6.2\n",
       "termcolor                   NA\n",
       "tornado                     6.3.3\n",
       "tqdm                        4.66.1\n",
       "traitlets                   5.9.0\n",
       "typing_extensions           NA\n",
       "urllib3                     1.26.16\n",
       "wcwidth                     0.2.6\n",
       "websocket                   1.6.3\n",
       "wrapt                       1.15.0\n",
       "xarray                      2023.8.0\n",
       "yaml                        6.0\n",
       "zipp                        NA\n",
       "zmq                         24.0.1\n",
       "zoneinfo                    NA\n",
       "</pre>\n",
       "</details> <!-- seems like this ends pre, so might as well be explicit -->\n",
       "<pre>\n",
       "-----\n",
       "IPython             8.15.0\n",
       "jupyter_client      7.4.9\n",
       "jupyter_core        5.3.1\n",
       "jupyterlab          3.6.6\n",
       "notebook            6.5.5\n",
       "-----\n",
       "Python 3.10.12 | packaged by conda-forge | (main, Jun 23 2023, 22:40:32) [GCC 12.3.0]\n",
       "Linux-5.15.0-1058-gcp-x86_64-with-glibc2.31\n",
       "-----\n",
       "Session information updated at 2024-05-14 19:52\n",
       "</pre>\n",
       "</details>"
      ],
      "text/plain": [
       "<IPython.core.display.HTML object>"
      ]
     },
     "execution_count": 2,
     "metadata": {},
     "output_type": "execute_result"
    }
   ],
   "source": [
    "import session_info\n",
    "session_info.show()"
   ]
  },
  {
   "cell_type": "markdown",
   "id": "7f9b7928-feb2-4664-a5f3-f9684053a250",
   "metadata": {},
   "source": [
    "### Helper functions"
   ]
  },
  {
   "cell_type": "code",
   "execution_count": 3,
   "id": "7d338b42-8fec-4519-b11f-eb57bb1b045b",
   "metadata": {
    "tags": []
   },
   "outputs": [],
   "source": [
    "def cache_uuid_path(uuid):\n",
    "    cache_path = '/home/jupyter/cache/{u}'.format(u = uuid)\n",
    "    if not os.path.isdir(cache_path):\n",
    "        hise_res = hisepy.reader.cache_files([uuid])\n",
    "    filename = os.listdir(cache_path)[0]\n",
    "    cache_file = '{p}/{f}'.format(p = cache_path, f = filename)\n",
    "    return cache_file"
   ]
  },
  {
   "cell_type": "code",
   "execution_count": 4,
   "id": "fec8ac8d-2a04-49dc-a3fa-b9158929ffdd",
   "metadata": {
    "tags": []
   },
   "outputs": [],
   "source": [
    "def element_id(n = 3):\n",
    "    import periodictable\n",
    "    from random import randrange\n",
    "    rand_el = []\n",
    "    for i in range(n):\n",
    "        el = randrange(0,118)\n",
    "        rand_el.append(periodictable.elements[el].name)\n",
    "    rand_str = '-'.join(rand_el)\n",
    "    return rand_str"
   ]
  },
  {
   "cell_type": "markdown",
   "id": "e70c2b37-ed4e-4142-acb9-0894e0c9e51b",
   "metadata": {},
   "source": [
    "## Identify files for use in HISE"
   ]
  },
  {
   "cell_type": "code",
   "execution_count": 5,
   "id": "882db029-b6ad-4be6-a617-7634267dc9c5",
   "metadata": {
    "tags": []
   },
   "outputs": [],
   "source": [
    "search_id = 'polonium-tin-curium'"
   ]
  },
  {
   "cell_type": "markdown",
   "id": "ca16a2d4-afdd-4664-8d27-af353556e1cf",
   "metadata": {},
   "source": [
    "Retrieve the list of files stored in our HISE project store"
   ]
  },
  {
   "cell_type": "code",
   "execution_count": 6,
   "id": "7f862a98-2f26-4fad-8aae-efb6366073b9",
   "metadata": {
    "tags": []
   },
   "outputs": [],
   "source": [
    "ps_df = hisepy.list_files_in_project_store('cohorts')\n",
    "ps_df = ps_df[['id', 'name']]"
   ]
  },
  {
   "cell_type": "markdown",
   "id": "4763ea27-063e-4cb5-a413-8870f7c1c318",
   "metadata": {},
   "source": [
    "Filter for files from the previous notebook using our search_id and the .tar extension"
   ]
  },
  {
   "cell_type": "code",
   "execution_count": 7,
   "id": "95b7e1ee-1819-48f1-963e-f3717ebfe881",
   "metadata": {
    "tags": []
   },
   "outputs": [],
   "source": [
    "search_df = ps_df[ps_df['name'].str.contains(search_id)]\n",
    "search_df = search_df[search_df['name'].str.contains('.tar')]\n",
    "search_df = search_df.sort_values('name')"
   ]
  },
  {
   "cell_type": "code",
   "execution_count": 8,
   "id": "413055a9-a2de-47d9-84d3-322993caa4f0",
   "metadata": {
    "tags": []
   },
   "outputs": [
    {
     "data": {
      "text/plain": [
       "['polonium-tin-curium/diha_BR1_Female_Negative_h5ads_2024-05-05.tar',\n",
       " 'polonium-tin-curium/diha_BR1_Female_Positive_h5ads_2024-05-05.tar',\n",
       " 'polonium-tin-curium/diha_BR1_Male_Negative_h5ads_2024-05-05.tar',\n",
       " 'polonium-tin-curium/diha_BR1_Male_Positive_h5ads_2024-05-05.tar',\n",
       " 'polonium-tin-curium/diha_BR2_Female_Negative_h5ads_2024-05-05.tar',\n",
       " 'polonium-tin-curium/diha_BR2_Female_Positive_h5ads_2024-05-05.tar',\n",
       " 'polonium-tin-curium/diha_BR2_Male_Negative_h5ads_2024-05-05.tar',\n",
       " 'polonium-tin-curium/diha_BR2_Male_Positive_h5ads_2024-05-05.tar']"
      ]
     },
     "execution_count": 8,
     "metadata": {},
     "output_type": "execute_result"
    }
   ],
   "source": [
    "search_df['name'].tolist()"
   ]
  },
  {
   "cell_type": "markdown",
   "id": "0d023181-33fa-4093-a1e1-27d347f83c29",
   "metadata": {},
   "source": [
    "## Cache and unpack files"
   ]
  },
  {
   "cell_type": "code",
   "execution_count": 9,
   "id": "b795e9e4-6b6b-4c53-856a-13d82c068364",
   "metadata": {
    "tags": []
   },
   "outputs": [
    {
     "name": "stdout",
     "output_type": "stream",
     "text": [
      "extracting file: /home/jupyter/cache/04666e28-8443-4a51-8670-f409a7b5afe5/diha_BR1_Female_Negative_h5ads_2024-05-05.tar\n",
      "extracting file: /home/jupyter/cache/ae2996c3-eab5-4d61-a997-084351727413/diha_BR1_Female_Positive_h5ads_2024-05-05.tar\n",
      "extracting file: /home/jupyter/cache/b8f48340-ec96-4ed9-bad1-23fcb1a64e70/diha_BR1_Male_Negative_h5ads_2024-05-05.tar\n",
      "extracting file: /home/jupyter/cache/11d754d9-0323-400b-8c47-8b9193d254d6/diha_BR1_Male_Positive_h5ads_2024-05-05.tar\n",
      "extracting file: /home/jupyter/cache/6c6c9bbb-ac49-42f1-9e4f-f6a00766f331/diha_BR2_Female_Negative_h5ads_2024-05-05.tar\n",
      "downloading fileID: 712082ed-2fe2-4121-9f89-7f732b4a58a7\n",
      "Files have been successfully downloaded!\n",
      "extracting file: /home/jupyter/cache/712082ed-2fe2-4121-9f89-7f732b4a58a7/diha_BR2_Female_Positive_h5ads_2024-05-05.tar\n",
      "downloading fileID: e1fe73c4-44d1-4092-ba72-72c5efe657d1\n",
      "Files have been successfully downloaded!\n",
      "extracting file: /home/jupyter/cache/e1fe73c4-44d1-4092-ba72-72c5efe657d1/diha_BR2_Male_Negative_h5ads_2024-05-05.tar\n",
      "downloading fileID: dd3c4973-439f-4987-ac52-12cd86b31021\n",
      "Files have been successfully downloaded!\n",
      "extracting file: /home/jupyter/cache/dd3c4973-439f-4987-ac52-12cd86b31021/diha_BR2_Male_Positive_h5ads_2024-05-05.tar\n"
     ]
    }
   ],
   "source": [
    "for uuid in search_df['id']:\n",
    "    tar_path = cache_uuid_path(uuid)\n",
    "    \n",
    "    print('extracting file: ' + tar_path)\n",
    "    with tarfile.open(tar_path, 'r') as tar:\n",
    "        tar.extractall()"
   ]
  },
  {
   "cell_type": "markdown",
   "id": "3af9f26f-385b-4a4e-abc1-0b0b6d3285d0",
   "metadata": {},
   "source": [
    "## Perform analysis"
   ]
  },
  {
   "cell_type": "code",
   "execution_count": null,
   "id": "f570295a-cb06-4b2f-ab72-41941774a178",
   "metadata": {},
   "outputs": [],
   "source": []
  },
  {
   "cell_type": "code",
   "execution_count": null,
   "id": "2834c34f-fbd4-4682-875a-19fa747d1318",
   "metadata": {},
   "outputs": [],
   "source": []
  },
  {
   "cell_type": "code",
   "execution_count": null,
   "id": "30407534-107f-4d11-a44b-4008dbf8c533",
   "metadata": {},
   "outputs": [],
   "source": []
  },
  {
   "cell_type": "markdown",
   "id": "b8d013da-eac0-4c59-88b1-2327c69c1f90",
   "metadata": {},
   "source": [
    "## Write analysis outputs"
   ]
  },
  {
   "cell_type": "code",
   "execution_count": null,
   "id": "de8d50e1-aefd-4eb7-9198-bef533f97c49",
   "metadata": {
    "tags": []
   },
   "outputs": [],
   "source": [
    "out_path = 'output'\n",
    "if not os.path.isdir(out_path):\n",
    "    os.makedirs(out_path)"
   ]
  },
  {
   "cell_type": "code",
   "execution_count": null,
   "id": "f3ea48c1-0de4-41c4-8018-cbefba097341",
   "metadata": {},
   "outputs": [],
   "source": [
    "out_file = '{p}/analysis_result_{d}.csv'.format(p = out_path, d = date.today())\n",
    "result.to_csv(out_file)"
   ]
  },
  {
   "cell_type": "markdown",
   "id": "8a8c3543-3c09-4b00-9d9e-5b851818550a",
   "metadata": {},
   "source": [
    "## Upload results to HISE"
   ]
  },
  {
   "cell_type": "code",
   "execution_count": null,
   "id": "d69c245c-6eb0-4863-8abe-30878be82843",
   "metadata": {},
   "outputs": [],
   "source": [
    "study_space_uuid = ''\n",
    "title = 'CertPro Analysis Result {d}'.format(d = date.today())"
   ]
  },
  {
   "cell_type": "code",
   "execution_count": null,
   "id": "b74e2300-7195-4e27-bb51-ddeeb6af7e1e",
   "metadata": {},
   "outputs": [],
   "source": [
    "search_id = element_id()\n",
    "search_id"
   ]
  },
  {
   "cell_type": "code",
   "execution_count": null,
   "id": "72193763-3435-4d1e-ac1e-8a06339ee474",
   "metadata": {},
   "outputs": [],
   "source": [
    "in_files = [file_uuid]\n",
    "in_files"
   ]
  },
  {
   "cell_type": "code",
   "execution_count": null,
   "id": "f71e9e12-ea14-4692-b126-77f5e2c1e4f7",
   "metadata": {},
   "outputs": [],
   "source": [
    "out_files = [out_file]\n",
    "out_files"
   ]
  },
  {
   "cell_type": "code",
   "execution_count": null,
   "id": "8e4e9aeb-4be4-4b9c-8b3f-a53d479f8431",
   "metadata": {},
   "outputs": [],
   "source": [
    "hisepy.upload.upload_files(\n",
    "    study_space_id = study_space_uuid,\n",
    "    title = title,\n",
    "    input_file_ids = in_files,\n",
    "    files = out_files,\n",
    "    destination = search_id\n",
    ")"
   ]
  },
  {
   "cell_type": "markdown",
   "id": "8251802f-e0fd-4d82-81e8-59f43ba69ff8",
   "metadata": {},
   "source": [
    "## Session Info"
   ]
  },
  {
   "cell_type": "code",
   "execution_count": null,
   "id": "96e285ae-4d09-46ae-9b83-1965ba3ccf7a",
   "metadata": {},
   "outputs": [],
   "source": [
    "import session_info\n",
    "session_info.show()"
   ]
  }
 ],
 "metadata": {
  "kernelspec": {
   "display_name": "newer-hisepy",
   "language": "python",
   "name": "newer-hisepy"
  },
  "language_info": {
   "codemirror_mode": {
    "name": "ipython",
    "version": 3
   },
   "file_extension": ".py",
   "mimetype": "text/x-python",
   "name": "python",
   "nbconvert_exporter": "python",
   "pygments_lexer": "ipython3",
   "version": "3.10.12"
  }
 },
 "nbformat": 4,
 "nbformat_minor": 5
}
