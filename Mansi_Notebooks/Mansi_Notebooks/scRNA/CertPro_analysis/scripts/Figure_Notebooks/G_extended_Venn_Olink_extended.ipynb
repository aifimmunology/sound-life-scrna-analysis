{
 "cells": [
  {
   "cell_type": "code",
   "execution_count": null,
   "id": "959329a7-320c-4947-8001-be08f59952a5",
   "metadata": {},
   "outputs": [],
   "source": []
  },
  {
   "cell_type": "code",
   "execution_count": 1,
   "id": "7db44c14-a71e-4f5d-bac0-158753b636f6",
   "metadata": {
    "tags": []
   },
   "outputs": [
    {
     "name": "stderr",
     "output_type": "stream",
     "text": [
      "------------------------------------------------------------------------------\n",
      "\n",
      "You have loaded plyr after dplyr - this is likely to cause problems.\n",
      "If you need functions from both plyr and dplyr, please load plyr first, then dplyr:\n",
      "library(plyr); library(dplyr)\n",
      "\n",
      "------------------------------------------------------------------------------\n",
      "\n",
      "\n",
      "Attaching package: ‘plyr’\n",
      "\n",
      "\n",
      "The following objects are masked from ‘package:dplyr’:\n",
      "\n",
      "    arrange, count, desc, failwith, id, mutate, rename, summarise,\n",
      "    summarize\n",
      "\n",
      "\n",
      "\n",
      "Attaching package: ‘purrr’\n",
      "\n",
      "\n",
      "The following object is masked from ‘package:plyr’:\n",
      "\n",
      "    compact\n",
      "\n",
      "\n",
      "Loading required package: permute\n",
      "\n",
      "Loading required package: lattice\n",
      "\n",
      "This is vegan 2.6-4\n",
      "\n",
      "\n",
      "Attaching package: ‘rstatix’\n",
      "\n",
      "\n",
      "The following objects are masked from ‘package:plyr’:\n",
      "\n",
      "    desc, mutate\n",
      "\n",
      "\n",
      "The following object is masked from ‘package:stats’:\n",
      "\n",
      "    filter\n",
      "\n",
      "\n",
      "Loading required package: ggplot2\n",
      "\n",
      "\n",
      "Attaching package: ‘ggpubr’\n",
      "\n",
      "\n",
      "The following object is masked from ‘package:plyr’:\n",
      "\n",
      "    mutate\n",
      "\n",
      "\n",
      "Loading required package: grid\n",
      "\n",
      "========================================\n",
      "ComplexHeatmap version 2.16.0\n",
      "Bioconductor page: http://bioconductor.org/packages/ComplexHeatmap/\n",
      "Github page: https://github.com/jokergoo/ComplexHeatmap\n",
      "Documentation: http://jokergoo.github.io/ComplexHeatmap-reference\n",
      "\n",
      "If you use it in published research, please cite either one:\n",
      "- Gu, Z. Complex Heatmap Visualization. iMeta 2022.\n",
      "- Gu, Z. Complex heatmaps reveal patterns and correlations in multidimensional \n",
      "    genomic data. Bioinformatics 2016.\n",
      "\n",
      "\n",
      "The new InteractiveComplexHeatmap package can directly export static \n",
      "complex heatmaps into an interactive Shiny app with zero effort. Have a try!\n",
      "\n",
      "This message can be suppressed by:\n",
      "  suppressPackageStartupMessages(library(ComplexHeatmap))\n",
      "========================================\n",
      "! pheatmap() has been masked by ComplexHeatmap::pheatmap(). Most of the arguments\n",
      "   in the original pheatmap() are identically supported in the new function. You \n",
      "   can still use the original function by explicitly calling pheatmap::pheatmap().\n",
      "\n",
      "\n",
      "\n",
      "Attaching package: ‘ComplexHeatmap’\n",
      "\n",
      "\n",
      "The following object is masked from ‘package:pheatmap’:\n",
      "\n",
      "    pheatmap\n",
      "\n",
      "\n"
     ]
    },
    {
     "ename": "ERROR",
     "evalue": "Error in library(compositions): there is no package called ‘compositions’\n",
     "output_type": "error",
     "traceback": [
      "Error in library(compositions): there is no package called ‘compositions’\nTraceback:\n",
      "1. library(compositions)"
     ]
    }
   ],
   "source": [
    "suppressPackageStartupMessages(library(readxl))\n",
    "suppressPackageStartupMessages(library(dplyr))\n",
    "suppressPackageStartupMessages(library(tidyr))\n",
    "suppressPackageStartupMessages(library(tibble))\n",
    "suppressPackageStartupMessages(library(patchwork))\n",
    "suppressPackageStartupMessages(library(pheatmap))\n",
    "suppressPackageStartupMessages(library(stringr))\n",
    "library(hise)\n",
    "library(plyr)\n",
    "library(purrr)\n",
    "library(vegan)\n",
    "#library(arrow)\n",
    "library(rstatix)\n",
    "library(parallel)\n",
    "library(ggpubr)\n",
    "library(ComplexHeatmap)\n",
    "library(compositions)\n",
    "library(ggsci)\n",
    "library(math)\n",
    "library(NatParksPalettes)\n",
    "library(readr)\n",
    "libray(ggvenn)\n",
    "library(ggVennDiagram)\n",
    "library(readxl)"
   ]
  },
  {
   "cell_type": "code",
   "execution_count": null,
   "id": "9ee418a3-7d0c-4abe-ae27-198dd3f9d4c1",
   "metadata": {},
   "outputs": [],
   "source": []
  },
  {
   "cell_type": "code",
   "execution_count": 2,
   "id": "41641f98-d7b4-459b-b3e6-f7ff12fc0f5e",
   "metadata": {
    "tags": []
   },
   "outputs": [
    {
     "data": {
      "text/html": [
       "<table class=\"dataframe\">\n",
       "<caption>A data.frame: 6 × 12</caption>\n",
       "<thead>\n",
       "\t<tr><th></th><th scope=col>X.1</th><th scope=col>X</th><th scope=col>Estimate</th><th scope=col>Std..Error</th><th scope=col>t.value</th><th scope=col>Pr...t..</th><th scope=col>factor</th><th scope=col>Assay</th><th scope=col>Log2FC_Age</th><th scope=col>diff</th><th scope=col>padj</th><th scope=col>Sex</th></tr>\n",
       "\t<tr><th></th><th scope=col>&lt;int&gt;</th><th scope=col>&lt;chr&gt;</th><th scope=col>&lt;dbl&gt;</th><th scope=col>&lt;dbl&gt;</th><th scope=col>&lt;dbl&gt;</th><th scope=col>&lt;dbl&gt;</th><th scope=col>&lt;chr&gt;</th><th scope=col>&lt;chr&gt;</th><th scope=col>&lt;dbl&gt;</th><th scope=col>&lt;dbl&gt;</th><th scope=col>&lt;dbl&gt;</th><th scope=col>&lt;chr&gt;</th></tr>\n",
       "</thead>\n",
       "<tbody>\n",
       "\t<tr><th scope=row>1</th><td>1</td><td>cohort.cohortGuidBR2 </td><td> 0.014084760</td><td>0.32010931</td><td> 0.04399985</td><td>9.650871e-01</td><td>Age</td><td>GYS1   </td><td> 0.00997620</td><td> 0.018938538</td><td>1.00000000</td><td>F</td></tr>\n",
       "\t<tr><th scope=row>2</th><td>2</td><td>cohort.cohortGuidBR21</td><td> 0.376308726</td><td>0.08035168</td><td> 4.68327128</td><td>2.349236e-05</td><td>Age</td><td>THPO   </td><td> 0.76754320</td><td> 0.389521308</td><td>0.03371154</td><td>F</td></tr>\n",
       "\t<tr><th scope=row>3</th><td>3</td><td>cohort.cohortGuidBR22</td><td> 0.149121132</td><td>0.10279043</td><td> 1.45072969</td><td>1.533592e-01</td><td>Age</td><td>CLEC1A </td><td> 0.27795947</td><td> 0.150093769</td><td>1.00000000</td><td>F</td></tr>\n",
       "\t<tr><th scope=row>4</th><td>4</td><td>cohort.cohortGuidBR23</td><td> 0.063681226</td><td>0.06761780</td><td> 0.94178194</td><td>3.510202e-01</td><td>Age</td><td>ENTPD6 </td><td> 0.15037582</td><td> 0.058399538</td><td>1.00000000</td><td>F</td></tr>\n",
       "\t<tr><th scope=row>5</th><td>5</td><td>cohort.cohortGuidBR24</td><td>-0.007663344</td><td>0.19752234</td><td>-0.03879735</td><td>9.692129e-01</td><td>Age</td><td>CEACAM8</td><td>-0.03573175</td><td>-0.008413308</td><td>1.00000000</td><td>F</td></tr>\n",
       "\t<tr><th scope=row>6</th><td>6</td><td>cohort.cohortGuidBR25</td><td> 0.305021773</td><td>0.14688491</td><td> 2.07660387</td><td>4.321507e-02</td><td>Age</td><td>S100P  </td><td>         NA</td><td> 0.338451538</td><td>1.00000000</td><td>F</td></tr>\n",
       "</tbody>\n",
       "</table>\n"
      ],
      "text/latex": [
       "A data.frame: 6 × 12\n",
       "\\begin{tabular}{r|llllllllllll}\n",
       "  & X.1 & X & Estimate & Std..Error & t.value & Pr...t.. & factor & Assay & Log2FC\\_Age & diff & padj & Sex\\\\\n",
       "  & <int> & <chr> & <dbl> & <dbl> & <dbl> & <dbl> & <chr> & <chr> & <dbl> & <dbl> & <dbl> & <chr>\\\\\n",
       "\\hline\n",
       "\t1 & 1 & cohort.cohortGuidBR2  &  0.014084760 & 0.32010931 &  0.04399985 & 9.650871e-01 & Age & GYS1    &  0.00997620 &  0.018938538 & 1.00000000 & F\\\\\n",
       "\t2 & 2 & cohort.cohortGuidBR21 &  0.376308726 & 0.08035168 &  4.68327128 & 2.349236e-05 & Age & THPO    &  0.76754320 &  0.389521308 & 0.03371154 & F\\\\\n",
       "\t3 & 3 & cohort.cohortGuidBR22 &  0.149121132 & 0.10279043 &  1.45072969 & 1.533592e-01 & Age & CLEC1A  &  0.27795947 &  0.150093769 & 1.00000000 & F\\\\\n",
       "\t4 & 4 & cohort.cohortGuidBR23 &  0.063681226 & 0.06761780 &  0.94178194 & 3.510202e-01 & Age & ENTPD6  &  0.15037582 &  0.058399538 & 1.00000000 & F\\\\\n",
       "\t5 & 5 & cohort.cohortGuidBR24 & -0.007663344 & 0.19752234 & -0.03879735 & 9.692129e-01 & Age & CEACAM8 & -0.03573175 & -0.008413308 & 1.00000000 & F\\\\\n",
       "\t6 & 6 & cohort.cohortGuidBR25 &  0.305021773 & 0.14688491 &  2.07660387 & 4.321507e-02 & Age & S100P   &          NA &  0.338451538 & 1.00000000 & F\\\\\n",
       "\\end{tabular}\n"
      ],
      "text/markdown": [
       "\n",
       "A data.frame: 6 × 12\n",
       "\n",
       "| <!--/--> | X.1 &lt;int&gt; | X &lt;chr&gt; | Estimate &lt;dbl&gt; | Std..Error &lt;dbl&gt; | t.value &lt;dbl&gt; | Pr...t.. &lt;dbl&gt; | factor &lt;chr&gt; | Assay &lt;chr&gt; | Log2FC_Age &lt;dbl&gt; | diff &lt;dbl&gt; | padj &lt;dbl&gt; | Sex &lt;chr&gt; |\n",
       "|---|---|---|---|---|---|---|---|---|---|---|---|---|\n",
       "| 1 | 1 | cohort.cohortGuidBR2  |  0.014084760 | 0.32010931 |  0.04399985 | 9.650871e-01 | Age | GYS1    |  0.00997620 |  0.018938538 | 1.00000000 | F |\n",
       "| 2 | 2 | cohort.cohortGuidBR21 |  0.376308726 | 0.08035168 |  4.68327128 | 2.349236e-05 | Age | THPO    |  0.76754320 |  0.389521308 | 0.03371154 | F |\n",
       "| 3 | 3 | cohort.cohortGuidBR22 |  0.149121132 | 0.10279043 |  1.45072969 | 1.533592e-01 | Age | CLEC1A  |  0.27795947 |  0.150093769 | 1.00000000 | F |\n",
       "| 4 | 4 | cohort.cohortGuidBR23 |  0.063681226 | 0.06761780 |  0.94178194 | 3.510202e-01 | Age | ENTPD6  |  0.15037582 |  0.058399538 | 1.00000000 | F |\n",
       "| 5 | 5 | cohort.cohortGuidBR24 | -0.007663344 | 0.19752234 | -0.03879735 | 9.692129e-01 | Age | CEACAM8 | -0.03573175 | -0.008413308 | 1.00000000 | F |\n",
       "| 6 | 6 | cohort.cohortGuidBR25 |  0.305021773 | 0.14688491 |  2.07660387 | 4.321507e-02 | Age | S100P   |          NA |  0.338451538 | 1.00000000 | F |\n",
       "\n"
      ],
      "text/plain": [
       "  X.1 X                     Estimate     Std..Error t.value     Pr...t..    \n",
       "1 1   cohort.cohortGuidBR2   0.014084760 0.32010931  0.04399985 9.650871e-01\n",
       "2 2   cohort.cohortGuidBR21  0.376308726 0.08035168  4.68327128 2.349236e-05\n",
       "3 3   cohort.cohortGuidBR22  0.149121132 0.10279043  1.45072969 1.533592e-01\n",
       "4 4   cohort.cohortGuidBR23  0.063681226 0.06761780  0.94178194 3.510202e-01\n",
       "5 5   cohort.cohortGuidBR24 -0.007663344 0.19752234 -0.03879735 9.692129e-01\n",
       "6 6   cohort.cohortGuidBR25  0.305021773 0.14688491  2.07660387 4.321507e-02\n",
       "  factor Assay   Log2FC_Age  diff         padj       Sex\n",
       "1 Age    GYS1     0.00997620  0.018938538 1.00000000 F  \n",
       "2 Age    THPO     0.76754320  0.389521308 0.03371154 F  \n",
       "3 Age    CLEC1A   0.27795947  0.150093769 1.00000000 F  \n",
       "4 Age    ENTPD6   0.15037582  0.058399538 1.00000000 F  \n",
       "5 Age    CEACAM8 -0.03573175 -0.008413308 1.00000000 F  \n",
       "6 Age    S100P            NA  0.338451538 1.00000000 F  "
      ]
     },
     "metadata": {},
     "output_type": "display_data"
    }
   ],
   "source": [
    "olink_master <- read.csv(\"/home/jupyter/IH-A-Aging-Analysis-Notebooks_old/Mansi_Notebooks/scRNA/Figure_Notebooks/Intermediate_files/master_combined_Olink_DEPs_FvsM.csv\")\n",
    "\n",
    "\n",
    "head(olink_master)"
   ]
  },
  {
   "cell_type": "code",
   "execution_count": null,
   "id": "b2dd5825-bbfb-43da-a77e-a4ba2bba235c",
   "metadata": {},
   "outputs": [],
   "source": []
  },
  {
   "cell_type": "code",
   "execution_count": 3,
   "id": "60cb38b1-3b27-4a3b-9550-b39aba95d7aa",
   "metadata": {
    "tags": []
   },
   "outputs": [
    {
     "data": {
      "text/html": [
       "<table class=\"dataframe\">\n",
       "<caption>A data.frame: 6 × 13</caption>\n",
       "<thead>\n",
       "\t<tr><th></th><th scope=col>X.1</th><th scope=col>X</th><th scope=col>Estimate</th><th scope=col>Std..Error</th><th scope=col>t.value</th><th scope=col>Pr...t..</th><th scope=col>factor</th><th scope=col>Assay</th><th scope=col>Log2FC_Age</th><th scope=col>diff</th><th scope=col>padj</th><th scope=col>Sex</th><th scope=col>Expression</th></tr>\n",
       "\t<tr><th></th><th scope=col>&lt;int&gt;</th><th scope=col>&lt;chr&gt;</th><th scope=col>&lt;dbl&gt;</th><th scope=col>&lt;dbl&gt;</th><th scope=col>&lt;dbl&gt;</th><th scope=col>&lt;dbl&gt;</th><th scope=col>&lt;chr&gt;</th><th scope=col>&lt;chr&gt;</th><th scope=col>&lt;dbl&gt;</th><th scope=col>&lt;dbl&gt;</th><th scope=col>&lt;dbl&gt;</th><th scope=col>&lt;chr&gt;</th><th scope=col>&lt;chr&gt;</th></tr>\n",
       "</thead>\n",
       "<tbody>\n",
       "\t<tr><th scope=row>1</th><td>1</td><td>cohort.cohortGuidBR2 </td><td> 0.014084760</td><td>0.32010931</td><td> 0.04399985</td><td>9.650871e-01</td><td>Age</td><td>GYS1   </td><td> 0.00997620</td><td> 0.018938538</td><td>1.00000000</td><td>F</td><td>Unchanged       </td></tr>\n",
       "\t<tr><th scope=row>2</th><td>2</td><td>cohort.cohortGuidBR21</td><td> 0.376308726</td><td>0.08035168</td><td> 4.68327128</td><td>2.349236e-05</td><td>Age</td><td>THPO   </td><td> 0.76754320</td><td> 0.389521308</td><td>0.03371154</td><td>F</td><td>Up-regulated-BR2</td></tr>\n",
       "\t<tr><th scope=row>3</th><td>3</td><td>cohort.cohortGuidBR22</td><td> 0.149121132</td><td>0.10279043</td><td> 1.45072969</td><td>1.533592e-01</td><td>Age</td><td>CLEC1A </td><td> 0.27795947</td><td> 0.150093769</td><td>1.00000000</td><td>F</td><td>Unchanged       </td></tr>\n",
       "\t<tr><th scope=row>4</th><td>4</td><td>cohort.cohortGuidBR23</td><td> 0.063681226</td><td>0.06761780</td><td> 0.94178194</td><td>3.510202e-01</td><td>Age</td><td>ENTPD6 </td><td> 0.15037582</td><td> 0.058399538</td><td>1.00000000</td><td>F</td><td>Unchanged       </td></tr>\n",
       "\t<tr><th scope=row>5</th><td>5</td><td>cohort.cohortGuidBR24</td><td>-0.007663344</td><td>0.19752234</td><td>-0.03879735</td><td>9.692129e-01</td><td>Age</td><td>CEACAM8</td><td>-0.03573175</td><td>-0.008413308</td><td>1.00000000</td><td>F</td><td>Unchanged       </td></tr>\n",
       "\t<tr><th scope=row>6</th><td>6</td><td>cohort.cohortGuidBR25</td><td> 0.305021773</td><td>0.14688491</td><td> 2.07660387</td><td>4.321507e-02</td><td>Age</td><td>S100P  </td><td>         NA</td><td> 0.338451538</td><td>1.00000000</td><td>F</td><td>Unchanged       </td></tr>\n",
       "</tbody>\n",
       "</table>\n"
      ],
      "text/latex": [
       "A data.frame: 6 × 13\n",
       "\\begin{tabular}{r|lllllllllllll}\n",
       "  & X.1 & X & Estimate & Std..Error & t.value & Pr...t.. & factor & Assay & Log2FC\\_Age & diff & padj & Sex & Expression\\\\\n",
       "  & <int> & <chr> & <dbl> & <dbl> & <dbl> & <dbl> & <chr> & <chr> & <dbl> & <dbl> & <dbl> & <chr> & <chr>\\\\\n",
       "\\hline\n",
       "\t1 & 1 & cohort.cohortGuidBR2  &  0.014084760 & 0.32010931 &  0.04399985 & 9.650871e-01 & Age & GYS1    &  0.00997620 &  0.018938538 & 1.00000000 & F & Unchanged       \\\\\n",
       "\t2 & 2 & cohort.cohortGuidBR21 &  0.376308726 & 0.08035168 &  4.68327128 & 2.349236e-05 & Age & THPO    &  0.76754320 &  0.389521308 & 0.03371154 & F & Up-regulated-BR2\\\\\n",
       "\t3 & 3 & cohort.cohortGuidBR22 &  0.149121132 & 0.10279043 &  1.45072969 & 1.533592e-01 & Age & CLEC1A  &  0.27795947 &  0.150093769 & 1.00000000 & F & Unchanged       \\\\\n",
       "\t4 & 4 & cohort.cohortGuidBR23 &  0.063681226 & 0.06761780 &  0.94178194 & 3.510202e-01 & Age & ENTPD6  &  0.15037582 &  0.058399538 & 1.00000000 & F & Unchanged       \\\\\n",
       "\t5 & 5 & cohort.cohortGuidBR24 & -0.007663344 & 0.19752234 & -0.03879735 & 9.692129e-01 & Age & CEACAM8 & -0.03573175 & -0.008413308 & 1.00000000 & F & Unchanged       \\\\\n",
       "\t6 & 6 & cohort.cohortGuidBR25 &  0.305021773 & 0.14688491 &  2.07660387 & 4.321507e-02 & Age & S100P   &          NA &  0.338451538 & 1.00000000 & F & Unchanged       \\\\\n",
       "\\end{tabular}\n"
      ],
      "text/markdown": [
       "\n",
       "A data.frame: 6 × 13\n",
       "\n",
       "| <!--/--> | X.1 &lt;int&gt; | X &lt;chr&gt; | Estimate &lt;dbl&gt; | Std..Error &lt;dbl&gt; | t.value &lt;dbl&gt; | Pr...t.. &lt;dbl&gt; | factor &lt;chr&gt; | Assay &lt;chr&gt; | Log2FC_Age &lt;dbl&gt; | diff &lt;dbl&gt; | padj &lt;dbl&gt; | Sex &lt;chr&gt; | Expression &lt;chr&gt; |\n",
       "|---|---|---|---|---|---|---|---|---|---|---|---|---|---|\n",
       "| 1 | 1 | cohort.cohortGuidBR2  |  0.014084760 | 0.32010931 |  0.04399985 | 9.650871e-01 | Age | GYS1    |  0.00997620 |  0.018938538 | 1.00000000 | F | Unchanged        |\n",
       "| 2 | 2 | cohort.cohortGuidBR21 |  0.376308726 | 0.08035168 |  4.68327128 | 2.349236e-05 | Age | THPO    |  0.76754320 |  0.389521308 | 0.03371154 | F | Up-regulated-BR2 |\n",
       "| 3 | 3 | cohort.cohortGuidBR22 |  0.149121132 | 0.10279043 |  1.45072969 | 1.533592e-01 | Age | CLEC1A  |  0.27795947 |  0.150093769 | 1.00000000 | F | Unchanged        |\n",
       "| 4 | 4 | cohort.cohortGuidBR23 |  0.063681226 | 0.06761780 |  0.94178194 | 3.510202e-01 | Age | ENTPD6  |  0.15037582 |  0.058399538 | 1.00000000 | F | Unchanged        |\n",
       "| 5 | 5 | cohort.cohortGuidBR24 | -0.007663344 | 0.19752234 | -0.03879735 | 9.692129e-01 | Age | CEACAM8 | -0.03573175 | -0.008413308 | 1.00000000 | F | Unchanged        |\n",
       "| 6 | 6 | cohort.cohortGuidBR25 |  0.305021773 | 0.14688491 |  2.07660387 | 4.321507e-02 | Age | S100P   |          NA |  0.338451538 | 1.00000000 | F | Unchanged        |\n",
       "\n"
      ],
      "text/plain": [
       "  X.1 X                     Estimate     Std..Error t.value     Pr...t..    \n",
       "1 1   cohort.cohortGuidBR2   0.014084760 0.32010931  0.04399985 9.650871e-01\n",
       "2 2   cohort.cohortGuidBR21  0.376308726 0.08035168  4.68327128 2.349236e-05\n",
       "3 3   cohort.cohortGuidBR22  0.149121132 0.10279043  1.45072969 1.533592e-01\n",
       "4 4   cohort.cohortGuidBR23  0.063681226 0.06761780  0.94178194 3.510202e-01\n",
       "5 5   cohort.cohortGuidBR24 -0.007663344 0.19752234 -0.03879735 9.692129e-01\n",
       "6 6   cohort.cohortGuidBR25  0.305021773 0.14688491  2.07660387 4.321507e-02\n",
       "  factor Assay   Log2FC_Age  diff         padj       Sex Expression      \n",
       "1 Age    GYS1     0.00997620  0.018938538 1.00000000 F   Unchanged       \n",
       "2 Age    THPO     0.76754320  0.389521308 0.03371154 F   Up-regulated-BR2\n",
       "3 Age    CLEC1A   0.27795947  0.150093769 1.00000000 F   Unchanged       \n",
       "4 Age    ENTPD6   0.15037582  0.058399538 1.00000000 F   Unchanged       \n",
       "5 Age    CEACAM8 -0.03573175 -0.008413308 1.00000000 F   Unchanged       \n",
       "6 Age    S100P            NA  0.338451538 1.00000000 F   Unchanged       "
      ]
     },
     "metadata": {},
     "output_type": "display_data"
    },
    {
     "data": {
      "text/html": [
       "<style>\n",
       ".list-inline {list-style: none; margin:0; padding: 0}\n",
       ".list-inline>li {display: inline-block}\n",
       ".list-inline>li:not(:last-child)::after {content: \"\\00b7\"; padding: 0 .5ex}\n",
       "</style>\n",
       "<ol class=list-inline><li>'Unchanged'</li><li>'Up-regulated-BR2'</li><li>'Down-regulated-BR2'</li></ol>\n"
      ],
      "text/latex": [
       "\\begin{enumerate*}\n",
       "\\item 'Unchanged'\n",
       "\\item 'Up-regulated-BR2'\n",
       "\\item 'Down-regulated-BR2'\n",
       "\\end{enumerate*}\n"
      ],
      "text/markdown": [
       "1. 'Unchanged'\n",
       "2. 'Up-regulated-BR2'\n",
       "3. 'Down-regulated-BR2'\n",
       "\n",
       "\n"
      ],
      "text/plain": [
       "[1] \"Unchanged\"          \"Up-regulated-BR2\"   \"Down-regulated-BR2\""
      ]
     },
     "metadata": {},
     "output_type": "display_data"
    }
   ],
   "source": [
    "data <- olink_master%>% mutate(Expression = case_when(diff >=0.1 & padj <= 0.05 ~ \"Up-regulated-BR2\",\n",
    "                                                     diff <= -0.1 & padj <= 0.05 ~ \"Down-regulated-BR2\",\n",
    "                                                     TRUE ~ \"Unchanged\"))\n",
    "head(data)\n",
    "unique(data$Expression)"
   ]
  },
  {
   "cell_type": "code",
   "execution_count": 41,
   "id": "72d9d0a5-6833-422b-a346-7582ec3ac95d",
   "metadata": {
    "tags": []
   },
   "outputs": [],
   "source": [
    "# top <- 30\n",
    "# top_genes <- bind_rows(\n",
    "#   data %>% \n",
    "#     filter(Expression == 'Up-regulated-BR2') %>% \n",
    "#     arrange(padj, desc(abs(diff))) %>% \n",
    "#     head(top),\n",
    "#   data %>% \n",
    "#     filter(Expression == 'Down-regulated-BR2') %>% \n",
    "#     arrange(padj, desc(abs(diff))) %>% \n",
    "#     head(top))"
   ]
  },
  {
   "cell_type": "markdown",
   "id": "9fd221c0-b2f7-41a1-b077-190756a93bf6",
   "metadata": {},
   "source": [
    "# Four group Venn"
   ]
  },
  {
   "cell_type": "code",
   "execution_count": 8,
   "id": "d1f27696-bd72-4052-909f-62e94a2fa3c8",
   "metadata": {
    "tags": []
   },
   "outputs": [],
   "source": [
    "# Apply condition to update column3\n",
    "df <- data %>%\n",
    "  mutate(facet = case_when(\n",
    "    Sex == \"F\" & Expression == \"Up-regulated-BR2\" ~ \"Female_BR2\",\n",
    "    Sex == \"F\" & Expression == \"Down-regulated-BR2\" ~ \"Female_BR1\",\n",
    "    Sex == \"M\" & Expression == \"Up-regulated-BR2\" ~ \"Male_BR2\",\n",
    "    Sex == \"M\" & Expression == \"Down-regulated-BR2\" ~ \"Male_BR1\",\n",
    "    TRUE ~ \"Unchanged\"\n",
    "  ))"
   ]
  },
  {
   "cell_type": "code",
   "execution_count": 9,
   "id": "b5091a09-d730-49c7-9074-39ce658e4d4f",
   "metadata": {
    "tags": []
   },
   "outputs": [
    {
     "data": {
      "text/html": [
       "<table class=\"dataframe\">\n",
       "<caption>A data.frame: 6 × 14</caption>\n",
       "<thead>\n",
       "\t<tr><th></th><th scope=col>X.1</th><th scope=col>X</th><th scope=col>Estimate</th><th scope=col>Std..Error</th><th scope=col>t.value</th><th scope=col>Pr...t..</th><th scope=col>factor</th><th scope=col>Assay</th><th scope=col>Log2FC_Age</th><th scope=col>diff</th><th scope=col>padj</th><th scope=col>Sex</th><th scope=col>Expression</th><th scope=col>facet</th></tr>\n",
       "\t<tr><th></th><th scope=col>&lt;int&gt;</th><th scope=col>&lt;chr&gt;</th><th scope=col>&lt;dbl&gt;</th><th scope=col>&lt;dbl&gt;</th><th scope=col>&lt;dbl&gt;</th><th scope=col>&lt;dbl&gt;</th><th scope=col>&lt;chr&gt;</th><th scope=col>&lt;chr&gt;</th><th scope=col>&lt;dbl&gt;</th><th scope=col>&lt;dbl&gt;</th><th scope=col>&lt;dbl&gt;</th><th scope=col>&lt;chr&gt;</th><th scope=col>&lt;chr&gt;</th><th scope=col>&lt;chr&gt;</th></tr>\n",
       "</thead>\n",
       "<tbody>\n",
       "\t<tr><th scope=row>1</th><td>1</td><td>cohort.cohortGuidBR2 </td><td> 0.014084760</td><td>0.32010931</td><td> 0.04399985</td><td>9.650871e-01</td><td>Age</td><td>GYS1   </td><td> 0.00997620</td><td> 0.018938538</td><td>1.00000000</td><td>F</td><td>Unchanged       </td><td>Unchanged </td></tr>\n",
       "\t<tr><th scope=row>2</th><td>2</td><td>cohort.cohortGuidBR21</td><td> 0.376308726</td><td>0.08035168</td><td> 4.68327128</td><td>2.349236e-05</td><td>Age</td><td>THPO   </td><td> 0.76754320</td><td> 0.389521308</td><td>0.03371154</td><td>F</td><td>Up-regulated-BR2</td><td>Female_BR2</td></tr>\n",
       "\t<tr><th scope=row>3</th><td>3</td><td>cohort.cohortGuidBR22</td><td> 0.149121132</td><td>0.10279043</td><td> 1.45072969</td><td>1.533592e-01</td><td>Age</td><td>CLEC1A </td><td> 0.27795947</td><td> 0.150093769</td><td>1.00000000</td><td>F</td><td>Unchanged       </td><td>Unchanged </td></tr>\n",
       "\t<tr><th scope=row>4</th><td>4</td><td>cohort.cohortGuidBR23</td><td> 0.063681226</td><td>0.06761780</td><td> 0.94178194</td><td>3.510202e-01</td><td>Age</td><td>ENTPD6 </td><td> 0.15037582</td><td> 0.058399538</td><td>1.00000000</td><td>F</td><td>Unchanged       </td><td>Unchanged </td></tr>\n",
       "\t<tr><th scope=row>5</th><td>5</td><td>cohort.cohortGuidBR24</td><td>-0.007663344</td><td>0.19752234</td><td>-0.03879735</td><td>9.692129e-01</td><td>Age</td><td>CEACAM8</td><td>-0.03573175</td><td>-0.008413308</td><td>1.00000000</td><td>F</td><td>Unchanged       </td><td>Unchanged </td></tr>\n",
       "\t<tr><th scope=row>6</th><td>6</td><td>cohort.cohortGuidBR25</td><td> 0.305021773</td><td>0.14688491</td><td> 2.07660387</td><td>4.321507e-02</td><td>Age</td><td>S100P  </td><td>         NA</td><td> 0.338451538</td><td>1.00000000</td><td>F</td><td>Unchanged       </td><td>Unchanged </td></tr>\n",
       "</tbody>\n",
       "</table>\n"
      ],
      "text/latex": [
       "A data.frame: 6 × 14\n",
       "\\begin{tabular}{r|llllllllllllll}\n",
       "  & X.1 & X & Estimate & Std..Error & t.value & Pr...t.. & factor & Assay & Log2FC\\_Age & diff & padj & Sex & Expression & facet\\\\\n",
       "  & <int> & <chr> & <dbl> & <dbl> & <dbl> & <dbl> & <chr> & <chr> & <dbl> & <dbl> & <dbl> & <chr> & <chr> & <chr>\\\\\n",
       "\\hline\n",
       "\t1 & 1 & cohort.cohortGuidBR2  &  0.014084760 & 0.32010931 &  0.04399985 & 9.650871e-01 & Age & GYS1    &  0.00997620 &  0.018938538 & 1.00000000 & F & Unchanged        & Unchanged \\\\\n",
       "\t2 & 2 & cohort.cohortGuidBR21 &  0.376308726 & 0.08035168 &  4.68327128 & 2.349236e-05 & Age & THPO    &  0.76754320 &  0.389521308 & 0.03371154 & F & Up-regulated-BR2 & Female\\_BR2\\\\\n",
       "\t3 & 3 & cohort.cohortGuidBR22 &  0.149121132 & 0.10279043 &  1.45072969 & 1.533592e-01 & Age & CLEC1A  &  0.27795947 &  0.150093769 & 1.00000000 & F & Unchanged        & Unchanged \\\\\n",
       "\t4 & 4 & cohort.cohortGuidBR23 &  0.063681226 & 0.06761780 &  0.94178194 & 3.510202e-01 & Age & ENTPD6  &  0.15037582 &  0.058399538 & 1.00000000 & F & Unchanged        & Unchanged \\\\\n",
       "\t5 & 5 & cohort.cohortGuidBR24 & -0.007663344 & 0.19752234 & -0.03879735 & 9.692129e-01 & Age & CEACAM8 & -0.03573175 & -0.008413308 & 1.00000000 & F & Unchanged        & Unchanged \\\\\n",
       "\t6 & 6 & cohort.cohortGuidBR25 &  0.305021773 & 0.14688491 &  2.07660387 & 4.321507e-02 & Age & S100P   &          NA &  0.338451538 & 1.00000000 & F & Unchanged        & Unchanged \\\\\n",
       "\\end{tabular}\n"
      ],
      "text/markdown": [
       "\n",
       "A data.frame: 6 × 14\n",
       "\n",
       "| <!--/--> | X.1 &lt;int&gt; | X &lt;chr&gt; | Estimate &lt;dbl&gt; | Std..Error &lt;dbl&gt; | t.value &lt;dbl&gt; | Pr...t.. &lt;dbl&gt; | factor &lt;chr&gt; | Assay &lt;chr&gt; | Log2FC_Age &lt;dbl&gt; | diff &lt;dbl&gt; | padj &lt;dbl&gt; | Sex &lt;chr&gt; | Expression &lt;chr&gt; | facet &lt;chr&gt; |\n",
       "|---|---|---|---|---|---|---|---|---|---|---|---|---|---|---|\n",
       "| 1 | 1 | cohort.cohortGuidBR2  |  0.014084760 | 0.32010931 |  0.04399985 | 9.650871e-01 | Age | GYS1    |  0.00997620 |  0.018938538 | 1.00000000 | F | Unchanged        | Unchanged  |\n",
       "| 2 | 2 | cohort.cohortGuidBR21 |  0.376308726 | 0.08035168 |  4.68327128 | 2.349236e-05 | Age | THPO    |  0.76754320 |  0.389521308 | 0.03371154 | F | Up-regulated-BR2 | Female_BR2 |\n",
       "| 3 | 3 | cohort.cohortGuidBR22 |  0.149121132 | 0.10279043 |  1.45072969 | 1.533592e-01 | Age | CLEC1A  |  0.27795947 |  0.150093769 | 1.00000000 | F | Unchanged        | Unchanged  |\n",
       "| 4 | 4 | cohort.cohortGuidBR23 |  0.063681226 | 0.06761780 |  0.94178194 | 3.510202e-01 | Age | ENTPD6  |  0.15037582 |  0.058399538 | 1.00000000 | F | Unchanged        | Unchanged  |\n",
       "| 5 | 5 | cohort.cohortGuidBR24 | -0.007663344 | 0.19752234 | -0.03879735 | 9.692129e-01 | Age | CEACAM8 | -0.03573175 | -0.008413308 | 1.00000000 | F | Unchanged        | Unchanged  |\n",
       "| 6 | 6 | cohort.cohortGuidBR25 |  0.305021773 | 0.14688491 |  2.07660387 | 4.321507e-02 | Age | S100P   |          NA |  0.338451538 | 1.00000000 | F | Unchanged        | Unchanged  |\n",
       "\n"
      ],
      "text/plain": [
       "  X.1 X                     Estimate     Std..Error t.value     Pr...t..    \n",
       "1 1   cohort.cohortGuidBR2   0.014084760 0.32010931  0.04399985 9.650871e-01\n",
       "2 2   cohort.cohortGuidBR21  0.376308726 0.08035168  4.68327128 2.349236e-05\n",
       "3 3   cohort.cohortGuidBR22  0.149121132 0.10279043  1.45072969 1.533592e-01\n",
       "4 4   cohort.cohortGuidBR23  0.063681226 0.06761780  0.94178194 3.510202e-01\n",
       "5 5   cohort.cohortGuidBR24 -0.007663344 0.19752234 -0.03879735 9.692129e-01\n",
       "6 6   cohort.cohortGuidBR25  0.305021773 0.14688491  2.07660387 4.321507e-02\n",
       "  factor Assay   Log2FC_Age  diff         padj       Sex Expression      \n",
       "1 Age    GYS1     0.00997620  0.018938538 1.00000000 F   Unchanged       \n",
       "2 Age    THPO     0.76754320  0.389521308 0.03371154 F   Up-regulated-BR2\n",
       "3 Age    CLEC1A   0.27795947  0.150093769 1.00000000 F   Unchanged       \n",
       "4 Age    ENTPD6   0.15037582  0.058399538 1.00000000 F   Unchanged       \n",
       "5 Age    CEACAM8 -0.03573175 -0.008413308 1.00000000 F   Unchanged       \n",
       "6 Age    S100P            NA  0.338451538 1.00000000 F   Unchanged       \n",
       "  facet     \n",
       "1 Unchanged \n",
       "2 Female_BR2\n",
       "3 Unchanged \n",
       "4 Unchanged \n",
       "5 Unchanged \n",
       "6 Unchanged "
      ]
     },
     "metadata": {},
     "output_type": "display_data"
    }
   ],
   "source": [
    "head(df)"
   ]
  },
  {
   "cell_type": "code",
   "execution_count": 10,
   "id": "df0c4bcf-4b7c-420c-8112-f85af48c10bb",
   "metadata": {
    "tags": []
   },
   "outputs": [
    {
     "data": {
      "text/html": [
       "<style>\n",
       ".list-inline {list-style: none; margin:0; padding: 0}\n",
       ".list-inline>li {display: inline-block}\n",
       ".list-inline>li:not(:last-child)::after {content: \"\\00b7\"; padding: 0 .5ex}\n",
       "</style>\n",
       "<ol class=list-inline><li>'Unchanged'</li><li>'Female_BR2'</li><li>'Female_BR1'</li><li>'Male_BR2'</li><li>'Male_BR1'</li></ol>\n"
      ],
      "text/latex": [
       "\\begin{enumerate*}\n",
       "\\item 'Unchanged'\n",
       "\\item 'Female\\_BR2'\n",
       "\\item 'Female\\_BR1'\n",
       "\\item 'Male\\_BR2'\n",
       "\\item 'Male\\_BR1'\n",
       "\\end{enumerate*}\n"
      ],
      "text/markdown": [
       "1. 'Unchanged'\n",
       "2. 'Female_BR2'\n",
       "3. 'Female_BR1'\n",
       "4. 'Male_BR2'\n",
       "5. 'Male_BR1'\n",
       "\n",
       "\n"
      ],
      "text/plain": [
       "[1] \"Unchanged\"  \"Female_BR2\" \"Female_BR1\" \"Male_BR2\"   \"Male_BR1\"  "
      ]
     },
     "metadata": {},
     "output_type": "display_data"
    }
   ],
   "source": [
    "unique(df$facet)"
   ]
  },
  {
   "cell_type": "code",
   "execution_count": 19,
   "id": "d9d8e93a-e0af-4237-988f-7123be38284a",
   "metadata": {
    "tags": []
   },
   "outputs": [
    {
     "data": {
      "text/html": [
       "<dl>\n",
       "\t<dt>$`Female BR2`</dt>\n",
       "\t\t<dd><style>\n",
       ".list-inline {list-style: none; margin:0; padding: 0}\n",
       ".list-inline>li {display: inline-block}\n",
       ".list-inline>li:not(:last-child)::after {content: \"\\00b7\"; padding: 0 .5ex}\n",
       "</style>\n",
       "<ol class=list-inline><li>'THPO'</li><li>'ACTA2'</li><li>'SIGLEC7'</li><li>'SOST'</li><li>'NPDC1'</li><li>'CTSL'</li><li>'THBD'</li><li>'FAM3C'</li><li>'TINAGL1'</li><li>'GDF15'</li><li>'LTBP2'</li><li>'CRTAC1'</li><li>'MCAM'</li><li>'IL18BP'</li><li>'CD46'</li><li>'ANGPTL3'</li><li>'EFEMP1'</li><li>'WNT9A'</li><li>'ITGA11'</li><li>'CXCL17'</li><li>'PGF'</li><li>'CCL25'</li><li>'LGALS9'</li><li>'GFAP'</li><li>'CD302'</li><li>'DTX3'</li><li>'AMBP'</li><li>'RSPO3'</li><li>'ITGAV'</li><li>'F3'</li><li>'EDA2R'</li><li>'WFDC2'</li><li>'NEFL'</li><li>'CDCP1'</li><li>'SCARB2'</li><li>'SCARF2'</li><li>'JAM2'</li><li>'CGA'</li><li>'TFF1'</li><li>'TNFRSF1A'</li></ol>\n",
       "</dd>\n",
       "\t<dt>$Female_BR1</dt>\n",
       "\t\t<dd><style>\n",
       ".list-inline {list-style: none; margin:0; padding: 0}\n",
       ".list-inline>li {display: inline-block}\n",
       ".list-inline>li:not(:last-child)::after {content: \"\\00b7\"; padding: 0 .5ex}\n",
       "</style>\n",
       "<ol class=list-inline><li>'PROK1'</li><li>'CTSV'</li><li>'PAEP'</li></ol>\n",
       "</dd>\n",
       "\t<dt>$Male_BR2</dt>\n",
       "\t\t<dd><style>\n",
       ".list-inline {list-style: none; margin:0; padding: 0}\n",
       ".list-inline>li {display: inline-block}\n",
       ".list-inline>li:not(:last-child)::after {content: \"\\00b7\"; padding: 0 .5ex}\n",
       "</style>\n",
       "<ol class=list-inline><li>'ACTA2'</li><li>'SOST'</li><li>'GDF15'</li><li>'LTBP2'</li><li>'DPT'</li><li>'WNT9A'</li><li>'MLN'</li><li>'CXCL17'</li><li>'FLT3LG'</li><li>'EDA2R'</li><li>'WFDC2'</li><li>'SCARF2'</li><li>'IGFBP4'</li></ol>\n",
       "</dd>\n",
       "\t<dt>$Male_BR1</dt>\n",
       "\t\t<dd>'RET'</dd>\n",
       "</dl>\n"
      ],
      "text/latex": [
       "\\begin{description}\n",
       "\\item[\\$`Female BR2`] \\begin{enumerate*}\n",
       "\\item 'THPO'\n",
       "\\item 'ACTA2'\n",
       "\\item 'SIGLEC7'\n",
       "\\item 'SOST'\n",
       "\\item 'NPDC1'\n",
       "\\item 'CTSL'\n",
       "\\item 'THBD'\n",
       "\\item 'FAM3C'\n",
       "\\item 'TINAGL1'\n",
       "\\item 'GDF15'\n",
       "\\item 'LTBP2'\n",
       "\\item 'CRTAC1'\n",
       "\\item 'MCAM'\n",
       "\\item 'IL18BP'\n",
       "\\item 'CD46'\n",
       "\\item 'ANGPTL3'\n",
       "\\item 'EFEMP1'\n",
       "\\item 'WNT9A'\n",
       "\\item 'ITGA11'\n",
       "\\item 'CXCL17'\n",
       "\\item 'PGF'\n",
       "\\item 'CCL25'\n",
       "\\item 'LGALS9'\n",
       "\\item 'GFAP'\n",
       "\\item 'CD302'\n",
       "\\item 'DTX3'\n",
       "\\item 'AMBP'\n",
       "\\item 'RSPO3'\n",
       "\\item 'ITGAV'\n",
       "\\item 'F3'\n",
       "\\item 'EDA2R'\n",
       "\\item 'WFDC2'\n",
       "\\item 'NEFL'\n",
       "\\item 'CDCP1'\n",
       "\\item 'SCARB2'\n",
       "\\item 'SCARF2'\n",
       "\\item 'JAM2'\n",
       "\\item 'CGA'\n",
       "\\item 'TFF1'\n",
       "\\item 'TNFRSF1A'\n",
       "\\end{enumerate*}\n",
       "\n",
       "\\item[\\$Female\\_BR1] \\begin{enumerate*}\n",
       "\\item 'PROK1'\n",
       "\\item 'CTSV'\n",
       "\\item 'PAEP'\n",
       "\\end{enumerate*}\n",
       "\n",
       "\\item[\\$Male\\_BR2] \\begin{enumerate*}\n",
       "\\item 'ACTA2'\n",
       "\\item 'SOST'\n",
       "\\item 'GDF15'\n",
       "\\item 'LTBP2'\n",
       "\\item 'DPT'\n",
       "\\item 'WNT9A'\n",
       "\\item 'MLN'\n",
       "\\item 'CXCL17'\n",
       "\\item 'FLT3LG'\n",
       "\\item 'EDA2R'\n",
       "\\item 'WFDC2'\n",
       "\\item 'SCARF2'\n",
       "\\item 'IGFBP4'\n",
       "\\end{enumerate*}\n",
       "\n",
       "\\item[\\$Male\\_BR1] 'RET'\n",
       "\\end{description}\n"
      ],
      "text/markdown": [
       "$`Female BR2`\n",
       ":   1. 'THPO'\n",
       "2. 'ACTA2'\n",
       "3. 'SIGLEC7'\n",
       "4. 'SOST'\n",
       "5. 'NPDC1'\n",
       "6. 'CTSL'\n",
       "7. 'THBD'\n",
       "8. 'FAM3C'\n",
       "9. 'TINAGL1'\n",
       "10. 'GDF15'\n",
       "11. 'LTBP2'\n",
       "12. 'CRTAC1'\n",
       "13. 'MCAM'\n",
       "14. 'IL18BP'\n",
       "15. 'CD46'\n",
       "16. 'ANGPTL3'\n",
       "17. 'EFEMP1'\n",
       "18. 'WNT9A'\n",
       "19. 'ITGA11'\n",
       "20. 'CXCL17'\n",
       "21. 'PGF'\n",
       "22. 'CCL25'\n",
       "23. 'LGALS9'\n",
       "24. 'GFAP'\n",
       "25. 'CD302'\n",
       "26. 'DTX3'\n",
       "27. 'AMBP'\n",
       "28. 'RSPO3'\n",
       "29. 'ITGAV'\n",
       "30. 'F3'\n",
       "31. 'EDA2R'\n",
       "32. 'WFDC2'\n",
       "33. 'NEFL'\n",
       "34. 'CDCP1'\n",
       "35. 'SCARB2'\n",
       "36. 'SCARF2'\n",
       "37. 'JAM2'\n",
       "38. 'CGA'\n",
       "39. 'TFF1'\n",
       "40. 'TNFRSF1A'\n",
       "\n",
       "\n",
       "\n",
       "$Female_BR1\n",
       ":   1. 'PROK1'\n",
       "2. 'CTSV'\n",
       "3. 'PAEP'\n",
       "\n",
       "\n",
       "\n",
       "$Male_BR2\n",
       ":   1. 'ACTA2'\n",
       "2. 'SOST'\n",
       "3. 'GDF15'\n",
       "4. 'LTBP2'\n",
       "5. 'DPT'\n",
       "6. 'WNT9A'\n",
       "7. 'MLN'\n",
       "8. 'CXCL17'\n",
       "9. 'FLT3LG'\n",
       "10. 'EDA2R'\n",
       "11. 'WFDC2'\n",
       "12. 'SCARF2'\n",
       "13. 'IGFBP4'\n",
       "\n",
       "\n",
       "\n",
       "$Male_BR1\n",
       ":   'RET'\n",
       "\n",
       "\n"
      ],
      "text/plain": [
       "$`Female BR2`\n",
       " [1] \"THPO\"     \"ACTA2\"    \"SIGLEC7\"  \"SOST\"     \"NPDC1\"    \"CTSL\"    \n",
       " [7] \"THBD\"     \"FAM3C\"    \"TINAGL1\"  \"GDF15\"    \"LTBP2\"    \"CRTAC1\"  \n",
       "[13] \"MCAM\"     \"IL18BP\"   \"CD46\"     \"ANGPTL3\"  \"EFEMP1\"   \"WNT9A\"   \n",
       "[19] \"ITGA11\"   \"CXCL17\"   \"PGF\"      \"CCL25\"    \"LGALS9\"   \"GFAP\"    \n",
       "[25] \"CD302\"    \"DTX3\"     \"AMBP\"     \"RSPO3\"    \"ITGAV\"    \"F3\"      \n",
       "[31] \"EDA2R\"    \"WFDC2\"    \"NEFL\"     \"CDCP1\"    \"SCARB2\"   \"SCARF2\"  \n",
       "[37] \"JAM2\"     \"CGA\"      \"TFF1\"     \"TNFRSF1A\"\n",
       "\n",
       "$Female_BR1\n",
       "[1] \"PROK1\" \"CTSV\"  \"PAEP\" \n",
       "\n",
       "$Male_BR2\n",
       " [1] \"ACTA2\"  \"SOST\"   \"GDF15\"  \"LTBP2\"  \"DPT\"    \"WNT9A\"  \"MLN\"    \"CXCL17\"\n",
       " [9] \"FLT3LG\" \"EDA2R\"  \"WFDC2\"  \"SCARF2\" \"IGFBP4\"\n",
       "\n",
       "$Male_BR1\n",
       "[1] \"RET\"\n"
      ]
     },
     "metadata": {},
     "output_type": "display_data"
    }
   ],
   "source": [
    "# Split the data into two sets: DEGs_Male and DEGs_Female\n",
    "Female_BR2 <- df[df$facet == \"Female_BR2\", \"Assay\"]\n",
    "Female_BR1 <- df[df$facet == \"Female_BR1\", \"Assay\"]\n",
    "Male_BR2 <- df[df$facet == \"Male_BR2\", \"Assay\"]\n",
    "Male_BR1 <- df[df$facet == \"Male_BR1\", \"Assay\"]\n",
    "\n",
    "\n",
    "# Combine the two sets into one list variable 'a'\n",
    "a <- list(`Female BR2` = Female_BR2, Female_BR1=Female_BR1, Male_BR2= Male_BR2,  Male_BR1=Male_BR1  )\n",
    "a"
   ]
  },
  {
   "cell_type": "code",
   "execution_count": 20,
   "id": "e236b8e8-a166-4a15-bb5f-fd61e8fd4e88",
   "metadata": {
    "tags": []
   },
   "outputs": [
    {
     "data": {
      "image/png": "[encoded data removed]",
      "text/plain": [
       "plot without title"
      ]
     },
     "metadata": {
      "image/png": {
       "height": 420,
       "width": 420
      }
     },
     "output_type": "display_data"
    }
   ],
   "source": [
    "library(eulerr)\n",
    "#plot(venn(a))\n",
    "plot(euler(a, shape = \"ellipse\"), quantities = TRUE)"
   ]
  },
  {
   "cell_type": "markdown",
   "id": "5ba60756-c072-4733-bd1f-3e524cf21f7f",
   "metadata": {
    "jp-MarkdownHeadingCollapsed": true,
    "tags": []
   },
   "source": [
    "# Female only Venn diagram BR1vsBR2"
   ]
  },
  {
   "cell_type": "code",
   "execution_count": 8,
   "id": "96e50b52-17af-4de6-8c1e-ca854e8092aa",
   "metadata": {
    "tags": []
   },
   "outputs": [
    {
     "data": {
      "text/html": [
       "<table class=\"dataframe\">\n",
       "<caption>A data.frame: 6 × 13</caption>\n",
       "<thead>\n",
       "\t<tr><th></th><th scope=col>X.1</th><th scope=col>X</th><th scope=col>Estimate</th><th scope=col>Std..Error</th><th scope=col>t.value</th><th scope=col>Pr...t..</th><th scope=col>factor</th><th scope=col>Assay</th><th scope=col>Log2FC_Age</th><th scope=col>diff</th><th scope=col>padj</th><th scope=col>Sex</th><th scope=col>Expression</th></tr>\n",
       "\t<tr><th></th><th scope=col>&lt;int&gt;</th><th scope=col>&lt;chr&gt;</th><th scope=col>&lt;dbl&gt;</th><th scope=col>&lt;dbl&gt;</th><th scope=col>&lt;dbl&gt;</th><th scope=col>&lt;dbl&gt;</th><th scope=col>&lt;chr&gt;</th><th scope=col>&lt;chr&gt;</th><th scope=col>&lt;dbl&gt;</th><th scope=col>&lt;dbl&gt;</th><th scope=col>&lt;dbl&gt;</th><th scope=col>&lt;chr&gt;</th><th scope=col>&lt;chr&gt;</th></tr>\n",
       "</thead>\n",
       "<tbody>\n",
       "\t<tr><th scope=row>1</th><td>  2</td><td>cohort.cohortGuidBR21  </td><td>0.3763087</td><td>0.08035168</td><td>4.683271</td><td>2.349236e-05</td><td>Age</td><td>THPO   </td><td>0.7675432</td><td>0.3895213</td><td>3.371154e-02</td><td>F</td><td>Up-regulated-BR2</td></tr>\n",
       "\t<tr><th scope=row>2</th><td> 65</td><td>cohort.cohortGuidBR264 </td><td>0.6177760</td><td>0.10530276</td><td>5.866665</td><td>4.004721e-07</td><td>Age</td><td>ACTA2  </td><td>       NA</td><td>0.6214094</td><td>5.842887e-04</td><td>F</td><td>Up-regulated-BR2</td></tr>\n",
       "\t<tr><th scope=row>3</th><td>116</td><td>cohort.cohortGuidBR2115</td><td>0.4069968</td><td>0.08789724</td><td>4.630371</td><td>2.803191e-05</td><td>Age</td><td>SIGLEC7</td><td>1.2436459</td><td>0.3363161</td><td>4.016973e-02</td><td>F</td><td>Up-regulated-BR2</td></tr>\n",
       "\t<tr><th scope=row>4</th><td>130</td><td>cohort.cohortGuidBR2129</td><td>0.7542238</td><td>0.11809923</td><td>6.386357</td><td>6.424623e-08</td><td>Age</td><td>SOST   </td><td>2.0904355</td><td>0.7411938</td><td>9.386375e-05</td><td>F</td><td>Up-regulated-BR2</td></tr>\n",
       "\t<tr><th scope=row>5</th><td>131</td><td>cohort.cohortGuidBR2130</td><td>0.5207877</td><td>0.08764225</td><td>5.942199</td><td>3.072049e-07</td><td>Age</td><td>NPDC1  </td><td>1.0241902</td><td>0.4964650</td><td>4.485191e-04</td><td>F</td><td>Up-regulated-BR2</td></tr>\n",
       "\t<tr><th scope=row>6</th><td>154</td><td>cohort.cohortGuidBR2153</td><td>0.3832704</td><td>0.08357015</td><td>4.586212</td><td>3.247092e-05</td><td>Age</td><td>CTSL   </td><td>2.9751690</td><td>0.3706018</td><td>4.643341e-02</td><td>F</td><td>Up-regulated-BR2</td></tr>\n",
       "</tbody>\n",
       "</table>\n"
      ],
      "text/latex": [
       "A data.frame: 6 × 13\n",
       "\\begin{tabular}{r|lllllllllllll}\n",
       "  & X.1 & X & Estimate & Std..Error & t.value & Pr...t.. & factor & Assay & Log2FC\\_Age & diff & padj & Sex & Expression\\\\\n",
       "  & <int> & <chr> & <dbl> & <dbl> & <dbl> & <dbl> & <chr> & <chr> & <dbl> & <dbl> & <dbl> & <chr> & <chr>\\\\\n",
       "\\hline\n",
       "\t1 &   2 & cohort.cohortGuidBR21   & 0.3763087 & 0.08035168 & 4.683271 & 2.349236e-05 & Age & THPO    & 0.7675432 & 0.3895213 & 3.371154e-02 & F & Up-regulated-BR2\\\\\n",
       "\t2 &  65 & cohort.cohortGuidBR264  & 0.6177760 & 0.10530276 & 5.866665 & 4.004721e-07 & Age & ACTA2   &        NA & 0.6214094 & 5.842887e-04 & F & Up-regulated-BR2\\\\\n",
       "\t3 & 116 & cohort.cohortGuidBR2115 & 0.4069968 & 0.08789724 & 4.630371 & 2.803191e-05 & Age & SIGLEC7 & 1.2436459 & 0.3363161 & 4.016973e-02 & F & Up-regulated-BR2\\\\\n",
       "\t4 & 130 & cohort.cohortGuidBR2129 & 0.7542238 & 0.11809923 & 6.386357 & 6.424623e-08 & Age & SOST    & 2.0904355 & 0.7411938 & 9.386375e-05 & F & Up-regulated-BR2\\\\\n",
       "\t5 & 131 & cohort.cohortGuidBR2130 & 0.5207877 & 0.08764225 & 5.942199 & 3.072049e-07 & Age & NPDC1   & 1.0241902 & 0.4964650 & 4.485191e-04 & F & Up-regulated-BR2\\\\\n",
       "\t6 & 154 & cohort.cohortGuidBR2153 & 0.3832704 & 0.08357015 & 4.586212 & 3.247092e-05 & Age & CTSL    & 2.9751690 & 0.3706018 & 4.643341e-02 & F & Up-regulated-BR2\\\\\n",
       "\\end{tabular}\n"
      ],
      "text/markdown": [
       "\n",
       "A data.frame: 6 × 13\n",
       "\n",
       "| <!--/--> | X.1 &lt;int&gt; | X &lt;chr&gt; | Estimate &lt;dbl&gt; | Std..Error &lt;dbl&gt; | t.value &lt;dbl&gt; | Pr...t.. &lt;dbl&gt; | factor &lt;chr&gt; | Assay &lt;chr&gt; | Log2FC_Age &lt;dbl&gt; | diff &lt;dbl&gt; | padj &lt;dbl&gt; | Sex &lt;chr&gt; | Expression &lt;chr&gt; |\n",
       "|---|---|---|---|---|---|---|---|---|---|---|---|---|---|\n",
       "| 1 |   2 | cohort.cohortGuidBR21   | 0.3763087 | 0.08035168 | 4.683271 | 2.349236e-05 | Age | THPO    | 0.7675432 | 0.3895213 | 3.371154e-02 | F | Up-regulated-BR2 |\n",
       "| 2 |  65 | cohort.cohortGuidBR264  | 0.6177760 | 0.10530276 | 5.866665 | 4.004721e-07 | Age | ACTA2   |        NA | 0.6214094 | 5.842887e-04 | F | Up-regulated-BR2 |\n",
       "| 3 | 116 | cohort.cohortGuidBR2115 | 0.4069968 | 0.08789724 | 4.630371 | 2.803191e-05 | Age | SIGLEC7 | 1.2436459 | 0.3363161 | 4.016973e-02 | F | Up-regulated-BR2 |\n",
       "| 4 | 130 | cohort.cohortGuidBR2129 | 0.7542238 | 0.11809923 | 6.386357 | 6.424623e-08 | Age | SOST    | 2.0904355 | 0.7411938 | 9.386375e-05 | F | Up-regulated-BR2 |\n",
       "| 5 | 131 | cohort.cohortGuidBR2130 | 0.5207877 | 0.08764225 | 5.942199 | 3.072049e-07 | Age | NPDC1   | 1.0241902 | 0.4964650 | 4.485191e-04 | F | Up-regulated-BR2 |\n",
       "| 6 | 154 | cohort.cohortGuidBR2153 | 0.3832704 | 0.08357015 | 4.586212 | 3.247092e-05 | Age | CTSL    | 2.9751690 | 0.3706018 | 4.643341e-02 | F | Up-regulated-BR2 |\n",
       "\n"
      ],
      "text/plain": [
       "  X.1 X                       Estimate  Std..Error t.value  Pr...t..     factor\n",
       "1   2 cohort.cohortGuidBR21   0.3763087 0.08035168 4.683271 2.349236e-05 Age   \n",
       "2  65 cohort.cohortGuidBR264  0.6177760 0.10530276 5.866665 4.004721e-07 Age   \n",
       "3 116 cohort.cohortGuidBR2115 0.4069968 0.08789724 4.630371 2.803191e-05 Age   \n",
       "4 130 cohort.cohortGuidBR2129 0.7542238 0.11809923 6.386357 6.424623e-08 Age   \n",
       "5 131 cohort.cohortGuidBR2130 0.5207877 0.08764225 5.942199 3.072049e-07 Age   \n",
       "6 154 cohort.cohortGuidBR2153 0.3832704 0.08357015 4.586212 3.247092e-05 Age   \n",
       "  Assay   Log2FC_Age diff      padj         Sex Expression      \n",
       "1 THPO    0.7675432  0.3895213 3.371154e-02 F   Up-regulated-BR2\n",
       "2 ACTA2          NA  0.6214094 5.842887e-04 F   Up-regulated-BR2\n",
       "3 SIGLEC7 1.2436459  0.3363161 4.016973e-02 F   Up-regulated-BR2\n",
       "4 SOST    2.0904355  0.7411938 9.386375e-05 F   Up-regulated-BR2\n",
       "5 NPDC1   1.0241902  0.4964650 4.485191e-04 F   Up-regulated-BR2\n",
       "6 CTSL    2.9751690  0.3706018 4.643341e-02 F   Up-regulated-BR2"
      ]
     },
     "metadata": {},
     "output_type": "display_data"
    },
    {
     "data": {
      "text/html": [
       "<style>\n",
       ".list-inline {list-style: none; margin:0; padding: 0}\n",
       ".list-inline>li {display: inline-block}\n",
       ".list-inline>li:not(:last-child)::after {content: \"\\00b7\"; padding: 0 .5ex}\n",
       "</style>\n",
       "<ol class=list-inline><li>'Up-regulated-BR2'</li><li>'Down-regulated-BR2'</li></ol>\n"
      ],
      "text/latex": [
       "\\begin{enumerate*}\n",
       "\\item 'Up-regulated-BR2'\n",
       "\\item 'Down-regulated-BR2'\n",
       "\\end{enumerate*}\n"
      ],
      "text/markdown": [
       "1. 'Up-regulated-BR2'\n",
       "2. 'Down-regulated-BR2'\n",
       "\n",
       "\n"
      ],
      "text/plain": [
       "[1] \"Up-regulated-BR2\"   \"Down-regulated-BR2\""
      ]
     },
     "metadata": {},
     "output_type": "display_data"
    }
   ],
   "source": [
    "olink_female <- data %>% filter(Sex == 'F', padj <=0.05)\n",
    "head(olink_female)\n",
    "unique(olink_female$Expression)"
   ]
  },
  {
   "cell_type": "code",
   "execution_count": 14,
   "id": "7ad33f76-ddad-4790-a306-a6fc203189ef",
   "metadata": {
    "tags": []
   },
   "outputs": [],
   "source": [
    "# Filter data for IL1B+ CD14 monocytes\n",
    "degs_BR2 <- olink_female[olink_female$Expression == \"Up-regulated-BR2\", \"Assay\"]\n",
    "\n",
    "# Filter data for all non-IL1B+ CD14 monocytes\n",
    "degs_BR1 <- olink_female[olink_female$Expression != \"Up-regulated-BR2\", \"Assay\"]\n",
    "\n",
    "# Remove duplicates from degs_IL1B_cd14\n",
    "degs_BR2 <- unique(degs_BR2)\n",
    "\n",
    "# Remove duplicates from degs_other_cd14\n",
    "degs_BR1 <- unique(degs_BR1)\n",
    "\n",
    "# Combine the two sets into one list variable 'a'\n",
    "a <- list(`BR2` = degs_BR2, `BR1` = degs_BR1)"
   ]
  },
  {
   "cell_type": "code",
   "execution_count": 15,
   "id": "ad3b8558-1b7b-4c90-bc4e-2c768370f088",
   "metadata": {
    "tags": []
   },
   "outputs": [
    {
     "data": {
      "text/html": [
       "<dl>\n",
       "\t<dt>$BR2</dt>\n",
       "\t\t<dd><style>\n",
       ".list-inline {list-style: none; margin:0; padding: 0}\n",
       ".list-inline>li {display: inline-block}\n",
       ".list-inline>li:not(:last-child)::after {content: \"\\00b7\"; padding: 0 .5ex}\n",
       "</style>\n",
       "<ol class=list-inline><li>'THPO'</li><li>'ACTA2'</li><li>'SIGLEC7'</li><li>'SOST'</li><li>'NPDC1'</li><li>'CTSL'</li><li>'THBD'</li><li>'FAM3C'</li><li>'TINAGL1'</li><li>'GDF15'</li><li>'LTBP2'</li><li>'CRTAC1'</li><li>'MCAM'</li><li>'IL18BP'</li><li>'CD46'</li><li>'ANGPTL3'</li><li>'EFEMP1'</li><li>'WNT9A'</li><li>'ITGA11'</li><li>'CXCL17'</li><li>'PGF'</li><li>'CCL25'</li><li>'LGALS9'</li><li>'GFAP'</li><li>'CD302'</li><li>'DTX3'</li><li>'AMBP'</li><li>'RSPO3'</li><li>'ITGAV'</li><li>'F3'</li><li>'EDA2R'</li><li>'WFDC2'</li><li>'NEFL'</li><li>'CDCP1'</li><li>'SCARB2'</li><li>'SCARF2'</li><li>'JAM2'</li><li>'CGA'</li><li>'TFF1'</li><li>'TNFRSF1A'</li></ol>\n",
       "</dd>\n",
       "\t<dt>$BR1</dt>\n",
       "\t\t<dd><style>\n",
       ".list-inline {list-style: none; margin:0; padding: 0}\n",
       ".list-inline>li {display: inline-block}\n",
       ".list-inline>li:not(:last-child)::after {content: \"\\00b7\"; padding: 0 .5ex}\n",
       "</style>\n",
       "<ol class=list-inline><li>'PROK1'</li><li>'CTSV'</li><li>'PAEP'</li></ol>\n",
       "</dd>\n",
       "</dl>\n"
      ],
      "text/latex": [
       "\\begin{description}\n",
       "\\item[\\$BR2] \\begin{enumerate*}\n",
       "\\item 'THPO'\n",
       "\\item 'ACTA2'\n",
       "\\item 'SIGLEC7'\n",
       "\\item 'SOST'\n",
       "\\item 'NPDC1'\n",
       "\\item 'CTSL'\n",
       "\\item 'THBD'\n",
       "\\item 'FAM3C'\n",
       "\\item 'TINAGL1'\n",
       "\\item 'GDF15'\n",
       "\\item 'LTBP2'\n",
       "\\item 'CRTAC1'\n",
       "\\item 'MCAM'\n",
       "\\item 'IL18BP'\n",
       "\\item 'CD46'\n",
       "\\item 'ANGPTL3'\n",
       "\\item 'EFEMP1'\n",
       "\\item 'WNT9A'\n",
       "\\item 'ITGA11'\n",
       "\\item 'CXCL17'\n",
       "\\item 'PGF'\n",
       "\\item 'CCL25'\n",
       "\\item 'LGALS9'\n",
       "\\item 'GFAP'\n",
       "\\item 'CD302'\n",
       "\\item 'DTX3'\n",
       "\\item 'AMBP'\n",
       "\\item 'RSPO3'\n",
       "\\item 'ITGAV'\n",
       "\\item 'F3'\n",
       "\\item 'EDA2R'\n",
       "\\item 'WFDC2'\n",
       "\\item 'NEFL'\n",
       "\\item 'CDCP1'\n",
       "\\item 'SCARB2'\n",
       "\\item 'SCARF2'\n",
       "\\item 'JAM2'\n",
       "\\item 'CGA'\n",
       "\\item 'TFF1'\n",
       "\\item 'TNFRSF1A'\n",
       "\\end{enumerate*}\n",
       "\n",
       "\\item[\\$BR1] \\begin{enumerate*}\n",
       "\\item 'PROK1'\n",
       "\\item 'CTSV'\n",
       "\\item 'PAEP'\n",
       "\\end{enumerate*}\n",
       "\n",
       "\\end{description}\n"
      ],
      "text/markdown": [
       "$BR2\n",
       ":   1. 'THPO'\n",
       "2. 'ACTA2'\n",
       "3. 'SIGLEC7'\n",
       "4. 'SOST'\n",
       "5. 'NPDC1'\n",
       "6. 'CTSL'\n",
       "7. 'THBD'\n",
       "8. 'FAM3C'\n",
       "9. 'TINAGL1'\n",
       "10. 'GDF15'\n",
       "11. 'LTBP2'\n",
       "12. 'CRTAC1'\n",
       "13. 'MCAM'\n",
       "14. 'IL18BP'\n",
       "15. 'CD46'\n",
       "16. 'ANGPTL3'\n",
       "17. 'EFEMP1'\n",
       "18. 'WNT9A'\n",
       "19. 'ITGA11'\n",
       "20. 'CXCL17'\n",
       "21. 'PGF'\n",
       "22. 'CCL25'\n",
       "23. 'LGALS9'\n",
       "24. 'GFAP'\n",
       "25. 'CD302'\n",
       "26. 'DTX3'\n",
       "27. 'AMBP'\n",
       "28. 'RSPO3'\n",
       "29. 'ITGAV'\n",
       "30. 'F3'\n",
       "31. 'EDA2R'\n",
       "32. 'WFDC2'\n",
       "33. 'NEFL'\n",
       "34. 'CDCP1'\n",
       "35. 'SCARB2'\n",
       "36. 'SCARF2'\n",
       "37. 'JAM2'\n",
       "38. 'CGA'\n",
       "39. 'TFF1'\n",
       "40. 'TNFRSF1A'\n",
       "\n",
       "\n",
       "\n",
       "$BR1\n",
       ":   1. 'PROK1'\n",
       "2. 'CTSV'\n",
       "3. 'PAEP'\n",
       "\n",
       "\n",
       "\n",
       "\n",
       "\n"
      ],
      "text/plain": [
       "$BR2\n",
       " [1] \"THPO\"     \"ACTA2\"    \"SIGLEC7\"  \"SOST\"     \"NPDC1\"    \"CTSL\"    \n",
       " [7] \"THBD\"     \"FAM3C\"    \"TINAGL1\"  \"GDF15\"    \"LTBP2\"    \"CRTAC1\"  \n",
       "[13] \"MCAM\"     \"IL18BP\"   \"CD46\"     \"ANGPTL3\"  \"EFEMP1\"   \"WNT9A\"   \n",
       "[19] \"ITGA11\"   \"CXCL17\"   \"PGF\"      \"CCL25\"    \"LGALS9\"   \"GFAP\"    \n",
       "[25] \"CD302\"    \"DTX3\"     \"AMBP\"     \"RSPO3\"    \"ITGAV\"    \"F3\"      \n",
       "[31] \"EDA2R\"    \"WFDC2\"    \"NEFL\"     \"CDCP1\"    \"SCARB2\"   \"SCARF2\"  \n",
       "[37] \"JAM2\"     \"CGA\"      \"TFF1\"     \"TNFRSF1A\"\n",
       "\n",
       "$BR1\n",
       "[1] \"PROK1\" \"CTSV\"  \"PAEP\" \n"
      ]
     },
     "metadata": {},
     "output_type": "display_data"
    }
   ],
   "source": [
    "a"
   ]
  },
  {
   "cell_type": "code",
   "execution_count": null,
   "id": "17a6a267-6a55-4850-af4c-c1aa80e0d42b",
   "metadata": {},
   "outputs": [],
   "source": []
  },
  {
   "cell_type": "code",
   "execution_count": 16,
   "id": "0266b572-1ed8-4fdf-b67f-151385183144",
   "metadata": {
    "tags": []
   },
   "outputs": [
    {
     "data": {
      "image/png": "[encoded data removed]",
      "text/plain": [
       "plot without title"
      ]
     },
     "metadata": {
      "image/png": {
       "height": 420,
       "width": 420
      }
     },
     "output_type": "display_data"
    }
   ],
   "source": [
    "library(eulerr)\n",
    "\n",
    "# Create the plot object\n",
    "p1 <- euler(a, shape = \"ellipse\")\n",
    "\n",
    "# Set margin\n",
    "# par(mar=c(7,20,5,20))  # Adjust margins (bottom, left, top, right)\n",
    "\n",
    "# Specify colors and font size\n",
    "plot(p1, quantities = list(fontface = 5),\n",
    "    fill = RColorBrewer::brewer.pal(4, \"Set3\"),\n",
    "    border = \"transparent\",\n",
    "    auto.key = list(space = \"right\"))\n",
    "\n",
    "# # Save the plot as PNG\n",
    "# png('/home/jupyter/IH-A-Aging-Analysis-Notebooks_old/Mansi_Notebooks/scRNA/Figure_Notebooks/Intermediate_files/venn_test1.png', width=800, height=600)  # Adjust width and height as needed\n",
    "# plot(p1, quantities = list(type = c(\"counts\"), font=2, round=2, cex=1),\n",
    "#      font = 1:6,\n",
    "#      labels = list(cex=1.5, fontsize =12),\n",
    "#      fill = c(\"skyblue\", \"orange\"))\n",
    "# dev.off()  # Close the PNG device\n"
   ]
  },
  {
   "cell_type": "code",
   "execution_count": null,
   "id": "44a0168f-c8d6-4253-96f9-1de002bd5aae",
   "metadata": {},
   "outputs": [],
   "source": []
  },
  {
   "cell_type": "markdown",
   "id": "ea168f1d-73e5-4bf0-80d6-59007f3fb8da",
   "metadata": {
    "jp-MarkdownHeadingCollapsed": true,
    "tags": []
   },
   "source": [
    "# Male only Venn diagram BR1vsBR2"
   ]
  },
  {
   "cell_type": "code",
   "execution_count": 20,
   "id": "8ff701be-cff5-461a-9285-b53933f834ab",
   "metadata": {
    "tags": []
   },
   "outputs": [
    {
     "data": {
      "text/html": [
       "<table class=\"dataframe\">\n",
       "<caption>A data.frame: 6 × 13</caption>\n",
       "<thead>\n",
       "\t<tr><th></th><th scope=col>X.1</th><th scope=col>X</th><th scope=col>Estimate</th><th scope=col>Std..Error</th><th scope=col>t.value</th><th scope=col>Pr...t..</th><th scope=col>factor</th><th scope=col>Assay</th><th scope=col>Log2FC_Age</th><th scope=col>diff</th><th scope=col>padj</th><th scope=col>Sex</th><th scope=col>Expression</th></tr>\n",
       "\t<tr><th></th><th scope=col>&lt;int&gt;</th><th scope=col>&lt;chr&gt;</th><th scope=col>&lt;dbl&gt;</th><th scope=col>&lt;dbl&gt;</th><th scope=col>&lt;dbl&gt;</th><th scope=col>&lt;dbl&gt;</th><th scope=col>&lt;chr&gt;</th><th scope=col>&lt;chr&gt;</th><th scope=col>&lt;dbl&gt;</th><th scope=col>&lt;dbl&gt;</th><th scope=col>&lt;dbl&gt;</th><th scope=col>&lt;chr&gt;</th><th scope=col>&lt;chr&gt;</th></tr>\n",
       "</thead>\n",
       "<tbody>\n",
       "\t<tr><th scope=row>1</th><td>1537</td><td>cohort.cohortGuidBR264 </td><td>0.5997767</td><td>0.12368281</td><td>4.849313</td><td>2.123365e-05</td><td>Age</td><td>ACTA2</td><td>      NA</td><td>0.6000621</td><td>3.104359e-02</td><td>M</td><td>Up-regulated-BR2</td></tr>\n",
       "\t<tr><th scope=row>2</th><td>1602</td><td>cohort.cohortGuidBR2129</td><td>0.6494753</td><td>0.12774468</td><td>5.084167</td><td>1.020414e-05</td><td>Age</td><td>SOST </td><td>1.415697</td><td>0.6480369</td><td>1.492865e-02</td><td>M</td><td>Up-regulated-BR2</td></tr>\n",
       "\t<tr><th scope=row>3</th><td>1671</td><td>cohort.cohortGuidBR2198</td><td>0.8138812</td><td>0.11725085</td><td>6.941367</td><td>2.952421e-08</td><td>Age</td><td>GDF15</td><td>      NA</td><td>0.8162124</td><td>4.337106e-05</td><td>M</td><td>Up-regulated-BR2</td></tr>\n",
       "\t<tr><th scope=row>4</th><td>1674</td><td>cohort.cohortGuidBR2201</td><td>0.6530751</td><td>0.07770770</td><td>8.404253</td><td>3.386372e-10</td><td>Age</td><td>LTBP2</td><td>      NA</td><td>0.6548736</td><td>4.977967e-07</td><td>M</td><td>Up-regulated-BR2</td></tr>\n",
       "\t<tr><th scope=row>5</th><td>1698</td><td>cohort.cohortGuidBR2225</td><td>0.3133376</td><td>0.06504459</td><td>4.817275</td><td>2.345616e-05</td><td>Age</td><td>DPT  </td><td>2.041845</td><td>0.3160029</td><td>3.424600e-02</td><td>M</td><td>Up-regulated-BR2</td></tr>\n",
       "\t<tr><th scope=row>6</th><td>1849</td><td>cohort.cohortGuidBR2376</td><td>0.4986720</td><td>0.08816931</td><td>5.655846</td><td>1.688426e-06</td><td>Age</td><td>WNT9A</td><td>      NA</td><td>0.5014226</td><td>2.475233e-03</td><td>M</td><td>Up-regulated-BR2</td></tr>\n",
       "</tbody>\n",
       "</table>\n"
      ],
      "text/latex": [
       "A data.frame: 6 × 13\n",
       "\\begin{tabular}{r|lllllllllllll}\n",
       "  & X.1 & X & Estimate & Std..Error & t.value & Pr...t.. & factor & Assay & Log2FC\\_Age & diff & padj & Sex & Expression\\\\\n",
       "  & <int> & <chr> & <dbl> & <dbl> & <dbl> & <dbl> & <chr> & <chr> & <dbl> & <dbl> & <dbl> & <chr> & <chr>\\\\\n",
       "\\hline\n",
       "\t1 & 1537 & cohort.cohortGuidBR264  & 0.5997767 & 0.12368281 & 4.849313 & 2.123365e-05 & Age & ACTA2 &       NA & 0.6000621 & 3.104359e-02 & M & Up-regulated-BR2\\\\\n",
       "\t2 & 1602 & cohort.cohortGuidBR2129 & 0.6494753 & 0.12774468 & 5.084167 & 1.020414e-05 & Age & SOST  & 1.415697 & 0.6480369 & 1.492865e-02 & M & Up-regulated-BR2\\\\\n",
       "\t3 & 1671 & cohort.cohortGuidBR2198 & 0.8138812 & 0.11725085 & 6.941367 & 2.952421e-08 & Age & GDF15 &       NA & 0.8162124 & 4.337106e-05 & M & Up-regulated-BR2\\\\\n",
       "\t4 & 1674 & cohort.cohortGuidBR2201 & 0.6530751 & 0.07770770 & 8.404253 & 3.386372e-10 & Age & LTBP2 &       NA & 0.6548736 & 4.977967e-07 & M & Up-regulated-BR2\\\\\n",
       "\t5 & 1698 & cohort.cohortGuidBR2225 & 0.3133376 & 0.06504459 & 4.817275 & 2.345616e-05 & Age & DPT   & 2.041845 & 0.3160029 & 3.424600e-02 & M & Up-regulated-BR2\\\\\n",
       "\t6 & 1849 & cohort.cohortGuidBR2376 & 0.4986720 & 0.08816931 & 5.655846 & 1.688426e-06 & Age & WNT9A &       NA & 0.5014226 & 2.475233e-03 & M & Up-regulated-BR2\\\\\n",
       "\\end{tabular}\n"
      ],
      "text/markdown": [
       "\n",
       "A data.frame: 6 × 13\n",
       "\n",
       "| <!--/--> | X.1 &lt;int&gt; | X &lt;chr&gt; | Estimate &lt;dbl&gt; | Std..Error &lt;dbl&gt; | t.value &lt;dbl&gt; | Pr...t.. &lt;dbl&gt; | factor &lt;chr&gt; | Assay &lt;chr&gt; | Log2FC_Age &lt;dbl&gt; | diff &lt;dbl&gt; | padj &lt;dbl&gt; | Sex &lt;chr&gt; | Expression &lt;chr&gt; |\n",
       "|---|---|---|---|---|---|---|---|---|---|---|---|---|---|\n",
       "| 1 | 1537 | cohort.cohortGuidBR264  | 0.5997767 | 0.12368281 | 4.849313 | 2.123365e-05 | Age | ACTA2 |       NA | 0.6000621 | 3.104359e-02 | M | Up-regulated-BR2 |\n",
       "| 2 | 1602 | cohort.cohortGuidBR2129 | 0.6494753 | 0.12774468 | 5.084167 | 1.020414e-05 | Age | SOST  | 1.415697 | 0.6480369 | 1.492865e-02 | M | Up-regulated-BR2 |\n",
       "| 3 | 1671 | cohort.cohortGuidBR2198 | 0.8138812 | 0.11725085 | 6.941367 | 2.952421e-08 | Age | GDF15 |       NA | 0.8162124 | 4.337106e-05 | M | Up-regulated-BR2 |\n",
       "| 4 | 1674 | cohort.cohortGuidBR2201 | 0.6530751 | 0.07770770 | 8.404253 | 3.386372e-10 | Age | LTBP2 |       NA | 0.6548736 | 4.977967e-07 | M | Up-regulated-BR2 |\n",
       "| 5 | 1698 | cohort.cohortGuidBR2225 | 0.3133376 | 0.06504459 | 4.817275 | 2.345616e-05 | Age | DPT   | 2.041845 | 0.3160029 | 3.424600e-02 | M | Up-regulated-BR2 |\n",
       "| 6 | 1849 | cohort.cohortGuidBR2376 | 0.4986720 | 0.08816931 | 5.655846 | 1.688426e-06 | Age | WNT9A |       NA | 0.5014226 | 2.475233e-03 | M | Up-regulated-BR2 |\n",
       "\n"
      ],
      "text/plain": [
       "  X.1  X                       Estimate  Std..Error t.value  Pr...t..    \n",
       "1 1537 cohort.cohortGuidBR264  0.5997767 0.12368281 4.849313 2.123365e-05\n",
       "2 1602 cohort.cohortGuidBR2129 0.6494753 0.12774468 5.084167 1.020414e-05\n",
       "3 1671 cohort.cohortGuidBR2198 0.8138812 0.11725085 6.941367 2.952421e-08\n",
       "4 1674 cohort.cohortGuidBR2201 0.6530751 0.07770770 8.404253 3.386372e-10\n",
       "5 1698 cohort.cohortGuidBR2225 0.3133376 0.06504459 4.817275 2.345616e-05\n",
       "6 1849 cohort.cohortGuidBR2376 0.4986720 0.08816931 5.655846 1.688426e-06\n",
       "  factor Assay Log2FC_Age diff      padj         Sex Expression      \n",
       "1 Age    ACTA2       NA   0.6000621 3.104359e-02 M   Up-regulated-BR2\n",
       "2 Age    SOST  1.415697   0.6480369 1.492865e-02 M   Up-regulated-BR2\n",
       "3 Age    GDF15       NA   0.8162124 4.337106e-05 M   Up-regulated-BR2\n",
       "4 Age    LTBP2       NA   0.6548736 4.977967e-07 M   Up-regulated-BR2\n",
       "5 Age    DPT   2.041845   0.3160029 3.424600e-02 M   Up-regulated-BR2\n",
       "6 Age    WNT9A       NA   0.5014226 2.475233e-03 M   Up-regulated-BR2"
      ]
     },
     "metadata": {},
     "output_type": "display_data"
    },
    {
     "data": {
      "text/html": [
       "<style>\n",
       ".list-inline {list-style: none; margin:0; padding: 0}\n",
       ".list-inline>li {display: inline-block}\n",
       ".list-inline>li:not(:last-child)::after {content: \"\\00b7\"; padding: 0 .5ex}\n",
       "</style>\n",
       "<ol class=list-inline><li>'Up-regulated-BR2'</li><li>'Down-regulated-BR2'</li></ol>\n"
      ],
      "text/latex": [
       "\\begin{enumerate*}\n",
       "\\item 'Up-regulated-BR2'\n",
       "\\item 'Down-regulated-BR2'\n",
       "\\end{enumerate*}\n"
      ],
      "text/markdown": [
       "1. 'Up-regulated-BR2'\n",
       "2. 'Down-regulated-BR2'\n",
       "\n",
       "\n"
      ],
      "text/plain": [
       "[1] \"Up-regulated-BR2\"   \"Down-regulated-BR2\""
      ]
     },
     "metadata": {},
     "output_type": "display_data"
    }
   ],
   "source": [
    "olink_male <- data %>% filter(Sex == 'M', padj <=0.05)\n",
    "head(olink_male)\n",
    "unique(olink_male$Expression)"
   ]
  },
  {
   "cell_type": "code",
   "execution_count": 21,
   "id": "00ff249a-5b41-4556-a17d-4194eb4609f4",
   "metadata": {
    "tags": []
   },
   "outputs": [],
   "source": [
    "# Filter data for IL1B+ CD14 monocytes\n",
    "degs_BR2 <- olink_male[olink_male$Expression == \"Up-regulated-BR2\", \"Assay\"]\n",
    "\n",
    "# Filter data for all non-IL1B+ CD14 monocytes\n",
    "degs_BR1 <- olink_male[olink_male$Expression != \"Up-regulated-BR2\", \"Assay\"]\n",
    "\n",
    "# Remove duplicates from degs_IL1B_cd14\n",
    "degs_BR2 <- unique(degs_BR2)\n",
    "\n",
    "# Remove duplicates from degs_other_cd14\n",
    "degs_BR1 <- unique(degs_BR1)\n",
    "\n",
    "# Combine the two sets into one list variable 'a'\n",
    "a <- list(`BR2` = degs_BR2, `BR1` = degs_BR1)"
   ]
  },
  {
   "cell_type": "code",
   "execution_count": 22,
   "id": "18f62120-fa76-4efb-96a0-d8d4faac180a",
   "metadata": {
    "tags": []
   },
   "outputs": [
    {
     "data": {
      "text/html": [
       "<dl>\n",
       "\t<dt>$BR2</dt>\n",
       "\t\t<dd><style>\n",
       ".list-inline {list-style: none; margin:0; padding: 0}\n",
       ".list-inline>li {display: inline-block}\n",
       ".list-inline>li:not(:last-child)::after {content: \"\\00b7\"; padding: 0 .5ex}\n",
       "</style>\n",
       "<ol class=list-inline><li>'ACTA2'</li><li>'SOST'</li><li>'GDF15'</li><li>'LTBP2'</li><li>'DPT'</li><li>'WNT9A'</li><li>'MLN'</li><li>'CXCL17'</li><li>'FLT3LG'</li><li>'EDA2R'</li><li>'WFDC2'</li><li>'SCARF2'</li><li>'IGFBP4'</li></ol>\n",
       "</dd>\n",
       "\t<dt>$BR1</dt>\n",
       "\t\t<dd>'RET'</dd>\n",
       "</dl>\n"
      ],
      "text/latex": [
       "\\begin{description}\n",
       "\\item[\\$BR2] \\begin{enumerate*}\n",
       "\\item 'ACTA2'\n",
       "\\item 'SOST'\n",
       "\\item 'GDF15'\n",
       "\\item 'LTBP2'\n",
       "\\item 'DPT'\n",
       "\\item 'WNT9A'\n",
       "\\item 'MLN'\n",
       "\\item 'CXCL17'\n",
       "\\item 'FLT3LG'\n",
       "\\item 'EDA2R'\n",
       "\\item 'WFDC2'\n",
       "\\item 'SCARF2'\n",
       "\\item 'IGFBP4'\n",
       "\\end{enumerate*}\n",
       "\n",
       "\\item[\\$BR1] 'RET'\n",
       "\\end{description}\n"
      ],
      "text/markdown": [
       "$BR2\n",
       ":   1. 'ACTA2'\n",
       "2. 'SOST'\n",
       "3. 'GDF15'\n",
       "4. 'LTBP2'\n",
       "5. 'DPT'\n",
       "6. 'WNT9A'\n",
       "7. 'MLN'\n",
       "8. 'CXCL17'\n",
       "9. 'FLT3LG'\n",
       "10. 'EDA2R'\n",
       "11. 'WFDC2'\n",
       "12. 'SCARF2'\n",
       "13. 'IGFBP4'\n",
       "\n",
       "\n",
       "\n",
       "$BR1\n",
       ":   'RET'\n",
       "\n",
       "\n"
      ],
      "text/plain": [
       "$BR2\n",
       " [1] \"ACTA2\"  \"SOST\"   \"GDF15\"  \"LTBP2\"  \"DPT\"    \"WNT9A\"  \"MLN\"    \"CXCL17\"\n",
       " [9] \"FLT3LG\" \"EDA2R\"  \"WFDC2\"  \"SCARF2\" \"IGFBP4\"\n",
       "\n",
       "$BR1\n",
       "[1] \"RET\"\n"
      ]
     },
     "metadata": {},
     "output_type": "display_data"
    }
   ],
   "source": [
    "a"
   ]
  },
  {
   "cell_type": "code",
   "execution_count": null,
   "id": "b48d2085-6b61-47d7-aca5-1b29392e2a0b",
   "metadata": {},
   "outputs": [],
   "source": []
  },
  {
   "cell_type": "code",
   "execution_count": 23,
   "id": "86b33947-ec61-40ab-bf0c-fe1891f8953b",
   "metadata": {
    "tags": []
   },
   "outputs": [
    {
     "data": {
      "image/png": "[encoded data removed]",
      "text/plain": [
       "plot without title"
      ]
     },
     "metadata": {
      "image/png": {
       "height": 420,
       "width": 420
      }
     },
     "output_type": "display_data"
    }
   ],
   "source": [
    "library(eulerr)\n",
    "\n",
    "# Create the plot object\n",
    "p1 <- euler(a, shape = \"ellipse\")\n",
    "\n",
    "# Set margin\n",
    "# par(mar=c(7,20,5,20))  # Adjust margins (bottom, left, top, right)\n",
    "\n",
    "# Specify colors and font size\n",
    "plot(p1, quantities = list(fontface = 5),\n",
    "    fill = RColorBrewer::brewer.pal(4, \"Set3\"),\n",
    "    border = \"transparent\",\n",
    "    auto.key = list(space = \"right\"))\n",
    "\n",
    "# # Save the plot as PNG\n",
    "# png('/home/jupyter/IH-A-Aging-Analysis-Notebooks_old/Mansi_Notebooks/scRNA/Figure_Notebooks/Intermediate_files/venn_test1.png', width=800, height=600)  # Adjust width and height as needed\n",
    "# plot(p1, quantities = list(type = c(\"counts\"), font=2, round=2, cex=1),\n",
    "#      font = 1:6,\n",
    "#      labels = list(cex=1.5, fontsize =12),\n",
    "#      fill = c(\"skyblue\", \"orange\"))\n",
    "# dev.off()  # Close the PNG device\n"
   ]
  },
  {
   "cell_type": "code",
   "execution_count": null,
   "id": "8b793641-7c05-499e-a2b5-274ce9b26eb2",
   "metadata": {},
   "outputs": [],
   "source": []
  }
 ],
 "metadata": {
  "kernelspec": {
   "display_name": "R 4",
   "language": "R",
   "name": "ir4"
  },
  "language_info": {
   "codemirror_mode": "r",
   "file_extension": ".r",
   "mimetype": "text/x-r-source",
   "name": "R",
   "pygments_lexer": "r",
   "version": "4.3.1"
  }
 },
 "nbformat": 4,
 "nbformat_minor": 5
}
