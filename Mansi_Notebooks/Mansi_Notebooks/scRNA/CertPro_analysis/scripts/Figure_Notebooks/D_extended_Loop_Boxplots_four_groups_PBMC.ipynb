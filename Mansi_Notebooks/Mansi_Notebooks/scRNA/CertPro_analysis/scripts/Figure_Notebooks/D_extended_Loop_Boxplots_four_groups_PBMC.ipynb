{
 "cells": [
  {
   "cell_type": "code",
   "execution_count": 2,
   "id": "606e7c5d-7931-49dc-87cc-5b9f1056abe6",
   "metadata": {
    "tags": []
   },
   "outputs": [
    {
     "ename": "ERROR",
     "evalue": "Error in library(compositions): there is no package called ‘compositions’\n",
     "output_type": "error",
     "traceback": [
      "Error in library(compositions): there is no package called ‘compositions’\nTraceback:\n",
      "1. library(compositions)"
     ]
    }
   ],
   "source": [
    "suppressPackageStartupMessages(library(readxl))\n",
    "suppressPackageStartupMessages(library(dplyr))\n",
    "suppressPackageStartupMessages(library(tidyr))\n",
    "suppressPackageStartupMessages(library(tibble))\n",
    "suppressPackageStartupMessages(library(patchwork))\n",
    "suppressPackageStartupMessages(library(pheatmap))\n",
    "suppressPackageStartupMessages(library(stringr))\n",
    "library(hise)\n",
    "library(plyr)\n",
    "library(purrr)\n",
    "library(vegan)\n",
    "#library(arrow)\n",
    "library(rstatix)\n",
    "library(parallel)\n",
    "library(ggpubr)\n",
    "library(ComplexHeatmap)\n",
    "library(compositions)\n",
    "library(ggsci)\n",
    "library(ggpubr)"
   ]
  },
  {
   "cell_type": "markdown",
   "id": "44f92ee9-5f46-4a1a-9ffa-9c999858450d",
   "metadata": {},
   "source": [
    "## Helper functions"
   ]
  },
  {
   "cell_type": "code",
   "execution_count": 3,
   "id": "37e72c3f-1f12-4970-beab-c6b46e4bda97",
   "metadata": {
    "tags": []
   },
   "outputs": [],
   "source": [
    "cache_uuid_path <- function(uuid) {\n",
    "    if(!dir.exists(paste0(\"cache/\", uuid))) {\n",
    "        hise_res <- cacheFiles(list(uuid))\n",
    "    }\n",
    "    \n",
    "    cache_path <- paste0(\"cache/\",uuid)\n",
    "    cache_file <- list.files(cache_path, full.names = TRUE)\n",
    "    \n",
    "    cache_file\n",
    "}"
   ]
  },
  {
   "cell_type": "code",
   "execution_count": 4,
   "id": "e84957c6-c964-48dc-a599-747e9064adb0",
   "metadata": {
    "tags": []
   },
   "outputs": [],
   "source": [
    "stored_file_df <- function(store_name) {\n",
    "    ps_files <- listFilesInProjectStores(list(store_name))\n",
    "    ps_files <- map(\n",
    "        ps_files$files, \n",
    "        function(l) {\n",
    "            l <- l[c(\"id\", \"name\")]\n",
    "            as.data.frame(l)\n",
    "        }) %>%\n",
    "      list_rbind()\n",
    "    \n",
    "    ps_files\n",
    "}"
   ]
  },
  {
   "cell_type": "markdown",
   "id": "168361b1-54eb-4756-9e0e-1995780ec3f6",
   "metadata": {},
   "source": [
    "## Identify files for use in HISE"
   ]
  },
  {
   "cell_type": "code",
   "execution_count": 5,
   "id": "b003076a-cd1a-4753-b955-35a9a1a97ddd",
   "metadata": {
    "tags": []
   },
   "outputs": [],
   "source": [
    "search_id <- \"fumur-jufir-vuzag\""
   ]
  },
  {
   "cell_type": "markdown",
   "id": "f63346e5-61ba-471d-aada-598c8c4cf760",
   "metadata": {},
   "source": [
    "Retrieve the list of files stored in our HISE project store"
   ]
  },
  {
   "cell_type": "code",
   "execution_count": 6,
   "id": "dde2a27b-3f9d-4be4-a623-381f6e026d64",
   "metadata": {
    "tags": []
   },
   "outputs": [],
   "source": [
    "ps_files <- stored_file_df(\"cohorts\")"
   ]
  },
  {
   "cell_type": "markdown",
   "id": "2a42a815-ab8c-492e-8323-6a4c2de7476d",
   "metadata": {},
   "source": [
    "Filter for files from the previous notebook using our search_id and the .tar extension"
   ]
  },
  {
   "cell_type": "code",
   "execution_count": 7,
   "id": "7d7be616-7501-4d3a-b7fa-c402f1eb9bd3",
   "metadata": {
    "tags": []
   },
   "outputs": [],
   "source": [
    "freq_files <- ps_files %>%\n",
    "  filter(grepl(search_id, name))"
   ]
  },
  {
   "cell_type": "code",
   "execution_count": 8,
   "id": "235ac973-3678-4a6e-87a8-9b9e16b6b745",
   "metadata": {
    "tags": []
   },
   "outputs": [
    {
     "data": {
      "text/html": [
       "<table class=\"dataframe\">\n",
       "<caption>A data.frame: 3 × 2</caption>\n",
       "<thead>\n",
       "\t<tr><th scope=col>id</th><th scope=col>name</th></tr>\n",
       "\t<tr><th scope=col>&lt;chr&gt;</th><th scope=col>&lt;chr&gt;</th></tr>\n",
       "</thead>\n",
       "<tbody>\n",
       "\t<tr><td>b04e3ccd-e437-41ae-97fe-63a0c0a24995</td><td>fumur-jufir-vuzag/diha_AIFI_L1_frequencies_2024-05-05.csv</td></tr>\n",
       "\t<tr><td>6c82ee51-1898-4699-b382-59e619a05b82</td><td>fumur-jufir-vuzag/diha_AIFI_L2_frequencies_2024-05-05.csv</td></tr>\n",
       "\t<tr><td>577902fe-094d-499e-86a1-e5fe67131fb1</td><td>fumur-jufir-vuzag/diha_AIFI_L3_frequencies_2024-05-05.csv</td></tr>\n",
       "</tbody>\n",
       "</table>\n"
      ],
      "text/latex": [
       "A data.frame: 3 × 2\n",
       "\\begin{tabular}{ll}\n",
       " id & name\\\\\n",
       " <chr> & <chr>\\\\\n",
       "\\hline\n",
       "\t b04e3ccd-e437-41ae-97fe-63a0c0a24995 & fumur-jufir-vuzag/diha\\_AIFI\\_L1\\_frequencies\\_2024-05-05.csv\\\\\n",
       "\t 6c82ee51-1898-4699-b382-59e619a05b82 & fumur-jufir-vuzag/diha\\_AIFI\\_L2\\_frequencies\\_2024-05-05.csv\\\\\n",
       "\t 577902fe-094d-499e-86a1-e5fe67131fb1 & fumur-jufir-vuzag/diha\\_AIFI\\_L3\\_frequencies\\_2024-05-05.csv\\\\\n",
       "\\end{tabular}\n"
      ],
      "text/markdown": [
       "\n",
       "A data.frame: 3 × 2\n",
       "\n",
       "| id &lt;chr&gt; | name &lt;chr&gt; |\n",
       "|---|---|\n",
       "| b04e3ccd-e437-41ae-97fe-63a0c0a24995 | fumur-jufir-vuzag/diha_AIFI_L1_frequencies_2024-05-05.csv |\n",
       "| 6c82ee51-1898-4699-b382-59e619a05b82 | fumur-jufir-vuzag/diha_AIFI_L2_frequencies_2024-05-05.csv |\n",
       "| 577902fe-094d-499e-86a1-e5fe67131fb1 | fumur-jufir-vuzag/diha_AIFI_L3_frequencies_2024-05-05.csv |\n",
       "\n"
      ],
      "text/plain": [
       "  id                                  \n",
       "1 b04e3ccd-e437-41ae-97fe-63a0c0a24995\n",
       "2 6c82ee51-1898-4699-b382-59e619a05b82\n",
       "3 577902fe-094d-499e-86a1-e5fe67131fb1\n",
       "  name                                                     \n",
       "1 fumur-jufir-vuzag/diha_AIFI_L1_frequencies_2024-05-05.csv\n",
       "2 fumur-jufir-vuzag/diha_AIFI_L2_frequencies_2024-05-05.csv\n",
       "3 fumur-jufir-vuzag/diha_AIFI_L3_frequencies_2024-05-05.csv"
      ]
     },
     "metadata": {},
     "output_type": "display_data"
    }
   ],
   "source": [
    "freq_files"
   ]
  },
  {
   "cell_type": "markdown",
   "id": "76ad560f-919c-4af8-ac98-6580d6db4511",
   "metadata": {},
   "source": [
    "## Download files from HISE"
   ]
  },
  {
   "cell_type": "code",
   "execution_count": 9,
   "id": "cee9e975-7484-4180-a2b4-3efd974ea71b",
   "metadata": {
    "tags": []
   },
   "outputs": [
    {
     "data": {
      "text/html": [
       "<ol>\n",
       "\t<li>'cache/b04e3ccd-e437-41ae-97fe-63a0c0a24995/diha_AIFI_L1_frequencies_2024-05-05.csv'</li>\n",
       "\t<li>'cache/6c82ee51-1898-4699-b382-59e619a05b82/diha_AIFI_L2_frequencies_2024-05-05.csv'</li>\n",
       "\t<li>'cache/577902fe-094d-499e-86a1-e5fe67131fb1/diha_AIFI_L3_frequencies_2024-05-05.csv'</li>\n",
       "</ol>\n"
      ],
      "text/latex": [
       "\\begin{enumerate}\n",
       "\\item 'cache/b04e3ccd-e437-41ae-97fe-63a0c0a24995/diha\\_AIFI\\_L1\\_frequencies\\_2024-05-05.csv'\n",
       "\\item 'cache/6c82ee51-1898-4699-b382-59e619a05b82/diha\\_AIFI\\_L2\\_frequencies\\_2024-05-05.csv'\n",
       "\\item 'cache/577902fe-094d-499e-86a1-e5fe67131fb1/diha\\_AIFI\\_L3\\_frequencies\\_2024-05-05.csv'\n",
       "\\end{enumerate}\n"
      ],
      "text/markdown": [
       "1. 'cache/b04e3ccd-e437-41ae-97fe-63a0c0a24995/diha_AIFI_L1_frequencies_2024-05-05.csv'\n",
       "2. 'cache/6c82ee51-1898-4699-b382-59e619a05b82/diha_AIFI_L2_frequencies_2024-05-05.csv'\n",
       "3. 'cache/577902fe-094d-499e-86a1-e5fe67131fb1/diha_AIFI_L3_frequencies_2024-05-05.csv'\n",
       "\n",
       "\n"
      ],
      "text/plain": [
       "[[1]]\n",
       "[1] \"cache/b04e3ccd-e437-41ae-97fe-63a0c0a24995/diha_AIFI_L1_frequencies_2024-05-05.csv\"\n",
       "\n",
       "[[2]]\n",
       "[1] \"cache/6c82ee51-1898-4699-b382-59e619a05b82/diha_AIFI_L2_frequencies_2024-05-05.csv\"\n",
       "\n",
       "[[3]]\n",
       "[1] \"cache/577902fe-094d-499e-86a1-e5fe67131fb1/diha_AIFI_L3_frequencies_2024-05-05.csv\"\n"
      ]
     },
     "metadata": {},
     "output_type": "display_data"
    }
   ],
   "source": [
    "file_paths <- map(freq_files$id, cache_uuid_path)\n",
    "file_paths"
   ]
  },
  {
   "cell_type": "code",
   "execution_count": null,
   "id": "7dd37fd3-da5b-477b-bf8d-95858882821b",
   "metadata": {},
   "outputs": [],
   "source": []
  },
  {
   "cell_type": "markdown",
   "id": "1f48c3b6-c9df-48ee-8c4b-0d7c7147e5fd",
   "metadata": {},
   "source": [
    "# Load data"
   ]
  },
  {
   "cell_type": "code",
   "execution_count": 10,
   "id": "868d1ca9-989d-4e9e-a6d4-1f250b1f2376",
   "metadata": {
    "tags": []
   },
   "outputs": [],
   "source": [
    "freq_data <- map(file_paths, read.csv)\n",
    "names(freq_data) <- sub(\".+diha_(.+)_freq.+\", \"\\\\1\", file_paths)"
   ]
  },
  {
   "cell_type": "markdown",
   "id": "952025e2-3fd5-4ee0-80fe-5121763f62e9",
   "metadata": {},
   "source": [
    "Now we have a list of frequency data at each level:"
   ]
  },
  {
   "cell_type": "code",
   "execution_count": 11,
   "id": "917eceb5-278a-4c1b-9621-6e4ae2c9d774",
   "metadata": {
    "tags": []
   },
   "outputs": [],
   "source": [
    "# l1 <- freq_data[[\"AIFI_L1\"]]\n",
    "# head(l1)\n",
    "# nrow(l1)"
   ]
  },
  {
   "cell_type": "code",
   "execution_count": 12,
   "id": "2e22247e-43ee-4ea5-a6a6-b1c599ef774c",
   "metadata": {
    "tags": []
   },
   "outputs": [],
   "source": [
    "# l2 <- freq_data[[\"AIFI_L2\"]]\n",
    "# head(l2)\n",
    "# nrow(l2)"
   ]
  },
  {
   "cell_type": "code",
   "execution_count": 13,
   "id": "6c4b8597-c2bc-467f-8003-6b3add856380",
   "metadata": {
    "tags": []
   },
   "outputs": [
    {
     "data": {
      "text/html": [
       "<table class=\"dataframe\">\n",
       "<caption>A data.frame: 6 × 25</caption>\n",
       "<thead>\n",
       "\t<tr><th></th><th scope=col>cohort.cohortGuid</th><th scope=col>subject.subjectGuid</th><th scope=col>subject.biologicalSex</th><th scope=col>subject.cmv</th><th scope=col>subject.bmi</th><th scope=col>subject.race</th><th scope=col>subject.ethnicity</th><th scope=col>subject.birthYear</th><th scope=col>subject.ageAtFirstDraw</th><th scope=col>sample.sampleKitGuid</th><th scope=col>⋯</th><th scope=col>AIFI_L2</th><th scope=col>AIFI_L3</th><th scope=col>AIFI_L3_count</th><th scope=col>total_cells</th><th scope=col>scrna.lymphocyte_count</th><th scope=col>bc.lymphocyte_count</th><th scope=col>alc_ratio</th><th scope=col>AIFI_L3_frac_total</th><th scope=col>AIFI_L3_alc</th><th scope=col>AIFI_L3_clr</th></tr>\n",
       "\t<tr><th></th><th scope=col>&lt;chr&gt;</th><th scope=col>&lt;chr&gt;</th><th scope=col>&lt;chr&gt;</th><th scope=col>&lt;chr&gt;</th><th scope=col>&lt;int&gt;</th><th scope=col>&lt;chr&gt;</th><th scope=col>&lt;chr&gt;</th><th scope=col>&lt;int&gt;</th><th scope=col>&lt;int&gt;</th><th scope=col>&lt;chr&gt;</th><th scope=col>⋯</th><th scope=col>&lt;chr&gt;</th><th scope=col>&lt;chr&gt;</th><th scope=col>&lt;int&gt;</th><th scope=col>&lt;int&gt;</th><th scope=col>&lt;int&gt;</th><th scope=col>&lt;int&gt;</th><th scope=col>&lt;dbl&gt;</th><th scope=col>&lt;dbl&gt;</th><th scope=col>&lt;dbl&gt;</th><th scope=col>&lt;dbl&gt;</th></tr>\n",
       "</thead>\n",
       "<tbody>\n",
       "\t<tr><th scope=row>1</th><td>BR1</td><td>BR1001</td><td>Female</td><td>Negative</td><td>23</td><td>Caucasian</td><td>Non-Hispanic origin</td><td>1987</td><td>32</td><td>KT00001</td><td>⋯</td><td>Effector B cell</td><td>CD27+ effector B cell  </td><td> 71</td><td>18231</td><td>13903</td><td>1337</td><td>0.0961663</td><td>0.0038944655</td><td> 6.8278069</td><td> 0.3324226</td></tr>\n",
       "\t<tr><th scope=row>2</th><td>BR1</td><td>BR1001</td><td>Female</td><td>Negative</td><td>23</td><td>Caucasian</td><td>Non-Hispanic origin</td><td>1987</td><td>32</td><td>KT00001</td><td>⋯</td><td>Effector B cell</td><td>CD27- effector B cell  </td><td> 26</td><td>18231</td><td>13903</td><td>1337</td><td>0.0961663</td><td>0.0014261423</td><td> 2.5003237</td><td>-0.6721608</td></tr>\n",
       "\t<tr><th scope=row>3</th><td>BR1</td><td>BR1001</td><td>Female</td><td>Negative</td><td>23</td><td>Caucasian</td><td>Non-Hispanic origin</td><td>1987</td><td>32</td><td>KT00001</td><td>⋯</td><td>Memory B cell  </td><td>Activated memory B cell</td><td>  3</td><td>18231</td><td>13903</td><td>1337</td><td>0.0961663</td><td>0.0001645549</td><td> 0.2884989</td><td>-2.8316450</td></tr>\n",
       "\t<tr><th scope=row>4</th><td>BR1</td><td>BR1001</td><td>Female</td><td>Negative</td><td>23</td><td>Caucasian</td><td>Non-Hispanic origin</td><td>1987</td><td>32</td><td>KT00001</td><td>⋯</td><td>Memory B cell  </td><td>CD95 memory B cell     </td><td> 15</td><td>18231</td><td>13903</td><td>1337</td><td>0.0961663</td><td>0.0008227744</td><td> 1.4424944</td><td>-1.2222071</td></tr>\n",
       "\t<tr><th scope=row>5</th><td>BR1</td><td>BR1001</td><td>Female</td><td>Negative</td><td>23</td><td>Caucasian</td><td>Non-Hispanic origin</td><td>1987</td><td>32</td><td>KT00001</td><td>⋯</td><td>Memory B cell  </td><td>Core memory B cell     </td><td>329</td><td>18231</td><td>13903</td><td>1337</td><td>0.0961663</td><td>0.0180461851</td><td>31.6387111</td><td> 1.8658004</td></tr>\n",
       "\t<tr><th scope=row>6</th><td>BR1</td><td>BR1001</td><td>Female</td><td>Negative</td><td>23</td><td>Caucasian</td><td>Non-Hispanic origin</td><td>1987</td><td>32</td><td>KT00001</td><td>⋯</td><td>Memory B cell  </td><td>Early memory B cell    </td><td> 10</td><td>18231</td><td>13903</td><td>1337</td><td>0.0961663</td><td>0.0005485163</td><td> 0.9616630</td><td>-1.6276722</td></tr>\n",
       "</tbody>\n",
       "</table>\n"
      ],
      "text/latex": [
       "A data.frame: 6 × 25\n",
       "\\begin{tabular}{r|lllllllllllllllllllll}\n",
       "  & cohort.cohortGuid & subject.subjectGuid & subject.biologicalSex & subject.cmv & subject.bmi & subject.race & subject.ethnicity & subject.birthYear & subject.ageAtFirstDraw & sample.sampleKitGuid & ⋯ & AIFI\\_L2 & AIFI\\_L3 & AIFI\\_L3\\_count & total\\_cells & scrna.lymphocyte\\_count & bc.lymphocyte\\_count & alc\\_ratio & AIFI\\_L3\\_frac\\_total & AIFI\\_L3\\_alc & AIFI\\_L3\\_clr\\\\\n",
       "  & <chr> & <chr> & <chr> & <chr> & <int> & <chr> & <chr> & <int> & <int> & <chr> & ⋯ & <chr> & <chr> & <int> & <int> & <int> & <int> & <dbl> & <dbl> & <dbl> & <dbl>\\\\\n",
       "\\hline\n",
       "\t1 & BR1 & BR1001 & Female & Negative & 23 & Caucasian & Non-Hispanic origin & 1987 & 32 & KT00001 & ⋯ & Effector B cell & CD27+ effector B cell   &  71 & 18231 & 13903 & 1337 & 0.0961663 & 0.0038944655 &  6.8278069 &  0.3324226\\\\\n",
       "\t2 & BR1 & BR1001 & Female & Negative & 23 & Caucasian & Non-Hispanic origin & 1987 & 32 & KT00001 & ⋯ & Effector B cell & CD27- effector B cell   &  26 & 18231 & 13903 & 1337 & 0.0961663 & 0.0014261423 &  2.5003237 & -0.6721608\\\\\n",
       "\t3 & BR1 & BR1001 & Female & Negative & 23 & Caucasian & Non-Hispanic origin & 1987 & 32 & KT00001 & ⋯ & Memory B cell   & Activated memory B cell &   3 & 18231 & 13903 & 1337 & 0.0961663 & 0.0001645549 &  0.2884989 & -2.8316450\\\\\n",
       "\t4 & BR1 & BR1001 & Female & Negative & 23 & Caucasian & Non-Hispanic origin & 1987 & 32 & KT00001 & ⋯ & Memory B cell   & CD95 memory B cell      &  15 & 18231 & 13903 & 1337 & 0.0961663 & 0.0008227744 &  1.4424944 & -1.2222071\\\\\n",
       "\t5 & BR1 & BR1001 & Female & Negative & 23 & Caucasian & Non-Hispanic origin & 1987 & 32 & KT00001 & ⋯ & Memory B cell   & Core memory B cell      & 329 & 18231 & 13903 & 1337 & 0.0961663 & 0.0180461851 & 31.6387111 &  1.8658004\\\\\n",
       "\t6 & BR1 & BR1001 & Female & Negative & 23 & Caucasian & Non-Hispanic origin & 1987 & 32 & KT00001 & ⋯ & Memory B cell   & Early memory B cell     &  10 & 18231 & 13903 & 1337 & 0.0961663 & 0.0005485163 &  0.9616630 & -1.6276722\\\\\n",
       "\\end{tabular}\n"
      ],
      "text/markdown": [
       "\n",
       "A data.frame: 6 × 25\n",
       "\n",
       "| <!--/--> | cohort.cohortGuid &lt;chr&gt; | subject.subjectGuid &lt;chr&gt; | subject.biologicalSex &lt;chr&gt; | subject.cmv &lt;chr&gt; | subject.bmi &lt;int&gt; | subject.race &lt;chr&gt; | subject.ethnicity &lt;chr&gt; | subject.birthYear &lt;int&gt; | subject.ageAtFirstDraw &lt;int&gt; | sample.sampleKitGuid &lt;chr&gt; | ⋯ ⋯ | AIFI_L2 &lt;chr&gt; | AIFI_L3 &lt;chr&gt; | AIFI_L3_count &lt;int&gt; | total_cells &lt;int&gt; | scrna.lymphocyte_count &lt;int&gt; | bc.lymphocyte_count &lt;int&gt; | alc_ratio &lt;dbl&gt; | AIFI_L3_frac_total &lt;dbl&gt; | AIFI_L3_alc &lt;dbl&gt; | AIFI_L3_clr &lt;dbl&gt; |\n",
       "|---|---|---|---|---|---|---|---|---|---|---|---|---|---|---|---|---|---|---|---|---|---|\n",
       "| 1 | BR1 | BR1001 | Female | Negative | 23 | Caucasian | Non-Hispanic origin | 1987 | 32 | KT00001 | ⋯ | Effector B cell | CD27+ effector B cell   |  71 | 18231 | 13903 | 1337 | 0.0961663 | 0.0038944655 |  6.8278069 |  0.3324226 |\n",
       "| 2 | BR1 | BR1001 | Female | Negative | 23 | Caucasian | Non-Hispanic origin | 1987 | 32 | KT00001 | ⋯ | Effector B cell | CD27- effector B cell   |  26 | 18231 | 13903 | 1337 | 0.0961663 | 0.0014261423 |  2.5003237 | -0.6721608 |\n",
       "| 3 | BR1 | BR1001 | Female | Negative | 23 | Caucasian | Non-Hispanic origin | 1987 | 32 | KT00001 | ⋯ | Memory B cell   | Activated memory B cell |   3 | 18231 | 13903 | 1337 | 0.0961663 | 0.0001645549 |  0.2884989 | -2.8316450 |\n",
       "| 4 | BR1 | BR1001 | Female | Negative | 23 | Caucasian | Non-Hispanic origin | 1987 | 32 | KT00001 | ⋯ | Memory B cell   | CD95 memory B cell      |  15 | 18231 | 13903 | 1337 | 0.0961663 | 0.0008227744 |  1.4424944 | -1.2222071 |\n",
       "| 5 | BR1 | BR1001 | Female | Negative | 23 | Caucasian | Non-Hispanic origin | 1987 | 32 | KT00001 | ⋯ | Memory B cell   | Core memory B cell      | 329 | 18231 | 13903 | 1337 | 0.0961663 | 0.0180461851 | 31.6387111 |  1.8658004 |\n",
       "| 6 | BR1 | BR1001 | Female | Negative | 23 | Caucasian | Non-Hispanic origin | 1987 | 32 | KT00001 | ⋯ | Memory B cell   | Early memory B cell     |  10 | 18231 | 13903 | 1337 | 0.0961663 | 0.0005485163 |  0.9616630 | -1.6276722 |\n",
       "\n"
      ],
      "text/plain": [
       "  cohort.cohortGuid subject.subjectGuid subject.biologicalSex subject.cmv\n",
       "1 BR1               BR1001              Female                Negative   \n",
       "2 BR1               BR1001              Female                Negative   \n",
       "3 BR1               BR1001              Female                Negative   \n",
       "4 BR1               BR1001              Female                Negative   \n",
       "5 BR1               BR1001              Female                Negative   \n",
       "6 BR1               BR1001              Female                Negative   \n",
       "  subject.bmi subject.race subject.ethnicity   subject.birthYear\n",
       "1 23          Caucasian    Non-Hispanic origin 1987             \n",
       "2 23          Caucasian    Non-Hispanic origin 1987             \n",
       "3 23          Caucasian    Non-Hispanic origin 1987             \n",
       "4 23          Caucasian    Non-Hispanic origin 1987             \n",
       "5 23          Caucasian    Non-Hispanic origin 1987             \n",
       "6 23          Caucasian    Non-Hispanic origin 1987             \n",
       "  subject.ageAtFirstDraw sample.sampleKitGuid ⋯ AIFI_L2        \n",
       "1 32                     KT00001              ⋯ Effector B cell\n",
       "2 32                     KT00001              ⋯ Effector B cell\n",
       "3 32                     KT00001              ⋯ Memory B cell  \n",
       "4 32                     KT00001              ⋯ Memory B cell  \n",
       "5 32                     KT00001              ⋯ Memory B cell  \n",
       "6 32                     KT00001              ⋯ Memory B cell  \n",
       "  AIFI_L3                 AIFI_L3_count total_cells scrna.lymphocyte_count\n",
       "1 CD27+ effector B cell    71           18231       13903                 \n",
       "2 CD27- effector B cell    26           18231       13903                 \n",
       "3 Activated memory B cell   3           18231       13903                 \n",
       "4 CD95 memory B cell       15           18231       13903                 \n",
       "5 Core memory B cell      329           18231       13903                 \n",
       "6 Early memory B cell      10           18231       13903                 \n",
       "  bc.lymphocyte_count alc_ratio AIFI_L3_frac_total AIFI_L3_alc AIFI_L3_clr\n",
       "1 1337                0.0961663 0.0038944655        6.8278069   0.3324226 \n",
       "2 1337                0.0961663 0.0014261423        2.5003237  -0.6721608 \n",
       "3 1337                0.0961663 0.0001645549        0.2884989  -2.8316450 \n",
       "4 1337                0.0961663 0.0008227744        1.4424944  -1.2222071 \n",
       "5 1337                0.0961663 0.0180461851       31.6387111   1.8658004 \n",
       "6 1337                0.0961663 0.0005485163        0.9616630  -1.6276722 "
      ]
     },
     "metadata": {},
     "output_type": "display_data"
    },
    {
     "data": {
      "text/html": [
       "58816"
      ],
      "text/latex": [
       "58816"
      ],
      "text/markdown": [
       "58816"
      ],
      "text/plain": [
       "[1] 58816"
      ]
     },
     "metadata": {},
     "output_type": "display_data"
    },
    {
     "data": {
      "text/html": [
       "<style>\n",
       ".list-inline {list-style: none; margin:0; padding: 0}\n",
       ".list-inline>li {display: inline-block}\n",
       ".list-inline>li:not(:last-child)::after {content: \"\\00b7\"; padding: 0 .5ex}\n",
       "</style>\n",
       "<ol class=list-inline><li>58816</li><li>25</li></ol>\n"
      ],
      "text/latex": [
       "\\begin{enumerate*}\n",
       "\\item 58816\n",
       "\\item 25\n",
       "\\end{enumerate*}\n"
      ],
      "text/markdown": [
       "1. 58816\n",
       "2. 25\n",
       "\n",
       "\n"
      ],
      "text/plain": [
       "[1] 58816    25"
      ]
     },
     "metadata": {},
     "output_type": "display_data"
    }
   ],
   "source": [
    "l3 <- freq_data[[\"AIFI_L3\"]]\n",
    "head(l3)\n",
    "nrow(l3)\n",
    "dim(l3)"
   ]
  },
  {
   "cell_type": "code",
   "execution_count": 14,
   "id": "aecedac7-0b73-4e99-8753-a0190dbc5587",
   "metadata": {
    "tags": []
   },
   "outputs": [],
   "source": [
    "all_df <- l3"
   ]
  },
  {
   "cell_type": "code",
   "execution_count": 15,
   "id": "ccff6e77-d978-475b-9938-03dbc38fc4b4",
   "metadata": {
    "tags": []
   },
   "outputs": [],
   "source": [
    "rownames(all_df)<-all_df$cell_uuid"
   ]
  },
  {
   "cell_type": "code",
   "execution_count": 16,
   "id": "fbe1408c-64e5-4884-8253-64ebe821ddec",
   "metadata": {
    "tags": []
   },
   "outputs": [
    {
     "data": {
      "text/html": [
       "<table class=\"dataframe\">\n",
       "<caption>A data.frame: 6 × 25</caption>\n",
       "<thead>\n",
       "\t<tr><th></th><th scope=col>cohort.cohortGuid</th><th scope=col>subject.subjectGuid</th><th scope=col>subject.biologicalSex</th><th scope=col>subject.cmv</th><th scope=col>subject.bmi</th><th scope=col>subject.race</th><th scope=col>subject.ethnicity</th><th scope=col>subject.birthYear</th><th scope=col>subject.ageAtFirstDraw</th><th scope=col>sample.sampleKitGuid</th><th scope=col>⋯</th><th scope=col>AIFI_L2</th><th scope=col>AIFI_L3</th><th scope=col>AIFI_L3_count</th><th scope=col>total_cells</th><th scope=col>scrna.lymphocyte_count</th><th scope=col>bc.lymphocyte_count</th><th scope=col>alc_ratio</th><th scope=col>AIFI_L3_frac_total</th><th scope=col>AIFI_L3_alc</th><th scope=col>AIFI_L3_clr</th></tr>\n",
       "\t<tr><th></th><th scope=col>&lt;chr&gt;</th><th scope=col>&lt;chr&gt;</th><th scope=col>&lt;chr&gt;</th><th scope=col>&lt;chr&gt;</th><th scope=col>&lt;int&gt;</th><th scope=col>&lt;chr&gt;</th><th scope=col>&lt;chr&gt;</th><th scope=col>&lt;int&gt;</th><th scope=col>&lt;int&gt;</th><th scope=col>&lt;chr&gt;</th><th scope=col>⋯</th><th scope=col>&lt;chr&gt;</th><th scope=col>&lt;chr&gt;</th><th scope=col>&lt;int&gt;</th><th scope=col>&lt;int&gt;</th><th scope=col>&lt;int&gt;</th><th scope=col>&lt;int&gt;</th><th scope=col>&lt;dbl&gt;</th><th scope=col>&lt;dbl&gt;</th><th scope=col>&lt;dbl&gt;</th><th scope=col>&lt;dbl&gt;</th></tr>\n",
       "</thead>\n",
       "<tbody>\n",
       "\t<tr><th scope=row>1</th><td>BR1</td><td>BR1001</td><td>Female</td><td>Negative</td><td>23</td><td>Caucasian</td><td>Non-Hispanic origin</td><td>1987</td><td>32</td><td>KT00001</td><td>⋯</td><td>Effector B cell</td><td>CD27+ effector B cell  </td><td> 71</td><td>18231</td><td>13903</td><td>1337</td><td>0.0961663</td><td>0.0038944655</td><td> 6.8278069</td><td> 0.3324226</td></tr>\n",
       "\t<tr><th scope=row>2</th><td>BR1</td><td>BR1001</td><td>Female</td><td>Negative</td><td>23</td><td>Caucasian</td><td>Non-Hispanic origin</td><td>1987</td><td>32</td><td>KT00001</td><td>⋯</td><td>Effector B cell</td><td>CD27- effector B cell  </td><td> 26</td><td>18231</td><td>13903</td><td>1337</td><td>0.0961663</td><td>0.0014261423</td><td> 2.5003237</td><td>-0.6721608</td></tr>\n",
       "\t<tr><th scope=row>3</th><td>BR1</td><td>BR1001</td><td>Female</td><td>Negative</td><td>23</td><td>Caucasian</td><td>Non-Hispanic origin</td><td>1987</td><td>32</td><td>KT00001</td><td>⋯</td><td>Memory B cell  </td><td>Activated memory B cell</td><td>  3</td><td>18231</td><td>13903</td><td>1337</td><td>0.0961663</td><td>0.0001645549</td><td> 0.2884989</td><td>-2.8316450</td></tr>\n",
       "\t<tr><th scope=row>4</th><td>BR1</td><td>BR1001</td><td>Female</td><td>Negative</td><td>23</td><td>Caucasian</td><td>Non-Hispanic origin</td><td>1987</td><td>32</td><td>KT00001</td><td>⋯</td><td>Memory B cell  </td><td>CD95 memory B cell     </td><td> 15</td><td>18231</td><td>13903</td><td>1337</td><td>0.0961663</td><td>0.0008227744</td><td> 1.4424944</td><td>-1.2222071</td></tr>\n",
       "\t<tr><th scope=row>5</th><td>BR1</td><td>BR1001</td><td>Female</td><td>Negative</td><td>23</td><td>Caucasian</td><td>Non-Hispanic origin</td><td>1987</td><td>32</td><td>KT00001</td><td>⋯</td><td>Memory B cell  </td><td>Core memory B cell     </td><td>329</td><td>18231</td><td>13903</td><td>1337</td><td>0.0961663</td><td>0.0180461851</td><td>31.6387111</td><td> 1.8658004</td></tr>\n",
       "\t<tr><th scope=row>6</th><td>BR1</td><td>BR1001</td><td>Female</td><td>Negative</td><td>23</td><td>Caucasian</td><td>Non-Hispanic origin</td><td>1987</td><td>32</td><td>KT00001</td><td>⋯</td><td>Memory B cell  </td><td>Early memory B cell    </td><td> 10</td><td>18231</td><td>13903</td><td>1337</td><td>0.0961663</td><td>0.0005485163</td><td> 0.9616630</td><td>-1.6276722</td></tr>\n",
       "</tbody>\n",
       "</table>\n"
      ],
      "text/latex": [
       "A data.frame: 6 × 25\n",
       "\\begin{tabular}{r|lllllllllllllllllllll}\n",
       "  & cohort.cohortGuid & subject.subjectGuid & subject.biologicalSex & subject.cmv & subject.bmi & subject.race & subject.ethnicity & subject.birthYear & subject.ageAtFirstDraw & sample.sampleKitGuid & ⋯ & AIFI\\_L2 & AIFI\\_L3 & AIFI\\_L3\\_count & total\\_cells & scrna.lymphocyte\\_count & bc.lymphocyte\\_count & alc\\_ratio & AIFI\\_L3\\_frac\\_total & AIFI\\_L3\\_alc & AIFI\\_L3\\_clr\\\\\n",
       "  & <chr> & <chr> & <chr> & <chr> & <int> & <chr> & <chr> & <int> & <int> & <chr> & ⋯ & <chr> & <chr> & <int> & <int> & <int> & <int> & <dbl> & <dbl> & <dbl> & <dbl>\\\\\n",
       "\\hline\n",
       "\t1 & BR1 & BR1001 & Female & Negative & 23 & Caucasian & Non-Hispanic origin & 1987 & 32 & KT00001 & ⋯ & Effector B cell & CD27+ effector B cell   &  71 & 18231 & 13903 & 1337 & 0.0961663 & 0.0038944655 &  6.8278069 &  0.3324226\\\\\n",
       "\t2 & BR1 & BR1001 & Female & Negative & 23 & Caucasian & Non-Hispanic origin & 1987 & 32 & KT00001 & ⋯ & Effector B cell & CD27- effector B cell   &  26 & 18231 & 13903 & 1337 & 0.0961663 & 0.0014261423 &  2.5003237 & -0.6721608\\\\\n",
       "\t3 & BR1 & BR1001 & Female & Negative & 23 & Caucasian & Non-Hispanic origin & 1987 & 32 & KT00001 & ⋯ & Memory B cell   & Activated memory B cell &   3 & 18231 & 13903 & 1337 & 0.0961663 & 0.0001645549 &  0.2884989 & -2.8316450\\\\\n",
       "\t4 & BR1 & BR1001 & Female & Negative & 23 & Caucasian & Non-Hispanic origin & 1987 & 32 & KT00001 & ⋯ & Memory B cell   & CD95 memory B cell      &  15 & 18231 & 13903 & 1337 & 0.0961663 & 0.0008227744 &  1.4424944 & -1.2222071\\\\\n",
       "\t5 & BR1 & BR1001 & Female & Negative & 23 & Caucasian & Non-Hispanic origin & 1987 & 32 & KT00001 & ⋯ & Memory B cell   & Core memory B cell      & 329 & 18231 & 13903 & 1337 & 0.0961663 & 0.0180461851 & 31.6387111 &  1.8658004\\\\\n",
       "\t6 & BR1 & BR1001 & Female & Negative & 23 & Caucasian & Non-Hispanic origin & 1987 & 32 & KT00001 & ⋯ & Memory B cell   & Early memory B cell     &  10 & 18231 & 13903 & 1337 & 0.0961663 & 0.0005485163 &  0.9616630 & -1.6276722\\\\\n",
       "\\end{tabular}\n"
      ],
      "text/markdown": [
       "\n",
       "A data.frame: 6 × 25\n",
       "\n",
       "| <!--/--> | cohort.cohortGuid &lt;chr&gt; | subject.subjectGuid &lt;chr&gt; | subject.biologicalSex &lt;chr&gt; | subject.cmv &lt;chr&gt; | subject.bmi &lt;int&gt; | subject.race &lt;chr&gt; | subject.ethnicity &lt;chr&gt; | subject.birthYear &lt;int&gt; | subject.ageAtFirstDraw &lt;int&gt; | sample.sampleKitGuid &lt;chr&gt; | ⋯ ⋯ | AIFI_L2 &lt;chr&gt; | AIFI_L3 &lt;chr&gt; | AIFI_L3_count &lt;int&gt; | total_cells &lt;int&gt; | scrna.lymphocyte_count &lt;int&gt; | bc.lymphocyte_count &lt;int&gt; | alc_ratio &lt;dbl&gt; | AIFI_L3_frac_total &lt;dbl&gt; | AIFI_L3_alc &lt;dbl&gt; | AIFI_L3_clr &lt;dbl&gt; |\n",
       "|---|---|---|---|---|---|---|---|---|---|---|---|---|---|---|---|---|---|---|---|---|---|\n",
       "| 1 | BR1 | BR1001 | Female | Negative | 23 | Caucasian | Non-Hispanic origin | 1987 | 32 | KT00001 | ⋯ | Effector B cell | CD27+ effector B cell   |  71 | 18231 | 13903 | 1337 | 0.0961663 | 0.0038944655 |  6.8278069 |  0.3324226 |\n",
       "| 2 | BR1 | BR1001 | Female | Negative | 23 | Caucasian | Non-Hispanic origin | 1987 | 32 | KT00001 | ⋯ | Effector B cell | CD27- effector B cell   |  26 | 18231 | 13903 | 1337 | 0.0961663 | 0.0014261423 |  2.5003237 | -0.6721608 |\n",
       "| 3 | BR1 | BR1001 | Female | Negative | 23 | Caucasian | Non-Hispanic origin | 1987 | 32 | KT00001 | ⋯ | Memory B cell   | Activated memory B cell |   3 | 18231 | 13903 | 1337 | 0.0961663 | 0.0001645549 |  0.2884989 | -2.8316450 |\n",
       "| 4 | BR1 | BR1001 | Female | Negative | 23 | Caucasian | Non-Hispanic origin | 1987 | 32 | KT00001 | ⋯ | Memory B cell   | CD95 memory B cell      |  15 | 18231 | 13903 | 1337 | 0.0961663 | 0.0008227744 |  1.4424944 | -1.2222071 |\n",
       "| 5 | BR1 | BR1001 | Female | Negative | 23 | Caucasian | Non-Hispanic origin | 1987 | 32 | KT00001 | ⋯ | Memory B cell   | Core memory B cell      | 329 | 18231 | 13903 | 1337 | 0.0961663 | 0.0180461851 | 31.6387111 |  1.8658004 |\n",
       "| 6 | BR1 | BR1001 | Female | Negative | 23 | Caucasian | Non-Hispanic origin | 1987 | 32 | KT00001 | ⋯ | Memory B cell   | Early memory B cell     |  10 | 18231 | 13903 | 1337 | 0.0961663 | 0.0005485163 |  0.9616630 | -1.6276722 |\n",
       "\n"
      ],
      "text/plain": [
       "  cohort.cohortGuid subject.subjectGuid subject.biologicalSex subject.cmv\n",
       "1 BR1               BR1001              Female                Negative   \n",
       "2 BR1               BR1001              Female                Negative   \n",
       "3 BR1               BR1001              Female                Negative   \n",
       "4 BR1               BR1001              Female                Negative   \n",
       "5 BR1               BR1001              Female                Negative   \n",
       "6 BR1               BR1001              Female                Negative   \n",
       "  subject.bmi subject.race subject.ethnicity   subject.birthYear\n",
       "1 23          Caucasian    Non-Hispanic origin 1987             \n",
       "2 23          Caucasian    Non-Hispanic origin 1987             \n",
       "3 23          Caucasian    Non-Hispanic origin 1987             \n",
       "4 23          Caucasian    Non-Hispanic origin 1987             \n",
       "5 23          Caucasian    Non-Hispanic origin 1987             \n",
       "6 23          Caucasian    Non-Hispanic origin 1987             \n",
       "  subject.ageAtFirstDraw sample.sampleKitGuid ⋯ AIFI_L2        \n",
       "1 32                     KT00001              ⋯ Effector B cell\n",
       "2 32                     KT00001              ⋯ Effector B cell\n",
       "3 32                     KT00001              ⋯ Memory B cell  \n",
       "4 32                     KT00001              ⋯ Memory B cell  \n",
       "5 32                     KT00001              ⋯ Memory B cell  \n",
       "6 32                     KT00001              ⋯ Memory B cell  \n",
       "  AIFI_L3                 AIFI_L3_count total_cells scrna.lymphocyte_count\n",
       "1 CD27+ effector B cell    71           18231       13903                 \n",
       "2 CD27- effector B cell    26           18231       13903                 \n",
       "3 Activated memory B cell   3           18231       13903                 \n",
       "4 CD95 memory B cell       15           18231       13903                 \n",
       "5 Core memory B cell      329           18231       13903                 \n",
       "6 Early memory B cell      10           18231       13903                 \n",
       "  bc.lymphocyte_count alc_ratio AIFI_L3_frac_total AIFI_L3_alc AIFI_L3_clr\n",
       "1 1337                0.0961663 0.0038944655        6.8278069   0.3324226 \n",
       "2 1337                0.0961663 0.0014261423        2.5003237  -0.6721608 \n",
       "3 1337                0.0961663 0.0001645549        0.2884989  -2.8316450 \n",
       "4 1337                0.0961663 0.0008227744        1.4424944  -1.2222071 \n",
       "5 1337                0.0961663 0.0180461851       31.6387111   1.8658004 \n",
       "6 1337                0.0961663 0.0005485163        0.9616630  -1.6276722 "
      ]
     },
     "metadata": {},
     "output_type": "display_data"
    },
    {
     "data": {
      "text/html": [
       "<style>\n",
       ".list-inline {list-style: none; margin:0; padding: 0}\n",
       ".list-inline>li {display: inline-block}\n",
       ".list-inline>li:not(:last-child)::after {content: \"\\00b7\"; padding: 0 .5ex}\n",
       "</style>\n",
       "<ol class=list-inline><li>'cohort.cohortGuid'</li><li>'subject.subjectGuid'</li><li>'subject.biologicalSex'</li><li>'subject.cmv'</li><li>'subject.bmi'</li><li>'subject.race'</li><li>'subject.ethnicity'</li><li>'subject.birthYear'</li><li>'subject.ageAtFirstDraw'</li><li>'sample.sampleKitGuid'</li><li>'sample.visitName'</li><li>'sample.drawDate'</li><li>'sample.subjectAgeAtDraw'</li><li>'specimen.specimenGuid'</li><li>'AIFI_L1'</li><li>'AIFI_L2'</li><li>'AIFI_L3'</li><li>'AIFI_L3_count'</li><li>'total_cells'</li><li>'scrna.lymphocyte_count'</li><li>'bc.lymphocyte_count'</li><li>'alc_ratio'</li><li>'AIFI_L3_frac_total'</li><li>'AIFI_L3_alc'</li><li>'AIFI_L3_clr'</li></ol>\n"
      ],
      "text/latex": [
       "\\begin{enumerate*}\n",
       "\\item 'cohort.cohortGuid'\n",
       "\\item 'subject.subjectGuid'\n",
       "\\item 'subject.biologicalSex'\n",
       "\\item 'subject.cmv'\n",
       "\\item 'subject.bmi'\n",
       "\\item 'subject.race'\n",
       "\\item 'subject.ethnicity'\n",
       "\\item 'subject.birthYear'\n",
       "\\item 'subject.ageAtFirstDraw'\n",
       "\\item 'sample.sampleKitGuid'\n",
       "\\item 'sample.visitName'\n",
       "\\item 'sample.drawDate'\n",
       "\\item 'sample.subjectAgeAtDraw'\n",
       "\\item 'specimen.specimenGuid'\n",
       "\\item 'AIFI\\_L1'\n",
       "\\item 'AIFI\\_L2'\n",
       "\\item 'AIFI\\_L3'\n",
       "\\item 'AIFI\\_L3\\_count'\n",
       "\\item 'total\\_cells'\n",
       "\\item 'scrna.lymphocyte\\_count'\n",
       "\\item 'bc.lymphocyte\\_count'\n",
       "\\item 'alc\\_ratio'\n",
       "\\item 'AIFI\\_L3\\_frac\\_total'\n",
       "\\item 'AIFI\\_L3\\_alc'\n",
       "\\item 'AIFI\\_L3\\_clr'\n",
       "\\end{enumerate*}\n"
      ],
      "text/markdown": [
       "1. 'cohort.cohortGuid'\n",
       "2. 'subject.subjectGuid'\n",
       "3. 'subject.biologicalSex'\n",
       "4. 'subject.cmv'\n",
       "5. 'subject.bmi'\n",
       "6. 'subject.race'\n",
       "7. 'subject.ethnicity'\n",
       "8. 'subject.birthYear'\n",
       "9. 'subject.ageAtFirstDraw'\n",
       "10. 'sample.sampleKitGuid'\n",
       "11. 'sample.visitName'\n",
       "12. 'sample.drawDate'\n",
       "13. 'sample.subjectAgeAtDraw'\n",
       "14. 'specimen.specimenGuid'\n",
       "15. 'AIFI_L1'\n",
       "16. 'AIFI_L2'\n",
       "17. 'AIFI_L3'\n",
       "18. 'AIFI_L3_count'\n",
       "19. 'total_cells'\n",
       "20. 'scrna.lymphocyte_count'\n",
       "21. 'bc.lymphocyte_count'\n",
       "22. 'alc_ratio'\n",
       "23. 'AIFI_L3_frac_total'\n",
       "24. 'AIFI_L3_alc'\n",
       "25. 'AIFI_L3_clr'\n",
       "\n",
       "\n"
      ],
      "text/plain": [
       " [1] \"cohort.cohortGuid\"       \"subject.subjectGuid\"    \n",
       " [3] \"subject.biologicalSex\"   \"subject.cmv\"            \n",
       " [5] \"subject.bmi\"             \"subject.race\"           \n",
       " [7] \"subject.ethnicity\"       \"subject.birthYear\"      \n",
       " [9] \"subject.ageAtFirstDraw\"  \"sample.sampleKitGuid\"   \n",
       "[11] \"sample.visitName\"        \"sample.drawDate\"        \n",
       "[13] \"sample.subjectAgeAtDraw\" \"specimen.specimenGuid\"  \n",
       "[15] \"AIFI_L1\"                 \"AIFI_L2\"                \n",
       "[17] \"AIFI_L3\"                 \"AIFI_L3_count\"          \n",
       "[19] \"total_cells\"             \"scrna.lymphocyte_count\" \n",
       "[21] \"bc.lymphocyte_count\"     \"alc_ratio\"              \n",
       "[23] \"AIFI_L3_frac_total\"      \"AIFI_L3_alc\"            \n",
       "[25] \"AIFI_L3_clr\"            "
      ]
     },
     "metadata": {},
     "output_type": "display_data"
    }
   ],
   "source": [
    "head(all_df)\n",
    "colnames(all_df)"
   ]
  },
  {
   "cell_type": "code",
   "execution_count": 17,
   "id": "282dde53-f867-4666-8293-3fdbd859d066",
   "metadata": {
    "tags": []
   },
   "outputs": [
    {
     "data": {
      "text/html": [
       "<style>\n",
       ".list-inline {list-style: none; margin:0; padding: 0}\n",
       ".list-inline>li {display: inline-block}\n",
       ".list-inline>li:not(:last-child)::after {content: \"\\00b7\"; padding: 0 .5ex}\n",
       "</style>\n",
       "<ol class=list-inline><li>Female_BR1</li><li>Male_BR1</li><li>Male_BR2</li><li>Female_BR2</li></ol>\n",
       "\n",
       "<details>\n",
       "\t<summary style=display:list-item;cursor:pointer>\n",
       "\t\t<strong>Levels</strong>:\n",
       "\t</summary>\n",
       "\t<style>\n",
       "\t.list-inline {list-style: none; margin:0; padding: 0}\n",
       "\t.list-inline>li {display: inline-block}\n",
       "\t.list-inline>li:not(:last-child)::after {content: \"\\00b7\"; padding: 0 .5ex}\n",
       "\t</style>\n",
       "\t<ol class=list-inline><li>'Female_BR1'</li><li>'Female_BR2'</li><li>'Male_BR1'</li><li>'Male_BR2'</li></ol>\n",
       "</details>"
      ],
      "text/latex": [
       "\\begin{enumerate*}\n",
       "\\item Female\\_BR1\n",
       "\\item Male\\_BR1\n",
       "\\item Male\\_BR2\n",
       "\\item Female\\_BR2\n",
       "\\end{enumerate*}\n",
       "\n",
       "\\emph{Levels}: \\begin{enumerate*}\n",
       "\\item 'Female\\_BR1'\n",
       "\\item 'Female\\_BR2'\n",
       "\\item 'Male\\_BR1'\n",
       "\\item 'Male\\_BR2'\n",
       "\\end{enumerate*}\n"
      ],
      "text/markdown": [
       "1. Female_BR1\n",
       "2. Male_BR1\n",
       "3. Male_BR2\n",
       "4. Female_BR2\n",
       "\n",
       "\n",
       "\n",
       "**Levels**: 1. 'Female_BR1'\n",
       "2. 'Female_BR2'\n",
       "3. 'Male_BR1'\n",
       "4. 'Male_BR2'\n",
       "\n",
       "\n"
      ],
      "text/plain": [
       "[1] Female_BR1 Male_BR1   Male_BR2   Female_BR2\n",
       "Levels: Female_BR1 Female_BR2 Male_BR1 Male_BR2"
      ]
     },
     "metadata": {},
     "output_type": "display_data"
    }
   ],
   "source": [
    "all_df$facet_combined <- paste( all_df$subject.biologicalSex,all_df$cohort.cohortGuid, sep = \"_\")\n",
    "all_df$facet_combined<- factor(all_df$facet_combined)\n",
    "unique(all_df$facet_combined)"
   ]
  },
  {
   "cell_type": "code",
   "execution_count": 18,
   "id": "3e58ab60-f9c5-476c-82c7-d673077d4c2b",
   "metadata": {
    "tags": []
   },
   "outputs": [],
   "source": [
    "all_df <- all_df %>% filter(sample.visitName == \"Flu Year 1 Day 0\")"
   ]
  },
  {
   "cell_type": "code",
   "execution_count": null,
   "id": "a01199eb-041b-4142-8e4e-b18502da9d88",
   "metadata": {},
   "outputs": [],
   "source": []
  },
  {
   "cell_type": "markdown",
   "id": "8e2c11bc-66a9-4f5d-b088-bf68ff485119",
   "metadata": {},
   "source": [
    "# Final Loop code"
   ]
  },
  {
   "cell_type": "markdown",
   "id": "835ab3ae-d9ce-4926-977d-8ff2f076bef8",
   "metadata": {
    "tags": []
   },
   "source": [
    "## AGE and SEX grouping"
   ]
  },
  {
   "cell_type": "code",
   "execution_count": 19,
   "id": "cf42cb56-61b0-4d93-8f58-cf1e664e8b7b",
   "metadata": {
    "tags": []
   },
   "outputs": [],
   "source": [
    "# BR1_Female, BR1_Male, BR2_Female, BR2_Male\n",
    "#my_comparisons <- list(c(\"BR1_Female\", \"BR2_Female\"), c(\"BR1_Female\", \"BR1_Male\"), c(\"BR1_Male\", \"BR2_Male\"), c(\"BR2_Female\", \"BR2_Male\") )\n",
    "my_comparisons <- list(c(\"Female_BR1\", \"Female_BR2\"), c(\"Male_BR1\", \"Male_BR2\"), c(\"Female_BR1\", \"Male_BR1\"), c(\"Female_BR2\", \"Male_BR2\"))"
   ]
  },
  {
   "cell_type": "code",
   "execution_count": 20,
   "id": "9f799672-ca3d-4719-a2cd-403301d4e555",
   "metadata": {
    "tags": []
   },
   "outputs": [
    {
     "data": {
      "text/html": [
       "<table class=\"dataframe\">\n",
       "<caption>A data.frame: 6 × 26</caption>\n",
       "<thead>\n",
       "\t<tr><th></th><th scope=col>cohort.cohortGuid</th><th scope=col>subject.subjectGuid</th><th scope=col>subject.biologicalSex</th><th scope=col>subject.cmv</th><th scope=col>subject.bmi</th><th scope=col>subject.race</th><th scope=col>subject.ethnicity</th><th scope=col>subject.birthYear</th><th scope=col>subject.ageAtFirstDraw</th><th scope=col>sample.sampleKitGuid</th><th scope=col>⋯</th><th scope=col>AIFI_L3</th><th scope=col>AIFI_L3_count</th><th scope=col>total_cells</th><th scope=col>scrna.lymphocyte_count</th><th scope=col>bc.lymphocyte_count</th><th scope=col>alc_ratio</th><th scope=col>AIFI_L3_frac_total</th><th scope=col>AIFI_L3_alc</th><th scope=col>AIFI_L3_clr</th><th scope=col>facet_combined</th></tr>\n",
       "\t<tr><th></th><th scope=col>&lt;chr&gt;</th><th scope=col>&lt;chr&gt;</th><th scope=col>&lt;chr&gt;</th><th scope=col>&lt;chr&gt;</th><th scope=col>&lt;int&gt;</th><th scope=col>&lt;chr&gt;</th><th scope=col>&lt;chr&gt;</th><th scope=col>&lt;int&gt;</th><th scope=col>&lt;int&gt;</th><th scope=col>&lt;chr&gt;</th><th scope=col>⋯</th><th scope=col>&lt;chr&gt;</th><th scope=col>&lt;int&gt;</th><th scope=col>&lt;int&gt;</th><th scope=col>&lt;int&gt;</th><th scope=col>&lt;int&gt;</th><th scope=col>&lt;dbl&gt;</th><th scope=col>&lt;dbl&gt;</th><th scope=col>&lt;dbl&gt;</th><th scope=col>&lt;dbl&gt;</th><th scope=col>&lt;fct&gt;</th></tr>\n",
       "</thead>\n",
       "<tbody>\n",
       "\t<tr><th scope=row>1</th><td>BR1</td><td>BR1001</td><td>Female</td><td>Negative</td><td>23</td><td>Caucasian</td><td>Non-Hispanic origin</td><td>1987</td><td>32</td><td>KT00001</td><td>⋯</td><td>CD27+ effector B cell  </td><td> 71</td><td>18231</td><td>13903</td><td>1337</td><td>0.0961663</td><td>0.0038944655</td><td> 6.8278069</td><td> 0.3324226</td><td>Female_BR1</td></tr>\n",
       "\t<tr><th scope=row>2</th><td>BR1</td><td>BR1001</td><td>Female</td><td>Negative</td><td>23</td><td>Caucasian</td><td>Non-Hispanic origin</td><td>1987</td><td>32</td><td>KT00001</td><td>⋯</td><td>CD27- effector B cell  </td><td> 26</td><td>18231</td><td>13903</td><td>1337</td><td>0.0961663</td><td>0.0014261423</td><td> 2.5003237</td><td>-0.6721608</td><td>Female_BR1</td></tr>\n",
       "\t<tr><th scope=row>3</th><td>BR1</td><td>BR1001</td><td>Female</td><td>Negative</td><td>23</td><td>Caucasian</td><td>Non-Hispanic origin</td><td>1987</td><td>32</td><td>KT00001</td><td>⋯</td><td>Activated memory B cell</td><td>  3</td><td>18231</td><td>13903</td><td>1337</td><td>0.0961663</td><td>0.0001645549</td><td> 0.2884989</td><td>-2.8316450</td><td>Female_BR1</td></tr>\n",
       "\t<tr><th scope=row>4</th><td>BR1</td><td>BR1001</td><td>Female</td><td>Negative</td><td>23</td><td>Caucasian</td><td>Non-Hispanic origin</td><td>1987</td><td>32</td><td>KT00001</td><td>⋯</td><td>CD95 memory B cell     </td><td> 15</td><td>18231</td><td>13903</td><td>1337</td><td>0.0961663</td><td>0.0008227744</td><td> 1.4424944</td><td>-1.2222071</td><td>Female_BR1</td></tr>\n",
       "\t<tr><th scope=row>5</th><td>BR1</td><td>BR1001</td><td>Female</td><td>Negative</td><td>23</td><td>Caucasian</td><td>Non-Hispanic origin</td><td>1987</td><td>32</td><td>KT00001</td><td>⋯</td><td>Core memory B cell     </td><td>329</td><td>18231</td><td>13903</td><td>1337</td><td>0.0961663</td><td>0.0180461851</td><td>31.6387111</td><td> 1.8658004</td><td>Female_BR1</td></tr>\n",
       "\t<tr><th scope=row>6</th><td>BR1</td><td>BR1001</td><td>Female</td><td>Negative</td><td>23</td><td>Caucasian</td><td>Non-Hispanic origin</td><td>1987</td><td>32</td><td>KT00001</td><td>⋯</td><td>Early memory B cell    </td><td> 10</td><td>18231</td><td>13903</td><td>1337</td><td>0.0961663</td><td>0.0005485163</td><td> 0.9616630</td><td>-1.6276722</td><td>Female_BR1</td></tr>\n",
       "</tbody>\n",
       "</table>\n"
      ],
      "text/latex": [
       "A data.frame: 6 × 26\n",
       "\\begin{tabular}{r|lllllllllllllllllllll}\n",
       "  & cohort.cohortGuid & subject.subjectGuid & subject.biologicalSex & subject.cmv & subject.bmi & subject.race & subject.ethnicity & subject.birthYear & subject.ageAtFirstDraw & sample.sampleKitGuid & ⋯ & AIFI\\_L3 & AIFI\\_L3\\_count & total\\_cells & scrna.lymphocyte\\_count & bc.lymphocyte\\_count & alc\\_ratio & AIFI\\_L3\\_frac\\_total & AIFI\\_L3\\_alc & AIFI\\_L3\\_clr & facet\\_combined\\\\\n",
       "  & <chr> & <chr> & <chr> & <chr> & <int> & <chr> & <chr> & <int> & <int> & <chr> & ⋯ & <chr> & <int> & <int> & <int> & <int> & <dbl> & <dbl> & <dbl> & <dbl> & <fct>\\\\\n",
       "\\hline\n",
       "\t1 & BR1 & BR1001 & Female & Negative & 23 & Caucasian & Non-Hispanic origin & 1987 & 32 & KT00001 & ⋯ & CD27+ effector B cell   &  71 & 18231 & 13903 & 1337 & 0.0961663 & 0.0038944655 &  6.8278069 &  0.3324226 & Female\\_BR1\\\\\n",
       "\t2 & BR1 & BR1001 & Female & Negative & 23 & Caucasian & Non-Hispanic origin & 1987 & 32 & KT00001 & ⋯ & CD27- effector B cell   &  26 & 18231 & 13903 & 1337 & 0.0961663 & 0.0014261423 &  2.5003237 & -0.6721608 & Female\\_BR1\\\\\n",
       "\t3 & BR1 & BR1001 & Female & Negative & 23 & Caucasian & Non-Hispanic origin & 1987 & 32 & KT00001 & ⋯ & Activated memory B cell &   3 & 18231 & 13903 & 1337 & 0.0961663 & 0.0001645549 &  0.2884989 & -2.8316450 & Female\\_BR1\\\\\n",
       "\t4 & BR1 & BR1001 & Female & Negative & 23 & Caucasian & Non-Hispanic origin & 1987 & 32 & KT00001 & ⋯ & CD95 memory B cell      &  15 & 18231 & 13903 & 1337 & 0.0961663 & 0.0008227744 &  1.4424944 & -1.2222071 & Female\\_BR1\\\\\n",
       "\t5 & BR1 & BR1001 & Female & Negative & 23 & Caucasian & Non-Hispanic origin & 1987 & 32 & KT00001 & ⋯ & Core memory B cell      & 329 & 18231 & 13903 & 1337 & 0.0961663 & 0.0180461851 & 31.6387111 &  1.8658004 & Female\\_BR1\\\\\n",
       "\t6 & BR1 & BR1001 & Female & Negative & 23 & Caucasian & Non-Hispanic origin & 1987 & 32 & KT00001 & ⋯ & Early memory B cell     &  10 & 18231 & 13903 & 1337 & 0.0961663 & 0.0005485163 &  0.9616630 & -1.6276722 & Female\\_BR1\\\\\n",
       "\\end{tabular}\n"
      ],
      "text/markdown": [
       "\n",
       "A data.frame: 6 × 26\n",
       "\n",
       "| <!--/--> | cohort.cohortGuid &lt;chr&gt; | subject.subjectGuid &lt;chr&gt; | subject.biologicalSex &lt;chr&gt; | subject.cmv &lt;chr&gt; | subject.bmi &lt;int&gt; | subject.race &lt;chr&gt; | subject.ethnicity &lt;chr&gt; | subject.birthYear &lt;int&gt; | subject.ageAtFirstDraw &lt;int&gt; | sample.sampleKitGuid &lt;chr&gt; | ⋯ ⋯ | AIFI_L3 &lt;chr&gt; | AIFI_L3_count &lt;int&gt; | total_cells &lt;int&gt; | scrna.lymphocyte_count &lt;int&gt; | bc.lymphocyte_count &lt;int&gt; | alc_ratio &lt;dbl&gt; | AIFI_L3_frac_total &lt;dbl&gt; | AIFI_L3_alc &lt;dbl&gt; | AIFI_L3_clr &lt;dbl&gt; | facet_combined &lt;fct&gt; |\n",
       "|---|---|---|---|---|---|---|---|---|---|---|---|---|---|---|---|---|---|---|---|---|---|\n",
       "| 1 | BR1 | BR1001 | Female | Negative | 23 | Caucasian | Non-Hispanic origin | 1987 | 32 | KT00001 | ⋯ | CD27+ effector B cell   |  71 | 18231 | 13903 | 1337 | 0.0961663 | 0.0038944655 |  6.8278069 |  0.3324226 | Female_BR1 |\n",
       "| 2 | BR1 | BR1001 | Female | Negative | 23 | Caucasian | Non-Hispanic origin | 1987 | 32 | KT00001 | ⋯ | CD27- effector B cell   |  26 | 18231 | 13903 | 1337 | 0.0961663 | 0.0014261423 |  2.5003237 | -0.6721608 | Female_BR1 |\n",
       "| 3 | BR1 | BR1001 | Female | Negative | 23 | Caucasian | Non-Hispanic origin | 1987 | 32 | KT00001 | ⋯ | Activated memory B cell |   3 | 18231 | 13903 | 1337 | 0.0961663 | 0.0001645549 |  0.2884989 | -2.8316450 | Female_BR1 |\n",
       "| 4 | BR1 | BR1001 | Female | Negative | 23 | Caucasian | Non-Hispanic origin | 1987 | 32 | KT00001 | ⋯ | CD95 memory B cell      |  15 | 18231 | 13903 | 1337 | 0.0961663 | 0.0008227744 |  1.4424944 | -1.2222071 | Female_BR1 |\n",
       "| 5 | BR1 | BR1001 | Female | Negative | 23 | Caucasian | Non-Hispanic origin | 1987 | 32 | KT00001 | ⋯ | Core memory B cell      | 329 | 18231 | 13903 | 1337 | 0.0961663 | 0.0180461851 | 31.6387111 |  1.8658004 | Female_BR1 |\n",
       "| 6 | BR1 | BR1001 | Female | Negative | 23 | Caucasian | Non-Hispanic origin | 1987 | 32 | KT00001 | ⋯ | Early memory B cell     |  10 | 18231 | 13903 | 1337 | 0.0961663 | 0.0005485163 |  0.9616630 | -1.6276722 | Female_BR1 |\n",
       "\n"
      ],
      "text/plain": [
       "  cohort.cohortGuid subject.subjectGuid subject.biologicalSex subject.cmv\n",
       "1 BR1               BR1001              Female                Negative   \n",
       "2 BR1               BR1001              Female                Negative   \n",
       "3 BR1               BR1001              Female                Negative   \n",
       "4 BR1               BR1001              Female                Negative   \n",
       "5 BR1               BR1001              Female                Negative   \n",
       "6 BR1               BR1001              Female                Negative   \n",
       "  subject.bmi subject.race subject.ethnicity   subject.birthYear\n",
       "1 23          Caucasian    Non-Hispanic origin 1987             \n",
       "2 23          Caucasian    Non-Hispanic origin 1987             \n",
       "3 23          Caucasian    Non-Hispanic origin 1987             \n",
       "4 23          Caucasian    Non-Hispanic origin 1987             \n",
       "5 23          Caucasian    Non-Hispanic origin 1987             \n",
       "6 23          Caucasian    Non-Hispanic origin 1987             \n",
       "  subject.ageAtFirstDraw sample.sampleKitGuid ⋯ AIFI_L3                \n",
       "1 32                     KT00001              ⋯ CD27+ effector B cell  \n",
       "2 32                     KT00001              ⋯ CD27- effector B cell  \n",
       "3 32                     KT00001              ⋯ Activated memory B cell\n",
       "4 32                     KT00001              ⋯ CD95 memory B cell     \n",
       "5 32                     KT00001              ⋯ Core memory B cell     \n",
       "6 32                     KT00001              ⋯ Early memory B cell    \n",
       "  AIFI_L3_count total_cells scrna.lymphocyte_count bc.lymphocyte_count\n",
       "1  71           18231       13903                  1337               \n",
       "2  26           18231       13903                  1337               \n",
       "3   3           18231       13903                  1337               \n",
       "4  15           18231       13903                  1337               \n",
       "5 329           18231       13903                  1337               \n",
       "6  10           18231       13903                  1337               \n",
       "  alc_ratio AIFI_L3_frac_total AIFI_L3_alc AIFI_L3_clr facet_combined\n",
       "1 0.0961663 0.0038944655        6.8278069   0.3324226  Female_BR1    \n",
       "2 0.0961663 0.0014261423        2.5003237  -0.6721608  Female_BR1    \n",
       "3 0.0961663 0.0001645549        0.2884989  -2.8316450  Female_BR1    \n",
       "4 0.0961663 0.0008227744        1.4424944  -1.2222071  Female_BR1    \n",
       "5 0.0961663 0.0180461851       31.6387111   1.8658004  Female_BR1    \n",
       "6 0.0961663 0.0005485163        0.9616630  -1.6276722  Female_BR1    "
      ]
     },
     "metadata": {},
     "output_type": "display_data"
    }
   ],
   "source": [
    "all_df %>% head()"
   ]
  },
  {
   "cell_type": "code",
   "execution_count": 22,
   "id": "c304931f-f79d-4dec-a4f0-27ecfc9ef049",
   "metadata": {
    "tags": []
   },
   "outputs": [
    {
     "name": "stdout",
     "output_type": "stream",
     "text": [
      "[1] \"CD27+ effector B cell\"\n",
      "[1] \"CD27- effector B cell\"\n",
      "[1] \"Activated memory B cell\"\n",
      "[1] \"CD95 memory B cell\"\n",
      "[1] \"Core memory B cell\"\n",
      "[1] \"Early memory B cell\"\n",
      "[1] \"Type 2 polarized memory B cell\"\n",
      "[1] \"Core naive B cell\"\n",
      "[1] \"ISG+ naive B cell\"\n",
      "[1] \"Plasma cell\"\n",
      "[1] \"Transitional B cell\"\n",
      "[1] \"ASDC\"\n",
      "[1] \"cDC1\"\n",
      "[1] \"CD14+ cDC2\"\n",
      "[1] \"HLA-DRhi cDC2\"\n",
      "[1] \"ISG+ cDC2\"\n",
      "[1] \"pDC\"\n",
      "[1] \"Erythrocyte\"\n",
      "[1] \"ILC\"\n",
      "[1] \"Core CD14 monocyte\"\n",
      "[1] \"IL1B+ CD14 monocyte\"\n",
      "[1] \"ISG+ CD14 monocyte\"\n",
      "[1] \"C1Q+ CD16 monocyte\"\n",
      "[1] \"Core CD16 monocyte\"\n",
      "[1] \"ISG+ CD16 monocyte\"\n",
      "[1] \"Intermediate monocyte\"\n",
      "[1] \"CD56bright NK cell\"\n",
      "[1] \"Adaptive NK cell\"\n",
      "[1] \"GZMK+ CD56dim NK cell\"\n",
      "[1] \"GZMK- CD56dim NK cell\"\n",
      "[1] \"ISG+ CD56dim NK cell\"\n",
      "[1] \"Proliferating NK cell\"\n",
      "[1] \"Platelet\"\n",
      "[1] \"BaEoMaP cell\"\n",
      "[1] \"CLP cell\"\n",
      "[1] \"CMP cell\"\n",
      "[1] \"CD8aa\"\n",
      "[1] \"DN T cell\"\n",
      "[1] \"CD4 MAIT\"\n",
      "[1] \"CD8 MAIT\"\n",
      "[1] \"ISG+ MAIT\"\n",
      "[1] \"CM CD4 T cell\"\n",
      "[1] \"GZMB- CD27+ EM CD4 T cell\"\n",
      "[1] \"GZMB- CD27- EM CD4 T cell\"\n",
      "[1] \"ISG+ memory CD4 T cell\"\n",
      "[1] \"KLRF1- GZMB+ CD27- memory CD4 T cell\"\n",
      "[1] \"CM CD8 T cell\"\n",
      "[1] \"GZMK+ CD27+ EM CD8 T cell\"\n",
      "[1] \"GZMK- CD27+ EM CD8 T cell\"\n",
      "[1] \"ISG+ memory CD8 T cell\"\n",
      "[1] \"KLRF1+ GZMB+ CD27- EM CD8 T cell\"\n",
      "[1] \"KLRF1- GZMB+ CD27- EM CD8 T cell\"\n",
      "[1] \"Core naive CD4 T cell\"\n",
      "[1] \"ISG+ naive CD4 T cell\"\n",
      "[1] \"SOX4+ naive CD4 T cell\"\n",
      "[1] \"Core naive CD8 T cell\"\n",
      "[1] \"ISG+ naive CD8 T cell\"\n",
      "[1] \"SOX4+ naive CD8 T cell\"\n",
      "[1] \"Proliferating T cell\"\n",
      "[1] \"GZMK+ memory CD4 Treg\"\n",
      "[1] \"KLRB1+ memory CD4 Treg\"\n",
      "[1] \"KLRB1+ memory CD8 Treg\"\n",
      "[1] \"Memory CD4 Treg\"\n",
      "[1] \"Memory CD8 Treg\"\n",
      "[1] \"Naive CD4 Treg\"\n",
      "[1] \"GZMB+ Vd2 gdT\"\n",
      "[1] \"GZMK+ Vd2 gdT\"\n",
      "[1] \"KLRF1+ effector Vd1 gdT\"\n",
      "[1] \"KLRF1- effector Vd1 gdT\"\n",
      "[1] \"Naive Vd1 gdT\"\n",
      "[1] \"SOX4+ Vd1 gdT\"\n"
     ]
    }
   ],
   "source": [
    "##For CLR USE GGPLOt2\n",
    "\n",
    "my_comparisons <- list(c(\"Female_BR1\", \"Female_BR2\"), c(\"Male_BR1\", \"Male_BR2\"), c(\"Female_BR1\", \"Male_BR1\"), c(\"Female_BR2\", \"Male_BR2\"))\n",
    "\n",
    "for(cell in unique(all_df$AIFI_L3)){\n",
    "    \n",
    "    print(cell)\n",
    "    cell_df <- all_df %>% dplyr::filter(AIFI_L3 == cell)\n",
    "    \n",
    "    stat_test <- wilcox_test(AIFI_L3_clr ~ facet_combined, data = cell_df, comparisons = my_comparisons, paired= FALSE)%>% \n",
    "           adjust_pvalue(method = 'BH') %>% \n",
    "           add_xy_position(x = \"facet_combined\", dodge = 0.8)\n",
    "    \n",
    "    outfile <- paste(\"/home/jupyter/IH-A-Aging-Analysis-Notebooks_old/Mansi_Notebooks/scRNA/CertPro_analysis/scripts/Figure_Notebooks/Loop_plots/CLR_Comparisons_cohort_&_Sex/CLR_Comparisons_cohort_&_Sex_\", cell, \".pdf\", sep=\"\")\n",
    "    options(repr.plot.width = 18, repr.plot.height = 10)\n",
    "    p3 <- ggplot(cell_df, aes(x = facet_combined, y = AIFI_L3_clr, color = subject.biologicalSex)) +\n",
    "      geom_boxplot(width = 0.5, outlier.shape = NA) +\n",
    "      geom_jitter(width =0.1) +\n",
    "      ylab('CLR') + \n",
    "      xlab(cell) +\n",
    "      scale_color_manual(values = c(\"#9970ab\", \"#5aae61\")) +\n",
    "      theme(axis.text.x = element_text(size = 12, angle = 90 ),     # Adjust font size of x-axis text\n",
    "            axis.text.y = element_text(size = 12),     # Adjust font size of y-axis text\n",
    "            axis.title = element_text(size = 14),\n",
    "            panel.background = element_rect(fill = \"white\"),\n",
    "            axis.line = element_line(color = \"black\"),  # Set axis line color to black,  # Set major grid line color to black\n",
    "            panel.grid.minor = element_blank(),\n",
    "            legend.position = \"top\",  # Set legend position to top\n",
    "            #legend.title = element_blank()\n",
    "           ) +\n",
    "      geom_boxplot(position = position_dodge(width = 1))+\n",
    "      stat_pvalue_manual(stat_test, label = \"padj = {p.adj.signif}\", tip.length = 0) +\n",
    "      scale_y_continuous(expand = expansion(mult = c(0, 0.1)))\n",
    "      pdf(file = outfile, width = 7, height = 11)\n",
    "      print(p3)\n",
    "      dev.off()\n",
    "\n",
    "    \n",
    "    }\n",
    "\n",
    "\n",
    "\n"
   ]
  },
  {
   "cell_type": "code",
   "execution_count": 26,
   "id": "e554ac5c-2518-4465-bec9-4833aab1109e",
   "metadata": {
    "tags": []
   },
   "outputs": [
    {
     "name": "stdout",
     "output_type": "stream",
     "text": [
      "[1] \"CD27+ effector B cell\"\n",
      "[1] \"CD27- effector B cell\"\n",
      "[1] \"Activated memory B cell\"\n",
      "[1] \"CD95 memory B cell\"\n",
      "[1] \"Core memory B cell\"\n",
      "[1] \"Early memory B cell\"\n",
      "[1] \"Type 2 polarized memory B cell\"\n",
      "[1] \"Core naive B cell\"\n",
      "[1] \"ISG+ naive B cell\"\n",
      "[1] \"Plasma cell\"\n",
      "[1] \"Transitional B cell\"\n",
      "[1] \"ASDC\"\n",
      "[1] \"cDC1\"\n",
      "[1] \"CD14+ cDC2\"\n",
      "[1] \"HLA-DRhi cDC2\"\n",
      "[1] \"ISG+ cDC2\"\n",
      "[1] \"pDC\"\n",
      "[1] \"Erythrocyte\"\n",
      "[1] \"ILC\"\n",
      "[1] \"Core CD14 monocyte\"\n",
      "[1] \"IL1B+ CD14 monocyte\"\n",
      "[1] \"ISG+ CD14 monocyte\"\n",
      "[1] \"C1Q+ CD16 monocyte\"\n",
      "[1] \"Core CD16 monocyte\"\n",
      "[1] \"ISG+ CD16 monocyte\"\n",
      "[1] \"Intermediate monocyte\"\n",
      "[1] \"CD56bright NK cell\"\n",
      "[1] \"Adaptive NK cell\"\n",
      "[1] \"GZMK+ CD56dim NK cell\"\n",
      "[1] \"GZMK- CD56dim NK cell\"\n",
      "[1] \"ISG+ CD56dim NK cell\"\n",
      "[1] \"Proliferating NK cell\"\n",
      "[1] \"Platelet\"\n",
      "[1] \"BaEoMaP cell\"\n",
      "[1] \"CLP cell\"\n",
      "[1] \"CMP cell\"\n",
      "[1] \"CD8aa\"\n",
      "[1] \"DN T cell\"\n",
      "[1] \"CD4 MAIT\"\n",
      "[1] \"CD8 MAIT\"\n",
      "[1] \"ISG+ MAIT\"\n",
      "[1] \"CM CD4 T cell\"\n",
      "[1] \"GZMB- CD27+ EM CD4 T cell\"\n",
      "[1] \"GZMB- CD27- EM CD4 T cell\"\n",
      "[1] \"ISG+ memory CD4 T cell\"\n",
      "[1] \"KLRF1- GZMB+ CD27- memory CD4 T cell\"\n",
      "[1] \"CM CD8 T cell\"\n",
      "[1] \"GZMK+ CD27+ EM CD8 T cell\"\n",
      "[1] \"GZMK- CD27+ EM CD8 T cell\"\n",
      "[1] \"ISG+ memory CD8 T cell\"\n",
      "[1] \"KLRF1+ GZMB+ CD27- EM CD8 T cell\"\n",
      "[1] \"KLRF1- GZMB+ CD27- EM CD8 T cell\"\n",
      "[1] \"Core naive CD4 T cell\"\n",
      "[1] \"ISG+ naive CD4 T cell\"\n",
      "[1] \"SOX4+ naive CD4 T cell\"\n",
      "[1] \"Core naive CD8 T cell\"\n",
      "[1] \"ISG+ naive CD8 T cell\"\n",
      "[1] \"SOX4+ naive CD8 T cell\"\n",
      "[1] \"Proliferating T cell\"\n",
      "[1] \"GZMK+ memory CD4 Treg\"\n",
      "[1] \"KLRB1+ memory CD4 Treg\"\n",
      "[1] \"KLRB1+ memory CD8 Treg\"\n",
      "[1] \"Memory CD4 Treg\"\n",
      "[1] \"Memory CD8 Treg\"\n",
      "[1] \"Naive CD4 Treg\"\n",
      "[1] \"GZMB+ Vd2 gdT\"\n",
      "[1] \"GZMK+ Vd2 gdT\"\n",
      "[1] \"KLRF1+ effector Vd1 gdT\"\n",
      "[1] \"KLRF1- effector Vd1 gdT\"\n",
      "[1] \"Naive Vd1 gdT\"\n",
      "[1] \"SOX4+ Vd1 gdT\"\n"
     ]
    }
   ],
   "source": [
    "# Output stat table\n",
    "\n",
    "my_comparisons <- list(c(\"Female_BR1\", \"Female_BR2\"), c(\"Male_BR1\", \"Male_BR2\"), c(\"Female_BR1\", \"Male_BR1\"), c(\"Female_BR2\", \"Male_BR2\"))\n",
    "\n",
    "for(cell in unique(all_df$AIFI_L3)){\n",
    "    \n",
    "    print(cell)\n",
    "    cell_df <- all_df %>% dplyr::filter(AIFI_L3 == cell)\n",
    "    \n",
    "    # stat_test <- wilcox_test(AIFI_L3_clr ~ facet_combined, data = cell_df, comparisons = my_comparisons, paired= FALSE)%>% \n",
    "    #        adjust_pvalue(method = 'BH') %>% \n",
    "    #        add_xy_position(x = \"facet_combined\", dodge = 0.8)\n",
    "    \n",
    "     stat_test <- wilcox_test(AIFI_L3_clr ~ facet_combined, data = cell_df, comparisons = my_comparisons, paired= FALSE)%>% \n",
    "           adjust_pvalue(method = 'BH') \n",
    "  \n",
    "    \n",
    "    # Define the output file path for the CSV\n",
    "  outfile_csv <- paste(\"/home/jupyter/IH-A-Aging-Analysis-Notebooks_old/Mansi_Notebooks/scRNA/CertPro_analysis/scripts/Figure_Notebooks/Loop_plots/CLR_Comparisons_cohort_&_Sex_stat_tables/CLR_Comparisons_cohort_&_Sex_stat_table_\", cell, \".csv\", sep=\"\")\n",
    "  \n",
    "  # Write the data frame to a CSV file\n",
    "  write.csv(stat_test, outfile_csv, row.names = FALSE)\n",
    "    \n",
    "    }\n",
    "\n"
   ]
  },
  {
   "cell_type": "code",
   "execution_count": 25,
   "id": "f84fee57-e6ce-4404-b557-a06bef4434fe",
   "metadata": {
    "tags": []
   },
   "outputs": [
    {
     "ename": "ERROR",
     "evalue": "Error in eval(expr, envir, enclos): object 'result' not found\n",
     "output_type": "error",
     "traceback": [
      "Error in eval(expr, envir, enclos): object 'result' not found\nTraceback:\n",
      "1. unique(result$AIFI_L3)"
     ]
    }
   ],
   "source": [
    "##For percentage USE GGPLOt2\n",
    "\n",
    "my_comparisons <- list(c(\"BR1_Female\", \"BR2_Female\"), c(\"BR1_Female\", \"BR1_Male\"), c(\"BR1_Male\", \"BR2_Male\"), c(\"BR2_Female\", \"BR2_Male\") )\n",
    "\n",
    "for(cell in unique(result$AIFI_L3)){\n",
    "    \n",
    "    print(cell)\n",
    "    cell_df <- result %>% dplyr::filter(AIFI_L3 == cell)\n",
    "    \n",
    "    stat_test <- wilcox_test(percentage ~ facet_combined, data = cell_df, comparisons = my_comparisons, paired= FALSE)%>% \n",
    "           adjust_pvalue(method = 'BH') %>% \n",
    "           add_xy_position(x = \"facet_combined\", dodge = 0.8)\n",
    "        \n",
    "    outfile <- paste(\"/home/jupyter/Myeloid_cells/Plots/Percentage_Comparisons_cohort_&_Sex/Percentage_Comparisons_cohort_&_Sex_\", cell, \".pdf\", sep=\"\")\n",
    "    options(repr.plot.width = 18, repr.plot.height = 10)\n",
    "    p3 <- ggplot(cell_df, aes(x = facet_combined, y = percentage, color = subject.biologicalSex)) +\n",
    "      geom_boxplot(width = 0.5, outlier.shape = NA) +\n",
    "      geom_jitter(width =0.1) +\n",
    "      ylab('percentage') + \n",
    "      xlab(cell) +\n",
    "      scale_color_manual(values = c( \"red\",\"blue\")) +\n",
    "      theme(axis.text.x = element_text(size = 12, angle = 90 ),     # Adjust font size of x-axis text\n",
    "            axis.text.y = element_text(size = 12),     # Adjust font size of y-axis text\n",
    "            axis.title = element_text(size = 14),\n",
    "            panel.background = element_rect(fill = \"white\"),\n",
    "            axis.line = element_line(color = \"black\"),  # Set axis line color to black,  # Set major grid line color to black\n",
    "            panel.grid.minor = element_blank(),\n",
    "            legend.position = \"top\",  # Set legend position to top\n",
    "            #legend.title = element_blank()\n",
    "           ) +\n",
    "      geom_boxplot(position = position_dodge(width = 1))+\n",
    "      stat_pvalue_manual(stat_test, label = \"p.adj.signif\", tip.length = 0) +\n",
    "      scale_y_continuous(expand = expansion(mult = c(0, 0.1)))\n",
    "      pdf(file = outfile, width = 7, height = 11)\n",
    "      print(p3)\n",
    "      dev.off()\n",
    "\n",
    "    \n",
    "    }\n",
    "\n",
    "\n",
    "\n"
   ]
  },
  {
   "cell_type": "code",
   "execution_count": null,
   "id": "5352aa6d-9dc5-47da-9d28-f5194259e189",
   "metadata": {},
   "outputs": [],
   "source": []
  }
 ],
 "metadata": {
  "kernelspec": {
   "display_name": "R 4",
   "language": "R",
   "name": "ir4"
  },
  "language_info": {
   "codemirror_mode": "r",
   "file_extension": ".r",
   "mimetype": "text/x-r-source",
   "name": "R",
   "pygments_lexer": "r",
   "version": "4.3.1"
  }
 },
 "nbformat": 4,
 "nbformat_minor": 5
}
