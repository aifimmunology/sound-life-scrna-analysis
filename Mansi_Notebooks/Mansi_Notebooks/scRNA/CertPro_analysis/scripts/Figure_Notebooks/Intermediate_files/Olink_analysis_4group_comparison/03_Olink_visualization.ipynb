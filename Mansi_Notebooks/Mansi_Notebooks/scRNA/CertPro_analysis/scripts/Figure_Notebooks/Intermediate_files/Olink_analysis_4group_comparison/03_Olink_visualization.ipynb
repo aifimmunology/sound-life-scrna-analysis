{
 "cells": [
  {
   "cell_type": "code",
   "execution_count": 4,
   "id": "d186d818-1878-4af6-a82b-fe531745ef90",
   "metadata": {
    "tags": []
   },
   "outputs": [
    {
     "name": "stderr",
     "output_type": "stream",
     "text": [
      "Updating HTML index of packages in '.Library'\n",
      "\n",
      "Making 'packages.html' ...\n",
      " done\n",
      "\n"
     ]
    }
   ],
   "source": [
    "install.packages(\"lmerTest\")"
   ]
  },
  {
   "cell_type": "code",
   "execution_count": 5,
   "id": "3b7fbc9b-ab00-40b6-b8ca-aa37ea1c9e53",
   "metadata": {
    "tags": []
   },
   "outputs": [],
   "source": [
    "suppressPackageStartupMessages(library(readxl))\n",
    "suppressPackageStartupMessages(library(dplyr))\n",
    "suppressPackageStartupMessages(library(tidyr))\n",
    "suppressPackageStartupMessages(library(tibble))\n",
    "suppressPackageStartupMessages(library(patchwork))\n",
    "suppressPackageStartupMessages(library(pheatmap))\n",
    "suppressPackageStartupMessages(library(stringr))\n",
    "library(hise)\n",
    "library(plyr)\n",
    "library(purrr)\n",
    "library(vegan)\n",
    "#library(arrow)\n",
    "library(parallel)\n",
    "library(ComplexHeatmap)\n",
    "library(ggsci)\n",
    "library(tidyverse)\n",
    "library(rstatix)\n",
    "library(ggpubr)"
   ]
  },
  {
   "cell_type": "code",
   "execution_count": 6,
   "id": "2b8d07e7-6e18-4c3a-a8b8-eaaa2c4e4e41",
   "metadata": {
    "tags": []
   },
   "outputs": [
    {
     "name": "stderr",
     "output_type": "stream",
     "text": [
      "Loading required package: lme4\n",
      "\n",
      "Loading required package: Matrix\n",
      "\n",
      "\n",
      "Attaching package: ‘Matrix’\n",
      "\n",
      "\n",
      "The following objects are masked from ‘package:tidyr’:\n",
      "\n",
      "    expand, pack, unpack\n",
      "\n",
      "\n",
      "\n",
      "Attaching package: ‘lmerTest’\n",
      "\n",
      "\n",
      "The following object is masked from ‘package:lme4’:\n",
      "\n",
      "    lmer\n",
      "\n",
      "\n",
      "The following object is masked from ‘package:stats’:\n",
      "\n",
      "    step\n",
      "\n",
      "\n"
     ]
    },
    {
     "ename": "ERROR",
     "evalue": "Error in library(performance): there is no package called ‘performance’\n",
     "output_type": "error",
     "traceback": [
      "Error in library(performance): there is no package called ‘performance’\nTraceback:\n",
      "1. suppressPackageStartupMessages(library(performance))",
      "2. withCallingHandlers(expr, packageStartupMessage = function(c) tryInvokeRestart(\"muffleMessage\"))",
      "3. library(performance)"
     ]
    }
   ],
   "source": [
    "library(\"ggpubr\")\n",
    "#library(\"see\")\n",
    "library(\"tidyverse\")\n",
    "library(parallel)\n",
    "library(lmerTest)\n",
    "library(lme4)\n",
    "suppressPackageStartupMessages(library(performance))\n",
    "suppressPackageStartupMessages(library(dplyr))\n",
    "suppressPackageStartupMessages(library(tidyr))\n",
    "suppressPackageStartupMessages(library(tibble))\n",
    "suppressPackageStartupMessages(library(ggplot2))\n",
    "suppressPackageStartupMessages(library(pheatmap))\n",
    "suppressPackageStartupMessages(library(patchwork))\n",
    "suppressPackageStartupMessages(library(plyr))\n",
    "suppressPackageStartupMessages(library(ggrepel))\n",
    "library(RColorBrewer)\n",
    "library(viridis)"
   ]
  },
  {
   "cell_type": "markdown",
   "id": "3455f78f-01d8-4486-a62f-0b4243837c4d",
   "metadata": {
    "tags": []
   },
   "source": [
    "# Four group comparison"
   ]
  },
  {
   "cell_type": "code",
   "execution_count": 7,
   "id": "656039bf-6859-4984-a4f2-f58d6e27c0a8",
   "metadata": {
    "tags": []
   },
   "outputs": [],
   "source": [
    "female_br1<-read.csv(\"/home/jupyter/IH-A-Aging-Analysis-Notebooks_old/Mansi_Notebooks/scRNA/CertPro_analysis/scripts/Figure_Notebooks/Intermediate_files/Olink_analysis_DIHA/CSVs/Olink_Female_BR1_npx.csv\")"
   ]
  },
  {
   "cell_type": "code",
   "execution_count": 10,
   "id": "eec5d8dc-4e90-4d11-89fc-1d9e2be89480",
   "metadata": {
    "tags": []
   },
   "outputs": [],
   "source": [
    "female_br2<-read.csv(\"/home/jupyter/IH-A-Aging-Analysis-Notebooks_old/Mansi_Notebooks/scRNA/CertPro_analysis/scripts/Figure_Notebooks/Intermediate_files/Olink_analysis_DIHA/CSVs/Olink_Female_BR2_npx.csv\")"
   ]
  },
  {
   "cell_type": "code",
   "execution_count": 11,
   "id": "ead032b3-6372-48be-8bde-50da9ac2955d",
   "metadata": {
    "tags": []
   },
   "outputs": [],
   "source": [
    "male_br1<-read.csv(\"/home/jupyter/IH-A-Aging-Analysis-Notebooks_old/Mansi_Notebooks/scRNA/CertPro_analysis/scripts/Figure_Notebooks/Intermediate_files/Olink_analysis_DIHA/CSVs/Olink_Male_BR1_npx.csv\")"
   ]
  },
  {
   "cell_type": "code",
   "execution_count": 12,
   "id": "1427f9f5-f135-4995-81bf-6c04ea6b8104",
   "metadata": {
    "tags": []
   },
   "outputs": [],
   "source": [
    "male_br2<-read.csv(\"/home/jupyter/IH-A-Aging-Analysis-Notebooks_old/Mansi_Notebooks/scRNA/CertPro_analysis/scripts/Figure_Notebooks/Intermediate_files/Olink_analysis_DIHA/CSVs/Olink_Male_BR2_npx.csv\")"
   ]
  },
  {
   "cell_type": "code",
   "execution_count": 13,
   "id": "b7e93751-3b05-4810-aec8-288097558464",
   "metadata": {
    "tags": []
   },
   "outputs": [],
   "source": [
    "# Combine data frames vertically\n",
    "combined_df <- rbind(female_br1, female_br2, male_br1, male_br2 )"
   ]
  },
  {
   "cell_type": "code",
   "execution_count": 14,
   "id": "7146eb48-ffe5-4618-ac54-63a861aac3e4",
   "metadata": {
    "tags": []
   },
   "outputs": [
    {
     "data": {
      "text/html": [
       "<table class=\"dataframe\">\n",
       "<caption>A data.frame: 6 × 37</caption>\n",
       "<thead>\n",
       "\t<tr><th></th><th scope=col>X.x</th><th scope=col>sample.sampleKitGuid</th><th scope=col>NPX_bridged</th><th scope=col>Assay</th><th scope=col>batch</th><th scope=col>X.y</th><th scope=col>Unnamed..0</th><th scope=col>lastUpdated</th><th scope=col>sample.id</th><th scope=col>sample.bridgingControl</th><th scope=col>⋯</th><th scope=col>subject.subjectGuid</th><th scope=col>cohort.cohortGuid</th><th scope=col>sample.diseaseStatesRecordedAtVisit</th><th scope=col>pbmc_sample_id</th><th scope=col>subject.covidVaxDose1.daysSinceFirstVisit</th><th scope=col>subject.covidVaxDose2.daysSinceFirstVisit</th><th scope=col>Covid_exclusion</th><th scope=col>subjectGuid</th><th scope=col>CMV</th><th scope=col>facet</th></tr>\n",
       "\t<tr><th></th><th scope=col>&lt;int&gt;</th><th scope=col>&lt;chr&gt;</th><th scope=col>&lt;dbl&gt;</th><th scope=col>&lt;chr&gt;</th><th scope=col>&lt;chr&gt;</th><th scope=col>&lt;int&gt;</th><th scope=col>&lt;int&gt;</th><th scope=col>&lt;chr&gt;</th><th scope=col>&lt;chr&gt;</th><th scope=col>&lt;chr&gt;</th><th scope=col>⋯</th><th scope=col>&lt;chr&gt;</th><th scope=col>&lt;chr&gt;</th><th scope=col>&lt;lgl&gt;</th><th scope=col>&lt;chr&gt;</th><th scope=col>&lt;int&gt;</th><th scope=col>&lt;int&gt;</th><th scope=col>&lt;chr&gt;</th><th scope=col>&lt;chr&gt;</th><th scope=col>&lt;chr&gt;</th><th scope=col>&lt;chr&gt;</th></tr>\n",
       "</thead>\n",
       "<tbody>\n",
       "\t<tr><th scope=row>1</th><td>867287</td><td>KT00532</td><td> 0.40485</td><td>NPDC1  </td><td>Batch2_Bridged</td><td>226</td><td>227</td><td>2024-05-10T17:12:44.959Z</td><td>daa136f9-4e2f-42d3-a5b3-8d0b5d859aea</td><td>False</td><td>⋯</td><td>BR1048</td><td>BR1</td><td>NA</td><td>PB00532-01</td><td>150</td><td>181</td><td>no</td><td>BR1048</td><td>Positive</td><td>Female_BR1</td></tr>\n",
       "\t<tr><th scope=row>2</th><td>873271</td><td>KT00532</td><td>-0.54620</td><td>GDF15  </td><td>Batch2_Bridged</td><td>226</td><td>227</td><td>2024-05-10T17:12:44.959Z</td><td>daa136f9-4e2f-42d3-a5b3-8d0b5d859aea</td><td>False</td><td>⋯</td><td>BR1048</td><td>BR1</td><td>NA</td><td>PB00532-01</td><td>150</td><td>181</td><td>no</td><td>BR1048</td><td>Positive</td><td>Female_BR1</td></tr>\n",
       "\t<tr><th scope=row>3</th><td>875647</td><td>KT00532</td><td> 0.58060</td><td>DPT    </td><td>Batch2_Bridged</td><td>226</td><td>227</td><td>2024-05-10T17:12:44.959Z</td><td>daa136f9-4e2f-42d3-a5b3-8d0b5d859aea</td><td>False</td><td>⋯</td><td>BR1048</td><td>BR1</td><td>NA</td><td>PB00532-01</td><td>150</td><td>181</td><td>no</td><td>BR1048</td><td>Positive</td><td>Female_BR1</td></tr>\n",
       "\t<tr><th scope=row>4</th><td>875735</td><td>KT00532</td><td>-0.40900</td><td>CRTAC1 </td><td>Batch2_Bridged</td><td>226</td><td>227</td><td>2024-05-10T17:12:44.959Z</td><td>daa136f9-4e2f-42d3-a5b3-8d0b5d859aea</td><td>False</td><td>⋯</td><td>BR1048</td><td>BR1</td><td>NA</td><td>PB00532-01</td><td>150</td><td>181</td><td>no</td><td>BR1048</td><td>Positive</td><td>Female_BR1</td></tr>\n",
       "\t<tr><th scope=row>5</th><td>881367</td><td>KT00532</td><td>-0.46540</td><td>MCAM   </td><td>Batch2_Bridged</td><td>226</td><td>227</td><td>2024-05-10T17:12:44.959Z</td><td>daa136f9-4e2f-42d3-a5b3-8d0b5d859aea</td><td>False</td><td>⋯</td><td>BR1048</td><td>BR1</td><td>NA</td><td>PB00532-01</td><td>150</td><td>181</td><td>no</td><td>BR1048</td><td>Positive</td><td>Female_BR1</td></tr>\n",
       "\t<tr><th scope=row>6</th><td>886999</td><td>KT00532</td><td> 0.21315</td><td>ANGPTL3</td><td>Batch2_Bridged</td><td>226</td><td>227</td><td>2024-05-10T17:12:44.959Z</td><td>daa136f9-4e2f-42d3-a5b3-8d0b5d859aea</td><td>False</td><td>⋯</td><td>BR1048</td><td>BR1</td><td>NA</td><td>PB00532-01</td><td>150</td><td>181</td><td>no</td><td>BR1048</td><td>Positive</td><td>Female_BR1</td></tr>\n",
       "</tbody>\n",
       "</table>\n"
      ],
      "text/latex": [
       "A data.frame: 6 × 37\n",
       "\\begin{tabular}{r|lllllllllllllllllllll}\n",
       "  & X.x & sample.sampleKitGuid & NPX\\_bridged & Assay & batch & X.y & Unnamed..0 & lastUpdated & sample.id & sample.bridgingControl & ⋯ & subject.subjectGuid & cohort.cohortGuid & sample.diseaseStatesRecordedAtVisit & pbmc\\_sample\\_id & subject.covidVaxDose1.daysSinceFirstVisit & subject.covidVaxDose2.daysSinceFirstVisit & Covid\\_exclusion & subjectGuid & CMV & facet\\\\\n",
       "  & <int> & <chr> & <dbl> & <chr> & <chr> & <int> & <int> & <chr> & <chr> & <chr> & ⋯ & <chr> & <chr> & <lgl> & <chr> & <int> & <int> & <chr> & <chr> & <chr> & <chr>\\\\\n",
       "\\hline\n",
       "\t1 & 867287 & KT00532 &  0.40485 & NPDC1   & Batch2\\_Bridged & 226 & 227 & 2024-05-10T17:12:44.959Z & daa136f9-4e2f-42d3-a5b3-8d0b5d859aea & False & ⋯ & BR1048 & BR1 & NA & PB00532-01 & 150 & 181 & no & BR1048 & Positive & Female\\_BR1\\\\\n",
       "\t2 & 873271 & KT00532 & -0.54620 & GDF15   & Batch2\\_Bridged & 226 & 227 & 2024-05-10T17:12:44.959Z & daa136f9-4e2f-42d3-a5b3-8d0b5d859aea & False & ⋯ & BR1048 & BR1 & NA & PB00532-01 & 150 & 181 & no & BR1048 & Positive & Female\\_BR1\\\\\n",
       "\t3 & 875647 & KT00532 &  0.58060 & DPT     & Batch2\\_Bridged & 226 & 227 & 2024-05-10T17:12:44.959Z & daa136f9-4e2f-42d3-a5b3-8d0b5d859aea & False & ⋯ & BR1048 & BR1 & NA & PB00532-01 & 150 & 181 & no & BR1048 & Positive & Female\\_BR1\\\\\n",
       "\t4 & 875735 & KT00532 & -0.40900 & CRTAC1  & Batch2\\_Bridged & 226 & 227 & 2024-05-10T17:12:44.959Z & daa136f9-4e2f-42d3-a5b3-8d0b5d859aea & False & ⋯ & BR1048 & BR1 & NA & PB00532-01 & 150 & 181 & no & BR1048 & Positive & Female\\_BR1\\\\\n",
       "\t5 & 881367 & KT00532 & -0.46540 & MCAM    & Batch2\\_Bridged & 226 & 227 & 2024-05-10T17:12:44.959Z & daa136f9-4e2f-42d3-a5b3-8d0b5d859aea & False & ⋯ & BR1048 & BR1 & NA & PB00532-01 & 150 & 181 & no & BR1048 & Positive & Female\\_BR1\\\\\n",
       "\t6 & 886999 & KT00532 &  0.21315 & ANGPTL3 & Batch2\\_Bridged & 226 & 227 & 2024-05-10T17:12:44.959Z & daa136f9-4e2f-42d3-a5b3-8d0b5d859aea & False & ⋯ & BR1048 & BR1 & NA & PB00532-01 & 150 & 181 & no & BR1048 & Positive & Female\\_BR1\\\\\n",
       "\\end{tabular}\n"
      ],
      "text/markdown": [
       "\n",
       "A data.frame: 6 × 37\n",
       "\n",
       "| <!--/--> | X.x &lt;int&gt; | sample.sampleKitGuid &lt;chr&gt; | NPX_bridged &lt;dbl&gt; | Assay &lt;chr&gt; | batch &lt;chr&gt; | X.y &lt;int&gt; | Unnamed..0 &lt;int&gt; | lastUpdated &lt;chr&gt; | sample.id &lt;chr&gt; | sample.bridgingControl &lt;chr&gt; | ⋯ ⋯ | subject.subjectGuid &lt;chr&gt; | cohort.cohortGuid &lt;chr&gt; | sample.diseaseStatesRecordedAtVisit &lt;lgl&gt; | pbmc_sample_id &lt;chr&gt; | subject.covidVaxDose1.daysSinceFirstVisit &lt;int&gt; | subject.covidVaxDose2.daysSinceFirstVisit &lt;int&gt; | Covid_exclusion &lt;chr&gt; | subjectGuid &lt;chr&gt; | CMV &lt;chr&gt; | facet &lt;chr&gt; |\n",
       "|---|---|---|---|---|---|---|---|---|---|---|---|---|---|---|---|---|---|---|---|---|---|\n",
       "| 1 | 867287 | KT00532 |  0.40485 | NPDC1   | Batch2_Bridged | 226 | 227 | 2024-05-10T17:12:44.959Z | daa136f9-4e2f-42d3-a5b3-8d0b5d859aea | False | ⋯ | BR1048 | BR1 | NA | PB00532-01 | 150 | 181 | no | BR1048 | Positive | Female_BR1 |\n",
       "| 2 | 873271 | KT00532 | -0.54620 | GDF15   | Batch2_Bridged | 226 | 227 | 2024-05-10T17:12:44.959Z | daa136f9-4e2f-42d3-a5b3-8d0b5d859aea | False | ⋯ | BR1048 | BR1 | NA | PB00532-01 | 150 | 181 | no | BR1048 | Positive | Female_BR1 |\n",
       "| 3 | 875647 | KT00532 |  0.58060 | DPT     | Batch2_Bridged | 226 | 227 | 2024-05-10T17:12:44.959Z | daa136f9-4e2f-42d3-a5b3-8d0b5d859aea | False | ⋯ | BR1048 | BR1 | NA | PB00532-01 | 150 | 181 | no | BR1048 | Positive | Female_BR1 |\n",
       "| 4 | 875735 | KT00532 | -0.40900 | CRTAC1  | Batch2_Bridged | 226 | 227 | 2024-05-10T17:12:44.959Z | daa136f9-4e2f-42d3-a5b3-8d0b5d859aea | False | ⋯ | BR1048 | BR1 | NA | PB00532-01 | 150 | 181 | no | BR1048 | Positive | Female_BR1 |\n",
       "| 5 | 881367 | KT00532 | -0.46540 | MCAM    | Batch2_Bridged | 226 | 227 | 2024-05-10T17:12:44.959Z | daa136f9-4e2f-42d3-a5b3-8d0b5d859aea | False | ⋯ | BR1048 | BR1 | NA | PB00532-01 | 150 | 181 | no | BR1048 | Positive | Female_BR1 |\n",
       "| 6 | 886999 | KT00532 |  0.21315 | ANGPTL3 | Batch2_Bridged | 226 | 227 | 2024-05-10T17:12:44.959Z | daa136f9-4e2f-42d3-a5b3-8d0b5d859aea | False | ⋯ | BR1048 | BR1 | NA | PB00532-01 | 150 | 181 | no | BR1048 | Positive | Female_BR1 |\n",
       "\n"
      ],
      "text/plain": [
       "  X.x    sample.sampleKitGuid NPX_bridged Assay   batch          X.y Unnamed..0\n",
       "1 867287 KT00532               0.40485    NPDC1   Batch2_Bridged 226 227       \n",
       "2 873271 KT00532              -0.54620    GDF15   Batch2_Bridged 226 227       \n",
       "3 875647 KT00532               0.58060    DPT     Batch2_Bridged 226 227       \n",
       "4 875735 KT00532              -0.40900    CRTAC1  Batch2_Bridged 226 227       \n",
       "5 881367 KT00532              -0.46540    MCAM    Batch2_Bridged 226 227       \n",
       "6 886999 KT00532               0.21315    ANGPTL3 Batch2_Bridged 226 227       \n",
       "  lastUpdated              sample.id                           \n",
       "1 2024-05-10T17:12:44.959Z daa136f9-4e2f-42d3-a5b3-8d0b5d859aea\n",
       "2 2024-05-10T17:12:44.959Z daa136f9-4e2f-42d3-a5b3-8d0b5d859aea\n",
       "3 2024-05-10T17:12:44.959Z daa136f9-4e2f-42d3-a5b3-8d0b5d859aea\n",
       "4 2024-05-10T17:12:44.959Z daa136f9-4e2f-42d3-a5b3-8d0b5d859aea\n",
       "5 2024-05-10T17:12:44.959Z daa136f9-4e2f-42d3-a5b3-8d0b5d859aea\n",
       "6 2024-05-10T17:12:44.959Z daa136f9-4e2f-42d3-a5b3-8d0b5d859aea\n",
       "  sample.bridgingControl ⋯ subject.subjectGuid cohort.cohortGuid\n",
       "1 False                  ⋯ BR1048              BR1              \n",
       "2 False                  ⋯ BR1048              BR1              \n",
       "3 False                  ⋯ BR1048              BR1              \n",
       "4 False                  ⋯ BR1048              BR1              \n",
       "5 False                  ⋯ BR1048              BR1              \n",
       "6 False                  ⋯ BR1048              BR1              \n",
       "  sample.diseaseStatesRecordedAtVisit pbmc_sample_id\n",
       "1 NA                                  PB00532-01    \n",
       "2 NA                                  PB00532-01    \n",
       "3 NA                                  PB00532-01    \n",
       "4 NA                                  PB00532-01    \n",
       "5 NA                                  PB00532-01    \n",
       "6 NA                                  PB00532-01    \n",
       "  subject.covidVaxDose1.daysSinceFirstVisit\n",
       "1 150                                      \n",
       "2 150                                      \n",
       "3 150                                      \n",
       "4 150                                      \n",
       "5 150                                      \n",
       "6 150                                      \n",
       "  subject.covidVaxDose2.daysSinceFirstVisit Covid_exclusion subjectGuid\n",
       "1 181                                       no              BR1048     \n",
       "2 181                                       no              BR1048     \n",
       "3 181                                       no              BR1048     \n",
       "4 181                                       no              BR1048     \n",
       "5 181                                       no              BR1048     \n",
       "6 181                                       no              BR1048     \n",
       "  CMV      facet     \n",
       "1 Positive Female_BR1\n",
       "2 Positive Female_BR1\n",
       "3 Positive Female_BR1\n",
       "4 Positive Female_BR1\n",
       "5 Positive Female_BR1\n",
       "6 Positive Female_BR1"
      ]
     },
     "metadata": {},
     "output_type": "display_data"
    }
   ],
   "source": [
    "combined_df %>% head()"
   ]
  },
  {
   "cell_type": "code",
   "execution_count": 25,
   "id": "b85e1ffa-aa7b-44bb-b21b-ac09a59db47d",
   "metadata": {
    "tags": []
   },
   "outputs": [
    {
     "data": {
      "text/html": [
       "25"
      ],
      "text/latex": [
       "25"
      ],
      "text/markdown": [
       "25"
      ],
      "text/plain": [
       "[1] 25"
      ]
     },
     "metadata": {},
     "output_type": "display_data"
    }
   ],
   "source": [
    "length(unique(female_br2$sample.sampleKitGuid))"
   ]
  },
  {
   "cell_type": "code",
   "execution_count": 26,
   "id": "5fe15ab0-d1dd-4d5c-8a40-1528d648c304",
   "metadata": {
    "tags": []
   },
   "outputs": [
    {
     "data": {
      "text/html": [
       "26"
      ],
      "text/latex": [
       "26"
      ],
      "text/markdown": [
       "26"
      ],
      "text/plain": [
       "[1] 26"
      ]
     },
     "metadata": {},
     "output_type": "display_data"
    }
   ],
   "source": [
    "length(unique(female_br1$sample.sampleKitGuid))"
   ]
  },
  {
   "cell_type": "code",
   "execution_count": 27,
   "id": "391581e1-c8c3-4a14-b0f6-e4f7b0258beb",
   "metadata": {
    "tags": []
   },
   "outputs": [
    {
     "data": {
      "text/html": [
       "21"
      ],
      "text/latex": [
       "21"
      ],
      "text/markdown": [
       "21"
      ],
      "text/plain": [
       "[1] 21"
      ]
     },
     "metadata": {},
     "output_type": "display_data"
    }
   ],
   "source": [
    "length(unique(male_br1$sample.sampleKitGuid))"
   ]
  },
  {
   "cell_type": "code",
   "execution_count": 28,
   "id": "5a6c9826-39be-45b0-bae2-fbf71671cce6",
   "metadata": {
    "tags": []
   },
   "outputs": [
    {
     "data": {
      "text/html": [
       "20"
      ],
      "text/latex": [
       "20"
      ],
      "text/markdown": [
       "20"
      ],
      "text/plain": [
       "[1] 20"
      ]
     },
     "metadata": {},
     "output_type": "display_data"
    }
   ],
   "source": [
    "length(unique(male_br2$sample.sampleKitGuid))"
   ]
  },
  {
   "cell_type": "code",
   "execution_count": 29,
   "id": "792a515d-be7d-4d67-8382-390225360d2b",
   "metadata": {
    "tags": []
   },
   "outputs": [
    {
     "data": {
      "text/html": [
       "92"
      ],
      "text/latex": [
       "92"
      ],
      "text/markdown": [
       "92"
      ],
      "text/plain": [
       "[1] 92"
      ]
     },
     "metadata": {},
     "output_type": "display_data"
    }
   ],
   "source": [
    "25+26+21+20"
   ]
  },
  {
   "cell_type": "code",
   "execution_count": 24,
   "id": "0cab2954-176f-4c55-8b8c-6a9406e5b75d",
   "metadata": {
    "tags": []
   },
   "outputs": [
    {
     "data": {
      "text/html": [
       "2852"
      ],
      "text/latex": [
       "2852"
      ],
      "text/markdown": [
       "2852"
      ],
      "text/plain": [
       "[1] 2852"
      ]
     },
     "metadata": {},
     "output_type": "display_data"
    }
   ],
   "source": [
    "length(combined_df$facet== \"Female_BR1\")"
   ]
  },
  {
   "cell_type": "code",
   "execution_count": 15,
   "id": "fdced942-ecdb-4eb7-8fcd-fd6b694fdd13",
   "metadata": {
    "tags": []
   },
   "outputs": [],
   "source": [
    "#Loop to create plots\n",
    "\n",
    "\n",
    "# Define the list of genes\n",
    "gene_list <- c('CGA', 'NEFL', 'CDCP1', 'ANGPTL3', 'TFF1', 'HSPB6', 'CRTAC1','F3','MCAM','DTX3','NPDC1','TNFRSF1A','SCARB2','CD302',\n",
    "            'PHOSPHO1','JAM2','ITGAV','CTSV','PAEP', 'MLN','CXCL17','IGFBP4','GDF15','WFDC2','FLT3LG','DPT','RET', 'TNF', 'IL1B', 'IL1RN', 'CCL5')\n",
    "\n",
    "# comparisons\n",
    "my_comparisons <- list(c(\"Female_BR1\", \"Female_BR2\"), c(\"Male_BR1\", \"Male_BR2\"), c(\"Female_BR1\", \"Male_BR1\"), c(\"Female_BR2\", \"Male_BR2\"))\n",
    "\n",
    "# Iterate through the list of genes\n",
    "for (gene in gene_list) {\n",
    "    \n",
    "    protein_df <- combined_df %>% filter(combined_df$Assay == gene)\n",
    "  \n",
    "    # Perform statistical test for the current gene\n",
    "    stat_test <- wilcox_test(NPX_bridged ~ facet, data = protein_df, comparisons = my_comparisons, paired= FALSE)%>% \n",
    "   adjust_pvalue(method = 'BH') %>% \n",
    "   add_xy_position(x = \"facet\", dodge = 0.8)\n",
    "\n",
    "  # Define the output file path\n",
    "  outfile <- paste(\"/home/jupyter/IH-A-Aging-Analysis-Notebooks_old/Mansi_Notebooks/scRNA/CertPro_analysis/scripts/Figure_Notebooks/Intermediate_files/Olink_analysis_DIHA/Plots/version1_plots/Olink_NPX_Padj_\", gene, \".pdf\", sep=\"\")\n",
    "  \n",
    "  # Create the plot for the current gene\n",
    "  p3 <- ggplot(protein_df, aes(x = facet, y = NPX_bridged, color = subject.biologicalSex)) +\n",
    "    geom_violin(width = 0.7) +  # Adjust width as needed\n",
    "    geom_boxplot(width = 0.5, outlier.shape = NA) +  # Nudge boxplots slightly for better visualization\n",
    "    geom_jitter(width = 0.1) +\n",
    "    ylab('NPX') + \n",
    "    xlab('Groups') +\n",
    "    scale_color_manual(values = c(\"#9970ab\", \"#5aae61\")) +\n",
    "    theme(axis.text.x = element_text(size = 14, angle = 90),     \n",
    "          axis.text.y = element_text(size = 14),     \n",
    "          axis.title = element_text(size = 14),\n",
    "          panel.background = element_rect(fill = \"white\"),\n",
    "          axis.line = element_line(color = \"black\"),\n",
    "          panel.grid.minor = element_blank(),\n",
    "          legend.position = \"top\",\n",
    "          plot.title = element_text(hjust = 0.5, size = 16, face = \"bold\")\n",
    "    ) +\n",
    "    stat_pvalue_manual(stat_test, label =\"p_value= {p},\\np_adj= {p.adj.signif}\", tip.length = 0) +\n",
    "    ggtitle(gene)\n",
    "  \n",
    "  # Save the plot to a PDF file\n",
    "  pdf(file = outfile, width = 7, height = 13)\n",
    "  print(p3)\n",
    "  dev.off()\n",
    "}\n"
   ]
  },
  {
   "cell_type": "code",
   "execution_count": null,
   "id": "bdc879e2-3996-42f3-bf70-c804aa801026",
   "metadata": {},
   "outputs": [],
   "source": []
  },
  {
   "cell_type": "markdown",
   "id": "996d148b-c327-4140-bbf8-b12f5bb61353",
   "metadata": {
    "tags": []
   },
   "source": [
    "## stat_test table output"
   ]
  },
  {
   "cell_type": "code",
   "execution_count": 17,
   "id": "62de19c1-4b27-477c-b06a-973b91b4135f",
   "metadata": {
    "tags": []
   },
   "outputs": [],
   "source": [
    "# Define the list of genes\n",
    "gene_list <- c('CGA', 'NEFL', 'CDCP1', 'ANGPTL3', 'TFF1', 'HSPB6', 'CRTAC1','F3','MCAM','DTX3','NPDC1','TNFRSF1A','SCARB2','CD302',\n",
    "            'PHOSPHO1','JAM2','ITGAV','CTSV','PAEP', 'MLN','CXCL17','IGFBP4','GDF15','WFDC2','FLT3LG','DPT','RET', 'TNF', 'IL1B', 'IL1RN', 'CCL5')\n",
    "# comparisons\n",
    "my_comparisons <- list(c(\"Female_BR1\", \"Female_BR2\"), c(\"Male_BR1\", \"Male_BR2\"), c(\"Female_BR1\", \"Male_BR1\"), c(\"Female_BR2\", \"Male_BR2\"))\n",
    "\n",
    "\n",
    "for (gene in gene_list) {\n",
    "  \n",
    "    protein_df <- combined_df %>% filter(combined_df$Assay == gene)\n",
    "    \n",
    "    # Perform statistical test for the current gene\n",
    "   stat_test <- wilcox_test(NPX_bridged ~ facet, data = protein_df, comparisons = my_comparisons, paired= FALSE)%>% \n",
    "   adjust_pvalue(method = 'BH') \n",
    "  \n",
    "  # Extract the data frame from the stat_test list\n",
    "  #stat_df <- data.frame(stat_test[[9]])\n",
    "  \n",
    "  # Define the output file path for the CSV\n",
    "  outfile_csv <- paste(\"/home/jupyter/IH-A-Aging-Analysis-Notebooks_old/Mansi_Notebooks/scRNA/CertPro_analysis/scripts/Figure_Notebooks/Intermediate_files/Olink_analysis_DIHA/stat_table/version1_stat_table/Olink_stat_test_\", gene, \".csv\", sep=\"\")\n",
    "  \n",
    "  # Write the data frame to a CSV file\n",
    "  write.csv(stat_test, outfile_csv, row.names = FALSE)\n",
    "}"
   ]
  },
  {
   "cell_type": "markdown",
   "id": "388d2066-d00c-492d-a399-eabfc3c51ccd",
   "metadata": {},
   "source": [
    "# Volcano plot (using Q's generated differentials)"
   ]
  },
  {
   "cell_type": "code",
   "execution_count": 3,
   "id": "4c4af5e2-ecfc-4451-8370-31a3fcfd321e",
   "metadata": {
    "tags": []
   },
   "outputs": [
    {
     "data": {
      "text/html": [
       "<table class=\"dataframe\">\n",
       "<caption>A data.frame: 6 × 10</caption>\n",
       "<thead>\n",
       "\t<tr><th></th><th scope=col>X</th><th scope=col>Estimate</th><th scope=col>Std..Error</th><th scope=col>t.value</th><th scope=col>Pr...t..</th><th scope=col>factor</th><th scope=col>Assay</th><th scope=col>Log2FC_Age</th><th scope=col>diff</th><th scope=col>padj</th></tr>\n",
       "\t<tr><th></th><th scope=col>&lt;chr&gt;</th><th scope=col>&lt;dbl&gt;</th><th scope=col>&lt;dbl&gt;</th><th scope=col>&lt;dbl&gt;</th><th scope=col>&lt;dbl&gt;</th><th scope=col>&lt;chr&gt;</th><th scope=col>&lt;chr&gt;</th><th scope=col>&lt;dbl&gt;</th><th scope=col>&lt;dbl&gt;</th><th scope=col>&lt;dbl&gt;</th></tr>\n",
       "</thead>\n",
       "<tbody>\n",
       "\t<tr><th scope=row>1</th><td>cohort.cohortGuidBR2 </td><td>-0.31404684</td><td>0.31248657</td><td>-1.0049931</td><td>0.32125712</td><td>Age</td><td>GYS1   </td><td>-0.16027669</td><td>-0.317386667</td><td>1</td></tr>\n",
       "\t<tr><th scope=row>2</th><td>cohort.cohortGuidBR21</td><td> 0.10445057</td><td>0.10524958</td><td> 0.9924085</td><td>0.32727587</td><td>Age</td><td>THPO   </td><td> 0.18672020</td><td> 0.103853333</td><td>1</td></tr>\n",
       "\t<tr><th scope=row>3</th><td>cohort.cohortGuidBR22</td><td> 0.13781379</td><td>0.11562005</td><td> 1.1919541</td><td>0.24067019</td><td>Age</td><td>CLEC1A </td><td> 0.21617586</td><td> 0.140088095</td><td>1</td></tr>\n",
       "\t<tr><th scope=row>4</th><td>cohort.cohortGuidBR23</td><td>-0.00895431</td><td>0.08605757</td><td>-0.1040502</td><td>0.91767673</td><td>Age</td><td>ENTPD6 </td><td>-0.02460835</td><td>-0.009962381</td><td>1</td></tr>\n",
       "\t<tr><th scope=row>5</th><td>cohort.cohortGuidBR24</td><td> 0.18216006</td><td>0.17814645</td><td> 1.0225298</td><td>0.31299605</td><td>Age</td><td>CEACAM8</td><td> 0.64968713</td><td> 0.178448095</td><td>1</td></tr>\n",
       "\t<tr><th scope=row>6</th><td>cohort.cohortGuidBR25</td><td> 0.28795431</td><td>0.15958606</td><td> 1.8043826</td><td>0.07910181</td><td>Age</td><td>S100P  </td><td> 0.95840216</td><td> 0.287649286</td><td>1</td></tr>\n",
       "</tbody>\n",
       "</table>\n"
      ],
      "text/latex": [
       "A data.frame: 6 × 10\n",
       "\\begin{tabular}{r|llllllllll}\n",
       "  & X & Estimate & Std..Error & t.value & Pr...t.. & factor & Assay & Log2FC\\_Age & diff & padj\\\\\n",
       "  & <chr> & <dbl> & <dbl> & <dbl> & <dbl> & <chr> & <chr> & <dbl> & <dbl> & <dbl>\\\\\n",
       "\\hline\n",
       "\t1 & cohort.cohortGuidBR2  & -0.31404684 & 0.31248657 & -1.0049931 & 0.32125712 & Age & GYS1    & -0.16027669 & -0.317386667 & 1\\\\\n",
       "\t2 & cohort.cohortGuidBR21 &  0.10445057 & 0.10524958 &  0.9924085 & 0.32727587 & Age & THPO    &  0.18672020 &  0.103853333 & 1\\\\\n",
       "\t3 & cohort.cohortGuidBR22 &  0.13781379 & 0.11562005 &  1.1919541 & 0.24067019 & Age & CLEC1A  &  0.21617586 &  0.140088095 & 1\\\\\n",
       "\t4 & cohort.cohortGuidBR23 & -0.00895431 & 0.08605757 & -0.1040502 & 0.91767673 & Age & ENTPD6  & -0.02460835 & -0.009962381 & 1\\\\\n",
       "\t5 & cohort.cohortGuidBR24 &  0.18216006 & 0.17814645 &  1.0225298 & 0.31299605 & Age & CEACAM8 &  0.64968713 &  0.178448095 & 1\\\\\n",
       "\t6 & cohort.cohortGuidBR25 &  0.28795431 & 0.15958606 &  1.8043826 & 0.07910181 & Age & S100P   &  0.95840216 &  0.287649286 & 1\\\\\n",
       "\\end{tabular}\n"
      ],
      "text/markdown": [
       "\n",
       "A data.frame: 6 × 10\n",
       "\n",
       "| <!--/--> | X &lt;chr&gt; | Estimate &lt;dbl&gt; | Std..Error &lt;dbl&gt; | t.value &lt;dbl&gt; | Pr...t.. &lt;dbl&gt; | factor &lt;chr&gt; | Assay &lt;chr&gt; | Log2FC_Age &lt;dbl&gt; | diff &lt;dbl&gt; | padj &lt;dbl&gt; |\n",
       "|---|---|---|---|---|---|---|---|---|---|---|\n",
       "| 1 | cohort.cohortGuidBR2  | -0.31404684 | 0.31248657 | -1.0049931 | 0.32125712 | Age | GYS1    | -0.16027669 | -0.317386667 | 1 |\n",
       "| 2 | cohort.cohortGuidBR21 |  0.10445057 | 0.10524958 |  0.9924085 | 0.32727587 | Age | THPO    |  0.18672020 |  0.103853333 | 1 |\n",
       "| 3 | cohort.cohortGuidBR22 |  0.13781379 | 0.11562005 |  1.1919541 | 0.24067019 | Age | CLEC1A  |  0.21617586 |  0.140088095 | 1 |\n",
       "| 4 | cohort.cohortGuidBR23 | -0.00895431 | 0.08605757 | -0.1040502 | 0.91767673 | Age | ENTPD6  | -0.02460835 | -0.009962381 | 1 |\n",
       "| 5 | cohort.cohortGuidBR24 |  0.18216006 | 0.17814645 |  1.0225298 | 0.31299605 | Age | CEACAM8 |  0.64968713 |  0.178448095 | 1 |\n",
       "| 6 | cohort.cohortGuidBR25 |  0.28795431 | 0.15958606 |  1.8043826 | 0.07910181 | Age | S100P   |  0.95840216 |  0.287649286 | 1 |\n",
       "\n"
      ],
      "text/plain": [
       "  X                     Estimate    Std..Error t.value    Pr...t..   factor\n",
       "1 cohort.cohortGuidBR2  -0.31404684 0.31248657 -1.0049931 0.32125712 Age   \n",
       "2 cohort.cohortGuidBR21  0.10445057 0.10524958  0.9924085 0.32727587 Age   \n",
       "3 cohort.cohortGuidBR22  0.13781379 0.11562005  1.1919541 0.24067019 Age   \n",
       "4 cohort.cohortGuidBR23 -0.00895431 0.08605757 -0.1040502 0.91767673 Age   \n",
       "5 cohort.cohortGuidBR24  0.18216006 0.17814645  1.0225298 0.31299605 Age   \n",
       "6 cohort.cohortGuidBR25  0.28795431 0.15958606  1.8043826 0.07910181 Age   \n",
       "  Assay   Log2FC_Age  diff         padj\n",
       "1 GYS1    -0.16027669 -0.317386667 1   \n",
       "2 THPO     0.18672020  0.103853333 1   \n",
       "3 CLEC1A   0.21617586  0.140088095 1   \n",
       "4 ENTPD6  -0.02460835 -0.009962381 1   \n",
       "5 CEACAM8  0.64968713  0.178448095 1   \n",
       "6 S100P    0.95840216  0.287649286 1   "
      ]
     },
     "metadata": {},
     "output_type": "display_data"
    }
   ],
   "source": [
    "male_olink <- read.csv(\"/home/jupyter/IH-A-Aging-Analysis-Notebooks_old/Mansi_Notebooks/scRNA/Olink_analysis/CSVs/res_all_age_Male.csv\")\n",
    "head(male_olink)"
   ]
  },
  {
   "cell_type": "code",
   "execution_count": 4,
   "id": "d726e6fb-d327-4cd1-9215-2eaf7c888291",
   "metadata": {
    "tags": []
   },
   "outputs": [
    {
     "data": {
      "text/html": [
       "<table class=\"dataframe\">\n",
       "<caption>A data.frame: 6 × 10</caption>\n",
       "<thead>\n",
       "\t<tr><th></th><th scope=col>X</th><th scope=col>Estimate</th><th scope=col>Std..Error</th><th scope=col>t.value</th><th scope=col>Pr...t..</th><th scope=col>factor</th><th scope=col>Assay</th><th scope=col>Log2FC_Age</th><th scope=col>diff</th><th scope=col>padj</th></tr>\n",
       "\t<tr><th></th><th scope=col>&lt;chr&gt;</th><th scope=col>&lt;dbl&gt;</th><th scope=col>&lt;dbl&gt;</th><th scope=col>&lt;dbl&gt;</th><th scope=col>&lt;dbl&gt;</th><th scope=col>&lt;chr&gt;</th><th scope=col>&lt;chr&gt;</th><th scope=col>&lt;dbl&gt;</th><th scope=col>&lt;dbl&gt;</th><th scope=col>&lt;dbl&gt;</th></tr>\n",
       "</thead>\n",
       "<tbody>\n",
       "\t<tr><th scope=row>1</th><td>cohort.cohortGuidBR2 </td><td> 0.014084760</td><td>0.32010931</td><td> 0.04399985</td><td>9.650871e-01</td><td>Age</td><td>GYS1   </td><td> 0.00997620</td><td> 0.018938538</td><td>1.00000000</td></tr>\n",
       "\t<tr><th scope=row>2</th><td>cohort.cohortGuidBR21</td><td> 0.376308726</td><td>0.08035168</td><td> 4.68327128</td><td>2.349236e-05</td><td>Age</td><td>THPO   </td><td> 0.76754320</td><td> 0.389521308</td><td>0.03371154</td></tr>\n",
       "\t<tr><th scope=row>3</th><td>cohort.cohortGuidBR22</td><td> 0.149121132</td><td>0.10279043</td><td> 1.45072969</td><td>1.533592e-01</td><td>Age</td><td>CLEC1A </td><td> 0.27795947</td><td> 0.150093769</td><td>1.00000000</td></tr>\n",
       "\t<tr><th scope=row>4</th><td>cohort.cohortGuidBR23</td><td> 0.063681226</td><td>0.06761780</td><td> 0.94178194</td><td>3.510202e-01</td><td>Age</td><td>ENTPD6 </td><td> 0.15037582</td><td> 0.058399538</td><td>1.00000000</td></tr>\n",
       "\t<tr><th scope=row>5</th><td>cohort.cohortGuidBR24</td><td>-0.007663344</td><td>0.19752234</td><td>-0.03879735</td><td>9.692129e-01</td><td>Age</td><td>CEACAM8</td><td>-0.03573175</td><td>-0.008413308</td><td>1.00000000</td></tr>\n",
       "\t<tr><th scope=row>6</th><td>cohort.cohortGuidBR25</td><td> 0.305021773</td><td>0.14688491</td><td> 2.07660387</td><td>4.321507e-02</td><td>Age</td><td>S100P  </td><td>         NA</td><td> 0.338451538</td><td>1.00000000</td></tr>\n",
       "</tbody>\n",
       "</table>\n"
      ],
      "text/latex": [
       "A data.frame: 6 × 10\n",
       "\\begin{tabular}{r|llllllllll}\n",
       "  & X & Estimate & Std..Error & t.value & Pr...t.. & factor & Assay & Log2FC\\_Age & diff & padj\\\\\n",
       "  & <chr> & <dbl> & <dbl> & <dbl> & <dbl> & <chr> & <chr> & <dbl> & <dbl> & <dbl>\\\\\n",
       "\\hline\n",
       "\t1 & cohort.cohortGuidBR2  &  0.014084760 & 0.32010931 &  0.04399985 & 9.650871e-01 & Age & GYS1    &  0.00997620 &  0.018938538 & 1.00000000\\\\\n",
       "\t2 & cohort.cohortGuidBR21 &  0.376308726 & 0.08035168 &  4.68327128 & 2.349236e-05 & Age & THPO    &  0.76754320 &  0.389521308 & 0.03371154\\\\\n",
       "\t3 & cohort.cohortGuidBR22 &  0.149121132 & 0.10279043 &  1.45072969 & 1.533592e-01 & Age & CLEC1A  &  0.27795947 &  0.150093769 & 1.00000000\\\\\n",
       "\t4 & cohort.cohortGuidBR23 &  0.063681226 & 0.06761780 &  0.94178194 & 3.510202e-01 & Age & ENTPD6  &  0.15037582 &  0.058399538 & 1.00000000\\\\\n",
       "\t5 & cohort.cohortGuidBR24 & -0.007663344 & 0.19752234 & -0.03879735 & 9.692129e-01 & Age & CEACAM8 & -0.03573175 & -0.008413308 & 1.00000000\\\\\n",
       "\t6 & cohort.cohortGuidBR25 &  0.305021773 & 0.14688491 &  2.07660387 & 4.321507e-02 & Age & S100P   &          NA &  0.338451538 & 1.00000000\\\\\n",
       "\\end{tabular}\n"
      ],
      "text/markdown": [
       "\n",
       "A data.frame: 6 × 10\n",
       "\n",
       "| <!--/--> | X &lt;chr&gt; | Estimate &lt;dbl&gt; | Std..Error &lt;dbl&gt; | t.value &lt;dbl&gt; | Pr...t.. &lt;dbl&gt; | factor &lt;chr&gt; | Assay &lt;chr&gt; | Log2FC_Age &lt;dbl&gt; | diff &lt;dbl&gt; | padj &lt;dbl&gt; |\n",
       "|---|---|---|---|---|---|---|---|---|---|---|\n",
       "| 1 | cohort.cohortGuidBR2  |  0.014084760 | 0.32010931 |  0.04399985 | 9.650871e-01 | Age | GYS1    |  0.00997620 |  0.018938538 | 1.00000000 |\n",
       "| 2 | cohort.cohortGuidBR21 |  0.376308726 | 0.08035168 |  4.68327128 | 2.349236e-05 | Age | THPO    |  0.76754320 |  0.389521308 | 0.03371154 |\n",
       "| 3 | cohort.cohortGuidBR22 |  0.149121132 | 0.10279043 |  1.45072969 | 1.533592e-01 | Age | CLEC1A  |  0.27795947 |  0.150093769 | 1.00000000 |\n",
       "| 4 | cohort.cohortGuidBR23 |  0.063681226 | 0.06761780 |  0.94178194 | 3.510202e-01 | Age | ENTPD6  |  0.15037582 |  0.058399538 | 1.00000000 |\n",
       "| 5 | cohort.cohortGuidBR24 | -0.007663344 | 0.19752234 | -0.03879735 | 9.692129e-01 | Age | CEACAM8 | -0.03573175 | -0.008413308 | 1.00000000 |\n",
       "| 6 | cohort.cohortGuidBR25 |  0.305021773 | 0.14688491 |  2.07660387 | 4.321507e-02 | Age | S100P   |          NA |  0.338451538 | 1.00000000 |\n",
       "\n"
      ],
      "text/plain": [
       "  X                     Estimate     Std..Error t.value     Pr...t..     factor\n",
       "1 cohort.cohortGuidBR2   0.014084760 0.32010931  0.04399985 9.650871e-01 Age   \n",
       "2 cohort.cohortGuidBR21  0.376308726 0.08035168  4.68327128 2.349236e-05 Age   \n",
       "3 cohort.cohortGuidBR22  0.149121132 0.10279043  1.45072969 1.533592e-01 Age   \n",
       "4 cohort.cohortGuidBR23  0.063681226 0.06761780  0.94178194 3.510202e-01 Age   \n",
       "5 cohort.cohortGuidBR24 -0.007663344 0.19752234 -0.03879735 9.692129e-01 Age   \n",
       "6 cohort.cohortGuidBR25  0.305021773 0.14688491  2.07660387 4.321507e-02 Age   \n",
       "  Assay   Log2FC_Age  diff         padj      \n",
       "1 GYS1     0.00997620  0.018938538 1.00000000\n",
       "2 THPO     0.76754320  0.389521308 0.03371154\n",
       "3 CLEC1A   0.27795947  0.150093769 1.00000000\n",
       "4 ENTPD6   0.15037582  0.058399538 1.00000000\n",
       "5 CEACAM8 -0.03573175 -0.008413308 1.00000000\n",
       "6 S100P            NA  0.338451538 1.00000000"
      ]
     },
     "metadata": {},
     "output_type": "display_data"
    }
   ],
   "source": [
    "female_olink <- read.csv(\"/home/jupyter/IH-A-Aging-Analysis-Notebooks_old/Mansi_Notebooks/scRNA/Olink_analysis/CSVs/res_all_age_Female.csv\")\n",
    "head(female_olink)"
   ]
  },
  {
   "cell_type": "markdown",
   "id": "002c7054-c0f1-4731-b569-e9957b475a90",
   "metadata": {
    "tags": []
   },
   "source": [
    "## Male olink volcano plots"
   ]
  },
  {
   "cell_type": "code",
   "execution_count": 40,
   "id": "cb3ed15b-b552-403b-abf6-1c35fd1c32ff",
   "metadata": {
    "tags": []
   },
   "outputs": [
    {
     "data": {
      "text/html": [
       "<table class=\"dataframe\">\n",
       "<caption>A data.frame: 1472 × 11</caption>\n",
       "<thead>\n",
       "\t<tr><th scope=col>X</th><th scope=col>Estimate</th><th scope=col>Std..Error</th><th scope=col>t.value</th><th scope=col>Pr...t..</th><th scope=col>factor</th><th scope=col>Assay</th><th scope=col>Log2FC_Age</th><th scope=col>diff</th><th scope=col>padj</th><th scope=col>Expression</th></tr>\n",
       "\t<tr><th scope=col>&lt;chr&gt;</th><th scope=col>&lt;dbl&gt;</th><th scope=col>&lt;dbl&gt;</th><th scope=col>&lt;dbl&gt;</th><th scope=col>&lt;dbl&gt;</th><th scope=col>&lt;chr&gt;</th><th scope=col>&lt;chr&gt;</th><th scope=col>&lt;dbl&gt;</th><th scope=col>&lt;dbl&gt;</th><th scope=col>&lt;dbl&gt;</th><th scope=col>&lt;chr&gt;</th></tr>\n",
       "</thead>\n",
       "<tbody>\n",
       "\t<tr><td>cohort.cohortGuidBR2  </td><td>-0.314046839</td><td>0.31248657</td><td>-1.004993091</td><td>0.321257122</td><td>Age</td><td>GYS1    </td><td>-0.160276691</td><td>-0.317386667</td><td>1.0000000</td><td>Unchanged</td></tr>\n",
       "\t<tr><td>cohort.cohortGuidBR21 </td><td> 0.104450575</td><td>0.10524958</td><td> 0.992408518</td><td>0.327275868</td><td>Age</td><td>THPO    </td><td> 0.186720204</td><td> 0.103853333</td><td>1.0000000</td><td>Unchanged</td></tr>\n",
       "\t<tr><td>cohort.cohortGuidBR22 </td><td> 0.137813793</td><td>0.11562005</td><td> 1.191954124</td><td>0.240670187</td><td>Age</td><td>CLEC1A  </td><td> 0.216175859</td><td> 0.140088095</td><td>1.0000000</td><td>Unchanged</td></tr>\n",
       "\t<tr><td>cohort.cohortGuidBR23 </td><td>-0.008954310</td><td>0.08605757</td><td>-0.104050230</td><td>0.917676726</td><td>Age</td><td>ENTPD6  </td><td>-0.024608346</td><td>-0.009962381</td><td>1.0000000</td><td>Unchanged</td></tr>\n",
       "\t<tr><td>cohort.cohortGuidBR24 </td><td> 0.182160057</td><td>0.17814645</td><td> 1.022529795</td><td>0.312996050</td><td>Age</td><td>CEACAM8 </td><td> 0.649687131</td><td> 0.178448095</td><td>1.0000000</td><td>Unchanged</td></tr>\n",
       "\t<tr><td>cohort.cohortGuidBR25 </td><td> 0.287954310</td><td>0.15958606</td><td> 1.804382608</td><td>0.079101812</td><td>Age</td><td>S100P   </td><td> 0.958402164</td><td> 0.287649286</td><td>1.0000000</td><td>Unchanged</td></tr>\n",
       "\t<tr><td>cohort.cohortGuidBR26 </td><td> 0.012015805</td><td>0.12023199</td><td> 0.099938502</td><td>0.920918548</td><td>Age</td><td>ENTPD5  </td><td> 0.034166579</td><td> 0.010353333</td><td>1.0000000</td><td>Unchanged</td></tr>\n",
       "\t<tr><td>cohort.cohortGuidBR27 </td><td> 0.018852730</td><td>0.12329518</td><td> 0.152907279</td><td>0.879280462</td><td>Age</td><td>ACE2    </td><td> 0.210830263</td><td> 0.013001190</td><td>1.0000000</td><td>Unchanged</td></tr>\n",
       "\t<tr><td>cohort.cohortGuidBR28 </td><td> 0.140673420</td><td>0.09421079</td><td> 1.493177345</td><td>0.143648038</td><td>Age</td><td>DCN     </td><td> 1.479951366</td><td> 0.141149048</td><td>1.0000000</td><td>Unchanged</td></tr>\n",
       "\t<tr><td>cohort.cohortGuidBR29 </td><td>-0.189847126</td><td>0.22172238</td><td>-0.856237985</td><td>0.397233469</td><td>Age</td><td>GLO1    </td><td> 0.574854223</td><td>-0.186465476</td><td>1.0000000</td><td>Unchanged</td></tr>\n",
       "\t<tr><td>cohort.cohortGuidBR210</td><td>-0.211157328</td><td>0.19883675</td><td>-1.061963296</td><td>0.294955141</td><td>Age</td><td>USP8    </td><td> 0.252184419</td><td>-0.213675952</td><td>1.0000000</td><td>Unchanged</td></tr>\n",
       "\t<tr><td>cohort.cohortGuidBR211</td><td> 0.083379023</td><td>0.10086426</td><td> 0.826645876</td><td>0.413598454</td><td>Age</td><td>BMP6    </td><td> 0.269329220</td><td> 0.082001190</td><td>1.0000000</td><td>Unchanged</td></tr>\n",
       "\t<tr><td>cohort.cohortGuidBR212</td><td>-0.001673276</td><td>0.31301333</td><td>-0.005345702</td><td>0.995762733</td><td>Age</td><td>ITGB1BP2</td><td> 0.001989709</td><td> 0.002915714</td><td>1.0000000</td><td>Unchanged</td></tr>\n",
       "\t<tr><td>cohort.cohortGuidBR213</td><td> 0.296505029</td><td>0.24310103</td><td> 1.219678215</td><td>0.230103133</td><td>Age</td><td>CTSH    </td><td> 2.213795904</td><td> 0.302760000</td><td>1.0000000</td><td>Unchanged</td></tr>\n",
       "\t<tr><td>cohort.cohortGuidBR214</td><td>-0.001573276</td><td>0.08778050</td><td>-0.017922841</td><td>0.985794184</td><td>Age</td><td>BAG6    </td><td> 0.004285429</td><td> 0.002127619</td><td>1.0000000</td><td>Unchanged</td></tr>\n",
       "\t<tr><td>cohort.cohortGuidBR215</td><td>-0.354302586</td><td>0.15058543</td><td>-2.352834474</td><td>0.023909949</td><td>Age</td><td>MSTN    </td><td>-0.479800263</td><td>-0.352116667</td><td>1.0000000</td><td>Unchanged</td></tr>\n",
       "\t<tr><td>cohort.cohortGuidBR216</td><td>-0.197096408</td><td>0.07898550</td><td>-2.495349391</td><td>0.017043713</td><td>Age</td><td>BOC     </td><td>-0.561340234</td><td>-0.198522381</td><td>1.0000000</td><td>Unchanged</td></tr>\n",
       "\t<tr><td>cohort.cohortGuidBR217</td><td>-0.115395977</td><td>0.36882983</td><td>-0.312870513</td><td>0.756089748</td><td>Age</td><td>ADH4    </td><td> 0.607544530</td><td>-0.104735238</td><td>1.0000000</td><td>Unchanged</td></tr>\n",
       "\t<tr><td>cohort.cohortGuidBR218</td><td> 0.026154741</td><td>0.09361933</td><td> 0.279373313</td><td>0.781473338</td><td>Age</td><td>CLTA    </td><td> 0.094586398</td><td> 0.026898810</td><td>1.0000000</td><td>Unchanged</td></tr>\n",
       "\t<tr><td>cohort.cohortGuidBR219</td><td>-0.103573563</td><td>0.21783964</td><td>-0.475457833</td><td>0.637182505</td><td>Age</td><td>EPHX2   </td><td>-2.070150617</td><td>-0.101290000</td><td>1.0000000</td><td>Unchanged</td></tr>\n",
       "\t<tr><td>cohort.cohortGuidBR220</td><td>-0.065682902</td><td>0.10233949</td><td>-0.641813849</td><td>0.524847026</td><td>Age</td><td>TP53INP1</td><td>-0.324121088</td><td>-0.069193571</td><td>1.0000000</td><td>Unchanged</td></tr>\n",
       "\t<tr><td>cohort.cohortGuidBR221</td><td>-0.064915661</td><td>0.10506201</td><td>-0.617879460</td><td>0.540340437</td><td>Age</td><td>ZBTB17  </td><td>-0.264999136</td><td>-0.061908095</td><td>1.0000000</td><td>Unchanged</td></tr>\n",
       "\t<tr><td>cohort.cohortGuidBR222</td><td> 0.141267098</td><td>0.24162102</td><td> 0.584663936</td><td>0.562229242</td><td>Age</td><td>PTN     </td><td> 0.181384005</td><td> 0.140035952</td><td>1.0000000</td><td>Unchanged</td></tr>\n",
       "\t<tr><td>cohort.cohortGuidBR223</td><td> 0.338211368</td><td>0.25480546</td><td> 1.327331733</td><td>0.195937118</td><td>Age</td><td>CEP43   </td><td> 0.724029922</td><td> 0.335145192</td><td>1.0000000</td><td>Unchanged</td></tr>\n",
       "\t<tr><td>cohort.cohortGuidBR224</td><td>-0.272865124</td><td>0.40839675</td><td>-0.668137349</td><td>0.509934225</td><td>Age</td><td>IRAG2   </td><td>-0.351821600</td><td>-0.269282212</td><td>1.0000000</td><td>Unchanged</td></tr>\n",
       "\t<tr><td>cohort.cohortGuidBR225</td><td>-0.150940086</td><td>0.23237518</td><td>-0.649553378</td><td>0.519888068</td><td>Age</td><td>COMT    </td><td>-0.232586141</td><td>-0.153773333</td><td>1.0000000</td><td>Unchanged</td></tr>\n",
       "\t<tr><td>cohort.cohortGuidBR226</td><td> 0.025869971</td><td>0.13935146</td><td> 0.185645503</td><td>0.853710184</td><td>Age</td><td>MMP7    </td><td>-0.024309683</td><td> 0.026333810</td><td>1.0000000</td><td>Unchanged</td></tr>\n",
       "\t<tr><td>cohort.cohortGuidBR227</td><td> 0.023365805</td><td>0.13013012</td><td> 0.179557240</td><td>0.858454224</td><td>Age</td><td>PON2    </td><td> 0.208654025</td><td> 0.023103571</td><td>1.0000000</td><td>Unchanged</td></tr>\n",
       "\t<tr><td>cohort.cohortGuidBR228</td><td> 0.346231178</td><td>0.08950482</td><td> 3.868296394</td><td>0.000416545</td><td>Age</td><td>ADAMTS16</td><td>          NA</td><td> 0.349326667</td><td>0.6019075</td><td>Unchanged</td></tr>\n",
       "\t<tr><td>cohort.cohortGuidBR229</td><td> 0.344966954</td><td>0.29971034</td><td> 1.151001162</td><td>0.256922993</td><td>Age</td><td>GP2     </td><td> 0.311432416</td><td> 0.349346905</td><td>1.0000000</td><td>Unchanged</td></tr>\n",
       "\t<tr><td>⋮</td><td>⋮</td><td>⋮</td><td>⋮</td><td>⋮</td><td>⋮</td><td>⋮</td><td>⋮</td><td>⋮</td><td>⋮</td><td>⋮</td></tr>\n",
       "\t<tr><td>cohort.cohortGuidBR21442</td><td> 0.1790591954</td><td>0.33698281</td><td> 0.531360027</td><td>5.982619e-01</td><td>Age</td><td>FYB1    </td><td> 0.097396135</td><td> 0.176319762</td><td>1.00000000</td><td>Unchanged       </td></tr>\n",
       "\t<tr><td>cohort.cohortGuidBR21443</td><td> 0.1282920977</td><td>0.14882255</td><td> 0.862047415</td><td>3.940691e-01</td><td>Age</td><td>BLVRB   </td><td> 0.147184652</td><td> 0.129009048</td><td>1.00000000</td><td>Unchanged       </td></tr>\n",
       "\t<tr><td>cohort.cohortGuidBR21444</td><td> 0.0614441092</td><td>0.09459949</td><td> 0.649518413</td><td>5.199104e-01</td><td>Age</td><td>RELT    </td><td> 0.397489610</td><td> 0.062961667</td><td>1.00000000</td><td>Unchanged       </td></tr>\n",
       "\t<tr><td>cohort.cohortGuidBR21445</td><td> 0.0723613506</td><td>0.17059017</td><td> 0.424182407</td><td>6.738246e-01</td><td>Age</td><td>DBI     </td><td> 0.275287544</td><td> 0.073123333</td><td>1.00000000</td><td>Unchanged       </td></tr>\n",
       "\t<tr><td>cohort.cohortGuidBR21446</td><td> 0.3378477011</td><td>0.13239482</td><td> 2.551819677</td><td>1.486110e-02</td><td>Age</td><td>VSIG4   </td><td>          NA</td><td> 0.346483810</td><td>1.00000000</td><td>Unchanged       </td></tr>\n",
       "\t<tr><td>cohort.cohortGuidBR21447</td><td> 0.1927225575</td><td>0.11941975</td><td> 1.613824831</td><td>1.148401e-01</td><td>Age</td><td>TNFRSF1B</td><td>          NA</td><td> 0.195944048</td><td>1.00000000</td><td>Unchanged       </td></tr>\n",
       "\t<tr><td>cohort.cohortGuidBR21448</td><td> 0.3414762931</td><td>0.07681033</td><td> 4.445708214</td><td>7.371078e-05</td><td>Age</td><td>IGF2R   </td><td>          NA</td><td> 0.339938333</td><td>0.10724919</td><td>Unchanged       </td></tr>\n",
       "\t<tr><td>cohort.cohortGuidBR21449</td><td> 0.5161935345</td><td>0.13547307</td><td> 3.810303747</td><td>4.936243e-04</td><td>Age</td><td>TIMP4   </td><td>          NA</td><td> 0.518110952</td><td>0.71229992</td><td>Unchanged       </td></tr>\n",
       "\t<tr><td>cohort.cohortGuidBR21450</td><td>-0.0905022989</td><td>0.13065082</td><td>-0.692703667</td><td>4.927074e-01</td><td>Age</td><td>SPINK5  </td><td>-0.523276634</td><td>-0.088391905</td><td>1.00000000</td><td>Unchanged       </td></tr>\n",
       "\t<tr><td>cohort.cohortGuidBR21451</td><td> 0.0287852011</td><td>0.18663876</td><td> 0.154229489</td><td>8.782450e-01</td><td>Age</td><td>CA2     </td><td> 0.017648859</td><td> 0.031710952</td><td>1.00000000</td><td>Unchanged       </td></tr>\n",
       "\t<tr><td>cohort.cohortGuidBR21452</td><td> 0.0550870690</td><td>0.14927605</td><td> 0.369028186</td><td>7.141550e-01</td><td>Age</td><td>CTRB1   </td><td> 0.099152078</td><td> 0.055636429</td><td>1.00000000</td><td>Unchanged       </td></tr>\n",
       "\t<tr><td>cohort.cohortGuidBR21453</td><td> 0.1432012931</td><td>0.15414994</td><td> 0.928974030</td><td>3.587664e-01</td><td>Age</td><td>F11R    </td><td> 0.450726054</td><td> 0.144481190</td><td>1.00000000</td><td>Unchanged       </td></tr>\n",
       "\t<tr><td>cohort.cohortGuidBR21454</td><td>-0.2752341954</td><td>0.21515069</td><td>-1.279262406</td><td>2.085612e-01</td><td>Age</td><td>LILRA2  </td><td>          NA</td><td>-0.279955476</td><td>1.00000000</td><td>Unchanged       </td></tr>\n",
       "\t<tr><td>cohort.cohortGuidBR21455</td><td> 0.1442609195</td><td>0.07936969</td><td> 1.817582035</td><td>7.701938e-02</td><td>Age</td><td>PAMR1   </td><td> 0.639812639</td><td> 0.141655238</td><td>1.00000000</td><td>Unchanged       </td></tr>\n",
       "\t<tr><td>cohort.cohortGuidBR21456</td><td> 0.2616011494</td><td>0.15437821</td><td> 1.694547098</td><td>9.834306e-02</td><td>Age</td><td>TFF1    </td><td>-1.161865305</td><td> 0.265195000</td><td>1.00000000</td><td>Unchanged       </td></tr>\n",
       "\t<tr><td>cohort.cohortGuidBR21457</td><td> 0.1948380747</td><td>0.10108366</td><td> 1.927493179</td><td>6.141784e-02</td><td>Age</td><td>TNFRSF1A</td><td> 2.523092641</td><td> 0.198573571</td><td>1.00000000</td><td>Unchanged       </td></tr>\n",
       "\t<tr><td>cohort.cohortGuidBR21458</td><td>-0.0470142241</td><td>0.20086293</td><td>-0.234061224</td><td>8.161939e-01</td><td>Age</td><td>CLPS    </td><td>-0.119265823</td><td>-0.049367619</td><td>1.00000000</td><td>Unchanged       </td></tr>\n",
       "\t<tr><td>cohort.cohortGuidBR21459</td><td>-0.0486277299</td><td>0.10090773</td><td>-0.481902917</td><td>6.326389e-01</td><td>Age</td><td>STC2    </td><td>-0.363357973</td><td>-0.047381905</td><td>1.00000000</td><td>Unchanged       </td></tr>\n",
       "\t<tr><td>cohort.cohortGuidBR21460</td><td> 0.6393133621</td><td>0.13252258</td><td> 4.824184567</td><td>2.295816e-05</td><td>Age</td><td>IGFBP4  </td><td>          NA</td><td> 0.644074286</td><td>0.03354187</td><td>Up-regulated-BR2</td></tr>\n",
       "\t<tr><td>cohort.cohortGuidBR21461</td><td> 0.0802097665</td><td>0.08177713</td><td> 0.980833666</td><td>3.338113e-01</td><td>Age</td><td>GRN     </td><td> 0.535953836</td><td> 0.080233127</td><td>1.00000000</td><td>Unchanged       </td></tr>\n",
       "\t<tr><td>cohort.cohortGuidBR21462</td><td> 0.0001573276</td><td>0.13178618</td><td> 0.001193809</td><td>9.990537e-01</td><td>Age</td><td>PARK7   </td><td> 0.002450528</td><td> 0.002165238</td><td>1.00000000</td><td>Unchanged       </td></tr>\n",
       "\t<tr><td>cohort.cohortGuidBR21463</td><td>-0.0693428571</td><td>0.16776556</td><td>-0.413331903</td><td>6.890380e-01</td><td>Age</td><td>CASC4   </td><td>-0.485853638</td><td>-0.089412500</td><td>1.00000000</td><td>Unchanged       </td></tr>\n",
       "\t<tr><td>cohort.cohortGuidBR21464</td><td> 0.4147714286</td><td>0.17504056</td><td> 2.369573301</td><td>4.193828e-02</td><td>Age</td><td>WISP2   </td><td> 1.171799353</td><td> 0.447075000</td><td>1.00000000</td><td>Unchanged       </td></tr>\n",
       "\t<tr><td>cohort.cohortGuidBR21465</td><td>-0.1675142857</td><td>0.30146338</td><td>-0.555670425</td><td>5.919789e-01</td><td>Age</td><td>HARS    </td><td>-0.184072826</td><td>-0.137325000</td><td>1.00000000</td><td>Unchanged       </td></tr>\n",
       "\t<tr><td>cohort.cohortGuidBR21466</td><td>-0.6346333333</td><td>0.38386006</td><td>-1.653293479</td><td>1.326607e-01</td><td>Age</td><td>DARS    </td><td>-0.811934639</td><td>-0.592400000</td><td>1.00000000</td><td>Unchanged       </td></tr>\n",
       "\t<tr><td>cohort.cohortGuidBR21467</td><td> 0.0701190476</td><td>0.14640745</td><td> 0.478930856</td><td>6.434095e-01</td><td>Age</td><td>WISP1   </td><td> 0.264124290</td><td> 0.077537500</td><td>1.00000000</td><td>Unchanged       </td></tr>\n",
       "\t<tr><td>cohort.cohortGuidBR21468</td><td>-0.9857095238</td><td>0.63345231</td><td>-1.556091128</td><td>1.541106e-01</td><td>Age</td><td>FOPNL   </td><td>          NA</td><td>-0.898737500</td><td>1.00000000</td><td>Unchanged       </td></tr>\n",
       "\t<tr><td>cohort.cohortGuidBR21469</td><td> 0.3142190476</td><td>0.23344848</td><td> 1.345988833</td><td>2.112275e-01</td><td>Age</td><td>CD97    </td><td> 1.511071413</td><td> 0.283337500</td><td>1.00000000</td><td>Unchanged       </td></tr>\n",
       "\t<tr><td>cohort.cohortGuidBR21470</td><td>-0.0700714286</td><td>0.26656475</td><td>-0.262868326</td><td>7.985707e-01</td><td>Age</td><td>LRMP    </td><td>-0.269697103</td><td>-0.099175000</td><td>1.00000000</td><td>Unchanged       </td></tr>\n",
       "\t<tr><td>cohort.cohortGuidBR21471</td><td>-0.4395714286</td><td>0.30472169</td><td>-1.442534078</td><td>1.830342e-01</td><td>Age</td><td>FGFR1OP </td><td>-1.023727087</td><td>-0.367600000</td><td>1.00000000</td><td>Unchanged       </td></tr>\n",
       "</tbody>\n",
       "</table>\n"
      ],
      "text/latex": [
       "A data.frame: 1472 × 11\n",
       "\\begin{tabular}{lllllllllll}\n",
       " X & Estimate & Std..Error & t.value & Pr...t.. & factor & Assay & Log2FC\\_Age & diff & padj & Expression\\\\\n",
       " <chr> & <dbl> & <dbl> & <dbl> & <dbl> & <chr> & <chr> & <dbl> & <dbl> & <dbl> & <chr>\\\\\n",
       "\\hline\n",
       "\t cohort.cohortGuidBR2   & -0.314046839 & 0.31248657 & -1.004993091 & 0.321257122 & Age & GYS1     & -0.160276691 & -0.317386667 & 1.0000000 & Unchanged\\\\\n",
       "\t cohort.cohortGuidBR21  &  0.104450575 & 0.10524958 &  0.992408518 & 0.327275868 & Age & THPO     &  0.186720204 &  0.103853333 & 1.0000000 & Unchanged\\\\\n",
       "\t cohort.cohortGuidBR22  &  0.137813793 & 0.11562005 &  1.191954124 & 0.240670187 & Age & CLEC1A   &  0.216175859 &  0.140088095 & 1.0000000 & Unchanged\\\\\n",
       "\t cohort.cohortGuidBR23  & -0.008954310 & 0.08605757 & -0.104050230 & 0.917676726 & Age & ENTPD6   & -0.024608346 & -0.009962381 & 1.0000000 & Unchanged\\\\\n",
       "\t cohort.cohortGuidBR24  &  0.182160057 & 0.17814645 &  1.022529795 & 0.312996050 & Age & CEACAM8  &  0.649687131 &  0.178448095 & 1.0000000 & Unchanged\\\\\n",
       "\t cohort.cohortGuidBR25  &  0.287954310 & 0.15958606 &  1.804382608 & 0.079101812 & Age & S100P    &  0.958402164 &  0.287649286 & 1.0000000 & Unchanged\\\\\n",
       "\t cohort.cohortGuidBR26  &  0.012015805 & 0.12023199 &  0.099938502 & 0.920918548 & Age & ENTPD5   &  0.034166579 &  0.010353333 & 1.0000000 & Unchanged\\\\\n",
       "\t cohort.cohortGuidBR27  &  0.018852730 & 0.12329518 &  0.152907279 & 0.879280462 & Age & ACE2     &  0.210830263 &  0.013001190 & 1.0000000 & Unchanged\\\\\n",
       "\t cohort.cohortGuidBR28  &  0.140673420 & 0.09421079 &  1.493177345 & 0.143648038 & Age & DCN      &  1.479951366 &  0.141149048 & 1.0000000 & Unchanged\\\\\n",
       "\t cohort.cohortGuidBR29  & -0.189847126 & 0.22172238 & -0.856237985 & 0.397233469 & Age & GLO1     &  0.574854223 & -0.186465476 & 1.0000000 & Unchanged\\\\\n",
       "\t cohort.cohortGuidBR210 & -0.211157328 & 0.19883675 & -1.061963296 & 0.294955141 & Age & USP8     &  0.252184419 & -0.213675952 & 1.0000000 & Unchanged\\\\\n",
       "\t cohort.cohortGuidBR211 &  0.083379023 & 0.10086426 &  0.826645876 & 0.413598454 & Age & BMP6     &  0.269329220 &  0.082001190 & 1.0000000 & Unchanged\\\\\n",
       "\t cohort.cohortGuidBR212 & -0.001673276 & 0.31301333 & -0.005345702 & 0.995762733 & Age & ITGB1BP2 &  0.001989709 &  0.002915714 & 1.0000000 & Unchanged\\\\\n",
       "\t cohort.cohortGuidBR213 &  0.296505029 & 0.24310103 &  1.219678215 & 0.230103133 & Age & CTSH     &  2.213795904 &  0.302760000 & 1.0000000 & Unchanged\\\\\n",
       "\t cohort.cohortGuidBR214 & -0.001573276 & 0.08778050 & -0.017922841 & 0.985794184 & Age & BAG6     &  0.004285429 &  0.002127619 & 1.0000000 & Unchanged\\\\\n",
       "\t cohort.cohortGuidBR215 & -0.354302586 & 0.15058543 & -2.352834474 & 0.023909949 & Age & MSTN     & -0.479800263 & -0.352116667 & 1.0000000 & Unchanged\\\\\n",
       "\t cohort.cohortGuidBR216 & -0.197096408 & 0.07898550 & -2.495349391 & 0.017043713 & Age & BOC      & -0.561340234 & -0.198522381 & 1.0000000 & Unchanged\\\\\n",
       "\t cohort.cohortGuidBR217 & -0.115395977 & 0.36882983 & -0.312870513 & 0.756089748 & Age & ADH4     &  0.607544530 & -0.104735238 & 1.0000000 & Unchanged\\\\\n",
       "\t cohort.cohortGuidBR218 &  0.026154741 & 0.09361933 &  0.279373313 & 0.781473338 & Age & CLTA     &  0.094586398 &  0.026898810 & 1.0000000 & Unchanged\\\\\n",
       "\t cohort.cohortGuidBR219 & -0.103573563 & 0.21783964 & -0.475457833 & 0.637182505 & Age & EPHX2    & -2.070150617 & -0.101290000 & 1.0000000 & Unchanged\\\\\n",
       "\t cohort.cohortGuidBR220 & -0.065682902 & 0.10233949 & -0.641813849 & 0.524847026 & Age & TP53INP1 & -0.324121088 & -0.069193571 & 1.0000000 & Unchanged\\\\\n",
       "\t cohort.cohortGuidBR221 & -0.064915661 & 0.10506201 & -0.617879460 & 0.540340437 & Age & ZBTB17   & -0.264999136 & -0.061908095 & 1.0000000 & Unchanged\\\\\n",
       "\t cohort.cohortGuidBR222 &  0.141267098 & 0.24162102 &  0.584663936 & 0.562229242 & Age & PTN      &  0.181384005 &  0.140035952 & 1.0000000 & Unchanged\\\\\n",
       "\t cohort.cohortGuidBR223 &  0.338211368 & 0.25480546 &  1.327331733 & 0.195937118 & Age & CEP43    &  0.724029922 &  0.335145192 & 1.0000000 & Unchanged\\\\\n",
       "\t cohort.cohortGuidBR224 & -0.272865124 & 0.40839675 & -0.668137349 & 0.509934225 & Age & IRAG2    & -0.351821600 & -0.269282212 & 1.0000000 & Unchanged\\\\\n",
       "\t cohort.cohortGuidBR225 & -0.150940086 & 0.23237518 & -0.649553378 & 0.519888068 & Age & COMT     & -0.232586141 & -0.153773333 & 1.0000000 & Unchanged\\\\\n",
       "\t cohort.cohortGuidBR226 &  0.025869971 & 0.13935146 &  0.185645503 & 0.853710184 & Age & MMP7     & -0.024309683 &  0.026333810 & 1.0000000 & Unchanged\\\\\n",
       "\t cohort.cohortGuidBR227 &  0.023365805 & 0.13013012 &  0.179557240 & 0.858454224 & Age & PON2     &  0.208654025 &  0.023103571 & 1.0000000 & Unchanged\\\\\n",
       "\t cohort.cohortGuidBR228 &  0.346231178 & 0.08950482 &  3.868296394 & 0.000416545 & Age & ADAMTS16 &           NA &  0.349326667 & 0.6019075 & Unchanged\\\\\n",
       "\t cohort.cohortGuidBR229 &  0.344966954 & 0.29971034 &  1.151001162 & 0.256922993 & Age & GP2      &  0.311432416 &  0.349346905 & 1.0000000 & Unchanged\\\\\n",
       "\t ⋮ & ⋮ & ⋮ & ⋮ & ⋮ & ⋮ & ⋮ & ⋮ & ⋮ & ⋮ & ⋮\\\\\n",
       "\t cohort.cohortGuidBR21442 &  0.1790591954 & 0.33698281 &  0.531360027 & 5.982619e-01 & Age & FYB1     &  0.097396135 &  0.176319762 & 1.00000000 & Unchanged       \\\\\n",
       "\t cohort.cohortGuidBR21443 &  0.1282920977 & 0.14882255 &  0.862047415 & 3.940691e-01 & Age & BLVRB    &  0.147184652 &  0.129009048 & 1.00000000 & Unchanged       \\\\\n",
       "\t cohort.cohortGuidBR21444 &  0.0614441092 & 0.09459949 &  0.649518413 & 5.199104e-01 & Age & RELT     &  0.397489610 &  0.062961667 & 1.00000000 & Unchanged       \\\\\n",
       "\t cohort.cohortGuidBR21445 &  0.0723613506 & 0.17059017 &  0.424182407 & 6.738246e-01 & Age & DBI      &  0.275287544 &  0.073123333 & 1.00000000 & Unchanged       \\\\\n",
       "\t cohort.cohortGuidBR21446 &  0.3378477011 & 0.13239482 &  2.551819677 & 1.486110e-02 & Age & VSIG4    &           NA &  0.346483810 & 1.00000000 & Unchanged       \\\\\n",
       "\t cohort.cohortGuidBR21447 &  0.1927225575 & 0.11941975 &  1.613824831 & 1.148401e-01 & Age & TNFRSF1B &           NA &  0.195944048 & 1.00000000 & Unchanged       \\\\\n",
       "\t cohort.cohortGuidBR21448 &  0.3414762931 & 0.07681033 &  4.445708214 & 7.371078e-05 & Age & IGF2R    &           NA &  0.339938333 & 0.10724919 & Unchanged       \\\\\n",
       "\t cohort.cohortGuidBR21449 &  0.5161935345 & 0.13547307 &  3.810303747 & 4.936243e-04 & Age & TIMP4    &           NA &  0.518110952 & 0.71229992 & Unchanged       \\\\\n",
       "\t cohort.cohortGuidBR21450 & -0.0905022989 & 0.13065082 & -0.692703667 & 4.927074e-01 & Age & SPINK5   & -0.523276634 & -0.088391905 & 1.00000000 & Unchanged       \\\\\n",
       "\t cohort.cohortGuidBR21451 &  0.0287852011 & 0.18663876 &  0.154229489 & 8.782450e-01 & Age & CA2      &  0.017648859 &  0.031710952 & 1.00000000 & Unchanged       \\\\\n",
       "\t cohort.cohortGuidBR21452 &  0.0550870690 & 0.14927605 &  0.369028186 & 7.141550e-01 & Age & CTRB1    &  0.099152078 &  0.055636429 & 1.00000000 & Unchanged       \\\\\n",
       "\t cohort.cohortGuidBR21453 &  0.1432012931 & 0.15414994 &  0.928974030 & 3.587664e-01 & Age & F11R     &  0.450726054 &  0.144481190 & 1.00000000 & Unchanged       \\\\\n",
       "\t cohort.cohortGuidBR21454 & -0.2752341954 & 0.21515069 & -1.279262406 & 2.085612e-01 & Age & LILRA2   &           NA & -0.279955476 & 1.00000000 & Unchanged       \\\\\n",
       "\t cohort.cohortGuidBR21455 &  0.1442609195 & 0.07936969 &  1.817582035 & 7.701938e-02 & Age & PAMR1    &  0.639812639 &  0.141655238 & 1.00000000 & Unchanged       \\\\\n",
       "\t cohort.cohortGuidBR21456 &  0.2616011494 & 0.15437821 &  1.694547098 & 9.834306e-02 & Age & TFF1     & -1.161865305 &  0.265195000 & 1.00000000 & Unchanged       \\\\\n",
       "\t cohort.cohortGuidBR21457 &  0.1948380747 & 0.10108366 &  1.927493179 & 6.141784e-02 & Age & TNFRSF1A &  2.523092641 &  0.198573571 & 1.00000000 & Unchanged       \\\\\n",
       "\t cohort.cohortGuidBR21458 & -0.0470142241 & 0.20086293 & -0.234061224 & 8.161939e-01 & Age & CLPS     & -0.119265823 & -0.049367619 & 1.00000000 & Unchanged       \\\\\n",
       "\t cohort.cohortGuidBR21459 & -0.0486277299 & 0.10090773 & -0.481902917 & 6.326389e-01 & Age & STC2     & -0.363357973 & -0.047381905 & 1.00000000 & Unchanged       \\\\\n",
       "\t cohort.cohortGuidBR21460 &  0.6393133621 & 0.13252258 &  4.824184567 & 2.295816e-05 & Age & IGFBP4   &           NA &  0.644074286 & 0.03354187 & Up-regulated-BR2\\\\\n",
       "\t cohort.cohortGuidBR21461 &  0.0802097665 & 0.08177713 &  0.980833666 & 3.338113e-01 & Age & GRN      &  0.535953836 &  0.080233127 & 1.00000000 & Unchanged       \\\\\n",
       "\t cohort.cohortGuidBR21462 &  0.0001573276 & 0.13178618 &  0.001193809 & 9.990537e-01 & Age & PARK7    &  0.002450528 &  0.002165238 & 1.00000000 & Unchanged       \\\\\n",
       "\t cohort.cohortGuidBR21463 & -0.0693428571 & 0.16776556 & -0.413331903 & 6.890380e-01 & Age & CASC4    & -0.485853638 & -0.089412500 & 1.00000000 & Unchanged       \\\\\n",
       "\t cohort.cohortGuidBR21464 &  0.4147714286 & 0.17504056 &  2.369573301 & 4.193828e-02 & Age & WISP2    &  1.171799353 &  0.447075000 & 1.00000000 & Unchanged       \\\\\n",
       "\t cohort.cohortGuidBR21465 & -0.1675142857 & 0.30146338 & -0.555670425 & 5.919789e-01 & Age & HARS     & -0.184072826 & -0.137325000 & 1.00000000 & Unchanged       \\\\\n",
       "\t cohort.cohortGuidBR21466 & -0.6346333333 & 0.38386006 & -1.653293479 & 1.326607e-01 & Age & DARS     & -0.811934639 & -0.592400000 & 1.00000000 & Unchanged       \\\\\n",
       "\t cohort.cohortGuidBR21467 &  0.0701190476 & 0.14640745 &  0.478930856 & 6.434095e-01 & Age & WISP1    &  0.264124290 &  0.077537500 & 1.00000000 & Unchanged       \\\\\n",
       "\t cohort.cohortGuidBR21468 & -0.9857095238 & 0.63345231 & -1.556091128 & 1.541106e-01 & Age & FOPNL    &           NA & -0.898737500 & 1.00000000 & Unchanged       \\\\\n",
       "\t cohort.cohortGuidBR21469 &  0.3142190476 & 0.23344848 &  1.345988833 & 2.112275e-01 & Age & CD97     &  1.511071413 &  0.283337500 & 1.00000000 & Unchanged       \\\\\n",
       "\t cohort.cohortGuidBR21470 & -0.0700714286 & 0.26656475 & -0.262868326 & 7.985707e-01 & Age & LRMP     & -0.269697103 & -0.099175000 & 1.00000000 & Unchanged       \\\\\n",
       "\t cohort.cohortGuidBR21471 & -0.4395714286 & 0.30472169 & -1.442534078 & 1.830342e-01 & Age & FGFR1OP  & -1.023727087 & -0.367600000 & 1.00000000 & Unchanged       \\\\\n",
       "\\end{tabular}\n"
      ],
      "text/markdown": [
       "\n",
       "A data.frame: 1472 × 11\n",
       "\n",
       "| X &lt;chr&gt; | Estimate &lt;dbl&gt; | Std..Error &lt;dbl&gt; | t.value &lt;dbl&gt; | Pr...t.. &lt;dbl&gt; | factor &lt;chr&gt; | Assay &lt;chr&gt; | Log2FC_Age &lt;dbl&gt; | diff &lt;dbl&gt; | padj &lt;dbl&gt; | Expression &lt;chr&gt; |\n",
       "|---|---|---|---|---|---|---|---|---|---|---|\n",
       "| cohort.cohortGuidBR2   | -0.314046839 | 0.31248657 | -1.004993091 | 0.321257122 | Age | GYS1     | -0.160276691 | -0.317386667 | 1.0000000 | Unchanged |\n",
       "| cohort.cohortGuidBR21  |  0.104450575 | 0.10524958 |  0.992408518 | 0.327275868 | Age | THPO     |  0.186720204 |  0.103853333 | 1.0000000 | Unchanged |\n",
       "| cohort.cohortGuidBR22  |  0.137813793 | 0.11562005 |  1.191954124 | 0.240670187 | Age | CLEC1A   |  0.216175859 |  0.140088095 | 1.0000000 | Unchanged |\n",
       "| cohort.cohortGuidBR23  | -0.008954310 | 0.08605757 | -0.104050230 | 0.917676726 | Age | ENTPD6   | -0.024608346 | -0.009962381 | 1.0000000 | Unchanged |\n",
       "| cohort.cohortGuidBR24  |  0.182160057 | 0.17814645 |  1.022529795 | 0.312996050 | Age | CEACAM8  |  0.649687131 |  0.178448095 | 1.0000000 | Unchanged |\n",
       "| cohort.cohortGuidBR25  |  0.287954310 | 0.15958606 |  1.804382608 | 0.079101812 | Age | S100P    |  0.958402164 |  0.287649286 | 1.0000000 | Unchanged |\n",
       "| cohort.cohortGuidBR26  |  0.012015805 | 0.12023199 |  0.099938502 | 0.920918548 | Age | ENTPD5   |  0.034166579 |  0.010353333 | 1.0000000 | Unchanged |\n",
       "| cohort.cohortGuidBR27  |  0.018852730 | 0.12329518 |  0.152907279 | 0.879280462 | Age | ACE2     |  0.210830263 |  0.013001190 | 1.0000000 | Unchanged |\n",
       "| cohort.cohortGuidBR28  |  0.140673420 | 0.09421079 |  1.493177345 | 0.143648038 | Age | DCN      |  1.479951366 |  0.141149048 | 1.0000000 | Unchanged |\n",
       "| cohort.cohortGuidBR29  | -0.189847126 | 0.22172238 | -0.856237985 | 0.397233469 | Age | GLO1     |  0.574854223 | -0.186465476 | 1.0000000 | Unchanged |\n",
       "| cohort.cohortGuidBR210 | -0.211157328 | 0.19883675 | -1.061963296 | 0.294955141 | Age | USP8     |  0.252184419 | -0.213675952 | 1.0000000 | Unchanged |\n",
       "| cohort.cohortGuidBR211 |  0.083379023 | 0.10086426 |  0.826645876 | 0.413598454 | Age | BMP6     |  0.269329220 |  0.082001190 | 1.0000000 | Unchanged |\n",
       "| cohort.cohortGuidBR212 | -0.001673276 | 0.31301333 | -0.005345702 | 0.995762733 | Age | ITGB1BP2 |  0.001989709 |  0.002915714 | 1.0000000 | Unchanged |\n",
       "| cohort.cohortGuidBR213 |  0.296505029 | 0.24310103 |  1.219678215 | 0.230103133 | Age | CTSH     |  2.213795904 |  0.302760000 | 1.0000000 | Unchanged |\n",
       "| cohort.cohortGuidBR214 | -0.001573276 | 0.08778050 | -0.017922841 | 0.985794184 | Age | BAG6     |  0.004285429 |  0.002127619 | 1.0000000 | Unchanged |\n",
       "| cohort.cohortGuidBR215 | -0.354302586 | 0.15058543 | -2.352834474 | 0.023909949 | Age | MSTN     | -0.479800263 | -0.352116667 | 1.0000000 | Unchanged |\n",
       "| cohort.cohortGuidBR216 | -0.197096408 | 0.07898550 | -2.495349391 | 0.017043713 | Age | BOC      | -0.561340234 | -0.198522381 | 1.0000000 | Unchanged |\n",
       "| cohort.cohortGuidBR217 | -0.115395977 | 0.36882983 | -0.312870513 | 0.756089748 | Age | ADH4     |  0.607544530 | -0.104735238 | 1.0000000 | Unchanged |\n",
       "| cohort.cohortGuidBR218 |  0.026154741 | 0.09361933 |  0.279373313 | 0.781473338 | Age | CLTA     |  0.094586398 |  0.026898810 | 1.0000000 | Unchanged |\n",
       "| cohort.cohortGuidBR219 | -0.103573563 | 0.21783964 | -0.475457833 | 0.637182505 | Age | EPHX2    | -2.070150617 | -0.101290000 | 1.0000000 | Unchanged |\n",
       "| cohort.cohortGuidBR220 | -0.065682902 | 0.10233949 | -0.641813849 | 0.524847026 | Age | TP53INP1 | -0.324121088 | -0.069193571 | 1.0000000 | Unchanged |\n",
       "| cohort.cohortGuidBR221 | -0.064915661 | 0.10506201 | -0.617879460 | 0.540340437 | Age | ZBTB17   | -0.264999136 | -0.061908095 | 1.0000000 | Unchanged |\n",
       "| cohort.cohortGuidBR222 |  0.141267098 | 0.24162102 |  0.584663936 | 0.562229242 | Age | PTN      |  0.181384005 |  0.140035952 | 1.0000000 | Unchanged |\n",
       "| cohort.cohortGuidBR223 |  0.338211368 | 0.25480546 |  1.327331733 | 0.195937118 | Age | CEP43    |  0.724029922 |  0.335145192 | 1.0000000 | Unchanged |\n",
       "| cohort.cohortGuidBR224 | -0.272865124 | 0.40839675 | -0.668137349 | 0.509934225 | Age | IRAG2    | -0.351821600 | -0.269282212 | 1.0000000 | Unchanged |\n",
       "| cohort.cohortGuidBR225 | -0.150940086 | 0.23237518 | -0.649553378 | 0.519888068 | Age | COMT     | -0.232586141 | -0.153773333 | 1.0000000 | Unchanged |\n",
       "| cohort.cohortGuidBR226 |  0.025869971 | 0.13935146 |  0.185645503 | 0.853710184 | Age | MMP7     | -0.024309683 |  0.026333810 | 1.0000000 | Unchanged |\n",
       "| cohort.cohortGuidBR227 |  0.023365805 | 0.13013012 |  0.179557240 | 0.858454224 | Age | PON2     |  0.208654025 |  0.023103571 | 1.0000000 | Unchanged |\n",
       "| cohort.cohortGuidBR228 |  0.346231178 | 0.08950482 |  3.868296394 | 0.000416545 | Age | ADAMTS16 |           NA |  0.349326667 | 0.6019075 | Unchanged |\n",
       "| cohort.cohortGuidBR229 |  0.344966954 | 0.29971034 |  1.151001162 | 0.256922993 | Age | GP2      |  0.311432416 |  0.349346905 | 1.0000000 | Unchanged |\n",
       "| ⋮ | ⋮ | ⋮ | ⋮ | ⋮ | ⋮ | ⋮ | ⋮ | ⋮ | ⋮ | ⋮ |\n",
       "| cohort.cohortGuidBR21442 |  0.1790591954 | 0.33698281 |  0.531360027 | 5.982619e-01 | Age | FYB1     |  0.097396135 |  0.176319762 | 1.00000000 | Unchanged        |\n",
       "| cohort.cohortGuidBR21443 |  0.1282920977 | 0.14882255 |  0.862047415 | 3.940691e-01 | Age | BLVRB    |  0.147184652 |  0.129009048 | 1.00000000 | Unchanged        |\n",
       "| cohort.cohortGuidBR21444 |  0.0614441092 | 0.09459949 |  0.649518413 | 5.199104e-01 | Age | RELT     |  0.397489610 |  0.062961667 | 1.00000000 | Unchanged        |\n",
       "| cohort.cohortGuidBR21445 |  0.0723613506 | 0.17059017 |  0.424182407 | 6.738246e-01 | Age | DBI      |  0.275287544 |  0.073123333 | 1.00000000 | Unchanged        |\n",
       "| cohort.cohortGuidBR21446 |  0.3378477011 | 0.13239482 |  2.551819677 | 1.486110e-02 | Age | VSIG4    |           NA |  0.346483810 | 1.00000000 | Unchanged        |\n",
       "| cohort.cohortGuidBR21447 |  0.1927225575 | 0.11941975 |  1.613824831 | 1.148401e-01 | Age | TNFRSF1B |           NA |  0.195944048 | 1.00000000 | Unchanged        |\n",
       "| cohort.cohortGuidBR21448 |  0.3414762931 | 0.07681033 |  4.445708214 | 7.371078e-05 | Age | IGF2R    |           NA |  0.339938333 | 0.10724919 | Unchanged        |\n",
       "| cohort.cohortGuidBR21449 |  0.5161935345 | 0.13547307 |  3.810303747 | 4.936243e-04 | Age | TIMP4    |           NA |  0.518110952 | 0.71229992 | Unchanged        |\n",
       "| cohort.cohortGuidBR21450 | -0.0905022989 | 0.13065082 | -0.692703667 | 4.927074e-01 | Age | SPINK5   | -0.523276634 | -0.088391905 | 1.00000000 | Unchanged        |\n",
       "| cohort.cohortGuidBR21451 |  0.0287852011 | 0.18663876 |  0.154229489 | 8.782450e-01 | Age | CA2      |  0.017648859 |  0.031710952 | 1.00000000 | Unchanged        |\n",
       "| cohort.cohortGuidBR21452 |  0.0550870690 | 0.14927605 |  0.369028186 | 7.141550e-01 | Age | CTRB1    |  0.099152078 |  0.055636429 | 1.00000000 | Unchanged        |\n",
       "| cohort.cohortGuidBR21453 |  0.1432012931 | 0.15414994 |  0.928974030 | 3.587664e-01 | Age | F11R     |  0.450726054 |  0.144481190 | 1.00000000 | Unchanged        |\n",
       "| cohort.cohortGuidBR21454 | -0.2752341954 | 0.21515069 | -1.279262406 | 2.085612e-01 | Age | LILRA2   |           NA | -0.279955476 | 1.00000000 | Unchanged        |\n",
       "| cohort.cohortGuidBR21455 |  0.1442609195 | 0.07936969 |  1.817582035 | 7.701938e-02 | Age | PAMR1    |  0.639812639 |  0.141655238 | 1.00000000 | Unchanged        |\n",
       "| cohort.cohortGuidBR21456 |  0.2616011494 | 0.15437821 |  1.694547098 | 9.834306e-02 | Age | TFF1     | -1.161865305 |  0.265195000 | 1.00000000 | Unchanged        |\n",
       "| cohort.cohortGuidBR21457 |  0.1948380747 | 0.10108366 |  1.927493179 | 6.141784e-02 | Age | TNFRSF1A |  2.523092641 |  0.198573571 | 1.00000000 | Unchanged        |\n",
       "| cohort.cohortGuidBR21458 | -0.0470142241 | 0.20086293 | -0.234061224 | 8.161939e-01 | Age | CLPS     | -0.119265823 | -0.049367619 | 1.00000000 | Unchanged        |\n",
       "| cohort.cohortGuidBR21459 | -0.0486277299 | 0.10090773 | -0.481902917 | 6.326389e-01 | Age | STC2     | -0.363357973 | -0.047381905 | 1.00000000 | Unchanged        |\n",
       "| cohort.cohortGuidBR21460 |  0.6393133621 | 0.13252258 |  4.824184567 | 2.295816e-05 | Age | IGFBP4   |           NA |  0.644074286 | 0.03354187 | Up-regulated-BR2 |\n",
       "| cohort.cohortGuidBR21461 |  0.0802097665 | 0.08177713 |  0.980833666 | 3.338113e-01 | Age | GRN      |  0.535953836 |  0.080233127 | 1.00000000 | Unchanged        |\n",
       "| cohort.cohortGuidBR21462 |  0.0001573276 | 0.13178618 |  0.001193809 | 9.990537e-01 | Age | PARK7    |  0.002450528 |  0.002165238 | 1.00000000 | Unchanged        |\n",
       "| cohort.cohortGuidBR21463 | -0.0693428571 | 0.16776556 | -0.413331903 | 6.890380e-01 | Age | CASC4    | -0.485853638 | -0.089412500 | 1.00000000 | Unchanged        |\n",
       "| cohort.cohortGuidBR21464 |  0.4147714286 | 0.17504056 |  2.369573301 | 4.193828e-02 | Age | WISP2    |  1.171799353 |  0.447075000 | 1.00000000 | Unchanged        |\n",
       "| cohort.cohortGuidBR21465 | -0.1675142857 | 0.30146338 | -0.555670425 | 5.919789e-01 | Age | HARS     | -0.184072826 | -0.137325000 | 1.00000000 | Unchanged        |\n",
       "| cohort.cohortGuidBR21466 | -0.6346333333 | 0.38386006 | -1.653293479 | 1.326607e-01 | Age | DARS     | -0.811934639 | -0.592400000 | 1.00000000 | Unchanged        |\n",
       "| cohort.cohortGuidBR21467 |  0.0701190476 | 0.14640745 |  0.478930856 | 6.434095e-01 | Age | WISP1    |  0.264124290 |  0.077537500 | 1.00000000 | Unchanged        |\n",
       "| cohort.cohortGuidBR21468 | -0.9857095238 | 0.63345231 | -1.556091128 | 1.541106e-01 | Age | FOPNL    |           NA | -0.898737500 | 1.00000000 | Unchanged        |\n",
       "| cohort.cohortGuidBR21469 |  0.3142190476 | 0.23344848 |  1.345988833 | 2.112275e-01 | Age | CD97     |  1.511071413 |  0.283337500 | 1.00000000 | Unchanged        |\n",
       "| cohort.cohortGuidBR21470 | -0.0700714286 | 0.26656475 | -0.262868326 | 7.985707e-01 | Age | LRMP     | -0.269697103 | -0.099175000 | 1.00000000 | Unchanged        |\n",
       "| cohort.cohortGuidBR21471 | -0.4395714286 | 0.30472169 | -1.442534078 | 1.830342e-01 | Age | FGFR1OP  | -1.023727087 | -0.367600000 | 1.00000000 | Unchanged        |\n",
       "\n"
      ],
      "text/plain": [
       "     X                        Estimate      Std..Error t.value     \n",
       "1    cohort.cohortGuidBR2     -0.314046839  0.31248657 -1.004993091\n",
       "2    cohort.cohortGuidBR21     0.104450575  0.10524958  0.992408518\n",
       "3    cohort.cohortGuidBR22     0.137813793  0.11562005  1.191954124\n",
       "4    cohort.cohortGuidBR23    -0.008954310  0.08605757 -0.104050230\n",
       "5    cohort.cohortGuidBR24     0.182160057  0.17814645  1.022529795\n",
       "6    cohort.cohortGuidBR25     0.287954310  0.15958606  1.804382608\n",
       "7    cohort.cohortGuidBR26     0.012015805  0.12023199  0.099938502\n",
       "8    cohort.cohortGuidBR27     0.018852730  0.12329518  0.152907279\n",
       "9    cohort.cohortGuidBR28     0.140673420  0.09421079  1.493177345\n",
       "10   cohort.cohortGuidBR29    -0.189847126  0.22172238 -0.856237985\n",
       "11   cohort.cohortGuidBR210   -0.211157328  0.19883675 -1.061963296\n",
       "12   cohort.cohortGuidBR211    0.083379023  0.10086426  0.826645876\n",
       "13   cohort.cohortGuidBR212   -0.001673276  0.31301333 -0.005345702\n",
       "14   cohort.cohortGuidBR213    0.296505029  0.24310103  1.219678215\n",
       "15   cohort.cohortGuidBR214   -0.001573276  0.08778050 -0.017922841\n",
       "16   cohort.cohortGuidBR215   -0.354302586  0.15058543 -2.352834474\n",
       "17   cohort.cohortGuidBR216   -0.197096408  0.07898550 -2.495349391\n",
       "18   cohort.cohortGuidBR217   -0.115395977  0.36882983 -0.312870513\n",
       "19   cohort.cohortGuidBR218    0.026154741  0.09361933  0.279373313\n",
       "20   cohort.cohortGuidBR219   -0.103573563  0.21783964 -0.475457833\n",
       "21   cohort.cohortGuidBR220   -0.065682902  0.10233949 -0.641813849\n",
       "22   cohort.cohortGuidBR221   -0.064915661  0.10506201 -0.617879460\n",
       "23   cohort.cohortGuidBR222    0.141267098  0.24162102  0.584663936\n",
       "24   cohort.cohortGuidBR223    0.338211368  0.25480546  1.327331733\n",
       "25   cohort.cohortGuidBR224   -0.272865124  0.40839675 -0.668137349\n",
       "26   cohort.cohortGuidBR225   -0.150940086  0.23237518 -0.649553378\n",
       "27   cohort.cohortGuidBR226    0.025869971  0.13935146  0.185645503\n",
       "28   cohort.cohortGuidBR227    0.023365805  0.13013012  0.179557240\n",
       "29   cohort.cohortGuidBR228    0.346231178  0.08950482  3.868296394\n",
       "30   cohort.cohortGuidBR229    0.344966954  0.29971034  1.151001162\n",
       "⋮    ⋮                        ⋮             ⋮          ⋮           \n",
       "1443 cohort.cohortGuidBR21442  0.1790591954 0.33698281  0.531360027\n",
       "1444 cohort.cohortGuidBR21443  0.1282920977 0.14882255  0.862047415\n",
       "1445 cohort.cohortGuidBR21444  0.0614441092 0.09459949  0.649518413\n",
       "1446 cohort.cohortGuidBR21445  0.0723613506 0.17059017  0.424182407\n",
       "1447 cohort.cohortGuidBR21446  0.3378477011 0.13239482  2.551819677\n",
       "1448 cohort.cohortGuidBR21447  0.1927225575 0.11941975  1.613824831\n",
       "1449 cohort.cohortGuidBR21448  0.3414762931 0.07681033  4.445708214\n",
       "1450 cohort.cohortGuidBR21449  0.5161935345 0.13547307  3.810303747\n",
       "1451 cohort.cohortGuidBR21450 -0.0905022989 0.13065082 -0.692703667\n",
       "1452 cohort.cohortGuidBR21451  0.0287852011 0.18663876  0.154229489\n",
       "1453 cohort.cohortGuidBR21452  0.0550870690 0.14927605  0.369028186\n",
       "1454 cohort.cohortGuidBR21453  0.1432012931 0.15414994  0.928974030\n",
       "1455 cohort.cohortGuidBR21454 -0.2752341954 0.21515069 -1.279262406\n",
       "1456 cohort.cohortGuidBR21455  0.1442609195 0.07936969  1.817582035\n",
       "1457 cohort.cohortGuidBR21456  0.2616011494 0.15437821  1.694547098\n",
       "1458 cohort.cohortGuidBR21457  0.1948380747 0.10108366  1.927493179\n",
       "1459 cohort.cohortGuidBR21458 -0.0470142241 0.20086293 -0.234061224\n",
       "1460 cohort.cohortGuidBR21459 -0.0486277299 0.10090773 -0.481902917\n",
       "1461 cohort.cohortGuidBR21460  0.6393133621 0.13252258  4.824184567\n",
       "1462 cohort.cohortGuidBR21461  0.0802097665 0.08177713  0.980833666\n",
       "1463 cohort.cohortGuidBR21462  0.0001573276 0.13178618  0.001193809\n",
       "1464 cohort.cohortGuidBR21463 -0.0693428571 0.16776556 -0.413331903\n",
       "1465 cohort.cohortGuidBR21464  0.4147714286 0.17504056  2.369573301\n",
       "1466 cohort.cohortGuidBR21465 -0.1675142857 0.30146338 -0.555670425\n",
       "1467 cohort.cohortGuidBR21466 -0.6346333333 0.38386006 -1.653293479\n",
       "1468 cohort.cohortGuidBR21467  0.0701190476 0.14640745  0.478930856\n",
       "1469 cohort.cohortGuidBR21468 -0.9857095238 0.63345231 -1.556091128\n",
       "1470 cohort.cohortGuidBR21469  0.3142190476 0.23344848  1.345988833\n",
       "1471 cohort.cohortGuidBR21470 -0.0700714286 0.26656475 -0.262868326\n",
       "1472 cohort.cohortGuidBR21471 -0.4395714286 0.30472169 -1.442534078\n",
       "     Pr...t..     factor Assay    Log2FC_Age   diff         padj      \n",
       "1    0.321257122  Age    GYS1     -0.160276691 -0.317386667 1.0000000 \n",
       "2    0.327275868  Age    THPO      0.186720204  0.103853333 1.0000000 \n",
       "3    0.240670187  Age    CLEC1A    0.216175859  0.140088095 1.0000000 \n",
       "4    0.917676726  Age    ENTPD6   -0.024608346 -0.009962381 1.0000000 \n",
       "5    0.312996050  Age    CEACAM8   0.649687131  0.178448095 1.0000000 \n",
       "6    0.079101812  Age    S100P     0.958402164  0.287649286 1.0000000 \n",
       "7    0.920918548  Age    ENTPD5    0.034166579  0.010353333 1.0000000 \n",
       "8    0.879280462  Age    ACE2      0.210830263  0.013001190 1.0000000 \n",
       "9    0.143648038  Age    DCN       1.479951366  0.141149048 1.0000000 \n",
       "10   0.397233469  Age    GLO1      0.574854223 -0.186465476 1.0000000 \n",
       "11   0.294955141  Age    USP8      0.252184419 -0.213675952 1.0000000 \n",
       "12   0.413598454  Age    BMP6      0.269329220  0.082001190 1.0000000 \n",
       "13   0.995762733  Age    ITGB1BP2  0.001989709  0.002915714 1.0000000 \n",
       "14   0.230103133  Age    CTSH      2.213795904  0.302760000 1.0000000 \n",
       "15   0.985794184  Age    BAG6      0.004285429  0.002127619 1.0000000 \n",
       "16   0.023909949  Age    MSTN     -0.479800263 -0.352116667 1.0000000 \n",
       "17   0.017043713  Age    BOC      -0.561340234 -0.198522381 1.0000000 \n",
       "18   0.756089748  Age    ADH4      0.607544530 -0.104735238 1.0000000 \n",
       "19   0.781473338  Age    CLTA      0.094586398  0.026898810 1.0000000 \n",
       "20   0.637182505  Age    EPHX2    -2.070150617 -0.101290000 1.0000000 \n",
       "21   0.524847026  Age    TP53INP1 -0.324121088 -0.069193571 1.0000000 \n",
       "22   0.540340437  Age    ZBTB17   -0.264999136 -0.061908095 1.0000000 \n",
       "23   0.562229242  Age    PTN       0.181384005  0.140035952 1.0000000 \n",
       "24   0.195937118  Age    CEP43     0.724029922  0.335145192 1.0000000 \n",
       "25   0.509934225  Age    IRAG2    -0.351821600 -0.269282212 1.0000000 \n",
       "26   0.519888068  Age    COMT     -0.232586141 -0.153773333 1.0000000 \n",
       "27   0.853710184  Age    MMP7     -0.024309683  0.026333810 1.0000000 \n",
       "28   0.858454224  Age    PON2      0.208654025  0.023103571 1.0000000 \n",
       "29   0.000416545  Age    ADAMTS16           NA  0.349326667 0.6019075 \n",
       "30   0.256922993  Age    GP2       0.311432416  0.349346905 1.0000000 \n",
       "⋮    ⋮            ⋮      ⋮        ⋮            ⋮            ⋮         \n",
       "1443 5.982619e-01 Age    FYB1      0.097396135  0.176319762 1.00000000\n",
       "1444 3.940691e-01 Age    BLVRB     0.147184652  0.129009048 1.00000000\n",
       "1445 5.199104e-01 Age    RELT      0.397489610  0.062961667 1.00000000\n",
       "1446 6.738246e-01 Age    DBI       0.275287544  0.073123333 1.00000000\n",
       "1447 1.486110e-02 Age    VSIG4              NA  0.346483810 1.00000000\n",
       "1448 1.148401e-01 Age    TNFRSF1B           NA  0.195944048 1.00000000\n",
       "1449 7.371078e-05 Age    IGF2R              NA  0.339938333 0.10724919\n",
       "1450 4.936243e-04 Age    TIMP4              NA  0.518110952 0.71229992\n",
       "1451 4.927074e-01 Age    SPINK5   -0.523276634 -0.088391905 1.00000000\n",
       "1452 8.782450e-01 Age    CA2       0.017648859  0.031710952 1.00000000\n",
       "1453 7.141550e-01 Age    CTRB1     0.099152078  0.055636429 1.00000000\n",
       "1454 3.587664e-01 Age    F11R      0.450726054  0.144481190 1.00000000\n",
       "1455 2.085612e-01 Age    LILRA2             NA -0.279955476 1.00000000\n",
       "1456 7.701938e-02 Age    PAMR1     0.639812639  0.141655238 1.00000000\n",
       "1457 9.834306e-02 Age    TFF1     -1.161865305  0.265195000 1.00000000\n",
       "1458 6.141784e-02 Age    TNFRSF1A  2.523092641  0.198573571 1.00000000\n",
       "1459 8.161939e-01 Age    CLPS     -0.119265823 -0.049367619 1.00000000\n",
       "1460 6.326389e-01 Age    STC2     -0.363357973 -0.047381905 1.00000000\n",
       "1461 2.295816e-05 Age    IGFBP4             NA  0.644074286 0.03354187\n",
       "1462 3.338113e-01 Age    GRN       0.535953836  0.080233127 1.00000000\n",
       "1463 9.990537e-01 Age    PARK7     0.002450528  0.002165238 1.00000000\n",
       "1464 6.890380e-01 Age    CASC4    -0.485853638 -0.089412500 1.00000000\n",
       "1465 4.193828e-02 Age    WISP2     1.171799353  0.447075000 1.00000000\n",
       "1466 5.919789e-01 Age    HARS     -0.184072826 -0.137325000 1.00000000\n",
       "1467 1.326607e-01 Age    DARS     -0.811934639 -0.592400000 1.00000000\n",
       "1468 6.434095e-01 Age    WISP1     0.264124290  0.077537500 1.00000000\n",
       "1469 1.541106e-01 Age    FOPNL              NA -0.898737500 1.00000000\n",
       "1470 2.112275e-01 Age    CD97      1.511071413  0.283337500 1.00000000\n",
       "1471 7.985707e-01 Age    LRMP     -0.269697103 -0.099175000 1.00000000\n",
       "1472 1.830342e-01 Age    FGFR1OP  -1.023727087 -0.367600000 1.00000000\n",
       "     Expression      \n",
       "1    Unchanged       \n",
       "2    Unchanged       \n",
       "3    Unchanged       \n",
       "4    Unchanged       \n",
       "5    Unchanged       \n",
       "6    Unchanged       \n",
       "7    Unchanged       \n",
       "8    Unchanged       \n",
       "9    Unchanged       \n",
       "10   Unchanged       \n",
       "11   Unchanged       \n",
       "12   Unchanged       \n",
       "13   Unchanged       \n",
       "14   Unchanged       \n",
       "15   Unchanged       \n",
       "16   Unchanged       \n",
       "17   Unchanged       \n",
       "18   Unchanged       \n",
       "19   Unchanged       \n",
       "20   Unchanged       \n",
       "21   Unchanged       \n",
       "22   Unchanged       \n",
       "23   Unchanged       \n",
       "24   Unchanged       \n",
       "25   Unchanged       \n",
       "26   Unchanged       \n",
       "27   Unchanged       \n",
       "28   Unchanged       \n",
       "29   Unchanged       \n",
       "30   Unchanged       \n",
       "⋮    ⋮               \n",
       "1443 Unchanged       \n",
       "1444 Unchanged       \n",
       "1445 Unchanged       \n",
       "1446 Unchanged       \n",
       "1447 Unchanged       \n",
       "1448 Unchanged       \n",
       "1449 Unchanged       \n",
       "1450 Unchanged       \n",
       "1451 Unchanged       \n",
       "1452 Unchanged       \n",
       "1453 Unchanged       \n",
       "1454 Unchanged       \n",
       "1455 Unchanged       \n",
       "1456 Unchanged       \n",
       "1457 Unchanged       \n",
       "1458 Unchanged       \n",
       "1459 Unchanged       \n",
       "1460 Unchanged       \n",
       "1461 Up-regulated-BR2\n",
       "1462 Unchanged       \n",
       "1463 Unchanged       \n",
       "1464 Unchanged       \n",
       "1465 Unchanged       \n",
       "1466 Unchanged       \n",
       "1467 Unchanged       \n",
       "1468 Unchanged       \n",
       "1469 Unchanged       \n",
       "1470 Unchanged       \n",
       "1471 Unchanged       \n",
       "1472 Unchanged       "
      ]
     },
     "metadata": {},
     "output_type": "display_data"
    },
    {
     "data": {
      "text/html": [
       "<style>\n",
       ".list-inline {list-style: none; margin:0; padding: 0}\n",
       ".list-inline>li {display: inline-block}\n",
       ".list-inline>li:not(:last-child)::after {content: \"\\00b7\"; padding: 0 .5ex}\n",
       "</style>\n",
       "<ol class=list-inline><li>'Unchanged'</li><li>'Up-regulated-BR2'</li><li>'Down-regulated-BR2'</li></ol>\n"
      ],
      "text/latex": [
       "\\begin{enumerate*}\n",
       "\\item 'Unchanged'\n",
       "\\item 'Up-regulated-BR2'\n",
       "\\item 'Down-regulated-BR2'\n",
       "\\end{enumerate*}\n"
      ],
      "text/markdown": [
       "1. 'Unchanged'\n",
       "2. 'Up-regulated-BR2'\n",
       "3. 'Down-regulated-BR2'\n",
       "\n",
       "\n"
      ],
      "text/plain": [
       "[1] \"Unchanged\"          \"Up-regulated-BR2\"   \"Down-regulated-BR2\""
      ]
     },
     "metadata": {},
     "output_type": "display_data"
    }
   ],
   "source": [
    "data <- male_olink%>% mutate(Expression = case_when(diff >=0.1 & padj <= 0.05 ~ \"Up-regulated-BR2\",\n",
    "                                                     diff <= -0.1 & padj <= 0.05 ~ \"Down-regulated-BR2\",\n",
    "                                                     TRUE ~ \"Unchanged\"))\n",
    "data\n",
    "unique(data$Expression)"
   ]
  },
  {
   "cell_type": "code",
   "execution_count": 41,
   "id": "2866fc3b-4afa-4b53-ad0d-57f0a02298ea",
   "metadata": {
    "tags": []
   },
   "outputs": [],
   "source": [
    "top <- 30\n",
    "top_genes <- bind_rows(\n",
    "  data %>% \n",
    "    filter(Expression == 'Up-regulated-BR2') %>% \n",
    "    arrange(padj, desc(abs(diff))) %>% \n",
    "    head(top),\n",
    "  data %>% \n",
    "    filter(Expression == 'Down-regulated-BR2') %>% \n",
    "    arrange(padj, desc(abs(diff))) %>% \n",
    "    head(top))"
   ]
  },
  {
   "cell_type": "code",
   "execution_count": 42,
   "id": "79e8eef6-6670-4799-8528-2d68e760f8fd",
   "metadata": {
    "tags": []
   },
   "outputs": [
    {
     "data": {
      "image/png": "[encoded data removed]",
      "text/plain": [
       "plot without title"
      ]
     },
     "metadata": {
      "image/png": {
       "height": 360,
       "width": 600
      }
     },
     "output_type": "display_data"
    }
   ],
   "source": [
    "options(repr.plot.width = 10, repr.plot.height = 6)\n",
    "\n",
    "ggplot(data, aes(diff, -log(padj,10))) +\n",
    "  geom_point(aes(color = Expression), size = 1) +\n",
    "  xlab(expression(\"Baseline Difference\")) + \n",
    "  ylab(expression(\"-log\"[10]*\"FDR\")) +\n",
    "  scale_color_manual(values = c(\"Down-regulated-BR2\"=\"dodgerblue3\", \"Unchanged\"=\"gray50\", \"Up-regulated-BR2\"=\"firebrick3\")) +\n",
    "  guides(colour = guide_legend(override.aes = list(size=1.5))) +\n",
    "  geom_text_repel(data = top_genes,box.padding = 0.5,force= 0.5,max.overlaps=50,\n",
    "    nudge_x           = 0.15,\n",
    "    hjust             = 0.1,\n",
    "    segment.size      = 0.1,\n",
    "                   mapping = aes(diff, -log(padj,10), label = Assay),\n",
    "                   size = 4)+theme_classic()\n"
   ]
  },
  {
   "cell_type": "code",
   "execution_count": null,
   "id": "82c548c1-0c28-48e3-8437-6892b8fb2396",
   "metadata": {},
   "outputs": [],
   "source": []
  },
  {
   "cell_type": "markdown",
   "id": "66016639-66cf-4bd8-a141-a087e489a684",
   "metadata": {
    "tags": []
   },
   "source": [
    "## Female olink volcano plots"
   ]
  },
  {
   "cell_type": "code",
   "execution_count": 36,
   "id": "5d8ecd63-78c5-4eb0-9f9c-67b47533ad52",
   "metadata": {
    "tags": []
   },
   "outputs": [
    {
     "data": {
      "text/html": [
       "<table class=\"dataframe\">\n",
       "<caption>A data.frame: 1472 × 11</caption>\n",
       "<thead>\n",
       "\t<tr><th scope=col>X</th><th scope=col>Estimate</th><th scope=col>Std..Error</th><th scope=col>t.value</th><th scope=col>Pr...t..</th><th scope=col>factor</th><th scope=col>Assay</th><th scope=col>Log2FC_Age</th><th scope=col>diff</th><th scope=col>padj</th><th scope=col>Expression</th></tr>\n",
       "\t<tr><th scope=col>&lt;chr&gt;</th><th scope=col>&lt;dbl&gt;</th><th scope=col>&lt;dbl&gt;</th><th scope=col>&lt;dbl&gt;</th><th scope=col>&lt;dbl&gt;</th><th scope=col>&lt;chr&gt;</th><th scope=col>&lt;chr&gt;</th><th scope=col>&lt;dbl&gt;</th><th scope=col>&lt;dbl&gt;</th><th scope=col>&lt;dbl&gt;</th><th scope=col>&lt;chr&gt;</th></tr>\n",
       "</thead>\n",
       "<tbody>\n",
       "\t<tr><td>cohort.cohortGuidBR2  </td><td> 0.014084760</td><td>0.32010931</td><td> 0.04399985</td><td>9.650871e-01</td><td>Age</td><td>GYS1    </td><td> 0.00997620</td><td> 0.018938538</td><td>1.00000000</td><td>Unchanged       </td></tr>\n",
       "\t<tr><td>cohort.cohortGuidBR21 </td><td> 0.376308726</td><td>0.08035168</td><td> 4.68327128</td><td>2.349236e-05</td><td>Age</td><td>THPO    </td><td> 0.76754320</td><td> 0.389521308</td><td>0.03371154</td><td>Up-regulated-BR2</td></tr>\n",
       "\t<tr><td>cohort.cohortGuidBR22 </td><td> 0.149121132</td><td>0.10279043</td><td> 1.45072969</td><td>1.533592e-01</td><td>Age</td><td>CLEC1A  </td><td> 0.27795947</td><td> 0.150093769</td><td>1.00000000</td><td>Unchanged       </td></tr>\n",
       "\t<tr><td>cohort.cohortGuidBR23 </td><td> 0.063681226</td><td>0.06761780</td><td> 0.94178194</td><td>3.510202e-01</td><td>Age</td><td>ENTPD6  </td><td> 0.15037582</td><td> 0.058399538</td><td>1.00000000</td><td>Unchanged       </td></tr>\n",
       "\t<tr><td>cohort.cohortGuidBR24 </td><td>-0.007663344</td><td>0.19752234</td><td>-0.03879735</td><td>9.692129e-01</td><td>Age</td><td>CEACAM8 </td><td>-0.03573175</td><td>-0.008413308</td><td>1.00000000</td><td>Unchanged       </td></tr>\n",
       "\t<tr><td>cohort.cohortGuidBR25 </td><td> 0.305021773</td><td>0.14688491</td><td> 2.07660387</td><td>4.321507e-02</td><td>Age</td><td>S100P   </td><td>         NA</td><td> 0.338451538</td><td>1.00000000</td><td>Unchanged       </td></tr>\n",
       "\t<tr><td>cohort.cohortGuidBR26 </td><td> 0.168489067</td><td>0.09392083</td><td> 1.79394781</td><td>7.912163e-02</td><td>Age</td><td>ENTPD5  </td><td> 0.49562989</td><td> 0.162497923</td><td>1.00000000</td><td>Unchanged       </td></tr>\n",
       "\t<tr><td>cohort.cohortGuidBR27 </td><td> 0.115010325</td><td>0.11539259</td><td> 0.99668724</td><td>3.239145e-01</td><td>Age</td><td>ACE2    </td><td>-0.41812922</td><td> 0.114802769</td><td>1.00000000</td><td>Unchanged       </td></tr>\n",
       "\t<tr><td>cohort.cohortGuidBR28 </td><td> 0.369476278</td><td>0.08413225</td><td> 4.39161306</td><td>6.172413e-05</td><td>Age</td><td>DCN     </td><td>         NA</td><td> 0.336191231</td><td>0.08795688</td><td>Unchanged       </td></tr>\n",
       "\t<tr><td>cohort.cohortGuidBR29 </td><td> 0.164118364</td><td>0.19603929</td><td> 0.83717079</td><td>4.066455e-01</td><td>Age</td><td>GLO1    </td><td>-0.49999065</td><td> 0.195088615</td><td>1.00000000</td><td>Unchanged       </td></tr>\n",
       "\t<tr><td>cohort.cohortGuidBR210</td><td>-0.100629581</td><td>0.22346204</td><td>-0.45032070</td><td>6.545067e-01</td><td>Age</td><td>USP8    </td><td>-0.04336813</td><td> 0.040536846</td><td>1.00000000</td><td>Unchanged       </td></tr>\n",
       "\t<tr><td>cohort.cohortGuidBR211</td><td> 0.244176034</td><td>0.09477511</td><td> 2.57637298</td><td>1.311608e-02</td><td>Age</td><td>BMP6    </td><td> 0.66372961</td><td> 0.195266462</td><td>1.00000000</td><td>Unchanged       </td></tr>\n",
       "\t<tr><td>cohort.cohortGuidBR212</td><td>-0.046818635</td><td>0.32656973</td><td>-0.14336490</td><td>8.866022e-01</td><td>Age</td><td>ITGB1BP2</td><td> 0.03258862</td><td> 0.046945462</td><td>1.00000000</td><td>Unchanged       </td></tr>\n",
       "\t<tr><td>cohort.cohortGuidBR213</td><td> 0.238060001</td><td>0.25245391</td><td> 0.94298400</td><td>3.504113e-01</td><td>Age</td><td>CTSH    </td><td>-0.98115102</td><td> 0.244863846</td><td>1.00000000</td><td>Unchanged       </td></tr>\n",
       "\t<tr><td>cohort.cohortGuidBR214</td><td> 0.148739748</td><td>0.09156031</td><td> 1.62450023</td><td>1.108185e-01</td><td>Age</td><td>BAG6    </td><td> 0.36390506</td><td> 0.176376231</td><td>1.00000000</td><td>Unchanged       </td></tr>\n",
       "\t<tr><td>cohort.cohortGuidBR215</td><td>-0.465427150</td><td>0.20905221</td><td>-2.22636801</td><td>3.071772e-02</td><td>Age</td><td>MSTN    </td><td>-4.93407057</td><td>-0.456805846</td><td>1.00000000</td><td>Unchanged       </td></tr>\n",
       "\t<tr><td>cohort.cohortGuidBR216</td><td> 0.051025869</td><td>0.10756847</td><td> 0.47435713</td><td>6.373962e-01</td><td>Age</td><td>BOC     </td><td>-0.03527321</td><td>-0.006127769</td><td>1.00000000</td><td>Unchanged       </td></tr>\n",
       "\t<tr><td>cohort.cohortGuidBR217</td><td> 0.721954102</td><td>0.28353061</td><td> 2.54630041</td><td>1.415081e-02</td><td>Age</td><td>ADH4    </td><td>-1.22705160</td><td> 0.691615692</td><td>1.00000000</td><td>Unchanged       </td></tr>\n",
       "\t<tr><td>cohort.cohortGuidBR218</td><td> 0.137926417</td><td>0.09516720</td><td> 1.44930627</td><td>1.537544e-01</td><td>Age</td><td>CLTA    </td><td> 0.45301295</td><td> 0.114519538</td><td>1.00000000</td><td>Unchanged       </td></tr>\n",
       "\t<tr><td>cohort.cohortGuidBR219</td><td>-0.048289292</td><td>0.13432732</td><td>-0.35948972</td><td>7.208055e-01</td><td>Age</td><td>EPHX2   </td><td> 0.67026057</td><td>-0.055684538</td><td>1.00000000</td><td>Unchanged       </td></tr>\n",
       "\t<tr><td>cohort.cohortGuidBR220</td><td>-0.061075096</td><td>0.09599541</td><td>-0.63622932</td><td>5.276493e-01</td><td>Age</td><td>TP53INP1</td><td>-0.24778778</td><td>-0.043693308</td><td>1.00000000</td><td>Unchanged       </td></tr>\n",
       "\t<tr><td>cohort.cohortGuidBR221</td><td> 0.211367506</td><td>0.10604965</td><td> 1.99309947</td><td>5.195167e-02</td><td>Age</td><td>ZBTB17  </td><td> 1.28913009</td><td> 0.213455692</td><td>1.00000000</td><td>Unchanged       </td></tr>\n",
       "\t<tr><td>cohort.cohortGuidBR222</td><td> 0.260352385</td><td>0.15493120</td><td> 1.68043869</td><td>9.936952e-02</td><td>Age</td><td>PTN     </td><td> 0.31330645</td><td> 0.276344846</td><td>1.00000000</td><td>Unchanged       </td></tr>\n",
       "\t<tr><td>cohort.cohortGuidBR223</td><td> 0.136782490</td><td>0.32979640</td><td> 0.41474828</td><td>6.818637e-01</td><td>Age</td><td>CEP43   </td><td> 0.10272641</td><td> 0.049215000</td><td>1.00000000</td><td>Unchanged       </td></tr>\n",
       "\t<tr><td>cohort.cohortGuidBR224</td><td>-0.531141245</td><td>0.30031458</td><td>-1.76861625</td><td>8.915970e-02</td><td>Age</td><td>IRAG2   </td><td>-0.49834265</td><td>-0.402877500</td><td>1.00000000</td><td>Unchanged       </td></tr>\n",
       "\t<tr><td>cohort.cohortGuidBR225</td><td>-0.015717294</td><td>0.24465301</td><td>-0.06424321</td><td>9.490434e-01</td><td>Age</td><td>COMT    </td><td> 0.06975558</td><td> 0.043832077</td><td>1.00000000</td><td>Unchanged       </td></tr>\n",
       "\t<tr><td>cohort.cohortGuidBR226</td><td> 0.249846261</td><td>0.11283581</td><td> 2.21424626</td><td>3.159475e-02</td><td>Age</td><td>MMP7    </td><td>-0.27814095</td><td> 0.274740462</td><td>1.00000000</td><td>Unchanged       </td></tr>\n",
       "\t<tr><td>cohort.cohortGuidBR227</td><td> 0.203230783</td><td>0.11888687</td><td> 1.70944685</td><td>9.382669e-02</td><td>Age</td><td>PON2    </td><td>         NA</td><td> 0.175957846</td><td>1.00000000</td><td>Unchanged       </td></tr>\n",
       "\t<tr><td>cohort.cohortGuidBR228</td><td> 0.263376021</td><td>0.08737375</td><td> 3.01436083</td><td>4.105586e-03</td><td>Age</td><td>ADAMTS16</td><td> 2.25150620</td><td> 0.262276846</td><td>1.00000000</td><td>Unchanged       </td></tr>\n",
       "\t<tr><td>cohort.cohortGuidBR229</td><td> 0.212181556</td><td>0.22379721</td><td> 0.94809742</td><td>3.478289e-01</td><td>Age</td><td>GP2     </td><td> 0.47596004</td><td> 0.250656923</td><td>1.00000000</td><td>Unchanged       </td></tr>\n",
       "\t<tr><td>⋮</td><td>⋮</td><td>⋮</td><td>⋮</td><td>⋮</td><td>⋮</td><td>⋮</td><td>⋮</td><td>⋮</td><td>⋮</td><td>⋮</td></tr>\n",
       "\t<tr><td>cohort.cohortGuidBR21442</td><td> 0.16215377</td><td>0.33548265</td><td> 0.48334474</td><td>6.310485e-01</td><td>Age</td><td>FYB1    </td><td> 0.190444651</td><td> 0.33926738</td><td>1.000000000</td><td>Unchanged       </td></tr>\n",
       "\t<tr><td>cohort.cohortGuidBR21443</td><td>-0.10582013</td><td>0.14844741</td><td>-0.71284596</td><td>4.793923e-01</td><td>Age</td><td>BLVRB   </td><td>-0.125607323</td><td>-0.11158054</td><td>1.000000000</td><td>Unchanged       </td></tr>\n",
       "\t<tr><td>cohort.cohortGuidBR21444</td><td> 0.04949210</td><td>0.09122251</td><td> 0.54254264</td><td>5.899550e-01</td><td>Age</td><td>RELT    </td><td> 3.629286435</td><td> 0.06958069</td><td>1.000000000</td><td>Unchanged       </td></tr>\n",
       "\t<tr><td>cohort.cohortGuidBR21445</td><td> 0.05882062</td><td>0.18210012</td><td> 0.32301250</td><td>7.480887e-01</td><td>Age</td><td>DBI     </td><td> 0.300985454</td><td> 0.13581600</td><td>1.000000000</td><td>Unchanged       </td></tr>\n",
       "\t<tr><td>cohort.cohortGuidBR21446</td><td> 0.30730867</td><td>0.13046202</td><td> 2.35554128</td><td>2.262950e-02</td><td>Age</td><td>VSIG4   </td><td> 2.599868788</td><td> 0.30632846</td><td>1.000000000</td><td>Unchanged       </td></tr>\n",
       "\t<tr><td>cohort.cohortGuidBR21447</td><td> 0.29629220</td><td>0.08953150</td><td> 3.30936250</td><td>1.779116e-03</td><td>Age</td><td>TNFRSF1B</td><td> 4.883344118</td><td> 0.25959015</td><td>1.000000000</td><td>Unchanged       </td></tr>\n",
       "\t<tr><td>cohort.cohortGuidBR21448</td><td> 0.19493505</td><td>0.08209244</td><td> 2.37457991</td><td>2.161441e-02</td><td>Age</td><td>IGF2R   </td><td> 1.301563805</td><td> 0.15802685</td><td>1.000000000</td><td>Unchanged       </td></tr>\n",
       "\t<tr><td>cohort.cohortGuidBR21449</td><td> 0.07656212</td><td>0.11385087</td><td> 0.67247720</td><td>5.045045e-01</td><td>Age</td><td>TIMP4   </td><td> 0.272162887</td><td> 0.09118615</td><td>1.000000000</td><td>Unchanged       </td></tr>\n",
       "\t<tr><td>cohort.cohortGuidBR21450</td><td>-0.13335355</td><td>0.08656110</td><td>-1.54057129</td><td>1.299884e-01</td><td>Age</td><td>SPINK5  </td><td>-1.971662186</td><td>-0.17381231</td><td>1.000000000</td><td>Unchanged       </td></tr>\n",
       "\t<tr><td>cohort.cohortGuidBR21451</td><td> 0.04067796</td><td>0.18899065</td><td> 0.21523793</td><td>8.304938e-01</td><td>Age</td><td>CA2     </td><td> 0.018110146</td><td> 0.03217769</td><td>1.000000000</td><td>Unchanged       </td></tr>\n",
       "\t<tr><td>cohort.cohortGuidBR21452</td><td> 0.01122650</td><td>0.15844321</td><td> 0.07085506</td><td>9.438075e-01</td><td>Age</td><td>CTRB1   </td><td> 0.072685946</td><td> 0.05097862</td><td>1.000000000</td><td>Unchanged       </td></tr>\n",
       "\t<tr><td>cohort.cohortGuidBR21453</td><td> 0.07904451</td><td>0.14056380</td><td> 0.56233902</td><td>5.765020e-01</td><td>Age</td><td>F11R    </td><td> 0.367335517</td><td> 0.12788992</td><td>1.000000000</td><td>Unchanged       </td></tr>\n",
       "\t<tr><td>cohort.cohortGuidBR21454</td><td> 0.02558429</td><td>0.14698233</td><td> 0.17406372</td><td>8.625474e-01</td><td>Age</td><td>LILRA2  </td><td> 1.380688767</td><td> 0.09476738</td><td>1.000000000</td><td>Unchanged       </td></tr>\n",
       "\t<tr><td>cohort.cohortGuidBR21455</td><td> 0.24630752</td><td>0.11372599</td><td> 2.16579806</td><td>3.532506e-02</td><td>Age</td><td>PAMR1   </td><td> 1.680183558</td><td> 0.24169308</td><td>1.000000000</td><td>Unchanged       </td></tr>\n",
       "\t<tr><td>cohort.cohortGuidBR21456</td><td> 0.65666798</td><td>0.12183906</td><td> 5.38963427</td><td>2.113549e-06</td><td>Age</td><td>TFF1    </td><td>          NA</td><td> 0.62230469</td><td>0.003075214</td><td>Up-regulated-BR2</td></tr>\n",
       "\t<tr><td>cohort.cohortGuidBR21457</td><td> 0.42375806</td><td>0.08474160</td><td> 5.00059066</td><td>8.045463e-06</td><td>Age</td><td>TNFRSF1A</td><td>          NA</td><td> 0.39705308</td><td>0.011617648</td><td>Up-regulated-BR2</td></tr>\n",
       "\t<tr><td>cohort.cohortGuidBR21458</td><td>-0.14923909</td><td>0.20780863</td><td>-0.71815638</td><td>4.761420e-01</td><td>Age</td><td>CLPS    </td><td>-0.458123565</td><td>-0.19728300</td><td>1.000000000</td><td>Unchanged       </td></tr>\n",
       "\t<tr><td>cohort.cohortGuidBR21459</td><td>-0.21777248</td><td>0.09535989</td><td>-2.28369065</td><td>2.685595e-02</td><td>Age</td><td>STC2    </td><td>-1.702122958</td><td>-0.25842454</td><td>1.000000000</td><td>Unchanged       </td></tr>\n",
       "\t<tr><td>cohort.cohortGuidBR21460</td><td> 0.25136036</td><td>0.11383598</td><td> 2.20809251</td><td>3.204841e-02</td><td>Age</td><td>IGFBP4  </td><td> 0.889983891</td><td> 0.23031423</td><td>1.000000000</td><td>Unchanged       </td></tr>\n",
       "\t<tr><td>cohort.cohortGuidBR21461</td><td> 0.04026165</td><td>0.08204678</td><td> 0.49071580</td><td>6.265253e-01</td><td>Age</td><td>GRN     </td><td> 0.299121838</td><td> 0.05164949</td><td>1.000000000</td><td>Unchanged       </td></tr>\n",
       "\t<tr><td>cohort.cohortGuidBR21462</td><td>-0.05008388</td><td>0.14947830</td><td>-0.33505783</td><td>7.390414e-01</td><td>Age</td><td>PARK7   </td><td>-0.006201015</td><td>-0.00532800</td><td>1.000000000</td><td>Unchanged       </td></tr>\n",
       "\t<tr><td>cohort.cohortGuidBR21463</td><td>-0.07526154</td><td>0.12840798</td><td>-0.58611263</td><td>5.643566e-01</td><td>Age</td><td>CASC4   </td><td>-0.493637445</td><td>-0.09694667</td><td>1.000000000</td><td>Unchanged       </td></tr>\n",
       "\t<tr><td>cohort.cohortGuidBR21464</td><td> 0.18553718</td><td>0.18776172</td><td> 0.98815230</td><td>3.348829e-01</td><td>Age</td><td>WISP2   </td><td> 0.489137026</td><td> 0.17801000</td><td>1.000000000</td><td>Unchanged       </td></tr>\n",
       "\t<tr><td>cohort.cohortGuidBR21465</td><td>-0.21976282</td><td>0.26777320</td><td>-0.82070507</td><td>4.214892e-01</td><td>Age</td><td>HARS    </td><td>-0.274081343</td><td>-0.20179222</td><td>1.000000000</td><td>Unchanged       </td></tr>\n",
       "\t<tr><td>cohort.cohortGuidBR21466</td><td>-0.51157692</td><td>0.40480598</td><td>-1.26375833</td><td>2.208490e-01</td><td>Age</td><td>DARS    </td><td>-0.554671701</td><td>-0.44814000</td><td>1.000000000</td><td>Unchanged       </td></tr>\n",
       "\t<tr><td>cohort.cohortGuidBR21467</td><td> 0.07763077</td><td>0.21949993</td><td> 0.35367105</td><td>7.272864e-01</td><td>Age</td><td>WISP1   </td><td> 0.084720665</td><td> 0.03148444</td><td>1.000000000</td><td>Unchanged       </td></tr>\n",
       "\t<tr><td>cohort.cohortGuidBR21468</td><td>-0.29378205</td><td>0.37495243</td><td>-0.78351819</td><td>4.425033e-01</td><td>Age</td><td>FOPNL   </td><td> 0.939045154</td><td>-0.25298000</td><td>1.000000000</td><td>Unchanged       </td></tr>\n",
       "\t<tr><td>cohort.cohortGuidBR21469</td><td> 0.23044744</td><td>0.18237873</td><td> 1.26356531</td><td>2.209169e-01</td><td>Age</td><td>CD97    </td><td> 0.729521650</td><td> 0.21280778</td><td>1.000000000</td><td>Unchanged       </td></tr>\n",
       "\t<tr><td>cohort.cohortGuidBR21470</td><td>-0.31041026</td><td>0.27269497</td><td>-1.13830575</td><td>2.684453e-01</td><td>Age</td><td>LRMP    </td><td>-1.485255880</td><td>-0.29413778</td><td>1.000000000</td><td>Unchanged       </td></tr>\n",
       "\t<tr><td>cohort.cohortGuidBR21471</td><td>-0.31383205</td><td>0.19479284</td><td>-1.61110671</td><td>1.228265e-01</td><td>Age</td><td>FGFR1OP </td><td>-2.504451321</td><td>-0.35964333</td><td>1.000000000</td><td>Unchanged       </td></tr>\n",
       "</tbody>\n",
       "</table>\n"
      ],
      "text/latex": [
       "A data.frame: 1472 × 11\n",
       "\\begin{tabular}{lllllllllll}\n",
       " X & Estimate & Std..Error & t.value & Pr...t.. & factor & Assay & Log2FC\\_Age & diff & padj & Expression\\\\\n",
       " <chr> & <dbl> & <dbl> & <dbl> & <dbl> & <chr> & <chr> & <dbl> & <dbl> & <dbl> & <chr>\\\\\n",
       "\\hline\n",
       "\t cohort.cohortGuidBR2   &  0.014084760 & 0.32010931 &  0.04399985 & 9.650871e-01 & Age & GYS1     &  0.00997620 &  0.018938538 & 1.00000000 & Unchanged       \\\\\n",
       "\t cohort.cohortGuidBR21  &  0.376308726 & 0.08035168 &  4.68327128 & 2.349236e-05 & Age & THPO     &  0.76754320 &  0.389521308 & 0.03371154 & Up-regulated-BR2\\\\\n",
       "\t cohort.cohortGuidBR22  &  0.149121132 & 0.10279043 &  1.45072969 & 1.533592e-01 & Age & CLEC1A   &  0.27795947 &  0.150093769 & 1.00000000 & Unchanged       \\\\\n",
       "\t cohort.cohortGuidBR23  &  0.063681226 & 0.06761780 &  0.94178194 & 3.510202e-01 & Age & ENTPD6   &  0.15037582 &  0.058399538 & 1.00000000 & Unchanged       \\\\\n",
       "\t cohort.cohortGuidBR24  & -0.007663344 & 0.19752234 & -0.03879735 & 9.692129e-01 & Age & CEACAM8  & -0.03573175 & -0.008413308 & 1.00000000 & Unchanged       \\\\\n",
       "\t cohort.cohortGuidBR25  &  0.305021773 & 0.14688491 &  2.07660387 & 4.321507e-02 & Age & S100P    &          NA &  0.338451538 & 1.00000000 & Unchanged       \\\\\n",
       "\t cohort.cohortGuidBR26  &  0.168489067 & 0.09392083 &  1.79394781 & 7.912163e-02 & Age & ENTPD5   &  0.49562989 &  0.162497923 & 1.00000000 & Unchanged       \\\\\n",
       "\t cohort.cohortGuidBR27  &  0.115010325 & 0.11539259 &  0.99668724 & 3.239145e-01 & Age & ACE2     & -0.41812922 &  0.114802769 & 1.00000000 & Unchanged       \\\\\n",
       "\t cohort.cohortGuidBR28  &  0.369476278 & 0.08413225 &  4.39161306 & 6.172413e-05 & Age & DCN      &          NA &  0.336191231 & 0.08795688 & Unchanged       \\\\\n",
       "\t cohort.cohortGuidBR29  &  0.164118364 & 0.19603929 &  0.83717079 & 4.066455e-01 & Age & GLO1     & -0.49999065 &  0.195088615 & 1.00000000 & Unchanged       \\\\\n",
       "\t cohort.cohortGuidBR210 & -0.100629581 & 0.22346204 & -0.45032070 & 6.545067e-01 & Age & USP8     & -0.04336813 &  0.040536846 & 1.00000000 & Unchanged       \\\\\n",
       "\t cohort.cohortGuidBR211 &  0.244176034 & 0.09477511 &  2.57637298 & 1.311608e-02 & Age & BMP6     &  0.66372961 &  0.195266462 & 1.00000000 & Unchanged       \\\\\n",
       "\t cohort.cohortGuidBR212 & -0.046818635 & 0.32656973 & -0.14336490 & 8.866022e-01 & Age & ITGB1BP2 &  0.03258862 &  0.046945462 & 1.00000000 & Unchanged       \\\\\n",
       "\t cohort.cohortGuidBR213 &  0.238060001 & 0.25245391 &  0.94298400 & 3.504113e-01 & Age & CTSH     & -0.98115102 &  0.244863846 & 1.00000000 & Unchanged       \\\\\n",
       "\t cohort.cohortGuidBR214 &  0.148739748 & 0.09156031 &  1.62450023 & 1.108185e-01 & Age & BAG6     &  0.36390506 &  0.176376231 & 1.00000000 & Unchanged       \\\\\n",
       "\t cohort.cohortGuidBR215 & -0.465427150 & 0.20905221 & -2.22636801 & 3.071772e-02 & Age & MSTN     & -4.93407057 & -0.456805846 & 1.00000000 & Unchanged       \\\\\n",
       "\t cohort.cohortGuidBR216 &  0.051025869 & 0.10756847 &  0.47435713 & 6.373962e-01 & Age & BOC      & -0.03527321 & -0.006127769 & 1.00000000 & Unchanged       \\\\\n",
       "\t cohort.cohortGuidBR217 &  0.721954102 & 0.28353061 &  2.54630041 & 1.415081e-02 & Age & ADH4     & -1.22705160 &  0.691615692 & 1.00000000 & Unchanged       \\\\\n",
       "\t cohort.cohortGuidBR218 &  0.137926417 & 0.09516720 &  1.44930627 & 1.537544e-01 & Age & CLTA     &  0.45301295 &  0.114519538 & 1.00000000 & Unchanged       \\\\\n",
       "\t cohort.cohortGuidBR219 & -0.048289292 & 0.13432732 & -0.35948972 & 7.208055e-01 & Age & EPHX2    &  0.67026057 & -0.055684538 & 1.00000000 & Unchanged       \\\\\n",
       "\t cohort.cohortGuidBR220 & -0.061075096 & 0.09599541 & -0.63622932 & 5.276493e-01 & Age & TP53INP1 & -0.24778778 & -0.043693308 & 1.00000000 & Unchanged       \\\\\n",
       "\t cohort.cohortGuidBR221 &  0.211367506 & 0.10604965 &  1.99309947 & 5.195167e-02 & Age & ZBTB17   &  1.28913009 &  0.213455692 & 1.00000000 & Unchanged       \\\\\n",
       "\t cohort.cohortGuidBR222 &  0.260352385 & 0.15493120 &  1.68043869 & 9.936952e-02 & Age & PTN      &  0.31330645 &  0.276344846 & 1.00000000 & Unchanged       \\\\\n",
       "\t cohort.cohortGuidBR223 &  0.136782490 & 0.32979640 &  0.41474828 & 6.818637e-01 & Age & CEP43    &  0.10272641 &  0.049215000 & 1.00000000 & Unchanged       \\\\\n",
       "\t cohort.cohortGuidBR224 & -0.531141245 & 0.30031458 & -1.76861625 & 8.915970e-02 & Age & IRAG2    & -0.49834265 & -0.402877500 & 1.00000000 & Unchanged       \\\\\n",
       "\t cohort.cohortGuidBR225 & -0.015717294 & 0.24465301 & -0.06424321 & 9.490434e-01 & Age & COMT     &  0.06975558 &  0.043832077 & 1.00000000 & Unchanged       \\\\\n",
       "\t cohort.cohortGuidBR226 &  0.249846261 & 0.11283581 &  2.21424626 & 3.159475e-02 & Age & MMP7     & -0.27814095 &  0.274740462 & 1.00000000 & Unchanged       \\\\\n",
       "\t cohort.cohortGuidBR227 &  0.203230783 & 0.11888687 &  1.70944685 & 9.382669e-02 & Age & PON2     &          NA &  0.175957846 & 1.00000000 & Unchanged       \\\\\n",
       "\t cohort.cohortGuidBR228 &  0.263376021 & 0.08737375 &  3.01436083 & 4.105586e-03 & Age & ADAMTS16 &  2.25150620 &  0.262276846 & 1.00000000 & Unchanged       \\\\\n",
       "\t cohort.cohortGuidBR229 &  0.212181556 & 0.22379721 &  0.94809742 & 3.478289e-01 & Age & GP2      &  0.47596004 &  0.250656923 & 1.00000000 & Unchanged       \\\\\n",
       "\t ⋮ & ⋮ & ⋮ & ⋮ & ⋮ & ⋮ & ⋮ & ⋮ & ⋮ & ⋮ & ⋮\\\\\n",
       "\t cohort.cohortGuidBR21442 &  0.16215377 & 0.33548265 &  0.48334474 & 6.310485e-01 & Age & FYB1     &  0.190444651 &  0.33926738 & 1.000000000 & Unchanged       \\\\\n",
       "\t cohort.cohortGuidBR21443 & -0.10582013 & 0.14844741 & -0.71284596 & 4.793923e-01 & Age & BLVRB    & -0.125607323 & -0.11158054 & 1.000000000 & Unchanged       \\\\\n",
       "\t cohort.cohortGuidBR21444 &  0.04949210 & 0.09122251 &  0.54254264 & 5.899550e-01 & Age & RELT     &  3.629286435 &  0.06958069 & 1.000000000 & Unchanged       \\\\\n",
       "\t cohort.cohortGuidBR21445 &  0.05882062 & 0.18210012 &  0.32301250 & 7.480887e-01 & Age & DBI      &  0.300985454 &  0.13581600 & 1.000000000 & Unchanged       \\\\\n",
       "\t cohort.cohortGuidBR21446 &  0.30730867 & 0.13046202 &  2.35554128 & 2.262950e-02 & Age & VSIG4    &  2.599868788 &  0.30632846 & 1.000000000 & Unchanged       \\\\\n",
       "\t cohort.cohortGuidBR21447 &  0.29629220 & 0.08953150 &  3.30936250 & 1.779116e-03 & Age & TNFRSF1B &  4.883344118 &  0.25959015 & 1.000000000 & Unchanged       \\\\\n",
       "\t cohort.cohortGuidBR21448 &  0.19493505 & 0.08209244 &  2.37457991 & 2.161441e-02 & Age & IGF2R    &  1.301563805 &  0.15802685 & 1.000000000 & Unchanged       \\\\\n",
       "\t cohort.cohortGuidBR21449 &  0.07656212 & 0.11385087 &  0.67247720 & 5.045045e-01 & Age & TIMP4    &  0.272162887 &  0.09118615 & 1.000000000 & Unchanged       \\\\\n",
       "\t cohort.cohortGuidBR21450 & -0.13335355 & 0.08656110 & -1.54057129 & 1.299884e-01 & Age & SPINK5   & -1.971662186 & -0.17381231 & 1.000000000 & Unchanged       \\\\\n",
       "\t cohort.cohortGuidBR21451 &  0.04067796 & 0.18899065 &  0.21523793 & 8.304938e-01 & Age & CA2      &  0.018110146 &  0.03217769 & 1.000000000 & Unchanged       \\\\\n",
       "\t cohort.cohortGuidBR21452 &  0.01122650 & 0.15844321 &  0.07085506 & 9.438075e-01 & Age & CTRB1    &  0.072685946 &  0.05097862 & 1.000000000 & Unchanged       \\\\\n",
       "\t cohort.cohortGuidBR21453 &  0.07904451 & 0.14056380 &  0.56233902 & 5.765020e-01 & Age & F11R     &  0.367335517 &  0.12788992 & 1.000000000 & Unchanged       \\\\\n",
       "\t cohort.cohortGuidBR21454 &  0.02558429 & 0.14698233 &  0.17406372 & 8.625474e-01 & Age & LILRA2   &  1.380688767 &  0.09476738 & 1.000000000 & Unchanged       \\\\\n",
       "\t cohort.cohortGuidBR21455 &  0.24630752 & 0.11372599 &  2.16579806 & 3.532506e-02 & Age & PAMR1    &  1.680183558 &  0.24169308 & 1.000000000 & Unchanged       \\\\\n",
       "\t cohort.cohortGuidBR21456 &  0.65666798 & 0.12183906 &  5.38963427 & 2.113549e-06 & Age & TFF1     &           NA &  0.62230469 & 0.003075214 & Up-regulated-BR2\\\\\n",
       "\t cohort.cohortGuidBR21457 &  0.42375806 & 0.08474160 &  5.00059066 & 8.045463e-06 & Age & TNFRSF1A &           NA &  0.39705308 & 0.011617648 & Up-regulated-BR2\\\\\n",
       "\t cohort.cohortGuidBR21458 & -0.14923909 & 0.20780863 & -0.71815638 & 4.761420e-01 & Age & CLPS     & -0.458123565 & -0.19728300 & 1.000000000 & Unchanged       \\\\\n",
       "\t cohort.cohortGuidBR21459 & -0.21777248 & 0.09535989 & -2.28369065 & 2.685595e-02 & Age & STC2     & -1.702122958 & -0.25842454 & 1.000000000 & Unchanged       \\\\\n",
       "\t cohort.cohortGuidBR21460 &  0.25136036 & 0.11383598 &  2.20809251 & 3.204841e-02 & Age & IGFBP4   &  0.889983891 &  0.23031423 & 1.000000000 & Unchanged       \\\\\n",
       "\t cohort.cohortGuidBR21461 &  0.04026165 & 0.08204678 &  0.49071580 & 6.265253e-01 & Age & GRN      &  0.299121838 &  0.05164949 & 1.000000000 & Unchanged       \\\\\n",
       "\t cohort.cohortGuidBR21462 & -0.05008388 & 0.14947830 & -0.33505783 & 7.390414e-01 & Age & PARK7    & -0.006201015 & -0.00532800 & 1.000000000 & Unchanged       \\\\\n",
       "\t cohort.cohortGuidBR21463 & -0.07526154 & 0.12840798 & -0.58611263 & 5.643566e-01 & Age & CASC4    & -0.493637445 & -0.09694667 & 1.000000000 & Unchanged       \\\\\n",
       "\t cohort.cohortGuidBR21464 &  0.18553718 & 0.18776172 &  0.98815230 & 3.348829e-01 & Age & WISP2    &  0.489137026 &  0.17801000 & 1.000000000 & Unchanged       \\\\\n",
       "\t cohort.cohortGuidBR21465 & -0.21976282 & 0.26777320 & -0.82070507 & 4.214892e-01 & Age & HARS     & -0.274081343 & -0.20179222 & 1.000000000 & Unchanged       \\\\\n",
       "\t cohort.cohortGuidBR21466 & -0.51157692 & 0.40480598 & -1.26375833 & 2.208490e-01 & Age & DARS     & -0.554671701 & -0.44814000 & 1.000000000 & Unchanged       \\\\\n",
       "\t cohort.cohortGuidBR21467 &  0.07763077 & 0.21949993 &  0.35367105 & 7.272864e-01 & Age & WISP1    &  0.084720665 &  0.03148444 & 1.000000000 & Unchanged       \\\\\n",
       "\t cohort.cohortGuidBR21468 & -0.29378205 & 0.37495243 & -0.78351819 & 4.425033e-01 & Age & FOPNL    &  0.939045154 & -0.25298000 & 1.000000000 & Unchanged       \\\\\n",
       "\t cohort.cohortGuidBR21469 &  0.23044744 & 0.18237873 &  1.26356531 & 2.209169e-01 & Age & CD97     &  0.729521650 &  0.21280778 & 1.000000000 & Unchanged       \\\\\n",
       "\t cohort.cohortGuidBR21470 & -0.31041026 & 0.27269497 & -1.13830575 & 2.684453e-01 & Age & LRMP     & -1.485255880 & -0.29413778 & 1.000000000 & Unchanged       \\\\\n",
       "\t cohort.cohortGuidBR21471 & -0.31383205 & 0.19479284 & -1.61110671 & 1.228265e-01 & Age & FGFR1OP  & -2.504451321 & -0.35964333 & 1.000000000 & Unchanged       \\\\\n",
       "\\end{tabular}\n"
      ],
      "text/markdown": [
       "\n",
       "A data.frame: 1472 × 11\n",
       "\n",
       "| X &lt;chr&gt; | Estimate &lt;dbl&gt; | Std..Error &lt;dbl&gt; | t.value &lt;dbl&gt; | Pr...t.. &lt;dbl&gt; | factor &lt;chr&gt; | Assay &lt;chr&gt; | Log2FC_Age &lt;dbl&gt; | diff &lt;dbl&gt; | padj &lt;dbl&gt; | Expression &lt;chr&gt; |\n",
       "|---|---|---|---|---|---|---|---|---|---|---|\n",
       "| cohort.cohortGuidBR2   |  0.014084760 | 0.32010931 |  0.04399985 | 9.650871e-01 | Age | GYS1     |  0.00997620 |  0.018938538 | 1.00000000 | Unchanged        |\n",
       "| cohort.cohortGuidBR21  |  0.376308726 | 0.08035168 |  4.68327128 | 2.349236e-05 | Age | THPO     |  0.76754320 |  0.389521308 | 0.03371154 | Up-regulated-BR2 |\n",
       "| cohort.cohortGuidBR22  |  0.149121132 | 0.10279043 |  1.45072969 | 1.533592e-01 | Age | CLEC1A   |  0.27795947 |  0.150093769 | 1.00000000 | Unchanged        |\n",
       "| cohort.cohortGuidBR23  |  0.063681226 | 0.06761780 |  0.94178194 | 3.510202e-01 | Age | ENTPD6   |  0.15037582 |  0.058399538 | 1.00000000 | Unchanged        |\n",
       "| cohort.cohortGuidBR24  | -0.007663344 | 0.19752234 | -0.03879735 | 9.692129e-01 | Age | CEACAM8  | -0.03573175 | -0.008413308 | 1.00000000 | Unchanged        |\n",
       "| cohort.cohortGuidBR25  |  0.305021773 | 0.14688491 |  2.07660387 | 4.321507e-02 | Age | S100P    |          NA |  0.338451538 | 1.00000000 | Unchanged        |\n",
       "| cohort.cohortGuidBR26  |  0.168489067 | 0.09392083 |  1.79394781 | 7.912163e-02 | Age | ENTPD5   |  0.49562989 |  0.162497923 | 1.00000000 | Unchanged        |\n",
       "| cohort.cohortGuidBR27  |  0.115010325 | 0.11539259 |  0.99668724 | 3.239145e-01 | Age | ACE2     | -0.41812922 |  0.114802769 | 1.00000000 | Unchanged        |\n",
       "| cohort.cohortGuidBR28  |  0.369476278 | 0.08413225 |  4.39161306 | 6.172413e-05 | Age | DCN      |          NA |  0.336191231 | 0.08795688 | Unchanged        |\n",
       "| cohort.cohortGuidBR29  |  0.164118364 | 0.19603929 |  0.83717079 | 4.066455e-01 | Age | GLO1     | -0.49999065 |  0.195088615 | 1.00000000 | Unchanged        |\n",
       "| cohort.cohortGuidBR210 | -0.100629581 | 0.22346204 | -0.45032070 | 6.545067e-01 | Age | USP8     | -0.04336813 |  0.040536846 | 1.00000000 | Unchanged        |\n",
       "| cohort.cohortGuidBR211 |  0.244176034 | 0.09477511 |  2.57637298 | 1.311608e-02 | Age | BMP6     |  0.66372961 |  0.195266462 | 1.00000000 | Unchanged        |\n",
       "| cohort.cohortGuidBR212 | -0.046818635 | 0.32656973 | -0.14336490 | 8.866022e-01 | Age | ITGB1BP2 |  0.03258862 |  0.046945462 | 1.00000000 | Unchanged        |\n",
       "| cohort.cohortGuidBR213 |  0.238060001 | 0.25245391 |  0.94298400 | 3.504113e-01 | Age | CTSH     | -0.98115102 |  0.244863846 | 1.00000000 | Unchanged        |\n",
       "| cohort.cohortGuidBR214 |  0.148739748 | 0.09156031 |  1.62450023 | 1.108185e-01 | Age | BAG6     |  0.36390506 |  0.176376231 | 1.00000000 | Unchanged        |\n",
       "| cohort.cohortGuidBR215 | -0.465427150 | 0.20905221 | -2.22636801 | 3.071772e-02 | Age | MSTN     | -4.93407057 | -0.456805846 | 1.00000000 | Unchanged        |\n",
       "| cohort.cohortGuidBR216 |  0.051025869 | 0.10756847 |  0.47435713 | 6.373962e-01 | Age | BOC      | -0.03527321 | -0.006127769 | 1.00000000 | Unchanged        |\n",
       "| cohort.cohortGuidBR217 |  0.721954102 | 0.28353061 |  2.54630041 | 1.415081e-02 | Age | ADH4     | -1.22705160 |  0.691615692 | 1.00000000 | Unchanged        |\n",
       "| cohort.cohortGuidBR218 |  0.137926417 | 0.09516720 |  1.44930627 | 1.537544e-01 | Age | CLTA     |  0.45301295 |  0.114519538 | 1.00000000 | Unchanged        |\n",
       "| cohort.cohortGuidBR219 | -0.048289292 | 0.13432732 | -0.35948972 | 7.208055e-01 | Age | EPHX2    |  0.67026057 | -0.055684538 | 1.00000000 | Unchanged        |\n",
       "| cohort.cohortGuidBR220 | -0.061075096 | 0.09599541 | -0.63622932 | 5.276493e-01 | Age | TP53INP1 | -0.24778778 | -0.043693308 | 1.00000000 | Unchanged        |\n",
       "| cohort.cohortGuidBR221 |  0.211367506 | 0.10604965 |  1.99309947 | 5.195167e-02 | Age | ZBTB17   |  1.28913009 |  0.213455692 | 1.00000000 | Unchanged        |\n",
       "| cohort.cohortGuidBR222 |  0.260352385 | 0.15493120 |  1.68043869 | 9.936952e-02 | Age | PTN      |  0.31330645 |  0.276344846 | 1.00000000 | Unchanged        |\n",
       "| cohort.cohortGuidBR223 |  0.136782490 | 0.32979640 |  0.41474828 | 6.818637e-01 | Age | CEP43    |  0.10272641 |  0.049215000 | 1.00000000 | Unchanged        |\n",
       "| cohort.cohortGuidBR224 | -0.531141245 | 0.30031458 | -1.76861625 | 8.915970e-02 | Age | IRAG2    | -0.49834265 | -0.402877500 | 1.00000000 | Unchanged        |\n",
       "| cohort.cohortGuidBR225 | -0.015717294 | 0.24465301 | -0.06424321 | 9.490434e-01 | Age | COMT     |  0.06975558 |  0.043832077 | 1.00000000 | Unchanged        |\n",
       "| cohort.cohortGuidBR226 |  0.249846261 | 0.11283581 |  2.21424626 | 3.159475e-02 | Age | MMP7     | -0.27814095 |  0.274740462 | 1.00000000 | Unchanged        |\n",
       "| cohort.cohortGuidBR227 |  0.203230783 | 0.11888687 |  1.70944685 | 9.382669e-02 | Age | PON2     |          NA |  0.175957846 | 1.00000000 | Unchanged        |\n",
       "| cohort.cohortGuidBR228 |  0.263376021 | 0.08737375 |  3.01436083 | 4.105586e-03 | Age | ADAMTS16 |  2.25150620 |  0.262276846 | 1.00000000 | Unchanged        |\n",
       "| cohort.cohortGuidBR229 |  0.212181556 | 0.22379721 |  0.94809742 | 3.478289e-01 | Age | GP2      |  0.47596004 |  0.250656923 | 1.00000000 | Unchanged        |\n",
       "| ⋮ | ⋮ | ⋮ | ⋮ | ⋮ | ⋮ | ⋮ | ⋮ | ⋮ | ⋮ | ⋮ |\n",
       "| cohort.cohortGuidBR21442 |  0.16215377 | 0.33548265 |  0.48334474 | 6.310485e-01 | Age | FYB1     |  0.190444651 |  0.33926738 | 1.000000000 | Unchanged        |\n",
       "| cohort.cohortGuidBR21443 | -0.10582013 | 0.14844741 | -0.71284596 | 4.793923e-01 | Age | BLVRB    | -0.125607323 | -0.11158054 | 1.000000000 | Unchanged        |\n",
       "| cohort.cohortGuidBR21444 |  0.04949210 | 0.09122251 |  0.54254264 | 5.899550e-01 | Age | RELT     |  3.629286435 |  0.06958069 | 1.000000000 | Unchanged        |\n",
       "| cohort.cohortGuidBR21445 |  0.05882062 | 0.18210012 |  0.32301250 | 7.480887e-01 | Age | DBI      |  0.300985454 |  0.13581600 | 1.000000000 | Unchanged        |\n",
       "| cohort.cohortGuidBR21446 |  0.30730867 | 0.13046202 |  2.35554128 | 2.262950e-02 | Age | VSIG4    |  2.599868788 |  0.30632846 | 1.000000000 | Unchanged        |\n",
       "| cohort.cohortGuidBR21447 |  0.29629220 | 0.08953150 |  3.30936250 | 1.779116e-03 | Age | TNFRSF1B |  4.883344118 |  0.25959015 | 1.000000000 | Unchanged        |\n",
       "| cohort.cohortGuidBR21448 |  0.19493505 | 0.08209244 |  2.37457991 | 2.161441e-02 | Age | IGF2R    |  1.301563805 |  0.15802685 | 1.000000000 | Unchanged        |\n",
       "| cohort.cohortGuidBR21449 |  0.07656212 | 0.11385087 |  0.67247720 | 5.045045e-01 | Age | TIMP4    |  0.272162887 |  0.09118615 | 1.000000000 | Unchanged        |\n",
       "| cohort.cohortGuidBR21450 | -0.13335355 | 0.08656110 | -1.54057129 | 1.299884e-01 | Age | SPINK5   | -1.971662186 | -0.17381231 | 1.000000000 | Unchanged        |\n",
       "| cohort.cohortGuidBR21451 |  0.04067796 | 0.18899065 |  0.21523793 | 8.304938e-01 | Age | CA2      |  0.018110146 |  0.03217769 | 1.000000000 | Unchanged        |\n",
       "| cohort.cohortGuidBR21452 |  0.01122650 | 0.15844321 |  0.07085506 | 9.438075e-01 | Age | CTRB1    |  0.072685946 |  0.05097862 | 1.000000000 | Unchanged        |\n",
       "| cohort.cohortGuidBR21453 |  0.07904451 | 0.14056380 |  0.56233902 | 5.765020e-01 | Age | F11R     |  0.367335517 |  0.12788992 | 1.000000000 | Unchanged        |\n",
       "| cohort.cohortGuidBR21454 |  0.02558429 | 0.14698233 |  0.17406372 | 8.625474e-01 | Age | LILRA2   |  1.380688767 |  0.09476738 | 1.000000000 | Unchanged        |\n",
       "| cohort.cohortGuidBR21455 |  0.24630752 | 0.11372599 |  2.16579806 | 3.532506e-02 | Age | PAMR1    |  1.680183558 |  0.24169308 | 1.000000000 | Unchanged        |\n",
       "| cohort.cohortGuidBR21456 |  0.65666798 | 0.12183906 |  5.38963427 | 2.113549e-06 | Age | TFF1     |           NA |  0.62230469 | 0.003075214 | Up-regulated-BR2 |\n",
       "| cohort.cohortGuidBR21457 |  0.42375806 | 0.08474160 |  5.00059066 | 8.045463e-06 | Age | TNFRSF1A |           NA |  0.39705308 | 0.011617648 | Up-regulated-BR2 |\n",
       "| cohort.cohortGuidBR21458 | -0.14923909 | 0.20780863 | -0.71815638 | 4.761420e-01 | Age | CLPS     | -0.458123565 | -0.19728300 | 1.000000000 | Unchanged        |\n",
       "| cohort.cohortGuidBR21459 | -0.21777248 | 0.09535989 | -2.28369065 | 2.685595e-02 | Age | STC2     | -1.702122958 | -0.25842454 | 1.000000000 | Unchanged        |\n",
       "| cohort.cohortGuidBR21460 |  0.25136036 | 0.11383598 |  2.20809251 | 3.204841e-02 | Age | IGFBP4   |  0.889983891 |  0.23031423 | 1.000000000 | Unchanged        |\n",
       "| cohort.cohortGuidBR21461 |  0.04026165 | 0.08204678 |  0.49071580 | 6.265253e-01 | Age | GRN      |  0.299121838 |  0.05164949 | 1.000000000 | Unchanged        |\n",
       "| cohort.cohortGuidBR21462 | -0.05008388 | 0.14947830 | -0.33505783 | 7.390414e-01 | Age | PARK7    | -0.006201015 | -0.00532800 | 1.000000000 | Unchanged        |\n",
       "| cohort.cohortGuidBR21463 | -0.07526154 | 0.12840798 | -0.58611263 | 5.643566e-01 | Age | CASC4    | -0.493637445 | -0.09694667 | 1.000000000 | Unchanged        |\n",
       "| cohort.cohortGuidBR21464 |  0.18553718 | 0.18776172 |  0.98815230 | 3.348829e-01 | Age | WISP2    |  0.489137026 |  0.17801000 | 1.000000000 | Unchanged        |\n",
       "| cohort.cohortGuidBR21465 | -0.21976282 | 0.26777320 | -0.82070507 | 4.214892e-01 | Age | HARS     | -0.274081343 | -0.20179222 | 1.000000000 | Unchanged        |\n",
       "| cohort.cohortGuidBR21466 | -0.51157692 | 0.40480598 | -1.26375833 | 2.208490e-01 | Age | DARS     | -0.554671701 | -0.44814000 | 1.000000000 | Unchanged        |\n",
       "| cohort.cohortGuidBR21467 |  0.07763077 | 0.21949993 |  0.35367105 | 7.272864e-01 | Age | WISP1    |  0.084720665 |  0.03148444 | 1.000000000 | Unchanged        |\n",
       "| cohort.cohortGuidBR21468 | -0.29378205 | 0.37495243 | -0.78351819 | 4.425033e-01 | Age | FOPNL    |  0.939045154 | -0.25298000 | 1.000000000 | Unchanged        |\n",
       "| cohort.cohortGuidBR21469 |  0.23044744 | 0.18237873 |  1.26356531 | 2.209169e-01 | Age | CD97     |  0.729521650 |  0.21280778 | 1.000000000 | Unchanged        |\n",
       "| cohort.cohortGuidBR21470 | -0.31041026 | 0.27269497 | -1.13830575 | 2.684453e-01 | Age | LRMP     | -1.485255880 | -0.29413778 | 1.000000000 | Unchanged        |\n",
       "| cohort.cohortGuidBR21471 | -0.31383205 | 0.19479284 | -1.61110671 | 1.228265e-01 | Age | FGFR1OP  | -2.504451321 | -0.35964333 | 1.000000000 | Unchanged        |\n",
       "\n"
      ],
      "text/plain": [
       "     X                        Estimate     Std..Error t.value     Pr...t..    \n",
       "1    cohort.cohortGuidBR2      0.014084760 0.32010931  0.04399985 9.650871e-01\n",
       "2    cohort.cohortGuidBR21     0.376308726 0.08035168  4.68327128 2.349236e-05\n",
       "3    cohort.cohortGuidBR22     0.149121132 0.10279043  1.45072969 1.533592e-01\n",
       "4    cohort.cohortGuidBR23     0.063681226 0.06761780  0.94178194 3.510202e-01\n",
       "5    cohort.cohortGuidBR24    -0.007663344 0.19752234 -0.03879735 9.692129e-01\n",
       "6    cohort.cohortGuidBR25     0.305021773 0.14688491  2.07660387 4.321507e-02\n",
       "7    cohort.cohortGuidBR26     0.168489067 0.09392083  1.79394781 7.912163e-02\n",
       "8    cohort.cohortGuidBR27     0.115010325 0.11539259  0.99668724 3.239145e-01\n",
       "9    cohort.cohortGuidBR28     0.369476278 0.08413225  4.39161306 6.172413e-05\n",
       "10   cohort.cohortGuidBR29     0.164118364 0.19603929  0.83717079 4.066455e-01\n",
       "11   cohort.cohortGuidBR210   -0.100629581 0.22346204 -0.45032070 6.545067e-01\n",
       "12   cohort.cohortGuidBR211    0.244176034 0.09477511  2.57637298 1.311608e-02\n",
       "13   cohort.cohortGuidBR212   -0.046818635 0.32656973 -0.14336490 8.866022e-01\n",
       "14   cohort.cohortGuidBR213    0.238060001 0.25245391  0.94298400 3.504113e-01\n",
       "15   cohort.cohortGuidBR214    0.148739748 0.09156031  1.62450023 1.108185e-01\n",
       "16   cohort.cohortGuidBR215   -0.465427150 0.20905221 -2.22636801 3.071772e-02\n",
       "17   cohort.cohortGuidBR216    0.051025869 0.10756847  0.47435713 6.373962e-01\n",
       "18   cohort.cohortGuidBR217    0.721954102 0.28353061  2.54630041 1.415081e-02\n",
       "19   cohort.cohortGuidBR218    0.137926417 0.09516720  1.44930627 1.537544e-01\n",
       "20   cohort.cohortGuidBR219   -0.048289292 0.13432732 -0.35948972 7.208055e-01\n",
       "21   cohort.cohortGuidBR220   -0.061075096 0.09599541 -0.63622932 5.276493e-01\n",
       "22   cohort.cohortGuidBR221    0.211367506 0.10604965  1.99309947 5.195167e-02\n",
       "23   cohort.cohortGuidBR222    0.260352385 0.15493120  1.68043869 9.936952e-02\n",
       "24   cohort.cohortGuidBR223    0.136782490 0.32979640  0.41474828 6.818637e-01\n",
       "25   cohort.cohortGuidBR224   -0.531141245 0.30031458 -1.76861625 8.915970e-02\n",
       "26   cohort.cohortGuidBR225   -0.015717294 0.24465301 -0.06424321 9.490434e-01\n",
       "27   cohort.cohortGuidBR226    0.249846261 0.11283581  2.21424626 3.159475e-02\n",
       "28   cohort.cohortGuidBR227    0.203230783 0.11888687  1.70944685 9.382669e-02\n",
       "29   cohort.cohortGuidBR228    0.263376021 0.08737375  3.01436083 4.105586e-03\n",
       "30   cohort.cohortGuidBR229    0.212181556 0.22379721  0.94809742 3.478289e-01\n",
       "⋮    ⋮                        ⋮            ⋮          ⋮           ⋮           \n",
       "1443 cohort.cohortGuidBR21442  0.16215377  0.33548265  0.48334474 6.310485e-01\n",
       "1444 cohort.cohortGuidBR21443 -0.10582013  0.14844741 -0.71284596 4.793923e-01\n",
       "1445 cohort.cohortGuidBR21444  0.04949210  0.09122251  0.54254264 5.899550e-01\n",
       "1446 cohort.cohortGuidBR21445  0.05882062  0.18210012  0.32301250 7.480887e-01\n",
       "1447 cohort.cohortGuidBR21446  0.30730867  0.13046202  2.35554128 2.262950e-02\n",
       "1448 cohort.cohortGuidBR21447  0.29629220  0.08953150  3.30936250 1.779116e-03\n",
       "1449 cohort.cohortGuidBR21448  0.19493505  0.08209244  2.37457991 2.161441e-02\n",
       "1450 cohort.cohortGuidBR21449  0.07656212  0.11385087  0.67247720 5.045045e-01\n",
       "1451 cohort.cohortGuidBR21450 -0.13335355  0.08656110 -1.54057129 1.299884e-01\n",
       "1452 cohort.cohortGuidBR21451  0.04067796  0.18899065  0.21523793 8.304938e-01\n",
       "1453 cohort.cohortGuidBR21452  0.01122650  0.15844321  0.07085506 9.438075e-01\n",
       "1454 cohort.cohortGuidBR21453  0.07904451  0.14056380  0.56233902 5.765020e-01\n",
       "1455 cohort.cohortGuidBR21454  0.02558429  0.14698233  0.17406372 8.625474e-01\n",
       "1456 cohort.cohortGuidBR21455  0.24630752  0.11372599  2.16579806 3.532506e-02\n",
       "1457 cohort.cohortGuidBR21456  0.65666798  0.12183906  5.38963427 2.113549e-06\n",
       "1458 cohort.cohortGuidBR21457  0.42375806  0.08474160  5.00059066 8.045463e-06\n",
       "1459 cohort.cohortGuidBR21458 -0.14923909  0.20780863 -0.71815638 4.761420e-01\n",
       "1460 cohort.cohortGuidBR21459 -0.21777248  0.09535989 -2.28369065 2.685595e-02\n",
       "1461 cohort.cohortGuidBR21460  0.25136036  0.11383598  2.20809251 3.204841e-02\n",
       "1462 cohort.cohortGuidBR21461  0.04026165  0.08204678  0.49071580 6.265253e-01\n",
       "1463 cohort.cohortGuidBR21462 -0.05008388  0.14947830 -0.33505783 7.390414e-01\n",
       "1464 cohort.cohortGuidBR21463 -0.07526154  0.12840798 -0.58611263 5.643566e-01\n",
       "1465 cohort.cohortGuidBR21464  0.18553718  0.18776172  0.98815230 3.348829e-01\n",
       "1466 cohort.cohortGuidBR21465 -0.21976282  0.26777320 -0.82070507 4.214892e-01\n",
       "1467 cohort.cohortGuidBR21466 -0.51157692  0.40480598 -1.26375833 2.208490e-01\n",
       "1468 cohort.cohortGuidBR21467  0.07763077  0.21949993  0.35367105 7.272864e-01\n",
       "1469 cohort.cohortGuidBR21468 -0.29378205  0.37495243 -0.78351819 4.425033e-01\n",
       "1470 cohort.cohortGuidBR21469  0.23044744  0.18237873  1.26356531 2.209169e-01\n",
       "1471 cohort.cohortGuidBR21470 -0.31041026  0.27269497 -1.13830575 2.684453e-01\n",
       "1472 cohort.cohortGuidBR21471 -0.31383205  0.19479284 -1.61110671 1.228265e-01\n",
       "     factor Assay    Log2FC_Age   diff         padj        Expression      \n",
       "1    Age    GYS1      0.00997620   0.018938538 1.00000000  Unchanged       \n",
       "2    Age    THPO      0.76754320   0.389521308 0.03371154  Up-regulated-BR2\n",
       "3    Age    CLEC1A    0.27795947   0.150093769 1.00000000  Unchanged       \n",
       "4    Age    ENTPD6    0.15037582   0.058399538 1.00000000  Unchanged       \n",
       "5    Age    CEACAM8  -0.03573175  -0.008413308 1.00000000  Unchanged       \n",
       "6    Age    S100P             NA   0.338451538 1.00000000  Unchanged       \n",
       "7    Age    ENTPD5    0.49562989   0.162497923 1.00000000  Unchanged       \n",
       "8    Age    ACE2     -0.41812922   0.114802769 1.00000000  Unchanged       \n",
       "9    Age    DCN               NA   0.336191231 0.08795688  Unchanged       \n",
       "10   Age    GLO1     -0.49999065   0.195088615 1.00000000  Unchanged       \n",
       "11   Age    USP8     -0.04336813   0.040536846 1.00000000  Unchanged       \n",
       "12   Age    BMP6      0.66372961   0.195266462 1.00000000  Unchanged       \n",
       "13   Age    ITGB1BP2  0.03258862   0.046945462 1.00000000  Unchanged       \n",
       "14   Age    CTSH     -0.98115102   0.244863846 1.00000000  Unchanged       \n",
       "15   Age    BAG6      0.36390506   0.176376231 1.00000000  Unchanged       \n",
       "16   Age    MSTN     -4.93407057  -0.456805846 1.00000000  Unchanged       \n",
       "17   Age    BOC      -0.03527321  -0.006127769 1.00000000  Unchanged       \n",
       "18   Age    ADH4     -1.22705160   0.691615692 1.00000000  Unchanged       \n",
       "19   Age    CLTA      0.45301295   0.114519538 1.00000000  Unchanged       \n",
       "20   Age    EPHX2     0.67026057  -0.055684538 1.00000000  Unchanged       \n",
       "21   Age    TP53INP1 -0.24778778  -0.043693308 1.00000000  Unchanged       \n",
       "22   Age    ZBTB17    1.28913009   0.213455692 1.00000000  Unchanged       \n",
       "23   Age    PTN       0.31330645   0.276344846 1.00000000  Unchanged       \n",
       "24   Age    CEP43     0.10272641   0.049215000 1.00000000  Unchanged       \n",
       "25   Age    IRAG2    -0.49834265  -0.402877500 1.00000000  Unchanged       \n",
       "26   Age    COMT      0.06975558   0.043832077 1.00000000  Unchanged       \n",
       "27   Age    MMP7     -0.27814095   0.274740462 1.00000000  Unchanged       \n",
       "28   Age    PON2              NA   0.175957846 1.00000000  Unchanged       \n",
       "29   Age    ADAMTS16  2.25150620   0.262276846 1.00000000  Unchanged       \n",
       "30   Age    GP2       0.47596004   0.250656923 1.00000000  Unchanged       \n",
       "⋮    ⋮      ⋮        ⋮            ⋮            ⋮           ⋮               \n",
       "1443 Age    FYB1      0.190444651  0.33926738  1.000000000 Unchanged       \n",
       "1444 Age    BLVRB    -0.125607323 -0.11158054  1.000000000 Unchanged       \n",
       "1445 Age    RELT      3.629286435  0.06958069  1.000000000 Unchanged       \n",
       "1446 Age    DBI       0.300985454  0.13581600  1.000000000 Unchanged       \n",
       "1447 Age    VSIG4     2.599868788  0.30632846  1.000000000 Unchanged       \n",
       "1448 Age    TNFRSF1B  4.883344118  0.25959015  1.000000000 Unchanged       \n",
       "1449 Age    IGF2R     1.301563805  0.15802685  1.000000000 Unchanged       \n",
       "1450 Age    TIMP4     0.272162887  0.09118615  1.000000000 Unchanged       \n",
       "1451 Age    SPINK5   -1.971662186 -0.17381231  1.000000000 Unchanged       \n",
       "1452 Age    CA2       0.018110146  0.03217769  1.000000000 Unchanged       \n",
       "1453 Age    CTRB1     0.072685946  0.05097862  1.000000000 Unchanged       \n",
       "1454 Age    F11R      0.367335517  0.12788992  1.000000000 Unchanged       \n",
       "1455 Age    LILRA2    1.380688767  0.09476738  1.000000000 Unchanged       \n",
       "1456 Age    PAMR1     1.680183558  0.24169308  1.000000000 Unchanged       \n",
       "1457 Age    TFF1               NA  0.62230469  0.003075214 Up-regulated-BR2\n",
       "1458 Age    TNFRSF1A           NA  0.39705308  0.011617648 Up-regulated-BR2\n",
       "1459 Age    CLPS     -0.458123565 -0.19728300  1.000000000 Unchanged       \n",
       "1460 Age    STC2     -1.702122958 -0.25842454  1.000000000 Unchanged       \n",
       "1461 Age    IGFBP4    0.889983891  0.23031423  1.000000000 Unchanged       \n",
       "1462 Age    GRN       0.299121838  0.05164949  1.000000000 Unchanged       \n",
       "1463 Age    PARK7    -0.006201015 -0.00532800  1.000000000 Unchanged       \n",
       "1464 Age    CASC4    -0.493637445 -0.09694667  1.000000000 Unchanged       \n",
       "1465 Age    WISP2     0.489137026  0.17801000  1.000000000 Unchanged       \n",
       "1466 Age    HARS     -0.274081343 -0.20179222  1.000000000 Unchanged       \n",
       "1467 Age    DARS     -0.554671701 -0.44814000  1.000000000 Unchanged       \n",
       "1468 Age    WISP1     0.084720665  0.03148444  1.000000000 Unchanged       \n",
       "1469 Age    FOPNL     0.939045154 -0.25298000  1.000000000 Unchanged       \n",
       "1470 Age    CD97      0.729521650  0.21280778  1.000000000 Unchanged       \n",
       "1471 Age    LRMP     -1.485255880 -0.29413778  1.000000000 Unchanged       \n",
       "1472 Age    FGFR1OP  -2.504451321 -0.35964333  1.000000000 Unchanged       "
      ]
     },
     "metadata": {},
     "output_type": "display_data"
    },
    {
     "data": {
      "text/html": [
       "<style>\n",
       ".list-inline {list-style: none; margin:0; padding: 0}\n",
       ".list-inline>li {display: inline-block}\n",
       ".list-inline>li:not(:last-child)::after {content: \"\\00b7\"; padding: 0 .5ex}\n",
       "</style>\n",
       "<ol class=list-inline><li>'Unchanged'</li><li>'Up-regulated-BR2'</li><li>'Down-regulated-BR2'</li></ol>\n"
      ],
      "text/latex": [
       "\\begin{enumerate*}\n",
       "\\item 'Unchanged'\n",
       "\\item 'Up-regulated-BR2'\n",
       "\\item 'Down-regulated-BR2'\n",
       "\\end{enumerate*}\n"
      ],
      "text/markdown": [
       "1. 'Unchanged'\n",
       "2. 'Up-regulated-BR2'\n",
       "3. 'Down-regulated-BR2'\n",
       "\n",
       "\n"
      ],
      "text/plain": [
       "[1] \"Unchanged\"          \"Up-regulated-BR2\"   \"Down-regulated-BR2\""
      ]
     },
     "metadata": {},
     "output_type": "display_data"
    }
   ],
   "source": [
    "data <- female_olink%>% mutate(Expression = case_when(diff >=0.1 & padj <= 0.05 ~ \"Up-regulated-BR2\",\n",
    "                                                     diff <= -0.1 & padj <= 0.05 ~ \"Down-regulated-BR2\",\n",
    "                                                     TRUE ~ \"Unchanged\"))\n",
    "data\n",
    "unique(data$Expression)"
   ]
  },
  {
   "cell_type": "code",
   "execution_count": 37,
   "id": "c901da17-73cd-499c-abe0-7379f05c240b",
   "metadata": {
    "tags": []
   },
   "outputs": [],
   "source": [
    "top <- 30\n",
    "top_genes <- bind_rows(\n",
    "  data %>% \n",
    "    filter(Expression == 'Up-regulated-BR2') %>% \n",
    "    arrange(padj, desc(abs(diff))) %>% \n",
    "    head(top),\n",
    "  data %>% \n",
    "    filter(Expression == 'Down-regulated-BR2') %>% \n",
    "    arrange(padj, desc(abs(diff))) %>% \n",
    "    head(top))"
   ]
  },
  {
   "cell_type": "code",
   "execution_count": 38,
   "id": "2d6b9114-7961-4a94-99b4-805d19bec1ad",
   "metadata": {
    "tags": []
   },
   "outputs": [
    {
     "data": {
      "text/html": [
       "<table class=\"dataframe\">\n",
       "<caption>A data.frame: 33 × 11</caption>\n",
       "<thead>\n",
       "\t<tr><th scope=col>X</th><th scope=col>Estimate</th><th scope=col>Std..Error</th><th scope=col>t.value</th><th scope=col>Pr...t..</th><th scope=col>factor</th><th scope=col>Assay</th><th scope=col>Log2FC_Age</th><th scope=col>diff</th><th scope=col>padj</th><th scope=col>Expression</th></tr>\n",
       "\t<tr><th scope=col>&lt;chr&gt;</th><th scope=col>&lt;dbl&gt;</th><th scope=col>&lt;dbl&gt;</th><th scope=col>&lt;dbl&gt;</th><th scope=col>&lt;dbl&gt;</th><th scope=col>&lt;chr&gt;</th><th scope=col>&lt;chr&gt;</th><th scope=col>&lt;dbl&gt;</th><th scope=col>&lt;dbl&gt;</th><th scope=col>&lt;dbl&gt;</th><th scope=col>&lt;chr&gt;</th></tr>\n",
       "</thead>\n",
       "<tbody>\n",
       "\t<tr><td>cohort.cohortGuidBR21371</td><td> 2.3438346</td><td>0.25269809</td><td> 9.275237</td><td>2.802531e-12</td><td>Age</td><td>CGA     </td><td> 2.232538</td><td> 2.3317872</td><td>4.124151e-09</td><td>Up-regulated-BR2  </td></tr>\n",
       "\t<tr><td>cohort.cohortGuidBR2567 </td><td> 1.0728851</td><td>0.11567093</td><td> 9.275321</td><td>2.801733e-12</td><td>Age</td><td>CXCL17  </td><td> 1.967067</td><td> 1.0853382</td><td>4.124151e-09</td><td>Up-regulated-BR2  </td></tr>\n",
       "\t<tr><td>cohort.cohortGuidBR2201 </td><td> 0.7626313</td><td>0.10156776</td><td> 7.508596</td><td>1.226769e-09</td><td>Age</td><td>LTBP2   </td><td>       NA</td><td> 0.7684146</td><td>1.803350e-06</td><td>Up-regulated-BR2  </td></tr>\n",
       "\t<tr><td>cohort.cohortGuidBR2376 </td><td> 0.5982352</td><td>0.08041116</td><td> 7.439703</td><td>1.562548e-09</td><td>Age</td><td>WNT9A   </td><td>       NA</td><td> 0.6143662</td><td>2.295383e-06</td><td>Up-regulated-BR2  </td></tr>\n",
       "\t<tr><td>cohort.cohortGuidBR2995 </td><td> 0.4899478</td><td>0.07207427</td><td> 6.797818</td><td>1.501586e-08</td><td>Age</td><td>F3      </td><td> 1.714444</td><td> 0.5078978</td><td>2.202827e-05</td><td>Up-regulated-BR2  </td></tr>\n",
       "\t<tr><td>cohort.cohortGuidBR21006</td><td> 0.6807488</td><td>0.10020263</td><td> 6.793722</td><td>1.523472e-08</td><td>Age</td><td>EDA2R   </td><td>       NA</td><td> 0.6705292</td><td>2.233410e-05</td><td>Up-regulated-BR2  </td></tr>\n",
       "\t<tr><td>cohort.cohortGuidBR2984 </td><td> 0.3920690</td><td>0.05839269</td><td> 6.714350</td><td>2.016632e-08</td><td>Age</td><td>ITGAV   </td><td> 1.351590</td><td> 0.3983122</td><td>2.954366e-05</td><td>Up-regulated-BR2  </td></tr>\n",
       "\t<tr><td>cohort.cohortGuidBR21345</td><td> 0.6828180</td><td>0.10382152</td><td> 6.576844</td><td>3.278218e-08</td><td>Age</td><td>SCARF2  </td><td> 2.190467</td><td> 0.6577794</td><td>4.799312e-05</td><td>Up-regulated-BR2  </td></tr>\n",
       "\t<tr><td>cohort.cohortGuidBR2226 </td><td> 0.6532702</td><td>0.10094500</td><td> 6.471546</td><td>4.755469e-08</td><td>Age</td><td>CRTAC1  </td><td>       NA</td><td> 0.6808895</td><td>6.957251e-05</td><td>Up-regulated-BR2  </td></tr>\n",
       "\t<tr><td>cohort.cohortGuidBR2354 </td><td> 0.8022039</td><td>0.12553727</td><td> 6.390165</td><td>6.338820e-08</td><td>Age</td><td>ANGPTL3 </td><td> 2.589110</td><td> 0.7880205</td><td>9.267355e-05</td><td>Up-regulated-BR2  </td></tr>\n",
       "\t<tr><td>cohort.cohortGuidBR2129 </td><td> 0.7542238</td><td>0.11809923</td><td> 6.386357</td><td>6.424623e-08</td><td>Age</td><td>SOST    </td><td> 2.090436</td><td> 0.7411938</td><td>9.386375e-05</td><td>Up-regulated-BR2  </td></tr>\n",
       "\t<tr><td>cohort.cohortGuidBR2130 </td><td> 0.5207877</td><td>0.08764225</td><td> 5.942199</td><td>3.072049e-07</td><td>Age</td><td>NPDC1   </td><td> 1.024190</td><td> 0.4964650</td><td>4.485191e-04</td><td>Up-regulated-BR2  </td></tr>\n",
       "\t<tr><td>cohort.cohortGuidBR264  </td><td> 0.6177760</td><td>0.10530276</td><td> 5.866665</td><td>4.004721e-07</td><td>Age</td><td>ACTA2   </td><td>       NA</td><td> 0.6214094</td><td>5.842887e-04</td><td>Up-regulated-BR2  </td></tr>\n",
       "\t<tr><td>cohort.cohortGuidBR2290 </td><td> 0.5482325</td><td>0.09989168</td><td> 5.488270</td><td>1.501199e-06</td><td>Age</td><td>MCAM    </td><td>       NA</td><td> 0.5132711</td><td>2.187247e-03</td><td>Up-regulated-BR2  </td></tr>\n",
       "\t<tr><td>cohort.cohortGuidBR2509 </td><td> 0.7000862</td><td>0.12864500</td><td> 5.442001</td><td>1.762763e-06</td><td>Age</td><td>ITGA11  </td><td>       NA</td><td> 0.6906921</td><td>2.566582e-03</td><td>Up-regulated-BR2  </td></tr>\n",
       "\t<tr><td>cohort.cohortGuidBR21456</td><td> 0.6566680</td><td>0.12183906</td><td> 5.389634</td><td>2.113549e-06</td><td>Age</td><td>TFF1    </td><td>       NA</td><td> 0.6223047</td><td>3.075214e-03</td><td>Up-regulated-BR2  </td></tr>\n",
       "\t<tr><td>cohort.cohortGuidBR21236</td><td> 0.7507044</td><td>0.14063642</td><td> 5.337909</td><td>2.527696e-06</td><td>Age</td><td>CDCP1   </td><td>       NA</td><td> 0.7756793</td><td>3.675269e-03</td><td>Up-regulated-BR2  </td></tr>\n",
       "\t<tr><td>cohort.cohortGuidBR21361</td><td> 0.3788094</td><td>0.07109768</td><td> 5.328014</td><td>2.615615e-06</td><td>Age</td><td>JAM2    </td><td> 1.506683</td><td> 0.3484302</td><td>3.800489e-03</td><td>Up-regulated-BR2  </td></tr>\n",
       "\t<tr><td>cohort.cohortGuidBR21239</td><td> 0.4588141</td><td>0.08661940</td><td> 5.296897</td><td>2.912295e-06</td><td>Age</td><td>SCARB2  </td><td> 1.776823</td><td> 0.4498510</td><td>4.228653e-03</td><td>Up-regulated-BR2  </td></tr>\n",
       "\t<tr><td>cohort.cohortGuidBR21105</td><td> 0.8323119</td><td>0.15947806</td><td> 5.218974</td><td>3.809251e-06</td><td>Age</td><td>NEFL    </td><td>       NA</td><td> 0.8430015</td><td>5.527223e-03</td><td>Up-regulated-BR2  </td></tr>\n",
       "\t<tr><td>cohort.cohortGuidBR2755 </td><td> 0.7708387</td><td>0.14869283</td><td> 5.184101</td><td>4.294409e-06</td><td>Age</td><td>GFAP    </td><td> 4.735887</td><td> 0.7207722</td><td>6.226892e-03</td><td>Up-regulated-BR2  </td></tr>\n",
       "\t<tr><td>cohort.cohortGuidBR2618 </td><td> 0.8472285</td><td>0.16544929</td><td> 5.120775</td><td>5.336402e-06</td><td>Age</td><td>CCL25   </td><td>       NA</td><td> 0.8481332</td><td>7.732446e-03</td><td>Up-regulated-BR2  </td></tr>\n",
       "\t<tr><td>cohort.cohortGuidBR2981 </td><td> 0.2508089</td><td>0.04950375</td><td> 5.066464</td><td>6.426116e-06</td><td>Age</td><td>AMBP    </td><td> 1.352176</td><td> 0.2572582</td><td>9.305016e-03</td><td>Up-regulated-BR2  </td></tr>\n",
       "\t<tr><td>cohort.cohortGuidBR2917 </td><td> 0.4829707</td><td>0.09567907</td><td> 5.047819</td><td>6.848651e-06</td><td>Age</td><td>DTX3    </td><td> 2.392645</td><td> 0.4607392</td><td>9.909997e-03</td><td>Up-regulated-BR2  </td></tr>\n",
       "\t<tr><td>cohort.cohortGuidBR2198 </td><td> 0.4899918</td><td>0.09733519</td><td> 5.034067</td><td>7.177771e-06</td><td>Age</td><td>GDF15   </td><td>       NA</td><td> 0.4933670</td><td>1.037906e-02</td><td>Up-regulated-BR2  </td></tr>\n",
       "\t<tr><td>cohort.cohortGuidBR2896 </td><td> 0.4162929</td><td>0.08308093</td><td> 5.010691</td><td>7.773306e-06</td><td>Age</td><td>CD302   </td><td> 3.885246</td><td> 0.3674388</td><td>1.123243e-02</td><td>Up-regulated-BR2  </td></tr>\n",
       "\t<tr><td>cohort.cohortGuidBR21457</td><td> 0.4237581</td><td>0.08474160</td><td> 5.000591</td><td>8.045463e-06</td><td>Age</td><td>TNFRSF1A</td><td>       NA</td><td> 0.3970531</td><td>1.161765e-02</td><td>Up-regulated-BR2  </td></tr>\n",
       "\t<tr><td>cohort.cohortGuidBR2156 </td><td> 0.4159260</td><td>0.08351357</td><td> 4.980341</td><td>8.619676e-06</td><td>Age</td><td>THBD    </td><td>       NA</td><td> 0.3640764</td><td>1.243819e-02</td><td>Up-regulated-BR2  </td></tr>\n",
       "\t<tr><td>cohort.cohortGuidBR2983 </td><td> 0.4119155</td><td>0.08396939</td><td> 4.905543</td><td>1.111248e-05</td><td>Age</td><td>RSPO3   </td><td> 1.261137</td><td> 0.3857792</td><td>1.602420e-02</td><td>Up-regulated-BR2  </td></tr>\n",
       "\t<tr><td>cohort.cohortGuidBR2617 </td><td> 0.2941808</td><td>0.06091897</td><td> 4.829050</td><td>1.439371e-05</td><td>Age</td><td>PGF     </td><td> 1.538013</td><td> 0.3024012</td><td>2.074133e-02</td><td>Up-regulated-BR2  </td></tr>\n",
       "\t<tr><td>cohort.cohortGuidBR21222</td><td>-2.5042011</td><td>0.35513530</td><td>-7.051400</td><td>6.133345e-09</td><td>Age</td><td>PAEP    </td><td>-3.510665</td><td>-2.5296044</td><td>9.003750e-06</td><td>Down-regulated-BR2</td></tr>\n",
       "\t<tr><td>cohort.cohortGuidBR2973 </td><td>-0.7316332</td><td>0.13289144</td><td>-5.505495</td><td>1.413979e-06</td><td>Age</td><td>CTSV    </td><td>-3.778416</td><td>-0.8412279</td><td>2.061581e-03</td><td>Down-regulated-BR2</td></tr>\n",
       "\t<tr><td>cohort.cohortGuidBR2488 </td><td>-0.8476867</td><td>0.17712731</td><td>-4.785748</td><td>1.665572e-05</td><td>Age</td><td>PROK1   </td><td>       NA</td><td>-0.8249767</td><td>2.398424e-02</td><td>Down-regulated-BR2</td></tr>\n",
       "</tbody>\n",
       "</table>\n"
      ],
      "text/latex": [
       "A data.frame: 33 × 11\n",
       "\\begin{tabular}{lllllllllll}\n",
       " X & Estimate & Std..Error & t.value & Pr...t.. & factor & Assay & Log2FC\\_Age & diff & padj & Expression\\\\\n",
       " <chr> & <dbl> & <dbl> & <dbl> & <dbl> & <chr> & <chr> & <dbl> & <dbl> & <dbl> & <chr>\\\\\n",
       "\\hline\n",
       "\t cohort.cohortGuidBR21371 &  2.3438346 & 0.25269809 &  9.275237 & 2.802531e-12 & Age & CGA      &  2.232538 &  2.3317872 & 4.124151e-09 & Up-regulated-BR2  \\\\\n",
       "\t cohort.cohortGuidBR2567  &  1.0728851 & 0.11567093 &  9.275321 & 2.801733e-12 & Age & CXCL17   &  1.967067 &  1.0853382 & 4.124151e-09 & Up-regulated-BR2  \\\\\n",
       "\t cohort.cohortGuidBR2201  &  0.7626313 & 0.10156776 &  7.508596 & 1.226769e-09 & Age & LTBP2    &        NA &  0.7684146 & 1.803350e-06 & Up-regulated-BR2  \\\\\n",
       "\t cohort.cohortGuidBR2376  &  0.5982352 & 0.08041116 &  7.439703 & 1.562548e-09 & Age & WNT9A    &        NA &  0.6143662 & 2.295383e-06 & Up-regulated-BR2  \\\\\n",
       "\t cohort.cohortGuidBR2995  &  0.4899478 & 0.07207427 &  6.797818 & 1.501586e-08 & Age & F3       &  1.714444 &  0.5078978 & 2.202827e-05 & Up-regulated-BR2  \\\\\n",
       "\t cohort.cohortGuidBR21006 &  0.6807488 & 0.10020263 &  6.793722 & 1.523472e-08 & Age & EDA2R    &        NA &  0.6705292 & 2.233410e-05 & Up-regulated-BR2  \\\\\n",
       "\t cohort.cohortGuidBR2984  &  0.3920690 & 0.05839269 &  6.714350 & 2.016632e-08 & Age & ITGAV    &  1.351590 &  0.3983122 & 2.954366e-05 & Up-regulated-BR2  \\\\\n",
       "\t cohort.cohortGuidBR21345 &  0.6828180 & 0.10382152 &  6.576844 & 3.278218e-08 & Age & SCARF2   &  2.190467 &  0.6577794 & 4.799312e-05 & Up-regulated-BR2  \\\\\n",
       "\t cohort.cohortGuidBR2226  &  0.6532702 & 0.10094500 &  6.471546 & 4.755469e-08 & Age & CRTAC1   &        NA &  0.6808895 & 6.957251e-05 & Up-regulated-BR2  \\\\\n",
       "\t cohort.cohortGuidBR2354  &  0.8022039 & 0.12553727 &  6.390165 & 6.338820e-08 & Age & ANGPTL3  &  2.589110 &  0.7880205 & 9.267355e-05 & Up-regulated-BR2  \\\\\n",
       "\t cohort.cohortGuidBR2129  &  0.7542238 & 0.11809923 &  6.386357 & 6.424623e-08 & Age & SOST     &  2.090436 &  0.7411938 & 9.386375e-05 & Up-regulated-BR2  \\\\\n",
       "\t cohort.cohortGuidBR2130  &  0.5207877 & 0.08764225 &  5.942199 & 3.072049e-07 & Age & NPDC1    &  1.024190 &  0.4964650 & 4.485191e-04 & Up-regulated-BR2  \\\\\n",
       "\t cohort.cohortGuidBR264   &  0.6177760 & 0.10530276 &  5.866665 & 4.004721e-07 & Age & ACTA2    &        NA &  0.6214094 & 5.842887e-04 & Up-regulated-BR2  \\\\\n",
       "\t cohort.cohortGuidBR2290  &  0.5482325 & 0.09989168 &  5.488270 & 1.501199e-06 & Age & MCAM     &        NA &  0.5132711 & 2.187247e-03 & Up-regulated-BR2  \\\\\n",
       "\t cohort.cohortGuidBR2509  &  0.7000862 & 0.12864500 &  5.442001 & 1.762763e-06 & Age & ITGA11   &        NA &  0.6906921 & 2.566582e-03 & Up-regulated-BR2  \\\\\n",
       "\t cohort.cohortGuidBR21456 &  0.6566680 & 0.12183906 &  5.389634 & 2.113549e-06 & Age & TFF1     &        NA &  0.6223047 & 3.075214e-03 & Up-regulated-BR2  \\\\\n",
       "\t cohort.cohortGuidBR21236 &  0.7507044 & 0.14063642 &  5.337909 & 2.527696e-06 & Age & CDCP1    &        NA &  0.7756793 & 3.675269e-03 & Up-regulated-BR2  \\\\\n",
       "\t cohort.cohortGuidBR21361 &  0.3788094 & 0.07109768 &  5.328014 & 2.615615e-06 & Age & JAM2     &  1.506683 &  0.3484302 & 3.800489e-03 & Up-regulated-BR2  \\\\\n",
       "\t cohort.cohortGuidBR21239 &  0.4588141 & 0.08661940 &  5.296897 & 2.912295e-06 & Age & SCARB2   &  1.776823 &  0.4498510 & 4.228653e-03 & Up-regulated-BR2  \\\\\n",
       "\t cohort.cohortGuidBR21105 &  0.8323119 & 0.15947806 &  5.218974 & 3.809251e-06 & Age & NEFL     &        NA &  0.8430015 & 5.527223e-03 & Up-regulated-BR2  \\\\\n",
       "\t cohort.cohortGuidBR2755  &  0.7708387 & 0.14869283 &  5.184101 & 4.294409e-06 & Age & GFAP     &  4.735887 &  0.7207722 & 6.226892e-03 & Up-regulated-BR2  \\\\\n",
       "\t cohort.cohortGuidBR2618  &  0.8472285 & 0.16544929 &  5.120775 & 5.336402e-06 & Age & CCL25    &        NA &  0.8481332 & 7.732446e-03 & Up-regulated-BR2  \\\\\n",
       "\t cohort.cohortGuidBR2981  &  0.2508089 & 0.04950375 &  5.066464 & 6.426116e-06 & Age & AMBP     &  1.352176 &  0.2572582 & 9.305016e-03 & Up-regulated-BR2  \\\\\n",
       "\t cohort.cohortGuidBR2917  &  0.4829707 & 0.09567907 &  5.047819 & 6.848651e-06 & Age & DTX3     &  2.392645 &  0.4607392 & 9.909997e-03 & Up-regulated-BR2  \\\\\n",
       "\t cohort.cohortGuidBR2198  &  0.4899918 & 0.09733519 &  5.034067 & 7.177771e-06 & Age & GDF15    &        NA &  0.4933670 & 1.037906e-02 & Up-regulated-BR2  \\\\\n",
       "\t cohort.cohortGuidBR2896  &  0.4162929 & 0.08308093 &  5.010691 & 7.773306e-06 & Age & CD302    &  3.885246 &  0.3674388 & 1.123243e-02 & Up-regulated-BR2  \\\\\n",
       "\t cohort.cohortGuidBR21457 &  0.4237581 & 0.08474160 &  5.000591 & 8.045463e-06 & Age & TNFRSF1A &        NA &  0.3970531 & 1.161765e-02 & Up-regulated-BR2  \\\\\n",
       "\t cohort.cohortGuidBR2156  &  0.4159260 & 0.08351357 &  4.980341 & 8.619676e-06 & Age & THBD     &        NA &  0.3640764 & 1.243819e-02 & Up-regulated-BR2  \\\\\n",
       "\t cohort.cohortGuidBR2983  &  0.4119155 & 0.08396939 &  4.905543 & 1.111248e-05 & Age & RSPO3    &  1.261137 &  0.3857792 & 1.602420e-02 & Up-regulated-BR2  \\\\\n",
       "\t cohort.cohortGuidBR2617  &  0.2941808 & 0.06091897 &  4.829050 & 1.439371e-05 & Age & PGF      &  1.538013 &  0.3024012 & 2.074133e-02 & Up-regulated-BR2  \\\\\n",
       "\t cohort.cohortGuidBR21222 & -2.5042011 & 0.35513530 & -7.051400 & 6.133345e-09 & Age & PAEP     & -3.510665 & -2.5296044 & 9.003750e-06 & Down-regulated-BR2\\\\\n",
       "\t cohort.cohortGuidBR2973  & -0.7316332 & 0.13289144 & -5.505495 & 1.413979e-06 & Age & CTSV     & -3.778416 & -0.8412279 & 2.061581e-03 & Down-regulated-BR2\\\\\n",
       "\t cohort.cohortGuidBR2488  & -0.8476867 & 0.17712731 & -4.785748 & 1.665572e-05 & Age & PROK1    &        NA & -0.8249767 & 2.398424e-02 & Down-regulated-BR2\\\\\n",
       "\\end{tabular}\n"
      ],
      "text/markdown": [
       "\n",
       "A data.frame: 33 × 11\n",
       "\n",
       "| X &lt;chr&gt; | Estimate &lt;dbl&gt; | Std..Error &lt;dbl&gt; | t.value &lt;dbl&gt; | Pr...t.. &lt;dbl&gt; | factor &lt;chr&gt; | Assay &lt;chr&gt; | Log2FC_Age &lt;dbl&gt; | diff &lt;dbl&gt; | padj &lt;dbl&gt; | Expression &lt;chr&gt; |\n",
       "|---|---|---|---|---|---|---|---|---|---|---|\n",
       "| cohort.cohortGuidBR21371 |  2.3438346 | 0.25269809 |  9.275237 | 2.802531e-12 | Age | CGA      |  2.232538 |  2.3317872 | 4.124151e-09 | Up-regulated-BR2   |\n",
       "| cohort.cohortGuidBR2567  |  1.0728851 | 0.11567093 |  9.275321 | 2.801733e-12 | Age | CXCL17   |  1.967067 |  1.0853382 | 4.124151e-09 | Up-regulated-BR2   |\n",
       "| cohort.cohortGuidBR2201  |  0.7626313 | 0.10156776 |  7.508596 | 1.226769e-09 | Age | LTBP2    |        NA |  0.7684146 | 1.803350e-06 | Up-regulated-BR2   |\n",
       "| cohort.cohortGuidBR2376  |  0.5982352 | 0.08041116 |  7.439703 | 1.562548e-09 | Age | WNT9A    |        NA |  0.6143662 | 2.295383e-06 | Up-regulated-BR2   |\n",
       "| cohort.cohortGuidBR2995  |  0.4899478 | 0.07207427 |  6.797818 | 1.501586e-08 | Age | F3       |  1.714444 |  0.5078978 | 2.202827e-05 | Up-regulated-BR2   |\n",
       "| cohort.cohortGuidBR21006 |  0.6807488 | 0.10020263 |  6.793722 | 1.523472e-08 | Age | EDA2R    |        NA |  0.6705292 | 2.233410e-05 | Up-regulated-BR2   |\n",
       "| cohort.cohortGuidBR2984  |  0.3920690 | 0.05839269 |  6.714350 | 2.016632e-08 | Age | ITGAV    |  1.351590 |  0.3983122 | 2.954366e-05 | Up-regulated-BR2   |\n",
       "| cohort.cohortGuidBR21345 |  0.6828180 | 0.10382152 |  6.576844 | 3.278218e-08 | Age | SCARF2   |  2.190467 |  0.6577794 | 4.799312e-05 | Up-regulated-BR2   |\n",
       "| cohort.cohortGuidBR2226  |  0.6532702 | 0.10094500 |  6.471546 | 4.755469e-08 | Age | CRTAC1   |        NA |  0.6808895 | 6.957251e-05 | Up-regulated-BR2   |\n",
       "| cohort.cohortGuidBR2354  |  0.8022039 | 0.12553727 |  6.390165 | 6.338820e-08 | Age | ANGPTL3  |  2.589110 |  0.7880205 | 9.267355e-05 | Up-regulated-BR2   |\n",
       "| cohort.cohortGuidBR2129  |  0.7542238 | 0.11809923 |  6.386357 | 6.424623e-08 | Age | SOST     |  2.090436 |  0.7411938 | 9.386375e-05 | Up-regulated-BR2   |\n",
       "| cohort.cohortGuidBR2130  |  0.5207877 | 0.08764225 |  5.942199 | 3.072049e-07 | Age | NPDC1    |  1.024190 |  0.4964650 | 4.485191e-04 | Up-regulated-BR2   |\n",
       "| cohort.cohortGuidBR264   |  0.6177760 | 0.10530276 |  5.866665 | 4.004721e-07 | Age | ACTA2    |        NA |  0.6214094 | 5.842887e-04 | Up-regulated-BR2   |\n",
       "| cohort.cohortGuidBR2290  |  0.5482325 | 0.09989168 |  5.488270 | 1.501199e-06 | Age | MCAM     |        NA |  0.5132711 | 2.187247e-03 | Up-regulated-BR2   |\n",
       "| cohort.cohortGuidBR2509  |  0.7000862 | 0.12864500 |  5.442001 | 1.762763e-06 | Age | ITGA11   |        NA |  0.6906921 | 2.566582e-03 | Up-regulated-BR2   |\n",
       "| cohort.cohortGuidBR21456 |  0.6566680 | 0.12183906 |  5.389634 | 2.113549e-06 | Age | TFF1     |        NA |  0.6223047 | 3.075214e-03 | Up-regulated-BR2   |\n",
       "| cohort.cohortGuidBR21236 |  0.7507044 | 0.14063642 |  5.337909 | 2.527696e-06 | Age | CDCP1    |        NA |  0.7756793 | 3.675269e-03 | Up-regulated-BR2   |\n",
       "| cohort.cohortGuidBR21361 |  0.3788094 | 0.07109768 |  5.328014 | 2.615615e-06 | Age | JAM2     |  1.506683 |  0.3484302 | 3.800489e-03 | Up-regulated-BR2   |\n",
       "| cohort.cohortGuidBR21239 |  0.4588141 | 0.08661940 |  5.296897 | 2.912295e-06 | Age | SCARB2   |  1.776823 |  0.4498510 | 4.228653e-03 | Up-regulated-BR2   |\n",
       "| cohort.cohortGuidBR21105 |  0.8323119 | 0.15947806 |  5.218974 | 3.809251e-06 | Age | NEFL     |        NA |  0.8430015 | 5.527223e-03 | Up-regulated-BR2   |\n",
       "| cohort.cohortGuidBR2755  |  0.7708387 | 0.14869283 |  5.184101 | 4.294409e-06 | Age | GFAP     |  4.735887 |  0.7207722 | 6.226892e-03 | Up-regulated-BR2   |\n",
       "| cohort.cohortGuidBR2618  |  0.8472285 | 0.16544929 |  5.120775 | 5.336402e-06 | Age | CCL25    |        NA |  0.8481332 | 7.732446e-03 | Up-regulated-BR2   |\n",
       "| cohort.cohortGuidBR2981  |  0.2508089 | 0.04950375 |  5.066464 | 6.426116e-06 | Age | AMBP     |  1.352176 |  0.2572582 | 9.305016e-03 | Up-regulated-BR2   |\n",
       "| cohort.cohortGuidBR2917  |  0.4829707 | 0.09567907 |  5.047819 | 6.848651e-06 | Age | DTX3     |  2.392645 |  0.4607392 | 9.909997e-03 | Up-regulated-BR2   |\n",
       "| cohort.cohortGuidBR2198  |  0.4899918 | 0.09733519 |  5.034067 | 7.177771e-06 | Age | GDF15    |        NA |  0.4933670 | 1.037906e-02 | Up-regulated-BR2   |\n",
       "| cohort.cohortGuidBR2896  |  0.4162929 | 0.08308093 |  5.010691 | 7.773306e-06 | Age | CD302    |  3.885246 |  0.3674388 | 1.123243e-02 | Up-regulated-BR2   |\n",
       "| cohort.cohortGuidBR21457 |  0.4237581 | 0.08474160 |  5.000591 | 8.045463e-06 | Age | TNFRSF1A |        NA |  0.3970531 | 1.161765e-02 | Up-regulated-BR2   |\n",
       "| cohort.cohortGuidBR2156  |  0.4159260 | 0.08351357 |  4.980341 | 8.619676e-06 | Age | THBD     |        NA |  0.3640764 | 1.243819e-02 | Up-regulated-BR2   |\n",
       "| cohort.cohortGuidBR2983  |  0.4119155 | 0.08396939 |  4.905543 | 1.111248e-05 | Age | RSPO3    |  1.261137 |  0.3857792 | 1.602420e-02 | Up-regulated-BR2   |\n",
       "| cohort.cohortGuidBR2617  |  0.2941808 | 0.06091897 |  4.829050 | 1.439371e-05 | Age | PGF      |  1.538013 |  0.3024012 | 2.074133e-02 | Up-regulated-BR2   |\n",
       "| cohort.cohortGuidBR21222 | -2.5042011 | 0.35513530 | -7.051400 | 6.133345e-09 | Age | PAEP     | -3.510665 | -2.5296044 | 9.003750e-06 | Down-regulated-BR2 |\n",
       "| cohort.cohortGuidBR2973  | -0.7316332 | 0.13289144 | -5.505495 | 1.413979e-06 | Age | CTSV     | -3.778416 | -0.8412279 | 2.061581e-03 | Down-regulated-BR2 |\n",
       "| cohort.cohortGuidBR2488  | -0.8476867 | 0.17712731 | -4.785748 | 1.665572e-05 | Age | PROK1    |        NA | -0.8249767 | 2.398424e-02 | Down-regulated-BR2 |\n",
       "\n"
      ],
      "text/plain": [
       "   X                        Estimate   Std..Error t.value   Pr...t..     factor\n",
       "1  cohort.cohortGuidBR21371  2.3438346 0.25269809  9.275237 2.802531e-12 Age   \n",
       "2  cohort.cohortGuidBR2567   1.0728851 0.11567093  9.275321 2.801733e-12 Age   \n",
       "3  cohort.cohortGuidBR2201   0.7626313 0.10156776  7.508596 1.226769e-09 Age   \n",
       "4  cohort.cohortGuidBR2376   0.5982352 0.08041116  7.439703 1.562548e-09 Age   \n",
       "5  cohort.cohortGuidBR2995   0.4899478 0.07207427  6.797818 1.501586e-08 Age   \n",
       "6  cohort.cohortGuidBR21006  0.6807488 0.10020263  6.793722 1.523472e-08 Age   \n",
       "7  cohort.cohortGuidBR2984   0.3920690 0.05839269  6.714350 2.016632e-08 Age   \n",
       "8  cohort.cohortGuidBR21345  0.6828180 0.10382152  6.576844 3.278218e-08 Age   \n",
       "9  cohort.cohortGuidBR2226   0.6532702 0.10094500  6.471546 4.755469e-08 Age   \n",
       "10 cohort.cohortGuidBR2354   0.8022039 0.12553727  6.390165 6.338820e-08 Age   \n",
       "11 cohort.cohortGuidBR2129   0.7542238 0.11809923  6.386357 6.424623e-08 Age   \n",
       "12 cohort.cohortGuidBR2130   0.5207877 0.08764225  5.942199 3.072049e-07 Age   \n",
       "13 cohort.cohortGuidBR264    0.6177760 0.10530276  5.866665 4.004721e-07 Age   \n",
       "14 cohort.cohortGuidBR2290   0.5482325 0.09989168  5.488270 1.501199e-06 Age   \n",
       "15 cohort.cohortGuidBR2509   0.7000862 0.12864500  5.442001 1.762763e-06 Age   \n",
       "16 cohort.cohortGuidBR21456  0.6566680 0.12183906  5.389634 2.113549e-06 Age   \n",
       "17 cohort.cohortGuidBR21236  0.7507044 0.14063642  5.337909 2.527696e-06 Age   \n",
       "18 cohort.cohortGuidBR21361  0.3788094 0.07109768  5.328014 2.615615e-06 Age   \n",
       "19 cohort.cohortGuidBR21239  0.4588141 0.08661940  5.296897 2.912295e-06 Age   \n",
       "20 cohort.cohortGuidBR21105  0.8323119 0.15947806  5.218974 3.809251e-06 Age   \n",
       "21 cohort.cohortGuidBR2755   0.7708387 0.14869283  5.184101 4.294409e-06 Age   \n",
       "22 cohort.cohortGuidBR2618   0.8472285 0.16544929  5.120775 5.336402e-06 Age   \n",
       "23 cohort.cohortGuidBR2981   0.2508089 0.04950375  5.066464 6.426116e-06 Age   \n",
       "24 cohort.cohortGuidBR2917   0.4829707 0.09567907  5.047819 6.848651e-06 Age   \n",
       "25 cohort.cohortGuidBR2198   0.4899918 0.09733519  5.034067 7.177771e-06 Age   \n",
       "26 cohort.cohortGuidBR2896   0.4162929 0.08308093  5.010691 7.773306e-06 Age   \n",
       "27 cohort.cohortGuidBR21457  0.4237581 0.08474160  5.000591 8.045463e-06 Age   \n",
       "28 cohort.cohortGuidBR2156   0.4159260 0.08351357  4.980341 8.619676e-06 Age   \n",
       "29 cohort.cohortGuidBR2983   0.4119155 0.08396939  4.905543 1.111248e-05 Age   \n",
       "30 cohort.cohortGuidBR2617   0.2941808 0.06091897  4.829050 1.439371e-05 Age   \n",
       "31 cohort.cohortGuidBR21222 -2.5042011 0.35513530 -7.051400 6.133345e-09 Age   \n",
       "32 cohort.cohortGuidBR2973  -0.7316332 0.13289144 -5.505495 1.413979e-06 Age   \n",
       "33 cohort.cohortGuidBR2488  -0.8476867 0.17712731 -4.785748 1.665572e-05 Age   \n",
       "   Assay    Log2FC_Age diff       padj         Expression        \n",
       "1  CGA       2.232538   2.3317872 4.124151e-09 Up-regulated-BR2  \n",
       "2  CXCL17    1.967067   1.0853382 4.124151e-09 Up-regulated-BR2  \n",
       "3  LTBP2           NA   0.7684146 1.803350e-06 Up-regulated-BR2  \n",
       "4  WNT9A           NA   0.6143662 2.295383e-06 Up-regulated-BR2  \n",
       "5  F3        1.714444   0.5078978 2.202827e-05 Up-regulated-BR2  \n",
       "6  EDA2R           NA   0.6705292 2.233410e-05 Up-regulated-BR2  \n",
       "7  ITGAV     1.351590   0.3983122 2.954366e-05 Up-regulated-BR2  \n",
       "8  SCARF2    2.190467   0.6577794 4.799312e-05 Up-regulated-BR2  \n",
       "9  CRTAC1          NA   0.6808895 6.957251e-05 Up-regulated-BR2  \n",
       "10 ANGPTL3   2.589110   0.7880205 9.267355e-05 Up-regulated-BR2  \n",
       "11 SOST      2.090436   0.7411938 9.386375e-05 Up-regulated-BR2  \n",
       "12 NPDC1     1.024190   0.4964650 4.485191e-04 Up-regulated-BR2  \n",
       "13 ACTA2           NA   0.6214094 5.842887e-04 Up-regulated-BR2  \n",
       "14 MCAM            NA   0.5132711 2.187247e-03 Up-regulated-BR2  \n",
       "15 ITGA11          NA   0.6906921 2.566582e-03 Up-regulated-BR2  \n",
       "16 TFF1            NA   0.6223047 3.075214e-03 Up-regulated-BR2  \n",
       "17 CDCP1           NA   0.7756793 3.675269e-03 Up-regulated-BR2  \n",
       "18 JAM2      1.506683   0.3484302 3.800489e-03 Up-regulated-BR2  \n",
       "19 SCARB2    1.776823   0.4498510 4.228653e-03 Up-regulated-BR2  \n",
       "20 NEFL            NA   0.8430015 5.527223e-03 Up-regulated-BR2  \n",
       "21 GFAP      4.735887   0.7207722 6.226892e-03 Up-regulated-BR2  \n",
       "22 CCL25           NA   0.8481332 7.732446e-03 Up-regulated-BR2  \n",
       "23 AMBP      1.352176   0.2572582 9.305016e-03 Up-regulated-BR2  \n",
       "24 DTX3      2.392645   0.4607392 9.909997e-03 Up-regulated-BR2  \n",
       "25 GDF15           NA   0.4933670 1.037906e-02 Up-regulated-BR2  \n",
       "26 CD302     3.885246   0.3674388 1.123243e-02 Up-regulated-BR2  \n",
       "27 TNFRSF1A        NA   0.3970531 1.161765e-02 Up-regulated-BR2  \n",
       "28 THBD            NA   0.3640764 1.243819e-02 Up-regulated-BR2  \n",
       "29 RSPO3     1.261137   0.3857792 1.602420e-02 Up-regulated-BR2  \n",
       "30 PGF       1.538013   0.3024012 2.074133e-02 Up-regulated-BR2  \n",
       "31 PAEP     -3.510665  -2.5296044 9.003750e-06 Down-regulated-BR2\n",
       "32 CTSV     -3.778416  -0.8412279 2.061581e-03 Down-regulated-BR2\n",
       "33 PROK1           NA  -0.8249767 2.398424e-02 Down-regulated-BR2"
      ]
     },
     "metadata": {},
     "output_type": "display_data"
    }
   ],
   "source": [
    "top_genes"
   ]
  },
  {
   "cell_type": "code",
   "execution_count": 39,
   "id": "bf74c3c4-1a10-4400-ae17-9ec1d7b17506",
   "metadata": {
    "tags": []
   },
   "outputs": [
    {
     "data": {
      "image/png": "[encoded data removed]",
      "text/plain": [
       "plot without title"
      ]
     },
     "metadata": {
      "image/png": {
       "height": 360,
       "width": 600
      }
     },
     "output_type": "display_data"
    }
   ],
   "source": [
    "options(repr.plot.width = 10, repr.plot.height = 6)\n",
    "\n",
    "ggplot(data, aes(diff, -log(padj,10))) +\n",
    "  geom_point(aes(color = Expression), size = 1) +\n",
    "  xlab(expression(\"Baseline Difference\")) + \n",
    "  ylab(expression(\"-log\"[10]*\"FDR\")) +\n",
    "  scale_color_manual(values = c(\"Down-regulated-BR2\"=\"dodgerblue3\", \"Unchanged\"=\"gray50\", \"Up-regulated-BR2\"=\"firebrick3\")) +\n",
    "  guides(colour = guide_legend(override.aes = list(size=1.5))) +\n",
    "  geom_text_repel(data = top_genes,box.padding = 0.5,force= 0.5,max.overlaps=50,\n",
    "    nudge_x           = 0.15,\n",
    "    hjust             = 0.1,\n",
    "    segment.size      = 0.1,\n",
    "                   mapping = aes(diff, -log(padj,10), label = Assay),\n",
    "                   size = 4)+theme_classic()\n"
   ]
  },
  {
   "cell_type": "code",
   "execution_count": null,
   "id": "358efca4-aa56-4a46-8378-389813321f5b",
   "metadata": {},
   "outputs": [],
   "source": []
  },
  {
   "cell_type": "code",
   "execution_count": null,
   "id": "bc2baa91-c6e9-4620-847d-9a8c0ca148be",
   "metadata": {},
   "outputs": [],
   "source": []
  },
  {
   "cell_type": "code",
   "execution_count": null,
   "id": "684f5b7f-6957-4f92-8879-f859bce61790",
   "metadata": {},
   "outputs": [],
   "source": []
  }
 ],
 "metadata": {
  "kernelspec": {
   "display_name": "R 4",
   "language": "R",
   "name": "ir4"
  },
  "language_info": {
   "codemirror_mode": "r",
   "file_extension": ".r",
   "mimetype": "text/x-r-source",
   "name": "R",
   "pygments_lexer": "r",
   "version": "4.3.1"
  }
 },
 "nbformat": 4,
 "nbformat_minor": 5
}
