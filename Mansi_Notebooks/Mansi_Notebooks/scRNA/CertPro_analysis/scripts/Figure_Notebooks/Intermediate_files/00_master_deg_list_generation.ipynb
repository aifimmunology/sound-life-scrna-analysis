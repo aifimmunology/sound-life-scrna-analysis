{
 "cells": [
  {
   "cell_type": "code",
   "execution_count": 2,
   "id": "0c31fbb6-2fc0-45d3-8c9f-0090a6170f37",
   "metadata": {
    "tags": []
   },
   "outputs": [],
   "source": [
    "suppressPackageStartupMessages(library(readxl))\n",
    "suppressPackageStartupMessages(library(dplyr))\n",
    "suppressPackageStartupMessages(library(tidyr))\n",
    "suppressPackageStartupMessages(library(tibble))\n",
    "suppressPackageStartupMessages(library(patchwork))\n",
    "suppressPackageStartupMessages(library(pheatmap))\n",
    "suppressPackageStartupMessages(library(stringr))\n",
    "library(hise)\n",
    "library(plyr)\n",
    "library(purrr)\n",
    "library(vegan)\n",
    "#library(arrow)\n",
    "library(parallel)\n",
    "library(ComplexHeatmap)\n",
    "library(ggsci)\n",
    "library(tidyverse)"
   ]
  },
  {
   "cell_type": "markdown",
   "id": "f9dbb98b-cce9-4b2a-b91e-9793b3841ed8",
   "metadata": {
    "tags": []
   },
   "source": [
    "# Create master DEG list with combined male and female DEG lists"
   ]
  },
  {
   "cell_type": "code",
   "execution_count": 3,
   "id": "6b976723-7e95-4302-898c-5ccb27da14c2",
   "metadata": {
    "tags": []
   },
   "outputs": [],
   "source": [
    "female_degs <- read.csv(\"/home/jupyter/IH-A-Aging-Analysis-Notebooks_old/Mansi_Notebooks/scRNA/CertPro_analysis/scripts/DESEQ2/Female_Deseq2_Result_Y1D0.csv\")\n",
    "male_degs <- read.csv(\"/home/jupyter/IH-A-Aging-Analysis-Notebooks_old/Mansi_Notebooks/scRNA/CertPro_analysis/scripts/DESEQ2/Male_Deseq2_Result_Y1D0.csv\")"
   ]
  },
  {
   "cell_type": "code",
   "execution_count": 4,
   "id": "d449005f-44da-4827-944f-db4bdddae802",
   "metadata": {
    "tags": []
   },
   "outputs": [],
   "source": [
    "# Merge both female and Male DEG files, # Merge the two data frames vertically\n",
    "master <-rbind(female_degs, male_degs)"
   ]
  },
  {
   "cell_type": "code",
   "execution_count": 5,
   "id": "ac59d870-b28c-4eb0-b2c1-d01a0063fd94",
   "metadata": {
    "tags": []
   },
   "outputs": [
    {
     "data": {
      "text/html": [
       "<table class=\"dataframe\">\n",
       "<caption>A data.frame: 6 × 12</caption>\n",
       "<thead>\n",
       "\t<tr><th></th><th scope=col>X</th><th scope=col>baseMean</th><th scope=col>log2FoldChange</th><th scope=col>lfcSE</th><th scope=col>stat</th><th scope=col>pvalue</th><th scope=col>padj</th><th scope=col>contrast</th><th scope=col>Direction</th><th scope=col>gene</th><th scope=col>celltype</th><th scope=col>sex</th></tr>\n",
       "\t<tr><th></th><th scope=col>&lt;int&gt;</th><th scope=col>&lt;dbl&gt;</th><th scope=col>&lt;dbl&gt;</th><th scope=col>&lt;dbl&gt;</th><th scope=col>&lt;dbl&gt;</th><th scope=col>&lt;dbl&gt;</th><th scope=col>&lt;dbl&gt;</th><th scope=col>&lt;chr&gt;</th><th scope=col>&lt;chr&gt;</th><th scope=col>&lt;chr&gt;</th><th scope=col>&lt;chr&gt;</th><th scope=col>&lt;chr&gt;</th></tr>\n",
       "</thead>\n",
       "<tbody>\n",
       "\t<tr><th scope=row>1</th><td>1</td><td>1.4553376</td><td>-1.58887408</td><td>0.3911621</td><td>-4.0619325</td><td>4.866815e-05</td><td>0.3688559</td><td>cohort.cohortGuid</td><td>BR1</td><td>CCDC174   </td><td>ASDC</td><td>Female</td></tr>\n",
       "\t<tr><th scope=row>2</th><td>2</td><td>0.3984625</td><td> 0.41653866</td><td>0.5699233</td><td> 0.7308679</td><td>4.648598e-01</td><td>0.9968973</td><td>cohort.cohortGuid</td><td>BR2</td><td>AL669831.5</td><td>ASDC</td><td>Female</td></tr>\n",
       "\t<tr><th scope=row>3</th><td>3</td><td>1.6559504</td><td> 0.25216783</td><td>0.3641720</td><td> 0.6924415</td><td>4.886601e-01</td><td>0.9968973</td><td>cohort.cohortGuid</td><td>BR2</td><td>NOC2L     </td><td>ASDC</td><td>Female</td></tr>\n",
       "\t<tr><th scope=row>4</th><td>4</td><td>1.2866563</td><td>-0.97078515</td><td>0.5119361</td><td>-1.8963013</td><td>5.792021e-02</td><td>0.9968973</td><td>cohort.cohortGuid</td><td>BR1</td><td>ISG15     </td><td>ASDC</td><td>Female</td></tr>\n",
       "\t<tr><th scope=row>5</th><td>5</td><td>2.7154615</td><td>-0.05010603</td><td>0.2936791</td><td>-0.1706149</td><td>8.645266e-01</td><td>0.9968973</td><td>cohort.cohortGuid</td><td>BR1</td><td>SDF4      </td><td>ASDC</td><td>Female</td></tr>\n",
       "\t<tr><th scope=row>6</th><td>6</td><td>1.1378577</td><td>-0.29946048</td><td>0.4050389</td><td>-0.7393377</td><td>4.597020e-01</td><td>0.9968973</td><td>cohort.cohortGuid</td><td>BR1</td><td>B3GALT6   </td><td>ASDC</td><td>Female</td></tr>\n",
       "</tbody>\n",
       "</table>\n"
      ],
      "text/latex": [
       "A data.frame: 6 × 12\n",
       "\\begin{tabular}{r|llllllllllll}\n",
       "  & X & baseMean & log2FoldChange & lfcSE & stat & pvalue & padj & contrast & Direction & gene & celltype & sex\\\\\n",
       "  & <int> & <dbl> & <dbl> & <dbl> & <dbl> & <dbl> & <dbl> & <chr> & <chr> & <chr> & <chr> & <chr>\\\\\n",
       "\\hline\n",
       "\t1 & 1 & 1.4553376 & -1.58887408 & 0.3911621 & -4.0619325 & 4.866815e-05 & 0.3688559 & cohort.cohortGuid & BR1 & CCDC174    & ASDC & Female\\\\\n",
       "\t2 & 2 & 0.3984625 &  0.41653866 & 0.5699233 &  0.7308679 & 4.648598e-01 & 0.9968973 & cohort.cohortGuid & BR2 & AL669831.5 & ASDC & Female\\\\\n",
       "\t3 & 3 & 1.6559504 &  0.25216783 & 0.3641720 &  0.6924415 & 4.886601e-01 & 0.9968973 & cohort.cohortGuid & BR2 & NOC2L      & ASDC & Female\\\\\n",
       "\t4 & 4 & 1.2866563 & -0.97078515 & 0.5119361 & -1.8963013 & 5.792021e-02 & 0.9968973 & cohort.cohortGuid & BR1 & ISG15      & ASDC & Female\\\\\n",
       "\t5 & 5 & 2.7154615 & -0.05010603 & 0.2936791 & -0.1706149 & 8.645266e-01 & 0.9968973 & cohort.cohortGuid & BR1 & SDF4       & ASDC & Female\\\\\n",
       "\t6 & 6 & 1.1378577 & -0.29946048 & 0.4050389 & -0.7393377 & 4.597020e-01 & 0.9968973 & cohort.cohortGuid & BR1 & B3GALT6    & ASDC & Female\\\\\n",
       "\\end{tabular}\n"
      ],
      "text/markdown": [
       "\n",
       "A data.frame: 6 × 12\n",
       "\n",
       "| <!--/--> | X &lt;int&gt; | baseMean &lt;dbl&gt; | log2FoldChange &lt;dbl&gt; | lfcSE &lt;dbl&gt; | stat &lt;dbl&gt; | pvalue &lt;dbl&gt; | padj &lt;dbl&gt; | contrast &lt;chr&gt; | Direction &lt;chr&gt; | gene &lt;chr&gt; | celltype &lt;chr&gt; | sex &lt;chr&gt; |\n",
       "|---|---|---|---|---|---|---|---|---|---|---|---|---|\n",
       "| 1 | 1 | 1.4553376 | -1.58887408 | 0.3911621 | -4.0619325 | 4.866815e-05 | 0.3688559 | cohort.cohortGuid | BR1 | CCDC174    | ASDC | Female |\n",
       "| 2 | 2 | 0.3984625 |  0.41653866 | 0.5699233 |  0.7308679 | 4.648598e-01 | 0.9968973 | cohort.cohortGuid | BR2 | AL669831.5 | ASDC | Female |\n",
       "| 3 | 3 | 1.6559504 |  0.25216783 | 0.3641720 |  0.6924415 | 4.886601e-01 | 0.9968973 | cohort.cohortGuid | BR2 | NOC2L      | ASDC | Female |\n",
       "| 4 | 4 | 1.2866563 | -0.97078515 | 0.5119361 | -1.8963013 | 5.792021e-02 | 0.9968973 | cohort.cohortGuid | BR1 | ISG15      | ASDC | Female |\n",
       "| 5 | 5 | 2.7154615 | -0.05010603 | 0.2936791 | -0.1706149 | 8.645266e-01 | 0.9968973 | cohort.cohortGuid | BR1 | SDF4       | ASDC | Female |\n",
       "| 6 | 6 | 1.1378577 | -0.29946048 | 0.4050389 | -0.7393377 | 4.597020e-01 | 0.9968973 | cohort.cohortGuid | BR1 | B3GALT6    | ASDC | Female |\n",
       "\n"
      ],
      "text/plain": [
       "  X baseMean  log2FoldChange lfcSE     stat       pvalue       padj     \n",
       "1 1 1.4553376 -1.58887408    0.3911621 -4.0619325 4.866815e-05 0.3688559\n",
       "2 2 0.3984625  0.41653866    0.5699233  0.7308679 4.648598e-01 0.9968973\n",
       "3 3 1.6559504  0.25216783    0.3641720  0.6924415 4.886601e-01 0.9968973\n",
       "4 4 1.2866563 -0.97078515    0.5119361 -1.8963013 5.792021e-02 0.9968973\n",
       "5 5 2.7154615 -0.05010603    0.2936791 -0.1706149 8.645266e-01 0.9968973\n",
       "6 6 1.1378577 -0.29946048    0.4050389 -0.7393377 4.597020e-01 0.9968973\n",
       "  contrast          Direction gene       celltype sex   \n",
       "1 cohort.cohortGuid BR1       CCDC174    ASDC     Female\n",
       "2 cohort.cohortGuid BR2       AL669831.5 ASDC     Female\n",
       "3 cohort.cohortGuid BR2       NOC2L      ASDC     Female\n",
       "4 cohort.cohortGuid BR1       ISG15      ASDC     Female\n",
       "5 cohort.cohortGuid BR1       SDF4       ASDC     Female\n",
       "6 cohort.cohortGuid BR1       B3GALT6    ASDC     Female"
      ]
     },
     "metadata": {},
     "output_type": "display_data"
    },
    {
     "data": {
      "text/html": [
       "<style>\n",
       ".list-inline {list-style: none; margin:0; padding: 0}\n",
       ".list-inline>li {display: inline-block}\n",
       ".list-inline>li:not(:last-child)::after {content: \"\\00b7\"; padding: 0 .5ex}\n",
       "</style>\n",
       "<ol class=list-inline><li>747884</li><li>12</li></ol>\n"
      ],
      "text/latex": [
       "\\begin{enumerate*}\n",
       "\\item 747884\n",
       "\\item 12\n",
       "\\end{enumerate*}\n"
      ],
      "text/markdown": [
       "1. 747884\n",
       "2. 12\n",
       "\n",
       "\n"
      ],
      "text/plain": [
       "[1] 747884     12"
      ]
     },
     "metadata": {},
     "output_type": "display_data"
    },
    {
     "data": {
      "text/html": [
       "71"
      ],
      "text/latex": [
       "71"
      ],
      "text/markdown": [
       "71"
      ],
      "text/plain": [
       "[1] 71"
      ]
     },
     "metadata": {},
     "output_type": "display_data"
    }
   ],
   "source": [
    "head(master)\n",
    "dim(master)\n",
    "length(unique(master$celltype))"
   ]
  },
  {
   "cell_type": "code",
   "execution_count": 6,
   "id": "642c4c92-6816-44a3-a45e-b74b29d353e6",
   "metadata": {
    "tags": []
   },
   "outputs": [],
   "source": [
    "# Write DataFrame to a CSV file\n",
    "write.csv(master, \"/home/jupyter/IH-A-Aging-Analysis-Notebooks_old/Mansi_Notebooks/scRNA/CertPro_analysis/scripts/Figure_Notebooks/Intermediate_files/master_combined_DEG_list_all_celltypes_forfigs.csv\", row.names = FALSE)\n"
   ]
  },
  {
   "cell_type": "code",
   "execution_count": null,
   "id": "a7fa5227-4734-4adb-8c34-b2c627b99e58",
   "metadata": {},
   "outputs": [],
   "source": []
  }
 ],
 "metadata": {
  "kernelspec": {
   "display_name": "R 4",
   "language": "R",
   "name": "ir4"
  },
  "language_info": {
   "codemirror_mode": "r",
   "file_extension": ".r",
   "mimetype": "text/x-r-source",
   "name": "R",
   "pygments_lexer": "r",
   "version": "4.3.1"
  }
 },
 "nbformat": 4,
 "nbformat_minor": 5
}
