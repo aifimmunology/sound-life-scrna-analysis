{
 "cells": [
  {
   "cell_type": "code",
   "execution_count": 2,
   "id": "7193aee9-0304-4002-bc86-6ba7c9d08220",
   "metadata": {
    "tags": []
   },
   "outputs": [
    {
     "ename": "ERROR",
     "evalue": "Error in library(stabm): there is no package called ‘stabm’\n",
     "output_type": "error",
     "traceback": [
      "Error in library(stabm): there is no package called ‘stabm’\nTraceback:\n",
      "1. library(stabm)"
     ]
    }
   ],
   "source": [
    "suppressPackageStartupMessages(library(readxl))\n",
    "suppressPackageStartupMessages(library(dplyr))\n",
    "suppressPackageStartupMessages(library(tidyr))\n",
    "suppressPackageStartupMessages(library(tibble))\n",
    "suppressPackageStartupMessages(library(patchwork))\n",
    "suppressPackageStartupMessages(library(pheatmap))\n",
    "suppressPackageStartupMessages(library(stringr))\n",
    "library(hise)\n",
    "library(plyr)\n",
    "library(purrr)\n",
    "library(vegan)\n",
    "#library(arrow)\n",
    "library(parallel)\n",
    "library(ComplexHeatmap)\n",
    "library(ggsci)\n",
    "library(tidyverse)\n",
    "library(stabm)\n",
    "library(sets)\n",
    "# Load required libraries\n",
    "library(stringr)\n",
    "library(readr)"
   ]
  },
  {
   "cell_type": "code",
   "execution_count": null,
   "id": "dbeaf116-07e9-4be1-8c09-c54a779e9052",
   "metadata": {
    "tags": []
   },
   "outputs": [],
   "source": [
    "#install.packages(\"sets\")"
   ]
  },
  {
   "cell_type": "markdown",
   "id": "2cb58fe9-2748-450b-9e5e-6e49ce871ea5",
   "metadata": {},
   "source": [
    "# Jaccard function"
   ]
  },
  {
   "cell_type": "code",
   "execution_count": 3,
   "id": "c8f8a38f-b7bd-4172-8b25-e19da9a7f253",
   "metadata": {
    "tags": []
   },
   "outputs": [],
   "source": [
    "#Function to calculate Jaccard index\n",
    "jaccard_index <- function(set1, set2) {\n",
    "  intersection <- intersect(set1, set2)\n",
    "  union <- union(set1, set2)\n",
    "  return(length(intersection) / length(union))\n",
    "}"
   ]
  },
  {
   "cell_type": "code",
   "execution_count": 4,
   "id": "0d93777d-1b27-4522-bc60-f90fd48dbda1",
   "metadata": {
    "tags": []
   },
   "outputs": [],
   "source": [
    "jaccard <- function(a, b) {\n",
    "    intersection = length(intersect(a, b))\n",
    "    union = length(a) + length(b) - intersection\n",
    "    return (intersection/union)\n",
    "}"
   ]
  },
  {
   "cell_type": "code",
   "execution_count": 5,
   "id": "27b03e73-16ee-4c6b-9b14-9e246a5a8581",
   "metadata": {
    "tags": []
   },
   "outputs": [],
   "source": [
    "list_to_set <- function(x) {\n",
    "  unique(unlist(x))\n",
    "}"
   ]
  },
  {
   "cell_type": "markdown",
   "id": "f632d57e-b7d4-44ad-929f-18271224cc0c",
   "metadata": {
    "tags": []
   },
   "source": [
    "# JI for each celltype"
   ]
  },
  {
   "cell_type": "code",
   "execution_count": 6,
   "id": "f96d8f4b-7242-4fcf-af73-95cd82e57652",
   "metadata": {
    "tags": []
   },
   "outputs": [],
   "source": [
    "master <- read.csv(\"/home/jupyter/IH-A-Aging-Analysis-Notebooks_old/Mansi_Notebooks/scRNA/Figure_Notebooks/Intermediate_files/master_combined_DEG_list_all_celltypes_forfigs.csv\")"
   ]
  },
  {
   "cell_type": "code",
   "execution_count": 7,
   "id": "1f374e6b-c711-4e0f-bc49-0dcaedfe4e4e",
   "metadata": {
    "tags": []
   },
   "outputs": [
    {
     "data": {
      "text/html": [
       "<table class=\"dataframe\">\n",
       "<caption>A data.frame: 6 × 11</caption>\n",
       "<thead>\n",
       "\t<tr><th></th><th scope=col>X</th><th scope=col>baseMean</th><th scope=col>log2FoldChange</th><th scope=col>lfcSE</th><th scope=col>stat</th><th scope=col>pvalue</th><th scope=col>padj</th><th scope=col>celltype</th><th scope=col>Direction</th><th scope=col>Year</th><th scope=col>type</th></tr>\n",
       "\t<tr><th></th><th scope=col>&lt;chr&gt;</th><th scope=col>&lt;dbl&gt;</th><th scope=col>&lt;dbl&gt;</th><th scope=col>&lt;dbl&gt;</th><th scope=col>&lt;dbl&gt;</th><th scope=col>&lt;dbl&gt;</th><th scope=col>&lt;dbl&gt;</th><th scope=col>&lt;chr&gt;</th><th scope=col>&lt;chr&gt;</th><th scope=col>&lt;chr&gt;</th><th scope=col>&lt;chr&gt;</th></tr>\n",
       "</thead>\n",
       "<tbody>\n",
       "\t<tr><th scope=row>1</th><td>NOC2L  </td><td>0.4682601</td><td>-0.33564453</td><td>0.8327112</td><td>-0.40307434</td><td>0.6868935</td><td>0.9998266</td><td>Activated memory B cell</td><td>BR1</td><td>Y1</td><td>DEGs_Male</td></tr>\n",
       "\t<tr><th scope=row>2</th><td>ISG15  </td><td>0.7716756</td><td> 0.03101969</td><td>0.5329482</td><td> 0.05820395</td><td>0.9535862</td><td>0.9998266</td><td>Activated memory B cell</td><td>BR2</td><td>Y1</td><td>DEGs_Male</td></tr>\n",
       "\t<tr><th scope=row>3</th><td>SDF4   </td><td>0.5631814</td><td> 0.01246954</td><td>0.6510630</td><td> 0.01915259</td><td>0.9847194</td><td>0.9998266</td><td>Activated memory B cell</td><td>BR2</td><td>Y1</td><td>DEGs_Male</td></tr>\n",
       "\t<tr><th scope=row>4</th><td>B3GALT6</td><td>0.3151741</td><td> 0.61845489</td><td>0.8779896</td><td> 0.70439886</td><td>0.4811844</td><td>0.9998266</td><td>Activated memory B cell</td><td>BR2</td><td>Y1</td><td>DEGs_Male</td></tr>\n",
       "\t<tr><th scope=row>5</th><td>UBE2J2 </td><td>0.4517144</td><td> 0.17761642</td><td>0.6528145</td><td> 0.27207793</td><td>0.7855621</td><td>0.9998266</td><td>Activated memory B cell</td><td>BR2</td><td>Y1</td><td>DEGs_Male</td></tr>\n",
       "\t<tr><th scope=row>6</th><td>INTS11 </td><td>0.3656259</td><td> 0.07206422</td><td>0.6856389</td><td> 0.10510521</td><td>0.9162923</td><td>0.9998266</td><td>Activated memory B cell</td><td>BR2</td><td>Y1</td><td>DEGs_Male</td></tr>\n",
       "</tbody>\n",
       "</table>\n"
      ],
      "text/latex": [
       "A data.frame: 6 × 11\n",
       "\\begin{tabular}{r|lllllllllll}\n",
       "  & X & baseMean & log2FoldChange & lfcSE & stat & pvalue & padj & celltype & Direction & Year & type\\\\\n",
       "  & <chr> & <dbl> & <dbl> & <dbl> & <dbl> & <dbl> & <dbl> & <chr> & <chr> & <chr> & <chr>\\\\\n",
       "\\hline\n",
       "\t1 & NOC2L   & 0.4682601 & -0.33564453 & 0.8327112 & -0.40307434 & 0.6868935 & 0.9998266 & Activated memory B cell & BR1 & Y1 & DEGs\\_Male\\\\\n",
       "\t2 & ISG15   & 0.7716756 &  0.03101969 & 0.5329482 &  0.05820395 & 0.9535862 & 0.9998266 & Activated memory B cell & BR2 & Y1 & DEGs\\_Male\\\\\n",
       "\t3 & SDF4    & 0.5631814 &  0.01246954 & 0.6510630 &  0.01915259 & 0.9847194 & 0.9998266 & Activated memory B cell & BR2 & Y1 & DEGs\\_Male\\\\\n",
       "\t4 & B3GALT6 & 0.3151741 &  0.61845489 & 0.8779896 &  0.70439886 & 0.4811844 & 0.9998266 & Activated memory B cell & BR2 & Y1 & DEGs\\_Male\\\\\n",
       "\t5 & UBE2J2  & 0.4517144 &  0.17761642 & 0.6528145 &  0.27207793 & 0.7855621 & 0.9998266 & Activated memory B cell & BR2 & Y1 & DEGs\\_Male\\\\\n",
       "\t6 & INTS11  & 0.3656259 &  0.07206422 & 0.6856389 &  0.10510521 & 0.9162923 & 0.9998266 & Activated memory B cell & BR2 & Y1 & DEGs\\_Male\\\\\n",
       "\\end{tabular}\n"
      ],
      "text/markdown": [
       "\n",
       "A data.frame: 6 × 11\n",
       "\n",
       "| <!--/--> | X &lt;chr&gt; | baseMean &lt;dbl&gt; | log2FoldChange &lt;dbl&gt; | lfcSE &lt;dbl&gt; | stat &lt;dbl&gt; | pvalue &lt;dbl&gt; | padj &lt;dbl&gt; | celltype &lt;chr&gt; | Direction &lt;chr&gt; | Year &lt;chr&gt; | type &lt;chr&gt; |\n",
       "|---|---|---|---|---|---|---|---|---|---|---|---|\n",
       "| 1 | NOC2L   | 0.4682601 | -0.33564453 | 0.8327112 | -0.40307434 | 0.6868935 | 0.9998266 | Activated memory B cell | BR1 | Y1 | DEGs_Male |\n",
       "| 2 | ISG15   | 0.7716756 |  0.03101969 | 0.5329482 |  0.05820395 | 0.9535862 | 0.9998266 | Activated memory B cell | BR2 | Y1 | DEGs_Male |\n",
       "| 3 | SDF4    | 0.5631814 |  0.01246954 | 0.6510630 |  0.01915259 | 0.9847194 | 0.9998266 | Activated memory B cell | BR2 | Y1 | DEGs_Male |\n",
       "| 4 | B3GALT6 | 0.3151741 |  0.61845489 | 0.8779896 |  0.70439886 | 0.4811844 | 0.9998266 | Activated memory B cell | BR2 | Y1 | DEGs_Male |\n",
       "| 5 | UBE2J2  | 0.4517144 |  0.17761642 | 0.6528145 |  0.27207793 | 0.7855621 | 0.9998266 | Activated memory B cell | BR2 | Y1 | DEGs_Male |\n",
       "| 6 | INTS11  | 0.3656259 |  0.07206422 | 0.6856389 |  0.10510521 | 0.9162923 | 0.9998266 | Activated memory B cell | BR2 | Y1 | DEGs_Male |\n",
       "\n"
      ],
      "text/plain": [
       "  X       baseMean  log2FoldChange lfcSE     stat        pvalue    padj     \n",
       "1 NOC2L   0.4682601 -0.33564453    0.8327112 -0.40307434 0.6868935 0.9998266\n",
       "2 ISG15   0.7716756  0.03101969    0.5329482  0.05820395 0.9535862 0.9998266\n",
       "3 SDF4    0.5631814  0.01246954    0.6510630  0.01915259 0.9847194 0.9998266\n",
       "4 B3GALT6 0.3151741  0.61845489    0.8779896  0.70439886 0.4811844 0.9998266\n",
       "5 UBE2J2  0.4517144  0.17761642    0.6528145  0.27207793 0.7855621 0.9998266\n",
       "6 INTS11  0.3656259  0.07206422    0.6856389  0.10510521 0.9162923 0.9998266\n",
       "  celltype                Direction Year type     \n",
       "1 Activated memory B cell BR1       Y1   DEGs_Male\n",
       "2 Activated memory B cell BR2       Y1   DEGs_Male\n",
       "3 Activated memory B cell BR2       Y1   DEGs_Male\n",
       "4 Activated memory B cell BR2       Y1   DEGs_Male\n",
       "5 Activated memory B cell BR2       Y1   DEGs_Male\n",
       "6 Activated memory B cell BR2       Y1   DEGs_Male"
      ]
     },
     "metadata": {},
     "output_type": "display_data"
    }
   ],
   "source": [
    "head(master)"
   ]
  },
  {
   "cell_type": "code",
   "execution_count": 8,
   "id": "1c020845-b2df-40a5-aca9-713e9eeb0ae6",
   "metadata": {
    "tags": []
   },
   "outputs": [
    {
     "data": {
      "text/html": [
       "<style>\n",
       ".list-inline {list-style: none; margin:0; padding: 0}\n",
       ".list-inline>li {display: inline-block}\n",
       ".list-inline>li:not(:last-child)::after {content: \"\\00b7\"; padding: 0 .5ex}\n",
       "</style>\n",
       "<ol class=list-inline><li>'Activated memory B cell'</li><li>'Adaptive NK cell'</li><li>'ASDC'</li><li>'BaEoMaP cell'</li><li>'C1Q+ CD16 monocyte'</li><li>'CD14+ cDC2'</li><li>'CD27- effector B cell'</li><li>'CD27+ effector B cell'</li><li>'CD4 MAIT'</li><li>'CD56bright NK cell'</li><li>'CD8 MAIT'</li><li>'CD8aa'</li><li>'CD95 memory B cell'</li><li>'cDC1'</li><li>'CLP cell'</li><li>'CM CD4 T cell'</li><li>'CM CD8 T cell'</li><li>'CMP cell'</li><li>'Core CD14 monocyte'</li><li>'Core CD16 monocyte'</li><li>'Core memory B cell'</li><li>'Core naive B cell'</li><li>'Core naive CD4 T cell'</li><li>'Core naive CD8 T cell '</li><li>'DN T cell'</li><li>'Early memory B cell'</li><li>'Erythrocyte'</li><li>'GZMB- CD27- EM CD4 T cell'</li><li>'GZMB- CD27+ EM CD4 T cell'</li><li>'GZMB+ Vd2 gdT'</li><li>'GZMK- CD27+ EM CD8 T cell'</li><li>'GZMK- CD56dim NK cell'</li><li>'GZMK+ CD27+ EM CD8 T cell'</li><li>'GZMK+ CD56dim NK cell'</li><li>'GZMK+ memory CD4 Treg'</li><li>'GZMK+ Vd2 gdT'</li><li>'HLA-DRhi cDC2'</li><li>'IL1B+ CD14 monocyte'</li><li>'ILC'</li><li>'Intermediate monocyte'</li><li>'ISG+ CD14 monocyte'</li><li>'ISG+ CD16 monocyte'</li><li>'ISG+ CD56dim NK cell'</li><li>'ISG+ cDC2'</li><li>'ISG+ MAIT'</li><li>'ISG+ memory CD4 T cell'</li><li>'ISG+ memory CD8 T cell'</li><li>'ISG+ naive B cell'</li><li>'ISG+ naive CD4 T cell'</li><li>'ISG+ naive CD8 T cell'</li><li>'KLRB1+ memory CD4 Treg'</li><li>'KLRB1+ memory CD8 Treg'</li><li>'KLRF1- effector Vd1 gdT'</li><li>'KLRF1- GZMB+ CD27- EM CD8 T cell'</li><li>'KLRF1- GZMB+ CD27- memory CD4 T cell'</li><li>'KLRF1+ effector Vd1 gdT'</li><li>'KLRF1+ GZMB+ CD27- EM CD8 T cell'</li><li>'Memory CD4 Treg'</li><li>'Memory CD8 Treg'</li><li>'Naive CD4 Treg'</li><li>'Naive Vd1 gdT'</li><li>'pDC'</li><li>'Plasma cell'</li><li>'Platelet'</li><li>'Proliferating NK cell'</li><li>'Proliferating T cell'</li><li>'SOX4+ naive CD4 T cell'</li><li>'SOX4+ naive CD8 T cell'</li><li>'SOX4+ Vd1 gdT'</li><li>'Transitional B cell'</li><li>'Type 2 polarized memory B cell'</li></ol>\n"
      ],
      "text/latex": [
       "\\begin{enumerate*}\n",
       "\\item 'Activated memory B cell'\n",
       "\\item 'Adaptive NK cell'\n",
       "\\item 'ASDC'\n",
       "\\item 'BaEoMaP cell'\n",
       "\\item 'C1Q+ CD16 monocyte'\n",
       "\\item 'CD14+ cDC2'\n",
       "\\item 'CD27- effector B cell'\n",
       "\\item 'CD27+ effector B cell'\n",
       "\\item 'CD4 MAIT'\n",
       "\\item 'CD56bright NK cell'\n",
       "\\item 'CD8 MAIT'\n",
       "\\item 'CD8aa'\n",
       "\\item 'CD95 memory B cell'\n",
       "\\item 'cDC1'\n",
       "\\item 'CLP cell'\n",
       "\\item 'CM CD4 T cell'\n",
       "\\item 'CM CD8 T cell'\n",
       "\\item 'CMP cell'\n",
       "\\item 'Core CD14 monocyte'\n",
       "\\item 'Core CD16 monocyte'\n",
       "\\item 'Core memory B cell'\n",
       "\\item 'Core naive B cell'\n",
       "\\item 'Core naive CD4 T cell'\n",
       "\\item 'Core naive CD8 T cell '\n",
       "\\item 'DN T cell'\n",
       "\\item 'Early memory B cell'\n",
       "\\item 'Erythrocyte'\n",
       "\\item 'GZMB- CD27- EM CD4 T cell'\n",
       "\\item 'GZMB- CD27+ EM CD4 T cell'\n",
       "\\item 'GZMB+ Vd2 gdT'\n",
       "\\item 'GZMK- CD27+ EM CD8 T cell'\n",
       "\\item 'GZMK- CD56dim NK cell'\n",
       "\\item 'GZMK+ CD27+ EM CD8 T cell'\n",
       "\\item 'GZMK+ CD56dim NK cell'\n",
       "\\item 'GZMK+ memory CD4 Treg'\n",
       "\\item 'GZMK+ Vd2 gdT'\n",
       "\\item 'HLA-DRhi cDC2'\n",
       "\\item 'IL1B+ CD14 monocyte'\n",
       "\\item 'ILC'\n",
       "\\item 'Intermediate monocyte'\n",
       "\\item 'ISG+ CD14 monocyte'\n",
       "\\item 'ISG+ CD16 monocyte'\n",
       "\\item 'ISG+ CD56dim NK cell'\n",
       "\\item 'ISG+ cDC2'\n",
       "\\item 'ISG+ MAIT'\n",
       "\\item 'ISG+ memory CD4 T cell'\n",
       "\\item 'ISG+ memory CD8 T cell'\n",
       "\\item 'ISG+ naive B cell'\n",
       "\\item 'ISG+ naive CD4 T cell'\n",
       "\\item 'ISG+ naive CD8 T cell'\n",
       "\\item 'KLRB1+ memory CD4 Treg'\n",
       "\\item 'KLRB1+ memory CD8 Treg'\n",
       "\\item 'KLRF1- effector Vd1 gdT'\n",
       "\\item 'KLRF1- GZMB+ CD27- EM CD8 T cell'\n",
       "\\item 'KLRF1- GZMB+ CD27- memory CD4 T cell'\n",
       "\\item 'KLRF1+ effector Vd1 gdT'\n",
       "\\item 'KLRF1+ GZMB+ CD27- EM CD8 T cell'\n",
       "\\item 'Memory CD4 Treg'\n",
       "\\item 'Memory CD8 Treg'\n",
       "\\item 'Naive CD4 Treg'\n",
       "\\item 'Naive Vd1 gdT'\n",
       "\\item 'pDC'\n",
       "\\item 'Plasma cell'\n",
       "\\item 'Platelet'\n",
       "\\item 'Proliferating NK cell'\n",
       "\\item 'Proliferating T cell'\n",
       "\\item 'SOX4+ naive CD4 T cell'\n",
       "\\item 'SOX4+ naive CD8 T cell'\n",
       "\\item 'SOX4+ Vd1 gdT'\n",
       "\\item 'Transitional B cell'\n",
       "\\item 'Type 2 polarized memory B cell'\n",
       "\\end{enumerate*}\n"
      ],
      "text/markdown": [
       "1. 'Activated memory B cell'\n",
       "2. 'Adaptive NK cell'\n",
       "3. 'ASDC'\n",
       "4. 'BaEoMaP cell'\n",
       "5. 'C1Q+ CD16 monocyte'\n",
       "6. 'CD14+ cDC2'\n",
       "7. 'CD27- effector B cell'\n",
       "8. 'CD27+ effector B cell'\n",
       "9. 'CD4 MAIT'\n",
       "10. 'CD56bright NK cell'\n",
       "11. 'CD8 MAIT'\n",
       "12. 'CD8aa'\n",
       "13. 'CD95 memory B cell'\n",
       "14. 'cDC1'\n",
       "15. 'CLP cell'\n",
       "16. 'CM CD4 T cell'\n",
       "17. 'CM CD8 T cell'\n",
       "18. 'CMP cell'\n",
       "19. 'Core CD14 monocyte'\n",
       "20. 'Core CD16 monocyte'\n",
       "21. 'Core memory B cell'\n",
       "22. 'Core naive B cell'\n",
       "23. 'Core naive CD4 T cell'\n",
       "24. 'Core naive CD8 T cell '\n",
       "25. 'DN T cell'\n",
       "26. 'Early memory B cell'\n",
       "27. 'Erythrocyte'\n",
       "28. 'GZMB- CD27- EM CD4 T cell'\n",
       "29. 'GZMB- CD27+ EM CD4 T cell'\n",
       "30. 'GZMB+ Vd2 gdT'\n",
       "31. 'GZMK- CD27+ EM CD8 T cell'\n",
       "32. 'GZMK- CD56dim NK cell'\n",
       "33. 'GZMK+ CD27+ EM CD8 T cell'\n",
       "34. 'GZMK+ CD56dim NK cell'\n",
       "35. 'GZMK+ memory CD4 Treg'\n",
       "36. 'GZMK+ Vd2 gdT'\n",
       "37. 'HLA-DRhi cDC2'\n",
       "38. 'IL1B+ CD14 monocyte'\n",
       "39. 'ILC'\n",
       "40. 'Intermediate monocyte'\n",
       "41. 'ISG+ CD14 monocyte'\n",
       "42. 'ISG+ CD16 monocyte'\n",
       "43. 'ISG+ CD56dim NK cell'\n",
       "44. 'ISG+ cDC2'\n",
       "45. 'ISG+ MAIT'\n",
       "46. 'ISG+ memory CD4 T cell'\n",
       "47. 'ISG+ memory CD8 T cell'\n",
       "48. 'ISG+ naive B cell'\n",
       "49. 'ISG+ naive CD4 T cell'\n",
       "50. 'ISG+ naive CD8 T cell'\n",
       "51. 'KLRB1+ memory CD4 Treg'\n",
       "52. 'KLRB1+ memory CD8 Treg'\n",
       "53. 'KLRF1- effector Vd1 gdT'\n",
       "54. 'KLRF1- GZMB+ CD27- EM CD8 T cell'\n",
       "55. 'KLRF1- GZMB+ CD27- memory CD4 T cell'\n",
       "56. 'KLRF1+ effector Vd1 gdT'\n",
       "57. 'KLRF1+ GZMB+ CD27- EM CD8 T cell'\n",
       "58. 'Memory CD4 Treg'\n",
       "59. 'Memory CD8 Treg'\n",
       "60. 'Naive CD4 Treg'\n",
       "61. 'Naive Vd1 gdT'\n",
       "62. 'pDC'\n",
       "63. 'Plasma cell'\n",
       "64. 'Platelet'\n",
       "65. 'Proliferating NK cell'\n",
       "66. 'Proliferating T cell'\n",
       "67. 'SOX4+ naive CD4 T cell'\n",
       "68. 'SOX4+ naive CD8 T cell'\n",
       "69. 'SOX4+ Vd1 gdT'\n",
       "70. 'Transitional B cell'\n",
       "71. 'Type 2 polarized memory B cell'\n",
       "\n",
       "\n"
      ],
      "text/plain": [
       " [1] \"Activated memory B cell\"             \n",
       " [2] \"Adaptive NK cell\"                    \n",
       " [3] \"ASDC\"                                \n",
       " [4] \"BaEoMaP cell\"                        \n",
       " [5] \"C1Q+ CD16 monocyte\"                  \n",
       " [6] \"CD14+ cDC2\"                          \n",
       " [7] \"CD27- effector B cell\"               \n",
       " [8] \"CD27+ effector B cell\"               \n",
       " [9] \"CD4 MAIT\"                            \n",
       "[10] \"CD56bright NK cell\"                  \n",
       "[11] \"CD8 MAIT\"                            \n",
       "[12] \"CD8aa\"                               \n",
       "[13] \"CD95 memory B cell\"                  \n",
       "[14] \"cDC1\"                                \n",
       "[15] \"CLP cell\"                            \n",
       "[16] \"CM CD4 T cell\"                       \n",
       "[17] \"CM CD8 T cell\"                       \n",
       "[18] \"CMP cell\"                            \n",
       "[19] \"Core CD14 monocyte\"                  \n",
       "[20] \"Core CD16 monocyte\"                  \n",
       "[21] \"Core memory B cell\"                  \n",
       "[22] \"Core naive B cell\"                   \n",
       "[23] \"Core naive CD4 T cell\"               \n",
       "[24] \"Core naive CD8 T cell \"              \n",
       "[25] \"DN T cell\"                           \n",
       "[26] \"Early memory B cell\"                 \n",
       "[27] \"Erythrocyte\"                         \n",
       "[28] \"GZMB- CD27- EM CD4 T cell\"           \n",
       "[29] \"GZMB- CD27+ EM CD4 T cell\"           \n",
       "[30] \"GZMB+ Vd2 gdT\"                       \n",
       "[31] \"GZMK- CD27+ EM CD8 T cell\"           \n",
       "[32] \"GZMK- CD56dim NK cell\"               \n",
       "[33] \"GZMK+ CD27+ EM CD8 T cell\"           \n",
       "[34] \"GZMK+ CD56dim NK cell\"               \n",
       "[35] \"GZMK+ memory CD4 Treg\"               \n",
       "[36] \"GZMK+ Vd2 gdT\"                       \n",
       "[37] \"HLA-DRhi cDC2\"                       \n",
       "[38] \"IL1B+ CD14 monocyte\"                 \n",
       "[39] \"ILC\"                                 \n",
       "[40] \"Intermediate monocyte\"               \n",
       "[41] \"ISG+ CD14 monocyte\"                  \n",
       "[42] \"ISG+ CD16 monocyte\"                  \n",
       "[43] \"ISG+ CD56dim NK cell\"                \n",
       "[44] \"ISG+ cDC2\"                           \n",
       "[45] \"ISG+ MAIT\"                           \n",
       "[46] \"ISG+ memory CD4 T cell\"              \n",
       "[47] \"ISG+ memory CD8 T cell\"              \n",
       "[48] \"ISG+ naive B cell\"                   \n",
       "[49] \"ISG+ naive CD4 T cell\"               \n",
       "[50] \"ISG+ naive CD8 T cell\"               \n",
       "[51] \"KLRB1+ memory CD4 Treg\"              \n",
       "[52] \"KLRB1+ memory CD8 Treg\"              \n",
       "[53] \"KLRF1- effector Vd1 gdT\"             \n",
       "[54] \"KLRF1- GZMB+ CD27- EM CD8 T cell\"    \n",
       "[55] \"KLRF1- GZMB+ CD27- memory CD4 T cell\"\n",
       "[56] \"KLRF1+ effector Vd1 gdT\"             \n",
       "[57] \"KLRF1+ GZMB+ CD27- EM CD8 T cell\"    \n",
       "[58] \"Memory CD4 Treg\"                     \n",
       "[59] \"Memory CD8 Treg\"                     \n",
       "[60] \"Naive CD4 Treg\"                      \n",
       "[61] \"Naive Vd1 gdT\"                       \n",
       "[62] \"pDC\"                                 \n",
       "[63] \"Plasma cell\"                         \n",
       "[64] \"Platelet\"                            \n",
       "[65] \"Proliferating NK cell\"               \n",
       "[66] \"Proliferating T cell\"                \n",
       "[67] \"SOX4+ naive CD4 T cell\"              \n",
       "[68] \"SOX4+ naive CD8 T cell\"              \n",
       "[69] \"SOX4+ Vd1 gdT\"                       \n",
       "[70] \"Transitional B cell\"                 \n",
       "[71] \"Type 2 polarized memory B cell\"      "
      ]
     },
     "metadata": {},
     "output_type": "display_data"
    }
   ],
   "source": [
    "unique(master$celltype)"
   ]
  },
  {
   "cell_type": "code",
   "execution_count": null,
   "id": "9fc7a13b-87f0-4ff3-ab60-1887f4ec596e",
   "metadata": {
    "tags": []
   },
   "outputs": [],
   "source": [
    "#cell = \"ASDC\"\n",
    "\n",
    "cell_filt <- master %>% dplyr::filter(master$celltype == \"ASDC\")"
   ]
  },
  {
   "cell_type": "code",
   "execution_count": 10,
   "id": "4743890c-27a8-4156-94f8-896d8c3a3536",
   "metadata": {
    "tags": []
   },
   "outputs": [],
   "source": [
    "#cell = \"ASDC\"\n",
    "\n",
    "cell_filt <- master %>% filter(master$celltype == \"pDC\")"
   ]
  },
  {
   "cell_type": "code",
   "execution_count": null,
   "id": "12ef5d55-bc0e-44d8-a4ce-4fe6daa370f6",
   "metadata": {
    "tags": []
   },
   "outputs": [],
   "source": [
    "cell_filt"
   ]
  },
  {
   "cell_type": "code",
   "execution_count": 12,
   "id": "58766f8b-9695-48f0-bf5d-8605b44c17df",
   "metadata": {
    "tags": []
   },
   "outputs": [],
   "source": [
    "#library(sets)\n",
    "cell = \"IL1B+ CD14 monocyte\"\n",
    "\n",
    "cell_filt <- master %>% filter(master$celltype == cell, padj <=0.1)\n",
    "\n",
    "DEG_male<- cell_filt[cell_filt$padj <= 0.1 & cell_filt$type == \"DEGs_Male\", \"X\"]\n",
    "#DEG_male\n",
    "DEG_female <- cell_filt[cell_filt$padj <= 0.1 & cell_filt$type == \"DEGs_Female\", \"X\"]\n",
    "#DEG_female\n",
    "\n",
    " # Remove NA values from DEGs\n",
    "DEG_male <- na.omit(DEG_male)\n",
    "DEG_female <- na.omit(DEG_female)\n",
    "\n",
    "\n",
    "#Convert filtered DEGs to sets\n",
    "set_DEG_male <- as.set(DEG_male)\n",
    "set_DEG2_female <- as.set(DEG_female)\n",
    "# set_DEG_male\n",
    "# set_DEG_female\n",
    "\n",
    "jaccard_sim <- jaccard(set_DEG_male, set_DEG2_female)  #<<< change JI function here\n",
    "jaccard_sim\n",
    "\n"
   ]
  },
  {
   "cell_type": "code",
   "execution_count": null,
   "id": "360c8db0-3145-4720-acac-1980747182c8",
   "metadata": {},
   "outputs": [],
   "source": [
    " # Remove NA values from DEGs\n",
    "DEG_male <- na.omit(DEG_male)\n",
    "DEG_female <- na.omit(DEG_female)\n",
    "\n",
    "\n",
    "#Convert filtered DEGs to sets\n",
    "set_DEG_male <- as.set(DEG_male)\n",
    "set_DEG2_female <- as.set(DEG_female)\n",
    "# set_DEG_male\n",
    "# set_DEG_female\n",
    "\n",
    "jaccard_sim <- jaccard(set_DEG_male, set_DEG2_female)  #<<< change JI function here\n",
    "jaccard_sim\n"
   ]
  },
  {
   "cell_type": "code",
   "execution_count": null,
   "id": "989f39a8-25b4-49f8-a740-e5bd2b79269d",
   "metadata": {
    "tags": []
   },
   "outputs": [],
   "source": [
    "\n",
    "#Convert filtered DEGs to sets\n",
    "set_DEG_male <- as.set(DEG_male)\n",
    "set_DEG2_female <- as.set(DEG_female)\n",
    "# set_DEG_male\n",
    "# set_DEG_female\n",
    "\n",
    "jaccard_sim <- jaccard(set_DEG_male, set_DEG2_female)  #<<< change JI function here\n",
    "jaccard_sim"
   ]
  },
  {
   "cell_type": "code",
   "execution_count": null,
   "id": "168bcea1-5fe3-4a28-8abf-f0ce2b14525c",
   "metadata": {},
   "outputs": [],
   "source": []
  }
 ],
 "metadata": {
  "kernelspec": {
   "display_name": "R 4",
   "language": "R",
   "name": "ir4"
  },
  "language_info": {
   "codemirror_mode": "r",
   "file_extension": ".r",
   "mimetype": "text/x-r-source",
   "name": "R",
   "pygments_lexer": "r",
   "version": "4.3.1"
  }
 },
 "nbformat": 4,
 "nbformat_minor": 5
}
