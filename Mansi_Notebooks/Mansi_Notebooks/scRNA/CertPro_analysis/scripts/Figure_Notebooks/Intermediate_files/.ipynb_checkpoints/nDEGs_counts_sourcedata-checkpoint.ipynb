{
 "cells": [
  {
   "cell_type": "code",
   "execution_count": null,
   "id": "7ec196ef-a667-4d38-b006-75b85761c434",
   "metadata": {
    "tags": []
   },
   "outputs": [],
   "source": []
  },
  {
   "cell_type": "code",
   "execution_count": 85,
   "id": "2bda09c5-dde3-4543-9cab-d5939324930a",
   "metadata": {
    "tags": []
   },
   "outputs": [],
   "source": [
    "suppressPackageStartupMessages(library(readxl))\n",
    "suppressPackageStartupMessages(library(dplyr))\n",
    "suppressPackageStartupMessages(library(tidyr))\n",
    "suppressPackageStartupMessages(library(tibble))\n",
    "suppressPackageStartupMessages(library(patchwork))\n",
    "suppressPackageStartupMessages(library(pheatmap))\n",
    "suppressPackageStartupMessages(library(stringr))\n",
    "library(hise)\n",
    "library(plyr)\n",
    "library(purrr)\n",
    "library(vegan)\n",
    "#library(arrow)\n",
    "library(parallel)\n",
    "library(ComplexHeatmap)\n",
    "library(ggsci)\n",
    "library(tidyverse)"
   ]
  },
  {
   "cell_type": "markdown",
   "id": "f119d76a-753c-4ffa-acc9-a1439fcd6cfd",
   "metadata": {},
   "source": [
    "# Create nDEGs plot for each celltype (p <= 0.1)"
   ]
  },
  {
   "cell_type": "code",
   "execution_count": 101,
   "id": "148ac4aa-a37f-4a6c-bcc0-111ea90fa3ee",
   "metadata": {
    "tags": []
   },
   "outputs": [],
   "source": [
    "master <- read.csv(\"/home/jupyter/IH-A-Aging-Analysis-Notebooks_old/Mansi_Notebooks/scRNA/Figure_Notebooks/Intermediate_files/master_combined_DEG_list_all_celltypes_forfigs.csv\")"
   ]
  },
  {
   "cell_type": "code",
   "execution_count": 102,
   "id": "b02c9a85-0f4a-4185-9e81-0dbff448820b",
   "metadata": {
    "tags": []
   },
   "outputs": [
    {
     "data": {
      "text/html": [
       "71"
      ],
      "text/latex": [
       "71"
      ],
      "text/markdown": [
       "71"
      ],
      "text/plain": [
       "[1] 71"
      ]
     },
     "metadata": {},
     "output_type": "display_data"
    },
    {
     "data": {
      "text/html": [
       "<table class=\"dataframe\">\n",
       "<caption>A data.frame: 6 × 4</caption>\n",
       "<thead>\n",
       "\t<tr><th></th><th scope=col>celltype</th><th scope=col>Direction</th><th scope=col>type</th><th scope=col>count</th></tr>\n",
       "\t<tr><th></th><th scope=col>&lt;chr&gt;</th><th scope=col>&lt;chr&gt;</th><th scope=col>&lt;chr&gt;</th><th scope=col>&lt;int&gt;</th></tr>\n",
       "</thead>\n",
       "<tbody>\n",
       "\t<tr><th scope=row>1</th><td>Activated memory B cell</td><td>BR1</td><td>DEGs_Male</td><td>0</td></tr>\n",
       "\t<tr><th scope=row>2</th><td>Adaptive NK cell       </td><td>BR1</td><td>DEGs_Male</td><td>0</td></tr>\n",
       "\t<tr><th scope=row>3</th><td>ASDC                   </td><td>BR1</td><td>DEGs_Male</td><td>0</td></tr>\n",
       "\t<tr><th scope=row>4</th><td>BaEoMaP cell           </td><td>BR1</td><td>DEGs_Male</td><td>0</td></tr>\n",
       "\t<tr><th scope=row>5</th><td>C1Q+ CD16 monocyte     </td><td>BR1</td><td>DEGs_Male</td><td>1</td></tr>\n",
       "\t<tr><th scope=row>6</th><td>CD14+ cDC2             </td><td>BR1</td><td>DEGs_Male</td><td>0</td></tr>\n",
       "</tbody>\n",
       "</table>\n"
      ],
      "text/latex": [
       "A data.frame: 6 × 4\n",
       "\\begin{tabular}{r|llll}\n",
       "  & celltype & Direction & type & count\\\\\n",
       "  & <chr> & <chr> & <chr> & <int>\\\\\n",
       "\\hline\n",
       "\t1 & Activated memory B cell & BR1 & DEGs\\_Male & 0\\\\\n",
       "\t2 & Adaptive NK cell        & BR1 & DEGs\\_Male & 0\\\\\n",
       "\t3 & ASDC                    & BR1 & DEGs\\_Male & 0\\\\\n",
       "\t4 & BaEoMaP cell            & BR1 & DEGs\\_Male & 0\\\\\n",
       "\t5 & C1Q+ CD16 monocyte      & BR1 & DEGs\\_Male & 1\\\\\n",
       "\t6 & CD14+ cDC2              & BR1 & DEGs\\_Male & 0\\\\\n",
       "\\end{tabular}\n"
      ],
      "text/markdown": [
       "\n",
       "A data.frame: 6 × 4\n",
       "\n",
       "| <!--/--> | celltype &lt;chr&gt; | Direction &lt;chr&gt; | type &lt;chr&gt; | count &lt;int&gt; |\n",
       "|---|---|---|---|---|\n",
       "| 1 | Activated memory B cell | BR1 | DEGs_Male | 0 |\n",
       "| 2 | Adaptive NK cell        | BR1 | DEGs_Male | 0 |\n",
       "| 3 | ASDC                    | BR1 | DEGs_Male | 0 |\n",
       "| 4 | BaEoMaP cell            | BR1 | DEGs_Male | 0 |\n",
       "| 5 | C1Q+ CD16 monocyte      | BR1 | DEGs_Male | 1 |\n",
       "| 6 | CD14+ cDC2              | BR1 | DEGs_Male | 0 |\n",
       "\n"
      ],
      "text/plain": [
       "  celltype                Direction type      count\n",
       "1 Activated memory B cell BR1       DEGs_Male 0    \n",
       "2 Adaptive NK cell        BR1       DEGs_Male 0    \n",
       "3 ASDC                    BR1       DEGs_Male 0    \n",
       "4 BaEoMaP cell            BR1       DEGs_Male 0    \n",
       "5 C1Q+ CD16 monocyte      BR1       DEGs_Male 1    \n",
       "6 CD14+ cDC2              BR1       DEGs_Male 0    "
      ]
     },
     "metadata": {},
     "output_type": "display_data"
    }
   ],
   "source": [
    "library(dplyr)\n",
    "library(tidyr)\n",
    "\n",
    "# Create all possible combinations of celltype, Direction, and type\n",
    "all_combinations <- expand.grid(celltype = unique(master$celltype),\n",
    "                                Direction = unique(master$Direction),\n",
    "                                type = unique(master$type))\n",
    "\n",
    "# Summarize the data\n",
    "master_summary <- master %>%\n",
    "  dplyr::mutate(Expression = case_when(log2FoldChange >= 0.1 & padj <= 0.1 ~ \"BR2\",\n",
    "                                 log2FoldChange <= -0.1 & padj <= 0.1 ~ \"BR1\",\n",
    "                                 TRUE ~ \"Unchanged\")) %>%\n",
    "  dplyr::filter(!Expression == 'Unchanged') %>%\n",
    "  dplyr::group_by(celltype, Direction, type) %>%\n",
    "  dplyr::summarise(count = n(), .groups = 'drop')\n",
    "\n",
    "# Left join with all_combinations and fill missing counts with 0\n",
    "master_complete <- left_join(all_combinations, master_summary, by = c(\"celltype\", \"Direction\", \"type\")) %>%\n",
    "  dplyr::mutate(count = replace_na(count, 0)) %>% \n",
    "  filter(!is.na(Direction)) # Remove rows with NA in the Direction column\n",
    "\n",
    "\n",
    "\n",
    "# Check the number of unique celltypes\n",
    "length(unique(master_complete$celltype))\n",
    "\n",
    "\n",
    "head(master_complete)\n",
    "#all_combinations\n"
   ]
  },
  {
   "cell_type": "code",
   "execution_count": 103,
   "id": "a869648d-6919-42e6-b24b-de94415282cb",
   "metadata": {
    "tags": []
   },
   "outputs": [
    {
     "data": {
      "text/html": [
       "<style>\n",
       ".list-inline {list-style: none; margin:0; padding: 0}\n",
       ".list-inline>li {display: inline-block}\n",
       ".list-inline>li:not(:last-child)::after {content: \"\\00b7\"; padding: 0 .5ex}\n",
       "</style>\n",
       "<ol class=list-inline><li>284</li><li>4</li></ol>\n"
      ],
      "text/latex": [
       "\\begin{enumerate*}\n",
       "\\item 284\n",
       "\\item 4\n",
       "\\end{enumerate*}\n"
      ],
      "text/markdown": [
       "1. 284\n",
       "2. 4\n",
       "\n",
       "\n"
      ],
      "text/plain": [
       "[1] 284   4"
      ]
     },
     "metadata": {},
     "output_type": "display_data"
    }
   ],
   "source": [
    "dim(master_complete)"
   ]
  }
 ],
 "metadata": {
  "kernelspec": {
   "display_name": "R 4",
   "language": "R",
   "name": "ir4"
  },
  "language_info": {
   "codemirror_mode": "r",
   "file_extension": ".r",
   "mimetype": "text/x-r-source",
   "name": "R",
   "pygments_lexer": "r",
   "version": "4.3.1"
  }
 },
 "nbformat": 4,
 "nbformat_minor": 5
}
