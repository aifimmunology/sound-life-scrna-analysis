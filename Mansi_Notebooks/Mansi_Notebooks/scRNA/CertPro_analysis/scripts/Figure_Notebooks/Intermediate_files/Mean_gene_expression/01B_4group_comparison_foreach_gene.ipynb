{
 "cells": [
  {
   "cell_type": "code",
   "execution_count": null,
   "id": "a202c1ee-8cdb-4e2d-8170-40ae4af0dfa5",
   "metadata": {},
   "outputs": [],
   "source": []
  },
  {
   "cell_type": "code",
   "execution_count": null,
   "id": "393d97d5-d406-41a2-a919-d4717ed2c6ca",
   "metadata": {
    "tags": []
   },
   "outputs": [],
   "source": [
    "suppressPackageStartupMessages(library(readxl))\n",
    "suppressPackageStartupMessages(library(dplyr))\n",
    "suppressPackageStartupMessages(library(tidyr))\n",
    "suppressPackageStartupMessages(library(tibble))\n",
    "suppressPackageStartupMessages(library(patchwork))\n",
    "suppressPackageStartupMessages(library(pheatmap))\n",
    "suppressPackageStartupMessages(library(stringr))\n",
    "library(hise)\n",
    "library(plyr)\n",
    "library(purrr)\n",
    "library(vegan)\n",
    "#library(arrow)\n",
    "library(parallel)\n",
    "library(ComplexHeatmap)\n",
    "library(ggsci)\n",
    "library(tidyverse)"
   ]
  },
  {
   "cell_type": "markdown",
   "id": "397c9d33-0359-4da1-bb85-5c4cb1a486b2",
   "metadata": {
    "tags": []
   },
   "source": [
    "# Creating merged df with metadata and pseudobulk mean expression"
   ]
  },
  {
   "cell_type": "code",
   "execution_count": 50,
   "id": "ea2c0318-0fbb-48a6-a323-9aebaa236094",
   "metadata": {
    "tags": []
   },
   "outputs": [
    {
     "data": {
      "text/html": [
       "<style>\n",
       ".list-inline {list-style: none; margin:0; padding: 0}\n",
       ".list-inline>li {display: inline-block}\n",
       ".list-inline>li:not(:last-child)::after {content: \"\\00b7\"; padding: 0 .5ex}\n",
       "</style>\n",
       "<ol class=list-inline><li>32</li><li>92</li></ol>\n"
      ],
      "text/latex": [
       "\\begin{enumerate*}\n",
       "\\item 32\n",
       "\\item 92\n",
       "\\end{enumerate*}\n"
      ],
      "text/markdown": [
       "1. 32\n",
       "2. 92\n",
       "\n",
       "\n"
      ],
      "text/plain": [
       "[1] 32 92"
      ]
     },
     "metadata": {},
     "output_type": "display_data"
    }
   ],
   "source": [
    "mean_df<-read.csv(\"/home/jupyter/IH-A-Aging-Analysis-Notebooks_old/Mansi_Notebooks/scRNA/CertPro_analysis/scripts/Figure_Notebooks/Intermediate_files/Mean_gene_expression/IL1B_CD14mono_pseudobulk_genes_expMatrix.csv\", row.names=1)\n",
    "dim(mean_df)"
   ]
  },
  {
   "cell_type": "code",
   "execution_count": 51,
   "id": "fb60fc2c-b5b5-411c-8f62-f98f04da3658",
   "metadata": {
    "tags": []
   },
   "outputs": [
    {
     "data": {
      "text/html": [
       "<style>\n",
       ".list-inline {list-style: none; margin:0; padding: 0}\n",
       ".list-inline>li {display: inline-block}\n",
       ".list-inline>li:not(:last-child)::after {content: \"\\00b7\"; padding: 0 .5ex}\n",
       "</style>\n",
       "<ol class=list-inline><li>'X'</li><li>'Unnamed..0'</li><li>'lastUpdated'</li><li>'sample.id'</li><li>'sample.bridgingControl'</li><li>'sample.sampleKitGuid'</li><li>'sample.visitName'</li><li>'sample.visitDetails'</li><li>'sample.drawDate'</li><li>'sample.daysSinceFirstVisit'</li><li>'file.id'</li><li>'file.name'</li><li>'file.batchID'</li><li>'file.panel'</li><li>'file.pool'</li><li>'file.fileType'</li><li>'file.majorVersion'</li><li>'subject.id'</li><li>'subject.biologicalSex'</li><li>'subject.birthYear'</li><li>'subject.ethnicity'</li><li>'subject.partnerCode'</li><li>'subject.race'</li><li>'subject.subjectGuid'</li><li>'cohort.cohortGuid'</li><li>'sample.diseaseStatesRecordedAtVisit'</li><li>'pbmc_sample_id'</li><li>'subject.covidVaxDose1.daysSinceFirstVisit'</li><li>'subject.covidVaxDose2.daysSinceFirstVisit'</li><li>'Covid_exclusion'</li><li>'subjectGuid'</li><li>'CMV'</li></ol>\n"
      ],
      "text/latex": [
       "\\begin{enumerate*}\n",
       "\\item 'X'\n",
       "\\item 'Unnamed..0'\n",
       "\\item 'lastUpdated'\n",
       "\\item 'sample.id'\n",
       "\\item 'sample.bridgingControl'\n",
       "\\item 'sample.sampleKitGuid'\n",
       "\\item 'sample.visitName'\n",
       "\\item 'sample.visitDetails'\n",
       "\\item 'sample.drawDate'\n",
       "\\item 'sample.daysSinceFirstVisit'\n",
       "\\item 'file.id'\n",
       "\\item 'file.name'\n",
       "\\item 'file.batchID'\n",
       "\\item 'file.panel'\n",
       "\\item 'file.pool'\n",
       "\\item 'file.fileType'\n",
       "\\item 'file.majorVersion'\n",
       "\\item 'subject.id'\n",
       "\\item 'subject.biologicalSex'\n",
       "\\item 'subject.birthYear'\n",
       "\\item 'subject.ethnicity'\n",
       "\\item 'subject.partnerCode'\n",
       "\\item 'subject.race'\n",
       "\\item 'subject.subjectGuid'\n",
       "\\item 'cohort.cohortGuid'\n",
       "\\item 'sample.diseaseStatesRecordedAtVisit'\n",
       "\\item 'pbmc\\_sample\\_id'\n",
       "\\item 'subject.covidVaxDose1.daysSinceFirstVisit'\n",
       "\\item 'subject.covidVaxDose2.daysSinceFirstVisit'\n",
       "\\item 'Covid\\_exclusion'\n",
       "\\item 'subjectGuid'\n",
       "\\item 'CMV'\n",
       "\\end{enumerate*}\n"
      ],
      "text/markdown": [
       "1. 'X'\n",
       "2. 'Unnamed..0'\n",
       "3. 'lastUpdated'\n",
       "4. 'sample.id'\n",
       "5. 'sample.bridgingControl'\n",
       "6. 'sample.sampleKitGuid'\n",
       "7. 'sample.visitName'\n",
       "8. 'sample.visitDetails'\n",
       "9. 'sample.drawDate'\n",
       "10. 'sample.daysSinceFirstVisit'\n",
       "11. 'file.id'\n",
       "12. 'file.name'\n",
       "13. 'file.batchID'\n",
       "14. 'file.panel'\n",
       "15. 'file.pool'\n",
       "16. 'file.fileType'\n",
       "17. 'file.majorVersion'\n",
       "18. 'subject.id'\n",
       "19. 'subject.biologicalSex'\n",
       "20. 'subject.birthYear'\n",
       "21. 'subject.ethnicity'\n",
       "22. 'subject.partnerCode'\n",
       "23. 'subject.race'\n",
       "24. 'subject.subjectGuid'\n",
       "25. 'cohort.cohortGuid'\n",
       "26. 'sample.diseaseStatesRecordedAtVisit'\n",
       "27. 'pbmc_sample_id'\n",
       "28. 'subject.covidVaxDose1.daysSinceFirstVisit'\n",
       "29. 'subject.covidVaxDose2.daysSinceFirstVisit'\n",
       "30. 'Covid_exclusion'\n",
       "31. 'subjectGuid'\n",
       "32. 'CMV'\n",
       "\n",
       "\n"
      ],
      "text/plain": [
       " [1] \"X\"                                        \n",
       " [2] \"Unnamed..0\"                               \n",
       " [3] \"lastUpdated\"                              \n",
       " [4] \"sample.id\"                                \n",
       " [5] \"sample.bridgingControl\"                   \n",
       " [6] \"sample.sampleKitGuid\"                     \n",
       " [7] \"sample.visitName\"                         \n",
       " [8] \"sample.visitDetails\"                      \n",
       " [9] \"sample.drawDate\"                          \n",
       "[10] \"sample.daysSinceFirstVisit\"               \n",
       "[11] \"file.id\"                                  \n",
       "[12] \"file.name\"                                \n",
       "[13] \"file.batchID\"                             \n",
       "[14] \"file.panel\"                               \n",
       "[15] \"file.pool\"                                \n",
       "[16] \"file.fileType\"                            \n",
       "[17] \"file.majorVersion\"                        \n",
       "[18] \"subject.id\"                               \n",
       "[19] \"subject.biologicalSex\"                    \n",
       "[20] \"subject.birthYear\"                        \n",
       "[21] \"subject.ethnicity\"                        \n",
       "[22] \"subject.partnerCode\"                      \n",
       "[23] \"subject.race\"                             \n",
       "[24] \"subject.subjectGuid\"                      \n",
       "[25] \"cohort.cohortGuid\"                        \n",
       "[26] \"sample.diseaseStatesRecordedAtVisit\"      \n",
       "[27] \"pbmc_sample_id\"                           \n",
       "[28] \"subject.covidVaxDose1.daysSinceFirstVisit\"\n",
       "[29] \"subject.covidVaxDose2.daysSinceFirstVisit\"\n",
       "[30] \"Covid_exclusion\"                          \n",
       "[31] \"subjectGuid\"                              \n",
       "[32] \"CMV\"                                      "
      ]
     },
     "metadata": {},
     "output_type": "display_data"
    }
   ],
   "source": [
    "meta_data=read.csv(\"/home/jupyter/IH-A-Aging-Analysis-Notebooks_old/Mansi_Notebooks/scRNA/CertPro_analysis/scripts/scRNA_meta_data-2024-05-09.csv\")\n",
    "colnames(meta_data)"
   ]
  },
  {
   "cell_type": "code",
   "execution_count": 52,
   "id": "b96034ba-a004-4ba7-b7b5-096ddc3b821e",
   "metadata": {
    "tags": []
   },
   "outputs": [
    {
     "data": {
      "text/html": [
       "<style>\n",
       ".list-inline {list-style: none; margin:0; padding: 0}\n",
       ".list-inline>li {display: inline-block}\n",
       ".list-inline>li:not(:last-child)::after {content: \"\\00b7\"; padding: 0 .5ex}\n",
       "</style>\n",
       "<ol class=list-inline><li>'N/A - Flu-Series Timepoint Only'</li><li>'Immune Variation Day 0'</li><li>'Immune Variation Day 7'</li><li>'Immune Variation Day 90'</li></ol>\n"
      ],
      "text/latex": [
       "\\begin{enumerate*}\n",
       "\\item 'N/A - Flu-Series Timepoint Only'\n",
       "\\item 'Immune Variation Day 0'\n",
       "\\item 'Immune Variation Day 7'\n",
       "\\item 'Immune Variation Day 90'\n",
       "\\end{enumerate*}\n"
      ],
      "text/markdown": [
       "1. 'N/A - Flu-Series Timepoint Only'\n",
       "2. 'Immune Variation Day 0'\n",
       "3. 'Immune Variation Day 7'\n",
       "4. 'Immune Variation Day 90'\n",
       "\n",
       "\n"
      ],
      "text/plain": [
       "[1] \"N/A - Flu-Series Timepoint Only\" \"Immune Variation Day 0\"         \n",
       "[3] \"Immune Variation Day 7\"          \"Immune Variation Day 90\"        "
      ]
     },
     "metadata": {},
     "output_type": "display_data"
    },
    {
     "data": {
      "text/html": [
       "<style>\n",
       ".list-inline {list-style: none; margin:0; padding: 0}\n",
       ".list-inline>li {display: inline-block}\n",
       ".list-inline>li:not(:last-child)::after {content: \"\\00b7\"; padding: 0 .5ex}\n",
       "</style>\n",
       "<ol class=list-inline><li>'Flu Year 1 Day 0'</li><li>'Flu Year 1 Day 7'</li><li>'Flu Year 1 Day 90'</li><li>'Immune Variation Day 0'</li><li>'Immune Variation Day 7'</li><li>'Immune Variation Day 90'</li><li>'Flu Year 2 Stand-Alone'</li><li>'Flu Year 1 Stand-Alone'</li><li>'Flu Year 2 Day 0'</li><li>'Flu Year 2 Day 7'</li><li>'Flu Year 2 Day 90'</li><li>'Flu Year 3 Stand-Alone'</li></ol>\n"
      ],
      "text/latex": [
       "\\begin{enumerate*}\n",
       "\\item 'Flu Year 1 Day 0'\n",
       "\\item 'Flu Year 1 Day 7'\n",
       "\\item 'Flu Year 1 Day 90'\n",
       "\\item 'Immune Variation Day 0'\n",
       "\\item 'Immune Variation Day 7'\n",
       "\\item 'Immune Variation Day 90'\n",
       "\\item 'Flu Year 2 Stand-Alone'\n",
       "\\item 'Flu Year 1 Stand-Alone'\n",
       "\\item 'Flu Year 2 Day 0'\n",
       "\\item 'Flu Year 2 Day 7'\n",
       "\\item 'Flu Year 2 Day 90'\n",
       "\\item 'Flu Year 3 Stand-Alone'\n",
       "\\end{enumerate*}\n"
      ],
      "text/markdown": [
       "1. 'Flu Year 1 Day 0'\n",
       "2. 'Flu Year 1 Day 7'\n",
       "3. 'Flu Year 1 Day 90'\n",
       "4. 'Immune Variation Day 0'\n",
       "5. 'Immune Variation Day 7'\n",
       "6. 'Immune Variation Day 90'\n",
       "7. 'Flu Year 2 Stand-Alone'\n",
       "8. 'Flu Year 1 Stand-Alone'\n",
       "9. 'Flu Year 2 Day 0'\n",
       "10. 'Flu Year 2 Day 7'\n",
       "11. 'Flu Year 2 Day 90'\n",
       "12. 'Flu Year 3 Stand-Alone'\n",
       "\n",
       "\n"
      ],
      "text/plain": [
       " [1] \"Flu Year 1 Day 0\"        \"Flu Year 1 Day 7\"       \n",
       " [3] \"Flu Year 1 Day 90\"       \"Immune Variation Day 0\" \n",
       " [5] \"Immune Variation Day 7\"  \"Immune Variation Day 90\"\n",
       " [7] \"Flu Year 2 Stand-Alone\"  \"Flu Year 1 Stand-Alone\" \n",
       " [9] \"Flu Year 2 Day 0\"        \"Flu Year 2 Day 7\"       \n",
       "[11] \"Flu Year 2 Day 90\"       \"Flu Year 3 Stand-Alone\" "
      ]
     },
     "metadata": {},
     "output_type": "display_data"
    },
    {
     "data": {
      "text/html": [
       "<style>\n",
       ".list-inline {list-style: none; margin:0; padding: 0}\n",
       ".list-inline>li {display: inline-block}\n",
       ".list-inline>li:not(:last-child)::after {content: \"\\00b7\"; padding: 0 .5ex}\n",
       "</style>\n",
       "<ol class=list-inline><li>'Negative'</li><li>'Positive'</li></ol>\n"
      ],
      "text/latex": [
       "\\begin{enumerate*}\n",
       "\\item 'Negative'\n",
       "\\item 'Positive'\n",
       "\\end{enumerate*}\n"
      ],
      "text/markdown": [
       "1. 'Negative'\n",
       "2. 'Positive'\n",
       "\n",
       "\n"
      ],
      "text/plain": [
       "[1] \"Negative\" \"Positive\""
      ]
     },
     "metadata": {},
     "output_type": "display_data"
    },
    {
     "data": {
      "text/plain": [
       "\n",
       "Negative Positive \n",
       "     476      392 "
      ]
     },
     "metadata": {},
     "output_type": "display_data"
    }
   ],
   "source": [
    "unique(meta_data$sample.visitDetails)\n",
    "unique(meta_data$sample.visitName)\n",
    "unique(meta_data$CMV)\n",
    "table(meta_data$CMV)\n"
   ]
  },
  {
   "cell_type": "code",
   "execution_count": 53,
   "id": "9356268a-d145-42f9-b9be-f026b4f02a71",
   "metadata": {
    "tags": []
   },
   "outputs": [],
   "source": [
    "# meta_data=read.csv('/home/jupyter/IH-A-Aging-Analysis-Notebooks/Qiuyu-Notebooks/scRNA/hise_meta_data_2024-01-23_fixed.csv')\n",
    "# colnames(meta_data)\n",
    "# #unique(meta_data$pbmc_sample_id)\n",
    "# #length(unique(meta_data$pbmc_sample_id))"
   ]
  },
  {
   "cell_type": "code",
   "execution_count": 54,
   "id": "b946366e-0150-40cb-9ad7-e3be1990b7ee",
   "metadata": {
    "tags": []
   },
   "outputs": [
    {
     "data": {
      "text/html": [
       "<style>\n",
       ".list-inline {list-style: none; margin:0; padding: 0}\n",
       ".list-inline>li {display: inline-block}\n",
       ".list-inline>li:not(:last-child)::after {content: \"\\00b7\"; padding: 0 .5ex}\n",
       "</style>\n",
       "<ol class=list-inline><li>32</li><li>92</li></ol>\n"
      ],
      "text/latex": [
       "\\begin{enumerate*}\n",
       "\\item 32\n",
       "\\item 92\n",
       "\\end{enumerate*}\n"
      ],
      "text/markdown": [
       "1. 32\n",
       "2. 92\n",
       "\n",
       "\n"
      ],
      "text/plain": [
       "[1] 32 92"
      ]
     },
     "metadata": {},
     "output_type": "display_data"
    }
   ],
   "source": [
    "dim(mean_df)"
   ]
  },
  {
   "cell_type": "code",
   "execution_count": 55,
   "id": "35a3bf88-7cc6-4cd8-8c83-b51bb72b555a",
   "metadata": {
    "tags": []
   },
   "outputs": [
    {
     "data": {
      "text/html": [
       "<table class=\"dataframe\">\n",
       "<caption>A data.frame: 2 × 92</caption>\n",
       "<thead>\n",
       "\t<tr><th></th><th scope=col>PB00001.01</th><th scope=col>PB00002.01</th><th scope=col>PB00003.01</th><th scope=col>PB00004.01</th><th scope=col>PB00006.01</th><th scope=col>PB00010.02</th><th scope=col>PB00012.01</th><th scope=col>PB00014.01</th><th scope=col>PB00015.01</th><th scope=col>PB00016.01</th><th scope=col>⋯</th><th scope=col>PB00592.01</th><th scope=col>PB00599.01</th><th scope=col>PB00600.01</th><th scope=col>PB00602.01</th><th scope=col>PB00621.01</th><th scope=col>PB00623.01</th><th scope=col>PB00625.02</th><th scope=col>PB00645.01</th><th scope=col>PB01425.01</th><th scope=col>PB01446.01</th></tr>\n",
       "\t<tr><th></th><th scope=col>&lt;dbl&gt;</th><th scope=col>&lt;dbl&gt;</th><th scope=col>&lt;dbl&gt;</th><th scope=col>&lt;dbl&gt;</th><th scope=col>&lt;dbl&gt;</th><th scope=col>&lt;dbl&gt;</th><th scope=col>&lt;dbl&gt;</th><th scope=col>&lt;dbl&gt;</th><th scope=col>&lt;dbl&gt;</th><th scope=col>&lt;dbl&gt;</th><th scope=col>⋯</th><th scope=col>&lt;dbl&gt;</th><th scope=col>&lt;dbl&gt;</th><th scope=col>&lt;dbl&gt;</th><th scope=col>&lt;dbl&gt;</th><th scope=col>&lt;dbl&gt;</th><th scope=col>&lt;dbl&gt;</th><th scope=col>&lt;dbl&gt;</th><th scope=col>&lt;dbl&gt;</th><th scope=col>&lt;dbl&gt;</th><th scope=col>&lt;dbl&gt;</th></tr>\n",
       "</thead>\n",
       "<tbody>\n",
       "\t<tr><th scope=row>PTGS2</th><td>0.4266934</td><td>0.2266424</td><td>0.06349906</td><td>0.7218853</td><td>0.3372105</td><td>1.128964</td><td>0.4829994</td><td>0.2435899</td><td>0.7527992</td><td>0.5115903</td><td>⋯</td><td>0.6651478</td><td>0.4964574</td><td>0.4129236</td><td>0.5533753</td><td>1.298231</td><td>0.4040472</td><td>1.828340</td><td>0.5204183</td><td>0.3277027</td><td>0.7256728</td></tr>\n",
       "\t<tr><th scope=row>BCL2A1</th><td>0.9481724</td><td>0.7684480</td><td>0.96322671</td><td>0.5610849</td><td>1.0392105</td><td>1.649319</td><td>1.2241480</td><td>0.7758103</td><td>1.0028857</td><td>0.9682139</td><td>⋯</td><td>1.2424633</td><td>1.3308464</td><td>0.9141813</td><td>1.1113097</td><td>1.195891</td><td>1.2605281</td><td>1.418556</td><td>0.3751335</td><td>0.8535119</td><td>1.1056835</td></tr>\n",
       "</tbody>\n",
       "</table>\n"
      ],
      "text/latex": [
       "A data.frame: 2 × 92\n",
       "\\begin{tabular}{r|lllllllllllllllllllll}\n",
       "  & PB00001.01 & PB00002.01 & PB00003.01 & PB00004.01 & PB00006.01 & PB00010.02 & PB00012.01 & PB00014.01 & PB00015.01 & PB00016.01 & ⋯ & PB00592.01 & PB00599.01 & PB00600.01 & PB00602.01 & PB00621.01 & PB00623.01 & PB00625.02 & PB00645.01 & PB01425.01 & PB01446.01\\\\\n",
       "  & <dbl> & <dbl> & <dbl> & <dbl> & <dbl> & <dbl> & <dbl> & <dbl> & <dbl> & <dbl> & ⋯ & <dbl> & <dbl> & <dbl> & <dbl> & <dbl> & <dbl> & <dbl> & <dbl> & <dbl> & <dbl>\\\\\n",
       "\\hline\n",
       "\tPTGS2 & 0.4266934 & 0.2266424 & 0.06349906 & 0.7218853 & 0.3372105 & 1.128964 & 0.4829994 & 0.2435899 & 0.7527992 & 0.5115903 & ⋯ & 0.6651478 & 0.4964574 & 0.4129236 & 0.5533753 & 1.298231 & 0.4040472 & 1.828340 & 0.5204183 & 0.3277027 & 0.7256728\\\\\n",
       "\tBCL2A1 & 0.9481724 & 0.7684480 & 0.96322671 & 0.5610849 & 1.0392105 & 1.649319 & 1.2241480 & 0.7758103 & 1.0028857 & 0.9682139 & ⋯ & 1.2424633 & 1.3308464 & 0.9141813 & 1.1113097 & 1.195891 & 1.2605281 & 1.418556 & 0.3751335 & 0.8535119 & 1.1056835\\\\\n",
       "\\end{tabular}\n"
      ],
      "text/markdown": [
       "\n",
       "A data.frame: 2 × 92\n",
       "\n",
       "| <!--/--> | PB00001.01 &lt;dbl&gt; | PB00002.01 &lt;dbl&gt; | PB00003.01 &lt;dbl&gt; | PB00004.01 &lt;dbl&gt; | PB00006.01 &lt;dbl&gt; | PB00010.02 &lt;dbl&gt; | PB00012.01 &lt;dbl&gt; | PB00014.01 &lt;dbl&gt; | PB00015.01 &lt;dbl&gt; | PB00016.01 &lt;dbl&gt; | ⋯ ⋯ | PB00592.01 &lt;dbl&gt; | PB00599.01 &lt;dbl&gt; | PB00600.01 &lt;dbl&gt; | PB00602.01 &lt;dbl&gt; | PB00621.01 &lt;dbl&gt; | PB00623.01 &lt;dbl&gt; | PB00625.02 &lt;dbl&gt; | PB00645.01 &lt;dbl&gt; | PB01425.01 &lt;dbl&gt; | PB01446.01 &lt;dbl&gt; |\n",
       "|---|---|---|---|---|---|---|---|---|---|---|---|---|---|---|---|---|---|---|---|---|---|\n",
       "| PTGS2 | 0.4266934 | 0.2266424 | 0.06349906 | 0.7218853 | 0.3372105 | 1.128964 | 0.4829994 | 0.2435899 | 0.7527992 | 0.5115903 | ⋯ | 0.6651478 | 0.4964574 | 0.4129236 | 0.5533753 | 1.298231 | 0.4040472 | 1.828340 | 0.5204183 | 0.3277027 | 0.7256728 |\n",
       "| BCL2A1 | 0.9481724 | 0.7684480 | 0.96322671 | 0.5610849 | 1.0392105 | 1.649319 | 1.2241480 | 0.7758103 | 1.0028857 | 0.9682139 | ⋯ | 1.2424633 | 1.3308464 | 0.9141813 | 1.1113097 | 1.195891 | 1.2605281 | 1.418556 | 0.3751335 | 0.8535119 | 1.1056835 |\n",
       "\n"
      ],
      "text/plain": [
       "       PB00001.01 PB00002.01 PB00003.01 PB00004.01 PB00006.01 PB00010.02\n",
       "PTGS2  0.4266934  0.2266424  0.06349906 0.7218853  0.3372105  1.128964  \n",
       "BCL2A1 0.9481724  0.7684480  0.96322671 0.5610849  1.0392105  1.649319  \n",
       "       PB00012.01 PB00014.01 PB00015.01 PB00016.01 ⋯ PB00592.01 PB00599.01\n",
       "PTGS2  0.4829994  0.2435899  0.7527992  0.5115903  ⋯ 0.6651478  0.4964574 \n",
       "BCL2A1 1.2241480  0.7758103  1.0028857  0.9682139  ⋯ 1.2424633  1.3308464 \n",
       "       PB00600.01 PB00602.01 PB00621.01 PB00623.01 PB00625.02 PB00645.01\n",
       "PTGS2  0.4129236  0.5533753  1.298231   0.4040472  1.828340   0.5204183 \n",
       "BCL2A1 0.9141813  1.1113097  1.195891   1.2605281  1.418556   0.3751335 \n",
       "       PB01425.01 PB01446.01\n",
       "PTGS2  0.3277027  0.7256728 \n",
       "BCL2A1 0.8535119  1.1056835 "
      ]
     },
     "metadata": {},
     "output_type": "display_data"
    }
   ],
   "source": [
    "head(mean_df, n=2)"
   ]
  },
  {
   "cell_type": "code",
   "execution_count": 56,
   "id": "c054045e-53a4-42e7-a0c5-17df566d0874",
   "metadata": {
    "tags": []
   },
   "outputs": [],
   "source": [
    "ID <- colnames(mean_df)"
   ]
  },
  {
   "cell_type": "code",
   "execution_count": 57,
   "id": "31edfcf8-a4cb-4aa4-915b-10c8b6a5b32d",
   "metadata": {
    "tags": []
   },
   "outputs": [
    {
     "data": {
      "text/html": [
       "<table class=\"dataframe\">\n",
       "<caption>A data.frame: 3 × 1</caption>\n",
       "<thead>\n",
       "\t<tr><th></th><th scope=col>ID</th></tr>\n",
       "\t<tr><th></th><th scope=col>&lt;chr&gt;</th></tr>\n",
       "</thead>\n",
       "<tbody>\n",
       "\t<tr><th scope=row>1</th><td>PB00001.01</td></tr>\n",
       "\t<tr><th scope=row>2</th><td>PB00002.01</td></tr>\n",
       "\t<tr><th scope=row>3</th><td>PB00003.01</td></tr>\n",
       "</tbody>\n",
       "</table>\n"
      ],
      "text/latex": [
       "A data.frame: 3 × 1\n",
       "\\begin{tabular}{r|l}\n",
       "  & ID\\\\\n",
       "  & <chr>\\\\\n",
       "\\hline\n",
       "\t1 & PB00001.01\\\\\n",
       "\t2 & PB00002.01\\\\\n",
       "\t3 & PB00003.01\\\\\n",
       "\\end{tabular}\n"
      ],
      "text/markdown": [
       "\n",
       "A data.frame: 3 × 1\n",
       "\n",
       "| <!--/--> | ID &lt;chr&gt; |\n",
       "|---|---|\n",
       "| 1 | PB00001.01 |\n",
       "| 2 | PB00002.01 |\n",
       "| 3 | PB00003.01 |\n",
       "\n"
      ],
      "text/plain": [
       "  ID        \n",
       "1 PB00001.01\n",
       "2 PB00002.01\n",
       "3 PB00003.01"
      ]
     },
     "metadata": {},
     "output_type": "display_data"
    }
   ],
   "source": [
    "meta<-data.frame(ID)\n",
    "head(meta, n = 3)"
   ]
  },
  {
   "cell_type": "code",
   "execution_count": 58,
   "id": "6637b092-ce9b-4e6d-b9cf-014c24b75741",
   "metadata": {
    "tags": []
   },
   "outputs": [
    {
     "data": {
      "text/html": [
       "<table class=\"dataframe\">\n",
       "<caption>A data.frame: 6 × 2</caption>\n",
       "<thead>\n",
       "\t<tr><th></th><th scope=col>ID</th><th scope=col>pbmc_sample_id</th></tr>\n",
       "\t<tr><th></th><th scope=col>&lt;chr&gt;</th><th scope=col>&lt;chr&gt;</th></tr>\n",
       "</thead>\n",
       "<tbody>\n",
       "\t<tr><th scope=row>1</th><td>PB00001.01</td><td>PB00001-01</td></tr>\n",
       "\t<tr><th scope=row>2</th><td>PB00002.01</td><td>PB00002-01</td></tr>\n",
       "\t<tr><th scope=row>3</th><td>PB00003.01</td><td>PB00003-01</td></tr>\n",
       "\t<tr><th scope=row>4</th><td>PB00004.01</td><td>PB00004-01</td></tr>\n",
       "\t<tr><th scope=row>5</th><td>PB00006.01</td><td>PB00006-01</td></tr>\n",
       "\t<tr><th scope=row>6</th><td>PB00010.02</td><td>PB00010-02</td></tr>\n",
       "</tbody>\n",
       "</table>\n"
      ],
      "text/latex": [
       "A data.frame: 6 × 2\n",
       "\\begin{tabular}{r|ll}\n",
       "  & ID & pbmc\\_sample\\_id\\\\\n",
       "  & <chr> & <chr>\\\\\n",
       "\\hline\n",
       "\t1 & PB00001.01 & PB00001-01\\\\\n",
       "\t2 & PB00002.01 & PB00002-01\\\\\n",
       "\t3 & PB00003.01 & PB00003-01\\\\\n",
       "\t4 & PB00004.01 & PB00004-01\\\\\n",
       "\t5 & PB00006.01 & PB00006-01\\\\\n",
       "\t6 & PB00010.02 & PB00010-02\\\\\n",
       "\\end{tabular}\n"
      ],
      "text/markdown": [
       "\n",
       "A data.frame: 6 × 2\n",
       "\n",
       "| <!--/--> | ID &lt;chr&gt; | pbmc_sample_id &lt;chr&gt; |\n",
       "|---|---|---|\n",
       "| 1 | PB00001.01 | PB00001-01 |\n",
       "| 2 | PB00002.01 | PB00002-01 |\n",
       "| 3 | PB00003.01 | PB00003-01 |\n",
       "| 4 | PB00004.01 | PB00004-01 |\n",
       "| 5 | PB00006.01 | PB00006-01 |\n",
       "| 6 | PB00010.02 | PB00010-02 |\n",
       "\n"
      ],
      "text/plain": [
       "  ID         pbmc_sample_id\n",
       "1 PB00001.01 PB00001-01    \n",
       "2 PB00002.01 PB00002-01    \n",
       "3 PB00003.01 PB00003-01    \n",
       "4 PB00004.01 PB00004-01    \n",
       "5 PB00006.01 PB00006-01    \n",
       "6 PB00010.02 PB00010-02    "
      ]
     },
     "metadata": {},
     "output_type": "display_data"
    }
   ],
   "source": [
    "# Extract the desired strings using regex\n",
    "meta$pbmc_sample_id  <-  meta$ID\n",
    "meta$pbmc_sample_id  <- str_replace_all(meta$pbmc_sample_id, \"\\\\.\", \"-\")\n",
    "head(meta)"
   ]
  },
  {
   "cell_type": "code",
   "execution_count": 59,
   "id": "460ed99c-81e1-4f91-95ee-9997df946bc3",
   "metadata": {
    "tags": []
   },
   "outputs": [
    {
     "data": {
      "text/html": [
       "<table class=\"dataframe\">\n",
       "<caption>A data.frame: 6 × 33</caption>\n",
       "<thead>\n",
       "\t<tr><th></th><th scope=col>ID</th><th scope=col>pbmc_sample_id</th><th scope=col>X</th><th scope=col>Unnamed..0</th><th scope=col>lastUpdated</th><th scope=col>sample.id</th><th scope=col>sample.bridgingControl</th><th scope=col>sample.sampleKitGuid</th><th scope=col>sample.visitName</th><th scope=col>sample.visitDetails</th><th scope=col>⋯</th><th scope=col>subject.partnerCode</th><th scope=col>subject.race</th><th scope=col>subject.subjectGuid</th><th scope=col>cohort.cohortGuid</th><th scope=col>sample.diseaseStatesRecordedAtVisit</th><th scope=col>subject.covidVaxDose1.daysSinceFirstVisit</th><th scope=col>subject.covidVaxDose2.daysSinceFirstVisit</th><th scope=col>Covid_exclusion</th><th scope=col>subjectGuid</th><th scope=col>CMV</th></tr>\n",
       "\t<tr><th></th><th scope=col>&lt;chr&gt;</th><th scope=col>&lt;chr&gt;</th><th scope=col>&lt;int&gt;</th><th scope=col>&lt;int&gt;</th><th scope=col>&lt;chr&gt;</th><th scope=col>&lt;chr&gt;</th><th scope=col>&lt;chr&gt;</th><th scope=col>&lt;chr&gt;</th><th scope=col>&lt;chr&gt;</th><th scope=col>&lt;chr&gt;</th><th scope=col>⋯</th><th scope=col>&lt;chr&gt;</th><th scope=col>&lt;chr&gt;</th><th scope=col>&lt;chr&gt;</th><th scope=col>&lt;chr&gt;</th><th scope=col>&lt;lgl&gt;</th><th scope=col>&lt;dbl&gt;</th><th scope=col>&lt;dbl&gt;</th><th scope=col>&lt;chr&gt;</th><th scope=col>&lt;chr&gt;</th><th scope=col>&lt;chr&gt;</th></tr>\n",
       "</thead>\n",
       "<tbody>\n",
       "\t<tr><th scope=row>1</th><td>PB00001.01</td><td>PB00001-01</td><td>0</td><td>1</td><td>2024-05-10T17:12:44.959Z</td><td>f499ff83-e513-4d24-a10f-151348269fff</td><td>False</td><td>KT00001</td><td>Flu Year 1 Day 0</td><td>N/A - Flu-Series Timepoint Only</td><td>⋯</td><td>BR</td><td>Caucasian</td><td>BR1001</td><td>BR1</td><td>NA</td><td> NA</td><td> NA</td><td>no</td><td>BR1001</td><td>Negative</td></tr>\n",
       "\t<tr><th scope=row>2</th><td>PB00002.01</td><td>PB00002-01</td><td>1</td><td>2</td><td>2024-05-10T17:12:44.959Z</td><td>750e90a9-a296-4f0f-969f-60225c2bca17</td><td>False</td><td>KT00002</td><td>Flu Year 1 Day 0</td><td>N/A - Flu-Series Timepoint Only</td><td>⋯</td><td>BR</td><td>Caucasian</td><td>BR1002</td><td>BR1</td><td>NA</td><td>440</td><td>461</td><td>no</td><td>BR1002</td><td>Negative</td></tr>\n",
       "\t<tr><th scope=row>3</th><td>PB00003.01</td><td>PB00003-01</td><td>2</td><td>3</td><td>2024-05-10T17:12:44.959Z</td><td>2db6fb3f-e3f4-454b-891b-9b068541b51d</td><td>False</td><td>KT00003</td><td>Flu Year 1 Day 0</td><td>N/A - Flu-Series Timepoint Only</td><td>⋯</td><td>BR</td><td>Caucasian</td><td>BR1003</td><td>BR1</td><td>NA</td><td>440</td><td>461</td><td>no</td><td>BR1003</td><td>Negative</td></tr>\n",
       "\t<tr><th scope=row>4</th><td>PB00004.01</td><td>PB00004-01</td><td>3</td><td>4</td><td>2024-05-10T17:12:44.959Z</td><td>f04693c5-563c-4b5b-ae58-877d0d9ae2fe</td><td>False</td><td>KT00004</td><td>Flu Year 1 Day 0</td><td>N/A - Flu-Series Timepoint Only</td><td>⋯</td><td>BR</td><td>Caucasian</td><td>BR1004</td><td>BR1</td><td>NA</td><td>543</td><td>563</td><td>no</td><td>BR1004</td><td>Negative</td></tr>\n",
       "\t<tr><th scope=row>5</th><td>PB00006.01</td><td>PB00006-01</td><td>4</td><td>5</td><td>2024-05-10T17:12:44.959Z</td><td>eb5b3a3d-002e-40a6-aa19-aa0e6a7fff8f</td><td>False</td><td>KT00006</td><td>Flu Year 1 Day 0</td><td>N/A - Flu-Series Timepoint Only</td><td>⋯</td><td>BR</td><td>Caucasian</td><td>BR1005</td><td>BR1</td><td>NA</td><td>451</td><td>492</td><td>no</td><td>BR1005</td><td>Negative</td></tr>\n",
       "\t<tr><th scope=row>6</th><td>PB00010.02</td><td>PB00010-02</td><td>8</td><td>9</td><td>2024-05-10T17:12:44.959Z</td><td>f32ac061-0ede-4040-8d8c-35229ea5229c</td><td>False</td><td>KT00010</td><td>Flu Year 1 Day 0</td><td>N/A - Flu-Series Timepoint Only</td><td>⋯</td><td>BR</td><td>Caucasian</td><td>BR1006</td><td>BR1</td><td>NA</td><td>510</td><td>538</td><td>no</td><td>BR1006</td><td>Negative</td></tr>\n",
       "</tbody>\n",
       "</table>\n"
      ],
      "text/latex": [
       "A data.frame: 6 × 33\n",
       "\\begin{tabular}{r|lllllllllllllllllllll}\n",
       "  & ID & pbmc\\_sample\\_id & X & Unnamed..0 & lastUpdated & sample.id & sample.bridgingControl & sample.sampleKitGuid & sample.visitName & sample.visitDetails & ⋯ & subject.partnerCode & subject.race & subject.subjectGuid & cohort.cohortGuid & sample.diseaseStatesRecordedAtVisit & subject.covidVaxDose1.daysSinceFirstVisit & subject.covidVaxDose2.daysSinceFirstVisit & Covid\\_exclusion & subjectGuid & CMV\\\\\n",
       "  & <chr> & <chr> & <int> & <int> & <chr> & <chr> & <chr> & <chr> & <chr> & <chr> & ⋯ & <chr> & <chr> & <chr> & <chr> & <lgl> & <dbl> & <dbl> & <chr> & <chr> & <chr>\\\\\n",
       "\\hline\n",
       "\t1 & PB00001.01 & PB00001-01 & 0 & 1 & 2024-05-10T17:12:44.959Z & f499ff83-e513-4d24-a10f-151348269fff & False & KT00001 & Flu Year 1 Day 0 & N/A - Flu-Series Timepoint Only & ⋯ & BR & Caucasian & BR1001 & BR1 & NA &  NA &  NA & no & BR1001 & Negative\\\\\n",
       "\t2 & PB00002.01 & PB00002-01 & 1 & 2 & 2024-05-10T17:12:44.959Z & 750e90a9-a296-4f0f-969f-60225c2bca17 & False & KT00002 & Flu Year 1 Day 0 & N/A - Flu-Series Timepoint Only & ⋯ & BR & Caucasian & BR1002 & BR1 & NA & 440 & 461 & no & BR1002 & Negative\\\\\n",
       "\t3 & PB00003.01 & PB00003-01 & 2 & 3 & 2024-05-10T17:12:44.959Z & 2db6fb3f-e3f4-454b-891b-9b068541b51d & False & KT00003 & Flu Year 1 Day 0 & N/A - Flu-Series Timepoint Only & ⋯ & BR & Caucasian & BR1003 & BR1 & NA & 440 & 461 & no & BR1003 & Negative\\\\\n",
       "\t4 & PB00004.01 & PB00004-01 & 3 & 4 & 2024-05-10T17:12:44.959Z & f04693c5-563c-4b5b-ae58-877d0d9ae2fe & False & KT00004 & Flu Year 1 Day 0 & N/A - Flu-Series Timepoint Only & ⋯ & BR & Caucasian & BR1004 & BR1 & NA & 543 & 563 & no & BR1004 & Negative\\\\\n",
       "\t5 & PB00006.01 & PB00006-01 & 4 & 5 & 2024-05-10T17:12:44.959Z & eb5b3a3d-002e-40a6-aa19-aa0e6a7fff8f & False & KT00006 & Flu Year 1 Day 0 & N/A - Flu-Series Timepoint Only & ⋯ & BR & Caucasian & BR1005 & BR1 & NA & 451 & 492 & no & BR1005 & Negative\\\\\n",
       "\t6 & PB00010.02 & PB00010-02 & 8 & 9 & 2024-05-10T17:12:44.959Z & f32ac061-0ede-4040-8d8c-35229ea5229c & False & KT00010 & Flu Year 1 Day 0 & N/A - Flu-Series Timepoint Only & ⋯ & BR & Caucasian & BR1006 & BR1 & NA & 510 & 538 & no & BR1006 & Negative\\\\\n",
       "\\end{tabular}\n"
      ],
      "text/markdown": [
       "\n",
       "A data.frame: 6 × 33\n",
       "\n",
       "| <!--/--> | ID &lt;chr&gt; | pbmc_sample_id &lt;chr&gt; | X &lt;int&gt; | Unnamed..0 &lt;int&gt; | lastUpdated &lt;chr&gt; | sample.id &lt;chr&gt; | sample.bridgingControl &lt;chr&gt; | sample.sampleKitGuid &lt;chr&gt; | sample.visitName &lt;chr&gt; | sample.visitDetails &lt;chr&gt; | ⋯ ⋯ | subject.partnerCode &lt;chr&gt; | subject.race &lt;chr&gt; | subject.subjectGuid &lt;chr&gt; | cohort.cohortGuid &lt;chr&gt; | sample.diseaseStatesRecordedAtVisit &lt;lgl&gt; | subject.covidVaxDose1.daysSinceFirstVisit &lt;dbl&gt; | subject.covidVaxDose2.daysSinceFirstVisit &lt;dbl&gt; | Covid_exclusion &lt;chr&gt; | subjectGuid &lt;chr&gt; | CMV &lt;chr&gt; |\n",
       "|---|---|---|---|---|---|---|---|---|---|---|---|---|---|---|---|---|---|---|---|---|---|\n",
       "| 1 | PB00001.01 | PB00001-01 | 0 | 1 | 2024-05-10T17:12:44.959Z | f499ff83-e513-4d24-a10f-151348269fff | False | KT00001 | Flu Year 1 Day 0 | N/A - Flu-Series Timepoint Only | ⋯ | BR | Caucasian | BR1001 | BR1 | NA |  NA |  NA | no | BR1001 | Negative |\n",
       "| 2 | PB00002.01 | PB00002-01 | 1 | 2 | 2024-05-10T17:12:44.959Z | 750e90a9-a296-4f0f-969f-60225c2bca17 | False | KT00002 | Flu Year 1 Day 0 | N/A - Flu-Series Timepoint Only | ⋯ | BR | Caucasian | BR1002 | BR1 | NA | 440 | 461 | no | BR1002 | Negative |\n",
       "| 3 | PB00003.01 | PB00003-01 | 2 | 3 | 2024-05-10T17:12:44.959Z | 2db6fb3f-e3f4-454b-891b-9b068541b51d | False | KT00003 | Flu Year 1 Day 0 | N/A - Flu-Series Timepoint Only | ⋯ | BR | Caucasian | BR1003 | BR1 | NA | 440 | 461 | no | BR1003 | Negative |\n",
       "| 4 | PB00004.01 | PB00004-01 | 3 | 4 | 2024-05-10T17:12:44.959Z | f04693c5-563c-4b5b-ae58-877d0d9ae2fe | False | KT00004 | Flu Year 1 Day 0 | N/A - Flu-Series Timepoint Only | ⋯ | BR | Caucasian | BR1004 | BR1 | NA | 543 | 563 | no | BR1004 | Negative |\n",
       "| 5 | PB00006.01 | PB00006-01 | 4 | 5 | 2024-05-10T17:12:44.959Z | eb5b3a3d-002e-40a6-aa19-aa0e6a7fff8f | False | KT00006 | Flu Year 1 Day 0 | N/A - Flu-Series Timepoint Only | ⋯ | BR | Caucasian | BR1005 | BR1 | NA | 451 | 492 | no | BR1005 | Negative |\n",
       "| 6 | PB00010.02 | PB00010-02 | 8 | 9 | 2024-05-10T17:12:44.959Z | f32ac061-0ede-4040-8d8c-35229ea5229c | False | KT00010 | Flu Year 1 Day 0 | N/A - Flu-Series Timepoint Only | ⋯ | BR | Caucasian | BR1006 | BR1 | NA | 510 | 538 | no | BR1006 | Negative |\n",
       "\n"
      ],
      "text/plain": [
       "  ID         pbmc_sample_id X Unnamed..0 lastUpdated             \n",
       "1 PB00001.01 PB00001-01     0 1          2024-05-10T17:12:44.959Z\n",
       "2 PB00002.01 PB00002-01     1 2          2024-05-10T17:12:44.959Z\n",
       "3 PB00003.01 PB00003-01     2 3          2024-05-10T17:12:44.959Z\n",
       "4 PB00004.01 PB00004-01     3 4          2024-05-10T17:12:44.959Z\n",
       "5 PB00006.01 PB00006-01     4 5          2024-05-10T17:12:44.959Z\n",
       "6 PB00010.02 PB00010-02     8 9          2024-05-10T17:12:44.959Z\n",
       "  sample.id                            sample.bridgingControl\n",
       "1 f499ff83-e513-4d24-a10f-151348269fff False                 \n",
       "2 750e90a9-a296-4f0f-969f-60225c2bca17 False                 \n",
       "3 2db6fb3f-e3f4-454b-891b-9b068541b51d False                 \n",
       "4 f04693c5-563c-4b5b-ae58-877d0d9ae2fe False                 \n",
       "5 eb5b3a3d-002e-40a6-aa19-aa0e6a7fff8f False                 \n",
       "6 f32ac061-0ede-4040-8d8c-35229ea5229c False                 \n",
       "  sample.sampleKitGuid sample.visitName sample.visitDetails             ⋯\n",
       "1 KT00001              Flu Year 1 Day 0 N/A - Flu-Series Timepoint Only ⋯\n",
       "2 KT00002              Flu Year 1 Day 0 N/A - Flu-Series Timepoint Only ⋯\n",
       "3 KT00003              Flu Year 1 Day 0 N/A - Flu-Series Timepoint Only ⋯\n",
       "4 KT00004              Flu Year 1 Day 0 N/A - Flu-Series Timepoint Only ⋯\n",
       "5 KT00006              Flu Year 1 Day 0 N/A - Flu-Series Timepoint Only ⋯\n",
       "6 KT00010              Flu Year 1 Day 0 N/A - Flu-Series Timepoint Only ⋯\n",
       "  subject.partnerCode subject.race subject.subjectGuid cohort.cohortGuid\n",
       "1 BR                  Caucasian    BR1001              BR1              \n",
       "2 BR                  Caucasian    BR1002              BR1              \n",
       "3 BR                  Caucasian    BR1003              BR1              \n",
       "4 BR                  Caucasian    BR1004              BR1              \n",
       "5 BR                  Caucasian    BR1005              BR1              \n",
       "6 BR                  Caucasian    BR1006              BR1              \n",
       "  sample.diseaseStatesRecordedAtVisit subject.covidVaxDose1.daysSinceFirstVisit\n",
       "1 NA                                   NA                                      \n",
       "2 NA                                  440                                      \n",
       "3 NA                                  440                                      \n",
       "4 NA                                  543                                      \n",
       "5 NA                                  451                                      \n",
       "6 NA                                  510                                      \n",
       "  subject.covidVaxDose2.daysSinceFirstVisit Covid_exclusion subjectGuid\n",
       "1  NA                                       no              BR1001     \n",
       "2 461                                       no              BR1002     \n",
       "3 461                                       no              BR1003     \n",
       "4 563                                       no              BR1004     \n",
       "5 492                                       no              BR1005     \n",
       "6 538                                       no              BR1006     \n",
       "  CMV     \n",
       "1 Negative\n",
       "2 Negative\n",
       "3 Negative\n",
       "4 Negative\n",
       "5 Negative\n",
       "6 Negative"
      ]
     },
     "metadata": {},
     "output_type": "display_data"
    }
   ],
   "source": [
    "# Left join the dataframes by the common column\n",
    "merged_df <- left_join(meta, meta_data, by = \"pbmc_sample_id\")\n",
    "head(merged_df)"
   ]
  },
  {
   "cell_type": "code",
   "execution_count": 60,
   "id": "506fd17e-c3e3-4310-9a8d-376e1e1ecba6",
   "metadata": {
    "tags": []
   },
   "outputs": [
    {
     "data": {
      "text/html": [
       "<table class=\"dataframe\">\n",
       "<caption>A data.frame: 6 × 33</caption>\n",
       "<thead>\n",
       "\t<tr><th></th><th scope=col>ID</th><th scope=col>pbmc_sample_id</th><th scope=col>X</th><th scope=col>Unnamed..0</th><th scope=col>lastUpdated</th><th scope=col>sample.id</th><th scope=col>sample.bridgingControl</th><th scope=col>sample.sampleKitGuid</th><th scope=col>sample.visitName</th><th scope=col>sample.visitDetails</th><th scope=col>⋯</th><th scope=col>subject.partnerCode</th><th scope=col>subject.race</th><th scope=col>subject.subjectGuid</th><th scope=col>cohort.cohortGuid</th><th scope=col>sample.diseaseStatesRecordedAtVisit</th><th scope=col>subject.covidVaxDose1.daysSinceFirstVisit</th><th scope=col>subject.covidVaxDose2.daysSinceFirstVisit</th><th scope=col>Covid_exclusion</th><th scope=col>subjectGuid</th><th scope=col>CMV</th></tr>\n",
       "\t<tr><th></th><th scope=col>&lt;chr&gt;</th><th scope=col>&lt;chr&gt;</th><th scope=col>&lt;int&gt;</th><th scope=col>&lt;int&gt;</th><th scope=col>&lt;chr&gt;</th><th scope=col>&lt;chr&gt;</th><th scope=col>&lt;chr&gt;</th><th scope=col>&lt;chr&gt;</th><th scope=col>&lt;chr&gt;</th><th scope=col>&lt;chr&gt;</th><th scope=col>⋯</th><th scope=col>&lt;chr&gt;</th><th scope=col>&lt;chr&gt;</th><th scope=col>&lt;chr&gt;</th><th scope=col>&lt;chr&gt;</th><th scope=col>&lt;lgl&gt;</th><th scope=col>&lt;dbl&gt;</th><th scope=col>&lt;dbl&gt;</th><th scope=col>&lt;chr&gt;</th><th scope=col>&lt;chr&gt;</th><th scope=col>&lt;chr&gt;</th></tr>\n",
       "</thead>\n",
       "<tbody>\n",
       "\t<tr><th scope=row>PB00001-01</th><td>PB00001.01</td><td>PB00001-01</td><td>0</td><td>1</td><td>2024-05-10T17:12:44.959Z</td><td>f499ff83-e513-4d24-a10f-151348269fff</td><td>False</td><td>KT00001</td><td>Flu Year 1 Day 0</td><td>N/A - Flu-Series Timepoint Only</td><td>⋯</td><td>BR</td><td>Caucasian</td><td>BR1001</td><td>BR1</td><td>NA</td><td> NA</td><td> NA</td><td>no</td><td>BR1001</td><td>Negative</td></tr>\n",
       "\t<tr><th scope=row>PB00002-01</th><td>PB00002.01</td><td>PB00002-01</td><td>1</td><td>2</td><td>2024-05-10T17:12:44.959Z</td><td>750e90a9-a296-4f0f-969f-60225c2bca17</td><td>False</td><td>KT00002</td><td>Flu Year 1 Day 0</td><td>N/A - Flu-Series Timepoint Only</td><td>⋯</td><td>BR</td><td>Caucasian</td><td>BR1002</td><td>BR1</td><td>NA</td><td>440</td><td>461</td><td>no</td><td>BR1002</td><td>Negative</td></tr>\n",
       "\t<tr><th scope=row>PB00003-01</th><td>PB00003.01</td><td>PB00003-01</td><td>2</td><td>3</td><td>2024-05-10T17:12:44.959Z</td><td>2db6fb3f-e3f4-454b-891b-9b068541b51d</td><td>False</td><td>KT00003</td><td>Flu Year 1 Day 0</td><td>N/A - Flu-Series Timepoint Only</td><td>⋯</td><td>BR</td><td>Caucasian</td><td>BR1003</td><td>BR1</td><td>NA</td><td>440</td><td>461</td><td>no</td><td>BR1003</td><td>Negative</td></tr>\n",
       "\t<tr><th scope=row>PB00004-01</th><td>PB00004.01</td><td>PB00004-01</td><td>3</td><td>4</td><td>2024-05-10T17:12:44.959Z</td><td>f04693c5-563c-4b5b-ae58-877d0d9ae2fe</td><td>False</td><td>KT00004</td><td>Flu Year 1 Day 0</td><td>N/A - Flu-Series Timepoint Only</td><td>⋯</td><td>BR</td><td>Caucasian</td><td>BR1004</td><td>BR1</td><td>NA</td><td>543</td><td>563</td><td>no</td><td>BR1004</td><td>Negative</td></tr>\n",
       "\t<tr><th scope=row>PB00006-01</th><td>PB00006.01</td><td>PB00006-01</td><td>4</td><td>5</td><td>2024-05-10T17:12:44.959Z</td><td>eb5b3a3d-002e-40a6-aa19-aa0e6a7fff8f</td><td>False</td><td>KT00006</td><td>Flu Year 1 Day 0</td><td>N/A - Flu-Series Timepoint Only</td><td>⋯</td><td>BR</td><td>Caucasian</td><td>BR1005</td><td>BR1</td><td>NA</td><td>451</td><td>492</td><td>no</td><td>BR1005</td><td>Negative</td></tr>\n",
       "\t<tr><th scope=row>PB00010-02</th><td>PB00010.02</td><td>PB00010-02</td><td>8</td><td>9</td><td>2024-05-10T17:12:44.959Z</td><td>f32ac061-0ede-4040-8d8c-35229ea5229c</td><td>False</td><td>KT00010</td><td>Flu Year 1 Day 0</td><td>N/A - Flu-Series Timepoint Only</td><td>⋯</td><td>BR</td><td>Caucasian</td><td>BR1006</td><td>BR1</td><td>NA</td><td>510</td><td>538</td><td>no</td><td>BR1006</td><td>Negative</td></tr>\n",
       "</tbody>\n",
       "</table>\n"
      ],
      "text/latex": [
       "A data.frame: 6 × 33\n",
       "\\begin{tabular}{r|lllllllllllllllllllll}\n",
       "  & ID & pbmc\\_sample\\_id & X & Unnamed..0 & lastUpdated & sample.id & sample.bridgingControl & sample.sampleKitGuid & sample.visitName & sample.visitDetails & ⋯ & subject.partnerCode & subject.race & subject.subjectGuid & cohort.cohortGuid & sample.diseaseStatesRecordedAtVisit & subject.covidVaxDose1.daysSinceFirstVisit & subject.covidVaxDose2.daysSinceFirstVisit & Covid\\_exclusion & subjectGuid & CMV\\\\\n",
       "  & <chr> & <chr> & <int> & <int> & <chr> & <chr> & <chr> & <chr> & <chr> & <chr> & ⋯ & <chr> & <chr> & <chr> & <chr> & <lgl> & <dbl> & <dbl> & <chr> & <chr> & <chr>\\\\\n",
       "\\hline\n",
       "\tPB00001-01 & PB00001.01 & PB00001-01 & 0 & 1 & 2024-05-10T17:12:44.959Z & f499ff83-e513-4d24-a10f-151348269fff & False & KT00001 & Flu Year 1 Day 0 & N/A - Flu-Series Timepoint Only & ⋯ & BR & Caucasian & BR1001 & BR1 & NA &  NA &  NA & no & BR1001 & Negative\\\\\n",
       "\tPB00002-01 & PB00002.01 & PB00002-01 & 1 & 2 & 2024-05-10T17:12:44.959Z & 750e90a9-a296-4f0f-969f-60225c2bca17 & False & KT00002 & Flu Year 1 Day 0 & N/A - Flu-Series Timepoint Only & ⋯ & BR & Caucasian & BR1002 & BR1 & NA & 440 & 461 & no & BR1002 & Negative\\\\\n",
       "\tPB00003-01 & PB00003.01 & PB00003-01 & 2 & 3 & 2024-05-10T17:12:44.959Z & 2db6fb3f-e3f4-454b-891b-9b068541b51d & False & KT00003 & Flu Year 1 Day 0 & N/A - Flu-Series Timepoint Only & ⋯ & BR & Caucasian & BR1003 & BR1 & NA & 440 & 461 & no & BR1003 & Negative\\\\\n",
       "\tPB00004-01 & PB00004.01 & PB00004-01 & 3 & 4 & 2024-05-10T17:12:44.959Z & f04693c5-563c-4b5b-ae58-877d0d9ae2fe & False & KT00004 & Flu Year 1 Day 0 & N/A - Flu-Series Timepoint Only & ⋯ & BR & Caucasian & BR1004 & BR1 & NA & 543 & 563 & no & BR1004 & Negative\\\\\n",
       "\tPB00006-01 & PB00006.01 & PB00006-01 & 4 & 5 & 2024-05-10T17:12:44.959Z & eb5b3a3d-002e-40a6-aa19-aa0e6a7fff8f & False & KT00006 & Flu Year 1 Day 0 & N/A - Flu-Series Timepoint Only & ⋯ & BR & Caucasian & BR1005 & BR1 & NA & 451 & 492 & no & BR1005 & Negative\\\\\n",
       "\tPB00010-02 & PB00010.02 & PB00010-02 & 8 & 9 & 2024-05-10T17:12:44.959Z & f32ac061-0ede-4040-8d8c-35229ea5229c & False & KT00010 & Flu Year 1 Day 0 & N/A - Flu-Series Timepoint Only & ⋯ & BR & Caucasian & BR1006 & BR1 & NA & 510 & 538 & no & BR1006 & Negative\\\\\n",
       "\\end{tabular}\n"
      ],
      "text/markdown": [
       "\n",
       "A data.frame: 6 × 33\n",
       "\n",
       "| <!--/--> | ID &lt;chr&gt; | pbmc_sample_id &lt;chr&gt; | X &lt;int&gt; | Unnamed..0 &lt;int&gt; | lastUpdated &lt;chr&gt; | sample.id &lt;chr&gt; | sample.bridgingControl &lt;chr&gt; | sample.sampleKitGuid &lt;chr&gt; | sample.visitName &lt;chr&gt; | sample.visitDetails &lt;chr&gt; | ⋯ ⋯ | subject.partnerCode &lt;chr&gt; | subject.race &lt;chr&gt; | subject.subjectGuid &lt;chr&gt; | cohort.cohortGuid &lt;chr&gt; | sample.diseaseStatesRecordedAtVisit &lt;lgl&gt; | subject.covidVaxDose1.daysSinceFirstVisit &lt;dbl&gt; | subject.covidVaxDose2.daysSinceFirstVisit &lt;dbl&gt; | Covid_exclusion &lt;chr&gt; | subjectGuid &lt;chr&gt; | CMV &lt;chr&gt; |\n",
       "|---|---|---|---|---|---|---|---|---|---|---|---|---|---|---|---|---|---|---|---|---|---|\n",
       "| PB00001-01 | PB00001.01 | PB00001-01 | 0 | 1 | 2024-05-10T17:12:44.959Z | f499ff83-e513-4d24-a10f-151348269fff | False | KT00001 | Flu Year 1 Day 0 | N/A - Flu-Series Timepoint Only | ⋯ | BR | Caucasian | BR1001 | BR1 | NA |  NA |  NA | no | BR1001 | Negative |\n",
       "| PB00002-01 | PB00002.01 | PB00002-01 | 1 | 2 | 2024-05-10T17:12:44.959Z | 750e90a9-a296-4f0f-969f-60225c2bca17 | False | KT00002 | Flu Year 1 Day 0 | N/A - Flu-Series Timepoint Only | ⋯ | BR | Caucasian | BR1002 | BR1 | NA | 440 | 461 | no | BR1002 | Negative |\n",
       "| PB00003-01 | PB00003.01 | PB00003-01 | 2 | 3 | 2024-05-10T17:12:44.959Z | 2db6fb3f-e3f4-454b-891b-9b068541b51d | False | KT00003 | Flu Year 1 Day 0 | N/A - Flu-Series Timepoint Only | ⋯ | BR | Caucasian | BR1003 | BR1 | NA | 440 | 461 | no | BR1003 | Negative |\n",
       "| PB00004-01 | PB00004.01 | PB00004-01 | 3 | 4 | 2024-05-10T17:12:44.959Z | f04693c5-563c-4b5b-ae58-877d0d9ae2fe | False | KT00004 | Flu Year 1 Day 0 | N/A - Flu-Series Timepoint Only | ⋯ | BR | Caucasian | BR1004 | BR1 | NA | 543 | 563 | no | BR1004 | Negative |\n",
       "| PB00006-01 | PB00006.01 | PB00006-01 | 4 | 5 | 2024-05-10T17:12:44.959Z | eb5b3a3d-002e-40a6-aa19-aa0e6a7fff8f | False | KT00006 | Flu Year 1 Day 0 | N/A - Flu-Series Timepoint Only | ⋯ | BR | Caucasian | BR1005 | BR1 | NA | 451 | 492 | no | BR1005 | Negative |\n",
       "| PB00010-02 | PB00010.02 | PB00010-02 | 8 | 9 | 2024-05-10T17:12:44.959Z | f32ac061-0ede-4040-8d8c-35229ea5229c | False | KT00010 | Flu Year 1 Day 0 | N/A - Flu-Series Timepoint Only | ⋯ | BR | Caucasian | BR1006 | BR1 | NA | 510 | 538 | no | BR1006 | Negative |\n",
       "\n"
      ],
      "text/plain": [
       "           ID         pbmc_sample_id X Unnamed..0 lastUpdated             \n",
       "PB00001-01 PB00001.01 PB00001-01     0 1          2024-05-10T17:12:44.959Z\n",
       "PB00002-01 PB00002.01 PB00002-01     1 2          2024-05-10T17:12:44.959Z\n",
       "PB00003-01 PB00003.01 PB00003-01     2 3          2024-05-10T17:12:44.959Z\n",
       "PB00004-01 PB00004.01 PB00004-01     3 4          2024-05-10T17:12:44.959Z\n",
       "PB00006-01 PB00006.01 PB00006-01     4 5          2024-05-10T17:12:44.959Z\n",
       "PB00010-02 PB00010.02 PB00010-02     8 9          2024-05-10T17:12:44.959Z\n",
       "           sample.id                            sample.bridgingControl\n",
       "PB00001-01 f499ff83-e513-4d24-a10f-151348269fff False                 \n",
       "PB00002-01 750e90a9-a296-4f0f-969f-60225c2bca17 False                 \n",
       "PB00003-01 2db6fb3f-e3f4-454b-891b-9b068541b51d False                 \n",
       "PB00004-01 f04693c5-563c-4b5b-ae58-877d0d9ae2fe False                 \n",
       "PB00006-01 eb5b3a3d-002e-40a6-aa19-aa0e6a7fff8f False                 \n",
       "PB00010-02 f32ac061-0ede-4040-8d8c-35229ea5229c False                 \n",
       "           sample.sampleKitGuid sample.visitName\n",
       "PB00001-01 KT00001              Flu Year 1 Day 0\n",
       "PB00002-01 KT00002              Flu Year 1 Day 0\n",
       "PB00003-01 KT00003              Flu Year 1 Day 0\n",
       "PB00004-01 KT00004              Flu Year 1 Day 0\n",
       "PB00006-01 KT00006              Flu Year 1 Day 0\n",
       "PB00010-02 KT00010              Flu Year 1 Day 0\n",
       "           sample.visitDetails             ⋯ subject.partnerCode subject.race\n",
       "PB00001-01 N/A - Flu-Series Timepoint Only ⋯ BR                  Caucasian   \n",
       "PB00002-01 N/A - Flu-Series Timepoint Only ⋯ BR                  Caucasian   \n",
       "PB00003-01 N/A - Flu-Series Timepoint Only ⋯ BR                  Caucasian   \n",
       "PB00004-01 N/A - Flu-Series Timepoint Only ⋯ BR                  Caucasian   \n",
       "PB00006-01 N/A - Flu-Series Timepoint Only ⋯ BR                  Caucasian   \n",
       "PB00010-02 N/A - Flu-Series Timepoint Only ⋯ BR                  Caucasian   \n",
       "           subject.subjectGuid cohort.cohortGuid\n",
       "PB00001-01 BR1001              BR1              \n",
       "PB00002-01 BR1002              BR1              \n",
       "PB00003-01 BR1003              BR1              \n",
       "PB00004-01 BR1004              BR1              \n",
       "PB00006-01 BR1005              BR1              \n",
       "PB00010-02 BR1006              BR1              \n",
       "           sample.diseaseStatesRecordedAtVisit\n",
       "PB00001-01 NA                                 \n",
       "PB00002-01 NA                                 \n",
       "PB00003-01 NA                                 \n",
       "PB00004-01 NA                                 \n",
       "PB00006-01 NA                                 \n",
       "PB00010-02 NA                                 \n",
       "           subject.covidVaxDose1.daysSinceFirstVisit\n",
       "PB00001-01  NA                                      \n",
       "PB00002-01 440                                      \n",
       "PB00003-01 440                                      \n",
       "PB00004-01 543                                      \n",
       "PB00006-01 451                                      \n",
       "PB00010-02 510                                      \n",
       "           subject.covidVaxDose2.daysSinceFirstVisit Covid_exclusion\n",
       "PB00001-01  NA                                       no             \n",
       "PB00002-01 461                                       no             \n",
       "PB00003-01 461                                       no             \n",
       "PB00004-01 563                                       no             \n",
       "PB00006-01 492                                       no             \n",
       "PB00010-02 538                                       no             \n",
       "           subjectGuid CMV     \n",
       "PB00001-01 BR1001      Negative\n",
       "PB00002-01 BR1002      Negative\n",
       "PB00003-01 BR1003      Negative\n",
       "PB00004-01 BR1004      Negative\n",
       "PB00006-01 BR1005      Negative\n",
       "PB00010-02 BR1006      Negative"
      ]
     },
     "metadata": {},
     "output_type": "display_data"
    },
    {
     "data": {
      "text/html": [
       "<style>\n",
       ".list-inline {list-style: none; margin:0; padding: 0}\n",
       ".list-inline>li {display: inline-block}\n",
       ".list-inline>li:not(:last-child)::after {content: \"\\00b7\"; padding: 0 .5ex}\n",
       "</style>\n",
       "<ol class=list-inline><li>'ID'</li><li>'pbmc_sample_id'</li><li>'X'</li><li>'Unnamed..0'</li><li>'lastUpdated'</li><li>'sample.id'</li><li>'sample.bridgingControl'</li><li>'sample.sampleKitGuid'</li><li>'sample.visitName'</li><li>'sample.visitDetails'</li><li>'sample.drawDate'</li><li>'sample.daysSinceFirstVisit'</li><li>'file.id'</li><li>'file.name'</li><li>'file.batchID'</li><li>'file.panel'</li><li>'file.pool'</li><li>'file.fileType'</li><li>'file.majorVersion'</li><li>'subject.id'</li><li>'subject.biologicalSex'</li><li>'subject.birthYear'</li><li>'subject.ethnicity'</li><li>'subject.partnerCode'</li><li>'subject.race'</li><li>'subject.subjectGuid'</li><li>'cohort.cohortGuid'</li><li>'sample.diseaseStatesRecordedAtVisit'</li><li>'subject.covidVaxDose1.daysSinceFirstVisit'</li><li>'subject.covidVaxDose2.daysSinceFirstVisit'</li><li>'Covid_exclusion'</li><li>'subjectGuid'</li><li>'CMV'</li></ol>\n"
      ],
      "text/latex": [
       "\\begin{enumerate*}\n",
       "\\item 'ID'\n",
       "\\item 'pbmc\\_sample\\_id'\n",
       "\\item 'X'\n",
       "\\item 'Unnamed..0'\n",
       "\\item 'lastUpdated'\n",
       "\\item 'sample.id'\n",
       "\\item 'sample.bridgingControl'\n",
       "\\item 'sample.sampleKitGuid'\n",
       "\\item 'sample.visitName'\n",
       "\\item 'sample.visitDetails'\n",
       "\\item 'sample.drawDate'\n",
       "\\item 'sample.daysSinceFirstVisit'\n",
       "\\item 'file.id'\n",
       "\\item 'file.name'\n",
       "\\item 'file.batchID'\n",
       "\\item 'file.panel'\n",
       "\\item 'file.pool'\n",
       "\\item 'file.fileType'\n",
       "\\item 'file.majorVersion'\n",
       "\\item 'subject.id'\n",
       "\\item 'subject.biologicalSex'\n",
       "\\item 'subject.birthYear'\n",
       "\\item 'subject.ethnicity'\n",
       "\\item 'subject.partnerCode'\n",
       "\\item 'subject.race'\n",
       "\\item 'subject.subjectGuid'\n",
       "\\item 'cohort.cohortGuid'\n",
       "\\item 'sample.diseaseStatesRecordedAtVisit'\n",
       "\\item 'subject.covidVaxDose1.daysSinceFirstVisit'\n",
       "\\item 'subject.covidVaxDose2.daysSinceFirstVisit'\n",
       "\\item 'Covid\\_exclusion'\n",
       "\\item 'subjectGuid'\n",
       "\\item 'CMV'\n",
       "\\end{enumerate*}\n"
      ],
      "text/markdown": [
       "1. 'ID'\n",
       "2. 'pbmc_sample_id'\n",
       "3. 'X'\n",
       "4. 'Unnamed..0'\n",
       "5. 'lastUpdated'\n",
       "6. 'sample.id'\n",
       "7. 'sample.bridgingControl'\n",
       "8. 'sample.sampleKitGuid'\n",
       "9. 'sample.visitName'\n",
       "10. 'sample.visitDetails'\n",
       "11. 'sample.drawDate'\n",
       "12. 'sample.daysSinceFirstVisit'\n",
       "13. 'file.id'\n",
       "14. 'file.name'\n",
       "15. 'file.batchID'\n",
       "16. 'file.panel'\n",
       "17. 'file.pool'\n",
       "18. 'file.fileType'\n",
       "19. 'file.majorVersion'\n",
       "20. 'subject.id'\n",
       "21. 'subject.biologicalSex'\n",
       "22. 'subject.birthYear'\n",
       "23. 'subject.ethnicity'\n",
       "24. 'subject.partnerCode'\n",
       "25. 'subject.race'\n",
       "26. 'subject.subjectGuid'\n",
       "27. 'cohort.cohortGuid'\n",
       "28. 'sample.diseaseStatesRecordedAtVisit'\n",
       "29. 'subject.covidVaxDose1.daysSinceFirstVisit'\n",
       "30. 'subject.covidVaxDose2.daysSinceFirstVisit'\n",
       "31. 'Covid_exclusion'\n",
       "32. 'subjectGuid'\n",
       "33. 'CMV'\n",
       "\n",
       "\n"
      ],
      "text/plain": [
       " [1] \"ID\"                                       \n",
       " [2] \"pbmc_sample_id\"                           \n",
       " [3] \"X\"                                        \n",
       " [4] \"Unnamed..0\"                               \n",
       " [5] \"lastUpdated\"                              \n",
       " [6] \"sample.id\"                                \n",
       " [7] \"sample.bridgingControl\"                   \n",
       " [8] \"sample.sampleKitGuid\"                     \n",
       " [9] \"sample.visitName\"                         \n",
       "[10] \"sample.visitDetails\"                      \n",
       "[11] \"sample.drawDate\"                          \n",
       "[12] \"sample.daysSinceFirstVisit\"               \n",
       "[13] \"file.id\"                                  \n",
       "[14] \"file.name\"                                \n",
       "[15] \"file.batchID\"                             \n",
       "[16] \"file.panel\"                               \n",
       "[17] \"file.pool\"                                \n",
       "[18] \"file.fileType\"                            \n",
       "[19] \"file.majorVersion\"                        \n",
       "[20] \"subject.id\"                               \n",
       "[21] \"subject.biologicalSex\"                    \n",
       "[22] \"subject.birthYear\"                        \n",
       "[23] \"subject.ethnicity\"                        \n",
       "[24] \"subject.partnerCode\"                      \n",
       "[25] \"subject.race\"                             \n",
       "[26] \"subject.subjectGuid\"                      \n",
       "[27] \"cohort.cohortGuid\"                        \n",
       "[28] \"sample.diseaseStatesRecordedAtVisit\"      \n",
       "[29] \"subject.covidVaxDose1.daysSinceFirstVisit\"\n",
       "[30] \"subject.covidVaxDose2.daysSinceFirstVisit\"\n",
       "[31] \"Covid_exclusion\"                          \n",
       "[32] \"subjectGuid\"                              \n",
       "[33] \"CMV\"                                      "
      ]
     },
     "metadata": {},
     "output_type": "display_data"
    },
    {
     "data": {
      "text/html": [
       "92"
      ],
      "text/latex": [
       "92"
      ],
      "text/markdown": [
       "92"
      ],
      "text/plain": [
       "[1] 92"
      ]
     },
     "metadata": {},
     "output_type": "display_data"
    }
   ],
   "source": [
    "rownames(merged_df)<-merged_df$pbmc_sample_id\n",
    "head(merged_df)\n",
    "\n",
    "colnames(merged_df)\n",
    "length(merged_df$pbmc_sample_id)"
   ]
  },
  {
   "cell_type": "markdown",
   "id": "5a4c087f-562d-4e57-816f-7c503c96288c",
   "metadata": {},
   "source": [
    "# Subsetting for each age and Sex individually"
   ]
  },
  {
   "cell_type": "code",
   "execution_count": 61,
   "id": "9fe2f712-4200-43b2-bdc1-fa9a09b5ebab",
   "metadata": {
    "tags": []
   },
   "outputs": [],
   "source": [
    "#subset for each sex and age\n",
    "merged_df_v2 <- merged_df[merged_df$subject.biologicalSex == \"Female\" & merged_df$cohort.cohortGuid == \"BR2\", ]\n",
    "\n",
    "#create a column called \"Gene\"\n",
    "mean_df['Gene']= rownames(mean_df)\n",
    "\n",
    "#filter the gene in count matrix\n",
    "df <- mean_df %>% filter (Gene %in% c(\"PTGS2\", \"BCL2A1\", \"NLRP3\", \"OAZ1\", \"G0S2\", \"CMTM6\", \"RASGEF1B\", \"RIPK2\", \"RABL6\",\n",
    "                       \"SGK1\", \"SELENOK\", \"METRNL\", \"MIDN\", \"DNAJC10\", \"BCL6\", \"PCBP2\", \"IL1B\", \"NR4A1\", \"FKBP5\",\n",
    "                       \"SOCS3\", \"EREG\", \"TNF\", \"SHTN1\", \"WARS\", \"BAG1\", \"CDKN2D\", \"ATP1B3\", \"RPLP2\", \"ATP5PD\",\n",
    "                       \"CCL3\", \"CCL4\", \"CXCL8\"))\n",
    "#remove column \"gene\" \n",
    "df <- df[,!(names(df) %in% c('Gene'))]\n",
    "\n",
    "#transpose the data\n",
    "df <- df %>% t() %>% as.data.frame()\n",
    "\n",
    "#create a ID column for merging\n",
    "df['ID']= rownames(df)\n",
    "\n",
    "#merge the merged_df_v2 (with metadata) and the modified pseudobulk dataframe together\n",
    "data <- inner_join(df,merged_df_v2,by=c('ID'))\n",
    "#print(data)\n",
    "#save the df\n",
    "write_csv(data, file = \"/home/jupyter/IH-A-Aging-Analysis-Notebooks_old/Mansi_Notebooks/scRNA/CertPro_analysis/scripts/Figure_Notebooks/Intermediate_files/Mean_gene_expression/CSVs_mean_gene_exp_by_age_sex/IL1B_CD14mono_Female_BR2_mean_gene_exp.csv\")"
   ]
  },
  {
   "cell_type": "code",
   "execution_count": 62,
   "id": "c342dc40-d785-4c6b-aec7-b958bd90eaff",
   "metadata": {
    "tags": []
   },
   "outputs": [],
   "source": [
    "#subset for each sex and age\n",
    "merged_df_v2 <- merged_df[merged_df$subject.biologicalSex == \"Female\" & merged_df$cohort.cohortGuid == \"BR1\", ]\n",
    "\n",
    "#create a column called \"Gene\"\n",
    "mean_df['Gene']= rownames(mean_df)\n",
    "\n",
    "#filter the gene in count matrix\n",
    "df <- mean_df %>% filter (Gene %in% c(\"PTGS2\", \"BCL2A1\", \"NLRP3\", \"OAZ1\", \"G0S2\", \"CMTM6\", \"RASGEF1B\", \"RIPK2\", \"RABL6\",\n",
    "                       \"SGK1\", \"SELENOK\", \"METRNL\", \"MIDN\", \"DNAJC10\", \"BCL6\", \"PCBP2\", \"IL1B\", \"NR4A1\", \"FKBP5\",\n",
    "                       \"SOCS3\", \"EREG\", \"TNF\", \"SHTN1\", \"WARS\", \"BAG1\", \"CDKN2D\", \"ATP1B3\", \"RPLP2\", \"ATP5PD\",\n",
    "                       \"CCL3\", \"CCL4\", \"CXCL8\"))\n",
    "#remove column \"gene\" \n",
    "df <- df[,!(names(df) %in% c('Gene'))]\n",
    "\n",
    "#transpose the data\n",
    "df <- df %>% t() %>% as.data.frame()\n",
    "\n",
    "#create a ID column for merging\n",
    "df['ID']= rownames(df)\n",
    "\n",
    "#merge the merged_df_v2 (with metadata) and the modified pseudobulk dataframe together\n",
    "data <- inner_join(df,merged_df_v2,by=c('ID'))\n",
    "\n",
    "#save the df\n",
    "write_csv(data, file = \"/home/jupyter/IH-A-Aging-Analysis-Notebooks_old/Mansi_Notebooks/scRNA/CertPro_analysis/scripts/Figure_Notebooks/Intermediate_files/Mean_gene_expression/CSVs_mean_gene_exp_by_age_sex/IL1B_CD14mono_Female_BR1_mean_gene_exp.csv\")"
   ]
  },
  {
   "cell_type": "code",
   "execution_count": 63,
   "id": "25e052e8-2ab7-41f1-a2ae-11a85d123ee7",
   "metadata": {
    "tags": []
   },
   "outputs": [],
   "source": [
    "#subset for each sex and age\n",
    "merged_df_v2 <- merged_df[merged_df$subject.biologicalSex == \"Male\" & merged_df$cohort.cohortGuid == \"BR2\", ]\n",
    "\n",
    "#create a column called \"Gene\"\n",
    "mean_df['Gene']= rownames(mean_df)\n",
    "\n",
    "#filter the gene in count matrix\n",
    "df <- mean_df %>% filter (Gene %in% c(\"PTGS2\", \"BCL2A1\", \"NLRP3\", \"OAZ1\", \"G0S2\", \"CMTM6\", \"RASGEF1B\", \"RIPK2\", \"RABL6\",\n",
    "                       \"SGK1\", \"SELENOK\", \"METRNL\", \"MIDN\", \"DNAJC10\", \"BCL6\", \"PCBP2\", \"IL1B\", \"NR4A1\", \"FKBP5\",\n",
    "                       \"SOCS3\", \"EREG\", \"TNF\", \"SHTN1\", \"WARS\", \"BAG1\", \"CDKN2D\", \"ATP1B3\", \"RPLP2\", \"ATP5PD\",\n",
    "                       \"CCL3\", \"CCL4\", \"CXCL8\"))\n",
    "#remove column \"gene\" \n",
    "df <- df[,!(names(df) %in% c('Gene'))]\n",
    "\n",
    "#transpose the data\n",
    "df <- df %>% t() %>% as.data.frame()\n",
    "\n",
    "#create a ID column for merging\n",
    "df['ID']= rownames(df)\n",
    "\n",
    "#merge the merged_df_v2 (with metadata) and the modified pseudobulk dataframe together\n",
    "data <- inner_join(df,merged_df_v2,by=c('ID'))\n",
    "\n",
    "#save the df\n",
    "write_csv(data, file = \"/home/jupyter/IH-A-Aging-Analysis-Notebooks_old/Mansi_Notebooks/scRNA/CertPro_analysis/scripts/Figure_Notebooks/Intermediate_files/Mean_gene_expression/CSVs_mean_gene_exp_by_age_sex/IL1B_CD14mono_Male_BR2_mean_gene_exp.csv\")"
   ]
  },
  {
   "cell_type": "code",
   "execution_count": 64,
   "id": "86013bfb-7a29-4fd5-99cf-f5eb54c75ffc",
   "metadata": {
    "tags": []
   },
   "outputs": [],
   "source": [
    "#subset for each sex and age\n",
    "merged_df_v2 <- merged_df[merged_df$subject.biologicalSex == \"Male\" & merged_df$cohort.cohortGuid == \"BR1\", ]\n",
    "\n",
    "#create a column called \"Gene\"\n",
    "mean_df['Gene']= rownames(mean_df)\n",
    "\n",
    "#filter the gene in count matrix\n",
    "df <- mean_df %>% filter (Gene %in% c(\"PTGS2\", \"BCL2A1\", \"NLRP3\", \"OAZ1\", \"G0S2\", \"CMTM6\", \"RASGEF1B\", \"RIPK2\", \"RABL6\",\n",
    "                       \"SGK1\", \"SELENOK\", \"METRNL\", \"MIDN\", \"DNAJC10\", \"BCL6\", \"PCBP2\", \"IL1B\", \"NR4A1\", \"FKBP5\",\n",
    "                       \"SOCS3\", \"EREG\", \"TNF\", \"SHTN1\", \"WARS\", \"BAG1\", \"CDKN2D\", \"ATP1B3\", \"RPLP2\", \"ATP5PD\",\n",
    "                       \"CCL3\", \"CCL4\", \"CXCL8\"))\n",
    "#remove column \"gene\" \n",
    "df <- df[,!(names(df) %in% c('Gene'))]\n",
    "\n",
    "#transpose the data\n",
    "df <- df %>% t() %>% as.data.frame()\n",
    "\n",
    "#create a ID column for merging\n",
    "df['ID']= rownames(df)\n",
    "\n",
    "#merge the merged_df_v2 (with metadata) and the modified pseudobulk dataframe together\n",
    "data <- inner_join(df,merged_df_v2,by=c('ID'))\n",
    "\n",
    "#save the df\n",
    "write_csv(data, file = \"/home/jupyter/IH-A-Aging-Analysis-Notebooks_old/Mansi_Notebooks/scRNA/CertPro_analysis/scripts/Figure_Notebooks/Intermediate_files/Mean_gene_expression/CSVs_mean_gene_exp_by_age_sex/IL1B_CD14mono_Male_BR1_mean_gene_exp.csv\")"
   ]
  },
  {
   "cell_type": "code",
   "execution_count": null,
   "id": "725e89e2-3633-4da4-ace5-ef4e4db042d7",
   "metadata": {},
   "outputs": [],
   "source": []
  }
 ],
 "metadata": {
  "kernelspec": {
   "display_name": "R 4",
   "language": "R",
   "name": "ir4"
  },
  "language_info": {
   "codemirror_mode": "r",
   "file_extension": ".r",
   "mimetype": "text/x-r-source",
   "name": "R",
   "pygments_lexer": "r",
   "version": "4.3.1"
  }
 },
 "nbformat": 4,
 "nbformat_minor": 5
}
