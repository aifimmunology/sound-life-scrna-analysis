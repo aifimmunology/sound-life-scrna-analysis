{
 "cells": [
  {
   "cell_type": "code",
   "execution_count": 10,
   "id": "c4022cb7-194b-4357-bca0-4b8d131ec2c7",
   "metadata": {
    "tags": []
   },
   "outputs": [],
   "source": [
    "import anndata\n",
    "import h5py\n",
    "import os\n",
    "import pandas as pd\n",
    "import scanpy as sc\n",
    "import scvi\n",
    "import matplotlib.pyplot as plt\n",
    "\n",
    "import scipy.sparse as scs\n",
    "import numpy as np\n",
    "import sklearn\n",
    "import seaborn as sns\n",
    "sns.set()\n",
    "\n"
   ]
  },
  {
   "cell_type": "markdown",
   "id": "af52eb2e-da60-404a-b61a-119d55822045",
   "metadata": {
    "tags": []
   },
   "source": [
    "# Heatmap expression matrix\n"
   ]
  },
  {
   "cell_type": "markdown",
   "id": "2b98de9c-0cb4-46e7-b6c6-884874a5ea2d",
   "metadata": {
    "tags": []
   },
   "source": [
    "## IL1B+ CD14 mono"
   ]
  },
  {
   "cell_type": "code",
   "execution_count": 19,
   "id": "0849c56f-1194-47b7-840b-cfd49534333b",
   "metadata": {
    "tags": []
   },
   "outputs": [
    {
     "data": {
      "text/plain": [
       "AnnData object with n_obs × n_vars = 2679 × 33538\n",
       "    obs: 'barcodes', 'batch_id', 'cell_name', 'cell_uuid', 'chip_id', 'hto_barcode', 'hto_category', 'n_genes', 'n_mito_umis', 'n_reads', 'n_umis', 'original_barcodes', 'pbmc_sample_id', 'pool_id', 'seurat_pbmc_type', 'seurat_pbmc_type_score', 'umap_1', 'umap_2', 'well_id', 'subject.biologicalSex', 'subject.ethnicity', 'subject.partnerCode', 'subject.race', 'subject.subjectGuid', 'cohort.cohortGuid', 'sample.visitName', 'sample.visitDetails', 'subject.birthYear', 'CMV.IgG.Serology.Result.Interpretation', 'BMI', 'predicted_doublet', 'doublet_score', 'AIFI_L1', 'AIFI_L2', 'AIFI_L3', 'AIFI_L3.5', 'n_genes_by_counts', 'log1p_n_genes_by_counts', 'total_counts', 'log1p_total_counts', 'pct_counts_in_top_50_genes', 'pct_counts_in_top_100_genes', 'pct_counts_in_top_200_genes', 'pct_counts_in_top_500_genes', 'total_counts_mito', 'log1p_total_counts_mito', 'pct_counts_mito'\n",
       "    layers: 'counts'"
      ]
     },
     "execution_count": 19,
     "metadata": {},
     "output_type": "execute_result"
    }
   ],
   "source": [
    "adata = sc.read ('/home/jupyter/Myeloid_cells/files/IL1B_CD14_Mono_ONLY_FluYr1D0_raw_04172024.h5ad')\n",
    "adata"
   ]
  },
  {
   "cell_type": "code",
   "execution_count": 20,
   "id": "f8695f9b-db1d-4eed-bfa4-7a8108024ac7",
   "metadata": {
    "tags": []
   },
   "outputs": [
    {
     "data": {
      "text/plain": [
       "array([[0., 0., 0., ..., 0., 0., 0.],\n",
       "       [0., 0., 0., ..., 0., 0., 0.],\n",
       "       [0., 0., 0., ..., 0., 0., 0.],\n",
       "       ...,\n",
       "       [0., 0., 0., ..., 0., 0., 0.],\n",
       "       [0., 0., 0., ..., 0., 0., 0.],\n",
       "       [0., 0., 0., ..., 0., 0., 0.]], dtype=float32)"
      ]
     },
     "execution_count": 20,
     "metadata": {},
     "output_type": "execute_result"
    }
   ],
   "source": [
    "adata.X.toarray()"
   ]
  },
  {
   "cell_type": "code",
   "execution_count": 21,
   "id": "2c16b56f-021c-4630-a2eb-c181b9da7b0b",
   "metadata": {
    "tags": []
   },
   "outputs": [
    {
     "data": {
      "text/plain": [
       "array([[0., 0., 0., ..., 0., 0., 0.],\n",
       "       [0., 0., 0., ..., 0., 0., 0.],\n",
       "       [0., 0., 0., ..., 0., 0., 0.],\n",
       "       ...,\n",
       "       [0., 0., 0., ..., 0., 0., 0.],\n",
       "       [0., 0., 0., ..., 0., 0., 0.],\n",
       "       [0., 0., 0., ..., 0., 0., 0.]], dtype=float32)"
      ]
     },
     "execution_count": 21,
     "metadata": {},
     "output_type": "execute_result"
    }
   ],
   "source": [
    "# Normalize and log1p if using raw object\n",
    "sc.pp.normalize_total(adata, target_sum=1e4)\n",
    "sc.pp.log1p(adata)\n",
    "adata.X.toarray()\n"
   ]
  },
  {
   "cell_type": "code",
   "execution_count": 210,
   "id": "7f745fe6-7b3b-4dbd-b5a8-a6aed0d8675b",
   "metadata": {
    "tags": []
   },
   "outputs": [],
   "source": [
    "#adata_filt.obs.rename(columns={\"pbmc_sample_id\": \"pbmc_sample_id\"}, inplace=True)"
   ]
  },
  {
   "cell_type": "code",
   "execution_count": 211,
   "id": "800812b0-eeff-40c2-b251-329b5a93c535",
   "metadata": {
    "tags": []
   },
   "outputs": [],
   "source": [
    "#adata_filt.obs.rename(columns={\"CMV.IgG.Serology.Result.Interpretation\": \"CMV\"}, inplace=True)"
   ]
  },
  {
   "cell_type": "code",
   "execution_count": 212,
   "id": "f2b9a7da-c27d-4b79-b520-cc047dcdca09",
   "metadata": {
    "tags": []
   },
   "outputs": [],
   "source": [
    "#adata_filt.obs.rename(columns={\"cohort.cohortGuid\": \"Age\"}, inplace=True)"
   ]
  },
  {
   "cell_type": "code",
   "execution_count": 223,
   "id": "1fceb51e-80ae-4a8f-950a-2fd5bc971443",
   "metadata": {
    "tags": []
   },
   "outputs": [],
   "source": [
    "# import pandas as pd\n",
    "\n",
    "# # Assuming adata.X is your expression matrix\n",
    "# # Assuming adata has row names and column names\n",
    "\n",
    "# # Convert adata.X to a DataFrame\n",
    "# expression_df = pd.DataFrame(adata.X, index=adata.obs.index, columns=adata.var.index)\n",
    "\n",
    "# # Save DataFrame to CSV\n",
    "# expression_df.to_csv('Heatmap_expression_matrix_v1.csv')\n"
   ]
  },
  {
   "cell_type": "code",
   "execution_count": 225,
   "id": "5f244136-0bf9-49be-8f81-aa416572abb2",
   "metadata": {
    "tags": []
   },
   "outputs": [
    {
     "data": {
      "text/html": [
       "<div>\n",
       "<style scoped>\n",
       "    .dataframe tbody tr th:only-of-type {\n",
       "        vertical-align: middle;\n",
       "    }\n",
       "\n",
       "    .dataframe tbody tr th {\n",
       "        vertical-align: top;\n",
       "    }\n",
       "\n",
       "    .dataframe thead th {\n",
       "        text-align: right;\n",
       "    }\n",
       "</style>\n",
       "<table border=\"1\" class=\"dataframe\">\n",
       "  <thead>\n",
       "    <tr style=\"text-align: right;\">\n",
       "      <th></th>\n",
       "      <th>FAM41C</th>\n",
       "      <th>KLHL17</th>\n",
       "      <th>HES4</th>\n",
       "      <th>ISG15</th>\n",
       "      <th>C1orf159</th>\n",
       "      <th>C1QTNF12</th>\n",
       "      <th>AL162741.1</th>\n",
       "      <th>SCNN1D</th>\n",
       "      <th>ACAP3</th>\n",
       "      <th>MXRA8</th>\n",
       "      <th>...</th>\n",
       "      <th>MT-ND1</th>\n",
       "      <th>MT-ND2</th>\n",
       "      <th>MT-CO2</th>\n",
       "      <th>MT-ATP6</th>\n",
       "      <th>MT-CO3</th>\n",
       "      <th>MT-ND3</th>\n",
       "      <th>MT-ND4L</th>\n",
       "      <th>MT-ND4</th>\n",
       "      <th>MT-CYB</th>\n",
       "      <th>AC240274.1</th>\n",
       "    </tr>\n",
       "    <tr>\n",
       "      <th>barcodes</th>\n",
       "      <th></th>\n",
       "      <th></th>\n",
       "      <th></th>\n",
       "      <th></th>\n",
       "      <th></th>\n",
       "      <th></th>\n",
       "      <th></th>\n",
       "      <th></th>\n",
       "      <th></th>\n",
       "      <th></th>\n",
       "      <th></th>\n",
       "      <th></th>\n",
       "      <th></th>\n",
       "      <th></th>\n",
       "      <th></th>\n",
       "      <th></th>\n",
       "      <th></th>\n",
       "      <th></th>\n",
       "      <th></th>\n",
       "      <th></th>\n",
       "      <th></th>\n",
       "    </tr>\n",
       "  </thead>\n",
       "  <tbody>\n",
       "    <tr>\n",
       "      <th>cfb4162a48b611ea8957bafe6d70929e</th>\n",
       "      <td>-0.132573</td>\n",
       "      <td>-0.113268</td>\n",
       "      <td>-0.192298</td>\n",
       "      <td>-0.661028</td>\n",
       "      <td>-0.176591</td>\n",
       "      <td>-0.077332</td>\n",
       "      <td>-0.05456</td>\n",
       "      <td>-0.053848</td>\n",
       "      <td>-0.328429</td>\n",
       "      <td>-0.022134</td>\n",
       "      <td>...</td>\n",
       "      <td>1.325860</td>\n",
       "      <td>0.731614</td>\n",
       "      <td>0.836299</td>\n",
       "      <td>1.340946</td>\n",
       "      <td>0.742673</td>\n",
       "      <td>1.439619</td>\n",
       "      <td>0.713853</td>\n",
       "      <td>1.086478</td>\n",
       "      <td>-0.067385</td>\n",
       "      <td>-0.156928</td>\n",
       "    </tr>\n",
       "    <tr>\n",
       "      <th>70ab258848b611eaa65d9e7d578d66f2</th>\n",
       "      <td>-0.132573</td>\n",
       "      <td>-0.113268</td>\n",
       "      <td>-0.192298</td>\n",
       "      <td>-0.661028</td>\n",
       "      <td>4.546874</td>\n",
       "      <td>-0.077332</td>\n",
       "      <td>-0.05456</td>\n",
       "      <td>-0.053848</td>\n",
       "      <td>-0.328429</td>\n",
       "      <td>-0.022134</td>\n",
       "      <td>...</td>\n",
       "      <td>-1.189309</td>\n",
       "      <td>-0.481571</td>\n",
       "      <td>-0.535567</td>\n",
       "      <td>-0.834956</td>\n",
       "      <td>-0.465425</td>\n",
       "      <td>-1.024485</td>\n",
       "      <td>0.202755</td>\n",
       "      <td>-0.327291</td>\n",
       "      <td>-0.668048</td>\n",
       "      <td>-0.156928</td>\n",
       "    </tr>\n",
       "    <tr>\n",
       "      <th>70acf29648b611eaa65d9e7d578d66f2</th>\n",
       "      <td>-0.132573</td>\n",
       "      <td>-0.113268</td>\n",
       "      <td>-0.192298</td>\n",
       "      <td>1.294230</td>\n",
       "      <td>-0.176591</td>\n",
       "      <td>-0.077332</td>\n",
       "      <td>-0.05456</td>\n",
       "      <td>-0.053848</td>\n",
       "      <td>-0.328429</td>\n",
       "      <td>-0.022134</td>\n",
       "      <td>...</td>\n",
       "      <td>0.252301</td>\n",
       "      <td>-0.473989</td>\n",
       "      <td>0.144703</td>\n",
       "      <td>0.668496</td>\n",
       "      <td>-0.065128</td>\n",
       "      <td>-0.019105</td>\n",
       "      <td>-0.418068</td>\n",
       "      <td>0.751750</td>\n",
       "      <td>0.169085</td>\n",
       "      <td>-0.156928</td>\n",
       "    </tr>\n",
       "    <tr>\n",
       "      <th>70d2b34648b611eaa65d9e7d578d66f2</th>\n",
       "      <td>-0.132573</td>\n",
       "      <td>-0.113268</td>\n",
       "      <td>-0.192298</td>\n",
       "      <td>-0.661028</td>\n",
       "      <td>-0.176591</td>\n",
       "      <td>-0.077332</td>\n",
       "      <td>-0.05456</td>\n",
       "      <td>-0.053848</td>\n",
       "      <td>-0.328429</td>\n",
       "      <td>-0.022134</td>\n",
       "      <td>...</td>\n",
       "      <td>1.358938</td>\n",
       "      <td>-0.032474</td>\n",
       "      <td>-1.037922</td>\n",
       "      <td>0.739538</td>\n",
       "      <td>-0.204768</td>\n",
       "      <td>0.471638</td>\n",
       "      <td>0.094861</td>\n",
       "      <td>-0.397821</td>\n",
       "      <td>-1.446746</td>\n",
       "      <td>-0.156928</td>\n",
       "    </tr>\n",
       "    <tr>\n",
       "      <th>70d844f048b611eaa65d9e7d578d66f2</th>\n",
       "      <td>-0.132573</td>\n",
       "      <td>-0.113268</td>\n",
       "      <td>-0.192298</td>\n",
       "      <td>-0.661028</td>\n",
       "      <td>-0.176591</td>\n",
       "      <td>-0.077332</td>\n",
       "      <td>-0.05456</td>\n",
       "      <td>-0.053848</td>\n",
       "      <td>-0.328429</td>\n",
       "      <td>-0.022134</td>\n",
       "      <td>...</td>\n",
       "      <td>-0.771742</td>\n",
       "      <td>-2.176364</td>\n",
       "      <td>-0.749368</td>\n",
       "      <td>-0.869467</td>\n",
       "      <td>-1.302776</td>\n",
       "      <td>-0.020604</td>\n",
       "      <td>-1.730623</td>\n",
       "      <td>-0.394766</td>\n",
       "      <td>-1.223874</td>\n",
       "      <td>-0.156928</td>\n",
       "    </tr>\n",
       "    <tr>\n",
       "      <th>...</th>\n",
       "      <td>...</td>\n",
       "      <td>...</td>\n",
       "      <td>...</td>\n",
       "      <td>...</td>\n",
       "      <td>...</td>\n",
       "      <td>...</td>\n",
       "      <td>...</td>\n",
       "      <td>...</td>\n",
       "      <td>...</td>\n",
       "      <td>...</td>\n",
       "      <td>...</td>\n",
       "      <td>...</td>\n",
       "      <td>...</td>\n",
       "      <td>...</td>\n",
       "      <td>...</td>\n",
       "      <td>...</td>\n",
       "      <td>...</td>\n",
       "      <td>...</td>\n",
       "      <td>...</td>\n",
       "      <td>...</td>\n",
       "      <td>...</td>\n",
       "    </tr>\n",
       "    <tr>\n",
       "      <th>4fcaf786286511ec8c0d4aaa4b9002e8</th>\n",
       "      <td>-0.132573</td>\n",
       "      <td>-0.113268</td>\n",
       "      <td>-0.192298</td>\n",
       "      <td>1.622779</td>\n",
       "      <td>-0.176591</td>\n",
       "      <td>-0.077332</td>\n",
       "      <td>-0.05456</td>\n",
       "      <td>-0.053848</td>\n",
       "      <td>-0.328429</td>\n",
       "      <td>-0.022134</td>\n",
       "      <td>...</td>\n",
       "      <td>0.463961</td>\n",
       "      <td>0.536566</td>\n",
       "      <td>-1.310432</td>\n",
       "      <td>1.173958</td>\n",
       "      <td>0.229070</td>\n",
       "      <td>0.430827</td>\n",
       "      <td>0.022275</td>\n",
       "      <td>0.371624</td>\n",
       "      <td>0.106982</td>\n",
       "      <td>-0.156928</td>\n",
       "    </tr>\n",
       "    <tr>\n",
       "      <th>ce432b48286411eca744faae388e9f17</th>\n",
       "      <td>-0.132573</td>\n",
       "      <td>-0.113268</td>\n",
       "      <td>-0.192298</td>\n",
       "      <td>1.051977</td>\n",
       "      <td>-0.176591</td>\n",
       "      <td>-0.077332</td>\n",
       "      <td>-0.05456</td>\n",
       "      <td>-0.053848</td>\n",
       "      <td>-0.328429</td>\n",
       "      <td>-0.022134</td>\n",
       "      <td>...</td>\n",
       "      <td>1.198795</td>\n",
       "      <td>0.391518</td>\n",
       "      <td>0.622304</td>\n",
       "      <td>1.493538</td>\n",
       "      <td>0.150514</td>\n",
       "      <td>1.332110</td>\n",
       "      <td>-0.063872</td>\n",
       "      <td>0.706557</td>\n",
       "      <td>0.251596</td>\n",
       "      <td>-0.156928</td>\n",
       "    </tr>\n",
       "    <tr>\n",
       "      <th>fbe4aa18286411ecb1698ec288c6fba6</th>\n",
       "      <td>-0.132573</td>\n",
       "      <td>-0.113268</td>\n",
       "      <td>-0.192298</td>\n",
       "      <td>2.229014</td>\n",
       "      <td>-0.176591</td>\n",
       "      <td>-0.077332</td>\n",
       "      <td>-0.05456</td>\n",
       "      <td>-0.053848</td>\n",
       "      <td>-0.328429</td>\n",
       "      <td>-0.022134</td>\n",
       "      <td>...</td>\n",
       "      <td>0.958758</td>\n",
       "      <td>1.280242</td>\n",
       "      <td>0.750380</td>\n",
       "      <td>0.253745</td>\n",
       "      <td>0.563532</td>\n",
       "      <td>1.755917</td>\n",
       "      <td>0.487581</td>\n",
       "      <td>0.843975</td>\n",
       "      <td>0.123364</td>\n",
       "      <td>-0.156928</td>\n",
       "    </tr>\n",
       "    <tr>\n",
       "      <th>03c5255a286511ec8289ca5980196c9c</th>\n",
       "      <td>-0.132573</td>\n",
       "      <td>-0.113268</td>\n",
       "      <td>-0.192298</td>\n",
       "      <td>1.707325</td>\n",
       "      <td>-0.176591</td>\n",
       "      <td>-0.077332</td>\n",
       "      <td>-0.05456</td>\n",
       "      <td>-0.053848</td>\n",
       "      <td>-0.328429</td>\n",
       "      <td>-0.022134</td>\n",
       "      <td>...</td>\n",
       "      <td>0.786495</td>\n",
       "      <td>0.486685</td>\n",
       "      <td>0.126109</td>\n",
       "      <td>1.119277</td>\n",
       "      <td>-0.492053</td>\n",
       "      <td>1.279174</td>\n",
       "      <td>-0.806702</td>\n",
       "      <td>0.384777</td>\n",
       "      <td>0.369796</td>\n",
       "      <td>-0.156928</td>\n",
       "    </tr>\n",
       "    <tr>\n",
       "      <th>91f8844a286311ecabc39e0459bddc54</th>\n",
       "      <td>-0.132573</td>\n",
       "      <td>-0.113268</td>\n",
       "      <td>-0.192298</td>\n",
       "      <td>3.324033</td>\n",
       "      <td>-0.176591</td>\n",
       "      <td>-0.077332</td>\n",
       "      <td>-0.05456</td>\n",
       "      <td>-0.053848</td>\n",
       "      <td>-0.328429</td>\n",
       "      <td>-0.022134</td>\n",
       "      <td>...</td>\n",
       "      <td>-0.122227</td>\n",
       "      <td>0.093515</td>\n",
       "      <td>-0.260421</td>\n",
       "      <td>0.857848</td>\n",
       "      <td>-0.560291</td>\n",
       "      <td>0.419610</td>\n",
       "      <td>-0.415456</td>\n",
       "      <td>0.673279</td>\n",
       "      <td>-0.344862</td>\n",
       "      <td>-0.156928</td>\n",
       "    </tr>\n",
       "  </tbody>\n",
       "</table>\n",
       "<p>2679 rows × 3000 columns</p>\n",
       "</div>"
      ],
      "text/plain": [
       "                                    FAM41C    KLHL17      HES4     ISG15  \\\n",
       "barcodes                                                                   \n",
       "cfb4162a48b611ea8957bafe6d70929e -0.132573 -0.113268 -0.192298 -0.661028   \n",
       "70ab258848b611eaa65d9e7d578d66f2 -0.132573 -0.113268 -0.192298 -0.661028   \n",
       "70acf29648b611eaa65d9e7d578d66f2 -0.132573 -0.113268 -0.192298  1.294230   \n",
       "70d2b34648b611eaa65d9e7d578d66f2 -0.132573 -0.113268 -0.192298 -0.661028   \n",
       "70d844f048b611eaa65d9e7d578d66f2 -0.132573 -0.113268 -0.192298 -0.661028   \n",
       "...                                    ...       ...       ...       ...   \n",
       "4fcaf786286511ec8c0d4aaa4b9002e8 -0.132573 -0.113268 -0.192298  1.622779   \n",
       "ce432b48286411eca744faae388e9f17 -0.132573 -0.113268 -0.192298  1.051977   \n",
       "fbe4aa18286411ecb1698ec288c6fba6 -0.132573 -0.113268 -0.192298  2.229014   \n",
       "03c5255a286511ec8289ca5980196c9c -0.132573 -0.113268 -0.192298  1.707325   \n",
       "91f8844a286311ecabc39e0459bddc54 -0.132573 -0.113268 -0.192298  3.324033   \n",
       "\n",
       "                                  C1orf159  C1QTNF12  AL162741.1    SCNN1D  \\\n",
       "barcodes                                                                     \n",
       "cfb4162a48b611ea8957bafe6d70929e -0.176591 -0.077332    -0.05456 -0.053848   \n",
       "70ab258848b611eaa65d9e7d578d66f2  4.546874 -0.077332    -0.05456 -0.053848   \n",
       "70acf29648b611eaa65d9e7d578d66f2 -0.176591 -0.077332    -0.05456 -0.053848   \n",
       "70d2b34648b611eaa65d9e7d578d66f2 -0.176591 -0.077332    -0.05456 -0.053848   \n",
       "70d844f048b611eaa65d9e7d578d66f2 -0.176591 -0.077332    -0.05456 -0.053848   \n",
       "...                                    ...       ...         ...       ...   \n",
       "4fcaf786286511ec8c0d4aaa4b9002e8 -0.176591 -0.077332    -0.05456 -0.053848   \n",
       "ce432b48286411eca744faae388e9f17 -0.176591 -0.077332    -0.05456 -0.053848   \n",
       "fbe4aa18286411ecb1698ec288c6fba6 -0.176591 -0.077332    -0.05456 -0.053848   \n",
       "03c5255a286511ec8289ca5980196c9c -0.176591 -0.077332    -0.05456 -0.053848   \n",
       "91f8844a286311ecabc39e0459bddc54 -0.176591 -0.077332    -0.05456 -0.053848   \n",
       "\n",
       "                                     ACAP3     MXRA8  ...    MT-ND1    MT-ND2  \\\n",
       "barcodes                                              ...                       \n",
       "cfb4162a48b611ea8957bafe6d70929e -0.328429 -0.022134  ...  1.325860  0.731614   \n",
       "70ab258848b611eaa65d9e7d578d66f2 -0.328429 -0.022134  ... -1.189309 -0.481571   \n",
       "70acf29648b611eaa65d9e7d578d66f2 -0.328429 -0.022134  ...  0.252301 -0.473989   \n",
       "70d2b34648b611eaa65d9e7d578d66f2 -0.328429 -0.022134  ...  1.358938 -0.032474   \n",
       "70d844f048b611eaa65d9e7d578d66f2 -0.328429 -0.022134  ... -0.771742 -2.176364   \n",
       "...                                    ...       ...  ...       ...       ...   \n",
       "4fcaf786286511ec8c0d4aaa4b9002e8 -0.328429 -0.022134  ...  0.463961  0.536566   \n",
       "ce432b48286411eca744faae388e9f17 -0.328429 -0.022134  ...  1.198795  0.391518   \n",
       "fbe4aa18286411ecb1698ec288c6fba6 -0.328429 -0.022134  ...  0.958758  1.280242   \n",
       "03c5255a286511ec8289ca5980196c9c -0.328429 -0.022134  ...  0.786495  0.486685   \n",
       "91f8844a286311ecabc39e0459bddc54 -0.328429 -0.022134  ... -0.122227  0.093515   \n",
       "\n",
       "                                    MT-CO2   MT-ATP6    MT-CO3    MT-ND3  \\\n",
       "barcodes                                                                   \n",
       "cfb4162a48b611ea8957bafe6d70929e  0.836299  1.340946  0.742673  1.439619   \n",
       "70ab258848b611eaa65d9e7d578d66f2 -0.535567 -0.834956 -0.465425 -1.024485   \n",
       "70acf29648b611eaa65d9e7d578d66f2  0.144703  0.668496 -0.065128 -0.019105   \n",
       "70d2b34648b611eaa65d9e7d578d66f2 -1.037922  0.739538 -0.204768  0.471638   \n",
       "70d844f048b611eaa65d9e7d578d66f2 -0.749368 -0.869467 -1.302776 -0.020604   \n",
       "...                                    ...       ...       ...       ...   \n",
       "4fcaf786286511ec8c0d4aaa4b9002e8 -1.310432  1.173958  0.229070  0.430827   \n",
       "ce432b48286411eca744faae388e9f17  0.622304  1.493538  0.150514  1.332110   \n",
       "fbe4aa18286411ecb1698ec288c6fba6  0.750380  0.253745  0.563532  1.755917   \n",
       "03c5255a286511ec8289ca5980196c9c  0.126109  1.119277 -0.492053  1.279174   \n",
       "91f8844a286311ecabc39e0459bddc54 -0.260421  0.857848 -0.560291  0.419610   \n",
       "\n",
       "                                   MT-ND4L    MT-ND4    MT-CYB  AC240274.1  \n",
       "barcodes                                                                    \n",
       "cfb4162a48b611ea8957bafe6d70929e  0.713853  1.086478 -0.067385   -0.156928  \n",
       "70ab258848b611eaa65d9e7d578d66f2  0.202755 -0.327291 -0.668048   -0.156928  \n",
       "70acf29648b611eaa65d9e7d578d66f2 -0.418068  0.751750  0.169085   -0.156928  \n",
       "70d2b34648b611eaa65d9e7d578d66f2  0.094861 -0.397821 -1.446746   -0.156928  \n",
       "70d844f048b611eaa65d9e7d578d66f2 -1.730623 -0.394766 -1.223874   -0.156928  \n",
       "...                                    ...       ...       ...         ...  \n",
       "4fcaf786286511ec8c0d4aaa4b9002e8  0.022275  0.371624  0.106982   -0.156928  \n",
       "ce432b48286411eca744faae388e9f17 -0.063872  0.706557  0.251596   -0.156928  \n",
       "fbe4aa18286411ecb1698ec288c6fba6  0.487581  0.843975  0.123364   -0.156928  \n",
       "03c5255a286511ec8289ca5980196c9c -0.806702  0.384777  0.369796   -0.156928  \n",
       "91f8844a286311ecabc39e0459bddc54 -0.415456  0.673279 -0.344862   -0.156928  \n",
       "\n",
       "[2679 rows x 3000 columns]"
      ]
     },
     "execution_count": 225,
     "metadata": {},
     "output_type": "execute_result"
    }
   ],
   "source": [
    "# expression_df"
   ]
  },
  {
   "cell_type": "code",
   "execution_count": 214,
   "id": "6d2ed941-3321-428d-8d06-896f88dac0a5",
   "metadata": {
    "tags": []
   },
   "outputs": [],
   "source": [
    "#adata.obs['unique_ID'] = adata.obs['pbmc_sample_id'].str.cat (adata.obs['subject.biologicalSex'], sep = \"_\").str.cat (adata.obs['cohort.cohortGuid'], sep = \"_\")"
   ]
  },
  {
   "cell_type": "code",
   "execution_count": 215,
   "id": "35907811-342e-4ad0-a244-f025113724c3",
   "metadata": {
    "tags": []
   },
   "outputs": [],
   "source": [
    "#adata.obs['unique_ID'] = adata.obs['pbmc_sample_id']"
   ]
  },
  {
   "cell_type": "code",
   "execution_count": null,
   "id": "43ceaffd-3f3d-472e-a209-e5ca0778739e",
   "metadata": {},
   "outputs": [],
   "source": []
  },
  {
   "cell_type": "code",
   "execution_count": 22,
   "id": "4c427934-d745-4952-bf6e-3d314f734bb7",
   "metadata": {
    "tags": []
   },
   "outputs": [
    {
     "data": {
      "text/plain": [
       "AnnData object with n_obs × n_vars = 2679 × 33538\n",
       "    obs: 'barcodes', 'batch_id', 'cell_name', 'cell_uuid', 'chip_id', 'hto_barcode', 'hto_category', 'n_genes', 'n_mito_umis', 'n_reads', 'n_umis', 'original_barcodes', 'pbmc_sample_id', 'pool_id', 'seurat_pbmc_type', 'seurat_pbmc_type_score', 'umap_1', 'umap_2', 'well_id', 'subject.biologicalSex', 'subject.ethnicity', 'subject.partnerCode', 'subject.race', 'subject.subjectGuid', 'cohort.cohortGuid', 'sample.visitName', 'sample.visitDetails', 'subject.birthYear', 'CMV.IgG.Serology.Result.Interpretation', 'BMI', 'predicted_doublet', 'doublet_score', 'AIFI_L1', 'AIFI_L2', 'AIFI_L3', 'AIFI_L3.5', 'n_genes_by_counts', 'log1p_n_genes_by_counts', 'total_counts', 'log1p_total_counts', 'pct_counts_in_top_50_genes', 'pct_counts_in_top_100_genes', 'pct_counts_in_top_200_genes', 'pct_counts_in_top_500_genes', 'total_counts_mito', 'log1p_total_counts_mito', 'pct_counts_mito'\n",
       "    uns: 'log1p'\n",
       "    layers: 'counts'"
      ]
     },
     "execution_count": 22,
     "metadata": {},
     "output_type": "execute_result"
    }
   ],
   "source": [
    "adata"
   ]
  },
  {
   "cell_type": "code",
   "execution_count": 217,
   "id": "42605d53-89fb-4ccc-a071-e33e4f445e5d",
   "metadata": {
    "tags": []
   },
   "outputs": [
    {
     "data": {
      "text/plain": [
       "['PB00001-01', 'PB00002-01', 'PB00003-01', 'PB00004-01', 'PB00006-01', ..., 'PB00623-01', 'PB00625-02', 'PB00645-01', 'PB01425-01', 'PB01446-01']\n",
       "Length: 92\n",
       "Categories (92, object): ['PB00001-01', 'PB00002-01', 'PB00003-01', 'PB00004-01', ..., 'PB00625-02', 'PB00645-01', 'PB01425-01', 'PB01446-01']"
      ]
     },
     "execution_count": 217,
     "metadata": {},
     "output_type": "execute_result"
    }
   ],
   "source": [
    "#adata.obs['unique_ID'].unique()"
   ]
  },
  {
   "cell_type": "code",
   "execution_count": 23,
   "id": "9b79f4c8-50b6-44f6-ac7c-30bf4fa3b47a",
   "metadata": {
    "tags": []
   },
   "outputs": [
    {
     "data": {
      "text/plain": [
       "['IL1B+ CD14 monocyte']\n",
       "Categories (1, object): ['IL1B+ CD14 monocyte']"
      ]
     },
     "execution_count": 23,
     "metadata": {},
     "output_type": "execute_result"
    }
   ],
   "source": [
    "adata.obs['AIFI_L3'].unique()"
   ]
  },
  {
   "cell_type": "code",
   "execution_count": 24,
   "id": "0c2b9a49-c5a6-43cc-8ba1-7969ed73fe9d",
   "metadata": {
    "tags": []
   },
   "outputs": [],
   "source": [
    "adata.raw = adata"
   ]
  },
  {
   "cell_type": "code",
   "execution_count": 27,
   "id": "6762efe5-a5a0-4915-8b36-bc254f6562d0",
   "metadata": {
    "tags": []
   },
   "outputs": [
    {
     "name": "stderr",
     "output_type": "stream",
     "text": [
      "/tmp/ipykernel_40259/26443799.py:1: FutureWarning: The default of observed=False is deprecated and will be changed to True in a future version of pandas. Pass observed=False to retain current behavior or observed=True to adopt the future default and silence this warning.\n",
      "  grouped = adata.obs.groupby(['pbmc_sample_id'])\n"
     ]
    }
   ],
   "source": [
    "grouped = adata.obs.groupby(['pbmc_sample_id'])\n",
    "#grouped.head()"
   ]
  },
  {
   "cell_type": "code",
   "execution_count": 44,
   "id": "e3180cb5-5b91-4332-949a-372d49f4cc04",
   "metadata": {
    "tags": []
   },
   "outputs": [],
   "source": [
    "#Not grouped\n",
    "\n",
    "def grouped_obs_mean(adata_filt, group_key, layer=None, gene_symbols=None):\n",
    "    if layer is not None:\n",
    "        getX = lambda x: x.layers[layer]\n",
    "    else:\n",
    "        getX = lambda x: x.X\n",
    "    if gene_symbols is not None:\n",
    "        new_idx = adata_filt.raw.var[idx]\n",
    "    else:\n",
    "        new_idx = adata_filt.raw.var_names\n",
    "    \n",
    "    grouped = adata_filt.obs.groupby(group_key)\n",
    "    \n",
    "    # Extract only pbmc_sample_id without additional alphabets\n",
    "    column_names = [group.split(':')[0] for group in grouped.groups.keys()]\n",
    "    \n",
    "    out = pd.DataFrame(\n",
    "        np.zeros((adata_filt.raw.shape[1], len(column_names)), dtype=np.float64),\n",
    "        columns=column_names,\n",
    "        index=adata_filt.raw.var_names\n",
    "    )\n",
    "    \n",
    "    for group, idx in grouped.indices.items():\n",
    "        X = getX(adata_filt.raw[idx])\n",
    "        out[group.split(':')[0]] = np.ravel(X.mean(axis=0, dtype=np.float64))\n",
    "    return out\n"
   ]
  },
  {
   "cell_type": "code",
   "execution_count": 47,
   "id": "59650ebe-2fac-4cdc-9215-5d296971b889",
   "metadata": {
    "tags": []
   },
   "outputs": [],
   "source": [
    "def create_gene_matrix(adata_filt, group_key, layer=None, gene_symbols=None):\n",
    "    if layer is not None:\n",
    "        getX = lambda x: x.layers[layer]\n",
    "    else:\n",
    "        getX = lambda x: x.X\n",
    "    if gene_symbols is not None:\n",
    "        new_idx = adata_filt.raw.var[idx]\n",
    "    else:\n",
    "        new_idx = adata_filt.raw.var_names\n",
    "    \n",
    "    grouped = adata_filt.obs.groupby(group_key)\n",
    "    \n",
    "    # Extract sample IDs without additional alphabets\n",
    "    sample_ids = [group.split(':')[0] for group in grouped.groups.keys()]\n",
    "    \n",
    "    # Create DataFrame with sample IDs as columns and genes as rows\n",
    "    gene_matrix = pd.DataFrame(\n",
    "        np.zeros((len(adata_filt.raw.var_names), len(sample_ids)), dtype=np.float64),\n",
    "        columns=sample_ids,\n",
    "        index=adata_filt.raw.var_names\n",
    "    )\n",
    "    \n",
    "    for group, idx in grouped.indices.items():\n",
    "        X = getX(adata_filt.raw[idx])\n",
    "        # Fill the DataFrame with gene expression values\n",
    "        gene_matrix[group.split(':')[0]] = np.ravel(X)\n",
    "    \n",
    "    return gene_matrix\n",
    "\n"
   ]
  },
  {
   "cell_type": "code",
   "execution_count": 48,
   "id": "4163820a-0d76-4054-b1a3-0cdc6a027290",
   "metadata": {
    "tags": []
   },
   "outputs": [
    {
     "name": "stderr",
     "output_type": "stream",
     "text": [
      "/tmp/ipykernel_40259/2902084215.py:11: FutureWarning: The default of observed=False is deprecated and will be changed to True in a future version of pandas. Pass observed=False to retain current behavior or observed=True to adopt the future default and silence this warning.\n",
      "  grouped = adata_filt.obs.groupby(group_key)\n"
     ]
    },
    {
     "ename": "ValueError",
     "evalue": "Length of values (1) does not match length of index (33538)",
     "output_type": "error",
     "traceback": [
      "\u001b[0;31m---------------------------------------------------------------------------\u001b[0m",
      "\u001b[0;31mValueError\u001b[0m                                Traceback (most recent call last)",
      "Cell \u001b[0;32mIn[48], line 2\u001b[0m\n\u001b[1;32m      1\u001b[0m \u001b[38;5;66;03m# Assuming adata is your AnnData object\u001b[39;00m\n\u001b[0;32m----> 2\u001b[0m gene_matrix \u001b[38;5;241m=\u001b[39m \u001b[43mcreate_gene_matrix\u001b[49m\u001b[43m(\u001b[49m\u001b[43madata\u001b[49m\u001b[43m,\u001b[49m\u001b[43m \u001b[49m\u001b[43m[\u001b[49m\u001b[38;5;124;43m\"\u001b[39;49m\u001b[38;5;124;43mpbmc_sample_id\u001b[39;49m\u001b[38;5;124;43m\"\u001b[39;49m\u001b[43m]\u001b[49m\u001b[43m)\u001b[49m\n",
      "Cell \u001b[0;32mIn[47], line 26\u001b[0m, in \u001b[0;36mcreate_gene_matrix\u001b[0;34m(adata_filt, group_key, layer, gene_symbols)\u001b[0m\n\u001b[1;32m     24\u001b[0m     X \u001b[38;5;241m=\u001b[39m getX(adata_filt\u001b[38;5;241m.\u001b[39mraw[idx])\n\u001b[1;32m     25\u001b[0m     \u001b[38;5;66;03m# Fill the DataFrame with gene expression values\u001b[39;00m\n\u001b[0;32m---> 26\u001b[0m     \u001b[43mgene_matrix\u001b[49m\u001b[43m[\u001b[49m\u001b[43mgroup\u001b[49m\u001b[38;5;241;43m.\u001b[39;49m\u001b[43msplit\u001b[49m\u001b[43m(\u001b[49m\u001b[38;5;124;43m'\u001b[39;49m\u001b[38;5;124;43m:\u001b[39;49m\u001b[38;5;124;43m'\u001b[39;49m\u001b[43m)\u001b[49m\u001b[43m[\u001b[49m\u001b[38;5;241;43m0\u001b[39;49m\u001b[43m]\u001b[49m\u001b[43m]\u001b[49m \u001b[38;5;241m=\u001b[39m np\u001b[38;5;241m.\u001b[39mravel(X)\n\u001b[1;32m     28\u001b[0m \u001b[38;5;28;01mreturn\u001b[39;00m gene_matrix\n",
      "File \u001b[0;32m/opt/conda/lib/python3.10/site-packages/pandas/core/frame.py:4094\u001b[0m, in \u001b[0;36mDataFrame.__setitem__\u001b[0;34m(self, key, value)\u001b[0m\n\u001b[1;32m   4091\u001b[0m     \u001b[38;5;28mself\u001b[39m\u001b[38;5;241m.\u001b[39m_setitem_array([key], value)\n\u001b[1;32m   4092\u001b[0m \u001b[38;5;28;01melse\u001b[39;00m:\n\u001b[1;32m   4093\u001b[0m     \u001b[38;5;66;03m# set column\u001b[39;00m\n\u001b[0;32m-> 4094\u001b[0m     \u001b[38;5;28;43mself\u001b[39;49m\u001b[38;5;241;43m.\u001b[39;49m\u001b[43m_set_item\u001b[49m\u001b[43m(\u001b[49m\u001b[43mkey\u001b[49m\u001b[43m,\u001b[49m\u001b[43m \u001b[49m\u001b[43mvalue\u001b[49m\u001b[43m)\u001b[49m\n",
      "File \u001b[0;32m/opt/conda/lib/python3.10/site-packages/pandas/core/frame.py:4303\u001b[0m, in \u001b[0;36mDataFrame._set_item\u001b[0;34m(self, key, value)\u001b[0m\n\u001b[1;32m   4293\u001b[0m \u001b[38;5;28;01mdef\u001b[39;00m \u001b[38;5;21m_set_item\u001b[39m(\u001b[38;5;28mself\u001b[39m, key, value) \u001b[38;5;241m-\u001b[39m\u001b[38;5;241m>\u001b[39m \u001b[38;5;28;01mNone\u001b[39;00m:\n\u001b[1;32m   4294\u001b[0m \u001b[38;5;250m    \u001b[39m\u001b[38;5;124;03m\"\"\"\u001b[39;00m\n\u001b[1;32m   4295\u001b[0m \u001b[38;5;124;03m    Add series to DataFrame in specified column.\u001b[39;00m\n\u001b[1;32m   4296\u001b[0m \n\u001b[0;32m   (...)\u001b[0m\n\u001b[1;32m   4301\u001b[0m \u001b[38;5;124;03m    ensure homogeneity.\u001b[39;00m\n\u001b[1;32m   4302\u001b[0m \u001b[38;5;124;03m    \"\"\"\u001b[39;00m\n\u001b[0;32m-> 4303\u001b[0m     value, refs \u001b[38;5;241m=\u001b[39m \u001b[38;5;28;43mself\u001b[39;49m\u001b[38;5;241;43m.\u001b[39;49m\u001b[43m_sanitize_column\u001b[49m\u001b[43m(\u001b[49m\u001b[43mvalue\u001b[49m\u001b[43m)\u001b[49m\n\u001b[1;32m   4305\u001b[0m     \u001b[38;5;28;01mif\u001b[39;00m (\n\u001b[1;32m   4306\u001b[0m         key \u001b[38;5;129;01min\u001b[39;00m \u001b[38;5;28mself\u001b[39m\u001b[38;5;241m.\u001b[39mcolumns\n\u001b[1;32m   4307\u001b[0m         \u001b[38;5;129;01mand\u001b[39;00m value\u001b[38;5;241m.\u001b[39mndim \u001b[38;5;241m==\u001b[39m \u001b[38;5;241m1\u001b[39m\n\u001b[1;32m   4308\u001b[0m         \u001b[38;5;129;01mand\u001b[39;00m \u001b[38;5;129;01mnot\u001b[39;00m \u001b[38;5;28misinstance\u001b[39m(value\u001b[38;5;241m.\u001b[39mdtype, ExtensionDtype)\n\u001b[1;32m   4309\u001b[0m     ):\n\u001b[1;32m   4310\u001b[0m         \u001b[38;5;66;03m# broadcast across multiple columns if necessary\u001b[39;00m\n\u001b[1;32m   4311\u001b[0m         \u001b[38;5;28;01mif\u001b[39;00m \u001b[38;5;129;01mnot\u001b[39;00m \u001b[38;5;28mself\u001b[39m\u001b[38;5;241m.\u001b[39mcolumns\u001b[38;5;241m.\u001b[39mis_unique \u001b[38;5;129;01mor\u001b[39;00m \u001b[38;5;28misinstance\u001b[39m(\u001b[38;5;28mself\u001b[39m\u001b[38;5;241m.\u001b[39mcolumns, MultiIndex):\n",
      "File \u001b[0;32m/opt/conda/lib/python3.10/site-packages/pandas/core/frame.py:5042\u001b[0m, in \u001b[0;36mDataFrame._sanitize_column\u001b[0;34m(self, value)\u001b[0m\n\u001b[1;32m   5039\u001b[0m     \u001b[38;5;28;01mreturn\u001b[39;00m _reindex_for_setitem(value, \u001b[38;5;28mself\u001b[39m\u001b[38;5;241m.\u001b[39mindex)\n\u001b[1;32m   5041\u001b[0m \u001b[38;5;28;01mif\u001b[39;00m is_list_like(value):\n\u001b[0;32m-> 5042\u001b[0m     \u001b[43mcom\u001b[49m\u001b[38;5;241;43m.\u001b[39;49m\u001b[43mrequire_length_match\u001b[49m\u001b[43m(\u001b[49m\u001b[43mvalue\u001b[49m\u001b[43m,\u001b[49m\u001b[43m \u001b[49m\u001b[38;5;28;43mself\u001b[39;49m\u001b[38;5;241;43m.\u001b[39;49m\u001b[43mindex\u001b[49m\u001b[43m)\u001b[49m\n\u001b[1;32m   5043\u001b[0m \u001b[38;5;28;01mreturn\u001b[39;00m sanitize_array(value, \u001b[38;5;28mself\u001b[39m\u001b[38;5;241m.\u001b[39mindex, copy\u001b[38;5;241m=\u001b[39m\u001b[38;5;28;01mTrue\u001b[39;00m, allow_2d\u001b[38;5;241m=\u001b[39m\u001b[38;5;28;01mTrue\u001b[39;00m), \u001b[38;5;28;01mNone\u001b[39;00m\n",
      "File \u001b[0;32m/opt/conda/lib/python3.10/site-packages/pandas/core/common.py:561\u001b[0m, in \u001b[0;36mrequire_length_match\u001b[0;34m(data, index)\u001b[0m\n\u001b[1;32m    557\u001b[0m \u001b[38;5;250m\u001b[39m\u001b[38;5;124;03m\"\"\"\u001b[39;00m\n\u001b[1;32m    558\u001b[0m \u001b[38;5;124;03mCheck the length of data matches the length of the index.\u001b[39;00m\n\u001b[1;32m    559\u001b[0m \u001b[38;5;124;03m\"\"\"\u001b[39;00m\n\u001b[1;32m    560\u001b[0m \u001b[38;5;28;01mif\u001b[39;00m \u001b[38;5;28mlen\u001b[39m(data) \u001b[38;5;241m!=\u001b[39m \u001b[38;5;28mlen\u001b[39m(index):\n\u001b[0;32m--> 561\u001b[0m     \u001b[38;5;28;01mraise\u001b[39;00m \u001b[38;5;167;01mValueError\u001b[39;00m(\n\u001b[1;32m    562\u001b[0m         \u001b[38;5;124m\"\u001b[39m\u001b[38;5;124mLength of values \u001b[39m\u001b[38;5;124m\"\u001b[39m\n\u001b[1;32m    563\u001b[0m         \u001b[38;5;124mf\u001b[39m\u001b[38;5;124m\"\u001b[39m\u001b[38;5;124m(\u001b[39m\u001b[38;5;132;01m{\u001b[39;00m\u001b[38;5;28mlen\u001b[39m(data)\u001b[38;5;132;01m}\u001b[39;00m\u001b[38;5;124m) \u001b[39m\u001b[38;5;124m\"\u001b[39m\n\u001b[1;32m    564\u001b[0m         \u001b[38;5;124m\"\u001b[39m\u001b[38;5;124mdoes not match length of index \u001b[39m\u001b[38;5;124m\"\u001b[39m\n\u001b[1;32m    565\u001b[0m         \u001b[38;5;124mf\u001b[39m\u001b[38;5;124m\"\u001b[39m\u001b[38;5;124m(\u001b[39m\u001b[38;5;132;01m{\u001b[39;00m\u001b[38;5;28mlen\u001b[39m(index)\u001b[38;5;132;01m}\u001b[39;00m\u001b[38;5;124m)\u001b[39m\u001b[38;5;124m\"\u001b[39m\n\u001b[1;32m    566\u001b[0m     )\n",
      "\u001b[0;31mValueError\u001b[0m: Length of values (1) does not match length of index (33538)"
     ]
    }
   ],
   "source": [
    "# Assuming adata is your AnnData object\n",
    "gene_matrix = create_gene_matrix(adata, [\"pbmc_sample_id\"])"
   ]
  },
  {
   "cell_type": "code",
   "execution_count": 45,
   "id": "6afa9dec-eaa0-4af4-890b-1d16700f9738",
   "metadata": {
    "tags": []
   },
   "outputs": [
    {
     "name": "stderr",
     "output_type": "stream",
     "text": [
      "/tmp/ipykernel_40259/3548609660.py:13: FutureWarning: The default of observed=False is deprecated and will be changed to True in a future version of pandas. Pass observed=False to retain current behavior or observed=True to adopt the future default and silence this warning.\n",
      "  grouped = adata_filt.obs.groupby(group_key)\n"
     ]
    }
   ],
   "source": [
    "Il1b_mean = grouped_obs_mean(adata, ['pbmc_sample_id'])"
   ]
  },
  {
   "cell_type": "code",
   "execution_count": 46,
   "id": "4891f659-92a3-460a-a7c1-7f1c751f3ef6",
   "metadata": {
    "tags": []
   },
   "outputs": [
    {
     "data": {
      "text/plain": [
       "(33538, 92)"
      ]
     },
     "execution_count": 46,
     "metadata": {},
     "output_type": "execute_result"
    }
   ],
   "source": [
    "Il1b_mean.shape"
   ]
  },
  {
   "cell_type": "code",
   "execution_count": 14,
   "id": "4384ef31-36d3-4469-9935-1bae88579e82",
   "metadata": {
    "tags": []
   },
   "outputs": [
    {
     "data": {
      "text/html": [
       "<div>\n",
       "<style scoped>\n",
       "    .dataframe tbody tr th:only-of-type {\n",
       "        vertical-align: middle;\n",
       "    }\n",
       "\n",
       "    .dataframe tbody tr th {\n",
       "        vertical-align: top;\n",
       "    }\n",
       "\n",
       "    .dataframe thead th {\n",
       "        text-align: right;\n",
       "    }\n",
       "</style>\n",
       "<table border=\"1\" class=\"dataframe\">\n",
       "  <thead>\n",
       "    <tr style=\"text-align: right;\">\n",
       "      <th></th>\n",
       "      <th>PB00001-01</th>\n",
       "      <th>PB00002-01</th>\n",
       "      <th>PB00003-01</th>\n",
       "      <th>PB00004-01</th>\n",
       "      <th>PB00006-01</th>\n",
       "      <th>PB00010-02</th>\n",
       "      <th>PB00012-01</th>\n",
       "      <th>PB00014-01</th>\n",
       "      <th>PB00015-01</th>\n",
       "      <th>PB00016-01</th>\n",
       "      <th>...</th>\n",
       "      <th>PB00592-01</th>\n",
       "      <th>PB00599-01</th>\n",
       "      <th>PB00600-01</th>\n",
       "      <th>PB00602-01</th>\n",
       "      <th>PB00621-01</th>\n",
       "      <th>PB00623-01</th>\n",
       "      <th>PB00625-02</th>\n",
       "      <th>PB00645-01</th>\n",
       "      <th>PB01425-01</th>\n",
       "      <th>PB01446-01</th>\n",
       "    </tr>\n",
       "  </thead>\n",
       "  <tbody>\n",
       "    <tr>\n",
       "      <th>MIR1302-2HG</th>\n",
       "      <td>0.0</td>\n",
       "      <td>0.0</td>\n",
       "      <td>0.0</td>\n",
       "      <td>0.0</td>\n",
       "      <td>0.0</td>\n",
       "      <td>0.0</td>\n",
       "      <td>0.0</td>\n",
       "      <td>0.0</td>\n",
       "      <td>0.0</td>\n",
       "      <td>0.0</td>\n",
       "      <td>...</td>\n",
       "      <td>0.0</td>\n",
       "      <td>0.0</td>\n",
       "      <td>0.0</td>\n",
       "      <td>0.0</td>\n",
       "      <td>0.0</td>\n",
       "      <td>0.0</td>\n",
       "      <td>0.0</td>\n",
       "      <td>0.0</td>\n",
       "      <td>0.0</td>\n",
       "      <td>0.0</td>\n",
       "    </tr>\n",
       "    <tr>\n",
       "      <th>FAM138A</th>\n",
       "      <td>0.0</td>\n",
       "      <td>0.0</td>\n",
       "      <td>0.0</td>\n",
       "      <td>0.0</td>\n",
       "      <td>0.0</td>\n",
       "      <td>0.0</td>\n",
       "      <td>0.0</td>\n",
       "      <td>0.0</td>\n",
       "      <td>0.0</td>\n",
       "      <td>0.0</td>\n",
       "      <td>...</td>\n",
       "      <td>0.0</td>\n",
       "      <td>0.0</td>\n",
       "      <td>0.0</td>\n",
       "      <td>0.0</td>\n",
       "      <td>0.0</td>\n",
       "      <td>0.0</td>\n",
       "      <td>0.0</td>\n",
       "      <td>0.0</td>\n",
       "      <td>0.0</td>\n",
       "      <td>0.0</td>\n",
       "    </tr>\n",
       "  </tbody>\n",
       "</table>\n",
       "<p>2 rows × 92 columns</p>\n",
       "</div>"
      ],
      "text/plain": [
       "             PB00001-01  PB00002-01  PB00003-01  PB00004-01  PB00006-01  \\\n",
       "MIR1302-2HG         0.0         0.0         0.0         0.0         0.0   \n",
       "FAM138A             0.0         0.0         0.0         0.0         0.0   \n",
       "\n",
       "             PB00010-02  PB00012-01  PB00014-01  PB00015-01  PB00016-01  ...  \\\n",
       "MIR1302-2HG         0.0         0.0         0.0         0.0         0.0  ...   \n",
       "FAM138A             0.0         0.0         0.0         0.0         0.0  ...   \n",
       "\n",
       "             PB00592-01  PB00599-01  PB00600-01  PB00602-01  PB00621-01  \\\n",
       "MIR1302-2HG         0.0         0.0         0.0         0.0         0.0   \n",
       "FAM138A             0.0         0.0         0.0         0.0         0.0   \n",
       "\n",
       "             PB00623-01  PB00625-02  PB00645-01  PB01425-01  PB01446-01  \n",
       "MIR1302-2HG         0.0         0.0         0.0         0.0         0.0  \n",
       "FAM138A             0.0         0.0         0.0         0.0         0.0  \n",
       "\n",
       "[2 rows x 92 columns]"
      ]
     },
     "execution_count": 14,
     "metadata": {},
     "output_type": "execute_result"
    }
   ],
   "source": [
    "Il1b_mean.head(n=2)"
   ]
  },
  {
   "cell_type": "code",
   "execution_count": 15,
   "id": "413c2be2-2939-47fa-87c2-486e0cc3f103",
   "metadata": {
    "tags": []
   },
   "outputs": [
    {
     "data": {
      "text/plain": [
       "Index(['MIR1302-2HG', 'FAM138A', 'OR4F5', 'AL627309.1', 'AL627309.3',\n",
       "       'AL627309.2', 'AL627309.4', 'AL732372.1', 'OR4F29', 'AC114498.1',\n",
       "       ...\n",
       "       'AC007325.2', 'BX072566.1', 'AL354822.1', 'AC023491.2', 'AC004556.1',\n",
       "       'AC233755.2', 'AC233755.1', 'AC240274.1', 'AC213203.1', 'FAM231C'],\n",
       "      dtype='object', length=33538)"
      ]
     },
     "execution_count": 15,
     "metadata": {},
     "output_type": "execute_result"
    }
   ],
   "source": [
    "Il1b_mean.index"
   ]
  },
  {
   "cell_type": "code",
   "execution_count": 16,
   "id": "f7e79a7e-a764-4633-9553-2687d410a34f",
   "metadata": {
    "tags": []
   },
   "outputs": [
    {
     "data": {
      "text/html": [
       "<div>\n",
       "<style scoped>\n",
       "    .dataframe tbody tr th:only-of-type {\n",
       "        vertical-align: middle;\n",
       "    }\n",
       "\n",
       "    .dataframe tbody tr th {\n",
       "        vertical-align: top;\n",
       "    }\n",
       "\n",
       "    .dataframe thead th {\n",
       "        text-align: right;\n",
       "    }\n",
       "</style>\n",
       "<table border=\"1\" class=\"dataframe\">\n",
       "  <thead>\n",
       "    <tr style=\"text-align: right;\">\n",
       "      <th></th>\n",
       "      <th>PB00001-01</th>\n",
       "      <th>PB00002-01</th>\n",
       "      <th>PB00003-01</th>\n",
       "      <th>PB00004-01</th>\n",
       "      <th>PB00006-01</th>\n",
       "      <th>PB00010-02</th>\n",
       "      <th>PB00012-01</th>\n",
       "      <th>PB00014-01</th>\n",
       "      <th>PB00015-01</th>\n",
       "      <th>PB00016-01</th>\n",
       "      <th>...</th>\n",
       "      <th>PB00592-01</th>\n",
       "      <th>PB00599-01</th>\n",
       "      <th>PB00600-01</th>\n",
       "      <th>PB00602-01</th>\n",
       "      <th>PB00621-01</th>\n",
       "      <th>PB00623-01</th>\n",
       "      <th>PB00625-02</th>\n",
       "      <th>PB00645-01</th>\n",
       "      <th>PB01425-01</th>\n",
       "      <th>PB01446-01</th>\n",
       "    </tr>\n",
       "  </thead>\n",
       "  <tbody>\n",
       "    <tr>\n",
       "      <th>MIR1302-2HG</th>\n",
       "      <td>0.0</td>\n",
       "      <td>0.0</td>\n",
       "      <td>0.0</td>\n",
       "      <td>0.0</td>\n",
       "      <td>0.0</td>\n",
       "      <td>0.0</td>\n",
       "      <td>0.0</td>\n",
       "      <td>0.0</td>\n",
       "      <td>0.0</td>\n",
       "      <td>0.0</td>\n",
       "      <td>...</td>\n",
       "      <td>0.0</td>\n",
       "      <td>0.0</td>\n",
       "      <td>0.0</td>\n",
       "      <td>0.0</td>\n",
       "      <td>0.0</td>\n",
       "      <td>0.0</td>\n",
       "      <td>0.0</td>\n",
       "      <td>0.0</td>\n",
       "      <td>0.0</td>\n",
       "      <td>0.0</td>\n",
       "    </tr>\n",
       "    <tr>\n",
       "      <th>FAM138A</th>\n",
       "      <td>0.0</td>\n",
       "      <td>0.0</td>\n",
       "      <td>0.0</td>\n",
       "      <td>0.0</td>\n",
       "      <td>0.0</td>\n",
       "      <td>0.0</td>\n",
       "      <td>0.0</td>\n",
       "      <td>0.0</td>\n",
       "      <td>0.0</td>\n",
       "      <td>0.0</td>\n",
       "      <td>...</td>\n",
       "      <td>0.0</td>\n",
       "      <td>0.0</td>\n",
       "      <td>0.0</td>\n",
       "      <td>0.0</td>\n",
       "      <td>0.0</td>\n",
       "      <td>0.0</td>\n",
       "      <td>0.0</td>\n",
       "      <td>0.0</td>\n",
       "      <td>0.0</td>\n",
       "      <td>0.0</td>\n",
       "    </tr>\n",
       "  </tbody>\n",
       "</table>\n",
       "<p>2 rows × 92 columns</p>\n",
       "</div>"
      ],
      "text/plain": [
       "             PB00001-01  PB00002-01  PB00003-01  PB00004-01  PB00006-01  \\\n",
       "MIR1302-2HG         0.0         0.0         0.0         0.0         0.0   \n",
       "FAM138A             0.0         0.0         0.0         0.0         0.0   \n",
       "\n",
       "             PB00010-02  PB00012-01  PB00014-01  PB00015-01  PB00016-01  ...  \\\n",
       "MIR1302-2HG         0.0         0.0         0.0         0.0         0.0  ...   \n",
       "FAM138A             0.0         0.0         0.0         0.0         0.0  ...   \n",
       "\n",
       "             PB00592-01  PB00599-01  PB00600-01  PB00602-01  PB00621-01  \\\n",
       "MIR1302-2HG         0.0         0.0         0.0         0.0         0.0   \n",
       "FAM138A             0.0         0.0         0.0         0.0         0.0   \n",
       "\n",
       "             PB00623-01  PB00625-02  PB00645-01  PB01425-01  PB01446-01  \n",
       "MIR1302-2HG         0.0         0.0         0.0         0.0         0.0  \n",
       "FAM138A             0.0         0.0         0.0         0.0         0.0  \n",
       "\n",
       "[2 rows x 92 columns]"
      ]
     },
     "execution_count": 16,
     "metadata": {},
     "output_type": "execute_result"
    }
   ],
   "source": [
    "Il1b_mean.head(n=2)"
   ]
  },
  {
   "cell_type": "code",
   "execution_count": 17,
   "id": "eea2a7f9-5f8a-4edb-aaf0-bfb559a00f8c",
   "metadata": {
    "tags": []
   },
   "outputs": [
    {
     "data": {
      "text/html": [
       "<div>\n",
       "<style scoped>\n",
       "    .dataframe tbody tr th:only-of-type {\n",
       "        vertical-align: middle;\n",
       "    }\n",
       "\n",
       "    .dataframe tbody tr th {\n",
       "        vertical-align: top;\n",
       "    }\n",
       "\n",
       "    .dataframe thead th {\n",
       "        text-align: right;\n",
       "    }\n",
       "</style>\n",
       "<table border=\"1\" class=\"dataframe\">\n",
       "  <thead>\n",
       "    <tr style=\"text-align: right;\">\n",
       "      <th></th>\n",
       "      <th>PB00001-01</th>\n",
       "      <th>PB00002-01</th>\n",
       "      <th>PB00003-01</th>\n",
       "      <th>PB00004-01</th>\n",
       "      <th>PB00006-01</th>\n",
       "      <th>PB00010-02</th>\n",
       "      <th>PB00012-01</th>\n",
       "      <th>PB00014-01</th>\n",
       "      <th>PB00015-01</th>\n",
       "      <th>PB00016-01</th>\n",
       "      <th>...</th>\n",
       "      <th>PB00592-01</th>\n",
       "      <th>PB00599-01</th>\n",
       "      <th>PB00600-01</th>\n",
       "      <th>PB00602-01</th>\n",
       "      <th>PB00621-01</th>\n",
       "      <th>PB00623-01</th>\n",
       "      <th>PB00625-02</th>\n",
       "      <th>PB00645-01</th>\n",
       "      <th>PB01425-01</th>\n",
       "      <th>PB01446-01</th>\n",
       "    </tr>\n",
       "  </thead>\n",
       "  <tbody>\n",
       "    <tr>\n",
       "      <th>XIST</th>\n",
       "      <td>1.317741</td>\n",
       "      <td>0.0</td>\n",
       "      <td>1.017979</td>\n",
       "      <td>0.123907</td>\n",
       "      <td>1.112311</td>\n",
       "      <td>0.0</td>\n",
       "      <td>1.325914</td>\n",
       "      <td>0.0</td>\n",
       "      <td>0.027976</td>\n",
       "      <td>1.182051</td>\n",
       "      <td>...</td>\n",
       "      <td>0.0</td>\n",
       "      <td>1.269727</td>\n",
       "      <td>0.029289</td>\n",
       "      <td>1.267816</td>\n",
       "      <td>1.456682</td>\n",
       "      <td>0.012763</td>\n",
       "      <td>0.0</td>\n",
       "      <td>1.459696</td>\n",
       "      <td>1.444735</td>\n",
       "      <td>0.0</td>\n",
       "    </tr>\n",
       "  </tbody>\n",
       "</table>\n",
       "<p>1 rows × 92 columns</p>\n",
       "</div>"
      ],
      "text/plain": [
       "      PB00001-01  PB00002-01  PB00003-01  PB00004-01  PB00006-01  PB00010-02  \\\n",
       "XIST    1.317741         0.0    1.017979    0.123907    1.112311         0.0   \n",
       "\n",
       "      PB00012-01  PB00014-01  PB00015-01  PB00016-01  ...  PB00592-01  \\\n",
       "XIST    1.325914         0.0    0.027976    1.182051  ...         0.0   \n",
       "\n",
       "      PB00599-01  PB00600-01  PB00602-01  PB00621-01  PB00623-01  PB00625-02  \\\n",
       "XIST    1.269727    0.029289    1.267816    1.456682    0.012763         0.0   \n",
       "\n",
       "      PB00645-01  PB01425-01  PB01446-01  \n",
       "XIST    1.459696    1.444735         0.0  \n",
       "\n",
       "[1 rows x 92 columns]"
      ]
     },
     "execution_count": 17,
     "metadata": {},
     "output_type": "execute_result"
    }
   ],
   "source": [
    "Il1b_mean[Il1b_mean.index=='XIST']"
   ]
  },
  {
   "cell_type": "code",
   "execution_count": 18,
   "id": "d96568fb-1cf9-4e7f-8a78-96e4453980b3",
   "metadata": {
    "tags": []
   },
   "outputs": [],
   "source": [
    "# Save DataFrame to CSV\n",
    "Il1b_mean.to_csv('IL1B_CD14_mono_Heatmap_expression_matrix_unscaled.csv')"
   ]
  },
  {
   "cell_type": "code",
   "execution_count": null,
   "id": "ed60b5fa-9abd-48ae-b1d2-373f3e5c2e0c",
   "metadata": {},
   "outputs": [],
   "source": []
  },
  {
   "cell_type": "markdown",
   "id": "d9a160ef-2a34-4213-9cf5-9589764dc853",
   "metadata": {
    "jp-MarkdownHeadingCollapsed": true,
    "tags": []
   },
   "source": [
    "## ISG+ CD14 mono"
   ]
  },
  {
   "cell_type": "code",
   "execution_count": 275,
   "id": "7f87c449-1911-4b53-9a25-1cc5d7ea6be4",
   "metadata": {
    "tags": []
   },
   "outputs": [
    {
     "data": {
      "text/plain": [
       "AnnData object with n_obs × n_vars = 46674 × 1612\n",
       "    obs: 'barcodes', 'batch_id', 'cell_name', 'cell_uuid', 'chip_id', 'hto_barcode', 'hto_category', 'n_genes', 'n_mito_umis', 'n_reads', 'n_umis', 'original_barcodes', 'pbmc_sample_id', 'pool_id', 'seurat_pbmc_type', 'seurat_pbmc_type_score', 'umap_1', 'umap_2', 'well_id', 'subject.biologicalSex', 'subject.ethnicity', 'subject.partnerCode', 'subject.race', 'subject.subjectGuid', 'cohort.cohortGuid', 'sample.visitName', 'sample.visitDetails', 'subject.birthYear', 'CMV.IgG.Serology.Result.Interpretation', 'BMI', 'predicted_doublet', 'doublet_score', 'AIFI_L1', 'AIFI_L2', 'AIFI_L3', 'AIFI_L3.5', 'n_genes_by_counts', 'log1p_n_genes_by_counts', 'total_counts', 'log1p_total_counts', 'pct_counts_in_top_50_genes', 'pct_counts_in_top_100_genes', 'pct_counts_in_top_200_genes', 'pct_counts_in_top_500_genes', 'total_counts_mito', 'log1p_total_counts_mito', 'pct_counts_mito', 'leiden_resolution_0.5', 'leiden_resolution_1', 'leiden_resolution_1.5', 'leiden_resolution_2'\n",
       "    var: 'highly_variable', 'means', 'dispersions', 'dispersions_norm', 'mean', 'std'\n",
       "    uns: 'hvg', 'log1p', 'neighbors', 'pca', 'umap'\n",
       "    obsm: 'X_pca', 'X_pca_harmony', 'X_umap'\n",
       "    varm: 'PCs'\n",
       "    layers: 'counts'\n",
       "    obsp: 'connectivities', 'distances'"
      ]
     },
     "execution_count": 275,
     "metadata": {},
     "output_type": "execute_result"
    }
   ],
   "source": [
    "adata = sc.read ('/home/jupyter/Myeloid_cells/files/ISG_CD14_Mono_ONLY_FluYr1D0_processed_04232024.h5ad')\n",
    "adata"
   ]
  },
  {
   "cell_type": "code",
   "execution_count": 276,
   "id": "6f4f46c1-9841-4dae-8d60-082aa8d141fd",
   "metadata": {
    "tags": []
   },
   "outputs": [
    {
     "data": {
      "text/plain": [
       "array([[-0.14978677, -1.4712468 , -0.16275787, ...,  1.2290059 ,\n",
       "        -0.4248307 , -0.18418956],\n",
       "       [-0.14978677,  0.25649658, -0.16275787, ..., -1.6664636 ,\n",
       "         2.6452103 , -0.18418956],\n",
       "       [-0.14978677,  2.0311534 , -0.16275787, ...,  0.76805377,\n",
       "        -0.4248307 , -0.18418956],\n",
       "       ...,\n",
       "       [-0.14978677,  0.00954417, -0.16275787, ...,  0.516612  ,\n",
       "         2.120113  , -0.18418956],\n",
       "       [-0.14978677,  0.45853797, -0.16275787, ..., -0.8786796 ,\n",
       "         1.2826743 , -0.18418956],\n",
       "       [-0.14978677,  1.2236404 , -0.16275787, ..., -0.04266801,\n",
       "        -0.4248307 , -0.18418956]], dtype=float32)"
      ]
     },
     "execution_count": 276,
     "metadata": {},
     "output_type": "execute_result"
    }
   ],
   "source": [
    "adata.X"
   ]
  },
  {
   "cell_type": "code",
   "execution_count": 210,
   "id": "4d34540b-4fca-486e-9667-0346c8b9dd40",
   "metadata": {
    "tags": []
   },
   "outputs": [],
   "source": [
    "#adata_filt.obs.rename(columns={\"pbmc_sample_id\": \"pbmc_sample_id\"}, inplace=True)"
   ]
  },
  {
   "cell_type": "code",
   "execution_count": 211,
   "id": "7519b359-cd2c-4fa9-a6ef-ad34d620be62",
   "metadata": {
    "tags": []
   },
   "outputs": [],
   "source": [
    "#adata_filt.obs.rename(columns={\"CMV.IgG.Serology.Result.Interpretation\": \"CMV\"}, inplace=True)"
   ]
  },
  {
   "cell_type": "code",
   "execution_count": 212,
   "id": "0646add5-14b0-4801-8b73-5967d3d12e30",
   "metadata": {
    "tags": []
   },
   "outputs": [],
   "source": [
    "#adata_filt.obs.rename(columns={\"cohort.cohortGuid\": \"Age\"}, inplace=True)"
   ]
  },
  {
   "cell_type": "code",
   "execution_count": 223,
   "id": "17215ec3-59c3-411a-a1af-c5273721496e",
   "metadata": {
    "tags": []
   },
   "outputs": [],
   "source": [
    "# import pandas as pd\n",
    "\n",
    "# # Assuming adata.X is your expression matrix\n",
    "# # Assuming adata has row names and column names\n",
    "\n",
    "# # Convert adata.X to a DataFrame\n",
    "# expression_df = pd.DataFrame(adata.X, index=adata.obs.index, columns=adata.var.index)\n",
    "\n",
    "# # Save DataFrame to CSV\n",
    "# expression_df.to_csv('Heatmap_expression_matrix_v1.csv')\n"
   ]
  },
  {
   "cell_type": "code",
   "execution_count": 225,
   "id": "a30a3b96-714b-4d85-8fae-e7bbddcb642e",
   "metadata": {
    "collapsed": true,
    "jupyter": {
     "outputs_hidden": true
    },
    "tags": []
   },
   "outputs": [
    {
     "data": {
      "text/html": [
       "<div>\n",
       "<style scoped>\n",
       "    .dataframe tbody tr th:only-of-type {\n",
       "        vertical-align: middle;\n",
       "    }\n",
       "\n",
       "    .dataframe tbody tr th {\n",
       "        vertical-align: top;\n",
       "    }\n",
       "\n",
       "    .dataframe thead th {\n",
       "        text-align: right;\n",
       "    }\n",
       "</style>\n",
       "<table border=\"1\" class=\"dataframe\">\n",
       "  <thead>\n",
       "    <tr style=\"text-align: right;\">\n",
       "      <th></th>\n",
       "      <th>FAM41C</th>\n",
       "      <th>KLHL17</th>\n",
       "      <th>HES4</th>\n",
       "      <th>ISG15</th>\n",
       "      <th>C1orf159</th>\n",
       "      <th>C1QTNF12</th>\n",
       "      <th>AL162741.1</th>\n",
       "      <th>SCNN1D</th>\n",
       "      <th>ACAP3</th>\n",
       "      <th>MXRA8</th>\n",
       "      <th>...</th>\n",
       "      <th>MT-ND1</th>\n",
       "      <th>MT-ND2</th>\n",
       "      <th>MT-CO2</th>\n",
       "      <th>MT-ATP6</th>\n",
       "      <th>MT-CO3</th>\n",
       "      <th>MT-ND3</th>\n",
       "      <th>MT-ND4L</th>\n",
       "      <th>MT-ND4</th>\n",
       "      <th>MT-CYB</th>\n",
       "      <th>AC240274.1</th>\n",
       "    </tr>\n",
       "    <tr>\n",
       "      <th>barcodes</th>\n",
       "      <th></th>\n",
       "      <th></th>\n",
       "      <th></th>\n",
       "      <th></th>\n",
       "      <th></th>\n",
       "      <th></th>\n",
       "      <th></th>\n",
       "      <th></th>\n",
       "      <th></th>\n",
       "      <th></th>\n",
       "      <th></th>\n",
       "      <th></th>\n",
       "      <th></th>\n",
       "      <th></th>\n",
       "      <th></th>\n",
       "      <th></th>\n",
       "      <th></th>\n",
       "      <th></th>\n",
       "      <th></th>\n",
       "      <th></th>\n",
       "      <th></th>\n",
       "    </tr>\n",
       "  </thead>\n",
       "  <tbody>\n",
       "    <tr>\n",
       "      <th>cfb4162a48b611ea8957bafe6d70929e</th>\n",
       "      <td>-0.132573</td>\n",
       "      <td>-0.113268</td>\n",
       "      <td>-0.192298</td>\n",
       "      <td>-0.661028</td>\n",
       "      <td>-0.176591</td>\n",
       "      <td>-0.077332</td>\n",
       "      <td>-0.05456</td>\n",
       "      <td>-0.053848</td>\n",
       "      <td>-0.328429</td>\n",
       "      <td>-0.022134</td>\n",
       "      <td>...</td>\n",
       "      <td>1.325860</td>\n",
       "      <td>0.731614</td>\n",
       "      <td>0.836299</td>\n",
       "      <td>1.340946</td>\n",
       "      <td>0.742673</td>\n",
       "      <td>1.439619</td>\n",
       "      <td>0.713853</td>\n",
       "      <td>1.086478</td>\n",
       "      <td>-0.067385</td>\n",
       "      <td>-0.156928</td>\n",
       "    </tr>\n",
       "    <tr>\n",
       "      <th>70ab258848b611eaa65d9e7d578d66f2</th>\n",
       "      <td>-0.132573</td>\n",
       "      <td>-0.113268</td>\n",
       "      <td>-0.192298</td>\n",
       "      <td>-0.661028</td>\n",
       "      <td>4.546874</td>\n",
       "      <td>-0.077332</td>\n",
       "      <td>-0.05456</td>\n",
       "      <td>-0.053848</td>\n",
       "      <td>-0.328429</td>\n",
       "      <td>-0.022134</td>\n",
       "      <td>...</td>\n",
       "      <td>-1.189309</td>\n",
       "      <td>-0.481571</td>\n",
       "      <td>-0.535567</td>\n",
       "      <td>-0.834956</td>\n",
       "      <td>-0.465425</td>\n",
       "      <td>-1.024485</td>\n",
       "      <td>0.202755</td>\n",
       "      <td>-0.327291</td>\n",
       "      <td>-0.668048</td>\n",
       "      <td>-0.156928</td>\n",
       "    </tr>\n",
       "    <tr>\n",
       "      <th>70acf29648b611eaa65d9e7d578d66f2</th>\n",
       "      <td>-0.132573</td>\n",
       "      <td>-0.113268</td>\n",
       "      <td>-0.192298</td>\n",
       "      <td>1.294230</td>\n",
       "      <td>-0.176591</td>\n",
       "      <td>-0.077332</td>\n",
       "      <td>-0.05456</td>\n",
       "      <td>-0.053848</td>\n",
       "      <td>-0.328429</td>\n",
       "      <td>-0.022134</td>\n",
       "      <td>...</td>\n",
       "      <td>0.252301</td>\n",
       "      <td>-0.473989</td>\n",
       "      <td>0.144703</td>\n",
       "      <td>0.668496</td>\n",
       "      <td>-0.065128</td>\n",
       "      <td>-0.019105</td>\n",
       "      <td>-0.418068</td>\n",
       "      <td>0.751750</td>\n",
       "      <td>0.169085</td>\n",
       "      <td>-0.156928</td>\n",
       "    </tr>\n",
       "    <tr>\n",
       "      <th>70d2b34648b611eaa65d9e7d578d66f2</th>\n",
       "      <td>-0.132573</td>\n",
       "      <td>-0.113268</td>\n",
       "      <td>-0.192298</td>\n",
       "      <td>-0.661028</td>\n",
       "      <td>-0.176591</td>\n",
       "      <td>-0.077332</td>\n",
       "      <td>-0.05456</td>\n",
       "      <td>-0.053848</td>\n",
       "      <td>-0.328429</td>\n",
       "      <td>-0.022134</td>\n",
       "      <td>...</td>\n",
       "      <td>1.358938</td>\n",
       "      <td>-0.032474</td>\n",
       "      <td>-1.037922</td>\n",
       "      <td>0.739538</td>\n",
       "      <td>-0.204768</td>\n",
       "      <td>0.471638</td>\n",
       "      <td>0.094861</td>\n",
       "      <td>-0.397821</td>\n",
       "      <td>-1.446746</td>\n",
       "      <td>-0.156928</td>\n",
       "    </tr>\n",
       "    <tr>\n",
       "      <th>70d844f048b611eaa65d9e7d578d66f2</th>\n",
       "      <td>-0.132573</td>\n",
       "      <td>-0.113268</td>\n",
       "      <td>-0.192298</td>\n",
       "      <td>-0.661028</td>\n",
       "      <td>-0.176591</td>\n",
       "      <td>-0.077332</td>\n",
       "      <td>-0.05456</td>\n",
       "      <td>-0.053848</td>\n",
       "      <td>-0.328429</td>\n",
       "      <td>-0.022134</td>\n",
       "      <td>...</td>\n",
       "      <td>-0.771742</td>\n",
       "      <td>-2.176364</td>\n",
       "      <td>-0.749368</td>\n",
       "      <td>-0.869467</td>\n",
       "      <td>-1.302776</td>\n",
       "      <td>-0.020604</td>\n",
       "      <td>-1.730623</td>\n",
       "      <td>-0.394766</td>\n",
       "      <td>-1.223874</td>\n",
       "      <td>-0.156928</td>\n",
       "    </tr>\n",
       "    <tr>\n",
       "      <th>...</th>\n",
       "      <td>...</td>\n",
       "      <td>...</td>\n",
       "      <td>...</td>\n",
       "      <td>...</td>\n",
       "      <td>...</td>\n",
       "      <td>...</td>\n",
       "      <td>...</td>\n",
       "      <td>...</td>\n",
       "      <td>...</td>\n",
       "      <td>...</td>\n",
       "      <td>...</td>\n",
       "      <td>...</td>\n",
       "      <td>...</td>\n",
       "      <td>...</td>\n",
       "      <td>...</td>\n",
       "      <td>...</td>\n",
       "      <td>...</td>\n",
       "      <td>...</td>\n",
       "      <td>...</td>\n",
       "      <td>...</td>\n",
       "      <td>...</td>\n",
       "    </tr>\n",
       "    <tr>\n",
       "      <th>4fcaf786286511ec8c0d4aaa4b9002e8</th>\n",
       "      <td>-0.132573</td>\n",
       "      <td>-0.113268</td>\n",
       "      <td>-0.192298</td>\n",
       "      <td>1.622779</td>\n",
       "      <td>-0.176591</td>\n",
       "      <td>-0.077332</td>\n",
       "      <td>-0.05456</td>\n",
       "      <td>-0.053848</td>\n",
       "      <td>-0.328429</td>\n",
       "      <td>-0.022134</td>\n",
       "      <td>...</td>\n",
       "      <td>0.463961</td>\n",
       "      <td>0.536566</td>\n",
       "      <td>-1.310432</td>\n",
       "      <td>1.173958</td>\n",
       "      <td>0.229070</td>\n",
       "      <td>0.430827</td>\n",
       "      <td>0.022275</td>\n",
       "      <td>0.371624</td>\n",
       "      <td>0.106982</td>\n",
       "      <td>-0.156928</td>\n",
       "    </tr>\n",
       "    <tr>\n",
       "      <th>ce432b48286411eca744faae388e9f17</th>\n",
       "      <td>-0.132573</td>\n",
       "      <td>-0.113268</td>\n",
       "      <td>-0.192298</td>\n",
       "      <td>1.051977</td>\n",
       "      <td>-0.176591</td>\n",
       "      <td>-0.077332</td>\n",
       "      <td>-0.05456</td>\n",
       "      <td>-0.053848</td>\n",
       "      <td>-0.328429</td>\n",
       "      <td>-0.022134</td>\n",
       "      <td>...</td>\n",
       "      <td>1.198795</td>\n",
       "      <td>0.391518</td>\n",
       "      <td>0.622304</td>\n",
       "      <td>1.493538</td>\n",
       "      <td>0.150514</td>\n",
       "      <td>1.332110</td>\n",
       "      <td>-0.063872</td>\n",
       "      <td>0.706557</td>\n",
       "      <td>0.251596</td>\n",
       "      <td>-0.156928</td>\n",
       "    </tr>\n",
       "    <tr>\n",
       "      <th>fbe4aa18286411ecb1698ec288c6fba6</th>\n",
       "      <td>-0.132573</td>\n",
       "      <td>-0.113268</td>\n",
       "      <td>-0.192298</td>\n",
       "      <td>2.229014</td>\n",
       "      <td>-0.176591</td>\n",
       "      <td>-0.077332</td>\n",
       "      <td>-0.05456</td>\n",
       "      <td>-0.053848</td>\n",
       "      <td>-0.328429</td>\n",
       "      <td>-0.022134</td>\n",
       "      <td>...</td>\n",
       "      <td>0.958758</td>\n",
       "      <td>1.280242</td>\n",
       "      <td>0.750380</td>\n",
       "      <td>0.253745</td>\n",
       "      <td>0.563532</td>\n",
       "      <td>1.755917</td>\n",
       "      <td>0.487581</td>\n",
       "      <td>0.843975</td>\n",
       "      <td>0.123364</td>\n",
       "      <td>-0.156928</td>\n",
       "    </tr>\n",
       "    <tr>\n",
       "      <th>03c5255a286511ec8289ca5980196c9c</th>\n",
       "      <td>-0.132573</td>\n",
       "      <td>-0.113268</td>\n",
       "      <td>-0.192298</td>\n",
       "      <td>1.707325</td>\n",
       "      <td>-0.176591</td>\n",
       "      <td>-0.077332</td>\n",
       "      <td>-0.05456</td>\n",
       "      <td>-0.053848</td>\n",
       "      <td>-0.328429</td>\n",
       "      <td>-0.022134</td>\n",
       "      <td>...</td>\n",
       "      <td>0.786495</td>\n",
       "      <td>0.486685</td>\n",
       "      <td>0.126109</td>\n",
       "      <td>1.119277</td>\n",
       "      <td>-0.492053</td>\n",
       "      <td>1.279174</td>\n",
       "      <td>-0.806702</td>\n",
       "      <td>0.384777</td>\n",
       "      <td>0.369796</td>\n",
       "      <td>-0.156928</td>\n",
       "    </tr>\n",
       "    <tr>\n",
       "      <th>91f8844a286311ecabc39e0459bddc54</th>\n",
       "      <td>-0.132573</td>\n",
       "      <td>-0.113268</td>\n",
       "      <td>-0.192298</td>\n",
       "      <td>3.324033</td>\n",
       "      <td>-0.176591</td>\n",
       "      <td>-0.077332</td>\n",
       "      <td>-0.05456</td>\n",
       "      <td>-0.053848</td>\n",
       "      <td>-0.328429</td>\n",
       "      <td>-0.022134</td>\n",
       "      <td>...</td>\n",
       "      <td>-0.122227</td>\n",
       "      <td>0.093515</td>\n",
       "      <td>-0.260421</td>\n",
       "      <td>0.857848</td>\n",
       "      <td>-0.560291</td>\n",
       "      <td>0.419610</td>\n",
       "      <td>-0.415456</td>\n",
       "      <td>0.673279</td>\n",
       "      <td>-0.344862</td>\n",
       "      <td>-0.156928</td>\n",
       "    </tr>\n",
       "  </tbody>\n",
       "</table>\n",
       "<p>2679 rows × 3000 columns</p>\n",
       "</div>"
      ],
      "text/plain": [
       "                                    FAM41C    KLHL17      HES4     ISG15  \\\n",
       "barcodes                                                                   \n",
       "cfb4162a48b611ea8957bafe6d70929e -0.132573 -0.113268 -0.192298 -0.661028   \n",
       "70ab258848b611eaa65d9e7d578d66f2 -0.132573 -0.113268 -0.192298 -0.661028   \n",
       "70acf29648b611eaa65d9e7d578d66f2 -0.132573 -0.113268 -0.192298  1.294230   \n",
       "70d2b34648b611eaa65d9e7d578d66f2 -0.132573 -0.113268 -0.192298 -0.661028   \n",
       "70d844f048b611eaa65d9e7d578d66f2 -0.132573 -0.113268 -0.192298 -0.661028   \n",
       "...                                    ...       ...       ...       ...   \n",
       "4fcaf786286511ec8c0d4aaa4b9002e8 -0.132573 -0.113268 -0.192298  1.622779   \n",
       "ce432b48286411eca744faae388e9f17 -0.132573 -0.113268 -0.192298  1.051977   \n",
       "fbe4aa18286411ecb1698ec288c6fba6 -0.132573 -0.113268 -0.192298  2.229014   \n",
       "03c5255a286511ec8289ca5980196c9c -0.132573 -0.113268 -0.192298  1.707325   \n",
       "91f8844a286311ecabc39e0459bddc54 -0.132573 -0.113268 -0.192298  3.324033   \n",
       "\n",
       "                                  C1orf159  C1QTNF12  AL162741.1    SCNN1D  \\\n",
       "barcodes                                                                     \n",
       "cfb4162a48b611ea8957bafe6d70929e -0.176591 -0.077332    -0.05456 -0.053848   \n",
       "70ab258848b611eaa65d9e7d578d66f2  4.546874 -0.077332    -0.05456 -0.053848   \n",
       "70acf29648b611eaa65d9e7d578d66f2 -0.176591 -0.077332    -0.05456 -0.053848   \n",
       "70d2b34648b611eaa65d9e7d578d66f2 -0.176591 -0.077332    -0.05456 -0.053848   \n",
       "70d844f048b611eaa65d9e7d578d66f2 -0.176591 -0.077332    -0.05456 -0.053848   \n",
       "...                                    ...       ...         ...       ...   \n",
       "4fcaf786286511ec8c0d4aaa4b9002e8 -0.176591 -0.077332    -0.05456 -0.053848   \n",
       "ce432b48286411eca744faae388e9f17 -0.176591 -0.077332    -0.05456 -0.053848   \n",
       "fbe4aa18286411ecb1698ec288c6fba6 -0.176591 -0.077332    -0.05456 -0.053848   \n",
       "03c5255a286511ec8289ca5980196c9c -0.176591 -0.077332    -0.05456 -0.053848   \n",
       "91f8844a286311ecabc39e0459bddc54 -0.176591 -0.077332    -0.05456 -0.053848   \n",
       "\n",
       "                                     ACAP3     MXRA8  ...    MT-ND1    MT-ND2  \\\n",
       "barcodes                                              ...                       \n",
       "cfb4162a48b611ea8957bafe6d70929e -0.328429 -0.022134  ...  1.325860  0.731614   \n",
       "70ab258848b611eaa65d9e7d578d66f2 -0.328429 -0.022134  ... -1.189309 -0.481571   \n",
       "70acf29648b611eaa65d9e7d578d66f2 -0.328429 -0.022134  ...  0.252301 -0.473989   \n",
       "70d2b34648b611eaa65d9e7d578d66f2 -0.328429 -0.022134  ...  1.358938 -0.032474   \n",
       "70d844f048b611eaa65d9e7d578d66f2 -0.328429 -0.022134  ... -0.771742 -2.176364   \n",
       "...                                    ...       ...  ...       ...       ...   \n",
       "4fcaf786286511ec8c0d4aaa4b9002e8 -0.328429 -0.022134  ...  0.463961  0.536566   \n",
       "ce432b48286411eca744faae388e9f17 -0.328429 -0.022134  ...  1.198795  0.391518   \n",
       "fbe4aa18286411ecb1698ec288c6fba6 -0.328429 -0.022134  ...  0.958758  1.280242   \n",
       "03c5255a286511ec8289ca5980196c9c -0.328429 -0.022134  ...  0.786495  0.486685   \n",
       "91f8844a286311ecabc39e0459bddc54 -0.328429 -0.022134  ... -0.122227  0.093515   \n",
       "\n",
       "                                    MT-CO2   MT-ATP6    MT-CO3    MT-ND3  \\\n",
       "barcodes                                                                   \n",
       "cfb4162a48b611ea8957bafe6d70929e  0.836299  1.340946  0.742673  1.439619   \n",
       "70ab258848b611eaa65d9e7d578d66f2 -0.535567 -0.834956 -0.465425 -1.024485   \n",
       "70acf29648b611eaa65d9e7d578d66f2  0.144703  0.668496 -0.065128 -0.019105   \n",
       "70d2b34648b611eaa65d9e7d578d66f2 -1.037922  0.739538 -0.204768  0.471638   \n",
       "70d844f048b611eaa65d9e7d578d66f2 -0.749368 -0.869467 -1.302776 -0.020604   \n",
       "...                                    ...       ...       ...       ...   \n",
       "4fcaf786286511ec8c0d4aaa4b9002e8 -1.310432  1.173958  0.229070  0.430827   \n",
       "ce432b48286411eca744faae388e9f17  0.622304  1.493538  0.150514  1.332110   \n",
       "fbe4aa18286411ecb1698ec288c6fba6  0.750380  0.253745  0.563532  1.755917   \n",
       "03c5255a286511ec8289ca5980196c9c  0.126109  1.119277 -0.492053  1.279174   \n",
       "91f8844a286311ecabc39e0459bddc54 -0.260421  0.857848 -0.560291  0.419610   \n",
       "\n",
       "                                   MT-ND4L    MT-ND4    MT-CYB  AC240274.1  \n",
       "barcodes                                                                    \n",
       "cfb4162a48b611ea8957bafe6d70929e  0.713853  1.086478 -0.067385   -0.156928  \n",
       "70ab258848b611eaa65d9e7d578d66f2  0.202755 -0.327291 -0.668048   -0.156928  \n",
       "70acf29648b611eaa65d9e7d578d66f2 -0.418068  0.751750  0.169085   -0.156928  \n",
       "70d2b34648b611eaa65d9e7d578d66f2  0.094861 -0.397821 -1.446746   -0.156928  \n",
       "70d844f048b611eaa65d9e7d578d66f2 -1.730623 -0.394766 -1.223874   -0.156928  \n",
       "...                                    ...       ...       ...         ...  \n",
       "4fcaf786286511ec8c0d4aaa4b9002e8  0.022275  0.371624  0.106982   -0.156928  \n",
       "ce432b48286411eca744faae388e9f17 -0.063872  0.706557  0.251596   -0.156928  \n",
       "fbe4aa18286411ecb1698ec288c6fba6  0.487581  0.843975  0.123364   -0.156928  \n",
       "03c5255a286511ec8289ca5980196c9c -0.806702  0.384777  0.369796   -0.156928  \n",
       "91f8844a286311ecabc39e0459bddc54 -0.415456  0.673279 -0.344862   -0.156928  \n",
       "\n",
       "[2679 rows x 3000 columns]"
      ]
     },
     "execution_count": 225,
     "metadata": {},
     "output_type": "execute_result"
    }
   ],
   "source": [
    "# expression_df"
   ]
  },
  {
   "cell_type": "code",
   "execution_count": 214,
   "id": "d6a86a2b-b46f-42a4-b9a4-0cb25762aeed",
   "metadata": {
    "tags": []
   },
   "outputs": [],
   "source": [
    "#adata.obs['unique_ID'] = adata.obs['pbmc_sample_id'].str.cat (adata.obs['subject.biologicalSex'], sep = \"_\").str.cat (adata.obs['cohort.cohortGuid'], sep = \"_\")"
   ]
  },
  {
   "cell_type": "code",
   "execution_count": 215,
   "id": "867ec203-7267-4f63-93b0-aaf985a1f411",
   "metadata": {
    "tags": []
   },
   "outputs": [],
   "source": [
    "#adata.obs['unique_ID'] = adata.obs['pbmc_sample_id']"
   ]
  },
  {
   "cell_type": "code",
   "execution_count": null,
   "id": "c4f5cfc9-87f6-4a14-8b8b-7294e5a0dbab",
   "metadata": {},
   "outputs": [],
   "source": []
  },
  {
   "cell_type": "code",
   "execution_count": 217,
   "id": "25ee7934-4a02-43a7-9f1e-3b3778f039e2",
   "metadata": {
    "tags": []
   },
   "outputs": [
    {
     "data": {
      "text/plain": [
       "['PB00001-01', 'PB00002-01', 'PB00003-01', 'PB00004-01', 'PB00006-01', ..., 'PB00623-01', 'PB00625-02', 'PB00645-01', 'PB01425-01', 'PB01446-01']\n",
       "Length: 92\n",
       "Categories (92, object): ['PB00001-01', 'PB00002-01', 'PB00003-01', 'PB00004-01', ..., 'PB00625-02', 'PB00645-01', 'PB01425-01', 'PB01446-01']"
      ]
     },
     "execution_count": 217,
     "metadata": {},
     "output_type": "execute_result"
    }
   ],
   "source": [
    "#adata.obs['unique_ID'].unique()"
   ]
  },
  {
   "cell_type": "code",
   "execution_count": 277,
   "id": "9373b36c-eace-4701-af1c-91427527b4e6",
   "metadata": {
    "tags": []
   },
   "outputs": [
    {
     "data": {
      "text/plain": [
       "['ISG+ CD14 monocyte']\n",
       "Categories (1, object): ['ISG+ CD14 monocyte']"
      ]
     },
     "execution_count": 277,
     "metadata": {},
     "output_type": "execute_result"
    }
   ],
   "source": [
    "adata.obs['AIFI_L3'].unique()"
   ]
  },
  {
   "cell_type": "code",
   "execution_count": 278,
   "id": "a59982f2-994d-4f62-9d57-4b6e963f7a74",
   "metadata": {
    "tags": []
   },
   "outputs": [],
   "source": [
    "adata.raw = adata"
   ]
  },
  {
   "cell_type": "code",
   "execution_count": 279,
   "id": "e1c8a0c8-c838-4329-8aeb-adbef45fb133",
   "metadata": {
    "tags": []
   },
   "outputs": [
    {
     "name": "stderr",
     "output_type": "stream",
     "text": [
      "/tmp/ipykernel_501/2632454361.py:1: FutureWarning: The default of observed=False is deprecated and will be changed to True in a future version of pandas. Pass observed=False to retain current behavior or observed=True to adopt the future default and silence this warning.\n",
      "  grouped = adata.obs.groupby(['pbmc_sample_id'])\n"
     ]
    }
   ],
   "source": [
    "grouped = adata.obs.groupby(['pbmc_sample_id'])"
   ]
  },
  {
   "cell_type": "code",
   "execution_count": 280,
   "id": "5f87c3e4-565c-4550-8f6a-e201722427de",
   "metadata": {
    "tags": []
   },
   "outputs": [],
   "source": [
    "#Not grouped\n",
    "\n",
    "def grouped_obs_mean(adata_filt, group_key, layer=None, gene_symbols=None):\n",
    "    if layer is not None:\n",
    "        getX = lambda x: x.layers[layer]\n",
    "    else:\n",
    "        getX = lambda x: x.X\n",
    "    if gene_symbols is not None:\n",
    "        new_idx = adata_filt.raw.var[idx]\n",
    "    else:\n",
    "        new_idx = adata_filt.raw.var_names\n",
    "    \n",
    "    grouped = adata_filt.obs.groupby(group_key)\n",
    "    \n",
    "    # Extract only pbmc_sample_id without additional alphabets\n",
    "    column_names = [group.split(':')[0] for group in grouped.groups.keys()]\n",
    "    \n",
    "    out = pd.DataFrame(\n",
    "        np.zeros((adata_filt.raw.shape[1], len(column_names)), dtype=np.float64),\n",
    "        columns=column_names,\n",
    "        index=adata_filt.raw.var_names\n",
    "    )\n",
    "    \n",
    "    for group, idx in grouped.indices.items():\n",
    "        X = getX(adata_filt.raw[idx])\n",
    "        out[group.split(':')[0]] = np.ravel(X.mean(axis=0, dtype=np.float64))\n",
    "    return out\n"
   ]
  },
  {
   "cell_type": "code",
   "execution_count": 281,
   "id": "f29433a3-926d-4504-850d-0b997dfe9105",
   "metadata": {
    "tags": []
   },
   "outputs": [
    {
     "name": "stderr",
     "output_type": "stream",
     "text": [
      "/tmp/ipykernel_501/3548609660.py:13: FutureWarning: The default of observed=False is deprecated and will be changed to True in a future version of pandas. Pass observed=False to retain current behavior or observed=True to adopt the future default and silence this warning.\n",
      "  grouped = adata_filt.obs.groupby(group_key)\n"
     ]
    }
   ],
   "source": [
    "Il1b_mean = grouped_obs_mean(adata, ['pbmc_sample_id'])"
   ]
  },
  {
   "cell_type": "code",
   "execution_count": 282,
   "id": "98c18ff7-4acd-4847-b3d2-59d9f32c0c34",
   "metadata": {
    "tags": []
   },
   "outputs": [
    {
     "data": {
      "text/plain": [
       "(1612, 92)"
      ]
     },
     "execution_count": 282,
     "metadata": {},
     "output_type": "execute_result"
    }
   ],
   "source": [
    "Il1b_mean.shape"
   ]
  },
  {
   "cell_type": "code",
   "execution_count": 283,
   "id": "1f40f509-4c82-4afd-bc4d-8a6df0cadcd9",
   "metadata": {
    "tags": []
   },
   "outputs": [
    {
     "data": {
      "text/html": [
       "<div>\n",
       "<style scoped>\n",
       "    .dataframe tbody tr th:only-of-type {\n",
       "        vertical-align: middle;\n",
       "    }\n",
       "\n",
       "    .dataframe tbody tr th {\n",
       "        vertical-align: top;\n",
       "    }\n",
       "\n",
       "    .dataframe thead th {\n",
       "        text-align: right;\n",
       "    }\n",
       "</style>\n",
       "<table border=\"1\" class=\"dataframe\">\n",
       "  <thead>\n",
       "    <tr style=\"text-align: right;\">\n",
       "      <th></th>\n",
       "      <th>PB00001-01</th>\n",
       "      <th>PB00002-01</th>\n",
       "      <th>PB00003-01</th>\n",
       "      <th>PB00004-01</th>\n",
       "      <th>PB00006-01</th>\n",
       "      <th>PB00010-02</th>\n",
       "      <th>PB00012-01</th>\n",
       "      <th>PB00014-01</th>\n",
       "      <th>PB00015-01</th>\n",
       "      <th>PB00016-01</th>\n",
       "      <th>...</th>\n",
       "      <th>PB00592-01</th>\n",
       "      <th>PB00599-01</th>\n",
       "      <th>PB00600-01</th>\n",
       "      <th>PB00602-01</th>\n",
       "      <th>PB00621-01</th>\n",
       "      <th>PB00623-01</th>\n",
       "      <th>PB00625-02</th>\n",
       "      <th>PB00645-01</th>\n",
       "      <th>PB01425-01</th>\n",
       "      <th>PB01446-01</th>\n",
       "    </tr>\n",
       "  </thead>\n",
       "  <tbody>\n",
       "    <tr>\n",
       "      <th>HES4</th>\n",
       "      <td>0.047857</td>\n",
       "      <td>-0.095355</td>\n",
       "      <td>0.120315</td>\n",
       "      <td>0.240782</td>\n",
       "      <td>-0.089685</td>\n",
       "      <td>-0.030261</td>\n",
       "      <td>-0.059296</td>\n",
       "      <td>-0.094901</td>\n",
       "      <td>-0.078299</td>\n",
       "      <td>-0.103496</td>\n",
       "      <td>...</td>\n",
       "      <td>-0.063296</td>\n",
       "      <td>-0.070026</td>\n",
       "      <td>-0.072048</td>\n",
       "      <td>0.226031</td>\n",
       "      <td>-0.102861</td>\n",
       "      <td>-0.004380</td>\n",
       "      <td>-0.043411</td>\n",
       "      <td>-0.098103</td>\n",
       "      <td>-0.082818</td>\n",
       "      <td>-0.021975</td>\n",
       "    </tr>\n",
       "    <tr>\n",
       "      <th>ISG15</th>\n",
       "      <td>-0.098197</td>\n",
       "      <td>0.094200</td>\n",
       "      <td>0.133114</td>\n",
       "      <td>-0.265167</td>\n",
       "      <td>-0.395003</td>\n",
       "      <td>-0.299317</td>\n",
       "      <td>-0.461973</td>\n",
       "      <td>-0.127980</td>\n",
       "      <td>-0.086404</td>\n",
       "      <td>-0.025362</td>\n",
       "      <td>...</td>\n",
       "      <td>0.037253</td>\n",
       "      <td>-0.046934</td>\n",
       "      <td>-0.000302</td>\n",
       "      <td>-0.224304</td>\n",
       "      <td>0.115984</td>\n",
       "      <td>0.124265</td>\n",
       "      <td>-0.148597</td>\n",
       "      <td>-0.006258</td>\n",
       "      <td>0.264588</td>\n",
       "      <td>0.268559</td>\n",
       "    </tr>\n",
       "  </tbody>\n",
       "</table>\n",
       "<p>2 rows × 92 columns</p>\n",
       "</div>"
      ],
      "text/plain": [
       "       PB00001-01  PB00002-01  PB00003-01  PB00004-01  PB00006-01  PB00010-02  \\\n",
       "HES4     0.047857   -0.095355    0.120315    0.240782   -0.089685   -0.030261   \n",
       "ISG15   -0.098197    0.094200    0.133114   -0.265167   -0.395003   -0.299317   \n",
       "\n",
       "       PB00012-01  PB00014-01  PB00015-01  PB00016-01  ...  PB00592-01  \\\n",
       "HES4    -0.059296   -0.094901   -0.078299   -0.103496  ...   -0.063296   \n",
       "ISG15   -0.461973   -0.127980   -0.086404   -0.025362  ...    0.037253   \n",
       "\n",
       "       PB00599-01  PB00600-01  PB00602-01  PB00621-01  PB00623-01  PB00625-02  \\\n",
       "HES4    -0.070026   -0.072048    0.226031   -0.102861   -0.004380   -0.043411   \n",
       "ISG15   -0.046934   -0.000302   -0.224304    0.115984    0.124265   -0.148597   \n",
       "\n",
       "       PB00645-01  PB01425-01  PB01446-01  \n",
       "HES4    -0.098103   -0.082818   -0.021975  \n",
       "ISG15   -0.006258    0.264588    0.268559  \n",
       "\n",
       "[2 rows x 92 columns]"
      ]
     },
     "execution_count": 283,
     "metadata": {},
     "output_type": "execute_result"
    }
   ],
   "source": [
    "Il1b_mean.head(n=2)"
   ]
  },
  {
   "cell_type": "code",
   "execution_count": 259,
   "id": "57336567-7b8f-488d-982a-e9ec684133ba",
   "metadata": {
    "tags": []
   },
   "outputs": [
    {
     "data": {
      "text/html": [
       "<div>\n",
       "<style scoped>\n",
       "    .dataframe tbody tr th:only-of-type {\n",
       "        vertical-align: middle;\n",
       "    }\n",
       "\n",
       "    .dataframe tbody tr th {\n",
       "        vertical-align: top;\n",
       "    }\n",
       "\n",
       "    .dataframe thead th {\n",
       "        text-align: right;\n",
       "    }\n",
       "</style>\n",
       "<table border=\"1\" class=\"dataframe\">\n",
       "  <thead>\n",
       "    <tr style=\"text-align: right;\">\n",
       "      <th></th>\n",
       "      <th>PB00001-01</th>\n",
       "      <th>PB00002-01</th>\n",
       "      <th>PB00003-01</th>\n",
       "      <th>PB00004-01</th>\n",
       "      <th>PB00006-01</th>\n",
       "      <th>PB00010-02</th>\n",
       "      <th>PB00012-01</th>\n",
       "      <th>PB00014-01</th>\n",
       "      <th>PB00015-01</th>\n",
       "      <th>PB00016-01</th>\n",
       "      <th>...</th>\n",
       "      <th>PB00592-01</th>\n",
       "      <th>PB00599-01</th>\n",
       "      <th>PB00600-01</th>\n",
       "      <th>PB00602-01</th>\n",
       "      <th>PB00621-01</th>\n",
       "      <th>PB00623-01</th>\n",
       "      <th>PB00625-02</th>\n",
       "      <th>PB00645-01</th>\n",
       "      <th>PB01425-01</th>\n",
       "      <th>PB01446-01</th>\n",
       "    </tr>\n",
       "  </thead>\n",
       "  <tbody>\n",
       "    <tr>\n",
       "      <th>HES4</th>\n",
       "      <td>0.047857</td>\n",
       "      <td>-0.095355</td>\n",
       "      <td>0.120315</td>\n",
       "      <td>0.240782</td>\n",
       "      <td>-0.089685</td>\n",
       "      <td>-0.030261</td>\n",
       "      <td>-0.059296</td>\n",
       "      <td>-0.094901</td>\n",
       "      <td>-0.078299</td>\n",
       "      <td>-0.103496</td>\n",
       "      <td>...</td>\n",
       "      <td>-0.063296</td>\n",
       "      <td>-0.070026</td>\n",
       "      <td>-0.072048</td>\n",
       "      <td>0.226031</td>\n",
       "      <td>-0.102861</td>\n",
       "      <td>-0.004380</td>\n",
       "      <td>-0.043411</td>\n",
       "      <td>-0.098103</td>\n",
       "      <td>-0.082818</td>\n",
       "      <td>-0.021975</td>\n",
       "    </tr>\n",
       "    <tr>\n",
       "      <th>ISG15</th>\n",
       "      <td>-0.098197</td>\n",
       "      <td>0.094200</td>\n",
       "      <td>0.133114</td>\n",
       "      <td>-0.265167</td>\n",
       "      <td>-0.395003</td>\n",
       "      <td>-0.299317</td>\n",
       "      <td>-0.461973</td>\n",
       "      <td>-0.127980</td>\n",
       "      <td>-0.086404</td>\n",
       "      <td>-0.025362</td>\n",
       "      <td>...</td>\n",
       "      <td>0.037253</td>\n",
       "      <td>-0.046934</td>\n",
       "      <td>-0.000302</td>\n",
       "      <td>-0.224304</td>\n",
       "      <td>0.115984</td>\n",
       "      <td>0.124265</td>\n",
       "      <td>-0.148597</td>\n",
       "      <td>-0.006258</td>\n",
       "      <td>0.264588</td>\n",
       "      <td>0.268559</td>\n",
       "    </tr>\n",
       "  </tbody>\n",
       "</table>\n",
       "<p>2 rows × 92 columns</p>\n",
       "</div>"
      ],
      "text/plain": [
       "       PB00001-01  PB00002-01  PB00003-01  PB00004-01  PB00006-01  PB00010-02  \\\n",
       "HES4     0.047857   -0.095355    0.120315    0.240782   -0.089685   -0.030261   \n",
       "ISG15   -0.098197    0.094200    0.133114   -0.265167   -0.395003   -0.299317   \n",
       "\n",
       "       PB00012-01  PB00014-01  PB00015-01  PB00016-01  ...  PB00592-01  \\\n",
       "HES4    -0.059296   -0.094901   -0.078299   -0.103496  ...   -0.063296   \n",
       "ISG15   -0.461973   -0.127980   -0.086404   -0.025362  ...    0.037253   \n",
       "\n",
       "       PB00599-01  PB00600-01  PB00602-01  PB00621-01  PB00623-01  PB00625-02  \\\n",
       "HES4    -0.070026   -0.072048    0.226031   -0.102861   -0.004380   -0.043411   \n",
       "ISG15   -0.046934   -0.000302   -0.224304    0.115984    0.124265   -0.148597   \n",
       "\n",
       "       PB00645-01  PB01425-01  PB01446-01  \n",
       "HES4    -0.098103   -0.082818   -0.021975  \n",
       "ISG15   -0.006258    0.264588    0.268559  \n",
       "\n",
       "[2 rows x 92 columns]"
      ]
     },
     "execution_count": 259,
     "metadata": {},
     "output_type": "execute_result"
    }
   ],
   "source": [
    "Il1b_mean.head(n=2)"
   ]
  },
  {
   "cell_type": "code",
   "execution_count": 284,
   "id": "807a00ea-325b-436b-bfb8-8e4edec03e87",
   "metadata": {
    "tags": []
   },
   "outputs": [
    {
     "data": {
      "text/plain": [
       "Index(['HES4', 'ISG15', 'AGRN', 'C1orf159', 'AL645728.1', 'MIB2', 'PRKCZ',\n",
       "       'MEGF6', 'SMIM1', 'TNFRSF9',\n",
       "       ...\n",
       "       'ABCG1', 'PKNOX1', 'AL844908.1', 'ADARB1', 'COL18A1', 'MT-ND2',\n",
       "       'MT-ATP8', 'MT-ND4L', 'MT-ND6', 'AC004556.1'],\n",
       "      dtype='object', length=1612)"
      ]
     },
     "execution_count": 284,
     "metadata": {},
     "output_type": "execute_result"
    }
   ],
   "source": [
    "Il1b_mean.index"
   ]
  },
  {
   "cell_type": "code",
   "execution_count": 285,
   "id": "eaa167f6-28f6-440e-8a58-0569489e4e00",
   "metadata": {
    "tags": []
   },
   "outputs": [
    {
     "data": {
      "text/html": [
       "<div>\n",
       "<style scoped>\n",
       "    .dataframe tbody tr th:only-of-type {\n",
       "        vertical-align: middle;\n",
       "    }\n",
       "\n",
       "    .dataframe tbody tr th {\n",
       "        vertical-align: top;\n",
       "    }\n",
       "\n",
       "    .dataframe thead th {\n",
       "        text-align: right;\n",
       "    }\n",
       "</style>\n",
       "<table border=\"1\" class=\"dataframe\">\n",
       "  <thead>\n",
       "    <tr style=\"text-align: right;\">\n",
       "      <th></th>\n",
       "      <th>PB00001-01</th>\n",
       "      <th>PB00002-01</th>\n",
       "      <th>PB00003-01</th>\n",
       "      <th>PB00004-01</th>\n",
       "      <th>PB00006-01</th>\n",
       "      <th>PB00010-02</th>\n",
       "      <th>PB00012-01</th>\n",
       "      <th>PB00014-01</th>\n",
       "      <th>PB00015-01</th>\n",
       "      <th>PB00016-01</th>\n",
       "      <th>...</th>\n",
       "      <th>PB00592-01</th>\n",
       "      <th>PB00599-01</th>\n",
       "      <th>PB00600-01</th>\n",
       "      <th>PB00602-01</th>\n",
       "      <th>PB00621-01</th>\n",
       "      <th>PB00623-01</th>\n",
       "      <th>PB00625-02</th>\n",
       "      <th>PB00645-01</th>\n",
       "      <th>PB01425-01</th>\n",
       "      <th>PB01446-01</th>\n",
       "    </tr>\n",
       "  </thead>\n",
       "  <tbody>\n",
       "    <tr>\n",
       "      <th>HES4</th>\n",
       "      <td>0.047857</td>\n",
       "      <td>-0.095355</td>\n",
       "      <td>0.120315</td>\n",
       "      <td>0.240782</td>\n",
       "      <td>-0.089685</td>\n",
       "      <td>-0.030261</td>\n",
       "      <td>-0.059296</td>\n",
       "      <td>-0.094901</td>\n",
       "      <td>-0.078299</td>\n",
       "      <td>-0.103496</td>\n",
       "      <td>...</td>\n",
       "      <td>-0.063296</td>\n",
       "      <td>-0.070026</td>\n",
       "      <td>-0.072048</td>\n",
       "      <td>0.226031</td>\n",
       "      <td>-0.102861</td>\n",
       "      <td>-0.004380</td>\n",
       "      <td>-0.043411</td>\n",
       "      <td>-0.098103</td>\n",
       "      <td>-0.082818</td>\n",
       "      <td>-0.021975</td>\n",
       "    </tr>\n",
       "    <tr>\n",
       "      <th>ISG15</th>\n",
       "      <td>-0.098197</td>\n",
       "      <td>0.094200</td>\n",
       "      <td>0.133114</td>\n",
       "      <td>-0.265167</td>\n",
       "      <td>-0.395003</td>\n",
       "      <td>-0.299317</td>\n",
       "      <td>-0.461973</td>\n",
       "      <td>-0.127980</td>\n",
       "      <td>-0.086404</td>\n",
       "      <td>-0.025362</td>\n",
       "      <td>...</td>\n",
       "      <td>0.037253</td>\n",
       "      <td>-0.046934</td>\n",
       "      <td>-0.000302</td>\n",
       "      <td>-0.224304</td>\n",
       "      <td>0.115984</td>\n",
       "      <td>0.124265</td>\n",
       "      <td>-0.148597</td>\n",
       "      <td>-0.006258</td>\n",
       "      <td>0.264588</td>\n",
       "      <td>0.268559</td>\n",
       "    </tr>\n",
       "  </tbody>\n",
       "</table>\n",
       "<p>2 rows × 92 columns</p>\n",
       "</div>"
      ],
      "text/plain": [
       "       PB00001-01  PB00002-01  PB00003-01  PB00004-01  PB00006-01  PB00010-02  \\\n",
       "HES4     0.047857   -0.095355    0.120315    0.240782   -0.089685   -0.030261   \n",
       "ISG15   -0.098197    0.094200    0.133114   -0.265167   -0.395003   -0.299317   \n",
       "\n",
       "       PB00012-01  PB00014-01  PB00015-01  PB00016-01  ...  PB00592-01  \\\n",
       "HES4    -0.059296   -0.094901   -0.078299   -0.103496  ...   -0.063296   \n",
       "ISG15   -0.461973   -0.127980   -0.086404   -0.025362  ...    0.037253   \n",
       "\n",
       "       PB00599-01  PB00600-01  PB00602-01  PB00621-01  PB00623-01  PB00625-02  \\\n",
       "HES4    -0.070026   -0.072048    0.226031   -0.102861   -0.004380   -0.043411   \n",
       "ISG15   -0.046934   -0.000302   -0.224304    0.115984    0.124265   -0.148597   \n",
       "\n",
       "       PB00645-01  PB01425-01  PB01446-01  \n",
       "HES4    -0.098103   -0.082818   -0.021975  \n",
       "ISG15   -0.006258    0.264588    0.268559  \n",
       "\n",
       "[2 rows x 92 columns]"
      ]
     },
     "execution_count": 285,
     "metadata": {},
     "output_type": "execute_result"
    }
   ],
   "source": [
    "Il1b_mean.head(n=2)"
   ]
  },
  {
   "cell_type": "code",
   "execution_count": 261,
   "id": "280bd23c-431a-4b9f-9657-743bea12dd72",
   "metadata": {
    "tags": []
   },
   "outputs": [
    {
     "data": {
      "text/html": [
       "<div>\n",
       "<style scoped>\n",
       "    .dataframe tbody tr th:only-of-type {\n",
       "        vertical-align: middle;\n",
       "    }\n",
       "\n",
       "    .dataframe tbody tr th {\n",
       "        vertical-align: top;\n",
       "    }\n",
       "\n",
       "    .dataframe thead th {\n",
       "        text-align: right;\n",
       "    }\n",
       "</style>\n",
       "<table border=\"1\" class=\"dataframe\">\n",
       "  <thead>\n",
       "    <tr style=\"text-align: right;\">\n",
       "      <th></th>\n",
       "      <th>PB00001-01</th>\n",
       "      <th>PB00002-01</th>\n",
       "      <th>PB00003-01</th>\n",
       "      <th>PB00004-01</th>\n",
       "      <th>PB00006-01</th>\n",
       "      <th>PB00010-02</th>\n",
       "      <th>PB00012-01</th>\n",
       "      <th>PB00014-01</th>\n",
       "      <th>PB00015-01</th>\n",
       "      <th>PB00016-01</th>\n",
       "      <th>...</th>\n",
       "      <th>PB00592-01</th>\n",
       "      <th>PB00599-01</th>\n",
       "      <th>PB00600-01</th>\n",
       "      <th>PB00602-01</th>\n",
       "      <th>PB00621-01</th>\n",
       "      <th>PB00623-01</th>\n",
       "      <th>PB00625-02</th>\n",
       "      <th>PB00645-01</th>\n",
       "      <th>PB01425-01</th>\n",
       "      <th>PB01446-01</th>\n",
       "    </tr>\n",
       "  </thead>\n",
       "  <tbody>\n",
       "    <tr>\n",
       "      <th>HES4</th>\n",
       "      <td>0.047857</td>\n",
       "      <td>-0.095355</td>\n",
       "      <td>0.120315</td>\n",
       "      <td>0.240782</td>\n",
       "      <td>-0.089685</td>\n",
       "      <td>-0.030261</td>\n",
       "      <td>-0.059296</td>\n",
       "      <td>-0.094901</td>\n",
       "      <td>-0.078299</td>\n",
       "      <td>-0.103496</td>\n",
       "      <td>...</td>\n",
       "      <td>-0.063296</td>\n",
       "      <td>-0.070026</td>\n",
       "      <td>-0.072048</td>\n",
       "      <td>0.226031</td>\n",
       "      <td>-0.102861</td>\n",
       "      <td>-0.004380</td>\n",
       "      <td>-0.043411</td>\n",
       "      <td>-0.098103</td>\n",
       "      <td>-0.082818</td>\n",
       "      <td>-0.021975</td>\n",
       "    </tr>\n",
       "    <tr>\n",
       "      <th>ISG15</th>\n",
       "      <td>-0.098197</td>\n",
       "      <td>0.094200</td>\n",
       "      <td>0.133114</td>\n",
       "      <td>-0.265167</td>\n",
       "      <td>-0.395003</td>\n",
       "      <td>-0.299317</td>\n",
       "      <td>-0.461973</td>\n",
       "      <td>-0.127980</td>\n",
       "      <td>-0.086404</td>\n",
       "      <td>-0.025362</td>\n",
       "      <td>...</td>\n",
       "      <td>0.037253</td>\n",
       "      <td>-0.046934</td>\n",
       "      <td>-0.000302</td>\n",
       "      <td>-0.224304</td>\n",
       "      <td>0.115984</td>\n",
       "      <td>0.124265</td>\n",
       "      <td>-0.148597</td>\n",
       "      <td>-0.006258</td>\n",
       "      <td>0.264588</td>\n",
       "      <td>0.268559</td>\n",
       "    </tr>\n",
       "  </tbody>\n",
       "</table>\n",
       "<p>2 rows × 92 columns</p>\n",
       "</div>"
      ],
      "text/plain": [
       "       PB00001-01  PB00002-01  PB00003-01  PB00004-01  PB00006-01  PB00010-02  \\\n",
       "HES4     0.047857   -0.095355    0.120315    0.240782   -0.089685   -0.030261   \n",
       "ISG15   -0.098197    0.094200    0.133114   -0.265167   -0.395003   -0.299317   \n",
       "\n",
       "       PB00012-01  PB00014-01  PB00015-01  PB00016-01  ...  PB00592-01  \\\n",
       "HES4    -0.059296   -0.094901   -0.078299   -0.103496  ...   -0.063296   \n",
       "ISG15   -0.461973   -0.127980   -0.086404   -0.025362  ...    0.037253   \n",
       "\n",
       "       PB00599-01  PB00600-01  PB00602-01  PB00621-01  PB00623-01  PB00625-02  \\\n",
       "HES4    -0.070026   -0.072048    0.226031   -0.102861   -0.004380   -0.043411   \n",
       "ISG15   -0.046934   -0.000302   -0.224304    0.115984    0.124265   -0.148597   \n",
       "\n",
       "       PB00645-01  PB01425-01  PB01446-01  \n",
       "HES4    -0.098103   -0.082818   -0.021975  \n",
       "ISG15   -0.006258    0.264588    0.268559  \n",
       "\n",
       "[2 rows x 92 columns]"
      ]
     },
     "execution_count": 261,
     "metadata": {},
     "output_type": "execute_result"
    }
   ],
   "source": [
    "Il1b_mean.head(n=2)"
   ]
  },
  {
   "cell_type": "code",
   "execution_count": 262,
   "id": "3834e86a-c3b7-4f88-9ca5-ca945812fc54",
   "metadata": {
    "tags": []
   },
   "outputs": [],
   "source": [
    "# Save DataFrame to CSV\n",
    "Il1b_mean.to_csv('ISG_CD14_mono_Heatmap_expression_matrix_v1.csv')"
   ]
  },
  {
   "cell_type": "code",
   "execution_count": null,
   "id": "90c10161-9c56-4328-8e46-871c6c5f61ba",
   "metadata": {},
   "outputs": [],
   "source": []
  },
  {
   "cell_type": "markdown",
   "id": "ba28a33e-d264-4ace-8c45-91020d168210",
   "metadata": {
    "jp-MarkdownHeadingCollapsed": true,
    "tags": []
   },
   "source": [
    "## Core+ CD14 mono"
   ]
  },
  {
   "cell_type": "code",
   "execution_count": 263,
   "id": "faceaf4a-932f-4444-a3d9-c4abc533e4d3",
   "metadata": {
    "tags": []
   },
   "outputs": [
    {
     "data": {
      "text/plain": [
       "AnnData object with n_obs × n_vars = 196113 × 1705\n",
       "    obs: 'barcodes', 'batch_id', 'cell_name', 'cell_uuid', 'chip_id', 'hto_barcode', 'hto_category', 'n_genes', 'n_mito_umis', 'n_reads', 'n_umis', 'original_barcodes', 'pbmc_sample_id', 'pool_id', 'seurat_pbmc_type', 'seurat_pbmc_type_score', 'umap_1', 'umap_2', 'well_id', 'subject.biologicalSex', 'subject.ethnicity', 'subject.partnerCode', 'subject.race', 'subject.subjectGuid', 'cohort.cohortGuid', 'sample.visitName', 'sample.visitDetails', 'subject.birthYear', 'CMV.IgG.Serology.Result.Interpretation', 'BMI', 'predicted_doublet', 'doublet_score', 'AIFI_L1', 'AIFI_L2', 'AIFI_L3', 'AIFI_L3.5', 'n_genes_by_counts', 'log1p_n_genes_by_counts', 'total_counts', 'log1p_total_counts', 'pct_counts_in_top_50_genes', 'pct_counts_in_top_100_genes', 'pct_counts_in_top_200_genes', 'pct_counts_in_top_500_genes', 'total_counts_mito', 'log1p_total_counts_mito', 'pct_counts_mito'\n",
       "    var: 'highly_variable', 'means', 'dispersions', 'dispersions_norm', 'mean', 'std'\n",
       "    uns: 'hvg', 'log1p', 'neighbors', 'pca', 'umap'\n",
       "    obsm: 'X_pca', 'X_pca_harmony', 'X_umap'\n",
       "    varm: 'PCs'\n",
       "    layers: 'counts'\n",
       "    obsp: 'connectivities', 'distances'"
      ]
     },
     "execution_count": 263,
     "metadata": {},
     "output_type": "execute_result"
    }
   ],
   "source": [
    "adata = sc.read ('/home/jupyter/Myeloid_cells/files/Core_CD14_Mono_ONLY_FluYr1D0_post_harmony_04232024.h5ad')\n",
    "adata"
   ]
  },
  {
   "cell_type": "code",
   "execution_count": 264,
   "id": "f50d69a5-5f38-4460-a1fc-c1f80949a12d",
   "metadata": {
    "tags": []
   },
   "outputs": [
    {
     "data": {
      "text/plain": [
       "array([[ 1.5480846 , -0.16025177, -0.32985887, ...,  0.5146747 ,\n",
       "        -0.3920743 , -0.22728865],\n",
       "       [-0.5691982 , -0.16025177, -0.32985887, ...,  0.0950091 ,\n",
       "        -0.3920743 , -0.22728865],\n",
       "       [-0.5691982 , -0.16025177, -0.32985887, ...,  0.62110573,\n",
       "        -0.3920743 , -0.22728865],\n",
       "       ...,\n",
       "       [-0.5691982 , -0.16025177, -0.32985887, ..., -1.7084811 ,\n",
       "        -0.3920743 , -0.22728865],\n",
       "       [-0.5691982 , -0.16025177, -0.32985887, ..., -1.576478  ,\n",
       "        -0.3920743 , -0.22728865],\n",
       "       [ 0.7711546 , -0.16025177, -0.32985887, ...,  0.33772275,\n",
       "        -0.3920743 , -0.22728865]], dtype=float32)"
      ]
     },
     "execution_count": 264,
     "metadata": {},
     "output_type": "execute_result"
    }
   ],
   "source": [
    "adata.X"
   ]
  },
  {
   "cell_type": "code",
   "execution_count": 210,
   "id": "bde032c0-08cd-4ff2-8528-8ed1d2edfae7",
   "metadata": {
    "tags": []
   },
   "outputs": [],
   "source": [
    "#adata_filt.obs.rename(columns={\"pbmc_sample_id\": \"pbmc_sample_id\"}, inplace=True)"
   ]
  },
  {
   "cell_type": "code",
   "execution_count": 211,
   "id": "8e5bbf55-be41-48ba-a766-e5a0b56eb552",
   "metadata": {
    "tags": []
   },
   "outputs": [],
   "source": [
    "#adata_filt.obs.rename(columns={\"CMV.IgG.Serology.Result.Interpretation\": \"CMV\"}, inplace=True)"
   ]
  },
  {
   "cell_type": "code",
   "execution_count": 212,
   "id": "018a30b4-7048-40da-8182-48bd270e626e",
   "metadata": {
    "tags": []
   },
   "outputs": [],
   "source": [
    "#adata_filt.obs.rename(columns={\"cohort.cohortGuid\": \"Age\"}, inplace=True)"
   ]
  },
  {
   "cell_type": "code",
   "execution_count": 223,
   "id": "2fe3bf90-164a-401b-a0e1-e59272720010",
   "metadata": {
    "tags": []
   },
   "outputs": [],
   "source": [
    "# import pandas as pd\n",
    "\n",
    "# # Assuming adata.X is your expression matrix\n",
    "# # Assuming adata has row names and column names\n",
    "\n",
    "# # Convert adata.X to a DataFrame\n",
    "# expression_df = pd.DataFrame(adata.X, index=adata.obs.index, columns=adata.var.index)\n",
    "\n",
    "# # Save DataFrame to CSV\n",
    "# expression_df.to_csv('Heatmap_expression_matrix_v1.csv')\n"
   ]
  },
  {
   "cell_type": "code",
   "execution_count": 225,
   "id": "cd11950a-fe15-470c-a101-6a28e16366de",
   "metadata": {
    "collapsed": true,
    "jupyter": {
     "outputs_hidden": true
    },
    "tags": []
   },
   "outputs": [
    {
     "data": {
      "text/html": [
       "<div>\n",
       "<style scoped>\n",
       "    .dataframe tbody tr th:only-of-type {\n",
       "        vertical-align: middle;\n",
       "    }\n",
       "\n",
       "    .dataframe tbody tr th {\n",
       "        vertical-align: top;\n",
       "    }\n",
       "\n",
       "    .dataframe thead th {\n",
       "        text-align: right;\n",
       "    }\n",
       "</style>\n",
       "<table border=\"1\" class=\"dataframe\">\n",
       "  <thead>\n",
       "    <tr style=\"text-align: right;\">\n",
       "      <th></th>\n",
       "      <th>FAM41C</th>\n",
       "      <th>KLHL17</th>\n",
       "      <th>HES4</th>\n",
       "      <th>ISG15</th>\n",
       "      <th>C1orf159</th>\n",
       "      <th>C1QTNF12</th>\n",
       "      <th>AL162741.1</th>\n",
       "      <th>SCNN1D</th>\n",
       "      <th>ACAP3</th>\n",
       "      <th>MXRA8</th>\n",
       "      <th>...</th>\n",
       "      <th>MT-ND1</th>\n",
       "      <th>MT-ND2</th>\n",
       "      <th>MT-CO2</th>\n",
       "      <th>MT-ATP6</th>\n",
       "      <th>MT-CO3</th>\n",
       "      <th>MT-ND3</th>\n",
       "      <th>MT-ND4L</th>\n",
       "      <th>MT-ND4</th>\n",
       "      <th>MT-CYB</th>\n",
       "      <th>AC240274.1</th>\n",
       "    </tr>\n",
       "    <tr>\n",
       "      <th>barcodes</th>\n",
       "      <th></th>\n",
       "      <th></th>\n",
       "      <th></th>\n",
       "      <th></th>\n",
       "      <th></th>\n",
       "      <th></th>\n",
       "      <th></th>\n",
       "      <th></th>\n",
       "      <th></th>\n",
       "      <th></th>\n",
       "      <th></th>\n",
       "      <th></th>\n",
       "      <th></th>\n",
       "      <th></th>\n",
       "      <th></th>\n",
       "      <th></th>\n",
       "      <th></th>\n",
       "      <th></th>\n",
       "      <th></th>\n",
       "      <th></th>\n",
       "      <th></th>\n",
       "    </tr>\n",
       "  </thead>\n",
       "  <tbody>\n",
       "    <tr>\n",
       "      <th>cfb4162a48b611ea8957bafe6d70929e</th>\n",
       "      <td>-0.132573</td>\n",
       "      <td>-0.113268</td>\n",
       "      <td>-0.192298</td>\n",
       "      <td>-0.661028</td>\n",
       "      <td>-0.176591</td>\n",
       "      <td>-0.077332</td>\n",
       "      <td>-0.05456</td>\n",
       "      <td>-0.053848</td>\n",
       "      <td>-0.328429</td>\n",
       "      <td>-0.022134</td>\n",
       "      <td>...</td>\n",
       "      <td>1.325860</td>\n",
       "      <td>0.731614</td>\n",
       "      <td>0.836299</td>\n",
       "      <td>1.340946</td>\n",
       "      <td>0.742673</td>\n",
       "      <td>1.439619</td>\n",
       "      <td>0.713853</td>\n",
       "      <td>1.086478</td>\n",
       "      <td>-0.067385</td>\n",
       "      <td>-0.156928</td>\n",
       "    </tr>\n",
       "    <tr>\n",
       "      <th>70ab258848b611eaa65d9e7d578d66f2</th>\n",
       "      <td>-0.132573</td>\n",
       "      <td>-0.113268</td>\n",
       "      <td>-0.192298</td>\n",
       "      <td>-0.661028</td>\n",
       "      <td>4.546874</td>\n",
       "      <td>-0.077332</td>\n",
       "      <td>-0.05456</td>\n",
       "      <td>-0.053848</td>\n",
       "      <td>-0.328429</td>\n",
       "      <td>-0.022134</td>\n",
       "      <td>...</td>\n",
       "      <td>-1.189309</td>\n",
       "      <td>-0.481571</td>\n",
       "      <td>-0.535567</td>\n",
       "      <td>-0.834956</td>\n",
       "      <td>-0.465425</td>\n",
       "      <td>-1.024485</td>\n",
       "      <td>0.202755</td>\n",
       "      <td>-0.327291</td>\n",
       "      <td>-0.668048</td>\n",
       "      <td>-0.156928</td>\n",
       "    </tr>\n",
       "    <tr>\n",
       "      <th>70acf29648b611eaa65d9e7d578d66f2</th>\n",
       "      <td>-0.132573</td>\n",
       "      <td>-0.113268</td>\n",
       "      <td>-0.192298</td>\n",
       "      <td>1.294230</td>\n",
       "      <td>-0.176591</td>\n",
       "      <td>-0.077332</td>\n",
       "      <td>-0.05456</td>\n",
       "      <td>-0.053848</td>\n",
       "      <td>-0.328429</td>\n",
       "      <td>-0.022134</td>\n",
       "      <td>...</td>\n",
       "      <td>0.252301</td>\n",
       "      <td>-0.473989</td>\n",
       "      <td>0.144703</td>\n",
       "      <td>0.668496</td>\n",
       "      <td>-0.065128</td>\n",
       "      <td>-0.019105</td>\n",
       "      <td>-0.418068</td>\n",
       "      <td>0.751750</td>\n",
       "      <td>0.169085</td>\n",
       "      <td>-0.156928</td>\n",
       "    </tr>\n",
       "    <tr>\n",
       "      <th>70d2b34648b611eaa65d9e7d578d66f2</th>\n",
       "      <td>-0.132573</td>\n",
       "      <td>-0.113268</td>\n",
       "      <td>-0.192298</td>\n",
       "      <td>-0.661028</td>\n",
       "      <td>-0.176591</td>\n",
       "      <td>-0.077332</td>\n",
       "      <td>-0.05456</td>\n",
       "      <td>-0.053848</td>\n",
       "      <td>-0.328429</td>\n",
       "      <td>-0.022134</td>\n",
       "      <td>...</td>\n",
       "      <td>1.358938</td>\n",
       "      <td>-0.032474</td>\n",
       "      <td>-1.037922</td>\n",
       "      <td>0.739538</td>\n",
       "      <td>-0.204768</td>\n",
       "      <td>0.471638</td>\n",
       "      <td>0.094861</td>\n",
       "      <td>-0.397821</td>\n",
       "      <td>-1.446746</td>\n",
       "      <td>-0.156928</td>\n",
       "    </tr>\n",
       "    <tr>\n",
       "      <th>70d844f048b611eaa65d9e7d578d66f2</th>\n",
       "      <td>-0.132573</td>\n",
       "      <td>-0.113268</td>\n",
       "      <td>-0.192298</td>\n",
       "      <td>-0.661028</td>\n",
       "      <td>-0.176591</td>\n",
       "      <td>-0.077332</td>\n",
       "      <td>-0.05456</td>\n",
       "      <td>-0.053848</td>\n",
       "      <td>-0.328429</td>\n",
       "      <td>-0.022134</td>\n",
       "      <td>...</td>\n",
       "      <td>-0.771742</td>\n",
       "      <td>-2.176364</td>\n",
       "      <td>-0.749368</td>\n",
       "      <td>-0.869467</td>\n",
       "      <td>-1.302776</td>\n",
       "      <td>-0.020604</td>\n",
       "      <td>-1.730623</td>\n",
       "      <td>-0.394766</td>\n",
       "      <td>-1.223874</td>\n",
       "      <td>-0.156928</td>\n",
       "    </tr>\n",
       "    <tr>\n",
       "      <th>...</th>\n",
       "      <td>...</td>\n",
       "      <td>...</td>\n",
       "      <td>...</td>\n",
       "      <td>...</td>\n",
       "      <td>...</td>\n",
       "      <td>...</td>\n",
       "      <td>...</td>\n",
       "      <td>...</td>\n",
       "      <td>...</td>\n",
       "      <td>...</td>\n",
       "      <td>...</td>\n",
       "      <td>...</td>\n",
       "      <td>...</td>\n",
       "      <td>...</td>\n",
       "      <td>...</td>\n",
       "      <td>...</td>\n",
       "      <td>...</td>\n",
       "      <td>...</td>\n",
       "      <td>...</td>\n",
       "      <td>...</td>\n",
       "      <td>...</td>\n",
       "    </tr>\n",
       "    <tr>\n",
       "      <th>4fcaf786286511ec8c0d4aaa4b9002e8</th>\n",
       "      <td>-0.132573</td>\n",
       "      <td>-0.113268</td>\n",
       "      <td>-0.192298</td>\n",
       "      <td>1.622779</td>\n",
       "      <td>-0.176591</td>\n",
       "      <td>-0.077332</td>\n",
       "      <td>-0.05456</td>\n",
       "      <td>-0.053848</td>\n",
       "      <td>-0.328429</td>\n",
       "      <td>-0.022134</td>\n",
       "      <td>...</td>\n",
       "      <td>0.463961</td>\n",
       "      <td>0.536566</td>\n",
       "      <td>-1.310432</td>\n",
       "      <td>1.173958</td>\n",
       "      <td>0.229070</td>\n",
       "      <td>0.430827</td>\n",
       "      <td>0.022275</td>\n",
       "      <td>0.371624</td>\n",
       "      <td>0.106982</td>\n",
       "      <td>-0.156928</td>\n",
       "    </tr>\n",
       "    <tr>\n",
       "      <th>ce432b48286411eca744faae388e9f17</th>\n",
       "      <td>-0.132573</td>\n",
       "      <td>-0.113268</td>\n",
       "      <td>-0.192298</td>\n",
       "      <td>1.051977</td>\n",
       "      <td>-0.176591</td>\n",
       "      <td>-0.077332</td>\n",
       "      <td>-0.05456</td>\n",
       "      <td>-0.053848</td>\n",
       "      <td>-0.328429</td>\n",
       "      <td>-0.022134</td>\n",
       "      <td>...</td>\n",
       "      <td>1.198795</td>\n",
       "      <td>0.391518</td>\n",
       "      <td>0.622304</td>\n",
       "      <td>1.493538</td>\n",
       "      <td>0.150514</td>\n",
       "      <td>1.332110</td>\n",
       "      <td>-0.063872</td>\n",
       "      <td>0.706557</td>\n",
       "      <td>0.251596</td>\n",
       "      <td>-0.156928</td>\n",
       "    </tr>\n",
       "    <tr>\n",
       "      <th>fbe4aa18286411ecb1698ec288c6fba6</th>\n",
       "      <td>-0.132573</td>\n",
       "      <td>-0.113268</td>\n",
       "      <td>-0.192298</td>\n",
       "      <td>2.229014</td>\n",
       "      <td>-0.176591</td>\n",
       "      <td>-0.077332</td>\n",
       "      <td>-0.05456</td>\n",
       "      <td>-0.053848</td>\n",
       "      <td>-0.328429</td>\n",
       "      <td>-0.022134</td>\n",
       "      <td>...</td>\n",
       "      <td>0.958758</td>\n",
       "      <td>1.280242</td>\n",
       "      <td>0.750380</td>\n",
       "      <td>0.253745</td>\n",
       "      <td>0.563532</td>\n",
       "      <td>1.755917</td>\n",
       "      <td>0.487581</td>\n",
       "      <td>0.843975</td>\n",
       "      <td>0.123364</td>\n",
       "      <td>-0.156928</td>\n",
       "    </tr>\n",
       "    <tr>\n",
       "      <th>03c5255a286511ec8289ca5980196c9c</th>\n",
       "      <td>-0.132573</td>\n",
       "      <td>-0.113268</td>\n",
       "      <td>-0.192298</td>\n",
       "      <td>1.707325</td>\n",
       "      <td>-0.176591</td>\n",
       "      <td>-0.077332</td>\n",
       "      <td>-0.05456</td>\n",
       "      <td>-0.053848</td>\n",
       "      <td>-0.328429</td>\n",
       "      <td>-0.022134</td>\n",
       "      <td>...</td>\n",
       "      <td>0.786495</td>\n",
       "      <td>0.486685</td>\n",
       "      <td>0.126109</td>\n",
       "      <td>1.119277</td>\n",
       "      <td>-0.492053</td>\n",
       "      <td>1.279174</td>\n",
       "      <td>-0.806702</td>\n",
       "      <td>0.384777</td>\n",
       "      <td>0.369796</td>\n",
       "      <td>-0.156928</td>\n",
       "    </tr>\n",
       "    <tr>\n",
       "      <th>91f8844a286311ecabc39e0459bddc54</th>\n",
       "      <td>-0.132573</td>\n",
       "      <td>-0.113268</td>\n",
       "      <td>-0.192298</td>\n",
       "      <td>3.324033</td>\n",
       "      <td>-0.176591</td>\n",
       "      <td>-0.077332</td>\n",
       "      <td>-0.05456</td>\n",
       "      <td>-0.053848</td>\n",
       "      <td>-0.328429</td>\n",
       "      <td>-0.022134</td>\n",
       "      <td>...</td>\n",
       "      <td>-0.122227</td>\n",
       "      <td>0.093515</td>\n",
       "      <td>-0.260421</td>\n",
       "      <td>0.857848</td>\n",
       "      <td>-0.560291</td>\n",
       "      <td>0.419610</td>\n",
       "      <td>-0.415456</td>\n",
       "      <td>0.673279</td>\n",
       "      <td>-0.344862</td>\n",
       "      <td>-0.156928</td>\n",
       "    </tr>\n",
       "  </tbody>\n",
       "</table>\n",
       "<p>2679 rows × 3000 columns</p>\n",
       "</div>"
      ],
      "text/plain": [
       "                                    FAM41C    KLHL17      HES4     ISG15  \\\n",
       "barcodes                                                                   \n",
       "cfb4162a48b611ea8957bafe6d70929e -0.132573 -0.113268 -0.192298 -0.661028   \n",
       "70ab258848b611eaa65d9e7d578d66f2 -0.132573 -0.113268 -0.192298 -0.661028   \n",
       "70acf29648b611eaa65d9e7d578d66f2 -0.132573 -0.113268 -0.192298  1.294230   \n",
       "70d2b34648b611eaa65d9e7d578d66f2 -0.132573 -0.113268 -0.192298 -0.661028   \n",
       "70d844f048b611eaa65d9e7d578d66f2 -0.132573 -0.113268 -0.192298 -0.661028   \n",
       "...                                    ...       ...       ...       ...   \n",
       "4fcaf786286511ec8c0d4aaa4b9002e8 -0.132573 -0.113268 -0.192298  1.622779   \n",
       "ce432b48286411eca744faae388e9f17 -0.132573 -0.113268 -0.192298  1.051977   \n",
       "fbe4aa18286411ecb1698ec288c6fba6 -0.132573 -0.113268 -0.192298  2.229014   \n",
       "03c5255a286511ec8289ca5980196c9c -0.132573 -0.113268 -0.192298  1.707325   \n",
       "91f8844a286311ecabc39e0459bddc54 -0.132573 -0.113268 -0.192298  3.324033   \n",
       "\n",
       "                                  C1orf159  C1QTNF12  AL162741.1    SCNN1D  \\\n",
       "barcodes                                                                     \n",
       "cfb4162a48b611ea8957bafe6d70929e -0.176591 -0.077332    -0.05456 -0.053848   \n",
       "70ab258848b611eaa65d9e7d578d66f2  4.546874 -0.077332    -0.05456 -0.053848   \n",
       "70acf29648b611eaa65d9e7d578d66f2 -0.176591 -0.077332    -0.05456 -0.053848   \n",
       "70d2b34648b611eaa65d9e7d578d66f2 -0.176591 -0.077332    -0.05456 -0.053848   \n",
       "70d844f048b611eaa65d9e7d578d66f2 -0.176591 -0.077332    -0.05456 -0.053848   \n",
       "...                                    ...       ...         ...       ...   \n",
       "4fcaf786286511ec8c0d4aaa4b9002e8 -0.176591 -0.077332    -0.05456 -0.053848   \n",
       "ce432b48286411eca744faae388e9f17 -0.176591 -0.077332    -0.05456 -0.053848   \n",
       "fbe4aa18286411ecb1698ec288c6fba6 -0.176591 -0.077332    -0.05456 -0.053848   \n",
       "03c5255a286511ec8289ca5980196c9c -0.176591 -0.077332    -0.05456 -0.053848   \n",
       "91f8844a286311ecabc39e0459bddc54 -0.176591 -0.077332    -0.05456 -0.053848   \n",
       "\n",
       "                                     ACAP3     MXRA8  ...    MT-ND1    MT-ND2  \\\n",
       "barcodes                                              ...                       \n",
       "cfb4162a48b611ea8957bafe6d70929e -0.328429 -0.022134  ...  1.325860  0.731614   \n",
       "70ab258848b611eaa65d9e7d578d66f2 -0.328429 -0.022134  ... -1.189309 -0.481571   \n",
       "70acf29648b611eaa65d9e7d578d66f2 -0.328429 -0.022134  ...  0.252301 -0.473989   \n",
       "70d2b34648b611eaa65d9e7d578d66f2 -0.328429 -0.022134  ...  1.358938 -0.032474   \n",
       "70d844f048b611eaa65d9e7d578d66f2 -0.328429 -0.022134  ... -0.771742 -2.176364   \n",
       "...                                    ...       ...  ...       ...       ...   \n",
       "4fcaf786286511ec8c0d4aaa4b9002e8 -0.328429 -0.022134  ...  0.463961  0.536566   \n",
       "ce432b48286411eca744faae388e9f17 -0.328429 -0.022134  ...  1.198795  0.391518   \n",
       "fbe4aa18286411ecb1698ec288c6fba6 -0.328429 -0.022134  ...  0.958758  1.280242   \n",
       "03c5255a286511ec8289ca5980196c9c -0.328429 -0.022134  ...  0.786495  0.486685   \n",
       "91f8844a286311ecabc39e0459bddc54 -0.328429 -0.022134  ... -0.122227  0.093515   \n",
       "\n",
       "                                    MT-CO2   MT-ATP6    MT-CO3    MT-ND3  \\\n",
       "barcodes                                                                   \n",
       "cfb4162a48b611ea8957bafe6d70929e  0.836299  1.340946  0.742673  1.439619   \n",
       "70ab258848b611eaa65d9e7d578d66f2 -0.535567 -0.834956 -0.465425 -1.024485   \n",
       "70acf29648b611eaa65d9e7d578d66f2  0.144703  0.668496 -0.065128 -0.019105   \n",
       "70d2b34648b611eaa65d9e7d578d66f2 -1.037922  0.739538 -0.204768  0.471638   \n",
       "70d844f048b611eaa65d9e7d578d66f2 -0.749368 -0.869467 -1.302776 -0.020604   \n",
       "...                                    ...       ...       ...       ...   \n",
       "4fcaf786286511ec8c0d4aaa4b9002e8 -1.310432  1.173958  0.229070  0.430827   \n",
       "ce432b48286411eca744faae388e9f17  0.622304  1.493538  0.150514  1.332110   \n",
       "fbe4aa18286411ecb1698ec288c6fba6  0.750380  0.253745  0.563532  1.755917   \n",
       "03c5255a286511ec8289ca5980196c9c  0.126109  1.119277 -0.492053  1.279174   \n",
       "91f8844a286311ecabc39e0459bddc54 -0.260421  0.857848 -0.560291  0.419610   \n",
       "\n",
       "                                   MT-ND4L    MT-ND4    MT-CYB  AC240274.1  \n",
       "barcodes                                                                    \n",
       "cfb4162a48b611ea8957bafe6d70929e  0.713853  1.086478 -0.067385   -0.156928  \n",
       "70ab258848b611eaa65d9e7d578d66f2  0.202755 -0.327291 -0.668048   -0.156928  \n",
       "70acf29648b611eaa65d9e7d578d66f2 -0.418068  0.751750  0.169085   -0.156928  \n",
       "70d2b34648b611eaa65d9e7d578d66f2  0.094861 -0.397821 -1.446746   -0.156928  \n",
       "70d844f048b611eaa65d9e7d578d66f2 -1.730623 -0.394766 -1.223874   -0.156928  \n",
       "...                                    ...       ...       ...         ...  \n",
       "4fcaf786286511ec8c0d4aaa4b9002e8  0.022275  0.371624  0.106982   -0.156928  \n",
       "ce432b48286411eca744faae388e9f17 -0.063872  0.706557  0.251596   -0.156928  \n",
       "fbe4aa18286411ecb1698ec288c6fba6  0.487581  0.843975  0.123364   -0.156928  \n",
       "03c5255a286511ec8289ca5980196c9c -0.806702  0.384777  0.369796   -0.156928  \n",
       "91f8844a286311ecabc39e0459bddc54 -0.415456  0.673279 -0.344862   -0.156928  \n",
       "\n",
       "[2679 rows x 3000 columns]"
      ]
     },
     "execution_count": 225,
     "metadata": {},
     "output_type": "execute_result"
    }
   ],
   "source": [
    "# expression_df"
   ]
  },
  {
   "cell_type": "code",
   "execution_count": 214,
   "id": "096b9f62-8dde-4a7a-b50e-570c4fb0659f",
   "metadata": {
    "tags": []
   },
   "outputs": [],
   "source": [
    "#adata.obs['unique_ID'] = adata.obs['pbmc_sample_id'].str.cat (adata.obs['subject.biologicalSex'], sep = \"_\").str.cat (adata.obs['cohort.cohortGuid'], sep = \"_\")"
   ]
  },
  {
   "cell_type": "code",
   "execution_count": 215,
   "id": "8660b451-ecc6-4edd-be6e-c1dd4b29cb67",
   "metadata": {
    "tags": []
   },
   "outputs": [],
   "source": [
    "#adata.obs['unique_ID'] = adata.obs['pbmc_sample_id']"
   ]
  },
  {
   "cell_type": "code",
   "execution_count": null,
   "id": "0f5aff34-9a52-433a-83ba-fbfd0996b38f",
   "metadata": {},
   "outputs": [],
   "source": []
  },
  {
   "cell_type": "code",
   "execution_count": 217,
   "id": "77adbfe0-ef21-4d42-9f46-a51fbe55e2e8",
   "metadata": {
    "tags": []
   },
   "outputs": [
    {
     "data": {
      "text/plain": [
       "['PB00001-01', 'PB00002-01', 'PB00003-01', 'PB00004-01', 'PB00006-01', ..., 'PB00623-01', 'PB00625-02', 'PB00645-01', 'PB01425-01', 'PB01446-01']\n",
       "Length: 92\n",
       "Categories (92, object): ['PB00001-01', 'PB00002-01', 'PB00003-01', 'PB00004-01', ..., 'PB00625-02', 'PB00645-01', 'PB01425-01', 'PB01446-01']"
      ]
     },
     "execution_count": 217,
     "metadata": {},
     "output_type": "execute_result"
    }
   ],
   "source": [
    "#adata.obs['unique_ID'].unique()"
   ]
  },
  {
   "cell_type": "code",
   "execution_count": 265,
   "id": "94f06bfa-3412-4235-b08c-633aa06014fb",
   "metadata": {
    "tags": []
   },
   "outputs": [
    {
     "data": {
      "text/plain": [
       "['Core CD14 monocyte']\n",
       "Categories (1, object): ['Core CD14 monocyte']"
      ]
     },
     "execution_count": 265,
     "metadata": {},
     "output_type": "execute_result"
    }
   ],
   "source": [
    "adata.obs['AIFI_L3'].unique()"
   ]
  },
  {
   "cell_type": "code",
   "execution_count": 266,
   "id": "d0dd901b-f606-4575-94bf-96aa39308ad2",
   "metadata": {
    "tags": []
   },
   "outputs": [],
   "source": [
    "adata.raw = adata"
   ]
  },
  {
   "cell_type": "code",
   "execution_count": 267,
   "id": "546342a2-f5d8-4198-b080-ca4dca13f9d2",
   "metadata": {
    "tags": []
   },
   "outputs": [
    {
     "name": "stderr",
     "output_type": "stream",
     "text": [
      "/tmp/ipykernel_501/2632454361.py:1: FutureWarning: The default of observed=False is deprecated and will be changed to True in a future version of pandas. Pass observed=False to retain current behavior or observed=True to adopt the future default and silence this warning.\n",
      "  grouped = adata.obs.groupby(['pbmc_sample_id'])\n"
     ]
    }
   ],
   "source": [
    "grouped = adata.obs.groupby(['pbmc_sample_id'])"
   ]
  },
  {
   "cell_type": "code",
   "execution_count": 268,
   "id": "81984e35-581f-42ae-883f-25ddecb61800",
   "metadata": {
    "tags": []
   },
   "outputs": [],
   "source": [
    "#Not grouped\n",
    "\n",
    "def grouped_obs_mean(adata_filt, group_key, layer=None, gene_symbols=None):\n",
    "    if layer is not None:\n",
    "        getX = lambda x: x.layers[layer]\n",
    "    else:\n",
    "        getX = lambda x: x.X\n",
    "    if gene_symbols is not None:\n",
    "        new_idx = adata_filt.raw.var[idx]\n",
    "    else:\n",
    "        new_idx = adata_filt.raw.var_names\n",
    "    \n",
    "    grouped = adata_filt.obs.groupby(group_key)\n",
    "    \n",
    "    # Extract only pbmc_sample_id without additional alphabets\n",
    "    column_names = [group.split(':')[0] for group in grouped.groups.keys()]\n",
    "    \n",
    "    out = pd.DataFrame(\n",
    "        np.zeros((adata_filt.raw.shape[1], len(column_names)), dtype=np.float64),\n",
    "        columns=column_names,\n",
    "        index=adata_filt.raw.var_names\n",
    "    )\n",
    "    \n",
    "    for group, idx in grouped.indices.items():\n",
    "        X = getX(adata_filt.raw[idx])\n",
    "        out[group.split(':')[0]] = np.ravel(X.mean(axis=0, dtype=np.float64))\n",
    "    return out\n"
   ]
  },
  {
   "cell_type": "code",
   "execution_count": 269,
   "id": "b1c403b1-d564-4a66-ae70-9984fc798665",
   "metadata": {
    "tags": []
   },
   "outputs": [
    {
     "name": "stderr",
     "output_type": "stream",
     "text": [
      "/tmp/ipykernel_501/3548609660.py:13: FutureWarning: The default of observed=False is deprecated and will be changed to True in a future version of pandas. Pass observed=False to retain current behavior or observed=True to adopt the future default and silence this warning.\n",
      "  grouped = adata_filt.obs.groupby(group_key)\n"
     ]
    }
   ],
   "source": [
    "Il1b_mean = grouped_obs_mean(adata, ['pbmc_sample_id'])"
   ]
  },
  {
   "cell_type": "code",
   "execution_count": 270,
   "id": "95dfb027-d025-4a27-ab46-005ead9a4dae",
   "metadata": {
    "tags": []
   },
   "outputs": [
    {
     "data": {
      "text/plain": [
       "(1705, 92)"
      ]
     },
     "execution_count": 270,
     "metadata": {},
     "output_type": "execute_result"
    }
   ],
   "source": [
    "Il1b_mean.shape"
   ]
  },
  {
   "cell_type": "code",
   "execution_count": 271,
   "id": "74e51685-295d-414c-8a45-d99b21ef4900",
   "metadata": {
    "tags": []
   },
   "outputs": [
    {
     "data": {
      "text/html": [
       "<div>\n",
       "<style scoped>\n",
       "    .dataframe tbody tr th:only-of-type {\n",
       "        vertical-align: middle;\n",
       "    }\n",
       "\n",
       "    .dataframe tbody tr th {\n",
       "        vertical-align: top;\n",
       "    }\n",
       "\n",
       "    .dataframe thead th {\n",
       "        text-align: right;\n",
       "    }\n",
       "</style>\n",
       "<table border=\"1\" class=\"dataframe\">\n",
       "  <thead>\n",
       "    <tr style=\"text-align: right;\">\n",
       "      <th></th>\n",
       "      <th>PB00001-01</th>\n",
       "      <th>PB00002-01</th>\n",
       "      <th>PB00003-01</th>\n",
       "      <th>PB00004-01</th>\n",
       "      <th>PB00006-01</th>\n",
       "      <th>PB00010-02</th>\n",
       "      <th>PB00012-01</th>\n",
       "      <th>PB00014-01</th>\n",
       "      <th>PB00015-01</th>\n",
       "      <th>PB00016-01</th>\n",
       "      <th>...</th>\n",
       "      <th>PB00592-01</th>\n",
       "      <th>PB00599-01</th>\n",
       "      <th>PB00600-01</th>\n",
       "      <th>PB00602-01</th>\n",
       "      <th>PB00621-01</th>\n",
       "      <th>PB00623-01</th>\n",
       "      <th>PB00625-02</th>\n",
       "      <th>PB00645-01</th>\n",
       "      <th>PB01425-01</th>\n",
       "      <th>PB01446-01</th>\n",
       "    </tr>\n",
       "  </thead>\n",
       "  <tbody>\n",
       "    <tr>\n",
       "      <th>ISG15</th>\n",
       "      <td>-0.035382</td>\n",
       "      <td>-0.120801</td>\n",
       "      <td>0.282110</td>\n",
       "      <td>-0.047321</td>\n",
       "      <td>-0.027795</td>\n",
       "      <td>-0.019217</td>\n",
       "      <td>-0.110614</td>\n",
       "      <td>0.007003</td>\n",
       "      <td>-0.102918</td>\n",
       "      <td>-0.032418</td>\n",
       "      <td>...</td>\n",
       "      <td>0.09233</td>\n",
       "      <td>0.179120</td>\n",
       "      <td>-0.006068</td>\n",
       "      <td>-0.204245</td>\n",
       "      <td>-0.013858</td>\n",
       "      <td>0.261630</td>\n",
       "      <td>-0.034899</td>\n",
       "      <td>0.038640</td>\n",
       "      <td>-0.064541</td>\n",
       "      <td>0.400525</td>\n",
       "    </tr>\n",
       "    <tr>\n",
       "      <th>C1orf159</th>\n",
       "      <td>-0.018376</td>\n",
       "      <td>-0.015714</td>\n",
       "      <td>-0.033987</td>\n",
       "      <td>0.013601</td>\n",
       "      <td>-0.009943</td>\n",
       "      <td>-0.003177</td>\n",
       "      <td>0.001537</td>\n",
       "      <td>-0.007691</td>\n",
       "      <td>-0.011151</td>\n",
       "      <td>0.024245</td>\n",
       "      <td>...</td>\n",
       "      <td>0.00546</td>\n",
       "      <td>0.028617</td>\n",
       "      <td>0.006711</td>\n",
       "      <td>-0.007484</td>\n",
       "      <td>0.023354</td>\n",
       "      <td>-0.008574</td>\n",
       "      <td>0.034783</td>\n",
       "      <td>0.028776</td>\n",
       "      <td>-0.003380</td>\n",
       "      <td>-0.051999</td>\n",
       "    </tr>\n",
       "  </tbody>\n",
       "</table>\n",
       "<p>2 rows × 92 columns</p>\n",
       "</div>"
      ],
      "text/plain": [
       "          PB00001-01  PB00002-01  PB00003-01  PB00004-01  PB00006-01  \\\n",
       "ISG15      -0.035382   -0.120801    0.282110   -0.047321   -0.027795   \n",
       "C1orf159   -0.018376   -0.015714   -0.033987    0.013601   -0.009943   \n",
       "\n",
       "          PB00010-02  PB00012-01  PB00014-01  PB00015-01  PB00016-01  ...  \\\n",
       "ISG15      -0.019217   -0.110614    0.007003   -0.102918   -0.032418  ...   \n",
       "C1orf159   -0.003177    0.001537   -0.007691   -0.011151    0.024245  ...   \n",
       "\n",
       "          PB00592-01  PB00599-01  PB00600-01  PB00602-01  PB00621-01  \\\n",
       "ISG15        0.09233    0.179120   -0.006068   -0.204245   -0.013858   \n",
       "C1orf159     0.00546    0.028617    0.006711   -0.007484    0.023354   \n",
       "\n",
       "          PB00623-01  PB00625-02  PB00645-01  PB01425-01  PB01446-01  \n",
       "ISG15       0.261630   -0.034899    0.038640   -0.064541    0.400525  \n",
       "C1orf159   -0.008574    0.034783    0.028776   -0.003380   -0.051999  \n",
       "\n",
       "[2 rows x 92 columns]"
      ]
     },
     "execution_count": 271,
     "metadata": {},
     "output_type": "execute_result"
    }
   ],
   "source": [
    "Il1b_mean.head(n=2)"
   ]
  },
  {
   "cell_type": "code",
   "execution_count": 272,
   "id": "2d303432-880f-4a4a-ad64-f6129c47364d",
   "metadata": {
    "tags": []
   },
   "outputs": [
    {
     "data": {
      "text/plain": [
       "Index(['ISG15', 'C1orf159', 'ACAP3', 'AL645728.1', 'MIB2', 'PRKCZ', 'MMEL1',\n",
       "       'MEGF6', 'SMIM1', 'TNFRSF25',\n",
       "       ...\n",
       "       'AL844908.1', 'ADARB1', 'COL18A1', 'DIP2A', 'MT-ND2', 'MT-ATP8',\n",
       "       'MT-ND4L', 'MT-ND5', 'MT-ND6', 'AC004556.1'],\n",
       "      dtype='object', length=1705)"
      ]
     },
     "execution_count": 272,
     "metadata": {},
     "output_type": "execute_result"
    }
   ],
   "source": [
    "Il1b_mean.index"
   ]
  },
  {
   "cell_type": "code",
   "execution_count": 273,
   "id": "788ba46e-3baf-48b1-886c-1b5d2ff1a329",
   "metadata": {
    "tags": []
   },
   "outputs": [
    {
     "data": {
      "text/html": [
       "<div>\n",
       "<style scoped>\n",
       "    .dataframe tbody tr th:only-of-type {\n",
       "        vertical-align: middle;\n",
       "    }\n",
       "\n",
       "    .dataframe tbody tr th {\n",
       "        vertical-align: top;\n",
       "    }\n",
       "\n",
       "    .dataframe thead th {\n",
       "        text-align: right;\n",
       "    }\n",
       "</style>\n",
       "<table border=\"1\" class=\"dataframe\">\n",
       "  <thead>\n",
       "    <tr style=\"text-align: right;\">\n",
       "      <th></th>\n",
       "      <th>PB00001-01</th>\n",
       "      <th>PB00002-01</th>\n",
       "      <th>PB00003-01</th>\n",
       "      <th>PB00004-01</th>\n",
       "      <th>PB00006-01</th>\n",
       "      <th>PB00010-02</th>\n",
       "      <th>PB00012-01</th>\n",
       "      <th>PB00014-01</th>\n",
       "      <th>PB00015-01</th>\n",
       "      <th>PB00016-01</th>\n",
       "      <th>...</th>\n",
       "      <th>PB00592-01</th>\n",
       "      <th>PB00599-01</th>\n",
       "      <th>PB00600-01</th>\n",
       "      <th>PB00602-01</th>\n",
       "      <th>PB00621-01</th>\n",
       "      <th>PB00623-01</th>\n",
       "      <th>PB00625-02</th>\n",
       "      <th>PB00645-01</th>\n",
       "      <th>PB01425-01</th>\n",
       "      <th>PB01446-01</th>\n",
       "    </tr>\n",
       "  </thead>\n",
       "  <tbody>\n",
       "    <tr>\n",
       "      <th>ISG15</th>\n",
       "      <td>-0.035382</td>\n",
       "      <td>-0.120801</td>\n",
       "      <td>0.282110</td>\n",
       "      <td>-0.047321</td>\n",
       "      <td>-0.027795</td>\n",
       "      <td>-0.019217</td>\n",
       "      <td>-0.110614</td>\n",
       "      <td>0.007003</td>\n",
       "      <td>-0.102918</td>\n",
       "      <td>-0.032418</td>\n",
       "      <td>...</td>\n",
       "      <td>0.09233</td>\n",
       "      <td>0.179120</td>\n",
       "      <td>-0.006068</td>\n",
       "      <td>-0.204245</td>\n",
       "      <td>-0.013858</td>\n",
       "      <td>0.261630</td>\n",
       "      <td>-0.034899</td>\n",
       "      <td>0.038640</td>\n",
       "      <td>-0.064541</td>\n",
       "      <td>0.400525</td>\n",
       "    </tr>\n",
       "    <tr>\n",
       "      <th>C1orf159</th>\n",
       "      <td>-0.018376</td>\n",
       "      <td>-0.015714</td>\n",
       "      <td>-0.033987</td>\n",
       "      <td>0.013601</td>\n",
       "      <td>-0.009943</td>\n",
       "      <td>-0.003177</td>\n",
       "      <td>0.001537</td>\n",
       "      <td>-0.007691</td>\n",
       "      <td>-0.011151</td>\n",
       "      <td>0.024245</td>\n",
       "      <td>...</td>\n",
       "      <td>0.00546</td>\n",
       "      <td>0.028617</td>\n",
       "      <td>0.006711</td>\n",
       "      <td>-0.007484</td>\n",
       "      <td>0.023354</td>\n",
       "      <td>-0.008574</td>\n",
       "      <td>0.034783</td>\n",
       "      <td>0.028776</td>\n",
       "      <td>-0.003380</td>\n",
       "      <td>-0.051999</td>\n",
       "    </tr>\n",
       "  </tbody>\n",
       "</table>\n",
       "<p>2 rows × 92 columns</p>\n",
       "</div>"
      ],
      "text/plain": [
       "          PB00001-01  PB00002-01  PB00003-01  PB00004-01  PB00006-01  \\\n",
       "ISG15      -0.035382   -0.120801    0.282110   -0.047321   -0.027795   \n",
       "C1orf159   -0.018376   -0.015714   -0.033987    0.013601   -0.009943   \n",
       "\n",
       "          PB00010-02  PB00012-01  PB00014-01  PB00015-01  PB00016-01  ...  \\\n",
       "ISG15      -0.019217   -0.110614    0.007003   -0.102918   -0.032418  ...   \n",
       "C1orf159   -0.003177    0.001537   -0.007691   -0.011151    0.024245  ...   \n",
       "\n",
       "          PB00592-01  PB00599-01  PB00600-01  PB00602-01  PB00621-01  \\\n",
       "ISG15        0.09233    0.179120   -0.006068   -0.204245   -0.013858   \n",
       "C1orf159     0.00546    0.028617    0.006711   -0.007484    0.023354   \n",
       "\n",
       "          PB00623-01  PB00625-02  PB00645-01  PB01425-01  PB01446-01  \n",
       "ISG15       0.261630   -0.034899    0.038640   -0.064541    0.400525  \n",
       "C1orf159   -0.008574    0.034783    0.028776   -0.003380   -0.051999  \n",
       "\n",
       "[2 rows x 92 columns]"
      ]
     },
     "execution_count": 273,
     "metadata": {},
     "output_type": "execute_result"
    }
   ],
   "source": [
    "Il1b_mean.head(n=2)"
   ]
  },
  {
   "cell_type": "code",
   "execution_count": 274,
   "id": "959cbe8d-c042-4df5-98e2-74868e8b6451",
   "metadata": {
    "tags": []
   },
   "outputs": [],
   "source": [
    "# Save DataFrame to CSV\n",
    "Il1b_mean.to_csv('Core_CD14_mono_Heatmap_expression_matrix_v1.csv')"
   ]
  }
 ],
 "metadata": {
  "kernelspec": {
   "display_name": "Python 3 (ipykernel)",
   "language": "python",
   "name": "python3"
  },
  "language_info": {
   "codemirror_mode": {
    "name": "ipython",
    "version": 3
   },
   "file_extension": ".py",
   "mimetype": "text/x-python",
   "name": "python",
   "nbconvert_exporter": "python",
   "pygments_lexer": "ipython3",
   "version": "3.10.12"
  }
 },
 "nbformat": 4,
 "nbformat_minor": 5
}
