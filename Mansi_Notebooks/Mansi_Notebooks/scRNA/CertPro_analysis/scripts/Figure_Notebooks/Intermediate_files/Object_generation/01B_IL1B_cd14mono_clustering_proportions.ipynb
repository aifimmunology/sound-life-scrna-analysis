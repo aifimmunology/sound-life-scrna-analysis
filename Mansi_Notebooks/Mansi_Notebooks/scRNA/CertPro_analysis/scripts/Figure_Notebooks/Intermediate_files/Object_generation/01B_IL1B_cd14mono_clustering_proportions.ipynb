{
 "cells": [
  {
   "cell_type": "code",
   "execution_count": null,
   "id": "de828391-10c6-46f4-82d7-7a399c621777",
   "metadata": {},
   "outputs": [],
   "source": []
  },
  {
   "cell_type": "code",
   "execution_count": 20,
   "id": "79cdc498-d791-4926-9dd9-55e93f328928",
   "metadata": {
    "tags": []
   },
   "outputs": [
    {
     "ename": "ERROR",
     "evalue": "Error in library(compositions): there is no package called ‘compositions’\n",
     "output_type": "error",
     "traceback": [
      "Error in library(compositions): there is no package called ‘compositions’\nTraceback:\n",
      "1. library(compositions)"
     ]
    }
   ],
   "source": [
    "suppressPackageStartupMessages(library(readxl))\n",
    "suppressPackageStartupMessages(library(dplyr))\n",
    "suppressPackageStartupMessages(library(tidyr))\n",
    "suppressPackageStartupMessages(library(tibble))\n",
    "suppressPackageStartupMessages(library(patchwork))\n",
    "suppressPackageStartupMessages(library(pheatmap))\n",
    "suppressPackageStartupMessages(library(stringr))\n",
    "library(hise)\n",
    "library(plyr)\n",
    "library(purrr)\n",
    "library(vegan)\n",
    "#library(arrow)\n",
    "library(rstatix)\n",
    "library(parallel)\n",
    "library(ggpubr)\n",
    "library(ComplexHeatmap)\n",
    "library(compositions)\n",
    "library(ggsci)\n",
    "library(math)\n",
    "library(NatParksPalettes)"
   ]
  },
  {
   "cell_type": "markdown",
   "id": "ec1a7ecb-bb13-4e7b-9934-4965a975aec8",
   "metadata": {},
   "source": [
    "# Read data"
   ]
  },
  {
   "cell_type": "code",
   "execution_count": 4,
   "id": "f58719e1-aea7-48aa-92b4-fb44d8293a3c",
   "metadata": {
    "tags": []
   },
   "outputs": [],
   "source": [
    "# Read the CSV file into a data frame\n",
    "read_df <- read.csv('/home/jupyter/IH-A-Aging-Analysis-Notebooks_old/Mansi_Notebooks/scRNA/CertPro_analysis/scripts/Figure_Notebooks/Intermediate_files/Object_generation/Il1B_Cd14_mono_obsdata_certpro.csv')\n"
   ]
  },
  {
   "cell_type": "code",
   "execution_count": 5,
   "id": "23ec35b8-e7a4-4d5a-a938-d594f9ef424e",
   "metadata": {
    "tags": []
   },
   "outputs": [
    {
     "data": {
      "text/html": [
       "'/home/jupyter/IH-A-Aging-Analysis-Notebooks_old/Mansi_Notebooks/scRNA/CertPro_analysis/scripts/Figure_Notebooks/Intermediate_files/Object_generation'"
      ],
      "text/latex": [
       "'/home/jupyter/IH-A-Aging-Analysis-Notebooks\\_old/Mansi\\_Notebooks/scRNA/CertPro\\_analysis/scripts/Figure\\_Notebooks/Intermediate\\_files/Object\\_generation'"
      ],
      "text/markdown": [
       "'/home/jupyter/IH-A-Aging-Analysis-Notebooks_old/Mansi_Notebooks/scRNA/CertPro_analysis/scripts/Figure_Notebooks/Intermediate_files/Object_generation'"
      ],
      "text/plain": [
       "[1] \"/home/jupyter/IH-A-Aging-Analysis-Notebooks_old/Mansi_Notebooks/scRNA/CertPro_analysis/scripts/Figure_Notebooks/Intermediate_files/Object_generation\""
      ]
     },
     "metadata": {},
     "output_type": "display_data"
    }
   ],
   "source": [
    "getwd()"
   ]
  },
  {
   "cell_type": "code",
   "execution_count": 6,
   "id": "c5fbdbda-45fa-4ee7-b5ba-cb3c5654516d",
   "metadata": {
    "tags": []
   },
   "outputs": [],
   "source": [
    "read_df$facet <- paste(read_df$subject.biologicalSex, read_df$cohort.cohortGuid, sep = \"_\")"
   ]
  },
  {
   "cell_type": "code",
   "execution_count": 7,
   "id": "a98977d5-7b59-443c-9b84-7ae934819ae9",
   "metadata": {
    "tags": []
   },
   "outputs": [
    {
     "data": {
      "text/html": [
       "<table class=\"dataframe\">\n",
       "<caption>A data.frame: 6 × 42</caption>\n",
       "<thead>\n",
       "\t<tr><th></th><th scope=col>barcodes</th><th scope=col>original_barcodes</th><th scope=col>cell_name</th><th scope=col>batch_id</th><th scope=col>pool_id</th><th scope=col>chip_id</th><th scope=col>well_id</th><th scope=col>n_genes</th><th scope=col>n_reads</th><th scope=col>n_umis</th><th scope=col>⋯</th><th scope=col>sample.visitName</th><th scope=col>sample.drawDate</th><th scope=col>sample.subjectAgeAtDraw</th><th scope=col>specimen.specimenGuid</th><th scope=col>pipeline.fileGuid</th><th scope=col>leiden_resolution_0.5</th><th scope=col>leiden_resolution_1</th><th scope=col>leiden_resolution_1.5</th><th scope=col>leiden_resolution_2</th><th scope=col>facet</th></tr>\n",
       "\t<tr><th></th><th scope=col>&lt;chr&gt;</th><th scope=col>&lt;chr&gt;</th><th scope=col>&lt;chr&gt;</th><th scope=col>&lt;chr&gt;</th><th scope=col>&lt;chr&gt;</th><th scope=col>&lt;chr&gt;</th><th scope=col>&lt;chr&gt;</th><th scope=col>&lt;int&gt;</th><th scope=col>&lt;int&gt;</th><th scope=col>&lt;int&gt;</th><th scope=col>⋯</th><th scope=col>&lt;chr&gt;</th><th scope=col>&lt;chr&gt;</th><th scope=col>&lt;int&gt;</th><th scope=col>&lt;chr&gt;</th><th scope=col>&lt;chr&gt;</th><th scope=col>&lt;int&gt;</th><th scope=col>&lt;int&gt;</th><th scope=col>&lt;int&gt;</th><th scope=col>&lt;int&gt;</th><th scope=col>&lt;chr&gt;</th></tr>\n",
       "</thead>\n",
       "<tbody>\n",
       "\t<tr><th scope=row>1</th><td>70ab258848b611eaa65d9e7d578d66f2</td><td>ATCACTTAGATACAGT</td><td>pine_enervated_caracal      </td><td>B001</td><td>B001-P1</td><td>B001-P1C1</td><td>B001-P1C1W2</td><td>2354</td><td>27740</td><td> 8105</td><td>⋯</td><td>Flu Year 1 Day 0</td><td>2019-10</td><td>32</td><td>PB00001-01</td><td>fec489f9-9a74-4635-aa91-d2bf09d1faec</td><td>1</td><td>1</td><td> 1</td><td> 7</td><td>Female_BR1</td></tr>\n",
       "\t<tr><th scope=row>2</th><td>70acf29648b611eaa65d9e7d578d66f2</td><td>ATGCCTCGTTTGAACC</td><td>bland_sandy_owl             </td><td>B001</td><td>B001-P1</td><td>B001-P1C1</td><td>B001-P1C1W2</td><td>4302</td><td>73872</td><td>21505</td><td>⋯</td><td>Flu Year 1 Day 0</td><td>2019-10</td><td>32</td><td>PB00001-01</td><td>fec489f9-9a74-4635-aa91-d2bf09d1faec</td><td>2</td><td>4</td><td> 3</td><td> 2</td><td>Female_BR1</td></tr>\n",
       "\t<tr><th scope=row>3</th><td>70d2b34648b611eaa65d9e7d578d66f2</td><td>TCAGTTTAGCGCCTCA</td><td>mellow_intact_gecko         </td><td>B001</td><td>B001-P1</td><td>B001-P1C1</td><td>B001-P1C1W2</td><td>2176</td><td>20037</td><td> 6038</td><td>⋯</td><td>Flu Year 1 Day 0</td><td>2019-10</td><td>32</td><td>PB00001-01</td><td>fec489f9-9a74-4635-aa91-d2bf09d1faec</td><td>2</td><td>5</td><td> 7</td><td>11</td><td>Female_BR1</td></tr>\n",
       "\t<tr><th scope=row>4</th><td>a711a6d8489811ea92388a6a0c683ffb</td><td>AGACCATAGCGTCAAG</td><td>villainous_preoceanic_jackal</td><td>B001</td><td>B001-P1</td><td>B001-P1C1</td><td>B001-P1C1W3</td><td>1287</td><td> 9010</td><td> 2906</td><td>⋯</td><td>Flu Year 1 Day 0</td><td>2019-10</td><td>32</td><td>PB00001-01</td><td>fec489f9-9a74-4635-aa91-d2bf09d1faec</td><td>2</td><td>2</td><td> 3</td><td>12</td><td>Female_BR1</td></tr>\n",
       "\t<tr><th scope=row>5</th><td>a78438c4489811ea92388a6a0c683ffb</td><td>TTCCACGTCTTTCCGG</td><td>abdicable_centerable_gnu    </td><td>B001</td><td>B001-P1</td><td>B001-P1C1</td><td>B001-P1C1W3</td><td>1051</td><td> 6492</td><td> 2278</td><td>⋯</td><td>Flu Year 1 Day 0</td><td>2019-10</td><td>32</td><td>PB00001-01</td><td>fec489f9-9a74-4635-aa91-d2bf09d1faec</td><td>1</td><td>1</td><td>14</td><td>14</td><td>Female_BR1</td></tr>\n",
       "\t<tr><th scope=row>6</th><td>c688c40e48bd11eab2ee7a6edf799b61</td><td>ATTCACTAGGTAGACC</td><td>unsinkable_extendible_volvox</td><td>B001</td><td>B001-P1</td><td>B001-P1C1</td><td>B001-P1C1W4</td><td>1435</td><td>11925</td><td> 3790</td><td>⋯</td><td>Flu Year 1 Day 0</td><td>2019-10</td><td>32</td><td>PB00001-01</td><td>fec489f9-9a74-4635-aa91-d2bf09d1faec</td><td>2</td><td>1</td><td> 1</td><td> 5</td><td>Female_BR1</td></tr>\n",
       "</tbody>\n",
       "</table>\n"
      ],
      "text/latex": [
       "A data.frame: 6 × 42\n",
       "\\begin{tabular}{r|lllllllllllllllllllll}\n",
       "  & barcodes & original\\_barcodes & cell\\_name & batch\\_id & pool\\_id & chip\\_id & well\\_id & n\\_genes & n\\_reads & n\\_umis & ⋯ & sample.visitName & sample.drawDate & sample.subjectAgeAtDraw & specimen.specimenGuid & pipeline.fileGuid & leiden\\_resolution\\_0.5 & leiden\\_resolution\\_1 & leiden\\_resolution\\_1.5 & leiden\\_resolution\\_2 & facet\\\\\n",
       "  & <chr> & <chr> & <chr> & <chr> & <chr> & <chr> & <chr> & <int> & <int> & <int> & ⋯ & <chr> & <chr> & <int> & <chr> & <chr> & <int> & <int> & <int> & <int> & <chr>\\\\\n",
       "\\hline\n",
       "\t1 & 70ab258848b611eaa65d9e7d578d66f2 & ATCACTTAGATACAGT & pine\\_enervated\\_caracal       & B001 & B001-P1 & B001-P1C1 & B001-P1C1W2 & 2354 & 27740 &  8105 & ⋯ & Flu Year 1 Day 0 & 2019-10 & 32 & PB00001-01 & fec489f9-9a74-4635-aa91-d2bf09d1faec & 1 & 1 &  1 &  7 & Female\\_BR1\\\\\n",
       "\t2 & 70acf29648b611eaa65d9e7d578d66f2 & ATGCCTCGTTTGAACC & bland\\_sandy\\_owl              & B001 & B001-P1 & B001-P1C1 & B001-P1C1W2 & 4302 & 73872 & 21505 & ⋯ & Flu Year 1 Day 0 & 2019-10 & 32 & PB00001-01 & fec489f9-9a74-4635-aa91-d2bf09d1faec & 2 & 4 &  3 &  2 & Female\\_BR1\\\\\n",
       "\t3 & 70d2b34648b611eaa65d9e7d578d66f2 & TCAGTTTAGCGCCTCA & mellow\\_intact\\_gecko          & B001 & B001-P1 & B001-P1C1 & B001-P1C1W2 & 2176 & 20037 &  6038 & ⋯ & Flu Year 1 Day 0 & 2019-10 & 32 & PB00001-01 & fec489f9-9a74-4635-aa91-d2bf09d1faec & 2 & 5 &  7 & 11 & Female\\_BR1\\\\\n",
       "\t4 & a711a6d8489811ea92388a6a0c683ffb & AGACCATAGCGTCAAG & villainous\\_preoceanic\\_jackal & B001 & B001-P1 & B001-P1C1 & B001-P1C1W3 & 1287 &  9010 &  2906 & ⋯ & Flu Year 1 Day 0 & 2019-10 & 32 & PB00001-01 & fec489f9-9a74-4635-aa91-d2bf09d1faec & 2 & 2 &  3 & 12 & Female\\_BR1\\\\\n",
       "\t5 & a78438c4489811ea92388a6a0c683ffb & TTCCACGTCTTTCCGG & abdicable\\_centerable\\_gnu     & B001 & B001-P1 & B001-P1C1 & B001-P1C1W3 & 1051 &  6492 &  2278 & ⋯ & Flu Year 1 Day 0 & 2019-10 & 32 & PB00001-01 & fec489f9-9a74-4635-aa91-d2bf09d1faec & 1 & 1 & 14 & 14 & Female\\_BR1\\\\\n",
       "\t6 & c688c40e48bd11eab2ee7a6edf799b61 & ATTCACTAGGTAGACC & unsinkable\\_extendible\\_volvox & B001 & B001-P1 & B001-P1C1 & B001-P1C1W4 & 1435 & 11925 &  3790 & ⋯ & Flu Year 1 Day 0 & 2019-10 & 32 & PB00001-01 & fec489f9-9a74-4635-aa91-d2bf09d1faec & 2 & 1 &  1 &  5 & Female\\_BR1\\\\\n",
       "\\end{tabular}\n"
      ],
      "text/markdown": [
       "\n",
       "A data.frame: 6 × 42\n",
       "\n",
       "| <!--/--> | barcodes &lt;chr&gt; | original_barcodes &lt;chr&gt; | cell_name &lt;chr&gt; | batch_id &lt;chr&gt; | pool_id &lt;chr&gt; | chip_id &lt;chr&gt; | well_id &lt;chr&gt; | n_genes &lt;int&gt; | n_reads &lt;int&gt; | n_umis &lt;int&gt; | ⋯ ⋯ | sample.visitName &lt;chr&gt; | sample.drawDate &lt;chr&gt; | sample.subjectAgeAtDraw &lt;int&gt; | specimen.specimenGuid &lt;chr&gt; | pipeline.fileGuid &lt;chr&gt; | leiden_resolution_0.5 &lt;int&gt; | leiden_resolution_1 &lt;int&gt; | leiden_resolution_1.5 &lt;int&gt; | leiden_resolution_2 &lt;int&gt; | facet &lt;chr&gt; |\n",
       "|---|---|---|---|---|---|---|---|---|---|---|---|---|---|---|---|---|---|---|---|---|---|\n",
       "| 1 | 70ab258848b611eaa65d9e7d578d66f2 | ATCACTTAGATACAGT | pine_enervated_caracal       | B001 | B001-P1 | B001-P1C1 | B001-P1C1W2 | 2354 | 27740 |  8105 | ⋯ | Flu Year 1 Day 0 | 2019-10 | 32 | PB00001-01 | fec489f9-9a74-4635-aa91-d2bf09d1faec | 1 | 1 |  1 |  7 | Female_BR1 |\n",
       "| 2 | 70acf29648b611eaa65d9e7d578d66f2 | ATGCCTCGTTTGAACC | bland_sandy_owl              | B001 | B001-P1 | B001-P1C1 | B001-P1C1W2 | 4302 | 73872 | 21505 | ⋯ | Flu Year 1 Day 0 | 2019-10 | 32 | PB00001-01 | fec489f9-9a74-4635-aa91-d2bf09d1faec | 2 | 4 |  3 |  2 | Female_BR1 |\n",
       "| 3 | 70d2b34648b611eaa65d9e7d578d66f2 | TCAGTTTAGCGCCTCA | mellow_intact_gecko          | B001 | B001-P1 | B001-P1C1 | B001-P1C1W2 | 2176 | 20037 |  6038 | ⋯ | Flu Year 1 Day 0 | 2019-10 | 32 | PB00001-01 | fec489f9-9a74-4635-aa91-d2bf09d1faec | 2 | 5 |  7 | 11 | Female_BR1 |\n",
       "| 4 | a711a6d8489811ea92388a6a0c683ffb | AGACCATAGCGTCAAG | villainous_preoceanic_jackal | B001 | B001-P1 | B001-P1C1 | B001-P1C1W3 | 1287 |  9010 |  2906 | ⋯ | Flu Year 1 Day 0 | 2019-10 | 32 | PB00001-01 | fec489f9-9a74-4635-aa91-d2bf09d1faec | 2 | 2 |  3 | 12 | Female_BR1 |\n",
       "| 5 | a78438c4489811ea92388a6a0c683ffb | TTCCACGTCTTTCCGG | abdicable_centerable_gnu     | B001 | B001-P1 | B001-P1C1 | B001-P1C1W3 | 1051 |  6492 |  2278 | ⋯ | Flu Year 1 Day 0 | 2019-10 | 32 | PB00001-01 | fec489f9-9a74-4635-aa91-d2bf09d1faec | 1 | 1 | 14 | 14 | Female_BR1 |\n",
       "| 6 | c688c40e48bd11eab2ee7a6edf799b61 | ATTCACTAGGTAGACC | unsinkable_extendible_volvox | B001 | B001-P1 | B001-P1C1 | B001-P1C1W4 | 1435 | 11925 |  3790 | ⋯ | Flu Year 1 Day 0 | 2019-10 | 32 | PB00001-01 | fec489f9-9a74-4635-aa91-d2bf09d1faec | 2 | 1 |  1 |  5 | Female_BR1 |\n",
       "\n"
      ],
      "text/plain": [
       "  barcodes                         original_barcodes\n",
       "1 70ab258848b611eaa65d9e7d578d66f2 ATCACTTAGATACAGT \n",
       "2 70acf29648b611eaa65d9e7d578d66f2 ATGCCTCGTTTGAACC \n",
       "3 70d2b34648b611eaa65d9e7d578d66f2 TCAGTTTAGCGCCTCA \n",
       "4 a711a6d8489811ea92388a6a0c683ffb AGACCATAGCGTCAAG \n",
       "5 a78438c4489811ea92388a6a0c683ffb TTCCACGTCTTTCCGG \n",
       "6 c688c40e48bd11eab2ee7a6edf799b61 ATTCACTAGGTAGACC \n",
       "  cell_name                    batch_id pool_id chip_id   well_id     n_genes\n",
       "1 pine_enervated_caracal       B001     B001-P1 B001-P1C1 B001-P1C1W2 2354   \n",
       "2 bland_sandy_owl              B001     B001-P1 B001-P1C1 B001-P1C1W2 4302   \n",
       "3 mellow_intact_gecko          B001     B001-P1 B001-P1C1 B001-P1C1W2 2176   \n",
       "4 villainous_preoceanic_jackal B001     B001-P1 B001-P1C1 B001-P1C1W3 1287   \n",
       "5 abdicable_centerable_gnu     B001     B001-P1 B001-P1C1 B001-P1C1W3 1051   \n",
       "6 unsinkable_extendible_volvox B001     B001-P1 B001-P1C1 B001-P1C1W4 1435   \n",
       "  n_reads n_umis ⋯ sample.visitName sample.drawDate sample.subjectAgeAtDraw\n",
       "1 27740    8105  ⋯ Flu Year 1 Day 0 2019-10         32                     \n",
       "2 73872   21505  ⋯ Flu Year 1 Day 0 2019-10         32                     \n",
       "3 20037    6038  ⋯ Flu Year 1 Day 0 2019-10         32                     \n",
       "4  9010    2906  ⋯ Flu Year 1 Day 0 2019-10         32                     \n",
       "5  6492    2278  ⋯ Flu Year 1 Day 0 2019-10         32                     \n",
       "6 11925    3790  ⋯ Flu Year 1 Day 0 2019-10         32                     \n",
       "  specimen.specimenGuid pipeline.fileGuid                   \n",
       "1 PB00001-01            fec489f9-9a74-4635-aa91-d2bf09d1faec\n",
       "2 PB00001-01            fec489f9-9a74-4635-aa91-d2bf09d1faec\n",
       "3 PB00001-01            fec489f9-9a74-4635-aa91-d2bf09d1faec\n",
       "4 PB00001-01            fec489f9-9a74-4635-aa91-d2bf09d1faec\n",
       "5 PB00001-01            fec489f9-9a74-4635-aa91-d2bf09d1faec\n",
       "6 PB00001-01            fec489f9-9a74-4635-aa91-d2bf09d1faec\n",
       "  leiden_resolution_0.5 leiden_resolution_1 leiden_resolution_1.5\n",
       "1 1                     1                    1                   \n",
       "2 2                     4                    3                   \n",
       "3 2                     5                    7                   \n",
       "4 2                     2                    3                   \n",
       "5 1                     1                   14                   \n",
       "6 2                     1                    1                   \n",
       "  leiden_resolution_2 facet     \n",
       "1  7                  Female_BR1\n",
       "2  2                  Female_BR1\n",
       "3 11                  Female_BR1\n",
       "4 12                  Female_BR1\n",
       "5 14                  Female_BR1\n",
       "6  5                  Female_BR1"
      ]
     },
     "metadata": {},
     "output_type": "display_data"
    },
    {
     "data": {
      "text/html": [
       "<style>\n",
       ".list-inline {list-style: none; margin:0; padding: 0}\n",
       ".list-inline>li {display: inline-block}\n",
       ".list-inline>li:not(:last-child)::after {content: \"\\00b7\"; padding: 0 .5ex}\n",
       "</style>\n",
       "<ol class=list-inline><li>'barcodes'</li><li>'original_barcodes'</li><li>'cell_name'</li><li>'batch_id'</li><li>'pool_id'</li><li>'chip_id'</li><li>'well_id'</li><li>'n_genes'</li><li>'n_reads'</li><li>'n_umis'</li><li>'total_counts_mito'</li><li>'pct_counts_mito'</li><li>'doublet_score'</li><li>'predicted_AIFI_L1'</li><li>'AIFI_L1_score'</li><li>'AIFI_L1'</li><li>'predicted_AIFI_L2'</li><li>'AIFI_L2_score'</li><li>'AIFI_L2'</li><li>'predicted_AIFI_L3'</li><li>'AIFI_L3_score'</li><li>'AIFI_L3'</li><li>'sample.sampleKitGuid'</li><li>'cohort.cohortGuid'</li><li>'subject.subjectGuid'</li><li>'subject.biologicalSex'</li><li>'subject.cmv'</li><li>'subject.bmi'</li><li>'subject.race'</li><li>'subject.ethnicity'</li><li>'subject.birthYear'</li><li>'subject.ageAtFirstDraw'</li><li>'sample.visitName'</li><li>'sample.drawDate'</li><li>'sample.subjectAgeAtDraw'</li><li>'specimen.specimenGuid'</li><li>'pipeline.fileGuid'</li><li>'leiden_resolution_0.5'</li><li>'leiden_resolution_1'</li><li>'leiden_resolution_1.5'</li><li>'leiden_resolution_2'</li><li>'facet'</li></ol>\n"
      ],
      "text/latex": [
       "\\begin{enumerate*}\n",
       "\\item 'barcodes'\n",
       "\\item 'original\\_barcodes'\n",
       "\\item 'cell\\_name'\n",
       "\\item 'batch\\_id'\n",
       "\\item 'pool\\_id'\n",
       "\\item 'chip\\_id'\n",
       "\\item 'well\\_id'\n",
       "\\item 'n\\_genes'\n",
       "\\item 'n\\_reads'\n",
       "\\item 'n\\_umis'\n",
       "\\item 'total\\_counts\\_mito'\n",
       "\\item 'pct\\_counts\\_mito'\n",
       "\\item 'doublet\\_score'\n",
       "\\item 'predicted\\_AIFI\\_L1'\n",
       "\\item 'AIFI\\_L1\\_score'\n",
       "\\item 'AIFI\\_L1'\n",
       "\\item 'predicted\\_AIFI\\_L2'\n",
       "\\item 'AIFI\\_L2\\_score'\n",
       "\\item 'AIFI\\_L2'\n",
       "\\item 'predicted\\_AIFI\\_L3'\n",
       "\\item 'AIFI\\_L3\\_score'\n",
       "\\item 'AIFI\\_L3'\n",
       "\\item 'sample.sampleKitGuid'\n",
       "\\item 'cohort.cohortGuid'\n",
       "\\item 'subject.subjectGuid'\n",
       "\\item 'subject.biologicalSex'\n",
       "\\item 'subject.cmv'\n",
       "\\item 'subject.bmi'\n",
       "\\item 'subject.race'\n",
       "\\item 'subject.ethnicity'\n",
       "\\item 'subject.birthYear'\n",
       "\\item 'subject.ageAtFirstDraw'\n",
       "\\item 'sample.visitName'\n",
       "\\item 'sample.drawDate'\n",
       "\\item 'sample.subjectAgeAtDraw'\n",
       "\\item 'specimen.specimenGuid'\n",
       "\\item 'pipeline.fileGuid'\n",
       "\\item 'leiden\\_resolution\\_0.5'\n",
       "\\item 'leiden\\_resolution\\_1'\n",
       "\\item 'leiden\\_resolution\\_1.5'\n",
       "\\item 'leiden\\_resolution\\_2'\n",
       "\\item 'facet'\n",
       "\\end{enumerate*}\n"
      ],
      "text/markdown": [
       "1. 'barcodes'\n",
       "2. 'original_barcodes'\n",
       "3. 'cell_name'\n",
       "4. 'batch_id'\n",
       "5. 'pool_id'\n",
       "6. 'chip_id'\n",
       "7. 'well_id'\n",
       "8. 'n_genes'\n",
       "9. 'n_reads'\n",
       "10. 'n_umis'\n",
       "11. 'total_counts_mito'\n",
       "12. 'pct_counts_mito'\n",
       "13. 'doublet_score'\n",
       "14. 'predicted_AIFI_L1'\n",
       "15. 'AIFI_L1_score'\n",
       "16. 'AIFI_L1'\n",
       "17. 'predicted_AIFI_L2'\n",
       "18. 'AIFI_L2_score'\n",
       "19. 'AIFI_L2'\n",
       "20. 'predicted_AIFI_L3'\n",
       "21. 'AIFI_L3_score'\n",
       "22. 'AIFI_L3'\n",
       "23. 'sample.sampleKitGuid'\n",
       "24. 'cohort.cohortGuid'\n",
       "25. 'subject.subjectGuid'\n",
       "26. 'subject.biologicalSex'\n",
       "27. 'subject.cmv'\n",
       "28. 'subject.bmi'\n",
       "29. 'subject.race'\n",
       "30. 'subject.ethnicity'\n",
       "31. 'subject.birthYear'\n",
       "32. 'subject.ageAtFirstDraw'\n",
       "33. 'sample.visitName'\n",
       "34. 'sample.drawDate'\n",
       "35. 'sample.subjectAgeAtDraw'\n",
       "36. 'specimen.specimenGuid'\n",
       "37. 'pipeline.fileGuid'\n",
       "38. 'leiden_resolution_0.5'\n",
       "39. 'leiden_resolution_1'\n",
       "40. 'leiden_resolution_1.5'\n",
       "41. 'leiden_resolution_2'\n",
       "42. 'facet'\n",
       "\n",
       "\n"
      ],
      "text/plain": [
       " [1] \"barcodes\"                \"original_barcodes\"      \n",
       " [3] \"cell_name\"               \"batch_id\"               \n",
       " [5] \"pool_id\"                 \"chip_id\"                \n",
       " [7] \"well_id\"                 \"n_genes\"                \n",
       " [9] \"n_reads\"                 \"n_umis\"                 \n",
       "[11] \"total_counts_mito\"       \"pct_counts_mito\"        \n",
       "[13] \"doublet_score\"           \"predicted_AIFI_L1\"      \n",
       "[15] \"AIFI_L1_score\"           \"AIFI_L1\"                \n",
       "[17] \"predicted_AIFI_L2\"       \"AIFI_L2_score\"          \n",
       "[19] \"AIFI_L2\"                 \"predicted_AIFI_L3\"      \n",
       "[21] \"AIFI_L3_score\"           \"AIFI_L3\"                \n",
       "[23] \"sample.sampleKitGuid\"    \"cohort.cohortGuid\"      \n",
       "[25] \"subject.subjectGuid\"     \"subject.biologicalSex\"  \n",
       "[27] \"subject.cmv\"             \"subject.bmi\"            \n",
       "[29] \"subject.race\"            \"subject.ethnicity\"      \n",
       "[31] \"subject.birthYear\"       \"subject.ageAtFirstDraw\" \n",
       "[33] \"sample.visitName\"        \"sample.drawDate\"        \n",
       "[35] \"sample.subjectAgeAtDraw\" \"specimen.specimenGuid\"  \n",
       "[37] \"pipeline.fileGuid\"       \"leiden_resolution_0.5\"  \n",
       "[39] \"leiden_resolution_1\"     \"leiden_resolution_1.5\"  \n",
       "[41] \"leiden_resolution_2\"     \"facet\"                  "
      ]
     },
     "metadata": {},
     "output_type": "display_data"
    },
    {
     "data": {
      "text/html": [
       "92"
      ],
      "text/latex": [
       "92"
      ],
      "text/markdown": [
       "92"
      ],
      "text/plain": [
       "[1] 92"
      ]
     },
     "metadata": {},
     "output_type": "display_data"
    },
    {
     "data": {
      "text/html": [
       "92"
      ],
      "text/latex": [
       "92"
      ],
      "text/markdown": [
       "92"
      ],
      "text/plain": [
       "[1] 92"
      ]
     },
     "metadata": {},
     "output_type": "display_data"
    },
    {
     "data": {
      "text/html": [
       "<style>\n",
       ".list-inline {list-style: none; margin:0; padding: 0}\n",
       ".list-inline>li {display: inline-block}\n",
       ".list-inline>li:not(:last-child)::after {content: \"\\00b7\"; padding: 0 .5ex}\n",
       "</style>\n",
       "<ol class=list-inline><li>2835</li><li>42</li></ol>\n"
      ],
      "text/latex": [
       "\\begin{enumerate*}\n",
       "\\item 2835\n",
       "\\item 42\n",
       "\\end{enumerate*}\n"
      ],
      "text/markdown": [
       "1. 2835\n",
       "2. 42\n",
       "\n",
       "\n"
      ],
      "text/plain": [
       "[1] 2835   42"
      ]
     },
     "metadata": {},
     "output_type": "display_data"
    }
   ],
   "source": [
    "head(read_df)\n",
    "colnames(read_df)\n",
    "length(unique(read_df$subject.subjectGuid))\n",
    "length(unique(read_df$specimen.specimenGuid))\n",
    "dim(read_df)"
   ]
  },
  {
   "cell_type": "markdown",
   "id": "6d8466af-f23c-47ed-a86d-47c45b5a62c5",
   "metadata": {},
   "source": [
    "# CLR Transform\n"
   ]
  },
  {
   "cell_type": "code",
   "execution_count": 8,
   "id": "2337cb96-2f32-4874-adc1-6f71e35a365e",
   "metadata": {
    "tags": []
   },
   "outputs": [],
   "source": [
    "clr_transform <- function(x) {\n",
    "  if (length(x) == 0) {\n",
    "    return(NA)  # return NA for empty vectors\n",
    "  }\n",
    "  geom_mean <- exp(mean(log(x)))\n",
    "  return(log(x / geom_mean))\n",
    "}"
   ]
  },
  {
   "cell_type": "markdown",
   "id": "3e9bf4c6-3caf-49b8-aa3e-16d54f96aeb8",
   "metadata": {},
   "source": [
    "# Comparsion within total PBMCs (Percentage and Percentage CLR)"
   ]
  },
  {
   "cell_type": "code",
   "execution_count": 9,
   "id": "a371832e-0042-4e01-a5a1-1af8aa60025f",
   "metadata": {
    "tags": []
   },
   "outputs": [],
   "source": [
    "#filter data for specific cluster"
   ]
  },
  {
   "cell_type": "code",
   "execution_count": 10,
   "id": "aa600ccd-79e1-4c5f-8b55-2986b978fc6c",
   "metadata": {
    "tags": []
   },
   "outputs": [
    {
     "name": "stderr",
     "output_type": "stream",
     "text": [
      "\u001b[1m\u001b[22m`summarise()` has grouped output by 'leiden_resolution_0.5', 'facet'. You can\n",
      "override using the `.groups` argument.\n"
     ]
    },
    {
     "data": {
      "text/html": [
       "<table class=\"dataframe\">\n",
       "<caption>A tibble: 375 × 6</caption>\n",
       "<thead>\n",
       "\t<tr><th scope=col>leiden_resolution_0.5</th><th scope=col>facet</th><th scope=col>subject.subjectGuid</th><th scope=col>count</th><th scope=col>percentage</th><th scope=col>percentage_clr</th></tr>\n",
       "\t<tr><th scope=col>&lt;int&gt;</th><th scope=col>&lt;chr&gt;</th><th scope=col>&lt;chr&gt;</th><th scope=col>&lt;int&gt;</th><th scope=col>&lt;dbl&gt;</th><th scope=col>&lt;dbl&gt;</th></tr>\n",
       "</thead>\n",
       "<tbody>\n",
       "\t<tr><td>0</td><td>Female_BR1</td><td>BR1001</td><td> 1</td><td> 2.941176</td><td>-1.8296459</td></tr>\n",
       "\t<tr><td>0</td><td>Female_BR1</td><td>BR1003</td><td> 1</td><td> 9.090909</td><td>-0.5991465</td></tr>\n",
       "\t<tr><td>0</td><td>Female_BR1</td><td>BR1005</td><td> 7</td><td>38.888889</td><td> 0.6547137</td></tr>\n",
       "\t<tr><td>0</td><td>Female_BR1</td><td>BR1008</td><td> 3</td><td>50.000000</td><td> 0.5013591</td></tr>\n",
       "\t<tr><td>0</td><td>Female_BR1</td><td>BR1009</td><td> 1</td><td>33.333333</td><td>-0.3465736</td></tr>\n",
       "\t<tr><td>0</td><td>Female_BR1</td><td>BR1010</td><td> 3</td><td>21.428571</td><td> 0.3510784</td></tr>\n",
       "\t<tr><td>0</td><td>Female_BR1</td><td>BR1013</td><td> 2</td><td>28.571429</td><td> 0.0000000</td></tr>\n",
       "\t<tr><td>0</td><td>Female_BR1</td><td>BR1014</td><td> 1</td><td>10.000000</td><td>-0.4969813</td></tr>\n",
       "\t<tr><td>0</td><td>Female_BR1</td><td>BR1017</td><td> 4</td><td>44.444444</td><td> 0.3269431</td></tr>\n",
       "\t<tr><td>0</td><td>Female_BR1</td><td>BR1019</td><td>10</td><td>66.666667</td><td> 1.3803652</td></tr>\n",
       "\t<tr><td>0</td><td>Female_BR1</td><td>BR1021</td><td>15</td><td>39.473684</td><td> 1.1067767</td></tr>\n",
       "\t<tr><td>0</td><td>Female_BR1</td><td>BR1023</td><td> 2</td><td>66.666667</td><td> 0.3465736</td></tr>\n",
       "\t<tr><td>0</td><td>Female_BR1</td><td>BR1024</td><td> 3</td><td>30.000000</td><td> 0.3040988</td></tr>\n",
       "\t<tr><td>0</td><td>Female_BR1</td><td>BR1025</td><td>13</td><td>46.428571</td><td> 1.2541627</td></tr>\n",
       "\t<tr><td>0</td><td>Female_BR1</td><td>BR1026</td><td> 3</td><td>60.000000</td><td> 0.7324082</td></tr>\n",
       "\t<tr><td>0</td><td>Female_BR1</td><td>BR1028</td><td>10</td><td>24.390244</td><td> 0.1449546</td></tr>\n",
       "\t<tr><td>0</td><td>Female_BR1</td><td>BR1030</td><td> 6</td><td>15.384615</td><td>-0.6351396</td></tr>\n",
       "\t<tr><td>0</td><td>Female_BR1</td><td>BR1031</td><td> 7</td><td>46.666667</td><td> 0.7368397</td></tr>\n",
       "\t<tr><td>0</td><td>Female_BR1</td><td>BR1037</td><td>41</td><td>42.708333</td><td> 1.1166458</td></tr>\n",
       "\t<tr><td>0</td><td>Female_BR1</td><td>BR1048</td><td>10</td><td>50.000000</td><td> 0.8766395</td></tr>\n",
       "\t<tr><td>0</td><td>Female_BR1</td><td>BR1050</td><td> 2</td><td>15.384615</td><td>-0.3054302</td></tr>\n",
       "\t<tr><td>0</td><td>Female_BR1</td><td>BR1058</td><td> 4</td><td>28.571429</td><td> 0.1732868</td></tr>\n",
       "\t<tr><td>0</td><td>Female_BR2</td><td>BR2002</td><td>15</td><td>55.555556</td><td> 1.4497364</td></tr>\n",
       "\t<tr><td>0</td><td>Female_BR2</td><td>BR2005</td><td> 1</td><td>14.285714</td><td>-0.6931472</td></tr>\n",
       "\t<tr><td>0</td><td>Female_BR2</td><td>BR2009</td><td> 4</td><td>26.666667</td><td> 0.5812240</td></tr>\n",
       "\t<tr><td>0</td><td>Female_BR2</td><td>BR2010</td><td>15</td><td>44.117647</td><td> 0.7885843</td></tr>\n",
       "\t<tr><td>0</td><td>Female_BR2</td><td>BR2012</td><td> 9</td><td>27.272727</td><td> 0.4916752</td></tr>\n",
       "\t<tr><td>0</td><td>Female_BR2</td><td>BR2014</td><td>12</td><td>42.857143</td><td> 1.2728403</td></tr>\n",
       "\t<tr><td>0</td><td>Female_BR2</td><td>BR2015</td><td>12</td><td>60.000000</td><td> 1.6660377</td></tr>\n",
       "\t<tr><td>0</td><td>Female_BR2</td><td>BR2016</td><td>23</td><td>57.500000</td><td> 1.7846096</td></tr>\n",
       "\t<tr><td>⋮</td><td>⋮</td><td>⋮</td><td>⋮</td><td>⋮</td><td>⋮</td></tr>\n",
       "\t<tr><td>4</td><td>Male_BR1  </td><td>BR1049</td><td> 1</td><td> 5.8823529</td><td>-9.128696e-01</td></tr>\n",
       "\t<tr><td>4</td><td>Male_BR2  </td><td>BR2013</td><td> 1</td><td> 5.2631579</td><td>-1.047414e+00</td></tr>\n",
       "\t<tr><td>4</td><td>Male_BR2  </td><td>BR2019</td><td> 1</td><td> 3.0303030</td><td>-1.282035e+00</td></tr>\n",
       "\t<tr><td>4</td><td>Male_BR2  </td><td>BR2025</td><td> 2</td><td> 0.3731343</td><td>-2.516579e+00</td></tr>\n",
       "\t<tr><td>4</td><td>Male_BR2  </td><td>BR2031</td><td> 1</td><td>20.0000000</td><td>-1.732868e-01</td></tr>\n",
       "\t<tr><td>4</td><td>Male_BR2  </td><td>BR2033</td><td> 1</td><td>33.3333333</td><td> 2.220446e-16</td></tr>\n",
       "\t<tr><td>4</td><td>Male_BR2  </td><td>BR2037</td><td> 1</td><td>14.2857143</td><td>-7.324082e-01</td></tr>\n",
       "\t<tr><td>4</td><td>Male_BR2  </td><td>BR2047</td><td> 2</td><td>10.5263158</td><td>-2.459844e-01</td></tr>\n",
       "\t<tr><td>4</td><td>Male_BR2  </td><td>BR2048</td><td> 2</td><td>10.5263158</td><td>-5.278115e-01</td></tr>\n",
       "\t<tr><td>4</td><td>Male_BR2  </td><td>BR2050</td><td> 1</td><td> 0.4854369</td><td>-2.218147e+00</td></tr>\n",
       "\t<tr><td>5</td><td>Female_BR1</td><td>BR1003</td><td> 1</td><td> 9.0909091</td><td>-5.991465e-01</td></tr>\n",
       "\t<tr><td>5</td><td>Female_BR2</td><td>BR2016</td><td> 1</td><td> 2.5000000</td><td>-1.350885e+00</td></tr>\n",
       "\t<tr><td>5</td><td>Female_BR2</td><td>BR2036</td><td> 1</td><td> 9.0909091</td><td>-8.502993e-01</td></tr>\n",
       "\t<tr><td>5</td><td>Female_BR2</td><td>BR2045</td><td> 1</td><td>50.0000000</td><td> 2.220446e-16</td></tr>\n",
       "\t<tr><td>5</td><td>Male_BR2  </td><td>BR2020</td><td> 2</td><td> 4.5454545</td><td>-9.070696e-01</td></tr>\n",
       "\t<tr><td>5</td><td>Male_BR2  </td><td>BR2025</td><td>21</td><td> 3.9179104</td><td>-1.652033e-01</td></tr>\n",
       "\t<tr><td>5</td><td>Male_BR2  </td><td>BR2050</td><td> 1</td><td> 0.4854369</td><td>-2.218147e+00</td></tr>\n",
       "\t<tr><td>6</td><td>Female_BR1</td><td>BR1010</td><td> 1</td><td> 7.1428571</td><td>-7.475339e-01</td></tr>\n",
       "\t<tr><td>6</td><td>Female_BR2</td><td>BR2014</td><td> 1</td><td> 3.5714286</td><td>-1.212066e+00</td></tr>\n",
       "\t<tr><td>6</td><td>Female_BR2</td><td>BR2024</td><td> 1</td><td> 3.1250000</td><td>-1.408509e+00</td></tr>\n",
       "\t<tr><td>6</td><td>Female_BR2</td><td>BR2042</td><td> 2</td><td> 1.5037594</td><td>-1.786910e+00</td></tr>\n",
       "\t<tr><td>6</td><td>Female_BR2</td><td>BR2052</td><td> 1</td><td> 2.5641026</td><td>-1.565444e+00</td></tr>\n",
       "\t<tr><td>6</td><td>Male_BR2  </td><td>BR2019</td><td> 1</td><td> 3.0303030</td><td>-1.282035e+00</td></tr>\n",
       "\t<tr><td>6</td><td>Male_BR2  </td><td>BR2025</td><td>16</td><td> 2.9850746</td><td>-4.371370e-01</td></tr>\n",
       "\t<tr><td>7</td><td>Female_BR1</td><td>BR1021</td><td> 1</td><td> 2.6315789</td><td>-1.601274e+00</td></tr>\n",
       "\t<tr><td>7</td><td>Female_BR2</td><td>BR2018</td><td> 1</td><td> 1.4285714</td><td>-1.794818e+00</td></tr>\n",
       "\t<tr><td>7</td><td>Male_BR2  </td><td>BR2020</td><td> 1</td><td> 2.2727273</td><td>-1.600217e+00</td></tr>\n",
       "\t<tr><td>7</td><td>Male_BR2  </td><td>BR2025</td><td>11</td><td> 2.0522388</td><td>-8.118304e-01</td></tr>\n",
       "\t<tr><td>7</td><td>Male_BR2  </td><td>BR2047</td><td> 1</td><td> 5.2631579</td><td>-9.391316e-01</td></tr>\n",
       "\t<tr><td>7</td><td>Male_BR2  </td><td>BR2050</td><td> 1</td><td> 0.4854369</td><td>-2.218147e+00</td></tr>\n",
       "</tbody>\n",
       "</table>\n"
      ],
      "text/latex": [
       "A tibble: 375 × 6\n",
       "\\begin{tabular}{llllll}\n",
       " leiden\\_resolution\\_0.5 & facet & subject.subjectGuid & count & percentage & percentage\\_clr\\\\\n",
       " <int> & <chr> & <chr> & <int> & <dbl> & <dbl>\\\\\n",
       "\\hline\n",
       "\t 0 & Female\\_BR1 & BR1001 &  1 &  2.941176 & -1.8296459\\\\\n",
       "\t 0 & Female\\_BR1 & BR1003 &  1 &  9.090909 & -0.5991465\\\\\n",
       "\t 0 & Female\\_BR1 & BR1005 &  7 & 38.888889 &  0.6547137\\\\\n",
       "\t 0 & Female\\_BR1 & BR1008 &  3 & 50.000000 &  0.5013591\\\\\n",
       "\t 0 & Female\\_BR1 & BR1009 &  1 & 33.333333 & -0.3465736\\\\\n",
       "\t 0 & Female\\_BR1 & BR1010 &  3 & 21.428571 &  0.3510784\\\\\n",
       "\t 0 & Female\\_BR1 & BR1013 &  2 & 28.571429 &  0.0000000\\\\\n",
       "\t 0 & Female\\_BR1 & BR1014 &  1 & 10.000000 & -0.4969813\\\\\n",
       "\t 0 & Female\\_BR1 & BR1017 &  4 & 44.444444 &  0.3269431\\\\\n",
       "\t 0 & Female\\_BR1 & BR1019 & 10 & 66.666667 &  1.3803652\\\\\n",
       "\t 0 & Female\\_BR1 & BR1021 & 15 & 39.473684 &  1.1067767\\\\\n",
       "\t 0 & Female\\_BR1 & BR1023 &  2 & 66.666667 &  0.3465736\\\\\n",
       "\t 0 & Female\\_BR1 & BR1024 &  3 & 30.000000 &  0.3040988\\\\\n",
       "\t 0 & Female\\_BR1 & BR1025 & 13 & 46.428571 &  1.2541627\\\\\n",
       "\t 0 & Female\\_BR1 & BR1026 &  3 & 60.000000 &  0.7324082\\\\\n",
       "\t 0 & Female\\_BR1 & BR1028 & 10 & 24.390244 &  0.1449546\\\\\n",
       "\t 0 & Female\\_BR1 & BR1030 &  6 & 15.384615 & -0.6351396\\\\\n",
       "\t 0 & Female\\_BR1 & BR1031 &  7 & 46.666667 &  0.7368397\\\\\n",
       "\t 0 & Female\\_BR1 & BR1037 & 41 & 42.708333 &  1.1166458\\\\\n",
       "\t 0 & Female\\_BR1 & BR1048 & 10 & 50.000000 &  0.8766395\\\\\n",
       "\t 0 & Female\\_BR1 & BR1050 &  2 & 15.384615 & -0.3054302\\\\\n",
       "\t 0 & Female\\_BR1 & BR1058 &  4 & 28.571429 &  0.1732868\\\\\n",
       "\t 0 & Female\\_BR2 & BR2002 & 15 & 55.555556 &  1.4497364\\\\\n",
       "\t 0 & Female\\_BR2 & BR2005 &  1 & 14.285714 & -0.6931472\\\\\n",
       "\t 0 & Female\\_BR2 & BR2009 &  4 & 26.666667 &  0.5812240\\\\\n",
       "\t 0 & Female\\_BR2 & BR2010 & 15 & 44.117647 &  0.7885843\\\\\n",
       "\t 0 & Female\\_BR2 & BR2012 &  9 & 27.272727 &  0.4916752\\\\\n",
       "\t 0 & Female\\_BR2 & BR2014 & 12 & 42.857143 &  1.2728403\\\\\n",
       "\t 0 & Female\\_BR2 & BR2015 & 12 & 60.000000 &  1.6660377\\\\\n",
       "\t 0 & Female\\_BR2 & BR2016 & 23 & 57.500000 &  1.7846096\\\\\n",
       "\t ⋮ & ⋮ & ⋮ & ⋮ & ⋮ & ⋮\\\\\n",
       "\t 4 & Male\\_BR1   & BR1049 &  1 &  5.8823529 & -9.128696e-01\\\\\n",
       "\t 4 & Male\\_BR2   & BR2013 &  1 &  5.2631579 & -1.047414e+00\\\\\n",
       "\t 4 & Male\\_BR2   & BR2019 &  1 &  3.0303030 & -1.282035e+00\\\\\n",
       "\t 4 & Male\\_BR2   & BR2025 &  2 &  0.3731343 & -2.516579e+00\\\\\n",
       "\t 4 & Male\\_BR2   & BR2031 &  1 & 20.0000000 & -1.732868e-01\\\\\n",
       "\t 4 & Male\\_BR2   & BR2033 &  1 & 33.3333333 &  2.220446e-16\\\\\n",
       "\t 4 & Male\\_BR2   & BR2037 &  1 & 14.2857143 & -7.324082e-01\\\\\n",
       "\t 4 & Male\\_BR2   & BR2047 &  2 & 10.5263158 & -2.459844e-01\\\\\n",
       "\t 4 & Male\\_BR2   & BR2048 &  2 & 10.5263158 & -5.278115e-01\\\\\n",
       "\t 4 & Male\\_BR2   & BR2050 &  1 &  0.4854369 & -2.218147e+00\\\\\n",
       "\t 5 & Female\\_BR1 & BR1003 &  1 &  9.0909091 & -5.991465e-01\\\\\n",
       "\t 5 & Female\\_BR2 & BR2016 &  1 &  2.5000000 & -1.350885e+00\\\\\n",
       "\t 5 & Female\\_BR2 & BR2036 &  1 &  9.0909091 & -8.502993e-01\\\\\n",
       "\t 5 & Female\\_BR2 & BR2045 &  1 & 50.0000000 &  2.220446e-16\\\\\n",
       "\t 5 & Male\\_BR2   & BR2020 &  2 &  4.5454545 & -9.070696e-01\\\\\n",
       "\t 5 & Male\\_BR2   & BR2025 & 21 &  3.9179104 & -1.652033e-01\\\\\n",
       "\t 5 & Male\\_BR2   & BR2050 &  1 &  0.4854369 & -2.218147e+00\\\\\n",
       "\t 6 & Female\\_BR1 & BR1010 &  1 &  7.1428571 & -7.475339e-01\\\\\n",
       "\t 6 & Female\\_BR2 & BR2014 &  1 &  3.5714286 & -1.212066e+00\\\\\n",
       "\t 6 & Female\\_BR2 & BR2024 &  1 &  3.1250000 & -1.408509e+00\\\\\n",
       "\t 6 & Female\\_BR2 & BR2042 &  2 &  1.5037594 & -1.786910e+00\\\\\n",
       "\t 6 & Female\\_BR2 & BR2052 &  1 &  2.5641026 & -1.565444e+00\\\\\n",
       "\t 6 & Male\\_BR2   & BR2019 &  1 &  3.0303030 & -1.282035e+00\\\\\n",
       "\t 6 & Male\\_BR2   & BR2025 & 16 &  2.9850746 & -4.371370e-01\\\\\n",
       "\t 7 & Female\\_BR1 & BR1021 &  1 &  2.6315789 & -1.601274e+00\\\\\n",
       "\t 7 & Female\\_BR2 & BR2018 &  1 &  1.4285714 & -1.794818e+00\\\\\n",
       "\t 7 & Male\\_BR2   & BR2020 &  1 &  2.2727273 & -1.600217e+00\\\\\n",
       "\t 7 & Male\\_BR2   & BR2025 & 11 &  2.0522388 & -8.118304e-01\\\\\n",
       "\t 7 & Male\\_BR2   & BR2047 &  1 &  5.2631579 & -9.391316e-01\\\\\n",
       "\t 7 & Male\\_BR2   & BR2050 &  1 &  0.4854369 & -2.218147e+00\\\\\n",
       "\\end{tabular}\n"
      ],
      "text/markdown": [
       "\n",
       "A tibble: 375 × 6\n",
       "\n",
       "| leiden_resolution_0.5 &lt;int&gt; | facet &lt;chr&gt; | subject.subjectGuid &lt;chr&gt; | count &lt;int&gt; | percentage &lt;dbl&gt; | percentage_clr &lt;dbl&gt; |\n",
       "|---|---|---|---|---|---|\n",
       "| 0 | Female_BR1 | BR1001 |  1 |  2.941176 | -1.8296459 |\n",
       "| 0 | Female_BR1 | BR1003 |  1 |  9.090909 | -0.5991465 |\n",
       "| 0 | Female_BR1 | BR1005 |  7 | 38.888889 |  0.6547137 |\n",
       "| 0 | Female_BR1 | BR1008 |  3 | 50.000000 |  0.5013591 |\n",
       "| 0 | Female_BR1 | BR1009 |  1 | 33.333333 | -0.3465736 |\n",
       "| 0 | Female_BR1 | BR1010 |  3 | 21.428571 |  0.3510784 |\n",
       "| 0 | Female_BR1 | BR1013 |  2 | 28.571429 |  0.0000000 |\n",
       "| 0 | Female_BR1 | BR1014 |  1 | 10.000000 | -0.4969813 |\n",
       "| 0 | Female_BR1 | BR1017 |  4 | 44.444444 |  0.3269431 |\n",
       "| 0 | Female_BR1 | BR1019 | 10 | 66.666667 |  1.3803652 |\n",
       "| 0 | Female_BR1 | BR1021 | 15 | 39.473684 |  1.1067767 |\n",
       "| 0 | Female_BR1 | BR1023 |  2 | 66.666667 |  0.3465736 |\n",
       "| 0 | Female_BR1 | BR1024 |  3 | 30.000000 |  0.3040988 |\n",
       "| 0 | Female_BR1 | BR1025 | 13 | 46.428571 |  1.2541627 |\n",
       "| 0 | Female_BR1 | BR1026 |  3 | 60.000000 |  0.7324082 |\n",
       "| 0 | Female_BR1 | BR1028 | 10 | 24.390244 |  0.1449546 |\n",
       "| 0 | Female_BR1 | BR1030 |  6 | 15.384615 | -0.6351396 |\n",
       "| 0 | Female_BR1 | BR1031 |  7 | 46.666667 |  0.7368397 |\n",
       "| 0 | Female_BR1 | BR1037 | 41 | 42.708333 |  1.1166458 |\n",
       "| 0 | Female_BR1 | BR1048 | 10 | 50.000000 |  0.8766395 |\n",
       "| 0 | Female_BR1 | BR1050 |  2 | 15.384615 | -0.3054302 |\n",
       "| 0 | Female_BR1 | BR1058 |  4 | 28.571429 |  0.1732868 |\n",
       "| 0 | Female_BR2 | BR2002 | 15 | 55.555556 |  1.4497364 |\n",
       "| 0 | Female_BR2 | BR2005 |  1 | 14.285714 | -0.6931472 |\n",
       "| 0 | Female_BR2 | BR2009 |  4 | 26.666667 |  0.5812240 |\n",
       "| 0 | Female_BR2 | BR2010 | 15 | 44.117647 |  0.7885843 |\n",
       "| 0 | Female_BR2 | BR2012 |  9 | 27.272727 |  0.4916752 |\n",
       "| 0 | Female_BR2 | BR2014 | 12 | 42.857143 |  1.2728403 |\n",
       "| 0 | Female_BR2 | BR2015 | 12 | 60.000000 |  1.6660377 |\n",
       "| 0 | Female_BR2 | BR2016 | 23 | 57.500000 |  1.7846096 |\n",
       "| ⋮ | ⋮ | ⋮ | ⋮ | ⋮ | ⋮ |\n",
       "| 4 | Male_BR1   | BR1049 |  1 |  5.8823529 | -9.128696e-01 |\n",
       "| 4 | Male_BR2   | BR2013 |  1 |  5.2631579 | -1.047414e+00 |\n",
       "| 4 | Male_BR2   | BR2019 |  1 |  3.0303030 | -1.282035e+00 |\n",
       "| 4 | Male_BR2   | BR2025 |  2 |  0.3731343 | -2.516579e+00 |\n",
       "| 4 | Male_BR2   | BR2031 |  1 | 20.0000000 | -1.732868e-01 |\n",
       "| 4 | Male_BR2   | BR2033 |  1 | 33.3333333 |  2.220446e-16 |\n",
       "| 4 | Male_BR2   | BR2037 |  1 | 14.2857143 | -7.324082e-01 |\n",
       "| 4 | Male_BR2   | BR2047 |  2 | 10.5263158 | -2.459844e-01 |\n",
       "| 4 | Male_BR2   | BR2048 |  2 | 10.5263158 | -5.278115e-01 |\n",
       "| 4 | Male_BR2   | BR2050 |  1 |  0.4854369 | -2.218147e+00 |\n",
       "| 5 | Female_BR1 | BR1003 |  1 |  9.0909091 | -5.991465e-01 |\n",
       "| 5 | Female_BR2 | BR2016 |  1 |  2.5000000 | -1.350885e+00 |\n",
       "| 5 | Female_BR2 | BR2036 |  1 |  9.0909091 | -8.502993e-01 |\n",
       "| 5 | Female_BR2 | BR2045 |  1 | 50.0000000 |  2.220446e-16 |\n",
       "| 5 | Male_BR2   | BR2020 |  2 |  4.5454545 | -9.070696e-01 |\n",
       "| 5 | Male_BR2   | BR2025 | 21 |  3.9179104 | -1.652033e-01 |\n",
       "| 5 | Male_BR2   | BR2050 |  1 |  0.4854369 | -2.218147e+00 |\n",
       "| 6 | Female_BR1 | BR1010 |  1 |  7.1428571 | -7.475339e-01 |\n",
       "| 6 | Female_BR2 | BR2014 |  1 |  3.5714286 | -1.212066e+00 |\n",
       "| 6 | Female_BR2 | BR2024 |  1 |  3.1250000 | -1.408509e+00 |\n",
       "| 6 | Female_BR2 | BR2042 |  2 |  1.5037594 | -1.786910e+00 |\n",
       "| 6 | Female_BR2 | BR2052 |  1 |  2.5641026 | -1.565444e+00 |\n",
       "| 6 | Male_BR2   | BR2019 |  1 |  3.0303030 | -1.282035e+00 |\n",
       "| 6 | Male_BR2   | BR2025 | 16 |  2.9850746 | -4.371370e-01 |\n",
       "| 7 | Female_BR1 | BR1021 |  1 |  2.6315789 | -1.601274e+00 |\n",
       "| 7 | Female_BR2 | BR2018 |  1 |  1.4285714 | -1.794818e+00 |\n",
       "| 7 | Male_BR2   | BR2020 |  1 |  2.2727273 | -1.600217e+00 |\n",
       "| 7 | Male_BR2   | BR2025 | 11 |  2.0522388 | -8.118304e-01 |\n",
       "| 7 | Male_BR2   | BR2047 |  1 |  5.2631579 | -9.391316e-01 |\n",
       "| 7 | Male_BR2   | BR2050 |  1 |  0.4854369 | -2.218147e+00 |\n",
       "\n"
      ],
      "text/plain": [
       "    leiden_resolution_0.5 facet      subject.subjectGuid count percentage\n",
       "1   0                     Female_BR1 BR1001               1     2.941176 \n",
       "2   0                     Female_BR1 BR1003               1     9.090909 \n",
       "3   0                     Female_BR1 BR1005               7    38.888889 \n",
       "4   0                     Female_BR1 BR1008               3    50.000000 \n",
       "5   0                     Female_BR1 BR1009               1    33.333333 \n",
       "6   0                     Female_BR1 BR1010               3    21.428571 \n",
       "7   0                     Female_BR1 BR1013               2    28.571429 \n",
       "8   0                     Female_BR1 BR1014               1    10.000000 \n",
       "9   0                     Female_BR1 BR1017               4    44.444444 \n",
       "10  0                     Female_BR1 BR1019              10    66.666667 \n",
       "11  0                     Female_BR1 BR1021              15    39.473684 \n",
       "12  0                     Female_BR1 BR1023               2    66.666667 \n",
       "13  0                     Female_BR1 BR1024               3    30.000000 \n",
       "14  0                     Female_BR1 BR1025              13    46.428571 \n",
       "15  0                     Female_BR1 BR1026               3    60.000000 \n",
       "16  0                     Female_BR1 BR1028              10    24.390244 \n",
       "17  0                     Female_BR1 BR1030               6    15.384615 \n",
       "18  0                     Female_BR1 BR1031               7    46.666667 \n",
       "19  0                     Female_BR1 BR1037              41    42.708333 \n",
       "20  0                     Female_BR1 BR1048              10    50.000000 \n",
       "21  0                     Female_BR1 BR1050               2    15.384615 \n",
       "22  0                     Female_BR1 BR1058               4    28.571429 \n",
       "23  0                     Female_BR2 BR2002              15    55.555556 \n",
       "24  0                     Female_BR2 BR2005               1    14.285714 \n",
       "25  0                     Female_BR2 BR2009               4    26.666667 \n",
       "26  0                     Female_BR2 BR2010              15    44.117647 \n",
       "27  0                     Female_BR2 BR2012               9    27.272727 \n",
       "28  0                     Female_BR2 BR2014              12    42.857143 \n",
       "29  0                     Female_BR2 BR2015              12    60.000000 \n",
       "30  0                     Female_BR2 BR2016              23    57.500000 \n",
       "⋮   ⋮                     ⋮          ⋮                   ⋮     ⋮         \n",
       "346 4                     Male_BR1   BR1049               1     5.8823529\n",
       "347 4                     Male_BR2   BR2013               1     5.2631579\n",
       "348 4                     Male_BR2   BR2019               1     3.0303030\n",
       "349 4                     Male_BR2   BR2025               2     0.3731343\n",
       "350 4                     Male_BR2   BR2031               1    20.0000000\n",
       "351 4                     Male_BR2   BR2033               1    33.3333333\n",
       "352 4                     Male_BR2   BR2037               1    14.2857143\n",
       "353 4                     Male_BR2   BR2047               2    10.5263158\n",
       "354 4                     Male_BR2   BR2048               2    10.5263158\n",
       "355 4                     Male_BR2   BR2050               1     0.4854369\n",
       "356 5                     Female_BR1 BR1003               1     9.0909091\n",
       "357 5                     Female_BR2 BR2016               1     2.5000000\n",
       "358 5                     Female_BR2 BR2036               1     9.0909091\n",
       "359 5                     Female_BR2 BR2045               1    50.0000000\n",
       "360 5                     Male_BR2   BR2020               2     4.5454545\n",
       "361 5                     Male_BR2   BR2025              21     3.9179104\n",
       "362 5                     Male_BR2   BR2050               1     0.4854369\n",
       "363 6                     Female_BR1 BR1010               1     7.1428571\n",
       "364 6                     Female_BR2 BR2014               1     3.5714286\n",
       "365 6                     Female_BR2 BR2024               1     3.1250000\n",
       "366 6                     Female_BR2 BR2042               2     1.5037594\n",
       "367 6                     Female_BR2 BR2052               1     2.5641026\n",
       "368 6                     Male_BR2   BR2019               1     3.0303030\n",
       "369 6                     Male_BR2   BR2025              16     2.9850746\n",
       "370 7                     Female_BR1 BR1021               1     2.6315789\n",
       "371 7                     Female_BR2 BR2018               1     1.4285714\n",
       "372 7                     Male_BR2   BR2020               1     2.2727273\n",
       "373 7                     Male_BR2   BR2025              11     2.0522388\n",
       "374 7                     Male_BR2   BR2047               1     5.2631579\n",
       "375 7                     Male_BR2   BR2050               1     0.4854369\n",
       "    percentage_clr\n",
       "1   -1.8296459    \n",
       "2   -0.5991465    \n",
       "3    0.6547137    \n",
       "4    0.5013591    \n",
       "5   -0.3465736    \n",
       "6    0.3510784    \n",
       "7    0.0000000    \n",
       "8   -0.4969813    \n",
       "9    0.3269431    \n",
       "10   1.3803652    \n",
       "11   1.1067767    \n",
       "12   0.3465736    \n",
       "13   0.3040988    \n",
       "14   1.2541627    \n",
       "15   0.7324082    \n",
       "16   0.1449546    \n",
       "17  -0.6351396    \n",
       "18   0.7368397    \n",
       "19   1.1166458    \n",
       "20   0.8766395    \n",
       "21  -0.3054302    \n",
       "22   0.1732868    \n",
       "23   1.4497364    \n",
       "24  -0.6931472    \n",
       "25   0.5812240    \n",
       "26   0.7885843    \n",
       "27   0.4916752    \n",
       "28   1.2728403    \n",
       "29   1.6660377    \n",
       "30   1.7846096    \n",
       "⋮   ⋮             \n",
       "346 -9.128696e-01 \n",
       "347 -1.047414e+00 \n",
       "348 -1.282035e+00 \n",
       "349 -2.516579e+00 \n",
       "350 -1.732868e-01 \n",
       "351  2.220446e-16 \n",
       "352 -7.324082e-01 \n",
       "353 -2.459844e-01 \n",
       "354 -5.278115e-01 \n",
       "355 -2.218147e+00 \n",
       "356 -5.991465e-01 \n",
       "357 -1.350885e+00 \n",
       "358 -8.502993e-01 \n",
       "359  2.220446e-16 \n",
       "360 -9.070696e-01 \n",
       "361 -1.652033e-01 \n",
       "362 -2.218147e+00 \n",
       "363 -7.475339e-01 \n",
       "364 -1.212066e+00 \n",
       "365 -1.408509e+00 \n",
       "366 -1.786910e+00 \n",
       "367 -1.565444e+00 \n",
       "368 -1.282035e+00 \n",
       "369 -4.371370e-01 \n",
       "370 -1.601274e+00 \n",
       "371 -1.794818e+00 \n",
       "372 -1.600217e+00 \n",
       "373 -8.118304e-01 \n",
       "374 -9.391316e-01 \n",
       "375 -2.218147e+00 "
      ]
     },
     "metadata": {},
     "output_type": "display_data"
    }
   ],
   "source": [
    "result <- read_df %>%\n",
    "  dplyr::group_by(leiden_resolution_0.5, facet, subject.subjectGuid) %>%               \n",
    "  dplyr::summarise(count = n()) %>% \n",
    "  dplyr::group_by(subject.subjectGuid) %>%                       \n",
    "  dplyr::mutate(percentage = (count / sum(count)) * 100) %>%\n",
    "  dplyr::group_by(subject.subjectGuid) %>%     \n",
    "  dplyr::mutate(percentage_clr = clr_transform((percentage))) %>% # Group again by subjectGuid for CLR# Calculate percentage\n",
    "  dplyr::ungroup()\n",
    "\n",
    "result"
   ]
  },
  {
   "cell_type": "markdown",
   "id": "b128cb34-5c8e-4021-b5bb-8678466626f2",
   "metadata": {},
   "source": [
    "# Plotting barplots per cluster"
   ]
  },
  {
   "cell_type": "code",
   "execution_count": 11,
   "id": "601eb5fa-1455-433b-a742-81b2bc8b239a",
   "metadata": {
    "tags": []
   },
   "outputs": [
    {
     "data": {
      "text/html": [
       "<style>\n",
       ".list-inline {list-style: none; margin:0; padding: 0}\n",
       ".list-inline>li {display: inline-block}\n",
       ".list-inline>li:not(:last-child)::after {content: \"\\00b7\"; padding: 0 .5ex}\n",
       "</style>\n",
       "<ol class=list-inline><li>255</li><li>42</li></ol>\n"
      ],
      "text/latex": [
       "\\begin{enumerate*}\n",
       "\\item 255\n",
       "\\item 42\n",
       "\\end{enumerate*}\n"
      ],
      "text/markdown": [
       "1. 255\n",
       "2. 42\n",
       "\n",
       "\n"
      ],
      "text/plain": [
       "[1] 255  42"
      ]
     },
     "metadata": {},
     "output_type": "display_data"
    }
   ],
   "source": [
    "#subset dataframe by cluster\n",
    "subset_df <- read_df %>% filter(read_df$leiden_resolution_0.5 == 3 )\n",
    "dim(subset_df)"
   ]
  },
  {
   "cell_type": "code",
   "execution_count": 16,
   "id": "a8d84bd9-7de4-4ab5-86c0-ad6c5d47881b",
   "metadata": {
    "tags": []
   },
   "outputs": [
    {
     "data": {
      "text/html": [
       "2835"
      ],
      "text/latex": [
       "2835"
      ],
      "text/markdown": [
       "2835"
      ],
      "text/plain": [
       "[1] 2835"
      ]
     },
     "metadata": {},
     "output_type": "display_data"
    }
   ],
   "source": [
    "length(rownames(read_df))"
   ]
  },
  {
   "cell_type": "code",
   "execution_count": 17,
   "id": "1b50e817-a222-4d6b-be7e-0d822088edc2",
   "metadata": {
    "tags": []
   },
   "outputs": [
    {
     "data": {
      "text/html": [
       "<table class=\"dataframe\">\n",
       "<caption>A tibble: 4 × 4</caption>\n",
       "<thead>\n",
       "\t<tr><th scope=col>facet</th><th scope=col>count</th><th scope=col>percentage</th><th scope=col>percentage_clr</th></tr>\n",
       "\t<tr><th scope=col>&lt;chr&gt;</th><th scope=col>&lt;int&gt;</th><th scope=col>&lt;dbl&gt;</th><th scope=col>&lt;dbl&gt;</th></tr>\n",
       "</thead>\n",
       "<tbody>\n",
       "\t<tr><td>Female_BR1</td><td> 38</td><td>1.340388</td><td>-0.41746374</td></tr>\n",
       "\t<tr><td>Female_BR2</td><td>117</td><td>4.126984</td><td> 0.70712403</td></tr>\n",
       "\t<tr><td>Male_BR1  </td><td> 47</td><td>1.657848</td><td>-0.20490230</td></tr>\n",
       "\t<tr><td>Male_BR2  </td><td> 53</td><td>1.869489</td><td>-0.08475799</td></tr>\n",
       "</tbody>\n",
       "</table>\n"
      ],
      "text/latex": [
       "A tibble: 4 × 4\n",
       "\\begin{tabular}{llll}\n",
       " facet & count & percentage & percentage\\_clr\\\\\n",
       " <chr> & <int> & <dbl> & <dbl>\\\\\n",
       "\\hline\n",
       "\t Female\\_BR1 &  38 & 1.340388 & -0.41746374\\\\\n",
       "\t Female\\_BR2 & 117 & 4.126984 &  0.70712403\\\\\n",
       "\t Male\\_BR1   &  47 & 1.657848 & -0.20490230\\\\\n",
       "\t Male\\_BR2   &  53 & 1.869489 & -0.08475799\\\\\n",
       "\\end{tabular}\n"
      ],
      "text/markdown": [
       "\n",
       "A tibble: 4 × 4\n",
       "\n",
       "| facet &lt;chr&gt; | count &lt;int&gt; | percentage &lt;dbl&gt; | percentage_clr &lt;dbl&gt; |\n",
       "|---|---|---|---|\n",
       "| Female_BR1 |  38 | 1.340388 | -0.41746374 |\n",
       "| Female_BR2 | 117 | 4.126984 |  0.70712403 |\n",
       "| Male_BR1   |  47 | 1.657848 | -0.20490230 |\n",
       "| Male_BR2   |  53 | 1.869489 | -0.08475799 |\n",
       "\n"
      ],
      "text/plain": [
       "  facet      count percentage percentage_clr\n",
       "1 Female_BR1  38   1.340388   -0.41746374   \n",
       "2 Female_BR2 117   4.126984    0.70712403   \n",
       "3 Male_BR1    47   1.657848   -0.20490230   \n",
       "4 Male_BR2    53   1.869489   -0.08475799   "
      ]
     },
     "metadata": {},
     "output_type": "display_data"
    }
   ],
   "source": [
    "facet_count <- subset_df %>%\n",
    "  dplyr::group_by(facet) %>%               \n",
    "  dplyr::summarise(count = n()) %>%\n",
    "  dplyr::mutate(percentage = (count / length(rownames(read_df))) * 100) %>%   #<- change total cellcount\n",
    "  dplyr::mutate(percentage_clr = clr_transform((percentage)))\n",
    "  \n",
    "\n",
    "facet_count"
   ]
  },
  {
   "cell_type": "code",
   "execution_count": 18,
   "id": "2949dcdf-368b-4892-8f28-68fd2279eb0b",
   "metadata": {
    "tags": []
   },
   "outputs": [],
   "source": [
    "# install.packages(\"NatParksPalettes\")\n",
    "# library(NatParksPalettes)"
   ]
  },
  {
   "cell_type": "code",
   "execution_count": 19,
   "id": "2868be25-cef6-4fe1-97f1-f094cc40a100",
   "metadata": {
    "tags": []
   },
   "outputs": [
    {
     "data": {
      "image/png": "[encoded data removed]",
      "text/plain": [
       "plot without title"
      ]
     },
     "metadata": {
      "image/png": {
       "height": 600,
       "width": 600
      }
     },
     "output_type": "display_data"
    }
   ],
   "source": [
    "\n",
    "options(repr.plot.width = 10, repr.plot.height =10)\n",
    "ggplot(facet_count, aes(x = facet , y = percentage, fill= facet)) +\n",
    "  geom_col() +\n",
    "  #scale_fill_manual(values=natparks.pals(\"SouthDowns\", 4))+\n",
    "  labs(#title = \"Cluster 2\",\n",
    "       x = \"Groups\",\n",
    "       y = \"Percentage\") +\n",
    "  theme(axis.text.x = element_text(size = 20, angle = 45, vjust = 0.4, color= \"black\" ),     # Adjust font size of x-axis text\n",
    "        axis.text.y = element_text(size = 20, color= \"black\"),     # Adjust font size of y-axis text\n",
    "        axis.title = element_text(size = 20),\n",
    "        panel.background = element_rect(fill = \"white\"),\n",
    "        axis.line = element_line(color = \"black\"),  # Set axis line color to black,  # Set major grid line color to black\n",
    "        panel.grid.minor = element_blank(),\n",
    "        legend.position = \"top\",  # Set legend position to top\n",
    "        #legend.title = element_blank()\n",
    "       ) +\n",
    "       ggtitle(\"Cluster 3\") +\n",
    "  theme(plot.title = element_text(hjust = 0.5, size = 17, face = \"bold\"))\n",
    "   "
   ]
  },
  {
   "cell_type": "code",
   "execution_count": null,
   "id": "ba65f704-b2b1-405e-9f86-bac89c13fccc",
   "metadata": {},
   "outputs": [],
   "source": []
  }
 ],
 "metadata": {
  "kernelspec": {
   "display_name": "R 4",
   "language": "R",
   "name": "ir4"
  },
  "language_info": {
   "codemirror_mode": "r",
   "file_extension": ".r",
   "mimetype": "text/x-r-source",
   "name": "R",
   "pygments_lexer": "r",
   "version": "4.3.1"
  }
 },
 "nbformat": 4,
 "nbformat_minor": 5
}
