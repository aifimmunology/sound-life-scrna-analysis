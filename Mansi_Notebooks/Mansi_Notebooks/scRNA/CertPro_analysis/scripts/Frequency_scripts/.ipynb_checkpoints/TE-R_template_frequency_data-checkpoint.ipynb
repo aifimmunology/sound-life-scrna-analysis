{
 "cells": [
  {
   "cell_type": "markdown",
   "id": "13bb4297-e4f3-4554-9a62-838bc6d5d64b",
   "metadata": {},
   "source": [
    "# Title\n",
    "\n",
    "Description of your analysis"
   ]
  },
  {
   "cell_type": "markdown",
   "id": "2ab6500c-a785-4c03-89b0-fae4e7780e11",
   "metadata": {},
   "source": [
    "## Load packages\n",
    "\n",
    "`hise`: The HISE SDK package for R  "
   ]
  },
  {
   "cell_type": "code",
   "execution_count": 1,
   "id": "797a953d-32e3-45e2-b4c5-b4f98f1e3692",
   "metadata": {
    "tags": []
   },
   "outputs": [],
   "source": [
    "quiet_library <- function(...) { suppressPackageStartupMessages(library(...)) }\n",
    "quiet_library(hise)    # HISE functions\n",
    "quiet_library(dplyr)   # DataFrame manipulation\n",
    "quiet_library(purrr)   # Functional programming tools\n",
    "quiet_library(ggplot2) # Plotting"
   ]
  },
  {
   "cell_type": "code",
   "execution_count": 21,
   "id": "6eaae572-3266-4d90-8cc6-0a2a9da9b351",
   "metadata": {
    "tags": []
   },
   "outputs": [
    {
     "name": "stderr",
     "output_type": "stream",
     "text": [
      "------------------------------------------------------------------------------\n",
      "\n",
      "You have loaded plyr after dplyr - this is likely to cause problems.\n",
      "If you need functions from both plyr and dplyr, please load plyr first, then dplyr:\n",
      "library(plyr); library(dplyr)\n",
      "\n",
      "------------------------------------------------------------------------------\n",
      "\n",
      "\n",
      "Attaching package: ‘plyr’\n",
      "\n",
      "\n",
      "The following object is masked from ‘package:purrr’:\n",
      "\n",
      "    compact\n",
      "\n",
      "\n",
      "The following objects are masked from ‘package:dplyr’:\n",
      "\n",
      "    arrange, count, desc, failwith, id, mutate, rename, summarise,\n",
      "    summarize\n",
      "\n",
      "\n",
      "Loading required package: permute\n",
      "\n",
      "Loading required package: lattice\n",
      "\n",
      "This is vegan 2.6-4\n",
      "\n",
      "\n",
      "Attaching package: ‘rstatix’\n",
      "\n",
      "\n",
      "The following objects are masked from ‘package:plyr’:\n",
      "\n",
      "    desc, mutate\n",
      "\n",
      "\n",
      "The following object is masked from ‘package:stats’:\n",
      "\n",
      "    filter\n",
      "\n",
      "\n",
      "\n",
      "Attaching package: ‘ggpubr’\n",
      "\n",
      "\n",
      "The following object is masked from ‘package:plyr’:\n",
      "\n",
      "    mutate\n",
      "\n",
      "\n",
      "Loading required package: grid\n",
      "\n",
      "========================================\n",
      "ComplexHeatmap version 2.16.0\n",
      "Bioconductor page: http://bioconductor.org/packages/ComplexHeatmap/\n",
      "Github page: https://github.com/jokergoo/ComplexHeatmap\n",
      "Documentation: http://jokergoo.github.io/ComplexHeatmap-reference\n",
      "\n",
      "If you use it in published research, please cite either one:\n",
      "- Gu, Z. Complex Heatmap Visualization. iMeta 2022.\n",
      "- Gu, Z. Complex heatmaps reveal patterns and correlations in multidimensional \n",
      "    genomic data. Bioinformatics 2016.\n",
      "\n",
      "\n",
      "The new InteractiveComplexHeatmap package can directly export static \n",
      "complex heatmaps into an interactive Shiny app with zero effort. Have a try!\n",
      "\n",
      "This message can be suppressed by:\n",
      "  suppressPackageStartupMessages(library(ComplexHeatmap))\n",
      "========================================\n",
      "! pheatmap() has been masked by ComplexHeatmap::pheatmap(). Most of the arguments\n",
      "   in the original pheatmap() are identically supported in the new function. You \n",
      "   can still use the original function by explicitly calling pheatmap::pheatmap().\n",
      "\n",
      "\n",
      "\n",
      "Attaching package: ‘ComplexHeatmap’\n",
      "\n",
      "\n",
      "The following object is masked from ‘package:pheatmap’:\n",
      "\n",
      "    pheatmap\n",
      "\n",
      "\n"
     ]
    },
    {
     "ename": "ERROR",
     "evalue": "Error in library(compositions): there is no package called ‘compositions’\n",
     "output_type": "error",
     "traceback": [
      "Error in library(compositions): there is no package called ‘compositions’\nTraceback:\n",
      "1. library(compositions)"
     ]
    }
   ],
   "source": [
    "suppressPackageStartupMessages(library(readxl))\n",
    "suppressPackageStartupMessages(library(dplyr))\n",
    "suppressPackageStartupMessages(library(tidyr))\n",
    "suppressPackageStartupMessages(library(tibble))\n",
    "suppressPackageStartupMessages(library(patchwork))\n",
    "suppressPackageStartupMessages(library(pheatmap))\n",
    "suppressPackageStartupMessages(library(stringr))\n",
    "library(hise)\n",
    "library(plyr)\n",
    "library(purrr)\n",
    "library(vegan)\n",
    "#library(arrow)\n",
    "library(rstatix)\n",
    "library(parallel)\n",
    "library(ggpubr)\n",
    "library(ComplexHeatmap)\n",
    "library(compositions)\n",
    "library(ggsci)\n",
    "library(math)"
   ]
  },
  {
   "cell_type": "code",
   "execution_count": null,
   "id": "9b064086-7213-4b3c-b840-e63d4f70f53f",
   "metadata": {},
   "outputs": [],
   "source": []
  },
  {
   "cell_type": "markdown",
   "id": "6bb3c155-8f7d-498a-bfce-99105fd04795",
   "metadata": {},
   "source": [
    "## Helper functions"
   ]
  },
  {
   "cell_type": "code",
   "execution_count": 2,
   "id": "5dff6e66-1038-461f-bbe3-2d742d2db48a",
   "metadata": {
    "tags": []
   },
   "outputs": [],
   "source": [
    "cache_uuid_path <- function(uuid) {\n",
    "    if(!dir.exists(paste0(\"cache/\", uuid))) {\n",
    "        hise_res <- cacheFiles(list(uuid))\n",
    "    }\n",
    "    \n",
    "    cache_path <- paste0(\"cache/\",uuid)\n",
    "    cache_file <- list.files(cache_path, full.names = TRUE)\n",
    "    \n",
    "    cache_file\n",
    "}"
   ]
  },
  {
   "cell_type": "code",
   "execution_count": 3,
   "id": "d0d7283f-a766-4e20-8fc2-de3eccaef9f2",
   "metadata": {
    "tags": []
   },
   "outputs": [],
   "source": [
    "stored_file_df <- function(store_name) {\n",
    "    ps_files <- listFilesInProjectStores(list(store_name))\n",
    "    ps_files <- map(\n",
    "        ps_files$files, \n",
    "        function(l) {\n",
    "            l <- l[c(\"id\", \"name\")]\n",
    "            as.data.frame(l)\n",
    "        }) %>%\n",
    "      list_rbind()\n",
    "    \n",
    "    ps_files\n",
    "}"
   ]
  },
  {
   "cell_type": "markdown",
   "id": "f703a03c-fc44-4e4a-accc-0ea28646222e",
   "metadata": {},
   "source": [
    "## Identify files for use in HISE"
   ]
  },
  {
   "cell_type": "code",
   "execution_count": 4,
   "id": "24317186-6a35-492c-8fed-b91ee4bc083d",
   "metadata": {
    "tags": []
   },
   "outputs": [],
   "source": [
    "search_id <- \"fumur-jufir-vuzag\""
   ]
  },
  {
   "cell_type": "markdown",
   "id": "b334867c-d6fd-4ab4-acea-e6c82157099d",
   "metadata": {},
   "source": [
    "Retrieve the list of files stored in our HISE project store"
   ]
  },
  {
   "cell_type": "code",
   "execution_count": 5,
   "id": "bff4f501-f9ea-4e25-add7-573d9e76dd00",
   "metadata": {
    "tags": []
   },
   "outputs": [],
   "source": [
    "ps_files <- stored_file_df(\"cohorts\")"
   ]
  },
  {
   "cell_type": "markdown",
   "id": "73fd8338-27a9-4374-ad0d-e00d9208e806",
   "metadata": {},
   "source": [
    "Filter for files from the previous notebook using our search_id and the .tar extension"
   ]
  },
  {
   "cell_type": "code",
   "execution_count": 6,
   "id": "5722fb24-c41a-4edd-bd09-25ceba57f490",
   "metadata": {
    "tags": []
   },
   "outputs": [],
   "source": [
    "freq_files <- ps_files %>%\n",
    "  filter(grepl(search_id, name))"
   ]
  },
  {
   "cell_type": "code",
   "execution_count": 7,
   "id": "5ae9ca18-65ba-42c3-af2c-f854d06758b5",
   "metadata": {
    "tags": []
   },
   "outputs": [
    {
     "data": {
      "text/html": [
       "<table class=\"dataframe\">\n",
       "<caption>A data.frame: 3 × 2</caption>\n",
       "<thead>\n",
       "\t<tr><th scope=col>id</th><th scope=col>name</th></tr>\n",
       "\t<tr><th scope=col>&lt;chr&gt;</th><th scope=col>&lt;chr&gt;</th></tr>\n",
       "</thead>\n",
       "<tbody>\n",
       "\t<tr><td>b04e3ccd-e437-41ae-97fe-63a0c0a24995</td><td>fumur-jufir-vuzag/diha_AIFI_L1_frequencies_2024-05-05.csv</td></tr>\n",
       "\t<tr><td>6c82ee51-1898-4699-b382-59e619a05b82</td><td>fumur-jufir-vuzag/diha_AIFI_L2_frequencies_2024-05-05.csv</td></tr>\n",
       "\t<tr><td>577902fe-094d-499e-86a1-e5fe67131fb1</td><td>fumur-jufir-vuzag/diha_AIFI_L3_frequencies_2024-05-05.csv</td></tr>\n",
       "</tbody>\n",
       "</table>\n"
      ],
      "text/latex": [
       "A data.frame: 3 × 2\n",
       "\\begin{tabular}{ll}\n",
       " id & name\\\\\n",
       " <chr> & <chr>\\\\\n",
       "\\hline\n",
       "\t b04e3ccd-e437-41ae-97fe-63a0c0a24995 & fumur-jufir-vuzag/diha\\_AIFI\\_L1\\_frequencies\\_2024-05-05.csv\\\\\n",
       "\t 6c82ee51-1898-4699-b382-59e619a05b82 & fumur-jufir-vuzag/diha\\_AIFI\\_L2\\_frequencies\\_2024-05-05.csv\\\\\n",
       "\t 577902fe-094d-499e-86a1-e5fe67131fb1 & fumur-jufir-vuzag/diha\\_AIFI\\_L3\\_frequencies\\_2024-05-05.csv\\\\\n",
       "\\end{tabular}\n"
      ],
      "text/markdown": [
       "\n",
       "A data.frame: 3 × 2\n",
       "\n",
       "| id &lt;chr&gt; | name &lt;chr&gt; |\n",
       "|---|---|\n",
       "| b04e3ccd-e437-41ae-97fe-63a0c0a24995 | fumur-jufir-vuzag/diha_AIFI_L1_frequencies_2024-05-05.csv |\n",
       "| 6c82ee51-1898-4699-b382-59e619a05b82 | fumur-jufir-vuzag/diha_AIFI_L2_frequencies_2024-05-05.csv |\n",
       "| 577902fe-094d-499e-86a1-e5fe67131fb1 | fumur-jufir-vuzag/diha_AIFI_L3_frequencies_2024-05-05.csv |\n",
       "\n"
      ],
      "text/plain": [
       "  id                                  \n",
       "1 b04e3ccd-e437-41ae-97fe-63a0c0a24995\n",
       "2 6c82ee51-1898-4699-b382-59e619a05b82\n",
       "3 577902fe-094d-499e-86a1-e5fe67131fb1\n",
       "  name                                                     \n",
       "1 fumur-jufir-vuzag/diha_AIFI_L1_frequencies_2024-05-05.csv\n",
       "2 fumur-jufir-vuzag/diha_AIFI_L2_frequencies_2024-05-05.csv\n",
       "3 fumur-jufir-vuzag/diha_AIFI_L3_frequencies_2024-05-05.csv"
      ]
     },
     "metadata": {},
     "output_type": "display_data"
    }
   ],
   "source": [
    "freq_files"
   ]
  },
  {
   "cell_type": "markdown",
   "id": "113a56a9-6ec1-4557-9832-21e7d0ef3bf9",
   "metadata": {},
   "source": [
    "## Download files from HISE"
   ]
  },
  {
   "cell_type": "code",
   "execution_count": 8,
   "id": "7f0ddb23-a20e-4749-a46a-ef4f6b292229",
   "metadata": {
    "tags": []
   },
   "outputs": [
    {
     "name": "stderr",
     "output_type": "stream",
     "text": [
      "submitting request as query ID first...\n",
      "\n",
      "retrieving files using fileIDS...\n",
      "\n"
     ]
    },
    {
     "name": "stdout",
     "output_type": "stream",
     "text": [
      "[1] \"Initiating file download for diha_AIFI_L1_frequencies_2024-05-05.csv\"\n",
      "[1] \"Download successful.\"\n"
     ]
    },
    {
     "name": "stderr",
     "output_type": "stream",
     "text": [
      "submitting request as query ID first...\n",
      "\n",
      "retrieving files using fileIDS...\n",
      "\n"
     ]
    },
    {
     "name": "stdout",
     "output_type": "stream",
     "text": [
      "[1] \"Initiating file download for diha_AIFI_L2_frequencies_2024-05-05.csv\"\n",
      "[1] \"Download successful.\"\n"
     ]
    },
    {
     "name": "stderr",
     "output_type": "stream",
     "text": [
      "submitting request as query ID first...\n",
      "\n",
      "retrieving files using fileIDS...\n",
      "\n"
     ]
    },
    {
     "name": "stdout",
     "output_type": "stream",
     "text": [
      "[1] \"Initiating file download for diha_AIFI_L3_frequencies_2024-05-05.csv\"\n",
      "[1] \"Download successful.\"\n"
     ]
    },
    {
     "data": {
      "text/html": [
       "<ol>\n",
       "\t<li>'cache/b04e3ccd-e437-41ae-97fe-63a0c0a24995/diha_AIFI_L1_frequencies_2024-05-05.csv'</li>\n",
       "\t<li>'cache/6c82ee51-1898-4699-b382-59e619a05b82/diha_AIFI_L2_frequencies_2024-05-05.csv'</li>\n",
       "\t<li>'cache/577902fe-094d-499e-86a1-e5fe67131fb1/diha_AIFI_L3_frequencies_2024-05-05.csv'</li>\n",
       "</ol>\n"
      ],
      "text/latex": [
       "\\begin{enumerate}\n",
       "\\item 'cache/b04e3ccd-e437-41ae-97fe-63a0c0a24995/diha\\_AIFI\\_L1\\_frequencies\\_2024-05-05.csv'\n",
       "\\item 'cache/6c82ee51-1898-4699-b382-59e619a05b82/diha\\_AIFI\\_L2\\_frequencies\\_2024-05-05.csv'\n",
       "\\item 'cache/577902fe-094d-499e-86a1-e5fe67131fb1/diha\\_AIFI\\_L3\\_frequencies\\_2024-05-05.csv'\n",
       "\\end{enumerate}\n"
      ],
      "text/markdown": [
       "1. 'cache/b04e3ccd-e437-41ae-97fe-63a0c0a24995/diha_AIFI_L1_frequencies_2024-05-05.csv'\n",
       "2. 'cache/6c82ee51-1898-4699-b382-59e619a05b82/diha_AIFI_L2_frequencies_2024-05-05.csv'\n",
       "3. 'cache/577902fe-094d-499e-86a1-e5fe67131fb1/diha_AIFI_L3_frequencies_2024-05-05.csv'\n",
       "\n",
       "\n"
      ],
      "text/plain": [
       "[[1]]\n",
       "[1] \"cache/b04e3ccd-e437-41ae-97fe-63a0c0a24995/diha_AIFI_L1_frequencies_2024-05-05.csv\"\n",
       "\n",
       "[[2]]\n",
       "[1] \"cache/6c82ee51-1898-4699-b382-59e619a05b82/diha_AIFI_L2_frequencies_2024-05-05.csv\"\n",
       "\n",
       "[[3]]\n",
       "[1] \"cache/577902fe-094d-499e-86a1-e5fe67131fb1/diha_AIFI_L3_frequencies_2024-05-05.csv\"\n"
      ]
     },
     "metadata": {},
     "output_type": "display_data"
    }
   ],
   "source": [
    "file_paths <- map(freq_files$id, cache_uuid_path)\n",
    "file_paths"
   ]
  },
  {
   "cell_type": "markdown",
   "id": "97376d11-c571-4af3-94b6-5f9d4d59f1f8",
   "metadata": {},
   "source": [
    "## Load data"
   ]
  },
  {
   "cell_type": "code",
   "execution_count": 9,
   "id": "4d3ed462-2456-4d18-8acf-6c299ecbcace",
   "metadata": {
    "tags": []
   },
   "outputs": [],
   "source": [
    "freq_data <- map(file_paths, read.csv)\n",
    "names(freq_data) <- sub(\".+diha_(.+)_freq.+\", \"\\\\1\", file_paths)"
   ]
  },
  {
   "cell_type": "markdown",
   "id": "a6ced1cf-dbb7-4f85-9486-fd05d08e088f",
   "metadata": {},
   "source": [
    "Now we have a list of frequency data at each level:"
   ]
  },
  {
   "cell_type": "code",
   "execution_count": 11,
   "id": "360815ec-767b-436e-86b7-a71f110aed95",
   "metadata": {
    "tags": []
   },
   "outputs": [
    {
     "data": {
      "text/html": [
       "<table class=\"dataframe\">\n",
       "<caption>A data.frame: 6 × 23</caption>\n",
       "<thead>\n",
       "\t<tr><th></th><th scope=col>cohort.cohortGuid</th><th scope=col>subject.subjectGuid</th><th scope=col>subject.biologicalSex</th><th scope=col>subject.cmv</th><th scope=col>subject.bmi</th><th scope=col>subject.race</th><th scope=col>subject.ethnicity</th><th scope=col>subject.birthYear</th><th scope=col>subject.ageAtFirstDraw</th><th scope=col>sample.sampleKitGuid</th><th scope=col>⋯</th><th scope=col>specimen.specimenGuid</th><th scope=col>AIFI_L1</th><th scope=col>AIFI_L1_count</th><th scope=col>total_cells</th><th scope=col>scrna.lymphocyte_count</th><th scope=col>bc.lymphocyte_count</th><th scope=col>alc_ratio</th><th scope=col>AIFI_L1_frac_total</th><th scope=col>AIFI_L1_alc</th><th scope=col>AIFI_L1_clr</th></tr>\n",
       "\t<tr><th></th><th scope=col>&lt;chr&gt;</th><th scope=col>&lt;chr&gt;</th><th scope=col>&lt;chr&gt;</th><th scope=col>&lt;chr&gt;</th><th scope=col>&lt;int&gt;</th><th scope=col>&lt;chr&gt;</th><th scope=col>&lt;chr&gt;</th><th scope=col>&lt;int&gt;</th><th scope=col>&lt;int&gt;</th><th scope=col>&lt;chr&gt;</th><th scope=col>⋯</th><th scope=col>&lt;chr&gt;</th><th scope=col>&lt;chr&gt;</th><th scope=col>&lt;int&gt;</th><th scope=col>&lt;int&gt;</th><th scope=col>&lt;int&gt;</th><th scope=col>&lt;int&gt;</th><th scope=col>&lt;dbl&gt;</th><th scope=col>&lt;dbl&gt;</th><th scope=col>&lt;dbl&gt;</th><th scope=col>&lt;dbl&gt;</th></tr>\n",
       "</thead>\n",
       "<tbody>\n",
       "\t<tr><th scope=row>1</th><td>BR1</td><td>BR1001</td><td>Female</td><td>Negative</td><td>23</td><td>Caucasian</td><td>Non-Hispanic origin</td><td>1987</td><td>32</td><td>KT00001</td><td>⋯</td><td>PB00001-01</td><td>B cell     </td><td>1781</td><td>18231</td><td>13903</td><td>1337</td><td>0.0961663</td><td>0.0976907465</td><td>171.2721715</td><td> 2.0880254</td></tr>\n",
       "\t<tr><th scope=row>2</th><td>BR1</td><td>BR1001</td><td>Female</td><td>Negative</td><td>23</td><td>Caucasian</td><td>Non-Hispanic origin</td><td>1987</td><td>32</td><td>KT00001</td><td>⋯</td><td>PB00001-01</td><td>DC         </td><td> 246</td><td>18231</td><td>13903</td><td>1337</td><td>0.0961663</td><td>0.0134935001</td><td> 23.6569086</td><td> 0.1084267</td></tr>\n",
       "\t<tr><th scope=row>3</th><td>BR1</td><td>BR1001</td><td>Female</td><td>Negative</td><td>23</td><td>Caucasian</td><td>Non-Hispanic origin</td><td>1987</td><td>32</td><td>KT00001</td><td>⋯</td><td>PB00001-01</td><td>Erythrocyte</td><td>  15</td><td>18231</td><td>13903</td><td>1337</td><td>0.0961663</td><td>0.0008227744</td><td>  1.4424944</td><td>-2.6888546</td></tr>\n",
       "\t<tr><th scope=row>4</th><td>BR1</td><td>BR1001</td><td>Female</td><td>Negative</td><td>23</td><td>Caucasian</td><td>Non-Hispanic origin</td><td>1987</td><td>32</td><td>KT00001</td><td>⋯</td><td>PB00001-01</td><td>ILC        </td><td>   8</td><td>18231</td><td>13903</td><td>1337</td><td>0.0961663</td><td>0.0004388130</td><td>  0.7693304</td><td>-3.3174633</td></tr>\n",
       "\t<tr><th scope=row>5</th><td>BR1</td><td>BR1001</td><td>Female</td><td>Negative</td><td>23</td><td>Caucasian</td><td>Non-Hispanic origin</td><td>1987</td><td>32</td><td>KT00001</td><td>⋯</td><td>PB00001-01</td><td>Monocyte   </td><td>4004</td><td>18231</td><td>13903</td><td>1337</td><td>0.0961663</td><td>0.2196259119</td><td>385.0498454</td><td> 2.8981443</td></tr>\n",
       "\t<tr><th scope=row>6</th><td>BR1</td><td>BR1001</td><td>Female</td><td>Negative</td><td>23</td><td>Caucasian</td><td>Non-Hispanic origin</td><td>1987</td><td>32</td><td>KT00001</td><td>⋯</td><td>PB00001-01</td><td>NK cell    </td><td>1202</td><td>18231</td><td>13903</td><td>1337</td><td>0.0961663</td><td>0.0659316549</td><td>115.5918866</td><td> 1.6948373</td></tr>\n",
       "</tbody>\n",
       "</table>\n"
      ],
      "text/latex": [
       "A data.frame: 6 × 23\n",
       "\\begin{tabular}{r|lllllllllllllllllllll}\n",
       "  & cohort.cohortGuid & subject.subjectGuid & subject.biologicalSex & subject.cmv & subject.bmi & subject.race & subject.ethnicity & subject.birthYear & subject.ageAtFirstDraw & sample.sampleKitGuid & ⋯ & specimen.specimenGuid & AIFI\\_L1 & AIFI\\_L1\\_count & total\\_cells & scrna.lymphocyte\\_count & bc.lymphocyte\\_count & alc\\_ratio & AIFI\\_L1\\_frac\\_total & AIFI\\_L1\\_alc & AIFI\\_L1\\_clr\\\\\n",
       "  & <chr> & <chr> & <chr> & <chr> & <int> & <chr> & <chr> & <int> & <int> & <chr> & ⋯ & <chr> & <chr> & <int> & <int> & <int> & <int> & <dbl> & <dbl> & <dbl> & <dbl>\\\\\n",
       "\\hline\n",
       "\t1 & BR1 & BR1001 & Female & Negative & 23 & Caucasian & Non-Hispanic origin & 1987 & 32 & KT00001 & ⋯ & PB00001-01 & B cell      & 1781 & 18231 & 13903 & 1337 & 0.0961663 & 0.0976907465 & 171.2721715 &  2.0880254\\\\\n",
       "\t2 & BR1 & BR1001 & Female & Negative & 23 & Caucasian & Non-Hispanic origin & 1987 & 32 & KT00001 & ⋯ & PB00001-01 & DC          &  246 & 18231 & 13903 & 1337 & 0.0961663 & 0.0134935001 &  23.6569086 &  0.1084267\\\\\n",
       "\t3 & BR1 & BR1001 & Female & Negative & 23 & Caucasian & Non-Hispanic origin & 1987 & 32 & KT00001 & ⋯ & PB00001-01 & Erythrocyte &   15 & 18231 & 13903 & 1337 & 0.0961663 & 0.0008227744 &   1.4424944 & -2.6888546\\\\\n",
       "\t4 & BR1 & BR1001 & Female & Negative & 23 & Caucasian & Non-Hispanic origin & 1987 & 32 & KT00001 & ⋯ & PB00001-01 & ILC         &    8 & 18231 & 13903 & 1337 & 0.0961663 & 0.0004388130 &   0.7693304 & -3.3174633\\\\\n",
       "\t5 & BR1 & BR1001 & Female & Negative & 23 & Caucasian & Non-Hispanic origin & 1987 & 32 & KT00001 & ⋯ & PB00001-01 & Monocyte    & 4004 & 18231 & 13903 & 1337 & 0.0961663 & 0.2196259119 & 385.0498454 &  2.8981443\\\\\n",
       "\t6 & BR1 & BR1001 & Female & Negative & 23 & Caucasian & Non-Hispanic origin & 1987 & 32 & KT00001 & ⋯ & PB00001-01 & NK cell     & 1202 & 18231 & 13903 & 1337 & 0.0961663 & 0.0659316549 & 115.5918866 &  1.6948373\\\\\n",
       "\\end{tabular}\n"
      ],
      "text/markdown": [
       "\n",
       "A data.frame: 6 × 23\n",
       "\n",
       "| <!--/--> | cohort.cohortGuid &lt;chr&gt; | subject.subjectGuid &lt;chr&gt; | subject.biologicalSex &lt;chr&gt; | subject.cmv &lt;chr&gt; | subject.bmi &lt;int&gt; | subject.race &lt;chr&gt; | subject.ethnicity &lt;chr&gt; | subject.birthYear &lt;int&gt; | subject.ageAtFirstDraw &lt;int&gt; | sample.sampleKitGuid &lt;chr&gt; | ⋯ ⋯ | specimen.specimenGuid &lt;chr&gt; | AIFI_L1 &lt;chr&gt; | AIFI_L1_count &lt;int&gt; | total_cells &lt;int&gt; | scrna.lymphocyte_count &lt;int&gt; | bc.lymphocyte_count &lt;int&gt; | alc_ratio &lt;dbl&gt; | AIFI_L1_frac_total &lt;dbl&gt; | AIFI_L1_alc &lt;dbl&gt; | AIFI_L1_clr &lt;dbl&gt; |\n",
       "|---|---|---|---|---|---|---|---|---|---|---|---|---|---|---|---|---|---|---|---|---|---|\n",
       "| 1 | BR1 | BR1001 | Female | Negative | 23 | Caucasian | Non-Hispanic origin | 1987 | 32 | KT00001 | ⋯ | PB00001-01 | B cell      | 1781 | 18231 | 13903 | 1337 | 0.0961663 | 0.0976907465 | 171.2721715 |  2.0880254 |\n",
       "| 2 | BR1 | BR1001 | Female | Negative | 23 | Caucasian | Non-Hispanic origin | 1987 | 32 | KT00001 | ⋯ | PB00001-01 | DC          |  246 | 18231 | 13903 | 1337 | 0.0961663 | 0.0134935001 |  23.6569086 |  0.1084267 |\n",
       "| 3 | BR1 | BR1001 | Female | Negative | 23 | Caucasian | Non-Hispanic origin | 1987 | 32 | KT00001 | ⋯ | PB00001-01 | Erythrocyte |   15 | 18231 | 13903 | 1337 | 0.0961663 | 0.0008227744 |   1.4424944 | -2.6888546 |\n",
       "| 4 | BR1 | BR1001 | Female | Negative | 23 | Caucasian | Non-Hispanic origin | 1987 | 32 | KT00001 | ⋯ | PB00001-01 | ILC         |    8 | 18231 | 13903 | 1337 | 0.0961663 | 0.0004388130 |   0.7693304 | -3.3174633 |\n",
       "| 5 | BR1 | BR1001 | Female | Negative | 23 | Caucasian | Non-Hispanic origin | 1987 | 32 | KT00001 | ⋯ | PB00001-01 | Monocyte    | 4004 | 18231 | 13903 | 1337 | 0.0961663 | 0.2196259119 | 385.0498454 |  2.8981443 |\n",
       "| 6 | BR1 | BR1001 | Female | Negative | 23 | Caucasian | Non-Hispanic origin | 1987 | 32 | KT00001 | ⋯ | PB00001-01 | NK cell     | 1202 | 18231 | 13903 | 1337 | 0.0961663 | 0.0659316549 | 115.5918866 |  1.6948373 |\n",
       "\n"
      ],
      "text/plain": [
       "  cohort.cohortGuid subject.subjectGuid subject.biologicalSex subject.cmv\n",
       "1 BR1               BR1001              Female                Negative   \n",
       "2 BR1               BR1001              Female                Negative   \n",
       "3 BR1               BR1001              Female                Negative   \n",
       "4 BR1               BR1001              Female                Negative   \n",
       "5 BR1               BR1001              Female                Negative   \n",
       "6 BR1               BR1001              Female                Negative   \n",
       "  subject.bmi subject.race subject.ethnicity   subject.birthYear\n",
       "1 23          Caucasian    Non-Hispanic origin 1987             \n",
       "2 23          Caucasian    Non-Hispanic origin 1987             \n",
       "3 23          Caucasian    Non-Hispanic origin 1987             \n",
       "4 23          Caucasian    Non-Hispanic origin 1987             \n",
       "5 23          Caucasian    Non-Hispanic origin 1987             \n",
       "6 23          Caucasian    Non-Hispanic origin 1987             \n",
       "  subject.ageAtFirstDraw sample.sampleKitGuid ⋯ specimen.specimenGuid\n",
       "1 32                     KT00001              ⋯ PB00001-01           \n",
       "2 32                     KT00001              ⋯ PB00001-01           \n",
       "3 32                     KT00001              ⋯ PB00001-01           \n",
       "4 32                     KT00001              ⋯ PB00001-01           \n",
       "5 32                     KT00001              ⋯ PB00001-01           \n",
       "6 32                     KT00001              ⋯ PB00001-01           \n",
       "  AIFI_L1     AIFI_L1_count total_cells scrna.lymphocyte_count\n",
       "1 B cell      1781          18231       13903                 \n",
       "2 DC           246          18231       13903                 \n",
       "3 Erythrocyte   15          18231       13903                 \n",
       "4 ILC            8          18231       13903                 \n",
       "5 Monocyte    4004          18231       13903                 \n",
       "6 NK cell     1202          18231       13903                 \n",
       "  bc.lymphocyte_count alc_ratio AIFI_L1_frac_total AIFI_L1_alc AIFI_L1_clr\n",
       "1 1337                0.0961663 0.0976907465       171.2721715  2.0880254 \n",
       "2 1337                0.0961663 0.0134935001        23.6569086  0.1084267 \n",
       "3 1337                0.0961663 0.0008227744         1.4424944 -2.6888546 \n",
       "4 1337                0.0961663 0.0004388130         0.7693304 -3.3174633 \n",
       "5 1337                0.0961663 0.2196259119       385.0498454  2.8981443 \n",
       "6 1337                0.0961663 0.0659316549       115.5918866  1.6948373 "
      ]
     },
     "metadata": {},
     "output_type": "display_data"
    },
    {
     "data": {
      "text/html": [
       "7683"
      ],
      "text/latex": [
       "7683"
      ],
      "text/markdown": [
       "7683"
      ],
      "text/plain": [
       "[1] 7683"
      ]
     },
     "metadata": {},
     "output_type": "display_data"
    }
   ],
   "source": [
    "l1 <- freq_data[[\"AIFI_L1\"]]\n",
    "head(l1)\n",
    "nrow(l1)"
   ]
  },
  {
   "cell_type": "code",
   "execution_count": 22,
   "id": "dd57dfeb-c63c-497e-ab56-b3d8899553bd",
   "metadata": {},
   "outputs": [
    {
     "data": {
      "text/html": [
       "<table class=\"dataframe\">\n",
       "<caption>A data.frame: 6 × 24</caption>\n",
       "<thead>\n",
       "\t<tr><th></th><th scope=col>cohort.cohortGuid</th><th scope=col>subject.subjectGuid</th><th scope=col>subject.biologicalSex</th><th scope=col>subject.cmv</th><th scope=col>subject.bmi</th><th scope=col>subject.race</th><th scope=col>subject.ethnicity</th><th scope=col>subject.birthYear</th><th scope=col>subject.ageAtFirstDraw</th><th scope=col>sample.sampleKitGuid</th><th scope=col>⋯</th><th scope=col>AIFI_L1</th><th scope=col>AIFI_L2</th><th scope=col>AIFI_L2_count</th><th scope=col>total_cells</th><th scope=col>scrna.lymphocyte_count</th><th scope=col>bc.lymphocyte_count</th><th scope=col>alc_ratio</th><th scope=col>AIFI_L2_frac_total</th><th scope=col>AIFI_L2_alc</th><th scope=col>AIFI_L2_clr</th></tr>\n",
       "\t<tr><th></th><th scope=col>&lt;chr&gt;</th><th scope=col>&lt;chr&gt;</th><th scope=col>&lt;chr&gt;</th><th scope=col>&lt;chr&gt;</th><th scope=col>&lt;int&gt;</th><th scope=col>&lt;chr&gt;</th><th scope=col>&lt;chr&gt;</th><th scope=col>&lt;int&gt;</th><th scope=col>&lt;int&gt;</th><th scope=col>&lt;chr&gt;</th><th scope=col>⋯</th><th scope=col>&lt;chr&gt;</th><th scope=col>&lt;chr&gt;</th><th scope=col>&lt;int&gt;</th><th scope=col>&lt;int&gt;</th><th scope=col>&lt;int&gt;</th><th scope=col>&lt;int&gt;</th><th scope=col>&lt;dbl&gt;</th><th scope=col>&lt;dbl&gt;</th><th scope=col>&lt;dbl&gt;</th><th scope=col>&lt;dbl&gt;</th></tr>\n",
       "</thead>\n",
       "<tbody>\n",
       "\t<tr><th scope=row>1</th><td>BR1</td><td>BR1001</td><td>Female</td><td>Negative</td><td>23</td><td>Caucasian</td><td>Non-Hispanic origin</td><td>1987</td><td>32</td><td>KT00001</td><td>⋯</td><td>B cell</td><td>Effector B cell    </td><td>  97</td><td>18231</td><td>13903</td><td>1337</td><td>0.0961663</td><td>0.0053206078</td><td>  9.3281306</td><td>-0.410271740</td></tr>\n",
       "\t<tr><th scope=row>2</th><td>BR1</td><td>BR1001</td><td>Female</td><td>Negative</td><td>23</td><td>Caucasian</td><td>Non-Hispanic origin</td><td>1987</td><td>32</td><td>KT00001</td><td>⋯</td><td>B cell</td><td>Memory B cell      </td><td> 381</td><td>18231</td><td>13903</td><td>1337</td><td>0.0961663</td><td>0.0208984696</td><td> 36.6393584</td><td> 0.957816657</td></tr>\n",
       "\t<tr><th scope=row>3</th><td>BR1</td><td>BR1001</td><td>Female</td><td>Negative</td><td>23</td><td>Caucasian</td><td>Non-Hispanic origin</td><td>1987</td><td>32</td><td>KT00001</td><td>⋯</td><td>B cell</td><td>Naive B cell       </td><td>1140</td><td>18231</td><td>13903</td><td>1337</td><td>0.0961663</td><td>0.0625308540</td><td>109.6295764</td><td> 2.053800823</td></tr>\n",
       "\t<tr><th scope=row>4</th><td>BR1</td><td>BR1001</td><td>Female</td><td>Negative</td><td>23</td><td>Caucasian</td><td>Non-Hispanic origin</td><td>1987</td><td>32</td><td>KT00001</td><td>⋯</td><td>B cell</td><td>Plasma cell        </td><td>  18</td><td>18231</td><td>13903</td><td>1337</td><td>0.0961663</td><td>0.0009873293</td><td>  1.7309933</td><td>-2.094610961</td></tr>\n",
       "\t<tr><th scope=row>5</th><td>BR1</td><td>BR1001</td><td>Female</td><td>Negative</td><td>23</td><td>Caucasian</td><td>Non-Hispanic origin</td><td>1987</td><td>32</td><td>KT00001</td><td>⋯</td><td>B cell</td><td>Transitional B cell</td><td> 145</td><td>18231</td><td>13903</td><td>1337</td><td>0.0961663</td><td>0.0079534858</td><td> 13.9441128</td><td>-0.008248976</td></tr>\n",
       "\t<tr><th scope=row>6</th><td>BR1</td><td>BR1001</td><td>Female</td><td>Negative</td><td>23</td><td>Caucasian</td><td>Non-Hispanic origin</td><td>1987</td><td>32</td><td>KT00001</td><td>⋯</td><td>DC    </td><td>ASDC               </td><td>   7</td><td>18231</td><td>13903</td><td>1337</td><td>0.0961663</td><td>0.0003839614</td><td>  0.6731641</td><td>-3.039072570</td></tr>\n",
       "</tbody>\n",
       "</table>\n"
      ],
      "text/latex": [
       "A data.frame: 6 × 24\n",
       "\\begin{tabular}{r|lllllllllllllllllllll}\n",
       "  & cohort.cohortGuid & subject.subjectGuid & subject.biologicalSex & subject.cmv & subject.bmi & subject.race & subject.ethnicity & subject.birthYear & subject.ageAtFirstDraw & sample.sampleKitGuid & ⋯ & AIFI\\_L1 & AIFI\\_L2 & AIFI\\_L2\\_count & total\\_cells & scrna.lymphocyte\\_count & bc.lymphocyte\\_count & alc\\_ratio & AIFI\\_L2\\_frac\\_total & AIFI\\_L2\\_alc & AIFI\\_L2\\_clr\\\\\n",
       "  & <chr> & <chr> & <chr> & <chr> & <int> & <chr> & <chr> & <int> & <int> & <chr> & ⋯ & <chr> & <chr> & <int> & <int> & <int> & <int> & <dbl> & <dbl> & <dbl> & <dbl>\\\\\n",
       "\\hline\n",
       "\t1 & BR1 & BR1001 & Female & Negative & 23 & Caucasian & Non-Hispanic origin & 1987 & 32 & KT00001 & ⋯ & B cell & Effector B cell     &   97 & 18231 & 13903 & 1337 & 0.0961663 & 0.0053206078 &   9.3281306 & -0.410271740\\\\\n",
       "\t2 & BR1 & BR1001 & Female & Negative & 23 & Caucasian & Non-Hispanic origin & 1987 & 32 & KT00001 & ⋯ & B cell & Memory B cell       &  381 & 18231 & 13903 & 1337 & 0.0961663 & 0.0208984696 &  36.6393584 &  0.957816657\\\\\n",
       "\t3 & BR1 & BR1001 & Female & Negative & 23 & Caucasian & Non-Hispanic origin & 1987 & 32 & KT00001 & ⋯ & B cell & Naive B cell        & 1140 & 18231 & 13903 & 1337 & 0.0961663 & 0.0625308540 & 109.6295764 &  2.053800823\\\\\n",
       "\t4 & BR1 & BR1001 & Female & Negative & 23 & Caucasian & Non-Hispanic origin & 1987 & 32 & KT00001 & ⋯ & B cell & Plasma cell         &   18 & 18231 & 13903 & 1337 & 0.0961663 & 0.0009873293 &   1.7309933 & -2.094610961\\\\\n",
       "\t5 & BR1 & BR1001 & Female & Negative & 23 & Caucasian & Non-Hispanic origin & 1987 & 32 & KT00001 & ⋯ & B cell & Transitional B cell &  145 & 18231 & 13903 & 1337 & 0.0961663 & 0.0079534858 &  13.9441128 & -0.008248976\\\\\n",
       "\t6 & BR1 & BR1001 & Female & Negative & 23 & Caucasian & Non-Hispanic origin & 1987 & 32 & KT00001 & ⋯ & DC     & ASDC                &    7 & 18231 & 13903 & 1337 & 0.0961663 & 0.0003839614 &   0.6731641 & -3.039072570\\\\\n",
       "\\end{tabular}\n"
      ],
      "text/markdown": [
       "\n",
       "A data.frame: 6 × 24\n",
       "\n",
       "| <!--/--> | cohort.cohortGuid &lt;chr&gt; | subject.subjectGuid &lt;chr&gt; | subject.biologicalSex &lt;chr&gt; | subject.cmv &lt;chr&gt; | subject.bmi &lt;int&gt; | subject.race &lt;chr&gt; | subject.ethnicity &lt;chr&gt; | subject.birthYear &lt;int&gt; | subject.ageAtFirstDraw &lt;int&gt; | sample.sampleKitGuid &lt;chr&gt; | ⋯ ⋯ | AIFI_L1 &lt;chr&gt; | AIFI_L2 &lt;chr&gt; | AIFI_L2_count &lt;int&gt; | total_cells &lt;int&gt; | scrna.lymphocyte_count &lt;int&gt; | bc.lymphocyte_count &lt;int&gt; | alc_ratio &lt;dbl&gt; | AIFI_L2_frac_total &lt;dbl&gt; | AIFI_L2_alc &lt;dbl&gt; | AIFI_L2_clr &lt;dbl&gt; |\n",
       "|---|---|---|---|---|---|---|---|---|---|---|---|---|---|---|---|---|---|---|---|---|---|\n",
       "| 1 | BR1 | BR1001 | Female | Negative | 23 | Caucasian | Non-Hispanic origin | 1987 | 32 | KT00001 | ⋯ | B cell | Effector B cell     |   97 | 18231 | 13903 | 1337 | 0.0961663 | 0.0053206078 |   9.3281306 | -0.410271740 |\n",
       "| 2 | BR1 | BR1001 | Female | Negative | 23 | Caucasian | Non-Hispanic origin | 1987 | 32 | KT00001 | ⋯ | B cell | Memory B cell       |  381 | 18231 | 13903 | 1337 | 0.0961663 | 0.0208984696 |  36.6393584 |  0.957816657 |\n",
       "| 3 | BR1 | BR1001 | Female | Negative | 23 | Caucasian | Non-Hispanic origin | 1987 | 32 | KT00001 | ⋯ | B cell | Naive B cell        | 1140 | 18231 | 13903 | 1337 | 0.0961663 | 0.0625308540 | 109.6295764 |  2.053800823 |\n",
       "| 4 | BR1 | BR1001 | Female | Negative | 23 | Caucasian | Non-Hispanic origin | 1987 | 32 | KT00001 | ⋯ | B cell | Plasma cell         |   18 | 18231 | 13903 | 1337 | 0.0961663 | 0.0009873293 |   1.7309933 | -2.094610961 |\n",
       "| 5 | BR1 | BR1001 | Female | Negative | 23 | Caucasian | Non-Hispanic origin | 1987 | 32 | KT00001 | ⋯ | B cell | Transitional B cell |  145 | 18231 | 13903 | 1337 | 0.0961663 | 0.0079534858 |  13.9441128 | -0.008248976 |\n",
       "| 6 | BR1 | BR1001 | Female | Negative | 23 | Caucasian | Non-Hispanic origin | 1987 | 32 | KT00001 | ⋯ | DC     | ASDC                |    7 | 18231 | 13903 | 1337 | 0.0961663 | 0.0003839614 |   0.6731641 | -3.039072570 |\n",
       "\n"
      ],
      "text/plain": [
       "  cohort.cohortGuid subject.subjectGuid subject.biologicalSex subject.cmv\n",
       "1 BR1               BR1001              Female                Negative   \n",
       "2 BR1               BR1001              Female                Negative   \n",
       "3 BR1               BR1001              Female                Negative   \n",
       "4 BR1               BR1001              Female                Negative   \n",
       "5 BR1               BR1001              Female                Negative   \n",
       "6 BR1               BR1001              Female                Negative   \n",
       "  subject.bmi subject.race subject.ethnicity   subject.birthYear\n",
       "1 23          Caucasian    Non-Hispanic origin 1987             \n",
       "2 23          Caucasian    Non-Hispanic origin 1987             \n",
       "3 23          Caucasian    Non-Hispanic origin 1987             \n",
       "4 23          Caucasian    Non-Hispanic origin 1987             \n",
       "5 23          Caucasian    Non-Hispanic origin 1987             \n",
       "6 23          Caucasian    Non-Hispanic origin 1987             \n",
       "  subject.ageAtFirstDraw sample.sampleKitGuid ⋯ AIFI_L1 AIFI_L2            \n",
       "1 32                     KT00001              ⋯ B cell  Effector B cell    \n",
       "2 32                     KT00001              ⋯ B cell  Memory B cell      \n",
       "3 32                     KT00001              ⋯ B cell  Naive B cell       \n",
       "4 32                     KT00001              ⋯ B cell  Plasma cell        \n",
       "5 32                     KT00001              ⋯ B cell  Transitional B cell\n",
       "6 32                     KT00001              ⋯ DC      ASDC               \n",
       "  AIFI_L2_count total_cells scrna.lymphocyte_count bc.lymphocyte_count\n",
       "1   97          18231       13903                  1337               \n",
       "2  381          18231       13903                  1337               \n",
       "3 1140          18231       13903                  1337               \n",
       "4   18          18231       13903                  1337               \n",
       "5  145          18231       13903                  1337               \n",
       "6    7          18231       13903                  1337               \n",
       "  alc_ratio AIFI_L2_frac_total AIFI_L2_alc AIFI_L2_clr \n",
       "1 0.0961663 0.0053206078         9.3281306 -0.410271740\n",
       "2 0.0961663 0.0208984696        36.6393584  0.957816657\n",
       "3 0.0961663 0.0625308540       109.6295764  2.053800823\n",
       "4 0.0961663 0.0009873293         1.7309933 -2.094610961\n",
       "5 0.0961663 0.0079534858        13.9441128 -0.008248976\n",
       "6 0.0961663 0.0003839614         0.6731641 -3.039072570"
      ]
     },
     "metadata": {},
     "output_type": "display_data"
    },
    {
     "data": {
      "text/html": [
       "24892"
      ],
      "text/latex": [
       "24892"
      ],
      "text/markdown": [
       "24892"
      ],
      "text/plain": [
       "[1] 24892"
      ]
     },
     "metadata": {},
     "output_type": "display_data"
    }
   ],
   "source": [
    "l2 <- freq_data[[\"AIFI_L2\"]]\n",
    "head(l2)\n",
    "nrow(l2)"
   ]
  },
  {
   "cell_type": "code",
   "execution_count": 12,
   "id": "92ca14ce-5402-4dd6-825f-f69493697d5e",
   "metadata": {
    "tags": []
   },
   "outputs": [
    {
     "data": {
      "text/html": [
       "<table class=\"dataframe\">\n",
       "<caption>A data.frame: 6 × 25</caption>\n",
       "<thead>\n",
       "\t<tr><th></th><th scope=col>cohort.cohortGuid</th><th scope=col>subject.subjectGuid</th><th scope=col>subject.biologicalSex</th><th scope=col>subject.cmv</th><th scope=col>subject.bmi</th><th scope=col>subject.race</th><th scope=col>subject.ethnicity</th><th scope=col>subject.birthYear</th><th scope=col>subject.ageAtFirstDraw</th><th scope=col>sample.sampleKitGuid</th><th scope=col>⋯</th><th scope=col>AIFI_L2</th><th scope=col>AIFI_L3</th><th scope=col>AIFI_L3_count</th><th scope=col>total_cells</th><th scope=col>scrna.lymphocyte_count</th><th scope=col>bc.lymphocyte_count</th><th scope=col>alc_ratio</th><th scope=col>AIFI_L3_frac_total</th><th scope=col>AIFI_L3_alc</th><th scope=col>AIFI_L3_clr</th></tr>\n",
       "\t<tr><th></th><th scope=col>&lt;chr&gt;</th><th scope=col>&lt;chr&gt;</th><th scope=col>&lt;chr&gt;</th><th scope=col>&lt;chr&gt;</th><th scope=col>&lt;int&gt;</th><th scope=col>&lt;chr&gt;</th><th scope=col>&lt;chr&gt;</th><th scope=col>&lt;int&gt;</th><th scope=col>&lt;int&gt;</th><th scope=col>&lt;chr&gt;</th><th scope=col>⋯</th><th scope=col>&lt;chr&gt;</th><th scope=col>&lt;chr&gt;</th><th scope=col>&lt;int&gt;</th><th scope=col>&lt;int&gt;</th><th scope=col>&lt;int&gt;</th><th scope=col>&lt;int&gt;</th><th scope=col>&lt;dbl&gt;</th><th scope=col>&lt;dbl&gt;</th><th scope=col>&lt;dbl&gt;</th><th scope=col>&lt;dbl&gt;</th></tr>\n",
       "</thead>\n",
       "<tbody>\n",
       "\t<tr><th scope=row>1</th><td>BR1</td><td>BR1001</td><td>Female</td><td>Negative</td><td>23</td><td>Caucasian</td><td>Non-Hispanic origin</td><td>1987</td><td>32</td><td>KT00001</td><td>⋯</td><td>Effector B cell</td><td>CD27+ effector B cell  </td><td> 71</td><td>18231</td><td>13903</td><td>1337</td><td>0.0961663</td><td>0.0038944655</td><td> 6.8278069</td><td> 0.3324226</td></tr>\n",
       "\t<tr><th scope=row>2</th><td>BR1</td><td>BR1001</td><td>Female</td><td>Negative</td><td>23</td><td>Caucasian</td><td>Non-Hispanic origin</td><td>1987</td><td>32</td><td>KT00001</td><td>⋯</td><td>Effector B cell</td><td>CD27- effector B cell  </td><td> 26</td><td>18231</td><td>13903</td><td>1337</td><td>0.0961663</td><td>0.0014261423</td><td> 2.5003237</td><td>-0.6721608</td></tr>\n",
       "\t<tr><th scope=row>3</th><td>BR1</td><td>BR1001</td><td>Female</td><td>Negative</td><td>23</td><td>Caucasian</td><td>Non-Hispanic origin</td><td>1987</td><td>32</td><td>KT00001</td><td>⋯</td><td>Memory B cell  </td><td>Activated memory B cell</td><td>  3</td><td>18231</td><td>13903</td><td>1337</td><td>0.0961663</td><td>0.0001645549</td><td> 0.2884989</td><td>-2.8316450</td></tr>\n",
       "\t<tr><th scope=row>4</th><td>BR1</td><td>BR1001</td><td>Female</td><td>Negative</td><td>23</td><td>Caucasian</td><td>Non-Hispanic origin</td><td>1987</td><td>32</td><td>KT00001</td><td>⋯</td><td>Memory B cell  </td><td>CD95 memory B cell     </td><td> 15</td><td>18231</td><td>13903</td><td>1337</td><td>0.0961663</td><td>0.0008227744</td><td> 1.4424944</td><td>-1.2222071</td></tr>\n",
       "\t<tr><th scope=row>5</th><td>BR1</td><td>BR1001</td><td>Female</td><td>Negative</td><td>23</td><td>Caucasian</td><td>Non-Hispanic origin</td><td>1987</td><td>32</td><td>KT00001</td><td>⋯</td><td>Memory B cell  </td><td>Core memory B cell     </td><td>329</td><td>18231</td><td>13903</td><td>1337</td><td>0.0961663</td><td>0.0180461851</td><td>31.6387111</td><td> 1.8658004</td></tr>\n",
       "\t<tr><th scope=row>6</th><td>BR1</td><td>BR1001</td><td>Female</td><td>Negative</td><td>23</td><td>Caucasian</td><td>Non-Hispanic origin</td><td>1987</td><td>32</td><td>KT00001</td><td>⋯</td><td>Memory B cell  </td><td>Early memory B cell    </td><td> 10</td><td>18231</td><td>13903</td><td>1337</td><td>0.0961663</td><td>0.0005485163</td><td> 0.9616630</td><td>-1.6276722</td></tr>\n",
       "</tbody>\n",
       "</table>\n"
      ],
      "text/latex": [
       "A data.frame: 6 × 25\n",
       "\\begin{tabular}{r|lllllllllllllllllllll}\n",
       "  & cohort.cohortGuid & subject.subjectGuid & subject.biologicalSex & subject.cmv & subject.bmi & subject.race & subject.ethnicity & subject.birthYear & subject.ageAtFirstDraw & sample.sampleKitGuid & ⋯ & AIFI\\_L2 & AIFI\\_L3 & AIFI\\_L3\\_count & total\\_cells & scrna.lymphocyte\\_count & bc.lymphocyte\\_count & alc\\_ratio & AIFI\\_L3\\_frac\\_total & AIFI\\_L3\\_alc & AIFI\\_L3\\_clr\\\\\n",
       "  & <chr> & <chr> & <chr> & <chr> & <int> & <chr> & <chr> & <int> & <int> & <chr> & ⋯ & <chr> & <chr> & <int> & <int> & <int> & <int> & <dbl> & <dbl> & <dbl> & <dbl>\\\\\n",
       "\\hline\n",
       "\t1 & BR1 & BR1001 & Female & Negative & 23 & Caucasian & Non-Hispanic origin & 1987 & 32 & KT00001 & ⋯ & Effector B cell & CD27+ effector B cell   &  71 & 18231 & 13903 & 1337 & 0.0961663 & 0.0038944655 &  6.8278069 &  0.3324226\\\\\n",
       "\t2 & BR1 & BR1001 & Female & Negative & 23 & Caucasian & Non-Hispanic origin & 1987 & 32 & KT00001 & ⋯ & Effector B cell & CD27- effector B cell   &  26 & 18231 & 13903 & 1337 & 0.0961663 & 0.0014261423 &  2.5003237 & -0.6721608\\\\\n",
       "\t3 & BR1 & BR1001 & Female & Negative & 23 & Caucasian & Non-Hispanic origin & 1987 & 32 & KT00001 & ⋯ & Memory B cell   & Activated memory B cell &   3 & 18231 & 13903 & 1337 & 0.0961663 & 0.0001645549 &  0.2884989 & -2.8316450\\\\\n",
       "\t4 & BR1 & BR1001 & Female & Negative & 23 & Caucasian & Non-Hispanic origin & 1987 & 32 & KT00001 & ⋯ & Memory B cell   & CD95 memory B cell      &  15 & 18231 & 13903 & 1337 & 0.0961663 & 0.0008227744 &  1.4424944 & -1.2222071\\\\\n",
       "\t5 & BR1 & BR1001 & Female & Negative & 23 & Caucasian & Non-Hispanic origin & 1987 & 32 & KT00001 & ⋯ & Memory B cell   & Core memory B cell      & 329 & 18231 & 13903 & 1337 & 0.0961663 & 0.0180461851 & 31.6387111 &  1.8658004\\\\\n",
       "\t6 & BR1 & BR1001 & Female & Negative & 23 & Caucasian & Non-Hispanic origin & 1987 & 32 & KT00001 & ⋯ & Memory B cell   & Early memory B cell     &  10 & 18231 & 13903 & 1337 & 0.0961663 & 0.0005485163 &  0.9616630 & -1.6276722\\\\\n",
       "\\end{tabular}\n"
      ],
      "text/markdown": [
       "\n",
       "A data.frame: 6 × 25\n",
       "\n",
       "| <!--/--> | cohort.cohortGuid &lt;chr&gt; | subject.subjectGuid &lt;chr&gt; | subject.biologicalSex &lt;chr&gt; | subject.cmv &lt;chr&gt; | subject.bmi &lt;int&gt; | subject.race &lt;chr&gt; | subject.ethnicity &lt;chr&gt; | subject.birthYear &lt;int&gt; | subject.ageAtFirstDraw &lt;int&gt; | sample.sampleKitGuid &lt;chr&gt; | ⋯ ⋯ | AIFI_L2 &lt;chr&gt; | AIFI_L3 &lt;chr&gt; | AIFI_L3_count &lt;int&gt; | total_cells &lt;int&gt; | scrna.lymphocyte_count &lt;int&gt; | bc.lymphocyte_count &lt;int&gt; | alc_ratio &lt;dbl&gt; | AIFI_L3_frac_total &lt;dbl&gt; | AIFI_L3_alc &lt;dbl&gt; | AIFI_L3_clr &lt;dbl&gt; |\n",
       "|---|---|---|---|---|---|---|---|---|---|---|---|---|---|---|---|---|---|---|---|---|---|\n",
       "| 1 | BR1 | BR1001 | Female | Negative | 23 | Caucasian | Non-Hispanic origin | 1987 | 32 | KT00001 | ⋯ | Effector B cell | CD27+ effector B cell   |  71 | 18231 | 13903 | 1337 | 0.0961663 | 0.0038944655 |  6.8278069 |  0.3324226 |\n",
       "| 2 | BR1 | BR1001 | Female | Negative | 23 | Caucasian | Non-Hispanic origin | 1987 | 32 | KT00001 | ⋯ | Effector B cell | CD27- effector B cell   |  26 | 18231 | 13903 | 1337 | 0.0961663 | 0.0014261423 |  2.5003237 | -0.6721608 |\n",
       "| 3 | BR1 | BR1001 | Female | Negative | 23 | Caucasian | Non-Hispanic origin | 1987 | 32 | KT00001 | ⋯ | Memory B cell   | Activated memory B cell |   3 | 18231 | 13903 | 1337 | 0.0961663 | 0.0001645549 |  0.2884989 | -2.8316450 |\n",
       "| 4 | BR1 | BR1001 | Female | Negative | 23 | Caucasian | Non-Hispanic origin | 1987 | 32 | KT00001 | ⋯ | Memory B cell   | CD95 memory B cell      |  15 | 18231 | 13903 | 1337 | 0.0961663 | 0.0008227744 |  1.4424944 | -1.2222071 |\n",
       "| 5 | BR1 | BR1001 | Female | Negative | 23 | Caucasian | Non-Hispanic origin | 1987 | 32 | KT00001 | ⋯ | Memory B cell   | Core memory B cell      | 329 | 18231 | 13903 | 1337 | 0.0961663 | 0.0180461851 | 31.6387111 |  1.8658004 |\n",
       "| 6 | BR1 | BR1001 | Female | Negative | 23 | Caucasian | Non-Hispanic origin | 1987 | 32 | KT00001 | ⋯ | Memory B cell   | Early memory B cell     |  10 | 18231 | 13903 | 1337 | 0.0961663 | 0.0005485163 |  0.9616630 | -1.6276722 |\n",
       "\n"
      ],
      "text/plain": [
       "  cohort.cohortGuid subject.subjectGuid subject.biologicalSex subject.cmv\n",
       "1 BR1               BR1001              Female                Negative   \n",
       "2 BR1               BR1001              Female                Negative   \n",
       "3 BR1               BR1001              Female                Negative   \n",
       "4 BR1               BR1001              Female                Negative   \n",
       "5 BR1               BR1001              Female                Negative   \n",
       "6 BR1               BR1001              Female                Negative   \n",
       "  subject.bmi subject.race subject.ethnicity   subject.birthYear\n",
       "1 23          Caucasian    Non-Hispanic origin 1987             \n",
       "2 23          Caucasian    Non-Hispanic origin 1987             \n",
       "3 23          Caucasian    Non-Hispanic origin 1987             \n",
       "4 23          Caucasian    Non-Hispanic origin 1987             \n",
       "5 23          Caucasian    Non-Hispanic origin 1987             \n",
       "6 23          Caucasian    Non-Hispanic origin 1987             \n",
       "  subject.ageAtFirstDraw sample.sampleKitGuid ⋯ AIFI_L2        \n",
       "1 32                     KT00001              ⋯ Effector B cell\n",
       "2 32                     KT00001              ⋯ Effector B cell\n",
       "3 32                     KT00001              ⋯ Memory B cell  \n",
       "4 32                     KT00001              ⋯ Memory B cell  \n",
       "5 32                     KT00001              ⋯ Memory B cell  \n",
       "6 32                     KT00001              ⋯ Memory B cell  \n",
       "  AIFI_L3                 AIFI_L3_count total_cells scrna.lymphocyte_count\n",
       "1 CD27+ effector B cell    71           18231       13903                 \n",
       "2 CD27- effector B cell    26           18231       13903                 \n",
       "3 Activated memory B cell   3           18231       13903                 \n",
       "4 CD95 memory B cell       15           18231       13903                 \n",
       "5 Core memory B cell      329           18231       13903                 \n",
       "6 Early memory B cell      10           18231       13903                 \n",
       "  bc.lymphocyte_count alc_ratio AIFI_L3_frac_total AIFI_L3_alc AIFI_L3_clr\n",
       "1 1337                0.0961663 0.0038944655        6.8278069   0.3324226 \n",
       "2 1337                0.0961663 0.0014261423        2.5003237  -0.6721608 \n",
       "3 1337                0.0961663 0.0001645549        0.2884989  -2.8316450 \n",
       "4 1337                0.0961663 0.0008227744        1.4424944  -1.2222071 \n",
       "5 1337                0.0961663 0.0180461851       31.6387111   1.8658004 \n",
       "6 1337                0.0961663 0.0005485163        0.9616630  -1.6276722 "
      ]
     },
     "metadata": {},
     "output_type": "display_data"
    },
    {
     "data": {
      "text/html": [
       "58816"
      ],
      "text/latex": [
       "58816"
      ],
      "text/markdown": [
       "58816"
      ],
      "text/plain": [
       "[1] 58816"
      ]
     },
     "metadata": {},
     "output_type": "display_data"
    },
    {
     "data": {
      "text/html": [
       "<style>\n",
       ".list-inline {list-style: none; margin:0; padding: 0}\n",
       ".list-inline>li {display: inline-block}\n",
       ".list-inline>li:not(:last-child)::after {content: \"\\00b7\"; padding: 0 .5ex}\n",
       "</style>\n",
       "<ol class=list-inline><li>58816</li><li>25</li></ol>\n"
      ],
      "text/latex": [
       "\\begin{enumerate*}\n",
       "\\item 58816\n",
       "\\item 25\n",
       "\\end{enumerate*}\n"
      ],
      "text/markdown": [
       "1. 58816\n",
       "2. 25\n",
       "\n",
       "\n"
      ],
      "text/plain": [
       "[1] 58816    25"
      ]
     },
     "metadata": {},
     "output_type": "display_data"
    }
   ],
   "source": [
    "l3 <- freq_data[[\"AIFI_L3\"]]\n",
    "head(l3)\n",
    "nrow(l3)\n",
    "dim(l3)"
   ]
  },
  {
   "cell_type": "markdown",
   "id": "08c790c8-2da5-407b-8ab6-cbe83d9537ba",
   "metadata": {},
   "source": [
    "## Perform Analysis"
   ]
  },
  {
   "cell_type": "code",
   "execution_count": null,
   "id": "f0073c57-ebfa-4776-8a14-b73c3b570a85",
   "metadata": {},
   "outputs": [],
   "source": []
  },
  {
   "cell_type": "code",
   "execution_count": null,
   "id": "22a5b232-feec-49d7-bcc8-b6119ae58860",
   "metadata": {},
   "outputs": [],
   "source": []
  },
  {
   "cell_type": "code",
   "execution_count": null,
   "id": "030a4672-a67d-4675-8357-0cebca91af16",
   "metadata": {},
   "outputs": [],
   "source": []
  },
  {
   "cell_type": "markdown",
   "id": "9745c739-01dd-45a1-83d3-69fbfa356f33",
   "metadata": {},
   "source": [
    "## Write analysis outputs"
   ]
  },
  {
   "cell_type": "code",
   "execution_count": null,
   "id": "a2d0c4f0-1f94-46d2-9198-c7c550fa960f",
   "metadata": {
    "tags": []
   },
   "outputs": [],
   "source": [
    "out_path <- \"output\"\n",
    "if (!dir.exists(out_path)) {\n",
    "    dir.create(out_path)\n",
    "}"
   ]
  },
  {
   "cell_type": "code",
   "execution_count": null,
   "id": "bd6f2c64-f56b-461e-95f9-c7df0e82b66e",
   "metadata": {},
   "outputs": [],
   "source": [
    "out_file <- paste0(out_path, \"/analysis_result_\", Sys.Date(), \".csv\")\n",
    "write.csv(result, out_file)"
   ]
  },
  {
   "cell_type": "markdown",
   "id": "1905d1f0-3c7b-48df-ad05-8c983700cd9b",
   "metadata": {},
   "source": [
    "## Upload results to HISE"
   ]
  },
  {
   "cell_type": "code",
   "execution_count": null,
   "id": "add2063b-0bd0-400d-a616-5c64c87aabd9",
   "metadata": {},
   "outputs": [],
   "source": [
    "study_space_uuid <- \"de025812-5e73-4b3c-9c3b-6d0eac412f2a\" # Collab Space ID for Immune Health Analysis\n",
    "title <- paste0(\"CertPro Analysis Result \", Sys.Date()) # Update with a title for your analysis"
   ]
  },
  {
   "cell_type": "code",
   "execution_count": null,
   "id": "633372ef-fb7e-4bc4-8ecc-f43338633a02",
   "metadata": {},
   "outputs": [],
   "source": [
    "search_id <- ids::proquint(n_words = 3)\n",
    "search_id"
   ]
  },
  {
   "cell_type": "code",
   "execution_count": null,
   "id": "87798364-8d5b-4870-be22-3bbac84b42d8",
   "metadata": {},
   "outputs": [],
   "source": [
    "in_files <- list(file_uuid)\n",
    "in_files"
   ]
  },
  {
   "cell_type": "code",
   "execution_count": null,
   "id": "4da520a7-c2ae-4693-8748-fc21f637b66f",
   "metadata": {},
   "outputs": [],
   "source": [
    "out_files <- list(out_file)\n",
    "out_files"
   ]
  },
  {
   "cell_type": "code",
   "execution_count": null,
   "id": "9f3769fa-2a11-47bd-b3d8-b93e6b601dff",
   "metadata": {},
   "outputs": [],
   "source": [
    "uploadFiles(\n",
    "    studySpaceId = study_space_uuid,\n",
    "    title = title,\n",
    "    files = out_files,\n",
    "    inputFileIds = in_list,\n",
    "    store = \"project\",\n",
    "    destination = search_id\n",
    ")"
   ]
  },
  {
   "cell_type": "markdown",
   "id": "2cd2aeae-43d3-44f4-93cf-e9d25a0d16e2",
   "metadata": {},
   "source": [
    "## Session Info"
   ]
  },
  {
   "cell_type": "code",
   "execution_count": null,
   "id": "77b52b31-080f-4c39-9d25-5bec36b64cb4",
   "metadata": {},
   "outputs": [],
   "source": [
    "import session_info\n",
    "session_info.show()"
   ]
  },
  {
   "cell_type": "code",
   "execution_count": null,
   "id": "5a49b52c-4c56-44dc-b59e-c6da1e6284bc",
   "metadata": {},
   "outputs": [],
   "source": []
  },
  {
   "cell_type": "code",
   "execution_count": null,
   "id": "0f62f9c4-f0b1-4f31-ae45-189acd44e78c",
   "metadata": {},
   "outputs": [],
   "source": []
  }
 ],
 "metadata": {
  "kernelspec": {
   "display_name": "R 4",
   "language": "R",
   "name": "ir4"
  },
  "language_info": {
   "codemirror_mode": "r",
   "file_extension": ".r",
   "mimetype": "text/x-r-source",
   "name": "R",
   "pygments_lexer": "r",
   "version": "4.3.1"
  }
 },
 "nbformat": 4,
 "nbformat_minor": 5
}
