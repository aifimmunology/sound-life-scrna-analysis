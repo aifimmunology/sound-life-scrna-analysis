{
 "cells": [
  {
   "cell_type": "code",
   "execution_count": null,
   "id": "1811d1e3-f411-4e52-9a20-94297293d728",
   "metadata": {
    "tags": []
   },
   "outputs": [],
   "source": [
    "install.packages(\"remotes\")\n",
    "remotes::install_github(\"cellgeni/sceasy\")"
   ]
  },
  {
   "cell_type": "code",
   "execution_count": 2,
   "id": "b8e9732f-7d8d-4c9b-8946-9825e046b10c",
   "metadata": {
    "tags": []
   },
   "outputs": [],
   "source": [
    "library(sceasy)\n",
    "suppressPackageStartupMessages(library(DESeq2))\n",
    "suppressPackageStartupMessages(library(H5weaver))\n",
    "suppressPackageStartupMessages(library(dplyr))\n",
    "suppressPackageStartupMessages(library(tidyr))\n",
    "suppressPackageStartupMessages(library(tibble))\n",
    "suppressPackageStartupMessages(library(ggplot2))\n",
    "suppressPackageStartupMessages(library(Seurat))\n",
    "suppressPackageStartupMessages(library(stringr))\n",
    "library(parallel)"
   ]
  },
  {
   "cell_type": "code",
   "execution_count": 3,
   "id": "65139ffd-7404-4720-9ce7-b0aefec8e27e",
   "metadata": {
    "tags": []
   },
   "outputs": [],
   "source": [
    "library(parallel)"
   ]
  },
  {
   "cell_type": "code",
   "execution_count": null,
   "id": "19b0d3fa-0f70-457b-b5bc-cf9676d88322",
   "metadata": {
    "tags": []
   },
   "outputs": [],
   "source": [
    "# # Helper function to compare two folder for similar/different files\n",
    "\n",
    "# # Specify the paths of the two folders to compare\n",
    "# folder1 <- \"/home/jupyter/IH-A-Aging-Analysis-Notebooks_old/Mansi_Notebooks/scRNA/DEG_Analysis/MS_Sex_DEG_analysis/DEG_cohort_splitby_sex_CSVfiles/Age_yr1_Day0_Female\"\n",
    "# folder2 <- \"/home/jupyter/IH-A-Aging-Analysis-Notebooks_old/Mansi_Notebooks/scRNA/DEG_Analysis/MS_Sex_DEG_analysis/DEG_cohort_splitby_sex_CSVfiles/Age_yr1_Day0_Male_v2\"\n",
    "\n",
    "# # List files in folder1\n",
    "# files1 <- dir(folder1)\n",
    "\n",
    "# # List files in folder2\n",
    "# files2 <- dir(folder2)\n",
    "\n",
    "# # Find matching files\n",
    "# matching_files <- intersect(files1, files2)\n",
    "\n",
    "# # Find files in folder1 that are not in folder2\n",
    "# files_only_in_folder1 <- setdiff(files1, files2)\n",
    "\n",
    "# # Find files in folder2 that are not in folder1\n",
    "# files_only_in_folder2 <- setdiff(files2, files1)\n",
    "\n",
    "# # Print results\n",
    "# cat(\"Files matching:\\n\")\n",
    "# print(matching_files)\n",
    "\n",
    "# cat(\"\\nFiles only in folder1:\\n\")\n",
    "# print(files_only_in_folder1)\n",
    "\n",
    "# cat(\"\\nFiles only in folder2:\\n\")\n",
    "# print(files_only_in_folder2)"
   ]
  },
  {
   "cell_type": "markdown",
   "id": "ee95a24d-56ab-487d-8ae5-c686928acf33",
   "metadata": {},
   "source": [
    "# Read Meta Data"
   ]
  },
  {
   "cell_type": "code",
   "execution_count": 4,
   "id": "e14ddd59-3306-488b-b521-e4b5e3ae22b9",
   "metadata": {
    "tags": []
   },
   "outputs": [],
   "source": [
    "meta_data=read.csv(\"/home/jupyter/IH-A-Aging-Analysis-Notebooks_old/Mansi_Notebooks/scRNA/CertPro_analysis/CSVs/scRNA_meta_data-2024-05-09.csv\")"
   ]
  },
  {
   "cell_type": "code",
   "execution_count": 5,
   "id": "66c17b52-cb1f-44ae-819f-cee8c071506f",
   "metadata": {
    "tags": []
   },
   "outputs": [],
   "source": [
    "filtered_gene_set<-read.csv(\"/home/jupyter/IH-A-Aging-Analysis-Notebooks_old/Mansi_Notebooks/scRNA/CertPro_analysis/scripts/Object_generation/filtered_gene_list_for_fluyr1D0_certpro.csv\")\n"
   ]
  },
  {
   "cell_type": "markdown",
   "id": "b9b59f98-0ec6-4216-929a-4e24f3d1ac05",
   "metadata": {
    "tags": []
   },
   "source": [
    "# Perform Deseq2 - Female (Q method)"
   ]
  },
  {
   "cell_type": "code",
   "execution_count": 28,
   "id": "99b4b484-cbac-49fc-95d8-19e9d55c3264",
   "metadata": {
    "tags": []
   },
   "outputs": [],
   "source": [
    "filtered_gene_set<-read.csv(\"/home/jupyter/IH-A-Aging-Analysis-Notebooks_old/Mansi_Notebooks/scRNA/CertPro_analysis/scripts/Object_generation/filtered_gene_list_for_fluyr1D0_certpro.csv\")\n"
   ]
  },
  {
   "cell_type": "code",
   "execution_count": 29,
   "id": "2201a249-89f2-4b25-b7f0-0b84b095e285",
   "metadata": {
    "tags": []
   },
   "outputs": [
    {
     "data": {
      "text/html": [
       "<table class=\"dataframe\">\n",
       "<caption>A data.frame: 6 × 32</caption>\n",
       "<thead>\n",
       "\t<tr><th></th><th scope=col>X</th><th scope=col>Unnamed..0</th><th scope=col>lastUpdated</th><th scope=col>sample.id</th><th scope=col>sample.bridgingControl</th><th scope=col>sample.sampleKitGuid</th><th scope=col>sample.visitName</th><th scope=col>sample.visitDetails</th><th scope=col>sample.drawDate</th><th scope=col>sample.daysSinceFirstVisit</th><th scope=col>⋯</th><th scope=col>subject.race</th><th scope=col>subject.subjectGuid</th><th scope=col>cohort.cohortGuid</th><th scope=col>sample.diseaseStatesRecordedAtVisit</th><th scope=col>pbmc_sample_id</th><th scope=col>subject.covidVaxDose1.daysSinceFirstVisit</th><th scope=col>subject.covidVaxDose2.daysSinceFirstVisit</th><th scope=col>Covid_exclusion</th><th scope=col>subjectGuid</th><th scope=col>CMV</th></tr>\n",
       "\t<tr><th></th><th scope=col>&lt;int&gt;</th><th scope=col>&lt;int&gt;</th><th scope=col>&lt;chr&gt;</th><th scope=col>&lt;chr&gt;</th><th scope=col>&lt;chr&gt;</th><th scope=col>&lt;chr&gt;</th><th scope=col>&lt;chr&gt;</th><th scope=col>&lt;chr&gt;</th><th scope=col>&lt;chr&gt;</th><th scope=col>&lt;int&gt;</th><th scope=col>⋯</th><th scope=col>&lt;chr&gt;</th><th scope=col>&lt;chr&gt;</th><th scope=col>&lt;chr&gt;</th><th scope=col>&lt;lgl&gt;</th><th scope=col>&lt;chr&gt;</th><th scope=col>&lt;dbl&gt;</th><th scope=col>&lt;dbl&gt;</th><th scope=col>&lt;chr&gt;</th><th scope=col>&lt;chr&gt;</th><th scope=col>&lt;chr&gt;</th></tr>\n",
       "</thead>\n",
       "<tbody>\n",
       "\t<tr><th scope=row>1</th><td> 0</td><td> 1</td><td>2024-05-10T17:12:44.959Z</td><td>f499ff83-e513-4d24-a10f-151348269fff</td><td>False</td><td>KT00001</td><td>Flu Year 1 Day 0</td><td>N/A - Flu-Series Timepoint Only</td><td>2019-10-01T00:00:00Z</td><td>0</td><td>⋯</td><td>Caucasian</td><td>BR1001</td><td>BR1</td><td>NA</td><td>PB00001-01</td><td> NA</td><td> NA</td><td>no</td><td>BR1001</td><td>Negative</td></tr>\n",
       "\t<tr><th scope=row>2</th><td> 2</td><td> 3</td><td>2024-05-10T17:12:44.959Z</td><td>2db6fb3f-e3f4-454b-891b-9b068541b51d</td><td>False</td><td>KT00003</td><td>Flu Year 1 Day 0</td><td>N/A - Flu-Series Timepoint Only</td><td>2019-10-01T00:00:00Z</td><td>0</td><td>⋯</td><td>Caucasian</td><td>BR1003</td><td>BR1</td><td>NA</td><td>PB00003-01</td><td>440</td><td>461</td><td>no</td><td>BR1003</td><td>Negative</td></tr>\n",
       "\t<tr><th scope=row>3</th><td> 4</td><td> 5</td><td>2024-05-10T17:12:44.959Z</td><td>eb5b3a3d-002e-40a6-aa19-aa0e6a7fff8f</td><td>False</td><td>KT00006</td><td>Flu Year 1 Day 0</td><td>N/A - Flu-Series Timepoint Only</td><td>2019-10-01T00:00:00Z</td><td>0</td><td>⋯</td><td>Caucasian</td><td>BR1005</td><td>BR1</td><td>NA</td><td>PB00006-01</td><td>451</td><td>492</td><td>no</td><td>BR1005</td><td>Negative</td></tr>\n",
       "\t<tr><th scope=row>4</th><td>10</td><td>11</td><td>2024-05-10T17:12:44.959Z</td><td>fb3c3406-2797-4c31-b085-37d8138099a3</td><td>False</td><td>KT00012</td><td>Flu Year 1 Day 0</td><td>N/A - Flu-Series Timepoint Only</td><td>2019-10-01T00:00:00Z</td><td>0</td><td>⋯</td><td>Caucasian</td><td>BR1008</td><td>BR1</td><td>NA</td><td>PB00012-01</td><td>469</td><td>494</td><td>no</td><td>BR1008</td><td>Positive</td></tr>\n",
       "\t<tr><th scope=row>5</th><td>14</td><td>15</td><td>2024-05-10T17:12:44.959Z</td><td>19e5fa0e-52a8-4bef-a19a-075ad37fd5e3</td><td>False</td><td>KT00016</td><td>Flu Year 1 Day 0</td><td>N/A - Flu-Series Timepoint Only</td><td>2019-11-01T00:00:00Z</td><td>0</td><td>⋯</td><td>Caucasian</td><td>BR2002</td><td>BR2</td><td>NA</td><td>PB00016-01</td><td>520</td><td>536</td><td>no</td><td>BR2002</td><td>Positive</td></tr>\n",
       "\t<tr><th scope=row>6</th><td>20</td><td>21</td><td>2024-05-10T17:12:44.959Z</td><td>dedcaa14-0aa3-403b-9e13-475e715f0d69</td><td>False</td><td>KT00022</td><td>Flu Year 1 Day 0</td><td>N/A - Flu-Series Timepoint Only</td><td>2019-11-01T00:00:00Z</td><td>0</td><td>⋯</td><td>Caucasian</td><td>BR1010</td><td>BR1</td><td>NA</td><td>PB00022-01</td><td>491</td><td>519</td><td>no</td><td>BR1010</td><td>Positive</td></tr>\n",
       "</tbody>\n",
       "</table>\n"
      ],
      "text/latex": [
       "A data.frame: 6 × 32\n",
       "\\begin{tabular}{r|lllllllllllllllllllll}\n",
       "  & X & Unnamed..0 & lastUpdated & sample.id & sample.bridgingControl & sample.sampleKitGuid & sample.visitName & sample.visitDetails & sample.drawDate & sample.daysSinceFirstVisit & ⋯ & subject.race & subject.subjectGuid & cohort.cohortGuid & sample.diseaseStatesRecordedAtVisit & pbmc\\_sample\\_id & subject.covidVaxDose1.daysSinceFirstVisit & subject.covidVaxDose2.daysSinceFirstVisit & Covid\\_exclusion & subjectGuid & CMV\\\\\n",
       "  & <int> & <int> & <chr> & <chr> & <chr> & <chr> & <chr> & <chr> & <chr> & <int> & ⋯ & <chr> & <chr> & <chr> & <lgl> & <chr> & <dbl> & <dbl> & <chr> & <chr> & <chr>\\\\\n",
       "\\hline\n",
       "\t1 &  0 &  1 & 2024-05-10T17:12:44.959Z & f499ff83-e513-4d24-a10f-151348269fff & False & KT00001 & Flu Year 1 Day 0 & N/A - Flu-Series Timepoint Only & 2019-10-01T00:00:00Z & 0 & ⋯ & Caucasian & BR1001 & BR1 & NA & PB00001-01 &  NA &  NA & no & BR1001 & Negative\\\\\n",
       "\t2 &  2 &  3 & 2024-05-10T17:12:44.959Z & 2db6fb3f-e3f4-454b-891b-9b068541b51d & False & KT00003 & Flu Year 1 Day 0 & N/A - Flu-Series Timepoint Only & 2019-10-01T00:00:00Z & 0 & ⋯ & Caucasian & BR1003 & BR1 & NA & PB00003-01 & 440 & 461 & no & BR1003 & Negative\\\\\n",
       "\t3 &  4 &  5 & 2024-05-10T17:12:44.959Z & eb5b3a3d-002e-40a6-aa19-aa0e6a7fff8f & False & KT00006 & Flu Year 1 Day 0 & N/A - Flu-Series Timepoint Only & 2019-10-01T00:00:00Z & 0 & ⋯ & Caucasian & BR1005 & BR1 & NA & PB00006-01 & 451 & 492 & no & BR1005 & Negative\\\\\n",
       "\t4 & 10 & 11 & 2024-05-10T17:12:44.959Z & fb3c3406-2797-4c31-b085-37d8138099a3 & False & KT00012 & Flu Year 1 Day 0 & N/A - Flu-Series Timepoint Only & 2019-10-01T00:00:00Z & 0 & ⋯ & Caucasian & BR1008 & BR1 & NA & PB00012-01 & 469 & 494 & no & BR1008 & Positive\\\\\n",
       "\t5 & 14 & 15 & 2024-05-10T17:12:44.959Z & 19e5fa0e-52a8-4bef-a19a-075ad37fd5e3 & False & KT00016 & Flu Year 1 Day 0 & N/A - Flu-Series Timepoint Only & 2019-11-01T00:00:00Z & 0 & ⋯ & Caucasian & BR2002 & BR2 & NA & PB00016-01 & 520 & 536 & no & BR2002 & Positive\\\\\n",
       "\t6 & 20 & 21 & 2024-05-10T17:12:44.959Z & dedcaa14-0aa3-403b-9e13-475e715f0d69 & False & KT00022 & Flu Year 1 Day 0 & N/A - Flu-Series Timepoint Only & 2019-11-01T00:00:00Z & 0 & ⋯ & Caucasian & BR1010 & BR1 & NA & PB00022-01 & 491 & 519 & no & BR1010 & Positive\\\\\n",
       "\\end{tabular}\n"
      ],
      "text/markdown": [
       "\n",
       "A data.frame: 6 × 32\n",
       "\n",
       "| <!--/--> | X &lt;int&gt; | Unnamed..0 &lt;int&gt; | lastUpdated &lt;chr&gt; | sample.id &lt;chr&gt; | sample.bridgingControl &lt;chr&gt; | sample.sampleKitGuid &lt;chr&gt; | sample.visitName &lt;chr&gt; | sample.visitDetails &lt;chr&gt; | sample.drawDate &lt;chr&gt; | sample.daysSinceFirstVisit &lt;int&gt; | ⋯ ⋯ | subject.race &lt;chr&gt; | subject.subjectGuid &lt;chr&gt; | cohort.cohortGuid &lt;chr&gt; | sample.diseaseStatesRecordedAtVisit &lt;lgl&gt; | pbmc_sample_id &lt;chr&gt; | subject.covidVaxDose1.daysSinceFirstVisit &lt;dbl&gt; | subject.covidVaxDose2.daysSinceFirstVisit &lt;dbl&gt; | Covid_exclusion &lt;chr&gt; | subjectGuid &lt;chr&gt; | CMV &lt;chr&gt; |\n",
       "|---|---|---|---|---|---|---|---|---|---|---|---|---|---|---|---|---|---|---|---|---|---|\n",
       "| 1 |  0 |  1 | 2024-05-10T17:12:44.959Z | f499ff83-e513-4d24-a10f-151348269fff | False | KT00001 | Flu Year 1 Day 0 | N/A - Flu-Series Timepoint Only | 2019-10-01T00:00:00Z | 0 | ⋯ | Caucasian | BR1001 | BR1 | NA | PB00001-01 |  NA |  NA | no | BR1001 | Negative |\n",
       "| 2 |  2 |  3 | 2024-05-10T17:12:44.959Z | 2db6fb3f-e3f4-454b-891b-9b068541b51d | False | KT00003 | Flu Year 1 Day 0 | N/A - Flu-Series Timepoint Only | 2019-10-01T00:00:00Z | 0 | ⋯ | Caucasian | BR1003 | BR1 | NA | PB00003-01 | 440 | 461 | no | BR1003 | Negative |\n",
       "| 3 |  4 |  5 | 2024-05-10T17:12:44.959Z | eb5b3a3d-002e-40a6-aa19-aa0e6a7fff8f | False | KT00006 | Flu Year 1 Day 0 | N/A - Flu-Series Timepoint Only | 2019-10-01T00:00:00Z | 0 | ⋯ | Caucasian | BR1005 | BR1 | NA | PB00006-01 | 451 | 492 | no | BR1005 | Negative |\n",
       "| 4 | 10 | 11 | 2024-05-10T17:12:44.959Z | fb3c3406-2797-4c31-b085-37d8138099a3 | False | KT00012 | Flu Year 1 Day 0 | N/A - Flu-Series Timepoint Only | 2019-10-01T00:00:00Z | 0 | ⋯ | Caucasian | BR1008 | BR1 | NA | PB00012-01 | 469 | 494 | no | BR1008 | Positive |\n",
       "| 5 | 14 | 15 | 2024-05-10T17:12:44.959Z | 19e5fa0e-52a8-4bef-a19a-075ad37fd5e3 | False | KT00016 | Flu Year 1 Day 0 | N/A - Flu-Series Timepoint Only | 2019-11-01T00:00:00Z | 0 | ⋯ | Caucasian | BR2002 | BR2 | NA | PB00016-01 | 520 | 536 | no | BR2002 | Positive |\n",
       "| 6 | 20 | 21 | 2024-05-10T17:12:44.959Z | dedcaa14-0aa3-403b-9e13-475e715f0d69 | False | KT00022 | Flu Year 1 Day 0 | N/A - Flu-Series Timepoint Only | 2019-11-01T00:00:00Z | 0 | ⋯ | Caucasian | BR1010 | BR1 | NA | PB00022-01 | 491 | 519 | no | BR1010 | Positive |\n",
       "\n"
      ],
      "text/plain": [
       "  X  Unnamed..0 lastUpdated              sample.id                           \n",
       "1  0  1         2024-05-10T17:12:44.959Z f499ff83-e513-4d24-a10f-151348269fff\n",
       "2  2  3         2024-05-10T17:12:44.959Z 2db6fb3f-e3f4-454b-891b-9b068541b51d\n",
       "3  4  5         2024-05-10T17:12:44.959Z eb5b3a3d-002e-40a6-aa19-aa0e6a7fff8f\n",
       "4 10 11         2024-05-10T17:12:44.959Z fb3c3406-2797-4c31-b085-37d8138099a3\n",
       "5 14 15         2024-05-10T17:12:44.959Z 19e5fa0e-52a8-4bef-a19a-075ad37fd5e3\n",
       "6 20 21         2024-05-10T17:12:44.959Z dedcaa14-0aa3-403b-9e13-475e715f0d69\n",
       "  sample.bridgingControl sample.sampleKitGuid sample.visitName\n",
       "1 False                  KT00001              Flu Year 1 Day 0\n",
       "2 False                  KT00003              Flu Year 1 Day 0\n",
       "3 False                  KT00006              Flu Year 1 Day 0\n",
       "4 False                  KT00012              Flu Year 1 Day 0\n",
       "5 False                  KT00016              Flu Year 1 Day 0\n",
       "6 False                  KT00022              Flu Year 1 Day 0\n",
       "  sample.visitDetails             sample.drawDate     \n",
       "1 N/A - Flu-Series Timepoint Only 2019-10-01T00:00:00Z\n",
       "2 N/A - Flu-Series Timepoint Only 2019-10-01T00:00:00Z\n",
       "3 N/A - Flu-Series Timepoint Only 2019-10-01T00:00:00Z\n",
       "4 N/A - Flu-Series Timepoint Only 2019-10-01T00:00:00Z\n",
       "5 N/A - Flu-Series Timepoint Only 2019-11-01T00:00:00Z\n",
       "6 N/A - Flu-Series Timepoint Only 2019-11-01T00:00:00Z\n",
       "  sample.daysSinceFirstVisit ⋯ subject.race subject.subjectGuid\n",
       "1 0                          ⋯ Caucasian    BR1001             \n",
       "2 0                          ⋯ Caucasian    BR1003             \n",
       "3 0                          ⋯ Caucasian    BR1005             \n",
       "4 0                          ⋯ Caucasian    BR1008             \n",
       "5 0                          ⋯ Caucasian    BR2002             \n",
       "6 0                          ⋯ Caucasian    BR1010             \n",
       "  cohort.cohortGuid sample.diseaseStatesRecordedAtVisit pbmc_sample_id\n",
       "1 BR1               NA                                  PB00001-01    \n",
       "2 BR1               NA                                  PB00003-01    \n",
       "3 BR1               NA                                  PB00006-01    \n",
       "4 BR1               NA                                  PB00012-01    \n",
       "5 BR2               NA                                  PB00016-01    \n",
       "6 BR1               NA                                  PB00022-01    \n",
       "  subject.covidVaxDose1.daysSinceFirstVisit\n",
       "1  NA                                      \n",
       "2 440                                      \n",
       "3 451                                      \n",
       "4 469                                      \n",
       "5 520                                      \n",
       "6 491                                      \n",
       "  subject.covidVaxDose2.daysSinceFirstVisit Covid_exclusion subjectGuid\n",
       "1  NA                                       no              BR1001     \n",
       "2 461                                       no              BR1003     \n",
       "3 492                                       no              BR1005     \n",
       "4 494                                       no              BR1008     \n",
       "5 536                                       no              BR2002     \n",
       "6 519                                       no              BR1010     \n",
       "  CMV     \n",
       "1 Negative\n",
       "2 Negative\n",
       "3 Negative\n",
       "4 Positive\n",
       "5 Positive\n",
       "6 Positive"
      ]
     },
     "metadata": {},
     "output_type": "display_data"
    }
   ],
   "source": [
    "meta_data_subset<-meta_data%>% filter(subject.biologicalSex=='Female', sample.visitName %in% c('Flu Year 1 Day 0')) \n",
    "head(meta_data_subset)"
   ]
  },
  {
   "cell_type": "code",
   "execution_count": 30,
   "id": "16909b37-bd61-4e14-88f7-1c82585ab35d",
   "metadata": {
    "tags": []
   },
   "outputs": [],
   "source": [
    "#meta_data_subset=meta_data %>% filter(sample.visitName==\"Flu Year 1 Day 0\")\n",
    "aggregated_count_file_list<-paste0(\"/home/jupyter/IH-A-Aging-Analysis-Notebooks_old/Mansi_Notebooks/scRNA/CertPro_analysis/scripts/scRNA/BRI/Aggregated_Count/Aggregated_Raw_Expression_of_Celltypes_by_Sample_AIFI_L3/\",meta_data_subset$pbmc_sample_id,\".csv\")\n",
    "\n",
    "df_list<-mclapply(aggregated_count_file_list,function(x){\n",
    "df<-read.csv(x,check.names = FALSE, row.names = 1)\n",
    "colnames(df)<-paste0(gsub(\"^.*/(.*)\\\\.csv$\", \"\\\\1\", x),\":\",colnames(df))\n",
    "return (df)    \n",
    "},mc.cores=60)"
   ]
  },
  {
   "cell_type": "code",
   "execution_count": 31,
   "id": "f09526eb-75de-4323-970e-4d1499a4d27d",
   "metadata": {
    "tags": []
   },
   "outputs": [],
   "source": [
    "celltypes <- unique(unlist(lapply(df_list, names)))\n",
    "celltypes<-unique(sub(\".*:\", \"\", celltypes))"
   ]
  },
  {
   "cell_type": "code",
   "execution_count": 32,
   "id": "36268aa6-5390-45bc-83a4-aa2800fcb07e",
   "metadata": {
    "tags": []
   },
   "outputs": [
    {
     "data": {
      "text/html": [
       "71"
      ],
      "text/latex": [
       "71"
      ],
      "text/markdown": [
       "71"
      ],
      "text/plain": [
       "[1] 71"
      ]
     },
     "metadata": {},
     "output_type": "display_data"
    }
   ],
   "source": [
    "length(celltypes)"
   ]
  },
  {
   "cell_type": "code",
   "execution_count": 33,
   "id": "e02ba1c2-2944-4cdf-8c6d-b45ccfa7bb14",
   "metadata": {
    "tags": []
   },
   "outputs": [
    {
     "data": {
      "text/html": [
       "<style>\n",
       ".list-inline {list-style: none; margin:0; padding: 0}\n",
       ".list-inline>li {display: inline-block}\n",
       ".list-inline>li:not(:last-child)::after {content: \"\\00b7\"; padding: 0 .5ex}\n",
       "</style>\n",
       "<ol class=list-inline><li>'ASDC'</li><li>'Activated memory B cell'</li><li>'Adaptive NK cell'</li><li>'BaEoMaP cell'</li><li>'C1Q+ CD16 monocyte'</li><li>'CD4 MAIT'</li><li>'CD8 MAIT'</li><li>'CD8aa'</li><li>'CD14+ cDC2'</li><li>'CD27+ effector B cell'</li><li>'CD27- effector B cell'</li><li>'CD56bright NK cell'</li><li>'CD95 memory B cell'</li><li>'CLP cell'</li><li>'CM CD4 T cell'</li><li>'CM CD8 T cell'</li><li>'CMP cell'</li><li>'Core CD14 monocyte'</li><li>'Core CD16 monocyte'</li><li>'Core memory B cell'</li><li>'Core naive B cell'</li><li>'Core naive CD4 T cell'</li><li>'Core naive CD8 T cell'</li><li>'DN T cell'</li><li>'Early memory B cell'</li><li>'Erythrocyte'</li><li>'GZMB+ Vd2 gdT'</li><li>'GZMB- CD27+ EM CD4 T cell'</li><li>'GZMB- CD27- EM CD4 T cell'</li><li>'GZMK+ CD27+ EM CD8 T cell'</li><li>'GZMK+ CD56dim NK cell'</li><li>'GZMK+ Vd2 gdT'</li><li>'GZMK+ memory CD4 Treg'</li><li>'GZMK- CD27+ EM CD8 T cell'</li><li>'GZMK- CD56dim NK cell'</li><li>'HLA-DRhi cDC2'</li><li>'IL1B+ CD14 monocyte'</li><li>'ILC'</li><li>'ISG+ CD14 monocyte'</li><li>'ISG+ CD16 monocyte'</li><li>'ISG+ CD56dim NK cell'</li><li>'ISG+ MAIT'</li><li>'ISG+ cDC2'</li><li>'ISG+ memory CD4 T cell'</li><li>'ISG+ memory CD8 T cell'</li><li>'ISG+ naive B cell'</li><li>'ISG+ naive CD4 T cell'</li><li>'ISG+ naive CD8 T cell'</li><li>'Intermediate monocyte'</li><li>'KLRB1+ memory CD4 Treg'</li><li>'KLRB1+ memory CD8 Treg'</li><li>'KLRF1+ GZMB+ CD27- EM CD8 T cell'</li><li>'KLRF1+ effector Vd1 gdT'</li><li>'KLRF1- GZMB+ CD27- EM CD8 T cell'</li><li>'KLRF1- GZMB+ CD27- memory CD4 T cell'</li><li>'KLRF1- effector Vd1 gdT'</li><li>'Memory CD4 Treg'</li><li>'Memory CD8 Treg'</li><li>'Naive CD4 Treg'</li><li>'Naive Vd1 gdT'</li><li>'Plasma cell'</li><li>'Platelet'</li><li>'Proliferating NK cell'</li><li>'Proliferating T cell'</li><li>'SOX4+ Vd1 gdT'</li><li>'SOX4+ naive CD4 T cell'</li><li>'SOX4+ naive CD8 T cell'</li><li>'Transitional B cell'</li><li>'Type 2 polarized memory B cell'</li><li>'cDC1'</li><li>'pDC'</li></ol>\n"
      ],
      "text/latex": [
       "\\begin{enumerate*}\n",
       "\\item 'ASDC'\n",
       "\\item 'Activated memory B cell'\n",
       "\\item 'Adaptive NK cell'\n",
       "\\item 'BaEoMaP cell'\n",
       "\\item 'C1Q+ CD16 monocyte'\n",
       "\\item 'CD4 MAIT'\n",
       "\\item 'CD8 MAIT'\n",
       "\\item 'CD8aa'\n",
       "\\item 'CD14+ cDC2'\n",
       "\\item 'CD27+ effector B cell'\n",
       "\\item 'CD27- effector B cell'\n",
       "\\item 'CD56bright NK cell'\n",
       "\\item 'CD95 memory B cell'\n",
       "\\item 'CLP cell'\n",
       "\\item 'CM CD4 T cell'\n",
       "\\item 'CM CD8 T cell'\n",
       "\\item 'CMP cell'\n",
       "\\item 'Core CD14 monocyte'\n",
       "\\item 'Core CD16 monocyte'\n",
       "\\item 'Core memory B cell'\n",
       "\\item 'Core naive B cell'\n",
       "\\item 'Core naive CD4 T cell'\n",
       "\\item 'Core naive CD8 T cell'\n",
       "\\item 'DN T cell'\n",
       "\\item 'Early memory B cell'\n",
       "\\item 'Erythrocyte'\n",
       "\\item 'GZMB+ Vd2 gdT'\n",
       "\\item 'GZMB- CD27+ EM CD4 T cell'\n",
       "\\item 'GZMB- CD27- EM CD4 T cell'\n",
       "\\item 'GZMK+ CD27+ EM CD8 T cell'\n",
       "\\item 'GZMK+ CD56dim NK cell'\n",
       "\\item 'GZMK+ Vd2 gdT'\n",
       "\\item 'GZMK+ memory CD4 Treg'\n",
       "\\item 'GZMK- CD27+ EM CD8 T cell'\n",
       "\\item 'GZMK- CD56dim NK cell'\n",
       "\\item 'HLA-DRhi cDC2'\n",
       "\\item 'IL1B+ CD14 monocyte'\n",
       "\\item 'ILC'\n",
       "\\item 'ISG+ CD14 monocyte'\n",
       "\\item 'ISG+ CD16 monocyte'\n",
       "\\item 'ISG+ CD56dim NK cell'\n",
       "\\item 'ISG+ MAIT'\n",
       "\\item 'ISG+ cDC2'\n",
       "\\item 'ISG+ memory CD4 T cell'\n",
       "\\item 'ISG+ memory CD8 T cell'\n",
       "\\item 'ISG+ naive B cell'\n",
       "\\item 'ISG+ naive CD4 T cell'\n",
       "\\item 'ISG+ naive CD8 T cell'\n",
       "\\item 'Intermediate monocyte'\n",
       "\\item 'KLRB1+ memory CD4 Treg'\n",
       "\\item 'KLRB1+ memory CD8 Treg'\n",
       "\\item 'KLRF1+ GZMB+ CD27- EM CD8 T cell'\n",
       "\\item 'KLRF1+ effector Vd1 gdT'\n",
       "\\item 'KLRF1- GZMB+ CD27- EM CD8 T cell'\n",
       "\\item 'KLRF1- GZMB+ CD27- memory CD4 T cell'\n",
       "\\item 'KLRF1- effector Vd1 gdT'\n",
       "\\item 'Memory CD4 Treg'\n",
       "\\item 'Memory CD8 Treg'\n",
       "\\item 'Naive CD4 Treg'\n",
       "\\item 'Naive Vd1 gdT'\n",
       "\\item 'Plasma cell'\n",
       "\\item 'Platelet'\n",
       "\\item 'Proliferating NK cell'\n",
       "\\item 'Proliferating T cell'\n",
       "\\item 'SOX4+ Vd1 gdT'\n",
       "\\item 'SOX4+ naive CD4 T cell'\n",
       "\\item 'SOX4+ naive CD8 T cell'\n",
       "\\item 'Transitional B cell'\n",
       "\\item 'Type 2 polarized memory B cell'\n",
       "\\item 'cDC1'\n",
       "\\item 'pDC'\n",
       "\\end{enumerate*}\n"
      ],
      "text/markdown": [
       "1. 'ASDC'\n",
       "2. 'Activated memory B cell'\n",
       "3. 'Adaptive NK cell'\n",
       "4. 'BaEoMaP cell'\n",
       "5. 'C1Q+ CD16 monocyte'\n",
       "6. 'CD4 MAIT'\n",
       "7. 'CD8 MAIT'\n",
       "8. 'CD8aa'\n",
       "9. 'CD14+ cDC2'\n",
       "10. 'CD27+ effector B cell'\n",
       "11. 'CD27- effector B cell'\n",
       "12. 'CD56bright NK cell'\n",
       "13. 'CD95 memory B cell'\n",
       "14. 'CLP cell'\n",
       "15. 'CM CD4 T cell'\n",
       "16. 'CM CD8 T cell'\n",
       "17. 'CMP cell'\n",
       "18. 'Core CD14 monocyte'\n",
       "19. 'Core CD16 monocyte'\n",
       "20. 'Core memory B cell'\n",
       "21. 'Core naive B cell'\n",
       "22. 'Core naive CD4 T cell'\n",
       "23. 'Core naive CD8 T cell'\n",
       "24. 'DN T cell'\n",
       "25. 'Early memory B cell'\n",
       "26. 'Erythrocyte'\n",
       "27. 'GZMB+ Vd2 gdT'\n",
       "28. 'GZMB- CD27+ EM CD4 T cell'\n",
       "29. 'GZMB- CD27- EM CD4 T cell'\n",
       "30. 'GZMK+ CD27+ EM CD8 T cell'\n",
       "31. 'GZMK+ CD56dim NK cell'\n",
       "32. 'GZMK+ Vd2 gdT'\n",
       "33. 'GZMK+ memory CD4 Treg'\n",
       "34. 'GZMK- CD27+ EM CD8 T cell'\n",
       "35. 'GZMK- CD56dim NK cell'\n",
       "36. 'HLA-DRhi cDC2'\n",
       "37. 'IL1B+ CD14 monocyte'\n",
       "38. 'ILC'\n",
       "39. 'ISG+ CD14 monocyte'\n",
       "40. 'ISG+ CD16 monocyte'\n",
       "41. 'ISG+ CD56dim NK cell'\n",
       "42. 'ISG+ MAIT'\n",
       "43. 'ISG+ cDC2'\n",
       "44. 'ISG+ memory CD4 T cell'\n",
       "45. 'ISG+ memory CD8 T cell'\n",
       "46. 'ISG+ naive B cell'\n",
       "47. 'ISG+ naive CD4 T cell'\n",
       "48. 'ISG+ naive CD8 T cell'\n",
       "49. 'Intermediate monocyte'\n",
       "50. 'KLRB1+ memory CD4 Treg'\n",
       "51. 'KLRB1+ memory CD8 Treg'\n",
       "52. 'KLRF1+ GZMB+ CD27- EM CD8 T cell'\n",
       "53. 'KLRF1+ effector Vd1 gdT'\n",
       "54. 'KLRF1- GZMB+ CD27- EM CD8 T cell'\n",
       "55. 'KLRF1- GZMB+ CD27- memory CD4 T cell'\n",
       "56. 'KLRF1- effector Vd1 gdT'\n",
       "57. 'Memory CD4 Treg'\n",
       "58. 'Memory CD8 Treg'\n",
       "59. 'Naive CD4 Treg'\n",
       "60. 'Naive Vd1 gdT'\n",
       "61. 'Plasma cell'\n",
       "62. 'Platelet'\n",
       "63. 'Proliferating NK cell'\n",
       "64. 'Proliferating T cell'\n",
       "65. 'SOX4+ Vd1 gdT'\n",
       "66. 'SOX4+ naive CD4 T cell'\n",
       "67. 'SOX4+ naive CD8 T cell'\n",
       "68. 'Transitional B cell'\n",
       "69. 'Type 2 polarized memory B cell'\n",
       "70. 'cDC1'\n",
       "71. 'pDC'\n",
       "\n",
       "\n"
      ],
      "text/plain": [
       " [1] \"ASDC\"                                \n",
       " [2] \"Activated memory B cell\"             \n",
       " [3] \"Adaptive NK cell\"                    \n",
       " [4] \"BaEoMaP cell\"                        \n",
       " [5] \"C1Q+ CD16 monocyte\"                  \n",
       " [6] \"CD4 MAIT\"                            \n",
       " [7] \"CD8 MAIT\"                            \n",
       " [8] \"CD8aa\"                               \n",
       " [9] \"CD14+ cDC2\"                          \n",
       "[10] \"CD27+ effector B cell\"               \n",
       "[11] \"CD27- effector B cell\"               \n",
       "[12] \"CD56bright NK cell\"                  \n",
       "[13] \"CD95 memory B cell\"                  \n",
       "[14] \"CLP cell\"                            \n",
       "[15] \"CM CD4 T cell\"                       \n",
       "[16] \"CM CD8 T cell\"                       \n",
       "[17] \"CMP cell\"                            \n",
       "[18] \"Core CD14 monocyte\"                  \n",
       "[19] \"Core CD16 monocyte\"                  \n",
       "[20] \"Core memory B cell\"                  \n",
       "[21] \"Core naive B cell\"                   \n",
       "[22] \"Core naive CD4 T cell\"               \n",
       "[23] \"Core naive CD8 T cell\"               \n",
       "[24] \"DN T cell\"                           \n",
       "[25] \"Early memory B cell\"                 \n",
       "[26] \"Erythrocyte\"                         \n",
       "[27] \"GZMB+ Vd2 gdT\"                       \n",
       "[28] \"GZMB- CD27+ EM CD4 T cell\"           \n",
       "[29] \"GZMB- CD27- EM CD4 T cell\"           \n",
       "[30] \"GZMK+ CD27+ EM CD8 T cell\"           \n",
       "[31] \"GZMK+ CD56dim NK cell\"               \n",
       "[32] \"GZMK+ Vd2 gdT\"                       \n",
       "[33] \"GZMK+ memory CD4 Treg\"               \n",
       "[34] \"GZMK- CD27+ EM CD8 T cell\"           \n",
       "[35] \"GZMK- CD56dim NK cell\"               \n",
       "[36] \"HLA-DRhi cDC2\"                       \n",
       "[37] \"IL1B+ CD14 monocyte\"                 \n",
       "[38] \"ILC\"                                 \n",
       "[39] \"ISG+ CD14 monocyte\"                  \n",
       "[40] \"ISG+ CD16 monocyte\"                  \n",
       "[41] \"ISG+ CD56dim NK cell\"                \n",
       "[42] \"ISG+ MAIT\"                           \n",
       "[43] \"ISG+ cDC2\"                           \n",
       "[44] \"ISG+ memory CD4 T cell\"              \n",
       "[45] \"ISG+ memory CD8 T cell\"              \n",
       "[46] \"ISG+ naive B cell\"                   \n",
       "[47] \"ISG+ naive CD4 T cell\"               \n",
       "[48] \"ISG+ naive CD8 T cell\"               \n",
       "[49] \"Intermediate monocyte\"               \n",
       "[50] \"KLRB1+ memory CD4 Treg\"              \n",
       "[51] \"KLRB1+ memory CD8 Treg\"              \n",
       "[52] \"KLRF1+ GZMB+ CD27- EM CD8 T cell\"    \n",
       "[53] \"KLRF1+ effector Vd1 gdT\"             \n",
       "[54] \"KLRF1- GZMB+ CD27- EM CD8 T cell\"    \n",
       "[55] \"KLRF1- GZMB+ CD27- memory CD4 T cell\"\n",
       "[56] \"KLRF1- effector Vd1 gdT\"             \n",
       "[57] \"Memory CD4 Treg\"                     \n",
       "[58] \"Memory CD8 Treg\"                     \n",
       "[59] \"Naive CD4 Treg\"                      \n",
       "[60] \"Naive Vd1 gdT\"                       \n",
       "[61] \"Plasma cell\"                         \n",
       "[62] \"Platelet\"                            \n",
       "[63] \"Proliferating NK cell\"               \n",
       "[64] \"Proliferating T cell\"                \n",
       "[65] \"SOX4+ Vd1 gdT\"                       \n",
       "[66] \"SOX4+ naive CD4 T cell\"              \n",
       "[67] \"SOX4+ naive CD8 T cell\"              \n",
       "[68] \"Transitional B cell\"                 \n",
       "[69] \"Type 2 polarized memory B cell\"      \n",
       "[70] \"cDC1\"                                \n",
       "[71] \"pDC\"                                 "
      ]
     },
     "metadata": {},
     "output_type": "display_data"
    }
   ],
   "source": [
    "celltypes"
   ]
  },
  {
   "cell_type": "code",
   "execution_count": 36,
   "id": "bff03003-6937-499f-91d1-5128842a9655",
   "metadata": {
    "scrolled": true,
    "tags": []
   },
   "outputs": [],
   "source": [
    "#for (celltype in celltypes) {\n",
    "res_all<-mclapply(celltypes, function(celltype){\n",
    "    print(celltype)\n",
    "    celltype_list <- lapply(df_list, function(df) { df <- df[, grep(celltype, names(df), fixed = TRUE),drop=FALSE] })\n",
    "    exp_matrix<-do.call(cbind,celltype_list)\n",
    "    colnames(exp_matrix)<-sub(\":.*\", \"\", colnames(exp_matrix))\n",
    "    rownames(meta_data_subset)<-meta_data_subset$pbmc_sample_id\n",
    "    filtered_gene_set_filtered<-filtered_gene_set%>% filter(AIFI_L3==celltype)\n",
    "    \n",
    "    dds <- DESeqDataSetFromMatrix(exp_matrix[filtered_gene_set_filtered$gene,], colData = meta_data_subset[colnames(exp_matrix),], \n",
    "                              design = ~ cohort.cohortGuid +\n",
    "                                          CMV)\n",
    "    dds <- DESeq(dds,parallel=FALSE)\n",
    "\n",
    "    res_d0d7 <- data.frame(results(dds,contrast=c(\"cohort.cohortGuid\", \"BR2\", \"BR1\")))\n",
    "    res_d0d7$contrast<-\"cohort.cohortGuid\"\n",
    "    res_d0d7=res_d0d7 %>% arrange(padj) %>% mutate(Direction=case_when(log2FoldChange<0~'BR1',log2FoldChange>0~'BR2'))\n",
    "    res_d0d7$gene<-rownames(res_d0d7)\n",
    "    rownames(res_d0d7)<-NULL\n",
    "    \n",
    "    res_d0d7$celltype=celltype\n",
    "    return(res_d0d7)\n",
    "},mc.cores=60)"
   ]
  },
  {
   "cell_type": "code",
   "execution_count": 37,
   "id": "1673615f-19b9-4f35-8c29-a12dc051d9d4",
   "metadata": {
    "scrolled": true,
    "tags": []
   },
   "outputs": [],
   "source": [
    "res_all<-do.call(rbind,res_all)"
   ]
  },
  {
   "cell_type": "code",
   "execution_count": 38,
   "id": "14112041-bec4-4d3a-bb48-4a547bffaf13",
   "metadata": {
    "tags": []
   },
   "outputs": [],
   "source": [
    "write.csv(res_all,\"/home/jupyter/IH-A-Aging-Analysis-Notebooks_old/Mansi_Notebooks/scRNA/CertPro_analysis/scripts/DESEQ2/Female_Deseq2_Result_Y1D0.csv\")"
   ]
  },
  {
   "cell_type": "code",
   "execution_count": null,
   "id": "1b05bf24-fe46-490c-abed-58d751c5c4e9",
   "metadata": {},
   "outputs": [],
   "source": []
  },
  {
   "cell_type": "markdown",
   "id": "8d626786-1905-4c5f-ac41-240ef1157238",
   "metadata": {
    "tags": []
   },
   "source": [
    "# Perform Deseq2 - Male (Q method)"
   ]
  },
  {
   "cell_type": "code",
   "execution_count": 41,
   "id": "26c44424-affc-4e71-ba29-7bb4c8ee10f3",
   "metadata": {
    "tags": []
   },
   "outputs": [],
   "source": [
    "filtered_gene_set<-read.csv(\"/home/jupyter/IH-A-Aging-Analysis-Notebooks_old/Mansi_Notebooks/scRNA/CertPro_analysis/scripts/Object_generation/filtered_gene_list_for_fluyr1D0_certpro.csv\")\n"
   ]
  },
  {
   "cell_type": "code",
   "execution_count": 42,
   "id": "e2f4411f-e9cf-4fd4-8b63-fcbb03e88e97",
   "metadata": {
    "tags": []
   },
   "outputs": [
    {
     "data": {
      "text/html": [
       "<table class=\"dataframe\">\n",
       "<caption>A data.frame: 6 × 32</caption>\n",
       "<thead>\n",
       "\t<tr><th></th><th scope=col>X</th><th scope=col>Unnamed..0</th><th scope=col>lastUpdated</th><th scope=col>sample.id</th><th scope=col>sample.bridgingControl</th><th scope=col>sample.sampleKitGuid</th><th scope=col>sample.visitName</th><th scope=col>sample.visitDetails</th><th scope=col>sample.drawDate</th><th scope=col>sample.daysSinceFirstVisit</th><th scope=col>⋯</th><th scope=col>subject.race</th><th scope=col>subject.subjectGuid</th><th scope=col>cohort.cohortGuid</th><th scope=col>sample.diseaseStatesRecordedAtVisit</th><th scope=col>pbmc_sample_id</th><th scope=col>subject.covidVaxDose1.daysSinceFirstVisit</th><th scope=col>subject.covidVaxDose2.daysSinceFirstVisit</th><th scope=col>Covid_exclusion</th><th scope=col>subjectGuid</th><th scope=col>CMV</th></tr>\n",
       "\t<tr><th></th><th scope=col>&lt;int&gt;</th><th scope=col>&lt;int&gt;</th><th scope=col>&lt;chr&gt;</th><th scope=col>&lt;chr&gt;</th><th scope=col>&lt;chr&gt;</th><th scope=col>&lt;chr&gt;</th><th scope=col>&lt;chr&gt;</th><th scope=col>&lt;chr&gt;</th><th scope=col>&lt;chr&gt;</th><th scope=col>&lt;int&gt;</th><th scope=col>⋯</th><th scope=col>&lt;chr&gt;</th><th scope=col>&lt;chr&gt;</th><th scope=col>&lt;chr&gt;</th><th scope=col>&lt;lgl&gt;</th><th scope=col>&lt;chr&gt;</th><th scope=col>&lt;dbl&gt;</th><th scope=col>&lt;dbl&gt;</th><th scope=col>&lt;chr&gt;</th><th scope=col>&lt;chr&gt;</th><th scope=col>&lt;chr&gt;</th></tr>\n",
       "</thead>\n",
       "<tbody>\n",
       "\t<tr><th scope=row>1</th><td> 1</td><td> 2</td><td>2024-05-10T17:12:44.959Z</td><td>750e90a9-a296-4f0f-969f-60225c2bca17</td><td>False</td><td>KT00002</td><td>Flu Year 1 Day 0</td><td>N/A - Flu-Series Timepoint Only</td><td>2019-10-01T00:00:00Z</td><td>0</td><td>⋯</td><td>Caucasian       </td><td>BR1002</td><td>BR1</td><td>NA</td><td>PB00002-01</td><td>440</td><td>461</td><td>no</td><td>BR1002</td><td>Negative</td></tr>\n",
       "\t<tr><th scope=row>2</th><td> 3</td><td> 4</td><td>2024-05-10T17:12:44.959Z</td><td>f04693c5-563c-4b5b-ae58-877d0d9ae2fe</td><td>False</td><td>KT00004</td><td>Flu Year 1 Day 0</td><td>N/A - Flu-Series Timepoint Only</td><td>2019-10-01T00:00:00Z</td><td>0</td><td>⋯</td><td>Caucasian       </td><td>BR1004</td><td>BR1</td><td>NA</td><td>PB00004-01</td><td>543</td><td>563</td><td>no</td><td>BR1004</td><td>Negative</td></tr>\n",
       "\t<tr><th scope=row>3</th><td> 8</td><td> 9</td><td>2024-05-10T17:12:44.959Z</td><td>f32ac061-0ede-4040-8d8c-35229ea5229c</td><td>False</td><td>KT00010</td><td>Flu Year 1 Day 0</td><td>N/A - Flu-Series Timepoint Only</td><td>2019-10-01T00:00:00Z</td><td>0</td><td>⋯</td><td>Caucasian       </td><td>BR1006</td><td>BR1</td><td>NA</td><td>PB00010-02</td><td>510</td><td>538</td><td>no</td><td>BR1006</td><td>Negative</td></tr>\n",
       "\t<tr><th scope=row>4</th><td>12</td><td>13</td><td>2024-05-10T17:12:44.959Z</td><td>77c1dad3-605d-4f94-b163-8be9c62d3bc5</td><td>False</td><td>KT00014</td><td>Flu Year 1 Day 0</td><td>N/A - Flu-Series Timepoint Only</td><td>2019-10-01T00:00:00Z</td><td>0</td><td>⋯</td><td>Other           </td><td>BR1007</td><td>BR1</td><td>NA</td><td>PB00014-01</td><td>468</td><td>493</td><td>no</td><td>BR1007</td><td>Positive</td></tr>\n",
       "\t<tr><th scope=row>5</th><td>13</td><td>14</td><td>2024-05-10T17:12:44.959Z</td><td>c9be600f-50b8-48cf-9d8a-b4d84b0eba6f</td><td>False</td><td>KT00015</td><td>Flu Year 1 Day 0</td><td>N/A - Flu-Series Timepoint Only</td><td>2019-11-01T00:00:00Z</td><td>0</td><td>⋯</td><td>Caucasian       </td><td>BR2003</td><td>BR2</td><td>NA</td><td>PB00015-01</td><td>517</td><td>537</td><td>no</td><td>BR2003</td><td>Negative</td></tr>\n",
       "\t<tr><th scope=row>6</th><td>23</td><td>24</td><td>2024-05-10T17:12:44.959Z</td><td>fc01c04c-7213-471f-8510-1785f9dee039</td><td>False</td><td>KT00025</td><td>Flu Year 1 Day 0</td><td>N/A - Flu-Series Timepoint Only</td><td>2019-11-01T00:00:00Z</td><td>0</td><td>⋯</td><td>African American</td><td>BR1011</td><td>BR1</td><td>NA</td><td>PB00025-04</td><td>431</td><td>452</td><td>no</td><td>BR1011</td><td>Negative</td></tr>\n",
       "</tbody>\n",
       "</table>\n"
      ],
      "text/latex": [
       "A data.frame: 6 × 32\n",
       "\\begin{tabular}{r|lllllllllllllllllllll}\n",
       "  & X & Unnamed..0 & lastUpdated & sample.id & sample.bridgingControl & sample.sampleKitGuid & sample.visitName & sample.visitDetails & sample.drawDate & sample.daysSinceFirstVisit & ⋯ & subject.race & subject.subjectGuid & cohort.cohortGuid & sample.diseaseStatesRecordedAtVisit & pbmc\\_sample\\_id & subject.covidVaxDose1.daysSinceFirstVisit & subject.covidVaxDose2.daysSinceFirstVisit & Covid\\_exclusion & subjectGuid & CMV\\\\\n",
       "  & <int> & <int> & <chr> & <chr> & <chr> & <chr> & <chr> & <chr> & <chr> & <int> & ⋯ & <chr> & <chr> & <chr> & <lgl> & <chr> & <dbl> & <dbl> & <chr> & <chr> & <chr>\\\\\n",
       "\\hline\n",
       "\t1 &  1 &  2 & 2024-05-10T17:12:44.959Z & 750e90a9-a296-4f0f-969f-60225c2bca17 & False & KT00002 & Flu Year 1 Day 0 & N/A - Flu-Series Timepoint Only & 2019-10-01T00:00:00Z & 0 & ⋯ & Caucasian        & BR1002 & BR1 & NA & PB00002-01 & 440 & 461 & no & BR1002 & Negative\\\\\n",
       "\t2 &  3 &  4 & 2024-05-10T17:12:44.959Z & f04693c5-563c-4b5b-ae58-877d0d9ae2fe & False & KT00004 & Flu Year 1 Day 0 & N/A - Flu-Series Timepoint Only & 2019-10-01T00:00:00Z & 0 & ⋯ & Caucasian        & BR1004 & BR1 & NA & PB00004-01 & 543 & 563 & no & BR1004 & Negative\\\\\n",
       "\t3 &  8 &  9 & 2024-05-10T17:12:44.959Z & f32ac061-0ede-4040-8d8c-35229ea5229c & False & KT00010 & Flu Year 1 Day 0 & N/A - Flu-Series Timepoint Only & 2019-10-01T00:00:00Z & 0 & ⋯ & Caucasian        & BR1006 & BR1 & NA & PB00010-02 & 510 & 538 & no & BR1006 & Negative\\\\\n",
       "\t4 & 12 & 13 & 2024-05-10T17:12:44.959Z & 77c1dad3-605d-4f94-b163-8be9c62d3bc5 & False & KT00014 & Flu Year 1 Day 0 & N/A - Flu-Series Timepoint Only & 2019-10-01T00:00:00Z & 0 & ⋯ & Other            & BR1007 & BR1 & NA & PB00014-01 & 468 & 493 & no & BR1007 & Positive\\\\\n",
       "\t5 & 13 & 14 & 2024-05-10T17:12:44.959Z & c9be600f-50b8-48cf-9d8a-b4d84b0eba6f & False & KT00015 & Flu Year 1 Day 0 & N/A - Flu-Series Timepoint Only & 2019-11-01T00:00:00Z & 0 & ⋯ & Caucasian        & BR2003 & BR2 & NA & PB00015-01 & 517 & 537 & no & BR2003 & Negative\\\\\n",
       "\t6 & 23 & 24 & 2024-05-10T17:12:44.959Z & fc01c04c-7213-471f-8510-1785f9dee039 & False & KT00025 & Flu Year 1 Day 0 & N/A - Flu-Series Timepoint Only & 2019-11-01T00:00:00Z & 0 & ⋯ & African American & BR1011 & BR1 & NA & PB00025-04 & 431 & 452 & no & BR1011 & Negative\\\\\n",
       "\\end{tabular}\n"
      ],
      "text/markdown": [
       "\n",
       "A data.frame: 6 × 32\n",
       "\n",
       "| <!--/--> | X &lt;int&gt; | Unnamed..0 &lt;int&gt; | lastUpdated &lt;chr&gt; | sample.id &lt;chr&gt; | sample.bridgingControl &lt;chr&gt; | sample.sampleKitGuid &lt;chr&gt; | sample.visitName &lt;chr&gt; | sample.visitDetails &lt;chr&gt; | sample.drawDate &lt;chr&gt; | sample.daysSinceFirstVisit &lt;int&gt; | ⋯ ⋯ | subject.race &lt;chr&gt; | subject.subjectGuid &lt;chr&gt; | cohort.cohortGuid &lt;chr&gt; | sample.diseaseStatesRecordedAtVisit &lt;lgl&gt; | pbmc_sample_id &lt;chr&gt; | subject.covidVaxDose1.daysSinceFirstVisit &lt;dbl&gt; | subject.covidVaxDose2.daysSinceFirstVisit &lt;dbl&gt; | Covid_exclusion &lt;chr&gt; | subjectGuid &lt;chr&gt; | CMV &lt;chr&gt; |\n",
       "|---|---|---|---|---|---|---|---|---|---|---|---|---|---|---|---|---|---|---|---|---|---|\n",
       "| 1 |  1 |  2 | 2024-05-10T17:12:44.959Z | 750e90a9-a296-4f0f-969f-60225c2bca17 | False | KT00002 | Flu Year 1 Day 0 | N/A - Flu-Series Timepoint Only | 2019-10-01T00:00:00Z | 0 | ⋯ | Caucasian        | BR1002 | BR1 | NA | PB00002-01 | 440 | 461 | no | BR1002 | Negative |\n",
       "| 2 |  3 |  4 | 2024-05-10T17:12:44.959Z | f04693c5-563c-4b5b-ae58-877d0d9ae2fe | False | KT00004 | Flu Year 1 Day 0 | N/A - Flu-Series Timepoint Only | 2019-10-01T00:00:00Z | 0 | ⋯ | Caucasian        | BR1004 | BR1 | NA | PB00004-01 | 543 | 563 | no | BR1004 | Negative |\n",
       "| 3 |  8 |  9 | 2024-05-10T17:12:44.959Z | f32ac061-0ede-4040-8d8c-35229ea5229c | False | KT00010 | Flu Year 1 Day 0 | N/A - Flu-Series Timepoint Only | 2019-10-01T00:00:00Z | 0 | ⋯ | Caucasian        | BR1006 | BR1 | NA | PB00010-02 | 510 | 538 | no | BR1006 | Negative |\n",
       "| 4 | 12 | 13 | 2024-05-10T17:12:44.959Z | 77c1dad3-605d-4f94-b163-8be9c62d3bc5 | False | KT00014 | Flu Year 1 Day 0 | N/A - Flu-Series Timepoint Only | 2019-10-01T00:00:00Z | 0 | ⋯ | Other            | BR1007 | BR1 | NA | PB00014-01 | 468 | 493 | no | BR1007 | Positive |\n",
       "| 5 | 13 | 14 | 2024-05-10T17:12:44.959Z | c9be600f-50b8-48cf-9d8a-b4d84b0eba6f | False | KT00015 | Flu Year 1 Day 0 | N/A - Flu-Series Timepoint Only | 2019-11-01T00:00:00Z | 0 | ⋯ | Caucasian        | BR2003 | BR2 | NA | PB00015-01 | 517 | 537 | no | BR2003 | Negative |\n",
       "| 6 | 23 | 24 | 2024-05-10T17:12:44.959Z | fc01c04c-7213-471f-8510-1785f9dee039 | False | KT00025 | Flu Year 1 Day 0 | N/A - Flu-Series Timepoint Only | 2019-11-01T00:00:00Z | 0 | ⋯ | African American | BR1011 | BR1 | NA | PB00025-04 | 431 | 452 | no | BR1011 | Negative |\n",
       "\n"
      ],
      "text/plain": [
       "  X  Unnamed..0 lastUpdated              sample.id                           \n",
       "1  1  2         2024-05-10T17:12:44.959Z 750e90a9-a296-4f0f-969f-60225c2bca17\n",
       "2  3  4         2024-05-10T17:12:44.959Z f04693c5-563c-4b5b-ae58-877d0d9ae2fe\n",
       "3  8  9         2024-05-10T17:12:44.959Z f32ac061-0ede-4040-8d8c-35229ea5229c\n",
       "4 12 13         2024-05-10T17:12:44.959Z 77c1dad3-605d-4f94-b163-8be9c62d3bc5\n",
       "5 13 14         2024-05-10T17:12:44.959Z c9be600f-50b8-48cf-9d8a-b4d84b0eba6f\n",
       "6 23 24         2024-05-10T17:12:44.959Z fc01c04c-7213-471f-8510-1785f9dee039\n",
       "  sample.bridgingControl sample.sampleKitGuid sample.visitName\n",
       "1 False                  KT00002              Flu Year 1 Day 0\n",
       "2 False                  KT00004              Flu Year 1 Day 0\n",
       "3 False                  KT00010              Flu Year 1 Day 0\n",
       "4 False                  KT00014              Flu Year 1 Day 0\n",
       "5 False                  KT00015              Flu Year 1 Day 0\n",
       "6 False                  KT00025              Flu Year 1 Day 0\n",
       "  sample.visitDetails             sample.drawDate     \n",
       "1 N/A - Flu-Series Timepoint Only 2019-10-01T00:00:00Z\n",
       "2 N/A - Flu-Series Timepoint Only 2019-10-01T00:00:00Z\n",
       "3 N/A - Flu-Series Timepoint Only 2019-10-01T00:00:00Z\n",
       "4 N/A - Flu-Series Timepoint Only 2019-10-01T00:00:00Z\n",
       "5 N/A - Flu-Series Timepoint Only 2019-11-01T00:00:00Z\n",
       "6 N/A - Flu-Series Timepoint Only 2019-11-01T00:00:00Z\n",
       "  sample.daysSinceFirstVisit ⋯ subject.race     subject.subjectGuid\n",
       "1 0                          ⋯ Caucasian        BR1002             \n",
       "2 0                          ⋯ Caucasian        BR1004             \n",
       "3 0                          ⋯ Caucasian        BR1006             \n",
       "4 0                          ⋯ Other            BR1007             \n",
       "5 0                          ⋯ Caucasian        BR2003             \n",
       "6 0                          ⋯ African American BR1011             \n",
       "  cohort.cohortGuid sample.diseaseStatesRecordedAtVisit pbmc_sample_id\n",
       "1 BR1               NA                                  PB00002-01    \n",
       "2 BR1               NA                                  PB00004-01    \n",
       "3 BR1               NA                                  PB00010-02    \n",
       "4 BR1               NA                                  PB00014-01    \n",
       "5 BR2               NA                                  PB00015-01    \n",
       "6 BR1               NA                                  PB00025-04    \n",
       "  subject.covidVaxDose1.daysSinceFirstVisit\n",
       "1 440                                      \n",
       "2 543                                      \n",
       "3 510                                      \n",
       "4 468                                      \n",
       "5 517                                      \n",
       "6 431                                      \n",
       "  subject.covidVaxDose2.daysSinceFirstVisit Covid_exclusion subjectGuid\n",
       "1 461                                       no              BR1002     \n",
       "2 563                                       no              BR1004     \n",
       "3 538                                       no              BR1006     \n",
       "4 493                                       no              BR1007     \n",
       "5 537                                       no              BR2003     \n",
       "6 452                                       no              BR1011     \n",
       "  CMV     \n",
       "1 Negative\n",
       "2 Negative\n",
       "3 Negative\n",
       "4 Positive\n",
       "5 Negative\n",
       "6 Negative"
      ]
     },
     "metadata": {},
     "output_type": "display_data"
    }
   ],
   "source": [
    "meta_data_subset<-meta_data%>% filter(subject.biologicalSex=='Male', sample.visitName %in% c('Flu Year 1 Day 0')) \n",
    "head(meta_data_subset)"
   ]
  },
  {
   "cell_type": "code",
   "execution_count": 43,
   "id": "1ae32a32-c0b7-473a-9242-c30a6c249a6a",
   "metadata": {
    "tags": []
   },
   "outputs": [],
   "source": [
    "#meta_data_subset=meta_data %>% filter(sample.visitName==\"Flu Year 1 Day 0\")\n",
    "aggregated_count_file_list<-paste0(\"/home/jupyter/IH-A-Aging-Analysis-Notebooks_old/Mansi_Notebooks/scRNA/CertPro_analysis/scripts/scRNA/BRI/Aggregated_Count/Aggregated_Raw_Expression_of_Celltypes_by_Sample_AIFI_L3/\",meta_data_subset$pbmc_sample_id,\".csv\")\n",
    "\n",
    "df_list<-mclapply(aggregated_count_file_list,function(x){\n",
    "df<-read.csv(x,check.names = FALSE, row.names = 1)\n",
    "colnames(df)<-paste0(gsub(\"^.*/(.*)\\\\.csv$\", \"\\\\1\", x),\":\",colnames(df))\n",
    "return (df)    \n",
    "},mc.cores=60)"
   ]
  },
  {
   "cell_type": "code",
   "execution_count": 44,
   "id": "f7553cb8-d015-42b0-a668-0160b334041d",
   "metadata": {
    "tags": []
   },
   "outputs": [],
   "source": [
    "celltypes <- unique(unlist(lapply(df_list, names)))\n",
    "celltypes<-unique(sub(\".*:\", \"\", celltypes))"
   ]
  },
  {
   "cell_type": "code",
   "execution_count": 45,
   "id": "397b575b-73ff-4921-ac7b-23a89ec768e2",
   "metadata": {
    "tags": []
   },
   "outputs": [
    {
     "data": {
      "text/html": [
       "71"
      ],
      "text/latex": [
       "71"
      ],
      "text/markdown": [
       "71"
      ],
      "text/plain": [
       "[1] 71"
      ]
     },
     "metadata": {},
     "output_type": "display_data"
    }
   ],
   "source": [
    "length(celltypes)"
   ]
  },
  {
   "cell_type": "code",
   "execution_count": 46,
   "id": "ab6fe97a-b743-41cf-86fc-f4cb489fac8c",
   "metadata": {
    "tags": []
   },
   "outputs": [
    {
     "data": {
      "text/html": [
       "<style>\n",
       ".list-inline {list-style: none; margin:0; padding: 0}\n",
       ".list-inline>li {display: inline-block}\n",
       ".list-inline>li:not(:last-child)::after {content: \"\\00b7\"; padding: 0 .5ex}\n",
       "</style>\n",
       "<ol class=list-inline><li>'ASDC'</li><li>'Adaptive NK cell'</li><li>'BaEoMaP cell'</li><li>'C1Q+ CD16 monocyte'</li><li>'CD4 MAIT'</li><li>'CD8 MAIT'</li><li>'CD8aa'</li><li>'CD14+ cDC2'</li><li>'CD27+ effector B cell'</li><li>'CD27- effector B cell'</li><li>'CD56bright NK cell'</li><li>'CD95 memory B cell'</li><li>'CLP cell'</li><li>'CM CD4 T cell'</li><li>'CM CD8 T cell'</li><li>'CMP cell'</li><li>'Core CD14 monocyte'</li><li>'Core CD16 monocyte'</li><li>'Core memory B cell'</li><li>'Core naive B cell'</li><li>'Core naive CD4 T cell'</li><li>'Core naive CD8 T cell'</li><li>'DN T cell'</li><li>'Early memory B cell'</li><li>'Erythrocyte'</li><li>'GZMB+ Vd2 gdT'</li><li>'GZMB- CD27+ EM CD4 T cell'</li><li>'GZMB- CD27- EM CD4 T cell'</li><li>'GZMK+ CD27+ EM CD8 T cell'</li><li>'GZMK+ CD56dim NK cell'</li><li>'GZMK+ Vd2 gdT'</li><li>'GZMK+ memory CD4 Treg'</li><li>'GZMK- CD27+ EM CD8 T cell'</li><li>'GZMK- CD56dim NK cell'</li><li>'HLA-DRhi cDC2'</li><li>'IL1B+ CD14 monocyte'</li><li>'ILC'</li><li>'ISG+ CD14 monocyte'</li><li>'ISG+ CD16 monocyte'</li><li>'ISG+ CD56dim NK cell'</li><li>'ISG+ cDC2'</li><li>'ISG+ memory CD4 T cell'</li><li>'ISG+ memory CD8 T cell'</li><li>'ISG+ naive B cell'</li><li>'ISG+ naive CD4 T cell'</li><li>'Intermediate monocyte'</li><li>'KLRB1+ memory CD4 Treg'</li><li>'KLRB1+ memory CD8 Treg'</li><li>'KLRF1+ GZMB+ CD27- EM CD8 T cell'</li><li>'KLRF1+ effector Vd1 gdT'</li><li>'KLRF1- GZMB+ CD27- EM CD8 T cell'</li><li>'KLRF1- GZMB+ CD27- memory CD4 T cell'</li><li>'KLRF1- effector Vd1 gdT'</li><li>'Memory CD4 Treg'</li><li>'Memory CD8 Treg'</li><li>'Naive CD4 Treg'</li><li>'Naive Vd1 gdT'</li><li>'Plasma cell'</li><li>'Platelet'</li><li>'Proliferating NK cell'</li><li>'Proliferating T cell'</li><li>'SOX4+ Vd1 gdT'</li><li>'SOX4+ naive CD4 T cell'</li><li>'SOX4+ naive CD8 T cell'</li><li>'Transitional B cell'</li><li>'Type 2 polarized memory B cell'</li><li>'cDC1'</li><li>'pDC'</li><li>'Activated memory B cell'</li><li>'ISG+ MAIT'</li><li>'ISG+ naive CD8 T cell'</li></ol>\n"
      ],
      "text/latex": [
       "\\begin{enumerate*}\n",
       "\\item 'ASDC'\n",
       "\\item 'Adaptive NK cell'\n",
       "\\item 'BaEoMaP cell'\n",
       "\\item 'C1Q+ CD16 monocyte'\n",
       "\\item 'CD4 MAIT'\n",
       "\\item 'CD8 MAIT'\n",
       "\\item 'CD8aa'\n",
       "\\item 'CD14+ cDC2'\n",
       "\\item 'CD27+ effector B cell'\n",
       "\\item 'CD27- effector B cell'\n",
       "\\item 'CD56bright NK cell'\n",
       "\\item 'CD95 memory B cell'\n",
       "\\item 'CLP cell'\n",
       "\\item 'CM CD4 T cell'\n",
       "\\item 'CM CD8 T cell'\n",
       "\\item 'CMP cell'\n",
       "\\item 'Core CD14 monocyte'\n",
       "\\item 'Core CD16 monocyte'\n",
       "\\item 'Core memory B cell'\n",
       "\\item 'Core naive B cell'\n",
       "\\item 'Core naive CD4 T cell'\n",
       "\\item 'Core naive CD8 T cell'\n",
       "\\item 'DN T cell'\n",
       "\\item 'Early memory B cell'\n",
       "\\item 'Erythrocyte'\n",
       "\\item 'GZMB+ Vd2 gdT'\n",
       "\\item 'GZMB- CD27+ EM CD4 T cell'\n",
       "\\item 'GZMB- CD27- EM CD4 T cell'\n",
       "\\item 'GZMK+ CD27+ EM CD8 T cell'\n",
       "\\item 'GZMK+ CD56dim NK cell'\n",
       "\\item 'GZMK+ Vd2 gdT'\n",
       "\\item 'GZMK+ memory CD4 Treg'\n",
       "\\item 'GZMK- CD27+ EM CD8 T cell'\n",
       "\\item 'GZMK- CD56dim NK cell'\n",
       "\\item 'HLA-DRhi cDC2'\n",
       "\\item 'IL1B+ CD14 monocyte'\n",
       "\\item 'ILC'\n",
       "\\item 'ISG+ CD14 monocyte'\n",
       "\\item 'ISG+ CD16 monocyte'\n",
       "\\item 'ISG+ CD56dim NK cell'\n",
       "\\item 'ISG+ cDC2'\n",
       "\\item 'ISG+ memory CD4 T cell'\n",
       "\\item 'ISG+ memory CD8 T cell'\n",
       "\\item 'ISG+ naive B cell'\n",
       "\\item 'ISG+ naive CD4 T cell'\n",
       "\\item 'Intermediate monocyte'\n",
       "\\item 'KLRB1+ memory CD4 Treg'\n",
       "\\item 'KLRB1+ memory CD8 Treg'\n",
       "\\item 'KLRF1+ GZMB+ CD27- EM CD8 T cell'\n",
       "\\item 'KLRF1+ effector Vd1 gdT'\n",
       "\\item 'KLRF1- GZMB+ CD27- EM CD8 T cell'\n",
       "\\item 'KLRF1- GZMB+ CD27- memory CD4 T cell'\n",
       "\\item 'KLRF1- effector Vd1 gdT'\n",
       "\\item 'Memory CD4 Treg'\n",
       "\\item 'Memory CD8 Treg'\n",
       "\\item 'Naive CD4 Treg'\n",
       "\\item 'Naive Vd1 gdT'\n",
       "\\item 'Plasma cell'\n",
       "\\item 'Platelet'\n",
       "\\item 'Proliferating NK cell'\n",
       "\\item 'Proliferating T cell'\n",
       "\\item 'SOX4+ Vd1 gdT'\n",
       "\\item 'SOX4+ naive CD4 T cell'\n",
       "\\item 'SOX4+ naive CD8 T cell'\n",
       "\\item 'Transitional B cell'\n",
       "\\item 'Type 2 polarized memory B cell'\n",
       "\\item 'cDC1'\n",
       "\\item 'pDC'\n",
       "\\item 'Activated memory B cell'\n",
       "\\item 'ISG+ MAIT'\n",
       "\\item 'ISG+ naive CD8 T cell'\n",
       "\\end{enumerate*}\n"
      ],
      "text/markdown": [
       "1. 'ASDC'\n",
       "2. 'Adaptive NK cell'\n",
       "3. 'BaEoMaP cell'\n",
       "4. 'C1Q+ CD16 monocyte'\n",
       "5. 'CD4 MAIT'\n",
       "6. 'CD8 MAIT'\n",
       "7. 'CD8aa'\n",
       "8. 'CD14+ cDC2'\n",
       "9. 'CD27+ effector B cell'\n",
       "10. 'CD27- effector B cell'\n",
       "11. 'CD56bright NK cell'\n",
       "12. 'CD95 memory B cell'\n",
       "13. 'CLP cell'\n",
       "14. 'CM CD4 T cell'\n",
       "15. 'CM CD8 T cell'\n",
       "16. 'CMP cell'\n",
       "17. 'Core CD14 monocyte'\n",
       "18. 'Core CD16 monocyte'\n",
       "19. 'Core memory B cell'\n",
       "20. 'Core naive B cell'\n",
       "21. 'Core naive CD4 T cell'\n",
       "22. 'Core naive CD8 T cell'\n",
       "23. 'DN T cell'\n",
       "24. 'Early memory B cell'\n",
       "25. 'Erythrocyte'\n",
       "26. 'GZMB+ Vd2 gdT'\n",
       "27. 'GZMB- CD27+ EM CD4 T cell'\n",
       "28. 'GZMB- CD27- EM CD4 T cell'\n",
       "29. 'GZMK+ CD27+ EM CD8 T cell'\n",
       "30. 'GZMK+ CD56dim NK cell'\n",
       "31. 'GZMK+ Vd2 gdT'\n",
       "32. 'GZMK+ memory CD4 Treg'\n",
       "33. 'GZMK- CD27+ EM CD8 T cell'\n",
       "34. 'GZMK- CD56dim NK cell'\n",
       "35. 'HLA-DRhi cDC2'\n",
       "36. 'IL1B+ CD14 monocyte'\n",
       "37. 'ILC'\n",
       "38. 'ISG+ CD14 monocyte'\n",
       "39. 'ISG+ CD16 monocyte'\n",
       "40. 'ISG+ CD56dim NK cell'\n",
       "41. 'ISG+ cDC2'\n",
       "42. 'ISG+ memory CD4 T cell'\n",
       "43. 'ISG+ memory CD8 T cell'\n",
       "44. 'ISG+ naive B cell'\n",
       "45. 'ISG+ naive CD4 T cell'\n",
       "46. 'Intermediate monocyte'\n",
       "47. 'KLRB1+ memory CD4 Treg'\n",
       "48. 'KLRB1+ memory CD8 Treg'\n",
       "49. 'KLRF1+ GZMB+ CD27- EM CD8 T cell'\n",
       "50. 'KLRF1+ effector Vd1 gdT'\n",
       "51. 'KLRF1- GZMB+ CD27- EM CD8 T cell'\n",
       "52. 'KLRF1- GZMB+ CD27- memory CD4 T cell'\n",
       "53. 'KLRF1- effector Vd1 gdT'\n",
       "54. 'Memory CD4 Treg'\n",
       "55. 'Memory CD8 Treg'\n",
       "56. 'Naive CD4 Treg'\n",
       "57. 'Naive Vd1 gdT'\n",
       "58. 'Plasma cell'\n",
       "59. 'Platelet'\n",
       "60. 'Proliferating NK cell'\n",
       "61. 'Proliferating T cell'\n",
       "62. 'SOX4+ Vd1 gdT'\n",
       "63. 'SOX4+ naive CD4 T cell'\n",
       "64. 'SOX4+ naive CD8 T cell'\n",
       "65. 'Transitional B cell'\n",
       "66. 'Type 2 polarized memory B cell'\n",
       "67. 'cDC1'\n",
       "68. 'pDC'\n",
       "69. 'Activated memory B cell'\n",
       "70. 'ISG+ MAIT'\n",
       "71. 'ISG+ naive CD8 T cell'\n",
       "\n",
       "\n"
      ],
      "text/plain": [
       " [1] \"ASDC\"                                \n",
       " [2] \"Adaptive NK cell\"                    \n",
       " [3] \"BaEoMaP cell\"                        \n",
       " [4] \"C1Q+ CD16 monocyte\"                  \n",
       " [5] \"CD4 MAIT\"                            \n",
       " [6] \"CD8 MAIT\"                            \n",
       " [7] \"CD8aa\"                               \n",
       " [8] \"CD14+ cDC2\"                          \n",
       " [9] \"CD27+ effector B cell\"               \n",
       "[10] \"CD27- effector B cell\"               \n",
       "[11] \"CD56bright NK cell\"                  \n",
       "[12] \"CD95 memory B cell\"                  \n",
       "[13] \"CLP cell\"                            \n",
       "[14] \"CM CD4 T cell\"                       \n",
       "[15] \"CM CD8 T cell\"                       \n",
       "[16] \"CMP cell\"                            \n",
       "[17] \"Core CD14 monocyte\"                  \n",
       "[18] \"Core CD16 monocyte\"                  \n",
       "[19] \"Core memory B cell\"                  \n",
       "[20] \"Core naive B cell\"                   \n",
       "[21] \"Core naive CD4 T cell\"               \n",
       "[22] \"Core naive CD8 T cell\"               \n",
       "[23] \"DN T cell\"                           \n",
       "[24] \"Early memory B cell\"                 \n",
       "[25] \"Erythrocyte\"                         \n",
       "[26] \"GZMB+ Vd2 gdT\"                       \n",
       "[27] \"GZMB- CD27+ EM CD4 T cell\"           \n",
       "[28] \"GZMB- CD27- EM CD4 T cell\"           \n",
       "[29] \"GZMK+ CD27+ EM CD8 T cell\"           \n",
       "[30] \"GZMK+ CD56dim NK cell\"               \n",
       "[31] \"GZMK+ Vd2 gdT\"                       \n",
       "[32] \"GZMK+ memory CD4 Treg\"               \n",
       "[33] \"GZMK- CD27+ EM CD8 T cell\"           \n",
       "[34] \"GZMK- CD56dim NK cell\"               \n",
       "[35] \"HLA-DRhi cDC2\"                       \n",
       "[36] \"IL1B+ CD14 monocyte\"                 \n",
       "[37] \"ILC\"                                 \n",
       "[38] \"ISG+ CD14 monocyte\"                  \n",
       "[39] \"ISG+ CD16 monocyte\"                  \n",
       "[40] \"ISG+ CD56dim NK cell\"                \n",
       "[41] \"ISG+ cDC2\"                           \n",
       "[42] \"ISG+ memory CD4 T cell\"              \n",
       "[43] \"ISG+ memory CD8 T cell\"              \n",
       "[44] \"ISG+ naive B cell\"                   \n",
       "[45] \"ISG+ naive CD4 T cell\"               \n",
       "[46] \"Intermediate monocyte\"               \n",
       "[47] \"KLRB1+ memory CD4 Treg\"              \n",
       "[48] \"KLRB1+ memory CD8 Treg\"              \n",
       "[49] \"KLRF1+ GZMB+ CD27- EM CD8 T cell\"    \n",
       "[50] \"KLRF1+ effector Vd1 gdT\"             \n",
       "[51] \"KLRF1- GZMB+ CD27- EM CD8 T cell\"    \n",
       "[52] \"KLRF1- GZMB+ CD27- memory CD4 T cell\"\n",
       "[53] \"KLRF1- effector Vd1 gdT\"             \n",
       "[54] \"Memory CD4 Treg\"                     \n",
       "[55] \"Memory CD8 Treg\"                     \n",
       "[56] \"Naive CD4 Treg\"                      \n",
       "[57] \"Naive Vd1 gdT\"                       \n",
       "[58] \"Plasma cell\"                         \n",
       "[59] \"Platelet\"                            \n",
       "[60] \"Proliferating NK cell\"               \n",
       "[61] \"Proliferating T cell\"                \n",
       "[62] \"SOX4+ Vd1 gdT\"                       \n",
       "[63] \"SOX4+ naive CD4 T cell\"              \n",
       "[64] \"SOX4+ naive CD8 T cell\"              \n",
       "[65] \"Transitional B cell\"                 \n",
       "[66] \"Type 2 polarized memory B cell\"      \n",
       "[67] \"cDC1\"                                \n",
       "[68] \"pDC\"                                 \n",
       "[69] \"Activated memory B cell\"             \n",
       "[70] \"ISG+ MAIT\"                           \n",
       "[71] \"ISG+ naive CD8 T cell\"               "
      ]
     },
     "metadata": {},
     "output_type": "display_data"
    }
   ],
   "source": [
    "celltypes"
   ]
  },
  {
   "cell_type": "code",
   "execution_count": 47,
   "id": "2185834d-6281-40ee-8df8-742e23f8a1e9",
   "metadata": {
    "scrolled": true,
    "tags": []
   },
   "outputs": [],
   "source": [
    "#for (celltype in celltypes) {\n",
    "res_all<-mclapply(celltypes, function(celltype){\n",
    "    print(celltype)\n",
    "    celltype_list <- lapply(df_list, function(df) { df <- df[, grep(celltype, names(df), fixed = TRUE),drop=FALSE] })\n",
    "    exp_matrix<-do.call(cbind,celltype_list)\n",
    "    colnames(exp_matrix)<-sub(\":.*\", \"\", colnames(exp_matrix))\n",
    "    rownames(meta_data_subset)<-meta_data_subset$pbmc_sample_id\n",
    "    filtered_gene_set_filtered<-filtered_gene_set%>% filter(AIFI_L3==celltype)\n",
    "    \n",
    "    dds <- DESeqDataSetFromMatrix(exp_matrix[filtered_gene_set_filtered$gene,], colData = meta_data_subset[colnames(exp_matrix),], \n",
    "                              design = ~ cohort.cohortGuid +\n",
    "                                          CMV)\n",
    "    dds <- DESeq(dds,parallel=FALSE)\n",
    "\n",
    "    res_d0d7 <- data.frame(results(dds,contrast=c(\"cohort.cohortGuid\", \"BR2\", \"BR1\")))\n",
    "    res_d0d7$contrast<-\"cohort.cohortGuid\"\n",
    "    res_d0d7=res_d0d7 %>% arrange(padj) %>% mutate(Direction=case_when(log2FoldChange<0~'BR1',log2FoldChange>0~'BR2'))\n",
    "    res_d0d7$gene<-rownames(res_d0d7)\n",
    "    rownames(res_d0d7)<-NULL\n",
    "    \n",
    "    res_d0d7$celltype=celltype\n",
    "    return(res_d0d7)\n",
    "},mc.cores=60)"
   ]
  },
  {
   "cell_type": "code",
   "execution_count": 37,
   "id": "f4d0b178-0019-4a9e-9a62-cda1ff862c18",
   "metadata": {
    "scrolled": true,
    "tags": []
   },
   "outputs": [],
   "source": [
    "res_all<-do.call(rbind,res_all)"
   ]
  },
  {
   "cell_type": "code",
   "execution_count": 38,
   "id": "eb2129bb-27d7-437e-aa64-f7665688d51b",
   "metadata": {
    "tags": []
   },
   "outputs": [],
   "source": [
    "write.csv(res_all,\"/home/jupyter/IH-A-Aging-Analysis-Notebooks_old/Mansi_Notebooks/scRNA/CertPro_analysis/scripts/DESEQ2/Male_Deseq2_Result_Y1D0.csv\")"
   ]
  }
 ],
 "metadata": {
  "kernelspec": {
   "display_name": "R 4",
   "language": "R",
   "name": "ir4"
  },
  "language_info": {
   "codemirror_mode": "r",
   "file_extension": ".r",
   "mimetype": "text/x-r-source",
   "name": "R",
   "pygments_lexer": "r",
   "version": "4.3.1"
  }
 },
 "nbformat": 4,
 "nbformat_minor": 5
}
