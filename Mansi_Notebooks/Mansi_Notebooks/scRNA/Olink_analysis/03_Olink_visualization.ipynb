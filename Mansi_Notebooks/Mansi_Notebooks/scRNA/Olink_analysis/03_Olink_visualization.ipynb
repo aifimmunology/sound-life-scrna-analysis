{
 "cells": [
  {
   "cell_type": "code",
   "execution_count": null,
   "id": "d186d818-1878-4af6-a82b-fe531745ef90",
   "metadata": {},
   "outputs": [],
   "source": []
  },
  {
   "cell_type": "code",
   "execution_count": 3,
   "id": "3b7fbc9b-ab00-40b6-b8ca-aa37ea1c9e53",
   "metadata": {
    "tags": []
   },
   "outputs": [],
   "source": [
    "suppressPackageStartupMessages(library(readxl))\n",
    "suppressPackageStartupMessages(library(dplyr))\n",
    "suppressPackageStartupMessages(library(tidyr))\n",
    "suppressPackageStartupMessages(library(tibble))\n",
    "suppressPackageStartupMessages(library(patchwork))\n",
    "suppressPackageStartupMessages(library(pheatmap))\n",
    "suppressPackageStartupMessages(library(stringr))\n",
    "library(hise)\n",
    "library(plyr)\n",
    "library(purrr)\n",
    "library(vegan)\n",
    "#library(arrow)\n",
    "library(parallel)\n",
    "library(ComplexHeatmap)\n",
    "library(ggsci)\n",
    "library(tidyverse)\n",
    "library(rstatix)\n",
    "library(ggpubr)"
   ]
  },
  {
   "cell_type": "code",
   "execution_count": 4,
   "id": "656039bf-6859-4984-a4f2-f58d6e27c0a8",
   "metadata": {
    "tags": []
   },
   "outputs": [],
   "source": [
    "female_br1<-read.csv(\"/home/jupyter/IH-A-Aging-Analysis-Notebooks_old/Mansi_Notebooks/scRNA/Olink_analysis/CSVs/Olink_Female_BR1_npx_v2.csv\")"
   ]
  },
  {
   "cell_type": "code",
   "execution_count": 5,
   "id": "eec5d8dc-4e90-4d11-89fc-1d9e2be89480",
   "metadata": {
    "tags": []
   },
   "outputs": [],
   "source": [
    "female_br2<-read.csv(\"/home/jupyter/IH-A-Aging-Analysis-Notebooks_old/Mansi_Notebooks/scRNA/Olink_analysis/CSVs/Olink_Female_BR2_npx_v2.csv\")"
   ]
  },
  {
   "cell_type": "code",
   "execution_count": 6,
   "id": "ead032b3-6372-48be-8bde-50da9ac2955d",
   "metadata": {
    "tags": []
   },
   "outputs": [],
   "source": [
    "male_br1<-read.csv(\"/home/jupyter/IH-A-Aging-Analysis-Notebooks_old/Mansi_Notebooks/scRNA/Olink_analysis/CSVs/Olink_Male_BR1_npx_v2.csv\")"
   ]
  },
  {
   "cell_type": "code",
   "execution_count": 7,
   "id": "1427f9f5-f135-4995-81bf-6c04ea6b8104",
   "metadata": {
    "tags": []
   },
   "outputs": [],
   "source": [
    "male_br2<-read.csv(\"/home/jupyter/IH-A-Aging-Analysis-Notebooks_old/Mansi_Notebooks/scRNA/Olink_analysis/CSVs/Olink_Male_BR2_npx_v2.csv\")"
   ]
  },
  {
   "cell_type": "code",
   "execution_count": 8,
   "id": "b7e93751-3b05-4810-aec8-288097558464",
   "metadata": {
    "tags": []
   },
   "outputs": [],
   "source": [
    "# Combine data frames vertically\n",
    "combined_df <- rbind(female_br1, female_br2, male_br1, male_br2 )"
   ]
  },
  {
   "cell_type": "code",
   "execution_count": 10,
   "id": "7146eb48-ffe5-4618-ac54-63a861aac3e4",
   "metadata": {
    "tags": []
   },
   "outputs": [
    {
     "data": {
      "text/html": [
       "<table class=\"dataframe\">\n",
       "<caption>A data.frame: 6 × 41</caption>\n",
       "<thead>\n",
       "\t<tr><th></th><th scope=col>X.x</th><th scope=col>sample.sampleKitGuid</th><th scope=col>NPX_bridged</th><th scope=col>Assay</th><th scope=col>batch</th><th scope=col>X.1</th><th scope=col>X.y</th><th scope=col>lastUpdated</th><th scope=col>sample.id</th><th scope=col>sample.bridgingControl</th><th scope=col>⋯</th><th scope=col>Sample_ID</th><th scope=col>Sample_Draw_date</th><th scope=col>Covid_Dose_1</th><th scope=col>Covid_Dose_2</th><th scope=col>Covid_exlcusion</th><th scope=col>CMV.IgG.Serology.Result.Interpretation</th><th scope=col>BMI</th><th scope=col>file.name.downloaded</th><th scope=col>file.path</th><th scope=col>facet</th></tr>\n",
       "\t<tr><th></th><th scope=col>&lt;int&gt;</th><th scope=col>&lt;chr&gt;</th><th scope=col>&lt;dbl&gt;</th><th scope=col>&lt;chr&gt;</th><th scope=col>&lt;chr&gt;</th><th scope=col>&lt;int&gt;</th><th scope=col>&lt;int&gt;</th><th scope=col>&lt;chr&gt;</th><th scope=col>&lt;chr&gt;</th><th scope=col>&lt;chr&gt;</th><th scope=col>⋯</th><th scope=col>&lt;lgl&gt;</th><th scope=col>&lt;chr&gt;</th><th scope=col>&lt;chr&gt;</th><th scope=col>&lt;chr&gt;</th><th scope=col>&lt;chr&gt;</th><th scope=col>&lt;chr&gt;</th><th scope=col>&lt;chr&gt;</th><th scope=col>&lt;chr&gt;</th><th scope=col>&lt;chr&gt;</th><th scope=col>&lt;chr&gt;</th></tr>\n",
       "</thead>\n",
       "<tbody>\n",
       "\t<tr><th scope=row>1</th><td>866534</td><td>KT00532</td><td> 0.94010</td><td><span style=white-space:pre-wrap>TNF   </span></td><td>Batch2_Bridged</td><td>62</td><td>62</td><td>2023-11-18T02:03:08.347Z</td><td>daa136f9-4e2f-42d3-a5b3-8d0b5d859aea</td><td>false</td><td>⋯</td><td>NA</td><td>2020-10-14</td><td>2021-03-13</td><td>2021-04-13</td><td>no</td><td>Positive</td><td>&gt;30BMI</td><td>B046-P1_PB00532-01_2021-02-24T00:12:47.912386239Z_labeled.h5</td><td>/home/jupyter/BRI_Analysis/scRNA/cache/8cb06afd-be05-40c6-8fbd-f9ebba9c0692/B046-P1_PB00532-01_2021-02-24T00:12:47.912386239Z_labeled.h5</td><td>Female_BR1</td></tr>\n",
       "\t<tr><th scope=row>2</th><td>872870</td><td>KT00532</td><td> 0.40485</td><td>NPDC1 </td><td>Batch2_Bridged</td><td>62</td><td>62</td><td>2023-11-18T02:03:08.347Z</td><td>daa136f9-4e2f-42d3-a5b3-8d0b5d859aea</td><td>false</td><td>⋯</td><td>NA</td><td>2020-10-14</td><td>2021-03-13</td><td>2021-04-13</td><td>no</td><td>Positive</td><td>&gt;30BMI</td><td>B046-P1_PB00532-01_2021-02-24T00:12:47.912386239Z_labeled.h5</td><td>/home/jupyter/BRI_Analysis/scRNA/cache/8cb06afd-be05-40c6-8fbd-f9ebba9c0692/B046-P1_PB00532-01_2021-02-24T00:12:47.912386239Z_labeled.h5</td><td>Female_BR1</td></tr>\n",
       "\t<tr><th scope=row>3</th><td>878854</td><td>KT00532</td><td>-0.54620</td><td>GDF15 </td><td>Batch2_Bridged</td><td>62</td><td>62</td><td>2023-11-18T02:03:08.347Z</td><td>daa136f9-4e2f-42d3-a5b3-8d0b5d859aea</td><td>false</td><td>⋯</td><td>NA</td><td>2020-10-14</td><td>2021-03-13</td><td>2021-04-13</td><td>no</td><td>Positive</td><td>&gt;30BMI</td><td>B046-P1_PB00532-01_2021-02-24T00:12:47.912386239Z_labeled.h5</td><td>/home/jupyter/BRI_Analysis/scRNA/cache/8cb06afd-be05-40c6-8fbd-f9ebba9c0692/B046-P1_PB00532-01_2021-02-24T00:12:47.912386239Z_labeled.h5</td><td>Female_BR1</td></tr>\n",
       "\t<tr><th scope=row>4</th><td>881230</td><td>KT00532</td><td> 0.58060</td><td><span style=white-space:pre-wrap>DPT   </span></td><td>Batch2_Bridged</td><td>62</td><td>62</td><td>2023-11-18T02:03:08.347Z</td><td>daa136f9-4e2f-42d3-a5b3-8d0b5d859aea</td><td>false</td><td>⋯</td><td>NA</td><td>2020-10-14</td><td>2021-03-13</td><td>2021-04-13</td><td>no</td><td>Positive</td><td>&gt;30BMI</td><td>B046-P1_PB00532-01_2021-02-24T00:12:47.912386239Z_labeled.h5</td><td>/home/jupyter/BRI_Analysis/scRNA/cache/8cb06afd-be05-40c6-8fbd-f9ebba9c0692/B046-P1_PB00532-01_2021-02-24T00:12:47.912386239Z_labeled.h5</td><td>Female_BR1</td></tr>\n",
       "\t<tr><th scope=row>5</th><td>881318</td><td>KT00532</td><td>-0.40900</td><td>CRTAC1</td><td>Batch2_Bridged</td><td>62</td><td>62</td><td>2023-11-18T02:03:08.347Z</td><td>daa136f9-4e2f-42d3-a5b3-8d0b5d859aea</td><td>false</td><td>⋯</td><td>NA</td><td>2020-10-14</td><td>2021-03-13</td><td>2021-04-13</td><td>no</td><td>Positive</td><td>&gt;30BMI</td><td>B046-P1_PB00532-01_2021-02-24T00:12:47.912386239Z_labeled.h5</td><td>/home/jupyter/BRI_Analysis/scRNA/cache/8cb06afd-be05-40c6-8fbd-f9ebba9c0692/B046-P1_PB00532-01_2021-02-24T00:12:47.912386239Z_labeled.h5</td><td>Female_BR1</td></tr>\n",
       "\t<tr><th scope=row>6</th><td>886950</td><td>KT00532</td><td>-0.46540</td><td><span style=white-space:pre-wrap>MCAM  </span></td><td>Batch2_Bridged</td><td>62</td><td>62</td><td>2023-11-18T02:03:08.347Z</td><td>daa136f9-4e2f-42d3-a5b3-8d0b5d859aea</td><td>false</td><td>⋯</td><td>NA</td><td>2020-10-14</td><td>2021-03-13</td><td>2021-04-13</td><td>no</td><td>Positive</td><td>&gt;30BMI</td><td>B046-P1_PB00532-01_2021-02-24T00:12:47.912386239Z_labeled.h5</td><td>/home/jupyter/BRI_Analysis/scRNA/cache/8cb06afd-be05-40c6-8fbd-f9ebba9c0692/B046-P1_PB00532-01_2021-02-24T00:12:47.912386239Z_labeled.h5</td><td>Female_BR1</td></tr>\n",
       "</tbody>\n",
       "</table>\n"
      ],
      "text/latex": [
       "A data.frame: 6 × 41\n",
       "\\begin{tabular}{r|lllllllllllllllllllll}\n",
       "  & X.x & sample.sampleKitGuid & NPX\\_bridged & Assay & batch & X.1 & X.y & lastUpdated & sample.id & sample.bridgingControl & ⋯ & Sample\\_ID & Sample\\_Draw\\_date & Covid\\_Dose\\_1 & Covid\\_Dose\\_2 & Covid\\_exlcusion & CMV.IgG.Serology.Result.Interpretation & BMI & file.name.downloaded & file.path & facet\\\\\n",
       "  & <int> & <chr> & <dbl> & <chr> & <chr> & <int> & <int> & <chr> & <chr> & <chr> & ⋯ & <lgl> & <chr> & <chr> & <chr> & <chr> & <chr> & <chr> & <chr> & <chr> & <chr>\\\\\n",
       "\\hline\n",
       "\t1 & 866534 & KT00532 &  0.94010 & TNF    & Batch2\\_Bridged & 62 & 62 & 2023-11-18T02:03:08.347Z & daa136f9-4e2f-42d3-a5b3-8d0b5d859aea & false & ⋯ & NA & 2020-10-14 & 2021-03-13 & 2021-04-13 & no & Positive & >30BMI & B046-P1\\_PB00532-01\\_2021-02-24T00:12:47.912386239Z\\_labeled.h5 & /home/jupyter/BRI\\_Analysis/scRNA/cache/8cb06afd-be05-40c6-8fbd-f9ebba9c0692/B046-P1\\_PB00532-01\\_2021-02-24T00:12:47.912386239Z\\_labeled.h5 & Female\\_BR1\\\\\n",
       "\t2 & 872870 & KT00532 &  0.40485 & NPDC1  & Batch2\\_Bridged & 62 & 62 & 2023-11-18T02:03:08.347Z & daa136f9-4e2f-42d3-a5b3-8d0b5d859aea & false & ⋯ & NA & 2020-10-14 & 2021-03-13 & 2021-04-13 & no & Positive & >30BMI & B046-P1\\_PB00532-01\\_2021-02-24T00:12:47.912386239Z\\_labeled.h5 & /home/jupyter/BRI\\_Analysis/scRNA/cache/8cb06afd-be05-40c6-8fbd-f9ebba9c0692/B046-P1\\_PB00532-01\\_2021-02-24T00:12:47.912386239Z\\_labeled.h5 & Female\\_BR1\\\\\n",
       "\t3 & 878854 & KT00532 & -0.54620 & GDF15  & Batch2\\_Bridged & 62 & 62 & 2023-11-18T02:03:08.347Z & daa136f9-4e2f-42d3-a5b3-8d0b5d859aea & false & ⋯ & NA & 2020-10-14 & 2021-03-13 & 2021-04-13 & no & Positive & >30BMI & B046-P1\\_PB00532-01\\_2021-02-24T00:12:47.912386239Z\\_labeled.h5 & /home/jupyter/BRI\\_Analysis/scRNA/cache/8cb06afd-be05-40c6-8fbd-f9ebba9c0692/B046-P1\\_PB00532-01\\_2021-02-24T00:12:47.912386239Z\\_labeled.h5 & Female\\_BR1\\\\\n",
       "\t4 & 881230 & KT00532 &  0.58060 & DPT    & Batch2\\_Bridged & 62 & 62 & 2023-11-18T02:03:08.347Z & daa136f9-4e2f-42d3-a5b3-8d0b5d859aea & false & ⋯ & NA & 2020-10-14 & 2021-03-13 & 2021-04-13 & no & Positive & >30BMI & B046-P1\\_PB00532-01\\_2021-02-24T00:12:47.912386239Z\\_labeled.h5 & /home/jupyter/BRI\\_Analysis/scRNA/cache/8cb06afd-be05-40c6-8fbd-f9ebba9c0692/B046-P1\\_PB00532-01\\_2021-02-24T00:12:47.912386239Z\\_labeled.h5 & Female\\_BR1\\\\\n",
       "\t5 & 881318 & KT00532 & -0.40900 & CRTAC1 & Batch2\\_Bridged & 62 & 62 & 2023-11-18T02:03:08.347Z & daa136f9-4e2f-42d3-a5b3-8d0b5d859aea & false & ⋯ & NA & 2020-10-14 & 2021-03-13 & 2021-04-13 & no & Positive & >30BMI & B046-P1\\_PB00532-01\\_2021-02-24T00:12:47.912386239Z\\_labeled.h5 & /home/jupyter/BRI\\_Analysis/scRNA/cache/8cb06afd-be05-40c6-8fbd-f9ebba9c0692/B046-P1\\_PB00532-01\\_2021-02-24T00:12:47.912386239Z\\_labeled.h5 & Female\\_BR1\\\\\n",
       "\t6 & 886950 & KT00532 & -0.46540 & MCAM   & Batch2\\_Bridged & 62 & 62 & 2023-11-18T02:03:08.347Z & daa136f9-4e2f-42d3-a5b3-8d0b5d859aea & false & ⋯ & NA & 2020-10-14 & 2021-03-13 & 2021-04-13 & no & Positive & >30BMI & B046-P1\\_PB00532-01\\_2021-02-24T00:12:47.912386239Z\\_labeled.h5 & /home/jupyter/BRI\\_Analysis/scRNA/cache/8cb06afd-be05-40c6-8fbd-f9ebba9c0692/B046-P1\\_PB00532-01\\_2021-02-24T00:12:47.912386239Z\\_labeled.h5 & Female\\_BR1\\\\\n",
       "\\end{tabular}\n"
      ],
      "text/markdown": [
       "\n",
       "A data.frame: 6 × 41\n",
       "\n",
       "| <!--/--> | X.x &lt;int&gt; | sample.sampleKitGuid &lt;chr&gt; | NPX_bridged &lt;dbl&gt; | Assay &lt;chr&gt; | batch &lt;chr&gt; | X.1 &lt;int&gt; | X.y &lt;int&gt; | lastUpdated &lt;chr&gt; | sample.id &lt;chr&gt; | sample.bridgingControl &lt;chr&gt; | ⋯ ⋯ | Sample_ID &lt;lgl&gt; | Sample_Draw_date &lt;chr&gt; | Covid_Dose_1 &lt;chr&gt; | Covid_Dose_2 &lt;chr&gt; | Covid_exlcusion &lt;chr&gt; | CMV.IgG.Serology.Result.Interpretation &lt;chr&gt; | BMI &lt;chr&gt; | file.name.downloaded &lt;chr&gt; | file.path &lt;chr&gt; | facet &lt;chr&gt; |\n",
       "|---|---|---|---|---|---|---|---|---|---|---|---|---|---|---|---|---|---|---|---|---|---|\n",
       "| 1 | 866534 | KT00532 |  0.94010 | TNF    | Batch2_Bridged | 62 | 62 | 2023-11-18T02:03:08.347Z | daa136f9-4e2f-42d3-a5b3-8d0b5d859aea | false | ⋯ | NA | 2020-10-14 | 2021-03-13 | 2021-04-13 | no | Positive | &gt;30BMI | B046-P1_PB00532-01_2021-02-24T00:12:47.912386239Z_labeled.h5 | /home/jupyter/BRI_Analysis/scRNA/cache/8cb06afd-be05-40c6-8fbd-f9ebba9c0692/B046-P1_PB00532-01_2021-02-24T00:12:47.912386239Z_labeled.h5 | Female_BR1 |\n",
       "| 2 | 872870 | KT00532 |  0.40485 | NPDC1  | Batch2_Bridged | 62 | 62 | 2023-11-18T02:03:08.347Z | daa136f9-4e2f-42d3-a5b3-8d0b5d859aea | false | ⋯ | NA | 2020-10-14 | 2021-03-13 | 2021-04-13 | no | Positive | &gt;30BMI | B046-P1_PB00532-01_2021-02-24T00:12:47.912386239Z_labeled.h5 | /home/jupyter/BRI_Analysis/scRNA/cache/8cb06afd-be05-40c6-8fbd-f9ebba9c0692/B046-P1_PB00532-01_2021-02-24T00:12:47.912386239Z_labeled.h5 | Female_BR1 |\n",
       "| 3 | 878854 | KT00532 | -0.54620 | GDF15  | Batch2_Bridged | 62 | 62 | 2023-11-18T02:03:08.347Z | daa136f9-4e2f-42d3-a5b3-8d0b5d859aea | false | ⋯ | NA | 2020-10-14 | 2021-03-13 | 2021-04-13 | no | Positive | &gt;30BMI | B046-P1_PB00532-01_2021-02-24T00:12:47.912386239Z_labeled.h5 | /home/jupyter/BRI_Analysis/scRNA/cache/8cb06afd-be05-40c6-8fbd-f9ebba9c0692/B046-P1_PB00532-01_2021-02-24T00:12:47.912386239Z_labeled.h5 | Female_BR1 |\n",
       "| 4 | 881230 | KT00532 |  0.58060 | DPT    | Batch2_Bridged | 62 | 62 | 2023-11-18T02:03:08.347Z | daa136f9-4e2f-42d3-a5b3-8d0b5d859aea | false | ⋯ | NA | 2020-10-14 | 2021-03-13 | 2021-04-13 | no | Positive | &gt;30BMI | B046-P1_PB00532-01_2021-02-24T00:12:47.912386239Z_labeled.h5 | /home/jupyter/BRI_Analysis/scRNA/cache/8cb06afd-be05-40c6-8fbd-f9ebba9c0692/B046-P1_PB00532-01_2021-02-24T00:12:47.912386239Z_labeled.h5 | Female_BR1 |\n",
       "| 5 | 881318 | KT00532 | -0.40900 | CRTAC1 | Batch2_Bridged | 62 | 62 | 2023-11-18T02:03:08.347Z | daa136f9-4e2f-42d3-a5b3-8d0b5d859aea | false | ⋯ | NA | 2020-10-14 | 2021-03-13 | 2021-04-13 | no | Positive | &gt;30BMI | B046-P1_PB00532-01_2021-02-24T00:12:47.912386239Z_labeled.h5 | /home/jupyter/BRI_Analysis/scRNA/cache/8cb06afd-be05-40c6-8fbd-f9ebba9c0692/B046-P1_PB00532-01_2021-02-24T00:12:47.912386239Z_labeled.h5 | Female_BR1 |\n",
       "| 6 | 886950 | KT00532 | -0.46540 | MCAM   | Batch2_Bridged | 62 | 62 | 2023-11-18T02:03:08.347Z | daa136f9-4e2f-42d3-a5b3-8d0b5d859aea | false | ⋯ | NA | 2020-10-14 | 2021-03-13 | 2021-04-13 | no | Positive | &gt;30BMI | B046-P1_PB00532-01_2021-02-24T00:12:47.912386239Z_labeled.h5 | /home/jupyter/BRI_Analysis/scRNA/cache/8cb06afd-be05-40c6-8fbd-f9ebba9c0692/B046-P1_PB00532-01_2021-02-24T00:12:47.912386239Z_labeled.h5 | Female_BR1 |\n",
       "\n"
      ],
      "text/plain": [
       "  X.x    sample.sampleKitGuid NPX_bridged Assay  batch          X.1 X.y\n",
       "1 866534 KT00532               0.94010    TNF    Batch2_Bridged 62  62 \n",
       "2 872870 KT00532               0.40485    NPDC1  Batch2_Bridged 62  62 \n",
       "3 878854 KT00532              -0.54620    GDF15  Batch2_Bridged 62  62 \n",
       "4 881230 KT00532               0.58060    DPT    Batch2_Bridged 62  62 \n",
       "5 881318 KT00532              -0.40900    CRTAC1 Batch2_Bridged 62  62 \n",
       "6 886950 KT00532              -0.46540    MCAM   Batch2_Bridged 62  62 \n",
       "  lastUpdated              sample.id                           \n",
       "1 2023-11-18T02:03:08.347Z daa136f9-4e2f-42d3-a5b3-8d0b5d859aea\n",
       "2 2023-11-18T02:03:08.347Z daa136f9-4e2f-42d3-a5b3-8d0b5d859aea\n",
       "3 2023-11-18T02:03:08.347Z daa136f9-4e2f-42d3-a5b3-8d0b5d859aea\n",
       "4 2023-11-18T02:03:08.347Z daa136f9-4e2f-42d3-a5b3-8d0b5d859aea\n",
       "5 2023-11-18T02:03:08.347Z daa136f9-4e2f-42d3-a5b3-8d0b5d859aea\n",
       "6 2023-11-18T02:03:08.347Z daa136f9-4e2f-42d3-a5b3-8d0b5d859aea\n",
       "  sample.bridgingControl ⋯ Sample_ID Sample_Draw_date Covid_Dose_1 Covid_Dose_2\n",
       "1 false                  ⋯ NA        2020-10-14       2021-03-13   2021-04-13  \n",
       "2 false                  ⋯ NA        2020-10-14       2021-03-13   2021-04-13  \n",
       "3 false                  ⋯ NA        2020-10-14       2021-03-13   2021-04-13  \n",
       "4 false                  ⋯ NA        2020-10-14       2021-03-13   2021-04-13  \n",
       "5 false                  ⋯ NA        2020-10-14       2021-03-13   2021-04-13  \n",
       "6 false                  ⋯ NA        2020-10-14       2021-03-13   2021-04-13  \n",
       "  Covid_exlcusion CMV.IgG.Serology.Result.Interpretation BMI   \n",
       "1 no              Positive                               >30BMI\n",
       "2 no              Positive                               >30BMI\n",
       "3 no              Positive                               >30BMI\n",
       "4 no              Positive                               >30BMI\n",
       "5 no              Positive                               >30BMI\n",
       "6 no              Positive                               >30BMI\n",
       "  file.name.downloaded                                        \n",
       "1 B046-P1_PB00532-01_2021-02-24T00:12:47.912386239Z_labeled.h5\n",
       "2 B046-P1_PB00532-01_2021-02-24T00:12:47.912386239Z_labeled.h5\n",
       "3 B046-P1_PB00532-01_2021-02-24T00:12:47.912386239Z_labeled.h5\n",
       "4 B046-P1_PB00532-01_2021-02-24T00:12:47.912386239Z_labeled.h5\n",
       "5 B046-P1_PB00532-01_2021-02-24T00:12:47.912386239Z_labeled.h5\n",
       "6 B046-P1_PB00532-01_2021-02-24T00:12:47.912386239Z_labeled.h5\n",
       "  file.path                                                                                                                               \n",
       "1 /home/jupyter/BRI_Analysis/scRNA/cache/8cb06afd-be05-40c6-8fbd-f9ebba9c0692/B046-P1_PB00532-01_2021-02-24T00:12:47.912386239Z_labeled.h5\n",
       "2 /home/jupyter/BRI_Analysis/scRNA/cache/8cb06afd-be05-40c6-8fbd-f9ebba9c0692/B046-P1_PB00532-01_2021-02-24T00:12:47.912386239Z_labeled.h5\n",
       "3 /home/jupyter/BRI_Analysis/scRNA/cache/8cb06afd-be05-40c6-8fbd-f9ebba9c0692/B046-P1_PB00532-01_2021-02-24T00:12:47.912386239Z_labeled.h5\n",
       "4 /home/jupyter/BRI_Analysis/scRNA/cache/8cb06afd-be05-40c6-8fbd-f9ebba9c0692/B046-P1_PB00532-01_2021-02-24T00:12:47.912386239Z_labeled.h5\n",
       "5 /home/jupyter/BRI_Analysis/scRNA/cache/8cb06afd-be05-40c6-8fbd-f9ebba9c0692/B046-P1_PB00532-01_2021-02-24T00:12:47.912386239Z_labeled.h5\n",
       "6 /home/jupyter/BRI_Analysis/scRNA/cache/8cb06afd-be05-40c6-8fbd-f9ebba9c0692/B046-P1_PB00532-01_2021-02-24T00:12:47.912386239Z_labeled.h5\n",
       "  facet     \n",
       "1 Female_BR1\n",
       "2 Female_BR1\n",
       "3 Female_BR1\n",
       "4 Female_BR1\n",
       "5 Female_BR1\n",
       "6 Female_BR1"
      ]
     },
     "metadata": {},
     "output_type": "display_data"
    }
   ],
   "source": [
    "combined_df %>% head()"
   ]
  },
  {
   "cell_type": "code",
   "execution_count": null,
   "id": "b85e1ffa-aa7b-44bb-b21b-ac09a59db47d",
   "metadata": {},
   "outputs": [],
   "source": []
  },
  {
   "cell_type": "code",
   "execution_count": 12,
   "id": "fdced942-ecdb-4eb7-8fcd-fd6b694fdd13",
   "metadata": {
    "tags": []
   },
   "outputs": [],
   "source": [
    "#Loop to create plots\n",
    "\n",
    "\n",
    "# Define the list of genes\n",
    "gene_list <- c('CGA', 'NEFL', 'CDCP1', 'ANGPTL3', 'TFF1', 'HSPB6', 'CRTAC1','F3','MCAM','DTX3','NPDC1','TNFRSF1A','SCARB2','CD302',\n",
    "            'PHOSPHO1','JAM2','ITGAV','CTSV','PAEP', 'MLN','CXCL17','IGFBP4','GDF15','WFDC2','FLT3LG','DPT','RET', 'TNF', 'IL1B', 'IL1RN', 'CCL5')\n",
    "\n",
    "# comparisons\n",
    "my_comparisons <- list(c(\"Female_BR1\", \"Female_BR2\"), c(\"Male_BR1\", \"Male_BR2\"), c(\"Female_BR1\", \"Male_BR1\"), c(\"Female_BR2\", \"Male_BR2\"))\n",
    "\n",
    "# Iterate through the list of genes\n",
    "for (gene in gene_list) {\n",
    "    \n",
    "    protein_df <- combined_df %>% filter(combined_df$Assay == gene)\n",
    "  \n",
    "    # Perform statistical test for the current gene\n",
    "    stat_test <- wilcox_test(NPX_bridged ~ facet, data = protein_df, comparisons = my_comparisons, paired= FALSE)%>% \n",
    "   adjust_pvalue(method = 'BH') %>% \n",
    "   add_xy_position(x = \"facet\", dodge = 0.8)\n",
    "\n",
    "  # Define the output file path\n",
    "  outfile <- paste(\"/home/jupyter/IH-A-Aging-Analysis-Notebooks_old/Mansi_Notebooks/scRNA/Olink_analysis/Plots/with_new_proteins_P&Padj/Olink_NPX_Padj_\", gene, \".pdf\", sep=\"\")\n",
    "  \n",
    "  # Create the plot for the current gene\n",
    "  p3 <- ggplot(protein_df, aes(x = facet, y = NPX_bridged, color = subject.biologicalSex)) +\n",
    "    geom_violin(width = 0.7) +  # Adjust width as needed\n",
    "    geom_boxplot(width = 0.5, outlier.shape = NA) +  # Nudge boxplots slightly for better visualization\n",
    "    geom_jitter(width = 0.1) +\n",
    "    ylab('NPX') + \n",
    "    xlab('Groups') +\n",
    "    scale_color_manual(values = c(\"red\", \"blue\")) +\n",
    "    theme(axis.text.x = element_text(size = 14, angle = 90),     \n",
    "          axis.text.y = element_text(size = 14),     \n",
    "          axis.title = element_text(size = 14),\n",
    "          panel.background = element_rect(fill = \"white\"),\n",
    "          axis.line = element_line(color = \"black\"),\n",
    "          panel.grid.minor = element_blank(),\n",
    "          legend.position = \"top\",\n",
    "          plot.title = element_text(hjust = 0.5, size = 16, face = \"bold\")\n",
    "    ) +\n",
    "    stat_pvalue_manual(stat_test, label =\"p_value= {p},\\np_adj= {p.adj.signif}\", tip.length = 0) +\n",
    "    ggtitle(gene)\n",
    "  \n",
    "  # Save the plot to a PDF file\n",
    "  pdf(file = outfile, width = 7, height = 13)\n",
    "  print(p3)\n",
    "  dev.off()\n",
    "}\n"
   ]
  },
  {
   "cell_type": "code",
   "execution_count": null,
   "id": "bdc879e2-3996-42f3-bf70-c804aa801026",
   "metadata": {},
   "outputs": [],
   "source": []
  },
  {
   "cell_type": "markdown",
   "id": "996d148b-c327-4140-bbf8-b12f5bb61353",
   "metadata": {
    "tags": []
   },
   "source": [
    "# stat_test table output"
   ]
  },
  {
   "cell_type": "code",
   "execution_count": 20,
   "id": "62de19c1-4b27-477c-b06a-973b91b4135f",
   "metadata": {},
   "outputs": [],
   "source": [
    "# Define the list of genes\n",
    "gene_list <- c('CGA', 'NEFL', 'CDCP1', 'ANGPTL3', 'TFF1', 'HSPB6', 'CRTAC1','F3','MCAM','DTX3','NPDC1','TNFRSF1A','SCARB2','CD302',\n",
    "            'PHOSPHO1','JAM2','ITGAV','CTSV','PAEP', 'MLN','CXCL17','IGFBP4','GDF15','WFDC2','FLT3LG','DPT','RET')\n",
    "# comparisons\n",
    "my_comparisons <- list(c(\"Female_BR1\", \"Female_BR2\"), c(\"Male_BR1\", \"Male_BR2\"), c(\"Female_BR1\", \"Male_BR1\"), c(\"Female_BR2\", \"Male_BR2\"))\n",
    "\n",
    "\n",
    "for (gene in gene_list) {\n",
    "  \n",
    "    protein_df <- combined_df %>% filter(combined_df$Assay == gene)\n",
    "    \n",
    "    # Perform statistical test for the current gene\n",
    "   stat_test <- wilcox_test(NPX_bridged ~ facet, data = protein_df, comparisons = my_comparisons, paired= FALSE)%>% \n",
    "   adjust_pvalue(method = 'BH') \n",
    "  \n",
    "  # Extract the data frame from the stat_test list\n",
    "  #stat_df <- data.frame(stat_test[[9]])\n",
    "  \n",
    "  # Define the output file path for the CSV\n",
    "  outfile_csv <- paste(\"/home/jupyter/IH-A-Aging-Analysis-Notebooks_old/Mansi_Notebooks/scRNA/Olink_analysis/Plots/Olink_stat_test_\", gene, \".csv\", sep=\"\")\n",
    "  \n",
    "  # Write the data frame to a CSV file\n",
    "  write.csv(stat_test, outfile_csv, row.names = FALSE)\n",
    "}"
   ]
  },
  {
   "cell_type": "code",
   "execution_count": null,
   "id": "97aa62fb-d597-4b0b-8aef-d15b86f161bf",
   "metadata": {},
   "outputs": [],
   "source": []
  }
 ],
 "metadata": {
  "kernelspec": {
   "display_name": "R 4",
   "language": "R",
   "name": "ir4"
  },
  "language_info": {
   "codemirror_mode": "r",
   "file_extension": ".r",
   "mimetype": "text/x-r-source",
   "name": "R",
   "pygments_lexer": "r",
   "version": "4.3.1"
  }
 },
 "nbformat": 4,
 "nbformat_minor": 5
}
