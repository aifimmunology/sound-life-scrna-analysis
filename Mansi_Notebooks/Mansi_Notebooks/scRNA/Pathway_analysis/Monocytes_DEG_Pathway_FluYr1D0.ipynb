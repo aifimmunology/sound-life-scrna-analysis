{
 "cells": [
  {
   "cell_type": "code",
   "execution_count": 3,
   "id": "5b140121-eea6-48f4-abaa-0915d4c22226",
   "metadata": {
    "tags": []
   },
   "outputs": [],
   "source": [
    "library(SingleCellExperiment)\n",
    "library(reticulate)\n",
    "library(Seurat)\n",
    "library(dplyr)\n",
    "library(H5weaver)\n",
    "library(SeuratDisk)\n",
    "library(reticulate)\n",
    "library(anndata)\n",
    "library(reshape2)\n",
    "library(tidyr)\n",
    "library(limma)\n",
    "library(edgeR)\n",
    "library(pheatmap)\n",
    "library(ggplot2)\n",
    "library(gridExtra)\n",
    "library(tibble)\n",
    "library(plotly)\n",
    "library(readxl)\n",
    "library(VennDiagram)\n",
    "library(fgsea)\n",
    "library(UpSetR)\n",
    "library(zip)\n",
    "library(openxlsx)\n",
    "library(statmod)"
   ]
  },
  {
   "cell_type": "markdown",
   "id": "2ad4eff7-41e2-4f55-b226-67d873454f09",
   "metadata": {},
   "source": [
    "# load all H5AD files into R using Anndata"
   ]
  },
  {
   "cell_type": "code",
   "execution_count": 5,
   "id": "9d515770-3271-43b9-b7bd-593bb46dad18",
   "metadata": {
    "tags": []
   },
   "outputs": [],
   "source": [
    "#load h5ad file with psb data\n",
    "folder_path <- '/home/jupyter/IH-A-Aging-Analysis-Notebooks/Mansi_Notebooks/scRNA/Pathway_analysis/psb_subsets'\n",
    "file_list <- list.files(path = folder_path, pattern = \".h5ad$\", full.names = TRUE)"
   ]
  },
  {
   "cell_type": "code",
   "execution_count": 6,
   "id": "69e1dd51-8c75-4c8d-8fa2-8a4ac609c359",
   "metadata": {
    "tags": []
   },
   "outputs": [
    {
     "data": {
      "text/html": [
       "<style>\n",
       ".list-inline {list-style: none; margin:0; padding: 0}\n",
       ".list-inline>li {display: inline-block}\n",
       ".list-inline>li:not(:last-child)::after {content: \"\\00b7\"; padding: 0 .5ex}\n",
       "</style>\n",
       "<ol class=list-inline><li>'/home/jupyter/IH-A-Aging-Analysis-Notebooks/Mansi_Notebooks/scRNA/Pathway_analysis/psb_subsets/subset_C1Q+ CD16 monocyte.h5ad'</li><li>'/home/jupyter/IH-A-Aging-Analysis-Notebooks/Mansi_Notebooks/scRNA/Pathway_analysis/psb_subsets/subset_Core CD14 monocyte.h5ad'</li><li>'/home/jupyter/IH-A-Aging-Analysis-Notebooks/Mansi_Notebooks/scRNA/Pathway_analysis/psb_subsets/subset_Core CD16 monocyte.h5ad'</li><li>'/home/jupyter/IH-A-Aging-Analysis-Notebooks/Mansi_Notebooks/scRNA/Pathway_analysis/psb_subsets/subset_IL1B+ CD14 monocyte.h5ad'</li><li>'/home/jupyter/IH-A-Aging-Analysis-Notebooks/Mansi_Notebooks/scRNA/Pathway_analysis/psb_subsets/subset_Intermediate monocyte.h5ad'</li><li>'/home/jupyter/IH-A-Aging-Analysis-Notebooks/Mansi_Notebooks/scRNA/Pathway_analysis/psb_subsets/subset_ISG+ CD14 monocyte.h5ad'</li><li>'/home/jupyter/IH-A-Aging-Analysis-Notebooks/Mansi_Notebooks/scRNA/Pathway_analysis/psb_subsets/subset_ISG+ CD16 monocyte.h5ad'</li></ol>\n"
      ],
      "text/latex": [
       "\\begin{enumerate*}\n",
       "\\item '/home/jupyter/IH-A-Aging-Analysis-Notebooks/Mansi\\_Notebooks/scRNA/Pathway\\_analysis/psb\\_subsets/subset\\_C1Q+ CD16 monocyte.h5ad'\n",
       "\\item '/home/jupyter/IH-A-Aging-Analysis-Notebooks/Mansi\\_Notebooks/scRNA/Pathway\\_analysis/psb\\_subsets/subset\\_Core CD14 monocyte.h5ad'\n",
       "\\item '/home/jupyter/IH-A-Aging-Analysis-Notebooks/Mansi\\_Notebooks/scRNA/Pathway\\_analysis/psb\\_subsets/subset\\_Core CD16 monocyte.h5ad'\n",
       "\\item '/home/jupyter/IH-A-Aging-Analysis-Notebooks/Mansi\\_Notebooks/scRNA/Pathway\\_analysis/psb\\_subsets/subset\\_IL1B+ CD14 monocyte.h5ad'\n",
       "\\item '/home/jupyter/IH-A-Aging-Analysis-Notebooks/Mansi\\_Notebooks/scRNA/Pathway\\_analysis/psb\\_subsets/subset\\_Intermediate monocyte.h5ad'\n",
       "\\item '/home/jupyter/IH-A-Aging-Analysis-Notebooks/Mansi\\_Notebooks/scRNA/Pathway\\_analysis/psb\\_subsets/subset\\_ISG+ CD14 monocyte.h5ad'\n",
       "\\item '/home/jupyter/IH-A-Aging-Analysis-Notebooks/Mansi\\_Notebooks/scRNA/Pathway\\_analysis/psb\\_subsets/subset\\_ISG+ CD16 monocyte.h5ad'\n",
       "\\end{enumerate*}\n"
      ],
      "text/markdown": [
       "1. '/home/jupyter/IH-A-Aging-Analysis-Notebooks/Mansi_Notebooks/scRNA/Pathway_analysis/psb_subsets/subset_C1Q+ CD16 monocyte.h5ad'\n",
       "2. '/home/jupyter/IH-A-Aging-Analysis-Notebooks/Mansi_Notebooks/scRNA/Pathway_analysis/psb_subsets/subset_Core CD14 monocyte.h5ad'\n",
       "3. '/home/jupyter/IH-A-Aging-Analysis-Notebooks/Mansi_Notebooks/scRNA/Pathway_analysis/psb_subsets/subset_Core CD16 monocyte.h5ad'\n",
       "4. '/home/jupyter/IH-A-Aging-Analysis-Notebooks/Mansi_Notebooks/scRNA/Pathway_analysis/psb_subsets/subset_IL1B+ CD14 monocyte.h5ad'\n",
       "5. '/home/jupyter/IH-A-Aging-Analysis-Notebooks/Mansi_Notebooks/scRNA/Pathway_analysis/psb_subsets/subset_Intermediate monocyte.h5ad'\n",
       "6. '/home/jupyter/IH-A-Aging-Analysis-Notebooks/Mansi_Notebooks/scRNA/Pathway_analysis/psb_subsets/subset_ISG+ CD14 monocyte.h5ad'\n",
       "7. '/home/jupyter/IH-A-Aging-Analysis-Notebooks/Mansi_Notebooks/scRNA/Pathway_analysis/psb_subsets/subset_ISG+ CD16 monocyte.h5ad'\n",
       "\n",
       "\n"
      ],
      "text/plain": [
       "[1] \"/home/jupyter/IH-A-Aging-Analysis-Notebooks/Mansi_Notebooks/scRNA/Pathway_analysis/psb_subsets/subset_C1Q+ CD16 monocyte.h5ad\"   \n",
       "[2] \"/home/jupyter/IH-A-Aging-Analysis-Notebooks/Mansi_Notebooks/scRNA/Pathway_analysis/psb_subsets/subset_Core CD14 monocyte.h5ad\"   \n",
       "[3] \"/home/jupyter/IH-A-Aging-Analysis-Notebooks/Mansi_Notebooks/scRNA/Pathway_analysis/psb_subsets/subset_Core CD16 monocyte.h5ad\"   \n",
       "[4] \"/home/jupyter/IH-A-Aging-Analysis-Notebooks/Mansi_Notebooks/scRNA/Pathway_analysis/psb_subsets/subset_IL1B+ CD14 monocyte.h5ad\"  \n",
       "[5] \"/home/jupyter/IH-A-Aging-Analysis-Notebooks/Mansi_Notebooks/scRNA/Pathway_analysis/psb_subsets/subset_Intermediate monocyte.h5ad\"\n",
       "[6] \"/home/jupyter/IH-A-Aging-Analysis-Notebooks/Mansi_Notebooks/scRNA/Pathway_analysis/psb_subsets/subset_ISG+ CD14 monocyte.h5ad\"   \n",
       "[7] \"/home/jupyter/IH-A-Aging-Analysis-Notebooks/Mansi_Notebooks/scRNA/Pathway_analysis/psb_subsets/subset_ISG+ CD16 monocyte.h5ad\"   "
      ]
     },
     "metadata": {},
     "output_type": "display_data"
    }
   ],
   "source": [
    "file_list"
   ]
  },
  {
   "cell_type": "code",
   "execution_count": 7,
   "id": "0b209189-0ccc-45a6-bfe2-18cc6b91598a",
   "metadata": {
    "tags": []
   },
   "outputs": [
    {
     "data": {
      "text/plain": [
       "Time difference of 6.573104 secs"
      ]
     },
     "metadata": {},
     "output_type": "display_data"
    }
   ],
   "source": [
    "start_time <- Sys.time()\n",
    "process_file <- function(file_path) {\n",
    "  ad <- anndata::read_h5ad(file_path)\n",
    "  data_matrix <- t(ad$X)\n",
    "  data_matrix <- as.data.frame(data_matrix)\n",
    "  rownames(data_matrix) <- ad$var_names\n",
    "  colnames(data_matrix) <- ad$obs[['pbmc_sample_id']]\n",
    "  return(data_matrix)\n",
    "}\n",
    " \n",
    "data_frames <- list()\n",
    "for (file_path in file_list) {\n",
    "  file_name <- tools::file_path_sans_ext(basename(file_path))\n",
    "  data_frames[[file_name]] <- process_file(file_path)\n",
    "}\n",
    "end_time <- Sys.time()\n",
    "end_time - start_time"
   ]
  },
  {
   "cell_type": "code",
   "execution_count": 8,
   "id": "15d67d90-37cd-45cc-968c-de5ef46fc0fd",
   "metadata": {
    "tags": []
   },
   "outputs": [],
   "source": [
    "#TMM\n",
    "process_dataframe <- function(df) {\n",
    "  counts <- as.matrix(df)\n",
    "  dge <- DGEList(counts, remove.zeros = TRUE)\n",
    "  dge <- calcNormFactors(object = dge, method=\"TMM\")\n",
    "#  dge <- calcNormFactors(object = dge, method=\"upperquartile\")\n",
    "  normCounts <- cpm(dge, normalized.lib.sizes=TRUE)\n",
    "  return(as.data.frame(normCounts))\n",
    "}"
   ]
  },
  {
   "cell_type": "code",
   "execution_count": 9,
   "id": "4c5f4131-e19b-48d6-8e94-c25cd41e2fe1",
   "metadata": {
    "tags": []
   },
   "outputs": [
    {
     "data": {
      "text/plain": [
       "Time difference of 6.34944 secs"
      ]
     },
     "metadata": {},
     "output_type": "display_data"
    }
   ],
   "source": [
    "start_time <- Sys.time()\n",
    "norm_data_frames <- list()\n",
    "for (i in seq_along(data_frames)) {\n",
    "  file_name <- names(data_frames)[i]\n",
    "  processed_df <- process_dataframe(data_frames[[i]])\n",
    "  norm_data_frames[[file_name]] <- processed_df\n",
    "}\n",
    "end_time <- Sys.time()\n",
    "end_time - start_time"
   ]
  },
  {
   "cell_type": "code",
   "execution_count": 10,
   "id": "b8934d69-79a7-472f-b84f-651d72409344",
   "metadata": {
    "tags": []
   },
   "outputs": [
    {
     "ename": "ERROR",
     "evalue": "Error in parse(text = x, srcfile = src): <text>:10:1: unexpected symbol\n9: # Create a mapping from existing names to new names\n10: name_mapping\n    ^\n",
     "output_type": "error",
     "traceback": [
      "Error in parse(text = x, srcfile = src): <text>:10:1: unexpected symbol\n9: # Create a mapping from existing names to new names\n10: name_mapping\n    ^\nTraceback:\n"
     ]
    }
   ],
   "source": [
    "#change column names in each dataframe to subjectGUID_timepoint\n",
    "\n",
    "# Load the Metadata\n",
    "metadata <- read.csv(\"/home/jupyter/IH-A-Aging-Analysis-Notebooks/Qiuyu-Notebooks/scRNA/hise_meta_data_2024-01-23_fixed.csv\")\n",
    "\n",
    "# Replace empty characters in 'subject.subjectGuid' and 'sample.visitName' with \"_\"\n",
    "metadata$subject.subjectGuid <- gsub(\" \", \"_\", metadatasample.visitName <- gsub(\" \", \"_\", metadata$sample.visitName)\n",
    "\n",
    "# Create a mapping from existing names to new names\n",
    "name_mapping <- setNames(paste(metadatasample.visitName, sep=\"_\"), metadata$pbmc_sample_id)\n",
    "\n",
    "# Handle the case where both fields are \"_\", resulting in \"__\"\n",
    "name_mapping[name_mapping == \"__\"] <- \"_\"\n",
    "\n",
    "# Rename Columns in Each DataFrame\n",
    "for (file_name in names(norm_data_frames)) {\n",
    "  df <- norm_data_frames[[file_name]]\n",
    "  # Only rename columns that exist in both the dataframe and the name mapping\n",
    "  common_names <- intersect(names(df), names(name_mapping))\n",
    "  names(df)[names(df) %in% common_names] <- name_mapping[common_names]\n",
    "  norm_data_frames[[file_name]] <- df\n",
    "}"
   ]
  },
  {
   "cell_type": "code",
   "execution_count": 12,
   "id": "5c42bdfc-1cd3-473e-923a-3e0f3688c545",
   "metadata": {
    "tags": []
   },
   "outputs": [
    {
     "ename": "ERROR",
     "evalue": "Error in metadata.head(): could not find function \"metadata.head\"\n",
     "output_type": "error",
     "traceback": [
      "Error in metadata.head(): could not find function \"metadata.head\"\nTraceback:\n"
     ]
    }
   ],
   "source": []
  },
  {
   "cell_type": "code",
   "execution_count": null,
   "id": "e892c073-bf32-49bd-be6b-539836a66c8c",
   "metadata": {},
   "outputs": [],
   "source": []
  }
 ],
 "metadata": {
  "kernelspec": {
   "display_name": "R 4",
   "language": "R",
   "name": "ir4"
  },
  "language_info": {
   "codemirror_mode": "r",
   "file_extension": ".r",
   "mimetype": "text/x-r-source",
   "name": "R",
   "pygments_lexer": "r",
   "version": "4.3.1"
  }
 },
 "nbformat": 4,
 "nbformat_minor": 5
}
