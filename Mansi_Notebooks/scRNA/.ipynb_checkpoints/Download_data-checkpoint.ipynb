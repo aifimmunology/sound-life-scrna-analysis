{
 "cells": [
  {
   "cell_type": "code",
   "execution_count": 1,
   "id": "d135a2a0-4f9c-40bc-9c72-f9e03361e02f",
   "metadata": {
    "tags": []
   },
   "outputs": [],
   "source": [
    "library(hise)"
   ]
  },
  {
   "cell_type": "code",
   "execution_count": 4,
   "id": "678c34f7-4ae0-4b13-97fc-d9411581cf0d",
   "metadata": {
    "tags": []
   },
   "outputs": [],
   "source": [
    "cacheFiles_new <- function(uuids, target_folder) {\n",
    "    cacheFiles(uuids)\n",
    "  if (!dir.exists(target_folder)) {\n",
    "    dir.create(target_folder, recursive = TRUE)\n",
    "  }\n",
    "  for (uuid in uuids) {\n",
    "    source_folder <- paste0(\"cache/\", uuid, '/')\n",
    "    \n",
    "    files_in_folder <- list.files(source_folder, full.names = TRUE)\n",
    "    \n",
    "    for (file_path in files_in_folder) {\n",
    "      file_name <- basename(file_path)\n",
    "      \n",
    "      target_path <- file.path(target_folder, file_name)\n",
    "      \n",
    "      file.rename(file_path, target_path)\n",
    "    }\n",
    "    \n",
    "    unlink(source_folder, recursive = TRUE, force = FALSE)\n",
    "  }\n",
    "}\n"
   ]
  },
  {
   "cell_type": "code",
   "execution_count": 5,
   "id": "46acdb1b-e120-433d-bcd0-14210ca0032e",
   "metadata": {
    "tags": []
   },
   "outputs": [
    {
     "name": "stdout",
     "output_type": "stream",
     "text": [
      "[1] \"Authorization token invalid or expired.\"\n",
      "[1] \"Attempting retry...\"\n",
      "[1] \"Initiating file download for ref_pbmc_clean_celltypist_model_AIFI_L1_2024-03-09.pkl\"\n",
      "[1] \"Download successful.\"\n",
      "[1] \"Initiating file download for ref_pbmc_clean_celltypist_model_AIFI_L3_2024-03-11.pkl\"\n",
      "[1] \"Download successful.\"\n",
      "[1] \"Initiating file download for ref_pbmc_clean_celltypist_model_AIFI_L2_2024-03-10.pkl\"\n",
      "[1] \"Download successful.\"\n"
     ]
    }
   ],
   "source": [
    "uuid <- list(\"54d9399c-3bfd-4619-a32d-8c7f3c0911f6\", \"d18fe8b3-b8e7-4b25-9966-0c05a1ba9d7a\", \"e2898db9-e121-4263-b0c6-a19eadd4217a\")\n",
    "target_folder <- \"/home/jupyter/BRI_Analysis/scRNA/AIFI_Model_Celltypist_CertPro\"\n",
    "cacheFiles_new(uuid, target_folder)"
   ]
  },
  {
   "cell_type": "code",
   "execution_count": null,
   "id": "bcd7ef85-72ce-4a95-8cc8-657a194a5ffb",
   "metadata": {},
   "outputs": [],
   "source": []
  }
 ],
 "metadata": {
  "kernelspec": {
   "display_name": "R 4",
   "language": "R",
   "name": "ir4"
  },
  "language_info": {
   "codemirror_mode": "r",
   "file_extension": ".r",
   "mimetype": "text/x-r-source",
   "name": "R",
   "pygments_lexer": "r",
   "version": "4.3.1"
  }
 },
 "nbformat": 4,
 "nbformat_minor": 5
}
