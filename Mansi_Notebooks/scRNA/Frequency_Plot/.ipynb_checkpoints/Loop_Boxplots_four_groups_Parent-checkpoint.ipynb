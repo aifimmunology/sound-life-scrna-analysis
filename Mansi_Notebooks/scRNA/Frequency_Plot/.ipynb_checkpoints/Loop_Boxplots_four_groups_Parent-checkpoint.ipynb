{
 "cells": [
  {
   "cell_type": "code",
   "execution_count": 2,
   "id": "606e7c5d-7931-49dc-87cc-5b9f1056abe6",
   "metadata": {
    "tags": []
   },
   "outputs": [
    {
     "ename": "ERROR",
     "evalue": "Error in library(compositions): there is no package called ‘compositions’\n",
     "output_type": "error",
     "traceback": [
      "Error in library(compositions): there is no package called ‘compositions’\nTraceback:\n",
      "1. library(compositions)"
     ]
    }
   ],
   "source": [
    "suppressPackageStartupMessages(library(readxl))\n",
    "suppressPackageStartupMessages(library(dplyr))\n",
    "suppressPackageStartupMessages(library(tidyr))\n",
    "suppressPackageStartupMessages(library(tibble))\n",
    "suppressPackageStartupMessages(library(patchwork))\n",
    "suppressPackageStartupMessages(library(pheatmap))\n",
    "suppressPackageStartupMessages(library(stringr))\n",
    "library(hise)\n",
    "library(plyr)\n",
    "library(purrr)\n",
    "library(vegan)\n",
    "#library(arrow)\n",
    "library(rstatix)\n",
    "library(parallel)\n",
    "library(ggpubr)\n",
    "library(ComplexHeatmap)\n",
    "library(compositions)\n",
    "library(ggsci)\n",
    "library(ggpubr)"
   ]
  },
  {
   "cell_type": "code",
   "execution_count": null,
   "id": "a7a75c59-cefa-480e-8338-ea97362e27da",
   "metadata": {
    "tags": []
   },
   "outputs": [],
   "source": [
    "colors = c('#FDC086','#FFFF99','#F0027F','#BF5B17','#666666',\n",
    "          '#1B9E77','#D95F02','#7570B3','#E7298A','#66A61E','#E6AB02','#A6761D','#666666',\n",
    "          '#A6CEE3','#1F78B4','#B2DF8A','#33A02C','#FB9A99','#E31A1C','#FDBF6F','#FF7F00',\n",
    "          '#CAB2D6','#6A3D9A','#FFFF99','#B15928','#FBB4AE','#B3CDE3','#CCEBC5','#DECBE4',\n",
    "          '#FED9A6','#FFFFCC','#E5D8BD','#FDDAEC','#F2F2F2','#B3E2CD','#FDCDAC','#CBD5E8',\n",
    "          '#F4CAE4','#E6F5C9','#FFF2AE','#F1E2CC','#CCCCCC','#E41A1C','#377EB8','#4DAF4A',\n",
    "          '#984EA3','#FF7F00','#FFFF33','#A65628','#F781BF','#999999','#66C2A5','#FC8D62',\n",
    "          '#8DA0CB','#E78AC3','#A6D854','#FFD92F','#E5C494','#B3B3B3','#8DD3C7','#FFFFB3',\n",
    "          '#BEBADA','#FB8072','#80B1D3','#FDB462','#B3DE69','#FCCDE5','#D9D9D9','#BC80BD',\n",
    "          '#CCEBC5','#FFED6F')\n"
   ]
  },
  {
   "cell_type": "markdown",
   "id": "0ff759eb-ec5b-4e01-836e-b7945c883f9c",
   "metadata": {
    "tags": []
   },
   "source": [
    "# Reading the file"
   ]
  },
  {
   "cell_type": "code",
   "execution_count": 3,
   "id": "61ada284-435e-4273-9717-8e7e2a24bb30",
   "metadata": {
    "tags": []
   },
   "outputs": [],
   "source": [
    "# Read the CSV file into a data frame\n",
    "all_df <- read.csv('/home/jupyter/Myeloid_cells/files/Parquet_files/AIFI_Reference_processed.csv')\n"
   ]
  },
  {
   "cell_type": "code",
   "execution_count": 4,
   "id": "9bb8d273-561e-46b3-9960-aa9cc2c2cd03",
   "metadata": {
    "tags": []
   },
   "outputs": [],
   "source": [
    "#remove UPI from the cohort\n",
    "all_df <- all_df %>% filter(cohort.cohortGuid != 'UP1')"
   ]
  },
  {
   "cell_type": "code",
   "execution_count": null,
   "id": "753e2e5a-0a26-4eec-82a5-688e9bf88493",
   "metadata": {},
   "outputs": [],
   "source": [
    "all_df <- all_df %>%\n",
    "  filter(!(AIFI_l3 %in% c('ILC', 'Erythrocyte', 'Platelet')))"
   ]
  },
  {
   "cell_type": "code",
   "execution_count": 5,
   "id": "0a4fb9a9-8d5c-4bfc-bb5f-252d37d38817",
   "metadata": {
    "tags": []
   },
   "outputs": [],
   "source": [
    "#colnames(myeloid_df)"
   ]
  },
  {
   "cell_type": "code",
   "execution_count": 6,
   "id": "ccff6e77-d978-475b-9938-03dbc38fc4b4",
   "metadata": {
    "tags": []
   },
   "outputs": [],
   "source": [
    "rownames(all_df)<-all_df$cell_uuid"
   ]
  },
  {
   "cell_type": "code",
   "execution_count": null,
   "id": "fbe1408c-64e5-4884-8253-64ebe821ddec",
   "metadata": {},
   "outputs": [],
   "source": []
  },
  {
   "cell_type": "markdown",
   "id": "25c7b766-26d5-40ec-bae7-ccf1f06189ff",
   "metadata": {},
   "source": [
    "# CLR Transform\n"
   ]
  },
  {
   "cell_type": "code",
   "execution_count": 7,
   "id": "74d7fcf0-2100-4733-a4aa-aaa795a471ca",
   "metadata": {
    "tags": []
   },
   "outputs": [],
   "source": [
    "clr_transform <- function(x) {\n",
    "  if (length(x) == 0) {\n",
    "    return(NA)  # return NA for empty vectors\n",
    "  }\n",
    "  geom_mean <- exp(mean(log(x)))\n",
    "  return(log(x / geom_mean))\n",
    "}"
   ]
  },
  {
   "cell_type": "code",
   "execution_count": null,
   "id": "0afdf619-4597-4612-9762-bb7f0d767f7d",
   "metadata": {
    "tags": []
   },
   "outputs": [],
   "source": [
    "#example code\n",
    "columns = ['temperature','humidity' ,'pressure','rain' ,'lightavgw/o0','lightmax','moisture']\n",
    "for col in columns:\n",
    "    plt.figure()   # plots figure for each iteration\n",
    "    plt.boxplot(df[col])"
   ]
  },
  {
   "cell_type": "markdown",
   "id": "d33880ea-cfb5-49f3-af6f-5170d89a076f",
   "metadata": {},
   "source": [
    "# Comparsion within total PBMCs (Percentage and Percentage CLR)"
   ]
  },
  {
   "cell_type": "code",
   "execution_count": null,
   "id": "4add7441-be7a-4849-9655-60346b88c428",
   "metadata": {
    "tags": []
   },
   "outputs": [],
   "source": [
    "## Percentage of total\n",
    "\n",
    "result <- all_df %>%\n",
    "  dplyr::group_by(AIFI_L3, subject.subjectGuid) %>%               \n",
    "  dplyr::summarise(count = n()) %>%                  # Count occurrences\n",
    "  dplyr::group_by(subject.subjectGuid) %>%                       \n",
    "  dplyr::mutate(percentage = (count / sum(count)) * 100) %>% \n",
    "  dplyr::group_by(subject.subjectGuid) %>%     \n",
    "  dplyr::mutate(percentage_clr = clr_transform((percentage))) %>% # Group again by subjectGuid for CLR# Calculate percentage\n",
    "  dplyr::ungroup()\n",
    "\n",
    "head(result)\n",
    "#sum(result$subject.subjectGuid)"
   ]
  },
  {
   "cell_type": "code",
   "execution_count": null,
   "id": "4d3e538e-af38-4cd8-9f56-728942391476",
   "metadata": {
    "tags": []
   },
   "outputs": [],
   "source": [
    "result %>% filter(subject.subjectGuid == \"BR1001\") %>% \n",
    "      select(percentage) %>%\n",
    "      pull() %>% \n",
    "      sum()"
   ]
  },
  {
   "cell_type": "code",
   "execution_count": null,
   "id": "aff3c477-004d-470a-aac8-4901b3decd0a",
   "metadata": {
    "tags": []
   },
   "outputs": [],
   "source": [
    "result<-left_join(result,unique(all_df[c('cohort.cohortGuid','subject.subjectGuid','subject.biologicalSex','CMV.IgG.Serology.Result.Interpretation')]),by=c('subject.subjectGuid'))"
   ]
  },
  {
   "cell_type": "code",
   "execution_count": null,
   "id": "d31da6d6-e93a-4397-af76-d18147edd512",
   "metadata": {
    "tags": []
   },
   "outputs": [],
   "source": [
    "head(result)\n"
   ]
  },
  {
   "cell_type": "code",
   "execution_count": null,
   "id": "ff6135e7-38ac-4e10-8441-576e34825835",
   "metadata": {
    "tags": []
   },
   "outputs": [],
   "source": [
    "table(result$AIFI_L3)"
   ]
  },
  {
   "cell_type": "markdown",
   "id": "696d50e4-faf5-4530-b0bd-eb4e273efa25",
   "metadata": {},
   "source": [
    "# Specific cell types (Parent)"
   ]
  },
  {
   "cell_type": "code",
   "execution_count": null,
   "id": "6c5cfe51-ee7c-43b8-b567-5bb50646bbb5",
   "metadata": {
    "tags": []
   },
   "outputs": [],
   "source": [
    "cell = \"T cell\""
   ]
  },
  {
   "cell_type": "code",
   "execution_count": null,
   "id": "9e8d86c8-dfd1-43b9-9ff1-ece3bd40d8ac",
   "metadata": {
    "tags": []
   },
   "outputs": [],
   "source": [
    "cell_df <- all_df %>% dplyr::filter(AIFI_L1 == cell)\n"
   ]
  },
  {
   "cell_type": "code",
   "execution_count": null,
   "id": "9660e8d6-18d8-4ec1-b387-91b4692c9cc7",
   "metadata": {
    "tags": []
   },
   "outputs": [],
   "source": [
    "head(cell_df)"
   ]
  },
  {
   "cell_type": "code",
   "execution_count": null,
   "id": "65651a30-5e45-425a-84f0-61f29529fcfc",
   "metadata": {
    "tags": []
   },
   "outputs": [],
   "source": [
    "result_final <- cell_df %>%\n",
    "  dplyr::group_by(AIFI_L3, subject.subjectGuid) %>%               \n",
    "  dplyr::summarise(count = n()) %>%                  # Count occurrences\n",
    "  dplyr::group_by(subject.subjectGuid) %>%                       \n",
    "  dplyr::mutate(percentage = (count / sum(count)) * 100) %>% \n",
    "  dplyr::group_by(subject.subjectGuid) %>%     \n",
    "  dplyr::mutate(percentage_clr = clr_transform((percentage))) %>% # Group again by subjectGuid for CLR# Calculate percentage\n",
    "  dplyr::ungroup()\n",
    "\n",
    "\n"
   ]
  },
  {
   "cell_type": "code",
   "execution_count": null,
   "id": "8a842abe-61f4-4829-b722-711cc80bcb8c",
   "metadata": {
    "tags": []
   },
   "outputs": [],
   "source": [
    "head(result_final)"
   ]
  },
  {
   "cell_type": "code",
   "execution_count": null,
   "id": "856af8c4-96e4-437e-b3ad-ee327221fc41",
   "metadata": {
    "tags": []
   },
   "outputs": [],
   "source": [
    "result_final<-left_join(result_final,unique(all_df[c('cohort.cohortGuid','subject.subjectGuid','subject.biologicalSex','CMV.IgG.Serology.Result.Interpretation')]),by=c('subject.subjectGuid'))"
   ]
  },
  {
   "cell_type": "code",
   "execution_count": null,
   "id": "c724bee3-07ef-425f-85e6-125636a5ecf2",
   "metadata": {
    "tags": []
   },
   "outputs": [],
   "source": [
    "result_final$facet_combined <- paste(result_final$cohort.cohortGuid, result_final$CMV.IgG.Serology.Result.Interpretation, sep = \"_\")\n",
    "result_final$facet_combined<- factor(result_final$facet_combined)"
   ]
  },
  {
   "cell_type": "code",
   "execution_count": null,
   "id": "18bbc58a-873e-43da-a5fb-d406db3b9309",
   "metadata": {
    "tags": []
   },
   "outputs": [],
   "source": [
    "head(result_final)"
   ]
  },
  {
   "cell_type": "code",
   "execution_count": null,
   "id": "e2816708-ac93-4939-808a-33c416dea326",
   "metadata": {},
   "outputs": [],
   "source": [
    "#New loop"
   ]
  },
  {
   "cell_type": "code",
   "execution_count": null,
   "id": "d651da50-a4d0-43b8-ac00-e606e70d167e",
   "metadata": {
    "tags": []
   },
   "outputs": [],
   "source": [
    "cell_L3 = \"CD4 MAIT\""
   ]
  },
  {
   "cell_type": "code",
   "execution_count": null,
   "id": "240cc83a-9ab6-4398-85fb-256bdb1eeb3e",
   "metadata": {
    "tags": []
   },
   "outputs": [],
   "source": [
    "L3_df <- result_final %>% dplyr::filter(AIFI_L3 == \"CD4 MAIT\")"
   ]
  },
  {
   "cell_type": "code",
   "execution_count": null,
   "id": "f148c12e-4688-4cfd-9499-8825736b6991",
   "metadata": {
    "tags": []
   },
   "outputs": [],
   "source": [
    "head(L3_df)"
   ]
  },
  {
   "cell_type": "code",
   "execution_count": null,
   "id": "848e5cc6-c4dd-4061-bf25-6cb4ad5e8efb",
   "metadata": {
    "tags": []
   },
   "outputs": [],
   "source": [
    "stat_test <- wilcox_test(percentage ~ facet_combined, data = L3_df, comparisons = my_comparisons, paired= FALSE)%>% \n",
    "       adjust_pvalue(method = 'BH') %>% \n",
    "       add_xy_position(x = \"facet_combined\", dodge = 0.8)"
   ]
  },
  {
   "cell_type": "code",
   "execution_count": null,
   "id": "5702e2f1-9c99-49bb-9ea4-c04088bb82fd",
   "metadata": {
    "tags": []
   },
   "outputs": [],
   "source": [
    "head(stat_test)"
   ]
  },
  {
   "cell_type": "code",
   "execution_count": null,
   "id": "f16ccba6-b350-4887-8d14-dfe0b2e8fde3",
   "metadata": {
    "tags": []
   },
   "outputs": [],
   "source": [
    " outfile <- paste(\"/home/jupyter/Myeloid_cells/Plots/CLR_Comparisons_cohort_&_CMV_Parent/CLR_Comparisons_cohort_&_CMV_parent_TEST\", cell_L3, \".pdf\", sep=\"\")\n",
    "    options(repr.plot.width = 18, repr.plot.height = 10)\n",
    "    p3 <- ggplot(L3_df, aes(x = facet_combined, y = percentage_clr, color = CMV.IgG.Serology.Result.Interpretation)) +\n",
    "      geom_boxplot(width = 0.5, outlier.shape = NA) +\n",
    "      geom_jitter(width =0.1) +\n",
    "      ylab('percentage_clr') + \n",
    "      xlab(cell) +\n",
    "      scale_color_manual(values = c(\"green\", \"red\", \"orange\", \"blue\")) +\n",
    "      theme(axis.text.x = element_text(size = 12, angle = 90 ),     # Adjust font size of x-axis text\n",
    "            axis.text.y = element_text(size = 12),     # Adjust font size of y-axis text\n",
    "            axis.title = element_text(size = 14),\n",
    "            panel.background = element_rect(fill = \"white\"),\n",
    "            axis.line = element_line(color = \"black\"),  # Set axis line color to black,  # Set major grid line color to black\n",
    "            panel.grid.minor = element_blank(),\n",
    "            legend.position = \"top\",  # Set legend position to top\n",
    "            #legend.title = element_blank()\n",
    "           ) +\n",
    "      geom_boxplot(position = position_dodge(width = 1))+\n",
    "      stat_pvalue_manual(stat_test, label = \"p.adj.signif\", tip.length = 0) +\n",
    "      scale_y_continuous(expand = expansion(mult = c(0, 0.1)))\n",
    "      pdf(file = outfile, width = 7, height = 11)\n",
    "      print(p3)\n",
    "      dev.off()\n",
    "\n"
   ]
  },
  {
   "cell_type": "code",
   "execution_count": null,
   "id": "d7c4885c-89db-4d54-bbfc-6d260028f00c",
   "metadata": {},
   "outputs": [],
   "source": []
  },
  {
   "cell_type": "code",
   "execution_count": 21,
   "id": "9d27a1c6-d791-415c-ab59-7a27a009ee85",
   "metadata": {},
   "outputs": [
    {
     "data": {
      "text/html": [
       "<style>\n",
       ".list-inline {list-style: none; margin:0; padding: 0}\n",
       ".list-inline>li {display: inline-block}\n",
       ".list-inline>li:not(:last-child)::after {content: \"\\00b7\"; padding: 0 .5ex}\n",
       "</style>\n",
       "<ol class=list-inline><li>'T cell'</li><li>'NK cell'</li><li>'ILC'</li><li>'Monocyte'</li><li>'DC'</li><li>'Progenitor cell'</li><li>'Platelet'</li><li>'Erythrocyte'</li><li>'B cell'</li></ol>\n"
      ],
      "text/latex": [
       "\\begin{enumerate*}\n",
       "\\item 'T cell'\n",
       "\\item 'NK cell'\n",
       "\\item 'ILC'\n",
       "\\item 'Monocyte'\n",
       "\\item 'DC'\n",
       "\\item 'Progenitor cell'\n",
       "\\item 'Platelet'\n",
       "\\item 'Erythrocyte'\n",
       "\\item 'B cell'\n",
       "\\end{enumerate*}\n"
      ],
      "text/markdown": [
       "1. 'T cell'\n",
       "2. 'NK cell'\n",
       "3. 'ILC'\n",
       "4. 'Monocyte'\n",
       "5. 'DC'\n",
       "6. 'Progenitor cell'\n",
       "7. 'Platelet'\n",
       "8. 'Erythrocyte'\n",
       "9. 'B cell'\n",
       "\n",
       "\n"
      ],
      "text/plain": [
       "[1] \"T cell\"          \"NK cell\"         \"ILC\"             \"Monocyte\"       \n",
       "[5] \"DC\"              \"Progenitor cell\" \"Platelet\"        \"Erythrocyte\"    \n",
       "[9] \"B cell\"         "
      ]
     },
     "metadata": {},
     "output_type": "display_data"
    },
    {
     "data": {
      "text/html": [
       "<style>\n",
       ".list-inline {list-style: none; margin:0; padding: 0}\n",
       ".list-inline>li {display: inline-block}\n",
       ".list-inline>li:not(:last-child)::after {content: \"\\00b7\"; padding: 0 .5ex}\n",
       "</style>\n",
       "<ol class=list-inline><li>'CD4 MAIT'</li><li>'CD8 MAIT'</li><li>'CD8aa'</li><li>'CM CD4 T cell'</li><li>'CM CD8 T cell'</li><li>'Core naive CD4 T cell'</li><li>'Core naive CD8 T cell '</li><li>'DN T cell'</li><li>'GZMB+ Vd2 gdT'</li><li>'GZMB- CD27+ EM CD4 T cell'</li><li>'GZMB- CD27- EM CD4 T cell'</li><li>'GZMK+ CD27+ EM CD8 T cell'</li><li>'GZMK+ Vd2 gdT'</li><li>'GZMK+ memory CD4 Treg'</li><li>'GZMK- CD27+ EM CD8 T cell'</li><li>'ISG+ MAIT'</li><li>'ISG+ memory CD4 T cell'</li><li>'ISG+ memory CD8 T cell'</li><li>'ISG+ naive CD4 T cell'</li><li>'ISG+ naive CD8 T cell'</li><li>'KLRB1+ memory CD4 Treg'</li><li>'KLRB1+ memory CD8 Treg'</li><li>'KLRF1+ GZMB+ CD27- EM CD8 T cell'</li><li>'KLRF1+ effector Vd1 gdT'</li><li>'KLRF1- GZMB+ CD27- EM CD8 T cell'</li><li>'KLRF1- GZMB+ CD27- memory CD4 T cell'</li><li>'KLRF1- effector Vd1 gdT'</li><li>'Memory CD4 Treg'</li><li>'Memory CD8 Treg'</li><li>'Naive CD4 Treg'</li><li>'Naive Vd1 gdT'</li><li>'Proliferating T cell'</li><li>'SOX4+ Vd1 gdT'</li><li>'SOX4+ naive CD4 T cell'</li><li>'SOX4+ naive CD8 T cell'</li></ol>\n"
      ],
      "text/latex": [
       "\\begin{enumerate*}\n",
       "\\item 'CD4 MAIT'\n",
       "\\item 'CD8 MAIT'\n",
       "\\item 'CD8aa'\n",
       "\\item 'CM CD4 T cell'\n",
       "\\item 'CM CD8 T cell'\n",
       "\\item 'Core naive CD4 T cell'\n",
       "\\item 'Core naive CD8 T cell '\n",
       "\\item 'DN T cell'\n",
       "\\item 'GZMB+ Vd2 gdT'\n",
       "\\item 'GZMB- CD27+ EM CD4 T cell'\n",
       "\\item 'GZMB- CD27- EM CD4 T cell'\n",
       "\\item 'GZMK+ CD27+ EM CD8 T cell'\n",
       "\\item 'GZMK+ Vd2 gdT'\n",
       "\\item 'GZMK+ memory CD4 Treg'\n",
       "\\item 'GZMK- CD27+ EM CD8 T cell'\n",
       "\\item 'ISG+ MAIT'\n",
       "\\item 'ISG+ memory CD4 T cell'\n",
       "\\item 'ISG+ memory CD8 T cell'\n",
       "\\item 'ISG+ naive CD4 T cell'\n",
       "\\item 'ISG+ naive CD8 T cell'\n",
       "\\item 'KLRB1+ memory CD4 Treg'\n",
       "\\item 'KLRB1+ memory CD8 Treg'\n",
       "\\item 'KLRF1+ GZMB+ CD27- EM CD8 T cell'\n",
       "\\item 'KLRF1+ effector Vd1 gdT'\n",
       "\\item 'KLRF1- GZMB+ CD27- EM CD8 T cell'\n",
       "\\item 'KLRF1- GZMB+ CD27- memory CD4 T cell'\n",
       "\\item 'KLRF1- effector Vd1 gdT'\n",
       "\\item 'Memory CD4 Treg'\n",
       "\\item 'Memory CD8 Treg'\n",
       "\\item 'Naive CD4 Treg'\n",
       "\\item 'Naive Vd1 gdT'\n",
       "\\item 'Proliferating T cell'\n",
       "\\item 'SOX4+ Vd1 gdT'\n",
       "\\item 'SOX4+ naive CD4 T cell'\n",
       "\\item 'SOX4+ naive CD8 T cell'\n",
       "\\end{enumerate*}\n"
      ],
      "text/markdown": [
       "1. 'CD4 MAIT'\n",
       "2. 'CD8 MAIT'\n",
       "3. 'CD8aa'\n",
       "4. 'CM CD4 T cell'\n",
       "5. 'CM CD8 T cell'\n",
       "6. 'Core naive CD4 T cell'\n",
       "7. 'Core naive CD8 T cell '\n",
       "8. 'DN T cell'\n",
       "9. 'GZMB+ Vd2 gdT'\n",
       "10. 'GZMB- CD27+ EM CD4 T cell'\n",
       "11. 'GZMB- CD27- EM CD4 T cell'\n",
       "12. 'GZMK+ CD27+ EM CD8 T cell'\n",
       "13. 'GZMK+ Vd2 gdT'\n",
       "14. 'GZMK+ memory CD4 Treg'\n",
       "15. 'GZMK- CD27+ EM CD8 T cell'\n",
       "16. 'ISG+ MAIT'\n",
       "17. 'ISG+ memory CD4 T cell'\n",
       "18. 'ISG+ memory CD8 T cell'\n",
       "19. 'ISG+ naive CD4 T cell'\n",
       "20. 'ISG+ naive CD8 T cell'\n",
       "21. 'KLRB1+ memory CD4 Treg'\n",
       "22. 'KLRB1+ memory CD8 Treg'\n",
       "23. 'KLRF1+ GZMB+ CD27- EM CD8 T cell'\n",
       "24. 'KLRF1+ effector Vd1 gdT'\n",
       "25. 'KLRF1- GZMB+ CD27- EM CD8 T cell'\n",
       "26. 'KLRF1- GZMB+ CD27- memory CD4 T cell'\n",
       "27. 'KLRF1- effector Vd1 gdT'\n",
       "28. 'Memory CD4 Treg'\n",
       "29. 'Memory CD8 Treg'\n",
       "30. 'Naive CD4 Treg'\n",
       "31. 'Naive Vd1 gdT'\n",
       "32. 'Proliferating T cell'\n",
       "33. 'SOX4+ Vd1 gdT'\n",
       "34. 'SOX4+ naive CD4 T cell'\n",
       "35. 'SOX4+ naive CD8 T cell'\n",
       "\n",
       "\n"
      ],
      "text/plain": [
       " [1] \"CD4 MAIT\"                            \n",
       " [2] \"CD8 MAIT\"                            \n",
       " [3] \"CD8aa\"                               \n",
       " [4] \"CM CD4 T cell\"                       \n",
       " [5] \"CM CD8 T cell\"                       \n",
       " [6] \"Core naive CD4 T cell\"               \n",
       " [7] \"Core naive CD8 T cell \"              \n",
       " [8] \"DN T cell\"                           \n",
       " [9] \"GZMB+ Vd2 gdT\"                       \n",
       "[10] \"GZMB- CD27+ EM CD4 T cell\"           \n",
       "[11] \"GZMB- CD27- EM CD4 T cell\"           \n",
       "[12] \"GZMK+ CD27+ EM CD8 T cell\"           \n",
       "[13] \"GZMK+ Vd2 gdT\"                       \n",
       "[14] \"GZMK+ memory CD4 Treg\"               \n",
       "[15] \"GZMK- CD27+ EM CD8 T cell\"           \n",
       "[16] \"ISG+ MAIT\"                           \n",
       "[17] \"ISG+ memory CD4 T cell\"              \n",
       "[18] \"ISG+ memory CD8 T cell\"              \n",
       "[19] \"ISG+ naive CD4 T cell\"               \n",
       "[20] \"ISG+ naive CD8 T cell\"               \n",
       "[21] \"KLRB1+ memory CD4 Treg\"              \n",
       "[22] \"KLRB1+ memory CD8 Treg\"              \n",
       "[23] \"KLRF1+ GZMB+ CD27- EM CD8 T cell\"    \n",
       "[24] \"KLRF1+ effector Vd1 gdT\"             \n",
       "[25] \"KLRF1- GZMB+ CD27- EM CD8 T cell\"    \n",
       "[26] \"KLRF1- GZMB+ CD27- memory CD4 T cell\"\n",
       "[27] \"KLRF1- effector Vd1 gdT\"             \n",
       "[28] \"Memory CD4 Treg\"                     \n",
       "[29] \"Memory CD8 Treg\"                     \n",
       "[30] \"Naive CD4 Treg\"                      \n",
       "[31] \"Naive Vd1 gdT\"                       \n",
       "[32] \"Proliferating T cell\"                \n",
       "[33] \"SOX4+ Vd1 gdT\"                       \n",
       "[34] \"SOX4+ naive CD4 T cell\"              \n",
       "[35] \"SOX4+ naive CD8 T cell\"              "
      ]
     },
     "metadata": {},
     "output_type": "display_data"
    }
   ],
   "source": [
    "unique_AIFI_L1 <- unique(all_df$AIFI_L1)\n",
    "unique_AIFI_L1\n",
    "unique_AIFI_L3 <- unique(result_final$AIFI_L3)\n",
    "unique_AIFI_L3"
   ]
  },
  {
   "cell_type": "code",
   "execution_count": 24,
   "id": "4b54fd24-f1f6-44ea-b8af-6a01c6cf0972",
   "metadata": {
    "tags": []
   },
   "outputs": [
    {
     "name": "stdout",
     "output_type": "stream",
     "text": [
      "[1] \"T cell\"\n"
     ]
    },
    {
     "name": "stderr",
     "output_type": "stream",
     "text": [
      "\u001b[1m\u001b[22m`summarise()` has grouped output by 'AIFI_L3'. You can override using the\n",
      "`.groups` argument.\n"
     ]
    },
    {
     "name": "stdout",
     "output_type": "stream",
     "text": [
      "[1] \"NK cell\"\n"
     ]
    },
    {
     "name": "stderr",
     "output_type": "stream",
     "text": [
      "\u001b[1m\u001b[22m`summarise()` has grouped output by 'AIFI_L3'. You can override using the\n",
      "`.groups` argument.\n"
     ]
    },
    {
     "name": "stdout",
     "output_type": "stream",
     "text": [
      "[1] \"ILC\"\n"
     ]
    },
    {
     "name": "stderr",
     "output_type": "stream",
     "text": [
      "\u001b[1m\u001b[22m`summarise()` has grouped output by 'AIFI_L3'. You can override using the\n",
      "`.groups` argument.\n"
     ]
    },
    {
     "ename": "ERROR",
     "evalue": "\u001b[1m\u001b[33mError\u001b[39m in `map()`:\u001b[22m\n\u001b[1m\u001b[22m\u001b[36mℹ\u001b[39m In index: 1.\n\u001b[1mCaused by error in `if (f.lower <= 0) ...`:\u001b[22m\n\u001b[33m!\u001b[39m missing value where TRUE/FALSE needed\n",
     "output_type": "error",
     "traceback": [
      "\u001b[1m\u001b[33mError\u001b[39m in `map()`:\u001b[22m\n\u001b[1m\u001b[22m\u001b[36mℹ\u001b[39m In index: 1.\n\u001b[1mCaused by error in `if (f.lower <= 0) ...`:\u001b[22m\n\u001b[33m!\u001b[39m missing value where TRUE/FALSE needed\nTraceback:\n",
      "1. wilcox_test(percentage ~ facet_combined, data = L3_df, comparisons = my_comparisons, \n .     paired = FALSE) %>% adjust_pvalue(method = \"BH\") %>% add_xy_position(x = \"facet_combined\", \n .     dodge = 0.8)",
      "2. add_xy_position(., x = \"facet_combined\", dodge = 0.8)",
      "3. test %>% add_y_position(fun = fun, step.increase = step.increase, \n .     stack = stack, scales = scales, ...) %>% add_x_position(x = x, \n .     group = group, dodge = dodge)",
      "4. add_x_position(., x = x, group = group, dodge = dodge)",
      "5. asserttat_group_columns_exists(test)",
      "6. c(\"group1\", \"group2\") %in% colnames(data)",
      "7. colnames(data)",
      "8. is.data.frame(x)",
      "9. add_y_position(., fun = fun, step.increase = step.increase, stack = stack, \n .     scales = scales, ...)",
      "10. asserttat_group_columns_exists(test)",
      "11. c(\"group1\", \"group2\") %in% colnames(data)",
      "12. colnames(data)",
      "13. is.data.frame(x)",
      "14. adjust_pvalue(., method = \"BH\")",
      "15. is_grouped_df(data)",
      "16. wilcox_test(percentage ~ facet_combined, data = L3_df, comparisons = my_comparisons, \n  .     paired = FALSE)",
      "17. do.call(test.func, params) %>% set_attrs(args = args) %>% add_class(c(\"rstatix_test\", \n  .     \"wilcox_test\"))",
      "18. add_class(., c(\"rstatix_test\", \"wilcox_test\"))",
      "19. unique(c(.class, class(x)))",
      "20. set_attrs(., args = args)",
      "21. do.call(test.func, params)",
      "22. (function (data, formula, method = \"t.test\", comparisons = NULL, \n  .     ref.group = NULL, p.adjust.method = \"holm\", detailed = FALSE, \n  .     ...) \n  . {\n  .     if (is_grouped_df(data)) {\n  .         res <- data %>% doo(pairwise_two_sample_test, formula, \n  .             method, comparisons, ref.group, p.adjust.method, \n  .             detailed = detailed, ...)\n  .         return(res)\n  .     }\n  .     outcome <- get_formula_left_hand_side(formula)\n  .     group <- get_formula_right_hand_side(formula)\n  .     data <- data %>% .as_factor(group, ref.group = ref.group)\n  .     group.levels <- data %>% get_levels(group)\n  .     if (is.null(comparisons)) {\n  .         comparisons <- group.levels %>% .possible_pairs(ref.group = ref.group)\n  .     }\n  .     res <- compare_pairs(data, formula, comparisons, method, \n  .         detailed = detailed, ...) %>% adjust_pvalue(method = p.adjust.method) %>% \n  .         add_significance() %>% p_round(digits = 3)\n  .     if (!detailed) \n  .         res <- remove_details(res, method = method)\n  .     res\n  . })(data = structure(list(AIFI_L3 = c(\"ILC\", \"ILC\", \"ILC\", \"ILC\", \n  . \"ILC\", \"ILC\", \"ILC\", \"ILC\", \"ILC\", \"ILC\", \"ILC\", \"ILC\", \"ILC\", \n  . \"ILC\", \"ILC\", \"ILC\", \"ILC\", \"ILC\", \"ILC\", \"ILC\", \"ILC\", \"ILC\", \n  . \"ILC\", \"ILC\", \"ILC\", \"ILC\", \"ILC\", \"ILC\", \"ILC\", \"ILC\", \"ILC\", \n  . \"ILC\", \"ILC\", \"ILC\", \"ILC\", \"ILC\", \"ILC\", \"ILC\", \"ILC\", \"ILC\", \n  . \"ILC\", \"ILC\", \"ILC\", \"ILC\", \"ILC\", \"ILC\", \"ILC\", \"ILC\", \"ILC\", \n  . \"ILC\", \"ILC\", \"ILC\", \"ILC\", \"ILC\", \"ILC\", \"ILC\", \"ILC\", \"ILC\", \n  . \"ILC\", \"ILC\", \"ILC\", \"ILC\", \"ILC\", \"ILC\", \"ILC\", \"ILC\", \"ILC\", \n  . \"ILC\", \"ILC\", \"ILC\", \"ILC\", \"ILC\", \"ILC\", \"ILC\", \"ILC\", \"ILC\", \n  . \"ILC\", \"ILC\", \"ILC\", \"ILC\", \"ILC\", \"ILC\", \"ILC\", \"ILC\", \"ILC\", \n  . \"ILC\", \"ILC\", \"ILC\", \"ILC\", \"ILC\", \"ILC\"), subject.subjectGuid = c(\"BR1001\", \n  . \"BR1002\", \"BR1003\", \"BR1004\", \"BR1005\", \"BR1006\", \"BR1007\", \"BR1008\", \n  . \"BR1009\", \"BR1010\", \"BR1011\", \"BR1012\", \"BR1013\", \"BR1014\", \"BR1015\", \n  . \"BR1016\", \"BR1017\", \"BR1018\", \"BR1019\", \"BR1021\", \"BR1023\", \"BR1024\", \n  . \"BR1025\", \"BR1026\", \"BR1028\", \"BR1030\", \"BR1031\", \"BR1032\", \"BR1033\", \n  . \"BR1037\", \"BR1040\", \"BR1041\", \"BR1042\", \"BR1043\", \"BR1044\", \"BR1045\", \n  . \"BR1047\", \"BR1048\", \"BR1049\", \"BR1050\", \"BR1051\", \"BR1052\", \"BR1054\", \n  . \"BR1056\", \"BR1057\", \"BR1058\", \"BR1059\", \"BR2002\", \"BR2003\", \"BR2005\", \n  . \"BR2008\", \"BR2009\", \"BR2010\", \"BR2012\", \"BR2013\", \"BR2014\", \"BR2015\", \n  . \"BR2016\", \"BR2018\", \"BR2019\", \"BR2020\", \"BR2021\", \"BR2022\", \"BR2023\", \n  . \"BR2024\", \"BR2025\", \"BR2026\", \"BR2028\", \"BR2030\", \"BR2031\", \"BR2032\", \n  . \"BR2033\", \"BR2034\", \"BR2035\", \"BR2036\", \"BR2037\", \"BR2038\", \"BR2039\", \n  . \"BR2040\", \"BR2041\", \"BR2042\", \"BR2043\", \"BR2044\", \"BR2045\", \"BR2046\", \n  . \"BR2047\", \"BR2048\", \"BR2050\", \"BR2051\", \"BR2052\", \"BR2053\"), \n  .     count = c(9L, 7L, 8L, 17L, 13L, 9L, 6L, 7L, 9L, 6L, 4L, 4L, \n  .     18L, 7L, 1L, 21L, 9L, 14L, 10L, 7L, 1L, 3L, 1L, 6L, 8L, 8L, \n  .     7L, 3L, 17L, 7L, 5L, 6L, 4L, 8L, 3L, 5L, 7L, 21L, 6L, 3L, \n  .     16L, 4L, 7L, 10L, 6L, 12L, 6L, 10L, 11L, 4L, 1L, 8L, 3L, \n  .     8L, 12L, 4L, 7L, 4L, 11L, 1L, 6L, 3L, 5L, 4L, 7L, 5L, 14L, \n  .     1L, 4L, 12L, 12L, 10L, 5L, 4L, 4L, 10L, 8L, 10L, 3L, 17L, \n  .     6L, 3L, 7L, 3L, 4L, 2L, 14L, 7L, 5L, 2L, 4L), percentage = c(100, \n  .     100, 100, 100, 100, 100, 100, 100, 100, 100, 100, 100, 100, \n  .     100, 100, 100, 100, 100, 100, 100, 100, 100, 100, 100, 100, \n  .     100, 100, 100, 100, 100, 100, 100, 100, 100, 100, 100, 100, \n  .     100, 100, 100, 100, 100, 100, 100, 100, 100, 100, 100, 100, \n  .     100, 100, 100, 100, 100, 100, 100, 100, 100, 100, 100, 100, \n  .     100, 100, 100, 100, 100, 100, 100, 100, 100, 100, 100, 100, \n  .     100, 100, 100, 100, 100, 100, 100, 100, 100, 100, 100, 100, \n  .     100, 100, 100, 100, 100, 100), percentage_clr = c(-4.44089209850063e-16, \n  .     -4.44089209850063e-16, -4.44089209850063e-16, -4.44089209850063e-16, \n  .     -4.44089209850063e-16, -4.44089209850063e-16, -4.44089209850063e-16, \n  .     -4.44089209850063e-16, -4.44089209850063e-16, -4.44089209850063e-16, \n  .     -4.44089209850063e-16, -4.44089209850063e-16, -4.44089209850063e-16, \n  .     -4.44089209850063e-16, -4.44089209850063e-16, -4.44089209850063e-16, \n  .     -4.44089209850063e-16, -4.44089209850063e-16, -4.44089209850063e-16, \n  .     -4.44089209850063e-16, -4.44089209850063e-16, -4.44089209850063e-16, \n  .     -4.44089209850063e-16, -4.44089209850063e-16, -4.44089209850063e-16, \n  .     -4.44089209850063e-16, -4.44089209850063e-16, -4.44089209850063e-16, \n  .     -4.44089209850063e-16, -4.44089209850063e-16, -4.44089209850063e-16, \n  .     -4.44089209850063e-16, -4.44089209850063e-16, -4.44089209850063e-16, \n  .     -4.44089209850063e-16, -4.44089209850063e-16, -4.44089209850063e-16, \n  .     -4.44089209850063e-16, -4.44089209850063e-16, -4.44089209850063e-16, \n  .     -4.44089209850063e-16, -4.44089209850063e-16, -4.44089209850063e-16, \n  .     -4.44089209850063e-16, -4.44089209850063e-16, -4.44089209850063e-16, \n  .     -4.44089209850063e-16, -4.44089209850063e-16, -4.44089209850063e-16, \n  .     -4.44089209850063e-16, -4.44089209850063e-16, -4.44089209850063e-16, \n  .     -4.44089209850063e-16, -4.44089209850063e-16, -4.44089209850063e-16, \n  .     -4.44089209850063e-16, -4.44089209850063e-16, -4.44089209850063e-16, \n  .     -4.44089209850063e-16, -4.44089209850063e-16, -4.44089209850063e-16, \n  .     -4.44089209850063e-16, -4.44089209850063e-16, -4.44089209850063e-16, \n  .     -4.44089209850063e-16, -4.44089209850063e-16, -4.44089209850063e-16, \n  .     -4.44089209850063e-16, -4.44089209850063e-16, -4.44089209850063e-16, \n  .     -4.44089209850063e-16, -4.44089209850063e-16, -4.44089209850063e-16, \n  .     -4.44089209850063e-16, -4.44089209850063e-16, -4.44089209850063e-16, \n  .     -4.44089209850063e-16, -4.44089209850063e-16, -4.44089209850063e-16, \n  .     -4.44089209850063e-16, -4.44089209850063e-16, -4.44089209850063e-16, \n  .     -4.44089209850063e-16, -4.44089209850063e-16, -4.44089209850063e-16, \n  .     -4.44089209850063e-16, -4.44089209850063e-16, -4.44089209850063e-16, \n  .     -4.44089209850063e-16, -4.44089209850063e-16, -4.44089209850063e-16\n  .     ), cohort.cohortGuid = c(\"BR1\", \"BR1\", \"BR1\", \"BR1\", \"BR1\", \n  .     \"BR1\", \"BR1\", \"BR1\", \"BR1\", \"BR1\", \"BR1\", \"BR1\", \"BR1\", \"BR1\", \n  .     \"BR1\", \"BR1\", \"BR1\", \"BR1\", \"BR1\", \"BR1\", \"BR1\", \"BR1\", \"BR1\", \n  .     \"BR1\", \"BR1\", \"BR1\", \"BR1\", \"BR1\", \"BR1\", \"BR1\", \"BR1\", \"BR1\", \n  .     \"BR1\", \"BR1\", \"BR1\", \"BR1\", \"BR1\", \"BR1\", \"BR1\", \"BR1\", \"BR1\", \n  .     \"BR1\", \"BR1\", \"BR1\", \"BR1\", \"BR1\", \"BR1\", \"BR2\", \"BR2\", \"BR2\", \n  .     \"BR2\", \"BR2\", \"BR2\", \"BR2\", \"BR2\", \"BR2\", \"BR2\", \"BR2\", \"BR2\", \n  .     \"BR2\", \"BR2\", \"BR2\", \"BR2\", \"BR2\", \"BR2\", \"BR2\", \"BR2\", \"BR2\", \n  .     \"BR2\", \"BR2\", \"BR2\", \"BR2\", \"BR2\", \"BR2\", \"BR2\", \"BR2\", \"BR2\", \n  .     \"BR2\", \"BR2\", \"BR2\", \"BR2\", \"BR2\", \"BR2\", \"BR2\", \"BR2\", \"BR2\", \n  .     \"BR2\", \"BR2\", \"BR2\", \"BR2\", \"BR2\"), subject.biologicalSex = c(\"Female\", \n  .     \"Male\", \"Female\", \"Male\", \"Female\", \"Male\", \"Male\", \"Female\", \n  .     \"Female\", \"Female\", \"Male\", \"Male\", \"Female\", \"Female\", \"Male\", \n  .     \"Male\", \"Female\", \"Male\", \"Female\", \"Female\", \"Female\", \"Female\", \n  .     \"Female\", \"Female\", \"Female\", \"Female\", \"Female\", \"Male\", \n  .     \"Female\", \"Female\", \"Male\", \"Female\", \"Male\", \"Male\", \"Male\", \n  .     \"Male\", \"Male\", \"Female\", \"Male\", \"Female\", \"Male\", \"Male\", \n  .     \"Male\", \"Female\", \"Female\", \"Female\", \"Male\", \"Female\", \"Male\", \n  .     \"Female\", \"Female\", \"Female\", \"Female\", \"Female\", \"Male\", \n  .     \"Female\", \"Female\", \"Female\", \"Female\", \"Male\", \"Male\", \"Female\", \n  .     \"Male\", \"Male\", \"Female\", \"Male\", \"Male\", \"Male\", \"Male\", \n  .     \"Male\", \"Female\", \"Male\", \"Female\", \"Female\", \"Female\", \"Male\", \n  .     \"Male\", \"Male\", \"Female\", \"Female\", \"Female\", \"Female\", \"Female\", \n  .     \"Female\", \"Male\", \"Male\", \"Male\", \"Male\", \"Female\", \"Female\", \n  .     \"Male\"), CMV.IgG.Serology.Result.Interpretation = c(\"Negative\", \n  .     \"Negative\", \"Negative\", \"Negative\", \"Negative\", \"Negative\", \n  .     \"Positive\", \"Positive\", \"Negative\", \"Positive\", \"Negative\", \n  .     \"Positive\", \"Negative\", \"Positive\", \"Positive\", \"Negative\", \n  .     \"Negative\", \"Negative\", \"Negative\", \"Negative\", \"Negative\", \n  .     \"Negative\", \"Positive\", \"Negative\", \"Negative\", \"Positive\", \n  .     \"Negative\", \"Positive\", \"Positive\", \"Positive\", \"Negative\", \n  .     \"Positive\", \"Negative\", \"Positive\", \"Positive\", \"Positive\", \n  .     \"Positive\", \"Positive\", \"Negative\", \"Negative\", \"Positive\", \n  .     \"Negative\", \"Negative\", \"Negative\", \"Negative\", \"Negative\", \n  .     \"Negative\", \"Positive\", \"Negative\", \"Positive\", \"Negative\", \n  .     \"Negative\", \"Positive\", \"Positive\", \"Positive\", \"Positive\", \n  .     \"Negative\", \"Positive\", \"Positive\", \"Positive\", \"Negative\", \n  .     \"Negative\", \"Negative\", \"Negative\", \"Positive\", \"Negative\", \n  .     \"Negative\", \"Negative\", \"Positive\", \"Negative\", \"Negative\", \n  .     \"Positive\", \"Negative\", \"Positive\", \"Negative\", \"Positive\", \n  .     \"Negative\", \"Negative\", \"Negative\", \"Positive\", \"Negative\", \n  .     \"Positive\", \"Positive\", \"Positive\", \"Negative\", \"Positive\", \n  .     \"Positive\", \"Negative\", \"Positive\", \"Positive\", \"Positive\"\n  .     ), facet_combined = structure(c(1L, 1L, 1L, 1L, 1L, 1L, 2L, \n  .     2L, 1L, 2L, 1L, 2L, 1L, 2L, 2L, 1L, 1L, 1L, 1L, 1L, 1L, 1L, \n  .     2L, 1L, 1L, 2L, 1L, 2L, 2L, 2L, 1L, 2L, 1L, 2L, 2L, 2L, 2L, \n  .     2L, 1L, 1L, 2L, 1L, 1L, 1L, 1L, 1L, 1L, 4L, 3L, 4L, 3L, 3L, \n  .     4L, 4L, 4L, 4L, 3L, 4L, 4L, 4L, 3L, 3L, 3L, 3L, 4L, 3L, 3L, \n  .     3L, 4L, 3L, 3L, 4L, 3L, 4L, 3L, 4L, 3L, 3L, 3L, 4L, 3L, 4L, \n  .     4L, 4L, 3L, 4L, 4L, 3L, 4L, 4L, 4L), levels = c(\"BR1_Negative\", \n  .     \"BR1_Positive\", \"BR2_Negative\", \"BR2_Positive\"), class = \"factor\")), row.names = c(NA, \n  . -91L), class = c(\"tbl_df\", \"tbl\", \"data.frame\")), formula = percentage ~ \n  .     facet_combined, comparisons = list(c(\"BR1_Negative\", \"BR2_Negative\"\n  . ), c(\"BR1_Negative\", \"BR1_Positive\"), c(\"BR1_Positive\", \"BR2_Positive\"\n  . ), c(\"BR2_Negative\", \"BR2_Positive\")), p.adjust.method = \"holm\", \n  .     paired = FALSE, alternative = \"two.sided\", mu = 0, conf.level = 0.95, \n  .     detailed = FALSE, conf.int = TRUE, method = \"wilcox.test\")",
      "23. compare_pairs(data, formula, comparisons, method, detailed = detailed, \n  .     ...) %>% adjust_pvalue(method = p.adjust.method) %>% add_significance() %>% \n  .     p_round(digits = 3)",
      "24. p_round(., digits = 3)",
      "25. add_significance(.)",
      "26. get_test_attributes(data)",
      "27. adjust_pvalue(., method = p.adjust.method)",
      "28. is_grouped_df(data)",
      "29. compare_pairs(data, formula, comparisons, method, detailed = detailed, \n  .     ...)",
      "30. pairs %>% map(.f, data, formula, method, ...) %>% bind_rows()",
      "31. bind_rows(.)",
      "32. list2(...)",
      "33. map(., .f, data, formula, method, ...)",
      "34. map_(\"list\", .x, .f, ..., .progress = .progress)",
      "35. with_indexed_errors(i = i, names = names, error_call = .purrr_error_call, \n  .     call_with_cleanup(map_impl, environment(), .type, .progress, \n  .         n, names, i))",
      "36. withCallingHandlers(expr, error = function(cnd) {\n  .     if (i == 0L) {\n  .     }\n  .     else {\n  .         message <- c(i = \"In index: {i}.\")\n  .         if (!is.null(names) && !is.na(names[[i]]) && names[[i]] != \n  .             \"\") {\n  .             name <- names[[i]]\n  .             message <- c(message, i = \"With name: {name}.\")\n  .         }\n  .         else {\n  .             name <- NULL\n  .         }\n  .         cli::cli_abort(message, location = i, name = name, parent = cnd, \n  .             call = error_call, class = \"purrr_error_indexed\")\n  .     }\n  . })",
      "37. call_with_cleanup(map_impl, environment(), .type, .progress, \n  .     n, names, i)",
      "38. .f(.x[[i]], ...)",
      "39. compare_pair(data, formula, pair, method, ...)",
      "40. data %>% filter(!!sym(group) %in% pair) %>% droplevels() %>% \n  .     two_sample_test(formula, method = method, ...)",
      "41. two_sample_test(., formula, method = method, ...)",
      "42. suppressWarnings(do.call(test.function, test.args)) %>% as_tidy_stat() %>% \n  .     add_columns(.y. = outcome, group1 = grp1, group2 = grp2, \n  .         .before = \"statistic\")",
      "43. add_columns(., .y. = outcome, group1 = grp1, group2 = grp2, .before = \"statistic\")",
      "44. .before %in% colnames(.data)",
      "45. colnames(.data)",
      "46. is.data.frame(x)",
      "47. as_tidy_stat(.)",
      "48. tidy(x)",
      "49. suppressWarnings(do.call(test.function, test.args))",
      "50. withCallingHandlers(expr, warning = function(w) if (inherits(w, \n  .     classes)) tryInvokeRestart(\"muffleWarning\"))",
      "51. do.call(test.function, test.args)",
      "52. wilcox.test(x = c(100, 100, 100, 100, 100, 100, 100, 100, 100, \n  . 100, 100, 100, 100, 100, 100, 100, 100, 100, 100, 100, 100, 100, \n  . 100, 100, 100, 100, 100, 100, 100), y = c(100, 100, 100, 100, \n  . 100, 100, 100, 100, 100, 100, 100, 100, 100, 100, 100, 100, 100, \n  . 100, 100, 100, 100), paired = FALSE, alternative = \"two.sided\", \n  .     mu = 0, conf.level = 0.95, conf.int = TRUE)",
      "53. wilcox.test.default(x = c(100, 100, 100, 100, 100, 100, 100, \n  . 100, 100, 100, 100, 100, 100, 100, 100, 100, 100, 100, 100, 100, \n  . 100, 100, 100, 100, 100, 100, 100, 100, 100), y = c(100, 100, \n  . 100, 100, 100, 100, 100, 100, 100, 100, 100, 100, 100, 100, 100, \n  . 100, 100, 100, 100, 100, 100), paired = FALSE, alternative = \"two.sided\", \n  .     mu = 0, conf.level = 0.95, conf.int = TRUE)",
      "54. root(zq = qnorm(alpha/2, lower.tail = FALSE))",
      "55. .handleSimpleError(function (cnd) \n  . {\n  .     if (i == 0L) {\n  .     }\n  .     else {\n  .         message <- c(i = \"In index: {i}.\")\n  .         if (!is.null(names) && !is.na(names[[i]]) && names[[i]] != \n  .             \"\") {\n  .             name <- names[[i]]\n  .             message <- c(message, i = \"With name: {name}.\")\n  .         }\n  .         else {\n  .             name <- NULL\n  .         }\n  .         cli::cli_abort(message, location = i, name = name, parent = cnd, \n  .             call = error_call, class = \"purrr_error_indexed\")\n  .     }\n  . }, \"missing value where TRUE/FALSE needed\", base::quote(if (f.lower <= \n  .     0) return(mumin)))",
      "56. h(simpleError(msg, call))",
      "57. cli::cli_abort(message, location = i, name = name, parent = cnd, \n  .     call = error_call, class = \"purrr_error_indexed\")",
      "58. rlang::abort(message, ..., call = call, use_cli_format = TRUE, \n  .     .frame = .frame)",
      "59. signal_abort(cnd, .file)"
     ]
    }
   ],
   "source": [
    "##For CLR - PARENT PLOT\n",
    "\n",
    "my_comparisons <- list(c(\"BR1_Negative\", \"BR2_Negative\"), c(\"BR1_Negative\", \"BR1_Positive\"), c(\"BR1_Positive\", \"BR2_Positive\"), c(\"BR2_Negative\", \"BR2_Positive\") )\n",
    "\n",
    "for(cell in unique_AIFI_L1){\n",
    "    \n",
    "    print(cell)\n",
    "    \n",
    "    #rm(cell_df, result_final)\n",
    "    \n",
    "    cell_df <- all_df %>% dplyr::filter(AIFI_L1 == cell)\n",
    "\n",
    "    \n",
    "    result_final <- cell_df %>%\n",
    "      dplyr::group_by(AIFI_L3, subject.subjectGuid) %>%               \n",
    "      dplyr::summarise(count = n()) %>%                  # Count occurrences\n",
    "      dplyr::group_by(subject.subjectGuid) %>%                       \n",
    "      dplyr::mutate(percentage = (count / sum(count)) * 100) %>% \n",
    "      dplyr::group_by(subject.subjectGuid) %>%     \n",
    "      dplyr::mutate(percentage_clr = clr_transform((percentage))) %>% # Group again by subjectGuid for CLR# Calculate percentage\n",
    "      dplyr::ungroup()\n",
    "\n",
    "    \n",
    "    result_final<-left_join(result_final,unique(all_df[c('cohort.cohortGuid','subject.subjectGuid','subject.biologicalSex','CMV.IgG.Serology.Result.Interpretation')]),by=c('subject.subjectGuid'))\n",
    "    \n",
    "    result_final$facet_combined <- paste(result_final$cohort.cohortGuid, result_final$CMV.IgG.Serology.Result.Interpretation, sep = \"_\")\n",
    "    result_final$facet_combined<- factor(result_final$facet_combined)\n",
    "    \n",
    "    for(cell_L3 in unique(result_final$AIFI_L3)){\n",
    "        \n",
    "        #rm(L3_df)\n",
    "        \n",
    "        L3_df <- result_final %>% dplyr::filter(AIFI_L3 == cell_L3)\n",
    "        \n",
    "        stat_test <- wilcox_test(percentage_clr ~ facet_combined, data = L3_df, comparisons = my_comparisons, paired= FALSE)%>% \n",
    "               adjust_pvalue(method = 'BH') %>% \n",
    "               add_xy_position(x = \"facet_combined\", dodge = 0.8)\n",
    "\n",
    "\n",
    "\n",
    "\n",
    "        outfile <- paste(\"/home/jupyter/Myeloid_cells/Plots/CLR_Comparisons_cohort_&_CMV_Parent/CLR_Comparisons_cohort_&_CMV_parent_\", cell_L3, \".pdf\", sep=\"\")\n",
    "        options(repr.plot.width = 18, repr.plot.height = 10)\n",
    "        p3 <- ggplot(L3_df, aes(x = facet_combined, y = percentage_clr, color = CMV.IgG.Serology.Result.Interpretation)) +\n",
    "          geom_boxplot(width = 0.5, outlier.shape = NA) +\n",
    "          geom_jitter(width =0.1) +\n",
    "          ylab('percentage_clr') + \n",
    "          xlab(cell_L3) +\n",
    "          scale_color_manual(values = c(\"green\", \"red\", \"orange\", \"blue\")) +\n",
    "          theme(axis.text.x = element_text(size = 12, angle = 90 ),     # Adjust font size of x-axis text\n",
    "                axis.text.y = element_text(size = 12),     # Adjust font size of y-axis text\n",
    "                axis.title = element_text(size = 14),\n",
    "                panel.background = element_rect(fill = \"white\"),\n",
    "                axis.line = element_line(color = \"black\"),  # Set axis line color to black,  # Set major grid line color to black\n",
    "                panel.grid.minor = element_blank(),\n",
    "                legend.position = \"top\",  # Set legend position to top\n",
    "                #legend.title = element_blank()\n",
    "               ) +\n",
    "          geom_boxplot(position = position_dodge(width = 1))+\n",
    "          stat_pvalue_manual(stat_test, label = \"p.adj.signif\", tip.length = 0) +\n",
    "          scale_y_continuous(expand = expansion(mult = c(0, 0.1)))\n",
    "          pdf(file = outfile, width = 7, height = 11)\n",
    "          print(p3)\n",
    "          dev.off()\n",
    "\n",
    "        \n",
    "        }\n",
    "    \n",
    "    \n",
    "    }\n",
    "\n",
    "\n",
    "\n"
   ]
  },
  {
   "cell_type": "markdown",
   "id": "19168529-2069-4857-bf1a-6d26935c21ed",
   "metadata": {},
   "source": [
    "# Loop for comparing the four groups together - withing total PBMCs"
   ]
  },
  {
   "cell_type": "code",
   "execution_count": null,
   "id": "a01199eb-041b-4142-8e4e-b18502da9d88",
   "metadata": {},
   "outputs": [],
   "source": [
    "#result_cohort, aes(x = reorder(AIFI_L3, desc(percentage)) , y = percentage, color = cohort.cohortGuid)"
   ]
  },
  {
   "cell_type": "code",
   "execution_count": null,
   "id": "b6b5ed69-8ee1-446c-b5c9-d459621f788e",
   "metadata": {
    "tags": []
   },
   "outputs": [],
   "source": [
    "# Create a new column by combining values from column1 and column2\n",
    "result$facet_combined <- paste(result$cohort.cohortGuid, result$CMV.IgG.Serology.Result.Interpretation, sep = \"_\")\n",
    "result$facet_combined<- factor(result$facet_combined)\n",
    "# # Create the four groups\n",
    "# BR1_Negative <- subset(result, cohort.cohortGuid == 'BR1' & CMV.IgG.Serology.Result.Interpretation == 'Negative')\n",
    "# BR2_Negative <- subset(result, cohort.cohortGuid == 'BR2' & CMV.IgG.Serology.Result.Interpretation == 'Negative')\n",
    "# BR1_Positive <- subset(result, cohort.cohortGuid == 'BR1' & CMV.IgG.Serology.Result.Interpretation == 'Positive')\n",
    "# BR2_Positive <- subset(result, cohort.cohortGuid == 'BR2' & CMV.IgG.Serology.Result.Interpretation == 'Positive')\n",
    "\n",
    "# #DF <- data.frame(BR1_Negative, BR2_Negative, BR1_Positive, BR2_Positive)\n",
    "\n",
    "# # Combine the four data frames into a single data frame\n",
    "# combined_df <- rbind(BR1_Negative, BR2_Negative, BR1_Positive, BR2_Positive)\n",
    "\n"
   ]
  },
  {
   "cell_type": "code",
   "execution_count": null,
   "id": "500ad6ce-6d15-4e92-a3bb-ff4d8585e095",
   "metadata": {
    "tags": []
   },
   "outputs": [],
   "source": [
    "head(result)"
   ]
  },
  {
   "cell_type": "code",
   "execution_count": null,
   "id": "ba6b0a91-d823-4273-9562-cab4fbd80b0c",
   "metadata": {
    "tags": []
   },
   "outputs": [],
   "source": [
    "B_df <- result %>% \n",
    "    filter(AIFI_L3 == 'ASDC')"
   ]
  },
  {
   "cell_type": "code",
   "execution_count": null,
   "id": "f4a6ad7b-2533-4362-a718-786cdb7d3fe3",
   "metadata": {
    "tags": []
   },
   "outputs": [],
   "source": [
    "head(B_df)"
   ]
  },
  {
   "cell_type": "code",
   "execution_count": null,
   "id": "1717b241-fc97-4fba-a41d-c376710d0eda",
   "metadata": {
    "tags": []
   },
   "outputs": [],
   "source": [
    "head(BR1_Negative)"
   ]
  },
  {
   "cell_type": "code",
   "execution_count": null,
   "id": "491abff3-ac35-4462-bb30-46ec5694da33",
   "metadata": {
    "tags": []
   },
   "outputs": [],
   "source": [
    "stat_test<- combined_df %>%\n",
    "  select(percentage, percentage_clr, AIFI_L3, cohort.cohortGuid, CMV.IgG.Serology.Result.Interpretation, facet_combined, subject.subjectGuid) %>%\n",
    "  unique(.) %>%\n",
    "  group_by(facet_combined, subject.subjectGuid) %>%\n",
    "  wilcox_test(percentage ~ cohort.cohortGuid) #%>%\n",
    "  adjust_pvalue(method = \"BH\") %>%\n",
    "  add_significance()\n",
    "\n"
   ]
  },
  {
   "cell_type": "code",
   "execution_count": null,
   "id": "95bc236c-aa5b-4f07-bf79-a3aa9fefacab",
   "metadata": {
    "tags": []
   },
   "outputs": [],
   "source": [
    "unique(combined_df$facet_combined)\n"
   ]
  },
  {
   "cell_type": "code",
   "execution_count": null,
   "id": "51fdbd21",
   "metadata": {
    "tags": []
   },
   "outputs": [],
   "source": [
    "#Doesn't p-adjust\n",
    "# Visualize: Specify the comparisons you want\n",
    "my_comparisons <- list(c(\"BR1.Negative\", \"BR2.Negative\"), c(\"BR1.Negative\", \"BR1.Positive\"), c(\"BR1.Positive\", \"BR2.Positive\"), c(\"BR2.Negative\", \"BR2.Positive\") )\n",
    "p1 <- B_df %>%\n",
    "    ggpubr::ggboxplot(x = 'facet_combined', y = 'percentage_clr', color = 'CMV.IgG.Serology.Result.Interpretation', add = \"jitter\", size = 1) +\n",
    "    ylab('percentage_clr') + \n",
    "    xlab('AIFI_L3') +\n",
    "    #scale_y_continuous(breaks = c(0.000, 0.025, 0.050, 0.075, 0.100)) +  # Set y-axis scale\n",
    "    scale_color_manual(values = c(\"lightgreen\", \"red\", \"orange\")) +\n",
    "   stat_compare_means(comparisons = my_comparisons, method = \"wilcox.test\", paired = FALSE) + \n",
    "    stat_compare_means(label.y = 0.02)+\n",
    "     theme(axis.text.x = element_text(size = 12),     # Adjust font size of x-axis text\n",
    "        axis.text.y = element_text(size = 12),     # Adjust font size of y-axis text\n",
    "        axis.title = element_text(size = 14))\n",
    "\n"
   ]
  },
  {
   "cell_type": "code",
   "execution_count": null,
   "id": "75fff194-38c8-4f55-89ab-08f15a1c61fb",
   "metadata": {
    "tags": []
   },
   "outputs": [],
   "source": [
    "p1"
   ]
  },
  {
   "cell_type": "code",
   "execution_count": null,
   "id": "5939bc36-80db-4867-9cfd-2178164a1d87",
   "metadata": {
    "tags": []
   },
   "outputs": [],
   "source": [
    "# Visualize: Specify the comparisons you want\n",
    "my_comparisons <- list(c(\"BR1.Negative\", \"BR2.Negative\"), c(\"BR1.Negative\", \"BR1.Positive\"), c(\"BR1.Positive\", \"BR2.Positive\"), c(\"BR2.Negative\", \"BR2.Positive\") )\n",
    "t_test_tooth <- compare_means(percentage_clr ~ facet_combined , comparisons = my_comparisons, p.adjust.method = \"BH\", method='wilcox.test', data = B_df, paired = FALSE)\n",
    "t_test_tooth <- t_test_tooth %>% mutate(y.position = c(5, 5.5, 6, 6.5, 7, 7.5))\n",
    "\n",
    "result <- wilcox_test(percentage_clr ~ facet_combined, data = B_df, comparisons = my_comparisons, paired= FALSE)%>% \n",
    "   adjust_pvalue(method = 'BH')"
   ]
  },
  {
   "cell_type": "code",
   "execution_count": null,
   "id": "9461ee92-cb72-461e-aa28-c9ae6b454e51",
   "metadata": {
    "tags": []
   },
   "outputs": [],
   "source": [
    "head(result)"
   ]
  },
  {
   "cell_type": "code",
   "execution_count": null,
   "id": "a7464386-c6a3-49ba-8c15-3558ce8359cf",
   "metadata": {
    "tags": []
   },
   "outputs": [],
   "source": [
    "head(t_test_tooth)"
   ]
  },
  {
   "cell_type": "code",
   "execution_count": null,
   "id": "855f612f-dec2-44d1-aaf5-c06c6777e44c",
   "metadata": {
    "tags": []
   },
   "outputs": [],
   "source": [
    "####### THIS USES GGPUBR - ggboxplot\n",
    "\n",
    "\n",
    "#my_comparisons <- list(c(\"BR1.Negative\", \"BR2.Negative\"), c(\"BR1.Negative\", \"BR1.Positive\"), c(\"BR1.Positive\", \"BR2.Positive\"), c(\"BR2.Negative\", \"BR2.Positive\") )\n",
    "#my_comparisons <- list(c(\"Negative\", \"Positive\"), c(\"BR1.Negative\", \"BR1.Positive\"), c(\"BR1.Positive\", \"BR2.Positive\"), c(\"BR2.Negative\", \"BR2.Positive\") )\n",
    "#comparisons = my_comparisons\n",
    "my_comparisons <- list(c(\"BR1_Negative\", \"BR2_Negative\"), c(\"BR1_Negative\", \"BR1_Positive\"), c(\"BR1_Positive\", \"BR2_Positive\"), c(\"BR2_Negative\", \"BR2_Positive\") )\n",
    "\n",
    "stat_test <- wilcox_test(percentage ~ facet_combined, data = B_df, comparisons = my_comparisons, paired= FALSE)%>% \n",
    "   adjust_pvalue(method = 'BH') %>% \n",
    "   add_xy_position(x = \"facet_combined\", dodge = 0.8)\n",
    "\n",
    "options(repr.plot.width = 12, repr.plot.height = 10)\n",
    "p2 <- B_df %>%\n",
    "    ggpubr::ggboxplot(x = 'facet_combined', y = 'percentage', color = 'CMV.IgG.Serology.Result.Interpretation', add = \"jitter\", size = 1) +\n",
    "    ylab('percentage') + \n",
    "    xlab('AIFI_L3') +\n",
    "    scale_color_manual(values = c(\"green\", \"red\", \"orange\", \"blue\")) +\n",
    "     theme(axis.text.x = element_text(size = 12, angle = 90 ),     # Adjust font size of x-axis text\n",
    "        axis.text.y = element_text(size = 12),     # Adjust font size of y-axis text\n",
    "        axis.title = element_text(size = 14))+\n",
    "    stat_pvalue_manual(stat_test, label = \"p.adj\", tip.lenght =0)+   #, y.position = c(5, 5.5, 6 ,6.5))\n",
    "    scale_y_continuous(expand = expansion(mult = c(0, 0.1)))\n",
    "\n"
   ]
  },
  {
   "cell_type": "code",
   "execution_count": null,
   "id": "703050cc-e9d8-46bb-9e54-6a1e0ca0c8e6",
   "metadata": {
    "tags": []
   },
   "outputs": [],
   "source": [
    "####### THIS USES GGPLOT2\n",
    "\n",
    "\n",
    "#my_comparisons <- list(c(\"BR1.Negative\", \"BR2.Negative\"), c(\"BR1.Negative\", \"BR1.Positive\"), c(\"BR1.Positive\", \"BR2.Positive\"), c(\"BR2.Negative\", \"BR2.Positive\") )\n",
    "#my_comparisons <- list(c(\"Negative\", \"Positive\"), c(\"BR1.Negative\", \"BR1.Positive\"), c(\"BR1.Positive\", \"BR2.Positive\"), c(\"BR2.Negative\", \"BR2.Positive\") )\n",
    "#comparisons = my_comparisons\n",
    "my_comparisons <- list(c(\"BR1_Negative\", \"BR2_Negative\"), c(\"BR1_Negative\", \"BR1_Positive\"), c(\"BR1_Positive\", \"BR2_Positive\"), c(\"BR2_Negative\", \"BR2_Positive\") )\n",
    "\n",
    "stat_test <- wilcox_test(percentage ~ facet_combined, data = B_df, comparisons = my_comparisons, paired= FALSE)%>% \n",
    "   adjust_pvalue(method = 'BH') %>% \n",
    "   add_xy_position(x = \"facet_combined\", dodge = 0.8)\n",
    "\n",
    "outfile <- paste(\"/home/jupyter/Myeloid_cells/Plots/Percentage_Comparisons_cohort_&_CMV/Percentage_Comparisons_cohort_&_CMV_\", 'test', \".pdf\", sep=\"\")\n",
    "options(repr.plot.width = 18, repr.plot.height = 10)\n",
    "p3 <- ggplot(B_df, aes(x = facet_combined, y = percentage, color = CMV.IgG.Serology.Result.Interpretation)) +\n",
    "  geom_boxplot(width = 0.5) +\n",
    "  geom_jitter(width =0.1) +\n",
    "  ylab('percentage') + \n",
    "  xlab('AIFI_L3') +\n",
    "  scale_color_manual(values = c(\"green\", \"red\", \"orange\", \"blue\")) +\n",
    "  theme(axis.text.x = element_text(size = 12, angle = 90 ),     # Adjust font size of x-axis text\n",
    "        axis.text.y = element_text(size = 12),     # Adjust font size of y-axis text\n",
    "        axis.title = element_text(size = 14),\n",
    "        panel.background = element_rect(fill = \"white\"),\n",
    "        axis.line = element_line(color = \"black\"),  # Set axis line color to black,  # Set major grid line color to black\n",
    "        panel.grid.minor = element_blank(),\n",
    "        legend.position = \"top\",  # Set legend position to top\n",
    "        #legend.title = element_blank()\n",
    "       ) +\n",
    "  geom_boxplot(position = position_dodge(width = 1))+\n",
    "  stat_pvalue_manual(stat_test, label = \"p.adj.signif\", tip.length = 0) +\n",
    "  scale_y_continuous(expand = expansion(mult = c(0, 0.1)))\n",
    "  pdf(file = outfile, width = 7, height = 11)\n",
    "    print(p3)\n",
    "    dev.off()\n",
    "\n"
   ]
  },
  {
   "cell_type": "code",
   "execution_count": null,
   "id": "7137c2ac-269b-4720-be17-62a955523828",
   "metadata": {
    "tags": []
   },
   "outputs": [],
   "source": [
    "p3\n",
    "stat_test"
   ]
  },
  {
   "cell_type": "code",
   "execution_count": null,
   "id": "19b1999f-545a-4ba1-920e-76280db3f40f",
   "metadata": {
    "tags": []
   },
   "outputs": [],
   "source": [
    "p2\n",
    "stat_test"
   ]
  },
  {
   "cell_type": "code",
   "execution_count": null,
   "id": "2bbcaeb7-53fc-4178-b85c-7d3f37687c80",
   "metadata": {},
   "outputs": [],
   "source": [
    "# my_comparisons <- list( c(\"0.5\", \"1\"), c(\"1\", \"2\"), c(\"0.5\", \"2\"))\n",
    "# t_test_tooth <- compare_means(len ~ dose, comparisons = my_comparisons, p.adjust.method = \"bonferroni\", method='t.test', data = ToothGrowth)\n",
    "# t_test_tooth <- t_test_tooth %>% mutate(y.position = c(29, 35, 39))\n",
    "# ggboxplot(ToothGrowth, x = \"dose\" , y = \"len\") + stat_pvalue_manual(t_test_tooth, label = \"p.adj\")\n",
    "\n",
    "# max_values<-result %>%\n",
    "#   group_by(gdT_Subset,cohort.cohortGuid) %>%\n",
    "#   slice(which.max(percentage_clr))%>% select(percentage_clr) %>% pull()+1\n",
    "# stat.test$y.position<-max_values"
   ]
  },
  {
   "cell_type": "markdown",
   "id": "8e2c11bc-66a9-4f5d-b088-bf68ff485119",
   "metadata": {},
   "source": [
    "# Final Loop code"
   ]
  },
  {
   "cell_type": "code",
   "execution_count": null,
   "id": "3c6c872e-9319-45fb-8739-97781e74c6af",
   "metadata": {
    "tags": []
   },
   "outputs": [],
   "source": [
    "#for CLR using ggpubr\n",
    "\n",
    "my_comparisons <- list(c(\"BR1_Negative\", \"BR2_Negative\"), c(\"BR1_Negative\", \"BR1_Positive\"), c(\"BR1_Positive\", \"BR2_Positive\"), c(\"BR2_Negative\", \"BR2_Positive\") )\n",
    "\n",
    "for(cell in result$AIFI_L3){\n",
    "    print(cell)\n",
    "    cell_df <- result %>% dplyr::filter(AIFI_L3 == cell)\n",
    "    \n",
    "    stat_test_loop <- wilcox_test(percentage ~ facet_combined, data = cell_df, comparisons = my_comparisons, paired= FALSE)\n",
    "    %>%  adjust_pvalue(method = 'BH') %>% \n",
    "           add_xy_position(x = \"facet_combined\", dodge = 0.8)\n",
    "    \n",
    "    outfile <- paste(\"/home/jupyter/Myeloid_cells/Plots/Percentage_CLR_Comparisons_cohort_&_CMV/Percentage_Comparisons_cohort_&_CMV_\", cell, \".pdf\", sep=\"\")\n",
    "    \n",
    "    p1 <- cell_df %>%\n",
    "    ggpubr::ggboxplot(x = 'facet_combined', y = 'percentage', color = 'CMV.IgG.Serology.Result.Interpretation', add = \"jitter\", size = 1) +\n",
    "    ylab('percentage') + \n",
    "    xlab(cell) +\n",
    "    #scale_y_continuous(breaks = c(0.000, 0.025, 0.050, 0.075, 0.100)) +  # Set y-axis scale\n",
    "    scale_color_manual(values = c(\"green\", \"red\", \"orange\", \"blue\")) +\n",
    "    #stat_compare_means(comparisons = my_comparisons, method = \"wilcox.test\", paired = FALSE) + \n",
    "    #stat_compare_means(label.y = 0.02)+\n",
    "     theme(axis.text.x = element_text(size = 12),     # Adjust font size of x-axis text\n",
    "        axis.text.y = element_text(size = 12),     # Adjust font size of y-axis text\n",
    "        axis.title = element_text(size = 14))+\n",
    "     stat_pvalue_manual(stat_test_loop, label = \"p.adj.signif\", tip.length =0) + #y.position = c(3, 3.5, 4 ,4.5))\n",
    "    scale_y_continuous(expand = expansion(mult = c(0, 0.1)))\n",
    "    pdf(file = outfile, width = 15, height = 7)\n",
    "    print(p1)\n",
    "    dev.off()\n",
    "    \n",
    "    }"
   ]
  },
  {
   "cell_type": "code",
   "execution_count": null,
   "id": "52af4cc6-72a1-47bf-8b0c-7307631bd12c",
   "metadata": {
    "tags": []
   },
   "outputs": [],
   "source": [
    "##For CLR USE GGPLOt2\n",
    "\n",
    "my_comparisons <- list(c(\"BR1_Negative\", \"BR2_Negative\"), c(\"BR1_Negative\", \"BR1_Positive\"), c(\"BR1_Positive\", \"BR2_Positive\"), c(\"BR2_Negative\", \"BR2_Positive\") )\n",
    "\n",
    "for(cell in result$AIFI_L3){\n",
    "    \n",
    "    print(cell)\n",
    "    cell_df <- result %>% dplyr::filter(AIFI_L3 == cell)\n",
    "\n",
    "    \n",
    "    stat_test <- wilcox_test(percentage_clr ~ facet_combined, data = cell_df, comparisons = my_comparisons, paired= FALSE)%>% \n",
    "           adjust_pvalue(method = 'BH') %>% \n",
    "           add_xy_position(x = \"facet_combined\", dodge = 0.8)\n",
    "    \n",
    "    outfile <- paste(\"/home/jupyter/Myeloid_cells/Plots/CLR_Comparisons_cohort_&_CMV/CLR_Comparisons_cohort_&_CMV_\", cell, \".pdf\", sep=\"\")\n",
    "    options(repr.plot.width = 18, repr.plot.height = 10)\n",
    "    p3 <- ggplot(cell_df, aes(x = facet_combined, y = percentage_clr, color = CMV.IgG.Serology.Result.Interpretation)) +\n",
    "      geom_boxplot(width = 0.5, outlier.shape = NA) +\n",
    "      geom_jitter(width =0.1) +\n",
    "      ylab('percentage_clr') + \n",
    "      xlab(cell) +\n",
    "      scale_color_manual(values = c(\"green\", \"red\", \"orange\", \"blue\")) +\n",
    "      theme(axis.text.x = element_text(size = 12, angle = 90 ),     # Adjust font size of x-axis text\n",
    "            axis.text.y = element_text(size = 12),     # Adjust font size of y-axis text\n",
    "            axis.title = element_text(size = 14),\n",
    "            panel.background = element_rect(fill = \"white\"),\n",
    "            axis.line = element_line(color = \"black\"),  # Set axis line color to black,  # Set major grid line color to black\n",
    "            panel.grid.minor = element_blank(),\n",
    "            legend.position = \"top\",  # Set legend position to top\n",
    "            #legend.title = element_blank()\n",
    "           ) +\n",
    "      geom_boxplot(position = position_dodge(width = 1))+\n",
    "      stat_pvalue_manual(stat_test, label = \"p.adj.signif\", tip.length = 0) +\n",
    "      scale_y_continuous(expand = expansion(mult = c(0, 0.1)))\n",
    "      pdf(file = outfile, width = 7, height = 11)\n",
    "      print(p3)\n",
    "      dev.off()\n",
    "\n",
    "    \n",
    "    }\n",
    "\n",
    "\n",
    "\n"
   ]
  },
  {
   "cell_type": "code",
   "execution_count": null,
   "id": "28068788-9c7a-44ec-a4d3-7fa94606d2b4",
   "metadata": {},
   "outputs": [],
   "source": []
  },
  {
   "cell_type": "code",
   "execution_count": null,
   "id": "615955b9-7ab8-4b76-9a51-65cc73bb89d4",
   "metadata": {
    "tags": []
   },
   "outputs": [],
   "source": [
    "stat_test_loop"
   ]
  },
  {
   "cell_type": "code",
   "execution_count": null,
   "id": "82503fd4-965f-4b90-a52a-c0a0eaf8aac0",
   "metadata": {
    "tags": []
   },
   "outputs": [],
   "source": [
    "unique(result$AIFI_L3)"
   ]
  },
  {
   "cell_type": "code",
   "execution_count": null,
   "id": "3c7e6acd-bbcf-4f0e-ba03-df77d0ff8dfa",
   "metadata": {
    "tags": []
   },
   "outputs": [],
   "source": [
    "##For percentage USE GGPUBR\n",
    "\n",
    "my_comparisons <- list(c(\"BR1_Negative\", \"BR2_Negative\"), c(\"BR1_Negative\", \"BR1_Positive\"), c(\"BR1_Positive\", \"BR2_Positive\"), c(\"BR2_Negative\", \"BR2_Positive\") )\n",
    "\n",
    "for(cell in result$AIFI_L3){\n",
    "    \n",
    "    print(cell)\n",
    "    cell_df <- result %>% dplyr::filter(AIFI_L3 == cell)\n",
    "    \n",
    "    \n",
    "        \n",
    "    stat_test <- wilcox_test(percentage ~ facet_combined, data = cell_df, comparisons = my_comparisons, paired= FALSE)%>% \n",
    "           adjust_pvalue(method = 'BH') %>% \n",
    "           add_xy_position(x = \"facet_combined\", dodge = 0.8)\n",
    "    #options(repr.plot.width = 18, repr.plot.height = 10)\n",
    "    outfile <- paste(\"/home/jupyter/Myeloid_cells/Plots/Percentage_Comparisons_cohort_&_CMV/Percentage_Comparisons_cohort_&_CMV_\", cell, \".pdf\", sep=\"\")\n",
    "    p2 <- cell_df %>%\n",
    "        ggpubr::ggboxplot(x = 'facet_combined', y = 'percentage', color = 'CMV.IgG.Serology.Result.Interpretation', add = \"jitter\", size = 1) +\n",
    "        ylab('percentage') + \n",
    "        xlab(cell) +\n",
    "        #scale_y_continuous(breaks = c(0.000, 0.025, 0.050, 0.075, 0.100)) +  # Set y-axis scale\n",
    "        scale_color_manual(values = c(\"green\", \"red\", \"orange\", \"blue\")) +\n",
    "        #stat_compare_means(comparisons = my_comparisons, method = \"wilcox.test\", paired = FALSE) + \n",
    "        #stat_compare_means(label.y = 0.02)+\n",
    "         theme(axis.text.x = element_text(size =8),     # Adjust font size of x-axis text\n",
    "            axis.text.y = element_text(size = 8),     # Adjust font size of y-axis text\n",
    "            axis.title = element_text(size = 8),\n",
    "              legend.text = element_text(size = 8))+\n",
    "        stat_pvalue_manual(stat_test, label = \"p.adj.signif\", tip.lenght =0)+   #, y.position = c(5, 5.5, 6 ,6.5))\n",
    "        scale_y_continuous(expand = expansion(mult = c(0, 0.1)))\n",
    "    \n",
    "    ggpar(p2,legend = \"right\", legend.title = \"CMV.IgG.Serology.Result.Interpretation\",font.legend = c(8, \"black\"))\n",
    "    pdf(file = outfile, width = 7, height = 11)\n",
    "    print(p2)\n",
    "    dev.off()\n",
    "\n",
    "    \n",
    "    }"
   ]
  },
  {
   "cell_type": "code",
   "execution_count": null,
   "id": "bb478f68-b63f-476d-b546-8e95951e7a9a",
   "metadata": {
    "tags": []
   },
   "outputs": [],
   "source": [
    "##For percentage USE GGPLOt2\n",
    "\n",
    "my_comparisons <- list(c(\"BR1_Negative\", \"BR2_Negative\"), c(\"BR1_Negative\", \"BR1_Positive\"), c(\"BR1_Positive\", \"BR2_Positive\"), c(\"BR2_Negative\", \"BR2_Positive\") )\n",
    "\n",
    "for(cell in result$AIFI_L3){\n",
    "    \n",
    "    print(cell)\n",
    "    cell_df <- result %>% dplyr::filter(AIFI_L3 == cell)\n",
    "    \n",
    "    stat_test <- wilcox_test(percentage ~ facet_combined, data = cell_df, comparisons = my_comparisons, paired= FALSE)%>% \n",
    "           adjust_pvalue(method = 'BH') %>% \n",
    "           add_xy_position(x = \"facet_combined\", dodge = 0.8)\n",
    "        \n",
    "    outfile <- paste(\"/home/jupyter/Myeloid_cells/Plots/Percentage_Comparisons_cohort_&_CMV/Percentage_Comparisons_cohort_&_CMV_\", cell, \".pdf\", sep=\"\")\n",
    "    options(repr.plot.width = 18, repr.plot.height = 10)\n",
    "    p3 <- ggplot(cell_df, aes(x = facet_combined, y = percentage, color = CMV.IgG.Serology.Result.Interpretation)) +\n",
    "      geom_boxplot(width = 0.5, outlier.shape = NA) +\n",
    "      geom_jitter(width =0.1) +\n",
    "      ylab('percentage') + \n",
    "      xlab(cell) +\n",
    "      scale_color_manual(values = c(\"green\", \"red\", \"orange\", \"blue\")) +\n",
    "      theme(axis.text.x = element_text(size = 12, angle = 90 ),     # Adjust font size of x-axis text\n",
    "            axis.text.y = element_text(size = 12),     # Adjust font size of y-axis text\n",
    "            axis.title = element_text(size = 14),\n",
    "            panel.background = element_rect(fill = \"white\"),\n",
    "            axis.line = element_line(color = \"black\"),  # Set axis line color to black,  # Set major grid line color to black\n",
    "            panel.grid.minor = element_blank(),\n",
    "            legend.position = \"top\",  # Set legend position to top\n",
    "            #legend.title = element_blank()\n",
    "           ) +\n",
    "      geom_boxplot(position = position_dodge(width = 1))+\n",
    "      stat_pvalue_manual(stat_test, label = \"p.adj.signif\", tip.length = 0) +\n",
    "      scale_y_continuous(expand = expansion(mult = c(0, 0.1)))\n",
    "      pdf(file = outfile, width = 7, height = 11)\n",
    "      print(p3)\n",
    "      dev.off()\n",
    "\n",
    "    \n",
    "    }\n",
    "\n",
    "\n",
    "\n"
   ]
  },
  {
   "cell_type": "code",
   "execution_count": null,
   "id": "cf42cb56-61b0-4d93-8f58-cf1e664e8b7b",
   "metadata": {},
   "outputs": [],
   "source": []
  }
 ],
 "metadata": {
  "kernelspec": {
   "display_name": "R 4",
   "language": "R",
   "name": "ir4"
  },
  "language_info": {
   "codemirror_mode": "r",
   "file_extension": ".r",
   "mimetype": "text/x-r-source",
   "name": "R",
   "pygments_lexer": "r",
   "version": "4.3.1"
  }
 },
 "nbformat": 4,
 "nbformat_minor": 5
}
