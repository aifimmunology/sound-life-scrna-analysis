{
 "cells": [
  {
   "cell_type": "markdown",
   "id": "774ba66d-0156-4107-b209-7e9c1e748633",
   "metadata": {},
   "source": [
    "# Assemble all sample metadata\n",
    "\n",
    "Here, we'll assemble all sample metadata, including CMV, BMI, and COVID vaccine data, for use in visualization tools.\n",
    "\n",
    "The resulting .csv file includes these columns, ordered hierarchically based on origin:  \n",
    "Cohort -> Subject -> Sample -> Specimen -> Data\n",
    "  \n",
    "`cohort.cohortGuid`: Cohort (BR1 or BR2)  \n",
    "`subject.subjectGuid`: Subject GUID (e.g. BR1017)  \n",
    "`subject.biologicalSex`: Subject Biological Sex (Female or Male)  \n",
    "`subject.cmv`: Subject CMV Status (Negative or Positive)  \n",
    "`subject.bmi`: Subject BMI (Integer value)  \n",
    "`subject.race`: Subject Self-Reported Race  \n",
    "`subject.ethnicity`: Subject Self-Reported Ethnicity   \n",
    "`subject.birthYear`: Subject Birth Year (e.g. 1988)  \n",
    "`subject.ageAtFirstDraw`: Subject Age at First Sample Draw (e.g. 32)  \n",
    "`subject.covidVaxDose1.daysSinceFirstVisit`: Timing of first COVID-19 Vaccine dose relative to First Sample Draw (e.g. 440)  \n",
    "`subject.covidVaxDose2.daysSinceFirstVisit`: Timing of second COVID-19 Vaccine dose relative to First Sample Draw (e.g. 461)  \n",
    "`sample.sampleKitGuid`: Sample Kit GUID (e.g. KT00140)  \n",
    "`sample.visitName`: Sample Visit Name (e.g. Flu Year 2 Day 7)  \n",
    "`sample.drawDate`: Sample Draw Date (Year-Month; e.g. 2021-09)  \n",
    "`sample.subjectAgeAtDraw`: Age of Subject at the time of Sample Draw (e.g. 33)  \n",
    "`sample.daysSinceFirstVisit`: Timing of Sample Draw relative to First Sample Draw (e.g. 87)  \n",
    "`specimen.specimenGuid`: Specimen GUID (a.k.a. pbmc_sample_id; e.g. PB00140-01)  \n",
    "`pipeline.fileGuid`: File GUID for the originating Pipeline .h5 file  "
   ]
  },
  {
   "cell_type": "code",
   "execution_count": 1,
   "id": "d88fa258-f48d-4daa-8ff8-9fa706cce760",
   "metadata": {},
   "outputs": [],
   "source": [
    "from datetime import date\n",
    "import hisepy\n",
    "import os\n",
    "import pandas as pd\n",
    "import re"
   ]
  },
  {
   "cell_type": "code",
   "execution_count": 2,
   "id": "7b8467df-94ee-4ebc-9863-2f9cf352cf0b",
   "metadata": {
    "tags": []
   },
   "outputs": [],
   "source": [
    "out_dir = 'output'\n",
    "if not os.path.isdir(out_dir):\n",
    "    os.makedirs(out_dir)"
   ]
  },
  {
   "cell_type": "markdown",
   "id": "4287f557-9edb-4686-87b7-b108e8e680dc",
   "metadata": {},
   "source": [
    "## Helper functions"
   ]
  },
  {
   "cell_type": "code",
   "execution_count": 3,
   "id": "5619dd76-8c1b-4225-8703-b331b7c79366",
   "metadata": {},
   "outputs": [],
   "source": [
    "def cache_uuid_path(uuid):\n",
    "    cache_path = '/home/jupyter/cache/{u}'.format(u = uuid)\n",
    "    if not os.path.isdir(cache_path):\n",
    "        hise_res = hisepy.reader.cache_files([uuid])\n",
    "    filename = os.listdir(cache_path)[0]\n",
    "    cache_file = '{p}/{f}'.format(p = cache_path, f = filename)\n",
    "    return cache_file"
   ]
  },
  {
   "cell_type": "code",
   "execution_count": 4,
   "id": "68e338d7-2321-41f2-97ef-c5cb3a68f233",
   "metadata": {},
   "outputs": [],
   "source": [
    "def read_csv_uuid(uuid):\n",
    "    cache_file = cache_uuid_path(uuid)\n",
    "    res = pd.read_csv(cache_file)\n",
    "    return res"
   ]
  },
  {
   "cell_type": "code",
   "execution_count": 5,
   "id": "ed581b96-4148-4135-b570-9a8e11324133",
   "metadata": {},
   "outputs": [],
   "source": [
    "def element_id(n = 3):\n",
    "    import periodictable\n",
    "    from random import randrange\n",
    "    rand_el = []\n",
    "    for i in range(n):\n",
    "        el = randrange(0,118)\n",
    "        rand_el.append(periodictable.elements[el].name)\n",
    "    rand_str = '-'.join(rand_el)\n",
    "    return rand_str"
   ]
  },
  {
   "cell_type": "markdown",
   "id": "38d5273c-a427-425c-9b81-fc4f957766bc",
   "metadata": {},
   "source": [
    "## Prepare sample metadata\n",
    "\n",
    "Used for grouping samples for output and to ensure that we have all of the metadata we require in the final files for analysis"
   ]
  },
  {
   "cell_type": "code",
   "execution_count": 6,
   "id": "405fdb65-9b7d-4b4e-a36a-a3bd28ab072c",
   "metadata": {},
   "outputs": [],
   "source": [
    "sample_meta_uuid = 'd82c5c42-ae5f-4e67-956e-cd3b7bf88105'\n",
    "sample_meta = read_csv_uuid(sample_meta_uuid)"
   ]
  },
  {
   "cell_type": "markdown",
   "id": "fe35f431-82a6-46fa-ab16-23b05ff12ecb",
   "metadata": {},
   "source": [
    "### Rename specimen and file-specific columns"
   ]
  },
  {
   "cell_type": "code",
   "execution_count": 7,
   "id": "ce22089e-b0bc-4447-9eab-880ca57c19b1",
   "metadata": {},
   "outputs": [],
   "source": [
    "sample_meta = sample_meta.rename({'pbmc_sample_id': 'specimen.specimenGuid'}, axis = 1)\n",
    "sample_meta = sample_meta.rename({'file.id': 'pipeline.fileGuid'}, axis = 1)"
   ]
  },
  {
   "cell_type": "markdown",
   "id": "2e35a759-2560-46c9-b649-44a2a95e9426",
   "metadata": {},
   "source": [
    "### Add age at sample draw and age at enrollment"
   ]
  },
  {
   "cell_type": "code",
   "execution_count": 8,
   "id": "0370412d-316f-4802-adf2-4e35cd6e4373",
   "metadata": {},
   "outputs": [],
   "source": [
    "def drawDate_to_drawYear(drawDate):\n",
    "    drawYear = re.sub('-.+', '', drawDate)\n",
    "    drawYear = int(drawYear)\n",
    "    return(drawYear)"
   ]
  },
  {
   "cell_type": "code",
   "execution_count": 9,
   "id": "7974bcb3-e9fb-4695-a588-606505b59f61",
   "metadata": {},
   "outputs": [],
   "source": [
    "sample_meta['sample.drawYear'] = [drawDate_to_drawYear(d) for d in sample_meta['sample.drawDate']]\n",
    "sample_meta['sample.subjectAgeAtDraw'] = sample_meta['sample.drawYear'] - sample_meta['subject.birthYear']"
   ]
  },
  {
   "cell_type": "code",
   "execution_count": 10,
   "id": "aab25f0c-a4fd-4675-a305-a835b8cd0cd4",
   "metadata": {},
   "outputs": [],
   "source": [
    "first_draw_age = (\n",
    "    sample_meta\n",
    "        .groupby('subject.subjectGuid', as_index = False)['sample.subjectAgeAtDraw']\n",
    "        .min()\n",
    "        .rename({'sample.subjectAgeAtDraw': 'subject.ageAtFirstDraw'}, axis = 1)\n",
    ")"
   ]
  },
  {
   "cell_type": "code",
   "execution_count": 11,
   "id": "0468ac66-8c7b-42a2-9150-2afa921a6b43",
   "metadata": {},
   "outputs": [],
   "source": [
    "sample_meta = sample_meta.merge(first_draw_age, on = 'subject.subjectGuid', how = 'left')"
   ]
  },
  {
   "cell_type": "markdown",
   "id": "a5a92c65-c8d0-4722-b397-5e8b739e6ae8",
   "metadata": {},
   "source": [
    "### Simplify drawDate"
   ]
  },
  {
   "cell_type": "code",
   "execution_count": 12,
   "id": "821ded6b-5b42-46e5-8519-ab723dc8e42e",
   "metadata": {},
   "outputs": [],
   "source": [
    "sample_meta['sample.drawDate'] = [re.sub('([0-9]{4}-[0-9]{2})-.+', '\\\\1', d) for d in sample_meta['sample.drawDate']]"
   ]
  },
  {
   "cell_type": "markdown",
   "id": "79803b08-8f29-4ec7-97be-8c912894c232",
   "metadata": {},
   "source": [
    "### Add CMV and BMI from clinical labs"
   ]
  },
  {
   "cell_type": "code",
   "execution_count": 13,
   "id": "f78aac1d-35d6-4288-a907-4d3e10b50462",
   "metadata": {},
   "outputs": [],
   "source": [
    "cmv_meta_uuid = '9469f67c-b09a-454d-9fb9-f50ff3494d69'\n",
    "cmv_meta = read_csv_uuid(cmv_meta_uuid)"
   ]
  },
  {
   "cell_type": "code",
   "execution_count": 14,
   "id": "f5649f1b-04c4-4799-8a2f-3e20ba9a1d49",
   "metadata": {},
   "outputs": [
    {
     "data": {
      "text/plain": [
       "(96, 2)"
      ]
     },
     "execution_count": 14,
     "metadata": {},
     "output_type": "execute_result"
    }
   ],
   "source": [
    "cmv_meta = cmv_meta[['subject.subjectGuid', 'subject.cmv']].drop_duplicates()\n",
    "cmv_meta.shape"
   ]
  },
  {
   "cell_type": "code",
   "execution_count": 15,
   "id": "cef66af2-8598-4986-a621-4b548ae6760c",
   "metadata": {},
   "outputs": [
    {
     "data": {
      "text/html": [
       "<div>\n",
       "<style scoped>\n",
       "    .dataframe tbody tr th:only-of-type {\n",
       "        vertical-align: middle;\n",
       "    }\n",
       "\n",
       "    .dataframe tbody tr th {\n",
       "        vertical-align: top;\n",
       "    }\n",
       "\n",
       "    .dataframe thead th {\n",
       "        text-align: right;\n",
       "    }\n",
       "</style>\n",
       "<table border=\"1\" class=\"dataframe\">\n",
       "  <thead>\n",
       "    <tr style=\"text-align: right;\">\n",
       "      <th></th>\n",
       "      <th>subject.subjectGuid</th>\n",
       "      <th>subject.cmv</th>\n",
       "    </tr>\n",
       "  </thead>\n",
       "  <tbody>\n",
       "    <tr>\n",
       "      <th>0</th>\n",
       "      <td>BR1001</td>\n",
       "      <td>Negative</td>\n",
       "    </tr>\n",
       "    <tr>\n",
       "      <th>1</th>\n",
       "      <td>BR1002</td>\n",
       "      <td>Negative</td>\n",
       "    </tr>\n",
       "    <tr>\n",
       "      <th>2</th>\n",
       "      <td>BR1003</td>\n",
       "      <td>Negative</td>\n",
       "    </tr>\n",
       "    <tr>\n",
       "      <th>3</th>\n",
       "      <td>BR1004</td>\n",
       "      <td>Negative</td>\n",
       "    </tr>\n",
       "    <tr>\n",
       "      <th>4</th>\n",
       "      <td>BR1005</td>\n",
       "      <td>Negative</td>\n",
       "    </tr>\n",
       "  </tbody>\n",
       "</table>\n",
       "</div>"
      ],
      "text/plain": [
       "  subject.subjectGuid subject.cmv\n",
       "0              BR1001    Negative\n",
       "1              BR1002    Negative\n",
       "2              BR1003    Negative\n",
       "3              BR1004    Negative\n",
       "4              BR1005    Negative"
      ]
     },
     "execution_count": 15,
     "metadata": {},
     "output_type": "execute_result"
    }
   ],
   "source": [
    "cmv_meta.head()"
   ]
  },
  {
   "cell_type": "code",
   "execution_count": 16,
   "id": "e56924d5-f73d-4616-b90e-03c928f84802",
   "metadata": {},
   "outputs": [],
   "source": [
    "bmi_meta_uuid = 'e507258c-d175-4d8e-a455-5229870dc991'\n",
    "bmi_meta = read_csv_uuid(bmi_meta_uuid)"
   ]
  },
  {
   "cell_type": "code",
   "execution_count": 17,
   "id": "1bcc7a68-ca01-47d0-9b03-a258546a8133",
   "metadata": {},
   "outputs": [],
   "source": [
    "bmi_meta = bmi_meta[['sample.sampleKitGuid', 'subject.bmi']]\n",
    "bmi_meta['subject.bmi'] = bmi_meta['subject.bmi'].round(0)"
   ]
  },
  {
   "cell_type": "code",
   "execution_count": 18,
   "id": "3734962f-e920-4d94-904c-a035f6535dc9",
   "metadata": {},
   "outputs": [
    {
     "data": {
      "text/html": [
       "<div>\n",
       "<style scoped>\n",
       "    .dataframe tbody tr th:only-of-type {\n",
       "        vertical-align: middle;\n",
       "    }\n",
       "\n",
       "    .dataframe tbody tr th {\n",
       "        vertical-align: top;\n",
       "    }\n",
       "\n",
       "    .dataframe thead th {\n",
       "        text-align: right;\n",
       "    }\n",
       "</style>\n",
       "<table border=\"1\" class=\"dataframe\">\n",
       "  <thead>\n",
       "    <tr style=\"text-align: right;\">\n",
       "      <th></th>\n",
       "      <th>sample.sampleKitGuid</th>\n",
       "      <th>subject.bmi</th>\n",
       "    </tr>\n",
       "  </thead>\n",
       "  <tbody>\n",
       "    <tr>\n",
       "      <th>0</th>\n",
       "      <td>KT00001</td>\n",
       "      <td>23.0</td>\n",
       "    </tr>\n",
       "    <tr>\n",
       "      <th>1</th>\n",
       "      <td>KT00037</td>\n",
       "      <td>23.0</td>\n",
       "    </tr>\n",
       "    <tr>\n",
       "      <th>2</th>\n",
       "      <td>KT00008</td>\n",
       "      <td>23.0</td>\n",
       "    </tr>\n",
       "    <tr>\n",
       "      <th>3</th>\n",
       "      <td>KT00274</td>\n",
       "      <td>22.0</td>\n",
       "    </tr>\n",
       "    <tr>\n",
       "      <th>4</th>\n",
       "      <td>KT01560</td>\n",
       "      <td>22.0</td>\n",
       "    </tr>\n",
       "  </tbody>\n",
       "</table>\n",
       "</div>"
      ],
      "text/plain": [
       "  sample.sampleKitGuid  subject.bmi\n",
       "0              KT00001         23.0\n",
       "1              KT00037         23.0\n",
       "2              KT00008         23.0\n",
       "3              KT00274         22.0\n",
       "4              KT01560         22.0"
      ]
     },
     "execution_count": 18,
     "metadata": {},
     "output_type": "execute_result"
    }
   ],
   "source": [
    "bmi_meta.head()"
   ]
  },
  {
   "cell_type": "markdown",
   "id": "89e36edb-0360-465c-95e1-48337297b672",
   "metadata": {},
   "source": [
    "### Add COVID Vaccination data"
   ]
  },
  {
   "cell_type": "code",
   "execution_count": 19,
   "id": "580e13ee-e295-4627-9b9f-d7025f766855",
   "metadata": {},
   "outputs": [],
   "source": [
    "covid_meta_uuid = 'ff8878a6-bd90-4183-8554-4bb24032df44'\n",
    "covid_meta = read_csv_uuid(covid_meta_uuid)"
   ]
  },
  {
   "cell_type": "code",
   "execution_count": 20,
   "id": "6eab8937-816f-4914-a0f7-ed52ca026961",
   "metadata": {},
   "outputs": [
    {
     "data": {
      "text/html": [
       "<div>\n",
       "<style scoped>\n",
       "    .dataframe tbody tr th:only-of-type {\n",
       "        vertical-align: middle;\n",
       "    }\n",
       "\n",
       "    .dataframe tbody tr th {\n",
       "        vertical-align: top;\n",
       "    }\n",
       "\n",
       "    .dataframe thead th {\n",
       "        text-align: right;\n",
       "    }\n",
       "</style>\n",
       "<table border=\"1\" class=\"dataframe\">\n",
       "  <thead>\n",
       "    <tr style=\"text-align: right;\">\n",
       "      <th></th>\n",
       "      <th>subject.subjectGuid</th>\n",
       "      <th>subject.covidVaxDose1.daysSinceFirstVisit</th>\n",
       "      <th>subject.covidVaxDose2.daysSinceFirstVisit</th>\n",
       "    </tr>\n",
       "  </thead>\n",
       "  <tbody>\n",
       "    <tr>\n",
       "      <th>0</th>\n",
       "      <td>BR1001</td>\n",
       "      <td>NaN</td>\n",
       "      <td>NaN</td>\n",
       "    </tr>\n",
       "    <tr>\n",
       "      <th>1</th>\n",
       "      <td>BR1002</td>\n",
       "      <td>440.0</td>\n",
       "      <td>461.0</td>\n",
       "    </tr>\n",
       "    <tr>\n",
       "      <th>2</th>\n",
       "      <td>BR1003</td>\n",
       "      <td>440.0</td>\n",
       "      <td>461.0</td>\n",
       "    </tr>\n",
       "    <tr>\n",
       "      <th>3</th>\n",
       "      <td>BR1004</td>\n",
       "      <td>543.0</td>\n",
       "      <td>563.0</td>\n",
       "    </tr>\n",
       "    <tr>\n",
       "      <th>4</th>\n",
       "      <td>BR1005</td>\n",
       "      <td>451.0</td>\n",
       "      <td>492.0</td>\n",
       "    </tr>\n",
       "  </tbody>\n",
       "</table>\n",
       "</div>"
      ],
      "text/plain": [
       "  subject.subjectGuid  subject.covidVaxDose1.daysSinceFirstVisit  \\\n",
       "0              BR1001                                        NaN   \n",
       "1              BR1002                                      440.0   \n",
       "2              BR1003                                      440.0   \n",
       "3              BR1004                                      543.0   \n",
       "4              BR1005                                      451.0   \n",
       "\n",
       "   subject.covidVaxDose2.daysSinceFirstVisit  \n",
       "0                                        NaN  \n",
       "1                                      461.0  \n",
       "2                                      461.0  \n",
       "3                                      563.0  \n",
       "4                                      492.0  "
      ]
     },
     "execution_count": 20,
     "metadata": {},
     "output_type": "execute_result"
    }
   ],
   "source": [
    "covid_meta.head()"
   ]
  },
  {
   "cell_type": "markdown",
   "id": "2fcedcfb-75ef-4f33-be53-f42d5ff40ef0",
   "metadata": {},
   "source": [
    "### Combine sample-level metadata"
   ]
  },
  {
   "cell_type": "code",
   "execution_count": 21,
   "id": "8e4163e0-f4c0-4dc5-99e1-fccfbaae4868",
   "metadata": {},
   "outputs": [],
   "source": [
    "combined_sample_meta = sample_meta.merge(cmv_meta, on = 'subject.subjectGuid', how = 'left')\n",
    "combined_sample_meta = combined_sample_meta.merge(bmi_meta, on = 'sample.sampleKitGuid', how = 'left')\n",
    "combined_sample_meta = combined_sample_meta.merge(covid_meta, on = 'subject.subjectGuid', how = 'left')"
   ]
  },
  {
   "cell_type": "markdown",
   "id": "c75f7bc4-7a90-45c6-9c45-383f77dac001",
   "metadata": {},
   "source": [
    "We only need to keep some of the metadata columns that pertain to cohort, subject, and sample. We'll also keep the originating File GUID to help us keep track of provenance. Let's select just these columns:"
   ]
  },
  {
   "cell_type": "code",
   "execution_count": 22,
   "id": "a4148919-9efc-4b7c-a564-f10a80e9e7cf",
   "metadata": {},
   "outputs": [],
   "source": [
    "keep_meta = [\n",
    "    'cohort.cohortGuid',\n",
    "    'subject.subjectGuid', 'subject.biologicalSex', 'subject.cmv', 'subject.bmi',\n",
    "    'subject.race', 'subject.ethnicity', 'subject.birthYear', 'subject.ageAtFirstDraw',\n",
    "    'subject.covidVaxDose1.daysSinceFirstVisit', 'subject.covidVaxDose2.daysSinceFirstVisit',\n",
    "    'sample.sampleKitGuid', 'sample.visitName', 'sample.drawDate', \n",
    "    'sample.subjectAgeAtDraw', 'sample.daysSinceFirstVisit',\n",
    "    'specimen.specimenGuid', 'pipeline.fileGuid'\n",
    "]"
   ]
  },
  {
   "cell_type": "code",
   "execution_count": 23,
   "id": "01b4c91a-56fe-4eff-a30c-a454fd4db1da",
   "metadata": {
    "scrolled": true
   },
   "outputs": [],
   "source": [
    "combined_sample_meta = combined_sample_meta[keep_meta]"
   ]
  },
  {
   "cell_type": "code",
   "execution_count": 24,
   "id": "62a7641e-e0b0-464d-9ef4-979d24e3001b",
   "metadata": {},
   "outputs": [
    {
     "data": {
      "text/plain": [
       "(868, 18)"
      ]
     },
     "execution_count": 24,
     "metadata": {},
     "output_type": "execute_result"
    }
   ],
   "source": [
    "combined_sample_meta.shape"
   ]
  },
  {
   "cell_type": "code",
   "execution_count": 25,
   "id": "fc4d91f3-4bfe-4404-b2a8-ded250cb06e0",
   "metadata": {},
   "outputs": [
    {
     "data": {
      "text/plain": [
       "Index(['cohort.cohortGuid', 'subject.subjectGuid', 'subject.biologicalSex',\n",
       "       'subject.cmv', 'subject.bmi', 'subject.race', 'subject.ethnicity',\n",
       "       'subject.birthYear', 'subject.ageAtFirstDraw',\n",
       "       'subject.covidVaxDose1.daysSinceFirstVisit',\n",
       "       'subject.covidVaxDose2.daysSinceFirstVisit', 'sample.sampleKitGuid',\n",
       "       'sample.visitName', 'sample.drawDate', 'sample.subjectAgeAtDraw',\n",
       "       'sample.daysSinceFirstVisit', 'specimen.specimenGuid',\n",
       "       'pipeline.fileGuid'],\n",
       "      dtype='object')"
      ]
     },
     "execution_count": 25,
     "metadata": {},
     "output_type": "execute_result"
    }
   ],
   "source": [
    "combined_sample_meta.columns"
   ]
  },
  {
   "cell_type": "code",
   "execution_count": 26,
   "id": "e85fbcb9-d2f3-4e94-868a-b3e0729ed7ea",
   "metadata": {},
   "outputs": [
    {
     "data": {
      "text/html": [
       "<div>\n",
       "<style scoped>\n",
       "    .dataframe tbody tr th:only-of-type {\n",
       "        vertical-align: middle;\n",
       "    }\n",
       "\n",
       "    .dataframe tbody tr th {\n",
       "        vertical-align: top;\n",
       "    }\n",
       "\n",
       "    .dataframe thead th {\n",
       "        text-align: right;\n",
       "    }\n",
       "</style>\n",
       "<table border=\"1\" class=\"dataframe\">\n",
       "  <thead>\n",
       "    <tr style=\"text-align: right;\">\n",
       "      <th></th>\n",
       "      <th>cohort.cohortGuid</th>\n",
       "      <th>subject.subjectGuid</th>\n",
       "      <th>subject.biologicalSex</th>\n",
       "      <th>subject.cmv</th>\n",
       "      <th>subject.bmi</th>\n",
       "      <th>subject.race</th>\n",
       "      <th>subject.ethnicity</th>\n",
       "      <th>subject.birthYear</th>\n",
       "      <th>subject.ageAtFirstDraw</th>\n",
       "      <th>subject.covidVaxDose1.daysSinceFirstVisit</th>\n",
       "      <th>subject.covidVaxDose2.daysSinceFirstVisit</th>\n",
       "      <th>sample.sampleKitGuid</th>\n",
       "      <th>sample.visitName</th>\n",
       "      <th>sample.drawDate</th>\n",
       "      <th>sample.subjectAgeAtDraw</th>\n",
       "      <th>sample.daysSinceFirstVisit</th>\n",
       "      <th>specimen.specimenGuid</th>\n",
       "      <th>pipeline.fileGuid</th>\n",
       "    </tr>\n",
       "  </thead>\n",
       "  <tbody>\n",
       "    <tr>\n",
       "      <th>0</th>\n",
       "      <td>BR1</td>\n",
       "      <td>BR1001</td>\n",
       "      <td>Female</td>\n",
       "      <td>Negative</td>\n",
       "      <td>23.0</td>\n",
       "      <td>Caucasian</td>\n",
       "      <td>Non-Hispanic origin</td>\n",
       "      <td>1987</td>\n",
       "      <td>32</td>\n",
       "      <td>NaN</td>\n",
       "      <td>NaN</td>\n",
       "      <td>KT00001</td>\n",
       "      <td>Flu Year 1 Day 0</td>\n",
       "      <td>2019-10</td>\n",
       "      <td>32</td>\n",
       "      <td>0</td>\n",
       "      <td>PB00001-01</td>\n",
       "      <td>fec489f9-9a74-4635-aa91-d2bf09d1faec</td>\n",
       "    </tr>\n",
       "    <tr>\n",
       "      <th>1</th>\n",
       "      <td>BR1</td>\n",
       "      <td>BR1002</td>\n",
       "      <td>Male</td>\n",
       "      <td>Negative</td>\n",
       "      <td>22.0</td>\n",
       "      <td>Caucasian</td>\n",
       "      <td>Non-Hispanic origin</td>\n",
       "      <td>1991</td>\n",
       "      <td>28</td>\n",
       "      <td>440.0</td>\n",
       "      <td>461.0</td>\n",
       "      <td>KT00002</td>\n",
       "      <td>Flu Year 1 Day 0</td>\n",
       "      <td>2019-10</td>\n",
       "      <td>28</td>\n",
       "      <td>0</td>\n",
       "      <td>PB00002-01</td>\n",
       "      <td>7c0c7979-eebd-4aba-b5b2-6e76b4643623</td>\n",
       "    </tr>\n",
       "    <tr>\n",
       "      <th>2</th>\n",
       "      <td>BR1</td>\n",
       "      <td>BR1003</td>\n",
       "      <td>Female</td>\n",
       "      <td>Negative</td>\n",
       "      <td>21.0</td>\n",
       "      <td>Caucasian</td>\n",
       "      <td>Non-Hispanic origin</td>\n",
       "      <td>1989</td>\n",
       "      <td>30</td>\n",
       "      <td>440.0</td>\n",
       "      <td>461.0</td>\n",
       "      <td>KT00003</td>\n",
       "      <td>Flu Year 1 Day 0</td>\n",
       "      <td>2019-10</td>\n",
       "      <td>30</td>\n",
       "      <td>0</td>\n",
       "      <td>PB00003-01</td>\n",
       "      <td>40efd03a-cb2f-4677-af42-a056cbfe5a17</td>\n",
       "    </tr>\n",
       "    <tr>\n",
       "      <th>3</th>\n",
       "      <td>BR1</td>\n",
       "      <td>BR1004</td>\n",
       "      <td>Male</td>\n",
       "      <td>Negative</td>\n",
       "      <td>22.0</td>\n",
       "      <td>Caucasian</td>\n",
       "      <td>Non-Hispanic origin</td>\n",
       "      <td>1989</td>\n",
       "      <td>30</td>\n",
       "      <td>543.0</td>\n",
       "      <td>563.0</td>\n",
       "      <td>KT00004</td>\n",
       "      <td>Flu Year 1 Day 0</td>\n",
       "      <td>2019-10</td>\n",
       "      <td>30</td>\n",
       "      <td>0</td>\n",
       "      <td>PB00004-01</td>\n",
       "      <td>68fbcd34-1d63-461d-8195-df5b8dc61b31</td>\n",
       "    </tr>\n",
       "    <tr>\n",
       "      <th>4</th>\n",
       "      <td>BR1</td>\n",
       "      <td>BR1005</td>\n",
       "      <td>Female</td>\n",
       "      <td>Negative</td>\n",
       "      <td>20.0</td>\n",
       "      <td>Caucasian</td>\n",
       "      <td>Non-Hispanic origin</td>\n",
       "      <td>1992</td>\n",
       "      <td>27</td>\n",
       "      <td>451.0</td>\n",
       "      <td>492.0</td>\n",
       "      <td>KT00006</td>\n",
       "      <td>Flu Year 1 Day 0</td>\n",
       "      <td>2019-10</td>\n",
       "      <td>27</td>\n",
       "      <td>0</td>\n",
       "      <td>PB00006-01</td>\n",
       "      <td>ea8d98e9-e99e-4dc6-9e78-9866e0deac68</td>\n",
       "    </tr>\n",
       "  </tbody>\n",
       "</table>\n",
       "</div>"
      ],
      "text/plain": [
       "  cohort.cohortGuid subject.subjectGuid subject.biologicalSex subject.cmv  \\\n",
       "0               BR1              BR1001                Female    Negative   \n",
       "1               BR1              BR1002                  Male    Negative   \n",
       "2               BR1              BR1003                Female    Negative   \n",
       "3               BR1              BR1004                  Male    Negative   \n",
       "4               BR1              BR1005                Female    Negative   \n",
       "\n",
       "   subject.bmi subject.race    subject.ethnicity  subject.birthYear  \\\n",
       "0         23.0    Caucasian  Non-Hispanic origin               1987   \n",
       "1         22.0    Caucasian  Non-Hispanic origin               1991   \n",
       "2         21.0    Caucasian  Non-Hispanic origin               1989   \n",
       "3         22.0    Caucasian  Non-Hispanic origin               1989   \n",
       "4         20.0    Caucasian  Non-Hispanic origin               1992   \n",
       "\n",
       "   subject.ageAtFirstDraw  subject.covidVaxDose1.daysSinceFirstVisit  \\\n",
       "0                      32                                        NaN   \n",
       "1                      28                                      440.0   \n",
       "2                      30                                      440.0   \n",
       "3                      30                                      543.0   \n",
       "4                      27                                      451.0   \n",
       "\n",
       "   subject.covidVaxDose2.daysSinceFirstVisit sample.sampleKitGuid  \\\n",
       "0                                        NaN              KT00001   \n",
       "1                                      461.0              KT00002   \n",
       "2                                      461.0              KT00003   \n",
       "3                                      563.0              KT00004   \n",
       "4                                      492.0              KT00006   \n",
       "\n",
       "   sample.visitName sample.drawDate  sample.subjectAgeAtDraw  \\\n",
       "0  Flu Year 1 Day 0         2019-10                       32   \n",
       "1  Flu Year 1 Day 0         2019-10                       28   \n",
       "2  Flu Year 1 Day 0         2019-10                       30   \n",
       "3  Flu Year 1 Day 0         2019-10                       30   \n",
       "4  Flu Year 1 Day 0         2019-10                       27   \n",
       "\n",
       "   sample.daysSinceFirstVisit specimen.specimenGuid  \\\n",
       "0                           0            PB00001-01   \n",
       "1                           0            PB00002-01   \n",
       "2                           0            PB00003-01   \n",
       "3                           0            PB00004-01   \n",
       "4                           0            PB00006-01   \n",
       "\n",
       "                      pipeline.fileGuid  \n",
       "0  fec489f9-9a74-4635-aa91-d2bf09d1faec  \n",
       "1  7c0c7979-eebd-4aba-b5b2-6e76b4643623  \n",
       "2  40efd03a-cb2f-4677-af42-a056cbfe5a17  \n",
       "3  68fbcd34-1d63-461d-8195-df5b8dc61b31  \n",
       "4  ea8d98e9-e99e-4dc6-9e78-9866e0deac68  "
      ]
     },
     "execution_count": 26,
     "metadata": {},
     "output_type": "execute_result"
    }
   ],
   "source": [
    "combined_sample_meta.head()"
   ]
  },
  {
   "cell_type": "code",
   "execution_count": 27,
   "id": "d55db570-1e85-41ec-91da-830d1a2afaa6",
   "metadata": {},
   "outputs": [
    {
     "name": "stderr",
     "output_type": "stream",
     "text": [
      "/opt/conda/lib/python3.10/site-packages/pandas/core/internals/blocks.py:2540: RuntimeWarning: invalid value encountered in cast\n",
      "  values = values.astype(str)\n"
     ]
    }
   ],
   "source": [
    "out_csv = 'output/diha_all_metadata_{d}.csv'.format(d = date.today())\n",
    "combined_sample_meta.to_csv(out_csv)"
   ]
  },
  {
   "cell_type": "markdown",
   "id": "83d51aec-f73f-4b10-acff-3523d5495de7",
   "metadata": {},
   "source": [
    "## Upload Sample data to HISE\n",
    "\n",
    "Finally, we'll use `hisepy.upload.upload_files()` to send a copy of our output to HISE to use for downstream analysis steps."
   ]
  },
  {
   "cell_type": "code",
   "execution_count": 28,
   "id": "48efb184-c92f-4827-a1e8-58553804d468",
   "metadata": {},
   "outputs": [],
   "source": [
    "study_space_uuid = 'de025812-5e73-4b3c-9c3b-6d0eac412f2a'\n",
    "title = 'DIHA Complete Sample Metadata {d}'.format(d = date.today())"
   ]
  },
  {
   "cell_type": "code",
   "execution_count": 29,
   "id": "286cf3dd-3a84-45d5-bea9-a2daebc60261",
   "metadata": {},
   "outputs": [
    {
     "data": {
      "text/plain": [
       "'helium-selenium-neptunium'"
      ]
     },
     "execution_count": 29,
     "metadata": {},
     "output_type": "execute_result"
    }
   ],
   "source": [
    "search_id = element_id()\n",
    "search_id"
   ]
  },
  {
   "cell_type": "code",
   "execution_count": 33,
   "id": "a51aa47f-e6e5-4698-9659-5770360bb059",
   "metadata": {},
   "outputs": [],
   "source": [
    "in_files = [\n",
    "    sample_meta_uuid,\n",
    "    cmv_meta_uuid,\n",
    "    bmi_meta_uuid,\n",
    "    covid_meta_uuid\n",
    "]"
   ]
  },
  {
   "cell_type": "code",
   "execution_count": 34,
   "id": "60334ca7-13bd-4d62-9119-f00996ff3890",
   "metadata": {},
   "outputs": [],
   "source": [
    "out_files = [out_csv]"
   ]
  },
  {
   "cell_type": "code",
   "execution_count": 36,
   "id": "6b3d801e-79f2-44c4-846a-aa324be0237a",
   "metadata": {},
   "outputs": [
    {
     "name": "stdout",
     "output_type": "stream",
     "text": [
      "Cannot determine the current notebook.\n",
      "1) /home/jupyter/IH-A-Aging-Analysis-Notebooks/scrna-seq_analysis/03-data-assembly/18-Python_assemble_complete_metadata.ipynb\n",
      "2) /home/jupyter/IH-A-Aging-Analysis-Notebooks/scrna-seq_analysis/03-data-assembly/17-Python_full_dataset_umap.ipynb\n",
      "3) /home/jupyter/data-apps-vis/datasets/dynamics_imm_health/01-R_assemble_pseudobulk.ipynb\n",
      "Please select (1-3) \n"
     ]
    },
    {
     "name": "stdin",
     "output_type": "stream",
     "text": [
      " 1\n"
     ]
    },
    {
     "name": "stdout",
     "output_type": "stream",
     "text": [
      "you are trying to upload file_ids... ['output/diha_all_metadata_2024-05-17.csv']. Do you truly want to proceed?\n"
     ]
    },
    {
     "name": "stdin",
     "output_type": "stream",
     "text": [
      "(y/n) y\n"
     ]
    },
    {
     "data": {
      "text/plain": [
       "{'trace_id': 'cdd0065b-2794-49c2-a978-a37810a5f75e',\n",
       " 'files': ['output/diha_all_metadata_2024-05-17.csv']}"
      ]
     },
     "execution_count": 36,
     "metadata": {},
     "output_type": "execute_result"
    }
   ],
   "source": [
    "hisepy.upload.upload_files(\n",
    "    files = out_files,\n",
    "    study_space_id = study_space_uuid,\n",
    "    title = title,\n",
    "    input_file_ids = in_files,\n",
    "    destination = search_id\n",
    ")"
   ]
  },
  {
   "cell_type": "code",
   "execution_count": 37,
   "id": "75b41977-fa38-474e-9a33-97d599e66717",
   "metadata": {},
   "outputs": [
    {
     "data": {
      "text/html": [
       "<details>\n",
       "<summary>Click to view session information</summary>\n",
       "<pre>\n",
       "-----\n",
       "hisepy              0.3.0\n",
       "pandas              2.1.4\n",
       "session_info        1.0.0\n",
       "-----\n",
       "</pre>\n",
       "<details>\n",
       "<summary>Click to view modules imported as dependencies</summary>\n",
       "<pre>\n",
       "PIL                         10.0.1\n",
       "anyio                       NA\n",
       "arrow                       1.3.0\n",
       "asttokens                   NA\n",
       "attr                        23.2.0\n",
       "attrs                       23.2.0\n",
       "babel                       2.14.0\n",
       "beatrix_jupyterlab          NA\n",
       "brotli                      NA\n",
       "cachetools                  5.3.1\n",
       "certifi                     2024.02.02\n",
       "cffi                        1.16.0\n",
       "charset_normalizer          3.3.2\n",
       "cloudpickle                 2.2.1\n",
       "colorama                    0.4.6\n",
       "comm                        0.1.4\n",
       "cryptography                41.0.7\n",
       "cycler                      0.10.0\n",
       "cython_runtime              NA\n",
       "dateutil                    2.8.2\n",
       "db_dtypes                   1.1.1\n",
       "debugpy                     1.8.0\n",
       "decorator                   5.1.1\n",
       "defusedxml                  0.7.1\n",
       "deprecated                  1.2.14\n",
       "exceptiongroup              1.2.0\n",
       "executing                   2.0.1\n",
       "fastjsonschema              NA\n",
       "fqdn                        NA\n",
       "google                      NA\n",
       "greenlet                    2.0.2\n",
       "grpc                        1.58.0\n",
       "grpc_status                 NA\n",
       "h5py                        3.10.0\n",
       "idna                        3.6\n",
       "importlib_metadata          NA\n",
       "ipykernel                   6.28.0\n",
       "ipython_genutils            0.2.0\n",
       "ipywidgets                  8.1.1\n",
       "isoduration                 NA\n",
       "jedi                        0.19.1\n",
       "jinja2                      3.1.2\n",
       "json5                       NA\n",
       "jsonpointer                 2.4\n",
       "jsonschema                  4.20.0\n",
       "jsonschema_specifications   NA\n",
       "jupyter_events              0.9.0\n",
       "jupyter_server              2.12.1\n",
       "jupyterlab_server           2.25.2\n",
       "jwt                         2.8.0\n",
       "kiwisolver                  1.4.5\n",
       "markupsafe                  2.1.3\n",
       "matplotlib                  3.8.0\n",
       "matplotlib_inline           0.1.6\n",
       "mpl_toolkits                NA\n",
       "nbformat                    5.9.2\n",
       "numpy                       1.24.0\n",
       "opentelemetry               NA\n",
       "overrides                   NA\n",
       "packaging                   23.2\n",
       "parso                       0.8.3\n",
       "periodictable               1.5.2\n",
       "pexpect                     4.8.0\n",
       "pickleshare                 0.7.5\n",
       "pkg_resources               NA\n",
       "platformdirs                4.1.0\n",
       "plotly                      5.18.0\n",
       "prettytable                 3.9.0\n",
       "prometheus_client           NA\n",
       "prompt_toolkit              3.0.42\n",
       "proto                       NA\n",
       "psutil                      NA\n",
       "ptyprocess                  0.7.0\n",
       "pure_eval                   0.2.2\n",
       "pyarrow                     13.0.0\n",
       "pydev_ipython               NA\n",
       "pydevconsole                NA\n",
       "pydevd                      2.9.5\n",
       "pydevd_file_utils           NA\n",
       "pydevd_plugins              NA\n",
       "pydevd_tracing              NA\n",
       "pygments                    2.17.2\n",
       "pyparsing                   3.1.1\n",
       "pyreadr                     0.5.0\n",
       "pythonjsonlogger            NA\n",
       "pytz                        2023.3.post1\n",
       "referencing                 NA\n",
       "requests                    2.31.0\n",
       "rfc3339_validator           0.1.4\n",
       "rfc3986_validator           0.1.1\n",
       "rpds                        NA\n",
       "send2trash                  NA\n",
       "shapely                     1.8.5.post1\n",
       "six                         1.16.0\n",
       "sniffio                     1.3.0\n",
       "socks                       1.7.1\n",
       "sql                         NA\n",
       "sqlalchemy                  2.0.21\n",
       "sqlparse                    0.4.4\n",
       "stack_data                  0.6.2\n",
       "termcolor                   NA\n",
       "tornado                     6.3.3\n",
       "tqdm                        4.66.1\n",
       "traitlets                   5.9.0\n",
       "typing_extensions           NA\n",
       "uri_template                NA\n",
       "urllib3                     1.26.18\n",
       "wcwidth                     0.2.12\n",
       "webcolors                   1.13\n",
       "websocket                   1.7.0\n",
       "wrapt                       1.15.0\n",
       "xarray                      2023.12.0\n",
       "yaml                        6.0.1\n",
       "zipp                        NA\n",
       "zmq                         25.1.2\n",
       "zoneinfo                    NA\n",
       "zstandard                   0.22.0\n",
       "</pre>\n",
       "</details> <!-- seems like this ends pre, so might as well be explicit -->\n",
       "<pre>\n",
       "-----\n",
       "IPython             8.19.0\n",
       "jupyter_client      8.6.0\n",
       "jupyter_core        5.6.1\n",
       "jupyterlab          4.1.5\n",
       "notebook            6.5.4\n",
       "-----\n",
       "Python 3.10.13 | packaged by conda-forge | (main, Dec 23 2023, 15:36:39) [GCC 12.3.0]\n",
       "Linux-5.15.0-1059-gcp-x86_64-with-glibc2.31\n",
       "-----\n",
       "Session information updated at 2024-05-17 20:25\n",
       "</pre>\n",
       "</details>"
      ],
      "text/plain": [
       "<IPython.core.display.HTML object>"
      ]
     },
     "execution_count": 37,
     "metadata": {},
     "output_type": "execute_result"
    }
   ],
   "source": [
    "import session_info\n",
    "session_info.show()"
   ]
  },
  {
   "cell_type": "code",
   "execution_count": null,
   "id": "e94cb334-c967-42e4-b802-e4e8f2b41c8e",
   "metadata": {},
   "outputs": [],
   "source": []
  }
 ],
 "metadata": {
  "kernelspec": {
   "display_name": "Python 3 (ipykernel)",
   "language": "python",
   "name": "python3"
  },
  "language_info": {
   "codemirror_mode": {
    "name": "ipython",
    "version": 3
   },
   "file_extension": ".py",
   "mimetype": "text/x-python",
   "name": "python",
   "nbconvert_exporter": "python",
   "pygments_lexer": "ipython3",
   "version": "3.10.13"
  }
 },
 "nbformat": 4,
 "nbformat_minor": 5
}
