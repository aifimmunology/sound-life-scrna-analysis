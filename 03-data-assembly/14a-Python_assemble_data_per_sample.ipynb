{
 "cells": [
  {
   "cell_type": "markdown",
   "id": "477745c5-2461-48f6-9ac1-4629980b6ec8",
   "metadata": {},
   "source": [
    "# Assemble data per sample\n",
    "\n",
    "In this notebook, we'll read the filtered L3 data from HISE, split each type by sample, then re-assemble sample-specific files for downstream analyses.\n",
    "\n",
    "To help with portability, samples will be assembled into .tar files based on cohort, sex, and CMV status so that we have a final set of 8 groups of samples."
   ]
  },
  {
   "cell_type": "code",
   "execution_count": 39,
   "id": "0a2baa25-6bc2-4412-8cdd-22762acd9afd",
   "metadata": {},
   "outputs": [],
   "source": [
    "import anndata\n",
    "from datetime import date\n",
    "import hisepy\n",
    "import itertools\n",
    "import multiprocessing\n",
    "import os\n",
    "import pandas as pd\n",
    "import re\n",
    "import scanpy as sc\n",
    "import tarfile"
   ]
  },
  {
   "cell_type": "code",
   "execution_count": 2,
   "id": "c5cd5593-bf15-4545-af21-f6de53a8cf09",
   "metadata": {
    "tags": []
   },
   "outputs": [],
   "source": [
    "out_dir = 'output'\n",
    "if not os.path.isdir(out_dir):\n",
    "    os.makedirs(out_dir)"
   ]
  },
  {
   "cell_type": "code",
   "execution_count": 3,
   "id": "ce84e81d-890b-40b0-bf1f-524c54185ff6",
   "metadata": {
    "tags": []
   },
   "outputs": [],
   "source": [
    "sample_dir = 'sample_h5ad'\n",
    "if not os.path.isdir(sample_dir):\n",
    "    os.makedirs(sample_dir)"
   ]
  },
  {
   "cell_type": "markdown",
   "id": "c0b93f46-54a2-4b02-9f41-a9bce7931944",
   "metadata": {},
   "source": [
    "## Helper functions"
   ]
  },
  {
   "cell_type": "code",
   "execution_count": 4,
   "id": "fe1b9ad0-5463-4eb5-8af9-6cc19bf7f622",
   "metadata": {},
   "outputs": [],
   "source": [
    "def cache_uuid_path(uuid):\n",
    "    cache_path = '/home/jupyter/cache/{u}'.format(u = uuid)\n",
    "    if not os.path.isdir(cache_path):\n",
    "        hise_res = hisepy.reader.cache_files([uuid])\n",
    "    filename = os.listdir(cache_path)[0]\n",
    "    cache_file = '{p}/{f}'.format(p = cache_path, f = filename)\n",
    "    return cache_file"
   ]
  },
  {
   "cell_type": "code",
   "execution_count": 5,
   "id": "6a64b70e-672a-448b-bdec-9eb4de2ade1f",
   "metadata": {},
   "outputs": [],
   "source": [
    "def read_adata_uuid(uuid):\n",
    "    cache_file = cache_uuid_path(uuid)\n",
    "    res = sc.read_h5ad(cache_file)\n",
    "    return res"
   ]
  },
  {
   "cell_type": "code",
   "execution_count": 6,
   "id": "c5208032-2568-41c8-804a-9c20fc3b64cc",
   "metadata": {},
   "outputs": [],
   "source": [
    "def read_csv_uuid(uuid):\n",
    "    cache_file = cache_uuid_path(uuid)\n",
    "    res = pd.read_csv(cache_file)\n",
    "    return res"
   ]
  },
  {
   "cell_type": "code",
   "execution_count": 7,
   "id": "1ab29491-113b-4619-9572-e32ab2ba1ed2",
   "metadata": {},
   "outputs": [],
   "source": [
    "def filename_cell_type(filename):\n",
    "    cell_type = re.sub('.+L3_','',filename)\n",
    "    cell_type = re.sub('_2024.+','',cell_type)\n",
    "    cell_type = re.sub('_', ' ', cell_type)\n",
    "    cell_type = re.sub('pos','+', cell_type)\n",
    "    cell_type = re.sub('neg','-', cell_type)\n",
    "    return cell_type"
   ]
  },
  {
   "cell_type": "code",
   "execution_count": 8,
   "id": "66ef161d-f679-41d5-9927-b16a2f2499dd",
   "metadata": {},
   "outputs": [],
   "source": [
    "def prep_adata_uuid(uuid, keep_obs, meta):\n",
    "    adata = read_adata_uuid(uuid)\n",
    "    adata = adata.raw.to_adata()\n",
    "    \n",
    "    obs = adata.obs\n",
    "    obs = obs.reset_index(drop = True)\n",
    "    obs = obs[keep_obs]\n",
    "    obs = obs.merge(meta, on = 'sample.sampleKitGuid', how = 'left')\n",
    "    obs = obs.set_index('barcodes', drop = False)\n",
    "\n",
    "    adata = anndata.AnnData(\n",
    "        X = adata.X,\n",
    "        obs = obs,\n",
    "        var = adata.var\n",
    "    )\n",
    "    return adata"
   ]
  },
  {
   "cell_type": "code",
   "execution_count": 9,
   "id": "14da0bf2-a499-4d48-ae26-55447cdfa5ef",
   "metadata": {},
   "outputs": [],
   "source": [
    "def split_type_adata_per_sample(adata, out_path):\n",
    "    \n",
    "    sample_ids = adata.obs['specimen.specimenGuid'].unique()\n",
    "\n",
    "    for sample_id in sample_ids:\n",
    "        sample_adata = adata[adata.obs['specimen.specimenGuid'] == sample_id].copy()\n",
    "        \n",
    "        if sample_adata.shape[0] > 0:\n",
    "            subject = sample_adata.obs['subject.subjectGuid'].tolist()[0]\n",
    "            visit = sample_adata.obs['sample.visitName'].tolist()[0]\n",
    "            visit = re.sub(' ', '-', visit)\n",
    "            \n",
    "            cell_type = sample_adata.obs['AIFI_L3'].tolist()[0]\n",
    "            type_dir = '{op}/{ct}'.format(op = out_path, ct = cell_type)\n",
    "            if not os.path.isdir(type_dir):\n",
    "                os.makedirs(type_dir)\n",
    "            \n",
    "            out_file = '{td}/{si}_{su}_{vi}_{ct}.h5ad'.format(\n",
    "                td = type_dir,\n",
    "                si = sample_id,\n",
    "                su = subject,\n",
    "                vi = visit,\n",
    "                ct = cell_type\n",
    "            )\n",
    "            \n",
    "            sample_adata.write_h5ad(out_file)"
   ]
  },
  {
   "cell_type": "code",
   "execution_count": 10,
   "id": "bf81bdca-f85a-4e36-ab35-2d76bf15d878",
   "metadata": {},
   "outputs": [],
   "source": [
    "def assemble_h5ad_per_sample(sample_id, in_files, out_path):\n",
    "    adata_list = []\n",
    "    for file in in_files:\n",
    "        if sample_id in file:\n",
    "            adata = sc.read_h5ad(file)\n",
    "            adata_list.append(adata)\n",
    "    \n",
    "    sample_adata = sc.concat(adata_list)\n",
    "    \n",
    "    subject = sample_adata.obs['subject.subjectGuid'].tolist()[0]\n",
    "    visit = sample_adata.obs['sample.visitName'].tolist()[0]\n",
    "    visit = re.sub(' ', '-', visit)\n",
    "    \n",
    "    out_file = '{op}/{si}_{su}_{vi}.h5ad'.format(\n",
    "        op = out_path,\n",
    "        si = sample_id,\n",
    "        su = subject,\n",
    "        vi = visit\n",
    "    )\n",
    "    \n",
    "    sample_adata.write_h5ad(out_file)"
   ]
  },
  {
   "cell_type": "code",
   "execution_count": 11,
   "id": "f6c18538-c57b-4fcd-a088-64ce0ccf22c3",
   "metadata": {},
   "outputs": [],
   "source": [
    "def element_id(n = 3):\n",
    "    import periodictable\n",
    "    from random import randrange\n",
    "    rand_el = []\n",
    "    for i in range(n):\n",
    "        el = randrange(0,118)\n",
    "        rand_el.append(periodictable.elements[el].name)\n",
    "    rand_str = '-'.join(rand_el)\n",
    "    return rand_str"
   ]
  },
  {
   "cell_type": "markdown",
   "id": "7d243ed7-14d6-4e9c-817d-0eea6c75986e",
   "metadata": {},
   "source": [
    "## Prepare sample metadata\n",
    "\n",
    "Used for grouping samples for output and to ensure that we have all of the metadata we require in the final files for analysis"
   ]
  },
  {
   "cell_type": "code",
   "execution_count": 12,
   "id": "cce116cc-18b7-4426-83c2-654e60fdc622",
   "metadata": {},
   "outputs": [
    {
     "name": "stdout",
     "output_type": "stream",
     "text": [
      "downloading fileID: d82c5c42-ae5f-4e67-956e-cd3b7bf88105\n",
      "Files have been successfully downloaded!\n"
     ]
    }
   ],
   "source": [
    "sample_meta_uuid = 'd82c5c42-ae5f-4e67-956e-cd3b7bf88105'\n",
    "sample_meta = read_csv_uuid(sample_meta_uuid)"
   ]
  },
  {
   "cell_type": "markdown",
   "id": "185d7706-fb0b-479b-8b63-8b98b66e0b4f",
   "metadata": {},
   "source": [
    "### Rename specimen and file-specific columns"
   ]
  },
  {
   "cell_type": "code",
   "execution_count": 13,
   "id": "8c050340-8b8e-46b7-8288-344a6f3cb3d9",
   "metadata": {},
   "outputs": [],
   "source": [
    "sample_meta = sample_meta.rename({'pbmc_sample_id': 'specimen.specimenGuid'}, axis = 1)\n",
    "sample_meta = sample_meta.rename({'file.id': 'pipeline.fileGuid'}, axis = 1)"
   ]
  },
  {
   "cell_type": "markdown",
   "id": "ef466fc7-172e-4d77-87b2-4532c028ed14",
   "metadata": {},
   "source": [
    "### Add age at sample draw and age at enrollment"
   ]
  },
  {
   "cell_type": "code",
   "execution_count": 14,
   "id": "bdbe65b7-e161-4f40-8166-602d9c7926b4",
   "metadata": {},
   "outputs": [],
   "source": [
    "def drawDate_to_drawYear(drawDate):\n",
    "    drawYear = re.sub('-.+', '', drawDate)\n",
    "    drawYear = int(drawYear)\n",
    "    return(drawYear)"
   ]
  },
  {
   "cell_type": "code",
   "execution_count": 15,
   "id": "1d564cea-da06-4095-a8e1-d6afdd4b6537",
   "metadata": {},
   "outputs": [],
   "source": [
    "sample_meta['sample.drawYear'] = [drawDate_to_drawYear(d) for d in sample_meta['sample.drawDate']]\n",
    "sample_meta['sample.subjectAgeAtDraw'] = sample_meta['sample.drawYear'] - sample_meta['subject.birthYear']"
   ]
  },
  {
   "cell_type": "code",
   "execution_count": 16,
   "id": "80765b50-29d9-4698-9adf-1ec63fccc06a",
   "metadata": {},
   "outputs": [],
   "source": [
    "first_draw_age = (\n",
    "    sample_meta\n",
    "        .groupby('subject.subjectGuid', as_index = False)['sample.subjectAgeAtDraw']\n",
    "        .min()\n",
    "        .rename({'sample.subjectAgeAtDraw': 'subject.ageAtFirstDraw'}, axis = 1)\n",
    ")"
   ]
  },
  {
   "cell_type": "code",
   "execution_count": 17,
   "id": "addaf7c9-b8b7-443c-8a45-cb5fa6e4d665",
   "metadata": {},
   "outputs": [],
   "source": [
    "sample_meta = sample_meta.merge(first_draw_age, on = 'subject.subjectGuid', how = 'left')"
   ]
  },
  {
   "cell_type": "markdown",
   "id": "f355e799-ced9-44ae-bdb6-b511da3abfac",
   "metadata": {},
   "source": [
    "### Simplify drawDate"
   ]
  },
  {
   "cell_type": "code",
   "execution_count": 18,
   "id": "f92c21a6-8eae-4d33-b3bb-b5d50ae424e9",
   "metadata": {},
   "outputs": [],
   "source": [
    "sample_meta['sample.drawDate'] = [re.sub('([0-9]{4}-[0-9]{2})-.+', '\\\\1', d) for d in sample_meta['sample.drawDate']]"
   ]
  },
  {
   "cell_type": "markdown",
   "id": "a84c2e54-841f-40e1-983e-e0b0cdd2657c",
   "metadata": {},
   "source": [
    "### Add CMV and BMI from clinical labs"
   ]
  },
  {
   "cell_type": "code",
   "execution_count": 19,
   "id": "792b8c4f-724b-4016-b74b-b6087a865f33",
   "metadata": {},
   "outputs": [
    {
     "name": "stdout",
     "output_type": "stream",
     "text": [
      "downloading fileID: 9469f67c-b09a-454d-9fb9-f50ff3494d69\n",
      "Files have been successfully downloaded!\n"
     ]
    }
   ],
   "source": [
    "cmv_meta_uuid = '9469f67c-b09a-454d-9fb9-f50ff3494d69'\n",
    "cmv_meta = read_csv_uuid(cmv_meta_uuid)"
   ]
  },
  {
   "cell_type": "code",
   "execution_count": 20,
   "id": "3b92688a-81f6-4d36-b0df-9d9d74cb9fb4",
   "metadata": {},
   "outputs": [
    {
     "name": "stdout",
     "output_type": "stream",
     "text": [
      "downloading fileID: e507258c-d175-4d8e-a455-5229870dc991\n",
      "Files have been successfully downloaded!\n"
     ]
    }
   ],
   "source": [
    "bmi_meta_uuid = 'e507258c-d175-4d8e-a455-5229870dc991'\n",
    "bmi_meta = read_csv_uuid(bmi_meta_uuid)"
   ]
  },
  {
   "cell_type": "markdown",
   "id": "0a7f68a9-0a89-4e1b-9096-dea9a1444c5e",
   "metadata": {},
   "source": [
    "### Combine sample-level metadata"
   ]
  },
  {
   "cell_type": "code",
   "execution_count": 21,
   "id": "d2204357-c483-4cb0-98a0-de03af087713",
   "metadata": {},
   "outputs": [],
   "source": [
    "cmv_meta = cmv_meta[['subject.subjectGuid', 'subject.cmv']].drop_duplicates()"
   ]
  },
  {
   "cell_type": "code",
   "execution_count": 22,
   "id": "a98af673-6678-4cbd-aa37-808344393979",
   "metadata": {},
   "outputs": [],
   "source": [
    "combined_sample_meta = sample_meta.merge(cmv_meta, on = 'subject.subjectGuid', how = 'left')"
   ]
  },
  {
   "cell_type": "code",
   "execution_count": 23,
   "id": "5eccf3b8-d966-4db3-8e24-87683dd00767",
   "metadata": {},
   "outputs": [],
   "source": [
    "bmi_meta = bmi_meta[['sample.sampleKitGuid', 'subject.bmi']]\n",
    "bmi_meta['subject.bmi'] = bmi_meta['subject.bmi'].round(0)"
   ]
  },
  {
   "cell_type": "code",
   "execution_count": 24,
   "id": "820b4f39-d993-4542-9458-34be330a3a5a",
   "metadata": {},
   "outputs": [],
   "source": [
    "combined_sample_meta = combined_sample_meta.merge(bmi_meta, on = 'sample.sampleKitGuid', how = 'left')"
   ]
  },
  {
   "cell_type": "markdown",
   "id": "b0a5d006-c7ad-43cf-9d4f-07bbab353286",
   "metadata": {},
   "source": [
    "We only need to keep some of the metadata columns that pertain to cohort, subject, and sample. We'll also keep the originating File GUID to help us keep track of provenance. Let's select just these columns:"
   ]
  },
  {
   "cell_type": "code",
   "execution_count": 25,
   "id": "4ff4a756-80c0-4354-ae30-224ef4ea351a",
   "metadata": {},
   "outputs": [],
   "source": [
    "keep_meta = [\n",
    "    'cohort.cohortGuid',\n",
    "    'subject.subjectGuid', 'subject.biologicalSex', 'subject.cmv', 'subject.bmi',\n",
    "    'subject.race', 'subject.ethnicity', 'subject.birthYear', 'subject.ageAtFirstDraw',\n",
    "    'sample.sampleKitGuid', 'sample.visitName', 'sample.drawDate', 'sample.subjectAgeAtDraw',\n",
    "    'specimen.specimenGuid', 'pipeline.fileGuid'\n",
    "]"
   ]
  },
  {
   "cell_type": "code",
   "execution_count": 26,
   "id": "7547dbca-649d-451e-85f2-37210692da9c",
   "metadata": {
    "scrolled": true
   },
   "outputs": [],
   "source": [
    "combined_sample_meta = combined_sample_meta[keep_meta]"
   ]
  },
  {
   "cell_type": "code",
   "execution_count": 27,
   "id": "ad4b9fe1-d146-47a6-bea3-66dc0deab377",
   "metadata": {},
   "outputs": [
    {
     "data": {
      "text/plain": [
       "(868, 15)"
      ]
     },
     "execution_count": 27,
     "metadata": {},
     "output_type": "execute_result"
    }
   ],
   "source": [
    "combined_sample_meta.shape"
   ]
  },
  {
   "cell_type": "code",
   "execution_count": 28,
   "id": "cf44752f-4d05-4108-84f6-4e2d21319ec6",
   "metadata": {},
   "outputs": [
    {
     "data": {
      "text/html": [
       "<div>\n",
       "<style scoped>\n",
       "    .dataframe tbody tr th:only-of-type {\n",
       "        vertical-align: middle;\n",
       "    }\n",
       "\n",
       "    .dataframe tbody tr th {\n",
       "        vertical-align: top;\n",
       "    }\n",
       "\n",
       "    .dataframe thead th {\n",
       "        text-align: right;\n",
       "    }\n",
       "</style>\n",
       "<table border=\"1\" class=\"dataframe\">\n",
       "  <thead>\n",
       "    <tr style=\"text-align: right;\">\n",
       "      <th></th>\n",
       "      <th>cohort.cohortGuid</th>\n",
       "      <th>subject.subjectGuid</th>\n",
       "      <th>subject.biologicalSex</th>\n",
       "      <th>subject.cmv</th>\n",
       "      <th>subject.bmi</th>\n",
       "      <th>subject.race</th>\n",
       "      <th>subject.ethnicity</th>\n",
       "      <th>subject.birthYear</th>\n",
       "      <th>subject.ageAtFirstDraw</th>\n",
       "      <th>sample.sampleKitGuid</th>\n",
       "      <th>sample.visitName</th>\n",
       "      <th>sample.drawDate</th>\n",
       "      <th>sample.subjectAgeAtDraw</th>\n",
       "      <th>specimen.specimenGuid</th>\n",
       "      <th>pipeline.fileGuid</th>\n",
       "    </tr>\n",
       "  </thead>\n",
       "  <tbody>\n",
       "    <tr>\n",
       "      <th>0</th>\n",
       "      <td>BR1</td>\n",
       "      <td>BR1001</td>\n",
       "      <td>Female</td>\n",
       "      <td>Negative</td>\n",
       "      <td>23.0</td>\n",
       "      <td>Caucasian</td>\n",
       "      <td>Non-Hispanic origin</td>\n",
       "      <td>1987</td>\n",
       "      <td>32</td>\n",
       "      <td>KT00001</td>\n",
       "      <td>Flu Year 1 Day 0</td>\n",
       "      <td>2019-10</td>\n",
       "      <td>32</td>\n",
       "      <td>PB00001-01</td>\n",
       "      <td>fec489f9-9a74-4635-aa91-d2bf09d1faec</td>\n",
       "    </tr>\n",
       "    <tr>\n",
       "      <th>1</th>\n",
       "      <td>BR1</td>\n",
       "      <td>BR1002</td>\n",
       "      <td>Male</td>\n",
       "      <td>Negative</td>\n",
       "      <td>22.0</td>\n",
       "      <td>Caucasian</td>\n",
       "      <td>Non-Hispanic origin</td>\n",
       "      <td>1991</td>\n",
       "      <td>28</td>\n",
       "      <td>KT00002</td>\n",
       "      <td>Flu Year 1 Day 0</td>\n",
       "      <td>2019-10</td>\n",
       "      <td>28</td>\n",
       "      <td>PB00002-01</td>\n",
       "      <td>7c0c7979-eebd-4aba-b5b2-6e76b4643623</td>\n",
       "    </tr>\n",
       "    <tr>\n",
       "      <th>2</th>\n",
       "      <td>BR1</td>\n",
       "      <td>BR1003</td>\n",
       "      <td>Female</td>\n",
       "      <td>Negative</td>\n",
       "      <td>21.0</td>\n",
       "      <td>Caucasian</td>\n",
       "      <td>Non-Hispanic origin</td>\n",
       "      <td>1989</td>\n",
       "      <td>30</td>\n",
       "      <td>KT00003</td>\n",
       "      <td>Flu Year 1 Day 0</td>\n",
       "      <td>2019-10</td>\n",
       "      <td>30</td>\n",
       "      <td>PB00003-01</td>\n",
       "      <td>40efd03a-cb2f-4677-af42-a056cbfe5a17</td>\n",
       "    </tr>\n",
       "    <tr>\n",
       "      <th>3</th>\n",
       "      <td>BR1</td>\n",
       "      <td>BR1004</td>\n",
       "      <td>Male</td>\n",
       "      <td>Negative</td>\n",
       "      <td>22.0</td>\n",
       "      <td>Caucasian</td>\n",
       "      <td>Non-Hispanic origin</td>\n",
       "      <td>1989</td>\n",
       "      <td>30</td>\n",
       "      <td>KT00004</td>\n",
       "      <td>Flu Year 1 Day 0</td>\n",
       "      <td>2019-10</td>\n",
       "      <td>30</td>\n",
       "      <td>PB00004-01</td>\n",
       "      <td>68fbcd34-1d63-461d-8195-df5b8dc61b31</td>\n",
       "    </tr>\n",
       "    <tr>\n",
       "      <th>4</th>\n",
       "      <td>BR1</td>\n",
       "      <td>BR1005</td>\n",
       "      <td>Female</td>\n",
       "      <td>Negative</td>\n",
       "      <td>20.0</td>\n",
       "      <td>Caucasian</td>\n",
       "      <td>Non-Hispanic origin</td>\n",
       "      <td>1992</td>\n",
       "      <td>27</td>\n",
       "      <td>KT00006</td>\n",
       "      <td>Flu Year 1 Day 0</td>\n",
       "      <td>2019-10</td>\n",
       "      <td>27</td>\n",
       "      <td>PB00006-01</td>\n",
       "      <td>ea8d98e9-e99e-4dc6-9e78-9866e0deac68</td>\n",
       "    </tr>\n",
       "  </tbody>\n",
       "</table>\n",
       "</div>"
      ],
      "text/plain": [
       "  cohort.cohortGuid subject.subjectGuid subject.biologicalSex subject.cmv  \\\n",
       "0               BR1              BR1001                Female    Negative   \n",
       "1               BR1              BR1002                  Male    Negative   \n",
       "2               BR1              BR1003                Female    Negative   \n",
       "3               BR1              BR1004                  Male    Negative   \n",
       "4               BR1              BR1005                Female    Negative   \n",
       "\n",
       "   subject.bmi subject.race    subject.ethnicity  subject.birthYear  \\\n",
       "0         23.0    Caucasian  Non-Hispanic origin               1987   \n",
       "1         22.0    Caucasian  Non-Hispanic origin               1991   \n",
       "2         21.0    Caucasian  Non-Hispanic origin               1989   \n",
       "3         22.0    Caucasian  Non-Hispanic origin               1989   \n",
       "4         20.0    Caucasian  Non-Hispanic origin               1992   \n",
       "\n",
       "   subject.ageAtFirstDraw sample.sampleKitGuid  sample.visitName  \\\n",
       "0                      32              KT00001  Flu Year 1 Day 0   \n",
       "1                      28              KT00002  Flu Year 1 Day 0   \n",
       "2                      30              KT00003  Flu Year 1 Day 0   \n",
       "3                      30              KT00004  Flu Year 1 Day 0   \n",
       "4                      27              KT00006  Flu Year 1 Day 0   \n",
       "\n",
       "  sample.drawDate  sample.subjectAgeAtDraw specimen.specimenGuid  \\\n",
       "0         2019-10                       32            PB00001-01   \n",
       "1         2019-10                       28            PB00002-01   \n",
       "2         2019-10                       30            PB00003-01   \n",
       "3         2019-10                       30            PB00004-01   \n",
       "4         2019-10                       27            PB00006-01   \n",
       "\n",
       "                      pipeline.fileGuid  \n",
       "0  fec489f9-9a74-4635-aa91-d2bf09d1faec  \n",
       "1  7c0c7979-eebd-4aba-b5b2-6e76b4643623  \n",
       "2  40efd03a-cb2f-4677-af42-a056cbfe5a17  \n",
       "3  68fbcd34-1d63-461d-8195-df5b8dc61b31  \n",
       "4  ea8d98e9-e99e-4dc6-9e78-9866e0deac68  "
      ]
     },
     "execution_count": 28,
     "metadata": {},
     "output_type": "execute_result"
    }
   ],
   "source": [
    "combined_sample_meta.head()"
   ]
  },
  {
   "cell_type": "markdown",
   "id": "321bc4ad-a1ef-4e0b-bbe5-349026e0beb7",
   "metadata": {},
   "source": [
    "## Identify files for use in HISE"
   ]
  },
  {
   "cell_type": "code",
   "execution_count": 29,
   "id": "796c6c68-b256-4edf-b88c-95156d002f22",
   "metadata": {},
   "outputs": [],
   "source": [
    "search_ids = {\n",
    "    'b':       'aluminum-thorium-neon',\n",
    "    't_cd4':   'mercury-polonium-zinc',\n",
    "    't_cd8':   'fermium-chromium-gallium',\n",
    "    't_other': 'magnesium-potassium-zinc',\n",
    "    'myeloid': 'neptunium-cadmium-erbium',\n",
    "    'nk':      'livermorium-copper-curium',\n",
    "    'other':   'thorium-zirconium-nobelium'\n",
    "}"
   ]
  },
  {
   "cell_type": "markdown",
   "id": "6ef75e89-323a-42b5-bc22-11674ced3007",
   "metadata": {},
   "source": [
    "Retrieve files stored in our HISE project store"
   ]
  },
  {
   "cell_type": "code",
   "execution_count": 30,
   "id": "7370396b-fbef-4149-8eeb-b5c776379658",
   "metadata": {},
   "outputs": [],
   "source": [
    "ps_df = hisepy.list_files_in_project_store('cohorts')\n",
    "ps_df = ps_df[['id', 'name']]"
   ]
  },
  {
   "cell_type": "markdown",
   "id": "ef20b3a8-43cf-4894-b145-705dbcf3d444",
   "metadata": {},
   "source": [
    "Filter for files from the previous notebook using our search_id"
   ]
  },
  {
   "cell_type": "code",
   "execution_count": 31,
   "id": "a18bac2c-dca9-471a-a713-9cfb74f2cbd5",
   "metadata": {},
   "outputs": [],
   "source": [
    "search_string = '|'.join(search_ids.values())\n",
    "\n",
    "search_df = ps_df[ps_df['name'].str.contains(search_string)]\n",
    "search_df = search_df[search_df['name'].str.contains('.h5ad')]\n",
    "\n",
    "search_df = search_df.sort_values('name')\n",
    "\n",
    "search_df['AIFI_L3'] = [filename_cell_type(f) for f in search_df['name']]"
   ]
  },
  {
   "cell_type": "code",
   "execution_count": 32,
   "id": "18e4859c-f472-4689-9e98-2f91761a6b14",
   "metadata": {},
   "outputs": [
    {
     "name": "stdout",
     "output_type": "stream",
     "text": [
      "71\n"
     ]
    },
    {
     "data": {
      "text/plain": [
       "['Activated memory B cell',\n",
       " 'CD27- effector B cell',\n",
       " 'CD27+ effector B cell',\n",
       " 'CD95 memory B cell',\n",
       " 'Core memory B cell']"
      ]
     },
     "execution_count": 32,
     "metadata": {},
     "output_type": "execute_result"
    }
   ],
   "source": [
    "print(len(search_df['AIFI_L3'].tolist()))\n",
    "search_df['AIFI_L3'].head().tolist()"
   ]
  },
  {
   "cell_type": "markdown",
   "id": "7df4df70-6c71-4070-ae2d-b073e9c66dad",
   "metadata": {},
   "source": [
    "## Split cell type results"
   ]
  },
  {
   "cell_type": "code",
   "execution_count": 33,
   "id": "927c6a31-af9c-4921-9bf8-adb7c796cf12",
   "metadata": {},
   "outputs": [],
   "source": [
    "keep_adata_obs = [\n",
    "    'barcodes', 'original_barcodes', 'cell_name',\n",
    "    'batch_id', 'pool_id', 'chip_id', 'well_id', \n",
    "    'n_genes', 'n_reads', 'n_umis', \n",
    "    'total_counts_mito', 'pct_counts_mito', 'doublet_score',\n",
    "    'predicted_AIFI_L1', 'AIFI_L1_score', 'AIFI_L1',\n",
    "    'predicted_AIFI_L2', 'AIFI_L2_score', 'AIFI_L2',\n",
    "    'predicted_AIFI_L3', 'AIFI_L3_score', 'AIFI_L3',\n",
    "    'sample.sampleKitGuid'\n",
    "]"
   ]
  },
  {
   "cell_type": "code",
   "execution_count": 34,
   "id": "8a4e5680-2adc-4bfa-90fc-87f25231610e",
   "metadata": {},
   "outputs": [
    {
     "name": "stdout",
     "output_type": "stream",
     "text": [
      "1/71: Splitting Activated memory B cell\n",
      "downloading fileID: 1e8c6893-2294-41f8-97a7-f0855e2c7a24\n",
      "Files have been successfully downloaded!\n",
      "2/71: Splitting CD27- effector B cell\n",
      "downloading fileID: 196ed0aa-dd8f-4d20-b890-43df425dbbb2\n",
      "Files have been successfully downloaded!\n",
      "3/71: Splitting CD27+ effector B cell\n",
      "downloading fileID: 1c1dc7a5-ce1c-43b7-9532-f857720f5125\n",
      "Files have been successfully downloaded!\n",
      "4/71: Splitting CD95 memory B cell\n",
      "downloading fileID: abee0c76-8900-4648-9fa9-e044d601e669\n",
      "Files have been successfully downloaded!\n",
      "5/71: Splitting Core memory B cell\n",
      "downloading fileID: 8af856b5-1758-4623-9fe2-a9f27cf92b5c\n",
      "Files have been successfully downloaded!\n",
      "6/71: Splitting Core naive B cell\n",
      "downloading fileID: 5db86bfd-b109-4d54-972b-4d02e9f6bdc2\n",
      "Files have been successfully downloaded!\n",
      "7/71: Splitting Early memory B cell\n",
      "downloading fileID: c1785810-e96f-43ab-9e0c-2328519c33f9\n",
      "Files have been successfully downloaded!\n",
      "8/71: Splitting ISG+ naive B cell\n",
      "downloading fileID: b8581cf8-08c9-4126-89da-f125ec5154b9\n",
      "Files have been successfully downloaded!\n",
      "9/71: Splitting Plasma cell\n",
      "downloading fileID: b5ec533a-1c4f-466e-9dd5-b0ecc1f5526b\n",
      "Files have been successfully downloaded!\n",
      "10/71: Splitting Transitional B cell\n",
      "downloading fileID: 0ed81e9c-15e0-4a39-a53e-3b395e711b06\n",
      "Files have been successfully downloaded!\n",
      "11/71: Splitting Type 2 polarized memory B cell\n",
      "downloading fileID: a4b634bc-cc0e-4eb7-b652-844d1fe48fcf\n",
      "Files have been successfully downloaded!\n",
      "12/71: Splitting CD8aa\n",
      "downloading fileID: 15b5ddc7-ec0d-4a45-ab0b-09b5c6c9680f\n",
      "Files have been successfully downloaded!\n",
      "13/71: Splitting CM CD8 T cell\n",
      "downloading fileID: 87ffaf58-d409-48bb-89a5-aec82f466175\n",
      "Files have been successfully downloaded!\n",
      "14/71: Splitting Core naive CD8 T cell\n",
      "downloading fileID: 863f870d-8990-41c9-9d85-79334fd44a41\n",
      "Files have been successfully downloaded!\n",
      "15/71: Splitting GZMK- CD27+ EM CD8 T cell\n",
      "downloading fileID: b58d374d-5777-4104-a58c-d31136d1428f\n",
      "Files have been successfully downloaded!\n",
      "16/71: Splitting GZMK+ CD27+ EM CD8 T cell\n",
      "downloading fileID: aed11773-f439-40f7-a3bd-84e55d67b676\n",
      "Files have been successfully downloaded!\n",
      "17/71: Splitting ISG+ memory CD8 T cell\n",
      "downloading fileID: da959d88-251c-4475-9bfb-c90331598ae0\n",
      "Files have been successfully downloaded!\n",
      "18/71: Splitting ISG+ naive CD8 T cell\n",
      "downloading fileID: 0f6c4cc7-c8d7-47ff-a58e-0851331f1ed3\n",
      "Files have been successfully downloaded!\n",
      "19/71: Splitting KLRF1- GZMB+ CD27- EM CD8 T cell\n",
      "downloading fileID: 134e3bd8-cad3-42e4-84d7-cf39704bc92a\n",
      "Files have been successfully downloaded!\n",
      "20/71: Splitting KLRF1+ GZMB+ CD27- EM CD8 T cell\n",
      "downloading fileID: 59cf63b1-99d4-4d8c-8d97-afa4b31928fa\n",
      "Files have been successfully downloaded!\n",
      "21/71: Splitting SOX4+ naive CD8 T cell\n",
      "downloading fileID: 39b49605-3b77-4599-83b4-d87633bc5f2b\n",
      "Files have been successfully downloaded!\n",
      "22/71: Splitting Adaptive NK cell\n",
      "downloading fileID: 9510726c-2d47-4285-9927-91b03734a98c\n",
      "Files have been successfully downloaded!\n",
      "23/71: Splitting CD56bright NK cell\n",
      "downloading fileID: f2154cb9-7694-4f2d-bf45-dda172fb1279\n",
      "Files have been successfully downloaded!\n",
      "24/71: Splitting GZMK- CD56dim NK cell\n",
      "downloading fileID: d4109a83-200d-4fb6-83ca-d0b0b306c866\n",
      "Files have been successfully downloaded!\n",
      "25/71: Splitting GZMK+ CD56dim NK cell\n",
      "downloading fileID: bfdcbadb-97bc-49d4-b15a-2cd922eab5ee\n",
      "Files have been successfully downloaded!\n",
      "26/71: Splitting ILC\n",
      "downloading fileID: 6304ced3-eaa4-4965-9836-0a2a3a039a00\n",
      "Files have been successfully downloaded!\n",
      "27/71: Splitting ISG+ CD56dim NK cell\n",
      "downloading fileID: 51da6180-8d06-480b-a629-33026975d320\n",
      "Files have been successfully downloaded!\n",
      "28/71: Splitting Proliferating NK cell\n",
      "downloading fileID: bee6ed67-a161-457f-829b-1649a2188dcf\n",
      "Files have been successfully downloaded!\n",
      "29/71: Splitting CD4 MAIT\n",
      "downloading fileID: 9ef379f3-3103-4b8f-abb7-2dcba393dfca\n",
      "Files have been successfully downloaded!\n",
      "30/71: Splitting CD8 MAIT\n",
      "downloading fileID: 68e15fef-1d73-4a21-b76a-4568559b573d\n",
      "Files have been successfully downloaded!\n",
      "31/71: Splitting DN T cell\n",
      "downloading fileID: 7e67a4a5-f7c4-4682-bab2-2c84ce21862d\n",
      "Files have been successfully downloaded!\n",
      "32/71: Splitting GZMB+ Vd2 gdT\n",
      "downloading fileID: 946ade2f-5ae8-463b-aa0a-8ba08ab07d19\n",
      "Files have been successfully downloaded!\n",
      "33/71: Splitting GZMK+ Vd2 gdT\n",
      "downloading fileID: 391a4087-712a-4c99-bcb2-4d3b98a68184\n",
      "Files have been successfully downloaded!\n",
      "34/71: Splitting GZMK+ memory CD4 Treg\n",
      "downloading fileID: 73c68087-b328-4c22-8306-abc1e4540c5e\n",
      "Files have been successfully downloaded!\n",
      "35/71: Splitting ISG+ MAIT\n",
      "downloading fileID: c7771269-0a24-4bcb-a88b-cea706339422\n",
      "Files have been successfully downloaded!\n",
      "36/71: Splitting KLRB1+ memory CD4 Treg\n",
      "downloading fileID: e2246ee2-56f8-4b61-b506-47710c8ea252\n",
      "Files have been successfully downloaded!\n",
      "37/71: Splitting KLRB1+ memory CD8 Treg\n",
      "downloading fileID: 29b0e1d7-3d52-45cf-91df-1f5a1eeca5e3\n",
      "Files have been successfully downloaded!\n",
      "38/71: Splitting KLRF1- effector Vd1 gdT\n",
      "downloading fileID: 74682b95-c8d7-4b60-bc52-e6e4c741041b\n",
      "Files have been successfully downloaded!\n",
      "39/71: Splitting KLRF1+ effector Vd1 gdT\n",
      "downloading fileID: 45922f1b-4b1f-4c61-a647-ea8c427e95d2\n",
      "Files have been successfully downloaded!\n",
      "40/71: Splitting Memory CD4 Treg\n",
      "downloading fileID: fa147a9b-7fc6-4908-8cb6-0ae3727a2b95\n",
      "Files have been successfully downloaded!\n",
      "41/71: Splitting Memory CD8 Treg\n",
      "downloading fileID: 5ae73117-eff3-4834-b06b-8415012c89ea\n",
      "Files have been successfully downloaded!\n",
      "42/71: Splitting Naive CD4 Treg\n",
      "downloading fileID: 81a498dd-1475-4d2b-8b0e-1e8438bef526\n",
      "Files have been successfully downloaded!\n",
      "43/71: Splitting Naive Vd1 gdT\n",
      "downloading fileID: 9da57cb8-99b8-4a29-8979-faf917e672e4\n",
      "Files have been successfully downloaded!\n",
      "44/71: Splitting Proliferating T cell\n",
      "downloading fileID: 24217355-6230-4fa7-9954-f8f18c50d752\n",
      "Files have been successfully downloaded!\n",
      "45/71: Splitting SOX4+ Vd1 gdT\n",
      "downloading fileID: 53850428-d391-4654-a2bb-acaa36cc2e1d\n",
      "Files have been successfully downloaded!\n",
      "46/71: Splitting CM CD4 T cell\n",
      "downloading fileID: 2b15968b-f476-4e83-9730-7e5d975611a6\n",
      "Files have been successfully downloaded!\n",
      "47/71: Splitting Core naive CD4 T cell\n",
      "downloading fileID: f3f6c636-cadd-48e0-b3a7-e38254d7897c\n",
      "Files have been successfully downloaded!\n",
      "48/71: Splitting GZMB- CD27- EM CD4 T cell\n",
      "downloading fileID: 41bfbba7-09c6-48ce-8415-8bb597d3c417\n",
      "Files have been successfully downloaded!\n",
      "49/71: Splitting GZMB- CD27+ EM CD4 T cell\n",
      "downloading fileID: 376c3b61-fc86-47df-b247-59bbeea0d86a\n",
      "Files have been successfully downloaded!\n",
      "50/71: Splitting ISG+ memory CD4 T cell\n",
      "downloading fileID: ebe49b51-902a-451f-bd1d-f3533e46ae94\n",
      "Files have been successfully downloaded!\n",
      "51/71: Splitting ISG+ naive CD4 T cell\n",
      "downloading fileID: 75368892-5147-42d7-b2c3-794166235b1b\n",
      "Files have been successfully downloaded!\n",
      "52/71: Splitting KLRF1- GZMB+ CD27- memory CD4 T cell\n",
      "downloading fileID: c857e4f7-ed97-4cdb-bed1-fa110fef5d00\n",
      "Files have been successfully downloaded!\n",
      "53/71: Splitting SOX4+ naive CD4 T cell\n",
      "downloading fileID: 99b22cdd-7506-46b7-9e6c-484cb47d8b72\n",
      "Files have been successfully downloaded!\n",
      "54/71: Splitting ASDC\n",
      "downloading fileID: b541e8d6-ffab-463c-932d-a4ca27df8db0\n",
      "Files have been successfully downloaded!\n",
      "55/71: Splitting C1Q+ CD16 monocyte\n",
      "downloading fileID: f66edc12-64e3-4b00-a7c8-ac0f7461d19b\n",
      "Files have been successfully downloaded!\n",
      "56/71: Splitting CD14+ cDC2\n",
      "downloading fileID: daedf93a-8171-4957-8299-d7877e6dba59\n",
      "Files have been successfully downloaded!\n",
      "57/71: Splitting Core CD14 monocyte\n",
      "downloading fileID: 51190707-9003-4191-8f7f-1d598d311590\n",
      "Files have been successfully downloaded!\n",
      "58/71: Splitting Core CD16 monocyte\n",
      "downloading fileID: 1fb98005-0458-4757-ba63-064438c7dc4f\n",
      "Files have been successfully downloaded!\n",
      "59/71: Splitting HLA-DRhi cDC2\n",
      "downloading fileID: bf17cdb0-a460-4035-9f56-a4d08431a2ff\n",
      "Files have been successfully downloaded!\n",
      "60/71: Splitting IL1B+ CD14 monocyte\n",
      "downloading fileID: 06a2e610-aef8-4f59-b1f4-c63bd7d26146\n",
      "Files have been successfully downloaded!\n",
      "61/71: Splitting ISG+ CD14 monocyte\n",
      "downloading fileID: f1d7efc6-0668-4242-9c34-1026e0a45628\n",
      "Files have been successfully downloaded!\n",
      "62/71: Splitting ISG+ CD16 monocyte\n",
      "downloading fileID: 9667941e-48c9-4203-8d9e-c8fe8a5dea4e\n",
      "Files have been successfully downloaded!\n",
      "63/71: Splitting ISG+ cDC2\n",
      "downloading fileID: 6e4514e8-19e2-4ad7-a139-e87f78a79b27\n",
      "Files have been successfully downloaded!\n",
      "64/71: Splitting Intermediate monocyte\n",
      "downloading fileID: 6f238c36-374a-4e74-bff9-69ff17eac06e\n",
      "Files have been successfully downloaded!\n",
      "65/71: Splitting cDC1\n",
      "downloading fileID: 8bf76981-c706-46a3-bd91-b2fc62b8376d\n",
      "Files have been successfully downloaded!\n",
      "66/71: Splitting pDC\n",
      "downloading fileID: cf40667f-6096-4e2a-b0a7-6f27f85883d7\n",
      "Files have been successfully downloaded!\n",
      "67/71: Splitting BaEoMaP cell\n",
      "downloading fileID: 5d42b57e-9021-4b47-9e9e-c6df30083e9f\n",
      "Files have been successfully downloaded!\n",
      "68/71: Splitting CLP cell\n",
      "downloading fileID: b80001d4-bdae-49b7-8315-24acd335217f\n",
      "Files have been successfully downloaded!\n",
      "69/71: Splitting CMP cell\n",
      "downloading fileID: 8a71c65a-09ef-4c1a-b294-4a3fb591ea6d\n",
      "Files have been successfully downloaded!\n",
      "70/71: Splitting Erythrocyte\n",
      "downloading fileID: e459301b-39a5-4ea6-a579-0f2839edd11e\n",
      "Files have been successfully downloaded!\n",
      "71/71: Splitting Platelet\n",
      "downloading fileID: 2498790d-2beb-4a1a-84ae-9f683f92364a\n",
      "Files have been successfully downloaded!\n"
     ]
    }
   ],
   "source": [
    "obs_list = []\n",
    "\n",
    "n_types = search_df.shape[0]\n",
    "for i in range(n_types):\n",
    "    cell_type = search_df['AIFI_L3'].tolist()[i]\n",
    "    print('{k}/{n}: Splitting {ct}'.format(k = i+1, n = n_types, ct = cell_type))\n",
    "    \n",
    "    uuid = search_df['id'].tolist()[i]\n",
    "    type_adata = prep_adata_uuid(\n",
    "        uuid, keep_adata_obs, combined_sample_meta\n",
    "    )\n",
    "    \n",
    "    type_obs = type_adata.obs\n",
    "    obs_list.append(type_obs)\n",
    "    \n",
    "    split_type_adata_per_sample(\n",
    "        type_adata, out_dir\n",
    "    )"
   ]
  },
  {
   "cell_type": "code",
   "execution_count": 35,
   "id": "2e7362d8-f03f-4007-a3de-a67245ec0a02",
   "metadata": {},
   "outputs": [],
   "source": [
    "type_dirs = [out_dir + '/' + x for x in os.listdir(out_dir)]\n",
    "all_type_files = []\n",
    "for type_dir in type_dirs:\n",
    "    type_files = [type_dir + '/' + x for x in os.listdir(type_dir)]\n",
    "    all_type_files = all_type_files + type_files "
   ]
  },
  {
   "cell_type": "markdown",
   "id": "788ba8c3-5938-45a2-87ce-ea12ac31c3d1",
   "metadata": {},
   "source": [
    "## Assemble sample results"
   ]
  },
  {
   "cell_type": "code",
   "execution_count": 44,
   "id": "2de88a70-dc23-4417-b996-07f6071f72d3",
   "metadata": {},
   "outputs": [],
   "source": [
    "samples = combined_sample_meta['specimen.specimenGuid'].tolist()\n",
    "\n",
    "param_list = zip(\n",
    "    samples,\n",
    "    itertools.repeat(all_type_files),\n",
    "    itertools.repeat(sample_dir)\n",
    ")\n",
    "\n",
    "pool = multiprocessing.Pool(40)\n",
    "\n",
    "pool.starmap(assemble_h5ad_per_sample, param_list)\n",
    "\n",
    "pool.close()"
   ]
  },
  {
   "cell_type": "markdown",
   "id": "c97a9b87-b22f-4649-ae16-db3b72cdab61",
   "metadata": {},
   "source": [
    "## Assemble metadata from all types"
   ]
  },
  {
   "cell_type": "code",
   "execution_count": 45,
   "id": "dffa4a51-d22c-4dee-941f-d336db61a5f1",
   "metadata": {},
   "outputs": [],
   "source": [
    "out_files = []"
   ]
  },
  {
   "cell_type": "code",
   "execution_count": 46,
   "id": "74a85559-2416-4f5b-947b-673ad208652d",
   "metadata": {},
   "outputs": [
    {
     "name": "stderr",
     "output_type": "stream",
     "text": [
      "/opt/conda/lib/python3.10/site-packages/pandas/core/internals/blocks.py:2540: RuntimeWarning: invalid value encountered in cast\n",
      "  values = values.astype(str)\n"
     ]
    }
   ],
   "source": [
    "all_obs = pd.concat(obs_list)\n",
    "all_obs = all_obs.reset_index(drop = True)\n",
    "\n",
    "all_obs_csv = '{od}/diha_all_cell_meta_{d}.csv'.format(od = out_dir, d = date.today())\n",
    "all_obs.to_csv(all_obs_csv)\n",
    "out_files.append(all_obs_csv)\n",
    "\n",
    "all_obs_parquet = '{od}/diha_all_cell_meta_{d}.parquet'.format(od = out_dir, d = date.today())\n",
    "all_obs.to_parquet(all_obs_parquet)\n",
    "out_files.append(all_obs_parquet)"
   ]
  },
  {
   "cell_type": "markdown",
   "id": "02cb20ff-64d5-4ba8-8fdb-1fd9a18c1fa5",
   "metadata": {},
   "source": [
    "### Assemble metadata per group"
   ]
  },
  {
   "cell_type": "code",
   "execution_count": 47,
   "id": "3c00fe8d-d818-4168-a675-7c64a122dabf",
   "metadata": {},
   "outputs": [],
   "source": [
    "split_samples = combined_sample_meta.groupby(['cohort.cohortGuid', 'subject.biologicalSex', 'subject.cmv'])\n",
    "split_obs = all_obs.groupby(['cohort.cohortGuid', 'subject.biologicalSex', 'subject.cmv'])"
   ]
  },
  {
   "cell_type": "code",
   "execution_count": 48,
   "id": "adfd54c7-1cfa-4204-8b73-b624a5c8a3cb",
   "metadata": {},
   "outputs": [
    {
     "name": "stderr",
     "output_type": "stream",
     "text": [
      "/opt/conda/lib/python3.10/site-packages/pandas/core/internals/blocks.py:2540: RuntimeWarning: invalid value encountered in cast\n",
      "  values = values.astype(str)\n"
     ]
    }
   ],
   "source": [
    "for (group, group_obs) in split_obs:\n",
    "    out_group = '_'.join(group)\n",
    "    \n",
    "    group_csv = '{od}/diha_{g}_meta_{d}.csv'.format(od = out_dir, g = out_group, d = date.today())\n",
    "    group_obs.to_csv(group_csv)\n",
    "    out_files.append(group_csv)\n",
    "    \n",
    "    group_parquet = '{od}/diha_{g}_meta_{d}.parquet'.format(od = out_dir, g = out_group, d = date.today())\n",
    "    group_obs.to_parquet(group_parquet)\n",
    "    out_files.append(group_parquet)"
   ]
  },
  {
   "cell_type": "markdown",
   "id": "425b39d1-0153-4adb-9974-9a283569c0be",
   "metadata": {},
   "source": [
    "## Assemble .tar files per group"
   ]
  },
  {
   "cell_type": "code",
   "execution_count": 49,
   "id": "f691764a-d74c-453f-882f-59a6d7b4c61d",
   "metadata": {},
   "outputs": [
    {
     "name": "stdout",
     "output_type": "stream",
     "text": [
      "Generating .tar for BR1_Female_Negative\n",
      "Generating .tar for BR1_Female_Positive\n",
      "Generating .tar for BR1_Male_Negative\n",
      "Generating .tar for BR1_Male_Positive\n",
      "Generating .tar for BR2_Female_Negative\n",
      "Generating .tar for BR2_Female_Positive\n",
      "Generating .tar for BR2_Male_Negative\n",
      "Generating .tar for BR2_Male_Positive\n"
     ]
    }
   ],
   "source": [
    "for (group, df) in split_samples:\n",
    "    out_group = '_'.join(group)\n",
    "    print('Generating .tar for {g}'.format(g = out_group))\n",
    "\n",
    "    group_ids = df['specimen.specimenGuid'].tolist()\n",
    "\n",
    "    all_sample_files = os.listdir(sample_dir)\n",
    "    sample_files = []\n",
    "    for file in all_sample_files:\n",
    "        file_id = re.sub('_.+', '',file)\n",
    "        if file_id in group_ids:\n",
    "            sample_files.append(sample_dir + '/' + file)\n",
    "    \n",
    "    out_tar = '{od}/diha_{g}_h5ads_{d}.tar'.format(od = out_dir, g = out_group, d = date.today())\n",
    "    with tarfile.open(out_tar,\"w\") as tar:\n",
    "        for sample_file in sample_files:\n",
    "            tar.add(sample_file)\n",
    "    \n",
    "    out_files.append(out_tar)"
   ]
  },
  {
   "cell_type": "markdown",
   "id": "3e735000-79a8-477f-b20c-de01dc060963",
   "metadata": {},
   "source": [
    "## Upload Sample data to HISE\n",
    "\n",
    "Finally, we'll use `hisepy.upload.upload_files()` to send a copy of our output to HISE to use for downstream analysis steps."
   ]
  },
  {
   "cell_type": "code",
   "execution_count": 50,
   "id": "0eaebaf9-ad0e-41d7-afde-f89fd7d3e1ba",
   "metadata": {},
   "outputs": [],
   "source": [
    "study_space_uuid = 'de025812-5e73-4b3c-9c3b-6d0eac412f2a'\n",
    "title = 'DIHA Assembled scRNA-seq Data per Sample {d}'.format(d = date.today())"
   ]
  },
  {
   "cell_type": "code",
   "execution_count": 51,
   "id": "0309cca5-5506-41a5-b7fc-807cdbf38872",
   "metadata": {},
   "outputs": [
    {
     "data": {
      "text/plain": [
       "'polonium-tin-curium'"
      ]
     },
     "execution_count": 51,
     "metadata": {},
     "output_type": "execute_result"
    }
   ],
   "source": [
    "search_id = element_id()\n",
    "search_id"
   ]
  },
  {
   "cell_type": "code",
   "execution_count": 52,
   "id": "8c4361f5-3ac1-40c3-aa36-9456c7888b90",
   "metadata": {},
   "outputs": [],
   "source": [
    "in_files = search_df['id'].tolist()\n",
    "in_files = in_files + [sample_meta_uuid, cmv_meta_uuid, bmi_meta_uuid]            \n",
    "in_files = in_files"
   ]
  },
  {
   "cell_type": "code",
   "execution_count": 53,
   "id": "69bd9db6-bd90-468e-b767-4e714a3a5267",
   "metadata": {},
   "outputs": [],
   "source": [
    "out_files = list(set(out_files))"
   ]
  },
  {
   "cell_type": "code",
   "execution_count": 54,
   "id": "3c11773d-521b-47d0-b5bc-2db2e7cc426e",
   "metadata": {},
   "outputs": [
    {
     "data": {
      "text/plain": [
       "26"
      ]
     },
     "execution_count": 54,
     "metadata": {},
     "output_type": "execute_result"
    }
   ],
   "source": [
    "len(out_files)"
   ]
  },
  {
   "cell_type": "code",
   "execution_count": 55,
   "id": "92601924-db94-4fa5-871e-20f1370de0e8",
   "metadata": {},
   "outputs": [
    {
     "data": {
      "text/plain": [
       "['output/diha_BR1_Female_Negative_h5ads_2024-05-05.tar',\n",
       " 'output/diha_BR1_Female_Negative_meta_2024-05-05.csv',\n",
       " 'output/diha_BR1_Female_Negative_meta_2024-05-05.parquet',\n",
       " 'output/diha_BR1_Female_Positive_h5ads_2024-05-05.tar',\n",
       " 'output/diha_BR1_Female_Positive_meta_2024-05-05.csv',\n",
       " 'output/diha_BR1_Female_Positive_meta_2024-05-05.parquet',\n",
       " 'output/diha_BR1_Male_Negative_h5ads_2024-05-05.tar',\n",
       " 'output/diha_BR1_Male_Negative_meta_2024-05-05.csv',\n",
       " 'output/diha_BR1_Male_Negative_meta_2024-05-05.parquet',\n",
       " 'output/diha_BR1_Male_Positive_h5ads_2024-05-05.tar',\n",
       " 'output/diha_BR1_Male_Positive_meta_2024-05-05.csv',\n",
       " 'output/diha_BR1_Male_Positive_meta_2024-05-05.parquet',\n",
       " 'output/diha_BR2_Female_Negative_h5ads_2024-05-05.tar',\n",
       " 'output/diha_BR2_Female_Negative_meta_2024-05-05.csv',\n",
       " 'output/diha_BR2_Female_Negative_meta_2024-05-05.parquet',\n",
       " 'output/diha_BR2_Female_Positive_h5ads_2024-05-05.tar',\n",
       " 'output/diha_BR2_Female_Positive_meta_2024-05-05.csv',\n",
       " 'output/diha_BR2_Female_Positive_meta_2024-05-05.parquet',\n",
       " 'output/diha_BR2_Male_Negative_h5ads_2024-05-05.tar',\n",
       " 'output/diha_BR2_Male_Negative_meta_2024-05-05.csv',\n",
       " 'output/diha_BR2_Male_Negative_meta_2024-05-05.parquet',\n",
       " 'output/diha_BR2_Male_Positive_h5ads_2024-05-05.tar',\n",
       " 'output/diha_BR2_Male_Positive_meta_2024-05-05.csv',\n",
       " 'output/diha_BR2_Male_Positive_meta_2024-05-05.parquet',\n",
       " 'output/diha_all_cell_meta_2024-05-05.csv',\n",
       " 'output/diha_all_cell_meta_2024-05-05.parquet']"
      ]
     },
     "execution_count": 55,
     "metadata": {},
     "output_type": "execute_result"
    }
   ],
   "source": [
    "out_files.sort()\n",
    "out_files"
   ]
  },
  {
   "cell_type": "code",
   "execution_count": 56,
   "id": "d255f239-c4c4-4f23-87c9-47e9f38be691",
   "metadata": {},
   "outputs": [
    {
     "name": "stdout",
     "output_type": "stream",
     "text": [
      "you are trying to upload file_ids... ['output/diha_BR1_Female_Negative_h5ads_2024-05-05.tar', 'output/diha_BR1_Female_Negative_meta_2024-05-05.csv', 'output/diha_BR1_Female_Negative_meta_2024-05-05.parquet', 'output/diha_BR1_Female_Positive_h5ads_2024-05-05.tar', 'output/diha_BR1_Female_Positive_meta_2024-05-05.csv', 'output/diha_BR1_Female_Positive_meta_2024-05-05.parquet', 'output/diha_BR1_Male_Negative_h5ads_2024-05-05.tar', 'output/diha_BR1_Male_Negative_meta_2024-05-05.csv', 'output/diha_BR1_Male_Negative_meta_2024-05-05.parquet', 'output/diha_BR1_Male_Positive_h5ads_2024-05-05.tar', 'output/diha_BR1_Male_Positive_meta_2024-05-05.csv', 'output/diha_BR1_Male_Positive_meta_2024-05-05.parquet', 'output/diha_BR2_Female_Negative_h5ads_2024-05-05.tar', 'output/diha_BR2_Female_Negative_meta_2024-05-05.csv', 'output/diha_BR2_Female_Negative_meta_2024-05-05.parquet', 'output/diha_BR2_Female_Positive_h5ads_2024-05-05.tar', 'output/diha_BR2_Female_Positive_meta_2024-05-05.csv', 'output/diha_BR2_Female_Positive_meta_2024-05-05.parquet', 'output/diha_BR2_Male_Negative_h5ads_2024-05-05.tar', 'output/diha_BR2_Male_Negative_meta_2024-05-05.csv', 'output/diha_BR2_Male_Negative_meta_2024-05-05.parquet', 'output/diha_BR2_Male_Positive_h5ads_2024-05-05.tar', 'output/diha_BR2_Male_Positive_meta_2024-05-05.csv', 'output/diha_BR2_Male_Positive_meta_2024-05-05.parquet', 'output/diha_all_cell_meta_2024-05-05.csv', 'output/diha_all_cell_meta_2024-05-05.parquet']. Do you truly want to proceed?\n"
     ]
    },
    {
     "name": "stdin",
     "output_type": "stream",
     "text": [
      "(y/n) y\n"
     ]
    },
    {
     "data": {
      "text/plain": [
       "{'trace_id': 'bbab4457-c85a-4577-8c2a-5312bebdf852',\n",
       " 'files': ['output/diha_BR1_Female_Negative_h5ads_2024-05-05.tar',\n",
       "  'output/diha_BR1_Female_Negative_meta_2024-05-05.csv',\n",
       "  'output/diha_BR1_Female_Negative_meta_2024-05-05.parquet',\n",
       "  'output/diha_BR1_Female_Positive_h5ads_2024-05-05.tar',\n",
       "  'output/diha_BR1_Female_Positive_meta_2024-05-05.csv',\n",
       "  'output/diha_BR1_Female_Positive_meta_2024-05-05.parquet',\n",
       "  'output/diha_BR1_Male_Negative_h5ads_2024-05-05.tar',\n",
       "  'output/diha_BR1_Male_Negative_meta_2024-05-05.csv',\n",
       "  'output/diha_BR1_Male_Negative_meta_2024-05-05.parquet',\n",
       "  'output/diha_BR1_Male_Positive_h5ads_2024-05-05.tar',\n",
       "  'output/diha_BR1_Male_Positive_meta_2024-05-05.csv',\n",
       "  'output/diha_BR1_Male_Positive_meta_2024-05-05.parquet',\n",
       "  'output/diha_BR2_Female_Negative_h5ads_2024-05-05.tar',\n",
       "  'output/diha_BR2_Female_Negative_meta_2024-05-05.csv',\n",
       "  'output/diha_BR2_Female_Negative_meta_2024-05-05.parquet',\n",
       "  'output/diha_BR2_Female_Positive_h5ads_2024-05-05.tar',\n",
       "  'output/diha_BR2_Female_Positive_meta_2024-05-05.csv',\n",
       "  'output/diha_BR2_Female_Positive_meta_2024-05-05.parquet',\n",
       "  'output/diha_BR2_Male_Negative_h5ads_2024-05-05.tar',\n",
       "  'output/diha_BR2_Male_Negative_meta_2024-05-05.csv',\n",
       "  'output/diha_BR2_Male_Negative_meta_2024-05-05.parquet',\n",
       "  'output/diha_BR2_Male_Positive_h5ads_2024-05-05.tar',\n",
       "  'output/diha_BR2_Male_Positive_meta_2024-05-05.csv',\n",
       "  'output/diha_BR2_Male_Positive_meta_2024-05-05.parquet',\n",
       "  'output/diha_all_cell_meta_2024-05-05.csv',\n",
       "  'output/diha_all_cell_meta_2024-05-05.parquet']}"
      ]
     },
     "execution_count": 56,
     "metadata": {},
     "output_type": "execute_result"
    }
   ],
   "source": [
    "hisepy.upload.upload_files(\n",
    "    files = out_files,\n",
    "    study_space_id = study_space_uuid,\n",
    "    title = title,\n",
    "    input_file_ids = in_files,\n",
    "    destination = search_id\n",
    ")"
   ]
  },
  {
   "cell_type": "code",
   "execution_count": 57,
   "id": "e34ed06b-c2c4-4e11-96cd-fe48e373e742",
   "metadata": {},
   "outputs": [
    {
     "data": {
      "text/html": [
       "<details>\n",
       "<summary>Click to view session information</summary>\n",
       "<pre>\n",
       "-----\n",
       "anndata             0.10.3\n",
       "hisepy              0.3.0\n",
       "pandas              2.1.4\n",
       "scanpy              1.9.6\n",
       "session_info        1.0.0\n",
       "-----\n",
       "</pre>\n",
       "<details>\n",
       "<summary>Click to view modules imported as dependencies</summary>\n",
       "<pre>\n",
       "PIL                         10.0.1\n",
       "anyio                       NA\n",
       "arrow                       1.3.0\n",
       "asttokens                   NA\n",
       "attr                        23.2.0\n",
       "attrs                       23.2.0\n",
       "babel                       2.14.0\n",
       "beatrix_jupyterlab          NA\n",
       "brotli                      NA\n",
       "cachetools                  5.3.1\n",
       "certifi                     2024.02.02\n",
       "cffi                        1.16.0\n",
       "charset_normalizer          3.3.2\n",
       "cloudpickle                 2.2.1\n",
       "colorama                    0.4.6\n",
       "comm                        0.1.4\n",
       "cryptography                41.0.7\n",
       "cycler                      0.10.0\n",
       "cython_runtime              NA\n",
       "dateutil                    2.8.2\n",
       "db_dtypes                   1.1.1\n",
       "debugpy                     1.8.0\n",
       "decorator                   5.1.1\n",
       "defusedxml                  0.7.1\n",
       "deprecated                  1.2.14\n",
       "exceptiongroup              1.2.0\n",
       "executing                   2.0.1\n",
       "fastjsonschema              NA\n",
       "fqdn                        NA\n",
       "google                      NA\n",
       "greenlet                    2.0.2\n",
       "grpc                        1.58.0\n",
       "grpc_status                 NA\n",
       "h5py                        3.10.0\n",
       "idna                        3.6\n",
       "igraph                      0.10.8\n",
       "importlib_metadata          NA\n",
       "ipykernel                   6.28.0\n",
       "ipython_genutils            0.2.0\n",
       "ipywidgets                  8.1.1\n",
       "isoduration                 NA\n",
       "jedi                        0.19.1\n",
       "jinja2                      3.1.2\n",
       "joblib                      1.3.2\n",
       "json5                       NA\n",
       "jsonpointer                 2.4\n",
       "jsonschema                  4.20.0\n",
       "jsonschema_specifications   NA\n",
       "jupyter_events              0.9.0\n",
       "jupyter_server              2.12.1\n",
       "jupyterlab_server           2.25.2\n",
       "jwt                         2.8.0\n",
       "kiwisolver                  1.4.5\n",
       "leidenalg                   0.10.1\n",
       "llvmlite                    0.41.0\n",
       "lz4                         4.3.2\n",
       "markupsafe                  2.1.3\n",
       "matplotlib                  3.8.0\n",
       "matplotlib_inline           0.1.6\n",
       "mpl_toolkits                NA\n",
       "mpmath                      1.3.0\n",
       "natsort                     8.4.0\n",
       "nbformat                    5.9.2\n",
       "numba                       0.58.0\n",
       "numpy                       1.24.0\n",
       "opentelemetry               NA\n",
       "overrides                   NA\n",
       "packaging                   23.2\n",
       "parso                       0.8.3\n",
       "periodictable               1.5.2\n",
       "pexpect                     4.8.0\n",
       "pickleshare                 0.7.5\n",
       "pkg_resources               NA\n",
       "platformdirs                4.1.0\n",
       "plotly                      5.18.0\n",
       "prettytable                 3.9.0\n",
       "prometheus_client           NA\n",
       "prompt_toolkit              3.0.42\n",
       "proto                       NA\n",
       "psutil                      NA\n",
       "ptyprocess                  0.7.0\n",
       "pure_eval                   0.2.2\n",
       "pyarrow                     13.0.0\n",
       "pydev_ipython               NA\n",
       "pydevconsole                NA\n",
       "pydevd                      2.9.5\n",
       "pydevd_file_utils           NA\n",
       "pydevd_plugins              NA\n",
       "pydevd_tracing              NA\n",
       "pygments                    2.17.2\n",
       "pynvml                      NA\n",
       "pyparsing                   3.1.1\n",
       "pyreadr                     0.5.0\n",
       "pythonjsonlogger            NA\n",
       "pytz                        2023.3.post1\n",
       "referencing                 NA\n",
       "requests                    2.31.0\n",
       "rfc3339_validator           0.1.4\n",
       "rfc3986_validator           0.1.1\n",
       "rpds                        NA\n",
       "scipy                       1.11.4\n",
       "send2trash                  NA\n",
       "shapely                     1.8.5.post1\n",
       "six                         1.16.0\n",
       "sklearn                     1.3.2\n",
       "sniffio                     1.3.0\n",
       "socks                       1.7.1\n",
       "sql                         NA\n",
       "sqlalchemy                  2.0.21\n",
       "sqlparse                    0.4.4\n",
       "stack_data                  0.6.2\n",
       "sympy                       1.12\n",
       "termcolor                   NA\n",
       "texttable                   1.7.0\n",
       "threadpoolctl               3.2.0\n",
       "torch                       2.1.2+cu121\n",
       "torchgen                    NA\n",
       "tornado                     6.3.3\n",
       "tqdm                        4.66.1\n",
       "traitlets                   5.9.0\n",
       "typing_extensions           NA\n",
       "uri_template                NA\n",
       "urllib3                     1.26.18\n",
       "wcwidth                     0.2.12\n",
       "webcolors                   1.13\n",
       "websocket                   1.7.0\n",
       "wrapt                       1.15.0\n",
       "xarray                      2023.12.0\n",
       "yaml                        6.0.1\n",
       "zipp                        NA\n",
       "zmq                         25.1.2\n",
       "zoneinfo                    NA\n",
       "zstandard                   0.22.0\n",
       "</pre>\n",
       "</details> <!-- seems like this ends pre, so might as well be explicit -->\n",
       "<pre>\n",
       "-----\n",
       "IPython             8.19.0\n",
       "jupyter_client      8.6.0\n",
       "jupyter_core        5.6.1\n",
       "jupyterlab          4.1.5\n",
       "notebook            6.5.4\n",
       "-----\n",
       "Python 3.10.13 | packaged by conda-forge | (main, Dec 23 2023, 15:36:39) [GCC 12.3.0]\n",
       "Linux-5.15.0-1058-gcp-x86_64-with-glibc2.31\n",
       "-----\n",
       "Session information updated at 2024-05-05 04:50\n",
       "</pre>\n",
       "</details>"
      ],
      "text/plain": [
       "<IPython.core.display.HTML object>"
      ]
     },
     "execution_count": 57,
     "metadata": {},
     "output_type": "execute_result"
    }
   ],
   "source": [
    "import session_info\n",
    "session_info.show()"
   ]
  },
  {
   "cell_type": "code",
   "execution_count": null,
   "id": "829c0878-f553-4a86-941b-c2e17b7924c8",
   "metadata": {},
   "outputs": [],
   "source": []
  }
 ],
 "metadata": {
  "kernelspec": {
   "display_name": "Python 3 (ipykernel)",
   "language": "python",
   "name": "python3"
  },
  "language_info": {
   "codemirror_mode": {
    "name": "ipython",
    "version": 3
   },
   "file_extension": ".py",
   "mimetype": "text/x-python",
   "name": "python",
   "nbconvert_exporter": "python",
   "pygments_lexer": "ipython3",
   "version": "3.10.13"
  }
 },
 "nbformat": 4,
 "nbformat_minor": 5
}
