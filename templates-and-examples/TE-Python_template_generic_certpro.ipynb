{
 "cells": [
  {
   "cell_type": "markdown",
   "id": "13bb4297-e4f3-4554-9a62-838bc6d5d64b",
   "metadata": {},
   "source": [
    "# Title\n",
    "\n",
    "Description of your analysis"
   ]
  },
  {
   "cell_type": "markdown",
   "id": "2ab6500c-a785-4c03-89b0-fae4e7780e11",
   "metadata": {},
   "source": [
    "## Load packages\n",
    "\n",
    "`datetime`: Day and time functions for adding the current date to our outputs  \n",
    "`hisepy`: The HISE SDK package for Python  \n",
    "`os`: Operating System calls in Python  \n",
    "`pandas`: DataFrames for Python  "
   ]
  },
  {
   "cell_type": "code",
   "execution_count": 1,
   "id": "797a953d-32e3-45e2-b4c5-b4f98f1e3692",
   "metadata": {},
   "outputs": [],
   "source": [
    "from datetime import date\n",
    "import hisepy\n",
    "import os\n",
    "import pandas"
   ]
  },
  {
   "cell_type": "markdown",
   "id": "190a0d5b-ab02-4a92-b39d-5da7247f5de4",
   "metadata": {},
   "source": [
    "## Cache inputs from HISE"
   ]
  },
  {
   "cell_type": "code",
   "execution_count": null,
   "id": "6d3f09e9-d7c3-4720-ad1f-602d26c9bf83",
   "metadata": {},
   "outputs": [],
   "source": [
    "file_uuid = [\n",
    "    ''\n",
    "]\n",
    "cache_path = '/home/jupyter/cache/{u}'.format(u = file_uuid)"
   ]
  },
  {
   "cell_type": "code",
   "execution_count": null,
   "id": "198e9468-00d9-43bd-91c8-820d2b27992e",
   "metadata": {},
   "outputs": [],
   "source": [
    "hise_res = hisepy.reader.cache_files([file_uuid])\n",
    "cache_filename = os.listdir(cache_path)[0]\n",
    "cache_file = '{p}/{f}'.format(p = cache_path, f = cache_filename)"
   ]
  },
  {
   "cell_type": "markdown",
   "id": "b835f8f8-0ee3-4a39-af0c-d156c7c1e0dc",
   "metadata": {},
   "source": [
    "## Perform analysis"
   ]
  },
  {
   "cell_type": "code",
   "execution_count": null,
   "id": "4dddd85c-818b-4ae2-a0fe-c57bb87a22cc",
   "metadata": {},
   "outputs": [],
   "source": []
  },
  {
   "cell_type": "code",
   "execution_count": null,
   "id": "1edd24c7-a11c-412e-bf19-67fce255cd47",
   "metadata": {},
   "outputs": [],
   "source": []
  },
  {
   "cell_type": "code",
   "execution_count": null,
   "id": "505562e4-a9dc-4f97-a388-de8c66ef8b47",
   "metadata": {},
   "outputs": [],
   "source": []
  },
  {
   "cell_type": "markdown",
   "id": "9745c739-01dd-45a1-83d3-69fbfa356f33",
   "metadata": {},
   "source": [
    "## Write analysis outputs"
   ]
  },
  {
   "cell_type": "code",
   "execution_count": null,
   "id": "a2d0c4f0-1f94-46d2-9198-c7c550fa960f",
   "metadata": {
    "tags": []
   },
   "outputs": [],
   "source": [
    "out_path = 'output'\n",
    "if not os.path.isdir(out_path):\n",
    "    os.makedirs(out_path)"
   ]
  },
  {
   "cell_type": "code",
   "execution_count": null,
   "id": "bd6f2c64-f56b-461e-95f9-c7df0e82b66e",
   "metadata": {},
   "outputs": [],
   "source": [
    "out_file = '{p}/analysis_result_{d}.csv'.format(p = out_path, d = date.today())\n",
    "result.to_csv(out_file)"
   ]
  },
  {
   "cell_type": "markdown",
   "id": "1905d1f0-3c7b-48df-ad05-8c983700cd9b",
   "metadata": {},
   "source": [
    "## Upload results to HISE"
   ]
  },
  {
   "cell_type": "code",
   "execution_count": null,
   "id": "add2063b-0bd0-400d-a616-5c64c87aabd9",
   "metadata": {},
   "outputs": [],
   "source": [
    "study_space_uuid = ''\n",
    "title = 'CertPro Analysis Result {d}'.format(d = date.today())"
   ]
  },
  {
   "cell_type": "code",
   "execution_count": null,
   "id": "87798364-8d5b-4870-be22-3bbac84b42d8",
   "metadata": {},
   "outputs": [],
   "source": [
    "in_files = [file_uuid]\n",
    "in_files"
   ]
  },
  {
   "cell_type": "code",
   "execution_count": null,
   "id": "4da520a7-c2ae-4693-8748-fc21f637b66f",
   "metadata": {},
   "outputs": [],
   "source": [
    "out_files = [out_file]\n",
    "out_files"
   ]
  },
  {
   "cell_type": "code",
   "execution_count": null,
   "id": "9f3769fa-2a11-47bd-b3d8-b93e6b601dff",
   "metadata": {},
   "outputs": [],
   "source": [
    "hisepy.upload.upload_files(\n",
    "    study_space_id = study_space_uuid,\n",
    "    title = title,\n",
    "    input_file_ids = in_files,\n",
    "    files = out_files\n",
    ")"
   ]
  },
  {
   "cell_type": "markdown",
   "id": "2cd2aeae-43d3-44f4-93cf-e9d25a0d16e2",
   "metadata": {},
   "source": [
    "## Session Info"
   ]
  },
  {
   "cell_type": "code",
   "execution_count": null,
   "id": "77b52b31-080f-4c39-9d25-5bec36b64cb4",
   "metadata": {},
   "outputs": [],
   "source": [
    "import session_info\n",
    "session_info.show()"
   ]
  },
  {
   "cell_type": "code",
   "execution_count": null,
   "id": "5a49b52c-4c56-44dc-b59e-c6da1e6284bc",
   "metadata": {},
   "outputs": [],
   "source": []
  }
 ],
 "metadata": {
  "kernelspec": {
   "display_name": "Python 3 (ipykernel)",
   "language": "python",
   "name": "python3"
  },
  "language_info": {
   "codemirror_mode": {
    "name": "ipython",
    "version": 3
   },
   "file_extension": ".py",
   "mimetype": "text/x-python",
   "name": "python",
   "nbconvert_exporter": "python",
   "pygments_lexer": "ipython3",
   "version": "3.10.13"
  }
 },
 "nbformat": 4,
 "nbformat_minor": 5
}
