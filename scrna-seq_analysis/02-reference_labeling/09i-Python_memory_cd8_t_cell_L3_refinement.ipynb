{
 "cells": [
  {
   "cell_type": "markdown",
   "id": "025a9390-94a2-4267-91b2-e7d7d330b66e",
   "metadata": {},
   "source": [
    "# Refine labels for Memory CD8 T cells\n",
    "\n",
    "In this notebook, we load all Memory CD8 T cells across our subjects to refine final L3 labels. We'll combine, recluster, and assign final labels by taking the most frequent AIFI_L3 label in each cluster, and back-propogate those L3 labels to L2 and L1 based on our cell type hierarcy.\n",
    "\n",
    "We'll also generate metadata, UMAP coordinates, and marker gene summaries for review of our final labels, then store all of the outputs in HISE for later use.\n",
    "\n",
    "Because there are many Memory CD8 T cells, we'll divide them into smaller subsets based on cohort, sex, and visit grouping (defined below). We'll combine CMV+ and CMV- subjects so that we better capture cell types that are enriched in CMV+ subjects. We'll then review each subset and assemble all labeled data in later notebooks."
   ]
  },
  {
   "cell_type": "markdown",
   "id": "1ffa2bfa-e610-421d-b2b0-3ed50ebdc80f",
   "metadata": {},
   "source": [
    "## Load packages"
   ]
  },
  {
   "cell_type": "code",
   "execution_count": 1,
   "id": "000b6f3a-eca7-45e7-b4dc-fb243161dab2",
   "metadata": {},
   "outputs": [],
   "source": [
    "import warnings\n",
    "warnings.simplefilter(action='ignore', category=FutureWarning)\n",
    "warnings.simplefilter(action='ignore', category=RuntimeWarning)\n",
    "\n",
    "import concurrent.futures\n",
    "from concurrent.futures import ThreadPoolExecutor\n",
    "from datetime import date\n",
    "import hisepy\n",
    "import os\n",
    "import pandas as pd\n",
    "import scanpy as sc\n",
    "import scanpy.external as sce\n",
    "import tarfile"
   ]
  },
  {
   "cell_type": "code",
   "execution_count": 2,
   "id": "7d376874-6e42-477d-b4e4-166acfdd448a",
   "metadata": {
    "tags": []
   },
   "outputs": [],
   "source": [
    "out_dir = 'output'\n",
    "if not os.path.isdir(out_dir):\n",
    "    os.makedirs(out_dir)"
   ]
  },
  {
   "cell_type": "code",
   "execution_count": 3,
   "id": "ab2cd5aa-dcee-4c3c-84e5-e27cdef17fdd",
   "metadata": {
    "tags": []
   },
   "outputs": [],
   "source": [
    "out_dir = 'output/review'\n",
    "if not os.path.isdir(out_dir):\n",
    "    os.makedirs(out_dir)"
   ]
  },
  {
   "cell_type": "code",
   "execution_count": 4,
   "id": "0981e900-aa42-49a4-b46b-94c9b2315b13",
   "metadata": {},
   "outputs": [],
   "source": [
    "class_name = 'memory_cd8_t_cell'"
   ]
  },
  {
   "cell_type": "markdown",
   "id": "c962b69c-cdff-4d2a-8583-fd0fe04e0abb",
   "metadata": {},
   "source": [
    "## Helper functions\n",
    "\n",
    "### HISE data\n",
    "These functions make it easy to utilize files from the HISE cache"
   ]
  },
  {
   "cell_type": "code",
   "execution_count": 5,
   "id": "179c2eec-0c87-44b7-b5af-3e3c98e553d7",
   "metadata": {},
   "outputs": [],
   "source": [
    "def cache_uuid_path(uuid):\n",
    "    cache_path = '/home/jupyter/cache/{u}'.format(u = uuid)\n",
    "    if not os.path.isdir(cache_path):\n",
    "        hise_res = hisepy.reader.cache_files([uuid])\n",
    "    filename = os.listdir(cache_path)[0]\n",
    "    cache_file = '{p}/{f}'.format(p = cache_path, f = filename)\n",
    "    return cache_file"
   ]
  },
  {
   "cell_type": "code",
   "execution_count": 6,
   "id": "b81455f5-8d6a-4209-a720-5d5a0bbcca77",
   "metadata": {},
   "outputs": [],
   "source": [
    "def read_csv_uuid(uuid):\n",
    "    cache_file = cache_uuid_path(uuid)\n",
    "    res = pd.read_csv(cache_file)\n",
    "    return res"
   ]
  },
  {
   "cell_type": "code",
   "execution_count": 7,
   "id": "424b9fca-65a6-460a-8398-8ed62aaba8fc",
   "metadata": {},
   "outputs": [],
   "source": [
    "def read_adata_uuid(uuid):\n",
    "    cache_file = cache_uuid_path(uuid)\n",
    "    res = sc.read_h5ad(cache_file)\n",
    "    return res"
   ]
  },
  {
   "cell_type": "code",
   "execution_count": 8,
   "id": "575db30e-ca07-43e1-a715-4581cf7437cc",
   "metadata": {},
   "outputs": [],
   "source": [
    "def read_obs_uuid(uuid):\n",
    "    cache_file = cache_uuid_path(uuid)\n",
    "    res = sc.read_h5ad(cache_file, backed = 'r')\n",
    "    obs = res.obs.copy()\n",
    "    return obs"
   ]
  },
  {
   "cell_type": "markdown",
   "id": "2ed774c3-51b8-4e91-8197-554820656880",
   "metadata": {},
   "source": [
    "### Label refinement"
   ]
  },
  {
   "cell_type": "markdown",
   "id": "c4c6a76f-981e-4aef-80fa-94b11edd2521",
   "metadata": {},
   "source": [
    "This function uses the most frequent label within each cluster to refine label assignments."
   ]
  },
  {
   "cell_type": "code",
   "execution_count": 9,
   "id": "2e1f4e64-e846-4699-b057-f5ac50d0b1c3",
   "metadata": {},
   "outputs": [],
   "source": [
    "def single_value(series):\n",
    "    res = []\n",
    "    for value in series:\n",
    "        if isinstance(value, list):\n",
    "            res.append(value[0])\n",
    "        else:\n",
    "            res.append(value)\n",
    "    return res"
   ]
  },
  {
   "cell_type": "code",
   "execution_count": 10,
   "id": "66d865ac-2de8-4f1b-b21d-648996d68132",
   "metadata": {},
   "outputs": [],
   "source": [
    "def assign_most_frequent(adata, clusters, labels, keep_original = False, original_prefix = 'predicted_'):\n",
    "    obs = adata.obs\n",
    "    \n",
    "    most_frequent_labels = (\n",
    "        adata.obs\n",
    "        .groupby(clusters)[labels]\n",
    "        .agg(pd.Series.mode)\n",
    "        .to_frame()\n",
    "        .reset_index()\n",
    "    )\n",
    "    most_frequent_labels[labels] = single_value(most_frequent_labels[labels])\n",
    "    \n",
    "    if keep_original:\n",
    "        obs = obs.rename({labels: original_prefix + labels}, axis = 1)\n",
    "    else:\n",
    "        obs = obs.drop(labels, axis = 1)\n",
    "    \n",
    "    obs = obs.merge(most_frequent_labels, on = clusters, how = 'left')\n",
    "    \n",
    "    adata.obs = obs\n",
    "    \n",
    "    return adata"
   ]
  },
  {
   "cell_type": "markdown",
   "id": "7687517a-8989-4a8b-bc64-d6486c86e3da",
   "metadata": {},
   "source": [
    "This function back-propagates hierarchical labeling from AIFI_L3 back to AIFI_L2 and AIFI_L1 to ensure our labels agree across levels of our cell type hierarchy."
   ]
  },
  {
   "cell_type": "code",
   "execution_count": 11,
   "id": "62e9797d-5ea4-44c8-af62-65937243017a",
   "metadata": {},
   "outputs": [],
   "source": [
    "def propagate_hierarchy(\n",
    "    adata,\n",
    "    hierarchy_df,\n",
    "    from_level = 'AIFI_L3',\n",
    "    to_levels = ['AIFI_L2', 'AIFI_L1'],\n",
    "    keep_original = True,\n",
    "    original_prefix = 'predicted_'\n",
    "):\n",
    "    obs = adata.obs\n",
    "    \n",
    "    for to_level in to_levels:\n",
    "        prop_df = hierarchy_df[[from_level, to_level]]\n",
    "        prop_df = prop_df.drop_duplicates()\n",
    "        \n",
    "        if keep_original:\n",
    "            obs = obs.rename({to_level: original_prefix + to_level}, axis = 1)\n",
    "        else:\n",
    "            obs = obs.drop(to_level, axis = 1)\n",
    "\n",
    "        obs[from_level] = obs[from_level].astype(str)\n",
    "        obs = obs.merge(prop_df, on = from_level, how = 'left')\n",
    "        obs[from_level] = obs[from_level].astype('category')\n",
    "        obs[to_level] = obs[to_level].astype('category')\n",
    "    \n",
    "    adata.obs = obs\n",
    "\n",
    "    return adata"
   ]
  },
  {
   "cell_type": "markdown",
   "id": "7d5bbf44-89b2-4613-ba3d-b05748168d4f",
   "metadata": {},
   "source": [
    "### Review outputs\n",
    "\n",
    "These functions are used to assemble marker gene expression tables for review"
   ]
  },
  {
   "cell_type": "code",
   "execution_count": 12,
   "id": "193f97f1-8ef0-4bac-9e95-6256fc34f72e",
   "metadata": {},
   "outputs": [],
   "source": [
    "def marker_frac_df(adata, markers, clusters = 'louvain_2'):\n",
    "    gene_cl_frac = sc.pl.dotplot(\n",
    "        adata, \n",
    "        groupby = clusters,\n",
    "        var_names = markers,\n",
    "        return_fig = True\n",
    "    ).dot_size_df\n",
    "    return gene_cl_frac\n",
    "\n",
    "def marker_mean_df(adata, markers, log = False, clusters = 'louvain_2'):\n",
    "    gene_cl_mean = sc.pl.dotplot(\n",
    "        adata, \n",
    "        groupby = clusters,\n",
    "        var_names = markers,\n",
    "        return_fig = True,\n",
    "        log = log\n",
    "    ).dot_color_df\n",
    "    \n",
    "    return gene_cl_mean\n",
    "\n",
    "def tidy_marker_df(adata, markers, clusters = 'louvain_2'):\n",
    "    gene_cl_frac = marker_frac_df(adata, markers, clusters)\n",
    "    gene_cl_frac = gene_cl_frac.reset_index(drop = False)\n",
    "    gene_cl_frac = pd.melt(gene_cl_frac, id_vars = clusters, var_name = 'gene', value_name = 'gene_frac')\n",
    "    \n",
    "    gene_cl_mean = marker_mean_df(adata, markers, log = False, clusters = clusters)\n",
    "    gene_cl_mean = gene_cl_mean.reset_index(drop = False)\n",
    "    gene_cl_mean = pd.melt(gene_cl_mean, id_vars = clusters, var_name = 'gene', value_name = 'gene_mean')\n",
    "\n",
    "    marker_df = gene_cl_frac.merge(gene_cl_mean, on = [clusters, 'gene'], how = 'left')\n",
    "    return marker_df"
   ]
  },
  {
   "cell_type": "markdown",
   "id": "b4daa6b6-70b0-4b0e-b90a-b4c9a011b21a",
   "metadata": {},
   "source": [
    "This function will select clusters based on gene detection above a specifiec fraction of cells (cutoff)."
   ]
  },
  {
   "cell_type": "code",
   "execution_count": 13,
   "id": "03ec5c9c-f96d-400a-9b2a-16fc67d0850c",
   "metadata": {},
   "outputs": [],
   "source": [
    "def select_clusters_above_gene_frac(adata, gene, cutoff, clusters = 'louvain_2'):\n",
    "    gene_cl_frac = marker_frac_df(adata, gene, clusters)\n",
    "    select_cl = gene_cl_frac.index[gene_cl_frac[gene] > cutoff].tolist()\n",
    "\n",
    "    return select_cl"
   ]
  },
  {
   "cell_type": "markdown",
   "id": "e0103038-8d60-4a00-99ac-83cbd992b354",
   "metadata": {},
   "source": [
    "This function retrieves both observations and UMAP coordinates in a single table for review."
   ]
  },
  {
   "cell_type": "code",
   "execution_count": 14,
   "id": "e3eedcf4-315a-4f6a-aa20-24e362a2e872",
   "metadata": {},
   "outputs": [],
   "source": [
    "def obs_with_umap(adata):\n",
    "    obs = adata.obs\n",
    "    \n",
    "    umap_mat = adata.obsm['X_umap']\n",
    "    umap_df = pd.DataFrame(umap_mat, columns = ['umap_1', 'umap_2'])\n",
    "    obs['umap_1'] = umap_df['umap_1']\n",
    "    obs['umap_2'] = umap_df['umap_2']\n",
    "\n",
    "    return obs"
   ]
  },
  {
   "cell_type": "markdown",
   "id": "299e5204-2799-4d3f-bc95-93308211be3c",
   "metadata": {},
   "source": [
    "This function applies data analysis methods to our scRNA-seq data, including normalization, HVG selection, PCA, nearest neighbors, UMAP, and Leiden clustering."
   ]
  },
  {
   "cell_type": "code",
   "execution_count": 15,
   "id": "82cae1fb-e61c-46b4-b4cf-731aa85709ac",
   "metadata": {},
   "outputs": [],
   "source": [
    "def process_adata(adata, resolution = 2):\n",
    "    \n",
    "    # Keep a copy of the raw data\n",
    "    adata = adata.raw.to_adata()\n",
    "    adata.raw = adata\n",
    "\n",
    "    print('Normalizing', end = \"; \")\n",
    "    # Normalize and log transform\n",
    "    sc.pp.normalize_total(adata)\n",
    "    sc.pp.log1p(adata)\n",
    "\n",
    "    print('Finding HVGs', end = \"; \")\n",
    "    # Restrict downstream steps to variable genes\n",
    "    sc.pp.highly_variable_genes(adata)\n",
    "    adata = adata[:, adata.var_names[adata.var['highly_variable']]].copy()\n",
    "\n",
    "    print('Scaling', end = \"; \")\n",
    "    # Scale variable genes\n",
    "    sc.pp.scale(adata)\n",
    "\n",
    "    print('PCA', end = \"; \")\n",
    "    # Run PCA\n",
    "    sc.tl.pca(adata, svd_solver = 'arpack')\n",
    "\n",
    "    print('Harmony', end = \"; \")\n",
    "    # Integrate subjects\n",
    "    sce.pp.harmony_integrate(\n",
    "        adata, \n",
    "        'subject.subjectGuid',\n",
    "        max_iter_harmony = 30,\n",
    "        verbose = False\n",
    "    )\n",
    "    \n",
    "    print('Neighbors', end = \"; \")\n",
    "    # Find nearest neighbors\n",
    "    sc.pp.neighbors(\n",
    "        adata, \n",
    "        n_neighbors = 20,\n",
    "        n_pcs = 30,\n",
    "        use_rep = 'X_pca_harmony'\n",
    "    )\n",
    "\n",
    "    print('Leiden', end = \"; \")\n",
    "    # Find clusters\n",
    "    sc.tl.leiden(\n",
    "        adata, \n",
    "        resolution = resolution, \n",
    "        key_added = 'leiden_{r}'.format(r = resolution),\n",
    "        n_iterations = 5\n",
    "    )\n",
    "\n",
    "    print('UMAP', end = \"; \")\n",
    "    # Run UMAP\n",
    "    sc.tl.umap(adata, min_dist = 0.05)\n",
    "    \n",
    "    print('Renormalizing')\n",
    "    adata = adata.raw.to_adata()\n",
    "    adata.raw = adata\n",
    "\n",
    "    # Normalize and log transform\n",
    "    sc.pp.normalize_total(adata)\n",
    "    sc.pp.log1p(adata)\n",
    "    \n",
    "    return adata"
   ]
  },
  {
   "cell_type": "code",
   "execution_count": 16,
   "id": "d905d2b4-efc5-43c5-ac51-3df738e65aec",
   "metadata": {},
   "outputs": [],
   "source": [
    "def isg_hi_refinement(adata, clusters = 'leiden_2', refine_res = 2):\n",
    "    isg_hi_cl = select_clusters_above_gene_frac(\n",
    "        adata, 'IFI44L', 0.3, clusters = clusters\n",
    "    )\n",
    "    print(isg_hi_cl)\n",
    "    \n",
    "    isg_adata = adata[adata.obs[clusters].isin(isg_hi_cl)]\n",
    "    \n",
    "    isg_adata = process_adata(isg_adata, resolution = refine_res)\n",
    "    isg_adata = assign_most_frequent(\n",
    "        isg_adata, \n",
    "        'leiden_{r}'.format(r = refine_res), 'AIFI_L3',\n",
    "        keep_original = True,\n",
    "        original_prefix = 'predicted_'\n",
    "    )\n",
    "\n",
    "    isg_df = isg_adata.obs[['barcodes', 'AIFI_L3', 'predicted_AIFI_L3']]\n",
    "    return isg_df"
   ]
  },
  {
   "cell_type": "markdown",
   "id": "d178b680-9f7b-4738-996f-450da67596f8",
   "metadata": {},
   "source": [
    "## Cell Type Markers\n",
    "\n",
    "These are the set of marker genes that we'll use to review our cell type labels."
   ]
  },
  {
   "cell_type": "code",
   "execution_count": 17,
   "id": "9d3e3612-71ea-45b4-955f-dbf347d43e3e",
   "metadata": {},
   "outputs": [],
   "source": [
    "l2_markers = [\n",
    "    'CD3E', 'CD4', 'CD8A', 'TRAC', 'TRDC', \n",
    "    'LEF1', 'TCF7', 'CCR7', 'SELL', 'ITGB1', \n",
    "    'FAS', 'CD27', 'CD28', 'FOXP3', 'RTKN2', \n",
    "    'IKZF2', 'ZNF683', 'NKG7', 'KLRC2', 'KLRF1', \n",
    "    'KLRB1', 'KLRD1', 'GZMA', 'GZMK', 'GZMB', \n",
    "    'PRF1', 'GNLY', 'IFI44L', 'IRF7', 'MKI67', \n",
    "    'TRDV1', 'TRDV2', 'TRDV3', 'MME', 'SOX4'\n",
    "]\n",
    "\n",
    "l3_markers = [\n",
    "    'CD27', 'CD28', 'KLRF1', 'KLRB1', 'KLRD1', \n",
    "    'KLRC1', 'KLRC2', 'GZMA', 'GZMB', 'GZMK', \n",
    "    'GZMH', 'PRF1', 'CCL5', 'GNLY', 'GATA3', \n",
    "    'TBX21', 'EOMES', 'LEF1', 'TCF7', 'IKZF2',\n",
    "    'SOX4', 'IFI44L'\n",
    "]"
   ]
  },
  {
   "cell_type": "markdown",
   "id": "cf844cd4-1d87-4976-ab66-37bd0d6f3448",
   "metadata": {},
   "source": [
    "## Read cell type hierarchy from HISE\n",
    "\n",
    "As part of label refinement, we'll back-propagate our cell type labels from refined AIFI_L3 labels to their parent cell classes at AIFI_L2 and AIFI_L1. To do this, we need the hierarchical relationships between these levels, which have been generated for our cell type reference dataset."
   ]
  },
  {
   "cell_type": "code",
   "execution_count": 18,
   "id": "ae058202-fa22-498b-8a19-d1642a2a1927",
   "metadata": {},
   "outputs": [],
   "source": [
    "hierarchy_uuid = '1a44252c-8cab-4c8f-92c9-d8f3af633790'\n",
    "hierarchy_df = read_csv_uuid(hierarchy_uuid)"
   ]
  },
  {
   "cell_type": "markdown",
   "id": "c4358363-230f-4f9a-84ee-015f2afde17c",
   "metadata": {},
   "source": [
    "## Read sample metadata from HISE\n",
    "\n",
    "We previously assembled sample metadata and CMV status for each subject. We'll retrieve and combine these to utilize for selecting subsets of samples."
   ]
  },
  {
   "cell_type": "code",
   "execution_count": 19,
   "id": "6043927e-9f27-4f1d-977d-cfe1217f04f1",
   "metadata": {},
   "outputs": [],
   "source": [
    "sample_meta_uuid = 'd82c5c42-ae5f-4e67-956e-cd3b7bf88105'\n",
    "sample_meta = read_csv_uuid(sample_meta_uuid)"
   ]
  },
  {
   "cell_type": "code",
   "execution_count": 20,
   "id": "ea5c41ae-ef7f-406f-81e4-42bad6f4b4fb",
   "metadata": {},
   "outputs": [
    {
     "data": {
      "text/plain": [
       "(868, 32)"
      ]
     },
     "execution_count": 20,
     "metadata": {},
     "output_type": "execute_result"
    }
   ],
   "source": [
    "sample_meta.shape"
   ]
  },
  {
   "cell_type": "code",
   "execution_count": 21,
   "id": "86b89877-28db-4868-a829-54bf4cd15ec8",
   "metadata": {},
   "outputs": [],
   "source": [
    "cmv_meta_uuid = '9469f67c-b09a-454d-9fb9-f50ff3494d69'\n",
    "cmv_path = cache_uuid_path(cmv_meta_uuid)\n",
    "cmv_meta = pd.read_csv(cmv_path, index_col = 0)\n",
    "cmv_meta = cmv_meta.drop_duplicates()"
   ]
  },
  {
   "cell_type": "code",
   "execution_count": 22,
   "id": "2d6bf25d-0ef5-41cc-8fec-52c6d6d48cc5",
   "metadata": {},
   "outputs": [
    {
     "data": {
      "text/plain": [
       "(96, 4)"
      ]
     },
     "execution_count": 22,
     "metadata": {},
     "output_type": "execute_result"
    }
   ],
   "source": [
    "cmv_meta.shape"
   ]
  },
  {
   "cell_type": "code",
   "execution_count": 23,
   "id": "a933a862-65de-4f6c-9b3f-153212a58fdc",
   "metadata": {},
   "outputs": [],
   "source": [
    "sample_meta = sample_meta.merge(cmv_meta, on = 'subject.subjectGuid', how = 'left')"
   ]
  },
  {
   "cell_type": "code",
   "execution_count": 24,
   "id": "9b5ac3c1-c809-4cf1-a494-df997d72e2f4",
   "metadata": {},
   "outputs": [
    {
     "data": {
      "text/plain": [
       "(868, 35)"
      ]
     },
     "execution_count": 24,
     "metadata": {},
     "output_type": "execute_result"
    }
   ],
   "source": [
    "sample_meta.shape"
   ]
  },
  {
   "cell_type": "markdown",
   "id": "8f7e9e8d-5c24-40ae-b08e-7ad57ac3b68c",
   "metadata": {},
   "source": [
    "## Assign sample groups\n",
    "\n",
    "To subdivide the full set of cells, we'll use groups that include cohort, sex, CMV status, and a subset of visits. To group our visit data, we'll define 3 visit groups, and use those together with the other metadata to group samples."
   ]
  },
  {
   "cell_type": "code",
   "execution_count": 25,
   "id": "2a999d15-ee74-4210-a423-6b3e24cbfff1",
   "metadata": {},
   "outputs": [],
   "source": [
    "visit_group_dict = {\n",
    "    'Flu Year 1 Day 0': 'Year 1',\n",
    "    'Flu Year 1 Day 7': 'Year 1',\n",
    "    'Flu Year 1 Day 90': 'Year 1',\n",
    "    'Flu Year 1 Stand-Alone': 'Year 1',\n",
    "    'Flu Year 2 Day 0': 'Year 2',\n",
    "    'Flu Year 2 Day 7': 'Year 2',\n",
    "    'Flu Year 2 Day 90': 'Year 2',\n",
    "    'Flu Year 2 Stand-Alone': 'Year 2',\n",
    "    'Immune Variation Day 0': 'Immune Variation',\n",
    "    'Immune Variation Day 7': 'Immune Variation',\n",
    "    'Immune Variation Day 90': 'Immune Variation',\n",
    "    'Flu Year 3 Stand-Alone': 'Immune Variation',\n",
    "}"
   ]
  },
  {
   "cell_type": "code",
   "execution_count": 26,
   "id": "32240ce2-57ea-4df5-b7c2-26866304373d",
   "metadata": {},
   "outputs": [],
   "source": [
    "visit_groups = list(set(visit_group_dict.values()))"
   ]
  },
  {
   "cell_type": "code",
   "execution_count": 27,
   "id": "6e77b304-d4fc-40cd-aa01-9bc9e8f89d62",
   "metadata": {},
   "outputs": [],
   "source": [
    "sample_meta['sample.visitGroup'] = [visit_group_dict[v] for v in sample_meta['sample.visitName']]"
   ]
  },
  {
   "cell_type": "code",
   "execution_count": 28,
   "id": "35d82a91-c88b-44fc-93a2-205a2c4bff77",
   "metadata": {},
   "outputs": [],
   "source": [
    "group_samples_by = ['cohort.cohortGuid', 'subject.biologicalSex']"
   ]
  },
  {
   "cell_type": "code",
   "execution_count": 29,
   "id": "e0fd1ac6-de8b-4558-9be5-9e31f6dca088",
   "metadata": {},
   "outputs": [],
   "source": [
    "grouped_meta = sample_meta.groupby(group_samples_by)"
   ]
  },
  {
   "cell_type": "code",
   "execution_count": 30,
   "id": "d3588ade-f2c8-4396-a68c-0eb307fdd247",
   "metadata": {},
   "outputs": [],
   "source": [
    "split_meta = {}\n",
    "for group_tuple, meta in grouped_meta:\n",
    "    split_name = '_'.join(group_tuple)\n",
    "    split_meta[split_name] = meta"
   ]
  },
  {
   "cell_type": "markdown",
   "id": "2ea87d60-a7e5-4c93-b393-d00a14ca09a2",
   "metadata": {},
   "source": [
    "## Identify files in HISE\n",
    "\n",
    "For this analysis, we'll read in these files from HISE storage from previous steps. We'll group these into \"large\" files, which are from the set of 5 very large cell type assignments, and \"small\" files, which are from other cell types."
   ]
  },
  {
   "cell_type": "code",
   "execution_count": 31,
   "id": "cc9e6bd0-d52f-4ad2-8aba-cc80a0516a94",
   "metadata": {},
   "outputs": [],
   "source": [
    "large_uuids = {\n",
    "    'BR1_Female': {\n",
    "        'BR1_Female_Negative_Memory-CD8-T-cell': 'de83b600-3cc6-40ba-acb6-613c12e178ac',\n",
    "        'BR1_Female_Positive_Memory-CD8-T-cell': 'aa8b8b0f-164f-4fba-8af9-8397d9e67cd7',\n",
    "    },\n",
    "    'BR1_Male': {\n",
    "        'BR1_Male_Negative_Memory-CD8-T-cell': '8cc6a9b1-0ec7-445e-8299-556a4f95cb66',\n",
    "        'BR1_Male_Positive_Memory-CD8-T-cell': 'df7c9a0a-3b5e-48d9-91de-2bd424daa44a',\n",
    "    },\n",
    "    'BR2_Female': {\n",
    "        'BR2_Female_Negative_Memory-CD8-T-cell': 'b8550f9d-b4aa-4ba7-955b-cf556fabb21d',\n",
    "        'BR2_Female_Positive_Memory-CD8-T-cell': 'd76d8ee6-6b85-42e4-9974-36c6ef4b0538',\n",
    "    },\n",
    "    'BR2_Male': {\n",
    "        'BR2_Male_Negative_Memory-CD8-T-cell': '10d6ff38-dabd-4439-90e4-28d2c932d81f',\n",
    "        'BR2_Male_Positive_Memory-CD8-T-cell': '37d23649-4670-4ac2-9dd0-e0de0fce573d',\n",
    "    }\n",
    "}"
   ]
  },
  {
   "cell_type": "markdown",
   "id": "f07f702f-1c4c-43dc-bc7e-e80091e33296",
   "metadata": {},
   "source": [
    "## Read and process data per group\n",
    "\n",
    "Here, we'll step through each group based on cohort, sex, and CMV, assemble all related data across our selected files for this cell type, then split the results back out to multiple files based on the Visit Groups defined above.\n",
    "\n",
    "This way, we can combine across L2 cell classes without generating enormous datasets (almost 6M cells for CD4 T cells alone, for example).\n",
    "\n",
    "Once split up, we'll reprocess each subset of data to generate nice clusters and UMAP projections, then refine L3 cell type labels by taking the most frequent label within each cluster. After refining labels, we'll propagate labels back to L2 and L1 so they're consistent.\n",
    "\n",
    "Finally, we'll output these refined results per group, as well as a .csv file with updated labels to enable review of our analysis."
   ]
  },
  {
   "cell_type": "code",
   "execution_count": 32,
   "id": "f41950a6-a302-430e-98e8-0eabe91ec7ef",
   "metadata": {},
   "outputs": [
    {
     "name": "stdout",
     "output_type": "stream",
     "text": [
      "BR1_Female\n",
      "BR1_Female Previously processed. Skipping.\n",
      "BR1_Male\n",
      "BR1_Male_Negative_Memory-CD8-T-cell: 132362 cells\n",
      "BR1_Male_Positive_Memory-CD8-T-cell: 189102 cells\n",
      "Total: 321464 cells\n",
      "Normalizing; Finding HVGs; Scaling; PCA; Harmony; "
     ]
    },
    {
     "name": "stderr",
     "output_type": "stream",
     "text": [
      "2024-03-25 03:53:33,007 - harmonypy - INFO - Computing initial centroids with sklearn.KMeans...\n",
      "2024-03-25 03:56:01,838 - harmonypy - INFO - sklearn.KMeans initialization complete.\n"
     ]
    },
    {
     "name": "stdout",
     "output_type": "stream",
     "text": [
      "Neighbors; Leiden; UMAP; Renormalizing\n",
      "WARNING: adata.X seems to be already log-transformed.\n",
      "['14']\n",
      "Normalizing; WARNING: adata.X seems to be already log-transformed.\n",
      "Finding HVGs; Scaling; PCA; "
     ]
    },
    {
     "name": "stderr",
     "output_type": "stream",
     "text": [
      "2024-03-25 04:20:45,384 - harmonypy - INFO - Computing initial centroids with sklearn.KMeans...\n"
     ]
    },
    {
     "name": "stdout",
     "output_type": "stream",
     "text": [
      "Harmony; "
     ]
    },
    {
     "name": "stderr",
     "output_type": "stream",
     "text": [
      "2024-03-25 04:20:49,361 - harmonypy - INFO - sklearn.KMeans initialization complete.\n"
     ]
    },
    {
     "name": "stdout",
     "output_type": "stream",
     "text": [
      "Neighbors; Leiden; UMAP; Renormalizing\n",
      "WARNING: adata.X seems to be already log-transformed.\n"
     ]
    },
    {
     "name": "stderr",
     "output_type": "stream",
     "text": [
      "/opt/conda/lib/python3.10/site-packages/anndata/_core/anndata.py:183: ImplicitModificationWarning: Transforming to str index.\n",
      "  warnings.warn(\"Transforming to str index.\", ImplicitModificationWarning)\n",
      "/opt/conda/lib/python3.10/site-packages/anndata/_core/anndata.py:183: ImplicitModificationWarning: Transforming to str index.\n",
      "  warnings.warn(\"Transforming to str index.\", ImplicitModificationWarning)\n",
      "/opt/conda/lib/python3.10/site-packages/anndata/_core/anndata.py:183: ImplicitModificationWarning: Transforming to str index.\n",
      "  warnings.warn(\"Transforming to str index.\", ImplicitModificationWarning)\n"
     ]
    },
    {
     "name": "stdout",
     "output_type": "stream",
     "text": [
      "BR2_Female\n",
      "BR2_Female_Negative_Memory-CD8-T-cell: 78384 cells\n",
      "BR2_Female_Positive_Memory-CD8-T-cell: 399129 cells\n",
      "Total: 477513 cells\n",
      "Normalizing; Finding HVGs; Scaling; PCA; Harmony; "
     ]
    },
    {
     "name": "stderr",
     "output_type": "stream",
     "text": [
      "2024-03-25 04:26:23,243 - harmonypy - INFO - Computing initial centroids with sklearn.KMeans...\n",
      "2024-03-25 04:30:11,931 - harmonypy - INFO - sklearn.KMeans initialization complete.\n"
     ]
    },
    {
     "name": "stdout",
     "output_type": "stream",
     "text": [
      "Neighbors; Leiden; UMAP; "
     ]
    },
    {
     "name": "stderr",
     "output_type": "stream",
     "text": [
      "IOStream.flush timed out\n"
     ]
    },
    {
     "name": "stdout",
     "output_type": "stream",
     "text": [
      "Renormalizing\n",
      "WARNING: adata.X seems to be already log-transformed.\n",
      "['11']\n",
      "Normalizing; WARNING: adata.X seems to be already log-transformed.\n",
      "Finding HVGs; Scaling; PCA; "
     ]
    },
    {
     "name": "stderr",
     "output_type": "stream",
     "text": [
      "2024-03-25 05:07:04,409 - harmonypy - INFO - Computing initial centroids with sklearn.KMeans...\n"
     ]
    },
    {
     "name": "stdout",
     "output_type": "stream",
     "text": [
      "Harmony; "
     ]
    },
    {
     "name": "stderr",
     "output_type": "stream",
     "text": [
      "2024-03-25 05:07:09,099 - harmonypy - INFO - sklearn.KMeans initialization complete.\n"
     ]
    },
    {
     "name": "stdout",
     "output_type": "stream",
     "text": [
      "Neighbors; Leiden; UMAP; Renormalizing\n",
      "WARNING: adata.X seems to be already log-transformed.\n"
     ]
    },
    {
     "name": "stderr",
     "output_type": "stream",
     "text": [
      "/opt/conda/lib/python3.10/site-packages/anndata/_core/anndata.py:183: ImplicitModificationWarning: Transforming to str index.\n",
      "  warnings.warn(\"Transforming to str index.\", ImplicitModificationWarning)\n",
      "/opt/conda/lib/python3.10/site-packages/anndata/_core/anndata.py:183: ImplicitModificationWarning: Transforming to str index.\n",
      "  warnings.warn(\"Transforming to str index.\", ImplicitModificationWarning)\n",
      "/opt/conda/lib/python3.10/site-packages/anndata/_core/anndata.py:183: ImplicitModificationWarning: Transforming to str index.\n",
      "  warnings.warn(\"Transforming to str index.\", ImplicitModificationWarning)\n"
     ]
    },
    {
     "name": "stdout",
     "output_type": "stream",
     "text": [
      "BR2_Male\n",
      "BR2_Male_Negative_Memory-CD8-T-cell: 173486 cells\n",
      "BR2_Male_Positive_Memory-CD8-T-cell: 195401 cells\n",
      "Total: 368887 cells\n",
      "Normalizing; Finding HVGs; Scaling; PCA; Harmony; "
     ]
    },
    {
     "name": "stderr",
     "output_type": "stream",
     "text": [
      "2024-03-25 05:12:46,093 - harmonypy - INFO - Computing initial centroids with sklearn.KMeans...\n",
      "2024-03-25 05:15:44,880 - harmonypy - INFO - sklearn.KMeans initialization complete.\n"
     ]
    },
    {
     "name": "stdout",
     "output_type": "stream",
     "text": [
      "Neighbors; Leiden; UMAP; Renormalizing\n",
      "WARNING: adata.X seems to be already log-transformed.\n",
      "['13']\n",
      "Normalizing; WARNING: adata.X seems to be already log-transformed.\n",
      "Finding HVGs; Scaling; PCA; "
     ]
    },
    {
     "name": "stderr",
     "output_type": "stream",
     "text": [
      "2024-03-25 05:42:30,742 - harmonypy - INFO - Computing initial centroids with sklearn.KMeans...\n"
     ]
    },
    {
     "name": "stdout",
     "output_type": "stream",
     "text": [
      "Harmony; "
     ]
    },
    {
     "name": "stderr",
     "output_type": "stream",
     "text": [
      "2024-03-25 05:42:35,051 - harmonypy - INFO - sklearn.KMeans initialization complete.\n"
     ]
    },
    {
     "name": "stdout",
     "output_type": "stream",
     "text": [
      "Neighbors; Leiden; UMAP; Renormalizing\n",
      "WARNING: adata.X seems to be already log-transformed.\n"
     ]
    },
    {
     "name": "stderr",
     "output_type": "stream",
     "text": [
      "/opt/conda/lib/python3.10/site-packages/anndata/_core/anndata.py:183: ImplicitModificationWarning: Transforming to str index.\n",
      "  warnings.warn(\"Transforming to str index.\", ImplicitModificationWarning)\n",
      "/opt/conda/lib/python3.10/site-packages/anndata/_core/anndata.py:183: ImplicitModificationWarning: Transforming to str index.\n",
      "  warnings.warn(\"Transforming to str index.\", ImplicitModificationWarning)\n",
      "/opt/conda/lib/python3.10/site-packages/anndata/_core/anndata.py:183: ImplicitModificationWarning: Transforming to str index.\n",
      "  warnings.warn(\"Transforming to str index.\", ImplicitModificationWarning)\n"
     ]
    }
   ],
   "source": [
    "for grouping, meta in split_meta.items():\n",
    "    print(grouping)\n",
    "\n",
    "    # Check if output files have been generated previously\n",
    "    out_files = {}\n",
    "    out_file = 'output/diha_{c}_{g}_AIFI_L3_review_{d}.h5ad'.format(\n",
    "        c = class_name,\n",
    "        g = grouping,\n",
    "        d = date.today()\n",
    "    )\n",
    "    out_files[grouping] = [out_file]\n",
    "    \n",
    "    if os.path.isfile(out_file):\n",
    "        print('{g} Previously processed. Skipping.'.format(g = grouping))\n",
    "    else:\n",
    "        \n",
    "        # Read Large Files\n",
    "        large_group_uuids = large_uuids[grouping]\n",
    "        for group_name, uuid in large_group_uuids.items():\n",
    "            group_adata = read_adata_uuid(uuid)\n",
    "            print('{g}: {n} cells'.format(g = group_name, n = group_adata.shape[0]))\n",
    "            if not \"all_adata\" in globals():\n",
    "                all_adata = group_adata\n",
    "            else:\n",
    "                all_adata = sc.concat([all_adata, group_adata])\n",
    "            del group_adata\n",
    "        print('Total: {n} cells'.format(n = all_adata.shape[0]))\n",
    "        \n",
    "        out_file = out_files[grouping][0]\n",
    "        \n",
    "        all_adata = process_adata(all_adata)\n",
    "        \n",
    "        # Refine labels based on in-group clustering\n",
    "        isg_hi_labels = isg_hi_refinement(all_adata, refine_res = 3)\n",
    "        \n",
    "        visit_group_adata = assign_most_frequent(\n",
    "            all_adata, \n",
    "            'leiden_2', 'AIFI_L3', \n",
    "            keep_original = True, \n",
    "            original_prefix = 'predicted_'\n",
    "        )\n",
    "\n",
    "        # Correct ISG-high labels\n",
    "        isg_idx = all_adata.obs['barcodes'].isin(isg_hi_labels['barcodes'])\n",
    "        isg_adata = all_adata[isg_idx]\n",
    "        all_adata = all_adata[[not x for x in isg_idx]]\n",
    "        isg_obs = isg_adata.obs.drop(['AIFI_L3', 'predicted_AIFI_L3'], axis = 1)\n",
    "        isg_obs = isg_obs.reset_index(drop = True)\n",
    "        isg_obs = isg_obs.merge(isg_hi_labels, on = 'barcodes', how = 'left')\n",
    "        isg_obs = isg_obs.set_index('barcodes', drop = False)\n",
    "        isg_adata.obs = isg_obs\n",
    "        \n",
    "        all_adata = sc.concat([all_adata, isg_adata])\n",
    "        \n",
    "        all_adata = propagate_hierarchy(\n",
    "            all_adata,\n",
    "            hierarchy_df,\n",
    "            from_level = 'AIFI_L3',\n",
    "            to_levels = ['AIFI_L2', 'AIFI_L1'],\n",
    "            keep_original = True,\n",
    "            original_prefix = 'predicted_'\n",
    "        )\n",
    "        \n",
    "        # Save results for this visit group\n",
    "        all_adata.write_h5ad(out_file)\n",
    "\n",
    "        # Save metadata and UMAP\n",
    "        meta_csv = 'output/review/diha_{c}_{g}_AIFI_L3_review_meta_{d}.csv'.format(\n",
    "            c = class_name,\n",
    "            g = grouping,\n",
    "            d = date.today()\n",
    "        )\n",
    "        group_obs = obs_with_umap(all_adata)\n",
    "        group_obs.to_csv(meta_csv)\n",
    "        out_files[grouping].append(meta_csv)\n",
    "\n",
    "        # Save marker expression summaries\n",
    "        out_l2_markers = 'output/review/diha_{c}_{g}_AIFI_L2_review_markers_{d}.csv'.format(\n",
    "            c = class_name,\n",
    "            g = grouping,\n",
    "            d = date.today()\n",
    "        )\n",
    "        l2_marker_df = tidy_marker_df(\n",
    "            all_adata,\n",
    "            l2_markers,\n",
    "            'AIFI_L2'\n",
    "        )\n",
    "        l2_marker_df.to_csv(out_l2_markers)\n",
    "        out_files[grouping].append(out_l2_markers)\n",
    "\n",
    "        out_l3_markers = 'output/review/diha_{c}_{g}_AIFI_L3_review_markers_{d}.csv'.format(\n",
    "            c = class_name,\n",
    "            g = grouping,\n",
    "            d = date.today()\n",
    "        )\n",
    "        l3_marker_df = tidy_marker_df(\n",
    "            all_adata,\n",
    "            l3_markers,\n",
    "            'AIFI_L3'\n",
    "        )\n",
    "        l3_marker_df.to_csv(out_l3_markers)\n",
    "        out_files[grouping].append(out_l3_markers)\n",
    "\n",
    "        del all_adata"
   ]
  },
  {
   "cell_type": "markdown",
   "id": "7bd86920-5093-4a40-84ad-c6f689cb8f6e",
   "metadata": {},
   "source": [
    "## Assemble output files for upload"
   ]
  },
  {
   "cell_type": "markdown",
   "id": "3f77ae13-0dc3-44de-a01f-f4f9ed36b5b1",
   "metadata": {},
   "source": [
    "### h5ad files"
   ]
  },
  {
   "cell_type": "code",
   "execution_count": 33,
   "id": "f1171fc2-3de5-49a7-9c52-00b5b7213336",
   "metadata": {},
   "outputs": [],
   "source": [
    "output_files = os.listdir('output')\n",
    "h5ad_files = []\n",
    "for output_file in output_files:\n",
    "    if class_name in output_file:\n",
    "        h5ad_files.append('{d}/{f}'.format(d = 'output', f = output_file))"
   ]
  },
  {
   "cell_type": "markdown",
   "id": "12a7cc2f-1856-4c7d-aad1-41f1e7e2fda7",
   "metadata": {},
   "source": [
    "### Review files"
   ]
  },
  {
   "cell_type": "code",
   "execution_count": 34,
   "id": "6c221e53-e5aa-464a-85d0-96c4d3aaf929",
   "metadata": {},
   "outputs": [],
   "source": [
    "rev_files = os.listdir('output/review')\n",
    "review_files = []\n",
    "for rev_file in rev_files:\n",
    "    if class_name in rev_file:\n",
    "        review_files.append('{d}/{f}'.format(d = 'output/review', f = rev_file))"
   ]
  },
  {
   "cell_type": "markdown",
   "id": "ce784685-bb6d-40e3-b541-2f114fa00a40",
   "metadata": {},
   "source": [
    "### Combine metadata files to assemble a full set"
   ]
  },
  {
   "cell_type": "code",
   "execution_count": 35,
   "id": "cc72852d-8fc9-4519-af51-4446ac6003e4",
   "metadata": {},
   "outputs": [],
   "source": [
    "meta_files = []\n",
    "for review_file in review_files:\n",
    "    if 'meta' in review_file:\n",
    "        meta_files.append(review_file)\n",
    "\n",
    "meta_list = []\n",
    "for meta_file in meta_files:\n",
    "    meta_list.append(pd.read_csv(meta_file, index_col = 0))\n",
    "all_meta = pd.concat(meta_list)"
   ]
  },
  {
   "cell_type": "code",
   "execution_count": 36,
   "id": "d4270726-5bbc-4e7c-93ed-0caea8f7aa67",
   "metadata": {},
   "outputs": [],
   "source": [
    "meta_csv = 'output/diha_{c}_AIFI_L3_refinement_meta_{d}.csv'.format(c = class_name, d = date.today())\n",
    "all_meta.to_csv(meta_csv)\n",
    "meta_parquet = 'output/diha_{c}_AIFI_L3_refinement_meta_{d}.parquet'.format(c = class_name, d = date.today())\n",
    "all_meta.to_parquet(meta_parquet)"
   ]
  },
  {
   "cell_type": "markdown",
   "id": "23ee1e8c-f226-461b-8d71-98efa42eda3c",
   "metadata": {},
   "source": [
    "### Bundle review files into a .tar for later use"
   ]
  },
  {
   "cell_type": "code",
   "execution_count": 37,
   "id": "382f6356-450f-4324-bb0d-1260795bb969",
   "metadata": {},
   "outputs": [],
   "source": [
    "review_tar = 'output/diha_{c}_AIFI_L3_refinement_review_{d}.tar.gz'.format(c = class_name, d = date.today())\n",
    "tar = tarfile.open(review_tar, 'w:gz')\n",
    "for review_file in review_files:\n",
    "    tar.add(review_file)\n",
    "tar.close()"
   ]
  },
  {
   "cell_type": "markdown",
   "id": "bf81020a-ff1b-48ea-b7b6-8c2c459d3164",
   "metadata": {},
   "source": [
    "## Upload assembled results to HISE"
   ]
  },
  {
   "cell_type": "code",
   "execution_count": 38,
   "id": "cdbc7248-313c-491a-8490-41511f750cfa",
   "metadata": {},
   "outputs": [],
   "source": [
    "study_space_uuid = 'de025812-5e73-4b3c-9c3b-6d0eac412f2a'\n",
    "title = 'DIHA Memory CD8 AIFI_L3 Refinement {d}'.format(d = date.today())"
   ]
  },
  {
   "cell_type": "code",
   "execution_count": 39,
   "id": "2b6343f2-fc8f-4090-8453-a8796345aa06",
   "metadata": {},
   "outputs": [
    {
     "data": {
      "text/plain": [
       "['de83b600-3cc6-40ba-acb6-613c12e178ac',\n",
       " 'aa8b8b0f-164f-4fba-8af9-8397d9e67cd7',\n",
       " '8cc6a9b1-0ec7-445e-8299-556a4f95cb66',\n",
       " 'df7c9a0a-3b5e-48d9-91de-2bd424daa44a',\n",
       " 'b8550f9d-b4aa-4ba7-955b-cf556fabb21d',\n",
       " 'd76d8ee6-6b85-42e4-9974-36c6ef4b0538',\n",
       " '10d6ff38-dabd-4439-90e4-28d2c932d81f',\n",
       " '37d23649-4670-4ac2-9dd0-e0de0fce573d']"
      ]
     },
     "execution_count": 39,
     "metadata": {},
     "output_type": "execute_result"
    }
   ],
   "source": [
    "in_files = []\n",
    "for group_name, file_dict in large_uuids.items():\n",
    "    for type_group, uuid in file_dict.items():\n",
    "        in_files.append(uuid)\n",
    "in_files"
   ]
  },
  {
   "cell_type": "code",
   "execution_count": 40,
   "id": "f71f9b23-0b44-4402-9f3c-c5f4fd09b236",
   "metadata": {},
   "outputs": [],
   "source": [
    "out_files = h5ad_files + [meta_csv, meta_parquet, review_tar]"
   ]
  },
  {
   "cell_type": "code",
   "execution_count": 41,
   "id": "5c83f1dd-7bbc-49ac-8f1f-22091ba666ad",
   "metadata": {},
   "outputs": [
    {
     "data": {
      "text/plain": [
       "['output/diha_memory_cd8_t_cell_BR2_Female_AIFI_L3_review_2024-03-25.h5ad',\n",
       " 'output/diha_memory_cd8_t_cell_BR2_Male_AIFI_L3_review_2024-03-25.h5ad',\n",
       " 'output/diha_memory_cd8_t_cell_BR1_Male_AIFI_L3_review_2024-03-25.h5ad',\n",
       " 'output/diha_memory_cd8_t_cell_BR1_Female_AIFI_L3_review_2024-03-25.h5ad',\n",
       " 'output/diha_memory_cd8_t_cell_AIFI_L3_refinement_meta_2024-03-25.csv',\n",
       " 'output/diha_memory_cd8_t_cell_AIFI_L3_refinement_meta_2024-03-25.parquet',\n",
       " 'output/diha_memory_cd8_t_cell_AIFI_L3_refinement_review_2024-03-25.tar.gz']"
      ]
     },
     "execution_count": 41,
     "metadata": {},
     "output_type": "execute_result"
    }
   ],
   "source": [
    "out_files"
   ]
  },
  {
   "cell_type": "code",
   "execution_count": 42,
   "id": "2f3b7df7-9ff2-4115-ac1a-9355253c58a8",
   "metadata": {},
   "outputs": [
    {
     "name": "stdout",
     "output_type": "stream",
     "text": [
      "output/diha_memory_cd8_t_cell_BR2_Female_AIFI_L3_review_2024-03-25.h5ad\n",
      "output/diha_memory_cd8_t_cell_BR2_Male_AIFI_L3_review_2024-03-25.h5ad\n",
      "output/diha_memory_cd8_t_cell_BR1_Male_AIFI_L3_review_2024-03-25.h5ad\n",
      "output/diha_memory_cd8_t_cell_BR1_Female_AIFI_L3_review_2024-03-25.h5ad\n",
      "output/diha_memory_cd8_t_cell_AIFI_L3_refinement_meta_2024-03-25.csv\n",
      "output/diha_memory_cd8_t_cell_AIFI_L3_refinement_meta_2024-03-25.parquet\n",
      "output/diha_memory_cd8_t_cell_AIFI_L3_refinement_review_2024-03-25.tar.gz\n",
      "you are trying to upload file_ids... ['output/diha_memory_cd8_t_cell_BR2_Female_AIFI_L3_review_2024-03-25.h5ad', 'output/diha_memory_cd8_t_cell_BR2_Male_AIFI_L3_review_2024-03-25.h5ad', 'output/diha_memory_cd8_t_cell_BR1_Male_AIFI_L3_review_2024-03-25.h5ad', 'output/diha_memory_cd8_t_cell_BR1_Female_AIFI_L3_review_2024-03-25.h5ad', 'output/diha_memory_cd8_t_cell_AIFI_L3_refinement_meta_2024-03-25.csv', 'output/diha_memory_cd8_t_cell_AIFI_L3_refinement_meta_2024-03-25.parquet', 'output/diha_memory_cd8_t_cell_AIFI_L3_refinement_review_2024-03-25.tar.gz']. Do you truly want to proceed?\n"
     ]
    },
    {
     "name": "stdin",
     "output_type": "stream",
     "text": [
      "(y/n) y\n"
     ]
    },
    {
     "data": {
      "text/plain": [
       "{'trace_id': '087fa01e-2458-420f-a999-645b10a239bb',\n",
       " 'files': ['output/diha_memory_cd8_t_cell_BR2_Female_AIFI_L3_review_2024-03-25.h5ad',\n",
       "  'output/diha_memory_cd8_t_cell_BR2_Male_AIFI_L3_review_2024-03-25.h5ad',\n",
       "  'output/diha_memory_cd8_t_cell_BR1_Male_AIFI_L3_review_2024-03-25.h5ad',\n",
       "  'output/diha_memory_cd8_t_cell_BR1_Female_AIFI_L3_review_2024-03-25.h5ad',\n",
       "  'output/diha_memory_cd8_t_cell_AIFI_L3_refinement_meta_2024-03-25.csv',\n",
       "  'output/diha_memory_cd8_t_cell_AIFI_L3_refinement_meta_2024-03-25.parquet',\n",
       "  'output/diha_memory_cd8_t_cell_AIFI_L3_refinement_review_2024-03-25.tar.gz']}"
      ]
     },
     "execution_count": 42,
     "metadata": {},
     "output_type": "execute_result"
    }
   ],
   "source": [
    "hisepy.upload.upload_files(\n",
    "    files = out_files,\n",
    "    study_space_id = study_space_uuid,\n",
    "    title = title,\n",
    "    input_file_ids = in_files\n",
    ")"
   ]
  },
  {
   "cell_type": "code",
   "execution_count": 43,
   "id": "2290fbcd-90b7-44bf-93a7-35691c60f2bc",
   "metadata": {},
   "outputs": [
    {
     "data": {
      "text/html": [
       "<details>\n",
       "<summary>Click to view session information</summary>\n",
       "<pre>\n",
       "-----\n",
       "anndata             0.10.3\n",
       "hisepy              0.3.0\n",
       "pandas              2.1.4\n",
       "scanpy              1.9.6\n",
       "session_info        1.0.0\n",
       "-----\n",
       "</pre>\n",
       "<details>\n",
       "<summary>Click to view modules imported as dependencies</summary>\n",
       "<pre>\n",
       "PIL                         10.0.1\n",
       "anyio                       NA\n",
       "arrow                       1.3.0\n",
       "asttokens                   NA\n",
       "attr                        23.2.0\n",
       "attrs                       23.2.0\n",
       "babel                       2.14.0\n",
       "beatrix_jupyterlab          NA\n",
       "brotli                      NA\n",
       "cachetools                  5.3.1\n",
       "certifi                     2024.02.02\n",
       "cffi                        1.16.0\n",
       "charset_normalizer          3.3.2\n",
       "cloudpickle                 2.2.1\n",
       "colorama                    0.4.6\n",
       "comm                        0.1.4\n",
       "cryptography                41.0.7\n",
       "cycler                      0.10.0\n",
       "cython_runtime              NA\n",
       "dateutil                    2.8.2\n",
       "db_dtypes                   1.1.1\n",
       "debugpy                     1.8.0\n",
       "decorator                   5.1.1\n",
       "defusedxml                  0.7.1\n",
       "deprecated                  1.2.14\n",
       "exceptiongroup              1.2.0\n",
       "executing                   2.0.1\n",
       "fastjsonschema              NA\n",
       "fqdn                        NA\n",
       "google                      NA\n",
       "greenlet                    2.0.2\n",
       "grpc                        1.58.0\n",
       "grpc_status                 NA\n",
       "h5py                        3.10.0\n",
       "harmonypy                   NA\n",
       "idna                        3.6\n",
       "igraph                      0.10.8\n",
       "importlib_metadata          NA\n",
       "ipykernel                   6.28.0\n",
       "ipython_genutils            0.2.0\n",
       "ipywidgets                  8.1.1\n",
       "isoduration                 NA\n",
       "jedi                        0.19.1\n",
       "jinja2                      3.1.2\n",
       "joblib                      1.3.2\n",
       "json5                       NA\n",
       "jsonpointer                 2.4\n",
       "jsonschema                  4.20.0\n",
       "jsonschema_specifications   NA\n",
       "jupyter_events              0.9.0\n",
       "jupyter_server              2.12.1\n",
       "jupyterlab_server           2.25.2\n",
       "jwt                         2.8.0\n",
       "kiwisolver                  1.4.5\n",
       "leidenalg                   0.10.1\n",
       "llvmlite                    0.41.0\n",
       "lz4                         4.3.2\n",
       "markupsafe                  2.1.3\n",
       "matplotlib                  3.8.0\n",
       "matplotlib_inline           0.1.6\n",
       "mpl_toolkits                NA\n",
       "mpmath                      1.3.0\n",
       "natsort                     8.4.0\n",
       "nbformat                    5.9.2\n",
       "numba                       0.58.0\n",
       "numpy                       1.24.0\n",
       "opentelemetry               NA\n",
       "overrides                   NA\n",
       "packaging                   23.2\n",
       "parso                       0.8.3\n",
       "pexpect                     4.8.0\n",
       "pickleshare                 0.7.5\n",
       "pkg_resources               NA\n",
       "platformdirs                4.1.0\n",
       "plotly                      5.18.0\n",
       "prettytable                 3.9.0\n",
       "prometheus_client           NA\n",
       "prompt_toolkit              3.0.42\n",
       "proto                       NA\n",
       "psutil                      NA\n",
       "ptyprocess                  0.7.0\n",
       "pure_eval                   0.2.2\n",
       "pyarrow                     13.0.0\n",
       "pycparser                   2.21\n",
       "pydev_ipython               NA\n",
       "pydevconsole                NA\n",
       "pydevd                      2.9.5\n",
       "pydevd_file_utils           NA\n",
       "pydevd_plugins              NA\n",
       "pydevd_tracing              NA\n",
       "pygments                    2.17.2\n",
       "pynndescent                 0.5.11\n",
       "pynvml                      NA\n",
       "pyparsing                   3.1.1\n",
       "pyreadr                     0.5.0\n",
       "pythonjsonlogger            NA\n",
       "pytz                        2023.3.post1\n",
       "referencing                 NA\n",
       "requests                    2.31.0\n",
       "rfc3339_validator           0.1.4\n",
       "rfc3986_validator           0.1.1\n",
       "rpds                        NA\n",
       "scipy                       1.11.4\n",
       "send2trash                  NA\n",
       "shapely                     1.8.5.post1\n",
       "six                         1.16.0\n",
       "sklearn                     1.3.2\n",
       "sniffio                     1.3.0\n",
       "socks                       1.7.1\n",
       "sparse                      0.14.0\n",
       "sql                         NA\n",
       "sqlalchemy                  2.0.21\n",
       "sqlparse                    0.4.4\n",
       "stack_data                  0.6.2\n",
       "sympy                       1.12\n",
       "termcolor                   NA\n",
       "texttable                   1.7.0\n",
       "threadpoolctl               3.2.0\n",
       "torch                       2.1.2+cu121\n",
       "torchgen                    NA\n",
       "tornado                     6.3.3\n",
       "tqdm                        4.66.1\n",
       "traitlets                   5.9.0\n",
       "typing_extensions           NA\n",
       "umap                        0.5.5\n",
       "uri_template                NA\n",
       "urllib3                     1.26.18\n",
       "wcwidth                     0.2.12\n",
       "webcolors                   1.13\n",
       "websocket                   1.7.0\n",
       "wrapt                       1.15.0\n",
       "xarray                      2023.12.0\n",
       "yaml                        6.0.1\n",
       "zipp                        NA\n",
       "zmq                         25.1.2\n",
       "zoneinfo                    NA\n",
       "zstandard                   0.22.0\n",
       "</pre>\n",
       "</details> <!-- seems like this ends pre, so might as well be explicit -->\n",
       "<pre>\n",
       "-----\n",
       "IPython             8.19.0\n",
       "jupyter_client      8.6.0\n",
       "jupyter_core        5.6.1\n",
       "jupyterlab          4.1.2\n",
       "notebook            6.5.4\n",
       "-----\n",
       "Python 3.10.13 | packaged by conda-forge | (main, Dec 23 2023, 15:36:39) [GCC 12.3.0]\n",
       "Linux-5.15.0-1054-gcp-x86_64-with-glibc2.31\n",
       "-----\n",
       "Session information updated at 2024-03-25 15:04\n",
       "</pre>\n",
       "</details>"
      ],
      "text/plain": [
       "<IPython.core.display.HTML object>"
      ]
     },
     "execution_count": 43,
     "metadata": {},
     "output_type": "execute_result"
    }
   ],
   "source": [
    "import session_info\n",
    "session_info.show()"
   ]
  },
  {
   "cell_type": "code",
   "execution_count": null,
   "id": "0dfb0702-c2d1-4a97-b5fb-035b1ed5948e",
   "metadata": {},
   "outputs": [],
   "source": []
  }
 ],
 "metadata": {
  "kernelspec": {
   "display_name": "Python 3 (ipykernel)",
   "language": "python",
   "name": "python3"
  },
  "language_info": {
   "codemirror_mode": {
    "name": "ipython",
    "version": 3
   },
   "file_extension": ".py",
   "mimetype": "text/x-python",
   "name": "python",
   "nbconvert_exporter": "python",
   "pygments_lexer": "ipython3",
   "version": "3.10.13"
  }
 },
 "nbformat": 4,
 "nbformat_minor": 5
}
