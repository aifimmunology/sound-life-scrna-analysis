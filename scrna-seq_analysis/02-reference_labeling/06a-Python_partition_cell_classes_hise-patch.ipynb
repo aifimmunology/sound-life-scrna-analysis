{
 "cells": [
  {
   "cell_type": "markdown",
   "id": "644797f6-452f-4556-ae8c-9e4c9ef6148c",
   "metadata": {},
   "source": [
    "# Partition Cell Types for QC Review\n",
    "\n",
    "**Note:** This notebook serves as a patch for two files that have download problems in HISE. To enable downstream analyses, this notebook applies cell type partitioning for just these two subsets:  \n",
    "BR1_Female_Negative_Naive-CD4-T-cell  \n",
    "BR2_Male_Positive_CD56dim-NK-cell\n",
    "\n",
    "Changes specific to this patch notebook are indicated with **Patch Divergence** notes.\n",
    "\n",
    "To ensure that our cell type labels are as accurate as possible, we'll subset our dataset based on our `AIFI_L2` labels for review.\n",
    "\n",
    "Previously, we split our dataset up into 8 subsets based on cohort, biological sex, and CMV status. Here, we'll combine these per L2 cell type for less abundant cell types to simplify review. For very abundant cell types (i.e. Naive CD4 T cells), we'll keep them separated into the 8 groups and review each. \n",
    "\n",
    "This should reduce the burden of trying to cluster >2M cells (which can be very slow) without significantly reducing our power to identify doublets or mislabeled cells, as we'll still have >100k cells for these large classes.\n",
    "\n",
    "In a later step, we'll generate rules to filter these clustered subsets of cells to help us in identifying doublets, contaminated clusters (i.e. with erythrocyte content), and mislabeled cells."
   ]
  },
  {
   "cell_type": "markdown",
   "id": "e1780f10-911f-49ad-8616-ef4621569998",
   "metadata": {},
   "source": [
    "## Load libraries"
   ]
  },
  {
   "cell_type": "code",
   "execution_count": 1,
   "id": "14f6adf6-22dc-4b0a-be8b-3c32d6d67f2b",
   "metadata": {},
   "outputs": [],
   "source": [
    "import warnings\n",
    "warnings.simplefilter(action='ignore', category=FutureWarning)\n",
    "warnings.simplefilter(action='ignore', category=RuntimeWarning)\n",
    "\n",
    "import concurrent.futures\n",
    "from concurrent.futures import ThreadPoolExecutor\n",
    "from datetime import date\n",
    "import hisepy\n",
    "import os\n",
    "import pandas as pd\n",
    "import re\n",
    "import scanpy as sc\n",
    "import scanpy.external as sce"
   ]
  },
  {
   "cell_type": "code",
   "execution_count": 2,
   "id": "d0c4cf85-ebf5-4e82-aee1-4ec98f504388",
   "metadata": {
    "tags": []
   },
   "outputs": [],
   "source": [
    "out_dir = 'output'\n",
    "if not os.path.isdir(out_dir):\n",
    "    os.makedirs(out_dir)"
   ]
  },
  {
   "cell_type": "markdown",
   "id": "c9af4ca6-56b9-4f51-96ef-09a6a8662bf6",
   "metadata": {},
   "source": [
    "## Helper functions\n",
    "\n",
    "These make it a bit simpler to cache and read in files from HISE"
   ]
  },
  {
   "cell_type": "code",
   "execution_count": 3,
   "id": "3fb51b6d-675b-4d5d-98e7-068d6eef58f4",
   "metadata": {},
   "outputs": [],
   "source": [
    "def cache_uuid_path(uuid):\n",
    "    cache_path = '/home/jupyter/cache/{u}'.format(u = uuid)\n",
    "    if not os.path.isdir(cache_path):\n",
    "        hise_res = hisepy.reader.cache_files([uuid])\n",
    "    filename = os.listdir(cache_path)[0]\n",
    "    cache_file = '{p}/{f}'.format(p = cache_path, f = filename)\n",
    "    return cache_file"
   ]
  },
  {
   "cell_type": "code",
   "execution_count": 4,
   "id": "cb46e11a-1544-4c90-a65b-ec3146e6f95c",
   "metadata": {},
   "outputs": [],
   "source": [
    "def read_parquet_uuid(uuid):\n",
    "    cache_file = cache_uuid_path(uuid)\n",
    "    res = pd.read_parquet(cache_file)\n",
    "    return res"
   ]
  },
  {
   "cell_type": "code",
   "execution_count": 5,
   "id": "242645d6-a052-412a-95bb-0783b62cc051",
   "metadata": {},
   "outputs": [],
   "source": [
    "def sort_adata_uuid(uuid, sort_cols = ['AIFI_L2', 'sample.sampleKitGuid']):\n",
    "    cache_file = cache_uuid_path(uuid)\n",
    "    adata = sc.read_h5ad(cache_file)\n",
    "    obs = adata.obs\n",
    "    obs = obs.sort_values(sort_cols)\n",
    "    adata = adata[obs.index]\n",
    "    adata.write_h5ad(cache_file)"
   ]
  },
  {
   "cell_type": "markdown",
   "id": "b2688acd-a14d-443b-866b-34874b3916b2",
   "metadata": {},
   "source": [
    "This function will enable us to connect to our .h5ad files without loading the entire thing into memory. We'll then load only the cells that we want for each cell class to assemble them for writing. This should save us some overhead as we do our subsetting."
   ]
  },
  {
   "cell_type": "code",
   "execution_count": 6,
   "id": "984f5d47-6152-4ef9-b026-e4b3f73fd701",
   "metadata": {},
   "outputs": [],
   "source": [
    "def read_adata_backed_uuid(uuid):\n",
    "    cache_file = cache_uuid_path(uuid)\n",
    "    res = sc.read_h5ad(cache_file, backed = 'r')\n",
    "    return res"
   ]
  },
  {
   "cell_type": "markdown",
   "id": "1287a6fe-2704-412b-9c86-5f429718bb5d",
   "metadata": {},
   "source": [
    "This function will apply a standard normalization, nearest neighbors, clustering, and UMAP process to our cell subsets:"
   ]
  },
  {
   "cell_type": "code",
   "execution_count": 7,
   "id": "8af2374a-0881-41bc-b390-11dd943731d7",
   "metadata": {},
   "outputs": [],
   "source": [
    "def process_adata(adata):\n",
    "    # Keep a copy of the raw data\n",
    "    adata.raw = adata\n",
    "\n",
    "    print('Normalizing')\n",
    "    # Normalize and log transform\n",
    "    sc.pp.normalize_total(adata)\n",
    "    sc.pp.log1p(adata)\n",
    "\n",
    "    print('Finding HVGs')\n",
    "    # Restrict downstream steps to variable genes\n",
    "    sc.pp.highly_variable_genes(adata)\n",
    "    adata = adata[:, adata.var_names[adata.var['highly_variable']]].copy()\n",
    "    print(adata.shape)\n",
    "\n",
    "    print('Scaling')\n",
    "    # Scale variable genes\n",
    "    sc.pp.scale(adata)\n",
    "\n",
    "    print('PCA')\n",
    "    # Run PCA\n",
    "    sc.tl.pca(adata, svd_solver = 'arpack')\n",
    "\n",
    "    print('Neighbors')\n",
    "    # Find nearest neighbors\n",
    "    sc.pp.neighbors(\n",
    "        adata, \n",
    "        n_neighbors = 50,\n",
    "        n_pcs = 30\n",
    "    )\n",
    "\n",
    "    print('Louvain')\n",
    "    # Find clusters\n",
    "    sc.tl.louvain(\n",
    "        adata, \n",
    "        resolution = 2, \n",
    "        key_added = 'louvain_2'\n",
    "    )\n",
    "\n",
    "    print('UMAP')\n",
    "    # Run UMAP\n",
    "    sc.tl.umap(adata, min_dist = 0.05)\n",
    "\n",
    "    return adata"
   ]
  },
  {
   "cell_type": "markdown",
   "id": "3f1a6bb2-dafd-4e8f-a0e7-a8b5d583ddb2",
   "metadata": {},
   "source": [
    "## Read cell metadata to identify large subsets\n",
    "\n",
    "**Patch Divergence:** We'll skip this step used to identify large subsets and specify the two L2 types we need for our patch."
   ]
  },
  {
   "cell_type": "code",
   "execution_count": 8,
   "id": "2efb1146-f66f-42aa-8fda-07809714e715",
   "metadata": {},
   "outputs": [],
   "source": [
    "large_types = ['CD56dim NK cell', 'Naive CD4 T cell']"
   ]
  },
  {
   "cell_type": "raw",
   "id": "a9d0db90-4952-4b18-a088-a6f575faa0ce",
   "metadata": {},
   "source": [
    "pq_uuids = {\n",
    "    'BR1_Female_Negative': '2a639ff1-9544-4f55-a4be-f6589360dfb7',\n",
    "    'BR1_Female_Positive': 'e637c51d-7e7f-4594-9249-dc768bcd3762',\n",
    "    'BR1_Male_Negative':   '7c04ef25-9063-4281-8906-378ea6ac77f2',\n",
    "    'BR1_Male_Positive':   '2a59562e-de72-4199-b219-f30f571406d8',\n",
    "    'BR2_Female_Negative': '56f2fa45-71b5-4ec5-833a-a8aac470f4b3',\n",
    "    'BR2_Female_Positive': '717d3165-7b36-4ac8-88a5-ef1b53c9b6cd',\n",
    "    'BR2_Male_Negative':   '6603876a-9e51-496d-8666-d5441ac4375c',\n",
    "    'BR2_Male_Positive':   'c1b0e096-9c48-4495-8096-e89828145700'\n",
    "}"
   ]
  },
  {
   "cell_type": "raw",
   "id": "5e56abb3-b7e0-4a0a-aa0f-6a004e7c08de",
   "metadata": {},
   "source": [
    "meta_dict = {}\n",
    "for group_name, uuid in pq_uuids.items():\n",
    "    meta_dict[group_name] = read_parquet_uuid(uuid)"
   ]
  },
  {
   "cell_type": "raw",
   "id": "f4f95f6a-a8fc-4d94-b7df-d8c2663803b8",
   "metadata": {},
   "source": [
    "l2_counts = {}\n",
    "for group_name, meta in meta_dict.items():\n",
    "    counts = meta['AIFI_L2'].value_counts()\n",
    "    l2_counts[group_name] = counts"
   ]
  },
  {
   "cell_type": "raw",
   "id": "0f26c46b-1442-4348-a864-b24d50c1d2d5",
   "metadata": {},
   "source": [
    "total_l2_counts = sum(list(l2_counts.values()))"
   ]
  },
  {
   "cell_type": "raw",
   "id": "52552998-ee8d-4ab4-b429-72b9fa5845d0",
   "metadata": {},
   "source": [
    "total_l2_counts"
   ]
  },
  {
   "cell_type": "markdown",
   "id": "3aa2241c-8813-46d8-b782-2709188489f5",
   "metadata": {},
   "source": [
    "These L2 labels have > 1M cells each. We'll keep them separated per sample group."
   ]
  },
  {
   "cell_type": "raw",
   "id": "51a834c2-46c2-4ad3-85ad-dadc09e09adb",
   "metadata": {},
   "source": [
    "large_types = total_l2_counts.index[total_l2_counts > 1e6]\n",
    "large_types.tolist()"
   ]
  },
  {
   "cell_type": "markdown",
   "id": "82c3cd6c-cdad-465d-b9fa-ffcc1af93ade",
   "metadata": {},
   "source": [
    "## Download and sort .h5ad files\n",
    "\n",
    "Sorting the .h5ad files by AIFI_L2 will make reading each cell type much faster by placing cells of the same type next to each other in the sparse matrix.\n",
    "\n",
    "**Patch Divergence:** Here, we only load the two sample groups that we need for our missing files."
   ]
  },
  {
   "cell_type": "code",
   "execution_count": 9,
   "id": "b00e02bc-54b1-45d0-957d-ce6af447b1db",
   "metadata": {},
   "outputs": [],
   "source": [
    "h5ad_uuids = {\n",
    "    'BR1_Female_Negative': '7aa6743f-c9f1-4cc1-b879-b5528f6d4270',\n",
    "    'BR2_Male_Positive':   '8eb02ae8-46fb-4d1d-83e3-088c55ddc3d5'\n",
    "}"
   ]
  },
  {
   "cell_type": "code",
   "execution_count": 10,
   "id": "a0ceec86-893e-4c7d-a660-b1a00665f7a3",
   "metadata": {},
   "outputs": [
    {
     "name": "stdout",
     "output_type": "stream",
     "text": [
      "downloading fileID: 7aa6743f-c9f1-4cc1-b879-b5528f6d4270\n",
      "Files have been successfully downloaded!\n",
      "downloading fileID: 8eb02ae8-46fb-4d1d-83e3-088c55ddc3d5\n",
      "Files have been successfully downloaded!\n"
     ]
    }
   ],
   "source": [
    "for uuid in h5ad_uuids.values():\n",
    "    sort_adata_uuid(uuid, sort_cols = ['AIFI_L2', 'sample.sampleKitGuid'])"
   ]
  },
  {
   "cell_type": "markdown",
   "id": "e3de61b1-22d2-4560-b555-bf53ee14f1d4",
   "metadata": {},
   "source": [
    "## Open connections to .h5ad files\n",
    "\n",
    "Now that they're sorted, we can open these files with on-disk backing so we don't have to read the entire file at once."
   ]
  },
  {
   "cell_type": "code",
   "execution_count": 11,
   "id": "43ffabfc-8ffb-4953-93df-2ca7578436eb",
   "metadata": {},
   "outputs": [],
   "source": [
    "h5ad_conn = {}\n",
    "for group_name, uuid in h5ad_uuids.items():\n",
    "    h5ad_conn[group_name] = read_adata_backed_uuid(uuid)"
   ]
  },
  {
   "cell_type": "markdown",
   "id": "5de49ce5-1639-471b-b5fc-0028aaea94b3",
   "metadata": {},
   "source": [
    "## Process each cell type"
   ]
  },
  {
   "cell_type": "markdown",
   "id": "7123c68c-3225-47dc-a8bb-49c056067591",
   "metadata": {},
   "source": [
    "**Patch divergence:** For this patch, we'll only run the two cell types we need."
   ]
  },
  {
   "cell_type": "code",
   "execution_count": 12,
   "id": "564b6b71-0062-4f8f-aede-bda4d1e00761",
   "metadata": {},
   "outputs": [],
   "source": [
    "l2_types = ['CD56dim NK cell', 'Naive CD4 T cell']"
   ]
  },
  {
   "cell_type": "raw",
   "id": "bf2c984c-47c2-4fa6-bcfd-854663255106",
   "metadata": {},
   "source": [
    "l2_types = total_l2_counts.index.tolist()"
   ]
  },
  {
   "cell_type": "code",
   "execution_count": 13,
   "id": "098bc3b3-1a39-4836-ab4a-5cf4b0fcc449",
   "metadata": {},
   "outputs": [],
   "source": [
    "def read_l2_type(adata, cell_type):\n",
    "    type_adata = adata[adata.obs['AIFI_L2'] == cell_type].to_memory()\n",
    "    return type_adata"
   ]
  },
  {
   "cell_type": "code",
   "execution_count": 14,
   "id": "eb9f06d3-2faa-4e71-af37-b66a82dfca00",
   "metadata": {},
   "outputs": [],
   "source": [
    "out_files = []"
   ]
  },
  {
   "cell_type": "code",
   "execution_count": 15,
   "id": "657f5fff-29b1-462b-957c-9a158b45d2ad",
   "metadata": {
    "scrolled": true
   },
   "outputs": [
    {
     "name": "stdout",
     "output_type": "stream",
     "text": [
      "CD56dim NK cell\n",
      "Loading data\n"
     ]
    },
    {
     "name": "stderr",
     "output_type": "stream",
     "text": [
      "/opt/conda/lib/python3.10/site-packages/anndata/_core/anndata.py:1179: SettingWithCopyWarning: \n",
      "A value is trying to be set on a copy of a slice from a DataFrame.\n",
      "Try using .loc[row_indexer,col_indexer] = value instead\n",
      "\n",
      "See the caveats in the documentation: https://pandas.pydata.org/pandas-docs/stable/user_guide/indexing.html#returning-a-view-versus-a-copy\n",
      "  df_sub[k] = df_sub[k].cat.remove_unused_categories()\n"
     ]
    },
    {
     "name": "stdout",
     "output_type": "stream",
     "text": [
      "Processing BR2_Male_Positive\n",
      "(74411, 33538)\n",
      "Normalizing\n",
      "Finding HVGs\n",
      "(74411, 1127)\n",
      "Scaling\n",
      "PCA\n",
      "Neighbors\n",
      "Louvain\n",
      "UMAP\n",
      "Saving processed data\n",
      "Processing BR1_Female_Negative\n",
      "(199167, 33538)\n",
      "Normalizing\n",
      "Finding HVGs\n",
      "(199167, 899)\n",
      "Scaling\n",
      "PCA\n",
      "Neighbors\n",
      "Louvain\n",
      "UMAP\n",
      "Saving processed data\n",
      "Naive CD4 T cell\n",
      "Loading data\n",
      "Processing BR2_Male_Positive\n",
      "(248771, 33538)\n",
      "Normalizing\n",
      "Finding HVGs\n",
      "(248771, 565)\n",
      "Scaling\n",
      "PCA\n",
      "Neighbors\n",
      "Louvain\n",
      "UMAP\n",
      "Saving processed data\n",
      "Processing BR1_Female_Negative\n",
      "(659799, 33538)\n",
      "Normalizing\n",
      "Finding HVGs\n",
      "(659799, 502)\n",
      "Scaling\n",
      "PCA\n",
      "Neighbors\n",
      "Louvain\n",
      "UMAP\n",
      "Saving processed data\n"
     ]
    }
   ],
   "source": [
    "for cell_type in l2_types:\n",
    "    print(cell_type)\n",
    "    \n",
    "    # Read data from each group for this type in parallel\n",
    "    print('Loading data')\n",
    "    type_adata_dict = {}\n",
    "\n",
    "    with ThreadPoolExecutor(max_workers = 8) as executor:\n",
    "        futures = {\n",
    "            executor.submit(\n",
    "                read_l2_type, \n",
    "                h5ad_conn[group_name], \n",
    "                cell_type): group_name \n",
    "            for group_name in h5ad_conn.keys()\n",
    "        }\n",
    "        for future in concurrent.futures.as_completed(futures):\n",
    "            future_group = futures[future]\n",
    "            type_adata_dict[future_group] = future.result()\n",
    "    \n",
    "    if cell_type in large_types:\n",
    "        # If large, process and save separately\n",
    "        for group_name, type_adata in type_adata_dict.items():\n",
    "            print('Processing {g}'.format(g = group_name))\n",
    "            print(type_adata.shape)\n",
    "            type_adata = process_adata(type_adata)\n",
    "            print('Saving processed data')\n",
    "            out_file = 'output/diha_qc_{g}_{c}_{d}.h5ad'.format(\n",
    "                g = group_name,\n",
    "                c = cell_type,\n",
    "                d = date.today()\n",
    "            )\n",
    "            type_adata.write_h5ad(out_file)\n",
    "            out_files.append(out_file)\n",
    "            \n",
    "    else:\n",
    "        # If small, combine and process\n",
    "        print('Combining and processing')\n",
    "        type_adata = sc.concat(type_adata_dict)\n",
    "        print(type_adata.shape)\n",
    "        type_adata = process_adata(type_adata)\n",
    "        \n",
    "        print('Saving processed data')\n",
    "        out_file = 'output/diha_qc_{c}_{d}.h5ad'.format(\n",
    "            g = group_name,\n",
    "            c = cell_type,\n",
    "            d = date.today()\n",
    "        )\n",
    "        type_adata.write_h5ad(out_file)\n",
    "        out_files.append(out_file)"
   ]
  },
  {
   "cell_type": "markdown",
   "id": "fbd79bdf-1a6d-46b8-b38c-6acc27a59eb7",
   "metadata": {},
   "source": [
    "## Fix output filenames\n",
    "\n",
    "We'll update the output file names to replace spaces with dashes."
   ]
  },
  {
   "cell_type": "code",
   "execution_count": 16,
   "id": "f4f5b7e4-b029-4f46-a4d4-453ff4f7d031",
   "metadata": {},
   "outputs": [],
   "source": [
    "dash_out_files = []\n",
    "for out_file in out_files:\n",
    "    dash_out_file = re.sub(' ', '-', out_file)\n",
    "    os.rename(out_file, dash_out_file)\n",
    "    dash_out_files.append(dash_out_file)"
   ]
  },
  {
   "cell_type": "markdown",
   "id": "1307c91d-6eb8-4da0-b159-fc523c7c099a",
   "metadata": {},
   "source": [
    "## Upload Cell Type data to HISE\n",
    "\n",
    "Finally, we'll use `hisepy.upload.upload_files()` to send a copy of our output to HISE to use for downstream analysis steps."
   ]
  },
  {
   "cell_type": "code",
   "execution_count": 17,
   "id": "6409dfc7-7ba0-4b2c-ac46-f38c5f22e08a",
   "metadata": {},
   "outputs": [],
   "source": [
    "study_space_uuid = 'de025812-5e73-4b3c-9c3b-6d0eac412f2a'\n",
    "title = 'DIHA PBMC AIFI_L2 Pre-cleanup .h5ad Patch Files {d}'.format(d = date.today())"
   ]
  },
  {
   "cell_type": "code",
   "execution_count": 18,
   "id": "9445c364-9888-4e30-98d0-912dae151e1a",
   "metadata": {},
   "outputs": [
    {
     "data": {
      "text/plain": [
       "['7aa6743f-c9f1-4cc1-b879-b5528f6d4270',\n",
       " '8eb02ae8-46fb-4d1d-83e3-088c55ddc3d5']"
      ]
     },
     "execution_count": 18,
     "metadata": {},
     "output_type": "execute_result"
    }
   ],
   "source": [
    "in_files = list(h5ad_uuids.values())\n",
    "in_files"
   ]
  },
  {
   "cell_type": "markdown",
   "id": "d68d9978-0593-4a81-a714-878c26183232",
   "metadata": {},
   "source": [
    "**Patch Divergence:** We'll specify exactly which output files should be uploaded so we use only the two we require."
   ]
  },
  {
   "cell_type": "code",
   "execution_count": 19,
   "id": "273e0b58-ba20-4a29-a98a-b97d321c33b5",
   "metadata": {},
   "outputs": [],
   "source": [
    "out_files = [\n",
    "    'output/diha_qc_BR1_Female_Negative_Naive-CD4-T-cell_2024-03-15.h5ad',\n",
    "    'output/diha_qc_BR2_Male_Positive_CD56dim-NK-cell_2024-03-15.h5ad'\n",
    "]"
   ]
  },
  {
   "cell_type": "code",
   "execution_count": 21,
   "id": "22bba57d-466f-4d3e-9f6e-c7ccb57b8fa7",
   "metadata": {},
   "outputs": [
    {
     "name": "stdout",
     "output_type": "stream",
     "text": [
      "output/diha_qc_BR1_Female_Negative_Naive-CD4-T-cell_2024-03-15.h5ad\n",
      "output/diha_qc_BR2_Male_Positive_CD56dim-NK-cell_2024-03-15.h5ad\n",
      "you are trying to upload file_ids... ['output/diha_qc_BR1_Female_Negative_Naive-CD4-T-cell_2024-03-15.h5ad', 'output/diha_qc_BR2_Male_Positive_CD56dim-NK-cell_2024-03-15.h5ad']. Do you truly want to proceed?\n"
     ]
    },
    {
     "name": "stdin",
     "output_type": "stream",
     "text": [
      "(y/n) y\n"
     ]
    },
    {
     "data": {
      "text/plain": [
       "{'trace_id': '4d63d9c0-2462-4779-91e2-60407de85ffe',\n",
       " 'files': ['output/diha_qc_BR1_Female_Negative_Naive-CD4-T-cell_2024-03-15.h5ad',\n",
       "  'output/diha_qc_BR2_Male_Positive_CD56dim-NK-cell_2024-03-15.h5ad']}"
      ]
     },
     "execution_count": 21,
     "metadata": {},
     "output_type": "execute_result"
    }
   ],
   "source": [
    "hisepy.upload.upload_files(\n",
    "    files = out_files,\n",
    "    study_space_id = study_space_uuid,\n",
    "    title = title,\n",
    "    input_file_ids = in_files\n",
    ")"
   ]
  },
  {
   "cell_type": "code",
   "execution_count": 22,
   "id": "50904609-d4f5-4dc6-a259-5fbdfca76a27",
   "metadata": {},
   "outputs": [
    {
     "data": {
      "text/html": [
       "<details>\n",
       "<summary>Click to view session information</summary>\n",
       "<pre>\n",
       "-----\n",
       "anndata             0.10.3\n",
       "hisepy              0.3.0\n",
       "pandas              2.1.4\n",
       "scanpy              1.9.6\n",
       "session_info        1.0.0\n",
       "-----\n",
       "</pre>\n",
       "<details>\n",
       "<summary>Click to view modules imported as dependencies</summary>\n",
       "<pre>\n",
       "PIL                         10.0.1\n",
       "anyio                       NA\n",
       "arrow                       1.3.0\n",
       "asttokens                   NA\n",
       "attr                        23.2.0\n",
       "attrs                       23.2.0\n",
       "babel                       2.14.0\n",
       "beatrix_jupyterlab          NA\n",
       "brotli                      NA\n",
       "cachetools                  5.3.1\n",
       "certifi                     2024.02.02\n",
       "cffi                        1.16.0\n",
       "charset_normalizer          3.3.2\n",
       "cloudpickle                 2.2.1\n",
       "colorama                    0.4.6\n",
       "comm                        0.1.4\n",
       "cryptography                41.0.7\n",
       "cycler                      0.10.0\n",
       "cython_runtime              NA\n",
       "dateutil                    2.8.2\n",
       "db_dtypes                   1.1.1\n",
       "debugpy                     1.8.0\n",
       "decorator                   5.1.1\n",
       "defusedxml                  0.7.1\n",
       "deprecated                  1.2.14\n",
       "exceptiongroup              1.2.0\n",
       "executing                   2.0.1\n",
       "fastjsonschema              NA\n",
       "fqdn                        NA\n",
       "google                      NA\n",
       "greenlet                    2.0.2\n",
       "grpc                        1.58.0\n",
       "grpc_status                 NA\n",
       "h5py                        3.10.0\n",
       "idna                        3.6\n",
       "igraph                      0.10.8\n",
       "importlib_metadata          NA\n",
       "ipykernel                   6.28.0\n",
       "ipython_genutils            0.2.0\n",
       "ipywidgets                  8.1.1\n",
       "isoduration                 NA\n",
       "jedi                        0.19.1\n",
       "jinja2                      3.1.2\n",
       "joblib                      1.3.2\n",
       "json5                       NA\n",
       "jsonpointer                 2.4\n",
       "jsonschema                  4.20.0\n",
       "jsonschema_specifications   NA\n",
       "jupyter_events              0.9.0\n",
       "jupyter_server              2.12.1\n",
       "jupyterlab_server           2.25.2\n",
       "jwt                         2.8.0\n",
       "kiwisolver                  1.4.5\n",
       "leidenalg                   0.10.1\n",
       "llvmlite                    0.41.0\n",
       "louvain                     0.8.1\n",
       "lz4                         4.3.2\n",
       "markupsafe                  2.1.3\n",
       "matplotlib                  3.8.0\n",
       "matplotlib_inline           0.1.6\n",
       "mpl_toolkits                NA\n",
       "mpmath                      1.3.0\n",
       "natsort                     8.4.0\n",
       "nbformat                    5.9.2\n",
       "numba                       0.58.0\n",
       "numpy                       1.24.0\n",
       "opentelemetry               NA\n",
       "overrides                   NA\n",
       "packaging                   23.2\n",
       "parso                       0.8.3\n",
       "pexpect                     4.8.0\n",
       "pickleshare                 0.7.5\n",
       "pkg_resources               NA\n",
       "platformdirs                4.1.0\n",
       "plotly                      5.18.0\n",
       "prettytable                 3.9.0\n",
       "prometheus_client           NA\n",
       "prompt_toolkit              3.0.42\n",
       "proto                       NA\n",
       "psutil                      NA\n",
       "ptyprocess                  0.7.0\n",
       "pure_eval                   0.2.2\n",
       "pyarrow                     13.0.0\n",
       "pycparser                   2.21\n",
       "pydev_ipython               NA\n",
       "pydevconsole                NA\n",
       "pydevd                      2.9.5\n",
       "pydevd_file_utils           NA\n",
       "pydevd_plugins              NA\n",
       "pydevd_tracing              NA\n",
       "pygments                    2.17.2\n",
       "pynndescent                 0.5.11\n",
       "pynvml                      NA\n",
       "pyparsing                   3.1.1\n",
       "pyreadr                     0.5.0\n",
       "pythonjsonlogger            NA\n",
       "pytz                        2023.3.post1\n",
       "referencing                 NA\n",
       "requests                    2.31.0\n",
       "rfc3339_validator           0.1.4\n",
       "rfc3986_validator           0.1.1\n",
       "rpds                        NA\n",
       "scipy                       1.11.4\n",
       "send2trash                  NA\n",
       "shapely                     1.8.5.post1\n",
       "six                         1.16.0\n",
       "sklearn                     1.3.2\n",
       "sniffio                     1.3.0\n",
       "socks                       1.7.1\n",
       "sparse                      0.14.0\n",
       "sql                         NA\n",
       "sqlalchemy                  2.0.21\n",
       "sqlparse                    0.4.4\n",
       "stack_data                  0.6.2\n",
       "sympy                       1.12\n",
       "termcolor                   NA\n",
       "texttable                   1.7.0\n",
       "threadpoolctl               3.2.0\n",
       "torch                       2.1.2+cu121\n",
       "torchgen                    NA\n",
       "tornado                     6.3.3\n",
       "tqdm                        4.66.1\n",
       "traitlets                   5.9.0\n",
       "typing_extensions           NA\n",
       "umap                        0.5.5\n",
       "uri_template                NA\n",
       "urllib3                     1.26.18\n",
       "wcwidth                     0.2.12\n",
       "webcolors                   1.13\n",
       "websocket                   1.7.0\n",
       "wrapt                       1.15.0\n",
       "xarray                      2023.12.0\n",
       "yaml                        6.0.1\n",
       "zipp                        NA\n",
       "zmq                         25.1.2\n",
       "zoneinfo                    NA\n",
       "</pre>\n",
       "</details> <!-- seems like this ends pre, so might as well be explicit -->\n",
       "<pre>\n",
       "-----\n",
       "IPython             8.19.0\n",
       "jupyter_client      8.6.0\n",
       "jupyter_core        5.6.1\n",
       "jupyterlab          4.1.2\n",
       "notebook            6.5.4\n",
       "-----\n",
       "Python 3.10.13 | packaged by conda-forge | (main, Dec 23 2023, 15:36:39) [GCC 12.3.0]\n",
       "Linux-5.15.0-1042-gcp-x86_64-with-glibc2.31\n",
       "-----\n",
       "Session information updated at 2024-03-15 05:29\n",
       "</pre>\n",
       "</details>"
      ],
      "text/plain": [
       "<IPython.core.display.HTML object>"
      ]
     },
     "execution_count": 22,
     "metadata": {},
     "output_type": "execute_result"
    }
   ],
   "source": [
    "import session_info\n",
    "session_info.show()"
   ]
  },
  {
   "cell_type": "code",
   "execution_count": null,
   "id": "2ddf606f-ee6c-4695-860e-524636f619c9",
   "metadata": {},
   "outputs": [],
   "source": []
  }
 ],
 "metadata": {
  "kernelspec": {
   "display_name": "Python 3 (ipykernel)",
   "language": "python",
   "name": "python3"
  },
  "language_info": {
   "codemirror_mode": {
    "name": "ipython",
    "version": 3
   },
   "file_extension": ".py",
   "mimetype": "text/x-python",
   "name": "python",
   "nbconvert_exporter": "python",
   "pygments_lexer": "ipython3",
   "version": "3.10.13"
  }
 },
 "nbformat": 4,
 "nbformat_minor": 5
}
