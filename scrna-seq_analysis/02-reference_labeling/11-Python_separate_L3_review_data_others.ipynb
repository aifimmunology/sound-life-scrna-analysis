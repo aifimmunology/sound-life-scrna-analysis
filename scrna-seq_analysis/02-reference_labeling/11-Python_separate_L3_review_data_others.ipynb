{
 "cells": [
  {
   "cell_type": "markdown",
   "id": "8fcbf87c-c5b4-4c0d-a6df-306d45b7772f",
   "metadata": {},
   "source": [
    "# Generate separate L3 review data\n",
    "\n",
    "In this notebook, we perform UMAP using data from each individual AIFI_L3 cell type. This can be used to assess if our label refinement has been effective and if our cell types are largely uniform."
   ]
  },
  {
   "cell_type": "markdown",
   "id": "b9783481-4fc3-44ce-8bb5-2c2b17efa130",
   "metadata": {},
   "source": [
    "## Load packages"
   ]
  },
  {
   "cell_type": "code",
   "execution_count": 1,
   "id": "14ddfcd5-d220-4127-95db-da98de8cbd2a",
   "metadata": {},
   "outputs": [],
   "source": [
    "import warnings\n",
    "warnings.simplefilter(action='ignore', category=FutureWarning)\n",
    "warnings.simplefilter(action='ignore', category=RuntimeWarning)\n",
    "\n",
    "from datetime import date\n",
    "import hisepy\n",
    "import os\n",
    "import pandas as pd\n",
    "import scanpy as sc\n",
    "import scanpy.external as sce\n",
    "import re\n",
    "import tarfile"
   ]
  },
  {
   "cell_type": "code",
   "execution_count": 2,
   "id": "49eb73aa-a56e-419d-a16a-080ef051a885",
   "metadata": {
    "tags": []
   },
   "outputs": [],
   "source": [
    "out_dir = 'output'\n",
    "if not os.path.isdir(out_dir):\n",
    "    os.makedirs(out_dir)"
   ]
  },
  {
   "cell_type": "markdown",
   "id": "a30e62bc-1371-4a57-a259-7f724b112ad5",
   "metadata": {},
   "source": [
    "## Helper functions"
   ]
  },
  {
   "cell_type": "markdown",
   "id": "a5aead3c-1a37-4e42-8189-7cec3b63bf1c",
   "metadata": {},
   "source": [
    "Helpers for reading data based on UUIDs from HISE"
   ]
  },
  {
   "cell_type": "code",
   "execution_count": 3,
   "id": "93f49b7d-21c2-40f5-960e-d628fe6a61a7",
   "metadata": {},
   "outputs": [],
   "source": [
    "def cache_uuid_path(uuid):\n",
    "    cache_path = '/home/jupyter/cache/{u}'.format(u = uuid)\n",
    "    if not os.path.isdir(cache_path):\n",
    "        hise_res = hisepy.reader.cache_files([uuid])\n",
    "    filename = os.listdir(cache_path)[0]\n",
    "    cache_file = '{p}/{f}'.format(p = cache_path, f = filename)\n",
    "    return cache_file"
   ]
  },
  {
   "cell_type": "code",
   "execution_count": 4,
   "id": "c128fb9d-8e82-4ef8-84d2-d67e2e16ea40",
   "metadata": {},
   "outputs": [],
   "source": [
    "def read_csv_uuid(uuid):\n",
    "    cache_file = cache_uuid_path(uuid)\n",
    "    res = pd.read_csv(cache_file)\n",
    "    return res"
   ]
  },
  {
   "cell_type": "code",
   "execution_count": 5,
   "id": "af854be1-1876-485d-802f-ba9366ffd5a4",
   "metadata": {},
   "outputs": [],
   "source": [
    "def read_adata_uuid(uuid):\n",
    "    cache_file = cache_uuid_path(uuid)\n",
    "    res = sc.read_h5ad(cache_file)\n",
    "    return res"
   ]
  },
  {
   "cell_type": "markdown",
   "id": "83ef7ea7-56c3-4dbc-8efe-2c949bb0b9f8",
   "metadata": {},
   "source": [
    "This function formats cell types for use in filenames"
   ]
  },
  {
   "cell_type": "code",
   "execution_count": 6,
   "id": "02171893-00e2-4718-98ca-431465cd79d9",
   "metadata": {},
   "outputs": [],
   "source": [
    "def format_cell_type(cell_type):\n",
    "    cell_type = re.sub('\\\\+', 'pos', cell_type)\n",
    "    cell_type = re.sub('-', 'neg', cell_type)\n",
    "    cell_type = re.sub(' ', '_', cell_type)\n",
    "    return cell_type"
   ]
  },
  {
   "cell_type": "markdown",
   "id": "c1582696-eacc-4000-81ec-d75e5314de67",
   "metadata": {},
   "source": [
    "This function corrects type labels generated when there are ties in selection of most frequent labels:"
   ]
  },
  {
   "cell_type": "code",
   "execution_count": 7,
   "id": "e5119b08-ebcc-48ec-9a44-4abadfc4a219",
   "metadata": {},
   "outputs": [],
   "source": [
    "def fix_cat_labels(labels):\n",
    "    label_cat = labels.cat.categories\n",
    "    for cat in label_cat:\n",
    "        cat = str(cat)\n",
    "        if '[' in cat:\n",
    "            new_cat = re.sub('\\', .+\\n.+','',cat)\n",
    "            new_cat = re.sub('\\[\\'','',new_cat)\n",
    "            if not new_cat in label_cat:\n",
    "                labels = labels.cat.add_categories(new_cat)\n",
    "            labels[labels == cat] = new_cat\n",
    "    return labels"
   ]
  },
  {
   "cell_type": "markdown",
   "id": "5f12da46-cba2-46ab-a325-188a7ce8445e",
   "metadata": {},
   "source": [
    "This function retrieves both observations and UMAP coordinates in a single table for review."
   ]
  },
  {
   "cell_type": "code",
   "execution_count": 8,
   "id": "88ef1b5a-fda7-454a-aa77-f56400e0c49e",
   "metadata": {},
   "outputs": [],
   "source": [
    "def obs_with_umap(adata):\n",
    "    obs = adata.obs\n",
    "    \n",
    "    umap_mat = adata.obsm['X_umap']\n",
    "    umap_df = pd.DataFrame(umap_mat, columns = ['umap_1', 'umap_2'])\n",
    "    obs['umap_1'] = umap_df['umap_1']\n",
    "    obs['umap_2'] = umap_df['umap_2']\n",
    "\n",
    "    return obs"
   ]
  },
  {
   "cell_type": "code",
   "execution_count": 9,
   "id": "f781ec1a-e99d-43bc-b366-9020b58629be",
   "metadata": {},
   "outputs": [],
   "source": [
    "def process_adata(adata):\n",
    "    \n",
    "    # Keep a copy of the raw data\n",
    "    adata = adata.raw.to_adata()\n",
    "    adata.raw = adata\n",
    "\n",
    "    print('Normalizing', end = \"; \")\n",
    "    # Normalize and log transform\n",
    "    sc.pp.normalize_total(adata)\n",
    "    sc.pp.log1p(adata)\n",
    "\n",
    "    print('Finding HVGs', end = \"; \")\n",
    "    # Restrict downstream steps to variable genes\n",
    "    sc.pp.highly_variable_genes(adata)\n",
    "    adata = adata[:, adata.var_names[adata.var['highly_variable']]].copy()\n",
    "\n",
    "    print('Scaling', end = \"; \")\n",
    "    # Scale variable genes\n",
    "    sc.pp.scale(adata)\n",
    "\n",
    "    print('PCA', end = \"; \")\n",
    "    # Run PCA\n",
    "    sc.tl.pca(adata, svd_solver = 'arpack')\n",
    "\n",
    "    print('Harmony', end = \"; \")\n",
    "    # Integrate subjects\n",
    "    sce.pp.harmony_integrate(\n",
    "        adata, \n",
    "        'subject.subjectGuid',\n",
    "        max_iter_harmony = 30,\n",
    "        verbose = False\n",
    "    )\n",
    "    \n",
    "    print('Neighbors', end = \"; \")\n",
    "    # Find nearest neighbors\n",
    "    sc.pp.neighbors(\n",
    "        adata, \n",
    "        n_neighbors = 50,\n",
    "        n_pcs = 30,\n",
    "        use_rep = 'X_pca_harmony'\n",
    "    )\n",
    "\n",
    "    print('UMAP', end = \"; \")\n",
    "    # Run UMAP\n",
    "    sc.tl.umap(adata, min_dist = 0.05)\n",
    "    \n",
    "    print('Renormalizing')\n",
    "    adata = adata.raw.to_adata()\n",
    "    adata.raw = adata\n",
    "\n",
    "    # Normalize and log transform\n",
    "    sc.pp.normalize_total(adata)\n",
    "    sc.pp.log1p(adata)\n",
    "    \n",
    "    return adata"
   ]
  },
  {
   "cell_type": "markdown",
   "id": "96266d9b-b74a-47ff-8b80-a379578af580",
   "metadata": {},
   "source": [
    "## Identify files in HISE"
   ]
  },
  {
   "cell_type": "code",
   "execution_count": 10,
   "id": "a7480dbc-a377-4b7f-befb-41b43c778c6e",
   "metadata": {},
   "outputs": [],
   "source": [
    "h5ad_uuids = {\n",
    "    'asdc': 'eb71216b-8f71-4b73-9a5e-1775e1804205',\n",
    "    'b_naive': '1ae3bda3-c0f9-4b70-8bb6-eb70ce214abc',\n",
    "    'b_memory': '4e5e30b5-d725-4f35-9d5a-92f9d348e77a',\n",
    "    'dc': 'bd744517-075d-4118-84f8-6a594f555151',\n",
    "    'dnt_mait': 'fa2aea32-d174-422e-9334-436bdb6d3404',\n",
    "    'eryth_platelet': '3321e686-0dc2-4370-b06b-9cbaccb7f227',\n",
    "    'gdt_cd8aa': 'fe17ec4f-4b45-4c0c-9eb0-b41162e6ab2b',\n",
    "    'monocyte_label': '4e523f48-d4b7-4445-b681-08e76ed489d7',\n",
    "    'monocyte_marker': '85f54006-7242-4474-bfbb-ae52783d8dd6',\n",
    "    'nk_cells': '91bfb846-8948-4bef-9b59-010d669a3946',\n",
    "    'plasma_ilc': '0228d6e0-b5db-4b66-b0f8-b609910a298e',\n",
    "    'pro': '02958072-3eca-4539-b3fc-53d8b7830ba6',\n",
    "    't_cd4_memory': '',\n",
    "    't_cd4_naive': '',\n",
    "    't_cd8_memory': '',\n",
    "    't_cd8_naive': 'f7fb9efe-7791-4be3-a137-372478db40ca',\n",
    "    'treg': 'e4e31bdb-d6b4-4451-bd56-44085b70068d'\n",
    "}"
   ]
  },
  {
   "cell_type": "markdown",
   "id": "7eeeac6e-be9e-4233-920b-ca8de33b3151",
   "metadata": {},
   "source": [
    "## Process data to generate UMAP coords."
   ]
  },
  {
   "cell_type": "code",
   "execution_count": null,
   "id": "29d1346c-7ef8-4791-a53f-960621976023",
   "metadata": {},
   "outputs": [
    {
     "name": "stderr",
     "output_type": "stream",
     "text": [
      "/opt/conda/lib/python3.10/site-packages/anndata/_core/anndata.py:183: ImplicitModificationWarning: Transforming to str index.\n",
      "  warnings.warn(\"Transforming to str index.\", ImplicitModificationWarning)\n"
     ]
    },
    {
     "name": "stdout",
     "output_type": "stream",
     "text": [
      "previously analyzed ASDC; skipping.\n"
     ]
    },
    {
     "name": "stderr",
     "output_type": "stream",
     "text": [
      "/opt/conda/lib/python3.10/site-packages/anndata/_core/anndata.py:183: ImplicitModificationWarning: Transforming to str index.\n",
      "  warnings.warn(\"Transforming to str index.\", ImplicitModificationWarning)\n"
     ]
    },
    {
     "name": "stdout",
     "output_type": "stream",
     "text": [
      "previously analyzed Core naive B cell; skipping.\n",
      "previously analyzed Transitional B cell; skipping.\n",
      "previously analyzed ISG+ naive B cell; skipping.\n"
     ]
    },
    {
     "name": "stderr",
     "output_type": "stream",
     "text": [
      "/opt/conda/lib/python3.10/site-packages/anndata/_core/anndata.py:183: ImplicitModificationWarning: Transforming to str index.\n",
      "  warnings.warn(\"Transforming to str index.\", ImplicitModificationWarning)\n"
     ]
    },
    {
     "name": "stdout",
     "output_type": "stream",
     "text": [
      "previously analyzed Core memory B cell; skipping.\n",
      "previously analyzed Type 2 polarized memory B cell; skipping.\n",
      "previously analyzed CD95 memory B cell; skipping.\n",
      "previously analyzed CD27+ effector B cell; skipping.\n",
      "previously analyzed Early memory B cell; skipping.\n",
      "previously analyzed Activated memory B cell; skipping.\n",
      "previously analyzed CD27- effector B cell; skipping.\n"
     ]
    },
    {
     "name": "stderr",
     "output_type": "stream",
     "text": [
      "/opt/conda/lib/python3.10/site-packages/anndata/_core/anndata.py:183: ImplicitModificationWarning: Transforming to str index.\n",
      "  warnings.warn(\"Transforming to str index.\", ImplicitModificationWarning)\n"
     ]
    },
    {
     "name": "stdout",
     "output_type": "stream",
     "text": [
      "previously analyzed cDC1; skipping.\n",
      "previously analyzed HLA-DRhi cDC2; skipping.\n",
      "previously analyzed ISG+ cDC2; skipping.\n"
     ]
    },
    {
     "name": "stderr",
     "output_type": "stream",
     "text": [
      "/opt/conda/lib/python3.10/site-packages/anndata/_core/anndata.py:183: ImplicitModificationWarning: Transforming to str index.\n",
      "  warnings.warn(\"Transforming to str index.\", ImplicitModificationWarning)\n"
     ]
    },
    {
     "name": "stdout",
     "output_type": "stream",
     "text": [
      "CLP cell: 29 cells\n",
      "Too few cells. Skipping\n",
      "previously analyzed CD14+ cDC2; skipping.\n",
      "previously analyzed pDC; skipping.\n"
     ]
    },
    {
     "name": "stderr",
     "output_type": "stream",
     "text": [
      "/opt/conda/lib/python3.10/site-packages/anndata/_core/anndata.py:183: ImplicitModificationWarning: Transforming to str index.\n",
      "  warnings.warn(\"Transforming to str index.\", ImplicitModificationWarning)\n"
     ]
    },
    {
     "name": "stdout",
     "output_type": "stream",
     "text": [
      "previously analyzed DN T cell; skipping.\n",
      "previously analyzed CD8 MAIT; skipping.\n",
      "previously analyzed CD4 MAIT; skipping.\n",
      "previously analyzed ISG+ MAIT; skipping.\n"
     ]
    },
    {
     "name": "stderr",
     "output_type": "stream",
     "text": [
      "/opt/conda/lib/python3.10/site-packages/anndata/_core/anndata.py:183: ImplicitModificationWarning: Transforming to str index.\n",
      "  warnings.warn(\"Transforming to str index.\", ImplicitModificationWarning)\n"
     ]
    },
    {
     "name": "stdout",
     "output_type": "stream",
     "text": [
      "previously analyzed Erythrocyte; skipping.\n",
      "previously analyzed Core naive CD4 T cell; skipping.\n",
      "previously analyzed Platelet; skipping.\n"
     ]
    },
    {
     "name": "stderr",
     "output_type": "stream",
     "text": [
      "/opt/conda/lib/python3.10/site-packages/anndata/_core/anndata.py:183: ImplicitModificationWarning: Transforming to str index.\n",
      "  warnings.warn(\"Transforming to str index.\", ImplicitModificationWarning)\n"
     ]
    },
    {
     "name": "stdout",
     "output_type": "stream",
     "text": [
      "previously analyzed CD8aa; skipping.\n",
      "previously analyzed KLRF1- effector Vd1 gdT; skipping.\n",
      "previously analyzed KLRF1+ effector Vd1 gdT; skipping.\n",
      "previously analyzed SOX4+ Vd1 gdT; skipping.\n",
      "previously analyzed Naive Vd1 gdT; skipping.\n",
      "previously analyzed GZMB+ Vd2 gdT; skipping.\n",
      "previously analyzed GZMK+ Vd2 gdT; skipping.\n"
     ]
    },
    {
     "name": "stderr",
     "output_type": "stream",
     "text": [
      "/opt/conda/lib/python3.10/site-packages/anndata/_core/anndata.py:183: ImplicitModificationWarning: Transforming to str index.\n",
      "  warnings.warn(\"Transforming to str index.\", ImplicitModificationWarning)\n"
     ]
    },
    {
     "name": "stdout",
     "output_type": "stream",
     "text": [
      "previously analyzed Core CD14 monocyte; skipping.\n"
     ]
    },
    {
     "name": "stderr",
     "output_type": "stream",
     "text": [
      "/opt/conda/lib/python3.10/site-packages/anndata/_core/anndata.py:183: ImplicitModificationWarning: Transforming to str index.\n",
      "  warnings.warn(\"Transforming to str index.\", ImplicitModificationWarning)\n"
     ]
    },
    {
     "name": "stdout",
     "output_type": "stream",
     "text": [
      "ISG+ CD14 monocyte: 268729 cells\n",
      "Normalizing; Finding HVGs; Scaling; PCA; Harmony; "
     ]
    },
    {
     "name": "stderr",
     "output_type": "stream",
     "text": [
      "2024-04-08 21:14:55,163 - harmonypy - INFO - Computing initial centroids with sklearn.KMeans...\n",
      "2024-04-08 21:17:21,942 - harmonypy - INFO - sklearn.KMeans initialization complete.\n"
     ]
    },
    {
     "name": "stdout",
     "output_type": "stream",
     "text": [
      "Neighbors; UMAP; Renormalizing\n",
      "WARNING: adata.X seems to be already log-transformed.\n"
     ]
    }
   ],
   "source": [
    "out_h5ads = []\n",
    "out_csvs = []\n",
    "out_parquets = []\n",
    "for type_group, uuid in h5ad_uuids.items():\n",
    "    adata_path = cache_uuid_path(uuid)\n",
    "    # get L3 types and check for previous processing\n",
    "    adata = sc.read_h5ad(adata_path, backed = 'r')\n",
    "    cell_types = adata.obs['AIFI_L3'].copy()\n",
    "    cell_types = fix_cat_labels(cell_types)\n",
    "    cell_types = cell_types.unique()\n",
    "    \n",
    "    for cell_type in cell_types:\n",
    "        out_type = format_cell_type(cell_type)\n",
    "        if type_group == 'monocyte_marker':\n",
    "            out_type = 'marker-{t}'.format(t = out_type)\n",
    "        \n",
    "        out_h5ad = 'output/diha_AIFI_L3_{t}_{d}.h5ad'.format(t = out_type, d = date.today())\n",
    "        out_csv = 'output/diha_AIFI_L3_{t}_meta_{d}.csv'.format(t = out_type, d = date.today())\n",
    "        out_parquet = 'output/diha_AIFI_L3_{t}_meta_{d}.parquet'.format(t = out_type, d = date.today())\n",
    "        \n",
    "        if os.path.isfile(out_h5ad):\n",
    "            print('previously analyzed {t}; skipping.'.format(t = cell_type))\n",
    "            out_h5ads.append(out_h5ad)\n",
    "            out_csvs.append(out_csv)\n",
    "            out_parquets.append(out_parquet)\n",
    "            continue\n",
    "        \n",
    "        adata = sc.read_h5ad(adata_path)\n",
    "        adata.obs['AIFI_L3'] = fix_cat_labels(adata.obs['AIFI_L3'])\n",
    "        adata = adata[adata.obs['AIFI_L3'] == cell_type]\n",
    "        print('{t}: {n} cells'.format(t = cell_type, n = adata.shape[0]))\n",
    "\n",
    "        if(adata.shape[0] < 100):\n",
    "            print('Too few cells. Skipping')\n",
    "            continue\n",
    "        \n",
    "        adata = process_adata(adata)\n",
    "        adata.write_h5ad(out_h5ad)\n",
    "        out_h5ads.append(out_h5ad)\n",
    "        \n",
    "        obs_df = obs_with_umap(adata)\n",
    "        obs_df.to_csv(out_csv)\n",
    "        out_csvs.append(out_csv)\n",
    "        obs_df.to_parquet(out_parquet)\n",
    "        out_parquets.append(out_parquet)"
   ]
  },
  {
   "cell_type": "code",
   "execution_count": null,
   "id": "31ca138e-8e44-4f8b-9f11-63dec5ff8acf",
   "metadata": {},
   "outputs": [],
   "source": []
  },
  {
   "cell_type": "code",
   "execution_count": null,
   "id": "f431dfad-9dd5-4e81-aab2-8b91d8ac20f8",
   "metadata": {},
   "outputs": [],
   "source": []
  }
 ],
 "metadata": {
  "kernelspec": {
   "display_name": "Python 3 (ipykernel)",
   "language": "python",
   "name": "python3"
  },
  "language_info": {
   "codemirror_mode": {
    "name": "ipython",
    "version": 3
   },
   "file_extension": ".py",
   "mimetype": "text/x-python",
   "name": "python",
   "nbconvert_exporter": "python",
   "pygments_lexer": "ipython3",
   "version": "3.10.13"
  }
 },
 "nbformat": 4,
 "nbformat_minor": 5
}
