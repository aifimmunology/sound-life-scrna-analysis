{
 "cells": [
  {
   "cell_type": "markdown",
   "id": "8fcbf87c-c5b4-4c0d-a6df-306d45b7772f",
   "metadata": {},
   "source": [
    "# Generate separate L3 review data\n",
    "\n",
    "In this notebook, we perform UMAP using data from each individual AIFI_L3 cell type. This can be used to assess if our label refinement has been effective and if our cell types are largely uniform.\n",
    "\n",
    "**Note**: Because some of these are *very* large cell types, you'll need to ensure that a lot of disk space is available (> 400GB)"
   ]
  },
  {
   "cell_type": "markdown",
   "id": "b9783481-4fc3-44ce-8bb5-2c2b17efa130",
   "metadata": {},
   "source": [
    "## Load packages"
   ]
  },
  {
   "cell_type": "code",
   "execution_count": 1,
   "id": "14ddfcd5-d220-4127-95db-da98de8cbd2a",
   "metadata": {},
   "outputs": [],
   "source": [
    "import warnings\n",
    "warnings.simplefilter(action='ignore', category=FutureWarning)\n",
    "warnings.simplefilter(action='ignore', category=RuntimeWarning)\n",
    "\n",
    "from datetime import date\n",
    "import hisepy\n",
    "import os\n",
    "import pandas as pd\n",
    "import scanpy as sc\n",
    "import scanpy.external as sce\n",
    "import re\n",
    "import tarfile"
   ]
  },
  {
   "cell_type": "code",
   "execution_count": 2,
   "id": "49eb73aa-a56e-419d-a16a-080ef051a885",
   "metadata": {
    "tags": []
   },
   "outputs": [],
   "source": [
    "out_dir = 'output'\n",
    "if not os.path.isdir(out_dir):\n",
    "    os.makedirs(out_dir)"
   ]
  },
  {
   "cell_type": "markdown",
   "id": "a30e62bc-1371-4a57-a259-7f724b112ad5",
   "metadata": {},
   "source": [
    "## Helper functions"
   ]
  },
  {
   "cell_type": "markdown",
   "id": "a5aead3c-1a37-4e42-8189-7cec3b63bf1c",
   "metadata": {},
   "source": [
    "Helpers for reading data based on UUIDs from HISE"
   ]
  },
  {
   "cell_type": "code",
   "execution_count": 3,
   "id": "93f49b7d-21c2-40f5-960e-d628fe6a61a7",
   "metadata": {},
   "outputs": [],
   "source": [
    "def cache_uuid_path(uuid):\n",
    "    cache_path = '/home/jupyter/cache/{u}'.format(u = uuid)\n",
    "    if not os.path.isdir(cache_path):\n",
    "        hise_res = hisepy.reader.cache_files([uuid])\n",
    "    filename = os.listdir(cache_path)[0]\n",
    "    cache_file = '{p}/{f}'.format(p = cache_path, f = filename)\n",
    "    return cache_file"
   ]
  },
  {
   "cell_type": "code",
   "execution_count": 4,
   "id": "c128fb9d-8e82-4ef8-84d2-d67e2e16ea40",
   "metadata": {},
   "outputs": [],
   "source": [
    "def read_csv_uuid(uuid):\n",
    "    cache_file = cache_uuid_path(uuid)\n",
    "    res = pd.read_csv(cache_file)\n",
    "    return res"
   ]
  },
  {
   "cell_type": "code",
   "execution_count": 5,
   "id": "af854be1-1876-485d-802f-ba9366ffd5a4",
   "metadata": {},
   "outputs": [],
   "source": [
    "def read_adata_uuid(uuid):\n",
    "    cache_file = cache_uuid_path(uuid)\n",
    "    res = sc.read_h5ad(cache_file)\n",
    "    return res"
   ]
  },
  {
   "cell_type": "markdown",
   "id": "83ef7ea7-56c3-4dbc-8efe-2c949bb0b9f8",
   "metadata": {},
   "source": [
    "This function formats cell types for use in filenames"
   ]
  },
  {
   "cell_type": "code",
   "execution_count": 6,
   "id": "02171893-00e2-4718-98ca-431465cd79d9",
   "metadata": {},
   "outputs": [],
   "source": [
    "def format_cell_type(cell_type):\n",
    "    cell_type = re.sub('\\\\+', 'pos', cell_type)\n",
    "    cell_type = re.sub('-', 'neg', cell_type)\n",
    "    cell_type = re.sub(' ', '_', cell_type)\n",
    "    return cell_type"
   ]
  },
  {
   "cell_type": "markdown",
   "id": "c1582696-eacc-4000-81ec-d75e5314de67",
   "metadata": {},
   "source": [
    "This function corrects type labels generated when there are ties in selection of most frequent labels:"
   ]
  },
  {
   "cell_type": "code",
   "execution_count": 7,
   "id": "e5119b08-ebcc-48ec-9a44-4abadfc4a219",
   "metadata": {},
   "outputs": [],
   "source": [
    "def fix_cat_labels(labels):\n",
    "    label_cat = labels.cat.categories\n",
    "    for cat in label_cat:\n",
    "        cat = str(cat)\n",
    "        if '[' in cat:\n",
    "            new_cat = re.sub('\\', .+\\n.+','',cat)\n",
    "            new_cat = re.sub('\\[\\'','',new_cat)\n",
    "            if not new_cat in label_cat:\n",
    "                labels = labels.cat.add_categories(new_cat)\n",
    "            labels[labels == cat] = new_cat\n",
    "    return labels"
   ]
  },
  {
   "cell_type": "code",
   "execution_count": 8,
   "id": "f781ec1a-e99d-43bc-b366-9020b58629be",
   "metadata": {},
   "outputs": [],
   "source": [
    "def process_adata(adata):\n",
    "    \n",
    "    # Keep a copy of the raw data\n",
    "    adata = adata.raw.to_adata()\n",
    "    adata.raw = adata\n",
    "\n",
    "    print('Normalizing', end = \"; \")\n",
    "    # Normalize and log transform\n",
    "    sc.pp.normalize_total(adata)\n",
    "    sc.pp.log1p(adata)\n",
    "\n",
    "    print('Finding HVGs', end = \"; \")\n",
    "    # Restrict downstream steps to variable genes\n",
    "    sc.pp.highly_variable_genes(adata)\n",
    "    adata = adata[:, adata.var_names[adata.var['highly_variable']]].copy()\n",
    "\n",
    "    print('Scaling', end = \"; \")\n",
    "    # Scale variable genes\n",
    "    sc.pp.scale(adata)\n",
    "\n",
    "    print('PCA', end = \"; \")\n",
    "    # Run PCA\n",
    "    sc.tl.pca(adata, svd_solver = 'arpack')\n",
    "\n",
    "    print('Harmony', end = \"; \")\n",
    "    # Integrate subjects\n",
    "    sce.pp.harmony_integrate(\n",
    "        adata, \n",
    "        'subject.subjectGuid',\n",
    "        max_iter_harmony = 30,\n",
    "        verbose = False\n",
    "    )\n",
    "    \n",
    "    print('Neighbors', end = \"; \")\n",
    "    # Find nearest neighbors\n",
    "    sc.pp.neighbors(\n",
    "        adata, \n",
    "        n_neighbors = 50,\n",
    "        n_pcs = 30,\n",
    "        use_rep = 'X_pca_harmony'\n",
    "    )\n",
    "\n",
    "    print('UMAP', end = \"; \")\n",
    "    # Run UMAP\n",
    "    sc.tl.umap(adata, min_dist = 0.05)\n",
    "    \n",
    "    print('Renormalizing')\n",
    "    adata = adata.raw.to_adata()\n",
    "    adata.raw = adata\n",
    "\n",
    "    # Normalize and log transform\n",
    "    sc.pp.normalize_total(adata)\n",
    "    sc.pp.log1p(adata)\n",
    "    \n",
    "    return adata"
   ]
  },
  {
   "cell_type": "markdown",
   "id": "96266d9b-b74a-47ff-8b80-a379578af580",
   "metadata": {},
   "source": [
    "## Identify files in HISE"
   ]
  },
  {
   "cell_type": "code",
   "execution_count": 9,
   "id": "a7480dbc-a377-4b7f-befb-41b43c778c6e",
   "metadata": {},
   "outputs": [],
   "source": [
    "h5ad_uuids = {\n",
    "    'monocyte_marker': '85f54006-7242-4474-bfbb-ae52783d8dd6',\n",
    "    'asdc': 'eb71216b-8f71-4b73-9a5e-1775e1804205',\n",
    "    'b_naive': '1ae3bda3-c0f9-4b70-8bb6-eb70ce214abc',\n",
    "    'b_memory': '4e5e30b5-d725-4f35-9d5a-92f9d348e77a',\n",
    "    'dc': 'bd744517-075d-4118-84f8-6a594f555151',\n",
    "    'dnt_mait': 'fa2aea32-d174-422e-9334-436bdb6d3404',\n",
    "    'eryth_platelet': '3321e686-0dc2-4370-b06b-9cbaccb7f227',\n",
    "    'gdt_cd8aa': 'fe17ec4f-4b45-4c0c-9eb0-b41162e6ab2b',\n",
    "    'monocyte_label': '4e523f48-d4b7-4445-b681-08e76ed489d7',\n",
    "    'nk_cells': '91bfb846-8948-4bef-9b59-010d669a3946',\n",
    "    'plasma_ilc': '0228d6e0-b5db-4b66-b0f8-b609910a298e',\n",
    "    'pro': '02958072-3eca-4539-b3fc-53d8b7830ba6'\n",
    "}"
   ]
  },
  {
   "cell_type": "markdown",
   "id": "7eeeac6e-be9e-4233-920b-ca8de33b3151",
   "metadata": {},
   "source": [
    "## Process data to generate UMAP coords."
   ]
  },
  {
   "cell_type": "code",
   "execution_count": 10,
   "id": "264a8cb4-0100-4ecf-bd5d-867dd6e0d3ae",
   "metadata": {},
   "outputs": [],
   "source": [
    "def get_file_stem(file):\n",
    "    stem = re.sub('_2024.+','',file)\n",
    "    stem = re.sub('.+/','',stem)\n",
    "    return stem"
   ]
  },
  {
   "cell_type": "code",
   "execution_count": 11,
   "id": "932e2b1d-9e0a-49e7-ac99-da2bc26dba76",
   "metadata": {},
   "outputs": [],
   "source": [
    "def check_previous(file, path):\n",
    "    path_files = os.listdir(path)\n",
    "    path_bases = [get_file_stem(f) for f in path_files]\n",
    "    file_base = get_file_stem(file)\n",
    "    return(file_base in path_bases)"
   ]
  },
  {
   "cell_type": "code",
   "execution_count": null,
   "id": "29d1346c-7ef8-4791-a53f-960621976023",
   "metadata": {},
   "outputs": [
    {
     "name": "stderr",
     "output_type": "stream",
     "text": [
      "/opt/conda/lib/python3.10/site-packages/anndata/_core/anndata.py:183: ImplicitModificationWarning: Transforming to str index.\n",
      "  warnings.warn(\"Transforming to str index.\", ImplicitModificationWarning)\n"
     ]
    },
    {
     "name": "stdout",
     "output_type": "stream",
     "text": [
      "previously analyzed Core CD14 monocyte; skipping.\n"
     ]
    },
    {
     "name": "stderr",
     "output_type": "stream",
     "text": [
      "/opt/conda/lib/python3.10/site-packages/anndata/_core/anndata.py:183: ImplicitModificationWarning: Transforming to str index.\n",
      "  warnings.warn(\"Transforming to str index.\", ImplicitModificationWarning)\n"
     ]
    },
    {
     "name": "stdout",
     "output_type": "stream",
     "text": [
      "ISG+ CD14 monocyte: 307720 cells\n",
      "Normalizing; Finding HVGs; Scaling; PCA; Harmony; "
     ]
    },
    {
     "name": "stderr",
     "output_type": "stream",
     "text": [
      "2024-04-09 22:36:30,159 - harmonypy - INFO - Computing initial centroids with sklearn.KMeans...\n",
      "2024-04-09 22:38:23,044 - harmonypy - INFO - sklearn.KMeans initialization complete.\n"
     ]
    },
    {
     "name": "stdout",
     "output_type": "stream",
     "text": [
      "Neighbors; UMAP; Renormalizing\n",
      "WARNING: adata.X seems to be already log-transformed.\n"
     ]
    },
    {
     "name": "stderr",
     "output_type": "stream",
     "text": [
      "/opt/conda/lib/python3.10/site-packages/anndata/_core/anndata.py:183: ImplicitModificationWarning: Transforming to str index.\n",
      "  warnings.warn(\"Transforming to str index.\", ImplicitModificationWarning)\n"
     ]
    },
    {
     "name": "stdout",
     "output_type": "stream",
     "text": [
      "C1Q+ CD16 monocyte: 29413 cells\n",
      "Normalizing; Finding HVGs; Scaling; PCA; "
     ]
    },
    {
     "name": "stderr",
     "output_type": "stream",
     "text": [
      "2024-04-09 23:02:24,021 - harmonypy - INFO - Computing initial centroids with sklearn.KMeans...\n"
     ]
    },
    {
     "name": "stdout",
     "output_type": "stream",
     "text": [
      "Harmony; "
     ]
    },
    {
     "name": "stderr",
     "output_type": "stream",
     "text": [
      "2024-04-09 23:02:39,371 - harmonypy - INFO - sklearn.KMeans initialization complete.\n"
     ]
    },
    {
     "name": "stdout",
     "output_type": "stream",
     "text": [
      "Neighbors; UMAP; Renormalizing\n",
      "WARNING: adata.X seems to be already log-transformed.\n"
     ]
    },
    {
     "name": "stderr",
     "output_type": "stream",
     "text": [
      "/opt/conda/lib/python3.10/site-packages/anndata/_core/anndata.py:183: ImplicitModificationWarning: Transforming to str index.\n",
      "  warnings.warn(\"Transforming to str index.\", ImplicitModificationWarning)\n"
     ]
    },
    {
     "name": "stdout",
     "output_type": "stream",
     "text": [
      "Intermediate monocyte: 73846 cells\n",
      "Normalizing; Finding HVGs; Scaling; PCA; "
     ]
    },
    {
     "name": "stderr",
     "output_type": "stream",
     "text": [
      "2024-04-09 23:07:00,507 - harmonypy - INFO - Computing initial centroids with sklearn.KMeans...\n"
     ]
    },
    {
     "name": "stdout",
     "output_type": "stream",
     "text": [
      "Harmony; "
     ]
    },
    {
     "name": "stderr",
     "output_type": "stream",
     "text": [
      "2024-04-09 23:07:36,220 - harmonypy - INFO - sklearn.KMeans initialization complete.\n"
     ]
    }
   ],
   "source": [
    "out_h5ads = []\n",
    "for type_group, uuid in h5ad_uuids.items():\n",
    "    adata_path = cache_uuid_path(uuid)\n",
    "    # get L3 types and check for previous processing\n",
    "    adata = sc.read_h5ad(adata_path, backed = 'r')\n",
    "    cell_types = adata.obs['AIFI_L3'].copy()\n",
    "    cell_types = fix_cat_labels(cell_types)\n",
    "    cell_types = cell_types.unique()\n",
    "    \n",
    "    for cell_type in cell_types:\n",
    "        out_type = format_cell_type(cell_type)\n",
    "        if type_group == 'monocyte_marker':\n",
    "            out_type = 'marker-{t}'.format(t = out_type)\n",
    "        \n",
    "        out_h5ad = 'output/diha_AIFI_L3_{t}_{d}.h5ad'.format(t = out_type, d = date.today())\n",
    "        out_csv = 'output/diha_AIFI_L3_{t}_meta_{d}.csv'.format(t = out_type, d = date.today())\n",
    "        out_parquet = 'output/diha_AIFI_L3_{t}_meta_{d}.parquet'.format(t = out_type, d = date.today())\n",
    "        \n",
    "        if check_previous(out_h5ad, 'output/'):\n",
    "            print('previously analyzed {t}; skipping.'.format(t = cell_type))\n",
    "            out_h5ads.append(out_h5ad)\n",
    "            continue\n",
    "        \n",
    "        adata = sc.read_h5ad(adata_path)\n",
    "        adata.obs['AIFI_L3'] = fix_cat_labels(adata.obs['AIFI_L3'])\n",
    "        adata = adata[adata.obs['AIFI_L3'] == cell_type]\n",
    "        print('{t}: {n} cells'.format(t = cell_type, n = adata.shape[0]))\n",
    "\n",
    "        if(adata.shape[0] < 100):\n",
    "            print('Too few cells. Skipping')\n",
    "            continue\n",
    "        \n",
    "        adata = process_adata(adata)\n",
    "        adata.write_h5ad(out_h5ad)\n",
    "        out_h5ads.append(out_h5ad)\n",
    "\n",
    "    cache_dir = re.sub('diha.+','',adata_path)\n",
    "    rm_call = 'rm -r {d}'.format(d = cache_dir)\n",
    "    os.system(rm_call)"
   ]
  },
  {
   "cell_type": "markdown",
   "id": "dc1fd4f3-c05f-4c28-82f2-8a1eb470e542",
   "metadata": {},
   "source": [
    "## Upload L3 h5ad's to HISE\n",
    "\n",
    "Finally, we'll use `hisepy.upload.upload_files()` to send a copy of our output to HISE to use for downstream analysis steps."
   ]
  },
  {
   "cell_type": "code",
   "execution_count": 13,
   "id": "0bc50399-8ccb-4ee7-b0df-7926890fac47",
   "metadata": {},
   "outputs": [],
   "source": [
    "study_space_uuid = 'de025812-5e73-4b3c-9c3b-6d0eac412f2a'\n",
    "title = 'DIHA Non-CD4 or CD8 T separate L3 objects {d}'.format(d = date.today())"
   ]
  },
  {
   "cell_type": "code",
   "execution_count": 14,
   "id": "214ca47e-0368-43b8-935c-d7624d167969",
   "metadata": {},
   "outputs": [
    {
     "data": {
      "text/plain": [
       "['85f54006-7242-4474-bfbb-ae52783d8dd6',\n",
       " 'eb71216b-8f71-4b73-9a5e-1775e1804205',\n",
       " '1ae3bda3-c0f9-4b70-8bb6-eb70ce214abc',\n",
       " '4e5e30b5-d725-4f35-9d5a-92f9d348e77a',\n",
       " 'bd744517-075d-4118-84f8-6a594f555151',\n",
       " 'fa2aea32-d174-422e-9334-436bdb6d3404',\n",
       " '3321e686-0dc2-4370-b06b-9cbaccb7f227',\n",
       " 'fe17ec4f-4b45-4c0c-9eb0-b41162e6ab2b',\n",
       " '4e523f48-d4b7-4445-b681-08e76ed489d7',\n",
       " '91bfb846-8948-4bef-9b59-010d669a3946',\n",
       " '0228d6e0-b5db-4b66-b0f8-b609910a298e',\n",
       " '02958072-3eca-4539-b3fc-53d8b7830ba6']"
      ]
     },
     "execution_count": 14,
     "metadata": {},
     "output_type": "execute_result"
    }
   ],
   "source": [
    "in_files = list(h5ad_uuids.values())\n",
    "in_files"
   ]
  },
  {
   "cell_type": "code",
   "execution_count": 21,
   "id": "e41511d1-1901-4610-885c-33576f1b0f97",
   "metadata": {},
   "outputs": [],
   "source": [
    "output_files = os.listdir('output')\n",
    "out_files = []\n",
    "for f in output_files:\n",
    "    if '.h5ad' in f:\n",
    "        out_files.append('output/' + f)"
   ]
  },
  {
   "cell_type": "code",
   "execution_count": 22,
   "id": "ade76871-5d54-4354-a594-8a0abf807fe8",
   "metadata": {},
   "outputs": [
    {
     "data": {
      "text/plain": [
       "['output/diha_AIFI_L3_cDC1_2024-04-08.h5ad',\n",
       " 'output/diha_AIFI_L3_ASDC_2024-04-08.h5ad',\n",
       " 'output/diha_AIFI_L3_Platelet_2024-04-08.h5ad',\n",
       " 'output/diha_AIFI_L3_Early_memory_B_cell_2024-04-08.h5ad',\n",
       " 'output/diha_AIFI_L3_marker-IL1Bpos_CD14_monocyte_2024-04-09.h5ad',\n",
       " 'output/diha_AIFI_L3_GZMKpos_CD56dim_NK_cell_2024-04-09.h5ad',\n",
       " 'output/diha_AIFI_L3_CD14pos_cDC2_2024-04-08.h5ad',\n",
       " 'output/diha_AIFI_L3_CD27neg_effector_B_cell_2024-04-08.h5ad',\n",
       " 'output/diha_AIFI_L3_CMP_cell_2024-04-09.h5ad',\n",
       " 'output/diha_AIFI_L3_KLRF1neg_effector_Vd1_gdT_2024-04-08.h5ad',\n",
       " 'output/diha_AIFI_L3_Type_2_polarized_memory_B_cell_2024-04-08.h5ad',\n",
       " 'output/diha_AIFI_L3_IL1Bpos_CD14_monocyte_2024-04-08.h5ad',\n",
       " 'output/diha_AIFI_L3_Erythrocyte_2024-04-08.h5ad',\n",
       " 'output/diha_AIFI_L3_CD8_MAIT_2024-04-08.h5ad',\n",
       " 'output/diha_AIFI_L3_Plasma_cell_2024-04-09.h5ad',\n",
       " 'output/diha_AIFI_L3_Core_naive_B_cell_2024-04-08.h5ad',\n",
       " 'output/diha_AIFI_L3_Activated_memory_B_cell_2024-04-08.h5ad',\n",
       " 'output/diha_AIFI_L3_ISGpos_naive_B_cell_2024-04-08.h5ad',\n",
       " 'output/diha_AIFI_L3_Naive_Vd1_gdT_2024-04-08.h5ad',\n",
       " 'output/diha_AIFI_L3_Transitional_B_cell_2024-04-08.h5ad',\n",
       " 'output/diha_AIFI_L3_CD8aa_2024-04-08.h5ad',\n",
       " 'output/diha_AIFI_L3_ASDC_2024-04-09.h5ad',\n",
       " 'output/diha_AIFI_L3_marker-Intermediate_monocyte_2024-04-09.h5ad',\n",
       " 'output/diha_AIFI_L3_CD27pos_effector_B_cell_2024-04-08.h5ad',\n",
       " 'output/diha_AIFI_L3_CD4_MAIT_2024-04-08.h5ad',\n",
       " 'output/diha_AIFI_L3_Core_memory_B_cell_2024-04-08.h5ad',\n",
       " 'output/diha_AIFI_L3_CLP_cell_2024-04-09.h5ad',\n",
       " 'output/diha_AIFI_L3_Proliferating_NK_cell_2024-04-09.h5ad',\n",
       " 'output/diha_AIFI_L3_GZMKpos_Vd2_gdT_2024-04-08.h5ad',\n",
       " 'output/diha_AIFI_L3_Core_naive_CD4_T_cell_2024-04-08.h5ad',\n",
       " 'output/diha_AIFI_L3_ISGpos_MAIT_2024-04-08.h5ad',\n",
       " 'output/diha_AIFI_L3_marker-ISGpos_CD16_monocyte_2024-04-09.h5ad',\n",
       " 'output/diha_AIFI_L3_KLRF1pos_effector_Vd1_gdT_2024-04-08.h5ad',\n",
       " 'output/diha_AIFI_L3_Core_CD16_monocyte_2024-04-08.h5ad',\n",
       " 'output/diha_AIFI_L3_marker-C1Qpos_CD16_monocyte_2024-04-09.h5ad',\n",
       " 'output/diha_AIFI_L3_ISGpos_CD16_monocyte_2024-04-08.h5ad',\n",
       " 'output/diha_AIFI_L3_marker-Core_CD16_monocyte_2024-04-09.h5ad',\n",
       " 'output/diha_AIFI_L3_ISGpos_CD56dim_NK_cell_2024-04-09.h5ad',\n",
       " 'output/diha_AIFI_L3_GZMKneg_CD56dim_NK_cell_2024-04-09.h5ad',\n",
       " 'output/diha_AIFI_L3_ILC_2024-04-09.h5ad',\n",
       " 'output/diha_AIFI_L3_Proliferating_T_cell_2024-04-09.h5ad',\n",
       " 'output/diha_AIFI_L3_DN_T_cell_2024-04-08.h5ad',\n",
       " 'output/diha_AIFI_L3_marker-ISGpos_CD14_monocyte_2024-04-09.h5ad',\n",
       " 'output/diha_AIFI_L3_pDC_2024-04-08.h5ad',\n",
       " 'output/diha_AIFI_L3_CD56bright_NK_cell_2024-04-09.h5ad',\n",
       " 'output/diha_AIFI_L3_C1Qpos_CD16_monocyte_2024-04-08.h5ad',\n",
       " 'output/diha_AIFI_L3_marker-Core_CD14_monocyte_2024-04-09.h5ad',\n",
       " 'output/diha_AIFI_L3_CD95_memory_B_cell_2024-04-08.h5ad',\n",
       " 'output/diha_AIFI_L3_ISGpos_cDC2_2024-04-08.h5ad',\n",
       " 'output/diha_AIFI_L3_Core_CD14_monocyte_2024-04-08.h5ad',\n",
       " 'output/diha_AIFI_L3_ISGpos_CD14_monocyte_2024-04-08.h5ad',\n",
       " 'output/diha_AIFI_L3_HLAnegDRhi_cDC2_2024-04-08.h5ad',\n",
       " 'output/diha_AIFI_L3_BaEoMaP_cell_2024-04-09.h5ad',\n",
       " 'output/diha_AIFI_L3_Intermediate_monocyte_2024-04-08.h5ad',\n",
       " 'output/diha_AIFI_L3_Adaptive_NK_cell_2024-04-09.h5ad',\n",
       " 'output/diha_AIFI_L3_SOX4pos_Vd1_gdT_2024-04-08.h5ad',\n",
       " 'output/diha_AIFI_L3_GZMBpos_Vd2_gdT_2024-04-08.h5ad']"
      ]
     },
     "execution_count": 22,
     "metadata": {},
     "output_type": "execute_result"
    }
   ],
   "source": [
    "out_files"
   ]
  },
  {
   "cell_type": "code",
   "execution_count": 23,
   "id": "28175afa-2657-42c7-9f11-97eb358b3681",
   "metadata": {},
   "outputs": [
    {
     "name": "stdout",
     "output_type": "stream",
     "text": [
      "you are trying to upload file_ids... ['output/diha_AIFI_L3_cDC1_2024-04-08.h5ad', 'output/diha_AIFI_L3_ASDC_2024-04-08.h5ad', 'output/diha_AIFI_L3_Platelet_2024-04-08.h5ad', 'output/diha_AIFI_L3_Early_memory_B_cell_2024-04-08.h5ad', 'output/diha_AIFI_L3_marker-IL1Bpos_CD14_monocyte_2024-04-09.h5ad', 'output/diha_AIFI_L3_GZMKpos_CD56dim_NK_cell_2024-04-09.h5ad', 'output/diha_AIFI_L3_CD14pos_cDC2_2024-04-08.h5ad', 'output/diha_AIFI_L3_CD27neg_effector_B_cell_2024-04-08.h5ad', 'output/diha_AIFI_L3_CMP_cell_2024-04-09.h5ad', 'output/diha_AIFI_L3_KLRF1neg_effector_Vd1_gdT_2024-04-08.h5ad', 'output/diha_AIFI_L3_Type_2_polarized_memory_B_cell_2024-04-08.h5ad', 'output/diha_AIFI_L3_IL1Bpos_CD14_monocyte_2024-04-08.h5ad', 'output/diha_AIFI_L3_Erythrocyte_2024-04-08.h5ad', 'output/diha_AIFI_L3_CD8_MAIT_2024-04-08.h5ad', 'output/diha_AIFI_L3_Plasma_cell_2024-04-09.h5ad', 'output/diha_AIFI_L3_Core_naive_B_cell_2024-04-08.h5ad', 'output/diha_AIFI_L3_Activated_memory_B_cell_2024-04-08.h5ad', 'output/diha_AIFI_L3_ISGpos_naive_B_cell_2024-04-08.h5ad', 'output/diha_AIFI_L3_Naive_Vd1_gdT_2024-04-08.h5ad', 'output/diha_AIFI_L3_Transitional_B_cell_2024-04-08.h5ad', 'output/diha_AIFI_L3_CD8aa_2024-04-08.h5ad', 'output/diha_AIFI_L3_ASDC_2024-04-09.h5ad', 'output/diha_AIFI_L3_marker-Intermediate_monocyte_2024-04-09.h5ad', 'output/diha_AIFI_L3_CD27pos_effector_B_cell_2024-04-08.h5ad', 'output/diha_AIFI_L3_CD4_MAIT_2024-04-08.h5ad', 'output/diha_AIFI_L3_Core_memory_B_cell_2024-04-08.h5ad', 'output/diha_AIFI_L3_CLP_cell_2024-04-09.h5ad', 'output/diha_AIFI_L3_Proliferating_NK_cell_2024-04-09.h5ad', 'output/diha_AIFI_L3_GZMKpos_Vd2_gdT_2024-04-08.h5ad', 'output/diha_AIFI_L3_Core_naive_CD4_T_cell_2024-04-08.h5ad', 'output/diha_AIFI_L3_ISGpos_MAIT_2024-04-08.h5ad', 'output/diha_AIFI_L3_marker-ISGpos_CD16_monocyte_2024-04-09.h5ad', 'output/diha_AIFI_L3_KLRF1pos_effector_Vd1_gdT_2024-04-08.h5ad', 'output/diha_AIFI_L3_Core_CD16_monocyte_2024-04-08.h5ad', 'output/diha_AIFI_L3_marker-C1Qpos_CD16_monocyte_2024-04-09.h5ad', 'output/diha_AIFI_L3_ISGpos_CD16_monocyte_2024-04-08.h5ad', 'output/diha_AIFI_L3_marker-Core_CD16_monocyte_2024-04-09.h5ad', 'output/diha_AIFI_L3_ISGpos_CD56dim_NK_cell_2024-04-09.h5ad', 'output/diha_AIFI_L3_GZMKneg_CD56dim_NK_cell_2024-04-09.h5ad', 'output/diha_AIFI_L3_ILC_2024-04-09.h5ad', 'output/diha_AIFI_L3_Proliferating_T_cell_2024-04-09.h5ad', 'output/diha_AIFI_L3_DN_T_cell_2024-04-08.h5ad', 'output/diha_AIFI_L3_marker-ISGpos_CD14_monocyte_2024-04-09.h5ad', 'output/diha_AIFI_L3_pDC_2024-04-08.h5ad', 'output/diha_AIFI_L3_CD56bright_NK_cell_2024-04-09.h5ad', 'output/diha_AIFI_L3_C1Qpos_CD16_monocyte_2024-04-08.h5ad', 'output/diha_AIFI_L3_marker-Core_CD14_monocyte_2024-04-09.h5ad', 'output/diha_AIFI_L3_CD95_memory_B_cell_2024-04-08.h5ad', 'output/diha_AIFI_L3_ISGpos_cDC2_2024-04-08.h5ad', 'output/diha_AIFI_L3_Core_CD14_monocyte_2024-04-08.h5ad', 'output/diha_AIFI_L3_ISGpos_CD14_monocyte_2024-04-08.h5ad', 'output/diha_AIFI_L3_HLAnegDRhi_cDC2_2024-04-08.h5ad', 'output/diha_AIFI_L3_BaEoMaP_cell_2024-04-09.h5ad', 'output/diha_AIFI_L3_Intermediate_monocyte_2024-04-08.h5ad', 'output/diha_AIFI_L3_Adaptive_NK_cell_2024-04-09.h5ad', 'output/diha_AIFI_L3_SOX4pos_Vd1_gdT_2024-04-08.h5ad', 'output/diha_AIFI_L3_GZMBpos_Vd2_gdT_2024-04-08.h5ad']. Do you truly want to proceed?\n"
     ]
    },
    {
     "name": "stdin",
     "output_type": "stream",
     "text": [
      "(y/n) y\n"
     ]
    },
    {
     "data": {
      "text/plain": [
       "{'trace_id': '379a19c6-6763-4aa0-8f41-6fb5b3281be3',\n",
       " 'files': ['output/diha_AIFI_L3_cDC1_2024-04-08.h5ad',\n",
       "  'output/diha_AIFI_L3_ASDC_2024-04-08.h5ad',\n",
       "  'output/diha_AIFI_L3_Platelet_2024-04-08.h5ad',\n",
       "  'output/diha_AIFI_L3_Early_memory_B_cell_2024-04-08.h5ad',\n",
       "  'output/diha_AIFI_L3_marker-IL1Bpos_CD14_monocyte_2024-04-09.h5ad',\n",
       "  'output/diha_AIFI_L3_GZMKpos_CD56dim_NK_cell_2024-04-09.h5ad',\n",
       "  'output/diha_AIFI_L3_CD14pos_cDC2_2024-04-08.h5ad',\n",
       "  'output/diha_AIFI_L3_CD27neg_effector_B_cell_2024-04-08.h5ad',\n",
       "  'output/diha_AIFI_L3_CMP_cell_2024-04-09.h5ad',\n",
       "  'output/diha_AIFI_L3_KLRF1neg_effector_Vd1_gdT_2024-04-08.h5ad',\n",
       "  'output/diha_AIFI_L3_Type_2_polarized_memory_B_cell_2024-04-08.h5ad',\n",
       "  'output/diha_AIFI_L3_IL1Bpos_CD14_monocyte_2024-04-08.h5ad',\n",
       "  'output/diha_AIFI_L3_Erythrocyte_2024-04-08.h5ad',\n",
       "  'output/diha_AIFI_L3_CD8_MAIT_2024-04-08.h5ad',\n",
       "  'output/diha_AIFI_L3_Plasma_cell_2024-04-09.h5ad',\n",
       "  'output/diha_AIFI_L3_Core_naive_B_cell_2024-04-08.h5ad',\n",
       "  'output/diha_AIFI_L3_Activated_memory_B_cell_2024-04-08.h5ad',\n",
       "  'output/diha_AIFI_L3_ISGpos_naive_B_cell_2024-04-08.h5ad',\n",
       "  'output/diha_AIFI_L3_Naive_Vd1_gdT_2024-04-08.h5ad',\n",
       "  'output/diha_AIFI_L3_Transitional_B_cell_2024-04-08.h5ad',\n",
       "  'output/diha_AIFI_L3_CD8aa_2024-04-08.h5ad',\n",
       "  'output/diha_AIFI_L3_ASDC_2024-04-09.h5ad',\n",
       "  'output/diha_AIFI_L3_marker-Intermediate_monocyte_2024-04-09.h5ad',\n",
       "  'output/diha_AIFI_L3_CD27pos_effector_B_cell_2024-04-08.h5ad',\n",
       "  'output/diha_AIFI_L3_CD4_MAIT_2024-04-08.h5ad',\n",
       "  'output/diha_AIFI_L3_Core_memory_B_cell_2024-04-08.h5ad',\n",
       "  'output/diha_AIFI_L3_CLP_cell_2024-04-09.h5ad',\n",
       "  'output/diha_AIFI_L3_Proliferating_NK_cell_2024-04-09.h5ad',\n",
       "  'output/diha_AIFI_L3_GZMKpos_Vd2_gdT_2024-04-08.h5ad',\n",
       "  'output/diha_AIFI_L3_Core_naive_CD4_T_cell_2024-04-08.h5ad',\n",
       "  'output/diha_AIFI_L3_ISGpos_MAIT_2024-04-08.h5ad',\n",
       "  'output/diha_AIFI_L3_marker-ISGpos_CD16_monocyte_2024-04-09.h5ad',\n",
       "  'output/diha_AIFI_L3_KLRF1pos_effector_Vd1_gdT_2024-04-08.h5ad',\n",
       "  'output/diha_AIFI_L3_Core_CD16_monocyte_2024-04-08.h5ad',\n",
       "  'output/diha_AIFI_L3_marker-C1Qpos_CD16_monocyte_2024-04-09.h5ad',\n",
       "  'output/diha_AIFI_L3_ISGpos_CD16_monocyte_2024-04-08.h5ad',\n",
       "  'output/diha_AIFI_L3_marker-Core_CD16_monocyte_2024-04-09.h5ad',\n",
       "  'output/diha_AIFI_L3_ISGpos_CD56dim_NK_cell_2024-04-09.h5ad',\n",
       "  'output/diha_AIFI_L3_GZMKneg_CD56dim_NK_cell_2024-04-09.h5ad',\n",
       "  'output/diha_AIFI_L3_ILC_2024-04-09.h5ad',\n",
       "  'output/diha_AIFI_L3_Proliferating_T_cell_2024-04-09.h5ad',\n",
       "  'output/diha_AIFI_L3_DN_T_cell_2024-04-08.h5ad',\n",
       "  'output/diha_AIFI_L3_marker-ISGpos_CD14_monocyte_2024-04-09.h5ad',\n",
       "  'output/diha_AIFI_L3_pDC_2024-04-08.h5ad',\n",
       "  'output/diha_AIFI_L3_CD56bright_NK_cell_2024-04-09.h5ad',\n",
       "  'output/diha_AIFI_L3_C1Qpos_CD16_monocyte_2024-04-08.h5ad',\n",
       "  'output/diha_AIFI_L3_marker-Core_CD14_monocyte_2024-04-09.h5ad',\n",
       "  'output/diha_AIFI_L3_CD95_memory_B_cell_2024-04-08.h5ad',\n",
       "  'output/diha_AIFI_L3_ISGpos_cDC2_2024-04-08.h5ad',\n",
       "  'output/diha_AIFI_L3_Core_CD14_monocyte_2024-04-08.h5ad',\n",
       "  'output/diha_AIFI_L3_ISGpos_CD14_monocyte_2024-04-08.h5ad',\n",
       "  'output/diha_AIFI_L3_HLAnegDRhi_cDC2_2024-04-08.h5ad',\n",
       "  'output/diha_AIFI_L3_BaEoMaP_cell_2024-04-09.h5ad',\n",
       "  'output/diha_AIFI_L3_Intermediate_monocyte_2024-04-08.h5ad',\n",
       "  'output/diha_AIFI_L3_Adaptive_NK_cell_2024-04-09.h5ad',\n",
       "  'output/diha_AIFI_L3_SOX4pos_Vd1_gdT_2024-04-08.h5ad',\n",
       "  'output/diha_AIFI_L3_GZMBpos_Vd2_gdT_2024-04-08.h5ad']}"
      ]
     },
     "execution_count": 23,
     "metadata": {},
     "output_type": "execute_result"
    }
   ],
   "source": [
    "hisepy.upload.upload_files(\n",
    "    files = out_files,\n",
    "    study_space_id = study_space_uuid,\n",
    "    title = title,\n",
    "    input_file_ids = in_files\n",
    ")"
   ]
  },
  {
   "cell_type": "code",
   "execution_count": 24,
   "id": "932121fb-c9b5-4620-9e9f-38b7906e73bc",
   "metadata": {},
   "outputs": [
    {
     "data": {
      "text/html": [
       "<details>\n",
       "<summary>Click to view session information</summary>\n",
       "<pre>\n",
       "-----\n",
       "anndata             0.10.3\n",
       "hisepy              0.3.0\n",
       "pandas              2.1.4\n",
       "scanpy              1.9.6\n",
       "session_info        1.0.0\n",
       "-----\n",
       "</pre>\n",
       "<details>\n",
       "<summary>Click to view modules imported as dependencies</summary>\n",
       "<pre>\n",
       "PIL                         10.0.1\n",
       "anyio                       NA\n",
       "arrow                       1.3.0\n",
       "asttokens                   NA\n",
       "attr                        23.2.0\n",
       "attrs                       23.2.0\n",
       "babel                       2.14.0\n",
       "beatrix_jupyterlab          NA\n",
       "brotli                      NA\n",
       "cachetools                  5.3.1\n",
       "certifi                     2024.02.02\n",
       "cffi                        1.16.0\n",
       "charset_normalizer          3.3.2\n",
       "cloudpickle                 2.2.1\n",
       "colorama                    0.4.6\n",
       "comm                        0.1.4\n",
       "cryptography                41.0.7\n",
       "cycler                      0.10.0\n",
       "cython_runtime              NA\n",
       "dateutil                    2.8.2\n",
       "db_dtypes                   1.1.1\n",
       "debugpy                     1.8.0\n",
       "decorator                   5.1.1\n",
       "defusedxml                  0.7.1\n",
       "deprecated                  1.2.14\n",
       "exceptiongroup              1.2.0\n",
       "executing                   2.0.1\n",
       "fastjsonschema              NA\n",
       "fqdn                        NA\n",
       "google                      NA\n",
       "greenlet                    2.0.2\n",
       "grpc                        1.58.0\n",
       "grpc_status                 NA\n",
       "h5py                        3.10.0\n",
       "harmonypy                   NA\n",
       "idna                        3.6\n",
       "igraph                      0.10.8\n",
       "importlib_metadata          NA\n",
       "ipykernel                   6.28.0\n",
       "ipython_genutils            0.2.0\n",
       "ipywidgets                  8.1.1\n",
       "isoduration                 NA\n",
       "jedi                        0.19.1\n",
       "jinja2                      3.1.2\n",
       "joblib                      1.3.2\n",
       "json5                       NA\n",
       "jsonpointer                 2.4\n",
       "jsonschema                  4.20.0\n",
       "jsonschema_specifications   NA\n",
       "jupyter_events              0.9.0\n",
       "jupyter_server              2.12.1\n",
       "jupyterlab_server           2.25.2\n",
       "jwt                         2.8.0\n",
       "kiwisolver                  1.4.5\n",
       "leidenalg                   0.10.1\n",
       "llvmlite                    0.41.0\n",
       "lz4                         4.3.2\n",
       "markupsafe                  2.1.3\n",
       "matplotlib                  3.8.0\n",
       "matplotlib_inline           0.1.6\n",
       "mpl_toolkits                NA\n",
       "mpmath                      1.3.0\n",
       "natsort                     8.4.0\n",
       "nbformat                    5.9.2\n",
       "numba                       0.58.0\n",
       "numpy                       1.24.0\n",
       "opentelemetry               NA\n",
       "overrides                   NA\n",
       "packaging                   23.2\n",
       "parso                       0.8.3\n",
       "pexpect                     4.8.0\n",
       "pickleshare                 0.7.5\n",
       "pkg_resources               NA\n",
       "platformdirs                4.1.0\n",
       "plotly                      5.18.0\n",
       "prettytable                 3.9.0\n",
       "prometheus_client           NA\n",
       "prompt_toolkit              3.0.42\n",
       "proto                       NA\n",
       "psutil                      NA\n",
       "ptyprocess                  0.7.0\n",
       "pure_eval                   0.2.2\n",
       "pyarrow                     13.0.0\n",
       "pycparser                   2.21\n",
       "pydev_ipython               NA\n",
       "pydevconsole                NA\n",
       "pydevd                      2.9.5\n",
       "pydevd_file_utils           NA\n",
       "pydevd_plugins              NA\n",
       "pydevd_tracing              NA\n",
       "pygments                    2.17.2\n",
       "pynndescent                 0.5.11\n",
       "pynvml                      NA\n",
       "pyparsing                   3.1.1\n",
       "pyreadr                     0.5.0\n",
       "pythonjsonlogger            NA\n",
       "pytz                        2023.3.post1\n",
       "referencing                 NA\n",
       "requests                    2.31.0\n",
       "rfc3339_validator           0.1.4\n",
       "rfc3986_validator           0.1.1\n",
       "rpds                        NA\n",
       "scipy                       1.11.4\n",
       "send2trash                  NA\n",
       "shapely                     1.8.5.post1\n",
       "six                         1.16.0\n",
       "sklearn                     1.3.2\n",
       "sniffio                     1.3.0\n",
       "socks                       1.7.1\n",
       "sparse                      0.14.0\n",
       "sql                         NA\n",
       "sqlalchemy                  2.0.21\n",
       "sqlparse                    0.4.4\n",
       "stack_data                  0.6.2\n",
       "sympy                       1.12\n",
       "termcolor                   NA\n",
       "texttable                   1.7.0\n",
       "threadpoolctl               3.2.0\n",
       "torch                       2.1.2+cu121\n",
       "torchgen                    NA\n",
       "tornado                     6.3.3\n",
       "tqdm                        4.66.1\n",
       "traitlets                   5.9.0\n",
       "typing_extensions           NA\n",
       "umap                        0.5.5\n",
       "uri_template                NA\n",
       "urllib3                     1.26.18\n",
       "wcwidth                     0.2.12\n",
       "webcolors                   1.13\n",
       "websocket                   1.7.0\n",
       "wrapt                       1.15.0\n",
       "xarray                      2023.12.0\n",
       "yaml                        6.0.1\n",
       "zipp                        NA\n",
       "zmq                         25.1.2\n",
       "zoneinfo                    NA\n",
       "</pre>\n",
       "</details> <!-- seems like this ends pre, so might as well be explicit -->\n",
       "<pre>\n",
       "-----\n",
       "IPython             8.19.0\n",
       "jupyter_client      8.6.0\n",
       "jupyter_core        5.6.1\n",
       "jupyterlab          4.1.5\n",
       "notebook            6.5.4\n",
       "-----\n",
       "Python 3.10.13 | packaged by conda-forge | (main, Dec 23 2023, 15:36:39) [GCC 12.3.0]\n",
       "Linux-5.15.0-1055-gcp-x86_64-with-glibc2.31\n",
       "-----\n",
       "Session information updated at 2024-04-10 04:19\n",
       "</pre>\n",
       "</details>"
      ],
      "text/plain": [
       "<IPython.core.display.HTML object>"
      ]
     },
     "execution_count": 24,
     "metadata": {},
     "output_type": "execute_result"
    }
   ],
   "source": [
    "import session_info\n",
    "session_info.show()"
   ]
  },
  {
   "cell_type": "code",
   "execution_count": null,
   "id": "3ffd122e-d8d9-429c-9e73-052c18cc9fb3",
   "metadata": {},
   "outputs": [],
   "source": []
  }
 ],
 "metadata": {
  "kernelspec": {
   "display_name": "Python 3 (ipykernel)",
   "language": "python",
   "name": "python3"
  },
  "language_info": {
   "codemirror_mode": {
    "name": "ipython",
    "version": 3
   },
   "file_extension": ".py",
   "mimetype": "text/x-python",
   "name": "python",
   "nbconvert_exporter": "python",
   "pygments_lexer": "ipython3",
   "version": "3.10.13"
  }
 },
 "nbformat": 4,
 "nbformat_minor": 5
}
