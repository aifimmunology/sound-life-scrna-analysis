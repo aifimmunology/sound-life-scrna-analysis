{
 "cells": [
  {
   "cell_type": "markdown",
   "id": "d0ca56fc-c2f4-4b32-9a5e-21b18ef19277",
   "metadata": {},
   "source": [
    "# Cluster filtered cells\n",
    "\n",
    "Now that we've filtered out possible doublets and low-quality cells, we'll re-cluster and re-project the cells within each cell class group to examine our cell type labels.\n",
    "\n",
    "Because this process can take substantial time, we'll split this across 4 notebooks that can be executed in parallel across instances (16 inputs per instance), and parallelize processing within each instance (4 processes at a time)."
   ]
  },
  {
   "cell_type": "markdown",
   "id": "c3cfea70-eaa7-43ef-96b6-21eff2701de0",
   "metadata": {},
   "source": [
    "## Load packages"
   ]
  },
  {
   "cell_type": "code",
   "execution_count": null,
   "id": "a47b07ec-af93-4e45-97ec-5a1055c5f889",
   "metadata": {},
   "outputs": [],
   "source": [
    "import warnings\n",
    "warnings.simplefilter(action='ignore', category=FutureWarning)\n",
    "warnings.simplefilter(action='ignore', category=RuntimeWarning)\n",
    "\n",
    "import concurrent.futures\n",
    "from concurrent.futures import ThreadPoolExecutor\n",
    "from datetime import date\n",
    "import hisepy\n",
    "import os\n",
    "import pandas as pd\n",
    "import scanpy as sc"
   ]
  },
  {
   "cell_type": "code",
   "execution_count": null,
   "id": "0185885c-6633-48eb-8151-f7942d9dbcc1",
   "metadata": {
    "tags": []
   },
   "outputs": [],
   "source": [
    "out_dir = 'output'\n",
    "if not os.path.isdir(out_dir):\n",
    "    os.makedirs(out_dir)"
   ]
  },
  {
   "cell_type": "markdown",
   "id": "b68c9fec-0755-4bcc-a0a8-0b7c900bb705",
   "metadata": {},
   "source": [
    "## Helper functions\n",
    "\n",
    "We'll use these helper functions to read our files stored in HISE, then restore the full set of data, renormalize, and select high variance genes. Then, we'll run PCA and perform leiden clustering, as well as UMAP to visualize the data."
   ]
  },
  {
   "cell_type": "code",
   "execution_count": null,
   "id": "73bbfd3d-d845-4c1e-9afd-bb6d0f045e89",
   "metadata": {},
   "outputs": [],
   "source": [
    "def cache_uuid_path(uuid):\n",
    "    cache_path = '/home/jupyter/cache/{u}'.format(u = uuid)\n",
    "    if not os.path.isdir(cache_path):\n",
    "        hise_res = hisepy.reader.cache_files([uuid])\n",
    "    filename = os.listdir(cache_path)[0]\n",
    "    cache_file = '{p}/{f}'.format(p = cache_path, f = filename)\n",
    "    return cache_file"
   ]
  },
  {
   "cell_type": "code",
   "execution_count": null,
   "id": "c2f7476c-5319-4f67-bb1a-01162ff8b1be",
   "metadata": {},
   "outputs": [],
   "source": [
    "def read_adata_uuid(uuid):\n",
    "    cache_file = cache_uuid_path(uuid)\n",
    "    res = sc.read_h5ad(cache_file)\n",
    "    return res"
   ]
  },
  {
   "cell_type": "code",
   "execution_count": null,
   "id": "50abfe78-9648-440e-b348-8ebf7ba753da",
   "metadata": {},
   "outputs": [],
   "source": [
    "def process_adata(adata):\n",
    "    \n",
    "    # Keep a copy of the raw data\n",
    "    adata = adata.raw.to_adata()\n",
    "    adata.raw = adata\n",
    "\n",
    "    print('Normalizing')\n",
    "    # Normalize and log transform\n",
    "    sc.pp.normalize_total(adata)\n",
    "    sc.pp.log1p(adata)\n",
    "\n",
    "    print('Finding HVGs')\n",
    "    # Restrict downstream steps to variable genes\n",
    "    sc.pp.highly_variable_genes(adata)\n",
    "    adata = adata[:, adata.var_names[adata.var['highly_variable']]].copy()\n",
    "    print(adata.shape)\n",
    "\n",
    "    print('Scaling')\n",
    "    # Scale variable genes\n",
    "    sc.pp.scale(adata)\n",
    "\n",
    "    print('PCA')\n",
    "    # Run PCA\n",
    "    sc.tl.pca(adata, svd_solver = 'arpack')\n",
    "\n",
    "    print('Neighbors')\n",
    "    # Find nearest neighbors\n",
    "    sc.pp.neighbors(\n",
    "        adata, \n",
    "        n_neighbors = 50,\n",
    "        n_pcs = 30\n",
    "    )\n",
    "\n",
    "    print('Leiden')\n",
    "    # Find clusters\n",
    "    sc.tl.leiden(\n",
    "        adata, \n",
    "        resolution = 2, \n",
    "        key_added = 'leiden_2'\n",
    "    )\n",
    "\n",
    "    print('UMAP')\n",
    "    # Run UMAP\n",
    "    sc.tl.umap(adata, min_dist = 0.05)\n",
    "    \n",
    "    print('Renormalizing')\n",
    "    adata = adata.raw.to_adata()\n",
    "    adata.raw = adata\n",
    "\n",
    "    # Normalize and log transform\n",
    "    sc.pp.normalize_total(adata)\n",
    "    sc.pp.log1p(adata)\n",
    "    \n",
    "    return adata"
   ]
  },
  {
   "cell_type": "markdown",
   "id": "635e627e-cd0e-4388-8a70-6f6335319e1a",
   "metadata": {},
   "source": [
    "## Identify files in HISE"
   ]
  },
  {
   "cell_type": "code",
   "execution_count": null,
   "id": "d1167b7b-97bf-4653-88e8-5a850bd34ec5",
   "metadata": {},
   "outputs": [],
   "source": [
    "h5ad_uuids = {\n",
    "    # 'ASDC': '0df777eb-6c6a-4892-89e8-3ab6ebfade89',\n",
    "    # 'BR1_Female_Negative_CD14-monocyte': 'beea5765-b3c0-4db1-a1c2-ada2ef51ee26',\n",
    "    # 'BR1_Female_Negative_CD56dim-NK-cell': '426366d0-fdf7-4ab2-8339-0baefe80d096',\n",
    "    # 'BR1_Female_Negative_Memory-CD4-T-cell': 'a40e7454-4637-4ad7-b222-bd29716aa027',\n",
    "    # 'BR1_Female_Negative_Memory-CD8-T-cell': 'de83b600-3cc6-40ba-acb6-613c12e178ac',\n",
    "    # 'BR1_Female_Negative_Naive-CD4-T-cell': 'b55301f1-2289-45a6-b14d-b1ee31a7f11c',\n",
    "    # 'BR1_Female_Positive_CD14-monocyte': '8496f50f-38f6-4f0d-a50c-0835268c42b5',\n",
    "    # 'BR1_Female_Positive_CD56dim-NK-cell': '8dd11b33-9065-460f-bcea-88a3092bf662',\n",
    "    # 'BR1_Female_Positive_Memory-CD4-T-cell': '8f7afec7-194b-4e7c-9a27-2fa4e47b6085',\n",
    "    # 'BR1_Female_Positive_Memory-CD8-T-cell': 'aa8b8b0f-164f-4fba-8af9-8397d9e67cd7',\n",
    "    # 'BR1_Female_Positive_Naive-CD4-T-cell': '5a50a26e-1a56-4239-ba8e-dc0b8f3ef91d',\n",
    "    # 'BR1_Male_Negative_CD14-monocyte': '6dfc083e-0392-438a-aa79-4b6c79acd55b',\n",
    "    # 'BR1_Male_Negative_CD56dim-NK-cell': '6edf4d9d-f29a-4c7c-bc86-7e87b53ca9f5',\n",
    "    # 'BR1_Male_Negative_Memory-CD4-T-cell': 'cdf5d83f-603d-4089-a5b9-9f04783329d8',\n",
    "    # 'BR1_Male_Negative_Memory-CD8-T-cell': '8cc6a9b1-0ec7-445e-8299-556a4f95cb66',\n",
    "    # 'BR1_Male_Negative_Naive-CD4-T-cell': '9997103a-4f8a-4e00-abc1-61a9674cf01b',\n",
    "    \n",
    "    # 'BR1_Male_Positive_CD14-monocyte': '4f0d6c22-21d5-4410-b603-8b485487f42b',\n",
    "    # 'BR1_Male_Positive_CD56dim-NK-cell': '3788e5c0-5fee-4f6d-b108-77d9da289a7f',\n",
    "    # 'BR1_Male_Positive_Memory-CD4-T-cell': 'f104fa2c-9054-4403-afd4-e17048d93d75',\n",
    "    # 'BR1_Male_Positive_Memory-CD8-T-cell': 'df7c9a0a-3b5e-48d9-91de-2bd424daa44a',\n",
    "    # 'BR1_Male_Positive_Naive-CD4-T-cell': '2aaa8f67-c64b-450c-9037-7a7cbde2c3e0',\n",
    "    # 'BR2_Female_Negative_CD14-monocyte': '2906d91a-c989-4b1d-b343-aea2e23de036',\n",
    "    # 'BR2_Female_Negative_CD56dim-NK-cell': '82b143e9-0dd6-4ad9-b59e-6feb135f5c0c',\n",
    "    # 'BR2_Female_Negative_Memory-CD4-T-cell': '050e56f7-fe83-4196-8fd4-d55292ed5cfa',\n",
    "    # 'BR2_Female_Negative_Memory-CD8-T-cell': 'b8550f9d-b4aa-4ba7-955b-cf556fabb21d',\n",
    "    # 'BR2_Female_Negative_Naive-CD4-T-cell': '82a127b5-7025-41db-8d88-5347055a5268',\n",
    "    # 'BR2_Female_Positive_CD14-monocyte': '42c2b3e1-f3ec-4a44-9137-3db3ead74454',\n",
    "    # 'BR2_Female_Positive_CD56dim-NK-cell': 'eda7be7b-7ba6-4832-83b9-8b210319c078',\n",
    "    # 'BR2_Female_Positive_Memory-CD4-T-cell': '760961f6-4707-48b1-a2f4-33efc816be28',\n",
    "    # 'BR2_Female_Positive_Memory-CD8-T-cell': 'd76d8ee6-6b85-42e4-9974-36c6ef4b0538',\n",
    "    # 'BR2_Female_Positive_Naive-CD4-T-cell': '56630d0b-cdd9-43b0-8da4-9f7227b35190',\n",
    "    # 'BR2_Male_Negative_CD14-monocyte': '47fff457-438f-46ba-ab37-9876bbbb1f18',\n",
    "    \n",
    "    'BR2_Male_Negative_CD56dim-NK-cell': '6dcc8d60-7b43-40f1-90b3-2390d09e4bbc',\n",
    "    'BR2_Male_Negative_Memory-CD4-T-cell': 'ab6f751f-76df-42eb-be88-0315cf2d7c10',\n",
    "    'BR2_Male_Negative_Memory-CD8-T-cell': '10d6ff38-dabd-4439-90e4-28d2c932d81f',\n",
    "    'BR2_Male_Negative_Naive-CD4-T-cell': '22d42b15-1ae2-4b3f-8b6d-39dce427f765',\n",
    "    'BR2_Male_Positive_CD14-monocyte': '41094c89-3ab0-43b8-a683-9b3b5a5b3653',\n",
    "    'BR2_Male_Positive_CD56dim-NK-cell': 'f84657c6-d7df-42f9-9a42-5d3aa2e5c4c2',\n",
    "    'BR2_Male_Positive_Memory-CD4-T-cell': '35215ceb-9dcc-41bd-abaf-1973de95b3d2',\n",
    "    'BR2_Male_Positive_Memory-CD8-T-cell': '37d23649-4670-4ac2-9dd0-e0de0fce573d',\n",
    "    'BR2_Male_Positive_Naive-CD4-T-cell': '87c3b749-c177-4fa1-8747-c8faa4e4859e',\n",
    "    'CD16-monocyte': '39cb92e1-8053-4607-8fe8-a6dd8632b32a',\n",
    "    'CD56bright-NK-cell': 'd4960075-6eba-4d79-9157-5f8259bbeedf',\n",
    "    'CD8aa': 'da603bcc-e5f3-4ede-889f-e055b60d054d',\n",
    "    'cDC1': '8728233c-e99c-4c93-921e-18f56ba72b75',\n",
    "    'cDC2': '74207276-23b2-4943-8c02-02ca4d12473b',\n",
    "    'DN-T-cell': '7c528158-b0c3-473a-9256-54bdaf510d66',\n",
    "    'Effector-B-cell': '6d849b19-68be-4243-807a-9ee59e6c962a',\n",
    "    \n",
    "    # 'Erythrocyte': '2adc98ac-79a8-4d9c-9faf-55e7d81d0adf',\n",
    "    # 'gdT': 'ec9f2e39-a65c-4e1a-b7e8-80b818d06166',\n",
    "    # 'ILC': '4c885520-849a-4ffb-9490-90c7cc3d25df',\n",
    "    # 'Intermediate-monocyte': 'c7bb1b35-03b4-4acb-bb52-b75a0c5efcdf',\n",
    "    # 'MAIT': '35912dbb-1911-45fb-8c20-5e3794b3961b',\n",
    "    # 'Memory-B-cell': '38977bd9-bb58-491d-a293-c8a83585b21a',\n",
    "    # 'Naive-B-cell': 'f1f95172-4746-4632-b4ce-52e36f1328ca',\n",
    "    # 'Naive-CD8-T-cell': 'b9cbc1b4-6e6e-4bfe-a729-7cf5a240f764',\n",
    "    # 'pDC': 'ae861863-fd93-42aa-91d0-7a66c3528831',\n",
    "    # 'Plasma-cell': '982321d2-4b2a-4dc3-b2f7-3c22a8692039',\n",
    "    # 'Platelet': '10bd3fda-ad31-42b3-b440-78ba92e148a9',\n",
    "    # 'Progenitor-cell': '700298cc-b5a9-45c4-97f6-9c15d3a11b24',\n",
    "    # 'Proliferating-NK-cell': 'cc3b4985-3b83-4645-a472-cbf823e46a46',\n",
    "    # 'Proliferating-T-cell': 'd86d1487-e394-4605-bd4f-f0743cb670bf',\n",
    "    # 'Transitional-B-cell': 'a512e0ff-1535-4dfc-b9b4-fd51b7938efd',\n",
    "    # 'Treg': '1a59aa90-eb0e-4250-9ffd-df6b1f801cb0'\n",
    "}"
   ]
  },
  {
   "cell_type": "markdown",
   "id": "05c3f6ac-c708-4ef4-89f8-c7db9e035606",
   "metadata": {},
   "source": [
    "## Process each dataset"
   ]
  },
  {
   "cell_type": "code",
   "execution_count": null,
   "id": "eccb1b79-2072-44d4-b028-e067510c20b7",
   "metadata": {},
   "outputs": [],
   "source": [
    "def process_file(group_name):\n",
    "    print(group_name)\n",
    "    out_file = 'output/diha_{g}_clean_{d}.h5ad'.format(g = group_name, d = date.today())\n",
    "    if os.path.isfile(out_file):\n",
    "        print('Previously filtered {g}; Skipping.'.format(g = group_name))\n",
    "        out_files.append(out_file)\n",
    "    else:\n",
    "        uuid = h5ad_uuids[group_name]\n",
    "        adata = read_adata_uuid(uuid)\n",
    "        adata = process_adata(adata)\n",
    "        adata.write_h5ad(out_file)\n",
    "    return out_file"
   ]
  },
  {
   "cell_type": "code",
   "execution_count": null,
   "id": "96184df6-8e59-4f70-a6c2-cc45ce0201ae",
   "metadata": {
    "tags": []
   },
   "outputs": [],
   "source": [
    "group_names = list(h5ad_uuids.keys())\n",
    "with ThreadPoolExecutor(max_workers = 4) as executor:  \n",
    "    for result in executor.map(process_file, group_names):\n",
    "        out_files.append(result)"
   ]
  },
  {
   "cell_type": "markdown",
   "id": "78149e01-b60f-4db8-bbfe-36029c6e892d",
   "metadata": {},
   "source": [
    "## Upload Cell Type data to HISE\n",
    "\n",
    "Finally, we'll use `hisepy.upload.upload_files()` to send a copy of our output to HISE to use for downstream analysis steps."
   ]
  },
  {
   "cell_type": "code",
   "execution_count": null,
   "id": "9eaf818c-9ba8-4023-8848-003c279eac32",
   "metadata": {},
   "outputs": [],
   "source": [
    "study_space_uuid = 'de025812-5e73-4b3c-9c3b-6d0eac412f2a'\n",
    "title = 'DIHA PBMC AIFI_L2 Clean .h5ad 3 of 4 {d}'.format(d = date.today())"
   ]
  },
  {
   "cell_type": "code",
   "execution_count": null,
   "id": "8e98830d-06a4-4eda-8f2b-6b7c3d5f78f3",
   "metadata": {},
   "outputs": [],
   "source": [
    "in_files = list(h5ad_uuids.values())\n",
    "in_files"
   ]
  },
  {
   "cell_type": "code",
   "execution_count": null,
   "id": "9cc5beb5-5de4-47be-b7ab-c8b1fe82949a",
   "metadata": {},
   "outputs": [],
   "source": [
    "out_files"
   ]
  },
  {
   "cell_type": "code",
   "execution_count": null,
   "id": "f98ece11-6919-4929-a7c7-c653174f7d36",
   "metadata": {},
   "outputs": [],
   "source": [
    "hisepy.upload.upload_files(\n",
    "    files = out_files,\n",
    "    study_space_id = study_space_uuid,\n",
    "    title = title,\n",
    "    input_file_ids = in_files\n",
    ")"
   ]
  },
  {
   "cell_type": "code",
   "execution_count": null,
   "id": "d8d60bf4-3baf-47a4-b041-d020012b2794",
   "metadata": {},
   "outputs": [],
   "source": [
    "import session_info\n",
    "session_info.show()"
   ]
  }
 ],
 "metadata": {
  "kernelspec": {
   "display_name": "Python 3 (ipykernel)",
   "language": "python",
   "name": "python3"
  },
  "language_info": {
   "codemirror_mode": {
    "name": "ipython",
    "version": 3
   },
   "file_extension": ".py",
   "mimetype": "text/x-python",
   "name": "python",
   "nbconvert_exporter": "python",
   "pygments_lexer": "ipython3",
   "version": "3.10.13"
  }
 },
 "nbformat": 4,
 "nbformat_minor": 5
}
