{
 "cells": [
  {
   "cell_type": "markdown",
   "id": "1abccb09-4358-407f-b7fd-ec93eaaad8ef",
   "metadata": {},
   "source": [
    "# Cluster CellTypist L3 B cells"
   ]
  },
  {
   "cell_type": "code",
   "execution_count": 1,
   "id": "cd7ca7f1-1536-4882-b783-76c120c12048",
   "metadata": {},
   "outputs": [],
   "source": [
    "import warnings\n",
    "warnings.simplefilter(action='ignore', category=FutureWarning)\n",
    "warnings.simplefilter(action='ignore', category=RuntimeWarning)\n",
    "\n",
    "from datetime import date\n",
    "import hisepy\n",
    "import os\n",
    "import pandas as pd\n",
    "import re\n",
    "import scanpy as sc"
   ]
  },
  {
   "cell_type": "code",
   "execution_count": 2,
   "id": "4c368ca0-753e-429a-982a-42429fe83c07",
   "metadata": {
    "tags": []
   },
   "outputs": [],
   "source": [
    "out_dir = 'output'\n",
    "if not os.path.isdir(out_dir):\n",
    "    os.makedirs(out_dir)"
   ]
  },
  {
   "cell_type": "markdown",
   "id": "e0b1af18-5e96-4fbf-9517-96d0ce34f0e0",
   "metadata": {},
   "source": [
    "## Helper functions"
   ]
  },
  {
   "cell_type": "code",
   "execution_count": 3,
   "id": "80ef404b-65e9-4fc9-bb48-972ec7f215c4",
   "metadata": {},
   "outputs": [],
   "source": [
    "def cache_uuid_path(uuid):\n",
    "    cache_path = '/home/jupyter/cache/{u}'.format(u = uuid)\n",
    "    if not os.path.isdir(cache_path):\n",
    "        hise_res = hisepy.reader.cache_files([uuid])\n",
    "    filename = os.listdir(cache_path)[0]\n",
    "    cache_file = '{p}/{f}'.format(p = cache_path, f = filename)\n",
    "    return cache_file"
   ]
  },
  {
   "cell_type": "code",
   "execution_count": 4,
   "id": "0e7ec780-f662-468f-9b93-dd6a4e523557",
   "metadata": {},
   "outputs": [],
   "source": [
    "def read_csv_uuid(uuid):\n",
    "    cache_file = cache_uuid_path(uuid)\n",
    "    res = pd.read_csv(cache_file)\n",
    "    return res"
   ]
  },
  {
   "cell_type": "code",
   "execution_count": 5,
   "id": "a9cc0f14-00c2-4fd9-b527-a73e8ec96dc8",
   "metadata": {},
   "outputs": [],
   "source": [
    "def read_adata_uuid(uuid):\n",
    "    cache_file = cache_uuid_path(uuid)\n",
    "    res = sc.read_h5ad(cache_file)\n",
    "    return res"
   ]
  },
  {
   "cell_type": "code",
   "execution_count": 6,
   "id": "70219c26-258b-4dae-9360-fcaeb4f44940",
   "metadata": {},
   "outputs": [],
   "source": [
    "def rm_cache_uuid(uuid):\n",
    "    cache_path = '/home/jupyter/cache/{u}'.format(u = uuid)\n",
    "    rm_call = 'rm -r {d}'.format(d = cache_path)\n",
    "    os.system(rm_call)"
   ]
  },
  {
   "cell_type": "code",
   "execution_count": 7,
   "id": "834aa804-8471-40f9-829d-00e36418629c",
   "metadata": {},
   "outputs": [],
   "source": [
    "def format_cell_type(cell_type):\n",
    "    cell_type = re.sub('\\\\+', 'pos', cell_type)\n",
    "    cell_type = re.sub('-', 'neg', cell_type)\n",
    "    cell_type = re.sub(' ', '_', cell_type)\n",
    "    return cell_type"
   ]
  },
  {
   "cell_type": "code",
   "execution_count": 8,
   "id": "0cdd153f-c1a9-4950-ab24-a38ac3d3b000",
   "metadata": {},
   "outputs": [],
   "source": [
    "def element_id(n = 3):\n",
    "    import periodictable\n",
    "    from random import randrange\n",
    "    rand_el = []\n",
    "    for i in range(n):\n",
    "        el = randrange(0,118)\n",
    "        rand_el.append(periodictable.elements[el].name)\n",
    "    rand_str = '-'.join(rand_el)\n",
    "    return rand_str"
   ]
  },
  {
   "cell_type": "code",
   "execution_count": 9,
   "id": "59698037-3154-4dce-9f68-9ecfa7b4789e",
   "metadata": {},
   "outputs": [],
   "source": [
    "def process_adata(adata, resolution = 2):\n",
    "    \n",
    "    # Keep a copy of the raw data\n",
    "    adata = adata.raw.to_adata()\n",
    "    adata.raw = adata\n",
    "\n",
    "    print('Normalizing', end = \"; \")\n",
    "    # Normalize and log transform\n",
    "    sc.pp.normalize_total(adata)\n",
    "    sc.pp.log1p(adata)\n",
    "\n",
    "    print('Finding HVGs', end = \"; \")\n",
    "    # Restrict downstream steps to variable genes\n",
    "    sc.pp.highly_variable_genes(adata)\n",
    "    adata = adata[:, adata.var_names[adata.var['highly_variable']]].copy()\n",
    "\n",
    "    print('Scaling', end = \"; \")\n",
    "    # Scale variable genes\n",
    "    sc.pp.scale(adata)\n",
    "\n",
    "    print('PCA', end = \"; \")\n",
    "    # Run PCA\n",
    "    sc.tl.pca(adata, svd_solver = 'arpack')\n",
    "    \n",
    "    print('Neighbors', end = \"; \")\n",
    "    # Find nearest neighbors\n",
    "    sc.pp.neighbors(\n",
    "        adata, \n",
    "        n_neighbors = 50,\n",
    "        n_pcs = 30\n",
    "    )\n",
    "\n",
    "    print('Leiden', end = \"; \")\n",
    "    # Find clusters\n",
    "    sc.tl.leiden(\n",
    "        adata, \n",
    "        resolution = resolution, \n",
    "        key_added = 'leiden_{r}'.format(r = resolution),\n",
    "        n_iterations = 2\n",
    "    )\n",
    "\n",
    "    print('UMAP', end = \"; \")\n",
    "    # Run UMAP\n",
    "    sc.tl.umap(adata, min_dist = 0.05)\n",
    "    \n",
    "    print('Renormalizing')\n",
    "    adata = adata.raw.to_adata()\n",
    "    adata.raw = adata\n",
    "\n",
    "    # Normalize and log transform\n",
    "    sc.pp.normalize_total(adata)\n",
    "    sc.pp.log1p(adata)\n",
    "    \n",
    "    return adata"
   ]
  },
  {
   "cell_type": "markdown",
   "id": "bc4fd74b-440c-4574-b2d7-3aaaf97dbd4f",
   "metadata": {},
   "source": [
    "## Read cell type hierarchy"
   ]
  },
  {
   "cell_type": "code",
   "execution_count": 10,
   "id": "06682d25-1208-4f5f-ba6b-63a2bb42eedc",
   "metadata": {},
   "outputs": [],
   "source": [
    "hierarchy_uuid = '1a44252c-8cab-4c8f-92c9-d8f3af633790'\n",
    "hierarchy_df = read_csv_uuid(hierarchy_uuid)"
   ]
  },
  {
   "cell_type": "markdown",
   "id": "0f82df17-0d9b-434a-ac9d-d62db06841c6",
   "metadata": {},
   "source": [
    "## Identify files for use in HISE"
   ]
  },
  {
   "cell_type": "code",
   "execution_count": 11,
   "id": "d4614a15-c423-4f9e-833f-d10140fbcb69",
   "metadata": {},
   "outputs": [],
   "source": [
    "search_id = 'gadolinium-mercury-cadmium'\n",
    "l1_types = ['B cell']"
   ]
  },
  {
   "cell_type": "markdown",
   "id": "200ff57a-32c0-40e6-b657-13d69630a57f",
   "metadata": {},
   "source": [
    "Get L3 cell types in the format used for filenames"
   ]
  },
  {
   "cell_type": "code",
   "execution_count": 13,
   "id": "df9400c0-8c30-457f-97cc-c7321f6f24d6",
   "metadata": {},
   "outputs": [],
   "source": [
    "l3_types = hierarchy_df['AIFI_L3'].loc[hierarchy_df['AIFI_L1'].isin(l1_types)]\n",
    "l3_types = l3_types.tolist()"
   ]
  },
  {
   "cell_type": "code",
   "execution_count": 14,
   "id": "5ebe3ba6-fb42-4f66-bc70-f479c271833d",
   "metadata": {},
   "outputs": [],
   "source": [
    "l3_file_types = [format_cell_type(ct) for ct in l3_types]"
   ]
  },
  {
   "cell_type": "markdown",
   "id": "038f11b1-b626-4fe8-bb44-195cc23ec776",
   "metadata": {},
   "source": [
    "Retrieve files stored in our HISE project store"
   ]
  },
  {
   "cell_type": "code",
   "execution_count": 15,
   "id": "50203c57-11d8-494c-a08d-2b3bf65f3622",
   "metadata": {},
   "outputs": [],
   "source": [
    "ps_df = hisepy.list_files_in_project_store('cohorts')\n",
    "ps_df = ps_df[['id', 'name']]"
   ]
  },
  {
   "cell_type": "markdown",
   "id": "91b19f71-1208-47ce-9071-8cfbb18215dc",
   "metadata": {},
   "source": [
    "Filter for files from the previous notebook using our search_id"
   ]
  },
  {
   "cell_type": "code",
   "execution_count": 16,
   "id": "0c6a12fb-9b15-4135-80f7-b37bddfa9bf3",
   "metadata": {},
   "outputs": [],
   "source": [
    "search_df = ps_df[ps_df['name'].str.contains(search_id)]"
   ]
  },
  {
   "cell_type": "markdown",
   "id": "94457ad7-6e6b-413b-a36f-ba65fa43991f",
   "metadata": {},
   "source": [
    "Filter for cells related to the L1 cell type based on l3_types"
   ]
  },
  {
   "cell_type": "code",
   "execution_count": 21,
   "id": "bbe00df8-e1e8-4863-b607-7b379ff3bc2c",
   "metadata": {},
   "outputs": [],
   "source": [
    "type_string = '|'.join(l3_file_types)\n",
    "type_df = search_df[search_df['name'].str.contains(type_string)]"
   ]
  },
  {
   "cell_type": "code",
   "execution_count": 22,
   "id": "9b2c3c7e-46f4-49fc-9b8f-8081ddc76afb",
   "metadata": {},
   "outputs": [
    {
     "data": {
      "text/html": [
       "<div>\n",
       "<style scoped>\n",
       "    .dataframe tbody tr th:only-of-type {\n",
       "        vertical-align: middle;\n",
       "    }\n",
       "\n",
       "    .dataframe tbody tr th {\n",
       "        vertical-align: top;\n",
       "    }\n",
       "\n",
       "    .dataframe thead th {\n",
       "        text-align: right;\n",
       "    }\n",
       "</style>\n",
       "<table border=\"1\" class=\"dataframe\">\n",
       "  <thead>\n",
       "    <tr style=\"text-align: right;\">\n",
       "      <th></th>\n",
       "      <th>id</th>\n",
       "      <th>name</th>\n",
       "    </tr>\n",
       "  </thead>\n",
       "  <tbody>\n",
       "    <tr>\n",
       "      <th>11925</th>\n",
       "      <td>1b86698f-b7b6-4981-9047-2876b3bec2ca</td>\n",
       "      <td>gadolinium-mercury-cadmium/diha_celltypist_L3_...</td>\n",
       "    </tr>\n",
       "    <tr>\n",
       "      <th>11931</th>\n",
       "      <td>fbd9e245-0f42-4eb8-aaef-a91a800247ab</td>\n",
       "      <td>gadolinium-mercury-cadmium/diha_celltypist_L3_...</td>\n",
       "    </tr>\n",
       "    <tr>\n",
       "      <th>11932</th>\n",
       "      <td>98145ad6-78b8-4a37-9ee6-694f53bc0388</td>\n",
       "      <td>gadolinium-mercury-cadmium/diha_celltypist_L3_...</td>\n",
       "    </tr>\n",
       "    <tr>\n",
       "      <th>11936</th>\n",
       "      <td>9c247835-999c-441f-a0a1-f3987259fcbb</td>\n",
       "      <td>gadolinium-mercury-cadmium/diha_celltypist_L3_...</td>\n",
       "    </tr>\n",
       "    <tr>\n",
       "      <th>11937</th>\n",
       "      <td>64567d64-384e-4d3e-9764-7e5378c104f2</td>\n",
       "      <td>gadolinium-mercury-cadmium/diha_celltypist_L3_...</td>\n",
       "    </tr>\n",
       "    <tr>\n",
       "      <th>11950</th>\n",
       "      <td>78d996ec-b373-465a-9525-ab5604c303ba</td>\n",
       "      <td>gadolinium-mercury-cadmium/diha_celltypist_L3_...</td>\n",
       "    </tr>\n",
       "    <tr>\n",
       "      <th>11959</th>\n",
       "      <td>fc733449-d407-4a21-9a5b-2ee4f5557828</td>\n",
       "      <td>gadolinium-mercury-cadmium/diha_celltypist_L3_...</td>\n",
       "    </tr>\n",
       "    <tr>\n",
       "      <th>11965</th>\n",
       "      <td>31a76abf-0b28-43cc-b605-3f375d9d34fc</td>\n",
       "      <td>gadolinium-mercury-cadmium/diha_celltypist_L3_...</td>\n",
       "    </tr>\n",
       "    <tr>\n",
       "      <th>11970</th>\n",
       "      <td>c7010ad8-4de4-4659-ae41-557add2dd92e</td>\n",
       "      <td>gadolinium-mercury-cadmium/diha_celltypist_L3_...</td>\n",
       "    </tr>\n",
       "    <tr>\n",
       "      <th>11978</th>\n",
       "      <td>ccb68279-73da-4498-b784-96269d3aa2e4</td>\n",
       "      <td>gadolinium-mercury-cadmium/diha_celltypist_L3_...</td>\n",
       "    </tr>\n",
       "    <tr>\n",
       "      <th>11990</th>\n",
       "      <td>41e27829-f53a-4475-b588-b5fdb90f6b49</td>\n",
       "      <td>gadolinium-mercury-cadmium/diha_celltypist_L3_...</td>\n",
       "    </tr>\n",
       "  </tbody>\n",
       "</table>\n",
       "</div>"
      ],
      "text/plain": [
       "                                         id  \\\n",
       "11925  1b86698f-b7b6-4981-9047-2876b3bec2ca   \n",
       "11931  fbd9e245-0f42-4eb8-aaef-a91a800247ab   \n",
       "11932  98145ad6-78b8-4a37-9ee6-694f53bc0388   \n",
       "11936  9c247835-999c-441f-a0a1-f3987259fcbb   \n",
       "11937  64567d64-384e-4d3e-9764-7e5378c104f2   \n",
       "11950  78d996ec-b373-465a-9525-ab5604c303ba   \n",
       "11959  fc733449-d407-4a21-9a5b-2ee4f5557828   \n",
       "11965  31a76abf-0b28-43cc-b605-3f375d9d34fc   \n",
       "11970  c7010ad8-4de4-4659-ae41-557add2dd92e   \n",
       "11978  ccb68279-73da-4498-b784-96269d3aa2e4   \n",
       "11990  41e27829-f53a-4475-b588-b5fdb90f6b49   \n",
       "\n",
       "                                                    name  \n",
       "11925  gadolinium-mercury-cadmium/diha_celltypist_L3_...  \n",
       "11931  gadolinium-mercury-cadmium/diha_celltypist_L3_...  \n",
       "11932  gadolinium-mercury-cadmium/diha_celltypist_L3_...  \n",
       "11936  gadolinium-mercury-cadmium/diha_celltypist_L3_...  \n",
       "11937  gadolinium-mercury-cadmium/diha_celltypist_L3_...  \n",
       "11950  gadolinium-mercury-cadmium/diha_celltypist_L3_...  \n",
       "11959  gadolinium-mercury-cadmium/diha_celltypist_L3_...  \n",
       "11965  gadolinium-mercury-cadmium/diha_celltypist_L3_...  \n",
       "11970  gadolinium-mercury-cadmium/diha_celltypist_L3_...  \n",
       "11978  gadolinium-mercury-cadmium/diha_celltypist_L3_...  \n",
       "11990  gadolinium-mercury-cadmium/diha_celltypist_L3_...  "
      ]
     },
     "execution_count": 22,
     "metadata": {},
     "output_type": "execute_result"
    }
   ],
   "source": [
    "type_df"
   ]
  },
  {
   "cell_type": "markdown",
   "id": "ead87852-825e-4ac7-a35f-97a6bc57fbf0",
   "metadata": {},
   "source": [
    "## Process data for each L3 type"
   ]
  },
  {
   "cell_type": "code",
   "execution_count": null,
   "id": "5811c8b7-8daa-4b4a-b263-6935bb484752",
   "metadata": {},
   "outputs": [],
   "source": [
    "out_files = []\n",
    "for uuid in type_df['id']:\n",
    "    adata = read_adata_uuid(uuid)\n",
    "    \n",
    "    cell_type = adata.obs['AIFI_L3'][0]\n",
    "    out_type = format_cell_type(cell_type)\n",
    "    \n",
    "    out_file = 'output/diha_clustered_celltypist_L3_{ct}_{d}'.format(ct = cell_type, d = date.today())\n",
    "    if os.path.isfile(out_file):\n",
    "        print('Previously processed {ct}; Skipping.'.format(ct = cell_type))\n",
    "        out_files.append(out_file)\n",
    "    else:\n",
    "        adata = process_adata(adata, resolution = 2)\n",
    "        adata.write_h5ad(out_file)\n",
    "\n",
    "    rm_cache_uuid(uuid)"
   ]
  }
 ],
 "metadata": {
  "kernelspec": {
   "display_name": "Python 3 (ipykernel)",
   "language": "python",
   "name": "python3"
  },
  "language_info": {
   "codemirror_mode": {
    "name": "ipython",
    "version": 3
   },
   "file_extension": ".py",
   "mimetype": "text/x-python",
   "name": "python",
   "nbconvert_exporter": "python",
   "pygments_lexer": "ipython3",
   "version": "3.10.13"
  }
 },
 "nbformat": 4,
 "nbformat_minor": 5
}
