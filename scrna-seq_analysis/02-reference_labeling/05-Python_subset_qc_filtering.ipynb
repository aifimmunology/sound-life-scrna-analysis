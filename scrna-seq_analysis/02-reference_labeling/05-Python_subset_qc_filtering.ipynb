{
 "cells": [
  {
   "cell_type": "markdown",
   "id": "b0981b10-658a-49b2-8b00-2a63555847f8",
   "metadata": {},
   "source": [
    "# QC filtering of subsets\n",
    "\n",
    "In this notebook, we apply data QC filters to each of the major sets of data that were compiled. These include removing cells flagged as Doublets by scrublet, and removal of cells with abnormally low or high gene counts."
   ]
  },
  {
   "cell_type": "markdown",
   "id": "1c6f6781-ee82-4c6d-abf7-7777d389ebb3",
   "metadata": {},
   "source": [
    "## Load libraries"
   ]
  },
  {
   "cell_type": "code",
   "execution_count": 1,
   "id": "1dbde216-f187-430e-871f-bc8b4b8bfd09",
   "metadata": {},
   "outputs": [],
   "source": [
    "import warnings\n",
    "warnings.simplefilter(action='ignore', category=FutureWarning)\n",
    "warnings.simplefilter(action='ignore', category=RuntimeWarning)\n",
    "\n",
    "from datetime import date\n",
    "import hisepy\n",
    "import os\n",
    "import pandas as pd\n",
    "import re\n",
    "import scanpy as sc"
   ]
  },
  {
   "cell_type": "markdown",
   "id": "62443f0f-f889-4d19-a8dc-6772402f2ee9",
   "metadata": {},
   "source": [
    "## Set QC Cutoffs"
   ]
  },
  {
   "cell_type": "code",
   "execution_count": 2,
   "id": "0edbe9ec-5ab0-488f-9a5c-dce3f45a509c",
   "metadata": {},
   "outputs": [],
   "source": [
    "max_mito = 10\n",
    "min_genes = 200\n",
    "max_genes = 5000"
   ]
  },
  {
   "cell_type": "markdown",
   "id": "eee2e582-ce1d-4834-8480-c438a2809c0f",
   "metadata": {},
   "source": [
    "## Helper functions\n",
    "\n",
    "These functions make reading HISE .h5ad files straightforward"
   ]
  },
  {
   "cell_type": "code",
   "execution_count": 3,
   "id": "ac9a171c-4156-4c71-8798-c093f02857a5",
   "metadata": {},
   "outputs": [],
   "source": [
    "def cache_uuid_path(uuid):\n",
    "    cache_path = '/home/jupyter/cache/{u}'.format(u = uuid)\n",
    "    if not os.path.isdir(cache_path):\n",
    "        hise_res = hisepy.reader.cache_files([uuid])\n",
    "    filename = os.listdir(cache_path)[0]\n",
    "    cache_file = '{p}/{f}'.format(p = cache_path, f = filename)\n",
    "    return cache_file"
   ]
  },
  {
   "cell_type": "code",
   "execution_count": 4,
   "id": "0e8bc475-1ade-4218-93d5-ddbe47042ce6",
   "metadata": {},
   "outputs": [],
   "source": [
    "def read_adata_uuid(uuid):\n",
    "    cache_file = cache_uuid_path(uuid)\n",
    "    res = sc.read_h5ad(cache_file)\n",
    "    return res"
   ]
  },
  {
   "cell_type": "markdown",
   "id": "8fe56c39-2a28-45e2-bf4d-340c2e8189d8",
   "metadata": {},
   "source": [
    "This function will be used to apply the QC filtering criteria, write the output file, and return counts so we can track what happens at each step."
   ]
  },
  {
   "cell_type": "code",
   "execution_count": 5,
   "id": "a9ac4229-21ef-46ff-8274-ed0d8a8d8f26",
   "metadata": {},
   "outputs": [],
   "source": [
    "def apply_qc_filters(\n",
    "    adata, \n",
    "    group_name, \n",
    "    out_files, \n",
    "    max_mito, \n",
    "    min_genes, \n",
    "    max_genes):\n",
    "\n",
    "    counts = {\n",
    "        'group': group_name\n",
    "    }\n",
    "    \n",
    "    # Filter doublets\n",
    "    counts['n_start'] = [adata.shape[0]]\n",
    "    counts['n_doublets'] = [sum(adata.obs['predicted_doublet'] == True)]\n",
    "    adata = adata[adata.obs['predicted_doublet'] == False]\n",
    "    counts['n_singlets'] = [adata.shape[0]]\n",
    "    \n",
    "    # Compute fraction mitochondrial\n",
    "    adata.var[\"mito\"] = adata.var_names.str.startswith(\"MT-\")\n",
    "    sc.pp.calculate_qc_metrics(adata, qc_vars=[\"mito\"], inplace=True)\n",
    "    \n",
    "    counts['n_high_mito'] = [sum(adata.obs[\"pct_counts_mito\"] >= max_mito)]\n",
    "    adata = adata[adata.obs[\"pct_counts_mito\"] < max_mito]\n",
    "    counts['n_low_mito'] = [adata.shape[0]]\n",
    "\n",
    "    # Remove low gene counts\n",
    "    counts['n_low_genes'] = [sum(adata.obs['n_genes'] <= min_genes)]\n",
    "    adata = adata[adata.obs['n_genes'] > min_genes]\n",
    "    counts['n_above_min_genes'] = [adata.shape[0]]\n",
    "\n",
    "    # Remove high gene counts\n",
    "    counts['n_high_genes'] = [sum(adata.obs['n_genes'] >= max_genes)]\n",
    "    adata = adata[adata.obs['n_genes'] < max_genes]\n",
    "    counts['n_below_max_genes'] = [adata.shape[0]]\n",
    "    \n",
    "    counts['total_removed'] = [adata.shape[0] - counts['n_start'][0]]\n",
    "    counts['n_final'] = [adata.shape[0]]\n",
    "    \n",
    "    adata.write_h5ad(out_files['h5ad_file'])\n",
    "\n",
    "    obs = adata.obs\n",
    "    obs.to_csv(out_files['csv_file'])\n",
    "    obs.to_parquet(out_files['parquet_file'])\n",
    "\n",
    "    counts_df = pd.DataFrame(counts)\n",
    "    \n",
    "    return counts_df"
   ]
  },
  {
   "cell_type": "code",
   "execution_count": 6,
   "id": "38da0629-e7e0-45d9-b481-77d9ef00a653",
   "metadata": {},
   "outputs": [],
   "source": [
    "def element_id(n = 3):\n",
    "    import periodictable\n",
    "    from random import randrange\n",
    "    rand_el = []\n",
    "    for i in range(n):\n",
    "        el = randrange(0,118)\n",
    "        rand_el.append(periodictable.elements[el].name)\n",
    "    rand_str = '-'.join(rand_el)\n",
    "    return rand_str"
   ]
  },
  {
   "cell_type": "markdown",
   "id": "1115bc3b-398d-4537-a0d0-9ddb5d516476",
   "metadata": {},
   "source": [
    "## Identify files for use in HISE"
   ]
  },
  {
   "cell_type": "code",
   "execution_count": 7,
   "id": "c68674ff-b3aa-4eda-b64f-72eb67bf9f0d",
   "metadata": {},
   "outputs": [],
   "source": [
    "search_id = 'cobalt-neptunium-cadmium'"
   ]
  },
  {
   "cell_type": "markdown",
   "id": "28fc4692-a103-4350-b59b-239d79fa560c",
   "metadata": {},
   "source": [
    "Retrieve files stored in our HISE project store"
   ]
  },
  {
   "cell_type": "code",
   "execution_count": 8,
   "id": "90548501-87c7-45dd-8109-0b30a31fc83d",
   "metadata": {},
   "outputs": [],
   "source": [
    "ps_df = hisepy.list_files_in_project_store('cohorts')\n",
    "ps_df = ps_df[['id', 'name']]"
   ]
  },
  {
   "cell_type": "markdown",
   "id": "eef3bc28-fb55-405f-b311-b9a9acdbfc45",
   "metadata": {},
   "source": [
    "Filter for files from the previous notebook using our search_id"
   ]
  },
  {
   "cell_type": "code",
   "execution_count": 9,
   "id": "52062cac-7e01-47ac-9191-2ee162b13f3b",
   "metadata": {},
   "outputs": [],
   "source": [
    "search_df = ps_df[ps_df['name'].str.contains(search_id)]\n",
    "search_df = search_df.sort_values('name')"
   ]
  },
  {
   "cell_type": "markdown",
   "id": "c40733ac-2037-490f-8ac2-a99dcc027f72",
   "metadata": {},
   "source": [
    "Filter for h5ad files"
   ]
  },
  {
   "cell_type": "code",
   "execution_count": 10,
   "id": "6b3b6792-ad43-4668-8a06-9b62a5732cb3",
   "metadata": {},
   "outputs": [],
   "source": [
    "search_df = search_df[search_df['name'].str.contains('.h5ad')]"
   ]
  },
  {
   "cell_type": "code",
   "execution_count": 11,
   "id": "222cc1c3-49a7-41fc-b092-6e5d6c86ec1b",
   "metadata": {},
   "outputs": [],
   "source": [
    "h5ad_uuids = {}\n",
    "for i in range(search_df.shape[0]):\n",
    "    fn = search_df['name'].tolist()[i]\n",
    "    group_name = re.sub('.+_PBMC_', '', fn)\n",
    "    group_name = re.sub('_raw.+', '', group_name)\n",
    "    h5ad_uuids[group_name] = search_df['id'].tolist()[i]"
   ]
  },
  {
   "cell_type": "code",
   "execution_count": 12,
   "id": "05c8def9-9420-4919-be23-22a6639999cc",
   "metadata": {},
   "outputs": [
    {
     "data": {
      "text/plain": [
       "{'BR1_Female_Negative': 'fe206577-9a48-4179-8fa3-b42fc31dd898',\n",
       " 'BR1_Female_Positive': 'ac6c7649-69be-447c-b3f7-c445275a45d6',\n",
       " 'BR1_Male_Negative': 'df446f60-fd6b-4d42-85e3-8992c26b95f0',\n",
       " 'BR1_Male_Positive': '4a324400-a9c7-4301-b3e8-d3fa5b2f047e',\n",
       " 'BR2_Female_Negative': 'fcdd20bd-784c-4b55-8918-3043bf894dcd',\n",
       " 'BR2_Female_Positive': '9de537f2-f790-4015-ba49-7649a507441f',\n",
       " 'BR2_Male_Negative': '6d8a3983-990a-497a-94f0-f80d2e7cbcf3',\n",
       " 'BR2_Male_Positive': 'cf24b253-6e3c-400f-8b67-4c6ed8f6101d'}"
      ]
     },
     "execution_count": 12,
     "metadata": {},
     "output_type": "execute_result"
    }
   ],
   "source": [
    "h5ad_uuids"
   ]
  },
  {
   "cell_type": "code",
   "execution_count": 21,
   "id": "4a588c33-28a0-490f-9b55-7f438b93f0ec",
   "metadata": {},
   "outputs": [],
   "source": [
    "search_id = 'cobalt-neptunium-cadmium'"
   ]
  },
  {
   "cell_type": "markdown",
   "id": "3eae3a95-3aa0-4a07-892a-1d5936e2903c",
   "metadata": {},
   "source": [
    "Retrieve files stored in our HISE project store"
   ]
  },
  {
   "cell_type": "code",
   "execution_count": 22,
   "id": "519013dc-48b4-4225-ac2a-7ee130affb89",
   "metadata": {},
   "outputs": [],
   "source": [
    "ps_df = hisepy.list_files_in_project_store('cohorts')\n",
    "ps_df = ps_df[['id', 'name']]"
   ]
  },
  {
   "cell_type": "markdown",
   "id": "e5e9d4dd-e48f-4962-b814-26033b6b5d96",
   "metadata": {},
   "source": [
    "Filter for files from the previous notebook using our search_id"
   ]
  },
  {
   "cell_type": "code",
   "execution_count": 23,
   "id": "109ed7d8-b01b-4fc1-bbae-27e693267ef2",
   "metadata": {},
   "outputs": [],
   "source": [
    "search_df = ps_df[ps_df['name'].str.contains(search_id)]\n",
    "search_df = search_df.sort_values('name')"
   ]
  },
  {
   "cell_type": "markdown",
   "id": "75a7aaab-5cf5-4b7b-9c27-5d51355f9f66",
   "metadata": {},
   "source": [
    "Select .h5ad files"
   ]
  },
  {
   "cell_type": "code",
   "execution_count": null,
   "id": "5c915858-eaf6-4d8d-94cb-0c322b9b83d8",
   "metadata": {},
   "outputs": [],
   "source": [
    "search_df = ps_df[ps_df['name'].str.contains('.h5ad')]"
   ]
  },
  {
   "cell_type": "code",
   "execution_count": 24,
   "id": "50f7cb8d-3e9f-4566-afea-1cfe16d2d13e",
   "metadata": {},
   "outputs": [
    {
     "data": {
      "text/plain": [
       "['ASDC',\n",
       " 'C1Q+ CD16 monocyte',\n",
       " 'CD14+ cDC2',\n",
       " 'Core CD14 monocyte',\n",
       " 'Core CD16 monocyte',\n",
       " 'HLA-DRhi cDC2',\n",
       " 'IL1B+ CD14 monocyte',\n",
       " 'ISG+ CD14 monocyte',\n",
       " 'ISG+ CD16 monocyte',\n",
       " 'ISG+ cDC2',\n",
       " 'Intermediate monocyte',\n",
       " 'cDC1',\n",
       " 'pDC']"
      ]
     },
     "execution_count": 24,
     "metadata": {},
     "output_type": "execute_result"
    }
   ],
   "source": [
    "search_df['name'].tolist()"
   ]
  },
  {
   "cell_type": "markdown",
   "id": "584e2de5-70e0-43fd-9653-25afc654ae49",
   "metadata": {},
   "source": [
    "## Set up output filenames"
   ]
  },
  {
   "cell_type": "code",
   "execution_count": 13,
   "id": "162fcab9-53b2-495b-9dd3-40e38f77a983",
   "metadata": {
    "tags": []
   },
   "outputs": [],
   "source": [
    "out_dir = 'output'\n",
    "if not os.path.isdir(out_dir):\n",
    "    os.makedirs(out_dir)"
   ]
  },
  {
   "cell_type": "code",
   "execution_count": 14,
   "id": "c97b1186-056e-41f8-b42c-e0276940a0d0",
   "metadata": {},
   "outputs": [],
   "source": [
    "out_files = {}\n",
    "for group_name in h5ad_uuids.keys():\n",
    "    h5ad_file = 'output/diha_PBMC_{g}_qc_labeled_{d}.h5ad'.format(\n",
    "        g = group_name,\n",
    "        d = date.today()\n",
    "    )\n",
    "    csv_file = 'output/diha_PBMC_{g}_qc_labeled_meta_{d}.csv'.format(\n",
    "        g = group_name,\n",
    "        d = date.today()\n",
    "    )\n",
    "    parquet_file = 'output/diha_PBMC_{g}_qc_labeled_meta_{d}.parquet'.format(\n",
    "        g = group_name,\n",
    "        d = date.today()\n",
    "    )\n",
    "    out_files[group_name] = {\n",
    "        'h5ad_file': h5ad_file,\n",
    "        'csv_file': csv_file,\n",
    "        'parquet_file': parquet_file\n",
    "    }"
   ]
  },
  {
   "cell_type": "markdown",
   "id": "4e232ba7-22b8-4045-a62e-6aa122638fc3",
   "metadata": {},
   "source": [
    "## Apply to each subset"
   ]
  },
  {
   "cell_type": "code",
   "execution_count": 15,
   "id": "14c02588-c0ab-4a1d-80b7-bf3d6fe5fbb9",
   "metadata": {},
   "outputs": [
    {
     "name": "stdout",
     "output_type": "stream",
     "text": [
      "BR1_Female_Negative\n",
      "downloading fileID: fe206577-9a48-4179-8fa3-b42fc31dd898\n",
      "Files have been successfully downloaded!\n",
      "(2970934, 33538)\n"
     ]
    },
    {
     "name": "stderr",
     "output_type": "stream",
     "text": [
      "/tmp/ipykernel_314864/3194021507.py:20: ImplicitModificationWarning: Trying to modify attribute `.var` of view, initializing view as actual.\n",
      "  adata.var[\"mito\"] = adata.var_names.str.startswith(\"MT-\")\n"
     ]
    },
    {
     "name": "stdout",
     "output_type": "stream",
     "text": [
      "                 group  n_start  n_doublets  n_singlets  n_high_mito  \\\n",
      "0  BR1_Female_Negative  2970934       23464     2947470       130110   \n",
      "\n",
      "   n_low_mito  n_low_genes  n_above_min_genes  n_high_genes  \\\n",
      "0     2817360         1074            2816286          3355   \n",
      "\n",
      "   n_below_max_genes  total_removed  n_final  \n",
      "0            2812931        -158003  2812931  \n",
      "BR1_Female_Positive\n",
      "downloading fileID: ac6c7649-69be-447c-b3f7-c445275a45d6\n",
      "Files have been successfully downloaded!\n",
      "(1406534, 33538)\n"
     ]
    },
    {
     "name": "stderr",
     "output_type": "stream",
     "text": [
      "/tmp/ipykernel_314864/3194021507.py:20: ImplicitModificationWarning: Trying to modify attribute `.var` of view, initializing view as actual.\n",
      "  adata.var[\"mito\"] = adata.var_names.str.startswith(\"MT-\")\n"
     ]
    },
    {
     "name": "stdout",
     "output_type": "stream",
     "text": [
      "                 group  n_start  n_doublets  n_singlets  n_high_mito  \\\n",
      "0  BR1_Female_Positive  1406534       12027     1394507        81066   \n",
      "\n",
      "   n_low_mito  n_low_genes  n_above_min_genes  n_high_genes  \\\n",
      "0     1313441          161            1313280          1295   \n",
      "\n",
      "   n_below_max_genes  total_removed  n_final  \n",
      "0            1311985         -94549  1311985  \n",
      "BR1_Male_Negative\n",
      "downloading fileID: df446f60-fd6b-4d42-85e3-8992c26b95f0\n",
      "Files have been successfully downloaded!\n",
      "(1947023, 33538)\n"
     ]
    },
    {
     "name": "stderr",
     "output_type": "stream",
     "text": [
      "/tmp/ipykernel_314864/3194021507.py:20: ImplicitModificationWarning: Trying to modify attribute `.var` of view, initializing view as actual.\n",
      "  adata.var[\"mito\"] = adata.var_names.str.startswith(\"MT-\")\n"
     ]
    },
    {
     "name": "stdout",
     "output_type": "stream",
     "text": [
      "               group  n_start  n_doublets  n_singlets  n_high_mito  \\\n",
      "0  BR1_Male_Negative  1947023       23506     1923517        88172   \n",
      "\n",
      "   n_low_mito  n_low_genes  n_above_min_genes  n_high_genes  \\\n",
      "0     1835345          304            1835041          2378   \n",
      "\n",
      "   n_below_max_genes  total_removed  n_final  \n",
      "0            1832663        -114360  1832663  \n",
      "BR1_Male_Positive\n",
      "downloading fileID: 4a324400-a9c7-4301-b3e8-d3fa5b2f047e\n",
      "Files have been successfully downloaded!\n",
      "(1399879, 33538)\n"
     ]
    },
    {
     "name": "stderr",
     "output_type": "stream",
     "text": [
      "/tmp/ipykernel_314864/3194021507.py:20: ImplicitModificationWarning: Trying to modify attribute `.var` of view, initializing view as actual.\n",
      "  adata.var[\"mito\"] = adata.var_names.str.startswith(\"MT-\")\n"
     ]
    },
    {
     "name": "stdout",
     "output_type": "stream",
     "text": [
      "               group  n_start  n_doublets  n_singlets  n_high_mito  \\\n",
      "0  BR1_Male_Positive  1399879       17840     1382039        78649   \n",
      "\n",
      "   n_low_mito  n_low_genes  n_above_min_genes  n_high_genes  \\\n",
      "0     1303390          112            1303278          1979   \n",
      "\n",
      "   n_below_max_genes  total_removed  n_final  \n",
      "0            1301299         -98580  1301299  \n",
      "BR2_Female_Negative\n",
      "downloading fileID: fcdd20bd-784c-4b55-8918-3043bf894dcd\n",
      "Files have been successfully downloaded!\n",
      "(1576589, 33538)\n"
     ]
    },
    {
     "name": "stderr",
     "output_type": "stream",
     "text": [
      "/tmp/ipykernel_314864/3194021507.py:20: ImplicitModificationWarning: Trying to modify attribute `.var` of view, initializing view as actual.\n",
      "  adata.var[\"mito\"] = adata.var_names.str.startswith(\"MT-\")\n"
     ]
    },
    {
     "name": "stdout",
     "output_type": "stream",
     "text": [
      "                 group  n_start  n_doublets  n_singlets  n_high_mito  \\\n",
      "0  BR2_Female_Negative  1576589       12756     1563833        73461   \n",
      "\n",
      "   n_low_mito  n_low_genes  n_above_min_genes  n_high_genes  \\\n",
      "0     1490372         2695            1487677          1606   \n",
      "\n",
      "   n_below_max_genes  total_removed  n_final  \n",
      "0            1486071         -90518  1486071  \n",
      "BR2_Female_Positive\n",
      "downloading fileID: 9de537f2-f790-4015-ba49-7649a507441f\n",
      "Files have been successfully downloaded!\n",
      "(2960616, 33538)\n"
     ]
    },
    {
     "name": "stderr",
     "output_type": "stream",
     "text": [
      "/tmp/ipykernel_314864/3194021507.py:20: ImplicitModificationWarning: Trying to modify attribute `.var` of view, initializing view as actual.\n",
      "  adata.var[\"mito\"] = adata.var_names.str.startswith(\"MT-\")\n"
     ]
    },
    {
     "name": "stdout",
     "output_type": "stream",
     "text": [
      "                 group  n_start  n_doublets  n_singlets  n_high_mito  \\\n",
      "0  BR2_Female_Positive  2960616       28780     2931836       139852   \n",
      "\n",
      "   n_low_mito  n_low_genes  n_above_min_genes  n_high_genes  \\\n",
      "0     2791984          792            2791192          3103   \n",
      "\n",
      "   n_below_max_genes  total_removed  n_final  \n",
      "0            2788089        -172527  2788089  \n",
      "BR2_Male_Negative\n",
      "downloading fileID: 6d8a3983-990a-497a-94f0-f80d2e7cbcf3\n",
      "Files have been successfully downloaded!\n",
      "(2005249, 33538)\n"
     ]
    },
    {
     "name": "stderr",
     "output_type": "stream",
     "text": [
      "/tmp/ipykernel_314864/3194021507.py:20: ImplicitModificationWarning: Trying to modify attribute `.var` of view, initializing view as actual.\n",
      "  adata.var[\"mito\"] = adata.var_names.str.startswith(\"MT-\")\n"
     ]
    },
    {
     "name": "stdout",
     "output_type": "stream",
     "text": [
      "               group  n_start  n_doublets  n_singlets  n_high_mito  \\\n",
      "0  BR2_Male_Negative  2005249       24405     1980844       104165   \n",
      "\n",
      "   n_low_mito  n_low_genes  n_above_min_genes  n_high_genes  \\\n",
      "0     1876679          715            1875964          2979   \n",
      "\n",
      "   n_below_max_genes  total_removed  n_final  \n",
      "0            1872985        -132264  1872985  \n",
      "BR2_Male_Positive\n",
      "downloading fileID: cf24b253-6e3c-400f-8b67-4c6ed8f6101d\n",
      "Files have been successfully downloaded!\n",
      "(1515062, 33538)\n"
     ]
    },
    {
     "name": "stderr",
     "output_type": "stream",
     "text": [
      "/tmp/ipykernel_314864/3194021507.py:20: ImplicitModificationWarning: Trying to modify attribute `.var` of view, initializing view as actual.\n",
      "  adata.var[\"mito\"] = adata.var_names.str.startswith(\"MT-\")\n"
     ]
    },
    {
     "name": "stdout",
     "output_type": "stream",
     "text": [
      "               group  n_start  n_doublets  n_singlets  n_high_mito  \\\n",
      "0  BR2_Male_Positive  1515062       13603     1501459        75107   \n",
      "\n",
      "   n_low_mito  n_low_genes  n_above_min_genes  n_high_genes  \\\n",
      "0     1426352          449            1425903          1904   \n",
      "\n",
      "   n_below_max_genes  total_removed  n_final  \n",
      "0            1423999         -91063  1423999  \n"
     ]
    }
   ],
   "source": [
    "filter_counts = []\n",
    "for group_name, uuid in h5ad_uuids.items():\n",
    "    print(group_name)\n",
    "    group_out_files = out_files[group_name]\n",
    "\n",
    "    adata = read_adata_uuid(uuid)\n",
    "    print(adata.shape)\n",
    "    \n",
    "    group_counts = apply_qc_filters(\n",
    "        adata, \n",
    "        group_name = group_name, \n",
    "        out_files = group_out_files, \n",
    "        max_mito = max_mito, \n",
    "        min_genes = min_genes, \n",
    "        max_genes = max_genes\n",
    "    )\n",
    "    print(group_counts)\n",
    "    \n",
    "    filter_counts.append(group_counts)"
   ]
  },
  {
   "cell_type": "markdown",
   "id": "8abd7112-71e6-4da9-b64c-22324d3bed07",
   "metadata": {},
   "source": [
    "## Assemble all counts"
   ]
  },
  {
   "cell_type": "code",
   "execution_count": 16,
   "id": "f36ec6f6-a3a7-409e-a1f4-bfd7f001b4c5",
   "metadata": {},
   "outputs": [
    {
     "data": {
      "text/html": [
       "<div>\n",
       "<style scoped>\n",
       "    .dataframe tbody tr th:only-of-type {\n",
       "        vertical-align: middle;\n",
       "    }\n",
       "\n",
       "    .dataframe tbody tr th {\n",
       "        vertical-align: top;\n",
       "    }\n",
       "\n",
       "    .dataframe thead th {\n",
       "        text-align: right;\n",
       "    }\n",
       "</style>\n",
       "<table border=\"1\" class=\"dataframe\">\n",
       "  <thead>\n",
       "    <tr style=\"text-align: right;\">\n",
       "      <th></th>\n",
       "      <th>group</th>\n",
       "      <th>n_start</th>\n",
       "      <th>n_doublets</th>\n",
       "      <th>n_singlets</th>\n",
       "      <th>n_high_mito</th>\n",
       "      <th>n_low_mito</th>\n",
       "      <th>n_low_genes</th>\n",
       "      <th>n_above_min_genes</th>\n",
       "      <th>n_high_genes</th>\n",
       "      <th>n_below_max_genes</th>\n",
       "      <th>total_removed</th>\n",
       "      <th>n_final</th>\n",
       "    </tr>\n",
       "  </thead>\n",
       "  <tbody>\n",
       "    <tr>\n",
       "      <th>0</th>\n",
       "      <td>BR1_Female_Negative</td>\n",
       "      <td>2970934</td>\n",
       "      <td>23464</td>\n",
       "      <td>2947470</td>\n",
       "      <td>130110</td>\n",
       "      <td>2817360</td>\n",
       "      <td>1074</td>\n",
       "      <td>2816286</td>\n",
       "      <td>3355</td>\n",
       "      <td>2812931</td>\n",
       "      <td>-158003</td>\n",
       "      <td>2812931</td>\n",
       "    </tr>\n",
       "    <tr>\n",
       "      <th>0</th>\n",
       "      <td>BR1_Female_Positive</td>\n",
       "      <td>1406534</td>\n",
       "      <td>12027</td>\n",
       "      <td>1394507</td>\n",
       "      <td>81066</td>\n",
       "      <td>1313441</td>\n",
       "      <td>161</td>\n",
       "      <td>1313280</td>\n",
       "      <td>1295</td>\n",
       "      <td>1311985</td>\n",
       "      <td>-94549</td>\n",
       "      <td>1311985</td>\n",
       "    </tr>\n",
       "    <tr>\n",
       "      <th>0</th>\n",
       "      <td>BR1_Male_Negative</td>\n",
       "      <td>1947023</td>\n",
       "      <td>23506</td>\n",
       "      <td>1923517</td>\n",
       "      <td>88172</td>\n",
       "      <td>1835345</td>\n",
       "      <td>304</td>\n",
       "      <td>1835041</td>\n",
       "      <td>2378</td>\n",
       "      <td>1832663</td>\n",
       "      <td>-114360</td>\n",
       "      <td>1832663</td>\n",
       "    </tr>\n",
       "    <tr>\n",
       "      <th>0</th>\n",
       "      <td>BR1_Male_Positive</td>\n",
       "      <td>1399879</td>\n",
       "      <td>17840</td>\n",
       "      <td>1382039</td>\n",
       "      <td>78649</td>\n",
       "      <td>1303390</td>\n",
       "      <td>112</td>\n",
       "      <td>1303278</td>\n",
       "      <td>1979</td>\n",
       "      <td>1301299</td>\n",
       "      <td>-98580</td>\n",
       "      <td>1301299</td>\n",
       "    </tr>\n",
       "    <tr>\n",
       "      <th>0</th>\n",
       "      <td>BR2_Female_Negative</td>\n",
       "      <td>1576589</td>\n",
       "      <td>12756</td>\n",
       "      <td>1563833</td>\n",
       "      <td>73461</td>\n",
       "      <td>1490372</td>\n",
       "      <td>2695</td>\n",
       "      <td>1487677</td>\n",
       "      <td>1606</td>\n",
       "      <td>1486071</td>\n",
       "      <td>-90518</td>\n",
       "      <td>1486071</td>\n",
       "    </tr>\n",
       "    <tr>\n",
       "      <th>0</th>\n",
       "      <td>BR2_Female_Positive</td>\n",
       "      <td>2960616</td>\n",
       "      <td>28780</td>\n",
       "      <td>2931836</td>\n",
       "      <td>139852</td>\n",
       "      <td>2791984</td>\n",
       "      <td>792</td>\n",
       "      <td>2791192</td>\n",
       "      <td>3103</td>\n",
       "      <td>2788089</td>\n",
       "      <td>-172527</td>\n",
       "      <td>2788089</td>\n",
       "    </tr>\n",
       "    <tr>\n",
       "      <th>0</th>\n",
       "      <td>BR2_Male_Negative</td>\n",
       "      <td>2005249</td>\n",
       "      <td>24405</td>\n",
       "      <td>1980844</td>\n",
       "      <td>104165</td>\n",
       "      <td>1876679</td>\n",
       "      <td>715</td>\n",
       "      <td>1875964</td>\n",
       "      <td>2979</td>\n",
       "      <td>1872985</td>\n",
       "      <td>-132264</td>\n",
       "      <td>1872985</td>\n",
       "    </tr>\n",
       "    <tr>\n",
       "      <th>0</th>\n",
       "      <td>BR2_Male_Positive</td>\n",
       "      <td>1515062</td>\n",
       "      <td>13603</td>\n",
       "      <td>1501459</td>\n",
       "      <td>75107</td>\n",
       "      <td>1426352</td>\n",
       "      <td>449</td>\n",
       "      <td>1425903</td>\n",
       "      <td>1904</td>\n",
       "      <td>1423999</td>\n",
       "      <td>-91063</td>\n",
       "      <td>1423999</td>\n",
       "    </tr>\n",
       "  </tbody>\n",
       "</table>\n",
       "</div>"
      ],
      "text/plain": [
       "                 group  n_start  n_doublets  n_singlets  n_high_mito  \\\n",
       "0  BR1_Female_Negative  2970934       23464     2947470       130110   \n",
       "0  BR1_Female_Positive  1406534       12027     1394507        81066   \n",
       "0    BR1_Male_Negative  1947023       23506     1923517        88172   \n",
       "0    BR1_Male_Positive  1399879       17840     1382039        78649   \n",
       "0  BR2_Female_Negative  1576589       12756     1563833        73461   \n",
       "0  BR2_Female_Positive  2960616       28780     2931836       139852   \n",
       "0    BR2_Male_Negative  2005249       24405     1980844       104165   \n",
       "0    BR2_Male_Positive  1515062       13603     1501459        75107   \n",
       "\n",
       "   n_low_mito  n_low_genes  n_above_min_genes  n_high_genes  \\\n",
       "0     2817360         1074            2816286          3355   \n",
       "0     1313441          161            1313280          1295   \n",
       "0     1835345          304            1835041          2378   \n",
       "0     1303390          112            1303278          1979   \n",
       "0     1490372         2695            1487677          1606   \n",
       "0     2791984          792            2791192          3103   \n",
       "0     1876679          715            1875964          2979   \n",
       "0     1426352          449            1425903          1904   \n",
       "\n",
       "   n_below_max_genes  total_removed  n_final  \n",
       "0            2812931        -158003  2812931  \n",
       "0            1311985         -94549  1311985  \n",
       "0            1832663        -114360  1832663  \n",
       "0            1301299         -98580  1301299  \n",
       "0            1486071         -90518  1486071  \n",
       "0            2788089        -172527  2788089  \n",
       "0            1872985        -132264  1872985  \n",
       "0            1423999         -91063  1423999  "
      ]
     },
     "execution_count": 16,
     "metadata": {},
     "output_type": "execute_result"
    }
   ],
   "source": [
    "all_filter_counts = pd.concat(filter_counts)\n",
    "all_filter_counts"
   ]
  },
  {
   "cell_type": "code",
   "execution_count": 17,
   "id": "4483ddc3-ccfc-4358-9744-54c727eab916",
   "metadata": {},
   "outputs": [],
   "source": [
    "counts_file = 'output/diha_PBMC_qc_filter_counts_{d}.csv'.format(d = date.today())\n",
    "all_filter_counts.to_csv(counts_file)"
   ]
  },
  {
   "cell_type": "markdown",
   "id": "b73c1f13-4b30-4699-9c27-ce2f45d000e4",
   "metadata": {},
   "source": [
    "## Upload assembled data to HISE\n",
    "\n",
    "Finally, we'll use `hisepy.upload.upload_files()` to send a copy of our output to HISE to use for downstream analysis steps."
   ]
  },
  {
   "cell_type": "code",
   "execution_count": 28,
   "id": "39995645-7460-48f9-976a-0db04e690f6d",
   "metadata": {},
   "outputs": [],
   "source": [
    "study_space_uuid = 'de025812-5e73-4b3c-9c3b-6d0eac412f2a'\n",
    "title = 'DIHA PBMC QC Filtered .h5ad {d}'.format(d = date.today())"
   ]
  },
  {
   "cell_type": "code",
   "execution_count": 29,
   "id": "aee820a2-9046-43b8-8090-0a69d65e1f0a",
   "metadata": {},
   "outputs": [
    {
     "data": {
      "text/plain": [
       "'chromium-meitnerium-europium'"
      ]
     },
     "execution_count": 29,
     "metadata": {},
     "output_type": "execute_result"
    }
   ],
   "source": [
    "search_id = element_id()\n",
    "search_id"
   ]
  },
  {
   "cell_type": "code",
   "execution_count": 30,
   "id": "44cf14fd-6fa6-4957-8c1f-4e3f757f50a6",
   "metadata": {},
   "outputs": [
    {
     "data": {
      "text/plain": [
       "['fe206577-9a48-4179-8fa3-b42fc31dd898',\n",
       " 'ac6c7649-69be-447c-b3f7-c445275a45d6',\n",
       " 'df446f60-fd6b-4d42-85e3-8992c26b95f0',\n",
       " '4a324400-a9c7-4301-b3e8-d3fa5b2f047e',\n",
       " 'fcdd20bd-784c-4b55-8918-3043bf894dcd',\n",
       " '9de537f2-f790-4015-ba49-7649a507441f',\n",
       " '6d8a3983-990a-497a-94f0-f80d2e7cbcf3',\n",
       " 'cf24b253-6e3c-400f-8b67-4c6ed8f6101d']"
      ]
     },
     "execution_count": 30,
     "metadata": {},
     "output_type": "execute_result"
    }
   ],
   "source": [
    "in_files = list(h5ad_uuids.values())\n",
    "in_files"
   ]
  },
  {
   "cell_type": "code",
   "execution_count": 31,
   "id": "350fe37c-95e3-4b78-98bd-5abe08a1f3bd",
   "metadata": {},
   "outputs": [],
   "source": [
    "out_list = []\n",
    "for file_dict in out_files.values():\n",
    "    for fn in file_dict.values():\n",
    "        out_list.append(fn)"
   ]
  },
  {
   "cell_type": "code",
   "execution_count": 32,
   "id": "58c3f7a8-81f6-4ce3-afc3-80fb764385db",
   "metadata": {},
   "outputs": [],
   "source": [
    "out_list = out_list + [counts_file]"
   ]
  },
  {
   "cell_type": "code",
   "execution_count": 33,
   "id": "4b9bf446-8f1a-4bf9-af5c-d5708175ab6f",
   "metadata": {},
   "outputs": [
    {
     "data": {
      "text/plain": [
       "['output/diha_PBMC_BR1_Female_Negative_qc_labeled_2024-04-20.h5ad',\n",
       " 'output/diha_PBMC_BR1_Female_Negative_qc_labeled_meta_2024-04-20.csv',\n",
       " 'output/diha_PBMC_BR1_Female_Negative_qc_labeled_meta_2024-04-20.parquet',\n",
       " 'output/diha_PBMC_BR1_Female_Positive_qc_labeled_2024-04-20.h5ad',\n",
       " 'output/diha_PBMC_BR1_Female_Positive_qc_labeled_meta_2024-04-20.csv',\n",
       " 'output/diha_PBMC_BR1_Female_Positive_qc_labeled_meta_2024-04-20.parquet',\n",
       " 'output/diha_PBMC_BR1_Male_Negative_qc_labeled_2024-04-20.h5ad',\n",
       " 'output/diha_PBMC_BR1_Male_Negative_qc_labeled_meta_2024-04-20.csv',\n",
       " 'output/diha_PBMC_BR1_Male_Negative_qc_labeled_meta_2024-04-20.parquet',\n",
       " 'output/diha_PBMC_BR1_Male_Positive_qc_labeled_2024-04-20.h5ad',\n",
       " 'output/diha_PBMC_BR1_Male_Positive_qc_labeled_meta_2024-04-20.csv',\n",
       " 'output/diha_PBMC_BR1_Male_Positive_qc_labeled_meta_2024-04-20.parquet',\n",
       " 'output/diha_PBMC_BR2_Female_Negative_qc_labeled_2024-04-20.h5ad',\n",
       " 'output/diha_PBMC_BR2_Female_Negative_qc_labeled_meta_2024-04-20.csv',\n",
       " 'output/diha_PBMC_BR2_Female_Negative_qc_labeled_meta_2024-04-20.parquet',\n",
       " 'output/diha_PBMC_BR2_Female_Positive_qc_labeled_2024-04-20.h5ad',\n",
       " 'output/diha_PBMC_BR2_Female_Positive_qc_labeled_meta_2024-04-20.csv',\n",
       " 'output/diha_PBMC_BR2_Female_Positive_qc_labeled_meta_2024-04-20.parquet',\n",
       " 'output/diha_PBMC_BR2_Male_Negative_qc_labeled_2024-04-20.h5ad',\n",
       " 'output/diha_PBMC_BR2_Male_Negative_qc_labeled_meta_2024-04-20.csv',\n",
       " 'output/diha_PBMC_BR2_Male_Negative_qc_labeled_meta_2024-04-20.parquet',\n",
       " 'output/diha_PBMC_BR2_Male_Positive_qc_labeled_2024-04-20.h5ad',\n",
       " 'output/diha_PBMC_BR2_Male_Positive_qc_labeled_meta_2024-04-20.csv',\n",
       " 'output/diha_PBMC_BR2_Male_Positive_qc_labeled_meta_2024-04-20.parquet',\n",
       " 'output/diha_PBMC_qc_filter_counts_2024-04-20.csv']"
      ]
     },
     "execution_count": 33,
     "metadata": {},
     "output_type": "execute_result"
    }
   ],
   "source": [
    "out_list"
   ]
  },
  {
   "cell_type": "code",
   "execution_count": 34,
   "id": "0c25ff3c-438b-4b4e-895a-6f08ad5565a1",
   "metadata": {},
   "outputs": [
    {
     "name": "stdout",
     "output_type": "stream",
     "text": [
      "Cannot determine the current notebook.\n",
      "1) /home/jupyter/08b-Python_label_predictions_celltypist_L3_BR1_Male.ipynb\n",
      "2) /home/jupyter/08a-Python_label_predictions_celltypist_L3_BR1_Female.ipynb\n",
      "3) /home/jupyter/05-Python_subset_qc_filtering.ipynb\n",
      "Please select (1-3) \n"
     ]
    },
    {
     "name": "stdin",
     "output_type": "stream",
     "text": [
      " 3\n"
     ]
    },
    {
     "name": "stdout",
     "output_type": "stream",
     "text": [
      "you are trying to upload file_ids... ['output/diha_PBMC_BR1_Female_Negative_qc_labeled_2024-04-20.h5ad', 'output/diha_PBMC_BR1_Female_Negative_qc_labeled_meta_2024-04-20.csv', 'output/diha_PBMC_BR1_Female_Negative_qc_labeled_meta_2024-04-20.parquet', 'output/diha_PBMC_BR1_Female_Positive_qc_labeled_2024-04-20.h5ad', 'output/diha_PBMC_BR1_Female_Positive_qc_labeled_meta_2024-04-20.csv', 'output/diha_PBMC_BR1_Female_Positive_qc_labeled_meta_2024-04-20.parquet', 'output/diha_PBMC_BR1_Male_Negative_qc_labeled_2024-04-20.h5ad', 'output/diha_PBMC_BR1_Male_Negative_qc_labeled_meta_2024-04-20.csv', 'output/diha_PBMC_BR1_Male_Negative_qc_labeled_meta_2024-04-20.parquet', 'output/diha_PBMC_BR1_Male_Positive_qc_labeled_2024-04-20.h5ad', 'output/diha_PBMC_BR1_Male_Positive_qc_labeled_meta_2024-04-20.csv', 'output/diha_PBMC_BR1_Male_Positive_qc_labeled_meta_2024-04-20.parquet', 'output/diha_PBMC_BR2_Female_Negative_qc_labeled_2024-04-20.h5ad', 'output/diha_PBMC_BR2_Female_Negative_qc_labeled_meta_2024-04-20.csv', 'output/diha_PBMC_BR2_Female_Negative_qc_labeled_meta_2024-04-20.parquet', 'output/diha_PBMC_BR2_Female_Positive_qc_labeled_2024-04-20.h5ad', 'output/diha_PBMC_BR2_Female_Positive_qc_labeled_meta_2024-04-20.csv', 'output/diha_PBMC_BR2_Female_Positive_qc_labeled_meta_2024-04-20.parquet', 'output/diha_PBMC_BR2_Male_Negative_qc_labeled_2024-04-20.h5ad', 'output/diha_PBMC_BR2_Male_Negative_qc_labeled_meta_2024-04-20.csv', 'output/diha_PBMC_BR2_Male_Negative_qc_labeled_meta_2024-04-20.parquet', 'output/diha_PBMC_BR2_Male_Positive_qc_labeled_2024-04-20.h5ad', 'output/diha_PBMC_BR2_Male_Positive_qc_labeled_meta_2024-04-20.csv', 'output/diha_PBMC_BR2_Male_Positive_qc_labeled_meta_2024-04-20.parquet', 'output/diha_PBMC_qc_filter_counts_2024-04-20.csv']. Do you truly want to proceed?\n"
     ]
    },
    {
     "name": "stdin",
     "output_type": "stream",
     "text": [
      "(y/n) y\n"
     ]
    },
    {
     "data": {
      "text/plain": [
       "{'trace_id': 'a1db23df-3706-4e5f-b732-7da532772c34',\n",
       " 'files': ['output/diha_PBMC_BR1_Female_Negative_qc_labeled_2024-04-20.h5ad',\n",
       "  'output/diha_PBMC_BR1_Female_Negative_qc_labeled_meta_2024-04-20.csv',\n",
       "  'output/diha_PBMC_BR1_Female_Negative_qc_labeled_meta_2024-04-20.parquet',\n",
       "  'output/diha_PBMC_BR1_Female_Positive_qc_labeled_2024-04-20.h5ad',\n",
       "  'output/diha_PBMC_BR1_Female_Positive_qc_labeled_meta_2024-04-20.csv',\n",
       "  'output/diha_PBMC_BR1_Female_Positive_qc_labeled_meta_2024-04-20.parquet',\n",
       "  'output/diha_PBMC_BR1_Male_Negative_qc_labeled_2024-04-20.h5ad',\n",
       "  'output/diha_PBMC_BR1_Male_Negative_qc_labeled_meta_2024-04-20.csv',\n",
       "  'output/diha_PBMC_BR1_Male_Negative_qc_labeled_meta_2024-04-20.parquet',\n",
       "  'output/diha_PBMC_BR1_Male_Positive_qc_labeled_2024-04-20.h5ad',\n",
       "  'output/diha_PBMC_BR1_Male_Positive_qc_labeled_meta_2024-04-20.csv',\n",
       "  'output/diha_PBMC_BR1_Male_Positive_qc_labeled_meta_2024-04-20.parquet',\n",
       "  'output/diha_PBMC_BR2_Female_Negative_qc_labeled_2024-04-20.h5ad',\n",
       "  'output/diha_PBMC_BR2_Female_Negative_qc_labeled_meta_2024-04-20.csv',\n",
       "  'output/diha_PBMC_BR2_Female_Negative_qc_labeled_meta_2024-04-20.parquet',\n",
       "  'output/diha_PBMC_BR2_Female_Positive_qc_labeled_2024-04-20.h5ad',\n",
       "  'output/diha_PBMC_BR2_Female_Positive_qc_labeled_meta_2024-04-20.csv',\n",
       "  'output/diha_PBMC_BR2_Female_Positive_qc_labeled_meta_2024-04-20.parquet',\n",
       "  'output/diha_PBMC_BR2_Male_Negative_qc_labeled_2024-04-20.h5ad',\n",
       "  'output/diha_PBMC_BR2_Male_Negative_qc_labeled_meta_2024-04-20.csv',\n",
       "  'output/diha_PBMC_BR2_Male_Negative_qc_labeled_meta_2024-04-20.parquet',\n",
       "  'output/diha_PBMC_BR2_Male_Positive_qc_labeled_2024-04-20.h5ad',\n",
       "  'output/diha_PBMC_BR2_Male_Positive_qc_labeled_meta_2024-04-20.csv',\n",
       "  'output/diha_PBMC_BR2_Male_Positive_qc_labeled_meta_2024-04-20.parquet',\n",
       "  'output/diha_PBMC_qc_filter_counts_2024-04-20.csv']}"
      ]
     },
     "execution_count": 34,
     "metadata": {},
     "output_type": "execute_result"
    }
   ],
   "source": [
    "hisepy.upload.upload_files(\n",
    "    files = out_list,\n",
    "    study_space_id = study_space_uuid,\n",
    "    title = title,\n",
    "    input_file_ids = in_files,\n",
    "    destination = search_id\n",
    ")"
   ]
  },
  {
   "cell_type": "code",
   "execution_count": 35,
   "id": "10681a43-ad7f-4ee3-8f85-6af2ea35f48f",
   "metadata": {},
   "outputs": [
    {
     "data": {
      "text/html": [
       "<details>\n",
       "<summary>Click to view session information</summary>\n",
       "<pre>\n",
       "-----\n",
       "anndata             0.10.3\n",
       "hisepy              0.3.0\n",
       "pandas              2.1.4\n",
       "scanpy              1.9.6\n",
       "session_info        1.0.0\n",
       "-----\n",
       "</pre>\n",
       "<details>\n",
       "<summary>Click to view modules imported as dependencies</summary>\n",
       "<pre>\n",
       "PIL                         10.0.1\n",
       "anyio                       NA\n",
       "arrow                       1.3.0\n",
       "asttokens                   NA\n",
       "attr                        23.2.0\n",
       "attrs                       23.2.0\n",
       "babel                       2.14.0\n",
       "beatrix_jupyterlab          NA\n",
       "brotli                      NA\n",
       "cachetools                  5.3.1\n",
       "certifi                     2024.02.02\n",
       "cffi                        1.16.0\n",
       "charset_normalizer          3.3.2\n",
       "cloudpickle                 2.2.1\n",
       "colorama                    0.4.6\n",
       "comm                        0.1.4\n",
       "cryptography                41.0.7\n",
       "cycler                      0.10.0\n",
       "cython_runtime              NA\n",
       "dateutil                    2.8.2\n",
       "db_dtypes                   1.1.1\n",
       "debugpy                     1.8.0\n",
       "decorator                   5.1.1\n",
       "defusedxml                  0.7.1\n",
       "deprecated                  1.2.14\n",
       "exceptiongroup              1.2.0\n",
       "executing                   2.0.1\n",
       "fastjsonschema              NA\n",
       "fqdn                        NA\n",
       "google                      NA\n",
       "greenlet                    2.0.2\n",
       "grpc                        1.58.0\n",
       "grpc_status                 NA\n",
       "h5py                        3.10.0\n",
       "idna                        3.6\n",
       "igraph                      0.10.8\n",
       "importlib_metadata          NA\n",
       "ipykernel                   6.28.0\n",
       "ipython_genutils            0.2.0\n",
       "ipywidgets                  8.1.1\n",
       "isoduration                 NA\n",
       "jedi                        0.19.1\n",
       "jinja2                      3.1.2\n",
       "joblib                      1.3.2\n",
       "json5                       NA\n",
       "jsonpointer                 2.4\n",
       "jsonschema                  4.20.0\n",
       "jsonschema_specifications   NA\n",
       "jupyter_events              0.9.0\n",
       "jupyter_server              2.12.1\n",
       "jupyterlab_server           2.25.2\n",
       "jwt                         2.8.0\n",
       "kiwisolver                  1.4.5\n",
       "leidenalg                   0.10.1\n",
       "llvmlite                    0.41.0\n",
       "lz4                         4.3.2\n",
       "markupsafe                  2.1.3\n",
       "matplotlib                  3.8.0\n",
       "matplotlib_inline           0.1.6\n",
       "mpl_toolkits                NA\n",
       "mpmath                      1.3.0\n",
       "natsort                     8.4.0\n",
       "nbformat                    5.9.2\n",
       "numba                       0.58.0\n",
       "numpy                       1.25.2\n",
       "opentelemetry               NA\n",
       "overrides                   NA\n",
       "packaging                   23.2\n",
       "parso                       0.8.3\n",
       "periodictable               1.5.2\n",
       "pexpect                     4.8.0\n",
       "pickleshare                 0.7.5\n",
       "pkg_resources               NA\n",
       "platformdirs                4.1.0\n",
       "plotly                      5.18.0\n",
       "prettytable                 3.9.0\n",
       "prometheus_client           NA\n",
       "prompt_toolkit              3.0.42\n",
       "proto                       NA\n",
       "psutil                      NA\n",
       "ptyprocess                  0.7.0\n",
       "pure_eval                   0.2.2\n",
       "pyarrow                     13.0.0\n",
       "pycparser                   2.21\n",
       "pydev_ipython               NA\n",
       "pydevconsole                NA\n",
       "pydevd                      2.9.5\n",
       "pydevd_file_utils           NA\n",
       "pydevd_plugins              NA\n",
       "pydevd_tracing              NA\n",
       "pygments                    2.17.2\n",
       "pynvml                      NA\n",
       "pyparsing                   3.1.1\n",
       "pyreadr                     0.5.0\n",
       "pythonjsonlogger            NA\n",
       "pytz                        2023.3.post1\n",
       "referencing                 NA\n",
       "requests                    2.31.0\n",
       "rfc3339_validator           0.1.4\n",
       "rfc3986_validator           0.1.1\n",
       "rpds                        NA\n",
       "scipy                       1.11.4\n",
       "send2trash                  NA\n",
       "shapely                     1.8.5.post1\n",
       "six                         1.16.0\n",
       "sklearn                     1.3.2\n",
       "sniffio                     1.3.0\n",
       "socks                       1.7.1\n",
       "sparse                      0.14.0\n",
       "sql                         NA\n",
       "sqlalchemy                  2.0.21\n",
       "sqlparse                    0.4.4\n",
       "stack_data                  0.6.2\n",
       "sympy                       1.12\n",
       "termcolor                   NA\n",
       "texttable                   1.7.0\n",
       "threadpoolctl               3.2.0\n",
       "torch                       2.1.2+cu121\n",
       "torchgen                    NA\n",
       "tornado                     6.3.3\n",
       "tqdm                        4.66.1\n",
       "traitlets                   5.9.0\n",
       "typing_extensions           NA\n",
       "uri_template                NA\n",
       "urllib3                     1.26.18\n",
       "wcwidth                     0.2.12\n",
       "webcolors                   1.13\n",
       "websocket                   1.7.0\n",
       "wrapt                       1.15.0\n",
       "xarray                      2023.12.0\n",
       "yaml                        6.0.1\n",
       "zipp                        NA\n",
       "zmq                         25.1.2\n",
       "zoneinfo                    NA\n",
       "zstandard                   0.22.0\n",
       "</pre>\n",
       "</details> <!-- seems like this ends pre, so might as well be explicit -->\n",
       "<pre>\n",
       "-----\n",
       "IPython             8.19.0\n",
       "jupyter_client      8.6.0\n",
       "jupyter_core        5.6.1\n",
       "jupyterlab          4.1.5\n",
       "notebook            6.5.4\n",
       "-----\n",
       "Python 3.10.13 | packaged by conda-forge | (main, Dec 23 2023, 15:36:39) [GCC 12.3.0]\n",
       "Linux-5.15.0-1042-gcp-x86_64-with-glibc2.31\n",
       "-----\n",
       "Session information updated at 2024-04-20 05:48\n",
       "</pre>\n",
       "</details>"
      ],
      "text/plain": [
       "<IPython.core.display.HTML object>"
      ]
     },
     "execution_count": 35,
     "metadata": {},
     "output_type": "execute_result"
    }
   ],
   "source": [
    "import session_info\n",
    "session_info.show()"
   ]
  },
  {
   "cell_type": "code",
   "execution_count": null,
   "id": "49c7598a-0f12-4e43-ac30-5de25642c52a",
   "metadata": {},
   "outputs": [],
   "source": []
  }
 ],
 "metadata": {
  "kernelspec": {
   "display_name": "Python 3 (ipykernel)",
   "language": "python",
   "name": "python3"
  },
  "language_info": {
   "codemirror_mode": {
    "name": "ipython",
    "version": 3
   },
   "file_extension": ".py",
   "mimetype": "text/x-python",
   "name": "python",
   "nbconvert_exporter": "python",
   "pygments_lexer": "ipython3",
   "version": "3.10.13"
  }
 },
 "nbformat": 4,
 "nbformat_minor": 5
}
