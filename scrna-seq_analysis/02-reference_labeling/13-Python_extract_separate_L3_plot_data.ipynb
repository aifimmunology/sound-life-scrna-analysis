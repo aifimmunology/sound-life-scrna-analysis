{
 "cells": [
  {
   "cell_type": "markdown",
   "id": "bbdea1ff-4a46-4fc7-adb1-a5227078e88c",
   "metadata": {},
   "source": [
    "# Retrieve coordinates and metadata for UMAP projections\n",
    "\n",
    "To review our separate AIFI_L3 data, we'll retrieve the .h5ad files generated for each cell type and extract the UMAP coordinates and metadata within each file."
   ]
  },
  {
   "cell_type": "code",
   "execution_count": 18,
   "id": "26de6a71-b685-41f0-9f9e-c4928ab26390",
   "metadata": {},
   "outputs": [],
   "source": [
    "import warnings\n",
    "warnings.simplefilter(action='ignore', category=FutureWarning)\n",
    "warnings.simplefilter(action='ignore', category=RuntimeWarning)\n",
    "\n",
    "from datetime import date\n",
    "import hisepy\n",
    "import os\n",
    "import pandas as pd\n",
    "import scanpy as sc\n",
    "import re\n",
    "import tarfile"
   ]
  },
  {
   "cell_type": "code",
   "execution_count": 2,
   "id": "6c93529a-a3fb-4e61-92a5-0d41a0033cd0",
   "metadata": {},
   "outputs": [],
   "source": [
    "if not os.path.isdir('output'):\n",
    "    os.mkdir('output')"
   ]
  },
  {
   "cell_type": "markdown",
   "id": "19be529e-c370-4c6f-8326-0cde7fbff79a",
   "metadata": {},
   "source": [
    "## Helper functions"
   ]
  },
  {
   "cell_type": "markdown",
   "id": "52151b22-9140-43a1-925a-dc3983403544",
   "metadata": {},
   "source": [
    "Cache based on uuid and return location"
   ]
  },
  {
   "cell_type": "code",
   "execution_count": 3,
   "id": "be86421f-1b2a-466e-ba8d-dc497f9e68d3",
   "metadata": {},
   "outputs": [],
   "source": [
    "def cache_uuid_path(uuid):\n",
    "    cache_path = '/home/jupyter/cache/{u}'.format(u = uuid)\n",
    "    if not os.path.isdir(cache_path):\n",
    "        hise_res = hisepy.reader.cache_files([uuid])\n",
    "    filename = os.listdir(cache_path)[0]\n",
    "    cache_file = '{p}/{f}'.format(p = cache_path, f = filename)\n",
    "    return cache_file"
   ]
  },
  {
   "cell_type": "markdown",
   "id": "ca7e010a-2a55-42ff-8d31-8c975e257107",
   "metadata": {},
   "source": [
    "Connect to a cached .h5ad file in file-backed mode"
   ]
  },
  {
   "cell_type": "code",
   "execution_count": 4,
   "id": "69f8dfb2-0864-422d-9c11-f74ee0742289",
   "metadata": {},
   "outputs": [],
   "source": [
    "def connect_h5ad_uuid(uuid):\n",
    "    cache_file = cache_uuid_path(uuid)\n",
    "    res = sc.read_h5ad(cache_file, backed = 'r')\n",
    "    return res"
   ]
  },
  {
   "cell_type": "markdown",
   "id": "fa6efd29-6f9c-4e1f-9467-f1f01aa8be4a",
   "metadata": {},
   "source": [
    "Read observations and UMAP coordinates and join these results"
   ]
  },
  {
   "cell_type": "code",
   "execution_count": 5,
   "id": "32596072-5fd8-4a9b-8c6c-678a75f2841d",
   "metadata": {},
   "outputs": [],
   "source": [
    "def obs_with_umap(adata):\n",
    "    obs = adata.obs\n",
    "    obs = obs.reset_index()\n",
    "    \n",
    "    umap_mat = adata.obsm['X_umap']\n",
    "    umap_df = pd.DataFrame(umap_mat, columns = ['umap_1', 'umap_2'])\n",
    "    obs['umap_1'] = umap_df['umap_1']\n",
    "    obs['umap_2'] = umap_df['umap_2']\n",
    "    \n",
    "    return obs"
   ]
  },
  {
   "cell_type": "markdown",
   "id": "d220fb90-3ccb-4286-8022-d83be9519eaa",
   "metadata": {},
   "source": [
    "Delete cached files to free up disk space"
   ]
  },
  {
   "cell_type": "code",
   "execution_count": 6,
   "id": "33534e41-6a6f-4660-a872-c7c5483d1c8e",
   "metadata": {},
   "outputs": [],
   "source": [
    "def delete_cache_uuid(uuid):\n",
    "    cache_path = '/home/jupyter/cache/{u}'.format(u = uuid)\n",
    "    os.system('rm -r {p}'.format(p = cache_path))"
   ]
  },
  {
   "cell_type": "markdown",
   "id": "a34a9bf4-8d02-4da0-9a17-d6d26cb53de6",
   "metadata": {},
   "source": [
    "Put all of these steps together for parallel processing"
   ]
  },
  {
   "cell_type": "code",
   "execution_count": 7,
   "id": "d8039788-c9e3-4650-88cf-a6866866f690",
   "metadata": {},
   "outputs": [],
   "source": [
    "def process_uuid(cell_type, uuid):\n",
    "    out_csv = 'output/diha_AIFI_L3_{c}_meta_umap.csv'.format(c = cell_type)\n",
    "    out_parquet = 'output/diha_AIFI_L3_{c}_meta_umap_parquet.parquet'.format(c = cell_type)\n",
    "    print(cell_type)\n",
    "    if not os.path.isfile(out_parquet):\n",
    "        adata = connect_h5ad_uuid(uuid)\n",
    "        out_df = obs_with_umap(adata)\n",
    "    \n",
    "        out_df.to_csv(out_csv)\n",
    "        out_df.to_parquet(out_parquet)\n",
    "        \n",
    "        delete_cache_uuid(uuid)\n",
    "    \n",
    "    return [out_csv, out_parquet]"
   ]
  },
  {
   "cell_type": "markdown",
   "id": "e1580c5f-f516-46ed-ba48-4afa9307c408",
   "metadata": {},
   "source": [
    "This function generates a quasi-random ID to make searching for outputs easier"
   ]
  },
  {
   "cell_type": "code",
   "execution_count": 8,
   "id": "2dd6d2e9-c93b-45c0-addf-5b1e2908c325",
   "metadata": {},
   "outputs": [],
   "source": [
    "def element_id(n = 3):\n",
    "    import periodictable\n",
    "    from random import randrange\n",
    "    rand_el = []\n",
    "    for i in range(n):\n",
    "        el = randrange(0,118)\n",
    "        rand_el.append(periodictable.elements[el].name)\n",
    "    rand_str = '-'.join(rand_el)\n",
    "    return rand_str"
   ]
  },
  {
   "cell_type": "markdown",
   "id": "c6cafb44-76ee-4051-988f-41c55a9d0589",
   "metadata": {},
   "source": [
    "## Identify UUIDs to use from HISE"
   ]
  },
  {
   "cell_type": "code",
   "execution_count": 9,
   "id": "d0078578-b4ef-4b83-a755-2c20f9119f0e",
   "metadata": {},
   "outputs": [],
   "source": [
    "h5ad_uuids = {\n",
    "\t'Activated_memory_B_cell': '6a9c5a03-8204-4ec3-9540-0ca6cc6c2e64',\n",
    "\t'Adaptive_NK_cell': '6dbd1697-983e-4f63-a03e-bb3f12abbb76',\n",
    "\t'ASDC': '42df79a9-3b14-49ac-ad0a-0102b0900945',\n",
    "\t'ASDC': 'ce61e453-80c8-438f-9977-e3d5137186ab',\n",
    "\t'BaEoMaP_cell': 'da2ed67e-6dda-4a94-8718-1ddc79a2571e',\n",
    "\t'C1Qpos_CD16_monocyte': '68987028-f587-4cf6-b055-c624097f7145',\n",
    "\t'CD14pos_cDC2': '20e94e77-aaa4-48f9-bae7-669a10826377',\n",
    "\t'CD27neg_effector_B_cell': 'd73d6756-f497-4fa5-9ced-36be50633961',\n",
    "\t'CD27pos_effector_B_cell': '5fb43708-450a-45a8-8ad2-f945d22f646a',\n",
    "\t'CD4_MAIT': '96fa2384-4241-4f61-a37f-1dfbfe29dba6',\n",
    "\t'CD56bright_NK_cell': '54be0702-f9b0-47c2-99d6-d7723e622696',\n",
    "\t'CD8_MAIT': 'b0e24c46-b4dc-4621-bf80-3ac20eee7c12',\n",
    "\t'CD8aa': '5451f439-2ee7-49ac-a817-461f9e700319',\n",
    "\t'CD95_memory_B_cell': 'a385dabb-0f46-4aa2-aee4-ea3c1a6366f0',\n",
    "\t'cDC1': '47bff835-2572-4edc-b421-63a0adadc2a0',\n",
    "\t'CLP_cell': 'dbe08d85-1697-446a-bf16-6cf99618b870',\n",
    "\t'CM_CD4_T_cell': 'a6196f00-da2e-4261-ae92-9ca30e9057b3',\n",
    "\t'CM_CD8_T_cell': '8d5a6137-0643-40a0-93bb-8e877d67ae83',\n",
    "\t'CMP_cell': '90e382b5-f032-4145-82f4-4f1ece05cc7f',\n",
    "\t'Core_CD14_monocyte': '0f37be28-2311-4e2d-bf26-328d2a8c55a3',\n",
    "\t'Core_CD16_monocyte': '5619713d-47ad-485c-bb8f-c3adbe7d1f18',\n",
    "\t'Core_memory_B_cell': 'a5070a3f-19b3-4b15-84ba-2297791935b7',\n",
    "\t'Core_naive_B_cell': 'c02465d1-1db5-46f1-b645-ec3927bcf302',\n",
    "\t'Core_naive_CD4_T_cell': '2e355ab5-a605-408a-aab5-8532d571929d',\n",
    "\t'Core_naive_CD4_T_cell': '59fe6ac1-2a2b-4926-8a46-356b99f0623c',\n",
    "\t'Core_naive_CD8_T_cell': '289c7887-579c-4ec4-9e84-671dabefa9dd',\n",
    "\t'DN_T_cell': '5b9dcd89-b718-47c2-8849-18f9d3daf18d',\n",
    "\t'Early_memory_B_cell': '53a0fa60-ae88-4583-8296-ae7075397f1d',\n",
    "\t'Erythrocyte': '27292a34-3540-46c1-bc16-71ee2f336d02',\n",
    "\t'GZMBneg_CD27neg_EM_CD4_T_cell': '8f724d05-9397-4110-a8d3-46dba8ef8004',\n",
    "\t'GZMBneg_CD27pos_EM_CD4_T_cell': '9aa686af-4675-4e47-977a-2569e259588f',\n",
    "\t'GZMBpos_Vd2_gdT': '4b3e28a3-7e02-4cb9-9dfd-d77b6f2f1e89',\n",
    "\t'GZMKneg_CD27pos_EM_CD8_T_cell': 'c5a5d117-8cb4-4bdf-9e09-e9d1cd00e985',\n",
    "\t'GZMKneg_CD56dim_NK_cell': 'ef27ec4a-4523-46a5-b203-91ad2c440c78',\n",
    "\t'GZMKpos_CD27pos_EM_CD8_T_cell': '44b790d4-ee6d-436c-b055-f2a21bf120fa',\n",
    "\t'GZMKpos_CD56dim_NK_cell': 'd02ed96b-ebe0-4728-99ba-d93fbba418a8',\n",
    "\t'GZMKpos_memory_CD4_Treg': 'dc45ab2d-a722-482d-bbc1-ff4659e1850c',\n",
    "\t'GZMKpos_Vd2_gdT': '3f4c5821-117a-4383-9425-7a5695beca39',\n",
    "\t'HLAnegDRhi_cDC2': 'd0fe7d73-edeb-4bd5-960c-e675102b523b',\n",
    "\t'IL1Bpos_CD14_monocyte': '51de3fb2-498c-4e22-b64e-e24c0f6c4ec5',\n",
    "\t'ILC': '44829f73-c319-40ed-bf29-3dabeade4035',\n",
    "\t'Intermediate_monocyte': 'cef25006-e06b-492a-9001-189c4f6174c0',\n",
    "\t'ISGpos_CD14_monocyte': 'cccbcc9c-252d-4ec1-a261-70a3d41b948b',\n",
    "\t'ISGpos_CD16_monocyte': 'a2c6765f-870a-4e43-a597-1cc26a941e13',\n",
    "\t'ISGpos_CD56dim_NK_cell': 'ecb371d8-9154-4305-8b18-faf5346eeed3',\n",
    "\t'ISGpos_cDC2': '87bda2e3-fdad-4745-9825-c5965226d811',\n",
    "\t'ISGpos_MAIT': '243fc806-fbbf-446b-a68e-5a40e0cfd3e4',\n",
    "\t'ISGpos_memory_CD4_T_cell': '6d0c8ae2-3b44-4784-ba7b-d54cbd888222',\n",
    "\t'ISGpos_memory_CD8_T_cell': '4d905695-a183-42af-8060-82714cbd517d',\n",
    "\t'ISGpos_naive_B_cell': 'ad6f083a-7e46-44b7-aab0-b12f3b28905b',\n",
    "\t'ISGpos_naive_CD4_T_cell': 'e4184f05-f65e-436a-b2af-6f93cfca724c',\n",
    "\t'ISGpos_naive_CD8_T_cell': 'ccd3ff87-c139-4408-8ae2-d1ed02096b5f',\n",
    "\t'KLRB1pos_memory_CD4_Treg': 'b50f6471-1f5e-47fc-bcc8-59817f3a6baa',\n",
    "\t'KLRB1pos_memory_CD8_Treg': 'ce93f6a2-807c-431d-b37d-ef6a753c0bcf',\n",
    "\t'KLRF1neg_effector_Vd1_gdT': '5cf49f0c-4228-4731-85e4-35632e8a43df',\n",
    "\t'KLRF1neg_GZMBpos_CD27neg_EM_CD8_T_cell': 'cedee7cc-c8a8-4488-9f23-b7ea7ce2b4de',\n",
    "\t'KLRF1neg_GZMBpos_CD27neg_memory_CD4_T_cell': 'c415a983-3ad0-433a-a85e-17528f7d0c2b',\n",
    "\t'KLRF1pos_effector_Vd1_gdT': '107db90d-0a9f-47c6-bfb5-3103fcac6ce1',\n",
    "\t'KLRF1pos_GZMBpos_CD27neg_EM_CD8_T_cell': 'eefec292-eac0-4fcc-9667-2af5c524cb9d',\n",
    "\t'marker-C1Qpos_CD16_monocyte': '86834c52-6ba2-4c80-9fd1-47e16be69259',\n",
    "\t'marker-Core_CD14_monocyte': 'c14f1cb3-c022-48ca-95bb-3b9d5d5ff9b5',\n",
    "\t'marker-Core_CD16_monocyte': 'a48036ff-cb4d-4a91-80bd-9dac514e3996',\n",
    "\t'marker-IL1Bpos_CD14_monocyte': 'bff78464-8c70-485d-a315-89810606261f',\n",
    "\t'marker-Intermediate_monocyte': 'e68a4ef4-f880-4eb7-b9bb-9d2cc46a75bd',\n",
    "\t'marker-ISGpos_CD14_monocyte': '62c6898c-cac7-4268-9317-2824bed358b3',\n",
    "\t'marker-ISGpos_CD16_monocyte': '641992b0-97a1-4f14-b9f3-f4cf59c83873',\n",
    "\t'Memory_CD4_Treg': 'f6409d32-ad76-4aae-9ebc-24b6724e4494',\n",
    "\t'Memory_CD8_Treg': '413922d9-c9d8-4f3f-8cf7-42bc38c8487c',\n",
    "\t'Naive_CD4_Treg': '707ba49d-25ef-44ce-a864-6c356b0afbbd',\n",
    "\t'Naive_Vd1_gdT': '6a8bb896-6e2b-4d11-85b8-6beb1460474c',\n",
    "\t'pDC': '94153b33-f362-49aa-a418-deefbceadbdd',\n",
    "\t'Plasma_cell': 'aa26b6d0-81f9-47e5-b255-8ea6eb9b463d',\n",
    "\t'Platelet': 'a4423569-4c27-43ca-b913-84ff0e5385e8',\n",
    "\t'Proliferating_NK_cell': '45488616-be38-435f-be7d-6494ac19a281',\n",
    "\t'Proliferating_T_cell': '4fc827c9-0e47-47d7-ac05-a59a9b4fb728',\n",
    "\t'SOX4pos_naive_CD4_T_cell': '6919a01a-11a3-41c6-a9ff-8a2ee8b5522e',\n",
    "\t'SOX4pos_naive_CD8_T_cell': '7998f705-6123-4436-8cba-ff031b8748a9',\n",
    "\t'SOX4pos_Vd1_gdT': 'fd1c7490-ae9a-4c4f-92cf-54d8e91e3944',\n",
    "\t'Transitional_B_cell': '2324fa54-0d49-4f0b-913c-7cabfa084b59',\n",
    "\t'Type_2_polarized_memory_B_cell': '04cf8a76-34cd-42f8-9bef-daaf24fdb56c',\n",
    "}"
   ]
  },
  {
   "cell_type": "markdown",
   "id": "48e4a0e9-53bb-414c-b668-ffe635aef06f",
   "metadata": {},
   "source": [
    "## Pull and process files"
   ]
  },
  {
   "cell_type": "code",
   "execution_count": 10,
   "id": "14362d72-1deb-4e53-8b81-774807e8b731",
   "metadata": {},
   "outputs": [
    {
     "name": "stdout",
     "output_type": "stream",
     "text": [
      "Activated_memory_B_cell\n",
      "Adaptive_NK_cell\n",
      "ASDC\n",
      "BaEoMaP_cell\n",
      "C1Qpos_CD16_monocyte\n",
      "CD14pos_cDC2\n",
      "CD27neg_effector_B_cell\n",
      "CD27pos_effector_B_cell\n",
      "CD4_MAIT\n",
      "CD56bright_NK_cell\n",
      "CD8_MAIT\n",
      "CD8aa\n",
      "CD95_memory_B_cell\n",
      "cDC1\n",
      "CLP_cell\n",
      "CM_CD4_T_cell\n",
      "CM_CD8_T_cell\n",
      "CMP_cell\n",
      "Core_CD14_monocyte\n",
      "Core_CD16_monocyte\n",
      "Core_memory_B_cell\n",
      "Core_naive_B_cell\n",
      "Core_naive_CD4_T_cell\n",
      "Core_naive_CD8_T_cell\n",
      "DN_T_cell\n",
      "Early_memory_B_cell\n",
      "Erythrocyte\n",
      "GZMBneg_CD27neg_EM_CD4_T_cell\n",
      "GZMBneg_CD27pos_EM_CD4_T_cell\n",
      "GZMBpos_Vd2_gdT\n",
      "GZMKneg_CD27pos_EM_CD8_T_cell\n",
      "GZMKneg_CD56dim_NK_cell\n",
      "GZMKpos_CD27pos_EM_CD8_T_cell\n",
      "GZMKpos_CD56dim_NK_cell\n",
      "GZMKpos_memory_CD4_Treg\n",
      "GZMKpos_Vd2_gdT\n",
      "HLAnegDRhi_cDC2\n",
      "IL1Bpos_CD14_monocyte\n",
      "ILC\n",
      "Intermediate_monocyte\n",
      "ISGpos_CD14_monocyte\n",
      "ISGpos_CD16_monocyte\n",
      "ISGpos_CD56dim_NK_cell\n",
      "ISGpos_cDC2\n",
      "ISGpos_MAIT\n",
      "ISGpos_memory_CD4_T_cell\n",
      "ISGpos_memory_CD8_T_cell\n",
      "ISGpos_naive_B_cell\n",
      "ISGpos_naive_CD4_T_cell\n",
      "ISGpos_naive_CD8_T_cell\n",
      "KLRB1pos_memory_CD4_Treg\n",
      "KLRB1pos_memory_CD8_Treg\n",
      "KLRF1neg_effector_Vd1_gdT\n",
      "KLRF1neg_GZMBpos_CD27neg_EM_CD8_T_cell\n",
      "KLRF1neg_GZMBpos_CD27neg_memory_CD4_T_cell\n",
      "KLRF1pos_effector_Vd1_gdT\n",
      "KLRF1pos_GZMBpos_CD27neg_EM_CD8_T_cell\n",
      "marker-C1Qpos_CD16_monocyte\n",
      "marker-Core_CD14_monocyte\n",
      "marker-Core_CD16_monocyte\n",
      "marker-IL1Bpos_CD14_monocyte\n",
      "marker-Intermediate_monocyte\n",
      "marker-ISGpos_CD14_monocyte\n",
      "marker-ISGpos_CD16_monocyte\n",
      "Memory_CD4_Treg\n",
      "Memory_CD8_Treg\n",
      "Naive_CD4_Treg\n",
      "Naive_Vd1_gdT\n",
      "pDC\n",
      "Plasma_cell\n",
      "Platelet\n",
      "Proliferating_NK_cell\n",
      "Proliferating_T_cell\n",
      "SOX4pos_naive_CD4_T_cell\n",
      "SOX4pos_naive_CD8_T_cell\n",
      "SOX4pos_Vd1_gdT\n",
      "Transitional_B_cell\n",
      "Type_2_polarized_memory_B_cell\n"
     ]
    }
   ],
   "source": [
    "out_file_list = []\n",
    "for cell_type, uuid in h5ad_uuids.items():\n",
    "    out_file_list.append(process_uuid(cell_type, uuid))"
   ]
  },
  {
   "cell_type": "code",
   "execution_count": 19,
   "id": "5f31990a-8e66-4bc7-928b-4a4e523547e1",
   "metadata": {},
   "outputs": [],
   "source": [
    "out_csvs = []\n",
    "out_parquets = []\n",
    "for sublist in out_file_list:\n",
    "    out_csvs.append(sublist[0])\n",
    "    out_parquets.append(sublist[1])"
   ]
  },
  {
   "cell_type": "code",
   "execution_count": null,
   "id": "3772fbb9-7e43-446d-be17-81d3d390bd7e",
   "metadata": {},
   "outputs": [],
   "source": [
    "csv_tar = 'output/diha_L3_meta_umap_csv_{d}.tar.gz'.format(d = date.today())\n",
    "tar = tarfile.open(csv_tar, 'w:gz')\n",
    "for csv_file in out_csvs:\n",
    "    tar.add(csv_file)\n",
    "tar.close()"
   ]
  },
  {
   "cell_type": "code",
   "execution_count": 26,
   "id": "d9e4d613-9cd3-4ff1-83e6-13b1959c649b",
   "metadata": {},
   "outputs": [],
   "source": [
    "parquet_tar = 'output/diha_L3_meta_umap_parquet_{d}.tar.gz'.format(d = date.today())\n",
    "tar = tarfile.open(parquet_tar, 'w:gz')\n",
    "for parquet_file in out_parquets:\n",
    "    tar.add(parquet_file)\n",
    "tar.close()"
   ]
  },
  {
   "cell_type": "markdown",
   "id": "58f0ca95-9b2b-4188-9d3e-f8909c8b63a7",
   "metadata": {},
   "source": [
    "## Upload Cell Type data to HISE\n",
    "\n",
    "Finally, we'll use `hisepy.upload.upload_files()` to send a copy of our output to HISE to use for downstream analysis steps."
   ]
  },
  {
   "cell_type": "code",
   "execution_count": 27,
   "id": "a65ea1cc-4691-4d26-b7f3-68985ab07ae2",
   "metadata": {},
   "outputs": [],
   "source": [
    "study_space_uuid = 'de025812-5e73-4b3c-9c3b-6d0eac412f2a'\n",
    "title = 'DIHA Separate L3 Plot Data {d}'.format(d = date.today())"
   ]
  },
  {
   "cell_type": "code",
   "execution_count": 28,
   "id": "62dc5ddb-a5f1-461e-8858-4dd942a167b8",
   "metadata": {},
   "outputs": [
    {
     "data": {
      "text/plain": [
       "'xenon-cesium-technetium'"
      ]
     },
     "execution_count": 28,
     "metadata": {},
     "output_type": "execute_result"
    }
   ],
   "source": [
    "search_id = element_id()\n",
    "search_id"
   ]
  },
  {
   "cell_type": "code",
   "execution_count": 29,
   "id": "75a3a4fc-68f1-4b05-9907-3805921e8c63",
   "metadata": {},
   "outputs": [
    {
     "data": {
      "text/plain": [
       "['6a9c5a03-8204-4ec3-9540-0ca6cc6c2e64',\n",
       " '6dbd1697-983e-4f63-a03e-bb3f12abbb76',\n",
       " 'ce61e453-80c8-438f-9977-e3d5137186ab',\n",
       " 'da2ed67e-6dda-4a94-8718-1ddc79a2571e',\n",
       " '68987028-f587-4cf6-b055-c624097f7145',\n",
       " '20e94e77-aaa4-48f9-bae7-669a10826377',\n",
       " 'd73d6756-f497-4fa5-9ced-36be50633961',\n",
       " '5fb43708-450a-45a8-8ad2-f945d22f646a',\n",
       " '96fa2384-4241-4f61-a37f-1dfbfe29dba6',\n",
       " '54be0702-f9b0-47c2-99d6-d7723e622696',\n",
       " 'b0e24c46-b4dc-4621-bf80-3ac20eee7c12',\n",
       " '5451f439-2ee7-49ac-a817-461f9e700319',\n",
       " 'a385dabb-0f46-4aa2-aee4-ea3c1a6366f0',\n",
       " '47bff835-2572-4edc-b421-63a0adadc2a0',\n",
       " 'dbe08d85-1697-446a-bf16-6cf99618b870',\n",
       " 'a6196f00-da2e-4261-ae92-9ca30e9057b3',\n",
       " '8d5a6137-0643-40a0-93bb-8e877d67ae83',\n",
       " '90e382b5-f032-4145-82f4-4f1ece05cc7f',\n",
       " '0f37be28-2311-4e2d-bf26-328d2a8c55a3',\n",
       " '5619713d-47ad-485c-bb8f-c3adbe7d1f18',\n",
       " 'a5070a3f-19b3-4b15-84ba-2297791935b7',\n",
       " 'c02465d1-1db5-46f1-b645-ec3927bcf302',\n",
       " '59fe6ac1-2a2b-4926-8a46-356b99f0623c',\n",
       " '289c7887-579c-4ec4-9e84-671dabefa9dd',\n",
       " '5b9dcd89-b718-47c2-8849-18f9d3daf18d',\n",
       " '53a0fa60-ae88-4583-8296-ae7075397f1d',\n",
       " '27292a34-3540-46c1-bc16-71ee2f336d02',\n",
       " '8f724d05-9397-4110-a8d3-46dba8ef8004',\n",
       " '9aa686af-4675-4e47-977a-2569e259588f',\n",
       " '4b3e28a3-7e02-4cb9-9dfd-d77b6f2f1e89',\n",
       " 'c5a5d117-8cb4-4bdf-9e09-e9d1cd00e985',\n",
       " 'ef27ec4a-4523-46a5-b203-91ad2c440c78',\n",
       " '44b790d4-ee6d-436c-b055-f2a21bf120fa',\n",
       " 'd02ed96b-ebe0-4728-99ba-d93fbba418a8',\n",
       " 'dc45ab2d-a722-482d-bbc1-ff4659e1850c',\n",
       " '3f4c5821-117a-4383-9425-7a5695beca39',\n",
       " 'd0fe7d73-edeb-4bd5-960c-e675102b523b',\n",
       " '51de3fb2-498c-4e22-b64e-e24c0f6c4ec5',\n",
       " '44829f73-c319-40ed-bf29-3dabeade4035',\n",
       " 'cef25006-e06b-492a-9001-189c4f6174c0',\n",
       " 'cccbcc9c-252d-4ec1-a261-70a3d41b948b',\n",
       " 'a2c6765f-870a-4e43-a597-1cc26a941e13',\n",
       " 'ecb371d8-9154-4305-8b18-faf5346eeed3',\n",
       " '87bda2e3-fdad-4745-9825-c5965226d811',\n",
       " '243fc806-fbbf-446b-a68e-5a40e0cfd3e4',\n",
       " '6d0c8ae2-3b44-4784-ba7b-d54cbd888222',\n",
       " '4d905695-a183-42af-8060-82714cbd517d',\n",
       " 'ad6f083a-7e46-44b7-aab0-b12f3b28905b',\n",
       " 'e4184f05-f65e-436a-b2af-6f93cfca724c',\n",
       " 'ccd3ff87-c139-4408-8ae2-d1ed02096b5f',\n",
       " 'b50f6471-1f5e-47fc-bcc8-59817f3a6baa',\n",
       " 'ce93f6a2-807c-431d-b37d-ef6a753c0bcf',\n",
       " '5cf49f0c-4228-4731-85e4-35632e8a43df',\n",
       " 'cedee7cc-c8a8-4488-9f23-b7ea7ce2b4de',\n",
       " 'c415a983-3ad0-433a-a85e-17528f7d0c2b',\n",
       " '107db90d-0a9f-47c6-bfb5-3103fcac6ce1',\n",
       " 'eefec292-eac0-4fcc-9667-2af5c524cb9d',\n",
       " '86834c52-6ba2-4c80-9fd1-47e16be69259',\n",
       " 'c14f1cb3-c022-48ca-95bb-3b9d5d5ff9b5',\n",
       " 'a48036ff-cb4d-4a91-80bd-9dac514e3996',\n",
       " 'bff78464-8c70-485d-a315-89810606261f',\n",
       " 'e68a4ef4-f880-4eb7-b9bb-9d2cc46a75bd',\n",
       " '62c6898c-cac7-4268-9317-2824bed358b3',\n",
       " '641992b0-97a1-4f14-b9f3-f4cf59c83873',\n",
       " 'f6409d32-ad76-4aae-9ebc-24b6724e4494',\n",
       " '413922d9-c9d8-4f3f-8cf7-42bc38c8487c',\n",
       " '707ba49d-25ef-44ce-a864-6c356b0afbbd',\n",
       " '6a8bb896-6e2b-4d11-85b8-6beb1460474c',\n",
       " '94153b33-f362-49aa-a418-deefbceadbdd',\n",
       " 'aa26b6d0-81f9-47e5-b255-8ea6eb9b463d',\n",
       " 'a4423569-4c27-43ca-b913-84ff0e5385e8',\n",
       " '45488616-be38-435f-be7d-6494ac19a281',\n",
       " '4fc827c9-0e47-47d7-ac05-a59a9b4fb728',\n",
       " '6919a01a-11a3-41c6-a9ff-8a2ee8b5522e',\n",
       " '7998f705-6123-4436-8cba-ff031b8748a9',\n",
       " 'fd1c7490-ae9a-4c4f-92cf-54d8e91e3944',\n",
       " '2324fa54-0d49-4f0b-913c-7cabfa084b59',\n",
       " '04cf8a76-34cd-42f8-9bef-daaf24fdb56c']"
      ]
     },
     "execution_count": 29,
     "metadata": {},
     "output_type": "execute_result"
    }
   ],
   "source": [
    "in_files = list(h5ad_uuids.values())\n",
    "in_files"
   ]
  },
  {
   "cell_type": "code",
   "execution_count": 30,
   "id": "9b573242-5854-4562-b7f2-c50c6e4e2698",
   "metadata": {},
   "outputs": [
    {
     "data": {
      "text/plain": [
       "['output/diha_L3_meta_umap_csv_2024-04-10.tar.gz',\n",
       " 'output/diha_L3_meta_umap_parquet_2024-04-11.tar.gz']"
      ]
     },
     "execution_count": 30,
     "metadata": {},
     "output_type": "execute_result"
    }
   ],
   "source": [
    "out_files = [csv_tar, parquet_tar]\n",
    "out_files"
   ]
  },
  {
   "cell_type": "code",
   "execution_count": 32,
   "id": "e6dec07e-2ebc-40e0-8ff6-3dd15e4feeee",
   "metadata": {},
   "outputs": [
    {
     "name": "stdout",
     "output_type": "stream",
     "text": [
      "you are trying to upload file_ids... ['output/diha_L3_meta_umap_csv_2024-04-10.tar.gz', 'output/diha_L3_meta_umap_parquet_2024-04-11.tar.gz']. Do you truly want to proceed?\n"
     ]
    },
    {
     "name": "stdin",
     "output_type": "stream",
     "text": [
      "(y/n) y\n"
     ]
    },
    {
     "data": {
      "text/plain": [
       "{'trace_id': 'ac396924-f3a0-45f6-9377-034c420a3e0d',\n",
       " 'files': ['output/diha_L3_meta_umap_csv_2024-04-10.tar.gz',\n",
       "  'output/diha_L3_meta_umap_parquet_2024-04-11.tar.gz']}"
      ]
     },
     "execution_count": 32,
     "metadata": {},
     "output_type": "execute_result"
    }
   ],
   "source": [
    "hisepy.upload.upload_files(\n",
    "    files = out_files,\n",
    "    study_space_id = study_space_uuid,\n",
    "    title = title,\n",
    "    input_file_ids = in_files,\n",
    "    destination = search_id\n",
    ")"
   ]
  },
  {
   "cell_type": "code",
   "execution_count": 33,
   "id": "5c593127-3cfc-4346-aea9-8b149a54543e",
   "metadata": {},
   "outputs": [
    {
     "data": {
      "text/html": [
       "<details>\n",
       "<summary>Click to view session information</summary>\n",
       "<pre>\n",
       "-----\n",
       "hisepy              0.3.0\n",
       "pandas              2.1.4\n",
       "scanpy              1.9.6\n",
       "session_info        1.0.0\n",
       "-----\n",
       "</pre>\n",
       "<details>\n",
       "<summary>Click to view modules imported as dependencies</summary>\n",
       "<pre>\n",
       "PIL                         10.0.1\n",
       "anndata                     0.10.3\n",
       "anyio                       NA\n",
       "arrow                       1.3.0\n",
       "asttokens                   NA\n",
       "attr                        23.2.0\n",
       "attrs                       23.2.0\n",
       "babel                       2.14.0\n",
       "beatrix_jupyterlab          NA\n",
       "brotli                      NA\n",
       "cachetools                  5.3.1\n",
       "certifi                     2024.02.02\n",
       "cffi                        1.16.0\n",
       "charset_normalizer          3.3.2\n",
       "cloudpickle                 2.2.1\n",
       "colorama                    0.4.6\n",
       "comm                        0.1.4\n",
       "cryptography                41.0.7\n",
       "cycler                      0.10.0\n",
       "cython_runtime              NA\n",
       "dateutil                    2.8.2\n",
       "db_dtypes                   1.1.1\n",
       "debugpy                     1.8.0\n",
       "decorator                   5.1.1\n",
       "defusedxml                  0.7.1\n",
       "deprecated                  1.2.14\n",
       "exceptiongroup              1.2.0\n",
       "executing                   2.0.1\n",
       "fastjsonschema              NA\n",
       "fqdn                        NA\n",
       "google                      NA\n",
       "greenlet                    2.0.2\n",
       "grpc                        1.58.0\n",
       "grpc_status                 NA\n",
       "h5py                        3.10.0\n",
       "idna                        3.6\n",
       "igraph                      0.10.8\n",
       "importlib_metadata          NA\n",
       "ipykernel                   6.28.0\n",
       "ipython_genutils            0.2.0\n",
       "ipywidgets                  8.1.1\n",
       "isoduration                 NA\n",
       "jedi                        0.19.1\n",
       "jinja2                      3.1.2\n",
       "joblib                      1.3.2\n",
       "json5                       NA\n",
       "jsonpointer                 2.4\n",
       "jsonschema                  4.20.0\n",
       "jsonschema_specifications   NA\n",
       "jupyter_events              0.9.0\n",
       "jupyter_server              2.12.1\n",
       "jupyterlab_server           2.25.2\n",
       "jwt                         2.8.0\n",
       "kiwisolver                  1.4.5\n",
       "leidenalg                   0.10.1\n",
       "llvmlite                    0.41.0\n",
       "lz4                         4.3.2\n",
       "markupsafe                  2.1.3\n",
       "matplotlib                  3.8.0\n",
       "matplotlib_inline           0.1.6\n",
       "mpl_toolkits                NA\n",
       "mpmath                      1.3.0\n",
       "natsort                     8.4.0\n",
       "nbformat                    5.9.2\n",
       "numba                       0.58.0\n",
       "numpy                       1.24.0\n",
       "opentelemetry               NA\n",
       "overrides                   NA\n",
       "packaging                   23.2\n",
       "parso                       0.8.3\n",
       "periodictable               1.5.2\n",
       "pexpect                     4.8.0\n",
       "pickleshare                 0.7.5\n",
       "pkg_resources               NA\n",
       "platformdirs                4.1.0\n",
       "plotly                      5.18.0\n",
       "prettytable                 3.9.0\n",
       "prometheus_client           NA\n",
       "prompt_toolkit              3.0.42\n",
       "proto                       NA\n",
       "psutil                      NA\n",
       "ptyprocess                  0.7.0\n",
       "pure_eval                   0.2.2\n",
       "pyarrow                     13.0.0\n",
       "pydev_ipython               NA\n",
       "pydevconsole                NA\n",
       "pydevd                      2.9.5\n",
       "pydevd_file_utils           NA\n",
       "pydevd_plugins              NA\n",
       "pydevd_tracing              NA\n",
       "pygments                    2.17.2\n",
       "pynvml                      NA\n",
       "pyparsing                   3.1.1\n",
       "pyreadr                     0.5.0\n",
       "pythonjsonlogger            NA\n",
       "pytz                        2023.3.post1\n",
       "referencing                 NA\n",
       "requests                    2.31.0\n",
       "rfc3339_validator           0.1.4\n",
       "rfc3986_validator           0.1.1\n",
       "rpds                        NA\n",
       "scipy                       1.11.4\n",
       "send2trash                  NA\n",
       "shapely                     1.8.5.post1\n",
       "six                         1.16.0\n",
       "sklearn                     1.3.2\n",
       "sniffio                     1.3.0\n",
       "socks                       1.7.1\n",
       "sql                         NA\n",
       "sqlalchemy                  2.0.21\n",
       "sqlparse                    0.4.4\n",
       "stack_data                  0.6.2\n",
       "sympy                       1.12\n",
       "termcolor                   NA\n",
       "texttable                   1.7.0\n",
       "threadpoolctl               3.2.0\n",
       "torch                       2.1.2+cu121\n",
       "torchgen                    NA\n",
       "tornado                     6.3.3\n",
       "tqdm                        4.66.1\n",
       "traitlets                   5.9.0\n",
       "typing_extensions           NA\n",
       "uri_template                NA\n",
       "urllib3                     1.26.18\n",
       "wcwidth                     0.2.12\n",
       "webcolors                   1.13\n",
       "websocket                   1.7.0\n",
       "wrapt                       1.15.0\n",
       "xarray                      2023.12.0\n",
       "yaml                        6.0.1\n",
       "zipp                        NA\n",
       "zmq                         25.1.2\n",
       "zoneinfo                    NA\n",
       "</pre>\n",
       "</details> <!-- seems like this ends pre, so might as well be explicit -->\n",
       "<pre>\n",
       "-----\n",
       "IPython             8.19.0\n",
       "jupyter_client      8.6.0\n",
       "jupyter_core        5.6.1\n",
       "jupyterlab          4.1.5\n",
       "notebook            6.5.4\n",
       "-----\n",
       "Python 3.10.13 | packaged by conda-forge | (main, Dec 23 2023, 15:36:39) [GCC 12.3.0]\n",
       "Linux-5.15.0-1055-gcp-x86_64-with-glibc2.31\n",
       "-----\n",
       "Session information updated at 2024-04-11 01:16\n",
       "</pre>\n",
       "</details>"
      ],
      "text/plain": [
       "<IPython.core.display.HTML object>"
      ]
     },
     "execution_count": 33,
     "metadata": {},
     "output_type": "execute_result"
    }
   ],
   "source": [
    "import session_info\n",
    "session_info.show()"
   ]
  },
  {
   "cell_type": "code",
   "execution_count": null,
   "id": "f079693c-4b3b-48ec-9730-6d08ea867edc",
   "metadata": {},
   "outputs": [],
   "source": []
  }
 ],
 "metadata": {
  "kernelspec": {
   "display_name": "Python 3 (ipykernel)",
   "language": "python",
   "name": "python3"
  },
  "language_info": {
   "codemirror_mode": {
    "name": "ipython",
    "version": 3
   },
   "file_extension": ".py",
   "mimetype": "text/x-python",
   "name": "python",
   "nbconvert_exporter": "python",
   "pygments_lexer": "ipython3",
   "version": "3.10.13"
  }
 },
 "nbformat": 4,
 "nbformat_minor": 5
}
