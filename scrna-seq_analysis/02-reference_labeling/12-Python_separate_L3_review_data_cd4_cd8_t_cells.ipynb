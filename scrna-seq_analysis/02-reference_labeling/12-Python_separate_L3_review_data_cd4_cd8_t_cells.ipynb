{
 "cells": [
  {
   "cell_type": "markdown",
   "id": "8fcbf87c-c5b4-4c0d-a6df-306d45b7772f",
   "metadata": {},
   "source": [
    "# Generate separate L3 review data for CD4 and CD8 T cells\n",
    "\n",
    "In this notebook, we perform UMAP using data from each individual AIFI_L3 cell type. This can be used to assess if our label refinement has been effective and if our cell types are largely uniform.\n",
    "\n",
    "**Note**: Because these are *very* large cell types, you'll need to ensure that a lot of disk space is available (> 400GB)"
   ]
  },
  {
   "cell_type": "markdown",
   "id": "b9783481-4fc3-44ce-8bb5-2c2b17efa130",
   "metadata": {},
   "source": [
    "## Load packages"
   ]
  },
  {
   "cell_type": "code",
   "execution_count": 15,
   "id": "14ddfcd5-d220-4127-95db-da98de8cbd2a",
   "metadata": {},
   "outputs": [],
   "source": [
    "import warnings\n",
    "warnings.simplefilter(action='ignore', category=FutureWarning)\n",
    "warnings.simplefilter(action='ignore', category=RuntimeWarning)\n",
    "\n",
    "from datetime import date\n",
    "import hisepy\n",
    "import os\n",
    "import pandas as pd\n",
    "import scanpy as sc\n",
    "import scanpy.external as sce\n",
    "import re\n",
    "import tarfile"
   ]
  },
  {
   "cell_type": "code",
   "execution_count": 16,
   "id": "49eb73aa-a56e-419d-a16a-080ef051a885",
   "metadata": {
    "tags": []
   },
   "outputs": [],
   "source": [
    "out_dir = 'output'\n",
    "if not os.path.isdir(out_dir):\n",
    "    os.makedirs(out_dir)"
   ]
  },
  {
   "cell_type": "markdown",
   "id": "a30e62bc-1371-4a57-a259-7f724b112ad5",
   "metadata": {},
   "source": [
    "## Helper functions"
   ]
  },
  {
   "cell_type": "markdown",
   "id": "a5aead3c-1a37-4e42-8189-7cec3b63bf1c",
   "metadata": {},
   "source": [
    "Helpers for reading data based on UUIDs from HISE"
   ]
  },
  {
   "cell_type": "code",
   "execution_count": 17,
   "id": "93f49b7d-21c2-40f5-960e-d628fe6a61a7",
   "metadata": {},
   "outputs": [],
   "source": [
    "def cache_uuid_path(uuid):\n",
    "    cache_path = '/home/jupyter/cache/{u}'.format(u = uuid)\n",
    "    if not os.path.isdir(cache_path):\n",
    "        hise_res = hisepy.reader.cache_files([uuid])\n",
    "    filename = os.listdir(cache_path)[0]\n",
    "    cache_file = '{p}/{f}'.format(p = cache_path, f = filename)\n",
    "    return cache_file"
   ]
  },
  {
   "cell_type": "code",
   "execution_count": 18,
   "id": "c128fb9d-8e82-4ef8-84d2-d67e2e16ea40",
   "metadata": {},
   "outputs": [],
   "source": [
    "def read_csv_uuid(uuid):\n",
    "    cache_file = cache_uuid_path(uuid)\n",
    "    res = pd.read_csv(cache_file)\n",
    "    return res"
   ]
  },
  {
   "cell_type": "code",
   "execution_count": 19,
   "id": "af854be1-1876-485d-802f-ba9366ffd5a4",
   "metadata": {},
   "outputs": [],
   "source": [
    "def read_adata_uuid(uuid):\n",
    "    cache_file = cache_uuid_path(uuid)\n",
    "    res = sc.read_h5ad(cache_file)\n",
    "    return res"
   ]
  },
  {
   "cell_type": "markdown",
   "id": "83ef7ea7-56c3-4dbc-8efe-2c949bb0b9f8",
   "metadata": {},
   "source": [
    "This function formats cell types for use in filenames"
   ]
  },
  {
   "cell_type": "code",
   "execution_count": 20,
   "id": "02171893-00e2-4718-98ca-431465cd79d9",
   "metadata": {},
   "outputs": [],
   "source": [
    "def format_cell_type(cell_type):\n",
    "    cell_type = re.sub('\\\\+', 'pos', cell_type)\n",
    "    cell_type = re.sub('-', 'neg', cell_type)\n",
    "    cell_type = re.sub(' ', '_', cell_type)\n",
    "    return cell_type"
   ]
  },
  {
   "cell_type": "markdown",
   "id": "c1582696-eacc-4000-81ec-d75e5314de67",
   "metadata": {},
   "source": [
    "This function corrects type labels generated when there are ties in selection of most frequent labels:"
   ]
  },
  {
   "cell_type": "code",
   "execution_count": 21,
   "id": "e5119b08-ebcc-48ec-9a44-4abadfc4a219",
   "metadata": {},
   "outputs": [],
   "source": [
    "def fix_cat_labels(labels):\n",
    "    label_cat = labels.cat.categories\n",
    "    for cat in label_cat:\n",
    "        cat = str(cat)\n",
    "        if '[' in cat:\n",
    "            new_cat = re.sub('\\', .+\\n.+','',cat)\n",
    "            new_cat = re.sub('\\[\\'','',new_cat)\n",
    "            if not new_cat in label_cat:\n",
    "                labels = labels.cat.add_categories(new_cat)\n",
    "            labels[labels == cat] = new_cat\n",
    "    return labels"
   ]
  },
  {
   "cell_type": "code",
   "execution_count": 23,
   "id": "f781ec1a-e99d-43bc-b366-9020b58629be",
   "metadata": {},
   "outputs": [],
   "source": [
    "def process_adata(adata):\n",
    "    \n",
    "    # Keep a copy of the raw data\n",
    "    adata = adata.raw.to_adata()\n",
    "    adata.raw = adata\n",
    "\n",
    "    print('Normalizing', end = \"; \")\n",
    "    # Normalize and log transform\n",
    "    sc.pp.normalize_total(adata)\n",
    "    sc.pp.log1p(adata)\n",
    "\n",
    "    print('Finding HVGs', end = \"; \")\n",
    "    # Restrict downstream steps to variable genes\n",
    "    sc.pp.highly_variable_genes(adata)\n",
    "    adata = adata[:, adata.var_names[adata.var['highly_variable']]].copy()\n",
    "\n",
    "    print('Scaling', end = \"; \")\n",
    "    # Scale variable genes\n",
    "    sc.pp.scale(adata)\n",
    "\n",
    "    print('PCA', end = \"; \")\n",
    "    # Run PCA\n",
    "    sc.tl.pca(adata, svd_solver = 'arpack')\n",
    "\n",
    "    print('Harmony', end = \"; \")\n",
    "    # Integrate subjects\n",
    "    sce.pp.harmony_integrate(\n",
    "        adata, \n",
    "        'subject.subjectGuid',\n",
    "        max_iter_harmony = 30,\n",
    "        verbose = False\n",
    "    )\n",
    "    \n",
    "    print('Neighbors', end = \"; \")\n",
    "    # Find nearest neighbors\n",
    "    sc.pp.neighbors(\n",
    "        adata, \n",
    "        n_neighbors = 50,\n",
    "        n_pcs = 30,\n",
    "        use_rep = 'X_pca_harmony'\n",
    "    )\n",
    "\n",
    "    print('UMAP', end = \"; \")\n",
    "    # Run UMAP\n",
    "    sc.tl.umap(adata, min_dist = 0.05)\n",
    "    \n",
    "    print('Renormalizing')\n",
    "    adata = adata.raw.to_adata()\n",
    "    adata.raw = adata\n",
    "\n",
    "    # Normalize and log transform\n",
    "    sc.pp.normalize_total(adata)\n",
    "    sc.pp.log1p(adata)\n",
    "    \n",
    "    return adata"
   ]
  },
  {
   "cell_type": "markdown",
   "id": "96266d9b-b74a-47ff-8b80-a379578af580",
   "metadata": {},
   "source": [
    "## Identify files in HISE"
   ]
  },
  {
   "cell_type": "code",
   "execution_count": 24,
   "id": "a7480dbc-a377-4b7f-befb-41b43c778c6e",
   "metadata": {},
   "outputs": [],
   "source": [
    "h5ad_uuids = {\n",
    "    't_cd8_memory': 'bb05f8df-0003-4ad9-9ee1-85fe386fa279',\n",
    "    't_cd8_naive': 'f7fb9efe-7791-4be3-a137-372478db40ca',\n",
    "    'treg': 'e4e31bdb-d6b4-4451-bd56-44085b70068d',\n",
    "    't_cd4_memory': '52ad1826-5e77-41cc-b99a-77e6f145e9a1',\n",
    "    't_cd4_naive': '76b94b6b-f438-4414-a25c-82f1d473eab9',\n",
    "}"
   ]
  },
  {
   "cell_type": "markdown",
   "id": "7eeeac6e-be9e-4233-920b-ca8de33b3151",
   "metadata": {},
   "source": [
    "## Process data to generate UMAP coords."
   ]
  },
  {
   "cell_type": "code",
   "execution_count": 25,
   "id": "0e613513-1152-4f9a-9ad5-2632afaee324",
   "metadata": {},
   "outputs": [],
   "source": [
    "def get_file_stem(file):\n",
    "    stem = re.sub('_2024.+','',file)\n",
    "    stem = re.sub('.+/','',stem)\n",
    "    return stem"
   ]
  },
  {
   "cell_type": "code",
   "execution_count": 26,
   "id": "b81dd12c-206a-4dad-ae94-fecbab327438",
   "metadata": {},
   "outputs": [],
   "source": [
    "def check_previous(file, path):\n",
    "    path_files = os.listdir(path)\n",
    "    path_bases = [get_file_stem(f) for f in path_files]\n",
    "    file_base = get_file_stem(file)\n",
    "    return(file_base in path_bases)"
   ]
  },
  {
   "cell_type": "code",
   "execution_count": null,
   "id": "29d1346c-7ef8-4791-a53f-960621976023",
   "metadata": {},
   "outputs": [
    {
     "name": "stdout",
     "output_type": "stream",
     "text": [
      "downloading fileID: bb05f8df-0003-4ad9-9ee1-85fe386fa279\n",
      "Files have been successfully downloaded!\n",
      "GZMK+ CD27+ EM CD8 T cell: 558187 cells\n",
      "Normalizing; Finding HVGs; Scaling; PCA; Harmony; "
     ]
    },
    {
     "name": "stderr",
     "output_type": "stream",
     "text": [
      "2024-04-09 17:09:10,716 - harmonypy - INFO - Computing initial centroids with sklearn.KMeans...\n",
      "2024-04-09 17:13:31,345 - harmonypy - INFO - sklearn.KMeans initialization complete.\n"
     ]
    },
    {
     "name": "stdout",
     "output_type": "stream",
     "text": [
      "Neighbors; UMAP; Renormalizing\n",
      "WARNING: adata.X seems to be already log-transformed.\n",
      "CM CD8 T cell: 224543 cells\n",
      "Normalizing; Finding HVGs; Scaling; PCA; Harmony; "
     ]
    },
    {
     "name": "stderr",
     "output_type": "stream",
     "text": [
      "2024-04-09 17:57:53,613 - harmonypy - INFO - Computing initial centroids with sklearn.KMeans...\n",
      "2024-04-09 18:00:19,798 - harmonypy - INFO - sklearn.KMeans initialization complete.\n"
     ]
    },
    {
     "name": "stdout",
     "output_type": "stream",
     "text": [
      "Neighbors; UMAP; Renormalizing\n",
      "WARNING: adata.X seems to be already log-transformed.\n",
      "KLRF1- GZMB+ CD27- EM CD8 T cell: 444330 cells\n",
      "Normalizing; Finding HVGs; Scaling; PCA; Harmony; "
     ]
    },
    {
     "name": "stderr",
     "output_type": "stream",
     "text": [
      "2024-04-09 18:20:13,203 - harmonypy - INFO - Computing initial centroids with sklearn.KMeans...\n",
      "2024-04-09 18:24:22,383 - harmonypy - INFO - sklearn.KMeans initialization complete.\n"
     ]
    },
    {
     "name": "stdout",
     "output_type": "stream",
     "text": [
      "Neighbors; UMAP; Renormalizing\n",
      "WARNING: adata.X seems to be already log-transformed.\n",
      "GZMK- CD27+ EM CD8 T cell: 37349 cells\n",
      "Normalizing; Finding HVGs; Scaling; PCA; "
     ]
    },
    {
     "name": "stderr",
     "output_type": "stream",
     "text": [
      "2024-04-09 19:16:53,022 - harmonypy - INFO - Computing initial centroids with sklearn.KMeans...\n"
     ]
    },
    {
     "name": "stdout",
     "output_type": "stream",
     "text": [
      "Harmony; "
     ]
    },
    {
     "name": "stderr",
     "output_type": "stream",
     "text": [
      "2024-04-09 19:17:20,531 - harmonypy - INFO - sklearn.KMeans initialization complete.\n"
     ]
    },
    {
     "name": "stdout",
     "output_type": "stream",
     "text": [
      "Neighbors; UMAP; Renormalizing\n",
      "WARNING: adata.X seems to be already log-transformed.\n",
      "KLRF1+ GZMB+ CD27- EM CD8 T cell: 217888 cells\n",
      "Normalizing; Finding HVGs; Scaling; PCA; Harmony; "
     ]
    },
    {
     "name": "stderr",
     "output_type": "stream",
     "text": [
      "2024-04-09 19:26:13,945 - harmonypy - INFO - Computing initial centroids with sklearn.KMeans...\n",
      "2024-04-09 19:28:30,949 - harmonypy - INFO - sklearn.KMeans initialization complete.\n"
     ]
    },
    {
     "name": "stdout",
     "output_type": "stream",
     "text": [
      "Neighbors; UMAP; Renormalizing\n",
      "WARNING: adata.X seems to be already log-transformed.\n",
      "ISG+ memory CD8 T cell: 4710 cells\n",
      "Normalizing; Finding HVGs; Scaling; PCA; "
     ]
    },
    {
     "name": "stderr",
     "output_type": "stream",
     "text": [
      "2024-04-09 19:49:53,832 - harmonypy - INFO - Computing initial centroids with sklearn.KMeans...\n"
     ]
    },
    {
     "name": "stdout",
     "output_type": "stream",
     "text": [
      "Harmony; "
     ]
    },
    {
     "name": "stderr",
     "output_type": "stream",
     "text": [
      "2024-04-09 19:49:58,522 - harmonypy - INFO - sklearn.KMeans initialization complete.\n"
     ]
    },
    {
     "name": "stdout",
     "output_type": "stream",
     "text": [
      "Neighbors; UMAP; Renormalizing\n",
      "WARNING: adata.X seems to be already log-transformed.\n",
      "downloading fileID: f7fb9efe-7791-4be3-a137-372478db40ca\n",
      "Files have been successfully downloaded!\n"
     ]
    },
    {
     "name": "stderr",
     "output_type": "stream",
     "text": [
      "/opt/conda/lib/python3.10/site-packages/anndata/_core/anndata.py:183: ImplicitModificationWarning: Transforming to str index.\n",
      "  warnings.warn(\"Transforming to str index.\", ImplicitModificationWarning)\n",
      "/opt/conda/lib/python3.10/site-packages/anndata/_core/anndata.py:183: ImplicitModificationWarning: Transforming to str index.\n",
      "  warnings.warn(\"Transforming to str index.\", ImplicitModificationWarning)\n"
     ]
    },
    {
     "name": "stdout",
     "output_type": "stream",
     "text": [
      "Core naive CD8 T cell: 725788 cells\n",
      "Normalizing; Finding HVGs; Scaling; PCA; Harmony; "
     ]
    },
    {
     "name": "stderr",
     "output_type": "stream",
     "text": [
      "2024-04-09 20:07:24,168 - harmonypy - INFO - Computing initial centroids with sklearn.KMeans...\n",
      "2024-04-09 20:14:17,305 - harmonypy - INFO - sklearn.KMeans initialization complete.\n"
     ]
    },
    {
     "name": "stdout",
     "output_type": "stream",
     "text": [
      "Neighbors; UMAP; "
     ]
    },
    {
     "name": "stderr",
     "output_type": "stream",
     "text": [
      "IOStream.flush timed out\n",
      "IOStream.flush timed out\n",
      "IOStream.flush timed out\n",
      "IOStream.flush timed out\n",
      "IOStream.flush timed out\n",
      "IOStream.flush timed out\n",
      "IOStream.flush timed out\n",
      "IOStream.flush timed out\n",
      "IOStream.flush timed out\n",
      "IOStream.flush timed out\n",
      "IOStream.flush timed out\n",
      "IOStream.flush timed out\n",
      "IOStream.flush timed out\n",
      "IOStream.flush timed out\n",
      "IOStream.flush timed out\n",
      "IOStream.flush timed out\n",
      "IOStream.flush timed out\n"
     ]
    },
    {
     "name": "stdout",
     "output_type": "stream",
     "text": [
      "Renormalizing\n",
      "WARNING: adata.X seems to be already log-transformed.\n"
     ]
    },
    {
     "name": "stderr",
     "output_type": "stream",
     "text": [
      "/opt/conda/lib/python3.10/site-packages/anndata/_core/anndata.py:183: ImplicitModificationWarning: Transforming to str index.\n",
      "  warnings.warn(\"Transforming to str index.\", ImplicitModificationWarning)\n"
     ]
    },
    {
     "name": "stdout",
     "output_type": "stream",
     "text": [
      "SOX4+ naive CD8 T cell: 49932 cells\n",
      "Normalizing; Finding HVGs; Scaling; PCA; "
     ]
    },
    {
     "name": "stderr",
     "output_type": "stream",
     "text": [
      "2024-04-09 21:17:32,523 - harmonypy - INFO - Computing initial centroids with sklearn.KMeans...\n"
     ]
    },
    {
     "name": "stdout",
     "output_type": "stream",
     "text": [
      "Harmony; "
     ]
    },
    {
     "name": "stderr",
     "output_type": "stream",
     "text": [
      "2024-04-09 21:18:08,309 - harmonypy - INFO - sklearn.KMeans initialization complete.\n"
     ]
    },
    {
     "name": "stdout",
     "output_type": "stream",
     "text": [
      "Neighbors; UMAP; Renormalizing\n",
      "WARNING: adata.X seems to be already log-transformed.\n"
     ]
    },
    {
     "name": "stderr",
     "output_type": "stream",
     "text": [
      "/opt/conda/lib/python3.10/site-packages/anndata/_core/anndata.py:183: ImplicitModificationWarning: Transforming to str index.\n",
      "  warnings.warn(\"Transforming to str index.\", ImplicitModificationWarning)\n"
     ]
    },
    {
     "name": "stdout",
     "output_type": "stream",
     "text": [
      "ISG+ naive CD8 T cell: 2930 cells\n",
      "Normalizing; Finding HVGs; Scaling; PCA; "
     ]
    },
    {
     "name": "stderr",
     "output_type": "stream",
     "text": [
      "2024-04-09 21:23:58,880 - harmonypy - INFO - Computing initial centroids with sklearn.KMeans...\n"
     ]
    },
    {
     "name": "stdout",
     "output_type": "stream",
     "text": [
      "Harmony; "
     ]
    },
    {
     "name": "stderr",
     "output_type": "stream",
     "text": [
      "2024-04-09 21:24:02,398 - harmonypy - INFO - sklearn.KMeans initialization complete.\n"
     ]
    },
    {
     "name": "stdout",
     "output_type": "stream",
     "text": [
      "Neighbors; UMAP; Renormalizing\n",
      "WARNING: adata.X seems to be already log-transformed.\n",
      "downloading fileID: e4e31bdb-d6b4-4451-bd56-44085b70068d\n",
      "Files have been successfully downloaded!\n"
     ]
    },
    {
     "name": "stderr",
     "output_type": "stream",
     "text": [
      "/opt/conda/lib/python3.10/site-packages/anndata/_core/anndata.py:183: ImplicitModificationWarning: Transforming to str index.\n",
      "  warnings.warn(\"Transforming to str index.\", ImplicitModificationWarning)\n",
      "/opt/conda/lib/python3.10/site-packages/anndata/_core/anndata.py:183: ImplicitModificationWarning: Transforming to str index.\n",
      "  warnings.warn(\"Transforming to str index.\", ImplicitModificationWarning)\n"
     ]
    },
    {
     "name": "stdout",
     "output_type": "stream",
     "text": [
      "Memory CD4 Treg: 147022 cells\n",
      "Normalizing; WARNING: adata.X seems to be already log-transformed.\n",
      "Finding HVGs; Scaling; PCA; "
     ]
    },
    {
     "name": "stderr",
     "output_type": "stream",
     "text": [
      "2024-04-09 21:26:23,416 - harmonypy - INFO - Computing initial centroids with sklearn.KMeans...\n"
     ]
    },
    {
     "name": "stdout",
     "output_type": "stream",
     "text": [
      "Harmony; "
     ]
    },
    {
     "name": "stderr",
     "output_type": "stream",
     "text": [
      "2024-04-09 21:27:51,256 - harmonypy - INFO - sklearn.KMeans initialization complete.\n"
     ]
    },
    {
     "name": "stdout",
     "output_type": "stream",
     "text": [
      "Neighbors; UMAP; Renormalizing\n",
      "WARNING: adata.X seems to be already log-transformed.\n"
     ]
    },
    {
     "name": "stderr",
     "output_type": "stream",
     "text": [
      "/opt/conda/lib/python3.10/site-packages/anndata/_core/anndata.py:183: ImplicitModificationWarning: Transforming to str index.\n",
      "  warnings.warn(\"Transforming to str index.\", ImplicitModificationWarning)\n"
     ]
    },
    {
     "name": "stdout",
     "output_type": "stream",
     "text": [
      "KLRB1+ memory CD8 Treg: 4725 cells\n",
      "Normalizing; WARNING: adata.X seems to be already log-transformed.\n",
      "Finding HVGs; Scaling; PCA; "
     ]
    },
    {
     "name": "stderr",
     "output_type": "stream",
     "text": [
      "2024-04-09 21:42:55,190 - harmonypy - INFO - Computing initial centroids with sklearn.KMeans...\n"
     ]
    },
    {
     "name": "stdout",
     "output_type": "stream",
     "text": [
      "Harmony; "
     ]
    }
   ],
   "source": [
    "out_h5ads = []\n",
    "for type_group, uuid in h5ad_uuids.items():\n",
    "    adata_path = cache_uuid_path(uuid)\n",
    "    # get L3 types and check for previous processing\n",
    "    adata = sc.read_h5ad(adata_path, backed = 'r')\n",
    "    cell_types = adata.obs['AIFI_L3'].copy()\n",
    "    cell_types = fix_cat_labels(cell_types)\n",
    "    cell_types = cell_types.unique()\n",
    "    \n",
    "    for cell_type in cell_types:\n",
    "        out_type = format_cell_type(cell_type)\n",
    "        if type_group == 'monocyte_marker':\n",
    "            out_type = 'marker-{t}'.format(t = out_type)\n",
    "        \n",
    "        out_h5ad = 'output/diha_AIFI_L3_{t}_{d}.h5ad'.format(t = out_type, d = date.today())\n",
    "        out_csv = 'output/diha_AIFI_L3_{t}_meta_{d}.csv'.format(t = out_type, d = date.today())\n",
    "        out_parquet = 'output/diha_AIFI_L3_{t}_meta_{d}.parquet'.format(t = out_type, d = date.today())\n",
    "        \n",
    "        if check_previous(out_h5ad, 'output/'):\n",
    "            print('previously analyzed {t}; skipping.'.format(t = cell_type))\n",
    "            out_h5ads.append(out_h5ad)\n",
    "            continue\n",
    "        \n",
    "        adata = sc.read_h5ad(adata_path)\n",
    "        adata.obs['AIFI_L3'] = fix_cat_labels(adata.obs['AIFI_L3'])\n",
    "        adata = adata[adata.obs['AIFI_L3'] == cell_type]\n",
    "        print('{t}: {n} cells'.format(t = cell_type, n = adata.shape[0]))\n",
    "\n",
    "        if(adata.shape[0] < 100):\n",
    "            print('Too few cells. Skipping')\n",
    "            continue\n",
    "        \n",
    "        adata = process_adata(adata)\n",
    "        adata.write_h5ad(out_h5ad)\n",
    "        out_h5ads.append(out_h5ad)\n",
    "\n",
    "    cache_dir = re.sub('diha.+','',adata_path)\n",
    "    rm_call = 'rm -r {d}'.format(d = cache_dir)\n",
    "    os.system(rm_call)"
   ]
  },
  {
   "cell_type": "markdown",
   "id": "17fc59aa-e550-4385-ac86-9e4b5ece1118",
   "metadata": {},
   "source": [
    "## Upload L3 h5ad's to HISE\n",
    "\n",
    "Finally, we'll use `hisepy.upload.upload_files()` to send a copy of our output to HISE to use for downstream analysis steps."
   ]
  },
  {
   "cell_type": "code",
   "execution_count": 28,
   "id": "5bb317ee-3eca-486f-a93f-037e414c05b5",
   "metadata": {},
   "outputs": [],
   "source": [
    "study_space_uuid = 'de025812-5e73-4b3c-9c3b-6d0eac412f2a'\n",
    "title = 'DIHA CD4 and CD8 T cell separate L3 objects {d}'.format(d = date.today())"
   ]
  },
  {
   "cell_type": "code",
   "execution_count": 29,
   "id": "f431dfad-9dd5-4e81-aab2-8b91d8ac20f8",
   "metadata": {},
   "outputs": [
    {
     "data": {
      "text/plain": [
       "['bb05f8df-0003-4ad9-9ee1-85fe386fa279',\n",
       " 'f7fb9efe-7791-4be3-a137-372478db40ca',\n",
       " 'e4e31bdb-d6b4-4451-bd56-44085b70068d',\n",
       " '52ad1826-5e77-41cc-b99a-77e6f145e9a1',\n",
       " '76b94b6b-f438-4414-a25c-82f1d473eab9']"
      ]
     },
     "execution_count": 29,
     "metadata": {},
     "output_type": "execute_result"
    }
   ],
   "source": [
    "in_files = list(h5ad_uuids.values())\n",
    "in_files"
   ]
  },
  {
   "cell_type": "code",
   "execution_count": 30,
   "id": "88baebcc-13a7-43f8-93ae-bfa523fae845",
   "metadata": {},
   "outputs": [
    {
     "data": {
      "text/plain": [
       "['output/diha_AIFI_L3_GZMKpos_CD27pos_EM_CD8_T_cell_2024-04-09.h5ad',\n",
       " 'output/diha_AIFI_L3_CM_CD8_T_cell_2024-04-09.h5ad',\n",
       " 'output/diha_AIFI_L3_KLRF1neg_GZMBpos_CD27neg_EM_CD8_T_cell_2024-04-09.h5ad',\n",
       " 'output/diha_AIFI_L3_GZMKneg_CD27pos_EM_CD8_T_cell_2024-04-09.h5ad',\n",
       " 'output/diha_AIFI_L3_KLRF1pos_GZMBpos_CD27neg_EM_CD8_T_cell_2024-04-09.h5ad',\n",
       " 'output/diha_AIFI_L3_ISGpos_memory_CD8_T_cell_2024-04-09.h5ad',\n",
       " 'output/diha_AIFI_L3_Core_naive_CD8_T_cell_2024-04-09.h5ad',\n",
       " 'output/diha_AIFI_L3_SOX4pos_naive_CD8_T_cell_2024-04-09.h5ad',\n",
       " 'output/diha_AIFI_L3_ISGpos_naive_CD8_T_cell_2024-04-09.h5ad',\n",
       " 'output/diha_AIFI_L3_Memory_CD4_Treg_2024-04-09.h5ad',\n",
       " 'output/diha_AIFI_L3_KLRB1pos_memory_CD8_Treg_2024-04-09.h5ad',\n",
       " 'output/diha_AIFI_L3_Naive_CD4_Treg_2024-04-09.h5ad',\n",
       " 'output/diha_AIFI_L3_KLRB1pos_memory_CD4_Treg_2024-04-09.h5ad',\n",
       " 'output/diha_AIFI_L3_GZMKpos_memory_CD4_Treg_2024-04-09.h5ad',\n",
       " 'output/diha_AIFI_L3_Memory_CD8_Treg_2024-04-09.h5ad',\n",
       " 'output/diha_AIFI_L3_CM_CD4_T_cell_2024-04-09.h5ad',\n",
       " 'output/diha_AIFI_L3_GZMBneg_CD27pos_EM_CD4_T_cell_2024-04-09.h5ad',\n",
       " 'output/diha_AIFI_L3_GZMBneg_CD27neg_EM_CD4_T_cell_2024-04-09.h5ad',\n",
       " 'output/diha_AIFI_L3_ISGpos_memory_CD4_T_cell_2024-04-09.h5ad',\n",
       " 'output/diha_AIFI_L3_KLRF1neg_GZMBpos_CD27neg_memory_CD4_T_cell_2024-04-09.h5ad',\n",
       " 'output/diha_AIFI_L3_Core_naive_CD4_T_cell_2024-04-09.h5ad',\n",
       " 'output/diha_AIFI_L3_ISGpos_naive_CD4_T_cell_2024-04-09.h5ad',\n",
       " 'output/diha_AIFI_L3_SOX4pos_naive_CD4_T_cell_2024-04-09.h5ad']"
      ]
     },
     "execution_count": 30,
     "metadata": {},
     "output_type": "execute_result"
    }
   ],
   "source": [
    "out_files = out_h5ads\n",
    "out_files"
   ]
  },
  {
   "cell_type": "code",
   "execution_count": 31,
   "id": "f2b602e4-0d10-4975-9240-07b59a14d4dc",
   "metadata": {},
   "outputs": [
    {
     "name": "stdout",
     "output_type": "stream",
     "text": [
      "output/diha_AIFI_L3_GZMKpos_CD27pos_EM_CD8_T_cell_2024-04-09.h5ad\n",
      "output/diha_AIFI_L3_CM_CD8_T_cell_2024-04-09.h5ad\n",
      "output/diha_AIFI_L3_KLRF1neg_GZMBpos_CD27neg_EM_CD8_T_cell_2024-04-09.h5ad\n",
      "output/diha_AIFI_L3_GZMKneg_CD27pos_EM_CD8_T_cell_2024-04-09.h5ad\n",
      "output/diha_AIFI_L3_KLRF1pos_GZMBpos_CD27neg_EM_CD8_T_cell_2024-04-09.h5ad\n",
      "output/diha_AIFI_L3_ISGpos_memory_CD8_T_cell_2024-04-09.h5ad\n",
      "output/diha_AIFI_L3_Core_naive_CD8_T_cell_2024-04-09.h5ad\n",
      "output/diha_AIFI_L3_SOX4pos_naive_CD8_T_cell_2024-04-09.h5ad\n",
      "output/diha_AIFI_L3_ISGpos_naive_CD8_T_cell_2024-04-09.h5ad\n",
      "output/diha_AIFI_L3_Memory_CD4_Treg_2024-04-09.h5ad\n",
      "output/diha_AIFI_L3_KLRB1pos_memory_CD8_Treg_2024-04-09.h5ad\n",
      "output/diha_AIFI_L3_Naive_CD4_Treg_2024-04-09.h5ad\n",
      "output/diha_AIFI_L3_KLRB1pos_memory_CD4_Treg_2024-04-09.h5ad\n",
      "output/diha_AIFI_L3_GZMKpos_memory_CD4_Treg_2024-04-09.h5ad\n",
      "output/diha_AIFI_L3_Memory_CD8_Treg_2024-04-09.h5ad\n",
      "output/diha_AIFI_L3_CM_CD4_T_cell_2024-04-09.h5ad\n",
      "output/diha_AIFI_L3_GZMBneg_CD27pos_EM_CD4_T_cell_2024-04-09.h5ad\n",
      "output/diha_AIFI_L3_GZMBneg_CD27neg_EM_CD4_T_cell_2024-04-09.h5ad\n",
      "output/diha_AIFI_L3_ISGpos_memory_CD4_T_cell_2024-04-09.h5ad\n",
      "output/diha_AIFI_L3_KLRF1neg_GZMBpos_CD27neg_memory_CD4_T_cell_2024-04-09.h5ad\n",
      "output/diha_AIFI_L3_Core_naive_CD4_T_cell_2024-04-09.h5ad\n",
      "output/diha_AIFI_L3_ISGpos_naive_CD4_T_cell_2024-04-09.h5ad\n",
      "output/diha_AIFI_L3_SOX4pos_naive_CD4_T_cell_2024-04-09.h5ad\n",
      "Cannot determine the current notebook.\n",
      "1) /home/jupyter/IH-A-Aging-Analysis-Notebooks/scrna-seq_analysis/02-reference_labeling/12-Python_separate_L3_review_data_cd4_cd8_t_cells.ipynb\n",
      "2) /home/jupyter/examples/Visualization_apps/dash/save_visualization_app_example.ipynb\n",
      "3) /home/jupyter/examples/R/XX-R Tips and tricks.ipynb\n",
      "Please select (1-3) \n"
     ]
    },
    {
     "name": "stdin",
     "output_type": "stream",
     "text": [
      " 1\n"
     ]
    },
    {
     "name": "stdout",
     "output_type": "stream",
     "text": [
      "you are trying to upload file_ids... ['output/diha_AIFI_L3_GZMKpos_CD27pos_EM_CD8_T_cell_2024-04-09.h5ad', 'output/diha_AIFI_L3_CM_CD8_T_cell_2024-04-09.h5ad', 'output/diha_AIFI_L3_KLRF1neg_GZMBpos_CD27neg_EM_CD8_T_cell_2024-04-09.h5ad', 'output/diha_AIFI_L3_GZMKneg_CD27pos_EM_CD8_T_cell_2024-04-09.h5ad', 'output/diha_AIFI_L3_KLRF1pos_GZMBpos_CD27neg_EM_CD8_T_cell_2024-04-09.h5ad', 'output/diha_AIFI_L3_ISGpos_memory_CD8_T_cell_2024-04-09.h5ad', 'output/diha_AIFI_L3_Core_naive_CD8_T_cell_2024-04-09.h5ad', 'output/diha_AIFI_L3_SOX4pos_naive_CD8_T_cell_2024-04-09.h5ad', 'output/diha_AIFI_L3_ISGpos_naive_CD8_T_cell_2024-04-09.h5ad', 'output/diha_AIFI_L3_Memory_CD4_Treg_2024-04-09.h5ad', 'output/diha_AIFI_L3_KLRB1pos_memory_CD8_Treg_2024-04-09.h5ad', 'output/diha_AIFI_L3_Naive_CD4_Treg_2024-04-09.h5ad', 'output/diha_AIFI_L3_KLRB1pos_memory_CD4_Treg_2024-04-09.h5ad', 'output/diha_AIFI_L3_GZMKpos_memory_CD4_Treg_2024-04-09.h5ad', 'output/diha_AIFI_L3_Memory_CD8_Treg_2024-04-09.h5ad', 'output/diha_AIFI_L3_CM_CD4_T_cell_2024-04-09.h5ad', 'output/diha_AIFI_L3_GZMBneg_CD27pos_EM_CD4_T_cell_2024-04-09.h5ad', 'output/diha_AIFI_L3_GZMBneg_CD27neg_EM_CD4_T_cell_2024-04-09.h5ad', 'output/diha_AIFI_L3_ISGpos_memory_CD4_T_cell_2024-04-09.h5ad', 'output/diha_AIFI_L3_KLRF1neg_GZMBpos_CD27neg_memory_CD4_T_cell_2024-04-09.h5ad', 'output/diha_AIFI_L3_Core_naive_CD4_T_cell_2024-04-09.h5ad', 'output/diha_AIFI_L3_ISGpos_naive_CD4_T_cell_2024-04-09.h5ad', 'output/diha_AIFI_L3_SOX4pos_naive_CD4_T_cell_2024-04-09.h5ad']. Do you truly want to proceed?\n"
     ]
    },
    {
     "name": "stdin",
     "output_type": "stream",
     "text": [
      "(y/n) y\n"
     ]
    },
    {
     "data": {
      "text/plain": [
       "{'trace_id': '9de58cb4-1702-48ff-af33-1b6d826c375a',\n",
       " 'files': ['output/diha_AIFI_L3_GZMKpos_CD27pos_EM_CD8_T_cell_2024-04-09.h5ad',\n",
       "  'output/diha_AIFI_L3_CM_CD8_T_cell_2024-04-09.h5ad',\n",
       "  'output/diha_AIFI_L3_KLRF1neg_GZMBpos_CD27neg_EM_CD8_T_cell_2024-04-09.h5ad',\n",
       "  'output/diha_AIFI_L3_GZMKneg_CD27pos_EM_CD8_T_cell_2024-04-09.h5ad',\n",
       "  'output/diha_AIFI_L3_KLRF1pos_GZMBpos_CD27neg_EM_CD8_T_cell_2024-04-09.h5ad',\n",
       "  'output/diha_AIFI_L3_ISGpos_memory_CD8_T_cell_2024-04-09.h5ad',\n",
       "  'output/diha_AIFI_L3_Core_naive_CD8_T_cell_2024-04-09.h5ad',\n",
       "  'output/diha_AIFI_L3_SOX4pos_naive_CD8_T_cell_2024-04-09.h5ad',\n",
       "  'output/diha_AIFI_L3_ISGpos_naive_CD8_T_cell_2024-04-09.h5ad',\n",
       "  'output/diha_AIFI_L3_Memory_CD4_Treg_2024-04-09.h5ad',\n",
       "  'output/diha_AIFI_L3_KLRB1pos_memory_CD8_Treg_2024-04-09.h5ad',\n",
       "  'output/diha_AIFI_L3_Naive_CD4_Treg_2024-04-09.h5ad',\n",
       "  'output/diha_AIFI_L3_KLRB1pos_memory_CD4_Treg_2024-04-09.h5ad',\n",
       "  'output/diha_AIFI_L3_GZMKpos_memory_CD4_Treg_2024-04-09.h5ad',\n",
       "  'output/diha_AIFI_L3_Memory_CD8_Treg_2024-04-09.h5ad',\n",
       "  'output/diha_AIFI_L3_CM_CD4_T_cell_2024-04-09.h5ad',\n",
       "  'output/diha_AIFI_L3_GZMBneg_CD27pos_EM_CD4_T_cell_2024-04-09.h5ad',\n",
       "  'output/diha_AIFI_L3_GZMBneg_CD27neg_EM_CD4_T_cell_2024-04-09.h5ad',\n",
       "  'output/diha_AIFI_L3_ISGpos_memory_CD4_T_cell_2024-04-09.h5ad',\n",
       "  'output/diha_AIFI_L3_KLRF1neg_GZMBpos_CD27neg_memory_CD4_T_cell_2024-04-09.h5ad',\n",
       "  'output/diha_AIFI_L3_Core_naive_CD4_T_cell_2024-04-09.h5ad',\n",
       "  'output/diha_AIFI_L3_ISGpos_naive_CD4_T_cell_2024-04-09.h5ad',\n",
       "  'output/diha_AIFI_L3_SOX4pos_naive_CD4_T_cell_2024-04-09.h5ad']}"
      ]
     },
     "execution_count": 31,
     "metadata": {},
     "output_type": "execute_result"
    }
   ],
   "source": [
    "hisepy.upload.upload_files(\n",
    "    files = out_files,\n",
    "    study_space_id = study_space_uuid,\n",
    "    title = title,\n",
    "    input_file_ids = in_files\n",
    ")"
   ]
  },
  {
   "cell_type": "code",
   "execution_count": null,
   "id": "95912b25-808d-41a2-8f00-5e9ba9d34ebb",
   "metadata": {},
   "outputs": [],
   "source": [
    "import session_info\n",
    "session_info.show()"
   ]
  }
 ],
 "metadata": {
  "kernelspec": {
   "display_name": "Python 3 (ipykernel)",
   "language": "python",
   "name": "python3"
  },
  "language_info": {
   "codemirror_mode": {
    "name": "ipython",
    "version": 3
   },
   "file_extension": ".py",
   "mimetype": "text/x-python",
   "name": "python",
   "nbconvert_exporter": "python",
   "pygments_lexer": "ipython3",
   "version": "3.10.13"
  }
 },
 "nbformat": 4,
 "nbformat_minor": 5
}
