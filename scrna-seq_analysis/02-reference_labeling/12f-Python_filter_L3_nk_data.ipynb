{
 "cells": [
  {
   "cell_type": "code",
   "execution_count": 2,
   "id": "e1067b63-9ece-4c4c-8766-60be09f39d6f",
   "metadata": {},
   "outputs": [],
   "source": [
    "import warnings\n",
    "warnings.simplefilter(action='ignore', category=FutureWarning)\n",
    "warnings.simplefilter(action='ignore', category=UserWarning)\n",
    "\n",
    "from datetime import date\n",
    "import hisepy\n",
    "import numpy as np\n",
    "import os\n",
    "import pandas as pd\n",
    "import re\n",
    "import scanpy as sc"
   ]
  },
  {
   "cell_type": "markdown",
   "id": "40095d6b-6617-4725-bbbf-71f10024a077",
   "metadata": {},
   "source": [
    "## Helper functions"
   ]
  },
  {
   "cell_type": "code",
   "execution_count": 3,
   "id": "0b7834c5-d676-4ed8-8b1b-b7cacb2ce86d",
   "metadata": {},
   "outputs": [],
   "source": [
    "def cache_uuid_path(uuid):\n",
    "    cache_path = '/home/jupyter/cache/{u}'.format(u = uuid)\n",
    "    if not os.path.isdir(cache_path):\n",
    "        hise_res = hisepy.reader.cache_files([uuid])\n",
    "    filename = os.listdir(cache_path)[0]\n",
    "    cache_file = '{p}/{f}'.format(p = cache_path, f = filename)\n",
    "    return cache_file"
   ]
  },
  {
   "cell_type": "code",
   "execution_count": 4,
   "id": "0e9e0617-00c6-492b-a9fc-1d94f9a47631",
   "metadata": {},
   "outputs": [],
   "source": [
    "def read_csv_uuid(uuid):\n",
    "    cache_file = cache_uuid_path(uuid)\n",
    "    res = pd.read_csv(cache_file)\n",
    "    return res"
   ]
  },
  {
   "cell_type": "code",
   "execution_count": 5,
   "id": "8cf2911a-5306-4690-9e49-ed9e2abd13e8",
   "metadata": {},
   "outputs": [],
   "source": [
    "def read_parquet_uuid(uuid):\n",
    "    cache_file = cache_uuid_path(uuid)\n",
    "    res = pd.read_parquet(cache_file)\n",
    "    return res"
   ]
  },
  {
   "cell_type": "code",
   "execution_count": 6,
   "id": "ae9f3813-9ae1-4742-89c9-9201613b3d9c",
   "metadata": {},
   "outputs": [],
   "source": [
    "def read_adata_uuid(uuid):\n",
    "    cache_file = cache_uuid_path(uuid)\n",
    "    res = sc.read_h5ad(cache_file)\n",
    "    return res"
   ]
  },
  {
   "cell_type": "code",
   "execution_count": 7,
   "id": "13f71f30-2553-4168-a651-7a6437da2a9a",
   "metadata": {},
   "outputs": [],
   "source": [
    "def backed_adata_uuid(uuid):\n",
    "    cache_file = cache_uuid_path(uuid)\n",
    "    res = sc.read_h5ad(cache_file, backed = 'r')\n",
    "    return res"
   ]
  },
  {
   "cell_type": "code",
   "execution_count": 8,
   "id": "67787785-7eb5-4303-a037-492f5529844a",
   "metadata": {},
   "outputs": [],
   "source": [
    "def rm_cache_uuid(uuid):\n",
    "    cache_path = '/home/jupyter/cache/{u}'.format(u = uuid)\n",
    "    rm_call = 'rm -r {d}'.format(d = cache_path)\n",
    "    os.system(rm_call)"
   ]
  },
  {
   "cell_type": "code",
   "execution_count": 9,
   "id": "a59c059d-ef4c-44b3-a801-fcea2fec6f89",
   "metadata": {},
   "outputs": [],
   "source": [
    "def format_cell_type(cell_type):\n",
    "    cell_type = re.sub('\\\\+', 'pos', cell_type)\n",
    "    cell_type = re.sub('-', 'neg', cell_type)\n",
    "    cell_type = re.sub(' ', '_', cell_type)\n",
    "    return cell_type"
   ]
  },
  {
   "cell_type": "code",
   "execution_count": 10,
   "id": "8081cc35-d524-4f04-bc39-c74526c6dad3",
   "metadata": {},
   "outputs": [],
   "source": [
    "def filename_cell_type(filename):\n",
    "    cell_type = re.sub('.+L3_','',filename)\n",
    "    cell_type = re.sub('_2024.+','',cell_type)\n",
    "    cell_type = re.sub('_', ' ', cell_type)\n",
    "    cell_type = re.sub('pos','+', cell_type)\n",
    "    cell_type = re.sub('neg','-', cell_type)\n",
    "    return cell_type"
   ]
  },
  {
   "cell_type": "code",
   "execution_count": 11,
   "id": "7c54af63-89c2-4ed5-9ff3-51ac571d45ae",
   "metadata": {},
   "outputs": [],
   "source": [
    "def add_labels(adata, labels):\n",
    "    obs = adata.obs\n",
    "    obs = obs.reset_index(drop = True)\n",
    "    obs = obs.merge(labels, on = 'barcodes', how = 'left')\n",
    "    obs = obs.set_index('barcodes', drop = False)\n",
    "    adata.obs = obs\n",
    "    return adata"
   ]
  },
  {
   "cell_type": "code",
   "execution_count": 12,
   "id": "e2dc6f39-eb93-4f14-8fd7-63041cb316b1",
   "metadata": {},
   "outputs": [],
   "source": [
    "def element_id(n = 3):\n",
    "    import periodictable\n",
    "    from random import randrange\n",
    "    rand_el = []\n",
    "    for i in range(n):\n",
    "        el = randrange(0,118)\n",
    "        rand_el.append(periodictable.elements[el].name)\n",
    "    rand_str = '-'.join(rand_el)\n",
    "    return rand_str"
   ]
  },
  {
   "cell_type": "markdown",
   "id": "dd1ca55f-92cf-4b57-a8a8-4f279f8ba20d",
   "metadata": {},
   "source": [
    "## Markers for dotplots"
   ]
  },
  {
   "cell_type": "code",
   "execution_count": 13,
   "id": "8fb90da0-0e76-452f-8c7c-2a3981f8fe9d",
   "metadata": {},
   "outputs": [],
   "source": [
    "broad_markers = [\n",
    "    'CD3D', # T cells\n",
    "    'CD3E', # T cells/NK\n",
    "    'FCN1', # Monocytes/Myeloid\n",
    "    'HBB', # Erythrocytes\n",
    "    'IL7R', # T cells\n",
    "    'MS4A1', # B cells\n",
    "    'CD79A', # B cells\n",
    "    'PPBP', # Platelets\n",
    "    'IFI44L' # ISG-high\n",
    "]"
   ]
  },
  {
   "cell_type": "code",
   "execution_count": 14,
   "id": "df54b62a-de90-49f3-8708-e4e5488d1a7c",
   "metadata": {},
   "outputs": [],
   "source": [
    "class_markers = [\n",
    "    'FCGR3A', # CD16+ cells\n",
    "    'GZMB',\n",
    "    'GZMK',   # GZMK+ (between CD56hi and CD56dim)\n",
    "    'IFI44L', # ISG-high\n",
    "    'NCAM1',  # CD56\n",
    "    'PTMS'    # Some adaptive NK\n",
    "]"
   ]
  },
  {
   "cell_type": "markdown",
   "id": "6e8f8117-dc33-4ac4-922c-65890b7d9492",
   "metadata": {},
   "source": [
    "## Read cell type hierarchy"
   ]
  },
  {
   "cell_type": "code",
   "execution_count": 17,
   "id": "6baae088-9144-449d-ac42-c9c41968cfca",
   "metadata": {},
   "outputs": [],
   "source": [
    "hierarchy_uuid = '1a44252c-8cab-4c8f-92c9-d8f3af633790'\n",
    "hierarchy_df = read_csv_uuid(hierarchy_uuid)"
   ]
  },
  {
   "cell_type": "markdown",
   "id": "fad5a589-ec20-4463-9b96-0dc8291a8ca2",
   "metadata": {},
   "source": [
    "## Identify files for use in HISE"
   ]
  },
  {
   "cell_type": "code",
   "execution_count": 18,
   "id": "e417c434-ec69-43da-8a58-7b6883172a87",
   "metadata": {},
   "outputs": [],
   "source": [
    "search_id = 'californium-tin-oxygen'"
   ]
  },
  {
   "cell_type": "markdown",
   "id": "8c03485c-b63a-4ed0-a99e-c9bf1fc65f9f",
   "metadata": {},
   "source": [
    "Retrieve files stored in our HISE project store"
   ]
  },
  {
   "cell_type": "code",
   "execution_count": 19,
   "id": "a9d17953-3d0c-4c80-a9e0-e2fe1e506ef7",
   "metadata": {},
   "outputs": [],
   "source": [
    "ps_df = hisepy.list_files_in_project_store('cohorts')\n",
    "ps_df = ps_df[['id', 'name']]"
   ]
  },
  {
   "cell_type": "markdown",
   "id": "aaf717dd-1efd-490c-84bd-2f165646b510",
   "metadata": {},
   "source": [
    "Filter for files from the previous notebook using our search_id"
   ]
  },
  {
   "cell_type": "code",
   "execution_count": 20,
   "id": "d5089a83-9781-4fcb-8770-c4726602961d",
   "metadata": {},
   "outputs": [],
   "source": [
    "search_df = ps_df[ps_df['name'].str.contains(search_id)]\n",
    "search_df = search_df.sort_values('name')\n",
    "search_df['AIFI_L3'] = [filename_cell_type(f) for f in search_df['name']]"
   ]
  },
  {
   "cell_type": "code",
   "execution_count": 21,
   "id": "4d1da41a-513f-4f35-afef-bdbe7f2bfd88",
   "metadata": {},
   "outputs": [
    {
     "data": {
      "text/plain": [
       "['Adaptive NK cell',\n",
       " 'CD56bright NK cell',\n",
       " 'GZMK- CD56dim NK cell',\n",
       " 'GZMK+ CD56dim NK cell',\n",
       " 'ILC',\n",
       " 'ISG+ CD56dim NK cell',\n",
       " 'Proliferating NK cell']"
      ]
     },
     "execution_count": 21,
     "metadata": {},
     "output_type": "execute_result"
    }
   ],
   "source": [
    "search_df['AIFI_L3'].tolist()"
   ]
  },
  {
   "cell_type": "markdown",
   "id": "e369a666-2cef-4dc1-ab60-70b9ad10ef1a",
   "metadata": {},
   "source": [
    "# Filter"
   ]
  },
  {
   "cell_type": "markdown",
   "id": "9b515209-af26-406d-8fad-9547b0719b6f",
   "metadata": {},
   "source": [
    "## Review Adaptive NK cell"
   ]
  },
  {
   "cell_type": "markdown",
   "id": "2978ca87-e713-4656-89d2-5eddaa7c44e4",
   "metadata": {},
   "source": [
    "### Proposed updates\n",
    "\n",
    "- Remove CD3D+/IL7R+ cluster (8) as T cell doublet\n",
    "- Remove HBA1+ cluster (18) as Erythrocyte doublet"
   ]
  },
  {
   "cell_type": "code",
   "execution_count": 22,
   "id": "27298f8e-455a-44bf-85e4-16842b0a0ede",
   "metadata": {},
   "outputs": [],
   "source": [
    "cell_type = 'Adaptive NK cell'\n",
    "type_uuid = search_df['id'].loc[search_df['AIFI_L3'] == cell_type].tolist()[0]"
   ]
  },
  {
   "cell_type": "code",
   "execution_count": 23,
   "id": "66ca66cb-3fd2-49e0-b659-7be30a3a6b7e",
   "metadata": {},
   "outputs": [
    {
     "data": {
      "text/plain": [
       "'68091bf3-85b6-4ed4-80b2-601646da6533'"
      ]
     },
     "execution_count": 23,
     "metadata": {},
     "output_type": "execute_result"
    }
   ],
   "source": [
    "type_uuid"
   ]
  },
  {
   "cell_type": "markdown",
   "id": "dab0e14f-2f5c-4fc6-a437-9f81c5f4d8ee",
   "metadata": {},
   "source": [
    "## Review ISG+ CD56dim NK cell"
   ]
  },
  {
   "cell_type": "markdown",
   "id": "6606bb17-3cdd-4565-bd62-f6734062eca2",
   "metadata": {},
   "source": [
    "### Suggested updates"
   ]
  },
  {
   "cell_type": "markdown",
   "id": "368c4bc7-8b9a-4221-8412-cdb1364ca066",
   "metadata": {},
   "source": [
    "- Remove CD3D+/IL7R+ clusters (11, 13) as T cell doublet\n",
    "- Remove FCN1+ cluster (22) as Myeloid doublet"
   ]
  },
  {
   "cell_type": "code",
   "execution_count": 70,
   "id": "a8303619-065a-4b84-b210-2dff2dba88f0",
   "metadata": {},
   "outputs": [],
   "source": [
    "cell_type = 'ISG+ CD56dim NK cell'\n",
    "type_uuid = search_df['id'].loc[search_df['AIFI_L3'] == cell_type].tolist()[0]"
   ]
  },
  {
   "cell_type": "code",
   "execution_count": 71,
   "id": "8509e516-c2a1-4748-af54-8f5f2c1b055f",
   "metadata": {},
   "outputs": [
    {
     "data": {
      "text/plain": [
       "'94ac7c14-a07c-43a1-a22b-dbc5df49aaa8'"
      ]
     },
     "execution_count": 71,
     "metadata": {},
     "output_type": "execute_result"
    }
   ],
   "source": [
    "type_uuid"
   ]
  },
  {
   "cell_type": "markdown",
   "id": "4b8add97-526d-4afa-8757-6d2f6687bd2f",
   "metadata": {},
   "source": [
    "## Review Proliferating NK cell"
   ]
  },
  {
   "cell_type": "markdown",
   "id": "75dee8f2-d8a7-4a65-a90a-851081ce8e85",
   "metadata": {},
   "source": [
    "### Suggested updates"
   ]
  },
  {
   "cell_type": "markdown",
   "id": "ebcfb28e-7df1-4fbc-8ef2-b2fb0b132892",
   "metadata": {},
   "source": [
    "- Remove CD3D+/IL7R+ cluster (16) as T cell doublet\n",
    "- Remove FCN1+ cluster (18) as Myeloid doublet"
   ]
  },
  {
   "cell_type": "code",
   "execution_count": 83,
   "id": "a80a1568-df01-4b62-860a-b732a64ed230",
   "metadata": {},
   "outputs": [],
   "source": [
    "cell_type = 'Proliferating NK cell'\n",
    "type_uuid = search_df['id'].loc[search_df['AIFI_L3'] == cell_type].tolist()[0]"
   ]
  },
  {
   "cell_type": "code",
   "execution_count": 84,
   "id": "23840db5-fc94-404f-accf-acbf092af70e",
   "metadata": {},
   "outputs": [
    {
     "data": {
      "text/plain": [
       "'4a9774c4-2141-4910-b13a-aec201b962b2'"
      ]
     },
     "execution_count": 84,
     "metadata": {},
     "output_type": "execute_result"
    }
   ],
   "source": [
    "type_uuid"
   ]
  },
  {
   "cell_type": "markdown",
   "id": "f740e468-d042-4377-98d6-00b6891395cd",
   "metadata": {},
   "source": [
    "## Review ILC"
   ]
  },
  {
   "cell_type": "code",
   "execution_count": 99,
   "id": "48acf2c3-dd8e-4b95-b896-3d21d11f9d17",
   "metadata": {},
   "outputs": [],
   "source": [
    "cell_type = 'ILC'\n",
    "type_uuid = search_df['id'].loc[search_df['AIFI_L3'] == cell_type].tolist()[0]"
   ]
  },
  {
   "cell_type": "code",
   "execution_count": 100,
   "id": "dbc322b9-b1f8-48d9-85d3-a2cc83e8c05c",
   "metadata": {},
   "outputs": [
    {
     "data": {
      "text/plain": [
       "'00200b26-5172-48dc-8641-3c9749b4d338'"
      ]
     },
     "execution_count": 100,
     "metadata": {},
     "output_type": "execute_result"
    }
   ],
   "source": [
    "type_uuid"
   ]
  },
  {
   "cell_type": "markdown",
   "id": "feb12c16-fadb-4c49-8540-eb78d8d10024",
   "metadata": {},
   "source": [
    "### Suggested updates"
   ]
  },
  {
   "cell_type": "markdown",
   "id": "bd284596-c65b-40a6-81fc-6bd2db00dd7f",
   "metadata": {},
   "source": [
    "- Remove CD3D+/IL7R+ cluster (21) as T cell doublet\n",
    "- Reassign NCAM1+/KLRD1+ cluster (0) as CD56bright NK cell"
   ]
  },
  {
   "cell_type": "markdown",
   "id": "e3267e75-d177-44ef-a9de-04e9203e05c7",
   "metadata": {},
   "source": [
    "# Integrate"
   ]
  },
  {
   "cell_type": "markdown",
   "id": "1c3fc04d-1090-4d33-9652-f458ae4c577a",
   "metadata": {},
   "source": [
    "## Review GZMK- CD56dim NK cell"
   ]
  },
  {
   "cell_type": "markdown",
   "id": "467635cc-b189-4a8d-a736-4888bbc9d7b6",
   "metadata": {},
   "source": [
    "### Suggested updates"
   ]
  },
  {
   "cell_type": "markdown",
   "id": "a8628224-9562-4e16-b35a-383bbd7fbc11",
   "metadata": {},
   "source": [
    "- Remove CD3D+/IL7R+ cluster (13) as T cell doublet\n",
    "- Remove HBA1+ cluster (10) as Erythrocyte doublet"
   ]
  },
  {
   "cell_type": "code",
   "execution_count": 54,
   "id": "ffa42526-af86-441e-ac60-a29608fe1ca3",
   "metadata": {},
   "outputs": [],
   "source": [
    "cell_type = 'GZMK- CD56dim NK cell'\n",
    "type_uuid = search_df['id'].loc[search_df['AIFI_L3'] == cell_type].tolist()[0]"
   ]
  },
  {
   "cell_type": "code",
   "execution_count": 55,
   "id": "f79e418b-c1ef-4768-84b5-de20a7b5f311",
   "metadata": {},
   "outputs": [
    {
     "data": {
      "text/plain": [
       "'c57b1fec-d3d6-447c-8ae1-ca38be463007'"
      ]
     },
     "execution_count": 55,
     "metadata": {},
     "output_type": "execute_result"
    }
   ],
   "source": [
    "type_uuid"
   ]
  },
  {
   "cell_type": "markdown",
   "id": "a3fe010d-d4d3-49d8-8784-33cb65675fab",
   "metadata": {},
   "source": [
    "## Review CD56bright NK cell"
   ]
  },
  {
   "cell_type": "markdown",
   "id": "a464b913-0c58-42f5-853a-247ccd198147",
   "metadata": {},
   "source": [
    "### Suggested updates"
   ]
  },
  {
   "cell_type": "markdown",
   "id": "82387420-7093-4cd8-b296-fcbee2fe4020",
   "metadata": {},
   "source": [
    "- Remove CD3D+/IL7R+ cluster (9) as T cell doublet\n",
    "- Remove Low gene expression cluster (18) as low quality"
   ]
  },
  {
   "cell_type": "code",
   "execution_count": 36,
   "id": "1f705626-9bfa-4f3e-b6b9-500f1dd5e92f",
   "metadata": {},
   "outputs": [],
   "source": [
    "cell_type = 'CD56bright NK cell'\n",
    "type_uuid = search_df['id'].loc[search_df['AIFI_L3'] == cell_type].tolist()[0]"
   ]
  },
  {
   "cell_type": "code",
   "execution_count": 37,
   "id": "9d2980e4-70be-4b3b-ba4b-1cf2dc9c96aa",
   "metadata": {},
   "outputs": [
    {
     "data": {
      "text/plain": [
       "'8c5b3911-2727-4396-8332-765e0794ee50'"
      ]
     },
     "execution_count": 37,
     "metadata": {},
     "output_type": "execute_result"
    }
   ],
   "source": [
    "type_uuid"
   ]
  },
  {
   "cell_type": "code",
   "execution_count": null,
   "id": "8e00694c-21d8-4247-86a2-a8368d4ea484",
   "metadata": {},
   "outputs": [],
   "source": []
  }
 ],
 "metadata": {
  "kernelspec": {
   "display_name": "Python 3 (ipykernel)",
   "language": "python",
   "name": "python3"
  },
  "language_info": {
   "codemirror_mode": {
    "name": "ipython",
    "version": 3
   },
   "file_extension": ".py",
   "mimetype": "text/x-python",
   "name": "python",
   "nbconvert_exporter": "python",
   "pygments_lexer": "ipython3",
   "version": "3.10.13"
  }
 },
 "nbformat": 4,
 "nbformat_minor": 5
}
