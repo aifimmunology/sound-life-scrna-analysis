{
 "cells": [
  {
   "cell_type": "markdown",
   "id": "380a2bd5-4187-4b9a-80da-46b03bd696b2",
   "metadata": {},
   "source": [
    "# Review plots and statistics for label refinement\n",
    "\n",
    "In this notebook, we'll use tools in R to plot and compute summary statistics about our cell label refinements."
   ]
  },
  {
   "cell_type": "markdown",
   "id": "1a8a1de6-caf5-47db-8bf3-15b1c3502429",
   "metadata": {},
   "source": [
    "## Install packages\n",
    "\n",
    "This package includes helper functions for plot colorsets"
   ]
  },
  {
   "cell_type": "code",
   "execution_count": 1,
   "id": "67f58c0e-66b8-4efa-b50c-2536c1ee56f4",
   "metadata": {},
   "outputs": [],
   "source": [
    "devtools::install_github(\"hypercompetent/colorway\", upgrade = \"never\", quiet = TRUE)"
   ]
  },
  {
   "cell_type": "markdown",
   "id": "93cefad9-3472-4a0f-bfa1-ea0c1ec61724",
   "metadata": {},
   "source": [
    "This package includes helpers for plot types, including river/sankey plots"
   ]
  },
  {
   "cell_type": "code",
   "execution_count": 4,
   "id": "6f59e789-2124-40e1-bbc4-d4969d2f775b",
   "metadata": {},
   "outputs": [],
   "source": [
    "devtools::install_github(\"alleninstitute/scrattch.vis\", upgrade = \"always\", quiet = TRUE)"
   ]
  },
  {
   "cell_type": "markdown",
   "id": "bf49f5ca-e60f-47d2-8352-6da2817b906f",
   "metadata": {},
   "source": [
    "## Load libraries\n",
    "\n",
    "`colorway`: ggplot colorsets  \n",
    "`cowplot`: Plot grid arrangement  \n",
    "`hise`: The R SDK for HISE  \n",
    "`data.table`: Efficient implementation of data frames  \n",
    "`dplyr`: Manipulation of data frames  \n",
    "`ggplot2`: Plotting using the grammar of graphics  \n",
    "`ggrastr`: Rasterized plotting to help with large UMAPs  \n",
    "`purrr`: functional programming tools for R  \n",
    "`furrr`: paralellization of `purrr` using `futures`  \n",
    "`scrattch.vis`: Plotting helper functions"
   ]
  },
  {
   "cell_type": "code",
   "execution_count": 5,
   "id": "6a254bf6-b39a-46aa-a6dd-d9ed509239e2",
   "metadata": {},
   "outputs": [],
   "source": [
    "quiet_library <- function(...) { suppressPackageStartupMessages(library(...)) }\n",
    "\n",
    "quiet_library(colorway)\n",
    "quiet_library(cowplot)\n",
    "quiet_library(hise)\n",
    "quiet_library(data.table)\n",
    "quiet_library(dplyr)\n",
    "quiet_library(ggplot2)\n",
    "quiet_library(ggrastr)\n",
    "quiet_library(purrr)\n",
    "quiet_library(furrr)\n",
    "quiet_library(scrattch.vis)"
   ]
  },
  {
   "cell_type": "code",
   "execution_count": 6,
   "id": "3b629c11-2271-4ff3-9935-0b6781d78fe4",
   "metadata": {},
   "outputs": [],
   "source": [
    "plan(multisession, workers = 12)"
   ]
  },
  {
   "cell_type": "code",
   "execution_count": 7,
   "id": "119c4ab1-6fb9-4549-b630-f8d8dc0b8ea5",
   "metadata": {},
   "outputs": [],
   "source": [
    "if(!dir.exists(\"output\")) {\n",
    "    dir.create(\"output\")\n",
    "}"
   ]
  },
  {
   "cell_type": "markdown",
   "id": "93b62f4e-3843-4c84-81a4-99af3d2d4638",
   "metadata": {},
   "source": [
    "## Read cell type hierarchy from HISE\n",
    "\n",
    "Needed for cases where we forgot to back-propagate L2 and L1 types based on final AIFI_L3 designations"
   ]
  },
  {
   "cell_type": "code",
   "execution_count": 8,
   "id": "8cd8e3eb-073f-4b75-9bd6-3ebd5331ae65",
   "metadata": {},
   "outputs": [],
   "source": [
    "hierarchy_uuid <- \"1a44252c-8cab-4c8f-92c9-d8f3af633790\"\n",
    "hise_res <- cacheFiles(list(hierarchy_uuid))\n",
    "hierarchy_file <- list.files(paste0(\"cache/\", hierarchy_uuid), full.names = TRUE)\n",
    "hierarchy_df <- read.csv(hierarchy_file, row.names = 1)"
   ]
  },
  {
   "cell_type": "markdown",
   "id": "61ea5e73-9a4a-4a1c-9e62-49c98b002344",
   "metadata": {},
   "source": [
    "## Helper functions"
   ]
  },
  {
   "cell_type": "markdown",
   "id": "3883c1bd-788e-4354-a961-c281d1b4b9f7",
   "metadata": {},
   "source": [
    "These functions pull our previously generated results and provide paths to the files after retrieving them."
   ]
  },
  {
   "cell_type": "code",
   "execution_count": 9,
   "id": "3db7a60e-12ec-48be-b481-ef96f023552c",
   "metadata": {},
   "outputs": [],
   "source": [
    "cache_path_uuid <- function(uuid) {\n",
    "    cache_dir = paste0('cache/', uuid)\n",
    "    if (!dir.exists(cache_dir)) {\n",
    "        cacheFiles(list(uuid))\n",
    "    }\n",
    "    list.files(cache_dir, full.names = TRUE)\n",
    "}"
   ]
  },
  {
   "cell_type": "code",
   "execution_count": 10,
   "id": "63e64809-e914-4a22-b257-441c8b427d7d",
   "metadata": {},
   "outputs": [],
   "source": [
    "cache_tar_path_uuid <- function(uuid) {\n",
    "    cache_dir = paste0('cache/', uuid)\n",
    "    if (!dir.exists(cache_dir)) {\n",
    "        cacheFiles(list(uuid))\n",
    "    }\n",
    "    if (!dir.exists('output/review')) {\n",
    "        dir.create('output/review')\n",
    "    }\n",
    "    tarfile = list.files(cache_dir, full.names = TRUE)\n",
    "    old_rev_files = list.files('output/review', full.names = TRUE)\n",
    "    system(paste(\"tar -xf\", tarfile))\n",
    "    new_rev_files = list.files('output/review', full.names = TRUE)\n",
    "    setdiff(new_rev_files, old_rev_files)\n",
    "}"
   ]
  },
  {
   "cell_type": "markdown",
   "id": "c1dc9707-9d6f-41c9-91cb-9fe96324f23f",
   "metadata": {},
   "source": [
    "## Plotting functions"
   ]
  },
  {
   "cell_type": "code",
   "execution_count": 11,
   "id": "485f0e02-007e-49fd-9296-f6fa0ea0c3f1",
   "metadata": {},
   "outputs": [],
   "source": [
    "format_perc <- function(x, dec = 2) {\n",
    "    format(round(x * 100, 2), nsmall = dec)\n",
    "}"
   ]
  },
  {
   "cell_type": "code",
   "execution_count": 12,
   "id": "7db0ccb9-35a5-43c2-a390-36c74fd178a4",
   "metadata": {},
   "outputs": [],
   "source": [
    "plot_umap <- function(meta_df, color_by = \"AIFI_L2\", color_name = NULL) {\n",
    "    if(is.null(color_name)) {\n",
    "        color_name <- color_by\n",
    "    }\n",
    "    color_by = rlang::parse_expr(color_by)\n",
    "\n",
    "    meta_df <- meta_df[sample(1:nrow(meta_df), nrow(meta_df)),]\n",
    "    \n",
    "    p <- ggplot() +\n",
    "      geom_point_rast(\n",
    "          data = meta_df,\n",
    "          aes(x = umap_1,\n",
    "              y = umap_2,\n",
    "              color = !!color_by),\n",
    "          size = 0.02\n",
    "      ) +\n",
    "      scale_color_varibow() +\n",
    "      large_guides() +\n",
    "      theme_bw() +\n",
    "      theme(axis.ticks = element_blank(),\n",
    "            legend.position = \"bottom\")\n",
    "    p\n",
    "}"
   ]
  },
  {
   "cell_type": "code",
   "execution_count": 13,
   "id": "e8dfaf1f-1fa4-454e-ace9-ac325ad26de0",
   "metadata": {},
   "outputs": [],
   "source": [
    "plot_markers <- function(marker_df, level = \"AIFI_L2\") {\n",
    "    level = rlang::parse_expr(level)\n",
    "    \n",
    "    ggplot() +\n",
    "      geom_point(\n",
    "          data = marker_df,\n",
    "          aes(x = gene,\n",
    "              y = !!level,\n",
    "              size = gene_frac,\n",
    "              fill = log(gene_mean + 1)),\n",
    "          pch = 21\n",
    "      ) +\n",
    "      scale_size_area() +\n",
    "      scale_fill_gradientn(\n",
    "          colors = c(\"black\", \"darkred\", \"red\", \"orangered\", \"orange\")\n",
    "      ) +\n",
    "      theme_bw() +\n",
    "      theme(axis.ticks = element_blank(),\n",
    "            axis.text.x = element_text(angle = 90, hjust = 1, vjust = 0.3))\n",
    "}"
   ]
  },
  {
   "cell_type": "code",
   "execution_count": 14,
   "id": "c31d00e9-80aa-4d27-bb6c-faa65ad041e7",
   "metadata": {},
   "outputs": [],
   "source": [
    "get_low_counts <- function(meta, column, collapse_n) {\n",
    "    column <- rlang::parse_expr(column)\n",
    "    meta %>%\n",
    "      group_by(!!column) %>%\n",
    "      summarise(n_cells = n(), .groups = \"keep\") %>%\n",
    "      filter(n_cells <= collapse_n) %>%\n",
    "      select(!!column) %>%\n",
    "      unlist()\n",
    "}"
   ]
  },
  {
   "cell_type": "code",
   "execution_count": 15,
   "id": "4965fdbf-1fbf-4590-8941-794096528124",
   "metadata": {},
   "outputs": [],
   "source": [
    "plot_l2_river <- function(meta, l2_colors, collapse_n = 10) {\n",
    "    plot_meta <- meta %>%\n",
    "      select(original_L2, predicted_AIFI_L2, AIFI_L2)\n",
    "    \n",
    "    if(!is.null(collapse_n)) {\n",
    "        original_drop <- get_low_counts(plot_meta, \"original_L2\", collapse_n)\n",
    "        predicted_drop <- get_low_counts(plot_meta, \"predicted_AIFI_L2\", collapse_n)\n",
    "        plot_meta <- plot_meta %>%\n",
    "          mutate(original_L2 = ifelse(original_L2 %in% original_drop, \"other\", original_L2),\n",
    "                 predicted_AIFI_L2 = ifelse(predicted_AIFI_L2 %in% predicted_drop, \"other\", predicted_AIFI_L2))\n",
    "    }\n",
    "    \n",
    "    l2_plot_data <- plot_meta %>%\n",
    "      left_join(rename(l2_colors, original_L2 = L2, original_L2_id = id, original_L2_color = color),\n",
    "                by = \"original_L2\") %>%\n",
    "      left_join(rename(l2_colors, predicted_AIFI_L2 = L2, predicted_AIFI_L2_id = id, predicted_AIFI_L2_color = color),\n",
    "                by = \"predicted_AIFI_L2\") %>%\n",
    "      left_join(rename(l2_colors, AIFI_L2 = L2, AIFI_L2_id = id, AIFI_L2_color = color),\n",
    "                by = \"AIFI_L2\") %>%\n",
    "      rename(original_L2_label = original_L2,\n",
    "             predicted_AIFI_L2_label = predicted_AIFI_L2,\n",
    "             AIFI_L2_label = AIFI_L2)\n",
    "\n",
    "    build_river_plot(\n",
    "        anno = l2_plot_data,\n",
    "        grouping = c(\"original_L2\", \"predicted_AIFI_L2\", \"AIFI_L2\"),\n",
    "        label_pos = c(\"left\", \"center\", \"right\"),\n",
    "        fill_group = \"predicted_AIFI_L2\"\n",
    "    ) + \n",
    "        scale_x_continuous(expand = c(0.3, 0.3)) +\n",
    "        ggtitle(\"L2 Original -> Predicted -> Final\") +\n",
    "        theme(plot.background = element_rect(fill = \"white\"))\n",
    "}"
   ]
  },
  {
   "cell_type": "code",
   "execution_count": 16,
   "id": "60f804bb-1e3e-4eaf-bac7-d25c71d9e9bb",
   "metadata": {},
   "outputs": [],
   "source": [
    "plot_l3_river <- function(meta, l3_colors, collapse_n = 10) {\n",
    "    plot_meta <- meta %>%\n",
    "        select(original_L3, predicted_AIFI_L3, AIFI_L3)\n",
    "    \n",
    "    if(!is.null(collapse_n)) {\n",
    "        original_drop <- get_low_counts(plot_meta, \"original_L3\", collapse_n)\n",
    "        predicted_drop <- get_low_counts(plot_meta, \"predicted_AIFI_L3\", collapse_n)\n",
    "        plot_meta <- plot_meta %>%\n",
    "          mutate(original_L3 = ifelse(original_L3 %in% original_drop, \"other\", original_L3),\n",
    "                 predicted_AIFI_L3 = ifelse(predicted_AIFI_L3 %in% predicted_drop, \"other\", predicted_AIFI_L3))\n",
    "    }\n",
    "    \n",
    "    l3_plot_data <- plot_meta %>%\n",
    "      left_join(rename(l3_colors, original_L3 = L3, original_L3_id = id, original_L3_color = color),\n",
    "                by = \"original_L3\") %>%\n",
    "      left_join(rename(l3_colors, predicted_AIFI_L3 = L3, predicted_AIFI_L3_id = id, predicted_AIFI_L3_color = color),\n",
    "                by = \"predicted_AIFI_L3\") %>%\n",
    "      left_join(rename(l3_colors, AIFI_L3 = L3, AIFI_L3_id = id, AIFI_L3_color = color),\n",
    "                by = \"AIFI_L3\") %>%\n",
    "      rename(original_L3_label = original_L3,\n",
    "             predicted_AIFI_L3_label = predicted_AIFI_L3,\n",
    "             AIFI_L3_label = AIFI_L3)\n",
    "\n",
    "    build_river_plot(\n",
    "        anno = l3_plot_data,\n",
    "        grouping = c(\"original_L3\", \"predicted_AIFI_L3\", \"AIFI_L3\"),\n",
    "        label_pos = c(\"left\", \"center\", \"right\"),\n",
    "        fill_group = \"predicted_AIFI_L3\"\n",
    "    ) + \n",
    "        scale_x_continuous(expand = c(0.3, 0.3)) +\n",
    "        ggtitle(\"L3 Original -> Predicted -> Final\") +\n",
    "        theme(plot.background = element_rect(fill = \"white\"))\n",
    "}"
   ]
  },
  {
   "cell_type": "markdown",
   "id": "58f15415-3cc9-4b9c-a574-37c67c3ea1ca",
   "metadata": {},
   "source": [
    "## Previous, non-tracked version of cell labels\n",
    "\n",
    "We previously performed cell labeling in a way that wasn't tracked in our CertPro system. We'll compare our new results to these original results and make sure they're similar."
   ]
  },
  {
   "cell_type": "code",
   "execution_count": 17,
   "id": "e54ec103-aaa4-47bb-b5e5-e61104ea197b",
   "metadata": {},
   "outputs": [],
   "source": [
    "label_uuid <- \"3868592c-0087-4ed8-98b2-4bf1b8676111\"\n",
    "res <- cacheFiles(list(label_uuid))\n",
    "label_parquet <- list.files(paste0(\"cache/\",label_uuid), full.names = TRUE)\n",
    "label_csv <- sub(\"parquet\",\"csv\",label_parquet)\n",
    "label_csv <- basename(label_csv)"
   ]
  },
  {
   "cell_type": "markdown",
   "id": "74cae16a-4ee5-4290-8a05-d425107240e7",
   "metadata": {},
   "source": [
    "Convert from parquet to csv for easy reading in R because our IDEs are having trouble with the `arrow` package:"
   ]
  },
  {
   "cell_type": "code",
   "execution_count": 18,
   "id": "1cef4666-2116-4aba-be79-cba4e1769c1f",
   "metadata": {},
   "outputs": [],
   "source": [
    "system_call <- paste0(\n",
    "    \"python -c \\'\",\n",
    "    \"import pandas; \",\n",
    "    \"df = pandas.read_parquet(\\\"\",label_parquet,\"\\\");\",\n",
    "    \"df = df[[\\\"barcodes\\\",\\\"AIFI_L1\\\",\\\"AIFI_L2\\\",\\\"AIFI_L3\\\"]];\",\n",
    "    \"df.to_csv(\\\"\",label_csv,\"\\\")\",\n",
    "    \"\\'\"\n",
    ")"
   ]
  },
  {
   "cell_type": "code",
   "execution_count": 19,
   "id": "e7045e97-6a17-45e5-be21-6edc372a08f6",
   "metadata": {},
   "outputs": [
    {
     "data": {
      "text/html": [
       "'python -c \\'import pandas; df = pandas.read_parquet(\"cache/3868592c-0087-4ed8-98b2-4bf1b8676111/all_imm_health_obs.parquet\");df = df[[\"barcodes\",\"AIFI_L1\",\"AIFI_L2\",\"AIFI_L3\"]];df.to_csv(\"all_imm_health_obs.csv\")\\''"
      ],
      "text/latex": [
       "'python -c \\textbackslash{}'import pandas; df = pandas.read\\_parquet(\"cache/3868592c-0087-4ed8-98b2-4bf1b8676111/all\\_imm\\_health\\_obs.parquet\");df = df{[}{[}\"barcodes\",\"AIFI\\_L1\",\"AIFI\\_L2\",\"AIFI\\_L3\"{]}{]};df.to\\_csv(\"all\\_imm\\_health\\_obs.csv\")\\textbackslash{}''"
      ],
      "text/markdown": [
       "'python -c \\'import pandas; df = pandas.read_parquet(\"cache/3868592c-0087-4ed8-98b2-4bf1b8676111/all_imm_health_obs.parquet\");df = df[[\"barcodes\",\"AIFI_L1\",\"AIFI_L2\",\"AIFI_L3\"]];df.to_csv(\"all_imm_health_obs.csv\")\\''"
      ],
      "text/plain": [
       "[1] \"python -c 'import pandas; df = pandas.read_parquet(\\\"cache/3868592c-0087-4ed8-98b2-4bf1b8676111/all_imm_health_obs.parquet\\\");df = df[[\\\"barcodes\\\",\\\"AIFI_L1\\\",\\\"AIFI_L2\\\",\\\"AIFI_L3\\\"]];df.to_csv(\\\"all_imm_health_obs.csv\\\")'\""
      ]
     },
     "metadata": {},
     "output_type": "display_data"
    }
   ],
   "source": [
    "system_call"
   ]
  },
  {
   "cell_type": "code",
   "execution_count": 20,
   "id": "bd990771-9493-4574-9f97-c57547843892",
   "metadata": {},
   "outputs": [],
   "source": [
    "system(system_call)"
   ]
  },
  {
   "cell_type": "markdown",
   "id": "6c4fd80a-cef6-469f-908e-1e3a402a1322",
   "metadata": {},
   "source": [
    "Python version information in case we need it for reproducibility:"
   ]
  },
  {
   "cell_type": "code",
   "execution_count": 21,
   "id": "8d369c96-6a2f-4a36-ba27-b86f758a5ed6",
   "metadata": {},
   "outputs": [
    {
     "data": {
      "text/html": [
       "'Python 3.10.13'"
      ],
      "text/latex": [
       "'Python 3.10.13'"
      ],
      "text/markdown": [
       "'Python 3.10.13'"
      ],
      "text/plain": [
       "[1] \"Python 3.10.13\""
      ]
     },
     "metadata": {},
     "output_type": "display_data"
    }
   ],
   "source": [
    "system(\"python --version\", intern = TRUE)"
   ]
  },
  {
   "cell_type": "code",
   "execution_count": 22,
   "id": "9590da0a-4c78-4022-b51a-5f746dcf8e73",
   "metadata": {},
   "outputs": [
    {
     "data": {
      "text/html": [
       "'2.1.4'"
      ],
      "text/latex": [
       "'2.1.4'"
      ],
      "text/markdown": [
       "'2.1.4'"
      ],
      "text/plain": [
       "[1] \"2.1.4\""
      ]
     },
     "metadata": {},
     "output_type": "display_data"
    }
   ],
   "source": [
    "system(\"python -c 'import pandas; print(pandas.__version__)'\", intern = TRUE)"
   ]
  },
  {
   "cell_type": "code",
   "execution_count": 23,
   "id": "c3ad61c5-a64f-4813-be1a-9fa574ce6676",
   "metadata": {},
   "outputs": [],
   "source": [
    "og_labels <- fread(label_csv, header = TRUE)\n",
    "og_labels <- og_labels[,V1:=NULL]"
   ]
  },
  {
   "cell_type": "code",
   "execution_count": 24,
   "id": "6878c80f-7814-42e8-b205-2881d3b77cfa",
   "metadata": {},
   "outputs": [],
   "source": [
    "og_labels <- as.data.frame(og_labels)"
   ]
  },
  {
   "cell_type": "code",
   "execution_count": 25,
   "id": "5a2496f4-869a-4fa1-ae8a-df0cc77aadba",
   "metadata": {},
   "outputs": [],
   "source": [
    "names(og_labels) <- sub(\"AIFI\", \"original\", names(og_labels))"
   ]
  },
  {
   "cell_type": "code",
   "execution_count": 26,
   "id": "051a7f04-8fc4-4b37-9ccf-5b66cc1f01a5",
   "metadata": {},
   "outputs": [
    {
     "data": {
      "text/html": [
       "13846464"
      ],
      "text/latex": [
       "13846464"
      ],
      "text/markdown": [
       "13846464"
      ],
      "text/plain": [
       "[1] 13846464"
      ]
     },
     "metadata": {},
     "output_type": "display_data"
    }
   ],
   "source": [
    "nrow(og_labels)"
   ]
  },
  {
   "cell_type": "code",
   "execution_count": 27,
   "id": "9d3bfb40-b7db-45dc-b04d-0a9dd442f7df",
   "metadata": {},
   "outputs": [
    {
     "data": {
      "text/html": [
       "<table class=\"dataframe\">\n",
       "<caption>A data.frame: 6 × 4</caption>\n",
       "<thead>\n",
       "\t<tr><th></th><th scope=col>barcodes</th><th scope=col>original_L1</th><th scope=col>original_L2</th><th scope=col>original_L3</th></tr>\n",
       "\t<tr><th></th><th scope=col>&lt;chr&gt;</th><th scope=col>&lt;chr&gt;</th><th scope=col>&lt;chr&gt;</th><th scope=col>&lt;chr&gt;</th></tr>\n",
       "</thead>\n",
       "<tbody>\n",
       "\t<tr><th scope=row>1</th><td>05ea9806794211eb93b836d1cb6129eb</td><td>DC</td><td>cDC1</td><td>cDC1</td></tr>\n",
       "\t<tr><th scope=row>2</th><td>e225c914794011eb9282e2ceeb91ba52</td><td>DC</td><td>cDC1</td><td>cDC1</td></tr>\n",
       "\t<tr><th scope=row>3</th><td>b1379eae795411eb958b0245821e6993</td><td>DC</td><td>cDC1</td><td>cDC1</td></tr>\n",
       "\t<tr><th scope=row>4</th><td>b13d3a8a795411eb958b0245821e6993</td><td>DC</td><td>cDC1</td><td>cDC1</td></tr>\n",
       "\t<tr><th scope=row>5</th><td>b1430d16795411eb958b0245821e6993</td><td>DC</td><td>cDC1</td><td>cDC1</td></tr>\n",
       "\t<tr><th scope=row>6</th><td>7f926876794e11eb80b0ca7613f64db1</td><td>DC</td><td>cDC1</td><td>cDC1</td></tr>\n",
       "</tbody>\n",
       "</table>\n"
      ],
      "text/latex": [
       "A data.frame: 6 × 4\n",
       "\\begin{tabular}{r|llll}\n",
       "  & barcodes & original\\_L1 & original\\_L2 & original\\_L3\\\\\n",
       "  & <chr> & <chr> & <chr> & <chr>\\\\\n",
       "\\hline\n",
       "\t1 & 05ea9806794211eb93b836d1cb6129eb & DC & cDC1 & cDC1\\\\\n",
       "\t2 & e225c914794011eb9282e2ceeb91ba52 & DC & cDC1 & cDC1\\\\\n",
       "\t3 & b1379eae795411eb958b0245821e6993 & DC & cDC1 & cDC1\\\\\n",
       "\t4 & b13d3a8a795411eb958b0245821e6993 & DC & cDC1 & cDC1\\\\\n",
       "\t5 & b1430d16795411eb958b0245821e6993 & DC & cDC1 & cDC1\\\\\n",
       "\t6 & 7f926876794e11eb80b0ca7613f64db1 & DC & cDC1 & cDC1\\\\\n",
       "\\end{tabular}\n"
      ],
      "text/markdown": [
       "\n",
       "A data.frame: 6 × 4\n",
       "\n",
       "| <!--/--> | barcodes &lt;chr&gt; | original_L1 &lt;chr&gt; | original_L2 &lt;chr&gt; | original_L3 &lt;chr&gt; |\n",
       "|---|---|---|---|---|\n",
       "| 1 | 05ea9806794211eb93b836d1cb6129eb | DC | cDC1 | cDC1 |\n",
       "| 2 | e225c914794011eb9282e2ceeb91ba52 | DC | cDC1 | cDC1 |\n",
       "| 3 | b1379eae795411eb958b0245821e6993 | DC | cDC1 | cDC1 |\n",
       "| 4 | b13d3a8a795411eb958b0245821e6993 | DC | cDC1 | cDC1 |\n",
       "| 5 | b1430d16795411eb958b0245821e6993 | DC | cDC1 | cDC1 |\n",
       "| 6 | 7f926876794e11eb80b0ca7613f64db1 | DC | cDC1 | cDC1 |\n",
       "\n"
      ],
      "text/plain": [
       "  barcodes                         original_L1 original_L2 original_L3\n",
       "1 05ea9806794211eb93b836d1cb6129eb DC          cDC1        cDC1       \n",
       "2 e225c914794011eb9282e2ceeb91ba52 DC          cDC1        cDC1       \n",
       "3 b1379eae795411eb958b0245821e6993 DC          cDC1        cDC1       \n",
       "4 b13d3a8a795411eb958b0245821e6993 DC          cDC1        cDC1       \n",
       "5 b1430d16795411eb958b0245821e6993 DC          cDC1        cDC1       \n",
       "6 7f926876794e11eb80b0ca7613f64db1 DC          cDC1        cDC1       "
      ]
     },
     "metadata": {},
     "output_type": "display_data"
    }
   ],
   "source": [
    "head(og_labels)"
   ]
  },
  {
   "cell_type": "code",
   "execution_count": 28,
   "id": "3f2cdca0-46e2-46e5-af99-d28f5a336422",
   "metadata": {},
   "outputs": [],
   "source": [
    "og_split <- split(og_labels, \"original_L2\")"
   ]
  },
  {
   "cell_type": "markdown",
   "id": "4884d067-365e-4366-b7e3-de5075ee8727",
   "metadata": {},
   "source": [
    "## Generate consistent colors for plotting"
   ]
  },
  {
   "cell_type": "code",
   "execution_count": 29,
   "id": "2467479a-7bf9-4089-9d23-da97fae60c58",
   "metadata": {},
   "outputs": [],
   "source": [
    "l2_colors <- og_labels %>%\n",
    "  select(original_L2) %>%\n",
    "  unique() %>%\n",
    "  arrange(original_L2) %>%\n",
    "  mutate(id = 1:n(), \n",
    "         color = varibow(n())) %>%\n",
    "  rename(L2 = original_L2)\n",
    "l2_colors <- rbind(l2_colors, data.frame(L2 = \"other\", id = max(l2_colors$id) + 1, color = \"#000000\") )"
   ]
  },
  {
   "cell_type": "code",
   "execution_count": 30,
   "id": "72e8040c-a313-40d8-b5a6-87b16e41d4e3",
   "metadata": {},
   "outputs": [],
   "source": [
    "l3_colors <- og_labels %>%\n",
    "  select(original_L3) %>%\n",
    "  unique() %>%\n",
    "  arrange(original_L3) %>%\n",
    "  mutate(id = 1:n(),\n",
    "         color = varibow(n())) %>%\n",
    "  rename(L3 = original_L3)\n",
    "l3_colors <- rbind(l3_colors, data.frame(L3 = \"other\", id = max(l3_colors$id) + 1, color = \"#000000\") )"
   ]
  },
  {
   "cell_type": "markdown",
   "id": "717ef60f-9818-4ea9-b855-ca5adb8e1a8e",
   "metadata": {},
   "source": [
    "## Large cell sets: decompress results\n",
    "\n",
    "For large cell sets, review data were stored in .tar.gz files. We'll retrieve these from HISE and extract data for plot generation."
   ]
  },
  {
   "cell_type": "code",
   "execution_count": 31,
   "id": "3a5df1c1-1d4d-458a-a3d2-e712b1351a60",
   "metadata": {},
   "outputs": [],
   "source": [
    "large_tar_uuids <- list(\n",
    "    monocyte_markers = '4d2707b8-634a-4057-8a99-a810966457ec',\n",
    "    monoctye_labels = 'a205f299-1e28-4cd6-a19b-40e6433fa21b',\n",
    "    nk_cells = '73fd91b2-0ef5-429e-877e-b7e9f8748d34',\n",
    "    t_cd4_naive = '3a562e35-c698-4d11-a1b1-c609ce94f65d',\n",
    "    t_cd4_memory = '016663fa-ea76-4cbc-b7f8-81ac7957dc24',\n",
    "    t_cd8_memory = 'eb1c31d3-5288-4092-84d0-a719b9234839'\n",
    ")"
   ]
  },
  {
   "cell_type": "code",
   "execution_count": 32,
   "id": "01086d3e-2e65-4a7d-b0c3-6b8aa3bcdbf4",
   "metadata": {},
   "outputs": [],
   "source": [
    "large_paths <- map2(\n",
    "    large_tar_uuids, names(large_tar_uuids),\n",
    "    function(uuid, group_name) {\n",
    "        res <- cacheFiles(list(uuid))\n",
    "        cache_dir <- paste0(\"cache/\", uuid)\n",
    "        tar_file <- list.files(cache_dir, pattern = \".tar.gz\", full.names = TRUE)\n",
    "        system_call <- paste('tar -xzf', tar_file)\n",
    "        system(system_call)\n",
    "\n",
    "        group_files <- list.files(\"output/review\", full.names = TRUE)\n",
    "        group_path <- paste0(\"data/\",group_name)\n",
    "\n",
    "        if(!dir.exists(group_path)) {\n",
    "            dir.create(group_path, recursive = TRUE)\n",
    "        }\n",
    "        move_files <- sub(\"output/review\", group_path, group_files)\n",
    "        file.rename(group_files, move_files)\n",
    "\n",
    "        list(\n",
    "            meta = list.files(group_path, pattern = \"review_meta\", full.names = TRUE),\n",
    "            l2_markers = list.files(group_path, pattern = \"L2_review_markers\", full.names = TRUE),\n",
    "            l3_markers = list.files(group_path, pattern = \"L3_review_markers\", full.names = TRUE)\n",
    "        )\n",
    "    }\n",
    ")"
   ]
  },
  {
   "cell_type": "markdown",
   "id": "ee62a343-7e03-4c3a-9ffc-6b9c2f0fcf56",
   "metadata": {},
   "source": [
    "## Small cell sets\n",
    "\n",
    "For smaller cell subsets, data were stored as .csv files for plot generation"
   ]
  },
  {
   "cell_type": "code",
   "execution_count": 33,
   "id": "d24f8623-a827-4202-a07a-68482b6d9fc6",
   "metadata": {},
   "outputs": [],
   "source": [
    "small_uuids <- list(\n",
    "    asdc = list(\n",
    "        meta = 'cce70b23-5728-4588-963e-8f0afafa3943',\n",
    "        l2_markers = 'fa63cbdd-2652-4c4e-957b-9570fc9c07d4',\n",
    "        l3_markers = 'dbc20c14-5167-4e3f-a3bf-d9220dcfbe69'),\n",
    "    b_memory_cells = list(\n",
    "        meta = 'a712dc74-43b3-4dff-927e-d018dd369f9b',\n",
    "        l2_markers = '9f584726-b096-44fc-91fb-8a73990fad9f',\n",
    "        l3_markers = '6f79ee5a-7139-45d7-937d-42560209f3be'),\n",
    "    b_naive_cells = list(\n",
    "        meta = '3a1b1129-65ca-4f17-bc0f-2a53ac2ae963',\n",
    "        l2_markers = 'd2ed48a3-55b4-4d96-96ec-c18724be1dd0',\n",
    "        l3_markers = '785537bb-e651-454d-b332-4a971dc7cc87'),\n",
    "    dc = list(\n",
    "        meta = '63287a4b-adf0-42fc-8a75-37223d2f97de',\n",
    "        l2_markers = '7b88180c-c403-4b67-a3a7-8d7577306516',\n",
    "        l3_markers = '0474e3de-fc64-4b76-af50-f8da731a372d'),\n",
    "    gdt_cd8aa = list(\n",
    "        meta = 'cd513dd2-a72f-48e6-85b7-bad4676cb13f',\n",
    "        l2_markers = '460daa3f-18be-4db3-a758-14d5e7401067',\n",
    "        l3_markers = '9c513b26-4852-4f13-8cf9-d6f15b05e76a'),\n",
    "    treg = list(\n",
    "        meta = 'aab9cd47-29cd-4be4-bb86-2ed511b3d4e2',\n",
    "        l2_markers = '6471c399-6248-4332-a96f-bb6ffb49cc82',\n",
    "        l3_markers = 'a5c244f4-108f-4495-82de-8e774b73de60'),\n",
    "    progen_prolif = list(\n",
    "        meta = '8226e775-8f4d-452e-b81e-3f3fb4a70d1e',\n",
    "        l2_markers = 'a6296c2b-ccf5-40b5-b3c9-2a0820532cc6',\n",
    "        l3_markers = '7fbbd0f0-2162-40b8-8511-7380f8657280'),\n",
    "    eryth_platelet = list(\n",
    "        meta = 'e5c881d6-0576-4067-b624-4e984fe97900',\n",
    "        l2_markers = '754d78fe-5ca5-49c4-aa26-33e06ab76fd1',\n",
    "        l3_markers = '1f0160f4-8e32-4f98-8960-b7086fcb0cee'),\n",
    "    plasma_ilc = list(\n",
    "        meta = 'b3636d73-58c9-4972-8fb9-1cb51439c377',\n",
    "        l2_markers = 'b5034de4-5650-4c8f-ae25-c8cb0449463d',\n",
    "        l3_markers = '68d14aa0-a632-4f53-8c8a-5c90441b20fe'),\n",
    "    dnt_mait = list(\n",
    "        meta = '4ce56aca-03a9-46b2-9a32-924a35602fce',\n",
    "        l2_markers = 'bcaf5cc3-9255-4223-bd84-95795853dd2b',\n",
    "        l3_markers = 'f1dd5a2b-38e2-4787-a2d3-d2a49cbf3353'),\n",
    "    cd8_naive = list(\n",
    "        meta = '45668c5c-1a48-4fae-9d59-fa566063263e',\n",
    "        l2_markers = 'ed30d2e7-5c8e-4477-bd9b-c378d262a531',\n",
    "        l3_markers = '83046eb4-730a-4e4d-af50-3fc7d03f5942')\n",
    ")"
   ]
  },
  {
   "cell_type": "code",
   "execution_count": 34,
   "id": "d9795de8-2fa3-4426-bdca-a08d331f1fd7",
   "metadata": {},
   "outputs": [],
   "source": [
    "small_paths <- future_map(\n",
    "    small_uuids,\n",
    "    function(uuid_set) {\n",
    "        map(uuid_set, cache_path_uuid)\n",
    "    }\n",
    ")"
   ]
  },
  {
   "cell_type": "code",
   "execution_count": 35,
   "id": "cdcff357-6965-4f36-99d2-2e60ddf9f5aa",
   "metadata": {},
   "outputs": [],
   "source": [
    "all_paths <- c(small_paths, large_paths)"
   ]
  },
  {
   "cell_type": "code",
   "execution_count": 36,
   "id": "6151322c-66b1-4038-8e0f-9609d09ef689",
   "metadata": {},
   "outputs": [],
   "source": [
    "all_dfs <- future_map(\n",
    "    all_paths,\n",
    "    function(path_set) {\n",
    "        dts <- map(path_set, fread)\n",
    "        map(dts, as.data.frame)\n",
    "    }\n",
    ")"
   ]
  },
  {
   "cell_type": "code",
   "execution_count": 37,
   "id": "d4042b72-a5af-4b11-9bd7-cf85358cf7bb",
   "metadata": {},
   "outputs": [],
   "source": [
    "all_dfs <- map(\n",
    "    all_dfs,\n",
    "    function(df_set) {\n",
    "        df_set$meta <- df_set$meta %>%\n",
    "          left_join(og_labels, by = \"barcodes\")\n",
    "        df_set\n",
    "    }\n",
    ")"
   ]
  },
  {
   "cell_type": "markdown",
   "id": "e3e0aff0-7f11-4bf5-90ec-233b3dc1bbcf",
   "metadata": {},
   "source": [
    "Fix categorical label names"
   ]
  },
  {
   "cell_type": "code",
   "execution_count": 38,
   "id": "eb97eb50-0e0b-4bfb-93e2-a3c79f14087e",
   "metadata": {},
   "outputs": [],
   "source": [
    "all_dfs <- map(\n",
    "    all_dfs,\n",
    "    function(df_set) {\n",
    "        map(df_set,\n",
    "            function(df) {\n",
    "                if(\"AIFI_L3\" %in% names(df)) {\n",
    "                    df$AIFI_L3 <- gsub(\"', .+\",\"\",df$AIFI_L3)\n",
    "                    df$AIFI_L3 <- sub(\"\\\\['\",\"\",df$AIFI_L3)\n",
    "                }\n",
    "                df\n",
    "            })\n",
    "    }\n",
    ")"
   ]
  },
  {
   "cell_type": "markdown",
   "id": "b9c160b4-8d57-4db6-8c6b-1233f29e4b91",
   "metadata": {},
   "source": [
    "Fix missing hierarchical assignment"
   ]
  },
  {
   "cell_type": "code",
   "execution_count": 39,
   "id": "b2883b94-f343-47d0-884f-8ef085f5cd23",
   "metadata": {},
   "outputs": [],
   "source": [
    "all_dfs <- map(\n",
    "    all_dfs,\n",
    "    function(df_set) {\n",
    "        meta <- df_set$meta\n",
    "        if(!\"predicted_AIFI_L2\" %in% names(meta)) {\n",
    "            meta <- meta %>%\n",
    "              rename(predicted_AIFI_L1 = AIFI_L1,\n",
    "                     predicted_AIFI_L2 = AIFI_L2) %>%\n",
    "              left_join(hierarchy_df, by = \"AIFI_L3\")\n",
    "            df_set$meta <- meta\n",
    "        }\n",
    "        df_set\n",
    "    }\n",
    ")"
   ]
  },
  {
   "cell_type": "code",
   "execution_count": 40,
   "id": "c2ab63d0-0660-4fe7-b39b-6e14123c21e6",
   "metadata": {
    "scrolled": true
   },
   "outputs": [
    {
     "name": "stderr",
     "output_type": "stream",
     "text": [
      "Warning message:\n",
      "“\u001b[1m\u001b[22mRemoved 625 rows containing missing values (`geom_point()`).”\n",
      "Warning message:\n",
      "“\u001b[1m\u001b[22mRemoved 625 rows containing missing values (`geom_point()`).”\n",
      "Warning message:\n",
      "“\u001b[1m\u001b[22mRemoved 1 rows containing missing values (`geom_text()`).”\n",
      "Warning message:\n",
      "“\u001b[1m\u001b[22mRemoved 1 rows containing missing values (`geom_text()`).”\n",
      "Warning message:\n",
      "“\u001b[1m\u001b[22mRemoved 3683 rows containing missing values (`geom_point()`).”\n",
      "Warning message:\n",
      "“\u001b[1m\u001b[22mRemoved 3683 rows containing missing values (`geom_point()`).”\n",
      "Warning message:\n",
      "“\u001b[1m\u001b[22mRemoved 1 rows containing missing values (`geom_text()`).”\n",
      "Warning message:\n",
      "“\u001b[1m\u001b[22mRemoved 1 rows containing missing values (`geom_text()`).”\n",
      "Warning message:\n",
      "“\u001b[1m\u001b[22mRemoved 13144 rows containing missing values (`geom_point()`).”\n",
      "Warning message:\n",
      "“\u001b[1m\u001b[22mRemoved 13144 rows containing missing values (`geom_point()`).”\n",
      "Warning message:\n",
      "“\u001b[1m\u001b[22mRemoved 1 rows containing missing values (`geom_text()`).”\n",
      "Warning message:\n",
      "“\u001b[1m\u001b[22mRemoved 1 rows containing missing values (`geom_text()`).”\n",
      "Warning message:\n",
      "“\u001b[1m\u001b[22mRemoved 981 rows containing missing values (`geom_point()`).”\n",
      "Warning message:\n",
      "“\u001b[1m\u001b[22mRemoved 981 rows containing missing values (`geom_point()`).”\n",
      "Warning message:\n",
      "“\u001b[1m\u001b[22mRemoved 1 rows containing missing values (`geom_text()`).”\n",
      "Warning message:\n",
      "“\u001b[1m\u001b[22mRemoved 1 rows containing missing values (`geom_text()`).”\n",
      "Warning message:\n",
      "“\u001b[1m\u001b[22mRemoved 8471 rows containing missing values (`geom_point()`).”\n",
      "Warning message:\n",
      "“\u001b[1m\u001b[22mRemoved 8471 rows containing missing values (`geom_point()`).”\n",
      "Warning message:\n",
      "“\u001b[1m\u001b[22mRemoved 1 rows containing missing values (`geom_text()`).”\n",
      "Warning message:\n",
      "“\u001b[1m\u001b[22mRemoved 1 rows containing missing values (`geom_text()`).”\n",
      "Warning message:\n",
      "“\u001b[1m\u001b[22mRemoved 3268 rows containing missing values (`geom_point()`).”\n",
      "Warning message:\n",
      "“\u001b[1m\u001b[22mRemoved 3268 rows containing missing values (`geom_point()`).”\n",
      "Warning message:\n",
      "“\u001b[1m\u001b[22mRemoved 1 rows containing missing values (`geom_text()`).”\n",
      "Warning message:\n",
      "“\u001b[1m\u001b[22mRemoved 1 rows containing missing values (`geom_text()`).”\n",
      "Warning message:\n",
      "“\u001b[1m\u001b[22mRemoved 298 rows containing missing values (`geom_point()`).”\n",
      "Warning message:\n",
      "“\u001b[1m\u001b[22mRemoved 298 rows containing missing values (`geom_point()`).”\n",
      "Warning message:\n",
      "“\u001b[1m\u001b[22mRemoved 1 rows containing missing values (`geom_text()`).”\n",
      "Warning message:\n",
      "“\u001b[1m\u001b[22mRemoved 1 rows containing missing values (`geom_text()`).”\n",
      "Warning message:\n",
      "“\u001b[1m\u001b[22mRemoved 1729 rows containing missing values (`geom_point()`).”\n",
      "Warning message:\n",
      "“\u001b[1m\u001b[22mRemoved 1729 rows containing missing values (`geom_point()`).”\n",
      "Warning message:\n",
      "“\u001b[1m\u001b[22mRemoved 1 rows containing missing values (`geom_text()`).”\n",
      "Warning message:\n",
      "“\u001b[1m\u001b[22mRemoved 1 rows containing missing values (`geom_text()`).”\n",
      "Warning message:\n",
      "“\u001b[1m\u001b[22mRemoved 510 rows containing missing values (`geom_point()`).”\n",
      "Warning message:\n",
      "“\u001b[1m\u001b[22mRemoved 510 rows containing missing values (`geom_point()`).”\n",
      "Warning message:\n",
      "“\u001b[1m\u001b[22mRemoved 1 rows containing missing values (`geom_text()`).”\n",
      "Warning message:\n",
      "“\u001b[1m\u001b[22mRemoved 1 rows containing missing values (`geom_text()`).”\n",
      "Warning message:\n",
      "“\u001b[1m\u001b[22mRemoved 25441 rows containing missing values (`geom_point()`).”\n",
      "Warning message:\n",
      "“\u001b[1m\u001b[22mRemoved 25441 rows containing missing values (`geom_point()`).”\n",
      "Warning message:\n",
      "“\u001b[1m\u001b[22mRemoved 1 rows containing missing values (`geom_text()`).”\n",
      "Warning message:\n",
      "“\u001b[1m\u001b[22mRemoved 1 rows containing missing values (`geom_text()`).”\n",
      "Warning message:\n",
      "“\u001b[1m\u001b[22mRemoved 9902 rows containing missing values (`geom_point()`).”\n",
      "Warning message:\n",
      "“\u001b[1m\u001b[22mRemoved 9902 rows containing missing values (`geom_point()`).”\n",
      "Warning message:\n",
      "“\u001b[1m\u001b[22mRemoved 1 rows containing missing values (`geom_text()`).”\n",
      "Warning message:\n",
      "“\u001b[1m\u001b[22mRemoved 1 rows containing missing values (`geom_text()`).”\n",
      "Warning message:\n",
      "“\u001b[1m\u001b[22mRemoved 28780 rows containing missing values (`geom_point()`).”\n",
      "Warning message:\n",
      "“\u001b[1m\u001b[22mRemoved 28780 rows containing missing values (`geom_point()`).”\n",
      "Warning message:\n",
      "“\u001b[1m\u001b[22mRemoved 1 rows containing missing values (`geom_text()`).”\n",
      "Warning message:\n",
      "“\u001b[1m\u001b[22mRemoved 1 rows containing missing values (`geom_text()`).”\n",
      "Warning message:\n",
      "“\u001b[1m\u001b[22mRemoved 28780 rows containing missing values (`geom_point()`).”\n",
      "Warning message:\n",
      "“\u001b[1m\u001b[22mRemoved 28780 rows containing missing values (`geom_point()`).”\n",
      "Warning message:\n",
      "“\u001b[1m\u001b[22mRemoved 1 rows containing missing values (`geom_text()`).”\n",
      "Warning message:\n",
      "“\u001b[1m\u001b[22mRemoved 1 rows containing missing values (`geom_text()`).”\n",
      "Warning message:\n",
      "“\u001b[1m\u001b[22mRemoved 48075 rows containing missing values (`geom_point()`).”\n",
      "Warning message:\n",
      "“\u001b[1m\u001b[22mRemoved 48075 rows containing missing values (`geom_point()`).”\n",
      "Warning message:\n",
      "“\u001b[1m\u001b[22mRemoved 1 rows containing missing values (`geom_text()`).”\n",
      "Warning message:\n",
      "“\u001b[1m\u001b[22mRemoved 1 rows containing missing values (`geom_text()`).”\n",
      "Warning message:\n",
      "“\u001b[1m\u001b[22mRemoved 55558 rows containing missing values (`geom_point()`).”\n",
      "Warning message:\n",
      "“\u001b[1m\u001b[22mRemoved 55558 rows containing missing values (`geom_point()`).”\n",
      "Warning message:\n",
      "“\u001b[1m\u001b[22mRemoved 1 rows containing missing values (`geom_text()`).”\n",
      "Warning message:\n",
      "“\u001b[1m\u001b[22mRemoved 1 rows containing missing values (`geom_text()`).”\n",
      "Warning message:\n",
      "“\u001b[1m\u001b[22mRemoved 117488 rows containing missing values (`geom_point()`).”\n",
      "Warning message:\n",
      "“\u001b[1m\u001b[22mRemoved 117488 rows containing missing values (`geom_point()`).”\n",
      "Warning message:\n",
      "“\u001b[1m\u001b[22mRemoved 1 rows containing missing values (`geom_text()`).”\n",
      "Warning message:\n",
      "“\u001b[1m\u001b[22mRemoved 1 rows containing missing values (`geom_text()`).”\n",
      "Warning message:\n",
      "“\u001b[1m\u001b[22mRemoved 61024 rows containing missing values (`geom_point()`).”\n",
      "Warning message:\n",
      "“\u001b[1m\u001b[22mRemoved 61024 rows containing missing values (`geom_point()`).”\n",
      "Warning message:\n",
      "“\u001b[1m\u001b[22mRemoved 1 rows containing missing values (`geom_text()`).”\n",
      "Warning message:\n",
      "“\u001b[1m\u001b[22mRemoved 1 rows containing missing values (`geom_text()`).”\n"
     ]
    }
   ],
   "source": [
    "walk2(\n",
    "    all_dfs, names(all_dfs),\n",
    "    function(df_set, set_name) {\n",
    "\n",
    "        orig_l2_umap <- plot_umap(df_set$meta, \"original_L2\")\n",
    "        pred_l2_umap <- plot_umap(df_set$meta, \"predicted_AIFI_L2\")\n",
    "        l2_umap <- plot_umap(df_set$meta, \"AIFI_L2\")\n",
    "\n",
    "        orig_l3_umap <- plot_umap(df_set$meta, \"original_L3\")\n",
    "        pred_l3_umap <- plot_umap(df_set$meta, \"predicted_AIFI_L3\")\n",
    "        l3_umap <- plot_umap(df_set$meta, \"AIFI_L3\")\n",
    "\n",
    "        l2_river <- plot_l2_river(df_set$meta, l2_colors)\n",
    "        l3_river <- plot_l3_river(df_set$meta, l3_colors)\n",
    "\n",
    "        l2_marker <- plot_markers(df_set$l2_markers, \"AIFI_L2\")\n",
    "        l3_marker <- plot_markers(df_set$l3_markers, \"AIFI_L3\")\n",
    "\n",
    "        umap_grid <- plot_grid(orig_l2_umap, pred_l2_umap, l2_umap,\n",
    "                               orig_l3_umap, pred_l3_umap, l3_umap,\n",
    "                               ncol = 3, nrow = 2,\n",
    "                               align = \"hv\")\n",
    "        umap_file <- paste0(\"output/diha_\", set_name, \"_review_umaps_\",Sys.Date(),\".png\")\n",
    "        ggsave(\n",
    "            umap_file,\n",
    "            umap_grid,\n",
    "            width = 20, height = 18\n",
    "        )\n",
    "        \n",
    "        river_grid <- plot_grid(l2_river, l3_river,\n",
    "                                ncol = 2, nrow = 1)\n",
    "        marker_grid <- plot_grid(l2_marker, l3_marker,\n",
    "                                 ncol = 1, nrow = 2,\n",
    "                                 rel_heights = c(0.5, 1))\n",
    "        other_grid <- plot_grid(marker_grid, river_grid,\n",
    "                                ncol = 2, nrow = 1,\n",
    "                                rel_widths = c(0.7,1))\n",
    "        \n",
    "        other_file <- paste0(\"output/diha_\", set_name, \"_review_plots_\",Sys.Date(),\".png\")\n",
    "        ggsave(\n",
    "            other_file,\n",
    "            other_grid,\n",
    "            width = 24, height = 8\n",
    "        )\n",
    "    }\n",
    ")"
   ]
  },
  {
   "cell_type": "code",
   "execution_count": 41,
   "id": "e324fd03-67ec-49b6-940a-f293641acce8",
   "metadata": {},
   "outputs": [
    {
     "data": {
      "text/plain": [
       "R version 4.3.2 (2023-10-31)\n",
       "Platform: x86_64-conda-linux-gnu (64-bit)\n",
       "Running under: Ubuntu 20.04.6 LTS\n",
       "\n",
       "Matrix products: default\n",
       "BLAS/LAPACK: /opt/conda/lib/libopenblasp-r0.3.25.so;  LAPACK version 3.11.0\n",
       "\n",
       "locale:\n",
       " [1] LC_CTYPE=C.UTF-8       LC_NUMERIC=C           LC_TIME=C.UTF-8       \n",
       " [4] LC_COLLATE=C.UTF-8     LC_MONETARY=C.UTF-8    LC_MESSAGES=C.UTF-8   \n",
       " [7] LC_PAPER=C.UTF-8       LC_NAME=C              LC_ADDRESS=C          \n",
       "[10] LC_TELEPHONE=C         LC_MEASUREMENT=C.UTF-8 LC_IDENTIFICATION=C   \n",
       "\n",
       "time zone: Etc/UTC\n",
       "tzcode source: system (glibc)\n",
       "\n",
       "attached base packages:\n",
       "[1] stats     graphics  grDevices utils     datasets  methods   base     \n",
       "\n",
       "other attached packages:\n",
       " [1] scrattch.vis_0.1.000 ggdendro_0.2.0       ggbeeswarm_0.7.2    \n",
       " [4] furrr_0.3.1          future_1.33.1        purrr_1.0.2         \n",
       " [7] ggrastr_1.0.2        ggplot2_3.5.0        dplyr_1.1.4         \n",
       "[10] data.table_1.15.0    hise_2.16.0          cowplot_1.1.2       \n",
       "[13] colorway_0.2.0      \n",
       "\n",
       "loaded via a namespace (and not attached):\n",
       " [1] tidyselect_1.2.1  IRdisplay_1.1     vipor_0.4.7       farver_2.1.1     \n",
       " [5] bitops_1.0-7      fastmap_1.1.1     RCurl_1.98-1.14   promises_1.2.1   \n",
       " [9] digest_0.6.34     mime_0.12         lifecycle_1.0.4   Cairo_1.6-2      \n",
       "[13] ellipsis_0.3.2    processx_3.8.3    magrittr_2.0.3    compiler_4.3.2   \n",
       "[17] rlang_1.1.3       tools_4.3.2       utf8_1.2.4        labeling_0.4.3   \n",
       "[21] htmlwidgets_1.6.4 pkgbuild_1.4.3    curl_5.1.0        repr_1.1.6.9000  \n",
       "[25] pkgload_1.3.3     miniUI_0.1.1.1    pbdZMQ_0.3-10     withr_3.0.0      \n",
       "[29] desc_1.4.3        grid_4.3.2        fansi_1.0.6       urlchecker_1.0.1 \n",
       "[33] profvis_0.3.8     xtable_1.8-4      colorspace_2.1-0  globals_0.16.2   \n",
       "[37] scales_1.3.0      MASS_7.3-60       cli_3.6.2         crayon_1.5.2     \n",
       "[41] ragg_1.2.7        generics_0.1.3    remotes_2.4.2.1   httr_1.4.7       \n",
       "[45] sessioninfo_1.2.2 cachem_1.0.8      stringr_1.5.1     assertthat_0.2.1 \n",
       "[49] parallel_4.3.2    base64enc_0.1-3   vctrs_0.6.5       devtools_2.4.5   \n",
       "[53] jsonlite_1.8.8    callr_3.7.3       beeswarm_0.4.0    listenv_0.9.0    \n",
       "[57] systemfonts_1.0.5 glue_1.7.0        parallelly_1.36.0 codetools_0.2-19 \n",
       "[61] ps_1.7.5          stringi_1.8.3     gtable_0.3.4      later_1.3.2      \n",
       "[65] munsell_0.5.1     tibble_3.2.1      pillar_1.9.0      htmltools_0.5.7  \n",
       "[69] IRkernel_1.3.2    R6_2.5.1          textshaping_0.3.7 evaluate_0.23    \n",
       "[73] shiny_1.8.0       memoise_2.0.1     httpuv_1.6.14     Rcpp_1.0.12      \n",
       "[77] uuid_1.2-0        fs_1.6.3          usethis_2.2.2     pkgconfig_2.0.3  "
      ]
     },
     "metadata": {},
     "output_type": "display_data"
    }
   ],
   "source": [
    "sessionInfo()"
   ]
  },
  {
   "cell_type": "code",
   "execution_count": null,
   "id": "87283419-299d-4018-b637-3fc0a2283a0c",
   "metadata": {},
   "outputs": [],
   "source": []
  }
 ],
 "metadata": {
  "kernelspec": {
   "display_name": "R 4",
   "language": "R",
   "name": "ir4"
  },
  "language_info": {
   "codemirror_mode": "r",
   "file_extension": ".r",
   "mimetype": "text/x-r-source",
   "name": "R",
   "pygments_lexer": "r",
   "version": "4.3.2"
  }
 },
 "nbformat": 4,
 "nbformat_minor": 5
}
