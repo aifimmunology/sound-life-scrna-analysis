{
 "cells": [
  {
   "cell_type": "markdown",
   "id": "b0e67177-ecba-412a-a23c-ff562ad8f2db",
   "metadata": {},
   "source": [
    "# Generate plots to review filtering\n",
    "\n",
    "After our filtering of cell type clusters for doublets and low gene expression, we need to generate visualizations to review the accuracy of our filtering process.\n",
    "\n",
    "Here, we'll load the tables we generated during filtering to enable review for each cell type - cell metadata with labels, Louvain clusters, flags for filtering, and UMAP coordinates; tables of "
   ]
  },
  {
   "cell_type": "code",
   "execution_count": 1,
   "id": "b98a8b52-1581-4f4d-9e99-e65631954054",
   "metadata": {},
   "outputs": [],
   "source": [
    "quiet_library <- function(...) { suppressPackageStartupMessages(library(...)) }\n",
    "\n",
    "quiet_library(cowplot)\n",
    "quiet_library(data.table)\n",
    "quiet_library(dplyr)\n",
    "quiet_library(ggplot2)\n",
    "quiet_library(ggrastr)\n",
    "quiet_library(hise)\n",
    "quiet_library(purrr)\n",
    "quiet_library(furrr)"
   ]
  },
  {
   "cell_type": "code",
   "execution_count": 2,
   "id": "af716bcd-fcb7-4ae6-9536-c767ec0a7d68",
   "metadata": {},
   "outputs": [],
   "source": [
    "plan(multisession, workers = 24)"
   ]
  },
  {
   "cell_type": "markdown",
   "id": "f7757bdf-3bc4-45c9-bfc2-0d64d18a0d7c",
   "metadata": {},
   "source": [
    "## Helper functions"
   ]
  },
  {
   "cell_type": "code",
   "execution_count": 3,
   "id": "de343b86-5513-44d7-957a-32a24d0ffb41",
   "metadata": {},
   "outputs": [],
   "source": [
    "format_perc <- function(x, dec = 2) {\n",
    "    format(round(x * 100, 2), nsmall = dec)\n",
    "}"
   ]
  },
  {
   "cell_type": "code",
   "execution_count": 4,
   "id": "204ff27b-8273-4f00-b103-aa6c8c50ce88",
   "metadata": {},
   "outputs": [],
   "source": [
    "plot_clusters <- function(meta_df, cluster_col, plot_title) {\n",
    "    color <- rlang::parse_expr(cluster_col)\n",
    "\n",
    "    label_df <- meta_df %>%\n",
    "      group_by(!!color) %>%\n",
    "      summarise(umap_1 = median(umap_1),\n",
    "                umap_2 = median(umap_2))\n",
    "    \n",
    "    ggplot() +\n",
    "      geom_point_rast(\n",
    "          data = meta_df,\n",
    "          aes(x = umap_1,\n",
    "              y = umap_2,\n",
    "              color = !!color),\n",
    "          size = 0.2\n",
    "      ) +\n",
    "      geom_text(\n",
    "          data = label_df,\n",
    "          aes(x = umap_1,\n",
    "              y = umap_2,\n",
    "              label = !!color)\n",
    "      ) +\n",
    "      scale_color_discrete() +\n",
    "      scale_fill_discrete() +\n",
    "      theme_bw() +\n",
    "      ggtitle(plot_title)\n",
    "}"
   ]
  },
  {
   "cell_type": "code",
   "execution_count": 5,
   "id": "1969641d-08da-4b87-bce4-2a15d2b99e8b",
   "metadata": {},
   "outputs": [],
   "source": [
    "plot_removal <- function(meta_df, color_df, plot_title) {\n",
    "\n",
    "    label_df <- meta_df %>%\n",
    "      group_by(remove_reason) %>%\n",
    "      summarise(umap_1 = median(umap_1),\n",
    "                umap_2 = median(umap_2))\n",
    "    \n",
    "    ggplot() +\n",
    "      geom_point_rast(\n",
    "          data = meta_df,\n",
    "          aes(x = umap_1,\n",
    "              y = umap_2,\n",
    "              color = remove_reason),\n",
    "          size = 0.2\n",
    "      ) +\n",
    "      geom_label(\n",
    "          data = label_df,\n",
    "          aes(x = umap_1,\n",
    "              y = umap_2,\n",
    "              label = remove_reason,\n",
    "              fill = remove_reason)\n",
    "      ) +\n",
    "      scale_color_manual(\n",
    "          breaks = color_df$remove_reason,\n",
    "          values = color_df$remove_color\n",
    "      ) +\n",
    "      scale_fill_manual(\n",
    "          breaks = color_df$remove_reason,\n",
    "          values = color_df$remove_color\n",
    "      ) +\n",
    "      theme_bw() +\n",
    "      ggtitle(plot_title)\n",
    "}"
   ]
  },
  {
   "cell_type": "code",
   "execution_count": 6,
   "id": "8f27d166-de4a-43b2-89d0-c6a52a6f4148",
   "metadata": {},
   "outputs": [],
   "source": [
    "plot_l3 <- function(meta_df, plot_title) {\n",
    "\n",
    "    label_df <- meta_df %>%\n",
    "      group_by(AIFI_L3) %>%\n",
    "      summarise(umap_1 = median(umap_1),\n",
    "                umap_2 = median(umap_2),\n",
    "                n_cells = n()) %>%\n",
    "      filter(n_cells > 100)\n",
    "    \n",
    "    ggplot() +\n",
    "      geom_point_rast(\n",
    "          data = meta_df,\n",
    "          aes(x = umap_1,\n",
    "              y = umap_2,\n",
    "              color = AIFI_L3),\n",
    "          size = 0.2\n",
    "      ) +\n",
    "      geom_label(\n",
    "          data = label_df,\n",
    "          aes(x = umap_1,\n",
    "              y = umap_2,\n",
    "              label = AIFI_L3)\n",
    "      ) +\n",
    "      scale_color_discrete() +\n",
    "      scale_fill_discrete() +\n",
    "      theme_bw() +\n",
    "      theme(legend.position = \"none\") +\n",
    "      ggtitle(plot_title)\n",
    "}"
   ]
  },
  {
   "cell_type": "code",
   "execution_count": 7,
   "id": "52ff396d-0738-489b-98b8-2a7ee0d914a8",
   "metadata": {},
   "outputs": [],
   "source": [
    "plot_markers <- function(marker_df, filter_df, color_df) {\n",
    "    \n",
    "    filter_tiles <- filter_df %>%\n",
    "      inner_join(marker_df %>% \n",
    "                  select(louvain_2, gene) %>%\n",
    "                  unique(),\n",
    "                 by = \"louvain_2\"\n",
    "                )\n",
    "    \n",
    "    ggplot(marker_df) +\n",
    "      geom_point( # Annoying extra hidden layer to make axes work\n",
    "          data = marker_df,\n",
    "          aes(x = louvain_2,\n",
    "              y = gene),\n",
    "          size = 0.1,\n",
    "          alpha = 0\n",
    "      ) +\n",
    "      geom_tile(\n",
    "          data = filter_tiles,\n",
    "          aes(x = louvain_2,\n",
    "              y = gene,\n",
    "              color = remove_reason),\n",
    "          linewidth = 1,\n",
    "          fill = \"white\"\n",
    "      ) +\n",
    "      geom_point(\n",
    "          data = marker_df,\n",
    "          aes(x = louvain_2,\n",
    "              y = gene,\n",
    "              size = gene_frac,\n",
    "              fill = log(gene_mean + 1)),\n",
    "          pch = 21\n",
    "      ) +\n",
    "      scale_size_area() +\n",
    "      scale_fill_gradientn(\n",
    "          colors = c(\"black\", \"darkred\", \"red\", \"orangered\", \"orange\")\n",
    "      ) +\n",
    "      scale_color_manual(\n",
    "          breaks = color_df$remove_reason,\n",
    "          values = color_df$remove_color\n",
    "      ) +\n",
    "      theme_bw() +\n",
    "      theme(axis.ticks = element_blank())\n",
    "}"
   ]
  },
  {
   "cell_type": "code",
   "execution_count": 8,
   "id": "b9bb4123-ec29-464d-860c-75e773080b48",
   "metadata": {},
   "outputs": [],
   "source": [
    "plot_genes <- function(meta_df, color_df) {\n",
    "    plot_df <- meta_df %>%\n",
    "      left_join(color_df, by = \"remove_reason\")\n",
    "\n",
    "    med_df <- plot_df %>%\n",
    "      group_by(louvain_2) %>%\n",
    "      summarise(med_genes = median(n_genes))\n",
    "    \n",
    "    ggplot() +\n",
    "      geom_violin(\n",
    "          data = meta_df,\n",
    "          aes(x = louvain_2,\n",
    "              y = log10(n_genes),\n",
    "              fill = remove_reason)\n",
    "      ) +\n",
    "      geom_point(\n",
    "          data = med_df,\n",
    "          aes(x = louvain_2,\n",
    "              y = log10(med_genes))\n",
    "      ) +\n",
    "      scale_fill_manual(\n",
    "          breaks = color_df$remove_reason,\n",
    "          values = color_df$remove_color\n",
    "      ) +\n",
    "      theme_bw()\n",
    "}"
   ]
  },
  {
   "cell_type": "code",
   "execution_count": 9,
   "id": "359e2c58-1c69-4e43-9ff0-84c6eaeed55d",
   "metadata": {},
   "outputs": [],
   "source": [
    "plot_summary <- function(meta_df, color_df) {\n",
    "\n",
    "    summary_df <- meta_df %>%\n",
    "      group_by(remove_reason) %>%\n",
    "      summarise(n_reason = n()) %>%\n",
    "      ungroup() %>%\n",
    "      mutate(perc_reason = format(round(n_reason / sum(n_reason) * 100,2), nsmall = 2)) %>%\n",
    "      mutate(ypos = n():1)\n",
    "\n",
    "    total_df <- data.frame(\n",
    "        remove_reason = \"Total removed\",\n",
    "        n_reason = sum(meta_df$remove_reason != \"Not removed\"),\n",
    "        perc_reason = format_perc(sum(meta_df$remove_reason != \"Not removed\") / nrow(meta_df)),\n",
    "        ypos = 0\n",
    "    )\n",
    "\n",
    "    header_df <- data.frame(\n",
    "        label = c(\"Reason\", \"N\", \"%\"),\n",
    "        xpos = c(1, 2.4, 3),\n",
    "        ypos = max(summary_df$ypos + 1),\n",
    "        hjust = c(0, 1, 1)\n",
    "    )\n",
    "\n",
    "    summary_df <- rbind(summary_df, total_df)\n",
    "    \n",
    "    ggplot() +\n",
    "      geom_rect(\n",
    "          data = summary_df,\n",
    "          aes(xmin = 0.9, xmax = 3.1,\n",
    "              ymin = ypos - 0.5, ymax = ypos + 0.5,\n",
    "              fill = remove_reason),\n",
    "          alpha = 0.5\n",
    "      ) +\n",
    "      geom_text(\n",
    "          data = header_df,\n",
    "          aes(x = xpos, y = ypos,\n",
    "              label = label, hjust = hjust)\n",
    "      ) +\n",
    "      geom_text(\n",
    "          data = summary_df,\n",
    "          aes(x = 1,\n",
    "              y = ypos,\n",
    "              label = remove_reason),\n",
    "          hjust = 0\n",
    "      ) +\n",
    "      geom_text(\n",
    "          data = summary_df,\n",
    "          aes(x = 2.4,\n",
    "              y = ypos,\n",
    "              label = n_reason),\n",
    "          hjust = 1\n",
    "      ) +\n",
    "      geom_text(\n",
    "          data = summary_df,\n",
    "          aes(x = 3,\n",
    "              y = ypos,\n",
    "              label = perc_reason),\n",
    "          hjust = 1\n",
    "      ) +\n",
    "      scale_fill_manual(\n",
    "          breaks = color_df$remove_reason,\n",
    "          values = color_df$remove_color\n",
    "      ) +\n",
    "      scale_x_continuous(\"\", expand = c(0,0)) +\n",
    "      theme_bw() +\n",
    "      theme(legend.position = \"none\",\n",
    "            panel.grid = element_blank(),\n",
    "            axis.text = element_blank(),\n",
    "            axis.ticks = element_blank(),\n",
    "            panel.border = element_blank())\n",
    "}"
   ]
  },
  {
   "cell_type": "code",
   "execution_count": 10,
   "id": "b548a26f-7674-483e-b891-91a0b6e09319",
   "metadata": {},
   "outputs": [],
   "source": [
    "assemble_plots <- function(filter_df, marker_df, meta_df, color_df, group_name) {\n",
    "    cluster_levels <- unique(meta_df$louvain_2) %>% sort()\n",
    "\n",
    "    filter_df$louvain_2 <- factor(filter_df$louvain_2, levels = cluster_levels, ordered = TRUE)\n",
    "    marker_df$louvain_2 <- factor(marker_df$louvain_2, levels = cluster_levels, ordered = TRUE)\n",
    "    meta_df$louvain_2 <- factor(meta_df$louvain_2, levels = cluster_levels, ordered = TRUE)\n",
    "\n",
    "    gene_order <- marker_df$gene %>% unique() %>% sort(decreasing = TRUE)\n",
    "    marker_df$gene <- factor(marker_df$gene, levels = gene_order, ordered = TRUE)\n",
    "\n",
    "    filter_df <- filter_df %>% left_join(reason_colors, by = \"remove_reason\")\n",
    "    meta_df <- meta_df %>% left_join(reason_colors, by = \"remove_reason\")\n",
    "\n",
    "    cluster_umap <- plot_clusters(meta_df, \"louvain_2\", group_name)\n",
    "    removal_umap <- plot_removal(meta_df, reason_colors, group_name)\n",
    "    l3_umap <- plot_l3(meta_df, group_name)\n",
    "    marker_dotplot <- plot_markers(marker_df, filter_df, reason_colors)\n",
    "    gene_violins <- plot_genes(meta_df, reason_colors)\n",
    "    summary_table <- plot_summary(meta_df, reason_colors)\n",
    "    \n",
    "    blank_plot <- ggplot() + theme_bw() + theme(panel.border = element_blank())\n",
    "    \n",
    "    top_row <- plot_grid(cluster_umap, removal_umap, l3_umap, nrow = 1, ncol = 3)\n",
    "    bottom_row <- plot_grid(\n",
    "        marker_dotplot, summary_table,\n",
    "        gene_violins, blank_plot,\n",
    "        nrow = 2, ncol = 2,\n",
    "        rel_heights = c(1, 0.5),\n",
    "        rel_widths = c(0.8, 0.2)\n",
    "    )\n",
    "    all_plots <- plot_grid(\n",
    "        top_row, \n",
    "        bottom_row,\n",
    "        nrow = 2, ncol = 1\n",
    "    )\n",
    "    \n",
    "    return(all_plots)\n",
    "}"
   ]
  },
  {
   "cell_type": "markdown",
   "id": "df391b87-098e-45a8-8a73-1652f3b62409",
   "metadata": {},
   "source": [
    "## Color values"
   ]
  },
  {
   "cell_type": "code",
   "execution_count": 11,
   "id": "cf9de057-eeea-4aa1-b52a-1bf66da31466",
   "metadata": {},
   "outputs": [],
   "source": [
    "reason_colors <- data.frame(\n",
    "    remove_reason = c(\n",
    "        \"Not removed\", \"Total removed\",\n",
    "        \"B cell doublet\", \"Erythrocyte doublet\",\n",
    "        \"Myeloid doublet\", \"Platelet doublet\", \n",
    "        \"T cell doublet\", \"Low gene detection\"\n",
    "    ),\n",
    "    remove_color = c(\n",
    "        \"#8efaa4\", \"#ffffff\",\n",
    "        \"#fcb890\", \"#fa9c9b\",\n",
    "        \"#b997f7\", \"#e6db8c\",\n",
    "        \"#99acf2\", \"#8c8c8c\"\n",
    "    )\n",
    ")"
   ]
  },
  {
   "cell_type": "markdown",
   "id": "015b5013-e0d8-47d8-b8f9-ac6c446e56a2",
   "metadata": {},
   "source": [
    "## Retrieve review files from HISE\n",
    "\n",
    "These were stored as a .tar.gz archive to make transfer a bit easier. We'll pull down the .tar.gz then decompress and unbundle with a `system()` call."
   ]
  },
  {
   "cell_type": "code",
   "execution_count": 12,
   "id": "8c01c94a-952e-43cb-8871-036c238e2aa6",
   "metadata": {},
   "outputs": [],
   "source": [
    "review_uuid <- \"02734d18-6531-4cbb-8162-a70c08413603\""
   ]
  },
  {
   "cell_type": "code",
   "execution_count": 13,
   "id": "5a3ab611-b9b6-4f9d-bd59-f3047e457920",
   "metadata": {},
   "outputs": [],
   "source": [
    "cache_res <- cacheFiles(list(review_uuid))"
   ]
  },
  {
   "cell_type": "code",
   "execution_count": 14,
   "id": "92ec4f85-d632-475d-97bf-e35219b1727a",
   "metadata": {},
   "outputs": [],
   "source": [
    "review_tar_file <- list.files(paste0(\"cache/\", review_uuid), full.names = TRUE)"
   ]
  },
  {
   "cell_type": "code",
   "execution_count": 15,
   "id": "a8f16cd0-a315-4000-bb80-ed73b7c00bb8",
   "metadata": {},
   "outputs": [],
   "source": [
    "untar_call <- paste(\"tar -xzf\", review_tar_file)\n",
    "system(untar_call)"
   ]
  },
  {
   "cell_type": "markdown",
   "id": "5b865e48-ad13-4fbe-b6af-fa86954a78a1",
   "metadata": {},
   "source": [
    "Because of how they were stored in the originating instance, these will untar to the `output/review/` subfolder."
   ]
  },
  {
   "cell_type": "code",
   "execution_count": 16,
   "id": "21fd1acb-8409-4e7f-9ba3-f77b59ad5160",
   "metadata": {},
   "outputs": [],
   "source": [
    "filter_files <- list.files(\"output/review\", pattern = \"filter_df\", full.names = TRUE)\n",
    "names(filter_files) <- sub(\".+diha_qc_(.+)_filter.+\", \"\\\\1\", filter_files)\n",
    "\n",
    "marker_files <- list.files(\"output/review\", pattern = \"marker_df\", full.names = TRUE)\n",
    "names(marker_files) <- sub(\".+diha_qc_(.+)_marker.+\", \"\\\\1\", marker_files)\n",
    "\n",
    "meta_files <- list.files(\"output/review\", pattern = \"obs_df\", full.names = TRUE)\n",
    "names(meta_files) <- sub(\".+diha_qc_(.+)_obs.+\", \"\\\\1\", meta_files)"
   ]
  },
  {
   "cell_type": "code",
   "execution_count": 17,
   "id": "0fb69db7-0364-409a-8523-f037d22652ad",
   "metadata": {},
   "outputs": [],
   "source": [
    "group_names <- names(filter_files)"
   ]
  },
  {
   "cell_type": "markdown",
   "id": "80f33fc8-eaad-4972-a849-1af849f5f687",
   "metadata": {},
   "source": [
    "## Generate plots for every group"
   ]
  },
  {
   "cell_type": "code",
   "execution_count": 18,
   "id": "3f492065-51a6-4389-b767-eabf9f88c925",
   "metadata": {},
   "outputs": [],
   "source": [
    "future_walk(\n",
    "    group_names,\n",
    "    function(group_name) {\n",
    "        filter_file <- filter_files[group_name]\n",
    "        marker_file <- marker_files[group_name]\n",
    "        meta_file <- meta_files[group_name]\n",
    "\n",
    "        filter_df <- as.data.frame(fread(filter_file))\n",
    "        marker_df <- as.data.frame(fread(marker_file))\n",
    "        meta_df <- as.data.frame(fread(meta_file))\n",
    "\n",
    "        all_plots <- assemble_plots(\n",
    "            filter_df, marker_df, meta_df,\n",
    "            reason_colors, group_name\n",
    "        )\n",
    "\n",
    "        out_file <- paste0(\n",
    "            \"output/diha_filter-review_\", \n",
    "            group_name, \"_\",\n",
    "            Sys.Date(),\n",
    "            \".png\" \n",
    "        )\n",
    "        \n",
    "        ggsave(\n",
    "            out_file,\n",
    "            all_plots,\n",
    "            width = 20, height = 12\n",
    "        )\n",
    "    }\n",
    ")"
   ]
  },
  {
   "cell_type": "markdown",
   "id": "cceed06f-5228-490a-b193-0bc65b0818f4",
   "metadata": {},
   "source": [
    "## Generate summary tables and overview plots"
   ]
  },
  {
   "cell_type": "code",
   "execution_count": 19,
   "id": "6c795c53-6833-48f0-bcdb-0d48fabb62c0",
   "metadata": {},
   "outputs": [],
   "source": [
    "all_meta <- map(meta_files, fread)"
   ]
  },
  {
   "cell_type": "code",
   "execution_count": 20,
   "id": "c533fa2a-916e-49c5-8c96-e8a3f3b6b728",
   "metadata": {},
   "outputs": [],
   "source": [
    "subject_visit_l2_summary <- map_dfr(\n",
    "    all_meta,\n",
    "    function(meta) {\n",
    "        meta %>%\n",
    "          group_by(subject.subjectGuid, sample.visitName, AIFI_L2, remove_reason) %>%\n",
    "          count() %>%\n",
    "          group_by(subject.subjectGuid, sample.visitName, AIFI_L2) %>%\n",
    "          mutate(perc = format_perc(n / sum(n)))\n",
    "    }\n",
    ")"
   ]
  },
  {
   "cell_type": "code",
   "execution_count": 21,
   "id": "ff2be926-6e7b-4651-b5b6-03e6104e8fe4",
   "metadata": {},
   "outputs": [],
   "source": [
    "sample_summary_file <- paste0(\n",
    "    \"output/diha_filter-review_sample-summary_\", \n",
    "    Sys.Date(), \".csv\"\n",
    ")\n",
    "write.csv(\n",
    "    subject_visit_l2_summary,\n",
    "    sample_summary_file,\n",
    "    row.names = FALSE,\n",
    "    quote = FALSE\n",
    ")"
   ]
  },
  {
   "cell_type": "code",
   "execution_count": 22,
   "id": "8dc947b2-4319-4302-b6ac-6169d9e3fa57",
   "metadata": {},
   "outputs": [],
   "source": [
    "type_totals <- subject_visit_l2_summary %>%\n",
    "  group_by(AIFI_L2) %>%\n",
    "  mutate(total = sum(n)) %>%\n",
    "  filter(remove_reason != \"Not removed\") %>%\n",
    "  summarise(n = sum(n), \n",
    "            perc = format_perc(n / total[1]),\n",
    "            .groups = \"keep\") %>%\n",
    "  ungroup() %>%\n",
    "  arrange(desc(n))"
   ]
  },
  {
   "cell_type": "code",
   "execution_count": 23,
   "id": "243d9b1d-f8dd-48c3-a432-da171387e5cb",
   "metadata": {},
   "outputs": [],
   "source": [
    "type_summary <- subject_visit_l2_summary %>%\n",
    "  group_by(AIFI_L2, remove_reason) %>%\n",
    "  summarise(n = sum(n), .groups = \"keep\") %>%\n",
    "  group_by(AIFI_L2) %>%\n",
    "  mutate(perc = format_perc(n / sum(n))) %>%\n",
    "  mutate(AIFI_L2 = factor(AIFI_L2, levels = type_totals$AIFI_L2, ordered = TRUE))"
   ]
  },
  {
   "cell_type": "code",
   "execution_count": 24,
   "id": "2f03374e-fa3a-495e-8c4d-08c71e9468b3",
   "metadata": {},
   "outputs": [],
   "source": [
    "type_summary_file <- paste0(\n",
    "    \"output/diha_filter-review_type-summary_\", \n",
    "    Sys.Date(), \".csv\"\n",
    ")\n",
    "write.csv(\n",
    "    type_summary,\n",
    "    type_summary_file,\n",
    "    row.names = FALSE,\n",
    "    quote = FALSE\n",
    ")"
   ]
  },
  {
   "cell_type": "code",
   "execution_count": 25,
   "id": "e75d7ec8-69d4-4298-af96-3c3d99bef89b",
   "metadata": {},
   "outputs": [],
   "source": [
    "options(repr.plot.width = 12, repr.plot.height = 4)\n",
    "n_plot <- ggplot() +\n",
    "  geom_col(\n",
    "      data = type_summary %>%\n",
    "        filter(remove_reason != \"Not removed\"),\n",
    "      aes(x = AIFI_L2, y = n, fill = remove_reason)\n",
    "  ) +\n",
    "  scale_x_discrete(\n",
    "      \"\"\n",
    "  ) +\n",
    "  scale_y_continuous(\n",
    "      expand = c(0,0)\n",
    "  ) +\n",
    "  scale_fill_manual(\n",
    "      breaks = reason_colors$remove_reason,\n",
    "      values = reason_colors$remove_color\n",
    "  ) +\n",
    "  theme_bw() +\n",
    "  theme(axis.text.x = element_blank(),\n",
    "        axis.ticks = element_blank())"
   ]
  },
  {
   "cell_type": "code",
   "execution_count": 26,
   "id": "3f22b0f7-6527-4604-8904-db310ca9b1bd",
   "metadata": {},
   "outputs": [],
   "source": [
    "options(repr.plot.width = 12, repr.plot.height = 4)\n",
    "perc_plot <- ggplot() +\n",
    "  geom_col(\n",
    "      data = type_summary %>%\n",
    "        filter(remove_reason != \"Not removed\"),\n",
    "      aes(x = AIFI_L2, y = as.numeric(perc), fill = remove_reason)\n",
    "  ) +\n",
    "  scale_x_discrete(\n",
    "      \"\"\n",
    "  ) +\n",
    "  scale_y_continuous(\n",
    "      \"% of cells\",\n",
    "      expand = c(0,0)\n",
    "  ) +\n",
    "  scale_fill_manual(\n",
    "      breaks = reason_colors$remove_reason,\n",
    "      values = reason_colors$remove_color\n",
    "  ) +\n",
    "  theme_bw() +\n",
    "  theme(axis.text.x = element_blank(),\n",
    "        axis.ticks = element_blank())"
   ]
  },
  {
   "cell_type": "code",
   "execution_count": 27,
   "id": "91f45069-30c9-434f-83d5-1806436ea54f",
   "metadata": {},
   "outputs": [],
   "source": [
    "options(repr.plot.width = 12, repr.plot.height = 4)\n",
    "type_removal_summary <- type_summary %>%\n",
    "  filter(remove_reason != \"Not removed\") %>%\n",
    "  group_by(AIFI_L2) %>%\n",
    "  mutate(total = sum(n)) %>%\n",
    "  mutate(perc = format_perc(n / total))\n",
    "\n",
    "removed_perc_plot <- ggplot() +\n",
    "  geom_col(\n",
    "      data = type_removal_summary,\n",
    "      aes(x = AIFI_L2, y = as.numeric(perc), fill = remove_reason)\n",
    "  ) +\n",
    "  scale_y_continuous(\n",
    "      \"% of removed cells\",\n",
    "      expand = c(0,0)\n",
    "  ) +\n",
    "  scale_fill_manual(\n",
    "      breaks = reason_colors$remove_reason,\n",
    "      values = reason_colors$remove_color\n",
    "  ) +\n",
    "  theme_bw() +\n",
    "  theme(axis.text.x = element_text(angle = 90, hjust = 1, vjust = 0.3),\n",
    "        axis.ticks = element_blank())"
   ]
  },
  {
   "cell_type": "code",
   "execution_count": 28,
   "id": "dafcf92d-612d-4ba3-9cd4-d52a46537453",
   "metadata": {},
   "outputs": [
    {
     "data": {
      "image/png": "[encoded data removed]",
      "text/plain": [
       "plot without title"
      ]
     },
     "metadata": {
      "image/png": {
       "height": 480,
       "width": 720
      }
     },
     "output_type": "display_data"
    }
   ],
   "source": [
    "options(repr.plot.width = 12, repr.plot.height = 8)\n",
    "summary_plot <- plot_grid(\n",
    "    n_plot,\n",
    "    perc_plot,\n",
    "    removed_perc_plot,\n",
    "    nrow = 3,\n",
    "    ncol = 1,\n",
    "    rel_heights = c(1,1,1.6),\n",
    "    align = \"v\"\n",
    ")\n",
    "summary_plot"
   ]
  },
  {
   "cell_type": "code",
   "execution_count": 29,
   "id": "9b0d81bf-c237-4d88-be35-b3c0a6563873",
   "metadata": {},
   "outputs": [],
   "source": [
    "summary_file <- paste0(\"output/diha_filter-overview_\",Sys.Date(),\".png\")\n",
    "ggsave(\n",
    "    summary_file,\n",
    "    summary_plot,\n",
    "    width = 12, height = 8\n",
    ")"
   ]
  },
  {
   "cell_type": "code",
   "execution_count": 30,
   "id": "8cb2471d-87cc-4d9d-966d-c5224949558f",
   "metadata": {},
   "outputs": [],
   "source": [
    "all_summary <- subject_visit_l2_summary %>%\n",
    "  group_by(remove_reason) %>%\n",
    "  summarise(n = sum(n), .groups = \"keep\") %>%\n",
    "  ungroup() %>%\n",
    "  mutate(perc = format_perc(n / sum(n))) %>%\n",
    "  arrange(desc(n))\n",
    "\n",
    "all_total <- data.frame(\n",
    "    remove_reason = \"Total removed\",\n",
    "    n = sum(all_summary$n[all_summary$remove_reason != \"Not removed\"]),\n",
    "    perc = sum(as.numeric(all_summary$perc[all_summary$remove_reason != \"Not removed\"]))\n",
    ")\n",
    "\n",
    "all_summary <- rbind(all_summary, all_total)"
   ]
  },
  {
   "cell_type": "code",
   "execution_count": 31,
   "id": "b863d510-e753-4282-80aa-afc9b637b8e1",
   "metadata": {},
   "outputs": [
    {
     "data": {
      "text/html": [
       "<table class=\"dataframe\">\n",
       "<caption>A tibble: 8 × 3</caption>\n",
       "<thead>\n",
       "\t<tr><th scope=col>remove_reason</th><th scope=col>n</th><th scope=col>perc</th></tr>\n",
       "\t<tr><th scope=col>&lt;chr&gt;</th><th scope=col>&lt;int&gt;</th><th scope=col>&lt;chr&gt;</th></tr>\n",
       "</thead>\n",
       "<tbody>\n",
       "\t<tr><td>Not removed        </td><td>14082507</td><td>94.96</td></tr>\n",
       "\t<tr><td>Platelet doublet   </td><td>  207358</td><td> 1.40</td></tr>\n",
       "\t<tr><td>T cell doublet     </td><td>  206056</td><td> 1.39</td></tr>\n",
       "\t<tr><td>Myeloid doublet    </td><td>  108489</td><td> 0.73</td></tr>\n",
       "\t<tr><td>Low gene detection </td><td>  106434</td><td> 0.72</td></tr>\n",
       "\t<tr><td>Erythrocyte doublet</td><td>   94036</td><td> 0.63</td></tr>\n",
       "\t<tr><td>B cell doublet     </td><td>   25142</td><td> 0.17</td></tr>\n",
       "\t<tr><td>Total removed      </td><td>  747515</td><td>5.04 </td></tr>\n",
       "</tbody>\n",
       "</table>\n"
      ],
      "text/latex": [
       "A tibble: 8 × 3\n",
       "\\begin{tabular}{lll}\n",
       " remove\\_reason & n & perc\\\\\n",
       " <chr> & <int> & <chr>\\\\\n",
       "\\hline\n",
       "\t Not removed         & 14082507 & 94.96\\\\\n",
       "\t Platelet doublet    &   207358 &  1.40\\\\\n",
       "\t T cell doublet      &   206056 &  1.39\\\\\n",
       "\t Myeloid doublet     &   108489 &  0.73\\\\\n",
       "\t Low gene detection  &   106434 &  0.72\\\\\n",
       "\t Erythrocyte doublet &    94036 &  0.63\\\\\n",
       "\t B cell doublet      &    25142 &  0.17\\\\\n",
       "\t Total removed       &   747515 & 5.04 \\\\\n",
       "\\end{tabular}\n"
      ],
      "text/markdown": [
       "\n",
       "A tibble: 8 × 3\n",
       "\n",
       "| remove_reason &lt;chr&gt; | n &lt;int&gt; | perc &lt;chr&gt; |\n",
       "|---|---|---|\n",
       "| Not removed         | 14082507 | 94.96 |\n",
       "| Platelet doublet    |   207358 |  1.40 |\n",
       "| T cell doublet      |   206056 |  1.39 |\n",
       "| Myeloid doublet     |   108489 |  0.73 |\n",
       "| Low gene detection  |   106434 |  0.72 |\n",
       "| Erythrocyte doublet |    94036 |  0.63 |\n",
       "| B cell doublet      |    25142 |  0.17 |\n",
       "| Total removed       |   747515 | 5.04  |\n",
       "\n"
      ],
      "text/plain": [
       "  remove_reason       n        perc \n",
       "1 Not removed         14082507 94.96\n",
       "2 Platelet doublet      207358  1.40\n",
       "3 T cell doublet        206056  1.39\n",
       "4 Myeloid doublet       108489  0.73\n",
       "5 Low gene detection    106434  0.72\n",
       "6 Erythrocyte doublet    94036  0.63\n",
       "7 B cell doublet         25142  0.17\n",
       "8 Total removed         747515 5.04 "
      ]
     },
     "metadata": {},
     "output_type": "display_data"
    }
   ],
   "source": [
    "all_summary"
   ]
  },
  {
   "cell_type": "code",
   "execution_count": 32,
   "id": "81a8b96f-9a54-42a6-a212-67668ebe87fa",
   "metadata": {},
   "outputs": [],
   "source": [
    "global_summary_file <- paste0(\n",
    "    \"output/diha_filter-review_global-summary_\", \n",
    "    Sys.Date(), \".csv\"\n",
    ")\n",
    "write.csv(\n",
    "    all_summary,\n",
    "    global_summary_file,\n",
    "    row.names = FALSE,\n",
    "    quote = FALSE\n",
    ")"
   ]
  },
  {
   "cell_type": "code",
   "execution_count": 33,
   "id": "355f5df0-561e-4345-922e-0501602535ea",
   "metadata": {},
   "outputs": [],
   "source": [
    "tar_file <- paste0(\n",
    "    \"output/diha_filter-review_figures_\",\n",
    "    Sys.Date(),\n",
    "    \".tar\"\n",
    ")\n",
    "\n",
    "system(paste(\"tar -cf\", tar_file, \"output/*.png\"))"
   ]
  },
  {
   "cell_type": "markdown",
   "id": "bd206755-8698-4f05-ac8d-7387da634518",
   "metadata": {},
   "source": [
    "## Store results in HISE\n",
    "\n",
    "We'll store the .tar file containing all of our images and the summary table .csv files in HISE for later reference."
   ]
  },
  {
   "cell_type": "code",
   "execution_count": 34,
   "id": "fae60e88-805e-4286-9022-a77e3d08cd05",
   "metadata": {
    "tags": []
   },
   "outputs": [],
   "source": [
    "study_space_uuid <- \"de025812-5e73-4b3c-9c3b-6d0eac412f2a\"\n",
    "title <- paste(\"DIHA Cleanup Review Materials\", Sys.Date())"
   ]
  },
  {
   "cell_type": "code",
   "execution_count": 35,
   "id": "83a34c56-0f65-49c5-8354-076586265c17",
   "metadata": {
    "tags": []
   },
   "outputs": [],
   "source": [
    "in_list <- list(review_uuid)"
   ]
  },
  {
   "cell_type": "code",
   "execution_count": 36,
   "id": "03e22fcf-a778-412e-bb19-8d89a71516a1",
   "metadata": {
    "tags": []
   },
   "outputs": [],
   "source": [
    "out_list <- list(\n",
    "    tar_file, \n",
    "    sample_summary_file,\n",
    "    type_summary_file, \n",
    "    global_summary_file\n",
    ")"
   ]
  },
  {
   "cell_type": "code",
   "execution_count": 37,
   "id": "89d7f078-0d99-4e3c-9bfb-3aac986f65cf",
   "metadata": {
    "scrolled": true,
    "tags": []
   },
   "outputs": [
    {
     "data": {
      "text/html": [
       "<dl>\n",
       "\t<dt>$files</dt>\n",
       "\t\t<dd><ol>\n",
       "\t<li>'output/diha_filter-review_figures_2024-03-17.tar'</li>\n",
       "\t<li>'output/diha_filter-review_sample-summary_2024-03-17.csv'</li>\n",
       "\t<li>'output/diha_filter-review_type-summary_2024-03-17.csv'</li>\n",
       "\t<li>'output/diha_filter-review_global-summary_2024-03-17.csv'</li>\n",
       "</ol>\n",
       "</dd>\n",
       "\t<dt>$traceId</dt>\n",
       "\t\t<dd>'0437b333-62e8-4a51-af5c-d84eb0cb89a6'</dd>\n",
       "</dl>\n"
      ],
      "text/latex": [
       "\\begin{description}\n",
       "\\item[\\$files] \\begin{enumerate}\n",
       "\\item 'output/diha\\_filter-review\\_figures\\_2024-03-17.tar'\n",
       "\\item 'output/diha\\_filter-review\\_sample-summary\\_2024-03-17.csv'\n",
       "\\item 'output/diha\\_filter-review\\_type-summary\\_2024-03-17.csv'\n",
       "\\item 'output/diha\\_filter-review\\_global-summary\\_2024-03-17.csv'\n",
       "\\end{enumerate}\n",
       "\n",
       "\\item[\\$traceId] '0437b333-62e8-4a51-af5c-d84eb0cb89a6'\n",
       "\\end{description}\n"
      ],
      "text/markdown": [
       "$files\n",
       ":   1. 'output/diha_filter-review_figures_2024-03-17.tar'\n",
       "2. 'output/diha_filter-review_sample-summary_2024-03-17.csv'\n",
       "3. 'output/diha_filter-review_type-summary_2024-03-17.csv'\n",
       "4. 'output/diha_filter-review_global-summary_2024-03-17.csv'\n",
       "\n",
       "\n",
       "\n",
       "$traceId\n",
       ":   '0437b333-62e8-4a51-af5c-d84eb0cb89a6'\n",
       "\n",
       "\n"
      ],
      "text/plain": [
       "$files\n",
       "$files[[1]]\n",
       "[1] \"output/diha_filter-review_figures_2024-03-17.tar\"\n",
       "\n",
       "$files[[2]]\n",
       "[1] \"output/diha_filter-review_sample-summary_2024-03-17.csv\"\n",
       "\n",
       "$files[[3]]\n",
       "[1] \"output/diha_filter-review_type-summary_2024-03-17.csv\"\n",
       "\n",
       "$files[[4]]\n",
       "[1] \"output/diha_filter-review_global-summary_2024-03-17.csv\"\n",
       "\n",
       "\n",
       "$traceId\n",
       "[1] \"0437b333-62e8-4a51-af5c-d84eb0cb89a6\"\n"
      ]
     },
     "metadata": {},
     "output_type": "display_data"
    }
   ],
   "source": [
    "uploadFiles(\n",
    "    files = out_list,\n",
    "    studySpaceId = study_space_uuid,\n",
    "    title = title,\n",
    "    inputFileIds = in_list,\n",
    "    store = \"project\",\n",
    "    doPrompt = FALSE\n",
    ")"
   ]
  },
  {
   "cell_type": "code",
   "execution_count": 38,
   "id": "93963597-bdee-4bfb-ad58-cea06dce15a6",
   "metadata": {},
   "outputs": [
    {
     "data": {
      "text/plain": [
       "R version 4.3.2 (2023-10-31)\n",
       "Platform: x86_64-conda-linux-gnu (64-bit)\n",
       "Running under: Ubuntu 20.04.6 LTS\n",
       "\n",
       "Matrix products: default\n",
       "BLAS/LAPACK: /opt/conda/lib/libopenblasp-r0.3.25.so;  LAPACK version 3.11.0\n",
       "\n",
       "locale:\n",
       " [1] LC_CTYPE=C.UTF-8       LC_NUMERIC=C           LC_TIME=C.UTF-8       \n",
       " [4] LC_COLLATE=C.UTF-8     LC_MONETARY=C.UTF-8    LC_MESSAGES=C.UTF-8   \n",
       " [7] LC_PAPER=C.UTF-8       LC_NAME=C              LC_ADDRESS=C          \n",
       "[10] LC_TELEPHONE=C         LC_MEASUREMENT=C.UTF-8 LC_IDENTIFICATION=C   \n",
       "\n",
       "time zone: Etc/UTC\n",
       "tzcode source: system (glibc)\n",
       "\n",
       "attached base packages:\n",
       "[1] stats     graphics  grDevices utils     datasets  methods   base     \n",
       "\n",
       "other attached packages:\n",
       "[1] furrr_0.3.1       future_1.33.1     purrr_1.0.2       hise_2.16.0      \n",
       "[5] ggrastr_1.0.2     ggplot2_3.4.4     dplyr_1.1.4       data.table_1.15.0\n",
       "[9] cowplot_1.1.2    \n",
       "\n",
       "loaded via a namespace (and not attached):\n",
       " [1] utf8_1.2.4        generics_0.1.3    bitops_1.0-7      stringi_1.8.3    \n",
       " [5] listenv_0.9.0     digest_0.6.34     magrittr_2.0.3    evaluate_0.23    \n",
       " [9] grid_4.3.2        pbdZMQ_0.3-10     fastmap_1.1.1     jsonlite_1.8.8   \n",
       "[13] httr_1.4.7        fansi_1.0.6       scales_1.3.0      textshaping_0.3.7\n",
       "[17] codetools_0.2-19  cli_3.6.2         rlang_1.1.3       crayon_1.5.2     \n",
       "[21] parallelly_1.36.0 munsell_0.5.0     base64enc_0.1-3   withr_3.0.0      \n",
       "[25] repr_1.1.6.9000   ggbeeswarm_0.7.2  tools_4.3.2       parallel_4.3.2   \n",
       "[29] uuid_1.2-0        colorspace_2.1-0  globals_0.16.2    curl_5.1.0       \n",
       "[33] assertthat_0.2.1  IRdisplay_1.1     vctrs_0.6.5       R6_2.5.1         \n",
       "[37] lifecycle_1.0.4   stringr_1.5.1     vipor_0.4.7       ragg_1.2.7       \n",
       "[41] pkgconfig_2.0.3   beeswarm_0.4.0    pillar_1.9.0      gtable_0.3.4     \n",
       "[45] glue_1.7.0        systemfonts_1.0.5 tibble_3.2.1      tidyselect_1.2.0 \n",
       "[49] IRkernel_1.3.2    farver_2.1.1      htmltools_0.5.7   labeling_0.4.3   \n",
       "[53] Cairo_1.6-2       compiler_4.3.2    RCurl_1.98-1.14  "
      ]
     },
     "metadata": {},
     "output_type": "display_data"
    }
   ],
   "source": [
    "sessionInfo()"
   ]
  },
  {
   "cell_type": "code",
   "execution_count": null,
   "id": "5241dd83-caa8-4f0c-b290-2a2ebfd53b6d",
   "metadata": {},
   "outputs": [],
   "source": []
  }
 ],
 "metadata": {
  "kernelspec": {
   "display_name": "R 4",
   "language": "R",
   "name": "ir4"
  },
  "language_info": {
   "codemirror_mode": "r",
   "file_extension": ".r",
   "mimetype": "text/x-r-source",
   "name": "R",
   "pygments_lexer": "r",
   "version": "4.3.2"
  }
 },
 "nbformat": 4,
 "nbformat_minor": 5
}
