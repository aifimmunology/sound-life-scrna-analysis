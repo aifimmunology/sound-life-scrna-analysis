{
 "cells": [
  {
   "cell_type": "code",
   "execution_count": null,
   "id": "2992e7d9-01c1-4625-b41e-517de9a3e4ef",
   "metadata": {},
   "outputs": [],
   "source": []
  },
  {
   "cell_type": "markdown",
   "id": "16659774-efbd-467b-b80d-94c384d57992",
   "metadata": {},
   "source": [
    "## Install packages\n",
    "\n",
    "This package includes helper functions for plot colorsets"
   ]
  },
  {
   "cell_type": "code",
   "execution_count": 1,
   "id": "c7caf99c-8d2b-4f71-955a-9209e9910d8f",
   "metadata": {},
   "outputs": [],
   "source": [
    "devtools::install_github(\"hypercompetent/colorway\", upgrade = \"never\", quiet = TRUE)"
   ]
  },
  {
   "cell_type": "markdown",
   "id": "1937475b-c966-4c98-8b1f-c7c3c8fc5a26",
   "metadata": {},
   "source": [
    "This package includes helpers for plot types, including river/sankey plots"
   ]
  },
  {
   "cell_type": "code",
   "execution_count": 2,
   "id": "f23f0486-486b-4bd9-b51b-9ca8f52c1de0",
   "metadata": {},
   "outputs": [],
   "source": [
    "devtools::install_github(\"alleninstitute/scrattch.vis\", upgrade = \"always\", quiet = TRUE)"
   ]
  },
  {
   "cell_type": "markdown",
   "id": "3a85d965-1cbf-4682-8281-f60d98f8eb91",
   "metadata": {},
   "source": [
    "This package includes helpers for plotting tables"
   ]
  },
  {
   "cell_type": "code",
   "execution_count": 42,
   "id": "6cb07324-d45c-4651-a947-91a36087433e",
   "metadata": {},
   "outputs": [
    {
     "name": "stderr",
     "output_type": "stream",
     "text": [
      "Updating HTML index of packages in '.Library'\n",
      "\n",
      "Making 'packages.html' ...\n",
      " done\n",
      "\n"
     ]
    }
   ],
   "source": [
    "install.packages(\"ggpmisc\", upgrade = \"never\", quiet = TRUE)"
   ]
  },
  {
   "cell_type": "code",
   "execution_count": 43,
   "id": "84ef8efb-8aaf-4d29-b7f4-6a832ab33237",
   "metadata": {},
   "outputs": [],
   "source": [
    "quiet_library <- function(...) { suppressPackageStartupMessages(library(...)) }\n",
    "\n",
    "quiet_library(hise)\n",
    "quiet_library(ggplot2)\n",
    "quiet_library(ggrastr)\n",
    "quiet_library(ggpmisc)\n",
    "quiet_library(colorway)\n",
    "quiet_library(cowplot)\n",
    "quiet_library(scrattch.vis)\n",
    "quiet_library(data.table)\n",
    "quiet_library(dplyr)\n",
    "quiet_library(purrr)"
   ]
  },
  {
   "cell_type": "code",
   "execution_count": 104,
   "id": "231bd106-c1a7-4755-9a98-8a52a8279872",
   "metadata": {},
   "outputs": [],
   "source": [
    "if(!dir.exists(\"output/plots\")) {\n",
    "    dir.create(\"output/plots\", recursive = TRUE)\n",
    "}"
   ]
  },
  {
   "cell_type": "markdown",
   "id": "51551db3-48f2-4bd7-bfbd-d2db2554a2d4",
   "metadata": {},
   "source": [
    "## Helper functions"
   ]
  },
  {
   "cell_type": "code",
   "execution_count": 4,
   "id": "23044140-1f05-490e-ae5e-b7ff083fb33b",
   "metadata": {},
   "outputs": [],
   "source": [
    "format_perc <- function(x, dec = 2) {\n",
    "    format(round(x * 100, 2), nsmall = dec)\n",
    "}"
   ]
  },
  {
   "cell_type": "code",
   "execution_count": 5,
   "id": "795bd6df-8ffc-4542-8c88-65a0b9c070a8",
   "metadata": {},
   "outputs": [],
   "source": [
    "plot_l3 <- function(meta_df, cell_type, color_by = \"AIFI_L2\", l3_colors) {\n",
    "\n",
    "    color_by = rlang::parse_expr(color_by)\n",
    "\n",
    "    meta_df <- meta_df[sample(1:nrow(meta_df), nrow(meta_df)),]\n",
    "    \n",
    "    p <- ggplot() +\n",
    "      geom_point_rast(\n",
    "          data = meta_df,\n",
    "          aes(x = umap_1,\n",
    "              y = umap_2,\n",
    "              color = !!color_by),\n",
    "          size = 0.02\n",
    "      ) +\n",
    "      scale_color_manual(\n",
    "          breaks = l3_colors$L3,\n",
    "          values = l3_colors$color\n",
    "      ) +\n",
    "      large_guides() +\n",
    "      theme_bw() +\n",
    "      theme(axis.ticks = element_blank(),\n",
    "            legend.position = \"bottom\") +\n",
    "      ggtitle(paste0(color_by,\": \",cell_type))\n",
    "    p\n",
    "}"
   ]
  },
  {
   "cell_type": "code",
   "execution_count": 6,
   "id": "bc7c5418-f849-4b66-aa71-524b745b33c1",
   "metadata": {},
   "outputs": [],
   "source": [
    "plot_diff <- function(meta_df, cell_type) {\n",
    "\n",
    "    meta_df <- meta_df %>%\n",
    "      mutate(diff = case_when(\n",
    "          is.na(original_L3) ~ \"Previously removed\",\n",
    "          original_L3 == AIFI_L3 ~ \"Matched\",\n",
    "          TRUE ~ \"Mismatched\"\n",
    "      ))\n",
    "\n",
    "    color_df <- data.frame(\n",
    "        diff = c(\"Previously removed\", \"Matched\", \"Mismatched\"),\n",
    "        color = c(\"gray80\", \"skyblue\", \"orangered\")\n",
    "    )\n",
    "    \n",
    "    meta_df <- meta_df[sample(1:nrow(meta_df), nrow(meta_df)),]\n",
    "    \n",
    "    p <- ggplot() +\n",
    "      geom_point_rast(\n",
    "          data = meta_df,\n",
    "          aes(x = umap_1,\n",
    "              y = umap_2,\n",
    "              color = diff),\n",
    "          size = 0.02\n",
    "      ) +\n",
    "      scale_color_manual(\n",
    "          breaks = color_df$diff,\n",
    "          values = color_df$color\n",
    "      ) +\n",
    "      large_guides() +\n",
    "      theme_bw() +\n",
    "      theme(axis.ticks = element_blank(),\n",
    "            legend.position = \"bottom\") +\n",
    "      ggtitle(paste0(\"Matching: \",cell_type))\n",
    "    p\n",
    "}"
   ]
  },
  {
   "cell_type": "code",
   "execution_count": null,
   "id": "286f9bc4-550d-42c3-92e8-02ab1a8db5bd",
   "metadata": {},
   "outputs": [],
   "source": [
    "plot_l3_river <- function(meta, l3_colors) {\n",
    "    plot_meta <- meta %>%\n",
    "        select(original_L3, predicted_AIFI_L3, AIFI_L3)\n",
    "    \n",
    "    l3_plot_data <- plot_meta %>%\n",
    "      left_join(rename(l3_colors, original_L3 = L3, original_L3_id = id, original_L3_color = color),\n",
    "                by = \"original_L3\") %>%\n",
    "      left_join(rename(l3_colors, predicted_AIFI_L3 = L3, predicted_AIFI_L3_id = id, predicted_AIFI_L3_color = color),\n",
    "                by = \"predicted_AIFI_L3\") %>%\n",
    "      left_join(rename(l3_colors, AIFI_L3 = L3, AIFI_L3_id = id, AIFI_L3_color = color),\n",
    "                by = \"AIFI_L3\") %>%\n",
    "      rename(original_L3_label = original_L3,\n",
    "             predicted_AIFI_L3_label = predicted_AIFI_L3,\n",
    "             AIFI_L3_label = AIFI_L3)\n",
    "\n",
    "    build_river_plot(\n",
    "        anno = l3_plot_data,\n",
    "        grouping = c(\"original_L3\", \"AIFI_L3\"),\n",
    "        label_pos = c(\"left\", \"right\"),\n",
    "        fill_group = \"original_L3\"\n",
    "    ) + \n",
    "        scale_x_continuous(expand = c(0.3, 0.3)) +\n",
    "        ggtitle(\"L3 Original -> Final\") +\n",
    "        theme(plot.background = element_rect(fill = \"white\"))\n",
    "}"
   ]
  },
  {
   "cell_type": "code",
   "execution_count": 101,
   "id": "bad52f53-1c2a-48e0-8c6b-0f1923b9967d",
   "metadata": {},
   "outputs": [],
   "source": [
    "plot_summaries <- function(meta, og_meta) {\n",
    "    l3_summary <- meta %>%\n",
    "      mutate(diff = case_when(\n",
    "              is.na(original_L3) ~ \"Previously removed\",\n",
    "              original_L3 == AIFI_L3 ~ \"Matched\",\n",
    "              TRUE ~ \"Mismatched\"\n",
    "          )) %>%\n",
    "      group_by(diff) %>%\n",
    "      tally() %>%\n",
    "      mutate(percent = format_perc(n/sum(n)))\n",
    "    l2_summary <- meta %>%\n",
    "      mutate(diff = case_when(\n",
    "              is.na(original_L2) ~ \"Previously removed\",\n",
    "              original_L2 == AIFI_L2 ~ \"Matched\",\n",
    "              TRUE ~ \"Mismatched\"\n",
    "          )) %>%\n",
    "      group_by(diff) %>%\n",
    "      tally() %>%\n",
    "      mutate(percent = format_perc(n/sum(n)))\n",
    "\n",
    "    \n",
    "    count_summary <- data.frame(\n",
    "        original_n = nrow(og_meta),\n",
    "        updated_n = nrow(meta)\n",
    "    ) %>%\n",
    "      mutate(perc_change = format_perc((updated_n - original_n) / original_n))\n",
    "    \n",
    "    l3_tb <- tibble(x = 0, y = 0.95, tb = list(l3_summary))\n",
    "    l2_tb <- tibble(x = 0, y = 0.45, tb = list(l2_summary))\n",
    "    count_tb <- tibble(x = 0, y = 0, tb = list(count_summary))\n",
    "    labels <- data.frame(x = 0, y = c(0.2, 0.6, 1), labels = c(\"Count Summary\", \"L2 Summary\", \"L3 Summary\"))\n",
    "    ggplot() +\n",
    "        geom_text(data = labels,\n",
    "           aes(x = x, y = y ,label = labels),\n",
    "              size = 5) +\n",
    "        geom_table(data = l3_tb,\n",
    "             aes(x = x, y = y, label = tb),\n",
    "              size = 5) +\n",
    "        geom_table(data = l2_tb,\n",
    "             aes(x = x, y = y, label = tb),\n",
    "            size = 5) +\n",
    "        geom_table(data = count_tb,\n",
    "             aes(x = x, y = y, label = tb),\n",
    "            size = 5) +\n",
    "        theme_void() +\n",
    "        theme(panel.background = element_rect(fill = \"white\"))\n",
    "}"
   ]
  },
  {
   "cell_type": "markdown",
   "id": "3b50b426-3fae-4ea2-8641-2b6be063d55d",
   "metadata": {},
   "source": [
    "## Read cell type hierarchy from HISE"
   ]
  },
  {
   "cell_type": "code",
   "execution_count": 8,
   "id": "cf783e06-30d0-48df-b59a-eb11277cc9ee",
   "metadata": {},
   "outputs": [],
   "source": [
    "hierarchy_uuid <- \"1a44252c-8cab-4c8f-92c9-d8f3af633790\"\n",
    "hise_res <- cacheFiles(list(hierarchy_uuid))\n",
    "hierarchy_file <- list.files(paste0(\"cache/\", hierarchy_uuid), full.names = TRUE)\n",
    "hierarchy_df <- read.csv(hierarchy_file, row.names = 1)"
   ]
  },
  {
   "cell_type": "markdown",
   "id": "bb309cd5-7d54-4d7f-9804-e81bd587f682",
   "metadata": {},
   "source": [
    "## Generate consistent colors for plotting"
   ]
  },
  {
   "cell_type": "code",
   "execution_count": 9,
   "id": "549917a0-cbb2-436a-b368-be507f3023e6",
   "metadata": {},
   "outputs": [],
   "source": [
    "set.seed(3030)"
   ]
  },
  {
   "cell_type": "code",
   "execution_count": 10,
   "id": "861beb41-e2e8-4c2d-896e-f7e95924669d",
   "metadata": {},
   "outputs": [],
   "source": [
    "colorset <- varibow(nrow(hierarchy_df))\n",
    "\n",
    "l3_colors <- hierarchy_df %>%\n",
    "  select(AIFI_L3) %>%\n",
    "  mutate(id = 1:n(),\n",
    "         color = sample(colorset, n(), replace = FALSE)) %>%\n",
    "  rename(L3 = AIFI_L3)\n",
    "l3_colors <- rbind(l3_colors, data.frame(L3 = \"other\", id = max(l3_colors$id) + 1, color = \"#000000\") )"
   ]
  },
  {
   "cell_type": "markdown",
   "id": "7fb8897b-c637-4336-b26a-180482126bbb",
   "metadata": {},
   "source": [
    "## Previous, non-tracked version of cell labels\n",
    "\n",
    "We previously performed cell labeling in a way that wasn't tracked in our CertPro system. We'll compare our new results to these original results and make sure they're similar."
   ]
  },
  {
   "cell_type": "code",
   "execution_count": 11,
   "id": "fc4a050b-5798-42f4-8de5-17a0ba8820a0",
   "metadata": {},
   "outputs": [],
   "source": [
    "label_uuid <- \"3868592c-0087-4ed8-98b2-4bf1b8676111\"\n",
    "res <- cacheFiles(list(label_uuid))\n",
    "label_parquet <- list.files(paste0(\"cache/\",label_uuid), full.names = TRUE)\n",
    "label_csv <- sub(\"parquet\",\"csv\",label_parquet)\n",
    "label_csv <- basename(label_csv)"
   ]
  },
  {
   "cell_type": "markdown",
   "id": "34f88e77-1c70-4438-8152-25c7968c2e80",
   "metadata": {},
   "source": [
    "Convert from parquet to csv for easy reading in R because our IDEs are having trouble with the `arrow` package:"
   ]
  },
  {
   "cell_type": "code",
   "execution_count": 12,
   "id": "29d7a887-cd76-4771-ad18-03624971f3fd",
   "metadata": {},
   "outputs": [],
   "source": [
    "system_call <- paste0(\n",
    "    \"python -c \\'\",\n",
    "    \"import pandas; \",\n",
    "    \"df = pandas.read_parquet(\\\"\",label_parquet,\"\\\");\",\n",
    "    \"df = df[[\\\"barcodes\\\",\\\"AIFI_L1\\\",\\\"AIFI_L2\\\",\\\"AIFI_L3\\\"]];\",\n",
    "    \"df.to_csv(\\\"\",label_csv,\"\\\")\",\n",
    "    \"\\'\"\n",
    ")"
   ]
  },
  {
   "cell_type": "code",
   "execution_count": 13,
   "id": "2929954e-c977-4dc9-8c30-118a39d6a7ce",
   "metadata": {},
   "outputs": [
    {
     "data": {
      "text/html": [
       "'python -c \\'import pandas; df = pandas.read_parquet(\"cache/3868592c-0087-4ed8-98b2-4bf1b8676111/all_imm_health_obs.parquet\");df = df[[\"barcodes\",\"AIFI_L1\",\"AIFI_L2\",\"AIFI_L3\"]];df.to_csv(\"all_imm_health_obs.csv\")\\''"
      ],
      "text/latex": [
       "'python -c \\textbackslash{}'import pandas; df = pandas.read\\_parquet(\"cache/3868592c-0087-4ed8-98b2-4bf1b8676111/all\\_imm\\_health\\_obs.parquet\");df = df{[}{[}\"barcodes\",\"AIFI\\_L1\",\"AIFI\\_L2\",\"AIFI\\_L3\"{]}{]};df.to\\_csv(\"all\\_imm\\_health\\_obs.csv\")\\textbackslash{}''"
      ],
      "text/markdown": [
       "'python -c \\'import pandas; df = pandas.read_parquet(\"cache/3868592c-0087-4ed8-98b2-4bf1b8676111/all_imm_health_obs.parquet\");df = df[[\"barcodes\",\"AIFI_L1\",\"AIFI_L2\",\"AIFI_L3\"]];df.to_csv(\"all_imm_health_obs.csv\")\\''"
      ],
      "text/plain": [
       "[1] \"python -c 'import pandas; df = pandas.read_parquet(\\\"cache/3868592c-0087-4ed8-98b2-4bf1b8676111/all_imm_health_obs.parquet\\\");df = df[[\\\"barcodes\\\",\\\"AIFI_L1\\\",\\\"AIFI_L2\\\",\\\"AIFI_L3\\\"]];df.to_csv(\\\"all_imm_health_obs.csv\\\")'\""
      ]
     },
     "metadata": {},
     "output_type": "display_data"
    }
   ],
   "source": [
    "system_call"
   ]
  },
  {
   "cell_type": "code",
   "execution_count": 14,
   "id": "d5a68e1e-d1ee-4b1f-b821-6d2373af8b48",
   "metadata": {},
   "outputs": [],
   "source": [
    "system(system_call)"
   ]
  },
  {
   "cell_type": "markdown",
   "id": "b0447001-3124-4928-b82d-96f3fbe6b497",
   "metadata": {},
   "source": [
    "Python version information in case we need it for reproducibility:"
   ]
  },
  {
   "cell_type": "code",
   "execution_count": 15,
   "id": "634196fb-3616-4864-b05a-31c6df0f0667",
   "metadata": {},
   "outputs": [
    {
     "data": {
      "text/html": [
       "'Python 3.10.13'"
      ],
      "text/latex": [
       "'Python 3.10.13'"
      ],
      "text/markdown": [
       "'Python 3.10.13'"
      ],
      "text/plain": [
       "[1] \"Python 3.10.13\""
      ]
     },
     "metadata": {},
     "output_type": "display_data"
    }
   ],
   "source": [
    "system(\"python --version\", intern = TRUE)"
   ]
  },
  {
   "cell_type": "code",
   "execution_count": 16,
   "id": "8661b84a-cc97-403d-9574-e3b48b578e9b",
   "metadata": {},
   "outputs": [
    {
     "data": {
      "text/html": [
       "'2.1.4'"
      ],
      "text/latex": [
       "'2.1.4'"
      ],
      "text/markdown": [
       "'2.1.4'"
      ],
      "text/plain": [
       "[1] \"2.1.4\""
      ]
     },
     "metadata": {},
     "output_type": "display_data"
    }
   ],
   "source": [
    "system(\"python -c 'import pandas; print(pandas.__version__)'\", intern = TRUE)"
   ]
  },
  {
   "cell_type": "code",
   "execution_count": 17,
   "id": "5943bf0d-00e2-4ff7-90d4-76b76af319b6",
   "metadata": {},
   "outputs": [],
   "source": [
    "og_labels <- fread(label_csv, header = TRUE)\n",
    "og_labels <- og_labels[,V1:=NULL]"
   ]
  },
  {
   "cell_type": "code",
   "execution_count": 18,
   "id": "0e1fa034-8eba-4e6f-907d-37f9e3b2d485",
   "metadata": {},
   "outputs": [],
   "source": [
    "og_labels <- as.data.frame(og_labels)"
   ]
  },
  {
   "cell_type": "code",
   "execution_count": 19,
   "id": "2c86d585-4ffd-4ca7-b26b-e421ecfb871d",
   "metadata": {},
   "outputs": [],
   "source": [
    "names(og_labels) <- sub(\"AIFI\", \"original\", names(og_labels))"
   ]
  },
  {
   "cell_type": "code",
   "execution_count": 20,
   "id": "d45e892a-6493-4d52-bc89-a2a7b270c589",
   "metadata": {},
   "outputs": [
    {
     "data": {
      "text/html": [
       "13846464"
      ],
      "text/latex": [
       "13846464"
      ],
      "text/markdown": [
       "13846464"
      ],
      "text/plain": [
       "[1] 13846464"
      ]
     },
     "metadata": {},
     "output_type": "display_data"
    }
   ],
   "source": [
    "nrow(og_labels)"
   ]
  },
  {
   "cell_type": "code",
   "execution_count": 21,
   "id": "038874f8-4236-43a3-9d59-395e0a24079f",
   "metadata": {},
   "outputs": [
    {
     "data": {
      "text/html": [
       "<table class=\"dataframe\">\n",
       "<caption>A data.frame: 6 × 4</caption>\n",
       "<thead>\n",
       "\t<tr><th></th><th scope=col>barcodes</th><th scope=col>original_L1</th><th scope=col>original_L2</th><th scope=col>original_L3</th></tr>\n",
       "\t<tr><th></th><th scope=col>&lt;chr&gt;</th><th scope=col>&lt;chr&gt;</th><th scope=col>&lt;chr&gt;</th><th scope=col>&lt;chr&gt;</th></tr>\n",
       "</thead>\n",
       "<tbody>\n",
       "\t<tr><th scope=row>1</th><td>05ea9806794211eb93b836d1cb6129eb</td><td>DC</td><td>cDC1</td><td>cDC1</td></tr>\n",
       "\t<tr><th scope=row>2</th><td>e225c914794011eb9282e2ceeb91ba52</td><td>DC</td><td>cDC1</td><td>cDC1</td></tr>\n",
       "\t<tr><th scope=row>3</th><td>b1379eae795411eb958b0245821e6993</td><td>DC</td><td>cDC1</td><td>cDC1</td></tr>\n",
       "\t<tr><th scope=row>4</th><td>b13d3a8a795411eb958b0245821e6993</td><td>DC</td><td>cDC1</td><td>cDC1</td></tr>\n",
       "\t<tr><th scope=row>5</th><td>b1430d16795411eb958b0245821e6993</td><td>DC</td><td>cDC1</td><td>cDC1</td></tr>\n",
       "\t<tr><th scope=row>6</th><td>7f926876794e11eb80b0ca7613f64db1</td><td>DC</td><td>cDC1</td><td>cDC1</td></tr>\n",
       "</tbody>\n",
       "</table>\n"
      ],
      "text/latex": [
       "A data.frame: 6 × 4\n",
       "\\begin{tabular}{r|llll}\n",
       "  & barcodes & original\\_L1 & original\\_L2 & original\\_L3\\\\\n",
       "  & <chr> & <chr> & <chr> & <chr>\\\\\n",
       "\\hline\n",
       "\t1 & 05ea9806794211eb93b836d1cb6129eb & DC & cDC1 & cDC1\\\\\n",
       "\t2 & e225c914794011eb9282e2ceeb91ba52 & DC & cDC1 & cDC1\\\\\n",
       "\t3 & b1379eae795411eb958b0245821e6993 & DC & cDC1 & cDC1\\\\\n",
       "\t4 & b13d3a8a795411eb958b0245821e6993 & DC & cDC1 & cDC1\\\\\n",
       "\t5 & b1430d16795411eb958b0245821e6993 & DC & cDC1 & cDC1\\\\\n",
       "\t6 & 7f926876794e11eb80b0ca7613f64db1 & DC & cDC1 & cDC1\\\\\n",
       "\\end{tabular}\n"
      ],
      "text/markdown": [
       "\n",
       "A data.frame: 6 × 4\n",
       "\n",
       "| <!--/--> | barcodes &lt;chr&gt; | original_L1 &lt;chr&gt; | original_L2 &lt;chr&gt; | original_L3 &lt;chr&gt; |\n",
       "|---|---|---|---|---|\n",
       "| 1 | 05ea9806794211eb93b836d1cb6129eb | DC | cDC1 | cDC1 |\n",
       "| 2 | e225c914794011eb9282e2ceeb91ba52 | DC | cDC1 | cDC1 |\n",
       "| 3 | b1379eae795411eb958b0245821e6993 | DC | cDC1 | cDC1 |\n",
       "| 4 | b13d3a8a795411eb958b0245821e6993 | DC | cDC1 | cDC1 |\n",
       "| 5 | b1430d16795411eb958b0245821e6993 | DC | cDC1 | cDC1 |\n",
       "| 6 | 7f926876794e11eb80b0ca7613f64db1 | DC | cDC1 | cDC1 |\n",
       "\n"
      ],
      "text/plain": [
       "  barcodes                         original_L1 original_L2 original_L3\n",
       "1 05ea9806794211eb93b836d1cb6129eb DC          cDC1        cDC1       \n",
       "2 e225c914794011eb9282e2ceeb91ba52 DC          cDC1        cDC1       \n",
       "3 b1379eae795411eb958b0245821e6993 DC          cDC1        cDC1       \n",
       "4 b13d3a8a795411eb958b0245821e6993 DC          cDC1        cDC1       \n",
       "5 b1430d16795411eb958b0245821e6993 DC          cDC1        cDC1       \n",
       "6 7f926876794e11eb80b0ca7613f64db1 DC          cDC1        cDC1       "
      ]
     },
     "metadata": {},
     "output_type": "display_data"
    }
   ],
   "source": [
    "head(og_labels)"
   ]
  },
  {
   "cell_type": "markdown",
   "id": "d97a9770-9a66-4948-ba9e-24d449d3563a",
   "metadata": {},
   "source": [
    "## Retrieve L3 labels and UMAP coordinates"
   ]
  },
  {
   "cell_type": "code",
   "execution_count": 22,
   "id": "15d152d4-18ce-475c-8c70-3aba1f7969e1",
   "metadata": {},
   "outputs": [],
   "source": [
    "tar_uuid <- '611ae161-1ecb-4ff0-a460-2a5dcc54a238'"
   ]
  },
  {
   "cell_type": "code",
   "execution_count": 23,
   "id": "9beb7acb-3737-4ef8-a7d4-6f52870e2f05",
   "metadata": {},
   "outputs": [],
   "source": [
    "hise_res <- cacheFiles(list(tar_uuid))"
   ]
  },
  {
   "cell_type": "code",
   "execution_count": 24,
   "id": "7dc0d406-e707-4608-8586-86e8f6a26d84",
   "metadata": {},
   "outputs": [],
   "source": [
    "tar_path <- list.files(paste0(\"cache/\", tar_uuid), full.names = TRUE)"
   ]
  },
  {
   "cell_type": "code",
   "execution_count": 25,
   "id": "1aeaf748-56dc-40c9-9dfa-5731f72ec9e1",
   "metadata": {},
   "outputs": [],
   "source": [
    "extract_call <- paste(\"tar -xzf\", tar_path)\n",
    "system(extract_call)"
   ]
  },
  {
   "cell_type": "code",
   "execution_count": 26,
   "id": "58abbd19-8f59-47ac-b1b9-a096561b574f",
   "metadata": {},
   "outputs": [],
   "source": [
    "meta_files <- list.files(\"output\", pattern = \".csv\", full.names = TRUE)"
   ]
  },
  {
   "cell_type": "code",
   "execution_count": 27,
   "id": "99945fa2-046b-4111-bd36-483b49aa52c6",
   "metadata": {},
   "outputs": [],
   "source": [
    "meta_list <- map(meta_files, fread)"
   ]
  },
  {
   "cell_type": "code",
   "execution_count": 37,
   "id": "32364bf1-da29-4a39-ada5-66841a480144",
   "metadata": {},
   "outputs": [],
   "source": [
    "meta_file <- paste0(\"output/diha_L3_review_all_meta_\", Sys.Date(), \".csv\")\n",
    "if(!file.exists(meta_file)) {    \n",
    "    all_meta <- map(meta_list, as.data.frame) %>%\n",
    "      map(select, -V1, -index) %>%\n",
    "      list_rbind()\n",
    "    all_meta <- all_meta %>%\n",
    "      left_join(og_labels, by = \"barcodes\")\n",
    "    fwrite(all_meta, meta_file)\n",
    "} else {\n",
    "    all_meta <- fread(meta_file)\n",
    "    all_meta <- as.data.frame(all_meta)\n",
    "}"
   ]
  },
  {
   "cell_type": "code",
   "execution_count": 38,
   "id": "d613601c-c18a-4247-a98c-90f04c2f86d5",
   "metadata": {},
   "outputs": [],
   "source": [
    "meta_list <- split(all_meta, all_meta$AIFI_L3)"
   ]
  },
  {
   "cell_type": "code",
   "execution_count": 39,
   "id": "d1f5cd80-be3c-4595-b7c9-49bcd723c0fc",
   "metadata": {},
   "outputs": [],
   "source": [
    "original_list <- split(all_meta, all_meta$original_L3)\n",
    "original_list <- original_list[names(meta_list)]"
   ]
  },
  {
   "cell_type": "code",
   "execution_count": 107,
   "id": "c1df8aea-d503-4e21-8092-6d3d92f451a3",
   "metadata": {},
   "outputs": [
    {
     "name": "stdout",
     "output_type": "stream",
     "text": [
      "[1] \"Activated memory B cell\"\n"
     ]
    },
    {
     "name": "stderr",
     "output_type": "stream",
     "text": [
      "Warning message:\n",
      "“\u001b[1m\u001b[22mRemoved 1 row containing missing values or values outside the scale range\n",
      "(`geom_text()`).”\n"
     ]
    },
    {
     "name": "stdout",
     "output_type": "stream",
     "text": [
      "[1] \"Adaptive NK cell\"\n"
     ]
    },
    {
     "name": "stderr",
     "output_type": "stream",
     "text": [
      "Warning message:\n",
      "“\u001b[1m\u001b[22mRemoved 1 row containing missing values or values outside the scale range\n",
      "(`geom_text()`).”\n"
     ]
    },
    {
     "name": "stdout",
     "output_type": "stream",
     "text": [
      "[1] \"ASDC\"\n"
     ]
    },
    {
     "name": "stderr",
     "output_type": "stream",
     "text": [
      "Warning message:\n",
      "“\u001b[1m\u001b[22mRemoved 1 row containing missing values or values outside the scale range\n",
      "(`geom_text()`).”\n"
     ]
    },
    {
     "name": "stdout",
     "output_type": "stream",
     "text": [
      "[1] \"BaEoMaP cell\"\n"
     ]
    },
    {
     "name": "stderr",
     "output_type": "stream",
     "text": [
      "Warning message:\n",
      "“\u001b[1m\u001b[22mRemoved 1 row containing missing values or values outside the scale range\n",
      "(`geom_text()`).”\n"
     ]
    },
    {
     "name": "stdout",
     "output_type": "stream",
     "text": [
      "[1] \"C1Q+ CD16 monocyte\"\n"
     ]
    },
    {
     "name": "stderr",
     "output_type": "stream",
     "text": [
      "Warning message:\n",
      "“\u001b[1m\u001b[22mRemoved 1 row containing missing values or values outside the scale range\n",
      "(`geom_text()`).”\n"
     ]
    },
    {
     "name": "stdout",
     "output_type": "stream",
     "text": [
      "[1] \"CD14+ cDC2\"\n"
     ]
    },
    {
     "name": "stderr",
     "output_type": "stream",
     "text": [
      "Warning message:\n",
      "“\u001b[1m\u001b[22mRemoved 1 row containing missing values or values outside the scale range\n",
      "(`geom_text()`).”\n"
     ]
    },
    {
     "name": "stdout",
     "output_type": "stream",
     "text": [
      "[1] \"CD27- effector B cell\"\n"
     ]
    },
    {
     "name": "stderr",
     "output_type": "stream",
     "text": [
      "Warning message:\n",
      "“\u001b[1m\u001b[22mRemoved 1 row containing missing values or values outside the scale range\n",
      "(`geom_text()`).”\n"
     ]
    },
    {
     "name": "stdout",
     "output_type": "stream",
     "text": [
      "[1] \"CD27+ effector B cell\"\n"
     ]
    },
    {
     "name": "stderr",
     "output_type": "stream",
     "text": [
      "Warning message:\n",
      "“\u001b[1m\u001b[22mRemoved 1 row containing missing values or values outside the scale range\n",
      "(`geom_text()`).”\n"
     ]
    },
    {
     "name": "stdout",
     "output_type": "stream",
     "text": [
      "[1] \"CD4 MAIT\"\n"
     ]
    },
    {
     "name": "stderr",
     "output_type": "stream",
     "text": [
      "Warning message:\n",
      "“\u001b[1m\u001b[22mRemoved 1 row containing missing values or values outside the scale range\n",
      "(`geom_text()`).”\n"
     ]
    },
    {
     "name": "stdout",
     "output_type": "stream",
     "text": [
      "[1] \"CD56bright NK cell\"\n"
     ]
    },
    {
     "name": "stderr",
     "output_type": "stream",
     "text": [
      "Warning message:\n",
      "“\u001b[1m\u001b[22mRemoved 1 row containing missing values or values outside the scale range\n",
      "(`geom_text()`).”\n"
     ]
    },
    {
     "name": "stdout",
     "output_type": "stream",
     "text": [
      "[1] \"CD8 MAIT\"\n"
     ]
    },
    {
     "name": "stderr",
     "output_type": "stream",
     "text": [
      "Warning message:\n",
      "“\u001b[1m\u001b[22mRemoved 1 row containing missing values or values outside the scale range\n",
      "(`geom_text()`).”\n"
     ]
    },
    {
     "name": "stdout",
     "output_type": "stream",
     "text": [
      "[1] \"CD8aa\"\n"
     ]
    },
    {
     "name": "stderr",
     "output_type": "stream",
     "text": [
      "Warning message:\n",
      "“\u001b[1m\u001b[22mRemoved 1 row containing missing values or values outside the scale range\n",
      "(`geom_text()`).”\n"
     ]
    },
    {
     "name": "stdout",
     "output_type": "stream",
     "text": [
      "[1] \"CD95 memory B cell\"\n"
     ]
    },
    {
     "name": "stderr",
     "output_type": "stream",
     "text": [
      "Warning message:\n",
      "“\u001b[1m\u001b[22mRemoved 1 row containing missing values or values outside the scale range\n",
      "(`geom_text()`).”\n"
     ]
    },
    {
     "name": "stdout",
     "output_type": "stream",
     "text": [
      "[1] \"cDC1\"\n"
     ]
    },
    {
     "name": "stderr",
     "output_type": "stream",
     "text": [
      "Warning message:\n",
      "“\u001b[1m\u001b[22mRemoved 1 row containing missing values or values outside the scale range\n",
      "(`geom_text()`).”\n"
     ]
    },
    {
     "name": "stdout",
     "output_type": "stream",
     "text": [
      "[1] \"CLP cell\"\n"
     ]
    },
    {
     "name": "stderr",
     "output_type": "stream",
     "text": [
      "Warning message:\n",
      "“\u001b[1m\u001b[22mRemoved 1 row containing missing values or values outside the scale range\n",
      "(`geom_text()`).”\n"
     ]
    },
    {
     "name": "stdout",
     "output_type": "stream",
     "text": [
      "[1] \"CM CD4 T cell\"\n"
     ]
    },
    {
     "name": "stderr",
     "output_type": "stream",
     "text": [
      "Warning message:\n",
      "“\u001b[1m\u001b[22mRemoved 1 row containing missing values or values outside the scale range\n",
      "(`geom_text()`).”\n"
     ]
    },
    {
     "name": "stdout",
     "output_type": "stream",
     "text": [
      "[1] \"CM CD8 T cell\"\n"
     ]
    },
    {
     "name": "stderr",
     "output_type": "stream",
     "text": [
      "Warning message:\n",
      "“\u001b[1m\u001b[22mRemoved 1 row containing missing values or values outside the scale range\n",
      "(`geom_text()`).”\n"
     ]
    },
    {
     "name": "stdout",
     "output_type": "stream",
     "text": [
      "[1] \"CMP cell\"\n"
     ]
    },
    {
     "name": "stderr",
     "output_type": "stream",
     "text": [
      "Warning message:\n",
      "“\u001b[1m\u001b[22mRemoved 1 row containing missing values or values outside the scale range\n",
      "(`geom_text()`).”\n"
     ]
    },
    {
     "name": "stdout",
     "output_type": "stream",
     "text": [
      "[1] \"Core CD14 monocyte\"\n"
     ]
    },
    {
     "name": "stderr",
     "output_type": "stream",
     "text": [
      "Warning message:\n",
      "“\u001b[1m\u001b[22mRemoved 1 row containing missing values or values outside the scale range\n",
      "(`geom_text()`).”\n"
     ]
    },
    {
     "name": "stdout",
     "output_type": "stream",
     "text": [
      "[1] \"Core CD16 monocyte\"\n"
     ]
    },
    {
     "name": "stderr",
     "output_type": "stream",
     "text": [
      "Warning message:\n",
      "“\u001b[1m\u001b[22mRemoved 1 row containing missing values or values outside the scale range\n",
      "(`geom_text()`).”\n"
     ]
    },
    {
     "name": "stdout",
     "output_type": "stream",
     "text": [
      "[1] \"Core memory B cell\"\n"
     ]
    },
    {
     "name": "stderr",
     "output_type": "stream",
     "text": [
      "Warning message:\n",
      "“\u001b[1m\u001b[22mRemoved 1 row containing missing values or values outside the scale range\n",
      "(`geom_text()`).”\n"
     ]
    },
    {
     "name": "stdout",
     "output_type": "stream",
     "text": [
      "[1] \"Core naive B cell\"\n"
     ]
    },
    {
     "name": "stderr",
     "output_type": "stream",
     "text": [
      "Warning message:\n",
      "“\u001b[1m\u001b[22mRemoved 1 row containing missing values or values outside the scale range\n",
      "(`geom_text()`).”\n"
     ]
    },
    {
     "name": "stdout",
     "output_type": "stream",
     "text": [
      "[1] \"Core naive CD4 T cell\"\n"
     ]
    },
    {
     "name": "stderr",
     "output_type": "stream",
     "text": [
      "Warning message:\n",
      "“\u001b[1m\u001b[22mRemoved 1 row containing missing values or values outside the scale range\n",
      "(`geom_text()`).”\n"
     ]
    },
    {
     "name": "stdout",
     "output_type": "stream",
     "text": [
      "[1] \"Core naive CD8 T cell\"\n"
     ]
    },
    {
     "name": "stderr",
     "output_type": "stream",
     "text": [
      "Warning message:\n",
      "“\u001b[1m\u001b[22mRemoved 1 row containing missing values or values outside the scale range\n",
      "(`geom_text()`).”\n"
     ]
    },
    {
     "name": "stdout",
     "output_type": "stream",
     "text": [
      "[1] \"DN T cell\"\n"
     ]
    },
    {
     "name": "stderr",
     "output_type": "stream",
     "text": [
      "Warning message:\n",
      "“\u001b[1m\u001b[22mRemoved 1 row containing missing values or values outside the scale range\n",
      "(`geom_text()`).”\n"
     ]
    },
    {
     "name": "stdout",
     "output_type": "stream",
     "text": [
      "[1] \"Early memory B cell\"\n"
     ]
    },
    {
     "name": "stderr",
     "output_type": "stream",
     "text": [
      "Warning message:\n",
      "“\u001b[1m\u001b[22mRemoved 1 row containing missing values or values outside the scale range\n",
      "(`geom_text()`).”\n"
     ]
    },
    {
     "name": "stdout",
     "output_type": "stream",
     "text": [
      "[1] \"Erythrocyte\"\n"
     ]
    },
    {
     "name": "stderr",
     "output_type": "stream",
     "text": [
      "Warning message:\n",
      "“\u001b[1m\u001b[22mRemoved 1 row containing missing values or values outside the scale range\n",
      "(`geom_text()`).”\n"
     ]
    },
    {
     "name": "stdout",
     "output_type": "stream",
     "text": [
      "[1] \"GZMB- CD27- EM CD4 T cell\"\n"
     ]
    },
    {
     "name": "stderr",
     "output_type": "stream",
     "text": [
      "Warning message:\n",
      "“\u001b[1m\u001b[22mRemoved 1 row containing missing values or values outside the scale range\n",
      "(`geom_text()`).”\n"
     ]
    },
    {
     "name": "stdout",
     "output_type": "stream",
     "text": [
      "[1] \"GZMB- CD27+ EM CD4 T cell\"\n"
     ]
    },
    {
     "name": "stderr",
     "output_type": "stream",
     "text": [
      "Warning message:\n",
      "“\u001b[1m\u001b[22mRemoved 1 row containing missing values or values outside the scale range\n",
      "(`geom_text()`).”\n"
     ]
    },
    {
     "name": "stdout",
     "output_type": "stream",
     "text": [
      "[1] \"GZMB+ Vd2 gdT\"\n"
     ]
    },
    {
     "name": "stderr",
     "output_type": "stream",
     "text": [
      "Warning message:\n",
      "“\u001b[1m\u001b[22mRemoved 1 row containing missing values or values outside the scale range\n",
      "(`geom_text()`).”\n"
     ]
    },
    {
     "name": "stdout",
     "output_type": "stream",
     "text": [
      "[1] \"GZMK- CD27+ EM CD8 T cell\"\n"
     ]
    },
    {
     "name": "stderr",
     "output_type": "stream",
     "text": [
      "Warning message:\n",
      "“\u001b[1m\u001b[22mRemoved 1 row containing missing values or values outside the scale range\n",
      "(`geom_text()`).”\n"
     ]
    },
    {
     "name": "stdout",
     "output_type": "stream",
     "text": [
      "[1] \"GZMK- CD56dim NK cell\"\n"
     ]
    },
    {
     "name": "stderr",
     "output_type": "stream",
     "text": [
      "Warning message:\n",
      "“\u001b[1m\u001b[22mRemoved 1 row containing missing values or values outside the scale range\n",
      "(`geom_text()`).”\n"
     ]
    },
    {
     "name": "stdout",
     "output_type": "stream",
     "text": [
      "[1] \"GZMK+ CD27+ EM CD8 T cell\"\n"
     ]
    },
    {
     "name": "stderr",
     "output_type": "stream",
     "text": [
      "Warning message:\n",
      "“\u001b[1m\u001b[22mRemoved 1 row containing missing values or values outside the scale range\n",
      "(`geom_text()`).”\n"
     ]
    },
    {
     "name": "stdout",
     "output_type": "stream",
     "text": [
      "[1] \"GZMK+ CD56dim NK cell\"\n"
     ]
    },
    {
     "name": "stderr",
     "output_type": "stream",
     "text": [
      "Warning message:\n",
      "“\u001b[1m\u001b[22mRemoved 1 row containing missing values or values outside the scale range\n",
      "(`geom_text()`).”\n"
     ]
    },
    {
     "name": "stdout",
     "output_type": "stream",
     "text": [
      "[1] \"GZMK+ memory CD4 Treg\"\n"
     ]
    },
    {
     "name": "stderr",
     "output_type": "stream",
     "text": [
      "Warning message:\n",
      "“\u001b[1m\u001b[22mRemoved 1 row containing missing values or values outside the scale range\n",
      "(`geom_text()`).”\n"
     ]
    },
    {
     "name": "stdout",
     "output_type": "stream",
     "text": [
      "[1] \"GZMK+ Vd2 gdT\"\n"
     ]
    },
    {
     "name": "stderr",
     "output_type": "stream",
     "text": [
      "Warning message:\n",
      "“\u001b[1m\u001b[22mRemoved 1 row containing missing values or values outside the scale range\n",
      "(`geom_text()`).”\n"
     ]
    },
    {
     "name": "stdout",
     "output_type": "stream",
     "text": [
      "[1] \"HLA-DRhi cDC2\"\n"
     ]
    },
    {
     "name": "stderr",
     "output_type": "stream",
     "text": [
      "Warning message:\n",
      "“\u001b[1m\u001b[22mRemoved 1 row containing missing values or values outside the scale range\n",
      "(`geom_text()`).”\n"
     ]
    },
    {
     "name": "stdout",
     "output_type": "stream",
     "text": [
      "[1] \"IL1B+ CD14 monocyte\"\n"
     ]
    },
    {
     "name": "stderr",
     "output_type": "stream",
     "text": [
      "Warning message:\n",
      "“\u001b[1m\u001b[22mRemoved 1 row containing missing values or values outside the scale range\n",
      "(`geom_text()`).”\n"
     ]
    },
    {
     "name": "stdout",
     "output_type": "stream",
     "text": [
      "[1] \"ILC\"\n"
     ]
    },
    {
     "name": "stderr",
     "output_type": "stream",
     "text": [
      "Warning message:\n",
      "“\u001b[1m\u001b[22mRemoved 1 row containing missing values or values outside the scale range\n",
      "(`geom_text()`).”\n"
     ]
    },
    {
     "name": "stdout",
     "output_type": "stream",
     "text": [
      "[1] \"Intermediate monocyte\"\n"
     ]
    },
    {
     "name": "stderr",
     "output_type": "stream",
     "text": [
      "Warning message:\n",
      "“\u001b[1m\u001b[22mRemoved 1 row containing missing values or values outside the scale range\n",
      "(`geom_text()`).”\n"
     ]
    },
    {
     "name": "stdout",
     "output_type": "stream",
     "text": [
      "[1] \"ISG+ CD14 monocyte\"\n"
     ]
    },
    {
     "name": "stderr",
     "output_type": "stream",
     "text": [
      "Warning message:\n",
      "“\u001b[1m\u001b[22mRemoved 1 row containing missing values or values outside the scale range\n",
      "(`geom_text()`).”\n"
     ]
    },
    {
     "name": "stdout",
     "output_type": "stream",
     "text": [
      "[1] \"ISG+ CD16 monocyte\"\n"
     ]
    },
    {
     "name": "stderr",
     "output_type": "stream",
     "text": [
      "Warning message:\n",
      "“\u001b[1m\u001b[22mRemoved 1 row containing missing values or values outside the scale range\n",
      "(`geom_text()`).”\n"
     ]
    },
    {
     "name": "stdout",
     "output_type": "stream",
     "text": [
      "[1] \"ISG+ CD56dim NK cell\"\n"
     ]
    },
    {
     "name": "stderr",
     "output_type": "stream",
     "text": [
      "Warning message:\n",
      "“\u001b[1m\u001b[22mRemoved 1 row containing missing values or values outside the scale range\n",
      "(`geom_text()`).”\n"
     ]
    },
    {
     "name": "stdout",
     "output_type": "stream",
     "text": [
      "[1] \"ISG+ cDC2\"\n"
     ]
    },
    {
     "name": "stderr",
     "output_type": "stream",
     "text": [
      "Warning message:\n",
      "“\u001b[1m\u001b[22mRemoved 1 row containing missing values or values outside the scale range\n",
      "(`geom_text()`).”\n"
     ]
    },
    {
     "name": "stdout",
     "output_type": "stream",
     "text": [
      "[1] \"ISG+ MAIT\"\n"
     ]
    },
    {
     "name": "stderr",
     "output_type": "stream",
     "text": [
      "Warning message:\n",
      "“\u001b[1m\u001b[22mRemoved 1 row containing missing values or values outside the scale range\n",
      "(`geom_text()`).”\n"
     ]
    },
    {
     "name": "stdout",
     "output_type": "stream",
     "text": [
      "[1] \"ISG+ memory CD4 T cell\"\n"
     ]
    },
    {
     "name": "stderr",
     "output_type": "stream",
     "text": [
      "Warning message:\n",
      "“\u001b[1m\u001b[22mRemoved 1 row containing missing values or values outside the scale range\n",
      "(`geom_text()`).”\n"
     ]
    },
    {
     "name": "stdout",
     "output_type": "stream",
     "text": [
      "[1] \"ISG+ memory CD8 T cell\"\n"
     ]
    },
    {
     "name": "stderr",
     "output_type": "stream",
     "text": [
      "Warning message:\n",
      "“\u001b[1m\u001b[22mRemoved 1 row containing missing values or values outside the scale range\n",
      "(`geom_text()`).”\n"
     ]
    },
    {
     "name": "stdout",
     "output_type": "stream",
     "text": [
      "[1] \"ISG+ naive B cell\"\n"
     ]
    },
    {
     "name": "stderr",
     "output_type": "stream",
     "text": [
      "Warning message:\n",
      "“\u001b[1m\u001b[22mRemoved 1 row containing missing values or values outside the scale range\n",
      "(`geom_text()`).”\n"
     ]
    },
    {
     "name": "stdout",
     "output_type": "stream",
     "text": [
      "[1] \"ISG+ naive CD4 T cell\"\n"
     ]
    },
    {
     "name": "stderr",
     "output_type": "stream",
     "text": [
      "Warning message:\n",
      "“\u001b[1m\u001b[22mRemoved 1 row containing missing values or values outside the scale range\n",
      "(`geom_text()`).”\n"
     ]
    },
    {
     "name": "stdout",
     "output_type": "stream",
     "text": [
      "[1] \"ISG+ naive CD8 T cell\"\n"
     ]
    },
    {
     "name": "stderr",
     "output_type": "stream",
     "text": [
      "Warning message:\n",
      "“\u001b[1m\u001b[22mRemoved 1 row containing missing values or values outside the scale range\n",
      "(`geom_text()`).”\n"
     ]
    },
    {
     "name": "stdout",
     "output_type": "stream",
     "text": [
      "[1] \"KLRB1+ memory CD4 Treg\"\n"
     ]
    },
    {
     "name": "stderr",
     "output_type": "stream",
     "text": [
      "Warning message:\n",
      "“\u001b[1m\u001b[22mRemoved 1 row containing missing values or values outside the scale range\n",
      "(`geom_text()`).”\n"
     ]
    },
    {
     "name": "stdout",
     "output_type": "stream",
     "text": [
      "[1] \"KLRB1+ memory CD8 Treg\"\n"
     ]
    },
    {
     "name": "stderr",
     "output_type": "stream",
     "text": [
      "Warning message:\n",
      "“\u001b[1m\u001b[22mRemoved 1 row containing missing values or values outside the scale range\n",
      "(`geom_text()`).”\n"
     ]
    },
    {
     "name": "stdout",
     "output_type": "stream",
     "text": [
      "[1] \"KLRF1- effector Vd1 gdT\"\n"
     ]
    },
    {
     "name": "stderr",
     "output_type": "stream",
     "text": [
      "Warning message:\n",
      "“\u001b[1m\u001b[22mRemoved 1 row containing missing values or values outside the scale range\n",
      "(`geom_text()`).”\n"
     ]
    },
    {
     "name": "stdout",
     "output_type": "stream",
     "text": [
      "[1] \"KLRF1- GZMB+ CD27- EM CD8 T cell\"\n"
     ]
    },
    {
     "name": "stderr",
     "output_type": "stream",
     "text": [
      "Warning message:\n",
      "“\u001b[1m\u001b[22mRemoved 1 row containing missing values or values outside the scale range\n",
      "(`geom_text()`).”\n"
     ]
    },
    {
     "name": "stdout",
     "output_type": "stream",
     "text": [
      "[1] \"KLRF1- GZMB+ CD27- memory CD4 T cell\"\n"
     ]
    },
    {
     "name": "stderr",
     "output_type": "stream",
     "text": [
      "Warning message:\n",
      "“\u001b[1m\u001b[22mRemoved 1 row containing missing values or values outside the scale range\n",
      "(`geom_text()`).”\n"
     ]
    },
    {
     "name": "stdout",
     "output_type": "stream",
     "text": [
      "[1] \"KLRF1+ effector Vd1 gdT\"\n"
     ]
    },
    {
     "name": "stderr",
     "output_type": "stream",
     "text": [
      "Warning message:\n",
      "“\u001b[1m\u001b[22mRemoved 1 row containing missing values or values outside the scale range\n",
      "(`geom_text()`).”\n"
     ]
    },
    {
     "name": "stdout",
     "output_type": "stream",
     "text": [
      "[1] \"KLRF1+ GZMB+ CD27- EM CD8 T cell\"\n"
     ]
    },
    {
     "name": "stderr",
     "output_type": "stream",
     "text": [
      "Warning message:\n",
      "“\u001b[1m\u001b[22mRemoved 1 row containing missing values or values outside the scale range\n",
      "(`geom_text()`).”\n"
     ]
    },
    {
     "name": "stdout",
     "output_type": "stream",
     "text": [
      "[1] \"Memory CD4 Treg\"\n"
     ]
    },
    {
     "name": "stderr",
     "output_type": "stream",
     "text": [
      "Warning message:\n",
      "“\u001b[1m\u001b[22mRemoved 1 row containing missing values or values outside the scale range\n",
      "(`geom_text()`).”\n"
     ]
    },
    {
     "name": "stdout",
     "output_type": "stream",
     "text": [
      "[1] \"Memory CD8 Treg\"\n"
     ]
    },
    {
     "name": "stderr",
     "output_type": "stream",
     "text": [
      "Warning message:\n",
      "“\u001b[1m\u001b[22mRemoved 1 row containing missing values or values outside the scale range\n",
      "(`geom_text()`).”\n"
     ]
    },
    {
     "name": "stdout",
     "output_type": "stream",
     "text": [
      "[1] \"Naive CD4 Treg\"\n"
     ]
    },
    {
     "name": "stderr",
     "output_type": "stream",
     "text": [
      "Warning message:\n",
      "“\u001b[1m\u001b[22mRemoved 1 row containing missing values or values outside the scale range\n",
      "(`geom_text()`).”\n"
     ]
    },
    {
     "name": "stdout",
     "output_type": "stream",
     "text": [
      "[1] \"Naive Vd1 gdT\"\n"
     ]
    },
    {
     "name": "stderr",
     "output_type": "stream",
     "text": [
      "Warning message:\n",
      "“\u001b[1m\u001b[22mRemoved 1 row containing missing values or values outside the scale range\n",
      "(`geom_text()`).”\n"
     ]
    },
    {
     "name": "stdout",
     "output_type": "stream",
     "text": [
      "[1] \"pDC\"\n"
     ]
    },
    {
     "name": "stderr",
     "output_type": "stream",
     "text": [
      "Warning message:\n",
      "“\u001b[1m\u001b[22mRemoved 1 row containing missing values or values outside the scale range\n",
      "(`geom_text()`).”\n"
     ]
    },
    {
     "name": "stdout",
     "output_type": "stream",
     "text": [
      "[1] \"Plasma cell\"\n"
     ]
    },
    {
     "name": "stderr",
     "output_type": "stream",
     "text": [
      "Warning message:\n",
      "“\u001b[1m\u001b[22mRemoved 1 row containing missing values or values outside the scale range\n",
      "(`geom_text()`).”\n"
     ]
    },
    {
     "name": "stdout",
     "output_type": "stream",
     "text": [
      "[1] \"Platelet\"\n"
     ]
    },
    {
     "name": "stderr",
     "output_type": "stream",
     "text": [
      "Warning message:\n",
      "“\u001b[1m\u001b[22mRemoved 1 row containing missing values or values outside the scale range\n",
      "(`geom_text()`).”\n"
     ]
    },
    {
     "name": "stdout",
     "output_type": "stream",
     "text": [
      "[1] \"Proliferating NK cell\"\n"
     ]
    },
    {
     "name": "stderr",
     "output_type": "stream",
     "text": [
      "Warning message:\n",
      "“\u001b[1m\u001b[22mRemoved 1 row containing missing values or values outside the scale range\n",
      "(`geom_text()`).”\n"
     ]
    },
    {
     "name": "stdout",
     "output_type": "stream",
     "text": [
      "[1] \"Proliferating T cell\"\n"
     ]
    },
    {
     "name": "stderr",
     "output_type": "stream",
     "text": [
      "Warning message:\n",
      "“\u001b[1m\u001b[22mRemoved 1 row containing missing values or values outside the scale range\n",
      "(`geom_text()`).”\n"
     ]
    },
    {
     "name": "stdout",
     "output_type": "stream",
     "text": [
      "[1] \"SOX4+ naive CD4 T cell\"\n"
     ]
    },
    {
     "name": "stderr",
     "output_type": "stream",
     "text": [
      "Warning message:\n",
      "“\u001b[1m\u001b[22mRemoved 1 row containing missing values or values outside the scale range\n",
      "(`geom_text()`).”\n"
     ]
    },
    {
     "name": "stdout",
     "output_type": "stream",
     "text": [
      "[1] \"SOX4+ naive CD8 T cell\"\n"
     ]
    },
    {
     "name": "stderr",
     "output_type": "stream",
     "text": [
      "Warning message:\n",
      "“\u001b[1m\u001b[22mRemoved 1 row containing missing values or values outside the scale range\n",
      "(`geom_text()`).”\n"
     ]
    },
    {
     "name": "stdout",
     "output_type": "stream",
     "text": [
      "[1] \"SOX4+ Vd1 gdT\"\n"
     ]
    },
    {
     "name": "stderr",
     "output_type": "stream",
     "text": [
      "Warning message:\n",
      "“\u001b[1m\u001b[22mRemoved 1 row containing missing values or values outside the scale range\n",
      "(`geom_text()`).”\n"
     ]
    },
    {
     "name": "stdout",
     "output_type": "stream",
     "text": [
      "[1] \"Transitional B cell\"\n"
     ]
    },
    {
     "name": "stderr",
     "output_type": "stream",
     "text": [
      "Warning message:\n",
      "“\u001b[1m\u001b[22mRemoved 1 row containing missing values or values outside the scale range\n",
      "(`geom_text()`).”\n"
     ]
    },
    {
     "name": "stdout",
     "output_type": "stream",
     "text": [
      "[1] \"Type 2 polarized memory B cell\"\n"
     ]
    },
    {
     "name": "stderr",
     "output_type": "stream",
     "text": [
      "Warning message:\n",
      "“\u001b[1m\u001b[22mRemoved 1 row containing missing values or values outside the scale range\n",
      "(`geom_text()`).”\n"
     ]
    }
   ],
   "source": [
    "walk2(\n",
    "    meta_list, original_list,\n",
    "    function(meta, og_meta) {\n",
    "        cell_type <- meta$AIFI_L3[1]\n",
    "        print(cell_type)\n",
    "        \n",
    "        l3_summary <- meta %>%\n",
    "          mutate(diff = case_when(\n",
    "                  is.na(original_L3) ~ \"Previously removed\",\n",
    "                  original_L3 == AIFI_L3 ~ \"Matched\",\n",
    "                  TRUE ~ \"Mismatched\"\n",
    "              )) %>%\n",
    "          group_by(diff) %>%\n",
    "          tally() %>%\n",
    "          mutate(percent = format_perc(n/sum(n)))\n",
    "        l2_summary <- meta %>%\n",
    "          mutate(diff = case_when(\n",
    "                  is.na(original_L2) ~ \"Previously removed\",\n",
    "                  original_L2 == AIFI_L2 ~ \"Matched\",\n",
    "                  TRUE ~ \"Mismatched\"\n",
    "              )) %>%\n",
    "          group_by(diff) %>%\n",
    "          tally() %>%\n",
    "          mutate(percent = format_perc(n/sum(n)))\n",
    "        \n",
    "        og_umap <- plot_l3(meta, cell_type, \"original_L3\", l3_colors = l3_colors)\n",
    "        final_umap <- plot_l3(meta, cell_type, \"predicted_AIFI_L3\", l3_colors = l3_colors)\n",
    "        diff_umap <- plot_diff(meta, cell_type)\n",
    "        \n",
    "        top_row <- plot_grid(og_umap, final_umap, diff_umap, \n",
    "                             nrow = 1, ncol = 3, align = \"h\")\n",
    "        \n",
    "        to_new_river_plot <- plot_l3_river(meta, l3_colors)\n",
    "        from_og_river_plot <- plot_l3_river(og_meta, l3_colors)\n",
    "        summary_plot <- plot_summaries(meta, og_meta)\n",
    "\n",
    "        bottom_row <- plot_grid(from_og_river_plot, to_new_river_plot, summary_plot, \n",
    "                                nrow = 1, ncol = 3)\n",
    "\n",
    "        all_plots <- plot_grid(top_row, bottom_row, \n",
    "                               nrow = 2, ncol = 1,\n",
    "                               rel_heights = c(1, 1))\n",
    "\n",
    "        ggsave(\n",
    "            paste0(\"output/plots/\", cell_type, \"_\", Sys.Date(), \".png\"),\n",
    "            all_plots,\n",
    "            width = 20, height = 16\n",
    "        )        \n",
    "        \n",
    "    }\n",
    ")"
   ]
  },
  {
   "cell_type": "code",
   "execution_count": null,
   "id": "b3e72e4f-af28-4e57-a6fa-7cb6384df614",
   "metadata": {},
   "outputs": [],
   "source": []
  }
 ],
 "metadata": {
  "kernelspec": {
   "display_name": "R 4",
   "language": "R",
   "name": "ir4"
  },
  "language_info": {
   "codemirror_mode": "r",
   "file_extension": ".r",
   "mimetype": "text/x-r-source",
   "name": "R",
   "pygments_lexer": "r",
   "version": "4.3.2"
  }
 },
 "nbformat": 4,
 "nbformat_minor": 5
}
