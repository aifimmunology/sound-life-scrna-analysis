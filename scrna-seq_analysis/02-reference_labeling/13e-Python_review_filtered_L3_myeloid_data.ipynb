{
 "cells": [
  {
   "cell_type": "raw",
   "id": "fe4eb816-e2ef-4865-a4b1-c2387fa7362f",
   "metadata": {},
   "source": [
    "title: Review Filtered L3 Myeloid/DC labels"
   ]
  },
  {
   "cell_type": "code",
   "execution_count": 1,
   "id": "2201fb02-659b-4bce-a86e-99e8ac401535",
   "metadata": {},
   "outputs": [],
   "source": [
    "%load_ext pretty_jupyter"
   ]
  },
  {
   "cell_type": "code",
   "execution_count": 2,
   "id": "e1067b63-9ece-4c4c-8766-60be09f39d6f",
   "metadata": {},
   "outputs": [],
   "source": [
    "import warnings\n",
    "warnings.simplefilter(action='ignore', category=FutureWarning)\n",
    "warnings.simplefilter(action='ignore', category=UserWarning)\n",
    "\n",
    "from datetime import date\n",
    "import hisepy\n",
    "import numpy as np\n",
    "import os\n",
    "import pandas as pd\n",
    "import re\n",
    "import scanpy as sc"
   ]
  },
  {
   "cell_type": "markdown",
   "id": "40095d6b-6617-4725-bbbf-71f10024a077",
   "metadata": {},
   "source": [
    "## Helper functions"
   ]
  },
  {
   "cell_type": "code",
   "execution_count": 3,
   "id": "0b7834c5-d676-4ed8-8b1b-b7cacb2ce86d",
   "metadata": {},
   "outputs": [],
   "source": [
    "def cache_uuid_path(uuid):\n",
    "    cache_path = '/home/jupyter/cache/{u}'.format(u = uuid)\n",
    "    if not os.path.isdir(cache_path):\n",
    "        hise_res = hisepy.reader.cache_files([uuid])\n",
    "    filename = os.listdir(cache_path)[0]\n",
    "    cache_file = '{p}/{f}'.format(p = cache_path, f = filename)\n",
    "    return cache_file"
   ]
  },
  {
   "cell_type": "code",
   "execution_count": 4,
   "id": "0e9e0617-00c6-492b-a9fc-1d94f9a47631",
   "metadata": {},
   "outputs": [],
   "source": [
    "def read_csv_uuid(uuid):\n",
    "    cache_file = cache_uuid_path(uuid)\n",
    "    res = pd.read_csv(cache_file)\n",
    "    return res"
   ]
  },
  {
   "cell_type": "code",
   "execution_count": 5,
   "id": "8cf2911a-5306-4690-9e49-ed9e2abd13e8",
   "metadata": {},
   "outputs": [],
   "source": [
    "def read_parquet_uuid(uuid):\n",
    "    cache_file = cache_uuid_path(uuid)\n",
    "    res = pd.read_parquet(cache_file)\n",
    "    return res"
   ]
  },
  {
   "cell_type": "code",
   "execution_count": 6,
   "id": "ae9f3813-9ae1-4742-89c9-9201613b3d9c",
   "metadata": {},
   "outputs": [],
   "source": [
    "def read_adata_uuid(uuid):\n",
    "    cache_file = cache_uuid_path(uuid)\n",
    "    res = sc.read_h5ad(cache_file)\n",
    "    return res"
   ]
  },
  {
   "cell_type": "code",
   "execution_count": 7,
   "id": "13f71f30-2553-4168-a651-7a6437da2a9a",
   "metadata": {},
   "outputs": [],
   "source": [
    "def backed_adata_uuid(uuid):\n",
    "    cache_file = cache_uuid_path(uuid)\n",
    "    res = sc.read_h5ad(cache_file, backed = 'r')\n",
    "    return res"
   ]
  },
  {
   "cell_type": "code",
   "execution_count": 8,
   "id": "67787785-7eb5-4303-a037-492f5529844a",
   "metadata": {},
   "outputs": [],
   "source": [
    "def rm_cache_uuid(uuid):\n",
    "    cache_path = '/home/jupyter/cache/{u}'.format(u = uuid)\n",
    "    rm_call = 'rm -r {d}'.format(d = cache_path)\n",
    "    os.system(rm_call)"
   ]
  },
  {
   "cell_type": "code",
   "execution_count": 9,
   "id": "a59c059d-ef4c-44b3-a801-fcea2fec6f89",
   "metadata": {},
   "outputs": [],
   "source": [
    "def format_cell_type(cell_type):\n",
    "    cell_type = re.sub('\\\\+', 'pos', cell_type)\n",
    "    cell_type = re.sub('-', 'neg', cell_type)\n",
    "    cell_type = re.sub(' ', '_', cell_type)\n",
    "    return cell_type"
   ]
  },
  {
   "cell_type": "code",
   "execution_count": 10,
   "id": "8081cc35-d524-4f04-bc39-c74526c6dad3",
   "metadata": {},
   "outputs": [],
   "source": [
    "def filename_cell_type(filename):\n",
    "    cell_type = re.sub('.+L3_','',filename)\n",
    "    cell_type = re.sub('_2024.+','',cell_type)\n",
    "    cell_type = re.sub('_', ' ', cell_type)\n",
    "    cell_type = re.sub('pos','+', cell_type)\n",
    "    cell_type = re.sub('neg','-', cell_type)\n",
    "    return cell_type"
   ]
  },
  {
   "cell_type": "code",
   "execution_count": 11,
   "id": "4969d374-773a-456d-96f3-118c7b2ab66c",
   "metadata": {},
   "outputs": [],
   "source": [
    "def add_labels(adata, labels):\n",
    "    obs = adata.obs\n",
    "    obs = obs.reset_index(drop = True)\n",
    "    obs = obs.merge(labels, on = 'barcodes', how = 'left')\n",
    "    obs = obs.set_index('barcodes', drop = False)\n",
    "    adata.obs = obs\n",
    "    return adata"
   ]
  },
  {
   "cell_type": "code",
   "execution_count": 12,
   "id": "e2dc6f39-eb93-4f14-8fd7-63041cb316b1",
   "metadata": {},
   "outputs": [],
   "source": [
    "def element_id(n = 3):\n",
    "    import periodictable\n",
    "    from random import randrange\n",
    "    rand_el = []\n",
    "    for i in range(n):\n",
    "        el = randrange(0,118)\n",
    "        rand_el.append(periodictable.elements[el].name)\n",
    "    rand_str = '-'.join(rand_el)\n",
    "    return rand_str"
   ]
  },
  {
   "cell_type": "markdown",
   "id": "dd1ca55f-92cf-4b57-a8a8-4f279f8ba20d",
   "metadata": {},
   "source": [
    "## Markers for dotplots"
   ]
  },
  {
   "cell_type": "code",
   "execution_count": 13,
   "id": "8fb90da0-0e76-452f-8c7c-2a3981f8fe9d",
   "metadata": {},
   "outputs": [],
   "source": [
    "broad_markers = [\n",
    "    'CD3D', # T cells\n",
    "    'CD3E', # T cells/NK\n",
    "    'FCN1', # Monocytes/Myeloid\n",
    "    'HBB', # Erythrocytes\n",
    "    'MS4A1', # B cells\n",
    "    'CD79A', # B cells\n",
    "    'PPBP', # Platelets\n",
    "    'IFI44L' # ISG-high\n",
    "]"
   ]
  },
  {
   "cell_type": "code",
   "execution_count": 14,
   "id": "df54b62a-de90-49f3-8708-e4e5488d1a7c",
   "metadata": {},
   "outputs": [],
   "source": [
    "class_markers = [\n",
    "    'AXL',     # ASDCs\n",
    "    'C1orf54',\n",
    "    'CCL3',    # IL1B+ Monocytes\n",
    "    'CD14',    # CD14+ Monocytes and cDC2s\n",
    "    'CD1C',    # cDC2\n",
    "    'CD74',\n",
    "    'CDKN1C',\n",
    "    'CLEC9A',\n",
    "    'CST3',\n",
    "    'FCER1A',  # cDC2\n",
    "    'FCGR3A',  # CD16+ Monocytes\n",
    "    'HLA-DRA', # CD16+ Monocytes; DCs\n",
    "    'IFI44L',  # ISG+ cells\n",
    "    'IL1B',\n",
    "    'IRF4',    # pDC\n",
    "    'IRF8',    # pDC\n",
    "    'ISG15',\n",
    "    'LST1',\n",
    "    'MX1',\n",
    "    'NFKBIA',   # IL1B+ Monocytes\n",
    "    'S100A9',\n",
    "    'VCAN'\n",
    "]"
   ]
  },
  {
   "cell_type": "markdown",
   "id": "69e8b04f-2866-4515-97bb-08df914afc4b",
   "metadata": {},
   "source": [
    "## Read previous, non-tracked labels\n",
    "We ran a preliminary analysis of our dataset that wasn't tracked for reproducibility. Here, we'll retrieve the labels for visualization and comparison to check for consistency."
   ]
  },
  {
   "cell_type": "code",
   "execution_count": 15,
   "id": "87beacff-6255-4b8d-8f46-6fe278694a40",
   "metadata": {},
   "outputs": [],
   "source": [
    "original_uuid = '3868592c-0087-4ed8-98b2-4bf1b8676111'\n",
    "original_df = read_parquet_uuid(original_uuid)\n",
    "original_df = original_df[['barcodes', 'AIFI_L1', 'AIFI_L2', 'AIFI_L3']]\n",
    "original_df = original_df.rename({'AIFI_L1': 'original_L1', 'AIFI_L2': 'original_L2', 'AIFI_L3': 'original_L3'}, axis = 1)"
   ]
  },
  {
   "cell_type": "code",
   "execution_count": 16,
   "id": "7b399d73-0f70-49a4-94ac-6bbb91662e3a",
   "metadata": {
    "scrolled": true
   },
   "outputs": [
    {
     "data": {
      "text/html": [
       "<div>\n",
       "<style scoped>\n",
       "    .dataframe tbody tr th:only-of-type {\n",
       "        vertical-align: middle;\n",
       "    }\n",
       "\n",
       "    .dataframe tbody tr th {\n",
       "        vertical-align: top;\n",
       "    }\n",
       "\n",
       "    .dataframe thead th {\n",
       "        text-align: right;\n",
       "    }\n",
       "</style>\n",
       "<table border=\"1\" class=\"dataframe\">\n",
       "  <thead>\n",
       "    <tr style=\"text-align: right;\">\n",
       "      <th></th>\n",
       "      <th>barcodes</th>\n",
       "      <th>original_L1</th>\n",
       "      <th>original_L2</th>\n",
       "      <th>original_L3</th>\n",
       "    </tr>\n",
       "  </thead>\n",
       "  <tbody>\n",
       "    <tr>\n",
       "      <th>0</th>\n",
       "      <td>05ea9806794211eb93b836d1cb6129eb</td>\n",
       "      <td>DC</td>\n",
       "      <td>cDC1</td>\n",
       "      <td>cDC1</td>\n",
       "    </tr>\n",
       "    <tr>\n",
       "      <th>1</th>\n",
       "      <td>e225c914794011eb9282e2ceeb91ba52</td>\n",
       "      <td>DC</td>\n",
       "      <td>cDC1</td>\n",
       "      <td>cDC1</td>\n",
       "    </tr>\n",
       "    <tr>\n",
       "      <th>2</th>\n",
       "      <td>b1379eae795411eb958b0245821e6993</td>\n",
       "      <td>DC</td>\n",
       "      <td>cDC1</td>\n",
       "      <td>cDC1</td>\n",
       "    </tr>\n",
       "    <tr>\n",
       "      <th>3</th>\n",
       "      <td>b13d3a8a795411eb958b0245821e6993</td>\n",
       "      <td>DC</td>\n",
       "      <td>cDC1</td>\n",
       "      <td>cDC1</td>\n",
       "    </tr>\n",
       "    <tr>\n",
       "      <th>4</th>\n",
       "      <td>b1430d16795411eb958b0245821e6993</td>\n",
       "      <td>DC</td>\n",
       "      <td>cDC1</td>\n",
       "      <td>cDC1</td>\n",
       "    </tr>\n",
       "  </tbody>\n",
       "</table>\n",
       "</div>"
      ],
      "text/plain": [
       "                           barcodes original_L1 original_L2 original_L3\n",
       "0  05ea9806794211eb93b836d1cb6129eb          DC        cDC1        cDC1\n",
       "1  e225c914794011eb9282e2ceeb91ba52          DC        cDC1        cDC1\n",
       "2  b1379eae795411eb958b0245821e6993          DC        cDC1        cDC1\n",
       "3  b13d3a8a795411eb958b0245821e6993          DC        cDC1        cDC1\n",
       "4  b1430d16795411eb958b0245821e6993          DC        cDC1        cDC1"
      ]
     },
     "execution_count": 16,
     "metadata": {},
     "output_type": "execute_result"
    }
   ],
   "source": [
    "original_df.head()"
   ]
  },
  {
   "cell_type": "markdown",
   "id": "6e8f8117-dc33-4ac4-922c-65890b7d9492",
   "metadata": {},
   "source": [
    "## Read cell type hierarchy"
   ]
  },
  {
   "cell_type": "code",
   "execution_count": 17,
   "id": "6baae088-9144-449d-ac42-c9c41968cfca",
   "metadata": {},
   "outputs": [],
   "source": [
    "hierarchy_uuid = '1a44252c-8cab-4c8f-92c9-d8f3af633790'\n",
    "hierarchy_df = read_csv_uuid(hierarchy_uuid)"
   ]
  },
  {
   "cell_type": "markdown",
   "id": "fad5a589-ec20-4463-9b96-0dc8291a8ca2",
   "metadata": {},
   "source": [
    "## Identify files for use in HISE"
   ]
  },
  {
   "cell_type": "code",
   "execution_count": 18,
   "id": "e417c434-ec69-43da-8a58-7b6883172a87",
   "metadata": {},
   "outputs": [],
   "source": [
    "search_id = 'neptunium-cadmium-erbium'"
   ]
  },
  {
   "cell_type": "markdown",
   "id": "8c03485c-b63a-4ed0-a99e-c9bf1fc65f9f",
   "metadata": {},
   "source": [
    "Retrieve files stored in our HISE project store"
   ]
  },
  {
   "cell_type": "code",
   "execution_count": 19,
   "id": "a9d17953-3d0c-4c80-a9e0-e2fe1e506ef7",
   "metadata": {},
   "outputs": [],
   "source": [
    "ps_df = hisepy.list_files_in_project_store('cohorts')\n",
    "ps_df = ps_df[['id', 'name']]"
   ]
  },
  {
   "cell_type": "markdown",
   "id": "aaf717dd-1efd-490c-84bd-2f165646b510",
   "metadata": {},
   "source": [
    "Filter for files from the previous notebook using our search_id"
   ]
  },
  {
   "cell_type": "code",
   "execution_count": 20,
   "id": "d5089a83-9781-4fcb-8770-c4726602961d",
   "metadata": {},
   "outputs": [],
   "source": [
    "search_df = ps_df[ps_df['name'].str.contains(search_id)]\n",
    "search_df = search_df.sort_values('name')\n",
    "search_df['AIFI_L3'] = [filename_cell_type(f) for f in search_df['name']]"
   ]
  },
  {
   "cell_type": "code",
   "execution_count": 21,
   "id": "4d1da41a-513f-4f35-afef-bdbe7f2bfd88",
   "metadata": {},
   "outputs": [
    {
     "data": {
      "text/plain": [
       "['CD8 reasons',\n",
       " 'CD8aa',\n",
       " 'CM CD8 T cell',\n",
       " 'Core naive CD8 T cell',\n",
       " 'GZMK- CD27+ EM CD8 T cell',\n",
       " 'GZMK+ CD27+ EM CD8 T cell',\n",
       " 'ISG+ memory CD8 T cell',\n",
       " 'ISG+ naive CD8 T cell',\n",
       " 'KLRF1- GZMB+ CD27- EM CD8 T cell',\n",
       " 'KLRF1+ GZMB+ CD27- EM CD8 T cell',\n",
       " 'SOX4+ naive CD8 T cell']"
      ]
     },
     "execution_count": 21,
     "metadata": {},
     "output_type": "execute_result"
    }
   ],
   "source": [
    "search_df['AIFI_L3'].tolist()"
   ]
  },
  {
   "cell_type": "markdown",
   "id": "ef859ee7-1acd-4a53-b9bf-3f68e87500c1",
   "metadata": {},
   "source": [
    "# DCs"
   ]
  },
  {
   "cell_type": "markdown",
   "id": "9b515209-af26-406d-8fad-9547b0719b6f",
   "metadata": {},
   "source": [
    "## Review ASDC"
   ]
  },
  {
   "cell_type": "code",
   "execution_count": 22,
   "id": "27298f8e-455a-44bf-85e4-16842b0a0ede",
   "metadata": {},
   "outputs": [
    {
     "ename": "IndexError",
     "evalue": "list index out of range",
     "output_type": "error",
     "traceback": [
      "\u001b[0;31m---------------------------------------------------------------------------\u001b[0m",
      "\u001b[0;31mIndexError\u001b[0m                                Traceback (most recent call last)",
      "Cell \u001b[0;32mIn[22], line 2\u001b[0m\n\u001b[1;32m      1\u001b[0m cell_type \u001b[38;5;241m=\u001b[39m \u001b[38;5;124m'\u001b[39m\u001b[38;5;124mASDC\u001b[39m\u001b[38;5;124m'\u001b[39m\n\u001b[0;32m----> 2\u001b[0m type_uuid \u001b[38;5;241m=\u001b[39m \u001b[43msearch_df\u001b[49m\u001b[43m[\u001b[49m\u001b[38;5;124;43m'\u001b[39;49m\u001b[38;5;124;43mid\u001b[39;49m\u001b[38;5;124;43m'\u001b[39;49m\u001b[43m]\u001b[49m\u001b[38;5;241;43m.\u001b[39;49m\u001b[43mloc\u001b[49m\u001b[43m[\u001b[49m\u001b[43msearch_df\u001b[49m\u001b[43m[\u001b[49m\u001b[38;5;124;43m'\u001b[39;49m\u001b[38;5;124;43mAIFI_L3\u001b[39;49m\u001b[38;5;124;43m'\u001b[39;49m\u001b[43m]\u001b[49m\u001b[43m \u001b[49m\u001b[38;5;241;43m==\u001b[39;49m\u001b[43m \u001b[49m\u001b[43mcell_type\u001b[49m\u001b[43m]\u001b[49m\u001b[38;5;241;43m.\u001b[39;49m\u001b[43mtolist\u001b[49m\u001b[43m(\u001b[49m\u001b[43m)\u001b[49m\u001b[43m[\u001b[49m\u001b[38;5;241;43m0\u001b[39;49m\u001b[43m]\u001b[49m\n",
      "\u001b[0;31mIndexError\u001b[0m: list index out of range"
     ]
    }
   ],
   "source": [
    "cell_type = 'ASDC'\n",
    "type_uuid = search_df['id'].loc[search_df['AIFI_L3'] == cell_type].tolist()[0]"
   ]
  },
  {
   "cell_type": "code",
   "execution_count": null,
   "id": "66ca66cb-3fd2-49e0-b659-7be30a3a6b7e",
   "metadata": {},
   "outputs": [],
   "source": [
    "type_uuid"
   ]
  },
  {
   "cell_type": "code",
   "execution_count": null,
   "id": "4c3767c4-c30c-4f3e-aeee-d082873fe4ad",
   "metadata": {},
   "outputs": [],
   "source": [
    "adata = read_adata_uuid(type_uuid)"
   ]
  },
  {
   "cell_type": "markdown",
   "id": "db992c50-3045-4dbb-bae6-1d5d22452d63",
   "metadata": {},
   "source": [
    "### Clustering"
   ]
  },
  {
   "cell_type": "code",
   "execution_count": null,
   "id": "213513d5-4806-49d9-b294-f4ec3b226678",
   "metadata": {},
   "outputs": [],
   "source": [
    "sc.pl.umap(adata, color = 'leiden_2', legend_loc = 'on data')"
   ]
  },
  {
   "cell_type": "markdown",
   "id": "3db9a880-b04d-4986-bf50-4b0c9bb5246e",
   "metadata": {},
   "source": [
    "### Marker expression"
   ]
  },
  {
   "cell_type": "code",
   "execution_count": null,
   "id": "d067915e-6dae-4209-bc5b-1707fe612bf2",
   "metadata": {},
   "outputs": [],
   "source": [
    "sc.pl.dotplot(adata, groupby = 'leiden_2', var_names = broad_markers, swap_axes = True)"
   ]
  },
  {
   "cell_type": "code",
   "execution_count": null,
   "id": "01383c69-b07f-4e15-a25c-dfcefeecfb5d",
   "metadata": {},
   "outputs": [],
   "source": [
    "sc.pl.dotplot(adata, groupby = 'leiden_2', var_names = class_markers, swap_axes = True)"
   ]
  },
  {
   "cell_type": "markdown",
   "id": "772d26b0-8547-4f9b-863f-a55d3394dc02",
   "metadata": {},
   "source": [
    "### Cluster counts"
   ]
  },
  {
   "cell_type": "code",
   "execution_count": null,
   "id": "4d622a6d-0c25-471a-a71c-fcf4247cd625",
   "metadata": {},
   "outputs": [],
   "source": [
    "adata.obs['leiden_2'].value_counts()"
   ]
  },
  {
   "cell_type": "markdown",
   "id": "20b5dc96-a108-42a2-ba1e-9fcb2f430a70",
   "metadata": {},
   "source": [
    "### Comparison to original labels"
   ]
  },
  {
   "cell_type": "code",
   "execution_count": null,
   "id": "b3bcaced-8023-414e-a114-c43e2c704350",
   "metadata": {},
   "outputs": [],
   "source": [
    "adata = add_labels(adata, original_df)"
   ]
  },
  {
   "cell_type": "code",
   "execution_count": null,
   "id": "145cb65d-36ca-4d46-a347-d86719a3f542",
   "metadata": {},
   "outputs": [],
   "source": [
    "sc.pl.umap(adata, color = 'original_L3')"
   ]
  },
  {
   "cell_type": "code",
   "execution_count": null,
   "id": "82d4ae0a-5a9e-4a5a-987a-2baba943e705",
   "metadata": {},
   "outputs": [],
   "source": [
    "adata.obs['original_L3'].value_counts(dropna = False)"
   ]
  },
  {
   "cell_type": "code",
   "execution_count": null,
   "id": "b59a15a0-1fd5-404e-99ec-5f5e3fe9005e",
   "metadata": {},
   "outputs": [],
   "source": [
    "adata.obs['original_L3'].value_counts(dropna = False) / adata.obs.shape[0]"
   ]
  },
  {
   "cell_type": "markdown",
   "id": "da758e26-f75f-4af5-a0a1-38c0a0fe1300",
   "metadata": {},
   "source": [
    "## Review cDC1"
   ]
  },
  {
   "cell_type": "code",
   "execution_count": null,
   "id": "1f705626-9bfa-4f3e-b6b9-500f1dd5e92f",
   "metadata": {},
   "outputs": [],
   "source": [
    "cell_type = 'cDC1'\n",
    "type_uuid = search_df['id'].loc[search_df['AIFI_L3'] == cell_type].tolist()[0]"
   ]
  },
  {
   "cell_type": "code",
   "execution_count": null,
   "id": "9d2980e4-70be-4b3b-ba4b-1cf2dc9c96aa",
   "metadata": {},
   "outputs": [],
   "source": [
    "type_uuid"
   ]
  },
  {
   "cell_type": "code",
   "execution_count": null,
   "id": "0949236f-d09f-418b-9768-71f5a4a3adf9",
   "metadata": {},
   "outputs": [],
   "source": [
    "adata = read_adata_uuid(type_uuid)"
   ]
  },
  {
   "cell_type": "markdown",
   "id": "121de45b-f6b0-4127-b984-e8532525ace8",
   "metadata": {},
   "source": [
    "### Clustering"
   ]
  },
  {
   "cell_type": "code",
   "execution_count": null,
   "id": "7e042848-71cb-4ea7-9e0d-09437a39b18f",
   "metadata": {},
   "outputs": [],
   "source": [
    "sc.pl.umap(adata, color = 'leiden_2', legend_loc = 'on data')"
   ]
  },
  {
   "cell_type": "markdown",
   "id": "24b0b6d6-6cb3-4bb6-8555-c5de3f30439a",
   "metadata": {},
   "source": [
    "### Marker expression"
   ]
  },
  {
   "cell_type": "code",
   "execution_count": null,
   "id": "e79378a1-0d1b-481c-91c6-256a5dd5be01",
   "metadata": {},
   "outputs": [],
   "source": [
    "sc.pl.dotplot(adata, groupby = 'leiden_2', var_names = broad_markers, swap_axes = True)"
   ]
  },
  {
   "cell_type": "code",
   "execution_count": null,
   "id": "6028c2d2-3482-43d6-8487-3b5b3b5eadf6",
   "metadata": {},
   "outputs": [],
   "source": [
    "sc.pl.dotplot(adata, groupby = 'leiden_2', var_names = class_markers, swap_axes = True)"
   ]
  },
  {
   "cell_type": "markdown",
   "id": "4c5ecdf8-be53-43c0-83a8-4efb6bca2838",
   "metadata": {},
   "source": [
    "### Cluster counts"
   ]
  },
  {
   "cell_type": "code",
   "execution_count": null,
   "id": "a598c618-bdf7-4850-9115-1d4a7a53d2bf",
   "metadata": {},
   "outputs": [],
   "source": [
    "adata.obs['leiden_2'].value_counts()"
   ]
  },
  {
   "cell_type": "markdown",
   "id": "690315a2-7ac3-4718-9b20-fd1fbfa69b2d",
   "metadata": {},
   "source": [
    "### Comparison to original labels"
   ]
  },
  {
   "cell_type": "code",
   "execution_count": null,
   "id": "f60b8126-5033-4425-b16d-3bf4771fdeb9",
   "metadata": {},
   "outputs": [],
   "source": [
    "adata = add_labels(adata, original_df)"
   ]
  },
  {
   "cell_type": "code",
   "execution_count": null,
   "id": "0c1c9da7-b0e5-4efe-bc3e-df45cf82c418",
   "metadata": {},
   "outputs": [],
   "source": [
    "sc.pl.umap(adata, color = 'original_L3')"
   ]
  },
  {
   "cell_type": "code",
   "execution_count": null,
   "id": "f279d5cb-872e-4fb7-b204-9e0caa4c4f7d",
   "metadata": {},
   "outputs": [],
   "source": [
    "adata.obs['original_L3'].value_counts(dropna = False)"
   ]
  },
  {
   "cell_type": "code",
   "execution_count": null,
   "id": "1e8d7d4d-a667-4563-b0dd-8624488ba787",
   "metadata": {},
   "outputs": [],
   "source": [
    "adata.obs['original_L3'].value_counts(dropna = False) / adata.obs.shape[0]"
   ]
  },
  {
   "cell_type": "markdown",
   "id": "1c3fc04d-1090-4d33-9652-f458ae4c577a",
   "metadata": {},
   "source": [
    "## Review CD14+ cDC2"
   ]
  },
  {
   "cell_type": "code",
   "execution_count": null,
   "id": "ffa42526-af86-441e-ac60-a29608fe1ca3",
   "metadata": {},
   "outputs": [],
   "source": [
    "cell_type = 'CD14+ cDC2'\n",
    "type_uuid = search_df['id'].loc[search_df['AIFI_L3'] == cell_type].tolist()[0]"
   ]
  },
  {
   "cell_type": "code",
   "execution_count": null,
   "id": "f79e418b-c1ef-4768-84b5-de20a7b5f311",
   "metadata": {},
   "outputs": [],
   "source": [
    "type_uuid"
   ]
  },
  {
   "cell_type": "code",
   "execution_count": null,
   "id": "9ac4074d-67cc-4d90-a5b4-f3233ac17faa",
   "metadata": {},
   "outputs": [],
   "source": [
    "adata = read_adata_uuid(type_uuid)"
   ]
  },
  {
   "cell_type": "markdown",
   "id": "e7dc1603-016c-44b0-a328-14bb3bfe6d59",
   "metadata": {},
   "source": [
    "### Clustering"
   ]
  },
  {
   "cell_type": "code",
   "execution_count": null,
   "id": "8eecb651-a64d-4bcf-b910-7e781fb83af1",
   "metadata": {},
   "outputs": [],
   "source": [
    "sc.pl.umap(adata, color = 'leiden_2', legend_loc = 'on data')"
   ]
  },
  {
   "cell_type": "markdown",
   "id": "2cb095e4-68fb-4004-986f-1a3ebe17f5a9",
   "metadata": {},
   "source": [
    "### Marker expression"
   ]
  },
  {
   "cell_type": "code",
   "execution_count": null,
   "id": "e3288ff5-b887-4c3f-80e6-7532bc9e51f4",
   "metadata": {},
   "outputs": [],
   "source": [
    "sc.pl.dotplot(adata, groupby = 'leiden_2', var_names = broad_markers, swap_axes = True)"
   ]
  },
  {
   "cell_type": "code",
   "execution_count": null,
   "id": "c0e4d004-256e-4917-b4a0-52ee647c3e2e",
   "metadata": {},
   "outputs": [],
   "source": [
    "sc.pl.dotplot(adata, groupby = 'leiden_2', var_names = class_markers, swap_axes = True)"
   ]
  },
  {
   "cell_type": "markdown",
   "id": "08d54475-ef7a-4c5b-a648-0479cd6e2706",
   "metadata": {},
   "source": [
    "### Cluster counts"
   ]
  },
  {
   "cell_type": "code",
   "execution_count": null,
   "id": "fd6b0a17-1627-4fdd-baba-6ec27d66a577",
   "metadata": {},
   "outputs": [],
   "source": [
    "adata.obs['leiden_2'].value_counts()"
   ]
  },
  {
   "cell_type": "markdown",
   "id": "90e02a5b-4d70-42fb-876f-23d1e79b0615",
   "metadata": {},
   "source": [
    "### Comparison to original labels"
   ]
  },
  {
   "cell_type": "code",
   "execution_count": null,
   "id": "35ef17c8-9f50-42bb-b299-3a1c4b0fadcb",
   "metadata": {},
   "outputs": [],
   "source": [
    "adata = add_labels(adata, original_df)"
   ]
  },
  {
   "cell_type": "code",
   "execution_count": null,
   "id": "97e2eb43-a6fc-4f0c-9fb8-0f9181920fd2",
   "metadata": {},
   "outputs": [],
   "source": [
    "sc.pl.umap(adata, color = 'original_L3')"
   ]
  },
  {
   "cell_type": "code",
   "execution_count": null,
   "id": "f2d2a9c1-7c8c-4d0a-a6ca-ad8de42b9632",
   "metadata": {},
   "outputs": [],
   "source": [
    "adata.obs['original_L3'].value_counts(dropna = False)"
   ]
  },
  {
   "cell_type": "code",
   "execution_count": null,
   "id": "0217dd5d-7668-4ff8-9ed4-568ce679cc30",
   "metadata": {},
   "outputs": [],
   "source": [
    "adata.obs['original_L3'].value_counts(dropna = False) / adata.obs.shape[0]"
   ]
  },
  {
   "cell_type": "markdown",
   "id": "eeacbd1d-36b1-4d34-9eb7-91fe267f6f61",
   "metadata": {},
   "source": [
    "## Review HLA-DRhi cDC2"
   ]
  },
  {
   "cell_type": "code",
   "execution_count": null,
   "id": "a8303619-065a-4b84-b210-2dff2dba88f0",
   "metadata": {},
   "outputs": [],
   "source": [
    "cell_type = 'HLA-DRhi cDC2'\n",
    "type_uuid = search_df['id'].loc[search_df['AIFI_L3'] == cell_type].tolist()[0]"
   ]
  },
  {
   "cell_type": "code",
   "execution_count": null,
   "id": "8509e516-c2a1-4748-af54-8f5f2c1b055f",
   "metadata": {},
   "outputs": [],
   "source": [
    "type_uuid"
   ]
  },
  {
   "cell_type": "code",
   "execution_count": null,
   "id": "08962966-7abe-421b-af33-d59405c77d7f",
   "metadata": {},
   "outputs": [],
   "source": [
    "adata = read_adata_uuid(type_uuid)"
   ]
  },
  {
   "cell_type": "markdown",
   "id": "3c58ba36-8492-4133-8de7-c1baa5ce206f",
   "metadata": {},
   "source": [
    "### Clustering"
   ]
  },
  {
   "cell_type": "code",
   "execution_count": null,
   "id": "cac368b1-c4ee-48cf-8099-180fff6a4620",
   "metadata": {},
   "outputs": [],
   "source": [
    "sc.pl.umap(adata, color = 'leiden_2', legend_loc = 'on data')"
   ]
  },
  {
   "cell_type": "markdown",
   "id": "655be72d-93fd-4add-a5b1-0e9fb4c93a81",
   "metadata": {},
   "source": [
    "### Marker expression"
   ]
  },
  {
   "cell_type": "code",
   "execution_count": null,
   "id": "3aa56f3c-db30-4991-b8e6-c9e57bf7cc84",
   "metadata": {},
   "outputs": [],
   "source": [
    "sc.pl.dotplot(adata, groupby = 'leiden_2', var_names = broad_markers, swap_axes = True)"
   ]
  },
  {
   "cell_type": "code",
   "execution_count": null,
   "id": "22a0f41a-3dda-46fb-9c74-10afadd35f03",
   "metadata": {},
   "outputs": [],
   "source": [
    "sc.pl.dotplot(adata, groupby = 'leiden_2', var_names = class_markers, swap_axes = True)"
   ]
  },
  {
   "cell_type": "markdown",
   "id": "cc714740-7797-4c9b-be43-e16a1e664439",
   "metadata": {},
   "source": [
    "### Cluster counts"
   ]
  },
  {
   "cell_type": "code",
   "execution_count": null,
   "id": "c5ab7610-0538-478e-a208-865113110b60",
   "metadata": {},
   "outputs": [],
   "source": [
    "adata.obs['leiden_2'].value_counts()"
   ]
  },
  {
   "cell_type": "markdown",
   "id": "61e5c46c-95ee-45fd-89c3-5c5a229bab88",
   "metadata": {},
   "source": [
    "### Comparison to original labels"
   ]
  },
  {
   "cell_type": "code",
   "execution_count": null,
   "id": "d7106e6a-833e-47b6-b6af-729256c03ed8",
   "metadata": {},
   "outputs": [],
   "source": [
    "adata = add_labels(adata, original_df)"
   ]
  },
  {
   "cell_type": "code",
   "execution_count": null,
   "id": "c940a22d-282e-43d6-8fe7-56d605d16798",
   "metadata": {},
   "outputs": [],
   "source": [
    "sc.pl.umap(adata, color = 'original_L3')"
   ]
  },
  {
   "cell_type": "code",
   "execution_count": null,
   "id": "a754fdbf-2cda-408b-b325-092ea75bd21f",
   "metadata": {},
   "outputs": [],
   "source": [
    "adata.obs['original_L3'].value_counts(dropna = False)"
   ]
  },
  {
   "cell_type": "code",
   "execution_count": null,
   "id": "cbb232f7-5ee7-435c-bcc3-6d26f4ea2979",
   "metadata": {},
   "outputs": [],
   "source": [
    "adata.obs['original_L3'].value_counts(dropna = False) / adata.obs.shape[0]"
   ]
  },
  {
   "cell_type": "markdown",
   "id": "6b957c18-e0e7-46f3-b610-31727d1ee190",
   "metadata": {},
   "source": [
    "## Review ISG+ cDC2"
   ]
  },
  {
   "cell_type": "code",
   "execution_count": null,
   "id": "a80a1568-df01-4b62-860a-b732a64ed230",
   "metadata": {},
   "outputs": [],
   "source": [
    "cell_type = 'ISG+ cDC2'\n",
    "type_uuid = search_df['id'].loc[search_df['AIFI_L3'] == cell_type].tolist()[0]"
   ]
  },
  {
   "cell_type": "code",
   "execution_count": null,
   "id": "23840db5-fc94-404f-accf-acbf092af70e",
   "metadata": {},
   "outputs": [],
   "source": [
    "type_uuid"
   ]
  },
  {
   "cell_type": "code",
   "execution_count": null,
   "id": "a694165c-b1e7-4c3b-8829-058e204a3b42",
   "metadata": {},
   "outputs": [],
   "source": [
    "adata = read_adata_uuid(type_uuid)"
   ]
  },
  {
   "cell_type": "markdown",
   "id": "e02c6a61-2a57-434a-9496-e42992cfcc96",
   "metadata": {},
   "source": [
    "### Clustering"
   ]
  },
  {
   "cell_type": "code",
   "execution_count": null,
   "id": "3f3471a2-c2e9-45a5-8cae-5103a98e53f2",
   "metadata": {},
   "outputs": [],
   "source": [
    "sc.pl.umap(adata, color = 'leiden_2', legend_loc = 'on data')"
   ]
  },
  {
   "cell_type": "markdown",
   "id": "cf245e25-a5c9-42df-8a02-746a4b50c596",
   "metadata": {},
   "source": [
    "### Marker expression"
   ]
  },
  {
   "cell_type": "code",
   "execution_count": null,
   "id": "56725212-f0a8-4398-a725-8e092904ed20",
   "metadata": {},
   "outputs": [],
   "source": [
    "sc.pl.dotplot(adata, groupby = 'leiden_2', var_names = broad_markers, swap_axes = True)"
   ]
  },
  {
   "cell_type": "code",
   "execution_count": null,
   "id": "a5b79993-d59f-48e5-92dc-ec1786386b13",
   "metadata": {},
   "outputs": [],
   "source": [
    "sc.pl.dotplot(adata, groupby = 'leiden_2', var_names = class_markers, swap_axes = True)"
   ]
  },
  {
   "cell_type": "markdown",
   "id": "e36e58de-8eb7-4cdd-a9ab-6be917a59885",
   "metadata": {},
   "source": [
    "### Cluster counts"
   ]
  },
  {
   "cell_type": "code",
   "execution_count": null,
   "id": "3d6d5ba1-27ff-4519-86d7-fab36ed4ad77",
   "metadata": {},
   "outputs": [],
   "source": [
    "adata.obs['leiden_2'].value_counts()"
   ]
  },
  {
   "cell_type": "markdown",
   "id": "b0f0659f-a7e0-4672-bb2e-90cacf239b6e",
   "metadata": {},
   "source": [
    "### Comparison to original labels"
   ]
  },
  {
   "cell_type": "code",
   "execution_count": null,
   "id": "727f7b79-2587-4bb5-8744-2d1353d85ff2",
   "metadata": {},
   "outputs": [],
   "source": [
    "adata = add_labels(adata, original_df)"
   ]
  },
  {
   "cell_type": "code",
   "execution_count": null,
   "id": "14c6ece9-8a78-431c-a6a2-892738593234",
   "metadata": {},
   "outputs": [],
   "source": [
    "sc.pl.umap(adata, color = 'original_L3')"
   ]
  },
  {
   "cell_type": "code",
   "execution_count": null,
   "id": "4928b78d-6ca6-45f3-9360-4f19105a0c02",
   "metadata": {},
   "outputs": [],
   "source": [
    "adata.obs['original_L3'].value_counts(dropna = False)"
   ]
  },
  {
   "cell_type": "code",
   "execution_count": null,
   "id": "8b7cd76e-91aa-4b04-bb23-3947e93d865a",
   "metadata": {},
   "outputs": [],
   "source": [
    "adata.obs['original_L3'].value_counts(dropna = False) / adata.obs.shape[0]"
   ]
  },
  {
   "cell_type": "markdown",
   "id": "8cec1062-bbb3-4e1f-b8ed-010bb0468d44",
   "metadata": {},
   "source": [
    "## Review pDC"
   ]
  },
  {
   "cell_type": "code",
   "execution_count": null,
   "id": "83405d99-2d17-4f37-830a-573c8ed3505e",
   "metadata": {},
   "outputs": [],
   "source": [
    "cell_type = 'pDC'\n",
    "type_uuid = search_df['id'].loc[search_df['AIFI_L3'] == cell_type].tolist()[0]"
   ]
  },
  {
   "cell_type": "code",
   "execution_count": null,
   "id": "4fd79da1-e04b-4f80-9a39-cadb0f79c005",
   "metadata": {},
   "outputs": [],
   "source": [
    "type_uuid"
   ]
  },
  {
   "cell_type": "code",
   "execution_count": null,
   "id": "11247093-ab57-4938-9677-0b3cf7442859",
   "metadata": {},
   "outputs": [],
   "source": [
    "adata = read_adata_uuid(type_uuid)"
   ]
  },
  {
   "cell_type": "markdown",
   "id": "b8cd5a01-1e1c-40d0-9e6e-249ccd178a8d",
   "metadata": {},
   "source": [
    "### Clustering"
   ]
  },
  {
   "cell_type": "code",
   "execution_count": null,
   "id": "80d70771-e1c6-4686-8db8-3e5a3234d1e3",
   "metadata": {},
   "outputs": [],
   "source": [
    "sc.pl.umap(adata, color = 'leiden_2', legend_loc = 'on data')"
   ]
  },
  {
   "cell_type": "markdown",
   "id": "a5239518-c823-4677-9fe6-bb7a1524ece1",
   "metadata": {},
   "source": [
    "### Marker expression"
   ]
  },
  {
   "cell_type": "code",
   "execution_count": null,
   "id": "795faf8a-2df2-40a0-b644-be9cd9f68769",
   "metadata": {},
   "outputs": [],
   "source": [
    "sc.pl.dotplot(adata, groupby = 'leiden_2', var_names = broad_markers, swap_axes = True)"
   ]
  },
  {
   "cell_type": "code",
   "execution_count": null,
   "id": "2890d1cf-6154-4995-9b6a-1476df886087",
   "metadata": {},
   "outputs": [],
   "source": [
    "sc.pl.dotplot(adata, groupby = 'leiden_2', var_names = class_markers, swap_axes = True)"
   ]
  },
  {
   "cell_type": "markdown",
   "id": "25176bf5-4674-4381-863e-13769e321a78",
   "metadata": {},
   "source": [
    "### Comparison to original labels"
   ]
  },
  {
   "cell_type": "code",
   "execution_count": null,
   "id": "dee92085-a006-4b4f-bc87-7cdea40861c4",
   "metadata": {},
   "outputs": [],
   "source": [
    "adata = add_labels(adata, original_df)"
   ]
  },
  {
   "cell_type": "code",
   "execution_count": null,
   "id": "2169bbf1-ff2d-41b4-a4b1-be1ca3199947",
   "metadata": {},
   "outputs": [],
   "source": [
    "sc.pl.umap(adata, color = 'original_L3')"
   ]
  },
  {
   "cell_type": "code",
   "execution_count": null,
   "id": "234a36da-7956-4bfc-9452-a71f17ffaa19",
   "metadata": {},
   "outputs": [],
   "source": [
    "adata.obs['original_L3'].value_counts(dropna = False)"
   ]
  },
  {
   "cell_type": "code",
   "execution_count": null,
   "id": "b12e52d0-1d1e-45df-9193-ad57819571f1",
   "metadata": {},
   "outputs": [],
   "source": [
    "adata.obs['original_L3'].value_counts(dropna = False) / adata.obs.shape[0]"
   ]
  },
  {
   "cell_type": "markdown",
   "id": "15da28c6-9525-48a4-80a1-7e967c957ba7",
   "metadata": {},
   "source": [
    "# Monocytes"
   ]
  },
  {
   "cell_type": "markdown",
   "id": "3c1122b7-45d1-4668-8bf4-45098a799953",
   "metadata": {},
   "source": [
    "## Review Core CD14 monocyte"
   ]
  },
  {
   "cell_type": "code",
   "execution_count": null,
   "id": "ffb7ac05-1c0d-4f7a-a30f-5cea57c3bc90",
   "metadata": {},
   "outputs": [],
   "source": [
    "cell_type = 'Core CD14 monocyte'\n",
    "type_uuid = search_df['id'].loc[search_df['AIFI_L3'] == cell_type].tolist()[0]"
   ]
  },
  {
   "cell_type": "code",
   "execution_count": null,
   "id": "ac50f0b5-5a33-4645-bcc8-032ff242d9ea",
   "metadata": {},
   "outputs": [],
   "source": [
    "type_uuid"
   ]
  },
  {
   "cell_type": "code",
   "execution_count": null,
   "id": "d1bb6a0e-5ba8-4152-8f43-365f16e493c1",
   "metadata": {},
   "outputs": [],
   "source": [
    "adata = read_adata_uuid(type_uuid)"
   ]
  },
  {
   "cell_type": "markdown",
   "id": "667b08f8-201d-4459-bac2-13d66fb38414",
   "metadata": {},
   "source": [
    "### Clustering"
   ]
  },
  {
   "cell_type": "code",
   "execution_count": null,
   "id": "2eca1635-64ab-4ff0-93be-cc4a56a35a0f",
   "metadata": {},
   "outputs": [],
   "source": [
    "sc.pl.umap(adata, color = 'leiden_2', legend_loc = 'on data')"
   ]
  },
  {
   "cell_type": "markdown",
   "id": "b849dc65-8907-477d-bcf2-d8eda11c2264",
   "metadata": {},
   "source": [
    "### Marker expression"
   ]
  },
  {
   "cell_type": "code",
   "execution_count": null,
   "id": "fb6b1033-3888-49dd-b424-2189f2a8d5b0",
   "metadata": {},
   "outputs": [],
   "source": [
    "sc.pl.dotplot(adata, groupby = 'leiden_2', var_names = broad_markers, swap_axes = True)"
   ]
  },
  {
   "cell_type": "code",
   "execution_count": null,
   "id": "ef645eb0-d3c2-47f6-b169-da4d1a72bf8f",
   "metadata": {},
   "outputs": [],
   "source": [
    "sc.pl.dotplot(adata, groupby = 'leiden_2', var_names = class_markers, swap_axes = True)"
   ]
  },
  {
   "cell_type": "markdown",
   "id": "016f6aab-e22c-4e22-8c01-9fd65613e5a6",
   "metadata": {},
   "source": [
    "### Comparison to original labels"
   ]
  },
  {
   "cell_type": "code",
   "execution_count": null,
   "id": "2bb73dee-f3b4-42a6-ad11-d1aa73803c31",
   "metadata": {},
   "outputs": [],
   "source": [
    "adata = add_labels(adata, original_df)"
   ]
  },
  {
   "cell_type": "code",
   "execution_count": null,
   "id": "4dae3108-eea8-4e5e-8f32-7cbdbcf07c7c",
   "metadata": {},
   "outputs": [],
   "source": [
    "sc.pl.umap(adata, color = 'original_L3')"
   ]
  },
  {
   "cell_type": "code",
   "execution_count": null,
   "id": "3d1aaada-ab56-4407-97fb-f7133ecd8645",
   "metadata": {},
   "outputs": [],
   "source": [
    "adata.obs['original_L3'].value_counts(dropna = False)"
   ]
  },
  {
   "cell_type": "code",
   "execution_count": null,
   "id": "87cf265a-464c-489f-8dc0-c7371f69e71c",
   "metadata": {},
   "outputs": [],
   "source": [
    "adata.obs['original_L3'].value_counts(dropna = False) / adata.obs.shape[0]"
   ]
  },
  {
   "cell_type": "markdown",
   "id": "839e1eac-7287-4070-a30f-2f7c0ffd1b57",
   "metadata": {},
   "source": [
    "## Review ISG+ CD14 monocyte"
   ]
  },
  {
   "cell_type": "code",
   "execution_count": null,
   "id": "7fb7d2b8-3f60-4b4c-b16e-5b44e9fed3c0",
   "metadata": {},
   "outputs": [],
   "source": [
    "cell_type = 'ISG+ CD14 monocyte'\n",
    "type_uuid = search_df['id'].loc[search_df['AIFI_L3'] == cell_type].tolist()[0]"
   ]
  },
  {
   "cell_type": "code",
   "execution_count": null,
   "id": "aaff44c1-a588-4e4b-99a4-d8143a730344",
   "metadata": {},
   "outputs": [],
   "source": [
    "type_uuid"
   ]
  },
  {
   "cell_type": "code",
   "execution_count": null,
   "id": "6f357a2e-676f-40f3-afc7-a641e276adf4",
   "metadata": {},
   "outputs": [],
   "source": [
    "adata = read_adata_uuid(type_uuid)"
   ]
  },
  {
   "cell_type": "markdown",
   "id": "0dcdbac0-17e5-45c1-ad3a-dcf7c7ed0b8b",
   "metadata": {},
   "source": [
    "### Clustering"
   ]
  },
  {
   "cell_type": "code",
   "execution_count": null,
   "id": "9babc7bc-1399-40a0-8b33-7bf3442ee942",
   "metadata": {},
   "outputs": [],
   "source": [
    "sc.pl.umap(adata, color = 'leiden_2', legend_loc = 'on data')"
   ]
  },
  {
   "cell_type": "markdown",
   "id": "b8836f1a-9d46-47c9-9f60-1d65218e71ef",
   "metadata": {},
   "source": [
    "### Marker expression"
   ]
  },
  {
   "cell_type": "code",
   "execution_count": null,
   "id": "5b5a746b-39b2-4646-b711-7e9ac987af72",
   "metadata": {},
   "outputs": [],
   "source": [
    "sc.pl.dotplot(adata, groupby = 'leiden_2', var_names = broad_markers, swap_axes = True)"
   ]
  },
  {
   "cell_type": "code",
   "execution_count": null,
   "id": "d0a76599-5fe3-40be-9535-0d680eb27b43",
   "metadata": {},
   "outputs": [],
   "source": [
    "sc.pl.dotplot(adata, groupby = 'leiden_2', var_names = class_markers, swap_axes = True)"
   ]
  },
  {
   "cell_type": "markdown",
   "id": "163bcdf5-350c-493d-b174-7cc2f671b73b",
   "metadata": {},
   "source": [
    "### Comparison to original labels"
   ]
  },
  {
   "cell_type": "code",
   "execution_count": null,
   "id": "8fff828f-aa91-494d-9954-b70632c514c0",
   "metadata": {},
   "outputs": [],
   "source": [
    "adata = add_labels(adata, original_df)"
   ]
  },
  {
   "cell_type": "code",
   "execution_count": null,
   "id": "1e4593cb-6fb1-4d43-b2f2-cbac69626919",
   "metadata": {},
   "outputs": [],
   "source": [
    "sc.pl.umap(adata, color = 'original_L3')"
   ]
  },
  {
   "cell_type": "code",
   "execution_count": null,
   "id": "b2673ccb-42a2-4d37-bd96-7084c9e601fe",
   "metadata": {},
   "outputs": [],
   "source": [
    "adata.obs['original_L3'].value_counts(dropna = False)"
   ]
  },
  {
   "cell_type": "code",
   "execution_count": null,
   "id": "6d9f520d-37e1-468c-be8e-a9ccca89cc4f",
   "metadata": {},
   "outputs": [],
   "source": [
    "adata.obs['original_L3'].value_counts(dropna = False) / adata.obs.shape[0]"
   ]
  },
  {
   "cell_type": "markdown",
   "id": "597c7c3b-e870-4635-8cb8-ce370c1ae2fd",
   "metadata": {},
   "source": [
    "## Review IL1B+ CD14 monocyte"
   ]
  },
  {
   "cell_type": "code",
   "execution_count": null,
   "id": "a5eb727f-0ead-494b-a311-473f2bed3b25",
   "metadata": {},
   "outputs": [],
   "source": [
    "cell_type = 'IL1B+ CD14 monocyte'\n",
    "type_uuid = search_df['id'].loc[search_df['AIFI_L3'] == cell_type].tolist()[0]"
   ]
  },
  {
   "cell_type": "code",
   "execution_count": null,
   "id": "df89a83f-8c8c-4946-909e-ffa5faf11de1",
   "metadata": {},
   "outputs": [],
   "source": [
    "type_uuid"
   ]
  },
  {
   "cell_type": "code",
   "execution_count": null,
   "id": "04f3332e-4d14-474b-ae0b-4d201ad3f09e",
   "metadata": {},
   "outputs": [],
   "source": [
    "adata = read_adata_uuid(type_uuid)"
   ]
  },
  {
   "cell_type": "markdown",
   "id": "331adc63-fbf4-4cc8-b0b6-9ac40752a690",
   "metadata": {},
   "source": [
    "### Clustering"
   ]
  },
  {
   "cell_type": "code",
   "execution_count": null,
   "id": "eafee1d9-2c0a-4321-84fd-270da12ae6f8",
   "metadata": {},
   "outputs": [],
   "source": [
    "sc.pl.umap(adata, color = 'leiden_2', legend_loc = 'on data')"
   ]
  },
  {
   "cell_type": "markdown",
   "id": "2229655d-09f7-4dd9-b138-78ab7d34bde4",
   "metadata": {},
   "source": [
    "### Marker expression"
   ]
  },
  {
   "cell_type": "code",
   "execution_count": null,
   "id": "4cb03312-a14e-4460-b44c-23a9ca590484",
   "metadata": {},
   "outputs": [],
   "source": [
    "sc.pl.dotplot(adata, groupby = 'leiden_2', var_names = broad_markers, swap_axes = True)"
   ]
  },
  {
   "cell_type": "code",
   "execution_count": null,
   "id": "5194afb5-690c-4c3c-a79b-e3426f168ea6",
   "metadata": {},
   "outputs": [],
   "source": [
    "sc.pl.dotplot(adata, groupby = 'leiden_2', var_names = class_markers, swap_axes = True)"
   ]
  },
  {
   "cell_type": "markdown",
   "id": "e9fac0f1-2872-4632-915c-33ce6218fd36",
   "metadata": {},
   "source": [
    "### Comparison to original labels"
   ]
  },
  {
   "cell_type": "code",
   "execution_count": null,
   "id": "35820994-a2d7-4ec2-81e2-7a0d5316a7ca",
   "metadata": {},
   "outputs": [],
   "source": [
    "adata = add_labels(adata, original_df)"
   ]
  },
  {
   "cell_type": "code",
   "execution_count": null,
   "id": "bcd57039-0528-437c-8507-439c35bf707d",
   "metadata": {},
   "outputs": [],
   "source": [
    "sc.pl.umap(adata, color = 'original_L3')"
   ]
  },
  {
   "cell_type": "code",
   "execution_count": null,
   "id": "507ec2bb-c6d5-486b-bd44-bec1bb184e13",
   "metadata": {},
   "outputs": [],
   "source": [
    "adata.obs['original_L3'].value_counts(dropna = False)"
   ]
  },
  {
   "cell_type": "code",
   "execution_count": null,
   "id": "aff480c8-01f7-41f0-b45c-65f56ab5e466",
   "metadata": {},
   "outputs": [],
   "source": [
    "adata.obs['original_L3'].value_counts(dropna = False) / adata.obs.shape[0]"
   ]
  },
  {
   "cell_type": "markdown",
   "id": "37ab932b-9727-43a7-94e0-0794df488332",
   "metadata": {},
   "source": [
    "## Review Intermediate monocyte"
   ]
  },
  {
   "cell_type": "code",
   "execution_count": null,
   "id": "65343513-2247-486c-9e7a-ae70f1a30cec",
   "metadata": {},
   "outputs": [],
   "source": [
    "cell_type = 'Intermediate monocyte'\n",
    "type_uuid = search_df['id'].loc[search_df['AIFI_L3'] == cell_type].tolist()[0]"
   ]
  },
  {
   "cell_type": "code",
   "execution_count": null,
   "id": "4d0867ba-faaf-4ee9-8958-a0357eabdd86",
   "metadata": {},
   "outputs": [],
   "source": [
    "type_uuid"
   ]
  },
  {
   "cell_type": "code",
   "execution_count": null,
   "id": "c4212103-3f9c-44b9-95c6-313c7ac878aa",
   "metadata": {},
   "outputs": [],
   "source": [
    "adata = read_adata_uuid(type_uuid)"
   ]
  },
  {
   "cell_type": "markdown",
   "id": "baa51e51-932f-4fe7-9bb1-e9716e1f5d8a",
   "metadata": {},
   "source": [
    "### Clustering"
   ]
  },
  {
   "cell_type": "code",
   "execution_count": null,
   "id": "2225f429-b6bd-4a4c-984d-3df83f266b59",
   "metadata": {},
   "outputs": [],
   "source": [
    "sc.pl.umap(adata, color = 'leiden_2', legend_loc = 'on data')"
   ]
  },
  {
   "cell_type": "markdown",
   "id": "689970b8-e964-41cd-a62c-788900378f19",
   "metadata": {},
   "source": [
    "### Marker expression"
   ]
  },
  {
   "cell_type": "code",
   "execution_count": null,
   "id": "ad0be41e-d9d1-4a61-bee4-ce4b44b75614",
   "metadata": {},
   "outputs": [],
   "source": [
    "sc.pl.dotplot(adata, groupby = 'leiden_2', var_names = broad_markers, swap_axes = True)"
   ]
  },
  {
   "cell_type": "code",
   "execution_count": null,
   "id": "7fbbbc6a-2aa0-4638-88a4-d3da92a8b206",
   "metadata": {},
   "outputs": [],
   "source": [
    "sc.pl.dotplot(adata, groupby = 'leiden_2', var_names = class_markers, swap_axes = True)"
   ]
  },
  {
   "cell_type": "markdown",
   "id": "132533c2-ed32-48a8-8c30-32de0c69b916",
   "metadata": {},
   "source": [
    "### Comparison to original labels"
   ]
  },
  {
   "cell_type": "code",
   "execution_count": null,
   "id": "d127d5e9-2b20-4043-afb6-62660456553e",
   "metadata": {},
   "outputs": [],
   "source": [
    "adata = add_labels(adata, original_df)"
   ]
  },
  {
   "cell_type": "code",
   "execution_count": null,
   "id": "f54eb60d-768c-4515-95f9-ce2b6f8da62e",
   "metadata": {},
   "outputs": [],
   "source": [
    "sc.pl.umap(adata, color = 'original_L3')"
   ]
  },
  {
   "cell_type": "code",
   "execution_count": null,
   "id": "7907a430-1f5f-4790-beb0-0e996260994f",
   "metadata": {},
   "outputs": [],
   "source": [
    "adata.obs['original_L3'].value_counts(dropna = False)"
   ]
  },
  {
   "cell_type": "code",
   "execution_count": null,
   "id": "18f451ce-ebf3-4973-bf6f-0c65b42e91e4",
   "metadata": {},
   "outputs": [],
   "source": [
    "adata.obs['original_L3'].value_counts(dropna = False) / adata.obs.shape[0]"
   ]
  },
  {
   "cell_type": "markdown",
   "id": "7017d66a-8370-4547-b35b-31b4f981dd56",
   "metadata": {},
   "source": [
    "## Review Core CD16 monocyte"
   ]
  },
  {
   "cell_type": "code",
   "execution_count": null,
   "id": "2e644d44-0c9e-434a-bb9d-79d7bf7e7b4e",
   "metadata": {},
   "outputs": [],
   "source": [
    "cell_type = 'Core CD16 monocyte'\n",
    "type_uuid = search_df['id'].loc[search_df['AIFI_L3'] == cell_type].tolist()[0]"
   ]
  },
  {
   "cell_type": "code",
   "execution_count": null,
   "id": "fd013e42-f2a1-495f-855e-b5b379c7a10d",
   "metadata": {},
   "outputs": [],
   "source": [
    "type_uuid"
   ]
  },
  {
   "cell_type": "code",
   "execution_count": null,
   "id": "064d95ea-3941-43a5-a0d0-1b12e72f03b2",
   "metadata": {},
   "outputs": [],
   "source": [
    "adata = read_adata_uuid(type_uuid)"
   ]
  },
  {
   "cell_type": "markdown",
   "id": "19cead4a-26fb-4098-bd6a-15adf71da206",
   "metadata": {},
   "source": [
    "### Clustering"
   ]
  },
  {
   "cell_type": "code",
   "execution_count": null,
   "id": "e5474c2d-0c7c-443e-b391-b3b75728f491",
   "metadata": {},
   "outputs": [],
   "source": [
    "sc.pl.umap(adata, color = 'leiden_2', legend_loc = 'on data')"
   ]
  },
  {
   "cell_type": "markdown",
   "id": "43979b29-21ef-4366-8e18-1d513ec7250e",
   "metadata": {},
   "source": [
    "### Marker expression"
   ]
  },
  {
   "cell_type": "code",
   "execution_count": null,
   "id": "7b0a8d21-bef6-4b47-8db2-5bb31939caab",
   "metadata": {},
   "outputs": [],
   "source": [
    "sc.pl.dotplot(adata, groupby = 'leiden_2', var_names = broad_markers, swap_axes = True)"
   ]
  },
  {
   "cell_type": "code",
   "execution_count": null,
   "id": "d8449486-09ef-4f6a-9158-f695f55dfebf",
   "metadata": {},
   "outputs": [],
   "source": [
    "sc.pl.dotplot(adata, groupby = 'leiden_2', var_names = class_markers, swap_axes = True)"
   ]
  },
  {
   "cell_type": "markdown",
   "id": "d4c41a44-501b-4974-a5cf-88a091f27f4b",
   "metadata": {},
   "source": [
    "### Comparison to original labels"
   ]
  },
  {
   "cell_type": "code",
   "execution_count": null,
   "id": "77a07fd6-50f7-4b8b-816b-4a0181b81931",
   "metadata": {},
   "outputs": [],
   "source": [
    "adata = add_labels(adata, original_df)"
   ]
  },
  {
   "cell_type": "code",
   "execution_count": null,
   "id": "6fb15958-dae0-4a9e-9fcc-857c60f05270",
   "metadata": {},
   "outputs": [],
   "source": [
    "sc.pl.umap(adata, color = 'original_L3')"
   ]
  },
  {
   "cell_type": "code",
   "execution_count": null,
   "id": "ffe0a7d6-b229-45eb-8a78-1cec04ad6bb2",
   "metadata": {},
   "outputs": [],
   "source": [
    "adata.obs['original_L3'].value_counts(dropna = False)"
   ]
  },
  {
   "cell_type": "code",
   "execution_count": null,
   "id": "9fcb4fee-4e04-41b2-a847-26cc415b343b",
   "metadata": {},
   "outputs": [],
   "source": [
    "adata.obs['original_L3'].value_counts(dropna = False) / adata.obs.shape[0]"
   ]
  },
  {
   "cell_type": "markdown",
   "id": "90214fc2-713e-4ae4-8525-5b6f6b333c25",
   "metadata": {},
   "source": [
    "## Review C1Q+ CD16 monocyte"
   ]
  },
  {
   "cell_type": "code",
   "execution_count": null,
   "id": "e2e5c748-a0b6-4981-b1a7-6958071d7d4d",
   "metadata": {},
   "outputs": [],
   "source": [
    "cell_type = 'C1Q+ CD16 monocyte'\n",
    "type_uuid = search_df['id'].loc[search_df['AIFI_L3'] == cell_type].tolist()[0]"
   ]
  },
  {
   "cell_type": "code",
   "execution_count": null,
   "id": "6a1ee37c-233c-4e4c-854e-7493cbe1d362",
   "metadata": {},
   "outputs": [],
   "source": [
    "type_uuid"
   ]
  },
  {
   "cell_type": "code",
   "execution_count": null,
   "id": "323c1d40-d33b-4b2f-acd7-afc08a4e3954",
   "metadata": {},
   "outputs": [],
   "source": [
    "adata = read_adata_uuid(type_uuid)"
   ]
  },
  {
   "cell_type": "markdown",
   "id": "03f5fafd-024d-4d7c-a97d-13f9442db0f0",
   "metadata": {},
   "source": [
    "### Clustering"
   ]
  },
  {
   "cell_type": "code",
   "execution_count": null,
   "id": "910d9448-a9c6-49e7-856d-ed211ff3ea1c",
   "metadata": {},
   "outputs": [],
   "source": [
    "sc.pl.umap(adata, color = 'leiden_2', legend_loc = 'on data')"
   ]
  },
  {
   "cell_type": "markdown",
   "id": "c2031edb-a9a2-47ba-bf99-603591473845",
   "metadata": {},
   "source": [
    "### Marker expression"
   ]
  },
  {
   "cell_type": "code",
   "execution_count": null,
   "id": "00a0525d-cad6-4ee4-94f2-da369469042e",
   "metadata": {},
   "outputs": [],
   "source": [
    "sc.pl.dotplot(adata, groupby = 'leiden_2', var_names = broad_markers, swap_axes = True)"
   ]
  },
  {
   "cell_type": "code",
   "execution_count": null,
   "id": "4ddd6093-0868-4241-8d29-770e8a58bfe1",
   "metadata": {},
   "outputs": [],
   "source": [
    "sc.pl.dotplot(adata, groupby = 'leiden_2', var_names = class_markers, swap_axes = True)"
   ]
  },
  {
   "cell_type": "markdown",
   "id": "28dd7c46-327f-412c-9776-6fdbe842d103",
   "metadata": {},
   "source": [
    "### Comparison to original labels"
   ]
  },
  {
   "cell_type": "code",
   "execution_count": null,
   "id": "caa9e85c-ae49-4e1f-97a4-7df1af7854b4",
   "metadata": {},
   "outputs": [],
   "source": [
    "adata = add_labels(adata, original_df)"
   ]
  },
  {
   "cell_type": "code",
   "execution_count": null,
   "id": "3edc0024-ce1e-46c2-9a55-76d53092bb68",
   "metadata": {},
   "outputs": [],
   "source": [
    "sc.pl.umap(adata, color = 'original_L3')"
   ]
  },
  {
   "cell_type": "code",
   "execution_count": null,
   "id": "9746a39c-1d6c-42ce-992f-49cba0c4a6a0",
   "metadata": {},
   "outputs": [],
   "source": [
    "adata.obs['original_L3'].value_counts(dropna = False)"
   ]
  },
  {
   "cell_type": "code",
   "execution_count": null,
   "id": "87a1823a-504a-4b67-98c8-c5bdbafd5a8d",
   "metadata": {},
   "outputs": [],
   "source": [
    "adata.obs['original_L3'].value_counts(dropna = False) / adata.obs.shape[0]"
   ]
  },
  {
   "cell_type": "markdown",
   "id": "2b6966f7-b78b-43c7-a41c-40ff9bd4c2d9",
   "metadata": {},
   "source": [
    "## Review ISG+ CD16 monocyte"
   ]
  },
  {
   "cell_type": "code",
   "execution_count": null,
   "id": "e529dd70-7ef1-4b96-b456-0320a1e6df2b",
   "metadata": {},
   "outputs": [],
   "source": [
    "cell_type = 'ISG+ CD16 monocyte'\n",
    "type_uuid = search_df['id'].loc[search_df['AIFI_L3'] == cell_type].tolist()[0]"
   ]
  },
  {
   "cell_type": "code",
   "execution_count": null,
   "id": "2a65b254-ae0b-474a-a059-08751170f602",
   "metadata": {},
   "outputs": [],
   "source": [
    "type_uuid"
   ]
  },
  {
   "cell_type": "code",
   "execution_count": null,
   "id": "2848aad7-0602-4771-aa5c-295f1721a90e",
   "metadata": {},
   "outputs": [],
   "source": [
    "adata = read_adata_uuid(type_uuid)"
   ]
  },
  {
   "cell_type": "markdown",
   "id": "f10acbf5-2adc-470a-93dc-f82fe07613c0",
   "metadata": {},
   "source": [
    "### Clustering"
   ]
  },
  {
   "cell_type": "code",
   "execution_count": null,
   "id": "24751f9a-128c-4327-ade7-5a092e1bb1dc",
   "metadata": {},
   "outputs": [],
   "source": [
    "sc.pl.umap(adata, color = 'leiden_2', legend_loc = 'on data')"
   ]
  },
  {
   "cell_type": "markdown",
   "id": "4847de72-3a7b-49dc-b92f-599f4787e3de",
   "metadata": {},
   "source": [
    "### Marker expression"
   ]
  },
  {
   "cell_type": "code",
   "execution_count": null,
   "id": "5e9bbc3d-8a2b-4ba2-91c0-45991eca1f39",
   "metadata": {},
   "outputs": [],
   "source": [
    "sc.pl.dotplot(adata, groupby = 'leiden_2', var_names = broad_markers, swap_axes = True)"
   ]
  },
  {
   "cell_type": "code",
   "execution_count": null,
   "id": "d0b4cfd0-dbdb-4771-8b44-8b333850af20",
   "metadata": {},
   "outputs": [],
   "source": [
    "sc.pl.dotplot(adata, groupby = 'leiden_2', var_names = class_markers, swap_axes = True)"
   ]
  },
  {
   "cell_type": "markdown",
   "id": "4bff76dd-a051-49fb-882e-d862c4b95a12",
   "metadata": {},
   "source": [
    "### Comparison to original labels"
   ]
  },
  {
   "cell_type": "code",
   "execution_count": null,
   "id": "04e72760-9b76-49ce-9651-d1da7b01beec",
   "metadata": {},
   "outputs": [],
   "source": [
    "adata = add_labels(adata, original_df)"
   ]
  },
  {
   "cell_type": "code",
   "execution_count": null,
   "id": "0d68fb3d-7742-4a3b-9488-47507039d930",
   "metadata": {},
   "outputs": [],
   "source": [
    "sc.pl.umap(adata, color = 'original_L3')"
   ]
  },
  {
   "cell_type": "code",
   "execution_count": null,
   "id": "f982606d-c4e5-425d-927d-fbe2fcc0a60f",
   "metadata": {},
   "outputs": [],
   "source": [
    "adata.obs['original_L3'].value_counts(dropna = False)"
   ]
  },
  {
   "cell_type": "code",
   "execution_count": null,
   "id": "b4e64e7a-a9eb-4b45-9ce6-f2da168a0cc9",
   "metadata": {},
   "outputs": [],
   "source": [
    "adata.obs['original_L3'].value_counts(dropna = False) / adata.obs.shape[0]"
   ]
  },
  {
   "cell_type": "code",
   "execution_count": null,
   "id": "30127b1f-84d0-4f98-b90a-554238954623",
   "metadata": {},
   "outputs": [],
   "source": [
    "os.system('jupyter nbconvert --to html --template pj 13e-Python_review_filtered_L3_myeloid_data.ipynb')"
   ]
  },
  {
   "cell_type": "code",
   "execution_count": null,
   "id": "e56942ee-79a5-47ae-b6a3-565f552b67f7",
   "metadata": {},
   "outputs": [],
   "source": [
    "import session_info\n",
    "session_info.show()"
   ]
  },
  {
   "cell_type": "code",
   "execution_count": null,
   "id": "8e00694c-21d8-4247-86a2-a8368d4ea484",
   "metadata": {},
   "outputs": [],
   "source": []
  }
 ],
 "metadata": {
  "kernelspec": {
   "display_name": "Python 3 (ipykernel)",
   "language": "python",
   "name": "python3"
  },
  "language_info": {
   "codemirror_mode": {
    "name": "ipython",
    "version": 3
   },
   "file_extension": ".py",
   "mimetype": "text/x-python",
   "name": "python",
   "nbconvert_exporter": "python",
   "pygments_lexer": "ipython3",
   "version": "3.10.13"
  }
 },
 "nbformat": 4,
 "nbformat_minor": 5
}
