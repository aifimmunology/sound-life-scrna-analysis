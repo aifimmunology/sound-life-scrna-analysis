{
 "cells": [
  {
   "cell_type": "markdown",
   "id": "7201aa28-62bc-44cb-9fcf-949fe4307653",
   "metadata": {},
   "source": [
    "# Partition L3 Cell Types\n",
    "\n",
    "For review post-doublet filtering, we'll partition cell types based on their CellTypist L3 label designations. Later, we'll perform clustering within each group for inspection."
   ]
  },
  {
   "cell_type": "code",
   "execution_count": 1,
   "id": "023aefc4-ae35-49f0-9c4b-a153fe1a70d9",
   "metadata": {},
   "outputs": [],
   "source": [
    "import warnings\n",
    "warnings.simplefilter(action='ignore', category=FutureWarning)\n",
    "warnings.simplefilter(action='ignore', category=RuntimeWarning)\n",
    "\n",
    "from datetime import date\n",
    "import hisepy\n",
    "import os\n",
    "import pandas as pd\n",
    "import re\n",
    "import scanpy as sc"
   ]
  },
  {
   "cell_type": "code",
   "execution_count": 2,
   "id": "0369b5ae-55bb-4b66-9be1-d917b045e1fc",
   "metadata": {
    "tags": []
   },
   "outputs": [],
   "source": [
    "out_dir = 'output/l3_types'\n",
    "if not os.path.isdir(out_dir):\n",
    "    os.makedirs(out_dir)"
   ]
  },
  {
   "cell_type": "markdown",
   "id": "05a99be4-513d-49c9-8edd-f4412d594baa",
   "metadata": {},
   "source": [
    "## Helper functions"
   ]
  },
  {
   "cell_type": "code",
   "execution_count": 3,
   "id": "4fe50be4-4ab5-415c-9974-113529181c48",
   "metadata": {},
   "outputs": [],
   "source": [
    "def cache_uuid_path(uuid):\n",
    "    cache_path = '/home/jupyter/cache/{u}'.format(u = uuid)\n",
    "    if not os.path.isdir(cache_path):\n",
    "        hise_res = hisepy.reader.cache_files([uuid])\n",
    "    filename = os.listdir(cache_path)[0]\n",
    "    cache_file = '{p}/{f}'.format(p = cache_path, f = filename)\n",
    "    return cache_file"
   ]
  },
  {
   "cell_type": "code",
   "execution_count": 4,
   "id": "e681a010-23e5-4961-8026-f66d291ac97c",
   "metadata": {},
   "outputs": [],
   "source": [
    "def read_parquet_uuid(uuid):\n",
    "    cache_file = cache_uuid_path(uuid)\n",
    "    res = pd.read_parquet(cache_file)\n",
    "    return res"
   ]
  },
  {
   "cell_type": "code",
   "execution_count": 5,
   "id": "3b6fa445-8d8b-47b2-8c86-5f640c91c57f",
   "metadata": {},
   "outputs": [],
   "source": [
    "def read_adata_uuid(uuid):\n",
    "    cache_file = cache_uuid_path(uuid)\n",
    "    res = sc.read_h5ad(cache_file)\n",
    "    return res"
   ]
  },
  {
   "cell_type": "code",
   "execution_count": 6,
   "id": "711f0b20-efe7-4911-b739-b343a26ea63c",
   "metadata": {},
   "outputs": [],
   "source": [
    "def rm_cache_uuid(uuid):\n",
    "    cache_path = '/home/jupyter/cache/{u}'.format(u = uuid)\n",
    "    rm_call = 'rm -r {d}'.format(d = cache_path)\n",
    "    os.system(rm_call)"
   ]
  },
  {
   "cell_type": "code",
   "execution_count": 7,
   "id": "60400686-2391-4f1a-93fa-60768dfafdef",
   "metadata": {},
   "outputs": [],
   "source": [
    "def format_cell_type(cell_type):\n",
    "    cell_type = re.sub('\\\\+', 'pos', cell_type)\n",
    "    cell_type = re.sub('-', 'neg', cell_type)\n",
    "    cell_type = re.sub(' ', '_', cell_type)\n",
    "    return cell_type"
   ]
  },
  {
   "cell_type": "code",
   "execution_count": 8,
   "id": "5ec2f6ed-7886-4509-838d-bcb2f9adc56e",
   "metadata": {},
   "outputs": [],
   "source": [
    "def element_id(n = 3):\n",
    "    import periodictable\n",
    "    from random import randrange\n",
    "    rand_el = []\n",
    "    for i in range(n):\n",
    "        el = randrange(0,118)\n",
    "        rand_el.append(periodictable.elements[el].name)\n",
    "    rand_str = '-'.join(rand_el)\n",
    "    return rand_str"
   ]
  },
  {
   "cell_type": "markdown",
   "id": "050bb849-58a2-4b57-bf72-d2e064561678",
   "metadata": {},
   "source": [
    "## Read L3 labels from HISE"
   ]
  },
  {
   "cell_type": "code",
   "execution_count": 9,
   "id": "8b8a7f03-ace7-473c-ac80-45a25d209019",
   "metadata": {},
   "outputs": [],
   "source": [
    "l3_uuids = ['20e97e8f-2cb9-4fa6-bd84-ddcaf6a2c28b',\n",
    "            'd595ab6f-d1ad-4c7c-a8f6-395642927262',\n",
    "            '56e0840c-d432-45e3-ac57-4302b0e350a4',\n",
    "            '8bfe1a92-35c9-433a-9640-4d7cdd7cbad6']\n",
    "l3_list = []\n",
    "for l3_uuid in l3_uuids:\n",
    "    l3_list.append(read_parquet_uuid(l3_uuid))\n",
    "l3_labels = pd.concat(l3_list)"
   ]
  },
  {
   "cell_type": "code",
   "execution_count": 10,
   "id": "6e91140a-4a27-4927-b0e9-2a2ec0a5f068",
   "metadata": {},
   "outputs": [],
   "source": [
    "l3_labels = l3_labels[['barcodes', 'AIFI_L3', 'AIFI_L3_score']]"
   ]
  },
  {
   "cell_type": "markdown",
   "id": "c57f1e1a-767a-4c6b-9d68-14e3e30130ae",
   "metadata": {},
   "source": [
    "## Identify files for use in HISE\n",
    "\n",
    "Cells that were filtered in a previous notebook to remove most doublets and low-quality cells"
   ]
  },
  {
   "cell_type": "code",
   "execution_count": 11,
   "id": "93e8a92b-1347-4835-aa3e-596d765eccec",
   "metadata": {},
   "outputs": [],
   "source": [
    "search_id = 'lawrencium-chromium-vanadium'"
   ]
  },
  {
   "cell_type": "markdown",
   "id": "f39e1221-74cb-42e6-9659-ff6fff8481fb",
   "metadata": {},
   "source": [
    "Retrieve files stored in our HISE project store"
   ]
  },
  {
   "cell_type": "code",
   "execution_count": 12,
   "id": "2a820e6f-8daf-40e4-85dc-0984332be503",
   "metadata": {},
   "outputs": [],
   "source": [
    "ps_df = hisepy.list_files_in_project_store('cohorts')\n",
    "ps_df = ps_df[['id', 'name']]"
   ]
  },
  {
   "cell_type": "markdown",
   "id": "faeb5783-1c79-4804-90ab-0a0d7a37d41d",
   "metadata": {},
   "source": [
    "Filter for files from the previous notebook using our search_id"
   ]
  },
  {
   "cell_type": "code",
   "execution_count": 13,
   "id": "8ffe43e5-3cfb-48b7-ac29-a56133bad5f9",
   "metadata": {},
   "outputs": [],
   "source": [
    "search_df = ps_df[ps_df['name'].str.contains(search_id)]\n",
    "search_df = search_df.sort_values('name')"
   ]
  },
  {
   "cell_type": "code",
   "execution_count": 14,
   "id": "5000dd97-0237-4432-9570-8d30c1024a18",
   "metadata": {},
   "outputs": [
    {
     "data": {
      "text/plain": [
       "(65, 2)"
      ]
     },
     "execution_count": 14,
     "metadata": {},
     "output_type": "execute_result"
    }
   ],
   "source": [
    "search_df.shape"
   ]
  },
  {
   "cell_type": "code",
   "execution_count": 15,
   "id": "f9ab5f20-b134-4742-95bd-b85ce4b85edc",
   "metadata": {},
   "outputs": [],
   "source": [
    "h5ad_uuids = {}\n",
    "for i in range(search_df.shape[0]):\n",
    "    name = search_df['name'].tolist()[i]\n",
    "    if '.h5ad' in name:\n",
    "        group_name = re.sub('.+diha_','',name)\n",
    "        group_name = re.sub('_filtered.+','',group_name)\n",
    "        h5ad_uuids[group_name] = search_df['id'].tolist()[i]"
   ]
  },
  {
   "cell_type": "code",
   "execution_count": 16,
   "id": "d4f18106-d237-4891-800e-3d4d76f619e2",
   "metadata": {},
   "outputs": [
    {
     "data": {
      "text/plain": [
       "{'ASDC': '559cbab1-e3cd-438b-b951-ff7874555625',\n",
       " 'BR1_Female_Negative_CD14_monocyte': '40dfd96a-5795-479e-8ae7-5608f91db36d',\n",
       " 'BR1_Female_Negative_CD56dim_NK_cell': 'ceca06b2-f11c-40bf-988c-62ff51063c61',\n",
       " 'BR1_Female_Negative_Memory_CD4_T_cell': '5cd5c776-e44a-4b84-8869-48abce644ed7',\n",
       " 'BR1_Female_Negative_Memory_CD8_T_cell': 'c5d24858-9703-42ae-97cd-6834290b18a4',\n",
       " 'BR1_Female_Negative_Naive_CD4_T_cell': '50fe1d88-49a4-4eb0-bcc8-4ce983646163',\n",
       " 'BR1_Female_Positive_CD14_monocyte': 'e0270c3a-b428-4dd7-8c8e-f965814776c2',\n",
       " 'BR1_Female_Positive_CD56dim_NK_cell': '11b3c89c-8157-4b0e-bab3-e3198e8b1544',\n",
       " 'BR1_Female_Positive_Memory_CD4_T_cell': 'ac35ceb8-1272-477a-8e6b-ed33538ea4cc',\n",
       " 'BR1_Female_Positive_Memory_CD8_T_cell': '4a44b740-b280-4f5b-9aad-d0521fbb6fe2',\n",
       " 'BR1_Female_Positive_Naive_CD4_T_cell': '14dd7450-8773-4256-92b6-0b1084d187cb',\n",
       " 'BR1_Male_Negative_CD14_monocyte': '0fee75d4-6a98-47ec-b1f2-23ff7ad1c18e',\n",
       " 'BR1_Male_Negative_CD56dim_NK_cell': 'cb6f833b-f286-478f-acd2-989ea4a4c7b8',\n",
       " 'BR1_Male_Negative_Memory_CD4_T_cell': '8d566aba-47de-452c-b9f1-bad3d5713135',\n",
       " 'BR1_Male_Negative_Memory_CD8_T_cell': 'b2ef0d39-8861-406b-936a-bb242e6809b7',\n",
       " 'BR1_Male_Negative_Naive_CD4_T_cell': '943f09d1-3190-4422-b050-b355daa29360',\n",
       " 'BR1_Male_Positive_CD14_monocyte': 'af58fd39-0156-450f-a38c-3213c3cffc66',\n",
       " 'BR1_Male_Positive_CD56dim_NK_cell': 'aeb088bf-bcef-4170-b07c-0e3282615066',\n",
       " 'BR1_Male_Positive_Memory_CD4_T_cell': 'f1c45e38-12d6-4b77-89eb-51bb46de485b',\n",
       " 'BR1_Male_Positive_Memory_CD8_T_cell': '982f64fc-bfb0-476a-808a-77df2828091d',\n",
       " 'BR1_Male_Positive_Naive_CD4_T_cell': '10e95fd0-85e2-40b5-a0f1-3bb1f885ab15',\n",
       " 'BR2_Female_Negative_CD14_monocyte': '6621dac9-f9b9-422b-90f9-3ea31c6f9545',\n",
       " 'BR2_Female_Negative_CD56dim_NK_cell': 'f01ebaa1-aaab-44b0-83b9-4ce40b89acb4',\n",
       " 'BR2_Female_Negative_Memory_CD4_T_cell': '18661b9d-7973-46ba-a0c7-22d21cd1a70a',\n",
       " 'BR2_Female_Negative_Memory_CD8_T_cell': '461db2c7-2f5a-4fe1-b7ea-56f4fc7ffd05',\n",
       " 'BR2_Female_Negative_Naive_CD4_T_cell': '6a865cec-fe93-4414-803f-01594f48a454',\n",
       " 'BR2_Female_Positive_CD14_monocyte': 'ecf2cc80-4081-4e53-b596-5e17810acf5b',\n",
       " 'BR2_Female_Positive_CD56dim_NK_cell': '27a4a7fd-e7d2-4216-9983-96ab6a60502a',\n",
       " 'BR2_Female_Positive_Memory_CD4_T_cell': '6a7bd1f6-36b5-4fa4-8f4d-2b0445d60956',\n",
       " 'BR2_Female_Positive_Memory_CD8_T_cell': '236d2541-d4f0-41f8-aca8-ead6742e9e9b',\n",
       " 'BR2_Female_Positive_Naive_CD4_T_cell': '545e74ea-811d-4fdc-848c-8689028f13b2',\n",
       " 'BR2_Male_Negative_CD14_monocyte': '7831f065-3437-4f43-96ca-64a614d7a45d',\n",
       " 'BR2_Male_Negative_CD56dim_NK_cell': 'e5de95ea-39da-4baf-8d32-9be31c35c9f0',\n",
       " 'BR2_Male_Negative_Memory_CD4_T_cell': 'dcd691fd-ee28-49a9-884f-7e3fe3e7c674',\n",
       " 'BR2_Male_Negative_Memory_CD8_T_cell': 'dc9c5c66-84dd-410c-96d1-be3b11d1f14f',\n",
       " 'BR2_Male_Negative_Naive_CD4_T_cell': '444c3f91-1513-49e1-8e73-fa167be2d073',\n",
       " 'BR2_Male_Positive_CD14_monocyte': '5d21f345-d47e-44ef-ab52-548eacc37635',\n",
       " 'BR2_Male_Positive_CD56dim_NK_cell': '90871db8-4606-4328-b2f1-02704841737a',\n",
       " 'BR2_Male_Positive_Memory_CD4_T_cell': '90e7db23-9176-4b46-9787-18c7f14825f2',\n",
       " 'BR2_Male_Positive_Memory_CD8_T_cell': '1c0d54cc-ebf3-4958-afad-7ed5e30d80e1',\n",
       " 'BR2_Male_Positive_Naive_CD4_T_cell': '8a6935c5-9980-4b44-a94d-e3c345ca20fb',\n",
       " 'CD16_monocyte': '75d8c79f-198f-4dea-ba10-90d4a83962c4',\n",
       " 'CD56bright_NK_cell': '609bc7b2-b9aa-4177-b8cb-3db01b219f25',\n",
       " 'CD8aa': 'c0ba77d1-65c3-48f1-8067-54b2e56f66a9',\n",
       " 'DN_T_cell': 'baf3ba2a-aa51-4cda-852c-434294ceaa4d',\n",
       " 'Effector_B_cell': 'cfc14e28-42b4-4d9f-aba5-65e6dd5ca69d',\n",
       " 'Erythrocyte': 'ce5a821a-ba1e-41b6-ba85-529da3e3b760',\n",
       " 'ILC': 'bd1c814a-1884-4e1b-8ae7-c92aa12d1b6e',\n",
       " 'Intermediate_monocyte': '468f4eb1-0470-4f78-85b0-9b31ea5bd4eb',\n",
       " 'MAIT': '3fa3f9ff-5044-491a-95ed-83ee35e08d0f',\n",
       " 'Memory_B_cell': '7dd864d9-9fd2-417f-b543-10dba41e2880',\n",
       " 'Naive_B_cell': '0eba1f2d-fa88-4121-9737-d8ad62b71788',\n",
       " 'Naive_CD8_T_cell': '99c98fa1-22bc-413e-9fb1-f5ddfc6dc257',\n",
       " 'Plasma_cell': '8dc888f7-3a42-49f2-bac4-8a603e511d9d',\n",
       " 'Platelet': 'eae1ea00-ac3d-4855-805f-4309ac2342e1',\n",
       " 'Progenitor_cell': 'd1e805a0-a799-4f25-bf73-db23ac7fd5bb',\n",
       " 'Proliferating_NK_cell': '92e9c744-b3c0-4e7b-97b3-57fa36b30893',\n",
       " 'Proliferating_T_cell': 'f4aeef6a-27db-434c-949c-063488bec6d7',\n",
       " 'Transitional_B_cell': '8f04564a-7419-4f5b-b793-825a22972c0c',\n",
       " 'Treg': 'b11f8ab7-5964-4203-ab39-e3f3ebdba7dc',\n",
       " 'cDC1': 'd31cde8f-3c84-42be-8fe1-ac6e721f163f',\n",
       " 'cDC2': '1e0ce70c-ec16-47c2-ad8c-74fe7a2ecad8',\n",
       " 'gdT': '0712fee1-d229-49a9-8b93-596b3042a210',\n",
       " 'pDC': '9748801b-b24d-4527-b863-dac0c7899105'}"
      ]
     },
     "execution_count": 16,
     "metadata": {},
     "output_type": "execute_result"
    }
   ],
   "source": [
    "h5ad_uuids"
   ]
  },
  {
   "cell_type": "markdown",
   "id": "fbfbef80-1e67-4870-8e73-77160979d3c2",
   "metadata": {},
   "source": [
    "## Separate files"
   ]
  },
  {
   "cell_type": "code",
   "execution_count": 19,
   "id": "cd157c41-b7b6-4e19-a84c-ee66fff91af1",
   "metadata": {},
   "outputs": [
    {
     "name": "stdout",
     "output_type": "stream",
     "text": [
      "downloading fileID: 559cbab1-e3cd-438b-b951-ff7874555625\n",
      "Files have been successfully downloaded!\n",
      "downloading fileID: 40dfd96a-5795-479e-8ae7-5608f91db36d\n",
      "Files have been successfully downloaded!\n",
      "downloading fileID: ceca06b2-f11c-40bf-988c-62ff51063c61\n",
      "Files have been successfully downloaded!\n",
      "downloading fileID: 5cd5c776-e44a-4b84-8869-48abce644ed7\n",
      "Files have been successfully downloaded!\n",
      "downloading fileID: c5d24858-9703-42ae-97cd-6834290b18a4\n",
      "Files have been successfully downloaded!\n",
      "downloading fileID: 50fe1d88-49a4-4eb0-bcc8-4ce983646163\n",
      "Files have been successfully downloaded!\n",
      "downloading fileID: e0270c3a-b428-4dd7-8c8e-f965814776c2\n",
      "Files have been successfully downloaded!\n",
      "downloading fileID: 11b3c89c-8157-4b0e-bab3-e3198e8b1544\n",
      "Files have been successfully downloaded!\n",
      "downloading fileID: ac35ceb8-1272-477a-8e6b-ed33538ea4cc\n",
      "Files have been successfully downloaded!\n",
      "downloading fileID: 4a44b740-b280-4f5b-9aad-d0521fbb6fe2\n",
      "Files have been successfully downloaded!\n",
      "downloading fileID: 14dd7450-8773-4256-92b6-0b1084d187cb\n",
      "Files have been successfully downloaded!\n",
      "downloading fileID: 0fee75d4-6a98-47ec-b1f2-23ff7ad1c18e\n",
      "Files have been successfully downloaded!\n",
      "downloading fileID: cb6f833b-f286-478f-acd2-989ea4a4c7b8\n",
      "Files have been successfully downloaded!\n",
      "downloading fileID: 8d566aba-47de-452c-b9f1-bad3d5713135\n",
      "Files have been successfully downloaded!\n",
      "downloading fileID: b2ef0d39-8861-406b-936a-bb242e6809b7\n",
      "Files have been successfully downloaded!\n",
      "downloading fileID: 943f09d1-3190-4422-b050-b355daa29360\n",
      "Files have been successfully downloaded!\n",
      "downloading fileID: af58fd39-0156-450f-a38c-3213c3cffc66\n",
      "Files have been successfully downloaded!\n",
      "downloading fileID: aeb088bf-bcef-4170-b07c-0e3282615066\n",
      "Files have been successfully downloaded!\n",
      "downloading fileID: f1c45e38-12d6-4b77-89eb-51bb46de485b\n",
      "Files have been successfully downloaded!\n",
      "downloading fileID: 982f64fc-bfb0-476a-808a-77df2828091d\n",
      "Files have been successfully downloaded!\n",
      "downloading fileID: 10e95fd0-85e2-40b5-a0f1-3bb1f885ab15\n",
      "Files have been successfully downloaded!\n",
      "downloading fileID: 6621dac9-f9b9-422b-90f9-3ea31c6f9545\n",
      "Files have been successfully downloaded!\n",
      "downloading fileID: f01ebaa1-aaab-44b0-83b9-4ce40b89acb4\n",
      "Files have been successfully downloaded!\n",
      "downloading fileID: 18661b9d-7973-46ba-a0c7-22d21cd1a70a\n",
      "Files have been successfully downloaded!\n",
      "downloading fileID: 461db2c7-2f5a-4fe1-b7ea-56f4fc7ffd05\n",
      "Files have been successfully downloaded!\n",
      "downloading fileID: 6a865cec-fe93-4414-803f-01594f48a454\n",
      "Files have been successfully downloaded!\n",
      "downloading fileID: ecf2cc80-4081-4e53-b596-5e17810acf5b\n",
      "Files have been successfully downloaded!\n",
      "downloading fileID: 27a4a7fd-e7d2-4216-9983-96ab6a60502a\n",
      "Files have been successfully downloaded!\n",
      "downloading fileID: 6a7bd1f6-36b5-4fa4-8f4d-2b0445d60956\n",
      "Files have been successfully downloaded!\n",
      "downloading fileID: 236d2541-d4f0-41f8-aca8-ead6742e9e9b\n",
      "Files have been successfully downloaded!\n",
      "downloading fileID: 545e74ea-811d-4fdc-848c-8689028f13b2\n",
      "Files have been successfully downloaded!\n",
      "downloading fileID: 7831f065-3437-4f43-96ca-64a614d7a45d\n",
      "Files have been successfully downloaded!\n",
      "downloading fileID: e5de95ea-39da-4baf-8d32-9be31c35c9f0\n",
      "Files have been successfully downloaded!\n",
      "downloading fileID: dcd691fd-ee28-49a9-884f-7e3fe3e7c674\n",
      "Files have been successfully downloaded!\n",
      "downloading fileID: dc9c5c66-84dd-410c-96d1-be3b11d1f14f\n",
      "Files have been successfully downloaded!\n",
      "downloading fileID: 444c3f91-1513-49e1-8e73-fa167be2d073\n",
      "Files have been successfully downloaded!\n",
      "downloading fileID: 5d21f345-d47e-44ef-ab52-548eacc37635\n",
      "Files have been successfully downloaded!\n",
      "downloading fileID: 90871db8-4606-4328-b2f1-02704841737a\n",
      "Files have been successfully downloaded!\n",
      "downloading fileID: 90e7db23-9176-4b46-9787-18c7f14825f2\n",
      "Files have been successfully downloaded!\n",
      "downloading fileID: 1c0d54cc-ebf3-4958-afad-7ed5e30d80e1\n",
      "Files have been successfully downloaded!\n",
      "downloading fileID: 8a6935c5-9980-4b44-a94d-e3c345ca20fb\n",
      "Files have been successfully downloaded!\n",
      "downloading fileID: 75d8c79f-198f-4dea-ba10-90d4a83962c4\n",
      "Files have been successfully downloaded!\n",
      "downloading fileID: 609bc7b2-b9aa-4177-b8cb-3db01b219f25\n",
      "Files have been successfully downloaded!\n",
      "downloading fileID: c0ba77d1-65c3-48f1-8067-54b2e56f66a9\n",
      "Files have been successfully downloaded!\n",
      "downloading fileID: baf3ba2a-aa51-4cda-852c-434294ceaa4d\n",
      "Files have been successfully downloaded!\n",
      "downloading fileID: cfc14e28-42b4-4d9f-aba5-65e6dd5ca69d\n",
      "Files have been successfully downloaded!\n",
      "downloading fileID: ce5a821a-ba1e-41b6-ba85-529da3e3b760\n",
      "Files have been successfully downloaded!\n",
      "downloading fileID: bd1c814a-1884-4e1b-8ae7-c92aa12d1b6e\n",
      "Files have been successfully downloaded!\n",
      "downloading fileID: 468f4eb1-0470-4f78-85b0-9b31ea5bd4eb\n",
      "Files have been successfully downloaded!\n",
      "downloading fileID: 3fa3f9ff-5044-491a-95ed-83ee35e08d0f\n",
      "Files have been successfully downloaded!\n",
      "downloading fileID: 7dd864d9-9fd2-417f-b543-10dba41e2880\n",
      "Files have been successfully downloaded!\n",
      "downloading fileID: 0eba1f2d-fa88-4121-9737-d8ad62b71788\n",
      "Files have been successfully downloaded!\n",
      "downloading fileID: 99c98fa1-22bc-413e-9fb1-f5ddfc6dc257\n",
      "Files have been successfully downloaded!\n",
      "downloading fileID: 8dc888f7-3a42-49f2-bac4-8a603e511d9d\n",
      "Files have been successfully downloaded!\n",
      "downloading fileID: eae1ea00-ac3d-4855-805f-4309ac2342e1\n",
      "Files have been successfully downloaded!\n",
      "downloading fileID: d1e805a0-a799-4f25-bf73-db23ac7fd5bb\n",
      "Files have been successfully downloaded!\n",
      "downloading fileID: 92e9c744-b3c0-4e7b-97b3-57fa36b30893\n",
      "Files have been successfully downloaded!\n",
      "downloading fileID: f4aeef6a-27db-434c-949c-063488bec6d7\n",
      "Files have been successfully downloaded!\n",
      "downloading fileID: 8f04564a-7419-4f5b-b793-825a22972c0c\n",
      "Files have been successfully downloaded!\n",
      "downloading fileID: b11f8ab7-5964-4203-ab39-e3f3ebdba7dc\n",
      "Files have been successfully downloaded!\n",
      "downloading fileID: d31cde8f-3c84-42be-8fe1-ac6e721f163f\n",
      "Files have been successfully downloaded!\n",
      "downloading fileID: 1e0ce70c-ec16-47c2-ad8c-74fe7a2ecad8\n",
      "Files have been successfully downloaded!\n",
      "downloading fileID: 0712fee1-d229-49a9-8b93-596b3042a210\n",
      "Files have been successfully downloaded!\n",
      "downloading fileID: 9748801b-b24d-4527-b863-dac0c7899105\n",
      "Files have been successfully downloaded!\n"
     ]
    }
   ],
   "source": [
    "for group_name, uuid in h5ad_uuids.items():\n",
    "    adata = read_adata_uuid(uuid)\n",
    "\n",
    "    # Integrate L3 labels\n",
    "    obs = adata.obs\n",
    "    obs = obs.reset_index(drop = True)\n",
    "    obs = obs.merge(l3_labels, on = 'barcodes', how = 'left')\n",
    "    obs = obs.set_index('barcodes', drop = False)\n",
    "    adata.obs = obs\n",
    "    \n",
    "    l3_types = adata.obs['AIFI_L3'].unique().tolist()\n",
    "    \n",
    "    for l3_type in l3_types:\n",
    "        out_type = format_cell_type(l3_type)\n",
    "        type_dir = 'output/l3_types/{ct}'.format(ct = out_type)\n",
    "        if not os.path.isdir(type_dir):\n",
    "            os.makedirs(type_dir)\n",
    "        out_file = '{td}/diha_celltypist_L3_{g}_{ct}.h5ad'.format(td = type_dir, g = group_name, ct = out_type)\n",
    "        \n",
    "        type_adata = adata[adata.obs['AIFI_L3'] == l3_type].copy()\n",
    "        type_adata.write_h5ad(out_file)\n",
    "\n",
    "    rm_cache_uuid(uuid)"
   ]
  },
  {
   "cell_type": "markdown",
   "id": "2c69ad66-ee06-494b-b2e3-573aa3e10595",
   "metadata": {},
   "source": [
    "## Merge files for the same type"
   ]
  },
  {
   "cell_type": "code",
   "execution_count": 20,
   "id": "95edd175-5266-4bf1-b6a6-7461d8528632",
   "metadata": {},
   "outputs": [],
   "source": [
    "type_dirs = os.listdir('output/l3_types')\n",
    "type_h5ads = []\n",
    "for type_dir in type_dirs:\n",
    "    type_path = 'output/l3_types/{td}'.format(td = type_dir)\n",
    "    type_files = os.listdir(type_path)\n",
    "\n",
    "    adata_list = []\n",
    "    for type_file in type_files:\n",
    "        adata = sc.read_h5ad('{tp}/{tf}'.format(tp = type_path, tf = type_file))\n",
    "        adata_list.append(adata)\n",
    "\n",
    "    type_adata = sc.concat(adata_list)\n",
    "\n",
    "    cell_type = type_adata.obs['AIFI_L3'][0]\n",
    "    out_type = format_cell_type(cell_type)\n",
    "    \n",
    "    out_file = 'output/diha_celltypist_L3_{ct}.h5ad'.format(ct = out_type)\n",
    "    type_adata.write_h5ad(out_file)\n",
    "    type_h5ads.append(out_file)"
   ]
  },
  {
   "cell_type": "markdown",
   "id": "e42fcfae-8de6-40aa-9bc8-e9aaf1557cb8",
   "metadata": {},
   "source": [
    "## Upload assembled results to HISE"
   ]
  },
  {
   "cell_type": "code",
   "execution_count": 26,
   "id": "682c182a-6b36-4fca-8f66-1e14577b54fa",
   "metadata": {},
   "outputs": [],
   "source": [
    "study_space_uuid = 'de025812-5e73-4b3c-9c3b-6d0eac412f2a'\n",
    "title = 'DIHA CellTypist L3 .h5ads {d}'.format(d = date.today())"
   ]
  },
  {
   "cell_type": "code",
   "execution_count": 27,
   "id": "030a0867-0f1c-4f55-b4f9-a9a909307f8b",
   "metadata": {},
   "outputs": [
    {
     "data": {
      "text/plain": [
       "'nitrogen-rhenium-hafnium'"
      ]
     },
     "execution_count": 27,
     "metadata": {},
     "output_type": "execute_result"
    }
   ],
   "source": [
    "search_id = element_id()\n",
    "search_id"
   ]
  },
  {
   "cell_type": "code",
   "execution_count": 28,
   "id": "76104aa5-bc8a-423b-a96a-414911114675",
   "metadata": {},
   "outputs": [
    {
     "data": {
      "text/plain": [
       "['559cbab1-e3cd-438b-b951-ff7874555625',\n",
       " '40dfd96a-5795-479e-8ae7-5608f91db36d',\n",
       " 'ceca06b2-f11c-40bf-988c-62ff51063c61',\n",
       " '5cd5c776-e44a-4b84-8869-48abce644ed7',\n",
       " 'c5d24858-9703-42ae-97cd-6834290b18a4',\n",
       " '50fe1d88-49a4-4eb0-bcc8-4ce983646163',\n",
       " 'e0270c3a-b428-4dd7-8c8e-f965814776c2',\n",
       " '11b3c89c-8157-4b0e-bab3-e3198e8b1544',\n",
       " 'ac35ceb8-1272-477a-8e6b-ed33538ea4cc',\n",
       " '4a44b740-b280-4f5b-9aad-d0521fbb6fe2',\n",
       " '14dd7450-8773-4256-92b6-0b1084d187cb',\n",
       " '0fee75d4-6a98-47ec-b1f2-23ff7ad1c18e',\n",
       " 'cb6f833b-f286-478f-acd2-989ea4a4c7b8',\n",
       " '8d566aba-47de-452c-b9f1-bad3d5713135',\n",
       " 'b2ef0d39-8861-406b-936a-bb242e6809b7',\n",
       " '943f09d1-3190-4422-b050-b355daa29360',\n",
       " 'af58fd39-0156-450f-a38c-3213c3cffc66',\n",
       " 'aeb088bf-bcef-4170-b07c-0e3282615066',\n",
       " 'f1c45e38-12d6-4b77-89eb-51bb46de485b',\n",
       " '982f64fc-bfb0-476a-808a-77df2828091d',\n",
       " '10e95fd0-85e2-40b5-a0f1-3bb1f885ab15',\n",
       " '6621dac9-f9b9-422b-90f9-3ea31c6f9545',\n",
       " 'f01ebaa1-aaab-44b0-83b9-4ce40b89acb4',\n",
       " '18661b9d-7973-46ba-a0c7-22d21cd1a70a',\n",
       " '461db2c7-2f5a-4fe1-b7ea-56f4fc7ffd05',\n",
       " '6a865cec-fe93-4414-803f-01594f48a454',\n",
       " 'ecf2cc80-4081-4e53-b596-5e17810acf5b',\n",
       " '27a4a7fd-e7d2-4216-9983-96ab6a60502a',\n",
       " '6a7bd1f6-36b5-4fa4-8f4d-2b0445d60956',\n",
       " '236d2541-d4f0-41f8-aca8-ead6742e9e9b',\n",
       " '545e74ea-811d-4fdc-848c-8689028f13b2',\n",
       " '7831f065-3437-4f43-96ca-64a614d7a45d',\n",
       " 'e5de95ea-39da-4baf-8d32-9be31c35c9f0',\n",
       " 'dcd691fd-ee28-49a9-884f-7e3fe3e7c674',\n",
       " 'dc9c5c66-84dd-410c-96d1-be3b11d1f14f',\n",
       " '444c3f91-1513-49e1-8e73-fa167be2d073',\n",
       " '5d21f345-d47e-44ef-ab52-548eacc37635',\n",
       " '90871db8-4606-4328-b2f1-02704841737a',\n",
       " '90e7db23-9176-4b46-9787-18c7f14825f2',\n",
       " '1c0d54cc-ebf3-4958-afad-7ed5e30d80e1',\n",
       " '8a6935c5-9980-4b44-a94d-e3c345ca20fb',\n",
       " '75d8c79f-198f-4dea-ba10-90d4a83962c4',\n",
       " '609bc7b2-b9aa-4177-b8cb-3db01b219f25',\n",
       " 'c0ba77d1-65c3-48f1-8067-54b2e56f66a9',\n",
       " 'baf3ba2a-aa51-4cda-852c-434294ceaa4d',\n",
       " 'cfc14e28-42b4-4d9f-aba5-65e6dd5ca69d',\n",
       " 'ce5a821a-ba1e-41b6-ba85-529da3e3b760',\n",
       " 'bd1c814a-1884-4e1b-8ae7-c92aa12d1b6e',\n",
       " '468f4eb1-0470-4f78-85b0-9b31ea5bd4eb',\n",
       " '3fa3f9ff-5044-491a-95ed-83ee35e08d0f',\n",
       " '7dd864d9-9fd2-417f-b543-10dba41e2880',\n",
       " '0eba1f2d-fa88-4121-9737-d8ad62b71788',\n",
       " '99c98fa1-22bc-413e-9fb1-f5ddfc6dc257',\n",
       " '8dc888f7-3a42-49f2-bac4-8a603e511d9d',\n",
       " 'eae1ea00-ac3d-4855-805f-4309ac2342e1',\n",
       " 'd1e805a0-a799-4f25-bf73-db23ac7fd5bb',\n",
       " '92e9c744-b3c0-4e7b-97b3-57fa36b30893',\n",
       " 'f4aeef6a-27db-434c-949c-063488bec6d7',\n",
       " '8f04564a-7419-4f5b-b793-825a22972c0c',\n",
       " 'b11f8ab7-5964-4203-ab39-e3f3ebdba7dc',\n",
       " 'd31cde8f-3c84-42be-8fe1-ac6e721f163f',\n",
       " '1e0ce70c-ec16-47c2-ad8c-74fe7a2ecad8',\n",
       " '0712fee1-d229-49a9-8b93-596b3042a210',\n",
       " '9748801b-b24d-4527-b863-dac0c7899105']"
      ]
     },
     "execution_count": 28,
     "metadata": {},
     "output_type": "execute_result"
    }
   ],
   "source": [
    "in_files = []\n",
    "for group_name, uuid in h5ad_uuids.items():\n",
    "    in_files.append(uuid)\n",
    "in_files"
   ]
  },
  {
   "cell_type": "code",
   "execution_count": 29,
   "id": "1efb6248-3f3e-431d-a585-3e1d35b34376",
   "metadata": {},
   "outputs": [],
   "source": [
    "out_files = type_h5ads"
   ]
  },
  {
   "cell_type": "code",
   "execution_count": 30,
   "id": "c9e71a65-40f9-4324-b683-dd85178f6b14",
   "metadata": {},
   "outputs": [
    {
     "data": {
      "text/plain": [
       "['output/diha_celltypist_L3_GZMKpos_Vd2_gdT.h5ad',\n",
       " 'output/diha_celltypist_L3_GZMKneg_CD27pos_EM_CD8_T_cell.h5ad',\n",
       " 'output/diha_celltypist_L3_Intermediate_monocyte.h5ad',\n",
       " 'output/diha_celltypist_L3_ILC.h5ad',\n",
       " 'output/diha_celltypist_L3_HLAnegDRhi_cDC2.h5ad',\n",
       " 'output/diha_celltypist_L3_Naive_CD4_Treg.h5ad',\n",
       " 'output/diha_celltypist_L3_KLRF1pos_effector_Vd1_gdT.h5ad',\n",
       " 'output/diha_celltypist_L3_GZMKpos_CD27pos_EM_CD8_T_cell.h5ad',\n",
       " 'output/diha_celltypist_L3_Platelet.h5ad',\n",
       " 'output/diha_celltypist_L3_ISGpos_CD14_monocyte.h5ad',\n",
       " 'output/diha_celltypist_L3_Early_memory_B_cell.h5ad',\n",
       " 'output/diha_celltypist_L3_Memory_CD8_Treg.h5ad',\n",
       " 'output/diha_celltypist_L3_Core_CD14_monocyte.h5ad',\n",
       " 'output/diha_celltypist_L3_ISGpos_CD16_monocyte.h5ad',\n",
       " 'output/diha_celltypist_L3_cDC1.h5ad',\n",
       " 'output/diha_celltypist_L3_CD8_MAIT.h5ad',\n",
       " 'output/diha_celltypist_L3_Transitional_B_cell.h5ad',\n",
       " 'output/diha_celltypist_L3_CLP_cell.h5ad',\n",
       " 'output/diha_celltypist_L3_SOX4pos_naive_CD4_T_cell.h5ad',\n",
       " 'output/diha_celltypist_L3_KLRB1pos_memory_CD4_Treg.h5ad',\n",
       " 'output/diha_celltypist_L3_Activated_memory_B_cell.h5ad',\n",
       " 'output/diha_celltypist_L3_CD8aa.h5ad',\n",
       " 'output/diha_celltypist_L3_GZMBneg_CD27neg_EM_CD4_T_cell.h5ad',\n",
       " 'output/diha_celltypist_L3_CD56bright_NK_cell.h5ad',\n",
       " 'output/diha_celltypist_L3_ISGpos_MAIT.h5ad',\n",
       " 'output/diha_celltypist_L3_CD4_MAIT.h5ad',\n",
       " 'output/diha_celltypist_L3_Naive_Vd1_gdT.h5ad',\n",
       " 'output/diha_celltypist_L3_ISGpos_cDC2.h5ad',\n",
       " 'output/diha_celltypist_L3_Core_naive_CD4_T_cell.h5ad',\n",
       " 'output/diha_celltypist_L3_KLRF1neg_GZMBpos_CD27neg_EM_CD8_T_cell.h5ad',\n",
       " 'output/diha_celltypist_L3_Proliferating_T_cell.h5ad',\n",
       " 'output/diha_celltypist_L3_Type_2_polarized_memory_B_cell.h5ad',\n",
       " 'output/diha_celltypist_L3_Plasma_cell.h5ad',\n",
       " 'output/diha_celltypist_L3_CD27pos_effector_B_cell.h5ad',\n",
       " 'output/diha_celltypist_L3_ISGpos_memory_CD4_T_cell.h5ad',\n",
       " 'output/diha_celltypist_L3_KLRB1pos_memory_CD8_Treg.h5ad',\n",
       " 'output/diha_celltypist_L3_Core_naive_B_cell.h5ad',\n",
       " 'output/diha_celltypist_L3_KLRF1neg_effector_Vd1_gdT.h5ad',\n",
       " 'output/diha_celltypist_L3_BaEoMaP_cell.h5ad',\n",
       " 'output/diha_celltypist_L3_CMP_cell.h5ad',\n",
       " 'output/diha_celltypist_L3_pDC.h5ad',\n",
       " 'output/diha_celltypist_L3_Memory_CD4_Treg.h5ad',\n",
       " 'output/diha_celltypist_L3_Adaptive_NK_cell.h5ad',\n",
       " 'output/diha_celltypist_L3_C1Qpos_CD16_monocyte.h5ad',\n",
       " 'output/diha_celltypist_L3_GZMKpos_memory_CD4_Treg.h5ad',\n",
       " 'output/diha_celltypist_L3_Core_memory_B_cell.h5ad',\n",
       " 'output/diha_celltypist_L3_CM_CD4_T_cell.h5ad',\n",
       " 'output/diha_celltypist_L3_GZMBneg_CD27pos_EM_CD4_T_cell.h5ad',\n",
       " 'output/diha_celltypist_L3_ISGpos_naive_CD8_T_cell.h5ad',\n",
       " 'output/diha_celltypist_L3_SOX4pos_naive_CD8_T_cell.h5ad',\n",
       " 'output/diha_celltypist_L3_Core_CD16_monocyte.h5ad',\n",
       " 'output/diha_celltypist_L3_ISGpos_CD56dim_NK_cell.h5ad',\n",
       " 'output/diha_celltypist_L3_IL1Bpos_CD14_monocyte.h5ad',\n",
       " 'output/diha_celltypist_L3_KLRF1neg_GZMBpos_CD27neg_memory_CD4_T_cell.h5ad',\n",
       " 'output/diha_celltypist_L3_CD14pos_cDC2.h5ad',\n",
       " 'output/diha_celltypist_L3_Erythrocyte.h5ad',\n",
       " 'output/diha_celltypist_L3_GZMKpos_CD56dim_NK_cell.h5ad',\n",
       " 'output/diha_celltypist_L3_Core_naive_CD8_T_cell.h5ad',\n",
       " 'output/diha_celltypist_L3_ISGpos_memory_CD8_T_cell.h5ad',\n",
       " 'output/diha_celltypist_L3_ISGpos_naive_CD4_T_cell.h5ad',\n",
       " 'output/diha_celltypist_L3_GZMKneg_CD56dim_NK_cell.h5ad',\n",
       " 'output/diha_celltypist_L3_CM_CD8_T_cell.h5ad',\n",
       " 'output/diha_celltypist_L3_ASDC.h5ad',\n",
       " 'output/diha_celltypist_L3_GZMBpos_Vd2_gdT.h5ad',\n",
       " 'output/diha_celltypist_L3_ISGpos_naive_B_cell.h5ad',\n",
       " 'output/diha_celltypist_L3_CD27neg_effector_B_cell.h5ad',\n",
       " 'output/diha_celltypist_L3_KLRF1pos_GZMBpos_CD27neg_EM_CD8_T_cell.h5ad',\n",
       " 'output/diha_celltypist_L3_Proliferating_NK_cell.h5ad',\n",
       " 'output/diha_celltypist_L3_SOX4pos_Vd1_gdT.h5ad',\n",
       " 'output/diha_celltypist_L3_CD95_memory_B_cell.h5ad',\n",
       " 'output/diha_celltypist_L3_DN_T_cell.h5ad']"
      ]
     },
     "execution_count": 30,
     "metadata": {},
     "output_type": "execute_result"
    }
   ],
   "source": [
    "out_files"
   ]
  },
  {
   "cell_type": "code",
   "execution_count": 31,
   "id": "a62cb962-0358-4725-9358-e8626d8b8faf",
   "metadata": {},
   "outputs": [
    {
     "name": "stdout",
     "output_type": "stream",
     "text": [
      "Cannot determine the current notebook.\n",
      "1) /home/jupyter/IH-A-Aging-Analysis-Notebooks/scrna-seq_analysis/02-reference_labeling/09-Python_partition_L3_data.ipynb\n",
      "2) /home/jupyter/IH-A-Aging-Analysis-Notebooks/scrna-seq_analysis/02-reference_labeling/07a-R_filter_review_plots.ipynb\n",
      "3) /home/jupyter/IH-A-Aging-Analysis-Notebooks/scrna-seq_analysis/02-reference_labeling/07-Python_filter_cell_classes.ipynb\n",
      "Please select (1-3) \n"
     ]
    },
    {
     "name": "stdin",
     "output_type": "stream",
     "text": [
      " 1\n"
     ]
    },
    {
     "name": "stdout",
     "output_type": "stream",
     "text": [
      "you are trying to upload file_ids... ['output/diha_celltypist_L3_GZMKpos_Vd2_gdT.h5ad', 'output/diha_celltypist_L3_GZMKneg_CD27pos_EM_CD8_T_cell.h5ad', 'output/diha_celltypist_L3_Intermediate_monocyte.h5ad', 'output/diha_celltypist_L3_ILC.h5ad', 'output/diha_celltypist_L3_HLAnegDRhi_cDC2.h5ad', 'output/diha_celltypist_L3_Naive_CD4_Treg.h5ad', 'output/diha_celltypist_L3_KLRF1pos_effector_Vd1_gdT.h5ad', 'output/diha_celltypist_L3_GZMKpos_CD27pos_EM_CD8_T_cell.h5ad', 'output/diha_celltypist_L3_Platelet.h5ad', 'output/diha_celltypist_L3_ISGpos_CD14_monocyte.h5ad', 'output/diha_celltypist_L3_Early_memory_B_cell.h5ad', 'output/diha_celltypist_L3_Memory_CD8_Treg.h5ad', 'output/diha_celltypist_L3_Core_CD14_monocyte.h5ad', 'output/diha_celltypist_L3_ISGpos_CD16_monocyte.h5ad', 'output/diha_celltypist_L3_cDC1.h5ad', 'output/diha_celltypist_L3_CD8_MAIT.h5ad', 'output/diha_celltypist_L3_Transitional_B_cell.h5ad', 'output/diha_celltypist_L3_CLP_cell.h5ad', 'output/diha_celltypist_L3_SOX4pos_naive_CD4_T_cell.h5ad', 'output/diha_celltypist_L3_KLRB1pos_memory_CD4_Treg.h5ad', 'output/diha_celltypist_L3_Activated_memory_B_cell.h5ad', 'output/diha_celltypist_L3_CD8aa.h5ad', 'output/diha_celltypist_L3_GZMBneg_CD27neg_EM_CD4_T_cell.h5ad', 'output/diha_celltypist_L3_CD56bright_NK_cell.h5ad', 'output/diha_celltypist_L3_ISGpos_MAIT.h5ad', 'output/diha_celltypist_L3_CD4_MAIT.h5ad', 'output/diha_celltypist_L3_Naive_Vd1_gdT.h5ad', 'output/diha_celltypist_L3_ISGpos_cDC2.h5ad', 'output/diha_celltypist_L3_Core_naive_CD4_T_cell.h5ad', 'output/diha_celltypist_L3_KLRF1neg_GZMBpos_CD27neg_EM_CD8_T_cell.h5ad', 'output/diha_celltypist_L3_Proliferating_T_cell.h5ad', 'output/diha_celltypist_L3_Type_2_polarized_memory_B_cell.h5ad', 'output/diha_celltypist_L3_Plasma_cell.h5ad', 'output/diha_celltypist_L3_CD27pos_effector_B_cell.h5ad', 'output/diha_celltypist_L3_ISGpos_memory_CD4_T_cell.h5ad', 'output/diha_celltypist_L3_KLRB1pos_memory_CD8_Treg.h5ad', 'output/diha_celltypist_L3_Core_naive_B_cell.h5ad', 'output/diha_celltypist_L3_KLRF1neg_effector_Vd1_gdT.h5ad', 'output/diha_celltypist_L3_BaEoMaP_cell.h5ad', 'output/diha_celltypist_L3_CMP_cell.h5ad', 'output/diha_celltypist_L3_pDC.h5ad', 'output/diha_celltypist_L3_Memory_CD4_Treg.h5ad', 'output/diha_celltypist_L3_Adaptive_NK_cell.h5ad', 'output/diha_celltypist_L3_C1Qpos_CD16_monocyte.h5ad', 'output/diha_celltypist_L3_GZMKpos_memory_CD4_Treg.h5ad', 'output/diha_celltypist_L3_Core_memory_B_cell.h5ad', 'output/diha_celltypist_L3_CM_CD4_T_cell.h5ad', 'output/diha_celltypist_L3_GZMBneg_CD27pos_EM_CD4_T_cell.h5ad', 'output/diha_celltypist_L3_ISGpos_naive_CD8_T_cell.h5ad', 'output/diha_celltypist_L3_SOX4pos_naive_CD8_T_cell.h5ad', 'output/diha_celltypist_L3_Core_CD16_monocyte.h5ad', 'output/diha_celltypist_L3_ISGpos_CD56dim_NK_cell.h5ad', 'output/diha_celltypist_L3_IL1Bpos_CD14_monocyte.h5ad', 'output/diha_celltypist_L3_KLRF1neg_GZMBpos_CD27neg_memory_CD4_T_cell.h5ad', 'output/diha_celltypist_L3_CD14pos_cDC2.h5ad', 'output/diha_celltypist_L3_Erythrocyte.h5ad', 'output/diha_celltypist_L3_GZMKpos_CD56dim_NK_cell.h5ad', 'output/diha_celltypist_L3_Core_naive_CD8_T_cell.h5ad', 'output/diha_celltypist_L3_ISGpos_memory_CD8_T_cell.h5ad', 'output/diha_celltypist_L3_ISGpos_naive_CD4_T_cell.h5ad', 'output/diha_celltypist_L3_GZMKneg_CD56dim_NK_cell.h5ad', 'output/diha_celltypist_L3_CM_CD8_T_cell.h5ad', 'output/diha_celltypist_L3_ASDC.h5ad', 'output/diha_celltypist_L3_GZMBpos_Vd2_gdT.h5ad', 'output/diha_celltypist_L3_ISGpos_naive_B_cell.h5ad', 'output/diha_celltypist_L3_CD27neg_effector_B_cell.h5ad', 'output/diha_celltypist_L3_KLRF1pos_GZMBpos_CD27neg_EM_CD8_T_cell.h5ad', 'output/diha_celltypist_L3_Proliferating_NK_cell.h5ad', 'output/diha_celltypist_L3_SOX4pos_Vd1_gdT.h5ad', 'output/diha_celltypist_L3_CD95_memory_B_cell.h5ad', 'output/diha_celltypist_L3_DN_T_cell.h5ad']. Do you truly want to proceed?\n"
     ]
    },
    {
     "name": "stdin",
     "output_type": "stream",
     "text": [
      "(y/n) y\n"
     ]
    },
    {
     "data": {
      "text/plain": [
       "{'trace_id': '50f40bcc-79de-4910-846a-beac19f11799',\n",
       " 'files': ['output/diha_celltypist_L3_GZMKpos_Vd2_gdT.h5ad',\n",
       "  'output/diha_celltypist_L3_GZMKneg_CD27pos_EM_CD8_T_cell.h5ad',\n",
       "  'output/diha_celltypist_L3_Intermediate_monocyte.h5ad',\n",
       "  'output/diha_celltypist_L3_ILC.h5ad',\n",
       "  'output/diha_celltypist_L3_HLAnegDRhi_cDC2.h5ad',\n",
       "  'output/diha_celltypist_L3_Naive_CD4_Treg.h5ad',\n",
       "  'output/diha_celltypist_L3_KLRF1pos_effector_Vd1_gdT.h5ad',\n",
       "  'output/diha_celltypist_L3_GZMKpos_CD27pos_EM_CD8_T_cell.h5ad',\n",
       "  'output/diha_celltypist_L3_Platelet.h5ad',\n",
       "  'output/diha_celltypist_L3_ISGpos_CD14_monocyte.h5ad',\n",
       "  'output/diha_celltypist_L3_Early_memory_B_cell.h5ad',\n",
       "  'output/diha_celltypist_L3_Memory_CD8_Treg.h5ad',\n",
       "  'output/diha_celltypist_L3_Core_CD14_monocyte.h5ad',\n",
       "  'output/diha_celltypist_L3_ISGpos_CD16_monocyte.h5ad',\n",
       "  'output/diha_celltypist_L3_cDC1.h5ad',\n",
       "  'output/diha_celltypist_L3_CD8_MAIT.h5ad',\n",
       "  'output/diha_celltypist_L3_Transitional_B_cell.h5ad',\n",
       "  'output/diha_celltypist_L3_CLP_cell.h5ad',\n",
       "  'output/diha_celltypist_L3_SOX4pos_naive_CD4_T_cell.h5ad',\n",
       "  'output/diha_celltypist_L3_KLRB1pos_memory_CD4_Treg.h5ad',\n",
       "  'output/diha_celltypist_L3_Activated_memory_B_cell.h5ad',\n",
       "  'output/diha_celltypist_L3_CD8aa.h5ad',\n",
       "  'output/diha_celltypist_L3_GZMBneg_CD27neg_EM_CD4_T_cell.h5ad',\n",
       "  'output/diha_celltypist_L3_CD56bright_NK_cell.h5ad',\n",
       "  'output/diha_celltypist_L3_ISGpos_MAIT.h5ad',\n",
       "  'output/diha_celltypist_L3_CD4_MAIT.h5ad',\n",
       "  'output/diha_celltypist_L3_Naive_Vd1_gdT.h5ad',\n",
       "  'output/diha_celltypist_L3_ISGpos_cDC2.h5ad',\n",
       "  'output/diha_celltypist_L3_Core_naive_CD4_T_cell.h5ad',\n",
       "  'output/diha_celltypist_L3_KLRF1neg_GZMBpos_CD27neg_EM_CD8_T_cell.h5ad',\n",
       "  'output/diha_celltypist_L3_Proliferating_T_cell.h5ad',\n",
       "  'output/diha_celltypist_L3_Type_2_polarized_memory_B_cell.h5ad',\n",
       "  'output/diha_celltypist_L3_Plasma_cell.h5ad',\n",
       "  'output/diha_celltypist_L3_CD27pos_effector_B_cell.h5ad',\n",
       "  'output/diha_celltypist_L3_ISGpos_memory_CD4_T_cell.h5ad',\n",
       "  'output/diha_celltypist_L3_KLRB1pos_memory_CD8_Treg.h5ad',\n",
       "  'output/diha_celltypist_L3_Core_naive_B_cell.h5ad',\n",
       "  'output/diha_celltypist_L3_KLRF1neg_effector_Vd1_gdT.h5ad',\n",
       "  'output/diha_celltypist_L3_BaEoMaP_cell.h5ad',\n",
       "  'output/diha_celltypist_L3_CMP_cell.h5ad',\n",
       "  'output/diha_celltypist_L3_pDC.h5ad',\n",
       "  'output/diha_celltypist_L3_Memory_CD4_Treg.h5ad',\n",
       "  'output/diha_celltypist_L3_Adaptive_NK_cell.h5ad',\n",
       "  'output/diha_celltypist_L3_C1Qpos_CD16_monocyte.h5ad',\n",
       "  'output/diha_celltypist_L3_GZMKpos_memory_CD4_Treg.h5ad',\n",
       "  'output/diha_celltypist_L3_Core_memory_B_cell.h5ad',\n",
       "  'output/diha_celltypist_L3_CM_CD4_T_cell.h5ad',\n",
       "  'output/diha_celltypist_L3_GZMBneg_CD27pos_EM_CD4_T_cell.h5ad',\n",
       "  'output/diha_celltypist_L3_ISGpos_naive_CD8_T_cell.h5ad',\n",
       "  'output/diha_celltypist_L3_SOX4pos_naive_CD8_T_cell.h5ad',\n",
       "  'output/diha_celltypist_L3_Core_CD16_monocyte.h5ad',\n",
       "  'output/diha_celltypist_L3_ISGpos_CD56dim_NK_cell.h5ad',\n",
       "  'output/diha_celltypist_L3_IL1Bpos_CD14_monocyte.h5ad',\n",
       "  'output/diha_celltypist_L3_KLRF1neg_GZMBpos_CD27neg_memory_CD4_T_cell.h5ad',\n",
       "  'output/diha_celltypist_L3_CD14pos_cDC2.h5ad',\n",
       "  'output/diha_celltypist_L3_Erythrocyte.h5ad',\n",
       "  'output/diha_celltypist_L3_GZMKpos_CD56dim_NK_cell.h5ad',\n",
       "  'output/diha_celltypist_L3_Core_naive_CD8_T_cell.h5ad',\n",
       "  'output/diha_celltypist_L3_ISGpos_memory_CD8_T_cell.h5ad',\n",
       "  'output/diha_celltypist_L3_ISGpos_naive_CD4_T_cell.h5ad',\n",
       "  'output/diha_celltypist_L3_GZMKneg_CD56dim_NK_cell.h5ad',\n",
       "  'output/diha_celltypist_L3_CM_CD8_T_cell.h5ad',\n",
       "  'output/diha_celltypist_L3_ASDC.h5ad',\n",
       "  'output/diha_celltypist_L3_GZMBpos_Vd2_gdT.h5ad',\n",
       "  'output/diha_celltypist_L3_ISGpos_naive_B_cell.h5ad',\n",
       "  'output/diha_celltypist_L3_CD27neg_effector_B_cell.h5ad',\n",
       "  'output/diha_celltypist_L3_KLRF1pos_GZMBpos_CD27neg_EM_CD8_T_cell.h5ad',\n",
       "  'output/diha_celltypist_L3_Proliferating_NK_cell.h5ad',\n",
       "  'output/diha_celltypist_L3_SOX4pos_Vd1_gdT.h5ad',\n",
       "  'output/diha_celltypist_L3_CD95_memory_B_cell.h5ad',\n",
       "  'output/diha_celltypist_L3_DN_T_cell.h5ad']}"
      ]
     },
     "execution_count": 31,
     "metadata": {},
     "output_type": "execute_result"
    }
   ],
   "source": [
    "hisepy.upload.upload_files(\n",
    "    files = out_files,\n",
    "    study_space_id = study_space_uuid,\n",
    "    title = title,\n",
    "    input_file_ids = in_files,\n",
    "    destination = search_id\n",
    ")"
   ]
  },
  {
   "cell_type": "code",
   "execution_count": 32,
   "id": "a5e2c4c1-4d18-46d2-aeb1-c73ff27a6a70",
   "metadata": {},
   "outputs": [
    {
     "data": {
      "text/html": [
       "<details>\n",
       "<summary>Click to view session information</summary>\n",
       "<pre>\n",
       "-----\n",
       "anndata             0.10.3\n",
       "hisepy              0.3.0\n",
       "pandas              2.1.4\n",
       "scanpy              1.9.6\n",
       "session_info        1.0.0\n",
       "-----\n",
       "</pre>\n",
       "<details>\n",
       "<summary>Click to view modules imported as dependencies</summary>\n",
       "<pre>\n",
       "PIL                         10.0.1\n",
       "anyio                       NA\n",
       "arrow                       1.3.0\n",
       "asttokens                   NA\n",
       "attr                        23.2.0\n",
       "attrs                       23.2.0\n",
       "babel                       2.14.0\n",
       "beatrix_jupyterlab          NA\n",
       "brotli                      NA\n",
       "cachetools                  5.3.1\n",
       "certifi                     2024.02.02\n",
       "cffi                        1.16.0\n",
       "charset_normalizer          3.3.2\n",
       "cloudpickle                 2.2.1\n",
       "colorama                    0.4.6\n",
       "comm                        0.1.4\n",
       "cryptography                41.0.7\n",
       "cycler                      0.10.0\n",
       "cython_runtime              NA\n",
       "dateutil                    2.8.2\n",
       "db_dtypes                   1.1.1\n",
       "debugpy                     1.8.0\n",
       "decorator                   5.1.1\n",
       "defusedxml                  0.7.1\n",
       "deprecated                  1.2.14\n",
       "exceptiongroup              1.2.0\n",
       "executing                   2.0.1\n",
       "fastjsonschema              NA\n",
       "fqdn                        NA\n",
       "google                      NA\n",
       "greenlet                    2.0.2\n",
       "grpc                        1.58.0\n",
       "grpc_status                 NA\n",
       "h5py                        3.10.0\n",
       "idna                        3.6\n",
       "igraph                      0.10.8\n",
       "importlib_metadata          NA\n",
       "ipykernel                   6.28.0\n",
       "ipython_genutils            0.2.0\n",
       "ipywidgets                  8.1.1\n",
       "isoduration                 NA\n",
       "jedi                        0.19.1\n",
       "jinja2                      3.1.2\n",
       "joblib                      1.3.2\n",
       "json5                       NA\n",
       "jsonpointer                 2.4\n",
       "jsonschema                  4.20.0\n",
       "jsonschema_specifications   NA\n",
       "jupyter_events              0.9.0\n",
       "jupyter_server              2.12.1\n",
       "jupyterlab_server           2.25.2\n",
       "jwt                         2.8.0\n",
       "kiwisolver                  1.4.5\n",
       "leidenalg                   0.10.1\n",
       "llvmlite                    0.41.0\n",
       "lz4                         4.3.2\n",
       "markupsafe                  2.1.3\n",
       "matplotlib                  3.8.0\n",
       "matplotlib_inline           0.1.6\n",
       "mpl_toolkits                NA\n",
       "mpmath                      1.3.0\n",
       "natsort                     8.4.0\n",
       "nbformat                    5.9.2\n",
       "numba                       0.58.0\n",
       "numpy                       1.24.0\n",
       "opentelemetry               NA\n",
       "overrides                   NA\n",
       "packaging                   23.2\n",
       "parso                       0.8.3\n",
       "periodictable               1.5.2\n",
       "pexpect                     4.8.0\n",
       "pickleshare                 0.7.5\n",
       "pkg_resources               NA\n",
       "platformdirs                4.1.0\n",
       "plotly                      5.18.0\n",
       "prettytable                 3.9.0\n",
       "prometheus_client           NA\n",
       "prompt_toolkit              3.0.42\n",
       "proto                       NA\n",
       "psutil                      NA\n",
       "ptyprocess                  0.7.0\n",
       "pure_eval                   0.2.2\n",
       "pyarrow                     13.0.0\n",
       "pydev_ipython               NA\n",
       "pydevconsole                NA\n",
       "pydevd                      2.9.5\n",
       "pydevd_file_utils           NA\n",
       "pydevd_plugins              NA\n",
       "pydevd_tracing              NA\n",
       "pygments                    2.17.2\n",
       "pynvml                      NA\n",
       "pyparsing                   3.1.1\n",
       "pyreadr                     0.5.0\n",
       "pythonjsonlogger            NA\n",
       "pytz                        2023.3.post1\n",
       "referencing                 NA\n",
       "requests                    2.31.0\n",
       "rfc3339_validator           0.1.4\n",
       "rfc3986_validator           0.1.1\n",
       "rpds                        NA\n",
       "scipy                       1.11.4\n",
       "send2trash                  NA\n",
       "shapely                     1.8.5.post1\n",
       "six                         1.16.0\n",
       "sklearn                     1.3.2\n",
       "sniffio                     1.3.0\n",
       "socks                       1.7.1\n",
       "sql                         NA\n",
       "sqlalchemy                  2.0.21\n",
       "sqlparse                    0.4.4\n",
       "stack_data                  0.6.2\n",
       "sympy                       1.12\n",
       "termcolor                   NA\n",
       "texttable                   1.7.0\n",
       "threadpoolctl               3.2.0\n",
       "torch                       2.1.2+cu121\n",
       "torchgen                    NA\n",
       "tornado                     6.3.3\n",
       "tqdm                        4.66.1\n",
       "traitlets                   5.9.0\n",
       "typing_extensions           NA\n",
       "uri_template                NA\n",
       "urllib3                     1.26.18\n",
       "wcwidth                     0.2.12\n",
       "webcolors                   1.13\n",
       "websocket                   1.7.0\n",
       "wrapt                       1.15.0\n",
       "xarray                      2023.12.0\n",
       "yaml                        6.0.1\n",
       "zipp                        NA\n",
       "zmq                         25.1.2\n",
       "zoneinfo                    NA\n",
       "</pre>\n",
       "</details> <!-- seems like this ends pre, so might as well be explicit -->\n",
       "<pre>\n",
       "-----\n",
       "IPython             8.19.0\n",
       "jupyter_client      8.6.0\n",
       "jupyter_core        5.6.1\n",
       "jupyterlab          4.1.5\n",
       "notebook            6.5.4\n",
       "-----\n",
       "Python 3.10.13 | packaged by conda-forge | (main, Dec 23 2023, 15:36:39) [GCC 12.3.0]\n",
       "Linux-5.15.0-1042-gcp-x86_64-with-glibc2.31\n",
       "-----\n",
       "Session information updated at 2024-04-21 15:07\n",
       "</pre>\n",
       "</details>"
      ],
      "text/plain": [
       "<IPython.core.display.HTML object>"
      ]
     },
     "execution_count": 32,
     "metadata": {},
     "output_type": "execute_result"
    }
   ],
   "source": [
    "import session_info\n",
    "session_info.show()"
   ]
  },
  {
   "cell_type": "code",
   "execution_count": null,
   "id": "6efcc3a7-4330-4337-9aae-2f0d9c4550cf",
   "metadata": {},
   "outputs": [],
   "source": []
  }
 ],
 "metadata": {
  "kernelspec": {
   "display_name": "Python 3 (ipykernel)",
   "language": "python",
   "name": "python3"
  },
  "language_info": {
   "codemirror_mode": {
    "name": "ipython",
    "version": 3
   },
   "file_extension": ".py",
   "mimetype": "text/x-python",
   "name": "python",
   "nbconvert_exporter": "python",
   "pygments_lexer": "ipython3",
   "version": "3.10.13"
  }
 },
 "nbformat": 4,
 "nbformat_minor": 5
}
