{
 "cells": [
  {
   "cell_type": "markdown",
   "id": "86af6251-cc7e-4d4a-8d1a-a461a73cf495",
   "metadata": {},
   "source": [
    "# Refine labels for NK cells\n",
    "\n",
    "In this notebook, we load all CD56dim and CD56bright NK cells across our subjects to refine final L3 labels. We'll combine, recluster, and assign final labels by taking the most frequent AIFI_L3 label in each cluster, and back-propogate those L3 labels to L2 and L1 based on our cell type hierarcy.\n",
    "\n",
    "We'll also generate metadata, UMAP coordinates, and marker gene summaries for review of our final labels, then store all of the outputs in HISE for later use.\n",
    "\n",
    "Because there are many NK cells, we'll divide them into smaller subsets based on cohort, sex, and visit grouping (defined below). Unlike some other cell types, we'll combine CMV-positive and CMV-negative samples to enhance our ability to detect CMV-responsive populations. We'll then review each subset and assemble all labeled data in later notebooks."
   ]
  },
  {
   "cell_type": "markdown",
   "id": "1ffa2bfa-e610-421d-b2b0-3ed50ebdc80f",
   "metadata": {},
   "source": [
    "## Load packages"
   ]
  },
  {
   "cell_type": "code",
   "execution_count": 1,
   "id": "000b6f3a-eca7-45e7-b4dc-fb243161dab2",
   "metadata": {},
   "outputs": [],
   "source": [
    "import warnings\n",
    "warnings.simplefilter(action='ignore', category=FutureWarning)\n",
    "warnings.simplefilter(action='ignore', category=RuntimeWarning)\n",
    "\n",
    "import concurrent.futures\n",
    "from concurrent.futures import ThreadPoolExecutor\n",
    "from datetime import date\n",
    "import hisepy\n",
    "import os\n",
    "import pandas as pd\n",
    "import scanpy as sc\n",
    "import scanpy.external as sce\n",
    "import tarfile"
   ]
  },
  {
   "cell_type": "code",
   "execution_count": 2,
   "id": "7d376874-6e42-477d-b4e4-166acfdd448a",
   "metadata": {
    "tags": []
   },
   "outputs": [],
   "source": [
    "out_dir = 'output'\n",
    "if not os.path.isdir(out_dir):\n",
    "    os.makedirs(out_dir)"
   ]
  },
  {
   "cell_type": "code",
   "execution_count": 3,
   "id": "0981e900-aa42-49a4-b46b-94c9b2315b13",
   "metadata": {},
   "outputs": [],
   "source": [
    "class_name = 'nk_cell'"
   ]
  },
  {
   "cell_type": "markdown",
   "id": "c962b69c-cdff-4d2a-8583-fd0fe04e0abb",
   "metadata": {},
   "source": [
    "## Helper functions\n",
    "\n",
    "### HISE data\n",
    "These functions make it easy to utilize files from the HISE cache"
   ]
  },
  {
   "cell_type": "code",
   "execution_count": 4,
   "id": "179c2eec-0c87-44b7-b5af-3e3c98e553d7",
   "metadata": {},
   "outputs": [],
   "source": [
    "def cache_uuid_path(uuid):\n",
    "    cache_path = '/home/jupyter/cache/{u}'.format(u = uuid)\n",
    "    if not os.path.isdir(cache_path):\n",
    "        hise_res = hisepy.reader.cache_files([uuid])\n",
    "    filename = os.listdir(cache_path)[0]\n",
    "    cache_file = '{p}/{f}'.format(p = cache_path, f = filename)\n",
    "    return cache_file"
   ]
  },
  {
   "cell_type": "code",
   "execution_count": 5,
   "id": "b81455f5-8d6a-4209-a720-5d5a0bbcca77",
   "metadata": {},
   "outputs": [],
   "source": [
    "def read_csv_uuid(uuid):\n",
    "    cache_file = cache_uuid_path(uuid)\n",
    "    res = pd.read_csv(cache_file)\n",
    "    return res"
   ]
  },
  {
   "cell_type": "code",
   "execution_count": 6,
   "id": "424b9fca-65a6-460a-8398-8ed62aaba8fc",
   "metadata": {},
   "outputs": [],
   "source": [
    "def read_adata_uuid(uuid):\n",
    "    cache_file = cache_uuid_path(uuid)\n",
    "    res = sc.read_h5ad(cache_file)\n",
    "    return res"
   ]
  },
  {
   "cell_type": "code",
   "execution_count": 7,
   "id": "575db30e-ca07-43e1-a715-4581cf7437cc",
   "metadata": {},
   "outputs": [],
   "source": [
    "def read_obs_uuid(uuid):\n",
    "    cache_file = cache_uuid_path(uuid)\n",
    "    res = sc.read_h5ad(cache_file, backed = 'r')\n",
    "    obs = res.obs.copy()\n",
    "    return obs"
   ]
  },
  {
   "cell_type": "markdown",
   "id": "2ed774c3-51b8-4e91-8197-554820656880",
   "metadata": {},
   "source": [
    "### Label refinement"
   ]
  },
  {
   "cell_type": "markdown",
   "id": "c4c6a76f-981e-4aef-80fa-94b11edd2521",
   "metadata": {},
   "source": [
    "This function uses the most frequent label within each cluster to refine label assignments."
   ]
  },
  {
   "cell_type": "code",
   "execution_count": 8,
   "id": "591f9f60-4ddc-4773-9033-1ab4ee38972f",
   "metadata": {},
   "outputs": [],
   "source": [
    "def single_value(series):\n",
    "    res = []\n",
    "    for value in series:\n",
    "        if isinstance(value, list):\n",
    "            res.append(value[0])\n",
    "        else:\n",
    "            res.append(value)\n",
    "    return res"
   ]
  },
  {
   "cell_type": "code",
   "execution_count": 9,
   "id": "2a2eb455-bbdc-4aaf-ac25-33458f2032ac",
   "metadata": {},
   "outputs": [],
   "source": [
    "def assign_most_frequent(adata, clusters, labels, keep_original = False, original_prefix = 'predicted_'):\n",
    "    obs = adata.obs\n",
    "    \n",
    "    most_frequent_labels = (\n",
    "        adata.obs\n",
    "        .groupby(clusters)[labels]\n",
    "        .agg(pd.Series.mode)\n",
    "        .to_frame()\n",
    "        .reset_index()\n",
    "    )\n",
    "    most_frequent_labels[labels] = single_value(most_frequent_labels[labels])\n",
    "    \n",
    "    if keep_original:\n",
    "        obs = obs.rename({labels: original_prefix + labels}, axis = 1)\n",
    "    else:\n",
    "        obs = obs.drop(labels, axis = 1)\n",
    "    \n",
    "    obs = obs.merge(most_frequent_labels, on = clusters, how = 'left')\n",
    "    \n",
    "    adata.obs = obs\n",
    "    \n",
    "    return adata"
   ]
  },
  {
   "cell_type": "markdown",
   "id": "7687517a-8989-4a8b-bc64-d6486c86e3da",
   "metadata": {},
   "source": [
    "This function back-propagates hierarchical labeling from AIFI_L3 back to AIFI_L2 and AIFI_L1 to ensure our labels agree across levels of our cell type hierarchy."
   ]
  },
  {
   "cell_type": "code",
   "execution_count": 10,
   "id": "62e9797d-5ea4-44c8-af62-65937243017a",
   "metadata": {},
   "outputs": [],
   "source": [
    "def propagate_hierarchy(\n",
    "    adata,\n",
    "    hierarchy_df,\n",
    "    from_level = 'AIFI_L3',\n",
    "    to_levels = ['AIFI_L2', 'AIFI_L1'],\n",
    "    keep_original = True,\n",
    "    original_prefix = 'predicted_'\n",
    "):\n",
    "    obs = adata.obs\n",
    "    \n",
    "    for to_level in to_levels:\n",
    "        prop_df = hierarchy_df[[from_level, to_level]]\n",
    "        prop_df = prop_df.drop_duplicates()\n",
    "        \n",
    "        if keep_original:\n",
    "            obs = obs.rename({to_level: original_prefix + to_level}, axis = 1)\n",
    "        else:\n",
    "            obs = obs.drop(to_level, axis = 1)\n",
    "\n",
    "        obs[from_level] = obs[from_level].astype(str)\n",
    "        obs = obs.merge(prop_df, on = from_level, how = 'left')\n",
    "        obs[from_level] = obs[from_level].astype('category')\n",
    "        obs[to_level] = obs[to_level].astype('category')\n",
    "    \n",
    "    adata.obs = obs\n",
    "\n",
    "    return adata"
   ]
  },
  {
   "cell_type": "markdown",
   "id": "7d5bbf44-89b2-4613-ba3d-b05748168d4f",
   "metadata": {},
   "source": [
    "### Review outputs\n",
    "\n",
    "These functions are used to assemble marker gene expression tables for review"
   ]
  },
  {
   "cell_type": "code",
   "execution_count": 11,
   "id": "193f97f1-8ef0-4bac-9e95-6256fc34f72e",
   "metadata": {},
   "outputs": [],
   "source": [
    "def marker_frac_df(adata, markers, clusters = 'louvain_2'):\n",
    "    gene_cl_frac = sc.pl.dotplot(\n",
    "        adata, \n",
    "        groupby = clusters,\n",
    "        var_names = markers,\n",
    "        return_fig = True\n",
    "    ).dot_size_df\n",
    "    return gene_cl_frac\n",
    "\n",
    "def marker_mean_df(adata, markers, log = False, clusters = 'louvain_2'):\n",
    "    gene_cl_mean = sc.pl.dotplot(\n",
    "        adata, \n",
    "        groupby = clusters,\n",
    "        var_names = markers,\n",
    "        return_fig = True,\n",
    "        log = log\n",
    "    ).dot_color_df\n",
    "    \n",
    "    return gene_cl_mean\n",
    "\n",
    "def tidy_marker_df(adata, markers, clusters = 'louvain_2'):\n",
    "    gene_cl_frac = marker_frac_df(adata, markers, clusters)\n",
    "    gene_cl_frac = gene_cl_frac.reset_index(drop = False)\n",
    "    gene_cl_frac = pd.melt(gene_cl_frac, id_vars = clusters, var_name = 'gene', value_name = 'gene_frac')\n",
    "    \n",
    "    gene_cl_mean = marker_mean_df(adata, markers, log = False, clusters = clusters)\n",
    "    gene_cl_mean = gene_cl_mean.reset_index(drop = False)\n",
    "    gene_cl_mean = pd.melt(gene_cl_mean, id_vars = clusters, var_name = 'gene', value_name = 'gene_mean')\n",
    "\n",
    "    marker_df = gene_cl_frac.merge(gene_cl_mean, on = [clusters, 'gene'], how = 'left')\n",
    "    return marker_df"
   ]
  },
  {
   "cell_type": "markdown",
   "id": "e0103038-8d60-4a00-99ac-83cbd992b354",
   "metadata": {},
   "source": [
    "This function retrieves both observations and UMAP coordinates in a single table for review."
   ]
  },
  {
   "cell_type": "code",
   "execution_count": 12,
   "id": "e3eedcf4-315a-4f6a-aa20-24e362a2e872",
   "metadata": {},
   "outputs": [],
   "source": [
    "def obs_with_umap(adata):\n",
    "    obs = adata.obs\n",
    "    \n",
    "    umap_mat = adata.obsm['X_umap']\n",
    "    umap_df = pd.DataFrame(umap_mat, columns = ['umap_1', 'umap_2'])\n",
    "    obs['umap_1'] = umap_df['umap_1']\n",
    "    obs['umap_2'] = umap_df['umap_2']\n",
    "\n",
    "    return obs"
   ]
  },
  {
   "cell_type": "markdown",
   "id": "299e5204-2799-4d3f-bc95-93308211be3c",
   "metadata": {},
   "source": [
    "This function applies data analysis methods to our scRNA-seq data, including normalization, HVG selection, PCA, nearest neighbors, UMAP, and Leiden clustering."
   ]
  },
  {
   "cell_type": "code",
   "execution_count": 13,
   "id": "82cae1fb-e61c-46b4-b4cf-731aa85709ac",
   "metadata": {},
   "outputs": [],
   "source": [
    "def process_adata(adata):\n",
    "    \n",
    "    # Keep a copy of the raw data\n",
    "    adata = adata.raw.to_adata()\n",
    "    adata.raw = adata\n",
    "\n",
    "    print('Normalizing', end = \"; \")\n",
    "    # Normalize and log transform\n",
    "    sc.pp.normalize_total(adata)\n",
    "    sc.pp.log1p(adata)\n",
    "\n",
    "    print('Finding HVGs', end = \"; \")\n",
    "    # Restrict downstream steps to variable genes\n",
    "    sc.pp.highly_variable_genes(adata)\n",
    "    adata = adata[:, adata.var_names[adata.var['highly_variable']]].copy()\n",
    "\n",
    "    print('Scaling', end = \"; \")\n",
    "    # Scale variable genes\n",
    "    sc.pp.scale(adata)\n",
    "\n",
    "    print('PCA', end = \"; \")\n",
    "    # Run PCA\n",
    "    sc.tl.pca(adata, svd_solver = 'arpack')\n",
    "\n",
    "    print('Harmony', end = \"; \")\n",
    "    # Integrate subjects\n",
    "    sce.pp.harmony_integrate(\n",
    "        adata, \n",
    "        'subject.subjectGuid',\n",
    "        max_iter_harmony = 30,\n",
    "        verbose = False\n",
    "    )\n",
    "    \n",
    "    print('Neighbors', end = \"; \")\n",
    "    # Find nearest neighbors\n",
    "    sc.pp.neighbors(\n",
    "        adata, \n",
    "        n_neighbors = 50,\n",
    "        n_pcs = 30,\n",
    "        use_rep = 'X_pca_harmony'\n",
    "    )\n",
    "\n",
    "    print('Leiden', end = \"; \")\n",
    "    # Find clusters\n",
    "    sc.tl.leiden(\n",
    "        adata, \n",
    "        resolution = 2, \n",
    "        key_added = 'leiden_2',\n",
    "        n_iterations = 2\n",
    "    )\n",
    "\n",
    "    print('UMAP', end = \"; \")\n",
    "    # Run UMAP\n",
    "    sc.tl.umap(adata, min_dist = 0.05)\n",
    "    \n",
    "    print('Renormalizing')\n",
    "    adata = adata.raw.to_adata()\n",
    "    adata.raw = adata\n",
    "\n",
    "    # Normalize and log transform\n",
    "    sc.pp.normalize_total(adata)\n",
    "    sc.pp.log1p(adata)\n",
    "    \n",
    "    return adata"
   ]
  },
  {
   "cell_type": "markdown",
   "id": "d178b680-9f7b-4738-996f-450da67596f8",
   "metadata": {},
   "source": [
    "## Cell Type Markers\n",
    "\n",
    "These are the set of marker genes that we'll use to review our cell type labels."
   ]
  },
  {
   "cell_type": "code",
   "execution_count": 14,
   "id": "9d3e3612-71ea-45b4-955f-dbf347d43e3e",
   "metadata": {},
   "outputs": [],
   "source": [
    "l2_markers = [\n",
    "    'FCGR3A', 'MKI67', 'NCAM1'\n",
    "]\n",
    "\n",
    "l3_markers = [\n",
    "    'FCER1G', 'FCGR3A', 'GZMK', 'KLRC2',\n",
    "    'MKI67', 'MX1', 'NCAM1', 'ZBTB16'\n",
    "]"
   ]
  },
  {
   "cell_type": "markdown",
   "id": "cf844cd4-1d87-4976-ab66-37bd0d6f3448",
   "metadata": {},
   "source": [
    "## Read cell type hierarchy from HISE\n",
    "\n",
    "As part of label refinement, we'll back-propagate our cell type labels from refined AIFI_L3 labels to their parent cell classes at AIFI_L2 and AIFI_L1. To do this, we need the hierarchical relationships between these levels, which have been generated for our cell type reference dataset."
   ]
  },
  {
   "cell_type": "code",
   "execution_count": 15,
   "id": "ae058202-fa22-498b-8a19-d1642a2a1927",
   "metadata": {},
   "outputs": [],
   "source": [
    "hierarchy_uuid = '1a44252c-8cab-4c8f-92c9-d8f3af633790'\n",
    "hierarchy_df = read_csv_uuid(hierarchy_uuid)"
   ]
  },
  {
   "cell_type": "markdown",
   "id": "c4358363-230f-4f9a-84ee-015f2afde17c",
   "metadata": {},
   "source": [
    "## Read sample metadata from HISE\n",
    "\n",
    "We previously assembled sample metadata and CMV status for each subject. We'll retrieve and combine these to utilize for selecting subsets of samples."
   ]
  },
  {
   "cell_type": "code",
   "execution_count": 16,
   "id": "6043927e-9f27-4f1d-977d-cfe1217f04f1",
   "metadata": {},
   "outputs": [],
   "source": [
    "sample_meta_uuid = 'd82c5c42-ae5f-4e67-956e-cd3b7bf88105'\n",
    "sample_meta = read_csv_uuid(sample_meta_uuid)"
   ]
  },
  {
   "cell_type": "code",
   "execution_count": 17,
   "id": "ea5c41ae-ef7f-406f-81e4-42bad6f4b4fb",
   "metadata": {},
   "outputs": [
    {
     "data": {
      "text/plain": [
       "(868, 32)"
      ]
     },
     "execution_count": 17,
     "metadata": {},
     "output_type": "execute_result"
    }
   ],
   "source": [
    "sample_meta.shape"
   ]
  },
  {
   "cell_type": "code",
   "execution_count": 18,
   "id": "86b89877-28db-4868-a829-54bf4cd15ec8",
   "metadata": {},
   "outputs": [],
   "source": [
    "cmv_meta_uuid = '9469f67c-b09a-454d-9fb9-f50ff3494d69'\n",
    "cmv_path = cache_uuid_path(cmv_meta_uuid)\n",
    "cmv_meta = pd.read_csv(cmv_path, index_col = 0)\n",
    "cmv_meta = cmv_meta.drop_duplicates()"
   ]
  },
  {
   "cell_type": "code",
   "execution_count": 19,
   "id": "2d6bf25d-0ef5-41cc-8fec-52c6d6d48cc5",
   "metadata": {},
   "outputs": [
    {
     "data": {
      "text/plain": [
       "(96, 4)"
      ]
     },
     "execution_count": 19,
     "metadata": {},
     "output_type": "execute_result"
    }
   ],
   "source": [
    "cmv_meta.shape"
   ]
  },
  {
   "cell_type": "code",
   "execution_count": 20,
   "id": "a933a862-65de-4f6c-9b3f-153212a58fdc",
   "metadata": {},
   "outputs": [],
   "source": [
    "sample_meta = sample_meta.merge(cmv_meta, on = 'subject.subjectGuid', how = 'left')"
   ]
  },
  {
   "cell_type": "code",
   "execution_count": 21,
   "id": "9b5ac3c1-c809-4cf1-a494-df997d72e2f4",
   "metadata": {},
   "outputs": [
    {
     "data": {
      "text/plain": [
       "(868, 35)"
      ]
     },
     "execution_count": 21,
     "metadata": {},
     "output_type": "execute_result"
    }
   ],
   "source": [
    "sample_meta.shape"
   ]
  },
  {
   "cell_type": "markdown",
   "id": "8f7e9e8d-5c24-40ae-b08e-7ad57ac3b68c",
   "metadata": {},
   "source": [
    "## Assign sample groups\n",
    "\n",
    "To subdivide the full set of cells, we'll use groups that include cohort, sex, and a subset of visits. To group our visit data, we'll define 3 visit groups, and use those together with the other metadata to group samples."
   ]
  },
  {
   "cell_type": "code",
   "execution_count": 22,
   "id": "dcdfd1b9-a653-4205-9607-cb0e1432317b",
   "metadata": {},
   "outputs": [],
   "source": [
    "visit_group_dict = {\n",
    "    'Flu Year 1 Day 0': 'Year 1',\n",
    "    'Flu Year 1 Day 7': 'Year 1',\n",
    "    'Flu Year 1 Day 90': 'Year 1',\n",
    "    'Flu Year 1 Stand-Alone': 'Year 1',\n",
    "    'Flu Year 2 Day 0': 'Year 2',\n",
    "    'Flu Year 2 Day 7': 'Year 2',\n",
    "    'Flu Year 2 Day 90': 'Year 2',\n",
    "    'Flu Year 2 Stand-Alone': 'Year 2',\n",
    "    'Immune Variation Day 0': 'Immune Variation',\n",
    "    'Immune Variation Day 7': 'Immune Variation',\n",
    "    'Immune Variation Day 90': 'Immune Variation',\n",
    "    'Flu Year 3 Stand-Alone': 'Immune Variation',\n",
    "}"
   ]
  },
  {
   "cell_type": "code",
   "execution_count": 23,
   "id": "b4de2bf4-3cf3-4d33-aadb-a5a68d24dacb",
   "metadata": {},
   "outputs": [],
   "source": [
    "visit_groups = list(set(visit_group_dict.values()))"
   ]
  },
  {
   "cell_type": "code",
   "execution_count": 24,
   "id": "6e77b304-d4fc-40cd-aa01-9bc9e8f89d62",
   "metadata": {},
   "outputs": [],
   "source": [
    "sample_meta['sample.visitGroup'] = [visit_group_dict[v] for v in sample_meta['sample.visitName']]"
   ]
  },
  {
   "cell_type": "code",
   "execution_count": 25,
   "id": "35d82a91-c88b-44fc-93a2-205a2c4bff77",
   "metadata": {},
   "outputs": [],
   "source": [
    "group_samples_by = ['cohort.cohortGuid', 'subject.biologicalSex']"
   ]
  },
  {
   "cell_type": "code",
   "execution_count": 26,
   "id": "e0fd1ac6-de8b-4558-9be5-9e31f6dca088",
   "metadata": {},
   "outputs": [],
   "source": [
    "grouped_meta = sample_meta.groupby(group_samples_by)"
   ]
  },
  {
   "cell_type": "code",
   "execution_count": 27,
   "id": "d3588ade-f2c8-4396-a68c-0eb307fdd247",
   "metadata": {},
   "outputs": [],
   "source": [
    "split_meta = {}\n",
    "for group_tuple, meta in grouped_meta:\n",
    "    split_name = '_'.join(group_tuple)\n",
    "    split_meta[split_name] = meta"
   ]
  },
  {
   "cell_type": "markdown",
   "id": "2ea87d60-a7e5-4c93-b393-d00a14ca09a2",
   "metadata": {},
   "source": [
    "## Identify files in HISE\n",
    "\n",
    "For this analysis, we'll read in these files from HISE storage from previous steps. We'll group these into \"large\" files, which are from the set of 5 very large cell type assignments, and \"small\" files, which are from other cell types."
   ]
  },
  {
   "cell_type": "code",
   "execution_count": 28,
   "id": "cc9e6bd0-d52f-4ad2-8aba-cc80a0516a94",
   "metadata": {},
   "outputs": [],
   "source": [
    "large_uuids = {\n",
    "    'BR1_Female': {\n",
    "        'BR1_Female_Negative_CD56dim-NK-cell': 'd35f90dd-1ce4-4743-b07f-d13caa6b271e',\n",
    "        'BR1_Female_Positive_CD56dim-NK-cell': '994c0e01-c7a5-4533-bc55-dab04f880ae7'\n",
    "    },\n",
    "    'BR1_Male': {\n",
    "        'BR1_Male_Negative_CD56dim-NK-cell': '40516b72-5052-49b1-97df-8821d52d7893',\n",
    "        'BR1_Male_Positive_CD56dim-NK-cell': '08411747-d5a1-4d81-8b82-6e64f18f497b'\n",
    "    },\n",
    "    'BR2_Female': {\n",
    "        'BR2_Female_Negative_CD56dim-NK-cell': 'cbd07e76-7365-402f-bf5a-dae364bf6084',\n",
    "        'BR2_Female_Positive_CD56dim-NK-cell': 'd0ffe8cf-cdc4-4890-a9d1-665437a9bc25'\n",
    "    },\n",
    "    'BR2_Male': {\n",
    "        'BR2_Male_Negative_CD56dim-NK-cell': '1b839052-9906-41f6-b50a-41cbac1b2948',\n",
    "        'BR2_Male_Positive_CD56dim-NK-cell': 'aa29462f-f39b-43b7-93fc-df475ccf94d6'\n",
    "    }\n",
    "}\n",
    "small_uuids = {\n",
    "    'CD56bright-NK-cell': '313e5417-1996-4592-86e7-9d3f5604fdc7'\n",
    "}"
   ]
  },
  {
   "cell_type": "markdown",
   "id": "ff0b394b-5084-4acb-b55a-150be76e936e",
   "metadata": {},
   "source": [
    "## Read data from small sets\n",
    "\n",
    "Now, we can read in the data from small sets to memory so that splitting them up for analysis is more efficient.\n",
    "\n",
    "For large sets, we'll read files in selectively based on their metadata group to limit the amount of memory we utilize."
   ]
  },
  {
   "cell_type": "code",
   "execution_count": 29,
   "id": "67ac595f-29c2-4276-9f04-4bea3fdb3cc5",
   "metadata": {},
   "outputs": [],
   "source": [
    "small_adata_dict = {}\n",
    "for group_name, uuid in small_uuids.items():\n",
    "    small_adata_dict[group_name] = read_adata_uuid(uuid)"
   ]
  },
  {
   "cell_type": "code",
   "execution_count": 30,
   "id": "ffd1d0ea-c424-4483-b789-5bda950248aa",
   "metadata": {},
   "outputs": [],
   "source": [
    "small_adata = sc.concat(small_adata_dict)"
   ]
  },
  {
   "cell_type": "code",
   "execution_count": 31,
   "id": "a5a6f2f6-a248-4e5c-86b9-ac9166779fd5",
   "metadata": {},
   "outputs": [],
   "source": [
    "small_group_adata = {}\n",
    "for grouping, meta in split_meta.items():\n",
    "    keep_cells = small_adata.obs['sample.sampleKitGuid'].isin(meta['sample.sampleKitGuid'])\n",
    "    group_adata = small_adata[keep_cells]\n",
    "    small_group_adata[grouping] = group_adata"
   ]
  },
  {
   "cell_type": "code",
   "execution_count": 32,
   "id": "0382b515-ed2d-452f-8329-a298c44de0bc",
   "metadata": {},
   "outputs": [],
   "source": [
    "del small_adata"
   ]
  },
  {
   "cell_type": "markdown",
   "id": "f07f702f-1c4c-43dc-bc7e-e80091e33296",
   "metadata": {},
   "source": [
    "## Read and process data per group\n",
    "\n",
    "Here, we'll step through each group based on cohort, sex, and CMV, assemble all related data across our selected files for this cell type, then split the results back out to multiple files based on the Visit Groups defined above.\n",
    "\n",
    "This way, we can combine across L2 cell classes without generating enormous datasets (almost 6M cells for CD4 T cells alone, for example).\n",
    "\n",
    "Once split up, we'll reprocess each subset of data to generate nice clusters and UMAP projections, then refine L3 cell type labels by taking the most frequent label within each cluster. After refining labels, we'll propagate labels back to L2 and L1 so they're consistent.\n",
    "\n",
    "Finally, we'll output these refined results per group, as well as a .csv file with updated labels to enable review of our analysis."
   ]
  },
  {
   "cell_type": "code",
   "execution_count": 33,
   "id": "f41950a6-a302-430e-98e8-0eabe91ec7ef",
   "metadata": {},
   "outputs": [
    {
     "name": "stdout",
     "output_type": "stream",
     "text": [
      "BR1_Female\n",
      "BR1_Female Previously processed. Skipping.\n",
      "BR1_Male\n",
      "BR1_Male Previously processed. Skipping.\n",
      "BR2_Female\n",
      "BR2_Female Previously processed. Skipping.\n",
      "BR2_Male\n",
      "BR2_Male Previously processed. Skipping.\n"
     ]
    }
   ],
   "source": [
    "for grouping, meta in split_meta.items():\n",
    "    print(grouping)\n",
    "\n",
    "    # Check if output files have been generated previously\n",
    "    out_files = {}\n",
    "    out_exists = []\n",
    "    for visit_group in visit_groups:\n",
    "        out_file = 'output/diha_{c}_{g}_{v}_AIFI_L3_review_{d}.h5ad'.format(\n",
    "            c = class_name,\n",
    "            g = grouping,\n",
    "            v = visit_group,\n",
    "            d = date.today()\n",
    "        )\n",
    "        out_files[visit_group] = [out_file]\n",
    "        out_exists.append(os.path.isfile(out_file))\n",
    "    \n",
    "    if sum(out_exists) == len(visit_groups):\n",
    "        print('{g} Previously processed. Skipping.'.format(g = grouping))\n",
    "    else:\n",
    "    \n",
    "        all_adata = small_group_adata[grouping]\n",
    "        print('Small types: {n} cells'.format(n = all_adata.shape[0]))\n",
    "        \n",
    "        # Read Large Files\n",
    "        large_group_uuids = large_uuids[grouping]\n",
    "        for group_name, uuid in large_group_uuids.items():\n",
    "            group_adata = read_adata_uuid(uuid)\n",
    "            print('{g}: {n} cells'.format(g = group_name, n = group_adata.shape[0]))\n",
    "            all_adata = sc.concat([all_adata, group_adata])\n",
    "            del group_adata\n",
    "        print('Total: {n} cells'.format(n = all_adata.shape[0]))\n",
    "    \n",
    "        visit_group_meta = meta.groupby('sample.visitGroup')\n",
    "\n",
    "        for (visit_group, visit_meta) in visit_group_meta:\n",
    "            out_file = out_files[visit_group][0]\n",
    "            keep_cells = all_adata.obs['sample.sampleKitGuid'].isin(visit_meta['sample.sampleKitGuid'])\n",
    "            visit_group_adata = all_adata[keep_cells]\n",
    "            print('>>> Processing {v}: {n} cells'.format(v = visit_group, n = visit_group_adata.shape[0]))\n",
    "            \n",
    "            visit_group_adata = process_adata(visit_group_adata)\n",
    "            \n",
    "            # Refine labels based on in-group clustering\n",
    "            visit_group_adata = assign_most_frequent(\n",
    "                visit_group_adata, \n",
    "                'leiden_2', 'AIFI_L3', \n",
    "                keep_original = True, \n",
    "                original_prefix = 'predicted_'\n",
    "            )\n",
    "            \n",
    "            visit_group_adata = propagate_hierarchy(\n",
    "                visit_group_adata,\n",
    "                hierarchy_df,\n",
    "                from_level = 'AIFI_L3',\n",
    "                to_levels = ['AIFI_L2', 'AIFI_L1'],\n",
    "                keep_original = True,\n",
    "                original_prefix = 'predicted_'\n",
    "            )\n",
    "            \n",
    "            # Save results for this visit group\n",
    "            visit_group_adata.write_h5ad(out_file)\n",
    "\n",
    "            # Save metadata and UMAP\n",
    "            meta_csv = 'output/review/diha_{c}_{g}_{v}_AIFI_L3_review_meta_{d}.csv'.format(\n",
    "                c = class_name,\n",
    "                g = grouping,\n",
    "                v = visit_group,\n",
    "                d = date.today()\n",
    "            )\n",
    "            visit_group_obs = obs_with_umap(visit_group_adata)\n",
    "            visit_group_obs.to_csv(meta_csv)\n",
    "            out_files[visit_group].append(meta_csv)\n",
    "\n",
    "            # Save marker expression summaries\n",
    "            out_l2_markers = 'output/review/diha_{c}_{g}_{v}_AIFI_L2_review_markers_{d}.csv'.format(\n",
    "                c = class_name,\n",
    "                g = grouping,\n",
    "                v = visit_group,\n",
    "                d = date.today()\n",
    "            )\n",
    "            l2_marker_df = tidy_marker_df(\n",
    "                visit_group_adata,\n",
    "                l2_markers,\n",
    "                'AIFI_L2'\n",
    "            )\n",
    "            l2_marker_df.to_csv(out_l2_markers)\n",
    "            out_files[visit_group].append(out_l2_markers)\n",
    "\n",
    "            out_l3_markers = 'output/review/diha_{c}_{g}_{v}_AIFI_L3_review_markers_{d}.csv'.format(\n",
    "                c = class_name,\n",
    "                g = grouping,\n",
    "                v = visit_group,\n",
    "                d = date.today()\n",
    "            )\n",
    "            l3_marker_df = tidy_marker_df(\n",
    "                visit_group_adata,\n",
    "                l3_markers,\n",
    "                'AIFI_L3'\n",
    "            )\n",
    "            l3_marker_df.to_csv(out_l3_markers)\n",
    "            out_files[visit_group].append(out_l3_markers)"
   ]
  },
  {
   "cell_type": "markdown",
   "id": "e0d658a7-7799-4c60-9416-69d023f38764",
   "metadata": {},
   "source": [
    "## Assemble output files for upload"
   ]
  },
  {
   "cell_type": "markdown",
   "id": "2405f9f3-4036-40c3-b369-b3bc693ec1eb",
   "metadata": {},
   "source": [
    "### h5ad files"
   ]
  },
  {
   "cell_type": "code",
   "execution_count": 44,
   "id": "462830e7-9aea-443d-8396-38d5c4d073d8",
   "metadata": {},
   "outputs": [],
   "source": [
    "output_files = os.listdir('output')\n",
    "h5ad_files = []\n",
    "for output_file in output_files:\n",
    "    if class_name in output_file:\n",
    "        h5ad_files.append('{d}/{f}'.format(d = 'output', f = output_file))"
   ]
  },
  {
   "cell_type": "markdown",
   "id": "64ad5b32-087f-4b4d-8b44-3b911104da84",
   "metadata": {},
   "source": [
    "### Review files"
   ]
  },
  {
   "cell_type": "code",
   "execution_count": 45,
   "id": "d3927e6d-bcec-45dd-994a-89a9bf2d1758",
   "metadata": {},
   "outputs": [],
   "source": [
    "rev_files = os.listdir('output/review')\n",
    "review_files = ['output/review/{f}'.format(f = f) for f in rev_files]"
   ]
  },
  {
   "cell_type": "markdown",
   "id": "9cfaa5ae-9a35-4de0-89f8-59b2d5313ebe",
   "metadata": {},
   "source": [
    "### Combine metadata files to assemble a full set"
   ]
  },
  {
   "cell_type": "code",
   "execution_count": 46,
   "id": "f2de26da-e4ec-46af-8ef4-2e4d889ae4ff",
   "metadata": {},
   "outputs": [],
   "source": [
    "meta_files = []\n",
    "for review_file in review_files:\n",
    "    if 'meta' in review_file:\n",
    "        meta_files.append(review_file)\n",
    "\n",
    "meta_list = []\n",
    "for meta_file in meta_files:\n",
    "    meta_list.append(pd.read_csv(meta_file, index_col = 0))\n",
    "all_meta = pd.concat(meta_list)"
   ]
  },
  {
   "cell_type": "code",
   "execution_count": 47,
   "id": "ee7b1554-f518-4876-b569-77ca8488b560",
   "metadata": {},
   "outputs": [],
   "source": [
    "meta_csv = 'output/diha_{c}_AIFI_L3_refinement_meta_{d}.csv'.format(c = class_name, d = date.today())\n",
    "all_meta.to_csv(meta_csv)\n",
    "meta_parquet = 'output/diha_{c}_AIFI_L3_refinement_meta_{d}.parquet'.format(c = class_name, d = date.today())\n",
    "all_meta.to_parquet(meta_parquet)"
   ]
  },
  {
   "cell_type": "markdown",
   "id": "f2c89eb8-ab3d-4691-b90c-fd9544feb123",
   "metadata": {},
   "source": [
    "### Bundle review files into a .tar for later use"
   ]
  },
  {
   "cell_type": "code",
   "execution_count": 48,
   "id": "9c2e7b7a-0720-4f54-a0d4-6aece28e1be2",
   "metadata": {},
   "outputs": [],
   "source": [
    "review_tar = 'output/diha_{c}_AIFI_L3_refinement_review_{d}.tar.gz'.format(c = class_name, d = date.today())\n",
    "tar = tarfile.open(review_tar, 'w:gz')\n",
    "for review_file in review_files:\n",
    "    tar.add(review_file)\n",
    "tar.close()"
   ]
  },
  {
   "cell_type": "markdown",
   "id": "55860b23-0b0a-4246-a0f0-4b6766a29963",
   "metadata": {},
   "source": [
    "## Upload assembled results to HISE"
   ]
  },
  {
   "cell_type": "code",
   "execution_count": 49,
   "id": "44cbbe15-6e20-4e77-95bd-4ede07c4abe5",
   "metadata": {},
   "outputs": [],
   "source": [
    "study_space_uuid = 'de025812-5e73-4b3c-9c3b-6d0eac412f2a'\n",
    "title = 'DIHA NK cell AIFI_L3 Refinement {d}'.format(d = date.today())"
   ]
  },
  {
   "cell_type": "code",
   "execution_count": 50,
   "id": "121cc8c8-52c0-4fa5-b700-9aa529296b7d",
   "metadata": {},
   "outputs": [
    {
     "data": {
      "text/plain": [
       "['d35f90dd-1ce4-4743-b07f-d13caa6b271e',\n",
       " '994c0e01-c7a5-4533-bc55-dab04f880ae7',\n",
       " '40516b72-5052-49b1-97df-8821d52d7893',\n",
       " '08411747-d5a1-4d81-8b82-6e64f18f497b',\n",
       " 'cbd07e76-7365-402f-bf5a-dae364bf6084',\n",
       " 'd0ffe8cf-cdc4-4890-a9d1-665437a9bc25',\n",
       " '1b839052-9906-41f6-b50a-41cbac1b2948',\n",
       " 'aa29462f-f39b-43b7-93fc-df475ccf94d6']"
      ]
     },
     "execution_count": 50,
     "metadata": {},
     "output_type": "execute_result"
    }
   ],
   "source": [
    "in_files = []\n",
    "for group_name, file_dict in large_uuids.items():\n",
    "    for type_group, uuid in file_dict.items():\n",
    "        in_files.append(uuid)\n",
    "in_files"
   ]
  },
  {
   "cell_type": "code",
   "execution_count": 51,
   "id": "522742da-e719-4538-9352-f97efa04010c",
   "metadata": {},
   "outputs": [],
   "source": [
    "out_files = h5ad_files + [meta_csv, meta_parquet, review_tar]"
   ]
  },
  {
   "cell_type": "code",
   "execution_count": 52,
   "id": "d5b22afe-3561-43b5-87d0-47604e31210f",
   "metadata": {},
   "outputs": [
    {
     "data": {
      "text/plain": [
       "['output/diha_nk_cell_BR2_Female_Year 2_AIFI_L3_review_2024-03-22.h5ad',\n",
       " 'output/diha_nk_cell_BR2_Female_Year 1_AIFI_L3_review_2024-03-22.h5ad',\n",
       " 'output/diha_nk_cell_BR1_Female_Year 1_AIFI_L3_review_2024-03-22.h5ad',\n",
       " 'output/diha_nk_cell_BR1_Male_Year 2_AIFI_L3_review_2024-03-22.h5ad',\n",
       " 'output/diha_nk_cell_BR1_Male_Immune Variation_AIFI_L3_review_2024-03-22.h5ad',\n",
       " 'output/diha_nk_cell_BR2_Male_Year 1_AIFI_L3_review_2024-03-22.h5ad',\n",
       " 'output/diha_nk_cell_BR2_Male_Immune Variation_AIFI_L3_review_2024-03-22.h5ad',\n",
       " 'output/diha_nk_cell_BR1_Male_Year 1_AIFI_L3_review_2024-03-22.h5ad',\n",
       " 'output/diha_nk_cell_BR2_Female_Immune Variation_AIFI_L3_review_2024-03-22.h5ad',\n",
       " 'output/diha_nk_cell_BR1_Female_Immune Variation_AIFI_L3_review_2024-03-22.h5ad',\n",
       " 'output/diha_nk_cell_BR1_Female_Year 2_AIFI_L3_review_2024-03-22.h5ad',\n",
       " 'output/diha_nk_cell_BR2_Male_Year 2_AIFI_L3_review_2024-03-22.h5ad',\n",
       " 'output/diha_nk_cell_AIFI_L3_refinement_meta_2024-03-22.csv',\n",
       " 'output/diha_nk_cell_AIFI_L3_refinement_meta_2024-03-22.parquet',\n",
       " 'output/diha_nk_cell_AIFI_L3_refinement_review_2024-03-22.tar.gz']"
      ]
     },
     "execution_count": 52,
     "metadata": {},
     "output_type": "execute_result"
    }
   ],
   "source": [
    "out_files"
   ]
  },
  {
   "cell_type": "code",
   "execution_count": 53,
   "id": "5bc7a587-8bf5-4277-bfb8-4d19f04c2da6",
   "metadata": {},
   "outputs": [
    {
     "name": "stdout",
     "output_type": "stream",
     "text": [
      "output/diha_nk_cell_BR2_Female_Year 2_AIFI_L3_review_2024-03-22.h5ad\n",
      "output/diha_nk_cell_BR2_Female_Year 1_AIFI_L3_review_2024-03-22.h5ad\n",
      "output/diha_nk_cell_BR1_Female_Year 1_AIFI_L3_review_2024-03-22.h5ad\n",
      "output/diha_nk_cell_BR1_Male_Year 2_AIFI_L3_review_2024-03-22.h5ad\n",
      "output/diha_nk_cell_BR1_Male_Immune Variation_AIFI_L3_review_2024-03-22.h5ad\n",
      "output/diha_nk_cell_BR2_Male_Year 1_AIFI_L3_review_2024-03-22.h5ad\n",
      "output/diha_nk_cell_BR2_Male_Immune Variation_AIFI_L3_review_2024-03-22.h5ad\n",
      "output/diha_nk_cell_BR1_Male_Year 1_AIFI_L3_review_2024-03-22.h5ad\n",
      "output/diha_nk_cell_BR2_Female_Immune Variation_AIFI_L3_review_2024-03-22.h5ad\n",
      "output/diha_nk_cell_BR1_Female_Immune Variation_AIFI_L3_review_2024-03-22.h5ad\n",
      "output/diha_nk_cell_BR1_Female_Year 2_AIFI_L3_review_2024-03-22.h5ad\n",
      "output/diha_nk_cell_BR2_Male_Year 2_AIFI_L3_review_2024-03-22.h5ad\n",
      "output/diha_nk_cell_AIFI_L3_refinement_meta_2024-03-22.csv\n",
      "output/diha_nk_cell_AIFI_L3_refinement_meta_2024-03-22.parquet\n",
      "output/diha_nk_cell_AIFI_L3_refinement_review_2024-03-22.tar.gz\n",
      "Cannot determine the current notebook.\n",
      "1) /home/jupyter/IH-A-Aging-Analysis-Notebooks/scrna-seq_analysis/02-reference_labeling/09c-Python_NK_cell_L3_refinement.ipynb\n",
      "2) /home/jupyter/IH-A-Aging-Analysis-Notebooks/scrna-seq_analysis/02-reference_labeling/09g-Python_memory_cd4_t_cell_L3_refinement.ipynb\n",
      "3) /home/jupyter/IH-A-Aging-Analysis-Notebooks/scrna-seq_analysis/02-reference_labeling/07a-Python_refine_NK_filtering.ipynb\n",
      "Please select (1-3) \n"
     ]
    },
    {
     "name": "stdin",
     "output_type": "stream",
     "text": [
      " 1\n"
     ]
    },
    {
     "name": "stdout",
     "output_type": "stream",
     "text": [
      "you are trying to upload file_ids... ['output/diha_nk_cell_BR2_Female_Year 2_AIFI_L3_review_2024-03-22.h5ad', 'output/diha_nk_cell_BR2_Female_Year 1_AIFI_L3_review_2024-03-22.h5ad', 'output/diha_nk_cell_BR1_Female_Year 1_AIFI_L3_review_2024-03-22.h5ad', 'output/diha_nk_cell_BR1_Male_Year 2_AIFI_L3_review_2024-03-22.h5ad', 'output/diha_nk_cell_BR1_Male_Immune Variation_AIFI_L3_review_2024-03-22.h5ad', 'output/diha_nk_cell_BR2_Male_Year 1_AIFI_L3_review_2024-03-22.h5ad', 'output/diha_nk_cell_BR2_Male_Immune Variation_AIFI_L3_review_2024-03-22.h5ad', 'output/diha_nk_cell_BR1_Male_Year 1_AIFI_L3_review_2024-03-22.h5ad', 'output/diha_nk_cell_BR2_Female_Immune Variation_AIFI_L3_review_2024-03-22.h5ad', 'output/diha_nk_cell_BR1_Female_Immune Variation_AIFI_L3_review_2024-03-22.h5ad', 'output/diha_nk_cell_BR1_Female_Year 2_AIFI_L3_review_2024-03-22.h5ad', 'output/diha_nk_cell_BR2_Male_Year 2_AIFI_L3_review_2024-03-22.h5ad', 'output/diha_nk_cell_AIFI_L3_refinement_meta_2024-03-22.csv', 'output/diha_nk_cell_AIFI_L3_refinement_meta_2024-03-22.parquet', 'output/diha_nk_cell_AIFI_L3_refinement_review_2024-03-22.tar.gz']. Do you truly want to proceed?\n"
     ]
    },
    {
     "name": "stdin",
     "output_type": "stream",
     "text": [
      "(y/n) y\n"
     ]
    },
    {
     "data": {
      "text/plain": [
       "{'trace_id': '690e51d2-020e-4387-a4e1-6e5b140aedf2',\n",
       " 'files': ['output/diha_nk_cell_BR2_Female_Year 2_AIFI_L3_review_2024-03-22.h5ad',\n",
       "  'output/diha_nk_cell_BR2_Female_Year 1_AIFI_L3_review_2024-03-22.h5ad',\n",
       "  'output/diha_nk_cell_BR1_Female_Year 1_AIFI_L3_review_2024-03-22.h5ad',\n",
       "  'output/diha_nk_cell_BR1_Male_Year 2_AIFI_L3_review_2024-03-22.h5ad',\n",
       "  'output/diha_nk_cell_BR1_Male_Immune Variation_AIFI_L3_review_2024-03-22.h5ad',\n",
       "  'output/diha_nk_cell_BR2_Male_Year 1_AIFI_L3_review_2024-03-22.h5ad',\n",
       "  'output/diha_nk_cell_BR2_Male_Immune Variation_AIFI_L3_review_2024-03-22.h5ad',\n",
       "  'output/diha_nk_cell_BR1_Male_Year 1_AIFI_L3_review_2024-03-22.h5ad',\n",
       "  'output/diha_nk_cell_BR2_Female_Immune Variation_AIFI_L3_review_2024-03-22.h5ad',\n",
       "  'output/diha_nk_cell_BR1_Female_Immune Variation_AIFI_L3_review_2024-03-22.h5ad',\n",
       "  'output/diha_nk_cell_BR1_Female_Year 2_AIFI_L3_review_2024-03-22.h5ad',\n",
       "  'output/diha_nk_cell_BR2_Male_Year 2_AIFI_L3_review_2024-03-22.h5ad',\n",
       "  'output/diha_nk_cell_AIFI_L3_refinement_meta_2024-03-22.csv',\n",
       "  'output/diha_nk_cell_AIFI_L3_refinement_meta_2024-03-22.parquet',\n",
       "  'output/diha_nk_cell_AIFI_L3_refinement_review_2024-03-22.tar.gz']}"
      ]
     },
     "execution_count": 53,
     "metadata": {},
     "output_type": "execute_result"
    }
   ],
   "source": [
    "hisepy.upload.upload_files(\n",
    "    files = out_files,\n",
    "    study_space_id = study_space_uuid,\n",
    "    title = title,\n",
    "    input_file_ids = in_files\n",
    ")"
   ]
  },
  {
   "cell_type": "code",
   "execution_count": 54,
   "id": "f33dae36-49f7-4288-9128-9bdcfbd17c19",
   "metadata": {},
   "outputs": [
    {
     "data": {
      "text/html": [
       "<details>\n",
       "<summary>Click to view session information</summary>\n",
       "<pre>\n",
       "-----\n",
       "anndata             0.10.3\n",
       "hisepy              0.3.0\n",
       "pandas              2.1.4\n",
       "scanpy              1.9.6\n",
       "session_info        1.0.0\n",
       "-----\n",
       "</pre>\n",
       "<details>\n",
       "<summary>Click to view modules imported as dependencies</summary>\n",
       "<pre>\n",
       "PIL                         10.0.1\n",
       "anyio                       NA\n",
       "arrow                       1.3.0\n",
       "asttokens                   NA\n",
       "attr                        23.2.0\n",
       "attrs                       23.2.0\n",
       "babel                       2.14.0\n",
       "beatrix_jupyterlab          NA\n",
       "brotli                      NA\n",
       "cachetools                  5.3.1\n",
       "certifi                     2024.02.02\n",
       "cffi                        1.16.0\n",
       "charset_normalizer          3.3.2\n",
       "cloudpickle                 2.2.1\n",
       "colorama                    0.4.6\n",
       "comm                        0.1.4\n",
       "cryptography                41.0.7\n",
       "cycler                      0.10.0\n",
       "cython_runtime              NA\n",
       "dateutil                    2.8.2\n",
       "db_dtypes                   1.1.1\n",
       "debugpy                     1.8.0\n",
       "decorator                   5.1.1\n",
       "defusedxml                  0.7.1\n",
       "deprecated                  1.2.14\n",
       "exceptiongroup              1.2.0\n",
       "executing                   2.0.1\n",
       "fastjsonschema              NA\n",
       "fqdn                        NA\n",
       "google                      NA\n",
       "greenlet                    2.0.2\n",
       "grpc                        1.58.0\n",
       "grpc_status                 NA\n",
       "h5py                        3.10.0\n",
       "idna                        3.6\n",
       "igraph                      0.10.8\n",
       "importlib_metadata          NA\n",
       "ipykernel                   6.28.0\n",
       "ipython_genutils            0.2.0\n",
       "ipywidgets                  8.1.1\n",
       "isoduration                 NA\n",
       "jedi                        0.19.1\n",
       "jinja2                      3.1.2\n",
       "joblib                      1.3.2\n",
       "json5                       NA\n",
       "jsonpointer                 2.4\n",
       "jsonschema                  4.20.0\n",
       "jsonschema_specifications   NA\n",
       "jupyter_events              0.9.0\n",
       "jupyter_server              2.12.1\n",
       "jupyterlab_server           2.25.2\n",
       "jwt                         2.8.0\n",
       "kiwisolver                  1.4.5\n",
       "leidenalg                   0.10.1\n",
       "llvmlite                    0.41.0\n",
       "lz4                         4.3.2\n",
       "markupsafe                  2.1.3\n",
       "matplotlib                  3.8.0\n",
       "matplotlib_inline           0.1.6\n",
       "mpl_toolkits                NA\n",
       "mpmath                      1.3.0\n",
       "natsort                     8.4.0\n",
       "nbformat                    5.9.2\n",
       "numba                       0.58.0\n",
       "numpy                       1.24.0\n",
       "opentelemetry               NA\n",
       "overrides                   NA\n",
       "packaging                   23.2\n",
       "parso                       0.8.3\n",
       "pexpect                     4.8.0\n",
       "pickleshare                 0.7.5\n",
       "pkg_resources               NA\n",
       "platformdirs                4.1.0\n",
       "plotly                      5.18.0\n",
       "prettytable                 3.9.0\n",
       "prometheus_client           NA\n",
       "prompt_toolkit              3.0.42\n",
       "proto                       NA\n",
       "psutil                      NA\n",
       "ptyprocess                  0.7.0\n",
       "pure_eval                   0.2.2\n",
       "pyarrow                     13.0.0\n",
       "pydev_ipython               NA\n",
       "pydevconsole                NA\n",
       "pydevd                      2.9.5\n",
       "pydevd_file_utils           NA\n",
       "pydevd_plugins              NA\n",
       "pydevd_tracing              NA\n",
       "pygments                    2.17.2\n",
       "pynvml                      NA\n",
       "pyparsing                   3.1.1\n",
       "pyreadr                     0.5.0\n",
       "pythonjsonlogger            NA\n",
       "pytz                        2023.3.post1\n",
       "referencing                 NA\n",
       "requests                    2.31.0\n",
       "rfc3339_validator           0.1.4\n",
       "rfc3986_validator           0.1.1\n",
       "rpds                        NA\n",
       "scipy                       1.11.4\n",
       "send2trash                  NA\n",
       "shapely                     1.8.5.post1\n",
       "six                         1.16.0\n",
       "sklearn                     1.3.2\n",
       "sniffio                     1.3.0\n",
       "socks                       1.7.1\n",
       "sql                         NA\n",
       "sqlalchemy                  2.0.21\n",
       "sqlparse                    0.4.4\n",
       "stack_data                  0.6.2\n",
       "sympy                       1.12\n",
       "termcolor                   NA\n",
       "texttable                   1.7.0\n",
       "threadpoolctl               3.2.0\n",
       "torch                       2.1.2+cu121\n",
       "torchgen                    NA\n",
       "tornado                     6.3.3\n",
       "tqdm                        4.66.1\n",
       "traitlets                   5.9.0\n",
       "typing_extensions           NA\n",
       "uri_template                NA\n",
       "urllib3                     1.26.18\n",
       "wcwidth                     0.2.12\n",
       "webcolors                   1.13\n",
       "websocket                   1.7.0\n",
       "wrapt                       1.15.0\n",
       "xarray                      2023.12.0\n",
       "yaml                        6.0.1\n",
       "zipp                        NA\n",
       "zmq                         25.1.2\n",
       "zoneinfo                    NA\n",
       "zstandard                   0.22.0\n",
       "</pre>\n",
       "</details> <!-- seems like this ends pre, so might as well be explicit -->\n",
       "<pre>\n",
       "-----\n",
       "IPython             8.19.0\n",
       "jupyter_client      8.6.0\n",
       "jupyter_core        5.6.1\n",
       "jupyterlab          4.1.2\n",
       "notebook            6.5.4\n",
       "-----\n",
       "Python 3.10.13 | packaged by conda-forge | (main, Dec 23 2023, 15:36:39) [GCC 12.3.0]\n",
       "Linux-5.15.0-1054-gcp-x86_64-with-glibc2.31\n",
       "-----\n",
       "Session information updated at 2024-03-22 23:25\n",
       "</pre>\n",
       "</details>"
      ],
      "text/plain": [
       "<IPython.core.display.HTML object>"
      ]
     },
     "execution_count": 54,
     "metadata": {},
     "output_type": "execute_result"
    }
   ],
   "source": [
    "import session_info\n",
    "session_info.show()"
   ]
  },
  {
   "cell_type": "code",
   "execution_count": null,
   "id": "f71f9b23-0b44-4402-9f3c-c5f4fd09b236",
   "metadata": {},
   "outputs": [],
   "source": []
  }
 ],
 "metadata": {
  "kernelspec": {
   "display_name": "Python 3 (ipykernel)",
   "language": "python",
   "name": "python3"
  },
  "language_info": {
   "codemirror_mode": {
    "name": "ipython",
    "version": 3
   },
   "file_extension": ".py",
   "mimetype": "text/x-python",
   "name": "python",
   "nbconvert_exporter": "python",
   "pygments_lexer": "ipython3",
   "version": "3.10.13"
  }
 },
 "nbformat": 4,
 "nbformat_minor": 5
}
