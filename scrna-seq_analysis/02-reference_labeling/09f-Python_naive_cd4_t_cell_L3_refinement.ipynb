{
 "cells": [
  {
   "cell_type": "markdown",
   "id": "025a9390-94a2-4267-91b2-e7d7d330b66e",
   "metadata": {},
   "source": [
    "# Refine labels for Naive CD4 T cells\n",
    "\n",
    "In this notebook, we load all Naive CD4 T cells across our subjects to refine final L3 labels. We'll combine, recluster, and assign final labels by taking the most frequent AIFI_L3 label in each cluster, and back-propogate those L3 labels to L2 and L1 based on our cell type hierarcy.\n",
    "\n",
    "We'll also generate metadata, UMAP coordinates, and marker gene summaries for review of our final labels, then store all of the outputs in HISE for later use.\n",
    "\n",
    "Because there are many Naive CD4 T cells, we'll divide them into smaller subsets based on cohort, sex, CMV status, and visit grouping (defined below). We'll then review each subset and assemble all labeled data in later notebooks."
   ]
  },
  {
   "cell_type": "markdown",
   "id": "1ffa2bfa-e610-421d-b2b0-3ed50ebdc80f",
   "metadata": {},
   "source": [
    "## Load packages"
   ]
  },
  {
   "cell_type": "code",
   "execution_count": 1,
   "id": "000b6f3a-eca7-45e7-b4dc-fb243161dab2",
   "metadata": {},
   "outputs": [],
   "source": [
    "import warnings\n",
    "warnings.simplefilter(action='ignore', category=FutureWarning)\n",
    "warnings.simplefilter(action='ignore', category=RuntimeWarning)\n",
    "\n",
    "import concurrent.futures\n",
    "from concurrent.futures import ThreadPoolExecutor\n",
    "from datetime import date\n",
    "import hisepy\n",
    "import os\n",
    "import pandas as pd\n",
    "import scanpy as sc\n",
    "import scanpy.external as sce\n",
    "import tarfile"
   ]
  },
  {
   "cell_type": "code",
   "execution_count": 2,
   "id": "7d376874-6e42-477d-b4e4-166acfdd448a",
   "metadata": {
    "tags": []
   },
   "outputs": [],
   "source": [
    "out_dir = 'output'\n",
    "if not os.path.isdir(out_dir):\n",
    "    os.makedirs(out_dir)"
   ]
  },
  {
   "cell_type": "code",
   "execution_count": 3,
   "id": "ab2cd5aa-dcee-4c3c-84e5-e27cdef17fdd",
   "metadata": {
    "tags": []
   },
   "outputs": [],
   "source": [
    "out_dir = 'output/review'\n",
    "if not os.path.isdir(out_dir):\n",
    "    os.makedirs(out_dir)"
   ]
  },
  {
   "cell_type": "code",
   "execution_count": 4,
   "id": "0981e900-aa42-49a4-b46b-94c9b2315b13",
   "metadata": {},
   "outputs": [],
   "source": [
    "class_name = 'naive_cd4_t_cell'"
   ]
  },
  {
   "cell_type": "markdown",
   "id": "c962b69c-cdff-4d2a-8583-fd0fe04e0abb",
   "metadata": {},
   "source": [
    "## Helper functions\n",
    "\n",
    "### HISE data\n",
    "These functions make it easy to utilize files from the HISE cache"
   ]
  },
  {
   "cell_type": "code",
   "execution_count": 5,
   "id": "179c2eec-0c87-44b7-b5af-3e3c98e553d7",
   "metadata": {},
   "outputs": [],
   "source": [
    "def cache_uuid_path(uuid):\n",
    "    cache_path = '/home/jupyter/cache/{u}'.format(u = uuid)\n",
    "    if not os.path.isdir(cache_path):\n",
    "        hise_res = hisepy.reader.cache_files([uuid])\n",
    "    filename = os.listdir(cache_path)[0]\n",
    "    cache_file = '{p}/{f}'.format(p = cache_path, f = filename)\n",
    "    return cache_file"
   ]
  },
  {
   "cell_type": "code",
   "execution_count": 6,
   "id": "b81455f5-8d6a-4209-a720-5d5a0bbcca77",
   "metadata": {},
   "outputs": [],
   "source": [
    "def read_csv_uuid(uuid):\n",
    "    cache_file = cache_uuid_path(uuid)\n",
    "    res = pd.read_csv(cache_file)\n",
    "    return res"
   ]
  },
  {
   "cell_type": "code",
   "execution_count": 7,
   "id": "424b9fca-65a6-460a-8398-8ed62aaba8fc",
   "metadata": {},
   "outputs": [],
   "source": [
    "def read_adata_uuid(uuid):\n",
    "    cache_file = cache_uuid_path(uuid)\n",
    "    res = sc.read_h5ad(cache_file)\n",
    "    return res"
   ]
  },
  {
   "cell_type": "code",
   "execution_count": 8,
   "id": "575db30e-ca07-43e1-a715-4581cf7437cc",
   "metadata": {},
   "outputs": [],
   "source": [
    "def read_obs_uuid(uuid):\n",
    "    cache_file = cache_uuid_path(uuid)\n",
    "    res = sc.read_h5ad(cache_file, backed = 'r')\n",
    "    obs = res.obs.copy()\n",
    "    return obs"
   ]
  },
  {
   "cell_type": "markdown",
   "id": "2ed774c3-51b8-4e91-8197-554820656880",
   "metadata": {},
   "source": [
    "### Label refinement"
   ]
  },
  {
   "cell_type": "markdown",
   "id": "c4c6a76f-981e-4aef-80fa-94b11edd2521",
   "metadata": {},
   "source": [
    "This function uses the most frequent label within each cluster to refine label assignments."
   ]
  },
  {
   "cell_type": "code",
   "execution_count": 9,
   "id": "2e1f4e64-e846-4699-b057-f5ac50d0b1c3",
   "metadata": {},
   "outputs": [],
   "source": [
    "def single_value(series):\n",
    "    res = []\n",
    "    for value in series:\n",
    "        if isinstance(value, list):\n",
    "            res.append(value[0])\n",
    "        else:\n",
    "            res.append(value)\n",
    "    return res"
   ]
  },
  {
   "cell_type": "code",
   "execution_count": 10,
   "id": "66d865ac-2de8-4f1b-b21d-648996d68132",
   "metadata": {},
   "outputs": [],
   "source": [
    "def assign_most_frequent(adata, clusters, labels, keep_original = False, original_prefix = 'predicted_'):\n",
    "    obs = adata.obs\n",
    "    \n",
    "    most_frequent_labels = (\n",
    "        adata.obs\n",
    "        .groupby(clusters)[labels]\n",
    "        .agg(pd.Series.mode)\n",
    "        .to_frame()\n",
    "        .reset_index()\n",
    "    )\n",
    "    most_frequent_labels[labels] = single_value(most_frequent_labels[labels])\n",
    "    \n",
    "    if keep_original:\n",
    "        obs = obs.rename({labels: original_prefix + labels}, axis = 1)\n",
    "    else:\n",
    "        obs = obs.drop(labels, axis = 1)\n",
    "    \n",
    "    obs = obs.merge(most_frequent_labels, on = clusters, how = 'left')\n",
    "    \n",
    "    adata.obs = obs\n",
    "    \n",
    "    return adata"
   ]
  },
  {
   "cell_type": "markdown",
   "id": "7687517a-8989-4a8b-bc64-d6486c86e3da",
   "metadata": {},
   "source": [
    "This function back-propagates hierarchical labeling from AIFI_L3 back to AIFI_L2 and AIFI_L1 to ensure our labels agree across levels of our cell type hierarchy."
   ]
  },
  {
   "cell_type": "code",
   "execution_count": 11,
   "id": "62e9797d-5ea4-44c8-af62-65937243017a",
   "metadata": {},
   "outputs": [],
   "source": [
    "def propagate_hierarchy(\n",
    "    adata,\n",
    "    hierarchy_df,\n",
    "    from_level = 'AIFI_L3',\n",
    "    to_levels = ['AIFI_L2', 'AIFI_L1'],\n",
    "    keep_original = True,\n",
    "    original_prefix = 'predicted_'\n",
    "):\n",
    "    obs = adata.obs\n",
    "    \n",
    "    for to_level in to_levels:\n",
    "        prop_df = hierarchy_df[[from_level, to_level]]\n",
    "        prop_df = prop_df.drop_duplicates()\n",
    "        \n",
    "        if keep_original:\n",
    "            obs = obs.rename({to_level: original_prefix + to_level}, axis = 1)\n",
    "        else:\n",
    "            obs = obs.drop(to_level, axis = 1)\n",
    "\n",
    "        obs[from_level] = obs[from_level].astype(str)\n",
    "        obs = obs.merge(prop_df, on = from_level, how = 'left')\n",
    "        obs[from_level] = obs[from_level].astype('category')\n",
    "        obs[to_level] = obs[to_level].astype('category')\n",
    "    \n",
    "    adata.obs = obs\n",
    "\n",
    "    return adata"
   ]
  },
  {
   "cell_type": "markdown",
   "id": "7d5bbf44-89b2-4613-ba3d-b05748168d4f",
   "metadata": {},
   "source": [
    "### Review outputs\n",
    "\n",
    "These functions are used to assemble marker gene expression tables for review"
   ]
  },
  {
   "cell_type": "code",
   "execution_count": 12,
   "id": "193f97f1-8ef0-4bac-9e95-6256fc34f72e",
   "metadata": {},
   "outputs": [],
   "source": [
    "def marker_frac_df(adata, markers, clusters = 'louvain_2'):\n",
    "    gene_cl_frac = sc.pl.dotplot(\n",
    "        adata, \n",
    "        groupby = clusters,\n",
    "        var_names = markers,\n",
    "        return_fig = True\n",
    "    ).dot_size_df\n",
    "    return gene_cl_frac\n",
    "\n",
    "def marker_mean_df(adata, markers, log = False, clusters = 'louvain_2'):\n",
    "    gene_cl_mean = sc.pl.dotplot(\n",
    "        adata, \n",
    "        groupby = clusters,\n",
    "        var_names = markers,\n",
    "        return_fig = True,\n",
    "        log = log\n",
    "    ).dot_color_df\n",
    "    \n",
    "    return gene_cl_mean\n",
    "\n",
    "def tidy_marker_df(adata, markers, clusters = 'louvain_2'):\n",
    "    gene_cl_frac = marker_frac_df(adata, markers, clusters)\n",
    "    gene_cl_frac = gene_cl_frac.reset_index(drop = False)\n",
    "    gene_cl_frac = pd.melt(gene_cl_frac, id_vars = clusters, var_name = 'gene', value_name = 'gene_frac')\n",
    "    \n",
    "    gene_cl_mean = marker_mean_df(adata, markers, log = False, clusters = clusters)\n",
    "    gene_cl_mean = gene_cl_mean.reset_index(drop = False)\n",
    "    gene_cl_mean = pd.melt(gene_cl_mean, id_vars = clusters, var_name = 'gene', value_name = 'gene_mean')\n",
    "\n",
    "    marker_df = gene_cl_frac.merge(gene_cl_mean, on = [clusters, 'gene'], how = 'left')\n",
    "    return marker_df"
   ]
  },
  {
   "cell_type": "markdown",
   "id": "ff9c9c84-1c4c-423f-9ce2-274a1babdbe0",
   "metadata": {},
   "source": [
    "This function will select clusters based on gene detection above a specifiec fraction of cells (cutoff)."
   ]
  },
  {
   "cell_type": "code",
   "execution_count": 13,
   "id": "99c31332-e1a8-418f-81e3-2dddb1187af6",
   "metadata": {},
   "outputs": [],
   "source": [
    "def select_clusters_above_gene_frac(adata, gene, cutoff, clusters = 'louvain_2'):\n",
    "    gene_cl_frac = marker_frac_df(adata, gene, clusters)\n",
    "    select_cl = gene_cl_frac.index[gene_cl_frac[gene] > cutoff].tolist()\n",
    "\n",
    "    return select_cl"
   ]
  },
  {
   "cell_type": "markdown",
   "id": "e0103038-8d60-4a00-99ac-83cbd992b354",
   "metadata": {},
   "source": [
    "This function retrieves both observations and UMAP coordinates in a single table for review."
   ]
  },
  {
   "cell_type": "code",
   "execution_count": 14,
   "id": "e3eedcf4-315a-4f6a-aa20-24e362a2e872",
   "metadata": {},
   "outputs": [],
   "source": [
    "def obs_with_umap(adata):\n",
    "    obs = adata.obs\n",
    "    \n",
    "    umap_mat = adata.obsm['X_umap']\n",
    "    umap_df = pd.DataFrame(umap_mat, columns = ['umap_1', 'umap_2'])\n",
    "    obs['umap_1'] = umap_df['umap_1']\n",
    "    obs['umap_2'] = umap_df['umap_2']\n",
    "\n",
    "    return obs"
   ]
  },
  {
   "cell_type": "markdown",
   "id": "299e5204-2799-4d3f-bc95-93308211be3c",
   "metadata": {},
   "source": [
    "This function applies data analysis methods to our scRNA-seq data, including normalization, HVG selection, PCA, nearest neighbors, UMAP, and Leiden clustering."
   ]
  },
  {
   "cell_type": "code",
   "execution_count": 15,
   "id": "82cae1fb-e61c-46b4-b4cf-731aa85709ac",
   "metadata": {},
   "outputs": [],
   "source": [
    "def process_adata(adata, resolution = 2):\n",
    "    \n",
    "    # Keep a copy of the raw data\n",
    "    adata = adata.raw.to_adata()\n",
    "    adata.raw = adata\n",
    "\n",
    "    print('Normalizing', end = \"; \")\n",
    "    # Normalize and log transform\n",
    "    sc.pp.normalize_total(adata)\n",
    "    sc.pp.log1p(adata)\n",
    "\n",
    "    print('Finding HVGs', end = \"; \")\n",
    "    # Restrict downstream steps to variable genes\n",
    "    sc.pp.highly_variable_genes(adata)\n",
    "    adata = adata[:, adata.var_names[adata.var['highly_variable']]].copy()\n",
    "\n",
    "    print('Scaling', end = \"; \")\n",
    "    # Scale variable genes\n",
    "    sc.pp.scale(adata)\n",
    "\n",
    "    print('PCA', end = \"; \")\n",
    "    # Run PCA\n",
    "    sc.tl.pca(adata, svd_solver = 'arpack')\n",
    "\n",
    "    print('Harmony', end = \"; \")\n",
    "    # Integrate subjects\n",
    "    sce.pp.harmony_integrate(\n",
    "        adata, \n",
    "        'subject.subjectGuid',\n",
    "        max_iter_harmony = 30,\n",
    "        verbose = False\n",
    "    )\n",
    "    \n",
    "    print('Neighbors', end = \"; \")\n",
    "    # Find nearest neighbors\n",
    "    sc.pp.neighbors(\n",
    "        adata, \n",
    "        n_neighbors = 20,\n",
    "        n_pcs = 30,\n",
    "        use_rep = 'X_pca_harmony'\n",
    "    )\n",
    "\n",
    "    print('Leiden', end = \"; \")\n",
    "    # Find clusters\n",
    "    sc.tl.leiden(\n",
    "        adata, \n",
    "        resolution = resolution, \n",
    "        key_added = 'leiden_{r}'.format(r = resolution),\n",
    "        n_iterations = 5\n",
    "    )\n",
    "\n",
    "    print('UMAP', end = \"; \")\n",
    "    # Run UMAP\n",
    "    sc.tl.umap(adata, min_dist = 0.05)\n",
    "    \n",
    "    print('Renormalizing')\n",
    "    adata = adata.raw.to_adata()\n",
    "    adata.raw = adata\n",
    "\n",
    "    # Normalize and log transform\n",
    "    sc.pp.normalize_total(adata)\n",
    "    sc.pp.log1p(adata)\n",
    "    \n",
    "    return adata"
   ]
  },
  {
   "cell_type": "code",
   "execution_count": 16,
   "id": "608a93d1-6e78-4d1d-8450-df79cc31ff62",
   "metadata": {},
   "outputs": [],
   "source": [
    "def isg_hi_refinement(adata, clusters = 'leiden_2', refine_res = 2):\n",
    "    isg_hi_cl = select_clusters_above_gene_frac(\n",
    "        adata, 'ISG15', 0.3, clusters = clusters\n",
    "    )\n",
    "    print(isg_hi_cl)\n",
    "    \n",
    "    isg_adata = adata[adata.obs[clusters].isin(isg_hi_cl)]\n",
    "    \n",
    "    isg_adata = process_adata(isg_adata, resolution = refine_res)\n",
    "    isg_adata = assign_most_frequent(\n",
    "        isg_adata, \n",
    "        'leiden_{r}'.format(r = refine_res), 'AIFI_L3',\n",
    "        keep_original = True,\n",
    "        original_prefix = 'predicted_'\n",
    "    )\n",
    "\n",
    "    isg_df = isg_adata.obs[['barcodes', 'AIFI_L3', 'predicted_AIFI_L3']]\n",
    "    return isg_df"
   ]
  },
  {
   "cell_type": "markdown",
   "id": "d178b680-9f7b-4738-996f-450da67596f8",
   "metadata": {},
   "source": [
    "## Cell Type Markers\n",
    "\n",
    "These are the set of marker genes that we'll use to review our cell type labels."
   ]
  },
  {
   "cell_type": "code",
   "execution_count": 17,
   "id": "9d3e3612-71ea-45b4-955f-dbf347d43e3e",
   "metadata": {},
   "outputs": [],
   "source": [
    "l2_markers = [\n",
    "    'CD3E', 'CD4', 'CD8A', 'TRAC', 'TRDC', \n",
    "    'LEF1', 'TCF7', 'CCR7', 'SELL', 'ITGB1', \n",
    "    'FAS', 'CD27', 'CD28', 'FOXP3', 'RTKN2', \n",
    "    'IKZF2', 'ZNF683', 'NKG7', 'KLRC2', 'KLRF1', \n",
    "    'KLRB1', 'KLRD1', 'GZMA', 'GZMK', 'GZMB', \n",
    "    'PRF1', 'GNLY', 'IFI44L', 'IRF7', 'MKI67', \n",
    "    'TRDV1', 'TRDV2', 'TRDV3', 'MME', 'SOX4'\n",
    "]\n",
    "\n",
    "l3_markers = [\n",
    "    'CD27', 'CD28', 'KLRF1', 'KLRB1', 'KLRD1', \n",
    "    'KLRC1', 'KLRC2', 'GZMA', 'GZMB', 'GZMK', \n",
    "    'GZMH', 'PRF1', 'CCL5', 'GNLY', 'GATA3', \n",
    "    'TBX21', 'EOMES', 'LEF1', 'TCF7', 'IKZF2',\n",
    "    'SOX4', 'IFI44L'\n",
    "]"
   ]
  },
  {
   "cell_type": "markdown",
   "id": "cf844cd4-1d87-4976-ab66-37bd0d6f3448",
   "metadata": {},
   "source": [
    "## Read cell type hierarchy from HISE\n",
    "\n",
    "As part of label refinement, we'll back-propagate our cell type labels from refined AIFI_L3 labels to their parent cell classes at AIFI_L2 and AIFI_L1. To do this, we need the hierarchical relationships between these levels, which have been generated for our cell type reference dataset."
   ]
  },
  {
   "cell_type": "code",
   "execution_count": 18,
   "id": "ae058202-fa22-498b-8a19-d1642a2a1927",
   "metadata": {},
   "outputs": [
    {
     "name": "stdout",
     "output_type": "stream",
     "text": [
      "downloading fileID: 1a44252c-8cab-4c8f-92c9-d8f3af633790\n",
      "Files have been successfully downloaded!\n"
     ]
    }
   ],
   "source": [
    "hierarchy_uuid = '1a44252c-8cab-4c8f-92c9-d8f3af633790'\n",
    "hierarchy_df = read_csv_uuid(hierarchy_uuid)"
   ]
  },
  {
   "cell_type": "markdown",
   "id": "c4358363-230f-4f9a-84ee-015f2afde17c",
   "metadata": {},
   "source": [
    "## Read sample metadata from HISE\n",
    "\n",
    "We previously assembled sample metadata and CMV status for each subject. We'll retrieve and combine these to utilize for selecting subsets of samples."
   ]
  },
  {
   "cell_type": "code",
   "execution_count": 19,
   "id": "6043927e-9f27-4f1d-977d-cfe1217f04f1",
   "metadata": {},
   "outputs": [
    {
     "name": "stdout",
     "output_type": "stream",
     "text": [
      "downloading fileID: d82c5c42-ae5f-4e67-956e-cd3b7bf88105\n",
      "Files have been successfully downloaded!\n"
     ]
    }
   ],
   "source": [
    "sample_meta_uuid = 'd82c5c42-ae5f-4e67-956e-cd3b7bf88105'\n",
    "sample_meta = read_csv_uuid(sample_meta_uuid)"
   ]
  },
  {
   "cell_type": "code",
   "execution_count": 20,
   "id": "ea5c41ae-ef7f-406f-81e4-42bad6f4b4fb",
   "metadata": {},
   "outputs": [
    {
     "data": {
      "text/plain": [
       "(868, 32)"
      ]
     },
     "execution_count": 20,
     "metadata": {},
     "output_type": "execute_result"
    }
   ],
   "source": [
    "sample_meta.shape"
   ]
  },
  {
   "cell_type": "code",
   "execution_count": 21,
   "id": "86b89877-28db-4868-a829-54bf4cd15ec8",
   "metadata": {},
   "outputs": [
    {
     "name": "stdout",
     "output_type": "stream",
     "text": [
      "downloading fileID: 9469f67c-b09a-454d-9fb9-f50ff3494d69\n",
      "Files have been successfully downloaded!\n"
     ]
    }
   ],
   "source": [
    "cmv_meta_uuid = '9469f67c-b09a-454d-9fb9-f50ff3494d69'\n",
    "cmv_path = cache_uuid_path(cmv_meta_uuid)\n",
    "cmv_meta = pd.read_csv(cmv_path, index_col = 0)\n",
    "cmv_meta = cmv_meta.drop_duplicates()"
   ]
  },
  {
   "cell_type": "code",
   "execution_count": 22,
   "id": "2d6bf25d-0ef5-41cc-8fec-52c6d6d48cc5",
   "metadata": {},
   "outputs": [
    {
     "data": {
      "text/plain": [
       "(96, 4)"
      ]
     },
     "execution_count": 22,
     "metadata": {},
     "output_type": "execute_result"
    }
   ],
   "source": [
    "cmv_meta.shape"
   ]
  },
  {
   "cell_type": "code",
   "execution_count": 23,
   "id": "a933a862-65de-4f6c-9b3f-153212a58fdc",
   "metadata": {},
   "outputs": [],
   "source": [
    "sample_meta = sample_meta.merge(cmv_meta, on = 'subject.subjectGuid', how = 'left')"
   ]
  },
  {
   "cell_type": "code",
   "execution_count": 24,
   "id": "9b5ac3c1-c809-4cf1-a494-df997d72e2f4",
   "metadata": {},
   "outputs": [
    {
     "data": {
      "text/plain": [
       "(868, 35)"
      ]
     },
     "execution_count": 24,
     "metadata": {},
     "output_type": "execute_result"
    }
   ],
   "source": [
    "sample_meta.shape"
   ]
  },
  {
   "cell_type": "markdown",
   "id": "8f7e9e8d-5c24-40ae-b08e-7ad57ac3b68c",
   "metadata": {},
   "source": [
    "## Assign sample groups\n",
    "\n",
    "To subdivide the full set of cells, we'll use groups that include cohort, sex, CMV status, and a subset of visits. To group our visit data, we'll define 3 visit groups, and use those together with the other metadata to group samples."
   ]
  },
  {
   "cell_type": "code",
   "execution_count": 25,
   "id": "dcdfd1b9-a653-4205-9607-cb0e1432317b",
   "metadata": {},
   "outputs": [],
   "source": [
    "visit_group_dict = {\n",
    "    'Flu Year 1 Day 0': 'Year 1',\n",
    "    'Flu Year 1 Day 7': 'Year 1',\n",
    "    'Flu Year 1 Day 90': 'Year 1',\n",
    "    'Flu Year 1 Stand-Alone': 'Year 1',\n",
    "    'Flu Year 2 Day 0': 'Year 2',\n",
    "    'Flu Year 2 Day 7': 'Year 2',\n",
    "    'Flu Year 2 Day 90': 'Year 2',\n",
    "    'Flu Year 2 Stand-Alone': 'Year 2',\n",
    "    'Immune Variation Day 0': 'Immune Variation',\n",
    "    'Immune Variation Day 7': 'Immune Variation',\n",
    "    'Immune Variation Day 90': 'Immune Variation',\n",
    "    'Flu Year 3 Stand-Alone': 'Immune Variation',\n",
    "}"
   ]
  },
  {
   "cell_type": "code",
   "execution_count": 26,
   "id": "b4de2bf4-3cf3-4d33-aadb-a5a68d24dacb",
   "metadata": {},
   "outputs": [],
   "source": [
    "visit_groups = list(set(visit_group_dict.values()))"
   ]
  },
  {
   "cell_type": "code",
   "execution_count": 27,
   "id": "6e77b304-d4fc-40cd-aa01-9bc9e8f89d62",
   "metadata": {},
   "outputs": [],
   "source": [
    "sample_meta['sample.visitGroup'] = [visit_group_dict[v] for v in sample_meta['sample.visitName']]"
   ]
  },
  {
   "cell_type": "code",
   "execution_count": 28,
   "id": "35d82a91-c88b-44fc-93a2-205a2c4bff77",
   "metadata": {},
   "outputs": [],
   "source": [
    "group_samples_by = ['cohort.cohortGuid', 'subject.biologicalSex']"
   ]
  },
  {
   "cell_type": "code",
   "execution_count": 29,
   "id": "e0fd1ac6-de8b-4558-9be5-9e31f6dca088",
   "metadata": {},
   "outputs": [],
   "source": [
    "grouped_meta = sample_meta.groupby(group_samples_by)"
   ]
  },
  {
   "cell_type": "code",
   "execution_count": 30,
   "id": "d3588ade-f2c8-4396-a68c-0eb307fdd247",
   "metadata": {},
   "outputs": [],
   "source": [
    "split_meta = {}\n",
    "for group_tuple, meta in grouped_meta:\n",
    "    split_name = '_'.join(group_tuple)\n",
    "    split_meta[split_name] = meta"
   ]
  },
  {
   "cell_type": "markdown",
   "id": "2ea87d60-a7e5-4c93-b393-d00a14ca09a2",
   "metadata": {},
   "source": [
    "## Identify files in HISE\n",
    "\n",
    "For this analysis, we'll read in these files from HISE storage from previous steps. We'll group these into \"large\" files, which are from the set of 5 very large cell type assignments, and \"small\" files, which are from other cell types."
   ]
  },
  {
   "cell_type": "code",
   "execution_count": 31,
   "id": "cc9e6bd0-d52f-4ad2-8aba-cc80a0516a94",
   "metadata": {},
   "outputs": [],
   "source": [
    "large_uuids = {\n",
    "    'BR1_Female': {\n",
    "        'BR1_Female_Negative_Naive-CD4-T-cell': 'b55301f1-2289-45a6-b14d-b1ee31a7f11c',\n",
    "        'BR1_Female_Positive_Naive-CD4-T-cell': '5a50a26e-1a56-4239-ba8e-dc0b8f3ef91d'\n",
    "    },\n",
    "    'BR1_Male': {\n",
    "        'BR1_Male_Negative_Naive-CD4-T-cell': '9997103a-4f8a-4e00-abc1-61a9674cf01b',\n",
    "        'BR1_Male_Positive_Naive-CD4-T-cell': '2aaa8f67-c64b-450c-9037-7a7cbde2c3e0'\n",
    "    },\n",
    "    'BR2_Female': {\n",
    "        'BR2_Female_Negative_Naive-CD4-T-cell': '82a127b5-7025-41db-8d88-5347055a5268',\n",
    "        'BR2_Female_Positive_Naive-CD4-T-cell': '56630d0b-cdd9-43b0-8da4-9f7227b35190'\n",
    "    },\n",
    "    'BR2_Male': {\n",
    "        'BR2_Male_Negative_Naive-CD4-T-cell': '22d42b15-1ae2-4b3f-8b6d-39dce427f765',\n",
    "        'BR2_Male_Positive_Naive-CD4-T-cell': '87c3b749-c177-4fa1-8747-c8faa4e4859e'\n",
    "    }\n",
    "}"
   ]
  },
  {
   "cell_type": "markdown",
   "id": "f07f702f-1c4c-43dc-bc7e-e80091e33296",
   "metadata": {},
   "source": [
    "## Read and process data per group\n",
    "\n",
    "Here, we'll step through each group based on cohort, sex, and CMV, assemble all related data across our selected files for this cell type, then split the results back out to multiple files based on the Visit Groups defined above.\n",
    "\n",
    "This way, we can combine across L2 cell classes without generating enormous datasets (almost 6M cells for CD4 T cells alone, for example).\n",
    "\n",
    "Once split up, we'll reprocess each subset of data to generate nice clusters and UMAP projections, then refine L3 cell type labels by taking the most frequent label within each cluster. After refining labels, we'll propagate labels back to L2 and L1 so they're consistent.\n",
    "\n",
    "Finally, we'll output these refined results per group, as well as a .csv file with updated labels to enable review of our analysis."
   ]
  },
  {
   "cell_type": "code",
   "execution_count": 32,
   "id": "371402a3-40e1-4a96-8e4e-4e6c9cad281e",
   "metadata": {},
   "outputs": [],
   "source": [
    "resolution = 2\n",
    "clusters = 'leiden_{r}'.format(r = resolution)"
   ]
  },
  {
   "cell_type": "code",
   "execution_count": 33,
   "id": "f41950a6-a302-430e-98e8-0eabe91ec7ef",
   "metadata": {},
   "outputs": [
    {
     "name": "stdout",
     "output_type": "stream",
     "text": [
      "BR1_Female\n",
      "downloading fileID: b55301f1-2289-45a6-b14d-b1ee31a7f11c\n",
      "Files have been successfully downloaded!\n",
      "BR1_Female_Negative_Naive-CD4-T-cell: 627635 cells\n",
      "downloading fileID: 5a50a26e-1a56-4239-ba8e-dc0b8f3ef91d\n",
      "Files have been successfully downloaded!\n",
      "BR1_Female_Positive_Naive-CD4-T-cell: 236008 cells\n",
      "Total: 863643 cells\n",
      ">>> Processing Immune Variation: 286697 cells\n",
      "Normalizing; Finding HVGs; Scaling; PCA; Harmony; "
     ]
    },
    {
     "name": "stderr",
     "output_type": "stream",
     "text": [
      "2024-03-25 00:30:01,528 - harmonypy - INFO - Computing initial centroids with sklearn.KMeans...\n",
      "2024-03-25 00:32:13,843 - harmonypy - INFO - sklearn.KMeans initialization complete.\n"
     ]
    },
    {
     "name": "stdout",
     "output_type": "stream",
     "text": [
      "Neighbors; Leiden; UMAP; Renormalizing\n",
      "WARNING: adata.X seems to be already log-transformed.\n",
      "['11', '21', '24', '26']\n",
      "Normalizing; WARNING: adata.X seems to be already log-transformed.\n",
      "Finding HVGs; Scaling; PCA; "
     ]
    },
    {
     "name": "stderr",
     "output_type": "stream",
     "text": [
      "2024-03-25 00:53:04,742 - harmonypy - INFO - Computing initial centroids with sklearn.KMeans...\n"
     ]
    },
    {
     "name": "stdout",
     "output_type": "stream",
     "text": [
      "Harmony; "
     ]
    },
    {
     "name": "stderr",
     "output_type": "stream",
     "text": [
      "2024-03-25 00:53:12,213 - harmonypy - INFO - sklearn.KMeans initialization complete.\n"
     ]
    },
    {
     "name": "stdout",
     "output_type": "stream",
     "text": [
      "Neighbors; Leiden; UMAP; Renormalizing\n",
      "WARNING: adata.X seems to be already log-transformed.\n"
     ]
    },
    {
     "name": "stderr",
     "output_type": "stream",
     "text": [
      "/opt/conda/lib/python3.10/site-packages/anndata/_core/anndata.py:183: ImplicitModificationWarning: Transforming to str index.\n",
      "  warnings.warn(\"Transforming to str index.\", ImplicitModificationWarning)\n",
      "/opt/conda/lib/python3.10/site-packages/anndata/_core/anndata.py:183: ImplicitModificationWarning: Transforming to str index.\n",
      "  warnings.warn(\"Transforming to str index.\", ImplicitModificationWarning)\n",
      "/opt/conda/lib/python3.10/site-packages/anndata/_core/anndata.py:183: ImplicitModificationWarning: Transforming to str index.\n",
      "  warnings.warn(\"Transforming to str index.\", ImplicitModificationWarning)\n",
      "/tmp/ipykernel_673/3936082007.py:73: SettingWithCopyWarning: \n",
      "A value is trying to be set on a copy of a slice from a DataFrame\n",
      "\n",
      "See the caveats in the documentation: https://pandas.pydata.org/pandas-docs/stable/user_guide/indexing.html#returning-a-view-versus-a-copy\n",
      "  visit_group_adata.obs['AIFI_L3'][visit_group_adata.obs[clusters].isin(sel_cl)] = type_name\n"
     ]
    },
    {
     "name": "stdout",
     "output_type": "stream",
     "text": [
      ">>> Processing Year 1: 278990 cells\n",
      "Normalizing; Finding HVGs; Scaling; PCA; "
     ]
    },
    {
     "name": "stderr",
     "output_type": "stream",
     "text": [
      "2024-03-25 00:55:50,006 - harmonypy - INFO - Computing initial centroids with sklearn.KMeans...\n"
     ]
    },
    {
     "name": "stdout",
     "output_type": "stream",
     "text": [
      "Harmony; "
     ]
    },
    {
     "name": "stderr",
     "output_type": "stream",
     "text": [
      "2024-03-25 00:58:06,542 - harmonypy - INFO - sklearn.KMeans initialization complete.\n"
     ]
    },
    {
     "name": "stdout",
     "output_type": "stream",
     "text": [
      "Neighbors; Leiden; UMAP; Renormalizing\n",
      "WARNING: adata.X seems to be already log-transformed.\n",
      "['12', '22', '23']\n",
      "Normalizing; WARNING: adata.X seems to be already log-transformed.\n",
      "Finding HVGs; Scaling; PCA; "
     ]
    },
    {
     "name": "stderr",
     "output_type": "stream",
     "text": [
      "2024-03-25 01:18:02,125 - harmonypy - INFO - Computing initial centroids with sklearn.KMeans...\n"
     ]
    },
    {
     "name": "stdout",
     "output_type": "stream",
     "text": [
      "Harmony; "
     ]
    },
    {
     "name": "stderr",
     "output_type": "stream",
     "text": [
      "2024-03-25 01:18:06,847 - harmonypy - INFO - sklearn.KMeans initialization complete.\n"
     ]
    },
    {
     "name": "stdout",
     "output_type": "stream",
     "text": [
      "Neighbors; Leiden; UMAP; Renormalizing\n",
      "WARNING: adata.X seems to be already log-transformed.\n"
     ]
    },
    {
     "name": "stderr",
     "output_type": "stream",
     "text": [
      "/opt/conda/lib/python3.10/site-packages/anndata/_core/anndata.py:183: ImplicitModificationWarning: Transforming to str index.\n",
      "  warnings.warn(\"Transforming to str index.\", ImplicitModificationWarning)\n",
      "/opt/conda/lib/python3.10/site-packages/anndata/_core/anndata.py:183: ImplicitModificationWarning: Transforming to str index.\n",
      "  warnings.warn(\"Transforming to str index.\", ImplicitModificationWarning)\n",
      "/opt/conda/lib/python3.10/site-packages/anndata/_core/anndata.py:183: ImplicitModificationWarning: Transforming to str index.\n",
      "  warnings.warn(\"Transforming to str index.\", ImplicitModificationWarning)\n",
      "/tmp/ipykernel_673/3936082007.py:73: SettingWithCopyWarning: \n",
      "A value is trying to be set on a copy of a slice from a DataFrame\n",
      "\n",
      "See the caveats in the documentation: https://pandas.pydata.org/pandas-docs/stable/user_guide/indexing.html#returning-a-view-versus-a-copy\n",
      "  visit_group_adata.obs['AIFI_L3'][visit_group_adata.obs[clusters].isin(sel_cl)] = type_name\n"
     ]
    },
    {
     "name": "stdout",
     "output_type": "stream",
     "text": [
      ">>> Processing Year 2: 297956 cells\n",
      "Normalizing; Finding HVGs; Scaling; PCA; "
     ]
    },
    {
     "name": "stderr",
     "output_type": "stream",
     "text": [
      "2024-03-25 01:20:22,394 - harmonypy - INFO - Computing initial centroids with sklearn.KMeans...\n"
     ]
    },
    {
     "name": "stdout",
     "output_type": "stream",
     "text": [
      "Harmony; "
     ]
    },
    {
     "name": "stderr",
     "output_type": "stream",
     "text": [
      "2024-03-25 01:22:47,948 - harmonypy - INFO - sklearn.KMeans initialization complete.\n"
     ]
    },
    {
     "name": "stdout",
     "output_type": "stream",
     "text": [
      "Neighbors; Leiden; UMAP; Renormalizing\n",
      "WARNING: adata.X seems to be already log-transformed.\n",
      "['14', '24']\n",
      "Normalizing; WARNING: adata.X seems to be already log-transformed.\n",
      "Finding HVGs; Scaling; PCA; "
     ]
    },
    {
     "name": "stderr",
     "output_type": "stream",
     "text": [
      "2024-03-25 01:40:59,363 - harmonypy - INFO - Computing initial centroids with sklearn.KMeans...\n"
     ]
    },
    {
     "name": "stdout",
     "output_type": "stream",
     "text": [
      "Harmony; "
     ]
    },
    {
     "name": "stderr",
     "output_type": "stream",
     "text": [
      "2024-03-25 01:41:04,039 - harmonypy - INFO - sklearn.KMeans initialization complete.\n"
     ]
    },
    {
     "name": "stdout",
     "output_type": "stream",
     "text": [
      "Neighbors; Leiden; UMAP; Renormalizing\n",
      "WARNING: adata.X seems to be already log-transformed.\n"
     ]
    },
    {
     "name": "stderr",
     "output_type": "stream",
     "text": [
      "/opt/conda/lib/python3.10/site-packages/anndata/_core/anndata.py:183: ImplicitModificationWarning: Transforming to str index.\n",
      "  warnings.warn(\"Transforming to str index.\", ImplicitModificationWarning)\n",
      "/opt/conda/lib/python3.10/site-packages/anndata/_core/anndata.py:183: ImplicitModificationWarning: Transforming to str index.\n",
      "  warnings.warn(\"Transforming to str index.\", ImplicitModificationWarning)\n",
      "/opt/conda/lib/python3.10/site-packages/anndata/_core/anndata.py:183: ImplicitModificationWarning: Transforming to str index.\n",
      "  warnings.warn(\"Transforming to str index.\", ImplicitModificationWarning)\n",
      "/tmp/ipykernel_673/3936082007.py:73: SettingWithCopyWarning: \n",
      "A value is trying to be set on a copy of a slice from a DataFrame\n",
      "\n",
      "See the caveats in the documentation: https://pandas.pydata.org/pandas-docs/stable/user_guide/indexing.html#returning-a-view-versus-a-copy\n",
      "  visit_group_adata.obs['AIFI_L3'][visit_group_adata.obs[clusters].isin(sel_cl)] = type_name\n"
     ]
    },
    {
     "name": "stdout",
     "output_type": "stream",
     "text": [
      "BR1_Male\n",
      "downloading fileID: 9997103a-4f8a-4e00-abc1-61a9674cf01b\n",
      "Files have been successfully downloaded!\n",
      "BR1_Male_Negative_Naive-CD4-T-cell: 336079 cells\n",
      "downloading fileID: 2aaa8f67-c64b-450c-9037-7a7cbde2c3e0\n",
      "Files have been successfully downloaded!\n",
      "BR1_Male_Positive_Naive-CD4-T-cell: 217206 cells\n",
      "Total: 553285 cells\n",
      ">>> Processing Immune Variation: 217945 cells\n",
      "Normalizing; Finding HVGs; Scaling; PCA; "
     ]
    },
    {
     "name": "stderr",
     "output_type": "stream",
     "text": [
      "2024-03-25 01:44:31,864 - harmonypy - INFO - Computing initial centroids with sklearn.KMeans...\n"
     ]
    },
    {
     "name": "stdout",
     "output_type": "stream",
     "text": [
      "Harmony; "
     ]
    },
    {
     "name": "stderr",
     "output_type": "stream",
     "text": [
      "2024-03-25 01:46:27,479 - harmonypy - INFO - sklearn.KMeans initialization complete.\n"
     ]
    },
    {
     "name": "stdout",
     "output_type": "stream",
     "text": [
      "Neighbors; Leiden; UMAP; Renormalizing\n",
      "WARNING: adata.X seems to be already log-transformed.\n",
      "['11', '25']\n",
      "Normalizing; WARNING: adata.X seems to be already log-transformed.\n",
      "Finding HVGs; Scaling; PCA; "
     ]
    },
    {
     "name": "stderr",
     "output_type": "stream",
     "text": [
      "2024-03-25 02:02:31,274 - harmonypy - INFO - Computing initial centroids with sklearn.KMeans...\n"
     ]
    },
    {
     "name": "stdout",
     "output_type": "stream",
     "text": [
      "Harmony; "
     ]
    },
    {
     "name": "stderr",
     "output_type": "stream",
     "text": [
      "2024-03-25 02:02:37,788 - harmonypy - INFO - sklearn.KMeans initialization complete.\n"
     ]
    },
    {
     "name": "stdout",
     "output_type": "stream",
     "text": [
      "Neighbors; Leiden; UMAP; Renormalizing\n",
      "WARNING: adata.X seems to be already log-transformed.\n"
     ]
    },
    {
     "name": "stderr",
     "output_type": "stream",
     "text": [
      "/opt/conda/lib/python3.10/site-packages/anndata/_core/anndata.py:183: ImplicitModificationWarning: Transforming to str index.\n",
      "  warnings.warn(\"Transforming to str index.\", ImplicitModificationWarning)\n",
      "/opt/conda/lib/python3.10/site-packages/anndata/_core/anndata.py:183: ImplicitModificationWarning: Transforming to str index.\n",
      "  warnings.warn(\"Transforming to str index.\", ImplicitModificationWarning)\n",
      "/opt/conda/lib/python3.10/site-packages/anndata/_core/anndata.py:183: ImplicitModificationWarning: Transforming to str index.\n",
      "  warnings.warn(\"Transforming to str index.\", ImplicitModificationWarning)\n",
      "/tmp/ipykernel_673/3936082007.py:73: SettingWithCopyWarning: \n",
      "A value is trying to be set on a copy of a slice from a DataFrame\n",
      "\n",
      "See the caveats in the documentation: https://pandas.pydata.org/pandas-docs/stable/user_guide/indexing.html#returning-a-view-versus-a-copy\n",
      "  visit_group_adata.obs['AIFI_L3'][visit_group_adata.obs[clusters].isin(sel_cl)] = type_name\n"
     ]
    },
    {
     "name": "stdout",
     "output_type": "stream",
     "text": [
      ">>> Processing Year 1: 183064 cells\n",
      "Normalizing; Finding HVGs; Scaling; PCA; "
     ]
    },
    {
     "name": "stderr",
     "output_type": "stream",
     "text": [
      "2024-03-25 02:04:34,021 - harmonypy - INFO - Computing initial centroids with sklearn.KMeans...\n"
     ]
    },
    {
     "name": "stdout",
     "output_type": "stream",
     "text": [
      "Harmony; "
     ]
    },
    {
     "name": "stderr",
     "output_type": "stream",
     "text": [
      "2024-03-25 02:06:14,428 - harmonypy - INFO - sklearn.KMeans initialization complete.\n"
     ]
    },
    {
     "name": "stdout",
     "output_type": "stream",
     "text": [
      "Neighbors; Leiden; UMAP; Renormalizing\n",
      "WARNING: adata.X seems to be already log-transformed.\n",
      "['16', '22']\n",
      "Normalizing; WARNING: adata.X seems to be already log-transformed.\n",
      "Finding HVGs; Scaling; PCA; "
     ]
    },
    {
     "name": "stderr",
     "output_type": "stream",
     "text": [
      "2024-03-25 02:18:38,246 - harmonypy - INFO - Computing initial centroids with sklearn.KMeans...\n"
     ]
    },
    {
     "name": "stdout",
     "output_type": "stream",
     "text": [
      "Harmony; "
     ]
    },
    {
     "name": "stderr",
     "output_type": "stream",
     "text": [
      "2024-03-25 02:18:41,938 - harmonypy - INFO - sklearn.KMeans initialization complete.\n"
     ]
    },
    {
     "name": "stdout",
     "output_type": "stream",
     "text": [
      "Neighbors; Leiden; UMAP; Renormalizing\n",
      "WARNING: adata.X seems to be already log-transformed.\n"
     ]
    },
    {
     "name": "stderr",
     "output_type": "stream",
     "text": [
      "/opt/conda/lib/python3.10/site-packages/anndata/_core/anndata.py:183: ImplicitModificationWarning: Transforming to str index.\n",
      "  warnings.warn(\"Transforming to str index.\", ImplicitModificationWarning)\n",
      "/opt/conda/lib/python3.10/site-packages/anndata/_core/anndata.py:183: ImplicitModificationWarning: Transforming to str index.\n",
      "  warnings.warn(\"Transforming to str index.\", ImplicitModificationWarning)\n",
      "/opt/conda/lib/python3.10/site-packages/anndata/_core/anndata.py:183: ImplicitModificationWarning: Transforming to str index.\n",
      "  warnings.warn(\"Transforming to str index.\", ImplicitModificationWarning)\n",
      "/tmp/ipykernel_673/3936082007.py:73: SettingWithCopyWarning: \n",
      "A value is trying to be set on a copy of a slice from a DataFrame\n",
      "\n",
      "See the caveats in the documentation: https://pandas.pydata.org/pandas-docs/stable/user_guide/indexing.html#returning-a-view-versus-a-copy\n",
      "  visit_group_adata.obs['AIFI_L3'][visit_group_adata.obs[clusters].isin(sel_cl)] = type_name\n"
     ]
    },
    {
     "name": "stdout",
     "output_type": "stream",
     "text": [
      ">>> Processing Year 2: 152276 cells\n",
      "Normalizing; Finding HVGs; Scaling; PCA; "
     ]
    },
    {
     "name": "stderr",
     "output_type": "stream",
     "text": [
      "2024-03-25 02:20:06,205 - harmonypy - INFO - Computing initial centroids with sklearn.KMeans...\n"
     ]
    },
    {
     "name": "stdout",
     "output_type": "stream",
     "text": [
      "Harmony; "
     ]
    },
    {
     "name": "stderr",
     "output_type": "stream",
     "text": [
      "2024-03-25 02:21:26,563 - harmonypy - INFO - sklearn.KMeans initialization complete.\n"
     ]
    },
    {
     "name": "stdout",
     "output_type": "stream",
     "text": [
      "Neighbors; Leiden; UMAP; Renormalizing\n",
      "WARNING: adata.X seems to be already log-transformed.\n",
      "['12']\n",
      "Normalizing; WARNING: adata.X seems to be already log-transformed.\n",
      "Finding HVGs; Scaling; PCA; "
     ]
    },
    {
     "name": "stderr",
     "output_type": "stream",
     "text": [
      "2024-03-25 02:29:58,708 - harmonypy - INFO - Computing initial centroids with sklearn.KMeans...\n"
     ]
    },
    {
     "name": "stdout",
     "output_type": "stream",
     "text": [
      "Harmony; "
     ]
    },
    {
     "name": "stderr",
     "output_type": "stream",
     "text": [
      "2024-03-25 02:30:04,155 - harmonypy - INFO - sklearn.KMeans initialization complete.\n"
     ]
    },
    {
     "name": "stdout",
     "output_type": "stream",
     "text": [
      "Neighbors; Leiden; UMAP; Renormalizing\n",
      "WARNING: adata.X seems to be already log-transformed.\n"
     ]
    },
    {
     "name": "stderr",
     "output_type": "stream",
     "text": [
      "/opt/conda/lib/python3.10/site-packages/anndata/_core/anndata.py:183: ImplicitModificationWarning: Transforming to str index.\n",
      "  warnings.warn(\"Transforming to str index.\", ImplicitModificationWarning)\n",
      "/opt/conda/lib/python3.10/site-packages/anndata/_core/anndata.py:183: ImplicitModificationWarning: Transforming to str index.\n",
      "  warnings.warn(\"Transforming to str index.\", ImplicitModificationWarning)\n",
      "/opt/conda/lib/python3.10/site-packages/anndata/_core/anndata.py:183: ImplicitModificationWarning: Transforming to str index.\n",
      "  warnings.warn(\"Transforming to str index.\", ImplicitModificationWarning)\n",
      "/tmp/ipykernel_673/3936082007.py:73: SettingWithCopyWarning: \n",
      "A value is trying to be set on a copy of a slice from a DataFrame\n",
      "\n",
      "See the caveats in the documentation: https://pandas.pydata.org/pandas-docs/stable/user_guide/indexing.html#returning-a-view-versus-a-copy\n",
      "  visit_group_adata.obs['AIFI_L3'][visit_group_adata.obs[clusters].isin(sel_cl)] = type_name\n"
     ]
    },
    {
     "name": "stdout",
     "output_type": "stream",
     "text": [
      "BR2_Female\n",
      "downloading fileID: 82a127b5-7025-41db-8d88-5347055a5268\n",
      "Files have been successfully downloaded!\n",
      "BR2_Female_Negative_Naive-CD4-T-cell: 323334 cells\n",
      "downloading fileID: 56630d0b-cdd9-43b0-8da4-9f7227b35190\n",
      "Files have been successfully downloaded!\n",
      "BR2_Female_Positive_Naive-CD4-T-cell: 545052 cells\n",
      "Total: 868386 cells\n",
      ">>> Processing Immune Variation: 326162 cells\n",
      "Normalizing; Finding HVGs; Scaling; PCA; "
     ]
    },
    {
     "name": "stderr",
     "output_type": "stream",
     "text": [
      "2024-03-25 02:33:51,736 - harmonypy - INFO - Computing initial centroids with sklearn.KMeans...\n"
     ]
    },
    {
     "name": "stdout",
     "output_type": "stream",
     "text": [
      "Harmony; "
     ]
    },
    {
     "name": "stderr",
     "output_type": "stream",
     "text": [
      "2024-03-25 02:36:27,354 - harmonypy - INFO - sklearn.KMeans initialization complete.\n"
     ]
    },
    {
     "name": "stdout",
     "output_type": "stream",
     "text": [
      "Neighbors; Leiden; UMAP; Renormalizing\n",
      "WARNING: adata.X seems to be already log-transformed.\n",
      "['12', '23', '24', '25']\n",
      "Normalizing; WARNING: adata.X seems to be already log-transformed.\n",
      "Finding HVGs; Scaling; PCA; "
     ]
    },
    {
     "name": "stderr",
     "output_type": "stream",
     "text": [
      "2024-03-25 03:05:15,385 - harmonypy - INFO - Computing initial centroids with sklearn.KMeans...\n"
     ]
    },
    {
     "name": "stdout",
     "output_type": "stream",
     "text": [
      "Harmony; "
     ]
    },
    {
     "name": "stderr",
     "output_type": "stream",
     "text": [
      "2024-03-25 03:05:22,096 - harmonypy - INFO - sklearn.KMeans initialization complete.\n"
     ]
    },
    {
     "name": "stdout",
     "output_type": "stream",
     "text": [
      "Neighbors; Leiden; UMAP; Renormalizing\n",
      "WARNING: adata.X seems to be already log-transformed.\n"
     ]
    },
    {
     "name": "stderr",
     "output_type": "stream",
     "text": [
      "/opt/conda/lib/python3.10/site-packages/anndata/_core/anndata.py:183: ImplicitModificationWarning: Transforming to str index.\n",
      "  warnings.warn(\"Transforming to str index.\", ImplicitModificationWarning)\n",
      "/opt/conda/lib/python3.10/site-packages/anndata/_core/anndata.py:183: ImplicitModificationWarning: Transforming to str index.\n",
      "  warnings.warn(\"Transforming to str index.\", ImplicitModificationWarning)\n",
      "/opt/conda/lib/python3.10/site-packages/anndata/_core/anndata.py:183: ImplicitModificationWarning: Transforming to str index.\n",
      "  warnings.warn(\"Transforming to str index.\", ImplicitModificationWarning)\n",
      "/tmp/ipykernel_673/3936082007.py:73: SettingWithCopyWarning: \n",
      "A value is trying to be set on a copy of a slice from a DataFrame\n",
      "\n",
      "See the caveats in the documentation: https://pandas.pydata.org/pandas-docs/stable/user_guide/indexing.html#returning-a-view-versus-a-copy\n",
      "  visit_group_adata.obs['AIFI_L3'][visit_group_adata.obs[clusters].isin(sel_cl)] = type_name\n"
     ]
    },
    {
     "name": "stdout",
     "output_type": "stream",
     "text": [
      ">>> Processing Year 1: 275417 cells\n",
      "Normalizing; Finding HVGs; Scaling; PCA; "
     ]
    },
    {
     "name": "stderr",
     "output_type": "stream",
     "text": [
      "2024-03-25 03:08:02,298 - harmonypy - INFO - Computing initial centroids with sklearn.KMeans...\n"
     ]
    },
    {
     "name": "stdout",
     "output_type": "stream",
     "text": [
      "Harmony; "
     ]
    },
    {
     "name": "stderr",
     "output_type": "stream",
     "text": [
      "2024-03-25 03:10:16,853 - harmonypy - INFO - sklearn.KMeans initialization complete.\n"
     ]
    },
    {
     "name": "stdout",
     "output_type": "stream",
     "text": [
      "Neighbors; Leiden; UMAP; Renormalizing\n",
      "WARNING: adata.X seems to be already log-transformed.\n",
      "['13', '23', '25']\n",
      "Normalizing; WARNING: adata.X seems to be already log-transformed.\n",
      "Finding HVGs; Scaling; PCA; "
     ]
    },
    {
     "name": "stderr",
     "output_type": "stream",
     "text": [
      "2024-03-25 03:29:43,857 - harmonypy - INFO - Computing initial centroids with sklearn.KMeans...\n"
     ]
    },
    {
     "name": "stdout",
     "output_type": "stream",
     "text": [
      "Harmony; "
     ]
    },
    {
     "name": "stderr",
     "output_type": "stream",
     "text": [
      "2024-03-25 03:29:48,359 - harmonypy - INFO - sklearn.KMeans initialization complete.\n"
     ]
    },
    {
     "name": "stdout",
     "output_type": "stream",
     "text": [
      "Neighbors; Leiden; UMAP; Renormalizing\n",
      "WARNING: adata.X seems to be already log-transformed.\n"
     ]
    },
    {
     "name": "stderr",
     "output_type": "stream",
     "text": [
      "/opt/conda/lib/python3.10/site-packages/anndata/_core/anndata.py:183: ImplicitModificationWarning: Transforming to str index.\n",
      "  warnings.warn(\"Transforming to str index.\", ImplicitModificationWarning)\n",
      "/opt/conda/lib/python3.10/site-packages/anndata/_core/anndata.py:183: ImplicitModificationWarning: Transforming to str index.\n",
      "  warnings.warn(\"Transforming to str index.\", ImplicitModificationWarning)\n",
      "/opt/conda/lib/python3.10/site-packages/anndata/_core/anndata.py:183: ImplicitModificationWarning: Transforming to str index.\n",
      "  warnings.warn(\"Transforming to str index.\", ImplicitModificationWarning)\n",
      "/tmp/ipykernel_673/3936082007.py:73: SettingWithCopyWarning: \n",
      "A value is trying to be set on a copy of a slice from a DataFrame\n",
      "\n",
      "See the caveats in the documentation: https://pandas.pydata.org/pandas-docs/stable/user_guide/indexing.html#returning-a-view-versus-a-copy\n",
      "  visit_group_adata.obs['AIFI_L3'][visit_group_adata.obs[clusters].isin(sel_cl)] = type_name\n"
     ]
    },
    {
     "name": "stdout",
     "output_type": "stream",
     "text": [
      ">>> Processing Year 2: 266807 cells\n",
      "Normalizing; Finding HVGs; Scaling; PCA; "
     ]
    },
    {
     "name": "stderr",
     "output_type": "stream",
     "text": [
      "2024-03-25 03:31:55,984 - harmonypy - INFO - Computing initial centroids with sklearn.KMeans...\n"
     ]
    },
    {
     "name": "stdout",
     "output_type": "stream",
     "text": [
      "Harmony; "
     ]
    },
    {
     "name": "stderr",
     "output_type": "stream",
     "text": [
      "2024-03-25 03:34:12,769 - harmonypy - INFO - sklearn.KMeans initialization complete.\n"
     ]
    },
    {
     "name": "stdout",
     "output_type": "stream",
     "text": [
      "Neighbors; Leiden; UMAP; Renormalizing\n",
      "WARNING: adata.X seems to be already log-transformed.\n",
      "['10', '19']\n",
      "Normalizing; WARNING: adata.X seems to be already log-transformed.\n",
      "Finding HVGs; Scaling; PCA; "
     ]
    },
    {
     "name": "stderr",
     "output_type": "stream",
     "text": [
      "2024-03-25 03:54:24,823 - harmonypy - INFO - Computing initial centroids with sklearn.KMeans...\n"
     ]
    },
    {
     "name": "stdout",
     "output_type": "stream",
     "text": [
      "Harmony; "
     ]
    },
    {
     "name": "stderr",
     "output_type": "stream",
     "text": [
      "2024-03-25 03:54:33,850 - harmonypy - INFO - sklearn.KMeans initialization complete.\n"
     ]
    },
    {
     "name": "stdout",
     "output_type": "stream",
     "text": [
      "Neighbors; Leiden; UMAP; Renormalizing\n",
      "WARNING: adata.X seems to be already log-transformed.\n"
     ]
    },
    {
     "name": "stderr",
     "output_type": "stream",
     "text": [
      "/opt/conda/lib/python3.10/site-packages/anndata/_core/anndata.py:183: ImplicitModificationWarning: Transforming to str index.\n",
      "  warnings.warn(\"Transforming to str index.\", ImplicitModificationWarning)\n",
      "/opt/conda/lib/python3.10/site-packages/anndata/_core/anndata.py:183: ImplicitModificationWarning: Transforming to str index.\n",
      "  warnings.warn(\"Transforming to str index.\", ImplicitModificationWarning)\n",
      "/opt/conda/lib/python3.10/site-packages/anndata/_core/anndata.py:183: ImplicitModificationWarning: Transforming to str index.\n",
      "  warnings.warn(\"Transforming to str index.\", ImplicitModificationWarning)\n",
      "/tmp/ipykernel_673/3936082007.py:73: SettingWithCopyWarning: \n",
      "A value is trying to be set on a copy of a slice from a DataFrame\n",
      "\n",
      "See the caveats in the documentation: https://pandas.pydata.org/pandas-docs/stable/user_guide/indexing.html#returning-a-view-versus-a-copy\n",
      "  visit_group_adata.obs['AIFI_L3'][visit_group_adata.obs[clusters].isin(sel_cl)] = type_name\n"
     ]
    },
    {
     "name": "stdout",
     "output_type": "stream",
     "text": [
      "BR2_Male\n",
      "downloading fileID: 22d42b15-1ae2-4b3f-8b6d-39dce427f765\n",
      "Files have been successfully downloaded!\n",
      "BR2_Male_Negative_Naive-CD4-T-cell: 319309 cells\n",
      "downloading fileID: 87c3b749-c177-4fa1-8747-c8faa4e4859e\n",
      "Files have been successfully downloaded!\n",
      "BR2_Male_Positive_Naive-CD4-T-cell: 235131 cells\n",
      "Total: 554440 cells\n",
      ">>> Processing Immune Variation: 189772 cells\n",
      "Normalizing; Finding HVGs; Scaling; PCA; "
     ]
    },
    {
     "name": "stderr",
     "output_type": "stream",
     "text": [
      "2024-03-25 03:59:03,004 - harmonypy - INFO - Computing initial centroids with sklearn.KMeans...\n"
     ]
    },
    {
     "name": "stdout",
     "output_type": "stream",
     "text": [
      "Harmony; "
     ]
    },
    {
     "name": "stderr",
     "output_type": "stream",
     "text": [
      "2024-03-25 04:00:40,785 - harmonypy - INFO - sklearn.KMeans initialization complete.\n"
     ]
    },
    {
     "name": "stdout",
     "output_type": "stream",
     "text": [
      "Neighbors; Leiden; UMAP; Renormalizing\n",
      "WARNING: adata.X seems to be already log-transformed.\n",
      "['15']\n",
      "Normalizing; WARNING: adata.X seems to be already log-transformed.\n",
      "Finding HVGs; Scaling; PCA; "
     ]
    },
    {
     "name": "stderr",
     "output_type": "stream",
     "text": [
      "2024-03-25 04:15:04,557 - harmonypy - INFO - Computing initial centroids with sklearn.KMeans...\n"
     ]
    },
    {
     "name": "stdout",
     "output_type": "stream",
     "text": [
      "Harmony; "
     ]
    },
    {
     "name": "stderr",
     "output_type": "stream",
     "text": [
      "2024-03-25 04:15:09,006 - harmonypy - INFO - sklearn.KMeans initialization complete.\n"
     ]
    },
    {
     "name": "stdout",
     "output_type": "stream",
     "text": [
      "Neighbors; Leiden; UMAP; Renormalizing\n",
      "WARNING: adata.X seems to be already log-transformed.\n"
     ]
    },
    {
     "name": "stderr",
     "output_type": "stream",
     "text": [
      "/opt/conda/lib/python3.10/site-packages/anndata/_core/anndata.py:183: ImplicitModificationWarning: Transforming to str index.\n",
      "  warnings.warn(\"Transforming to str index.\", ImplicitModificationWarning)\n",
      "/opt/conda/lib/python3.10/site-packages/anndata/_core/anndata.py:183: ImplicitModificationWarning: Transforming to str index.\n",
      "  warnings.warn(\"Transforming to str index.\", ImplicitModificationWarning)\n",
      "/opt/conda/lib/python3.10/site-packages/anndata/_core/anndata.py:183: ImplicitModificationWarning: Transforming to str index.\n",
      "  warnings.warn(\"Transforming to str index.\", ImplicitModificationWarning)\n",
      "/tmp/ipykernel_673/3936082007.py:73: SettingWithCopyWarning: \n",
      "A value is trying to be set on a copy of a slice from a DataFrame\n",
      "\n",
      "See the caveats in the documentation: https://pandas.pydata.org/pandas-docs/stable/user_guide/indexing.html#returning-a-view-versus-a-copy\n",
      "  visit_group_adata.obs['AIFI_L3'][visit_group_adata.obs[clusters].isin(sel_cl)] = type_name\n"
     ]
    },
    {
     "name": "stdout",
     "output_type": "stream",
     "text": [
      ">>> Processing Year 1: 193181 cells\n",
      "Normalizing; Finding HVGs; Scaling; PCA; "
     ]
    },
    {
     "name": "stderr",
     "output_type": "stream",
     "text": [
      "2024-03-25 04:16:43,000 - harmonypy - INFO - Computing initial centroids with sklearn.KMeans...\n"
     ]
    },
    {
     "name": "stdout",
     "output_type": "stream",
     "text": [
      "Harmony; "
     ]
    },
    {
     "name": "stderr",
     "output_type": "stream",
     "text": [
      "2024-03-25 04:18:24,077 - harmonypy - INFO - sklearn.KMeans initialization complete.\n"
     ]
    },
    {
     "name": "stdout",
     "output_type": "stream",
     "text": [
      "Neighbors; Leiden; UMAP; Renormalizing\n",
      "WARNING: adata.X seems to be already log-transformed.\n",
      "['13']\n",
      "Normalizing; WARNING: adata.X seems to be already log-transformed.\n",
      "Finding HVGs; Scaling; PCA; "
     ]
    },
    {
     "name": "stderr",
     "output_type": "stream",
     "text": [
      "2024-03-25 04:31:08,867 - harmonypy - INFO - Computing initial centroids with sklearn.KMeans...\n"
     ]
    },
    {
     "name": "stdout",
     "output_type": "stream",
     "text": [
      "Harmony; "
     ]
    },
    {
     "name": "stderr",
     "output_type": "stream",
     "text": [
      "2024-03-25 04:31:14,658 - harmonypy - INFO - sklearn.KMeans initialization complete.\n"
     ]
    },
    {
     "name": "stdout",
     "output_type": "stream",
     "text": [
      "Neighbors; Leiden; UMAP; Renormalizing\n",
      "WARNING: adata.X seems to be already log-transformed.\n"
     ]
    },
    {
     "name": "stderr",
     "output_type": "stream",
     "text": [
      "/opt/conda/lib/python3.10/site-packages/anndata/_core/anndata.py:183: ImplicitModificationWarning: Transforming to str index.\n",
      "  warnings.warn(\"Transforming to str index.\", ImplicitModificationWarning)\n",
      "/opt/conda/lib/python3.10/site-packages/anndata/_core/anndata.py:183: ImplicitModificationWarning: Transforming to str index.\n",
      "  warnings.warn(\"Transforming to str index.\", ImplicitModificationWarning)\n",
      "/opt/conda/lib/python3.10/site-packages/anndata/_core/anndata.py:183: ImplicitModificationWarning: Transforming to str index.\n",
      "  warnings.warn(\"Transforming to str index.\", ImplicitModificationWarning)\n",
      "/tmp/ipykernel_673/3936082007.py:73: SettingWithCopyWarning: \n",
      "A value is trying to be set on a copy of a slice from a DataFrame\n",
      "\n",
      "See the caveats in the documentation: https://pandas.pydata.org/pandas-docs/stable/user_guide/indexing.html#returning-a-view-versus-a-copy\n",
      "  visit_group_adata.obs['AIFI_L3'][visit_group_adata.obs[clusters].isin(sel_cl)] = type_name\n"
     ]
    },
    {
     "name": "stdout",
     "output_type": "stream",
     "text": [
      ">>> Processing Year 2: 171487 cells\n",
      "Normalizing; Finding HVGs; Scaling; PCA; "
     ]
    },
    {
     "name": "stderr",
     "output_type": "stream",
     "text": [
      "2024-03-25 04:33:07,114 - harmonypy - INFO - Computing initial centroids with sklearn.KMeans...\n"
     ]
    },
    {
     "name": "stdout",
     "output_type": "stream",
     "text": [
      "Harmony; "
     ]
    },
    {
     "name": "stderr",
     "output_type": "stream",
     "text": [
      "2024-03-25 04:34:35,969 - harmonypy - INFO - sklearn.KMeans initialization complete.\n"
     ]
    },
    {
     "name": "stdout",
     "output_type": "stream",
     "text": [
      "Neighbors; Leiden; UMAP; Renormalizing\n",
      "WARNING: adata.X seems to be already log-transformed.\n",
      "['12']\n",
      "Normalizing; WARNING: adata.X seems to be already log-transformed.\n",
      "Finding HVGs; Scaling; PCA; "
     ]
    },
    {
     "name": "stderr",
     "output_type": "stream",
     "text": [
      "2024-03-25 04:46:14,008 - harmonypy - INFO - Computing initial centroids with sklearn.KMeans...\n"
     ]
    },
    {
     "name": "stdout",
     "output_type": "stream",
     "text": [
      "Harmony; "
     ]
    },
    {
     "name": "stderr",
     "output_type": "stream",
     "text": [
      "2024-03-25 04:46:19,444 - harmonypy - INFO - sklearn.KMeans initialization complete.\n"
     ]
    },
    {
     "name": "stdout",
     "output_type": "stream",
     "text": [
      "Neighbors; Leiden; UMAP; Renormalizing\n",
      "WARNING: adata.X seems to be already log-transformed.\n"
     ]
    },
    {
     "name": "stderr",
     "output_type": "stream",
     "text": [
      "/opt/conda/lib/python3.10/site-packages/anndata/_core/anndata.py:183: ImplicitModificationWarning: Transforming to str index.\n",
      "  warnings.warn(\"Transforming to str index.\", ImplicitModificationWarning)\n",
      "/opt/conda/lib/python3.10/site-packages/anndata/_core/anndata.py:183: ImplicitModificationWarning: Transforming to str index.\n",
      "  warnings.warn(\"Transforming to str index.\", ImplicitModificationWarning)\n",
      "/opt/conda/lib/python3.10/site-packages/anndata/_core/anndata.py:183: ImplicitModificationWarning: Transforming to str index.\n",
      "  warnings.warn(\"Transforming to str index.\", ImplicitModificationWarning)\n",
      "/tmp/ipykernel_673/3936082007.py:73: SettingWithCopyWarning: \n",
      "A value is trying to be set on a copy of a slice from a DataFrame\n",
      "\n",
      "See the caveats in the documentation: https://pandas.pydata.org/pandas-docs/stable/user_guide/indexing.html#returning-a-view-versus-a-copy\n",
      "  visit_group_adata.obs['AIFI_L3'][visit_group_adata.obs[clusters].isin(sel_cl)] = type_name\n"
     ]
    }
   ],
   "source": [
    "for grouping, meta in split_meta.items():\n",
    "    print(grouping)\n",
    "\n",
    "    # Check if output files have been generated previously\n",
    "    out_files = {}\n",
    "    out_exists = []\n",
    "    for visit_group in visit_groups:\n",
    "        out_file = 'output/diha_{c}_{g}_{v}_AIFI_L3_review_{d}.h5ad'.format(\n",
    "            c = class_name,\n",
    "            g = grouping,\n",
    "            v = visit_group,\n",
    "            d = date.today()\n",
    "        )\n",
    "        out_files[visit_group] = [out_file]\n",
    "        out_exists.append(os.path.isfile(out_file))\n",
    "    \n",
    "    if sum(out_exists) == len(visit_groups):\n",
    "        print('{g} Previously processed. Skipping.'.format(g = grouping))\n",
    "    else:\n",
    "        \n",
    "        # Read Large Files\n",
    "        large_group_uuids = large_uuids[grouping]\n",
    "        for group_name, uuid in large_group_uuids.items():\n",
    "            group_adata = read_adata_uuid(uuid)\n",
    "            print('{g}: {n} cells'.format(g = group_name, n = group_adata.shape[0]))\n",
    "            if not \"all_adata\" in globals():\n",
    "                all_adata = group_adata\n",
    "            else:\n",
    "                all_adata = sc.concat([all_adata, group_adata])\n",
    "            del group_adata\n",
    "        print('Total: {n} cells'.format(n = all_adata.shape[0]))\n",
    "        \n",
    "        visit_group_meta = meta.groupby('sample.visitGroup')\n",
    "\n",
    "        for (visit_group, visit_meta) in visit_group_meta:\n",
    "            out_file = out_files[visit_group][0]\n",
    "            keep_cells = all_adata.obs['sample.sampleKitGuid'].isin(visit_meta['sample.sampleKitGuid'])\n",
    "            visit_group_adata = all_adata[keep_cells]\n",
    "            print('>>> Processing {v}: {n} cells'.format(v = visit_group, n = visit_group_adata.shape[0]))\n",
    "            \n",
    "            visit_group_adata = process_adata(visit_group_adata)\n",
    "            \n",
    "            # Refine labels based on in-group clustering\n",
    "            isg_hi_labels = isg_hi_refinement(visit_group_adata, refine_res = 3)\n",
    "            \n",
    "            visit_group_adata = assign_most_frequent(\n",
    "                visit_group_adata, \n",
    "                clusters, 'AIFI_L3', \n",
    "                keep_original = True, \n",
    "                original_prefix = 'predicted_'\n",
    "            )\n",
    "\n",
    "            # Correct ISG-high labels\n",
    "            isg_idx = visit_group_adata.obs['barcodes'].isin(isg_hi_labels['barcodes'])\n",
    "            isg_adata = visit_group_adata[isg_idx]\n",
    "            visit_group_adata = visit_group_adata[[not x for x in isg_idx]]\n",
    "            isg_obs = isg_adata.obs.drop(['AIFI_L3', 'predicted_AIFI_L3'], axis = 1)\n",
    "            isg_obs = isg_obs.reset_index(drop = True)\n",
    "            isg_obs = isg_obs.merge(isg_hi_labels, on = 'barcodes', how = 'left')\n",
    "            isg_obs = isg_obs.set_index('barcodes', drop = False)\n",
    "            isg_adata.obs = isg_obs\n",
    "            \n",
    "            visit_group_adata = sc.concat([visit_group_adata, isg_adata])\n",
    "            \n",
    "            ## Manual overrides\n",
    "            type_name = 'SOX4+ naive CD4 T cell'\n",
    "            sel_cl = select_clusters_above_gene_frac(\n",
    "                visit_group_adata, 'SOX4', 0.2, clusters\n",
    "            )\n",
    "            #if not type_name in visit_group_adata.obs['AIFI_L3'].cat.categories:\n",
    "            #    visit_group_adata.obs['AIFI_L3'] = adata.obs['AIFI_L3'].cat.add_categories([type_name])\n",
    "            visit_group_adata.obs['AIFI_L3'] = visit_group_adata.obs['AIFI_L3'].astype(str)\n",
    "            visit_group_adata.obs['AIFI_L3'][visit_group_adata.obs[clusters].isin(sel_cl)] = type_name\n",
    "\n",
    "            visit_group_adata.obs['AIFI_L3'] = visit_group_adata.obs['AIFI_L3'].astype('category')\n",
    "            \n",
    "            # Ensure levels are consistent\n",
    "            visit_group_adata = propagate_hierarchy(\n",
    "                visit_group_adata,\n",
    "                hierarchy_df,\n",
    "                from_level = 'AIFI_L3',\n",
    "                to_levels = ['AIFI_L2', 'AIFI_L1'],\n",
    "                keep_original = True,\n",
    "                original_prefix = 'predicted_'\n",
    "            )\n",
    "            \n",
    "            # Save results for this visit group\n",
    "            visit_group_adata.write_h5ad(out_file)\n",
    "\n",
    "            # Save metadata and UMAP\n",
    "            meta_csv = 'output/review/diha_{c}_{g}_{v}_AIFI_L3_review_meta_{d}.csv'.format(\n",
    "                c = class_name,\n",
    "                g = grouping,\n",
    "                v = visit_group,\n",
    "                d = date.today()\n",
    "            )\n",
    "            visit_group_obs = obs_with_umap(visit_group_adata)\n",
    "            visit_group_obs.to_csv(meta_csv)\n",
    "            out_files[visit_group].append(meta_csv)\n",
    "\n",
    "            # Save marker expression summaries\n",
    "            out_l2_markers = 'output/review/diha_{c}_{g}_{v}_AIFI_L2_review_markers_{d}.csv'.format(\n",
    "                c = class_name,\n",
    "                g = grouping,\n",
    "                v = visit_group,\n",
    "                d = date.today()\n",
    "            )\n",
    "            l2_marker_df = tidy_marker_df(\n",
    "                visit_group_adata,\n",
    "                l2_markers,\n",
    "                'AIFI_L2'\n",
    "            )\n",
    "            l2_marker_df.to_csv(out_l2_markers)\n",
    "            out_files[visit_group].append(out_l2_markers)\n",
    "\n",
    "            out_l3_markers = 'output/review/diha_{c}_{g}_{v}_AIFI_L3_review_markers_{d}.csv'.format(\n",
    "                c = class_name,\n",
    "                g = grouping,\n",
    "                v = visit_group,\n",
    "                d = date.today()\n",
    "            )\n",
    "            l3_marker_df = tidy_marker_df(\n",
    "                visit_group_adata,\n",
    "                l3_markers,\n",
    "                'AIFI_L3'\n",
    "            )\n",
    "            l3_marker_df.to_csv(out_l3_markers)\n",
    "            out_files[visit_group].append(out_l3_markers)\n",
    "\n",
    "        del all_adata"
   ]
  },
  {
   "cell_type": "markdown",
   "id": "a6170b85-01c5-4b8c-9e57-89dfd7925df3",
   "metadata": {},
   "source": [
    "## Assemble output files for upload"
   ]
  },
  {
   "cell_type": "markdown",
   "id": "cbe2a0c5-29a9-4933-baec-2c8de9a84e41",
   "metadata": {},
   "source": [
    "### h5ad files"
   ]
  },
  {
   "cell_type": "code",
   "execution_count": 34,
   "id": "3893269f-b968-40d6-8ee7-81eb8509e4e7",
   "metadata": {},
   "outputs": [],
   "source": [
    "output_files = os.listdir('output')\n",
    "h5ad_files = []\n",
    "for output_file in output_files:\n",
    "    if class_name in output_file:\n",
    "        h5ad_files.append('{d}/{f}'.format(d = 'output', f = output_file))"
   ]
  },
  {
   "cell_type": "markdown",
   "id": "863b1a25-11a3-4668-97dc-30af9d4fe82f",
   "metadata": {},
   "source": [
    "### Review files"
   ]
  },
  {
   "cell_type": "code",
   "execution_count": 35,
   "id": "598f775f-f536-4065-9a23-2d07c74a08b1",
   "metadata": {},
   "outputs": [],
   "source": [
    "rev_files = os.listdir('output/review')\n",
    "review_files = []\n",
    "for rev_file in rev_files:\n",
    "    if class_name in rev_file:\n",
    "        review_files.append('{d}/{f}'.format(d = 'output/review', f = rev_file))"
   ]
  },
  {
   "cell_type": "markdown",
   "id": "89c4cb8d-8a29-45e6-a2bb-1ac0417ec3bc",
   "metadata": {},
   "source": [
    "### Combine metadata files to assemble a full set"
   ]
  },
  {
   "cell_type": "code",
   "execution_count": 36,
   "id": "dbd7ea74-b453-4d8f-8976-decee8401d61",
   "metadata": {},
   "outputs": [],
   "source": [
    "meta_files = []\n",
    "for review_file in review_files:\n",
    "    if 'meta' in review_file:\n",
    "        meta_files.append(review_file)\n",
    "\n",
    "meta_list = []\n",
    "for meta_file in meta_files:\n",
    "    meta_list.append(pd.read_csv(meta_file, index_col = 0))\n",
    "all_meta = pd.concat(meta_list)"
   ]
  },
  {
   "cell_type": "code",
   "execution_count": 37,
   "id": "e8f13a94-79d6-47c2-8226-1f632eacfdf1",
   "metadata": {},
   "outputs": [],
   "source": [
    "meta_csv = 'output/diha_{c}_AIFI_L3_refinement_meta_{d}.csv'.format(c = class_name, d = date.today())\n",
    "all_meta.to_csv(meta_csv)\n",
    "meta_parquet = 'output/diha_{c}_AIFI_L3_refinement_meta_{d}.parquet'.format(c = class_name, d = date.today())\n",
    "all_meta.to_parquet(meta_parquet)"
   ]
  },
  {
   "cell_type": "markdown",
   "id": "5aacae4e-169e-4a03-9e5e-4304b3540dc5",
   "metadata": {},
   "source": [
    "### Bundle review files into a .tar for later use"
   ]
  },
  {
   "cell_type": "code",
   "execution_count": 38,
   "id": "db818697-2988-4527-b4af-3c494505a8bc",
   "metadata": {},
   "outputs": [],
   "source": [
    "review_tar = 'output/diha_{c}_AIFI_L3_refinement_review_{d}.tar.gz'.format(c = class_name, d = date.today())\n",
    "tar = tarfile.open(review_tar, 'w:gz')\n",
    "for review_file in review_files:\n",
    "    tar.add(review_file)\n",
    "tar.close()"
   ]
  },
  {
   "cell_type": "markdown",
   "id": "b054a5db-d538-4d0e-b289-1a6d6bfc3b86",
   "metadata": {},
   "source": [
    "## Upload assembled results to HISE"
   ]
  },
  {
   "cell_type": "code",
   "execution_count": 39,
   "id": "e8acd9f3-2829-489e-b4a2-9f8db8c1dd46",
   "metadata": {},
   "outputs": [],
   "source": [
    "study_space_uuid = 'de025812-5e73-4b3c-9c3b-6d0eac412f2a'\n",
    "title = 'DIHA Naive CD4 T Label Refinement AIFI_L3 {d}'.format(d = date.today())"
   ]
  },
  {
   "cell_type": "code",
   "execution_count": 40,
   "id": "b282b66f-7ac1-41fe-8954-aa277f87922c",
   "metadata": {},
   "outputs": [
    {
     "data": {
      "text/plain": [
       "['b55301f1-2289-45a6-b14d-b1ee31a7f11c',\n",
       " '5a50a26e-1a56-4239-ba8e-dc0b8f3ef91d',\n",
       " '9997103a-4f8a-4e00-abc1-61a9674cf01b',\n",
       " '2aaa8f67-c64b-450c-9037-7a7cbde2c3e0',\n",
       " '82a127b5-7025-41db-8d88-5347055a5268',\n",
       " '56630d0b-cdd9-43b0-8da4-9f7227b35190',\n",
       " '22d42b15-1ae2-4b3f-8b6d-39dce427f765',\n",
       " '87c3b749-c177-4fa1-8747-c8faa4e4859e']"
      ]
     },
     "execution_count": 40,
     "metadata": {},
     "output_type": "execute_result"
    }
   ],
   "source": [
    "in_files = []\n",
    "for group_name, file_dict in large_uuids.items():\n",
    "    for type_group, uuid in file_dict.items():\n",
    "        in_files.append(uuid)\n",
    "in_files"
   ]
  },
  {
   "cell_type": "code",
   "execution_count": 41,
   "id": "39c5b834-f089-47dd-9b58-aa226b5b0bab",
   "metadata": {},
   "outputs": [],
   "source": [
    "out_files = h5ad_files + [meta_csv, meta_parquet, review_tar]"
   ]
  },
  {
   "cell_type": "code",
   "execution_count": 42,
   "id": "dee36e55-19ac-447e-8752-f0184e472609",
   "metadata": {},
   "outputs": [
    {
     "data": {
      "text/plain": [
       "['output/diha_naive_cd4_t_cell_BR1_Male_Year 1_AIFI_L3_review_2024-03-25.h5ad',\n",
       " 'output/diha_naive_cd4_t_cell_BR2_Female_Year 2_AIFI_L3_review_2024-03-25.h5ad',\n",
       " 'output/diha_naive_cd4_t_cell_BR2_Female_Year 1_AIFI_L3_review_2024-03-25.h5ad',\n",
       " 'output/diha_naive_cd4_t_cell_BR2_Male_Year 1_AIFI_L3_review_2024-03-25.h5ad',\n",
       " 'output/diha_naive_cd4_t_cell_BR1_Female_Year 1_AIFI_L3_review_2024-03-25.h5ad',\n",
       " 'output/diha_naive_cd4_t_cell_BR2_Female_Immune Variation_AIFI_L3_review_2024-03-25.h5ad',\n",
       " 'output/diha_naive_cd4_t_cell_BR2_Male_Year 2_AIFI_L3_review_2024-03-25.h5ad',\n",
       " 'output/diha_naive_cd4_t_cell_BR1_Female_Immune Variation_AIFI_L3_review_2024-03-25.h5ad',\n",
       " 'output/diha_naive_cd4_t_cell_BR1_Female_Year 2_AIFI_L3_review_2024-03-25.h5ad',\n",
       " 'output/diha_naive_cd4_t_cell_BR1_Male_Year 2_AIFI_L3_review_2024-03-25.h5ad',\n",
       " 'output/diha_naive_cd4_t_cell_BR2_Male_Immune Variation_AIFI_L3_review_2024-03-25.h5ad',\n",
       " 'output/diha_naive_cd4_t_cell_BR1_Male_Immune Variation_AIFI_L3_review_2024-03-25.h5ad',\n",
       " 'output/diha_naive_cd4_t_cell_AIFI_L3_refinement_meta_2024-03-25.csv',\n",
       " 'output/diha_naive_cd4_t_cell_AIFI_L3_refinement_meta_2024-03-25.parquet',\n",
       " 'output/diha_naive_cd4_t_cell_AIFI_L3_refinement_review_2024-03-25.tar.gz']"
      ]
     },
     "execution_count": 42,
     "metadata": {},
     "output_type": "execute_result"
    }
   ],
   "source": [
    "out_files"
   ]
  },
  {
   "cell_type": "code",
   "execution_count": 43,
   "id": "f3683044-9a89-4358-aa00-8a16e3f2737c",
   "metadata": {},
   "outputs": [
    {
     "name": "stdout",
     "output_type": "stream",
     "text": [
      "output/diha_naive_cd4_t_cell_BR1_Male_Year 1_AIFI_L3_review_2024-03-25.h5ad\n",
      "output/diha_naive_cd4_t_cell_BR2_Female_Year 2_AIFI_L3_review_2024-03-25.h5ad\n",
      "output/diha_naive_cd4_t_cell_BR2_Female_Year 1_AIFI_L3_review_2024-03-25.h5ad\n",
      "output/diha_naive_cd4_t_cell_BR2_Male_Year 1_AIFI_L3_review_2024-03-25.h5ad\n",
      "output/diha_naive_cd4_t_cell_BR1_Female_Year 1_AIFI_L3_review_2024-03-25.h5ad\n",
      "output/diha_naive_cd4_t_cell_BR2_Female_Immune Variation_AIFI_L3_review_2024-03-25.h5ad\n",
      "output/diha_naive_cd4_t_cell_BR2_Male_Year 2_AIFI_L3_review_2024-03-25.h5ad\n",
      "output/diha_naive_cd4_t_cell_BR1_Female_Immune Variation_AIFI_L3_review_2024-03-25.h5ad\n",
      "output/diha_naive_cd4_t_cell_BR1_Female_Year 2_AIFI_L3_review_2024-03-25.h5ad\n",
      "output/diha_naive_cd4_t_cell_BR1_Male_Year 2_AIFI_L3_review_2024-03-25.h5ad\n",
      "output/diha_naive_cd4_t_cell_BR2_Male_Immune Variation_AIFI_L3_review_2024-03-25.h5ad\n",
      "output/diha_naive_cd4_t_cell_BR1_Male_Immune Variation_AIFI_L3_review_2024-03-25.h5ad\n",
      "output/diha_naive_cd4_t_cell_AIFI_L3_refinement_meta_2024-03-25.csv\n",
      "output/diha_naive_cd4_t_cell_AIFI_L3_refinement_meta_2024-03-25.parquet\n",
      "output/diha_naive_cd4_t_cell_AIFI_L3_refinement_review_2024-03-25.tar.gz\n",
      "you are trying to upload file_ids... ['output/diha_naive_cd4_t_cell_BR1_Male_Year 1_AIFI_L3_review_2024-03-25.h5ad', 'output/diha_naive_cd4_t_cell_BR2_Female_Year 2_AIFI_L3_review_2024-03-25.h5ad', 'output/diha_naive_cd4_t_cell_BR2_Female_Year 1_AIFI_L3_review_2024-03-25.h5ad', 'output/diha_naive_cd4_t_cell_BR2_Male_Year 1_AIFI_L3_review_2024-03-25.h5ad', 'output/diha_naive_cd4_t_cell_BR1_Female_Year 1_AIFI_L3_review_2024-03-25.h5ad', 'output/diha_naive_cd4_t_cell_BR2_Female_Immune Variation_AIFI_L3_review_2024-03-25.h5ad', 'output/diha_naive_cd4_t_cell_BR2_Male_Year 2_AIFI_L3_review_2024-03-25.h5ad', 'output/diha_naive_cd4_t_cell_BR1_Female_Immune Variation_AIFI_L3_review_2024-03-25.h5ad', 'output/diha_naive_cd4_t_cell_BR1_Female_Year 2_AIFI_L3_review_2024-03-25.h5ad', 'output/diha_naive_cd4_t_cell_BR1_Male_Year 2_AIFI_L3_review_2024-03-25.h5ad', 'output/diha_naive_cd4_t_cell_BR2_Male_Immune Variation_AIFI_L3_review_2024-03-25.h5ad', 'output/diha_naive_cd4_t_cell_BR1_Male_Immune Variation_AIFI_L3_review_2024-03-25.h5ad', 'output/diha_naive_cd4_t_cell_AIFI_L3_refinement_meta_2024-03-25.csv', 'output/diha_naive_cd4_t_cell_AIFI_L3_refinement_meta_2024-03-25.parquet', 'output/diha_naive_cd4_t_cell_AIFI_L3_refinement_review_2024-03-25.tar.gz']. Do you truly want to proceed?\n"
     ]
    },
    {
     "name": "stdin",
     "output_type": "stream",
     "text": [
      "(y/n) y\n"
     ]
    },
    {
     "data": {
      "text/plain": [
       "{'trace_id': '41b407a5-8637-4c19-9efc-1e163ef4704a',\n",
       " 'files': ['output/diha_naive_cd4_t_cell_BR1_Male_Year 1_AIFI_L3_review_2024-03-25.h5ad',\n",
       "  'output/diha_naive_cd4_t_cell_BR2_Female_Year 2_AIFI_L3_review_2024-03-25.h5ad',\n",
       "  'output/diha_naive_cd4_t_cell_BR2_Female_Year 1_AIFI_L3_review_2024-03-25.h5ad',\n",
       "  'output/diha_naive_cd4_t_cell_BR2_Male_Year 1_AIFI_L3_review_2024-03-25.h5ad',\n",
       "  'output/diha_naive_cd4_t_cell_BR1_Female_Year 1_AIFI_L3_review_2024-03-25.h5ad',\n",
       "  'output/diha_naive_cd4_t_cell_BR2_Female_Immune Variation_AIFI_L3_review_2024-03-25.h5ad',\n",
       "  'output/diha_naive_cd4_t_cell_BR2_Male_Year 2_AIFI_L3_review_2024-03-25.h5ad',\n",
       "  'output/diha_naive_cd4_t_cell_BR1_Female_Immune Variation_AIFI_L3_review_2024-03-25.h5ad',\n",
       "  'output/diha_naive_cd4_t_cell_BR1_Female_Year 2_AIFI_L3_review_2024-03-25.h5ad',\n",
       "  'output/diha_naive_cd4_t_cell_BR1_Male_Year 2_AIFI_L3_review_2024-03-25.h5ad',\n",
       "  'output/diha_naive_cd4_t_cell_BR2_Male_Immune Variation_AIFI_L3_review_2024-03-25.h5ad',\n",
       "  'output/diha_naive_cd4_t_cell_BR1_Male_Immune Variation_AIFI_L3_review_2024-03-25.h5ad',\n",
       "  'output/diha_naive_cd4_t_cell_AIFI_L3_refinement_meta_2024-03-25.csv',\n",
       "  'output/diha_naive_cd4_t_cell_AIFI_L3_refinement_meta_2024-03-25.parquet',\n",
       "  'output/diha_naive_cd4_t_cell_AIFI_L3_refinement_review_2024-03-25.tar.gz']}"
      ]
     },
     "execution_count": 43,
     "metadata": {},
     "output_type": "execute_result"
    }
   ],
   "source": [
    "hisepy.upload.upload_files(\n",
    "    files = out_files,\n",
    "    study_space_id = study_space_uuid,\n",
    "    title = title,\n",
    "    input_file_ids = in_files,\n",
    "    destination = 'refinement_t_cd4_naive'\n",
    ")"
   ]
  },
  {
   "cell_type": "code",
   "execution_count": 44,
   "id": "fd6d8290-e410-4f44-bace-99b1341bc340",
   "metadata": {},
   "outputs": [
    {
     "data": {
      "text/html": [
       "<details>\n",
       "<summary>Click to view session information</summary>\n",
       "<pre>\n",
       "-----\n",
       "anndata             0.10.3\n",
       "hisepy              0.3.0\n",
       "pandas              2.1.4\n",
       "scanpy              1.9.6\n",
       "session_info        1.0.0\n",
       "-----\n",
       "</pre>\n",
       "<details>\n",
       "<summary>Click to view modules imported as dependencies</summary>\n",
       "<pre>\n",
       "PIL                         10.0.1\n",
       "anyio                       NA\n",
       "arrow                       1.3.0\n",
       "asttokens                   NA\n",
       "attr                        23.2.0\n",
       "attrs                       23.2.0\n",
       "babel                       2.14.0\n",
       "beatrix_jupyterlab          NA\n",
       "brotli                      NA\n",
       "cachetools                  5.3.1\n",
       "certifi                     2024.02.02\n",
       "cffi                        1.16.0\n",
       "charset_normalizer          3.3.2\n",
       "cloudpickle                 2.2.1\n",
       "colorama                    0.4.6\n",
       "comm                        0.1.4\n",
       "cryptography                41.0.7\n",
       "cycler                      0.10.0\n",
       "cython_runtime              NA\n",
       "dateutil                    2.8.2\n",
       "db_dtypes                   1.1.1\n",
       "debugpy                     1.8.0\n",
       "decorator                   5.1.1\n",
       "defusedxml                  0.7.1\n",
       "deprecated                  1.2.14\n",
       "exceptiongroup              1.2.0\n",
       "executing                   2.0.1\n",
       "fastjsonschema              NA\n",
       "fqdn                        NA\n",
       "google                      NA\n",
       "greenlet                    2.0.2\n",
       "grpc                        1.58.0\n",
       "grpc_status                 NA\n",
       "h5py                        3.10.0\n",
       "harmonypy                   NA\n",
       "idna                        3.6\n",
       "igraph                      0.10.8\n",
       "importlib_metadata          NA\n",
       "ipykernel                   6.28.0\n",
       "ipython_genutils            0.2.0\n",
       "ipywidgets                  8.1.1\n",
       "isoduration                 NA\n",
       "jedi                        0.19.1\n",
       "jinja2                      3.1.2\n",
       "joblib                      1.3.2\n",
       "json5                       NA\n",
       "jsonpointer                 2.4\n",
       "jsonschema                  4.20.0\n",
       "jsonschema_specifications   NA\n",
       "jupyter_events              0.9.0\n",
       "jupyter_server              2.12.1\n",
       "jupyterlab_server           2.25.2\n",
       "jwt                         2.8.0\n",
       "kiwisolver                  1.4.5\n",
       "leidenalg                   0.10.1\n",
       "llvmlite                    0.41.0\n",
       "lz4                         4.3.2\n",
       "markupsafe                  2.1.3\n",
       "matplotlib                  3.8.0\n",
       "matplotlib_inline           0.1.6\n",
       "mpl_toolkits                NA\n",
       "mpmath                      1.3.0\n",
       "natsort                     8.4.0\n",
       "nbformat                    5.9.2\n",
       "numba                       0.58.0\n",
       "numpy                       1.24.0\n",
       "opentelemetry               NA\n",
       "overrides                   NA\n",
       "packaging                   23.2\n",
       "parso                       0.8.3\n",
       "pexpect                     4.8.0\n",
       "pickleshare                 0.7.5\n",
       "pkg_resources               NA\n",
       "platformdirs                4.1.0\n",
       "plotly                      5.18.0\n",
       "prettytable                 3.9.0\n",
       "prometheus_client           NA\n",
       "prompt_toolkit              3.0.42\n",
       "proto                       NA\n",
       "psutil                      NA\n",
       "ptyprocess                  0.7.0\n",
       "pure_eval                   0.2.2\n",
       "pyarrow                     13.0.0\n",
       "pycparser                   2.21\n",
       "pydev_ipython               NA\n",
       "pydevconsole                NA\n",
       "pydevd                      2.9.5\n",
       "pydevd_file_utils           NA\n",
       "pydevd_plugins              NA\n",
       "pydevd_tracing              NA\n",
       "pygments                    2.17.2\n",
       "pynndescent                 0.5.11\n",
       "pynvml                      NA\n",
       "pyparsing                   3.1.1\n",
       "pyreadr                     0.5.0\n",
       "pythonjsonlogger            NA\n",
       "pytz                        2023.3.post1\n",
       "referencing                 NA\n",
       "requests                    2.31.0\n",
       "rfc3339_validator           0.1.4\n",
       "rfc3986_validator           0.1.1\n",
       "rpds                        NA\n",
       "scipy                       1.11.4\n",
       "send2trash                  NA\n",
       "shapely                     1.8.5.post1\n",
       "six                         1.16.0\n",
       "sklearn                     1.3.2\n",
       "sniffio                     1.3.0\n",
       "socks                       1.7.1\n",
       "sparse                      0.14.0\n",
       "sql                         NA\n",
       "sqlalchemy                  2.0.21\n",
       "sqlparse                    0.4.4\n",
       "stack_data                  0.6.2\n",
       "sympy                       1.12\n",
       "termcolor                   NA\n",
       "texttable                   1.7.0\n",
       "threadpoolctl               3.2.0\n",
       "torch                       2.1.2+cu121\n",
       "torchgen                    NA\n",
       "tornado                     6.3.3\n",
       "tqdm                        4.66.1\n",
       "traitlets                   5.9.0\n",
       "typing_extensions           NA\n",
       "umap                        0.5.5\n",
       "uri_template                NA\n",
       "urllib3                     1.26.18\n",
       "wcwidth                     0.2.12\n",
       "webcolors                   1.13\n",
       "websocket                   1.7.0\n",
       "wrapt                       1.15.0\n",
       "xarray                      2023.12.0\n",
       "yaml                        6.0.1\n",
       "zipp                        NA\n",
       "zmq                         25.1.2\n",
       "zoneinfo                    NA\n",
       "zstandard                   0.22.0\n",
       "</pre>\n",
       "</details> <!-- seems like this ends pre, so might as well be explicit -->\n",
       "<pre>\n",
       "-----\n",
       "IPython             8.19.0\n",
       "jupyter_client      8.6.0\n",
       "jupyter_core        5.6.1\n",
       "jupyterlab          4.1.2\n",
       "notebook            6.5.4\n",
       "-----\n",
       "Python 3.10.13 | packaged by conda-forge | (main, Dec 23 2023, 15:36:39) [GCC 12.3.0]\n",
       "Linux-5.15.0-1042-gcp-x86_64-with-glibc2.31\n",
       "-----\n",
       "Session information updated at 2024-03-25 05:02\n",
       "</pre>\n",
       "</details>"
      ],
      "text/plain": [
       "<IPython.core.display.HTML object>"
      ]
     },
     "execution_count": 44,
     "metadata": {},
     "output_type": "execute_result"
    }
   ],
   "source": [
    "import session_info\n",
    "session_info.show()"
   ]
  },
  {
   "cell_type": "code",
   "execution_count": null,
   "id": "de0160aa-a713-4156-8951-012cf2c86a55",
   "metadata": {},
   "outputs": [],
   "source": []
  }
 ],
 "metadata": {
  "kernelspec": {
   "display_name": "Python 3 (ipykernel)",
   "language": "python",
   "name": "python3"
  },
  "language_info": {
   "codemirror_mode": {
    "name": "ipython",
    "version": 3
   },
   "file_extension": ".py",
   "mimetype": "text/x-python",
   "name": "python",
   "nbconvert_exporter": "python",
   "pygments_lexer": "ipython3",
   "version": "3.10.13"
  }
 },
 "nbformat": 4,
 "nbformat_minor": 5
}
