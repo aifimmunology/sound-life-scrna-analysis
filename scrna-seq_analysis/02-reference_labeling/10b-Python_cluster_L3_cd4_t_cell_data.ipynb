{
 "cells": [
  {
   "cell_type": "markdown",
   "id": "1abccb09-4358-407f-b7fd-ec93eaaad8ef",
   "metadata": {},
   "source": [
    "# Cluster CellTypist L3 CD4 T cells"
   ]
  },
  {
   "cell_type": "code",
   "execution_count": 1,
   "id": "cd7ca7f1-1536-4882-b783-76c120c12048",
   "metadata": {},
   "outputs": [],
   "source": [
    "import warnings\n",
    "warnings.simplefilter(action='ignore', category=FutureWarning)\n",
    "warnings.simplefilter(action='ignore', category=RuntimeWarning)\n",
    "\n",
    "from datetime import date\n",
    "import hisepy\n",
    "import os\n",
    "import pandas as pd\n",
    "import re\n",
    "import scanpy as sc"
   ]
  },
  {
   "cell_type": "code",
   "execution_count": 2,
   "id": "4c368ca0-753e-429a-982a-42429fe83c07",
   "metadata": {
    "tags": []
   },
   "outputs": [],
   "source": [
    "out_dir = 'output'\n",
    "if not os.path.isdir(out_dir):\n",
    "    os.makedirs(out_dir)"
   ]
  },
  {
   "cell_type": "markdown",
   "id": "e0b1af18-5e96-4fbf-9517-96d0ce34f0e0",
   "metadata": {},
   "source": [
    "## Helper functions"
   ]
  },
  {
   "cell_type": "code",
   "execution_count": 3,
   "id": "80ef404b-65e9-4fc9-bb48-972ec7f215c4",
   "metadata": {},
   "outputs": [],
   "source": [
    "def cache_uuid_path(uuid):\n",
    "    cache_path = '/home/jupyter/cache/{u}'.format(u = uuid)\n",
    "    if not os.path.isdir(cache_path):\n",
    "        hise_res = hisepy.reader.cache_files([uuid])\n",
    "    filename = os.listdir(cache_path)[0]\n",
    "    cache_file = '{p}/{f}'.format(p = cache_path, f = filename)\n",
    "    return cache_file"
   ]
  },
  {
   "cell_type": "code",
   "execution_count": 4,
   "id": "0e7ec780-f662-468f-9b93-dd6a4e523557",
   "metadata": {},
   "outputs": [],
   "source": [
    "def read_csv_uuid(uuid):\n",
    "    cache_file = cache_uuid_path(uuid)\n",
    "    res = pd.read_csv(cache_file)\n",
    "    return res"
   ]
  },
  {
   "cell_type": "code",
   "execution_count": 5,
   "id": "a9cc0f14-00c2-4fd9-b527-a73e8ec96dc8",
   "metadata": {},
   "outputs": [],
   "source": [
    "def read_adata_uuid(uuid):\n",
    "    cache_file = cache_uuid_path(uuid)\n",
    "    res = sc.read_h5ad(cache_file)\n",
    "    return res"
   ]
  },
  {
   "cell_type": "code",
   "execution_count": 6,
   "id": "70219c26-258b-4dae-9360-fcaeb4f44940",
   "metadata": {},
   "outputs": [],
   "source": [
    "def rm_cache_uuid(uuid):\n",
    "    cache_path = '/home/jupyter/cache/{u}'.format(u = uuid)\n",
    "    rm_call = 'rm -r {d}'.format(d = cache_path)\n",
    "    os.system(rm_call)"
   ]
  },
  {
   "cell_type": "code",
   "execution_count": 7,
   "id": "834aa804-8471-40f9-829d-00e36418629c",
   "metadata": {},
   "outputs": [],
   "source": [
    "def format_cell_type(cell_type):\n",
    "    cell_type = re.sub('\\\\+', 'pos', cell_type)\n",
    "    cell_type = re.sub('-', 'neg', cell_type)\n",
    "    cell_type = re.sub(' ', '_', cell_type)\n",
    "    return cell_type"
   ]
  },
  {
   "cell_type": "code",
   "execution_count": 8,
   "id": "0cdd153f-c1a9-4950-ab24-a38ac3d3b000",
   "metadata": {},
   "outputs": [],
   "source": [
    "def element_id(n = 3):\n",
    "    import periodictable\n",
    "    from random import randrange\n",
    "    rand_el = []\n",
    "    for i in range(n):\n",
    "        el = randrange(0,118)\n",
    "        rand_el.append(periodictable.elements[el].name)\n",
    "    rand_str = '-'.join(rand_el)\n",
    "    return rand_str"
   ]
  },
  {
   "cell_type": "code",
   "execution_count": 9,
   "id": "59698037-3154-4dce-9f68-9ecfa7b4789e",
   "metadata": {},
   "outputs": [],
   "source": [
    "def process_adata(adata, resolution = 2):\n",
    "    \n",
    "    # Keep a copy of the raw data\n",
    "    adata = adata.raw.to_adata()\n",
    "    adata.raw = adata\n",
    "\n",
    "    print('Normalizing', end = \"; \")\n",
    "    # Normalize and log transform\n",
    "    sc.pp.normalize_total(adata)\n",
    "    sc.pp.log1p(adata)\n",
    "\n",
    "    print('Finding HVGs', end = \"; \")\n",
    "    # Restrict downstream steps to variable genes\n",
    "    sc.pp.highly_variable_genes(adata)\n",
    "    adata = adata[:, adata.var_names[adata.var['highly_variable']]].copy()\n",
    "\n",
    "    print('Scaling', end = \"; \")\n",
    "    # Scale variable genes\n",
    "    sc.pp.scale(adata)\n",
    "\n",
    "    print('PCA', end = \"; \")\n",
    "    # Run PCA\n",
    "    sc.tl.pca(adata, svd_solver = 'arpack')\n",
    "    \n",
    "    print('Neighbors', end = \"; \")\n",
    "    # Find nearest neighbors\n",
    "    sc.pp.neighbors(\n",
    "        adata, \n",
    "        n_neighbors = 50,\n",
    "        n_pcs = 30\n",
    "    )\n",
    "\n",
    "    print('Leiden', end = \"; \")\n",
    "    # Find clusters\n",
    "    sc.tl.leiden(\n",
    "        adata, \n",
    "        resolution = resolution, \n",
    "        key_added = 'leiden_{r}'.format(r = resolution),\n",
    "        n_iterations = 2\n",
    "    )\n",
    "\n",
    "    print('UMAP', end = \"; \")\n",
    "    # Run UMAP\n",
    "    sc.tl.umap(adata, min_dist = 0.05)\n",
    "    \n",
    "    print('Renormalizing')\n",
    "    adata = adata.raw.to_adata()\n",
    "    adata.raw = adata\n",
    "\n",
    "    # Normalize and log transform\n",
    "    sc.pp.normalize_total(adata)\n",
    "    sc.pp.log1p(adata)\n",
    "    \n",
    "    return adata"
   ]
  },
  {
   "cell_type": "markdown",
   "id": "bc4fd74b-440c-4574-b2d7-3aaaf97dbd4f",
   "metadata": {},
   "source": [
    "## Read cell type hierarchy"
   ]
  },
  {
   "cell_type": "code",
   "execution_count": 10,
   "id": "06682d25-1208-4f5f-ba6b-63a2bb42eedc",
   "metadata": {},
   "outputs": [],
   "source": [
    "hierarchy_uuid = '1a44252c-8cab-4c8f-92c9-d8f3af633790'\n",
    "hierarchy_df = read_csv_uuid(hierarchy_uuid)"
   ]
  },
  {
   "cell_type": "code",
   "execution_count": 11,
   "id": "29ce9825-1ee2-4b6f-8336-20faf95de549",
   "metadata": {},
   "outputs": [
    {
     "data": {
      "text/plain": [
       "array(['Effector B cell', 'Memory B cell', 'Naive B cell', 'Plasma cell',\n",
       "       'Transitional B cell', 'ASDC', 'cDC1', 'cDC2', 'pDC',\n",
       "       'Erythrocyte', 'ILC', 'CD14 monocyte', 'CD16 monocyte',\n",
       "       'Intermediate monocyte', 'CD56bright NK cell', 'CD56dim NK cell',\n",
       "       'Proliferating NK cell', 'Platelet', 'Progenitor cell', 'CD8aa',\n",
       "       'DN T cell', 'MAIT', 'Memory CD4 T cell', 'Memory CD8 T cell',\n",
       "       'Naive CD4 T cell', 'Naive CD8 T cell', 'Proliferating T cell',\n",
       "       'Treg', 'gdT'], dtype=object)"
      ]
     },
     "execution_count": 11,
     "metadata": {},
     "output_type": "execute_result"
    }
   ],
   "source": [
    "hierarchy_df['AIFI_L2'].unique()"
   ]
  },
  {
   "cell_type": "markdown",
   "id": "0f82df17-0d9b-434a-ac9d-d62db06841c6",
   "metadata": {},
   "source": [
    "## Identify files for use in HISE"
   ]
  },
  {
   "cell_type": "code",
   "execution_count": 12,
   "id": "d4614a15-c423-4f9e-833f-d10140fbcb69",
   "metadata": {},
   "outputs": [],
   "source": [
    "search_id = 'nitrogen-rhenium-hafnium'\n",
    "l2_types = ['Memory CD4 T cell', 'Naive CD4 T cell']"
   ]
  },
  {
   "cell_type": "markdown",
   "id": "200ff57a-32c0-40e6-b657-13d69630a57f",
   "metadata": {},
   "source": [
    "Get L3 cell types in the format used for filenames"
   ]
  },
  {
   "cell_type": "code",
   "execution_count": 13,
   "id": "df9400c0-8c30-457f-97cc-c7321f6f24d6",
   "metadata": {},
   "outputs": [],
   "source": [
    "l3_types = hierarchy_df['AIFI_L3'].loc[hierarchy_df['AIFI_L2'].isin(l2_types)]\n",
    "l3_types = l3_types.tolist()"
   ]
  },
  {
   "cell_type": "code",
   "execution_count": 14,
   "id": "5ebe3ba6-fb42-4f66-bc70-f479c271833d",
   "metadata": {},
   "outputs": [],
   "source": [
    "l3_file_types = [format_cell_type(ct) for ct in l3_types]"
   ]
  },
  {
   "cell_type": "markdown",
   "id": "038f11b1-b626-4fe8-bb44-195cc23ec776",
   "metadata": {},
   "source": [
    "Retrieve files stored in our HISE project store"
   ]
  },
  {
   "cell_type": "code",
   "execution_count": 15,
   "id": "50203c57-11d8-494c-a08d-2b3bf65f3622",
   "metadata": {},
   "outputs": [],
   "source": [
    "ps_df = hisepy.list_files_in_project_store('cohorts')\n",
    "ps_df = ps_df[['id', 'name']]"
   ]
  },
  {
   "cell_type": "markdown",
   "id": "91b19f71-1208-47ce-9071-8cfbb18215dc",
   "metadata": {},
   "source": [
    "Filter for files from the previous notebook using our search_id"
   ]
  },
  {
   "cell_type": "code",
   "execution_count": 16,
   "id": "0c6a12fb-9b15-4135-80f7-b37bddfa9bf3",
   "metadata": {},
   "outputs": [],
   "source": [
    "search_df = ps_df[ps_df['name'].str.contains(search_id)]"
   ]
  },
  {
   "cell_type": "markdown",
   "id": "94457ad7-6e6b-413b-a36f-ba65fa43991f",
   "metadata": {},
   "source": [
    "Filter for cells related to the L1 cell type based on l3_types"
   ]
  },
  {
   "cell_type": "code",
   "execution_count": 17,
   "id": "bbe00df8-e1e8-4863-b607-7b379ff3bc2c",
   "metadata": {},
   "outputs": [],
   "source": [
    "type_string = '|'.join(l3_file_types)\n",
    "type_df = search_df[search_df['name'].str.contains(type_string)]"
   ]
  },
  {
   "cell_type": "code",
   "execution_count": 18,
   "id": "9b2c3c7e-46f4-49fc-9b8f-8081ddc76afb",
   "metadata": {},
   "outputs": [
    {
     "data": {
      "text/plain": [
       "['nitrogen-rhenium-hafnium/diha_celltypist_L3_SOX4pos_naive_CD4_T_cell.h5ad',\n",
       " 'nitrogen-rhenium-hafnium/diha_celltypist_L3_GZMBneg_CD27neg_EM_CD4_T_cell.h5ad',\n",
       " 'nitrogen-rhenium-hafnium/diha_celltypist_L3_Core_naive_CD4_T_cell.h5ad',\n",
       " 'nitrogen-rhenium-hafnium/diha_celltypist_L3_ISGpos_memory_CD4_T_cell.h5ad',\n",
       " 'nitrogen-rhenium-hafnium/diha_celltypist_L3_CM_CD4_T_cell.h5ad',\n",
       " 'nitrogen-rhenium-hafnium/diha_celltypist_L3_GZMBneg_CD27pos_EM_CD4_T_cell.h5ad',\n",
       " 'nitrogen-rhenium-hafnium/diha_celltypist_L3_KLRF1neg_GZMBpos_CD27neg_memory_CD4_T_cell.h5ad',\n",
       " 'nitrogen-rhenium-hafnium/diha_celltypist_L3_ISGpos_naive_CD4_T_cell.h5ad']"
      ]
     },
     "execution_count": 18,
     "metadata": {},
     "output_type": "execute_result"
    }
   ],
   "source": [
    "type_df['name'].tolist()"
   ]
  },
  {
   "cell_type": "markdown",
   "id": "ead87852-825e-4ac7-a35f-97a6bc57fbf0",
   "metadata": {},
   "source": [
    "## Process data for each L3 type"
   ]
  },
  {
   "cell_type": "code",
   "execution_count": 19,
   "id": "5811c8b7-8daa-4b4a-b263-6935bb484752",
   "metadata": {},
   "outputs": [
    {
     "name": "stdout",
     "output_type": "stream",
     "text": [
      "downloading fileID: 0259f074-282f-4e03-b6ae-80a4721d0640\n",
      "Files have been successfully downloaded!\n",
      "Previously processed SOX4pos_naive_CD4_T_cell; Skipping.\n",
      "downloading fileID: bf42fa00-3f8d-42ad-a4cf-6cbc795047be\n",
      "Files have been successfully downloaded!\n",
      "Previously processed GZMBneg_CD27neg_EM_CD4_T_cell; Skipping.\n",
      "Normalizing; Finding HVGs; Scaling; PCA; Neighbors; Leiden; UMAP; "
     ]
    },
    {
     "name": "stderr",
     "output_type": "stream",
     "text": [
      "IOStream.flush timed out\n",
      "IOStream.flush timed out\n",
      "IOStream.flush timed out\n",
      "IOStream.flush timed out\n",
      "IOStream.flush timed out\n",
      "IOStream.flush timed out\n",
      "IOStream.flush timed out\n",
      "IOStream.flush timed out\n",
      "IOStream.flush timed out\n",
      "IOStream.flush timed out\n",
      "IOStream.flush timed out\n",
      "IOStream.flush timed out\n",
      "IOStream.flush timed out\n",
      "IOStream.flush timed out\n",
      "IOStream.flush timed out\n",
      "IOStream.flush timed out\n",
      "IOStream.flush timed out\n",
      "IOStream.flush timed out\n",
      "IOStream.flush timed out\n",
      "IOStream.flush timed out\n",
      "IOStream.flush timed out\n",
      "IOStream.flush timed out\n",
      "IOStream.flush timed out\n",
      "IOStream.flush timed out\n",
      "IOStream.flush timed out\n",
      "IOStream.flush timed out\n",
      "IOStream.flush timed out\n",
      "IOStream.flush timed out\n",
      "IOStream.flush timed out\n",
      "IOStream.flush timed out\n"
     ]
    },
    {
     "name": "stdout",
     "output_type": "stream",
     "text": [
      "Renormalizing\n",
      "WARNING: adata.X seems to be already log-transformed.\n",
      "downloading fileID: e3ff7bbd-917a-4676-8958-c021182ce96a\n",
      "Files have been successfully downloaded!\n",
      "Normalizing; Finding HVGs; Scaling; PCA; Neighbors; Leiden; UMAP; Renormalizing\n",
      "WARNING: adata.X seems to be already log-transformed.\n",
      "downloading fileID: a26d23aa-9592-4ba1-8a9e-774256cbda1e\n",
      "Files have been successfully downloaded!\n",
      "Normalizing; Finding HVGs; Scaling; PCA; Neighbors; Leiden; UMAP; "
     ]
    },
    {
     "name": "stderr",
     "output_type": "stream",
     "text": [
      "IOStream.flush timed out\n",
      "IOStream.flush timed out\n",
      "IOStream.flush timed out\n",
      "IOStream.flush timed out\n",
      "IOStream.flush timed out\n",
      "IOStream.flush timed out\n",
      "IOStream.flush timed out\n"
     ]
    },
    {
     "name": "stdout",
     "output_type": "stream",
     "text": [
      "Renormalizing\n",
      "WARNING: adata.X seems to be already log-transformed.\n",
      "downloading fileID: d3c8773b-9f8d-4c89-922a-364871505103\n",
      "Files have been successfully downloaded!\n",
      "Normalizing; Finding HVGs; Scaling; PCA; Neighbors; Leiden; UMAP; Renormalizing\n",
      "WARNING: adata.X seems to be already log-transformed.\n",
      "downloading fileID: da0969b9-9fd7-495f-a242-5ae8a401dbe1\n",
      "Files have been successfully downloaded!\n",
      "Normalizing; Finding HVGs; Scaling; PCA; Neighbors; Leiden; UMAP; Renormalizing\n",
      "WARNING: adata.X seems to be already log-transformed.\n",
      "downloading fileID: 88e0f251-f639-4e95-9d69-5cfa12458c71\n",
      "Files have been successfully downloaded!\n",
      "Normalizing; Finding HVGs; Scaling; PCA; Neighbors; Leiden; UMAP; Renormalizing\n",
      "WARNING: adata.X seems to be already log-transformed.\n"
     ]
    }
   ],
   "source": [
    "out_files = []\n",
    "for uuid in type_df['id']:\n",
    "    adata = read_adata_uuid(uuid)\n",
    "    \n",
    "    cell_type = adata.obs['AIFI_L3'][0]\n",
    "    out_type = format_cell_type(cell_type)\n",
    "    \n",
    "    out_file = 'output/diha_clustered_celltypist_L3_{ct}_{d}.h5ad'.format(ct = out_type, d = date.today())\n",
    "    if os.path.isfile(out_file):\n",
    "        print('Previously processed {ct}; Skipping.'.format(ct = out_type))\n",
    "    else:\n",
    "        adata = process_adata(adata, resolution = 2)\n",
    "        adata.write_h5ad(out_file)\n",
    "        \n",
    "    out_files.append(out_file)\n",
    "    \n",
    "    rm_cache_uuid(uuid)"
   ]
  },
  {
   "cell_type": "markdown",
   "id": "99ad256d-e212-4cfd-9fdc-f586f289a1e4",
   "metadata": {},
   "source": [
    "## Upload assembled results to HISE"
   ]
  },
  {
   "cell_type": "code",
   "execution_count": 20,
   "id": "b7b92db3-3974-4cb8-98ce-38face21432a",
   "metadata": {},
   "outputs": [],
   "source": [
    "study_space_uuid = 'de025812-5e73-4b3c-9c3b-6d0eac412f2a'\n",
    "title = 'DIHA CellTypist L3 CD4 T cells Clustered {d}'.format(d = date.today())"
   ]
  },
  {
   "cell_type": "code",
   "execution_count": 21,
   "id": "5ca06083-0e45-46a7-9873-e54f0d54347f",
   "metadata": {},
   "outputs": [
    {
     "data": {
      "text/plain": [
       "'niobium-cerium-barium'"
      ]
     },
     "execution_count": 21,
     "metadata": {},
     "output_type": "execute_result"
    }
   ],
   "source": [
    "search_id = element_id()\n",
    "search_id"
   ]
  },
  {
   "cell_type": "code",
   "execution_count": 22,
   "id": "8f7808ac-198c-44eb-b77e-d80b49794853",
   "metadata": {},
   "outputs": [
    {
     "data": {
      "text/plain": [
       "['0259f074-282f-4e03-b6ae-80a4721d0640',\n",
       " 'bf42fa00-3f8d-42ad-a4cf-6cbc795047be',\n",
       " '5027acc8-7696-4075-a165-a2b533d2ddb6',\n",
       " 'e3ff7bbd-917a-4676-8958-c021182ce96a',\n",
       " 'a26d23aa-9592-4ba1-8a9e-774256cbda1e',\n",
       " 'd3c8773b-9f8d-4c89-922a-364871505103',\n",
       " 'da0969b9-9fd7-495f-a242-5ae8a401dbe1',\n",
       " '88e0f251-f639-4e95-9d69-5cfa12458c71']"
      ]
     },
     "execution_count": 22,
     "metadata": {},
     "output_type": "execute_result"
    }
   ],
   "source": [
    "in_files = type_df['id'].tolist()\n",
    "in_files"
   ]
  },
  {
   "cell_type": "code",
   "execution_count": 23,
   "id": "e647dfe6-9222-43cd-bd33-d551cb8d9e66",
   "metadata": {},
   "outputs": [
    {
     "data": {
      "text/plain": [
       "['output/diha_clustered_celltypist_L3_SOX4pos_naive_CD4_T_cell_2024-04-21.h5ad',\n",
       " 'output/diha_clustered_celltypist_L3_GZMBneg_CD27neg_EM_CD4_T_cell_2024-04-21.h5ad',\n",
       " 'output/diha_clustered_celltypist_L3_Core_naive_CD4_T_cell_2024-04-21.h5ad',\n",
       " 'output/diha_clustered_celltypist_L3_ISGpos_memory_CD4_T_cell_2024-04-22.h5ad',\n",
       " 'output/diha_clustered_celltypist_L3_CM_CD4_T_cell_2024-04-22.h5ad',\n",
       " 'output/diha_clustered_celltypist_L3_GZMBneg_CD27pos_EM_CD4_T_cell_2024-04-22.h5ad',\n",
       " 'output/diha_clustered_celltypist_L3_KLRF1neg_GZMBpos_CD27neg_memory_CD4_T_cell_2024-04-22.h5ad',\n",
       " 'output/diha_clustered_celltypist_L3_ISGpos_naive_CD4_T_cell_2024-04-22.h5ad']"
      ]
     },
     "execution_count": 23,
     "metadata": {},
     "output_type": "execute_result"
    }
   ],
   "source": [
    "out_files"
   ]
  },
  {
   "cell_type": "code",
   "execution_count": 24,
   "id": "c72b3055-dffa-46cf-8b08-39e60600bec8",
   "metadata": {},
   "outputs": [
    {
     "name": "stdout",
     "output_type": "stream",
     "text": [
      "you are trying to upload file_ids... ['output/diha_clustered_celltypist_L3_SOX4pos_naive_CD4_T_cell_2024-04-21.h5ad', 'output/diha_clustered_celltypist_L3_GZMBneg_CD27neg_EM_CD4_T_cell_2024-04-21.h5ad', 'output/diha_clustered_celltypist_L3_Core_naive_CD4_T_cell_2024-04-21.h5ad', 'output/diha_clustered_celltypist_L3_ISGpos_memory_CD4_T_cell_2024-04-22.h5ad', 'output/diha_clustered_celltypist_L3_CM_CD4_T_cell_2024-04-22.h5ad', 'output/diha_clustered_celltypist_L3_GZMBneg_CD27pos_EM_CD4_T_cell_2024-04-22.h5ad', 'output/diha_clustered_celltypist_L3_KLRF1neg_GZMBpos_CD27neg_memory_CD4_T_cell_2024-04-22.h5ad', 'output/diha_clustered_celltypist_L3_ISGpos_naive_CD4_T_cell_2024-04-22.h5ad']. Do you truly want to proceed?\n"
     ]
    },
    {
     "name": "stdin",
     "output_type": "stream",
     "text": [
      "(y/n) y\n"
     ]
    },
    {
     "data": {
      "text/plain": [
       "{'trace_id': 'f107c8a1-bc4c-4404-b484-54c659ed4a7a',\n",
       " 'files': ['output/diha_clustered_celltypist_L3_SOX4pos_naive_CD4_T_cell_2024-04-21.h5ad',\n",
       "  'output/diha_clustered_celltypist_L3_GZMBneg_CD27neg_EM_CD4_T_cell_2024-04-21.h5ad',\n",
       "  'output/diha_clustered_celltypist_L3_Core_naive_CD4_T_cell_2024-04-21.h5ad',\n",
       "  'output/diha_clustered_celltypist_L3_ISGpos_memory_CD4_T_cell_2024-04-22.h5ad',\n",
       "  'output/diha_clustered_celltypist_L3_CM_CD4_T_cell_2024-04-22.h5ad',\n",
       "  'output/diha_clustered_celltypist_L3_GZMBneg_CD27pos_EM_CD4_T_cell_2024-04-22.h5ad',\n",
       "  'output/diha_clustered_celltypist_L3_KLRF1neg_GZMBpos_CD27neg_memory_CD4_T_cell_2024-04-22.h5ad',\n",
       "  'output/diha_clustered_celltypist_L3_ISGpos_naive_CD4_T_cell_2024-04-22.h5ad']}"
      ]
     },
     "execution_count": 24,
     "metadata": {},
     "output_type": "execute_result"
    }
   ],
   "source": [
    "hisepy.upload.upload_files(\n",
    "    files = out_files,\n",
    "    study_space_id = study_space_uuid,\n",
    "    title = title,\n",
    "    input_file_ids = in_files,\n",
    "    destination = search_id\n",
    ")"
   ]
  },
  {
   "cell_type": "code",
   "execution_count": 25,
   "id": "63b3650f-ee7c-403e-99c1-5f6649673d35",
   "metadata": {},
   "outputs": [
    {
     "data": {
      "text/html": [
       "<details>\n",
       "<summary>Click to view session information</summary>\n",
       "<pre>\n",
       "-----\n",
       "anndata             0.10.3\n",
       "hisepy              0.3.0\n",
       "pandas              2.1.4\n",
       "scanpy              1.9.6\n",
       "session_info        1.0.0\n",
       "-----\n",
       "</pre>\n",
       "<details>\n",
       "<summary>Click to view modules imported as dependencies</summary>\n",
       "<pre>\n",
       "PIL                         10.0.1\n",
       "anyio                       NA\n",
       "arrow                       1.3.0\n",
       "asttokens                   NA\n",
       "attr                        23.2.0\n",
       "attrs                       23.2.0\n",
       "babel                       2.14.0\n",
       "beatrix_jupyterlab          NA\n",
       "brotli                      NA\n",
       "cachetools                  5.3.1\n",
       "certifi                     2024.02.02\n",
       "cffi                        1.16.0\n",
       "charset_normalizer          3.3.2\n",
       "cloudpickle                 2.2.1\n",
       "colorama                    0.4.6\n",
       "comm                        0.1.4\n",
       "cryptography                41.0.7\n",
       "cycler                      0.10.0\n",
       "cython_runtime              NA\n",
       "dateutil                    2.8.2\n",
       "db_dtypes                   1.1.1\n",
       "debugpy                     1.8.0\n",
       "decorator                   5.1.1\n",
       "defusedxml                  0.7.1\n",
       "deprecated                  1.2.14\n",
       "exceptiongroup              1.2.0\n",
       "executing                   2.0.1\n",
       "fastjsonschema              NA\n",
       "fqdn                        NA\n",
       "google                      NA\n",
       "greenlet                    2.0.2\n",
       "grpc                        1.58.0\n",
       "grpc_status                 NA\n",
       "h5py                        3.10.0\n",
       "idna                        3.6\n",
       "igraph                      0.10.8\n",
       "importlib_metadata          NA\n",
       "ipykernel                   6.28.0\n",
       "ipython_genutils            0.2.0\n",
       "ipywidgets                  8.1.1\n",
       "isoduration                 NA\n",
       "jedi                        0.19.1\n",
       "jinja2                      3.1.2\n",
       "joblib                      1.3.2\n",
       "json5                       NA\n",
       "jsonpointer                 2.4\n",
       "jsonschema                  4.20.0\n",
       "jsonschema_specifications   NA\n",
       "jupyter_events              0.9.0\n",
       "jupyter_server              2.12.1\n",
       "jupyterlab_server           2.25.2\n",
       "jwt                         2.8.0\n",
       "kiwisolver                  1.4.5\n",
       "leidenalg                   0.10.1\n",
       "llvmlite                    0.41.0\n",
       "lz4                         4.3.2\n",
       "markupsafe                  2.1.3\n",
       "matplotlib                  3.8.0\n",
       "matplotlib_inline           0.1.6\n",
       "mpl_toolkits                NA\n",
       "mpmath                      1.3.0\n",
       "natsort                     8.4.0\n",
       "nbformat                    5.9.2\n",
       "numba                       0.58.0\n",
       "numpy                       1.24.0\n",
       "opentelemetry               NA\n",
       "overrides                   NA\n",
       "packaging                   23.2\n",
       "parso                       0.8.3\n",
       "periodictable               1.5.2\n",
       "pexpect                     4.8.0\n",
       "pickleshare                 0.7.5\n",
       "pkg_resources               NA\n",
       "platformdirs                4.1.0\n",
       "plotly                      5.18.0\n",
       "prettytable                 3.9.0\n",
       "prometheus_client           NA\n",
       "prompt_toolkit              3.0.42\n",
       "proto                       NA\n",
       "psutil                      NA\n",
       "ptyprocess                  0.7.0\n",
       "pure_eval                   0.2.2\n",
       "pyarrow                     13.0.0\n",
       "pycparser                   2.21\n",
       "pydev_ipython               NA\n",
       "pydevconsole                NA\n",
       "pydevd                      2.9.5\n",
       "pydevd_file_utils           NA\n",
       "pydevd_plugins              NA\n",
       "pydevd_tracing              NA\n",
       "pygments                    2.17.2\n",
       "pynndescent                 0.5.11\n",
       "pynvml                      NA\n",
       "pyparsing                   3.1.1\n",
       "pyreadr                     0.5.0\n",
       "pythonjsonlogger            NA\n",
       "pytz                        2023.3.post1\n",
       "referencing                 NA\n",
       "requests                    2.31.0\n",
       "rfc3339_validator           0.1.4\n",
       "rfc3986_validator           0.1.1\n",
       "rpds                        NA\n",
       "scipy                       1.11.4\n",
       "send2trash                  NA\n",
       "shapely                     1.8.5.post1\n",
       "six                         1.16.0\n",
       "sklearn                     1.3.2\n",
       "sniffio                     1.3.0\n",
       "socks                       1.7.1\n",
       "sparse                      0.14.0\n",
       "sql                         NA\n",
       "sqlalchemy                  2.0.21\n",
       "sqlparse                    0.4.4\n",
       "stack_data                  0.6.2\n",
       "sympy                       1.12\n",
       "termcolor                   NA\n",
       "texttable                   1.7.0\n",
       "threadpoolctl               3.2.0\n",
       "torch                       2.1.2+cu121\n",
       "torchgen                    NA\n",
       "tornado                     6.3.3\n",
       "tqdm                        4.66.1\n",
       "traitlets                   5.9.0\n",
       "typing_extensions           NA\n",
       "umap                        0.5.5\n",
       "uri_template                NA\n",
       "urllib3                     1.26.18\n",
       "wcwidth                     0.2.12\n",
       "webcolors                   1.13\n",
       "websocket                   1.7.0\n",
       "wrapt                       1.15.0\n",
       "xarray                      2023.12.0\n",
       "yaml                        6.0.1\n",
       "zipp                        NA\n",
       "zmq                         25.1.2\n",
       "zoneinfo                    NA\n",
       "zstandard                   0.22.0\n",
       "</pre>\n",
       "</details> <!-- seems like this ends pre, so might as well be explicit -->\n",
       "<pre>\n",
       "-----\n",
       "IPython             8.19.0\n",
       "jupyter_client      8.6.0\n",
       "jupyter_core        5.6.1\n",
       "jupyterlab          4.1.5\n",
       "notebook            6.5.4\n",
       "-----\n",
       "Python 3.10.13 | packaged by conda-forge | (main, Dec 23 2023, 15:36:39) [GCC 12.3.0]\n",
       "Linux-5.15.0-1058-gcp-x86_64-with-glibc2.31\n",
       "-----\n",
       "Session information updated at 2024-04-22 04:43\n",
       "</pre>\n",
       "</details>"
      ],
      "text/plain": [
       "<IPython.core.display.HTML object>"
      ]
     },
     "execution_count": 25,
     "metadata": {},
     "output_type": "execute_result"
    }
   ],
   "source": [
    "import session_info\n",
    "session_info.show()"
   ]
  },
  {
   "cell_type": "code",
   "execution_count": null,
   "id": "c94aa75a-b10c-4494-b449-9e1b06e36e5f",
   "metadata": {},
   "outputs": [],
   "source": []
  }
 ],
 "metadata": {
  "kernelspec": {
   "display_name": "Python 3 (ipykernel)",
   "language": "python",
   "name": "python3"
  },
  "language_info": {
   "codemirror_mode": {
    "name": "ipython",
    "version": 3
   },
   "file_extension": ".py",
   "mimetype": "text/x-python",
   "name": "python",
   "nbconvert_exporter": "python",
   "pygments_lexer": "ipython3",
   "version": "3.10.13"
  }
 },
 "nbformat": 4,
 "nbformat_minor": 5
}
