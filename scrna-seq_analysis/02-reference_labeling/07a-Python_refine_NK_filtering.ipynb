{
 "cells": [
  {
   "cell_type": "markdown",
   "id": "ec9e85ff-9c54-4e19-8364-2f5681489906",
   "metadata": {},
   "source": [
    "# Refine NK filtering for T cell doublets\n",
    "\n",
    "In this notebook, we'll use the output of our initial doublet and gene detection filtering for NK cells to iterate and better identify T cell doublets. This distinction is difficult to make when other doublets are present because Adaptive NK cells and T cell doublets share some features. To get a better handle on removal of T cell doublets, we'll recluster the NK cells after removing other doublets and identify clusters that include markers for T cells."
   ]
  },
  {
   "cell_type": "markdown",
   "id": "a773ecfb-4c6f-4f8a-b87c-9516081d48b5",
   "metadata": {},
   "source": [
    "## Load Packages"
   ]
  },
  {
   "cell_type": "code",
   "execution_count": 1,
   "id": "2c3443b8-2433-4a17-b964-512d96bf0d8f",
   "metadata": {},
   "outputs": [],
   "source": [
    "import warnings\n",
    "warnings.simplefilter(action='ignore', category=FutureWarning)\n",
    "warnings.simplefilter(action='ignore', category=RuntimeWarning)\n",
    "\n",
    "from datetime import date\n",
    "import h5py\n",
    "import hisepy\n",
    "import os\n",
    "import pandas as pd\n",
    "import scanpy as sc\n",
    "import tarfile"
   ]
  },
  {
   "cell_type": "code",
   "execution_count": 2,
   "id": "847d340b-2165-452f-9f7e-690bdc0ca113",
   "metadata": {
    "tags": []
   },
   "outputs": [],
   "source": [
    "out_dir = 'output'\n",
    "if not os.path.isdir(out_dir):\n",
    "    os.makedirs(out_dir)"
   ]
  },
  {
   "cell_type": "code",
   "execution_count": 3,
   "id": "36828442-9770-460d-8a9d-fa5ac1b6a3bc",
   "metadata": {
    "tags": []
   },
   "outputs": [],
   "source": [
    "review_dir = 'output/review'\n",
    "if not os.path.isdir(review_dir):\n",
    "    os.makedirs(review_dir)"
   ]
  },
  {
   "cell_type": "markdown",
   "id": "d7204c63-f40d-4720-83f7-f129972e1f7b",
   "metadata": {},
   "source": [
    "## Helper functions"
   ]
  },
  {
   "cell_type": "markdown",
   "id": "bf84ede0-9cb3-44b6-9dd3-78985b17de8f",
   "metadata": {},
   "source": [
    "These functions make it easy to read our files from UUID in HISE"
   ]
  },
  {
   "cell_type": "code",
   "execution_count": 4,
   "id": "603a338d-881b-45fb-b74e-f978048d2b11",
   "metadata": {},
   "outputs": [],
   "source": [
    "def cache_uuid_path(uuid):\n",
    "    cache_path = '/home/jupyter/cache/{u}'.format(u = uuid)\n",
    "    if not os.path.isdir(cache_path):\n",
    "        hise_res = hisepy.reader.cache_files([uuid])\n",
    "    filename = os.listdir(cache_path)[0]\n",
    "    cache_file = '{p}/{f}'.format(p = cache_path, f = filename)\n",
    "    return cache_file"
   ]
  },
  {
   "cell_type": "code",
   "execution_count": 5,
   "id": "304e260f-6235-468e-a09e-e4ba76fd0ae0",
   "metadata": {},
   "outputs": [],
   "source": [
    "def read_adata_uuid(uuid):\n",
    "    cache_file = cache_uuid_path(uuid)\n",
    "    res = sc.read_h5ad(cache_file)\n",
    "    return res"
   ]
  },
  {
   "cell_type": "markdown",
   "id": "86138743-764b-45fb-abd1-63194ec84011",
   "metadata": {},
   "source": [
    "These functions utilize scanpy's dotplot function to identify clusters to filter.\n",
    "\n",
    "The dotplot function needs to assemble the fraction of cells expressing a set of genes (or features), as well as the average per cluster, which is useful for applying threshholds to filter."
   ]
  },
  {
   "cell_type": "code",
   "execution_count": 6,
   "id": "a46a588c-b561-4d96-89c9-122614d22669",
   "metadata": {},
   "outputs": [],
   "source": [
    "def marker_frac_df(adata, markers, clusters = 'louvain_2'):\n",
    "    gene_cl_frac = sc.pl.dotplot(\n",
    "        adata, \n",
    "        groupby = clusters,\n",
    "        var_names = markers,\n",
    "        return_fig = True\n",
    "    ).dot_size_df\n",
    "    return gene_cl_frac\n",
    "\n",
    "def marker_mean_df(adata, markers, log = False, clusters = 'louvain_2'):\n",
    "    gene_cl_mean = sc.pl.dotplot(\n",
    "        adata, \n",
    "        groupby = clusters,\n",
    "        var_names = markers,\n",
    "        return_fig = True,\n",
    "        log = log\n",
    "    ).dot_color_df\n",
    "    \n",
    "    return gene_cl_mean"
   ]
  },
  {
   "cell_type": "code",
   "execution_count": 7,
   "id": "9e882958-8a12-4579-bc0e-ea1d641dab47",
   "metadata": {},
   "outputs": [],
   "source": [
    "def select_clusters_above_gene_frac(adata, gene, cutoff, clusters = 'louvain_2'):\n",
    "    gene_cl_frac = marker_frac_df(adata, gene, clusters)\n",
    "    select_cl = gene_cl_frac.index[gene_cl_frac[gene] > cutoff].tolist()\n",
    "\n",
    "    return select_cl\n",
    "\n",
    "def select_clusters_above_gene_mean(adata, gene, cutoff, clusters = 'louvain_2'):\n",
    "    gene_cl_mean = marker_mean_df(adata, gene, log = True, clusters = clusters)\n",
    "    select_cl = gene_cl_mean.index[gene_cl_mean[gene] > cutoff].tolist()\n",
    "\n",
    "    return select_cl\n",
    "\n",
    "def select_clusters_by_low_gene_frac(adata, n_cutoff, frac_cutoff, clusters = 'louvain_2'):\n",
    "\n",
    "    obs = adata.obs\n",
    "    n_cells = obs.groupby(clusters)['barcodes'].count()\n",
    "\n",
    "    low_obs = obs['n_genes'] < n_cutoff\n",
    "    n_low = obs[low_obs].groupby(clusters)['barcodes'].count()\n",
    "\n",
    "    frac_low = n_low / n_cells\n",
    "    low_cl = frac_low[frac_low > frac_cutoff]\n",
    "    low_cl = low_cl.index.tolist()\n",
    "\n",
    "    return low_cl"
   ]
  },
  {
   "cell_type": "code",
   "execution_count": 8,
   "id": "39d2bb72-33ce-4e9e-a876-e0f916a045e7",
   "metadata": {},
   "outputs": [],
   "source": [
    "def tidy_marker_df(adata, markers, clusters = 'louvain_2'):\n",
    "    gene_cl_frac = marker_frac_df(adata, markers, clusters)\n",
    "    gene_cl_frac = gene_cl_frac.reset_index(drop = False)\n",
    "    gene_cl_frac = pd.melt(gene_cl_frac, id_vars = clusters, var_name = 'gene', value_name = 'gene_frac')\n",
    "    \n",
    "    gene_cl_mean = marker_mean_df(adata, markers, clusters)\n",
    "    gene_cl_mean = gene_cl_mean.reset_index(drop = False)\n",
    "    gene_cl_mean = pd.melt(gene_cl_mean, id_vars = clusters, var_name = 'gene', value_name = 'gene_mean')\n",
    "\n",
    "    marker_df = gene_cl_frac.merge(gene_cl_mean, on = [clusters, 'gene'], how = 'left')\n",
    "    return marker_df"
   ]
  },
  {
   "cell_type": "markdown",
   "id": "a2bf3663-5ac4-4e09-bdcc-1be3509e4903",
   "metadata": {},
   "source": [
    "This function applies data analysis methods to our scRNA-seq data, including normalization, HVG selection, PCA, nearest neighbors, UMAP, and Leiden clustering."
   ]
  },
  {
   "cell_type": "markdown",
   "id": "e5c05746-defe-4c02-8d4d-7e10aeaa0349",
   "metadata": {},
   "source": [
    "## Set expression cutoffs"
   ]
  },
  {
   "cell_type": "markdown",
   "id": "60072c4d-fd80-4078-9a25-19a15f78a40a",
   "metadata": {},
   "source": [
    "After generating the AIFI_L2 partitioned data, we interactively examined the expression of cell class-specific marker genes to identify good frequency or mean expression cutoffs for gene expression and gene detection. Here, we'll encode these cutoffs in a dictionary so that we can apply them to our datasets"
   ]
  },
  {
   "cell_type": "markdown",
   "id": "598bacdf-96e7-423f-994c-24fa5cee44e1",
   "metadata": {},
   "source": [
    "### Fraction filters\n",
    "\n",
    "Most filters work well using the frequency of gene detection. The dictionary below defines these cutoffs for each cell type, with this nested structure:  \n",
    "`dict[cell_type][reason][marker] = cutoff`\n",
    "\n",
    "Markers for which the fraction of cells in a cluster are greater than the specified cutoff are flagged with the Reason for removal of the cluster."
   ]
  },
  {
   "cell_type": "code",
   "execution_count": 9,
   "id": "1a875680-2343-4628-af7e-05132641b71b",
   "metadata": {},
   "outputs": [],
   "source": [
    "frac_filter_dict = {\n",
    "    'CD56bright NK cell': {\n",
    "        'T cell doublet':      {'CD3D':  0.4}\n",
    "    },\n",
    "    'CD56dim NK cell': {\n",
    "        'T cell doublet':      {'IL7R':  0.4}\n",
    "    }\n",
    "}"
   ]
  },
  {
   "cell_type": "markdown",
   "id": "a130ad17-e108-4777-842a-3d12e9db2a17",
   "metadata": {},
   "source": [
    "## Assemble markers for review plots"
   ]
  },
  {
   "cell_type": "code",
   "execution_count": 10,
   "id": "6b77a4b2-4b43-4709-91f1-a7b084e3acab",
   "metadata": {},
   "outputs": [],
   "source": [
    "all_filter_markers = []\n",
    "for cell_type, filters in frac_filter_dict.items():\n",
    "    for reason, filter in filters.items():\n",
    "        for gene in filter.keys():\n",
    "            if not gene in all_filter_markers:\n",
    "                all_filter_markers.append(gene)"
   ]
  },
  {
   "cell_type": "code",
   "execution_count": 11,
   "id": "8d123944-9264-49e1-b134-84d3fd4eba6e",
   "metadata": {},
   "outputs": [
    {
     "data": {
      "text/plain": [
       "['CD3D', 'IL7R']"
      ]
     },
     "execution_count": 11,
     "metadata": {},
     "output_type": "execute_result"
    }
   ],
   "source": [
    "all_filter_markers.sort()\n",
    "all_filter_markers"
   ]
  },
  {
   "cell_type": "markdown",
   "id": "77482676-4d0d-4cb0-9b77-b44739453bd0",
   "metadata": {},
   "source": [
    "Additional markers for review"
   ]
  },
  {
   "cell_type": "code",
   "execution_count": 12,
   "id": "5eac5776-f95b-47c9-a698-d06e28e6c48a",
   "metadata": {},
   "outputs": [],
   "source": [
    "additional_markers = ['CD3E','NCAM1','ISG15', 'MKI67','CD4','CD8A']\n",
    "all_filter_markers = all_filter_markers + additional_markers"
   ]
  },
  {
   "cell_type": "markdown",
   "id": "7c0526ae-bea7-4ee7-941a-d2cd3b5bc0b7",
   "metadata": {},
   "source": [
    "## Identify files in HISE"
   ]
  },
  {
   "cell_type": "code",
   "execution_count": 13,
   "id": "4f118f5b-e9f9-4231-b306-b9b22157a6a9",
   "metadata": {},
   "outputs": [],
   "source": [
    "h5ad_uuids = {\n",
    "    'BR1_Female_Negative_CD56dim-NK-cell': '426366d0-fdf7-4ab2-8339-0baefe80d096',\n",
    "    'BR1_Female_Positive_CD56dim-NK-cell': '8dd11b33-9065-460f-bcea-88a3092bf662',\n",
    "    'BR1_Male_Negative_CD56dim-NK-cell': '6edf4d9d-f29a-4c7c-bc86-7e87b53ca9f5',\n",
    "    'BR1_Male_Positive_CD56dim-NK-cell': '3788e5c0-5fee-4f6d-b108-77d9da289a7f',\n",
    "    'BR2_Female_Negative_CD56dim-NK-cell': '82b143e9-0dd6-4ad9-b59e-6feb135f5c0c',\n",
    "    'BR2_Female_Positive_CD56dim-NK-cell': 'eda7be7b-7ba6-4832-83b9-8b210319c078',\n",
    "    'BR2_Male_Negative_CD56dim-NK-cell': '6dcc8d60-7b43-40f1-90b3-2390d09e4bbc',\n",
    "    'BR2_Male_Positive_CD56dim-NK-cell': 'f84657c6-d7df-42f9-9a42-5d3aa2e5c4c2',\n",
    "    'CD56bright-NK-cell': 'd4960075-6eba-4d79-9157-5f8259bbeedf'\n",
    "}"
   ]
  },
  {
   "cell_type": "markdown",
   "id": "64f8f872-f431-4dff-9a9b-9041d59645a4",
   "metadata": {},
   "source": [
    "## Apply filters to datasets"
   ]
  },
  {
   "cell_type": "code",
   "execution_count": 14,
   "id": "edddf961-70f0-4f94-9976-47df0690134f",
   "metadata": {},
   "outputs": [
    {
     "name": "stdout",
     "output_type": "stream",
     "text": [
      "BR1_Female_Negative_CD56dim-NK-cell\n",
      "(187379, 899)\n",
      "(181154, 899)\n",
      "BR1_Female_Positive_CD56dim-NK-cell\n",
      "(79611, 888)\n",
      "(76987, 888)\n",
      "BR1_Male_Negative_CD56dim-NK-cell\n",
      "(156404, 863)\n",
      "(152746, 863)\n",
      "BR1_Male_Positive_CD56dim-NK-cell\n",
      "(127326, 1048)\n",
      "(122831, 1048)\n",
      "BR2_Female_Negative_CD56dim-NK-cell\n",
      "(122044, 983)\n",
      "(118648, 983)\n",
      "BR2_Female_Positive_CD56dim-NK-cell\n",
      "(155287, 950)\n",
      "(149915, 950)\n",
      "BR2_Male_Negative_CD56dim-NK-cell\n",
      "(171079, 1005)\n",
      "(167283, 1005)\n",
      "BR2_Male_Positive_CD56dim-NK-cell\n",
      "(69976, 1127)\n",
      "(67829, 1127)\n",
      "CD56bright-NK-cell\n",
      "(93676, 1350)\n",
      "(88824, 1350)\n"
     ]
    }
   ],
   "source": [
    "out_files = []\n",
    "review_files = []\n",
    "for group_name, uuid in h5ad_uuids.items():\n",
    "    print(group_name)\n",
    "    out_file = 'output/diha_{g}_refined_{d}.h5ad'.format(g = group_name, d = date.today())\n",
    "    if os.path.isfile(out_file):\n",
    "        print('Previously filtered {g}; Skipping.'.format(g = group_name))\n",
    "        out_files.append(out_file)\n",
    "    else:        \n",
    "        adata = read_adata_uuid(uuid)\n",
    "        \n",
    "        cell_type = adata.obs['AIFI_L2'].iloc[0]\n",
    "\n",
    "        # Track filter results\n",
    "        filter_list = []\n",
    "        filter_cl_list = []\n",
    "        \n",
    "        # Filter by Fractional gene expression\n",
    "        marker_filters = frac_filter_dict[cell_type]\n",
    "    \n",
    "        for reason, filter in marker_filters.items():\n",
    "            for marker, cutoff in filter.items():\n",
    "                filter_cl = select_clusters_above_gene_frac(\n",
    "                    adata,\n",
    "                    gene = marker,\n",
    "                    cutoff = cutoff,\n",
    "                    clusters = 'louvain_2'\n",
    "                )\n",
    "\n",
    "                check_cl = []\n",
    "                for cl in filter_cl:\n",
    "                    if not cl in filter_cl_list:\n",
    "                        check_cl.append(cl)\n",
    "                        filter_cl_list.append(cl)\n",
    "                \n",
    "                filter_df = pd.DataFrame({'louvain_2': check_cl, 'remove_reason': [reason]*len(check_cl)})\n",
    "                filter_list.append(filter_df)\n",
    "    \n",
    "        # Assemble all filtering results\n",
    "        filter_df = pd.concat(filter_list)\n",
    "\n",
    "        # Save filtered clusters for review\n",
    "        filter_file = '{r}/diha_qc_{g}_filter_df_{d}.csv'.format(\n",
    "            r = review_dir,\n",
    "            g = group_name,\n",
    "            d = date.today()\n",
    "        )\n",
    "        filter_df.to_csv(filter_file)\n",
    "        review_files.append(filter_file)\n",
    "    \n",
    "        # Add filters to cells\n",
    "        obs = adata.obs.copy()\n",
    "        obs = obs.merge(filter_df, on = 'louvain_2', how = 'left')\n",
    "        obs['remove_reason'] = obs['remove_reason'].fillna('Not removed')\n",
    "        \n",
    "        # Save observations and UMAP coordinates for review\n",
    "        review_obs = obs\n",
    "        umap_mat = adata.obsm['X_umap']\n",
    "        umap_df = pd.DataFrame(umap_mat, columns = ['umap_1', 'umap_2'])\n",
    "        review_obs['umap_1'] = umap_df['umap_1']\n",
    "        review_obs['umap_2'] = umap_df['umap_2']\n",
    "        \n",
    "        obs_file = '{r}/diha_qc_{g}_refined_obs_df_{d}.csv'.format(\n",
    "            r = review_dir,\n",
    "            g = group_name,\n",
    "            d = date.today()\n",
    "        )\n",
    "        review_obs.to_csv(obs_file)\n",
    "        review_files.append(obs_file)\n",
    "\n",
    "        # Save expression of marker features for review\n",
    "        marker_df = tidy_marker_df(adata, all_filter_markers, clusters = 'louvain_2')\n",
    "\n",
    "        marker_file = '{r}/diha_qc_{g}_refined_marker_df_{d}.csv'.format(\n",
    "            r = review_dir,\n",
    "            g = group_name,\n",
    "            d = date.today()\n",
    "        )\n",
    "        marker_df.to_csv(marker_file)\n",
    "        review_files.append(marker_file)\n",
    "    \n",
    "        # Apply filters to data\n",
    "        print(adata.shape)\n",
    "        keep_cells = obs['remove_reason'] == 'Not removed'\n",
    "        adata = adata[keep_cells]\n",
    "        print(adata.shape)\n",
    "        \n",
    "        # Save filtered data\n",
    "        adata.write_h5ad(out_file)\n",
    "    \n",
    "        out_files.append(out_file)\n",
    "\n",
    "        # Clean up cache so we don't run out of disk space\n",
    "        h5ad_path = cache_uuid_path(uuid)\n",
    "        os.remove(h5ad_path)\n",
    "        cache_path = '/home/jupyter/cache/{u}'.format(u = uuid)\n",
    "        os.rmdir(cache_path)"
   ]
  },
  {
   "cell_type": "markdown",
   "id": "eef5e0be-97db-4a26-b7fd-b42f4accdb77",
   "metadata": {},
   "source": [
    "## Bundle Review data\n",
    "\n",
    "We saved review data, including cell metadata and UMAP coordinates, filtered clusters, and marker gene expression, to enable us to assemble figures to double-check our filtering process."
   ]
  },
  {
   "cell_type": "markdown",
   "id": "bfb729ea-417a-4fa9-a0f8-3dc5e07af06c",
   "metadata": {},
   "source": [
    "To help with file transfer, we'll use `tarfile` to bundle our review files."
   ]
  },
  {
   "cell_type": "code",
   "execution_count": 15,
   "id": "7e1e2d83-92ea-448b-9f1e-0f0f244e75cd",
   "metadata": {},
   "outputs": [],
   "source": [
    "review_tar = 'output/diha_qc_AIFI_L2_NK_refined_review_{d}.tar.gz'.format(d = date.today())\n",
    "tar = tarfile.open(review_tar, 'w:gz')\n",
    "for review_file in review_files:\n",
    "    tar.add(review_file)\n",
    "tar.close()"
   ]
  },
  {
   "cell_type": "markdown",
   "id": "12b2b0ac-3aa3-4c65-8e48-ab235516b6b5",
   "metadata": {},
   "source": [
    "## Upload Cell Type data to HISE\n",
    "\n",
    "Finally, we'll use `hisepy.upload.upload_files()` to send a copy of our output to HISE to use for downstream analysis steps."
   ]
  },
  {
   "cell_type": "code",
   "execution_count": 16,
   "id": "aa28112d-1289-4574-b283-cb8aaeb83ab8",
   "metadata": {},
   "outputs": [],
   "source": [
    "study_space_uuid = 'de025812-5e73-4b3c-9c3b-6d0eac412f2a'\n",
    "title = 'DIHA PBMC Filter Refinement NK .h5ad {d}'.format(d = date.today())"
   ]
  },
  {
   "cell_type": "code",
   "execution_count": 17,
   "id": "4a561677-9262-4b84-a51e-56b68e5e3dca",
   "metadata": {},
   "outputs": [
    {
     "data": {
      "text/plain": [
       "['426366d0-fdf7-4ab2-8339-0baefe80d096',\n",
       " '8dd11b33-9065-460f-bcea-88a3092bf662',\n",
       " '6edf4d9d-f29a-4c7c-bc86-7e87b53ca9f5',\n",
       " '3788e5c0-5fee-4f6d-b108-77d9da289a7f',\n",
       " '82b143e9-0dd6-4ad9-b59e-6feb135f5c0c',\n",
       " 'eda7be7b-7ba6-4832-83b9-8b210319c078',\n",
       " '6dcc8d60-7b43-40f1-90b3-2390d09e4bbc',\n",
       " 'f84657c6-d7df-42f9-9a42-5d3aa2e5c4c2',\n",
       " 'd4960075-6eba-4d79-9157-5f8259bbeedf']"
      ]
     },
     "execution_count": 17,
     "metadata": {},
     "output_type": "execute_result"
    }
   ],
   "source": [
    "in_files = list(h5ad_uuids.values())\n",
    "in_files"
   ]
  },
  {
   "cell_type": "code",
   "execution_count": 18,
   "id": "972d6d4f-35b4-4d60-8c06-5fd471f6f105",
   "metadata": {},
   "outputs": [],
   "source": [
    "out_files = out_files + [review_tar]"
   ]
  },
  {
   "cell_type": "code",
   "execution_count": 19,
   "id": "1e16248e-32a4-4c0e-96b2-cd582a8cde52",
   "metadata": {},
   "outputs": [
    {
     "data": {
      "text/plain": [
       "['output/diha_BR1_Female_Negative_CD56dim-NK-cell_refined_2024-03-22.h5ad',\n",
       " 'output/diha_BR1_Female_Positive_CD56dim-NK-cell_refined_2024-03-22.h5ad',\n",
       " 'output/diha_BR1_Male_Negative_CD56dim-NK-cell_refined_2024-03-22.h5ad',\n",
       " 'output/diha_BR1_Male_Positive_CD56dim-NK-cell_refined_2024-03-22.h5ad',\n",
       " 'output/diha_BR2_Female_Negative_CD56dim-NK-cell_refined_2024-03-22.h5ad',\n",
       " 'output/diha_BR2_Female_Positive_CD56dim-NK-cell_refined_2024-03-22.h5ad',\n",
       " 'output/diha_BR2_Male_Negative_CD56dim-NK-cell_refined_2024-03-22.h5ad',\n",
       " 'output/diha_BR2_Male_Positive_CD56dim-NK-cell_refined_2024-03-22.h5ad',\n",
       " 'output/diha_CD56bright-NK-cell_refined_2024-03-22.h5ad',\n",
       " 'output/diha_qc_AIFI_L2_NK_refined_review_2024-03-22.tar.gz']"
      ]
     },
     "execution_count": 19,
     "metadata": {},
     "output_type": "execute_result"
    }
   ],
   "source": [
    "out_files"
   ]
  },
  {
   "cell_type": "code",
   "execution_count": 20,
   "id": "00bd97b6-5af2-4f3d-93c3-dabb95f6ab65",
   "metadata": {},
   "outputs": [
    {
     "name": "stdout",
     "output_type": "stream",
     "text": [
      "output/diha_BR1_Female_Negative_CD56dim-NK-cell_refined_2024-03-22.h5ad\n",
      "output/diha_BR1_Female_Positive_CD56dim-NK-cell_refined_2024-03-22.h5ad\n",
      "output/diha_BR1_Male_Negative_CD56dim-NK-cell_refined_2024-03-22.h5ad\n",
      "output/diha_BR1_Male_Positive_CD56dim-NK-cell_refined_2024-03-22.h5ad\n",
      "output/diha_BR2_Female_Negative_CD56dim-NK-cell_refined_2024-03-22.h5ad\n",
      "output/diha_BR2_Female_Positive_CD56dim-NK-cell_refined_2024-03-22.h5ad\n",
      "output/diha_BR2_Male_Negative_CD56dim-NK-cell_refined_2024-03-22.h5ad\n",
      "output/diha_BR2_Male_Positive_CD56dim-NK-cell_refined_2024-03-22.h5ad\n",
      "output/diha_CD56bright-NK-cell_refined_2024-03-22.h5ad\n",
      "output/diha_qc_AIFI_L2_NK_refined_review_2024-03-22.tar.gz\n",
      "Cannot determine the current notebook.\n",
      "1) /home/jupyter/IH-A-Aging-Analysis-Notebooks/scrna-seq_analysis/02-reference_labeling/07a-Python_refine_NK_filtering.ipynb\n",
      "2) /home/jupyter/IH-A-Aging-Analysis-Notebooks/scrna-seq_analysis/02-reference_labeling/09f-Python_naive_cd4_t_cell_L3_refinement.ipynb\n",
      "3) /home/jupyter/IH-A-Aging-Analysis-Notebooks/scrna-seq_analysis/02-reference_labeling/09e-Python_dc_L3_refinement.ipynb\n",
      "Please select (1-3) \n"
     ]
    },
    {
     "name": "stdin",
     "output_type": "stream",
     "text": [
      " 1\n"
     ]
    },
    {
     "name": "stdout",
     "output_type": "stream",
     "text": [
      "you are trying to upload file_ids... ['output/diha_BR1_Female_Negative_CD56dim-NK-cell_refined_2024-03-22.h5ad', 'output/diha_BR1_Female_Positive_CD56dim-NK-cell_refined_2024-03-22.h5ad', 'output/diha_BR1_Male_Negative_CD56dim-NK-cell_refined_2024-03-22.h5ad', 'output/diha_BR1_Male_Positive_CD56dim-NK-cell_refined_2024-03-22.h5ad', 'output/diha_BR2_Female_Negative_CD56dim-NK-cell_refined_2024-03-22.h5ad', 'output/diha_BR2_Female_Positive_CD56dim-NK-cell_refined_2024-03-22.h5ad', 'output/diha_BR2_Male_Negative_CD56dim-NK-cell_refined_2024-03-22.h5ad', 'output/diha_BR2_Male_Positive_CD56dim-NK-cell_refined_2024-03-22.h5ad', 'output/diha_CD56bright-NK-cell_refined_2024-03-22.h5ad', 'output/diha_qc_AIFI_L2_NK_refined_review_2024-03-22.tar.gz']. Do you truly want to proceed?\n"
     ]
    },
    {
     "name": "stdin",
     "output_type": "stream",
     "text": [
      "(y/n) y\n"
     ]
    },
    {
     "data": {
      "text/plain": [
       "{'trace_id': '56ade688-1a4f-4b00-b946-2243403c5550',\n",
       " 'files': ['output/diha_BR1_Female_Negative_CD56dim-NK-cell_refined_2024-03-22.h5ad',\n",
       "  'output/diha_BR1_Female_Positive_CD56dim-NK-cell_refined_2024-03-22.h5ad',\n",
       "  'output/diha_BR1_Male_Negative_CD56dim-NK-cell_refined_2024-03-22.h5ad',\n",
       "  'output/diha_BR1_Male_Positive_CD56dim-NK-cell_refined_2024-03-22.h5ad',\n",
       "  'output/diha_BR2_Female_Negative_CD56dim-NK-cell_refined_2024-03-22.h5ad',\n",
       "  'output/diha_BR2_Female_Positive_CD56dim-NK-cell_refined_2024-03-22.h5ad',\n",
       "  'output/diha_BR2_Male_Negative_CD56dim-NK-cell_refined_2024-03-22.h5ad',\n",
       "  'output/diha_BR2_Male_Positive_CD56dim-NK-cell_refined_2024-03-22.h5ad',\n",
       "  'output/diha_CD56bright-NK-cell_refined_2024-03-22.h5ad',\n",
       "  'output/diha_qc_AIFI_L2_NK_refined_review_2024-03-22.tar.gz']}"
      ]
     },
     "execution_count": 20,
     "metadata": {},
     "output_type": "execute_result"
    }
   ],
   "source": [
    "hisepy.upload.upload_files(\n",
    "    files = out_files,\n",
    "    study_space_id = study_space_uuid,\n",
    "    title = title,\n",
    "    input_file_ids = in_files,\n",
    "    destination = 'diha_nk_filter_refinement'\n",
    ")"
   ]
  },
  {
   "cell_type": "code",
   "execution_count": 21,
   "id": "57718569-cce7-4dc0-bfa8-f7d1ac59ba23",
   "metadata": {},
   "outputs": [
    {
     "data": {
      "text/html": [
       "<details>\n",
       "<summary>Click to view session information</summary>\n",
       "<pre>\n",
       "-----\n",
       "anndata             0.10.3\n",
       "h5py                3.10.0\n",
       "hisepy              0.3.0\n",
       "pandas              2.1.4\n",
       "scanpy              1.9.6\n",
       "session_info        1.0.0\n",
       "-----\n",
       "</pre>\n",
       "<details>\n",
       "<summary>Click to view modules imported as dependencies</summary>\n",
       "<pre>\n",
       "PIL                         10.0.1\n",
       "anyio                       NA\n",
       "arrow                       1.3.0\n",
       "asttokens                   NA\n",
       "attr                        23.2.0\n",
       "attrs                       23.2.0\n",
       "babel                       2.14.0\n",
       "beatrix_jupyterlab          NA\n",
       "brotli                      NA\n",
       "cachetools                  5.3.1\n",
       "certifi                     2024.02.02\n",
       "cffi                        1.16.0\n",
       "charset_normalizer          3.3.2\n",
       "cloudpickle                 2.2.1\n",
       "colorama                    0.4.6\n",
       "comm                        0.1.4\n",
       "cryptography                41.0.7\n",
       "cycler                      0.10.0\n",
       "cython_runtime              NA\n",
       "dateutil                    2.8.2\n",
       "db_dtypes                   1.1.1\n",
       "debugpy                     1.8.0\n",
       "decorator                   5.1.1\n",
       "defusedxml                  0.7.1\n",
       "deprecated                  1.2.14\n",
       "exceptiongroup              1.2.0\n",
       "executing                   2.0.1\n",
       "fastjsonschema              NA\n",
       "fqdn                        NA\n",
       "google                      NA\n",
       "greenlet                    2.0.2\n",
       "grpc                        1.58.0\n",
       "grpc_status                 NA\n",
       "idna                        3.6\n",
       "igraph                      0.10.8\n",
       "importlib_metadata          NA\n",
       "ipykernel                   6.28.0\n",
       "ipython_genutils            0.2.0\n",
       "ipywidgets                  8.1.1\n",
       "isoduration                 NA\n",
       "jedi                        0.19.1\n",
       "jinja2                      3.1.2\n",
       "joblib                      1.3.2\n",
       "json5                       NA\n",
       "jsonpointer                 2.4\n",
       "jsonschema                  4.20.0\n",
       "jsonschema_specifications   NA\n",
       "jupyter_events              0.9.0\n",
       "jupyter_server              2.12.1\n",
       "jupyterlab_server           2.25.2\n",
       "jwt                         2.8.0\n",
       "kiwisolver                  1.4.5\n",
       "leidenalg                   0.10.1\n",
       "llvmlite                    0.41.0\n",
       "lz4                         4.3.2\n",
       "markupsafe                  2.1.3\n",
       "matplotlib                  3.8.0\n",
       "matplotlib_inline           0.1.6\n",
       "mpl_toolkits                NA\n",
       "mpmath                      1.3.0\n",
       "natsort                     8.4.0\n",
       "nbformat                    5.9.2\n",
       "numba                       0.58.0\n",
       "numpy                       1.24.0\n",
       "opentelemetry               NA\n",
       "overrides                   NA\n",
       "packaging                   23.2\n",
       "parso                       0.8.3\n",
       "pexpect                     4.8.0\n",
       "pickleshare                 0.7.5\n",
       "pkg_resources               NA\n",
       "platformdirs                4.1.0\n",
       "plotly                      5.18.0\n",
       "prettytable                 3.9.0\n",
       "prometheus_client           NA\n",
       "prompt_toolkit              3.0.42\n",
       "proto                       NA\n",
       "psutil                      NA\n",
       "ptyprocess                  0.7.0\n",
       "pure_eval                   0.2.2\n",
       "pyarrow                     13.0.0\n",
       "pydev_ipython               NA\n",
       "pydevconsole                NA\n",
       "pydevd                      2.9.5\n",
       "pydevd_file_utils           NA\n",
       "pydevd_plugins              NA\n",
       "pydevd_tracing              NA\n",
       "pygments                    2.17.2\n",
       "pynvml                      NA\n",
       "pyparsing                   3.1.1\n",
       "pyreadr                     0.5.0\n",
       "pythonjsonlogger            NA\n",
       "pytz                        2023.3.post1\n",
       "referencing                 NA\n",
       "requests                    2.31.0\n",
       "rfc3339_validator           0.1.4\n",
       "rfc3986_validator           0.1.1\n",
       "rpds                        NA\n",
       "scipy                       1.11.4\n",
       "send2trash                  NA\n",
       "shapely                     1.8.5.post1\n",
       "six                         1.16.0\n",
       "sklearn                     1.3.2\n",
       "sniffio                     1.3.0\n",
       "socks                       1.7.1\n",
       "sql                         NA\n",
       "sqlalchemy                  2.0.21\n",
       "sqlparse                    0.4.4\n",
       "stack_data                  0.6.2\n",
       "sympy                       1.12\n",
       "termcolor                   NA\n",
       "texttable                   1.7.0\n",
       "threadpoolctl               3.2.0\n",
       "torch                       2.1.2+cu121\n",
       "torchgen                    NA\n",
       "tornado                     6.3.3\n",
       "tqdm                        4.66.1\n",
       "traitlets                   5.9.0\n",
       "typing_extensions           NA\n",
       "uri_template                NA\n",
       "urllib3                     1.26.18\n",
       "wcwidth                     0.2.12\n",
       "webcolors                   1.13\n",
       "websocket                   1.7.0\n",
       "wrapt                       1.15.0\n",
       "xarray                      2023.12.0\n",
       "yaml                        6.0.1\n",
       "zipp                        NA\n",
       "zmq                         25.1.2\n",
       "zoneinfo                    NA\n",
       "zstandard                   0.22.0\n",
       "</pre>\n",
       "</details> <!-- seems like this ends pre, so might as well be explicit -->\n",
       "<pre>\n",
       "-----\n",
       "IPython             8.19.0\n",
       "jupyter_client      8.6.0\n",
       "jupyter_core        5.6.1\n",
       "jupyterlab          4.1.2\n",
       "notebook            6.5.4\n",
       "-----\n",
       "Python 3.10.13 | packaged by conda-forge | (main, Dec 23 2023, 15:36:39) [GCC 12.3.0]\n",
       "Linux-5.15.0-1054-gcp-x86_64-with-glibc2.31\n",
       "-----\n",
       "Session information updated at 2024-03-22 16:37\n",
       "</pre>\n",
       "</details>"
      ],
      "text/plain": [
       "<IPython.core.display.HTML object>"
      ]
     },
     "execution_count": 21,
     "metadata": {},
     "output_type": "execute_result"
    }
   ],
   "source": [
    "import session_info\n",
    "session_info.show()"
   ]
  },
  {
   "cell_type": "code",
   "execution_count": null,
   "id": "ab418c73-e151-4c43-bb9b-717c68b2a535",
   "metadata": {},
   "outputs": [],
   "source": []
  }
 ],
 "metadata": {
  "kernelspec": {
   "display_name": "Python 3 (ipykernel)",
   "language": "python",
   "name": "python3"
  },
  "language_info": {
   "codemirror_mode": {
    "name": "ipython",
    "version": 3
   },
   "file_extension": ".py",
   "mimetype": "text/x-python",
   "name": "python",
   "nbconvert_exporter": "python",
   "pygments_lexer": "ipython3",
   "version": "3.10.13"
  }
 },
 "nbformat": 4,
 "nbformat_minor": 5
}
