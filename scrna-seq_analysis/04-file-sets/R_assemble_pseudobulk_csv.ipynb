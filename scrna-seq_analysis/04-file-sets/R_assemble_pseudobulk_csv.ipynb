{
 "cells": [
  {
   "cell_type": "markdown",
   "id": "2ac107cb-9595-4f4c-9a72-b6b40aefe0b1",
   "metadata": {},
   "source": [
    "# Assemble Pseudobulk data for download\n",
    "\n",
    "To make our pseudobulk data available for re-use, we'll assemble data for each sample x AIFI_L3 cell type. Because this yields a very large array of values (~50,000 x 33,000), we'll split the data based on sample metadata to make some smaller sets that should be more amenable to import by other users.\n",
    "\n",
    "We'll also put the data in a \"tidy\" orientation - that is, each row will represent a single observation (sample x AIFI_L3 cell type), while each column will represent a feature (gene).\n",
    "\n",
    "We'll also supply both count sums per group, which we use for DESeq2 analysis, and mean(log(normalized data)) pseudobulk values, which we use for visualization or effect size comparisons.\n",
    "\n",
    "To save on file size, we'll round the mean(log(normalized data)) values to 6 digits after the decimal place, which should provide adequate precision for most applications. Those requiring the full precision of 32-bit float values may want to recompute the pseudobulk values."
   ]
  },
  {
   "cell_type": "code",
   "execution_count": 1,
   "id": "c4382909-9eb7-4b74-a307-b1f0b2b83634",
   "metadata": {},
   "outputs": [],
   "source": [
    "quiet_library <- function(...) { suppressPackageStartupMessages(library(...)) }\n",
    "quiet_library(data.table)\n",
    "quiet_library(dplyr)\n",
    "quiet_library(H5weaver)\n",
    "quiet_library(hise)\n",
    "quiet_library(purrr)\n",
    "quiet_library(furrr)"
   ]
  },
  {
   "cell_type": "code",
   "execution_count": 2,
   "id": "5da37bae-d4e3-4aeb-9337-a7e8ebd6bc17",
   "metadata": {},
   "outputs": [],
   "source": [
    "plan(\"multicore\", workers = 8)"
   ]
  },
  {
   "cell_type": "code",
   "execution_count": 3,
   "id": "6f548718-0650-4a85-8bd1-bb830e97b5bc",
   "metadata": {},
   "outputs": [],
   "source": [
    "if(!dir.exists(\"output\")) {\n",
    "    dir.create(\"output\")\n",
    "}"
   ]
  },
  {
   "cell_type": "markdown",
   "id": "6e63ec9f-3a9b-48a5-81b6-f39ebe542dcc",
   "metadata": {},
   "source": [
    "## Helper functions"
   ]
  },
  {
   "cell_type": "code",
   "execution_count": 4,
   "id": "6ccd7b0f-6f3b-4778-93d9-31e18da8abd1",
   "metadata": {},
   "outputs": [],
   "source": [
    "cache_uuid_path <- function(uuid) {\n",
    "    cache_dir <- paste0(\"cache/\", uuid)\n",
    "    if(!dir.exists(cache_dir)) {\n",
    "        res <- cacheFiles(list(uuid))\n",
    "    }\n",
    "    cache_path <- list.files(cache_dir, full.names = TRUE)\n",
    "    return(cache_path)\n",
    "}"
   ]
  },
  {
   "cell_type": "code",
   "execution_count": 5,
   "id": "cd3d3d78-5b9d-4a39-aadd-fb55ca0f2778",
   "metadata": {},
   "outputs": [],
   "source": [
    "transpose_pb <- function(df, round_to = NULL) {\n",
    "    genes <- df$V1\n",
    "    rownames(df) <- genes\n",
    "    df <- df[,-1]\n",
    "    mat <- t(df)\n",
    "    mat <- mat[,sort(colnames(mat))]\n",
    "    if(!is.null(round_to)) {\n",
    "        mat <- round(mat, round_to)\n",
    "    }\n",
    "    as.data.frame(mat)\n",
    "}"
   ]
  },
  {
   "cell_type": "code",
   "execution_count": 6,
   "id": "4554efeb-a3fb-4764-91ec-5973a2b3c673",
   "metadata": {},
   "outputs": [],
   "source": [
    "add_sample_id <- function(df, id) {\n",
    "    df$specimen.specimenGuid <- id\n",
    "    df$AIFI_L3 <- rownames(df)\n",
    "    rownames(df) <- NULL\n",
    "    df\n",
    "}"
   ]
  },
  {
   "cell_type": "markdown",
   "id": "c11b8cc0-4d99-4f8b-8a7a-fcdb4a9d1dd9",
   "metadata": {},
   "source": [
    "## Download sample metadata"
   ]
  },
  {
   "cell_type": "code",
   "execution_count": 7,
   "id": "6c85fb22-d0b9-4978-9da4-cb29d1abf1ac",
   "metadata": {},
   "outputs": [],
   "source": [
    "meta_uuid <- \"af25e3e7-25c1-4476-afb4-926bd201db8f\"\n",
    "meta_file <- cache_uuid_path(meta_uuid)"
   ]
  },
  {
   "cell_type": "code",
   "execution_count": 8,
   "id": "4056628f-d53a-41dc-8a97-143485026082",
   "metadata": {},
   "outputs": [],
   "source": [
    "meta <- read.csv(meta_file, row.names = 1)"
   ]
  },
  {
   "cell_type": "markdown",
   "id": "00905ff9-4bbf-4e47-b438-e2b725dfac70",
   "metadata": {},
   "source": [
    "## Download and unpack pseudobulk data"
   ]
  },
  {
   "cell_type": "code",
   "execution_count": 9,
   "id": "45bdbf29-9f47-4f23-bdf0-4c0d9728ee48",
   "metadata": {},
   "outputs": [],
   "source": [
    "mean_pb_uuid <- \"00478a17-3721-4cf3-b6fe-a3473a67e575\"\n",
    "sum_pb_uuid <- \"d6be049e-4ed5-4abc-a172-f48aefb7825d\""
   ]
  },
  {
   "cell_type": "code",
   "execution_count": 10,
   "id": "4a513f55-c0cf-460f-bd51-98f732135662",
   "metadata": {},
   "outputs": [],
   "source": [
    "mean_pb_tar <- cache_uuid_path(mean_pb_uuid)\n",
    "sum_pb_tar <- cache_uuid_path(sum_pb_uuid)"
   ]
  },
  {
   "cell_type": "code",
   "execution_count": 11,
   "id": "696e9571-b33a-4409-99a6-df9c230e1667",
   "metadata": {},
   "outputs": [],
   "source": [
    "mean_dir <- \"Average_LogNormalized_Expression_of_Celltypes_by_Sample_AIFI_L3\"\n",
    "if(!dir.exists(mean_dir)) {\n",
    "    tar_call <- paste(\"tar -xf\", mean_pb_tar)\n",
    "    system(tar_call)\n",
    "}\n",
    "sum_dir <- \"Aggregated_Raw_Expression_of_Celltypes_by_Sample_AIFI_L3\"\n",
    "if(!dir.exists(sum_dir)) {\n",
    "    tar_call <- paste(\"tar -xf\", sum_pb_tar)\n",
    "    system(tar_call)\n",
    "}"
   ]
  },
  {
   "cell_type": "code",
   "execution_count": 12,
   "id": "aacbf0fc-e9c1-4c4f-9a2c-176a090675b0",
   "metadata": {},
   "outputs": [],
   "source": [
    "mean_pb_files <- list.files(mean_dir, full.names = TRUE)\n",
    "sum_pb_files <- list.files(sum_dir, full.names = TRUE)"
   ]
  },
  {
   "cell_type": "code",
   "execution_count": 13,
   "id": "2ada9bcf-d300-4cb1-a259-431c2219ad73",
   "metadata": {},
   "outputs": [],
   "source": [
    "mean_sample_ids <- sub(\".csv\", \"\", basename(mean_pb_files))\n",
    "sum_sample_ids <- sub(\".csv\", \"\", basename(sum_pb_files))"
   ]
  },
  {
   "cell_type": "markdown",
   "id": "d148e13e-a9f8-4053-afae-712c3c15ba05",
   "metadata": {},
   "source": [
    "## Read and restructure data"
   ]
  },
  {
   "cell_type": "markdown",
   "id": "0f013c4d-f041-44df-8ec5-d4bab3aa7f32",
   "metadata": {},
   "source": [
    "#### Mean values"
   ]
  },
  {
   "cell_type": "code",
   "execution_count": 14,
   "id": "3b49231d-c872-4ea8-9f8d-105c48e36b7a",
   "metadata": {},
   "outputs": [],
   "source": [
    "mean_pb_list <- future_map(mean_pb_files, fread)\n",
    "names(mean_pb_list) <- mean_sample_ids"
   ]
  },
  {
   "cell_type": "code",
   "execution_count": 15,
   "id": "90a64000-3412-4f38-bcb5-2543acec3aba",
   "metadata": {},
   "outputs": [],
   "source": [
    "mean_pb_list <- future_map(mean_pb_list, as.data.frame)\n",
    "mean_pb_list <- future_map(mean_pb_list, transpose_pb, round_to = 6)\n",
    "mean_pb_list <- future_map2(mean_pb_list, names(mean_pb_list), add_sample_id)"
   ]
  },
  {
   "cell_type": "code",
   "execution_count": 16,
   "id": "036dc528-a896-4da8-a182-8f5b3a941e19",
   "metadata": {},
   "outputs": [],
   "source": [
    "mean_pb_df <- mean_pb_list %>%\n",
    "  list_rbind()"
   ]
  },
  {
   "cell_type": "code",
   "execution_count": 17,
   "id": "c5aa22ec-37bb-48f9-bcee-30447f0a972a",
   "metadata": {},
   "outputs": [
    {
     "data": {
      "text/html": [
       "<style>\n",
       ".list-inline {list-style: none; margin:0; padding: 0}\n",
       ".list-inline>li {display: inline-block}\n",
       ".list-inline>li:not(:last-child)::after {content: \"\\00b7\"; padding: 0 .5ex}\n",
       "</style>\n",
       "<ol class=list-inline><li>58816</li><li>33540</li></ol>\n"
      ],
      "text/latex": [
       "\\begin{enumerate*}\n",
       "\\item 58816\n",
       "\\item 33540\n",
       "\\end{enumerate*}\n"
      ],
      "text/markdown": [
       "1. 58816\n",
       "2. 33540\n",
       "\n",
       "\n"
      ],
      "text/plain": [
       "[1] 58816 33540"
      ]
     },
     "metadata": {},
     "output_type": "display_data"
    }
   ],
   "source": [
    "dim(mean_pb_df)"
   ]
  },
  {
   "cell_type": "code",
   "execution_count": 18,
   "id": "cd192870-f017-4d9f-aea1-eaa12041363d",
   "metadata": {},
   "outputs": [],
   "source": [
    "mean_pb_df <- mean_pb_df %>%\n",
    "  select(specimen.specimenGuid, AIFI_L3, everything())"
   ]
  },
  {
   "cell_type": "markdown",
   "id": "0be7249b-5588-4472-85eb-1127ab91efb8",
   "metadata": {},
   "source": [
    "#### Sum values"
   ]
  },
  {
   "cell_type": "code",
   "execution_count": 19,
   "id": "534f332f-5242-4a48-9f1c-a44745b8d07b",
   "metadata": {},
   "outputs": [],
   "source": [
    "sum_pb_list <- future_map(sum_pb_files, fread)\n",
    "names(sum_pb_list) <- sum_sample_ids"
   ]
  },
  {
   "cell_type": "code",
   "execution_count": 20,
   "id": "a2bcc7ee-d2c6-4c70-8c26-e2af16207865",
   "metadata": {},
   "outputs": [],
   "source": [
    "sum_pb_list <- future_map(sum_pb_list, as.data.frame)\n",
    "sum_pb_list <- future_map(sum_pb_list, transpose_pb)\n",
    "sum_pb_list <- future_map2(sum_pb_list, names(sum_pb_list), add_sample_id)"
   ]
  },
  {
   "cell_type": "code",
   "execution_count": 21,
   "id": "b5a8fb8c-99f3-408e-b8fe-e7ebba19cdbb",
   "metadata": {},
   "outputs": [],
   "source": [
    "sum_pb_df <- sum_pb_list %>%\n",
    "  list_rbind()"
   ]
  },
  {
   "cell_type": "code",
   "execution_count": 22,
   "id": "7068ca5a-945a-45af-8dc2-849d93c299b2",
   "metadata": {},
   "outputs": [
    {
     "data": {
      "text/html": [
       "<style>\n",
       ".list-inline {list-style: none; margin:0; padding: 0}\n",
       ".list-inline>li {display: inline-block}\n",
       ".list-inline>li:not(:last-child)::after {content: \"\\00b7\"; padding: 0 .5ex}\n",
       "</style>\n",
       "<ol class=list-inline><li>58816</li><li>33540</li></ol>\n"
      ],
      "text/latex": [
       "\\begin{enumerate*}\n",
       "\\item 58816\n",
       "\\item 33540\n",
       "\\end{enumerate*}\n"
      ],
      "text/markdown": [
       "1. 58816\n",
       "2. 33540\n",
       "\n",
       "\n"
      ],
      "text/plain": [
       "[1] 58816 33540"
      ]
     },
     "metadata": {},
     "output_type": "display_data"
    }
   ],
   "source": [
    "dim(sum_pb_df)"
   ]
  },
  {
   "cell_type": "code",
   "execution_count": 23,
   "id": "db82e6ed-fb4c-482f-a6ac-909e899387dd",
   "metadata": {},
   "outputs": [],
   "source": [
    "sum_pb_df <- sum_pb_df %>%\n",
    "  select(specimen.specimenGuid, AIFI_L3, everything())"
   ]
  },
  {
   "cell_type": "markdown",
   "id": "574c3723-0bdf-49d4-a5f2-346dfd92f8fd",
   "metadata": {},
   "source": [
    "### Subset by cohort, sex, and CMV"
   ]
  },
  {
   "cell_type": "code",
   "execution_count": 24,
   "id": "84a7b36f-925c-4f9f-b8ca-e9a031e896e6",
   "metadata": {},
   "outputs": [],
   "source": [
    "meta <- meta %>%\n",
    "  mutate(pb_group = paste0(\n",
    "      cohort.cohortGuid, \"_\", \n",
    "      subject.biologicalSex, \"_\",\n",
    "      subject.cmv\n",
    "  ))\n",
    "split_meta <- split(meta, meta$pb_group)"
   ]
  },
  {
   "cell_type": "markdown",
   "id": "c64c2a3f-323f-4e6d-9926-f5dd0c88d1df",
   "metadata": {},
   "source": [
    "### Write mean values"
   ]
  },
  {
   "cell_type": "code",
   "execution_count": 25,
   "id": "80feeb30-3414-4d99-9121-de726960bd98",
   "metadata": {},
   "outputs": [],
   "source": [
    "mean_out_dir <- \"sound-life_pseudobulk_mean-log-norm\"\n",
    "\n",
    "if(!dir.exists(mean_out_dir)) {\n",
    "    dir.create(mean_out_dir)\n",
    "}"
   ]
  },
  {
   "cell_type": "code",
   "execution_count": 27,
   "id": "adb1befe-27e8-4380-a1df-ad8220586707",
   "metadata": {},
   "outputs": [],
   "source": [
    "walk(\n",
    "    split_meta,\n",
    "    function(meta) {\n",
    "        pb_group <- meta$pb_group[1]\n",
    "        \n",
    "        meta <- meta %>%\n",
    "          select(-pb_group)\n",
    "        \n",
    "        mean_df <- mean_pb_df %>%\n",
    "          filter(specimen.specimenGuid %in% meta$specimen.specimenGuid)\n",
    "\n",
    "        out_meta <- paste0(mean_out_dir,\"/\",pb_group,\"_pseudobulk_meta.csv\")\n",
    "        out_mean <- paste0(mean_out_dir,\"/\",pb_group,\"_pseudobulk_mean-log-norm.csv\")\n",
    "\n",
    "        fwrite(meta, out_meta)\n",
    "        fwrite(mean_df, out_mean)\n",
    "    }\n",
    ")"
   ]
  },
  {
   "cell_type": "markdown",
   "id": "3425af85-8925-4066-bb71-d600b54612c9",
   "metadata": {},
   "source": [
    "### Write sum values"
   ]
  },
  {
   "cell_type": "code",
   "execution_count": 28,
   "id": "971a0659-7d25-4648-8aac-a948ecb69822",
   "metadata": {},
   "outputs": [],
   "source": [
    "sum_out_dir <- \"sound-life_pseudobulk_sum\"\n",
    "\n",
    "if(!dir.exists(sum_out_dir)) {\n",
    "    dir.create(sum_out_dir)\n",
    "}"
   ]
  },
  {
   "cell_type": "code",
   "execution_count": 29,
   "id": "7a2a0ea0-35e5-407c-b761-bfe2e9b97e1e",
   "metadata": {},
   "outputs": [],
   "source": [
    "walk(\n",
    "    split_meta,\n",
    "    function(meta) {\n",
    "        pb_group <- meta$pb_group[1]\n",
    "        \n",
    "        meta <- meta %>%\n",
    "          select(-pb_group)\n",
    "        \n",
    "        sum_df <- sum_pb_df %>%\n",
    "          filter(specimen.specimenGuid %in% meta$specimen.specimenGuid)\n",
    "\n",
    "        out_meta <- paste0(sum_out_dir,\"/\",pb_group,\"_pseudobulk_meta.csv\")\n",
    "        out_sum <- paste0(sum_out_dir,\"/\",pb_group,\"_pseudobulk_sum.csv\")\n",
    "\n",
    "        fwrite(meta, out_meta)\n",
    "        fwrite(sum_df, out_sum)\n",
    "    }\n",
    ")"
   ]
  },
  {
   "cell_type": "markdown",
   "id": "e63009df-9826-48c0-bcf9-e1855cae12f2",
   "metadata": {},
   "source": [
    "## Tar and compress data for storage and download"
   ]
  },
  {
   "cell_type": "code",
   "execution_count": 31,
   "id": "ddfba979-9675-4cc7-b5b0-cf4703c36710",
   "metadata": {},
   "outputs": [],
   "source": [
    "mean_out_file <- paste0(\"output/\", mean_out_dir, \"_\", Sys.Date(), \".tar.gz\")\n",
    "mean_call <- paste(\n",
    "    \"tar -czf\",\n",
    "    mean_out_file,\n",
    "    mean_out_dir\n",
    ")\n",
    "system(mean_call)"
   ]
  },
  {
   "cell_type": "code",
   "execution_count": 32,
   "id": "ce64e007-e049-4bce-84dd-d5f7fecf77dd",
   "metadata": {},
   "outputs": [],
   "source": [
    "sum_out_file <- paste0(\"output/\", sum_out_dir, \"_\", Sys.Date(), \".tar.gz\")\n",
    "sum_call <- paste(\n",
    "    \"tar -czf\",\n",
    "    sum_out_file,\n",
    "    sum_out_dir\n",
    ")\n",
    "system(sum_call)"
   ]
  },
  {
   "cell_type": "markdown",
   "id": "006ac5a1-70bd-49d2-90b0-135b46378977",
   "metadata": {},
   "source": [
    "## Upload data to HISE"
   ]
  },
  {
   "cell_type": "code",
   "execution_count": 33,
   "id": "1735fddb-7ab9-4ccd-807b-e7ca721d5516",
   "metadata": {
    "tags": []
   },
   "outputs": [],
   "source": [
    "study_space_uuid <- \"de025812-5e73-4b3c-9c3b-6d0eac412f2a\"\n",
    "title <- paste(\"DIHA Pseudobulk Datasets\", Sys.Date())"
   ]
  },
  {
   "cell_type": "code",
   "execution_count": 34,
   "id": "fa3ae2cf-1bb8-4ff6-8d7f-d2d00ecfb78b",
   "metadata": {},
   "outputs": [
    {
     "data": {
      "text/html": [
       "'pakod-motiz-jupib'"
      ],
      "text/latex": [
       "'pakod-motiz-jupib'"
      ],
      "text/markdown": [
       "'pakod-motiz-jupib'"
      ],
      "text/plain": [
       "[1] \"pakod-motiz-jupib\""
      ]
     },
     "metadata": {},
     "output_type": "display_data"
    }
   ],
   "source": [
    "search_id <- ids::proquint(n_words = 3)\n",
    "search_id"
   ]
  },
  {
   "cell_type": "code",
   "execution_count": 35,
   "id": "d4d1b610-0869-4db0-a4b3-5c4d0fc42d98",
   "metadata": {
    "tags": []
   },
   "outputs": [],
   "source": [
    "in_list <- as.list(c(meta_uuid, mean_pb_uuid, sum_pb_uuid))"
   ]
  },
  {
   "cell_type": "code",
   "execution_count": 36,
   "id": "6b6f31f3-26a1-4694-b3b7-5a5a426c269a",
   "metadata": {
    "tags": []
   },
   "outputs": [],
   "source": [
    "out_list <- list(mean_out_file, sum_out_file)"
   ]
  },
  {
   "cell_type": "code",
   "execution_count": 37,
   "id": "d0f17c10-8d50-4077-88da-aec7469ba358",
   "metadata": {},
   "outputs": [
    {
     "data": {
      "text/html": [
       "<ol>\n",
       "\t<li>'output/sound-life_pseudobulk_mean-log-norm_2024-08-14.tar.gz'</li>\n",
       "\t<li>'output/sound-life_pseudobulk_sum_2024-08-14.tar.gz'</li>\n",
       "</ol>\n"
      ],
      "text/latex": [
       "\\begin{enumerate}\n",
       "\\item 'output/sound-life\\_pseudobulk\\_mean-log-norm\\_2024-08-14.tar.gz'\n",
       "\\item 'output/sound-life\\_pseudobulk\\_sum\\_2024-08-14.tar.gz'\n",
       "\\end{enumerate}\n"
      ],
      "text/markdown": [
       "1. 'output/sound-life_pseudobulk_mean-log-norm_2024-08-14.tar.gz'\n",
       "2. 'output/sound-life_pseudobulk_sum_2024-08-14.tar.gz'\n",
       "\n",
       "\n"
      ],
      "text/plain": [
       "[[1]]\n",
       "[1] \"output/sound-life_pseudobulk_mean-log-norm_2024-08-14.tar.gz\"\n",
       "\n",
       "[[2]]\n",
       "[1] \"output/sound-life_pseudobulk_sum_2024-08-14.tar.gz\"\n"
      ]
     },
     "metadata": {},
     "output_type": "display_data"
    }
   ],
   "source": [
    "out_list"
   ]
  },
  {
   "cell_type": "code",
   "execution_count": 38,
   "id": "dfcd9528-7e47-4e0d-a8fd-fcd7e235bd8d",
   "metadata": {
    "scrolled": true,
    "tags": []
   },
   "outputs": [
    {
     "name": "stderr",
     "output_type": "stream",
     "text": [
      "You are trying to upload the following files:  output/sound-life_pseudobulk_mean-log-norm_2024-08-14.tar.gz output/sound-life_pseudobulk_sum_2024-08-14.tar.gz\n",
      "\n"
     ]
    },
    {
     "name": "stdin",
     "output_type": "stream",
     "text": [
      "(y/n) y\n"
     ]
    },
    {
     "data": {
      "text/html": [
       "<dl>\n",
       "\t<dt>$files</dt>\n",
       "\t\t<dd><ol>\n",
       "\t<li>'output/sound-life_pseudobulk_mean-log-norm_2024-08-14.tar.gz'</li>\n",
       "\t<li>'output/sound-life_pseudobulk_sum_2024-08-14.tar.gz'</li>\n",
       "</ol>\n",
       "</dd>\n",
       "\t<dt>$traceId</dt>\n",
       "\t\t<dd>'ddb65527-95c5-4688-8995-f6714170eca7'</dd>\n",
       "</dl>\n"
      ],
      "text/latex": [
       "\\begin{description}\n",
       "\\item[\\$files] \\begin{enumerate}\n",
       "\\item 'output/sound-life\\_pseudobulk\\_mean-log-norm\\_2024-08-14.tar.gz'\n",
       "\\item 'output/sound-life\\_pseudobulk\\_sum\\_2024-08-14.tar.gz'\n",
       "\\end{enumerate}\n",
       "\n",
       "\\item[\\$traceId] 'ddb65527-95c5-4688-8995-f6714170eca7'\n",
       "\\end{description}\n"
      ],
      "text/markdown": [
       "$files\n",
       ":   1. 'output/sound-life_pseudobulk_mean-log-norm_2024-08-14.tar.gz'\n",
       "2. 'output/sound-life_pseudobulk_sum_2024-08-14.tar.gz'\n",
       "\n",
       "\n",
       "\n",
       "$traceId\n",
       ":   'ddb65527-95c5-4688-8995-f6714170eca7'\n",
       "\n",
       "\n"
      ],
      "text/plain": [
       "$files\n",
       "$files[[1]]\n",
       "[1] \"output/sound-life_pseudobulk_mean-log-norm_2024-08-14.tar.gz\"\n",
       "\n",
       "$files[[2]]\n",
       "[1] \"output/sound-life_pseudobulk_sum_2024-08-14.tar.gz\"\n",
       "\n",
       "\n",
       "$traceId\n",
       "[1] \"ddb65527-95c5-4688-8995-f6714170eca7\"\n"
      ]
     },
     "metadata": {},
     "output_type": "display_data"
    }
   ],
   "source": [
    "uploadFiles(\n",
    "    files = out_list,\n",
    "    studySpaceId = study_space_uuid,\n",
    "    title = title,\n",
    "    inputFileIds = in_list,\n",
    "    store = \"project\",\n",
    "    destination = search_id\n",
    ")"
   ]
  },
  {
   "cell_type": "code",
   "execution_count": 39,
   "id": "cc9ec8cf-3d5f-4903-876b-0071b10dfdd9",
   "metadata": {},
   "outputs": [
    {
     "data": {
      "text/plain": [
       "R version 4.3.2 (2023-10-31)\n",
       "Platform: x86_64-conda-linux-gnu (64-bit)\n",
       "Running under: Ubuntu 20.04.6 LTS\n",
       "\n",
       "Matrix products: default\n",
       "BLAS/LAPACK: /opt/conda/lib/libopenblasp-r0.3.25.so;  LAPACK version 3.11.0\n",
       "\n",
       "locale:\n",
       " [1] LC_CTYPE=C.UTF-8       LC_NUMERIC=C           LC_TIME=C.UTF-8       \n",
       " [4] LC_COLLATE=C.UTF-8     LC_MONETARY=C.UTF-8    LC_MESSAGES=C.UTF-8   \n",
       " [7] LC_PAPER=C.UTF-8       LC_NAME=C              LC_ADDRESS=C          \n",
       "[10] LC_TELEPHONE=C         LC_MEASUREMENT=C.UTF-8 LC_IDENTIFICATION=C   \n",
       "\n",
       "time zone: Etc/UTC\n",
       "tzcode source: system (glibc)\n",
       "\n",
       "attached base packages:\n",
       "[1] stats     graphics  grDevices utils     datasets  methods   base     \n",
       "\n",
       "other attached packages:\n",
       "[1] furrr_0.3.1       future_1.33.1     purrr_1.0.2       hise_2.16.0      \n",
       "[5] H5weaver_1.2.0    rhdf5_2.46.1      Matrix_1.6-4      dplyr_1.1.4      \n",
       "[9] data.table_1.15.4\n",
       "\n",
       "loaded via a namespace (and not attached):\n",
       " [1] jsonlite_1.8.8      compiler_4.3.2      crayon_1.5.2       \n",
       " [4] tidyselect_1.2.0    IRdisplay_1.1       stringr_1.5.1      \n",
       " [7] bitops_1.0-7        rhdf5filters_1.14.1 assertthat_0.2.1   \n",
       "[10] parallel_4.3.2      globals_0.16.2      uuid_1.2-0         \n",
       "[13] fastmap_1.2.0       IRkernel_1.3.2      lattice_0.22-5     \n",
       "[16] R6_2.5.1            generics_0.1.3      curl_5.1.0         \n",
       "[19] tibble_3.2.1        pillar_1.9.0        rlang_1.1.4        \n",
       "[22] utf8_1.2.4          stringi_1.8.3       repr_1.1.7         \n",
       "[25] cli_3.6.3           withr_3.0.0         magrittr_2.0.3     \n",
       "[28] Rhdf5lib_1.24.1     digest_0.6.36       grid_4.3.2         \n",
       "[31] base64enc_0.1-3     pbdZMQ_0.3-10       lifecycle_1.0.4    \n",
       "[34] vctrs_0.6.5         evaluate_0.24.0     glue_1.7.0         \n",
       "[37] listenv_0.9.0       ids_1.0.1           codetools_0.2-19   \n",
       "[40] RCurl_1.98-1.14     parallelly_1.36.0   fansi_1.0.6        \n",
       "[43] httr_1.4.7          tools_4.3.2         pkgconfig_2.0.3    \n",
       "[46] htmltools_0.5.8.1  "
      ]
     },
     "metadata": {},
     "output_type": "display_data"
    }
   ],
   "source": [
    "sessionInfo()"
   ]
  },
  {
   "cell_type": "code",
   "execution_count": null,
   "id": "12a92d4f-41db-4c95-8ca8-64aefffd249e",
   "metadata": {},
   "outputs": [],
   "source": []
  }
 ],
 "metadata": {
  "environment": {
   "kernel": "ir4",
   "name": ".m123",
   "type": "gcloud",
   "uri": "us-docker.pkg.dev/deeplearning-platform-release/gcr.io/:m123"
  },
  "kernelspec": {
   "display_name": "R 4",
   "language": "R",
   "name": "ir4"
  },
  "language_info": {
   "codemirror_mode": "r",
   "file_extension": ".r",
   "mimetype": "text/x-r-source",
   "name": "R",
   "pygments_lexer": "r",
   "version": "4.3.2"
  }
 },
 "nbformat": 4,
 "nbformat_minor": 5
}
