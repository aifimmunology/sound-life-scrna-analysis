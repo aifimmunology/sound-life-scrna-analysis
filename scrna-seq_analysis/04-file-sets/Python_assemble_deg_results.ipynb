{
 "cells": [
  {
   "cell_type": "code",
   "execution_count": 1,
   "id": "506eb460-f1e8-4dfb-b379-479d010d12c5",
   "metadata": {},
   "outputs": [],
   "source": [
    "from datetime import date\n",
    "\n",
    "import hisepy\n",
    "import os\n",
    "import pandas as pd"
   ]
  },
  {
   "cell_type": "code",
   "execution_count": 2,
   "id": "81c929b6-e31f-4bb2-a264-09cadc332fd5",
   "metadata": {},
   "outputs": [],
   "source": [
    "if not os.path.isdir('output'):\n",
    "    os.mkdir('output')"
   ]
  },
  {
   "cell_type": "markdown",
   "id": "7c2594e6-d05c-4e40-aeeb-29283fe4deb2",
   "metadata": {},
   "source": [
    "### Helper functions"
   ]
  },
  {
   "cell_type": "code",
   "execution_count": 3,
   "id": "3a16492f-46d8-4b5f-9f44-908a49422278",
   "metadata": {},
   "outputs": [],
   "source": [
    "def cache_uuid_path(uuid):\n",
    "    cache_path = '/home/jupyter/cache/{u}'.format(u = uuid)\n",
    "    if not os.path.isdir(cache_path):\n",
    "        hise_res = hisepy.reader.cache_files([uuid])\n",
    "    cache_filename = os.listdir(cache_path)[0]\n",
    "    cache_file = '{p}/{f}'.format(p = cache_path, f = cache_filename)\n",
    "\n",
    "    return cache_file"
   ]
  },
  {
   "cell_type": "code",
   "execution_count": 4,
   "id": "7bde990a-3604-4c42-9dba-33522e7b3cfe",
   "metadata": {},
   "outputs": [],
   "source": [
    "def read_csv_uuid(csv_uuid, index_col = None):\n",
    "    csv_file = cache_uuid_path(csv_uuid)\n",
    "    if index_col is None:\n",
    "        df = pd.read_csv(csv_file)\n",
    "    else:\n",
    "        df = pd.read_csv(csv_file, index_col = index_col)\n",
    "    return df"
   ]
  },
  {
   "cell_type": "code",
   "execution_count": 5,
   "id": "03988151-f48a-4695-932e-273cc62dc699",
   "metadata": {},
   "outputs": [],
   "source": [
    "def element_id(n = 3):\n",
    "    import periodictable\n",
    "    from random import randrange\n",
    "    rand_el = []\n",
    "    for i in range(n):\n",
    "        el = randrange(0,118)\n",
    "        rand_el.append(periodictable.elements[el].name)\n",
    "    rand_str = '-'.join(rand_el)\n",
    "    return rand_str"
   ]
  },
  {
   "cell_type": "markdown",
   "id": "a480f79e-a6bc-42d8-a988-a50d55e76e77",
   "metadata": {},
   "source": [
    "### Retrieve DESeq2 results from HISE"
   ]
  },
  {
   "cell_type": "code",
   "execution_count": 6,
   "id": "bdef180e-dd3b-4562-b104-8f39e9e4bf27",
   "metadata": {},
   "outputs": [],
   "source": [
    "deg_uuid = 'ae34daa7-00b3-4c4a-b770-c3922da030ef'\n",
    "deg = read_csv_uuid(deg_uuid)"
   ]
  },
  {
   "cell_type": "code",
   "execution_count": 7,
   "id": "96cf5596-ad9c-4ec4-939c-a9b637ce76e8",
   "metadata": {},
   "outputs": [],
   "source": [
    "d0_d7_deg_uuid = 'bd2e9e22-f425-4927-b472-18d15711df27'\n",
    "d0_d7_deg = read_csv_uuid(d0_d7_deg_uuid, index_col = 0)"
   ]
  },
  {
   "cell_type": "code",
   "execution_count": 8,
   "id": "0a135e3d-46e8-4616-bd20-ab7499096716",
   "metadata": {},
   "outputs": [],
   "source": [
    "deg = pd.concat([deg, d0_d7_deg], axis = 0)"
   ]
  },
  {
   "cell_type": "code",
   "execution_count": 9,
   "id": "f473a831-307f-44f6-8f94-6bf2589bd48a",
   "metadata": {},
   "outputs": [
    {
     "data": {
      "text/plain": [
       "contrast\n",
       "sample.visitName         376678\n",
       "cohort.cohortGuid        373942\n",
       "CMV                      373942\n",
       "subject.biologicalSex    373942\n",
       "Name: count, dtype: int64"
      ]
     },
     "execution_count": 9,
     "metadata": {},
     "output_type": "execute_result"
    }
   ],
   "source": [
    "deg['contrast'].value_counts()"
   ]
  },
  {
   "cell_type": "code",
   "execution_count": 10,
   "id": "e2eb06a0-f940-401c-bcbe-e1f646d6a90e",
   "metadata": {},
   "outputs": [],
   "source": [
    "contrast_to_name = {\n",
    "    'cohort.cohortGuid': 'Subject Age: Younger | Older',\n",
    "    'CMV': 'CMV Status: Negative | Positive',\n",
    "    'subject.biologicalSex': 'Subject Sex: Female | Male',\n",
    "    'sample.visitName': 'Flu Vaccine: Day 0 | Day 7'\n",
    "}"
   ]
  },
  {
   "cell_type": "code",
   "execution_count": 11,
   "id": "ee540c67-6f3f-4fad-a136-bb8a0652d3ce",
   "metadata": {},
   "outputs": [],
   "source": [
    "contrast_sets = {\n",
    "    'cohort.cohortGuid': { 'fg': 'Older Adult', 'bg': 'Younger Adult' },\n",
    "    'CMV': { 'fg': 'Positive', 'bg': 'Negative' },\n",
    "    'subject.biologicalSex': {'fg': 'Male', 'bg': 'Female' },\n",
    "    'sample.visitName': {'fg': 'Flu Year 1 Day 7', 'bg': 'Flu Year 1 Day 0'}\n",
    "}"
   ]
  },
  {
   "cell_type": "code",
   "execution_count": 12,
   "id": "630ff7ff-6578-4f9a-a5a4-bdfcbf22b113",
   "metadata": {},
   "outputs": [],
   "source": [
    "rename_dict = {\n",
    "    'celltype': 'AIFI_L3',\n",
    "    'log2FoldChange': 'log2fc'\n",
    "}"
   ]
  },
  {
   "cell_type": "code",
   "execution_count": 13,
   "id": "94020a06-12f4-49a9-9787-7b47e8a00465",
   "metadata": {},
   "outputs": [],
   "source": [
    "contrasts = deg['contrast'].unique()\n",
    "deg_dfs = {}\n",
    "for contrast in contrasts:\n",
    "    df = deg.loc[deg['contrast'] == contrast].copy()\n",
    "    contrast_name = contrast_to_name[contrast]\n",
    "\n",
    "    df['fg'] = contrast_sets[contrast]['fg']\n",
    "    df['bg'] = contrast_sets[contrast]['bg']\n",
    "    \n",
    "    df = df.rename(rename_dict, axis = 1)\n",
    "    df = df[['AIFI_L3', 'fg', 'bg', \n",
    "             'gene', 'log2fc', \n",
    "             'padj', 'pvalue', 'stat']]\n",
    "    \n",
    "    deg_dfs[contrast_name] = df"
   ]
  },
  {
   "cell_type": "code",
   "execution_count": 14,
   "id": "dc230238-deaa-43fb-ac7c-9659aa3125ff",
   "metadata": {},
   "outputs": [],
   "source": [
    "contrast_files = {\n",
    "    'cohort.cohortGuid': 'diha_age-group_deseq2_results_{d}.csv'.format(d = date.today()),\n",
    "    'CMV': 'diha_cmv-status_deseq2_results_{d}.csv'.format(d = date.today()),\n",
    "    'subject.biologicalSex': 'diha_biological-sex_deseq2_results_{d}.csv'.format(d = date.today()),\n",
    "    'sample.visitName': 'diha_flu-vaccine_deseq2_results_{d}.csv'.format(d = date.today())\n",
    "}"
   ]
  },
  {
   "cell_type": "code",
   "execution_count": 15,
   "id": "5e27f16e-a271-4d79-93d2-13178a5b73e9",
   "metadata": {},
   "outputs": [
    {
     "name": "stderr",
     "output_type": "stream",
     "text": [
      "/opt/conda/lib/python3.10/site-packages/pandas/core/internals/blocks.py:2540: RuntimeWarning: invalid value encountered in cast\n",
      "  values = values.astype(str)\n"
     ]
    }
   ],
   "source": [
    "out_files = []\n",
    "for contrast in contrasts:\n",
    "    deg_df = deg_dfs[contrast_name]\n",
    "    out_file = 'output/' + contrast_files[contrast]\n",
    "\n",
    "    deg_df.to_csv(out_file, index = False)\n",
    "    out_files.append(out_file)"
   ]
  },
  {
   "cell_type": "markdown",
   "id": "54f61026-8af8-4515-90c4-6c096b397b83",
   "metadata": {},
   "source": [
    "## Upload DEG data to HISE\n",
    "\n",
    "Finally, we'll use `hisepy.upload.upload_files()` to send a copy of our output to HISE to use for downstream analysis steps."
   ]
  },
  {
   "cell_type": "code",
   "execution_count": 16,
   "id": "89b0a6c5-4323-48d0-ba4d-80edf7a3ca8c",
   "metadata": {},
   "outputs": [],
   "source": [
    "study_space_uuid = 'de025812-5e73-4b3c-9c3b-6d0eac412f2a'\n",
    "title = 'DIHA DEG results {d}'.format(d = date.today())"
   ]
  },
  {
   "cell_type": "code",
   "execution_count": 17,
   "id": "86fbb55b-08a4-4c56-a00c-9460c2bfd392",
   "metadata": {},
   "outputs": [
    {
     "data": {
      "text/plain": [
       "'polonium-selenium-silver'"
      ]
     },
     "execution_count": 17,
     "metadata": {},
     "output_type": "execute_result"
    }
   ],
   "source": [
    "search_id = element_id()\n",
    "search_id"
   ]
  },
  {
   "cell_type": "code",
   "execution_count": 18,
   "id": "e37e8b74-f52c-45b9-9ed8-c0f35a9915ab",
   "metadata": {},
   "outputs": [
    {
     "data": {
      "text/plain": [
       "['ae34daa7-00b3-4c4a-b770-c3922da030ef',\n",
       " 'bd2e9e22-f425-4927-b472-18d15711df27']"
      ]
     },
     "execution_count": 18,
     "metadata": {},
     "output_type": "execute_result"
    }
   ],
   "source": [
    "in_files = [deg_uuid, d0_d7_deg_uuid]\n",
    "in_files"
   ]
  },
  {
   "cell_type": "code",
   "execution_count": 19,
   "id": "81378aa3-e23f-4a19-afc3-52786796bed1",
   "metadata": {},
   "outputs": [
    {
     "data": {
      "text/plain": [
       "['output/diha_age-group_deseq2_results_2024-08-09.csv',\n",
       " 'output/diha_cmv-status_deseq2_results_2024-08-09.csv',\n",
       " 'output/diha_biological-sex_deseq2_results_2024-08-09.csv',\n",
       " 'output/diha_flu-vaccine_deseq2_results_2024-08-09.csv']"
      ]
     },
     "execution_count": 19,
     "metadata": {},
     "output_type": "execute_result"
    }
   ],
   "source": [
    "out_files"
   ]
  },
  {
   "cell_type": "code",
   "execution_count": 20,
   "id": "7508f5e2-c373-465d-a1df-78198aa4ffc0",
   "metadata": {},
   "outputs": [
    {
     "data": {
      "text/plain": [
       "4"
      ]
     },
     "execution_count": 20,
     "metadata": {},
     "output_type": "execute_result"
    }
   ],
   "source": [
    "len(out_files)"
   ]
  },
  {
   "cell_type": "code",
   "execution_count": 21,
   "id": "ad200411-258b-4118-9c25-e8bfaad03b9e",
   "metadata": {},
   "outputs": [
    {
     "name": "stdout",
     "output_type": "stream",
     "text": [
      "you are trying to upload file_ids... ['output/diha_age-group_deseq2_results_2024-08-09.csv', 'output/diha_cmv-status_deseq2_results_2024-08-09.csv', 'output/diha_biological-sex_deseq2_results_2024-08-09.csv', 'output/diha_flu-vaccine_deseq2_results_2024-08-09.csv']. Do you truly want to proceed?\n"
     ]
    },
    {
     "name": "stdin",
     "output_type": "stream",
     "text": [
      "(y/n) y\n"
     ]
    },
    {
     "data": {
      "text/plain": [
       "{'trace_id': '356e8cfd-dd46-4d8f-95a4-8a73ac046181',\n",
       " 'files': ['output/diha_age-group_deseq2_results_2024-08-09.csv',\n",
       "  'output/diha_cmv-status_deseq2_results_2024-08-09.csv',\n",
       "  'output/diha_biological-sex_deseq2_results_2024-08-09.csv',\n",
       "  'output/diha_flu-vaccine_deseq2_results_2024-08-09.csv']}"
      ]
     },
     "execution_count": 21,
     "metadata": {},
     "output_type": "execute_result"
    }
   ],
   "source": [
    "hisepy.upload.upload_files(\n",
    "    files = out_files,\n",
    "    study_space_id = study_space_uuid,\n",
    "    title = title,\n",
    "    input_file_ids = in_files,\n",
    "    destination = search_id\n",
    ")"
   ]
  },
  {
   "cell_type": "code",
   "execution_count": 22,
   "id": "153082b4-bf21-4038-8046-ea6badeec98e",
   "metadata": {},
   "outputs": [
    {
     "data": {
      "text/html": [
       "<details>\n",
       "<summary>Click to view session information</summary>\n",
       "<pre>\n",
       "-----\n",
       "hisepy              0.3.0\n",
       "pandas              2.1.4\n",
       "session_info        1.0.0\n",
       "-----\n",
       "</pre>\n",
       "<details>\n",
       "<summary>Click to view modules imported as dependencies</summary>\n",
       "<pre>\n",
       "PIL                         10.0.1\n",
       "anyio                       NA\n",
       "arrow                       1.3.0\n",
       "asttokens                   NA\n",
       "attr                        23.2.0\n",
       "attrs                       23.2.0\n",
       "babel                       2.14.0\n",
       "beatrix_jupyterlab          NA\n",
       "brotli                      NA\n",
       "cachetools                  5.3.1\n",
       "certifi                     2024.06.02\n",
       "cffi                        1.16.0\n",
       "charset_normalizer          3.3.2\n",
       "cloudpickle                 2.2.1\n",
       "colorama                    0.4.6\n",
       "comm                        0.1.4\n",
       "cryptography                41.0.7\n",
       "cycler                      0.10.0\n",
       "cython_runtime              NA\n",
       "dateutil                    2.8.2\n",
       "db_dtypes                   1.1.1\n",
       "debugpy                     1.8.0\n",
       "decorator                   5.1.1\n",
       "defusedxml                  0.7.1\n",
       "deprecated                  1.2.14\n",
       "exceptiongroup              1.2.0\n",
       "executing                   2.0.1\n",
       "fastjsonschema              NA\n",
       "fqdn                        NA\n",
       "google                      NA\n",
       "greenlet                    2.0.2\n",
       "grpc                        1.58.0\n",
       "grpc_status                 NA\n",
       "h5py                        3.10.0\n",
       "idna                        3.6\n",
       "importlib_metadata          NA\n",
       "ipykernel                   6.28.0\n",
       "ipython_genutils            0.2.0\n",
       "ipywidgets                  8.1.1\n",
       "isoduration                 NA\n",
       "jedi                        0.19.1\n",
       "jinja2                      3.1.2\n",
       "json5                       NA\n",
       "jsonpointer                 2.4\n",
       "jsonschema                  4.20.0\n",
       "jsonschema_specifications   NA\n",
       "jupyter_events              0.9.0\n",
       "jupyter_server              2.12.1\n",
       "jupyterlab_server           2.27.2\n",
       "jwt                         2.8.0\n",
       "kiwisolver                  1.4.5\n",
       "markupsafe                  2.1.3\n",
       "matplotlib                  3.8.0\n",
       "matplotlib_inline           0.1.6\n",
       "mpl_toolkits                NA\n",
       "nbformat                    5.9.2\n",
       "numpy                       1.24.0\n",
       "opentelemetry               NA\n",
       "overrides                   NA\n",
       "packaging                   23.2\n",
       "parso                       0.8.3\n",
       "periodictable               1.5.2\n",
       "pexpect                     4.8.0\n",
       "pickleshare                 0.7.5\n",
       "pkg_resources               NA\n",
       "platformdirs                4.1.0\n",
       "plotly                      5.18.0\n",
       "prettytable                 3.9.0\n",
       "prometheus_client           NA\n",
       "prompt_toolkit              3.0.42\n",
       "proto                       NA\n",
       "psutil                      NA\n",
       "ptyprocess                  0.7.0\n",
       "pure_eval                   0.2.2\n",
       "pyarrow                     13.0.0\n",
       "pydev_ipython               NA\n",
       "pydevconsole                NA\n",
       "pydevd                      2.9.5\n",
       "pydevd_file_utils           NA\n",
       "pydevd_plugins              NA\n",
       "pydevd_tracing              NA\n",
       "pygments                    2.17.2\n",
       "pyparsing                   3.1.1\n",
       "pyreadr                     0.5.0\n",
       "pythonjsonlogger            NA\n",
       "pytz                        2023.3.post1\n",
       "referencing                 NA\n",
       "requests                    2.31.0\n",
       "rfc3339_validator           0.1.4\n",
       "rfc3986_validator           0.1.1\n",
       "rpds                        NA\n",
       "send2trash                  NA\n",
       "shapely                     1.8.5.post1\n",
       "six                         1.16.0\n",
       "sniffio                     1.3.0\n",
       "socks                       1.7.1\n",
       "sql                         NA\n",
       "sqlalchemy                  2.0.21\n",
       "sqlparse                    0.4.4\n",
       "stack_data                  0.6.2\n",
       "termcolor                   NA\n",
       "tornado                     6.3.3\n",
       "tqdm                        4.66.1\n",
       "traitlets                   5.9.0\n",
       "typing_extensions           NA\n",
       "uri_template                NA\n",
       "urllib3                     1.26.19\n",
       "wcwidth                     0.2.12\n",
       "webcolors                   1.13\n",
       "websocket                   1.7.0\n",
       "wrapt                       1.15.0\n",
       "xarray                      2023.12.0\n",
       "yaml                        6.0.1\n",
       "zipp                        NA\n",
       "zmq                         25.1.2\n",
       "zoneinfo                    NA\n",
       "zstandard                   0.22.0\n",
       "</pre>\n",
       "</details> <!-- seems like this ends pre, so might as well be explicit -->\n",
       "<pre>\n",
       "-----\n",
       "IPython             8.19.0\n",
       "jupyter_client      8.6.0\n",
       "jupyter_core        5.6.1\n",
       "jupyterlab          4.2.3\n",
       "notebook            6.5.4\n",
       "-----\n",
       "Python 3.10.13 | packaged by conda-forge | (main, Dec 23 2023, 15:36:39) [GCC 12.3.0]\n",
       "Linux-5.15.0-1065-gcp-x86_64-with-glibc2.31\n",
       "-----\n",
       "Session information updated at 2024-08-09 02:57\n",
       "</pre>\n",
       "</details>"
      ],
      "text/plain": [
       "<IPython.core.display.HTML object>"
      ]
     },
     "execution_count": 22,
     "metadata": {},
     "output_type": "execute_result"
    }
   ],
   "source": [
    "import session_info\n",
    "session_info.show()"
   ]
  },
  {
   "cell_type": "code",
   "execution_count": null,
   "id": "fccbeaa5-16a5-4960-8482-dd29604a3d53",
   "metadata": {},
   "outputs": [],
   "source": []
  }
 ],
 "metadata": {
  "environment": {
   "kernel": "python3",
   "name": ".m123",
   "type": "gcloud",
   "uri": "us-docker.pkg.dev/deeplearning-platform-release/gcr.io/:m123"
  },
  "kernelspec": {
   "display_name": "Python 3 (ipykernel)",
   "language": "python",
   "name": "python3"
  },
  "language_info": {
   "codemirror_mode": {
    "name": "ipython",
    "version": 3
   },
   "file_extension": ".py",
   "mimetype": "text/x-python",
   "name": "python",
   "nbconvert_exporter": "python",
   "pygments_lexer": "ipython3",
   "version": "3.10.13"
  }
 },
 "nbformat": 4,
 "nbformat_minor": 5
}
