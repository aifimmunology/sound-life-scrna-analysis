{
 "cells": [
  {
   "cell_type": "markdown",
   "id": "13bb4297-e4f3-4554-9a62-838bc6d5d64b",
   "metadata": {},
   "source": [
    "# Title\n",
    "\n",
    "Description of your analysis"
   ]
  },
  {
   "cell_type": "markdown",
   "id": "2ab6500c-a785-4c03-89b0-fae4e7780e11",
   "metadata": {},
   "source": [
    "## Load packages\n",
    "\n",
    "`hise`: The HISE SDK package for R  \n",
    "`purrr`: Functional programming in R  \n",
    "`furrr`: Parallel functional programming"
   ]
  },
  {
   "cell_type": "code",
   "execution_count": 8,
   "id": "797a953d-32e3-45e2-b4c5-b4f98f1e3692",
   "metadata": {},
   "outputs": [
    {
     "name": "stderr",
     "output_type": "stream",
     "text": [
      "\n",
      "Attaching package: ‘dplyr’\n",
      "\n",
      "\n",
      "The following objects are masked from ‘package:stats’:\n",
      "\n",
      "    filter, lag\n",
      "\n",
      "\n",
      "The following objects are masked from ‘package:base’:\n",
      "\n",
      "    intersect, setdiff, setequal, union\n",
      "\n",
      "\n"
     ]
    }
   ],
   "source": [
    "library(dplyr)\n",
    "library(hise)\n",
    "library(purrr)\n",
    "library(furrr)"
   ]
  },
  {
   "cell_type": "code",
   "execution_count": 3,
   "id": "731de5c8-b58a-432f-a10f-dc151c11f5cd",
   "metadata": {},
   "outputs": [],
   "source": [
    "plan(\"multicore\", workers = 8)"
   ]
  },
  {
   "cell_type": "markdown",
   "id": "68fd8292-b917-425e-ba23-ecf7e543e9b2",
   "metadata": {},
   "source": [
    "## Helper functions"
   ]
  },
  {
   "cell_type": "code",
   "execution_count": 14,
   "id": "7073ef2e-e6d4-4123-8bed-d7e92032b733",
   "metadata": {},
   "outputs": [],
   "source": [
    "cache_uuid_path <- function(uuid) {\n",
    "    if(!dir.exists(paste0(\"cache/\", uuid))) {\n",
    "        hise_res <- cacheFiles(list(uuid))\n",
    "    }\n",
    "    \n",
    "    cache_path <- paste0(\"cache/\",uuid)\n",
    "    cache_file <- list.files(cache_path, full.names = TRUE)\n",
    "    \n",
    "    cache_file\n",
    "}"
   ]
  },
  {
   "cell_type": "markdown",
   "id": "349c47ab-98a7-4fdd-bdf0-95c8930b9b3e",
   "metadata": {},
   "source": [
    "## Identify files for use in HISE"
   ]
  },
  {
   "cell_type": "code",
   "execution_count": 5,
   "id": "e687c500-bff9-4129-9be5-4ceaeaa7e851",
   "metadata": {},
   "outputs": [],
   "source": [
    "search_id <- \"polonium-tin-curium\""
   ]
  },
  {
   "cell_type": "markdown",
   "id": "deb464b0-49ed-4dd0-8f92-19507305ab97",
   "metadata": {},
   "source": [
    "Retrieve the list of files stored in our HISE project store"
   ]
  },
  {
   "cell_type": "code",
   "execution_count": 9,
   "id": "00b2b690-b61f-4d55-8826-4a971d4ef18a",
   "metadata": {},
   "outputs": [],
   "source": [
    "ps_files <- listFilesInProjectStores(list(\"cohorts\"))\n",
    "ps_files <- map(\n",
    "    ps_files$files, \n",
    "    function(l) {\n",
    "        l <- l[c(\"id\", \"name\")]\n",
    "        as.data.frame(l)\n",
    "    }) %>%\n",
    "  list_rbind()"
   ]
  },
  {
   "cell_type": "markdown",
   "id": "889ecaa8-1bea-4829-bea7-054bec20f591",
   "metadata": {},
   "source": [
    "Filter for files from the previous notebook using our search_id and the .tar extension"
   ]
  },
  {
   "cell_type": "code",
   "execution_count": 10,
   "id": "957d79fd-46dc-4dcb-ac79-9a05fb2f9de4",
   "metadata": {},
   "outputs": [],
   "source": [
    "tar_files <- ps_files %>%\n",
    "  filter(grepl(search_id, name)) %>%\n",
    "  filter(grepl(\".tar$\", name))"
   ]
  },
  {
   "cell_type": "code",
   "execution_count": 12,
   "id": "5d61a650-c0e1-44fa-a496-e14625fc67ee",
   "metadata": {},
   "outputs": [
    {
     "data": {
      "text/html": [
       "<style>\n",
       ".list-inline {list-style: none; margin:0; padding: 0}\n",
       ".list-inline>li {display: inline-block}\n",
       ".list-inline>li:not(:last-child)::after {content: \"\\00b7\"; padding: 0 .5ex}\n",
       "</style>\n",
       "<ol class=list-inline><li>'polonium-tin-curium/diha_BR1_Female_Negative_h5ads_2024-05-05.tar'</li><li>'polonium-tin-curium/diha_BR1_Female_Positive_h5ads_2024-05-05.tar'</li><li>'polonium-tin-curium/diha_BR1_Male_Negative_h5ads_2024-05-05.tar'</li><li>'polonium-tin-curium/diha_BR1_Male_Positive_h5ads_2024-05-05.tar'</li><li>'polonium-tin-curium/diha_BR2_Female_Negative_h5ads_2024-05-05.tar'</li><li>'polonium-tin-curium/diha_BR2_Female_Positive_h5ads_2024-05-05.tar'</li><li>'polonium-tin-curium/diha_BR2_Male_Negative_h5ads_2024-05-05.tar'</li><li>'polonium-tin-curium/diha_BR2_Male_Positive_h5ads_2024-05-05.tar'</li></ol>\n"
      ],
      "text/latex": [
       "\\begin{enumerate*}\n",
       "\\item 'polonium-tin-curium/diha\\_BR1\\_Female\\_Negative\\_h5ads\\_2024-05-05.tar'\n",
       "\\item 'polonium-tin-curium/diha\\_BR1\\_Female\\_Positive\\_h5ads\\_2024-05-05.tar'\n",
       "\\item 'polonium-tin-curium/diha\\_BR1\\_Male\\_Negative\\_h5ads\\_2024-05-05.tar'\n",
       "\\item 'polonium-tin-curium/diha\\_BR1\\_Male\\_Positive\\_h5ads\\_2024-05-05.tar'\n",
       "\\item 'polonium-tin-curium/diha\\_BR2\\_Female\\_Negative\\_h5ads\\_2024-05-05.tar'\n",
       "\\item 'polonium-tin-curium/diha\\_BR2\\_Female\\_Positive\\_h5ads\\_2024-05-05.tar'\n",
       "\\item 'polonium-tin-curium/diha\\_BR2\\_Male\\_Negative\\_h5ads\\_2024-05-05.tar'\n",
       "\\item 'polonium-tin-curium/diha\\_BR2\\_Male\\_Positive\\_h5ads\\_2024-05-05.tar'\n",
       "\\end{enumerate*}\n"
      ],
      "text/markdown": [
       "1. 'polonium-tin-curium/diha_BR1_Female_Negative_h5ads_2024-05-05.tar'\n",
       "2. 'polonium-tin-curium/diha_BR1_Female_Positive_h5ads_2024-05-05.tar'\n",
       "3. 'polonium-tin-curium/diha_BR1_Male_Negative_h5ads_2024-05-05.tar'\n",
       "4. 'polonium-tin-curium/diha_BR1_Male_Positive_h5ads_2024-05-05.tar'\n",
       "5. 'polonium-tin-curium/diha_BR2_Female_Negative_h5ads_2024-05-05.tar'\n",
       "6. 'polonium-tin-curium/diha_BR2_Female_Positive_h5ads_2024-05-05.tar'\n",
       "7. 'polonium-tin-curium/diha_BR2_Male_Negative_h5ads_2024-05-05.tar'\n",
       "8. 'polonium-tin-curium/diha_BR2_Male_Positive_h5ads_2024-05-05.tar'\n",
       "\n",
       "\n"
      ],
      "text/plain": [
       "[1] \"polonium-tin-curium/diha_BR1_Female_Negative_h5ads_2024-05-05.tar\"\n",
       "[2] \"polonium-tin-curium/diha_BR1_Female_Positive_h5ads_2024-05-05.tar\"\n",
       "[3] \"polonium-tin-curium/diha_BR1_Male_Negative_h5ads_2024-05-05.tar\"  \n",
       "[4] \"polonium-tin-curium/diha_BR1_Male_Positive_h5ads_2024-05-05.tar\"  \n",
       "[5] \"polonium-tin-curium/diha_BR2_Female_Negative_h5ads_2024-05-05.tar\"\n",
       "[6] \"polonium-tin-curium/diha_BR2_Female_Positive_h5ads_2024-05-05.tar\"\n",
       "[7] \"polonium-tin-curium/diha_BR2_Male_Negative_h5ads_2024-05-05.tar\"  \n",
       "[8] \"polonium-tin-curium/diha_BR2_Male_Positive_h5ads_2024-05-05.tar\"  "
      ]
     },
     "metadata": {},
     "output_type": "display_data"
    }
   ],
   "source": [
    "tar_files$name"
   ]
  },
  {
   "cell_type": "markdown",
   "id": "3b0636cf-4863-41b7-9ab3-3eb80ecd21a4",
   "metadata": {},
   "source": [
    "## Cache and unpack files"
   ]
  },
  {
   "cell_type": "code",
   "execution_count": 15,
   "id": "82291cdc-fa63-467a-a9a9-2d7bae215735",
   "metadata": {},
   "outputs": [],
   "source": [
    "future_walk(\n",
    "    tar_files$id,\n",
    "    function(uuid) {\n",
    "        tar_file <- cache_uuid_path(uuid)\n",
    "        untar_call <- paste(\"tar -xf\", tar_file)\n",
    "        system(untar_call)\n",
    "    }\n",
    ")"
   ]
  },
  {
   "cell_type": "code",
   "execution_count": 17,
   "id": "00ed4dd5-e82c-47ac-bcaa-4d1d4aabe8b6",
   "metadata": {},
   "outputs": [],
   "source": [
    "sample_files <- list.files(\"sample_h5ad\", full.names = TRUE)"
   ]
  },
  {
   "cell_type": "code",
   "execution_count": 18,
   "id": "71d380ef-0db8-4d3e-8522-61f32ddcb620",
   "metadata": {},
   "outputs": [
    {
     "data": {
      "text/html": [
       "<style>\n",
       ".list-inline {list-style: none; margin:0; padding: 0}\n",
       ".list-inline>li {display: inline-block}\n",
       ".list-inline>li:not(:last-child)::after {content: \"\\00b7\"; padding: 0 .5ex}\n",
       "</style>\n",
       "<ol class=list-inline><li>'sample_h5ad/PB00001-01_BR1001_Flu-Year-1-Day-0.h5ad'</li><li>'sample_h5ad/PB00002-01_BR1002_Flu-Year-1-Day-0.h5ad'</li><li>'sample_h5ad/PB00003-01_BR1003_Flu-Year-1-Day-0.h5ad'</li><li>'sample_h5ad/PB00004-01_BR1004_Flu-Year-1-Day-0.h5ad'</li><li>'sample_h5ad/PB00006-01_BR1005_Flu-Year-1-Day-0.h5ad'</li><li>'sample_h5ad/PB00007-01_BR1003_Flu-Year-1-Day-7.h5ad'</li></ol>\n"
      ],
      "text/latex": [
       "\\begin{enumerate*}\n",
       "\\item 'sample\\_h5ad/PB00001-01\\_BR1001\\_Flu-Year-1-Day-0.h5ad'\n",
       "\\item 'sample\\_h5ad/PB00002-01\\_BR1002\\_Flu-Year-1-Day-0.h5ad'\n",
       "\\item 'sample\\_h5ad/PB00003-01\\_BR1003\\_Flu-Year-1-Day-0.h5ad'\n",
       "\\item 'sample\\_h5ad/PB00004-01\\_BR1004\\_Flu-Year-1-Day-0.h5ad'\n",
       "\\item 'sample\\_h5ad/PB00006-01\\_BR1005\\_Flu-Year-1-Day-0.h5ad'\n",
       "\\item 'sample\\_h5ad/PB00007-01\\_BR1003\\_Flu-Year-1-Day-7.h5ad'\n",
       "\\end{enumerate*}\n"
      ],
      "text/markdown": [
       "1. 'sample_h5ad/PB00001-01_BR1001_Flu-Year-1-Day-0.h5ad'\n",
       "2. 'sample_h5ad/PB00002-01_BR1002_Flu-Year-1-Day-0.h5ad'\n",
       "3. 'sample_h5ad/PB00003-01_BR1003_Flu-Year-1-Day-0.h5ad'\n",
       "4. 'sample_h5ad/PB00004-01_BR1004_Flu-Year-1-Day-0.h5ad'\n",
       "5. 'sample_h5ad/PB00006-01_BR1005_Flu-Year-1-Day-0.h5ad'\n",
       "6. 'sample_h5ad/PB00007-01_BR1003_Flu-Year-1-Day-7.h5ad'\n",
       "\n",
       "\n"
      ],
      "text/plain": [
       "[1] \"sample_h5ad/PB00001-01_BR1001_Flu-Year-1-Day-0.h5ad\"\n",
       "[2] \"sample_h5ad/PB00002-01_BR1002_Flu-Year-1-Day-0.h5ad\"\n",
       "[3] \"sample_h5ad/PB00003-01_BR1003_Flu-Year-1-Day-0.h5ad\"\n",
       "[4] \"sample_h5ad/PB00004-01_BR1004_Flu-Year-1-Day-0.h5ad\"\n",
       "[5] \"sample_h5ad/PB00006-01_BR1005_Flu-Year-1-Day-0.h5ad\"\n",
       "[6] \"sample_h5ad/PB00007-01_BR1003_Flu-Year-1-Day-7.h5ad\""
      ]
     },
     "metadata": {},
     "output_type": "display_data"
    }
   ],
   "source": [
    "head(sample_files)"
   ]
  },
  {
   "cell_type": "markdown",
   "id": "b835f8f8-0ee3-4a39-af0c-d156c7c1e0dc",
   "metadata": {},
   "source": [
    "## Perform analysis"
   ]
  },
  {
   "cell_type": "code",
   "execution_count": null,
   "id": "4dddd85c-818b-4ae2-a0fe-c57bb87a22cc",
   "metadata": {},
   "outputs": [],
   "source": []
  },
  {
   "cell_type": "code",
   "execution_count": null,
   "id": "1edd24c7-a11c-412e-bf19-67fce255cd47",
   "metadata": {},
   "outputs": [],
   "source": []
  },
  {
   "cell_type": "code",
   "execution_count": null,
   "id": "505562e4-a9dc-4f97-a388-de8c66ef8b47",
   "metadata": {},
   "outputs": [],
   "source": []
  },
  {
   "cell_type": "markdown",
   "id": "9745c739-01dd-45a1-83d3-69fbfa356f33",
   "metadata": {},
   "source": [
    "## Write analysis outputs"
   ]
  },
  {
   "cell_type": "code",
   "execution_count": null,
   "id": "a2d0c4f0-1f94-46d2-9198-c7c550fa960f",
   "metadata": {
    "tags": []
   },
   "outputs": [],
   "source": [
    "out_path <- \"output\"\n",
    "if (!dir.exists(out_path)) {\n",
    "    dir.create(out_path)\n",
    "}"
   ]
  },
  {
   "cell_type": "code",
   "execution_count": null,
   "id": "bd6f2c64-f56b-461e-95f9-c7df0e82b66e",
   "metadata": {},
   "outputs": [],
   "source": [
    "out_file <- paste0(out_path, \"/analysis_result_\", Sys.Date(), \".csv\")\n",
    "write.csv(result, out_file)"
   ]
  },
  {
   "cell_type": "markdown",
   "id": "1905d1f0-3c7b-48df-ad05-8c983700cd9b",
   "metadata": {},
   "source": [
    "## Upload results to HISE"
   ]
  },
  {
   "cell_type": "code",
   "execution_count": null,
   "id": "add2063b-0bd0-400d-a616-5c64c87aabd9",
   "metadata": {},
   "outputs": [],
   "source": [
    "study_space_uuid <- \"\"\n",
    "title <- paste0(\"CertPro Analysis Result \", Sys.Date())"
   ]
  },
  {
   "cell_type": "code",
   "execution_count": null,
   "id": "b92e1c62-2264-44ef-ae78-ff496449e480",
   "metadata": {},
   "outputs": [],
   "source": [
    "search_id <- ids::proquint(n_words = 3)\n",
    "search_id"
   ]
  },
  {
   "cell_type": "code",
   "execution_count": null,
   "id": "87798364-8d5b-4870-be22-3bbac84b42d8",
   "metadata": {},
   "outputs": [],
   "source": [
    "in_files <- list(file_uuid)\n",
    "in_files"
   ]
  },
  {
   "cell_type": "code",
   "execution_count": null,
   "id": "4da520a7-c2ae-4693-8748-fc21f637b66f",
   "metadata": {},
   "outputs": [],
   "source": [
    "out_files <- list(out_file)\n",
    "out_files"
   ]
  },
  {
   "cell_type": "code",
   "execution_count": null,
   "id": "9f3769fa-2a11-47bd-b3d8-b93e6b601dff",
   "metadata": {},
   "outputs": [],
   "source": [
    "uploadFiles(\n",
    "    studySpaceId = study_space_uuid,\n",
    "    title = title,\n",
    "    files = out_files,\n",
    "    inputFileIds = in_list,\n",
    "    store = \"project\",\n",
    "    destination = search_id\n",
    ")"
   ]
  },
  {
   "cell_type": "markdown",
   "id": "2cd2aeae-43d3-44f4-93cf-e9d25a0d16e2",
   "metadata": {},
   "source": [
    "## Session Info"
   ]
  },
  {
   "cell_type": "code",
   "execution_count": null,
   "id": "77b52b31-080f-4c39-9d25-5bec36b64cb4",
   "metadata": {},
   "outputs": [],
   "source": [
    "import session_info\n",
    "session_info.show()"
   ]
  },
  {
   "cell_type": "code",
   "execution_count": null,
   "id": "5a49b52c-4c56-44dc-b59e-c6da1e6284bc",
   "metadata": {},
   "outputs": [],
   "source": []
  },
  {
   "cell_type": "code",
   "execution_count": null,
   "id": "0f62f9c4-f0b1-4f31-ae45-189acd44e78c",
   "metadata": {},
   "outputs": [],
   "source": []
  }
 ],
 "metadata": {
  "kernelspec": {
   "display_name": "R 4",
   "language": "R",
   "name": "ir4"
  },
  "language_info": {
   "codemirror_mode": "r",
   "file_extension": ".r",
   "mimetype": "text/x-r-source",
   "name": "R",
   "pygments_lexer": "r",
   "version": "4.3.2"
  }
 },
 "nbformat": 4,
 "nbformat_minor": 5
}
