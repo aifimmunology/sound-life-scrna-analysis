{
 "cells": [
  {
   "cell_type": "markdown",
   "id": "495e47f1-1af5-434c-8f21-74f4f5975ebb",
   "metadata": {},
   "source": [
    "# Assemble pseudobulk data per sample\n",
    "\n",
    "To assist with downstream analysis processes, we'll split up our pseudobulk data per sample."
   ]
  },
  {
   "cell_type": "markdown",
   "id": "eb08ffe8-7fa3-45fa-9a9f-bdc02f8c467a",
   "metadata": {},
   "source": [
    "## Load libraries"
   ]
  },
  {
   "cell_type": "code",
   "execution_count": 1,
   "id": "9d2ae174-b4f1-4295-9fa9-962b5fba07fa",
   "metadata": {},
   "outputs": [],
   "source": [
    "quiet_library <- function(...) { suppressPackageStartupMessages(library(...)) }\n",
    "\n",
    "quiet_library(data.table)\n",
    "quiet_library(dplyr)\n",
    "quiet_library(hise)\n",
    "quiet_library(purrr)\n",
    "quiet_library(furrr)"
   ]
  },
  {
   "cell_type": "code",
   "execution_count": 2,
   "id": "3ea73dcf-6a09-4d87-af91-63b217399b88",
   "metadata": {},
   "outputs": [],
   "source": [
    "if(!dir.exists(\"output\")) {\n",
    "    dir.create(\"output\")\n",
    "}"
   ]
  },
  {
   "cell_type": "markdown",
   "id": "484dbee0-005b-460f-b420-d2ad01c3b1d1",
   "metadata": {},
   "source": [
    "## Retrieve pseudobulk data"
   ]
  },
  {
   "cell_type": "code",
   "execution_count": 3,
   "id": "6b95fc50-55ed-4a16-8bc9-7e26211cb1c8",
   "metadata": {},
   "outputs": [],
   "source": [
    "pb_uuid <- \"f0d841f9-1526-4189-af21-c4a9db1800fc\"\n",
    "res <- cacheFiles(list(pb_uuid))"
   ]
  },
  {
   "cell_type": "code",
   "execution_count": 4,
   "id": "bc46cdff-ccb9-4ea5-b684-747c02f5df88",
   "metadata": {},
   "outputs": [],
   "source": [
    "pb_file <- list.files(paste0(\"cache/\",pb_uuid), full.names = TRUE)\n",
    "pb_data <- readRDS(pb_file)"
   ]
  },
  {
   "cell_type": "markdown",
   "id": "210850e6-b76f-44a4-9505-eb7d776d9938",
   "metadata": {},
   "source": [
    "## Split metadata by specimen"
   ]
  },
  {
   "cell_type": "code",
   "execution_count": 5,
   "id": "7adbc89d-f0da-4d81-ba81-935d0142b3ef",
   "metadata": {},
   "outputs": [],
   "source": [
    "meta <- pb_data$sample_meta\n",
    "split_meta <- split(meta, meta$specimen.specimenGuid)"
   ]
  },
  {
   "cell_type": "markdown",
   "id": "37c283c5-0046-4a3a-9c44-a171d4b8d72e",
   "metadata": {},
   "source": [
    "## Split Sums of count values"
   ]
  },
  {
   "cell_type": "code",
   "execution_count": 6,
   "id": "bf6b6d4d-fdf9-41c5-91f3-210a411b1c2c",
   "metadata": {},
   "outputs": [],
   "source": [
    "if(!dir.exists(\"sample_pseudobulk_sum\")) {\n",
    "    dir.create(\"sample_pseudobulk_sum\")\n",
    "}"
   ]
  },
  {
   "cell_type": "code",
   "execution_count": 7,
   "id": "09fbd363-a71a-4275-8430-cba8c826a0f2",
   "metadata": {},
   "outputs": [],
   "source": [
    "split_agg <- map(\n",
    "    split_meta,\n",
    "    function(meta) {\n",
    "        mat <- pb_data$agg_mat[,meta$barcodes]\n",
    "        df <- as.data.frame(mat)\n",
    "        df$gene <- rownames(mat)\n",
    "        select(df, gene, everything())\n",
    "    }\n",
    ")"
   ]
  },
  {
   "cell_type": "code",
   "execution_count": 8,
   "id": "a35c0cf4-0625-43b0-9a8b-c89d9670fe8c",
   "metadata": {},
   "outputs": [],
   "source": [
    "walk2(\n",
    "    split_agg, names(split_agg),\n",
    "    function(df, specimen_id) {\n",
    "        out_file <- paste0(\n",
    "            \"sample_pseudobulk_sum/\", \n",
    "            specimen_id,\n",
    "            \".csv\")\n",
    "        fwrite(df, out_file)\n",
    "    }\n",
    ")"
   ]
  },
  {
   "cell_type": "markdown",
   "id": "b1fc4b03-e86f-4883-bffa-b8e7649365fe",
   "metadata": {},
   "source": [
    "### Assemble .tar for sums"
   ]
  },
  {
   "cell_type": "code",
   "execution_count": 9,
   "id": "af18e045-95ca-4930-8ab6-a8b92178ad6f",
   "metadata": {},
   "outputs": [],
   "source": [
    "sum_tar_file <- paste0(\"output/diha_pseudobulk_sum_per_sample_\", Sys.Date(), \".tar\")\n",
    "tar_call <- paste(\"tar -cf\", sum_tar_file, \"sample_pseudobulk_sum/*\")\n",
    "system(tar_call)"
   ]
  },
  {
   "cell_type": "markdown",
   "id": "e1708fcb-5311-4be1-974b-cf7d19cd2cf7",
   "metadata": {},
   "source": [
    "## Split Mean values"
   ]
  },
  {
   "cell_type": "code",
   "execution_count": 10,
   "id": "0ffe6537-fde7-450b-ac88-c10e7dfbbc6f",
   "metadata": {},
   "outputs": [],
   "source": [
    "if(!dir.exists(\"sample_pseudobulk_mean\")) {\n",
    "    dir.create(\"sample_pseudobulk_mean\")\n",
    "}"
   ]
  },
  {
   "cell_type": "code",
   "execution_count": 11,
   "id": "5adc9d62-1983-4b93-bb91-8aae6698b439",
   "metadata": {},
   "outputs": [],
   "source": [
    "split_mean <- map(\n",
    "    split_meta,\n",
    "    function(meta) {\n",
    "        mat <- pb_data$mean_mat[,meta$barcodes]\n",
    "        df <- as.data.frame(mat)\n",
    "        df$gene <- rownames(mat)\n",
    "        select(df, gene, everything())\n",
    "    }\n",
    ")"
   ]
  },
  {
   "cell_type": "code",
   "execution_count": 12,
   "id": "701f06b3-517d-48de-af05-4f26953ae521",
   "metadata": {},
   "outputs": [],
   "source": [
    "walk2(\n",
    "    split_mean, names(split_mean),\n",
    "    function(df, specimen_id) {\n",
    "        out_file <- paste0(\n",
    "            \"sample_pseudobulk_mean/\", \n",
    "            specimen_id,\n",
    "            \".csv\")\n",
    "        fwrite(df, out_file)\n",
    "    }\n",
    ")"
   ]
  },
  {
   "cell_type": "markdown",
   "id": "6aaab0ff-ba52-4fc7-a6fd-73c743a81c27",
   "metadata": {},
   "source": [
    "### Assemble .tar for means"
   ]
  },
  {
   "cell_type": "code",
   "execution_count": 13,
   "id": "7927c8e3-6ccf-4f4f-972b-ff00586d7d0e",
   "metadata": {},
   "outputs": [],
   "source": [
    "mean_tar_file <- paste0(\"output/diha_pseudobulk_mean_per_sample_\", Sys.Date(), \".tar\")\n",
    "tar_call <- paste(\"tar -cf\", mean_tar_file, \"sample_pseudobulk_mean/*\")\n",
    "system(tar_call)"
   ]
  },
  {
   "cell_type": "markdown",
   "id": "f07c002e-f82b-404d-bebb-d6aa2ee96814",
   "metadata": {},
   "source": [
    "## Split Detection values"
   ]
  },
  {
   "cell_type": "code",
   "execution_count": 14,
   "id": "19ab1156-5e4a-42da-bb38-b2d44af117e5",
   "metadata": {},
   "outputs": [],
   "source": [
    "if(!dir.exists(\"sample_pseudobulk_detect\")) {\n",
    "    dir.create(\"sample_pseudobulk_detect\")\n",
    "}"
   ]
  },
  {
   "cell_type": "code",
   "execution_count": 15,
   "id": "01f85434-ee90-447e-957a-c5a1ebd6a102",
   "metadata": {},
   "outputs": [],
   "source": [
    "split_detect <- map(\n",
    "    split_meta,\n",
    "    function(meta) {\n",
    "        mat <- pb_data$detect_mat[,meta$barcodes]\n",
    "        df <- as.data.frame(mat)\n",
    "        df$gene <- rownames(mat)\n",
    "        select(df, gene, everything())\n",
    "    }\n",
    ")"
   ]
  },
  {
   "cell_type": "code",
   "execution_count": 16,
   "id": "6f14ba1c-fdf7-4ee9-9c9a-eff94161c84e",
   "metadata": {},
   "outputs": [],
   "source": [
    "walk2(\n",
    "    split_detect, names(split_detect),\n",
    "    function(df, specimen_id) {\n",
    "        out_file <- paste0(\n",
    "            \"sample_pseudobulk_detect/\", \n",
    "            specimen_id,\n",
    "            \".csv\")\n",
    "        fwrite(df, out_file)\n",
    "    }\n",
    ")"
   ]
  },
  {
   "cell_type": "markdown",
   "id": "7a85c440-b1b2-4d4d-bcfe-00b0719c17dd",
   "metadata": {},
   "source": [
    "### Assemble .tar for detection"
   ]
  },
  {
   "cell_type": "code",
   "execution_count": 17,
   "id": "7f282bc2-091a-4e87-a051-11e405f2ea3c",
   "metadata": {},
   "outputs": [],
   "source": [
    "detect_tar_file <- paste0(\"output/diha_pseudobulk_detect_per_sample_\", Sys.Date(), \".tar\")\n",
    "tar_call <- paste(\"tar -cf\", detect_tar_file, \"sample_pseudobulk_detect/*\")\n",
    "system(tar_call)"
   ]
  },
  {
   "cell_type": "code",
   "execution_count": 18,
   "id": "c6dedeb2-1d1e-441d-9fee-854e50f59fc1",
   "metadata": {},
   "outputs": [],
   "source": [
    "out_files <- c(sum_tar_file, mean_tar_file, detect_tar_file)"
   ]
  },
  {
   "cell_type": "markdown",
   "id": "cdcf05fd-d0c0-4f94-a618-07b2c74ec6c3",
   "metadata": {},
   "source": [
    "## Upload results to HISE"
   ]
  },
  {
   "cell_type": "code",
   "execution_count": 19,
   "id": "aa072d15-70d3-4889-93be-4d2ec7d41fc1",
   "metadata": {
    "tags": []
   },
   "outputs": [],
   "source": [
    "study_space_uuid <- \"de025812-5e73-4b3c-9c3b-6d0eac412f2a\"\n",
    "title <- paste(\"DIHA scRNA L3 Pseudobulk per Sample\", Sys.Date())"
   ]
  },
  {
   "cell_type": "code",
   "execution_count": 20,
   "id": "a9b8d185-597e-479f-b841-33b5db75cfe4",
   "metadata": {},
   "outputs": [
    {
     "data": {
      "text/html": [
       "'jonap-binir-gikup'"
      ],
      "text/latex": [
       "'jonap-binir-gikup'"
      ],
      "text/markdown": [
       "'jonap-binir-gikup'"
      ],
      "text/plain": [
       "[1] \"jonap-binir-gikup\""
      ]
     },
     "metadata": {},
     "output_type": "display_data"
    }
   ],
   "source": [
    "search_id <- ids::proquint(n_words = 3)\n",
    "search_id"
   ]
  },
  {
   "cell_type": "code",
   "execution_count": 21,
   "id": "e3ac447f-c875-42ef-99ca-b0fd4fb77b55",
   "metadata": {
    "tags": []
   },
   "outputs": [
    {
     "data": {
      "text/html": [
       "<ol>\n",
       "\t<li>'f0d841f9-1526-4189-af21-c4a9db1800fc'</li>\n",
       "</ol>\n"
      ],
      "text/latex": [
       "\\begin{enumerate}\n",
       "\\item 'f0d841f9-1526-4189-af21-c4a9db1800fc'\n",
       "\\end{enumerate}\n"
      ],
      "text/markdown": [
       "1. 'f0d841f9-1526-4189-af21-c4a9db1800fc'\n",
       "\n",
       "\n"
      ],
      "text/plain": [
       "[[1]]\n",
       "[1] \"f0d841f9-1526-4189-af21-c4a9db1800fc\"\n"
      ]
     },
     "metadata": {},
     "output_type": "display_data"
    }
   ],
   "source": [
    "in_list <- as.list(pb_uuid)\n",
    "in_list"
   ]
  },
  {
   "cell_type": "code",
   "execution_count": 22,
   "id": "9018ff0f-bd25-48bb-975f-cb90c06c83c2",
   "metadata": {
    "tags": []
   },
   "outputs": [
    {
     "data": {
      "text/html": [
       "<ol>\n",
       "\t<li>'output/diha_pseudobulk_sum_per_sample_2024-05-06.tar'</li>\n",
       "\t<li>'output/diha_pseudobulk_mean_per_sample_2024-05-06.tar'</li>\n",
       "\t<li>'output/diha_pseudobulk_detect_per_sample_2024-05-06.tar'</li>\n",
       "</ol>\n"
      ],
      "text/latex": [
       "\\begin{enumerate}\n",
       "\\item 'output/diha\\_pseudobulk\\_sum\\_per\\_sample\\_2024-05-06.tar'\n",
       "\\item 'output/diha\\_pseudobulk\\_mean\\_per\\_sample\\_2024-05-06.tar'\n",
       "\\item 'output/diha\\_pseudobulk\\_detect\\_per\\_sample\\_2024-05-06.tar'\n",
       "\\end{enumerate}\n"
      ],
      "text/markdown": [
       "1. 'output/diha_pseudobulk_sum_per_sample_2024-05-06.tar'\n",
       "2. 'output/diha_pseudobulk_mean_per_sample_2024-05-06.tar'\n",
       "3. 'output/diha_pseudobulk_detect_per_sample_2024-05-06.tar'\n",
       "\n",
       "\n"
      ],
      "text/plain": [
       "[[1]]\n",
       "[1] \"output/diha_pseudobulk_sum_per_sample_2024-05-06.tar\"\n",
       "\n",
       "[[2]]\n",
       "[1] \"output/diha_pseudobulk_mean_per_sample_2024-05-06.tar\"\n",
       "\n",
       "[[3]]\n",
       "[1] \"output/diha_pseudobulk_detect_per_sample_2024-05-06.tar\"\n"
      ]
     },
     "metadata": {},
     "output_type": "display_data"
    }
   ],
   "source": [
    "out_list <- as.list(out_files)\n",
    "out_list"
   ]
  },
  {
   "cell_type": "code",
   "execution_count": 23,
   "id": "0ddff6fe-f440-4d79-8315-7f0f5efc9b2f",
   "metadata": {
    "scrolled": true,
    "tags": []
   },
   "outputs": [
    {
     "name": "stderr",
     "output_type": "stream",
     "text": [
      "You are trying to upload the following files:  output/diha_pseudobulk_sum_per_sample_2024-05-06.tar output/diha_pseudobulk_mean_per_sample_2024-05-06.tar output/diha_pseudobulk_detect_per_sample_2024-05-06.tar\n",
      "\n"
     ]
    },
    {
     "name": "stdin",
     "output_type": "stream",
     "text": [
      "(y/n) y\n"
     ]
    },
    {
     "data": {
      "text/html": [
       "<dl>\n",
       "\t<dt>$files</dt>\n",
       "\t\t<dd><ol>\n",
       "\t<li>'output/diha_pseudobulk_sum_per_sample_2024-05-06.tar'</li>\n",
       "\t<li>'output/diha_pseudobulk_mean_per_sample_2024-05-06.tar'</li>\n",
       "\t<li>'output/diha_pseudobulk_detect_per_sample_2024-05-06.tar'</li>\n",
       "</ol>\n",
       "</dd>\n",
       "\t<dt>$traceId</dt>\n",
       "\t\t<dd>'bd5335be-7690-4a7d-a034-3d12b5fe03a9'</dd>\n",
       "</dl>\n"
      ],
      "text/latex": [
       "\\begin{description}\n",
       "\\item[\\$files] \\begin{enumerate}\n",
       "\\item 'output/diha\\_pseudobulk\\_sum\\_per\\_sample\\_2024-05-06.tar'\n",
       "\\item 'output/diha\\_pseudobulk\\_mean\\_per\\_sample\\_2024-05-06.tar'\n",
       "\\item 'output/diha\\_pseudobulk\\_detect\\_per\\_sample\\_2024-05-06.tar'\n",
       "\\end{enumerate}\n",
       "\n",
       "\\item[\\$traceId] 'bd5335be-7690-4a7d-a034-3d12b5fe03a9'\n",
       "\\end{description}\n"
      ],
      "text/markdown": [
       "$files\n",
       ":   1. 'output/diha_pseudobulk_sum_per_sample_2024-05-06.tar'\n",
       "2. 'output/diha_pseudobulk_mean_per_sample_2024-05-06.tar'\n",
       "3. 'output/diha_pseudobulk_detect_per_sample_2024-05-06.tar'\n",
       "\n",
       "\n",
       "\n",
       "$traceId\n",
       ":   'bd5335be-7690-4a7d-a034-3d12b5fe03a9'\n",
       "\n",
       "\n"
      ],
      "text/plain": [
       "$files\n",
       "$files[[1]]\n",
       "[1] \"output/diha_pseudobulk_sum_per_sample_2024-05-06.tar\"\n",
       "\n",
       "$files[[2]]\n",
       "[1] \"output/diha_pseudobulk_mean_per_sample_2024-05-06.tar\"\n",
       "\n",
       "$files[[3]]\n",
       "[1] \"output/diha_pseudobulk_detect_per_sample_2024-05-06.tar\"\n",
       "\n",
       "\n",
       "$traceId\n",
       "[1] \"bd5335be-7690-4a7d-a034-3d12b5fe03a9\"\n"
      ]
     },
     "metadata": {},
     "output_type": "display_data"
    }
   ],
   "source": [
    "uploadFiles(\n",
    "    files = out_list,\n",
    "    studySpaceId = study_space_uuid,\n",
    "    title = title,\n",
    "    inputFileIds = in_list,\n",
    "    store = \"project\",\n",
    "    destination = search_id\n",
    ")"
   ]
  },
  {
   "cell_type": "code",
   "execution_count": 24,
   "id": "d5a1c068-4ca7-47c0-afc4-dfdfeade7a37",
   "metadata": {
    "scrolled": true
   },
   "outputs": [
    {
     "data": {
      "text/plain": [
       "R version 4.3.2 (2023-10-31)\n",
       "Platform: x86_64-conda-linux-gnu (64-bit)\n",
       "Running under: Ubuntu 20.04.6 LTS\n",
       "\n",
       "Matrix products: default\n",
       "BLAS/LAPACK: /opt/conda/lib/libopenblasp-r0.3.25.so;  LAPACK version 3.11.0\n",
       "\n",
       "locale:\n",
       " [1] LC_CTYPE=C.UTF-8       LC_NUMERIC=C           LC_TIME=C.UTF-8       \n",
       " [4] LC_COLLATE=C.UTF-8     LC_MONETARY=C.UTF-8    LC_MESSAGES=C.UTF-8   \n",
       " [7] LC_PAPER=C.UTF-8       LC_NAME=C              LC_ADDRESS=C          \n",
       "[10] LC_TELEPHONE=C         LC_MEASUREMENT=C.UTF-8 LC_IDENTIFICATION=C   \n",
       "\n",
       "time zone: Etc/UTC\n",
       "tzcode source: system (glibc)\n",
       "\n",
       "attached base packages:\n",
       "[1] stats     graphics  grDevices utils     datasets  methods   base     \n",
       "\n",
       "other attached packages:\n",
       "[1] furrr_0.3.1       future_1.33.1     purrr_1.0.2       hise_2.16.0      \n",
       "[5] dplyr_1.1.4       data.table_1.15.4\n",
       "\n",
       "loaded via a namespace (and not attached):\n",
       " [1] jsonlite_1.8.8    compiler_4.3.2    crayon_1.5.2      tidyselect_1.2.0 \n",
       " [5] IRdisplay_1.1     stringr_1.5.1     bitops_1.0-7      parallel_4.3.2   \n",
       " [9] assertthat_0.2.1  globals_0.16.2    uuid_1.2-0        fastmap_1.1.1    \n",
       "[13] IRkernel_1.3.2    R6_2.5.1          generics_0.1.3    curl_5.1.0       \n",
       "[17] tibble_3.2.1      pillar_1.9.0      rlang_1.1.3       utf8_1.2.4       \n",
       "[21] stringi_1.8.3     repr_1.1.7        cli_3.6.2         withr_3.0.0      \n",
       "[25] magrittr_2.0.3    digest_0.6.35     base64enc_0.1-3   pbdZMQ_0.3-10    \n",
       "[29] lifecycle_1.0.4   vctrs_0.6.5       evaluate_0.23     glue_1.7.0       \n",
       "[33] listenv_0.9.0     ids_1.0.1         codetools_0.2-19  RCurl_1.98-1.14  \n",
       "[37] parallelly_1.36.0 fansi_1.0.6       httr_1.4.7        tools_4.3.2      \n",
       "[41] pkgconfig_2.0.3   htmltools_0.5.8  "
      ]
     },
     "metadata": {},
     "output_type": "display_data"
    }
   ],
   "source": [
    "sessionInfo()"
   ]
  },
  {
   "cell_type": "code",
   "execution_count": null,
   "id": "fc277661-a045-4b89-8ee0-88bea86c69de",
   "metadata": {},
   "outputs": [],
   "source": []
  },
  {
   "cell_type": "code",
   "execution_count": null,
   "id": "bb23cb25-d7d9-4444-a0f0-72f8270c6c90",
   "metadata": {},
   "outputs": [],
   "source": []
  }
 ],
 "metadata": {
  "kernelspec": {
   "display_name": "R 4",
   "language": "R",
   "name": "ir4"
  },
  "language_info": {
   "codemirror_mode": "r",
   "file_extension": ".r",
   "mimetype": "text/x-r-source",
   "name": "R",
   "pygments_lexer": "r",
   "version": "4.3.2"
  }
 },
 "nbformat": 4,
 "nbformat_minor": 5
}
