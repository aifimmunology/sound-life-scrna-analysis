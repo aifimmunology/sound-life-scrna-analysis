{
 "cells": [
  {
   "cell_type": "markdown",
   "id": "3506a1d2-efb8-46cb-9856-14c68b609ed4",
   "metadata": {},
   "source": [
    "## Install dependencies\n",
    "If BPCells isn't installed, install it from Github"
   ]
  },
  {
   "cell_type": "code",
   "execution_count": 1,
   "id": "0a4377a9-9cc0-40aa-bbbf-f6cafeb64f68",
   "metadata": {},
   "outputs": [],
   "source": [
    "if(! \"BPCells\" %in% rownames(installed.packages())) {\n",
    "    devtools::install_github(\"bnprks/BPCells\", upgrade = \"never\", quiet = TRUE)\n",
    "}"
   ]
  },
  {
   "cell_type": "markdown",
   "id": "be772771-054b-44d5-ab4e-847992ba488a",
   "metadata": {},
   "source": [
    "## Load packages"
   ]
  },
  {
   "cell_type": "code",
   "execution_count": 2,
   "id": "a2075a56-7c67-482d-84c4-6bb4d72f9f67",
   "metadata": {},
   "outputs": [],
   "source": [
    "quiet_library <- function(...) { suppressPackageStartupMessages(library(...)) }\n",
    "quiet_library(BPCells)\n",
    "quiet_library(dplyr)\n",
    "quiet_library(furrr)\n",
    "quiet_library(hise)\n",
    "quiet_library(purrr)\n",
    "quiet_library(H5weaver)"
   ]
  },
  {
   "cell_type": "code",
   "execution_count": 3,
   "id": "7ee169f5-f59d-436d-96cd-31ce3965ecb1",
   "metadata": {},
   "outputs": [],
   "source": [
    "if(!dir.exists(\"output\")) {\n",
    "    dir.create(\"output\")\n",
    "}"
   ]
  },
  {
   "cell_type": "code",
   "execution_count": 4,
   "id": "6b0064c2-9144-41f0-828f-a015b1ee2b48",
   "metadata": {},
   "outputs": [],
   "source": [
    "plan(\"multicore\", workers = 32)"
   ]
  },
  {
   "cell_type": "markdown",
   "id": "d6551ea3-b736-4620-a450-cc67177edfa5",
   "metadata": {},
   "source": [
    "## Helper functions"
   ]
  },
  {
   "cell_type": "code",
   "execution_count": 5,
   "id": "0bd7a15c-90e7-42d6-8a18-4709fcc73031",
   "metadata": {},
   "outputs": [],
   "source": [
    "read_h5ad_cell_meta <- function(h5ad_file) \n",
    "{\n",
    "    h5ad_contents <- H5weaver::h5ls(h5ad_file)\n",
    "    obs_locs <- h5ad_contents$full_name[h5ad_contents$group == \"/obs\"]\n",
    "    obs_locs <- obs_locs[!obs_locs %in% c(\"/obs/__categories\", \"/obs/_index\")]\n",
    "    obs_locs <- obs_locs[!grepl(\"Unnamed\", obs_locs)]\n",
    "\n",
    "    h5ad <- H5Fopen(h5ad_file)\n",
    "\n",
    "    obs_list <- lapply(obs_locs, function(loc) {h5read(h5ad, loc)})\n",
    "\n",
    "    obs_list <- lapply(\n",
    "        obs_list,\n",
    "        function(obs) {\n",
    "            if(length(obs) == 2) {\n",
    "                vals <- vector(length = length(obs$codes))\n",
    "                vals[obs$codes >= 0] <- as.vector(obs$categories)[as.vector(obs$codes + 1)]\n",
    "                vals[obs$codes == -1] <- NA\n",
    "            } else {\n",
    "                vals <- as.vector(obs)\n",
    "            }\n",
    "\n",
    "            vals\n",
    "        }\n",
    "    )\n",
    "\n",
    "    obs_list <- lapply(obs_list, as.vector)\n",
    "    names(obs_list) <- sub(\".+/\", \"\", obs_locs)\n",
    "\n",
    "    H5Fclose(h5ad)\n",
    "    as.data.frame(obs_list)\n",
    "}"
   ]
  },
  {
   "cell_type": "markdown",
   "id": "e46b056a-b7a5-4626-b80e-c56175ac6a98",
   "metadata": {},
   "source": [
    "## Retrieve data from HISE"
   ]
  },
  {
   "cell_type": "code",
   "execution_count": 6,
   "id": "ad0c19e9-4291-49d9-a792-52f1c25bed14",
   "metadata": {},
   "outputs": [],
   "source": [
    "cache_uuid_path <- function(uuid) {\n",
    "    cache_path <- paste0(\"cache/\", uuid)\n",
    "    if(!dir.exists(cache_path)) {\n",
    "        cacheFiles(list(uuid))\n",
    "    }\n",
    "    list.files(cache_path, full.names = TRUE)[1]\n",
    "}"
   ]
  },
  {
   "cell_type": "markdown",
   "id": "f310e983-45cd-41c2-b250-225c732447ff",
   "metadata": {},
   "source": [
    "### Sample metadata"
   ]
  },
  {
   "cell_type": "code",
   "execution_count": 7,
   "id": "f522a788-b0e4-4589-8359-f45eb70425e2",
   "metadata": {},
   "outputs": [],
   "source": [
    "meta_uuid <- \"d82c5c42-ae5f-4e67-956e-cd3b7bf88105\""
   ]
  },
  {
   "cell_type": "code",
   "execution_count": 8,
   "id": "d349b27b-61cc-4885-98d3-183825baa58b",
   "metadata": {},
   "outputs": [],
   "source": [
    "meta_file <- cache_uuid_path(meta_uuid)"
   ]
  },
  {
   "cell_type": "code",
   "execution_count": 9,
   "id": "3f627839-f94b-4c86-abb0-31119578cb77",
   "metadata": {},
   "outputs": [],
   "source": [
    "sample_meta <- read.csv(meta_file)"
   ]
  },
  {
   "cell_type": "markdown",
   "id": "27f6a0d7-57b2-4875-826b-9b6c7565f539",
   "metadata": {},
   "source": [
    "### Sample data"
   ]
  },
  {
   "cell_type": "code",
   "execution_count": 10,
   "id": "4bcd175c-3ddb-42ca-bf16-dd75f261339c",
   "metadata": {},
   "outputs": [],
   "source": [
    "search_id <- \"cerium-cerium-chromium\"\n",
    "ps_list <- listFilesInProjectStores(list(\"cohorts\"))\n",
    "ps_df <- map(ps_list[[2]], function(l) { data.frame(id = l$id, name = l$name) }) %>%\n",
    "  list_rbind()"
   ]
  },
  {
   "cell_type": "code",
   "execution_count": 11,
   "id": "270b9d7e-f67f-449d-a134-763bb8f5aad7",
   "metadata": {},
   "outputs": [],
   "source": [
    "tar_file_df <- ps_df %>%\n",
    "  filter(grepl(search_id, name)) %>%\n",
    "  filter(grepl(\".tar$\", name))"
   ]
  },
  {
   "cell_type": "code",
   "execution_count": 12,
   "id": "074c89ab-6603-413f-bd80-6b0ec97d2b59",
   "metadata": {},
   "outputs": [
    {
     "data": {
      "text/html": [
       "<table class=\"dataframe\">\n",
       "<caption>A data.frame: 8 × 2</caption>\n",
       "<thead>\n",
       "\t<tr><th scope=col>id</th><th scope=col>name</th></tr>\n",
       "\t<tr><th scope=col>&lt;chr&gt;</th><th scope=col>&lt;chr&gt;</th></tr>\n",
       "</thead>\n",
       "<tbody>\n",
       "\t<tr><td>a2102174-1ad8-422e-829e-1d30a4d0b34f</td><td>cerium-cerium-chromium/diha_BR1_Female_Negative_h5ads_2024-04-25.tar</td></tr>\n",
       "\t<tr><td>75a5e2f2-55be-47cb-87f8-dc7d127f409c</td><td>cerium-cerium-chromium/diha_BR1_Female_Positive_h5ads_2024-04-25.tar</td></tr>\n",
       "\t<tr><td>ec826f03-e24e-4a61-bed5-1a0ad923bd3e</td><td>cerium-cerium-chromium/diha_BR1_Male_Negative_h5ads_2024-04-25.tar  </td></tr>\n",
       "\t<tr><td>98ebd57f-d498-4426-9866-fdff89bfcca8</td><td>cerium-cerium-chromium/diha_BR1_Male_Positive_h5ads_2024-04-25.tar  </td></tr>\n",
       "\t<tr><td>03c43cf1-fa52-49f5-b64c-2a7faf723972</td><td>cerium-cerium-chromium/diha_BR2_Female_Negative_h5ads_2024-04-25.tar</td></tr>\n",
       "\t<tr><td>7844526c-65ce-48b3-8e30-e39948e8389d</td><td>cerium-cerium-chromium/diha_BR2_Female_Positive_h5ads_2024-04-25.tar</td></tr>\n",
       "\t<tr><td>162925c8-3619-4d31-a633-5dde2728159c</td><td>cerium-cerium-chromium/diha_BR2_Male_Negative_h5ads_2024-04-25.tar  </td></tr>\n",
       "\t<tr><td>e2f8a806-bf5b-4801-bee0-15be6a670830</td><td>cerium-cerium-chromium/diha_BR2_Male_Positive_h5ads_2024-04-25.tar  </td></tr>\n",
       "</tbody>\n",
       "</table>\n"
      ],
      "text/latex": [
       "A data.frame: 8 × 2\n",
       "\\begin{tabular}{ll}\n",
       " id & name\\\\\n",
       " <chr> & <chr>\\\\\n",
       "\\hline\n",
       "\t a2102174-1ad8-422e-829e-1d30a4d0b34f & cerium-cerium-chromium/diha\\_BR1\\_Female\\_Negative\\_h5ads\\_2024-04-25.tar\\\\\n",
       "\t 75a5e2f2-55be-47cb-87f8-dc7d127f409c & cerium-cerium-chromium/diha\\_BR1\\_Female\\_Positive\\_h5ads\\_2024-04-25.tar\\\\\n",
       "\t ec826f03-e24e-4a61-bed5-1a0ad923bd3e & cerium-cerium-chromium/diha\\_BR1\\_Male\\_Negative\\_h5ads\\_2024-04-25.tar  \\\\\n",
       "\t 98ebd57f-d498-4426-9866-fdff89bfcca8 & cerium-cerium-chromium/diha\\_BR1\\_Male\\_Positive\\_h5ads\\_2024-04-25.tar  \\\\\n",
       "\t 03c43cf1-fa52-49f5-b64c-2a7faf723972 & cerium-cerium-chromium/diha\\_BR2\\_Female\\_Negative\\_h5ads\\_2024-04-25.tar\\\\\n",
       "\t 7844526c-65ce-48b3-8e30-e39948e8389d & cerium-cerium-chromium/diha\\_BR2\\_Female\\_Positive\\_h5ads\\_2024-04-25.tar\\\\\n",
       "\t 162925c8-3619-4d31-a633-5dde2728159c & cerium-cerium-chromium/diha\\_BR2\\_Male\\_Negative\\_h5ads\\_2024-04-25.tar  \\\\\n",
       "\t e2f8a806-bf5b-4801-bee0-15be6a670830 & cerium-cerium-chromium/diha\\_BR2\\_Male\\_Positive\\_h5ads\\_2024-04-25.tar  \\\\\n",
       "\\end{tabular}\n"
      ],
      "text/markdown": [
       "\n",
       "A data.frame: 8 × 2\n",
       "\n",
       "| id &lt;chr&gt; | name &lt;chr&gt; |\n",
       "|---|---|\n",
       "| a2102174-1ad8-422e-829e-1d30a4d0b34f | cerium-cerium-chromium/diha_BR1_Female_Negative_h5ads_2024-04-25.tar |\n",
       "| 75a5e2f2-55be-47cb-87f8-dc7d127f409c | cerium-cerium-chromium/diha_BR1_Female_Positive_h5ads_2024-04-25.tar |\n",
       "| ec826f03-e24e-4a61-bed5-1a0ad923bd3e | cerium-cerium-chromium/diha_BR1_Male_Negative_h5ads_2024-04-25.tar   |\n",
       "| 98ebd57f-d498-4426-9866-fdff89bfcca8 | cerium-cerium-chromium/diha_BR1_Male_Positive_h5ads_2024-04-25.tar   |\n",
       "| 03c43cf1-fa52-49f5-b64c-2a7faf723972 | cerium-cerium-chromium/diha_BR2_Female_Negative_h5ads_2024-04-25.tar |\n",
       "| 7844526c-65ce-48b3-8e30-e39948e8389d | cerium-cerium-chromium/diha_BR2_Female_Positive_h5ads_2024-04-25.tar |\n",
       "| 162925c8-3619-4d31-a633-5dde2728159c | cerium-cerium-chromium/diha_BR2_Male_Negative_h5ads_2024-04-25.tar   |\n",
       "| e2f8a806-bf5b-4801-bee0-15be6a670830 | cerium-cerium-chromium/diha_BR2_Male_Positive_h5ads_2024-04-25.tar   |\n",
       "\n"
      ],
      "text/plain": [
       "  id                                  \n",
       "1 a2102174-1ad8-422e-829e-1d30a4d0b34f\n",
       "2 75a5e2f2-55be-47cb-87f8-dc7d127f409c\n",
       "3 ec826f03-e24e-4a61-bed5-1a0ad923bd3e\n",
       "4 98ebd57f-d498-4426-9866-fdff89bfcca8\n",
       "5 03c43cf1-fa52-49f5-b64c-2a7faf723972\n",
       "6 7844526c-65ce-48b3-8e30-e39948e8389d\n",
       "7 162925c8-3619-4d31-a633-5dde2728159c\n",
       "8 e2f8a806-bf5b-4801-bee0-15be6a670830\n",
       "  name                                                                \n",
       "1 cerium-cerium-chromium/diha_BR1_Female_Negative_h5ads_2024-04-25.tar\n",
       "2 cerium-cerium-chromium/diha_BR1_Female_Positive_h5ads_2024-04-25.tar\n",
       "3 cerium-cerium-chromium/diha_BR1_Male_Negative_h5ads_2024-04-25.tar  \n",
       "4 cerium-cerium-chromium/diha_BR1_Male_Positive_h5ads_2024-04-25.tar  \n",
       "5 cerium-cerium-chromium/diha_BR2_Female_Negative_h5ads_2024-04-25.tar\n",
       "6 cerium-cerium-chromium/diha_BR2_Female_Positive_h5ads_2024-04-25.tar\n",
       "7 cerium-cerium-chromium/diha_BR2_Male_Negative_h5ads_2024-04-25.tar  \n",
       "8 cerium-cerium-chromium/diha_BR2_Male_Positive_h5ads_2024-04-25.tar  "
      ]
     },
     "metadata": {},
     "output_type": "display_data"
    }
   ],
   "source": [
    "tar_file_df"
   ]
  },
  {
   "cell_type": "markdown",
   "id": "377a4b75-9f99-4e22-ba6f-c344bead52a8",
   "metadata": {},
   "source": [
    "### Cache and unpack sample files"
   ]
  },
  {
   "cell_type": "code",
   "execution_count": 13,
   "id": "7c536f38-b732-40e7-b809-bf557a00498b",
   "metadata": {},
   "outputs": [],
   "source": [
    "if(!dir.exists(\"sample_h5ad\")) {\n",
    "    tar_files <- map_chr(tar_file_df$id, )\n",
    "    \n",
    "    walk(\n",
    "        tar_file_df$id,\n",
    "        function(uuid) {\n",
    "            tar_file <- cache_uuid_path(uuid)\n",
    "            untar_call <- paste(\"tar -xf\", tar_file)\n",
    "            system(untar_call)\n",
    "            \n",
    "            rm_call <- paste0(\"rm -r cache/\",uuid)\n",
    "            system(rm_call)\n",
    "    })\n",
    "}"
   ]
  },
  {
   "cell_type": "code",
   "execution_count": 14,
   "id": "f90dbfe4-cd32-4d8d-852e-2a95ca5fcd0e",
   "metadata": {},
   "outputs": [],
   "source": [
    "sample_files <- list.files(\"sample_h5ad\", full.names = TRUE)\n",
    "h5ad_df <- data.frame(h5ad_path = sample_files) %>%\n",
    "  mutate(pbmc_sample_id = sub(\"_.+\", \"\", basename(h5ad_path)))"
   ]
  },
  {
   "cell_type": "markdown",
   "id": "f36963d5-8d89-402d-a181-c98ed921c73d",
   "metadata": {},
   "source": [
    "### Assemble BPCells subsets\n",
    "\n",
    "To generate a sketched atlas of cells, we'll start by subsetting the data into sets of samples that we can manipulate fairly easily.\n",
    "\n",
    "We can do this by building BPCells datasets per subject to break things down into reasonable sizes.\n",
    "\n",
    "We'll then sample from these datasets to generate the initial sketch, and then integrate the full dataset to generate a complete picture of all of the data."
   ]
  },
  {
   "cell_type": "code",
   "execution_count": 15,
   "id": "0e7e6902-651b-4ca6-a688-f3d22d103ff5",
   "metadata": {},
   "outputs": [],
   "source": [
    "if(!dir.exists(\"sample_bpcells\")) {\n",
    "    dir.create(\"sample_bpcells\")\n",
    "}"
   ]
  },
  {
   "cell_type": "code",
   "execution_count": 16,
   "id": "109d4ef0-6a5d-4fcc-b45f-4df6e364d958",
   "metadata": {},
   "outputs": [
    {
     "name": "stderr",
     "output_type": "stream",
     "text": [
      "\u001b[1m\u001b[22mJoining with `by = join_by(pbmc_sample_id)`\n"
     ]
    }
   ],
   "source": [
    "subset_meta <- sample_meta %>%\n",
    "  left_join(h5ad_df)"
   ]
  },
  {
   "cell_type": "code",
   "execution_count": 17,
   "id": "541936e6-f38c-4ed9-9846-6189bde9c8e3",
   "metadata": {},
   "outputs": [],
   "source": [
    "subset_list <- split(subset_meta, subset_meta$subject.subjectGuid)"
   ]
  },
  {
   "cell_type": "code",
   "execution_count": 18,
   "id": "96e14b19-2479-4f39-962a-e70999635ec3",
   "metadata": {},
   "outputs": [],
   "source": [
    "subset_dirs <- future_map2(\n",
    "    subset_list, names(subset_list),\n",
    "    function(subset_df, subset_name) {\n",
    "        subset_dir <- paste0(\"sample_bpcells/\", subset_name)\n",
    "        if(!dir.exists(subset_dir)) {\n",
    "            mat_list <- map(subset_df$h5ad_path, read_h5ad_dgCMatrix, feature_names = \"_index\")\n",
    "            mat <- do.call(cbind, mat_list)\n",
    "            mat@x <- as.integer(mat@x)\n",
    "            \n",
    "            mat <- convert_matrix_type(mat, type = \"uint32_t\")\n",
    "            \n",
    "            write_matrix_dir(mat, subset_dir, overwrite = TRUE)\n",
    "\n",
    "            meta <- map(subset_df$h5ad_path, read_h5ad_cell_meta) %>%\n",
    "              list_rbind()\n",
    "\n",
    "            saveRDS(meta, file.path(subset_dir, \"cell_meta.rds\"))\n",
    "        }\n",
    "        subset_dir\n",
    "    },\n",
    "    .options = furrr_options(seed = 3030)\n",
    ")"
   ]
  },
  {
   "cell_type": "code",
   "execution_count": 19,
   "id": "b7bc8744-44cb-4e3d-b74b-4eacaafb5d45",
   "metadata": {},
   "outputs": [],
   "source": [
    "out_tar <- paste0(\"output/diha_bpcells_per_subject_\", Sys.Date(), \".tar\")\n",
    "tar_call <- paste(\"tar -cf\", out_tar, \"sample_bpcells/*\")\n",
    "system(tar_call)"
   ]
  },
  {
   "cell_type": "markdown",
   "id": "f9545537-3968-4ba1-abc8-5dcad4696620",
   "metadata": {},
   "source": [
    "## Upload results to HISE"
   ]
  },
  {
   "cell_type": "code",
   "execution_count": 20,
   "id": "79a97aea-7984-45e4-b163-b870ac705e17",
   "metadata": {
    "tags": []
   },
   "outputs": [],
   "source": [
    "study_space_uuid <- \"de025812-5e73-4b3c-9c3b-6d0eac412f2a\"\n",
    "title <- paste(\"DIHA BPCells Per Subject\", Sys.Date())"
   ]
  },
  {
   "cell_type": "code",
   "execution_count": 21,
   "id": "dcad2156-adfb-4b50-8679-67ecab9ff7df",
   "metadata": {
    "tags": []
   },
   "outputs": [
    {
     "data": {
      "text/html": [
       "<ol>\n",
       "\t<li>'a2102174-1ad8-422e-829e-1d30a4d0b34f'</li>\n",
       "\t<li>'75a5e2f2-55be-47cb-87f8-dc7d127f409c'</li>\n",
       "\t<li>'ec826f03-e24e-4a61-bed5-1a0ad923bd3e'</li>\n",
       "\t<li>'98ebd57f-d498-4426-9866-fdff89bfcca8'</li>\n",
       "\t<li>'03c43cf1-fa52-49f5-b64c-2a7faf723972'</li>\n",
       "\t<li>'7844526c-65ce-48b3-8e30-e39948e8389d'</li>\n",
       "\t<li>'162925c8-3619-4d31-a633-5dde2728159c'</li>\n",
       "\t<li>'e2f8a806-bf5b-4801-bee0-15be6a670830'</li>\n",
       "</ol>\n"
      ],
      "text/latex": [
       "\\begin{enumerate}\n",
       "\\item 'a2102174-1ad8-422e-829e-1d30a4d0b34f'\n",
       "\\item '75a5e2f2-55be-47cb-87f8-dc7d127f409c'\n",
       "\\item 'ec826f03-e24e-4a61-bed5-1a0ad923bd3e'\n",
       "\\item '98ebd57f-d498-4426-9866-fdff89bfcca8'\n",
       "\\item '03c43cf1-fa52-49f5-b64c-2a7faf723972'\n",
       "\\item '7844526c-65ce-48b3-8e30-e39948e8389d'\n",
       "\\item '162925c8-3619-4d31-a633-5dde2728159c'\n",
       "\\item 'e2f8a806-bf5b-4801-bee0-15be6a670830'\n",
       "\\end{enumerate}\n"
      ],
      "text/markdown": [
       "1. 'a2102174-1ad8-422e-829e-1d30a4d0b34f'\n",
       "2. '75a5e2f2-55be-47cb-87f8-dc7d127f409c'\n",
       "3. 'ec826f03-e24e-4a61-bed5-1a0ad923bd3e'\n",
       "4. '98ebd57f-d498-4426-9866-fdff89bfcca8'\n",
       "5. '03c43cf1-fa52-49f5-b64c-2a7faf723972'\n",
       "6. '7844526c-65ce-48b3-8e30-e39948e8389d'\n",
       "7. '162925c8-3619-4d31-a633-5dde2728159c'\n",
       "8. 'e2f8a806-bf5b-4801-bee0-15be6a670830'\n",
       "\n",
       "\n"
      ],
      "text/plain": [
       "[[1]]\n",
       "[1] \"a2102174-1ad8-422e-829e-1d30a4d0b34f\"\n",
       "\n",
       "[[2]]\n",
       "[1] \"75a5e2f2-55be-47cb-87f8-dc7d127f409c\"\n",
       "\n",
       "[[3]]\n",
       "[1] \"ec826f03-e24e-4a61-bed5-1a0ad923bd3e\"\n",
       "\n",
       "[[4]]\n",
       "[1] \"98ebd57f-d498-4426-9866-fdff89bfcca8\"\n",
       "\n",
       "[[5]]\n",
       "[1] \"03c43cf1-fa52-49f5-b64c-2a7faf723972\"\n",
       "\n",
       "[[6]]\n",
       "[1] \"7844526c-65ce-48b3-8e30-e39948e8389d\"\n",
       "\n",
       "[[7]]\n",
       "[1] \"162925c8-3619-4d31-a633-5dde2728159c\"\n",
       "\n",
       "[[8]]\n",
       "[1] \"e2f8a806-bf5b-4801-bee0-15be6a670830\"\n"
      ]
     },
     "metadata": {},
     "output_type": "display_data"
    }
   ],
   "source": [
    "in_list <- as.list(tar_file_df$id)\n",
    "in_list"
   ]
  },
  {
   "cell_type": "code",
   "execution_count": 22,
   "id": "4cd4688b-9fae-4167-9d7b-2b64134a6c5d",
   "metadata": {
    "tags": []
   },
   "outputs": [
    {
     "data": {
      "text/html": [
       "<ol>\n",
       "\t<li>'output/diha_bpcells_per_subject_2024-05-03.tar'</li>\n",
       "</ol>\n"
      ],
      "text/latex": [
       "\\begin{enumerate}\n",
       "\\item 'output/diha\\_bpcells\\_per\\_subject\\_2024-05-03.tar'\n",
       "\\end{enumerate}\n"
      ],
      "text/markdown": [
       "1. 'output/diha_bpcells_per_subject_2024-05-03.tar'\n",
       "\n",
       "\n"
      ],
      "text/plain": [
       "[[1]]\n",
       "[1] \"output/diha_bpcells_per_subject_2024-05-03.tar\"\n"
      ]
     },
     "metadata": {},
     "output_type": "display_data"
    }
   ],
   "source": [
    "out_list <- list(out_tar)\n",
    "out_list"
   ]
  },
  {
   "cell_type": "code",
   "execution_count": 23,
   "id": "62200d63-bbb6-4ffc-b825-f5a2abe8326b",
   "metadata": {
    "scrolled": true,
    "tags": []
   },
   "outputs": [
    {
     "data": {
      "text/html": [
       "<dl>\n",
       "\t<dt>$files</dt>\n",
       "\t\t<dd><ol>\n",
       "\t<li>'output/diha_bpcells_per_subject_2024-05-03.tar'</li>\n",
       "</ol>\n",
       "</dd>\n",
       "\t<dt>$traceId</dt>\n",
       "\t\t<dd>'564ad752-0339-4fe3-b156-ddebd9399434'</dd>\n",
       "</dl>\n"
      ],
      "text/latex": [
       "\\begin{description}\n",
       "\\item[\\$files] \\begin{enumerate}\n",
       "\\item 'output/diha\\_bpcells\\_per\\_subject\\_2024-05-03.tar'\n",
       "\\end{enumerate}\n",
       "\n",
       "\\item[\\$traceId] '564ad752-0339-4fe3-b156-ddebd9399434'\n",
       "\\end{description}\n"
      ],
      "text/markdown": [
       "$files\n",
       ":   1. 'output/diha_bpcells_per_subject_2024-05-03.tar'\n",
       "\n",
       "\n",
       "\n",
       "$traceId\n",
       ":   '564ad752-0339-4fe3-b156-ddebd9399434'\n",
       "\n",
       "\n"
      ],
      "text/plain": [
       "$files\n",
       "$files[[1]]\n",
       "[1] \"output/diha_bpcells_per_subject_2024-05-03.tar\"\n",
       "\n",
       "\n",
       "$traceId\n",
       "[1] \"564ad752-0339-4fe3-b156-ddebd9399434\"\n"
      ]
     },
     "metadata": {},
     "output_type": "display_data"
    }
   ],
   "source": [
    "uploadFiles(\n",
    "    files = out_list,\n",
    "    studySpaceId = study_space_uuid,\n",
    "    title = title,\n",
    "    inputFileIds = in_list,\n",
    "    store = \"project\",\n",
    "    destination = search_id,\n",
    "    doPrompt = FALSE\n",
    ")"
   ]
  },
  {
   "cell_type": "code",
   "execution_count": 24,
   "id": "b23d1547-a45d-4751-ab6f-9266dc1f511b",
   "metadata": {},
   "outputs": [
    {
     "data": {
      "text/plain": [
       "R version 4.3.2 (2023-10-31)\n",
       "Platform: x86_64-conda-linux-gnu (64-bit)\n",
       "Running under: Ubuntu 20.04.6 LTS\n",
       "\n",
       "Matrix products: default\n",
       "BLAS/LAPACK: /opt/conda/lib/libopenblasp-r0.3.25.so;  LAPACK version 3.11.0\n",
       "\n",
       "Random number generation:\n",
       " RNG:     L'Ecuyer-CMRG \n",
       " Normal:  Inversion \n",
       " Sample:  Rejection \n",
       " \n",
       "locale:\n",
       " [1] LC_CTYPE=C.UTF-8       LC_NUMERIC=C           LC_TIME=C.UTF-8       \n",
       " [4] LC_COLLATE=C.UTF-8     LC_MONETARY=C.UTF-8    LC_MESSAGES=C.UTF-8   \n",
       " [7] LC_PAPER=C.UTF-8       LC_NAME=C              LC_ADDRESS=C          \n",
       "[10] LC_TELEPHONE=C         LC_MEASUREMENT=C.UTF-8 LC_IDENTIFICATION=C   \n",
       "\n",
       "time zone: Etc/UTC\n",
       "tzcode source: system (glibc)\n",
       "\n",
       "attached base packages:\n",
       "[1] stats     graphics  grDevices utils     datasets  methods   base     \n",
       "\n",
       "other attached packages:\n",
       " [1] H5weaver_1.2.0    rhdf5_2.46.1      Matrix_1.6-4      data.table_1.15.4\n",
       " [5] purrr_1.0.2       hise_2.16.0       furrr_0.3.1       future_1.33.1    \n",
       " [9] dplyr_1.1.4       BPCells_0.1.0    \n",
       "\n",
       "loaded via a namespace (and not attached):\n",
       " [1] utf8_1.2.4              generics_0.1.3          bitops_1.0-7           \n",
       " [4] stringi_1.8.3           lattice_0.22-5          listenv_0.9.0          \n",
       " [7] digest_0.6.35           magrittr_2.0.3          evaluate_0.23          \n",
       "[10] grid_4.3.2              pbdZMQ_0.3-10           fastmap_1.1.1          \n",
       "[13] jsonlite_1.8.8          RSpectra_0.16-1         GenomeInfoDb_1.38.5    \n",
       "[16] httr_1.4.7              fansi_1.0.6             codetools_0.2-19       \n",
       "[19] cli_3.6.2               rlang_1.1.3             crayon_1.5.2           \n",
       "[22] XVector_0.42.0          parallelly_1.36.0       base64enc_0.1-3        \n",
       "[25] repr_1.1.7              tools_4.3.2             parallel_4.3.2         \n",
       "[28] uuid_1.2-0              Rhdf5lib_1.24.1         GenomeInfoDbData_1.2.11\n",
       "[31] globals_0.16.2          BiocGenerics_0.48.1     curl_5.1.0             \n",
       "[34] assertthat_0.2.1        IRdisplay_1.1           vctrs_0.6.5            \n",
       "[37] R6_2.5.1                stats4_4.3.2            lifecycle_1.0.4        \n",
       "[40] stringr_1.5.1           zlibbioc_1.48.0         S4Vectors_0.40.2       \n",
       "[43] IRanges_2.36.0          pkgconfig_2.0.3         pillar_1.9.0           \n",
       "[46] glue_1.7.0              Rcpp_1.0.12             tibble_3.2.1           \n",
       "[49] GenomicRanges_1.54.1    tidyselect_1.2.0        rhdf5filters_1.14.1    \n",
       "[52] IRkernel_1.3.2          htmltools_0.5.8         compiler_4.3.2         \n",
       "[55] RCurl_1.98-1.14        "
      ]
     },
     "metadata": {},
     "output_type": "display_data"
    }
   ],
   "source": [
    "sessionInfo()"
   ]
  },
  {
   "cell_type": "code",
   "execution_count": null,
   "id": "4da49f33-7335-423c-a932-46523cb0219d",
   "metadata": {},
   "outputs": [],
   "source": []
  }
 ],
 "metadata": {
  "kernelspec": {
   "display_name": "R 4",
   "language": "R",
   "name": "ir4"
  },
  "language_info": {
   "codemirror_mode": "r",
   "file_extension": ".r",
   "mimetype": "text/x-r-source",
   "name": "R",
   "pygments_lexer": "r",
   "version": "4.3.2"
  }
 },
 "nbformat": 4,
 "nbformat_minor": 5
}
