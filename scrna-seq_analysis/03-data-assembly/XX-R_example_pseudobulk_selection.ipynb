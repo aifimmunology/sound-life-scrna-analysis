{
 "cells": [
  {
   "cell_type": "code",
   "execution_count": 1,
   "id": "a25a3fb7-9e97-45de-947e-9cebc59f9806",
   "metadata": {},
   "outputs": [],
   "source": [
    "quiet_library <- function(...) { suppressPackageStartupMessages(library(...)) }\n",
    "\n",
    "quiet_library(hise)\n",
    "quiet_library(DESeq2)\n",
    "quiet_library(dplyr)\n",
    "quiet_library(purrr)"
   ]
  },
  {
   "cell_type": "markdown",
   "id": "80b446bd-3ce8-41a2-8c7c-088eb6e6ab52",
   "metadata": {},
   "source": [
    "## Filtering functions"
   ]
  },
  {
   "cell_type": "code",
   "execution_count": 2,
   "id": "2e18968e-9244-4e22-975c-e0df1461e0fc",
   "metadata": {},
   "outputs": [],
   "source": [
    "select_pseudobulk_samples <- function(pb_data, ...) {\n",
    "    pb_data$sample_meta <- pb_data$sample_meta %>%\n",
    "      filter( ... )\n",
    "\n",
    "    pb_data$agg_mat <- pb_data$agg_mat[, pb_data$sample_meta$barcodes]\n",
    "    pb_data$norm_mat <- pb_data$norm_mat[, pb_data$sample_meta$barcodes]\n",
    "    pb_data$detect_mat <- pb_data$detect_mat[, pb_data$sample_meta$barcodes]\n",
    "\n",
    "    pb_data\n",
    "}"
   ]
  },
  {
   "cell_type": "markdown",
   "id": "bbea14a3-9ebe-4a85-8ed9-d7c4bcbafc55",
   "metadata": {},
   "source": [
    "**Note**: Select samples first, then select genes to ensure cutoffs are applied to only the samples being used for your test."
   ]
  },
  {
   "cell_type": "code",
   "execution_count": 24,
   "id": "62e8349a-b9db-4cb7-84f9-59cf3da20dc0",
   "metadata": {},
   "outputs": [],
   "source": [
    "select_pseudobulk_genes <- function(pb_data, detect_cutoff = 0.1) {\n",
    "    detect_totals <- rowSums(pb_data$detect_mat)\n",
    "    detect_fracs <- detect_totals / sum(pb_data$sample_meta$n_cells)\n",
    "    keep_genes <- rownames(pb_data$detect_mat)[detect_fracs > detect_cutoff]\n",
    "    \n",
    "    pb_data$agg_mat <- pb_data$agg_mat[keep_genes,]\n",
    "    pb_data$norm_mat <- pb_data$norm_mat[keep_genes,]\n",
    "    pb_data$detect_mat <- pb_data$detect_mat[keep_genes,]\n",
    "\n",
    "    pb_data\n",
    "}"
   ]
  },
  {
   "cell_type": "markdown",
   "id": "f4a631bb-c666-40da-b275-03fc321a9ef0",
   "metadata": {},
   "source": [
    "## Conversion to DESeqDataSet format"
   ]
  },
  {
   "cell_type": "code",
   "execution_count": 33,
   "id": "7decc69d-c69b-4701-8da3-885e8bcd13e0",
   "metadata": {},
   "outputs": [],
   "source": [
    "pseudobulk_to_deseq2 <- function(pb_data, type = c(\"raw\", \"norm\"), design) {\n",
    "    if(type == \"raw\") {\n",
    "        mat <- pb_data$agg_mat\n",
    "    } else if (type == \"norm\") {\n",
    "        mat <- pb_data$norm_mat\n",
    "    }\n",
    "    \n",
    "    sample_meta <- as.data.frame(pb_data$sample_meta)\n",
    "    rownames(sample_meta) <- sample_meta$barcodes\n",
    "    \n",
    "    DESeqDataSetFromMatrix(\n",
    "        mat, \n",
    "        colData = sample_meta,\n",
    "        design = {{ design }}\n",
    "    )\n",
    "}"
   ]
  },
  {
   "cell_type": "markdown",
   "id": "83f183aa-8244-46b3-9eaa-ab22fca6136d",
   "metadata": {},
   "source": [
    "## Extract results with nice structure"
   ]
  },
  {
   "cell_type": "code",
   "execution_count": 65,
   "id": "b2b3aa7f-786b-4af3-9967-29d39612763f",
   "metadata": {},
   "outputs": [],
   "source": [
    "format_deseq_results <- function(dds, cell_type, group_by, fg, bg) {\n",
    "    meta <- as.data.frame(colData(dds))\n",
    "    n_fg <- sum(meta[[group_by]] == fg)\n",
    "    n_bg <- sum(meta[[group_by]] == bg)\n",
    "    \n",
    "    res <- results(dds, contrast = c(group_by, fg, bg))\n",
    "    res <- data.frame(res)\n",
    "    \n",
    "    res <- res %>%\n",
    "      arrange(padj) %>%\n",
    "      mutate(direction = ifelse(log2FoldChange > 0,\n",
    "                                paste0(\"HigherIn\", fg), \n",
    "                                paste0(\"HigherIn\", bg))) %>%\n",
    "      mutate(gene = rownames(.),\n",
    "             cell_type = cell_type,\n",
    "             fg = fg, n_fg = n_fg,\n",
    "             bg = bg, n_bg = n_bg) %>%\n",
    "      select(cell_type, fg, n_fg, bg, n_bg, gene, log2FoldChange, padj, direction,\n",
    "             baseMean, lfcSE, stat, pvalue)\n",
    "\n",
    "    res\n",
    "    \n",
    "}"
   ]
  },
  {
   "cell_type": "markdown",
   "id": "003e2e54-a795-4453-b407-f6a079a508f8",
   "metadata": {},
   "source": [
    "## Example case 1\n",
    "\n",
    "Test CMV status in Adaptive NK cells from BR2 Female samples"
   ]
  },
  {
   "cell_type": "markdown",
   "id": "a227e2c3-7e18-418d-9a99-9bb38bb590bc",
   "metadata": {},
   "source": [
    "Select samples"
   ]
  },
  {
   "cell_type": "code",
   "execution_count": 68,
   "id": "c9d0706a-c278-45e9-8c01-8c33baf00ead",
   "metadata": {},
   "outputs": [],
   "source": [
    "pb_data <- readRDS(\"pseudobulk_l3/diha_Adaptive-NK-cell_pseudobulk.rds\")"
   ]
  },
  {
   "cell_type": "code",
   "execution_count": 69,
   "id": "dc14c93a-0ff4-4375-9414-77d2696cc21f",
   "metadata": {},
   "outputs": [
    {
     "data": {
      "text/html": [
       "<style>\n",
       ".list-inline {list-style: none; margin:0; padding: 0}\n",
       ".list-inline>li {display: inline-block}\n",
       ".list-inline>li:not(:last-child)::after {content: \"\\00b7\"; padding: 0 .5ex}\n",
       "</style>\n",
       "<ol class=list-inline><li>33538</li><li>865</li></ol>\n"
      ],
      "text/latex": [
       "\\begin{enumerate*}\n",
       "\\item 33538\n",
       "\\item 865\n",
       "\\end{enumerate*}\n"
      ],
      "text/markdown": [
       "1. 33538\n",
       "2. 865\n",
       "\n",
       "\n"
      ],
      "text/plain": [
       "[1] 33538   865"
      ]
     },
     "metadata": {},
     "output_type": "display_data"
    }
   ],
   "source": [
    "dim(pb_data$agg_mat)"
   ]
  },
  {
   "cell_type": "code",
   "execution_count": 70,
   "id": "6ce86784-279e-4262-934b-1dd0ee4a8e6e",
   "metadata": {},
   "outputs": [],
   "source": [
    "cell_type <- \"Adaptive NK cell\"\n",
    "\n",
    "pb_data <- select_pseudobulk_samples(\n",
    "    pb_data,\n",
    "    cohort.cohortGuid == \"BR2\",\n",
    "    subject.biologicalSex == \"Female\"\n",
    ")"
   ]
  },
  {
   "cell_type": "code",
   "execution_count": 71,
   "id": "75ba82af-8d1e-4460-9814-492355b43b9b",
   "metadata": {},
   "outputs": [
    {
     "data": {
      "text/html": [
       "<style>\n",
       ".list-inline {list-style: none; margin:0; padding: 0}\n",
       ".list-inline>li {display: inline-block}\n",
       ".list-inline>li:not(:last-child)::after {content: \"\\00b7\"; padding: 0 .5ex}\n",
       "</style>\n",
       "<ol class=list-inline><li>33538</li><li>253</li></ol>\n"
      ],
      "text/latex": [
       "\\begin{enumerate*}\n",
       "\\item 33538\n",
       "\\item 253\n",
       "\\end{enumerate*}\n"
      ],
      "text/markdown": [
       "1. 33538\n",
       "2. 253\n",
       "\n",
       "\n"
      ],
      "text/plain": [
       "[1] 33538   253"
      ]
     },
     "metadata": {},
     "output_type": "display_data"
    }
   ],
   "source": [
    "dim(pb_data$agg_mat)"
   ]
  },
  {
   "cell_type": "markdown",
   "id": "13e5ac24-5b84-496d-bac1-d2e4868f93b7",
   "metadata": {},
   "source": [
    "Select genes"
   ]
  },
  {
   "cell_type": "code",
   "execution_count": 72,
   "id": "b850e4a9-6f93-41ea-8627-470231cfce8b",
   "metadata": {},
   "outputs": [],
   "source": [
    "pb_data <- select_pseudobulk_genes(\n",
    "    pb_data,\n",
    "    detect_cutoff = 0.05\n",
    ")"
   ]
  },
  {
   "cell_type": "code",
   "execution_count": 73,
   "id": "57e4ebb0-003e-4a22-bc7c-24a8849358a5",
   "metadata": {},
   "outputs": [
    {
     "data": {
      "text/html": [
       "<style>\n",
       ".list-inline {list-style: none; margin:0; padding: 0}\n",
       ".list-inline>li {display: inline-block}\n",
       ".list-inline>li:not(:last-child)::after {content: \"\\00b7\"; padding: 0 .5ex}\n",
       "</style>\n",
       "<ol class=list-inline><li>6618</li><li>253</li></ol>\n"
      ],
      "text/latex": [
       "\\begin{enumerate*}\n",
       "\\item 6618\n",
       "\\item 253\n",
       "\\end{enumerate*}\n"
      ],
      "text/markdown": [
       "1. 6618\n",
       "2. 253\n",
       "\n",
       "\n"
      ],
      "text/plain": [
       "[1] 6618  253"
      ]
     },
     "metadata": {},
     "output_type": "display_data"
    }
   ],
   "source": [
    "dim(pb_data$agg_mat)"
   ]
  },
  {
   "cell_type": "markdown",
   "id": "c91d6e0f-5847-438f-98eb-d193e7e80939",
   "metadata": {},
   "source": [
    "Convert to DESeq2 object with design"
   ]
  },
  {
   "cell_type": "code",
   "execution_count": 74,
   "id": "d185c5b1-101c-4f8a-9aab-004851aeda59",
   "metadata": {},
   "outputs": [
    {
     "name": "stderr",
     "output_type": "stream",
     "text": [
      "converting counts to integer mode\n",
      "\n",
      "Warning message in DESeqDataSet(se, design = design, ignoreRank):\n",
      "“some variables in design formula are characters, converting to factors”\n"
     ]
    }
   ],
   "source": [
    "deseq_data <- pseudobulk_to_deseq2(\n",
    "    pb_data, \n",
    "    type = \"raw\", \n",
    "    design = ~ subject.cmv\n",
    ")"
   ]
  },
  {
   "cell_type": "markdown",
   "id": "73a71556-fe03-4795-980a-d1f48e97db19",
   "metadata": {},
   "source": [
    "Run DESeq2"
   ]
  },
  {
   "cell_type": "code",
   "execution_count": 75,
   "id": "87fd78a4-9a01-4fbd-b795-7fd8dc63284f",
   "metadata": {},
   "outputs": [
    {
     "name": "stderr",
     "output_type": "stream",
     "text": [
      "estimating size factors\n",
      "\n",
      "estimating dispersions\n",
      "\n",
      "gene-wise dispersion estimates\n",
      "\n",
      "mean-dispersion relationship\n",
      "\n",
      "final dispersion estimates\n",
      "\n",
      "fitting model and testing\n",
      "\n"
     ]
    }
   ],
   "source": [
    "deseq_output <- DESeq(deseq_data)"
   ]
  },
  {
   "cell_type": "markdown",
   "id": "14ab150e-2377-41dc-b7f4-90efb5ddb751",
   "metadata": {},
   "source": [
    "Structure results"
   ]
  },
  {
   "cell_type": "code",
   "execution_count": 76,
   "id": "f5521023-36d7-46cf-bf9c-4541f9e55498",
   "metadata": {},
   "outputs": [],
   "source": [
    "deseq_results <- format_deseq_results(\n",
    "    deseq_output,\n",
    "    cell_type,\n",
    "    group_by = \"subject.cmv\",\n",
    "    fg = \"Positive\", bg = \"Negative\"\n",
    ")"
   ]
  },
  {
   "cell_type": "code",
   "execution_count": 77,
   "id": "f685b9a1-f9b3-4632-b269-8569a36ef820",
   "metadata": {},
   "outputs": [
    {
     "data": {
      "text/html": [
       "<table class=\"dataframe\">\n",
       "<caption>A data.frame: 6 × 13</caption>\n",
       "<thead>\n",
       "\t<tr><th></th><th scope=col>cell_type</th><th scope=col>fg</th><th scope=col>n_fg</th><th scope=col>bg</th><th scope=col>n_bg</th><th scope=col>gene</th><th scope=col>log2FoldChange</th><th scope=col>padj</th><th scope=col>direction</th><th scope=col>baseMean</th><th scope=col>lfcSE</th><th scope=col>stat</th><th scope=col>pvalue</th></tr>\n",
       "\t<tr><th></th><th scope=col>&lt;chr&gt;</th><th scope=col>&lt;chr&gt;</th><th scope=col>&lt;int&gt;</th><th scope=col>&lt;chr&gt;</th><th scope=col>&lt;int&gt;</th><th scope=col>&lt;chr&gt;</th><th scope=col>&lt;dbl&gt;</th><th scope=col>&lt;dbl&gt;</th><th scope=col>&lt;chr&gt;</th><th scope=col>&lt;dbl&gt;</th><th scope=col>&lt;dbl&gt;</th><th scope=col>&lt;dbl&gt;</th><th scope=col>&lt;dbl&gt;</th></tr>\n",
       "</thead>\n",
       "<tbody>\n",
       "\t<tr><th scope=row>SELL</th><td>Adaptive NK cell</td><td>Positive</td><td>163</td><td>Negative</td><td>90</td><td>SELL    </td><td>-1.1911208</td><td>1.627572e-21</td><td>HigherInNegative</td><td> 23.102969</td><td>0.11454300</td><td>-10.398897</td><td>2.508201e-25</td></tr>\n",
       "\t<tr><th scope=row>GZMH</th><td>Adaptive NK cell</td><td>Positive</td><td>163</td><td>Negative</td><td>90</td><td>GZMH    </td><td> 0.4654324</td><td>2.843111e-20</td><td>HigherInPositive</td><td>146.065834</td><td>0.04629024</td><td> 10.054654</td><td>8.762864e-24</td></tr>\n",
       "\t<tr><th scope=row>FCER1G</th><td>Adaptive NK cell</td><td>Positive</td><td>163</td><td>Negative</td><td>90</td><td>FCER1G  </td><td>-0.6172658</td><td>7.731360e-19</td><td>HigherInNegative</td><td> 83.946718</td><td>0.06374988</td><td> -9.682620</td><td>3.574369e-22</td></tr>\n",
       "\t<tr><th scope=row>MTRNR2L8</th><td>Adaptive NK cell</td><td>Positive</td><td>163</td><td>Negative</td><td>90</td><td>MTRNR2L8</td><td>-1.7664710</td><td>6.453594e-15</td><td>HigherInNegative</td><td>  4.673367</td><td>0.20352426</td><td> -8.679413</td><td>3.978175e-18</td></tr>\n",
       "\t<tr><th scope=row>CEBPD</th><td>Adaptive NK cell</td><td>Positive</td><td>163</td><td>Negative</td><td>90</td><td>CEBPD   </td><td>-0.7747188</td><td>7.036123e-15</td><td>HigherInNegative</td><td> 15.996495</td><td>0.08984031</td><td> -8.623287</td><td>6.505893e-18</td></tr>\n",
       "\t<tr><th scope=row>CD3D</th><td>Adaptive NK cell</td><td>Positive</td><td>163</td><td>Negative</td><td>90</td><td>CD3D    </td><td> 1.4021423</td><td>7.036123e-15</td><td>HigherInPositive</td><td> 22.010604</td><td>0.16228296</td><td>  8.640108</td><td>5.615977e-18</td></tr>\n",
       "</tbody>\n",
       "</table>\n"
      ],
      "text/latex": [
       "A data.frame: 6 × 13\n",
       "\\begin{tabular}{r|lllllllllllll}\n",
       "  & cell\\_type & fg & n\\_fg & bg & n\\_bg & gene & log2FoldChange & padj & direction & baseMean & lfcSE & stat & pvalue\\\\\n",
       "  & <chr> & <chr> & <int> & <chr> & <int> & <chr> & <dbl> & <dbl> & <chr> & <dbl> & <dbl> & <dbl> & <dbl>\\\\\n",
       "\\hline\n",
       "\tSELL & Adaptive NK cell & Positive & 163 & Negative & 90 & SELL     & -1.1911208 & 1.627572e-21 & HigherInNegative &  23.102969 & 0.11454300 & -10.398897 & 2.508201e-25\\\\\n",
       "\tGZMH & Adaptive NK cell & Positive & 163 & Negative & 90 & GZMH     &  0.4654324 & 2.843111e-20 & HigherInPositive & 146.065834 & 0.04629024 &  10.054654 & 8.762864e-24\\\\\n",
       "\tFCER1G & Adaptive NK cell & Positive & 163 & Negative & 90 & FCER1G   & -0.6172658 & 7.731360e-19 & HigherInNegative &  83.946718 & 0.06374988 &  -9.682620 & 3.574369e-22\\\\\n",
       "\tMTRNR2L8 & Adaptive NK cell & Positive & 163 & Negative & 90 & MTRNR2L8 & -1.7664710 & 6.453594e-15 & HigherInNegative &   4.673367 & 0.20352426 &  -8.679413 & 3.978175e-18\\\\\n",
       "\tCEBPD & Adaptive NK cell & Positive & 163 & Negative & 90 & CEBPD    & -0.7747188 & 7.036123e-15 & HigherInNegative &  15.996495 & 0.08984031 &  -8.623287 & 6.505893e-18\\\\\n",
       "\tCD3D & Adaptive NK cell & Positive & 163 & Negative & 90 & CD3D     &  1.4021423 & 7.036123e-15 & HigherInPositive &  22.010604 & 0.16228296 &   8.640108 & 5.615977e-18\\\\\n",
       "\\end{tabular}\n"
      ],
      "text/markdown": [
       "\n",
       "A data.frame: 6 × 13\n",
       "\n",
       "| <!--/--> | cell_type &lt;chr&gt; | fg &lt;chr&gt; | n_fg &lt;int&gt; | bg &lt;chr&gt; | n_bg &lt;int&gt; | gene &lt;chr&gt; | log2FoldChange &lt;dbl&gt; | padj &lt;dbl&gt; | direction &lt;chr&gt; | baseMean &lt;dbl&gt; | lfcSE &lt;dbl&gt; | stat &lt;dbl&gt; | pvalue &lt;dbl&gt; |\n",
       "|---|---|---|---|---|---|---|---|---|---|---|---|---|---|\n",
       "| SELL | Adaptive NK cell | Positive | 163 | Negative | 90 | SELL     | -1.1911208 | 1.627572e-21 | HigherInNegative |  23.102969 | 0.11454300 | -10.398897 | 2.508201e-25 |\n",
       "| GZMH | Adaptive NK cell | Positive | 163 | Negative | 90 | GZMH     |  0.4654324 | 2.843111e-20 | HigherInPositive | 146.065834 | 0.04629024 |  10.054654 | 8.762864e-24 |\n",
       "| FCER1G | Adaptive NK cell | Positive | 163 | Negative | 90 | FCER1G   | -0.6172658 | 7.731360e-19 | HigherInNegative |  83.946718 | 0.06374988 |  -9.682620 | 3.574369e-22 |\n",
       "| MTRNR2L8 | Adaptive NK cell | Positive | 163 | Negative | 90 | MTRNR2L8 | -1.7664710 | 6.453594e-15 | HigherInNegative |   4.673367 | 0.20352426 |  -8.679413 | 3.978175e-18 |\n",
       "| CEBPD | Adaptive NK cell | Positive | 163 | Negative | 90 | CEBPD    | -0.7747188 | 7.036123e-15 | HigherInNegative |  15.996495 | 0.08984031 |  -8.623287 | 6.505893e-18 |\n",
       "| CD3D | Adaptive NK cell | Positive | 163 | Negative | 90 | CD3D     |  1.4021423 | 7.036123e-15 | HigherInPositive |  22.010604 | 0.16228296 |   8.640108 | 5.615977e-18 |\n",
       "\n"
      ],
      "text/plain": [
       "         cell_type        fg       n_fg bg       n_bg gene     log2FoldChange\n",
       "SELL     Adaptive NK cell Positive 163  Negative 90   SELL     -1.1911208    \n",
       "GZMH     Adaptive NK cell Positive 163  Negative 90   GZMH      0.4654324    \n",
       "FCER1G   Adaptive NK cell Positive 163  Negative 90   FCER1G   -0.6172658    \n",
       "MTRNR2L8 Adaptive NK cell Positive 163  Negative 90   MTRNR2L8 -1.7664710    \n",
       "CEBPD    Adaptive NK cell Positive 163  Negative 90   CEBPD    -0.7747188    \n",
       "CD3D     Adaptive NK cell Positive 163  Negative 90   CD3D      1.4021423    \n",
       "         padj         direction        baseMean   lfcSE      stat      \n",
       "SELL     1.627572e-21 HigherInNegative  23.102969 0.11454300 -10.398897\n",
       "GZMH     2.843111e-20 HigherInPositive 146.065834 0.04629024  10.054654\n",
       "FCER1G   7.731360e-19 HigherInNegative  83.946718 0.06374988  -9.682620\n",
       "MTRNR2L8 6.453594e-15 HigherInNegative   4.673367 0.20352426  -8.679413\n",
       "CEBPD    7.036123e-15 HigherInNegative  15.996495 0.08984031  -8.623287\n",
       "CD3D     7.036123e-15 HigherInPositive  22.010604 0.16228296   8.640108\n",
       "         pvalue      \n",
       "SELL     2.508201e-25\n",
       "GZMH     8.762864e-24\n",
       "FCER1G   3.574369e-22\n",
       "MTRNR2L8 3.978175e-18\n",
       "CEBPD    6.505893e-18\n",
       "CD3D     5.615977e-18"
      ]
     },
     "metadata": {},
     "output_type": "display_data"
    }
   ],
   "source": [
    "head(deseq_results)"
   ]
  },
  {
   "cell_type": "markdown",
   "id": "920c2225-47cf-4d5e-b230-c5570daea50d",
   "metadata": {},
   "source": [
    "## Example case 2\n",
    "\n",
    "Test Flu response in Plasma cells from BR1 CMV+ samples"
   ]
  },
  {
   "cell_type": "markdown",
   "id": "f8b5ef46-863e-402b-847c-b6073ed56077",
   "metadata": {},
   "source": [
    "Select samples"
   ]
  },
  {
   "cell_type": "code",
   "execution_count": 78,
   "id": "9acd0d64-8748-40a3-b47b-85834e841a9d",
   "metadata": {},
   "outputs": [],
   "source": [
    "pb_data <- readRDS(\"pseudobulk_l3/diha_Plasma-cell_pseudobulk.rds\")"
   ]
  },
  {
   "cell_type": "code",
   "execution_count": 79,
   "id": "7030a5f3-c7f5-4d21-bea6-70471bf268c3",
   "metadata": {},
   "outputs": [
    {
     "data": {
      "text/html": [
       "<style>\n",
       ".list-inline {list-style: none; margin:0; padding: 0}\n",
       ".list-inline>li {display: inline-block}\n",
       ".list-inline>li:not(:last-child)::after {content: \"\\00b7\"; padding: 0 .5ex}\n",
       "</style>\n",
       "<ol class=list-inline><li>33538</li><li>850</li></ol>\n"
      ],
      "text/latex": [
       "\\begin{enumerate*}\n",
       "\\item 33538\n",
       "\\item 850\n",
       "\\end{enumerate*}\n"
      ],
      "text/markdown": [
       "1. 33538\n",
       "2. 850\n",
       "\n",
       "\n"
      ],
      "text/plain": [
       "[1] 33538   850"
      ]
     },
     "metadata": {},
     "output_type": "display_data"
    }
   ],
   "source": [
    "dim(pb_data$agg_mat)"
   ]
  },
  {
   "cell_type": "code",
   "execution_count": 80,
   "id": "f548dde8-fef7-4769-ba47-17c6b9b370cd",
   "metadata": {},
   "outputs": [],
   "source": [
    "cell_type <- \"Plasma cell\"\n",
    "\n",
    "pb_data <- select_pseudobulk_samples(\n",
    "    pb_data,\n",
    "    cohort.cohortGuid == \"BR1\",\n",
    "    subject.cmv == \"Positive\",\n",
    "    sample.visitName %in% c(\"Flu Year 1 Day 0\", \"Flu Year 1 Day 7\")\n",
    ")"
   ]
  },
  {
   "cell_type": "code",
   "execution_count": 81,
   "id": "7691f501-3fe1-402f-bb41-7d740e88c23d",
   "metadata": {},
   "outputs": [
    {
     "data": {
      "text/html": [
       "<style>\n",
       ".list-inline {list-style: none; margin:0; padding: 0}\n",
       ".list-inline>li {display: inline-block}\n",
       ".list-inline>li:not(:last-child)::after {content: \"\\00b7\"; padding: 0 .5ex}\n",
       "</style>\n",
       "<ol class=list-inline><li>33538</li><li>35</li></ol>\n"
      ],
      "text/latex": [
       "\\begin{enumerate*}\n",
       "\\item 33538\n",
       "\\item 35\n",
       "\\end{enumerate*}\n"
      ],
      "text/markdown": [
       "1. 33538\n",
       "2. 35\n",
       "\n",
       "\n"
      ],
      "text/plain": [
       "[1] 33538    35"
      ]
     },
     "metadata": {},
     "output_type": "display_data"
    }
   ],
   "source": [
    "dim(pb_data$agg_mat)"
   ]
  },
  {
   "cell_type": "markdown",
   "id": "e58ab583-59be-4c11-a859-745090d36fbf",
   "metadata": {},
   "source": [
    "Select genes"
   ]
  },
  {
   "cell_type": "code",
   "execution_count": 82,
   "id": "eada9e96-a38b-4f98-8f67-bf56078413de",
   "metadata": {},
   "outputs": [],
   "source": [
    "pb_data <- select_pseudobulk_genes(\n",
    "    pb_data,\n",
    "    detect_cutoff = 0.1\n",
    ")"
   ]
  },
  {
   "cell_type": "code",
   "execution_count": 83,
   "id": "4e424873-3dcc-47f7-bb40-9f5e5ddf36d3",
   "metadata": {},
   "outputs": [
    {
     "data": {
      "text/html": [
       "<style>\n",
       ".list-inline {list-style: none; margin:0; padding: 0}\n",
       ".list-inline>li {display: inline-block}\n",
       ".list-inline>li:not(:last-child)::after {content: \"\\00b7\"; padding: 0 .5ex}\n",
       "</style>\n",
       "<ol class=list-inline><li>7725</li><li>35</li></ol>\n"
      ],
      "text/latex": [
       "\\begin{enumerate*}\n",
       "\\item 7725\n",
       "\\item 35\n",
       "\\end{enumerate*}\n"
      ],
      "text/markdown": [
       "1. 7725\n",
       "2. 35\n",
       "\n",
       "\n"
      ],
      "text/plain": [
       "[1] 7725   35"
      ]
     },
     "metadata": {},
     "output_type": "display_data"
    }
   ],
   "source": [
    "dim(pb_data$agg_mat)"
   ]
  },
  {
   "cell_type": "markdown",
   "id": "216c395c-3796-4ed9-aae9-e1aeb1145186",
   "metadata": {},
   "source": [
    "Convert to DESeq2 object with design"
   ]
  },
  {
   "cell_type": "code",
   "execution_count": 84,
   "id": "60ea5708-1e4f-4fe5-b8df-dcdde50415fa",
   "metadata": {},
   "outputs": [
    {
     "name": "stderr",
     "output_type": "stream",
     "text": [
      "converting counts to integer mode\n",
      "\n",
      "Warning message in DESeqDataSet(se, design = design, ignoreRank):\n",
      "“some variables in design formula are characters, converting to factors”\n",
      "  Note: levels of factors in the design contain characters other than\n",
      "  letters, numbers, '_' and '.'. It is recommended (but not required) to use\n",
      "  only letters, numbers, and delimiters '_' or '.', as these are safe characters\n",
      "  for column names in R. [This is a message, not a warning or an error]\n",
      "\n"
     ]
    }
   ],
   "source": [
    "deseq_data <- pseudobulk_to_deseq2(\n",
    "    pb_data, \n",
    "    type = \"raw\", \n",
    "    design = ~ sample.visitName\n",
    ")"
   ]
  },
  {
   "cell_type": "markdown",
   "id": "26356fca-9df4-468e-97ed-b3431efff573",
   "metadata": {},
   "source": [
    "Run DESeq2"
   ]
  },
  {
   "cell_type": "code",
   "execution_count": 85,
   "id": "9b18b0ab-649a-4e7a-a554-19042dffdb86",
   "metadata": {},
   "outputs": [
    {
     "name": "stderr",
     "output_type": "stream",
     "text": [
      "estimating size factors\n",
      "\n",
      "  Note: levels of factors in the design contain characters other than\n",
      "  letters, numbers, '_' and '.'. It is recommended (but not required) to use\n",
      "  only letters, numbers, and delimiters '_' or '.', as these are safe characters\n",
      "  for column names in R. [This is a message, not a warning or an error]\n",
      "\n",
      "estimating dispersions\n",
      "\n",
      "gene-wise dispersion estimates\n",
      "\n",
      "mean-dispersion relationship\n",
      "\n",
      "  Note: levels of factors in the design contain characters other than\n",
      "  letters, numbers, '_' and '.'. It is recommended (but not required) to use\n",
      "  only letters, numbers, and delimiters '_' or '.', as these are safe characters\n",
      "  for column names in R. [This is a message, not a warning or an error]\n",
      "\n",
      "final dispersion estimates\n",
      "\n",
      "fitting model and testing\n",
      "\n",
      "  Note: levels of factors in the design contain characters other than\n",
      "  letters, numbers, '_' and '.'. It is recommended (but not required) to use\n",
      "  only letters, numbers, and delimiters '_' or '.', as these are safe characters\n",
      "  for column names in R. [This is a message, not a warning or an error]\n",
      "\n",
      "-- replacing outliers and refitting for 9 genes\n",
      "-- DESeq argument 'minReplicatesForReplace' = 7 \n",
      "-- original counts are preserved in counts(dds)\n",
      "\n",
      "estimating dispersions\n",
      "\n",
      "fitting model and testing\n",
      "\n",
      "  Note: levels of factors in the design contain characters other than\n",
      "  letters, numbers, '_' and '.'. It is recommended (but not required) to use\n",
      "  only letters, numbers, and delimiters '_' or '.', as these are safe characters\n",
      "  for column names in R. [This is a message, not a warning or an error]\n",
      "\n"
     ]
    }
   ],
   "source": [
    "deseq_output <- DESeq(deseq_data)"
   ]
  },
  {
   "cell_type": "markdown",
   "id": "758edd9e-858a-4ac5-bbf7-399115467083",
   "metadata": {},
   "source": [
    "Structure results"
   ]
  },
  {
   "cell_type": "code",
   "execution_count": 86,
   "id": "442cd525-21cd-4b3d-867a-c5bd7d7d115d",
   "metadata": {},
   "outputs": [],
   "source": [
    "deseq_results <- format_deseq_results(\n",
    "    deseq_output,\n",
    "    cell_type,\n",
    "    group_by = \"sample.visitName\",\n",
    "    fg = \"Flu Year 1 Day 7\", bg = \"Flu Year 1 Day 0\"\n",
    ")"
   ]
  },
  {
   "cell_type": "code",
   "execution_count": 87,
   "id": "4ceb5e40-8be6-4f31-a472-3b647cbb3b5b",
   "metadata": {},
   "outputs": [
    {
     "data": {
      "text/html": [
       "<table class=\"dataframe\">\n",
       "<caption>A data.frame: 6 × 13</caption>\n",
       "<thead>\n",
       "\t<tr><th></th><th scope=col>cell_type</th><th scope=col>fg</th><th scope=col>n_fg</th><th scope=col>bg</th><th scope=col>n_bg</th><th scope=col>gene</th><th scope=col>log2FoldChange</th><th scope=col>padj</th><th scope=col>direction</th><th scope=col>baseMean</th><th scope=col>lfcSE</th><th scope=col>stat</th><th scope=col>pvalue</th></tr>\n",
       "\t<tr><th></th><th scope=col>&lt;chr&gt;</th><th scope=col>&lt;chr&gt;</th><th scope=col>&lt;int&gt;</th><th scope=col>&lt;chr&gt;</th><th scope=col>&lt;int&gt;</th><th scope=col>&lt;chr&gt;</th><th scope=col>&lt;dbl&gt;</th><th scope=col>&lt;dbl&gt;</th><th scope=col>&lt;chr&gt;</th><th scope=col>&lt;dbl&gt;</th><th scope=col>&lt;dbl&gt;</th><th scope=col>&lt;dbl&gt;</th><th scope=col>&lt;dbl&gt;</th></tr>\n",
       "</thead>\n",
       "<tbody>\n",
       "\t<tr><th scope=row>ASB2</th><td>Plasma cell</td><td>Flu Year 1 Day 7</td><td>18</td><td>Flu Year 1 Day 0</td><td>17</td><td>ASB2   </td><td>-1.2864758</td><td>0.2391302</td><td>HigherInFlu Year 1 Day 0</td><td> 3.060223</td><td>0.3176596</td><td>-4.049856</td><td>5.124907e-05</td></tr>\n",
       "\t<tr><th scope=row>LTK</th><td>Plasma cell</td><td>Flu Year 1 Day 7</td><td>18</td><td>Flu Year 1 Day 0</td><td>17</td><td>LTK    </td><td>-1.0960718</td><td>0.2391302</td><td>HigherInFlu Year 1 Day 0</td><td> 6.633488</td><td>0.2736480</td><td>-4.005407</td><td>6.191072e-05</td></tr>\n",
       "\t<tr><th scope=row>EXOSC9</th><td>Plasma cell</td><td>Flu Year 1 Day 7</td><td>18</td><td>Flu Year 1 Day 0</td><td>17</td><td>EXOSC9 </td><td>-0.7760153</td><td>0.7727507</td><td>HigherInFlu Year 1 Day 0</td><td> 5.270538</td><td>0.2205191</td><td>-3.519038</td><td>4.331139e-04</td></tr>\n",
       "\t<tr><th scope=row>RAD21</th><td>Plasma cell</td><td>Flu Year 1 Day 7</td><td>18</td><td>Flu Year 1 Day 0</td><td>17</td><td>RAD21  </td><td>-0.5093242</td><td>0.7727507</td><td>HigherInFlu Year 1 Day 0</td><td>19.824227</td><td>0.1463294</td><td>-3.480669</td><td>5.001623e-04</td></tr>\n",
       "\t<tr><th scope=row>B4GALT1</th><td>Plasma cell</td><td>Flu Year 1 Day 7</td><td>18</td><td>Flu Year 1 Day 0</td><td>17</td><td>B4GALT1</td><td> 1.4582484</td><td>0.7727507</td><td>HigherInFlu Year 1 Day 7</td><td>24.338660</td><td>0.4043013</td><td> 3.606836</td><td>3.099534e-04</td></tr>\n",
       "\t<tr><th scope=row>MANBA</th><td>Plasma cell</td><td>Flu Year 1 Day 7</td><td>18</td><td>Flu Year 1 Day 0</td><td>17</td><td>MANBA  </td><td>-1.2467109</td><td>0.7916603</td><td>HigherInFlu Year 1 Day 0</td><td> 2.318551</td><td>0.3640071</td><td>-3.424964</td><td>6.148818e-04</td></tr>\n",
       "</tbody>\n",
       "</table>\n"
      ],
      "text/latex": [
       "A data.frame: 6 × 13\n",
       "\\begin{tabular}{r|lllllllllllll}\n",
       "  & cell\\_type & fg & n\\_fg & bg & n\\_bg & gene & log2FoldChange & padj & direction & baseMean & lfcSE & stat & pvalue\\\\\n",
       "  & <chr> & <chr> & <int> & <chr> & <int> & <chr> & <dbl> & <dbl> & <chr> & <dbl> & <dbl> & <dbl> & <dbl>\\\\\n",
       "\\hline\n",
       "\tASB2 & Plasma cell & Flu Year 1 Day 7 & 18 & Flu Year 1 Day 0 & 17 & ASB2    & -1.2864758 & 0.2391302 & HigherInFlu Year 1 Day 0 &  3.060223 & 0.3176596 & -4.049856 & 5.124907e-05\\\\\n",
       "\tLTK & Plasma cell & Flu Year 1 Day 7 & 18 & Flu Year 1 Day 0 & 17 & LTK     & -1.0960718 & 0.2391302 & HigherInFlu Year 1 Day 0 &  6.633488 & 0.2736480 & -4.005407 & 6.191072e-05\\\\\n",
       "\tEXOSC9 & Plasma cell & Flu Year 1 Day 7 & 18 & Flu Year 1 Day 0 & 17 & EXOSC9  & -0.7760153 & 0.7727507 & HigherInFlu Year 1 Day 0 &  5.270538 & 0.2205191 & -3.519038 & 4.331139e-04\\\\\n",
       "\tRAD21 & Plasma cell & Flu Year 1 Day 7 & 18 & Flu Year 1 Day 0 & 17 & RAD21   & -0.5093242 & 0.7727507 & HigherInFlu Year 1 Day 0 & 19.824227 & 0.1463294 & -3.480669 & 5.001623e-04\\\\\n",
       "\tB4GALT1 & Plasma cell & Flu Year 1 Day 7 & 18 & Flu Year 1 Day 0 & 17 & B4GALT1 &  1.4582484 & 0.7727507 & HigherInFlu Year 1 Day 7 & 24.338660 & 0.4043013 &  3.606836 & 3.099534e-04\\\\\n",
       "\tMANBA & Plasma cell & Flu Year 1 Day 7 & 18 & Flu Year 1 Day 0 & 17 & MANBA   & -1.2467109 & 0.7916603 & HigherInFlu Year 1 Day 0 &  2.318551 & 0.3640071 & -3.424964 & 6.148818e-04\\\\\n",
       "\\end{tabular}\n"
      ],
      "text/markdown": [
       "\n",
       "A data.frame: 6 × 13\n",
       "\n",
       "| <!--/--> | cell_type &lt;chr&gt; | fg &lt;chr&gt; | n_fg &lt;int&gt; | bg &lt;chr&gt; | n_bg &lt;int&gt; | gene &lt;chr&gt; | log2FoldChange &lt;dbl&gt; | padj &lt;dbl&gt; | direction &lt;chr&gt; | baseMean &lt;dbl&gt; | lfcSE &lt;dbl&gt; | stat &lt;dbl&gt; | pvalue &lt;dbl&gt; |\n",
       "|---|---|---|---|---|---|---|---|---|---|---|---|---|---|\n",
       "| ASB2 | Plasma cell | Flu Year 1 Day 7 | 18 | Flu Year 1 Day 0 | 17 | ASB2    | -1.2864758 | 0.2391302 | HigherInFlu Year 1 Day 0 |  3.060223 | 0.3176596 | -4.049856 | 5.124907e-05 |\n",
       "| LTK | Plasma cell | Flu Year 1 Day 7 | 18 | Flu Year 1 Day 0 | 17 | LTK     | -1.0960718 | 0.2391302 | HigherInFlu Year 1 Day 0 |  6.633488 | 0.2736480 | -4.005407 | 6.191072e-05 |\n",
       "| EXOSC9 | Plasma cell | Flu Year 1 Day 7 | 18 | Flu Year 1 Day 0 | 17 | EXOSC9  | -0.7760153 | 0.7727507 | HigherInFlu Year 1 Day 0 |  5.270538 | 0.2205191 | -3.519038 | 4.331139e-04 |\n",
       "| RAD21 | Plasma cell | Flu Year 1 Day 7 | 18 | Flu Year 1 Day 0 | 17 | RAD21   | -0.5093242 | 0.7727507 | HigherInFlu Year 1 Day 0 | 19.824227 | 0.1463294 | -3.480669 | 5.001623e-04 |\n",
       "| B4GALT1 | Plasma cell | Flu Year 1 Day 7 | 18 | Flu Year 1 Day 0 | 17 | B4GALT1 |  1.4582484 | 0.7727507 | HigherInFlu Year 1 Day 7 | 24.338660 | 0.4043013 |  3.606836 | 3.099534e-04 |\n",
       "| MANBA | Plasma cell | Flu Year 1 Day 7 | 18 | Flu Year 1 Day 0 | 17 | MANBA   | -1.2467109 | 0.7916603 | HigherInFlu Year 1 Day 0 |  2.318551 | 0.3640071 | -3.424964 | 6.148818e-04 |\n",
       "\n"
      ],
      "text/plain": [
       "        cell_type   fg               n_fg bg               n_bg gene   \n",
       "ASB2    Plasma cell Flu Year 1 Day 7 18   Flu Year 1 Day 0 17   ASB2   \n",
       "LTK     Plasma cell Flu Year 1 Day 7 18   Flu Year 1 Day 0 17   LTK    \n",
       "EXOSC9  Plasma cell Flu Year 1 Day 7 18   Flu Year 1 Day 0 17   EXOSC9 \n",
       "RAD21   Plasma cell Flu Year 1 Day 7 18   Flu Year 1 Day 0 17   RAD21  \n",
       "B4GALT1 Plasma cell Flu Year 1 Day 7 18   Flu Year 1 Day 0 17   B4GALT1\n",
       "MANBA   Plasma cell Flu Year 1 Day 7 18   Flu Year 1 Day 0 17   MANBA  \n",
       "        log2FoldChange padj      direction                baseMean  lfcSE    \n",
       "ASB2    -1.2864758     0.2391302 HigherInFlu Year 1 Day 0  3.060223 0.3176596\n",
       "LTK     -1.0960718     0.2391302 HigherInFlu Year 1 Day 0  6.633488 0.2736480\n",
       "EXOSC9  -0.7760153     0.7727507 HigherInFlu Year 1 Day 0  5.270538 0.2205191\n",
       "RAD21   -0.5093242     0.7727507 HigherInFlu Year 1 Day 0 19.824227 0.1463294\n",
       "B4GALT1  1.4582484     0.7727507 HigherInFlu Year 1 Day 7 24.338660 0.4043013\n",
       "MANBA   -1.2467109     0.7916603 HigherInFlu Year 1 Day 0  2.318551 0.3640071\n",
       "        stat      pvalue      \n",
       "ASB2    -4.049856 5.124907e-05\n",
       "LTK     -4.005407 6.191072e-05\n",
       "EXOSC9  -3.519038 4.331139e-04\n",
       "RAD21   -3.480669 5.001623e-04\n",
       "B4GALT1  3.606836 3.099534e-04\n",
       "MANBA   -3.424964 6.148818e-04"
      ]
     },
     "metadata": {},
     "output_type": "display_data"
    }
   ],
   "source": [
    "head(deseq_results)"
   ]
  },
  {
   "cell_type": "code",
   "execution_count": 88,
   "id": "16a4fa20-f7af-4494-bb55-7289914d0ae5",
   "metadata": {},
   "outputs": [
    {
     "data": {
      "text/plain": [
       "R version 4.3.2 (2023-10-31)\n",
       "Platform: x86_64-conda-linux-gnu (64-bit)\n",
       "Running under: Ubuntu 20.04.6 LTS\n",
       "\n",
       "Matrix products: default\n",
       "BLAS/LAPACK: /opt/conda/lib/libopenblasp-r0.3.25.so;  LAPACK version 3.11.0\n",
       "\n",
       "locale:\n",
       " [1] LC_CTYPE=C.UTF-8       LC_NUMERIC=C           LC_TIME=C.UTF-8       \n",
       " [4] LC_COLLATE=C.UTF-8     LC_MONETARY=C.UTF-8    LC_MESSAGES=C.UTF-8   \n",
       " [7] LC_PAPER=C.UTF-8       LC_NAME=C              LC_ADDRESS=C          \n",
       "[10] LC_TELEPHONE=C         LC_MEASUREMENT=C.UTF-8 LC_IDENTIFICATION=C   \n",
       "\n",
       "time zone: Etc/UTC\n",
       "tzcode source: system (glibc)\n",
       "\n",
       "attached base packages:\n",
       "[1] stats4    stats     graphics  grDevices utils     datasets  methods  \n",
       "[8] base     \n",
       "\n",
       "other attached packages:\n",
       " [1] purrr_1.0.2                 dplyr_1.1.4                \n",
       " [3] DESeq2_1.42.0               SummarizedExperiment_1.32.0\n",
       " [5] Biobase_2.62.0              MatrixGenerics_1.14.0      \n",
       " [7] matrixStats_1.2.0           GenomicRanges_1.54.1       \n",
       " [9] GenomeInfoDb_1.38.5         IRanges_2.36.0             \n",
       "[11] S4Vectors_0.40.2            BiocGenerics_0.48.1        \n",
       "[13] hise_2.16.0                \n",
       "\n",
       "loaded via a namespace (and not attached):\n",
       " [1] generics_0.1.3          utf8_1.2.4              SparseArray_1.2.3      \n",
       " [4] bitops_1.0-7            lattice_0.22-5          digest_0.6.35          \n",
       " [7] magrittr_2.0.3          evaluate_0.23           grid_4.3.2             \n",
       "[10] pbdZMQ_0.3-10           fastmap_1.1.1           jsonlite_1.8.8         \n",
       "[13] Matrix_1.6-4            fansi_1.0.6             scales_1.3.0           \n",
       "[16] codetools_0.2-19        abind_1.4-5             cli_3.6.2              \n",
       "[19] rlang_1.1.3             crayon_1.5.2            XVector_0.42.0         \n",
       "[22] munsell_0.5.1           withr_3.0.0             base64enc_0.1-3        \n",
       "[25] repr_1.1.7              DelayedArray_0.28.0     S4Arrays_1.2.0         \n",
       "[28] tools_4.3.2             parallel_4.3.2          uuid_1.2-0             \n",
       "[31] BiocParallel_1.36.0     colorspace_2.1-0        ggplot2_3.5.0          \n",
       "[34] locfit_1.5-9.8          GenomeInfoDbData_1.2.11 IRdisplay_1.1          \n",
       "[37] vctrs_0.6.5             R6_2.5.1                lifecycle_1.0.4        \n",
       "[40] zlibbioc_1.48.0         pkgconfig_2.0.3         pillar_1.9.0           \n",
       "[43] gtable_0.3.4            glue_1.7.0              Rcpp_1.0.12            \n",
       "[46] tidyselect_1.2.0        tibble_3.2.1            IRkernel_1.3.2         \n",
       "[49] htmltools_0.5.8         compiler_4.3.2          RCurl_1.98-1.14        "
      ]
     },
     "metadata": {},
     "output_type": "display_data"
    }
   ],
   "source": [
    "sessionInfo()"
   ]
  },
  {
   "cell_type": "code",
   "execution_count": null,
   "id": "e7631a73-9c23-4406-b952-3676ffe43058",
   "metadata": {},
   "outputs": [],
   "source": []
  }
 ],
 "metadata": {
  "kernelspec": {
   "display_name": "R 4",
   "language": "R",
   "name": "ir4"
  },
  "language_info": {
   "codemirror_mode": "r",
   "file_extension": ".r",
   "mimetype": "text/x-r-source",
   "name": "R",
   "pygments_lexer": "r",
   "version": "4.3.2"
  }
 },
 "nbformat": 4,
 "nbformat_minor": 5
}
