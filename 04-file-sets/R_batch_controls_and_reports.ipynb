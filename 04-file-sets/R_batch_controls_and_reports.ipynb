{
 "cells": [
  {
   "cell_type": "markdown",
   "id": "f4143c1d-4f24-4aae-9d6d-98552383c4a6",
   "metadata": {},
   "source": [
    "# Select batch control data for samples"
   ]
  },
  {
   "cell_type": "markdown",
   "id": "18f31246-4851-4a0d-a915-68ec4894d1ad",
   "metadata": {},
   "source": [
    "## Load packages"
   ]
  },
  {
   "cell_type": "code",
   "execution_count": 1,
   "id": "5adb72ac-565d-4960-931c-3803a71e145c",
   "metadata": {
    "tags": []
   },
   "outputs": [],
   "source": [
    "quiet_library <- function(...) { suppressPackageStartupMessages(library(...)) }\n",
    "quiet_library(hise)\n",
    "quiet_library(dplyr)\n",
    "quiet_library(purrr)"
   ]
  },
  {
   "cell_type": "code",
   "execution_count": 2,
   "id": "cd581d53-96b6-4cc8-8ad1-2383a74087ec",
   "metadata": {},
   "outputs": [],
   "source": [
    "if(!dir.exists(\"output\")) {\n",
    "    dir.create(\"output\")\n",
    "}"
   ]
  },
  {
   "cell_type": "code",
   "execution_count": 3,
   "id": "5c6b1dcf-6c5a-4d90-b34f-085c1d705c41",
   "metadata": {},
   "outputs": [],
   "source": [
    "if(!dir.exists(\"batch_control_h5\")) {\n",
    "    dir.create(\"batch_control_h5\")\n",
    "}\n",
    "if(!dir.exists(\"batch_reports\")) {\n",
    "    dir.create(\"batch_reports\")\n",
    "}"
   ]
  },
  {
   "cell_type": "code",
   "execution_count": 4,
   "id": "7f86f942-8638-42e1-8bc5-fb5587a274a4",
   "metadata": {},
   "outputs": [],
   "source": [
    "cache_uuid_path <- function(uuid) {\n",
    "    cache_dir <- paste0(\"cache/\", uuid)\n",
    "    if(!dir.exists(cache_dir)) {\n",
    "        cacheFiles(list(uuid))\n",
    "    }\n",
    "    cache_path <- list.files(cache_dir, full.names = TRUE)[0]\n",
    "    cache_path\n",
    "}"
   ]
  },
  {
   "cell_type": "markdown",
   "id": "63f9e396-c27d-4854-9563-e140cc511c32",
   "metadata": {},
   "source": [
    "## Retreive sample metadata\n",
    "\n",
    "In an earlier step, we assembled and stored sample metadata in HISE. We'll pull this file, and use it to retrieve file for our labeling process."
   ]
  },
  {
   "cell_type": "code",
   "execution_count": 5,
   "id": "2045259e-7a59-4768-809c-d18f1ec63039",
   "metadata": {},
   "outputs": [],
   "source": [
    "sample_meta_uuid <- \"d82c5c42-ae5f-4e67-956e-cd3b7bf88105\""
   ]
  },
  {
   "cell_type": "code",
   "execution_count": 6,
   "id": "e9936013-0f3b-4b47-91c5-d01f8b6c89cb",
   "metadata": {},
   "outputs": [
    {
     "name": "stderr",
     "output_type": "stream",
     "text": [
      "Failed to download files:\n",
      "\n"
     ]
    }
   ],
   "source": [
    "res <- cacheFiles(list(sample_meta_uuid))\n",
    "sample_meta_file <- list.files(\n",
    "    paste0(\"cache/\", sample_meta_uuid), \n",
    "    pattern = \".csv\",\n",
    "    full.names = TRUE\n",
    ")"
   ]
  },
  {
   "cell_type": "code",
   "execution_count": 7,
   "id": "167339bb-3f00-41e5-975b-ff32e63e1135",
   "metadata": {},
   "outputs": [],
   "source": [
    "hise_meta <- read.csv(sample_meta_file)"
   ]
  },
  {
   "cell_type": "code",
   "execution_count": 8,
   "id": "e263fbb7-2b12-42dd-8d7c-a40435e93bfa",
   "metadata": {},
   "outputs": [
    {
     "data": {
      "text/html": [
       "<style>\n",
       ".list-inline {list-style: none; margin:0; padding: 0}\n",
       ".list-inline>li {display: inline-block}\n",
       ".list-inline>li:not(:last-child)::after {content: \"\\00b7\"; padding: 0 .5ex}\n",
       "</style>\n",
       "<ol class=list-inline><li>'B001-P1'</li><li>'B001-P1'</li><li>'B001-P1'</li><li>''</li><li>''</li><li>'B001-P1'</li></ol>\n"
      ],
      "text/latex": [
       "\\begin{enumerate*}\n",
       "\\item 'B001-P1'\n",
       "\\item 'B001-P1'\n",
       "\\item 'B001-P1'\n",
       "\\item ''\n",
       "\\item ''\n",
       "\\item 'B001-P1'\n",
       "\\end{enumerate*}\n"
      ],
      "text/markdown": [
       "1. 'B001-P1'\n",
       "2. 'B001-P1'\n",
       "3. 'B001-P1'\n",
       "4. ''\n",
       "5. ''\n",
       "6. 'B001-P1'\n",
       "\n",
       "\n"
      ],
      "text/plain": [
       "[1] \"B001-P1\" \"B001-P1\" \"B001-P1\" \"\"        \"\"        \"B001-P1\""
      ]
     },
     "metadata": {},
     "output_type": "display_data"
    }
   ],
   "source": [
    "head(hise_meta$file.pool)"
   ]
  },
  {
   "cell_type": "markdown",
   "id": "a95be9db-e455-4733-845b-2dbc96082e71",
   "metadata": {},
   "source": [
    "## Locate batch control data\n",
    "\n",
    "Batch control data are generated using the same subject across all batches. We can locate these datasets using the set of unique Batch IDs in our sample metadata, and select our control subject.subjectGuid values of \"HMN169517\" and \"HMN200910\". There should be one batch control sample for each pool of cells, which means there can be either 1 or 2 control datasets for each batch."
   ]
  },
  {
   "cell_type": "code",
   "execution_count": 9,
   "id": "96b25387-fd75-4014-ab5f-607653a6d2ac",
   "metadata": {},
   "outputs": [
    {
     "data": {
      "text/html": [
       "<style>\n",
       ".list-inline {list-style: none; margin:0; padding: 0}\n",
       ".list-inline>li {display: inline-block}\n",
       ".list-inline>li:not(:last-child)::after {content: \"\\00b7\"; padding: 0 .5ex}\n",
       "</style>\n",
       "<ol class=list-inline><li>'B001'</li><li>'B002'</li><li>'B078'</li><li>'B005'</li><li>'B007'</li><li>'B182'</li></ol>\n"
      ],
      "text/latex": [
       "\\begin{enumerate*}\n",
       "\\item 'B001'\n",
       "\\item 'B002'\n",
       "\\item 'B078'\n",
       "\\item 'B005'\n",
       "\\item 'B007'\n",
       "\\item 'B182'\n",
       "\\end{enumerate*}\n"
      ],
      "text/markdown": [
       "1. 'B001'\n",
       "2. 'B002'\n",
       "3. 'B078'\n",
       "4. 'B005'\n",
       "5. 'B007'\n",
       "6. 'B182'\n",
       "\n",
       "\n"
      ],
      "text/plain": [
       "[1] \"B001\" \"B002\" \"B078\" \"B005\" \"B007\" \"B182\""
      ]
     },
     "metadata": {},
     "output_type": "display_data"
    }
   ],
   "source": [
    "batch_ids <- unique(hise_meta$file.batchID)\n",
    "head(batch_ids)"
   ]
  },
  {
   "cell_type": "code",
   "execution_count": 10,
   "id": "70d29aff-e163-4096-bba4-9983822538a1",
   "metadata": {},
   "outputs": [
    {
     "data": {
      "text/html": [
       "99"
      ],
      "text/latex": [
       "99"
      ],
      "text/markdown": [
       "99"
      ],
      "text/plain": [
       "[1] 99"
      ]
     },
     "metadata": {},
     "output_type": "display_data"
    }
   ],
   "source": [
    "length(batch_ids)"
   ]
  },
  {
   "cell_type": "code",
   "execution_count": 11,
   "id": "a801e86e-d855-466a-88f9-64561a9244af",
   "metadata": {},
   "outputs": [],
   "source": [
    "batch_desc <- getFileDescriptors(\n",
    "    fileType = \"scRNA-seq-labeled\",\n",
    "    filter = list(\n",
    "        file.batchID = batch_ids\n",
    "    )\n",
    ")\n",
    "batch_desc <- fileDescToDataframe(batch_desc)"
   ]
  },
  {
   "cell_type": "code",
   "execution_count": 12,
   "id": "d3cc0afc-92c0-45ac-9138-cc3c7e248f61",
   "metadata": {},
   "outputs": [],
   "source": [
    "control_subjects <- c(\"HMN169517\",\"HMN200910\")"
   ]
  },
  {
   "cell_type": "code",
   "execution_count": 13,
   "id": "1f72a9f4-faf6-4d56-b523-676f9dedba42",
   "metadata": {},
   "outputs": [],
   "source": [
    "control_meta <- batch_desc %>%\n",
    "  filter(subject.subjectGuid %in% control_subjects)"
   ]
  },
  {
   "cell_type": "code",
   "execution_count": 14,
   "id": "d0b52239-29a4-4605-bd48-0387f92fdc01",
   "metadata": {},
   "outputs": [
    {
     "data": {
      "text/html": [
       "178"
      ],
      "text/latex": [
       "178"
      ],
      "text/markdown": [
       "178"
      ],
      "text/plain": [
       "[1] 178"
      ]
     },
     "metadata": {},
     "output_type": "display_data"
    }
   ],
   "source": [
    "nrow(control_meta)"
   ]
  },
  {
   "cell_type": "markdown",
   "id": "8e981d04-9e81-4d1c-8878-2a4dc42d77c8",
   "metadata": {},
   "source": [
    "Are all batches represented?"
   ]
  },
  {
   "cell_type": "code",
   "execution_count": 15,
   "id": "f63755ba-22aa-4dd1-8d9d-7eaef076165e",
   "metadata": {},
   "outputs": [
    {
     "data": {
      "text/html": [
       "0"
      ],
      "text/latex": [
       "0"
      ],
      "text/markdown": [
       "0"
      ],
      "text/plain": [
       "[1] 0"
      ]
     },
     "metadata": {},
     "output_type": "display_data"
    }
   ],
   "source": [
    "length(setdiff(batch_ids, control_meta$file.batchID))"
   ]
  },
  {
   "cell_type": "markdown",
   "id": "c6f8634d-5a69-4d61-9ab4-1f36752e995c",
   "metadata": {},
   "source": [
    "### Refine from batch to pool\n",
    "\n",
    "We can use file names to refine our controls to just the specific pools within our batches that were used for our full dataset."
   ]
  },
  {
   "cell_type": "code",
   "execution_count": 16,
   "id": "183d3ed9-45fb-49d5-b968-4d036a28e4a4",
   "metadata": {},
   "outputs": [],
   "source": [
    "hise_meta$file.pool <- sub(\"_.+\", \"\", basename(hise_meta$file.name))\n",
    "pool_ids <- unique(hise_meta$file.pool)"
   ]
  },
  {
   "cell_type": "code",
   "execution_count": 17,
   "id": "3c71cac2-fdac-4212-8587-3fec228ad758",
   "metadata": {},
   "outputs": [
    {
     "data": {
      "text/html": [
       "143"
      ],
      "text/latex": [
       "143"
      ],
      "text/markdown": [
       "143"
      ],
      "text/plain": [
       "[1] 143"
      ]
     },
     "metadata": {},
     "output_type": "display_data"
    }
   ],
   "source": [
    "length(pool_ids)"
   ]
  },
  {
   "cell_type": "code",
   "execution_count": 18,
   "id": "fe0302b5-c775-47fd-9e64-3cf70f33f535",
   "metadata": {},
   "outputs": [],
   "source": [
    "control_meta$file.pool <- sub(\"_.+\", \"\", basename(control_meta$file.name))\n",
    "control_meta <- control_meta %>%\n",
    "  filter(file.pool %in% pool_ids)"
   ]
  },
  {
   "cell_type": "code",
   "execution_count": 19,
   "id": "d004b644-36fb-464d-929c-51c4ed46a630",
   "metadata": {},
   "outputs": [
    {
     "data": {
      "text/html": [
       "143"
      ],
      "text/latex": [
       "143"
      ],
      "text/markdown": [
       "143"
      ],
      "text/plain": [
       "[1] 143"
      ]
     },
     "metadata": {},
     "output_type": "display_data"
    }
   ],
   "source": [
    "nrow(control_meta)"
   ]
  },
  {
   "cell_type": "code",
   "execution_count": 20,
   "id": "ae9b5b92-8a44-422e-8a80-0885b2af4827",
   "metadata": {},
   "outputs": [
    {
     "data": {
      "text/html": [
       "1"
      ],
      "text/latex": [
       "1"
      ],
      "text/markdown": [
       "1"
      ],
      "text/plain": [
       "[1] 1"
      ]
     },
     "metadata": {},
     "output_type": "display_data"
    }
   ],
   "source": [
    "length(setdiff(pool_ids, control_meta$file.pool))"
   ]
  },
  {
   "cell_type": "code",
   "execution_count": 21,
   "id": "2c646f2f-fe54-48e5-9439-661535d8dfb6",
   "metadata": {},
   "outputs": [
    {
     "data": {
      "text/html": [
       "'B123-P2'"
      ],
      "text/latex": [
       "'B123-P2'"
      ],
      "text/markdown": [
       "'B123-P2'"
      ],
      "text/plain": [
       "[1] \"B123-P2\""
      ]
     },
     "metadata": {},
     "output_type": "display_data"
    }
   ],
   "source": [
    "setdiff(pool_ids, control_meta$file.pool)"
   ]
  },
  {
   "cell_type": "markdown",
   "id": "da4a8def-b850-49ef-a5f9-0607e53b1711",
   "metadata": {},
   "source": [
    "Investigated this batch - looks like P1 and P2 were both labeled as P1. Should be OK for our purposes - may need to provide a description of this discrepency."
   ]
  },
  {
   "cell_type": "markdown",
   "id": "cdf371f7-4335-4306-95a5-838b696c466b",
   "metadata": {},
   "source": [
    "## Retrieve batch control data"
   ]
  },
  {
   "cell_type": "code",
   "execution_count": 22,
   "id": "40fd9e18-1bca-4b2a-88e0-3efcbc8c48c8",
   "metadata": {},
   "outputs": [],
   "source": [
    "res <- map(control_meta$file.id, function(f) { cache_uuid_path(f) })"
   ]
  },
  {
   "cell_type": "markdown",
   "id": "a412bdc4-3986-4991-8068-8000d2cce4c1",
   "metadata": {},
   "source": [
    "## Assemble batch control data"
   ]
  },
  {
   "cell_type": "code",
   "execution_count": 23,
   "id": "78c0dff9-f972-408e-b5e6-844e8969978e",
   "metadata": {},
   "outputs": [],
   "source": [
    "walk2(\n",
    "    control_meta$file.id, control_meta$file.pool,\n",
    "    function(file_id, pool) {\n",
    "        control_file <- list.files(paste0(\"cache/\", file_id), full.names = TRUE)\n",
    "        out_file <- paste0(\"batch_control_h5/\", pool, \"_batch_control.h5\")\n",
    "        file.copy(control_file, out_file)\n",
    "    }\n",
    ")"
   ]
  },
  {
   "cell_type": "code",
   "execution_count": 24,
   "id": "8e5ce3dc-35f2-4ded-81d1-5acc60ebe6b8",
   "metadata": {},
   "outputs": [],
   "source": [
    "control_data_tar <- paste0(\"output/diha_batch_control_h5_\", Sys.Date(), \".tar\")\n",
    "tar_call <- paste(\"tar -cf\", control_data_tar, \"batch_control_h5/*\")\n",
    "system(tar_call)"
   ]
  },
  {
   "cell_type": "markdown",
   "id": "777774f5-6924-4216-9b9d-d258aa41db01",
   "metadata": {},
   "source": [
    "## Locate Pool QC reports\n",
    "\n",
    "QC reports are also generated for every pool we process. To assist in assessing our data quality, we'll retrieve these and bundle them along with our batch controls."
   ]
  },
  {
   "cell_type": "code",
   "execution_count": 25,
   "id": "984669d8-e7c6-450c-acfd-238cb7aacfd7",
   "metadata": {},
   "outputs": [],
   "source": [
    "report_desc <- getFileDescriptors(\n",
    "    fileType = \"scRNA-seq-CellHashing-Main-report\"\n",
    ")\n",
    "report_desc <- fileDescToDataframe(report_desc)"
   ]
  },
  {
   "cell_type": "code",
   "execution_count": 26,
   "id": "917089a7-5439-40be-9cfe-cdbbce090148",
   "metadata": {},
   "outputs": [],
   "source": [
    "report_meta <- report_desc %>%\n",
    "  filter(file.pool %in% pool_ids) %>%\n",
    "  unique()"
   ]
  },
  {
   "cell_type": "code",
   "execution_count": 27,
   "id": "28b4151d-f0cb-4634-be1d-fc3e1fac50c6",
   "metadata": {
    "scrolled": true
   },
   "outputs": [
    {
     "data": {
      "text/html": [
       "156"
      ],
      "text/latex": [
       "156"
      ],
      "text/markdown": [
       "156"
      ],
      "text/plain": [
       "[1] 156"
      ]
     },
     "metadata": {},
     "output_type": "display_data"
    }
   ],
   "source": [
    "nrow(report_meta)"
   ]
  },
  {
   "cell_type": "markdown",
   "id": "a8cc0fce-dc75-46e4-981b-3aa8e62019e4",
   "metadata": {},
   "source": [
    "Some pools are duplicated - let's get the latest version for each pool by sorting on the file.name, which includes a timestamp."
   ]
  },
  {
   "cell_type": "code",
   "execution_count": 28,
   "id": "6539ae5b-53cc-4417-aac7-6a889f979db2",
   "metadata": {},
   "outputs": [],
   "source": [
    "report_meta <- report_meta %>%\n",
    "  arrange(desc(file.name)) %>%\n",
    "  group_by(file.pool) %>%\n",
    "  slice(1) %>%\n",
    "  ungroup()"
   ]
  },
  {
   "cell_type": "code",
   "execution_count": 29,
   "id": "0c5af4db-a1fe-42ce-b630-3e43ae427260",
   "metadata": {},
   "outputs": [
    {
     "data": {
      "text/html": [
       "143"
      ],
      "text/latex": [
       "143"
      ],
      "text/markdown": [
       "143"
      ],
      "text/plain": [
       "[1] 143"
      ]
     },
     "metadata": {},
     "output_type": "display_data"
    }
   ],
   "source": [
    "nrow(report_meta)"
   ]
  },
  {
   "cell_type": "code",
   "execution_count": 30,
   "id": "7e42bc57-7c17-48de-a84d-3168ff1e6706",
   "metadata": {},
   "outputs": [
    {
     "data": {
      "text/html": [
       "0"
      ],
      "text/latex": [
       "0"
      ],
      "text/markdown": [
       "0"
      ],
      "text/plain": [
       "[1] 0"
      ]
     },
     "metadata": {},
     "output_type": "display_data"
    }
   ],
   "source": [
    "length(setdiff(pool_ids, report_meta$file.pool))"
   ]
  },
  {
   "cell_type": "markdown",
   "id": "a85a3d0c-7302-41d1-a064-fb55a809ae13",
   "metadata": {},
   "source": [
    "## Retrieve pool reports"
   ]
  },
  {
   "cell_type": "code",
   "execution_count": 31,
   "id": "099ad69c-fa23-41e8-a193-62394f1334bf",
   "metadata": {},
   "outputs": [],
   "source": [
    "res <- map(report_meta$file.id, function(f) { cache_uuid_path(f) })"
   ]
  },
  {
   "cell_type": "markdown",
   "id": "ee7d94db-813e-4363-a668-2d42ec4f651e",
   "metadata": {},
   "source": [
    "## Assemble batch reports"
   ]
  },
  {
   "cell_type": "code",
   "execution_count": 32,
   "id": "4e0bceb8-a546-466b-9b62-a5665b8b73a3",
   "metadata": {},
   "outputs": [],
   "source": [
    "walk2(\n",
    "    report_meta$file.id, report_meta$file.pool,\n",
    "    function(file_id, pool) {\n",
    "        control_file <- list.files(paste0(\"cache/\", file_id), full.names = TRUE)\n",
    "        out_file <- paste0(\"batch_reports/\", pool, \"_qc_report.html\")\n",
    "        file.copy(control_file, out_file)\n",
    "    }\n",
    ")"
   ]
  },
  {
   "cell_type": "code",
   "execution_count": 33,
   "id": "f625b3ce-cb14-483c-9ef4-48955e0abe42",
   "metadata": {},
   "outputs": [],
   "source": [
    "report_tar <- paste0(\"output/diha_batch_report_html_\", Sys.Date(), \".tar\")\n",
    "tar_call <- paste(\"tar -cf\", report_tar, \"batch_reports/*\")\n",
    "system(tar_call)"
   ]
  },
  {
   "cell_type": "markdown",
   "id": "bd03076e-ce64-4373-ae33-bc79d0ba8174",
   "metadata": {},
   "source": [
    "## Upload data to HISE"
   ]
  },
  {
   "cell_type": "code",
   "execution_count": 34,
   "id": "b8053016-b422-43b2-b742-7ff65f1b32b3",
   "metadata": {
    "tags": []
   },
   "outputs": [],
   "source": [
    "study_space_uuid <- \"de025812-5e73-4b3c-9c3b-6d0eac412f2a\"\n",
    "title <- paste(\"Batch Control Data and QC Reports\", Sys.Date())"
   ]
  },
  {
   "cell_type": "code",
   "execution_count": 35,
   "id": "2fe1be32-eb08-4aa6-b39c-e95f5708d1c9",
   "metadata": {},
   "outputs": [
    {
     "data": {
      "text/html": [
       "'dokos-fazah-fotav'"
      ],
      "text/latex": [
       "'dokos-fazah-fotav'"
      ],
      "text/markdown": [
       "'dokos-fazah-fotav'"
      ],
      "text/plain": [
       "[1] \"dokos-fazah-fotav\""
      ]
     },
     "metadata": {},
     "output_type": "display_data"
    }
   ],
   "source": [
    "search_id <- ids::proquint(n_words = 3)\n",
    "search_id"
   ]
  },
  {
   "cell_type": "code",
   "execution_count": 36,
   "id": "21259ce8-9d61-4b78-b316-f55c0ffdaceb",
   "metadata": {
    "tags": []
   },
   "outputs": [],
   "source": [
    "in_list <- as.list(c(sample_meta_uuid, control_meta$file.id, report_meta$file.id))"
   ]
  },
  {
   "cell_type": "code",
   "execution_count": 37,
   "id": "891df2a9-6e0e-4f5e-98ad-eb86ff401b61",
   "metadata": {
    "tags": []
   },
   "outputs": [],
   "source": [
    "out_list <- list(control_data_tar, report_tar)"
   ]
  },
  {
   "cell_type": "code",
   "execution_count": 38,
   "id": "a97b1e77-89d9-4af1-a3c0-87ed13e53d54",
   "metadata": {},
   "outputs": [
    {
     "data": {
      "text/html": [
       "<ol>\n",
       "\t<li>'output/diha_batch_control_h5_2024-08-09.tar'</li>\n",
       "\t<li>'output/diha_batch_report_html_2024-08-09.tar'</li>\n",
       "</ol>\n"
      ],
      "text/latex": [
       "\\begin{enumerate}\n",
       "\\item 'output/diha\\_batch\\_control\\_h5\\_2024-08-09.tar'\n",
       "\\item 'output/diha\\_batch\\_report\\_html\\_2024-08-09.tar'\n",
       "\\end{enumerate}\n"
      ],
      "text/markdown": [
       "1. 'output/diha_batch_control_h5_2024-08-09.tar'\n",
       "2. 'output/diha_batch_report_html_2024-08-09.tar'\n",
       "\n",
       "\n"
      ],
      "text/plain": [
       "[[1]]\n",
       "[1] \"output/diha_batch_control_h5_2024-08-09.tar\"\n",
       "\n",
       "[[2]]\n",
       "[1] \"output/diha_batch_report_html_2024-08-09.tar\"\n"
      ]
     },
     "metadata": {},
     "output_type": "display_data"
    }
   ],
   "source": [
    "out_list"
   ]
  },
  {
   "cell_type": "code",
   "execution_count": 41,
   "id": "581a8c91-9fd1-4c8a-b210-75697ea01d6f",
   "metadata": {
    "scrolled": true,
    "tags": []
   },
   "outputs": [
    {
     "name": "stderr",
     "output_type": "stream",
     "text": [
      "You are trying to upload the following files:  output/diha_batch_control_h5_2024-08-09.tar output/diha_batch_report_html_2024-08-09.tar\n",
      "\n"
     ]
    },
    {
     "name": "stdin",
     "output_type": "stream",
     "text": [
      "(y/n) y\n"
     ]
    },
    {
     "name": "stdout",
     "output_type": "stream",
     "text": [
      "[1] \"Authorization token invalid or expired.\"\n",
      "[1] \"Retrying...\"\n"
     ]
    },
    {
     "data": {
      "text/html": [
       "<dl>\n",
       "\t<dt>$files</dt>\n",
       "\t\t<dd><ol>\n",
       "\t<li>'output/diha_batch_control_h5_2024-08-09.tar'</li>\n",
       "\t<li>'output/diha_batch_report_html_2024-08-09.tar'</li>\n",
       "</ol>\n",
       "</dd>\n",
       "\t<dt>$traceId</dt>\n",
       "\t\t<dd>'f6f2f88b-e686-4215-ac9b-0ada3bbf7d0b'</dd>\n",
       "</dl>\n"
      ],
      "text/latex": [
       "\\begin{description}\n",
       "\\item[\\$files] \\begin{enumerate}\n",
       "\\item 'output/diha\\_batch\\_control\\_h5\\_2024-08-09.tar'\n",
       "\\item 'output/diha\\_batch\\_report\\_html\\_2024-08-09.tar'\n",
       "\\end{enumerate}\n",
       "\n",
       "\\item[\\$traceId] 'f6f2f88b-e686-4215-ac9b-0ada3bbf7d0b'\n",
       "\\end{description}\n"
      ],
      "text/markdown": [
       "$files\n",
       ":   1. 'output/diha_batch_control_h5_2024-08-09.tar'\n",
       "2. 'output/diha_batch_report_html_2024-08-09.tar'\n",
       "\n",
       "\n",
       "\n",
       "$traceId\n",
       ":   'f6f2f88b-e686-4215-ac9b-0ada3bbf7d0b'\n",
       "\n",
       "\n"
      ],
      "text/plain": [
       "$files\n",
       "$files[[1]]\n",
       "[1] \"output/diha_batch_control_h5_2024-08-09.tar\"\n",
       "\n",
       "$files[[2]]\n",
       "[1] \"output/diha_batch_report_html_2024-08-09.tar\"\n",
       "\n",
       "\n",
       "$traceId\n",
       "[1] \"f6f2f88b-e686-4215-ac9b-0ada3bbf7d0b\"\n"
      ]
     },
     "metadata": {},
     "output_type": "display_data"
    }
   ],
   "source": [
    "uploadFiles(\n",
    "    files = out_list,\n",
    "    studySpaceId = study_space_uuid,\n",
    "    title = title,\n",
    "    inputFileIds = in_list,\n",
    "    store = \"project\",\n",
    "    destination = search_id\n",
    ")"
   ]
  },
  {
   "cell_type": "code",
   "execution_count": 40,
   "id": "e582811f-d8de-4072-a74c-dcfb0f313767",
   "metadata": {},
   "outputs": [
    {
     "data": {
      "text/plain": [
       "R version 4.3.2 (2023-10-31)\n",
       "Platform: x86_64-conda-linux-gnu (64-bit)\n",
       "Running under: Ubuntu 20.04.6 LTS\n",
       "\n",
       "Matrix products: default\n",
       "BLAS/LAPACK: /opt/conda/lib/libopenblasp-r0.3.25.so;  LAPACK version 3.11.0\n",
       "\n",
       "locale:\n",
       " [1] LC_CTYPE=C.UTF-8       LC_NUMERIC=C           LC_TIME=C.UTF-8       \n",
       " [4] LC_COLLATE=C.UTF-8     LC_MONETARY=C.UTF-8    LC_MESSAGES=C.UTF-8   \n",
       " [7] LC_PAPER=C.UTF-8       LC_NAME=C              LC_ADDRESS=C          \n",
       "[10] LC_TELEPHONE=C         LC_MEASUREMENT=C.UTF-8 LC_IDENTIFICATION=C   \n",
       "\n",
       "time zone: Etc/UTC\n",
       "tzcode source: system (glibc)\n",
       "\n",
       "attached base packages:\n",
       "[1] stats     graphics  grDevices utils     datasets  methods   base     \n",
       "\n",
       "other attached packages:\n",
       "[1] purrr_1.0.2 dplyr_1.1.4 hise_2.16.0\n",
       "\n",
       "loaded via a namespace (and not attached):\n",
       " [1] ids_1.0.1         crayon_1.5.2      vctrs_0.6.5       httr_1.4.7       \n",
       " [5] cli_3.6.3         rlang_1.1.4       stringi_1.8.3     generics_0.1.3   \n",
       " [9] assertthat_0.2.1  jsonlite_1.8.8    glue_1.7.0        RCurl_1.98-1.14  \n",
       "[13] plyr_1.8.9        htmltools_0.5.8.1 IRdisplay_1.1     IRkernel_1.3.2   \n",
       "[17] fansi_1.0.6       evaluate_0.24.0   tibble_3.2.1      bitops_1.0-7     \n",
       "[21] fastmap_1.2.0     base64enc_0.1-3   lifecycle_1.0.4   stringr_1.5.1    \n",
       "[25] compiler_4.3.2    Rcpp_1.0.12       pkgconfig_2.0.3   pbdZMQ_0.3-10    \n",
       "[29] digest_0.6.36     R6_2.5.1          repr_1.1.7        tidyselect_1.2.0 \n",
       "[33] utf8_1.2.4        curl_5.1.0        pillar_1.9.0      magrittr_2.0.3   \n",
       "[37] uuid_1.2-0        tools_4.3.2      "
      ]
     },
     "metadata": {},
     "output_type": "display_data"
    }
   ],
   "source": [
    "sessionInfo()"
   ]
  },
  {
   "cell_type": "code",
   "execution_count": null,
   "id": "61def613-3746-4fed-b87f-93c19f157e77",
   "metadata": {},
   "outputs": [],
   "source": []
  }
 ],
 "metadata": {
  "environment": {
   "kernel": "ir4",
   "name": ".m123",
   "type": "gcloud",
   "uri": "us-docker.pkg.dev/deeplearning-platform-release/gcr.io/:m123"
  },
  "kernelspec": {
   "display_name": "R 4",
   "language": "R",
   "name": "ir4"
  },
  "language_info": {
   "codemirror_mode": "r",
   "file_extension": ".r",
   "mimetype": "text/x-r-source",
   "name": "R",
   "pygments_lexer": "r",
   "version": "4.3.2"
  }
 },
 "nbformat": 4,
 "nbformat_minor": 5
}
