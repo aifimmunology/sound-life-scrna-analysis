{
 "cells": [
  {
   "cell_type": "markdown",
   "id": "a9547939-da7a-456d-9ef6-a6f684b41dd4",
   "metadata": {},
   "source": [
    "# Assemble Cell Class .h5ad files\n",
    "\n",
    "To release our scRNA-seq data, we'll assemble labeled data from samples in groups based on major cell class. Due to the size of some cell classes, we'll divide them slightly differently from AIFI_L1 levels:\n",
    "\n",
    "- CD4 Naive T cells\n",
    "- CD4 Memory T cells\n",
    "- CD8 T cells\n",
    "- Other T cells (MAIT, Treg, dnT, gdT, Proliferating)\n",
    "- NK cells and ILC\n",
    "- B cells and Plasmablasts\n",
    "- Monocytes and DCs\n",
    "- Other cell types\n",
    "\n",
    "Users who want the whole set will be able to download each of these files and assemble them."
   ]
  },
  {
   "cell_type": "code",
   "execution_count": 1,
   "id": "7f74477c-75de-4516-885e-0ade9c68b47a",
   "metadata": {},
   "outputs": [],
   "source": [
    "from datetime import date\n",
    "import hisepy\n",
    "import os\n",
    "import pandas as pd\n",
    "import scanpy as sc\n",
    "import re\n",
    "import tarfile"
   ]
  },
  {
   "cell_type": "code",
   "execution_count": 2,
   "id": "f724067d-3fa1-4a58-a65d-87c80820b998",
   "metadata": {},
   "outputs": [],
   "source": [
    "if not os.path.isdir('output'):\n",
    "    os.mkdir('output')"
   ]
  },
  {
   "cell_type": "code",
   "execution_count": 3,
   "id": "41e7e09b-7c5b-494e-90a4-a3372044fef6",
   "metadata": {},
   "outputs": [],
   "source": [
    "if not os.path.isdir('split_h5ad'):\n",
    "    os.mkdir('split_h5ad')"
   ]
  },
  {
   "cell_type": "markdown",
   "id": "bc30df2c-9f71-47a7-b157-8163a8a9ad33",
   "metadata": {},
   "source": [
    "## Helper functions"
   ]
  },
  {
   "cell_type": "code",
   "execution_count": 4,
   "id": "a254cd9f-d7e1-423b-a09c-d620ef79bdc6",
   "metadata": {},
   "outputs": [],
   "source": [
    "def find_stored_files(search_id, store = 'Service_Core'):\n",
    "    ps_df = hisepy.list_files_in_project_store(store)\n",
    "    ps_df = ps_df[['id', 'name']]\n",
    "    search_df = ps_df[ps_df['name'].str.contains(search_id)]\n",
    "    \n",
    "    return search_df"
   ]
  },
  {
   "cell_type": "code",
   "execution_count": 5,
   "id": "357e1c62-ba00-4f8c-a083-cc40b97f2292",
   "metadata": {},
   "outputs": [],
   "source": [
    "def cache_uuid_path(uuid):\n",
    "    cache_path = '/home/jupyter/cache/{u}'.format(u = uuid)\n",
    "    if not os.path.isdir(cache_path):\n",
    "        hise_res = hisepy.reader.cache_files([uuid])\n",
    "    filename = os.listdir(cache_path)[0]\n",
    "    cache_file = '{p}/{f}'.format(p = cache_path, f = filename)\n",
    "    return cache_file"
   ]
  },
  {
   "cell_type": "code",
   "execution_count": 32,
   "id": "99c3cbed-a331-4429-985c-8273d9a3082f",
   "metadata": {},
   "outputs": [],
   "source": [
    "def element_id(n = 3):\n",
    "    import periodictable\n",
    "    from random import randrange\n",
    "    rand_el = []\n",
    "    for i in range(n):\n",
    "        el = randrange(0,118)\n",
    "        rand_el.append(periodictable.elements[el].name)\n",
    "    rand_str = '-'.join(rand_el)\n",
    "    return rand_str"
   ]
  },
  {
   "cell_type": "code",
   "execution_count": 6,
   "id": "47ce4729-427f-4a19-9f29-22a399931faa",
   "metadata": {},
   "outputs": [],
   "source": [
    "cohort_file_dict = {\n",
    "    'BR1': 'SoundLife_YoungAdult',\n",
    "    'BR2': 'SoundLife_OlderAdult'\n",
    "}\n",
    "cohort_name_dict = {\n",
    "    'BR1': 'Sound Life Young Adult',\n",
    "    'BR2': 'Sound Life Older Adult'\n",
    "}"
   ]
  },
  {
   "cell_type": "markdown",
   "id": "2599c854-2654-4671-8348-458b8931155e",
   "metadata": {},
   "source": [
    "## Find labeled data in HISE"
   ]
  },
  {
   "cell_type": "code",
   "execution_count": 7,
   "id": "024d367a-822a-491b-99ce-6c3312861519",
   "metadata": {},
   "outputs": [],
   "source": [
    "search_id = 'polonium-tin-curium'"
   ]
  },
  {
   "cell_type": "code",
   "execution_count": 8,
   "id": "08905067-ef2e-4c99-94e7-99932fe0d40d",
   "metadata": {},
   "outputs": [],
   "source": [
    "search_df = find_stored_files(search_id, 'cohorts')"
   ]
  },
  {
   "cell_type": "markdown",
   "id": "30d0ee9f-5643-4df7-a9b9-ca94a24dcd1c",
   "metadata": {},
   "source": [
    "## Assign cell type groups"
   ]
  },
  {
   "cell_type": "code",
   "execution_count": 9,
   "id": "7559dd9c-785f-48af-be09-5eccba82bb73",
   "metadata": {},
   "outputs": [],
   "source": [
    "pq_df = search_df[search_df['name'].str.contains('.parquet')].copy()\n",
    "pq_df = pq_df.reset_index(drop = True)"
   ]
  },
  {
   "cell_type": "code",
   "execution_count": 10,
   "id": "c439d1a3-8c40-435a-baee-f2b2f5451f9c",
   "metadata": {},
   "outputs": [],
   "source": [
    "all_df = pq_df[pq_df['name'].str.contains('all')]"
   ]
  },
  {
   "cell_type": "code",
   "execution_count": 11,
   "id": "17b8e286-7460-4b79-804f-2796a085f260",
   "metadata": {},
   "outputs": [],
   "source": [
    "meta_uuid = all_df['id'].iloc[0]\n",
    "meta_file = cache_uuid_path(meta_uuid)\n",
    "meta = pd.read_parquet(meta_file)"
   ]
  },
  {
   "cell_type": "code",
   "execution_count": 12,
   "id": "9b9cea2a-6a9d-4973-8b40-684f1b6cfd74",
   "metadata": {},
   "outputs": [],
   "source": [
    "l2_groups = {\n",
    "\t'Naive CD4 T cell': 't_cd4_naive',\n",
    "\t'Memory CD4 T cell': 't_cd4_memory',\n",
    "\t'CD14 monocyte':  'dc_monocyte',\n",
    "\t'Memory CD8 T cell': 't_cd8',\n",
    "\t'CD56dim NK cell': 'nk',\n",
    "\t'Naive CD8 T cell': 't_cd8',\n",
    "\t'Naive B cell': 'b_plasma',\n",
    "\t'Memory B cell': 'b_plasma',\n",
    "\t'MAIT': 't_other',\n",
    "\t'CD16 monocyte': 'dc_monocyte',\n",
    "\t'gdT': 't_other',\n",
    "\t'Treg': 't_other',\n",
    "\t'cDC2': 'dc_monocyte',\n",
    "\t'Intermediate monocyte': 'dc_monocyte',\n",
    "\t'CD56bright NK cell': 'nk',\n",
    "\t'Transitional B cell': 'b_plasma',\n",
    "\t'Effector B cell': 'b_plasma',\n",
    "\t'Platelet': 'other',\n",
    "\t'pDC': 'dc_monocyte',\n",
    "\t'CD8aa': 't_cd8',\n",
    "\t'Proliferating NK cell': 'nk',\n",
    "\t'Proliferating T cell': 't_other',\n",
    "\t'Erythrocyte': 'other',\n",
    "\t'DN T cell': 't_other',\n",
    "\t'Plasma cell': 'b_plasma',\n",
    "\t'Progenitor cell': 'other',\n",
    "\t'cDC1': 'dc_monocyte',\n",
    "\t'ILC': 'other',\n",
    "\t'ASDC': 'other'\n",
    "}"
   ]
  },
  {
   "cell_type": "code",
   "execution_count": 13,
   "id": "7520e1d2-a1c2-4cc9-bb2b-4b45b97bd8b9",
   "metadata": {},
   "outputs": [],
   "source": [
    "cell_groups = []\n",
    "\n",
    "l2_list = meta['AIFI_L2'].tolist()\n",
    "cohort_list = meta['cohort.cohortGuid'].tolist()\n",
    "\n",
    "for i in range(meta.shape[0]):\n",
    "    l2_type = l2_list[i]\n",
    "    cohort = cohort_list[i]\n",
    "\n",
    "    type_group = l2_groups[l2_type]\n",
    "    #age_group = cohort_file_dict[cohort]\n",
    "    #cell_group = f'{age_group}_{type_group}'\n",
    "    cell_groups.append(type_group)\n",
    "\n",
    "meta['cell_group'] = cell_groups"
   ]
  },
  {
   "cell_type": "code",
   "execution_count": 14,
   "id": "2ac33dfd-4827-4da5-a090-fed45de63c4e",
   "metadata": {},
   "outputs": [
    {
     "data": {
      "text/plain": [
       "cell_group\n",
       "t_cd4_naive     2839099\n",
       "dc_monocyte     2643674\n",
       "t_cd4_memory    2640499\n",
       "t_cd8           2264102\n",
       "b_plasma        1210764\n",
       "nk              1114975\n",
       "t_other          987870\n",
       "other             94244\n",
       "Name: count, dtype: int64"
      ]
     },
     "execution_count": 14,
     "metadata": {},
     "output_type": "execute_result"
    }
   ],
   "source": [
    "meta['cell_group'].value_counts()"
   ]
  },
  {
   "cell_type": "code",
   "execution_count": 15,
   "id": "a87157ef-eba8-49c3-9b8b-a890ab95d119",
   "metadata": {},
   "outputs": [
    {
     "data": {
      "text/plain": [
       "13795227"
      ]
     },
     "execution_count": 15,
     "metadata": {},
     "output_type": "execute_result"
    }
   ],
   "source": [
    "sum(meta['cell_group'].value_counts())"
   ]
  },
  {
   "cell_type": "code",
   "execution_count": 16,
   "id": "5f96787e-2438-476a-8a2e-f487850ac0ac",
   "metadata": {},
   "outputs": [],
   "source": [
    "sample_meta = meta.groupby('specimen.specimenGuid')"
   ]
  },
  {
   "cell_type": "code",
   "execution_count": 17,
   "id": "dbc2f544-3cd4-4dde-bad0-67ea48820b8b",
   "metadata": {},
   "outputs": [],
   "source": [
    "sample_meta_dict = {key1: group for key1, group in sample_meta}"
   ]
  },
  {
   "cell_type": "code",
   "execution_count": 18,
   "id": "2f5e626e-e533-4d17-83df-779be1ac23b0",
   "metadata": {},
   "outputs": [],
   "source": [
    "cell_group_dict = {}\n",
    "for sample_id, sample_meta in sample_meta_dict.items():\n",
    "    cell_group_df = sample_meta[['barcodes', 'cell_group']]\n",
    "    cell_group_dict[sample_id] = cell_group_df"
   ]
  },
  {
   "cell_type": "markdown",
   "id": "c7bde617-04c6-4883-b11b-442530a3dc57",
   "metadata": {},
   "source": [
    "## Iterate over tar files to split .h5ads"
   ]
  },
  {
   "cell_type": "code",
   "execution_count": 19,
   "id": "9c9dfc8b-762d-4982-a4d3-0a19ce6d7d62",
   "metadata": {},
   "outputs": [],
   "source": [
    "cell_groups = meta['cell_group'].unique().tolist()"
   ]
  },
  {
   "cell_type": "code",
   "execution_count": 20,
   "id": "64c26348-1659-4a18-9c32-295bf85c4ea8",
   "metadata": {},
   "outputs": [],
   "source": [
    "for cell_group in cell_groups:\n",
    "    if not os.path.isdir(f'split_h5ad/{cell_group}'):\n",
    "        os.mkdir(f'split_h5ad/{cell_group}')"
   ]
  },
  {
   "cell_type": "code",
   "execution_count": 21,
   "id": "84d34d31-299a-47b2-b96d-812326dee26c",
   "metadata": {},
   "outputs": [],
   "source": [
    "tar_df = search_df[search_df['name'].str.contains('.h5ad')].copy()"
   ]
  },
  {
   "cell_type": "code",
   "execution_count": 22,
   "id": "ce47f2c6-b732-4846-9fc2-6242c460d3c0",
   "metadata": {},
   "outputs": [
    {
     "name": "stderr",
     "output_type": "stream",
     "text": [
      "/opt/conda/lib/python3.10/site-packages/anndata/_core/anndata.py:183: ImplicitModificationWarning: Transforming to str index.\n",
      "  warnings.warn(\"Transforming to str index.\", ImplicitModificationWarning)\n"
     ]
    }
   ],
   "source": [
    " for i in range(tar_df.shape[0]):\n",
    "    tar_uuid = tar_df['id'].iloc[i]\n",
    "    tar_path = cache_uuid_path(tar_uuid)\n",
    "\n",
    "    tar = tarfile.TarFile(tar_path)\n",
    "    tar.extractall()\n",
    "\n",
    "    sample_h5ad_files = ['sample_h5ad/' + f for f in os.listdir('sample_h5ad')]\n",
    "    \n",
    "    for h5ad_file in sample_h5ad_files:\n",
    "        sample_adata = sc.read_h5ad(h5ad_file)\n",
    "        sample_id = sample_adata.obs['specimen.specimenGuid'].tolist()[0]\n",
    "        cell_group_df = cell_group_dict[sample_id]\n",
    "\n",
    "        obs = sample_adata.obs.copy()\n",
    "        obs = obs.reset_index(drop = True)\n",
    "        obs['subject.ageGroup'] = [cohort_name_dict[x] for x in obs['cohort.cohortGuid']]\n",
    "        obs = obs.merge(cell_group_df, how = 'left', on = 'barcodes')\n",
    "        obs = obs.set_index('barcodes', drop = False)\n",
    "        \n",
    "        sample_adata.obs = obs\n",
    "        \n",
    "        for cell_group in cell_groups:\n",
    "            out_file = f'split_h5ad/{cell_group}/{sample_id}.h5ad'\n",
    "            group_adata = sample_adata[sample_adata.obs['cell_group'] == cell_group].copy()\n",
    "            group_adata.write_h5ad(out_file)\n",
    "\n",
    "    os.system('rm -r sample_h5ad')"
   ]
  },
  {
   "cell_type": "markdown",
   "id": "b80602c7-8101-4c80-a342-1aafce55782f",
   "metadata": {},
   "source": [
    "## Assemble data for each cell group"
   ]
  },
  {
   "cell_type": "code",
   "execution_count": 23,
   "id": "0dccea18-1447-4109-b898-76af6b1acd6f",
   "metadata": {},
   "outputs": [
    {
     "data": {
      "text/plain": [
       "['b_plasma',\n",
       " 't_cd8',\n",
       " 'nk',\n",
       " 'other',\n",
       " 't_other',\n",
       " 't_cd4_memory',\n",
       " 't_cd4_naive',\n",
       " 'dc_monocyte']"
      ]
     },
     "execution_count": 23,
     "metadata": {},
     "output_type": "execute_result"
    }
   ],
   "source": [
    "cell_groups"
   ]
  },
  {
   "cell_type": "code",
   "execution_count": 36,
   "id": "435f5113-60e4-4aae-9d03-5174a838c5b6",
   "metadata": {},
   "outputs": [
    {
     "name": "stderr",
     "output_type": "stream",
     "text": [
      "/opt/conda/lib/python3.10/site-packages/anndata/_core/anndata.py:183: ImplicitModificationWarning: Transforming to str index.\n",
      "  warnings.warn(\"Transforming to str index.\", ImplicitModificationWarning)\n",
      "/opt/conda/lib/python3.10/site-packages/anndata/_core/merge.py:1259: FutureWarning: The behavior of DataFrame concatenation with empty or all-NA entries is deprecated. In a future version, this will no longer exclude empty or all-NA columns when determining the result dtypes. To retain the old behavior, exclude the relevant entries before the concat operation.\n",
      "  concat_annot = pd.concat(\n"
     ]
    }
   ],
   "source": [
    "out_files = []\n",
    "for cell_group in cell_groups:\n",
    "    group_path = f'split_h5ad/{cell_group}/'\n",
    "    group_h5ad_files = [group_path + f for f in os.listdir(group_path)]\n",
    "\n",
    "    group_adata_list = []\n",
    "    for sample_h5ad in group_h5ad_files:\n",
    "        sample_adata = sc.read_h5ad(sample_h5ad)\n",
    "        group_adata_list.append(sample_adata)\n",
    "    group_adata = sc.concat(group_adata_list)\n",
    "    group_adata.obs = group_adata.obs.drop('cell_group', axis = 1)\n",
    "    \n",
    "    out_file = f'output/SoundLife_{cell_group}.h5ad'\n",
    "    group_adata.write_h5ad(out_file)\n",
    "    out_files.append(out_file)"
   ]
  },
  {
   "cell_type": "markdown",
   "id": "7f9576c1-ba5e-401e-99ea-546a7872b07a",
   "metadata": {},
   "source": [
    "## Upload .h5ad data to HISE\n",
    "\n",
    "Finally, we'll use `hisepy.upload.upload_files()` to send a copy of our output to HISE to use for downstream analysis steps."
   ]
  },
  {
   "cell_type": "code",
   "execution_count": 37,
   "id": "f5d804d7-c579-416e-9c54-e27948c81fa5",
   "metadata": {},
   "outputs": [],
   "source": [
    "study_space_uuid = 'de025812-5e73-4b3c-9c3b-6d0eac412f2a'\n",
    "title = 'DIHA .h5ad file sets: Cell Class Groups {d}'.format(d = date.today())"
   ]
  },
  {
   "cell_type": "code",
   "execution_count": 38,
   "id": "382d2631-979d-4215-9edf-c56123652ade",
   "metadata": {},
   "outputs": [
    {
     "data": {
      "text/plain": [
       "'uranium-dubnium-actinium'"
      ]
     },
     "execution_count": 38,
     "metadata": {},
     "output_type": "execute_result"
    }
   ],
   "source": [
    "search_id = element_id()\n",
    "search_id"
   ]
  },
  {
   "cell_type": "code",
   "execution_count": 39,
   "id": "6c647f3d-a2f4-42c4-b4c7-87005cb19dda",
   "metadata": {},
   "outputs": [
    {
     "data": {
      "text/plain": [
       "['04666e28-8443-4a51-8670-f409a7b5afe5',\n",
       " 'ae2996c3-eab5-4d61-a997-084351727413',\n",
       " 'b8f48340-ec96-4ed9-bad1-23fcb1a64e70',\n",
       " '11d754d9-0323-400b-8c47-8b9193d254d6',\n",
       " '6c6c9bbb-ac49-42f1-9e4f-f6a00766f331',\n",
       " '712082ed-2fe2-4121-9f89-7f732b4a58a7',\n",
       " 'e1fe73c4-44d1-4092-ba72-72c5efe657d1',\n",
       " 'dd3c4973-439f-4987-ac52-12cd86b31021']"
      ]
     },
     "execution_count": 39,
     "metadata": {},
     "output_type": "execute_result"
    }
   ],
   "source": [
    "in_files = tar_df['id'].tolist()\n",
    "in_files"
   ]
  },
  {
   "cell_type": "code",
   "execution_count": 40,
   "id": "45785730-5c6e-43e0-adf5-1f0a55802179",
   "metadata": {},
   "outputs": [
    {
     "data": {
      "text/plain": [
       "['output/SoundLife_b_plasma.h5ad',\n",
       " 'output/SoundLife_t_cd8.h5ad',\n",
       " 'output/SoundLife_nk.h5ad',\n",
       " 'output/SoundLife_other.h5ad',\n",
       " 'output/SoundLife_t_other.h5ad',\n",
       " 'output/SoundLife_t_cd4_memory.h5ad',\n",
       " 'output/SoundLife_t_cd4_naive.h5ad',\n",
       " 'output/SoundLife_dc_monocyte.h5ad']"
      ]
     },
     "execution_count": 40,
     "metadata": {},
     "output_type": "execute_result"
    }
   ],
   "source": [
    "out_files"
   ]
  },
  {
   "cell_type": "code",
   "execution_count": 41,
   "id": "63acb64d-cb23-4d57-94b2-1bf05716048c",
   "metadata": {},
   "outputs": [
    {
     "data": {
      "text/plain": [
       "8"
      ]
     },
     "execution_count": 41,
     "metadata": {},
     "output_type": "execute_result"
    }
   ],
   "source": [
    "len(out_files)"
   ]
  },
  {
   "cell_type": "code",
   "execution_count": 42,
   "id": "03eba44e-c150-45c0-888d-45eea926d2ad",
   "metadata": {},
   "outputs": [
    {
     "name": "stdout",
     "output_type": "stream",
     "text": [
      "you are trying to upload file_ids... ['output/SoundLife_b_plasma.h5ad', 'output/SoundLife_t_cd8.h5ad', 'output/SoundLife_nk.h5ad', 'output/SoundLife_other.h5ad', 'output/SoundLife_t_other.h5ad', 'output/SoundLife_t_cd4_memory.h5ad', 'output/SoundLife_t_cd4_naive.h5ad', 'output/SoundLife_dc_monocyte.h5ad']. Do you truly want to proceed?\n"
     ]
    },
    {
     "name": "stdin",
     "output_type": "stream",
     "text": [
      "(y/n) y\n"
     ]
    },
    {
     "data": {
      "text/plain": [
       "{'trace_id': 'b636c8e4-cc32-45fb-ba5c-30eda7303442',\n",
       " 'files': ['output/SoundLife_b_plasma.h5ad',\n",
       "  'output/SoundLife_t_cd8.h5ad',\n",
       "  'output/SoundLife_nk.h5ad',\n",
       "  'output/SoundLife_other.h5ad',\n",
       "  'output/SoundLife_t_other.h5ad',\n",
       "  'output/SoundLife_t_cd4_memory.h5ad',\n",
       "  'output/SoundLife_t_cd4_naive.h5ad',\n",
       "  'output/SoundLife_dc_monocyte.h5ad']}"
      ]
     },
     "execution_count": 42,
     "metadata": {},
     "output_type": "execute_result"
    }
   ],
   "source": [
    "hisepy.upload.upload_files(\n",
    "    files = out_files,\n",
    "    study_space_id = study_space_uuid,\n",
    "    title = title,\n",
    "    input_file_ids = in_files,\n",
    "    destination = search_id\n",
    ")"
   ]
  },
  {
   "cell_type": "code",
   "execution_count": 43,
   "id": "db3222a0-1838-4a84-aec0-6b57b85c0f6d",
   "metadata": {},
   "outputs": [
    {
     "data": {
      "text/html": [
       "<details>\n",
       "<summary>Click to view session information</summary>\n",
       "<pre>\n",
       "-----\n",
       "anndata             0.10.3\n",
       "hisepy              0.3.0\n",
       "pandas              2.1.4\n",
       "scanpy              1.9.6\n",
       "session_info        1.0.0\n",
       "-----\n",
       "</pre>\n",
       "<details>\n",
       "<summary>Click to view modules imported as dependencies</summary>\n",
       "<pre>\n",
       "PIL                         10.0.1\n",
       "anyio                       NA\n",
       "arrow                       1.3.0\n",
       "asttokens                   NA\n",
       "attr                        23.2.0\n",
       "attrs                       23.2.0\n",
       "babel                       2.14.0\n",
       "beatrix_jupyterlab          NA\n",
       "brotli                      NA\n",
       "cachetools                  5.3.1\n",
       "certifi                     2024.06.02\n",
       "cffi                        1.16.0\n",
       "charset_normalizer          3.3.2\n",
       "cloudpickle                 2.2.1\n",
       "colorama                    0.4.6\n",
       "comm                        0.1.4\n",
       "cryptography                41.0.7\n",
       "cycler                      0.10.0\n",
       "cython_runtime              NA\n",
       "dateutil                    2.8.2\n",
       "db_dtypes                   1.1.1\n",
       "debugpy                     1.8.0\n",
       "decorator                   5.1.1\n",
       "defusedxml                  0.7.1\n",
       "deprecated                  1.2.14\n",
       "exceptiongroup              1.2.0\n",
       "executing                   2.0.1\n",
       "fastjsonschema              NA\n",
       "fqdn                        NA\n",
       "google                      NA\n",
       "greenlet                    2.0.2\n",
       "grpc                        1.58.0\n",
       "grpc_status                 NA\n",
       "h5py                        3.10.0\n",
       "idna                        3.6\n",
       "igraph                      0.10.8\n",
       "importlib_metadata          NA\n",
       "ipykernel                   6.28.0\n",
       "ipython_genutils            0.2.0\n",
       "ipywidgets                  8.1.1\n",
       "isoduration                 NA\n",
       "jedi                        0.19.1\n",
       "jinja2                      3.1.2\n",
       "joblib                      1.3.2\n",
       "json5                       NA\n",
       "jsonpointer                 2.4\n",
       "jsonschema                  4.20.0\n",
       "jsonschema_specifications   NA\n",
       "jupyter_events              0.9.0\n",
       "jupyter_server              2.12.1\n",
       "jupyterlab_server           2.27.2\n",
       "jwt                         2.8.0\n",
       "kiwisolver                  1.4.5\n",
       "leidenalg                   0.10.1\n",
       "llvmlite                    0.41.0\n",
       "lz4                         4.3.2\n",
       "markupsafe                  2.1.3\n",
       "matplotlib                  3.8.0\n",
       "matplotlib_inline           0.1.6\n",
       "mpl_toolkits                NA\n",
       "mpmath                      1.3.0\n",
       "natsort                     8.4.0\n",
       "nbformat                    5.9.2\n",
       "numba                       0.58.0\n",
       "numpy                       1.24.0\n",
       "opentelemetry               NA\n",
       "overrides                   NA\n",
       "packaging                   23.2\n",
       "parso                       0.8.3\n",
       "periodictable               1.5.2\n",
       "pexpect                     4.8.0\n",
       "pickleshare                 0.7.5\n",
       "pkg_resources               NA\n",
       "platformdirs                4.1.0\n",
       "plotly                      5.18.0\n",
       "prettytable                 3.9.0\n",
       "prometheus_client           NA\n",
       "prompt_toolkit              3.0.42\n",
       "proto                       NA\n",
       "psutil                      NA\n",
       "ptyprocess                  0.7.0\n",
       "pure_eval                   0.2.2\n",
       "pyarrow                     13.0.0\n",
       "pydev_ipython               NA\n",
       "pydevconsole                NA\n",
       "pydevd                      2.9.5\n",
       "pydevd_file_utils           NA\n",
       "pydevd_plugins              NA\n",
       "pydevd_tracing              NA\n",
       "pygments                    2.17.2\n",
       "pynvml                      NA\n",
       "pyparsing                   3.1.1\n",
       "pyreadr                     0.5.0\n",
       "pythonjsonlogger            NA\n",
       "pytz                        2023.3.post1\n",
       "referencing                 NA\n",
       "requests                    2.31.0\n",
       "rfc3339_validator           0.1.4\n",
       "rfc3986_validator           0.1.1\n",
       "rpds                        NA\n",
       "scipy                       1.11.4\n",
       "send2trash                  NA\n",
       "shapely                     1.8.5.post1\n",
       "six                         1.16.0\n",
       "sklearn                     1.3.2\n",
       "sniffio                     1.3.0\n",
       "socks                       1.7.1\n",
       "sql                         NA\n",
       "sqlalchemy                  2.0.21\n",
       "sqlparse                    0.4.4\n",
       "stack_data                  0.6.2\n",
       "sympy                       1.12\n",
       "termcolor                   NA\n",
       "texttable                   1.7.0\n",
       "threadpoolctl               3.2.0\n",
       "torch                       2.1.2+cu121\n",
       "torchgen                    NA\n",
       "tornado                     6.3.3\n",
       "tqdm                        4.66.1\n",
       "traitlets                   5.9.0\n",
       "typing_extensions           NA\n",
       "uri_template                NA\n",
       "urllib3                     1.26.19\n",
       "wcwidth                     0.2.12\n",
       "webcolors                   1.13\n",
       "websocket                   1.7.0\n",
       "wrapt                       1.15.0\n",
       "xarray                      2023.12.0\n",
       "yaml                        6.0.1\n",
       "zipp                        NA\n",
       "zmq                         25.1.2\n",
       "zoneinfo                    NA\n",
       "</pre>\n",
       "</details> <!-- seems like this ends pre, so might as well be explicit -->\n",
       "<pre>\n",
       "-----\n",
       "IPython             8.19.0\n",
       "jupyter_client      8.6.0\n",
       "jupyter_core        5.6.1\n",
       "jupyterlab          4.2.3\n",
       "notebook            6.5.4\n",
       "-----\n",
       "Python 3.10.13 | packaged by conda-forge | (main, Dec 23 2023, 15:36:39) [GCC 12.3.0]\n",
       "Linux-5.15.0-1062-gcp-x86_64-with-glibc2.31\n",
       "-----\n",
       "Session information updated at 2024-07-19 04:06\n",
       "</pre>\n",
       "</details>"
      ],
      "text/plain": [
       "<IPython.core.display.HTML object>"
      ]
     },
     "execution_count": 43,
     "metadata": {},
     "output_type": "execute_result"
    }
   ],
   "source": [
    "import session_info\n",
    "session_info.show()"
   ]
  },
  {
   "cell_type": "code",
   "execution_count": null,
   "id": "00e9dc7e-c971-47bf-911c-0616092e3184",
   "metadata": {},
   "outputs": [],
   "source": []
  }
 ],
 "metadata": {
  "environment": {
   "kernel": "python3",
   "name": ".m123",
   "type": "gcloud",
   "uri": "us-docker.pkg.dev/deeplearning-platform-release/gcr.io/:m123"
  },
  "kernelspec": {
   "display_name": "Python 3 (ipykernel)",
   "language": "python",
   "name": "python3"
  },
  "language_info": {
   "codemirror_mode": {
    "name": "ipython",
    "version": 3
   },
   "file_extension": ".py",
   "mimetype": "text/x-python",
   "name": "python",
   "nbconvert_exporter": "python",
   "pygments_lexer": "ipython3",
   "version": "3.10.13"
  }
 },
 "nbformat": 4,
 "nbformat_minor": 5
}
