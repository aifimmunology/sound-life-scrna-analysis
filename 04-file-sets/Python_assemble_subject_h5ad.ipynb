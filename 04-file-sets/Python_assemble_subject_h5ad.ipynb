{
 "cells": [
  {
   "cell_type": "markdown",
   "id": "a9547939-da7a-456d-9ef6-a6f684b41dd4",
   "metadata": {},
   "source": [
    "# Assemble Subject Group .h5ad files\n",
    "\n",
    "To release our scRNA-seq data, we'll assemble labeled data from samples in groups based on cohort, biological sex, and CMV status to generate usable chunks of data for download.\n",
    "\n",
    "Users who want the whole set will be able to download each of these files and assemble them."
   ]
  },
  {
   "cell_type": "code",
   "execution_count": 1,
   "id": "7f74477c-75de-4516-885e-0ade9c68b47a",
   "metadata": {},
   "outputs": [],
   "source": [
    "from datetime import date\n",
    "import hisepy\n",
    "import os\n",
    "import scanpy as sc\n",
    "import re\n",
    "import tarfile"
   ]
  },
  {
   "cell_type": "code",
   "execution_count": 2,
   "id": "f724067d-3fa1-4a58-a65d-87c80820b998",
   "metadata": {},
   "outputs": [],
   "source": [
    "if not os.path.isdir('output'):\n",
    "    os.mkdir('output')"
   ]
  },
  {
   "cell_type": "markdown",
   "id": "bc30df2c-9f71-47a7-b157-8163a8a9ad33",
   "metadata": {},
   "source": [
    "## Helper functions"
   ]
  },
  {
   "cell_type": "code",
   "execution_count": 3,
   "id": "a254cd9f-d7e1-423b-a09c-d620ef79bdc6",
   "metadata": {},
   "outputs": [],
   "source": [
    "def find_stored_files(search_id, store = 'Service_Core'):\n",
    "    ps_df = hisepy.list_files_in_project_store(store)\n",
    "    ps_df = ps_df[['id', 'name']]\n",
    "    search_df = ps_df[ps_df['name'].str.contains(search_id)]\n",
    "    \n",
    "    return search_df"
   ]
  },
  {
   "cell_type": "code",
   "execution_count": 4,
   "id": "357e1c62-ba00-4f8c-a083-cc40b97f2292",
   "metadata": {},
   "outputs": [],
   "source": [
    "def cache_uuid_path(uuid):\n",
    "    cache_path = '/home/jupyter/cache/{u}'.format(u = uuid)\n",
    "    if not os.path.isdir(cache_path):\n",
    "        hise_res = hisepy.reader.cache_files([uuid])\n",
    "    filename = os.listdir(cache_path)[0]\n",
    "    cache_file = '{p}/{f}'.format(p = cache_path, f = filename)\n",
    "    return cache_file"
   ]
  },
  {
   "cell_type": "code",
   "execution_count": 14,
   "id": "d0c93076-6b9c-4323-8738-6e0de3f907b9",
   "metadata": {},
   "outputs": [],
   "source": [
    "def element_id(n = 3):\n",
    "    import periodictable\n",
    "    from random import randrange\n",
    "    rand_el = []\n",
    "    for i in range(n):\n",
    "        el = randrange(0,118)\n",
    "        rand_el.append(periodictable.elements[el].name)\n",
    "    rand_str = '-'.join(rand_el)\n",
    "    return rand_str"
   ]
  },
  {
   "cell_type": "markdown",
   "id": "2599c854-2654-4671-8348-458b8931155e",
   "metadata": {},
   "source": [
    "## Find labeled data in HISE"
   ]
  },
  {
   "cell_type": "code",
   "execution_count": 5,
   "id": "024d367a-822a-491b-99ce-6c3312861519",
   "metadata": {},
   "outputs": [],
   "source": [
    "search_id = 'polonium-tin-curium'"
   ]
  },
  {
   "cell_type": "code",
   "execution_count": 6,
   "id": "08905067-ef2e-4c99-94e7-99932fe0d40d",
   "metadata": {},
   "outputs": [],
   "source": [
    "search_df = find_stored_files(search_id, 'cohorts')"
   ]
  },
  {
   "cell_type": "code",
   "execution_count": 7,
   "id": "84d34d31-299a-47b2-b96d-812326dee26c",
   "metadata": {},
   "outputs": [],
   "source": [
    "tar_df = search_df[search_df['name'].str.contains('.h5ad')].copy()"
   ]
  },
  {
   "cell_type": "code",
   "execution_count": 8,
   "id": "c8c51f0a-fef2-4f6b-b960-1df13d97f539",
   "metadata": {},
   "outputs": [],
   "source": [
    "cohort_file_dict = {\n",
    "    'BR1': 'SoundLife_YoungAdult',\n",
    "    'BR2': 'SoundLife_OlderAdult'\n",
    "}\n",
    "cohort_name_dict = {\n",
    "    'BR1': 'Sound Life Young Adult',\n",
    "    'BR2': 'Sound Life Older Adult'\n",
    "}"
   ]
  },
  {
   "cell_type": "code",
   "execution_count": 9,
   "id": "bf565da2-699b-4777-a5e8-f433941c9be2",
   "metadata": {
    "scrolled": true
   },
   "outputs": [],
   "source": [
    "file_groups = []\n",
    "for name in tar_df['name']:\n",
    "    group = re.sub('.+diha_','',name)\n",
    "    group = re.sub('_h5ad.+','',group)\n",
    "    \n",
    "    if 'BR1' in group:\n",
    "        group = re.sub('BR1', cohort_file_dict['BR1'], group)\n",
    "    if 'BR2' in group:\n",
    "        group = re.sub('BR2', cohort_file_dict['BR2'], group)\n",
    "    if 'Negative' in group:\n",
    "        group = re.sub('Negative', 'CMVneg', group)\n",
    "    if 'Positive' in group:\n",
    "        group = re.sub('Positive', 'CMVpos', group)\n",
    "        \n",
    "    file_groups.append(group)\n",
    "\n",
    "tar_df['group'] = file_groups"
   ]
  },
  {
   "cell_type": "code",
   "execution_count": 10,
   "id": "b978b274-0126-4e9f-8aae-bcefdde35c12",
   "metadata": {},
   "outputs": [
    {
     "data": {
      "text/html": [
       "<div>\n",
       "<style scoped>\n",
       "    .dataframe tbody tr th:only-of-type {\n",
       "        vertical-align: middle;\n",
       "    }\n",
       "\n",
       "    .dataframe tbody tr th {\n",
       "        vertical-align: top;\n",
       "    }\n",
       "\n",
       "    .dataframe thead th {\n",
       "        text-align: right;\n",
       "    }\n",
       "</style>\n",
       "<table border=\"1\" class=\"dataframe\">\n",
       "  <thead>\n",
       "    <tr style=\"text-align: right;\">\n",
       "      <th></th>\n",
       "      <th>id</th>\n",
       "      <th>name</th>\n",
       "      <th>group</th>\n",
       "    </tr>\n",
       "  </thead>\n",
       "  <tbody>\n",
       "    <tr>\n",
       "      <th>0</th>\n",
       "      <td>04666e28-8443-4a51-8670-f409a7b5afe5</td>\n",
       "      <td>polonium-tin-curium/diha_BR1_Female_Negative_h...</td>\n",
       "      <td>SoundLife_YoungAdult_Female_CMVneg</td>\n",
       "    </tr>\n",
       "    <tr>\n",
       "      <th>1</th>\n",
       "      <td>ae2996c3-eab5-4d61-a997-084351727413</td>\n",
       "      <td>polonium-tin-curium/diha_BR1_Female_Positive_h...</td>\n",
       "      <td>SoundLife_YoungAdult_Female_CMVpos</td>\n",
       "    </tr>\n",
       "    <tr>\n",
       "      <th>2</th>\n",
       "      <td>b8f48340-ec96-4ed9-bad1-23fcb1a64e70</td>\n",
       "      <td>polonium-tin-curium/diha_BR1_Male_Negative_h5a...</td>\n",
       "      <td>SoundLife_YoungAdult_Male_CMVneg</td>\n",
       "    </tr>\n",
       "    <tr>\n",
       "      <th>3</th>\n",
       "      <td>11d754d9-0323-400b-8c47-8b9193d254d6</td>\n",
       "      <td>polonium-tin-curium/diha_BR1_Male_Positive_h5a...</td>\n",
       "      <td>SoundLife_YoungAdult_Male_CMVpos</td>\n",
       "    </tr>\n",
       "    <tr>\n",
       "      <th>4</th>\n",
       "      <td>6c6c9bbb-ac49-42f1-9e4f-f6a00766f331</td>\n",
       "      <td>polonium-tin-curium/diha_BR2_Female_Negative_h...</td>\n",
       "      <td>SoundLife_OlderAdult_Female_CMVneg</td>\n",
       "    </tr>\n",
       "    <tr>\n",
       "      <th>5</th>\n",
       "      <td>712082ed-2fe2-4121-9f89-7f732b4a58a7</td>\n",
       "      <td>polonium-tin-curium/diha_BR2_Female_Positive_h...</td>\n",
       "      <td>SoundLife_OlderAdult_Female_CMVpos</td>\n",
       "    </tr>\n",
       "    <tr>\n",
       "      <th>6</th>\n",
       "      <td>e1fe73c4-44d1-4092-ba72-72c5efe657d1</td>\n",
       "      <td>polonium-tin-curium/diha_BR2_Male_Negative_h5a...</td>\n",
       "      <td>SoundLife_OlderAdult_Male_CMVneg</td>\n",
       "    </tr>\n",
       "    <tr>\n",
       "      <th>7</th>\n",
       "      <td>dd3c4973-439f-4987-ac52-12cd86b31021</td>\n",
       "      <td>polonium-tin-curium/diha_BR2_Male_Positive_h5a...</td>\n",
       "      <td>SoundLife_OlderAdult_Male_CMVpos</td>\n",
       "    </tr>\n",
       "  </tbody>\n",
       "</table>\n",
       "</div>"
      ],
      "text/plain": [
       "                                     id  \\\n",
       "0  04666e28-8443-4a51-8670-f409a7b5afe5   \n",
       "1  ae2996c3-eab5-4d61-a997-084351727413   \n",
       "2  b8f48340-ec96-4ed9-bad1-23fcb1a64e70   \n",
       "3  11d754d9-0323-400b-8c47-8b9193d254d6   \n",
       "4  6c6c9bbb-ac49-42f1-9e4f-f6a00766f331   \n",
       "5  712082ed-2fe2-4121-9f89-7f732b4a58a7   \n",
       "6  e1fe73c4-44d1-4092-ba72-72c5efe657d1   \n",
       "7  dd3c4973-439f-4987-ac52-12cd86b31021   \n",
       "\n",
       "                                                name  \\\n",
       "0  polonium-tin-curium/diha_BR1_Female_Negative_h...   \n",
       "1  polonium-tin-curium/diha_BR1_Female_Positive_h...   \n",
       "2  polonium-tin-curium/diha_BR1_Male_Negative_h5a...   \n",
       "3  polonium-tin-curium/diha_BR1_Male_Positive_h5a...   \n",
       "4  polonium-tin-curium/diha_BR2_Female_Negative_h...   \n",
       "5  polonium-tin-curium/diha_BR2_Female_Positive_h...   \n",
       "6  polonium-tin-curium/diha_BR2_Male_Negative_h5a...   \n",
       "7  polonium-tin-curium/diha_BR2_Male_Positive_h5a...   \n",
       "\n",
       "                                group  \n",
       "0  SoundLife_YoungAdult_Female_CMVneg  \n",
       "1  SoundLife_YoungAdult_Female_CMVpos  \n",
       "2    SoundLife_YoungAdult_Male_CMVneg  \n",
       "3    SoundLife_YoungAdult_Male_CMVpos  \n",
       "4  SoundLife_OlderAdult_Female_CMVneg  \n",
       "5  SoundLife_OlderAdult_Female_CMVpos  \n",
       "6    SoundLife_OlderAdult_Male_CMVneg  \n",
       "7    SoundLife_OlderAdult_Male_CMVpos  "
      ]
     },
     "execution_count": 10,
     "metadata": {},
     "output_type": "execute_result"
    }
   ],
   "source": [
    "tar_df = tar_df.reset_index(drop = True)\n",
    "tar_df"
   ]
  },
  {
   "cell_type": "markdown",
   "id": "865e5903-efc9-43c5-83b7-9acf094939c4",
   "metadata": {},
   "source": [
    "## Assemble .h5ads from each .tar file"
   ]
  },
  {
   "cell_type": "code",
   "execution_count": 11,
   "id": "ce47f2c6-b732-4846-9fc2-6242c460d3c0",
   "metadata": {},
   "outputs": [
    {
     "name": "stdout",
     "output_type": "stream",
     "text": [
      "SoundLife_YoungAdult_Female_CMVneg previously processed. Skipping.\n",
      "Processing SoundLife_YoungAdult_Female_CMVpos.\n",
      "Processing SoundLife_YoungAdult_Male_CMVneg.\n",
      "Processing SoundLife_YoungAdult_Male_CMVpos.\n",
      "downloading fileID: 11d754d9-0323-400b-8c47-8b9193d254d6\n",
      "Files have been successfully downloaded!\n",
      "Processing SoundLife_OlderAdult_Female_CMVneg.\n",
      "downloading fileID: 6c6c9bbb-ac49-42f1-9e4f-f6a00766f331\n",
      "Files have been successfully downloaded!\n",
      "Processing SoundLife_OlderAdult_Female_CMVpos.\n",
      "downloading fileID: 712082ed-2fe2-4121-9f89-7f732b4a58a7\n",
      "Files have been successfully downloaded!\n",
      "Processing SoundLife_OlderAdult_Male_CMVneg.\n",
      "downloading fileID: e1fe73c4-44d1-4092-ba72-72c5efe657d1\n",
      "Files have been successfully downloaded!\n",
      "Processing SoundLife_OlderAdult_Male_CMVpos.\n",
      "downloading fileID: dd3c4973-439f-4987-ac52-12cd86b31021\n",
      "Files have been successfully downloaded!\n"
     ]
    }
   ],
   "source": [
    "out_files = []\n",
    "for i in range(tar_df.shape[0]):\n",
    "    group = tar_df['group'].iloc[i]\n",
    "    out_file = f'output/{group}.h5ad'\n",
    "    \n",
    "    if os.path.isfile(out_file):\n",
    "        print(f'{group} previously processed. Skipping.')\n",
    "        out_files.append(out_file)\n",
    "    else:\n",
    "        print(f'Processing {group}.')\n",
    "        \n",
    "        tar_uuid = tar_df['id'].iloc[i]\n",
    "        tar_path = cache_uuid_path(tar_uuid)\n",
    "        \n",
    "        tar = tarfile.TarFile(tar_path)\n",
    "        tar.extractall()\n",
    "        \n",
    "        sample_h5ad_files = ['sample_h5ad/' + f for f in os.listdir('sample_h5ad')]\n",
    "        \n",
    "        adata_list = []\n",
    "        for h5ad_file in sample_h5ad_files:\n",
    "            sample_adata = sc.read_h5ad(h5ad_file)\n",
    "            adata_list.append(sample_adata)\n",
    "        adata = sc.concat(adata_list)\n",
    "        \n",
    "        adata.obs['subject.ageGroup'] = [cohort_name_dict[x] for x in adata.obs['cohort.cohortGuid']]\n",
    "        \n",
    "        n_samples = len(adata.obs['sample.sampleKitGuid'].unique().tolist())\n",
    "        n_cells = adata.shape[0]\n",
    "        \n",
    "        adata.write_h5ad(out_file)\n",
    "        out_files.append(out_file)\n",
    "\n",
    "        os.system('rm -r sample_h5ad')"
   ]
  },
  {
   "cell_type": "markdown",
   "id": "babe184e-4a6f-4c9f-8765-70ecd6cf6fe4",
   "metadata": {},
   "source": [
    "## Upload .h5ad data to HISE\n",
    "\n",
    "Finally, we'll use `hisepy.upload.upload_files()` to send a copy of our output to HISE to use for downstream analysis steps."
   ]
  },
  {
   "cell_type": "code",
   "execution_count": 12,
   "id": "aa099a07-86d3-4640-a0fd-0f08ba66eeb4",
   "metadata": {},
   "outputs": [],
   "source": [
    "study_space_uuid = 'de025812-5e73-4b3c-9c3b-6d0eac412f2a'\n",
    "title = 'DIHA .h5ad file sets: Subject Groups {d}'.format(d = date.today())"
   ]
  },
  {
   "cell_type": "code",
   "execution_count": 15,
   "id": "54391ea6-deb0-4b2a-bb1f-b75f623f0755",
   "metadata": {},
   "outputs": [
    {
     "data": {
      "text/plain": [
       "'nihonium-seaborgium-technetium'"
      ]
     },
     "execution_count": 15,
     "metadata": {},
     "output_type": "execute_result"
    }
   ],
   "source": [
    "search_id = element_id()\n",
    "search_id"
   ]
  },
  {
   "cell_type": "code",
   "execution_count": 16,
   "id": "a44d1e7e-1b39-4cc7-8533-4dee5b4cc6a8",
   "metadata": {},
   "outputs": [
    {
     "data": {
      "text/plain": [
       "['04666e28-8443-4a51-8670-f409a7b5afe5',\n",
       " 'ae2996c3-eab5-4d61-a997-084351727413',\n",
       " 'b8f48340-ec96-4ed9-bad1-23fcb1a64e70',\n",
       " '11d754d9-0323-400b-8c47-8b9193d254d6',\n",
       " '6c6c9bbb-ac49-42f1-9e4f-f6a00766f331',\n",
       " '712082ed-2fe2-4121-9f89-7f732b4a58a7',\n",
       " 'e1fe73c4-44d1-4092-ba72-72c5efe657d1',\n",
       " 'dd3c4973-439f-4987-ac52-12cd86b31021']"
      ]
     },
     "execution_count": 16,
     "metadata": {},
     "output_type": "execute_result"
    }
   ],
   "source": [
    "in_files = tar_df['id'].tolist()\n",
    "in_files"
   ]
  },
  {
   "cell_type": "code",
   "execution_count": 17,
   "id": "e40b8f3a-560f-4293-9b99-95902b2e0f6c",
   "metadata": {},
   "outputs": [
    {
     "data": {
      "text/plain": [
       "['output/SoundLife_YoungAdult_Female_CMVneg.h5ad',\n",
       " 'output/SoundLife_YoungAdult_Female_CMVpos.h5ad',\n",
       " 'output/SoundLife_YoungAdult_Male_CMVneg.h5ad',\n",
       " 'output/SoundLife_YoungAdult_Male_CMVpos.h5ad',\n",
       " 'output/SoundLife_OlderAdult_Female_CMVneg.h5ad',\n",
       " 'output/SoundLife_OlderAdult_Female_CMVpos.h5ad',\n",
       " 'output/SoundLife_OlderAdult_Male_CMVneg.h5ad',\n",
       " 'output/SoundLife_OlderAdult_Male_CMVpos.h5ad']"
      ]
     },
     "execution_count": 17,
     "metadata": {},
     "output_type": "execute_result"
    }
   ],
   "source": [
    "out_files"
   ]
  },
  {
   "cell_type": "code",
   "execution_count": 18,
   "id": "03616a29-2a26-40af-b0f5-2c2ac0e281bb",
   "metadata": {},
   "outputs": [
    {
     "data": {
      "text/plain": [
       "8"
      ]
     },
     "execution_count": 18,
     "metadata": {},
     "output_type": "execute_result"
    }
   ],
   "source": [
    "len(out_files)"
   ]
  },
  {
   "cell_type": "code",
   "execution_count": 19,
   "id": "b8038378-ecf2-4c46-b513-0cbb37d7d84d",
   "metadata": {},
   "outputs": [
    {
     "name": "stdout",
     "output_type": "stream",
     "text": [
      "you are trying to upload file_ids... ['output/SoundLife_YoungAdult_Female_CMVneg.h5ad', 'output/SoundLife_YoungAdult_Female_CMVpos.h5ad', 'output/SoundLife_YoungAdult_Male_CMVneg.h5ad', 'output/SoundLife_YoungAdult_Male_CMVpos.h5ad', 'output/SoundLife_OlderAdult_Female_CMVneg.h5ad', 'output/SoundLife_OlderAdult_Female_CMVpos.h5ad', 'output/SoundLife_OlderAdult_Male_CMVneg.h5ad', 'output/SoundLife_OlderAdult_Male_CMVpos.h5ad']. Do you truly want to proceed?\n"
     ]
    },
    {
     "name": "stdin",
     "output_type": "stream",
     "text": [
      "(y/n) y\n"
     ]
    },
    {
     "data": {
      "text/plain": [
       "{'trace_id': '7ddfb232-59f5-4879-a4df-13c298db984a',\n",
       " 'files': ['output/SoundLife_YoungAdult_Female_CMVneg.h5ad',\n",
       "  'output/SoundLife_YoungAdult_Female_CMVpos.h5ad',\n",
       "  'output/SoundLife_YoungAdult_Male_CMVneg.h5ad',\n",
       "  'output/SoundLife_YoungAdult_Male_CMVpos.h5ad',\n",
       "  'output/SoundLife_OlderAdult_Female_CMVneg.h5ad',\n",
       "  'output/SoundLife_OlderAdult_Female_CMVpos.h5ad',\n",
       "  'output/SoundLife_OlderAdult_Male_CMVneg.h5ad',\n",
       "  'output/SoundLife_OlderAdult_Male_CMVpos.h5ad']}"
      ]
     },
     "execution_count": 19,
     "metadata": {},
     "output_type": "execute_result"
    }
   ],
   "source": [
    "hisepy.upload.upload_files(\n",
    "    files = out_files,\n",
    "    study_space_id = study_space_uuid,\n",
    "    title = title,\n",
    "    input_file_ids = in_files,\n",
    "    destination = search_id\n",
    ")"
   ]
  },
  {
   "cell_type": "code",
   "execution_count": 20,
   "id": "ee5279f5-b5e8-4670-8067-37e63ceadb76",
   "metadata": {},
   "outputs": [
    {
     "data": {
      "text/html": [
       "<details>\n",
       "<summary>Click to view session information</summary>\n",
       "<pre>\n",
       "-----\n",
       "anndata             0.10.3\n",
       "hisepy              0.3.0\n",
       "pandas              2.1.4\n",
       "scanpy              1.9.6\n",
       "session_info        1.0.0\n",
       "-----\n",
       "</pre>\n",
       "<details>\n",
       "<summary>Click to view modules imported as dependencies</summary>\n",
       "<pre>\n",
       "PIL                         10.0.1\n",
       "anyio                       NA\n",
       "arrow                       1.3.0\n",
       "asttokens                   NA\n",
       "attr                        23.2.0\n",
       "attrs                       23.2.0\n",
       "babel                       2.14.0\n",
       "beatrix_jupyterlab          NA\n",
       "brotli                      NA\n",
       "cachetools                  5.3.1\n",
       "certifi                     2024.06.02\n",
       "cffi                        1.16.0\n",
       "charset_normalizer          3.3.2\n",
       "cloudpickle                 2.2.1\n",
       "colorama                    0.4.6\n",
       "comm                        0.1.4\n",
       "cryptography                41.0.7\n",
       "cycler                      0.10.0\n",
       "cython_runtime              NA\n",
       "dateutil                    2.8.2\n",
       "db_dtypes                   1.1.1\n",
       "debugpy                     1.8.0\n",
       "decorator                   5.1.1\n",
       "defusedxml                  0.7.1\n",
       "deprecated                  1.2.14\n",
       "exceptiongroup              1.2.0\n",
       "executing                   2.0.1\n",
       "fastjsonschema              NA\n",
       "fqdn                        NA\n",
       "google                      NA\n",
       "greenlet                    2.0.2\n",
       "grpc                        1.58.0\n",
       "grpc_status                 NA\n",
       "h5py                        3.10.0\n",
       "idna                        3.6\n",
       "igraph                      0.10.8\n",
       "importlib_metadata          NA\n",
       "ipykernel                   6.28.0\n",
       "ipython_genutils            0.2.0\n",
       "ipywidgets                  8.1.1\n",
       "isoduration                 NA\n",
       "jedi                        0.19.1\n",
       "jinja2                      3.1.2\n",
       "joblib                      1.3.2\n",
       "json5                       NA\n",
       "jsonpointer                 2.4\n",
       "jsonschema                  4.20.0\n",
       "jsonschema_specifications   NA\n",
       "jupyter_events              0.9.0\n",
       "jupyter_server              2.12.1\n",
       "jupyterlab_server           2.27.2\n",
       "jwt                         2.8.0\n",
       "kiwisolver                  1.4.5\n",
       "leidenalg                   0.10.1\n",
       "llvmlite                    0.41.0\n",
       "lz4                         4.3.2\n",
       "markupsafe                  2.1.3\n",
       "matplotlib                  3.8.0\n",
       "matplotlib_inline           0.1.6\n",
       "mpl_toolkits                NA\n",
       "mpmath                      1.3.0\n",
       "natsort                     8.4.0\n",
       "nbformat                    5.9.2\n",
       "numba                       0.58.0\n",
       "numpy                       1.24.0\n",
       "opentelemetry               NA\n",
       "overrides                   NA\n",
       "packaging                   23.2\n",
       "parso                       0.8.3\n",
       "periodictable               1.5.2\n",
       "pexpect                     4.8.0\n",
       "pickleshare                 0.7.5\n",
       "pkg_resources               NA\n",
       "platformdirs                4.1.0\n",
       "plotly                      5.18.0\n",
       "prettytable                 3.9.0\n",
       "prometheus_client           NA\n",
       "prompt_toolkit              3.0.42\n",
       "proto                       NA\n",
       "psutil                      NA\n",
       "ptyprocess                  0.7.0\n",
       "pure_eval                   0.2.2\n",
       "pyarrow                     13.0.0\n",
       "pydev_ipython               NA\n",
       "pydevconsole                NA\n",
       "pydevd                      2.9.5\n",
       "pydevd_file_utils           NA\n",
       "pydevd_plugins              NA\n",
       "pydevd_tracing              NA\n",
       "pygments                    2.17.2\n",
       "pynvml                      NA\n",
       "pyparsing                   3.1.1\n",
       "pyreadr                     0.5.0\n",
       "pythonjsonlogger            NA\n",
       "pytz                        2023.3.post1\n",
       "referencing                 NA\n",
       "requests                    2.31.0\n",
       "rfc3339_validator           0.1.4\n",
       "rfc3986_validator           0.1.1\n",
       "rpds                        NA\n",
       "scipy                       1.11.4\n",
       "send2trash                  NA\n",
       "shapely                     1.8.5.post1\n",
       "six                         1.16.0\n",
       "sklearn                     1.3.2\n",
       "sniffio                     1.3.0\n",
       "socks                       1.7.1\n",
       "sql                         NA\n",
       "sqlalchemy                  2.0.21\n",
       "sqlparse                    0.4.4\n",
       "stack_data                  0.6.2\n",
       "sympy                       1.12\n",
       "termcolor                   NA\n",
       "texttable                   1.7.0\n",
       "threadpoolctl               3.2.0\n",
       "torch                       2.1.2+cu121\n",
       "torchgen                    NA\n",
       "tornado                     6.3.3\n",
       "tqdm                        4.66.1\n",
       "traitlets                   5.9.0\n",
       "typing_extensions           NA\n",
       "uri_template                NA\n",
       "urllib3                     1.26.19\n",
       "wcwidth                     0.2.12\n",
       "webcolors                   1.13\n",
       "websocket                   1.7.0\n",
       "wrapt                       1.15.0\n",
       "xarray                      2023.12.0\n",
       "yaml                        6.0.1\n",
       "zipp                        NA\n",
       "zmq                         25.1.2\n",
       "zoneinfo                    NA\n",
       "</pre>\n",
       "</details> <!-- seems like this ends pre, so might as well be explicit -->\n",
       "<pre>\n",
       "-----\n",
       "IPython             8.19.0\n",
       "jupyter_client      8.6.0\n",
       "jupyter_core        5.6.1\n",
       "jupyterlab          4.2.3\n",
       "notebook            6.5.4\n",
       "-----\n",
       "Python 3.10.13 | packaged by conda-forge | (main, Dec 23 2023, 15:36:39) [GCC 12.3.0]\n",
       "Linux-5.15.0-1062-gcp-x86_64-with-glibc2.31\n",
       "-----\n",
       "Session information updated at 2024-07-17 21:10\n",
       "</pre>\n",
       "</details>"
      ],
      "text/plain": [
       "<IPython.core.display.HTML object>"
      ]
     },
     "execution_count": 20,
     "metadata": {},
     "output_type": "execute_result"
    }
   ],
   "source": [
    "import session_info\n",
    "session_info.show()"
   ]
  },
  {
   "cell_type": "code",
   "execution_count": null,
   "id": "2a942172-1901-4247-bb46-feddb6b21f45",
   "metadata": {},
   "outputs": [],
   "source": []
  }
 ],
 "metadata": {
  "environment": {
   "kernel": "python3",
   "name": ".m123",
   "type": "gcloud",
   "uri": "us-docker.pkg.dev/deeplearning-platform-release/gcr.io/:m123"
  },
  "kernelspec": {
   "display_name": "Python 3 (ipykernel)",
   "language": "python",
   "name": "python3"
  },
  "language_info": {
   "codemirror_mode": {
    "name": "ipython",
    "version": 3
   },
   "file_extension": ".py",
   "mimetype": "text/x-python",
   "name": "python",
   "nbconvert_exporter": "python",
   "pygments_lexer": "ipython3",
   "version": "3.10.13"
  }
 },
 "nbformat": 4,
 "nbformat_minor": 5
}
