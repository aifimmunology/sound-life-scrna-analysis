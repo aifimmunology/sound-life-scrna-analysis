{
 "cells": [
  {
   "cell_type": "markdown",
   "id": "411a8667-7787-4ed8-be0f-26553773c313",
   "metadata": {},
   "source": [
    "# Format lab results\n",
    "\n",
    "Here, we'll use the `dplyr` package in R to join and arrange our lab data along with sample metadata. [`dplyr`'s verbs](https://dplyr.tidyverse.org/) make this process a lot easier than doing similar work in Python's `pandas` library."
   ]
  },
  {
   "cell_type": "code",
   "execution_count": 1,
   "id": "a7d9ea8e-8147-46df-9d8c-25817d35c04b",
   "metadata": {
    "tags": []
   },
   "outputs": [
    {
     "name": "stderr",
     "output_type": "stream",
     "text": [
      "\n",
      "Attaching package: ‘dplyr’\n",
      "\n",
      "\n",
      "The following objects are masked from ‘package:stats’:\n",
      "\n",
      "    filter, lag\n",
      "\n",
      "\n",
      "The following objects are masked from ‘package:base’:\n",
      "\n",
      "    intersect, setdiff, setequal, union\n",
      "\n",
      "\n"
     ]
    }
   ],
   "source": [
    "library(dplyr)"
   ]
  },
  {
   "cell_type": "markdown",
   "id": "0990d81c-566e-4a00-8a0a-618330f79fed",
   "metadata": {},
   "source": [
    "## Read and select metadata"
   ]
  },
  {
   "cell_type": "code",
   "execution_count": 3,
   "id": "5b16a67f-7421-410b-9b0f-4fd7295693a2",
   "metadata": {
    "tags": []
   },
   "outputs": [],
   "source": [
    "meta_csv <- \"output/br1-br2_hise_metadata_2024-02-03.csv\"\n",
    "meta <- read.csv(meta_csv)"
   ]
  },
  {
   "cell_type": "markdown",
   "id": "ebf1bcf9-27de-48a6-a1d3-6fdf91509adb",
   "metadata": {},
   "source": [
    "We won't need all of the columns provided by HISE for our analysis. Let's keep columns related to subject and sample, which have \"subject\" and \"sample\" prefixes.\n",
    "\n",
    "The column `subject.id` gets assigned per HISE project, so we can have the same sample listed multiple times if we keep this column. We'll drop it for this use."
   ]
  },
  {
   "cell_type": "code",
   "execution_count": 4,
   "id": "2b4b04ca-f2c9-4bed-bcd4-0f511c9f76d8",
   "metadata": {
    "tags": []
   },
   "outputs": [
    {
     "data": {
      "text/html": [
       "3589"
      ],
      "text/latex": [
       "3589"
      ],
      "text/markdown": [
       "3589"
      ],
      "text/plain": [
       "[1] 3589"
      ]
     },
     "metadata": {},
     "output_type": "display_data"
    }
   ],
   "source": [
    "nrow(meta)"
   ]
  },
  {
   "cell_type": "code",
   "execution_count": 5,
   "id": "786c4b92-8797-49a5-8a46-2d44f0da5cf1",
   "metadata": {
    "tags": []
   },
   "outputs": [],
   "source": [
    "meta <- meta %>%\n",
    "  select(starts_with(\"subject\"), starts_with(\"sample\")) %>%\n",
    "  select(-subject.id) %>%\n",
    "  unique()"
   ]
  },
  {
   "cell_type": "code",
   "execution_count": 6,
   "id": "5d7c798f-8f75-4779-aefb-29fb7fb46106",
   "metadata": {
    "tags": []
   },
   "outputs": [
    {
     "data": {
      "text/html": [
       "898"
      ],
      "text/latex": [
       "898"
      ],
      "text/markdown": [
       "898"
      ],
      "text/plain": [
       "[1] 898"
      ]
     },
     "metadata": {},
     "output_type": "display_data"
    }
   ],
   "source": [
    "nrow(meta)"
   ]
  },
  {
   "cell_type": "code",
   "execution_count": 7,
   "id": "88805953-1f21-4f1a-805b-8ee1f14c054d",
   "metadata": {
    "tags": []
   },
   "outputs": [
    {
     "data": {
      "text/html": [
       "<style>\n",
       ".list-inline {list-style: none; margin:0; padding: 0}\n",
       ".list-inline>li {display: inline-block}\n",
       ".list-inline>li:not(:last-child)::after {content: \"\\00b7\"; padding: 0 .5ex}\n",
       "</style>\n",
       "<ol class=list-inline><li>'subject.subjectGuid'</li><li>'subject.cohort'</li><li>'subject.biologicalSex'</li><li>'subject.race'</li><li>'subject.ethnicity'</li><li>'subject.birthYear'</li><li>'subject.ageAtEnrollment'</li><li>'sample.visitName'</li><li>'sample.visitDetails'</li><li>'sample.sampleGuid'</li><li>'sample.sampleKitGuid'</li><li>'sample.drawDate'</li><li>'sample.daysSinceFirstVisit'</li><li>'sample.diseaseStatesRecordedAtVisit'</li></ol>\n"
      ],
      "text/latex": [
       "\\begin{enumerate*}\n",
       "\\item 'subject.subjectGuid'\n",
       "\\item 'subject.cohort'\n",
       "\\item 'subject.biologicalSex'\n",
       "\\item 'subject.race'\n",
       "\\item 'subject.ethnicity'\n",
       "\\item 'subject.birthYear'\n",
       "\\item 'subject.ageAtEnrollment'\n",
       "\\item 'sample.visitName'\n",
       "\\item 'sample.visitDetails'\n",
       "\\item 'sample.sampleGuid'\n",
       "\\item 'sample.sampleKitGuid'\n",
       "\\item 'sample.drawDate'\n",
       "\\item 'sample.daysSinceFirstVisit'\n",
       "\\item 'sample.diseaseStatesRecordedAtVisit'\n",
       "\\end{enumerate*}\n"
      ],
      "text/markdown": [
       "1. 'subject.subjectGuid'\n",
       "2. 'subject.cohort'\n",
       "3. 'subject.biologicalSex'\n",
       "4. 'subject.race'\n",
       "5. 'subject.ethnicity'\n",
       "6. 'subject.birthYear'\n",
       "7. 'subject.ageAtEnrollment'\n",
       "8. 'sample.visitName'\n",
       "9. 'sample.visitDetails'\n",
       "10. 'sample.sampleGuid'\n",
       "11. 'sample.sampleKitGuid'\n",
       "12. 'sample.drawDate'\n",
       "13. 'sample.daysSinceFirstVisit'\n",
       "14. 'sample.diseaseStatesRecordedAtVisit'\n",
       "\n",
       "\n"
      ],
      "text/plain": [
       " [1] \"subject.subjectGuid\"                 \"subject.cohort\"                     \n",
       " [3] \"subject.biologicalSex\"               \"subject.race\"                       \n",
       " [5] \"subject.ethnicity\"                   \"subject.birthYear\"                  \n",
       " [7] \"subject.ageAtEnrollment\"             \"sample.visitName\"                   \n",
       " [9] \"sample.visitDetails\"                 \"sample.sampleGuid\"                  \n",
       "[11] \"sample.sampleKitGuid\"                \"sample.drawDate\"                    \n",
       "[13] \"sample.daysSinceFirstVisit\"          \"sample.diseaseStatesRecordedAtVisit\""
      ]
     },
     "metadata": {},
     "output_type": "display_data"
    }
   ],
   "source": [
    "names(meta)"
   ]
  },
  {
   "cell_type": "markdown",
   "id": "61c27009-8586-478d-b616-6c7619a09389",
   "metadata": {
    "tags": []
   },
   "source": [
    "## Read labs\n",
    "\n",
    "To keep lab names, we'll use the `read.csv` parameter `check.names = FALSE`."
   ]
  },
  {
   "cell_type": "code",
   "execution_count": 8,
   "id": "e6bd0cde-82d5-4a9c-afc6-8a1ccc532f45",
   "metadata": {
    "tags": []
   },
   "outputs": [],
   "source": [
    "labs_csv <- \"output/br1-br2_hise_labs_2024-02-03.csv\"\n",
    "labs <- read.csv(labs_csv, check.names = FALSE, row.names = 1)"
   ]
  },
  {
   "cell_type": "markdown",
   "id": "70ad413a-fae8-4b1f-afb4-68aec4b0eabc",
   "metadata": {},
   "source": [
    "## Assign groups\n",
    "\n",
    "There are a TON of different lab results, and they're provided alphabetically - to help with parsing these, we'll group them based on the category of assay.\n",
    "\n",
    "We have a table that includes the groups for labs, and simplified column names that can help with use of these data for computational work."
   ]
  },
  {
   "cell_type": "code",
   "execution_count": 9,
   "id": "2ccc4f79-786d-455e-8c0d-3f1b0850883b",
   "metadata": {
    "tags": []
   },
   "outputs": [],
   "source": [
    "lab_groups <- read.csv(\"br1-br2_clinical_lab_groups.csv\")"
   ]
  },
  {
   "cell_type": "code",
   "execution_count": 10,
   "id": "8fcafadd-997b-4026-be6b-420ad7fe8011",
   "metadata": {
    "tags": []
   },
   "outputs": [
    {
     "data": {
      "text/html": [
       "<table class=\"dataframe\">\n",
       "<caption>A data.frame: 6 × 3</caption>\n",
       "<thead>\n",
       "\t<tr><th></th><th scope=col>category_name</th><th scope=col>lab</th><th scope=col>column_name</th></tr>\n",
       "\t<tr><th></th><th scope=col>&lt;chr&gt;</th><th scope=col>&lt;chr&gt;</th><th scope=col>&lt;chr&gt;</th></tr>\n",
       "</thead>\n",
       "<tbody>\n",
       "\t<tr><th scope=row>1</th><td>Anthropometric measures</td><td>Body Mass Index (BMI)     </td><td>am.bmi                   </td></tr>\n",
       "\t<tr><th scope=row>2</th><td>Anthropometric measures</td><td>Height                    </td><td>am.height                </td></tr>\n",
       "\t<tr><th scope=row>3</th><td>Anthropometric measures</td><td>Weight                    </td><td>am.weight                </td></tr>\n",
       "\t<tr><th scope=row>4</th><td>Blood Chemistry        </td><td>Alanine Transaminase (ALT)</td><td>chem.alt                 </td></tr>\n",
       "\t<tr><th scope=row>5</th><td>Blood Chemistry        </td><td>Albumin                   </td><td>chem.albumin             </td></tr>\n",
       "\t<tr><th scope=row>6</th><td>Blood Chemistry        </td><td>Alkaline Phosphatase      </td><td>chem.alkaline_phosphatase</td></tr>\n",
       "</tbody>\n",
       "</table>\n"
      ],
      "text/latex": [
       "A data.frame: 6 × 3\n",
       "\\begin{tabular}{r|lll}\n",
       "  & category\\_name & lab & column\\_name\\\\\n",
       "  & <chr> & <chr> & <chr>\\\\\n",
       "\\hline\n",
       "\t1 & Anthropometric measures & Body Mass Index (BMI)      & am.bmi                   \\\\\n",
       "\t2 & Anthropometric measures & Height                     & am.height                \\\\\n",
       "\t3 & Anthropometric measures & Weight                     & am.weight                \\\\\n",
       "\t4 & Blood Chemistry         & Alanine Transaminase (ALT) & chem.alt                 \\\\\n",
       "\t5 & Blood Chemistry         & Albumin                    & chem.albumin             \\\\\n",
       "\t6 & Blood Chemistry         & Alkaline Phosphatase       & chem.alkaline\\_phosphatase\\\\\n",
       "\\end{tabular}\n"
      ],
      "text/markdown": [
       "\n",
       "A data.frame: 6 × 3\n",
       "\n",
       "| <!--/--> | category_name &lt;chr&gt; | lab &lt;chr&gt; | column_name &lt;chr&gt; |\n",
       "|---|---|---|---|\n",
       "| 1 | Anthropometric measures | Body Mass Index (BMI)      | am.bmi                    |\n",
       "| 2 | Anthropometric measures | Height                     | am.height                 |\n",
       "| 3 | Anthropometric measures | Weight                     | am.weight                 |\n",
       "| 4 | Blood Chemistry         | Alanine Transaminase (ALT) | chem.alt                  |\n",
       "| 5 | Blood Chemistry         | Albumin                    | chem.albumin              |\n",
       "| 6 | Blood Chemistry         | Alkaline Phosphatase       | chem.alkaline_phosphatase |\n",
       "\n"
      ],
      "text/plain": [
       "  category_name           lab                        column_name              \n",
       "1 Anthropometric measures Body Mass Index (BMI)      am.bmi                   \n",
       "2 Anthropometric measures Height                     am.height                \n",
       "3 Anthropometric measures Weight                     am.weight                \n",
       "4 Blood Chemistry         Alanine Transaminase (ALT) chem.alt                 \n",
       "5 Blood Chemistry         Albumin                    chem.albumin             \n",
       "6 Blood Chemistry         Alkaline Phosphatase       chem.alkaline_phosphatase"
      ]
     },
     "metadata": {},
     "output_type": "display_data"
    }
   ],
   "source": [
    "head(lab_groups)"
   ]
  },
  {
   "cell_type": "code",
   "execution_count": 11,
   "id": "8f967558-0121-48ad-a7a2-94b3a3fdc807",
   "metadata": {
    "tags": []
   },
   "outputs": [],
   "source": [
    "old_names <- names(labs)\n",
    "new_names <- names(labs)\n",
    "for(i in 1:length(old_names)) {\n",
    "    if(old_names[i] %in% lab_groups$lab) {\n",
    "        new_names[i] <- lab_groups$column_name[lab_groups$lab == old_names[i]]\n",
    "    }\n",
    "}\n",
    "new_names <- sub(\"sampleKitGuid\", \"sample.sampleKitGuid\", new_names)\n",
    "new_names <- sub(\"subjectGuid\", \"subject.subjectGuid\", new_names)"
   ]
  },
  {
   "cell_type": "code",
   "execution_count": 12,
   "id": "ac5654b8-eaac-450a-a0e1-aea5c0b2775d",
   "metadata": {
    "tags": []
   },
   "outputs": [],
   "source": [
    "names(labs) <- new_names"
   ]
  },
  {
   "cell_type": "markdown",
   "id": "a3024edf-ad49-4097-88fe-e3543f085e19",
   "metadata": {},
   "source": [
    "We'll drop the columns we don't need, and arrange the columns by name so that they fall into their categories."
   ]
  },
  {
   "cell_type": "code",
   "execution_count": 15,
   "id": "0521aaec-5997-4f4d-9f9c-146290f952f1",
   "metadata": {
    "tags": []
   },
   "outputs": [],
   "source": [
    "keep_columns <- c(\"subject.subjectGuid\", \"sample.sampleKitGuid\", intersect(lab_groups$column_name, names(labs)))\n",
    "labs <- labs[,keep_columns]"
   ]
  },
  {
   "cell_type": "code",
   "execution_count": 16,
   "id": "fd68c744-95dc-41bb-9833-3613cf40f707",
   "metadata": {},
   "outputs": [],
   "source": [
    "labs <- labs[,sort(names(labs))]\n",
    "labs <- labs %>%\n",
    "  select(subject.subjectGuid, sample.sampleKitGuid, everything()) %>%\n",
    "  arrange(subject.subjectGuid, sample.sampleKitGuid)"
   ]
  },
  {
   "cell_type": "code",
   "execution_count": 17,
   "id": "48a0a4e1-5c6b-41f0-b879-d943ce51f8d2",
   "metadata": {},
   "outputs": [
    {
     "data": {
      "text/html": [
       "<style>\n",
       ".list-inline {list-style: none; margin:0; padding: 0}\n",
       ".list-inline>li {display: inline-block}\n",
       ".list-inline>li:not(:last-child)::after {content: \"\\00b7\"; padding: 0 .5ex}\n",
       "</style>\n",
       "<ol class=list-inline><li>'subject.subjectGuid'</li><li>'sample.sampleKitGuid'</li><li>'am.height'</li><li>'am.weight'</li><li>'bc.basophil_count'</li><li>'bc.eosinophil_count'</li><li>'bc.hematocrit'</li><li>'bc.hemoglobin'</li><li>'bc.lymphocyte_count'</li><li>'bc.mch'</li><li>'bc.mchc'</li><li>'bc.mcv'</li><li>'bc.monocyte_count'</li><li>'bc.mpv'</li><li>'bc.neutrophil_count'</li><li>'bc.perc_basophils'</li><li>'bc.perc_eosinophils'</li><li>'bc.perc_lymphocytes'</li><li>'bc.perc_monocytes'</li><li>'bc.perc_neutrophils'</li><li>'bc.platelet_count'</li><li>'bc.rdw'</li><li>'bc.red_blood_cell_count'</li><li>'bc.wbc'</li><li>'chem.albumin'</li><li>'chem.alkaline_phosphatase'</li><li>'chem.alt'</li><li>'chem.ast'</li><li>'chem.bun'</li><li>'chem.calcium'</li><li>'chem.cl'</li><li>'chem.co2'</li><li>'chem.creatinine'</li><li>'chem.egfr_aa'</li><li>'chem.egfr_non_aa'</li><li>'chem.globin'</li><li>'chem.glucose'</li><li>'chem.ldh'</li><li>'chem.magnesium'</li><li>'chem.phosphate'</li><li>'chem.potassium'</li><li>'chem.protein'</li><li>'chem.sodium'</li><li>'chem.t_bili'</li><li>'cmv.igg_serology'</li><li>'cmv.igg_serology_interpretation'</li><li>'infl.anti_ccp3'</li><li>'infl.anti_ccp31'</li><li>'infl.esr'</li><li>'infl.hs_crp'</li><li>'infl.rf_iga_interpretation'</li><li>'infl.rf_iga_result'</li><li>'infl.rf_igm_interpretation'</li><li>'infl.rf_igm_result'</li><li>'lip.chlesterol_hdl_ratio'</li><li>'lip.cholesterol_hdl'</li><li>'lip.cholesterol_ldl'</li><li>'lip.cholesterol_non_hdl'</li><li>'lip.cholesterol_total'</li><li>'lip.triglycerides'</li></ol>\n"
      ],
      "text/latex": [
       "\\begin{enumerate*}\n",
       "\\item 'subject.subjectGuid'\n",
       "\\item 'sample.sampleKitGuid'\n",
       "\\item 'am.height'\n",
       "\\item 'am.weight'\n",
       "\\item 'bc.basophil\\_count'\n",
       "\\item 'bc.eosinophil\\_count'\n",
       "\\item 'bc.hematocrit'\n",
       "\\item 'bc.hemoglobin'\n",
       "\\item 'bc.lymphocyte\\_count'\n",
       "\\item 'bc.mch'\n",
       "\\item 'bc.mchc'\n",
       "\\item 'bc.mcv'\n",
       "\\item 'bc.monocyte\\_count'\n",
       "\\item 'bc.mpv'\n",
       "\\item 'bc.neutrophil\\_count'\n",
       "\\item 'bc.perc\\_basophils'\n",
       "\\item 'bc.perc\\_eosinophils'\n",
       "\\item 'bc.perc\\_lymphocytes'\n",
       "\\item 'bc.perc\\_monocytes'\n",
       "\\item 'bc.perc\\_neutrophils'\n",
       "\\item 'bc.platelet\\_count'\n",
       "\\item 'bc.rdw'\n",
       "\\item 'bc.red\\_blood\\_cell\\_count'\n",
       "\\item 'bc.wbc'\n",
       "\\item 'chem.albumin'\n",
       "\\item 'chem.alkaline\\_phosphatase'\n",
       "\\item 'chem.alt'\n",
       "\\item 'chem.ast'\n",
       "\\item 'chem.bun'\n",
       "\\item 'chem.calcium'\n",
       "\\item 'chem.cl'\n",
       "\\item 'chem.co2'\n",
       "\\item 'chem.creatinine'\n",
       "\\item 'chem.egfr\\_aa'\n",
       "\\item 'chem.egfr\\_non\\_aa'\n",
       "\\item 'chem.globin'\n",
       "\\item 'chem.glucose'\n",
       "\\item 'chem.ldh'\n",
       "\\item 'chem.magnesium'\n",
       "\\item 'chem.phosphate'\n",
       "\\item 'chem.potassium'\n",
       "\\item 'chem.protein'\n",
       "\\item 'chem.sodium'\n",
       "\\item 'chem.t\\_bili'\n",
       "\\item 'cmv.igg\\_serology'\n",
       "\\item 'cmv.igg\\_serology\\_interpretation'\n",
       "\\item 'infl.anti\\_ccp3'\n",
       "\\item 'infl.anti\\_ccp31'\n",
       "\\item 'infl.esr'\n",
       "\\item 'infl.hs\\_crp'\n",
       "\\item 'infl.rf\\_iga\\_interpretation'\n",
       "\\item 'infl.rf\\_iga\\_result'\n",
       "\\item 'infl.rf\\_igm\\_interpretation'\n",
       "\\item 'infl.rf\\_igm\\_result'\n",
       "\\item 'lip.chlesterol\\_hdl\\_ratio'\n",
       "\\item 'lip.cholesterol\\_hdl'\n",
       "\\item 'lip.cholesterol\\_ldl'\n",
       "\\item 'lip.cholesterol\\_non\\_hdl'\n",
       "\\item 'lip.cholesterol\\_total'\n",
       "\\item 'lip.triglycerides'\n",
       "\\end{enumerate*}\n"
      ],
      "text/markdown": [
       "1. 'subject.subjectGuid'\n",
       "2. 'sample.sampleKitGuid'\n",
       "3. 'am.height'\n",
       "4. 'am.weight'\n",
       "5. 'bc.basophil_count'\n",
       "6. 'bc.eosinophil_count'\n",
       "7. 'bc.hematocrit'\n",
       "8. 'bc.hemoglobin'\n",
       "9. 'bc.lymphocyte_count'\n",
       "10. 'bc.mch'\n",
       "11. 'bc.mchc'\n",
       "12. 'bc.mcv'\n",
       "13. 'bc.monocyte_count'\n",
       "14. 'bc.mpv'\n",
       "15. 'bc.neutrophil_count'\n",
       "16. 'bc.perc_basophils'\n",
       "17. 'bc.perc_eosinophils'\n",
       "18. 'bc.perc_lymphocytes'\n",
       "19. 'bc.perc_monocytes'\n",
       "20. 'bc.perc_neutrophils'\n",
       "21. 'bc.platelet_count'\n",
       "22. 'bc.rdw'\n",
       "23. 'bc.red_blood_cell_count'\n",
       "24. 'bc.wbc'\n",
       "25. 'chem.albumin'\n",
       "26. 'chem.alkaline_phosphatase'\n",
       "27. 'chem.alt'\n",
       "28. 'chem.ast'\n",
       "29. 'chem.bun'\n",
       "30. 'chem.calcium'\n",
       "31. 'chem.cl'\n",
       "32. 'chem.co2'\n",
       "33. 'chem.creatinine'\n",
       "34. 'chem.egfr_aa'\n",
       "35. 'chem.egfr_non_aa'\n",
       "36. 'chem.globin'\n",
       "37. 'chem.glucose'\n",
       "38. 'chem.ldh'\n",
       "39. 'chem.magnesium'\n",
       "40. 'chem.phosphate'\n",
       "41. 'chem.potassium'\n",
       "42. 'chem.protein'\n",
       "43. 'chem.sodium'\n",
       "44. 'chem.t_bili'\n",
       "45. 'cmv.igg_serology'\n",
       "46. 'cmv.igg_serology_interpretation'\n",
       "47. 'infl.anti_ccp3'\n",
       "48. 'infl.anti_ccp31'\n",
       "49. 'infl.esr'\n",
       "50. 'infl.hs_crp'\n",
       "51. 'infl.rf_iga_interpretation'\n",
       "52. 'infl.rf_iga_result'\n",
       "53. 'infl.rf_igm_interpretation'\n",
       "54. 'infl.rf_igm_result'\n",
       "55. 'lip.chlesterol_hdl_ratio'\n",
       "56. 'lip.cholesterol_hdl'\n",
       "57. 'lip.cholesterol_ldl'\n",
       "58. 'lip.cholesterol_non_hdl'\n",
       "59. 'lip.cholesterol_total'\n",
       "60. 'lip.triglycerides'\n",
       "\n",
       "\n"
      ],
      "text/plain": [
       " [1] \"subject.subjectGuid\"             \"sample.sampleKitGuid\"           \n",
       " [3] \"am.height\"                       \"am.weight\"                      \n",
       " [5] \"bc.basophil_count\"               \"bc.eosinophil_count\"            \n",
       " [7] \"bc.hematocrit\"                   \"bc.hemoglobin\"                  \n",
       " [9] \"bc.lymphocyte_count\"             \"bc.mch\"                         \n",
       "[11] \"bc.mchc\"                         \"bc.mcv\"                         \n",
       "[13] \"bc.monocyte_count\"               \"bc.mpv\"                         \n",
       "[15] \"bc.neutrophil_count\"             \"bc.perc_basophils\"              \n",
       "[17] \"bc.perc_eosinophils\"             \"bc.perc_lymphocytes\"            \n",
       "[19] \"bc.perc_monocytes\"               \"bc.perc_neutrophils\"            \n",
       "[21] \"bc.platelet_count\"               \"bc.rdw\"                         \n",
       "[23] \"bc.red_blood_cell_count\"         \"bc.wbc\"                         \n",
       "[25] \"chem.albumin\"                    \"chem.alkaline_phosphatase\"      \n",
       "[27] \"chem.alt\"                        \"chem.ast\"                       \n",
       "[29] \"chem.bun\"                        \"chem.calcium\"                   \n",
       "[31] \"chem.cl\"                         \"chem.co2\"                       \n",
       "[33] \"chem.creatinine\"                 \"chem.egfr_aa\"                   \n",
       "[35] \"chem.egfr_non_aa\"                \"chem.globin\"                    \n",
       "[37] \"chem.glucose\"                    \"chem.ldh\"                       \n",
       "[39] \"chem.magnesium\"                  \"chem.phosphate\"                 \n",
       "[41] \"chem.potassium\"                  \"chem.protein\"                   \n",
       "[43] \"chem.sodium\"                     \"chem.t_bili\"                    \n",
       "[45] \"cmv.igg_serology\"                \"cmv.igg_serology_interpretation\"\n",
       "[47] \"infl.anti_ccp3\"                  \"infl.anti_ccp31\"                \n",
       "[49] \"infl.esr\"                        \"infl.hs_crp\"                    \n",
       "[51] \"infl.rf_iga_interpretation\"      \"infl.rf_iga_result\"             \n",
       "[53] \"infl.rf_igm_interpretation\"      \"infl.rf_igm_result\"             \n",
       "[55] \"lip.chlesterol_hdl_ratio\"        \"lip.cholesterol_hdl\"            \n",
       "[57] \"lip.cholesterol_ldl\"             \"lip.cholesterol_non_hdl\"        \n",
       "[59] \"lip.cholesterol_total\"           \"lip.triglycerides\"              "
      ]
     },
     "metadata": {},
     "output_type": "display_data"
    }
   ],
   "source": [
    "names(labs)"
   ]
  },
  {
   "cell_type": "markdown",
   "id": "86ed5a5a-189e-4d3b-a325-3a744a8ef939",
   "metadata": {},
   "source": [
    "## Clean up duplicates\n",
    "\n",
    "We should have just one row of metadata and one row of labs per sample. If we have multiple rows, we need to clean them up."
   ]
  },
  {
   "cell_type": "code",
   "execution_count": 18,
   "id": "d5f34af3-d954-4d5b-bc97-9a31f67cdbc9",
   "metadata": {
    "tags": []
   },
   "outputs": [],
   "source": [
    "meta <- unique(meta)"
   ]
  },
  {
   "cell_type": "code",
   "execution_count": 19,
   "id": "b58c5c1e-a73e-41b9-b337-05041e79eb53",
   "metadata": {
    "tags": []
   },
   "outputs": [
    {
     "data": {
      "text/html": [
       "898"
      ],
      "text/latex": [
       "898"
      ],
      "text/markdown": [
       "898"
      ],
      "text/plain": [
       "[1] 898"
      ]
     },
     "metadata": {},
     "output_type": "display_data"
    }
   ],
   "source": [
    "nrow(meta)"
   ]
  },
  {
   "cell_type": "markdown",
   "id": "1b922b69-6f15-49e2-a87d-1bddad12da1d",
   "metadata": {},
   "source": [
    "Remove some duplicate entries that have missing values:  \n",
    "missing sample.visitDetails  \n",
    "missing sample.daysSinceFirstVisit"
   ]
  },
  {
   "cell_type": "code",
   "execution_count": 20,
   "id": "50c6e1b7-3e72-4201-b3b8-7b69e221b69d",
   "metadata": {
    "tags": []
   },
   "outputs": [],
   "source": [
    "meta <- meta %>%\n",
    "  filter(sample.visitDetails != \"\") %>%\n",
    "  filter(!sample.daysSinceFirstVisit == \"NA\")"
   ]
  },
  {
   "cell_type": "markdown",
   "id": "38ea1116-bf96-48c0-8ea7-4c694124132f",
   "metadata": {},
   "source": [
    "A few kits are still duplicate due to differences in daysSinceFirstVisit. They differ by 1 day. Since I'm not sure which is correct, we'll just take the first one of each."
   ]
  },
  {
   "cell_type": "code",
   "execution_count": 21,
   "id": "599568c4-9a04-4d50-883c-c8a84073ff71",
   "metadata": {
    "tags": []
   },
   "outputs": [],
   "source": [
    "meta <- meta %>%\n",
    "  group_by(sample.sampleKitGuid) %>%\n",
    "  slice(1) %>%\n",
    "  ungroup()"
   ]
  },
  {
   "cell_type": "code",
   "execution_count": 22,
   "id": "54a8172d-d847-4287-9295-e827c4117f25",
   "metadata": {
    "tags": []
   },
   "outputs": [
    {
     "data": {
      "text/html": [
       "896"
      ],
      "text/latex": [
       "896"
      ],
      "text/markdown": [
       "896"
      ],
      "text/plain": [
       "[1] 896"
      ]
     },
     "metadata": {},
     "output_type": "display_data"
    }
   ],
   "source": [
    "nrow(meta)"
   ]
  },
  {
   "cell_type": "code",
   "execution_count": 23,
   "id": "910c3126-e668-465e-9591-240616195b5e",
   "metadata": {
    "tags": []
   },
   "outputs": [],
   "source": [
    "labs <- unique(labs)"
   ]
  },
  {
   "cell_type": "markdown",
   "id": "66306bfa-a357-42bf-b4cd-64e09cd69fa0",
   "metadata": {},
   "source": [
    "Some entries are duplicates missing all values. We can find and remove these by counting the number of missing labs, and keep the row that has the most per sample."
   ]
  },
  {
   "cell_type": "code",
   "execution_count": 24,
   "id": "565bda29-e51a-4b5f-9deb-585723a54628",
   "metadata": {
    "tags": []
   },
   "outputs": [],
   "source": [
    "count_missing <- function(x) {\n",
    "    sum(is.na(x) | x == \"\")\n",
    "}"
   ]
  },
  {
   "cell_type": "code",
   "execution_count": 25,
   "id": "44ac025a-89ef-41c9-a262-e9e9f3e1542d",
   "metadata": {
    "tags": []
   },
   "outputs": [],
   "source": [
    "labs <- labs %>%\n",
    "  mutate(n_missing = apply(labs, 1, count_missing))"
   ]
  },
  {
   "cell_type": "code",
   "execution_count": 26,
   "id": "0d7680b1-962d-47ce-9ada-5786a3da3f33",
   "metadata": {
    "tags": []
   },
   "outputs": [],
   "source": [
    "labs <- labs %>%\n",
    "  group_by(sample.sampleKitGuid) %>%\n",
    "  arrange(n_missing) %>%\n",
    "  slice(1) %>%\n",
    "  ungroup()"
   ]
  },
  {
   "cell_type": "code",
   "execution_count": 27,
   "id": "66113118-47d9-4a92-8d29-d4855e3bbff7",
   "metadata": {
    "tags": []
   },
   "outputs": [
    {
     "data": {
      "text/html": [
       "898"
      ],
      "text/latex": [
       "898"
      ],
      "text/markdown": [
       "898"
      ],
      "text/plain": [
       "[1] 898"
      ]
     },
     "metadata": {},
     "output_type": "display_data"
    }
   ],
   "source": [
    "nrow(labs)"
   ]
  },
  {
   "cell_type": "markdown",
   "id": "d35dad7a-f121-42a6-baaa-17cbaa5c16c0",
   "metadata": {},
   "source": [
    "## Join metadata and labs"
   ]
  },
  {
   "cell_type": "code",
   "execution_count": 28,
   "id": "747b30bd-bcd5-48a0-a8c9-17906d35d812",
   "metadata": {
    "tags": []
   },
   "outputs": [
    {
     "name": "stderr",
     "output_type": "stream",
     "text": [
      "\u001b[1m\u001b[22mJoining with `by = join_by(subject.subjectGuid, sample.sampleKitGuid)`\n"
     ]
    }
   ],
   "source": [
    "all_results <- meta %>%\n",
    "  left_join(labs) %>%\n",
    "  arrange(subject.subjectGuid, sample.sampleKitGuid)"
   ]
  },
  {
   "cell_type": "code",
   "execution_count": 29,
   "id": "86c94deb-cc6f-42d8-91d2-ab0a97043c1f",
   "metadata": {
    "tags": []
   },
   "outputs": [
    {
     "data": {
      "text/html": [
       "<table class=\"dataframe\">\n",
       "<caption>A tibble: 6 × 73</caption>\n",
       "<thead>\n",
       "\t<tr><th scope=col>subject.subjectGuid</th><th scope=col>subject.cohort</th><th scope=col>subject.biologicalSex</th><th scope=col>subject.race</th><th scope=col>subject.ethnicity</th><th scope=col>subject.birthYear</th><th scope=col>subject.ageAtEnrollment</th><th scope=col>sample.visitName</th><th scope=col>sample.visitDetails</th><th scope=col>sample.sampleGuid</th><th scope=col>⋯</th><th scope=col>infl.rf_iga_result</th><th scope=col>infl.rf_igm_interpretation</th><th scope=col>infl.rf_igm_result</th><th scope=col>lip.chlesterol_hdl_ratio</th><th scope=col>lip.cholesterol_hdl</th><th scope=col>lip.cholesterol_ldl</th><th scope=col>lip.cholesterol_non_hdl</th><th scope=col>lip.cholesterol_total</th><th scope=col>lip.triglycerides</th><th scope=col>n_missing</th></tr>\n",
       "\t<tr><th scope=col>&lt;chr&gt;</th><th scope=col>&lt;chr&gt;</th><th scope=col>&lt;chr&gt;</th><th scope=col>&lt;chr&gt;</th><th scope=col>&lt;chr&gt;</th><th scope=col>&lt;int&gt;</th><th scope=col>&lt;int&gt;</th><th scope=col>&lt;chr&gt;</th><th scope=col>&lt;chr&gt;</th><th scope=col>&lt;chr&gt;</th><th scope=col>⋯</th><th scope=col>&lt;dbl&gt;</th><th scope=col>&lt;chr&gt;</th><th scope=col>&lt;dbl&gt;</th><th scope=col>&lt;dbl&gt;</th><th scope=col>&lt;dbl&gt;</th><th scope=col>&lt;dbl&gt;</th><th scope=col>&lt;dbl&gt;</th><th scope=col>&lt;dbl&gt;</th><th scope=col>&lt;dbl&gt;</th><th scope=col>&lt;int&gt;</th></tr>\n",
       "</thead>\n",
       "<tbody>\n",
       "\t<tr><td>BR1001</td><td>BR1</td><td>Female</td><td>Caucasian</td><td>Non-Hispanic origin</td><td>1987</td><td>32</td><td>Flu Year 1 Day 0 </td><td>N/A - Flu-Series Timepoint Only</td><td>00000599</td><td>⋯</td><td> 0</td><td>Negative</td><td>5.902</td><td>2.6</td><td>65</td><td>85</td><td>104</td><td>169</td><td> 94</td><td> 5</td></tr>\n",
       "\t<tr><td>BR1001</td><td>BR1</td><td>Female</td><td>Caucasian</td><td>Non-Hispanic origin</td><td>1987</td><td>32</td><td>Flu Year 1 Day 7 </td><td>N/A - Flu-Series Timepoint Only</td><td>00000729</td><td>⋯</td><td>NA</td><td>        </td><td>   NA</td><td> NA</td><td>NA</td><td>NA</td><td> NA</td><td> NA</td><td> NA</td><td>58</td></tr>\n",
       "\t<tr><td>BR1001</td><td>BR1</td><td>Female</td><td>Caucasian</td><td>Non-Hispanic origin</td><td>1987</td><td>32</td><td>Flu Year 1 Day 90</td><td>N/A - Flu-Series Timepoint Only</td><td>00001811</td><td>⋯</td><td>NA</td><td>        </td><td>   NA</td><td> NA</td><td>NA</td><td>NA</td><td> NA</td><td> NA</td><td> NA</td><td>56</td></tr>\n",
       "\t<tr><td>BR1002</td><td>BR1</td><td>Male  </td><td>Caucasian</td><td>Non-Hispanic origin</td><td>1991</td><td>28</td><td>Flu Year 1 Day 0 </td><td>N/A - Flu-Series Timepoint Only</td><td>00000641</td><td>⋯</td><td>NA</td><td>        </td><td>   NA</td><td>2.8</td><td>56</td><td>72</td><td> 99</td><td>155</td><td>197</td><td>11</td></tr>\n",
       "\t<tr><td>BR1002</td><td>BR1</td><td>Male  </td><td>Caucasian</td><td>Non-Hispanic origin</td><td>1991</td><td>28</td><td>Flu Year 1 Day 7 </td><td>N/A - Flu-Series Timepoint Only</td><td>00000730</td><td>⋯</td><td>NA</td><td>        </td><td>   NA</td><td>2.5</td><td>61</td><td>80</td><td> 93</td><td>154</td><td> 58</td><td>11</td></tr>\n",
       "\t<tr><td>BR1002</td><td>BR1</td><td>Male  </td><td>Caucasian</td><td>Non-Hispanic origin</td><td>1991</td><td>28</td><td>Flu Year 1 Day 90</td><td>N/A - Flu-Series Timepoint Only</td><td>00001808</td><td>⋯</td><td>NA</td><td>        </td><td>   NA</td><td>2.3</td><td>65</td><td>71</td><td> 84</td><td>149</td><td> 45</td><td>11</td></tr>\n",
       "</tbody>\n",
       "</table>\n"
      ],
      "text/latex": [
       "A tibble: 6 × 73\n",
       "\\begin{tabular}{lllllllllllllllllllll}\n",
       " subject.subjectGuid & subject.cohort & subject.biologicalSex & subject.race & subject.ethnicity & subject.birthYear & subject.ageAtEnrollment & sample.visitName & sample.visitDetails & sample.sampleGuid & ⋯ & infl.rf\\_iga\\_result & infl.rf\\_igm\\_interpretation & infl.rf\\_igm\\_result & lip.chlesterol\\_hdl\\_ratio & lip.cholesterol\\_hdl & lip.cholesterol\\_ldl & lip.cholesterol\\_non\\_hdl & lip.cholesterol\\_total & lip.triglycerides & n\\_missing\\\\\n",
       " <chr> & <chr> & <chr> & <chr> & <chr> & <int> & <int> & <chr> & <chr> & <chr> & ⋯ & <dbl> & <chr> & <dbl> & <dbl> & <dbl> & <dbl> & <dbl> & <dbl> & <dbl> & <int>\\\\\n",
       "\\hline\n",
       "\t BR1001 & BR1 & Female & Caucasian & Non-Hispanic origin & 1987 & 32 & Flu Year 1 Day 0  & N/A - Flu-Series Timepoint Only & 00000599 & ⋯ &  0 & Negative & 5.902 & 2.6 & 65 & 85 & 104 & 169 &  94 &  5\\\\\n",
       "\t BR1001 & BR1 & Female & Caucasian & Non-Hispanic origin & 1987 & 32 & Flu Year 1 Day 7  & N/A - Flu-Series Timepoint Only & 00000729 & ⋯ & NA &          &    NA &  NA & NA & NA &  NA &  NA &  NA & 58\\\\\n",
       "\t BR1001 & BR1 & Female & Caucasian & Non-Hispanic origin & 1987 & 32 & Flu Year 1 Day 90 & N/A - Flu-Series Timepoint Only & 00001811 & ⋯ & NA &          &    NA &  NA & NA & NA &  NA &  NA &  NA & 56\\\\\n",
       "\t BR1002 & BR1 & Male   & Caucasian & Non-Hispanic origin & 1991 & 28 & Flu Year 1 Day 0  & N/A - Flu-Series Timepoint Only & 00000641 & ⋯ & NA &          &    NA & 2.8 & 56 & 72 &  99 & 155 & 197 & 11\\\\\n",
       "\t BR1002 & BR1 & Male   & Caucasian & Non-Hispanic origin & 1991 & 28 & Flu Year 1 Day 7  & N/A - Flu-Series Timepoint Only & 00000730 & ⋯ & NA &          &    NA & 2.5 & 61 & 80 &  93 & 154 &  58 & 11\\\\\n",
       "\t BR1002 & BR1 & Male   & Caucasian & Non-Hispanic origin & 1991 & 28 & Flu Year 1 Day 90 & N/A - Flu-Series Timepoint Only & 00001808 & ⋯ & NA &          &    NA & 2.3 & 65 & 71 &  84 & 149 &  45 & 11\\\\\n",
       "\\end{tabular}\n"
      ],
      "text/markdown": [
       "\n",
       "A tibble: 6 × 73\n",
       "\n",
       "| subject.subjectGuid &lt;chr&gt; | subject.cohort &lt;chr&gt; | subject.biologicalSex &lt;chr&gt; | subject.race &lt;chr&gt; | subject.ethnicity &lt;chr&gt; | subject.birthYear &lt;int&gt; | subject.ageAtEnrollment &lt;int&gt; | sample.visitName &lt;chr&gt; | sample.visitDetails &lt;chr&gt; | sample.sampleGuid &lt;chr&gt; | ⋯ ⋯ | infl.rf_iga_result &lt;dbl&gt; | infl.rf_igm_interpretation &lt;chr&gt; | infl.rf_igm_result &lt;dbl&gt; | lip.chlesterol_hdl_ratio &lt;dbl&gt; | lip.cholesterol_hdl &lt;dbl&gt; | lip.cholesterol_ldl &lt;dbl&gt; | lip.cholesterol_non_hdl &lt;dbl&gt; | lip.cholesterol_total &lt;dbl&gt; | lip.triglycerides &lt;dbl&gt; | n_missing &lt;int&gt; |\n",
       "|---|---|---|---|---|---|---|---|---|---|---|---|---|---|---|---|---|---|---|---|---|\n",
       "| BR1001 | BR1 | Female | Caucasian | Non-Hispanic origin | 1987 | 32 | Flu Year 1 Day 0  | N/A - Flu-Series Timepoint Only | 00000599 | ⋯ |  0 | Negative | 5.902 | 2.6 | 65 | 85 | 104 | 169 |  94 |  5 |\n",
       "| BR1001 | BR1 | Female | Caucasian | Non-Hispanic origin | 1987 | 32 | Flu Year 1 Day 7  | N/A - Flu-Series Timepoint Only | 00000729 | ⋯ | NA | <!----> |    NA |  NA | NA | NA |  NA |  NA |  NA | 58 |\n",
       "| BR1001 | BR1 | Female | Caucasian | Non-Hispanic origin | 1987 | 32 | Flu Year 1 Day 90 | N/A - Flu-Series Timepoint Only | 00001811 | ⋯ | NA | <!----> |    NA |  NA | NA | NA |  NA |  NA |  NA | 56 |\n",
       "| BR1002 | BR1 | Male   | Caucasian | Non-Hispanic origin | 1991 | 28 | Flu Year 1 Day 0  | N/A - Flu-Series Timepoint Only | 00000641 | ⋯ | NA | <!----> |    NA | 2.8 | 56 | 72 |  99 | 155 | 197 | 11 |\n",
       "| BR1002 | BR1 | Male   | Caucasian | Non-Hispanic origin | 1991 | 28 | Flu Year 1 Day 7  | N/A - Flu-Series Timepoint Only | 00000730 | ⋯ | NA | <!----> |    NA | 2.5 | 61 | 80 |  93 | 154 |  58 | 11 |\n",
       "| BR1002 | BR1 | Male   | Caucasian | Non-Hispanic origin | 1991 | 28 | Flu Year 1 Day 90 | N/A - Flu-Series Timepoint Only | 00001808 | ⋯ | NA | <!----> |    NA | 2.3 | 65 | 71 |  84 | 149 |  45 | 11 |\n",
       "\n"
      ],
      "text/plain": [
       "  subject.subjectGuid subject.cohort subject.biologicalSex subject.race\n",
       "1 BR1001              BR1            Female                Caucasian   \n",
       "2 BR1001              BR1            Female                Caucasian   \n",
       "3 BR1001              BR1            Female                Caucasian   \n",
       "4 BR1002              BR1            Male                  Caucasian   \n",
       "5 BR1002              BR1            Male                  Caucasian   \n",
       "6 BR1002              BR1            Male                  Caucasian   \n",
       "  subject.ethnicity   subject.birthYear subject.ageAtEnrollment\n",
       "1 Non-Hispanic origin 1987              32                     \n",
       "2 Non-Hispanic origin 1987              32                     \n",
       "3 Non-Hispanic origin 1987              32                     \n",
       "4 Non-Hispanic origin 1991              28                     \n",
       "5 Non-Hispanic origin 1991              28                     \n",
       "6 Non-Hispanic origin 1991              28                     \n",
       "  sample.visitName  sample.visitDetails             sample.sampleGuid ⋯\n",
       "1 Flu Year 1 Day 0  N/A - Flu-Series Timepoint Only 00000599          ⋯\n",
       "2 Flu Year 1 Day 7  N/A - Flu-Series Timepoint Only 00000729          ⋯\n",
       "3 Flu Year 1 Day 90 N/A - Flu-Series Timepoint Only 00001811          ⋯\n",
       "4 Flu Year 1 Day 0  N/A - Flu-Series Timepoint Only 00000641          ⋯\n",
       "5 Flu Year 1 Day 7  N/A - Flu-Series Timepoint Only 00000730          ⋯\n",
       "6 Flu Year 1 Day 90 N/A - Flu-Series Timepoint Only 00001808          ⋯\n",
       "  infl.rf_iga_result infl.rf_igm_interpretation infl.rf_igm_result\n",
       "1  0                 Negative                   5.902             \n",
       "2 NA                                               NA             \n",
       "3 NA                                               NA             \n",
       "4 NA                                               NA             \n",
       "5 NA                                               NA             \n",
       "6 NA                                               NA             \n",
       "  lip.chlesterol_hdl_ratio lip.cholesterol_hdl lip.cholesterol_ldl\n",
       "1 2.6                      65                  85                 \n",
       "2  NA                      NA                  NA                 \n",
       "3  NA                      NA                  NA                 \n",
       "4 2.8                      56                  72                 \n",
       "5 2.5                      61                  80                 \n",
       "6 2.3                      65                  71                 \n",
       "  lip.cholesterol_non_hdl lip.cholesterol_total lip.triglycerides n_missing\n",
       "1 104                     169                    94                5       \n",
       "2  NA                      NA                    NA               58       \n",
       "3  NA                      NA                    NA               56       \n",
       "4  99                     155                   197               11       \n",
       "5  93                     154                    58               11       \n",
       "6  84                     149                    45               11       "
      ]
     },
     "metadata": {},
     "output_type": "display_data"
    }
   ],
   "source": [
    "head(all_results)"
   ]
  },
  {
   "cell_type": "markdown",
   "id": "7c72cade-d79d-4281-bbee-d4630b092c07",
   "metadata": {},
   "source": [
    "## Write assembled lab results"
   ]
  },
  {
   "cell_type": "code",
   "execution_count": 30,
   "id": "f5985026-e318-4c76-a9e4-b0870e0f1100",
   "metadata": {
    "tags": []
   },
   "outputs": [],
   "source": [
    "out_file <- paste0(\"output/br1-br2_assembled_labs_\", Sys.Date(), \".csv\")\n",
    "write.csv(\n",
    "    all_results,\n",
    "    out_file,\n",
    "    row.names = FALSE,\n",
    "    quote = TRUE\n",
    ")"
   ]
  },
  {
   "cell_type": "code",
   "execution_count": 31,
   "id": "9fdd9130-6c72-4aab-9eb2-6a40863d44f6",
   "metadata": {
    "tags": []
   },
   "outputs": [
    {
     "data": {
      "text/plain": [
       "R version 4.3.2 (2023-10-31)\n",
       "Platform: x86_64-conda-linux-gnu (64-bit)\n",
       "Running under: Ubuntu 20.04.6 LTS\n",
       "\n",
       "Matrix products: default\n",
       "BLAS/LAPACK: /opt/conda/lib/libopenblasp-r0.3.25.so;  LAPACK version 3.11.0\n",
       "\n",
       "locale:\n",
       " [1] LC_CTYPE=C.UTF-8       LC_NUMERIC=C           LC_TIME=C.UTF-8       \n",
       " [4] LC_COLLATE=C.UTF-8     LC_MONETARY=C.UTF-8    LC_MESSAGES=C.UTF-8   \n",
       " [7] LC_PAPER=C.UTF-8       LC_NAME=C              LC_ADDRESS=C          \n",
       "[10] LC_TELEPHONE=C         LC_MEASUREMENT=C.UTF-8 LC_IDENTIFICATION=C   \n",
       "\n",
       "time zone: Etc/UTC\n",
       "tzcode source: system (glibc)\n",
       "\n",
       "attached base packages:\n",
       "[1] stats     graphics  grDevices utils     datasets  methods   base     \n",
       "\n",
       "other attached packages:\n",
       "[1] dplyr_1.1.4\n",
       "\n",
       "loaded via a namespace (and not attached):\n",
       " [1] digest_0.6.34    IRdisplay_1.1    R6_2.5.1         utf8_1.2.4      \n",
       " [5] base64enc_0.1-3  fastmap_1.1.1    tidyselect_1.2.0 magrittr_2.0.3  \n",
       " [9] glue_1.7.0       tibble_3.2.1     pkgconfig_2.0.3  htmltools_0.5.7 \n",
       "[13] generics_0.1.3   repr_1.1.6.9000  lifecycle_1.0.4  cli_3.6.2       \n",
       "[17] fansi_1.0.6      vctrs_0.6.5      withr_3.0.0      pbdZMQ_0.3-10   \n",
       "[21] compiler_4.3.2   tools_4.3.2      evaluate_0.23    pillar_1.9.0    \n",
       "[25] crayon_1.5.2     rlang_1.1.3      jsonlite_1.8.8   IRkernel_1.3.2  \n",
       "[29] uuid_1.2-0      "
      ]
     },
     "metadata": {},
     "output_type": "display_data"
    }
   ],
   "source": [
    "sessionInfo()"
   ]
  },
  {
   "cell_type": "code",
   "execution_count": null,
   "id": "35e86ac0-1f5e-423a-a7b0-7ff175d36951",
   "metadata": {},
   "outputs": [],
   "source": []
  }
 ],
 "metadata": {
  "kernelspec": {
   "display_name": "R 4",
   "language": "R",
   "name": "ir4"
  },
  "language_info": {
   "codemirror_mode": "r",
   "file_extension": ".r",
   "mimetype": "text/x-r-source",
   "name": "R",
   "pygments_lexer": "r",
   "version": "4.3.2"
  }
 },
 "nbformat": 4,
 "nbformat_minor": 5
}
