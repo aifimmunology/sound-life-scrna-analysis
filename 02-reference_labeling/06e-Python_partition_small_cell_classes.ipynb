{
 "cells": [
  {
   "cell_type": "markdown",
   "id": "644797f6-452f-4556-ae8c-9e4c9ef6148c",
   "metadata": {},
   "source": [
    "# Partition Cell Types for QC Review\n",
    "\n",
    "To ensure that our cell type labels are as accurate as possible, we'll subset our dataset based on our `AIFI_L2` labels for review.\n",
    "\n",
    "Previously, we split our dataset up into 8 subsets based on cohort, biological sex, and CMV status. Here, we'll combine these per L2 cell type for less abundant cell types to simplify review. For very abundant cell types (i.e. Naive CD4 T cells), we'll keep them separated into the 8 groups and review each. \n",
    "\n",
    "This should reduce the burden of trying to cluster >2M cells (which can be very slow) without significantly reducing our power to identify doublets or mislabeled cells, as we'll still have >100k cells for these large classes.\n",
    "\n",
    "In a later step, we'll generate rules to filter these clustered subsets of cells to help us in identifying doublets, contaminated clusters (i.e. with erythrocyte content), and mislabeled cells."
   ]
  },
  {
   "cell_type": "markdown",
   "id": "e1780f10-911f-49ad-8616-ef4621569998",
   "metadata": {},
   "source": [
    "## Load libraries"
   ]
  },
  {
   "cell_type": "code",
   "execution_count": 1,
   "id": "14f6adf6-22dc-4b0a-be8b-3c32d6d67f2b",
   "metadata": {},
   "outputs": [],
   "source": [
    "import warnings\n",
    "warnings.simplefilter(action='ignore', category=FutureWarning)\n",
    "warnings.simplefilter(action='ignore', category=RuntimeWarning)\n",
    "\n",
    "import concurrent.futures\n",
    "from concurrent.futures import ThreadPoolExecutor\n",
    "from datetime import date\n",
    "import hisepy\n",
    "import os\n",
    "import pandas as pd\n",
    "import re\n",
    "import scanpy as sc\n",
    "import scanpy.external as sce"
   ]
  },
  {
   "cell_type": "code",
   "execution_count": 2,
   "id": "d0c4cf85-ebf5-4e82-aee1-4ec98f504388",
   "metadata": {
    "tags": []
   },
   "outputs": [],
   "source": [
    "out_dir = 'output'\n",
    "if not os.path.isdir(out_dir):\n",
    "    os.makedirs(out_dir)"
   ]
  },
  {
   "cell_type": "markdown",
   "id": "c9af4ca6-56b9-4f51-96ef-09a6a8662bf6",
   "metadata": {},
   "source": [
    "## Helper functions\n",
    "\n",
    "These make it a bit simpler to cache and read in files from HISE"
   ]
  },
  {
   "cell_type": "code",
   "execution_count": 3,
   "id": "3fb51b6d-675b-4d5d-98e7-068d6eef58f4",
   "metadata": {},
   "outputs": [],
   "source": [
    "def cache_uuid_path(uuid):\n",
    "    cache_path = '/home/jupyter/cache/{u}'.format(u = uuid)\n",
    "    if not os.path.isdir(cache_path):\n",
    "        hise_res = hisepy.reader.cache_files([uuid])\n",
    "    filename = os.listdir(cache_path)[0]\n",
    "    cache_file = '{p}/{f}'.format(p = cache_path, f = filename)\n",
    "    return cache_file"
   ]
  },
  {
   "cell_type": "code",
   "execution_count": 4,
   "id": "cb46e11a-1544-4c90-a65b-ec3146e6f95c",
   "metadata": {},
   "outputs": [],
   "source": [
    "def read_parquet_uuid(uuid):\n",
    "    cache_file = cache_uuid_path(uuid)\n",
    "    res = pd.read_parquet(cache_file)\n",
    "    return res"
   ]
  },
  {
   "cell_type": "code",
   "execution_count": 5,
   "id": "242645d6-a052-412a-95bb-0783b62cc051",
   "metadata": {},
   "outputs": [],
   "source": [
    "def sort_adata_uuid(uuid, sort_cols = ['AIFI_L2', 'sample.sampleKitGuid']):\n",
    "    cache_file = cache_uuid_path(uuid)\n",
    "    adata = sc.read_h5ad(cache_file)\n",
    "    obs = adata.obs\n",
    "    obs = obs.sort_values(sort_cols)\n",
    "    adata = adata[obs.index]\n",
    "    adata.write_h5ad(cache_file)"
   ]
  },
  {
   "cell_type": "markdown",
   "id": "b2688acd-a14d-443b-866b-34874b3916b2",
   "metadata": {},
   "source": [
    "This function will enable us to connect to our .h5ad files without loading the entire thing into memory. We'll then load only the cells that we want for each cell class to assemble them for writing. This should save us some overhead as we do our subsetting."
   ]
  },
  {
   "cell_type": "code",
   "execution_count": 6,
   "id": "984f5d47-6152-4ef9-b026-e4b3f73fd701",
   "metadata": {},
   "outputs": [],
   "source": [
    "def read_adata_backed_uuid(uuid):\n",
    "    cache_file = cache_uuid_path(uuid)\n",
    "    res = sc.read_h5ad(cache_file, backed = 'r')\n",
    "    return res"
   ]
  },
  {
   "cell_type": "markdown",
   "id": "1287a6fe-2704-412b-9c86-5f429718bb5d",
   "metadata": {},
   "source": [
    "This function will apply a standard normalization, nearest neighbors, clustering, and UMAP process to our cell subsets:"
   ]
  },
  {
   "cell_type": "code",
   "execution_count": 7,
   "id": "8af2374a-0881-41bc-b390-11dd943731d7",
   "metadata": {},
   "outputs": [],
   "source": [
    "def process_adata(adata):\n",
    "    # Keep a copy of the raw data\n",
    "    adata.raw = adata\n",
    "\n",
    "    print('Normalizing')\n",
    "    # Normalize and log transform\n",
    "    sc.pp.normalize_total(adata)\n",
    "    sc.pp.log1p(adata)\n",
    "\n",
    "    print('Finding HVGs')\n",
    "    # Restrict downstream steps to variable genes\n",
    "    sc.pp.highly_variable_genes(adata)\n",
    "    adata = adata[:, adata.var_names[adata.var['highly_variable']]].copy()\n",
    "    print(adata.shape)\n",
    "\n",
    "    print('Scaling')\n",
    "    # Scale variable genes\n",
    "    sc.pp.scale(adata)\n",
    "\n",
    "    print('PCA')\n",
    "    # Run PCA\n",
    "    sc.tl.pca(adata, svd_solver = 'arpack')\n",
    "\n",
    "    print('Neighbors')\n",
    "    # Find nearest neighbors\n",
    "    sc.pp.neighbors(\n",
    "        adata, \n",
    "        n_neighbors = 50,\n",
    "        n_pcs = 30\n",
    "    )\n",
    "\n",
    "    print('Leiden')\n",
    "    # Find clusters\n",
    "    sc.tl.leiden(\n",
    "        adata, \n",
    "        resolution = 2, \n",
    "        key_added = 'leiden_2',\n",
    "        n_iterations = 2\n",
    "    )\n",
    "\n",
    "    print('UMAP')\n",
    "    # Run UMAP\n",
    "    sc.tl.umap(adata, min_dist = 0.05)\n",
    "\n",
    "    return adata"
   ]
  },
  {
   "cell_type": "code",
   "execution_count": 8,
   "id": "29120196-11d2-4145-bd68-949b9ca1888e",
   "metadata": {},
   "outputs": [],
   "source": [
    "def format_cell_type(cell_type):\n",
    "    cell_type = re.sub('\\\\+', 'pos', cell_type)\n",
    "    cell_type = re.sub('-', 'neg', cell_type)\n",
    "    cell_type = re.sub(' ', '_', cell_type)\n",
    "    return cell_type"
   ]
  },
  {
   "cell_type": "code",
   "execution_count": 9,
   "id": "3588dace-88b5-4b96-bdd6-e2601ca37aeb",
   "metadata": {},
   "outputs": [],
   "source": [
    "def element_id(n = 3):\n",
    "    import periodictable\n",
    "    from random import randrange\n",
    "    rand_el = []\n",
    "    for i in range(n):\n",
    "        el = randrange(0,118)\n",
    "        rand_el.append(periodictable.elements[el].name)\n",
    "    rand_str = '-'.join(rand_el)\n",
    "    return rand_str"
   ]
  },
  {
   "cell_type": "markdown",
   "id": "8477eecd-5715-4c67-844d-5f09b5c9d4b8",
   "metadata": {},
   "source": [
    "## Identify files for use in HISE"
   ]
  },
  {
   "cell_type": "code",
   "execution_count": 10,
   "id": "79d204d7-6f3f-4e5f-a932-da40d861f7c6",
   "metadata": {},
   "outputs": [],
   "source": [
    "search_id = 'chromium-meitnerium-europium'"
   ]
  },
  {
   "cell_type": "markdown",
   "id": "72b2a6c9-a270-44d1-8d3b-cc07699c42ee",
   "metadata": {},
   "source": [
    "Retrieve files stored in our HISE project store"
   ]
  },
  {
   "cell_type": "code",
   "execution_count": 11,
   "id": "ee7f102e-6fe0-46f5-8da9-2f8e4da1dff6",
   "metadata": {},
   "outputs": [],
   "source": [
    "ps_df = hisepy.list_files_in_project_store('cohorts')\n",
    "ps_df = ps_df[['id', 'name']]"
   ]
  },
  {
   "cell_type": "markdown",
   "id": "1c409e91-5bf2-42fd-84f6-fb66af3755d9",
   "metadata": {},
   "source": [
    "Filter for files from the previous notebook using our search_id"
   ]
  },
  {
   "cell_type": "code",
   "execution_count": 12,
   "id": "79ad975b-2785-438f-8292-3d1c7dae0d29",
   "metadata": {},
   "outputs": [],
   "source": [
    "search_df = ps_df[ps_df['name'].str.contains(search_id)]\n",
    "search_df = search_df.sort_values('name')"
   ]
  },
  {
   "cell_type": "markdown",
   "id": "2e3dc7f7-d678-4a91-aa77-f6103e4e0481",
   "metadata": {},
   "source": [
    "## Read cell metadata to identify large subsets"
   ]
  },
  {
   "cell_type": "code",
   "execution_count": 13,
   "id": "a8149721-a131-4beb-81d6-9361d92335be",
   "metadata": {},
   "outputs": [],
   "source": [
    "pq_df = search_df[search_df['name'].str.contains('.parquet')]"
   ]
  },
  {
   "cell_type": "code",
   "execution_count": 14,
   "id": "bdf49f0c-5069-4ec0-a9f7-a9363fd112f3",
   "metadata": {},
   "outputs": [],
   "source": [
    "pq_uuids = {}\n",
    "for i in range(pq_df.shape[0]):\n",
    "    fn = pq_df['name'].tolist()[i]\n",
    "    group_name = re.sub('.+_PBMC_', '', fn)\n",
    "    group_name = re.sub('_qc.+', '', group_name)\n",
    "    pq_uuids[group_name] = pq_df['id'].tolist()[i]"
   ]
  },
  {
   "cell_type": "code",
   "execution_count": 15,
   "id": "2aa08c79-fbf7-4742-a112-cab7611fdf6f",
   "metadata": {},
   "outputs": [
    {
     "data": {
      "text/plain": [
       "{'BR1_Female_Negative': 'a0ce94a0-de3f-46a1-99bc-3acf24dae0ea',\n",
       " 'BR1_Female_Positive': 'd0b5c470-2481-455f-9b8e-b6ca28ea4bbe',\n",
       " 'BR1_Male_Negative': 'd9cffce7-4018-43b8-afea-9176b1b54532',\n",
       " 'BR1_Male_Positive': '28a22e8e-0aca-45db-9e28-19907d297a38',\n",
       " 'BR2_Female_Negative': 'ee89cb24-7439-486c-8f50-983895e6d4b7',\n",
       " 'BR2_Female_Positive': 'bb47f341-d036-4054-8783-0a66b44e5c08',\n",
       " 'BR2_Male_Negative': '6331f471-6bc3-49a8-9b4b-d83c7dd95320',\n",
       " 'BR2_Male_Positive': 'bdaef83d-76da-4bc7-acc6-5db2006908fa'}"
      ]
     },
     "execution_count": 15,
     "metadata": {},
     "output_type": "execute_result"
    }
   ],
   "source": [
    "pq_uuids"
   ]
  },
  {
   "cell_type": "code",
   "execution_count": 16,
   "id": "850bf69b-24a6-41ec-84bb-40382b1b4c25",
   "metadata": {},
   "outputs": [],
   "source": [
    "meta_dict = {}\n",
    "for group_name, uuid in pq_uuids.items():\n",
    "    meta_dict[group_name] = read_parquet_uuid(uuid)"
   ]
  },
  {
   "cell_type": "code",
   "execution_count": 17,
   "id": "5aaa45cd-8abe-4878-8f8c-c88db7ba8da5",
   "metadata": {},
   "outputs": [],
   "source": [
    "l2_counts = {}\n",
    "for group_name, meta in meta_dict.items():\n",
    "    counts = meta['AIFI_L2'].value_counts()\n",
    "    l2_counts[group_name] = counts"
   ]
  },
  {
   "cell_type": "code",
   "execution_count": 18,
   "id": "6e220f22-10b2-43a2-b5d5-ac5f2d1e612d",
   "metadata": {},
   "outputs": [],
   "source": [
    "total_l2_counts = sum(list(l2_counts.values()))"
   ]
  },
  {
   "cell_type": "code",
   "execution_count": 19,
   "id": "72b031ea-1e1e-4e20-afa1-a087c6f71a14",
   "metadata": {},
   "outputs": [
    {
     "data": {
      "text/plain": [
       "AIFI_L2\n",
       "ASDC                        4008\n",
       "CD14 monocyte            2268111\n",
       "CD16 monocyte             405852\n",
       "CD56bright NK cell         96063\n",
       "CD56dim NK cell          1123560\n",
       "CD8aa                      17893\n",
       "DN T cell                  17648\n",
       "Effector B cell            86541\n",
       "Erythrocyte                28362\n",
       "ILC                         5734\n",
       "Intermediate monocyte      76160\n",
       "MAIT                      381960\n",
       "Memory B cell             389804\n",
       "Memory CD4 T cell        2812203\n",
       "Memory CD8 T cell        1539618\n",
       "Naive B cell              725113\n",
       "Naive CD4 T cell         2986280\n",
       "Naive CD8 T cell          833785\n",
       "Plasma cell                16569\n",
       "Platelet                   72385\n",
       "Progenitor cell            12457\n",
       "Proliferating NK cell      20542\n",
       "Proliferating T cell       18632\n",
       "Transitional B cell        79851\n",
       "Treg                      308864\n",
       "cDC1                        8142\n",
       "cDC2                      113465\n",
       "gdT                       318356\n",
       "pDC                        62064\n",
       "Name: count, dtype: int64"
      ]
     },
     "execution_count": 19,
     "metadata": {},
     "output_type": "execute_result"
    }
   ],
   "source": [
    "total_l2_counts"
   ]
  },
  {
   "cell_type": "markdown",
   "id": "3aa2241c-8813-46d8-b782-2709188489f5",
   "metadata": {},
   "source": [
    "These L2 labels have > 1M cells each. We'll keep them separated per sample group."
   ]
  },
  {
   "cell_type": "code",
   "execution_count": 20,
   "id": "6f096bf5-f96a-4cc8-b711-645808a09851",
   "metadata": {},
   "outputs": [
    {
     "data": {
      "text/plain": [
       "['CD14 monocyte',\n",
       " 'CD56dim NK cell',\n",
       " 'Memory CD4 T cell',\n",
       " 'Memory CD8 T cell',\n",
       " 'Naive CD4 T cell']"
      ]
     },
     "execution_count": 20,
     "metadata": {},
     "output_type": "execute_result"
    }
   ],
   "source": [
    "large_types = total_l2_counts.index[total_l2_counts > 1e6]\n",
    "large_types.tolist()"
   ]
  },
  {
   "cell_type": "markdown",
   "id": "f209a040-3823-4fd7-9960-66ebaebb7b97",
   "metadata": {},
   "source": [
    "## Download and sort .h5ad files\n",
    "\n",
    "Sorting the .h5ad files by AIFI_L2 will make reading each cell type much faster by placing cells of the same type next to each other in the sparse matrix."
   ]
  },
  {
   "cell_type": "code",
   "execution_count": 21,
   "id": "3863edb4-2ba0-4b9d-bb86-f33374db3a4d",
   "metadata": {},
   "outputs": [],
   "source": [
    "h5ad_df = search_df[search_df['name'].str.contains('.h5ad')]"
   ]
  },
  {
   "cell_type": "code",
   "execution_count": 22,
   "id": "5436287e-d990-4b55-97b4-acac7ab15558",
   "metadata": {},
   "outputs": [],
   "source": [
    "h5ad_uuids = {}\n",
    "for i in range(h5ad_df.shape[0]):\n",
    "    fn = h5ad_df['name'].tolist()[i]\n",
    "    group_name = re.sub('.+_PBMC_', '', fn)\n",
    "    group_name = re.sub('_qc.+', '', group_name)\n",
    "    h5ad_uuids[group_name] = h5ad_df['id'].tolist()[i]"
   ]
  },
  {
   "cell_type": "code",
   "execution_count": 23,
   "id": "6d27b7ab-9b17-4e13-bd34-44d662eb2420",
   "metadata": {},
   "outputs": [
    {
     "data": {
      "text/plain": [
       "{'BR1_Female_Negative': '73894515-92dc-4865-9247-e38f7911a529',\n",
       " 'BR1_Female_Positive': '361c5e80-2a86-4c26-a494-fb46401fe1e2',\n",
       " 'BR1_Male_Negative': '1ff69ea5-e189-4875-9178-5af2a61186e6',\n",
       " 'BR1_Male_Positive': '72ca8c5f-3e1c-4360-856d-b53657697793',\n",
       " 'BR2_Female_Negative': '74755a15-f0a1-411e-b071-7fd802b60e80',\n",
       " 'BR2_Female_Positive': '277489fd-12fe-48ed-b3a0-7494858fa512',\n",
       " 'BR2_Male_Negative': '425b59cc-098d-4833-ae5f-57c4582421c9',\n",
       " 'BR2_Male_Positive': '5ba4e36b-3928-4023-90a0-403e0c43a809'}"
      ]
     },
     "execution_count": 23,
     "metadata": {},
     "output_type": "execute_result"
    }
   ],
   "source": [
    "h5ad_uuids"
   ]
  },
  {
   "cell_type": "code",
   "execution_count": 24,
   "id": "a0ceec86-893e-4c7d-a660-b1a00665f7a3",
   "metadata": {},
   "outputs": [
    {
     "name": "stdout",
     "output_type": "stream",
     "text": [
      "downloading fileID: 73894515-92dc-4865-9247-e38f7911a529\n",
      "Files have been successfully downloaded!\n",
      "downloading fileID: 361c5e80-2a86-4c26-a494-fb46401fe1e2\n",
      "Files have been successfully downloaded!\n",
      "downloading fileID: 74755a15-f0a1-411e-b071-7fd802b60e80\n",
      "Files have been successfully downloaded!\n",
      "downloading fileID: 277489fd-12fe-48ed-b3a0-7494858fa512\n",
      "Files have been successfully downloaded!\n",
      "downloading fileID: 425b59cc-098d-4833-ae5f-57c4582421c9\n",
      "Files have been successfully downloaded!\n",
      "downloading fileID: 5ba4e36b-3928-4023-90a0-403e0c43a809\n",
      "Files have been successfully downloaded!\n"
     ]
    }
   ],
   "source": [
    "for uuid in h5ad_uuids.values():\n",
    "    sort_adata_uuid(uuid, sort_cols = ['AIFI_L2', 'sample.sampleKitGuid'])"
   ]
  },
  {
   "cell_type": "markdown",
   "id": "e3de61b1-22d2-4560-b555-bf53ee14f1d4",
   "metadata": {},
   "source": [
    "## Open connections to .h5ad files\n",
    "\n",
    "Now that they're sorted, we can open these files with on-disk backing so we don't have to read the entire file at once."
   ]
  },
  {
   "cell_type": "code",
   "execution_count": 25,
   "id": "43ffabfc-8ffb-4953-93df-2ca7578436eb",
   "metadata": {},
   "outputs": [],
   "source": [
    "h5ad_conn = {}\n",
    "for group_name, uuid in h5ad_uuids.items():\n",
    "    h5ad_conn[group_name] = read_adata_backed_uuid(uuid)"
   ]
  },
  {
   "cell_type": "markdown",
   "id": "5de49ce5-1639-471b-b5fc-0028aaea94b3",
   "metadata": {},
   "source": [
    "## Process each cell type"
   ]
  },
  {
   "cell_type": "code",
   "execution_count": 26,
   "id": "383817a6-3607-40b4-a618-c608c396ad58",
   "metadata": {},
   "outputs": [],
   "source": [
    "l2_types = total_l2_counts.index.tolist()\n",
    "l2_types = set(l2_types) - set(large_types)\n",
    "l2_types = list(l2_types)"
   ]
  },
  {
   "cell_type": "code",
   "execution_count": 27,
   "id": "098bc3b3-1a39-4836-ab4a-5cf4b0fcc449",
   "metadata": {},
   "outputs": [],
   "source": [
    "def read_l2_type(adata, cell_type):\n",
    "    type_adata = adata[adata.obs['AIFI_L2'] == cell_type].to_memory()\n",
    "    return type_adata"
   ]
  },
  {
   "cell_type": "code",
   "execution_count": 28,
   "id": "eb9f06d3-2faa-4e71-af37-b66a82dfca00",
   "metadata": {},
   "outputs": [],
   "source": [
    "out_files = []"
   ]
  },
  {
   "cell_type": "code",
   "execution_count": 29,
   "id": "657f5fff-29b1-462b-957c-9a158b45d2ad",
   "metadata": {
    "scrolled": true
   },
   "outputs": [
    {
     "name": "stdout",
     "output_type": "stream",
     "text": [
      "CD16 monocyte\n",
      "Loading data\n"
     ]
    },
    {
     "name": "stderr",
     "output_type": "stream",
     "text": [
      "/opt/conda/lib/python3.10/site-packages/anndata/_core/anndata.py:1179: SettingWithCopyWarning: \n",
      "A value is trying to be set on a copy of a slice from a DataFrame.\n",
      "Try using .loc[row_indexer,col_indexer] = value instead\n",
      "\n",
      "See the caveats in the documentation: https://pandas.pydata.org/pandas-docs/stable/user_guide/indexing.html#returning-a-view-versus-a-copy\n",
      "  df_sub[k] = df_sub[k].cat.remove_unused_categories()\n"
     ]
    },
    {
     "name": "stdout",
     "output_type": "stream",
     "text": [
      "Combining and processing\n",
      "(405852, 33538)\n",
      "Normalizing\n",
      "Finding HVGs\n",
      "(405852, 1177)\n",
      "Scaling\n",
      "PCA\n",
      "Neighbors\n",
      "Leiden\n",
      "UMAP\n",
      "Saving processed data\n",
      "CD56bright NK cell\n",
      "Loading data\n",
      "Combining and processing\n",
      "(96063, 33538)\n",
      "Normalizing\n",
      "Finding HVGs\n",
      "(96063, 1343)\n",
      "Scaling\n",
      "PCA\n",
      "Neighbors\n",
      "Leiden\n",
      "UMAP\n",
      "Saving processed data\n",
      "Naive CD8 T cell\n",
      "Loading data\n",
      "Combining and processing\n",
      "(833785, 33538)\n",
      "Normalizing\n",
      "Finding HVGs\n",
      "(833785, 910)\n",
      "Scaling\n",
      "PCA\n",
      "Neighbors\n",
      "Leiden\n",
      "UMAP\n",
      "Saving processed data\n",
      "Treg\n",
      "Loading data\n",
      "Combining and processing\n",
      "(308864, 33538)\n",
      "Normalizing\n",
      "Finding HVGs\n",
      "(308864, 1321)\n",
      "Scaling\n",
      "PCA\n",
      "Neighbors\n",
      "Leiden\n",
      "UMAP\n",
      "Saving processed data\n",
      "Plasma cell\n",
      "Loading data\n",
      "Combining and processing\n",
      "(16569, 33538)\n",
      "Normalizing\n",
      "Finding HVGs\n",
      "(16569, 2569)\n",
      "Scaling\n",
      "PCA\n",
      "Neighbors\n",
      "Leiden\n",
      "UMAP\n",
      "Saving processed data\n",
      "ILC\n",
      "Loading data\n",
      "Combining and processing\n",
      "(5734, 33538)\n",
      "Normalizing\n",
      "Finding HVGs\n",
      "(5734, 1856)\n",
      "Scaling\n",
      "PCA\n",
      "Neighbors\n",
      "Leiden\n",
      "UMAP\n",
      "Saving processed data\n",
      "Platelet\n",
      "Loading data\n",
      "Combining and processing\n",
      "(72385, 33538)\n",
      "Normalizing\n",
      "Finding HVGs\n",
      "(72385, 2737)\n",
      "Scaling\n",
      "PCA\n",
      "Neighbors\n",
      "Leiden\n",
      "UMAP\n",
      "Saving processed data\n",
      "DN T cell\n",
      "Loading data\n",
      "Combining and processing\n",
      "(17648, 33538)\n",
      "Normalizing\n",
      "Finding HVGs\n",
      "(17648, 1995)\n",
      "Scaling\n",
      "PCA\n",
      "Neighbors\n",
      "Leiden\n",
      "UMAP\n",
      "Saving processed data\n",
      "cDC1\n",
      "Loading data\n",
      "Combining and processing\n",
      "(8142, 33538)\n",
      "Normalizing\n",
      "Finding HVGs\n",
      "(8142, 1780)\n",
      "Scaling\n",
      "PCA\n",
      "Neighbors\n",
      "Leiden\n",
      "UMAP\n",
      "Saving processed data\n",
      "MAIT\n",
      "Loading data\n",
      "Combining and processing\n",
      "(381960, 33538)\n",
      "Normalizing\n",
      "Finding HVGs\n",
      "(381960, 1011)\n",
      "Scaling\n",
      "PCA\n",
      "Neighbors\n",
      "Leiden\n",
      "UMAP\n",
      "Saving processed data\n",
      "UMAP\n",
      "Saving processed data\n",
      "Effector B cell\n",
      "Loading data\n",
      "Combining and processing\n",
      "(86541, 33538)\n",
      "Normalizing\n",
      "Finding HVGs\n",
      "(86541, 1354)\n",
      "Scaling\n",
      "PCA\n",
      "Neighbors\n",
      "Leiden\n",
      "UMAP\n",
      "Saving processed data\n",
      "Memory B cell\n",
      "Loading data\n",
      "Combining and processing\n",
      "(389804, 33538)\n",
      "Normalizing\n",
      "Finding HVGs\n",
      "(389804, 730)\n",
      "Scaling\n",
      "PCA\n",
      "Neighbors\n",
      "Leiden\n",
      "UMAP\n",
      "Saving processed data\n",
      "Progenitor cell\n",
      "Loading data\n",
      "Combining and processing\n",
      "(12457, 33538)\n",
      "Normalizing\n",
      "Finding HVGs\n",
      "(12457, 2068)\n",
      "Scaling\n",
      "PCA\n",
      "Neighbors\n",
      "Leiden\n",
      "UMAP\n",
      "Saving processed data\n",
      "Transitional B cell\n",
      "Loading data\n",
      "Combining and processing\n",
      "(79851, 33538)\n",
      "Normalizing\n",
      "Finding HVGs\n",
      "(79851, 1199)\n",
      "Scaling\n",
      "PCA\n",
      "Neighbors\n",
      "Leiden\n",
      "UMAP\n",
      "Saving processed data\n",
      "Naive B cell\n",
      "Loading data\n",
      "Combining and processing\n",
      "(725113, 33538)\n",
      "Normalizing\n",
      "Finding HVGs\n",
      "(725113, 775)\n",
      "Scaling\n",
      "PCA\n",
      "Neighbors\n",
      "Leiden\n",
      "UMAP\n",
      "Saving processed data\n",
      "gdT\n",
      "Loading data\n",
      "Combining and processing\n",
      "(318356, 33538)\n",
      "Normalizing\n",
      "Finding HVGs\n",
      "(318356, 1171)\n",
      "Scaling\n",
      "PCA\n",
      "Neighbors\n",
      "Leiden\n",
      "UMAP\n",
      "Saving processed data\n",
      "cDC2\n",
      "Loading data\n",
      "Combining and processing\n",
      "(113465, 33538)\n",
      "Normalizing\n",
      "Finding HVGs\n",
      "(113465, 1348)\n",
      "Scaling\n",
      "PCA\n",
      "Neighbors\n",
      "Leiden\n",
      "UMAP\n",
      "Saving processed data\n",
      "Proliferating NK cell\n",
      "Loading data\n",
      "Combining and processing\n",
      "(20542, 33538)\n",
      "Normalizing\n",
      "Finding HVGs\n",
      "(20542, 2241)\n",
      "Scaling\n",
      "PCA\n",
      "Neighbors\n",
      "Leiden\n",
      "UMAP\n",
      "Saving processed data\n",
      "ASDC\n",
      "Loading data\n",
      "Combining and processing\n",
      "(4008, 33538)\n",
      "Normalizing\n",
      "Finding HVGs\n",
      "(4008, 1920)\n",
      "Scaling\n",
      "PCA\n",
      "Neighbors\n",
      "Leiden\n",
      "UMAP\n",
      "Saving processed data\n",
      "CD8aa\n",
      "Loading data\n",
      "Combining and processing\n",
      "(17893, 33538)\n",
      "Normalizing\n",
      "Finding HVGs\n",
      "(17893, 1522)\n",
      "Scaling\n",
      "PCA\n",
      "Neighbors\n",
      "Leiden\n",
      "UMAP\n",
      "Saving processed data\n",
      "pDC\n",
      "Loading data\n",
      "Combining and processing\n",
      "(62064, 33538)\n",
      "Normalizing\n",
      "Finding HVGs\n",
      "(62064, 1286)\n",
      "Scaling\n",
      "PCA\n",
      "Neighbors\n",
      "Leiden\n",
      "UMAP\n",
      "Saving processed data\n",
      "Erythrocyte\n",
      "Loading data\n",
      "Combining and processing\n",
      "(28362, 33538)\n",
      "Normalizing\n",
      "Finding HVGs\n",
      "(28362, 4311)\n",
      "Scaling\n",
      "PCA\n",
      "Neighbors\n",
      "Leiden\n",
      "UMAP\n",
      "Saving processed data\n"
     ]
    }
   ],
   "source": [
    "for cell_type in l2_types:\n",
    "    print(cell_type)\n",
    "    \n",
    "    # Read data from each group for this type in parallel\n",
    "    print('Loading data')\n",
    "    type_adata_dict = {}\n",
    "\n",
    "    with ThreadPoolExecutor(max_workers = 8) as executor:\n",
    "        futures = {\n",
    "            executor.submit(\n",
    "                read_l2_type, \n",
    "                h5ad_conn[group_name], \n",
    "                cell_type): group_name \n",
    "            for group_name in h5ad_conn.keys()\n",
    "        }\n",
    "        for future in concurrent.futures.as_completed(futures):\n",
    "            future_group = futures[future]\n",
    "            type_adata_dict[future_group] = future.result()\n",
    "    \n",
    "    # If small, combine and process\n",
    "    print('Combining and processing')\n",
    "    type_adata = sc.concat(type_adata_dict)\n",
    "    print(type_adata.shape)\n",
    "    type_adata = process_adata(type_adata)\n",
    "    \n",
    "    print('Saving processed data')\n",
    "    out_type = format_cell_type(cell_type)\n",
    "    out_file = 'output/diha_qc_{c}_{d}.h5ad'.format(\n",
    "        g = group_name,\n",
    "        c = out_type,\n",
    "        d = date.today()\n",
    "    )\n",
    "    type_adata.write_h5ad(out_file)\n",
    "    out_files.append(out_file)"
   ]
  },
  {
   "cell_type": "markdown",
   "id": "1307c91d-6eb8-4da0-b159-fc523c7c099a",
   "metadata": {},
   "source": [
    "## Upload Cell Type data to HISE\n",
    "\n",
    "Finally, we'll use `hisepy.upload.upload_files()` to send a copy of our output to HISE to use for downstream analysis steps."
   ]
  },
  {
   "cell_type": "code",
   "execution_count": 30,
   "id": "6409dfc7-7ba0-4b2c-ac46-f38c5f22e08a",
   "metadata": {},
   "outputs": [],
   "source": [
    "study_space_uuid = 'de025812-5e73-4b3c-9c3b-6d0eac412f2a'\n",
    "title = 'DIHA PBMC L2 Pre-cleanup Small Types .h5ad {d}'.format(d = date.today())"
   ]
  },
  {
   "cell_type": "code",
   "execution_count": 31,
   "id": "c7be733d-45bd-4eba-ab61-5ecfc1f25c18",
   "metadata": {},
   "outputs": [
    {
     "data": {
      "text/plain": [
       "'uranium-sodium-cesium'"
      ]
     },
     "execution_count": 31,
     "metadata": {},
     "output_type": "execute_result"
    }
   ],
   "source": [
    "search_id = element_id()\n",
    "search_id"
   ]
  },
  {
   "cell_type": "code",
   "execution_count": 32,
   "id": "9445c364-9888-4e30-98d0-912dae151e1a",
   "metadata": {},
   "outputs": [
    {
     "data": {
      "text/plain": [
       "['73894515-92dc-4865-9247-e38f7911a529',\n",
       " '361c5e80-2a86-4c26-a494-fb46401fe1e2',\n",
       " '1ff69ea5-e189-4875-9178-5af2a61186e6',\n",
       " '72ca8c5f-3e1c-4360-856d-b53657697793',\n",
       " '74755a15-f0a1-411e-b071-7fd802b60e80',\n",
       " '277489fd-12fe-48ed-b3a0-7494858fa512',\n",
       " '425b59cc-098d-4833-ae5f-57c4582421c9',\n",
       " '5ba4e36b-3928-4023-90a0-403e0c43a809',\n",
       " 'a0ce94a0-de3f-46a1-99bc-3acf24dae0ea',\n",
       " 'd0b5c470-2481-455f-9b8e-b6ca28ea4bbe',\n",
       " 'd9cffce7-4018-43b8-afea-9176b1b54532',\n",
       " '28a22e8e-0aca-45db-9e28-19907d297a38',\n",
       " 'ee89cb24-7439-486c-8f50-983895e6d4b7',\n",
       " 'bb47f341-d036-4054-8783-0a66b44e5c08',\n",
       " '6331f471-6bc3-49a8-9b4b-d83c7dd95320',\n",
       " 'bdaef83d-76da-4bc7-acc6-5db2006908fa']"
      ]
     },
     "execution_count": 32,
     "metadata": {},
     "output_type": "execute_result"
    }
   ],
   "source": [
    "in_files = list(h5ad_uuids.values()) + list(pq_uuids.values())\n",
    "in_files"
   ]
  },
  {
   "cell_type": "code",
   "execution_count": 33,
   "id": "273e0b58-ba20-4a29-a98a-b97d321c33b5",
   "metadata": {},
   "outputs": [
    {
     "data": {
      "text/plain": [
       "['output/diha_qc_CD16_monocyte_2024-04-20.h5ad',\n",
       " 'output/diha_qc_CD56bright_NK_cell_2024-04-20.h5ad',\n",
       " 'output/diha_qc_Naive_CD8_T_cell_2024-04-20.h5ad',\n",
       " 'output/diha_qc_Treg_2024-04-20.h5ad',\n",
       " 'output/diha_qc_Plasma_cell_2024-04-20.h5ad',\n",
       " 'output/diha_qc_ILC_2024-04-20.h5ad',\n",
       " 'output/diha_qc_Platelet_2024-04-20.h5ad',\n",
       " 'output/diha_qc_DN_T_cell_2024-04-20.h5ad',\n",
       " 'output/diha_qc_cDC1_2024-04-20.h5ad',\n",
       " 'output/diha_qc_MAIT_2024-04-20.h5ad',\n",
       " 'output/diha_qc_Proliferating_T_cell_2024-04-20.h5ad',\n",
       " 'output/diha_qc_Intermediate_monocyte_2024-04-20.h5ad',\n",
       " 'output/diha_qc_Effector_B_cell_2024-04-20.h5ad',\n",
       " 'output/diha_qc_Memory_B_cell_2024-04-20.h5ad',\n",
       " 'output/diha_qc_Progenitor_cell_2024-04-20.h5ad',\n",
       " 'output/diha_qc_Transitional_B_cell_2024-04-20.h5ad',\n",
       " 'output/diha_qc_Naive_B_cell_2024-04-21.h5ad',\n",
       " 'output/diha_qc_gdT_2024-04-21.h5ad',\n",
       " 'output/diha_qc_cDC2_2024-04-21.h5ad',\n",
       " 'output/diha_qc_Proliferating_NK_cell_2024-04-21.h5ad',\n",
       " 'output/diha_qc_ASDC_2024-04-21.h5ad',\n",
       " 'output/diha_qc_CD8aa_2024-04-21.h5ad',\n",
       " 'output/diha_qc_pDC_2024-04-21.h5ad',\n",
       " 'output/diha_qc_Erythrocyte_2024-04-21.h5ad']"
      ]
     },
     "execution_count": 33,
     "metadata": {},
     "output_type": "execute_result"
    }
   ],
   "source": [
    "out_files"
   ]
  },
  {
   "cell_type": "code",
   "execution_count": 35,
   "id": "22bba57d-466f-4d3e-9f6e-c7ccb57b8fa7",
   "metadata": {},
   "outputs": [
    {
     "name": "stdout",
     "output_type": "stream",
     "text": [
      "you are trying to upload file_ids... ['output/diha_qc_CD16_monocyte_2024-04-20.h5ad', 'output/diha_qc_CD56bright_NK_cell_2024-04-20.h5ad', 'output/diha_qc_Naive_CD8_T_cell_2024-04-20.h5ad', 'output/diha_qc_Treg_2024-04-20.h5ad', 'output/diha_qc_Plasma_cell_2024-04-20.h5ad', 'output/diha_qc_ILC_2024-04-20.h5ad', 'output/diha_qc_Platelet_2024-04-20.h5ad', 'output/diha_qc_DN_T_cell_2024-04-20.h5ad', 'output/diha_qc_cDC1_2024-04-20.h5ad', 'output/diha_qc_MAIT_2024-04-20.h5ad', 'output/diha_qc_Proliferating_T_cell_2024-04-20.h5ad', 'output/diha_qc_Intermediate_monocyte_2024-04-20.h5ad', 'output/diha_qc_Effector_B_cell_2024-04-20.h5ad', 'output/diha_qc_Memory_B_cell_2024-04-20.h5ad', 'output/diha_qc_Progenitor_cell_2024-04-20.h5ad', 'output/diha_qc_Transitional_B_cell_2024-04-20.h5ad', 'output/diha_qc_Naive_B_cell_2024-04-21.h5ad', 'output/diha_qc_gdT_2024-04-21.h5ad', 'output/diha_qc_cDC2_2024-04-21.h5ad', 'output/diha_qc_Proliferating_NK_cell_2024-04-21.h5ad', 'output/diha_qc_ASDC_2024-04-21.h5ad', 'output/diha_qc_CD8aa_2024-04-21.h5ad', 'output/diha_qc_pDC_2024-04-21.h5ad', 'output/diha_qc_Erythrocyte_2024-04-21.h5ad']. Do you truly want to proceed?\n"
     ]
    },
    {
     "name": "stdin",
     "output_type": "stream",
     "text": [
      "(y/n) y\n"
     ]
    },
    {
     "data": {
      "text/plain": [
       "{'trace_id': '34981c98-42d7-42e3-afcc-0af57862ee3f',\n",
       " 'files': ['output/diha_qc_CD16_monocyte_2024-04-20.h5ad',\n",
       "  'output/diha_qc_CD56bright_NK_cell_2024-04-20.h5ad',\n",
       "  'output/diha_qc_Naive_CD8_T_cell_2024-04-20.h5ad',\n",
       "  'output/diha_qc_Treg_2024-04-20.h5ad',\n",
       "  'output/diha_qc_Plasma_cell_2024-04-20.h5ad',\n",
       "  'output/diha_qc_ILC_2024-04-20.h5ad',\n",
       "  'output/diha_qc_Platelet_2024-04-20.h5ad',\n",
       "  'output/diha_qc_DN_T_cell_2024-04-20.h5ad',\n",
       "  'output/diha_qc_cDC1_2024-04-20.h5ad',\n",
       "  'output/diha_qc_MAIT_2024-04-20.h5ad',\n",
       "  'output/diha_qc_Proliferating_T_cell_2024-04-20.h5ad',\n",
       "  'output/diha_qc_Intermediate_monocyte_2024-04-20.h5ad',\n",
       "  'output/diha_qc_Effector_B_cell_2024-04-20.h5ad',\n",
       "  'output/diha_qc_Memory_B_cell_2024-04-20.h5ad',\n",
       "  'output/diha_qc_Progenitor_cell_2024-04-20.h5ad',\n",
       "  'output/diha_qc_Transitional_B_cell_2024-04-20.h5ad',\n",
       "  'output/diha_qc_Naive_B_cell_2024-04-21.h5ad',\n",
       "  'output/diha_qc_gdT_2024-04-21.h5ad',\n",
       "  'output/diha_qc_cDC2_2024-04-21.h5ad',\n",
       "  'output/diha_qc_Proliferating_NK_cell_2024-04-21.h5ad',\n",
       "  'output/diha_qc_ASDC_2024-04-21.h5ad',\n",
       "  'output/diha_qc_CD8aa_2024-04-21.h5ad',\n",
       "  'output/diha_qc_pDC_2024-04-21.h5ad',\n",
       "  'output/diha_qc_Erythrocyte_2024-04-21.h5ad']}"
      ]
     },
     "execution_count": 35,
     "metadata": {},
     "output_type": "execute_result"
    }
   ],
   "source": [
    "hisepy.upload.upload_files(\n",
    "    files = out_files,\n",
    "    study_space_id = study_space_uuid,\n",
    "    title = title,\n",
    "    input_file_ids = in_files,\n",
    "    destination = search_id\n",
    ")"
   ]
  },
  {
   "cell_type": "code",
   "execution_count": null,
   "id": "50904609-d4f5-4dc6-a259-5fbdfca76a27",
   "metadata": {},
   "outputs": [],
   "source": [
    "import session_info\n",
    "session_info.show()"
   ]
  },
  {
   "cell_type": "code",
   "execution_count": null,
   "id": "2ddf606f-ee6c-4695-860e-524636f619c9",
   "metadata": {},
   "outputs": [],
   "source": []
  }
 ],
 "metadata": {
  "kernelspec": {
   "display_name": "Python 3 (ipykernel)",
   "language": "python",
   "name": "python3"
  },
  "language_info": {
   "codemirror_mode": {
    "name": "ipython",
    "version": 3
   },
   "file_extension": ".py",
   "mimetype": "text/x-python",
   "name": "python",
   "nbconvert_exporter": "python",
   "pygments_lexer": "ipython3",
   "version": "3.10.13"
  }
 },
 "nbformat": 4,
 "nbformat_minor": 5
}
